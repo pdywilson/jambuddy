{
 "cells": [
  {
   "cell_type": "code",
   "execution_count": 1,
   "metadata": {
    "colab": {},
    "colab_type": "code",
    "id": "VSrdFgxyDrmG",
    "scrolled": false
   },
   "outputs": [],
   "source": [
    "%matplotlib inline\n",
    "import os\n",
    "import time\n",
    "import numpy as np\n",
    "import matplotlib.pyplot as plt\n",
    "import IPython.display\n",
    "import collections\n",
    "from collections import Counter\n",
    "import seaborn as sns\n",
    "#import pyfluidsynth\n",
    "import random\n",
    "\n",
    "from pathlib import Path\n",
    "import pretty_midi\n",
    "import librosa.display\n",
    "import glob\n",
    "import datetime\n",
    "\n",
    "from music21 import *\n",
    "\n",
    "import tensorflow as tf\n",
    "tf.enable_eager_execution()\n",
    "\n",
    "%load_ext autoreload\n",
    "%autoreload 2\n",
    "\n",
    "folder = 'train/'\n"
   ]
  },
  {
   "cell_type": "code",
   "execution_count": 2,
   "metadata": {
    "colab": {
     "base_uri": "https://localhost:8080/",
     "height": 122
    },
    "colab_type": "code",
    "id": "YbO_nrQpDrmO",
    "outputId": "ba1ca338-a594-49d2-986d-5914746ffb96"
   },
   "outputs": [],
   "source": [
    "# some prep steps\n",
    "# for google colab\n",
    "try:\n",
    "    import google.colab\n",
    "    IN_COLAB = True\n",
    "except:\n",
    "    IN_COLAB = False\n",
    "    \n",
    "if IN_COLAB:\n",
    "    from google.colab import drive\n",
    "    drive.mount('/content/drive/')\n",
    "    data_folder = \"/content/drive/My Drive/Colab Notebooks/data/\"\n",
    "    os.chdir(data_folder)\n",
    "else:\n",
    "    data_folder = \"\"\n"
   ]
  },
  {
   "cell_type": "markdown",
   "metadata": {
    "colab_type": "text",
    "id": "95G80nAcDrmS"
   },
   "source": [
    "# A. Preprocess Midi file\n",
    "#### Choose a harmony and a melody track from a MIDI file"
   ]
  },
  {
   "cell_type": "code",
   "execution_count": 3,
   "metadata": {
    "colab": {},
    "colab_type": "code",
    "id": "tdAtAPtXNX61"
   },
   "outputs": [],
   "source": [
    "def plot_piano_roll(pm, start_pitch, end_pitch, fs=100):\n",
    "    librosa.display.specshow(pm.get_piano_roll(fs)[start_pitch:end_pitch],\n",
    "                             hop_length=1, sr=fs, x_axis='time', y_axis='cqt_note',\n",
    "                             fmin=pretty_midi.note_number_to_hz(start_pitch))"
   ]
  },
  {
   "cell_type": "code",
   "execution_count": 4,
   "metadata": {
    "colab": {},
    "colab_type": "code",
    "id": "iSk5F55lDrmb"
   },
   "outputs": [],
   "source": [
    "## PARAMS\n",
    "# highest note is melody\n",
    "LOW = 48 # C2=48, C3=60, C4=72, C5=84, C6=96\n",
    "HIGH = 84 # range(48,84) = 36 notes \n",
    "\n",
    "# input sizes\n",
    "MELODY = 37 \n",
    "TIMES = 48\n",
    "CHORDS = 12\n"
   ]
  },
  {
   "cell_type": "code",
   "execution_count": 5,
   "metadata": {
    "colab": {},
    "colab_type": "code",
    "id": "eAk1YucbNX67"
   },
   "outputs": [],
   "source": [
    "# krumhansl schmuckler\n",
    "# adapted from https://gist.github.com/bmcfee/1f66825cef2eb34c839b42dddbad49fd\n",
    "import scipy.linalg\n",
    "import scipy.stats\n",
    "\n",
    "def ks_key(X, weights='kessler'):\n",
    "    '''Estimate the key from a pitch class distribution\n",
    "    \n",
    "    Parameters\n",
    "    ----------\n",
    "    X : np.ndarray, shape=(12,)\n",
    "        Pitch-class energy distribution.  Need not be normalized\n",
    "        \n",
    "    Returns\n",
    "    -------\n",
    "    major : np.ndarray, shape=(12,)\n",
    "    minor : np.ndarray, shape=(12,)\n",
    "    \n",
    "        For each key (C:maj, ..., B:maj) and (C:min, ..., B:min),\n",
    "        the correlation score for `X` against that key.\n",
    "    '''\n",
    "    X = scipy.stats.zscore(X)\n",
    "    \n",
    "    # Coefficients from Kumhansl and Schmuckler\n",
    "    # as reported here: http://rnhart.net/articles/key-finding/\n",
    "    \n",
    "    # weights as https://musicinformationretrieval.wordpress.com/2017/02/24/state-of-the-art-2/\n",
    "    if weights == 'kessler':\n",
    "        major = np.asarray([6.35, 2.23, 3.48, 2.33, 4.38, 4.09, 2.52, 5.19, 2.39, 3.66, 2.29, 2.88])\n",
    "        minor = np.asarray([6.33, 2.68, 3.52, 5.38, 2.60, 3.53, 2.54, 4.75, 3.98, 2.69, 3.34, 3.17])\n",
    "    elif weights == 'schmuckler':\n",
    "        major = np.asarray([6.35, 2.33, 3.48, 2.33, 4.38, 4.09, 2.52, 5.19, 2.39, 3.66, 2.29, 2.88])\n",
    "        minor = np.asarray([6.33, 2.68, 3.52, 5.38, 2.60, 3.53, 2.54, 4.75, 3.98, 2.69, 3.34, 3.17])\n",
    "    elif weights == 'aarden':\n",
    "        major = np.asarray([17.7661, 0.145624, 14.9265, 0.160186, 19.8049, 11.3587, 0.281248, 22.062, 0.145624, 8.15494, 0.232998, 4.95122])\n",
    "        minor = np.asarray([18.2648, 0.737619, 14.0499, 16.8599, 0.702494, 14.4362, 0.702494, 18.6161, 4.56621, 1.93186, 7.37619, 1.75623])\n",
    "    elif weights == 'sapp':\n",
    "        major = np.asarray([2, 0, 1, 0, 1, 1, 0, 2, 0, 1, 0, 1])\n",
    "        minor = np.asarray([2, 0, 1, 1, 0, 1, 0, 2, 1, 0, 0.5, 0.5])\n",
    "    elif weights == 'bellman':\n",
    "        major = np.asarray([16.8, 0.86, 12.95, 1.41, 13.49, 11.93, 1.25, 20.28, 1.8, 8.04, 0.62, 10.57])\n",
    "        minor = np.asarray([18.16, 0.69, 12.99, 13.34, 1.07, 11.15, 1.38, 21.07, 7.49, 1.53, 0.92, 10.21])\n",
    "    elif weights == 'temperley':\n",
    "        major = np.asarray([0.748, 0.06, 0.488, 0.082, 0.67, 0.46, 0.096, 0.715, 0.104, 0.366, 0.057, 0.4])\n",
    "        minor = np.asarray([0.712, 0.84, 0.474, 0.618, 0.049, 0.46, 0.105, 0.747, 0.404, 0.067, 0.133, 0.33])\n",
    "        \n",
    "        \n",
    "    major = scipy.stats.zscore(major)\n",
    "    minor = scipy.stats.zscore(minor)\n",
    "    \n",
    "    # Generate all rotations of major\n",
    "    major = scipy.linalg.circulant(major)\n",
    "    minor = scipy.linalg.circulant(minor)\n",
    "    \n",
    "    major = major.T.dot(X)\n",
    "    minor = minor.T.dot(X)\n",
    "    \n",
    "    major_max = np.argmax(major)\n",
    "    minor_max = np.argmax(minor)\n",
    "    return major_max if np.max(major) >= np.max(minor) else minor_max+12"
   ]
  },
  {
   "cell_type": "code",
   "execution_count": 6,
   "metadata": {
    "colab": {},
    "colab_type": "code",
    "id": "eYnJdXBYDrmf"
   },
   "outputs": [],
   "source": [
    "# MIDI processing\n",
    "def getTracks(file):\n",
    "    pm_harmony = pretty_midi.PrettyMIDI(folder+'chords/'+file).instruments[0].notes\n",
    "    pm_melody = pretty_midi.PrettyMIDI(folder+'melody/'+file).instruments[0].notes\n",
    "    return {'melody': pm_melody, 'harmony': pm_harmony}\n",
    "\n",
    "\n",
    "\n",
    "def getMelodyAndHarmonyBass(file):\n",
    "    #already midi file with one piano and one melody\n",
    "    pm = pretty_midi.PrettyMIDI(file)\n",
    "    pm.remove_invalid_notes()\n",
    "    for i, elt in enumerate(pm.instruments):\n",
    "        if 'piano' in pm.instruments[i].name.lower():\n",
    "            piano = pm.instruments[i].notes\n",
    "        elif 'bass' in pm.instruments[i].name.lower():\n",
    "            bass = pm.instruments[i].notes\n",
    "    \n",
    "    result = {'melody': bass, 'harmony': piano}\n",
    "    \n",
    "    \n",
    "    return result\n",
    "\n",
    "\n",
    "def getMelodyAndHarmony(file):\n",
    "    def padAndAdd(a,b):\n",
    "        return sorted(a+b,key= lambda x:x.start)\n",
    "    \n",
    "    pm = pretty_midi.PrettyMIDI(file)\n",
    "    pm.remove_invalid_notes()\n",
    "    print(\"\\nEasy Processing: \"+file)\n",
    "    \n",
    "    if len(pm.instruments) == 1:\n",
    "        print(\"Both: Using only track for both harmony and melody\")\n",
    "        pianoroll = pm.instruments[0].notes\n",
    "        return {'melody': pianoroll, 'harmony': pianoroll}\n",
    "    \n",
    "    else:\n",
    "        maxlen = 0\n",
    "        pianos = []\n",
    "        guitars = []\n",
    "        melodies = []\n",
    "        for i, elt in enumerate(pm.instruments):\n",
    "            #if pm.instruments[i].is_drum:\n",
    "            #    continue\n",
    "            pianoroll = pm.instruments[i].get_piano_roll().T\n",
    "            numnotes = pianoroll.nonzero()[0].shape[0]\n",
    "            if numnotes > maxlen:\n",
    "                mostnotes = i\n",
    "                maxlen = numnotes\n",
    "            if 'piano' in pm.instruments[i].name.lower():             #if pm.instruments[i].program in range(8): # MIDI 0..7 are pianos\n",
    "                pianos.append((pm.instruments[i].notes,numnotes))\n",
    "            if 'guitar' in pm.instruments[i].name.lower():             #if pm.instruments[i].program in range(24,32):\n",
    "                guitars.append((pm.instruments[i].notes,numnotes))\n",
    "            if 'melody' in pm.instruments[i].name.lower():\n",
    "                # melodies.append((pianoroll,numnotes)) do i really want to padandadd two melodies always??\n",
    "                melodies.append(pm.instruments[i].notes)\n",
    "\n",
    "        if pianos != []:\n",
    "            print(\"Harmony: Using piano with most notes as harmony of\", len(pianos))\n",
    "            pianowithmostnotes = max(pianos, key=lambda x: x[1])\n",
    "            harmonytrack = pianowithmostnotes[0]\n",
    "        elif guitars != []:\n",
    "            print(\"Harmony: Using guitar with most notes as harmony of\", len(guitars))\n",
    "            guitarwithmostnotes = max(guitars, key=lambda x: x[1])\n",
    "            harmonytrack = guitarwithmostnotes[0]\n",
    "        else:\n",
    "            print(\"Error: no piano or guitar track found\")\n",
    "            harmonytrack = pm.instruments[0].notes\n",
    "            return\n",
    "\n",
    "        if len(melodies) == 1:\n",
    "            print(\"Melody: using only melody track as melody\")\n",
    "            melodytrack = melodies[0]\n",
    "        elif len(melodies) == 2:\n",
    "            print(\"Melody: padding and adding two melodies to one\")\n",
    "            melodytrack = padAndAdd(melodies[0], melodies[1])\n",
    "        elif len(melodies) > 2:\n",
    "            print(\"Melody: more than 2 melody tracks. padding and adding first two of # \", len(melodies),\"melodies.\")\n",
    "            melodytrack = padAndAdd(melodies[0], melodies[1])\n",
    "        else:\n",
    "            print(\"Error: no melody track found.\")\n",
    "            melodytrack = pm.instruments[0].notes\n",
    "            return\n",
    "\n",
    "        return {'melody': melodytrack, 'harmony': harmonytrack}\n",
    "\n",
    "def oneHot(idx, arraysize):\n",
    "    if idx >= arraysize:\n",
    "        print(\"error idx > arraysize\")\n",
    "        return\n",
    "    ar = np.zeros(arraysize)\n",
    "    ar[idx] = 1\n",
    "    return ar\n",
    "\n",
    "def processMidi(file):\n",
    "    #tracks = getMelodyAndHarmony(file)\n",
    "    #tracks = getMelodyAndHarmonyBass(file) //changing, this doesnt work anymore -> DACBass\n",
    "    tracks = getTracks(file)\n",
    "    \n",
    "    pm = pretty_midi.PrettyMIDI(folder+'chords/'+file)\n",
    "\n",
    "    pmnotes = tracks['melody']\n",
    "    notes, times = [], []\n",
    "    currenttime = 0\n",
    "    for i, note in enumerate(pmnotes):\n",
    "        if note.start > currenttime:\n",
    "            notes.append(MELODY-1)\n",
    "            duration = pm.time_to_tick(note.start-currenttime)\n",
    "            times.append(duration)\n",
    "        if note.pitch in range(LOW,HIGH):\n",
    "            notes.append(note.pitch - LOW)\n",
    "        else:\n",
    "            notes.append(note.pitch % 12)\n",
    "        if i < len(pmnotes)-1 and note.end > pmnotes[i+1].start: # overlap with next note\n",
    "            times.append(pm.time_to_tick(pmnotes[i+1].start - note.start))\n",
    "            currenttime = pmnotes[i+1].start\n",
    "        else:\n",
    "            times.append(pm.time_to_tick(note.end-note.start))\n",
    "            currenttime = note.end\n",
    "    times = np.array(np.round(np.array(times)/pm.resolution*12),dtype=np.int32)\n",
    "    \n",
    "    # getChords\n",
    "    pmnotes = tracks['harmony']\n",
    "    notesDict = {}\n",
    "    for i, note in enumerate(pmnotes):\n",
    "        startbeat = int(pm.time_to_tick(note.start)/pm.resolution)\n",
    "        endbeat = int(pm.time_to_tick(note.end)/pm.resolution)\n",
    "        if startbeat == endbeat:\n",
    "            endbeat += 1\n",
    "        for j in range(startbeat, endbeat): #evry beat\n",
    "            notesDict[j] = notesDict.get(j,np.zeros(12)) + oneHot(note.pitch % 12,12)\n",
    "    \n",
    "\n",
    "    # append for every beat (timestep) a vector. either np.zeros or chordinfovector\n",
    "    chords = []\n",
    "    for i in range(max(notesDict)): \n",
    "        chords.append(notesDict.get(i,np.zeros(12)))\n",
    "    chordsByBeat = np.array(chords)\n",
    "    \n",
    "\n",
    "    # connect notes and chords\n",
    "    currbeat = 0\n",
    "    newchords = []\n",
    "    for time in times:\n",
    "        beat = int(currbeat/12)\n",
    "        newchord = np.zeros(12)\n",
    "        for j in range(int((time)/12)): \n",
    "            if j+beat < chordsByBeat.shape[0]:\n",
    "                newchord += chordsByBeat[j+beat]\n",
    "        newchords.append(newchord)\n",
    "        currbeat += time\n",
    "    chords = np.array(newchords)\n",
    "    \n",
    "    \n",
    "     #cleanup\n",
    "    times[np.where(times > 48)[0]] = 48\n",
    "    notes = np.array(notes)[np.where(times > 0)[0]]\n",
    "    chords = chords[np.where(times > 0)[0]]\n",
    "    times = times[np.where(times > 0)[0]]\n",
    "    times = times - 1 # reshift to 0..47\n",
    "    \n",
    "    \n",
    "    #new Chord and key analysis, first only key analysis\n",
    "    algkey = ks_key(pm.get_pitch_class_histogram(), 'aarden')\n",
    "    key = oneHot(algkey,24)\n",
    "    \n",
    "    \n",
    "    \n",
    "    \n",
    "    return notes, times, chords, chordsByBeat, key"
   ]
  },
  {
   "cell_type": "code",
   "execution_count": 7,
   "metadata": {
    "colab": {},
    "colab_type": "code",
    "id": "0kvKT9W1Drmi"
   },
   "outputs": [],
   "source": [
    "# Input representation\n",
    "def getCircleOfThirds(note):\n",
    "    \"\"\"input: note, scalar in [0,C)\n",
    "    output: array, size (11,) including 3 bits for octave, 1 for rest\n",
    "    \"\"\"\n",
    "    circleMajor = lambda x: x%4\n",
    "    circleMinor = lambda x: x%3\n",
    "    representation = np.zeros(11)\n",
    "    if note < MELODY-1:\n",
    "        absnote = note % 12\n",
    "        octave = int(note/12)\n",
    "        representation[7+octave] = 1\n",
    "        representation[circleMajor(absnote)] = 1\n",
    "        representation[4+circleMinor(absnote)] = 1\n",
    "    else:\n",
    "        representation[-1] = 1\n",
    "    return representation\n",
    "\n",
    "def getDuration(duration):\n",
    "    \"\"\"input size (1,) in [0,48)\n",
    "       output size (6,)\n",
    "    \"\"\"\n",
    "    return np.unpackbits(np.uint8(duration))[2:]\n",
    "\n",
    "def getChord(chord):\n",
    "    \"\"\"input size (12,)\n",
    "    outputs current and next chord shape (7,)\n",
    "    \"\"\"\n",
    "    repre = np.zeros(7)\n",
    "    for i, elt in enumerate(chord):\n",
    "        x = elt * getCircleOfThirds(i)[:7]\n",
    "        repre += x\n",
    "    return repre\n",
    "\n",
    "def getFeatureVectors(processedMidi, modulation=False):\n",
    "    \"\"\"input size [7(pitch)+2(octaves)+1(Rest)]+6(duration)+7(chords)+7(nextchords)=30=Fsize #TODO: maybe change chords\n",
    "    Creates Feature Vector from notes lists.\n",
    "    Input: notes, times, chords from processMIDI\n",
    "    Output: features array, size: (N, Fsize)  Fsize varies\n",
    "    \"\"\"\n",
    "    notes, times, chords, chordsByBeat, key = processedMidi\n",
    "    features = []\n",
    "    for i, note in enumerate(notes[:-1]):\n",
    "        feature = np.empty(0)\n",
    "        if encodingDict['melody']:\n",
    "            if notes[i] < MELODY: # pitch or pause bit\n",
    "                feature = np.concatenate((feature, oneHot(notes[i],MELODY)))\n",
    "            else:\n",
    "                print(\"melody over 37\")\n",
    "                feature = np.concatenate((feature, np.zeros(MELODY)))\n",
    "            \n",
    "        if encodingDict['melodyModulo']: \n",
    "            if notes[i] < MELODY-1: # only pitch bit or zeros if pause\n",
    "                feature = np.concatenate((feature, oneHot(notes[i]%12,12)))\n",
    "            else:\n",
    "                feature = np.concatenate((feature, np.zeros(12)))\n",
    "        if encodingDict['melodyEncoded']: # pitch+octave+rest\n",
    "            feature = np.concatenate((feature,getCircleOfThirds(note)))\n",
    "        if encodingDict['duration']:\n",
    "            feature = np.concatenate((feature,oneHot(int(times[i]),48)))  \n",
    "        if encodingDict['durationEncoded']:\n",
    "            feature = np.concatenate((feature,getDuration(times[i])))\n",
    "        if encodingDict['chordsNormally']:\n",
    "            feature = np.concatenate((feature,chords[i]))\n",
    "            feature = np.concatenate((feature,chords[i+1]))\n",
    "        if encodingDict['chordsEncoded']:\n",
    "            feature = np.concatenate((feature,getChord(chords[i])))  # chord ERROR: MAKE THIS BETTER\n",
    "            feature = np.concatenate((feature,getChord(chords[i+1])))   # chord ERROR: MAKE THIS BETTER\n",
    "        if encodingDict['key']:\n",
    "            feature = np.concatenate((feature,key))\n",
    "        features.append(feature)\n",
    "    features = np.array(features)\n",
    "    return features.astype('float32')\n",
    "\n",
    "def getInputSequences(processedMidi, padding=False, seq_len=16):\n",
    "    \"\"\"Create Net Input.\n",
    "    Input: features from getFeatureVectors or getEncodedFeatureVectors\n",
    "    Output: \n",
    "        - Sequences, size: (157, seq_len)\n",
    "        - Labels, one-hot, size: (MELODY,)\n",
    "    \"\"\"\n",
    "    features = getFeatureVectors(processedMidi)\n",
    "    notes, times, _, _, _ = processedMidi\n",
    "    sequences = []\n",
    "    labels = []\n",
    "    i = 0\n",
    "    if padding == True:\n",
    "        padded_notes = np.concatenate((np.zeros((seq_len,features.shape[1])),features[:seq_len]))\n",
    "        for j in range(seq_len):\n",
    "            sequences.append(padded_notes[j:j+seq_len])\n",
    "            label_pitch = notes[j]\n",
    "            label_duration = times[j]\n",
    "            labels.append((label_pitch, label_duration))\n",
    "    while i+seq_len < features.shape[0]:\n",
    "        sequences.append(features[i:i+seq_len])\n",
    "        label_pitch = notes[i+seq_len]\n",
    "        label_duration = times[i+seq_len]\n",
    "        labels.append((label_pitch, label_duration))\n",
    "        i += 1     # or += seq_len\n",
    "        \n",
    "    sequences = np.array(sequences)\n",
    "    labels = np.array(labels)\n",
    "    return sequences, labels\n",
    "\n",
    "def modulate(processedMidi, modulate=0):\n",
    "    \"\"\"modulates downwards\"\"\"\n",
    "    notes, times, chords, chordsByBeat, key = processedMidi\n",
    "    i = modulate\n",
    "    modnotes = notes - i\n",
    "    modnotes[np.where(modnotes == 36 - i)[0]] = 36\n",
    "    modnotes[np.where(modnotes < 0)[0]] = 36\n",
    "\n",
    "    modchords = np.append(chords[:,i:],chords[:,:i],axis=1)\n",
    "\n",
    "    if chordsByBeat is not None:\n",
    "        modcbb = np.append(chordsByBeat[:,i:],chordsByBeat[:,:i],axis=1)\n",
    "    else:\n",
    "        modcbb = None\n",
    "\n",
    "    processedMidi = modnotes, times, modchords, modcbb, key\n",
    "    return processedMidi"
   ]
  },
  {
   "cell_type": "code",
   "execution_count": 8,
   "metadata": {
    "colab": {},
    "colab_type": "code",
    "id": "mVE0og8fDrmk"
   },
   "outputs": [],
   "source": [
    "# Choose encoding and load files\n",
    "encodingDict = {\n",
    "    'melody': True,\n",
    "    'melodyModulo': True,\n",
    "    'melodyEncoded': False,\n",
    "    'duration': False,\n",
    "    'durationEncoded': False,\n",
    "    'chordsNormally': True,\n",
    "    'chordsEncoded': False,\n",
    "    'key': False\n",
    "}"
   ]
  },
  {
   "cell_type": "markdown",
   "metadata": {
    "colab_type": "text",
    "id": "0jBnOuprDrmn"
   },
   "source": [
    "# B. Load Data"
   ]
  },
  {
   "cell_type": "code",
   "execution_count": 9,
   "metadata": {
    "colab": {
     "base_uri": "https://localhost:8080/",
     "height": 187
    },
    "colab_type": "code",
    "id": "0SedqNjRDrmo",
    "outputId": "95b6a8f4-84ec-44d8-ad19-99eb596a65ec",
    "scrolled": false
   },
   "outputs": [
    {
     "data": {
      "text/plain": [
       "['014.mid', '028.mid', '029.mid', '015.mid']"
      ]
     },
     "execution_count": 9,
     "metadata": {},
     "output_type": "execute_result"
    }
   ],
   "source": [
    "# gets all .mid filenames from folder train/ in one line\n",
    "folder = 'datasets/trainData/'\n",
    "files = [file for file in os.listdir(folder+'chords')]\n",
    "files[:4]"
   ]
  },
  {
   "cell_type": "code",
   "execution_count": 10,
   "metadata": {},
   "outputs": [
    {
     "data": {
      "text/plain": [
       "(60, 83)"
      ]
     },
     "execution_count": 10,
     "metadata": {},
     "output_type": "execute_result"
    }
   ],
   "source": [
    "# min and max note\n",
    "min([note.pitch for file in files for note in pretty_midi.PrettyMIDI(folder+'melody/'+file).instruments[0].notes]),\\\n",
    "max([note.pitch for file in files for note in pretty_midi.PrettyMIDI(folder+'melody/'+file).instruments[0].notes]),\\\n"
   ]
  },
  {
   "cell_type": "code",
   "execution_count": 11,
   "metadata": {
    "colab": {
     "base_uri": "https://localhost:8080/",
     "height": 1000
    },
    "colab_type": "code",
    "id": "piJAllN6Drmr",
    "outputId": "e820146b-6bc5-4b3c-8a37-2ae149e86e23",
    "scrolled": true
   },
   "outputs": [
    {
     "data": {
      "text/plain": [
       "((16175, 8, 73), (16175, 2))"
      ]
     },
     "execution_count": 11,
     "metadata": {},
     "output_type": "execute_result"
    }
   ],
   "source": [
    "modulation = True\n",
    "\n",
    "for i, file in enumerate(files):\n",
    "#     print(i, file)\n",
    "    processedMidi = processMidi(file)\n",
    "    if modulation == True:\n",
    "        for mod_i in range(12): # modulate\n",
    "            processedMidi = modulate(processedMidi, modulate = mod_i)\n",
    "            sequences, labels = getInputSequences(processedMidi, padding=False, seq_len=8)\n",
    "            if labels.shape[0]>0:\n",
    "                X = sequences if i==0 else np.concatenate((X, sequences))\n",
    "                y = labels if i==0 else np.concatenate((y, labels))\n",
    "    else:\n",
    "        sequences, labels = getInputSequences(processedMidi, padding=False, seq_len=8)\n",
    "        if labels.shape[0] > 0:\n",
    "            X = sequences if i==0 else np.concatenate((X, sequences))\n",
    "            y = labels if i==0 else np.concatenate((y, labels))\n",
    "\n",
    "X.shape, y.shape"
   ]
  },
  {
   "cell_type": "code",
   "execution_count": 12,
   "metadata": {
    "colab": {},
    "colab_type": "code",
    "id": "C9duwFR6NX7f"
   },
   "outputs": [],
   "source": [
    "def writeMidiSample(notes, times, file, originalfile, tempo=120, resolution=12):\n",
    "    pm = pretty_midi.PrettyMIDI(resolution=resolution, initial_tempo=tempo)\n",
    "    pminst = pretty_midi.Instrument(program=0)\n",
    "    currtime = 0\n",
    "    for i, note in enumerate(notes):\n",
    "        if note != MELODY-1:\n",
    "            pitch = note+LOW\n",
    "            start = pm.tick_to_time(int(currtime))\n",
    "            end = pm.tick_to_time(int(currtime+times[i]))\n",
    "            if end > start:\n",
    "                pmnote = pretty_midi.Note(velocity=100, pitch = pitch, start=start, end=end)\n",
    "                pminst.notes.append(pmnote)\n",
    "        currtime += times[i]+1\n",
    "    pm.instruments.append(pminst)\n",
    "\n",
    "    pm.write(file)\n",
    "    return pm"
   ]
  },
  {
   "cell_type": "code",
   "execution_count": 13,
   "metadata": {
    "colab": {
     "base_uri": "https://localhost:8080/",
     "height": 372
    },
    "colab_type": "code",
    "id": "3mOyNUd7NX7i",
    "outputId": "44dcf729-959a-4654-fb76-c0d8be06eec2"
   },
   "outputs": [
    {
     "name": "stdout",
     "output_type": "stream",
     "text": [
      "[26, 26, 26, 26, 26, 24, 23, 21, 24]\n",
      "[2, 2, 2, 2, 2, 0, 11, 24, 29]\n"
     ]
    },
    {
     "data": {
      "text/html": [
       "\n",
       "                <audio  controls=\"controls\" >\n",
       "                    <source src=\"data:audio/wav;base64,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\" type=\"audio/wav\" />\n",
       "                    Your browser does not support the audio element.\n",
       "                </audio>\n",
       "              "
      ],
      "text/plain": [
       "<IPython.lib.display.Audio object>"
      ]
     },
     "metadata": {},
     "output_type": "display_data"
    },
    {
     "data": {
      "image/png": "[encoded data removed]",
      "text/plain": [
       "<Figure size 576x288 with 1 Axes>"
      ]
     },
     "metadata": {
      "image/png": {
       "height": 261,
       "width": 494
      },
      "needs_background": "light"
     },
     "output_type": "display_data"
    }
   ],
   "source": [
    "rand = random.randint(1,101)\n",
    "sample, samplelabel = X[rand], y[rand]\n",
    "\n",
    "\n",
    "notes, times = [], []\n",
    "for i in range(sample.shape[0]):\n",
    "    notes.append(np.argmax(sample[i,:MELODY]))\n",
    "    times.append(np.argmax(sample[i,MELODY:MELODY+TIMES]))\n",
    "notes.append(samplelabel[0])\n",
    "times.append(samplelabel[1])\n",
    "\n",
    "\n",
    "\n",
    "#look at a sample\n",
    "pm = writeMidiSample(notes, times, 'old_notebooks/treval/lookatsample.mid', file)\n",
    "plt.figure(figsize=(8, 4))\n",
    "plot_piano_roll(pm, LOW, HIGH)\n",
    "print(notes)\n",
    "print(times)\n",
    "display(IPython.display.Audio(pm.synthesize(fs=44000), rate=44000))   "
   ]
  },
  {
   "cell_type": "code",
   "execution_count": 14,
   "metadata": {
    "colab": {},
    "colab_type": "code",
    "id": "-Eyy1AH9NX7o"
   },
   "outputs": [],
   "source": [
    "#np.save('Xbig.npy',X)\n",
    "#np.save('ybig.npy',y)"
   ]
  },
  {
   "cell_type": "markdown",
   "metadata": {
    "colab_type": "text",
    "id": "aMgIdT4TNX7s"
   },
   "source": [
    "# just load"
   ]
  },
  {
   "cell_type": "code",
   "execution_count": 15,
   "metadata": {
    "colab": {},
    "colab_type": "code",
    "id": "d3o0rxw2NX7u"
   },
   "outputs": [],
   "source": [
    "# X = np.load('Xbig.npy')\n",
    "# y = np.load('ybig.npy')"
   ]
  },
  {
   "cell_type": "code",
   "execution_count": 16,
   "metadata": {
    "colab": {
     "base_uri": "https://localhost:8080/",
     "height": 284
    },
    "colab_type": "code",
    "id": "Uv4TY09ZDrmv",
    "outputId": "2a7b8077-6cb2-419a-fe73-6f931330ab84",
    "scrolled": true
   },
   "outputs": [
    {
     "data": {
      "text/plain": [
       "<matplotlib.axes._subplots.AxesSubplot at 0x13707f4e0>"
      ]
     },
     "execution_count": 16,
     "metadata": {},
     "output_type": "execute_result"
    },
    {
     "data": {
      "image/png": "[encoded data removed]",
      "text/plain": [
       "<Figure size 432x288 with 1 Axes>"
      ]
     },
     "metadata": {
      "image/png": {
       "height": 248,
       "width": 395
      },
      "needs_background": "light"
     },
     "output_type": "display_data"
    }
   ],
   "source": [
    "# stats of training data\n",
    "pitches = y[:,0]\n",
    "durations = y[:,1]\n",
    "sns.countplot(durations)"
   ]
  },
  {
   "cell_type": "code",
   "execution_count": 17,
   "metadata": {
    "colab": {
     "base_uri": "https://localhost:8080/",
     "height": 284
    },
    "colab_type": "code",
    "id": "uo0GQJA1Drmy",
    "outputId": "09ded831-1a45-4f91-ef0a-94925377d957",
    "scrolled": true
   },
   "outputs": [
    {
     "data": {
      "text/plain": [
       "<matplotlib.axes._subplots.AxesSubplot at 0x136ea4320>"
      ]
     },
     "execution_count": 17,
     "metadata": {},
     "output_type": "execute_result"
    },
    {
     "data": {
      "image/png": "[encoded data removed]",
      "text/plain": [
       "<Figure size 432x288 with 1 Axes>"
      ]
     },
     "metadata": {
      "image/png": {
       "height": 250,
       "width": 397
      },
      "needs_background": "light"
     },
     "output_type": "display_data"
    }
   ],
   "source": [
    "sns.countplot(pitches)"
   ]
  },
  {
   "cell_type": "code",
   "execution_count": 18,
   "metadata": {
    "colab": {
     "base_uri": "https://localhost:8080/",
     "height": 34
    },
    "colab_type": "code",
    "id": "kvY1xcgiDrm2",
    "outputId": "b99dfaac-21e4-4f42-a436-99ee1fb59d7a",
    "scrolled": false
   },
   "outputs": [
    {
     "data": {
      "text/plain": [
       "((13101, 8, 73), (13101, 2))"
      ]
     },
     "execution_count": 18,
     "metadata": {},
     "output_type": "execute_result"
    }
   ],
   "source": [
    "# train/val split\n",
    "n = 500000\n",
    "n = min(n,X.shape[0])\n",
    "m = int(0.9*n)\n",
    "data = X[:m]\n",
    "labels = y[:m]\n",
    "test_data = X[m:n]\n",
    "test_labels = y[m:n]\n",
    "\n",
    "perm = np.random.permutation(m)\n",
    "p = int(0.9*m)\n",
    "\n",
    "train_data = data[perm[:p]]\n",
    "train_labels = labels[perm[:p]]\n",
    "val_data = data[perm[p:]]\n",
    "val_labels = labels[perm[p:]]\n",
    "\n",
    "train_data.shape, train_labels.shape"
   ]
  },
  {
   "cell_type": "markdown",
   "metadata": {
    "colab_type": "text",
    "id": "b77owDQ-Drm5"
   },
   "source": [
    "### Load Data for Tensorflow"
   ]
  },
  {
   "cell_type": "code",
   "execution_count": 19,
   "metadata": {
    "colab": {},
    "colab_type": "code",
    "id": "402GwxTyNX8C"
   },
   "outputs": [],
   "source": [
    "batch_size = 32\n",
    "dataset = tf.data.Dataset.from_tensor_slices((train_data, train_labels))\n",
    "dataset = dataset.batch(batch_size, drop_remainder=True)\n",
    "valdataset = tf.data.Dataset.from_tensor_slices((val_data, val_labels))\n",
    "valdataset = valdataset.batch(batch_size, drop_remainder=True)"
   ]
  },
  {
   "cell_type": "code",
   "execution_count": 20,
   "metadata": {
    "colab": {},
    "colab_type": "code",
    "id": "0Ps1leCZDrm6",
    "scrolled": false
   },
   "outputs": [],
   "source": [
    "# ToDo\n",
    "# weighted randomsampler!\n",
    "# batchnormalization"
   ]
  },
  {
   "cell_type": "markdown",
   "metadata": {
    "colab_type": "text",
    "id": "IhxqWi8YDrm8"
   },
   "source": [
    "# C. Train a model"
   ]
  },
  {
   "cell_type": "code",
   "execution_count": 21,
   "metadata": {
    "colab": {},
    "colab_type": "code",
    "id": "XPH5jO9WNX8H"
   },
   "outputs": [],
   "source": [
    "def build(input_dim, seq_len, hidden_dim, num_layers, output_dim_pitch, output_dim_duration):\n",
    "    if tf.test.is_gpu_available():\n",
    "        LSTM = tf.keras.layers.CuDNNLSTM(hidden_dim, \n",
    "                                    return_sequences=True, \n",
    "                                    return_state=False, \n",
    "                                    recurrent_initializer='glorot_uniform')\n",
    "        lastlstm = tf.keras.layers.CuDNNLSTM(hidden_dim, \n",
    "                                    return_sequences=False, \n",
    "                                    return_state=False, \n",
    "                                    recurrent_initializer='glorot_uniform')\n",
    "    else:\n",
    "        LSTM = tf.keras.layers.LSTM(hidden_dim, \n",
    "                               return_sequences=True, \n",
    "                               return_state=False, \n",
    "                               recurrent_activation='sigmoid', \n",
    "                               recurrent_initializer='glorot_uniform')\n",
    "        lastlstm = tf.keras.layers.LSTM(hidden_dim, \n",
    "                               return_sequences=False, \n",
    "                               return_state=False, \n",
    "                               recurrent_activation='sigmoid', \n",
    "                               recurrent_initializer='glorot_uniform')\n",
    "    \n",
    "        \n",
    "    inputs = tf.keras.Input(shape=(seq_len, input_dim))\n",
    "    x = inputs\n",
    "    for i in range(num_layers-1):\n",
    "        x = LSTM(x)\n",
    "    x = lastlstm(x)\n",
    "    x = tf.keras.layers.Dropout(rate=0.3)(x)\n",
    "    pitch = tf.keras.layers.Dense(output_dim_pitch, activation='softmax', name='pitch_out')(x)\n",
    "#     duration = tf.keras.layers.Dense(output_dim_duration, activation='softmax', name='duration_out')(x)\n",
    "\n",
    "    model = tf.keras.Model(inputs=inputs, outputs=pitch)\n",
    "    return model\n",
    "    "
   ]
  },
  {
   "cell_type": "code",
   "execution_count": 22,
   "metadata": {
    "colab": {},
    "colab_type": "code",
    "id": "DcBZ0X21NX8K"
   },
   "outputs": [
    {
     "name": "stdout",
     "output_type": "stream",
     "text": [
      "WARNING:tensorflow:From /Library/Frameworks/Python.framework/Versions/3.6/lib/python3.6/site-packages/tensorflow/python/ops/tensor_array_ops.py:162: colocate_with (from tensorflow.python.framework.ops) is deprecated and will be removed in a future version.\n",
      "Instructions for updating:\n",
      "Colocations handled automatically by placer.\n",
      "WARNING:tensorflow:From /Library/Frameworks/Python.framework/Versions/3.6/lib/python3.6/site-packages/tensorflow/python/keras/layers/core.py:143: calling dropout (from tensorflow.python.ops.nn_ops) with keep_prob is deprecated and will be removed in a future version.\n",
      "Instructions for updating:\n",
      "Please use `rate` instead of `keep_prob`. Rate should be set to `rate = 1 - keep_prob`.\n"
     ]
    }
   ],
   "source": [
    "# Build Model\n",
    "model_params = {\n",
    "    'input_dim': train_data.shape[-1],\n",
    "    'seq_len': None,\n",
    "    'hidden_dim': 128,\n",
    "    'num_layers': 2,\n",
    "    'output_dim_pitch': MELODY,\n",
    "    'output_dim_duration': TIMES,\n",
    "}\n",
    "\n",
    "model = build(**model_params)"
   ]
  },
  {
   "cell_type": "code",
   "execution_count": 23,
   "metadata": {
    "colab": {},
    "colab_type": "code",
    "id": "5VJuTqB8NX8M"
   },
   "outputs": [],
   "source": [
    "# tf.keras.utils.plot_model(model, show_shapes=True)"
   ]
  },
  {
   "cell_type": "code",
   "execution_count": 24,
   "metadata": {
    "colab": {},
    "colab_type": "code",
    "id": "mFzXM-XbNX8Q"
   },
   "outputs": [],
   "source": [
    "# checkpoint_dir = './training_checkpoints'\n",
    "# checkpoint_prefix = os.path.join(checkpoint_dir, \"ckpt\")\n",
    "# #checkpoint = tf.train.Checkpoint(optimizer=optimizer, model=model)"
   ]
  },
  {
   "cell_type": "code",
   "execution_count": 25,
   "metadata": {
    "colab": {},
    "colab_type": "code",
    "id": "yICpioTmNX8T"
   },
   "outputs": [],
   "source": [
    "model.compile(\n",
    "    optimizer='adam',\n",
    "    loss={'pitch_out': 'sparse_categorical_crossentropy'},\n",
    "    metrics={'pitch_out': 'acc'})"
   ]
  },
  {
   "cell_type": "code",
   "execution_count": 26,
   "metadata": {
    "colab": {
     "base_uri": "https://localhost:8080/",
     "height": 224
    },
    "colab_type": "code",
    "id": "15Uvd6h0NX8X",
    "outputId": "6e21f803-48ee-4a5e-bc82-f179af2ccd7b",
    "scrolled": true
   },
   "outputs": [
    {
     "name": "stdout",
     "output_type": "stream",
     "text": [
      "Epoch 1/20\n",
      "13101/13101 [==============================] - 23s 2ms/sample - loss: 1.7693 - acc: 0.5061\n",
      "Epoch 2/20\n",
      "13101/13101 [==============================] - 22s 2ms/sample - loss: 1.4503 - acc: 0.5458\n",
      "Epoch 3/20\n",
      "13101/13101 [==============================] - 21s 2ms/sample - loss: 1.3501 - acc: 0.5656\n",
      "Epoch 4/20\n",
      "13101/13101 [==============================] - 24s 2ms/sample - loss: 1.2737 - acc: 0.5786\n",
      "Epoch 5/20\n",
      "13101/13101 [==============================] - 30s 2ms/sample - loss: 1.2075 - acc: 0.6020\n",
      "Epoch 6/20\n",
      "13101/13101 [==============================] - 25s 2ms/sample - loss: 1.1427 - acc: 0.6247\n",
      "Epoch 7/20\n",
      "13101/13101 [==============================] - 22s 2ms/sample - loss: 1.0808 - acc: 0.6477\n",
      "Epoch 8/20\n",
      "13101/13101 [==============================] - 25s 2ms/sample - loss: 1.0220 - acc: 0.6650\n",
      "Epoch 9/20\n",
      "13101/13101 [==============================] - 23s 2ms/sample - loss: 0.9592 - acc: 0.6816\n",
      "Epoch 10/20\n",
      "13101/13101 [==============================] - 19s 1ms/sample - loss: 0.8999 - acc: 0.7078\n",
      "Epoch 11/20\n",
      "13101/13101 [==============================] - 21s 2ms/sample - loss: 0.8346 - acc: 0.7254\n",
      "Epoch 12/20\n",
      "13101/13101 [==============================] - 20s 2ms/sample - loss: 0.7701 - acc: 0.7451\n",
      "Epoch 13/20\n",
      "13101/13101 [==============================] - 19s 1ms/sample - loss: 0.7023 - acc: 0.7722\n",
      "Epoch 14/20\n",
      "13101/13101 [==============================] - 23s 2ms/sample - loss: 0.6305 - acc: 0.7973\n",
      "Epoch 15/20\n",
      "13101/13101 [==============================] - 24s 2ms/sample - loss: 0.5615 - acc: 0.8208\n",
      "Epoch 16/20\n",
      "13101/13101 [==============================] - 26s 2ms/sample - loss: 0.4980 - acc: 0.8422\n",
      "Epoch 17/20\n",
      "13101/13101 [==============================] - 25s 2ms/sample - loss: 0.4472 - acc: 0.8579\n",
      "Epoch 18/20\n",
      "13101/13101 [==============================] - 26s 2ms/sample - loss: 0.3838 - acc: 0.8796\n",
      "Epoch 19/20\n",
      "13101/13101 [==============================] - 24s 2ms/sample - loss: 0.3313 - acc: 0.8981\n",
      "Epoch 20/20\n",
      "13101/13101 [==============================] - 27s 2ms/sample - loss: 0.2911 - acc: 0.9127\n"
     ]
    },
    {
     "data": {
      "text/plain": [
       "<tensorflow.python.keras.callbacks.History at 0x13ada8400>"
      ]
     },
     "execution_count": 26,
     "metadata": {},
     "output_type": "execute_result"
    }
   ],
   "source": [
    "model.fit(train_data, train_labels[:,0], batch_size=32, epochs=20)"
   ]
  },
  {
   "cell_type": "code",
   "execution_count": 41,
   "metadata": {
    "colab": {
     "base_uri": "https://localhost:8080/",
     "height": 71
    },
    "colab_type": "code",
    "id": "eG2iMqmTNX8a",
    "outputId": "fd88fa97-813f-40b3-e6e0-73804ffd8272",
    "scrolled": true
   },
   "outputs": [
    {
     "name": "stdout",
     "output_type": "stream",
     "text": [
      "1456/1456 [==============================] - 0s 234us/sample - loss: 1.7114 - acc: 0.7060\n"
     ]
    },
    {
     "data": {
      "text/plain": [
       "[1.7113935161422897, 0.70604396]"
      ]
     },
     "execution_count": 41,
     "metadata": {},
     "output_type": "execute_result"
    }
   ],
   "source": [
    "model.evaluate(val_data,val_labels[:,0])"
   ]
  },
  {
   "cell_type": "code",
   "execution_count": 42,
   "metadata": {
    "colab": {
     "base_uri": "https://localhost:8080/",
     "height": 71
    },
    "colab_type": "code",
    "id": "CUZLuoapNX8e",
    "outputId": "cc96d46f-9520-4052-e172-d85e8c464f02",
    "scrolled": true
   },
   "outputs": [
    {
     "name": "stdout",
     "output_type": "stream",
     "text": [
      "1618/1618 [==============================] - 0s 215us/sample - loss: 2.1390 - acc: 0.6545\n"
     ]
    },
    {
     "data": {
      "text/plain": [
       "[2.138963890248889, 0.65451175]"
      ]
     },
     "execution_count": 42,
     "metadata": {},
     "output_type": "execute_result"
    }
   ],
   "source": [
    "model.evaluate(test_data,test_labels[:,0])"
   ]
  },
  {
   "cell_type": "code",
   "execution_count": null,
   "metadata": {},
   "outputs": [],
   "source": []
  },
  {
   "cell_type": "markdown",
   "metadata": {},
   "source": [
    "# train further on blues"
   ]
  },
  {
   "cell_type": "code",
   "execution_count": 29,
   "metadata": {},
   "outputs": [],
   "source": [
    "folder = 'datasets/train/'\n",
    "def getTracks(file):\n",
    "    pm_harmony = pretty_midi.PrettyMIDI(folder+'trainchords.mid').instruments[0].notes\n",
    "    pm_melody = pretty_midi.PrettyMIDI(folder+'trainmelody.mid').instruments[0].notes\n",
    "    return {'melody': pm_melody, 'harmony': pm_harmony}\n",
    "\n",
    "def processMidi(file):\n",
    "    #tracks = getMelodyAndHarmony(file)\n",
    "    #tracks = getMelodyAndHarmonyBass(file) //changing, this doesnt work anymore -> DACBass\n",
    "    tracks = getTracks(file)\n",
    "    \n",
    "    pm = pretty_midi.PrettyMIDI(folder+'trainchords.mid')\n",
    "\n",
    "    pmnotes = tracks['melody']\n",
    "    notes, times = [], []\n",
    "    currenttime = 0\n",
    "    for i, note in enumerate(pmnotes):\n",
    "        if note.start > currenttime:\n",
    "            notes.append(MELODY-1)\n",
    "            duration = pm.time_to_tick(note.start-currenttime)\n",
    "            times.append(duration)\n",
    "        if note.pitch in range(LOW,HIGH):\n",
    "            notes.append(note.pitch - LOW)\n",
    "        else:\n",
    "            notes.append(note.pitch % 12)\n",
    "        if i < len(pmnotes)-1 and note.end > pmnotes[i+1].start: # overlap with next note\n",
    "            times.append(pm.time_to_tick(pmnotes[i+1].start - note.start))\n",
    "            currenttime = pmnotes[i+1].start\n",
    "        else:\n",
    "            times.append(pm.time_to_tick(note.end-note.start))\n",
    "            currenttime = note.end\n",
    "    times = np.array(np.round(np.array(times)/pm.resolution*12),dtype=np.int32)\n",
    "    \n",
    "    # getChords\n",
    "    pmnotes = tracks['harmony']\n",
    "    notesDict = {}\n",
    "    for i, note in enumerate(pmnotes):\n",
    "        startbeat = int(pm.time_to_tick(note.start)/pm.resolution)\n",
    "        endbeat = int(pm.time_to_tick(note.end)/pm.resolution)\n",
    "        if startbeat == endbeat:\n",
    "            endbeat += 1\n",
    "        for j in range(startbeat, endbeat): #evry beat\n",
    "            notesDict[j] = notesDict.get(j,np.zeros(12)) + oneHot(note.pitch % 12,12)\n",
    "    \n",
    "\n",
    "    # append for every beat (timestep) a vector. either np.zeros or chordinfovector\n",
    "    chords = []\n",
    "    for i in range(max(notesDict)): \n",
    "        chords.append(notesDict.get(i,np.zeros(12)))\n",
    "    chordsByBeat = np.array(chords)\n",
    "    \n",
    "\n",
    "    # connect notes and chords\n",
    "    currbeat = 0\n",
    "    newchords = []\n",
    "    for time in times:\n",
    "        beat = int(currbeat/12)\n",
    "        newchord = np.zeros(12)\n",
    "        for j in range(int((time)/12)): \n",
    "            if j+beat < chordsByBeat.shape[0]:\n",
    "                newchord += chordsByBeat[j+beat]\n",
    "        newchords.append(newchord)\n",
    "        currbeat += time\n",
    "    chords = np.array(newchords)\n",
    "    \n",
    "    \n",
    "     #cleanup\n",
    "    times[np.where(times > 48)[0]] = 48\n",
    "    notes = np.array(notes)[np.where(times > 0)[0]]\n",
    "    chords = chords[np.where(times > 0)[0]]\n",
    "    times = times[np.where(times > 0)[0]]\n",
    "    times = times - 1 # reshift to 0..47\n",
    "    \n",
    "    \n",
    "    #new Chord and key analysis, first only key analysis\n",
    "    algkey = ks_key(pm.get_pitch_class_histogram(), 'aarden')\n",
    "    key = oneHot(algkey,24)\n",
    "    \n",
    "    return notes, times, chords, chordsByBeat, key\n"
   ]
  },
  {
   "cell_type": "code",
   "execution_count": 30,
   "metadata": {},
   "outputs": [
    {
     "name": "stdout",
     "output_type": "stream",
     "text": [
      "(array([19, 22, 17, ..., 18, 14, 19]), array([11, 11, 11, ..., 11, 23, 23], dtype=int32), array([[1., 0., 0., ..., 0., 0., 0.],\n",
      "       [1., 0., 0., ..., 0., 0., 0.],\n",
      "       [1., 0., 0., ..., 0., 0., 0.],\n",
      "       ...,\n",
      "       [0., 0., 0., ..., 0., 0., 0.],\n",
      "       [0., 0., 1., ..., 1., 0., 0.],\n",
      "       [0., 0., 0., ..., 0., 0., 0.]]), array([[1., 0., 0., ..., 0., 0., 0.],\n",
      "       [1., 0., 0., ..., 0., 0., 0.],\n",
      "       [1., 0., 0., ..., 0., 0., 0.],\n",
      "       ...,\n",
      "       [0., 0., 0., ..., 0., 0., 0.],\n",
      "       [0., 0., 1., ..., 1., 0., 0.],\n",
      "       [0., 0., 0., ..., 0., 0., 0.]]), array([1., 0., 0., 0., 0., 0., 0., 0., 0., 0., 0., 0., 0., 0., 0., 0., 0.,\n",
      "       0., 0., 0., 0., 0., 0., 0.]))\n"
     ]
    },
    {
     "data": {
      "text/plain": [
       "((23238, 8, 73), (23238, 2))"
      ]
     },
     "execution_count": 30,
     "metadata": {},
     "output_type": "execute_result"
    }
   ],
   "source": [
    "modulation = True\n",
    "\n",
    "processedMidi = processMidi('trainmelody.mid')\n",
    "print(processedMidi)\n",
    "if modulation == True:\n",
    "    for mod_i in range(12): # modulate\n",
    "        processedMidi = modulate(processedMidi, modulate = mod_i)\n",
    "        sequences, labels = getInputSequences(processedMidi, padding=False, seq_len=8)\n",
    "        if labels.shape[0]>0:\n",
    "            X = sequences if i==0 else np.concatenate((X, sequences))\n",
    "            y = labels if i==0 else np.concatenate((y, labels))\n",
    "else:\n",
    "    sequences, labels = getInputSequences(processedMidi, padding=False, seq_len=8)\n",
    "    if labels.shape[0] > 0:\n",
    "        X = sequences if i==0 else np.concatenate((X, sequences))\n",
    "        y = labels if i==0 else np.concatenate((y, labels))\n",
    "\n",
    "X.shape, y.shape\n",
    "\n",
    "# train/val split\n",
    "n = 500000\n",
    "n = min(n,X.shape[0])\n",
    "m = int(0.9*n)\n",
    "data = X[:m]\n",
    "labels = y[:m]\n",
    "test_data = X[m:n]\n",
    "test_labels = y[m:n]\n",
    "\n",
    "perm = np.random.permutation(m)\n",
    "p = int(0.9*m)\n",
    "\n",
    "train_data = data[perm[:p]]\n",
    "train_labels = labels[perm[:p]]\n",
    "val_data = data[perm[p:]]\n",
    "val_labels = labels[perm[p:]]\n",
    "\n",
    "train_data.shape, train_labels.shape"
   ]
  },
  {
   "cell_type": "code",
   "execution_count": 32,
   "metadata": {},
   "outputs": [
    {
     "name": "stdout",
     "output_type": "stream",
     "text": [
      "Epoch 1/20\n",
      "23238/23238 [==============================] - 37s 2ms/sample - loss: 0.7901 - acc: 0.7569\n",
      "Epoch 2/20\n",
      "23238/23238 [==============================] - 33s 1ms/sample - loss: 0.4727 - acc: 0.8559\n",
      "Epoch 3/20\n",
      "23238/23238 [==============================] - 33s 1ms/sample - loss: 0.3604 - acc: 0.8885\n",
      "Epoch 4/20\n",
      "23238/23238 [==============================] - 34s 1ms/sample - loss: 0.2916 - acc: 0.9081\n",
      "Epoch 5/20\n",
      "23238/23238 [==============================] - 29s 1ms/sample - loss: 0.2534 - acc: 0.9205\n",
      "Epoch 6/20\n",
      "23238/23238 [==============================] - 31s 1ms/sample - loss: 0.2180 - acc: 0.9305\n",
      "Epoch 7/20\n",
      "23238/23238 [==============================] - 31s 1ms/sample - loss: 0.1999 - acc: 0.9364\n",
      "Epoch 8/20\n",
      "23238/23238 [==============================] - 30s 1ms/sample - loss: 0.1757 - acc: 0.9448\n",
      "Epoch 9/20\n",
      "23238/23238 [==============================] - 35s 1ms/sample - loss: 0.1575 - acc: 0.9486\n",
      "Epoch 10/20\n",
      "23238/23238 [==============================] - 37s 2ms/sample - loss: 0.1536 - acc: 0.9491\n",
      "Epoch 11/20\n",
      "23238/23238 [==============================] - 32s 1ms/sample - loss: 0.1391 - acc: 0.9537\n",
      "Epoch 12/20\n",
      "23238/23238 [==============================] - 29s 1ms/sample - loss: 0.1346 - acc: 0.9551\n",
      "Epoch 13/20\n",
      "23238/23238 [==============================] - 32s 1ms/sample - loss: 0.1291 - acc: 0.9580\n",
      "Epoch 14/20\n",
      "23238/23238 [==============================] - 30s 1ms/sample - loss: 0.1177 - acc: 0.9609\n",
      "Epoch 15/20\n",
      "23238/23238 [==============================] - 33s 1ms/sample - loss: 0.1140 - acc: 0.9629\n",
      "Epoch 16/20\n",
      "23238/23238 [==============================] - 31s 1ms/sample - loss: 0.1142 - acc: 0.9613\n",
      "Epoch 17/20\n",
      "23238/23238 [==============================] - 36s 2ms/sample - loss: 0.1151 - acc: 0.9609\n",
      "Epoch 18/20\n",
      "23238/23238 [==============================] - 43s 2ms/sample - loss: 0.1042 - acc: 0.9625\n",
      "Epoch 19/20\n",
      "23238/23238 [==============================] - 38s 2ms/sample - loss: 0.1054 - acc: 0.9637\n",
      "Epoch 20/20\n",
      "23238/23238 [==============================] - 41s 2ms/sample - loss: 0.0969 - acc: 0.9657\n"
     ]
    },
    {
     "data": {
      "text/plain": [
       "<tensorflow.python.keras.callbacks.History at 0x13ae27f98>"
      ]
     },
     "execution_count": 32,
     "metadata": {},
     "output_type": "execute_result"
    }
   ],
   "source": [
    "model.fit(train_data, train_labels[:,0], batch_size=32, epochs=5)"
   ]
  },
  {
   "cell_type": "code",
   "execution_count": null,
   "metadata": {},
   "outputs": [],
   "source": []
  },
  {
   "cell_type": "code",
   "execution_count": null,
   "metadata": {},
   "outputs": [],
   "source": []
  },
  {
   "cell_type": "code",
   "execution_count": null,
   "metadata": {},
   "outputs": [],
   "source": []
  },
  {
   "cell_type": "code",
   "execution_count": null,
   "metadata": {},
   "outputs": [],
   "source": []
  },
  {
   "cell_type": "code",
   "execution_count": null,
   "metadata": {},
   "outputs": [],
   "source": []
  },
  {
   "cell_type": "code",
   "execution_count": 33,
   "metadata": {
    "colab": {},
    "colab_type": "code",
    "id": "u_3MYYPpNX8g",
    "scrolled": true
   },
   "outputs": [
    {
     "ename": "RuntimeError",
     "evalue": "Unable to create link (name already exists)",
     "output_type": "error",
     "traceback": [
      "\u001b[0;31m---------------------------------------------------------------------------\u001b[0m",
      "\u001b[0;31mRuntimeError\u001b[0m                              Traceback (most recent call last)",
      "\u001b[0;32m<ipython-input-33-b5e37806464f>\u001b[0m in \u001b[0;36m<module>\u001b[0;34m\u001b[0m\n\u001b[0;32m----> 1\u001b[0;31m \u001b[0mmodel\u001b[0m\u001b[0;34m.\u001b[0m\u001b[0msave\u001b[0m\u001b[0;34m(\u001b[0m\u001b[0;34m'deploy/tfjs/model7.h5'\u001b[0m\u001b[0;34m)\u001b[0m\u001b[0;34m\u001b[0m\u001b[0;34m\u001b[0m\u001b[0m\n\u001b[0m",
      "\u001b[0;32m/Library/Frameworks/Python.framework/Versions/3.6/lib/python3.6/site-packages/tensorflow/python/keras/engine/network.py\u001b[0m in \u001b[0;36msave\u001b[0;34m(self, filepath, overwrite, include_optimizer)\u001b[0m\n\u001b[1;32m   1332\u001b[0m \u001b[0;34m\u001b[0m\u001b[0m\n\u001b[1;32m   1333\u001b[0m     \u001b[0;32mfrom\u001b[0m \u001b[0mtensorflow\u001b[0m\u001b[0;34m.\u001b[0m\u001b[0mpython\u001b[0m\u001b[0;34m.\u001b[0m\u001b[0mkeras\u001b[0m\u001b[0;34m.\u001b[0m\u001b[0mmodels\u001b[0m \u001b[0;32mimport\u001b[0m \u001b[0msave_model\u001b[0m  \u001b[0;31m# pylint: disable=g-import-not-at-top\u001b[0m\u001b[0;34m\u001b[0m\u001b[0;34m\u001b[0m\u001b[0m\n\u001b[0;32m-> 1334\u001b[0;31m     \u001b[0msave_model\u001b[0m\u001b[0;34m(\u001b[0m\u001b[0mself\u001b[0m\u001b[0;34m,\u001b[0m \u001b[0mfilepath\u001b[0m\u001b[0;34m,\u001b[0m \u001b[0moverwrite\u001b[0m\u001b[0;34m,\u001b[0m \u001b[0minclude_optimizer\u001b[0m\u001b[0;34m)\u001b[0m\u001b[0;34m\u001b[0m\u001b[0;34m\u001b[0m\u001b[0m\n\u001b[0m\u001b[1;32m   1335\u001b[0m \u001b[0;34m\u001b[0m\u001b[0m\n\u001b[1;32m   1336\u001b[0m   \u001b[0;32mdef\u001b[0m \u001b[0msave_weights\u001b[0m\u001b[0;34m(\u001b[0m\u001b[0mself\u001b[0m\u001b[0;34m,\u001b[0m \u001b[0mfilepath\u001b[0m\u001b[0;34m,\u001b[0m \u001b[0moverwrite\u001b[0m\u001b[0;34m=\u001b[0m\u001b[0;32mTrue\u001b[0m\u001b[0;34m,\u001b[0m \u001b[0msave_format\u001b[0m\u001b[0;34m=\u001b[0m\u001b[0;32mNone\u001b[0m\u001b[0;34m)\u001b[0m\u001b[0;34m:\u001b[0m\u001b[0;34m\u001b[0m\u001b[0;34m\u001b[0m\u001b[0m\n",
      "\u001b[0;32m/Library/Frameworks/Python.framework/Versions/3.6/lib/python3.6/site-packages/tensorflow/python/keras/engine/saving.py\u001b[0m in \u001b[0;36msave_model\u001b[0;34m(model, filepath, overwrite, include_optimizer)\u001b[0m\n\u001b[1;32m    150\u001b[0m           \u001b[0;32mfor\u001b[0m \u001b[0mname\u001b[0m\u001b[0;34m,\u001b[0m \u001b[0mval\u001b[0m \u001b[0;32min\u001b[0m \u001b[0mzip\u001b[0m\u001b[0;34m(\u001b[0m\u001b[0mweight_names\u001b[0m\u001b[0;34m,\u001b[0m \u001b[0mweight_values\u001b[0m\u001b[0;34m)\u001b[0m\u001b[0;34m:\u001b[0m\u001b[0;34m\u001b[0m\u001b[0;34m\u001b[0m\u001b[0m\n\u001b[1;32m    151\u001b[0m             param_dset = optimizer_weights_group.create_dataset(\n\u001b[0;32m--> 152\u001b[0;31m                 name, val.shape, dtype=val.dtype)\n\u001b[0m\u001b[1;32m    153\u001b[0m             \u001b[0;32mif\u001b[0m \u001b[0;32mnot\u001b[0m \u001b[0mval\u001b[0m\u001b[0;34m.\u001b[0m\u001b[0mshape\u001b[0m\u001b[0;34m:\u001b[0m\u001b[0;34m\u001b[0m\u001b[0;34m\u001b[0m\u001b[0m\n\u001b[1;32m    154\u001b[0m               \u001b[0;31m# scalar\u001b[0m\u001b[0;34m\u001b[0m\u001b[0;34m\u001b[0m\u001b[0;34m\u001b[0m\u001b[0m\n",
      "\u001b[0;32m/Library/Frameworks/Python.framework/Versions/3.6/lib/python3.6/site-packages/h5py/_hl/group.py\u001b[0m in \u001b[0;36mcreate_dataset\u001b[0;34m(self, name, shape, dtype, data, **kwds)\u001b[0m\n\u001b[1;32m    117\u001b[0m             \u001b[0mdset\u001b[0m \u001b[0;34m=\u001b[0m \u001b[0mdataset\u001b[0m\u001b[0;34m.\u001b[0m\u001b[0mDataset\u001b[0m\u001b[0;34m(\u001b[0m\u001b[0mdsid\u001b[0m\u001b[0;34m)\u001b[0m\u001b[0;34m\u001b[0m\u001b[0;34m\u001b[0m\u001b[0m\n\u001b[1;32m    118\u001b[0m             \u001b[0;32mif\u001b[0m \u001b[0mname\u001b[0m \u001b[0;32mis\u001b[0m \u001b[0;32mnot\u001b[0m \u001b[0;32mNone\u001b[0m\u001b[0;34m:\u001b[0m\u001b[0;34m\u001b[0m\u001b[0;34m\u001b[0m\u001b[0m\n\u001b[0;32m--> 119\u001b[0;31m                 \u001b[0mself\u001b[0m\u001b[0;34m[\u001b[0m\u001b[0mname\u001b[0m\u001b[0;34m]\u001b[0m \u001b[0;34m=\u001b[0m \u001b[0mdset\u001b[0m\u001b[0;34m\u001b[0m\u001b[0;34m\u001b[0m\u001b[0m\n\u001b[0m\u001b[1;32m    120\u001b[0m             \u001b[0;32mreturn\u001b[0m \u001b[0mdset\u001b[0m\u001b[0;34m\u001b[0m\u001b[0;34m\u001b[0m\u001b[0m\n\u001b[1;32m    121\u001b[0m \u001b[0;34m\u001b[0m\u001b[0m\n",
      "\u001b[0;32m/Library/Frameworks/Python.framework/Versions/3.6/lib/python3.6/site-packages/h5py/_hl/group.py\u001b[0m in \u001b[0;36m__setitem__\u001b[0;34m(self, name, obj)\u001b[0m\n\u001b[1;32m    285\u001b[0m \u001b[0;34m\u001b[0m\u001b[0m\n\u001b[1;32m    286\u001b[0m             \u001b[0;32mif\u001b[0m \u001b[0misinstance\u001b[0m\u001b[0;34m(\u001b[0m\u001b[0mobj\u001b[0m\u001b[0;34m,\u001b[0m \u001b[0mHLObject\u001b[0m\u001b[0;34m)\u001b[0m\u001b[0;34m:\u001b[0m\u001b[0;34m\u001b[0m\u001b[0;34m\u001b[0m\u001b[0m\n\u001b[0;32m--> 287\u001b[0;31m                 \u001b[0mh5o\u001b[0m\u001b[0;34m.\u001b[0m\u001b[0mlink\u001b[0m\u001b[0;34m(\u001b[0m\u001b[0mobj\u001b[0m\u001b[0;34m.\u001b[0m\u001b[0mid\u001b[0m\u001b[0;34m,\u001b[0m \u001b[0mself\u001b[0m\u001b[0;34m.\u001b[0m\u001b[0mid\u001b[0m\u001b[0;34m,\u001b[0m \u001b[0mname\u001b[0m\u001b[0;34m,\u001b[0m \u001b[0mlcpl\u001b[0m\u001b[0;34m=\u001b[0m\u001b[0mlcpl\u001b[0m\u001b[0;34m,\u001b[0m \u001b[0mlapl\u001b[0m\u001b[0;34m=\u001b[0m\u001b[0mself\u001b[0m\u001b[0;34m.\u001b[0m\u001b[0m_lapl\u001b[0m\u001b[0;34m)\u001b[0m\u001b[0;34m\u001b[0m\u001b[0;34m\u001b[0m\u001b[0m\n\u001b[0m\u001b[1;32m    288\u001b[0m \u001b[0;34m\u001b[0m\u001b[0m\n\u001b[1;32m    289\u001b[0m             \u001b[0;32melif\u001b[0m \u001b[0misinstance\u001b[0m\u001b[0;34m(\u001b[0m\u001b[0mobj\u001b[0m\u001b[0;34m,\u001b[0m \u001b[0mSoftLink\u001b[0m\u001b[0;34m)\u001b[0m\u001b[0;34m:\u001b[0m\u001b[0;34m\u001b[0m\u001b[0;34m\u001b[0m\u001b[0m\n",
      "\u001b[0;32mh5py/_objects.pyx\u001b[0m in \u001b[0;36mh5py._objects.with_phil.wrapper\u001b[0;34m()\u001b[0m\n",
      "\u001b[0;32mh5py/_objects.pyx\u001b[0m in \u001b[0;36mh5py._objects.with_phil.wrapper\u001b[0;34m()\u001b[0m\n",
      "\u001b[0;32mh5py/h5o.pyx\u001b[0m in \u001b[0;36mh5py.h5o.link\u001b[0;34m()\u001b[0m\n",
      "\u001b[0;31mRuntimeError\u001b[0m: Unable to create link (name already exists)"
     ]
    }
   ],
   "source": [
    "model.save('deploy/tfjs/model7.h5')"
   ]
  },
  {
   "cell_type": "code",
   "execution_count": 0,
   "metadata": {
    "colab": {},
    "colab_type": "code",
    "id": "dUHng5XMNX8l"
   },
   "outputs": [],
   "source": [
    "# source env/bin/activate\n",
    "# tensorflowjs_converter --input_format keras tfjs/model4.h5 tfjs/model4\n",
    "# \n",
    "# python -m SimpleHTTPServer 8000"
   ]
  },
  {
   "cell_type": "code",
   "execution_count": 53,
   "metadata": {},
   "outputs": [],
   "source": [
    "# Test Example: one prediction"
   ]
  },
  {
   "cell_type": "code",
   "execution_count": 65,
   "metadata": {},
   "outputs": [],
   "source": [
    "keys_chroma = ['C','C#','D','D#','E','F','F#','G','G#','A','A#','B',\n",
    "        'C-','C#-','D-','D#-','E-','F-','F#-','G-','G#-','A-','A#-','B-']\n",
    "keys_chroma_dict = dict(enumerate(keys_chroma))\n",
    "keys_chroma_dict_reverse = {v: k for k, v in keys_chroma_dict.items()}\n",
    "def getPitch(note):\n",
    "    return keys_chroma_dict[note%12]"
   ]
  },
  {
   "cell_type": "code",
   "execution_count": 87,
   "metadata": {
    "colab": {},
    "colab_type": "code",
    "id": "rrUapn9JNX8o"
   },
   "outputs": [
    {
     "data": {
      "text/plain": [
       "['D', 'C', 'A', 'E', 'D', 'A#', 'A#', 'A']"
      ]
     },
     "metadata": {},
     "output_type": "display_data"
    },
    {
     "data": {
      "text/plain": [
       "'A'"
      ]
     },
     "metadata": {},
     "output_type": "display_data"
    },
    {
     "data": {
      "text/plain": [
       "'A#'"
      ]
     },
     "metadata": {},
     "output_type": "display_data"
    },
    {
     "data": {
      "text/plain": [
       "['C', 'A', 'E', 'D', 'A#', 'A#', 'A', 'A#']"
      ]
     },
     "metadata": {},
     "output_type": "display_data"
    },
    {
     "data": {
      "text/plain": [
       "'A'"
      ]
     },
     "metadata": {},
     "output_type": "display_data"
    },
    {
     "data": {
      "text/plain": [
       "'F'"
      ]
     },
     "metadata": {},
     "output_type": "display_data"
    },
    {
     "data": {
      "text/plain": [
       "['A', 'E', 'D', 'A#', 'A#', 'A', 'A#', 'F']"
      ]
     },
     "metadata": {},
     "output_type": "display_data"
    },
    {
     "data": {
      "text/plain": [
       "'G'"
      ]
     },
     "metadata": {},
     "output_type": "display_data"
    },
    {
     "data": {
      "text/plain": [
       "'F'"
      ]
     },
     "metadata": {},
     "output_type": "display_data"
    },
    {
     "data": {
      "text/plain": [
       "['E', 'D', 'A#', 'A#', 'A', 'A#', 'F', 'F']"
      ]
     },
     "metadata": {},
     "output_type": "display_data"
    },
    {
     "data": {
      "text/plain": [
       "'A'"
      ]
     },
     "metadata": {},
     "output_type": "display_data"
    },
    {
     "data": {
      "text/plain": [
       "'C'"
      ]
     },
     "metadata": {},
     "output_type": "display_data"
    },
    {
     "data": {
      "text/plain": [
       "['D', 'A#', 'A#', 'A', 'A#', 'F', 'F', 'C']"
      ]
     },
     "metadata": {},
     "output_type": "display_data"
    },
    {
     "data": {
      "text/plain": [
       "'A'"
      ]
     },
     "metadata": {},
     "output_type": "display_data"
    },
    {
     "data": {
      "text/plain": [
       "'A'"
      ]
     },
     "metadata": {},
     "output_type": "display_data"
    },
    {
     "data": {
      "text/plain": [
       "['A#', 'A#', 'A', 'A#', 'F', 'F', 'C', 'A']"
      ]
     },
     "metadata": {},
     "output_type": "display_data"
    },
    {
     "data": {
      "text/plain": [
       "'A'"
      ]
     },
     "metadata": {},
     "output_type": "display_data"
    },
    {
     "data": {
      "text/plain": [
       "'A'"
      ]
     },
     "metadata": {},
     "output_type": "display_data"
    },
    {
     "data": {
      "text/plain": [
       "['A#', 'A', 'A#', 'F', 'F', 'C', 'A', 'A']"
      ]
     },
     "metadata": {},
     "output_type": "display_data"
    },
    {
     "data": {
      "text/plain": [
       "'A'"
      ]
     },
     "metadata": {},
     "output_type": "display_data"
    },
    {
     "data": {
      "text/plain": [
       "'A'"
      ]
     },
     "metadata": {},
     "output_type": "display_data"
    },
    {
     "data": {
      "text/plain": [
       "['A', 'A#', 'F', 'F', 'C', 'A', 'A', 'A']"
      ]
     },
     "metadata": {},
     "output_type": "display_data"
    },
    {
     "data": {
      "text/plain": [
       "'A'"
      ]
     },
     "metadata": {},
     "output_type": "display_data"
    },
    {
     "data": {
      "text/plain": [
       "'D'"
      ]
     },
     "metadata": {},
     "output_type": "display_data"
    },
    {
     "data": {
      "text/plain": [
       "['A#', 'F', 'F', 'C', 'A', 'A', 'A', 'D']"
      ]
     },
     "metadata": {},
     "output_type": "display_data"
    },
    {
     "data": {
      "text/plain": [
       "'G'"
      ]
     },
     "metadata": {},
     "output_type": "display_data"
    },
    {
     "data": {
      "text/plain": [
       "'A'"
      ]
     },
     "metadata": {},
     "output_type": "display_data"
    },
    {
     "data": {
      "text/plain": [
       "['F', 'F', 'C', 'A', 'A', 'A', 'D', 'A']"
      ]
     },
     "metadata": {},
     "output_type": "display_data"
    },
    {
     "data": {
      "text/plain": [
       "'G'"
      ]
     },
     "metadata": {},
     "output_type": "display_data"
    },
    {
     "data": {
      "text/plain": [
       "'G'"
      ]
     },
     "metadata": {},
     "output_type": "display_data"
    },
    {
     "data": {
      "text/plain": [
       "['F', 'C', 'A', 'A', 'A', 'D', 'A', 'G']"
      ]
     },
     "metadata": {},
     "output_type": "display_data"
    },
    {
     "data": {
      "text/plain": [
       "'G'"
      ]
     },
     "metadata": {},
     "output_type": "display_data"
    },
    {
     "data": {
      "text/plain": [
       "'F'"
      ]
     },
     "metadata": {},
     "output_type": "display_data"
    },
    {
     "data": {
      "text/plain": [
       "['C', 'A', 'A', 'A', 'D', 'A', 'G', 'F']"
      ]
     },
     "metadata": {},
     "output_type": "display_data"
    },
    {
     "data": {
      "text/plain": [
       "'F'"
      ]
     },
     "metadata": {},
     "output_type": "display_data"
    },
    {
     "data": {
      "text/plain": [
       "'F'"
      ]
     },
     "metadata": {},
     "output_type": "display_data"
    },
    {
     "data": {
      "text/plain": [
       "['A', 'A', 'A', 'D', 'A', 'G', 'F', 'F']"
      ]
     },
     "metadata": {},
     "output_type": "display_data"
    },
    {
     "data": {
      "text/plain": [
       "'G'"
      ]
     },
     "metadata": {},
     "output_type": "display_data"
    },
    {
     "data": {
      "text/plain": [
       "'G'"
      ]
     },
     "metadata": {},
     "output_type": "display_data"
    },
    {
     "data": {
      "text/plain": [
       "['A', 'A', 'D', 'A', 'G', 'F', 'F', 'G']"
      ]
     },
     "metadata": {},
     "output_type": "display_data"
    },
    {
     "data": {
      "text/plain": [
       "'A'"
      ]
     },
     "metadata": {},
     "output_type": "display_data"
    },
    {
     "data": {
      "text/plain": [
       "'A'"
      ]
     },
     "metadata": {},
     "output_type": "display_data"
    },
    {
     "data": {
      "text/plain": [
       "['A', 'D', 'A', 'G', 'F', 'F', 'G', 'A']"
      ]
     },
     "metadata": {},
     "output_type": "display_data"
    },
    {
     "data": {
      "text/plain": [
       "'A'"
      ]
     },
     "metadata": {},
     "output_type": "display_data"
    },
    {
     "data": {
      "text/plain": [
       "'A'"
      ]
     },
     "metadata": {},
     "output_type": "display_data"
    },
    {
     "data": {
      "text/plain": [
       "['D', 'A', 'G', 'F', 'F', 'G', 'A', 'A']"
      ]
     },
     "metadata": {},
     "output_type": "display_data"
    },
    {
     "data": {
      "text/plain": [
       "'A'"
      ]
     },
     "metadata": {},
     "output_type": "display_data"
    },
    {
     "data": {
      "text/plain": [
       "'A'"
      ]
     },
     "metadata": {},
     "output_type": "display_data"
    },
    {
     "data": {
      "text/plain": [
       "['C', 'E', 'F', 'E', 'G', 'G', 'G', 'C']"
      ]
     },
     "metadata": {},
     "output_type": "display_data"
    },
    {
     "data": {
      "text/plain": [
       "'F'"
      ]
     },
     "metadata": {},
     "output_type": "display_data"
    },
    {
     "data": {
      "text/plain": [
       "'G'"
      ]
     },
     "metadata": {},
     "output_type": "display_data"
    },
    {
     "data": {
      "text/plain": [
       "['E', 'F', 'E', 'G', 'G', 'G', 'C', 'G']"
      ]
     },
     "metadata": {},
     "output_type": "display_data"
    },
    {
     "data": {
      "text/plain": [
       "'F'"
      ]
     },
     "metadata": {},
     "output_type": "display_data"
    },
    {
     "data": {
      "text/plain": [
       "'G'"
      ]
     },
     "metadata": {},
     "output_type": "display_data"
    },
    {
     "data": {
      "text/plain": [
       "['F', 'E', 'G', 'G', 'G', 'C', 'G', 'G']"
      ]
     },
     "metadata": {},
     "output_type": "display_data"
    },
    {
     "data": {
      "text/plain": [
       "'C'"
      ]
     },
     "metadata": {},
     "output_type": "display_data"
    },
    {
     "data": {
      "text/plain": [
       "'F'"
      ]
     },
     "metadata": {},
     "output_type": "display_data"
    },
    {
     "data": {
      "text/plain": [
       "['E', 'G', 'G', 'G', 'C', 'G', 'G', 'F']"
      ]
     },
     "metadata": {},
     "output_type": "display_data"
    },
    {
     "data": {
      "text/plain": [
       "'E'"
      ]
     },
     "metadata": {},
     "output_type": "display_data"
    },
    {
     "data": {
      "text/plain": [
       "'G'"
      ]
     },
     "metadata": {},
     "output_type": "display_data"
    },
    {
     "data": {
      "text/plain": [
       "['G', 'G', 'G', 'C', 'G', 'G', 'F', 'G']"
      ]
     },
     "metadata": {},
     "output_type": "display_data"
    },
    {
     "data": {
      "text/plain": [
       "'A'"
      ]
     },
     "metadata": {},
     "output_type": "display_data"
    },
    {
     "data": {
      "text/plain": [
       "'A#'"
      ]
     },
     "metadata": {},
     "output_type": "display_data"
    },
    {
     "data": {
      "text/plain": [
       "['G', 'G', 'C', 'G', 'G', 'F', 'G', 'A#']"
      ]
     },
     "metadata": {},
     "output_type": "display_data"
    },
    {
     "data": {
      "text/plain": [
       "'F'"
      ]
     },
     "metadata": {},
     "output_type": "display_data"
    },
    {
     "data": {
      "text/plain": [
       "'G'"
      ]
     },
     "metadata": {},
     "output_type": "display_data"
    },
    {
     "data": {
      "text/plain": [
       "['G', 'C', 'G', 'G', 'F', 'G', 'A#', 'G']"
      ]
     },
     "metadata": {},
     "output_type": "display_data"
    },
    {
     "data": {
      "text/plain": [
       "'C'"
      ]
     },
     "metadata": {},
     "output_type": "display_data"
    },
    {
     "data": {
      "text/plain": [
       "'F'"
      ]
     },
     "metadata": {},
     "output_type": "display_data"
    },
    {
     "data": {
      "text/plain": [
       "['C', 'G', 'G', 'F', 'G', 'A#', 'G', 'F']"
      ]
     },
     "metadata": {},
     "output_type": "display_data"
    },
    {
     "data": {
      "text/plain": [
       "'C'"
      ]
     },
     "metadata": {},
     "output_type": "display_data"
    },
    {
     "data": {
      "text/plain": [
       "'G'"
      ]
     },
     "metadata": {},
     "output_type": "display_data"
    },
    {
     "data": {
      "text/plain": [
       "['G', 'G', 'F', 'G', 'A#', 'G', 'F', 'G']"
      ]
     },
     "metadata": {},
     "output_type": "display_data"
    },
    {
     "data": {
      "text/plain": [
       "'C'"
      ]
     },
     "metadata": {},
     "output_type": "display_data"
    },
    {
     "data": {
      "text/plain": [
       "'F'"
      ]
     },
     "metadata": {},
     "output_type": "display_data"
    },
    {
     "data": {
      "text/plain": [
       "['G', 'F', 'G', 'A#', 'G', 'F', 'G', 'F']"
      ]
     },
     "metadata": {},
     "output_type": "display_data"
    },
    {
     "data": {
      "text/plain": [
       "'A'"
      ]
     },
     "metadata": {},
     "output_type": "display_data"
    },
    {
     "data": {
      "text/plain": [
       "'E'"
      ]
     },
     "metadata": {},
     "output_type": "display_data"
    },
    {
     "data": {
      "text/plain": [
       "['F', 'G', 'A#', 'G', 'F', 'G', 'F', 'E']"
      ]
     },
     "metadata": {},
     "output_type": "display_data"
    },
    {
     "data": {
      "text/plain": [
       "'A'"
      ]
     },
     "metadata": {},
     "output_type": "display_data"
    },
    {
     "data": {
      "text/plain": [
       "'C'"
      ]
     },
     "metadata": {},
     "output_type": "display_data"
    },
    {
     "data": {
      "text/plain": [
       "['G', 'A#', 'G', 'F', 'G', 'F', 'E', 'C']"
      ]
     },
     "metadata": {},
     "output_type": "display_data"
    },
    {
     "data": {
      "text/plain": [
       "'A'"
      ]
     },
     "metadata": {},
     "output_type": "display_data"
    },
    {
     "data": {
      "text/plain": [
       "'E'"
      ]
     },
     "metadata": {},
     "output_type": "display_data"
    },
    {
     "data": {
      "text/plain": [
       "['A#', 'G', 'F', 'G', 'F', 'E', 'C', 'E']"
      ]
     },
     "metadata": {},
     "output_type": "display_data"
    },
    {
     "data": {
      "text/plain": [
       "'F'"
      ]
     },
     "metadata": {},
     "output_type": "display_data"
    },
    {
     "data": {
      "text/plain": [
       "'F'"
      ]
     },
     "metadata": {},
     "output_type": "display_data"
    },
    {
     "data": {
      "text/plain": [
       "['G', 'F', 'G', 'F', 'E', 'C', 'E', 'F']"
      ]
     },
     "metadata": {},
     "output_type": "display_data"
    },
    {
     "data": {
      "text/plain": [
       "'F'"
      ]
     },
     "metadata": {},
     "output_type": "display_data"
    },
    {
     "data": {
      "text/plain": [
       "'E'"
      ]
     },
     "metadata": {},
     "output_type": "display_data"
    },
    {
     "data": {
      "text/plain": [
       "['F', 'G', 'F', 'E', 'C', 'E', 'F', 'E']"
      ]
     },
     "metadata": {},
     "output_type": "display_data"
    },
    {
     "data": {
      "text/plain": [
       "'F'"
      ]
     },
     "metadata": {},
     "output_type": "display_data"
    },
    {
     "data": {
      "text/plain": [
       "'G'"
      ]
     },
     "metadata": {},
     "output_type": "display_data"
    },
    {
     "data": {
      "text/plain": [
       "['G', 'F', 'E', 'C', 'E', 'F', 'E', 'G']"
      ]
     },
     "metadata": {},
     "output_type": "display_data"
    },
    {
     "data": {
      "text/plain": [
       "'F'"
      ]
     },
     "metadata": {},
     "output_type": "display_data"
    },
    {
     "data": {
      "text/plain": [
       "'G'"
      ]
     },
     "metadata": {},
     "output_type": "display_data"
    },
    {
     "data": {
      "text/plain": [
       "['F', 'E', 'C', 'E', 'F', 'E', 'G', 'G']"
      ]
     },
     "metadata": {},
     "output_type": "display_data"
    },
    {
     "data": {
      "text/plain": [
       "'F'"
      ]
     },
     "metadata": {},
     "output_type": "display_data"
    },
    {
     "data": {
      "text/plain": [
       "'G'"
      ]
     },
     "metadata": {},
     "output_type": "display_data"
    },
    {
     "data": {
      "text/plain": [
       "['E', 'C', 'E', 'F', 'E', 'G', 'G', 'G']"
      ]
     },
     "metadata": {},
     "output_type": "display_data"
    },
    {
     "data": {
      "text/plain": [
       "'G'"
      ]
     },
     "metadata": {},
     "output_type": "display_data"
    },
    {
     "data": {
      "text/plain": [
       "'C'"
      ]
     },
     "metadata": {},
     "output_type": "display_data"
    },
    {
     "data": {
      "text/plain": [
       "['C', 'E', 'F', 'E', 'G', 'G', 'G', 'C']"
      ]
     },
     "metadata": {},
     "output_type": "display_data"
    },
    {
     "data": {
      "text/plain": [
       "'F'"
      ]
     },
     "metadata": {},
     "output_type": "display_data"
    },
    {
     "data": {
      "text/plain": [
       "'G'"
      ]
     },
     "metadata": {},
     "output_type": "display_data"
    },
    {
     "data": {
      "text/plain": [
       "['E', 'F', 'E', 'G', 'G', 'G', 'C', 'G']"
      ]
     },
     "metadata": {},
     "output_type": "display_data"
    },
    {
     "data": {
      "text/plain": [
       "'F'"
      ]
     },
     "metadata": {},
     "output_type": "display_data"
    },
    {
     "data": {
      "text/plain": [
       "'G'"
      ]
     },
     "metadata": {},
     "output_type": "display_data"
    },
    {
     "data": {
      "text/plain": [
       "['F', 'E', 'G', 'G', 'G', 'C', 'G', 'G']"
      ]
     },
     "metadata": {},
     "output_type": "display_data"
    },
    {
     "data": {
      "text/plain": [
       "'C'"
      ]
     },
     "metadata": {},
     "output_type": "display_data"
    },
    {
     "data": {
      "text/plain": [
       "'F'"
      ]
     },
     "metadata": {},
     "output_type": "display_data"
    },
    {
     "data": {
      "text/plain": [
       "['E', 'G', 'G', 'G', 'C', 'G', 'G', 'F']"
      ]
     },
     "metadata": {},
     "output_type": "display_data"
    },
    {
     "data": {
      "text/plain": [
       "'E'"
      ]
     },
     "metadata": {},
     "output_type": "display_data"
    },
    {
     "data": {
      "text/plain": [
       "'G'"
      ]
     },
     "metadata": {},
     "output_type": "display_data"
    },
    {
     "data": {
      "text/plain": [
       "['G', 'G', 'G', 'C', 'G', 'G', 'F', 'G']"
      ]
     },
     "metadata": {},
     "output_type": "display_data"
    },
    {
     "data": {
      "text/plain": [
       "'A'"
      ]
     },
     "metadata": {},
     "output_type": "display_data"
    },
    {
     "data": {
      "text/plain": [
       "'A#'"
      ]
     },
     "metadata": {},
     "output_type": "display_data"
    },
    {
     "data": {
      "text/plain": [
       "['G', 'G', 'C', 'G', 'G', 'F', 'G', 'A#']"
      ]
     },
     "metadata": {},
     "output_type": "display_data"
    },
    {
     "data": {
      "text/plain": [
       "'F'"
      ]
     },
     "metadata": {},
     "output_type": "display_data"
    },
    {
     "data": {
      "text/plain": [
       "'G'"
      ]
     },
     "metadata": {},
     "output_type": "display_data"
    },
    {
     "data": {
      "text/plain": [
       "['C', 'C', 'B', 'E', 'D', 'D', 'C', 'C']"
      ]
     },
     "metadata": {},
     "output_type": "display_data"
    },
    {
     "data": {
      "text/plain": [
       "'G'"
      ]
     },
     "metadata": {},
     "output_type": "display_data"
    },
    {
     "data": {
      "text/plain": [
       "'A'"
      ]
     },
     "metadata": {},
     "output_type": "display_data"
    },
    {
     "data": {
      "text/plain": [
       "['C', 'B', 'E', 'D', 'D', 'C', 'C', 'A']"
      ]
     },
     "metadata": {},
     "output_type": "display_data"
    },
    {
     "data": {
      "text/plain": [
       "'D'"
      ]
     },
     "metadata": {},
     "output_type": "display_data"
    },
    {
     "data": {
      "text/plain": [
       "'C'"
      ]
     },
     "metadata": {},
     "output_type": "display_data"
    },
    {
     "data": {
      "text/plain": [
       "['B', 'E', 'D', 'D', 'C', 'C', 'A', 'C']"
      ]
     },
     "metadata": {},
     "output_type": "display_data"
    },
    {
     "data": {
      "text/plain": [
       "'D'"
      ]
     },
     "metadata": {},
     "output_type": "display_data"
    },
    {
     "data": {
      "text/plain": [
       "'E'"
      ]
     },
     "metadata": {},
     "output_type": "display_data"
    },
    {
     "data": {
      "text/plain": [
       "['E', 'D', 'D', 'C', 'C', 'A', 'C', 'E']"
      ]
     },
     "metadata": {},
     "output_type": "display_data"
    },
    {
     "data": {
      "text/plain": [
       "'C'"
      ]
     },
     "metadata": {},
     "output_type": "display_data"
    },
    {
     "data": {
      "text/plain": [
       "'D'"
      ]
     },
     "metadata": {},
     "output_type": "display_data"
    },
    {
     "data": {
      "text/plain": [
       "['D', 'D', 'C', 'C', 'A', 'C', 'E', 'D']"
      ]
     },
     "metadata": {},
     "output_type": "display_data"
    },
    {
     "data": {
      "text/plain": [
       "'C'"
      ]
     },
     "metadata": {},
     "output_type": "display_data"
    },
    {
     "data": {
      "text/plain": [
       "'D'"
      ]
     },
     "metadata": {},
     "output_type": "display_data"
    },
    {
     "data": {
      "text/plain": [
       "['D', 'C', 'C', 'A', 'C', 'E', 'D', 'D']"
      ]
     },
     "metadata": {},
     "output_type": "display_data"
    },
    {
     "data": {
      "text/plain": [
       "'C'"
      ]
     },
     "metadata": {},
     "output_type": "display_data"
    },
    {
     "data": {
      "text/plain": [
       "'C'"
      ]
     },
     "metadata": {},
     "output_type": "display_data"
    },
    {
     "data": {
      "text/plain": [
       "['C', 'C', 'A', 'C', 'E', 'D', 'D', 'C']"
      ]
     },
     "metadata": {},
     "output_type": "display_data"
    },
    {
     "data": {
      "text/plain": [
       "'C'"
      ]
     },
     "metadata": {},
     "output_type": "display_data"
    },
    {
     "data": {
      "text/plain": [
       "'A'"
      ]
     },
     "metadata": {},
     "output_type": "display_data"
    },
    {
     "data": {
      "text/plain": [
       "['C', 'A', 'C', 'E', 'D', 'D', 'C', 'A']"
      ]
     },
     "metadata": {},
     "output_type": "display_data"
    },
    {
     "data": {
      "text/plain": [
       "'D'"
      ]
     },
     "metadata": {},
     "output_type": "display_data"
    },
    {
     "data": {
      "text/plain": [
       "'C'"
      ]
     },
     "metadata": {},
     "output_type": "display_data"
    },
    {
     "data": {
      "text/plain": [
       "['A', 'C', 'E', 'D', 'D', 'C', 'A', 'C']"
      ]
     },
     "metadata": {},
     "output_type": "display_data"
    },
    {
     "data": {
      "text/plain": [
       "'D'"
      ]
     },
     "metadata": {},
     "output_type": "display_data"
    },
    {
     "data": {
      "text/plain": [
       "'A'"
      ]
     },
     "metadata": {},
     "output_type": "display_data"
    },
    {
     "data": {
      "text/plain": [
       "['C', 'E', 'D', 'D', 'C', 'A', 'C', 'A']"
      ]
     },
     "metadata": {},
     "output_type": "display_data"
    },
    {
     "data": {
      "text/plain": [
       "'E'"
      ]
     },
     "metadata": {},
     "output_type": "display_data"
    },
    {
     "data": {
      "text/plain": [
       "'C'"
      ]
     },
     "metadata": {},
     "output_type": "display_data"
    },
    {
     "data": {
      "text/plain": [
       "['E', 'D', 'D', 'C', 'A', 'C', 'A', 'C']"
      ]
     },
     "metadata": {},
     "output_type": "display_data"
    },
    {
     "data": {
      "text/plain": [
       "'E'"
      ]
     },
     "metadata": {},
     "output_type": "display_data"
    },
    {
     "data": {
      "text/plain": [
       "'A'"
      ]
     },
     "metadata": {},
     "output_type": "display_data"
    },
    {
     "data": {
      "text/plain": [
       "['D', 'D', 'C', 'A', 'C', 'A', 'C', 'A']"
      ]
     },
     "metadata": {},
     "output_type": "display_data"
    },
    {
     "data": {
      "text/plain": [
       "'B'"
      ]
     },
     "metadata": {},
     "output_type": "display_data"
    },
    {
     "data": {
      "text/plain": [
       "'E'"
      ]
     },
     "metadata": {},
     "output_type": "display_data"
    },
    {
     "data": {
      "text/plain": [
       "['D', 'C', 'A', 'C', 'A', 'C', 'A', 'E']"
      ]
     },
     "metadata": {},
     "output_type": "display_data"
    },
    {
     "data": {
      "text/plain": [
       "'E'"
      ]
     },
     "metadata": {},
     "output_type": "display_data"
    },
    {
     "data": {
      "text/plain": [
       "'D'"
      ]
     },
     "metadata": {},
     "output_type": "display_data"
    },
    {
     "data": {
      "text/plain": [
       "['C', 'A', 'C', 'A', 'C', 'A', 'E', 'D']"
      ]
     },
     "metadata": {},
     "output_type": "display_data"
    },
    {
     "data": {
      "text/plain": [
       "'F'"
      ]
     },
     "metadata": {},
     "output_type": "display_data"
    },
    {
     "data": {
      "text/plain": [
       "'D'"
      ]
     },
     "metadata": {},
     "output_type": "display_data"
    },
    {
     "data": {
      "text/plain": [
       "['A', 'C', 'A', 'C', 'A', 'E', 'D', 'D']"
      ]
     },
     "metadata": {},
     "output_type": "display_data"
    },
    {
     "data": {
      "text/plain": [
       "'G'"
      ]
     },
     "metadata": {},
     "output_type": "display_data"
    },
    {
     "data": {
      "text/plain": [
       "'B'"
      ]
     },
     "metadata": {},
     "output_type": "display_data"
    },
    {
     "data": {
      "text/plain": [
       "['C', 'A', 'C', 'A', 'E', 'D', 'D', 'B']"
      ]
     },
     "metadata": {},
     "output_type": "display_data"
    },
    {
     "data": {
      "text/plain": [
       "'C'"
      ]
     },
     "metadata": {},
     "output_type": "display_data"
    },
    {
     "data": {
      "text/plain": [
       "'A'"
      ]
     },
     "metadata": {},
     "output_type": "display_data"
    },
    {
     "data": {
      "text/plain": [
       "['A', 'A', 'C', 'A#', 'F', 'E', 'A', 'E']"
      ]
     },
     "metadata": {},
     "output_type": "display_data"
    },
    {
     "data": {
      "text/plain": [
       "'G'"
      ]
     },
     "metadata": {},
     "output_type": "display_data"
    },
    {
     "data": {
      "text/plain": [
       "'E'"
      ]
     },
     "metadata": {},
     "output_type": "display_data"
    },
    {
     "data": {
      "text/plain": [
       "['A', 'C', 'A#', 'F', 'E', 'A', 'E', 'E']"
      ]
     },
     "metadata": {},
     "output_type": "display_data"
    },
    {
     "data": {
      "text/plain": [
       "'E'"
      ]
     },
     "metadata": {},
     "output_type": "display_data"
    },
    {
     "data": {
      "text/plain": [
       "'D'"
      ]
     },
     "metadata": {},
     "output_type": "display_data"
    },
    {
     "data": {
      "text/plain": [
       "['C', 'A#', 'F', 'E', 'A', 'E', 'E', 'D']"
      ]
     },
     "metadata": {},
     "output_type": "display_data"
    },
    {
     "data": {
      "text/plain": [
       "'E'"
      ]
     },
     "metadata": {},
     "output_type": "display_data"
    },
    {
     "data": {
      "text/plain": [
       "'F'"
      ]
     },
     "metadata": {},
     "output_type": "display_data"
    },
    {
     "data": {
      "text/plain": [
       "['A#', 'F', 'E', 'A', 'E', 'E', 'D', 'F']"
      ]
     },
     "metadata": {},
     "output_type": "display_data"
    },
    {
     "data": {
      "text/plain": [
       "'E'"
      ]
     },
     "metadata": {},
     "output_type": "display_data"
    },
    {
     "data": {
      "text/plain": [
       "'G#'"
      ]
     },
     "metadata": {},
     "output_type": "display_data"
    },
    {
     "data": {
      "text/plain": [
       "['F', 'E', 'A', 'E', 'E', 'D', 'F', 'G#']"
      ]
     },
     "metadata": {},
     "output_type": "display_data"
    },
    {
     "data": {
      "text/plain": [
       "'C'"
      ]
     },
     "metadata": {},
     "output_type": "display_data"
    },
    {
     "data": {
      "text/plain": [
       "'F'"
      ]
     },
     "metadata": {},
     "output_type": "display_data"
    },
    {
     "data": {
      "text/plain": [
       "['E', 'A', 'E', 'E', 'D', 'F', 'G#', 'F']"
      ]
     },
     "metadata": {},
     "output_type": "display_data"
    },
    {
     "data": {
      "text/plain": [
       "'D'"
      ]
     },
     "metadata": {},
     "output_type": "display_data"
    },
    {
     "data": {
      "text/plain": [
       "'E'"
      ]
     },
     "metadata": {},
     "output_type": "display_data"
    },
    {
     "data": {
      "text/plain": [
       "['A', 'E', 'E', 'D', 'F', 'G#', 'F', 'E']"
      ]
     },
     "metadata": {},
     "output_type": "display_data"
    },
    {
     "data": {
      "text/plain": [
       "'D'"
      ]
     },
     "metadata": {},
     "output_type": "display_data"
    },
    {
     "data": {
      "text/plain": [
       "'D'"
      ]
     },
     "metadata": {},
     "output_type": "display_data"
    },
    {
     "data": {
      "text/plain": [
       "['E', 'E', 'D', 'F', 'G#', 'F', 'E', 'D']"
      ]
     },
     "metadata": {},
     "output_type": "display_data"
    },
    {
     "data": {
      "text/plain": [
       "'A'"
      ]
     },
     "metadata": {},
     "output_type": "display_data"
    },
    {
     "data": {
      "text/plain": [
       "'F'"
      ]
     },
     "metadata": {},
     "output_type": "display_data"
    },
    {
     "data": {
      "text/plain": [
       "['E', 'D', 'F', 'G#', 'F', 'E', 'D', 'F']"
      ]
     },
     "metadata": {},
     "output_type": "display_data"
    },
    {
     "data": {
      "text/plain": [
       "'A'"
      ]
     },
     "metadata": {},
     "output_type": "display_data"
    },
    {
     "data": {
      "text/plain": [
       "'E'"
      ]
     },
     "metadata": {},
     "output_type": "display_data"
    },
    {
     "data": {
      "text/plain": [
       "['D', 'F', 'G#', 'F', 'E', 'D', 'F', 'E']"
      ]
     },
     "metadata": {},
     "output_type": "display_data"
    },
    {
     "data": {
      "text/plain": [
       "'A'"
      ]
     },
     "metadata": {},
     "output_type": "display_data"
    },
    {
     "data": {
      "text/plain": [
       "'D'"
      ]
     },
     "metadata": {},
     "output_type": "display_data"
    },
    {
     "data": {
      "text/plain": [
       "['F', 'G#', 'F', 'E', 'D', 'F', 'E', 'D']"
      ]
     },
     "metadata": {},
     "output_type": "display_data"
    },
    {
     "data": {
      "text/plain": [
       "'A'"
      ]
     },
     "metadata": {},
     "output_type": "display_data"
    },
    {
     "data": {
      "text/plain": [
       "'F'"
      ]
     },
     "metadata": {},
     "output_type": "display_data"
    },
    {
     "data": {
      "text/plain": [
       "['A', 'A', 'C', 'A#', 'F', 'E', 'A', 'E']"
      ]
     },
     "metadata": {},
     "output_type": "display_data"
    },
    {
     "data": {
      "text/plain": [
       "'G'"
      ]
     },
     "metadata": {},
     "output_type": "display_data"
    },
    {
     "data": {
      "text/plain": [
       "'E'"
      ]
     },
     "metadata": {},
     "output_type": "display_data"
    },
    {
     "data": {
      "text/plain": [
       "['A', 'C', 'A#', 'F', 'E', 'A', 'E', 'E']"
      ]
     },
     "metadata": {},
     "output_type": "display_data"
    },
    {
     "data": {
      "text/plain": [
       "'E'"
      ]
     },
     "metadata": {},
     "output_type": "display_data"
    },
    {
     "data": {
      "text/plain": [
       "'D'"
      ]
     },
     "metadata": {},
     "output_type": "display_data"
    },
    {
     "data": {
      "text/plain": [
       "['C', 'A#', 'F', 'E', 'A', 'E', 'E', 'D']"
      ]
     },
     "metadata": {},
     "output_type": "display_data"
    },
    {
     "data": {
      "text/plain": [
       "'E'"
      ]
     },
     "metadata": {},
     "output_type": "display_data"
    },
    {
     "data": {
      "text/plain": [
       "'F'"
      ]
     },
     "metadata": {},
     "output_type": "display_data"
    },
    {
     "data": {
      "text/plain": [
       "['A#', 'F', 'E', 'A', 'E', 'E', 'D', 'F']"
      ]
     },
     "metadata": {},
     "output_type": "display_data"
    },
    {
     "data": {
      "text/plain": [
       "'E'"
      ]
     },
     "metadata": {},
     "output_type": "display_data"
    },
    {
     "data": {
      "text/plain": [
       "'G#'"
      ]
     },
     "metadata": {},
     "output_type": "display_data"
    },
    {
     "data": {
      "text/plain": [
       "['F', 'E', 'A', 'E', 'E', 'D', 'F', 'G#']"
      ]
     },
     "metadata": {},
     "output_type": "display_data"
    },
    {
     "data": {
      "text/plain": [
       "'C'"
      ]
     },
     "metadata": {},
     "output_type": "display_data"
    },
    {
     "data": {
      "text/plain": [
       "'F'"
      ]
     },
     "metadata": {},
     "output_type": "display_data"
    },
    {
     "data": {
      "text/plain": [
       "['E', 'A', 'E', 'E', 'D', 'F', 'G#', 'F']"
      ]
     },
     "metadata": {},
     "output_type": "display_data"
    },
    {
     "data": {
      "text/plain": [
       "'D'"
      ]
     },
     "metadata": {},
     "output_type": "display_data"
    },
    {
     "data": {
      "text/plain": [
       "'E'"
      ]
     },
     "metadata": {},
     "output_type": "display_data"
    },
    {
     "data": {
      "text/plain": [
       "['A', 'E', 'E', 'D', 'F', 'G#', 'F', 'E']"
      ]
     },
     "metadata": {},
     "output_type": "display_data"
    },
    {
     "data": {
      "text/plain": [
       "'D'"
      ]
     },
     "metadata": {},
     "output_type": "display_data"
    },
    {
     "data": {
      "text/plain": [
       "'D'"
      ]
     },
     "metadata": {},
     "output_type": "display_data"
    },
    {
     "data": {
      "text/plain": [
       "['E', 'E', 'D', 'F', 'G#', 'F', 'E', 'D']"
      ]
     },
     "metadata": {},
     "output_type": "display_data"
    },
    {
     "data": {
      "text/plain": [
       "'A'"
      ]
     },
     "metadata": {},
     "output_type": "display_data"
    },
    {
     "data": {
      "text/plain": [
       "'E'"
      ]
     },
     "metadata": {},
     "output_type": "display_data"
    },
    {
     "data": {
      "text/plain": [
       "['E', 'D', 'F', 'G#', 'F', 'E', 'D', 'E']"
      ]
     },
     "metadata": {},
     "output_type": "display_data"
    },
    {
     "data": {
      "text/plain": [
       "'A'"
      ]
     },
     "metadata": {},
     "output_type": "display_data"
    },
    {
     "data": {
      "text/plain": [
       "'F'"
      ]
     },
     "metadata": {},
     "output_type": "display_data"
    },
    {
     "data": {
      "text/plain": [
       "['D', 'F', 'G#', 'F', 'E', 'D', 'E', 'F']"
      ]
     },
     "metadata": {},
     "output_type": "display_data"
    },
    {
     "data": {
      "text/plain": [
       "'A'"
      ]
     },
     "metadata": {},
     "output_type": "display_data"
    },
    {
     "data": {
      "text/plain": [
       "'E'"
      ]
     },
     "metadata": {},
     "output_type": "display_data"
    },
    {
     "data": {
      "text/plain": [
       "['F', 'G#', 'F', 'E', 'D', 'E', 'F', 'E']"
      ]
     },
     "metadata": {},
     "output_type": "display_data"
    },
    {
     "data": {
      "text/plain": [
       "'A'"
      ]
     },
     "metadata": {},
     "output_type": "display_data"
    },
    {
     "data": {
      "text/plain": [
       "'D'"
      ]
     },
     "metadata": {},
     "output_type": "display_data"
    },
    {
     "data": {
      "text/plain": [
       "['G#', 'F', 'E', 'D', 'E', 'F', 'E', 'D']"
      ]
     },
     "metadata": {},
     "output_type": "display_data"
    },
    {
     "data": {
      "text/plain": [
       "'D'"
      ]
     },
     "metadata": {},
     "output_type": "display_data"
    },
    {
     "data": {
      "text/plain": [
       "'E'"
      ]
     },
     "metadata": {},
     "output_type": "display_data"
    },
    {
     "data": {
      "text/plain": [
       "['F', 'E', 'D', 'E', 'F', 'E', 'D', 'E']"
      ]
     },
     "metadata": {},
     "output_type": "display_data"
    },
    {
     "data": {
      "text/plain": [
       "'E'"
      ]
     },
     "metadata": {},
     "output_type": "display_data"
    },
    {
     "data": {
      "text/plain": [
       "'F'"
      ]
     },
     "metadata": {},
     "output_type": "display_data"
    },
    {
     "data": {
      "text/plain": [
       "['C', 'B', 'B', 'B', 'B', 'B', 'B', 'B']"
      ]
     },
     "metadata": {},
     "output_type": "display_data"
    },
    {
     "data": {
      "text/plain": [
       "'D'"
      ]
     },
     "metadata": {},
     "output_type": "display_data"
    },
    {
     "data": {
      "text/plain": [
       "'B'"
      ]
     },
     "metadata": {},
     "output_type": "display_data"
    },
    {
     "data": {
      "text/plain": [
       "['B', 'B', 'B', 'B', 'B', 'B', 'B', 'B']"
      ]
     },
     "metadata": {},
     "output_type": "display_data"
    },
    {
     "data": {
      "text/plain": [
       "'A'"
      ]
     },
     "metadata": {},
     "output_type": "display_data"
    },
    {
     "data": {
      "text/plain": [
       "'B'"
      ]
     },
     "metadata": {},
     "output_type": "display_data"
    },
    {
     "data": {
      "text/plain": [
       "['B', 'B', 'B', 'B', 'B', 'B', 'B', 'B']"
      ]
     },
     "metadata": {},
     "output_type": "display_data"
    },
    {
     "data": {
      "text/plain": [
       "'G'"
      ]
     },
     "metadata": {},
     "output_type": "display_data"
    },
    {
     "data": {
      "text/plain": [
       "'B'"
      ]
     },
     "metadata": {},
     "output_type": "display_data"
    },
    {
     "data": {
      "text/plain": [
       "['B', 'B', 'B', 'B', 'B', 'B', 'B', 'B']"
      ]
     },
     "metadata": {},
     "output_type": "display_data"
    },
    {
     "data": {
      "text/plain": [
       "'G'"
      ]
     },
     "metadata": {},
     "output_type": "display_data"
    },
    {
     "data": {
      "text/plain": [
       "'D'"
      ]
     },
     "metadata": {},
     "output_type": "display_data"
    },
    {
     "data": {
      "text/plain": [
       "['B', 'B', 'B', 'B', 'B', 'B', 'B', 'D']"
      ]
     },
     "metadata": {},
     "output_type": "display_data"
    },
    {
     "data": {
      "text/plain": [
       "'A'"
      ]
     },
     "metadata": {},
     "output_type": "display_data"
    },
    {
     "data": {
      "text/plain": [
       "'B'"
      ]
     },
     "metadata": {},
     "output_type": "display_data"
    },
    {
     "data": {
      "text/plain": [
       "['B', 'B', 'B', 'B', 'B', 'B', 'D', 'B']"
      ]
     },
     "metadata": {},
     "output_type": "display_data"
    },
    {
     "data": {
      "text/plain": [
       "'A'"
      ]
     },
     "metadata": {},
     "output_type": "display_data"
    },
    {
     "data": {
      "text/plain": [
       "'A'"
      ]
     },
     "metadata": {},
     "output_type": "display_data"
    },
    {
     "data": {
      "text/plain": [
       "['B', 'B', 'B', 'B', 'B', 'D', 'B', 'A']"
      ]
     },
     "metadata": {},
     "output_type": "display_data"
    },
    {
     "data": {
      "text/plain": [
       "'G'"
      ]
     },
     "metadata": {},
     "output_type": "display_data"
    },
    {
     "data": {
      "text/plain": [
       "'G'"
      ]
     },
     "metadata": {},
     "output_type": "display_data"
    },
    {
     "data": {
      "text/plain": [
       "['B', 'B', 'B', 'B', 'D', 'B', 'A', 'G']"
      ]
     },
     "metadata": {},
     "output_type": "display_data"
    },
    {
     "data": {
      "text/plain": [
       "'G'"
      ]
     },
     "metadata": {},
     "output_type": "display_data"
    },
    {
     "data": {
      "text/plain": [
       "'C'"
      ]
     },
     "metadata": {},
     "output_type": "display_data"
    },
    {
     "data": {
      "text/plain": [
       "['B', 'B', 'B', 'D', 'B', 'A', 'G', 'C']"
      ]
     },
     "metadata": {},
     "output_type": "display_data"
    },
    {
     "data": {
      "text/plain": [
       "'B'"
      ]
     },
     "metadata": {},
     "output_type": "display_data"
    },
    {
     "data": {
      "text/plain": [
       "'A#'"
      ]
     },
     "metadata": {},
     "output_type": "display_data"
    },
    {
     "data": {
      "text/plain": [
       "['B', 'B', 'D', 'B', 'A', 'G', 'C', 'A#']"
      ]
     },
     "metadata": {},
     "output_type": "display_data"
    },
    {
     "data": {
      "text/plain": [
       "'B'"
      ]
     },
     "metadata": {},
     "output_type": "display_data"
    },
    {
     "data": {
      "text/plain": [
       "'B'"
      ]
     },
     "metadata": {},
     "output_type": "display_data"
    },
    {
     "data": {
      "text/plain": [
       "['B', 'D', 'B', 'A', 'G', 'C', 'A#', 'B']"
      ]
     },
     "metadata": {},
     "output_type": "display_data"
    },
    {
     "data": {
      "text/plain": [
       "'B'"
      ]
     },
     "metadata": {},
     "output_type": "display_data"
    },
    {
     "data": {
      "text/plain": [
       "'A#'"
      ]
     },
     "metadata": {},
     "output_type": "display_data"
    },
    {
     "data": {
      "text/plain": [
       "['D', 'B', 'A', 'G', 'C', 'A#', 'B', 'A#']"
      ]
     },
     "metadata": {},
     "output_type": "display_data"
    },
    {
     "data": {
      "text/plain": [
       "'B'"
      ]
     },
     "metadata": {},
     "output_type": "display_data"
    },
    {
     "data": {
      "text/plain": [
       "'B'"
      ]
     },
     "metadata": {},
     "output_type": "display_data"
    },
    {
     "data": {
      "text/plain": [
       "['B', 'A', 'G', 'C', 'A#', 'B', 'A#', 'B']"
      ]
     },
     "metadata": {},
     "output_type": "display_data"
    },
    {
     "data": {
      "text/plain": [
       "'A#'"
      ]
     },
     "metadata": {},
     "output_type": "display_data"
    },
    {
     "data": {
      "text/plain": [
       "'A#'"
      ]
     },
     "metadata": {},
     "output_type": "display_data"
    },
    {
     "data": {
      "text/plain": [
       "['A', 'G', 'C', 'A#', 'B', 'A#', 'B', 'A#']"
      ]
     },
     "metadata": {},
     "output_type": "display_data"
    },
    {
     "data": {
      "text/plain": [
       "'B'"
      ]
     },
     "metadata": {},
     "output_type": "display_data"
    },
    {
     "data": {
      "text/plain": [
       "'B'"
      ]
     },
     "metadata": {},
     "output_type": "display_data"
    },
    {
     "data": {
      "text/plain": [
       "['G', 'C', 'A#', 'B', 'A#', 'B', 'A#', 'B']"
      ]
     },
     "metadata": {},
     "output_type": "display_data"
    },
    {
     "data": {
      "text/plain": [
       "'A#'"
      ]
     },
     "metadata": {},
     "output_type": "display_data"
    },
    {
     "data": {
      "text/plain": [
       "'A#'"
      ]
     },
     "metadata": {},
     "output_type": "display_data"
    },
    {
     "data": {
      "text/plain": [
       "['C', 'A#', 'B', 'A#', 'B', 'A#', 'B', 'A#']"
      ]
     },
     "metadata": {},
     "output_type": "display_data"
    },
    {
     "data": {
      "text/plain": [
       "'G'"
      ]
     },
     "metadata": {},
     "output_type": "display_data"
    },
    {
     "data": {
      "text/plain": [
       "'B'"
      ]
     },
     "metadata": {},
     "output_type": "display_data"
    },
    {
     "data": {
      "text/plain": [
       "['A#', 'B', 'A#', 'B', 'A#', 'B', 'A#', 'B']"
      ]
     },
     "metadata": {},
     "output_type": "display_data"
    },
    {
     "data": {
      "text/plain": [
       "'G'"
      ]
     },
     "metadata": {},
     "output_type": "display_data"
    },
    {
     "data": {
      "text/plain": [
       "'B'"
      ]
     },
     "metadata": {},
     "output_type": "display_data"
    },
    {
     "data": {
      "text/plain": [
       "['B', 'A#', 'B', 'A#', 'B', 'A#', 'B', 'B']"
      ]
     },
     "metadata": {},
     "output_type": "display_data"
    },
    {
     "data": {
      "text/plain": [
       "'G'"
      ]
     },
     "metadata": {},
     "output_type": "display_data"
    },
    {
     "data": {
      "text/plain": [
       "'C'"
      ]
     },
     "metadata": {},
     "output_type": "display_data"
    },
    {
     "data": {
      "text/plain": [
       "['A#', 'B', 'A#', 'B', 'A#', 'B', 'B', 'C']"
      ]
     },
     "metadata": {},
     "output_type": "display_data"
    },
    {
     "data": {
      "text/plain": [
       "'C'"
      ]
     },
     "metadata": {},
     "output_type": "display_data"
    },
    {
     "data": {
      "text/plain": [
       "'C'"
      ]
     },
     "metadata": {},
     "output_type": "display_data"
    },
    {
     "data": {
      "text/plain": [
       "['B', 'A#', 'B', 'A#', 'B', 'B', 'C', 'C']"
      ]
     },
     "metadata": {},
     "output_type": "display_data"
    },
    {
     "data": {
      "text/plain": [
       "'C'"
      ]
     },
     "metadata": {},
     "output_type": "display_data"
    },
    {
     "data": {
      "text/plain": [
       "'C'"
      ]
     },
     "metadata": {},
     "output_type": "display_data"
    },
    {
     "data": {
      "text/plain": [
       "['A#', 'B', 'A#', 'B', 'B', 'C', 'C', 'C']"
      ]
     },
     "metadata": {},
     "output_type": "display_data"
    },
    {
     "data": {
      "text/plain": [
       "'C'"
      ]
     },
     "metadata": {},
     "output_type": "display_data"
    },
    {
     "data": {
      "text/plain": [
       "'C'"
      ]
     },
     "metadata": {},
     "output_type": "display_data"
    },
    {
     "data": {
      "text/plain": [
       "['G', 'F', 'E', 'C', 'E', 'F', 'E', 'G']"
      ]
     },
     "metadata": {},
     "output_type": "display_data"
    },
    {
     "data": {
      "text/plain": [
       "'F'"
      ]
     },
     "metadata": {},
     "output_type": "display_data"
    },
    {
     "data": {
      "text/plain": [
       "'G'"
      ]
     },
     "metadata": {},
     "output_type": "display_data"
    },
    {
     "data": {
      "text/plain": [
       "['F', 'E', 'C', 'E', 'F', 'E', 'G', 'G']"
      ]
     },
     "metadata": {},
     "output_type": "display_data"
    },
    {
     "data": {
      "text/plain": [
       "'F'"
      ]
     },
     "metadata": {},
     "output_type": "display_data"
    },
    {
     "data": {
      "text/plain": [
       "'G'"
      ]
     },
     "metadata": {},
     "output_type": "display_data"
    },
    {
     "data": {
      "text/plain": [
       "['E', 'C', 'E', 'F', 'E', 'G', 'G', 'G']"
      ]
     },
     "metadata": {},
     "output_type": "display_data"
    },
    {
     "data": {
      "text/plain": [
       "'G'"
      ]
     },
     "metadata": {},
     "output_type": "display_data"
    },
    {
     "data": {
      "text/plain": [
       "'C'"
      ]
     },
     "metadata": {},
     "output_type": "display_data"
    },
    {
     "data": {
      "text/plain": [
       "['C', 'E', 'F', 'E', 'G', 'G', 'G', 'C']"
      ]
     },
     "metadata": {},
     "output_type": "display_data"
    },
    {
     "data": {
      "text/plain": [
       "'F'"
      ]
     },
     "metadata": {},
     "output_type": "display_data"
    },
    {
     "data": {
      "text/plain": [
       "'G'"
      ]
     },
     "metadata": {},
     "output_type": "display_data"
    },
    {
     "data": {
      "text/plain": [
       "['E', 'F', 'E', 'G', 'G', 'G', 'C', 'G']"
      ]
     },
     "metadata": {},
     "output_type": "display_data"
    },
    {
     "data": {
      "text/plain": [
       "'F'"
      ]
     },
     "metadata": {},
     "output_type": "display_data"
    },
    {
     "data": {
      "text/plain": [
       "'G'"
      ]
     },
     "metadata": {},
     "output_type": "display_data"
    },
    {
     "data": {
      "text/plain": [
       "['F', 'E', 'G', 'G', 'G', 'C', 'G', 'G']"
      ]
     },
     "metadata": {},
     "output_type": "display_data"
    },
    {
     "data": {
      "text/plain": [
       "'C'"
      ]
     },
     "metadata": {},
     "output_type": "display_data"
    },
    {
     "data": {
      "text/plain": [
       "'F'"
      ]
     },
     "metadata": {},
     "output_type": "display_data"
    },
    {
     "data": {
      "text/plain": [
       "['E', 'G', 'G', 'G', 'C', 'G', 'G', 'F']"
      ]
     },
     "metadata": {},
     "output_type": "display_data"
    },
    {
     "data": {
      "text/plain": [
       "'E'"
      ]
     },
     "metadata": {},
     "output_type": "display_data"
    },
    {
     "data": {
      "text/plain": [
       "'G'"
      ]
     },
     "metadata": {},
     "output_type": "display_data"
    },
    {
     "data": {
      "text/plain": [
       "['G', 'G', 'G', 'C', 'G', 'G', 'F', 'G']"
      ]
     },
     "metadata": {},
     "output_type": "display_data"
    },
    {
     "data": {
      "text/plain": [
       "'A'"
      ]
     },
     "metadata": {},
     "output_type": "display_data"
    },
    {
     "data": {
      "text/plain": [
       "'A#'"
      ]
     },
     "metadata": {},
     "output_type": "display_data"
    },
    {
     "data": {
      "text/plain": [
       "['G', 'G', 'C', 'G', 'G', 'F', 'G', 'A#']"
      ]
     },
     "metadata": {},
     "output_type": "display_data"
    },
    {
     "data": {
      "text/plain": [
       "'F'"
      ]
     },
     "metadata": {},
     "output_type": "display_data"
    },
    {
     "data": {
      "text/plain": [
       "'G'"
      ]
     },
     "metadata": {},
     "output_type": "display_data"
    },
    {
     "data": {
      "text/plain": [
       "['G', 'C', 'G', 'G', 'F', 'G', 'A#', 'G']"
      ]
     },
     "metadata": {},
     "output_type": "display_data"
    },
    {
     "data": {
      "text/plain": [
       "'C'"
      ]
     },
     "metadata": {},
     "output_type": "display_data"
    },
    {
     "data": {
      "text/plain": [
       "'F'"
      ]
     },
     "metadata": {},
     "output_type": "display_data"
    },
    {
     "data": {
      "text/plain": [
       "['C', 'G', 'G', 'F', 'G', 'A#', 'G', 'F']"
      ]
     },
     "metadata": {},
     "output_type": "display_data"
    },
    {
     "data": {
      "text/plain": [
       "'C'"
      ]
     },
     "metadata": {},
     "output_type": "display_data"
    },
    {
     "data": {
      "text/plain": [
       "'G'"
      ]
     },
     "metadata": {},
     "output_type": "display_data"
    },
    {
     "data": {
      "text/plain": [
       "['G', 'G', 'F', 'G', 'A#', 'G', 'F', 'G']"
      ]
     },
     "metadata": {},
     "output_type": "display_data"
    },
    {
     "data": {
      "text/plain": [
       "'C'"
      ]
     },
     "metadata": {},
     "output_type": "display_data"
    },
    {
     "data": {
      "text/plain": [
       "'F'"
      ]
     },
     "metadata": {},
     "output_type": "display_data"
    },
    {
     "data": {
      "text/plain": [
       "['G', 'F', 'G', 'A#', 'G', 'F', 'G', 'F']"
      ]
     },
     "metadata": {},
     "output_type": "display_data"
    },
    {
     "data": {
      "text/plain": [
       "'A'"
      ]
     },
     "metadata": {},
     "output_type": "display_data"
    },
    {
     "data": {
      "text/plain": [
       "'E'"
      ]
     },
     "metadata": {},
     "output_type": "display_data"
    },
    {
     "data": {
      "text/plain": [
       "['F', 'G', 'A#', 'G', 'F', 'G', 'F', 'E']"
      ]
     },
     "metadata": {},
     "output_type": "display_data"
    },
    {
     "data": {
      "text/plain": [
       "'A'"
      ]
     },
     "metadata": {},
     "output_type": "display_data"
    },
    {
     "data": {
      "text/plain": [
       "'C'"
      ]
     },
     "metadata": {},
     "output_type": "display_data"
    },
    {
     "data": {
      "text/plain": [
       "['G', 'A#', 'G', 'F', 'G', 'F', 'E', 'C']"
      ]
     },
     "metadata": {},
     "output_type": "display_data"
    },
    {
     "data": {
      "text/plain": [
       "'A'"
      ]
     },
     "metadata": {},
     "output_type": "display_data"
    },
    {
     "data": {
      "text/plain": [
       "'C'"
      ]
     },
     "metadata": {},
     "output_type": "display_data"
    },
    {
     "data": {
      "text/plain": [
       "['A#', 'G', 'F', 'G', 'F', 'E', 'C', 'C']"
      ]
     },
     "metadata": {},
     "output_type": "display_data"
    },
    {
     "data": {
      "text/plain": [
       "'F'"
      ]
     },
     "metadata": {},
     "output_type": "display_data"
    },
    {
     "data": {
      "text/plain": [
       "'C'"
      ]
     },
     "metadata": {},
     "output_type": "display_data"
    },
    {
     "data": {
      "text/plain": [
       "['G', 'F', 'G', 'F', 'E', 'C', 'C', 'C']"
      ]
     },
     "metadata": {},
     "output_type": "display_data"
    },
    {
     "data": {
      "text/plain": [
       "'A#'"
      ]
     },
     "metadata": {},
     "output_type": "display_data"
    },
    {
     "data": {
      "text/plain": [
       "'C'"
      ]
     },
     "metadata": {},
     "output_type": "display_data"
    },
    {
     "data": {
      "text/plain": [
       "['F', 'G', 'F', 'E', 'C', 'C', 'C', 'C']"
      ]
     },
     "metadata": {},
     "output_type": "display_data"
    },
    {
     "data": {
      "text/plain": [
       "'D'"
      ]
     },
     "metadata": {},
     "output_type": "display_data"
    },
    {
     "data": {
      "text/plain": [
       "'C'"
      ]
     },
     "metadata": {},
     "output_type": "display_data"
    },
    {
     "data": {
      "text/plain": [
       "['G', 'F', 'E', 'C', 'C', 'C', 'C', 'C']"
      ]
     },
     "metadata": {},
     "output_type": "display_data"
    },
    {
     "data": {
      "text/plain": [
       "'F'"
      ]
     },
     "metadata": {},
     "output_type": "display_data"
    },
    {
     "data": {
      "text/plain": [
       "'B'"
      ]
     },
     "metadata": {},
     "output_type": "display_data"
    },
    {
     "data": {
      "text/plain": [
       "['F', 'E', 'C', 'C', 'C', 'C', 'C', 'B']"
      ]
     },
     "metadata": {},
     "output_type": "display_data"
    },
    {
     "data": {
      "text/plain": [
       "'D'"
      ]
     },
     "metadata": {},
     "output_type": "display_data"
    },
    {
     "data": {
      "text/plain": [
       "'A#'"
      ]
     },
     "metadata": {},
     "output_type": "display_data"
    },
    {
     "data": {
      "text/plain": [
       "['E', 'C', 'C', 'C', 'C', 'C', 'B', 'A#']"
      ]
     },
     "metadata": {},
     "output_type": "display_data"
    },
    {
     "data": {
      "text/plain": [
       "'D'"
      ]
     },
     "metadata": {},
     "output_type": "display_data"
    },
    {
     "data": {
      "text/plain": [
       "'A'"
      ]
     },
     "metadata": {},
     "output_type": "display_data"
    },
    {
     "data": {
      "text/plain": [
       "['C', 'C', 'C', 'C', 'C', 'B', 'A#', 'A']"
      ]
     },
     "metadata": {},
     "output_type": "display_data"
    },
    {
     "data": {
      "text/plain": [
       "'C'"
      ]
     },
     "metadata": {},
     "output_type": "display_data"
    },
    {
     "data": {
      "text/plain": [
       "'C'"
      ]
     },
     "metadata": {},
     "output_type": "display_data"
    },
    {
     "data": {
      "text/plain": [
       "['C', 'C', 'C', 'C', 'B', 'A#', 'A', 'C']"
      ]
     },
     "metadata": {},
     "output_type": "display_data"
    },
    {
     "data": {
      "text/plain": [
       "'G'"
      ]
     },
     "metadata": {},
     "output_type": "display_data"
    },
    {
     "data": {
      "text/plain": [
       "'C'"
      ]
     },
     "metadata": {},
     "output_type": "display_data"
    },
    {
     "data": {
      "text/plain": [
       "['C', 'C', 'C', 'B', 'A#', 'A', 'C', 'C']"
      ]
     },
     "metadata": {},
     "output_type": "display_data"
    },
    {
     "data": {
      "text/plain": [
       "'G'"
      ]
     },
     "metadata": {},
     "output_type": "display_data"
    },
    {
     "data": {
      "text/plain": [
       "'C'"
      ]
     },
     "metadata": {},
     "output_type": "display_data"
    },
    {
     "data": {
      "text/plain": [
       "['C', 'C', 'B', 'A#', 'A', 'C', 'C', 'C']"
      ]
     },
     "metadata": {},
     "output_type": "display_data"
    },
    {
     "data": {
      "text/plain": [
       "'G'"
      ]
     },
     "metadata": {},
     "output_type": "display_data"
    },
    {
     "data": {
      "text/plain": [
       "'D'"
      ]
     },
     "metadata": {},
     "output_type": "display_data"
    },
    {
     "data": {
      "text/plain": [
       "['C', 'B', 'A#', 'A', 'C', 'C', 'C', 'D']"
      ]
     },
     "metadata": {},
     "output_type": "display_data"
    },
    {
     "data": {
      "text/plain": [
       "'G'"
      ]
     },
     "metadata": {},
     "output_type": "display_data"
    },
    {
     "data": {
      "text/plain": [
       "'C#'"
      ]
     },
     "metadata": {},
     "output_type": "display_data"
    },
    {
     "data": {
      "text/plain": [
       "['B', 'A#', 'A', 'C', 'C', 'C', 'D', 'C#']"
      ]
     },
     "metadata": {},
     "output_type": "display_data"
    },
    {
     "data": {
      "text/plain": [
       "'G'"
      ]
     },
     "metadata": {},
     "output_type": "display_data"
    },
    {
     "data": {
      "text/plain": [
       "'C'"
      ]
     },
     "metadata": {},
     "output_type": "display_data"
    },
    {
     "data": {
      "text/plain": [
       "['A#', 'A', 'C', 'C', 'C', 'D', 'C#', 'C']"
      ]
     },
     "metadata": {},
     "output_type": "display_data"
    },
    {
     "data": {
      "text/plain": [
       "'G'"
      ]
     },
     "metadata": {},
     "output_type": "display_data"
    },
    {
     "data": {
      "text/plain": [
       "'B'"
      ]
     },
     "metadata": {},
     "output_type": "display_data"
    },
    {
     "data": {
      "text/plain": [
       "['A', 'C', 'C', 'C', 'D', 'C#', 'C', 'B']"
      ]
     },
     "metadata": {},
     "output_type": "display_data"
    },
    {
     "data": {
      "text/plain": [
       "'F'"
      ]
     },
     "metadata": {},
     "output_type": "display_data"
    },
    {
     "data": {
      "text/plain": [
       "'E'"
      ]
     },
     "metadata": {},
     "output_type": "display_data"
    },
    {
     "data": {
      "text/plain": [
       "['C', 'C', 'C', 'D', 'C#', 'C', 'B', 'E']"
      ]
     },
     "metadata": {},
     "output_type": "display_data"
    },
    {
     "data": {
      "text/plain": [
       "'G'"
      ]
     },
     "metadata": {},
     "output_type": "display_data"
    },
    {
     "data": {
      "text/plain": [
       "'F'"
      ]
     },
     "metadata": {},
     "output_type": "display_data"
    },
    {
     "data": {
      "text/plain": [
       "['C', 'C', 'D', 'C#', 'C', 'B', 'E', 'F']"
      ]
     },
     "metadata": {},
     "output_type": "display_data"
    },
    {
     "data": {
      "text/plain": [
       "'E'"
      ]
     },
     "metadata": {},
     "output_type": "display_data"
    },
    {
     "data": {
      "text/plain": [
       "'E'"
      ]
     },
     "metadata": {},
     "output_type": "display_data"
    },
    {
     "data": {
      "text/plain": [
       "['C', 'D', 'C#', 'C', 'B', 'E', 'F', 'E']"
      ]
     },
     "metadata": {},
     "output_type": "display_data"
    },
    {
     "data": {
      "text/plain": [
       "'E'"
      ]
     },
     "metadata": {},
     "output_type": "display_data"
    },
    {
     "data": {
      "text/plain": [
       "'G'"
      ]
     },
     "metadata": {},
     "output_type": "display_data"
    },
    {
     "data": {
      "text/plain": [
       "['D', 'C#', 'C', 'B', 'E', 'F', 'E', 'G']"
      ]
     },
     "metadata": {},
     "output_type": "display_data"
    },
    {
     "data": {
      "text/plain": [
       "'C'"
      ]
     },
     "metadata": {},
     "output_type": "display_data"
    },
    {
     "data": {
      "text/plain": [
       "'C'"
      ]
     },
     "metadata": {},
     "output_type": "display_data"
    },
    {
     "data": {
      "text/plain": [
       "['C#', 'C', 'B', 'E', 'F', 'E', 'G', 'C']"
      ]
     },
     "metadata": {},
     "output_type": "display_data"
    },
    {
     "data": {
      "text/plain": [
       "'D#'"
      ]
     },
     "metadata": {},
     "output_type": "display_data"
    },
    {
     "data": {
      "text/plain": [
       "'D#'"
      ]
     },
     "metadata": {},
     "output_type": "display_data"
    },
    {
     "data": {
      "text/plain": [
       "['C', 'B', 'E', 'F', 'E', 'G', 'C', 'D#']"
      ]
     },
     "metadata": {},
     "output_type": "display_data"
    },
    {
     "data": {
      "text/plain": [
       "'F'"
      ]
     },
     "metadata": {},
     "output_type": "display_data"
    },
    {
     "data": {
      "text/plain": [
       "'F'"
      ]
     },
     "metadata": {},
     "output_type": "display_data"
    }
   ],
   "source": [
    "for i in range(test_data.shape[0]):\n",
    "    sample = test_data[i]\n",
    "\n",
    "    display([getPitch(note) for note in np.argmax(sample[:,MELODY:MELODY+12],1)])\n",
    "\n",
    "    display(getPitch(np.argmax(model.predict(np.expand_dims(sample,0)))))\n",
    "    display(getPitch(test_labels[i][0]))"
   ]
  },
  {
   "cell_type": "code",
   "execution_count": null,
   "metadata": {},
   "outputs": [],
   "source": []
  },
  {
   "cell_type": "code",
   "execution_count": 0,
   "metadata": {
    "colab": {},
    "colab_type": "code",
    "id": "oj4IpyEaNX8x"
   },
   "outputs": [],
   "source": []
  },
  {
   "cell_type": "markdown",
   "metadata": {},
   "source": [
    "# Test Unfixed N"
   ]
  },
  {
   "cell_type": "code",
   "execution_count": 29,
   "metadata": {},
   "outputs": [
    {
     "data": {
      "text/plain": [
       "(4, 73)"
      ]
     },
     "execution_count": 29,
     "metadata": {},
     "output_type": "execute_result"
    }
   ],
   "source": [
    "train_data[0][:4].shape"
   ]
  },
  {
   "cell_type": "code",
   "execution_count": 44,
   "metadata": {
    "scrolled": true
   },
   "outputs": [
    {
     "data": {
      "text/plain": [
       "array([[3.41965484e-11, 1.29657582e-08, 5.56620305e-10, 5.50649595e-11,\n",
       "        3.07448744e-07, 2.88764734e-10, 4.10492795e-09, 1.45150270e-09,\n",
       "        3.65896028e-07, 1.51679998e-07, 1.89243690e-06, 2.08104240e-07,\n",
       "        2.89276777e-05, 9.97968376e-01, 5.70341605e-08, 2.09115979e-06,\n",
       "        1.97773357e-03, 1.01836781e-06, 1.18101589e-05, 2.70430832e-07,\n",
       "        1.22694019e-06, 1.12896082e-07, 1.80196533e-08, 3.22748335e-08,\n",
       "        5.48961054e-08, 4.65387393e-06, 1.77830112e-11, 1.45044754e-10,\n",
       "        9.75963275e-08, 6.19419967e-12, 1.03037676e-10, 6.52981558e-11,\n",
       "        1.01187432e-07, 1.24408359e-10, 2.32528095e-08, 9.09703757e-10,\n",
       "        4.65397818e-07]], dtype=float32)"
      ]
     },
     "execution_count": 44,
     "metadata": {},
     "output_type": "execute_result"
    }
   ],
   "source": [
    "model.predict(np.expand_dims(train_data[0],0))"
   ]
  },
  {
   "cell_type": "code",
   "execution_count": 49,
   "metadata": {
    "scrolled": true
   },
   "outputs": [
    {
     "data": {
      "text/plain": [
       "<tensorflow.python.keras.layers.recurrent.LSTM at 0x13928ee10>"
      ]
     },
     "execution_count": 49,
     "metadata": {},
     "output_type": "execute_result"
    }
   ],
   "source": [
    "model.layers[-3]"
   ]
  },
  {
   "cell_type": "code",
   "execution_count": 50,
   "metadata": {},
   "outputs": [
    {
     "name": "stderr",
     "output_type": "stream",
     "text": [
      "Using TensorFlow backend.\n"
     ]
    },
    {
     "ename": "AttributeError",
     "evalue": "'Tensor' object has no attribute '_keras_shape'",
     "output_type": "error",
     "traceback": [
      "\u001b[0;31m---------------------------------------------------------------------------\u001b[0m",
      "\u001b[0;31mAttributeError\u001b[0m                            Traceback (most recent call last)",
      "\u001b[0;32m<ipython-input-50-340d540fd8d0>\u001b[0m in \u001b[0;36m<module>\u001b[0;34m\u001b[0m\n\u001b[1;32m      3\u001b[0m \u001b[0mlayer_name\u001b[0m \u001b[0;34m=\u001b[0m \u001b[0;34m'my_layer'\u001b[0m\u001b[0;34m\u001b[0m\u001b[0;34m\u001b[0m\u001b[0m\n\u001b[1;32m      4\u001b[0m intermediate_layer_model = Model(inputs=model.input,\n\u001b[0;32m----> 5\u001b[0;31m                                  outputs=model.layers[-3].output)\n\u001b[0m\u001b[1;32m      6\u001b[0m \u001b[0mintermediate_output\u001b[0m \u001b[0;34m=\u001b[0m \u001b[0mintermediate_layer_model\u001b[0m\u001b[0;34m.\u001b[0m\u001b[0mpredict\u001b[0m\u001b[0;34m(\u001b[0m\u001b[0mnp\u001b[0m\u001b[0;34m.\u001b[0m\u001b[0mexpand_dims\u001b[0m\u001b[0;34m(\u001b[0m\u001b[0mtrain_data\u001b[0m\u001b[0;34m[\u001b[0m\u001b[0;36m0\u001b[0m\u001b[0;34m]\u001b[0m\u001b[0;34m,\u001b[0m\u001b[0;36m0\u001b[0m\u001b[0;34m)\u001b[0m\u001b[0;34m)\u001b[0m\u001b[0;34m\u001b[0m\u001b[0;34m\u001b[0m\u001b[0m\n",
      "\u001b[0;32m/Library/Frameworks/Python.framework/Versions/3.6/lib/python3.6/site-packages/keras/legacy/interfaces.py\u001b[0m in \u001b[0;36mwrapper\u001b[0;34m(*args, **kwargs)\u001b[0m\n\u001b[1;32m     89\u001b[0m                 warnings.warn('Update your `' + object_name + '` call to the ' +\n\u001b[1;32m     90\u001b[0m                               'Keras 2 API: ' + signature, stacklevel=2)\n\u001b[0;32m---> 91\u001b[0;31m             \u001b[0;32mreturn\u001b[0m \u001b[0mfunc\u001b[0m\u001b[0;34m(\u001b[0m\u001b[0;34m*\u001b[0m\u001b[0margs\u001b[0m\u001b[0;34m,\u001b[0m \u001b[0;34m**\u001b[0m\u001b[0mkwargs\u001b[0m\u001b[0;34m)\u001b[0m\u001b[0;34m\u001b[0m\u001b[0;34m\u001b[0m\u001b[0m\n\u001b[0m\u001b[1;32m     92\u001b[0m         \u001b[0mwrapper\u001b[0m\u001b[0;34m.\u001b[0m\u001b[0m_original_function\u001b[0m \u001b[0;34m=\u001b[0m \u001b[0mfunc\u001b[0m\u001b[0;34m\u001b[0m\u001b[0;34m\u001b[0m\u001b[0m\n\u001b[1;32m     93\u001b[0m         \u001b[0;32mreturn\u001b[0m \u001b[0mwrapper\u001b[0m\u001b[0;34m\u001b[0m\u001b[0;34m\u001b[0m\u001b[0m\n",
      "\u001b[0;32m/Library/Frameworks/Python.framework/Versions/3.6/lib/python3.6/site-packages/keras/engine/network.py\u001b[0m in \u001b[0;36m__init__\u001b[0;34m(self, *args, **kwargs)\u001b[0m\n\u001b[1;32m     91\u001b[0m                 'inputs' in kwargs and 'outputs' in kwargs):\n\u001b[1;32m     92\u001b[0m             \u001b[0;31m# Graph network\u001b[0m\u001b[0;34m\u001b[0m\u001b[0;34m\u001b[0m\u001b[0;34m\u001b[0m\u001b[0m\n\u001b[0;32m---> 93\u001b[0;31m             \u001b[0mself\u001b[0m\u001b[0;34m.\u001b[0m\u001b[0m_init_graph_network\u001b[0m\u001b[0;34m(\u001b[0m\u001b[0;34m*\u001b[0m\u001b[0margs\u001b[0m\u001b[0;34m,\u001b[0m \u001b[0;34m**\u001b[0m\u001b[0mkwargs\u001b[0m\u001b[0;34m)\u001b[0m\u001b[0;34m\u001b[0m\u001b[0;34m\u001b[0m\u001b[0m\n\u001b[0m\u001b[1;32m     94\u001b[0m         \u001b[0;32melse\u001b[0m\u001b[0;34m:\u001b[0m\u001b[0;34m\u001b[0m\u001b[0;34m\u001b[0m\u001b[0m\n\u001b[1;32m     95\u001b[0m             \u001b[0;31m# Subclassed network\u001b[0m\u001b[0;34m\u001b[0m\u001b[0;34m\u001b[0m\u001b[0;34m\u001b[0m\u001b[0m\n",
      "\u001b[0;32m/Library/Frameworks/Python.framework/Versions/3.6/lib/python3.6/site-packages/keras/engine/network.py\u001b[0m in \u001b[0;36m_init_graph_network\u001b[0;34m(self, inputs, outputs, name)\u001b[0m\n\u001b[1;32m    245\u001b[0m              \u001b[0minput_masks\u001b[0m\u001b[0;34m=\u001b[0m\u001b[0;34m[\u001b[0m\u001b[0;32mNone\u001b[0m \u001b[0;32mfor\u001b[0m \u001b[0m_\u001b[0m \u001b[0;32min\u001b[0m \u001b[0mself\u001b[0m\u001b[0;34m.\u001b[0m\u001b[0minputs\u001b[0m\u001b[0;34m]\u001b[0m\u001b[0;34m,\u001b[0m\u001b[0;34m\u001b[0m\u001b[0;34m\u001b[0m\u001b[0m\n\u001b[1;32m    246\u001b[0m              \u001b[0moutput_masks\u001b[0m\u001b[0;34m=\u001b[0m\u001b[0;34m[\u001b[0m\u001b[0;32mNone\u001b[0m \u001b[0;32mfor\u001b[0m \u001b[0m_\u001b[0m \u001b[0;32min\u001b[0m \u001b[0mself\u001b[0m\u001b[0;34m.\u001b[0m\u001b[0moutputs\u001b[0m\u001b[0;34m]\u001b[0m\u001b[0;34m,\u001b[0m\u001b[0;34m\u001b[0m\u001b[0;34m\u001b[0m\u001b[0m\n\u001b[0;32m--> 247\u001b[0;31m              \u001b[0minput_shapes\u001b[0m\u001b[0;34m=\u001b[0m\u001b[0;34m[\u001b[0m\u001b[0mx\u001b[0m\u001b[0;34m.\u001b[0m\u001b[0m_keras_shape\u001b[0m \u001b[0;32mfor\u001b[0m \u001b[0mx\u001b[0m \u001b[0;32min\u001b[0m \u001b[0mself\u001b[0m\u001b[0;34m.\u001b[0m\u001b[0minputs\u001b[0m\u001b[0;34m]\u001b[0m\u001b[0;34m,\u001b[0m\u001b[0;34m\u001b[0m\u001b[0;34m\u001b[0m\u001b[0m\n\u001b[0m\u001b[1;32m    248\u001b[0m              output_shapes=[x._keras_shape for x in self.outputs])\n\u001b[1;32m    249\u001b[0m \u001b[0;34m\u001b[0m\u001b[0m\n",
      "\u001b[0;32m/Library/Frameworks/Python.framework/Versions/3.6/lib/python3.6/site-packages/keras/engine/network.py\u001b[0m in \u001b[0;36m<listcomp>\u001b[0;34m(.0)\u001b[0m\n\u001b[1;32m    245\u001b[0m              \u001b[0minput_masks\u001b[0m\u001b[0;34m=\u001b[0m\u001b[0;34m[\u001b[0m\u001b[0;32mNone\u001b[0m \u001b[0;32mfor\u001b[0m \u001b[0m_\u001b[0m \u001b[0;32min\u001b[0m \u001b[0mself\u001b[0m\u001b[0;34m.\u001b[0m\u001b[0minputs\u001b[0m\u001b[0;34m]\u001b[0m\u001b[0;34m,\u001b[0m\u001b[0;34m\u001b[0m\u001b[0;34m\u001b[0m\u001b[0m\n\u001b[1;32m    246\u001b[0m              \u001b[0moutput_masks\u001b[0m\u001b[0;34m=\u001b[0m\u001b[0;34m[\u001b[0m\u001b[0;32mNone\u001b[0m \u001b[0;32mfor\u001b[0m \u001b[0m_\u001b[0m \u001b[0;32min\u001b[0m \u001b[0mself\u001b[0m\u001b[0;34m.\u001b[0m\u001b[0moutputs\u001b[0m\u001b[0;34m]\u001b[0m\u001b[0;34m,\u001b[0m\u001b[0;34m\u001b[0m\u001b[0;34m\u001b[0m\u001b[0m\n\u001b[0;32m--> 247\u001b[0;31m              \u001b[0minput_shapes\u001b[0m\u001b[0;34m=\u001b[0m\u001b[0;34m[\u001b[0m\u001b[0mx\u001b[0m\u001b[0;34m.\u001b[0m\u001b[0m_keras_shape\u001b[0m \u001b[0;32mfor\u001b[0m \u001b[0mx\u001b[0m \u001b[0;32min\u001b[0m \u001b[0mself\u001b[0m\u001b[0;34m.\u001b[0m\u001b[0minputs\u001b[0m\u001b[0;34m]\u001b[0m\u001b[0;34m,\u001b[0m\u001b[0;34m\u001b[0m\u001b[0;34m\u001b[0m\u001b[0m\n\u001b[0m\u001b[1;32m    248\u001b[0m              output_shapes=[x._keras_shape for x in self.outputs])\n\u001b[1;32m    249\u001b[0m \u001b[0;34m\u001b[0m\u001b[0m\n",
      "\u001b[0;31mAttributeError\u001b[0m: 'Tensor' object has no attribute '_keras_shape'"
     ]
    }
   ],
   "source": [
    "from keras.models import Model\n",
    "\n",
    "layer_name = 'my_layer'\n",
    "intermediate_layer_model = Model(inputs=model.input,\n",
    "                                 outputs=model.layers[-3].output)\n",
    "intermediate_output = intermediate_layer_model.predict(np.expand_dims(train_data[0],0))"
   ]
  },
  {
   "cell_type": "code",
   "execution_count": null,
   "metadata": {},
   "outputs": [],
   "source": []
  },
  {
   "cell_type": "code",
   "execution_count": null,
   "metadata": {},
   "outputs": [],
   "source": []
  },
  {
   "cell_type": "markdown",
   "metadata": {
    "colab_type": "text",
    "id": "iv-3x-0yNX8z"
   },
   "source": [
    "# Test Framework"
   ]
  },
  {
   "cell_type": "markdown",
   "metadata": {
    "colab_type": "text",
    "id": "iyK7IZAXDrnX"
   },
   "source": [
    "## Test A: TradeFour"
   ]
  },
  {
   "cell_type": "code",
   "execution_count": 49,
   "metadata": {
    "colab": {},
    "colab_type": "code",
    "id": "56ENduBtDrnX"
   },
   "outputs": [],
   "source": [
    "# read test midi file, ignore labels and get output from network\n",
    "# simply read midi here to see how it sounds + plot (by creating midi file with input midi and prediction from network)\n",
    "\n",
    "def writeMidi(notes, times, file, originalfile, tempo=120, resolution=12):\n",
    "    pm = pretty_midi.PrettyMIDI(resolution=resolution, initial_tempo=tempo)\n",
    "    pminst = pretty_midi.Instrument(program=0)\n",
    "    currtime = 0\n",
    "    for i, note in enumerate(notes):\n",
    "        if note != MELODY-1:\n",
    "            pitch = note+LOW\n",
    "            start = pm.tick_to_time(int(currtime))\n",
    "            end = pm.tick_to_time(int(currtime+times[i]))\n",
    "            if end > start:\n",
    "                pmnote = pretty_midi.Note(velocity=100, pitch = pitch, start=start, end=end)\n",
    "                pminst.notes.append(pmnote)\n",
    "        currtime += times[i]+1\n",
    "    pm.instruments.append(pminst)\n",
    "    \n",
    "    #get original chords from file\n",
    "    ogpm = pretty_midi.PrettyMIDI(originalfile)\n",
    "    originalchords = pretty_midi.Instrument(program=0)\n",
    "    originalnotes = getMelodyAndHarmonyBass(originalfile)['harmony']\n",
    "    for i, note in enumerate(originalnotes):\n",
    "        old = ogpm.time_to_tick(note.start)\n",
    "        start = pm.tick_to_time(int(ogpm.time_to_tick(note.start)/ogpm.resolution*pm.resolution))\n",
    "        end = pm.tick_to_time(int(ogpm.time_to_tick(note.end)/ogpm.resolution*pm.resolution))\n",
    "        originalchords.notes.append(pretty_midi.Note(velocity=50, pitch=note.pitch, start=start, end=end))\n",
    "    pm.instruments.append(originalchords)\n",
    "\n",
    "    pm.write(file)\n",
    "    return pm\n",
    "\n",
    "    \n",
    "def tradeFour(processedMidi):\n",
    "    notes, times, chords, chordsByBeat, key = processedMidi\n",
    "    predicted_notes, predicted_durations = [], []\n",
    "    mel_len=16+1 # wegen nextChord\n",
    "\n",
    "    notesnew = np.array(notes[-mel_len:])\n",
    "    timesnew = np.array(times[-mel_len:])\n",
    "    chordsnew = np.array(chords[-mel_len:])\n",
    "\n",
    "    currentbeat = 0\n",
    "    currenttime = 0\n",
    "    while sum(predicted_durations) < 4*TIMES:\n",
    "        processedMidi = notesnew, timesnew, chordsnew, chordsByBeat, key\n",
    "        feat = getFeatureVectors(processedMidi)\n",
    "        feat = tf.expand_dims(feat,0)\n",
    "        \n",
    "        pitch, duration = model(feat)\n",
    "\n",
    "        pred_pitch = tf.math.argmax(pitch, 1).numpy()[0]\n",
    "        pred_duration = tf.math.argmax(duration, 1).numpy()[0]\n",
    "\n",
    "        predicted_notes.append(pred_pitch)\n",
    "        predicted_durations.append(pred_duration)\n",
    "        notesnew = np.append(notesnew[1:], pred_pitch)\n",
    "        timesnew = np.append(timesnew[1:], pred_duration)\n",
    "        \n",
    "        if int(currenttime/12) > currentbeat:\n",
    "            newchord = chordsByBeat[int(currenttime/12)]\n",
    "            chordsnew = np.append(chordsnew[1:], newchord)\n",
    "        currenttime += pred_duration\n",
    "        currentbeat += int(currenttime/12)\n",
    "        \n",
    "        print(predicted_durations)\n",
    "        \n",
    "    notes = np.append(notes, np.array(predicted_notes))\n",
    "    times = np.append(times, np.array(predicted_durations))\n",
    "\n",
    "    return notes, times\n",
    "    \n",
    "def plotTradeFour(file):\n",
    "    processedMidi = processMidi(file)\n",
    "    \n",
    "    t = time.time()\n",
    "    notes, times = tradeFour(processedMidi)\n",
    "    print(time.time() - t,'s')\n",
    "    \n",
    "    # plotWithAudio\n",
    "    pm = writeMidi(notes, times, 'old_notebooks/treval/newtest.mid', file)\n",
    "    plt.figure(figsize=(8, 4))\n",
    "    plot_piano_roll(pm, LOW, HIGH)\n",
    "    display(IPython.display.Audio(pm.synthesize(fs=44000), rate=44000))   \n",
    "    "
   ]
  },
  {
   "cell_type": "code",
   "execution_count": 51,
   "metadata": {
    "colab": {
     "base_uri": "https://localhost:8080/",
     "height": 596
    },
    "colab_type": "code",
    "id": "jitsFsWbDrna",
    "outputId": "5f452100-38d5-49d8-83e3-b67aa01c25e0",
    "scrolled": false
   },
   "outputs": [
    {
     "ename": "FileNotFoundError",
     "evalue": "[Errno 2] No such file or directory: 'datasets/trainData/chords/test/testlmd.mid'",
     "output_type": "error",
     "traceback": [
      "\u001b[0;31m---------------------------------------------------------------------------\u001b[0m",
      "\u001b[0;31mFileNotFoundError\u001b[0m                         Traceback (most recent call last)",
      "\u001b[0;32m<ipython-input-51-eb0164d6aa66>\u001b[0m in \u001b[0;36m<module>\u001b[0;34m\u001b[0m\n\u001b[0;32m----> 1\u001b[0;31m \u001b[0mplotTradeFour\u001b[0m\u001b[0;34m(\u001b[0m\u001b[0;34m'test/testlmd.mid'\u001b[0m\u001b[0;34m)\u001b[0m\u001b[0;34m\u001b[0m\u001b[0;34m\u001b[0m\u001b[0m\n\u001b[0m",
      "\u001b[0;32m<ipython-input-49-0b83dd5815cf>\u001b[0m in \u001b[0;36mplotTradeFour\u001b[0;34m(file)\u001b[0m\n\u001b[1;32m     72\u001b[0m \u001b[0;34m\u001b[0m\u001b[0m\n\u001b[1;32m     73\u001b[0m \u001b[0;32mdef\u001b[0m \u001b[0mplotTradeFour\u001b[0m\u001b[0;34m(\u001b[0m\u001b[0mfile\u001b[0m\u001b[0;34m)\u001b[0m\u001b[0;34m:\u001b[0m\u001b[0;34m\u001b[0m\u001b[0;34m\u001b[0m\u001b[0m\n\u001b[0;32m---> 74\u001b[0;31m     \u001b[0mprocessedMidi\u001b[0m \u001b[0;34m=\u001b[0m \u001b[0mprocessMidi\u001b[0m\u001b[0;34m(\u001b[0m\u001b[0mfile\u001b[0m\u001b[0;34m)\u001b[0m\u001b[0;34m\u001b[0m\u001b[0;34m\u001b[0m\u001b[0m\n\u001b[0m\u001b[1;32m     75\u001b[0m \u001b[0;34m\u001b[0m\u001b[0m\n\u001b[1;32m     76\u001b[0m     \u001b[0mt\u001b[0m \u001b[0;34m=\u001b[0m \u001b[0mtime\u001b[0m\u001b[0;34m.\u001b[0m\u001b[0mtime\u001b[0m\u001b[0;34m(\u001b[0m\u001b[0;34m)\u001b[0m\u001b[0;34m\u001b[0m\u001b[0;34m\u001b[0m\u001b[0m\n",
      "\u001b[0;32m<ipython-input-6-17304bf598df>\u001b[0m in \u001b[0;36mprocessMidi\u001b[0;34m(file)\u001b[0m\n\u001b[1;32m     93\u001b[0m \u001b[0;34m\u001b[0m\u001b[0m\n\u001b[1;32m     94\u001b[0m \u001b[0;32mdef\u001b[0m \u001b[0mprocessMidi\u001b[0m\u001b[0;34m(\u001b[0m\u001b[0mfile\u001b[0m\u001b[0;34m)\u001b[0m\u001b[0;34m:\u001b[0m\u001b[0;34m\u001b[0m\u001b[0;34m\u001b[0m\u001b[0m\n\u001b[0;32m---> 95\u001b[0;31m     \u001b[0mpm\u001b[0m \u001b[0;34m=\u001b[0m \u001b[0mpretty_midi\u001b[0m\u001b[0;34m.\u001b[0m\u001b[0mPrettyMIDI\u001b[0m\u001b[0;34m(\u001b[0m\u001b[0mfolder\u001b[0m\u001b[0;34m+\u001b[0m\u001b[0;34m'chords/'\u001b[0m\u001b[0;34m+\u001b[0m\u001b[0mfile\u001b[0m\u001b[0;34m)\u001b[0m\u001b[0;34m\u001b[0m\u001b[0;34m\u001b[0m\u001b[0m\n\u001b[0m\u001b[1;32m     96\u001b[0m     \u001b[0;31m#tracks = getMelodyAndHarmony(file)\u001b[0m\u001b[0;34m\u001b[0m\u001b[0;34m\u001b[0m\u001b[0;34m\u001b[0m\u001b[0m\n\u001b[1;32m     97\u001b[0m     \u001b[0;31m#tracks = getMelodyAndHarmonyBass(file) //changing, this doesnt work anymore -> DACBass\u001b[0m\u001b[0;34m\u001b[0m\u001b[0;34m\u001b[0m\u001b[0;34m\u001b[0m\u001b[0m\n",
      "\u001b[0;32m/Library/Frameworks/Python.framework/Versions/3.6/lib/python3.6/site-packages/pretty_midi/pretty_midi.py\u001b[0m in \u001b[0;36m__init__\u001b[0;34m(self, midi_file, resolution, initial_tempo)\u001b[0m\n\u001b[1;32m     57\u001b[0m             \u001b[0;32mif\u001b[0m \u001b[0misinstance\u001b[0m\u001b[0;34m(\u001b[0m\u001b[0mmidi_file\u001b[0m\u001b[0;34m,\u001b[0m \u001b[0msix\u001b[0m\u001b[0;34m.\u001b[0m\u001b[0mstring_types\u001b[0m\u001b[0;34m)\u001b[0m\u001b[0;34m:\u001b[0m\u001b[0;34m\u001b[0m\u001b[0;34m\u001b[0m\u001b[0m\n\u001b[1;32m     58\u001b[0m                 \u001b[0;31m# If a string was given, pass it as the string filename\u001b[0m\u001b[0;34m\u001b[0m\u001b[0;34m\u001b[0m\u001b[0;34m\u001b[0m\u001b[0m\n\u001b[0;32m---> 59\u001b[0;31m                 \u001b[0mmidi_data\u001b[0m \u001b[0;34m=\u001b[0m \u001b[0mmido\u001b[0m\u001b[0;34m.\u001b[0m\u001b[0mMidiFile\u001b[0m\u001b[0;34m(\u001b[0m\u001b[0mfilename\u001b[0m\u001b[0;34m=\u001b[0m\u001b[0mmidi_file\u001b[0m\u001b[0;34m)\u001b[0m\u001b[0;34m\u001b[0m\u001b[0;34m\u001b[0m\u001b[0m\n\u001b[0m\u001b[1;32m     60\u001b[0m             \u001b[0;32melse\u001b[0m\u001b[0;34m:\u001b[0m\u001b[0;34m\u001b[0m\u001b[0;34m\u001b[0m\u001b[0m\n\u001b[1;32m     61\u001b[0m                 \u001b[0;31m# Otherwise, try passing it in as a file pointer\u001b[0m\u001b[0;34m\u001b[0m\u001b[0;34m\u001b[0m\u001b[0;34m\u001b[0m\u001b[0m\n",
      "\u001b[0;32m/Library/Frameworks/Python.framework/Versions/3.6/lib/python3.6/site-packages/mido/midifiles/midifiles.py\u001b[0m in \u001b[0;36m__init__\u001b[0;34m(self, filename, file, type, ticks_per_beat, charset, debug, clip)\u001b[0m\n\u001b[1;32m    313\u001b[0m             \u001b[0mself\u001b[0m\u001b[0;34m.\u001b[0m\u001b[0m_load\u001b[0m\u001b[0;34m(\u001b[0m\u001b[0mfile\u001b[0m\u001b[0;34m)\u001b[0m\u001b[0;34m\u001b[0m\u001b[0;34m\u001b[0m\u001b[0m\n\u001b[1;32m    314\u001b[0m         \u001b[0;32melif\u001b[0m \u001b[0mself\u001b[0m\u001b[0;34m.\u001b[0m\u001b[0mfilename\u001b[0m \u001b[0;32mis\u001b[0m \u001b[0;32mnot\u001b[0m \u001b[0;32mNone\u001b[0m\u001b[0;34m:\u001b[0m\u001b[0;34m\u001b[0m\u001b[0;34m\u001b[0m\u001b[0m\n\u001b[0;32m--> 315\u001b[0;31m             \u001b[0;32mwith\u001b[0m \u001b[0mio\u001b[0m\u001b[0;34m.\u001b[0m\u001b[0mopen\u001b[0m\u001b[0;34m(\u001b[0m\u001b[0mfilename\u001b[0m\u001b[0;34m,\u001b[0m \u001b[0;34m'rb'\u001b[0m\u001b[0;34m)\u001b[0m \u001b[0;32mas\u001b[0m \u001b[0mfile\u001b[0m\u001b[0;34m:\u001b[0m\u001b[0;34m\u001b[0m\u001b[0;34m\u001b[0m\u001b[0m\n\u001b[0m\u001b[1;32m    316\u001b[0m                 \u001b[0mself\u001b[0m\u001b[0;34m.\u001b[0m\u001b[0m_load\u001b[0m\u001b[0;34m(\u001b[0m\u001b[0mfile\u001b[0m\u001b[0;34m)\u001b[0m\u001b[0;34m\u001b[0m\u001b[0;34m\u001b[0m\u001b[0m\n\u001b[1;32m    317\u001b[0m \u001b[0;34m\u001b[0m\u001b[0m\n",
      "\u001b[0;31mFileNotFoundError\u001b[0m: [Errno 2] No such file or directory: 'datasets/trainData/chords/test/testlmd.mid'"
     ]
    }
   ],
   "source": [
    "plotTradeFour('test/testlmd.mid')"
   ]
  },
  {
   "cell_type": "markdown",
   "metadata": {
    "colab_type": "text",
    "id": "1z8g4E6UDrnj"
   },
   "source": [
    "## Test B: Overfitting"
   ]
  },
  {
   "cell_type": "code",
   "execution_count": 0,
   "metadata": {
    "colab": {},
    "colab_type": "code",
    "id": "c_NTDPAtDrnk"
   },
   "outputs": [],
   "source": [
    "# test how much % model can learn a melody\n",
    "\n",
    "# define test melody\n",
    "# train network\n",
    "# give percentage of how much it learnt\n",
    "\n",
    "chordsDict={\n",
    "    'C': [1,0,0,0,1,0,0,1,0,0,0,0],\n",
    "    'C7': [1,0,0,0,1,0,0,1,0,0,1,0],\n",
    "    'Cmaj7': [1,0,0,0,1,0,0,1,0,0,0,1]\n",
    "}"
   ]
  },
  {
   "cell_type": "code",
   "execution_count": 0,
   "metadata": {
    "colab": {},
    "colab_type": "code",
    "id": "q3bpvPeiDrnn",
    "outputId": "220e7428-964b-4cfc-cc61-7a60241946f8",
    "scrolled": false
   },
   "outputs": [
    {
     "data": {
      "text/plain": [
       "(15, 16, 31)"
      ]
     },
     "metadata": {
      "tags": []
     },
     "output_type": "display_data"
    },
    {
     "name": "stdout",
     "output_type": "stream",
     "text": [
      "Nr. of params: 30485\n"
     ]
    }
   ],
   "source": [
    "# test data\n",
    "notes = [0,2,4,7,7,4,2,0,0,2,4,7,7,4,2,0,0,5,3,4,5,8,7,5,0,2,4,7,7,4,2,0]\n",
    "times = np.ones(32)*8\n",
    "chord = chordsDict['C']\n",
    "chords = np.repeat(chord, 32).reshape((12,-1)).T\n",
    "encoding = True\n",
    "train_data, train_labels = getInputSequences(notes, times, chords, encoding=encoding, modulation=False, padding=False, seq_len=1)\n",
    "\n",
    "display(train_data.shape)\n",
    "batch_size = 32\n",
    "train_loader = getDataLoader(train_data, train_labels, batch_size=batch_size, shuffle=False)\n",
    "\n",
    "# test model\n",
    "model_params = {\n",
    "    'input_dim': train_data.shape[-1],\n",
    "    'hidden_dim': 64,\n",
    "    'num_layers': 1,\n",
    "    'output_dim_pitch': MELODY,\n",
    "    'output_dim_duration': TIMES,\n",
    "    'dropout': 0\n",
    "}\n",
    "\n",
    "testmodel = LSTM(**model_params)\n",
    "testmodel.to(device)"
   ]
  },
  {
   "cell_type": "code",
   "execution_count": 0,
   "metadata": {
    "colab": {},
    "colab_type": "code",
    "id": "gelE-IxbDrnq",
    "outputId": "714c3e78-b332-46d7-b07c-704a2c735345",
    "scrolled": true
   },
   "outputs": [
    {
     "name": "stdout",
     "output_type": "stream",
     "text": [
      "tensor([2, 2, 0, 2, 0, 0, 0, 0, 0, 0, 2, 2, 0, 0, 0])\n",
      "tensor([0., 5., 3., 4., 5., 8., 7., 5., 0., 2., 4., 7., 7., 4., 2.],\n",
      "       dtype=torch.float64)\n",
      "loss:  7.3719 acc_train:  6 acc_val:  6\n",
      "loss:  1.8806 acc_train:  20 acc_val:  20\n",
      "loss:  1.8009 acc_train:  26 acc_val:  26\n",
      "loss:  1.6949 acc_train:  33 acc_val:  33\n",
      "loss:  1.5203 acc_train:  53 acc_val:  53\n",
      "tensor([0, 5, 8, 4, 5, 8, 7, 5, 0, 7, 4, 7, 5, 4, 7])\n",
      "tensor([0., 5., 3., 4., 5., 8., 7., 5., 0., 2., 4., 7., 7., 4., 2.],\n",
      "       dtype=torch.float64)\n",
      "loss:  1.2851 acc_train:  73 acc_val:  73\n",
      "loss:  1.0255 acc_train:  80 acc_val:  80\n",
      "loss:  0.8072 acc_train:  86 acc_val:  86\n",
      "loss:  0.6302 acc_train:  86 acc_val:  86\n",
      "loss:  0.4656 acc_train:  93 acc_val:  93\n",
      "tensor([0, 5, 3, 4, 5, 8, 7, 5, 0, 2, 4, 7, 7, 4, 2])\n",
      "tensor([0., 5., 3., 4., 5., 8., 7., 5., 0., 2., 4., 7., 7., 4., 2.],\n",
      "       dtype=torch.float64)\n",
      "loss:  0.3227 acc_train:  100 acc_val:  100\n",
      "loss:  0.2176 acc_train:  100 acc_val:  100\n",
      "loss:  0.1449 acc_train:  100 acc_val:  100\n",
      "loss:  0.1 acc_train:  100 acc_val:  100\n",
      "loss:  0.0731 acc_train:  100 acc_val:  100\n",
      "tensor([0, 5, 3, 4, 5, 8, 7, 5, 0, 2, 4, 7, 7, 4, 2])\n",
      "tensor([0., 5., 3., 4., 5., 8., 7., 5., 0., 2., 4., 7., 7., 4., 2.],\n",
      "       dtype=torch.float64)\n",
      "loss:  0.0561 acc_train:  100 acc_val:  100\n",
      "loss:  0.0446 acc_train:  100 acc_val:  100\n",
      "loss:  0.0366 acc_train:  100 acc_val:  100\n",
      "loss:  0.0308 acc_train:  100 acc_val:  100\n",
      "loss:  0.0264 acc_train:  100 acc_val:  100\n",
      "tensor([0, 5, 3, 4, 5, 8, 7, 5, 0, 2, 4, 7, 7, 4, 2])\n",
      "tensor([0., 5., 3., 4., 5., 8., 7., 5., 0., 2., 4., 7., 7., 4., 2.],\n",
      "       dtype=torch.float64)\n",
      "loss:  0.0231 acc_train:  100 acc_val:  100\n",
      "loss:  0.0204 acc_train:  100 acc_val:  100\n",
      "loss:  0.0182 acc_train:  100 acc_val:  100\n",
      "loss:  0.0164 acc_train:  100 acc_val:  100\n",
      "loss:  0.0149 acc_train:  100 acc_val:  100\n",
      "tensor([0, 5, 3, 4, 5, 8, 7, 5, 0, 2, 4, 7, 7, 4, 2])\n",
      "tensor([0., 5., 3., 4., 5., 8., 7., 5., 0., 2., 4., 7., 7., 4., 2.],\n",
      "       dtype=torch.float64)\n",
      "loss:  0.0136 acc_train:  100 acc_val:  100\n",
      "loss:  0.0125 acc_train:  100 acc_val:  100\n",
      "loss:  0.0116 acc_train:  100 acc_val:  100\n",
      "loss:  0.0107 acc_train:  100 acc_val:  100\n",
      "loss:  0.01 acc_train:  100 acc_val:  100\n",
      "tensor([0, 5, 3, 4, 5, 8, 7, 5, 0, 2, 4, 7, 7, 4, 2])\n",
      "tensor([0., 5., 3., 4., 5., 8., 7., 5., 0., 2., 4., 7., 7., 4., 2.],\n",
      "       dtype=torch.float64)\n",
      "loss:  0.0093 acc_train:  100 acc_val:  100\n",
      "loss:  0.0087 acc_train:  100 acc_val:  100\n",
      "loss:  0.0082 acc_train:  100 acc_val:  100\n",
      "loss:  0.0077 acc_train:  100 acc_val:  100\n",
      "loss:  0.0073 acc_train:  100 acc_val:  100\n",
      "tensor([0, 5, 3, 4, 5, 8, 7, 5, 0, 2, 4, 7, 7, 4, 2])\n",
      "tensor([0., 5., 3., 4., 5., 8., 7., 5., 0., 2., 4., 7., 7., 4., 2.],\n",
      "       dtype=torch.float64)\n",
      "loss:  0.0069 acc_train:  100 acc_val:  100\n",
      "loss:  0.0066 acc_train:  100 acc_val:  100\n",
      "loss:  0.0062 acc_train:  100 acc_val:  100\n",
      "loss:  0.0059 acc_train:  100 acc_val:  100\n",
      "loss:  0.0056 acc_train:  100 acc_val:  100\n",
      "tensor([0, 5, 3, 4, 5, 8, 7, 5, 0, 2, 4, 7, 7, 4, 2])\n",
      "tensor([0., 5., 3., 4., 5., 8., 7., 5., 0., 2., 4., 7., 7., 4., 2.],\n",
      "       dtype=torch.float64)\n",
      "loss:  0.0054 acc_train:  100 acc_val:  100\n",
      "loss:  0.0052 acc_train:  100 acc_val:  100\n",
      "loss:  0.0049 acc_train:  100 acc_val:  100\n",
      "loss:  0.0047 acc_train:  100 acc_val:  100\n",
      "loss:  0.0045 acc_train:  100 acc_val:  100\n",
      "tensor([0, 5, 3, 4, 5, 8, 7, 5, 0, 2, 4, 7, 7, 4, 2])\n",
      "tensor([0., 5., 3., 4., 5., 8., 7., 5., 0., 2., 4., 7., 7., 4., 2.],\n",
      "       dtype=torch.float64)\n",
      "loss:  0.0044 acc_train:  100 acc_val:  100\n",
      "loss:  0.0042 acc_train:  100 acc_val:  100\n",
      "loss:  0.004 acc_train:  100 acc_val:  100\n",
      "loss:  0.0039 acc_train:  100 acc_val:  100\n",
      "loss:  0.0037 acc_train:  100 acc_val:  100\n",
      "tensor([0, 5, 3, 4, 5, 8, 7, 5, 0, 2, 4, 7, 7, 4, 2])\n",
      "tensor([0., 5., 3., 4., 5., 8., 7., 5., 0., 2., 4., 7., 7., 4., 2.],\n",
      "       dtype=torch.float64)\n",
      "loss:  0.0036 acc_train:  100 acc_val:  100\n",
      "loss:  0.0035 acc_train:  100 acc_val:  100\n",
      "loss:  0.0034 acc_train:  100 acc_val:  100\n",
      "loss:  0.0033 acc_train:  100 acc_val:  100\n",
      "loss:  0.0032 acc_train:  100 acc_val:  100\n",
      "tensor([0, 5, 3, 4, 5, 8, 7, 5, 0, 2, 4, 7, 7, 4, 2])\n",
      "tensor([0., 5., 3., 4., 5., 8., 7., 5., 0., 2., 4., 7., 7., 4., 2.],\n",
      "       dtype=torch.float64)\n",
      "loss:  0.0031 acc_train:  100 acc_val:  100\n",
      "loss:  0.003 acc_train:  100 acc_val:  100\n",
      "loss:  0.0029 acc_train:  100 acc_val:  100\n",
      "loss:  0.0028 acc_train:  100 acc_val:  100\n",
      "loss:  0.0027 acc_train:  100 acc_val:  100\n",
      "tensor([0, 5, 3, 4, 5, 8, 7, 5, 0, 2, 4, 7, 7, 4, 2])\n",
      "tensor([0., 5., 3., 4., 5., 8., 7., 5., 0., 2., 4., 7., 7., 4., 2.],\n",
      "       dtype=torch.float64)\n",
      "loss:  0.0026 acc_train:  100 acc_val:  100\n",
      "loss:  0.0025 acc_train:  100 acc_val:  100\n",
      "loss:  0.0025 acc_train:  100 acc_val:  100\n",
      "loss:  0.0024 acc_train:  100 acc_val:  100\n",
      "loss:  0.0023 acc_train:  100 acc_val:  100\n",
      "tensor([0, 5, 3, 4, 5, 8, 7, 5, 0, 2, 4, 7, 7, 4, 2])\n",
      "tensor([0., 5., 3., 4., 5., 8., 7., 5., 0., 2., 4., 7., 7., 4., 2.],\n",
      "       dtype=torch.float64)\n",
      "loss:  0.0023 acc_train:  100 acc_val:  100\n",
      "loss:  0.0022 acc_train:  100 acc_val:  100\n",
      "loss:  0.0022 acc_train:  100 acc_val:  100\n",
      "loss:  0.0021 acc_train:  100 acc_val:  100\n",
      "loss:  0.0021 acc_train:  100 acc_val:  100\n",
      "tensor([0, 5, 3, 4, 5, 8, 7, 5, 0, 2, 4, 7, 7, 4, 2])\n",
      "tensor([0., 5., 3., 4., 5., 8., 7., 5., 0., 2., 4., 7., 7., 4., 2.],\n",
      "       dtype=torch.float64)\n",
      "loss:  0.002 acc_train:  100 acc_val:  100\n",
      "loss:  0.002 acc_train:  100 acc_val:  100\n",
      "loss:  0.0019 acc_train:  100 acc_val:  100\n",
      "loss:  0.0019 acc_train:  100 acc_val:  100\n",
      "loss:  0.0018 acc_train:  100 acc_val:  100\n",
      "tensor([0, 5, 3, 4, 5, 8, 7, 5, 0, 2, 4, 7, 7, 4, 2])\n",
      "tensor([0., 5., 3., 4., 5., 8., 7., 5., 0., 2., 4., 7., 7., 4., 2.],\n",
      "       dtype=torch.float64)\n",
      "loss:  0.0018 acc_train:  100 acc_val:  100\n",
      "loss:  0.0017 acc_train:  100 acc_val:  100\n",
      "loss:  0.0017 acc_train:  100 acc_val:  100\n",
      "loss:  0.0017 acc_train:  100 acc_val:  100\n",
      "loss:  0.0016 acc_train:  100 acc_val:  100\n",
      "tensor([0, 5, 3, 4, 5, 8, 7, 5, 0, 2, 4, 7, 7, 4, 2])\n",
      "tensor([0., 5., 3., 4., 5., 8., 7., 5., 0., 2., 4., 7., 7., 4., 2.],\n",
      "       dtype=torch.float64)\n",
      "loss:  0.0016 acc_train:  100 acc_val:  100\n",
      "loss:  0.0016 acc_train:  100 acc_val:  100\n",
      "loss:  0.0015 acc_train:  100 acc_val:  100\n",
      "loss:  0.0015 acc_train:  100 acc_val:  100\n",
      "loss:  0.0015 acc_train:  100 acc_val:  100\n",
      "tensor([0, 5, 3, 4, 5, 8, 7, 5, 0, 2, 4, 7, 7, 4, 2])\n",
      "tensor([0., 5., 3., 4., 5., 8., 7., 5., 0., 2., 4., 7., 7., 4., 2.],\n",
      "       dtype=torch.float64)\n",
      "loss:  0.0014 acc_train:  100 acc_val:  100\n",
      "loss:  0.0014 acc_train:  100 acc_val:  100\n",
      "loss:  0.0014 acc_train:  100 acc_val:  100\n",
      "loss:  0.0013 acc_train:  100 acc_val:  100\n",
      "loss:  0.0013 acc_train:  100 acc_val:  100\n",
      "tensor([0, 5, 3, 4, 5, 8, 7, 5, 0, 2, 4, 7, 7, 4, 2])\n",
      "tensor([0., 5., 3., 4., 5., 8., 7., 5., 0., 2., 4., 7., 7., 4., 2.],\n",
      "       dtype=torch.float64)\n",
      "loss:  0.0013 acc_train:  100 acc_val:  100\n",
      "loss:  0.0013 acc_train:  100 acc_val:  100\n",
      "loss:  0.0012 acc_train:  100 acc_val:  100\n",
      "loss:  0.0012 acc_train:  100 acc_val:  100\n",
      "loss:  0.0012 acc_train:  100 acc_val:  100\n",
      "tensor([0, 5, 3, 4, 5, 8, 7, 5, 0, 2, 4, 7, 7, 4, 2])\n",
      "tensor([0., 5., 3., 4., 5., 8., 7., 5., 0., 2., 4., 7., 7., 4., 2.],\n",
      "       dtype=torch.float64)\n",
      "loss:  0.0012 acc_train:  100 acc_val:  100\n",
      "loss:  0.0012 acc_train:  100 acc_val:  100\n",
      "loss:  0.0011 acc_train:  100 acc_val:  100\n",
      "loss:  0.0011 acc_train:  100 acc_val:  100\n",
      "loss:  0.0011 acc_train:  100 acc_val:  100\n"
     ]
    },
    {
     "data": {
      "image/png": "[encoded data removed]",
      "text/plain": [
       "<Figure size 432x288 with 1 Axes>"
      ]
     },
     "metadata": {
      "needs_background": "light",
      "tags": []
     },
     "output_type": "display_data"
    }
   ],
   "source": [
    "train_params = {\n",
    "    'train_loader': train_loader,\n",
    "    'val_loader': train_loader,\n",
    "    'optim': torch.optim.Adam(testmodel.parameters(), lr=1e-2),\n",
    "    'loss_fn': torch.nn.CrossEntropyLoss(),\n",
    "    'num_epochs': 1000\n",
    "}\n",
    "train(testmodel, **train_params)"
   ]
  },
  {
   "cell_type": "code",
   "execution_count": 0,
   "metadata": {
    "colab": {},
    "colab_type": "code",
    "id": "57ym3Kx-Drnz"
   },
   "outputs": [],
   "source": []
  },
  {
   "cell_type": "code",
   "execution_count": 0,
   "metadata": {
    "colab": {},
    "colab_type": "code",
    "id": "1zPqpYyNDrn3"
   },
   "outputs": [],
   "source": [
    "## Testing Krumhansl"
   ]
  },
  {
   "cell_type": "code",
   "execution_count": 0,
   "metadata": {
    "colab": {},
    "colab_type": "code",
    "id": "fIP8bzP9Drn6"
   },
   "outputs": [],
   "source": [
    "folder = \"datasets/lmd_full/0/\"\n",
    "#files[:5]\n",
    "\n",
    "files = [file for file in os.listdir(folder) if '.mid' in file]\n",
    "pm = pretty_midi.PrettyMIDI(folder + files[2])\n",
    "pch = pm.get_pitch_class_histogram()\n",
    "\n",
    "np.argmax(ks_key(pch)[1])\n",
    "\n",
    "pm.key_signature_changes\n",
    "\n",
    "folder = \"datasets/Piano-midi.de/train/\" #0.75 ohne C mit rel\n",
    "folder = \"datasets/kpcorpus/\" \n",
    "folder = \"datasets/lmd_full/2/\"\n",
    "t = time.time()\n",
    "\n",
    "# find keys\n",
    "files = [file for file in os.listdir(folder) if '.mid' in file]\n",
    "    \n",
    "def key(key_number):\n",
    "    return pretty_midi.key_number_to_key_name(key_number)\n",
    "\n",
    "def keynr(key):\n",
    "    return pretty_midi.key_name_to_key_number(key)\n",
    "       \n",
    "def isFifth(realkey,predkey):\n",
    "    return (realkey - predkey)%12 == 7 or (predkey - realkey)%12 == 7\n",
    "        \n",
    "def isRelative(realkey,predkey):\n",
    "    if realkey > 11 and (realkey - 9) % 12 == predkey:\n",
    "        return True\n",
    "    elif predkey > 11 and (predkey - 9) % 12 == realkey:\n",
    "        return True\n",
    "    else:\n",
    "        return False\n",
    "        \n",
    "def isParallel(realkey,predkey):\n",
    "    return realkey%12 == predkey%12\n",
    "\n",
    "correct ,fifth,relative,parallel,total = 0,0,0,0,0\n",
    "keys=[]\n",
    "print(\"Scale by first keychange event, \\t Scale by KrumhanslSchmuckler, \\t, Filename\")\n",
    "for i, file in enumerate(files[:100]):\n",
    "    try:\n",
    "        pm = pretty_midi.PrettyMIDI(folder + file)\n",
    "    except:\n",
    "        continue\n",
    "\n",
    "    pm = pretty_midi.PrettyMIDI(folder + file)\n",
    "    if pm.key_signature_changes != []:\n",
    "        try:\n",
    "            algkey = ks_key(pm.get_pitch_class_histogram(), 'aarden')\n",
    "            pmkeys = [x.key_number for x in pm.key_signature_changes]\n",
    "            pmkey = pmkeys[0]\n",
    "            if pmkey == 0:\n",
    "                continue\n",
    "            keys.append([pmkey,algkey])\n",
    "            #print(key(pmkey), '\\t', key(int(algkey)), '\\t', file, '\\t', pmkeys)\n",
    "        except:\n",
    "            pass\n",
    "\n",
    "correct ,fifth,relative,parallel,total = 0,0,0,0,0\n",
    "for key in keys:\n",
    "    realkey = key[0]\n",
    "    predkey = key[1]\n",
    "    total += 1\n",
    "    if realkey == predkey:\n",
    "        correct += 1\n",
    "    elif isFifth(realkey,predkey):\n",
    "        fifth += 1\n",
    "    elif isRelative(realkey,predkey):\n",
    "        relative += 1\n",
    "    elif isParallel(realkey,predkey):\n",
    "        parallel += 1\n",
    "print(\"time\", np.round(time.time()-t,2), \"s\")\n",
    "print(correct, relative, fifth, parallel, total)\n",
    "print((correct+relative)/total, correct/total, relative/total, fifth/total, parallel/total, (total-correct-fifth-relative-parallel)/total)\n"
   ]
  },
  {
   "cell_type": "code",
   "execution_count": 0,
   "metadata": {
    "colab": {},
    "colab_type": "code",
    "id": "gfDCQVeKDrn9"
   },
   "outputs": [],
   "source": []
  },
  {
   "cell_type": "code",
   "execution_count": 0,
   "metadata": {
    "colab": {},
    "colab_type": "code",
    "id": "6frqMELbDroA"
   },
   "outputs": [],
   "source": []
  },
  {
   "cell_type": "code",
   "execution_count": 0,
   "metadata": {
    "colab": {},
    "colab_type": "code",
    "id": "7Amv8q3uDroC"
   },
   "outputs": [],
   "source": []
  },
  {
   "cell_type": "code",
   "execution_count": 0,
   "metadata": {
    "colab": {},
    "colab_type": "code",
    "id": "EYwLvorgDroH"
   },
   "outputs": [],
   "source": []
  },
  {
   "cell_type": "code",
   "execution_count": 0,
   "metadata": {
    "colab": {},
    "colab_type": "code",
    "id": "m4CGABNGDroP"
   },
   "outputs": [],
   "source": []
  }
 ],
 "metadata": {
  "accelerator": "GPU",
  "colab": {
   "collapsed_sections": [],
   "name": "aJamBuddyDACTFBass.ipynb",
   "provenance": [],
   "toc_visible": true,
   "version": "0.3.2"
  },
  "kernelspec": {
   "display_name": "Python 3",
   "language": "python",
   "name": "python3"
  },
  "language_info": {
   "codemirror_mode": {
    "name": "ipython",
    "version": 3
   },
   "file_extension": ".py",
   "mimetype": "text/x-python",
   "name": "python",
   "nbconvert_exporter": "python",
   "pygments_lexer": "ipython3",
   "version": "3.6.7"
  }
 },
 "nbformat": 4,
 "nbformat_minor": 1
}
