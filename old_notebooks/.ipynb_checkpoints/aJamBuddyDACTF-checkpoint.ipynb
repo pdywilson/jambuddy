{
 "cells": [
  {
   "cell_type": "code",
   "execution_count": 1,
   "metadata": {
    "colab": {
     "base_uri": "https://localhost:8080/",
     "height": 34
    },
    "colab_type": "code",
    "executionInfo": {
     "elapsed": 1546,
     "status": "ok",
     "timestamp": 1559137401049,
     "user": {
      "displayName": "Paddy Wilson",
      "photoUrl": "https://lh3.googleusercontent.com/-Lq7fKfmUlNg/AAAAAAAAAAI/AAAAAAAACRI/cFf3IdBdoQA/s64/photo.jpg",
      "userId": "00502307669733282628"
     },
     "user_tz": -120
    },
    "id": "VSrdFgxyDrmG",
    "outputId": "c68ff6ce-79af-4ac4-d7f8-d4ccbbee7f80",
    "scrolled": false
   },
   "outputs": [],
   "source": [
    "%matplotlib inline\n",
    "import os\n",
    "import time\n",
    "import numpy as np\n",
    "import matplotlib.pyplot as plt\n",
    "import IPython.display\n",
    "import collections\n",
    "from collections import Counter\n",
    "import seaborn as sns\n",
    "#import pyfluidsynth\n",
    "\n",
    "from pathlib import Path\n",
    "import pretty_midi\n",
    "import librosa.display\n",
    "import glob\n",
    "import datetime\n",
    "\n",
    "from music21 import *\n",
    "\n",
    "import tensorflow as tf\n",
    "tf.enable_eager_execution()\n",
    "\n",
    "%load_ext autoreload\n",
    "%autoreload 2\n",
    "\n",
    "folder = 'train/'\n"
   ]
  },
  {
   "cell_type": "code",
   "execution_count": 2,
   "metadata": {
    "colab": {
     "base_uri": "https://localhost:8080/",
     "height": 34
    },
    "colab_type": "code",
    "executionInfo": {
     "elapsed": 690,
     "status": "ok",
     "timestamp": 1559137401055,
     "user": {
      "displayName": "Paddy Wilson",
      "photoUrl": "https://lh3.googleusercontent.com/-Lq7fKfmUlNg/AAAAAAAAAAI/AAAAAAAACRI/cFf3IdBdoQA/s64/photo.jpg",
      "userId": "00502307669733282628"
     },
     "user_tz": -120
    },
    "id": "YbO_nrQpDrmO",
    "outputId": "2a1e1eec-c5a2-47a0-b9ba-e92467767ef4"
   },
   "outputs": [],
   "source": [
    "# some prep steps\n",
    "# for google colab\n",
    "try:\n",
    "    import google.colab\n",
    "    IN_COLAB = True\n",
    "except:\n",
    "    IN_COLAB = False\n",
    "    \n",
    "if IN_COLAB:\n",
    "    from google.colab import drive\n",
    "    drive.mount('/content/drive/')\n",
    "    data_folder = \"/content/drive/My Drive/Colab Notebooks/data/\"\n",
    "    os.chdir(data_folder)\n",
    "else:\n",
    "    data_folder = \"\"\n"
   ]
  },
  {
   "cell_type": "markdown",
   "metadata": {
    "colab_type": "text",
    "id": "95G80nAcDrmS"
   },
   "source": [
    "# A. Preprocess Midi file\n",
    "#### Choose a harmony and a melody track from a MIDI file"
   ]
  },
  {
   "cell_type": "code",
   "execution_count": 3,
   "metadata": {
    "colab": {},
    "colab_type": "code",
    "id": "iSk5F55lDrmb"
   },
   "outputs": [],
   "source": [
    "## PARAMS\n",
    "# highest note is melody\n",
    "LOW = 48 # C2=48, C3=60, C4=72, C5=84, C6=96\n",
    "HIGH = 84 # range(48,84) = 36 notes \n",
    "\n",
    "# input sizes\n",
    "MELODY = 37 \n",
    "TIMES = 48\n",
    "CHORDS = 12\n"
   ]
  },
  {
   "cell_type": "code",
   "execution_count": null,
   "metadata": {},
   "outputs": [],
   "source": [
    "# krumhansl schmuckler\n",
    "# adapted from https://gist.github.com/bmcfee/1f66825cef2eb34c839b42dddbad49fd\n",
    "import scipy.linalg\n",
    "import scipy.stats\n",
    "\n",
    "def ks_key(X, weights='kessler'):\n",
    "    '''Estimate the key from a pitch class distribution\n",
    "    \n",
    "    Parameters\n",
    "    ----------\n",
    "    X : np.ndarray, shape=(12,)\n",
    "        Pitch-class energy distribution.  Need not be normalized\n",
    "        \n",
    "    Returns\n",
    "    -------\n",
    "    major : np.ndarray, shape=(12,)\n",
    "    minor : np.ndarray, shape=(12,)\n",
    "    \n",
    "        For each key (C:maj, ..., B:maj) and (C:min, ..., B:min),\n",
    "        the correlation score for `X` against that key.\n",
    "    '''\n",
    "    X = scipy.stats.zscore(X)\n",
    "    \n",
    "    # Coefficients from Kumhansl and Schmuckler\n",
    "    # as reported here: http://rnhart.net/articles/key-finding/\n",
    "    \n",
    "    # weights as https://musicinformationretrieval.wordpress.com/2017/02/24/state-of-the-art-2/\n",
    "    if weights == 'kessler':\n",
    "        major = np.asarray([6.35, 2.23, 3.48, 2.33, 4.38, 4.09, 2.52, 5.19, 2.39, 3.66, 2.29, 2.88])\n",
    "        minor = np.asarray([6.33, 2.68, 3.52, 5.38, 2.60, 3.53, 2.54, 4.75, 3.98, 2.69, 3.34, 3.17])\n",
    "    elif weights == 'schmuckler':\n",
    "        major = np.asarray([6.35, 2.33, 3.48, 2.33, 4.38, 4.09, 2.52, 5.19, 2.39, 3.66, 2.29, 2.88])\n",
    "        minor = np.asarray([6.33, 2.68, 3.52, 5.38, 2.60, 3.53, 2.54, 4.75, 3.98, 2.69, 3.34, 3.17])\n",
    "    elif weights == 'aarden':\n",
    "        major = np.asarray([17.7661, 0.145624, 14.9265, 0.160186, 19.8049, 11.3587, 0.281248, 22.062, 0.145624, 8.15494, 0.232998, 4.95122])\n",
    "        minor = np.asarray([18.2648, 0.737619, 14.0499, 16.8599, 0.702494, 14.4362, 0.702494, 18.6161, 4.56621, 1.93186, 7.37619, 1.75623])\n",
    "    elif weights == 'sapp':\n",
    "        major = np.asarray([2, 0, 1, 0, 1, 1, 0, 2, 0, 1, 0, 1])\n",
    "        minor = np.asarray([2, 0, 1, 1, 0, 1, 0, 2, 1, 0, 0.5, 0.5])\n",
    "    elif weights == 'bellman':\n",
    "        major = np.asarray([16.8, 0.86, 12.95, 1.41, 13.49, 11.93, 1.25, 20.28, 1.8, 8.04, 0.62, 10.57])\n",
    "        minor = np.asarray([18.16, 0.69, 12.99, 13.34, 1.07, 11.15, 1.38, 21.07, 7.49, 1.53, 0.92, 10.21])\n",
    "    elif weights == 'temperley':\n",
    "        major = np.asarray([0.748, 0.06, 0.488, 0.082, 0.67, 0.46, 0.096, 0.715, 0.104, 0.366, 0.057, 0.4])\n",
    "        minor = np.asarray([0.712, 0.84, 0.474, 0.618, 0.049, 0.46, 0.105, 0.747, 0.404, 0.067, 0.133, 0.33])\n",
    "        \n",
    "        \n",
    "    major = scipy.stats.zscore(major)\n",
    "    minor = scipy.stats.zscore(minor)\n",
    "    \n",
    "    # Generate all rotations of major\n",
    "    major = scipy.linalg.circulant(major)\n",
    "    minor = scipy.linalg.circulant(minor)\n",
    "    \n",
    "    major = major.T.dot(X)\n",
    "    minor = minor.T.dot(X)\n",
    "    \n",
    "    major_max = np.argmax(major)\n",
    "    minor_max = np.argmax(minor)\n",
    "    return major_max if np.max(major) >= np.max(minor) else minor_max+12"
   ]
  },
  {
   "cell_type": "code",
   "execution_count": 32,
   "metadata": {
    "colab": {},
    "colab_type": "code",
    "id": "eYnJdXBYDrmf"
   },
   "outputs": [],
   "source": [
    "# MIDI processing\n",
    "def getMelodyAndHarmony(file):\n",
    "    def padAndAdd(a,b):\n",
    "        return sorted(a+b,key= lambda x:x.start)\n",
    "    \n",
    "    pm = pretty_midi.PrettyMIDI(file)\n",
    "    pm.remove_invalid_notes()\n",
    "    print(\"\\nEasy Processing: \"+file)\n",
    "    \n",
    "    if len(pm.instruments) == 1:\n",
    "        print(\"Both: Using only track for both harmony and melody\")\n",
    "        pianoroll = pm.instruments[0].notes\n",
    "        return {'melody': pianoroll, 'harmony': pianoroll}\n",
    "    \n",
    "    else:\n",
    "        maxlen = 0\n",
    "        pianos = []\n",
    "        guitars = []\n",
    "        melodies = []\n",
    "        for i, elt in enumerate(pm.instruments):\n",
    "            #if pm.instruments[i].is_drum:\n",
    "            #    continue\n",
    "            pianoroll = pm.instruments[i].get_piano_roll().T\n",
    "            numnotes = pianoroll.nonzero()[0].shape[0]\n",
    "            if numnotes > maxlen:\n",
    "                mostnotes = i\n",
    "                maxlen = numnotes\n",
    "            if 'piano' in pm.instruments[i].name.lower():             #if pm.instruments[i].program in range(8): # MIDI 0..7 are pianos\n",
    "                pianos.append((pm.instruments[i].notes,numnotes))\n",
    "            if 'guitar' in pm.instruments[i].name.lower():             #if pm.instruments[i].program in range(24,32):\n",
    "                guitars.append((pm.instruments[i].notes,numnotes))\n",
    "            if 'melody' in pm.instruments[i].name.lower():\n",
    "                # melodies.append((pianoroll,numnotes)) do i really want to padandadd two melodies always??\n",
    "                melodies.append(pm.instruments[i].notes)\n",
    "\n",
    "        if pianos != []:\n",
    "            print(\"Harmony: Using piano with most notes as harmony of\", len(pianos))\n",
    "            pianowithmostnotes = max(pianos, key=lambda x: x[1])\n",
    "            harmonytrack = pianowithmostnotes[0]\n",
    "        elif guitars != []:\n",
    "            print(\"Harmony: Using guitar with most notes as harmony of\", len(guitars))\n",
    "            guitarwithmostnotes = max(guitars, key=lambda x: x[1])\n",
    "            harmonytrack = guitarwithmostnotes[0]\n",
    "        else:\n",
    "            print(\"Error: no piano or guitar track found\")\n",
    "            harmonytrack = pm.instruments[0].notes\n",
    "            return\n",
    "\n",
    "        if len(melodies) == 1:\n",
    "            print(\"Melody: using only melody track as melody\")\n",
    "            melodytrack = melodies[0]\n",
    "        elif len(melodies) == 2:\n",
    "            print(\"Melody: padding and adding two melodies to one\")\n",
    "            melodytrack = padAndAdd(melodies[0], melodies[1])\n",
    "        elif len(melodies) > 2:\n",
    "            print(\"Melody: more than 2 melody tracks. padding and adding first two of # \", len(melodies),\"melodies.\")\n",
    "            melodytrack = padAndAdd(melodies[0], melodies[1])\n",
    "        else:\n",
    "            print(\"Error: no melody track found.\")\n",
    "            melodytrack = pm.instruments[0].notes\n",
    "            return\n",
    "\n",
    "        return {'melody': melodytrack, 'harmony': harmonytrack}\n",
    "\n",
    "def oneHot(idx, arraysize):\n",
    "        if idx >= arraysize:\n",
    "            print(\"error idx > arraysize\")\n",
    "            return\n",
    "        ar = np.zeros(arraysize)\n",
    "        ar[idx] = 1\n",
    "        return ar\n",
    "\n",
    "def processMidi(file):\n",
    "    pm = pretty_midi.PrettyMIDI(file)\n",
    "    tracks = getMelodyAndHarmony(file)\n",
    "\n",
    "    pmnotes = tracks['melody']\n",
    "    notes, times = [], []\n",
    "    currenttime = 0\n",
    "    for i, note in enumerate(pmnotes):\n",
    "        if note.start > currenttime:\n",
    "            notes.append(MELODY-1)\n",
    "            duration = pm.time_to_tick(note.start-currenttime)\n",
    "            times.append(duration)\n",
    "        if note.pitch in range(LOW,HIGH):\n",
    "            notes.append(note.pitch - LOW)\n",
    "        else:\n",
    "            notes.append(note.pitch % 12)\n",
    "        if i < len(pmnotes)-1 and note.end > pmnotes[i+1].start: # overlap with next note\n",
    "            times.append(pm.time_to_tick(pmnotes[i+1].start - note.start))\n",
    "            currenttime = pmnotes[i+1].start\n",
    "        else:\n",
    "            times.append(pm.time_to_tick(note.end-note.start))\n",
    "            currenttime = note.end\n",
    "    times = np.array(np.round(np.array(times)/pm.resolution*12),dtype=np.int32)\n",
    "    \n",
    "    # getChords\n",
    "    pmnotes = tracks['harmony']\n",
    "    notesDict = {}\n",
    "    for i, note in enumerate(pmnotes):\n",
    "        end = note.end\n",
    "        startbeat = int(pm.time_to_tick(note.start)/pm.resolution)\n",
    "        endbeat = int(pm.time_to_tick(note.end)/pm.resolution)\n",
    "        for j in range(startbeat, endbeat): #evry beat\n",
    "            notesDict[j] = notesDict.get(j,np.zeros(12)) + oneHot(note.pitch % 12,12)\n",
    "    \n",
    "\n",
    "    # append for every beat (timestep) a vector. either np.zeros or chordinfovector\n",
    "    chords = []\n",
    "    for i in range(max(notesDict)): \n",
    "        chords.append(notesDict.get(i,np.zeros(12)))\n",
    "    chordsByBeat = np.array(chords)\n",
    "    \n",
    "\n",
    "    # connect notes and chords\n",
    "    currbeat = 0\n",
    "    newchords = []\n",
    "    for time in times:\n",
    "        beat = int(currbeat/12)\n",
    "        newchord = np.zeros(12)\n",
    "        for j in range(int((time)/12)): \n",
    "            if j+beat < chordsByBeat.shape[0]:\n",
    "                newchord += chordsByBeat[j+beat]\n",
    "        newchords.append(newchord)\n",
    "        currbeat += time\n",
    "    chords = np.array(newchords)\n",
    "    \n",
    "    \n",
    "     #cleanup\n",
    "    times[np.where(times > 48)[0]] = 48\n",
    "    notes = np.array(notes)[np.where(times > 0)[0]]\n",
    "    chords = chords[np.where(times > 0)[0]]\n",
    "    times = times[np.where(times > 0)[0]]\n",
    "    times = times - 1 # reshift to 0..47\n",
    "    \n",
    "    \n",
    "    #new Chord and key analysis, first only key analysis\n",
    "    algkey = ks_key(pm.get_pitch_class_histogram(), 'aarden')\n",
    "    key = oneHot(algkey,24)\n",
    "    \n",
    "    \n",
    "    \n",
    "    \n",
    "    return notes, times, chords, chordsByBeat, key"
   ]
  },
  {
   "cell_type": "code",
   "execution_count": 42,
   "metadata": {
    "colab": {},
    "colab_type": "code",
    "id": "0kvKT9W1Drmi"
   },
   "outputs": [],
   "source": [
    "# Input representation\n",
    "def getCircleOfThirds(note):\n",
    "    \"\"\"input: note, scalar in [0,C)\n",
    "    output: array, size (11,) including 3 bits for octave, 1 for rest\n",
    "    \"\"\"\n",
    "    circleMajor = lambda x: x%4\n",
    "    circleMinor = lambda x: x%3\n",
    "    representation = np.zeros(11)\n",
    "    if note < MELODY-1:\n",
    "        absnote = note % 12\n",
    "        octave = int(note/12)\n",
    "        representation[7+octave] = 1\n",
    "        representation[circleMajor(absnote)] = 1\n",
    "        representation[4+circleMinor(absnote)] = 1\n",
    "    else:\n",
    "        representation[-1] = 1\n",
    "    return representation\n",
    "\n",
    "def getDuration(duration):\n",
    "    \"\"\"input size (1,) in [0,48)\n",
    "       output size (6,)\n",
    "    \"\"\"\n",
    "    return np.unpackbits(np.uint8(duration))[2:]\n",
    "\n",
    "def getChord(chord):\n",
    "    \"\"\"input size (12,)\n",
    "    outputs current and next chord shape (7,)\n",
    "    \"\"\"\n",
    "    repre = np.zeros(7)\n",
    "    for i, elt in enumerate(chord):\n",
    "        x = elt * getCircleOfThirds(i)[:7]\n",
    "        repre += x\n",
    "    return repre\n",
    "\n",
    "def getFeatureVectors(processedMidi, encodingDict, modulation=False): #TODO modulation ueberdenken\n",
    "    \"\"\"input size [7(pitch)+2(octaves)+1(Rest)]+6(duration)+7(chords)+7(nextchords)=30=Fsize #TODO: maybe change chords\n",
    "    Creates Feature Vector from notes lists.\n",
    "    Input: notes, times, chords from processMIDI\n",
    "    Output: features array, size: (N, Fsize)  Fsize varies\n",
    "    \"\"\"\n",
    "    notes, times, chords, chordsByBeat, key = processedMidi\n",
    "    features = []\n",
    "    for i, note in enumerate(notes[:-1]):\n",
    "        feature = np.empty(0)\n",
    "        if encodingDict['melody']:\n",
    "            if notes[i] < MELODY: # pitch or pause bit\n",
    "                feature = np.concatenate((feature, oneHot(notes[i],MELODY)))\n",
    "            else:\n",
    "                print(\"melody over 37\")\n",
    "                feature = np.concatenate((feature, np.zeros(MELODY)))\n",
    "            \n",
    "        if encodingDict['melodyModulo']: \n",
    "            if notes[i] < MELODY-1: # only pitch bit or zeros if pause\n",
    "                feature = np.concatenate((feature, oneHot(notes[i]%12,12)))\n",
    "            else:\n",
    "                feature = np.concatenate((feature, np.zeros(12)))\n",
    "        if encodingDict['melodyEncoded']: # pitch+octave+rest\n",
    "            feature = np.concatenate((feature,getCircleOfThirds(note)))\n",
    "        if encodingDict['duration']:\n",
    "            feature = np.concatenate((feature,oneHot(int(times[i]),48)))  \n",
    "        if encodingDict['durationEncoded']:\n",
    "            feature = np.concatenate((feature,getDuration(times[i])))\n",
    "        if encodingDict['chordsNormally']:\n",
    "            feature = np.concatenate((feature,chords[i]))\n",
    "            feature = np.concatenate((feature,chords[i+1]))\n",
    "        if encodingDict['chordsEncoded']:\n",
    "            feature = np.concatenate((feature,getChord(chords[i])))  # chord ERROR: MAKE THIS BETTER\n",
    "            feature = np.concatenate((feature,getChord(chords[i+1])))   # chord ERROR: MAKE THIS BETTER\n",
    "        if encodingDict['key']:\n",
    "            feature = np.concatenate((feature,key))\n",
    "        features.append(feature)\n",
    "    features = np.array(features)\n",
    "    return features.astype('float32')\n",
    "\n",
    "def getInputSequences(processedMidi, encodingDict, padding=False, seq_len=16):\n",
    "    \"\"\"Create Net Input.\n",
    "    Input: features from getFeatureVectors or getEncodedFeatureVectors\n",
    "    Output: \n",
    "        - Sequences, size: (157, seq_len)\n",
    "        - Labels, one-hot, size: (MELODY,)\n",
    "    \"\"\"\n",
    "    features = getFeatureVectors(processedMidi, encodingDict)\n",
    "    notes, times, _, _, _ = processedMidi\n",
    "    sequences = []\n",
    "    labels = []\n",
    "    i = 0\n",
    "    if padding == True:\n",
    "        padded_notes = np.concatenate((np.zeros((seq_len,features.shape[1])),features[:seq_len]))\n",
    "        for j in range(seq_len):\n",
    "            sequences.append(padded_notes[j:j+seq_len])\n",
    "            label_pitch = notes[j]\n",
    "            label_duration = times[j]\n",
    "            labels.append((label_pitch, label_duration))\n",
    "    while i+seq_len < features.shape[0]:\n",
    "        sequences.append(features[i:i+seq_len])\n",
    "        label_pitch = notes[i+seq_len]\n",
    "        label_duration = times[i+seq_len]\n",
    "        labels.append((label_pitch, label_duration))\n",
    "        i += 1     # or += seq_len\n",
    "        \n",
    "    sequences = np.array(sequences)\n",
    "    labels = np.array(labels)\n",
    "    return sequences, labels\n",
    "\n",
    "def modulate(processedMidi, modulate=0):\n",
    "    \"\"\"modulates downwards\"\"\"\n",
    "    notes, times, chords, chordsByBeat, key = processedMidi\n",
    "    i = modulate\n",
    "    modnotes = notes - i\n",
    "    modnotes[np.where(modnotes == 36 - i)[0]] = 36\n",
    "    modnotes[np.where(modnotes < 0)[0]] = 36\n",
    "\n",
    "    modchords = np.append(chords[:,i:],chords[:,:i],axis=1)\n",
    "\n",
    "    if chordsByBeat is not None:\n",
    "        modcbb = np.append(chordsByBeat[:,i:],chordsByBeat[:,:i],axis=1)\n",
    "    else:\n",
    "        modcbb = None\n",
    "\n",
    "    processedMidi = modnotes, times, modchords, chordsByBeat, key\n",
    "    return processedMidi"
   ]
  },
  {
   "cell_type": "code",
   "execution_count": 43,
   "metadata": {
    "colab": {},
    "colab_type": "code",
    "id": "mVE0og8fDrmk"
   },
   "outputs": [],
   "source": [
    "# Choose encoding and load files\n",
    "encodingDict = {\n",
    "    'melody': True,\n",
    "    'melodyModulo': True,\n",
    "    'melodyEncoded': False,\n",
    "    'duration': True,\n",
    "    'durationEncoded': False,\n",
    "    'chordsNormally': True,\n",
    "    'chordsEncoded': False,\n",
    "    'key': True\n",
    "}"
   ]
  },
  {
   "cell_type": "code",
   "execution_count": null,
   "metadata": {},
   "outputs": [],
   "source": []
  },
  {
   "cell_type": "markdown",
   "metadata": {
    "colab_type": "text",
    "id": "0jBnOuprDrmn"
   },
   "source": [
    "# B. Load Data"
   ]
  },
  {
   "cell_type": "code",
   "execution_count": 44,
   "metadata": {
    "colab": {
     "base_uri": "https://localhost:8080/",
     "height": 272
    },
    "colab_type": "code",
    "executionInfo": {
     "elapsed": 599,
     "status": "ok",
     "timestamp": 1559137409960,
     "user": {
      "displayName": "Paddy Wilson",
      "photoUrl": "https://lh3.googleusercontent.com/-Lq7fKfmUlNg/AAAAAAAAAAI/AAAAAAAACRI/cFf3IdBdoQA/s64/photo.jpg",
      "userId": "00502307669733282628"
     },
     "user_tz": -120
    },
    "id": "0SedqNjRDrmo",
    "outputId": "6c490066-93fe-45fb-c10e-b9e38cd766f6",
    "scrolled": false
   },
   "outputs": [
    {
     "data": {
      "text/plain": [
       "['trainprep.mid',\n",
       " 'acertainsmile.mid',\n",
       " 'affairinsanmiguel.mid',\n",
       " 'adayinalifeofafool.mid',\n",
       " 'girlfromipanemaprep.mid',\n",
       " 'aftertherainhasfallen.mid',\n",
       " 'autumnleaves.mid',\n",
       " 'browneyedgirlprep.mid',\n",
       " 'swayprep.mid',\n",
       " 'amazinggraceprep.mid',\n",
       " 'myfunnyvalentineprep.mid',\n",
       " 'newyorkprep.mid',\n",
       " 'afterlovehasgone.mid',\n",
       " 'dreamalittledramprep.mid',\n",
       " '634.mid']"
      ]
     },
     "execution_count": 44,
     "metadata": {},
     "output_type": "execute_result"
    }
   ],
   "source": [
    "# gets all .mid filenames from folder train/ in one line\n",
    "folder = \"train/\"\n",
    "files = [file for file in os.listdir(\"train\") if '.mid' in file]\n",
    "files"
   ]
  },
  {
   "cell_type": "code",
   "execution_count": 45,
   "metadata": {
    "colab": {
     "base_uri": "https://localhost:8080/",
     "height": 1054
    },
    "colab_type": "code",
    "executionInfo": {
     "elapsed": 31731,
     "status": "ok",
     "timestamp": 1559137441322,
     "user": {
      "displayName": "Paddy Wilson",
      "photoUrl": "https://lh3.googleusercontent.com/-Lq7fKfmUlNg/AAAAAAAAAAI/AAAAAAAACRI/cFf3IdBdoQA/s64/photo.jpg",
      "userId": "00502307669733282628"
     },
     "user_tz": -120
    },
    "id": "piJAllN6Drmr",
    "outputId": "8c1347b5-b909-47e8-8892-3157fb82f377",
    "scrolled": true
   },
   "outputs": [
    {
     "name": "stdout",
     "output_type": "stream",
     "text": [
      "\n",
      "Easy Processing: train/trainprep.mid\n",
      "Harmony: Using piano with most notes as harmony of 1\n",
      "Melody: using only melody track as melody\n",
      "\n",
      "Easy Processing: train/acertainsmile.mid\n",
      "Harmony: Using piano with most notes as harmony of 1\n",
      "Melody: using only melody track as melody\n",
      "\n",
      "Easy Processing: train/affairinsanmiguel.mid\n",
      "Harmony: Using piano with most notes as harmony of 1\n",
      "Melody: more than 2 melody tracks. padding and adding first two of #  6 melodies.\n",
      "\n",
      "Easy Processing: train/adayinalifeofafool.mid\n",
      "Harmony: Using guitar with most notes as harmony of 1\n",
      "Melody: padding and adding two melodies to one\n",
      "\n",
      "Easy Processing: train/girlfromipanemaprep.mid\n",
      "Harmony: Using piano with most notes as harmony of 1\n",
      "Melody: using only melody track as melody\n",
      "\n",
      "Easy Processing: train/aftertherainhasfallen.mid\n",
      "Harmony: Using piano with most notes as harmony of 4\n",
      "Melody: using only melody track as melody\n",
      "\n",
      "Easy Processing: train/autumnleaves.mid\n",
      "Harmony: Using piano with most notes as harmony of 1\n",
      "Melody: padding and adding two melodies to one\n",
      "\n",
      "Easy Processing: train/browneyedgirlprep.mid\n",
      "Harmony: Using guitar with most notes as harmony of 1\n",
      "Melody: using only melody track as melody\n",
      "\n",
      "Easy Processing: train/swayprep.mid\n",
      "Harmony: Using piano with most notes as harmony of 1\n",
      "Melody: using only melody track as melody\n",
      "\n",
      "Easy Processing: train/amazinggraceprep.mid\n",
      "Harmony: Using guitar with most notes as harmony of 1\n",
      "Melody: padding and adding two melodies to one\n",
      "\n",
      "Easy Processing: train/myfunnyvalentineprep.mid\n",
      "Harmony: Using piano with most notes as harmony of 1\n",
      "Melody: using only melody track as melody\n",
      "\n",
      "Easy Processing: train/newyorkprep.mid\n",
      "Harmony: Using guitar with most notes as harmony of 1\n",
      "Melody: more than 2 melody tracks. padding and adding first two of #  3 melodies.\n",
      "\n",
      "Easy Processing: train/afterlovehasgone.mid\n",
      "Harmony: Using piano with most notes as harmony of 1\n",
      "Melody: using only melody track as melody\n",
      "\n",
      "Easy Processing: train/dreamalittledramprep.mid\n",
      "Harmony: Using guitar with most notes as harmony of 1\n",
      "Melody: using only melody track as melody\n",
      "\n",
      "Easy Processing: train/634.mid\n",
      "Harmony: Using guitar with most notes as harmony of 1\n",
      "Melody: using only melody track as melody\n"
     ]
    },
    {
     "data": {
      "text/plain": [
       "((71199, 16, 145), (71199, 2))"
      ]
     },
     "execution_count": 45,
     "metadata": {},
     "output_type": "execute_result"
    }
   ],
   "source": [
    "modulation = True\n",
    "\n",
    "for i, file in enumerate(files):\n",
    "    processedMidi = processMidi(folder+file)\n",
    "    if modulation == True:\n",
    "        for mod_i in range(12): # modulate\n",
    "            processedMidi = modulate(processedMidi, modulate = mod_i)\n",
    "            sequences, labels = getInputSequences(processedMidi, encodingDict, padding=False, seq_len=16)\n",
    "            X = sequences if i==0 else np.concatenate((X, sequences))\n",
    "            y = labels if i==0 else np.concatenate((y, labels))\n",
    "    else:\n",
    "        features = getFeatureVectors(processedMidi, encodingDict)\n",
    "        sequences, labels = getInputSequences(processedMidi, padding=False, seq_len=16)\n",
    "        X = sequences if i==0 else np.concatenate((X, sequences))\n",
    "        y = labels if i==0 else np.concatenate((y, labels))\n",
    "\n",
    "X.shape, y.shape"
   ]
  },
  {
   "cell_type": "code",
   "execution_count": 13,
   "metadata": {},
   "outputs": [],
   "source": [
    "np.save('X.npy',X)\n",
    "np.save('y.npy',y)"
   ]
  },
  {
   "cell_type": "markdown",
   "metadata": {},
   "source": [
    "# just load"
   ]
  },
  {
   "cell_type": "code",
   "execution_count": 8,
   "metadata": {},
   "outputs": [],
   "source": [
    "X = np.load('X.npy')\n",
    "y = np.load('y.npy')"
   ]
  },
  {
   "cell_type": "code",
   "execution_count": 46,
   "metadata": {
    "colab": {
     "base_uri": "https://localhost:8080/",
     "height": 286
    },
    "colab_type": "code",
    "executionInfo": {
     "elapsed": 31472,
     "status": "ok",
     "timestamp": 1559137442079,
     "user": {
      "displayName": "Paddy Wilson",
      "photoUrl": "https://lh3.googleusercontent.com/-Lq7fKfmUlNg/AAAAAAAAAAI/AAAAAAAACRI/cFf3IdBdoQA/s64/photo.jpg",
      "userId": "00502307669733282628"
     },
     "user_tz": -120
    },
    "id": "Uv4TY09ZDrmv",
    "outputId": "92017864-0a90-409f-b5c3-d61df27aee3c",
    "scrolled": false
   },
   "outputs": [
    {
     "data": {
      "text/plain": [
       "<matplotlib.axes._subplots.AxesSubplot at 0x1302d3668>"
      ]
     },
     "execution_count": 46,
     "metadata": {},
     "output_type": "execute_result"
    },
    {
     "data": {
      "image/png": "[encoded data removed]",
      "text/plain": [
       "<Figure size 432x288 with 1 Axes>"
      ]
     },
     "metadata": {
      "image/png": {
       "height": 248,
       "width": 404
      },
      "needs_background": "light"
     },
     "output_type": "display_data"
    }
   ],
   "source": [
    "# stats of training data\n",
    "pitches = y[:,0]\n",
    "durations = y[:,1]\n",
    "sns.countplot(durations)"
   ]
  },
  {
   "cell_type": "code",
   "execution_count": 47,
   "metadata": {
    "colab": {
     "base_uri": "https://localhost:8080/",
     "height": 286
    },
    "colab_type": "code",
    "executionInfo": {
     "elapsed": 31536,
     "status": "ok",
     "timestamp": 1559137442615,
     "user": {
      "displayName": "Paddy Wilson",
      "photoUrl": "https://lh3.googleusercontent.com/-Lq7fKfmUlNg/AAAAAAAAAAI/AAAAAAAACRI/cFf3IdBdoQA/s64/photo.jpg",
      "userId": "00502307669733282628"
     },
     "user_tz": -120
    },
    "id": "uo0GQJA1Drmy",
    "outputId": "906add85-8635-48c7-a7a1-acedd11a0240",
    "scrolled": false
   },
   "outputs": [
    {
     "data": {
      "text/plain": [
       "<matplotlib.axes._subplots.AxesSubplot at 0x130793c88>"
      ]
     },
     "execution_count": 47,
     "metadata": {},
     "output_type": "execute_result"
    },
    {
     "data": {
      "image/png": "[encoded data removed]",
      "text/plain": [
       "<Figure size 432x288 with 1 Axes>"
      ]
     },
     "metadata": {
      "image/png": {
       "height": 248,
       "width": 403
      },
      "needs_background": "light"
     },
     "output_type": "display_data"
    }
   ],
   "source": [
    "sns.countplot(pitches)"
   ]
  },
  {
   "cell_type": "code",
   "execution_count": 50,
   "metadata": {
    "colab": {
     "base_uri": "https://localhost:8080/",
     "height": 34
    },
    "colab_type": "code",
    "executionInfo": {
     "elapsed": 31371,
     "status": "ok",
     "timestamp": 1559137442616,
     "user": {
      "displayName": "Paddy Wilson",
      "photoUrl": "https://lh3.googleusercontent.com/-Lq7fKfmUlNg/AAAAAAAAAAI/AAAAAAAACRI/cFf3IdBdoQA/s64/photo.jpg",
      "userId": "00502307669733282628"
     },
     "user_tz": -120
    },
    "id": "kvY1xcgiDrm2",
    "outputId": "f23cb728-b5d2-4e26-a2c3-c4790f482376",
    "scrolled": false
   },
   "outputs": [
    {
     "data": {
      "text/plain": [
       "((1800, 16, 145), (1800, 2))"
      ]
     },
     "execution_count": 50,
     "metadata": {},
     "output_type": "execute_result"
    }
   ],
   "source": [
    "# train/val split\n",
    "n = 70000\n",
    "n = 2000\n",
    "n = min(n,X.shape[0])\n",
    "data = X[:n]\n",
    "labels = y[:n]\n",
    "\n",
    "perm = np.random.permutation(n)\n",
    "p = int(0.9*n)\n",
    "\n",
    "train_data = data[perm[:p]]\n",
    "train_labels = labels[perm[:p]]\n",
    "val_data = data[perm[p:]]\n",
    "val_labels = labels[perm[p:]]\n",
    "\n",
    "train_data.shape, train_labels.shape"
   ]
  },
  {
   "cell_type": "markdown",
   "metadata": {
    "colab_type": "text",
    "id": "b77owDQ-Drm5"
   },
   "source": [
    "### Load Data for Tensorflow"
   ]
  },
  {
   "cell_type": "code",
   "execution_count": 51,
   "metadata": {},
   "outputs": [],
   "source": [
    "batch_size = 32\n",
    "dataset = tf.data.Dataset.from_tensor_slices((train_data, train_labels))\n",
    "dataset = dataset.batch(batch_size, drop_remainder=True)\n",
    "valdataset = tf.data.Dataset.from_tensor_slices((val_data, val_labels))\n",
    "valdataset = valdataset.batch(batch_size, drop_remainder=True)"
   ]
  },
  {
   "cell_type": "code",
   "execution_count": 13,
   "metadata": {
    "colab": {},
    "colab_type": "code",
    "id": "0Ps1leCZDrm6",
    "scrolled": false
   },
   "outputs": [],
   "source": [
    "# ToDo\n",
    "# weighted randomsampler!\n",
    "# batchnormalization"
   ]
  },
  {
   "cell_type": "markdown",
   "metadata": {
    "colab_type": "text",
    "id": "IhxqWi8YDrm8"
   },
   "source": [
    "# C. Train a model"
   ]
  },
  {
   "cell_type": "code",
   "execution_count": 49,
   "metadata": {},
   "outputs": [],
   "source": [
    "class LSTM(tf.keras.Model):\n",
    "    def __init__(self, input_dim, hidden_dim, output_dim_pitch, output_dim_duration, num_layers=1, dropout=0.3):\n",
    "        super(LSTM, self).__init__()\n",
    "        self.input_dim = input_dim\n",
    "        self.hidden_dim = hidden_dim\n",
    "        self.output_dim_pitch = output_dim_pitch\n",
    "        self.output_dim_duration = output_dim_duration\n",
    "        self.num_layers = num_layers\n",
    "        self.hidden = self.init_hidden(batch_size)\n",
    "        \n",
    "        #LSTM\n",
    "        if tf.test.is_gpu_available():\n",
    "            self.lstm = tf.keras.layers.CuDNNLSTM(self.hidden_dim, \n",
    "                                    return_sequences=True, \n",
    "                                    return_state=True, \n",
    "                                    recurrent_initializer='glorot_uniform')\n",
    "        else:\n",
    "            self.lstm = tf.keras.layers.LSTM(self.hidden_dim, \n",
    "                               return_sequences=True, \n",
    "                               return_state=False, \n",
    "                               recurrent_activation='sigmoid', \n",
    "                               recurrent_initializer='glorot_uniform')\n",
    "        \n",
    "        self.dropout = tf.keras.layers.Dropout(0.5)\n",
    "        \n",
    "        self.linear_pitch = tf.keras.layers.Dense(self.output_dim_pitch)\n",
    "        self.linear_duration = tf.keras.layers.Dense(self.output_dim_duration)\n",
    "        \n",
    "    def init_hidden(self, batch_size):\n",
    "        return (tf.zeros((batch_size, self.hidden_dim)),tf.zeros((batch_size, self.hidden_dim)))\n",
    "        \n",
    "    def call(self, x, training=None):\n",
    "        self.hidden = self.lstm(x, self.hidden)   \n",
    "        \n",
    "        x = self.hidden\n",
    "        \n",
    "        if training:\n",
    "            x = self.dropout(x)\n",
    "        \n",
    "        pitch = self.linear_pitch(x)\n",
    "        duration = self.linear_duration(x)\n",
    "        return pitch, duration\n",
    "    "
   ]
  },
  {
   "cell_type": "code",
   "execution_count": 112,
   "metadata": {},
   "outputs": [],
   "source": [
    "def build(input_dim, seq_len, hidden_dim, num_layers, output_dim_pitch, output_dim_duration):\n",
    "    if tf.test.is_gpu_available():\n",
    "        lstm = tf.keras.layers.CuDNNLSTM(hidden_dim, \n",
    "                                    return_sequences=True, \n",
    "                                    return_state=False, \n",
    "                                    recurrent_initializer='glorot_uniform')\n",
    "        lastlstm = tf.keras.layers.CuDNNLSTM(hidden_dim, \n",
    "                                    return_sequences=False, \n",
    "                                    return_state=False, \n",
    "                                    recurrent_initializer='glorot_uniform')\n",
    "    else:\n",
    "        LSTM = tf.keras.layers.LSTM(hidden_dim, \n",
    "                               return_sequences=True, \n",
    "                               return_state=False, \n",
    "                               recurrent_activation='sigmoid', \n",
    "                               recurrent_initializer='glorot_uniform')\n",
    "        lastlstm = tf.keras.layers.LSTM(hidden_dim, \n",
    "                               return_sequences=False, \n",
    "                               return_state=False, \n",
    "                               recurrent_activation='sigmoid', \n",
    "                               recurrent_initializer='glorot_uniform')\n",
    "    \n",
    "        \n",
    "    inputs = tf.keras.Input(shape=(seq_len, input_dim))\n",
    "    x = inputs\n",
    "    for i in range(num_layers-1):\n",
    "        x = LSTM(x)\n",
    "    x = lastlstm(x)\n",
    "    x = tf.keras.layers.Dropout(rate=0.3)(x)\n",
    "    pitch = tf.keras.layers.Dense(output_dim_pitch, activation='softmax', name='pitch_out')(x)\n",
    "    duration = tf.keras.layers.Dense(output_dim_duration, activation='softmax', name='duration_out')(x)\n",
    "\n",
    "    model = tf.keras.Model(inputs=inputs, outputs=[pitch,duration])\n",
    "    return model\n",
    "    "
   ]
  },
  {
   "cell_type": "code",
   "execution_count": 111,
   "metadata": {},
   "outputs": [
    {
     "name": "stdout",
     "output_type": "stream",
     "text": [
      "3\n",
      "(?, 16, 64)\n"
     ]
    }
   ],
   "source": [
    "# Build Model\n",
    "model_params = {\n",
    "    'input_dim': train_data.shape[-1],\n",
    "    'seq_len': 16,\n",
    "    'hidden_dim': 64,\n",
    "    'num_layers': 2,\n",
    "    'output_dim_pitch': MELODY,\n",
    "    'output_dim_duration': TIMES,\n",
    "}\n",
    "\n",
    "model = build(**model_params)"
   ]
  },
  {
   "cell_type": "code",
   "execution_count": 99,
   "metadata": {},
   "outputs": [],
   "source": [
    "tf.keras.utils.plot_model(model, show_shapes=True)"
   ]
  },
  {
   "cell_type": "code",
   "execution_count": 103,
   "metadata": {},
   "outputs": [],
   "source": [
    "checkpoint_dir = './training_checkpoints'\n",
    "checkpoint_prefix = os.path.join(checkpoint_dir, \"ckpt\")\n",
    "checkpoint = tf.train.Checkpoint(optimizer=optimizer, model=model)"
   ]
  },
  {
   "cell_type": "code",
   "execution_count": 104,
   "metadata": {},
   "outputs": [],
   "source": [
    "model.compile(\n",
    "    optimizer='adam',\n",
    "    loss={'pitch_out': 'sparse_categorical_crossentropy', \n",
    "          'duration_out':'sparse_categorical_crossentropy'},\n",
    "    metrics={'pitch_out': 'acc',\n",
    "             'duration_out': 'acc'})"
   ]
  },
  {
   "cell_type": "code",
   "execution_count": 105,
   "metadata": {
    "scrolled": true
   },
   "outputs": [
    {
     "name": "stdout",
     "output_type": "stream",
     "text": [
      "Epoch 1/20\n",
      "1800/1800 [==============================] - 4s 2ms/sample - loss: 0.7743 - pitch_out_loss: 0.4404 - duration_out_loss: 0.3338 - pitch_out_acc: 0.8633 - duration_out_acc: 0.9156\n",
      "Epoch 2/20\n",
      "1800/1800 [==============================] - 2s 1ms/sample - loss: 0.7183 - pitch_out_loss: 0.4149 - duration_out_loss: 0.3034 - pitch_out_acc: 0.8744 - duration_out_acc: 0.9211\n",
      "Epoch 3/20\n",
      "1800/1800 [==============================] - 2s 1ms/sample - loss: 0.6826 - pitch_out_loss: 0.4006 - duration_out_loss: 0.2820 - pitch_out_acc: 0.8833 - duration_out_acc: 0.9233\n",
      "Epoch 4/20\n",
      "1800/1800 [==============================] - 2s 1ms/sample - loss: 0.6367 - pitch_out_loss: 0.3732 - duration_out_loss: 0.2635 - pitch_out_acc: 0.8761 - duration_out_acc: 0.9233\n",
      "Epoch 5/20\n",
      "1800/1800 [==============================] - 2s 1ms/sample - loss: 0.6268 - pitch_out_loss: 0.3611 - duration_out_loss: 0.2657 - pitch_out_acc: 0.8911 - duration_out_acc: 0.9267\n",
      "Epoch 6/20\n",
      "1800/1800 [==============================] - 2s 1ms/sample - loss: 0.6059 - pitch_out_loss: 0.3658 - duration_out_loss: 0.2401 - pitch_out_acc: 0.8772 - duration_out_acc: 0.9306\n",
      "Epoch 7/20\n",
      "1800/1800 [==============================] - 2s 1ms/sample - loss: 0.5782 - pitch_out_loss: 0.3541 - duration_out_loss: 0.2241 - pitch_out_acc: 0.8844 - duration_out_acc: 0.9317\n",
      "Epoch 8/20\n",
      "1800/1800 [==============================] - 2s 1ms/sample - loss: 0.5158 - pitch_out_loss: 0.3129 - duration_out_loss: 0.2028 - pitch_out_acc: 0.8983 - duration_out_acc: 0.9300\n",
      "Epoch 9/20\n",
      "1800/1800 [==============================] - 2s 1ms/sample - loss: 0.4800 - pitch_out_loss: 0.2905 - duration_out_loss: 0.1895 - pitch_out_acc: 0.9111 - duration_out_acc: 0.9422\n",
      "Epoch 10/20\n",
      "1800/1800 [==============================] - 2s 1ms/sample - loss: 0.5066 - pitch_out_loss: 0.3121 - duration_out_loss: 0.1945 - pitch_out_acc: 0.9028 - duration_out_acc: 0.9394\n",
      "Epoch 11/20\n",
      "1800/1800 [==============================] - 2s 1ms/sample - loss: 0.4770 - pitch_out_loss: 0.2870 - duration_out_loss: 0.1900 - pitch_out_acc: 0.9094 - duration_out_acc: 0.9428\n",
      "Epoch 12/20\n",
      "1800/1800 [==============================] - 2s 1ms/sample - loss: 0.4341 - pitch_out_loss: 0.2657 - duration_out_loss: 0.1684 - pitch_out_acc: 0.9167 - duration_out_acc: 0.9472\n",
      "Epoch 13/20\n",
      "1800/1800 [==============================] - 3s 2ms/sample - loss: 0.4269 - pitch_out_loss: 0.2573 - duration_out_loss: 0.1696 - pitch_out_acc: 0.9189 - duration_out_acc: 0.9506\n",
      "Epoch 14/20\n",
      "1800/1800 [==============================] - 3s 2ms/sample - loss: 0.5990 - pitch_out_loss: 0.3387 - duration_out_loss: 0.2602 - pitch_out_acc: 0.8983 - duration_out_acc: 0.9156\n",
      "Epoch 15/20\n",
      "1800/1800 [==============================] - 3s 2ms/sample - loss: 0.4362 - pitch_out_loss: 0.2747 - duration_out_loss: 0.1615 - pitch_out_acc: 0.9178 - duration_out_acc: 0.9528\n",
      "Epoch 16/20\n",
      "1800/1800 [==============================] - 2s 1ms/sample - loss: 0.3883 - pitch_out_loss: 0.2390 - duration_out_loss: 0.1493 - pitch_out_acc: 0.9256 - duration_out_acc: 0.9533\n",
      "Epoch 17/20\n",
      "1800/1800 [==============================] - 2s 1ms/sample - loss: 0.3656 - pitch_out_loss: 0.2264 - duration_out_loss: 0.1392 - pitch_out_acc: 0.9306 - duration_out_acc: 0.9611\n",
      "Epoch 18/20\n",
      "1800/1800 [==============================] - 3s 2ms/sample - loss: 0.3292 - pitch_out_loss: 0.2035 - duration_out_loss: 0.1257 - pitch_out_acc: 0.9372 - duration_out_acc: 0.9639\n",
      "Epoch 19/20\n",
      "1800/1800 [==============================] - 2s 1ms/sample - loss: 0.3442 - pitch_out_loss: 0.2127 - duration_out_loss: 0.1315 - pitch_out_acc: 0.9333 - duration_out_acc: 0.9544\n",
      "Epoch 20/20\n",
      "1800/1800 [==============================] - 2s 1ms/sample - loss: 0.3332 - pitch_out_loss: 0.2059 - duration_out_loss: 0.1273 - pitch_out_acc: 0.9383 - duration_out_acc: 0.9589\n"
     ]
    },
    {
     "data": {
      "text/plain": [
       "<tensorflow.python.keras.callbacks.History at 0x136aa02b0>"
      ]
     },
     "execution_count": 105,
     "metadata": {},
     "output_type": "execute_result"
    }
   ],
   "source": [
    "model.fit(train_data,[train_labels[:,0],train_labels[:,1]],batch_size=32,epochs=20)"
   ]
  },
  {
   "cell_type": "code",
   "execution_count": 48,
   "metadata": {
    "scrolled": false
   },
   "outputs": [
    {
     "name": "stdout",
     "output_type": "stream",
     "text": [
      "200/200 [==============================] - 0s 2ms/sample - loss: 1.6641 - pitch_out_loss: 1.4100 - duration_out_loss: 0.3309 - pitch_out_categorical_accuracy: 0.0000e+00 - duration_out_categorical_accuracy: 0.0000e+00\n"
     ]
    },
    {
     "data": {
      "text/plain": [
       "[1.6641367530822755, 1.4100426, 0.33091047, 0.0, 0.0]"
      ]
     },
     "execution_count": 48,
     "metadata": {},
     "output_type": "execute_result"
    }
   ],
   "source": [
    "model.evaluate(val_data,[val_labels[:,0],val_labels[:,1]])"
   ]
  },
  {
   "cell_type": "code",
   "execution_count": 22,
   "metadata": {
    "scrolled": true
   },
   "outputs": [
    {
     "name": "stdout",
     "output_type": "stream",
     "text": [
      "WARNING:tensorflow:TensorFlow optimizers do not make it possible to access optimizer attributes or optimizer state after instantiation. As a result, we cannot save the optimizer as part of the model save file.You will have to compile your model again after loading it. Prefer using a Keras optimizer instead (see keras.io/optimizers).\n"
     ]
    }
   ],
   "source": [
    "model.save('model.h5')"
   ]
  },
  {
   "cell_type": "code",
   "execution_count": null,
   "metadata": {},
   "outputs": [],
   "source": []
  },
  {
   "cell_type": "code",
   "execution_count": null,
   "metadata": {},
   "outputs": [],
   "source": []
  },
  {
   "cell_type": "code",
   "execution_count": 21,
   "metadata": {
    "scrolled": true
   },
   "outputs": [
    {
     "ename": "AttributeError",
     "evalue": "'Model' object has no attribute 'init_hidden'",
     "output_type": "error",
     "traceback": [
      "\u001b[0;31m---------------------------------------------------------------------------\u001b[0m",
      "\u001b[0;31mAttributeError\u001b[0m                            Traceback (most recent call last)",
      "\u001b[0;32m<ipython-input-21-69fe78b84d40>\u001b[0m in \u001b[0;36m<module>\u001b[0;34m\u001b[0m\n\u001b[1;32m     13\u001b[0m         \u001b[0;32mwith\u001b[0m \u001b[0mtf\u001b[0m\u001b[0;34m.\u001b[0m\u001b[0mGradientTape\u001b[0m\u001b[0;34m(\u001b[0m\u001b[0;34m)\u001b[0m \u001b[0;32mas\u001b[0m \u001b[0mtape\u001b[0m\u001b[0;34m:\u001b[0m\u001b[0;34m\u001b[0m\u001b[0;34m\u001b[0m\u001b[0m\n\u001b[1;32m     14\u001b[0m             \u001b[0mbatch_size\u001b[0m \u001b[0;34m=\u001b[0m \u001b[0minputs\u001b[0m\u001b[0;34m.\u001b[0m\u001b[0mshape\u001b[0m\u001b[0;34m[\u001b[0m\u001b[0;36m0\u001b[0m\u001b[0;34m]\u001b[0m\u001b[0;34m\u001b[0m\u001b[0;34m\u001b[0m\u001b[0m\n\u001b[0;32m---> 15\u001b[0;31m             \u001b[0mmodel\u001b[0m\u001b[0;34m.\u001b[0m\u001b[0mhidden\u001b[0m \u001b[0;34m=\u001b[0m \u001b[0mmodel\u001b[0m\u001b[0;34m.\u001b[0m\u001b[0minit_hidden\u001b[0m\u001b[0;34m(\u001b[0m\u001b[0mbatch_size\u001b[0m\u001b[0;34m)\u001b[0m\u001b[0;34m\u001b[0m\u001b[0;34m\u001b[0m\u001b[0m\n\u001b[0m\u001b[1;32m     16\u001b[0m \u001b[0;34m\u001b[0m\u001b[0m\n\u001b[1;32m     17\u001b[0m             \u001b[0mpitch\u001b[0m\u001b[0;34m,\u001b[0m \u001b[0mduration\u001b[0m \u001b[0;34m=\u001b[0m \u001b[0mmodel\u001b[0m\u001b[0;34m(\u001b[0m\u001b[0minputs\u001b[0m\u001b[0;34m,\u001b[0m \u001b[0;32mTrue\u001b[0m\u001b[0;34m)\u001b[0m\u001b[0;34m\u001b[0m\u001b[0;34m\u001b[0m\u001b[0m\n",
      "\u001b[0;31mAttributeError\u001b[0m: 'Model' object has no attribute 'init_hidden'"
     ]
    }
   ],
   "source": [
    "# old training routine\n",
    "EPOCHS = 10\n",
    "start = time.time()\n",
    "hist = np.zeros(EPOCHS)\n",
    "\n",
    "for epoch in range(EPOCHS):\n",
    "    total_loss = 0\n",
    "    pacc = 0\n",
    "    correct, total, dcorrect, dtotal = 0,0,0,0 \n",
    "    \n",
    "    for (batch, (inputs, labels)) in enumerate(dataset):\n",
    "        loss = 0\n",
    "        \n",
    "        with tf.GradientTape() as tape:\n",
    "            batch_size = inputs.shape[0]\n",
    "            model.hidden = model.init_hidden(batch_size)\n",
    "\n",
    "            pitch, duration = model(inputs, True)\n",
    "\n",
    "            loss_pitch = loss_fn(labels[:,0], pitch)\n",
    "            loss_duration = loss_fn(labels[:,1], duration)\n",
    "\n",
    "            batch_loss = loss_pitch + loss_duration\n",
    "            \n",
    "        total_loss += batch_loss\n",
    "        \n",
    "\n",
    "        #backprop\n",
    "        gradients = tape.gradient(batch_loss, model.variables)\n",
    "        optimizer.apply_gradients(zip(gradients, model.variables))\n",
    "        \n",
    "        #eval\n",
    "        predicted = tf.argmax(pitch, 1)\n",
    "        total += int(labels[:,0].shape[0])\n",
    "        correct += sum(predicted.numpy()==labels[:,0].numpy())\n",
    "        \n",
    "        dpredicted = tf.argmax(duration, 1)\n",
    "        dtotal += int(labels[:,1].shape[0])\n",
    "        dcorrect += sum(dpredicted.numpy()==labels[:,1].numpy())\n",
    "        \n",
    "    hist[epoch] = total_loss\n",
    "    if (epoch + 1) % 2 == 0:\n",
    "        checkpoint.save(file_prefix = checkpoint_prefix)\n",
    "    \n",
    "    if epoch%2==0:\n",
    "        notes = epoch%50==0\n",
    "        acc_train = correct/total\n",
    "        dacc_train = dcorrect/dtotal\n",
    "        correct, total, dcorrect, dtotal = 0,0,0,0 \n",
    "        \n",
    "        # eval val set\n",
    "        val_loss = 0\n",
    "        for (batch, (inputs, labels)) in enumerate(valdataset):\n",
    "\n",
    "            batch_size = inputs.shape[0]\n",
    "            model.hidden = model.init_hidden(batch_size)\n",
    "\n",
    "            pitch, duration = model(inputs, False)\n",
    "\n",
    "            loss_pitch = loss_fn(labels[:,0], pitch)\n",
    "            loss_duration = loss_fn(labels[:,1], duration)\n",
    "\n",
    "            batch_loss = loss_pitch + loss_duration\n",
    "\n",
    "            val_loss += batch_loss\n",
    "\n",
    "            #eval\n",
    "            predicted = tf.argmax(pitch, 1)\n",
    "            total += int(labels[:,0].shape[0])\n",
    "            correct += sum(predicted.numpy()==labels[:,0].numpy())\n",
    "\n",
    "            dpredicted = tf.argmax(duration, 1)\n",
    "            dtotal += int(labels[:,1].shape[0])\n",
    "            dcorrect += sum(dpredicted.numpy()==labels[:,1].numpy())\n",
    "        \n",
    "        acc_val = correct/total\n",
    "        dacc_val = dcorrect/dtotal\n",
    "        \n",
    "        print('Epoch: ',epoch,'/',EPOCHS,'in', np.round(time.time()-start,2),'s',\\\n",
    "              \"loss: \", np.round(hist[epoch], 4), \"acc_train: \", np.round(acc_train,2), \"acc_val: \", np.round(acc_val,2))\n",
    "        print(\"val_loss: \", np.round(val_loss, 4), \"dacc_train: \", np.round(dacc_train,2), \"dacc_val: \", np.round(dacc_val,2),'\\n')#, \\\n",
    "        #\"hacc_train: \", np.round(hacc_train,2), \"hacc_val: \", np.round(hacc_val,2))\n",
    "\n",
    "        if acc_train >= 90:\n",
    "            print(\"finishing training at acc_train > 90\")\n",
    "            break\n",
    "plt.plot(hist, label=\"Training loss\")\n",
    "plt.legend()\n",
    "plt.show()"
   ]
  },
  {
   "cell_type": "code",
   "execution_count": null,
   "metadata": {},
   "outputs": [],
   "source": []
  },
  {
   "cell_type": "code",
   "execution_count": null,
   "metadata": {},
   "outputs": [],
   "source": []
  },
  {
   "cell_type": "code",
   "execution_count": null,
   "metadata": {},
   "outputs": [],
   "source": []
  },
  {
   "cell_type": "markdown",
   "metadata": {
    "colab_type": "text",
    "id": "iyK7IZAXDrnX"
   },
   "source": [
    "# Test Framework"
   ]
  },
  {
   "cell_type": "code",
   "execution_count": 0,
   "metadata": {
    "colab": {},
    "colab_type": "code",
    "id": "56ENduBtDrnX"
   },
   "outputs": [],
   "source": [
    "# read test midi file ignore labels and get output from network\n",
    "# create midi file with input midi and prediction from network\n",
    "# simply read midi here to see how it sounds + plot\n",
    "\n",
    "def writeMidi(notes, times, file, originalfile, tempo=120, resolution=12):\n",
    "    pm = pretty_midi.PrettyMIDI(resolution=resolution, initial_tempo=tempo)\n",
    "    pminst = pretty_midi.Instrument(program=0)\n",
    "    currtime = 0\n",
    "    for i, note in enumerate(notes):\n",
    "        if note != MELODY-1:\n",
    "            pitch = note+LOW\n",
    "            start = pm.tick_to_time(int(currtime))\n",
    "            end = pm.tick_to_time(int(currtime+times[i]))\n",
    "            if end > start:\n",
    "                pmnote = pretty_midi.Note(velocity=100, pitch = pitch, start=start, end=end)\n",
    "                pminst.notes.append(pmnote)\n",
    "        currtime += times[i]+1\n",
    "    pm.instruments.append(pminst)\n",
    "    \n",
    "    #get original chords from file\n",
    "    ogpm = pretty_midi.PrettyMIDI(originalfile)\n",
    "    originalchords = pretty_midi.Instrument(program=0)\n",
    "    originalnotes = getMelodyAndHarmony(originalfile)['harmony']\n",
    "    for i, note in enumerate(originalnotes):\n",
    "        old = ogpm.time_to_tick(note.start)\n",
    "        start = pm.tick_to_time(int(ogpm.time_to_tick(note.start)/ogpm.resolution*pm.resolution))\n",
    "        end = pm.tick_to_time(int(ogpm.time_to_tick(note.end)/ogpm.resolution*pm.resolution))\n",
    "        originalchords.notes.append(pretty_midi.Note(velocity=50, pitch=note.pitch, start=start, end=end))\n",
    "    pm.instruments.append(originalchords)\n",
    "\n",
    "    pm.write(file)\n",
    "    return pm\n",
    "\n",
    "\n",
    "# legacy\n",
    "def getPredictedNotes(notes, times, chords):\n",
    "    test_data, test_labels = getInputSequences(notes,times,chords,encodingDict)\n",
    "    \n",
    "    test_loader = getDataLoader(test_data,test_labels, batch_size=32, shuffle=False)\n",
    "    \n",
    "    predicted_notes = np.empty(0)\n",
    "    predicted_durations = np.empty(0)\n",
    "    model.eval()\n",
    "    for i, (inputs, labels) in enumerate(test_loader):\n",
    "        inputs, labels = inputs.to(device), labels.to(device)\n",
    "\n",
    "        batch_size = inputs.size(0)\n",
    "        model.hidden = model.init_hidden(batch_size)\n",
    "\n",
    "        pitch, duration = model(inputs.float())\n",
    "\n",
    "        _, pred_pitch = torch.max(pitch.data, 1)\n",
    "        _, pred_duration = torch.max(duration.data, 1)\n",
    "        predicted_notes = np.concatenate((predicted_notes,pred_pitch.detach().numpy()))\n",
    "        predicted_durations = np.concatenate((predicted_durations, pred_duration.detach().numpy()))\n",
    "    return predicted_notes, predicted_durations\n",
    "\n",
    "def plot_piano_roll(pm, start_pitch, end_pitch, fs=100):\n",
    "    librosa.display.specshow(pm.get_piano_roll(fs)[start_pitch:end_pitch],\n",
    "                             hop_length=1, sr=fs, x_axis='time', y_axis='cqt_note',\n",
    "                             fmin=pretty_midi.note_number_to_hz(start_pitch))\n",
    "     \n",
    "    \n",
    "def tradeFour(notes, times, chords, chordsByBeat):\n",
    "    predicted_notes, predicted_durations = [], []\n",
    "    mel_len=16+1 # wegen nextChord\n",
    "\n",
    "    notesnew = np.array(notes[-mel_len:])\n",
    "    timesnew = np.array(times[-mel_len:])\n",
    "    chordsnew = np.array(chords[-mel_len:])\n",
    "\n",
    "    currentbeat = 0\n",
    "    currenttime = 0\n",
    "    while sum(predicted_durations) < 4*TIMES:\n",
    "        feat = getFeatureVectors(notesnew, timesnew, chordsnew, encodingDict)\n",
    "        feat = torch.Tensor(feat).unsqueeze(0).to(device)\n",
    "\n",
    "        model.hidden = model.init_hidden(feat.size(0))\n",
    "        pitch, duration = model(feat.float())\n",
    "\n",
    "        pred_pitch = torch.max(pitch.data, 1)[1].cpu().detach().numpy()[0]\n",
    "        pred_duration = torch.max(duration.data, 1)[1].cpu().detach().numpy()[0]\n",
    "\n",
    "        predicted_notes.append(pred_pitch)\n",
    "        predicted_durations.append(pred_duration)\n",
    "        notesnew = np.append(notesnew[1:], pred_pitch)\n",
    "        timesnew = np.append(timesnew[1:], pred_duration)\n",
    "        \n",
    "        if int(currenttime/12) > currentbeat:\n",
    "            newchord = chordsByBeat[int(currenttime/12)]\n",
    "            chordsnew = np.append(chordsnew[1:], newchord)\n",
    "        currenttime += pred_duration\n",
    "        currentbeat += int(currenttime/12)\n",
    "        \n",
    "        print(predicted_durations)\n",
    "        \n",
    "    notes = np.append(notes, np.array(predicted_notes))\n",
    "    times = np.append(times, np.array(predicted_durations))\n",
    "\n",
    "    return notes, times\n",
    "    \n",
    "def plotTradeFour(file):\n",
    "    notes, times, chords, chordsByBeat = processMidi(file)\n",
    "    \n",
    "    t = time.time()\n",
    "    notes, times = tradeFour(notes, times, chords, chordsByBeat)\n",
    "    print(time.time()-t,'s')\n",
    "    \n",
    "    # plotWithAudio\n",
    "    pm = writeMidi(notes, times, 'treval/newtest.mid', file)\n",
    "    plt.figure(figsize=(8, 4))\n",
    "    plot_piano_roll(pm, LOW, HIGH)\n",
    "    display(IPython.display.Audio(pm.synthesize(fs=44000), rate=44000))   \n",
    "    "
   ]
  },
  {
   "cell_type": "code",
   "execution_count": 0,
   "metadata": {
    "colab": {
     "base_uri": "https://localhost:8080/",
     "height": 596,
     "output_embedded_package_id": "1eCs_57xjw6eJqmDAy4whOvMhN_oF7gC7"
    },
    "colab_type": "code",
    "executionInfo": {
     "elapsed": 3582,
     "status": "ok",
     "timestamp": 1558979993931,
     "user": {
      "displayName": "Paddy Wilson",
      "photoUrl": "https://lh3.googleusercontent.com/-Lq7fKfmUlNg/AAAAAAAAAAI/AAAAAAAACRI/cFf3IdBdoQA/s64/photo.jpg",
      "userId": "00502307669733282628"
     },
     "user_tz": -120
    },
    "id": "jitsFsWbDrna",
    "outputId": "5f452100-38d5-49d8-83e3-b67aa01c25e0",
    "scrolled": false
   },
   "outputs": [
    {
     "data": {
      "text/plain": [
       "Output hidden; open in https://colab.research.google.com to view."
      ]
     },
     "metadata": {},
     "output_type": "display_data"
    }
   ],
   "source": [
    "plotTradeFour('test/testautumnleaves7.mid')"
   ]
  },
  {
   "cell_type": "code",
   "execution_count": 0,
   "metadata": {
    "colab": {
     "base_uri": "https://localhost:8080/",
     "height": 800,
     "output_embedded_package_id": "1rjyqe0XYd0zf0ukdHUT-KmgqjTW2pVos"
    },
    "colab_type": "code",
    "executionInfo": {
     "elapsed": 3665,
     "status": "ok",
     "timestamp": 1558980017183,
     "user": {
      "displayName": "Paddy Wilson",
      "photoUrl": "https://lh3.googleusercontent.com/-Lq7fKfmUlNg/AAAAAAAAAAI/AAAAAAAACRI/cFf3IdBdoQA/s64/photo.jpg",
      "userId": "00502307669733282628"
     },
     "user_tz": -120
    },
    "id": "67HGJoCRDrne",
    "outputId": "928d3608-26b0-4122-9fa5-ec77e17289b2",
    "scrolled": true
   },
   "outputs": [
    {
     "data": {
      "text/plain": [
       "Output hidden; open in https://colab.research.google.com to view."
      ]
     },
     "metadata": {},
     "output_type": "display_data"
    }
   ],
   "source": [
    "plotTradeFour('test/test12bar1.mid')"
   ]
  },
  {
   "cell_type": "markdown",
   "metadata": {
    "colab_type": "text",
    "id": "1z8g4E6UDrnj"
   },
   "source": [
    "## Test A"
   ]
  },
  {
   "cell_type": "code",
   "execution_count": 0,
   "metadata": {
    "colab": {},
    "colab_type": "code",
    "id": "c_NTDPAtDrnk"
   },
   "outputs": [],
   "source": [
    "# test how much % model can learn a melody\n",
    "\n",
    "# define test melody\n",
    "# train network\n",
    "# give percentage of how much it learnt\n",
    "\n",
    "chordsDict={\n",
    "    'C': [1,0,0,0,1,0,0,1,0,0,0,0],\n",
    "    'C7': [1,0,0,0,1,0,0,1,0,0,1,0],\n",
    "    'Cmaj7': [1,0,0,0,1,0,0,1,0,0,0,1]\n",
    "}"
   ]
  },
  {
   "cell_type": "code",
   "execution_count": 0,
   "metadata": {
    "colab": {},
    "colab_type": "code",
    "id": "q3bpvPeiDrnn",
    "outputId": "220e7428-964b-4cfc-cc61-7a60241946f8",
    "scrolled": false
   },
   "outputs": [
    {
     "data": {
      "text/plain": [
       "(15, 16, 31)"
      ]
     },
     "metadata": {
      "tags": []
     },
     "output_type": "display_data"
    },
    {
     "name": "stdout",
     "output_type": "stream",
     "text": [
      "Nr. of params: 30485\n"
     ]
    }
   ],
   "source": [
    "# test data\n",
    "notes = [0,2,4,7,7,4,2,0,0,2,4,7,7,4,2,0,0,5,3,4,5,8,7,5,0,2,4,7,7,4,2,0]\n",
    "times = np.ones(32)*8\n",
    "chord = chordsDict['C']\n",
    "chords = np.repeat(chord, 32).reshape((12,-1)).T\n",
    "encoding = True\n",
    "train_data, train_labels = getInputSequences(notes, times, chords, encoding=encoding, modulation=False, padding=False, seq_len=1)\n",
    "\n",
    "display(train_data.shape)\n",
    "batch_size = 32\n",
    "train_loader = getDataLoader(train_data, train_labels, batch_size=batch_size, shuffle=False)\n",
    "\n",
    "# test model\n",
    "model_params = {\n",
    "    'input_dim': train_data.shape[-1],\n",
    "    'hidden_dim': 64,\n",
    "    'num_layers': 1,\n",
    "    'output_dim_pitch': MELODY,\n",
    "    'output_dim_duration': TIMES,\n",
    "    'dropout': 0\n",
    "}\n",
    "\n",
    "testmodel = LSTM(**model_params)\n",
    "testmodel.to(device)"
   ]
  },
  {
   "cell_type": "code",
   "execution_count": 0,
   "metadata": {
    "colab": {},
    "colab_type": "code",
    "id": "gelE-IxbDrnq",
    "outputId": "714c3e78-b332-46d7-b07c-704a2c735345",
    "scrolled": true
   },
   "outputs": [
    {
     "name": "stdout",
     "output_type": "stream",
     "text": [
      "tensor([2, 2, 0, 2, 0, 0, 0, 0, 0, 0, 2, 2, 0, 0, 0])\n",
      "tensor([0., 5., 3., 4., 5., 8., 7., 5., 0., 2., 4., 7., 7., 4., 2.],\n",
      "       dtype=torch.float64)\n",
      "loss:  7.3719 acc_train:  6 acc_val:  6\n",
      "loss:  1.8806 acc_train:  20 acc_val:  20\n",
      "loss:  1.8009 acc_train:  26 acc_val:  26\n",
      "loss:  1.6949 acc_train:  33 acc_val:  33\n",
      "loss:  1.5203 acc_train:  53 acc_val:  53\n",
      "tensor([0, 5, 8, 4, 5, 8, 7, 5, 0, 7, 4, 7, 5, 4, 7])\n",
      "tensor([0., 5., 3., 4., 5., 8., 7., 5., 0., 2., 4., 7., 7., 4., 2.],\n",
      "       dtype=torch.float64)\n",
      "loss:  1.2851 acc_train:  73 acc_val:  73\n",
      "loss:  1.0255 acc_train:  80 acc_val:  80\n",
      "loss:  0.8072 acc_train:  86 acc_val:  86\n",
      "loss:  0.6302 acc_train:  86 acc_val:  86\n",
      "loss:  0.4656 acc_train:  93 acc_val:  93\n",
      "tensor([0, 5, 3, 4, 5, 8, 7, 5, 0, 2, 4, 7, 7, 4, 2])\n",
      "tensor([0., 5., 3., 4., 5., 8., 7., 5., 0., 2., 4., 7., 7., 4., 2.],\n",
      "       dtype=torch.float64)\n",
      "loss:  0.3227 acc_train:  100 acc_val:  100\n",
      "loss:  0.2176 acc_train:  100 acc_val:  100\n",
      "loss:  0.1449 acc_train:  100 acc_val:  100\n",
      "loss:  0.1 acc_train:  100 acc_val:  100\n",
      "loss:  0.0731 acc_train:  100 acc_val:  100\n",
      "tensor([0, 5, 3, 4, 5, 8, 7, 5, 0, 2, 4, 7, 7, 4, 2])\n",
      "tensor([0., 5., 3., 4., 5., 8., 7., 5., 0., 2., 4., 7., 7., 4., 2.],\n",
      "       dtype=torch.float64)\n",
      "loss:  0.0561 acc_train:  100 acc_val:  100\n",
      "loss:  0.0446 acc_train:  100 acc_val:  100\n",
      "loss:  0.0366 acc_train:  100 acc_val:  100\n",
      "loss:  0.0308 acc_train:  100 acc_val:  100\n",
      "loss:  0.0264 acc_train:  100 acc_val:  100\n",
      "tensor([0, 5, 3, 4, 5, 8, 7, 5, 0, 2, 4, 7, 7, 4, 2])\n",
      "tensor([0., 5., 3., 4., 5., 8., 7., 5., 0., 2., 4., 7., 7., 4., 2.],\n",
      "       dtype=torch.float64)\n",
      "loss:  0.0231 acc_train:  100 acc_val:  100\n",
      "loss:  0.0204 acc_train:  100 acc_val:  100\n",
      "loss:  0.0182 acc_train:  100 acc_val:  100\n",
      "loss:  0.0164 acc_train:  100 acc_val:  100\n",
      "loss:  0.0149 acc_train:  100 acc_val:  100\n",
      "tensor([0, 5, 3, 4, 5, 8, 7, 5, 0, 2, 4, 7, 7, 4, 2])\n",
      "tensor([0., 5., 3., 4., 5., 8., 7., 5., 0., 2., 4., 7., 7., 4., 2.],\n",
      "       dtype=torch.float64)\n",
      "loss:  0.0136 acc_train:  100 acc_val:  100\n",
      "loss:  0.0125 acc_train:  100 acc_val:  100\n",
      "loss:  0.0116 acc_train:  100 acc_val:  100\n",
      "loss:  0.0107 acc_train:  100 acc_val:  100\n",
      "loss:  0.01 acc_train:  100 acc_val:  100\n",
      "tensor([0, 5, 3, 4, 5, 8, 7, 5, 0, 2, 4, 7, 7, 4, 2])\n",
      "tensor([0., 5., 3., 4., 5., 8., 7., 5., 0., 2., 4., 7., 7., 4., 2.],\n",
      "       dtype=torch.float64)\n",
      "loss:  0.0093 acc_train:  100 acc_val:  100\n",
      "loss:  0.0087 acc_train:  100 acc_val:  100\n",
      "loss:  0.0082 acc_train:  100 acc_val:  100\n",
      "loss:  0.0077 acc_train:  100 acc_val:  100\n",
      "loss:  0.0073 acc_train:  100 acc_val:  100\n",
      "tensor([0, 5, 3, 4, 5, 8, 7, 5, 0, 2, 4, 7, 7, 4, 2])\n",
      "tensor([0., 5., 3., 4., 5., 8., 7., 5., 0., 2., 4., 7., 7., 4., 2.],\n",
      "       dtype=torch.float64)\n",
      "loss:  0.0069 acc_train:  100 acc_val:  100\n",
      "loss:  0.0066 acc_train:  100 acc_val:  100\n",
      "loss:  0.0062 acc_train:  100 acc_val:  100\n",
      "loss:  0.0059 acc_train:  100 acc_val:  100\n",
      "loss:  0.0056 acc_train:  100 acc_val:  100\n",
      "tensor([0, 5, 3, 4, 5, 8, 7, 5, 0, 2, 4, 7, 7, 4, 2])\n",
      "tensor([0., 5., 3., 4., 5., 8., 7., 5., 0., 2., 4., 7., 7., 4., 2.],\n",
      "       dtype=torch.float64)\n",
      "loss:  0.0054 acc_train:  100 acc_val:  100\n",
      "loss:  0.0052 acc_train:  100 acc_val:  100\n",
      "loss:  0.0049 acc_train:  100 acc_val:  100\n",
      "loss:  0.0047 acc_train:  100 acc_val:  100\n",
      "loss:  0.0045 acc_train:  100 acc_val:  100\n",
      "tensor([0, 5, 3, 4, 5, 8, 7, 5, 0, 2, 4, 7, 7, 4, 2])\n",
      "tensor([0., 5., 3., 4., 5., 8., 7., 5., 0., 2., 4., 7., 7., 4., 2.],\n",
      "       dtype=torch.float64)\n",
      "loss:  0.0044 acc_train:  100 acc_val:  100\n",
      "loss:  0.0042 acc_train:  100 acc_val:  100\n",
      "loss:  0.004 acc_train:  100 acc_val:  100\n",
      "loss:  0.0039 acc_train:  100 acc_val:  100\n",
      "loss:  0.0037 acc_train:  100 acc_val:  100\n",
      "tensor([0, 5, 3, 4, 5, 8, 7, 5, 0, 2, 4, 7, 7, 4, 2])\n",
      "tensor([0., 5., 3., 4., 5., 8., 7., 5., 0., 2., 4., 7., 7., 4., 2.],\n",
      "       dtype=torch.float64)\n",
      "loss:  0.0036 acc_train:  100 acc_val:  100\n",
      "loss:  0.0035 acc_train:  100 acc_val:  100\n",
      "loss:  0.0034 acc_train:  100 acc_val:  100\n",
      "loss:  0.0033 acc_train:  100 acc_val:  100\n",
      "loss:  0.0032 acc_train:  100 acc_val:  100\n",
      "tensor([0, 5, 3, 4, 5, 8, 7, 5, 0, 2, 4, 7, 7, 4, 2])\n",
      "tensor([0., 5., 3., 4., 5., 8., 7., 5., 0., 2., 4., 7., 7., 4., 2.],\n",
      "       dtype=torch.float64)\n",
      "loss:  0.0031 acc_train:  100 acc_val:  100\n",
      "loss:  0.003 acc_train:  100 acc_val:  100\n",
      "loss:  0.0029 acc_train:  100 acc_val:  100\n",
      "loss:  0.0028 acc_train:  100 acc_val:  100\n",
      "loss:  0.0027 acc_train:  100 acc_val:  100\n",
      "tensor([0, 5, 3, 4, 5, 8, 7, 5, 0, 2, 4, 7, 7, 4, 2])\n",
      "tensor([0., 5., 3., 4., 5., 8., 7., 5., 0., 2., 4., 7., 7., 4., 2.],\n",
      "       dtype=torch.float64)\n",
      "loss:  0.0026 acc_train:  100 acc_val:  100\n",
      "loss:  0.0025 acc_train:  100 acc_val:  100\n",
      "loss:  0.0025 acc_train:  100 acc_val:  100\n",
      "loss:  0.0024 acc_train:  100 acc_val:  100\n",
      "loss:  0.0023 acc_train:  100 acc_val:  100\n",
      "tensor([0, 5, 3, 4, 5, 8, 7, 5, 0, 2, 4, 7, 7, 4, 2])\n",
      "tensor([0., 5., 3., 4., 5., 8., 7., 5., 0., 2., 4., 7., 7., 4., 2.],\n",
      "       dtype=torch.float64)\n",
      "loss:  0.0023 acc_train:  100 acc_val:  100\n",
      "loss:  0.0022 acc_train:  100 acc_val:  100\n",
      "loss:  0.0022 acc_train:  100 acc_val:  100\n",
      "loss:  0.0021 acc_train:  100 acc_val:  100\n",
      "loss:  0.0021 acc_train:  100 acc_val:  100\n",
      "tensor([0, 5, 3, 4, 5, 8, 7, 5, 0, 2, 4, 7, 7, 4, 2])\n",
      "tensor([0., 5., 3., 4., 5., 8., 7., 5., 0., 2., 4., 7., 7., 4., 2.],\n",
      "       dtype=torch.float64)\n",
      "loss:  0.002 acc_train:  100 acc_val:  100\n",
      "loss:  0.002 acc_train:  100 acc_val:  100\n",
      "loss:  0.0019 acc_train:  100 acc_val:  100\n",
      "loss:  0.0019 acc_train:  100 acc_val:  100\n",
      "loss:  0.0018 acc_train:  100 acc_val:  100\n",
      "tensor([0, 5, 3, 4, 5, 8, 7, 5, 0, 2, 4, 7, 7, 4, 2])\n",
      "tensor([0., 5., 3., 4., 5., 8., 7., 5., 0., 2., 4., 7., 7., 4., 2.],\n",
      "       dtype=torch.float64)\n",
      "loss:  0.0018 acc_train:  100 acc_val:  100\n",
      "loss:  0.0017 acc_train:  100 acc_val:  100\n",
      "loss:  0.0017 acc_train:  100 acc_val:  100\n",
      "loss:  0.0017 acc_train:  100 acc_val:  100\n",
      "loss:  0.0016 acc_train:  100 acc_val:  100\n",
      "tensor([0, 5, 3, 4, 5, 8, 7, 5, 0, 2, 4, 7, 7, 4, 2])\n",
      "tensor([0., 5., 3., 4., 5., 8., 7., 5., 0., 2., 4., 7., 7., 4., 2.],\n",
      "       dtype=torch.float64)\n",
      "loss:  0.0016 acc_train:  100 acc_val:  100\n",
      "loss:  0.0016 acc_train:  100 acc_val:  100\n",
      "loss:  0.0015 acc_train:  100 acc_val:  100\n",
      "loss:  0.0015 acc_train:  100 acc_val:  100\n",
      "loss:  0.0015 acc_train:  100 acc_val:  100\n",
      "tensor([0, 5, 3, 4, 5, 8, 7, 5, 0, 2, 4, 7, 7, 4, 2])\n",
      "tensor([0., 5., 3., 4., 5., 8., 7., 5., 0., 2., 4., 7., 7., 4., 2.],\n",
      "       dtype=torch.float64)\n",
      "loss:  0.0014 acc_train:  100 acc_val:  100\n",
      "loss:  0.0014 acc_train:  100 acc_val:  100\n",
      "loss:  0.0014 acc_train:  100 acc_val:  100\n",
      "loss:  0.0013 acc_train:  100 acc_val:  100\n",
      "loss:  0.0013 acc_train:  100 acc_val:  100\n",
      "tensor([0, 5, 3, 4, 5, 8, 7, 5, 0, 2, 4, 7, 7, 4, 2])\n",
      "tensor([0., 5., 3., 4., 5., 8., 7., 5., 0., 2., 4., 7., 7., 4., 2.],\n",
      "       dtype=torch.float64)\n",
      "loss:  0.0013 acc_train:  100 acc_val:  100\n",
      "loss:  0.0013 acc_train:  100 acc_val:  100\n",
      "loss:  0.0012 acc_train:  100 acc_val:  100\n",
      "loss:  0.0012 acc_train:  100 acc_val:  100\n",
      "loss:  0.0012 acc_train:  100 acc_val:  100\n",
      "tensor([0, 5, 3, 4, 5, 8, 7, 5, 0, 2, 4, 7, 7, 4, 2])\n",
      "tensor([0., 5., 3., 4., 5., 8., 7., 5., 0., 2., 4., 7., 7., 4., 2.],\n",
      "       dtype=torch.float64)\n",
      "loss:  0.0012 acc_train:  100 acc_val:  100\n",
      "loss:  0.0012 acc_train:  100 acc_val:  100\n",
      "loss:  0.0011 acc_train:  100 acc_val:  100\n",
      "loss:  0.0011 acc_train:  100 acc_val:  100\n",
      "loss:  0.0011 acc_train:  100 acc_val:  100\n"
     ]
    },
    {
     "data": {
      "image/png": "[encoded data removed]",
      "text/plain": [
       "<Figure size 432x288 with 1 Axes>"
      ]
     },
     "metadata": {
      "needs_background": "light",
      "tags": []
     },
     "output_type": "display_data"
    }
   ],
   "source": [
    "train_params = {\n",
    "    'train_loader': train_loader,\n",
    "    'val_loader': train_loader,\n",
    "    'optim': torch.optim.Adam(testmodel.parameters(), lr=1e-2),\n",
    "    'loss_fn': torch.nn.CrossEntropyLoss(),\n",
    "    'num_epochs': 1000\n",
    "}\n",
    "train(testmodel, **train_params)"
   ]
  },
  {
   "cell_type": "markdown",
   "metadata": {
    "colab_type": "text",
    "id": "Ye3fEMEVDrnu"
   },
   "source": [
    "# Test B"
   ]
  },
  {
   "cell_type": "code",
   "execution_count": 0,
   "metadata": {
    "colab": {},
    "colab_type": "code",
    "id": "ZXuGeoQKDrnv"
   },
   "outputs": [],
   "source": [
    "notes = np.ones(32)*8\n",
    "times = [8]\n",
    "chord = chordsDict['C']\n",
    "chords = np.repeat(chord, 32).reshape((12,-1)).T\n",
    "encoding = True\n",
    "train_data, train_labels = getInputSequences(notes, times, chords, encoding=encoding, modulation=False, padding=False, seq_len=1)\n",
    "\n",
    "display(train_data.shape)\n",
    "batch_size = 32\n",
    "train_loader = getDataLoader(train_data, train_labels, batch_size=batch_size, shuffle=False)\n",
    "\n",
    "# test model\n",
    "model_params = {\n",
    "    'input_dim': train_data.shape[-1],\n",
    "    'hidden_dim': 64,\n",
    "    'num_layers': 1,\n",
    "    'output_dim_pitch': MELODY,\n",
    "    'output_dim_duration': TIMES,\n",
    "    'dropout': 0\n",
    "}\n",
    "\n",
    "testmodel = LSTM(**model_params)\n"
   ]
  },
  {
   "cell_type": "code",
   "execution_count": 0,
   "metadata": {
    "colab": {},
    "colab_type": "code",
    "id": "57ym3Kx-Drnz"
   },
   "outputs": [],
   "source": []
  },
  {
   "cell_type": "markdown",
   "metadata": {
    "colab": {},
    "colab_type": "code",
    "id": "1zPqpYyNDrn3"
   },
   "source": [
    "# Testing Krumhansl"
   ]
  },
  {
   "cell_type": "code",
   "execution_count": 0,
   "metadata": {
    "colab": {},
    "colab_type": "code",
    "id": "fIP8bzP9Drn6"
   },
   "outputs": [],
   "source": [
    "folder = \"datasets/lmd_full/0/\"\n",
    "#files[:5]\n",
    "\n",
    "files = [file for file in os.listdir(folder) if '.mid' in file]\n",
    "pm = pretty_midi.PrettyMIDI(folder + files[2])\n",
    "pch = pm.get_pitch_class_histogram()\n",
    "\n",
    "np.argmax(ks_key(pch)[1])\n",
    "\n",
    "pm.key_signature_changes\n",
    "\n",
    "folder = \"datasets/Piano-midi.de/train/\" #0.75 ohne C mit rel\n",
    "folder = \"datasets/kpcorpus/\" \n",
    "folder = \"datasets/lmd_full/2/\"\n",
    "t = time.time()\n",
    "\n",
    "# find keys\n",
    "files = [file for file in os.listdir(folder) if '.mid' in file]\n",
    "    \n",
    "def key(key_number):\n",
    "    return pretty_midi.key_number_to_key_name(key_number)\n",
    "\n",
    "def keynr(key):\n",
    "    return pretty_midi.key_name_to_key_number(key)\n",
    "       \n",
    "def isFifth(realkey,predkey):\n",
    "    return (realkey - predkey)%12 == 7 or (predkey - realkey)%12 == 7\n",
    "        \n",
    "def isRelative(realkey,predkey):\n",
    "    if realkey > 11 and (realkey - 9) % 12 == predkey:\n",
    "        return True\n",
    "    elif predkey > 11 and (predkey - 9) % 12 == realkey:\n",
    "        return True\n",
    "    else:\n",
    "        return False\n",
    "        \n",
    "def isParallel(realkey,predkey):\n",
    "    return realkey%12 == predkey%12\n",
    "\n",
    "correct ,fifth,relative,parallel,total = 0,0,0,0,0\n",
    "keys=[]\n",
    "print(\"Scale by first keychange event, \\t Scale by KrumhanslSchmuckler, \\t, Filename\")\n",
    "for i, file in enumerate(files[:100]):\n",
    "    try:\n",
    "        pm = pretty_midi.PrettyMIDI(folder + file)\n",
    "    except:\n",
    "        continue\n",
    "\n",
    "    pm = pretty_midi.PrettyMIDI(folder + file)\n",
    "    if pm.key_signature_changes != []:\n",
    "        try:\n",
    "            algkey = ks_key(pm.get_pitch_class_histogram(), 'aarden')\n",
    "            pmkeys = [x.key_number for x in pm.key_signature_changes]\n",
    "            pmkey = pmkeys[0]\n",
    "            if pmkey == 0:\n",
    "                continue\n",
    "            keys.append([pmkey,algkey])\n",
    "            #print(key(pmkey), '\\t', key(int(algkey)), '\\t', file, '\\t', pmkeys)\n",
    "        except:\n",
    "            pass\n",
    "\n",
    "correct ,fifth,relative,parallel,total = 0,0,0,0,0\n",
    "for key in keys:\n",
    "    realkey = key[0]\n",
    "    predkey = key[1]\n",
    "    total += 1\n",
    "    if realkey == predkey:\n",
    "        correct += 1\n",
    "    elif isFifth(realkey,predkey):\n",
    "        fifth += 1\n",
    "    elif isRelative(realkey,predkey):\n",
    "        relative += 1\n",
    "    elif isParallel(realkey,predkey):\n",
    "        parallel += 1\n",
    "print(\"time\", np.round(time.time()-t,2), \"s\")\n",
    "print(correct, relative, fifth, parallel, total)\n",
    "print((correct+relative)/total, correct/total, relative/total, fifth/total, parallel/total, (total-correct-fifth-relative-parallel)/total)\n"
   ]
  },
  {
   "cell_type": "code",
   "execution_count": 0,
   "metadata": {
    "colab": {},
    "colab_type": "code",
    "id": "gfDCQVeKDrn9"
   },
   "outputs": [],
   "source": []
  },
  {
   "cell_type": "code",
   "execution_count": 0,
   "metadata": {
    "colab": {},
    "colab_type": "code",
    "id": "6frqMELbDroA"
   },
   "outputs": [],
   "source": []
  },
  {
   "cell_type": "code",
   "execution_count": 0,
   "metadata": {
    "colab": {},
    "colab_type": "code",
    "id": "7Amv8q3uDroC"
   },
   "outputs": [],
   "source": []
  },
  {
   "cell_type": "code",
   "execution_count": 0,
   "metadata": {
    "colab": {},
    "colab_type": "code",
    "id": "EYwLvorgDroH"
   },
   "outputs": [],
   "source": []
  },
  {
   "cell_type": "markdown",
   "metadata": {
    "colab_type": "text",
    "id": "VYXTGtgZDroJ"
   },
   "source": [
    "# Legacy"
   ]
  },
  {
   "cell_type": "code",
   "execution_count": 0,
   "metadata": {
    "colab": {},
    "colab_type": "code",
    "id": "OsE3JcMZDroK",
    "outputId": "18dccb35-917b-4973-f19e-18885a76ddfa"
   },
   "outputs": [
    {
     "data": {
      "text/plain": [
       "torch.Size([5, 300, 20])"
      ]
     },
     "execution_count": 8,
     "metadata": {
      "tags": []
     },
     "output_type": "execute_result"
    }
   ],
   "source": [
    "# smallest LSTM example\n",
    "rnn = nn.LSTM(input_size=10, hidden_size=20, num_layers=2, batch_first=True) # It was batch_first=True!\n",
    "inputs = torch.randn(5, 300, 10)\n",
    "hidden = (torch.randn(2, 5, 20), torch.randn(2, 5, 20))\n",
    "output, hidden = rnn(inputs, hidden)\n",
    "output.shape"
   ]
  },
  {
   "cell_type": "code",
   "execution_count": 0,
   "metadata": {
    "colab": {},
    "colab_type": "code",
    "id": "NLq1g6PHDroN"
   },
   "outputs": [],
   "source": [
    "def standardize(data):\n",
    "    \"\"\" Move {0,1} data to {-1,1}, then standardize. Standardize data in [0,1]\"\"\"\n",
    "    data = data.astype(np.float32)\n",
    "    standardized_data = (data - np.mean(data, axis=0)[None,:,:]) / np.std(data, axis=0)[None,:,:]\n",
    "    return standardized_data"
   ]
  },
  {
   "cell_type": "code",
   "execution_count": 0,
   "metadata": {
    "colab": {},
    "colab_type": "code",
    "id": "m4CGABNGDroP"
   },
   "outputs": [],
   "source": []
  }
 ],
 "metadata": {
  "accelerator": "GPU",
  "colab": {
   "collapsed_sections": [],
   "name": "JamBuddyDAC.ipynb",
   "provenance": [],
   "version": "0.3.2"
  },
  "kernelspec": {
   "display_name": "Python 3",
   "language": "python",
   "name": "python3"
  },
  "language_info": {
   "codemirror_mode": {
    "name": "ipython",
    "version": 3
   },
   "file_extension": ".py",
   "mimetype": "text/x-python",
   "name": "python",
   "nbconvert_exporter": "python",
   "pygments_lexer": "ipython3",
   "version": "3.6.7"
  }
 },
 "nbformat": 4,
 "nbformat_minor": 1
}
