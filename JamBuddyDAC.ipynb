{
 "cells": [
  {
   "cell_type": "code",
   "execution_count": 30,
   "metadata": {},
   "outputs": [
    {
     "name": "stdout",
     "output_type": "stream",
     "text": [
      "The autoreload extension is already loaded. To reload it, use:\n",
      "  %reload_ext autoreload\n"
     ]
    }
   ],
   "source": [
    "%matplotlib inline\n",
    "import os\n",
    "import time\n",
    "import numpy as np\n",
    "import matplotlib.pyplot as plt\n",
    "import IPython.display\n",
    "import collections\n",
    "#import pyfluidsynth\n",
    "\n",
    "from pathlib import Path\n",
    "import pretty_midi\n",
    "import librosa.display\n",
    "import glob\n",
    "\n",
    "import torch\n",
    "import torch.nn as nn\n",
    "import torch.nn.functional as F\n",
    "import torch.utils.data\n",
    "device = torch.device(\"cuda:0\" if torch.cuda.is_available() else \"cpu\")\n",
    "\n",
    "%load_ext autoreload\n",
    "%autoreload 2\n",
    "\n",
    "%run midi_util.py\n",
    "\n",
    "folder = 'train/'"
   ]
  },
  {
   "cell_type": "markdown",
   "metadata": {},
   "source": [
    "## midi notes file"
   ]
  },
  {
   "cell_type": "code",
   "execution_count": 31,
   "metadata": {
    "scrolled": false
   },
   "outputs": [
    {
     "data": {
      "text/plain": [
       "\"\\nd,c = 0,0\\nfnum = 0\\nbnum = 0\\nfor f in os.listdir('train/jazz/jazz'):\\n    print(f)\\n    try:\\n        xz = pretty_midi.PrettyMIDI('train/jazz/jazz/'+f)\\n    except:\\n        bnum +=1 \\n        continue\\n    for i, elt in enumerate(xz.instruments):\\n        if 'melody' in xz.instruments[i].name.lower():\\n            d+=1\\n            print(fnum,d)\\n    fnum += 1\\nfnum,bnum, d\\n\\n(916, 19, 255)  \\n\""
      ]
     },
     "execution_count": 31,
     "metadata": {},
     "output_type": "execute_result"
    }
   ],
   "source": [
    "\"\"\"\n",
    "d,c = 0,0\n",
    "fnum = 0\n",
    "bnum = 0\n",
    "for f in os.listdir('train/jazz/jazz'):\n",
    "    print(f)\n",
    "    try:\n",
    "        xz = pretty_midi.PrettyMIDI('train/jazz/jazz/'+f)\n",
    "    except:\n",
    "        bnum +=1 \n",
    "        continue\n",
    "    for i, elt in enumerate(xz.instruments):\n",
    "        if 'melody' in xz.instruments[i].name.lower():\n",
    "            d+=1\n",
    "            print(fnum,d)\n",
    "    fnum += 1\n",
    "fnum,bnum, d\n",
    "\n",
    "(916, 19, 255)  \n",
    "\"\"\""
   ]
  },
  {
   "cell_type": "code",
   "execution_count": 32,
   "metadata": {},
   "outputs": [],
   "source": [
    "def getPianoAndMelody(pm, low = 36, high = 84, fs=100):\n",
    "    def padAndAdd(array1, array2):\n",
    "        if array1.shape[0] > array2.shape[0]:\n",
    "            a, b = array1, array2\n",
    "        else:\n",
    "            a, b = array2, array1\n",
    "        ar = np.pad(b, ((0,a.shape[0]-b.shape[0]), (0,0)), 'constant', constant_values=0)\n",
    "        return a + ar\n",
    "\n",
    "    maxlen = 0\n",
    "    pianos = []\n",
    "    melodies = []\n",
    "    for i, elt in enumerate(pm.instruments):\n",
    "        pianoroll = pm.instruments[i].get_piano_roll(fs=fs)[low:high].T\n",
    "        numnotes = pianoroll.nonzero()[0].shape[0]\n",
    "        if numnotes > maxlen:\n",
    "            mostnotes = i\n",
    "            maxlen = numnotes\n",
    "        if 'piano' in pm.instruments[i].name.lower():\n",
    "            pianos.append((pianoroll,numnotes))\n",
    "        if 'melody' in pm.instruments[i].name.lower():\n",
    "            melodies.append(pianoroll)\n",
    "            \n",
    "    if pianos != {}:\n",
    "        pianowithmostnotes = max(pianos, key=lambda x: x[1])\n",
    "        harmonytrack = pianowithmostnotes[0]\n",
    "    else:\n",
    "        print(\"no piano track found so using track with most notes as harmonytrack\")\n",
    "        harmonytrack = pianos[mostnotes][0]\n",
    "        \n",
    "    if len(melodies) == 1:\n",
    "        melodytrack = melodies[0]\n",
    "    elif len(melodies) == 2:\n",
    "        print(\"padding and adding two melodies to one\")\n",
    "        melodytrack = padAndAdd(melodies[0], melodies[1])\n",
    "    elif len(melodies) > 2:\n",
    "        print(\"more than 2 melody tracks. not handled\")\n",
    "        melodytrack = padAndAdd(melodies[0], melodies[1])\n",
    "    else:\n",
    "        print(\"no melody track found.\")\n",
    "        melodytrack = []\n",
    "        \n",
    "    return {'melody': melodytrack, 'harmony': harmonytrack}\n",
    "    "
   ]
  },
  {
   "cell_type": "markdown",
   "metadata": {},
   "source": [
    "### Decision: Chord Dictionary(>10 chords one hot) & Root note (lowest, 11 one hot)\n",
    "new decision: chord dict later, first baseline with chords as binary (11 multihot)"
   ]
  },
  {
   "cell_type": "markdown",
   "metadata": {},
   "source": [
    "## notes list with context chord vector"
   ]
  },
  {
   "cell_type": "code",
   "execution_count": 33,
   "metadata": {},
   "outputs": [
    {
     "data": {
      "text/plain": [
       "157"
      ]
     },
     "execution_count": 33,
     "metadata": {},
     "output_type": "execute_result"
    }
   ],
   "source": [
    "# highest note is melody\n",
    "low = 36 # C2=36, C3=48, C4=60, C5=72, C6=84\n",
    "high = 84 # 48 notes (3 octaves chords, 3 octaves melody (=1 overlap)) (read 2, augment to 3)\n",
    "pause = 37 # note 37 in representation is pause\n",
    "maxnotelength = 48\n",
    "\n",
    "# input sizes\n",
    "MELODY = 37 # spaeter 36?\n",
    "TIMES = 48\n",
    "CHORDS = 36\n",
    "INPUTSHAPE = MELODY + TIMES + CHORDS*2\n",
    "INPUTSHAPE"
   ]
  },
  {
   "cell_type": "code",
   "execution_count": 63,
   "metadata": {},
   "outputs": [],
   "source": [
    "def processMidi(pm, low=36, high=84):\n",
    "    \"\"\"MIDI to Note list.\n",
    "    Input: pretty_midi object\n",
    "    Output: \n",
    "        - Notes Array, size: (N,)\n",
    "        - Times Array, size: (N,)\n",
    "        - Chords Array, size: (N, 24)\n",
    "    \"\"\"\n",
    "    \n",
    "    tracks = getPianoAndMelody(pm, low=low, high=high, fs=pm.resolution)\n",
    "    harmonyroll = tracks['harmony'][:,:24]\n",
    "    melodyroll = tracks['melody'][:,12:]\n",
    "\n",
    "    songlength = min(harmonyroll.shape[0],melodyroll.shape[0]) # ERROR maybe need to synchronize start??\n",
    "\n",
    "    curr_note = pause \n",
    "    counter = 0\n",
    "    beatcounter = 0 # count beat to know what chord notes to collect\n",
    "    newnote = True\n",
    "    chords_list, notes_list, times_list = [], [], []\n",
    "    chordarray = np.zeros(24)\n",
    "    for i in range(songlength):\n",
    "        if newnote:\n",
    "            newnote = False\n",
    "        nnzidx = melodyroll[i].nonzero()[0]\n",
    "        if nnzidx.shape[0] > 0:\n",
    "            new_note = np.max(nnzidx)\n",
    "        else:\n",
    "            new_note = pause\n",
    "        if new_note != curr_note:\n",
    "            curr_length = int(np.round(counter/10)) # ERROR PRONE | 30->4tel 15-?>8tel 10->12tel?\n",
    "            #curr_length = counter\n",
    "            if curr_length > 0:\n",
    "                notes_list.append(curr_note)\n",
    "                if curr_length > maxnotelength: # ERROR what about the chord? a well its a pause...\n",
    "                    times_list.append(maxnotelength)\n",
    "                else:\n",
    "                    times_list.append(curr_length)\n",
    "                chords_list.append(chordarray/counter)\n",
    "            chordarray = np.zeros(24)\n",
    "            counter = 1\n",
    "            curr_note = new_note\n",
    "            newnote = True\n",
    "        else:\n",
    "            counter += 1\n",
    "            chordidx = harmonyroll[i].nonzero()[0]\n",
    "            curr_chordarray = np.zeros(24)\n",
    "            curr_chordarray[chordidx] = 1\n",
    "            chordarray += curr_chordarray\n",
    "\n",
    "    notes = np.array(notes_list)\n",
    "    times = np.array(times_list)\n",
    "    chords= np.array(chords_list)\n",
    "    #display(notes.shape, notes.shape == times.shape, notes[:20],times[:20], chords.shape, times)\n",
    "    return notes, times, chords\n",
    "\n",
    "def getFeatureVector(notes, times, chords):\n",
    "    \"\"\"input size 37+48+36+36 = 157 (mit triolen) \n",
    "    Creates Feature Vector from notes lists.\n",
    "    Input: notes, times, chords from processMIDI\n",
    "    Output: features array, size: (N,157)\n",
    "    \"\"\"\n",
    "    features = []\n",
    "    for i, note in enumerate(notes):\n",
    "        for j in range(12):\n",
    "            elt = np.zeros(157)\n",
    "            elt[j+notes[i]] = 1 # melody bit\n",
    "            offset = MELODY\n",
    "            elt[offset+times[i]] = 1 # times bit\n",
    "            # chords\n",
    "            offset = MELODY + TIMES\n",
    "            elt[offset+j:offset+j+chords[i].shape[0]] = chords[i]\n",
    "            if i < len(notes)-1:\n",
    "                offset = MELODY + TIMES + CHORDS\n",
    "                elt[offset+j:offset+j+chords[i].shape[0]] = chords[i+1]\n",
    "                features.append(elt)\n",
    "    features = np.array(features)\n",
    "    #display(\"Features shape:\", features.shape)\n",
    "    return features\n",
    "\n",
    "def getInputSequences(features, seq_len=16):\n",
    "    # TODO: add times to label?\n",
    "    \"\"\"Create Net Input.\n",
    "    Input: features from getFeatureVector\n",
    "    Output: \n",
    "        - Sequences, size: (157, seq_len)\n",
    "        - Labels, one-hot, size: (MELODY,) # TODO: add times to label\n",
    "    \"\"\"\n",
    "    seq_len = seq_len\n",
    "    sequences = []\n",
    "    labels = []\n",
    "    i = 0\n",
    "    while i+seq_len < features.shape[0]:\n",
    "        sequences.append(features[i:i+seq_len])\n",
    "        label = np.argmax(features[i+seq_len,:MELODY])\n",
    "        labels.append(label)\n",
    "        #i += seq_len\n",
    "        i += 1\n",
    "\n",
    "    sequences = np.array(sequences)\n",
    "    labels = np.array(labels)\n",
    "    #display(\"Sequences.shape, Labels.shape\",sequences.shape, labels.shape)\n",
    "    return sequences, labels\n"
   ]
  },
  {
   "cell_type": "code",
   "execution_count": 64,
   "metadata": {},
   "outputs": [
    {
     "name": "stdout",
     "output_type": "stream",
     "text": [
      "padding and adding two melodies to one\n"
     ]
    }
   ],
   "source": [
    "file = 'autumnleaves.mid'\n",
    "pm = pretty_midi.PrettyMIDI(folder+file)\n",
    "notes, times, chords = processMidi(pm)\n",
    "features = getFeatureVector(notes, times, chords)\n",
    "sequences, labels = getInputSequences(features)"
   ]
  },
  {
   "cell_type": "code",
   "execution_count": 36,
   "metadata": {},
   "outputs": [
    {
     "data": {
      "text/plain": [
       "((800, 16, 157), (800,))"
      ]
     },
     "execution_count": 36,
     "metadata": {},
     "output_type": "execute_result"
    }
   ],
   "source": [
    "# train/val split\n",
    "n = 1000\n",
    "data = sequences[:n]\n",
    "labels = labels[:n]\n",
    "\n",
    "perm = np.random.permutation(n)\n",
    "p = int(0.8*n)\n",
    "\n",
    "train_data = data[perm[:p]]\n",
    "train_labels = labels[perm[:p]]\n",
    "val_data = data[perm[p:]]\n",
    "val_labels = labels[perm[p:]]\n",
    "\n",
    "train_data.shape, train_labels.shape"
   ]
  },
  {
   "cell_type": "code",
   "execution_count": 37,
   "metadata": {},
   "outputs": [
    {
     "data": {
      "text/plain": [
       "Counter({18: 24,\n",
       "         19: 28,\n",
       "         25: 31,\n",
       "         26: 29,\n",
       "         0: 387,\n",
       "         21: 34,\n",
       "         27: 28,\n",
       "         29: 18,\n",
       "         13: 4,\n",
       "         24: 31,\n",
       "         23: 31,\n",
       "         20: 28,\n",
       "         22: 29,\n",
       "         11: 2,\n",
       "         31: 6,\n",
       "         16: 15,\n",
       "         35: 2,\n",
       "         32: 5,\n",
       "         14: 7,\n",
       "         33: 4,\n",
       "         28: 17,\n",
       "         17: 12,\n",
       "         30: 11,\n",
       "         34: 6,\n",
       "         15: 8,\n",
       "         12: 3})"
      ]
     },
     "metadata": {},
     "output_type": "display_data"
    }
   ],
   "source": [
    "counter = collections.Counter(train_labels)\n",
    "display(counter)\n",
    "for elt in counter:\n",
    "    counter[elt] = 1. / counter[elt]\n",
    "weights  = []\n",
    "for i in range(MELODY): # error prone\n",
    "    weights.append(counter.get(i,0))\n",
    "weights = torch.Tensor(weights)"
   ]
  },
  {
   "cell_type": "markdown",
   "metadata": {},
   "source": [
    "## Load Data for Pytorch"
   ]
  },
  {
   "cell_type": "code",
   "execution_count": 38,
   "metadata": {
    "scrolled": true
   },
   "outputs": [],
   "source": [
    "batch_size = 32\n",
    "\n",
    "class Dataset(torch.utils.data.Dataset):\n",
    "    def __init__(self, inputs, labels, transform=None):\n",
    "        super(Dataset, self).__init__()\n",
    "        self.inputs = inputs\n",
    "        self.labels = labels\n",
    "        self.transform = transform\n",
    "       \n",
    "    def __len__(self):\n",
    "        return len(self.inputs)\n",
    "    \n",
    "    def __getitem__(self, idx):\n",
    "        inputs = self.inputs[idx]\n",
    "        label = self.labels[idx]\n",
    "        if self.transform: \n",
    "            inputs = self.transform(inputs)\n",
    "        return inputs, label\n",
    "    \n",
    "\n",
    "train = Dataset(train_data, train_labels)   \n",
    "val = Dataset(val_data, val_labels)\n",
    "\n",
    "#train_weights=weights[train_labels]\n",
    "#sampler = torch.utils.data.WeightedRandomSampler(weights=train_weights,num_samples=len(train_weights),replacement=True)\n",
    "train_loader = torch.utils.data.DataLoader(dataset=train, batch_size=batch_size, shuffle=True)\n",
    "val_loader = torch.utils.data.DataLoader(dataset=val, batch_size=batch_size, shuffle=False)\n"
   ]
  },
  {
   "cell_type": "markdown",
   "metadata": {},
   "source": [
    "## Model"
   ]
  },
  {
   "cell_type": "code",
   "execution_count": 39,
   "metadata": {},
   "outputs": [],
   "source": [
    "#####################\n",
    "# Build model\n",
    "#####################\n",
    "\n",
    "class LSTM(nn.Module):\n",
    "\n",
    "    def __init__(self, input_dim, hidden_dim, output_dim=1, num_layers=1):\n",
    "        super(LSTM, self).__init__()\n",
    "        self.input_dim = input_dim\n",
    "        self.hidden_dim = hidden_dim\n",
    "        self.output_dim = output_dim\n",
    "        self.num_layers = num_layers\n",
    "        self.hidden = self.init_hidden(batch_size)\n",
    "\n",
    "        self.lstm = nn.LSTM(\n",
    "            input_size=self.input_dim,\n",
    "            hidden_size=self.hidden_dim,\n",
    "            num_layers=self.num_layers,\n",
    "            batch_first=True\n",
    "        )\n",
    "        \n",
    "        self.bn2 = nn.BatchNorm1d(self.hidden_dim)\n",
    "        \n",
    "        self.linear = nn.Linear(self.hidden_dim, self.output_dim)\n",
    "\n",
    "    def init_hidden(self, batch_size):\n",
    "        return (torch.zeros(self.num_layers, batch_size, self.hidden_dim),\n",
    "                torch.zeros(self.num_layers, batch_size, self.hidden_dim))\n",
    "\n",
    "    def forward(self, x):\n",
    "        lstm_out, self.hidden = self.lstm(x, self.hidden)\n",
    "        \n",
    "        # Only take the output from the final timetep\n",
    "        fc_input = lstm_out[:,-1,:]\n",
    "        #fc_input = self.bn2(lstm_out[:,-1,:])\n",
    "        \n",
    "        y_pred = self.linear(fc_input)\n",
    "        # log_probs = F.log_softmax(y_pred,dim=1) # crossentropy is already with softmax\n",
    "        return y_pred\n",
    "    \n",
    "# evaluation\n",
    "def evaluation(notes=False, loader=val_loader):\n",
    "    model.eval()\n",
    "    correct = 0\n",
    "    total = 0\n",
    "    for i, (inputs, labels) in enumerate(loader):\n",
    "        inputs, labels = inputs.to(device), labels.to(device)\n",
    "\n",
    "        batch_size = inputs.size(0)\n",
    "        model.hidden = model.init_hidden(batch_size)\n",
    "\n",
    "        optim.zero_grad()\n",
    "        outputs = model(inputs.float())\n",
    "        \n",
    "        _, predicted = torch.max(outputs.data, 1)\n",
    "        total += labels.size(0)\n",
    "        correct += (predicted == labels).sum().item()\n",
    "        \n",
    "        if notes and i == 0:\n",
    "            print(predicted)\n",
    "    \n",
    "    acc = int(100 * correct / total)\n",
    "    model.train()\n",
    "    return acc"
   ]
  },
  {
   "cell_type": "code",
   "execution_count": 40,
   "metadata": {},
   "outputs": [
    {
     "data": {
      "text/plain": [
       "92901"
      ]
     },
     "execution_count": 40,
     "metadata": {},
     "output_type": "execute_result"
    }
   ],
   "source": [
    "# Model params\n",
    "input_size = train_data.shape[-1] \n",
    "output_dim = MELODY\n",
    "hidden_size = 64\n",
    "num_layers = 2\n",
    "\n",
    "model = LSTM(input_size, hidden_size, output_dim=output_dim, num_layers=num_layers)\n",
    "\n",
    "model_parameters = filter(lambda p: p.requires_grad, model.parameters())\n",
    "params = sum([np.prod(p.size()) for p in model_parameters])\n",
    "params"
   ]
  },
  {
   "cell_type": "code",
   "execution_count": 48,
   "metadata": {
    "scrolled": true
   },
   "outputs": [
    {
     "name": "stdout",
     "output_type": "stream",
     "text": [
      "tensor([0, 0, 0, 0, 0, 0, 0, 0, 0, 0, 0, 0, 0, 0, 0, 0, 0, 0, 0, 0, 0, 0, 0, 0,\n",
      "        0, 0, 0, 0, 0, 0, 0, 0])\n",
      "tensor([0, 0, 0, 0, 0, 0, 0, 0, 0, 0, 0, 0, 0, 0, 0, 0, 0, 0, 0, 0, 0, 0, 0, 0,\n",
      "        0, 0, 0, 0, 0, 0, 0, 0])\n",
      "loss:  56.4144 acc_train:  48 acc_val:  52\n",
      "loss:  30.6227 acc_train:  63 acc_val:  61\n",
      "loss:  16.684 acc_train:  87 acc_val:  77\n",
      "loss:  11.2805 acc_train:  92 acc_val:  86\n",
      "loss:  6.8546 acc_train:  95 acc_val:  86\n",
      "tensor([18, 16, 23, 18, 14,  0,  0,  0, 28, 24, 14, 21,  0, 34, 21, 21, 31,  0,\n",
      "        13,  0, 23,  0,  0,  0,  0,  0,  0,  0, 27, 21,  0, 26])\n",
      "tensor([30,  0, 15,  0,  0, 17,  0, 23,  0, 18, 25,  0,  0,  0, 23,  0,  0, 19,\n",
      "        24,  0,  0, 22,  0,  0,  0, 17, 18,  0,  0,  0,  0,  0])\n",
      "loss:  4.8104 acc_train:  97 acc_val:  90\n",
      "loss:  3.161 acc_train:  98 acc_val:  87\n",
      "loss:  1.9005 acc_train:  99 acc_val:  91\n",
      "loss:  1.6803 acc_train:  99 acc_val:  89\n",
      "loss:  0.8833 acc_train:  99 acc_val:  92\n"
     ]
    },
    {
     "data": {
      "image/png": "[encoded data removed]",
      "text/plain": [
       "<Figure size 432x288 with 1 Axes>"
      ]
     },
     "metadata": {
      "needs_background": "light"
     },
     "output_type": "display_data"
    }
   ],
   "source": [
    "#####################\n",
    "# Train model\n",
    "#####################\n",
    "\n",
    "# Train params\n",
    "learning_rate = 1e-3\n",
    "num_epochs = 100\n",
    "optim = torch.optim.Adam(model.parameters(), lr=learning_rate)\n",
    "#optim = torch.optim.SGD(model.parameters(), lr=learning_rate, momentum=0.9)\n",
    "\n",
    "#loss_fn = torch.nn.MSELoss()\n",
    "loss_fn = torch.nn.CrossEntropyLoss()\n",
    "#loss_fn = torch.nn.NLLLoss(weight=weights, reduction='sum')\n",
    "\n",
    "hist = np.zeros(num_epochs)\n",
    "\n",
    "def clip_gradient(model, clip_value):\n",
    "    params = list(filter(lambda p: p.grad is not None, model.parameters()))\n",
    "    for p in params:\n",
    "        p.grad.data.clamp_(-clip_value, clip_value)\n",
    "\n",
    "for t in range(num_epochs):\n",
    "    loss_curr = 0\n",
    "    for i, (inputs, labels) in enumerate(train_loader):\n",
    "        inputs, labels = inputs.to(device), labels.to(device)\n",
    "        \n",
    "        batch_size = inputs.size(0)\n",
    "        model.hidden = model.init_hidden(batch_size)\n",
    "        \n",
    "        optim.zero_grad()\n",
    "        outputs = model(inputs.float())\n",
    "        \n",
    "        loss = loss_fn(outputs, labels.long())\n",
    "        \n",
    "        loss.backward(retain_graph=True)\n",
    "        #clip_gradient(model, 1e-1)\n",
    "        optim.step()\n",
    "\n",
    "        loss_curr = loss_curr + loss.item()\n",
    "        \n",
    "    hist[t] = loss_curr\n",
    "    if t%10==0:\n",
    "        notes = t%50==0\n",
    "        acc_train = evaluation(notes, train_loader)\n",
    "        acc_val = evaluation(notes, val_loader)\n",
    "        print(\"loss: \", np.round(hist[t], 4), \"acc_train: \", np.round(acc_train,2), \"acc_val: \", np.round(acc_val,2))\n",
    "        \n",
    "        \n",
    "\n",
    "#####################\n",
    "# Plot preds and performance\n",
    "#####################\n",
    "\n",
    "plt.plot(hist, label=\"Training loss\")\n",
    "plt.legend()\n",
    "plt.show()"
   ]
  },
  {
   "cell_type": "code",
   "execution_count": 42,
   "metadata": {},
   "outputs": [
    {
     "data": {
      "text/plain": [
       "array([18, 19, 25, 26,  0, 21,  0,  0, 25, 27, 29, 13, 27,  0,  0, 24,  0,\n",
       "        0, 23, 26,  0,  0, 23,  0,  0, 25, 20, 21, 19, 22,  0, 13, 29, 11,\n",
       "       21, 24, 20,  0, 31, 16,  0,  0, 25, 35, 32, 29,  0,  0, 16, 22, 29,\n",
       "        0, 14,  0, 24, 25,  0, 31,  0,  0,  0, 22, 20,  0, 26,  0, 20, 33,\n",
       "        0, 26,  0,  0,  0, 20, 22,  0, 29, 18,  0,  0, 20, 20, 29, 26, 26,\n",
       "       24,  0, 35, 26, 27, 22, 28,  0, 22, 21, 22,  0, 20, 33,  0, 28, 19,\n",
       "       24,  0,  0,  0, 16,  0,  0,  0, 17,  0,  0,  0,  0,  0,  0,  0,  0,\n",
       "        0, 27, 26,  0,  0,  0, 30, 21,  0,  0, 22, 25,  0,  0, 22, 25,  0,\n",
       "        0,  0,  0, 21,  0,  0,  0,  0,  0, 23, 25, 21, 14,  0,  0,  0,  0,\n",
       "       22, 34, 20, 18,  0, 27,  0, 22,  0,  0, 28, 18,  0, 25,  0, 29,  0,\n",
       "        0,  0,  0, 30, 21,  0,  0,  0,  0, 13,  0, 18, 22, 23,  0,  0, 26,\n",
       "        0,  0, 21,  0,  0, 22, 19, 15,  0, 21, 25,  0,  0, 23, 25, 24,  0,\n",
       "        0,  0, 27, 31, 18,  0,  0, 27,  0,  0, 27,  0, 21,  0, 25,  0, 19,\n",
       "       24,  0, 21, 18,  0, 20, 19, 20,  0, 26, 20,  0,  0,  0, 25, 19, 18,\n",
       "        0, 31, 24, 24,  0, 27,  0, 25, 19, 15, 26, 22,  0,  0, 19, 24, 18,\n",
       "       23,  0, 21, 22, 18, 28,  0, 19, 20, 22,  0, 22, 24, 19, 21,  0,  0,\n",
       "        0,  0,  0,  0,  0, 19,  0,  0,  0,  0, 27,  0,  0,  0, 23,  0, 23,\n",
       "       17, 19,  0, 29, 17,  0,  0, 27, 23, 28, 20, 16, 21,  0, 34, 21,  0,\n",
       "        0,  0,  0, 23, 23, 30,  0,  0, 17, 20, 21, 22, 23,  0, 20,  0, 23,\n",
       "        0, 19,  0, 21,  0,  0,  0, 18,  0, 19, 16, 20,  0, 17,  0,  0, 17,\n",
       "        0,  0,  0, 18,  0,  0,  0, 25,  0,  0, 26, 21, 22, 25, 23,  0, 11,\n",
       "        0, 19,  0, 17, 31,  0, 21,  0, 24,  0, 26,  0,  0, 24,  0, 19, 21,\n",
       "        0, 20, 21,  0, 26, 19,  0, 24, 16,  0, 25,  0, 28, 26, 26,  0, 19,\n",
       "        0,  0,  0, 29, 24,  0, 20,  0,  0, 24, 18,  0, 17, 21,  0, 20,  0,\n",
       "        0,  0,  0,  0, 25,  0, 24,  0,  0,  0,  0, 18,  0, 21, 23, 19,  0,\n",
       "       21, 27, 22, 33,  0, 15, 14, 30,  0, 22, 23,  0, 26,  0,  0, 28, 34,\n",
       "       23,  0,  0, 28, 23,  0, 30,  0,  0,  0, 25, 26,  0, 25, 23,  0,  0,\n",
       "       27, 14,  0,  0,  0,  0,  0, 28,  0,  0,  0, 25, 34,  0, 21,  0,  0,\n",
       "        0,  0, 15, 21, 18,  0,  0, 22, 21,  0,  0,  0,  0, 32, 24, 30, 16,\n",
       "        0, 23, 23, 14, 24,  0,  0,  0,  0,  0, 13, 29, 26, 29,  0, 20,  0,\n",
       "       31,  0, 27, 12, 24, 25, 23,  0, 18,  0,  0, 22, 29, 22, 24,  0,  0,\n",
       "       27, 15,  0,  0,  0, 25,  0,  0, 17,  0, 21, 23,  0, 16, 29,  0,  0,\n",
       "       16, 23,  0,  0,  0,  0, 20,  0, 21, 28,  0, 26,  0,  0,  0, 24, 25,\n",
       "        0, 27, 15,  0, 29, 27,  0, 14,  0,  0, 16, 30, 19, 17, 16, 24, 27,\n",
       "        0,  0,  0, 32,  0, 32, 23, 30, 14, 22,  0,  0,  0, 19,  0, 25, 19,\n",
       "        0,  0, 18, 16, 27,  0, 23,  0, 33,  0,  0,  0,  0, 27,  0, 16,  0,\n",
       "       22, 23, 30, 26, 29, 27, 20,  0, 30,  0, 21,  0, 28,  0,  0,  0,  0,\n",
       "       23, 17, 24,  0, 21, 29, 24, 20, 22, 18,  0,  0,  0,  0, 28,  0,  0,\n",
       "        0,  0, 20, 18, 27,  0,  0,  0, 24, 28, 22, 26, 23,  0, 27,  0, 25,\n",
       "        0, 20,  0, 32,  0, 26, 30, 24, 21, 24,  0,  0,  0, 25, 19, 19,  0,\n",
       "        0,  0, 18,  0, 22, 34, 27,  0, 23,  0,  0,  0,  0, 24, 18,  0, 29,\n",
       "       18,  0,  0,  0, 34, 26, 26, 29,  0,  0,  0,  0,  0,  0,  0, 12,  0,\n",
       "        0,  0,  0,  0, 20,  0,  0, 26,  0,  0, 15, 16, 16, 27,  0,  0,  0,\n",
       "        0,  0, 17, 15, 25, 28, 28,  0, 26,  0,  0,  0,  0,  0,  0,  0,  0,\n",
       "        0,  0,  0, 24, 28,  0,  0,  0,  0, 18,  0,  0,  0,  0,  0,  0,  0,\n",
       "       18, 27,  0, 25, 27, 25, 21, 23,  0, 19, 28, 26,  0, 19,  0,  0,  0,\n",
       "        0, 24,  0,  0,  0,  0,  0, 25, 27, 19,  0, 12, 20,  0,  0,  0, 26,\n",
       "        0])"
      ]
     },
     "execution_count": 42,
     "metadata": {},
     "output_type": "execute_result"
    }
   ],
   "source": [
    "train_labels"
   ]
  },
  {
   "cell_type": "code",
   "execution_count": null,
   "metadata": {},
   "outputs": [],
   "source": []
  },
  {
   "cell_type": "code",
   "execution_count": null,
   "metadata": {},
   "outputs": [],
   "source": []
  },
  {
   "cell_type": "code",
   "execution_count": null,
   "metadata": {},
   "outputs": [],
   "source": []
  },
  {
   "cell_type": "code",
   "execution_count": null,
   "metadata": {},
   "outputs": [],
   "source": []
  },
  {
   "cell_type": "code",
   "execution_count": 235,
   "metadata": {},
   "outputs": [],
   "source": [
    "#createMidiFromPianoRoll(y2[:50,:25], low, 'treval', 'realout', tempo=200, threshold=0.1, resolution=8)"
   ]
  },
  {
   "cell_type": "markdown",
   "metadata": {},
   "source": [
    "# Test Framework"
   ]
  },
  {
   "cell_type": "code",
   "execution_count": 1,
   "metadata": {},
   "outputs": [],
   "source": [
    "# read test midi file without labels\n",
    "# output from network\n",
    "# create midi file with input midi and prediction from network\n",
    "# simply read midi here to see how it sounds"
   ]
  },
  {
   "cell_type": "code",
   "execution_count": 85,
   "metadata": {},
   "outputs": [],
   "source": [
    "def getOneHot(arr):\n",
    "    \"\"\"\n",
    "    Input: arr, shape (N,) with values in (0,C) \n",
    "    Output: ar, shape (N,24) with one-hot values\n",
    "    \"\"\"\n",
    "    ar = np.zeros((arr.shape[0], int(arr.max()+1)))\n",
    "    for i in range(arr.shape[0]):\n",
    "        ar[i, int(arr[i])] = 1\n",
    "    return ar\n",
    "\n",
    "def getPredictedNotes(test_loader):\n",
    "    predicted_notes = np.empty(0)\n",
    "    model.eval()\n",
    "    for i, (inputs, labels) in enumerate(test_loader):\n",
    "        inputs, labels = inputs.to(device), labels.to(device)\n",
    "\n",
    "        batch_size = inputs.size(0)\n",
    "        model.hidden = model.init_hidden(batch_size)\n",
    "\n",
    "        outputs = model(inputs.float())\n",
    "\n",
    "        _, predicted = torch.max(outputs.data, 1)\n",
    "        predicted_notes = np.concatenate((predicted_notes,predicted.detach().numpy()))\n",
    "    return predicted_notes\n",
    "    "
   ]
  },
  {
   "cell_type": "code",
   "execution_count": 89,
   "metadata": {},
   "outputs": [
    {
     "ename": "ValueError",
     "evalue": "max() arg is an empty sequence",
     "output_type": "error",
     "traceback": [
      "\u001b[0;31m---------------------------------------------------------------------------\u001b[0m",
      "\u001b[0;31mValueError\u001b[0m                                Traceback (most recent call last)",
      "\u001b[0;32m<ipython-input-89-3de9f650a004>\u001b[0m in \u001b[0;36m<module>\u001b[0;34m\u001b[0m\n\u001b[1;32m      1\u001b[0m \u001b[0mfile\u001b[0m \u001b[0;34m=\u001b[0m \u001b[0;34m'test/1_testchord.mid'\u001b[0m\u001b[0;34m\u001b[0m\u001b[0;34m\u001b[0m\u001b[0m\n\u001b[1;32m      2\u001b[0m \u001b[0mtestpm\u001b[0m \u001b[0;34m=\u001b[0m \u001b[0mpretty_midi\u001b[0m\u001b[0;34m.\u001b[0m\u001b[0mPrettyMIDI\u001b[0m\u001b[0;34m(\u001b[0m\u001b[0mfile\u001b[0m\u001b[0;34m)\u001b[0m\u001b[0;34m\u001b[0m\u001b[0;34m\u001b[0m\u001b[0m\n\u001b[0;32m----> 3\u001b[0;31m \u001b[0mnotes\u001b[0m\u001b[0;34m,\u001b[0m \u001b[0mtimes\u001b[0m\u001b[0;34m,\u001b[0m \u001b[0mchords\u001b[0m \u001b[0;34m=\u001b[0m \u001b[0mprocessMidi\u001b[0m\u001b[0;34m(\u001b[0m\u001b[0mtestpm\u001b[0m\u001b[0;34m)\u001b[0m\u001b[0;34m\u001b[0m\u001b[0;34m\u001b[0m\u001b[0m\n\u001b[0m\u001b[1;32m      4\u001b[0m \u001b[0mfeatures\u001b[0m \u001b[0;34m=\u001b[0m \u001b[0mgetFeatureVector\u001b[0m\u001b[0;34m(\u001b[0m\u001b[0mnotes\u001b[0m\u001b[0;34m,\u001b[0m \u001b[0mtimes\u001b[0m\u001b[0;34m,\u001b[0m \u001b[0mchords\u001b[0m\u001b[0;34m)\u001b[0m\u001b[0;34m\u001b[0m\u001b[0;34m\u001b[0m\u001b[0m\n\u001b[1;32m      5\u001b[0m \u001b[0mtest_data\u001b[0m\u001b[0;34m,\u001b[0m \u001b[0mtest_labels\u001b[0m \u001b[0;34m=\u001b[0m \u001b[0mgetInputSequences\u001b[0m\u001b[0;34m(\u001b[0m\u001b[0mfeatures\u001b[0m\u001b[0;34m)\u001b[0m\u001b[0;34m\u001b[0m\u001b[0;34m\u001b[0m\u001b[0m\n",
      "\u001b[0;32m<ipython-input-63-d62a673c6727>\u001b[0m in \u001b[0;36mprocessMidi\u001b[0;34m(pm, low, high)\u001b[0m\n\u001b[1;32m      8\u001b[0m     \"\"\"\n\u001b[1;32m      9\u001b[0m \u001b[0;34m\u001b[0m\u001b[0m\n\u001b[0;32m---> 10\u001b[0;31m     \u001b[0mtracks\u001b[0m \u001b[0;34m=\u001b[0m \u001b[0mgetPianoAndMelody\u001b[0m\u001b[0;34m(\u001b[0m\u001b[0mpm\u001b[0m\u001b[0;34m,\u001b[0m \u001b[0mlow\u001b[0m\u001b[0;34m=\u001b[0m\u001b[0mlow\u001b[0m\u001b[0;34m,\u001b[0m \u001b[0mhigh\u001b[0m\u001b[0;34m=\u001b[0m\u001b[0mhigh\u001b[0m\u001b[0;34m,\u001b[0m \u001b[0mfs\u001b[0m\u001b[0;34m=\u001b[0m\u001b[0mpm\u001b[0m\u001b[0;34m.\u001b[0m\u001b[0mresolution\u001b[0m\u001b[0;34m)\u001b[0m\u001b[0;34m\u001b[0m\u001b[0;34m\u001b[0m\u001b[0m\n\u001b[0m\u001b[1;32m     11\u001b[0m     \u001b[0mharmonyroll\u001b[0m \u001b[0;34m=\u001b[0m \u001b[0mtracks\u001b[0m\u001b[0;34m[\u001b[0m\u001b[0;34m'harmony'\u001b[0m\u001b[0;34m]\u001b[0m\u001b[0;34m[\u001b[0m\u001b[0;34m:\u001b[0m\u001b[0;34m,\u001b[0m\u001b[0;34m:\u001b[0m\u001b[0;36m24\u001b[0m\u001b[0;34m]\u001b[0m\u001b[0;34m\u001b[0m\u001b[0;34m\u001b[0m\u001b[0m\n\u001b[1;32m     12\u001b[0m     \u001b[0mmelodyroll\u001b[0m \u001b[0;34m=\u001b[0m \u001b[0mtracks\u001b[0m\u001b[0;34m[\u001b[0m\u001b[0;34m'melody'\u001b[0m\u001b[0;34m]\u001b[0m\u001b[0;34m[\u001b[0m\u001b[0;34m:\u001b[0m\u001b[0;34m,\u001b[0m\u001b[0;36m12\u001b[0m\u001b[0;34m:\u001b[0m\u001b[0;34m]\u001b[0m\u001b[0;34m\u001b[0m\u001b[0;34m\u001b[0m\u001b[0m\n",
      "\u001b[0;32m<ipython-input-32-8cdf2479ab20>\u001b[0m in \u001b[0;36mgetPianoAndMelody\u001b[0;34m(pm, low, high, fs)\u001b[0m\n\u001b[1;32m     23\u001b[0m \u001b[0;34m\u001b[0m\u001b[0m\n\u001b[1;32m     24\u001b[0m     \u001b[0;32mif\u001b[0m \u001b[0mpianos\u001b[0m \u001b[0;34m!=\u001b[0m \u001b[0;34m{\u001b[0m\u001b[0;34m}\u001b[0m\u001b[0;34m:\u001b[0m\u001b[0;34m\u001b[0m\u001b[0;34m\u001b[0m\u001b[0m\n\u001b[0;32m---> 25\u001b[0;31m         \u001b[0mpianowithmostnotes\u001b[0m \u001b[0;34m=\u001b[0m \u001b[0mmax\u001b[0m\u001b[0;34m(\u001b[0m\u001b[0mpianos\u001b[0m\u001b[0;34m,\u001b[0m \u001b[0mkey\u001b[0m\u001b[0;34m=\u001b[0m\u001b[0;32mlambda\u001b[0m \u001b[0mx\u001b[0m\u001b[0;34m:\u001b[0m \u001b[0mx\u001b[0m\u001b[0;34m[\u001b[0m\u001b[0;36m1\u001b[0m\u001b[0;34m]\u001b[0m\u001b[0;34m)\u001b[0m\u001b[0;34m\u001b[0m\u001b[0;34m\u001b[0m\u001b[0m\n\u001b[0m\u001b[1;32m     26\u001b[0m         \u001b[0mharmonytrack\u001b[0m \u001b[0;34m=\u001b[0m \u001b[0mpianowithmostnotes\u001b[0m\u001b[0;34m[\u001b[0m\u001b[0;36m0\u001b[0m\u001b[0;34m]\u001b[0m\u001b[0;34m\u001b[0m\u001b[0;34m\u001b[0m\u001b[0m\n\u001b[1;32m     27\u001b[0m     \u001b[0;32melse\u001b[0m\u001b[0;34m:\u001b[0m\u001b[0;34m\u001b[0m\u001b[0;34m\u001b[0m\u001b[0m\n",
      "\u001b[0;31mValueError\u001b[0m: max() arg is an empty sequence"
     ]
    }
   ],
   "source": [
    "file = 'test/1_testchord.mid'\n",
    "testpm = pretty_midi.PrettyMIDI(file)\n",
    "notes, times, chords = processMidi(testpm)\n",
    "features = getFeatureVector(notes, times, chords)\n",
    "test_data, test_labels = getInputSequences(features)\n",
    "test_dataset = Dataset(test_data, test_labels)\n",
    "test_loader = torch.utils.data.DataLoader(dataset=test_dataset, batch_size=batch_size, shuffle=False)\n",
    "\n",
    "predicted_notes = getPredictedNotes(test_loader)\n",
    "\n",
    "#display(np.where(predicted_notes==0), np.where(labels==0) ) #bad\n",
    "\n",
    "pred = getOneHot(predicted_notes)\n",
    "    \n",
    "createMidiFromPianoRoll(pred, low, 'treval', 'netout', tempo=200, threshold=0.1, resolution=8)\n",
    "\n",
    "pm = pretty_midi.PrettyMIDI('treval/netout.mid')\n",
    "\n",
    "fs = 44000\n",
    "IPython.display.Audio(pm.synthesize(fs=44000), rate=44000)"
   ]
  },
  {
   "cell_type": "code",
   "execution_count": 80,
   "metadata": {},
   "outputs": [],
   "source": []
  },
  {
   "cell_type": "code",
   "execution_count": null,
   "metadata": {},
   "outputs": [],
   "source": []
  },
  {
   "cell_type": "markdown",
   "metadata": {},
   "source": [
    "# Examples and Visuals"
   ]
  },
  {
   "cell_type": "code",
   "execution_count": 10,
   "metadata": {},
   "outputs": [
    {
     "data": {
      "image/png": "[encoded data removed]",
      "text/plain": [
       "<Figure size 576x288 with 1 Axes>"
      ]
     },
     "metadata": {
      "needs_background": "light"
     },
     "output_type": "display_data"
    }
   ],
   "source": [
    "fs = 8\n",
    "pm = pretty_midi.PrettyMIDI(\"train/train.mid\")\n",
    "piano_midi = pm.instruments[0] # Get the piano channels\n",
    "piano_roll = piano_midi.get_piano_roll(fs=fs)\n",
    "piano_roll = piano_roll[48:72].T\n",
    "\n",
    "def plot_piano_roll(pm, start_pitch, end_pitch, fs=100):\n",
    "    # Use librosa's specshow function for displaying the piano roll\n",
    "    librosa.display.specshow(pm.get_piano_roll(fs)[start_pitch:end_pitch],\n",
    "                             hop_length=1, sr=fs, x_axis='time', y_axis='cqt_note',\n",
    "                             fmin=pretty_midi.note_number_to_hz(start_pitch))\n",
    "\n",
    "plt.figure(figsize=(8, 4))\n",
    "plot_piano_roll(pm, 48, 72)"
   ]
  },
  {
   "cell_type": "code",
   "execution_count": 7,
   "metadata": {},
   "outputs": [],
   "source": [
    "files_dir = \"train/\"\n",
    "files_dir = glob.glob(\"%s*.mid\" %(files_dir))\n",
    "resolution = 8 #ticks per beat\n",
    "\n",
    "low, high, ticks = getNoteRangeAndTicks(files_dir)\n",
    "tr = fromMidiCreatePianoRoll(files_dir, ticks, low, high)\n",
    "#createMidiFromPianoRoll(tr[0], low, \"treval/\", 'test', tempo=200)"
   ]
  },
  {
   "cell_type": "code",
   "execution_count": 8,
   "metadata": {},
   "outputs": [
    {
     "data": {
      "text/plain": [
       "torch.Size([5, 300, 20])"
      ]
     },
     "execution_count": 8,
     "metadata": {},
     "output_type": "execute_result"
    }
   ],
   "source": [
    "# smallest LSTM example\n",
    "rnn = nn.LSTM(input_size=10, hidden_size=20, num_layers=2, batch_first=True) # It was batch_first=True!\n",
    "inputs = torch.randn(5, 300, 10)\n",
    "hidden = (torch.randn(2, 5, 20), torch.randn(2, 5, 20))\n",
    "output, hidden = rnn(inputs, hidden)\n",
    "output.shape"
   ]
  },
  {
   "cell_type": "markdown",
   "metadata": {},
   "source": [
    "# Train Val Split"
   ]
  },
  {
   "cell_type": "markdown",
   "metadata": {},
   "source": [
    "\n"
   ]
  },
  {
   "cell_type": "code",
   "execution_count": 9,
   "metadata": {},
   "outputs": [],
   "source": [
    "def standardize(data):\n",
    "    \"\"\" Move {0,1} data to {-1,1}, then standardize. Standardize data in [0,1]\"\"\"\n",
    "    data = data.astype(np.float32)\n",
    "    standardized_data = (data - np.mean(data, axis=0)[None,:,:]) / np.std(data, axis=0)[None,:,:]\n",
    "    return standardized_data"
   ]
  },
  {
   "cell_type": "code",
   "execution_count": 11,
   "metadata": {},
   "outputs": [
    {
     "name": "stderr",
     "output_type": "stream",
     "text": [
      "/Library/Frameworks/Python.framework/Versions/3.6/lib/python3.6/site-packages/ipykernel_launcher.py:4: RuntimeWarning: invalid value encountered in true_divide\n",
      "  after removing the cwd from sys.path.\n"
     ]
    }
   ],
   "source": [
    "a = standardize(train_data)"
   ]
  },
  {
   "cell_type": "code",
   "execution_count": 22,
   "metadata": {},
   "outputs": [
    {
     "data": {
      "text/plain": [
       "array([[0.        , 0.        , 0.37371718, ..., 0.        , 0.        ,\n",
       "        0.        ],\n",
       "       [0.        , 0.        , 0.37371718, ..., 0.        , 0.        ,\n",
       "        0.        ],\n",
       "       [0.        , 0.        , 0.37371718, ..., 0.        , 0.        ,\n",
       "        0.        ],\n",
       "       ...,\n",
       "       [0.        , 0.        , 0.        , ..., 0.        , 0.        ,\n",
       "        0.        ],\n",
       "       [0.        , 0.        , 0.        , ..., 0.        , 0.        ,\n",
       "        0.        ],\n",
       "       [0.        , 0.        , 0.        , ..., 0.        , 0.        ,\n",
       "        0.        ]])"
      ]
     },
     "execution_count": 22,
     "metadata": {},
     "output_type": "execute_result"
    }
   ],
   "source": [
    "np.std(train_data, axis=0)"
   ]
  },
  {
   "cell_type": "code",
   "execution_count": 23,
   "metadata": {},
   "outputs": [
    {
     "data": {
      "text/plain": [
       "array([[ True, False, False, ..., False, False, False],\n",
       "       [ True, False, False, ..., False, False, False],\n",
       "       [ True, False, False, ..., False, False, False],\n",
       "       ...,\n",
       "       [False, False, False, ..., False, False, False],\n",
       "       [False, False, False, ..., False, False, False],\n",
       "       [False, False, False, ..., False, False, False]])"
      ]
     },
     "execution_count": 23,
     "metadata": {},
     "output_type": "execute_result"
    }
   ],
   "source": [
    "train_data[0]"
   ]
  },
  {
   "cell_type": "code",
   "execution_count": null,
   "metadata": {},
   "outputs": [],
   "source": []
  }
 ],
 "metadata": {
  "kernelspec": {
   "display_name": "Python 3",
   "language": "python",
   "name": "python3"
  },
  "language_info": {
   "codemirror_mode": {
    "name": "ipython",
    "version": 3
   },
   "file_extension": ".py",
   "mimetype": "text/x-python",
   "name": "python",
   "nbconvert_exporter": "python",
   "pygments_lexer": "ipython3",
   "version": "3.6.7"
  }
 },
 "nbformat": 4,
 "nbformat_minor": 2
}
