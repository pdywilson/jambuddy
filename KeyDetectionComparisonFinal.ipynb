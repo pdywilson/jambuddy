{
 "cells": [
  {
   "cell_type": "code",
   "execution_count": 1,
   "metadata": {
    "colab": {},
    "colab_type": "code",
    "id": "VSrdFgxyDrmG",
    "scrolled": false
   },
   "outputs": [],
   "source": [
    "%matplotlib inline\n",
    "import os\n",
    "import time\n",
    "import numpy as np\n",
    "import matplotlib.pyplot as plt\n",
    "import IPython.display\n",
    "import collections\n",
    "from collections import Counter\n",
    "import seaborn as sns\n",
    "\n",
    "from pathlib import Path\n",
    "import pretty_midi\n",
    "import librosa.display\n",
    "import glob\n",
    "import datetime\n",
    "\n",
    "from scipy.spatial import distance\n",
    "\n",
    "from music21 import *\n",
    "\n",
    "import tensorflow as tf\n",
    "\n",
    "%load_ext autoreload\n",
    "%autoreload 2\n",
    "\n",
    "folder = 'train/'\n"
   ]
  },
  {
   "cell_type": "code",
   "execution_count": 2,
   "metadata": {
    "colab": {},
    "colab_type": "code",
    "id": "eAk1YucbNX67"
   },
   "outputs": [],
   "source": [
    "## krumhansl schmuckler\n",
    "\n",
    "# adapted from https://gist.github.com/bmcfee/1f66825cef2eb34c839b42dddbad49fd\n",
    "import scipy.linalg\n",
    "import scipy.stats\n",
    "\n",
    "def ks_key(X, weights='kessler'):\n",
    "    '''Estimate the key from a pitch class distribution\n",
    "    \n",
    "    Parameters\n",
    "    ----------\n",
    "    X : np.ndarray, shape=(12,)\n",
    "        Pitch-class energy distribution.  Need not be normalized\n",
    "        \n",
    "    Returns\n",
    "    -------\n",
    "    major : np.ndarray, shape=(12,)\n",
    "    minor : np.ndarray, shape=(12,)\n",
    "    \n",
    "        For each key (C:maj, ..., B:maj) and (C:min, ..., B:min),\n",
    "        the correlation score for `X` against that key.\n",
    "    '''\n",
    "    X = scipy.stats.zscore(X)\n",
    "    \n",
    "    # Coefficients from Kumhansl and Schmuckler\n",
    "    # as reported here: http://rnhart.net/articles/key-finding/\n",
    "    \n",
    "    # weights as https://musicinformationretrieval.wordpress.com/2017/02/24/state-of-the-art-2/\n",
    "    if weights == 'kessler':\n",
    "        major = np.asarray([6.35, 2.23, 3.48, 2.33, 4.38, 4.09, 2.52, 5.19, 2.39, 3.66, 2.29, 2.88])\n",
    "        minor = np.asarray([6.33, 2.68, 3.52, 5.38, 2.60, 3.53, 2.54, 4.75, 3.98, 2.69, 3.34, 3.17])\n",
    "    elif weights == 'schmuckler':\n",
    "        major = np.asarray([6.35, 2.33, 3.48, 2.33, 4.38, 4.09, 2.52, 5.19, 2.39, 3.66, 2.29, 2.88])\n",
    "        minor = np.asarray([6.33, 2.68, 3.52, 5.38, 2.60, 3.53, 2.54, 4.75, 3.98, 2.69, 3.34, 3.17])\n",
    "    elif weights == 'aarden':\n",
    "        major = np.asarray([17.7661, 0.145624, 14.9265, 0.160186, 19.8049, 11.3587, 0.281248, 22.062, 0.145624, 8.15494, 0.232998, 4.95122])\n",
    "        minor = np.asarray([18.2648, 0.737619, 14.0499, 16.8599, 0.702494, 14.4362, 0.702494, 18.6161, 4.56621, 1.93186, 7.37619, 1.75623])\n",
    "    elif weights == 'sapp':\n",
    "        major = np.asarray([2, 0, 1, 0, 1, 1, 0, 2, 0, 1, 0, 1])\n",
    "        minor = np.asarray([2, 0, 1, 1, 0, 1, 0, 2, 1, 0, 0.5, 0.5])\n",
    "    elif weights == 'bellman':\n",
    "        major = np.asarray([16.8, 0.86, 12.95, 1.41, 13.49, 11.93, 1.25, 20.28, 1.8, 8.04, 0.62, 10.57])\n",
    "        minor = np.asarray([18.16, 0.69, 12.99, 13.34, 1.07, 11.15, 1.38, 21.07, 7.49, 1.53, 0.92, 10.21])\n",
    "    elif weights == 'temperley':\n",
    "        major = np.asarray([0.748, 0.06, 0.488, 0.082, 0.67, 0.46, 0.096, 0.715, 0.104, 0.366, 0.057, 0.4])\n",
    "        minor = np.asarray([0.712, 0.84, 0.474, 0.618, 0.049, 0.46, 0.105, 0.747, 0.404, 0.067, 0.133, 0.33])\n",
    "        \n",
    "        \n",
    "    major = scipy.stats.zscore(major)\n",
    "    minor = scipy.stats.zscore(minor)\n",
    "    \n",
    "    # Generate all rotations of major\n",
    "    major = scipy.linalg.circulant(major)\n",
    "    minor = scipy.linalg.circulant(minor)\n",
    "    \n",
    "    major = major.T.dot(X)\n",
    "    minor = minor.T.dot(X)\n",
    "    \n",
    "    major_max = np.argmax(major)\n",
    "    minor_max = np.argmax(minor)\n",
    "    return major_max if np.max(major) >= np.max(minor) else minor_max+12"
   ]
  },
  {
   "cell_type": "markdown",
   "metadata": {
    "colab": {},
    "colab_type": "code",
    "id": "7Amv8q3uDroC"
   },
   "source": [
    "## Testing"
   ]
  },
  {
   "cell_type": "code",
   "execution_count": 3,
   "metadata": {
    "colab": {},
    "colab_type": "code",
    "id": "EYwLvorgDroH"
   },
   "outputs": [],
   "source": [
    "def key_to_name(key_number):\n",
    "    return pretty_midi.key_number_to_key_name(key_number)\n",
    "\n",
    "def keynr(key):\n",
    "    return pretty_midi.key_name_to_key_number(key)\n",
    "       \n",
    "def isFifth(realkey,predkey):\n",
    "    return (realkey - predkey)%12 == 7 or (predkey - realkey)%12 == 7\n",
    "        \n",
    "def isRelative(realkey,predkey):\n",
    "    if realkey > 11 and (realkey - 9) % 12 == predkey:\n",
    "        return True\n",
    "    elif predkey > 11 and (predkey - 9) % 12 == realkey:\n",
    "        return True\n",
    "    else:\n",
    "        return False\n",
    "        \n",
    "def isParallel(realkey,predkey):\n",
    "    return realkey%12 == predkey%12"
   ]
  },
  {
   "cell_type": "code",
   "execution_count": 7,
   "metadata": {
    "scrolled": true
   },
   "outputs": [
    {
     "name": "stdout",
     "output_type": "stream",
     "text": [
      "KS on datasets/bachwtcall/ \n",
      "\n",
      "time 8.25 s\n",
      "Nr of files: 90\n",
      "\n",
      "KrumhanslSchmuckler with Aarden weights has 0.83 correct\n",
      "and predicted the relative minor for 0.14 which amounts to a score of 0.98\n"
     ]
    }
   ],
   "source": [
    "# Download the Lakh MIDI Dataset at: https://colinraffel.com/projects/lmd/ \n",
    "#folder = \"datasets/lmd_full/2/\"\n",
    "folder = \"datasets/bachwtcall/\" #source: https://ccrma.stanford.edu/~craig/keyscape/bach-wtc-new/ accessed: 18.07.19\n",
    "t = time.time()\n",
    "\n",
    "# find keys\n",
    "files = [file for file in os.listdir(folder) if '.mid' in file.lower()]\n",
    "\n",
    "files = files[:1000]\n",
    "withoutC = False\n",
    "\n",
    "verbose = False\n",
    "keys=[]\n",
    "for i, file in enumerate(files):\n",
    "    try:\n",
    "        pm = pretty_midi.PrettyMIDI(folder + file)\n",
    "    except:\n",
    "        continue\n",
    "\n",
    "    pm = pretty_midi.PrettyMIDI(folder + file)\n",
    "    if pm.key_signature_changes != []:\n",
    "        try:\n",
    "            kskey = ks_key(pm.get_pitch_class_histogram(), 'aarden')\n",
    "            pmkeys = [x.key_number for x in pm.key_signature_changes]\n",
    "            pmkey = pmkeys[0]\n",
    "            if withoutC and pmkey == 0:\n",
    "                continue\n",
    "            keys.append([pmkey,kskey])\n",
    "        except:\n",
    "            pass\n",
    "    \n",
    "\n",
    "total = 0\n",
    "correct,fifth,relative,parallel = 0,0,0,0\n",
    "sacorrect,safifth,sarelative,saparallel = 0,0,0,0\n",
    "for key in keys:\n",
    "    realkey = key[0]\n",
    "    kskey = key[1]\n",
    "    total += 1\n",
    "    # ks\n",
    "    if realkey == kskey:\n",
    "        correct += 1\n",
    "    elif isFifth(realkey,kskey):\n",
    "        fifth += 1\n",
    "    elif isRelative(realkey,kskey):\n",
    "        relative += 1\n",
    "    elif isParallel(realkey,kskey):\n",
    "        parallel += 1\n",
    "        \n",
    "print(\"KS on\",folder,\"\\n\")\n",
    "print(\"time\", np.round(time.time()-t,2), \"s\")\n",
    "print(\"Nr of files:\", total)\n",
    "if verbose:\n",
    "    print('ks')\n",
    "    print(correct, relative, fifth, parallel, total)\n",
    "    print((correct+relative)/total, correct/total, relative/total, fifth/total, parallel/total, (total-correct-fifth-relative-parallel)/total)\n",
    "  \n",
    "print()\n",
    "print(\"KrumhanslSchmuckler with Aarden weights has\", np.round(correct/total,2), \"correct\")\n",
    "print(\"and predicted the relative minor for\", np.round(relative/total,2), \"which amounts to a score of\", np.round((correct+relative)/total,2))\n",
    "\n"
   ]
  },
  {
   "cell_type": "markdown",
   "metadata": {},
   "source": [
    "## Results"
   ]
  },
  {
   "cell_type": "markdown",
   "metadata": {
    "colab": {},
    "colab_type": "code",
    "id": "m4CGABNGDroP"
   },
   "source": [
    "Results on 18.07.19 on Bach Fugues from https://ccrma.stanford.edu/~craig/keyscape/bach-wtc-new/\n",
    "\n",
    "time 11.75 s\n",
    "\n",
    "Nr of files: 90\n",
    "\n",
    "KrumhanslSchmuckler with Aarden weights has 0.83 correct\n",
    "and predicted the relative minor for 0.14 which amounts to a score of  0.98\n",
    "\n",
    "SpiralArray has 0.28 correct\n",
    "and predicted the relative minor for 0.13 which amounts to a score of  0.41"
   ]
  },
  {
   "cell_type": "markdown",
   "metadata": {},
   "source": [
    "Results on lmd_full/2 \n",
    "\n",
    "time 602.91 s\n",
    "\n",
    "Nr of files: 169\n",
    "\n",
    "KrumhanslSchmuckler with Aarden weights has 0.62 correct\n",
    "and predicted the relative minor for 0.18 which amounts to a score of  0.8\n",
    "\n",
    "SpiralArray has 0.37 correct\n",
    "and predicted the relative minor for 0.04 which amounts to a score of  0.41"
   ]
  },
  {
   "cell_type": "code",
   "execution_count": null,
   "metadata": {},
   "outputs": [],
   "source": []
  }
 ],
 "metadata": {
  "accelerator": "GPU",
  "colab": {
   "collapsed_sections": [],
   "name": "aJamBuddyDACTFBass.ipynb",
   "provenance": [],
   "toc_visible": true,
   "version": "0.3.2"
  },
  "kernelspec": {
   "display_name": "Python 3",
   "language": "python",
   "name": "python3"
  },
  "language_info": {
   "codemirror_mode": {
    "name": "ipython",
    "version": 3
   },
   "file_extension": ".py",
   "mimetype": "text/x-python",
   "name": "python",
   "nbconvert_exporter": "python",
   "pygments_lexer": "ipython3",
   "version": "3.6.7"
  }
 },
 "nbformat": 4,
 "nbformat_minor": 1
}
