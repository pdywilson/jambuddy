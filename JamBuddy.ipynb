{
 "cells": [
  {
   "cell_type": "code",
   "execution_count": 1,
   "metadata": {
    "colab": {
     "base_uri": "https://localhost:8080/",
     "height": 68
    },
    "colab_type": "code",
    "executionInfo": {
     "elapsed": 1034,
     "status": "ok",
     "timestamp": 1572190916749,
     "user": {
      "displayName": "Paddy Wilson",
      "photoUrl": "https://lh3.googleusercontent.com/a-/AAuE7mCHdy_ZSilqkO8NPYYg9xNxhaNeIwBfnPA4hZBLLA=s64",
      "userId": "00502307669733282628"
     },
     "user_tz": -60
    },
    "id": "VSrdFgxyDrmG",
    "outputId": "a3c94936-ccbd-422d-8e43-abe5fd098bcf",
    "scrolled": false
   },
   "outputs": [],
   "source": [
    "%matplotlib inline\n",
    "import os\n",
    "import time\n",
    "import numpy as np\n",
    "import matplotlib.pyplot as plt\n",
    "import IPython.display\n",
    "import collections\n",
    "from collections import Counter\n",
    "import seaborn as sns\n",
    "import random\n",
    "\n",
    "from pathlib import Path\n",
    "import pretty_midi\n",
    "import librosa.display\n",
    "import glob\n",
    "import datetime\n",
    "\n",
    "from music21 import *\n",
    "\n",
    "\n",
    "try: # only for Colab\n",
    "    import google.colab\n",
    "    from google.colab import drive\n",
    "    drive.mount('/content/drive/')\n",
    "    data_folder = \"/content/drive/My Drive/Colab Notebooks/data/\"\n",
    "    os.chdir(data_folder)\n",
    "    %tensorflow_version 2.x \n",
    "except:\n",
    "    data_folder = \"\"\n",
    "\n",
    "\n",
    "import tensorflow as tf \n",
    "assert(tf.__version__[0] == '2') # use Tensorflow 2.0\n",
    "\n",
    "\n",
    "%load_ext autoreload\n",
    "%autoreload 2\n",
    "\n",
    "tf.random.set_seed(6464)"
   ]
  },
  {
   "cell_type": "markdown",
   "metadata": {
    "colab_type": "text",
    "id": "95G80nAcDrmS"
   },
   "source": [
    "# A. Choose model type"
   ]
  },
  {
   "cell_type": "markdown",
   "metadata": {
    "colab": {},
    "colab_type": "code",
    "id": "Yyh8u6fgZFHx"
   },
   "source": [
    "Choose encoding for model, options:\n",
    "\n",
    "encoding = \"pitch-only\"\n",
    "\n",
    "encoding = \"pitch-duration\"\n",
    "\n",
    "encoding = \"pitch-duration-key\""
   ]
  },
  {
   "cell_type": "code",
   "execution_count": 2,
   "metadata": {
    "colab": {},
    "colab_type": "code",
    "id": "Yyh8u6fgZFHx"
   },
   "outputs": [],
   "source": [
    "encoding = \"pitch-duration\""
   ]
  },
  {
   "cell_type": "code",
   "execution_count": 3,
   "metadata": {
    "colab": {
     "base_uri": "https://localhost:8080/",
     "height": 34
    },
    "colab_type": "code",
    "executionInfo": {
     "elapsed": 620,
     "status": "ok",
     "timestamp": 1572180314352,
     "user": {
      "displayName": "Paddy Wilson",
      "photoUrl": "https://lh3.googleusercontent.com/a-/AAuE7mCHdy_ZSilqkO8NPYYg9xNxhaNeIwBfnPA4hZBLLA=s64",
      "userId": "00502307669733282628"
     },
     "user_tz": -60
    },
    "id": "iSk5F55lDrmb",
    "outputId": "7db2e4a8-9844-410e-bd13-3f6554a1342a"
   },
   "outputs": [
    {
     "data": {
      "text/plain": [
       "'Using model: pitch-duration'"
      ]
     },
     "execution_count": 3,
     "metadata": {},
     "output_type": "execute_result"
    }
   ],
   "source": [
    "## globals\n",
    "# lowest and highest note is melody\n",
    "LOW = 48 # C3=48, C4=60, C5=72, C6=84, C7=96\n",
    "HIGH = 84 # range(48,84) = 36 notes \n",
    "\n",
    "# input sizes\n",
    "MELODY = 37 \n",
    "TIMES = 48\n",
    "CHORDS = 12\n",
    "\n",
    "encodingDict = {\n",
    "    'melody': True,\n",
    "    'melodyModulo': True,\n",
    "    'chords': True,\n",
    "    'duration': False,\n",
    "    'key': False\n",
    "}\n",
    "\n",
    "if \"pitch-duration\" in encoding:\n",
    "    encodingDict['duration'] = True\n",
    "if encoding == \"pitch-duration-key\":\n",
    "    encodingDict['key'] = True\n",
    "\n",
    "\"Using model: \" + encoding"
   ]
  },
  {
   "cell_type": "markdown",
   "metadata": {},
   "source": [
    "# B. Preprocessing"
   ]
  },
  {
   "cell_type": "code",
   "execution_count": 4,
   "metadata": {
    "colab": {},
    "colab_type": "code",
    "id": "76wotb6YcIlF"
   },
   "outputs": [],
   "source": [
    "# helpers\n",
    "def plot_piano_roll(pm, start_pitch, end_pitch, fs=100):\n",
    "    librosa.display.specshow(pm.get_piano_roll(fs)[start_pitch:end_pitch],\n",
    "                             hop_length=1, sr=fs, x_axis='time', y_axis='cqt_note',\n",
    "                             fmin=pretty_midi.note_number_to_hz(start_pitch))\n",
    "\n",
    "def oneHot(idx, arraysize):\n",
    "    if idx >= arraysize:\n",
    "        print(\"error idx > arraysize\")\n",
    "        return\n",
    "    ar = np.zeros(arraysize)\n",
    "    ar[idx] = 1\n",
    "    return ar\n",
    "\n",
    "def multiHot(li, size):\n",
    "    result = np.zeros(size)\n",
    "    result[li] = np.ones(len(li))\n",
    "    return result\n",
    "\n",
    "def encodeKey(score):\n",
    "    key = score.analyze('key','aarden') # uses Krumhansl-Schmuckler algorithm with Aarden weights\n",
    "    key_root = oneHot(key.pitches[0].midi % 12,12)\n",
    "    key_pitches = [p.midi % 12 for p in key.pitches]\n",
    "    key_scale = multiHot(key_pitches,12)\n",
    "    return key_scale, key_root\n",
    "\n",
    "def buildVector(listOfVectors):\n",
    "    if type(listOfVectors) == dict:\n",
    "        listOfVectors = list(listOfVectors.values())\n",
    "    return np.concatenate(listOfVectors) \n",
    "\n",
    "def getIdxRange(encoding):\n",
    "    encodings = ['melody','melodyModulo','duration','chords','key']\n",
    "    encodingIdx = [MELODY,12,TIMES,CHORDS*4,24]\n",
    "    c = 0\n",
    "    for i,enc in enumerate(encodings):\n",
    "        if encoding == enc:\n",
    "            return range(c,c+encodingIdx[i])\n",
    "        c += encodingDict[enc]*encodingIdx[i]\n",
    "        \n",
    "def getChords(data):\n",
    "    if len(data.shape) == 3:\n",
    "        chords = data[:,:,getIdxRange('chords')]\n",
    "        return chords[:,:,:12], chords[:,:,24:36]\n",
    "    if len(data.shape) == 1:\n",
    "        chords = data[getIdxRange('chords')]\n",
    "        return chords[:12], chords[24:36]\n",
    "    \n",
    "def getChordRoots(data):\n",
    "    if len(data.shape) == 3:\n",
    "        chords = data[:,:,getIdxRange('chords')]\n",
    "        return chords[:,:,12:24], chords[:,:,36:48]\n",
    "    if len(data.shape) == 1:\n",
    "        chords = data[getIdxRange('chords')]\n",
    "        return chords[12:24], chords[36:48]\n",
    "\n",
    "    \n"
   ]
  },
  {
   "cell_type": "code",
   "execution_count": 5,
   "metadata": {
    "colab": {},
    "colab_type": "code",
    "id": "eYnJdXBYDrmf",
    "scrolled": false
   },
   "outputs": [],
   "source": [
    "# preprocessing pipeline\n",
    "def processMXL(score):\n",
    "    currchord = None\n",
    "    features = []\n",
    "    for measure in score.parts[0].getElementsByClass('Measure'):\n",
    "        for n in measure:\n",
    "            if type(n) == harmony.ChordSymbol:\n",
    "                currchord = n.orderedPitchClasses\n",
    "                root = n.root().midi % 12\n",
    "            if currchord == None:\n",
    "                continue\n",
    "            if type(n) == note.Note or type(n) == note.Rest:\n",
    "                if type(n) == note.Note:\n",
    "                    currnote = int(n.pitch.midi - LOW)\n",
    "                elif type(n) == note.Rest:\n",
    "                    currnote = MELODY - 1\n",
    "                currdur = int(n.duration.quarterLength*12) - 1 # = /4*48 & 1 indiziert\n",
    "                if currnote >= MELODY:\n",
    "                    currnote = MELODY - 1\n",
    "                if currdur >= TIMES:\n",
    "                    currdur = TIMES - 1\n",
    "                if currdur < 0:\n",
    "                    continue\n",
    "                features.append((currnote,currdur,root,currchord))\n",
    "                \n",
    "    \n",
    "    notes = np.array([feature[0] for feature in features])\n",
    "    times = np.array([feature[1] for feature in features])\n",
    "    chordsroot = np.array([oneHot(feature[2],12) for feature in features])\n",
    "    chords = np.array([multiHot(feature[3],12) for feature in features])\n",
    "    key,keyroot = encodeKey(score)\n",
    "    \n",
    "    return notes,times,chords,chordsroot,key,keyroot\n",
    "\n",
    "\n",
    "def processMidi(score):\n",
    "    melody, chords = [], []\n",
    "    melody_score = score.parts[0]\n",
    "    chord_score = score.parts[1]\n",
    "    if len(score.parts[1]) > len(score.parts[0]):\n",
    "        chord_score = score.parts[0]\n",
    "        melody_score = score.parts[1]\n",
    "    for c in chord_score.getElementsByClass(chord.Chord):\n",
    "        ch = c.orderedPitchClasses\n",
    "        chords.append((ch,c.root().midi%12,int(c.duration.quarterLength*12)-1))\n",
    "\n",
    "    \n",
    "    for n in list(melody_score):\n",
    "        if type(n) == note.Note or type(n) == note.Rest:\n",
    "            if type(n) == note.Note:\n",
    "                currnote = int(n.pitch.midi - LOW)\n",
    "            elif type(n) == note.Rest:\n",
    "                currnote = MELODY - 1\n",
    "            currdur = int(n.duration.quarterLength*12)-1\n",
    "            if currnote >= MELODY:\n",
    "                    currnote = MELODY - 1\n",
    "            if currdur >= TIMES:\n",
    "                currdur = TIMES - 1\n",
    "            if currdur < 0:\n",
    "                continue\n",
    "            melody.append((currnote, currdur))\n",
    "    \n",
    "    # sum(i[1]+1 for i in melody), sum(i[2]+1 for i in chords) = 8*48\n",
    "\n",
    "    cidx = 0\n",
    "    notecounter = 1\n",
    "    features = []\n",
    "    currchord = chords[cidx][:2]\n",
    "    chordcounter = chords[cidx][2] + 1\n",
    "    for n in melody:\n",
    "        if notecounter >= chordcounter:\n",
    "            cidx += 1\n",
    "            if cidx < len(chords):\n",
    "                currchord = chords[cidx][:2]\n",
    "                chordcounter += chords[cidx][2] + 1\n",
    "            else: \n",
    "                continue\n",
    "        notecounter += n[1] + 1\n",
    "        features.append((n[0],n[1],currchord[1],currchord[0]))\n",
    "    \n",
    "        \n",
    "    notes = np.array([feature[0] for feature in features])\n",
    "    times = np.array([feature[1] for feature in features])\n",
    "    chordsroot = np.array([oneHot(feature[2],12) for feature in features])\n",
    "    chords = np.array([multiHot(feature[3],12) for feature in features])\n",
    "    key,keyroot = encodeKey(score)\n",
    "    \n",
    "    return notes,times,chords,chordsroot,key,keyroot\n",
    "\n",
    "# Input representation\n",
    "def getFeatureVectors(processedMidi, modulation=False):\n",
    "    \"\"\"input size [7(pitch)+2(octaves)+1(Rest)]+6(duration)+7(chords)+7(nextchords)=30=Fsize #TODO: maybe change chords\n",
    "    Creates Feature Vector from notes lists.\n",
    "    Input: notes, times, chords from processMIDI\n",
    "    Output: features array, size: (N, Fsize)  Fsize varies\n",
    "    \"\"\"\n",
    "    notes, times, chords, chordsroot, key, keyroot = processedMidi\n",
    "    features = []\n",
    "    for i, note in enumerate(notes[:-1]):\n",
    "        feature = {}\n",
    "        if encodingDict['melody']:\n",
    "            if notes[i] < MELODY: # pitch or pause bit\n",
    "                feature['melody'] = oneHot(notes[i],MELODY)\n",
    "            else:\n",
    "                print(\"melody over 37\")\n",
    "                feature['melody'] = np.zeros(MELODY)\n",
    "        if encodingDict['melodyModulo']: \n",
    "            if notes[i] < MELODY - 1: # only pitch bit or zeros if pause\n",
    "                feature['melodyModulo'] = oneHot(notes[i]%12,12)\n",
    "            else:\n",
    "                feature['melodyModulo'] = np.zeros(12)\n",
    "        if encodingDict['duration']:\n",
    "            feature['duration'] = oneHot(int(times[i]),TIMES) \n",
    "        if encodingDict['chords']:\n",
    "            feature['chords'] = buildVector([chords[i],chordsroot[i],chords[i+1],chordsroot[i+1]])\n",
    "        if encodingDict['key']:\n",
    "            feature['key'] = key\n",
    "            feature['keyroot'] = keyroot\n",
    "        features.append(buildVector(feature))\n",
    "    features = np.array(features)\n",
    "    return features.astype('float32')\n",
    "\n",
    "def getInputSequences(processedMidi, padding=False, seq_len=8):\n",
    "    \"\"\"Create Net Input.\n",
    "    Input: features from getFeatureVectors or getEncodedFeatureVectors\n",
    "    Output: \n",
    "        - Sequences, size: (157, seq_len)\n",
    "        - Labels, one-hot, size: (MELODY,)\n",
    "    \"\"\"\n",
    "    features = getFeatureVectors(processedMidi)\n",
    "    notes, times, _, _, _, _ = processedMidi\n",
    "    sequences = []\n",
    "    labels = []\n",
    "    i = 0\n",
    "    if padding == True:\n",
    "        padded_notes = np.concatenate((np.zeros((seq_len,features.shape[1])),features[:seq_len]))\n",
    "        for j in range(seq_len):\n",
    "            sequences.append(padded_notes[j:j+seq_len])\n",
    "            label_pitch = notes[j]\n",
    "            label_duration = times[j]\n",
    "            labels.append((label_pitch, label_duration))\n",
    "    while i+seq_len < features.shape[0]:\n",
    "        sequences.append(features[i:i+seq_len])\n",
    "        label_pitch = notes[i+seq_len]\n",
    "        label_duration = times[i+seq_len]\n",
    "        labels.append((label_pitch, label_duration))\n",
    "        i += 1     # or += seq_len\n",
    "        \n",
    "    sequences = np.array(sequences)\n",
    "    labels = np.array(labels)\n",
    "    return sequences, labels\n",
    "\n",
    "def modulate(processedMidi, modulate=0):\n",
    "    \"\"\"modulates downwards\"\"\"\n",
    "    notes, times, chords, chordsroot, key, keyroot = processedMidi\n",
    "    i = modulate\n",
    "    modnotes = notes - i\n",
    "    modnotes[np.where(modnotes == 36 - i)[0]] = 36\n",
    "    modnotes[np.where(modnotes < 0)[0]] += 12 # experiment\n",
    "\n",
    "    modchordsroot = np.append(chordsroot[:,i:],chordsroot[:,:i],axis=1)\n",
    "    modchords = np.append(chords[:,i:],chords[:,:i],axis=1)\n",
    "   \n",
    "\n",
    "    key = np.append(key[i:],key[:i])\n",
    "    keyroot = np.append(keyroot[i:],keyroot[:i])\n",
    "    \n",
    "\n",
    "    processedMidi = modnotes, times, modchords, modchordsroot, key, keyroot\n",
    "    return processedMidi\n",
    "\n",
    "def preprocessData(folder, num_songs = 10, modulation=True):\n",
    "    t = time.time()\n",
    "    files = [file for file in os.listdir(folder) if '.mid' in file or '.mxl' in file]\n",
    "    for i, file in enumerate(files[:num_songs]):\n",
    "        score = converter.parse(folder+file)\n",
    "        longestNote = features.jSymbolic.MaximumNoteDurationFeature(score).extract().vector[0]\n",
    "        if longestNote > 4: # max possible note duration is whole note\n",
    "            continue\n",
    "        if '.mxl' in file:\n",
    "            processed = processMXL(score)\n",
    "        elif '.mid' in file:\n",
    "            processed = processMidi(score)\n",
    "        else:\n",
    "            continue\n",
    "        if processed[0].size == 0:\n",
    "            continue\n",
    "        if modulation == True:\n",
    "            for mod_i in range(12): # modulate to all keys\n",
    "                processednew = modulate(processed, modulate = mod_i)\n",
    "                sequences, labels = getInputSequences(processednew, padding=False, seq_len=8)\n",
    "                if labels.shape[0]>0:\n",
    "                    X = sequences if i==0 else np.concatenate((X, sequences))\n",
    "                    y = labels if i==0 else np.concatenate((y, labels))\n",
    "        else:\n",
    "            sequences, labels = getInputSequences(processed, padding=False, seq_len=8)\n",
    "            if labels.shape[0] > 0:\n",
    "                X = sequences if i==0 else np.concatenate((X, sequences))\n",
    "                y = labels if i==0 else np.concatenate((y, labels))\n",
    "    print(\"elapsedtime \" + str(int(time.time()-t))+\"s\")\n",
    "    return X,y"
   ]
  },
  {
   "cell_type": "markdown",
   "metadata": {
    "colab_type": "text",
    "id": "6JcNFsYXvbwa"
   },
   "source": [
    "## B.1 Preprocess Dataset"
   ]
  },
  {
   "cell_type": "markdown",
   "metadata": {},
   "source": [
    "To preprocess the Wikifonia dataset, it needs to be downloaded, e.g. at\n",
    "http://www.synthzone.com/files/Wikifonia/Wikifonia.zip, and the xml files need to be stored in the folder 'data/wikifonia/'.\n",
    "\n",
    "Other datasets in the MusicXML file format or the MIDI file format also work.\n",
    "MIDI only works for files that contain two tracks, one monophonic melody track and one harmony track consisting of chords."
   ]
  },
  {
   "cell_type": "code",
   "execution_count": 6,
   "metadata": {},
   "outputs": [
    {
     "name": "stdout",
     "output_type": "stream",
     "text": [
      "elapsedtime 40s\n"
     ]
    },
    {
     "data": {
      "text/plain": [
       "((16055, 8, 145), (16055, 2))"
      ]
     },
     "execution_count": 6,
     "metadata": {},
     "output_type": "execute_result"
    }
   ],
   "source": [
    "beatles = 'data/beatles/'\n",
    "X,y = preprocessData(beatles, num_songs=100, modulation=True)\n",
    "X.shape, y.shape"
   ]
  },
  {
   "cell_type": "code",
   "execution_count": 9,
   "metadata": {
    "colab": {
     "base_uri": "https://localhost:8080/",
     "height": 51
    },
    "colab_type": "code",
    "executionInfo": {
     "elapsed": 215998,
     "status": "ok",
     "timestamp": 1572196991837,
     "user": {
      "displayName": "Paddy Wilson",
      "photoUrl": "https://lh3.googleusercontent.com/a-/AAuE7mCHdy_ZSilqkO8NPYYg9xNxhaNeIwBfnPA4hZBLLA=s64",
      "userId": "00502307669733282628"
     },
     "user_tz": -60
    },
    "id": "kBaEXpzTvbwj",
    "outputId": "96c5086a-9500-4786-d203-f3f98a92f1bc"
   },
   "outputs": [],
   "source": [
    "# wikifonia = 'data/wikifonia/'\n",
    "# X,y = preprocessData(wikifonia, num_songs=100, modulation=True)\n",
    "# X.shape, y.shape"
   ]
  },
  {
   "cell_type": "code",
   "execution_count": 10,
   "metadata": {
    "colab": {},
    "colab_type": "code",
    "id": "9weAyLjiZt9m"
   },
   "outputs": [],
   "source": [
    "# # save it if needed, save different versions for different configurations of encodingDict\n",
    "# np.save(\"Xwiki.npy\",X)\n",
    "# np.save(\"ywiki.npy\",y)"
   ]
  },
  {
   "cell_type": "code",
   "execution_count": 11,
   "metadata": {},
   "outputs": [],
   "source": [
    "# load data instead of preprocessing\n",
    "# X = np.load(\"data/wikifonia/Xwiki.npy\")\n",
    "# y = np.load(\"data/wikifonia/ywiki.npy\")\n",
    "# X.shape, y.shape"
   ]
  },
  {
   "cell_type": "markdown",
   "metadata": {},
   "source": [
    "## B.2 Train/test split"
   ]
  },
  {
   "cell_type": "code",
   "execution_count": 12,
   "metadata": {
    "colab": {
     "base_uri": "https://localhost:8080/",
     "height": 34
    },
    "colab_type": "code",
    "executionInfo": {
     "elapsed": 525,
     "status": "ok",
     "timestamp": 1572200630485,
     "user": {
      "displayName": "Paddy Wilson",
      "photoUrl": "https://lh3.googleusercontent.com/a-/AAuE7mCHdy_ZSilqkO8NPYYg9xNxhaNeIwBfnPA4hZBLLA=s64",
      "userId": "00502307669733282628"
     },
     "user_tz": -60
    },
    "id": "kvY1xcgiDrm2",
    "outputId": "7174cc77-8684-4bd9-fbf4-5b23eace7509",
    "scrolled": false
   },
   "outputs": [
    {
     "data": {
      "text/plain": [
       "((14449, 8, 145), (14449, 2))"
      ]
     },
     "execution_count": 12,
     "metadata": {},
     "output_type": "execute_result"
    }
   ],
   "source": [
    "n = 5000000 # n = max number of samples\n",
    "n = min(n,X.shape[0])\n",
    "m = int(0.9*n)\n",
    "train_data = X[:m]\n",
    "train_labels = y[:m]\n",
    "test_data = X[m:n]\n",
    "test_labels = y[m:n]\n",
    "\n",
    "train_data.shape, train_labels.shape"
   ]
  },
  {
   "cell_type": "markdown",
   "metadata": {
    "colab_type": "text",
    "id": "IhxqWi8YDrm8"
   },
   "source": [
    "# C. Train a model"
   ]
  },
  {
   "cell_type": "code",
   "execution_count": 13,
   "metadata": {
    "colab": {
     "base_uri": "https://localhost:8080/",
     "height": 34
    },
    "colab_type": "code",
    "executionInfo": {
     "elapsed": 1200,
     "status": "ok",
     "timestamp": 1572181186884,
     "user": {
      "displayName": "Paddy Wilson",
      "photoUrl": "https://lh3.googleusercontent.com/a-/AAuE7mCHdy_ZSilqkO8NPYYg9xNxhaNeIwBfnPA4hZBLLA=s64",
      "userId": "00502307669733282628"
     },
     "user_tz": -60
    },
    "id": "XPH5jO9WNX8H",
    "outputId": "8e13d740-19d8-4ade-9d2d-d05331378576"
   },
   "outputs": [
    {
     "name": "stdout",
     "output_type": "stream",
     "text": [
      "Using pitch-duration architecture\n",
      "Number of params: 282837\n"
     ]
    }
   ],
   "source": [
    "def build(input_dim, seq_len, hidden_dim, num_layers, output_dim_pitch, output_dim_duration):\n",
    "    # with TF2.0 cudnn is now automatically used if available and lstm options are as stated\n",
    "    inputs = tf.keras.Input(shape=(seq_len, input_dim))\n",
    "    x = inputs\n",
    "    for i in range(num_layers-1):\n",
    "        x = tf.keras.layers.LSTM(hidden_dim, \n",
    "                           return_sequences=True, \n",
    "                           return_state=False, \n",
    "                           activation='tanh',\n",
    "                           recurrent_dropout=0,\n",
    "                           unroll=False,\n",
    "                           use_bias=True,\n",
    "                           recurrent_activation='sigmoid', \n",
    "                           recurrent_initializer='glorot_uniform')(x)\n",
    "    \n",
    "    x = tf.keras.layers.LSTM(hidden_dim, \n",
    "                           return_sequences=False, \n",
    "                           return_state=False, \n",
    "                           activation='tanh',\n",
    "                           recurrent_dropout=0,\n",
    "                           unroll=False,\n",
    "                           use_bias=True,\n",
    "                           recurrent_activation='sigmoid', \n",
    "                           recurrent_initializer='glorot_uniform')(x)\n",
    "    \n",
    "    x = tf.keras.layers.Dropout(rate=0.3)(x)\n",
    "    \n",
    "    pitch = tf.keras.layers.Dense(output_dim_pitch, activation='softmax', name='pitch_out')(x)\n",
    "    \n",
    "    if encodingDict['duration']:\n",
    "        print(\"Using pitch-duration architecture\")\n",
    "        duration = tf.keras.layers.Dense(output_dim_duration, activation='softmax', name='duration_out')(x)\n",
    "        model = tf.keras.Model(inputs=inputs, outputs=[pitch,duration])\n",
    "    else: \n",
    "        print(\"Using pitch-only architecture\")\n",
    "        model = tf.keras.Model(inputs=inputs, outputs=pitch)\n",
    "    \n",
    "    return model\n",
    "    \n",
    "# Build Model\n",
    "model_params = {\n",
    "    'input_dim': train_data.shape[-1],\n",
    "    'seq_len': None,\n",
    "    'hidden_dim': 128,\n",
    "    'num_layers': 2,\n",
    "    'output_dim_pitch': MELODY,\n",
    "    'output_dim_duration': TIMES\n",
    "}\n",
    "\n",
    "model = build(**model_params)\n",
    "print(\"Number of params: \"+str(model.count_params()))"
   ]
  },
  {
   "cell_type": "code",
   "execution_count": 14,
   "metadata": {
    "colab": {},
    "colab_type": "code",
    "id": "mFzXM-XbNX8Q"
   },
   "outputs": [],
   "source": [
    "def plot():\n",
    "    print(history.history.keys())\n",
    "    \n",
    "    # summarize history for accuracy\n",
    "    if encodingDict['duration']:\n",
    "        plt.plot(history.history['pitch_out_acc'])\n",
    "        plt.plot(history.history['val_pitch_out_acc'])\n",
    "    else:\n",
    "        plt.plot(history.history['acc'])\n",
    "        plt.plot(history.history['val_acc'])\n",
    "    plt.title('model accuracy')\n",
    "    plt.ylabel('accuracy')\n",
    "    plt.xlabel('epoch')\n",
    "    plt.legend(['train', 'validation'], loc='upper left')\n",
    "    plt.show()\n",
    "    # summarize history for loss\n",
    "    if encodingDict['duration']:\n",
    "        plt.plot(history.history['pitch_out_loss'])\n",
    "        plt.plot(history.history['val_pitch_out_loss'])\n",
    "    else:\n",
    "        plt.plot(history.history['loss'])\n",
    "        plt.plot(history.history['val_loss'])\n",
    "    plt.title('model loss')\n",
    "    plt.ylabel('loss')\n",
    "    plt.xlabel('epoch')\n",
    "    plt.legend(['train', 'validation'], loc='upper left')\n",
    "    plt.show()"
   ]
  },
  {
   "cell_type": "code",
   "execution_count": 15,
   "metadata": {
    "colab": {},
    "colab_type": "code",
    "id": "St3g9F4bnGW5"
   },
   "outputs": [],
   "source": [
    "if encodingDict['duration']:\n",
    "    model.compile(\n",
    "        optimizer=tf.keras.optimizers.Adam(clipnorm = 5),\n",
    "        loss={'pitch_out': 'sparse_categorical_crossentropy', \n",
    "              'duration_out':'sparse_categorical_crossentropy'},\n",
    "        loss_weights=[0.8,0.2],\n",
    "        metrics={'pitch_out': 'acc',\n",
    "                 'duration_out': 'acc'})\n",
    "\n",
    "    es = tf.keras.callbacks.EarlyStopping(monitor='val_pitch_out_acc', mode='max', verbose=1, patience=3)\n",
    "    mc = tf.keras.callbacks.ModelCheckpoint('best_model.h5', monitor='val_pitch_out_acc', mode='max', verbose=1, save_best_only=True)\n",
    "    \n",
    "else:\n",
    "    model.compile(\n",
    "        optimizer='adam',\n",
    "        loss={'pitch_out': 'sparse_categorical_crossentropy'},\n",
    "        metrics={'pitch_out': 'acc'})\n",
    "\n",
    "    es = tf.keras.callbacks.EarlyStopping(monitor='val_acc', mode='max', verbose=1, patience=3)\n",
    "    mc = tf.keras.callbacks.ModelCheckpoint('best_model.h5', monitor='val_acc', mode='max', verbose=1, save_best_only=True)"
   ]
  },
  {
   "cell_type": "code",
   "execution_count": 16,
   "metadata": {
    "colab": {
     "base_uri": "https://localhost:8080/",
     "height": 1000
    },
    "colab_type": "code",
    "executionInfo": {
     "elapsed": 70188,
     "status": "ok",
     "timestamp": 1572181262181,
     "user": {
      "displayName": "Paddy Wilson",
      "photoUrl": "https://lh3.googleusercontent.com/a-/AAuE7mCHdy_ZSilqkO8NPYYg9xNxhaNeIwBfnPA4hZBLLA=s64",
      "userId": "00502307669733282628"
     },
     "user_tz": -60
    },
    "id": "Oz77RLxOnKE6",
    "outputId": "ff42f923-a921-4105-99fc-90d7e7bd7ff1"
   },
   "outputs": [
    {
     "name": "stdout",
     "output_type": "stream",
     "text": [
      "Train on 11559 samples, validate on 2890 samples\n",
      "Epoch 1/30\n",
      "11520/11559 [============================>.] - ETA: 0s - loss: 2.6671 - pitch_out_loss: 2.8679 - duration_out_loss: 1.8643 - pitch_out_acc: 0.1370 - duration_out_acc: 0.4352\n",
      "Epoch 00001: val_pitch_out_acc improved from -inf to 0.21003, saving model to best_model.h5\n",
      "11559/11559 [==============================] - 19s 2ms/sample - loss: 2.6673 - pitch_out_loss: 2.8687 - duration_out_loss: 1.8642 - pitch_out_acc: 0.1369 - duration_out_acc: 0.4351 - val_loss: 2.3273 - val_pitch_out_loss: 2.4602 - val_duration_out_loss: 1.7992 - val_pitch_out_acc: 0.2100 - val_duration_out_acc: 0.3709\n",
      "Epoch 2/30\n",
      "11552/11559 [============================>.] - ETA: 0s - loss: 2.2829 - pitch_out_loss: 2.4430 - duration_out_loss: 1.6421 - pitch_out_acc: 0.2148 - duration_out_acc: 0.4926\n",
      "Epoch 00002: val_pitch_out_acc improved from 0.21003 to 0.23772, saving model to best_model.h5\n",
      "11559/11559 [==============================] - 13s 1ms/sample - loss: 2.2830 - pitch_out_loss: 2.4441 - duration_out_loss: 1.6409 - pitch_out_acc: 0.2147 - duration_out_acc: 0.4927 - val_loss: 2.1636 - val_pitch_out_loss: 2.2732 - val_duration_out_loss: 1.7360 - val_pitch_out_acc: 0.2377 - val_duration_out_acc: 0.4266\n",
      "Epoch 3/30\n",
      "11520/11559 [============================>.] - ETA: 0s - loss: 2.1166 - pitch_out_loss: 2.2516 - duration_out_loss: 1.5766 - pitch_out_acc: 0.2609 - duration_out_acc: 0.5093\n",
      "Epoch 00003: val_pitch_out_acc improved from 0.23772 to 0.25813, saving model to best_model.h5\n",
      "11559/11559 [==============================] - 15s 1ms/sample - loss: 2.1163 - pitch_out_loss: 2.2506 - duration_out_loss: 1.5763 - pitch_out_acc: 0.2613 - duration_out_acc: 0.5097 - val_loss: 2.1017 - val_pitch_out_loss: 2.1800 - val_duration_out_loss: 1.7870 - val_pitch_out_acc: 0.2581 - val_duration_out_acc: 0.3824\n",
      "Epoch 4/30\n",
      "11552/11559 [============================>.] - ETA: 0s - loss: 2.0046 - pitch_out_loss: 2.1220 - duration_out_loss: 1.5354 - pitch_out_acc: 0.2933 - duration_out_acc: 0.5163\n",
      "Epoch 00004: val_pitch_out_acc improved from 0.25813 to 0.25986, saving model to best_model.h5\n",
      "11559/11559 [==============================] - 14s 1ms/sample - loss: 2.0045 - pitch_out_loss: 2.1205 - duration_out_loss: 1.5372 - pitch_out_acc: 0.2935 - duration_out_acc: 0.5161 - val_loss: 2.0408 - val_pitch_out_loss: 2.1162 - val_duration_out_loss: 1.7404 - val_pitch_out_acc: 0.2599 - val_duration_out_acc: 0.4208\n",
      "Epoch 5/30\n",
      "11520/11559 [============================>.] - ETA: 0s - loss: 1.9177 - pitch_out_loss: 2.0210 - duration_out_loss: 1.5048 - pitch_out_acc: 0.3267 - duration_out_acc: 0.5195\n",
      "Epoch 00005: val_pitch_out_acc improved from 0.25986 to 0.27958, saving model to best_model.h5\n",
      "11559/11559 [==============================] - 14s 1ms/sample - loss: 1.9175 - pitch_out_loss: 2.0196 - duration_out_loss: 1.5053 - pitch_out_acc: 0.3266 - duration_out_acc: 0.5194 - val_loss: 2.0316 - val_pitch_out_loss: 2.0954 - val_duration_out_loss: 1.7766 - val_pitch_out_acc: 0.2796 - val_duration_out_acc: 0.4107\n",
      "Epoch 6/30\n",
      "11520/11559 [============================>.] - ETA: 0s - loss: 1.8414 - pitch_out_loss: 1.9330 - duration_out_loss: 1.4752 - pitch_out_acc: 0.3580 - duration_out_acc: 0.5268\n",
      "Epoch 00006: val_pitch_out_acc improved from 0.27958 to 0.29619, saving model to best_model.h5\n",
      "11559/11559 [==============================] - 14s 1ms/sample - loss: 1.8412 - pitch_out_loss: 1.9333 - duration_out_loss: 1.4769 - pitch_out_acc: 0.3582 - duration_out_acc: 0.5270 - val_loss: 2.0070 - val_pitch_out_loss: 2.0646 - val_duration_out_loss: 1.7865 - val_pitch_out_acc: 0.2962 - val_duration_out_acc: 0.4249\n",
      "Epoch 7/30\n",
      "11552/11559 [============================>.] - ETA: 0s - loss: 1.7599 - pitch_out_loss: 1.8368 - duration_out_loss: 1.4524 - pitch_out_acc: 0.3896 - duration_out_acc: 0.5309\n",
      "Epoch 00007: val_pitch_out_acc improved from 0.29619 to 0.30657, saving model to best_model.h5\n",
      "11559/11559 [==============================] - 14s 1ms/sample - loss: 1.7596 - pitch_out_loss: 1.8358 - duration_out_loss: 1.4504 - pitch_out_acc: 0.3898 - duration_out_acc: 0.5311 - val_loss: 2.0018 - val_pitch_out_loss: 2.0576 - val_duration_out_loss: 1.7843 - val_pitch_out_acc: 0.3066 - val_duration_out_acc: 0.4180\n",
      "Epoch 8/30\n",
      "11552/11559 [============================>.] - ETA: 0s - loss: 1.6794 - pitch_out_loss: 1.7421 - duration_out_loss: 1.4288 - pitch_out_acc: 0.4257 - duration_out_acc: 0.5356\n",
      "Epoch 00008: val_pitch_out_acc improved from 0.30657 to 0.30969, saving model to best_model.h5\n",
      "11559/11559 [==============================] - 14s 1ms/sample - loss: 1.6791 - pitch_out_loss: 1.7404 - duration_out_loss: 1.4277 - pitch_out_acc: 0.4259 - duration_out_acc: 0.5357 - val_loss: 2.0076 - val_pitch_out_loss: 2.0635 - val_duration_out_loss: 1.7905 - val_pitch_out_acc: 0.3097 - val_duration_out_acc: 0.4239\n",
      "Epoch 9/30\n",
      "11552/11559 [============================>.] - ETA: 0s - loss: 1.5857 - pitch_out_loss: 1.6312 - duration_out_loss: 1.4036 - pitch_out_acc: 0.4666 - duration_out_acc: 0.5430\n",
      "Epoch 00009: val_pitch_out_acc improved from 0.30969 to 0.31038, saving model to best_model.h5\n",
      "11559/11559 [==============================] - 13s 1ms/sample - loss: 1.5857 - pitch_out_loss: 1.6317 - duration_out_loss: 1.4023 - pitch_out_acc: 0.4667 - duration_out_acc: 0.5431 - val_loss: 2.0099 - val_pitch_out_loss: 2.0664 - val_duration_out_loss: 1.7883 - val_pitch_out_acc: 0.3104 - val_duration_out_acc: 0.4173\n",
      "Epoch 10/30\n",
      "11552/11559 [============================>.] - ETA: 0s - loss: 1.5023 - pitch_out_loss: 1.5325 - duration_out_loss: 1.3813 - pitch_out_acc: 0.4965 - duration_out_acc: 0.5473\n",
      "Epoch 00010: val_pitch_out_acc did not improve from 0.31038\n",
      "11559/11559 [==============================] - 14s 1ms/sample - loss: 1.5025 - pitch_out_loss: 1.5337 - duration_out_loss: 1.3805 - pitch_out_acc: 0.4965 - duration_out_acc: 0.5474 - val_loss: 2.0434 - val_pitch_out_loss: 2.1119 - val_duration_out_loss: 1.7680 - val_pitch_out_acc: 0.3031 - val_duration_out_acc: 0.4374\n",
      "Epoch 11/30\n",
      "11552/11559 [============================>.] - ETA: 0s - loss: 1.4234 - pitch_out_loss: 1.4383 - duration_out_loss: 1.3635 - pitch_out_acc: 0.5251 - duration_out_acc: 0.5506\n",
      "Epoch 00011: val_pitch_out_acc improved from 0.31038 to 0.32284, saving model to best_model.h5\n",
      "11559/11559 [==============================] - 15s 1ms/sample - loss: 1.4235 - pitch_out_loss: 1.4389 - duration_out_loss: 1.3645 - pitch_out_acc: 0.5251 - duration_out_acc: 0.5505 - val_loss: 2.0757 - val_pitch_out_loss: 2.1415 - val_duration_out_loss: 1.8197 - val_pitch_out_acc: 0.3228 - val_duration_out_acc: 0.4187\n",
      "Epoch 12/30\n",
      "11520/11559 [============================>.] - ETA: 0s - loss: 1.3387 - pitch_out_loss: 1.3373 - duration_out_loss: 1.3446 - pitch_out_acc: 0.5587 - duration_out_acc: 0.5534- ETA: 6s - loss: 1.3251 - pitch_out_los\n",
      "Epoch 00012: val_pitch_out_acc did not improve from 0.32284\n",
      "11559/11559 [==============================] - 15s 1ms/sample - loss: 1.3382 - pitch_out_loss: 1.3362 - duration_out_loss: 1.3457 - pitch_out_acc: 0.5590 - duration_out_acc: 0.5536 - val_loss: 2.1207 - val_pitch_out_loss: 2.2071 - val_duration_out_loss: 1.7824 - val_pitch_out_acc: 0.3073 - val_duration_out_acc: 0.4336\n",
      "Epoch 13/30\n",
      "11552/11559 [============================>.] - ETA: 0s - loss: 1.2458 - pitch_out_loss: 1.2243 - duration_out_loss: 1.3316 - pitch_out_acc: 0.5914 - duration_out_acc: 0.5578\n",
      "Epoch 00013: val_pitch_out_acc did not improve from 0.32284\n",
      "11559/11559 [==============================] - 14s 1ms/sample - loss: 1.2456 - pitch_out_loss: 1.2237 - duration_out_loss: 1.3303 - pitch_out_acc: 0.5915 - duration_out_acc: 0.5580 - val_loss: 2.1626 - val_pitch_out_loss: 2.2503 - val_duration_out_loss: 1.8155 - val_pitch_out_acc: 0.3048 - val_duration_out_acc: 0.4249\n",
      "Epoch 14/30\n",
      "11552/11559 [============================>.] - ETA: 0s - loss: 1.1716 - pitch_out_loss: 1.1366 - duration_out_loss: 1.3115 - pitch_out_acc: 0.6287 - duration_out_acc: 0.5675\n",
      "Epoch 00014: val_pitch_out_acc did not improve from 0.32284\n",
      "11559/11559 [==============================] - 14s 1ms/sample - loss: 1.1714 - pitch_out_loss: 1.1355 - duration_out_loss: 1.3114 - pitch_out_acc: 0.6288 - duration_out_acc: 0.5675 - val_loss: 2.2220 - val_pitch_out_loss: 2.3320 - val_duration_out_loss: 1.7952 - val_pitch_out_acc: 0.3038 - val_duration_out_acc: 0.4408\n"
     ]
    },
    {
     "name": "stdout",
     "output_type": "stream",
     "text": [
      "Epoch 00014: early stopping\n",
      "dict_keys(['loss', 'pitch_out_loss', 'duration_out_loss', 'pitch_out_acc', 'duration_out_acc', 'val_loss', 'val_pitch_out_loss', 'val_duration_out_loss', 'val_pitch_out_acc', 'val_duration_out_acc'])\n"
     ]
    },
    {
     "data": {
      "image/png": "[encoded data removed]",
      "text/plain": [
       "<Figure size 432x288 with 1 Axes>"
      ]
     },
     "metadata": {
      "image/png": {
       "height": 277,
       "width": 385
      },
      "needs_background": "light"
     },
     "output_type": "display_data"
    },
    {
     "data": {
      "image/png": "[encoded data removed]",
      "text/plain": [
       "<Figure size 432x288 with 1 Axes>"
      ]
     },
     "metadata": {
      "image/png": {
       "height": 277,
       "width": 392
      },
      "needs_background": "light"
     },
     "output_type": "display_data"
    }
   ],
   "source": [
    "if encodingDict['duration']:\n",
    "    history = model.fit(train_data, [train_labels[:,0],train_labels[:,1]], validation_split=0.2, batch_size=32, epochs=30, callbacks=[es,mc])\n",
    "else:\n",
    "    history = model.fit(train_data, train_labels[:,0], validation_split=0.2, batch_size=32, epochs=30, callbacks=[es,mc])\n",
    "plot()"
   ]
  },
  {
   "cell_type": "markdown",
   "metadata": {
    "colab_type": "text",
    "id": "yQU35Z51FxrD"
   },
   "source": [
    "# C. Evaluation of the model"
   ]
  },
  {
   "cell_type": "markdown",
   "metadata": {},
   "source": [
    "### C.1 test accuracy"
   ]
  },
  {
   "cell_type": "code",
   "execution_count": 17,
   "metadata": {
    "colab": {
     "base_uri": "https://localhost:8080/",
     "height": 71
    },
    "colab_type": "code",
    "executionInfo": {
     "elapsed": 4458,
     "status": "ok",
     "timestamp": 1572182719255,
     "user": {
      "displayName": "Paddy Wilson",
      "photoUrl": "https://lh3.googleusercontent.com/a-/AAuE7mCHdy_ZSilqkO8NPYYg9xNxhaNeIwBfnPA4hZBLLA=s64",
      "userId": "00502307669733282628"
     },
     "user_tz": -60
    },
    "id": "CUZLuoapNX8e",
    "outputId": "7da2b9e3-b2c4-4c9e-abde-75895f24e65b",
    "scrolled": true
   },
   "outputs": [
    {
     "name": "stdout",
     "output_type": "stream",
     "text": [
      "\r",
      "1606/1 [====================================================================================================================================================================================================================================================================================================================================================================================================================================================================================================================================================================================================================================================================================================================================================================================================================================================================================================================================================================================================================================================================================================================================================================================================================================================================================================================================================================================================================================================================================================================================================================================================================================================================================================================================================================================================================================================================================================================================================================================================================================================================================================================================================================================================================================================================================================================================================================================================================================================================================================================================================================================================================================================================================================================================================================================================================================================================================================================================================================================================================================================================================================================================================================================================================================================================================================================================================================================================================================================================================================================================================================================================================================================================================================================================================================================================================================================================================================================================================================================================================================================================================================================================================================================================================================================================================================================================================================================================================================================================================================================================================================================================================================================================================================================================================================================================================================================================================================================================================================================================================================================================================================================================================================================================================================================================================================================================================================================================================================================================================================================================================================================================================================================================================================================================================================================================================================================================================================================================================================================================================================================================================================================================================================================================================================================================================================================================================================================================================================================================================================================================================================================================================================================================================================================================================================================================================================================================================================================================================================================================================================================================================================================================================================================================================================================================================================================================================================================================================================================================================================================================================================================================================================================================================================================================================================================================================================================================================================================================================================================================================================================================================================================================================================================================================================================================================================================================================================================================================================================================================================================================================================================================================================================================================================================================================================================================================================================================================================================================================================================================================================================================================================================================================================================================================================================================================================================================================================================================================================================================================================================================================================================================================================================================================================================================================================================================================================================================================================================================================================================================================================================================================================================================================================================================================================================================================================================================================================================================================================================================================================================================================================================================================================================================================================================================================================================================================================================================================================================================================================================================================================================================================================================================================================================================================================================================================================================================================================================================================================================================================================================================================================================================================================================================================================================================================================================================================================================================================================================================================================================================================================================================================================================================================================================================================================================================================================================================================================================================================================================================================================================================================================================================================================================================================================================================================================================================================================================================================================================================================================================================================================================================================================================================================================================================================================================================================================================================================================================================================================================================================================================================================================================================================================================================================================================================================================================================================================================================================================================================================================================================================================================================================================================================================================================================================================================================================================================================================================================================================================================================================================================================================================================================================================================================================================================================================================================================================================================================================================================================================================================================================================================================================================================================================================================================================================================================================================================================================================================================================================================================================================================================================================================================================================================================================================================================================================================================================================================================================================================================================================================================================================================================================================================================================================================================================================================================================================================================================================================================================================================================================================================================================================================================================================================================================================================================================================================================================================================================================================================================================================================================================================================================================================================================================================================================================================================================================================================================================================================================================================================================================================================================================================================================================================================================================================================================================================================================================================================================================================================================================================================================================================================================================================================================================================================================================================================================================================================================================================================================================================================================================================================================================================================================================================================================================================================================================================================================================================================================================================================================================================================================================================================================================================================================================================================================================================================================================================================================================================================================================================================================================================================================================================================================================================================================================================================================================================================================================================================================================================================================================================================================================================================================================================================================================================================================================================================================================================================================================================================================================================================================================================================================================================================================================================================================================================================================================================================================================================================================================================================================================================================================================================================================================================================================================================================================================================================================================================================================================================================================================================================================================================================================================================================================================================================================================================================================================================================================================================================================================================================================================================================================================================================================================================================================================================================================================================================================================================================================================================================================================================================================================================================================================================================================================================================================================================================================================================================================================================================================================================================================================================================================================================================================================================================================================================================================================================================================================================================================================================================================================================================================================================================================================================================================================================================================================================================================================================================================================================================================================================================================================================================================================================================================================================================================================================================================================================================================================================================================================================================================================================================================================================================================================================================================================================================================================================================================================================================================================================================================================================================================================================================================================================================================================================================================================================================================================================================================================================================================================================================================================================================================================================================================================================================================================================================================================================================================================================================================================================================================================================================================================================================================================================================================================================================================================================================================================================================================================================================================================================================================================================================================================================================================================================================================================================================================================================================================================================================================================================================================================================================================================================================================================================================================================================================================================================================================================================================================================================================================================================================================================================================================================================================================================================================================================================================================================================================================================================================================================================================================================================================================================================================================================================================================================================================================================================================================================================================================================================================================================================================================================================================================================================================================================================================================================================================================================================================================================================================================================================================================================================================================================================================================================================================================================================================================================================================================================================================================================================================================================================================================================================================================================================================================================================================================================================================================================================================================================================================================================================================================================================================================================================================================================================================================================================================================================================================================================================================================================================================================================================================================================================================================================================================================================================================================================================================================================================================================================================================================================================================================================================================================================================================================================================================================================================================================================================================================================================================================================================================================================================================================================================================================================================================================================================================================================================================================================================================================================================================================================================================================================================================================================================================================================================================================================================================================================================================================================================================================================================================================================================================================================================================================================================================================================================================================================================================================================================================================================================================================================================================================================================================================================================================================================================================================================================================================================================================================================================================================================================================================================================================================================================================================================================================================================================================================================================================================================================================================================================================================================================================================================================================================================================================================================================================================================================================================================================================================================================================================================================================================================================================================================================================================================================================================================================================================================================================================================================================================================================================================================================================================================================================================================================================================================================================================================================================================================================================================================================================================================================================================================================================================================================================================================================================================================================================================================================================================================================================================================================================================================================================================================================================================================================================================================================================================================================================================================================================================================================================================================================================================================================================================================================================================================================================================================================================================================================================================================================================================================================================================================================================================================================================================================================================================================================================================================================================================================================================================================================================================================================================================================================================================================================================================================================================================================================================================================================================================================================================================================================================================================================================================================================================================================================================================================================================================================================================================================================================================================================================================================================================================================================================================================================================================================================================================================================================================================================================================================================================================================================================================================================================================================================================================================================================================================================================================================================================================================================================================================================================================================================================================================================================================================================================================================================================================================================================================================================================================================================================================================================================================================================================================================================================================================================================================================================================================================================================================================================================================================================================================================================================================================================================================================================================================================================================================================================================================================================================================================================================================================================================================================================================================================================================================================================================================================================================================================================================================================================================================================================================================================================================================================================================================================================================================================================================================================================================================================================================================================================================================================================================================================================================================================================================================================================================================================================================================================================================================================================================================================================================================================================================================================================================================================================================================================================================================================================================================================================================================================================================================================================================================================================================================================================================================================================================================================================================================================================================================================================================================================================================================================================================================================================================================================================================================================================================================================================================================================================================================================================================================================================================================================================================================================================================================================================================================================================================================================================================================================================================================================================================================================================================================================================================================================================================================================================================================================================================================================================================================================================================================================================================================================================================================================================================================================================================================================================================================================================================================================================================================================================================================================================================================================================================================================================================================================================================================================================================================================================================================================================================================================================================================================================================================================================================================================================================================================================================================================================================================================================================================================================================================================================================================================================================================================================================================================================================================================================================================================================================================================================================================================================================================================================================================================================================================================================================================================================================================================================================================================================================================================================================================================================================================================================================================================================================================================================================================================================================================================================================================================================================================================================================================================================================================================================================================================================================================================================================================================================================================================================================================================================================================================================================================================================================================================================================================================================================================================================================================================================================================================================================================================================================================================================================================================================================================================================================================================================================================================================================================================================================================================================================================================================================================================================================================================================================================================================================================================================================================================================================================================================================================================================================================================================================================================================================================================================================================================================================================================================================================================================================] - 1s 433us/sample - loss: 2.8683 - pitch_out_loss: 2.4780 - duration_out_loss: 1.7521 - pitch_out_acc: 0.2702 - duration_out_acc: 0.5311\n"
     ]
    }
   ],
   "source": [
    "if encodingDict['duration']:\n",
    "    model.evaluate(test_data,[test_labels[:,0],test_labels[:,1]])"
   ]
  },
  {
   "cell_type": "code",
   "execution_count": 18,
   "metadata": {
    "colab": {
     "base_uri": "https://localhost:8080/",
     "height": 71
    },
    "colab_type": "code",
    "executionInfo": {
     "elapsed": 28460,
     "status": "ok",
     "timestamp": 1572174151815,
     "user": {
      "displayName": "Paddy Wilson",
      "photoUrl": "https://lh3.googleusercontent.com/a-/AAuE7mCHdy_ZSilqkO8NPYYg9xNxhaNeIwBfnPA4hZBLLA=s64",
      "userId": "00502307669733282628"
     },
     "user_tz": -60
    },
    "id": "VYilRiHKfJfP",
    "outputId": "cb81720a-9a49-45fd-9542-39f6d4d80191"
   },
   "outputs": [],
   "source": [
    "if not encodingDict['duration']:\n",
    "    model.evaluate(test_data,test_labels[:,0])"
   ]
  },
  {
   "cell_type": "markdown",
   "metadata": {},
   "source": [
    "### C.2 Create sequences for evaluation"
   ]
  },
  {
   "cell_type": "code",
   "execution_count": 19,
   "metadata": {
    "colab": {},
    "colab_type": "code",
    "id": "u_dUcvS_syd-"
   },
   "outputs": [],
   "source": [
    "# 0. Create 1000 sequences of length 9 with randomly chosen prime from test data\n",
    "def getPredictedSequences(data):\n",
    "    predictions = []\n",
    "    for sample in data:\n",
    "        newsample = sample.copy()\n",
    "        for i in range(9):\n",
    "            pred = model.predict(np.expand_dims(newsample,0))\n",
    "            note = np.argmax(pred[0])\n",
    "\n",
    "            li = []\n",
    "            li.append(oneHot(note,MELODY))\n",
    "            li.append(oneHot(note%12,12) if note < MELODY - 1 else np.zeros(12))\n",
    "            if encodingDict['duration']:\n",
    "                li.append(oneHot(np.argmax(pred[1]),TIMES))\n",
    "            li.append(sample[-1,getIdxRange('chords')])\n",
    "            if encodingDict['key']:\n",
    "                li.append(sample[-1,getIdxRange('key')])\n",
    "            newfeat = buildVector(li)\n",
    "            newsample = np.append(newsample, np.expand_dims(newfeat,0),axis=0)\n",
    "        \n",
    "        predictions.append(newsample[8:])\n",
    "    return np.array(predictions)\n",
    "\n",
    "\n",
    "def getNoteSequences(predictions):\n",
    "    return np.argmax(predictions[:,:,getIdxRange('melody')],axis=2)\n",
    "\n",
    "def getDurSequences(predictions):\n",
    "    return np.argmax(predictions[:,:,getIdxRange('duration')],axis=2)\n",
    "\n",
    "def getNoteDurSequences(predictions):\n",
    "    a = getNoteSequences(predictions)\n",
    "    b = getDurSequences(predictions)\n",
    "    w = a*100 + b # trick to make unique note_dur representation in one integer\n",
    "    return w\n",
    "\n",
    "# 1. Harmonic Consistency\n",
    "def getNoteScore(note, featurevec):\n",
    "    note = note % 12\n",
    "    chords = getChords(featurevec)\n",
    "    currchord = chords[0]\n",
    "    nextchord = chords[1]\n",
    "    return int(currchord[note]), int(nextchord[note])\n",
    "\n",
    "def getScaleForChord(chord, root):\n",
    "    c_maj = np.array([1,0,1,0,1,1,0,1,0,1,0,1])\n",
    "    c_min = np.array([1,0,1,1,0,1,0,1,1,0,1,0])\n",
    "    \n",
    "    scale = np.zeros(12)\n",
    "    \n",
    "    c = 0\n",
    "    \n",
    "    if chord[(root+4)%12] == 1:\n",
    "        scale = np.append(c_maj[-root:],c_maj[:-root])\n",
    "        c +=1\n",
    "\n",
    "    if chord[(root+3)%12] == 1:\n",
    "        scale = np.append(c_min[-root:],c_min[:-root])\n",
    "        c+=1\n",
    "\n",
    "    if c == 2:\n",
    "        return np.zeros(12) # both major and minor possible so no points\n",
    "    \n",
    "    return scale\n",
    "    \n",
    "\n",
    "def getScaleScore(note, featurevec):\n",
    "    note = note % 12\n",
    "    roots = getChordRoots(featurevec)\n",
    "    chords = getChords(featurevec)\n",
    "    \n",
    "    root1 = np.argmax(roots[0])\n",
    "    root2 = np.argmax(roots[1])\n",
    "    chord1 = chords[0]\n",
    "    chord2 = chords[1]\n",
    "    \n",
    "    cscale = getScaleForChord(chord1,root1)\n",
    "    nscale = getScaleForChord(chord2,root2)\n",
    "    return cscale[note], nscale[note]\n",
    "\n",
    "def getHC(predictions):\n",
    "    pauses = 0\n",
    "    black = 0\n",
    "    blue = 0\n",
    "    green = 0\n",
    "    totalscore = 0\n",
    "    total = 0\n",
    "\n",
    "    for pred in predictions:\n",
    "        for featurevec in pred:\n",
    "            note = np.argmax(featurevec[:MELODY])\n",
    "\n",
    "            if note == MELODY - 1:\n",
    "                pauses += 1\n",
    "\n",
    "            else:\n",
    "                cscore, nscore = getNoteScore(note, featurevec)\n",
    "                cscale, nscale = getScaleScore(note, featurevec)\n",
    "\n",
    "                if cscore > 0:\n",
    "                    black += cscore\n",
    "                elif cscale > 0:\n",
    "                    green += cscale\n",
    "               # no blue for pitch-only\n",
    "\n",
    "                else:\n",
    "                    pass\n",
    "\n",
    "                totalscore += max(cscore, nscore, cscale, nscale)\n",
    "\n",
    "                total += 1\n",
    "    results = {\n",
    "        'black': np.round(black/total,3),\n",
    "        'green': np.round(green/total,3),\n",
    "        'blue': np.round(blue/total,3),\n",
    "        'red': np.round(1-(black+blue+green)/total,3),\n",
    "        'total': total,\n",
    "        'pauses': np.round(pauses/total,3),\n",
    "    }\n",
    "\n",
    "    return results\n",
    "\n",
    "def getHC2(predictions):\n",
    "    pauses = 0\n",
    "    black = 0\n",
    "    blue = 0\n",
    "    green = 0\n",
    "    totalscore = 0\n",
    "    total = 0\n",
    "\n",
    "    for pred in predictions:\n",
    "        for featurevec in pred:\n",
    "            note = np.argmax(featurevec[:MELODY])\n",
    "            dur = np.argmax(featurevec[MELODY:TIMES])\n",
    "\n",
    "            if note == MELODY - 1:\n",
    "                pauses += 1\n",
    "\n",
    "            else:\n",
    "                cscore, nscore = getNoteScore(note, featurevec)\n",
    "                cscale, nscale = getScaleScore(note, featurevec)\n",
    "\n",
    "                if cscore > 0:\n",
    "                    black += cscore\n",
    "                elif cscale > 0:\n",
    "                    green += cscale\n",
    "                elif nscore > 0 and dur < 12:\n",
    "                    blue += nscore\n",
    "                elif nscale > 0 and dur < 12:\n",
    "                    blue += nscale\n",
    "                else:\n",
    "                    pass\n",
    "\n",
    "                totalscore += max(cscore, nscore, cscale, nscale)\n",
    "\n",
    "            total += 1\n",
    "    results = {\n",
    "        'black': np.round(black/total,3),\n",
    "        'green': np.round(green/total,3),\n",
    "        'blue': np.round(blue/total,3),\n",
    "        'red': np.round(1-(black+blue+green+pauses)/total,3),\n",
    "        'total': total,\n",
    "        'pauses': np.round(pauses/total,3),\n",
    "    }\n",
    "\n",
    "    return results\n",
    "\n",
    "###########\n",
    "\n",
    "# 2. CPR - consecutive pitch repetitions\n",
    "def getCPR2(note_sequences):\n",
    "    c = 0\n",
    "    seq_len = note_sequences.shape[1]-2\n",
    "    total_cpr = note_sequences.shape[0]*seq_len\n",
    "    for note_seq in note_sequences:\n",
    "        for i in range(seq_len):\n",
    "            note = note_seq[i]\n",
    "            nextnote = note_seq[i+1]\n",
    "            nextnextnote = note_seq[i+2]\n",
    "            if note == nextnote and nextnote == nextnextnote:\n",
    "                c += 1\n",
    "    return c/total_cpr\n",
    "\n",
    "# 3. TS - Tone Spans greater than octave\n",
    "def getTS(note_sequences):\n",
    "    c = 0\n",
    "    seq_len = note_sequences.shape[1]-1\n",
    "    total_ts = note_sequences.shape[0]*seq_len\n",
    "    for note_seq in note_sequences:\n",
    "        for i in range(seq_len):\n",
    "            if note_seq[i] < note_seq[i+1] - 12 or note_seq[i] > note_seq[i+1] + 12:\n",
    "                c += 1\n",
    "    return c/total_ts\n",
    "\n",
    "\n",
    "# 4. PV - pitch variations: ratio distinct pitches vs number of notes\n",
    "def getPV(note_sequences, total_notes):\n",
    "    return sum(len(np.unique(x)) for x in note_sequences) / total_notes\n",
    "\n",
    "# functional programming in python: sum is better then for loop better than reduce \n",
    "\n",
    "# 5. RM - rote memorization frequencies: copy seq of length 3 to 6\n",
    "def sliceCorpus(corpus, slices):\n",
    "    m = corpus[0].shape[0]\n",
    "    if slices > m:\n",
    "        return \"ERROR slices bigger than data dim\"\n",
    "    slicedcorpus = []\n",
    "    for seq in corpus:\n",
    "        for i in range(m-slices):\n",
    "            slicedcorpus.append(seq[i:i+slices])\n",
    "    slicedcorpus = [list(x) for x in set(tuple(x) for x in slicedcorpus)]\n",
    "    return slicedcorpus\n",
    "\n",
    "def getRM(note_dur_sequences, total_notes, corpus):\n",
    "    c = 0\n",
    "    m = note_dur_sequences.shape[1]\n",
    "    slices = len(corpus[0])\n",
    "    # corpus = corpus.tolist()\n",
    "    if slices > m:\n",
    "        return \"ERROR slices bigger than data dim\"\n",
    "    num_notes = (m-slices)*note_dur_sequences.shape[0]\n",
    "    for note_seq in note_dur_sequences:\n",
    "        for i in range(m-slices):\n",
    "            if list(note_seq[i:i+slices]) in corpus: # how cool is python?\n",
    "                c += 1\n",
    "    return c/num_notes\n",
    "\n",
    "# 7. DPR - Durations of Pitch Repetitions \n",
    "def getDPR(note_dur_sequences):\n",
    "    c = 0\n",
    "    seq_len = note_dur_sequences.shape[1]-2\n",
    "    total_dpr = note_dur_sequences.shape[0]*seq_len\n",
    "    for note_seq in note_dur_sequences:\n",
    "        for i in range(seq_len):\n",
    "            note = int(note_seq[i]/100)\n",
    "            nextnote = int(note_seq[i+1]/100)\n",
    "            nextnextnote = int(note_seq[i+2]/100)\n",
    "            if note == nextnote and nextnote == nextnextnote:\n",
    "                dur = note_seq[i] % 100\n",
    "                nextdur = note_seq[i+1] % 100\n",
    "                nextnextdur = note_seq[i+2] % 100\n",
    "                if dur+nextdur+nextnextdur >= 24:\n",
    "                    c += 1\n",
    "    return c/total_dpr\n",
    "\n",
    "# 8. RV - Rhythm variations\n",
    "def getRV(dur_sequences, total_notes):\n",
    "    return sum(len(np.unique(x)) for x in dur_sequences) / total_notes"
   ]
  },
  {
   "cell_type": "code",
   "execution_count": 20,
   "metadata": {
    "colab": {
     "base_uri": "https://localhost:8080/",
     "height": 139
    },
    "colab_type": "code",
    "executionInfo": {
     "elapsed": 428196,
     "status": "ok",
     "timestamp": 1572181636971,
     "user": {
      "displayName": "Paddy Wilson",
      "photoUrl": "https://lh3.googleusercontent.com/a-/AAuE7mCHdy_ZSilqkO8NPYYg9xNxhaNeIwBfnPA4hZBLLA=s64",
      "userId": "00502307669733282628"
     },
     "user_tz": -60
    },
    "id": "WNZPixpt4ozy",
    "outputId": "eb9ca4ab-eec9-42c0-955b-f7877bd38bd8",
    "scrolled": false
   },
   "outputs": [
    {
     "name": "stderr",
     "output_type": "stream",
     "text": [
      "WARNING: Logging before flag parsing goes to stderr.\n",
      "W1028 14:27:51.635409 4510672320 def_function.py:474] 5 out of the last 5 calls to <function _make_execution_function.<locals>.distributed_function at 0x1411b8378> triggered tf.function retracing. Tracing is expensive and the excessive number of tracings is likely due to passing python objects instead of tensors. Also, tf.function has experimental_relax_shapes=True option that relaxes argument shapes that can avoid unnecessary retracing. Please refer to https://www.tensorflow.org/beta/tutorials/eager/tf_function#python_or_tensor_args and https://www.tensorflow.org/api_docs/python/tf/function for more details.\n",
      "W1028 14:27:53.007716 4510672320 def_function.py:474] 6 out of the last 6 calls to <function _make_execution_function.<locals>.distributed_function at 0x1411b8378> triggered tf.function retracing. Tracing is expensive and the excessive number of tracings is likely due to passing python objects instead of tensors. Also, tf.function has experimental_relax_shapes=True option that relaxes argument shapes that can avoid unnecessary retracing. Please refer to https://www.tensorflow.org/beta/tutorials/eager/tf_function#python_or_tensor_args and https://www.tensorflow.org/api_docs/python/tf/function for more details.\n",
      "W1028 14:27:54.455626 4510672320 def_function.py:474] 7 out of the last 7 calls to <function _make_execution_function.<locals>.distributed_function at 0x1411b8378> triggered tf.function retracing. Tracing is expensive and the excessive number of tracings is likely due to passing python objects instead of tensors. Also, tf.function has experimental_relax_shapes=True option that relaxes argument shapes that can avoid unnecessary retracing. Please refer to https://www.tensorflow.org/beta/tutorials/eager/tf_function#python_or_tensor_args and https://www.tensorflow.org/api_docs/python/tf/function for more details.\n",
      "W1028 14:27:55.928811 4510672320 def_function.py:474] 8 out of the last 8 calls to <function _make_execution_function.<locals>.distributed_function at 0x1411b8378> triggered tf.function retracing. Tracing is expensive and the excessive number of tracings is likely due to passing python objects instead of tensors. Also, tf.function has experimental_relax_shapes=True option that relaxes argument shapes that can avoid unnecessary retracing. Please refer to https://www.tensorflow.org/beta/tutorials/eager/tf_function#python_or_tensor_args and https://www.tensorflow.org/api_docs/python/tf/function for more details.\n",
      "W1028 14:27:57.226609 4510672320 def_function.py:474] 9 out of the last 9 calls to <function _make_execution_function.<locals>.distributed_function at 0x1411b8378> triggered tf.function retracing. Tracing is expensive and the excessive number of tracings is likely due to passing python objects instead of tensors. Also, tf.function has experimental_relax_shapes=True option that relaxes argument shapes that can avoid unnecessary retracing. Please refer to https://www.tensorflow.org/beta/tutorials/eager/tf_function#python_or_tensor_args and https://www.tensorflow.org/api_docs/python/tf/function for more details.\n"
     ]
    },
    {
     "name": "stdout",
     "output_type": "stream",
     "text": [
      "16.563068151474\n"
     ]
    }
   ],
   "source": [
    "# # takes a while to execute, better do once and save to load\n",
    "t = time.time()\n",
    "perm = np.random.permutation(test_data.shape[0])\n",
    "predictions = getPredictedSequences(test_data[perm[:10]])\n",
    "print(time.time()-t)"
   ]
  },
  {
   "cell_type": "markdown",
   "metadata": {},
   "source": [
    "### C.3 Compute evaluation scores"
   ]
  },
  {
   "cell_type": "code",
   "execution_count": 21,
   "metadata": {
    "colab": {},
    "colab_type": "code",
    "id": "8wn06T3OsyeJ"
   },
   "outputs": [],
   "source": [
    "def getScores(predictions):\n",
    "    t = time.time()\n",
    "    corpus = getNoteDurSequences(train_data)\n",
    "    corpus3 = sliceCorpus(corpus,3)\n",
    "    corpus4 = sliceCorpus(corpus,4)\n",
    "    corpus5 = sliceCorpus(corpus,5)\n",
    "    corpus6 = sliceCorpus(corpus,6)\n",
    "\n",
    "    note_sequences = getNoteSequences(predictions)\n",
    "    print(time.time()-t)\n",
    "    dur_sequences = getDurSequences(predictions)\n",
    "    print(time.time()-t)\n",
    "    note_dur_sequences = getNoteDurSequences(predictions)\n",
    "    print(time.time()-t)\n",
    "    total_notes = note_sequences.shape[0]*note_sequences.shape[1]\n",
    "    print(time.time()-t)\n",
    "\n",
    "    scores = {}\n",
    "\n",
    "    scores['pv'] = getPV(note_sequences,total_notes)\n",
    "    scores['ts'] = getTS(note_sequences)\n",
    "    scores['cpr'] = getCPR2(note_sequences)\n",
    "    scores['rm3'] = getRM(note_dur_sequences,total_notes,corpus3)\n",
    "    scores['rm4'] = getRM(note_dur_sequences,total_notes,corpus4)\n",
    "    scores['rm5'] = getRM(note_dur_sequences,total_notes,corpus5)\n",
    "    scores['rm6'] = getRM(note_dur_sequences,total_notes,corpus6)\n",
    "    scores['hc'] = getHC(predictions)\n",
    "    scores['hc2'] = getHC2(predictions)\n",
    "    scores['rv'] = getRV(dur_sequences,total_notes)\n",
    "    scores['dpr'] = getDPR(note_dur_sequences)\n",
    "    \n",
    "    for sc in scores.keys():\n",
    "        if not 'hc' in sc:\n",
    "            scores[sc] = np.round(scores[sc],3)\n",
    "\n",
    "    print(time.time()-t) # 6m for 100+1000, 40 for 100+100, 1000+all 7m, 2000+all 14m\n",
    "    return scores \n",
    "\n",
    "def printLatexScores(dataset,modelname,scores):\n",
    "    def addAnd(word):\n",
    "        return word+ \" & \"\n",
    "    def line(li):\n",
    "        li = [addAnd(str(elt)) for elt in li]\n",
    "        result = \"\"\n",
    "        for elt in li:\n",
    "            result = result + elt\n",
    "        result = result[:-2] + \"\\\\\\\\\"\n",
    "        return result\n",
    "    if encodingDict['duration']:\n",
    "        li1 = [dataset,modelname,scores['hc2']['black'],scores['hc2']['green'],scores['hc2']['blue'],scores['hc2']['red'],scores['hc2']['pauses']]\n",
    "    else:\n",
    "        li1 = [dataset,modelname,scores['hc']['black'],scores['hc']['green'],'-',scores['hc']['red'],scores['hc']['pauses']]\n",
    "    li2 = [dataset,modelname,scores['pv'],scores['rv']]\n",
    "    if modelname == \"corpus\":\n",
    "        li2+= [\" - & - & - & - & \"]\n",
    "    else:\n",
    "        li2+= [scores['rm3'],scores['rm4'],scores['rm5'],scores['rm6']]\n",
    "    li3 = [dataset,modelname,scores['cpr'],scores['dpr'],scores['ts']]\n",
    "    print(line(li1))\n",
    "    print(line(li2))\n",
    "    print(line(li3))\n",
    "\n"
   ]
  },
  {
   "cell_type": "code",
   "execution_count": 22,
   "metadata": {
    "colab": {
     "base_uri": "https://localhost:8080/",
     "height": 102
    },
    "colab_type": "code",
    "executionInfo": {
     "elapsed": 432645,
     "status": "ok",
     "timestamp": 1572181648419,
     "user": {
      "displayName": "Paddy Wilson",
      "photoUrl": "https://lh3.googleusercontent.com/a-/AAuE7mCHdy_ZSilqkO8NPYYg9xNxhaNeIwBfnPA4hZBLLA=s64",
      "userId": "00502307669733282628"
     },
     "user_tz": -60
    },
    "id": "fZbRbrymCc55",
    "outputId": "d2f163a2-458c-4d5f-90f3-0d5b87a36229",
    "scrolled": false
   },
   "outputs": [
    {
     "name": "stdout",
     "output_type": "stream",
     "text": [
      "0.8837659358978271\n",
      "0.8847551345825195\n",
      "0.8853423595428467\n",
      "0.8854331970214844\n",
      "1.086143970489502\n"
     ]
    },
    {
     "data": {
      "text/plain": [
       "{'pv': 0.333,\n",
       " 'ts': 0.162,\n",
       " 'cpr': 0.443,\n",
       " 'rm3': 0.8,\n",
       " 'rm4': 0.5,\n",
       " 'rm5': 0.375,\n",
       " 'rm6': 0.3,\n",
       " 'hc': {'black': 0.646,\n",
       "  'green': 0.329,\n",
       "  'blue': 0.0,\n",
       "  'red': 0.024,\n",
       "  'total': 82,\n",
       "  'pauses': 0.098},\n",
       " 'hc2': {'black': 0.589,\n",
       "  'green': 0.3,\n",
       "  'blue': 0.0,\n",
       "  'red': 0.022,\n",
       "  'total': 90,\n",
       "  'pauses': 0.089},\n",
       " 'rv': 0.111,\n",
       " 'dpr': 0.057}"
      ]
     },
     "execution_count": 22,
     "metadata": {},
     "output_type": "execute_result"
    }
   ],
   "source": [
    "scores = getScores(predictions)\n",
    "scores"
   ]
  },
  {
   "cell_type": "markdown",
   "metadata": {},
   "source": [
    "# Appendix"
   ]
  },
  {
   "cell_type": "markdown",
   "metadata": {},
   "source": [
    "### D.1 Evaluation Scores for Corpus"
   ]
  },
  {
   "cell_type": "code",
   "execution_count": 0,
   "metadata": {
    "colab": {},
    "colab_type": "code",
    "id": "dQ_SFSJrwwX0"
   },
   "outputs": [],
   "source": [
    "def getScoresCorpus(predictions):\n",
    "    t = time.time()\n",
    "\n",
    "    note_sequences = getNoteSequences(predictions)\n",
    "    print(time.time()-t)\n",
    "    dur_sequences = getDurSequences(predictions)\n",
    "    print(time.time()-t)\n",
    "    note_dur_sequences = getNoteDurSequences(predictions)\n",
    "    print(time.time()-t)\n",
    "    total_notes = note_sequences.shape[0]*note_sequences.shape[1]\n",
    "    print(time.time()-t)\n",
    "\n",
    "    scores = {}\n",
    "\n",
    "    scores['pv'] = getPV(note_sequences,total_notes)\n",
    "    scores['ts'] = getTS(note_sequences)\n",
    "    scores['cpr'] = getCPR2(note_sequences)\n",
    "    scores['hc'] = getHC(predictions)\n",
    "    scores['hc2'] = getHC2(predictions)\n",
    "    scores['rv'] = getRV(dur_sequences,total_notes)\n",
    "    scores['dpr'] = getDPR(note_dur_sequences)\n",
    "    \n",
    "    for sc in scores.keys():\n",
    "        if not 'hc' in sc:\n",
    "            scores[sc] = np.round(scores[sc],3)\n",
    "\n",
    "    print(time.time()-t) # 6m for 100+1000, 40 for 100+100, 1000+all 7m, 2000+all 14m\n",
    "    return scores "
   ]
  },
  {
   "cell_type": "code",
   "execution_count": 255,
   "metadata": {
    "colab": {
     "base_uri": "https://localhost:8080/",
     "height": 102
    },
    "colab_type": "code",
    "executionInfo": {
     "elapsed": 328886,
     "status": "ok",
     "timestamp": 1572201114290,
     "user": {
      "displayName": "Paddy Wilson",
      "photoUrl": "https://lh3.googleusercontent.com/a-/AAuE7mCHdy_ZSilqkO8NPYYg9xNxhaNeIwBfnPA4hZBLLA=s64",
      "userId": "00502307669733282628"
     },
     "user_tz": -60
    },
    "id": "qSQQuB33zpnA",
    "outputId": "4fad7572-f69c-4620-c09a-6842533082ed",
    "scrolled": true
   },
   "outputs": [
    {
     "name": "stdout",
     "output_type": "stream",
     "text": [
      "1.1531574726104736\n",
      "2.570796489715576\n",
      "4.963390827178955\n",
      "4.963660955429077\n",
      "328.24054646492004\n"
     ]
    }
   ],
   "source": [
    "# corpus xml\n",
    "scores = getScoresCorpus(X)\n",
    "scores"
   ]
  },
  {
   "cell_type": "markdown",
   "metadata": {},
   "source": [
    "### D.2 Krumhansl-Schmuckler Key detection algorithm"
   ]
  },
  {
   "cell_type": "code",
   "execution_count": null,
   "metadata": {},
   "outputs": [],
   "source": [
    "# krumhansl schmuckler\n",
    "# adapted from https://gist.github.com/bmcfee/1f66825cef2eb34c839b42dddbad49fd\n",
    "import scipy.linalg\n",
    "import scipy.stats\n",
    "\n",
    "def ks_key(X, weights='kessler'):\n",
    "    '''Estimate the key from a pitch class distribution\n",
    "    \n",
    "    Parameters\n",
    "    ----------\n",
    "    X : np.ndarray, shape=(12,)\n",
    "        Pitch-class energy distribution.  Need not be normalized\n",
    "        \n",
    "    Returns\n",
    "    -------\n",
    "    major : np.ndarray, shape=(12,)\n",
    "    minor : np.ndarray, shape=(12,)\n",
    "    \n",
    "        For each key (C:maj, ..., B:maj) and (C:min, ..., B:min),\n",
    "        the correlation score for `X` against that key.\n",
    "    '''\n",
    "    X = scipy.stats.zscore(X)\n",
    "    \n",
    "    # Coefficients from Kumhansl and Schmuckler\n",
    "    # as reported here: http://rnhart.net/articles/key-finding/\n",
    "    \n",
    "    # weights as https://musicinformationretrieval.wordpress.com/2017/02/24/state-of-the-art-2/\n",
    "    if weights == 'kessler':\n",
    "        major = np.asarray([6.35, 2.23, 3.48, 2.33, 4.38, 4.09, 2.52, 5.19, 2.39, 3.66, 2.29, 2.88])\n",
    "        minor = np.asarray([6.33, 2.68, 3.52, 5.38, 2.60, 3.53, 2.54, 4.75, 3.98, 2.69, 3.34, 3.17])\n",
    "    elif weights == 'schmuckler':\n",
    "        major = np.asarray([6.35, 2.33, 3.48, 2.33, 4.38, 4.09, 2.52, 5.19, 2.39, 3.66, 2.29, 2.88])\n",
    "        minor = np.asarray([6.33, 2.68, 3.52, 5.38, 2.60, 3.53, 2.54, 4.75, 3.98, 2.69, 3.34, 3.17])\n",
    "    elif weights == 'aarden':\n",
    "        major = np.asarray([17.7661, 0.145624, 14.9265, 0.160186, 19.8049, 11.3587, 0.281248, 22.062, 0.145624, 8.15494, 0.232998, 4.95122])\n",
    "        minor = np.asarray([18.2648, 0.737619, 14.0499, 16.8599, 0.702494, 14.4362, 0.702494, 18.6161, 4.56621, 1.93186, 7.37619, 1.75623])\n",
    "    elif weights == 'sapp':\n",
    "        major = np.asarray([2, 0, 1, 0, 1, 1, 0, 2, 0, 1, 0, 1])\n",
    "        minor = np.asarray([2, 0, 1, 1, 0, 1, 0, 2, 1, 0, 0.5, 0.5])\n",
    "    elif weights == 'bellman':\n",
    "        major = np.asarray([16.8, 0.86, 12.95, 1.41, 13.49, 11.93, 1.25, 20.28, 1.8, 8.04, 0.62, 10.57])\n",
    "        minor = np.asarray([18.16, 0.69, 12.99, 13.34, 1.07, 11.15, 1.38, 21.07, 7.49, 1.53, 0.92, 10.21])\n",
    "    elif weights == 'temperley':\n",
    "        major = np.asarray([0.748, 0.06, 0.488, 0.082, 0.67, 0.46, 0.096, 0.715, 0.104, 0.366, 0.057, 0.4])\n",
    "        minor = np.asarray([0.712, 0.84, 0.474, 0.618, 0.049, 0.46, 0.105, 0.747, 0.404, 0.067, 0.133, 0.33])\n",
    "        \n",
    "        \n",
    "    major = scipy.stats.zscore(major)\n",
    "    minor = scipy.stats.zscore(minor)\n",
    "    \n",
    "    # Generate all rotations of major\n",
    "    major = scipy.linalg.circulant(major)\n",
    "    minor = scipy.linalg.circulant(minor)\n",
    "    \n",
    "    major = major.T.dot(X)\n",
    "    minor = minor.T.dot(X)\n",
    "    \n",
    "    major_max = np.argmax(major)\n",
    "    minor_max = np.argmax(minor)\n",
    "    return major_max if np.max(major) >= np.max(minor) else minor_max+12"
   ]
  },
  {
   "cell_type": "markdown",
   "metadata": {},
   "source": [
    "### D.3 Notes"
   ]
  },
  {
   "cell_type": "markdown",
   "metadata": {},
   "source": [
    "Save model for conversion to Tensorflow.js"
   ]
  },
  {
   "cell_type": "code",
   "execution_count": 23,
   "metadata": {
    "colab": {},
    "colab_type": "code",
    "id": "rNGl2oXjvbx3"
   },
   "outputs": [],
   "source": [
    "# model.save('deploy/tfjs/model_name.h5')"
   ]
  },
  {
   "cell_type": "markdown",
   "metadata": {
    "colab": {},
    "colab_type": "code",
    "id": "dUHng5XMNX8l"
   },
   "source": [
    "Terminal commands to convert model to Tensorflow.js"
   ]
  },
  {
   "cell_type": "code",
   "execution_count": 24,
   "metadata": {
    "colab": {},
    "colab_type": "code",
    "id": "dUHng5XMNX8l"
   },
   "outputs": [],
   "source": [
    "# source env/bin/activate\n",
    "# tensorflowjs_converter --input_format keras tfjs/model_name.h5 tfjs/model_name\n",
    "# \n",
    "# python -m SimpleHTTPServer 8000"
   ]
  }
 ],
 "metadata": {
  "accelerator": "GPU",
  "colab": {
   "collapsed_sections": [],
   "machine_shape": "hm",
   "name": "JamBuddyFinal.ipynb",
   "provenance": [
    {
     "file_id": "11FH9_Uco-C3KYJ6Dlkn4osgVMTzVYBf2",
     "timestamp": 1570215993300
    }
   ],
   "toc_visible": true
  },
  "kernelspec": {
   "display_name": "Python 3",
   "language": "python",
   "name": "python3"
  },
  "language_info": {
   "codemirror_mode": {
    "name": "ipython",
    "version": 3
   },
   "file_extension": ".py",
   "mimetype": "text/x-python",
   "name": "python",
   "nbconvert_exporter": "python",
   "pygments_lexer": "ipython3",
   "version": "3.6.7"
  }
 },
 "nbformat": 4,
 "nbformat_minor": 1
}
