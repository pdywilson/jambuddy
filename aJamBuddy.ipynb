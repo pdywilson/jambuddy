{
 "cells": [
  {
   "cell_type": "code",
   "execution_count": 1,
   "metadata": {
    "colab": {},
    "colab_type": "code",
    "id": "VSrdFgxyDrmG",
    "scrolled": false
   },
   "outputs": [],
   "source": [
    "%matplotlib inline\n",
    "import os\n",
    "import time\n",
    "import numpy as np\n",
    "import matplotlib.pyplot as plt\n",
    "import IPython.display\n",
    "import collections\n",
    "from collections import Counter\n",
    "import seaborn as sns\n",
    "#import pyfluidsynth\n",
    "import random\n",
    "\n",
    "from pathlib import Path\n",
    "import pretty_midi\n",
    "import librosa.display\n",
    "import glob\n",
    "import datetime\n",
    "\n",
    "from music21 import *\n",
    "\n",
    "import tensorflow as tf\n",
    "tf.enable_eager_execution()\n",
    "\n",
    "%load_ext autoreload\n",
    "%autoreload 2\n",
    "\n",
    "folder = 'train/'\n"
   ]
  },
  {
   "cell_type": "code",
   "execution_count": 2,
   "metadata": {
    "colab": {
     "base_uri": "https://localhost:8080/",
     "height": 122
    },
    "colab_type": "code",
    "id": "YbO_nrQpDrmO",
    "outputId": "ba1ca338-a594-49d2-986d-5914746ffb96"
   },
   "outputs": [],
   "source": [
    "# some prep steps\n",
    "# for google colab\n",
    "try:\n",
    "    import google.colab\n",
    "    IN_COLAB = True\n",
    "except:\n",
    "    IN_COLAB = False\n",
    "    \n",
    "if IN_COLAB:\n",
    "    from google.colab import drive\n",
    "    drive.mount('/content/drive/')\n",
    "    data_folder = \"/content/drive/My Drive/Colab Notebooks/data/\"\n",
    "    os.chdir(data_folder)\n",
    "else:\n",
    "    data_folder = \"\"\n"
   ]
  },
  {
   "cell_type": "markdown",
   "metadata": {
    "colab_type": "text",
    "id": "95G80nAcDrmS"
   },
   "source": [
    "# A. Preprocess Midi file\n",
    "#### Choose a harmony and a melody track from a MIDI file"
   ]
  },
  {
   "cell_type": "code",
   "execution_count": 3,
   "metadata": {
    "colab": {},
    "colab_type": "code",
    "id": "tdAtAPtXNX61"
   },
   "outputs": [],
   "source": [
    "def plot_piano_roll(pm, start_pitch, end_pitch, fs=100):\n",
    "    librosa.display.specshow(pm.get_piano_roll(fs)[start_pitch:end_pitch],\n",
    "                             hop_length=1, sr=fs, x_axis='time', y_axis='cqt_note',\n",
    "                             fmin=pretty_midi.note_number_to_hz(start_pitch))"
   ]
  },
  {
   "cell_type": "code",
   "execution_count": 4,
   "metadata": {
    "colab": {},
    "colab_type": "code",
    "id": "iSk5F55lDrmb"
   },
   "outputs": [],
   "source": [
    "## PARAMS\n",
    "# highest note is melody\n",
    "LOW = 48 # C2=48, C3=60, C4=72, C5=84, C6=96\n",
    "HIGH = 84 # range(48,84) = 36 notes \n",
    "\n",
    "# input sizes\n",
    "MELODY = 37 \n",
    "TIMES = 48\n",
    "CHORDS = 12\n"
   ]
  },
  {
   "cell_type": "code",
   "execution_count": 5,
   "metadata": {
    "colab": {},
    "colab_type": "code",
    "id": "eAk1YucbNX67"
   },
   "outputs": [],
   "source": [
    "# krumhansl schmuckler\n",
    "# adapted from https://gist.github.com/bmcfee/1f66825cef2eb34c839b42dddbad49fd\n",
    "import scipy.linalg\n",
    "import scipy.stats\n",
    "\n",
    "def ks_key(X, weights='kessler'):\n",
    "    '''Estimate the key from a pitch class distribution\n",
    "    \n",
    "    Parameters\n",
    "    ----------\n",
    "    X : np.ndarray, shape=(12,)\n",
    "        Pitch-class energy distribution.  Need not be normalized\n",
    "        \n",
    "    Returns\n",
    "    -------\n",
    "    major : np.ndarray, shape=(12,)\n",
    "    minor : np.ndarray, shape=(12,)\n",
    "    \n",
    "        For each key (C:maj, ..., B:maj) and (C:min, ..., B:min),\n",
    "        the correlation score for `X` against that key.\n",
    "    '''\n",
    "    X = scipy.stats.zscore(X)\n",
    "    \n",
    "    # Coefficients from Kumhansl and Schmuckler\n",
    "    # as reported here: http://rnhart.net/articles/key-finding/\n",
    "    \n",
    "    # weights as https://musicinformationretrieval.wordpress.com/2017/02/24/state-of-the-art-2/\n",
    "    if weights == 'kessler':\n",
    "        major = np.asarray([6.35, 2.23, 3.48, 2.33, 4.38, 4.09, 2.52, 5.19, 2.39, 3.66, 2.29, 2.88])\n",
    "        minor = np.asarray([6.33, 2.68, 3.52, 5.38, 2.60, 3.53, 2.54, 4.75, 3.98, 2.69, 3.34, 3.17])\n",
    "    elif weights == 'schmuckler':\n",
    "        major = np.asarray([6.35, 2.33, 3.48, 2.33, 4.38, 4.09, 2.52, 5.19, 2.39, 3.66, 2.29, 2.88])\n",
    "        minor = np.asarray([6.33, 2.68, 3.52, 5.38, 2.60, 3.53, 2.54, 4.75, 3.98, 2.69, 3.34, 3.17])\n",
    "    elif weights == 'aarden':\n",
    "        major = np.asarray([17.7661, 0.145624, 14.9265, 0.160186, 19.8049, 11.3587, 0.281248, 22.062, 0.145624, 8.15494, 0.232998, 4.95122])\n",
    "        minor = np.asarray([18.2648, 0.737619, 14.0499, 16.8599, 0.702494, 14.4362, 0.702494, 18.6161, 4.56621, 1.93186, 7.37619, 1.75623])\n",
    "    elif weights == 'sapp':\n",
    "        major = np.asarray([2, 0, 1, 0, 1, 1, 0, 2, 0, 1, 0, 1])\n",
    "        minor = np.asarray([2, 0, 1, 1, 0, 1, 0, 2, 1, 0, 0.5, 0.5])\n",
    "    elif weights == 'bellman':\n",
    "        major = np.asarray([16.8, 0.86, 12.95, 1.41, 13.49, 11.93, 1.25, 20.28, 1.8, 8.04, 0.62, 10.57])\n",
    "        minor = np.asarray([18.16, 0.69, 12.99, 13.34, 1.07, 11.15, 1.38, 21.07, 7.49, 1.53, 0.92, 10.21])\n",
    "    elif weights == 'temperley':\n",
    "        major = np.asarray([0.748, 0.06, 0.488, 0.082, 0.67, 0.46, 0.096, 0.715, 0.104, 0.366, 0.057, 0.4])\n",
    "        minor = np.asarray([0.712, 0.84, 0.474, 0.618, 0.049, 0.46, 0.105, 0.747, 0.404, 0.067, 0.133, 0.33])\n",
    "        \n",
    "        \n",
    "    major = scipy.stats.zscore(major)\n",
    "    minor = scipy.stats.zscore(minor)\n",
    "    \n",
    "    # Generate all rotations of major\n",
    "    major = scipy.linalg.circulant(major)\n",
    "    minor = scipy.linalg.circulant(minor)\n",
    "    \n",
    "    major = major.T.dot(X)\n",
    "    minor = minor.T.dot(X)\n",
    "    \n",
    "    major_max = np.argmax(major)\n",
    "    minor_max = np.argmax(minor)\n",
    "    return major_max if np.max(major) >= np.max(minor) else minor_max+12"
   ]
  },
  {
   "cell_type": "code",
   "execution_count": 6,
   "metadata": {
    "colab": {},
    "colab_type": "code",
    "id": "eYnJdXBYDrmf"
   },
   "outputs": [],
   "source": [
    "# MIDI processing\n",
    "def getTracks(file):\n",
    "    pm_harmony = pretty_midi.PrettyMIDI(folder+'chords/'+file).instruments[0].notes\n",
    "    pm_melody = pretty_midi.PrettyMIDI(folder+'melody/'+file).instruments[0].notes\n",
    "    return {'melody': pm_melody, 'harmony': pm_harmony}\n",
    "\n",
    "def getMelodyAndHarmonyBass(file):\n",
    "    #already midi file with one piano and one melody\n",
    "    pm = pretty_midi.PrettyMIDI(file)\n",
    "    pm.remove_invalid_notes()\n",
    "    for i, elt in enumerate(pm.instruments):\n",
    "        if 'piano' in pm.instruments[i].name.lower():\n",
    "            piano = pm.instruments[i].notes\n",
    "        elif 'bass' in pm.instruments[i].name.lower():\n",
    "            bass = pm.instruments[i].notes\n",
    "    \n",
    "    result = {'melody': bass, 'harmony': piano}\n",
    "    \n",
    "    \n",
    "    return result\n",
    "\n",
    "\n",
    "def getMelodyAndHarmony(file):\n",
    "    def padAndAdd(a,b):\n",
    "        return sorted(a+b,key= lambda x:x.start)\n",
    "    \n",
    "    pm = pretty_midi.PrettyMIDI(file)\n",
    "    pm.remove_invalid_notes()\n",
    "    print(\"\\nEasy Processing: \"+file)\n",
    "    \n",
    "    if len(pm.instruments) == 1:\n",
    "        print(\"Both: Using only track for both harmony and melody\")\n",
    "        pianoroll = pm.instruments[0].notes\n",
    "        return {'melody': pianoroll, 'harmony': pianoroll}\n",
    "    \n",
    "    else:\n",
    "        maxlen = 0\n",
    "        pianos = []\n",
    "        guitars = []\n",
    "        melodies = []\n",
    "        for i, elt in enumerate(pm.instruments):\n",
    "            #if pm.instruments[i].is_drum:\n",
    "            #    continue\n",
    "            pianoroll = pm.instruments[i].get_piano_roll().T\n",
    "            numnotes = pianoroll.nonzero()[0].shape[0]\n",
    "            if numnotes > maxlen:\n",
    "                mostnotes = i\n",
    "                maxlen = numnotes\n",
    "            if 'piano' in pm.instruments[i].name.lower():             #if pm.instruments[i].program in range(8): # MIDI 0..7 are pianos\n",
    "                pianos.append((pm.instruments[i].notes,numnotes))\n",
    "            if 'guitar' in pm.instruments[i].name.lower():             #if pm.instruments[i].program in range(24,32):\n",
    "                guitars.append((pm.instruments[i].notes,numnotes))\n",
    "            if 'melody' in pm.instruments[i].name.lower():\n",
    "                # melodies.append((pianoroll,numnotes)) do i really want to padandadd two melodies always??\n",
    "                melodies.append(pm.instruments[i].notes)\n",
    "\n",
    "        if pianos != []:\n",
    "            print(\"Harmony: Using piano with most notes as harmony of\", len(pianos))\n",
    "            pianowithmostnotes = max(pianos, key=lambda x: x[1])\n",
    "            harmonytrack = pianowithmostnotes[0]\n",
    "        elif guitars != []:\n",
    "            print(\"Harmony: Using guitar with most notes as harmony of\", len(guitars))\n",
    "            guitarwithmostnotes = max(guitars, key=lambda x: x[1])\n",
    "            harmonytrack = guitarwithmostnotes[0]\n",
    "        else:\n",
    "            print(\"Error: no piano or guitar track found\")\n",
    "            harmonytrack = pm.instruments[0].notes\n",
    "            return\n",
    "\n",
    "        if len(melodies) == 1:\n",
    "            print(\"Melody: using only melody track as melody\")\n",
    "            melodytrack = melodies[0]\n",
    "        elif len(melodies) == 2:\n",
    "            print(\"Melody: padding and adding two melodies to one\")\n",
    "            melodytrack = padAndAdd(melodies[0], melodies[1])\n",
    "        elif len(melodies) > 2:\n",
    "            print(\"Melody: more than 2 melody tracks. padding and adding first two of # \", len(melodies),\"melodies.\")\n",
    "            melodytrack = padAndAdd(melodies[0], melodies[1])\n",
    "        else:\n",
    "            print(\"Error: no melody track found.\")\n",
    "            melodytrack = pm.instruments[0].notes\n",
    "            return\n",
    "\n",
    "        return {'melody': melodytrack, 'harmony': harmonytrack}\n",
    "\n",
    "def oneHot(idx, arraysize):\n",
    "    if idx >= arraysize:\n",
    "        print(\"error idx > arraysize\")\n",
    "        return\n",
    "    ar = np.zeros(arraysize)\n",
    "    ar[idx] = 1\n",
    "    return ar\n",
    "\n",
    "def processMidi(file):\n",
    "    pm = pretty_midi.PrettyMIDI(folder+'chords/'+file)\n",
    "    #tracks = getMelodyAndHarmony(file)\n",
    "    #tracks = getMelodyAndHarmonyBass(file) //changing, this doesnt work anymore -> DACBass\n",
    "    tracks = getTracks(file)\n",
    "\n",
    "    pmnotes = tracks['melody']\n",
    "    notes, times = [], []\n",
    "    currenttime = 0\n",
    "    for i, note in enumerate(pmnotes):\n",
    "        if note.start > currenttime:\n",
    "            notes.append(MELODY-1)\n",
    "            duration = pm.time_to_tick(note.start-currenttime)\n",
    "            times.append(duration)\n",
    "        if note.pitch in range(LOW,HIGH):\n",
    "            notes.append(note.pitch - LOW)\n",
    "        else:\n",
    "            notes.append(note.pitch % 12)\n",
    "        if i < len(pmnotes)-1 and note.end > pmnotes[i+1].start: # overlap with next note\n",
    "            times.append(pm.time_to_tick(pmnotes[i+1].start - note.start))\n",
    "            currenttime = pmnotes[i+1].start\n",
    "        else:\n",
    "            times.append(pm.time_to_tick(note.end-note.start))\n",
    "            currenttime = note.end\n",
    "    times = np.array(np.round(np.array(times)/pm.resolution*12),dtype=np.int32)\n",
    "    \n",
    "    # getChords\n",
    "    pmnotes = tracks['harmony']\n",
    "    notesDict = {}\n",
    "    for i, note in enumerate(pmnotes):\n",
    "        startbeat = int(pm.time_to_tick(note.start)/pm.resolution)\n",
    "        endbeat = int(pm.time_to_tick(note.end)/pm.resolution)\n",
    "        if startbeat == endbeat:\n",
    "            endbeat += 1\n",
    "        for j in range(startbeat, endbeat): #evry beat\n",
    "            notesDict[j] = notesDict.get(j,np.zeros(12)) + oneHot(note.pitch % 12,12)\n",
    "    \n",
    "\n",
    "    # append for every beat (timestep) a vector. either np.zeros or chordinfovector\n",
    "    chords = []\n",
    "    for i in range(max(notesDict)): \n",
    "        chords.append(notesDict.get(i,np.zeros(12)))\n",
    "    chordsByBeat = np.array(chords)\n",
    "    \n",
    "\n",
    "    # connect notes and chords\n",
    "    currbeat = 0\n",
    "    newchords = []\n",
    "    for time in times:\n",
    "        beat = int(currbeat/12)\n",
    "        newchord = np.zeros(12)\n",
    "        for j in range(int((time)/12)): \n",
    "            if j+beat < chordsByBeat.shape[0]:\n",
    "                newchord += chordsByBeat[j+beat]\n",
    "        newchords.append(newchord)\n",
    "        currbeat += time\n",
    "    chords = np.array(newchords)\n",
    "    \n",
    "    \n",
    "     #cleanup\n",
    "    times[np.where(times > 48)[0]] = 48\n",
    "    notes = np.array(notes)[np.where(times > 0)[0]]\n",
    "    chords = chords[np.where(times > 0)[0]]\n",
    "    times = times[np.where(times > 0)[0]]\n",
    "    times = times - 1 # reshift to 0..47\n",
    "    \n",
    "    \n",
    "    #new Chord and key analysis, first only key analysis\n",
    "    algkey = ks_key(pm.get_pitch_class_histogram(), 'aarden')\n",
    "    key = oneHot(algkey,24)\n",
    "    \n",
    "    \n",
    "    \n",
    "    \n",
    "    return notes, times, chords, chordsByBeat, key"
   ]
  },
  {
   "cell_type": "code",
   "execution_count": 7,
   "metadata": {
    "colab": {},
    "colab_type": "code",
    "id": "0kvKT9W1Drmi"
   },
   "outputs": [],
   "source": [
    "# Input representation\n",
    "def getCircleOfThirds(note):\n",
    "    \"\"\"input: note, scalar in [0,C)\n",
    "    output: array, size (11,) including 3 bits for octave, 1 for rest\n",
    "    \"\"\"\n",
    "    circleMajor = lambda x: x%4\n",
    "    circleMinor = lambda x: x%3\n",
    "    representation = np.zeros(11)\n",
    "    if note < MELODY-1:\n",
    "        absnote = note % 12\n",
    "        octave = int(note/12)\n",
    "        representation[7+octave] = 1\n",
    "        representation[circleMajor(absnote)] = 1\n",
    "        representation[4+circleMinor(absnote)] = 1\n",
    "    else:\n",
    "        representation[-1] = 1\n",
    "    return representation\n",
    "\n",
    "def getDuration(duration):\n",
    "    \"\"\"input size (1,) in [0,48)\n",
    "       output size (6,)\n",
    "    \"\"\"\n",
    "    return np.unpackbits(np.uint8(duration))[2:]\n",
    "\n",
    "def getChord(chord):\n",
    "    \"\"\"input size (12,)\n",
    "    outputs current and next chord shape (7,)\n",
    "    \"\"\"\n",
    "    repre = np.zeros(7)\n",
    "    for i, elt in enumerate(chord):\n",
    "        x = elt * getCircleOfThirds(i)[:7]\n",
    "        repre += x\n",
    "    return repre\n",
    "\n",
    "def getFeatureVectors(processedMidi, modulation=False):\n",
    "    \"\"\"input size [7(pitch)+2(octaves)+1(Rest)]+6(duration)+7(chords)+7(nextchords)=30=Fsize #TODO: maybe change chords\n",
    "    Creates Feature Vector from notes lists.\n",
    "    Input: notes, times, chords from processMIDI\n",
    "    Output: features array, size: (N, Fsize)  Fsize varies\n",
    "    \"\"\"\n",
    "    notes, times, chords, chordsByBeat, key = processedMidi\n",
    "    features = []\n",
    "    for i, note in enumerate(notes[:-1]):\n",
    "        feature = np.empty(0)\n",
    "        if encodingDict['melody']:\n",
    "            if notes[i] < MELODY: # pitch or pause bit\n",
    "                feature = np.concatenate((feature, oneHot(notes[i],MELODY)))\n",
    "            else:\n",
    "                print(\"melody over 37\")\n",
    "                feature = np.concatenate((feature, np.zeros(MELODY)))\n",
    "            \n",
    "        if encodingDict['melodyModulo']: \n",
    "            if notes[i] < MELODY-1: # only pitch bit or zeros if pause\n",
    "                feature = np.concatenate((feature, oneHot(notes[i]%12,12)))\n",
    "            else:\n",
    "                feature = np.concatenate((feature, np.zeros(12)))\n",
    "        if encodingDict['melodyEncoded']: # pitch+octave+rest\n",
    "            feature = np.concatenate((feature,getCircleOfThirds(note)))\n",
    "        if encodingDict['duration']:\n",
    "            feature = np.concatenate((feature,oneHot(int(times[i]),48)))  \n",
    "        if encodingDict['durationEncoded']:\n",
    "            feature = np.concatenate((feature,getDuration(times[i])))\n",
    "        if encodingDict['chordsNormally']:\n",
    "            feature = np.concatenate((feature,chords[i]))\n",
    "            feature = np.concatenate((feature,chords[i+1]))\n",
    "        if encodingDict['chordsEncoded']:\n",
    "            feature = np.concatenate((feature,getChord(chords[i])))  # chord ERROR: MAKE THIS BETTER\n",
    "            feature = np.concatenate((feature,getChord(chords[i+1])))   # chord ERROR: MAKE THIS BETTER\n",
    "        if encodingDict['key']:\n",
    "            feature = np.concatenate((feature,key))\n",
    "        features.append(feature)\n",
    "    features = np.array(features)\n",
    "    return features.astype('float32')\n",
    "\n",
    "def getInputSequences(processedMidi, padding=False, seq_len=16):\n",
    "    \"\"\"Create Net Input.\n",
    "    Input: features from getFeatureVectors or getEncodedFeatureVectors\n",
    "    Output: \n",
    "        - Sequences, size: (157, seq_len)\n",
    "        - Labels, one-hot, size: (MELODY,)\n",
    "    \"\"\"\n",
    "    features = getFeatureVectors(processedMidi)\n",
    "    notes, times, _, _, _ = processedMidi\n",
    "    sequences = []\n",
    "    labels = []\n",
    "    i = 0\n",
    "    if padding == True:\n",
    "        padded_notes = np.concatenate((np.zeros((seq_len,features.shape[1])),features[:seq_len]))\n",
    "        for j in range(seq_len):\n",
    "            sequences.append(padded_notes[j:j+seq_len])\n",
    "            label_pitch = notes[j]\n",
    "            label_duration = times[j]\n",
    "            labels.append((label_pitch, label_duration))\n",
    "    while i+seq_len < features.shape[0]:\n",
    "        sequences.append(features[i:i+seq_len])\n",
    "        label_pitch = notes[i+seq_len]\n",
    "        label_duration = times[i+seq_len]\n",
    "        labels.append((label_pitch, label_duration))\n",
    "        i += 1     # or += seq_len\n",
    "        \n",
    "    sequences = np.array(sequences)\n",
    "    labels = np.array(labels)\n",
    "    return sequences, labels\n",
    "\n",
    "def modulate(processedMidi, modulate=0):\n",
    "    \"\"\"modulates downwards\"\"\"\n",
    "    notes, times, chords, chordsByBeat, key = processedMidi\n",
    "    i = modulate\n",
    "    modnotes = notes - i\n",
    "    modnotes[np.where(modnotes == 36 - i)[0]] = 36\n",
    "    modnotes[np.where(modnotes < 0)[0]] = 36\n",
    "\n",
    "    modchords = np.append(chords[:,i:],chords[:,:i],axis=1)\n",
    "\n",
    "    if chordsByBeat is not None:\n",
    "        modcbb = np.append(chordsByBeat[:,i:],chordsByBeat[:,:i],axis=1)\n",
    "    else:\n",
    "        modcbb = None\n",
    "\n",
    "    processedMidi = modnotes, times, modchords, modcbb, key\n",
    "    return processedMidi"
   ]
  },
  {
   "cell_type": "code",
   "execution_count": 18,
   "metadata": {
    "colab": {},
    "colab_type": "code",
    "id": "mVE0og8fDrmk"
   },
   "outputs": [],
   "source": [
    "# Choose encoding and load files\n",
    "encodingDict = {\n",
    "    'melody': True,\n",
    "    'melodyModulo': True,\n",
    "    'melodyEncoded': False,\n",
    "    'duration': False,\n",
    "    'durationEncoded': False,\n",
    "    'chordsNormally': True,\n",
    "    'chordsEncoded': False,\n",
    "    'key': False\n",
    "}"
   ]
  },
  {
   "cell_type": "markdown",
   "metadata": {
    "colab_type": "text",
    "id": "0jBnOuprDrmn"
   },
   "source": [
    "# B. Load Data"
   ]
  },
  {
   "cell_type": "code",
   "execution_count": 8,
   "metadata": {
    "colab": {
     "base_uri": "https://localhost:8080/",
     "height": 187
    },
    "colab_type": "code",
    "id": "0SedqNjRDrmo",
    "outputId": "95b6a8f4-84ec-44d8-ad19-99eb596a65ec",
    "scrolled": false
   },
   "outputs": [
    {
     "data": {
      "text/plain": [
       "['014.mid', '028.mid', '029.mid', '015.mid']"
      ]
     },
     "execution_count": 8,
     "metadata": {},
     "output_type": "execute_result"
    }
   ],
   "source": [
    "# gets all .mid filenames from folder train/ in one line\n",
    "folder = 'datasets/trainData/'\n",
    "files = [file for file in os.listdir(folder+'chords')]\n",
    "files[:4]"
   ]
  },
  {
   "cell_type": "code",
   "execution_count": 16,
   "metadata": {},
   "outputs": [
    {
     "data": {
      "text/plain": [
       "(60, 83)"
      ]
     },
     "execution_count": 16,
     "metadata": {},
     "output_type": "execute_result"
    }
   ],
   "source": [
    "# min and max note\n",
    "min([note.pitch for file in files for note in pretty_midi.PrettyMIDI(folder+'melody/'+file).instruments[0].notes]),\\\n",
    "max([note.pitch for file in files for note in pretty_midi.PrettyMIDI(folder+'melody/'+file).instruments[0].notes]),\\\n"
   ]
  },
  {
   "cell_type": "code",
   "execution_count": 19,
   "metadata": {
    "colab": {
     "base_uri": "https://localhost:8080/",
     "height": 1000
    },
    "colab_type": "code",
    "id": "piJAllN6Drmr",
    "outputId": "e820146b-6bc5-4b3c-8a37-2ae149e86e23",
    "scrolled": true
   },
   "outputs": [
    {
     "data": {
      "text/plain": [
       "((1358, 8, 73), (1358, 2))"
      ]
     },
     "execution_count": 19,
     "metadata": {},
     "output_type": "execute_result"
    }
   ],
   "source": [
    "modulation = False\n",
    "\n",
    "for i, file in enumerate(files):\n",
    "#     print(i, file)\n",
    "    processedMidi = processMidi(file)\n",
    "    if modulation == True:\n",
    "        for mod_i in range(12): # modulate\n",
    "            processedMidi = modulate(processedMidi, modulate = mod_i)\n",
    "            sequences, labels = getInputSequences(processedMidi, padding=False, seq_len=8)\n",
    "            if labels.shape[0]>0:\n",
    "                X = sequences if i==0 else np.concatenate((X, sequences))\n",
    "                y = labels if i==0 else np.concatenate((y, labels))\n",
    "    else:\n",
    "        sequences, labels = getInputSequences(processedMidi, padding=False, seq_len=8)\n",
    "        if labels.shape[0] > 0:\n",
    "            X = sequences if i==0 else np.concatenate((X, sequences))\n",
    "            y = labels if i==0 else np.concatenate((y, labels))\n",
    "\n",
    "X.shape, y.shape"
   ]
  },
  {
   "cell_type": "code",
   "execution_count": 20,
   "metadata": {
    "colab": {},
    "colab_type": "code",
    "id": "C9duwFR6NX7f"
   },
   "outputs": [],
   "source": [
    "def writeMidiSample(notes, times, file, originalfile, tempo=120, resolution=12):\n",
    "    pm = pretty_midi.PrettyMIDI(resolution=resolution, initial_tempo=tempo)\n",
    "    pminst = pretty_midi.Instrument(program=0)\n",
    "    currtime = 0\n",
    "    for i, note in enumerate(notes):\n",
    "        if note != MELODY-1:\n",
    "            pitch = note+LOW\n",
    "            start = pm.tick_to_time(int(currtime))\n",
    "            end = pm.tick_to_time(int(currtime+times[i]))\n",
    "            if end > start:\n",
    "                pmnote = pretty_midi.Note(velocity=100, pitch = pitch, start=start, end=end)\n",
    "                pminst.notes.append(pmnote)\n",
    "        currtime += times[i]+1\n",
    "    pm.instruments.append(pminst)\n",
    "\n",
    "    pm.write(file)\n",
    "    return pm"
   ]
  },
  {
   "cell_type": "code",
   "execution_count": 22,
   "metadata": {
    "colab": {
     "base_uri": "https://localhost:8080/",
     "height": 372
    },
    "colab_type": "code",
    "id": "3mOyNUd7NX7i",
    "outputId": "44dcf729-959a-4654-fb76-c0d8be06eec2"
   },
   "outputs": [
    {
     "name": "stdout",
     "output_type": "stream",
     "text": [
      "[36, 19, 24, 26, 23, 19, 19, 36, 19]\n",
      "[0, 7, 0, 2, 11, 7, 7, 0, 5]\n"
     ]
    },
    {
     "data": {
      "text/html": [
       "\n",
       "                <audio  controls=\"controls\" >\n",
       "                    <source src=\"data:audio/wav;base64,UklGRhD5AwBXQVZFZm10IBAAAAABAAEA4KsAAMBXAQACABAAZGF0Yez4AwAAAAAAAAAAAAAAAAAAAAAAAAAAAAAAAAAAAAAAAAAAAAAAAAAAAAAAAAAAAAAAAAAAAAAAAAAAAAAAAAAAAAAAAAAAAAAAAAAAAAAAAAAAAAAAAAAAAAAAAAAAAAAAAAAAAAAAAAAAAAAAAAAAAAAAAAAAAAAAAAAAAAAAAAAAAAAAAAAAAAAAAAAAAAAAAAAAAAAAAAAAAAAAAAAAAAAAAAAAAAAAAAAAAAAAAAAAAAAAAAAAAAAAAAAAAAAAAAAAAAAAAAAAAAAAAAAAAAAAAAAAAAAAAAAAAAAAAAAAAAAAAAAAAAAAAAAAAAAAAAAAAAAAAAAAAAAAAAAAAAAAAAAAAAAAAAAAAAAAAAAAAAAAAAAAAAAAAAAAAAAAAAAAAAAAAAAAAAAAAAAAAAAAAAAAAAAAAAAAAAAAAAAAAAAAAAAAAAAAAAAAAAAAAAAAAAAAAAAAAAAAAAAAAAAAAAAAAAAAAAAAAAAAAAAAAAAAAAAAAAAAAAAAAAAAAAAAAAAAAAAAAAAAAAAAAAAAAAAAAAAAAAAAAAAAAAAAAAAAAAAAAAAAAAAAAAAAAAAAAAAAAAAAAAAAAAAAAAAAAAAAAAAAAAAAAAAAAAAAAAAAAAAAAAAAAAAAAAAAAAAAAAAAAAAAAAAAAAAAAAAAAAAAAAAAAAAAAAAAAAAAAAAAAAAAAAAAAAAAAAAAAAAAAAAAAAAAAAAAAAAAAAAAAAAAAAAAAAAAAAAAAAAAAAAAAAAAAAAAAAAAAAAAAAAAAAAAAAAAAAAAAAAAAAAAAAAAAAAAAAAAAAAAAAAAAAAAAAAAAAAAAAAAAAAAAAAAAAAAAAAAAAAAAAAAAAAAAAAAAAAAAAAAAAAAAAAAAAAAAAAAAAAAAAAAAAAAAAAAAAAAAAAAAAAAAAAAAAAAAAAAAAAAAAAAAAAAAAAAAAAAAAAAAAAAAAAAAAAAAAAAAAAAAAAAAAAAAAAAAAAAAAAAAAAAAAAAAAAAAAAAAAAAAAAAAAAAAAAAAAAAAAAAAAAAAAAAAAAAAAAAAAAAAAAAAAAAAAAAAAAAAAAAAAAAAAAAAAAAAAAAAAAAAAAAAAAAAAAAAAAAAAAAAAAAAAAAAAAAAAAAAAAAAAAAAAAAAAAAAAAAAAAAAAAAAAAAAAAAAAAAAAAAAAAAAAAAAAAAAAAAAAAAAAAAAAAAAAAAAAAAAAAAAAAAAAAAAAAAAAAAAAAAAAAAAAAAAAAAAAAAAAAAAAAAAAAAAAAAAAAAAAAAAAAAAAAAAAAAAAAAAAAAAAAAAAAAAAAAAAAAAAAAAAAAAAAAAAAAAAAAAAAAAAAAAAAAAAAAAAAAAAAAAAAAAAAAAAAAAAAAAAAAAAAAAAAAAAAAAAAAAAAAAAAAAAAAAAAAAAAAAAAAAAAAAAAAAAAAAAAAAAAAAAAAAAAAAAAAAAAAAAAAAAAAAAAAAAAAAAAAAAAAAAAAAAAAAAAAAAAAAAAAAAAAAAAAAAAAAAAAAAAAAAAAAAAAAAAAAAAAAAAAAAAAAAAAAAAAAAAAAAAAAAAAAAAAAAAAAAAAAAAAAAAAAAAAAAAAAAAAAAAAAAAAAAAAAAAAAAAAAAAAAAAAAAAAAAAAAAAAAAAAAAAAAAAAAAAAAAAAAAAAAAAAAAAAAAAAAAAAAAAAAAAAAAAAAAAAAAAAAAAAAAAAAAAAAAAAAAAAAAAAAAAAAAAAAAAAAAAAAAAAAAAAAAAAAAAAAAAAAAAAAAAAAAAAAAAAAAAAAAAAAAAAAAAAAAAAAAAAAAAAAAAAAAAAAAAAAAAAAAAAAAAAAAAAAAAAAAAAAAAAAAAAAAAAAAAAAAAAAAAAAAAAAAAAAAAAAAAAAAAAAAAAAAAAAAAAAAAAAAAAAAAAAAAAAAAAAAAAAAAAAAAAAAAAAAAAAAAAAAAAAAAAAAAAAAAAAAAAAAAAAAAAAAAAAAAAAAAAAAAAAAAAAAAAAAAAAAAAAAAAAAAAAAAAAAAAAAAAAAAAAAAAAAAAAAAAAAAAAAAAAAAAAAAAAAAAAAAAAAAAAAAAAAAAAAAAAAAAAAAAAAAAAAAAAAAAAAAAAAAAAAAAAAAAAAAAAAAAAAAAAAAAAAAAAAAAAAAAAAAAAAAAAAAAAAAAAAAAAAAAAAAAAAAAAAAAAAAAAAAAAAAAAAAAAAAAAAAAAAAAAAAAAAAAAAAAAAAAAAAAAAAAAAAAAAAAAAAAAAAAAAAAAAAAAAAAAAAAAAAAAAAAAAAAAAAAAAAAAAAAAAAAAAAAAAAAAAAAAAAAAAAAAAAAAAAAAAAAAAAAAAAAAAAAAAAAAAAAAAAAAAAAAAAAAAAAAAAAAAAAAAAAAAAAAAAAAAAAAAAAAAAAAAAAAAAAAAAAAAAAAAAAAAAAAAAAAAAAAAAAAAAAAAAAAAAAAAAAAAAAAAAAAAAAAAAAAAAAAAAAAAAAAAAAAAAAAAAAAAAAAAAAAAAAAAAAAAAAAAAAAAAAAAAAAAAAAAAAAAAAAAAAAAAAAAAAAAAAAAAAAAAAAAAAAAAAAAAAAAAAAAAAAAAAAAAAAAAAAAAAAAAAAAAAAAAAAAAAAAAAAAAAAAAAAAAAAAAAAAAAAAAAAAAAAAAAAAAAAAAAAAAAAAAAAAAAAAAAAAAAAAAAAAAAAAAAAAAAAAAAAAAAAAAAAAAAAAAAAAAAAAAAAAAAAAAAAAAAAAAAAAAAAAAAAAAAAAAAAAAAAAAAAAAAAAAAAAAAAAAAAAAAAAAAAAAAAAAAAAAAAAAAAAAAAAAAAAAAAAAAAAAAAAAAAAAAAAAAAAAAAAAAAAAAAAAAAAAAAAAAAAAAAAAAAAAAAAAAAAAAAAAAAAAAAAAAAAAAAAAAAAAAAAAAAAAAAAAAAAAAAAAAAAAAAAAAAAAAAAAAAAAAAAAAAAAAAAAAAAAAAAAAAAAAAAAAAAAAAAAAAAAAAAAAAAAAAAAAAAAAAAAAAAAAAAAAAAAAAAAAAAAAAAAAAAAAAAAAAAAAAAAAAAAAAAAAAAAAAAAAAAAAAAAAAAAAAAAAAAAAAAAAAAAAAAAAAAAAAAAAAAAAAAAAAAAAAAAAAAAAAAAAAAAAAAAAAAAAAAAAAAAAAAAAAAAAAAAAAAAAAAAAAAAAAAAAAAAAAAAAAAAAAAAAAAAAAAAAAAAAAAAAAAAAAAAAAAAAAAAAAAAAAAAAAAAAAAAAAAAAAAAAAAAAAAAAAAAAAAAAAAAAAAAAAAAAAAAAAAAAAAAAAAAAAAAAAAAAAAAAAAAAAAAAAAAAAAAAAAAAAAAAAAAAAAAAAAAAAAAAAAAAAAAAAAAAAAAAAAAAAAAAAAAAAAAAAAAAAAAAAAAAAAAAAAAAAAAAAAAAAAAAAAAAAAAAAAAAAAAAAAAAAAAAAAAAAAAAAAAAAAAAAAAAAAAAAAAAAAAAAAAAAAAAAAAAAAAAAAAAAAAAAAAAAAAAAAAAAAAAAAAAAAAAAAAAAAAAAAAAAAAAAAAAAAAAAAAAAAAAAAAAAAAAAAAAAAAAAAAAAAAAAAAAAAAAAAAAAAAAAAAAAAAAAAAAAAAAAAAAAAAAAAAAAAAAAAAAAAAAAAAAAAAAAAAAAAAAAAAAAAAAAAAAAAAAAAAAAAAAAAAAAAAAAAAAAAAAAAAAAAAAAAAAAAAAAAAAAAAAAAAAAAAAAAAAAAAAAAAAAAAAAAAAAAAAAAAAAAAAAAAAAAAAAAAAAAAAAAAAAAAAAAAAAAAAAAAAAAAAAAAAAAAAAAAAAAAAAAAAAAAAAAAAAAAAAAAAAAAAAAAAAAAAAAAAAAAAAAAAAAAAAAAAAAAAAAAAAAAAAAAAAAAAAAAAAAAAAAAAAAAAAAAAAAAAAAAAAAAAAAAAAAAAAAAAAAAAAAAAAAAAAAAAAAAAAAAAAAAAAAAAAAAAAAAAAAAAAAAAAAAAAAAAAAAAAAAAAAAAAAAAAAAAAAAAAAAAAAAAAAAAAAAAAAAAAAAAAAAAAAAAAAAAAAAAAAAAAAAAAAAAAAAAAAAAAAAAAAAAAAAAAAAAAAAAAAAAAAAAAAAAAAAAAAAAAAAAAAAAAAAAAAAAAAAAAAAAAAAAAAAAAAAAAAAAAAAAAAAAAAAAAAAAAAAAAAAAAAAAAAAAAAAAAAAAAAAAAAAAAAAAAAAAAAAAAAAAAAAAAAAAAAAAAAAAAAAAAAAAAAAAAAAAAAAAAAAAAAAAAAAAAAAAAAAAAAAAAAAAAAAAAAAAAAAAAAAAAAAAAAAAAAAAAAAAAAAAAAAAAAAAAAAAAAAAAAAAAAAAAAAAAAAAAAAAAAAAAAAAAAAAAAAAAAAAAAAAAAAAAAAAAAAAAAAAAAAAAAAAAAAAAAAAAAAAAAAAAAAAAAAAAAAAAAAAAAAAAAAAAAAAAAAAAAAAAAAAAAAAAAAAAAAAAAAAAAAAAAAAAAAAAAAAAAAAAAAAAAAAAAAAAAAAAAAAAAAAAAAAAAAAAAAAAAAAAAAAAAAAAAAAAAAAAAAAAAAAAAAAAAAAAAAAAAAAAAAAAAAAAAAAAAAAAAAAAAAAAAAAAAAAAAAAAAAAAAAAAAAAAAAAAAAAAAAAAAAAAAAAAAAAAAAAAAAAAAAAAAAAAAAAAAAAAAAAAAAAAAAAAAAAAAAAAAAAAAAAAAAAAAAAAAAAAAAAAAAAAAAAAAAAAAAAAAAAAAAAAAAAAAAAAAAAAAAAAAAAAAAAAAAAAAAAAAAAAAAAAAAAAAAAAAAAAAAAAAAAAAAAAAAAAAAAAAAAAAAAAAAAAAAAAAAAAAAAAAAAAAAAAAAAAAAAAAAAAAAAAAAAAAAAAAAAAAAAAAAAAAAAAAAAAAAAAAAAAAAAAAAAAAAAAAAAAAAAAAAAAAAAAAAAAAAAAAAAAAAAAAAAAAAAACoHTg5nFW8cYCM0KucwcjfRPf5D9EmvTypVYVpPX/FjQmhAbOdvNHMldrd46Hq2fCF+Jn/Gf/9/0X89f0J+43wfe/l4cXaLc0hwq2y3aG9k11/xWsNVUFCdSq5EiD4wOKsx/iovJEMdQBYqDwkI4QC6+Zfyfut25IXdr9b6z2zJCcPYvN22HLGbq12mZ6G+nGOYXJSskFWNWYq8h4CFpoMvgh6BcoAtgE6A1YDDgRWDzITmhmGJOoxxjwKT6pYmm7SfjqSyqRuvxLSqusjAGMeWzTzUBdvr4ero++8Z9z7+YwWFDJ0TpRqXIW4oJS+2NRw8UkJSSBlOoFPlWOJdlGL2ZgZrwG4icih1z3cXev17f32dflV/p3+Sfxd/N37xfEd7OnnMdv9z1HBQbXNpQmXAYPFb2FZ5UdlL/EXnP585KTOJLMcl5h7sF98QxQmjAoD7X/RI7UDmTd902LvRKMu+xIS+f7izsiat2qfWohyesZmYldSRaY5Zi6aIU4ZihNSCqoHmgIiAj4D9gNGBCoOohKiGCYnKi+iOYZIxllaazZ6So6Co9a2Ms1+5bL+sxRrMs9Jv2UvgP+dI7l71ffyeA70K0xHbGM8fqSZkLfozZzqlQK9GgEwUUmZXclwzYadlyWmWbQtxJnTjdkF5PnvXfA1+3n5Jf01/7H4lfvl8aHt1eSB3bHRace5tKWoPZqRh6lzmV5tSD01ER0BBCTuhNBAuWieEIJUZkRJ+C2IEQ/0m9hHvCugV4TrafdPkzHTGMsAjuk20s65aqUekfp8Cm9eWAZOCj12MlYkshySFfoM9gmCB6YDXgCyB5oEGg4mEcIa4iGCLZY7GkX6VjJnsnZuilafVrFiyGrgVvkTEpMou0d7Xrt6Y5Zjsp/PA+twB9wgLEBIXBx7jJKIrPjKxOPc+CkXmSoZQ5VX/WtBfVGSIaGhs8G8fc/J1Znh5eit8eH1hfuV+A3+7fg1++nyDe6l5bnfTdNpxhm7ZatZmgmLeXe9YuFM/TodIlUJuPBY2ky/pKB8iOhs/FDQNHgYF/+v32PDS6d3i/9s/1aDOKsjgwcm76LVCsN2qu6XjoFacGpgxlJ+QZY2IigmI64UuhNSC34FPgSWBYIEBggeDcYQ/hm6I/IrpjTGR0pTImBKdq6GPprurK7HZtsO84sIyya7PUNYU3fTj6+ry8QT5GwAzB0UOSxVAHB8j4SmBMPs2SD1kQ0pJ9k5hVIlZal7+YkNnNWvRbhVy/HSGd7B5eHvefN99e36yfoN+7332fJh72Hm1dzN1U3IXb4Jrl2dZY8te8lnQVGpPxUnlQ849hTcRMXUqtyPcHOsV5w7YB8MAr/me8pjro+TE3QDXXdDhyZDDb72Et9OxYawyp0uirp1hmWWVwJFyjoCL7Ii2huOEcoNkgryBeYGbgSOCD4NghBSGKYifinONo5ArlAuYPZzAoI+lpqoCsJ61druEwcTHMs7H1H/bVOJB6UDwS/de/nEFgAyFE3oaWiEfKMQuRDWYO71BrUdjTdxSEVgAXaVh+2X/aa5tBXECdKF24njBej58V30Mflt+RX7Kfet8p3v/efZ3jXXGcqJvJWxSaCpks1/vWuJVkFD9Si9FKT/wOIoy/CtKJXsekxeYEJAJgAJw+2L0Xu1o5ojfwdga0pjLQMUXvyK5ZrPorayotaMJn6uanZblkoSPfYzTiYeHnYUUhO+CLoLSgdyBSoIdg1WE74Xsh0iKA40bkIuTU5dvm9uflaSYqd+uaLQuuivAXMa6zELT7tm44Jvnke6V9aL8sAO8CsARtRiWH14mBy2MM+g5FUAORs9LVFGXVpRbSGCvZMVoh2zybwNzuHUOeAR6mHvJfJZ9/30CfqB92XyveyF6MXjhdTJzJ3DCbAZp9mSVYOZb7lawUTFMdEZ/QFc6ADR/LdomFSA3GUUSRQs7BC/9JPYi7y3oS+GC2tfTUM3xxsDAwrr7tHGvJ6ojpWeg+JvZlw6UmZB+jb+KXYhchryEf4OmgjKCIoJ4gjKDUITRhbSH+ImajJmP8pKilqea/Z6ho46owq04s+u41774xEfLwdFg2B/f+OXl7OLz6fryAfsI/Q/xFtMdniRKK9QxNjhrPm5EOkrKTxpVJlrpXmBjiGdca9puAHLKdDZ3QnnuejZ8G32cfbh9b33CfLF7PHpleC52mHOmcFlttGm7ZXBh11z0V8pSXk20R9FBuDtwNf4uZSisIdka8BP3DPMF7P7l9+Xw8OkO40LclNUIz6LIasJjvJK2/LCmq5OmyKFJnRiZO5WzkYSOr4s4iSCHaoUVhCSDl4JvgquCTINRhLmFg4euiTeMHY9ekveV5ZkknrKii6errA2yrreJvZnD2clF0NfWid1Y5DzrMvIy+TYAOwc7Di8VERzdIo4pHDCENsE8zEKiSD5OmlO0WIZdDmJHZi1qv234cNdzWXZ7eD56nnubfDR9aX05faR8rHtRepN4dXb4cx5x6W1canpmRmLDXfVY31OHTu9IHUMVPd02eDDtKUAjdxyXFaYOqQemAKT5pvKy68/kAt5R18DQVcoVxAW+KriJsiatBqgso52eW5psltGSjo+kjBiK6occhrCEqIMCg8GC5YJtg1iEp4VYh2qJ2ouojtGRUpUpmVKdyqGNppir57B2tj+8PsJvyMzOUdX427zil+mE8H33ff5+BXoMbRNQGh4h0SdkLtI0FTspQQlHsEwZUkBXIVy4YAJl+mifbOxv33J2da93iHkAexV8xnwTffx8gXyie2B6u3i2dlJ0kHFzbv5qM2cWY6he8FnvVKlPJUpkRG0+RDjuMXArzyQRHjsXUhBcCV8CYftl9HPtkObC3w3ZeNIHzMHFqL/EuRi0qa57qZOk9J+im6CX85OckJ6N/Iq4iNSGUYUwhHODGoMkg5ODZoSbhTOHLImEizmOSpGzlHOYhZznoJWljKrHr0O1+rrpwArHWM3Q02raI+H159nuzPXG/MIDvAqtEZAYXx8VJqwsHzNpOYU/b0UgS5VQyVW5WmBfumPEZ3tr3G7jcZB03nbOeF16iXtSfLh8unxXfJF7aHrdePB2pXT8cfdummvmZ99jiF/lWvhVx1BVS6dFwD+nOWAz7yxbJqgf2xj7EQwLFQQb/SP2M+9Q6IHhytow1LvNbcdNwV+7qbUusPOq/KVOoeuc2ZgZla6RnI7mi4yJkYf3hb+E6oN4g2qDwIN5hJaFFYf1iDSL0Y3JkBuUw5e+mwqgo6SFqayuFbS6uZi/qcXpy1PS4diO31bmMu0d9BH7CAL/CO4P0BagHVgk8ypsMb034D3TQ45JD09QVE5ZBF5uYopmU2rHbeNwpHMJdg54tHn4etl7V3xxfCh8entqevh4JXfydGFydW8vbJNoo2RiYNRb/FbfUYBM5EYPQQU7zTRqLuMnOyF5GqETugzJBdT+3/fx8A/qP+OF3OnVbs8ayfLC/Lw7t7Sxbaxop6uiOJ4UmkKWxZKfj9OMZIpTiKKGU4VmhNyDtYPzg5OEl4X9hsSI6opujU+QiJMZl/6aM5+3o4Sol63tsoC4TL5NxH7K2tBb1/3duuSN63DyXvlRAEMHMQ4SFeMbnSI7KbgvDzY6PDVC+0eHTdVS4VelXCBhTGUoaa5s3m+0ci51SncGeWF6WnvweyN88ntee2Z6DXlTdzh1wHLsb79sOmlgZTZhvVz6V/FSpU0bSFhCXzw2NuEvZinKIhIcRBVlDnoHiQCZ+a7yzev85EHeodci0cjKmcSavs+4PbPprdeoC6SJn1SbcJffk6aQxo1BixqJU4fsheeERYQHhCuEs4SeheuGmYinihKN2o/8knWWQ5pjntCiiaeIrMqxS7cFvfbCGMllz9nVcNwi4+zpx/Cu95z+igV1DFUTJhriIIMnBS5hNJQ6l0BnRv5LWFFwVkRbzl8LZPhnkmvVbr9xTnSAdlN4xXnWeoR7z3u2ezt7XHoceXp3eXUZc15wSG3aaRhmBGKhXfNY/lPGTk5JnEO0PZo3VDHmKlYkqR3kFg0QKQk+AlL7afSJ7bjm/N9Z2dXSdsxAxjnAZLrItGivSKpupdygl5yhmP6UsZG9jiOM5okJiIuGb4W1hF6EaoTZhKuF34Z0iGmKvYxsj3aS2JWPmZid8KGTpn6rrLAatsS7pMG2x/XNXNTm2o3hTugg7wH26fzTA7sKmRFqGCcfyyVRLLMy7Dj4PtBEckrYT/5U4Fl5XsdixWZxashtxnBqc7J1m3ckeUx6EXt1e3V7EntMeiV5nHezdWxzyXDLbXVqyWbLYn9e5lkFVeBPfErbRAQ/+TjCMmEs3iU7H4AYshHVCu8DCP0i9kTvc+i24RHbidQlzujH2cH7u1S26LC8q9SmMqLdndaZIZbAkriPCo23isOIL4f7hSqFu4SuhAWFvoXZhlaIMoptjASP9pFBleCY05wVoaOleaqUr/C0h7pWwFjGiczi0mDZ/d+z5n3tVvQ4+x4CAgnfD68WbR0UJJ0qBDFEN1c9OUPlSFZOiVN5WCFdf2GPZU1ptmzJb4Fy3nTddn14vHmaehV7LXvjejZ6J3m3d+d1uXMtcUduCWt1Z41jVl/TWgdW9lCkSxVGT0BUOiw02S1hJ8sgGhpUE34MnwW8/tr3/vAu6m/jyNw91tTPkcl6w5O94rdrsjKtPKiMoyafDptHl9STuJD1jY2Lg4nYh42GpIUdhfmEN4XXhdqGPYgBiiOMo459ka+UOJgUnECguaR6qYKuyrNQuQ6/AMUhy23R3tdv3hvl3euu8or5agBLByYO9hS0G10i6ShVL5s1tTugQVZH00wSUg9Xxls0YFRkJGiha8dulHEGdBt20XcneRx6r3rgeq56Gnokecx3FXb/c4xxvm6XaxpoSWQoYLpbA1cGUsdMSkeVQas7kTVML+EoViKvG/IUJQ5MB20Aj/m28ufrKOV/3vHXg9E6yxzFLb9yufCzq66nqeikc6BKnHGY65S8keSOaIxIioaIJYckhoWFSYVuhfaF4IYriNaJ4ItHjgmRJJSWl1ubcZ/Uo4GodK2qsh24yr2sw77J/M9g1ubch+M/6gnx3/e7/pYFbww9E/wZpiA2J6Yt8TMTOgZAxkVNS5hQo1VpWuZeF2P4ZodqwW2icClzVHUgd414mnlEeo16dHr4eRp53Hc9dj905HEubx9suWj/ZPVgnFz5VxBT5E16SNZC/DzyNrswXSreI0IdjhbJD/YIHQJD+2z0n+3g5jXgpNky0+TMv8bIwAO7drUlsBSrR6bCoYmdn5kHlsSS2I9HjRKLOonCh6qG84WehayFG4bthh+Isomji/KNnJCfk/qWqJqonvWijqdtrI+x8LaLvF3CYMiPzubUYNv24aXoZ+819gz95AO5CoYRRRjwHoIl9itHMnA4az40RMZJHU80VAhZlV3WYcllamm3bKxvSHKIdGp27ncRedR5NHozetB5C3nld152eXQ3cplvoWxSaa9lu2F4XepYFVT9TqVJEkRJPk44JjLVK2Il0R4nGGkRngrLA/X8IfZV75fo6+FX2+HUjs5iyGPClrz+tqKxhKyppxWjzJ7QmiaX0JPRkCuO4IvyiWSINYdnhvqF74VHhv+GGYiTiWyLo401kCCTY5b7meSdHKKgpmurebDItVK7E8EGxyfNcNPe2WngDufH7Y/0X/szAgUJ0A+OFjsdzyNHKp0wzDbOPKBCPUifTcNSpVdBXJJglmRJaKhrsW5icbdzr3VJd4R4XnnWee15onn1eOh3enatdINy/W8dbeVpWWZ7Yk5e1VkUVQ9QykpJRZE/pTmMM0kt4iZcILwZBxNDDHYFpf7U9wrxTOqg4wrdkdY40AfKAMQqvoi4ILP2rQ2pa6QRoAWcSZjglM6RE4+zjLCKC4nFh9+GW4Y5hneGGIcZiHuJO4tZjdSPqJLTlVSZJ51Jobilbqppr6W0HbrNv7DFw8v/0V/Y4N575Svs6/K1+YQAUwccDtkUhhsdIpgo8i4nNTE7DEGyRiBMUFE/VulaSl9fYyRnlmqybXdw4XLvdKB28XfieHJ5oXluedp45HePdtt0yXJbcJNtc2r9ZjVjHl+6Wg5WHVHrS3tG1ED4Ou40uS5eKOMhThuiFOYNHwdSAIb5vvIB7FTlvN5A2OPRq8uexb+/FLqhtGqvdKrDpVqhPp1wmfWVz5IAkIuNcou3iVqIXofChoeGroY2hx+IaIkRixeNeY81kkmVs5hwnHyg1aR3qV+uh7PtuIy+YMRjypHQ5dZa3evjkupK8Q742P6iBWkMJRPSGWsg6SZILYIzkzl2PyZFnkrbT9dUkFkAXiVi+2WAaa9siG8Hcit08XVZd2F4CHlPeTR5uHjbd552AnUJc7NwAm76aptn6mPoX5pbAlclUgZNqUcSQkc8SzYkMNcpZyPcHDoWhQ/FCP0BNftw9LTtB+du4O/ZjtNRzTzHVcGhuyO24bDeqx6npqJ5npuaDZfUk/GQaI46jGiK9Yjihy6H3IbrhluHK4hcieyK2owkj8iRxZQYmL6btZ/4o4aoWa1vssO3Ub0UwwjJKM9v1djbXuL86KzvafYu/fQDtwpzER8YuR46JZ0r3TH0N989mEMbSWNObVMzWLJc6GDPZGVoqGuUbihxYXM9dbt22neZePh49XiReMx3qHYkdUJzBHFsbntrM2iYZK1gdFzxVydTG07QSEtDkD2kN4sxSyvoJGcezhciEWgKpwPj/CH2Zu+66CDints51fbO28jtwi+9p7dZskqtfKj1o7ifyZspmN2U55FJjwaNH4uViWuIoIc2hy2HhYc9iFaJzYqjjNWOYpFHlIOXE5vzniGjmqdZrFyxnrYavM3BscfDzf3TWtrV4GnnEe7H9Ib7RwIICcEPbhYIHYsj8ik3MFU2RzwJQpZH6kwAUtRWYlunX59jR2edap1tRXCScoR0GXZPdyV4mniweGR4t3erdkB1dnNQcc9u9WvFaEFlbGFIXdpYJFQsT/NJgETVPvg47jK7LGQm7h9fGbwSCQxNBY7+z/cX8Wvq0ONM3eTWnNB7yoXEv74tudSzuK7dqUel+6D6nEmZ6pXhki+Q143aizqK+YgYiJaHdYe1h1WIVYm1inKMjI4Bkc+T9JZtmjeeUKK0pl+rTrB9tei6isBfxmLMjtLf2E/f2eV47Cfz4PmdAFoHEQ69FFgb3SFHKJAutTSuOnlAEEZuS5BQclUPWmNebGImZo1poWxdb79xx3Nxdb52q3c4eGV4MXidd6h2VXWkc5ZxLW9qbFFp5GUkYhZevVkcVTZQEUuvRRVASDpNNCcu3SdyIe0aUxSoDfIGNwB8+cbyG+yA5frejthD0hzMHsZQwLS6ULUosECrnKZAoi+ebZr8lt+TGZGsjpqM5IqNiZSI/IfDh+uHc4hbiaKKSIxKjqeQXZNrls2ZgZ2EodOlaqpGr2K0u7lNvxLFBssk0WnXzd1N5OPqivE9+PX+rgVjDA0TqRkvIJwm6iwUMxU55z6IRPFJH08NVLhYHF01YQBlemiga3Bu6HAEc8V0J3Yrd9B3FHj4d3x3oHZldctz1XGEb9ls12mAZtdi316bWg5WPFEpTNlGUEGTO6c1jy9RKfIieBzmFUMPlAjeASj7dPTK7S/np+A52unTvc25x+LBPbzOtpuxpqz0p4ijZ5+UmxGY4ZQIkoaPX42UiyaKFolmiBaIJoiXiGeJloojjA2OU5DykuiVM5nRnL+g+KR7qUOuTbOUuBS+ycOuyb/P9tVP3MTiUenw75z2T/0EBLYKXxH6F4Ie8iREK3MxejdVPf5CckirTadSX1fSW/tf12NjZ5xqgG0LcD1yE3SMdad2Yne+d7p3VXeRdm517XMPctVvQm1XahdnhGOiX3Nb+lY8UjxN/keHQto8/DbzMMIqbyT/HXcX3BAzCoMD0fwg9njv3ehU4uPbkNVez1TJdcPHvU64D7MOrk6p1KSjoL+cKpnolfqSZZApjkiMxIqeideIb4hoiMCIeImPigSM140EkIySa5WgmCec/58jpJGoRq08snG34LyFwlrIXc6H1NTaP+HC51nu/vSr+1sCCgmyD00W1hxII50p0S/fNcE7c0HxRjZMPlEEVoVavl6rYkhmlGmLbCpvcXFcc+t0HXbvdmJ3dXcpd312cnUJdEJyIXClbdFqqGcsZF9gRVzhVzdTSk4eSbhDHD5OOFIyLyzoJYIfBBlxEtALJgV4/sv3JPGJ6gDkjd021wDR78oJxVO/0LmGtHivq6oipuKh7Z1GmvKW8ZNIkfeOAY1niyqKTYnOiK+I74iPiY6K7IumjbyPLJL0lBKYg5tFn1SjradOrDGxU7axu0XBDMcAzR3TXdm93zfmxexi8wr6tQBhBwYOoRQqG54h9ycvLkM0LDrnP29FvkrST6ZUNll+XXthKmWIaJFrRW6gcKFyRnSNdXd2AXcsd/d2Y3ZwdR50cHJmcAJuRWszaM1kFmESXcNYLFRTTzlK5URZP5o5rTOXLV0nAiGOGgQUag3GBhwAc/nP8jXsq+U339zYotKLzJ7G38BTu/615LAKrHOnI6Men2ebAJjtlC+Syo+/jQ+MvIrIiTKJ+4gkia2JlIrZi3uNeo/SkYOUipflmpCeiqLPplurK7A7tYe6C8DBxafLttHq1z/eruQ068rxa/gS/7kFXAz1En8Z9R9QJo0spjKXOFo+60NFSWVORVPjVzpcSGAIZHdnlGpbbctv4XGbc/l0+XWadtx2v3ZDdmd1LnSYcqVwWW6za7hoaGXIYdldnlkcVVZQT0sMRpFA4joENfwuzih/IhUclBUCD2QIvwEa+3j04O1W5+Dgg9pE1CjONMhtwti8eLdTsmytx6hopFOgi5wSmeyVG5OhkIGOvIxTi0iKm4lOiV+Jz4mfisyLV409j36RGJQIl0ya4p3Gofalbqoqryi0YrnVvnzEUspU0HvWxNwp46bpNPDO9nD9EwSzCksR1RdMHqok6yoKMQE3yzxlQspH9UziUY5W9FoRX+JiY2aTaW1s8W4ccexyX3R2dS52h3aCdh12WXU4dLly33CpbhxsN2n+ZXNiml50WgdWVFFgTC9HxEEmPFc2XDA7KvgjmB0gF5YQ/wlgA7/8IPaJ7//oiOIp3ObVxc/LyfzDXr70uMOz0K4eqrCli6GynSia75YLlH6RSY9uje+LzooKiqWJn4n4ibCKxYs4jQePMJGzk4yWuZk5nQihI6WGqS+uGrNCuKS9OsMCyfXOENVN26jhG+ig7jT10PtvAgwJow8sFqQcBSNJKWwvajU8O99ATUaES31QNlWrWdhduWFMZY1oe2sTblJwN3LBc+10vHUtdj528XVGdTx01XIScfRufmywaY5mGWNVX0Vb61ZMUmtNTEjzQmQ9pDe4MaQrbSUYH6oYKBKYC/8EYv7G9zHxqOow5M7diNdi0WLLjMXlv3K6NrU2sHer+6bGot2eQZv3l/+UXpIVkCWOkIxZi36KAorliSeKxorEix+N147okFOTFpYtmZacT6BVpKSoOa0Rsie3eLz+wbbHm82p09rZKuCT5hDtnfMz+s0AZwf7DYQU/RpfIacnzy3SM6w5Vz/PRBBKFk/cU19Ym1yMYDBkhGeFajBthG9+cR1zYHRFdc119nXAdSx1OnTrcj9xOW/abCNqGGe5YwtgEFzLVz9TcU5kSR1Enj7uOBAzCS3eJpQgMBq3Ey4NmwYCAGv52PJP7Nflc98q2QDT+swdx27B8buqtp+x0qxIqAWkC6BfnAKZ+JVDk+WQ4I43jemL+IplijGKW4rjismLDI2sjqaQ+pKllaaY+Zucn42jyKdJrA6xEbZQu8bAb8ZGzEbSa9iv3g7lg+sI8pj4Lv/EBVUM3RJWGbofBSYxLDoyGjjOPU9Dm0isTX9SEFdbW1xfEmN3ZoppSWyxbsBwdXLNc8l0Z3WodYl1DXUydPtyZ3F4bzBtkWqcZ1Rku2DVXKVYLVRyT3hKQUXUPzM6YzRqLkwoDSKzG0MVwQ41CKEBDvt99PbtfecY4czantSSzq/I98JxvSC4CbMwrpipRqU9oX+dEZr0liyUupGhj+GNfox3i82KgoqUigWL1Iv/jIeOapCnkjuVJZhim++eyqLxpl6rD7ABtS66k78sxfTK59D/1jjdjeP56XbwAPeQ/SIEsQo4EbAXFh5jJJQqoTCINkM8zkEkR0FMIFG/VRhaKV7vYWZljGhea9pt/W/HcTZzSHT9dFR1TXXodCV0BXOJcbFvgW34ahpo6GRlYZVdeVkVVW5QhkthRgRBczuzNccvtSmCIzIdyxZSEMwJPgOu/CD2m+8i6bzibdw71ivQQcqCxPO+mLl2tJCv66qKpnGio54km/WXGZWUkmaQkY4YjfuLO4vYitSKLYvki/iMaY40kFmS1pSpl9CaSJ4Ooh+meKoWr/WzEbllvu7Dp8mMz5jVxdsP4nLo5+5q9fX7ggIOCZMPDBZyHMIi9igJL/Y0uDpLQKtF00q/T2pU0ljzXMlgUmSKZ29q/mw2bxVxmXLBc410+3QLdb10EnQJc6Rx5W/LbVprkmh3ZQpiTl5IWvhVZFGPTHxHMEKvPP02IDEbK/Mkrh5RGOARYAvYBE3+wvc+8cbqX+QP3tnXxNHUyw7GdsASu+W187BBrNGnqaPLnzqc+ZgLlnGTL5FGj7eNhIytizSLGItbi/qL94xQjgSQEpJ4lDSXRJqmnVehU6WYqSOu77L4tzy9tcJfyDXONNRV2pXg7uZa7dbzW/rkAG0H8A1oFM8aISFYJ28tYjMsOcg+MURjSVtOFFOKV7pboF85Y4Nme2kebGpuXnD3cTZzF3ScdMN0jXT5cwhzunEScBButWsEaf9lqWIDXxFb1lZVUpJNkkhXQ+Y9RDh0MnwsYSYnINMZaxPzDHAG6v9j+eHyauwC5rDfd9ld02jNm8f7wY28VbdXspitG6nkpPagVJ0BmgCXVJT9kf+PW44SjSWMlYtji46LFoz7jD2O2o/QkR+UxZa+mQqdpaCNpL6oNK3useW2F7yAwRvH48zU0urYHt9t5dHrRfLF+En/zgVPDMUSLRmAH7ol1ivOMZ83Qz21QvJH9Uy7UT9WfVpzXh5ieWWDaDprmm2ib1FxpXKdczh0dnRXdNpzAHPLcTlwTm4LbHFpgmZCY7Ff1FuuV0FTkU6jSXlEGT+GOcUz2i3LJ5whUhvyFIIOBgiEAQH7gvQM7qTnUOEU2/fU/M4oyYDDCb7HuL6z865oqiKmJKJxng2b+pc6ldCSvZAEj6WNooz8i7OLxos4jAWNMI61j5SRzJNblj6ZdJz6n8yj6adMrPKw17X4ulDA28WVy3nRgder3fDjS+q38DD3sP0wBK4KJBGMF+AdHSQ8KjowETa8OzhBf0aOS2BQ8VQ+WURd/mBrZIhnUWrFbOJupnAPch1zz3MjdBt0tnPzctVxW3CHblts2GkAZ9VjWmCSXIBYJ1SKT65KlkVGQMM6ETU0LzEpDSPOHHcWDxCZCRwDnvwh9qzvRenw4rLckNaQ0LbKB8WHvzu6J7VPsLerY6dVo5KfHZz3mCWWp5OAkbKPPo4ljWiMCIwFjF+MFY0ojpaPXpF/k/eVxJjkm1SfEaMZp2ir+6/OtN25Jb+gxEvKIdAd1jvcduLI6CzvnvUY/JUCEAmED+sVQRyAIqMopS6CNDU6uT8KRSRKAk+hU/xXEVzcX1pjiGZkaexrHW72b3RxmHJgc8xz2nOMc+Fy2XF3cLpupWw5andnYmT9YEpdTVkIVX5QtUuuRm9B/DtYNokwkyp7JEYe+ReYESoLsgQ4/r/3TPHl6o/kT94q2CXSRcyPxgbBsbuStq6xCa2mqIqkt6AwnfmZFJeClEeSZJDbjqyN2YxijEmMi4wrjSaOfY8ukTiTmZVQmFmbs55cok+miqoJr8qzyLj+vWrDBsnOzr3Uz9r/4EfnpO0P9IP6+wBzB+UNTBSiGuMgCScQLfMyrTg6PpRDuEiiTU5St1bbWrZeRWKFZXRoDmtTbUFv1XAOcuxybnOUc1xzyHLYcY1w6G7pbJRq6GfqZJth/V0UWuNVbVG2TMFHk0IwPZs32zHyK+Ylux93GR8TuAxGBtH/W/nq8oTsLebr38PZutPUzRfIh8Iovf63D7NdruypwaXeoUee/poGmGKVE5MbkX2POY5QjcKMkoy+jEaNKo5qjwSR95JBleGX1JoZnqyhiqWxqR2uy7K3t9y8OMLFx37NYdNn2Yzfy+Ue7ILy8Phk/9gFSAytEgQZRx9wJXsrZDEkN7k8HEJLR0BM+FBvVaJZjV0sYX5kf2ctaoZsh24wcH9xc3IMc0hzJ3OqctFxnXAPbyht6WpUaGxlMmKqXtZauVZXUrJN0EizQ18+2jgoM0wtTCctIfMaoxRDDtgHZwH1+of0Ie7L54fhXdtP1WTPoMkIxKC+bLlytLOvNav8pgmjYZ8HnP2YRpbjk9eRJJDKjsuNKI3gjPaMZ400jl2P35C7ku+UeJdVmoSdAaHLpN6oNq3Rsau2v7sKwYjGM8wI0gLYHN5R5Jzq+PBg98/9PwSsChARZxerHdcj5inTL5s1NzujQNxF3EqhTyVUZlhgXBBgc2OGZkdps2vJbYdv63D1caRy9nLscodyxXGocDFvYG04a7po6GXFYlJfkluKVztTqU7ZSc1Eij8VOnA0oi6vKJsiaxwkFswPZwn7Ao38Iva+72fpI+P23OXW9dAry4vFGsDcuta1DLGBrDmoN6R/oBSd+Jkul7iUmJLPkGCPTI6SjTSNM42NjUOOVY/BkIWSopQVl9yZ9ZxdoBKkEKhVrN2wpLWnuuK/UMXtyrTQodaw3NriHOlx79L1PPynAhEJdA/LFRAcPiJRKEMuEDS0OSk/a0R2SUdO2FIoVzFb8V5lYollXWjdagZt2W5TcHJxN3KfcqxyXXKzca1wTW+TbYJrGmlfZlFj819JXFVYGlSbT91K40WxQEo7tTX0Lw0qBSTfHaIXUhH0Co0EJP6791nxA+u+5I/eetiF0rXMDseVwU68Pbdnss+tealopaChJJ72mhqYkJVdk4CR/I/RjgKOjo12jbmNWI5Tj6eQVZJblLiWaJlrnL6fXqNIp3mr7q+jtJS5vr4cxKrJZM9F1UfbZ+Gg5+ztR/Sq+hEBeQfaDS8UdRqlILsmsiyFMjA4rT35Qg9I60yJUeZV/lnOXVNhiWRvZwJqP2wmbrVv6nDEcUNyZ3IvcptxrHBjb8Btxmt1ac9m2GOQYPpcG1nzVIhQ3EvzRtJBfDz1NkIxaCtsJVEfHRnVEn4MHQa5/1P58/Ke7FjmJ+AP2hbUQc6TyBHDwb2muMSzH6+8qpymxaI4n/mbCpltliaUNZKckFyPd47tjb6N641zjlaPlJArkhqUYJb6mOebJJ+vooWmoqoEr6azhrifve3CbMgYzuzT4tn43yfmauy+8hz5f//hBUAMlRLbGA0fJiUhK/owqzYwPIVBpUaNSzhQolTJWKhcPWCFY31mIml0a29tEm9dcE1x4nEccvtxfnGmcHNv6G0EbMppO2dZZCZhpl3bWcdVb1HWTP9H70KoPTE4jDK/LM8mvyCVGlUUBg6rB0oB6fqM9Dfu8ee/4aTbp9XMzxjKj8Q2vxC6I7VysAGs06fso0+g/5z+mU+X9JTukkGR7I/xjlCOC44ijpOOYI+GkAeS35MOlpKYaZuRngaix6XRqR+ur7J9t4W8w8Ezx9DMl9KB2IzeseTs6jjxj/ft/UwEqQr8EEIXdh2RI5Apbi8lNbI6EEA6RSxK5E5bU5BXf1skX31ih2U/aKRqs2xrbstv0HB8ccxxwXFbcZpwfm8JbjxsGWqgZ9Rkt2FMXpVallZSUstNBkkHRNE+aDnSMxIuLigpIgkc0hWLDzYJ2wJ+/CP20O+K6VbjOd0411jRnssNxqvAfLuEtsexSa0NqRelaqEInvaaNJjGlayT6pGAkHCPuo5ejl6OuY5uj36Q6JGpk8KVMJjxmgOeY6EPpQSpP629sXm2b7udwP7FjctG0STXI90+43DptO8F9l78uQISCWQPqhXfG/wh/yfhLZ8zMzmZPs1DykiNTRJSVVZTWghecmGNZFhn0Gnza79tNG9PcBBxdnGCcTJxiHCDbyVub2xiav9nSmVCYu1eS1tgVy5Tu04IShpF9D+bOhQ1YS+JKZAjeh1NFw0RvwppBBD+uPdn8SHr7eTO3srY5dIkzY3HI8LqvOe3HrOTrkqqRaaIohaf8ZsdmZyWb5SYkhqR9I8oj7aOoI7kjoOPfJDPkXqTfJXTl36aep3FoF2kPqhlrM+webVfuny/zcRNyvnPy9W+28/h9+cz7n700fonAX4Hzg0TFEgaaCBuJlUsGDKzNyE9X0JmRzVMx1AXVSNZ6FxjYI9jbGb3aC5rD22Ybshvn3AccT1xBHFxcINvPG6cbKVqWWi5Zchih1/6WyNYBlSlTwRLKEYTQco7UTasMOEq8yToHsQYjBJFDPUFof9M+f3yuOyD5mLgW9py1KzODcmbw1m+TLl4tOCviat1p6mjJqDxnAuadpc2lUuTuJF9kJuPFI/njhWPnY9/kLuRT5M7lXyXEZr3nC2gsKN9p5Cr6K9/tFO5YL6hwxLJsM511F3aY+CC5rbs+fJG+Zn/6wU5DH0SsxjUHt0kyCqRMDI2qDvvQAFG20p5T9dT8VfGW1BfjmJ9ZRtoZWpabPdtPW8pcLxw9HDRcFRwfW9MbsRs42quaCRmSGMdYKVc4ljYVIpQ/EsxRy1C9DyKN/MxNCxTJlIgOBoIFMkNfwcuAd76kfRN7hjo9uHs2//VM9COyhTFyr+zutO1L7HLrKmozaQ6ofSd/JpVmAGWA5RbkguRFJB2jzOPS4+8j4iQrZErkwCVK5epmXqcm58Io8GmwaoFr4qzTLhIvXnC3MdrzSPT/9j63hDlO+t28b73C/5aBKUK6BAeF0EdTCM7KQkvsTQuOn0/mUR+SShOk1K8VqBaOl6JYYpkOmeXaaBrUm2tbq5vV3ClcJhwMnBxb1hu5Wwca/xoiGbCY61gSV2bWaVVa1HvTDVIQkMZPr44NjOELa4nuSGoG4IVSg8GCbsCbvwk9uLvrOmJ43zdjNe70RDMj8Y8wRu8MbeBsg+u36n0pVKi+57xmziZ0Za/lAKTnZGRkN6PhY+Gj+GPlpClkQyTypTflkeZApwOn2aiCqb2qSeumrJKtzW8VsGpxivM1dGl15XdoePD6ffvN/aA/MoCEwlVD4oVrhu7Ia4ngC0uM7M4Cz4wQyBI1kxOUYVVd1khXYFgk2NVZsZo4mqobBhuL2/sb1BwWnAKcGBvXW4BbU5rRWnnZjdkN2HoXU9abVZGUtxNNUlTRDo/7jl0NNAuBikcIxYd+BbIEIsKRQT9/bX3dfFA6xvlDd8Z2UTTk80KyK/Chb2QuNSzVq8Yqx+nbaMFoOqcH5qll3+VrpM1khORS5Dcj8ePDJCqkKKR85KblJmW65iRm4aeyqFZpTGpT62vsU22J7s4wHzF7sqM0E/WM9w14k7oeu609Pf6PQGDB8IN9xMcGisgISb4K6wxODeXPMZBwEaBSwZQSlRLWAVcdV+YYm1l8Gcfavprfm2qbn1v928XcN1vSm9dbhhte2uIaUFnpmS7YYJe/VovVxtTxU4vSl5FVkAaO641GDBbKnwkgB5sGEQSDQzNBYn/RfkG89Lsread4KbazNQWz4fJI8TwvvG5KrWfsFSsTKiLpBKh5p0Jm32YRJZflNGSm5G9kDiQDZA7kMSQpZHfknGUWJaVmCSbBJ4zoa6kcqh8rMmwVbUeuh6/UsS2yUbP/dTW2szg3OYA7TPzcPmy//QFMQxlEooYmx6UJG8qKDC7NSI7WkBeRSpKu04NUxxX5VplXpphgGQWZ1hpR2vfbCBuCW+Yb85vq28ub1duKW2ia8ZplGcQZTpiFl+mW+xX7FOoTyVLZUZtQUE85DZbMasr2CXnH9wZvBONDVMHEwHT+pf0Y+4+6CziMtxV1prQBMuZxV3AVLuCtuuxk618qaylJKLnnvibWZkNlxSVcpMnkjORmZBYkHGQ4pCukdGSTJQelkSYvZqInaKgCKS4p66r6K9itBm5Cb4tw4PIBM6u03vZZ99t5YnrtPHr9yn+ZwSiCtQQ+RYMHQcj5iilLj00rDnsPvpD0khvTc1R6lXDWVNdmGCQYzdmjWiPajxskm2PbjRvgG9zbwxvTG40bcRr/mniZ3RltGKlX0lcpFi3VIZQFUxnR4BCYz0WOJsy+CwxJ0ohSRsyFQoP1gibAl/8Jfb078/pu+O/3d7XHtKCzA/Hy8G4vNu3ObPTrq+q0KY4o+qf6pw5mtqXzpUYlLiSr5H/kKiQq5AHkbuRyZItlOiV+ZdcmhGdFqBnowOn5qoNr3WzGrj5vA3CU8fHzGPSJdgG3gLkFOo48Gn2ofzbAhQJRQ9qFX0beyFdJyAtvzI1OH49lUJ3RyBMi1C2VJ1YPVySX5tiVWW+Z9NplGv+bBFuzG4tbzZv5W48bjpt4Gswaito0mUoYy5g51xWWX1VX1EBTWRIjkOBPkM51jNALoUoqiKzHKUWhRBXCiIE6v2z94LxXutK5UvfZ9mi0wDOh8g6wx6+N7mJtBew5av3p1Ck8qDgnR2bq5iMlsKUTZMwkmuR/pDrkDCRz5HGkhSUuZWzlwGaoJyQn8yiU6YiqjaujLIft+278cAoxo7LHdHS1qfcmeKj6L/u6fQc+1IBhwe3DdsT7xnvH9QlnCtAMb02DjwuQRtGz0pHT39TdFcjW4lepGFvZOtmE2noamZsjm1ebtVu8265biZuOm33a11qbmgrZpZjsmB/XQJaPVYzUudNXEmXRJs/azoNNYUv1ikGJBkeFBj8EdYLpgVy/z/5EPPs7Njm1+Dw2ibVf8//yavEhb+Uutu1XbEerSGpaqX8odqeBZyBmU6XcJXok7WS25FZkTCRX5HokciSAJSPlXOXq5k1nA+fNqKppWSpZa2osSm25rravwLFWcraz4PVTds14TXnSe1s85n5y//8BSoMTRJiGGMeTCQXKsEvRDWdOsY/vUR8SQBORVJJVgdafV2oYIVjE2ZPaDdqymsGbetteG6sboduCm41bQhshGqraH5m/2MwYRJeqlr5VgJTyE5QSptFsECQO0A2xTAkK18lfR+BGXETUg0oB/gAyfqc9HnuZehj4nncq9b/0HjLHMbuwPO7L7elslmuTqqIpgqj15/xnFqaFZgjloaUQJNQkrmRepGUkQaS0JLyk2qVOJdamc+bk56moQSlrKiZrMmwObXkuci+4MMoyZzON9T22dPfyuXV6/HxGPhF/nMEngrAENUW2BzDIpIoQS7LMys5XT5dQydIt0wJURpV51htXKlfmGI3ZYZngWkoa3lsc20Vbl9uUG7pbSptE2ymauNozGZiZKhhoF5MW69Xy1OkTz5Lm0bAQbA8bzcCMm0stCbdIOsa4xTLDqcIfQJR/Cf2BfDx6e7jAd4w2H/S8syPx1nCVL2FuO+zlq9+q6mnHKTYoOGdOJvgmNuWKpXPk8uSHpLJkc2RKZLdkumTTJUElxCZbpsenhuhZaT4p9Kr769NtOe4ur3CwvvHYc3w0qPYdd5i5GXqefCa9sL87AIUCTUPShVNGzshDSfBLFAyuDfyPPtB0EZrS8pP6VPFV1pbpl6mYVhkuWbIaIJq6Gv2bK5tDW4UbsNtGm0ZbMJqFWkUZ8BkG2IoX+hbX1iPVHtQJ0yWR8tCyz2ZODozsi0GKDkiURxSFkIQJQr/A9f9sfeQ8XzreOWJ37XZ/9NtzgLJxMO2vty5O7XWsLCszagwpdyh1J4ZnK+Zl5fSlWOUSpOIkh6SDJJSkvCS5pMyldSWypgTm62dlqDLo0qnEasbr2az77exvKnB08YrzKzRU9ca3f3i9+gE7x71QftmAYsHqw2/E8MZsx+JJUEr1jBENoY7mEB3RR5KiU62UqBWRFqgXbFgdGPoZQpo2GlSa3VsQW22bdNtmG0EbRps2GpCaVZnGGWJYqtfgFwLWU5VTVELTYxI0kPiPr85bzT0LlMpkiO0Hb8XthGfC38FXP84+RrzBu0C5xHhOtuA1ejPd8oxxRrANruKthiy5a30qUim5KLLn/+cgppXmH+W+5TOk/eSd5JQkoCSCJPokx6VqpaLmL6aQ50WoDejoqZUqkyuhLL7tqy7lMCvxfnKbdAH1sPbm+GM55HtpPPB+eP/BQYiDDUSOhgrHgQkwClaL880GTo0Px1EzkhGTX9Rd1UrWZdcuF+NYhNlSGcpabdq72vQbFptjG1nbepsFWzqamlpk2drZfFiKGARXbFZCFYaUutNfUnURPQ/4TqfNTEwnSroJBQfKBknExgN/QbeAL76ovSP7ovomeK+3AHXZNHsy57Gf8GRvNq3XbMdrx6rY6fvo8Wg6J1ZmxuZMJeYlVaUa5PWkpmStJImk/CTEJWGllCYbprdnJyfqKL+pZ2pga2osQ22rbqFv5DEy8kxz7/Ub9o94CXmIewt8kT4Yv5/BJoKrBCxFqQcfyI/KN4tWTOqOM49wEJ9RwBMR1BMVA9Yilu8XqJhOmSBZnZoGGpka1ps+WxBbTFtyWwLbPVqimnLZ7hlU2OfYJ5dUVq8VuJSxU5pStFFAkH+O8o2azHkKzkmcSCOGpYUjQ55CF4CQ/wp9hjwE+og5EPegdjg0mLNDcjlwu69LLmjtFewSqyBqP6kw6HVnjSc5JnllzqW5JTjkzqT55LskkmT/JMHlWeWHJgkmn2cJ58eomCl7Ki8rNCwI7WyuXm+dcOhyPrNe9Mf2ePewOS06rnwyvbi/PwCFAklDyoVHRv7IL4mYizjMTs3ZzxjQSpGuUoLTx9T71Z6Wrxds2BdY7dlv2d0adRq32uTbPBs9mykbPtr/Gqnaf1n/2WwYxFhJV7sWmtXpFOaT1BLykYLQhc98jegMiYtiCfKIfEbARYAEPMJ3QPF/a73nvGa66blx98C2lzU2c59yU3ETb+Auuy1k7F5raKpD6bFosWfE52wmp+Y4JZ2lWGUopM6kyqTcZMPlAOVTZbsl9+ZI5y3npqhyKQ/qPyr/a8+tLy4c71fwnzHx8w60tPXi91f40rpR+9S9WX7egGPB58NoxOXGXcfPSXmKmwwyzX/OgRA1URvSc5N7lHNVWdZuVzBX3xi6GQDZ8toQGpfayhsmmy1bHls5mv9ar1pKWhCZghkfmGmXoJbFVhiVGpQMky9Rw9DKz4VOdEzZC7SKB8jUB1qF3ERagtZBUb/Mvkk8yDtLOdL4YPb2NVQ0O3KtsWtwNa7N7fSsquuxaokp8qjuqD2nYGbXJmKlwyW45QQlJOTbZOekyaUBZU5lsOXn5nOm02eG6E1pJinQqswr16zy7dxvE3BW8aXy/7QitY33AHi4+fY7dzz6fn7/wwGGgwdEhIY8x29I2kp9C5aNJY5oz5+QyNIjky7UKhUUVizW8tel2EVZENmH2inadpquGs/bHBsSWzMa/hqz2lQaH5mWmTmYSJfE1y6WBpVNVEQTaxID0Q7PzQ6/zSfLxkqcSStHs8Y3hLeDNQGxAC0+qj0pe6x6M7iBN1V18fRX8wfxw7CLr2EuBO036/sqzuo0qSxodyeVpwfmjmYp5ZqlYKU8JO1k9GTQ5QMlSuWnpdlmX+b6Z2ioKej9qaMqmeuhLLetnO7P8A+xWzKxc9F1efapuB/5mzsafJw+H7+iwSWCpgQjRZwHDwi7Cd9LegyKzhBPSZC1UZMS4ZPgFM4V6la0l2vYD9jf2VuZwlpUWpDa99rJWwUbKxr7mrbaXJotmanZEdimV+eXFlZzFX7UehNlkkKRUZATjsoNtUwXCvAJQYgMhpJFFAOTAhBAjX8K/Yq8DXqUeSE3tLYP9PRzYrIcMOHvtO5VrUWsRWtVqndpayix58uneWa7ZhHl/WV+ZRSlAKUCJRllBmVIZZ/lzGZNZuKnS6gHqNZptyppK2usfe1e7o2vybERcmRzgTUmtlP3x7lA+v48Pn2Av0MAxQJFQ8KFe0avCBvJgQsdjHANt47zECFRQdKTk5WUhtWnFnVXMNfZGK3ZLhmaGjDacpqe2vVa9priGvfauFpjmjnZu5kpGIKYCRd81l6VrxSu057SgBGTEFlPEw3CDKbLAsnWyGRG7EVvw/BCbsDtP2t963xuOvU5QXgT9q41EPP9snUxOK/I7ubtk+yQK50quymq6O1oAqer5ukmeuXhpZ1lbqUVJRFlI2UKpUelmaXApnwmjCdv5+bosKlManmrN2wFLWHuTK+EsMjyGDNx9JR2PvdwOOc6YrvhfWI+44BkweSDYcTaxk7H/MkjCoDMFQ1eTpwPzREwUgUTSlR/FSMWNRb016GYepj/2XBZzBpS2oRa4Frmmtea8tq4mmlaBRnMGX7YnZgpV2IWiNXd1OJT1xL8UZOQnY9bTg2M9ctUiiuIu4cFhcsETULNAUx/y35LvM67VXnhOHM2zHWt9BjyznGPsF1vOO3irNvr5Sr/aetpKah6559nGCalJgal/WVJpWrlIeUuZRBlR+WUpfYmLGa3JxWnx2iMKWLqC2sEbA2tJi4Mr0DwgXHNMyN0QvXqtxm4jnoHu4T9BD6EgAUBhEMBRLqF7wddiMTKY8u5jMUORM+4UJ5R9dL+U/bU3lX0VrgXaRgGmNBZRdnmWjIaaNqJ2tWay9rsWreabdoO2dsZUxj3WAgXhdbxlcuVFNQN0zeR0xDgz6JOWE0Di+WKf0jRx54GJYSpQyrBqoAq/qv9Lzu1ugE40ndqdcq0tDMn8ecwsm9LLnItKCwt6wSqbKlm6LPn0+dH5tAmbSXe5aWlQeVzpTrlF6VJpZDl7SYeJqNnPKepKGjpOqneatLr12zrbc3vPjA68UMy1jQytVd2w7h2Oa27KPym/iZ/pcEkgqEEGkWPRz5IZonHC15Mq03tTyMQS9GmUrHTrZSY1bKWelcvl9GYn9kaGb+Z0FpL2rJagxr+mqSatVpw2hcZ6NlmWM+YZZeoltkWN9UF1ENTcZIRESMP6E6hzVCMNYqSCWcH9cZ/RMUDh8IJAIo/C72PPBX6oPkxd4i2Z/TP84HyfvDH793uge207HdrSmqu6aTo7agJp7jm/GZUZgFlwyWaJUalSKVf5UyljmXlZhDmkOck54xoRukT6fKqomuibLItkG78b/VxOjJJs+L1BTaut965VDrNvEo9yH9GwMTCQUP6hS+Gn0gISanKwoxRjZVOzZA4kRYSZJNj1FKVcBY71vVXm5huWO0ZV5ntWi3aWVqvmrBam5qxmnKaHln1WXgY5phBl8mXP1YjFXWUd9NqUk4RZBAtDupNnExEiyQJu8gMxtiFYAPkQmbA6L9q/e78dbrAeZB4JvaE9Wtz2/KW8V2wMS7SbcJswavRKvGp4+koaH/nqucp5r0mJOXhpbOlWuVXpWmlUOWNZd7mBSa/5s6nsOgmaO5piCqzK27see1T7rvvsTDyMj5zVHTzthp3iDk7enM77f1q/uhAZcHhg1rE0AZAB+oJDMqmy/dNPU53j6VQxVIXExlUC5Us1fyWuhdkmDvYv1kumYkaDtp/WlqaoJqRWqyactokGcBZiFk8GFxX6ZckFkzVpBSq06HSihGkEHDPMY3nTJLLdQnPiKMHMMW6RAACw8FG/8n+TnzVO1/573hFNyI1h3R18u8xs7BE72NuEG0MbBhrNWojqWQot2fd51gm5qZJpgFlzmWwZWfldGVWZY2l2eY65nAm+adW6AcoyimfKkVrfGwDLVjufK9t8Ksx8/MG9KL1xzdyeKN6GTuSfQ3+ikAGwYJDO0RwheFHS8jvigrLnQzkziFPUVC0EYjSzlPD1OjVvFZ91yzXyFiQWQRZo9nuWiQaRJqP2oXaplpx2ihZyhmXWRCYtdfIF0eWtRWRVNyT2BLEkeLQs494DjEM38uFSmJI+IdIhhPEm4MggaSAKL6tfTS7vzoOeON3f3XjdJBzR7IKMNjvtO5e7VesYGt5qmQpoKjvqBHnh6cRZq9mImXqJYcluWVApZ1ljyXWJjGmYebmJ34n6WinKXdqGOsLLA1tHq4+byuwZXGqsvo0EzW0tt14TDn/+zd8sX4s/6iBI0KcBBGFgkctyFJJ7ssCjIwNyo89ECKRedJCk7uUZBV7VgDXNBeUGGCY2Rl9WY0aB5ptWn3aeNpe2m+aK5nSmaUZI1iOGCVXadacVf1UzVQNUz4R4FD1D71Oeg0sC9SKtIkNB9+GbMT2A3zBwcCGvww9k7weOq05Abfctn906zOgsmExLW/Gru3to6ypK77qpaneKSjoRuf35z0mlmZEZgcl3yWMJY4lpaWSJdOmKeZU5tPnZqfMqIWpUKotatsr2Ozl7cFvKrAgsWIyrrPEdWM2iTg1uWc63PxVvc//SoDEwn0DsoUjxo+INQlSyufMMw1zjqhP0FEqkjZTMVQcFTXV/dazV1ZYJZihGQiZm1nZWgJaVlpVWn8aE9oTmf7ZVZkYWIdYIxdsVqOVyRUeFCLTGJI/0NnP5w6ojV+MDUrySU/IJwa5RQeD0sJcgOY/b/37vEo7HTm1OBP2+fVotCEy5DGy8E4vdy4ubTTsC6ty6mtptijTaEOnx2de5srmiyZgJgnmCGYb5gPmQKaR5vcnMGe86BxozmmSamerDWwDLQfuGu87cChxYPKj8/B1BbaiN8T5bTqZfAh9uX7qgFuBysN3RKAGA0egiPaKBEuITMIOMI8SkGdRbhJl004UZdUsVeFWhBdUF9EYeliPmRDZfdlWWZoZiZmkmWsZHZj8GEcYPtdj1vaWN5VnVIbT1pLXUcnQ7w+HzpUNV8wRCsHJqwgNxuuFRQQbQrABBD/YPm38xjuiOgM46jdYNg40zbOW8mtxDDA5rvTt/uzYLAFre6pHKeRpFCiW6CynlidTZySmyibD5tGm86bp5zPnUafCqEao3SlFqj/qiuumbFFtSy5TL2gwSbG2sq4z7zU4tkl34Pk9el57wn1ofo8ANcFbAv4EHUW3xszIWsmgyt4MEU15zlaPptCpUZ2SgtOYVF2VEZXz1kRXAhetF8TYSNi5WJYY3pjTWPRYgVi62CDX85dz1uHWfdWIVQJUbBNGUpHRj5C/z2QOfM0LDBAKzEmBCG+G2IW9RB7C/gFcgDt+mv18++J6jDl7t/G2r3V1tAWzIDHGMPhvt+6FbeGszWwJa1Xqs6njKWTo+WhgqBsn6OeKZ79nSCekZ5Rn12gt6Fbo0qlgaf/qcGsxq8Ls422Sbo9vmXCvsZEy/TPydTB2dfeBuRL6aLuBvRz+eT+VQTCCSYPfhTFGfYeDiQIKeAtkzIdN3o7pz+gQ2JH60o3TkRRD1SXVthY01qEXOpdBl/VX1Zgi2ByYAxgWV9aXg9deVubWXVXCVVZUmhPN0zKSCJFREEyPfA4gDTnLykrSCZJITEcAhfCEXQMHQfBAWX8DPe78XbsQech4hrdL9hl07/OQsrwxc7B3b0juqG2WrNRsImtA6vBqMamE6Woo4iis6Eqoe2g/KBXof6h8aIupLSlg6eYqfKrkK5usYu047d2uz6/OsNnx8DLQtDq1LTZnN6e47bo4O0Y81n4oP3nAiwIaQ2bEr4XzRzDIZ8mWivyL2M0qTjCPKlAW0TXRxhLHE7iUGZTp1WjV1lZxlrrW8ZcVl2bXZVdRV2pXMNblFodWV5XWVUQU4VQuk2xSmxH70M7QFU8Pzj8M5Av/ypMJnohjxyOF3oSWA0sCPsCyf2Y+G7zT+4+6UHkW9+P2uLVWNH0zLnIq8TOwCO9r7lztnOzsbAvru+r8qk7qMqmoqXBpCqk3aPaoyCksKSKpaumFKjEqbir8K1psCKzF7ZIubG8T8AgxCDITcyi0B3Vutl03knjNOgy7T3yVPdw/I0BqgbAC8wQyhW2GowfSCTmKGItujHpNew5wD1iQc9EBEj/Sr5NPlB9UnpUM1amV9NYuFlWWqtat1p6WvVZKFkUWLlWGVU0Uw5Rpk4ATB1JAUasQiM/Zzt8N2YzJy/CKjwmmCHaHAUYHhMoDicJIAQY/w/6DfUU8CjrTuaJ4d3cTtjf05XPcst6x6/DFsCwvIG5i7bQs1OxFa8YrV6r6Km4qM2nKqfNprmm66ZmpyeoL6l8qg2s4a34r02y4bSxt7q6+71vwRbF68jszBXRY9XT2WDeCOPH55jsePFj9lT7SAA8BSsKEQ/rE7MYZx0DIoMm4yohLzgzJTflOnY+1EH9RO1HpEofTVtPWFETU4tUv1WuVldXu1fYV65XPleJVo5VTlTMUgdRAU+8TDtKfkeIRFtB+z1pOqo2vjKrLnMqGiajIREdaRiuE+QODgoyBVIAc/uY9sXx/uxH6KTjGN+n2lXWJdIbzjnKg8b7wqW/g7yXueW2bbQzsjewe64Brcqr16onqr2pmKm5qR6qyaq3q+msXq4TsAmyPLSttle5OrxSv5/CG8bGyZzNmdG71f7ZX97b4m3nEuzG8Ib1TfoZ/+MDqghqDR8SxBZWG9EfMyR2KJkslzBtNBk4mDvmPgFC50SVRwlKQUw8TvlPdFGuUqZTWlTLVPdU4FSEVOVTA1PeUXdQ0U7rTMhKakjRRQJD/D/EPFw5xzUGMh8uEirlJZohNR25GCoUiw/hCi8GeAHC/A74YvPA7i3qrOVB4e/cutil1LPQ6cxHydLFjMJ4v5m877l+t0i1TrOSsRWw2K7drSStrax5rIis2qxurUWuXa+1sE2yI7Q2toO4CbvGvbjA3MMwx7HKXM4u0iXWPNpx3sDiJuef6yjwvfRa+fz9ngI+B9cLZhDnFFcZsh30IRomIioGLsYxXDXIOAU8Ej/rQZBE/UYwSSlL5UxjTqJPoVBfUdxRF1IQUshRPlFzUGdPHE6TTMxKykiORhlEb0GQPoA7QDjUND4xgS2gKZ4lfyFGHfYYkhQfEKALGAeLAv39cfnr9G/wAOyh51fjJN8N2xTXPNOIz/3Lm8hmxWHCjr/vvIa6VbhetqO0JLPiseCwHrCbr1mvWK+Xrxew17DWsRSzj7RGtjm4ZLrHvF+/K8IoxVTIrMstz9XSoNaM2pXeueLz5kHrn+8J9Hz49PxtAeUFWArBDh4TaxelG8gf0CO8J4YrLS+uMgY2MjkvPPw+lUH6QyhGHUjYSVdLmkygTWZO7k43T0BPCU+TTt9N60y7S05KpUjCRqhEVkLPPxY9LToVN9EzZTDSLBwpRSVSIUQdHxnnFJ8QSgzsB4kDJP/A+mH2CvK/7YPpWuVI4U7dcdm01RnSo85WyzPIPsV4wuS/hL1Zu2a5rLcstui04LMVs4iyObIpsleyw7Jts1S0eLXYtnK4RbpPvJC+BcGrw4LGhsm2zA7QjNMt1+7azN7E4tPm9uoo72jzsff/+1AAoATsCDANaRGTFasZrh2YIWclFymlLA8wUzNsNlk5GDymPgFBKEMZRdJGUkiYSaJKcUsCTFdMb0xJTOZLRktqSlNJAUh1RrJEt0KHQCQ+kDvMONs1wDJ8LxMshyjbJBIhLx02GSkVCxHhDK0IcwQ2APv7wveR82vvUutL51njft+92xvYmdQ60QLO8soNyFXFzcJ3wFS+Zryuui656Lfbtgm2c7UYtfq0GLVxtQe22Lbjtyi5pbpavEW+ZMC2wjjF6cfHys/N/9BT1MrXYdsV3+Lixua+6sbu2/L69h/7SP9vA5QHsgvGD80TwxemG3EfIyO4Ji0qgC2uMLQzkDZAOcI7Ez4yQB5C1ENTRZpGqUd+SBhJeEmdSYdJNkmrSOVH5kauRT5EmEK9QK4+bTz9OV43kzSfMYMuQyvgJ18kwCAIHTkZVxVkEWUNWwlKBTYBIv0R+QX1BPEP7SnpV+Wb4fjdcdoJ18LTn9Cizc/KJ8isxWDDRcFdv6m9KrziutK5+rhcuPa3y7fatyK4pLhfuVO6frvgvHi+RMBCwnLE0cZeyRbM987/0SvVedjm22/fEuPM5pnqdu5h8lb2UvpS/lICUAZICjcOGxLvFbAZXR3xIGokxScAKxguCjHVM3U26jgwO0Y9Kz/dQFpCo0O0RI9FMUabRsxGxUaFRgxGW0VzRFRDAEJ2QLk+yzyrOl444zU+M3Awey1jKion0SNdIM8cKhlzFaoR1A30CQ0GIQI1/kv6ZvaJ8rju9epE56fjIuC23GjZOtYt00XQhM3ryn7IPsYsxEvCm8Afv9e9xLzou0K707qcup261bpEu+u7yLzbvSK/nsBMwivEOsZ2yN/Kcs0t0A7TEtY42Xzc3N9V4+Tmh+o67vvxxvWZ+XH9SAEfBfEIvAx7EC0UzRdaG9AeLSJuJZAokStvLicxtzMdNlc4ZDpBPO49aT+xQMRBo0JMQ79D/EMCRNFDa0POQvxB9UC6P0w+rTzdOt44szZbNNsxMi9lLHQpYyYzI+gfhBwJGXsV3RExDnoKvAb5AjX/cvuz9/vzTfCt7B3poeU54uvet9ui2KzV2dIr0KPNRcsRyQnHMMWGww3CxsCxv9G+Jb6uvWy9YL2Jvee9er5Cvz3Aa8HMwl3EHcYMyCfKbczcznLRLNQJ1wfaIt1Z4KnjDueH6hHuqPFK9fT4o/xSAAIErgdTC+8OfRL9FWkZwRwBICcjMCYaKeIrhy4GMV0zijWMN2E5CDt/PMU92j68P2tA5kAsQT9BHUHHQD1AgD+QPm49GzyYOuY4Bzf8NMgyazDnLT8rdSiMJYQiYh8nHNYYchX9EXsO7QpYB70DIACF/Oz4WvXQ8VPu5eqI50DkDuH23fraHNhf1cTSTtD/zdjL3MkLyGjG88Suw5nCtsEFwYbAO8AjwD7AjMAMwcDBpcK7wwHFdsYZyOjJ48sHzlLQxNJZ1RDY5trZ3efgDuRK55rq+u1o8eH0Yvjo+3H/+QJ/Bv4JdQ3hED4UixfEGucd8SDgI7ImZCn1K2IuqTDIMr80izYrOJ054Tr1O9k8jT0OPl4+fD5oPiE+qT0APSY8HDviOXo45jYmNTszKDHuLo4sDCpoJ6UkxSHLHrkbkRhWFQoSsQ5NC+AHbgT5AIX9Evql9kDz5u+a7F7pNOYg4yTgQt182tXXT9Xr0q3QlM6kzN3KQcnRx4/Ge8WWxOHDXMMIw+XC88Iyw6HDQcQRxRDGPceXyB3Kz8uqzazP1dEj1JPWJdnU26Deh+GF5Jjnv+r27TrxivTj90H7ov4DAmIFvAgPDFcPkxK+FdgY3RvLHqAhWST1JnEpyysBLhIw/TG+M1Y1wzYDOBc5/DmzOjo7kju6O7I7ejsTO3w6tznDOKM3VTbdNDozbzF9L2QtKCvKKEwmryP2ICQeORs6GCgVBRLVDpoLVggMBb4Bcf4l+933nfRm8TzuIesX6CHlQeJ6383cPdrM13vVTtNE0WHPpM0RzKfKaclWyHHHucYvxtPFp8WpxdrFOcbHxoLHa8h/ycDKK8y/zXvPXdFl05DV3NdI2tLcd9824g3l+Of26gTuIPFH9Hf3rfrm/SABWQSOB7wK4Q36EAQU/hblGbcccR8RIpUk+yZCKWcraC1FL/wwizLxMy01PjYkN903aTjIOPk4/DjSOHs49jdEN2Y2XTUpNMwyRjGZL8Ytzyu1KXsnISWqIhcgbB2pGtIX6BTuEecO1Au4CJYFcAJK/yT8Avnn9dTyzO/S7OjpEOdN5KHhDt+W3Dra/tfi1ejTEtJh0NfOdc07zCzLRsqMyf7InMhnyF7IgsjSyE/J98nKysjL8MxAzrjPVtEZ0wDVCdcy2Xrb3t1e4PbipeVp6D7rJO4Y8Rb0Hvcs+j79UQBjA3IGfAl9DHMPXBI2Ff8XsxpRHdgfRCKUJMYm2SjLKpksRC7JLygxXjJsM1E0DDWbNQA2OTZHNik24DVsNc00BDQRM/YxsjBIL7ktBSwuKjYoHiboI5YhKR+kHAgaWReXFMUR5g77CwcJDQYPAw8AEf0U+h33LvRJ8XHup+vu6EjmuOM/4d/emtxy2mnYgNa41BTTlNE60AbP+s0WzVvMystjyybLE8sry23L2stwzC/NF84nz13QudE709/UptaO2JXaudz63lThxuNO5uromOtW7iLx+PPY9r75qfyV/4ACagVPCCwL/w3HEIATKhbAGEMbrx0CIDwiWSRZJjko+SmXKxEtZy6YL6IwhTE/MtIyOzN8M5MzgDNFM+AyUzKdMcAwvC+SLkItzys5KoIoqya1JKIidCAsHswbVxnPFjQUihHTDhAMRAlyBpsDwgDq/RP7Qfh29bTy/e9U7brqMui+5WDjGeHr3tjc4toK2VLXu9VH1PXSyNHB0N/PJc+RzibO4s3HzdTNCs5nzuzOmM9r0GTRgtLE0ynVsNZY2CDaBdwH3iPgWOKl5AfnfekE7JruPvHs86T2Y/km/Oz+sQF1BDQH7QmeDEQP3BFmFN8WRRmWG9Ad8h/6IeYjtSVlJ/UoZCqwK9os3i2+LngvDDB6MMAw3zDXMKgwUjDVLzIvaS58LWosNCvdKWQoyyYTJT8jTiFDHyAd5RqWGDQWwBM+Ea4OEwxvCcQGFARiAbD+//tS+av2DPR38e/udewL6rTncOVD4y3hMN9O3Ynb4dlY2O/WqNWC1IDTotLp0VXR5tCd0HrQfdCn0PbQa9EF0sTSp9Ot1NbVINeL2BXavduB3WHfWuFs45Tl0Ocg6oDs7+5r8fPzg/Ya+bf7Vv70AJIDLQbCCE8L0w1KELQSDxVYF44Zrhu4HakfgSE9I90kXibBJwMpJCojK/8rtyxMLbwtBy4tLi8uCy7CLVUtwywOLDYrOyoeKeEnhSYJJXEjvCHtHwUeBRzvGcUXiRU8E+AQdw4DDIcJAwd6BO8BY//Y/FD6zfdR9d/yePAe7tPrmOlx513lYON54azf+t1j3OnajdlQ2DTXONZe1afUE9Si01TTK9Mm00TThtPs03XUIdXw1d/W79cg2W/a29tl3QnfyOCf4o7kkeap6NPqDe1V76vxC/R09uT4WvvS/UoAwwI4BakHEwp0DMoOFBFQE3wVlRecGY0bZx0qH9MgYSLTIyglXyZ3J28oRin8KZAqAitRK30rhyttKzEr0ipRKq4p6igFKAEn3SWcJD0jwyEuIIAeuRzcGuoY5RbOFKcScRAvDuILjAkwB84EaQIDAJ79O/vc+IT2NPTv8bXvie1s62DpaOeD5bTj/eFd4Njebt0g3O/a3Nno2BPYX9fM1lrWCdba1c3V4dUY1nDW6daD1z3YF9kQ2ifbXNys3RjfneA84vLjveWe55Hpleuq7c3v+/E19Hf2wfgP+2H9tP8GAlcEowbpCCgLXQ2GD6MRsBOuFZkXcRk0G+Ecdh7yH1QhmyLGI9QkwyWVJkcn2idMKJ4o0CjgKNAonyhOKNwnSyeaJsol3STSI6oiaCELIJQeBh1gG6YZ1xf2FQMUARLyD9YNrwuACUoHDwXQApAAUf4T/Nn5pfd49VPzOvEt7y/tQOti6Zfn4OU/5LTiQeHn36jeg9173I/bwdoR2n/ZDdm62IbYc9h/2KrY9dhg2enZkNpW2zjcN91R3off1eA94rzjUeX75rjoiOpo7FfuVPBd8nH0jPav+Nf6A/0w/1wBhwOvBdIH7gkBDAoOBxD2EdcTpxVlFxAZphomHI8d4R4ZIDchOSIhI+sjmSQpJZsl7yUkJjsmMyYNJsglZCXjJEUkiSOyIr4hsCCJH0ge7xyAG/sZYhi1FvcUKRNMEWEPaw1rC2IJUwc+BSYDCwHy/tn8w/qz+Kj2pvSu8sHw4O4P7Uzrm+n953Lm/OSd41TiJOEN4BDfLt5n3bzcLdy722fbMNsX2xvbPdt829jbUtzn3JndZt5O31DgauGd4ufjR+W95kXo4emO60rtFe/t8NDyvfSz9rD4sfq3/L7+xQDLAs4EzQbGCLcKnwx8Dk0QEBLFE2gV+hZ5GOQZOht6HKIdsh6pH4cgSiHyIX4i7yJEI3wjmCOXI3ojQCPqInki6yFDIYAgpB+uHqAdexw/G+4ZiRgQF4YV6hM/EocQwQ7wDBYLMwlJB1sFaAN0AYD/jP2b+675x/fn9Q/0QvKB8MzuJu2Q6wvql+g35+vlteSV44zim+HD4ATgX9/V3mXeEN7X3bndtt3P3QTeU96+3kPf4t+a4GzhVuJX42/knOXf5jXonekX66LsO+7i75XxVPMb9ev2wvie+n38X/5AACECAATbBbEHgAlGCwMNtQ5bEPMRfBP0FFwWsRfyGB8aNxs4HCMd9h2wHlIf2h9JIJ0g1yD3IP0g6CC4IG8gCyCOH/geSR6DHaQcsBulGoUZUhgLF7IVSBTPEkcRsg8RDmUMrwryCC4HZgWZA8oB/P8t/mD8l/rT+BX3X/Wy8xDyevDw7nXtCeyu6mTpLegJ5/rlAOUc5E/jmeL74XbhCOG04HrgWOBQ4GHgjODQ4CzhouEv4tTikeNj5EzlSuZc54HouekC61vsxO07777wTvLn84r1Nffm+Jz6VfwR/s7/igFEA/sErgZaCAAKnAsvDbYOMRCfEf4STRSLFbgW0RfYGMoZpxpuGx8cuhw8Hagd+x02HlkeZB5WHjAe8h2bHS4dqRwNHFsbkxq2GcUYwReqFoEVRxT+EqYRQBDODlANyQs4CqAIAgdfBbgDDgJkALv+E/1u+835Mvid9hH1jvMW8qnwSu/47bXsguth6lHpU+hp55Pm0uUm5ZDkEOSm41TjGeP14uji8+IU403jneME5IHkE+W85XjmSecu6CXpLupI63PsrO307knwqvEW84v0CvaP9xv5rPpA/Nb9bv8FAZsCLgS9BUcHywhGCrkLIg2ADtIPFhFNEnQTixSRFYUWZxc2GPEYlxkpGqYaDRteG5kbvhvNG8UbpxtzGykbyhpVGssZLRl7GLUX3RbzFfcU7BPQEqYRbxArD9sNgAwdC7EJPQjEBkYFxANAArsAN/+z/TL8tPo8+cn3Xvb79KHzUvIO8dfvru6T7Yfsi+ug6sbp/+hL6KnnHOej5j7m7uW05Y7lfuWD5Z3lzOUQ5mnm1uZY5+znlOhO6Rvq+Orm6+Ps8O0K7zLwZfGk8u3zP/WZ9vr3YfnN+jz8rf0g/5IAAwJzA98ERgaoBwIJVgqgC+AMFQ4/D1wQaxFsEl0TPxQPFc8VfRYYF6EXFhh4GMcYARknGTgZNhkfGfUYthhjGP4XhRf5FlwWrBXsFBsUOxNLEk0RQhArDwcO2QyhC2EKGQnKB3UGHAW/A2ACAAGh/0H+5PyK+zT64/iZ91b2G/Xq88Pyp/GX8JTvn+647eDsGOxg67nqJOqg6S7pz+iD6EroJOgR6BHoJOhL6IXo0egv6aDpI+q26lvrEOzU7Kftie5473TwfPGQ8q3z1PQD9jn3dvi5+QD7SvyW/eT+MQB+AcoCEgRXBZYG0AcDCS4KUAtpDHcNeg5xD1oQNxEFEsQSdBMTFKMUIRWPFesVNRZtFpMWpxaoFpgWdRZBFvsVoxU6FcAUNhScE/MSOxJ0EaAQvw/SDtkN1gzJC7MKlglxCEYHFQbhBKkDbwIzAfj/vf6E/U38Gvvr+cL4oPeE9nH1Z/Rn83Hyh/Gp8NfvE+9d7rbtHe2U7Bvssuta6xLr2+q26qHqnuqr6srq+uo764zr7ete7N/sbu0N7rnuc+868Azx6/HU8sjzxPTJ9db26fcD+SH6Q/tp/JH9uv7j/wsBMwJYA3oElwWwBsIHzgjRCc0KvwuoDIUNWA4eD9gPhBAkEbQRNxKrEg8TZBOpE94TAxQYFB0UEhT2E8sTkBNFE+sSgxILEoUR8hBREKQP6g4lDlUNewyYC6sKtwm7CLkHsQalBZQEgQNrAlQBPQAn/xL+/vzu++L62vnY+Nz36Pb79Rf1PPRr86Ty6fE68ZfwAPB37/vuju4u7t3tm+1n7UPtLu0o7THtSe1w7abt6+097p7uDe+J7xHwpvBI8fTxrPJt8zj0DfXp9c32uPep+J/5mvqY+5n8nf2i/qf/qwCuAbACrwOqBKEFkgZ+B2MIQQkXCuUKqQtjDBMNuA1RDt8OYA/VDz0QlxDkECMRVRF4EY0RlBGNEXgRVREkEeUQmRBAENoPaA/qDmAOyw0rDYEMzQsRC0wKfwmsCNEH8gYNBiQFNwRIA1cCZAFxAH//jv6e/bD8xvvg+v/5I/lN+H73t/b39UD1kvTt81Pzw/I/8sbxWPH38KHwWfAd8O7vzO+377Dvte/H7+fvE/BM8JHw4/BA8anxHfKc8iXzufNV9Pv0qfVf9hz33/ep+Hj5S/oj+/772/y6/Zv+fP9cADsBGgL1As4DowR0BUAGBgfGB4AIMQnbCX0KFgulCysMpgwXDX0N2A0oDmwOpA7RDvEOBQ8ODwoP+g7eDrYOgw5EDvoNpA1FDdoMZgzoC2IL0go6CpoJ8whGCJIH2QYbBlkFkgTJA/4CMAJiAZMAxf/3/iv+Yf2Z/NX7FPtZ+qL58fhG+KL3Bfdw9uP1X/Xk9HL0CfSr81bzDPPN8pjyb/JQ8j3yNPI38kXyXfKB8q/y6PIr83jzz/Mw9Jn0DPWH9Qr2lPYl9773XPgA+an5VvoH+7z7dPwu/en9pv5j/x4A2gCVAU4CBAO4A2gEEwW6BVwG+AaOBx0IpggnCaAJEQp6CtkKMAt+C8IL/AstDFMMcAyCDIsMiQx9DGcMSAweDOwLrwtqCxsLxAplCv4JjwkZCZwIGAiOB/8GawbSBTUFlQTxA0sDowL5AU8BpAD6/0//pv7//Vr9t/wY/H375vpT+sb5Pvm8+ED4y/de9/f2mPZB9vL1rPVu9Tn1DfXp9M/0vvS29Lf0wfTU9PD0FPVB9Xf1tfX79Un2nvb79l73yPc4+K34Kfmp+S76tvpD+9P7Zfz6/JH9Kf7C/lv/9P+LACMBuQFNAt4CbAP4A38EAgWBBfoFbwbdBkYHqAcECFkIpwjuCC0JZAmUCbwJ3An0CQMKCwoLCgIK8gnZCbkJkQlhCSsJ7QioCF0ICwizB1YH8waKBh0GrAU2Bb0EQQTCA0ADvQI3ArEBKgGjABsAlv8Q/4v+Cf6I/Qv9kPwY/KX7NfvK+mP6Afql+U75/fiy+G74L/j498f3nfd59133SPc69zP3NPc790n3Xvd69533x/f29yz4aPiq+PH4PvmQ+eb5Qfqg+gP7afvS+z/8rfwe/ZH9BP55/u/+ZP/a/04AwgA1AaYBFgKDAu0CVQO5AxoEdwTPBCQFdAW/BQUGRQaBBrYG5gYRBzUHUwdrB34HigePB48HiQd8B2oHUgc0BxEH6Aa5BoYGTgYRBs8FiQU/BfEEoARMBPUDmwM+A+ACgAIeArwBWAH0AJAALADK/2j/Bv+m/kj+7P2S/Tr95fyU/EX8+vuz+3D7Mfv2+sD6jvph+jn6Fvr4+d75yvm7+bL5rfmt+bP5vvnN+eL5+/kZ+jv6YvqN+rz68Pom+2H7nvvf+yP8afyx/Pz8Sf2X/eb9N/6I/tv+Lf9//9H/IgBzAMMAEgFfAasB9AE8AoECwwIDA0ADeQOwA+MDEgQ+BGYEigSqBMYE3gTyBAIFDQUVBRgFFwUSBQkF/ATrBNYEvQShBIEEXgQ4BA8E4gOzA4IDTgMYA+ACpgJqAi0C7wGwAXABLwHvAK4AbQAsAO3/rv9v/zL/9v67/oL+S/4V/uL9sf2C/Vb9Lf0G/eL8wfyj/Ij8cPxb/Er8O/ww/Cj8JPwi/CT8Kfwx/Dv8Sfxa/G38hPyc/Lj81fz1/Bf9O/1g/Yj9sf3b/Qf+M/5h/o/+vv7t/h3/TP98/6v/2v8IADYAYwCPALoA5AAMATQBWQF9AZ8BwAHeAfsBFQItAkQCVwJpAnkChgKRApkCoAKkAqUCpQKiAp0ClwKOAoMCdgJnAlcCRQIxAhwCBgLuAdUBuwGgAYQBZwFKASwBDgHwANEAsgCTAHUAVgA4ABsA///j/8f/rP+S/3n/Yf9K/zT/IP8M//r+6v7a/sz+wP61/qv+o/6c/pf+k/6Q/o/+j/6Q/pP+l/6c/qL+qf6x/rr+xP7P/tv+5/70/gH/D/8e/yz/O/9K/1n/aP94/4f/lf+k/7P/wf/O/9v/6P/0/wAACgAUAB4AJgAvADYAPQBDAEgATABQAFIAVABWAFYAVgBVAFQAUgBQAEwASQBFAEEAPAA3ADIALAAmACEAGwAVABAACgAFAAAAAAAAAAAAAAAAAAAAAAAAAAAAAAAAAAAAAAAAAAAAAAAAAAAAAAAAAAAAAAAAAAAAAAAAAAAAAAAAAAAAAAAAAAAAAAAAAAAAAAAAAAAAAAAAAAAAAAAAAAAAAAAAAAAAAAAAAAAAAAAAAAAAAAAAAAAAAAAAAAAAAAAAAAAAAAAAAAAAAAAAAAAAAAAAAAAAAAAAAAAAAAAAAAAAAAAAAAAAAAAAAAAAAAAAAAAAAAAAAAAAAAAAAAAAAAAAAAAAAAAAAAAAAAAAAAAAAAAAAAAAAAAAAAAAAAAAAAAAAAAAAAAAAAAAAAAAAAAAAAAAAAAAAAAAAAAAAAAAAAAAAAAAAAAAAAAAAAAAAAAAAAAAAAAAAAAAAAAAAAAAAAAAAAAAAAAAAAAAAAAAAAAAAAAAAAAAAAAAAAAAAAAAAAAAAAAAAAAAAAAAAAAAAAAAAAAAAAAAAAAAAAAAAAAAAAAAAAAAAAAAAAAAAAAAAAAAAAAAAAAAAAAAAAAAAAAAAAAAAAAAAAAAAAAAAAAAAAAAAAAAAAAAAAAAAAAAAAAAAAAAAAAAAAAAAAAAAAAAAAAAAAAAAAAAAAAAAAAAAAAAAAAAAAAAAAAAAAAAAAAAAAAAAAAAAAAAAAAAAAAAAAAAAAAAAAAAAAAAAAAAAAAAAAAAAAAAAAAAAAAAAAAAAAAAAAAAAAAAAAAAAAAAAAAAAAAAAAAAAAAAAAAAAAAAAAAAAAAAAAAAAAAAAAAAAAAAAAAAAAAAAAAAAAAAAAAAAAAAAAAAAAAAAAAAAAAAAAAAAAAAAAAAAAAAAAAAAAAAAAAAAAAAAAAAAAAAAAAAAAAAAAAAAAAAAAAAAAAAAAAAAAAAAAAAAAAAAAAAAAAAAAAAAAAAAAAAAAAAAAAAAAAAAAAAAAAAAAAAAAAAAAAAAAAAAAAAAAAAAAAAAAAAAAAAAAAAAAAAAAAAAAAAAAAAAAAAAAAAAAAAAAAAAAAAAAAAAAAAAAAAAAAAAAAAAAAAAAAAAAAAAAAAAAAAAAAAAAAAAAAAAAAAAAAAAAAAAAAAAAAAAAAAAAAAAAAAAAAAAAAAAAAAAAAAAAAAAAAAAAAAAAAAAAAAAAAAAAAAAAAAAAAAAAAAAAAAAAAAAAAAAAAAAAAAAAAAAAAAAAAAAAAAAAAAAAAAAAAAAAAAAAAAAAAAAAAAAAAAAAAAAAAAAAAAAAAAAAAAAAAAAAAAAAAAAAAAAAAAAAAAAAAAAAAAAAAAAAAAAAAAAAAAAAAAAAAAAAAAAAAAAAAAAAAAAAAAAAAAAAAAAAAAAAAAAAAAAAAAAAAAAAAAAAAAAAAAAAAAAAAAAAAAAAAAAAAAAAAAAAAAAAAAAAAAAAAAAAAAAAAAAAAAAAAAAAAAAAAAAAAAAAAAAAAAAAAAAAAAAAAAAAAAAAAAAAAAAAAAAAAAAAAAAAAAAAAAAAAAAAAAAAAAAAAAAAAAAAAAAAAAAAAAAAAAAAAAAAAAAAAAAAAAAAAAAAAAAAAAAAAAAAAAAAAAAAAAAAAAAAAAAAAAAAAAAAAAAAAAAAAAAAAAAAAAAAAAAAAAAAAAAAAAAAAAAAAAAAAAAAAAAAAAAAAAAAAAAAAAAAAAAAAAAAAAAAAAAAAAAAAAAAAAAAAAAAAAAAAAAAAAAAAAAAAAAAAAAAAAAAAAAAAAAAAAAAAAAAAAAAAAAAAAAAAAAAAAAAAAAAAAAAAAAAAAAAAAAAAAAAAAAAAAAAAAAAAAAAAAAAAAAAAAAAAAAAAAAAAAAAAAAAAAAAAAAAAAAAAAAAAAAAAAAAAAAAAAAAAAAAAAAAAAAAAAAAAAAAAAAAAAAAAAAAAAAAAAAAAAAAAAAAAAAAAAAAAAAAAAAAAAAAAAAAAAAAAAAAAAAAAAAAAAAAAAAAAAAAAAAAAAAAAAAAAAAAAAAAAAAAAAAAAAAAAAAAAAAAAAAAAAAAAAAAAAAAAAAAAAAAAAAAAAAAAAAAAAAAAAAAAAAAAAAAAAAAAAAAAAAAAAAAAAAAAAAAAAAAAAAAAAAAAAAAAAAAAAAAAAAAAAAAAAAAAAAAAAAAAAAAAAAAAAAAAAAAAAAAAAAAAAAAAAAAAAAAAAAAAAAAAAAAAAAAAAAAAAAAAAAAAAAAAAAAAAAAAAAAAAAAAAAAAAAAAAAAAAAAAAAAAAAAAAAAAAAAAAAAAAAAAAAAAAAAAAAAAAAAAAAAAAAAAAAAAAAAAAAAAAAAAAAAAAAAAAAAAAAAAAAAAAAAAAAAAAAAAAAAAAAAAAAAAAAAAAAAAAAAAAAAAAAAAAAAAAAAAAAAAAAAAAAAAAAAAAAAAAAAAAAAAAAAAAAAAAAAAAAAAAAAAAAAAAAAAAAAAAAAAAAAAAAAAAAAAAAAAAAAAAAAAAAAAAAAAAAAAAAAAAAAAAAAAAAAAAAAAAAAAAAAAAAAAAAAAAAAAAAAAAAAAAAAAAAAAAAAAAAAAAAAAAAAAAAAAAAAAAAAAAAAAAAAAAAAAAAAAAAAAAAAAAAAAAAAAAAAAAAAAAAAAAAAAAAAAAAAAAAAAAAAAAAAAAAAAAAAAAAAAAAAAAAAAAAAAAAAAAAAAAAAAAAAAAAAAAAAAAAAAAAAAAAAAAAAAAAAAAAAAAAAAAAAAAAAAAAAAAAAAAAAAAAAAAAAAAAAAAAAAAAAAAAAAAAAAAAAAAAAAAAAAAAAAAAAAAAAAAAAAAAAAAAAAAAAAAAAAAAAAAAAAAAAAAAAAAAAAAAAAAAAAAAAAAAAAAAAAAAAAAAAAAAAAAAAAAAAAAAAAAAAAAAAAAAAAAAAAAAAAAAAAAAAAAAAAAAAAAAAAAAAAAAAAAAAAAAAAAAAAAAAAAAAAAAAAAAAAAAAAAAAAAAAAAAAAAAAAAAAAAAAAAAAAAAAAAAAAAAAAAAAAAAAAAAAAAAAAAAAAAAAAAAAAAAAAAAAAAAAAAAAAAAAAAAAAAAAAAAAAAAAAAAAAAAAAAAAAAAAAAAAAAAAAAAAAAAAAAAAAAAAAAAAAAAAAAAAAAAAAAAAAAAAAAAAAAAAAAAAAAAAAAAAAAAAAAAAAAAAAAAAAAAAAAAAAAAAAAAAAAAAAAAAAAAAAAAAAAAAAAAAAAAAAAAAAAAAAAAAAAAAAAAAAAAAAAAAAAAAAAAAAAAAAAAAAAAAAAAAAAAAAAAAAAAAAAAAAAAAAAAAAAAAAAAAAAAAAAAAAAAAAAAAAAAAAAAAAAAAAAAAAAAAAAAAAAAAAAAAAAAAAAAAAAAAAAAAAAAAAAAAAAAAAAAAAAAAAAAAAAAAAAAAAAAAAAAAAAAAAAAAAAAAAAAAAAAAAAAAAAAAAAAAAAAAAAAAAAAAAAAAAAAAAAAAAAAAAAAAAAAAAAAAAAAAAAAAAAAAAAAAAAAAAAAAAAAAAAAAAAAAAAAAAAAAAAAAAAAAAAAAAAAAAAAAAAAAAAAAAAAAAAAAAAAAAAAAAAAAAAAAAAAAAAAAAAAAAAAAAAAAAAAAAAAAAAAAAAAAAAAAAAAAAAAAAAAAAAAAAAAAAAAAAAAAAAAAAAAAAAAAAAAAAAAAAAAAAAAAAAAAAAAAAAAAAAAAAAAAAAAAAAAAAAAAAAAAAAAAAAAAAAAAAAAAAAAAAAAAAAAAAAAAAAAAAAAAAAAAAAAAAAAAAAAAAAAAAAAAAAAAAAAAAAAAAAAAAAAAAAAAAAAAAAAAAAAAAAAAAAAAAAAAAAAAAAAAAAAAAAAAAAAAAAAAAAAAAAAAAAAAAAAAAAAAAAAAAAAAAAAAAAAAAAAAAAAAAAAAAAAAAAAAAAAAAAAAAAAAAAAAAAAAAAAAAAAAAAAAAAAAAAAAAAAAAAAAAAAAAAAAAAAAAAAAAAAAAAAAAAAAAAAAAAAAAAAAAAAAAAAAAAAAAAAAAAAAAAAAAAAAAAAAAAAAAAAAAAAAAAAAAAAAAAAAAAAAAAAAAAAAAAAAAAAAAAAAAAAAAAAAAAAAAAAAAAAAAAAAAAAAAAAAAAAAAAAAAAAAAAAAAAAAAAAAAAAAAAAAAAAAAAAAAAAAAAAAAAAAAAAAAAAAAAAAAAAAAAAAAAAAAAAAAAAAAAAAAAAAAAAAAAAAAAAAAAAAAAAAAAAAAAAAAAAAAAAAAAAAAAAAAAAAAAAAAAAAAAAAAAAAAAAAAAAAAAAAAAAAAAAAAAAAAAAAAAAAAAAAAAAAAAAAAAAAAAAAAAAAAAAAAAAAAAAAAAAAAAAAAAAAAAAAAAAAAAAAAAAAAAAAAAAAAAAAAAAAAAAAAAAAAAAAAAAAAAAAAAAAAAAAAAAAAAAAAAAAAAAAAAAAAAAAAAAAAAAAAAAAAAAAAAAAAAAAAAAAAAAAAAAAAAAAAAAAAAAAAAAAAAAAAAAAAAAAAAAAAAAAAAAAAAAAAAAAAAAAAAAAAAAAAAAAAAAAAAAAAAAAAAAAAAAAAAAAAAAAAAAAAAAAAAAAAAAAAAAAAAAAAAAAAAAAAAAAAAAAAAAAAAAAAAAAAAAAAAAAAAAAAAAAAAAAAAAAAAAAAAAAAAAAAAAAAAAAAAAAAAAAAAAAAAAAAAAAAAAAAAAAAAAAAAAAAAAAAAAAAAAAAAAAAAAAAAAAAAAAAAAAAAAAAAAAAAAAAAAAAAAAAAAAAAAAAAAAAAAAAAAAAAAAAAAAAAAAAAAAAAAAAAAAAAAAAAAAAAAAAAAAAAAAAAAAAAAAAAAAAAAAAAAAAAAAAAAAAAAAAAAAAAAAAAAAAAAAAAAAAAAAAAAAAAAAAAAAAAAAAAAAAAAAAAAAAAAAAAAAAAAAAAAAAAAAAAAAAAAAAAAAAAAAAAAAAAAAAAAAAAAAAAAAAAAAAAAAAAAAAAAAAAAAAAAAAAAAAAAAAAAAAAAAAAAAAAAAAAAAAAAAAAAAAAAAAAAAAAAAAAAAAAAAAAAAAAAAAAAAAAAAAAAAAAAAAAAAAAAAAAAAAAAAAAAAAAAAAAAAAAAAAAAAAAAAAAAAAAAAAAAAAAAAAAAAAAAAAAAAAAAAAAAAAAAAAAAAAAAAAAAAAAAAAAAAAAAAAAAAAAAAAAAAAAAAAAAAAAAAAAAAAAAAAAAAAAAAAAAAAAAAAAAAAAAAAAAAAAAAAAAAAAAAAAAAAAAAAAAAAAAAAAAAAAAAAAAAAAAAAAAAAAAAAAAAAAAAAAAAAAAAAAAAAAAAAAAAAAAAAAAAAAAAAAAAAAAAAAAAAAAAAAAAAAAAAAAAAAAAAAAAAAAAAAAAAAAAAAAAAAAAAAAAAAAAAAAAAAAAAAAAAAAAAAAAAAAAAAAAAAAAAAAAAAAAAAAAAAAAAAAAAAAAAAAAAAAAAAAAAAAAAAAAAAAAAAAAAAAAAAAAAAAAAAAAAAAAAAAAAAAAAAAAAAAAAAAAAAAAAAAAAAAAAAAAAAAAAAAAAAAAAAAAAAAAAAAAAAAAAAAAAAAAAAAAAAAAAAAAAAAAAAAAAAAAAAAAAAAAAAAAAAAAAAAAAAAAAAAAAAAAAAAAAAAAAAAAAAAAAAAAAAAAAAAAAAAAAAAAAAAAAAAAAAAAAAAAAAAAAAAAAAAAAAAAAAAAAAAAAAAAAAAAAAAAAAAAAAAAAAAAAAAAAAAAAAAAAAAAAAAAAAAAAAAAAAAAAAAAAAAAAAAAAAAAAAAAAAAAAAAAAAAAAAAAAAAAAAAAAAAAAAAAAAAAAAAAAAAAAAAAAAAAAAAAAAAAAAAAAAAAAAAAAAAAAAAAAAAAAAAAAAAAAAAAAAAAAAAAAAAAAAAAAAAAAAAAAAAAAAAAAAAAAAAAAAAAAAAAAAAAAAAAAAAAAAAAAAAAAAAAAAAAAAAAAAAAAAAAAAAAAAAAAAAAAAAAAAAAAAAAAAAAAAAAAAAAAAAAAAAAAAAAAAAAAAAAAAAAAAAAAAAAAAAAAAAAAAAAAAAAAAAAAAAAAAAAAAAAAAAAAAAAAAAAAAAAAAAAAAAAAAAAAAAAAAAAAAAAAAAAAAAAAAAAAAAAAAAAAAAAAAAAAAAAAAAAAAAAAAAAAAAAAAAAAAAAAAAAAAAAAAAAAAAAAAAAAAAAAAAAAAAAAAAAAAAAAAAAAAAAAAAAAAAAAAAAAAAAAAAAAAAAAAAAAAAAAAAAAAAAAAAAAAAAAAAAAAAAAAAAAAAAAAAAAAAAAAAAAAAAAAAAAAAAAAAAAAAAAAAAAAAAAAAAAAAAAAAAAAAAAAAAAAAAAAAAAAAAAAAAAAAAAAAAAAAAAAAAAAAAAAAAAAAAAAAAAAAAAAAAAAAAAAAAAAAAAAAAAAAAAAAAAAAAAAAAAAAAAAAAAAAAAAAAAAAAAAAAAAAAAAAAAAAAAAAAAAAAAAAAAAAAAAAAAAAAAAAAAAAAAAAAAAAAAAAAAAAAAAAAAAAAAAAAAAAAAAAAAAAAAAAAAAAAAAAAAAAAAAAAAAAAAAAAAAAAAAAAAAAAAAAAAAAAAAAAAAAAAAAAAAAAAAAAAAAAAAAAAAAAAAAAAAAAAAAAAAAAAAAAAAAAAAAAAAAAAAAAAAAAAAAAAAAAAAAAAAAAAAAAAAAAAAAAAAAAAAAAAAAAAAAAAAAAAAAAAAAAAAAAAAAAAAAAAAAAAAAAAAAAAAAAAAAAAAAAAAAAAAAAAAAAAAAAAAAAAAAAAAAAAAAAAAAAAAAAAAAAAAAAAAAAAAAAAAAAAAAAAAAAAAAAAAAAAAAAAAAAAAAAAAAAAAAAAAAAAAAAAAAAAAAAAAAAAAAAAAAAAAAAAAAAAAAAAAAAAAAAAAAAAAAAAAAAAAAAAAAAAAAAAAAAAAAAAAAAAAAAAAAAAAAAAAAAAAAAAAAAAAAAAAAAAAAAAAAAAAAAAAAAAAAAAAAAAAAAAAAAAAAAAAAAAAAAAAAAAAAAAAAAAAAAAAAAAAAAAAAAAAAAAAAAAAAAAAAAAAAAAAAAAAAAAAAAAAAAAAAAAAAAAAAAAAAAAAAAAAAAAAAAAAAAAAAAAAAAAAAAAAAAAAAAAAAAAAAAAAAAAAAAAAAAAAAAAAAAAAAAAAAAAAAAAAAAAAAAAAAAAAAAAAAAAAAAAAAAAAAAAAAAAAAAAAAAAAAAAAAAAAAAAAAAAAAAAAAAAAAAAAAAAAAAAAAAAAAAAAAAAAAAAAAAAAAAAAAAAAAAAAAAAAAAAAAAAAAAAAAAAAAAAAAAAAAAAAAAAAAAAAAAAAAAAAAAAAAAAAAAAAAAAAAAAAAAAAAAAAAAAAAAAAAAAAAAAAAAAAAAAAAAAAAAAAAAAAAAAAAAAAAAAAAAAAAAAAAAAAAAAAAAAAAAAAAAAAAAAAAAAAAAAAAAAAAAAAAAAAAAAAAAAAAAAAAAAAAAAAAAAAAAAAAAAAAAAAAAAAAAAAAAAAAAAAAAAAAAAAAAAAAAAAAAAAAAAAAAAAAAAAAAAAAAAAAAAAAAAAAAAAAAAAAAAAAAAAAAAAAAAAAAAAAAAAAAAAAAAAAAAAAAAAAAAAAAAAAAAAAAAAAAAAAAAAAAAAAAAAAAAAAAAAAAAAAAAAAAAAAAAAAAAAAAAAAAAAAAAAAAAAAAAAAAAAAAAAAAAAAAAAAAAAAAAAAAAAAAAAAAAAAAAAAAAAAAAAAAAAAAAAAAAAAAAAAAAAAAAAAAAAAAAAAAAAAAAAAAAAAAAAAAAAAAAAAAAAAAAAAAAAAAAAAAAAAAAAAAAAAAAAAAAAAAAAAAAAAAAAAAAAAAAAAAAAAAAAAAAAAAAAAAAAAAAAAAAAAAAAAAAAAAAAAAAAAAAAAAAAAAAAAAAAAAAAAAAAAAAAAAAAAAAAAAAAAAAAAAAAAAAAAAAAAAAAAAAAAAAAAAAAAAAAAAAAAAAAAAAAAAAAAAAAAAAAAAAAAAAAAAAAAAAAAAAAAAAAAAAAAAAAAAAAAAAAAAAAAAAAAAAAAAAAAAAAAAAAAAAAAAAAAAAAAAAAAAAAAAAAAAAAAAAAAAAAAAAAAAAAAAAAAAAAAAAAAAAAAAAAAAAAAAAAAAAAAAAAAAAAAAAAAAAAAAAAAAAAAAAAAAAAAAAAAAAAAAAAAAAAAAAAAAAAAAAAAAAAAAAAAAAAAAAAAAAAAAAAAAAAAAAAAAAAAAAAAAAAAAAAAAAAAAAAAAAAAAAAAAAAAAAAAAAAAAAAAAAAAAAAAAAAAAAAAAAAAAAAAAAAAAAAAAAAAAAAAAAAAAAAAAAAAAAAAAAAAAAAAAAAAAAAAAAAAAAAAAAAAAAAAAAAAAAAAAAAAAAAAAAAAAAAAAAAAAAAAAAAAAAAAAAAAAAAAAAAAAAAAAAAAAAAAAAAAAAAAAAAAAAAAAAAAAAAAAAAAAAAAAAAAAAAAAAAAAAAAAAAAAAAAAAAAAAAAAAAAAAAAAAAAAAAAAAAAAAAAAAAAAAAAAAAAAAAAAAAAAAAAAAAAAAAAAAAAAAAAAAAAAAAAAAAAAAAAAAAAAAAAAAAAAAAAAAAAAAAAAAAAAAAAAAAAAAAAAAAAAAAAAAAAAAAAAAAAAAAAAAAAAAAAAAAAAAAAAAAAAAAAAAAAAAAAAAAAAAAAAAAAAAAAAAAAAAAAAAAAAAAAAAAAAAAAAAAAAAAAAAAAAAAAAAAAAAAAAAAAAAAAAAAAAAAAAAAAAAAAAAAAAAAAAAAAAAAAAAAAAAAAAAAAAAAAAAAAAAAAAAAAAAAAAAAAAAAAAAAAAAAAAAAAAAAAAAAAAAAAAAAAAAAAAAAAAAAAAAAAAAAAAAAAAAAAAAAAAAAAAAAAAAAAAAAAAAAAAAAAAAAAAAAAAAAAAAAAAAAAAAAAAAAAAAAAAAAAAAAAAAAAAAAAAAAAAAAAAAAAAAAAAAAAAAAAAAAAAAAAAAAAAAAAAAAAAAAAAAAAAAAAAAAAAAAAAAAAAAAAAAAAAAAAAAAAAAAAAAAAAAAAAAAAAAAAAAAAAAAAAAAAAAAAAAAAAAAAAAAAAAAAAAAAAAAAAAAAAAAAAAAAAAAAAAAAAAAAAAAAAAAAAAAAAAAAAAAAAAAAAAAAAAAAAAAAAAAAAAAAAAAAAAAAAAAAAAAAAAAAAAAAAAAAAAAAAAAAAAAAAAAAAAAAAAAAAAAAAAAAAAAAAAAAAAAAAAAAAAAAAAAAAAAAAAAAAAAAAAAAAAAAAAAAAAAAAAAAAAAAAAAAAAAAAAAAAAAAAAAAAAAAAAAAAAAAAAAAAAAAAAAAAAAAAAAAAAAAAAAAAAAAAAAAAAAAAAAAAAAAAAAAAAAAAAAAAAAAAAAAAAAAAAAAAAAAAAAAAAAAAAAAAAAAAAAAAAAAAAAAAAAAAAAAAAAAAAAAAAAAAAAAAAAAAAAAAAAAAAAAAAAAAAAAAAAAAAAAAAAAAAAAAAAAAAAAAAAAAAAAAAAAAAAAAAAAAAAAAAAAAAAAAAAAAAAAAAAAAAAAAAAAAAAAAAAAAAAAAAAAAAAAAAAAAAAAAAAAAAAAAAAAAAAAAAAAAAAAAAAAAAAAAAAAAAAAAAAAAAAAAAAAAAAAAAAAAAAAAAAAAAAAAAAAAAAAAAAAAAAAAAAAAAAAAAAAAAAAAAAAAAAAAAAAAAAAAAAAAAAAAAAAAAAAAAAAAAAAAAAAAAAAAAAAAAAAAAAAAAAAAAAAAAAAAAAAAAAAAAAAAAAAAAAAAAAAAAAAAAAAAAAAAAAAAAAAAAAAAAAAAAAAAAAAAAAAAAAAAAAAAAAAAAAAAAAAAAAAAAAAAAAAAAAAAAAAAAAAAAAAAAAAAAAAAAAAAAAAAAAAAAAAAAAAAAAAAAAAAAAAAAAAAAAAAAAAAAAAAAAAAAAAAAAAAAAAAAAAAAAALkKXhXbHx0qEjSoPc1GcU+FV/pexGXVayNxpXVTeSZ8GX4of1N/mX77fHx6InfxcvNtL2ixYYRatVJSSmtBEDhSLkEk8Rl0D9wEPvqs7zjl9tr40FHHEb5JtQmtX6VZngWYbJKajZaJZ4YUhKCCDoJfgpKDpIWSiFeM65BHll+cKqObqqWyObtGxL7Nj9eo4fXrZfbjAF8LxRUDIAUqujMQPfhFX045VnZdCmTpaQlvX3PmdpZ5a3tifHh8r3sHeoR3K3QBcA5rW2XyXuBXMVDzRzQ/BjZ3LJoigBg8Dt8Df/kq7/bk89o10c3Hy75Atjuuy6b8n9uZcpTMj/GL54i0hluF34RBhYCGmYiIi0mP1JMhmSaf2KUsrRO1gL1jxq3PTNkv40Xteve8AfsLIhYhIOMpWTNxPBpFRk3mVOxbS2L4Z+psFnF3dAV3vXibeZ95yHgXd5B0OHEVbS9ojWI8XEVVtk2cRQY9BDSmKv0gGRcODe0Cyfiz7r3k+tp80VLIjr9At3WvPaikobabfZYDkk+OaItUiRaIr4ciiGuJiot6jjaSt5b0m+Whfqizr3i3vr92yJHR/tqs5IruhfiMAo0MdhY1ILgp7zLIOzVEJkyMU1tahmADZsdqym4FcnN0DnbVdsZ24nUpdKBxS24valZlx1+MWbFSQ0tOQ+I6DTLfKGofvRXrCwUCHvhF7o7kC9vL0eDIWcBGuLawtqlSo5adjJg8lLCQ7I32i9GKf4oAi1SMeI5okR6VlJnCnp2kHKszstW588GAymzTp9wf5sXvhvlQAxQNvxY/IIMpfDIYO0hD/kosUsRYvF4JZKBoe2ySb99xX3MQdO9z/nI/cbNuYWtPZ4NiBl3kViVQ2EgJQcY4HzAiJ+AdaxTSCicBfPfi7WnkJNsj0nbJLMFVuf6xNasFpXufnpp5lhOTcZCYjoyNTY3djTuPY5FRlAGYbJyJoU+ns62rtCm8IMSBzD3VRd6I5/bwffoLBJIN/hZAIEYpADJfOlNCz0nFUChX7VwKYnZmKWocbUpvsHBLcRpxHXBXbsprfWhzZLZfTVpDVKJNdkbNPrQ2Oy5vJWEcIhPDCVMA5faI7U7kR9uE0hXKB8Jruk2zuqy+pmShtZy6mHiV+JI7kUaQG5C5kB+SSpQ3l+CaPp9JpPmpQrAat3S+Q8Z4zgTX2t/n6Bzyafu8BAUONBc3IP8ofDGeOVdBmUhXT4VVGVsHYEhk1GekarRsAG6GbkVuPm1ya+ZonWWdYe9cmlepUSZLHUSaPKw0YCzGI+0a5RG+CIr/WPY47TzkdNvv0rzK6sKIu6O0Rq59qFOj0J79muCXgJXfkwGT55KSkwCVLpcYmrmdCqIDp5ysyrKBubfAXMhl0MLYZOE86jnzTPxiBW8OYBclIK8o7jDUOFJAW0fjTd1TP1kAXhdifGUraB1qUWvDa3NrYWqRaAVmwWLNXi5a71QXT7JIy0FwOqwyjyomIoIZsRDDB8v+1fXy7DTkqdti02zL1cOtvP+1169Bqkal76BDnUqaCZiDlruVs5Vplt6XDZr0nIyg0KS3qTivSbXgu/DCbcpJ0nba5eKG60v0JP3/Bc8OghcKIFYoWTADOEY/F0ZoTC9SYVf1W+JfImOwZYZnoWgAaaJoh2ezZShj618CXHRXSlKMTEZGgz9OOLYwxyiQICEYhw/TBhX+W/W27DXk6Nvd0yPMyMTZvWK3b7EKrD2nEaONn7eclJoomXWYfJg+mbma6pzMn1ujkKdjrMyxwbc3viHFdcwk1CDcW+TH7FT18v2SBiUPmxflH/Qnui8pNzM+zEToSnxQflXmWapdxmAzY+1k8WU+ZtJlsGTYYk9gGl09WcBUrE8JSuNDQz02NskuCScFH8oWZw7sBWn97PSE7EDkMNxi1OTMw8UMv8u4DLPYrTmpN6XZoSWfH53Mmy6bRZsRnJGdwp+foiSmSqoKr1q0MbqFwErHc8711cDdyOX+7VL2tv4aB3EPqhe3H4onFC9INhk9ekNhScNOllPSV29bZ161YFRiQmN9YwVj22EBYHtdTVp9VhNSFU2OR4dBDDsnNOYsVSWDHX0VUg0QBcj8hvRb7FTkgdzv1KzNxcZGwDu6r7SrrzmrYKcnpJWhrJ9xnuadDJ7inmaglqJupeio/qypseC2mbzLwmnJaNC811ffK+cq70b3cP+ZB7MPsBeAHxYnZS5eNfc7IkLVRwVNqlG7VTFZBlw1Xrpfk2C9YDpgCV8uXatahlfEU2xPhkoaRTQ/3TghMgsrqiMKHDoURgw+BDD8KvQ77HHk29yE1XzOzseHwbG7V7aDsT2tjal5pgakOqIWoZ6g0aCwoTijZ6U4qKarrK9BtF65+b4IxYDLVdJ62eTghOhN8DD4IAAOCOwPrBdAH5omri1tNM46w0BCRkJLuU+hU/BWo1m0WyBd5F3/XXBdOlxeWuBXxFQQUctM/UeuQuk8tzYjMDspCSKcGgETRAt1A6P72PMl7JjkPd0i1lTP38jPwi29Bbhgs0WvvavMqHqmyKS7o1WjlaN7pAamM6j9ql+uVLLTttW7UcE9x43NN9Qv22fi0+ll8RH5xgB5CBsQnxf3HhYm7ix1M505XT+qRHlJxE2CUa1UPlcyWYZaNltBW6lablmSVxlVB1JiTjFKfEVKQKY6mTQvLnMnciA4GdERTQq3Ah/7kPMZ7MfkqN3J1jTQ98kdxLC+ublBtVGx8K0iq+6oV6dgpgumV6ZEp9Go+6q9rRKx9bReuUW+ocNpyZLPEdba3ODjGOt08uf5YgHaCEEQiRelHoklJyx1MmY48T0LQ6xHy0tgT2ZS11SvVutXiFiGWORXpVbKVFZST0+6S55HAkPuPWs4hDJELLUl5B7dF6wQXwkCAqX6UfMW7ADlHN531xzRF8tyxTjAcbsnt2GzJrB7rWWr56kFqb+oF6kLqpmrv614sMCzkLfiu63A6cWNy47R4dd73lDlVOx587P69QEyCV0QahdKHvMkWCttMSg3fzxoQdpFzUk7TR1Qb1IrVFBV21XMVSJV31MFUplPnUwZSRFFj0CZOzk2eDBiKgEkYB2MFpEPewhYATT6HPMc7ELlmd4u2AzSPszOxsbBL70SuXW1X7LVr9ytd6ypq3Or1avOrF2ufrAus2e2JLpevg7DKcipzYHTqNkT4Lbmhe109Hb7fgKACXAQQRfnHVUkgCpeMOM1Bzu/PwNEzEcTS9JNBFCmUbVSL1MTU2JSHFFFT+BM8Ul9RoxCIz5MOQ80dS6JKFYi5htFFX8OoQe3AM758PIs7IzlHt/t2APTa80wyFrD8r4Bu4y3m7QyslWwCK9NriWuka6Prx2xObPftQm5s7zUwGbFYcq7z2vVZtui4RLore5l9S/8/QLFCXoQDxd6Ha8joSlIL5g0iDkQPidCxkXnSIRLmE0hTxpQhFBcUKRPXU6JTCtKSUfoQw1AvzsHN+0xeyy5JrQgdRoHFHcN0QYgAHH5zvJE7ODlrN+02QLUoM6YyfTEu8D0vKe52baQtM+ymbHxsNawS7FMstqz8LWKuKW7Or9Dw7jHkczG0UzXG90n42Xpy+9M9t38cgMACnoQ1RYFHQAjuigqLkYzBDhcPEdAvUO4RjRJK0uaTIBN2U2nTelMoUvRSXxHqERYQZQ9YjnKNNQviSrzJBsfDRnUEnoMCwaT/x35tfJm7DzmQuCC2gjV288Hy5PGh8LrvsW7G7nwtkq1KrSTs4azArQHtZK2orgxuzu+u8GqxQHKuM7H0yTZxt6i5K7q3/Ap94P93QMxCnEQkRaIHEkizCcGLe0xejajOmI+sEGGROFGvEgTSuVKMEv0SjFK6EgdR9JEDELQPiM7DTeVMsMtoCg1I4wdsBeqEYULTgUQ/9P4pfKR7KHm4OBZ2xXWHtF8zDjIWcTnwOe9X7tSuca3u7Y1tjS2t7a+t0e5T7vSvcvANcQKyEPM2NDA1fPaaOAU5u3r6fH99x7+QARZCl4QRRYCHIsh1ibaK44w6jTlOHk8nz9SQo1ETEaMR0tIiEhDSHtHM0ZtRC1Cdj9NPLk4wDRoMLsrwCaBIQccXBaJEJsKmwSW/pP4n/LF7A/nh+E43CrXZ9L3zeLJMMbmwgzApb22u0K6TbnWuOC4arlzuvi7+L1twFXDqcZjyn3O79Kw17ncAeJ85yPt6vLH+LD+mAR4CkMQ8BVzG8Qg2SWoKikvVDMiN4s6iz0bQDdC20MFRbJF4kWURclEgkPCQY0/5TzROVY2eTJDLrsp6STWH4saERVzD7sJ8gMl/lz4ovIC7YXnNuIe3UXYttN4z5HLC8jpxDPC7b8bvsC83rt2u4u7GrwjvaW+m8ADw9nFFsm1zK/Q/dSY2XbekOPb6E/u4fOH+Tj/5wSNCh4QkhXcGvUf1CRuKb0tuTFaNZo4czvhPd4/aUF9QhlDPEPnQhlC1EAcP/I8WzpbN/kzOzAmLMQnGyM0HhgZ0BNmDuQIUwO+/S/4rvJH7QTo7eIL3mjZDNX+0EbN6snwxl7EOMKBwD2/br4WvjO+yL7Rv03BOsOUxVbIfMv/ztnSBNd32yrgFuUx6nHvzvQ++rb/LAWZCvEPKxU9Gh8fxyMuKEwsGDCNM6Q2WDmkO4Q99T71P4FAmUA8QGw/Kz56PFw61jfsNKQxBC4SKtUlVSGbHK4XmRJjDRYIvQJh/Qr4xPKW7YvorOMB35LaaNaL0gDPzsv7yIzGhcTpwrzB/8C0wNrAcsF7wvLD1MUfyM3K281C0fzUAtlN3dXhk+Z964rwsvXq+ioAaQWcCrsPvBSWGUEetCLoJtQqci67Mao0OjdlOSk7gTxtPek99z2UPcM8hTvcOcw3VzWEMlYv1SsFKO8jmR8LG04WaxFpDFMHMQIN/fD34vLt7RrpcuT938Pby9cd1L7Qts0Jy7zI08ZSxTvEj8NQw3/DGsQhxZLGacikyj7NM9B90xbX99oa33fjBui/7JnxjPaO+5UAmwWWCnsPRBTnGFsdmiGaJVYpxizlL60yGTUkN8w4DTrlOlM7VjvuOh064zhDN0E13zIiMBAtrSkBJhEi5R2FGfgURhB5C5kGrgHD/N73CfNN7rLpQeUB4frcNNm01YLSos8bze/KJMm8x7rGHsbsxSHGv8bExy3J+cokzanPhNKx1SjZ5dzf4BDlcen47Z/yXPcn/PcAxQWGCjMPxBMvGG4ceCBHJNMnFisLLqww9DLhNG02lzddOL04tzhLOHo3RTavNLsybDDHLdAqjicFJDwgOhwHGKsTLA+TCukFNQGC/Nb3OfO17lLqF+YM4jneo9pS10rUk9EwzyXNdssnyjnJrciGyMLIYcljysXLhM2dzw3Sz9Td1zPbyt6b4qDm0uoo75vzI/i3/E8B5QVuCuMOOxNwF3kbUB/sIkkmYCksLKcuzTCbMg00ITXWNSk2GjarNds0rDMgMjswAC5zK5godiURIm8emRqTFmcSGg62CUIFxQBK/Nb3cvMm7/rq9eYf437fGNz02BfWh9NI0V3Pys2TzLjLPMsey2DLAMz+zFfOCdAR0mvUEtcC2jXdpuBO5CfoKexO8I304Pg+/Z4B/AVMCokOqxKpFn0aIB6MIbokpidIKp4soy5TMKwxqzJPM5YzgDMNMz8yFzGWL8EtmislKWcmZSMlIKwcABkoFSwREw3jCKUEXwAc/OD3tPOg76vr2+c45Mngk92c2unXf9Vj05fRIND/zjfOyc21zfzNnM6Vz+XQidJ/1MLWTtkf3DDfeuL45aXpeO1q8Xb1lPm7/eQBCQYiCicOEhLaFXoZ6hwmICYj5iVhKJIqdywKLkovNDDIMAQx5zByMKcvhS4RLUwrOinfJj4kXSFBHvAacBfHE/sPFAwZCBEEAwD3+/P3//Mi8GPsyOhZ5RviFN9J3L/Ze9eB1dTTd9Jt0bbQVdBK0JXQNdEp0m7TBNXm1hLZg9s03iLhReSa5xnrve5+8lb2Pvov/iACDgbvCb0NcBEDFW8YrRu5HowhIiR2JoMoRyq/K+csvi1CLnMuUC7aLRIt+SuRKt0o4SafJBwiXR9mHD4Z6RVuEtMOHwtZB4YDsP/b+w/4UvSs8CPtvemA5nPjmuD73Zrbe9mi1xPW0NTb0zXT4dLe0ivTytO41PPVeddI2Vzbsd1C4AzjCOYz6YXs+O+I8yz33/qZ/lQCCQazCUoNxxAlFF0XahpGHe0fWSKGJHEmFihyKYMqRyu9K+QrvCtFK4EqcSkWKHQmjiRmIgIgZR2UGpQXaxQfEbUNNAqiBgYDZv/I+zP4rvQ+8evtueqv59HkJuKy33jdftvG2VTYKddJ1rTVa9Vv1b/VXNZD13PY6dmk25/d199I4u7kw+fC6uftK/GI9Pj3dvv6/n0C/AVuCc4MFhA/E0QWIBnOG0geiyCTIlsk4SUjJx4o0Cg4KVYpKimzKPQn7SahJREkQSI0IO8ddBvJGPMV9hLZD6AMUgn1BY4CJf+++2H4EvXZ8bruvOvk6DbmuONu4Vvfhd3t25fahNm42DLY9Nf+11HY6tjK2e3aVNz53dvf9uFG5MfmdelJ7EDvVPJ/9bz4BPxS/54C5gUhCUsMXQ9SEiUV0BdQGp8cuR6cIEMiqyPTJLglWSa0JsommiYkJmslbiQwI7Qh+x8KHuMbjBkHF1oUihGcDpQLeQhRBSAC7v6++5f4f/V78pHvxuwf6qDnT+Uu40Lhj98W3tvc4Nsn27DafNqM2t/addtM3GPduN5I4BHiDuQ95pnoHuvI7ZHwdPNt9nX5iPyg/7YCxgXLCL8LnA5dEf4TeRbMGPAa4xyhHicgcyGBIlIj4iMxJEAkDSSZI+Ui9CHFIFwfux3mG98ZqxdOFcsSJxBoDZIKqge2BLsBv/7G+9b49PUm83Dw2O1h6xHp6+bz5C3jnOFC4CLfPd6W3S3dAt0X3Wrd/N3K3tTfF+GR4j/kH+Ys6GLqv+w979jxi/RR9yb6A/3l/8QCngVtCCoL0w1hENASHRVCFzwZCBujHAkeOB8uIOsgayGwIbchgiERIWQgfh9fHgsdgxvKGeMX0xWcE0QRzQ49DJkJ5AYlBF8Bmv7X+x75cvbZ81fx8O6q7Ijqjei95hzlrONw4mrhm+AF4Knfh9+g3/Pff+BE4UDicOPU5GfmKOgS6iPsV+6p8BbzmPUs+M36df0gAMoCbQUGCI4KAg1eD5wRuhOzFYQXKRmhGucb+xzaHYMe9R4vHzEf+h6MHucdDR3/G78aUBm0F+8VAxT0EcYPfA0cC6kIKAadAw0Bfv7y+275+PaT9ETyEPD57QTsNOqM6A/nwOWh5LPj+uJ04iTiC+In4nji/+K546bkxOUQ54joKerx69zt5u8N8kv0nPb++Gr73v1TAMYCNAWWB+oJKgxTDmEQURIeFMYVRhecGMQZvRqFGxwcgBywHKwcdRwLHG8boRqlGXoYJRemFQIUOxJTEFAONAwECsIHdQUeA8QAa/4U/Mf5hvdV9TrzNvFO74bt3+te6gXp1ufT5v7lWeXj5J/kjOSr5PrkeuUq5gfnEehF6aLqI+zI7YzvbfFn83f1l/fG+f/7Pf58ALoC8QQfBz4JSgtCDSAP4hCEEgQUXxWTFp0XfRgvGbQZChoyGioa8xmNGfoYOhhQFzsWABWgEx0SexC8DuMM9Qr1COUGywSpAoQAYP5A/Cj6HPgf9jb0Y/Kq8A3vkO017P/q7+kI6UvouOdS5xnnDOcs53nn8ueW6GPpWep067TsFu6X7zXx7PK59Jn2ifiF+or8k/6dAKUCpwSfBokIYwopDNgNbQ/lED4SdROHFHUVOxbYFkwXlhe1F6oXcxcTF4oW2BUAFQMU4hKgEUAQww4sDX8LvwnvBxEGKgQ9Ak0AX/51/JL6uvjx9jr1l/ML8prwRu8R7v3sC+w/65jqGerB6ZHpiumr6fXpZur96rnrmuyd7cDuAfBe8dTyYfQC9rP3cvk7+wz94P60AIcCUwQWBs0HdQkKC4oM8w1BD3MQhhF5EkoT9xOAFOQUIhU6FSwV9xSdFB4UfBO3EtARyxCoD2oOEw2mCyQKkgjyBkYFkwPaAR8AZ/6y/AT7YfnK90T20fRz8y3yAPHw7/3uKu547efseewv7AnsBuwo7G3s1exf7Qru1e6/78Tw5PEd82z0zvVC98T4Ufro+4X9JP/DAGAC9wOGBQkHfwjkCTYLcgyYDaMOlA9nEBwRshEoEnwSrxLBErASfhIrErcRJBFzEKQPuw63DZwMbAsnCtIIbgf+BYUEBAOAAfz/d/73/H77D/qr+Fb3Evbh9MXzv/LT8QHxS/Cy7zfv2u6d7n/ugO6h7uHuQO+971bwC/Ha8cLywPPU9Pv1Mvd5+Mv5KPuL/PT9X//JADACkwPuBD4Ggge3CNsJ7QrpC88Mng1TDu0ObA/PDxUQPhBJEDcQCBC8D1UP0g41Dn8NsgzOC9YKzAmyCIkHUwYUBcwDfwIvAeD/kf5G/QH8xfqT+W/4WfdU9mL1g/S68wnzb/Lu8YfxO/EK8fPw+PAY8VLxp/EV8pzyOvPu87j0lPWD9oH3jvin+cr69fsm/Vr+kf/FAPgBJgNNBGsFfgaEB3sIYQk2CvgKpAs7DLwMJQ11Da0NzQ3TDcANlQ1SDfcMhQz9C2ALrwrsCRkJNQhFB0gGQQUyBB0DAwLoAM3/s/6c/Yz8g/uD+o75p/jN9wT3S/al9RP1lfQs9NnznPN282bzbvOM88DzCvRp9Nz0Y/X89ab2Yfcq+P/44fnM+r/7ufy3/bj+uv+5ALgBsQKlA5AEcgVJBhQH0Qd+CBwJqAkhCogK3AobC0YLXQtfC0wLJgvrCp0KPQrLCUcJtAgSCGIHpwbgBRAFOARaA3cCkQGpAMP/3f77/R79SPx6+7X6+vlM+av4GPiU9yD3vfZr9iv2/fXh9dj14fX89Sn2aPa39hf3hvcD+I74JfnI+XX6K/vo+6z8dP0//gz/2f+lAG4BNAL1Aq4DYAQJBacFOwbCBjwHqAcFCFMIkgjBCOAI7gjtCNsIugiJCEkI+wefBzUHwAY/BrQFIAWEBOEDOAOKAtoBJwF0AML/Ef9j/rn9Ff14/OL7VPvQ+lf66fmG+TD55/is+H74XvhM+Ej4Uvhq+I/4wfgA+Uv5ovkD+m764vpf++P7bPz8/I/9Jf6+/lf/8P+HAB0BrwE8AsUCRwPCAzUEnwQBBVgFpAXmBRwGRwZnBnoGgQZ9Bm0GUQYrBvoFvgV5BSoF0wR0BA4EogMxA7oCQQLEAUYBxgBHAMr/Tf/T/lz+6v19/RX9tPxa/Aj8vvt8+0P7FPvu+tH6v/q2+rb6wfrU+vH6FvtE+3r7uPv8+0f8mPzt/Ef9pf0G/mn+zv40/5n//v9hAMIAIQF9AdQBJwJ1Ar0C/wI7A3ADngPFA+QD/AMMBBQEFgQPBAEE7QPRA68DhwNZAyUD7QKxAnACLALmAZ0BUwEHAbsAbwAjANr/kf9L/wf/xv6J/k/+Gv7p/b79l/11/Vn9Qv0x/SX9H/0e/SP9Lf07/U/9Z/2D/aP9x/3u/Rj+Rf5z/qT+1f4I/zv/bv+h/9P/AwAyAGAAjAC1ANwAAAEhAT8BWgFxAYUBlQGhAaoBrwGxAbABqwGjAZkBiwF8AWkBVQE/AScBDwH1ANoAvwCkAIgAbQBTADkAIAAIAPP/3v/L/7n/qv+c/5D/hv9+/3j/dP9y/3H/cv91/3n/f/+G/43/lv+f/6n/s/+9/8b/0P/a/+L/6v/x//j//f8AAAAAAAAAAAAAAAAAAAAAAAAAAAAAAAAAAAAAAAAAAAAAAAAAAAAAAAAAAAAAAAAAAAAAAAAAAAAAAAAAAAAAAAAAAAAAAAAAAAAAAAAAAAAAAAAAAAAAAAAAAAAAAAAAAAAAAAAAAAAAAAAAAAAAAAAAAAAAAAAAAAAAAAAAAAAAAAAAAAAAAAAAAAAAAAAAAAAAAAAAAAAAAAAAAAAAAAAAAAAAAAAAAAAAAAAAAAAAAAAAAAAAAAAAAAAAAAAAAAAAAAAAAAAAAAAAAAAAAAAAAAAAAAAAAAAAAAAAAAAAAAAAAAAAAAAAAAAAAAAAAAAAAAAAAAAAAAAAAAAAAAAAAAAAAAAAAAAAAAAAAAAAAAAAAAAAAAAAAAAAAAAAAAAAAAAAAAAAAAAAAAAAAAAAAAAAAAAAAAAAAAAAAAAAAAAAAAAAAAAAAAAAAAAAAAAAAAAAAAAAAAAAAAAAAAAAAAAAAAAAAAAAAAAAAAAAAAAAAAAAAAAAAAAAAAAAAAAAAAAAAAAAAAAAAAAAAAAAAAAAAAAAAAAAAAAAAAAAAAAAAAAAAAAAAAAAAAAAAAAAAAAAAAAAAAAAAAAAAAAAAAAAAAAAAAAAAAAAAAAAAAAAAAAAAAAAAAAAAAAAAAAAAAAAAAAAAAAAAAAAAAAAAAAAAAAAAAAAAAAAAAAAAAAAAAAAAAAAAAAAAAAAAAAAAAAAAAAAAAAAAAAAAAAAAAAAAAAAAAAAAAAAAAAAAAAAAAAAAAAAAAAAAAAAAAAAAAAAAAAAAAAAAAAAAAAAAAAAAAAAAAAAAAAAAAAAAAAAAAAAAAAAAAAAAAAAAAAAAAAAAAAAAAAAAAAAAAAAAAAAAAAAAAAAAAAAAAAAAAAAAAAAAAAAAAAAAAAAAAAAAAAAAAAAAAAAAAAAAAAAAAAAAAAAAAAAAAAAAAAAAAAAAAAAAAAAAAAAAAAAAAAAAAAAAAAAAAAAAAAAAAAAAAAAAAAAAAAAAAAAAAAAAAAAAAAAAAAAAAAAAAAAAAAAAAAAAAAAAAAAAAAAAAAAAAAAAAAAAAAAAAAAAAAAAAAAAAAAAAAAAAAAAAAAAAAAAAAAAAAAAAAAAAAAAAAAAAAAAAAAAAAAAAAAAAAAAAAAAAAAAAAAAAAAAAAAAAAAAAAAAAAAAAAAAAAAAAAAAAAAAAAAAAAAAAAAAAAAAAAAAAAAAAAAAAAAAAAAAAAAAAAAAAAAAAAAAAAAAAAAAAAAAAAAAAAAAAAAAAAAAAAAAAAAAAAAAAAAAAAAAAAAAAAAAAAAAAAAAAAAAAAAAAAAAAAAAAAAAAAAAAAAAAAAAAAAAAAAAAAAAAAAAAAAAAAAAAAAAAAAAAAAAAAAAAAAAAAAAAAAAAAAAAAAAAAAAAAAAAAAAAAAAAAAAAAAAAAAAAAAAAAAAAAAAAAAAAAAAAAAAAAAAAAAAAAAAAAAAAAAAAAAAAAAAAAAAAAAAAAAAAAAAAAAAAAAAAAAAAAAAAAAAAAAAAAAAAAAAAAAAAAAAAAAAAAAAAAAAAAAAAAAAAAAAAAAAAAAAAAAAAAAAAAAAAAAAAAAAAAAAAAAAAAAAAAAAAAAAAAAAAAAAAAAAAAAAAAAAAAAAAAAAAAAAAAAAAAAAAAAAAAAAAAAAAAAAAAAAAAAAAAAAAAAAAAAAAAAAAAAAAAAAAAAAAAAAAAAAAAAAAAAAAAAAAAAAAAAAAAAAAAAAAAAAAAAAAAAAAAAAAAAAAAAAAAAAAAAAAAAAAAAAAAAAAAAAAAAAAAAAAAAAAAAAAAAAAAAAAAAAAAAAAAAAAAAAAAAAAAAAAAAAAAAAAAAAAAAAAAAAAAAAAAAAAAAAAAAAAAAAAAAAAAAAAAAAAAAAAAAAAAAAAAAAAAAAAAAAAAAAAAAAAAAAAAAAAAAAAAAAAAAAAAAAAAAAAAAAAAAAAAAAAAAAAAAAAAAAAAAAAAAAAAAAAAAAAAAAAAAAAAAAAAAAAAAAAAAAAAAAAAAAAAAAAAAAAAAAAAAAAAAAAAAAAAAAAAAAAAAAAAAAAAAAAAAAAAAAAAAAAAAAAAAAAAAAAAAAAAAAAAAAAAAAAAAAAAAAAAAAAAAAAAAAAAAAAAAAAAAAAAAAAAAAAAAAAAAAAAAAAAAAAAAAAAAAAAAAAAAAAAAAAAAAAAAAAAAAAAAAAAAAAAAAAAAAAAAAAAAAAAAAAAAAAAAAAAAAAAAAAAAAAAAAAAAAAAAAAAAAAAAAAAAAAAAAAAAAAAAAAAAAAAAAAAAAAAAAAAAAAAAAAAAAAAAAAAAAAAAAAAAAAAAAAAAAAAAAAAAAAAAAAAAAAAAAAAAAAAAAAAAAAAAAAAAAAAAAAAAAAAAAAAAAAAAAAAAAAAAAAAAAAAAAAAAAAAAAAAAAAAAAAAAAAAAAAAAAAAAAAAAAAAAAAAAAAAAAAAAAAAAAAAAAAAAAAAAAAAAAAAAAAAAAAAAAAAAAAAAAAAAAAAAAAAAAAAAAAAAAAAAAAAAAAAAAAAAAAAAAAAAAAAAAAAAAAAAAAAAAAAAAAAAAAAAAAAAAAAAAAAAAAAAAAAAAAAAAAAAAAAAAAAAAAAAAAAAAAAAAAAAAAAAAAAAAAAAAAAAAAAAAAAAAAAAAAAAAAAAAAAAAAAAAAAAAAAAAAAAAAAAAAAAAAAAAAAAAAAAAAAAAAAAAAAAAAAAAAAAAAAAAAAAAAAAAAAAAAAAAAAAAAAAAAAAAAAAAAAAAAAAAAAAAAAAAAAAAAAAAAAAAAAAAAAAAAAAAAAAAAAAAAAAAAAAAAAAAAAAAAAAAAAAAAAAAAAAAAAAAAAAAAAAAAAAAAAAAAAAAAAAAAAAAAAAAAAAAAAAAAAAAAAAAAAAAAAAAAAAAAAAAAAAAAAAAAAAAAAAAAAAAAAAAAAAAAAAAAAAAAAAAAAAAAAAAAAAAAAAAAAAAAAAAAAAAAAAAAAAAAAAAAAAAAAAAAAAAAAAAAAAAAAAAAAAAAAAAAAAAAAAAAAAAAAAAAAAAAAAAAAAAAAAAAAAAAAAAAAAAAAAAAAAAAAAAAAAAAAAAAAAAAAAAAAAAAAAAAAAAAAAAAAAAAAAAAAAAAAAAAAAAAAAAAAAAAAAAAAAAAAAAAAAAAAAAAAAAAAAAAAAAAAAAAAAAAAAAAAAAAAAAAAAAAAAAAAAAAAAAAAAAAAAAAAAAAAAAAAAAAAAAAAAAAAAAAAAAAAAAAAAAAAAAAAAAAAAAAAAAAAAAAAAAAAAAAAAAAAAAAAAAAAAAAAAAAAAAAAAAAAAAAAAAAAAAAAAAAAAAAAAAAAAAAAAAAAAAAAAAAAAAAAAAAAAAAAAAAAAAAAAAAAAAAAAAAAAAAAAAAAAAAAAAAAAAAAAAAAAAAAAAAAAAAAAAAAAAAAAAAAAAAAAAAAAAAAAAAAAAAAAAAAAAAAAAAAAAAAAAAAAAAAAAAAAAAAAAAAAAAAAAAAAAAAAAAAAAAAAAAAAAAAAAAAAAAAAAAAAAAAAAAAAAAAAAAAAAAAAAAAAAAAAAAAAAAAAAAAAAAAAAAAAAAAAAAAAAAAAAAAAAAAAAAAAAAAAAAAAAAAAAAAAAAAAAAAAAAAAAAAAAAAAAAAAAAAAAAAAAAAAAAAAAAAAAAAAAAAAAAAAAAAAAAAAAAAAAAAAAAAAAAAAAAAAAAAAAAAAAAAAAAAAAAAAAAAAAAAAAAAAAAAAAAAAAAAAAAAAAAAAAAAAAAAAAAAAAAAAAAAAAAAAAAAAAAAAAAAAAAAAAAAAAAAAAAAAAAAAAAAAAAAAAAAAAAAAAAAAAAAAAAAAAAAAAAAAAAAAAAAAAAAAAAAAAAAAAAAAAAAAAAAAAAAAAAAAAAAAAAAAAAAAAAAAAAAAAAAAAAAAAAAAAAAAAAAAAAAAAAAAAAAAAAAAAAAAAAAAAAAAAAAAAAAAAAAAAAAAAAAAAAAAAAAAAAAAAAAAAAAAAAAAAAAAAAAAAAAAAAAAAAAAAAAAAAAAAAAAAAAAAAAAAAAAAAAAAAAAAAAAAAAAAAAAAAAAAAAAAAAAAAAAAAAAAAAAAAAAAAAAAAAAAAAAAAAAAAAAAAAAAAAAAAAAAAAAAAAAAAAAAAAAAAAAAAAAAAAAAAAAAAAAAAAAAAAAAAAAAAAAAAAAAAAAAAAAAAAAAAAAAAAAAAAAAAAAAAAAAAAAAAAAAAAAAAAAAAAAAAAAAAAAAAAAAAAAAAAAAAAAAAAAAAAAAAAAAAAAAAAAAAAAAAAAAAAAAAAAAAAAAAAAAAAAAAAAAAAAAAAAAAAAAAAAAAAAAAAAAAAAAAAAAAAAAAAAAAAAAAAAAAAAAAAAAAAAAAAAAAAAAAAAAAAAAAAAAAAAAAAAAAAAAAAAAAAAAAAAAAAAAAAAAAAAAAAAAAAAAAAAAAAAAAAAAAAAAAAAAAAAAAAAAAAAAAAAAAAAAAAAAAAAAAAAAAAAAAAAAAAAAAAAAAAAAAAAAAAAAAAAAAAAAAAAAAAAAAAAAAAAAAAAAAAAAAAAAAAAAAAAAAAAAAAAAAAAAAAAAAAAAAAAAAAAAAAAAAAAAAAAAAAAAAAAAAAAAAAAAAAAAAAAAAAAAAAAAAAAAAAAAAAAAAAAAAAAAAAAAAAAAAAAAAAAAAAAAAAAAAAAAAAAAAAAAAAAAAAAAAAAAAAAAAAAAAAAAAAAAAAAAAAAAAAAAAAAAAAAAAAAAAAAAAAAAAAAAAAAAAAAAAAAAAAAAAAAAAAAAAAAAAAAAAAAAAAAAAAAAAAAAAAAAAAAAAAAAAAAAAAAAAAAAAAAAAAAAAAAAAAAAAAAAAAAAAAAAAAAAAAAAAAAAAAAAAAAAAAAAAAAAAAAAAAAAAAAAAAAAAAAAAAAAAAAAAAAAAAAAAAAAAAAAAAABgkBEuUapiM6LJY0rjx6RO5LAVOrWeJfn2Xbao9vtXNHd0F6oHxhfoB//X/Xfw9/pX2ae/N4snXacXJtf2gHYxFdpFbKT4lI7UD+OMYwUSioH9cW6Q3qBOX75fL26SLhdtj9z8HHzL8puOKwAKqLo4udCpgMk5qOt4pqh7eEoIIpgVSAIYCRgKOBVoOnhZSIGowykNmUCJq5n+Wlg6yLs/S6tsLFyhjTpNte5DvtMPYx/zIIKhEMGswiYCu9M9g7p0MfSzhS6FgmX+xkMWrvbh9zvXbEeTB8/n0rf7Z/n3/mfop9kHv4eMZ1/nGlbcBoV2NuXRBXQlAOSX1BmjlsMQApYCCXF7AOtwW3/Lrzzer84VDZ1tCYyKHA+riuscaqSqRDnrmYspM1j0eL7ocuhQuDhoGjgGGAwoDFgWmDq4WJiP+LCJCglMGZY5+BpRKsDbNquiDCJMpt0vDaouN47Gf1Y/5gB1QQNBnzIYcq5TICO9RCUEpuUSVYa144ZIZpTm6JcjN2Rnm+e5l91X5uf2Z/u35vfYR7+3jYdR9y1m0AaaVjy115V7lQkkkNQjQ6ETKvKRghVhh2D4IGh/2O9KTr1OIp2q/Rb8l1wcu5erKMqwql+55omViU0I/Yi3OIp4V2g+SB8oCjgPWA6YF9g7CFf4jli+CPaZR7mQ+fH6Wiq5Cy4bmMwYXJxNE+2ufituue9JX9jQZ/D1wYGiGuKQ0yLDoBQoJJpVBhV65dhGPbaK1t83Godcd4THs0fX1+JX8rf49+U312e/146XVAcgVuPmnxYyVe4lcuURRKm0LNOrUyXCrOIRQZOxBNB1f+YvV77KzjAtuH0kbKSsKcukazU6zKpbOfGJr+lG2QaYz5iCCG4oNDgkOB5YApgQ6Ck4O3hXaIzYu4jzOUNpm8nr6kM6sVslq5+cDnyBzRjdku4vXq1/PI/LwFqg6FF0Ig1ig1MVY5LkGzSNtPnlbyXNBiMGgLbVxxHHVHeNl6znwlftt+735ifjV9Z3v9ePl1X3IzbntpPWR/XklYo1GUSidDZTtXMwgrgiLRGf4QFwgl/zX2UO2E5NvbX9Mdyx7DbbsTtBqtiqZsoMiapZUKkfuMf4mahlCEo4KVgSmBXoE0gqqDvoVuiLeLk4/+k/KYap5epMeqm7HUuGfAS8h20N3YduE16hDz/PvsBNYNrhZqH/4nXjCBOFxA5EcST9pVNVwbYoRnaWzEcI90xndkemd8y32PfrJ+NH4VfVd7/HgHdnxyX262aYZk116uWBVSFEuzQ/w7+DOzKzYjjRrBEd8I8/8H9yXuW+Wy3DfU88vywz2837TgrUqnJaF5m02Wp5GOjQaKFYe+hASD6IFugZSBW4LCg8eFaIihi26Py5OxmBqeAKRbqiOxT7jWv6/H0M8u2L7gdulL8jH7HAQDDdkVkx4mJ4cvrDeJPxZHSE4WVXhbZmHXZsZrK3ABdER373n/e3F9Q350fgV+9XxGe/p4FHaYcopu8GnPZC1fE1mHUpJLPUSRPJg0XSzpI0cbgxKnCcAA2Pf67jHmit0O1crMxsQOvau1p64LqN+hKpz1lkWSIY6PipGHLYVmgzyCs4HLgYSC3IPShWSIjYtLj5mTcJjLnaOj8amssMy3R78VxyzPgNcI4LjohvFn+k0DMAwDFbwdTyawLtc2tz5HRn5NUlS7WrBgKmYia5Jvc3PCdnl5lnsVffV9NX7UfdN8M3v3eCB2s3K0bihqFmWCX3VZ91IOTMZEJT03NQUtmiQBHEQTbgqMAaj4ze8H52He5dWfzZrF3714tm6vzKiYotycnZfkkraOF4sOiJ2FyIOSgvuBBIKugveD3oVgiHuLKo9okzGYfp1Io4ipNrBKt7q+fcaJztTWU9/858Pwnfl/Al4LLxTmHHgl2i0CNuU9eUW0TI5T/Vn6X31lfmr4buRyPnYCeSx7uHymffR9on2wfB978ngqdsxy3G5faltl1l/XWWVTikxNRbg91TWtLUsluRwEFDULVwJ4+aDw3Oc337zWdc5txq++RLc2sI2pUqOOnUeYg5NKj6GLjIgOhiyE6IJDgj6C2YIThOuFXohqiwqPOpP0lzKd7qIhqcKvybYtvuXF580o1p/eQOcA8NX4sgGNClsTEByhJAQtLTUTPapE6kvKUkBZRF/PZNppXW5Vcrp1injBelt8Vn2zfW99jHwKe+t4M3bkcgNvlWqfZShgN1rSUwRN00VJPnE2Uy76JXEdwxT6CyIDR/pz8bHoDeCS10rPQcd/vxC4/bBOqg2kQJ7wmCOU4I8rjAqJgIaRhD+DjIJ5ggWDMYT5hV6IWovrjgyTt5fonJaiu6hPr0m2or1PxUbNftXs3YXmP+8N+OUAvQmIEjsbyyMuLFk0QTzcQyBLBVKCWI1eIWQ0acJtxHE1dRF4VHr8ewV9cH07fWZ883rkeDp2+3Ipb8lq4mV5YJVaPlR8TVhG2j4MN/guqCYnHoAVvgzsAxX7RPKF6ePgaNgf0BTIUMDduMSxEKvHpPOempnElHaQtoyJifOG94SYg9eCtYIzg0+ECYZfiEyLzo7gkn2Xn5w/olao3a7LtRi9usSnzNXUOt3L5X7uR/cZAO0ItRFmGvYiWSuFM287DUNWSkFRw1fWXXJjj2gmbTNxsHSYd+h5nHuzfCx9BX0/fNt623hAdhBzTW/8aiNmyGDyWqlU803bRmg/pTebL1Un3R49FoENtQTj+xXzWeq34T3Z9NDnyCDBqbmMstGrgqWmn0WaZZUNkUKNCopnh16F8YMig/KCYoNvhBqGYYg/i7KOtZJDl1ec6aHzp22uT7WPvCbECMwt1IncE+W+7YH2T/8eCOMQkhkhIoQqsTKdOj9CjEl8UAVXH13DYuhnimyhcCl0HXd6eTt7YHznfM58F3zCetB4RXYjc29vLWtjZhZhTlsSVWlOXUf2Pz44PjABKJEf+RZEDn0FsPzm8yvrjOIS2sjRucnwwXW6U7OTrD2mWqDwmgeWpZHPjYuK3IfGhUyEb4Mxg5KDkYQthmSINIuYjoySDJcRnJWhkaf+rdO0CLyTw2vLhtPa21vk/+y89YX+UAcREL8YTCGwKd4xzDlxQcJIt09GVmdcE2JCZ+1rD3Cic6J2C3naegx8oHyWfO57p3rFeEl2NnOQb11roWZjYahbeVXeTt5HgkDVON8wrChEILQXBQ9EBnv9tfT+62Dj5tqc0ozKwMJCuxu0Va35pg6hm5uplj2SXI4Mi1GIL4anhL2DcYPDg7OEQYZpiCmLfo5kktWWzJtCoTGnka1ZtIK7AsPQyuHSK9uk40Ls+PS8/YIGQQ/sF3gg2ygKMfs4o0D4R/JOh1WwW2Nhm2ZPa3xvGnMmdpt4d3q3e1l8XXzDe4t6uHhLdkdzsG+Ma95mrmEBXOBVUU9dSA1Bazl/MVUp9iBtGMYPCgdG/oT1z+wz5LrbcNNey4/DDrzjtBeutKfCoUecTJfVkuqOj4vIiJmGBIUMhLKD9YPXhFaGb4ghi2eOPpKgloib8aDSpiWt4bP+unLCNco80n7a7+KF6zX09Py1BXEOGRelHwgoNzAqONU/LkctTshU91qzYPNlsWrobpFyqXUqeBN6YHsRfCN8l3tueqp4S3ZWc89vuWsaZ/hhWVxFVsNP20iXQQA6HjL9KachJhmFEM8HEf9S9qDtBuWO3EPUMMxfxNq8qrXarnCodqL0nO+Xb5N5jxKMP4kDh2KFXIT0gymE/IRshneIGYtQjhiSbJZGm6GgdKa6rGmzerrkwZzJmdHS2Tviyepz8yz86QShDUgW0h40J2UvWTcHP2RGaE0JVD9aAmBLZRNqU24Icit1uXeueQl7x3vne2p7UHqaeEt2ZXPsb+RrVGdAYq9cqFYzUFhJIEKTOrwypSpXIt4ZRBGUCNr/IPdx7tjlYd0W1QLNLsWmvXK2nK8sqSujoJ2TmAmUCJCWjLiJb4fAha2EN4RehCOFhIZ/iBOLO471kTqWBptSoBimUaz0svi5VsEEyffQJ9mH4Q7qsvJm+x4E0wx3Ff8dYSaTLok2OT6aRaNMSVOGWVFfomRzab5tfXGsdEZ3SXmxenx7q3s8ezB6iXhIdnFzB3APbI1nh2IEXQpXolDTSadCJTtZM0srBiOVGgESWAmiAOz3QO+q5jTe6NXTzf7Fcr46t1+w6ango06eN5mjlJiQG40xityHIIb/hHuElIRKhZ2GiYgOiyiO0pEJlseaBaC9pemrf7J4ucrAbchX0H3Y1eBV6fHxoPpUAwUMphQtHY8lwS24NWs90ETdS4pSzVifXvlj1GgpbfJwLXTTduJ4V3owe217DXsPend4RXZ9cyJwOGzEZ8xiV11rVxBRTUosQ7Y79DPwK7QjShu+EhoKagG4+BDwe+cG37vWpM7Nxj6/ArghsaWqlqT7ntyZP5UpkaGNq4pJiIGGUoXAhMuEc4W3hpWIC4sWjrKR2pWJmrmfZKWCqwyy+Lg/wNfHt8/U1yTgnOgy8dv5igI3C9YTWxy9JO8s6DSePAZEGEvKURRY7V1QYzNokmxncKxzX3Z6eP155Houe9x67XljeEB2h3M7cF9s+mcRY6ldyld8UcZKsUNGPI40kyxgJP8behPcCjEChPne8Ezo2N+M13XPm8cKwMq45LFiq0ylqZ+BmtqVu5EojiWLuIjihqeFB4UEhZ2F0oaiiAmLBY6SkayVTZpvnwylHauasXq4tr9DxxjPLNdz3+TndPAX+cEBawoHE4ob6yMeLBg00Ds8Q1JKClFaVztdpmKSZ/tr2m8rc+p1EniheZZ67nqqesp5T3g7dpBzUnCFbC9oU2P6XShY51E9SzRE1DwnNTYtDCWyHDQUnQv3Ak76rPEc6angXthG0GrI1cCRuaeyH6wCplegJ5t3lk2Sr46hiyeJRYf8hU+FPYXIhe+GsIgIi/WNdJF/lRKaJp+1pLmqKbH+ty6/sMZ7zoXWxN4t57bvU/j5AJ8JOBK6GhojTStJMwM7ckKNSUpQoFaJXPth8WZja01vqXJ0dah3RXlHeq16d3qleTl4M3aXc2hwqmxiaJVjSV6FWFFSs0u2RGE9vzXXLbYlZR3uFF0MvAMY+3ny6+l64S/ZFtE5yaHBWbpqs9ysuKYGoc2bFJfgkjePHYyXiaiHUoaXhXiF9YUNh7+ICYvnjVeRVJXYmd6eYKRXqrqwgrenvh7G383g1RbeeOb67pH3MgDUCGoR6hlJInwqeTI2OqlBx0iKT+ZV1ltQYU9my2rAbidy/XQ+d+d49nlrekN6f3kheCt2nXN9cM1slGjVY5de4Fi5UihMN0XtPVU2eC5fJhYepxUcDYEE4ftF87rqSuIA2ubRB8ptwiG7LbSZrW+ntaF0nLGXc5O/j5qMCYoNiKqG4YW0hSKGLIfPiAuL2o08kSqVoJmYngyk9alMsAi3Ib6OxUTNPNVp3cPlPu7P9m3/CQidEBsZeSGsKaoxaTnfQAJIyU4sVSNbpWCtZTJqMW6jcYV003aJeKV5J3oNelh5CXghdqJzkHDvbMRoE2TjXjpZIFOcTLZFeD7qNhcvByfHHl8W2g1FBan8EfSI6xnj0Nq10tXKOMPpu/C0V64mqGWiG51PmAeUSZAYjXuKcogChyyG8YVRhk2H4YgOi8+NIpEBlWmZU566o5ap4K+Ptp29/sSrzJnUvtwP5YPtD/an/j8H0A9MGKkg3CjbMJw4FUA8RwlOclRvWvpfCmWZaaJtH3ENdGZ2KXhTeeN513kwee93FXamc6NwEG3zaFBkLl+TWYVTDk00RgE/fje1L64ndh8VF5gOBwZw/dz0Vuzp45/bhdOjywPEsLyztRWv3agVo8Od7piclNOQl43titmIXId4hi+GgYZuh/SIEovFjQmR2pQ0mRCeaaM3qXSvGLYZvXDEEsz30xPcXeTK7E/14v12BgQPfRfZHw0oDTDQN0w/d0ZITbdTvFlOX2Zk/2gSbZpwk3P5dcl3AHmdeZ95B3nUdwl2qHOzcC9tIWmMZHhf6lnpU35NsUaJPxE4UTBUKCQgyxdUD8kGN/6m9SPtt+Rv3FTUcMzOxHi9drbSr5WpxaNrno2ZMZVdkReOYYtAibaHxYZuhrOGkYcJiRiLvI3ykLSU/5jOnRmj2qgLr6K1mLzjw3vLVtNp26vjEeyQ9B79rgU4DrAWCh8+Jz8vAzeCPrFFiEz8UgdZoV7CY2VogmwVcBlzi3Vnd6t4Vnlmedx4uHf7dalzw3BNbU1pxmTAXz9aTFTuTSxHEECiOO0w+SjRIIAYDxCKB/3+cPbv7YblPt0i1T3NmcVAvjq3kLBMqnWkE58smseV6ZGXjtaLqIkRiBOHr4blhrWHH4kfi7WN3JCQlM2YjZ3Lon+ooq4ttRe8WMPlyrbSwdr74lnr0vNb/OcEbQ3jFTwebyZxLjc2uT3sRMdLQVJTWPRdHmPJZ/Frjm+echx1BXdWeA55LHmweJp37HWoc9Fwam14af9kB2CUWq5UXE6mR5ZAMzmHMZ0pfSE0GcoQSwjC/zn3u+5T5gze8dUKzmTGB7/9t06xBKsmpbyfzJpdlnWSGI9LjBGKbohih/CGGYfbhzaJKIuvjceQbZSbmE6dfqIkqDuuurSYu83CUMoY0hnaS+Kj6hXzmPsgBKMMFhVuHaEloy1rNfA8JkQGS4ZRnldHXXliLmdfawdvI3KsdKJ2AHjFePF4g3h7d9x1pnPdcIVtoWk3ZUxg51oOVchOH0gaQcI5IDI/Kiki5hmDEQoJhQAB+IbvIOfa3r7W184vx8+/wLgNsryr16VloG2b9JYCk5qPwYx7isuIsoczh02HAYhOiTGLqo20kEuUa5gQnTKiy6fVrUe0GrtEwr3JetFz2Z3h7elZ8tf6WgPaC0oUoRzTJNYsoDQnPGFDRUrLUOpWmlzUYZJmzWqAbqZxPHQ9dql3e3i1eFV4W3fKdaNz6XCfbclpbWWQYDhbbFU0T5ZInUFQOrgy4SrSIpgaPBLJCUkByfhR8O3nqN+M16TP+ceWwIS5y7J1rImmD6EOnIyXj5MdkDmN5oopiQSId4eDhymIZ4k8i6aNopArlD2Y05zooXSnca3Xs526vMEqyd7Qztjv4DjpnvEW+pUCEQt/E9QbBSQJLNQzXjubQoRJD1A0VuxbLmH1ZTpq920pccpz2HVQdzB4d3gleDp3t3Wfc/Nwt23waaJl02CJW8pVnk8NSR9C3DpPM4EreyNJG/MShgoMAo/5G/G56HXgWdhw0MPIXcFHuomzLa07p7mhr5wkmB6UoJCwjVKLiYlWiLuHuodSiIKJSYukjZGQDJQQmJicn6Eepw6tZ7MiujbBmchD0CrYQ+CE6OTwVvnQAUkKtBIHGzgjPCsJM5U61kHDSFRPf1U+W4hgWGWmaW5tq3BYc3J193bkdzl49XcYd6N1mXP8cM9tFmrWZRVh2FsmVgdQgkmfQmg75TMgLCMk+BuqE0MLzQJW+uTxhOlC4SbZPNGNySTCCrtItOat7adjolGdvZislCSRKY6/i+mJqYgBiPKHfIieiVaLo42CkO6T5JdenFehyaasrPmyqLmwwAnIqc+H15jf0ucq8Jf4DAGBCeoROxpsInAqPjLMORBBAkiYTspUj1riX7pkEmnkbCxw5HILdZ12l3f5d8N39HaOdZJzA3HkbTpqCGZVYSVcgVZuUPVJHkPyO3k0vizKJKccYBT/C48DG/ut8k/qDuLy2QjSV8rsws67BrWfrp+oDqP0nVaZPJWpkaOOLYxKiv6ISIgsiKeIu4lli6SNdJDSk7mXJpwRoXWmS6yMsi+5LMB6xxDP5dbt3iDncu/Z90oAugggEXAZnyGkKXMxAzlLQEFH3E0UVOBZO18cZH1oWmysb3Byo3RBdkl3uXeQd892d3WKcwlx+W1dajlmk2FxXNpW1FBnSpxDezwMNVstcCVVHRUVugxPBN/7dPMa69nivtrT0iHLssORvMW1WK9Rqbmjl57wmcyVLpIdj5uMrIpTiZCIZojUiNmJdYuljWeQt5OQl++bzKAjpuyrILK3uKm/7cZ5zkTWRN5v5rvuHPeI//QHVxClGNQg2CipMDs4hj+ARiBNXlMxWZNefWPoZ85rLG/8cTp05XX6dnd3XHepdl91gHMOcQxufmppZtFhvFwyVzlR2EoZRAI9nzX2LRQmAR7IFXQNDgWj/Dz04+ul44rbntPqy3nEVL2EthGwBKplpDqfi5pclrWSmI8LjQ+LqYnZiKGIAYn5iYaLqI1ckJ2TaJe5m4mg0qWOq7axQbgov2DG482k1Zzdv+UE7l/2x/4vB48P2xcIIA0o3i9zN8E+v0VkTKdSgljsXd5iUmdDa6tuhnHRc4h1qXY0dyd3gnZGdXVzEnEebp5ql2YNYgZdiVecUUhLlESJPS82kS64Jq0eexYtDs0FZv0C9azsb+RV3GnUtMxAxRe+Q7fLsLeqEaXenyab7pY8kxSQe41ziwCKJIneiDCJGoqZi62NUpCFk0KXhJtHoIOlMqtNscy3p77VxU3NBtX13BHlTu2k9Qb+agbHDhEXPR9CJxQvqzb8Pf1Ep0vxUdJXQ10+Yrtmtmopbg9xZnMqdVh28Hbwdlp2LHVpcxRxL269asNmR2JOXd5X/lG2Sw5FDj6/NiovWidXHy0X5Q6LBin+yPV17TnlIN0z1X3NB8bbvgG4hLFrq72lgqDBm4CXw5ORkOyN2ItZim+JHIlgiTyKrYuyjUmQbpMdl1GbBqA1pdeq5bBZtyi+S8W5zGjUT9xj5Jrs6fRH/acFAA5IFnMedyZLLuM1Nz08ROtKOlEiV5tcnmEkZilqpm2YcPpyynQGdqt2uXYwdhF1XHMVcT5u2mrvZoFilV0yWF9SI0yHRZI+TTfDL/snASDeF50PRwfq/o72Pe4D5urd/dVFzs3Gnr/AuD6yHqxqpiehXZwSmEuUDpFejj6Msoq7iVuJkYlfisKLuY1BkFiT+ZYgm8af6KR9qn+w5raqvcPEJ8zM06rbtuPm6y/0iPzjBDoNfxWpHa0lgS0bNXI8e0MvSoNQclbyW/1gjWWbaSNtIHCOcmp0s3VldoB2BXb0dE5zFXFMbvZqGWe4YtpdhVi/Uo9M/kUVP9s3WjCbKKkgjhhTEAQIq/9S9wTvzOa03sfWDs+Tx2HAf7n4stKsFqfMofqcpZjUlIyR0I6ljAyLCIqbicSJg4rYi8GNO5BEk9eW75qIn5ykJaoasHW2Lr07xJXLMdMG2wrjM+t288r7IQR0DLcU4BzkJLgsVDStO7pCcknMT8FVSVtcYPVkDWmfbKdvIXIJdF51HnZHdtl11nQ+cxNxWG4Ra0Jn72IeXtZYHVP6THVGlj9nOPAwOilRITwZCBG/CGoAFvjL75Xnft+Q19bPWsgkwT66srOGrcSncaKWnTmZXpULkkSPDI1ni1eK3In3iamK8IvKjTaQMZO1lsCaTJ9SpM2ptq8FtrK8tcMEy5fSY9pg4oHqvvIM+18DrwvwExccGiTwK40z6Dr5QbVIFU8QVZ9au19cZH5oGmwtb7Nxp3MJddV1DHasdbd0LXMQcWRuK2tpZyRjYV4mWXpTY03qRhZA8jiEMdgp9yHqGb0ReQkpAdn4kfBd6EfgWdie0CDJ58H9umy0Oq5xqBejNJ7NmeiVi5K4j3WNw4umih6KLIrPigiM1Y0zkB+TlpaSmhCfCaR4qVSvl7U4vDDDdcr+0cLZtuHR6QfyUPqeAusKKRNOG1EjJyvGMiQ6OEH5R15OX1T1WRlfw2PuZ5Vrs25EcUVzs3SMddB1fnWWdBpzDHFubkNrj2dYY6NedVnVU8tNXUeVQHs5GDJ1KpwilxpxEjMK6AGc+VfxJOkP4SLZZtHlyarCvLsmte+uH6m9o9KeYppzlguTLZDejSCM9ophimGK94oijOGNMJAOk3eWZprWnsKjI6nzriq1wLuswufJZtEh2Q3hIelR8ZT53gEnCmIShhqJIl8q/zFgOXdAPEemTa5TS1l2XiljXmcPazhu1HDhclx0QnWTdU91dXQHcwdxdm5aa7Rni2PjXsJZL1QxTtBHE0EEOqoyEStAI0MbIxPrCqUCXfob8uvp2OHq2S3Sq8psw3u84LWjr82pZKRwn/ea/5aMk6OQSY5+jEeLpYqYiiCLPYzujS+Q/5JaljuanZ58o9Cok66+tEi7KsJaydDQgthm4HLonPDZ+B8BZAmdEb8ZwSGXKTkxmzi2P39G70z8UqBY012PYs1miGq8bWRwfHIDdPd0VXUedVJ08nIAcX5ub2vYZ7xjIl8OWohUl05BSJBBizo8M6sr4yPuG9UTowtiAx774PKy6p/istr00nDLL8Q6vZq2WLB7qgulD6CNm4uXDpQakbSO3Yyai+qK0IpKi1qM/I0wkPGSPpYRmmaeN6N+qDWuU7TSuqjBzsg60OPXv9/E5+fvH/hgAKEI1xD4GPkg0ChyMNc39T7CRTdMS1L2VzBd9GE8ZgFqP23ybxdyqnOqdBZ17XQudNxy+HCEboNr+mfsY19fWVrgVPtOsUgLQhE7zDNFLIYkmByGFFoMHgTf+6PzeOtm43rbu9M2zPLE+b1Vtw2xKquypa6gI5wYmJCUkpEgjz2N7YsxiwmLdot3jAyOMZDlkiSW6ZkwnvSiLqjXreqzXboowUTIps9G1xnfF+c072b3o//gBxMQMhgyIAgorC8TNzQ+BkV/S5lRSleNXFlhqmV5acJsgG+wcVBzXXTWdLp0CXTFcu9wiW6WaxtoG2SbX6JaNlVdTyBJhUKWO1s03SwnJUEdNhUQDdoEnvxm9D3sLeRB3ILU+8y0xbi+D7jCsdirWqZOobqcpZgTlQqSjI+ejUGMeItDi6KLlowcjjSQ2pIKlsKZ+52yot6nfK2Cs+m5qcC6xxPPqtZ13mvmge6u9ub+HwdPD2wXax9CJ+YuUDZzPUlEx0rnUJ9W6Vu+YBdl8GhEbA1vSXH1cg90lHSGdONzrXLkcIxuqGs6aEhk1l/qWotVv0+NSf5CGTzoNHQtxiXpHeUVxQ2UBV39KPUC7fPkB91I1b/Nd8Z3v8q4d7KHrAKn7qFSnTOZl5WDkvqPAI6WjMCLfovQi7aMLo44kNCS8pWcmcidcaKRpyGtG7N2uSzAMseBzg/W0d3A5c/t9vUq/l4GjA6nFqQeeyYhLow1szyMQw9KNFDzVURbIWCEZGdoxWuZbuFwmXK/c1J0UXS8c5Ny2XCPbrhrWGh0ZBBgMVveVR9Q+Ul1Q5w8dTUKLmUmjx6TFnkOTgYb/ur1xu255c7dDtaEzjnHNsCEuS2zN62qp46i6p3BmRyW/ZJokGKO7YwKjLqL/4vXjEKOPZDHktyVd5mWnTGiRKfIrLWyBbmvv6vG8M111S/dFuUf7UD1bv2fBckN4hXfHbUlXC3JNPI7z0JXSYJPR1WgWoVf8WPdZ0VrJW54cDxyb3MPdBt0k3N4csxwkG7Ha3Von2RIYHZbMVZ9UGRK60MdPQA2ny4DJzUfQBctDwcH2P6r9onufuaU3tTWSM/7x/XAP7ris+atU6gvo4KeUZqhlneT2JDGjkSNVIz3iy+M+YxWjkSQwJLGlVSZZZ3zofmmcKxRspW4NL8lxmDN3NSO3G3kb+yK9LP84AQHDR0VGR3wJJcsBTQyOxJCn0jPTptU+1noXlxjUmfFaq9tDnDecR5zynPkc2pzXHK+cJBu1WuRaMhkf2C7W4JW21DNSmFEnT2LNjMvoCfaH+wX3w+/B5X/a/dM70PnWd+Z1wzQvcizwfq6mLSWrvyo0aMbn+CaJ5fyk0iRKo+cjZ+MNoxgjB2NbI5LkLmSspUymTWdtqGvphms7rEmuLq+ocXSzETU7dvF48Dr1fP5+yIERgxaFFQcKiTSK0IzcTpVQedHHE7uU1VZS17IYsdmRGo5baRvgHHLcoVzq3M/cz9yr3CObuFrq2jwZLRg/VvRVjdRNkvURBw+FDfGLzsofiCXGJEQdghQACv4D/AH6B7gXtjQ0H7JcsK0u061Rq+lqXKktJ9xm62XbpS5kY+P9Y3sjHWMkoxBjYOOVJC0kp+VEpkHnXuhZqbEq42xubdBvh7FRMyt007bHuMS6yHzQPtkA4ULlxOQG2UjDiuAMrE5mUAuR2lNQVOvWK1dM2I8ZsJpwmw4byBxeHI+c3JzE3Mhcp5wjG7ta8RoF2XoYD9cIFeSUZ1LR0WZPpw3WDDWKCEhQRlBESwJCwHq+NHwy+jj4CLZlNFAyjHDb7wEtvavT6oVpU6gAZw0mOuUKpL1j0+OOY22jMWMZ42bjl+QsZKOlfOY2pxAoR+mcKsssU23yr2bxLjLF9Ow2njiZepu8oj6pwLFCtQSzBqhIkoqvTHxONw/dka2TJRSCVgOXZ1hr2VAaUtszG7AcCRy93I4c+ZyAnKMcIhu92vcaDxlG2F/XG1X7FECTLhFFT8iOOgwbynCIeoZ8RHiCcUBqPmS8Y7pp+Hn2VfSAcvvwyq9uransPmqt6XooJOcvJholZ2SXJCqjoiN94z5jI6NtI5qkK6SfpXVmK+cB6HZpR2rzbDitlS9GsQty4PSE9rT4bnpu/HQ+esBBQoSEgga3SGGKfswMTgfP71FAkznUWNXcFwHYSJlvWjSa19uXnDPca5y/HK4cuFxeXCDbv9r82hgZU1hvly5V0RSZ0woRpA/qDh3MQgqYyKSGqASlgp/AmX6UvJR6mviq9oa08PLrsTlvXC3V7Gjq1qmg6ElnUSZ5pUQk8SQBo/XjTqNL422jc6Od5Ctkm+VuJiFnNCglKXMqm+weLbfvJvDo8rw0XfZL+EO6QrxGfkwAUYJURFFGRkhwyg4MHE3Yj4FRU9LOVG8VtFbcGCVZDloWWvxbfxveXFlcsByiHK/cWVwfG4HbAhpg2V9YftcA1ibUspMl0YKQCw5BTKfKgMjOhtOE0oLOAMi+xLzE+su427b3dOEzGzFn74muAiyTaz9ph6it53NmWWWhJMskWKPJ459jWWN343qjoWQrZJhlZ2YXJyaoFGle6oTsBC2a7wcwxrKXdHc2IzgZOhZ8GP4dgCICJAQghhWIAAody+xNqY9TESbSotQFVYxW9lfB2S1Z+Bqgm2ZbyJxGnKCclhynHFQcHVuDWwcaaVlrGE4XUxY8VIsTQVHg0CvOZIyNSuhI+Ab+xP9C/AD3vvS89Tr8eMx3J/URM0qxlq/3Li5svisoae6okqeV5rllvmTlpHAj3mOwo2djQmOBo+UkK+SVZWCmDScZaAPpSyqt6+ptfi7n8KTyczQQtjq37rnqu+u973/ywfQD8AXkx89J7Uu8TXpPJND6EneT25VkVpBX3hjMGdlahJtNW/KcM9xQ3ImcnhxOXBsbhJsLmnFZdphc12UWEVTjE1xR/pAMToeM8orPySFHKcUrwynBJr8kPSV7LPk9Nxh1QXO6cYVwJK5arOjrUSoVqPenuGaZZdulACSHpDLjgiO1Y00jiSPpJCxkkmVapgOnDGgzqTfqV6vQ7WHuyLCDMk80KnXSd8S5/vu+vYE/w4HEA//FtAeeib0LTI1LTzbQjRJL0/GVPFZqV7pYqtm6mmibNBucXCDcQRy9HFTcSJwYm4WbEBp5GUGYqxd21iZU+xN3EdxQbI6qTNeLNskKR1SFWANXQVU/U71Vu115bbdI9bFzqfHz8BJuhu0Tq7pqPOjcp9sm+aX5JRrkn6QHo9Ojg+OYY5Dj7WQtZJAlVKY6Zv+n46kk6kFr960F7unwYfIrc8R16nea+ZN7kb2S/5SBlEOPhYOHrglMi1zNHA7IkKASIFOHlRQWRFeWWIlZm5pMWxqbhdwNXHDccBxLXEJcFduGGxQaQJmMmLlXSBZ6lNKTkZI5kEyOzM08Sx3Jcwd/BURDhMGDv4M9hbuNuZ43uXWhs9kyIrB/7rMtPmujamPpAag95tnmFuV15LekHKPlo5Kjo6OZI/IkLqSN5U8mMWbzZ9QpEipra57tKi6LsEDyCDPetYK3sTloO2U9ZT9lgWTDX0VTR33JHIstDO0OmpBzEfSTXZTr1h4XclhnmXxaL9rBG68b+dwgXGLcQVx729KbhlsX2keZltiHF5kWTtUp06uSFlCsDu7NIMtESZvHqYWwA7IBsj+yPbV7vfmOt+m10bQIslFwra7frWlrzKqLaWboIOc6ZjTlUSTP5HHj96Oho69joWP3JDAki+VJ5iim52fE6T+qFeuGbQ6urXAgMeTzuXVbN0f5fTs4vTd/NwE1Qy9FIwcNSSxK/Uy+DmxQBhHJE3OUg5Y3lw4YRZldGhMa5xtYW+XcD9xVnHdcNRvPW4ZbGxpOWaEYlJep1mKVAJPFknMQi48QzUULqomEB9OF28PfAeA/4T3lO+45/vfZ9gF0eDJ/8JsvC+2UbDXqsqlMKEPnWyZS5axk6GRHZAoj8KO7Y6nj/GQx5IplROYgZtvn9ejtagCrrizzrk+wP7GB85Q1c/ce+RJ7DH0J/wiBBgM/hPLG3Qj8So2Mjw5+D9jRnVMJVJsV0Rcp2COZPZn2Wo0bQRvR3D7cB9xs3C3by5uGGx5aVNmq2KGXuhZ2FRdT3xJPUOqPMk1oy5DJ7Af9RccEC8INwBA+FLweOi84CfZxdGdyrrDI73htv2wfatopsahnJ3vmcSWH5QEknSQc48Ajx6Py48HkdCSJJUAmGGbQZ+do26or61Ys2O5x79+xn3NvdQz3Nfjn+uB83L7aANbCz8TCxu0IjEqeDGAOEA/r0XGS3xRylaqWxVgBmR3Z2Vqy2ynbvZvtnDncIhwmm8ebhZshGlsZtFiuV4pWiVVtk/hSa5DJT1ONjIv2idPIJwYyRDhCO4A+/gP8TfpfOHo2YTSWst0xNm9k7epsSKsB6ddoiqec5o+l46UZ5LMkL6PP49Qj/CPHpHakiGV75dCmxWfZKMoqFyt+rL5uFK//sX0zCrUmNs14/bq0fK++rACnwqBEksa9CFxKbkwxDeHPvtEF0vTUChWD1uDX31j+GbwaWFsSW6jb3BwrnBccHtvDW4SbI5pg2b2YuteaFpxVQ1QREodRJ490ja/L3Ao7iBBGXURkwmkAbX5zPH26TziqNpD0xjMLsWQvkW4VbLIrKan9KK4nviauZf+lMySJZELkH+Pg48VkDeR5ZIeld+XJZvrniyj5KcLrZyykLjfvoDFbMyZ0/7ak+JN6iPyCvr4AeQJwxGMGTQhsij7Lwg3zz1GRGdKKVCFVXRa8F7zYnhmemn3a+ltUG8pcHRwL3Bcb/ptDWyWaZlmGmMcX6Vau1VkUKdKikQXPlQ3SzAFKYsh5hkgEkMKWgJu+ojytOr74mfbAtTVzOjFRr/3uAKzb61FqIujRp99mzSYb5Uxk36RWJDAj7ePPJBQkfGSHZXQlwmbwZ72oqCnvKxBsim4bL4DxeXLCdNm2vPhpul18Vf5QAEpCQYRzRh0IPInPi9MNhY9kkO4SYBP4lTZWV1eaWL3ZQRpi2uKbfxu4m85cAFwO2/nbQdsnmmuZjxjS1/iWgRWuVAIS/dEjj7WN9cwmSknIooayhLzCg4DJ/tE83LruuMm3MDUkc2jxv2/qbmvsxWu5KgipNWfA5ywmOCVl5PZkaeQApDsj2WQa5H/kh2Vw5fumpmewKJep22s5rHCt/u9h8Rfy3nSztlT4f/oyfCl+IoAbwhJEA8YtR80J4AukTVePN1CCEnWTj9UPVnJXd5hdmWNaB9rKW2nbplv/W/Sbxlv0m0AbKRpwmZdY3lfHVtMVg1RaEtiRQQ/VjhhMSwqwiIsG3QTogvCA9/7//Mv7Hnk5dx+1U7OXce0wFu6W7S8roSpu6RloImcLJlSlv6TNJL2kEWQIpCOkIeRDZMelbaX1JpynoyiHacgrI2xXbeKvQzE2srr0TfZteBa6B3w9PfV/7YHjQ9RF/cedSbDLdY0pTspQlhILE6bU6FYNV1TYfRkFWiyasdsUW5Pb8Bvom/2brxt92upadRmfWOmX1ZbklZgUcZLzEV5P9U46jG+KlwjzhscFFEMdgSW/Lr07Ow35aTdPNYKzxfIasENuwm1Y68kqlOl9aAQnamZxZZmlJGSRpGJkFmQuJCkkR2TIJWrl7uaTJ5aot6m1Ks0sfq2G72Tw1bKXtGi2Bfgtedy70T3IP/9BtIOlBY5HrclBS0aNO06dEGpR4FN91IEWKBcx2ByZJ1nRGplbPttBW+Bb3Bv0W6lbe5rrWnlZptj0l+PW9dWsVEkTDVG7T9UOXEyTyv2I28cwxT+DCgFTf109ajt9OVi3vrWxs/QyCHCwLu2tQqwxarspYahmJ0nmjiXz5TukpeRzpCSkOOQwpEukySVopekmiieKKKgpomr3rCXtq68GsPUydPQDdh73xHnyO6U9mz+RQYXDtcVex35JEksXzM1OsBA+UbXTFNSZ1cLXDpg72MkZ9ZpAWyjbbluQm8+b6xujW3ja69p9Wa4Y/xfxlsbVwJSgEycRl9A0Dn4Mt8rjiQOHWoVqg3aBQL+LfZk7rLmH9+314LQisnXwnK8Y7aysGarhaYXoiCeppqtlziVTJPqkRSRy5AQkeKRQJMolZmXjpoFnvihY6Y/q4iwNrZBvKPCU8lI0HrX395v5h/u5fW4/Y4FXQ0bFb4cPCSMK6UyfTkLQElGLEyvUcpWdlutX2tjqmZnaZ1rSm1tbgJvC2+GbnRt12uxaQRn1GMlYPxbXldRUttMA0fRQEw6fjNtLCUlrR0QFlYOiwa4/ub2H+9u593fdNg+0UTKjsMlvRG3WrEHrB+nqaKpniWbIpiilauTPZJbkQWRPZECklOTLpWRl3qa453JoSem96o0sNa11rstwtLIvs/n1kXezeV27Tf1Bv3XBKMMXxQBHH8j0CrqMcU4Vz+YRYFLClEsVuBaIF/nYjBm92g4a/FsH27BbtZuXm5ZbcprsWkRZ+9jTWAxXJ9XnlI0TWhHQUHHOgI0+yy7JUsetBYBDzsHbP+d99rvKuia4DHZ+tH9ykTE172+twKyqKy5pzujMp+lm5eYDZYKlJGSopFBkWyRJJJnkzWVi5dmmsKdm6HspbCq4K93tWy7uMFTyDbPVtar3Szlz+yK9FT8IQTqC6QTRBvCIhQqLzENOKI+6ETWSmVQjlVJWpJeYmK1ZYZo0mqXbNFtf26hbjVuPm27a7BpHmcIZHRgZVzgV+tSjU3MR7BBQDuFNIgtUCboHlgXqw/qBx8AVfiU8OboVuHt2bXStsv6xIm+bLiqskqtVKjNo7yfJZwNmXmWa5TmkuuRfZGbkUaSfZM+lYaXVJqjnW+hs6Vqqo+vGbUDu0TB1ceuzsbVE92M5Cjs3vOi+2wDMgvpEogaBiJYKXUwVTfuPThEK0rAT+9UslkDXtxhOWUVaGxqO2yBbTxuam4MbiFtrGuuaSlnIWSZYJdcH1g2U+RNL0geQrk7CDUTLuQmgx/7F1QQmAjSAAv5TfGh6RLiqdpw02/MsMU8vxq5UrPsre+oYKRGoKachJnllsyUO5M1krqRzJFqkpSTR5WCl0OahJ1EoXulJqo+r720m7rSwFnHKM421Xvc7eOD6zLz8vq3AnoKLxLNGUohnCi7L502OT2IQ4BJG09RVBtZdF1WYb1komcEat9rMW34bTJu4W0DbZtrqmkzZzhkvWDIXFxYgFM6TpBIikIwPIk1nS53Jx4gnRj8EEYJhAHB+QbyXOrO4mXbK9QozWfG7r/Iufuzjq6KqfOk0aAonfyZU5culZKTgJL5kf6Rj5Krk1KVgJczmmidGqFEpeOp7q5htDS6YMDdxqPNqNTl20/j3uqI8kL6AwLDCXUREhmOIOEnAS/lNYU810LVSHVOslOEWOVc0GBAZDBnnGmCa+Bss236bbVt5WyJa6ZpO2dNZOBg+FyZWMlTj07xSPZCpjwJNicvCSi4ID4ZpBHzCTYCd/q+8hbrieMg3OXU4c0dx6HAdrqjtDGvJaqHpVyhqp11msGXkZXpk8uSOJIxkrWSxJNelX6XJJpMnfGgD6WhqaCuB7TPufC/Y8YezRvUT9uy4jrq3vGT+VABDAm8EFcY0x8mJ0guLjXROydCKUjPTRJT7FdVXElgwmO8ZjNpJWuObG1twG2IbcRsd2ugaUNnYmQCYSZd1FgRVOJOUElgQxs9hzavL5ooUSHeGUoSnwrnAiv7dvPQ60Tk29yf1ZrO08dTwSS7TLXUr8GqHKbooS2e7povmPWVQpQYk3iSZJLckt6Ta5V+lxeaMZ3JoNukYKlTrq+za7mBv+nFm8yP07vaFuKX6TXx5fieAFYIBBCdFxgfbCaOLXc0HDt3QX1HKU1zUlNXxVvBX0RjSGbKaMZqO2wmbYZtWm2jbGJrmWlJZ3VkImFTXQ5ZV1Q1T65JyUOOPQU3NjAqKekhfRrwEkoLlwPf+y30iez+5JbdWdZSz4nIBsLSu/W1d7Beq7CmdaKwnmebn5halpuUZZO6kpmSBJP6k3mVf5cLmhido6CopCCpCK5Xswi5E79xxRnMBNMn2nvh9eiN8Dj47f+hB0wP4xZeHrEl1SzAM2g6xkDSRoNM01G6VjRbOV/FYtNlX2hnaudr3mxKbSttgWxNa5FpTmeIZEFhf11GWZxUhk8KSjFEAT6CN7wwuCmAIhsblBP1C0YEk/zj9ELtuOVQ3hPXCtA+ybjCgbyfthqx+qtFpwGjNJ/imw+Zv5b1lLST/JLPki2TFpSIlYGXAJoAnX6gdqTiqL2tAbOmuKe++sSZy3rSldnh4FTo5e+L9zz/7AaVDioWpB34JBwsCDO0ORZAJkbcSzNRIVaiWrBeRWJdZfRnB2qSa5VsDW37bF5sN2uHaVJnmGRfYapdflngVNZPZkqYRHI+/TdBMUYqFiO5GzgUngz0BEX9mfX67XHmCt/M18LQ9Mlrwy+9SLe+sZes26ePo7ifXZyAmSWXUJUDlD+TBpNYkzOUmJWFl/aZ6ZxaoEWkpah0rayyRrg7voTEGcvx0QPZR+C05z/v3/aL/jgG3g1yFeocPiRjK1IyADllP3pFNkuSUIhVEVonXsVh52SIZ6ZpPWtLbNBsymw5bB9rfWlUZ6hkfGHUXbRZIlUkUMBK/UTiPnc4xTHTKqojVRzbFEcNogX3/U72se4q58Pfhdh60arKHcTdvfG3YbI0rXGoHaQ9oNic8ZmMl6yVU5SEkz6Tg5NSlKqViZftmdOcOKAWpGmoLK1Ysue30b0QxJrKadFz2K/fFeeZ7jT23P2FBSgNuhQxHIUjqyqbMUw4tT7ORI9K8U/uVH9ZnV1EYXBkG2dEaeZqAGyRbJhsFGwHa3FpVme3ZJdh/F3pWWRVclAZS2FFUT/wOEcyXis+JPAcfRXvDU8Gqf4D92jv4+d84D7ZMdJfy9DEjL6buAWz0q0Hqaukw6BUnWOa9JcJlqSUyZN3k6+TcZS8lY+X5pm/nBeg6KMvqOWsBbKIt2i9nMMdyuLQ5NcY33bm9e2K9S390gRyDAIUeBvMIvMp5DCYNwQ+IUToSVBPVFTsWBNdw2D4Y65m4WiParVrUmxlbO5r7WplaVZnxGSyYSNeHVqkVb5QcUvERb8/aDnJMukr0SSLHR4Wlg78Bln/tvcf8JvoNeH32enSFMyCxTq/Rbmqs3Cunqk6pUmh0Z3WmlyYZpb2lA+UsZPdk5KU0JWWl+CZrJz2n7uj9aefrLSxK7cAvSrDocld0FXXgt7Z5VHt4fR//CAEvQtLE8AaEyI7KS4w5DZUPXVDQUmvTrlTWViIXEFggGNAZn5oN2poaxFsMGzGa9JqV2lVZ9Bky2FJXk9a41UJUchLJkYsQN85SjNzLGMlJB6/Fj0PpwcIAGr41PBT6e7hr9qg08nMNMbpv++5TrQOrzWqyaXQoU+eSpvFmMSWSZVWlOyTC5S0lOWVnZfbmZqc2J+Qo72nW6xjsdC2mby4wiXJ2M/I1u3dPOWu7Dj00ftvAwkLlBIIGlshgyh4LzA2ozzJQppIDk4fU8ZX/Vu/Xwdj0WUaaN5pG2vQa/trnWu2akhpU2fbZONhbl6BWiBWUlEdTIdGl0BVOskz+yz0JbweXhfiD1IItwAc+YrxCuql4mfbV9R+zebGl8CZuvO0rK/MqlimV6LNnr6bL5kjl52VnpQolDuU15T7laeX15mJnLqfZaOGpxisFLF1tjS8SMKryFXPPNZY3aHkDOyQ8yX7vgJVCt4RURmjIMwnwi58NfM7HELyR2xNhFIyV3FbPF+OYmJltWeEacxqjWvFa3RrmWo4aVBn5WT5YZFesVpdVptRcUzmRgFByjpHNIIthCZUH/wXhxD8CGUBzvk/8sDqXeMe3A3VM86Yx0bBQ7uXtUuwZKvopt+iS58znJqZg5fyleeUZJRrlPuUEpaxl9SZeZydnzyjUafWq8ewHLbPu9nBMsjSzrHVxdwG5Gvr6vJ5+g4CogkpEZoY7B8VJwwuyTRCO3BBS0fKTOhRnlblWrheE2LxZE9nKWl9akprjmtJa3tqJmlMZ+1kD2KzXt9amFbiUcRMRUdrQT07xTQJLhIn6h+aGCoRpQkTAoD68/J26xTk1dzE1ejOS8j0we27PLbqsPyreadno8qfqZwFmuSXR5YxlaKUnZQglSuWvJfTmWucgp8Uoxynlat6sMS1bLtrwbrHUc4n1TPcbePL6kPyzvlfAe8IdBDkFzUfXiZXLRU0kjrEQKNGKExMUQlWWFo0XplhgGToZs1oLWoFa1VrHWtcahRpRmf1ZCNi1F4NW9JWKFIWTaJH00GwO0E1ji6gJ4AgNxnNEU0KwAIx+6bzLOzL5Izdetacz/zIo8KXvOG2ibGUrAqo76NKoB+dcZpFmJ2We5XhlM+URpVElsmX0plenGif7aLpplarL7BttQq7/8BEx9HNntSi29TiK+qe8SP5sAA9CL8PLRd+HqgloSxiM+I5F0D7RYZLsFB0VctZsF0dYQ9kgWZxaNxpwGoca/BqPGoBaUBn+2Q2YvReOVsLV21SZ03+RzlCITy8NRIvLSgVIdIZbxL1CmwD4ftZ9OHsgeVD3jDXUdCuyVHDQb2HtyiyLa2bqHmky6CWnd6aqJj0lseVIZUDlW2VXpbWl9OZUpxPn8iit6YYq+SvF7WpupPAzsZSzRbUEds84o3p+vB6+AIAjAcLD3gWyB3yJOwrrzIxOWs/U0XjShRQ31Q+WStdoWCdYxlmFGiKaXpq4mrCahtq7Gg4ZwBlSGITX2VbQlexUrZNWUifQpE8NjaVL7koqCFtGhATmwsYBJD8DPWW7Tfm+d7l1wXRYMoAxOy9LLjIssatLakCpUuhDZ5MmwuZTJcUlmKVN5WVlXqW5ZfVmUecN5+jooam26qbr8O0SbopwFrG08yP04LapeHv6Fbw0fdW/9sGWA7DFRIdPCQ4K/wxgTi+PqtEQEp3T0lUsFilXCVgKmOxZbZnN2kzaqdqk2r4adZoL2cEZVliMF+PW3lX81IETrJIBEMAPa42GDBDKTsiBxuxE0EMwwQ//b71Su7s5q/fm9i50RLLrsSWvtK4aLNfrr+pjKXNoYWeuptumaWXYZajlW2VvpWWlvWX2Jk9nCGfgKJWpp+qVK9vtOu5wL/mxVfMCdP02Q/hUuiz7yn3qv4rBqUNDhVcHIYjgypJMdE3ET4DRJ5J206zUyFYH1ynX7ZiR2VXZ+Ro62lramRq1Wm/aCVnB2VoYkxft1uuVzVTUU4LSWdDbj0mN5kwzSnNIqAbUBTmDG0F7f1v9v3uoedk4FDZbNLDy13FQb93uQi0+a5RqhemT6L+nimc05n/l6+W5pWjleiVtJYGmNyZNJwMn16iKKZkqg2vHbSNuVi/dMXby4TSZ9l64LbnEe+B9v79ewXzDFoUpxvRIs8plzAhN2U9W0P7SD1OHVOSV5hbKl9CYt1k+GaPaKJpLmozarBpqGgaZwhld2JoX99b4ld1U51OYknJQ9o9nTcYMVYqXSM4HO8Uiw0WBpr+H/ew71boGeEE2iDTdcwLxuu/HbqotJOv5KqiptGieJ+ZnDiaWZj+limW25UTltOWGJjimS2c+J4+ovulK6rIrsyzMbnxvgPFYMsA0trY5t8b53Du2/VT/c0EQgynE/MaHCIaKeQvcTa4PLJCV0igTYZSA1cRW6tezWFyZJdmOmhYafBpAWqLaY9oDWcJZYRigV8FXBRYs1PoTrhJKkRGPhI4lzHdKu0jzxyMFS4OvgZH/8/3Y/AK6c7hudrT0ybNucaWwMO6SbUtsHirLadVo/KfCZ2emrWYT5dulhOWQJbzliuY6JknnOWeHqLPpfKphK58s9a4i76TxObKfdFP2FPfgebQ7TX1qPwfBJAL9BI+GmghZygyL8E1DDwKQrRHA03vUXNWilosXldhB2Q2ZuRnDWmxac5pZGl1aABnCGWQYppfK1xGWPFTMU8NSopEsD6HOBUyZCt8JGUdKRbRDmYH8/9/+BTxvemC4m3bhtTXzWjHQMFpu+m1yLALrLmn2KNsoHqdBZsRmZ+Xs5ZNlm2WE5dAmPCZIpzTngCipKW7qUGuLrN8uCa+JMRtyvvQxdfB3ujlMO2Q9P/7cQPgCkESixm0ILMngC4RNV87YUEQR2VMWFHjVQJarV3hYJpj1GWNZ8JocWmaaT1pWWjxZgZlm2KyX09cdlgtVHlPYErpRBk/+jiSMuorCSX6HcUWcw8NCJ0ALvnG8XDqNuMh3DnViM4WyOvBD7yKtmOxn6xGqFyk56DrnWybbpnxl/mWh5abljWXVZj5mR6cwp7joXqlhqn/reCyJLjDvbbD9sl70DzXMN5Q5ZLs7PNW+8QCMAqPEdcYACAAJ84tYjSzOrlAbUbHS8BQU1V5WS1da2AtY3JlNWd1aDBpZWkUaT1o4mYDZaRiyF9xXKVYaVTBT7NKRkWCP2w5DjNuLJYljx5gFxQQswhIAdz5d/Ij6+rj1Nzs1TnPxMiWwra8K7f+sTOt06jhpGOhXp7Vm8uZRJhBl8OWy5ZYl2uYApobnLOex6FSpVGpvq2Ussy3YL1Jw3/J+8+z1qDdueT060nzrvoYAoEJ3RAkGE0fTSYcLbIzBjoQQMlFKEsoUMJU8FitXPNfwGIOZdxmKGjuaC9p6mggaNFm/2StYt1fk1zTWKNUBlAES6NF6T/dOYgz8iwiJiIf+he0EFkJ8gGJ+ifz1eud5Ifdntbpz3LJQMNcvc23mbLIrWCpZqXfodGePpwqmpeYiZf/lvuWfJeDmA2aGZylnqyhK6UeqX+tSbJ2t/+83sIKyXzPLNYR3SPkV+um8gb6bQHSCCwQcheZHpolaywDM1o5aD8lRYpKkE8xVGZYLFx7X1FiqmSDZtlnq2j4aMBoAmi/ZvpktGLxX7RcAFncVEtQVEv+RU5ATToCNHQtrSa0H5MYUxH+CZsCNvvX84bsT+U63lDXmtAgyuvDAr5uuDWzXa7tqeulXKJEn6eciZrsmNKXPJcsl6GXnJgZmhmcmJ6SoQWl66hBrf+xIbefvHPClsj/zqbVg9yN47vqBfJg+cIAJAh8D8AW5x3oJLkrUzKtOL8+gUTrSfhOn1PdV6pbA1/iYUVkKWaKZ2howWiUaOJnrGb0ZLpiBGDTXCxZE1WPUKNLWEazQLw6ejT1LTYnRiAsGfIRoQpDA+L7hvQ47QLm7d4C2ErRzsqWxKm+ELnQs/Kue6pyptqiuJ8SnemaQZkbmHqXXpfIl7WYJ5oanIyeeqHgpLqoBK22sc22QLwKwiPIgs4h1fbb+eIg6mTxuvgYAHcHzA4OFjUdNiQIK6QxATgWPt1DTElfTg1TUlcoW4lec2HgY85lOmcjaIhoZ2jCZ5hm7GTAYhVg8VxWWUpV0VDxS7FGF0EqO/E0di6/J9YgwxmQEkUL6wOO/DT16O2z5p/ftNj60XzLQMVQv7G5bLSIrwqr+KZYoy2gfZ1Jm5eZZpi6l5KX75fQmDWaG5yBnmKhvKSKqMisb7F6tuO7osGxxwfOndRq22XihunE8BT4b//KBh0OXRWDHIQjVyr1MFU3bj04Q61Ixk17UsdWpVoQXgJhemNyZepm3mdOaDlooGeDZuNkw2ImYA5df1l/VRJRPkwJR3lBljtoNfUuRyhmIVoaLBPnC5IEOf3i9ZjuZedR4GXZqtIqzOvF9r9Tugm1HrCZq3+n1qOioOidq5vtmbKY+pfGlxeY7JhEmh6cd55MoZqkXKiNrCmxKLaGuzvBQMeNzRrU3trS4e3oJPBw98f+HgZuDa0U0RvSIqcpRjCoNsU8lEIOSCxN6FE8ViJalV2SYBNjFmWYZphnE2gLaH5nbWbaZMZiNWAqXadZs1VSUYlMX0faQQI83TVzL84o9CHvGsgTiAw5BeP9j/ZI7xboAuEW2lrT18yVxp3A9bqltbSwKKwGqFWkGKFVng2cRZr+mDuY+5dAmAmZVZoinG+eN6F4pC6oVKzjsNi1K7vVwNDGE82Y01TaQeFU6IbvzPYe/nIFvwz8EyAbISL2KJgv/DUcPO9Bb0eTTFZRsVWfWRtdIGCrYrhkRWZQZ9hn22daZ1Zmz2TIYkNgRF3OWeZVkVHUTLVHOkJsPFE28S9TKYIihBtkFCkN3gWN/jz39+/G6LPhx9oK1IXNQMdEwZe7QrZLsbesjqjVpI+hwp5wnJ2aS5l8mDGYapgnmWaaJ5xnniOhWKQCqBusn7CJtdG6cMBhxpvMFtPL2bDgvefo7in2d/3HBBIMTRNvGnAhRijpLlA1cztLQc9G+UvCUCVVG1mfXK5fQ2JaZPJlCGebZ6pnNmc9ZsNkyWJQYF5d9FkYVs5RHU0JSJlC1TzENm0w2CkOIxgc/hTJDYMGNv/o96Xwdulk4nfbudQyzurH6sE5vN+24bFHrRepVaUGoi+f1Jz2mpqZv5homJWYRpl5mi6cYZ4RoTmk16fkq12wOrV3ug3A88UkzJbSQ9kg4CbnS+6H9dD8HQRkC54SvxnAIJcnOy6kNMs6pkAvRl9LL1CYVJZYI1w7X9lh+2OeZb9mXmd5ZxBnJGa2ZMhiXGB2XRhaSFYLUmVNXEj3Qj49NjfoMFwqmiOrHJcVaA4nB97/lPhT8SbqFOMn3GjV386VyJHC3Lx8t3iy2K2fqdWlfqKenzidUJvpmQOZoJjBmGaZjZo1nFye/6AbpK2nrqsbsO20H7qqv4fFrssX0rvYkd+Q5q/t5vQr/HMDuArvEQ8ZECDnJo0t+DMiOgFAj0XFSptPC1QRWKdbx15wYZxjSWV2Zh9nRmfpZgpmqGTGYmdgjV08WnhWRlKrTa5IVEOlPac3YjHfKiUkPR0wFgcPyweEAD/5AfLV6sTj19wX1ozPP8k4w369GbgQs2iuKapWpvaiDaCdnaubOJpImdmY7piHmaKaPZxYnu+g/6OEp3mr26+itMm5Sb8bxTnLmdE12APf++UU7UX0hfvKAgwKQRFgGGAfOCbfLE0zeTldP+9EKkoGT35TjFcqW1NeBWE7Y/NkK2bgZhNnwmbuZZlkxGJxYKNdXlqmVoBS8U3/SLBDCz4WONsxYCuuJM4dyBakD20IKwHp+a7yhOtz5IfdxtY50OnJ38Mhvre4p7P5rrKq2KZvo3ygA54GnImajZkTmR2ZqZm3mkecVZ7goOOjXKdGq5uvV7Rzuem+scTFyh3RsNd23mfleuym8+H6IQJgCZMQsRewHoklMSyhMtE4uD5PRI9Jck7xUgZXrFrfXZpg2mKdZN9loGbeZplm0mWJZMBieWC4XX9a01a5UjVOTkkKRG8+hThTMuErNyVeHl4XQRAPCdIBk/pa8zLsI+U23nTX5tCUyobEw75UuT+0iq88q1qn6aPtoGmeY5zbmtOZTplMmcyZzppRnFOe0qDJozanE6tdrw20HrmJvkjEUsqh0CvX6t3U5OHrB/M9+noBtQjmDwIXAR7aJIMr9jEoOBM+r0P0SN1NY1J/Vi5aal0uYHliRmSTZV9mqWZwZrRld2S7YoBgy12fWv9W8VJ5Tp1JY0TTPvM4yjJhLL8l7R70F90QsAl3Ajz7BvTg7NHl5d4i2JLRPsstxWa/8rnXtBywx6vdp2OkXaHRnsCcLZsbmoqZfJnwmeaaXZxTnsWgsKMQp+KqIK/Fs8u4K77gw+DJJtCo1l/dQuRI62jymvnTAAsIOQ9UFlIdKyTWKkoxfzduPQ5DWUhITdRR+VWvWfRcwl8WYu1jRmUdZnJmRWaWZWVktWKHYN5dvloqVydTu07qSbxENj9fOUAz3yxGJnwfiRh4EVAKHAPl+7H0je2A5pPf0Ng/0ujL08UJwJC6cLWusFKsYKjdpM+hOZ8dnYCbY5rHma2ZFZr/mmqcU565oJij7KayquSufrN5uM+9ecNwyazPJtbV3LHjsOrL8fj4LABiB40OpxWkHH0jKSqfMNc2yTxuQr5Hs0xGUXFVMFl9XFVfs2GVY/hk2mU7ZhlmdmVSZK1ijGDvXdtaU1ddU/xONkoTRZc/yzm1M10tzCYJIB4ZEhLwCsADjPxc9TnuLudB4H7Z69KSzHrGrMAuuwi2QLHdrOOoWKVBoqGffJ3Um6yaBJrfmTuaGZt4nFWerqCBo8mmg6qqrjizKLhzvRPDAMkzz6XVTNwg4xnqLvFW+Ij/uAbiDfkU9hvPInwp9C8uNiQ8zUEiRx1Mt1DqVLFYBlznXk9hO2OpZJZlAmbtZVVlPWSlYpBg/134WnxXkVM8T4JKaUX3PzU6KDTaLVAnlSCxGawSjwtjBDT9Bvbm7tvn7+Ar2pfTPM0hx0/BzLuhttOxaK1nqdSltKIKoNudKZz1mkOaEppimjSbh5xXnqWga6OnplWqcK7zsti3GL2uwpHIu84k1cPbkeKD6ZLwtffi/hAGNw1NFEkbIiLPKEkvhjV/Oy1Bh0aHSyhQYlQwWI9beV7qYOFiWWRSZcllv2U0ZShknGKTYA9eE1ujV8RTek/LSr1FV0CeOps0VS7UJyEhQxpEEy0MBgXa/bD2ke+I6J3h2NpD1OXNyMfywWu8OrdmsvSt66lQpiejdKA7nn6cQJuCmkaaippQm5ecW56coFajh6Ypqjiur7KJt7+8SsIkyEXOpdQ82wLi7uj37xX3Pv5oBYwMoBObGnQhIyieLt402jqMQOtF8UqYT9lTsFcXWwpehWCFYghkDGWPZZFlEWURZJFilGAdXi1byVf2U7hPFEsRRrVABjsNNdAuVyirIdUa3BPKDKgFgP5Z9z3wNelK4oXb79SPzm7IlcIJvdO3+bKBrnCqzaabo9+gnJ7UnIybw5p6mrSabpuonGCelaBDo2em/akBrm2yO7dmvOfBt8fPzSfUttp04VroXe929pr9wQTiC/US7xnHIHcn8y02NDU66z9PRVtKCE9QUy9XnlqaXR9gKmK3Y8ZkVGVhZe5k+WOGYpVgKV5GW+5XJ1T0T1xLZEYSQW07fTVJL9koNSJlG3MUZw1JBiX/Afjn8OHp9+Iy3JrVOM8VyTjDqL1suIyzDa/1qkqnD6RKof2eLJ3YmwSbsJremoybupxmno6gMKNJptOpy60rsu+2D7yGwUzHWs2p0zDa6ODG58Tu1/X3/BoEOQtJEkIZGyDLJkktjTOQOUo/s0TESXhOx1KtViVaKl24X81hZWN+ZBhlMWXJZOFjeWKVYDVeXlsSWFZUL1CiS7VGbkHTO+01wi9aKb4i9RsJFQIO6gbK/6n4kvGN6qPj3txF1uLPvMnbw0e+BrkgtJqve6vIp4SktqFfn4OdJZxGm+eaCZurm82cbZ6JoB+jK6aqqZat67Gjtrm7JcHixufMLdOs2VzgNOcr7jn1Vfx0A5AKnhGWGG8fHyafLOUy6zipPhZELUnnTT5SK1arWblcUV9wYRJjNmTbZABlo2THY2xik2BAXnVbNViFVGlQ6EsFR8lBODxbNjkw2ilFI4QcnhWdDooHbQBQ+TvyOOtP5Ird8NaL0GLKfsTlvqC5tLQosAGsRqj6pCKiwp/cnXOciZsfmzWby5vhnHWehaAPow+mgalirayxWbZku8bAecZ0zLLSKdnR36Lmk+2c9LP7zwLoCfQQ6xfDHnMl9Cs9MkY4CD56Q5ZIVk20UalVMVlIXOleEmG+Yu1jnWTNZH1krGNdYpFgSV6KW1ZYslSiUCxMVEciQpw8yTawMFkqzCMSHTMWOA8pCBAB9/nk8uPr++Q13pvXNNEJyyHFhL86uki1tbCIrMSocKWPoiWgNZ7CnM2bV5tim+yb9px+noKgAKP0pVupL61usRC2ELtowBDGA8w30qbYR98R5vzsAPQS+yoCQAlKED8XFx7IJEorljGiN2c93UL/R8VMKVEmVbdY1luBXrNgamKkY19kmmRVZJFjTWKNYFJen1t3WN5U2lBvTKJHe0L/PDU3JTHXKlIknx3GFtEPxwizAZ36jfON7Kbl4d5G2N3Rr8vExSPA1LrctUOxD61Dqeel/aKJoI+eEZ0RnJGbkJsOnAydiJ6BoPKi2qU1qf6sMbHItb26C8CpxZLLvtEl2L7egeVm7GTzcvqGAZkIoQ+VFmwdHSShKu4w/TbFPEFCaEc0TJ9Qo1Q7WGNbF15TYBViWWMfZGZkLWR0Yz1iiGBZXrJbllgKVRFRsUzvR9JCYD2gN5oxVCvXJCseWRdpEGUJVQJC+zX0N+1R5ozf8NiG0lbMZ8bCwG67cbbSsZatw6lepmuj7qDqnmKdV5zLm76bMpwknZSegKDlosGlEKnOrPWwgbVruq+/Q8Ujy0bRpNc23vLk0evK8tP54wDyB/gO6hXBHHMj9ylGMFg2JDykQdBGoksTUB9UwFfwWq1d81+/YQ5j32MxZANkVmMrYoNgX17EW7RYNFVGUfJMO0gpQ8E9CzgNMtArWyW2HusXARECCvYC5/vd9OHt/OY24JrZLtP8zArHYsEIvAa3YLIerkOq1qbao1ShRp+znZ2cBpzum1acPJ2gnoCg2qKqpe2onqy6sDu1G7pUv9/EtcrP0CXXr91k5D3rL/I0+UAATAdQDkEVFhzIIk4pny+zNYM7B0E4RhBLiE+bU0NXfVpDXZJfaGHBYp1j+2PZYzdjGGJ8YGVe1VvRWFxVe1ExTYZIfkMgPnQ4fzJLLN4lQR98GJgRngqWA4v8hPWJ7qbn4eBE2tfTos2uxwHCo7ybt++ypq7Eqk6nSaS6oaKfBZ7knEKcH5x7nFWdrp6CoM+ik6XKqHCsgbD2tMu5+r57xEfKWNCm1ijd1+Op6pbxlvif/6cGqA2XFGwbHiKlKPguDjXiOmpAoEV+SvxOFlPHVgha2FwwXxBhdGJbY8RjrWMYYwRidGBpXuVb7ViEVa5RcE3PSNJDfz7cOPEyxSxgJsofDBkuEjkLNgQv/Sr2Mu9P6Ivh7dp/1EjOUcigwj69MLh+sy6vRKvHp7qkIKL/n1ieLZ1/nFGcoZxwnbyehKDGon6lqahDrEiws7R9uaG+GMTbyePPKdaj3ErjFur+8Pj3/f4CBgEN7hPCGnQh/CdQLmo0QDrNPwhF60lwTpFSSVaUWWxczl64YCdiGGOMY4Fj92LvYWtgbF70WwhZq1XgUa1NGEklRNw+QzlhMz4t4SZTIJsZxBLUC9UE0v3Q9trv+eg14pfbJ9XuzvTIP8PYvca4DrS3r8arQKgqpYiiXaCrnnWdvZyDnMici53LnoigvaJppYmoGKwRsHC0MLlJvrbDcMlvz6zVH9y/4oTpZvBc91z+XgVaDEYTGRrLIFMnqS3FM585MD9wRFhJ5E0MUsxVHln/W2teX2DYYdRiU2NTY9Vi2WFhYG5eAlwiWdBVEVLqTV9Jd0Q4P6k50DO2LWEn2iAqGlgTbgx0BXT+dfeB8KHp3uJA3M/VlM+Xyd/Dc75cuZ60QLBIrLqom6Xworug/56/nfyct5zwnKed3J6MoLaiVqVqqO2r268vtOS4871WwwbJ/M4w1ZvbNOLz6M/vwPa8/boEtAueEnAZIiCrJgItITP+OJI+10PFSFdNhlFOVahYklsIXgVgiWGQYhljJWOyYsJhVmBuXg9cOln0VUFSJU6lSchEkz8OOj40LS7gJ2EhtxrsEwcNEgYW/xr4KPFK6ofj6Nx31jrQOsp+xA+/8rkutcmwyqw0qQ2mWaMaoVSfCp48neucGZ3Fne6ekqCwokSlTKjDq6av77OZuJ299sKdyIrOttQZ26rhY+g57yX2Hf0YBA4L9hHHGHkfAyZcLHwyXDj1PT5DMkjKTABRz1QyWCVbo12rXzhhSmLfYvZij2KqYUlgbl4bXFJZF1ZwUl9O6kkYRe0/cjqsNKMuXijnIUQbfxSfDa8Gt/+++M/x8uow5JHdHtff0N3KHsWqv4i6vrVTsU2tr6mApsKjeqGqn1WefJ0hnUOd450An5mgqqIzpS+om6tyr7CzT7hJvZjCNcgZzjzUl9oi4dPnpO6K9X78dQNpCk8RHxjRHlsltSvYMbs3Vz2mQp9HPUx6UFBUu1e3Wj5dUF/nYARipGLGYmpikWE8YG1eJVxoWTpWnVKYTi5KZkVGQNQ6GDUXL9soayLQGxEVNw5LB1YAYvl18pnr2OQ53sXXhdF/y73FRcAeu0+23bHQrSqq8qYspNqhAaChnr2dV51unQOeFJ+goKaiI6UTqHSrQK9yswa49rw6ws7Hqc3D0xbamuBF5w/u8fTg+9MCxAmoEHcXKB6zJA8rNDEaN7o8DUILR69L80/RU0RXSFrZXPRelmC9YWdilWJEYndhLmBqXi9cfVlbVspSz05xSrRFnkA2O4M1iy9YKe8iWxyiFc4O5wf2AAX6GvNA7IDl4d5s2CrSIsxdxuDAtLvgtmiyU66mqmanlqQ7olig7p4Ano6dmp0jniifqaCjohSl+adNqw6vNbO+t6O83sFoxznNTNOX2RPgt+Z87Vj0QvsyAiAJAhDQFoEdDCRpKpAweTYcPHRBd0YhS2xPUVPMVthZc1yXXkNgdWEqYmNiHmJcYR9gZ143XJJZelb1UgZPs0oARvVAlzvtNf4v0ylyI+UcMhZkD4IIlQGn+r/z5+wn5ojfE9nP0sXM/MZ8wUu8cbfzsteuIqvapwKlnaKwoDyfQ57GncedRJ4+n7OgoaIGpd+nKKvdrvqyeLdSvIPBA8fLzNXSGNmN3yrm6ey/86b6kgF9CF0PKRbZHGQjwynsL9g1fzvaQONFk0rkTtBSU1ZoWQxcOl7wXyxh7GEwYvZhQGEPYGJePlylWZlWH1M8T/NKTEZKQfY7VjZwME0q9CNuHcIW+Q8cCTMCSftk9I3tzuYw4LrZdNNozZzHF8LivAK4frNbr5+rTqhtpQCjCKGKn4ee/530nWaeVZ++oKCi+qTHpwSrrq6/sjK3ArwpwZ/GXsxf0prYB9+e5VfsKPMK+vIA2ge4DoMVMhy+Ih0pSC82NeE6QUBPRQVKXE5QUtpV+FikW9xdnF/iYK1h/GHOYSNh/V9dXkVct1m3VkhTcE8zS5ZGn0FVPL424TDHKnUk9h1QF40QtQnRAur7B/Uz7nXn1+Bg2hnUCs47yLPCeb2UuAm04K8crMOo2qVjo2Kh2Z/LnjmeI56KnmyfyqChou6ksKfiqoCuhrLutrO70MA8xvLL69Ed2IPeE+XF65HybvlTADcHEw7cFIsbFyJ3KKQulTREOqg/u0R2SdRNz1FhVYdYPFt9XUdfmGBtYcdhpGEFYetfVl5KXMhZ01ZwU6RPcUvfRvNBsjwlN1ExPyv2JH0e3hchEU4KbgOL/Kv12O4b6H3hBtu+1K3O2shPwxC+JbmVtGWwmqw5qUemx6O8oSmgEZ90nlOerp6Fn9egoqLkpJqnwKpTrk2yq7Zmu3jA28WHy3fRotcA3onkNev78dT4tf+WBm8NNxTlGnEh0icALvQzpjkOPyZE50hLTU1R51QVWNNaHl3yXk1gLWGSYXph5mDYX09eTlzXWe9Wl1PWT69LJ0dFQg89izfAMbYrdSUEH2sYtBHmCgoEK/1O9n3vwegj4qzbYtVPz3rJ6sOnvre5IbXqsBitr6m0piukF6J6oFefr56DntOen5/loKSi2qSEp5+qJ64Wsmm2GbshwHrFHcsE0SfXfd3/46XqZvE6+Bf/9AXLDJETPxrLIC0nXS1TMwg5dD6RQ1hIwkzLUG1Uo1dqWr5cm14BYOxgW2FPYcdgw19GXlFc5lkJV71TB1DrS25HlkJqPfA3LjItLPMliR/4GEYSfQumBMr98PYh8GfpyeJR3AfW8c8ZyobEP79Kuq21cLGWrSaqIqeQpHKizKCen+yetJ75nrmf9KCootKkcKeAqvyt4LEots26y78axbTKktCt1vzcd+MW6tLwofd6/lQFKAztEpkZJSCIJrossjJqONs9/ELIRzlMSVDyUzFXAFpdXERetF+pYCRhI2GmYK5fPF5TXPRZIlfiUzdQJky0R+dCxD1TOJsyoixwJg4ggxnXEhQMQQVp/pH3xfAM6m/j99yr1pPQucoixda/3Lo6tvaxFa6dqpGn9qTPoh6h5p8pn+eeIJ/VnwShrKLLpF6nYarSraux6LWDuna/vMRNyiLQNNZ73O/iiOk+8Aj33f20BIULSBL0GIAf4yUWLBEyzTdBPWdCOUevS8ZPd1O9VpZZ/FvtXWZfZmDrYPVghGCYXzJeVFwAWjpXBlRmUGBM+Uc2Qx0+tjgHMxct7SaSIA0aaBOqDNsFB/8z+GjxseoU5JzdT9c20VjLvsVuwG67x7Z8spSuFKsAqFylK6NxoS+gZ58an0if8Z8VobGixKRMp0Sqqa13sam1Oboiv17E5smyz7zV+9to4vvoq+9w9kH9FATjCqQRTxjbHj8lcytxMS83pzzSQalGJktDT/tSSlYrWZpblF0YXyJgsmDHYGFggF8mXlRcDFpSVyhUlFCZTDxIhEN2Phg5cjOKLWgnFSGXGvgTPw11BqT/0/gL8lXrueRA3vLX19H3y1rGBcEBvFS3A7MUr4yrcKjDpYmjxaF5oKafTp9xnw+gJ6G4or+kO6cnqoGtRLFrtfG50L4CxIDJQ89F1Xzb4+Fv6Bnv2fWm/HYDQgoBEasXNh6aJNEq0DCRNg08PEEZRpxKv05/UtZVv1g3WztdyV7eX3hgmGA9YGhfGV5SXBZaaFdKVMBQ0Ex/SNFDzT55Odwz/C3jJ5chIBuGFNMNDgdAAHP5rfL5617l5d6W2HnSl8z2xp3BlLzht4qzlK8FrOCoKqbnoxmiw6Dmn4Ofm58toDqhv6K7pCunDKpbrRKxLrWquX6+psMbydXOz9T/2l7h4+eI7kP1C/zXAqEJXhAGF5Ed9yMuKi8w9DVzO6dAiEURSjxOAlJhVVNY1FriXHlemF8+YGlgGWBPXwteUFwgWn1XalTsUAdNwEgdRCM/2DlENG4uXCgYIqgbFBVnDqYH3AAT+k/znOwC5onfOdkb0zbNkcc1wie9b7gRtBSwfqxRqZOmRqRvog6hJqC5n8afTaBOociiuKQdp/KpNa3isPO0Y7kuvkzDt8hpzlnUgtrZ4Fnn+O2t9HH7OgIACbwPYxbtHFMjiymPL1Y12ToRQPhEhkm3TYVR7FTmV3Bah1woXlJfAmA4YPNfNF/9XU1cKFqQV4lUF1E9TQFJaER4Pzc6rDTeLtUomCIvHKIV+Q4+CHgBsfrx8z/tpuYt4NzZvNPVzS3IzcK7vf24mbSVsPeswqn7pqakxKJaoWig75/xn22gY6HRorakD6fZqRGtsrC4tB653r3ywlTI/c3l0wbaVuDP5mjtGPTY+p0BYAgaD78VSRyvIuko7y64ND86ez9nRPtIM00IUXZUeFcMWixc110LX8VfBmDNXxlf7V1JXC9ao1enVEBRcU1ASbFEzD+VOhM1Ti9NKRcjtRwuFosP1QgTAlD7kfTi7Unn0OB/2l7UdM7JyGXDTr6LuSG1F7FxrTSqZacGpRujpqGqoCegHqCPoHmh3KK1pAKnwanurISwf7TauJC9msLzx5LNctOL2dTfRubZ7ITzP/oAAcEHeA4cFaYbDCJHKE4uGzSlOeY+1kNwSK5MilAAVAtXplnQW4Vdw16IX9RfpV/9XtxdQ1w2WrVXxVRoUaVNfkn6RB5A8Tp5Nb0vxCmWIzoduhYdEGsJrQLt+zL1hO7s53ThItv/1BPPZcn9w+K+GbqptZix662mqs6nZ6Vyo/Sh7aBfoEugsaCQoeeitaT3pqqpy6xWsEe0l7hDvUPCkscpzQDTENlS377lS+zx8qf5ZAAiB9cNehQDG2khpSeuLX0zCzlQPkVD5UcpTAxQiVOcVkFZdFsyXXpeSl+gX31f4F7KXT1cO1rGV+FUkFHXTbtJQkVwQE073jUqMDkqEyS/HUUXrRAACkcDivzR9SXvj+gX4sTboNWyzwHKlcR1v6e6MrYasmauGas5qMilyqNCojGhmaB6oNSgqKH0orak7aaUqaqsKrAPtFW49rztwTLHwMyP0pfY0t435b3rXvIQ+cr/hAY2DdgTYBrHIAMnDi3gMnE4uT20QllHo0uNTxJTLVbaWBdb31wxXgtfbF9TX8Jet102XD9a1Vf8VLZRCE73SYhFwUCnO0E2lzCuKo8kQh7PFz0RlQrgAyf9cfbH7zHpueJm3EHWUdCdyi7FCcA2u7u2nLLhro2rpKgqpiOkkaJ2odOgqaD4oMGhAaO4pOOmgKmKrP+v2bMUuKu8mMHUxljMHtIf2FLesOQx68zxefgw/+YFlgw2E74ZJCBiJm4sQjLWNyM9IkLNRh5LDk+bUr5VdFi5Wotc5l3LXjdfKV+jXqRdLVxCWuRXFVXbUThOMkrORRFBADykNgIxIisLJcUeWBjMESkLeATD/Q/3Z/DT6VvjCN3i1u/QOcvGxZ3AxbtEtx+zXK8ArA+pjaZ9pOGiu6EOodmgHqHboRCju6Tbpmypa6zVr6Sz1bdhvETBdsbxy6/RqNfT3Svkpeo78eP3lv5JBfcLlRIcGYIfwSXPK6UxPDeNPJFBQUaXSo9OI1JOVQxYWlo2XJxdil4BX/5eg16PXSRcRFrxVy5V/1FoTmxKEkZfQVk8BjdtMZUrhiVHH+AYWhK8CxAFXv6u9wjxder946rdgteO0dXLXsYxwVS8zbeis9ivdax7qfCm16QxowGiSaEKoUSh9qEgo8Ck1KZZqU2srK9ws5a3GLzxwBnGjMtB0THXVd2m4xrqqvBO9/39rQRYC/QRehjgHiAlLysIMaI29zv/QLRFEUoPTqpR3VSkV/tZ4FtQXUleyl7SXmJeeV0aXEVa/ldGVSJSlk6lSlZGrUGwPGc31jEHLP8lyB9oGecSTwynBfn+S/in8Rbrn+RL3iLYLNJxzPfGxcHjvFe4JrRVsOqs6KlUpzGlgqNIooahPKFroRKiMKPFpM2mSKkwrISvPbNYt9C7n8C+xSfL09C81tjcIuOQ6RvwuvZk/REEuQpUEdkXPx5/JJAqazAINmA7bUAoRYpJj00xUWxUO1ecWYpbA10HXpJepV5AXmNdDlxFWglYXVVEUsJO3UqYRvlBBz3GNz8yeCx4Jkgg7hl0E+EMPQaT/+j4R/K360Dl7N7C2MvSDM2Px1rCc73huKm00rBfrVWquaeNpdSjkKLEoW+hk6EuokKjy6TIpjepFaxdrwuzHLeJu07AY8XDymfQR9Zc3J/iB+mM7yb2zPx1AxsKtBA4F54d3iPxKc4vbjXKOts/m0QDSQ9NuFD7U9JWO1kzW7Zcw11ZXndeHV5LXQJcRFoTWHJVZVLuThNL2UZFQlw9JTinMugs8CbHIHQaABRyDdMGKwCF+eXyV+zh5Y3fYtlp06jNKMjuwgK+a7kttU+x1a3Dqh6o6aUmpNmiAqKiobuhTKJUo9KkxKYoqfqrN6/bsuG2Q7v+vwrFYMr7z9TV4dsd4n7o/u6T9TX82wJ+CRUQlxb9HD4jUikxL9Q0MzpJPw5EfEiOTD5QiFNoVtpY21poXIBdIF5JXvldMl31W0JaHViHVYVSGU9JSxlHj0KwPYM4DTNXLWcnRSH5GosUAg5oB8QAIfqE8/fsguYu4ALaB9REzsDIg8OSvvW5sbXMsUuuMauEqEWmeqQio0Gi16HloWuiaKPapMGmGangqxKvq7Kmtv+6r7+xxP/Jkc9h1Wfbm+H353DuAPWe+0EC4Qh2D/cVXRyeIrMolC45NJ05tj6AQ/RHDUzETxZT/lV5WINaGVw7XeZdGV7VXRld5ls/WiVYm1WjUkNPfktYR9hCAz7fOHMzxS3dJ8MhfRsVFZIO/AdcAbz6IfSW7SLnzuCi2qXU385YyRfEIr+Auja2SrLBrqCr6qijps2kbKOBogyiEKKKonyj46S/pgypx6vurnyybba7umG/WsSeySjP79Tu2hvhcOfk7W/0CPunAUUI2A5YFbwb/iEUKPctnzMGOSQ+80JsR4tLSk+jUpNVF1gqWspb9lyrXeldr13+XNdbO1osWK1VwVJsT7FLlkchQ1U+OznYMzIuUig/IgEcnhUhD5AI9AFX+7/0Ne7C527hQdtD1XvP8cmsxLK/C7u7tsmyOK8PrFGpAacipbejwaJDojuiq6KRo+6kvqb/qLCrzK5PsjW2eLoVvwPEPsm/zn7Uddqb4OrmWO3e83P6DgGpBzoOuBQdG14hdSdaLQUzbziRPWVC5EYJS89OMFIoVbRX0Fl6W69cb123XYld41zHWzZaMli/Vd5Sk0/kS9NHaEOmPpU5OzSfLscouyKDHCcWrw8jCYsC8ftb9dPuYegO4uDb4NUW0InKQcVDwJa7QLdHs7Cvf6y4qV+nd6UDpAOjeqJnosyiqKP5pL6m9KiZq6quIrL9tTe6yb6uw+DIWM4P1P7ZHeBk5s3sTfPe+XYADQecDRkUfRq/INcmvixrMtk3/zzXQVxGh0pTTrxRvFRQV3ZZKVtoXDJdhV1hXcZctlswWjhYz1X5UrpPFUwPSK5D9z7vOZ40Ci86KTYjBR2vFjwQtQkhA4v8+PVy7wHpreJ/3H7WstAiy9XF08AhvMa3xrMosO+sIKq/p82lT6RFo7KilaLvor+jBaW/puqohKuJrvexx7X2uX6+WsOCyPHNoNOH2Z/f4OVC7L7ySvnf/3MG/wx7E94ZICA5JiEs0TFCN2w8SUHTRQVK101HUU9U7FYbWddaIVz1XFJdOV2pXKNbKVo8WN5VFFPfT0VMSkjzQ0Y/SDoANXQvrCmwI4UdNhfJEEYKtwMk/ZP2D/Cf6UzjHd0b103RustqxmTBrbxLuEa0oLBgrYmqHqgkppykiKPqosOiEqPXoxKlwabhqG+raq7MsZK1t7k1vgbDJciMzTLTEdki313luesv8rf4SP/YBWIM3RI/GYEfmyWFKzcxqzbZO7tAS0WCSVtN0lDjU4hWv1iFWthbtlweXRBdi1yQWyFaP1jtVS1TBFB0TIRIN0SUP586YDXdLx4qKCQFHrwXVBHXCkwEvP0v96zwPurr47zduNfo0VPM/8b0wTi90rjFtBmx0a3yqn+oe6bqpMyjJKPyojaj8aMgpcOm2Khcq0yuo7FetXi57L20wsrHJ83F0pzYpt7a5DDrofEk+LH+PwXGCz8SoRjjHv0k6SqeMBQ2RjstQMFE/0jfTF1QdVMjVmNYMlqPW3dc6lzmXGxcfFsYWkFY+lVFUydQo0y9SHpE4T/2OsA1RjCOKqEkhB5BGOARZwvgBFT+yfdJ8dzqieRa3lXYg9LrzJTHhcLEvVi5RbWSsUOuW6vgqNOmOKURpF6jIqNbowukL6XHptGoSqsurnuxK7U7uaS9Y8Jvx8PMWdIo2CveWOSo6hTxkvcb/qYEKwuiEQMYRB5gJE0qBDB+NbM6nj84RHtIYkznTwdTvVUGWN9ZRVs3XLRcu1xMXGdbDlpCWAZWXVNJUNBM9Ei8RC1ASzsfNq0w/ioYJQMfxhhqEvcLdAXs/mT45fF56yfl997y2B7Tg80pyBbDUL7euca1DLK1rsarQqksp4elVqSZo1KjgaMmpD+lzKbLqDirEq5Tsfm0/rhevRLCFcdhzO7Rttew3dfjIeqH8AH3hv0NBJAKBRFlF6cdwyOxKWov5zQgOhA/r0P4R+VLcU+ZUldVqFeKWfpa91t+XI9cK1xRWwNaQlgSVnNTa1D8TCtJ/UR3QKA7fDYUMWwrjiWAH0oZ8xKFDAcGgv/9+IHyFuzF5ZXfjtm50xzOvsinw92+ZbpGtoayKK8wrKSphafXpZyk1aOEo6ijQqRQpdKmxqgoq/etLbHItMO4Gb3Dwb3G/8uE0UPXN91X45vp++9w9vH8dQP1CWkQxxYJHSUjFSnQLlA0jTmBPiVDdEdnS/tOKlLwVEpXNVmvWrVbRlxiXAlcOlv3WUJYHFaIU4tQJ01hST1FwUDzO9k2eTHaKwMm/B/NGXwTEw2ZBhcAlvkc87PsYuYy4CvaVNS0zlPJOMRpv+y6yLYAs5uvm6wHqt+nKKbjpBKktqPQo1+kYqXZpsKoGavcrQixmbSJuNS8dcFlxp/LG9HS1r7c1+IV6XDv4PVd/N4CWwnNDyoWbByJInooNy65M/o48j2bQu9G6UqETrpRiVTsVuBYY1pzWw5cNVzmWyJb6llAWCVWnVOqUFFNlUl8RQpBRjw1N90xRyx4JnggTxoEFKANKwetAC/6t/NP7f/mz+DH2u7UTM/oycnE9r90u0m3e7MOsAetaqo6qHmmK6VQpOmj+KN9pHWl4aa+qAurw63ksGq0ULiRvCjBDsY/y7LQYtZH3FnikOjm7lH1yvtHAsIIMg+OFc8b7CHeJ54tIzNnOGM9EUJrRmtKDE5KUSFUjFaJWBZaMFvWWwZcwlsJW9xZPVgtVrBTyFB6TclJukVSQZc8jzdBMrMs6ybzINAajBQtDrwHQgHH+lL06+2c52zhY9uJ1eTPfcpaxYLA+7vKt/azgrBzrc6qlajLpnOljqQepCKkm6SJpeqmvKj9qqutwbA8tBe4TrzbwLnF4MpL0PPV0Nvb4Q3oXO7D9Df7sQEpCJcO8hQyG1AhQycELYwy0zfUPIdB5kXsSZVN2lC4UyxWM1jIWexanFvXW51b71rNWTlYNFbCU+VQok37SfZFmUHoPOk3ozIdLV4nbSFRGxIVuQ5NCNYBXvvr9IfuOOgI4v/bI9Z80BLL7MUPwYO8TLhxtPaw4K0yq/GoHqe8pc2kUqRMpLuknqX0pruo8aqUrZ+wD7Tgtw28kMBkxYLK5c+F1VrbXuGJ59TtNfSl+hsBkAf8DVYUlhq0IKgmayz1MUA3RTz8QGFFbUkcTWlQUFPMVdtXelmnWmFbp1t4W9VavVk0WDtW01MBUchNLUoyRt9BNz1COAUzhy3QJ+Yh0BuYFUQP3AhqAvX7hfUi79TopeKa3L3WFNGny33GnMELvc+47bRrsU2ul6tNqXGnBqYNpYikeKTcpLSl/6a7qOaqfa1+sOSzqrfNu0bAEMUmyoDPF9Xl2uLgB+dL7ajzFPqGAPgGYg26E/oZGCANJtIrXzGtNrU7cUDcRO5IpEz4T+ZSa1WDVytZYlomW3ZbUlu5Wq1ZLlhAVuRTHVHuTV1KbUYjQoY9mjhmM/AtQSheIk8cHRbOD2sJ/QKL/B72vO9w6UDjNd1X16zRPMwPxynCk71RuWm14LG7rv2rqqnFp1CmTqW/pKSk/aTKpQqnu6jcqmitXrC5s3W3jrv9v77Eyskbz6vUcdpn4IbmxOwb84P58v9hBsgMHxNeGXwfcyU5K8gwGTYmO+c/VkRvSCtMhk98UglVKlfcWBxa6lpEWypbnFqbWShYRFbzUzdRE06MSqdGZ0LTPfA4xTNYLrAo1SLNHKEWWBD6CY8DIf229lfwC+rc49Hd8ddE0tHMoMe3whu+1LnmtVayKa9jrAiqGqicpo+l9qTRpB+l4qUXp72o06pUrT+wkLNBt0+7tb9sxG/JuM4/1P7Z7d8F5j7skPLz+F7/ygUvDIUSwxjhHtgkoCoyMIY1ljpcP9BD70eySxRPElKnVNBWi1jVWa1aElsCW39aiFkgWEdWAVRQUTdOu0rfRqpCHz5GOSQ0vy4fKUsjSh0kF+AQhwohBLb9Tvfw8Kbqd+Rr3orY3NJmzTLIRMOkvle6Y7bMspivyqxmqm+o6KbRpS6l/6RDpfqlJafAqMqqQa0hsGezDrcSu26/HMQWyVXO1NOL2XPfheW46wXyY/jL/jQFlwvrESgYRh4+JAcqmy/zNAc60D5KQ29HOEuhTqdRRFR2VjpYjllwWt5a2VphWnVZF1hKVg5UaFFaTuhKF0frQms+mzmCNCYvjinBI8cdpxdoERQLsgRL/uX3ivFB6xLlBt8k2XPT+83DyNLDLb/auuC2QrMHsDGtxarFqDSnFKZnpS2lZ6UUpjOnxKjDqi+tBLA/s9y21roov8zDvcj0zWvTGtn73gblM+t68dT3Of6eBP4KURGNF6sdpCNvKQUvXzR3OUU+xELuRr5KLk47UeFTG1bpV0ZZMVqqWq9aQVpgWQ5YS1YaVH9Re04US01HLEO1Pu853jSLL/spNSRCHigY8BGhC0MF3/58+CLy2+ut5aDfvdkL1JDOVclfxLa/Xrtdt7mzdrCZrSSrG6mBp1imoaVdpYylLqZDp8iovaoeremvGbOrtpu64759w2XIk80C06rYg96H5K/q8fBG96f9CQRnCrgQ8xYRHQoj1ihvLswz5zi6PT5CbUZDSrtNz1B9U8BVllf9WPJZdVqFWiFaS1kDWEtWJVSVUZxOP0uDR2xD/z5BOjo17y9nKqkkvR6pGHYSLAzSBXL/Evm78nTsR+Y64FbaotQlz+fJ7cQ/wOG727cwtOawAa6Eq3Op0KedptuljaWypUqmU6fOqLiqDq3Or/Sye7Zhup++MMMOyDTNmtI62AzeCuQr6mjwufYV/XQD0AkfEFkWdxxwIj4o2S04M1c4Lj23QexFyUlHTWNQGFNkVUNXs1iyWT9aWVoAWjRZ91dKVi9UqVG8TmpLt0eqQ0c/kzqVNVIw0iocJTcfKRn8ErcMYgYEAKj5U/MO7eHm1ODv2jnVus94ynvFyMBlvFm4qLRXsWqu5avLqR6o4qYXpr6l2aVmpmWn1ai0qv+stK/Psky2KLpcvuPCuMfVzDPSy9eW3Y3jqOng7yz2hPzgAjkJhg/AFd0b1yGmJ0ItpTLHN6I8MEFrRU5J00z2T7NSCFXwVmlYclkIWi1a3lkdWetXSVY5VL1R2k6TS+tH6EOOP+Q67zW1MD0rjiWvH6kZgRNBDfAGlgA9+urzp+16527hiNvR1U/QCssJxlHB6rzXuCC1yLHTrkasI6puqCinU6bwpQCmg6Z3p9yosKrxrJuvrLIftvC5Gr6YwmTHeMzN0V3XId0S4yfpWe+g9fT7TAKjCO4OJhVEGz4hDiesLBIyNzcXPKlA6kTSSF5MiU9OUqtUm1YeWDBZ0Vn/WbtZBVndV0ZWQVTQUfhOu0sdSCRE1T80O0c2FjGmK/8lKCAnGgYUyw1+BygB0vqB9D/uFOgH4iDcaNbk0JzLl8bbwW69VrmYtTmyPa+nrHyqvqhup5CmI6YppqGmiqflqK6q5KyDr4my8rW4udm9TcIQxxvMaNHw1q3cl+Kl6NLuFPVl+7kBDQhXDo4UqhqlIHYmFix+Mac2izsiQGhEVkjpSxtP6FFNVEZW0lfuWJlZ0VmYWexYz1dCVkhU4lEUT+JLT0hgRBpAgjufNnYxDyxvJp8gpRqJFFMOCwi5AWb7GPXX7q3ooOK53P7WeNEuzCXHZcLzvdW5EbarsqevCq3Wqg6ptqfNplemUqbApp+n7qitqtisba9ossa1grmZvQPCvca/ywTRhNY63BziJehM7or01vonAXgHvw31ExIaDSDfJYEr6zAXNv86mz/mQ9pHdEutToFR71PxVYZXq1hgWaJZc1nSWMBXPlZOVPNRME8ITH9ImkReQNA79jbWMXcs3yYVISIbDBXbDpgISgL5+671b+9F6TnjUd2V1w3Sv8yzx+/CeL5Uuoq2HbMSsGytMKtgqf6nDKeLpnym36a0p/morKrNrFevSLKbtU25Wr27wWvGZMuh0BnWx9uj4abnx+0A9Ej6lQDiBiYNWBNwGWcfNiXVKjwwZTVKOuM+LUMgR7hK8E3FUDNTN1XOVvZXrlj2WMxYMVgmV6xVxVN0UbxOn0sjSExEHkCfO9U2xjF3LPImOyFaG1gVOw8MCdIClvxe9jTwHuol5FDep9gw0/PN98hBxNi/wbsCuJ+0nLH9rsWs+KqXqaWoIqgOqGuoNqlxqhisKa6isICzv7Zbuk++lsIrxwfMJdF+1gvcxeGl56Ptt/Pb+QQALgZODF8SVxgwHuEjZCmyLsMzkjgYPVBBNEXASO9LvE4lUSdTvlTqVahW91bYVkpWT1XnUxRS2k86TThK2EYeQxA/sToJNhwx8iuQJv4gQxtmFW4PZAlOAzb9IfcY8STrSuWT3wbaq9SHz6HKAMaqwaO98rmatp+zB7HTrgetpauuqiSqB6pYqhWrP6zTrc+vMrL2tBq4mbtvv5bDCsjEzL/R9NZd3PLhrOeF7XXzdPl6/38FfgttEUUX/hySIvonLS0nMuA2Ujt5P05DzUbxSbdMG08aUbFS31OiVPpU5VRkVHhTIVJjUD5OtkvOSIpF7UH+PcA5OTVvMGcrKia8ICYbbhWbD7UJxAPP/d339/Ej7Gnm0OBg2x/WFNFGzLrHdsOAv927kLiftQ2z3rATr7CttawlrP+rRaz0rA6uj693scKzb7Z4udu8ksCaxO3Ihs1e0m/XtNwk4rrnbu058xP59v7YBLQKgRA5FtMbSiGVJq8rkDAzNZI5pj1sQd5E+Ee1ShRNEE+nUNdRn1L9UvJSflKgUVtQsE6hTDBKYkc5RLlA6DzKOGQ0vC/YKr4ldSADG28VwQ8ACjMEYv6T+M/yG+2B5wfis9yO15zS5c1uyT3FWMHDvYO6m7cQteWyHLG4r7quJK72rTGu067dr0yxILNVtem32LofvrnBosXUyUvOAdPv1xDdXOLO513tA/O5+Hj+NgTwCZwPMxWvGgggNyU3KgAvjDPWN9k7jz/zQgJGuEgQSwlNn07RT51QA1EBUZhQyU+VTvxMAkupSPNF5UKCP8870DeLMwUvRCpNJSgg2hprFeIPRQqcBO/+Q/mg8w7uk+g34wHe9tge1H7PHcv/xivDpb9xvJO5ELfptCOzvrG+sCKw7K8csLKwrLEKs8q06bZluTu8Zr/jwq3GwMoWz6nTddhy3Zri5+dS7dPyZfgA/psDMwm9DjQUkRnMHuAjxCh1LesxITYROrc9DkERRL5GEEkES5lMzU2dTglPEE+zTvJNzkxIS2JJH0eCRI9BSD6zOtM2rjJKLqop1yTWH6waYhX8D4QK/wR1/+z5a/T67p/pYeRH31jamdUR0cbMvMj5xILBWr6Huwu56rYmtcKzv7IesuGxB7KQsnyzybR1tn+447qfvbDAEMS8x6/L5M9W1P/Y2N3d4gboTO2q8hj4j/0HA3wI5Q08E3kYlx2OIlgn8CtPMHA0TjjjOyw/JELHRBNHA0mXSstLn0wRTSFNz0wbTAZLkknBR5RFEEM2QAs9kznSNc0xiS0NKVwkfh94GlIVERC9ClsF9f+O+i/13++k6oXliOC02w/Xn9JpznPKwsZaw0DAd70Du+i4J7fDtb60GbTUs/GzbrRMtYi2IbgWumS8B7/8wUDFzsiizLfQB9WO2UTeJeMq6E3thvLQ9yP9eQLLBxMNSRJoF2ccQiHyJXEquS7FMpA2FTpPPTtA1UIZRQZHl0jMSaNKGksyS+tKREo+SdxHHkYHRJtB2z7LO3A4zTToMMUsaijcIyEfPxo9FSAQ7wqxBW0AKvvt9b7wo+ui5sPhCt1/2CfUB9AlzIbILcUgwmO/97ziuiW5wre7thK2x7XatUy2G7dHuM+5r7vmvXDATMN0xuTJmc2O0b3VItq23nPjVOhT7Wjyj/e//PEBIQdIDF0RXRY+G/0fkiT4KCktIDHXNEs4dztXPudAJEMLRZpGz0eoSCVJRUkHSW1IdkclRnpEeUIjQH09iDpJN8Uz/y/8K8MnVyO/HgAaIRUoEBwLAgbhAMD7pfaX8Zvsuef34lre6dmp1aDR0s1FyvzG/cNKwei+2bwfu765trgJuLi3wrcpuOu4B7p9u0m9ar/cwZ7Eqsf+ypTOadJ41rraLN/G44ToX+1R8lP3YPxwAX4Gggt4EFgVHBq+HjgjhCeeK38vJDOHNqQ5dzz8PjJBE0OgRNRFsEYxR1hHJEeWRq5FbUTVQulAqj4cPEI5IDa5MhIvLysXJ80iVx68GQEVKxBCC0wGTgFQ/Fb3afKN7croJeSk303bJtcz03nP/svGyNXFLsPVwMy+F723u6+6/rmnuaq5Brq7usi7LL3kvu/ASsPyxePIGsyTz0nTN9dY26ffH+S56HHtP/Ie9wf89ADgBcQKmQ9ZFP8YhR3kIRcmGSrlLXYxxzTVN5s6Fj1DPx9BqELcQ7pEQEVtRUJFwETlQ7VCMEFYPy89ujr6N/M0qTEhLl4qZiY+IusdcxnaFCkQYwuPBrQB2fwB+DXzee7U6U3l6OCr3JzYwNQc0bPNi8qoxw3FvcK8wAy/rr2lvPK7lruQu+K7i7yJvdu+gcB2wrrESccgyjrNldAs1PrX+tsn4Hzk9OiI7TPy7/a1+38ASQULCsAOYRPpF1IclSCvJJkoUCzNLwwzCjbDODQ7WD0uP7RA50HFQk9Dg0NhQ+lCHUL8QIk/xT2zO1U5rjbDM5YwLC2JKbElqiF5HSQZrxQgEH4LzQYVAlz9pvj681/v2epv5ibiA94N2kjWuNJjz0zMd8noxqLEqcL9wKK/mb7kvYK9dr2+vVq+Sr+MwB7C/8MsxqPIX8tezpvRE9XB2KHcrODf5DTppe0t8sX2afsQALgEWQntDW8S2RYlG00fTSMgJ8AqKS5XMUU08DZVOXE7QT3CPvQ/00BhQZpBgUEUQVRAQz/hPTE8NDruN2E1kDJ/LzMsryj4JBIhAx3PGH0UEhCSCwUHcALZ/UX5uvQ+8Nfriudd41bfeNvK11DUDdEHzkHLv8iDxpHE68KTwYvA079tv1q/mb8pwAvBPcK9w4rFoMf+yaHMhM+l0v7VjdlM3TbhR+V66cjtLPKi9iP7qf8uBK0IIQ2EEc8V/hkLHvEhrCU1KYospi+EMiI1ezeOOVc71DwDPuQ+dD+zP6E/Pz+LPok9ODybOrQ4hDYQNFoxZi43K9EnOiR1IIccdhhGFP4PoQs3B8QCT/7d+XP1F/HP7J/oj+Si4N7cR9ni1bPSvs8HzZLKYch3xtbEgsN6wsHBV8E9wXPB+MHNwu/DXcUWxxbJXcvmza7QstPt1l3a/N3F4bTlxOnw7TLyhfbj+kb/qQMICFsMnhDLFN0YzxybID0ksSfxKvotyDBXM6U1rjdwOeg6FTz2PIk9zT3DPWo9wzzPO486BDkyNxk1vTIhMEktNyrwJngj0x8HHBcYChTkD6oLYwcSA8D+b/ol9unxwO2v6brl6OE93r7abtdT1HDRyM5gzDrKWMi+xm3FZ8Sswz/DH8NMw8fDjsShxf7Go8iOyr3MLc/a0cLU4Ncx27DeWeIm5hTqHu498m32qPrq/isDaAecC78PzhPDF5kbSx/VIjEmXSlTLBEvkjHTM9I1jTcAOSo6CzugO+k75TuWO/s6FDrkOGw3rjWsM2gx5i4oLDMpCiaxIi0fgRu0F8kTxQ+uC4kHWwMq//r60va28qvuuOrg5injl98v3PXY7tUd04XQKs4PzDbKo8hWx1HGlsUlxQDFJcWWxVDGVMegyDLKCMwgznfQCtPW1dfYCdxp3/HinuZq6lHuTvJb9nT6lP6zAs8G4grmDtcSrxZpGgEeciG4JM4nsipeLdAvBTL6M601GjdCOCI5uDkGOgk6wjkyOVo4OjfTNSk0PDIQMKctBSssKCEl5yGCHvcaSxeCE6APqwupB50Djv+A+3j3fPOR77vr/+dj5Ovgm9132oTXxNQ90vDP4M0RzITKO8k5yH3HCsffxv3GY8cSyAfJQsrCy4PNhc/D0T3U7dbR2eXcJuCO4xrnxOqJ7mTyT/ZG+kP+QQI8Bi8KFA7mEaAVPxm8HBUgQyNFJhUpsCsULjwwJjLQMzg1XDY7N9M3JDguOPA3ajefNo41OTSiMsswti5mLN4pISczJBgh0x1oGt0WNRN2D6MLwwfZA+z///sY+Dz0cPC37BnpmOU54gHf89sU2WfW8NOx0a3P581izB7LHspjye3IvcjUyDHJ08m7yubLU80Az+zQEtNy1QfYz9rF3efgL+Sa5yTrx+6A8kn2Hvr5/dUBrwWCCUcN+xCYFBoYfhu9HtUhwSR9JwcqWyx2LlYw+DFZM3k0VzXwNUQ2UzYdNqM15DTiM54yGjFYL1otIiu1KBMmQiNFIB8d1RlqFuQSRg+WC9cHEAREAHn8svj29Ejxru0s6sbmgeNh4GrdoNoF2J7VbtN20brPPM7+zADMRcvOyprKqsr+ypXLb8yKzeXOf9BV0mTUqtYl2dHbqt6s4dXkIOiJ6wvvofJI9vv5tf1wASkF2wiBDBYQlhP8FkUaax1sIEIj6yVjKKgqtSyKLiIwfjGaMnUzDjRmNHo0TDTbMykzNTICMZEv4y37K9wpiCcCJU4ibh9nHD0Z8xWNEhEPgwvmB0AElgDs/Eb5qvUb8p/uOevv58TkvOHc3ibcntlI1ybVO9OJ0RPQ2s7gzSbNrcx1zH/MysxWzSPOL8950P/Rv9O41eXXRtrV3JHfduKA5avo8utT78jyTvbe+Xb9EAGoBDoIwAs3D5oS5BUSGR8cCB/JIV4kxCb5KPkqwSxRLqUvvDCWMS8yiTKjMnwyFTJuMYgwZS8GLmwsmyqTKFgm7SNVIZMeqxugGHYVMhLXDmoL7wdrBOIAWf3U+Vf26PKJ70HsEukB5hLjSOCn3TLb7dja1vzUVdPn0bTQvc8Ez4rOT85SzpbOF8/Yz9XQDtKB0yzVDtcj2Wnb3t194ETjL+Y66WHsoe/18lj2yPk+/bYALgSfBwYLXg6kEdIU5RfZGqodVSDWIiolTidAKf0qgyzQLeIuuS9SMK4wzDCsME4wsy/bLscteiz0KjgpSCcmJdYiWSC0Heoa/hf0FNERlw5LC/IHkAQoAcD9XPr/9q7zbvBC7S/qOOdh5K7hI9/B3I3aiti41hzVt9OK0pjR4NBl0CfQJdBg0NjQjNF70qPTBNWb1mbYZNqQ3OrebeEW5OLmzunV7PTvJvNp9rb5C/1iALkDCwdSCowNtBDGE74WmBlRHOYeUyGUI6gljCc9Kbkq/isLLd8teC7VLvcu3i6ILvgtLS0pLO0qeinTJ/ol8SO6IVof0RwlGlgXbhRrEVIOKAvwB68EaAEi/t36oPdu9EzxPe5G62noq+UQ45ngS94p3DXacdjg1oPVXdRv07rSPtL90ffRK9KZ0kHTItQ61YjWC9jB2afbut3532Di7OSa52bqTe1M8F3zfvar+d/8FQBLA3wGpAm/DMoPvxKcFV0Y/hp9HdUfBCIHJNwlgSfyKDAqNysHLJ8s/iwkLRAtwyw9LH8riSpeKf8nbSaqJLkinCBXHusbXBmuFuMTABEIDv4K6AfIBKIBff5Z+zv4KfUk8jPvV+yV6fDma+QK4tDfwN3b2yXaoNhM1y3WRNWR1BbU0tPH0/TTWdT21MnV0dYO2H3ZHdvs3OfeC+FW48blVugD68vtqfCa85r2pfm4/M7/4gLzBfwI+QvmDr8RgRQoF7EZGRxcHnggayIxJMglMCdlKGYpMirJKikrUitEK/4qgirRKeoozyeCJgQlVyN+IXsfUB0BG48Y/xVUE5AQuA3QCtoH2wTXAdL+zvvR+N319/Ii8GLtuuou6MHlduNQ4VLffd3V21vaEtn61xbXZtbr1aXVltW81RnWqtZw12rYldnx2nzcNN4W4CHiUeSj5hbppetN7gvx2/O79qX5lvyM/4ACcQVbCDkLCA7FEGsT+BVpGLoa6BzyHtMgiiIUJHElnSaYJ2Ao9ShVKYEpeCk6KcgoIihJJz4mAyWaIwMiQSBXHkYcExq+F0wVvxIcEGQNnArHB+kEBgIh/z78YPmL9sPzC/Fn7trrZ+kS593ky+Lf4Brfgd0T3NTaxNnl2DjYvdd312PXhNfY11/YGNkD2h3bZ9zd3X7fSeE640/lhefa6Uvs1O5y8SL04faq+Xv8UP8jAvUEvwd+CjAN0A9bEs8UJxdhGXobcB1AH+cgZCK2I9kkzSWRJiMnhCeyJ64ndycOJ3MmqCWtJIQjLSKsIAEfMB05GyEZ6RaVFCcSog8KDWMKrwfxBC8Ca/+o/On5M/eJ9O/xZu/07JvqXeg+5kHkZ+Kz4Cjfx92S3IrbsdoH2o7ZRtkw2UrZltkT2sDanNun3N7dQN/L4H7iVeRQ5mroo+r17F/v3vFu9Az3tfll/Bn/zQF+BCkHygleDOEOURGrE+oVDRgRGvMbsR1JH7kg/iEYIwUkxCRUJbUl5SXlJbUlVCXFJAckGyMDIr8gUx+/HQYcKRosGBAW2ROJESQPrAwkCpEH9ARSAq//C/1s+tX3SvXM8mDwCO7I66Ppmuex5erjR+LL4HffTN5M3Xnc1Ntd2xTb+toQ21TbyNtp3DfdMd5W36TgGuK143TlVedU6W/rpO3w70/yv/Q998b5Vfzp/nwBDQSZBhwJkgv5DU0QjBKzFL8WrRh7Gigcrx0RH0sgWyFBIvsiiCPnIxkkHSTzI5sjFiNlIoghgCBQH/gdehzZGhUZMxczFRkT5xChDkgM4QltB/EEbwLs/2n96vpy+AT2pPNU8Rfv8ezj6vHoHedp5dfjauIi4QPgDN8/3p7dKd3g3MTc1NwS3XzdEd7S3r3f0OAL4mvj8OSW5l3oQOo/7FfuhPDF8hb1c/fc+Uv8vv4xAaMDDwZzCMwKFg1PD3QRgRN2FU4XCRmjGhocbh2bHqIfgCA0Ib0hHCJPIlciMiLiIWghwyD0H/0e3x2bHDMbqRn/FzYWUhRVEkEQGQ7gC5gJRQfpBIcCIwDB/WH7CPm49nX0QfIg8BPuHuxC6oPo4uZi5QTkyuK14cjgAuBl3/Leqt6L3pjezt4v37rfbeBJ4Uvic+O/5C3mu+do6THrFO0O7x7xQPNx9a/39/lG/Jn+7AA+A4sF0QcMCjkMVg5hEFUSMhT1FZsXIxmKGs8b8BzsHcIecB/2H1MghyCRIHIgKiC5HyAfXx54HWwcPBvqGXcY5RY3FW4TjRGXD40NcgtKCRcH2wSZAlYAE/7T+5j5Z/dB9SnzI/Ew71Ptjuvk6Vfo6Oaa5W3kZOOA4sLhKuG64HLgUeBa4Irg4+Bj4Qni1uLI493kFOZs5+Poduol7Oztyu+88b/z0fXv9xj6Rvx5/qwA3wINBTQHUQliC2QNUw8vEfQSoRQyFqcX/hg0GkgbOhwHHa8dMR6MHsEezh60HnMeCx59Hcoc8xv4GtsZnhhCF8gVNBSGEsEQ6A78DAAL9wjjBscEpgKCAF/+Pvwj+g/4B/YL9CDyR/CD7tXsQOvH6WroK+cN5hDlNeR+4+zif+I34hbiG+JF4pbiDOOm42TkReVI5mznrugN6ojrHO3I7orwXvJD9Db2Nfg++k38YP5zAIYClQSeBp0IkQp3DEwODhC8EVITzxQxFnYXnRilGYsaUBvxG24cyBz8HAwd9hy8HF0c2hs0G2waghl4GFAXChapFC0TmhHxDzQOZgyJCp8IqwauBK0CqQCm/qT8p/qy+Mf26PQY81jxre8W7pfsMevm6bjoqOe35uflOOWr5EHk++PZ49rj/+NI5LTkQ+Xz5cTmtefF6PLpOuud7BfuqO9N8QTzzPSg9oD4afpY/Ev+PwAzAiMEDQbvB8YJkAtKDfMOiBAIEnATvxT0FQsXBRjgGJwZNhqvGgUbORtLGzkbBhuvGjcanhnkGAsYFBcAFtAUhhMkEqsQHQ99DcwLDQpCCG0GkASvAsoA5/4E/Sb7T/mB9771CfRk8tHwUu/p7ZfsX+tB6j/pWuiU5+7mZ+YB5r3lmuWY5bnl+uVd5uDmg+dF6CTpIeo462rste0W74zwFfKv81n1D/fQ+Jr6afw9/hEA5QG2A4IFRgcACa4KTgzdDVsPxBAXElMTdRR9FWoWORfrF34Y8hhFGXkZjBl+GVAZAhmUGAcYXBeTFq4VrRSTE2ASFxG4D0UOwQwuC40J4AcqBm0EqwLmACL/Xv2f++X5NfiP9vX0a/Pw8YnwNe/47dLsxevS6vrpP+mh6CDov+d851nnVedx56znBeh96BPpxumU6n7rgeyd7c/uF/Bz8eHyX/Tr9YP3JfnP+oD8NP7p/50BUAP9BKMGQQjTCVgLzQwyDoUPwxDrEfwS9BPSFJYVPhbJFjcXiBe6F84XxBebF1UX8RZwFtIVGhVGFFkTVBI4EQcQwQ5qDQIMiwoICXkH4gVEBKEC/ABX/7L9Evx3+uP4Wvfc9Wv0CvO68X3wVO9B7kTtYOyW6+XqUOrX6XrpOukX6RHpKOld6a7pG+qk6kjrBuzd7Mzt0u7t7xzxXvKx8xL1gfb793/5Cvuc/DD+x/9bAe8CfgQHBocH/QhnCsMLDw1LDnMPiBCHEW8SPxP3E5QUGBWAFc0V/RUSFgsW5xWoFU4V2BRIFJ8T3RIDEhMRDRD0DsgNiww+C+QJfggOB5UFFgSSAgwBhv8B/n/8AvuM+R/4vPZm9R705vK/8avwqu+/7uvtLe2I7Pzriusy6/Xq0urL6t7qDetW67nrNezL7HntPu4Z7wrwDvEl8k3zhPTK9Rz3ePje+Uv7vfwy/qn/HwGUAgUEbwXTBi0IfAm+CvILFg0pDioPFhDuELARWxLuEmkTyxMUFEMUWBRTFDUU/BOrE0ATvRIjEnIRqxDPD98O3Q3KDKgLdgo5CfAHnQZDBeMDfgIXAbH/Sv7m/If7Lvre+Jf3W/Yt9Qz0/PL88Q/xNvBx78HuKO6l7Trt6Oyt7Izsg+yT7Lzs/exX7cftT+7t7qHvaPBE8THyMPM/9Fz1hfa79/r4QvqQ++P8Of6S/+gAPgKRA94EJQZiB5YIvwnaCucL5AzQDasOcg8lEMMQTBG+ERoSXhKKEqASnRKDElESCBKoETIRphAFEFEPiQ6vDcQMygvBCqsJiQhdBygG7ASqA2UCHQHV/43+SP0H/Mv6l/ls+Ev3NvYu9TT0SfNw8qjx8vBR8MPvS+/o7pvuZO5E7jruR+5r7qXu9O5a79TvY/AF8brxgPJY8z/0NPU39kX3XviA+ar62vsP/Ub+f/+3AO8BIwNTBHwFnga3B8UIxwm9CqQLfAxEDfoNng4vD60PFhBrEKoQ1BDpEOgQ0hCmEGUQDxCmDygPmA71DUENfAyoC8YK1wnbCNUHxQauBZAEbQNGAh0B9P/L/qT9gfxj+0v6O/k1+Dn3SfZm9ZH0y/MV83Dy3PFb8e3wkvBL8Bjw+e/v7/rvGPBL8JLw7PBa8dnxa/IN87/zgfRQ9S32FvcJ+Ab5C/oY+yn8QP1Y/nP/jAClAbsCzQPZBN8F3QbRB7oImAlqCi0L4guHDBwNnw0RDnEOvw75DiAPNA81DyIP/A7CDncOGQ6pDSgNlwz3C0cLiQq/CekICAgdByoGLwUvBCoDIgIXAQwAA//6/fX89Pv5+gX6Gvk3+GD3k/bU9SH1fvTp82Tz7/KL8jny+PHJ8a3xo/Gr8cXx8vEw8oDy4PJR89LzYvQA9az1ZfYp9/j30fiy+Zv6ivt+/HX9cP5r/2YAYQFZAk0DPAQmBQgG4gazB3kINAnjCYQKGAudCxMMegzQDBYNSw1vDYENgw1zDVINIA3eDIwMKQy4CzgLqgoPCmgJtQj4BzAHYQaKBawEyQPiAvgBDAEgADX/S/5j/YD8ofvJ+vj5MPlx+Lv3Efdz9uL1XfXn9H/0JvTc86PzePNf81XzW/Nx85jzzvMT9Gf0yvQ79bn1RPba9nz3Kfje+J35Yvov+wH81/yx/Y3+av9GACIB/AHTAqUDcgQ5BfkFsQZfBwMInQgrCa4JIwqLCuYKMgtwC58LvwvQC9ILxQupC34LRQv+CqkKRgrXCVwJ1QhDCKgHAwdWBqEF5QQkBF8DlgLKAfwALgBi/5b+zP0G/UT8iPvS+iP6fPne+Er4wPdB9872ZvYL9r71ffVK9SX1DvUF9Qr1HPU99Wv1p/Xv9UT2pfYS94n3C/iX+Cv5yPls+hf7x/t8/DX98f2v/m3/KwDpAKUBXgIUA8UDcAQWBbQFSgbYBl0H2AdICK0IBwlVCZcJzQn2CRIKIQojChkKAQrdCawJcAknCdMIdQgLCJgHHAeXBgsGdwXdBD0EmAPwAkQClgHnADcAif/b/i/+hv3h/ED8pfsQ+4L6/Pl9+Qj5nPg5+OH3lPdR9xr37/bP9rv2s/a39sb24vYI9zr3d/e/9xH4bPjR+D75tPkx+rX6QPvP+2T8/PyY/Tb+1v52/xYAtQBTAe8BiAIdA60DOAS9BDsFsgUhBogG5wY8B4cHyQcACC0IUAhnCHQIdghtCFoIPAgUCOEHpQdfBxEHuQZaBvIFhAUPBZUEFQSQAwcDfALtAV0BzAA7AKr/Gv+M/gH+eP3z/HP8+PuD+xT7rPpL+vL5oflY+Rj54vi1+JH4d/hm+F/4Yvhv+Ib4pfjO+AD5O/l9+cj5G/p0+tT6Ovum+xf8jPwF/YH9AP6A/gL/hP8GAIcACAGGAQICegLvAl8DywMxBJEE6wQ+BYoFzwULBkAGbQaRBqwGvwbJBssGxAa0BpwGewZTBiIG6gWrBWUFGQXGBG4EEQSvA0kD3wJyAgMCkgEfAawAOQDH/1X/5P52/gr+of08/dv8f/wn/NX7iftD+wT7y/qZ+m/6S/ow+hv6D/oK+g36F/op+kL6YvqJ+rf67Pom+2b7rPv3+0f8mvzy/E39qv0K/mz+z/40/5j//P9fAMIAIgGBAd0BNwKMAt4CLAN1A7kD+AMyBGYEkwS7BNwE9wQMBRkFIAUhBRsFDwX8BOMExASfBHQERAQPBNUDlwNVAw8DxQJ5AioC2QGGATIB3QCHADEA3f+J/zb/5f6W/kn+//24/XX9Nf36/ML8kPxi/Dn8Fvz4+9/7y/u++7X7s/u1+777y/ve+/b7E/w1/Fv8hvy0/Of8Hf1W/ZL90P0R/lT+mP7d/iT/av+x//f/PACBAMQABgFGAYQBvwH3AS0CXwKNArgC3gIBAyADOgNQA2EDbgN2A3oDeQN0A2oDXANLAzUDGwP9AtwCuAKQAmYCOQIKAtgBpQFxATsBBAHMAJUAXQAlAO//uP+D/07/HP/r/rz+j/5l/j7+Gf73/dj9vP2k/Y/9ff1v/WT9Xf1Z/Vn9XP1j/W39ev2K/Z39s/3L/eb9BP4j/kX+aP6M/rL+2v4B/yr/U/98/6b/z//4/x8ARgBsAJEAtQDXAPcAFgEzAU0BZgF8AZABoQGwAbwBxgHOAdMB1QHVAdMBzgHHAb4BswGlAZYBhQFyAV4BSQEyARoBAgHoAM4AtACZAH4AYwBIAC0AEwD7/+L/yv+z/53/iP90/2H/UP9B/zP/Jv8b/xL/Cv8D///++/76/vr++/7+/gL/B/8N/xX/Hv8n/zL/Pf9J/1X/Yv9v/33/iv+Y/6b/s//B/87/2v/m//L//f8HABAAGQAhACkALwA1ADoAPgBBAEMARQBFAEUARABDAEEAPgA7ADcAMwAvACoAJQAgABsAFgARAAwACAADAAAAAAAAAAAAAAAAAAAAAAAAAAAAAAAAAAAAAAAAAAAAAAAAAAAAAAAAAAAAAAAAAAAAAAAAAAAAAAAAAAAAAAAAAAAAAAAAAAAAAAAAAAAAAAAAAAAAAAAAAAAAAAAAAAAAAAAAAAAAAAAAAAAAAAAAAAAAAAAAAAAAAAAAAAAAAAAAAAAAAAAAAAAAAAAAAAAAAAAAAAAAAAAAAAAAAAAAAAAAAAAAAAAAAAAAAAAAAAAAAAAAAAAAAAAAAAAAAAAAAAAAAAAAAAAAAAAAAAAAAAAAAAAAAAAAAAAAAAAAAAAAAAAAAAAAAAAAAAAAAAAAAAAAAAAAAAAAAAAAAAAAAAAAAAAAAAAAAAAAAAAAAAAAAAAAAAAAAAAAAAAAAAAAAAAAAAAAAAAAAAAAAAAAAAAAAAAAAAAAAAAAAAAAAAAAAAAAAAAAAAAAAAAAAAAAAAAAAAAAAAAAAAAAAAAAAAAAAAAAAAAAAAAAAAAAAAAAAAAAAAAAAAAAAAAAAAAAAAAAAAAAAAAAAAAAAAAAAAAAAAAAAAAAAAAAAAAAAAAAAAAAAAAAAAAAAAAAAAAAAAAAAAAAAAAAAAAAAAAAAAAAAAAAAAAAAAAAAAAAAAAAAAAAAAAAAAAAAAAAAAAAAAAAAAAAAAAAAAAAAAAAAAAAAAAAAAAAAAAAAAAAAAAAAAAAAAAAAAAAAAAAAAAAAAAAAAAAAAAAAAAAAAAAAAAAAAAAAAAAAAAAAAAAAAAAAAAAAAAAAAAAAAAAAAAAAAAAAAAAAAAAAAAAAAAAAAAAAAAAAAAAAAAAAAAAAAAAAAAAAAAAAAAAAAAAAAAAAAAAAAAAAAAAAAAAAAAAAAAAAAAAAAAAAAAAAAAAAAAAAAAAAAAAAAAAAAAAAAAAAAAAAAAAAAAAAAAAAAAAAAAAAAAAAAAAAAAAAAAAAAAAAAAAAAAAAAAAAAAAAAAAAAAAAAAAAAAAAAAAAAAAAAAAAAAAAAAAAAAAAAAAAAAAAAAAAAAAAAAAAAAAAAAAAAAAAAAAAAAAAAAAAAAAAAAAAAAAAAAAAAAAAAAAAAAAAAAAAAAAAAAAAAAAAAAAAAAAAAAAAAAAAAAAAAAAAAAAAAAAAAAAAAAAAAAAAAAAAAAAAAAAAAAAAAAAAAAAAAAAAAAAAAAAAAAAAAAAAAAAAAAAAAAAAAAAAAAAAAAAAAAAAAAAAAAAAAAAAAAAAAAAAAAAAAAAAAAAAAAAAAAAAAAAAAAAAAAAAAAAAAAAAAAAAAAAAAAAAAAAAAAAAAAAAAAAAAAAAAAAAAAAAAAAAAAAAAAAAAAAAAAAAAAAAAAAAAAAAAAAAAAAAAAAAAAAAAAAAAAAAAAAAAAAAAAAAAAAAAAAAAAAAAAAAAAAAAAAAAAAAAAAAAAAAAAAAAAAAAAAAAAAAAAAAAAAAAAAAAAAAAAAAAAAAAAAAAAAAAAAAAAAAAAAAAAAAAAAAAAAAAAAAAAAAAAAAAAAAAAAAAAAAAAAAAAAAAAAAAAAAAAAAAAAAAAAAAAAAAAAAAAAAAAAAAAAAAAAAAAAAAAAAAAAAAAAAAAAAAAAAAAAAAAAAAAAAAAAAAAAAAAAAAAAAAAAAAAAAAAAAAAAAAAAAAAAAAAAAAAAAAAAAAAAAAAAAAAAAAAAAAAAAAAAAAAAAAAAAAAAAAAAAAAAAAAAAAAAAAAAAAAAAAAAAAAAAAAAAAAAAAAAAAAAAAAAAAAAAAAAAAAAAAAAAAAAAAAAAAAAAAAAAAAAAAAAAAAAAAAAAAAAAAAAAAAAAAAAAAAAAAAAAAAAAAAAAAAAAAAAAAAAAAAAAAAAAAAAAAAAAAAAAAAAAAAAAAAAAAAAAAAAAAAAAAAAAAAAAAAAAAAAAAAAAAAAAAAAAAAAAAAAAAAAAAAAAAAAAAAAAAAAAAAAAAAAAAAAAAAAAAAAAAAAAAAAAAAAAAAAAAAAAAAAAAAAAAAAAAAAAAAAAAAAAAAAAAAAAAAAAAAAAAAAAAAAAAAAAAAAAAAAAAAAAAAAAAAAAAAAAAAAAAAAAAAAAAAAAAAAAAAAAAAAAAAAAAAAAAAAAAAAAAAAAAAAAAAAAAAAAAAAAAAAAAAAAAAAAAAAAAAAAAAAAAAAAAAAAAAAAAAAAAAAAAAAAAAAAAAAAAAAAAAAAAAAAAAAAAAAAAAAAAAAAAAAAAAAAAAAAAAAAAAAAAAAAAAAAAAAAAAAAAAAAAAAAAAAAAAAAAAAAAAAAAAAAAAAAAAAAAAAAAAAAAAAAAAAAAAAAAAAAAAAAAAAAAAAAAAAAAAAAAAAAAAAAAAAAAAAAAAAAAAAAAAAAAAAAAAAAAAAAAAAAAAAAAAAAAAAAAAAAAAAAAAAAAAAAAAAAAAAAAAAAAAAAAAAAAAAAAAAAAAAAAAAAAAAAAAAAAAAAAAAAAAAAAAAAAAAAAAAAAAAAAAAAAAAAAAAAAAAAAAAAAAAAAAAAAAAAAAAAAAAAAAAAAAAAAAAAAAAAAAAAAAAAAAAAAAAAAAAAAAAAAAAAAAAAAAAAAAAAAAAAAAAAAAAAAAAAAAAAAAAAAAAAAAAAAAAAAAAAAAAAAAAAAAAAAAAAAAAAAAAAAAAAAAAAAAAAAAAAAAAAAAAAAAAAAAAAAAAAAAAAAAAAAAAAAAAAAAAAAAAAAAAAAAAAAAAAAAAAAAAAAAAAAAAAAAAAAAAAAAAAAAAAAAAAAAAAAAAAAAAAAAAAAAAAAAAAAAAAAAAAAAAAAAAAAAAAAAAAAAAAAAAAAAAAAAAAAAAAAAAAAAAAAAAAAAAAAAAAAAAAAAAAAAAAAAAAAAAAAAAAAAAAAAAAAAAAAAAAAAAAAAAAAAAAAAAAAAAAAAAAAAAAAAAAAAAAAAAAAAAAAAAAAAAAAAAAAAAAAAAAAAAAAAAAAAAAAAAAAAAAAAAAAAAAAAAAAAAAAAAAAAAAAAAAAAAAAAAAAAAAAAAAAAAAAAAAAAAAAAAAAAAAAAAAAAAAAAAAAAAAAAAAAAAAAAAAAAAAAAAAAAAAAAAAAAAAAAAAAAAAAAAAAAAAAAAAAAAAAAAAAAAAAAAAAAAAAAAAAAAAAAAAAAAAAAAAAAAAAAAAAAAAAAAAAAAAAAAAAAAAAAAAAAAAAAAAAAAAAAAAAAAAAAAAAAAAAAAAAAAAAAAAAAAAAAAAAAAAAAAAAAAAAAAAAAAAAAAAAAAAAAAAAAAAAAAAAAAAAAAAAAAAAAAAAAAAAAAAAAAAAAAAAAAAAAAAAAAAAAAAAAAAAAAAAAAAAAAAAAAAAAAAAAAAAAAAAAAAAAAAAAAAAAAAAAAAAAAAAAAAAAAAAAAAAAAAAAAAAAAAAAAAAAAAAAAAAAAAAAAAAAAAAAAAAAAAAAAAAAAAAAAAAAAAAAAAAAAAAAAAAAAAAAAAAAAAAAAAAAAAAAAAAAAAAAAAAAAAAAAAAAAAAAAAAAAAAAAAAAAAAAAAAAAAAAAAAAAAAAAAAAAAAAAAAAAAAAAAAAAAAAAAAAAAAAAAAAAAAAAAAAAAAAAAAAAAAAAAAAAAAAAAAAAAAAAAAAAAAAAAAAAAAAAAAAAAAAAAAAAAAAAAAAAAAAAAAAAAAAAAAAAAAAAAAAAAAAAAAAAAAAAAAAAAAAAAAAAAAAAAAAAAAAAAAAAAAAAAAAAAAAAAAAAAAAAAAAAAAAAAAAAAAAAAAAAAAAAAAAAAAAAAAAAAAAAAAAAAAAAAAAAAAAAAAAAAAAAAAAAAAAAAAAAAAAAAAAAAAAAAAAAAAAAAAAAAAAAAAAAAAAAAAAAAAAAAAAAAAAAAAAAAAAAAAAAAAAAAAAAAAAAAAAAAAAAAAAAAAAAAAAAAAAAAAAAAAAAAAAAAAAAAAAAAAAAAAAAAAAAAAAAAAAAAAAAAAAAAAAAAAAAAAAAAAAAAAAAAAAAAAAAAAAAAAAAAAAAAAAAAAAAAAAAAAAAAAAAAAAAAAAAAAAAAAAAAAAAAAAAAAAAAAAAAAAAAAAAAAAAAAAAAAAAAAAAAAAAAAAAAAAAAAAAAAAAAAAAAAAAAAAAAAAAAAAAAAAAAAAAAAAAAAAAAAAAAAAAAAAAAAAAAAAAAAAAAAAAAAAAAAAAAAAAAAAAAAAAAAAAAAAAAAAAAAAAAAAAAAAAAAAAAAAAAAAAAAAAAAAAAAAAAAAAAAAAAAAAAAAAAAAAAAAAAAAAAAAAAAAAAAAAAAAAAAAAAAAAAAAAAAAAAAAAAAAAAAAAAAAAAAAAAAAAAAAAAAAAAAAAAAAAAAAAAAAAAAAAAAAAAAAAAAAAAAAAAAAAAAAAAAAAAAAAAAAAAAAAAAAAAAAAAAAAAAAAAAAAAAAAAAAAAAAAAAAAAAAAAAAAAAAAAAAAAAAAAAAAAAAAAAAAAAAAAAAAAAAAAAAAAAAAAAAAAAAAAAAAAAAAAAAAAAAAAAAAAAAAAAAAAAAAAAAAAAAAAAAAAAAAAAAAAAAAAAAAAAAAAAAAAAAAAAAAAAAAAAAAAAAAAAAAAAAAAAAAAAAAAAAAAAAAAAAAAAAAAAAAAAAAAAAAAAAAAAAAAAAAAAAAAAAAAAAAAAAAAAAAAAAAAAAAAAAAAAAAAAAAAAAAAAAAAAAAAAAAAAAAAAAAAAAAAAAAAAAAAAAAAAAAAAAAAAAAAAAAAAAAAAAAAAAAAAAAAAAAAAAAAAAAAAAAAAAAAAAAAAAAAAAAAAAAAAAAAAAAAAAAAAAAAAAAAAAAAAAAAAAAAAAAAAAAAAAAAAAAAAAAAAAAAAAAAAAAAAAAAAAAAAAAAAAAAAAAAAAAAAAAAAAAAAAAAAAAAAAAAAAAAAAAAAAAAAAAAAAAAAAAAAAAAAAAAAAAAAAAAAAAAAAAAAAAAAAAAAAAAAAAAAAAAAAAAAAqB04OZxVvHGAjNCrnMHI30T3+Q/RJr08qVWFaT1/xY0JoQGznbzRzJXa3eOh6tnwhfiZ/xn//f9F/PX9CfuN8H3v5eHF2i3NIcKtst2hvZNdf8VrDVVBQnUquRIg+MDirMf4qLyRDHUAWKg8JCOEAuvmX8n7rduSF3a/W+s9syQnD2Lzdthyxm6tdpmehvpxjmFyUrJBVjVmKvIeAhaaDL4IegXKALYBOgNWAw4EVg8yE5oZhiTqMcY8Ck+qWJpu0n46ksqkbr8S0qrrIwBjHls081AXb6+Hq6PvvGfc+/mMFhQydE6UalyFuKCUvtjUcPFJCUkgZTqBT5VjiXZRi9mYGa8BuInIodc93F3r9e399nX5Vf6d/kn8Xfzd+8XxHezp5zHb/c9RwUG1zaUJlwGDxW9hWeVHZS/xF5z+fOSkziSzHJeYe7BffEMUJowKA+1/0SO1A5k3fdNi70SjLvsSEvn+4s7Imrdqn1qIcnrGZmJXUkWmOWYumiFOGYoTUgqqB5oCIgI+A/YDRgQqDqISohgmJyovojmGSMZZWms2ekqOgqPWtjLNfuWy/rMUazLPSb9lL4D/nSO5e9X38ngO9CtMR2xjPH6kmZC36M2c6pUCvRoBMFFJmV3JcM2GnZclplm0LcSZ043ZBeT5713wNft5+SX9Nf+x+JX75fGh7dXkgd2x0WnHubSlqD2akYepc5lebUg9NREdAQQk7oTQQLlonhCCVGZESfgtiBEP9JvYR7wroFeE62n3T5Mx0xjLAI7pNtLOuWqlHpH6fApvXlgGTgo9djJWJLIckhX6DPYJggemA14AsgeaBBoOJhHCGuIhgi2WOxpF+lYyZ7J2bopWn1axYshq4Fb5ExKTKLtHe167emOWY7KfzwPrcAfcICxASFwce4ySiKz4ysTj3PgpF5kqGUOVV/1rQX1RkiGhobPBvH3PydWZ4eXorfHh9YX7lfgN/u34Nfvp8g3upeW5303TacYZu2WrWZoJi3l3vWLhTP06HSJVCbjwWNpMv6SgfIjobPxQ0DR4GBf/r99jw0und4v/bP9WgzirI4MHJu+i1QrDdqrul46BWnBqYMZSfkGWNiIoJiOuFLoTUgt+BT4ElgWCBAYIHg3GEP4ZuiPyK6Y0xkdKUyJgSnauhj6a7qyux2bbDvOLCMsmuz1DWFN304+vq8vEE+RsAMwdFDksVQBwfI+EpgTD7Nkg9ZENKSfZOYVSJWWpe/mJDZzVr0W4Vcvx0hneweXh73nzffXt+sn6Dfu999nyYe9h5tXczdVNyF2+Ca5dnWWPLXvJZ0FRqT8VJ5UPOPYU3ETF1Krcj3BzrFecO2AfDAK/5nvKY66PkxN0A113Q4cmQw2+9hLfTsWGsMqdLoq6dYZlllcCRco6Ai+yItobjhHKDZIK8gXmBm4Ejgg+DYIQUhimIn4pzjaOQK5QLmD2cwKCPpaaqArCetXa7hMHExzLOx9R/21TiQelA8Ev3Xv5xBYAMhRN6GlohHyjELkQ1mDu9Qa1HY03cUhFYAF2lYftl/2mubQVxAnShduJ4wXo+fFd9DH5bfkV+yn3rfKd7/3n2d411xnKibyVsUmgqZLNf71riVZBQ/UovRSk/8DiKMvwrSiV7HpMXmBCQCYACcPti9F7taOaI38HYGtKYy0DFF78iuWaz6K2sqLWjCZ+rmp2W5ZKEj32M04mHh52FFITvgi6C0oHcgUqCHYNVhO+F7IdIigONG5CLk1OXb5vbn5WkmKnfrmi0LrorwFzGusxC0+7ZuOCb55HulfWi/LADvArAEbUYlh9eJgctjDPoORVADkbPS1RRl1aUW0hgr2TFaIds8m8Dc7h1DngEeph7yXyWff99An6gfdl8r3shejF44XUycydwwmwGafZklWDmW+5WsFExTHRGf0BXOgA0fy3aJhUgNxlFEkULOwQv/ST2Iu8t6EvhgtrX01DN8cbAwMK6+7RxryeqI6VnoPib2ZcOlJmQfo2/il2IXIa8hH+DpoIygiKCeIIyg1CE0YW0h/iJmoyZj/KSopanmv2eoaOOqMKtOLPruNe++MRHy8HRYNgf3/jl5ezi8+n68gH7CP0P8RbTHZ4kSivUMTY4az5uRDpKyk8aVSZa6V5gY4hnXGvabgByynQ2d0J57no2fBt9nH24fW99wnyxezx6ZXgudphzpnBZbbRpu2VwYddc9FfKUl5NtEfRQbg7cDX+LmUorCHZGvAT9wzzBez+5ffl8PDpDuNC3JTVCM+iyGrCY7yStvywpquTpsihSZ0YmTuVs5GEjq+LOIkgh2qFFYQkg5eCb4KrgkyDUYS5hYOHrok3jB2PXpL3leWZJJ6yoounq6wNsq63ib2Zw9nJRdDX1ondWOQ86zLyMvk2ADsHOw4vFREc3SKOKRwwhDbBPMxCokg+TppTtFiGXQ5iR2Ytar9t+HDXc1l2e3g+ep57m3w0fWl9OX2kfKx7UXqTeHV2+HMeceltXGp6ZkZiw131WN9Th07vSB1DFT3dNngw7SlAI3cclxWmDqkHpgCk+abysuvP5ALeUdfA0FXKFcQFviq4ibImrQaoLKOdnluabJbRko6PpIwYiuqHHIawhKiDAoPBguWCbYNYhKeFWIdqidqLqI7RkVKVKZlSncqhjaaYq+ewdrY/vD7Cb8jMzlHV+Nu84pfphPB9933+fgV6DG0TUBoeIdEnZC7SNBU7KUEJR7BMGVJAVyFcuGACZfpon2zsb99ydnWvd4h5AHsVfMZ8E338fIF8ontgert4tnZSdJBxc27+ajNnFmOoXvBZ71SpTyVKZERtPkQ47jFwK88kER47F1IQXAlfAmH7ZfRz7ZDmwt8N2XjSB8zBxai/xLkYtKmue6mTpPSfopugl/OTnJCejfyKuIjUhlGFMIRzgxqDJIOTg2aEm4UzhyyJhIs5jkqRs5RzmIWc56CVpYyqx69Dtfq66cAKx1jN0NNq2iPh9efZ7sz1xvzCA7wKrRGQGF8fFSasLB8zaTmFP29FIEuVUMlVuVpgX7pjxGd7a9xu43GQdN52znhdeol7Uny4fLp8V3yRe2h63XjwdqV0/HH3bppr5mffY4hf5Vr4VcdQVUunRcA/pzlgM+8sWyaoH9sY+xEMCxUEG/0j9jPvUOiB4craMNS7zW3HTcFfu6m1LrDzqvylTqHrnNmYGZWukZyO5ouMiZGH94W/hOqDeINqg8CDeYSWhRWH9Yg0i9GNyZAblMOXvpsKoKOkhamsrhW0urmYv6nF6ctT0uHYjt9W5jLtHfQR+wgC/wjuD9AWoB1YJPMqbDG9N+A900OOSQ9PUFROWQRebmKKZlNqx23jcKRzCXYOeLR5+HrZe1d8cXwofHp7anr4eCV38nRhcnVvL2yTaKNkYmDUW/xW31GATORGD0EFO800ai7jJzsheRqhE7oMyQXU/t/38fAP6j/jhdzp1W7PGsnywvy8O7e0sW2saKerojieFJpClsWSn4/TjGSKU4iihlOFZoTcg7WD84OThJeF/YbEiOqKbo1PkIiTGZf+mjOft6OEqJet7bKAuEy+TcR+ytrQW9f93brkjetw8l75UQBDBzEOEhXjG50iOym4Lw82Ojw1QvtHh03VUuFXpVwgYUxlKGmubN5vtHIudUp3Bnlhelp78HsjfPJ7Xntmeg15U3c4dcBy7G+/bDppYGU2Yb1c+lfxUqVNG0hYQl88NjbhL2YpyiISHEQVZQ56B4kAmfmu8s3r/ORB3qHXItHIypnEmr7PuD2z6a3XqAukiZ9Um3CX35OmkMaNQYsaiVOH7IXnhEWEB4QrhLOEnoXrhpmIp4oSjdqP/JJ1lkOaY57QoomniKzKsUu3Bb32whjJZc/Z1XDcIuPs6cfwrvec/ooFdQxVEyYa4iCDJwUuYTSUOpdAZ0b+S1hRcFZEW85fC2T4Z5Jr1W6/cU50gHZTeMV51nqEe897tns7e1x6HHl6d3l1GXNecEht2mkYZgRioV3zWP5Txk5OSZxDtD2aN1Qx5ipWJKkd5BYNECkJPgJS+2n0ie245vzfWdnV0nbMQMY5wGS6yLRor0iqbqXcoJecoZj+lLGRvY4jjOaJCYiLhm+FtYRehGqE2YSrhd+GdIhpir2MbI92ktiVj5mYnfChk6Z+q6ywGrbEu6TBtsf1zVzU5tqN4U7oIO8B9un80wO7CpkRahgnH8slUSyzMuw4+D7QRHJK2E/+VOBZeV7HYsVmcWrIbcZwanOydZt3JHlMehF7dXt1exJ7THoleZx3s3Vsc8lwy211aslmy2J/XuZZBVXgT3xK20QEP/k4wjJhLN4lOx+AGLIR1QrvAwj9IvZE73PotuER24nUJc7ox9nB+7tUtuiwvKvUpjKi3Z3WmSGWwJK4jwqNt4rDiC+H+4UqhbuEroQFhb6F2YZWiDKKbYwEj/aRQZXgmNOcFaGjpXmqlK/wtIe6VsBYxonM4tJg2f3fs+Z97Vb0OPseAgIJ3w+vFm0dFCSdKgQxRDdXPTlD5UhWTolTeVghXX9hj2VNabZsyW+Bct503XZ9eLx5mnoVey1743o2eid5t3fndblzLXFHbglrdWeNY1Zf01oHVvZQpEsVRk9AVDosNNktYSfLIBoaVBN+DJ8FvP7a9/7wLupv48jcPdbUz5HJesOTveK3a7IyrTyojKMmnw6bR5fUk7iQ9Y2Ni4OJ2IeNhqSFHYX5hDeF14Xahj2IAYojjKOOfZGvlDiYFJxAoLmkeqmCrsqzULkOvwDFIctt0d7Xb94b5d3rrvKK+WoASwcmDvYUtBtdIukoVS+bNbU7oEFWR9NMElIPV8ZbNGBUZCRooWvHbpRxBnQbdtF3J3kceq964Hquehp6JHnMdxV2/3OMcb5ul2saaElkKGC6WwNXBlLHTEpHlUGrO5E1TC/hKFYirxvyFCUOTAdtAI/5tvLn6yjlf97x14PROsscxS2/crnws6uup6nopHOgSpxxmOuUvJHkjmiMSIqGiCWHJIaFhUmFboX2heCGK4jWieCLR44JkSSUlpdbm3Gf1KOBqHStqrIduMq9rMO+yfzPYNbm3IfjP+oJ8d/3u/6WBW8MPRP8GaYgNiemLfEzEzoGQMZFTUuYUKNVaVrmXhdj+GaHasFtonApc1R1IHeNeJp5RHqNenR6+Hkaedx3PXY/dORxLm8fbLlo/2T1YJxc+VcQU+RNekjWQvw88ja7MF0q3iNCHY4WyQ/2CB0CQ/ts9J/t4OY14KTZMtPkzL/GyMADu3a1JbAUq0emwqGJnZ+ZB5bEktiPR40SizqJwoeqhvOFnoWshRuG7YYfiLKJo4vyjZyQn5P6lqiaqJ71oo6nbayPsfC2i7xdwmDIj87m1GDb9uGl6GfvNfYM/eQDuQqGEUUY8B6CJfYrRzJwOGs+NETGSR1PNFQIWZVd1mHJZWppt2ysb0hyiHRqdu53EXnUeTR6M3rQeQt55Xdednl0N3KZb6FsUmmvZbtheF3qWBVU/U6lSRJEST5OOCYy1StiJdEeJxhpEZ4KywP1/CH2Ve+X6OvhV9vh1I7OYshjwpa8/raisYSsqacVo8ye0Joml9CT0ZArjuCL8olkiDWHZ4b6he+FR4b/hhmIk4lsi6ONNZAgk2OW+5nknRyioKZrq3mwyLVSuxPBBscnzXDT3tlp4A7nx+2P9F/7MwIFCdAPjhY7Hc8jRyqdMMw2zjygQj1In03DUqVXQVySYJZkSWioa7FuYnG3c691SXeEeF551nnteaJ59Xjod3p2rXSDcv1vHW3laVlme2JOXtVZFFUPUMpKSUWRP6U5jDNJLeImXCC8GQcTQwx2BaX+1PcK8UzqoOMK3ZHWONAHygDEKr6IuCCz9q0NqWukEaAFnEmY4JTOkROPs4ywiguJxYffhluGOYZ3hhiHGYh7iTuLWY3Uj6iS05VUmSedSaG4pW6qaa+ltB26zb+wxcPL/9Ff2ODee+Ur7OvytfmEAFMHHA7ZFIYbHSKYKPIuJzUxOwxBskYgTFBRP1bpWkpfX2MkZ5Zqsm13cOFy73SgdvF34nhyeaF5bnnaeOR3j3bbdMlyW3CTbXNq/WY1Yx5fuloOVh1R60t7RtRA+DruNLkuXijjIU4bohTmDR8HUgCG+b7yAexU5bzeQNjj0avLnsW/vxS6obRqr3Sqw6VaoT6dcJn1lc+SAJCLjXKLt4laiF6HwoaHhq6GNocfiGiJEYsXjXmPNZJJlbOYcJx8oNWkd6lfroez7biMvmDEY8qR0OXWWt3r45LqSvEO+Nj+ogVpDCUT0hlrIOkmSC2CM5M5dj8mRZ5K20/XVJBZAF4lYvtlgGmvbIhvB3IrdPF1WXdheAh5T3k0ebh423eedgJ1CXOzcAJu+mqbZ+pj6F+aWwJXJVIGTalHEkJHPEs2JDDXKWcj3Bw6FoUPxQj9ATX7cPS07QfnbuDv2Y7TUc08x1XBobsjtuGw3qsep6aieZ6bmg2X1JPxkGiOOoxoivWI4ocuh9yG64ZbhyuIXInsitqMJI/IkcWUGJi+m7Wf+KOGqFmtb7LDt1G9FMMIySjPb9XY217i/Ois72n2Lv30A7cKcxEfGLkeOiWdK90x9DffPZhDG0ljTm1TM1iyXOhgz2RlaKhrlG4ocWFzPXW7dtp3mXj4ePV4kXjMd6h2JHVCcwRxbG57azNomGStYHRc8VcnUxtO0EhLQ5A9pDeLMUsr6CRnHs4XIhFoCqcD4/wh9mbvuugg4p7bOdX2ztvI7cIvvae3WbJKrXyo9aO4n8mbKZjdlOeRSY8GjR+LlYlriKCHNocth4WHPYhWic2Ko4zVjmKRR5SDlxOb854ho5qnWaxcsZ62GrzNwbHHw83901ra1eBp5xHux/SG+0cCCAnBD24WCB2LI/IpNzBVNkc8CUKWR+pMAFLUVmJbp1+fY0dnnWqdbUVwknKEdBl2T3cleJp4sHhkeLd3q3ZAdXZzUHHPbvVrxWhBZWxhSF3aWCRULE/zSYBE1T74OO4yuyxkJu4fXxm8EgkMTQWO/s/3F/Fr6tDjTN3k1pzQe8qFxL++LbnUs7iu3alHpfug+pxJmeqV4ZIvkNeN2os6ivmIGIiWh3WHtYdViFWJtYpyjIyOAZHPk/SWbZo3nlCitKZfq06wfbXouorAX8ZizI7S39hP39nleOwn8+D5nQBaBxEOvRRYG90hRyiQLrU0rjp5QBBGbkuQUHJVD1pjXmxiJmaNaaFsXW+/ccdzcXW+dqt3OHhleDF4nXeodlV1pHOWcS1vamxRaeRlJGIWXr1ZHFU2UBFLr0UVQEg6TTQnLt0nciHtGlMUqA3yBjcAfPnG8hvsgOX63o7YQ9IczB7GUMC0ulC1KLBAq5ymQKIvnm2a/JbfkxmRrI6ajOSKjYmUiPyHw4frh3OIW4miikiMSo6nkF2Ta5bNmYGdhKHTpWqqRq9itLu5Tb8SxQbLJNFp183dTeTj6orxPfj1/q4FYwwNE6kZLyCcJuosFDMVOec+iETxSR9PDVS4WBxdNWEAZXpooGtwbuhwBHPFdCd2K3fQdxR4+Hd8d6B2ZXXLc9VxhG/ZbNdpgGbXYt9em1oOVjxRKUzZRlBBkzunNY8vUSnyIngc5hVDD5QI3gEo+3T0yu0v56fgOdrp073NucfiwT28zrabsaas9KeIo2eflJsRmOGUCJKGj1+NlIsmihaJZogWiCaIl4hniZaKI4wNjlOQ8pLolTOZ0Zy/oPike6lDrk2zlLgUvsnDrsm/z/bVT9zE4lHp8O+c9k/9BAS2Cl8R+heCHvIkRCtzMXo3VT3+QnJIq02nUl9X0lv7X9djY2ecaoBtC3A9chN0jHWndmJ3vne6d1V3kXZude1zD3LVb0JtV2oXZ4Rjol9zW/pWPFI8Tf5Hh0LaPPw28zDCKm8k/x13F9wQMwqDA9H8IPZ4793oVOLj25DVXs9UyXXDx71OuA+zDq5OqdSko6C/nCqZ6JX6kmWQKY5IjMSKnonXiG+IaIjAiHiJj4oEjNeNBJCMkmuVoJgnnP+fI6SRqEatPLJxt+C8hcJayF3Oh9TU2j/hwudZ7v70q/tbAgoJsg9NFtYcSCOdKdEv3zXBO3NB8UY2TD5RBFaFWr5eq2JIZpRpi2wqb3FxXHPrdB1273Zid3V3KXd9dnJ1CXRCciFwpW3RaqhnLGRfYEVc4Vc3U0pOHkm4Qxw+TjhSMi8s6CWCHwQZcRLQCyYFeP7L9yTxieoA5I3dNtcA0e/KCcVTv9C5hrR4r6uqIqbioe2dRprylvGTSJH3jgGNZ4sqik2JzoiviO+Ij4mOiuyLpo28jyyS9JQSmIObRZ9Uo62nTqwxsVO2sbtFwQzHAM0d013Zvd835sXsYvMK+rUAYQcGDqEUKhueIfcnLy5DNCw65z9vRb5K0k+mVDZZfl17YSpliGiRa0VuoHChckZ0jXV3dgF3LHf3dmN2cHUedHByZnACbkVrM2jNZBZhEl3DWCxUU085SuVEWT+aOa0zly1dJwIhjhoEFGoNxgYcAHP5z/I17KvlN9/c2KLSi8yext/AU7v+teSwCqxzpyOjHp9nmwCY7ZQvksqPv40PjLyKyIkyifuIJImtiZSK2Yt7jXqP0pGDlIqX5ZqQnoqiz6ZbqyuwO7WHugvAwcWny7bR6tc/3q7kNOvK8Wv4Ev+5BVwM9RJ/GfUfUCaNLKYylzhaPutDRUllTkVT41c6XEhgCGR3Z5RqW23Lb+Fxm3P5dPl1mnbcdr92Q3ZndS50mHKlcFlus2u4aGhlyGHZXZ5ZHFVWUE9LDEaRQOI6BDX8Ls4ofyIVHJQVAg9kCL8BGvt49ODtVufg4IPaRNQozjTIbcLYvHi3U7JsrceoaKRToIucEpnslRuToZCBjryMU4tIipuJTolfic+Jn4rMi1eNPY9+kRiUCJdMmuKdxqH2pW6qKq8otGK51b58xFLKVNB71sTcKeOm6TTwzvZw/RMEswpLEdUXTB6qJOsqCjEBN8s8ZULKR/VM4lGOVvRaEV/iYmNmk2ltbPFuHHHscl90dnUudod2gnYddll1OHS5ct9wqW4cbDdp/mVzYppedFoHVlRRYEwvR8RBJjxXNlwwOyr4I5gdIBeWEP8JYAO//CD2ie//6IjiKdzm1cXPy8n8w16+9LjDs9CuHqqwpYuhsp0omu+WC5R+kUmPbo3vi86KCoqliZ+J+ImwisWLOI0HjzCRs5OMlrmZOZ0IoSOlhqkvrhqzQrikvTrDAsn1zhDVTduo4RvooO409dD7bwIMCaMPLBakHAUjSSlsL2o1PDvfQE1GhEt9UDZVq1nYXblhTGWNaHtrE25ScDdywXPtdLx1LXY+dvF1RnU8dNVyEnH0bn5ssGmOZhljVV9FW+tWTFJrTUxI80JkPaQ3uDGkK20lGB+qGCgSmAv/BGL+xvcx8ajqMOTO3YjXYtFiy4zF5b9yuja1NrB3q/umxqLdnkGb95f/lF6SFZAljpCMWYt+igKK5YknisaKxIsfjdeO6JBTkxaWLZmWnE+gVaSkqDmtEbInt3i8/sG2x5vNqdPa2Srgk+YQ7Z3zM/rNAGcH+w2EFP0aXyGnJ88t0jOsOVc/z0QQShZP3FNfWJtcjGAwZIRnhWowbYRvfnEdc2B0RXXNdfZ1wHUsdTp063I/cTlv2mwjahhnuWMLYBBcy1c/U3FOZEkdRJ4+7jgQMwkt3iaUIDAatxMuDZsGAgBr+djyT+zX5XPfKtkA0/rMHcduwfG7qrafsdKsSKgFpAugX5wCmfiVQ5PlkOCON43pi/iKZYoxiluK44rJiwyNrI6mkPqSpZWmmPmbnJ+No8inSawOsRG2ULvGwG/GRsxG0mvYr94O5YPrCPKY+C7/xAVVDN0SVhm6HwUmMSw6Mho4zj1PQ5tIrE1/UhBXW1tcXxJjd2aKaUlssW7AcHVyzXPJdGd1qHWJdQ11MnT7cmdxeG8wbZFqnGdUZLtg1VylWC1Uck94SkFF1D8zOmM0ai5MKA0isxtDFcEONQihAQ77ffT27X3nGOHM2p7Uks6vyPfCcb0guAmzMK6YqUalPaF/nRGa9JYslLqRoY/hjX6Md4vNioKKlIoFi9SL/4yHjmqQp5I7lSWYYpvvnsqi8aZeqw+wAbUuupO/LMX0yufQ/9Y43Y3j+el28AD3kP0iBLEKOBGwFxYeYySUKqEwiDZDPM5BJEdBTCBRv1UYWile72FmZYxoXmvabf1vx3E2c0h0/XRUdU116HQldAVziXGxb4Ft+GoaaOhkZWGVXXlZFVVuUIZLYUYEQXM7szXHL7UpgiMyHcsWUhDMCT4Drvwg9pvvIum84m3cO9Yr0EHKgsTzvpi5drSQr+uqiqZxoqOeJJv1lxmVlJJmkJGOGI37izuL2IrUii2L5Iv4jGmONJBZktaUqZfQmkieDqIfpniqFq/1sxG5Zb7uw6fJjM+Y1cXbD+Jy6OfuavX1+4ICDgmTDwwWchzCIvYoCS/2NLg6S0CrRdNKv09qVNJY81zJYFJkimdvav5sNm8VcZlywXONdPt0C3W9dBJ0CXOkceVvy21aa5Jod2UKYk5eSFr4VWRRj0x8RzBCrzz9NiAxGyvzJK4eURjgEWAL2ARN/sL3PvHG6l/kD97Z18TR1MsOxnbAErvltfOwQazRp6mjy586nPmYC5Zxky+RRo+3jYSMrYs0ixiLW4v6i/eMUI4EkBKSeJQ0l0Sapp1XoVOlmKkjru+y+Lc8vbXCX8g1zjTUVdqV4O7mWu3W81v65ABtB/ANaBTPGiEhWCdvLWIzLDnIPjFEY0lbThRTile6W6BfOWODZntpHmxqbl5w93E2cxd0nHTDdI10+XMIc7pxEnAQbrVrBGn/ZaliA18RW9ZWVVKSTZJIV0PmPUQ4dDJ8LGEmJyDTGWsT8wxwBur/Y/nh8mrsAuaw33fZXdNozZvH+8GNvFW3V7KYrRup5KT2oFSdAZoAl1SU/ZH/j1uOEo0ljJWLY4uOixaM+4w9jtqP0JEflMWWvpkKnaWgjaS+qDSt7rHlthe8gMEbx+PM1NLq2B7fbeXR60XyxfhJ/84FTwzFEi0ZgB+6JdYrzjGfN0M9tULyR/VMu1E/Vn1ac14eYnllg2g6a5ptom9RcaVynXM4dHZ0V3TacwBzy3E5cE5uC2xxaYJmQmOxX9RbrldBU5FOo0l5RBk/hjnFM9otyyecIVIb8hSCDgYIhAEB+4L0DO6k51DhFNv31PzOKMmAwwm+x7i+s/OuaKoipiSicZ4Nm/qXOpXQkr2QBI+ljaKM/Iuzi8aLOIwFjTCOtY+UkcyTW5Y+mXSc+p/Mo+mnTKzysNe1+LpQwNvFlct50YHXq93w40vqt/Aw97D9MASuCiQRjBfgHR0kPCo6MBE2vDs4QX9GjktgUPFUPllEXf5ga2SIZ1FqxWzibqZwD3Idc89zI3QbdLZz83LVcVtwh25bbNhpAGfVY1pgklyAWCdUik+uSpZFRkDDOhE1NC8xKQ0jzhx3Fg8QmQkcA578Ifas70Xp8OKy3JDWkNC2ygfFh787uie1T7C3q2OnVaOSnx2c95gllqeTgJGyjz6OJY1ojAiMBYxfjBWNKI6Wj16Rf5P3lcSY5JtUnxGjGadoq/uvzrTduSW/oMRLyiHQHdY73HbiyOgs7571GPyVAhAJhA/rFUEcgCKjKKUugjQ1Ork/CkUkSgJPoVP8VxFc3F9aY4hmZGnsax1u9m90cZhyYHPMc9pzjHPhctlxd3C6bqVsOWp3Z2Jk/WBKXU1ZCFV+ULVLrkZvQfw7WDaJMJMqeyRGHvkXmBEqC7IEOP6/90zx5eqP5E/eKtgl0kXMj8YGwbG7krausQmtpqiKpLegMJ35mRSXgpRHkmSQ246sjdmMYoxJjIuMK40mjn2PLpE4k5mVUJhZm7OeXKJPpoqqCa/Ks8i4/r1qwwbJzs691M/a/+BH56TtD/SD+vsAcwflDUwUohrjIAknEC3zMq04Oj6UQ7hIok1OUrdW21q2XkVihWV0aA5rU21Bb9VwDnLscm5zlHNcc8hy2HGNcOhu6WyUauhn6mSbYf1dFFrjVW1RtkzBR5NCMD2bN9sx8ivmJbsfdxkfE7gMRgbR/1v56vKE7C3m69/D2brT1M0XyIfCKL3+tw+zXa7sqcGl3qFHnv6aBphilROTG5F9jzmOUI3CjJKMvoxGjSqOao8EkfeSQZXhl9SaGZ6soYqlsakdrsuyt7fcvDjCxcd+zWHTZ9mM38vlHuyC8vD4ZP/YBUgMrRIEGUcfcCV7K2QxJDe5PBxCS0dATPhQb1WiWY1dLGF+ZH9nLWqGbIduMHB/cXNyDHNIcydzqnLRcZ1wD28obelqVGhsZTJiql7WWrlWV1KyTdBIs0NfPto4KDNMLUwnLSHzGqMUQw7YB2cB9fqH9CHuy+eH4V3bT9Vkz6DJCMSgvmy5crSzrzWr/KYJo2GfB5z9mEaW45PXkSSQyo7LjSiN4Iz2jGeNNI5dj9+Qu5LvlHiXVZqEnQGhy6TeqDat0bGrtr+7CsGIxjPMCNIC2BzeUeSc6vjwYPfP/T8ErAoQEWcXqx3XI+Yp0y+bNTc7o0DcRdxKoU8lVGZYYFwQYHNjhmZHabNryW2Hb+tw9XGkcvZy7HKHcsVxqHAxb2BtOGu6aOhlxWJSX5Jbilc7U6lO2UnNRIo/FTpwNKIuryibImscJBbMD2cJ+wKN/CL2vu9n6SPj9tzl1vXQK8uLxRrA3LrWtQyxgaw5qDekf6AUnfiZLpe4lJiSz5Bgj0yOko00jTONjY1DjlWPwZCFkqKUFZfcmfWcXaASpBCoVazdsKS1p7riv1DF7cq00KHWsNza4hzpce/S9Tz8pwIRCXQPyxUQHD4iUShDLhA0tDkpP2tEdklHTthSKFcxW/FeZWKJZV1o3WoGbdluU3BycTdyn3Kscl1ys3GtcE1vk22CaxppX2ZRY/NfSVxVWBpUm0/dSuNFsUBKO7U19C8NKgUk3x2iF1IR9AqNBCT+u/dZ8QPrvuSP3nrYhdK1zA7HlcFOvD23Z7LPrXmpaKWgoSSe9poamJCVXZOAkfyP0Y4Cjo6Ndo25jViOU4+nkFWSW5S4lmiZa5y+n16jSKd5q+6vo7SUub6+HMSqyWTPRdVH22fhoOfs7Uf0qvoRAXkH2g0vFHUapSC7JrIshTIwOK09+UIPSOtMiVHmVf5Zzl1TYYlkb2cCaj9sJm61b+pwxHFDcmdyL3KbcaxwY2/AbcZrdWnPZthjkGD6XBtZ81SIUNxL80bSQXw89TZCMWgrbCVRHx0Z1RJ+DB0Guf9T+fPynuxY5ifgD9oW1EHOk8gRw8G9prjEsx+vvKqcpsWiOJ/5mwqZbZYmlDWSnJBcj3eO7Y2+jeuNc45Wj5SQK5IalGCW+pjnmySfr6KFpqKqBK+ms4a4n73twmzIGM7s0+LZ+N8n5mrsvvIc+X//4QVADJUS2xgNHyYlISv6MKs2MDyFQaVGjUs4UKJUyVioXD1ghWN9ZiJpdGtvbRJvXXBNceJxHHL7cX5xpnBzb+htBGzKaTtnWWQmYaZd21nHVW9R1kz/R+9CqD0xOIwyvyzPJr8glRpVFAYOqwdKAen6jPQ37vHnv+Gk26fVzM8Yyo/ENr8QuiO1crABrNOn7KNPoP+c/plPl/SU7pJBkeyP8Y5QjguOIo6TjmCPhpAHkt+TDpaSmGmbkZ4Gosel0akfrq+yfbeFvMPBM8fQzJfSgdiM3rHk7Oo48Y/37f1MBKkK/BBCF3YdkSOQKW4vJTWyOhBAOkUsSuROW1OQV39bJF99YodlP2ikarNsa27Lb9BwfHHMccFxW3GacH5vCW48bBlqoGfUZLdhTF6VWpZWUlLLTQZJB0TRPmg50jMSLi4oKSIJHNIViw82CdsCfvwj9tDviulW4zndONdY0Z7LDcarwHy7hLbHsUmtDakXpWqhCJ72mjSYxpWsk+qRgJBwj7qOXo5ejrmObo9+kOiRqZPClTCY8ZoDnmOhD6UEqT+tvbF5tm+7ncD+xY3LRtEk1yPdPuNw6bTvBfZe/LkCEglkD6oV3xv8If8n4S2fMzM5mT7NQ8pIjU0SUlVWU1oIXnJhjWRYZ9Bp82u/bTRvT3AQcXZxgnEycYhwg28lbm9sYmr/Z0plQmLtXktbYFcuU7tOCEoaRfQ/mzoUNWEviSmQI3odTRcNEb8KaQQQ/rj3Z/Eh6+3kzt7K2OXSJM2NxyPC6rzntx6zk65KqkWmiKIWn/GbHZmclm+UmJIakfSPKI+2jqCO5I6Dj3yQz5F6k3yV05d+mnqdxaBdpD6oZazPsHm1X7p8v83ETcr5z8vVvtvP4ffnM+5+9NH6JwF+B84NExRIGmggbiZVLBgyszchPV9CZkc1TMdQF1UjWehcY2CPY2xm92guaw9tmG7Ib59wHHE9cQRxcXCDbzxunGylallouWXIYodf+lsjWAZUpU8ESyhGE0HKO1E2rDDhKvMk6B7EGIwSRQz1BaH/TPn98rjsg+Zi4FvactSszg3Jm8NZvky5eLTgr4mrdaepoyag8ZwLmnaXNpVLk7iRfZCbjxSP544Vj52Pf5C7kU+TO5V8lxGa95wtoLCjfaeQq+ivf7RTuWC+ocMSybDOddRd2mPggua27PnyRvmZ/+sFOQx9ErMY1B7dJMgqkTAyNqg770ABRttKeU/XU/FXxltQX45ifWUbaGVqWmz3bT1vKXC8cPRw0XBUcH1vTG7EbONqrmgkZkhjHWClXOJY2FSKUPxLMUctQvQ8ijfzMTQsUyZSIDgaCBTJDX8HLgHe+pH0Te4Y6Pbh7Nv/1TPQjsoUxcq/s7rTtS+xy6ypqM2kOqH0nfyaVZgBlgOUW5ILkRSQdo8zj0uPvI+IkK2RK5MAlSuXqZl6nJufCKPBpsGqBa+Ks0y4SL15wtzHa80j0//Y+t4Q5TvrdvG+9wv+WgSlCugQHhdBHUwjOykJL7E0Ljp9P5lEfkkoTpNSvFagWjpeiWGKZDpnl2mga1JtrW6ub1dwpXCYcDJwcW9YbuVsHGv8aIhmwmOtYEldm1mlVWtR70w1SEJDGT6+ODYzhC2uJ7khqBuCFUoPBgm7Am78JPbi76zpieN83YzXu9EQzI/GPMEbvDG3gbIPrt+p9KVSovue8Zs4mdGWv5QCk52RkZDej4WPho/hj5aQpZEMk8qU35ZHmQKcDp9mogqm9qknrpqySrc1vFbBqcYrzNXRpdeV3aHjw+n37zf2gPzKAhMJVQ+KFa4buyGuJ4AtLjOzOAs+MEMgSNZMTlGFVXdZIV2BYJNjVWbGaOJqqGwYbi9v7G9QcFpwCnBgb11uAW1Oa0Vp52Y3ZDdh6F1PWm1WRlLcTTVJU0Q6P+45dDTQLgYpHCMWHfgWyBCLCkUE/f2193XxQOsb5Q3fGdlE05PNCsivwoW9kLjUs1avGKsfp22jBaDqnB+apZd/la6TNZITkUuQ3I/HjwyQqpCikfOSm5SZluuYkZuGnsqhWaUxqU+tr7FNtie7OMB8xe7KjNBP1jPcNeJO6HrutPT3+j0BgwfCDfcTHBorICEm+CusMTg3lzzGQcBGgUsGUEpUS1gFXHVfmGJtZfBnH2r6a35tqm59b/dvF3Ddb0pvXW4YbXtriGlBZ6Zku2GCXv1aL1cbU8VOL0peRVZAGjuuNRgwWyp8JIAebBhEEg0MzQWJ/0X5BvPS7K3mneCm2szUFs+HySPE8L7xuSq1n7BUrEyoi6QSoeadCZt9mESWX5TRkpuRvZA4kA2QO5DEkKWR35JxlFiWlZgkmwSeM6GupHKofKzJsFW1Hroev1LEtslGz/3U1trM4NzmAO0z83D5sv/0BTEMZRKKGJselCRvKigwuzUiO1pAXkUqSrtODVMcV+VaZV6aYYBkFmdYaUdr32wgbglvmG/Ob6tvLm9XbiltomvGaZRnEGU6YhZfplvsV+xTqE8lS2VGbUFBPOQ2WzGrK9gl5x/cGbwTjQ1TBxMB0/qX9GPuPugs4jLcVdaa0ATLmcVdwFS7grbrsZOtfKmspSSi5574m1mZDZcUlXKTJ5IzkZmQWJBxkOKQrpHRkkyUHpZEmL2aiJ2ioAikuKeuq+ivYrQZuQm+LcODyATOrtN72WffbeWJ67Tx6/cp/mcEogrUEPkWDB0HI+YopS49NKw57D76Q9JIb03NUepVw1lTXZhgkGM3Zo1oj2o8bJJtj240b4Bvc28Mb0xuNG3Ea/5p4md0ZbRipV9JXKRYt1SGUBVMZ0eAQmM9FjibMvgsMSdKIUkbMhUKD9YImwJf/CX29O/P6bvjv93e1x7SgswPx8vBuLzbtzmz066vqtCmOKPqn+qcOZral86VGJS4kq+R/5CokKuQB5G7kcmSLZTolfmXXJoRnRagZ6MDp+aqDa91sxq4+bwNwlPHx8xj0iXYBt4C5BTqOPBp9qH82wIUCUUPahV9G3shXScgLb8yNTh+PZVCd0cgTItQtlSdWD1ckl+bYlVlvmfTaZRr/mwRbsxuLW82b+VuPG46beBrMGoraNJlKGMuYOdcVll9VV9RAU1kSI5DgT5DOdYzQC6FKKoisxylFoUQVwoiBOr9s/eC8V7rSuVL32fZotMAzofIOsMevje5ibQXsOWr96dQpPKg4J0dm6uYjJbClE2TMJJrkf6Q65Awkc+RxpIUlLmVs5cBmqCckJ/MolOmIqo2royyH7ftu/HAKMaOyx3R0tan3Jnio+i/7un0HPtSAYcHtw3bE+8Z7x/UJZwrQDG9Ng48LkEbRs9KR09/U3RXI1uJXqRhb2TrZhNp6GpmbI5tXm7VbvNuuW4mbjpt92tdam5oK2aWY7Jgf10CWj1WM1LnTVxJl0SbP2s6DTWFL9YpBiQZHhQY/BHWC6YFcv8/+RDz7OzY5tfg8Nom1X/P/8mrxIW/lLrbtV2xHq0hqWql/KHangWcgZlOl3CV6JO1ktuRWZEwkV+R6JHIkgCUj5Vzl6uZNZwPnzaiqaVkqWWtqLEptua62r8CxVnK2s+D1U3bNeE150ntbPOZ+cv//AUqDE0SYhhjHkwkFyrBL0Q1nTrGP71EfEkATkVSSVYHWn1dqGCFYxNmT2g3asprBm3rbXhurG6HbgpuNW0IbIRqq2h+Zv9jMGESXqpa+VYCU8hOUEqbRbBAkDtANsUwJCtfJX0fgRlxE1INKAf4AMn6nPR57mXoY+J53KvW/9B4yxzG7sDzuy+3pbJZrk6qiKYKo9ef8ZxamhWYI5aGlECTUJK5kXqRlJEGktCS8pNqlTiXWpnPm5OepqEEpayomazJsDm15LnIvuDDKMmczjfU9tnT38rl1evx8Rj4Rf5zBJ4KwBDVFtgcwyKSKEEuyzMrOV0+XUMnSLdMCVEaVedYbVypX5hiN2WGZ4FpKGt5bHNtFW5fblBu6W0qbRNspmrjaMxmYmSoYaBeTFuvV8tTpE8+S5tGwEGwPG83AjJtLLQm3SDrGuMUyw6nCH0CUfwn9gXw8enu4wHeMNh/0vLMj8dZwlS9hbjvs5avfquppxyk2KDhnTib4JjbliqVz5PLkh6SyZHNkSmS3ZLpk0yVBJcQmW6bHp4boWWk+KfSq++vTbTnuLq9wsL7x2HN8NKj2HXeYuRl6nnwmvbC/OwCFAk1D0oVTRs7IQ0nwSxQMrg38jz7QdBGa0vKT+lTxVdaW6ZepmFYZLlmyGiCauhr9myubQ1uFG7DbRptGWzCahVpFGfAZBtiKF/oW19Yj1R7UCdMlkfLQss9mTg6M7ItBig5IlEcUhZCECUK/wPX/bH3kPF863jlid+12f/Tbc4CycTDtr7cuTu11rCwrM2oMKXcodSeGZyvmZeX0pVjlEqTiJIekgySUpLwkuaTMpXUlsqYE5utnZagy6NKpxGrG69ms++3sbypwdPGK8ys0VPXGt394vfoBO8e9UH7ZgGLB6sNvxPDGbMfiSVBK9YwRDaGO5hAd0UeSolOtlKgVkRaoF2xYHRj6GUKaNhpUmt1bEFttm3TbZhtBG0abNhqQmlWZxhliWKrX4BcC1lOVU1RC02MSNJD4j6/OW809C5TKZIjtB2/F7YRnwt/BVz/OPka8wbtAucR4TrbgNXoz3fKMcUawDa7irYYsuWt9KlIpuSiy5//nIKaV5h/lvuUzpP3kneSUJKAkgiT6JMelaqWi5i+mkOdFqA3o6KmVKpMroSy+7asu5TAr8X5ym3QB9bD25vhjOeR7aTzwfnj/wUGIgw1EjoYKx4EJMApWi/PNBk6ND8dRM5IRk1/UXdVK1mXXLhfjWITZUhnKWm3au9r0GxabYxtZ23qbBVs6mppaZNna2XxYihgEV2xWQhWGlLrTX1J1ET0P+E6nzUxMJ0q6CQUHygZJxMYDf0G3gC++qL0j+6L6JnivtwB12TR7Muexn/Bkbzat12zHa8eq2On76PFoOidWZsbmTCXmJVWlGuT1pKZkrSSJpPwkxCVhpZQmG6a3Zycn6ii/qWdqYGtqLENtq26hb+QxMvJMc+/1G/aPeAl5iHsLfJE+GL+fwSaCqwQsRakHH8iPyjeLVkzqjjOPcBCfUcATEdQTFQPWIpbvF6iYTpkgWZ2aBhqZGtabPlsQW0xbclsC2z1aoppy2e4ZVNjn2CeXVFavFbiUsVOaUrRRQJB/jvKNmsx5Cs5JnEgjhqWFI0OeQheAkP8KfYY8BPqIORD3oHY4NJizQ3I5cLuvSy5o7RXsEqsgaj+pMOh1Z40nOSZ5Zc6luSU45M6k+eS7JJJk/yTB5VnlhyYJJp9nCefHqJgpeyovKzQsCO1srl5vnXDocj6zXvTH9nj3sDktOq58Mr24vz8AhQJJQ8qFR0b+yC+JmIs4zE7N2c8Y0EqRrlKC08fU+9Welq8XbNgXWO3Zb9ndGnUat9rk2zwbPZspGz7a/xqp2n9Z/9lsGMRYSVe7FprV6RTmk9QS8pGC0IXPfI3oDImLYgnyiHxGwEWABDzCd0Dxf2u957xmuum5cffAtpc1NnOfclNxE2/gLrstZOxea2iqQ+mxaLFnxOdsJqfmOCWdpVhlKKTOpMqk3GTD5QDlU2W7JffmSOct56aocikP6j8q/2vPrS8uHO9X8J8x8fMOtLT14vdX+NK6UfvUvVl+3oBjwefDaMTlxl3Hz0l5ipsMMs1/zoEQNVEb0nOTe5RzVVnWblcwV98YuhkA2fLaEBqX2sobJpstWx5bOZr/Wq9aSloQmYIZH5hpl6CWxVYYlRqUDJMvUcPQys+FTnRM2Qu0igfI1AdahdxEWoLWQVG/zL5JPMg7SznS+GD29jVUNDtyrbFrcDWuze30rKrrsWqJKfKo7qg9p2Bm1yZipcMluOUEJSTk22TnpMmlAWVOZbDl5+ZzptNnhuhNaSYp0KrMK9es8u3cbxNwVvGl8v+0IrWN9wB4uPn2O3c8+n5+/8MBhoMHRISGPMdvSNpKfQuWjSWOaM+fkMjSI5Mu1CoVFFYs1vLXpdhFWRDZh9op2naarhrP2xwbElszGv4as9pUGh+Zlpk5mEiXxNculgaVTVREE2sSA9EOz80Ov80ny8ZKnEkrR7PGN4S3gzUBsQAtPqo9KXusejO4gTdVdfH0V/MH8cOwi69hLgTtN+v7Ks7qNKksaHcnlacH5o5mKeWapWClPCTtZPRk0OUDJUrlp6XZZl/m+mdoqCno/amjKpnroSy3rZzuz/APsVsysXPRdXn2qbgf+Zs7GnycPh+/osElgqYEI0WcBw8IuwnfS3oMis4QT0mQtVGTEuGT4BTOFepWtJdr2A/Y39lbmcJaVFqQ2vfayVsFGysa+5q22lyaLZmp2RHYplfnlxZWcxV+1HoTZZJCkVGQE47KDbVMFwrwCUGIDIaSRRQDkwIQQI1/Cv2KvA16lHkhN7S2D/T0c2KyHDDh77TuVa1FrEVrVap3aWsosefLp3lmu2YR5f1lfmUUpQClAiUZZQZlSGWf5cxmTWbip0uoB6jWabcqaStrrH3tXu6Nr8mxEXJkc4E1JrZT98e5QPr+PD59gL9DAMUCRUPChXtGrwgbyYELHYxwDbeO8xAhUUHSk5OVlIbVpxZ1VzDX2Rit2S4Zmhow2nKantr1Wvaa4hr32rhaY5o52buZKRiCmAkXfNZela8UrtOe0oARkxBZTxMNwgymywLJ1shkRuxFb8PwQm7A7T9rfet8bjr1OUF4E/auNRDz/bJ1MTivyO7m7ZPskCudKrspqujtaAKnq+bpJnrl4aWdZW6lFSURZSNlCqVHpZmlwKZ8Jownb+fm6LCpTGp5qzdsBS1h7kyvhLDI8hgzcfSUdj73cDjnOmK74X1iPuOAZMHkg2HE2sZOx/zJIwqAzBUNXk6cD80RMFIFE0pUfxUjFjUW9NehmHqY/9lwWcwaUtqEWuBa5prXmvLauJppWgUZzBl+2J2YKVdiFojV3dTiU9cS/FGTkJ2PW04NjPXLVIoriLuHBYXLBE1CzQFMf8t+S7zOu1V54ThzNsx1rfQY8s5xj7Bdbzjt4qzb6+Uq/2nraSmoeuefZxgmpSYGpf1lSaVq5SHlLmUQZUfllKX2JixmtycVp8dojCli6gtrBGwNrSYuDK9A8IFxzTMjdEL16rcZuI56B7uE/QQ+hIAFAYRDAUS6he8HXYjEymPLuYzFDkTPuFCeUfXS/lP21N5V9Fa4F2kYBpjQWUXZ5loyGmjaidrVmsva7Fq3mm3aDtnbGVMY91gIF4XW8ZXLlRTUDdM3kdMQ4M+iTlhNA4vlin9I0ceeBiWEqUMqwaqAKv6r/S87tboBONJ3anXKtLQzJ/HnMLJvSy5yLSgsLesEqmypZuiz59PnR+bQJm0l3uWlpUHlc6U65RelSaWQ5e0mHiajZzynqSho6Tqp3mrS69ds623N7z4wOvFDMtY0MrVXdsO4djmtuyj8pv4mf6XBJIKhBBpFj0c+SGaJxwteTKtN7U8jEEvRplKx062UmNWylnpXL5fRmJ/ZGhm/mdBaS9qyWoMa/pqkmrVacNoXGejZZljPmGWXqJbZFjfVBdRDU3GSEREjD+hOoc1QjDWKkglnB/XGf0TFA4fCCQCKPwu9jzwV+qD5MXeItmf0z/OB8n7wx+/d7oHttOx3a0pqrumk6O2oCae45vxmVGYBZcMlmiVGpUilX+VMpY5l5WYQ5pDnJOeMaEbpE+nyqqJromyyLZBu/G/1cToySbPi9QU2rrfeuVQ6zbxKPch/RsDEwkFD+oUvhp9ICEmpysKMUY2VTs2QOJEWEmSTY9RSlXAWO9b1V5uYbljtGVeZ7Vot2llar5qwWpuasZpymh5Z9Vl4GOaYQZfJlz9WIxV1lHfTalJOEWQQLQ7qTZxMRIskCbvIDMbYhWAD5EJmwOi/av3u/HW6wHmQeCb2hPVrc9vylvFdsDEu0m3CbMGr0SrxqePpKGh/56rnKea9JiTl4aWzpVrlV6VppVDljWXe5gUmv+bOp7DoJmjuaYgqsytu7HntU+6777Ew8jI+c1R087Yad4g5O3pzO+39av7oQGXB4YNaxNAGQAfqCQzKpsv3TT1Od4+lUMVSFxMZVAuVLNX8lroXZJg72L9ZLpmJGg7af1pamqCakVqsmnLaJBnAWYhZPBhcV+mXJBZM1aQUqtOh0ooRpBBwzzGN50ySy3UJz4ijBzDFukQAAsPBRv/J/k581Ttf+e94RTciNYd0dfLvMbOwRO9jbhBtDGwYazVqI6lkKLdn3edYJuamSaYBZc5lsGVn5XRlVmWNpdnmOuZwJvmnVugHKMopnypFa3xsAy1Y7nyvbfCrMfPzBvSi9cc3cnijehk7kn0N/opABsGCQztEcIXhR0vI74oKy50M5M4hT1FQtBGI0s5Tw9To1bxWfdcs18hYkFkEWaPZ7lokGkSaj9qF2qZacdooWcoZl1kQmLXXyBdHlrUVkVTck9gSxJHi0LOPeA4xDN/LhUpiSPiHSIYTxJuDIIGkgCi+rX00u786Dnjjd39143SQc0eyCjDY77TuXu1XrGBreapkKaCo76gR54enEWavZiJl6iWHJbllQKWdZY8l1iYxpmHm5id+J+lopyl3ahjrCywNbR6uPm8rsGVxqrL6NBM1tLbdeEw5//s3fLF+LP+ogSNCnAQRhYJHLchSSe7LAoyMDcqPPRAikXnSQpO7lGQVe1YA1zQXlBhgmNkZfVmNGgeabVp92njaXtpvmiuZ0pmlGSNYjhglV2nWnFX9VM1UDVM+EeBQ9Q+9TnoNLAvUirSJDQffhmzE9gN8wcHAhr8MPZO8HjqtOQG33LZ/dOszoLJhMS1vxq7t7aOsqSu+6qWp3iko6Ebn9+c9JpZmRGYHJd8ljCWOJaWlkiXTpinmVObT52anzKiFqVCqLWrbK9js5e3BbyqwILFiMq6zxHVjNok4NblnOtz8Vb3P/0qAxMJ9A7KFI8aPiDUJUsrnzDMNc46oT9BRKpI2UzFUHBU11f3Ws1dWWCWYoRkImZtZ2VoCWlZaVVp/GhPaE5n+2VWZGFiHWCMXbFajlckVHhQi0xiSP9DZz+cOqI1fjA1K8klPyCcGuUUHg9LCXIDmP2/9+7xKOx05tTgT9vn1aLQhMuQxsvBOL3cuLm007AurcuprabYo02hDp8dnXubK5osmYCYJ5ghmG+YD5kCmkeb3JzBnvOgcaM5pkmpnqw1sAy0H7hrvO3AocWDyo/PwdQW2ojfE+W06mXwIfbl+6oBbgcrDd0SgBgNHoIj2igRLiEzCDjCPEpBnUW4SZdNOFGXVLFXhVoQXVBfRGHpYj5kQ2X3ZVlmaGYmZpJlrGR2Y/BhHGD7XY9b2ljeVZ1SG09aS11HJ0O8Ph86VDVfMEQrByasIDcbrhUUEG0KwAQQ/2D5t/MY7ojoDOOo3WDYONM2zlvJrcQwwOa707f7s2CwBa3uqRynkaRQolugsp5YnU2ckpsomw+bRpvOm6ecz51GnwqhGqN0pRao/6orrpmxRbUsuUy9oMEmxtrKuM+81OLZJd+D5PXpee8J9aH6PADXBWwL+BB1Ft8bMyFrJoMreDBFNec5Wj6bQqVGdkoLTmFRdlRGV89ZEVwIXrRfE2EjYuViWGN6Y01j0WIFYutgg1/OXc9bh1n3ViFUCVGwTRlKR0Y+Qv89kDnzNCwwQCsxJgQhvhtiFvUQewv4BXIA7fpr9fPvieow5e7fxtq91dbQFsyAxxjD4b7fuhW3hrM1sCWtV6rOp4ylk6PloYKgbJ+jnime/Z0gnpGeUZ9doLehW6NKpYGn/6nBrMavC7ONtkm6Pb5lwr7GRMv0z8nUwdnX3gbkS+mi7gb0c/nk/lUEwgkmD34UxRn2Hg4kCCngLZMyHTd6O6c/oENiR+tKN05EUQ9Ul1bYWNNahFzqXQZf1V9WYItgcmAMYFlfWl4PXXlbm1l1VwlVWVJoTzdMykgiRURBMj3wOIA05y8pK0gmSSExHAIXwhF0DB0HwQFl/Az3u/F27EHnIeIa3S/YZdO/zkLK8MXOwd29I7qhtlqzUbCJrQOrwajGphOlqKOIorOhKqHtoPygV6H+ofGiLqS0pYOnmKnyq5CubrGLtOO3drs+vzrDZ8fAy0LQ6tS02ZzenuO26ODtGPNZ+KD95wIsCGkNmxK+F80cwyGfJlor8i9jNKk4wjypQFtE10cYSxxO4lBmU6dVo1dZWcZa61vGXFZdm12VXUVdqVzDW5RaHVleV1lVEFOFULpNsUpsR+9DO0BVPD84/DOQL/8qTCZ6IY8cjhd6ElgNLAj7Asn9mPhu80/uPulB5Fvfj9ri1VjR9My5yKvEzsAjva+5c7Zzs7GwL67vq/KpO6jKpqKlwaQqpN2j2qMgpLCkiqWrphSoxKm4q/CtabAisxe2SLmxvE/AIMQgyE3MotAd1brZdN5J4zToMu098lT3cPyNAaoGwAvMEMoVthqMH0gk5ihiLbox6TXsOcA9YkHPRARI/0q+TT5QfVJ6VDNWplfTWLhZVlqrWrdaelr1WShZFFi5VhlVNFMOUaZOAEwdSQFGrEIjP2c7fDdmMycvwio8Jpgh2hwFGB4TKA4nCSAEGP8P+g31FPAo607mieHd3E7Y39OVz3LLesevwxbAsLyBuYu20LNTsRWvGK1eq+ipuKjNpyqnzaa5puumZqcnqC+pfKoNrOGt+K9NsuG0sbe6uvu9b8EWxevI7MwV0WPV09lg3gjjx+eY7HjxY/ZU+0gAPAUrChEP6xOzGGcdAyKDJuMqIS84MyU35Tp2PtRB/UTtR6RKH01bT1hRE1OLVL9VrlZXV7tX2FeuVz5XiVaOVU5UzFIHUQFPvEw7Sn5HiERbQfs9aTqqNr4yqy5zKhomoyERHWkYrhPkDg4KMgVSAHP7mPbF8f7sR+ik4xjfp9pV1iXSG845yoPG+8Klv4O8l7nltm20M7I3sHuuAa3Kq9eqJ6q9qZipuakeqsmqt6vprF6uE7AJsjy0rbZXuTq8Ur+fwhvGxsmczZnRu9X+2V/e2+Jt5xLsxvCG9U36Gf/jA6oIag0fEsQWVhvRHzMkdiiZLJcwbTQZOJg75j4BQudElUcJSkFMPE75T3RRrlKmU1pUy1T3VOBUhFTlUwNT3lF3UNFO60zISmpI0UUCQ/w/xDxcOcc1BjIfLhIq5SWaITUduRgqFIsP4QovBngBwvwO+GLzwO4t6qzlQeHv3LrYpdSz0OnMR8nSxYzCeL+ZvO+5frdItU6zkrEVsNiu3a0kra2seayIrNqsbq1Frl2vtbBNsiO0NraDuAm7xr24wNzDMMexylzOLtIl1jzacd7A4ibnn+so8L30Wvn8/Z4CPgfXC2YQ5xRXGbId9CEaJiIqBi7GMVw1yDgFPBI/60GQRP1GMEkpS+VMY06iT6FQX1HcURdSEFLIUT5Rc1BnTxxOk0zMSspIjkYZRG9BkD6AO0A41DQ+MYEtoCmeJX8hRh32GJIUHxCgCxgHiwL9/XH56/Rv8ADsoedX4yTfDdsU1zzTiM/9y5vIZsVhwo6/77yGulW4XrajtCSz4rHgsB6wm69Zr1ivl68XsNew1rEUs4+0RrY5uGS6x7xfvyvCKMVUyKzLLc/V0qDWjNqV3rni8+ZB65/vCfR8+PT8bQHlBVgKwQ4eE2sXpRvIH9AjvCeGKy0vrjIGNjI5Lzz8PpVB+kMoRh1I2ElXS5pMoE1mTu5ON09ATwlPk07fTetMu0tOSqVIwkaoRFZCzz8WPS06FTfRM2Uw0iwcKUUlUiFEHR8Z5xSfEEoM7AeJAyT/wPph9gryv+2D6VrlSOFO3XHZtNUZ0qPOVsszyD7FeMLkv4S9Wbtmuay3LLbotOCzFbOIsjmyKbJXssOybbNUtHi12LZyuEW6T7yQvgXBq8OCxobJtswO0IzTLdfu2szexOLT5vbqKO9o87H3//tQAKAE7AgwDWkRkxWrGa4dmCFnJRcppSwPMFMzbDZZORg8pj4BQShDGUXSRlJImEmiSnFLAkxXTG9MSUzmS0ZLakpTSQFIdUayRLdCh0AkPpA7zDjbNcAyfC8TLIco2yQSIS8dNhkpFQsR4QytCHMENgD7+8L3kfNr71LrS+dZ437fvdsb2JnUOtECzvLKDchVxc3Cd8BUvma8rrouuei327YJtnO1GLX6tBi1cbUHtti247couaW6WrxFvmTAtsI4xenHx8rPzf/QU9TK12HbFd/i4sbmvurG7tvy+vYf+0j/bwOUB7ILxg/NE8MXphtxHyMjuCYtKoAtrjC0M5A2QDnCOxM+MkAeQtRDU0WaRqlHfkgYSXhJnUmHSTZJq0jlR+ZGrkU+RJhCvUCuPm08/TleN5M0nzGDLkMr4CdfJMAgCB05GVcVZBFlDVsJSgU2ASL9EfkF9QTxD+0p6Vflm+H43XHaCdfC05/Qos3PyifIrMVgw0XBXb+pvSq84rrSufq4XLj2t8u32rciuKS4X7lTun674Lx4vkTAQsJyxNHGXskWzPfO/9Er1XnY5ttv3xLjzOaZ6nbuYfJW9lL6Uv5SAlAGSAo3DhsS7xWwGV0d8SBqJMUnACsYLgox1TN1Nuo4MDtGPSs/3UBaQqNDtESPRTFGm0bMRsVGhUYMRltFc0RUQwBCdkC5Pss8qzpeOOM1PjNwMHstYyoqJ9EjXSDPHCoZcxWqEdQN9AkNBiECNf5L+mb2ifK47vXqROen4yLgttxo2TrWLdNF0ITN68p+yD7GLMRLwpvAH7/XvcS86LtCu9O6nLqdutW6RLvru8i8270iv57ATMIrxDrGdsjfynLNLdAO0xLWONl83NzfVePk5ofqOu778cb1mflx/UgBHwXxCLwMexAtFM0XWhvQHi0ibiWQKJErby4nMbczHTZXOGQ6QTzuPWk/sUDEQaNCTEO/Q/xDAkTRQ2tDzkL8QfVAuj9MPq083TreOLM2WzTbMTIvZSx0KWMmMyPoH4QcCRl7Fd0RMQ56CrwG+QI1/3L7s/f7803wrewd6aHlOeLr3rfbotis1dnSK9CjzUXLEckJxzDFhsMNwsbAsb/RviW+rr1svWC9ib3nvXq+Qr89wGvBzMJdxB3GDMgnym3M3M5y0SzUCdcH2iLdWeCp4w7nh+oR7qjxSvX0+KP8UgACBK4HUwvvDn0S/RVpGcEcASAnIzAmGiniK4cuBjFdM4o1jDdhOQg7fzzFPdo+vD9rQOZALEE/QR1Bx0A9QIA/kD5uPRs8mDrmOAc3/DTIMmsw5y0/K3UojCWEImIfJxzWGHIV/RF7Du0KWAe9AyAAhfzs+Fr10PFT7uXqiOdA5A7h9t362hzYX9XE0k7Q/83Yy9zJC8hoxvPErsOZwrbBBcGGwDvAI8A+wIzADMHAwaXCu8MBxXbGGcjoyePLB85S0MTSWdUQ2Oba2d3n4A7kSuea6vrtaPHh9GL46Ptx//kCfwb+CXUN4RA+FIsXxBrnHfEg4COyJmQp9StiLqkwyDK/NIs2KzidOeE69TvZPI09Dj5ePnw+aD4hPqk9AD0mPBw74jl6OOY2JjU7Mygx7i6OLAwqaCelJMUhyx65G5EYVhUKErEOTQvgB24E+QCF/RL6pfZA8+bvmuxe6TTmIOMk4ELdfNrV10/V69Kt0JTOpMzdykHJ0cePxnvFlsThw1zDCMPlwvPCMsOhw0HEEcUQxj3Hl8gdys/Lqs2sz9XRI9ST1iXZ1Nug3ofhheSY57/q9u068Yr04/dB+6L+AwJiBbwIDwxXD5MSvhXYGN0byx6gIVkk9SZxKcsrAS4SMP0xvjNWNcM2AzgXOfw5szo6O5I7ujuyO3o7Ezt8Orc5wzijN1U23TQ6M28xfS9kLSgryihMJq8j9iAkHjkbOhgoFQUS1Q6aC1YIDAW+AXH+Jfvd9530ZvE87iHrF+gh5UHiet/N3D3azNd71U7TRNFhz6TNEcynymnJVshxx7nGL8bTxafFqcXaxTnGx8aCx2vIf8nAyivMv817z13RZdOQ1dzXSNrS3HffNuIN5fjn9uoE7iDxR/R396365v0gAVkEjge8CuEN+hAEFP4W5Rm3HHEfESKVJPsmQilnK2gtRS/8MIsy8TMtNT42JDfdN2k4yDj5OPw40jh7OPY3RDdmNl01KTTMMkYxmS/GLc8rtSl7JyElqiIXIGwdqRrSF+gU7hHnDtQLuAiWBXACSv8k/AL55/XU8szv0uzo6RDnTeSh4Q7fltw62v7X4tXo0xLSYdDXznXNO8wsy0bKjMn+yJzIZ8heyILI0shPyffJysrIy/DMQM64z1bRGdMA1QnXMtl6297dXuD24qXlaeg+6yTuGPEW9B73LPo+/VEAYwNyBnwJfQxzD1wSNhX/F7MaUR3YH0QilCTGJtkoyyqZLEQuyS8oMV4ybDNRNAw1mzUANjk2RzYpNuA1bDXNNAQ0ETP2MbIwSC+5LQUsLio2KB4m6COWISkfpBwIGlkXlxTFEeYO+wsHCQ0GDwMPABH9FPod9y70SfFx7qfr7uhI5rjjP+Hf3prcctpp2IDWuNQU05TROtAGz/rNFs1bzMrLY8smyxPLK8tty9rLcMwvzRfOJ89d0LnRO9Pf1KbWjtiV2rnc+t5U4cbjTubq6JjrVu4i8fjz2Pa++an8lf+AAmoFTwgsC/8NxxCAEyoWwBhDG68dAiA8IlkkWSY5KPkplysRLWcumC+iMIUxPzLSMjszfDOTM4AzRTPgMlMynTHAMLwvki5CLc8rOSqCKKsmtSSiInQgLB7MG1cZzxY0FIoR0w4QDEQJcgabA8IA6v0T+0H4dvW08v3vVO266jLovuVg4xnh697Y3OLaCtlS17vVR9T10sjRwdDfzyXPkc4mzuLNx83UzQrOZ87szpjPa9Bk0YLSxNMp1bDWWNgg2gXcB94j4FjipeQH533pBOya7j7x7POk9mP5Jvzs/rEBdQQ0B+0JngxED9wRZhTfFkUZlhvQHfIf+iHmI7UlZSf1KGQqsCvaLN4tvi54LwwwejDAMN8w1zCoMFIw1S8yL2kufC1qLDQr3SlkKMsmEyU/I04hQx8gHeUalhg0FsATPhGuDhMMbwnEBhQEYgGw/v/7Uvmr9gz0d/Hv7nXsC+q053DlQ+Mt4TDfTt2J2+HZWNjv1qjVgtSA06LS6dFV0ebQndB60H3Qp9D20GvRBdLE0qfTrdTW1SDXi9gV2r3bgd1h31rhbOOU5dDnIOqA7O/ua/Hz84P2Gvm3+1b+9ACSAy0GwghPC9MNShC0Eg8VWBeOGa4buB2pH4EhPSPdJF4mwScDKSQqIyv/K7csTC28LQcuLS4vLgsuwi1VLcMsDiw2KzsqHinhJ4UmCSVxI7wh7R8FHgUc7xnFF4kVPBPgEHcOAwyHCQMHegTvAWP/2PxQ+s33UfXf8njwHu7T65jpcedd5WDjeeGs3/rdY9zp2o3ZUNg01zjWXtWn1BPUotNU0yvTJtNE04bT7NN11CHV8NXf1u/XINlv2tvbZd0J38jgn+KO5JHmqejT6g3tVe+r8Qv0dPbk+Fr70v1KAMMCOAWpBxMKdAzKDhQRUBN8FZUXnBmNG2cdKh/TIGEi0yMoJV8mdydvKEYp/CmQKgIrUSt9K4crbSsxK9IqUSquKeooBSgBJ90lnCQ9I8MhLiCAHrkc3BrqGOUWzhSnEnEQLw7iC4wJMAfOBGkCAwCe/Tv73PiE9jT07/G174ntbOtg6Wjng+W04/3hXeDY3m7dINzv2tzZ6NgT2F/XzNZa1gnW2tXN1eHVGNZw1unWg9c92BfZENon21zcrN0Y353gPOLy473lnueR6ZXrqu3N7/vxNfR39sH4D/th/bT/BgJXBKMG6QgoC10Nhg+jEbATrhWZF3EZNBvhHHYe8h9UIZsixiPUJMMllSZHJ9onTCieKNAo4CjQKJ8oTijcJ0snmibKJd0k0iOqImghCyCUHgYdYBumGdcX9hUDFAES8g/WDa8LgAlKBw8F0AKQAFH+E/zZ+aX3ePVT8zrxLe8v7UDrYumX5+DlP+S04kHh59+o3oPde9yP28HaEdp/2Q3ZutiG2HPYf9iq2PXYYNnp2ZDaVts43DfdUd6H39XgPeK841Hl++a46IjqaOxX7lTwXfJx9Iz2r/jX+gP9MP9cAYcDrwXSB+4JAQwKDgcQ9hHXE6cVZRcQGaYaJhyPHeEeGSA3ITkiISPrI5kkKSWbJe8lJCY7JjMmDSbIJWQl4yRFJIkjsiK+IbAgiR9IHu8cgBv7GWIYtRb3FCkTTBFhD2sNawtiCVMHPgUmAwsB8v7Z/MP6s/io9qb0rvLB8ODuD+1M65vp/edy5vzkneNU4iThDeAQ3y7eZ9283C3cu9tn2zDbF9sb2z3bfNvY21Lc59yZ3WbeTt9Q4GrhneLn40flveZF6OHpjutK7RXv7fDQ8r30s/aw+LH6t/y+/sUAywLOBM0Gxgi3Cp8MfA5NEBASxRNoFfoWeRjkGTobehyiHbIeqR+HIEoh8iF+Iu8iRCN8I5gjlyN6I0Aj6iJ5IushQyGAIKQfrh6gHXscPxvuGYkYEBeGFeoTPxKHEMEO8AwWCzMJSQdbBWgDdAGA/4z9m/uu+cf35/UP9ELygfDM7ibtkOsL6pfoN+fr5bXkleOM4pvhw+AE4F/f1d5l3hDe19253bbdz90E3lPevt5D3+LfmuBs4VbiV+Nv5Jzl3+Y16J3pF+ui7Dvu4u+V8VTzG/Xr9sL4nvp9/F/+QAAhAgAE2wWxB4AJRgsDDbUOWxDzEXwT9BRcFrEX8hgfGjcbOBwjHfYdsB5SH9ofSSCdINcg9yD9IOgguCBvIAsgjh/4Hkkegx2kHLAbpRqFGVIYCxeyFUgUzxJHEbIPEQ5lDK8K8gguB2YFmQPKAfz/Lf5g/Jf60/gV91/1svMQ8nrw8O517Qnsrupk6S3oCef65QDlHORP45ni++F24QjhtOB64FjgUOBh4Izg0OAs4aLhL+LU4pHjY+RM5UrmXOeB6LnpAutb7MTtO+++8E7y5/OK9TX35vic+lX8Ef7O/4oBRAP7BK4GWggACpwLLw22DjEQnxH+Ek0UixW4FtEX2BjKGacabhsfHLocPB2oHfsdNh5ZHmQeVh4wHvIdmx0uHakcDRxbG5MathnFGMEXqhaBFUcU/hKmEUAQzg5QDckLOAqgCAIHXwW4Aw4CZAC7/hP9bvvN+TL4nfYR9Y7zFvKp8Erv+O217ILrYepR6VPoaeeT5tLlJuWQ5BDkpuNU4xnj9eLo4vPiFONN453jBOSB5BPlvOV45knnLugl6S7qSOtz7Kzt9O5J8KrxFvOL9Ar2j/cb+az6QPzW/W7/BQGbAi4EvQVHB8sIRgq5CyINgA7SDxYRTRJ0E4sUkRWFFmcXNhjxGJcZKRqmGg0bXhuZG74bzRvFG6cbcxspG8oaVRrLGS0Zexi1F90W8xX3FOwT0BKmEW8QKw/bDYAMHQuxCT0IxAZGBcQDQAK7ADf/s/0y/LT6PPnJ9172+/Sh81LyDvHX767uk+2H7IvroOrG6f/oS+ip5xzno+Y+5u7ltOWO5X7lg+Wd5czlEOZp5tbmWOfs55ToTukb6vjq5uvj7PDtCu8y8GXxpPLt8z/1mfb692H5zfo8/K39IP+SAAMCcwPfBEYGqAcCCVYKoAvgDBUOPw9cEGsRbBJdEz8UDxXPFX0WGBehFxYYeBjHGAEZJxk4GTYZHxn1GLYYYxj+F4UX+RZcFqwV7BQbFDsTSxJNEUIQKw8HDtkMoQthChkJygd1BhwFvwNgAgABof9B/uT8ivs0+uP4mfdW9hv16vPD8qfxl/CU75/uuO3g7BjsYOu56iTqoOku6c/og+hK6CToEegR6CToS+iF6NHoL+mg6SPqtupb6xDs1Oyn7YnueO908HzxkPKt89T0A/Y593b4ufkA+0r8lv3k/jEAfgHKAhIEVwWWBtAHAwkuClALaQx3DXoOcQ9aEDcRBRLEEnQTExSjFCEVjxXrFTUWbRaTFqcWqBaYFnUWQRb7FaMVOhXAFDYUnBPzEjsSdBGgEL8P0g7ZDdYMyQuzCpYJcQhGBxUG4QSpA28CMwH4/73+hP1N/Br76/nC+KD3hPZx9Wf0Z/Nx8ofxqfDX7xPvXe627R3tlOwb7LLrWusS69vqtuqh6p7qq+rK6vrqO+uM6+3rXuzf7G7tDe657nPvOvAM8evx1PLI88T0yfXW9un3A/kh+kP7afyR/br+4/8LATMCWAN6BJcFsAbCB84I0QnNCr8LqAyFDVgOHg/YD4QQJBG0ETcSqxIPE2QTqRPeEwMUGBQdFBIU9hPLE5ATRRPrEoMSCxKFEfIQURCkD+oOJQ5VDXsMmAurCrcJuwi5B7EGpQWUBIEDawJUAT0AJ/8S/v787vvi+tr52Pjc9+j2+/UX9Tz0a/Ok8unxOvGX8ADwd+/77o7uLu7d7ZvtZ+1D7S7tKO0x7UntcO2m7evtPe6e7g3vie8R8KbwSPH08azybfM49A316fXN9rj3qfif+Zr6mPuZ/J39ov6n/6sArgGwAq8DqgShBZIGfgdjCEEJFwrlCqkLYwwTDbgNUQ7fDmAP1Q89EJcQ5BAjEVUReBGNEZQRjRF4EVURJBHlEJkQQBDaD2gP6g5gDssNKw2BDM0LEQtMCn8JrAjRB/IGDQYkBTcESANXAmQBcQB//47+nv2w/Mb74Pr/+SP5Tfh+97f29/VA9ZL07fNT88PyP/LG8Vjx9/Ch8FnwHfDu78zvt++w77Xvx+/n7xPwTPCR8OPwQPGp8R3ynPIl87nzVfT79Kn1X/Yc99/3qfh4+Uv6I/v++9v8uv2b/nz/XAA7ARoC9QLOA6MEdAVABgYHxgeACDEJ2wl9ChYLpQsrDKYMFw19DdgNKA5sDqQO0Q7xDgUPDg8KD/oO3g62DoMORA76DaQNRQ3aDGYM6AtiC9IKOgqaCfMIRgiSB9kGGwZZBZIEyQP+AjACYgGTAMX/9/4r/mH9mfzV+xT7Wfqi+fH4Rvii9wX3cPbj9V/15PRy9An0q/NW8wzzzfKY8m/yUPI98jTyN/JF8l3ygfKv8ujyK/N488/zMPSZ9Az1h/UK9pT2Jfe+91z4APmp+Vb6B/u8+3T8Lv3p/ab+Y/8eANoAlQFOAgQDuANoBBMFugVcBvgGjgcdCKYIJwmgCREKegrZCjALfgvCC/wLLQxTDHAMggyLDIkMfQxnDEgMHgzsC68LagsbC8QKZQr+CY8JGQmcCBgIjgf/BmsG0gU1BZUE8QNLA6MC+QFPAaQA+v9P/6b+//1a/bf8GPx9++b6U/rG+T75vPhA+Mv3Xvf39pj2Qfby9az1bvU59Q316fTP9L70tvS39MH01PTw9BT1QfV39bX1+/VJ9p72+/Ze98j3OPit+Cn5qfku+rb6Q/vT+2X8+vyR/Sn+wv5b//T/iwAjAbkBTQLeAmwD+AN/BAIFgQX6BW8G3QZGB6gHBAhZCKcI7ggtCWQJlAm8CdwJ9AkDCgsKCwoCCvIJ2Qm5CZEJYQkrCe0IqAhdCAsIswdWB/MGigYdBqwFNgW9BEEEwgNAA70CNwKxASoBowAbAJb/EP+L/gn+iP0L/ZD8GPyl+zX7yvpj+gH6pflO+f34svhu+C/4+PfH9533efdd90j3Ovcz9zT3O/dJ9173eved98f39vcs+Gj4qvjx+D75kPnm+UH6oPoD+2n70vs//K38Hv2R/QT+ef7v/mT/2v9OAMIANQGmARYCgwLtAlUDuQMaBHcEzwQkBXQFvwUFBkUGgQa2BuYGEQc1B1MHawd+B4oHjwePB4kHfAdqB1IHNAcRB+gGuQaGBk4GEQbPBYkFPwXxBKAETAT1A5sDPgPgAoACHgK8AVgB9ACQACwAyv9o/wb/pv5I/uz9kv06/eX8lPxF/Pr7s/tw+zH79vrA+o76Yfo5+hb6+Pne+cr5u/my+a35rfmz+b75zfni+fv5Gfo7+mL6jfq8+vD6Jvth+5773/sj/Gn8sfz8/En9l/3m/Tf+iP7b/i3/f//R/yIAcwDDABIBXwGrAfQBPAKBAsMCAwNAA3kDsAPjAxIEPgRmBIoEqgTGBN4E8gQCBQ0FFQUYBRcFEgUJBfwE6wTWBL0EoQSBBF4EOAQPBOIDswOCA04DGAPgAqYCagItAu8BsAFwAS8B7wCuAG0ALADt/67/b/8y//b+u/6C/kv+Ff7i/bH9gv1W/S39Bv3i/MH8o/yI/HD8W/xK/Dv8MPwo/CT8Ivwk/Cn8Mfw7/En8Wvxt/IT8nPy4/NX89fwX/Tv9YP2I/bH92/0H/jP+Yf6P/r7+7f4d/0z/fP+r/9r/CAA2AGMAjwC6AOQADAE0AVkBfQGfAcAB3gH7ARUCLQJEAlcCaQJ5AoYCkQKZAqACpAKlAqUCogKdApcCjgKDAnYCZwJXAkUCMQIcAgYC7gHVAbsBoAGEAWcBSgEsAQ4B8ADRALIAkwB1AFYAOAAbAP//4//H/6z/kv95/2H/Sv80/yD/DP/6/ur+2v7M/sD+tf6r/qP+nP6X/pP+kP6P/o/+kP6T/pf+nP6i/qn+sf66/sT+z/7b/uf+9P4B/w//Hv8s/zv/Sv9Z/2j/eP+H/5X/pP+z/8H/zv/b/+j/9P8AAAoAFAAeACYALwA2AD0AQwBIAEwAUABSAFQAVgBWAFYAVQBUAFIAUABMAEkARQBBADwANwAyACwAJgAhABsAFQAQAAoABQAAAAAAAAAAAAAAAAAAAAAAAAAAAAAAAAAAAAAAAAAAAAAAAAAAAAAAAAAAAAAAAAAAAAAAAAAAAAAAAAAAAAAAAAAAAAAAAAAAAAAAAAAAAAAAAAAAAAAAAAAAAAAAAAAAAAAAAAAAAAAAAAAAAAAAAAAAAAAAAAAAAAAAAAAAAAAAAAAAAAAAAAAAAAAAAAAAAAAAAAAAAAAAAAAAAAAAAAAAAAAAAAAAAAAAAAAAAAAAAAAAAAAAAAAAAAAAAAAAAAAAAAAAAAAAAAAAAAAAAAAAAAAAAAAAAAAAAAAAAAAAAAAAAAAAAAAAAAAAAAAAAAAAAAAAAAAAAAAAAAAAAAAAAAAAAAAAAAAAAAAAAAAAAAAAAAAAAAAAAAAAAAAAAAAAAAAAAAAAAAAAAAAAAAAAAAAAAAAAAAAAAAAAAAAAAAAAAAAAAAAAAAAAAAAAAAAAAAAAAAAAAAAAAAAAAAAAAAAAAAAAAAAAAAAAAAAAAAAAAAAAAAAAAAAAAAAAAAAAAAAAAAAAAAAAAAAAAAAAAAAAAAAAAAAAAAAAAAAAAAAAAAAAAAAAAAAAAAAAAAAAAAAAAAAAAAAAAAAAAAAAAAAAAAAAAAAAAAAAAAAAAAAAAAAAAAAAAAAAAAAAAAAAAAAAAAAAAAAAAAAAAAAAAAAAAAAAAAAAAAAAAAAAAAAAAAAAAAAAAAAAAAAAAAAAAAAAAAAAAAAAAAAAAAAAAAAAAAAAAAAAAAAAAAAAAAAAAAAAAAAAAAAAAAAAAAAAAAAAAAAAAAAAAAAAAAAAAAAAAAAAAAAAAAAAAAAAAAAAAAAAAAAAAAAAAAAAAAAAAAAAAAAAAAAAAAAAAAAAAAAAAAAAAAAAAAAAAAAAAAAAAAAAAAAAAAAAAAAAAAAAAAAAAAAAAAAAAAAAAAAAAAAAAAAAAAAAAAAAAAAAAAAAAAAAAAAAAAAAAAAAAAAAAAAAAAAAAAAAAAAAAAAAAAAAAAAAAAAAAAAAAAAAAAAAAAAAAAAAAAAAAAAAAAAAAAAAAAAAAAAAAAAAAAAAAAAAAAAAAAAAAAAAAAAAAAAAAAAAAAAAAAAAAAAAAAAAAAAAAAAAAAAAAAAAAAAAAAAAAAAAAAAAAAAAAAAAAAAAAAAAAAAAAAAAAAAAAAAAAAAAAAAAAAAAAAAAAAAAAAAAAAAAAAAAAAAAAAAAAAAAAAAAAAAAAAAAAAAAAAAAAAAAAAAAAAAAAAAAAAAAAAAAAAAAAAAAAAAAAAAAAAAAAAAAAAAAAAAAAAAAAAAAAAAAAAAAAAAAAAAAAAAAAAAAAAAAAAAAAAAAAAAAAAAAAAAAAAAAAAAAAAAAAAAAAAAAAAAAAAAAAAAAAAAAAAAAAAAAAAAAAAAAAAAAAAAAAAAAAAAAAAAAAAAAAAAAAAAAAAAAAAAAAAAAAAAAAAAAAAAAAAAAAAAAAAAAAAAAAAAAAAAAAAAAAAAAAAAAAAAAAAAAAAAAAAAAAAAAAAAAAAAAAAAAAAAAAAAAAAAAAAAAAAAAAAAAAAAAAAAAAAAAAAAAAAAAAAAAAAAAAAAAAAAAAAAAAAAAAAAAAAAAAAAAAAAAAAAAAAAAAAAAAAAAAAAAAAAAAAAAAAAAAAAAAAAAAAAAAAAAAAAAAAAAAAAAAAAAAAAAAAAAAAAAAAAAAAAAAAAAAAAAAAAAAAAAAAAAAAAAAAAAAAAAAAAAAAAAAAAAAAAAAAAAAAAAAAAAAAAAAAAAAAAAAAAAAAAAAAAAAAAAAAAAAAAAAAAAAAAAAAAAAAAAAAAAAAAAAAAAAAAAAAAAAAAAAAAAAAAAAAAAAAAAAAAAAAAAAAAAAAAAAAAAAAAAAAAAAAAAAAAAAAAAAAAAAAAAAAAAAAAAAAAAAAAAAAAAAAAAAAAAAAAAAAAAAAAAAAAAAAAAAAAAAAAAAAAAAAAAAAAAAAAAAAAAAAAAAAAAAAAAAAAAAAAAAAAAAAAAAAAAAAAAAAAAAAAAAAAAAAAAAAAAAAAAAAAAAAAAAAAAAAAAAAAAAAAAAAAAAAAAAAAAAAAAAAAAAAAAAAAAAAAAAAAAAAAAAAAAAAAAAAAAAAAAAAAAAAAAAAAAAAAAAAAAAAAAAAAAAAAAAAAAAAAAAAAAAAAAAAAAAAAAAAAAAAAAAAAAAAAAAAAAAAAAAAAAAAAAAAAAAAAAAAAAAAAAAAAAAAAAAAAAAAAAAAAAAAAAAAAAAAAAAAAAAAAAAAAAAAAAAAAAAAAAAAAAAAAAAAAAAAAAAAAAAAAAAAAAAAAAAAAAAAAAAAAAAAAAAAAAAAAAAAAAAAAAAAAAAAAAAAAAAAAAAAAAAAAAAAAAAAAAAAAAAAAAAAAAAAAAAAAAAAAAAAAAAAAAAAAAAAAAAAAAAAAAAAAAAAAAAAAAAAAAAAAAAAAAAAAAAAAAAAAAAAAAAAAAAAAAAAAAAAAAAAAAAAAAAAAAAAAAAAAAAAAAAAAAAAAAAAAAAAAAAAAAAAAAAAAAAAAAAAAAAAAAAAAAAAAAAAAAAAAAAAAAAAAAAAAAAAAAAAAAAAAAAAAAAAAAAAAAAAAAAAAAAAAAAAAAAAAAAAAAAAAAAAAAAAAAAAAAAAAAAAAAAAAAAAAAAAAAAAAAAAAAAAAAAAAAAAAAAAAAAAAAAAAAAAAAAAAAAAAAAAAAAAAAAAAAAAAAAAAAAAAAAAAAAAAAAAAAAAAAAAAAAAAAAAAAAAAAAAAAAAAAAAAAAAAAAAAAAAAAAAAAAAAAAAAAAAAAAAAAAAAAAAAAAAAAAAAAAAAAAAAAAAAAAAAAAAAAAAAAAAAAAAAAAAAAAAAAAAAAAAAAAAAAAAAAAAAAAAAAAAAAAAAAAAAAAAAAAAAAAAAAAAAAAAAAAAAAAAAAAAAAAAAAAAAAAAAAAAAAAAAAAAAAAAAAAAAAAAAAAAAAAAAAAAAAAAAAAAAAAAAAAAAAAAAAAAAAAAAAAAAAAAAAAAAAAAAAAAAAAAAAAAAAAAAAAAAAAAAAAAAAAAAAAAAAAAAAAAAAAAAAAAAAAAAAAAAAAAAAAAAAAAAAAAAAAAAAAAAAAAAAAAAAAAAAAAAAAAAAAAAAAAAAAAAAAAAAAAAAAAAAAAAAAAAAAAAAAAAAAAAAAAAAAAAAAAAAAAAAAAAAAAAAAAAAAAAAAAAAAAAAAAAAAAAAAAAAAAAAAAAAAAAAAAAAAAAAAAAAAAAAAAAAAAAAAAAAAAAAAAAAAAAAAAAAAAAAAAAAAAAAAAAAAAAAAAAAAAAAAAAAAAAAAAAAAAAAAAAAAAAAAAAAAAAAAAAAAAAAAAAAAAAAAAAAAAAAAAAAAAAAAAAAAAAAAAAAAAAAAAAAAAAAAAAAAAAAAAAAAAAAAAAAAAAAAAAAAAAAAAAAAAAAAAAAAAAAAAAAAAAAAAAAAAAAAAAAAAAAAAAAAAAAAAAAAAAAAAAAAAAAAAAAAAAAAAAAAAAAAAAAAAAAAAAAAAAAAAAAAAAAAAAAAAAAAAAAAAAAAAAAAAAAAAAAAAAAAAAAAAAAAAAAAAAAAAAAAAAAAAAAAAAAAAAAAAAAAAAAAAAAAAAAAAAAAAAAAAAAAAAAAAAAAAAAAAAAAAAAAAAAAAAAAAAAAAAAAAAAAAAAAAAAAAAAAAAAAAAAAAAAAAAAAAAAAAAAAAAAAAAAAAAAAAAAAAAAAAAAAAAAAAAAAAAAAAAAAAAAAAAAAAAAAAAAAAAAAAAAAAAAAAAAAAAAAAAAAAAAAAAAAAAAAAAAAAAAAAAAAAAAAAAAAAAAAAAAAAAAAAAAAAAAAAAAAAAAAAAAAAAAAAAAAAAAAAAAAAAAAAAAAAAAAAAAAAAAAAAAAAAAAAAAAAAAAAAAAAAAAAAAAAAAAAAAAAAAAAAAAAAAAAAAAAAAAAAAAAAAAAAAAAAAAAAAAAAAAAAAAAAAAAAAAAAAAAAAAAAAAAAAAAAAAAAAAAAAAAAAAAAAAAAAAAAAAAAAAAAAAAAAAAAAAAAAAAAAAAAAAAAAAAAAAAAAAAAAAAAAAAAAAAAAAAAAAAAAAAAAAAAAAAAAAAAAAAAAAAAAAAAAAAAAAAAAAAAAAAAAAAAAAAAAAAAAAAAAAAAAAAAAAAAAAAAAAAAAAAAAAAAAAAAAAAAAAAAAAAAAAAAAAAAAAAAAAAAAAAAAAAAAAAAAAAAAAAAAAAAAAAAAAAAAAAAAAAAAAAAAAAAAAAAAAAAAAAAAAAAAAAAAAAAAAAAAAAAAAAAAAAAAAAAAAAAAAAAAAAAAAAAAAAAAAAAAAAAAAAAAAAAAAAAAAAAAAAAAAAAAAAAAAAAAAAAAAAAAAAAAAAAAAAAAAAAAAAAAAAAAAAAAAAAAAAAAAAAAAAAAAAAAAAAAAAAAAAAAAAAAAAAAAAAAAAAAAAAAAAAAAAAAAAAAAAAAAAAAAAAAAAAAAAAAAAAAAAAAAAAAAAAAAAAAAAAAAAAAAAAAAAAAAAAAAAAAAAAAAAAAAAAAAAAAAAAAAAAAAAAAAAAAAAAAAAAAAAAAAAAAAAAAAAAAAAAAAAAAAAAAAAAAAAAAAAAAAAAAAAAAAAAAAAAAAAAAAAAAAAAAAAAAAAAAAAAAAAAAAAAAAAAAAAAAAAAAAAAAAAAAAAAAAAAAAAAAAAAAAAAAAAAAAAAAAAAAAAAAAAAAAAAAAAAAAAAAAAAAAAAAAAAAAAAAAAAAAAAAAAAAAAAAAAAAAAAAAAAAAAAAAAAAAAAAAAAAAAAAAAAAAAAAAAAAAAAAAAAAAAAAAAAAAAAAAAAAAAAAAAAAAAAAAAAAAAAAAAAAAAAAAAAAAAAAAAAAAAAAAAAAAAAAAAAAAAAAAAAAAAAAAAAAAAAAAAAAAAAAAAAAAAAAAAAAAAAAAAAAAAAAAAAqB04OZxVvHGAjNCrnMHI30T3+Q/RJr08qVWFaT1/xY0JoQGznbzRzJXa3eOh6tnwhfiZ/xn//f9F/PX9CfuN8H3v5eHF2i3NIcKtst2hvZNdf8VrDVVBQnUquRIg+MDirMf4qLyRDHUAWKg8JCOEAuvmX8n7rduSF3a/W+s9syQnD2Lzdthyxm6tdpmehvpxjmFyUrJBVjVmKvIeAhaaDL4IegXKALYBOgNWAw4EVg8yE5oZhiTqMcY8Ck+qWJpu0n46ksqkbr8S0qrrIwBjHls081AXb6+Hq6PvvGfc+/mMFhQydE6UalyFuKCUvtjUcPFJCUkgZTqBT5VjiXZRi9mYGa8BuInIodc93F3r9e399nX5Vf6d/kn8Xfzd+8XxHezp5zHb/c9RwUG1zaUJlwGDxW9hWeVHZS/xF5z+fOSkziSzHJeYe7BffEMUJowKA+1/0SO1A5k3fdNi70SjLvsSEvn+4s7Imrdqn1qIcnrGZmJXUkWmOWYumiFOGYoTUgqqB5oCIgI+A/YDRgQqDqISohgmJyovojmGSMZZWms2ekqOgqPWtjLNfuWy/rMUazLPSb9lL4D/nSO5e9X38ngO9CtMR2xjPH6kmZC36M2c6pUCvRoBMFFJmV3JcM2GnZclplm0LcSZ043ZBeT5713wNft5+SX9Nf+x+JX75fGh7dXkgd2x0WnHubSlqD2akYepc5lebUg9NREdAQQk7oTQQLlonhCCVGZESfgtiBEP9JvYR7wroFeE62n3T5Mx0xjLAI7pNtLOuWqlHpH6fApvXlgGTgo9djJWJLIckhX6DPYJggemA14AsgeaBBoOJhHCGuIhgi2WOxpF+lYyZ7J2bopWn1axYshq4Fb5ExKTKLtHe167emOWY7KfzwPrcAfcICxASFwce4ySiKz4ysTj3PgpF5kqGUOVV/1rQX1RkiGhobPBvH3PydWZ4eXorfHh9YX7lfgN/u34Nfvp8g3upeW5303TacYZu2WrWZoJi3l3vWLhTP06HSJVCbjwWNpMv6SgfIjobPxQ0DR4GBf/r99jw0und4v/bP9WgzirI4MHJu+i1QrDdqrul46BWnBqYMZSfkGWNiIoJiOuFLoTUgt+BT4ElgWCBAYIHg3GEP4ZuiPyK6Y0xkdKUyJgSnauhj6a7qyux2bbDvOLCMsmuz1DWFN304+vq8vEE+RsAMwdFDksVQBwfI+EpgTD7Nkg9ZENKSfZOYVSJWWpe/mJDZzVr0W4Vcvx0hneweXh73nzffXt+sn6Dfu999nyYe9h5tXczdVNyF2+Ca5dnWWPLXvJZ0FRqT8VJ5UPOPYU3ETF1Krcj3BzrFecO2AfDAK/5nvKY66PkxN0A113Q4cmQw2+9hLfTsWGsMqdLoq6dYZlllcCRco6Ai+yItobjhHKDZIK8gXmBm4Ejgg+DYIQUhimIn4pzjaOQK5QLmD2cwKCPpaaqArCetXa7hMHExzLOx9R/21TiQelA8Ev3Xv5xBYAMhRN6GlohHyjELkQ1mDu9Qa1HY03cUhFYAF2lYftl/2mubQVxAnShduJ4wXo+fFd9DH5bfkV+yn3rfKd7/3n2d411xnKibyVsUmgqZLNf71riVZBQ/UovRSk/8DiKMvwrSiV7HpMXmBCQCYACcPti9F7taOaI38HYGtKYy0DFF78iuWaz6K2sqLWjCZ+rmp2W5ZKEj32M04mHh52FFITvgi6C0oHcgUqCHYNVhO+F7IdIigONG5CLk1OXb5vbn5WkmKnfrmi0LrorwFzGusxC0+7ZuOCb55HulfWi/LADvArAEbUYlh9eJgctjDPoORVADkbPS1RRl1aUW0hgr2TFaIds8m8Dc7h1DngEeph7yXyWff99An6gfdl8r3shejF44XUycydwwmwGafZklWDmW+5WsFExTHRGf0BXOgA0fy3aJhUgNxlFEkULOwQv/ST2Iu8t6EvhgtrX01DN8cbAwMK6+7RxryeqI6VnoPib2ZcOlJmQfo2/il2IXIa8hH+DpoIygiKCeIIyg1CE0YW0h/iJmoyZj/KSopanmv2eoaOOqMKtOLPruNe++MRHy8HRYNgf3/jl5ezi8+n68gH7CP0P8RbTHZ4kSivUMTY4az5uRDpKyk8aVSZa6V5gY4hnXGvabgByynQ2d0J57no2fBt9nH24fW99wnyxezx6ZXgudphzpnBZbbRpu2VwYddc9FfKUl5NtEfRQbg7cDX+LmUorCHZGvAT9wzzBez+5ffl8PDpDuNC3JTVCM+iyGrCY7yStvywpquTpsihSZ0YmTuVs5GEjq+LOIkgh2qFFYQkg5eCb4KrgkyDUYS5hYOHrok3jB2PXpL3leWZJJ6yoounq6wNsq63ib2Zw9nJRdDX1ondWOQ86zLyMvk2ADsHOw4vFREc3SKOKRwwhDbBPMxCokg+TppTtFiGXQ5iR2Ytar9t+HDXc1l2e3g+ep57m3w0fWl9OX2kfKx7UXqTeHV2+HMeceltXGp6ZkZiw131WN9Th07vSB1DFT3dNngw7SlAI3cclxWmDqkHpgCk+abysuvP5ALeUdfA0FXKFcQFviq4ibImrQaoLKOdnluabJbRko6PpIwYiuqHHIawhKiDAoPBguWCbYNYhKeFWIdqidqLqI7RkVKVKZlSncqhjaaYq+ewdrY/vD7Cb8jMzlHV+Nu84pfphPB9933+fgV6DG0TUBoeIdEnZC7SNBU7KUEJR7BMGVJAVyFcuGACZfpon2zsb99ydnWvd4h5AHsVfMZ8E338fIF8ontgert4tnZSdJBxc27+ajNnFmOoXvBZ71SpTyVKZERtPkQ47jFwK88kER47F1IQXAlfAmH7ZfRz7ZDmwt8N2XjSB8zBxai/xLkYtKmue6mTpPSfopugl/OTnJCejfyKuIjUhlGFMIRzgxqDJIOTg2aEm4UzhyyJhIs5jkqRs5RzmIWc56CVpYyqx69Dtfq66cAKx1jN0NNq2iPh9efZ7sz1xvzCA7wKrRGQGF8fFSasLB8zaTmFP29FIEuVUMlVuVpgX7pjxGd7a9xu43GQdN52znhdeol7Uny4fLp8V3yRe2h63XjwdqV0/HH3bppr5mffY4hf5Vr4VcdQVUunRcA/pzlgM+8sWyaoH9sY+xEMCxUEG/0j9jPvUOiB4craMNS7zW3HTcFfu6m1LrDzqvylTqHrnNmYGZWukZyO5ouMiZGH94W/hOqDeINqg8CDeYSWhRWH9Yg0i9GNyZAblMOXvpsKoKOkhamsrhW0urmYv6nF6ctT0uHYjt9W5jLtHfQR+wgC/wjuD9AWoB1YJPMqbDG9N+A900OOSQ9PUFROWQRebmKKZlNqx23jcKRzCXYOeLR5+HrZe1d8cXwofHp7anr4eCV38nRhcnVvL2yTaKNkYmDUW/xW31GATORGD0EFO800ai7jJzsheRqhE7oMyQXU/t/38fAP6j/jhdzp1W7PGsnywvy8O7e0sW2saKerojieFJpClsWSn4/TjGSKU4iihlOFZoTcg7WD84OThJeF/YbEiOqKbo1PkIiTGZf+mjOft6OEqJet7bKAuEy+TcR+ytrQW9f93brkjetw8l75UQBDBzEOEhXjG50iOym4Lw82Ojw1QvtHh03VUuFXpVwgYUxlKGmubN5vtHIudUp3Bnlhelp78HsjfPJ7Xntmeg15U3c4dcBy7G+/bDppYGU2Yb1c+lfxUqVNG0hYQl88NjbhL2YpyiISHEQVZQ56B4kAmfmu8s3r/ORB3qHXItHIypnEmr7PuD2z6a3XqAukiZ9Um3CX35OmkMaNQYsaiVOH7IXnhEWEB4QrhLOEnoXrhpmIp4oSjdqP/JJ1lkOaY57QoomniKzKsUu3Bb32whjJZc/Z1XDcIuPs6cfwrvec/ooFdQxVEyYa4iCDJwUuYTSUOpdAZ0b+S1hRcFZEW85fC2T4Z5Jr1W6/cU50gHZTeMV51nqEe897tns7e1x6HHl6d3l1GXNecEht2mkYZgRioV3zWP5Txk5OSZxDtD2aN1Qx5ipWJKkd5BYNECkJPgJS+2n0ie245vzfWdnV0nbMQMY5wGS6yLRor0iqbqXcoJecoZj+lLGRvY4jjOaJCYiLhm+FtYRehGqE2YSrhd+GdIhpir2MbI92ktiVj5mYnfChk6Z+q6ywGrbEu6TBtsf1zVzU5tqN4U7oIO8B9un80wO7CpkRahgnH8slUSyzMuw4+D7QRHJK2E/+VOBZeV7HYsVmcWrIbcZwanOydZt3JHlMehF7dXt1exJ7THoleZx3s3Vsc8lwy211aslmy2J/XuZZBVXgT3xK20QEP/k4wjJhLN4lOx+AGLIR1QrvAwj9IvZE73PotuER24nUJc7ox9nB+7tUtuiwvKvUpjKi3Z3WmSGWwJK4jwqNt4rDiC+H+4UqhbuEroQFhb6F2YZWiDKKbYwEj/aRQZXgmNOcFaGjpXmqlK/wtIe6VsBYxonM4tJg2f3fs+Z97Vb0OPseAgIJ3w+vFm0dFCSdKgQxRDdXPTlD5UhWTolTeVghXX9hj2VNabZsyW+Bct503XZ9eLx5mnoVey1743o2eid5t3fndblzLXFHbglrdWeNY1Zf01oHVvZQpEsVRk9AVDosNNktYSfLIBoaVBN+DJ8FvP7a9/7wLupv48jcPdbUz5HJesOTveK3a7IyrTyojKMmnw6bR5fUk7iQ9Y2Ni4OJ2IeNhqSFHYX5hDeF14Xahj2IAYojjKOOfZGvlDiYFJxAoLmkeqmCrsqzULkOvwDFIctt0d7Xb94b5d3rrvKK+WoASwcmDvYUtBtdIukoVS+bNbU7oEFWR9NMElIPV8ZbNGBUZCRooWvHbpRxBnQbdtF3J3kceq964Hquehp6JHnMdxV2/3OMcb5ul2saaElkKGC6WwNXBlLHTEpHlUGrO5E1TC/hKFYirxvyFCUOTAdtAI/5tvLn6yjlf97x14PROsscxS2/crnws6uup6nopHOgSpxxmOuUvJHkjmiMSIqGiCWHJIaFhUmFboX2heCGK4jWieCLR44JkSSUlpdbm3Gf1KOBqHStqrIduMq9rMO+yfzPYNbm3IfjP+oJ8d/3u/6WBW8MPRP8GaYgNiemLfEzEzoGQMZFTUuYUKNVaVrmXhdj+GaHasFtonApc1R1IHeNeJp5RHqNenR6+Hkaedx3PXY/dORxLm8fbLlo/2T1YJxc+VcQU+RNekjWQvw88ja7MF0q3iNCHY4WyQ/2CB0CQ/ts9J/t4OY14KTZMtPkzL/GyMADu3a1JbAUq0emwqGJnZ+ZB5bEktiPR40SizqJwoeqhvOFnoWshRuG7YYfiLKJo4vyjZyQn5P6lqiaqJ71oo6nbayPsfC2i7xdwmDIj87m1GDb9uGl6GfvNfYM/eQDuQqGEUUY8B6CJfYrRzJwOGs+NETGSR1PNFQIWZVd1mHJZWppt2ysb0hyiHRqdu53EXnUeTR6M3rQeQt55Xdednl0N3KZb6FsUmmvZbtheF3qWBVU/U6lSRJEST5OOCYy1StiJdEeJxhpEZ4KywP1/CH2Ve+X6OvhV9vh1I7OYshjwpa8/raisYSsqacVo8ye0Joml9CT0ZArjuCL8olkiDWHZ4b6he+FR4b/hhmIk4lsi6ONNZAgk2OW+5nknRyioKZrq3mwyLVSuxPBBscnzXDT3tlp4A7nx+2P9F/7MwIFCdAPjhY7Hc8jRyqdMMw2zjygQj1In03DUqVXQVySYJZkSWioa7FuYnG3c691SXeEeF551nnteaJ59Xjod3p2rXSDcv1vHW3laVlme2JOXtVZFFUPUMpKSUWRP6U5jDNJLeImXCC8GQcTQwx2BaX+1PcK8UzqoOMK3ZHWONAHygDEKr6IuCCz9q0NqWukEaAFnEmY4JTOkROPs4ywiguJxYffhluGOYZ3hhiHGYh7iTuLWY3Uj6iS05VUmSedSaG4pW6qaa+ltB26zb+wxcPL/9Ff2ODee+Ur7OvytfmEAFMHHA7ZFIYbHSKYKPIuJzUxOwxBskYgTFBRP1bpWkpfX2MkZ5Zqsm13cOFy73SgdvF34nhyeaF5bnnaeOR3j3bbdMlyW3CTbXNq/WY1Yx5fuloOVh1R60t7RtRA+DruNLkuXijjIU4bohTmDR8HUgCG+b7yAexU5bzeQNjj0avLnsW/vxS6obRqr3Sqw6VaoT6dcJn1lc+SAJCLjXKLt4laiF6HwoaHhq6GNocfiGiJEYsXjXmPNZJJlbOYcJx8oNWkd6lfroez7biMvmDEY8qR0OXWWt3r45LqSvEO+Nj+ogVpDCUT0hlrIOkmSC2CM5M5dj8mRZ5K20/XVJBZAF4lYvtlgGmvbIhvB3IrdPF1WXdheAh5T3k0ebh423eedgJ1CXOzcAJu+mqbZ+pj6F+aWwJXJVIGTalHEkJHPEs2JDDXKWcj3Bw6FoUPxQj9ATX7cPS07QfnbuDv2Y7TUc08x1XBobsjtuGw3qsep6aieZ6bmg2X1JPxkGiOOoxoivWI4ocuh9yG64ZbhyuIXInsitqMJI/IkcWUGJi+m7Wf+KOGqFmtb7LDt1G9FMMIySjPb9XY217i/Ois72n2Lv30A7cKcxEfGLkeOiWdK90x9DffPZhDG0ljTm1TM1iyXOhgz2RlaKhrlG4ocWFzPXW7dtp3mXj4ePV4kXjMd6h2JHVCcwRxbG57azNomGStYHRc8VcnUxtO0EhLQ5A9pDeLMUsr6CRnHs4XIhFoCqcD4/wh9mbvuugg4p7bOdX2ztvI7cIvvae3WbJKrXyo9aO4n8mbKZjdlOeRSY8GjR+LlYlriKCHNocth4WHPYhWic2Ko4zVjmKRR5SDlxOb854ho5qnWaxcsZ62GrzNwbHHw83901ra1eBp5xHux/SG+0cCCAnBD24WCB2LI/IpNzBVNkc8CUKWR+pMAFLUVmJbp1+fY0dnnWqdbUVwknKEdBl2T3cleJp4sHhkeLd3q3ZAdXZzUHHPbvVrxWhBZWxhSF3aWCRULE/zSYBE1T74OO4yuyxkJu4fXxm8EgkMTQWO/s/3F/Fr6tDjTN3k1pzQe8qFxL++LbnUs7iu3alHpfug+pxJmeqV4ZIvkNeN2os6ivmIGIiWh3WHtYdViFWJtYpyjIyOAZHPk/SWbZo3nlCitKZfq06wfbXouorAX8ZizI7S39hP39nleOwn8+D5nQBaBxEOvRRYG90hRyiQLrU0rjp5QBBGbkuQUHJVD1pjXmxiJmaNaaFsXW+/ccdzcXW+dqt3OHhleDF4nXeodlV1pHOWcS1vamxRaeRlJGIWXr1ZHFU2UBFLr0UVQEg6TTQnLt0nciHtGlMUqA3yBjcAfPnG8hvsgOX63o7YQ9IczB7GUMC0ulC1KLBAq5ymQKIvnm2a/JbfkxmRrI6ajOSKjYmUiPyHw4frh3OIW4miikiMSo6nkF2Ta5bNmYGdhKHTpWqqRq9itLu5Tb8SxQbLJNFp183dTeTj6orxPfj1/q4FYwwNE6kZLyCcJuosFDMVOec+iETxSR9PDVS4WBxdNWEAZXpooGtwbuhwBHPFdCd2K3fQdxR4+Hd8d6B2ZXXLc9VxhG/ZbNdpgGbXYt9em1oOVjxRKUzZRlBBkzunNY8vUSnyIngc5hVDD5QI3gEo+3T0yu0v56fgOdrp073NucfiwT28zrabsaas9KeIo2eflJsRmOGUCJKGj1+NlIsmihaJZogWiCaIl4hniZaKI4wNjlOQ8pLolTOZ0Zy/oPike6lDrk2zlLgUvsnDrsm/z/bVT9zE4lHp8O+c9k/9BAS2Cl8R+heCHvIkRCtzMXo3VT3+QnJIq02nUl9X0lv7X9djY2ecaoBtC3A9chN0jHWndmJ3vne6d1V3kXZude1zD3LVb0JtV2oXZ4Rjol9zW/pWPFI8Tf5Hh0LaPPw28zDCKm8k/x13F9wQMwqDA9H8IPZ4793oVOLj25DVXs9UyXXDx71OuA+zDq5OqdSko6C/nCqZ6JX6kmWQKY5IjMSKnonXiG+IaIjAiHiJj4oEjNeNBJCMkmuVoJgnnP+fI6SRqEatPLJxt+C8hcJayF3Oh9TU2j/hwudZ7v70q/tbAgoJsg9NFtYcSCOdKdEv3zXBO3NB8UY2TD5RBFaFWr5eq2JIZpRpi2wqb3FxXHPrdB1273Zid3V3KXd9dnJ1CXRCciFwpW3RaqhnLGRfYEVc4Vc3U0pOHkm4Qxw+TjhSMi8s6CWCHwQZcRLQCyYFeP7L9yTxieoA5I3dNtcA0e/KCcVTv9C5hrR4r6uqIqbioe2dRprylvGTSJH3jgGNZ4sqik2JzoiviO+Ij4mOiuyLpo28jyyS9JQSmIObRZ9Uo62nTqwxsVO2sbtFwQzHAM0d013Zvd835sXsYvMK+rUAYQcGDqEUKhueIfcnLy5DNCw65z9vRb5K0k+mVDZZfl17YSpliGiRa0VuoHChckZ0jXV3dgF3LHf3dmN2cHUedHByZnACbkVrM2jNZBZhEl3DWCxUU085SuVEWT+aOa0zly1dJwIhjhoEFGoNxgYcAHP5z/I17KvlN9/c2KLSi8yext/AU7v+teSwCqxzpyOjHp9nmwCY7ZQvksqPv40PjLyKyIkyifuIJImtiZSK2Yt7jXqP0pGDlIqX5ZqQnoqiz6ZbqyuwO7WHugvAwcWny7bR6tc/3q7kNOvK8Wv4Ev+5BVwM9RJ/GfUfUCaNLKYylzhaPutDRUllTkVT41c6XEhgCGR3Z5RqW23Lb+Fxm3P5dPl1mnbcdr92Q3ZndS50mHKlcFlus2u4aGhlyGHZXZ5ZHFVWUE9LDEaRQOI6BDX8Ls4ofyIVHJQVAg9kCL8BGvt49ODtVufg4IPaRNQozjTIbcLYvHi3U7JsrceoaKRToIucEpnslRuToZCBjryMU4tIipuJTolfic+Jn4rMi1eNPY9+kRiUCJdMmuKdxqH2pW6qKq8otGK51b58xFLKVNB71sTcKeOm6TTwzvZw/RMEswpLEdUXTB6qJOsqCjEBN8s8ZULKR/VM4lGOVvRaEV/iYmNmk2ltbPFuHHHscl90dnUudod2gnYddll1OHS5ct9wqW4cbDdp/mVzYppedFoHVlRRYEwvR8RBJjxXNlwwOyr4I5gdIBeWEP8JYAO//CD2ie//6IjiKdzm1cXPy8n8w16+9LjDs9CuHqqwpYuhsp0omu+WC5R+kUmPbo3vi86KCoqliZ+J+ImwisWLOI0HjzCRs5OMlrmZOZ0IoSOlhqkvrhqzQrikvTrDAsn1zhDVTduo4RvooO409dD7bwIMCaMPLBakHAUjSSlsL2o1PDvfQE1GhEt9UDZVq1nYXblhTGWNaHtrE25ScDdywXPtdLx1LXY+dvF1RnU8dNVyEnH0bn5ssGmOZhljVV9FW+tWTFJrTUxI80JkPaQ3uDGkK20lGB+qGCgSmAv/BGL+xvcx8ajqMOTO3YjXYtFiy4zF5b9yuja1NrB3q/umxqLdnkGb95f/lF6SFZAljpCMWYt+igKK5YknisaKxIsfjdeO6JBTkxaWLZmWnE+gVaSkqDmtEbInt3i8/sG2x5vNqdPa2Srgk+YQ7Z3zM/rNAGcH+w2EFP0aXyGnJ88t0jOsOVc/z0QQShZP3FNfWJtcjGAwZIRnhWowbYRvfnEdc2B0RXXNdfZ1wHUsdTp063I/cTlv2mwjahhnuWMLYBBcy1c/U3FOZEkdRJ4+7jgQMwkt3iaUIDAatxMuDZsGAgBr+djyT+zX5XPfKtkA0/rMHcduwfG7qrafsdKsSKgFpAugX5wCmfiVQ5PlkOCON43pi/iKZYoxiluK44rJiwyNrI6mkPqSpZWmmPmbnJ+No8inSawOsRG2ULvGwG/GRsxG0mvYr94O5YPrCPKY+C7/xAVVDN0SVhm6HwUmMSw6Mho4zj1PQ5tIrE1/UhBXW1tcXxJjd2aKaUlssW7AcHVyzXPJdGd1qHWJdQ11MnT7cmdxeG8wbZFqnGdUZLtg1VylWC1Uck94SkFF1D8zOmM0ai5MKA0isxtDFcEONQihAQ77ffT27X3nGOHM2p7Uks6vyPfCcb0guAmzMK6YqUalPaF/nRGa9JYslLqRoY/hjX6Md4vNioKKlIoFi9SL/4yHjmqQp5I7lSWYYpvvnsqi8aZeqw+wAbUuupO/LMX0yufQ/9Y43Y3j+el28AD3kP0iBLEKOBGwFxYeYySUKqEwiDZDPM5BJEdBTCBRv1UYWile72FmZYxoXmvabf1vx3E2c0h0/XRUdU116HQldAVziXGxb4Ft+GoaaOhkZWGVXXlZFVVuUIZLYUYEQXM7szXHL7UpgiMyHcsWUhDMCT4Drvwg9pvvIum84m3cO9Yr0EHKgsTzvpi5drSQr+uqiqZxoqOeJJv1lxmVlJJmkJGOGI37izuL2IrUii2L5Iv4jGmONJBZktaUqZfQmkieDqIfpniqFq/1sxG5Zb7uw6fJjM+Y1cXbD+Jy6OfuavX1+4ICDgmTDwwWchzCIvYoCS/2NLg6S0CrRdNKv09qVNJY81zJYFJkimdvav5sNm8VcZlywXONdPt0C3W9dBJ0CXOkceVvy21aa5Jod2UKYk5eSFr4VWRRj0x8RzBCrzz9NiAxGyvzJK4eURjgEWAL2ARN/sL3PvHG6l/kD97Z18TR1MsOxnbAErvltfOwQazRp6mjy586nPmYC5Zxky+RRo+3jYSMrYs0ixiLW4v6i/eMUI4EkBKSeJQ0l0Sapp1XoVOlmKkjru+y+Lc8vbXCX8g1zjTUVdqV4O7mWu3W81v65ABtB/ANaBTPGiEhWCdvLWIzLDnIPjFEY0lbThRTile6W6BfOWODZntpHmxqbl5w93E2cxd0nHTDdI10+XMIc7pxEnAQbrVrBGn/ZaliA18RW9ZWVVKSTZJIV0PmPUQ4dDJ8LGEmJyDTGWsT8wxwBur/Y/nh8mrsAuaw33fZXdNozZvH+8GNvFW3V7KYrRup5KT2oFSdAZoAl1SU/ZH/j1uOEo0ljJWLY4uOixaM+4w9jtqP0JEflMWWvpkKnaWgjaS+qDSt7rHlthe8gMEbx+PM1NLq2B7fbeXR60XyxfhJ/84FTwzFEi0ZgB+6JdYrzjGfN0M9tULyR/VMu1E/Vn1ac14eYnllg2g6a5ptom9RcaVynXM4dHZ0V3TacwBzy3E5cE5uC2xxaYJmQmOxX9RbrldBU5FOo0l5RBk/hjnFM9otyyecIVIb8hSCDgYIhAEB+4L0DO6k51DhFNv31PzOKMmAwwm+x7i+s/OuaKoipiSicZ4Nm/qXOpXQkr2QBI+ljaKM/Iuzi8aLOIwFjTCOtY+UkcyTW5Y+mXSc+p/Mo+mnTKzysNe1+LpQwNvFlct50YHXq93w40vqt/Aw97D9MASuCiQRjBfgHR0kPCo6MBE2vDs4QX9GjktgUPFUPllEXf5ga2SIZ1FqxWzibqZwD3Idc89zI3QbdLZz83LVcVtwh25bbNhpAGfVY1pgklyAWCdUik+uSpZFRkDDOhE1NC8xKQ0jzhx3Fg8QmQkcA578Ifas70Xp8OKy3JDWkNC2ygfFh787uie1T7C3q2OnVaOSnx2c95gllqeTgJGyjz6OJY1ojAiMBYxfjBWNKI6Wj16Rf5P3lcSY5JtUnxGjGadoq/uvzrTduSW/oMRLyiHQHdY73HbiyOgs7571GPyVAhAJhA/rFUEcgCKjKKUugjQ1Ork/CkUkSgJPoVP8VxFc3F9aY4hmZGnsax1u9m90cZhyYHPMc9pzjHPhctlxd3C6bqVsOWp3Z2Jk/WBKXU1ZCFV+ULVLrkZvQfw7WDaJMJMqeyRGHvkXmBEqC7IEOP6/90zx5eqP5E/eKtgl0kXMj8YGwbG7krausQmtpqiKpLegMJ35mRSXgpRHkmSQ246sjdmMYoxJjIuMK40mjn2PLpE4k5mVUJhZm7OeXKJPpoqqCa/Ks8i4/r1qwwbJzs691M/a/+BH56TtD/SD+vsAcwflDUwUohrjIAknEC3zMq04Oj6UQ7hIok1OUrdW21q2XkVihWV0aA5rU21Bb9VwDnLscm5zlHNcc8hy2HGNcOhu6WyUauhn6mSbYf1dFFrjVW1RtkzBR5NCMD2bN9sx8ivmJbsfdxkfE7gMRgbR/1v56vKE7C3m69/D2brT1M0XyIfCKL3+tw+zXa7sqcGl3qFHnv6aBphilROTG5F9jzmOUI3CjJKMvoxGjSqOao8EkfeSQZXhl9SaGZ6soYqlsakdrsuyt7fcvDjCxcd+zWHTZ9mM38vlHuyC8vD4ZP/YBUgMrRIEGUcfcCV7K2QxJDe5PBxCS0dATPhQb1WiWY1dLGF+ZH9nLWqGbIduMHB/cXNyDHNIcydzqnLRcZ1wD28obelqVGhsZTJiql7WWrlWV1KyTdBIs0NfPto4KDNMLUwnLSHzGqMUQw7YB2cB9fqH9CHuy+eH4V3bT9Vkz6DJCMSgvmy5crSzrzWr/KYJo2GfB5z9mEaW45PXkSSQyo7LjSiN4Iz2jGeNNI5dj9+Qu5LvlHiXVZqEnQGhy6TeqDat0bGrtr+7CsGIxjPMCNIC2BzeUeSc6vjwYPfP/T8ErAoQEWcXqx3XI+Yp0y+bNTc7o0DcRdxKoU8lVGZYYFwQYHNjhmZHabNryW2Hb+tw9XGkcvZy7HKHcsVxqHAxb2BtOGu6aOhlxWJSX5Jbilc7U6lO2UnNRIo/FTpwNKIuryibImscJBbMD2cJ+wKN/CL2vu9n6SPj9tzl1vXQK8uLxRrA3LrWtQyxgaw5qDekf6AUnfiZLpe4lJiSz5Bgj0yOko00jTONjY1DjlWPwZCFkqKUFZfcmfWcXaASpBCoVazdsKS1p7riv1DF7cq00KHWsNza4hzpce/S9Tz8pwIRCXQPyxUQHD4iUShDLhA0tDkpP2tEdklHTthSKFcxW/FeZWKJZV1o3WoGbdluU3BycTdyn3Kscl1ys3GtcE1vk22CaxppX2ZRY/NfSVxVWBpUm0/dSuNFsUBKO7U19C8NKgUk3x2iF1IR9AqNBCT+u/dZ8QPrvuSP3nrYhdK1zA7HlcFOvD23Z7LPrXmpaKWgoSSe9poamJCVXZOAkfyP0Y4Cjo6Ndo25jViOU4+nkFWSW5S4lmiZa5y+n16jSKd5q+6vo7SUub6+HMSqyWTPRdVH22fhoOfs7Uf0qvoRAXkH2g0vFHUapSC7JrIshTIwOK09+UIPSOtMiVHmVf5Zzl1TYYlkb2cCaj9sJm61b+pwxHFDcmdyL3KbcaxwY2/AbcZrdWnPZthjkGD6XBtZ81SIUNxL80bSQXw89TZCMWgrbCVRHx0Z1RJ+DB0Guf9T+fPynuxY5ifgD9oW1EHOk8gRw8G9prjEsx+vvKqcpsWiOJ/5mwqZbZYmlDWSnJBcj3eO7Y2+jeuNc45Wj5SQK5IalGCW+pjnmySfr6KFpqKqBK+ms4a4n73twmzIGM7s0+LZ+N8n5mrsvvIc+X//4QVADJUS2xgNHyYlISv6MKs2MDyFQaVGjUs4UKJUyVioXD1ghWN9ZiJpdGtvbRJvXXBNceJxHHL7cX5xpnBzb+htBGzKaTtnWWQmYaZd21nHVW9R1kz/R+9CqD0xOIwyvyzPJr8glRpVFAYOqwdKAen6jPQ37vHnv+Gk26fVzM8Yyo/ENr8QuiO1crABrNOn7KNPoP+c/plPl/SU7pJBkeyP8Y5QjguOIo6TjmCPhpAHkt+TDpaSmGmbkZ4Gosel0akfrq+yfbeFvMPBM8fQzJfSgdiM3rHk7Oo48Y/37f1MBKkK/BBCF3YdkSOQKW4vJTWyOhBAOkUsSuROW1OQV39bJF99YodlP2ikarNsa27Lb9BwfHHMccFxW3GacH5vCW48bBlqoGfUZLdhTF6VWpZWUlLLTQZJB0TRPmg50jMSLi4oKSIJHNIViw82CdsCfvwj9tDviulW4zndONdY0Z7LDcarwHy7hLbHsUmtDakXpWqhCJ72mjSYxpWsk+qRgJBwj7qOXo5ejrmObo9+kOiRqZPClTCY8ZoDnmOhD6UEqT+tvbF5tm+7ncD+xY3LRtEk1yPdPuNw6bTvBfZe/LkCEglkD6oV3xv8If8n4S2fMzM5mT7NQ8pIjU0SUlVWU1oIXnJhjWRYZ9Bp82u/bTRvT3AQcXZxgnEycYhwg28lbm9sYmr/Z0plQmLtXktbYFcuU7tOCEoaRfQ/mzoUNWEviSmQI3odTRcNEb8KaQQQ/rj3Z/Eh6+3kzt7K2OXSJM2NxyPC6rzntx6zk65KqkWmiKIWn/GbHZmclm+UmJIakfSPKI+2jqCO5I6Dj3yQz5F6k3yV05d+mnqdxaBdpD6oZazPsHm1X7p8v83ETcr5z8vVvtvP4ffnM+5+9NH6JwF+B84NExRIGmggbiZVLBgyszchPV9CZkc1TMdQF1UjWehcY2CPY2xm92guaw9tmG7Ib59wHHE9cQRxcXCDbzxunGylallouWXIYodf+lsjWAZUpU8ESyhGE0HKO1E2rDDhKvMk6B7EGIwSRQz1BaH/TPn98rjsg+Zi4FvactSszg3Jm8NZvky5eLTgr4mrdaepoyag8ZwLmnaXNpVLk7iRfZCbjxSP544Vj52Pf5C7kU+TO5V8lxGa95wtoLCjfaeQq+ivf7RTuWC+ocMSybDOddRd2mPggua27PnyRvmZ/+sFOQx9ErMY1B7dJMgqkTAyNqg770ABRttKeU/XU/FXxltQX45ifWUbaGVqWmz3bT1vKXC8cPRw0XBUcH1vTG7EbONqrmgkZkhjHWClXOJY2FSKUPxLMUctQvQ8ijfzMTQsUyZSIDgaCBTJDX8HLgHe+pH0Te4Y6Pbh7Nv/1TPQjsoUxcq/s7rTtS+xy6ypqM2kOqH0nfyaVZgBlgOUW5ILkRSQdo8zj0uPvI+IkK2RK5MAlSuXqZl6nJufCKPBpsGqBa+Ks0y4SL15wtzHa80j0//Y+t4Q5TvrdvG+9wv+WgSlCugQHhdBHUwjOykJL7E0Ljp9P5lEfkkoTpNSvFagWjpeiWGKZDpnl2mga1JtrW6ub1dwpXCYcDJwcW9YbuVsHGv8aIhmwmOtYEldm1mlVWtR70w1SEJDGT6+ODYzhC2uJ7khqBuCFUoPBgm7Am78JPbi76zpieN83YzXu9EQzI/GPMEbvDG3gbIPrt+p9KVSovue8Zs4mdGWv5QCk52RkZDej4WPho/hj5aQpZEMk8qU35ZHmQKcDp9mogqm9qknrpqySrc1vFbBqcYrzNXRpdeV3aHjw+n37zf2gPzKAhMJVQ+KFa4buyGuJ4AtLjOzOAs+MEMgSNZMTlGFVXdZIV2BYJNjVWbGaOJqqGwYbi9v7G9QcFpwCnBgb11uAW1Oa0Vp52Y3ZDdh6F1PWm1WRlLcTTVJU0Q6P+45dDTQLgYpHCMWHfgWyBCLCkUE/f2193XxQOsb5Q3fGdlE05PNCsivwoW9kLjUs1avGKsfp22jBaDqnB+apZd/la6TNZITkUuQ3I/HjwyQqpCikfOSm5SZluuYkZuGnsqhWaUxqU+tr7FNtie7OMB8xe7KjNBP1jPcNeJO6HrutPT3+j0BgwfCDfcTHBorICEm+CusMTg3lzzGQcBGgUsGUEpUS1gFXHVfmGJtZfBnH2r6a35tqm59b/dvF3Ddb0pvXW4YbXtriGlBZ6Zku2GCXv1aL1cbU8VOL0peRVZAGjuuNRgwWyp8JIAebBhEEg0MzQWJ/0X5BvPS7K3mneCm2szUFs+HySPE8L7xuSq1n7BUrEyoi6QSoeadCZt9mESWX5TRkpuRvZA4kA2QO5DEkKWR35JxlFiWlZgkmwSeM6GupHKofKzJsFW1Hroev1LEtslGz/3U1trM4NzmAO0z83D5sv/0BTEMZRKKGJselCRvKigwuzUiO1pAXkUqSrtODVMcV+VaZV6aYYBkFmdYaUdr32wgbglvmG/Ob6tvLm9XbiltomvGaZRnEGU6YhZfplvsV+xTqE8lS2VGbUFBPOQ2WzGrK9gl5x/cGbwTjQ1TBxMB0/qX9GPuPugs4jLcVdaa0ATLmcVdwFS7grbrsZOtfKmspSSi5574m1mZDZcUlXKTJ5IzkZmQWJBxkOKQrpHRkkyUHpZEmL2aiJ2ioAikuKeuq+ivYrQZuQm+LcODyATOrtN72WffbeWJ67Tx6/cp/mcEogrUEPkWDB0HI+YopS49NKw57D76Q9JIb03NUepVw1lTXZhgkGM3Zo1oj2o8bJJtj240b4Bvc28Mb0xuNG3Ea/5p4md0ZbRipV9JXKRYt1SGUBVMZ0eAQmM9FjibMvgsMSdKIUkbMhUKD9YImwJf/CX29O/P6bvjv93e1x7SgswPx8vBuLzbtzmz066vqtCmOKPqn+qcOZral86VGJS4kq+R/5CokKuQB5G7kcmSLZTolfmXXJoRnRagZ6MDp+aqDa91sxq4+bwNwlPHx8xj0iXYBt4C5BTqOPBp9qH82wIUCUUPahV9G3shXScgLb8yNTh+PZVCd0cgTItQtlSdWD1ckl+bYlVlvmfTaZRr/mwRbsxuLW82b+VuPG46beBrMGoraNJlKGMuYOdcVll9VV9RAU1kSI5DgT5DOdYzQC6FKKoisxylFoUQVwoiBOr9s/eC8V7rSuVL32fZotMAzofIOsMevje5ibQXsOWr96dQpPKg4J0dm6uYjJbClE2TMJJrkf6Q65Awkc+RxpIUlLmVs5cBmqCckJ/MolOmIqo2royyH7ftu/HAKMaOyx3R0tan3Jnio+i/7un0HPtSAYcHtw3bE+8Z7x/UJZwrQDG9Ng48LkEbRs9KR09/U3RXI1uJXqRhb2TrZhNp6GpmbI5tXm7VbvNuuW4mbjpt92tdam5oK2aWY7Jgf10CWj1WM1LnTVxJl0SbP2s6DTWFL9YpBiQZHhQY/BHWC6YFcv8/+RDz7OzY5tfg8Nom1X/P/8mrxIW/lLrbtV2xHq0hqWql/KHangWcgZlOl3CV6JO1ktuRWZEwkV+R6JHIkgCUj5Vzl6uZNZwPnzaiqaVkqWWtqLEptua62r8CxVnK2s+D1U3bNeE150ntbPOZ+cv//AUqDE0SYhhjHkwkFyrBL0Q1nTrGP71EfEkATkVSSVYHWn1dqGCFYxNmT2g3asprBm3rbXhurG6HbgpuNW0IbIRqq2h+Zv9jMGESXqpa+VYCU8hOUEqbRbBAkDtANsUwJCtfJX0fgRlxE1INKAf4AMn6nPR57mXoY+J53KvW/9B4yxzG7sDzuy+3pbJZrk6qiKYKo9ef8ZxamhWYI5aGlECTUJK5kXqRlJEGktCS8pNqlTiXWpnPm5OepqEEpayomazJsDm15LnIvuDDKMmczjfU9tnT38rl1evx8Rj4Rf5zBJ4KwBDVFtgcwyKSKEEuyzMrOV0+XUMnSLdMCVEaVedYbVypX5hiN2WGZ4FpKGt5bHNtFW5fblBu6W0qbRNspmrjaMxmYmSoYaBeTFuvV8tTpE8+S5tGwEGwPG83AjJtLLQm3SDrGuMUyw6nCH0CUfwn9gXw8enu4wHeMNh/0vLMj8dZwlS9hbjvs5avfquppxyk2KDhnTib4JjbliqVz5PLkh6SyZHNkSmS3ZLpk0yVBJcQmW6bHp4boWWk+KfSq++vTbTnuLq9wsL7x2HN8NKj2HXeYuRl6nnwmvbC/OwCFAk1D0oVTRs7IQ0nwSxQMrg38jz7QdBGa0vKT+lTxVdaW6ZepmFYZLlmyGiCauhr9myubQ1uFG7DbRptGWzCahVpFGfAZBtiKF/oW19Yj1R7UCdMlkfLQss9mTg6M7ItBig5IlEcUhZCECUK/wPX/bH3kPF863jlid+12f/Tbc4CycTDtr7cuTu11rCwrM2oMKXcodSeGZyvmZeX0pVjlEqTiJIekgySUpLwkuaTMpXUlsqYE5utnZagy6NKpxGrG69ms++3sbypwdPGK8ys0VPXGt394vfoBO8e9UH7ZgGLB6sNvxPDGbMfiSVBK9YwRDaGO5hAd0UeSolOtlKgVkRaoF2xYHRj6GUKaNhpUmt1bEFttm3TbZhtBG0abNhqQmlWZxhliWKrX4BcC1lOVU1RC02MSNJD4j6/OW809C5TKZIjtB2/F7YRnwt/BVz/OPka8wbtAucR4TrbgNXoz3fKMcUawDa7irYYsuWt9KlIpuSiy5//nIKaV5h/lvuUzpP3kneSUJKAkgiT6JMelaqWi5i+mkOdFqA3o6KmVKpMroSy+7asu5TAr8X5ym3QB9bD25vhjOeR7aTzwfnj/wUGIgw1EjoYKx4EJMApWi/PNBk6ND8dRM5IRk1/UXdVK1mXXLhfjWITZUhnKWm3au9r0GxabYxtZ23qbBVs6mppaZNna2XxYihgEV2xWQhWGlLrTX1J1ET0P+E6nzUxMJ0q6CQUHygZJxMYDf0G3gC++qL0j+6L6JnivtwB12TR7Muexn/Bkbzat12zHa8eq2On76PFoOidWZsbmTCXmJVWlGuT1pKZkrSSJpPwkxCVhpZQmG6a3Zycn6ii/qWdqYGtqLENtq26hb+QxMvJMc+/1G/aPeAl5iHsLfJE+GL+fwSaCqwQsRakHH8iPyjeLVkzqjjOPcBCfUcATEdQTFQPWIpbvF6iYTpkgWZ2aBhqZGtabPlsQW0xbclsC2z1aoppy2e4ZVNjn2CeXVFavFbiUsVOaUrRRQJB/jvKNmsx5Cs5JnEgjhqWFI0OeQheAkP8KfYY8BPqIORD3oHY4NJizQ3I5cLuvSy5o7RXsEqsgaj+pMOh1Z40nOSZ5Zc6luSU45M6k+eS7JJJk/yTB5VnlhyYJJp9nCefHqJgpeyovKzQsCO1srl5vnXDocj6zXvTH9nj3sDktOq58Mr24vz8AhQJJQ8qFR0b+yC+JmIs4zE7N2c8Y0EqRrlKC08fU+9Welq8XbNgXWO3Zb9ndGnUat9rk2zwbPZspGz7a/xqp2n9Z/9lsGMRYSVe7FprV6RTmk9QS8pGC0IXPfI3oDImLYgnyiHxGwEWABDzCd0Dxf2u957xmuum5cffAtpc1NnOfclNxE2/gLrstZOxea2iqQ+mxaLFnxOdsJqfmOCWdpVhlKKTOpMqk3GTD5QDlU2W7JffmSOct56aocikP6j8q/2vPrS8uHO9X8J8x8fMOtLT14vdX+NK6UfvUvVl+3oBjwefDaMTlxl3Hz0l5ipsMMs1/zoEQNVEb0nOTe5RzVVnWblcwV98YuhkA2fLaEBqX2sobJpstWx5bOZr/Wq9aSloQmYIZH5hpl6CWxVYYlRqUDJMvUcPQys+FTnRM2Qu0igfI1AdahdxEWoLWQVG/zL5JPMg7SznS+GD29jVUNDtyrbFrcDWuze30rKrrsWqJKfKo7qg9p2Bm1yZipcMluOUEJSTk22TnpMmlAWVOZbDl5+ZzptNnhuhNaSYp0KrMK9es8u3cbxNwVvGl8v+0IrWN9wB4uPn2O3c8+n5+/8MBhoMHRISGPMdvSNpKfQuWjSWOaM+fkMjSI5Mu1CoVFFYs1vLXpdhFWRDZh9op2naarhrP2xwbElszGv4as9pUGh+Zlpk5mEiXxNculgaVTVREE2sSA9EOz80Ov80ny8ZKnEkrR7PGN4S3gzUBsQAtPqo9KXusejO4gTdVdfH0V/MH8cOwi69hLgTtN+v7Ks7qNKksaHcnlacH5o5mKeWapWClPCTtZPRk0OUDJUrlp6XZZl/m+mdoqCno/amjKpnroSy3rZzuz/APsVsysXPRdXn2qbgf+Zs7GnycPh+/osElgqYEI0WcBw8IuwnfS3oMis4QT0mQtVGTEuGT4BTOFepWtJdr2A/Y39lbmcJaVFqQ2vfayVsFGysa+5q22lyaLZmp2RHYplfnlxZWcxV+1HoTZZJCkVGQE47KDbVMFwrwCUGIDIaSRRQDkwIQQI1/Cv2KvA16lHkhN7S2D/T0c2KyHDDh77TuVa1FrEVrVap3aWsosefLp3lmu2YR5f1lfmUUpQClAiUZZQZlSGWf5cxmTWbip0uoB6jWabcqaStrrH3tXu6Nr8mxEXJkc4E1JrZT98e5QPr+PD59gL9DAMUCRUPChXtGrwgbyYELHYxwDbeO8xAhUUHSk5OVlIbVpxZ1VzDX2Rit2S4Zmhow2nKantr1Wvaa4hr32rhaY5o52buZKRiCmAkXfNZela8UrtOe0oARkxBZTxMNwgymywLJ1shkRuxFb8PwQm7A7T9rfet8bjr1OUF4E/auNRDz/bJ1MTivyO7m7ZPskCudKrspqujtaAKnq+bpJnrl4aWdZW6lFSURZSNlCqVHpZmlwKZ8Jownb+fm6LCpTGp5qzdsBS1h7kyvhLDI8hgzcfSUdj73cDjnOmK74X1iPuOAZMHkg2HE2sZOx/zJIwqAzBUNXk6cD80RMFIFE0pUfxUjFjUW9NehmHqY/9lwWcwaUtqEWuBa5prXmvLauJppWgUZzBl+2J2YKVdiFojV3dTiU9cS/FGTkJ2PW04NjPXLVIoriLuHBYXLBE1CzQFMf8t+S7zOu1V54ThzNsx1rfQY8s5xj7Bdbzjt4qzb6+Uq/2nraSmoeuefZxgmpSYGpf1lSaVq5SHlLmUQZUfllKX2JixmtycVp8dojCli6gtrBGwNrSYuDK9A8IFxzTMjdEL16rcZuI56B7uE/QQ+hIAFAYRDAUS6he8HXYjEymPLuYzFDkTPuFCeUfXS/lP21N5V9Fa4F2kYBpjQWUXZ5loyGmjaidrVmsva7Fq3mm3aDtnbGVMY91gIF4XW8ZXLlRTUDdM3kdMQ4M+iTlhNA4vlin9I0ceeBiWEqUMqwaqAKv6r/S87tboBONJ3anXKtLQzJ/HnMLJvSy5yLSgsLesEqmypZuiz59PnR+bQJm0l3uWlpUHlc6U65RelSaWQ5e0mHiajZzynqSho6Tqp3mrS69ds623N7z4wOvFDMtY0MrVXdsO4djmtuyj8pv4mf6XBJIKhBBpFj0c+SGaJxwteTKtN7U8jEEvRplKx062UmNWylnpXL5fRmJ/ZGhm/mdBaS9qyWoMa/pqkmrVacNoXGejZZljPmGWXqJbZFjfVBdRDU3GSEREjD+hOoc1QjDWKkglnB/XGf0TFA4fCCQCKPwu9jzwV+qD5MXeItmf0z/OB8n7wx+/d7oHttOx3a0pqrumk6O2oCae45vxmVGYBZcMlmiVGpUilX+VMpY5l5WYQ5pDnJOeMaEbpE+nyqqJromyyLZBu/G/1cToySbPi9QU2rrfeuVQ6zbxKPch/RsDEwkFD+oUvhp9ICEmpysKMUY2VTs2QOJEWEmSTY9RSlXAWO9b1V5uYbljtGVeZ7Vot2llar5qwWpuasZpymh5Z9Vl4GOaYQZfJlz9WIxV1lHfTalJOEWQQLQ7qTZxMRIskCbvIDMbYhWAD5EJmwOi/av3u/HW6wHmQeCb2hPVrc9vylvFdsDEu0m3CbMGr0SrxqePpKGh/56rnKea9JiTl4aWzpVrlV6VppVDljWXe5gUmv+bOp7DoJmjuaYgqsytu7HntU+6777Ew8jI+c1R087Yad4g5O3pzO+39av7oQGXB4YNaxNAGQAfqCQzKpsv3TT1Od4+lUMVSFxMZVAuVLNX8lroXZJg72L9ZLpmJGg7af1pamqCakVqsmnLaJBnAWYhZPBhcV+mXJBZM1aQUqtOh0ooRpBBwzzGN50ySy3UJz4ijBzDFukQAAsPBRv/J/k581Ttf+e94RTciNYd0dfLvMbOwRO9jbhBtDGwYazVqI6lkKLdn3edYJuamSaYBZc5lsGVn5XRlVmWNpdnmOuZwJvmnVugHKMopnypFa3xsAy1Y7nyvbfCrMfPzBvSi9cc3cnijehk7kn0N/opABsGCQztEcIXhR0vI74oKy50M5M4hT1FQtBGI0s5Tw9To1bxWfdcs18hYkFkEWaPZ7lokGkSaj9qF2qZacdooWcoZl1kQmLXXyBdHlrUVkVTck9gSxJHi0LOPeA4xDN/LhUpiSPiHSIYTxJuDIIGkgCi+rX00u786Dnjjd39143SQc0eyCjDY77TuXu1XrGBreapkKaCo76gR54enEWavZiJl6iWHJbllQKWdZY8l1iYxpmHm5id+J+lopyl3ahjrCywNbR6uPm8rsGVxqrL6NBM1tLbdeEw5//s3fLF+LP+ogSNCnAQRhYJHLchSSe7LAoyMDcqPPRAikXnSQpO7lGQVe1YA1zQXlBhgmNkZfVmNGgeabVp92njaXtpvmiuZ0pmlGSNYjhglV2nWnFX9VM1UDVM+EeBQ9Q+9TnoNLAvUirSJDQffhmzE9gN8wcHAhr8MPZO8HjqtOQG33LZ/dOszoLJhMS1vxq7t7aOsqSu+6qWp3iko6Ebn9+c9JpZmRGYHJd8ljCWOJaWlkiXTpinmVObT52anzKiFqVCqLWrbK9js5e3BbyqwILFiMq6zxHVjNok4NblnOtz8Vb3P/0qAxMJ9A7KFI8aPiDUJUsrnzDMNc46oT9BRKpI2UzFUHBU11f3Ws1dWWCWYoRkImZtZ2VoCWlZaVVp/GhPaE5n+2VWZGFiHWCMXbFajlckVHhQi0xiSP9DZz+cOqI1fjA1K8klPyCcGuUUHg9LCXIDmP2/9+7xKOx05tTgT9vn1aLQhMuQxsvBOL3cuLm007AurcuprabYo02hDp8dnXubK5osmYCYJ5ghmG+YD5kCmkeb3JzBnvOgcaM5pkmpnqw1sAy0H7hrvO3AocWDyo/PwdQW2ojfE+W06mXwIfbl+6oBbgcrDd0SgBgNHoIj2igRLiEzCDjCPEpBnUW4SZdNOFGXVLFXhVoQXVBfRGHpYj5kQ2X3ZVlmaGYmZpJlrGR2Y/BhHGD7XY9b2ljeVZ1SG09aS11HJ0O8Ph86VDVfMEQrByasIDcbrhUUEG0KwAQQ/2D5t/MY7ojoDOOo3WDYONM2zlvJrcQwwOa707f7s2CwBa3uqRynkaRQolugsp5YnU2ckpsomw+bRpvOm6ecz51GnwqhGqN0pRao/6orrpmxRbUsuUy9oMEmxtrKuM+81OLZJd+D5PXpee8J9aH6PADXBWwL+BB1Ft8bMyFrJoMreDBFNec5Wj6bQqVGdkoLTmFRdlRGV89ZEVwIXrRfE2EjYuViWGN6Y01j0WIFYutgg1/OXc9bh1n3ViFUCVGwTRlKR0Y+Qv89kDnzNCwwQCsxJgQhvhtiFvUQewv4BXIA7fpr9fPvieow5e7fxtq91dbQFsyAxxjD4b7fuhW3hrM1sCWtV6rOp4ylk6PloYKgbJ+jnime/Z0gnpGeUZ9doLehW6NKpYGn/6nBrMavC7ONtkm6Pb5lwr7GRMv0z8nUwdnX3gbkS+mi7gb0c/nk/lUEwgkmD34UxRn2Hg4kCCngLZMyHTd6O6c/oENiR+tKN05EUQ9Ul1bYWNNahFzqXQZf1V9WYItgcmAMYFlfWl4PXXlbm1l1VwlVWVJoTzdMykgiRURBMj3wOIA05y8pK0gmSSExHAIXwhF0DB0HwQFl/Az3u/F27EHnIeIa3S/YZdO/zkLK8MXOwd29I7qhtlqzUbCJrQOrwajGphOlqKOIorOhKqHtoPygV6H+ofGiLqS0pYOnmKnyq5CubrGLtOO3drs+vzrDZ8fAy0LQ6tS02ZzenuO26ODtGPNZ+KD95wIsCGkNmxK+F80cwyGfJlor8i9jNKk4wjypQFtE10cYSxxO4lBmU6dVo1dZWcZa61vGXFZdm12VXUVdqVzDW5RaHVleV1lVEFOFULpNsUpsR+9DO0BVPD84/DOQL/8qTCZ6IY8cjhd6ElgNLAj7Asn9mPhu80/uPulB5Fvfj9ri1VjR9My5yKvEzsAjva+5c7Zzs7GwL67vq/KpO6jKpqKlwaQqpN2j2qMgpLCkiqWrphSoxKm4q/CtabAisxe2SLmxvE/AIMQgyE3MotAd1brZdN5J4zToMu098lT3cPyNAaoGwAvMEMoVthqMH0gk5ihiLbox6TXsOcA9YkHPRARI/0q+TT5QfVJ6VDNWplfTWLhZVlqrWrdaelr1WShZFFi5VhlVNFMOUaZOAEwdSQFGrEIjP2c7fDdmMycvwio8Jpgh2hwFGB4TKA4nCSAEGP8P+g31FPAo607mieHd3E7Y39OVz3LLesevwxbAsLyBuYu20LNTsRWvGK1eq+ipuKjNpyqnzaa5puumZqcnqC+pfKoNrOGt+K9NsuG0sbe6uvu9b8EWxevI7MwV0WPV09lg3gjjx+eY7HjxY/ZU+0gAPAUrChEP6xOzGGcdAyKDJuMqIS84MyU35Tp2PtRB/UTtR6RKH01bT1hRE1OLVL9VrlZXV7tX2FeuVz5XiVaOVU5UzFIHUQFPvEw7Sn5HiERbQfs9aTqqNr4yqy5zKhomoyERHWkYrhPkDg4KMgVSAHP7mPbF8f7sR+ik4xjfp9pV1iXSG845yoPG+8Klv4O8l7nltm20M7I3sHuuAa3Kq9eqJ6q9qZipuakeqsmqt6vprF6uE7AJsjy0rbZXuTq8Ur+fwhvGxsmczZnRu9X+2V/e2+Jt5xLsxvCG9U36Gf/jA6oIag0fEsQWVhvRHzMkdiiZLJcwbTQZOJg75j4BQudElUcJSkFMPE75T3RRrlKmU1pUy1T3VOBUhFTlUwNT3lF3UNFO60zISmpI0UUCQ/w/xDxcOcc1BjIfLhIq5SWaITUduRgqFIsP4QovBngBwvwO+GLzwO4t6qzlQeHv3LrYpdSz0OnMR8nSxYzCeL+ZvO+5frdItU6zkrEVsNiu3a0kra2seayIrNqsbq1Frl2vtbBNsiO0NraDuAm7xr24wNzDMMexylzOLtIl1jzacd7A4ibnn+so8L30Wvn8/Z4CPgfXC2YQ5xRXGbId9CEaJiIqBi7GMVw1yDgFPBI/60GQRP1GMEkpS+VMY06iT6FQX1HcURdSEFLIUT5Rc1BnTxxOk0zMSspIjkYZRG9BkD6AO0A41DQ+MYEtoCmeJX8hRh32GJIUHxCgCxgHiwL9/XH56/Rv8ADsoedX4yTfDdsU1zzTiM/9y5vIZsVhwo6/77yGulW4XrajtCSz4rHgsB6wm69Zr1ivl68XsNew1rEUs4+0RrY5uGS6x7xfvyvCKMVUyKzLLc/V0qDWjNqV3rni8+ZB65/vCfR8+PT8bQHlBVgKwQ4eE2sXpRvIH9AjvCeGKy0vrjIGNjI5Lzz8PpVB+kMoRh1I2ElXS5pMoE1mTu5ON09ATwlPk07fTetMu0tOSqVIwkaoRFZCzz8WPS06FTfRM2Uw0iwcKUUlUiFEHR8Z5xSfEEoM7AeJAyT/wPph9gryv+2D6VrlSOFO3XHZtNUZ0qPOVsszyD7FeMLkv4S9Wbtmuay3LLbotOCzFbOIsjmyKbJXssOybbNUtHi12LZyuEW6T7yQvgXBq8OCxobJtswO0IzTLdfu2szexOLT5vbqKO9o87H3//tQAKAE7AgwDWkRkxWrGa4dmCFnJRcppSwPMFMzbDZZORg8pj4BQShDGUXSRlJImEmiSnFLAkxXTG9MSUzmS0ZLakpTSQFIdUayRLdCh0AkPpA7zDjbNcAyfC8TLIco2yQSIS8dNhkpFQsR4QytCHMENgD7+8L3kfNr71LrS+dZ437fvdsb2JnUOtECzvLKDchVxc3Cd8BUvma8rrouuei327YJtnO1GLX6tBi1cbUHtti247couaW6WrxFvmTAtsI4xenHx8rPzf/QU9TK12HbFd/i4sbmvurG7tvy+vYf+0j/bwOUB7ILxg/NE8MXphtxHyMjuCYtKoAtrjC0M5A2QDnCOxM+MkAeQtRDU0WaRqlHfkgYSXhJnUmHSTZJq0jlR+ZGrkU+RJhCvUCuPm08/TleN5M0nzGDLkMr4CdfJMAgCB05GVcVZBFlDVsJSgU2ASL9EfkF9QTxD+0p6Vflm+H43XHaCdfC05/Qos3PyifIrMVgw0XBXb+pvSq84rrSufq4XLj2t8u32rciuKS4X7lTun674Lx4vkTAQsJyxNHGXskWzPfO/9Er1XnY5ttv3xLjzOaZ6nbuYfJW9lL6Uv5SAlAGSAo3DhsS7xWwGV0d8SBqJMUnACsYLgox1TN1Nuo4MDtGPSs/3UBaQqNDtESPRTFGm0bMRsVGhUYMRltFc0RUQwBCdkC5Pss8qzpeOOM1PjNwMHstYyoqJ9EjXSDPHCoZcxWqEdQN9AkNBiECNf5L+mb2ifK47vXqROen4yLgttxo2TrWLdNF0ITN68p+yD7GLMRLwpvAH7/XvcS86LtCu9O6nLqdutW6RLvru8i8270iv57ATMIrxDrGdsjfynLNLdAO0xLWONl83NzfVePk5ofqOu778cb1mflx/UgBHwXxCLwMexAtFM0XWhvQHi0ibiWQKJErby4nMbczHTZXOGQ6QTzuPWk/sUDEQaNCTEO/Q/xDAkTRQ2tDzkL8QfVAuj9MPq083TreOLM2WzTbMTIvZSx0KWMmMyPoH4QcCRl7Fd0RMQ56CrwG+QI1/3L7s/f7803wrewd6aHlOeLr3rfbotis1dnSK9CjzUXLEckJxzDFhsMNwsbAsb/RviW+rr1svWC9ib3nvXq+Qr89wGvBzMJdxB3GDMgnym3M3M5y0SzUCdcH2iLdWeCp4w7nh+oR7qjxSvX0+KP8UgACBK4HUwvvDn0S/RVpGcEcASAnIzAmGiniK4cuBjFdM4o1jDdhOQg7fzzFPdo+vD9rQOZALEE/QR1Bx0A9QIA/kD5uPRs8mDrmOAc3/DTIMmsw5y0/K3UojCWEImIfJxzWGHIV/RF7Du0KWAe9AyAAhfzs+Fr10PFT7uXqiOdA5A7h9t362hzYX9XE0k7Q/83Yy9zJC8hoxvPErsOZwrbBBcGGwDvAI8A+wIzADMHAwaXCu8MBxXbGGcjoyePLB85S0MTSWdUQ2Oba2d3n4A7kSuea6vrtaPHh9GL46Ptx//kCfwb+CXUN4RA+FIsXxBrnHfEg4COyJmQp9StiLqkwyDK/NIs2KzidOeE69TvZPI09Dj5ePnw+aD4hPqk9AD0mPBw74jl6OOY2JjU7Mygx7i6OLAwqaCelJMUhyx65G5EYVhUKErEOTQvgB24E+QCF/RL6pfZA8+bvmuxe6TTmIOMk4ELdfNrV10/V69Kt0JTOpMzdykHJ0cePxnvFlsThw1zDCMPlwvPCMsOhw0HEEcUQxj3Hl8gdys/Lqs2sz9XRI9ST1iXZ1Nug3ofhheSY57/q9u068Yr04/dB+6L+AwJiBbwIDwxXD5MSvhXYGN0byx6gIVkk9SZxKcsrAS4SMP0xvjNWNcM2AzgXOfw5szo6O5I7ujuyO3o7Ezt8Orc5wzijN1U23TQ6M28xfS9kLSgryihMJq8j9iAkHjkbOhgoFQUS1Q6aC1YIDAW+AXH+Jfvd9530ZvE87iHrF+gh5UHiet/N3D3azNd71U7TRNFhz6TNEcynymnJVshxx7nGL8bTxafFqcXaxTnGx8aCx2vIf8nAyivMv817z13RZdOQ1dzXSNrS3HffNuIN5fjn9uoE7iDxR/R396365v0gAVkEjge8CuEN+hAEFP4W5Rm3HHEfESKVJPsmQilnK2gtRS/8MIsy8TMtNT42JDfdN2k4yDj5OPw40jh7OPY3RDdmNl01KTTMMkYxmS/GLc8rtSl7JyElqiIXIGwdqRrSF+gU7hHnDtQLuAiWBXACSv8k/AL55/XU8szv0uzo6RDnTeSh4Q7fltw62v7X4tXo0xLSYdDXznXNO8wsy0bKjMn+yJzIZ8heyILI0shPyffJysrIy/DMQM64z1bRGdMA1QnXMtl6297dXuD24qXlaeg+6yTuGPEW9B73LPo+/VEAYwNyBnwJfQxzD1wSNhX/F7MaUR3YH0QilCTGJtkoyyqZLEQuyS8oMV4ybDNRNAw1mzUANjk2RzYpNuA1bDXNNAQ0ETP2MbIwSC+5LQUsLio2KB4m6COWISkfpBwIGlkXlxTFEeYO+wsHCQ0GDwMPABH9FPod9y70SfFx7qfr7uhI5rjjP+Hf3prcctpp2IDWuNQU05TROtAGz/rNFs1bzMrLY8smyxPLK8tty9rLcMwvzRfOJ89d0LnRO9Pf1KbWjtiV2rnc+t5U4cbjTubq6JjrVu4i8fjz2Pa++an8lf+AAmoFTwgsC/8NxxCAEyoWwBhDG68dAiA8IlkkWSY5KPkplysRLWcumC+iMIUxPzLSMjszfDOTM4AzRTPgMlMynTHAMLwvki5CLc8rOSqCKKsmtSSiInQgLB7MG1cZzxY0FIoR0w4QDEQJcgabA8IA6v0T+0H4dvW08v3vVO266jLovuVg4xnh697Y3OLaCtlS17vVR9T10sjRwdDfzyXPkc4mzuLNx83UzQrOZ87szpjPa9Bk0YLSxNMp1bDWWNgg2gXcB94j4FjipeQH533pBOya7j7x7POk9mP5Jvzs/rEBdQQ0B+0JngxED9wRZhTfFkUZlhvQHfIf+iHmI7UlZSf1KGQqsCvaLN4tvi54LwwwejDAMN8w1zCoMFIw1S8yL2kufC1qLDQr3SlkKMsmEyU/I04hQx8gHeUalhg0FsATPhGuDhMMbwnEBhQEYgGw/v/7Uvmr9gz0d/Hv7nXsC+q053DlQ+Mt4TDfTt2J2+HZWNjv1qjVgtSA06LS6dFV0ebQndB60H3Qp9D20GvRBdLE0qfTrdTW1SDXi9gV2r3bgd1h31rhbOOU5dDnIOqA7O/ua/Hz84P2Gvm3+1b+9ACSAy0GwghPC9MNShC0Eg8VWBeOGa4buB2pH4EhPSPdJF4mwScDKSQqIyv/K7csTC28LQcuLS4vLgsuwi1VLcMsDiw2KzsqHinhJ4UmCSVxI7wh7R8FHgUc7xnFF4kVPBPgEHcOAwyHCQMHegTvAWP/2PxQ+s33UfXf8njwHu7T65jpcedd5WDjeeGs3/rdY9zp2o3ZUNg01zjWXtWn1BPUotNU0yvTJtNE04bT7NN11CHV8NXf1u/XINlv2tvbZd0J38jgn+KO5JHmqejT6g3tVe+r8Qv0dPbk+Fr70v1KAMMCOAWpBxMKdAzKDhQRUBN8FZUXnBmNG2cdKh/TIGEi0yMoJV8mdydvKEYp/CmQKgIrUSt9K4crbSsxK9IqUSquKeooBSgBJ90lnCQ9I8MhLiCAHrkc3BrqGOUWzhSnEnEQLw7iC4wJMAfOBGkCAwCe/Tv73PiE9jT07/G174ntbOtg6Wjng+W04/3hXeDY3m7dINzv2tzZ6NgT2F/XzNZa1gnW2tXN1eHVGNZw1unWg9c92BfZENon21zcrN0Y353gPOLy473lnueR6ZXrqu3N7/vxNfR39sH4D/th/bT/BgJXBKMG6QgoC10Nhg+jEbATrhWZF3EZNBvhHHYe8h9UIZsixiPUJMMllSZHJ9onTCieKNAo4CjQKJ8oTijcJ0snmibKJd0k0iOqImghCyCUHgYdYBumGdcX9hUDFAES8g/WDa8LgAlKBw8F0AKQAFH+E/zZ+aX3ePVT8zrxLe8v7UDrYumX5+DlP+S04kHh59+o3oPde9yP28HaEdp/2Q3ZutiG2HPYf9iq2PXYYNnp2ZDaVts43DfdUd6H39XgPeK841Hl++a46IjqaOxX7lTwXfJx9Iz2r/jX+gP9MP9cAYcDrwXSB+4JAQwKDgcQ9hHXE6cVZRcQGaYaJhyPHeEeGSA3ITkiISPrI5kkKSWbJe8lJCY7JjMmDSbIJWQl4yRFJIkjsiK+IbAgiR9IHu8cgBv7GWIYtRb3FCkTTBFhD2sNawtiCVMHPgUmAwsB8v7Z/MP6s/io9qb0rvLB8ODuD+1M65vp/edy5vzkneNU4iThDeAQ3y7eZ9283C3cu9tn2zDbF9sb2z3bfNvY21Lc59yZ3WbeTt9Q4GrhneLn40flveZF6OHpjutK7RXv7fDQ8r30s/aw+LH6t/y+/sUAywLOBM0Gxgi3Cp8MfA5NEBASxRNoFfoWeRjkGTobehyiHbIeqR+HIEoh8iF+Iu8iRCN8I5gjlyN6I0Aj6iJ5IushQyGAIKQfrh6gHXscPxvuGYkYEBeGFeoTPxKHEMEO8AwWCzMJSQdbBWgDdAGA/4z9m/uu+cf35/UP9ELygfDM7ibtkOsL6pfoN+fr5bXkleOM4pvhw+AE4F/f1d5l3hDe19253bbdz90E3lPevt5D3+LfmuBs4VbiV+Nv5Jzl3+Y16J3pF+ui7Dvu4u+V8VTzG/Xr9sL4nvp9/F/+QAAhAgAE2wWxB4AJRgsDDbUOWxDzEXwT9BRcFrEX8hgfGjcbOBwjHfYdsB5SH9ofSSCdINcg9yD9IOgguCBvIAsgjh/4Hkkegx2kHLAbpRqFGVIYCxeyFUgUzxJHEbIPEQ5lDK8K8gguB2YFmQPKAfz/Lf5g/Jf60/gV91/1svMQ8nrw8O517Qnsrupk6S3oCef65QDlHORP45ni++F24QjhtOB64FjgUOBh4Izg0OAs4aLhL+LU4pHjY+RM5UrmXOeB6LnpAutb7MTtO+++8E7y5/OK9TX35vic+lX8Ef7O/4oBRAP7BK4GWggACpwLLw22DjEQnxH+Ek0UixW4FtEX2BjKGacabhsfHLocPB2oHfsdNh5ZHmQeVh4wHvIdmx0uHakcDRxbG5MathnFGMEXqhaBFUcU/hKmEUAQzg5QDckLOAqgCAIHXwW4Aw4CZAC7/hP9bvvN+TL4nfYR9Y7zFvKp8Erv+O217ILrYepR6VPoaeeT5tLlJuWQ5BDkpuNU4xnj9eLo4vPiFONN453jBOSB5BPlvOV45knnLugl6S7qSOtz7Kzt9O5J8KrxFvOL9Ar2j/cb+az6QPzW/W7/BQGbAi4EvQVHB8sIRgq5CyINgA7SDxYRTRJ0E4sUkRWFFmcXNhjxGJcZKRqmGg0bXhuZG74bzRvFG6cbcxspG8oaVRrLGS0Zexi1F90W8xX3FOwT0BKmEW8QKw/bDYAMHQuxCT0IxAZGBcQDQAK7ADf/s/0y/LT6PPnJ9172+/Sh81LyDvHX767uk+2H7IvroOrG6f/oS+ip5xzno+Y+5u7ltOWO5X7lg+Wd5czlEOZp5tbmWOfs55ToTukb6vjq5uvj7PDtCu8y8GXxpPLt8z/1mfb692H5zfo8/K39IP+SAAMCcwPfBEYGqAcCCVYKoAvgDBUOPw9cEGsRbBJdEz8UDxXPFX0WGBehFxYYeBjHGAEZJxk4GTYZHxn1GLYYYxj+F4UX+RZcFqwV7BQbFDsTSxJNEUIQKw8HDtkMoQthChkJygd1BhwFvwNgAgABof9B/uT8ivs0+uP4mfdW9hv16vPD8qfxl/CU75/uuO3g7BjsYOu56iTqoOku6c/og+hK6CToEegR6CToS+iF6NHoL+mg6SPqtupb6xDs1Oyn7YnueO908HzxkPKt89T0A/Y593b4ufkA+0r8lv3k/jEAfgHKAhIEVwWWBtAHAwkuClALaQx3DXoOcQ9aEDcRBRLEEnQTExSjFCEVjxXrFTUWbRaTFqcWqBaYFnUWQRb7FaMVOhXAFDYUnBPzEjsSdBGgEL8P0g7ZDdYMyQuzCpYJcQhGBxUG4QSpA28CMwH4/73+hP1N/Br76/nC+KD3hPZx9Wf0Z/Nx8ofxqfDX7xPvXe627R3tlOwb7LLrWusS69vqtuqh6p7qq+rK6vrqO+uM6+3rXuzf7G7tDe657nPvOvAM8evx1PLI88T0yfXW9un3A/kh+kP7afyR/br+4/8LATMCWAN6BJcFsAbCB84I0QnNCr8LqAyFDVgOHg/YD4QQJBG0ETcSqxIPE2QTqRPeEwMUGBQdFBIU9hPLE5ATRRPrEoMSCxKFEfIQURCkD+oOJQ5VDXsMmAurCrcJuwi5B7EGpQWUBIEDawJUAT0AJ/8S/v787vvi+tr52Pjc9+j2+/UX9Tz0a/Ok8unxOvGX8ADwd+/77o7uLu7d7ZvtZ+1D7S7tKO0x7UntcO2m7evtPe6e7g3vie8R8KbwSPH08azybfM49A316fXN9rj3qfif+Zr6mPuZ/J39ov6n/6sArgGwAq8DqgShBZIGfgdjCEEJFwrlCqkLYwwTDbgNUQ7fDmAP1Q89EJcQ5BAjEVUReBGNEZQRjRF4EVURJBHlEJkQQBDaD2gP6g5gDssNKw2BDM0LEQtMCn8JrAjRB/IGDQYkBTcESANXAmQBcQB//47+nv2w/Mb74Pr/+SP5Tfh+97f29/VA9ZL07fNT88PyP/LG8Vjx9/Ch8FnwHfDu78zvt++w77Xvx+/n7xPwTPCR8OPwQPGp8R3ynPIl87nzVfT79Kn1X/Yc99/3qfh4+Uv6I/v++9v8uv2b/nz/XAA7ARoC9QLOA6MEdAVABgYHxgeACDEJ2wl9ChYLpQsrDKYMFw19DdgNKA5sDqQO0Q7xDgUPDg8KD/oO3g62DoMORA76DaQNRQ3aDGYM6AtiC9IKOgqaCfMIRgiSB9kGGwZZBZIEyQP+AjACYgGTAMX/9/4r/mH9mfzV+xT7Wfqi+fH4Rvii9wX3cPbj9V/15PRy9An0q/NW8wzzzfKY8m/yUPI98jTyN/JF8l3ygfKv8ujyK/N488/zMPSZ9Az1h/UK9pT2Jfe+91z4APmp+Vb6B/u8+3T8Lv3p/ab+Y/8eANoAlQFOAgQDuANoBBMFugVcBvgGjgcdCKYIJwmgCREKegrZCjALfgvCC/wLLQxTDHAMggyLDIkMfQxnDEgMHgzsC68LagsbC8QKZQr+CY8JGQmcCBgIjgf/BmsG0gU1BZUE8QNLA6MC+QFPAaQA+v9P/6b+//1a/bf8GPx9++b6U/rG+T75vPhA+Mv3Xvf39pj2Qfby9az1bvU59Q316fTP9L70tvS39MH01PTw9BT1QfV39bX1+/VJ9p72+/Ze98j3OPit+Cn5qfku+rb6Q/vT+2X8+vyR/Sn+wv5b//T/iwAjAbkBTQLeAmwD+AN/BAIFgQX6BW8G3QZGB6gHBAhZCKcI7ggtCWQJlAm8CdwJ9AkDCgsKCwoCCvIJ2Qm5CZEJYQkrCe0IqAhdCAsIswdWB/MGigYdBqwFNgW9BEEEwgNAA70CNwKxASoBowAbAJb/EP+L/gn+iP0L/ZD8GPyl+zX7yvpj+gH6pflO+f34svhu+C/4+PfH9533efdd90j3Ovcz9zT3O/dJ9173eved98f39vcs+Gj4qvjx+D75kPnm+UH6oPoD+2n70vs//K38Hv2R/QT+ef7v/mT/2v9OAMIANQGmARYCgwLtAlUDuQMaBHcEzwQkBXQFvwUFBkUGgQa2BuYGEQc1B1MHawd+B4oHjwePB4kHfAdqB1IHNAcRB+gGuQaGBk4GEQbPBYkFPwXxBKAETAT1A5sDPgPgAoACHgK8AVgB9ACQACwAyv9o/wb/pv5I/uz9kv06/eX8lPxF/Pr7s/tw+zH79vrA+o76Yfo5+hb6+Pne+cr5u/my+a35rfmz+b75zfni+fv5Gfo7+mL6jfq8+vD6Jvth+5773/sj/Gn8sfz8/En9l/3m/Tf+iP7b/i3/f//R/yIAcwDDABIBXwGrAfQBPAKBAsMCAwNAA3kDsAPjAxIEPgRmBIoEqgTGBN4E8gQCBQ0FFQUYBRcFEgUJBfwE6wTWBL0EoQSBBF4EOAQPBOIDswOCA04DGAPgAqYCagItAu8BsAFwAS8B7wCuAG0ALADt/67/b/8y//b+u/6C/kv+Ff7i/bH9gv1W/S39Bv3i/MH8o/yI/HD8W/xK/Dv8MPwo/CT8Ivwk/Cn8Mfw7/En8Wvxt/IT8nPy4/NX89fwX/Tv9YP2I/bH92/0H/jP+Yf6P/r7+7f4d/0z/fP+r/9r/CAA2AGMAjwC6AOQADAE0AVkBfQGfAcAB3gH7ARUCLQJEAlcCaQJ5AoYCkQKZAqACpAKlAqUCogKdApcCjgKDAnYCZwJXAkUCMQIcAgYC7gHVAbsBoAGEAWcBSgEsAQ4B8ADRALIAkwB1AFYAOAAbAP//4//H/6z/kv95/2H/Sv80/yD/DP/6/ur+2v7M/sD+tf6r/qP+nP6X/pP+kP6P/o/+kP6T/pf+nP6i/qn+sf66/sT+z/7b/uf+9P4B/w//Hv8s/zv/Sv9Z/2j/eP+H/5X/pP+z/8H/zv/b/+j/9P8AAAoAFAAeACYALwA2AD0AQwBIAEwAUABSAFQAVgBWAFYAVQBUAFIAUABMAEkARQBBADwANwAyACwAJgAhABsAFQAQAAoABQAAAAAAAAAAAAAAAAAAAAAAAAAAAAAAAAAAAAAAAAAAAAAAAAAAAAAAAAAAAAAAAAAAAAAAAAAAAAAAAAAAAAAAAAAAAAAAAAAAAAAAAAAAAAAAAAAAAAAAAAAAAAAAAAAAAAAAAAAAAAAAAAAAAAAAAAAAAAAAAAAAAAAAAAAAAAAAAAAAAAAAAAAAAAAAAAAAAAAAAAAAAAAAAAAAAAAAAAAAAAAAAAAAAAAAAAAAAAAAAAAAAAAAAAAAAAAAAAAAAAAAAAAAAAAAAAAAAAAAAAAAAAAAAAAAAAAAAAAAAAAAAAAAAAAAAAAAAAAAAAAAAAAAAAAAAAAAAAAAAAAAAAAAAAAAAAAAAAAAAAAAAAAAAAAAAAAAAAAAAAAAAAAAAAAAAAAAAAAAAAAAAAAAAAAAAAAAAAAAAAAAAAAAAAAAAAAAAAAAAAAAAAAAAAAAAAAAAAAAAAAAAAAAAAAAAAAAAAAAAAAAAAAAAAAAAAAAAAAAAAAAAAAAAAAAAAAAAAAAAAAAAAAAAAAAAAAAAAAAAAAAAAAAAAAAAAAAAAAAAAAAAAAAAAAAAAAAAAAAAAAAAAAAAAAAAAAAAAAAAAAAAAAAAAAAAAAAAAAAAAAAAAAAAAAAAAAAAAAAAAAAAAAAAAAAAAAAAAAAAAAAAAAAAAAAAAAAAAAAAAAAAAAAAAAAAAAAAAAAAAAAAAAAAAAAAAAAAAAAAAAAAAAAAAAAAAAAAAAAAAAAAAAAAAAAAAAAAAAAAAAAAAAAAAAAAAAAAAAAAAAAAAAAAAAAAAAAAAAAAAAAAAAAAAAAAAAAAAAAAAAAAAAAAAAAAAAAAAAAAAAAAAAAAAAAAAAAAAAAAAAAAAAAAAAAAAAAAAAAAAAAAAAAAAAAAAAAAAAAAAAAAAAAAAAAAAAAAAAAAAAAAAAAAAAAAAAAAAAAAAAAAAAAAAAAAAAAAAAAAAAAAAAAAAAAAAAAAAAAAAAAAAAAAAAAAAAAAAAAAAAAAAAAAAAAAAAAAAAAAAAAAAAAAAAAAAAAAAAAAAAAAAAAAAAAAAAAAAAAAAAAAAAAAAAAAAAAAAAAAAAAAAAAAAAAAAAAAAAAAAAAAAAAAAAAAAAAAAAAAAAAAAAAAAAAAAAAAAAAAAAAAAAAAAAAAAAAAAAAAAAAAAAAAAAAAAAAAAAAAAAAAAAAAAAAAAAAAAAAAAAAAAAAAAAAAAAAAAAAAAAAAAAAAAAAAAAAAAAAAAAAAAAAAAAAAAAAAAAAAAAAAAAAAAAAAAAAAAAAAAAAAAAAAAAAAAAAAAAAAAAAAAAAAAAAAAAAAAAAAAAAAAAAAAAAAAAAAAAAAAAAAAAAAAAAAAAAAAAAAAAAAAAAAAAAAAAAAAAAAAAAAAAAAAAAAAAAAAAAAAAAAAAAAAAAAAAAAAAAAAAAAAAAAAAAAAAAAAAAAAAAAAAAAAAAAAAAAAAAAAAAAAAAAAAAAAAAAAAAAAAAAAAAAAAAAAAAAAAAAAAAAAAAAAAAAAAAAAAAAAAAAAAAAAAAAAAAAAAAAAAAAAAAAAAAAAAAAAAAAAAAAAAAAAAAAAAAAAAAAAAAAAAAAAAAAAAAAAAAAAAAAAAAAAAAAAAAAAAAAAAAAAAAAAAAAAAAAAAAAAAAAAAAAAAAAAAAAAAAAAAAAAAAAAAAAAAAAAAAAAAAAAAAAAAAAAAAAAAAAAAAAAAAAAAAAAAAAAAAAAAAAAAAAAAAAAAAAAAAAAAAAAAAAAAAAAAAAAAAAAAAAAAAAAAAAAAAAAAAAAAAAAAAAAAAAAAAAAAAAAAAAAAAAAAAAAAAAAAAAAAAAAAAAAAAAAAAAAAAAAAAAAAAAAAAAAAAAAAAAAAAAAAAAAAAAAAAAAAAAAAAAAAAAAAAAAAAAAAAAAAAAAAAAAAAAAAAAAAAAAAAAAAAAAAAAAAAAAAAAAAAAAAAAAAAAAAAAAAAAAAAAAAAAAAAAAAAAAAAAAAAAAAAAAAAAAAAAAAAAAAAAAAAAAAAAAAAAAAAAAAAAAAAAAAAAAAAAAAAAAAAAAAAAAAAAAAAAAAAAAAAAAAAAAAAAAAAAAAAAAAAAAAAAAAAAAAAAAAAAAAAAAAAAAAAAAAAAAAAAAAAAAAAAAAAAAAAAAAAAAAAAAAAAAAAAAAAAAAAAAAAAAAAAAAAAAAAAAAAAAAAAAAAAAAAAAAAAAAAAAAAAAAAAAAAAAAAAAAAAAAAAAAAAAAAAAAAAAAAAAAAAAAAAAAAAAAAAAAAAAAAAAAAAAAAAAAAAAAAAAAAAAAAAAAAAAAAAAAAAAAAAAAAAAAAAAAAAAAAAAAAAAAAAAAAAAAAAAAAAAAAAAAAAAAAAAAAAAAAAAAAAAAAAAAAAAAAAAAAAAAAAAAAAAAAAAAAAAAAAAAAAAAAAAAAAAAAAAAAAAAAAAAAAAAAAAAAAAAAAAAAAAAAAAAAAAAAAAAAAAAAAAAAAAAAAAAAAAAAAAAAAAAAAAAAAAAAAAAAAAAAAAAAAAAAAAAAAAAAAAAAAAAAAAAAAAAAAAAAAAAAAAAAAAAAAAAAAAAAAAAAAAAAAAAAAAAAAAAAAAAAAAAAAAAAAAAAAAAAAAAAAAAAAAAAAAAAAAAAAAAAAAAAAAAAAAAAAAAAAAAAAAAAAAAAAAAAAAAAAAAAAAAAAAAAAAAAAAAAAAAAAAAAAAAAAAAAAAAAAAAAAAAAAAAAAAAAAAAAAAAAAAAAAAAAAAAAAAAAAAAAAAAAAAAAAAAAAAAAAAAAAAAAAAAAAAAAAAAAAAAAAAAAAAAAAAAAAAAAAAAAAAAAAAAAAAAAAAAAAAAAAAAAAAAAAAAAAAAAAAAAAAAAAAAAAAAAAAAAAAAAAAAAAAAAAAAAAAAAAAAAAAAAAAAAAAAAAAAAAAAAAAAAAAAAAAAAAAAAAAAAAAAAAAAAAAAAAAAAAAAAAAAAAAAAAAAAAAAAAAAAAAAAAAAAAAAAAAAAAAAAAAAAAAAAAAAAAAAAAAAAAAAAAAAAAAAAAAAAAAAAAAAAAAAAAAAAAAAAAAAAAAAAAAAAAAAAAAAAAAAAAAAAAAAAAAAAAAAAAAAAAAAAAAAAAAAAAAAAAAAAAAAAAAAAAAAAAAAAAAAAAAAAAAAAAAAAAAAAAAAAAAAAAAAAAAAAAAAAAAAAAAAAAAAAAAAAAAAAAAAAAAAAAAAAAAAAAAAAAAAAAAAAAAAAAAAAAAAAAAAAAAAAAAAAAAAAAAAAAAAAAAAAAAAAAAAAAAAAAAAAAAAAAAAAAAAAAAAAAAAAAAAAAAAAAAAAAAAAAAAAAAAAAAAAAAAAAAAAAAAAAAAAAAAAAAAAAAAAAAAAAAAAAAAAAAAAAAAAAAAAAAAAAAAAAAAAAAAAAAAAAAAAAAAAAAAAAAAAAAAAAAAAAAAAAAAAAAAAAAAAAAAAAAAAAAAAAAAAAAAAAAAAAAAAAAAAAAAAAAAAAAAAAAAAAAAAAAAAAAAAAAAAAAAAAAAAAAAAAAAAAAAAAAAAAAAAAAAAAAAAAAAAAAAAAAAAAAAAAAAAAAAAAAAAAAAAAAAAAAAAAAAAAAAAAAAAAAAAAAAAAAAAAAAAAAAAAAAAAAAAAAAAAAAAAAAAAAAAAAAAAAAAAAAAAAAAAAAAAAAAAAAAAAAAAAAAAAAAAAAAAAAAAAAAAAAAAAAAAAAAAAAAAAAAAAAAAAAAAAAAAAAAAAAAAAAAAAAAAAAAAAAAAAAAAAAAAAAAAAAAAAAAAAAAAAAAAAAAAAAAAAAAAAAAAAAAAAAAAAAAAAAAAAAAAAAAAAAAAAAAAAAAAAAAAAAAAAAAAAAAAAAAAAAAAAAAAAAAAAAAAAAAAAAAAAAAAAAAAAAAAAAAAAAAAAAAAAAAAAAAAAAAAAAAAAAAAAAAAAAAAAAAAAAAAAAAAAAAAAAAAAAAAAAAAAAAAAAAAAAAAAAAAAAAAAAAAAAAAAAAAAAAAAAAAAAAAAAAAAAAAAAAAAAAAAAAAAAAAAAAAAAAAAAAAAAAAAAAAAAAAAAAAAAAAAAAAAAAAAAAAAAAAAAAAAAAAAAAAAAAAAAAAAAAAAAAAAAAAAAAAAAAAAAAAAAAAAAAAAAAAAAAAAAAAAAAAAAAAAAAAAAAAAAAAAAAAAAAAAAAAAAAAAAAAAAAAAAAAAAAAAAAAAAAAAAAAAAAAAAAAAAAAAAAAAAAAAAAAAAAAAAAAAAAAAAAAAAAAAAAAAAAAAAAAAAAAAAAAAAAAAAAAAAAAAAAAAAAAAAAAAAAAAAAAAAAAAAAAAAAAAAAAAAAAAAAAAAAAAAAAAAAAAAAAAAAAAAAAAAAAAAAAAAAAAAAAAAAAAAAAAAAAAAAAAAAAAAAAAAAAAAAAAAAAAAAAAAAAAAAAAAAAAAAAAAAAAAAAAAAAAAAAAAAAAAAAAAAAAAAAAAAAAAAAAAAAAAAAAAAAAAAAAAAAAAAAAAAAAAAAAAAAAAAAAAAAAAAAAAAAAAAAAAAAAAAAAAAAAAAAAAAAAAAAAAAAAAAAAAAAAAAAAAAAAAAAAAAAAAAAAAAAAAAAAAAAAAAAAAAAAAAAAAAAAAAAAAAAAAAAAAAAAAAAAAAAAAAAAAAAAAAAAAAAAAAAAAAAAAAAAAAAAAAAAAAAAAAAAAAAAAAAAAAAAAAAAAAAAAAAAAAAAAAAAAAAAAAAAAAAAAAAAAAAAAAAAAAAAAAAAAAAAAAAAAAAAAAAAAAAAAAAAAAAAAAAAAAAAAAAAAAAAAAAAAAAAAAAAAAAAAAAAAAAAAAAAAAAAAAAAAAAAAAAAAAAAAAAAAAAAAAAAAAAAAAAAAAAAAAAAAAAAAAAAAAAAAAAAAAAAAAAAAAAAAAAAAAAAAAAAAAAAAAAAAAAAAAAAAAAAAAAAAAAAAAAAAAAAAAAAAAAAAAAAAAAAAAAAAAAAAAAAAAAAAAAAAAAAAAAAAAAAAAAAAAAAAAAAAAAAAAAAAAAAAAAAAAAAAAAAAAAAAAAAAAAAAAAAAAAAAAAAAAAAAAAAAAAAAAAAAAAAAAAAAAAAAAAAAAAAAAAAAAAAAAAAAAAAAAAAAAAAAAAAAAAAAAAAAAAAAAAAAAAAAAAAAAAAAAAAAAAAAAAAAAAAAAAAAAAAAAAAAAAAAAAAAAAAAAAAAAAAAAAAAAAAAAAAAAAAAAAAAAAAAAAAAAAAAAAAAAAAAAAAAAAAAAAAAAAAAAAAAAAAAAAAAAAAAAAAAAAAAAAAAAAAAAAAAAAAAAAAAAAAAAAAAAAAAAAAAAAAAAAAAAAAAAAAAAAAAAAAAAAAAAAAAAAAAAAAAAAAAAAAAAAAAAAAAAAAAAAAAAAAAAAAAAAAAAAAAAAAAAAAAAAAAAAAAAAAAAAAAAAAAAAAAAAAAAAAAAAAAAAAAAAAAAAAAAAAAAAAAAAAAAAAAAAAAAAAAAAAAAAAAAAAAAAAAAAAAAAAAAAAAAAAAAAAAAAAAAAAAAAAAAAAAAAAAAAAAAAAAAAAAAAAAAAAAAAAAAAAAAAAAAAAAAAAAAAAAAAAAAAAAAAAAAAAAAAAAAAAAAAAAAAAAAAAAAAAAAAAAAAAAAAAAAAAAAAAAAAAAAAAAAAAAAAAAAAAAAAAAAAAAAAAAAAAAAAAAAAAAAAAAAAAAAAAAAAAAAAAAAAAAAAAAAAAAAAAAAAAAAAAAAAAAAAAAAAAAAAAAAAAAAAAAAAAAAAAAAAAAAAAAAAAAAAAAAAAAAAAAAAAAAAAAAAAAAAAAAAAAAAAAAAAAAAAAAAAAAAAAAAAAAAAAAAAAAAAAAAAAAAAAAAAAAAAAAAAAAAAAAAAAAAAAAAAAAAAAAAAAAAAAAAAAAAAAAAAAAAAAAAAAAAAAAAAAAAAAAAAAAAAAAAAAAAAAAAAAAAAAAAAAAAAAAAAAAAAAAAAAAAAAAAAAAAAAAAAAAAAAAAAAAAAAAAAAAAAAAAAAAAAAAAAAAAAAAAAAAAAAAAAAAAAAAAAAAAAAAAAAAAAAAAAAAAAAAAAAAAAAAAAAAAAAAAAAAAAAAAAAAAAAAAAAAAAAAAAAAAAAAAAAAAAAAAAAAAAAAAAAAAAAAAAAAAAAAAAAAAAAAAAAAAAAAAAAAAAAAAAAAAAAAAAAAAAAAAAAAAAAAAAAAAAAAAAAAAAAAAAAAAAAAAAAAAAAAAAAAAAAAAAAAAAAAAAAAAAAAAAAAAAAAAAAAAAAAAAAAAAAAAAAAAAAAAAAAAAAAAAAAAAAAAAAAAAAAAAAAAAAAAAAAAAAAAAAAAAAAAAAAAAAAAAAAAAAAAAAAAAAAAAAAAAAAAAAAAAAAAAAAAAAAAAAAAAAAAAAAAAAAAAAAAAAAAAAAAAAAAAAAAAAAAAAAAAAAAAAAAAAAAAAAAAAAAAAAAAAAAAAAAAAAAAAAAAAAAAAAAAAAAAAAAAAAAAAAAAAAAAAAAAAAAAAAAAAAAAAAAAAAAAAAAAAAAAAAAAAAAAAAAAAAAAAAAAAAAAAAAAAAAAAAAAAAAAAAAAAAAAAAAAAAAAAAAAAAAAAAAAAAAAAAAAAAAAAAAAAAAAAAAAAAAAAAAAAAAAAAAAAAAAAAAAAAAAAAAAAAAAAAAAAAAAAAAAAAAAAAAAAAAAAAAAAAAAAAAAAAAAAAAAAAAAAAAAAAAAAAAAAAAAAAAAAAAAAAAAAAAAAAAAAAAAAAAAAAAAAAAAAAAAAAAAAAAAAAAAAAAAAAAAAAAAAAAAAAAAAAAAAAAAAAAAAAAAAAAAAAAAAAAAAAAAAAAAAAAAAAAAAAAAAAAAAAAAAAAAAAAAAAAAAAAAAAAAAAAAAAAAAAAAAAAAAAAAAAAAAAAAAAAAAAAAAAAAAAAAAAAAAAAAAAAAAAAAAAAAAAAAAAAAAAAAAAAAAAAAAAAAAAAAAAAAAAAAAAAAAAAAAAAAAAAAAAAAAAAAAAAAAAAAAAAAAAAAAAAAAAAAAAAAAAAAAAAAAAAAAAAAAAAAAAAAAAAAAAAAAAAAAAAAAAAAAAAAAAAAAAAAAAAAAAAAAAAAAAAAAAAAAAAAAAAAAAAAAAAAAAAAAAAAAAAAAAAAAAAAAAAAAAAAAAAAAAAAAAAAAAAAAAAAAAAAAAAAAAAAAAAAAAAAAAAAAAAAAAAAAAAAAAAAAAAAAAAAAAAAAAAAAAAAAAAAAAAAAAAAAAAAAAAAAAAAAAAAAAAAAAAAAAAAAAAAAAAAAAAAAAAAAAAAAAAAAAAAAAAAAAAAAAAAAAAAAAAAAAAAAAAAAAAAAAAAAAAAAAAAAAAAAAAAAAAAAAAAAAAAAAAAAAAAAAAAAAAAAAAAAAAAAAAAAAAAAAAAAAAAAAAAAAAAAAAAAAAAAAAAAAAAAAAAAAAAAAAAAAAAAAAAAAAAAAAAAAAAAAAAAAAAAAAAAAAAAAAAAAAAAAAAAAAAAAAAAAAAAAAAAAAAAAAAAAAAAAAAAAAAAAAAAAAAAAAAAAAAAAAAAAAAAAAAAAAAAAAAAAAAAAAAAAAAAAAAAAAAAAAAAAAAAAAAAAAAAAAAAAAAAAAAAAAAAAAAAAAAAAAAAAAAAAAAAAAAAAAAAAAAAAAAAAAAAAAAAAAAAAAAAAAAAAAAAAAAAAAAAAAAAAAAAAAAAAAAAAAAAAAAAAAAAAAAAAAAAAAAAAAAAAAAAAAAAAAAAAAAAAAAAAAAAAAAAAAAAAAAAAAAAAAAAAAAAAAAAAAAAAAAAAAAAAAAAAAAAAAAAAAAAAAAAAAAAAAAAAAAAAAAAAAAAAAAAAAAAAAAAAAAAAAAAAAAAAAAAAAAAAAAAAAAAAAAAAAAAAAAAAAAAAAAAAAAAAAAAAAAAAAAAAAAAAAAAAAAAAAAAAAAAAAAAAAAAAAAAAAAAAAAAAAAAAAAAAAAAAAAAAAAAAAAAAAAAAAAAAAAAAAAAAAAAAAAAAAAAAAAAAAAAAAAAAAAAAAAAAAAAAAAAAAAAAAAAAAAAAAAAAAAAAAAAAAAAAAAAAAAAAAAAAAAAAAAAAAAAAAAAAAAAAAAAAAAAAAAAAAAAAAAAAAAAAAAAAAAAAAAAAAAAAAAAAAAAAAAAAAAAAAAAAAAAAAAAAAAAAAAAAAAAAAAAAAAAAAAAAAAAAAAAAAAAAAAAAAAAAAAAAAAAAAAAAAAAAAAAAAAAAAAAAAAAAAAAAAAAAAAAAAAAAAAAAAAAAAAAAAAAAAAAAAAAAAAAAAAAAAAAAAAAAAAAAAAAAAAAAAAAAAAAAAAAAAAAAAAAAAAAAAAAAAAAAAAAAAAAAAAAAAAAAAAAAAAAAAAAAAAAAAAAAAAAAAAAAAAAAAAAAAAAAAAAAAAAAAAAAAAAAAAAAAAAAAAAAAAAAAAAAAAAAAAAAAAAAAAAAAAAAAAAAAAAAAAAAAAAAAAAAAAAAAAAAAAAAAAAAAAAAAAAAAAAAAAAAAAAAAAAAAAAAAAAAAAAAAAAAAAAAAAAAAAAAAAAAAAAAAAAAAAAAAAAAAAAAAAAAAAAAAAAAAAAAAAAAAAAAAAAAAAAAAAAAAAAAAAAAAAAAAAAAAAAAAAAAAAAAAAAAAAAAAAAAAAAAAAAAAAAAAAAAAAAAAAAAAAAAAAAAAAAAAAAAAAAAAAAAAAAAAAAAAAAAAAAAAAAAAAAAAAAAAAAAAAAAAAAAAAAAAAAAAAAAAAAAAAAAAAAAAAAAAAAAAAAAAAAAAAAAAAAAAAAAAAAAAAAAAAAAAAAAAAAAAAAAAAAAAAAAAAAAAAAAAAAAAAAAAAAAAAAAAAAAAAAAAAAAAAAAAAAAAAAAAAAAAAAAAAAAAAAAAAAAAAAAAAAAAAAAAAAAAAAAAAAAAAAAAAAAAAAAAAAAAAAAAAAAAAAAAAAAAAAAAAAAAAAAAAAAAAAAAAAAAAAAAAAAAAAAAAAAAAAAAAAAAAAAAAAAAAAAAAAAAAAAAAAAAAAAAAAAAAAAAAAAAAAAAAAAAAAAAAAAAAAAAAAAAAAAAAAAAAAAAAAAAAAAAAAAAAAAAAAAAAAAAAAAAAAAAAAAAAAAAAAAAAAAAAAAAAAAAAAAAAAAAAAAAAAAAAAAAAAAAAAAAAAAAAAAAAAAAAAAAAAAAAAAAAAAAAAAAAAAAAAAAAAAAAAAAAAAAAAAAAAAAAAAAAAAAAAAAAAAAAAAAAAAAAAAAAAAAAAAAAAAAAAAAAAAAAAAAAAAAAAAAAAAAAAAAAAAAAAAAAAAAAAAAAAAAAAAAAAAAAAAAAAAAAAAAAAAAAAAAAAAAAAAAAAAAAAAAAAAAAAAAAAAAAAAAAAAAAAAAAAAAAAAAAAAAAAAAAAAAAAAAAAAAAAAAAAAAAAAAAAAAAAAAAAAAAAAAAAAAAAAAAAAAAAAAAAAAAAAAAAAAAAAAAAAAAAAAAAAAAAAAAAAAAAAAAAAAAAAAAAAAAAAAAAAAAAAAAAAAAAAAAAAAAAAAAAAAAAAAAAAAAAAAAAAAAAAAAAAAAAAAAAAAAAAAAAAAAAAAAAAAAAAAAAAAAAAAAAAAAAAAAAAAAAAAAAAAAAAAAAAAAAAAAAAAAAAAAAAAAAAAAAAAAAAAAAAAAAAAAAAAAAAAAAAAAAAAAAAAAAAAAAAAAAAAAAAAAAAAAAAAAAAAAAAAAAAAAAAAAAAAAAAAAAAAAAAAAAAAAAAAAAAAAAAAAAAAAAAAAAAAAAAAAAAAAAAAAAAAAAAAAAAAAAAAAAAAAAAAAAAAAAAAAAAAAAAAAAAAAAAAAAAAAAAAAAAAAAAAAAAAAAAAAAAAAAAAAAAAAAAAAAAAAAAAAAAAAAAAAAAAAAAAAAAAAAqB04OZxVvHGAjNCrnMHI30T3+Q/RJr08qVWFaT1/xY0JoQGznbzRzJXa3eOh6tnwhfiZ/xn//f9F/PX9CfuN8H3v5eHF2i3NIcKtst2hvZNdf8VrDVVBQnUquRIg+MDirMf4qLyRDHUAWKg8JCOEAuvmX8n7rduSF3a/W+s9syQnD2Lzdthyxm6tdpmehvpxjmFyUrJBVjVmKvIeAhaaDL4IegXKALYBOgNWAw4EVg8yE5oZhiTqMcY8Ck+qWJpu0n46ksqkbr8S0qrrIwBjHls081AXb6+Hq6PvvGfc+/mMFhQydE6UalyFuKCUvtjUcPFJCUkgZTqBT5VjiXZRi9mYGa8BuInIodc93F3r9e399nX5Vf6d/kn8Xfzd+8XxHezp5zHb/c9RwUG1zaUJlwGDxW9hWeVHZS/xF5z+fOSkziSzHJeYe7BffEMUJowKA+1/0SO1A5k3fdNi70SjLvsSEvn+4s7Imrdqn1qIcnrGZmJXUkWmOWYumiFOGYoTUgqqB5oCIgI+A/YDRgQqDqISohgmJyovojmGSMZZWms2ekqOgqPWtjLNfuWy/rMUazLPSb9lL4D/nSO5e9X38ngO9CtMR2xjPH6kmZC36M2c6pUCvRoBMFFJmV3JcM2GnZclplm0LcSZ043ZBeT5713wNft5+SX9Nf+x+JX75fGh7dXkgd2x0WnHubSlqD2akYepc5lebUg9NREdAQQk7oTQQLlonhCCVGZESfgtiBEP9JvYR7wroFeE62n3T5Mx0xjLAI7pNtLOuWqlHpH6fApvXlgGTgo9djJWJLIckhX6DPYJggemA14AsgeaBBoOJhHCGuIhgi2WOxpF+lYyZ7J2bopWn1axYshq4Fb5ExKTKLtHe167emOWY7KfzwPrcAfcICxASFwce4ySiKz4ysTj3PgpF5kqGUOVV/1rQX1RkiGhobPBvH3PydWZ4eXorfHh9YX7lfgN/u34Nfvp8g3upeW5303TacYZu2WrWZoJi3l3vWLhTP06HSJVCbjwWNpMv6SgfIjobPxQ0DR4GBf/r99jw0und4v/bP9WgzirI4MHJu+i1QrDdqrul46BWnBqYMZSfkGWNiIoJiOuFLoTUgt+BT4ElgWCBAYIHg3GEP4ZuiPyK6Y0xkdKUyJgSnauhj6a7qyux2bbDvOLCMsmuz1DWFN304+vq8vEE+RsAMwdFDksVQBwfI+EpgTD7Nkg9ZENKSfZOYVSJWWpe/mJDZzVr0W4Vcvx0hneweXh73nzffXt+sn6Dfu999nyYe9h5tXczdVNyF2+Ca5dnWWPLXvJZ0FRqT8VJ5UPOPYU3ETF1Krcj3BzrFecO2AfDAK/5nvKY66PkxN0A113Q4cmQw2+9hLfTsWGsMqdLoq6dYZlllcCRco6Ai+yItobjhHKDZIK8gXmBm4Ejgg+DYIQUhimIn4pzjaOQK5QLmD2cwKCPpaaqArCetXa7hMHExzLOx9R/21TiQelA8Ev3Xv5xBYAMhRN6GlohHyjELkQ1mDu9Qa1HY03cUhFYAF2lYftl/2mubQVxAnShduJ4wXo+fFd9DH5bfkV+yn3rfKd7/3n2d411xnKibyVsUmgqZLNf71riVZBQ/UovRSk/8DiKMvwrSiV7HpMXmBCQCYACcPti9F7taOaI38HYGtKYy0DFF78iuWaz6K2sqLWjCZ+rmp2W5ZKEj32M04mHh52FFITvgi6C0oHcgUqCHYNVhO+F7IdIigONG5CLk1OXb5vbn5WkmKnfrmi0LrorwFzGusxC0+7ZuOCb55HulfWi/LADvArAEbUYlh9eJgctjDPoORVADkbPS1RRl1aUW0hgr2TFaIds8m8Dc7h1DngEeph7yXyWff99An6gfdl8r3shejF44XUycydwwmwGafZklWDmW+5WsFExTHRGf0BXOgA0fy3aJhUgNxlFEkULOwQv/ST2Iu8t6EvhgtrX01DN8cbAwMK6+7RxryeqI6VnoPib2ZcOlJmQfo2/il2IXIa8hH+DpoIygiKCeIIyg1CE0YW0h/iJmoyZj/KSopanmv2eoaOOqMKtOLPruNe++MRHy8HRYNgf3/jl5ezi8+n68gH7CP0P8RbTHZ4kSivUMTY4az5uRDpKyk8aVSZa6V5gY4hnXGvabgByynQ2d0J57no2fBt9nH24fW99wnyxezx6ZXgudphzpnBZbbRpu2VwYddc9FfKUl5NtEfRQbg7cDX+LmUorCHZGvAT9wzzBez+5ffl8PDpDuNC3JTVCM+iyGrCY7yStvywpquTpsihSZ0YmTuVs5GEjq+LOIkgh2qFFYQkg5eCb4KrgkyDUYS5hYOHrok3jB2PXpL3leWZJJ6yoounq6wNsq63ib2Zw9nJRdDX1ondWOQ86zLyMvk2ADsHOw4vFREc3SKOKRwwhDbBPMxCokg+TppTtFiGXQ5iR2Ytar9t+HDXc1l2e3g+ep57m3w0fWl9OX2kfKx7UXqTeHV2+HMeceltXGp6ZkZiw131WN9Th07vSB1DFT3dNngw7SlAI3cclxWmDqkHpgCk+abysuvP5ALeUdfA0FXKFcQFviq4ibImrQaoLKOdnluabJbRko6PpIwYiuqHHIawhKiDAoPBguWCbYNYhKeFWIdqidqLqI7RkVKVKZlSncqhjaaYq+ewdrY/vD7Cb8jMzlHV+Nu84pfphPB9933+fgV6DG0TUBoeIdEnZC7SNBU7KUEJR7BMGVJAVyFcuGACZfpon2zsb99ydnWvd4h5AHsVfMZ8E338fIF8ontgert4tnZSdJBxc27+ajNnFmOoXvBZ71SpTyVKZERtPkQ47jFwK88kER47F1IQXAlfAmH7ZfRz7ZDmwt8N2XjSB8zBxai/xLkYtKmue6mTpPSfopugl/OTnJCejfyKuIjUhlGFMIRzgxqDJIOTg2aEm4UzhyyJhIs5jkqRs5RzmIWc56CVpYyqx69Dtfq66cAKx1jN0NNq2iPh9efZ7sz1xvzCA7wKrRGQGF8fFSasLB8zaTmFP29FIEuVUMlVuVpgX7pjxGd7a9xu43GQdN52znhdeol7Uny4fLp8V3yRe2h63XjwdqV0/HH3bppr5mffY4hf5Vr4VcdQVUunRcA/pzlgM+8sWyaoH9sY+xEMCxUEG/0j9jPvUOiB4craMNS7zW3HTcFfu6m1LrDzqvylTqHrnNmYGZWukZyO5ouMiZGH94W/hOqDeINqg8CDeYSWhRWH9Yg0i9GNyZAblMOXvpsKoKOkhamsrhW0urmYv6nF6ctT0uHYjt9W5jLtHfQR+wgC/wjuD9AWoB1YJPMqbDG9N+A900OOSQ9PUFROWQRebmKKZlNqx23jcKRzCXYOeLR5+HrZe1d8cXwofHp7anr4eCV38nRhcnVvL2yTaKNkYmDUW/xW31GATORGD0EFO800ai7jJzsheRqhE7oMyQXU/t/38fAP6j/jhdzp1W7PGsnywvy8O7e0sW2saKerojieFJpClsWSn4/TjGSKU4iihlOFZoTcg7WD84OThJeF/YbEiOqKbo1PkIiTGZf+mjOft6OEqJet7bKAuEy+TcR+ytrQW9f93brkjetw8l75UQBDBzEOEhXjG50iOym4Lw82Ojw1QvtHh03VUuFXpVwgYUxlKGmubN5vtHIudUp3Bnlhelp78HsjfPJ7Xntmeg15U3c4dcBy7G+/bDppYGU2Yb1c+lfxUqVNG0hYQl88NjbhL2YpyiISHEQVZQ56B4kAmfmu8s3r/ORB3qHXItHIypnEmr7PuD2z6a3XqAukiZ9Um3CX35OmkMaNQYsaiVOH7IXnhEWEB4QrhLOEnoXrhpmIp4oSjdqP/JJ1lkOaY57QoomniKzKsUu3Bb32whjJZc/Z1XDcIuPs6cfwrvec/ooFdQxVEyYa4iCDJwUuYTSUOpdAZ0b+S1hRcFZEW85fC2T4Z5Jr1W6/cU50gHZTeMV51nqEe897tns7e1x6HHl6d3l1GXNecEht2mkYZgRioV3zWP5Txk5OSZxDtD2aN1Qx5ipWJKkd5BYNECkJPgJS+2n0ie245vzfWdnV0nbMQMY5wGS6yLRor0iqbqXcoJecoZj+lLGRvY4jjOaJCYiLhm+FtYRehGqE2YSrhd+GdIhpir2MbI92ktiVj5mYnfChk6Z+q6ywGrbEu6TBtsf1zVzU5tqN4U7oIO8B9un80wO7CpkRahgnH8slUSyzMuw4+D7QRHJK2E/+VOBZeV7HYsVmcWrIbcZwanOydZt3JHlMehF7dXt1exJ7THoleZx3s3Vsc8lwy211aslmy2J/XuZZBVXgT3xK20QEP/k4wjJhLN4lOx+AGLIR1QrvAwj9IvZE73PotuER24nUJc7ox9nB+7tUtuiwvKvUpjKi3Z3WmSGWwJK4jwqNt4rDiC+H+4UqhbuEroQFhb6F2YZWiDKKbYwEj/aRQZXgmNOcFaGjpXmqlK/wtIe6VsBYxonM4tJg2f3fs+Z97Vb0OPseAgIJ3w+vFm0dFCSdKgQxRDdXPTlD5UhWTolTeVghXX9hj2VNabZsyW+Bct503XZ9eLx5mnoVey1743o2eid5t3fndblzLXFHbglrdWeNY1Zf01oHVvZQpEsVRk9AVDosNNktYSfLIBoaVBN+DJ8FvP7a9/7wLupv48jcPdbUz5HJesOTveK3a7IyrTyojKMmnw6bR5fUk7iQ9Y2Ni4OJ2IeNhqSFHYX5hDeF14Xahj2IAYojjKOOfZGvlDiYFJxAoLmkeqmCrsqzULkOvwDFIctt0d7Xb94b5d3rrvKK+WoASwcmDvYUtBtdIukoVS+bNbU7oEFWR9NMElIPV8ZbNGBUZCRooWvHbpRxBnQbdtF3J3kceq964Hquehp6JHnMdxV2/3OMcb5ul2saaElkKGC6WwNXBlLHTEpHlUGrO5E1TC/hKFYirxvyFCUOTAdtAI/5tvLn6yjlf97x14PROsscxS2/crnws6uup6nopHOgSpxxmOuUvJHkjmiMSIqGiCWHJIaFhUmFboX2heCGK4jWieCLR44JkSSUlpdbm3Gf1KOBqHStqrIduMq9rMO+yfzPYNbm3IfjP+oJ8d/3u/6WBW8MPRP8GaYgNiemLfEzEzoGQMZFTUuYUKNVaVrmXhdj+GaHasFtonApc1R1IHeNeJp5RHqNenR6+Hkaedx3PXY/dORxLm8fbLlo/2T1YJxc+VcQU+RNekjWQvw88ja7MF0q3iNCHY4WyQ/2CB0CQ/ts9J/t4OY14KTZMtPkzL/GyMADu3a1JbAUq0emwqGJnZ+ZB5bEktiPR40SizqJwoeqhvOFnoWshRuG7YYfiLKJo4vyjZyQn5P6lqiaqJ71oo6nbayPsfC2i7xdwmDIj87m1GDb9uGl6GfvNfYM/eQDuQqGEUUY8B6CJfYrRzJwOGs+NETGSR1PNFQIWZVd1mHJZWppt2ysb0hyiHRqdu53EXnUeTR6M3rQeQt55Xdednl0N3KZb6FsUmmvZbtheF3qWBVU/U6lSRJEST5OOCYy1StiJdEeJxhpEZ4KywP1/CH2Ve+X6OvhV9vh1I7OYshjwpa8/raisYSsqacVo8ye0Joml9CT0ZArjuCL8olkiDWHZ4b6he+FR4b/hhmIk4lsi6ONNZAgk2OW+5nknRyioKZrq3mwyLVSuxPBBscnzXDT3tlp4A7nx+2P9F/7MwIFCdAPjhY7Hc8jRyqdMMw2zjygQj1In03DUqVXQVySYJZkSWioa7FuYnG3c691SXeEeF551nnteaJ59Xjod3p2rXSDcv1vHW3laVlme2JOXtVZFFUPUMpKSUWRP6U5jDNJLeImXCC8GQcTQwx2BaX+1PcK8UzqoOMK3ZHWONAHygDEKr6IuCCz9q0NqWukEaAFnEmY4JTOkROPs4ywiguJxYffhluGOYZ3hhiHGYh7iTuLWY3Uj6iS05VUmSedSaG4pW6qaa+ltB26zb+wxcPL/9Ff2ODee+Ur7OvytfmEAFMHHA7ZFIYbHSKYKPIuJzUxOwxBskYgTFBRP1bpWkpfX2MkZ5Zqsm13cOFy73SgdvF34nhyeaF5bnnaeOR3j3bbdMlyW3CTbXNq/WY1Yx5fuloOVh1R60t7RtRA+DruNLkuXijjIU4bohTmDR8HUgCG+b7yAexU5bzeQNjj0avLnsW/vxS6obRqr3Sqw6VaoT6dcJn1lc+SAJCLjXKLt4laiF6HwoaHhq6GNocfiGiJEYsXjXmPNZJJlbOYcJx8oNWkd6lfroez7biMvmDEY8qR0OXWWt3r45LqSvEO+Nj+ogVpDCUT0hlrIOkmSC2CM5M5dj8mRZ5K20/XVJBZAF4lYvtlgGmvbIhvB3IrdPF1WXdheAh5T3k0ebh423eedgJ1CXOzcAJu+mqbZ+pj6F+aWwJXJVIGTalHEkJHPEs2JDDXKWcj3Bw6FoUPxQj9ATX7cPS07QfnbuDv2Y7TUc08x1XBobsjtuGw3qsep6aieZ6bmg2X1JPxkGiOOoxoivWI4ocuh9yG64ZbhyuIXInsitqMJI/IkcWUGJi+m7Wf+KOGqFmtb7LDt1G9FMMIySjPb9XY217i/Ois72n2Lv30A7cKcxEfGLkeOiWdK90x9DffPZhDG0ljTm1TM1iyXOhgz2RlaKhrlG4ocWFzPXW7dtp3mXj4ePV4kXjMd6h2JHVCcwRxbG57azNomGStYHRc8VcnUxtO0EhLQ5A9pDeLMUsr6CRnHs4XIhFoCqcD4/wh9mbvuugg4p7bOdX2ztvI7cIvvae3WbJKrXyo9aO4n8mbKZjdlOeRSY8GjR+LlYlriKCHNocth4WHPYhWic2Ko4zVjmKRR5SDlxOb854ho5qnWaxcsZ62GrzNwbHHw83901ra1eBp5xHux/SG+0cCCAnBD24WCB2LI/IpNzBVNkc8CUKWR+pMAFLUVmJbp1+fY0dnnWqdbUVwknKEdBl2T3cleJp4sHhkeLd3q3ZAdXZzUHHPbvVrxWhBZWxhSF3aWCRULE/zSYBE1T74OO4yuyxkJu4fXxm8EgkMTQWO/s/3F/Fr6tDjTN3k1pzQe8qFxL++LbnUs7iu3alHpfug+pxJmeqV4ZIvkNeN2os6ivmIGIiWh3WHtYdViFWJtYpyjIyOAZHPk/SWbZo3nlCitKZfq06wfbXouorAX8ZizI7S39hP39nleOwn8+D5nQBaBxEOvRRYG90hRyiQLrU0rjp5QBBGbkuQUHJVD1pjXmxiJmaNaaFsXW+/ccdzcXW+dqt3OHhleDF4nXeodlV1pHOWcS1vamxRaeRlJGIWXr1ZHFU2UBFLr0UVQEg6TTQnLt0nciHtGlMUqA3yBjcAfPnG8hvsgOX63o7YQ9IczB7GUMC0ulC1KLBAq5ymQKIvnm2a/JbfkxmRrI6ajOSKjYmUiPyHw4frh3OIW4miikiMSo6nkF2Ta5bNmYGdhKHTpWqqRq9itLu5Tb8SxQbLJNFp183dTeTj6orxPfj1/q4FYwwNE6kZLyCcJuosFDMVOec+iETxSR9PDVS4WBxdNWEAZXpooGtwbuhwBHPFdCd2K3fQdxR4+Hd8d6B2ZXXLc9VxhG/ZbNdpgGbXYt9em1oOVjxRKUzZRlBBkzunNY8vUSnyIngc5hVDD5QI3gEo+3T0yu0v56fgOdrp073NucfiwT28zrabsaas9KeIo2eflJsRmOGUCJKGj1+NlIsmihaJZogWiCaIl4hniZaKI4wNjlOQ8pLolTOZ0Zy/oPike6lDrk2zlLgUvsnDrsm/z/bVT9zE4lHp8O+c9k/9BAS2Cl8R+heCHvIkRCtzMXo3VT3+QnJIq02nUl9X0lv7X9djY2ecaoBtC3A9chN0jHWndmJ3vne6d1V3kXZude1zD3LVb0JtV2oXZ4Rjol9zW/pWPFI8Tf5Hh0LaPPw28zDCKm8k/x13F9wQMwqDA9H8IPZ4793oVOLj25DVXs9UyXXDx71OuA+zDq5OqdSko6C/nCqZ6JX6kmWQKY5IjMSKnonXiG+IaIjAiHiJj4oEjNeNBJCMkmuVoJgnnP+fI6SRqEatPLJxt+C8hcJayF3Oh9TU2j/hwudZ7v70q/tbAgoJsg9NFtYcSCOdKdEv3zXBO3NB8UY2TD5RBFaFWr5eq2JIZpRpi2wqb3FxXHPrdB1273Zid3V3KXd9dnJ1CXRCciFwpW3RaqhnLGRfYEVc4Vc3U0pOHkm4Qxw+TjhSMi8s6CWCHwQZcRLQCyYFeP7L9yTxieoA5I3dNtcA0e/KCcVTv9C5hrR4r6uqIqbioe2dRprylvGTSJH3jgGNZ4sqik2JzoiviO+Ij4mOiuyLpo28jyyS9JQSmIObRZ9Uo62nTqwxsVO2sbtFwQzHAM0d013Zvd835sXsYvMK+rUAYQcGDqEUKhueIfcnLy5DNCw65z9vRb5K0k+mVDZZfl17YSpliGiRa0VuoHChckZ0jXV3dgF3LHf3dmN2cHUedHByZnACbkVrM2jNZBZhEl3DWCxUU085SuVEWT+aOa0zly1dJwIhjhoEFGoNxgYcAHP5z/I17KvlN9/c2KLSi8yext/AU7v+teSwCqxzpyOjHp9nmwCY7ZQvksqPv40PjLyKyIkyifuIJImtiZSK2Yt7jXqP0pGDlIqX5ZqQnoqiz6ZbqyuwO7WHugvAwcWny7bR6tc/3q7kNOvK8Wv4Ev+5BVwM9RJ/GfUfUCaNLKYylzhaPutDRUllTkVT41c6XEhgCGR3Z5RqW23Lb+Fxm3P5dPl1mnbcdr92Q3ZndS50mHKlcFlus2u4aGhlyGHZXZ5ZHFVWUE9LDEaRQOI6BDX8Ls4ofyIVHJQVAg9kCL8BGvt49ODtVufg4IPaRNQozjTIbcLYvHi3U7JsrceoaKRToIucEpnslRuToZCBjryMU4tIipuJTolfic+Jn4rMi1eNPY9+kRiUCJdMmuKdxqH2pW6qKq8otGK51b58xFLKVNB71sTcKeOm6TTwzvZw/RMEswpLEdUXTB6qJOsqCjEBN8s8ZULKR/VM4lGOVvRaEV/iYmNmk2ltbPFuHHHscl90dnUudod2gnYddll1OHS5ct9wqW4cbDdp/mVzYppedFoHVlRRYEwvR8RBJjxXNlwwOyr4I5gdIBeWEP8JYAO//CD2ie//6IjiKdzm1cXPy8n8w16+9LjDs9CuHqqwpYuhsp0omu+WC5R+kUmPbo3vi86KCoqliZ+J+ImwisWLOI0HjzCRs5OMlrmZOZ0IoSOlhqkvrhqzQrikvTrDAsn1zhDVTduo4RvooO409dD7bwIMCaMPLBakHAUjSSlsL2o1PDvfQE1GhEt9UDZVq1nYXblhTGWNaHtrE25ScDdywXPtdLx1LXY+dvF1RnU8dNVyEnH0bn5ssGmOZhljVV9FW+tWTFJrTUxI80JkPaQ3uDGkK20lGB+qGCgSmAv/BGL+xvcx8ajqMOTO3YjXYtFiy4zF5b9yuja1NrB3q/umxqLdnkGb95f/lF6SFZAljpCMWYt+igKK5YknisaKxIsfjdeO6JBTkxaWLZmWnE+gVaSkqDmtEbInt3i8/sG2x5vNqdPa2Srgk+YQ7Z3zM/rNAGcH+w2EFP0aXyGnJ88t0jOsOVc/z0QQShZP3FNfWJtcjGAwZIRnhWowbYRvfnEdc2B0RXXNdfZ1wHUsdTp063I/cTlv2mwjahhnuWMLYBBcy1c/U3FOZEkdRJ4+7jgQMwkt3iaUIDAatxMuDZsGAgBr+djyT+zX5XPfKtkA0/rMHcduwfG7qrafsdKsSKgFpAugX5wCmfiVQ5PlkOCON43pi/iKZYoxiluK44rJiwyNrI6mkPqSpZWmmPmbnJ+No8inSawOsRG2ULvGwG/GRsxG0mvYr94O5YPrCPKY+C7/xAVVDN0SVhm6HwUmMSw6Mho4zj1PQ5tIrE1/UhBXW1tcXxJjd2aKaUlssW7AcHVyzXPJdGd1qHWJdQ11MnT7cmdxeG8wbZFqnGdUZLtg1VylWC1Uck94SkFF1D8zOmM0ai5MKA0isxtDFcEONQihAQ77ffT27X3nGOHM2p7Uks6vyPfCcb0guAmzMK6YqUalPaF/nRGa9JYslLqRoY/hjX6Md4vNioKKlIoFi9SL/4yHjmqQp5I7lSWYYpvvnsqi8aZeqw+wAbUuupO/LMX0yufQ/9Y43Y3j+el28AD3kP0iBLEKOBGwFxYeYySUKqEwiDZDPM5BJEdBTCBRv1UYWile72FmZYxoXmvabf1vx3E2c0h0/XRUdU116HQldAVziXGxb4Ft+GoaaOhkZWGVXXlZFVVuUIZLYUYEQXM7szXHL7UpgiMyHcsWUhDMCT4Drvwg9pvvIum84m3cO9Yr0EHKgsTzvpi5drSQr+uqiqZxoqOeJJv1lxmVlJJmkJGOGI37izuL2IrUii2L5Iv4jGmONJBZktaUqZfQmkieDqIfpniqFq/1sxG5Zb7uw6fJjM+Y1cXbD+Jy6OfuavX1+4ICDgmTDwwWchzCIvYoCS/2NLg6S0CrRdNKv09qVNJY81zJYFJkimdvav5sNm8VcZlywXONdPt0C3W9dBJ0CXOkceVvy21aa5Jod2UKYk5eSFr4VWRRj0x8RzBCrzz9NiAxGyvzJK4eURjgEWAL2ARN/sL3PvHG6l/kD97Z18TR1MsOxnbAErvltfOwQazRp6mjy586nPmYC5Zxky+RRo+3jYSMrYs0ixiLW4v6i/eMUI4EkBKSeJQ0l0Sapp1XoVOlmKkjru+y+Lc8vbXCX8g1zjTUVdqV4O7mWu3W81v65ABtB/ANaBTPGiEhWCdvLWIzLDnIPjFEY0lbThRTile6W6BfOWODZntpHmxqbl5w93E2cxd0nHTDdI10+XMIc7pxEnAQbrVrBGn/ZaliA18RW9ZWVVKSTZJIV0PmPUQ4dDJ8LGEmJyDTGWsT8wxwBur/Y/nh8mrsAuaw33fZXdNozZvH+8GNvFW3V7KYrRup5KT2oFSdAZoAl1SU/ZH/j1uOEo0ljJWLY4uOixaM+4w9jtqP0JEflMWWvpkKnaWgjaS+qDSt7rHlthe8gMEbx+PM1NLq2B7fbeXR60XyxfhJ/84FTwzFEi0ZgB+6JdYrzjGfN0M9tULyR/VMu1E/Vn1ac14eYnllg2g6a5ptom9RcaVynXM4dHZ0V3TacwBzy3E5cE5uC2xxaYJmQmOxX9RbrldBU5FOo0l5RBk/hjnFM9otyyecIVIb8hSCDgYIhAEB+4L0DO6k51DhFNv31PzOKMmAwwm+x7i+s/OuaKoipiSicZ4Nm/qXOpXQkr2QBI+ljaKM/Iuzi8aLOIwFjTCOtY+UkcyTW5Y+mXSc+p/Mo+mnTKzysNe1+LpQwNvFlct50YHXq93w40vqt/Aw97D9MASuCiQRjBfgHR0kPCo6MBE2vDs4QX9GjktgUPFUPllEXf5ga2SIZ1FqxWzibqZwD3Idc89zI3QbdLZz83LVcVtwh25bbNhpAGfVY1pgklyAWCdUik+uSpZFRkDDOhE1NC8xKQ0jzhx3Fg8QmQkcA578Ifas70Xp8OKy3JDWkNC2ygfFh787uie1T7C3q2OnVaOSnx2c95gllqeTgJGyjz6OJY1ojAiMBYxfjBWNKI6Wj16Rf5P3lcSY5JtUnxGjGadoq/uvzrTduSW/oMRLyiHQHdY73HbiyOgs7571GPyVAhAJhA/rFUEcgCKjKKUugjQ1Ork/CkUkSgJPoVP8VxFc3F9aY4hmZGnsax1u9m90cZhyYHPMc9pzjHPhctlxd3C6bqVsOWp3Z2Jk/WBKXU1ZCFV+ULVLrkZvQfw7WDaJMJMqeyRGHvkXmBEqC7IEOP6/90zx5eqP5E/eKtgl0kXMj8YGwbG7krausQmtpqiKpLegMJ35mRSXgpRHkmSQ246sjdmMYoxJjIuMK40mjn2PLpE4k5mVUJhZm7OeXKJPpoqqCa/Ks8i4/r1qwwbJzs691M/a/+BH56TtD/SD+vsAcwflDUwUohrjIAknEC3zMq04Oj6UQ7hIok1OUrdW21q2XkVihWV0aA5rU21Bb9VwDnLscm5zlHNcc8hy2HGNcOhu6WyUauhn6mSbYf1dFFrjVW1RtkzBR5NCMD2bN9sx8ivmJbsfdxkfE7gMRgbR/1v56vKE7C3m69/D2brT1M0XyIfCKL3+tw+zXa7sqcGl3qFHnv6aBphilROTG5F9jzmOUI3CjJKMvoxGjSqOao8EkfeSQZXhl9SaGZ6soYqlsakdrsuyt7fcvDjCxcd+zWHTZ9mM38vlHuyC8vD4ZP/YBUgMrRIEGUcfcCV7K2QxJDe5PBxCS0dATPhQb1WiWY1dLGF+ZH9nLWqGbIduMHB/cXNyDHNIcydzqnLRcZ1wD28obelqVGhsZTJiql7WWrlWV1KyTdBIs0NfPto4KDNMLUwnLSHzGqMUQw7YB2cB9fqH9CHuy+eH4V3bT9Vkz6DJCMSgvmy5crSzrzWr/KYJo2GfB5z9mEaW45PXkSSQyo7LjSiN4Iz2jGeNNI5dj9+Qu5LvlHiXVZqEnQGhy6TeqDat0bGrtr+7CsGIxjPMCNIC2BzeUeSc6vjwYPfP/T8ErAoQEWcXqx3XI+Yp0y+bNTc7o0DcRdxKoU8lVGZYYFwQYHNjhmZHabNryW2Hb+tw9XGkcvZy7HKHcsVxqHAxb2BtOGu6aOhlxWJSX5Jbilc7U6lO2UnNRIo/FTpwNKIuryibImscIxbKD2YJ+gKO/CX2xe9y6TLjCt3/1hbRUsu6xVLAHbsgtl+x3ayfqKek+aCYnYaaxpdalUSThZEekBKPYY4Kjg+OcI4rj0GQsJF4k5aVCZjQmuedTKH9pPaoNa21sXS2bbudwP7FjctG0SPXId0542jpqe/19Un8ngLxCDwPeRWlG7ohsyeMLT8zyTgkPkxDPkj2TG9RplWYWUJdoGCxY3Fm32j4artsJ246b/RvVHBbcAZwWW9SbvJsPGswac9mHWQaYctdMFpOVidSvk0YSThEIT/ZOWM0xC4AKRwjHR0HF98QqwpvBDH+9Pe/8ZbrfuV835XZztMqzrDIYsNGvmC5srRBsBKsJaiApCWhFp5Wm+eYy5YElZOTeZK3kU2RPJGEkSWSHZNtlBOWDZhbmvqc6J8io6emcqqCrtOyYbcovCXBVMaxyzfR4das3JPikOif7rv04PoHAS0HTA1hE2QZUx8oJd4qcTDcNRw7LEAHRapJEk46UiBWwVkZXSZg5WJVZXNnPmm0atVrn2wSbS1t8GxdbHJrMmqdaLRmeGTtYRNf7lt/WMpU0VCYTCNIc0OPPnk5NTTJLjgphiO5HdQX3RHZC8wFvP+t+aPzpO2059nhFtxx1u/Qksthxl7Bj7z2t5ezdq+Xq/unp6Scod6ebZxNmn+YBJfdlQyVkJRrlJyUI5X/lTGXtpiOmrecL5/1oQWlX6j+q9+vAbRfuPa8wsG/xunLPdG11k3cAuLO56ztmPOO+Yf/gAV0C14RORcBHbEiRCi3LQMzJzgcPeBBbkbEStxOtVJMVpxZpFxiX9Jh9GPFZUVncmhKac5p/mnYaV1pjmhrZ/ZlL2QYYrJfAF0EWsBWN1NsT2JLG0edQuk9BTnzM7kuWinaIz4eixjFEvEMEwcxAU/7cPWb79TpIOSD3gHZn9Nizk3JZcStvym73rbNsvuua6seqBmlXaLsn8md9Ztxmj+ZX5jTl5qXtZckmOaY+plgmxedHJ9voQ6k9qYkqpitTbFAtW+51b1xwj3HNcxX0Z3WBNyH4SHnz+yL8lL4Hf7pA7EJcQ8jFcQaTyC/JRArPTBENR86yj5DQ4VHjUtYT+JSKlYtWedbV158YFJi2mMRZfdli2bNZr1mWmalZZ9kSGOiYa1fbV3hWg1Y81SWUfdNGkoDRrRBMT19OJ0zlC5nKRkkrh4sGZcT8w1ECI8C2vwo933x3+tS5trgfNs81h7RJ8xax7rCTb4Vuha2UrLNroqri6jTpWOjPqFln9qdnpyymxaby5rRmimb0ZvKnBKeqJ+LobqjMqbzqPirQK/Jso+2kLrHvjPDzseWzIbRm9bQ2yLhi+YJ7JXxLPfK/GgCBQiaDSMTnRgCHk4jfSiLLXMyMzfFOydAVURLSAdMhk/EUr9VdVjkWgpd5V5zYLRhpmJJY51joGNUY7hizWGTYA1fOl0dW7dYClYZU+ZPc0zDSNlEuUBmPOI3MzNbLl8pQiQJH7gZUxTeDl4J2ANQ/sn4SvPV7W/oHePj3cXYx9PuzjzKt8VgwT29ULmctSSy667zq0Cp0qaspNCiP6H5nwKfWJ78ne+dMZ7Bnp6fyqBBogOkD6ZiqPuq2a33sFW077fBu8u/B8RyyAnNydGt1rHb0uAL5ljrtfAd9oz7/QBuBtkLORGLFsob8SD+Jesqti9ZNNI4HD01QRlFxUg2TGlPXVINVXpXn1l9WxFdWl5XXwhgbGCCYEtgxl/1XthdcFy+WsRYglb8UzJRKE7gSlxHn0OtP4k7NTe1Mg4uQilWJE4fLRr4FLMPYgoKBa//VfoA9bTvdupL5TXgOttd1qLRDc2iyGPEVcB7vNe4bbVAslGvo6w4qhOoNKaepFGjT6KYoS2hDqE7obSheKKHo+Gkg6ZtqJyqEK3Gr7yy77VduQS938DtxCnJkc0g0tPWp9uX4KDlverq7yT1Zfqq/+4ELQpkD44UphmpHpMjXygLLZEx7zUiOiU+9UGQRfNIG0wFT69RGFQ9VhxYtFkEWwtcyVw7XWNdQF3SXBpcGFvNWTpYYVZDVOFRP09dTD5J5kVVQpA+mjp1NiUyrS0SKVYkfh+NGogVcxBRCyYG+ADK+6D2fvFp7GTnc+Kb3d/YRNTMz3vLVcdew5e/BbyquIi1o7L8r5atcquSqfinpaaZpdekXaQtpEekqqRWpUumh6cLqdSq4awwr8CxjrSYt9u6Vr4FwuTF8skrzorSDtey23LgSuU46jbvQPRU+Wz+gwOYCKUNphKYF3YcPCHnJXMq3C4fMzg3JDvhPmpCvUXYSLhLW06/UOJSwVRdVrNXw1iLWQtaQ1ozWtpZOllRWCNXrlX1U/lRvE8/TYVKj0dgRPtAYz2ZOaM1gTE5Lc0oQSSZH9gaAxYcESkMLQcrAir9K/gz80buZ+mc5OjfTtvS1njSQ842ylbGpMIkv9m7xLjqtUuz6rDJrumsTKv0qeCoE6iMp02nVKeipzioE6k1qpqrRK0vr1uxxbNstk65aLy4vzrD7cbNytfOCNNc19HbYeAK5cjpl+5z81j4Q/0uAhgH+wvUEJ8VVxr5HoIj7ic5LGAwXzQ0ONs7Uj+VQqJFd0gSS3BNj09uUQxTZ1R+VVBW3VYkVyVX4FZWVodVc1QbU4JRp0+MTTRLoEjSRcxCkj8lPIg4vjTLMLIsdSgZJKAfDhtoFrER7AwdCEkDdP6g+dL0DfBW67HmIOKp3U3ZEdX50AbNPsmhxTTC+r70uyW5j7Y0tBeyObCarj6tJKxNq7qqbKpiqp6qHavhq+esMa67r4axkLPWtVe4ErsDvinBgMQHyLrLls+Z077XA9xl4N7kbekN7rvyc/cw/O8ArgVnChcPuhNNGMscMSF9Jakpsy2YMVU15jhJPHs/ekJCRdNHKkpFTCJOwU8fUTxSF1OvUwRUFlTkU29Tt1K9UYJQBk9LTVJLHUmvRgdEKkEZPtc6ZjfJMwMwGCwJKNwjkh8wG7gWLxKZDfgIUQSo///6W/a/8TDtsehF5PDftduY15zTxc8VzI/INsUNwha/VLzIuXW3XbWAs+KxgrBjr4Su5q2LrXKtm60FrrKuoK/OsDuy5rPPtfK3TrrjvKy/qcLWxTHJuMxn0DzUNNhK3Hzgx+Qn6ZntGfKj9jP7x/9ZBOgIbw3rEVcWsRr0Hh4jKycYK+IuhjIANk85bzxePxlCoETvRgRJ30p9TN5NAE/iT4RQ5lAHUeZQhVDkTwJP4U2CTOZKDkn8RrJEMEJ6P5I8eTkzNsIyKS9rK4sniyNwHzwb9BaZEjEOvQlDBcUASfzP91zz9e6c6lXmI+IJ3gzaLtZy0tvObcspyBLFK8J2v/a8q7qZuMC2IrXBs52yt7EQsamwgbCZsPCwh7FdsnGzwrRPthe4GLpRvMC+Y8E3xDvHbMrHzUrR8tS82KTcqODF5PboOu2M8ej1TPq0/hoDfwfdCzEQdhSrGMsc1CDBJJAoPizILyszZDZxOU88/T54Qb1DzEWjR0BJokrIS7FMXE3JTfhN6E2ZTQ1NQ0w7S/hJekjBRtFEqUJNQL09/DoNOPE0qzE+Lqwq+SYoIzofNRsaF+4Ssw5tCiAGzgF9/S355PSl8HLsUOhC5Evgbdyt2A7VkdE6zgzLCMgzxYzCGMDXvcy797lcuPq20rXntDe0xbOQs5iz3rNgtB+1GrZQt8C4aLpJvF++qsAmw9TFr8i2y+fOPtK61VbZEd3o4Nbk2ujv7BPxQ/V6+bX98QErBmAKiw6qEroWthqcHmkiGiarKRstZTCIM4I2TzntO1s+l0CeQnBEC0ZtR5VIg0k2Sq1K6UroSqtKM0p/SZBIZ0cFRmxEm0KWQF0+8ztZOZE2nzODMEEt3ClVJrEi8R4ZGy0XLhMhDwgL5wbCApz+d/pX9kDyNO436k3meOK83hrbl9c11PfQ383wyizIlsUuw/jA9b4mvY27LLoCuRK4XLfgtp62mLbMtju35bfIuOS5OLvDvIO+eMCfwvfEfscyyhDNF9BD05PWA9qS3Tvh/OTS6LrssPCz9L34zPzdAO0E+Aj7DPMQ3RS1GHgcJSC2IysnfyqwLb0woTNcNus4Szt8PXs/RkHdQj5EaEVaRhRHlEfbR+hHvEdWR7dG30XQRIpDDUJcQHg+YjwcOqg3CDU9MksvNCz6KJ8lJyKVHuoaKxdZE3kPjguaB6ADpf+r+7T3xfPh7wrsROiS5Pfgdd0P2snWpNOj0MnNGMuSyDjGDsQTwkvAt75XvSy8Obt8uvi5rLmYuby5Gbquunu7fry3vSW/x8CbwqDE1MY1ycLLec5W0VnUftfC2iTeoeE15d7omOxi8Df0Ffj5+9//wwOlB4ALUA8UE8gWaBrzHWUhvCT0JwwrAS7QMHgz9TVHOGw6YTwlPrg/FkFBQjZD9UN9RM5E6ETLRHdE7EMqQzNCB0GnPxQ+UDxcOjk46jVwM80wBC4WKwYo1ySLISUepxoVF3ETvg//CzcIaQSZAMn8/fg29Xnxye0n6pjmHuO833XcStlA1lfTk9D1zYDLNskYxyjFZ8PYwXvAUL9avpm9Db23vJe8rbz5vHu9Mr4dvz3Aj8ETw8jEq8a9yPrKYc3wz6bSf9V62JPbyt4a4oHl/uiL7Cjw0fOD9zr79f6vAmcGGQrCDWAR7xRsGNUbJx9fInsleShVKw4uojAOM1A1aDdSOQ47mzz2PSA/F0DaQGlBxEHpQdpBlkEeQXFAkT9+Pjk9xDseOks4SzYfNMsxTi+tLOgpAif+I90gox1RGusWdBPtD1sMvwgdBXgB0/0w+pL2/fJz7/bri+gz5fHhyN6728vY+9VN08TQYc4nzBbKMch5xvDEl8NuwnfBssAgwMG/lr+fv9u/S8DtwMLBycIAxGjF/sbCyLHKy8wNz3bRBNS11obZddyB36Xi4eUx6ZLsA/B/8wX3kfog/rABPgXICEkMwA8qE4MWyhn7HBUgFCP2JbooXCvaLTQwZjJvNE42ATiHOd46Bjz9PMQ9WD67Pus+6T60Pk0+tD3qPO87xDprOeM3MDZRNEgyGDDCLUcrqijuJRMjHSAOHegZrhZjEwkQogwzCbwFQgLI/k772fds9Ajxse1q6jTnE+QJ4RneRNuO2PjVhNM00QrPCM0vy4HJAMirxoTFjcTGwy/DycKUwpDCvsIcw6zDa8RbxXnGxcc+yeLKsMyozsbQCtNx1frXo9pp3UrgQ+NT5nfprezx70Hzm/b8+WH9xgAqBIsH5Qo1DnkRrhTTF+Ma3R2+IIUjLya5KCIraC2JL4MxVjP+NHw2zjfzOOo5sjpLO7U77jv3O9E7ejv0Oj46WjlJOAo3nzUKNEwyZTBZLics0yldJ8kkFyJLH2ccbBleFj4TEBDWDJIJRwb4Aqj/WPwM+cb1ifJY7zXsIuki5jjjZuCt3RHbk9g11vnT4dHuzyLOf8wFy7fJlMidx9XGOsbNxZDFgcWhxfDFbsYZx/LH+MgpyobLDM27zpDQjNKr1O3WT9nQ223eJOHz49jm0enb7PTvGPNG9nz5tvzx/ysDYwaVCb4M3A/tEu8V3Ri4G3seJSG0IyYmeSiqKrkspC5pMAYyezPHNOg13TamN0I4sTjzOAc57TilODE4jzfBNsc1ojRTM9wxPDB3Lo0sfypQKAEmlCMLIWkerhveGPsVBxMEEPUM3Am9BpgDcgBN/Sn6DPf28+rw7O386h7oVOWg4gTgg90d29bYr9ap1MfSCdFyzwLOusyby6fK3slAyc/IishxyIXIxcgyycrJjsp8y5XM1s0/z8/QhNJe1FrWd9iz2gzdgd8P4rXkcOc+6hztCvAD8wb2EPkf/DH/QQJQBVkIXAtUDkARHhTrFqUZSRzXHkshoyPfJfsn9ynRK4ctGS+EMMgx5DLXM580PjWyNfo1FzYJNtA1azXcNCI0PzMzMv8wpC8jLn4stSrKKL8mliRQIu8fdR3kGj4YhRW8EuQPAA0TCh4HJAQoAS3+Mvs9+E71aPKP78PsB+pe58nkSuLk35jdaNtX2WTXk9Xl01rS9NC0z5vOqs3izELMzcuBy2DLacucy/jLf8wvzQfOB88u0HvR7dKD1DzWFdgO2iXcWN6l4AvjiOUZ6L3qce0z8AHz2fW5+J37hP5rAVEEMwcOCuAMpw9hEgwVpRcqGpoc8h4xIVQjWyVDJwwpsyo3LJct0y7oL9cwnzE+MrYyBDMpMyYz+TKkMiYyfzGyML0voy5jLQAseSrRKAknISUdI/0gwx5xHAgajBf9FF4SsQ/4DDUKawecBMoB+P4n/Fn5kvbT8x7xdu7d61Tp3+Z+5DTiAuDr3e/bEdpS2LPWNtXb06TSktGm0N/PP8/HznbOTc5MznPOwc43z9PPl9CA0Y7SwNMV1Y3WJdjd2bLbpd2y39nhGORs5tToTuvY7XDwFPPB9Xb4MPvt/aoAZwMgBtQIgAsiDrgQQBO3FR0YbxqrHM8e2iDKIp4kUybqJ2AptSrnK/Us3y2lLkQvvi8RMD0wQzAiMNovbS/ZLiAuQi1ALBsr1ClrKOImOyV2I5Yhmx+HHVwbHBnIFmIU7RFrD9wMRAqkBwAFVwKv/wb9YfrB9yn1mfIV8J/tOOvj6KDmc+Rc4l7ged6w3ATbdtkH2LjWi9WB1JrT1tI30r3RaNE40S7RStGL0fHRfNIr0/7T9NQM1kbXoNgZ2rDbZN0z3xzhHeM05WHnoenx61LuwPA587z1RvjW+mr9/v+RAiIFrwc0CrEMIg+HEd0TIhZVGHQafRxvHkggBiKpIy4llSbdJwUpCyrvKrErUCzKLCEtUy1hLUstEC2xLC8siSvBKtYpyiieJ1Mm6SRiI78hASAqHjwcNxoeGPMVthNqEREPrQw/CsoHTwXQAlAA0v1V+9z4avYB9KHxTu8J7dTqsOig5qXkwOLz4EDfqN0r3Mzaitlo2GfXhtbG1SnVrtRW1CHUD9Qh1FXUrdQn1cTVgtZh12HYf9m92hjcj90i387gk+Jv5GHmZuh+6qbs3u4i8XLzy/Ur+JH6+/xm/9ABOQSeBvwIUwugDeIPFRI6FE4WUBg9GhUc1R19HwwhfyLXIxElLSYqJwgoxShhKdwpNSpsKoEqdCpFKvQpginuKDooZidzJmElMSTlIn0h+h9fHqwc4hoDGREXDRX4EtYQpg5rDCcK2weKBTUD3wCJ/jT84/mY91T1GvPq8Mfus+yv6rzo3eYT5V7jweE94NPehN1R3DvbQ9pp2a/YFNia10DXBtfu1vfWINdr19XXYNgL2dTZvNrB2+PcId563+zgd+IZ5NDlned86Wzrbe1875fxvfPt9SP4YPqg/OL+IwFkA6EF2QcKCjIMTw5hEGUSWRQ8Fg0YyhlyGwQdfR7eHyQhUCJgI1MkKCXgJXkm8iZNJ4gnoyeeJ3onNifSJlAmryXwJBQkGyMGItcgjR8qHrAcIBt6GcAX8xUWFCkSLxAoDhYM+wnZB7IFhgNZASz///zW+rL4lPZ+9HLycvB/7pvsx+oE6VXnueU05MXibuEw4AzfA94W3UTckNv52oDaJdrp2cvZzNns2SrahtoA25jbTdwe3QveEt804G/hwuIs5KzlQOfo6KHqa+xF7ivwHvIb9CL2L/hC+ln8cv6KAKMCuATJBtQI1wrRDMAOohB2EjsU7xWRFx8ZmRr9G0kdfh6bH50ghSFSIgIjlyMPJGokpyTHJMokryR2JCEkriMgI3UiryHOINMfvx6SHU8c9RqGGQMYbRbGFA8TSRF2D5gNrwu9CcQHxgXDA78Bu/+2/bX7t/m/98/15/MK8jnwde6/7BrrhukF6JfmPuX849DivOHA4N7fFt9p3tfdYd0G3cjcptyg3Lfc6tw53aTdKt7L3obfXOBK4VHib+Oj5O3lTOe96EHq1ut67S3v7PC38oz0afZO+Dj6JfwV/gUA9gHkA84FsgeQCWYLMQ3yDqUQSxLiE2gV3BY9GIsZwxrmG/Ec5R3BHoQfLSC9IDEhiyHKIe4h9yHkIbYhbSEKIYwg9B9DH3kelx2eHI4baBouGd8XfxYMFYoT+BFZEK0O9gw1C2wJnAfGBe0DEQI1AFn+f/yp+tf4DPdJ9Y/z3/E88KbuHu2n60Dq6+ip53vmYuVf5HLjneLf4TrhruA74OLfo99933Lfgd+q3+3fSeC/4E7h9eG04orjduR45Y/muuf46Ejqqesa7ZnuJvC+8WLzD/XE9oD4QfoG/M39lv9dASMD5gSkBl0IDgq2C1QN5w5tEOYRTxOpFPEVJxdLGFoZVBo5GwgcwBxhHeodWh6yHvIeGB8mHxof9h65HmMe9R1vHdIcHhxUG3Qafxl2GFsXLBbtFJ0TPhLREFgP0g1CDKkKCAlgB7QFAwRQApsA6P42/Yb72/k2+Jf2APVz8/Hxe/AS77fta+wv6wXq7Ojn5/bmGOZR5Z7kAuR94w/juOJ54lLiQuJK4mriouLx4ljj1eNp5BLl0eWk5oznhuiT6bLq4esg7W3uyO8v8aLyHvSk9TH3xPhd+vn7mP04/9gAdgISBKoFPQfJCE4Kygs7DaEO+w9IEYYStRPTFOAV2xbEF5kYWhkGGp0aHhuKG98bHhxGHFccUhw2HAMcuhtbG+YaXBq8GQkZQhhnF3sWfBVtFE4TIBLkEJsPRg7nDH0LCwqSCBIHjgUGBHsC7wBk/9n9UPzL+kv50fdf9vX0lPM+8vPwte+F7mTtUexQ61/qgOmz6PrnVOfC5kTm3OWI5UrlIuUP5RLlKuVY5Zvl8+Vg5uLmd+cf6NvoqOmH6nfrd+yG7aPuzu8F8UjylfPr9Er2sPcb+Yz6APx3/e/+ZgDdAVIDxAQxBpkH+QhSCqIL6AwjDlIPdBCIEY4ShBNrFEAVBBa2FlYX4hdbGMAYEhlPGXcZixmLGXYZTRkPGb4YWRjgF1UXtxYHFkYVdRSTE6ISoxGWEHwPVg4mDesLqApcCQoIsgZVBfUDkgIuAcv/aP4G/aj7Tvr5+Kr3Y/Yk9e7zw/Kj8Y/wiO+P7qTtyez960Lrl+r/6XjpA+mh6FPoF+ju59nn2Ofp5w7oR+iS6O/oX+nh6XTqGevN65LsZu1I7jjvNfA+8VLycfOZ9Mr1AvdB+IX5zvoa/Gn9uf4JAFgBpgLxAzkFewa4B+0IGwpAC1wMbA1yDmwPWBA3EQgSyRJ8Ex4UsBQxFaAV/xVLFoUWrRbDFsYWtxaWFmMWHhbIFWAV6BRfFMUTHRNlEp8RyxDrD/4OBQ4CDfUL3wrBCZwIcAc/BgoF0gOXAlsBHgDj/qj9cfw8+wz64vi+96H2jfWB9IDziPKd8b3w6u8k723uxO0q7Z/sJOy662DrFuve6rbqoOqb6qfqxerz6jLrgevh61Hs0Oxe7fvtpu5f7yTw9vDT8bvyrfOp9K31uPbL9+P4Afoi+0f8bv2X/r//5wAOAjIDVARxBYkGmwenCKsJpgqZC4EMXw0yDvkOsw9gEAARkhEVEokS7xJEE4sTwRPnE/4TBBT6E+ATtxN9EzQT3BJ1EgASfBHrEEwQoQ/qDicOWQ2BDKALtgrECcoIygfFBrsFrQScA4gCcwFeAEv/N/4m/Rf8DfsH+gb5DPgZ9y72S/Vx9KHz2/Ih8nLxz/A58LDvNe/H7mfuFu7T7Z/teu1j7VztZO167aDt1O0W7mfuxe4y76vvMfDD8GLxC/K/8n7zRvQX9fD10Pa396X4l/mO+on7hvyG/Yf+if+JAIkBhwKCA3oEbgVdBkUHKAgDCdYJoQpjCxsMyQxsDQQOkQ4RD4UP7A9GEJIQ0hADEScRPRFFET8RKxEKEdsQnhBVEP4PnA8sD7EOKw6ZDf0MVwyoC/AKLwpnCZgIwwfoBggGJAU9BFMDZwJ5AYsAn/+y/sf93/z6+xj7PPpk+ZP4yPcE90j2lfXq9En0svMk86LyK/K/8V/xC/HD8IjwWfA38CLwGvAe8C/wTfB38K7w8PA/8Znx/vFu8unybvP985X0NfXe9Y72RfcD+Mb4j/lc+i37AvzY/LH9i/5l/z4AGAHvAcUClwNmBDEF9wW3BnIHJgjSCHcJFAqpCjQLtgsuDJwMAA1ZDaYN6Q0gDkwObA6ADokOhg53Dl0ONw4GDsoNgw0yDdYMcAwBDIgLBwt9CusJUgmxCAsIXgesBvYFOwV9BLsD+AIyAmwBpQDg/xr/Vf6T/dP8F/xe+6r6+vlQ+az4D/h49+n2Yfbi9Wz1/vSZ9D707fOm82nzNvMO8/Dy3fLU8tby4/L68hvzR/N887zzBfRY9LP0F/WE9fj1dfb49oL3E/ip+EX55fmK+jL73vuM/D397/2i/lX/BwC6AGsBGgLHAnEDGAS7BFkF8gWGBhUHnQceCJgICwl2CdkJNAqGCtAKEQtIC3YLmwu2C8gL0AvPC8QLsAuTC2wLPAsEC8MKegooCs8JbgkGCZcIIginByYHoAYVBoYF8wRdBMMDKAOLAuwBTAGsAAwAbv/Q/jT+mv0C/W383PtP+8b6Q/rE+Uv51/hq+AT4pfdM9/v2svZw9jf2Bfbc9bv1ovWS9Yv1i/WU9ab1wPXh9Qv2PfZ29rf2/vZN96L3/vdg+Mf4M/ml+Rv6lfoT+5T7Gfyg/Cj9s/0+/sv+V//k/28A+gCDAQoCkAISA5EDDQSFBPkEaAXSBTcGlwbxBkQHkgfZBxkIUgiFCLAI1AjxCAcJFQkcCRsJEwkECe4I0QisCIEIUAgYCNkHlQdLB/wGpwZOBvAFjQUnBb0EUATgA24D+QKDAgsCkwEaAaAAJwCv/zj/wf5N/tr9av38/JL8K/zH+2j7DPu2+mT6F/rP+Y35UPkZ+ej4vfiY+Hn4YfhO+EL4Pfg9+ET4Ufhk+H34nPjB+Oz4G/lQ+Yr5yfkN+lX6ofrw+kT7mvv0+1D8r/wQ/XL91v07/qD+B/9t/9P/NwCcAP8AYQHBAR8CewLUAioDfQPNAxkEYQSlBOUEIQVYBYoFuAXgBQQGIgY7Bk8GXgZoBmwGawZlBloGSQY0BhoG/AXYBbEFhAVUBSAF6AStBG4ELQToA6EDVwMMA74CbwIeAs0BewEoAdUAggAvAN3/jP88/+z+n/5T/gn+wv18/Tr9+vy9/IT8Tfwb/Ov7wPuY+3X7Vfs5+yL7Dvv/+vT67frq+uz68fr7+gn7Gvsv+0j7ZfuF+6j7z/v4+yX8VPyF/Ln87/wn/WH9nP3Z/Rf+Vf6V/tT+Ff9V/5X/1P8TAFEAjwDLAAYBPwF3Aa0B4gEUAkMCcQKcAsQC6QIMAywDSQNiA3kDjQOdA6sDtQO8A8ADwQO+A7kDsQOlA5cDhwNzA10DRQMqAw0D7QLMAqkChAJeAjYCDQLjAbgBjQFgATMBBgHYAKsAfQBQACQA+f/N/6P/ef9R/yn/A//f/rz+m/57/l3+Qf4n/g/++f3l/dP9w/22/av9of2a/ZX9kv2S/ZP9l/2c/aP9rP23/cT90v3i/fP9Bv4a/i/+Rf5c/nT+jf6n/sH+3P73/hL/Lf9J/2T/f/+a/7X/z//p/wEAGQAxAEgAXgBzAIcAmQCrALwAywDaAOYA8gD9AAYBDgEUARoBHgEhASMBIwEjASEBHgEaARYBEAEKAQIB+gDyAOgA3wDUAMoAvgCzAKgAnACQAIUAeQBtAGIAVwBMAEIANwAuACUAHAAUAA0ABgAAAPv/9//z/+//7f/r/+r/6f/p/+r/7P/u//D/9P/4//z/AAAAAAAAAAAAAAAAAAAAAAAAAAAAAAAAAAAAAAAAAAAAAAAAAAAAAAAAAAAAAAAAAAAAAAAAAAAAAAAAAAAAAAAAAAAAAAAAAAAAAAAAAAAAAAAAAAAAAAAAAAAAAAAAAAAAAAAAAAAAAAAAAAAAAAAAAAAAAAAAAAAAAAAAAAAAAAAAAAAAAAAAAAAAAAAAAAAAAAAAAAAAAAAAAAAAAAAAAAAAAAAAAAAAAAAAAAAAAAAAAAAAAAAAAAAAAAAAAAAAAAAAAAAAAAAAAAAAAAAAAAAAAAAAAAAAAAAAAAAAAAAAAAAAAAAAAAAAAAAAAAAAAAAAAAAAAAAAAAAAAAAAAAAAAAAAAAAAAAAAAAAAAAAAAAAAAAAAAAAAAAAAAAAAAAAAAAAAAAAAAAAAAAAAAAAAAAAAAAAAAAAAAAAAAAAAAAAAAAAAAAAAAAAAAAAAAAAAAAAAAAAAAAAAAAAAAAAAAAAAAAAAAAAAAAAAAAAAAAAAAAAAAAAAAAAAAAAAAAAAAAAAAAAAAAAAAAAAAAAAAAAAAAAAAAAAAAAAAAAAAAAAAAAAAAAAAAAAAAAAAAAAAAAAAAAAAAAAAAAAAAAAAAAAAAAAAAAAAAAAAAAAAAAAAAAAAAAAAAAAAAAAAAAAAAAAAAAAAAAAAAAAAAAAAAAAAAAAAAAAAAAAAAAAAAAAAAAAAAAAAAAAAAAAAAAAAAAAAAAAAAAAAAAAAAAAAAAAAAAAAAAAAAAAAAAAAAAAAAAAAAAAAAAAAAAAAAAAAAAAAAAAAAAAAAAAAAAAAAAAAAAAAAAAAAAAAAAAAAAAAAAAAAAAAAAAAAAAAAAAAAAAAAAAAAAAAAAAAAAAAAAAAAAAAAAAAAAAAAAAAAAAAAAAAAAAAAAAAAAAAAAAAAAAAAAAAAAAAAAAAAAAAAAAAAAAAAAAAAAAAAAAAAAAAAAAAAAAAAAAAAAAAAAAAAAAAAAAAAAAAAAAAAAAAAAAAAAAAAAAAAAAAAAAAAAAAAAAAAAAAAAAAAAAAAAAAAAAAAAAAAAAAAAAAAAAAAAAAAAAAAAAAAAAAAAAAAAAAAAAAAAAAAAAAAAAAAAAAAAAAAAAAAAAAAAAAAAAAAAAAAAAAAAAAAAAAAAAAAAAAAAAAAAAAAAAAAAAAAAAAAAAAAAAAAAAAAAAAAAAAAAAAAAAAAAAAAAAAAAAAAAAAAAAAAAAAAAAAAAAAAAAAAAAAAAAAAAAAAAAAAAAAAAAAAAAAAAAAAAAAAAAAAAAAAAAAAAAAAAAAAAAAAAAAAAAAAAAAAAAAAAAAAAAAAAAAAAAAAAAAAAAAAAAAAAAAAAAAAAAAAAAAAAAAAAAAAAAAAAAAAAAAAAAAAAAAAAAAAAAAAAAAAAAAAAAAAAAAAAAAAAAAAAAAAAAAAAAAAAAAAAAAAAAAAAAAAAAAAAAAAAAAAAAAAAAAAAAAAAAAAAAAAAAAAAAAAAAAAAAAAAAAAAAAAAAAAAAAAAAAAAAAAAAAAAAAAAAAAAAAAAAAAAAAAAAAAAAAAAAAAAAAAAAAAAAAAAAAAAAAAAAAAAAAAAAAAAAAAAAAAAAAAAAAAAAAAAAAAAAAAAAAAAAAAAAAAAAAAAAAAAAAAAAAAAAAAAAAAAAAAAAAAAAAAAAAAAAAAAAAAAAAAAAAAAAAAAAAAAAAAAAAAAAAAAAAAAAAAAAAAAAAAAAAAAAAAAAAAAAAAAAAAAAAAAAAAAAAAAAAAAAAAAAAAAAAAAAAAAAAAAAAAAAAAAAAAAAAAAAAAAAAAAAAAAAAAAAAAAAAAAAAAAAAAAAAAAAAAAAAAAAAAAAAAAAAAAAAAAAAAAAAAAAAAAAAAAAAAAAAAAAAAAAAAAAAAAAAAAAAAAAAAAAAAAAAAAAAAAAAAAAAAAAAAAAAAAAAAAAAAAAAAAAAAAAAAAAAAAAAAAAAAAAAAAAAAAAAAAAAAAAAAAAAAAAAAAAAAAAAAAAAAAAAAAAAAAAAAAAAAAAAAAAAAAAAAAAAAAAAAAAAAAAAAAAAAAAAAAAAAAAAAAAAAAAAAAAAAAAAAAAAAAAAAAAAAAAAAAAAAAAAAAAAAAAAAAAAAAAAAAAAAAAAAAAAAAAAAAAAAAAAAAAAAAAAAAAAAAAAAAAAAAAAAAAAAAAAAAAAAAAAAAAAAAAAAAAAAAAAAAAAAAAAAAAAAAAAAAAAAAAAAAAAAAAAAAAAAAAAAAAAAAAAAAAAAAAAAAAAAAAAAAAAAAAAAAAAAAAAAAAAAAAAAAAAAAAAAAAAAAAAAAAAAAAAAAAAAAAAAAAAAAAAAAAAAAAAAAAAAAAAAAAAAAAAAAAAAAAAAAAAAAAAAAAAAAAAAAAAAAAAAAAAAAAAAAAAAAAAAAAAAAAAAAAAAAAAAAAAAAAAAAAAAAAAAAAAAAAAAAAAAAAAAAAAAAAAAAAAAAAAAAAAAAAAAAAAAAAAAAAAAAAAAAAAAAAAAAAAAAAAAAAAAAAAAAAAAAAAAAAAAAAAAAAAAAAAAAAAAAAAAAAAAAAAAAAAAAAAAAAAAAAAAAAAAAAAAAAAAAAAAAAAAAAAAAAAAAAAAAAAAAAAAAAAAAAAAAAAAAAAAAAAAAAAAAAAAAAAAAAAAAAAAAAAAAAAAAAAAAAAAAAAAAAAAAAAAAAAAAAAAAAAAAAAAAAAAAAAAAAAAAAAAAAAAAAAAAAAAAAAAAAAAAAAAAAAAAAAAAAAAAAAAAAAAAAAAAAAAAAAAAAAAAAAAAAAAAAAAAAAAAAAAAAAAAAAAAAAAAAAAAAAAAAAAAAAAAAAAAAAAAAAAAAAAAAAAAAAAAAAAAAAAAAAAAAAAAAAAAAAAAAAAAAAAAAAAAAAAAAAAAAAAAAAAAAAAAAAAAAAAAAAAAAAAAAAAAAAAAAAAAAAAAAAAAAAAAAAAAAAAAAAAAAAAAAAAAAAAAAAAAAAAAAAAAAAAAAAAAAAAAAAAAAAAAAAAAAAAAAAAAAAAAAAAAAAAAAAAAAAAAAAAAAAAAAAAAAAAAAAAAAAAAAAAAAAAAAAAAAAAAAAAAAAAAAAAAAAAAAAAAAAAAAAAAAAAAAAAAAAAAAAAAAAAAAAAAAAAAAAAAAAAAAAAAAAAAAAAAAAAAAAAAAAAAAAAAAAAAAAAAAAAAAAAAAAAAAAAAAAAAAAAAAAAAAAAAAAAAAAAAAAAAAAAAAAAAAAAAAAAAAAAAAAAAAAAAAAAAAAAAAAAAAAAAAAAAAAAAAAAAAAAAAAAAAAAAAAAAAAAAAAAAAAAAAAAAAAAAAAAAAAAAAAAAAAAAAAAAAAAAAAAAAAAAAAAAAAAAAAAAAAAAAAAAAAAAAAAAAAAAAAAAAAAAAAAAAAAAAAAAAAAAAAAAAAAAAAAAAAAAAAAAAAAAAAAAAAAAAAAAAAAAAAAAAAAAAAAAAAAAAAAAAAAAAAAAAAAAAAAAAAAAAAAAAAAAAAAAAAAAAAAAAAAAAAAAAAAAAAAAAAAAAAAAAAAAAAAAAAAAAAAAAAAAAAAAAAAAAAAAAAAAAAAAAAAAAAAAAAAAAAAAAAAAAAAAAAAAAAAAAAAAAAAAAAAAAAAAAAAAAAAAAAAAAAAAAAAAAAAAAAAAAAAAAAAAAAAAAAAAAAAAAAAAAAAAAAAAAAAAAAAAAAAAAAAAAAAAAAAAAAAAAAAAAAAAAAAAAAAAAAAAAAAAAAAAAAAAAAAAAAAAAAAAAAAAAAAAAAAAAAAAAAAAAAAAAAAAAAAAAAAAAAAAAAAAAAAAAAAAAAAAAAAAAAAAAAAAAAAAAAAAAAAAAAAAAAAAAAAAAAAAAAAAAAAAAAAAAAAAAAAAAAAAAAAAAAAAAAAAAAAAAAAAAAAAAAAAAAAAAAAAAAAAAAAAAAAAAAAAAAAAAAAAAAAAAAAAAAAAAAAAAAAAAAAAAAAAAAAAAAAAAAAAAAAAAAAAAAAAAAAAAAAAAAAAAAAAAAAAAAAAAAAAAAAAAAAAAAAAAAAAAAAAAAAAAAAAAAAAAAAAAAAAAAAAAAAAAAAAAAAAAAAAAAAAAAAAAAAAAAAAAAAAAAAAAAAAAAAAAAAAAAAAAAAAAAAAAAAAAAAAAAAAAAAAAAAAAAAAAAAAAAAAAAAAAAAAAAAAAAAAAAAAAAAAAAAAAAAAAAAAAAAAAAAAAAAAAAAAAAAAAAAAAAAAAAAAAAAAAAAAAAAAAAAAAAAAAAAAAAAAAAAAAAAAAAAAAAAAAAAAAAAAAAAAAAAAAAAAAAAAAAAAAAAAAAAAAAAAAAAAAAAAAAAAAAAAAAAAAAAAAAAAAAAAAAAAAAAAAAAAAAAAAAAAAAAAAAAAAAAAAAAAAAAAAAAAAAAAAAAAAAAAAAAAAAAAAAAAAAAAAAAAAAAAAAAAAAAAAAAAAAAAAAAAAAAAAAAAAAAAAAAAAAAAAAAAAAAAAAAAAAAAAAAAAAAAAAAAAAAAAAAAAAAAAAAAAAAAAAAAAAAAAAAAAAAAAAAAAAAAAAAAAAAAAAAAAAAAAAAAAAAAAAAAAAAAAAAAAAAAAAAAAAAAAAAAAAAAAAAAAAAAAAAAAAAAAAAAAAAAAAAAAAAAAAAAAAAAAAAAAAAAAAAAAAAAAAAAAAAAAAAAAAAAAAAAAAAAAAAAAAAAAAAAAAAAAAAAAAAAAAAAAAAAAAAAAAAAAAAAAAAAAAAAAAAAAAAAAAAAAAAAAAAAAAAAAAAAAAAAAAAAAAAAAAAAAAAAAAAAAAAAAAAAAAAAAAAAAAAAAAAAAAAAAAAAAAAAAAAAAAAAAAAAAAAAAAAAAAAAAAAAAAAAAAAAAAAAAAAAAAAAAAAAAAAAAAAAAAAAAAAAAAAAAAAAAAAAAAAAAAAAAAAAAAAAAAAAAAAAAAAAAAAAAAAAAAAAAAAAAAAAAAAAAAAAAAAAAAAAAAAAAAAAAAAAAAAAAAAAAAAAAAAAAAAAAAAAAAAAAAAAAAAAAAAAAAAAAAAAAAAAAAAAAAAAAAAAAAAAAAAAAAAAAAAAAAAAAAAAAAAAAAAAAAAAAAAAAAAAAAAAAAAAAAAAAAAAAAAAAAAAAAAAAAAAAAAAAAAAAAAAAAAAAAAAAAAAAAAAAAAAAAAAAAAAAAAAAAAAAAAAAAAAAAAAAAAAAAAAAAAAAAAAAAAAAAAAAAAAAAAAAAAAAAAAAAAAAAAAAAAAAAAAAAAAAAAAAAAAAAAAAAAAAAAAAAAAAAAAAAAAAAAAAAAAAAAAAAAAAAAAAAAAAAAAAAAAAAAAAAAAAAAAAAAAAAAAAAAAAAAAAAAAAAAAAAAAAAAAAAAAAAAAAAAAAAAAAAAAAAAAAAAAAAAAAAAAAAAAAAAAAAAAAAAAAAAAAAAAAAAAAAAAAAAAAAAAAAAAAAAAAAAAAAAAAAAAAAAAAAAAAAAAAAAAAAAAAAAAAAAAAAAAAAAAAAAAAAAAAAAAAAAAAAAAAAAAAAAAAAAAAAAAAAAAAAAAAAAAAAAAAAAAAAAAAAAAAAAAAAAAAAAAAAAAAAAAAAAAAAAAAAAAAAAAAAAAAAAAAAAAAAAAAAAAAAAAAAAAAAAAAAAAAAAAAAAAAAAAAAAAAAAAAAAAAAAAAAAAAAAAAAAAAAAAAAAAAAAAAAAAAAAAAAAAAAAAAAAAAAAAAAAAAAAAAAAAAAAAAAAAAAAAAAAAAAAAAAAAAAAAAAAAAAAAAAAAAAAAAAAAAAAAAAAAAAAAAAAAAAAAAAAAAAAAAAAAAAAAAAAAAAAAAAAAAAAAAAAAAAAAAAAAAAAAAAAAAAAAAAAAAAAAAAAAAAAAAAAAAAAAAAAAAAAAAAAAAAAAAAAAAAAAAAAAAAAAAAAAAAAAAAAAAAAAAAAAAAAAAAAAAAAAAAAAAAAAAAAAAAAAAAAAAAAAAAAAAAAAAAAAAAAAAAAAAAAAAAAAAAAAAAAAAAAAAAAAAAAAAAAAAAAAAAAAAAAAAAAAAAAAAAAAAAAAAAAAAAAAAAAAAAAAAAAAAAAAAAAAAAAAAAAAAAAAAAAAAAAAAAAAAAAAAAAAAAAAAAAAAAAAAAAAAAAAAAAAAAAAAAAAAAAAAAAAAAAAAAAAAAAAAAAAAAAAAAAAAAAAAAAAAAAAAAAAAAAAAAAAAAAAAAAAAAAAAAAAAAAAAAAAAAAAAAAAAAAAAAAAAAAAAAAAAAAAAAAAAAAAAAAAAAAAAAAAAAAAAAAAAAAAAAAAAAAAAAAAAAAAAAAAAAAAAAAAAAAAAAAAAAAAAAAAAAAAAAAAAAAAAAAAAAAAAAAAAAAAAAAAAAAAAAAAAAAAAAAAAAAAAAAAAAAAAAAAAAAAAAAAAAAAAAAAAAAAAAAAAAAAAAAAAAAAAAAAAAAAAAAAAAAAAAAAAAAAAAAAAAAAAAAAAAAAAAAAAAAAAAAAAAAAAAAAAAAAAAAAAAAAAAAAAAAAAAAAAAAAAAAAAAAAAAAAAAAAAAAAAAAAAAAAAAAAAAAAAAAAAAAAAAAAAAAAAAAAAAAAAAAAAAAAAAAAAAAAAAAAAAAAAAAAAAAAAAAAAAAAAAAAAAAAAAAAAAAAAAAAAAAAAAAAAAAAAAAAAAAAAAAAAAAAAAAAAAAAAAAAAAAAAAAAAAAAAAAAAAAAAAAAAAAAAAAAAAAAAAAAAAAAAAAAAAAAAAAAAAAAAAAAAAAAAAAAAAAAAAAAAAAAAAAAAAAAAAAAAAAAAAAAAAAAAAAAAAAAAAAAAAAAAAAAAAAAAAAAAAAAAAAAAAAAAAAAAAAAAAAAAAAAAAAAAAAAAAAAAAAAAAAAAAAAAAAAAAAAAAAAAAAAAAAAAAAAAAAAAAAAAAAAAAAAAAAAAAAAAAAAAAAAAAAAAAAAAAAAAAAAAAAAAAAAAAAAAAAAAAAAAAAAAAAAAAAAAAAAAAAAAAAAAAAAAAAAAAAAAAAAAAAAAAAAAAAAAAAAAAAAAAAAAAAAAAAAAAAAAAAAAAAAAAAAAAAAAAAAAAAAAAAAAAAAAAAAAAAAAAAAAAAAAAAAAAAAAAAAAAAAAAAAAAAAAAAAAAAAAAAAAAAAAAAAAAAAAAAAAAAAAAAAAAAAAAAAAAAAAAAAAAAAAAAAAAAAAAAAAAAAAAAAAAAAAAAAAAAAAAAAAAAAAAAAAAAAAAAAAAAAAAAAAAAAAAAAAAAAAAAAAAAAAAAAAAAAAAAAAAAAAAAAAAAAAAAAAAAAAAAAAAAAAAAAAAAAAAAAAAAAAAAAAAAAAAAAAAAAAAAAAAAAAAAAAAAAAAAAAAAAAAAAAAAAAAAAAAAAAAAAAAAAAAAAAAAAAAAAAAAAAAAAAAAAAAAAAAAAAAAAAAAAAAAAAAAAAAAAAAAAAAAAAAAAAAAAAAAAAAAAAAAAAAAAAAAAAAAAAAAAAAAAAAAAAAAAAAAAAAAAAAAAAAAAAAAAAAAAAAAAAAAAAAAAAAAAAAAAAAAAAAAAAAAAAAAAAAAAAAAAAAAAAAAAAAAAAAAAAAAAAAAAAAAAAAAAAAAAAAAAAAAAAAAAAAAAAAAAAAAAAAAAAAAAAAAAAAAAAAAAAAAAAAAAAAAAAAAAAAAAAAAAAAAAAAAAAAAAAAAAAAAAAAAAAAAAAAAAAAAAAAAAAAAAAAAAAAAAAAAAAAAAAAAAAAAAAAAAAAAAAAAAAAAAAAAAAAAAAAAAAAAAAAAAAAAAAAAAAAAAAAAAAAAAAAAAAAAAAAAAAAAAAAAAAAAAAAAAAAAAAAAAAAAAAAAAAAAAAAAAAAAAAAAAAAAAAAAAAAAAAAAAAAAAAAAAAAAAAAAAAAAAAAAAAAAAAAAAAAAAAAAAAAAAAAAAAAAAAAAAAAAAAAAAAAAAAAAAAAAAAAAAAAAAAAAAAAAAAAAAAAAAAAAAAAAAAAAAAAAAAAAAAAAAAAAAAAAAAAAAAAAAAAAAAAAAAAAAAAAAAAAAAAAAAAAAAAAAAAAAAAAAAAAAAAAAAAAAAAAAAAAAAAAAAAAAAAAAAAAAAAAAAAAAAAAAAAAAAAAAAAAAAAAAAAAAAAAAAAAAAAAAAAAAAAAAAAAAAAAAAAAAAAAAAAAAAAAAAAAAAAAAAAAAAAAAAAAAAAAAAAAAAAAAAAAAAAAAAAAAAAAAAAAAAAAAAAAAAAAAAAAAAAAAAAAAAAAAAAAAAAAAAAAAAAAAAAAAAAAAAAAAAAAAAAAAAAAAAAAAAAAAAAAAAAAAAAAAAAAAAAAAAAAAAAAAAAAAAAAAAAAAAAAAAAAAAAAAAAAAAAAAAAAAAAAAAAAAAAAAAAAAAAAAAAAAAAAAAAAAAAAAAAAAAAAAAAAAAAAAAAAAAAAAAAAAAAAAAAAAAAAAAAAAAAAAAAAAAAAAAAAAAAAAAAAAAAAAAAAAAAAAAAAAAAAAAAAAAAAAAAAAAAAAAAAAAAAAAAAAAAAAAAAAAAAAAAAAAAAAAAAAAAAAAAAAAAAAAAAAAAAAAAAAAAAAAAAAAAAAAAAAAAAAAAAAAAAAAAAAAAAAAAAAAAAAAAAAAAAAAAAAAAAAAAAAAAAAAAAAAAAAAAAAAAAAAAAAAAAAAAAAAAAAAAAAAAAAAAAAAAAAAAAAAAAAAAAAAAAAAAAAAAAAAAAAAAAAAAAAAAAAAAAAAAAAAAAAAAAAAAAAAAAAAAAAAAAAAAAAAAAAAAAAAAAAAAAAAAAAAAAAAAAAAAAAAAAAAAAAAAAAAAAAAAAAAAAAAAAAAAAAAAAAAAAAAAAAAAAAAAAAAAAAAAAAAAAAAAAAAAAAAAAAAAAAAAAAAAAAAAAAAAAAAAAAAAAAAAAAAAAAAAAAAAAAAAAAAAAAAAAAAAAAAAAAAAAAAAAAAAAAAAAAAAAAAAAAAAAAAAAAAAAAAAAAAAAAAAAAAAAAAAAAAAAAAAAAAAAAAAAAAAAAAAAAAAAAAAAAAAAAAAAAAAAAAAAAAAAAAAAAAAAAAAAAAAAAAAAAAAAAAAAAAAAAAAAAAAAAAAAAAAAAAAAAAAAAAAAAAAAAAAAAAAAAAAAAAAAAAAAAAAAAAAAAAAAAAAAAAAAAAAAAAAAAAAAAAAAAAAAAAAAAAAAAAAAAAAAAAAAAAAAAAAAAAAAAAAAAAAAAAAAAAAAAAAAAAAAAAAAAAAAAAAAAAAAAAAAAAAAAAAAAAAAAAAAAAAAAAAAAAAAAAAAAAAAAAAAAAAAAAAAAAAAAAAAAAAAAAAAAAAAAAAAAAAAAAAAAAAAAAAAAAAAAAAAAAAAAAAAAAAAAAAAAAAAAAAAAAAAAAAAAAAAAAAAAAAAAAAAAAAAAAAAAAAAAAAAAAAAAAAAAAAAAAAAAAAAAAAAAAAAAAAAAAAAAAAAAAAAAAAAAAAAAAAAAAAAAAAAAAAAAAAAAAAAAAAAAAAAAAAAAAAAAAAAAAAAAAAAAAAAAAAAAAAAAAAAAAAAAAAAAAAAAAAAAAAAAAAAAAAAAAAAAAAAAAAAAAAAAAAAAAAAAAAAAAAAAAAAAAAAAAAAAAAAAAAAAAAAAAAAAAAAAAAAAAAAAAAAAAAAAAAAAAAAAAAAAAAAAAAAAAAAAAAAAAAAAAAAAAAAAAAAAAAAAAAAAAAAAAAAAAAAAAAAAAAAAAAAAAAAAAAAAAAAAAAAAAAAAAAAAAAAAAAAAAAAAAAAAAAAAAAAAAAAAAAAAAAAAAAAAAAAAAAAAAAAAAAAAAAAAAAAAAAAAAAAAAAAAAAAAAAAAAAAAAAAAAAAAAAAAAAAAAAAAAAAAAAAAAAAAAAAAAAAAAAAAAAAAAAAAAAAAAAAAAAAAAAAAAAAAAAAAAAAAAAAAAAAAAAAAAAAAAAAAAAAAAAAAAAAAAAAAAAAAAAAAAAAAAAAAAAAAAAAAAAAAAAAAAAAAAAAAAAAAAAAAAAAAAAAAAAAAAAAAAAAAAAAAAAAAAAAAAAAAAAAAAAAAAAAAAAAAAAAAAAAAAAAAAAAAAAAAAAAAAAAAAAAAAAAAAAAAAAAAAAAAAAAAAAAAAAAAAAAAAAAAAAAAAAAAAAAAAAAAAAAAAAAAAAAAAAAAAAAAAAAAAAAAAAAAAAAAAAAAAAAAAAAAAAAAAAAAAAAAAAAAAAAAAAAAAAAAAAAAAAAAAAAAAAAAAAAAAAAAAAAAAAAAAAAAAAAAAAAAAAAAAAAAAAAAAAAAAAAAAAAAAAAAAAAAAAAAAAAAAAAAAAAAAAAAAAAAAAAAAAAAAAAAAAAAAAAAAAAAAAAAAAAAAAAAAAAAAAAAAAAAAAAAAAAAAAAAAAAAAAAAAAAAAAAAAAAAAAAAAAAAAAAAAAAAAAAAAAAAAAAAAAAAAAAAAAAAAAAAAAAAAAAAAAAAAAAAAAAAAAAAAAAAAAAAAAAAAAAAAAAAAAAAAAAAAAAAAAAAAAAAAAAAAAAAAAAAAAAAAAAAAAAAAAAAAAAAAAAAAAAAAAAAAAAAAAAAAAAAAAAAAAAAAAAAAAAAAAAAAAAAAAAAAAAAAAAAAAAAAAAAAAAAAAAAAAAAAAAAAAAAAAAAAAAAAAAAAAAAAAAAAAAAAAAAAAAAAAAAAAAAAAAAAAAAAAAAAAAAAAAAAAAAAAAAAAAAAAAAAAAAAAAAAAAAAAAAAAAAAAAAAAAAAAAAAAAAAAAAAAAAAAAAAAAAAAAAAAAAAAAAAAAAAAAAAAAAAAAAAAAAAAAAAAAAAAAAAAAAAAAAAAAAAAAAAAAAAAAAAAAAAAAAAAAAAAAAAAAAAAAAAAAAAAAAAAAAAAAAAAAAAAAAAAAAAAAAAAAAAAAAAAAAAAAAAAAAAAAAAAAAAAAAAAAAAAAAAAAAAAAAAAAAAAAAAAAAAAAAAAAAAAAAAAAAAAAAAAAAAAAAAAAAAAAAAAAAAAAAAAAAAAAAAAAAAAAAAAAAAAAAAAAAAAAAAAAAAAAAAAAAAAAAAAAAAAAAAAAAAAAAAAAAAAAAAAAAAAAAAAAAAAAAAAAAAAAAAAAAAAAAAAAAAAAAAAAAAAAAAAAAAAAAAAAAAAAAAAAAAAAAAAAAAAAAAAAAAAAAAAAAAAAAAAAAAAAAAAAAAAAAAAAAAAAAAAAAAAAAAAAAAAAAAAAAAAAAAAAAAAAAAAAAAAAAAAAAAAAAAAAAAAAAAAAAAAAAAAAAAAAAAAAAAAAAAAAAAAAAAAAAAAAAAAAAAAAAAAAAAAAAAAAAAAAAAAAAAAAAAAAAAAAAAAAAAAAAAAAAAAAAAAAAAAAAAAAAAAAAAAAAAAAAAAAAAAAAAAAAAAAAAAAAAAAAAAAAAAAAAAAAAAAAAAAAAAAAAAAAAAAAAAAAAAAAAAAAAAAAAAAAAAAAAAAAAAAAAAAAAAAAAAAAAAAAAAAAAAAAAAAAAAAAAAAAAAAAAAAAAAAAAAAAAAAAAAAAAAAAAAAAAAAAAAAAAAAAAAAAAAAAAAAAAAAAAAAAAAAAAAAAAAAAAAAAAAAAAAAAAAAAAAAAAAAAAAAAAAAAAAAAAAAAAAAAAAAAAAAAAAAAAAAAAAAAAAAAAAAAAAAAAAAAAAAAAAAAAAAAAAAAAAAAAAAAAAAAAAAAAAAAAAAAAAAAAAAAAAAAAAAAAAAAAAAAAAAAAAAAAAAAAAAAAAAAAAAAAAAAAAAAAAAAAAAAAAAAAAAAAAAAAAAAAAAAAAAAAAAAAAAAAAAAAAAAAAAAAAAAAAAAAAAAAAAAAAAAAAAAAAAAAAAAAAAAAAAAAAAAAAAAAAAAAAAAAAAAAAAAAAAAAAAAAAAAAAAAAAAAAAAAAAAAAAAAAAAAAAAAAAAAAAAAAAAAAAAAAAAAAAAAAAAAAAAAAAAAAAAAAAAAAAAAAAAAAAAAAAAAAAAAAAAAAAAAAAAAAAAAAAAAAAAAAAAAAAAAAAAAAAAAAAAAAAAAAAAAAAAAAAAAAAAAAAAAAAAAAAAAAAAAAAAAAAAAAAAAAAAAAAAAAAAAAAAAAAAAAAAAAAAAAAAAAAAAAAAAAAAAAAAAAAAAAAAAAAAAAAAAAAAAAAAAAAAAAAAAAAAAAAAAAAAAAAAAAAAAAAAAAAAAAAAAAAAAAAAAAAAAAAAAAAAAAAAAAAAAAAAAAAAAAAAAAAAAAAAAAAAAAAAAAAAAAAAAAAAAAAAAAAAAAAAAAAAAAAAAAAAAAAAAAAAAAAAAAAAAAAAAAAAAAAAAAAAAAAAAAAAAAAAAAAAAAAAAAAAAAAAAAAAAAAAAAAAAAAAAAAAAAAAAAAAAAAAAAAAAAAAAAAAAAAAAAAAAAAAAAAAAAAAAAAAAAAAAAAAAAAAAAAAAAAAAAAAAAAAAAAAAAAAAAAAAAAAAAAAAAAAAAAAAAAAAAAAAAAAAAAAAAAAAAAAAAAAAAAAAAAAAAAAAAAAAAAAAAAAAAAAAAAAAAAAAAAAAAAAAAAAAAAAAAAAAAAAAAAAAAAAAAAAAAAAAAAAAAAAAAAAAAAAAAAAAAAAAAAAAAAAAAAAAAAAAAAAAAAAAAAAAAAAAAAAAAAAAAAAAAAAAAAAAAAAAAAAAAAAAAAAAAAAAAAAAAAAAAAAAAAAAAAAAAAAAAAAAAAAAAAAAAAAAAAAAAAAAAAAAAAAAAAAAAAAAAAAAAAAAAAAAAAAAAAAAAAAAAAAAAAAAAAAAAAAAAAAAAAAAAAAAAAAAAAAAAAAAAAAAAAAAAAAAAAAAAAAAAAAAAAAAAAAAAAAAAAAAAAAAAAAAAAAAAAAAAAAAAAAAAAAAAAAAAAAAAAAAAAAAAAAAAAAAAAAAAAAAAAAAAAAAAAAAAAAAAAAAAAAAAAAAAAAAAAAAAAAAAAAAAAAAAAAAAAAAAAAAAAAAAAAAAAAAAAAAAAAAAAAAAAAAAAAAAAAAAAAAAAAAAAAAAAAAAAAAAAAAAAAAAAAAAAAAAAAAAAAAAAAAAAAAAAAAAAAAAAAAAAAAAAAAAAAAAAAAAAAAAAAAAAAAAAAAAAAAAAAAAAAAAAAAAAAAAAAAAAAAAAAAAAAAAAAAAAAAAAAAAAAAAAAAAAAAAAAAAAAAAAAAAAAAAAAAAAAAAAAAAAAAAAAAAAAAAAAAAAAAAAAAAAAAAAAAAAAAAAAAAAAAAAAAAAAAAAAAAAAAAAAAAAAAAAAAAAAAAAAAAAAAAAAAAAAAAAAAAAAAAAAAAAAAAAAAAAAAAAAAAAAAAAAAAAAAAAAAAAAAAAAAAAAAAAAAAAAAAAAAAAAAAAAAAAAAAAAAAAAAAAAAAAAAAAAAAAAAAAAAAAAAAAAAAAAAAAAAAAAAAAAAAAAAAAAAAAAAAAAAAAAAAAAAAAAAAAAAAAAAAAAAAAAAAAAAAAAAAAAAAAAAAAAAAAAAAAAAAAAAAAAAAAAAAAAAAAAAAAAAAAAAAAAAAAAAAAAAAAAAAAAAAAAAAAAAAAAAAAAAAAAAAAAAAAAAAAAAAAAAAAAAAAAAAAAAAAAAAAAAAAAAAAAAAAAAAAAAAAAAAAAAAAAAAAAAAAAAAAAAAAAAAAAAAAAAAAAAAAAAAAAAAAAAAAAAAAAAAAAAAAAAAAAAAAAAAAAAAAAAAAAAAAAAAAAAAAAAAAAAAAAAAAAAAAAAAAAAAAAAAAAAAAAAAAAAAAAAAAAAAAAAAAAAAAAAAAAAAAAAAAAAAAAAAAAAAAAAAAAAAAAAAAAAAAAAAAAAAAAAAAAAAAAAAAAAAAAAAAAAAAAAAAAAAAAAAAAAAAAAAAAAAAAAAAAAAAAAAAAAAAAAAAAAAAAAAAAAAAAAAAAAAAAAAAAAAAAAAAAAAAAAAAAAAAAAAAAAAAAAAAAAAAAAAAAAAAAAAAAAAAAAAAAAAAAAAAAAAAAAAAAAAAAAAAAAAAAAAAAAAAAAAAAAAAAAAAAAAAAAAAAAAAAAAAAAAAAAAAAAAAAAAAAAAAAAAAAAAAAAAAAAAAAAAAAAAAAAAAAAAAAAAAAAAAAAAAAAAAAAAAAAAAAAAAAAAAAAAAAAAAAAAAAAAAAAAAAAAAAAAAAAAAAAAAAAAAAAAAAAAAAAAAAAAAAAAAAAAAAAAAAAAAAAAAAAAAAAAAAAAAAAAAAAAAAAAAAAAAAAAAAAAAAAAAAAAAAAAAAAAAAAAAAAAAAAAAAAAAAAAAAAAAAAAAAAAAAAAAAAAAAAAAAAAAAAAAAAAAAAAAAAAAAAAAAAAAAAAAAAAAAAAAAAAAAAAAAAAAAAAAAAAAAAAAAAAAAAAAAAAAAAAAAAAAAAAAAAAAAAAAAAAAAAAAAAAAAAAAAAAAAAAAAAAAAAAAAAAAAAAAAAAAAAAAAAAAAAAAAAAAAAAAAAAAAAAAAAAAAAAAAAAAAAAAAAAAAAAAAAAAAAAAAAAAAAAAAAAAAAAAAAAAAAAAAAAAAAAAAAAAAAAAAAAAAAAAAAAAAAAAAAAAAAAAAAAAAAAAAAAAAAAAAAAAAAAAAAAAAAAAAAAAAAAAAAAAAAAAAAAAAAAAAAAAAAAAAAAAAAAAAAAAAAAAAAAAAAAAAAAAAAAAAAAAAAAAAAAAAAAAAAAAAAAAAAAAAAAAAAAAAAAAAAAAAAAAAAAAAAAAAAAAAAAAAAAAAAAAAAAAAAAAAAAAAAAAAAAAAAAAAAAAAAAAAAAAAAAAAAAAAAAAAAAAAAAAAAAAAAAAAAAAAAAAAAAAAAAAAAAAAAAAAAAAAAAAAAAAAAAAAAAAAAAAAAAAAAAAAAAAAAAAAAAAAAAAAAAAAAAAAAAAAAAAAAAAAAAAAAAAAAAAAAAAAAAAAAAAAAAAAAAAAAAAAAAAAAAAAAAAAAAAAAAAAAAAAAAAAAAAAAAAAAAAAAAAAAAAAAAAAAAAAAAAAAAAAAAAAAAAAAAAAAAAAAAAAAAAAAAAAAAAAAAAAAAAAAAAAAAAAAAAAAAAAAAAAAAAAAAAAAAAAAAAAAAAAAAAAAAAAAAAAAAAAAAAAAAAAAAAAAAAAAAAAAAAAAAAAAAAAAAAAAAAAAAAAAAAAAAAAAAAAAAAAAAAAAAAAAAAAAAAAAAAAAAAAAAAAAAAAAAAAAAAAAAAAAAAAAAAAAAAAAAAAAAAAAAAAAAAAAAAAAAAAAAAAAAAAAAAAAAAAAAAAAAAAAAAAAAAAAAAAAAAAAAAAAAAAAAAAAAAAAAAAAAAAAAAAAAAAAAAAAAAAAAAAAAAAAAAAAAAAAAAAAAAAAAAAAAAAAAAAAAAAAAAAAAAAAAAAAAAAAAAAAAAAAAAAAAAAAAAAAAAAAAAAAAAAAAAAAAAAAAAAAAAAAAAAAAAAAAAAAAAAAAAAAAAAAAAAAAAAAAAAAAAAAAAAAAAAAAAAAAAAAAAAAAAAAAAAAAAAAAAAAAAAAAAAAAAAAAAAAAAAAAAAAAAAAAAAAAAAAAAAAAAAAAAAAAAAAAAAAAAAAAAAAAAAAAAAAAAAAAAAAAAAAAAAAAAAAAAAAAAAAAAAAAAAAAAAAAAAAAAAAAAAAAAAAAAAAAAAAAAAAAAAAAAAAAAAAAAAAAAAAAAAAAAAAAAAAAAAAAAAAAAAAAAAAAAAAAAAAAAAAAAAAAAAAAAAAAAAAAAAAAAAAAAAAAAAAAAAAAAAAAAAAAAAAAAAAAAAAAAAAAAAAAAAAAAAAAAAAAAAAAAAAAAAAAAAAAAAAAAAAAAAAAAAAAAAAAAAAAAAAAAAAAAAAAAAAAAAAAAAAAAAAAAAAAAAAAAAAAAAAAAAAAAAAAAAAAAAAAAAAAAAAAAAAAAAAAAAAAAAAAAAAAAAAAAAAAAAAAAAAAAAAAAAAAAAAAAAAAAAAAAAAAAAAAAAAAAAAAAAAAAAAAAAAAAAAAAAAAAAAAAAAAAAAAAAAAAAAAAAAAAAAAAAAAAAAAAAAAAAAAAAAAAAAAAAAAAAAAAAAAAAAAAAAAAAAAAAAAAAAAAAAAAAAAAAAAAAAAAAAAAAAAAAAAAAAAAAAAAAAAAAAAAAAAAAAAAAAAAAAAAAAAAAAAAAAAAAAAAAAAAAAAAAAAAAAAAAAAAAAAAAAAAAAAAAAAAAAAAAAAAAAAAAAAAAAAAAAAAAAAAAAAAAAAAAAAAAAAAAAAAAAAAAAAAAAAAAAAAAAAAAAAAAAAAAAAAAAAAAAAAAAAAAAAAAAAAAAAAAAAAAAAAAAAAAAAAAAAAAAAAAAAAAAAAAAAAAAAAAAAAAAAAAAAAAAAAAAAAAAAAAAAAAAAAAAAAAAAAAAAAAAAAAAAAAAAAAAAAAAAAAAAAAAAAAAAAAAAAAAAAAAAAAAAAAAAAAAAAAAAAAAAAAAAAAAAAAAAAAAAAAAAAAAAAAAAAAAAAAAAAAAAAAAAAAAAAAAAAAAAAAAAAAAAAAAAAAAAAAAAAAAAAAAAAAAAAAAAAAAAAAAAAAAAAAAAAAAAAAAAAAAAAAAAAAAAAAAAAAAAAAAAAAAAAAAAAAAAAAAAAAAAAAAAAAAAAAAAAAAAAAAAAAAAAAAAAAAAAAAAAAAAAAAAAAAAAAAAAAAAAAAAAAAAAAAAAAAAAAAAAAAAAAAAAAAAAAAAAAAAAAAAAAAAAAAAAAAAAAAAAAAAAAAAAAAAAAAAAAAAAAAAAAAAAAAAAAAAAAAAAAAAAAAAAAAAAAAAAAAAAAAAAAAAAAAAAAAAAAAAAAAAAAAAAAAAAAAAAAAAAAAAAAAAAAAAAAAAAAAAAAAAAAAAAAAAAAAAAAAAAAAAAAAAAAAAAAAAAAAAAAAAAAAAAAAAAAAAAAAAAAAAAAAAAAAAAAAAAAAAAAAAAAAAAAAAAAAAAAAAAAAAAAAAAAAAAAAAAAAAAAAAAAAAAAAAAAAAAAAAAAAAAAAAAAAAAAAAAAAAAAAAAAAAAAAAAAAAAAAAAAAAAAAAAAAAAAAAAAAAAAAAAAAAAAAAAAAAAAAAAAAAAAAAAAAAAAAAAAAAAAAAAAAAAAAAAAAAAAAAAAAAAAAAAAAAAAAAAAAAAAAAAAAAAAAAAAAAAAAAAAAAAAAAAAAAAAAAAAAAAAAAAAAAAAAAAAAAAAAAAAAAAAAAAAAAAAAAAAAAAAAAAAAAAAAAAAAAAAAAAAAAAAAAAAAAAAAAAAAAAAAAAAAAAAAAAAAAAAAAAAAAAAAAAAAAAAAAAAAAAAAAAAAAAAAAAAAAAAAAAAAAAAAAAAAAAAAAAAAAAAAAAAAAAAAAAAAAAAAAAAAAAAAAAAAAAAAAAAAAAAAAAAAAAAAAAAAAAAAAAAAAAAAAAAAAAAAAAAAAAAAAAAAAAAAAAAAAAAAAAAAAAAAAAAAAAAAAAAAAAAAAAAAAAAAAAAAAAAAAAAAAAAAAAAAAAAAAAAAAAAAAAAAAAAAAAAAAAAAAAAAAAAAAAAAAAAAAAAAAAAAAAAAAAAAAAAAAAAAAAAAAAAAAAAAAAAAAAAAAAAAAAAAAAAAAAAAAAAAAAAAAAAAAAAAAAAAAAAAAAAAAAAAAAAAAAAAAAAAAAAAAAAAAAAAAAAAAAAAAAAAAAAAAAAAAAAAAAAAAAAAAAAAAAAAAAAAAAAAAAAAAAAAAAAAAAAAAAAAAAAAAAAAAAAAAAAAAAAAAAAAAAAAAAAAAAAAAAAAAAAAAAAAAAAAAAAAAAAAAAAAAAAAAAAAAAAAAAAAAAAAAAAAAAAAAAAAAAAAAAAAAAAAAAAAAAAAAAAAAAAAAAAAAAAAAAAAAAAAAAAAAAAAAAAAAAAAAAAAAAAAAAAAAAAAAAAAAAAAAAAAAAAAAAAAAAAAAAAAAAAAAAAAAAAAAAAAAAAAAAAAAAAAAAAAAAAAAAAAAAAAAAAAAAAAAAAAAAAAAAAAAAAAAAAAAAAAAAAAAAAAAAAAAAAAAAAAAAAAAAAAAAAAAAAAAAAAAAAAAAAAAAAAAAAAAAAAAAAAAAAAAAAAAAAAAAAAAAAAAAAAAAAAAAAAAAAAAAAAAAAAAAAAAAAAAAAAAAAAAAAAAAAAAAAAAAAAAAAAAAAAAAAAAAAAAAAAAAAAAAAAAAAAAAAAAAAAAAAAAAAAAAAAAAAAAAAAAAAAAAAAAAAAAAAAAAAAAAAAAAAAAAAAAAAAAAAAAAAAAAAAAAAAAAAAAAAAAAAAAAAAAAAAAAAAAAAAAAAAAAAAAAAAAAAAAAAAAAAAAAAAAAAAAAAAAAAAAAAAAAAAAAAAAAAAAAAAAAAAAAAAAAAAAAAAAAAAAAAAAAAAAAAAAAAAAAAAAAAAAAAAAAAAAAAAAAAAAAAAAAAAAAAAAAAAAAAAAAAAAAAAAAAAAAAAAAAAAAAAAAAAAAAAAAAAAAAAAAAAAAAAAAAAAAAAAAAAAAAAAAAAAAAAAAAAAAAAAAAAAAAAAAAAAAAAAAAAAAAAAAAAAAAAAAAAAAAAAAAAAAAAAAAAAAAAAAAAAAAAAAAAAAAAAAAAAAAAAAAAAAAAAAAAAAAAAAAAAAAAAAAAAAAAAAAAAAAAAAAAAAAAAAAAAAAAAAAAAAAAAAAAAAAAAAAAAAAAAAAAAAAAAAAAAAAAAAAAAAAAAAAAAAAAAAAAAAAAAAAAAAAAAAAAAAAAAAAAAAAAAAAAAAAAAAAAAAAAAAAAAAAAAAAAAAAAAAAAAAAAAAAAAAAAAAAAAAAAAAAAAAAAAAAAAAAAAAAAAAAAAAAAAAAAAAAAAAAAAAAAAAAAAAAAAAAAAAAAAAAAAAAAAAAAAAAAAAAAAAAAAAAAAAAAAAAAAAAAAAAAAAAAAAAAAAAAAAAAAAAAAAAAAAAAAAAAAAAAAAAAAAAAAAAAAAAAAAAAAAAAAAAAAAAAAAAAAAAAAAAAAAAAAAAAAAAAAAAAAAAAAAAAAAAAAAAAAAAAAAAAAAAAAAAAAAAAAAAAAAAAAAAAAAAAAAAAAAAAAAAAAAAAAAAAAAAAAAAAAAAAAAAAAAAAAAAAAAAAAAAAAAAAAAAAAAAAAAAAAAAAAAAAAAAAAAAAAAAAAAAAAAAAAAAAAAAAAAAAAAAAAAAAAAAAAAAAAAAAAAAAAAAAAAAAAAAAAAAAAAAAAAAAAAAAAAAAAAAAAAAAAAAAAAAAAAAAAAAAAAAAAAAAAAAAAAAAAAAAAAAAAAAAAAAAAAAAAAAAAAAAAAAAAAAAAAAAAAAAAAAAAAAAAAAAAAAAAAAAAAAAAAAAAAAAAAAAAAAAAAAAAAAAAAAAAAAAAAAAAAAAAAAAAAAAAAAAAAAAAAAAAAAAAAAAAAAAAAAAAAAAAAAAAAAAAAAAAAAAAAAAAAAAAAAAAAAAAAAAAAAAAAAAAAAAAAAAAAAAAAAAAAAAAAAAAAAAAAAAAAAAAAAAAAAAAAAAAAAAAAAAAAAAAAAAAAAAAAAAAAAAAAAAAAAAAAAAAAAAAAAAAAAAAAAAAAAAAAAAAAAAAAAAAAAAAAAAAAAAAAAAAAAAAAAAAAAAAAAAAAAAAAAAAAAAAAAAAAAAAAAAAAAAAAAAAAAAAAAAAAAAAAAAAAAAAAAAAAAAAAAAAAAAAAAAAAAAAAAAAAAAAAAAAAAAAAAAAAAAAAAAAAAAAAAAAAAAAAAAAAAAAAAAAAAAAAAAAAAAAAAAAAAAAAAAAAAAAAAAAAAAAAAAAAAAAAAAAAAAAAAAAAAAAAAAAAAAAAAAAAAAAAAAAAAAAAAAAAAAAAAAAAAAAAAAAAAAAAAAAAAAAAAAAAAAAAAAAAAAAAAAAAAAAAAAAAAAAAAAAAAAAAAAAAAAAAAAAAAAAAAAAAAAAAAAAAAAAAAAAAAAAAAAAAAAAAAAAAAAAAAAAAAAAAAAAAAAAAAAAAAAAAAAAAAAAAAAAAAAAAAAAAAAAAAAAAAAAAAAAAAAAAAAAAAAAAAAAAAAAAAAAAAAAAAAAAAAAAAAAAAAAAAAAAAAAAAAAAAAAAAAAAAAAAAAAAAAAAAAAAAAAAAAAAAAAAAAAAAAAAAAAAAAAAAAAAAAAAAAAAAAAAAAAAAAAAAAAAAAAAAAAAAAAAAAAAAAAAAAAAAAAAAAAAAAAAAAAAAAAAAAAAAAAAAAAAAAAAAAAAAAAAAAAAAAAAAAAAAAAAAAAAAAAAAAAAAAAAAAAAAAAAAAAAAAAAAAAAAAAAAAAAAAAAAAAAAAAAAAAAAAAAAAAAAAAAAAAAAAAAAAAAAAAAAAAAAAAAAAAAAAAAAAAAAAAAAAAAAAAAAAAAAAAAAAAAAAAAAAAAAAAAAAAAAAAAAAAAAAAAAAAAAAAAAAAAAAAAAAAAAAAAAAAAAAAAAAAAAAAAAAAAAAAAAAAAAAAAAAAAAAAAAAAAAAAAAAAAAAAAAAAAAAAAAAAAAAAAAAAAAAAAAAAAAAAAAAAAAAAAAAAAAAAAAAAAAAAAAAAAAAAAAAAAAAAAAAAAAAAAAAAAAAAAAAAAAAAAAAAAAAAAAAAAAAAAAAAAAAAAAAAAAAAAAAAAAAAAAAAAAAAAAAAAAAAAAAAAAAAAAAAAAAAAAAAAAAAAAAAAAAAAAAAAAAAAAAAAAAAAAAAAAAAAAAAAAAAAAAAAAAAAAAAAAAAAAAAAAAAAAAAAAAAAAAAAAAAAAAAAAAAAAAAAAAAAAAAAAAAAAAAAAAAAAAAAAAAAAAAAAAAAAAAAAAAAAAAAAAAAAAAAAAAAAAAAAAAAAAAAAAAAAAAAAAAAAAAAAAAAAAAAAAAAAAAAAAAAAAAAAAAAAAAAAAAAAAAAAAAAAAAAAAAAAAAAAAAAAAAAAAAAAAAAAAAAAAAAAAAAAAAAAAAAAAAAAAAAAAAAAAAAAAAAAAAAAAAAAAAAAAAAAAAAAAAAAAAAAAAAAAAAAAAAAAAAAAAAAAAAAAAAAAAAAAAAAAAAAAAAAAAAAAAAAAAAAAAAAAAAAAAAAAAAAAAAAAAAAAAAAAAAAAAAAAAAAAAAAAAAAAAAAAAAAAAAAAAAAAAAAAAAAAAAAAAAAAAAAAAAAAAAAAAAAAAAAAAAAAAAAAAAAAAAAAAAAAAAAAAAAAAAAAAAAAAAAAAAAAAAAAAAAAAAAAAAAAAAAAAAAAAAAAAAAAAAAAAAAAAAAAAAAAAAAAAAAAAAAAAAAAAAAAAAAAAAAAAAAAAAAAAAAAAAAAAAAAAAAAAAAAAAAAAAAAAAAAAAAAAAAAAAAAAAAAAAAAAAAAAAAAAAAAAAAAAAAAAAAAAAAAAAAAAAAAAAAAAAAAAAAAAAAAAAAAAAAAAAAAAAAAAAAAAAAAAAAAAAAAAAAAAAAAAAAAAAAAAAAAAAAAAAAAAAAAAAAAAAAAAAAAAAAAAAAAAAAAAAAAAAAAAAAAAAAAAAAAAAAAAAAAAAAAAAAAAAAAAAAAAAAAAAAAAAAAAAAAAAAAAAAAAAAAAAAAAAAAAAAAAAAAAAAAAAAAAAAAAAAAAAAAAAAAAAAAAAAAAAAAAAAAAAAAAAAAAAAAAAAAAAAAAAAAAAAAAAAAAAAAAAAAAAAAAAAAAAAAAAAAAAAAAAAAAAAAAAAAAAAAAAAAAAAAAAAAAAAAAAAAAAAAAAAAAAAAAAAAAAAAAAAAAAAAAAAAAAAAAAAAAAAAAAAAAAAAAAAAAAAAAAAAAAAAAAAAAAAAAAAAAAAAAAAAAAAAAAAAAAAAAAAAAAAAAAAAAAAAAAAAAAAAAAAAAAAAAAAAAAAAAAAAAAAAAAAAAAAAAAAAAAAAAAAAAAAAAAAAAAAAAAAAAAAAAAAAAAAAAAAAAAAAAAAAAAAAAAAAAAAAAAAAAAAAAAAAAAAAAAAAAAAAAAAAAAAAAAAAAAAAAAAAAAAAAAAAAAAAAAAAAAAAAAAAAAAAAAAAAAAAAAAAAAAAAAAAAAAAAAAAAAAAAAAAAAAAAAAAAAAAAAAAAAAAAAAAAAAAAAAAAAAAAAAAAAAAAAAAAAAAAAAAAAAAAAAAAAAAAAAAAAAAAAAAAAAAAAAAAAAAAAAAAAAAAAAAAAAAAAAAAAAAAAAAAAAAAAAAAAAAAAAAAAAAAAAAAAAAAAAAAAAAAAAAAAAAAAAAAAAAAAAAAAAAAAAAAAAAAAAAAAAAAAAAAAAAAAAAAAAAAAAAAAAAAAAAAAAAAAAAAAAAAAAAAAAAAAAAAAAAAAAAAAAAAAAAAAAAAAAAAAAAAAAAAAAAAAAAAAAAAAAAAAAAAAAAAAAAAAAAAAAAAAAAAAAAAAAAAAAAAAAAAAAAAAAAAAAAAAAAAAAAAAAAAAAAAAAAAAAAAAAAAAAAAAAAAAAAAAAAAAAAAAAAAAAAAAAAAAAAAAAAAAAAAAAAAAAAAAAAAAAAAAAAAAAAAAAAAAAAAAAAAAAAAAAAAAAAAAAAAAAAAAAAAAAAAAAAAAAAAAAAAAAAAAAAAAAAAAAAAAAAAAAAAAAAAAAAAAAAAAAAAAAAAAAAAAAAAAAAAAAAAAAAAAAAAAAAAAAAAAAAAAAAAAAAAAAAAAAAAAAAAAAAAAAAAAAAAAAAAAAAAAAAAAAAAAAAAAAAAAAAAAAAAAAAAAAAAAAAAAAAAAAAAAAAAAAAAAAAAAAAAAAAAAAAAAAAAAAAAAAAAAAAAAAAAAAAAAAAAAAAAAAAAAAAAAAAAAAAAAAAAAAAAAAAAAAAAAAAAAAAAAAAAAAAAAAAAAAAAAAAAAAAAAAAAAAAAAAAAAAAAAAAAAAAAAAAAAAAAAAAAAAAAAAAAAAAAAAAAAAAAAAAAAAAAAAAAAAAAAAAAAAAAAAAAAAAAAAAAAAAAAAAAAAAAAAAAAAAAAAAAAAAAAAAAAAAAAAAAAAAAAAAAAAAAAAAAAAAAAAAAAAAAAAAAAAAAAAAAAAAAAAAAAAAAAAAAAAAAAAAAAAAAAAAAAAAAAAAAAAAAAAAAAAAAAAAAAAAAAAAAAAAAAAAAAAAAAAAAAAAAAAAAAAAAAAAAAAAAAAAAAAAAAAAAAAAAAAAAAAAAAAAAAAAAAAAAAAAAAAAAAAAAAAAAAAAAAAAAAAAAAAAAAAAAAAAAAAAAAAAAAAAAAAAAAAAAAAAAAAAAAAAAAAAAAAAAAAAAAAAAAAAAAAAAAAAAAAAAAAAAAAAAAAAAAAAAAAAAAAAAAAAAAAAAAAAAAAAAAAAAAAAAAAAAAAAAAAAAAAAAAAAAAAAAAAAAAAAAAAAAAAAAAAAAAAAAAAAAAAAAAAAAAAAAAAAAAAAAAAAAAAAAAAAAAAAAAAAAAAAAAAAAAAAAAAAAAAAAAAAAAAAAAAAAAAAAAAAAAAAAAAAAAAAAAAAAAAAAAAAAAAAAAAAAAAAAAAAAAAAAAAAAAAAAAAAAAAAAAAAAAAAAAAAAAAAAAAAAAAAAAAAAAAAAAAAAAAAAAAAAAAAAAAAAAAAAAAAAAAAAAAAAAAAAAAAAAAAAAAAAAAAAAAAAAAAAAAAAAAAAAAAAAAAAAAAAAAAAAAAAAAAAAAAAAAAAAAAAAAAAAAAAAAAAAAAAAAAAAAAAAAAAAAAAAAAAAAAAAAAAAAAAAAAAAAAAAAAAAAAAAAAAAAAAAAAAAAAAAAAAAAAAAAAAAAAAAAAAAAAAAAAAAAAAAAAAAAAAAAAAAAAAAAAAAAAAAAAAAAAAAAAAAAAAAAAAAAAAAAAAAAAAAAAAAAAAAAAAAAAAAAAAAAAAAAAAAAAAAAAAAAAAAAAAAAAAAAAAAAAAAAAAAAAAAAAAAAAAAAAAAAAAAAAAAAAAAAAAAAAAAAAAAAAAAAAAAAAAAAAAAAAAAAAAAAAAAAAAAAAAAAAAAAAAAAAAAAAAAAAAAAAAAAAAAAAAAAAAAAAAAAAAAAAAAAAAAAAAAAAAAAAAAAAAAAAAAAAAAAAAAAAAAAAAAAAAAAAAAAAAAAAAAAAAAAAAAAAAAAAAAAAAAAAAAAAAAAAAAAAAAAAAAAAAAAAAAAAAAAAAAAAAAAAAAAAAAAAAAAAAAAAAAAAAAAAAAAAAAAAAAAAAAAAAAAAAAAAAAAAAAAAAAAAAAAAAAAAAAAAAAAAAAAAAAAAAAAAAAAAAAAAAAAAAAAAAAAAAAAAAAAAAAAAAAAAAAAAAAAAAAAAAAAAAAAAAAAAAAAAAAAAAAAAAAAAAAAAAAAAAAAAAAAAAAAAAAAAAAAAAAAAAAAAAAAAAAAAAAAAAAAAAAAAAAAAAAAAAAAAAAAAAAAAAAAAAAAAAAAAAAAAAAAAAAAAAAAAAAAAAAAAAAAAAAAAAAAAAAAAAAAAAAAAAAAAAAAAAAAAAAAAAAAAAAAAAAAAAAAAAAAAAAAAAAAAAAAAAAAAAAAAAAAAAAAAAAAAAAAAAAAAAAAAAAAAAAAAAAAAAAAAAAAAAAAAAAAAAAAAAAAAAAAAAAAAAAAAAAAAAAAAAAAAAAAAAAAAAAAAAAAAAAAAAAAAAAAAAAAAAAAAAAAAAAAAAAAAAAAAAAAAAAAAAAAAAAAAAAAAAAAAAAAAAAAAAAAAAAAAAAAAAAAAAAAAAAAAAAAAAAAAAAAAAAAAAAAAAAAAAAAAAAAAAAAAAAAAAAAAAAAAAAAAAAAAAAAAAAAAAAAAAAAAAAAAAAAAAAAAAAAAAAAAAAAAAAAAAAAAAAAAAAAAAAAAAAAAAAAAAAAAAAAAAAAAAAAAAAAAAAAAAAAAAAAAAAAAAAAAAAAAAAAAAAAAAAAAAAAAAAAAAAAAAAAAAAAAAAAAAAAAAAAAAAAAAAAAAAAAAAAAAAAAAAAAAAAAAAAAAAAAAAAAAAAAAAAAAAAAAAAAAAAAAAAAAAAAAAAAAAAAAAAAAAAAAAAAAAAAAAAAAAAAAAAAAAAAAAAAAAAAAAAAAAAAAAAAAAAAAAAAAAAAAAAAAAAAAAAAAAAAAAAAAAAAAAAAAAAAAAAAAAAAAAAAAAAAAAAAAAAAAAAAAAAAAAAAAAAAAAAAAAAAAAAAAAAAAAAAAAAAAAAAAAAAAAAAAAAAAAAAAAAAAAAAAAAAAAAAAAAAAAAAAAAAAAAAAAAAAAAAAAAAAAAAAAAAAAAAAAAAAAAAAAAAAAAAAAAAAAAAAAAAAAAAAAAAAAAAAAAAAAAAAAAAAAAAAAAAAAAAAAAAAAAAAAAAAAAAAAAAAAAAAAAAAAAAAAAAAAAAAAAAAAAAAAAAAAAAAAAAAAAAAAAAAAAAAAAAAAAAAAAAAAAAAAAAAAAAAAAAAAAAAAAAAAAAAAAAAAAAAAAAAAAAAAAAAAAAAAAAAAAAAAAAAAAAAAAAAAAAAAAAAAAAAAAAAAAAAAAAAAAAAAAAAAAAAAAAAAAAAAAAAAAAAAAAAAAAAAAAAAAAAAAAAAAAAAAAAAAAAAAAAAAAAAAAAAAAAAAAAAAAAAAAAAAAAAAAAAAAAAAAAAAAAAAAAAAAAAAAAAAAAAAAAAAAAAAAAAAAAAAAAAAAAAAAAAAAAAAAAAAAAAAAAAAAAAAAAAAAAAAAAAAAAAAAAAAAAAAAAAAAAAAAAAAAAAAAAAAAAAAAAAAAAAAAAAAAAAAAAAAAAAAAAAAAAAAAAAAAAAAAAAAAAAAAAAAAAAAAAAAAAAAAAAAAAAAAAAAAAAAAAAAAAAAAAAAAAAAAAAAAAAAAAAAAAAAAAAAAAAAAAAAAAAAAAAAAAAAAAAAAAAAAAAAAAAAAAAAAAAAAAAAAAAAAAAAAAAAAAAAAAAAAAAAAAAAAAAAAAAAAAAAAAAAAAAAAAAAAAAAAAAAAAAAAAAAAAAAAAAAAAAAAAAAAAAAAAAAAAAAAAAAAAAAAAAAAAAAAAAAAAAAAAAAAAAAAAAAAAAAAAAAAAAAAAAAAAAAAAAAAAAAAAAAAAAAAAAAAAAAAAAAAAAAAAAAAAAAAAAAAAAAAAAAAAAAAAAAAAAAAAAAAAAAAAAAAAAAAAAAAAAAAAAAAAAAAAAAAAAAAAAAAAAAAAAAAAAAAAAAAAAAAAAAAAAAAAAAAAAAAAAAAAAAAAAAAAAAAAAAAAAAAAAAAAAAAAAAAAAAAAAAAAAAAAAAAAAAAAAAAAAAAAAAAAAAAAAAAAAAAAAAAAAAAAAAAAAAAAAAAAAAAAAAAAAAAAAAAAAAAAAAAAAAAAAAAAAAAAAAAAAAAAAAAAAAAAAAAAAAAAAAAAAAAAAAAAAAAAAAAAAAAAAAAAAAAAAAAAAAAAAAAAAAAAAAAAAAAAAAAAAAAAAAAAAAAAAAAAAAAAAAAAAAAAAAAAAAAAAAAAAAAAAAAAAAAAAAAAAAAAAAAAAAAAAAAAAAAAAAAAAAAAAAAAAAAAAAAAAAAAAAAAAAAAAAAAAAAAAAAAAAAAAAAAAAAAAAAAAAAAAAAAAAAAAAAAAAAAAAAAAAAAAAAAAAAAAAAAAAAAAAAAAAAAAAAAAAAAAAAAAAAAAAAAAAAAAAAAAAAAAAAAAAAAAAAAAAAAAAAAAAAAAAAAAAAAAAAAAAAAAAAAAAAAAAAAAAAAAAAAAAAAAAAAAAAAAAAAAAAAAAAAAAAAAAAAAAAAAAAAAAAAAAAAAAAAAAAAAAAAAAAAAAAAAAAAAAAAAAAAAAAAAAAAAAAAAAAAAAAAAAAAAAAAAAAAAAAAAAAAAAAAAAAAAAAAAAAAAAAAAAAAAAAAAAAAAAAAAAAAAAAAAAAAAAAAAAAAAAAAAAAAAAAAAAAAAAAAAAAAAAAAAAAAAAAAAAAAAAAAAAAAAAAAAAAAAAAAAAAAAAAAAAAAAAAAAAAAAAAAAAAAAAAAAAAAAAAAAAAAAAAAAAAAAAAAAAAAAAAAAAAAAAAAAAAAAAAAAAAAAAAAAAAAAAAAAAAAAAAAAAAAAAAAAAAAAAAAAAAAAAAAAAAAAAAAAAAAAAAAAAAAAAAAAAAAAAAAAAAAAAAAAAAAAAAAAAAAAAAAAAAAAAAAAAAAAAAAAAAAAAAAAAAAAAAAAAAAAAAAAAAAAAAAAAAAAAAAAAAAAAAAAAAAAAAAAAAAAAAAAAAAAAAAAAAAAAAAAAAAAAAAAAAAAAAAAAAAAAAAAAAAAAAAAAAAAAAAAAAAAAAAAAAAAAAAAAAAAAAAAAAAAAAAAAAAAAAAAAAAAAAAAAAAAAAAAAAAAAAAAAAAAAAAAAAAAAAAAAAAAAAAAAAAAAAAAAAAAAAAAAAAAAAAAAAAAAAAAAAAAAAAAAAAAAAAAAAAAAAAAAAAAAAAAAAAAAAAAAAAAAAAAAAAAAAAAAAAAAAAAAAAAAAAAAAAAAAAAAAAAAAAAAAAAAAAAAAAAAAAAAAAAAAAAAAAAAAAAAAAAAAAAAAAAAAAAAAAAAAAAAAAAAAAAAAAAAAAAAAAAAAAAAAAAAAAAAAAAAAAAAAAAAAAAAAAAAAAAAAAAAAAAAAAAAAAAAAAAAAAAAAAAAAAAAAAAAAAAAAAAAAAAAAAAAAAAAAAAAAAAAAAAAAAAAAAAAAAAAAAAAAAAAAAAAAAAAAAAAAAAAAAAAAAAAAAAAAAAAAAAAAAAAAAAAAAAAAAAAAAAAAAAAAAAAAAAAAAAAAAAAAAAAAAAAAAAAAAAAAAAAAAAAAAAAAAAAAAAAAAAAAAAAAAAAAAAAAAAAAAAAAAAAAAAAAAAAAAAAAAAAAAAAAAAAAAAAAAAAAAAAAAAAAAAAAAAAAAAAAAAAAAAAAAAAAAAAAAAAAAAAAAAAAAAAAAAAAAAAAAAAAAAAAAAAAAAAAAAAAAAAAAAAAAAAAAAAAAAAAAAAAAAAAAAAAAAAAAAAAAAAAAAAAAAAAAAAAAAAAAAAAAAAAAAAAAAAAAAAAAAAAAAAAAAAAAAAAAAAAAAAAAAAAAAAAAAAAAAAAAAAAAAAAAAAAAAAAAAAAAAAAAAAAAAAAAAAAAAAAAAAAAAAAAAAAAAAAAAAAAAAAAAAAAAAAAAAAAAAAAAAAAAAAAAAAAAAAAAAAAAAAAAAAAAAAAAAAAAAAAAAAAAAAAAAAAAAAAAAAAAAAAAAAAAAAAAAAAAAAAAAAAAAAAAAAAAAAAAAAAAAAAAAAAAAAAAAAAAAAAAAAAAAAAAAAAAAAAAAAAAAAAAAAAAAAAAAAAAAAAAAAAAAAAAAAAAAAAAAAAAAAAAAAAAAAAAAAAAAAAAAAAAAAAAAAAAAAAAAAAAAAAAAAAAAAAAAAAAAAAAAAAAAAAAAAAAAAAAAAAAAAAAAAAAAAAAAAAAAAAAAAAAAAAAAAAAAAAAAAAAAAAAAAAAAAAAAAAAAAAAAAAAAAAAAAAAAAAAAAAAAAAAAAAAAAAAAAAAAAAAAAAAAAAAAAAAAAAAAAAAAAAAAAAAAAAAAAAAAAAAAAAAAAAAAAAAAAAAAAAAAAAAAAAAAAAAAAAAAAAAAAAAAAAAAAAAAAAAAAAAAAAAAAAAAAAAAAAAAAAAAAAAAAAAAAAAAAAAAAAAAAAAAAAAAAAAAAAAAAAAAAAAAAAAAAAAAAAAAAAAAAAAAAAAAAAAAAAAAAAAAAAAAAAAAAAAAAAAAAAAAAAAAAAAAAAAAAAAAAAAAAAAAAAAAAAAAAAAAAAAAAAAAAAAAAAAAAAAAAAAAAAAAAAAAAAAAAAAAAAAAAAAAAAAAAAAAAAAAAAAAAAAAAAAAAAAAAAAAAAAAAAAAAAAAAAAAAAAAAAAAAAAAAAAAAAAAAAAAAAAAAAAAAAAAAAAAAAAAAAAAAAAAAAAAAAAAAAAAAAAAAAAAAAAAAAAAAAAAAAAAAAAAAAAAAAAAAAAAAAAAAAAAAAAAAAAAAAAAAAAAAAAAAAAAAAAAAAAAAAAAAAAAAAAAAAAAAAAAAAAAAAAAAAAAAAAAAAAAAAAAAAAAAAAAAAAAAAAAAAAAAAAAAAAAAAAAAAAAAAAAAAAAAAAAAAAAAAAAAAAAAAAAAAAAAAAAAAAAAAAAAAAAAAAAAAAAAAAAAAAAAAAAAAAAAAAAAAAAAAAAAAAAAAAAAAAAAAAAAAAAAAAAAAAAAAAAAAAAAAAAAAAAAAAAAAAAAAAAAAAAAAAAAAAAAAAAAAAAAAAAAAAAAAAAAAAAAAAAAAAAAAAAAAAAAAAAAAAAAAAAAAAAAAAAAAAAAAAAAAAAAAAAAAAAAAAAAAAAAAAAAAAAAAAAAAAAAAAAAAAAAAAAAAAAAAAAAAAAAAAAAAAAAAAAAAAAAAAAAAAAAAAAAAAAAAAAAAAAAAAAAAAAAAAAAAAAAAAAAAAAAAAAAAAAAAAAAAAAAAAAAAAAAAAAAAAAAAAAAAAAAAAAAAAAAAAAAAAAAAAAAAAAAAAAAAAAAAAAAAAAAAAAAAAAAAAAAAAAAAAAAAAAAAAAAAAAAAAAAAAAAAAAAAAAAAAAAAAAAAAAAAAAAAAAAAAAAAAAAAAAAAAAAAAAAAAAAAAAAAAAAAAAAAAAAAAAAAAAAAAAAAAAAAAAAAAAAAAAAAAAAAAAAAAAAAAAAAAAAAAAAAAAAAAAAAAAAAAAAAAAAAAAAAAAAAAAAAAAAAAAAAAAAAAAAAAAAAAAAAAAAAAAAAAAAAAAAAAAAAAAAAAAAAAAAAAAAAAAAAAAAAAAAAAAAAAAAAAAAAAAAAAAAAAAAAAAAAAAAAAAAAAAAAAAAAAAAAAAAAAAAAAAAAAAAAAAAAAAAAAAAAAAAAAAAAAAAAAAAAAAAAAAAAAAAAAAAAAAAAAAAAAAAAAAAAAAAAAAAAAAAAAAAAAAAAAAAAAAAAAAAAAAAAAAAAAAAAAAAAAAAAAAAAAAAAAAAAAAAAAAAAAAAAAAAAAAAAAAAAAAAAAAAAAAAAAAAAAAAAAAAAAAAAAAAAAAAAAAAAAAAAAAAAAAAAAAAAAAAAAAAAAAAAAAAAAAAAAAAAAAAAAAAAAAAAAAAAAAAAAAAAAAAAAAAAAAAAAAAAAAAAAAAAAAAAAAAAAAAAAAAAAAAAAAAAAAAAAAAAAAAAAAAAAAAAAAAAAAAAAAAAAAAAAAAAAAAAAAAAAAAAAAAAAAAAAAAAAAAAAAAAAAAAAAAAAAAAAAAAAAAAAAAAAAAAAAAAAAAAAAAAAAAAAAAAAAAAAAAAAAAAAAAAAAAAAAAAAAAAAAAAAAAAAAAAAAAAAAAAAAAAAAAAAAAAAAAAAAAAAAAAAAAAAAAAAAAAAAAAAAAAAAAAAAAAAAAAAAAAAAAAAAAAAAAAAAAAAAAAAAAAAAAAAAAAAAAAAAAAAAAAAAAAAAAAAAAAAAAAAAAAAAAAAAAAAAAAAAAAAAAAAAAAAAAAAAAAAAAAAAAAAAAAAAAAAAAAAAAAAAAAAAAAAAAAAAAAAAAAAAAAAAAAAAAAAAAAAAAAAAAAAAAAAAAAAAAAAAAAAAAAAAAAAAAAAAAAAAAAAAAAAAAAAAAAAAAAAAAAAAAAAAAAAAAAAAAAAAAAAAAAAAAAAAAAAAAAAAAAAAAAAAAAAAAAAAAAAAAAAAAAAAAAAAAAAAAAAAAAAAAAAAAAAAAAAAAAAAAAAAAAAAAAAAAAAAAAAAAAAAAAAAAAAAAAAAAAAAAAAAAAAAAAAAAAAAAAAAAAAAAAAAAAAAAAAAAAAAAAAAAAAAAAAAAAAAAAAAAAAAAAAAAAAAAAAAAAAAAAAAAAAAAAAAAAAAAAAAAAAAAAAAAAAAAAAAAAAAAAAAAAAAAAAAAAAAAAAAAAAAAAAAAAAAAAAAAAAAAAAAAAAAAAAAAAAAAAAAAAAAAAAAAAAAAAAAAAAAAAAAAAAAAAAAAAAAAAAAAAAAAAAAAAAAAAAAAAAAAAAAAAAAAAAAAAAAAAAAAAAAAAAAAAAAAAAAAAAAAAAAAAAAAAAAAAAAAAAAAAAAAAAAAAAAAAAAAAAAAAAAAAAAAAAAAAAAAAAAAAAAAAAAAAAAAAAAAAAAAAAAAAAAAAAAAAAAAAAAAAAAAAAAAAAAAAAAAAAAAAAAAAAAAAAAAAAAAAAAAAAAAAAAAAAAAAAAAAAAAAAAAAAAAAAAAAAAAAAAAAAAAAAAAAAAAAAAAAAAAAAAAAAAAAAAAAAAAAAAAAAAAAAAAAAAAAAAAAAAAAAAAAAAAAAAAAAAAAAAAAAAAAAAAAAAAAAAAAAAAAAAAAAAAAAAAAAAAAAAAAAAAAAAAAAAAAAAAAAAAAAAAAAAAAAAAAAAAAAAAAAAAAAAAAAAAAAAAAAAAAAAAAAAAAAAAAAAAAAAAAAAAAAAAAAAAAAAAAAAAAAAAAAAAAAAAAAAAAAAAAAAAAAAAAAAAAAAAAAAAAAAAAAAAAAAAAAAAAAAAAAAAAAAAAAAAAAAAAAAAAAAAAAAAAAAAAAAAAAAAAAAAAAAAAAAAAAAAAAAAAAAAAAAAAAAAAAAAAAAAAAAAAAAAAAAAAAAAAAAAAAAAAAAAAAAAAAAAAAAAAAAAAAAAAAAAAAAAAAAAAAAAAAAAAAAAAAAAAAAAAAAAAAAAAAAAAAAAAAAAAAAAAAAAAAAAAAAAAAAAAAAAAAAAAAAAAAAAAAAAAAAAAAAAAAAAAAAAAAAAAAAAAAAAAAAAAAAAAAAAAAAAAAAAAAAAAAAAAAAAAAAAAAAAAAAAAAAAAAAAAAAAAAAAAAAAAAAAAAAAAAAAAAAAAAAAAAAAAAAAAAAAAAAAAAAAAAAAAAAAAAAAAAAAAAAAAAAAAAAAAAAAAAAAAAAAAAAAAAAAAAAAAAAAAAAAAAAAAAAAAAAAAAAAAAAAAAAAAAAAAAAAAAAAAAAAAAAAAAAAAAAAAAAAAAAAAAAAAAAAAAAAAAAAAAAAAAAAAAAAAAAAAAAAAAAAAAAAAAAAAAAAAAAAAAAAAAAAAAAAAAAAAAAAAAAAAAAAAAAAAAAAAAAAAAAAAAAAAAAAAAAAAAAAAAAAAAAAAAAAAAAAAAAAAAAAAAAAAAAAAAAAAAAAAAAAAAAAAAAAAAAAAAAAAAAAAAAAAAAAAAAAAAAAAAAAAAAAAAAAAAAAAAAAAAAAAAAAAAAAAAAAAAAAAAAAAAAAAAAAAAAAAAAAAAAAAAAAAAAAAAAAAAAAAAAAAAAAAAAAAAAAAAAAAAAAAAAAAAAAAAAAAAAAAAAAAAAAAAAAAAAAAAAAAAAAAAAAAAAAAAAAAAAAAAAAAAAAAAAAAAAAAAAAAAAAAAAAAAAAAAAAAAAAAAAAAAAAAAAAAAAAAAAAAAAAAAAAAAAAAAAAAAAAAAAAAAAAAAAAAAAAAAAAAAAAAAAAAAAAAAAAAAAAAAAAAAAAAAAAAAAAAAAAAAAAAAAAAAAAAAAAAAAAAAAAAAAAAAAAAAAAAAAAAAAAAAAAAAAAAAAAAAAAAAAAAAAAAAAAAAAAAAAAAAAAAAAAAAAAAAAAAAAAAAAAAAAAAAAAAAAAAAAAAAAAAAAAAAAAAAAAAAAAAAAAAAAAAAAAAAAAAAAAAAAAAAAAAAAAAAAAAAAAAAAAAAAAAAAAAAAAAAAAAAAAAAAAAAAAAAAAAAAAAAAAAAAAAAAAAAAAAAAAAAAAAAAAAAAAAAAAAAAAAAAAAAAAAAAAAAAAAAAAAAAAAAAAAAAAAAAAAAAAAAAAAAAAAAAAAAAAAAAAAAAAAAAAAAAAAAAAAAAAAAAAAAAAAAAAAAAAAAAAAAAAAAAAAAAAAAAAAAAAAAAAAAAAAAAAAAAAAAAAAAAAAAAAAAAAAAAAAAAAAAAAAAAAAAAAAAAAAAAAAAAAAAAAAAAAAAAAAAAAAAAAAAAAAAAAAAAAAAAAAAAAAAAAAAAAAAAAAAAAAAAAAAAAAAAAAAAAAAAAAAAAAAAAAAAAAAAAAAAAAAAAAAAAAAAAAAAAAAAAAAAAAAAAAAAAAAAAAAAAAAAAAAAAAAAAAAAAAAAAAAAAAAAAAAAAAAAAAAAAAAAAAAAAAAAAAAAAAAAAAAAAAAAAAAAAAAAAAAAAAAAAAAAAAAAAAAAAAAAAAAAAAAAAAAAAAAAAAAAAAAAAAAAAAAAAAAAAAAAAAAAAAAAAAAAAAAAAAAAAAAAAAAAAAAAAAAAAAAAAAAAAAAAAAAAAAAAAAAAAAAAAAAAAAAAAAAAAAAAAAAAAAAAAAAAAAAAAAAAAAAAAAAAAAAAAAAAAAAAAAAAAAAAAAAAAAAAAAAAAAAAAAAAAAAAAAAAAAAAAAAAAAAAAAAAAAAAAAAAAAAAAAAAAAAAAAAAAAAAAAAAAAAAAAAAAAAAAAAAAAAAAAAAAAAAAAAAAAAAAAAAAAAAAAAAAAAAAAAAAAAAAAAAAAAAAAAAAAAAAAAAAAAAAAAAAAAAAAAAAAAAAAAAAAAAAAAAAAAAAAAAAAAAAAAAAAAAAAAAAAAAAAAAAAAAAAAAAAAAAAAAAAAAAAAAAAAAAAAAAAAAAAAAAAAAAAAAAAAAAAAAAAAAAAAAAAAAAAAAAAAAAAAAAAAAAAAAAAAAAAAAAAAAAAAAAAAAAAAAAAAAAAAAAAAAAAAAAAAAAAAAAAAAAAAAAAAAAAAAAAAAAAAAAAAAAAAAAAAAAAAAAAAAAAAAAAAAAAAAAAAAAAAAAAAAAAAAAAAAAAAAAAAAAAAAAAAAAAAAAAAAAAAAAAAAAAAAAAAAAAAAAAAAAAAAAAAAAAAAAAAAAAAAAAAAAAAAAAAAAAAAAAAAAAAAAAAAAAAAAAAAAAAAAAAAAAAAAAAAAAAAAAAAAAAAAAAAAAAAAAAAAAAAAAAAAAAAAAAAAAAAAAAAAAAAAAAAAAAAAAAAAAAAAAAAAAAAAAAAAAAAAAAAAAAAAAAAAAAAAAAAAAAAAAAAAAAAAAAAAAAAAAAAAAAAAAAAAAAAAAAAAAAAAAAAAAAAAAAAAAAAAAAAAAAAAAAAAAAAAAAAAAAAAAAAAAAAAAAAAAAAAAAAAAAAAAAAAAAAAAAAAAAAAAAAAAAAAAAAAAAAAAAAAAAAAAAAAAAAAAAAAAAAAAAAAAAAAAAAAAAAAAAAAAAAAAAAAAAAAAAAAAAAAAAAAAAAAAAAAAAAAAAAAAAAAAAAAAAAAAAAAAAAAAAAAAAAAAAAAAAAAAAAAAAAAAAAAAAAAAAAAAAAAAAAAAAAAAAAAAAAAAAAAAAAAAAAAAAAAAAAAAAAAAAAAAAAAAAAAAAAAAAAAAAAAAAAAAAAAAAAAAAAAAAAAAAAAAAAAAAAAAAAAAAAAAAAAAAAAAAAAAAAAAAAAAAAAAAAAAAAAAAAAAAAAAAAAAAAAAAAAAAAAAAAAAAAAAAAAAAAAAAAAAAAAAAAAAAAAAAAAAAAAAAAAAAAAAAAAAAAAAAAAAAAAAAAAAAAAAAAAAAAAAAAAAAAAAAAAAAAAAAAAAAAAAAAAAAAAAAAAAAAAAAAAAAAAAAAAAAAAAAAAAAAAAAAAAAAAAAAAAAAAAAAAAAAAAAAAAAAAAAAAAAAAAAAAAAAAAAAAAAAAAAAAAAAAAAAAAAAAAAAAAAAAAAAAAAAAAAAAAAAAAAAAAAAAAAAAAAAAAAAAAAAAAAAAAAAAAAAAAAAAAAAAAAAAAAAAAAAAAAAAAAAAAAAAAAAAAAAAAAAAAAAAAAAAAAAAAAAAAAAAAAAAAAAAAAAAAAAAAAAAAAAAAAAAAAAAAAAAAAAAAAAAAAAAAAAAAAAAAAAAAAAAAAAAAAAAAAAAAAAAAAAAAAAAAAAAAAAAAAAAAAAAAAAAAAAAAAAAAAAAAAAAAAAAAAAAAAAAAAAAAAAAAAAAAAAAAAAAAAAAAAAAAAAAAAAAAAAAAAAAAAAAAAAAAAAAAAAAAAAAAAAAAAAAAAAAAAAAAAAAAAAAAAAAAAAAAAAAAAAAAAAAAAAAAAAAAAAAAAAAAAAAAAAAAAAAAAAAAAAAAAAAAAAAAAAAAAAAAAAAAAAAAAAAAAAAAAAAAAAAAAAAAAAAAAAAAAAAAAAAAAAAAAAAAAAAAAAAAAAAAAAAAAAAAAAAAAAAAAAAAAAAAAAAAAAAAAAAAAAAAAAAAAAAAAAAAAAAAAAAAAAAAAAAAAAAAAAAAAAAAAAAAAAAAAAAAAAAAAAAAAAAAAAAAAAAAAAAAAAAAAAAAAAAAAAAAAAAAAAAAAAAAAAAAAAAAAAAAAAAAAAAAAAAAAAAAAAAAAAAAAAAAAAAAAAAAAAAAAAAAAAAAAAAAAAAAAAAAAAAAAAAAAAAAAAAAAAAAAAAAAAAAAAAAAAAAAAAAAAAAAAAAAAAAAAAAAAAAAAAAAAAAAAAAAAAAAAAAAAAAAAAAAAAAAAAAAAAAAAAAAAAAAAAAAAAAAAAAAAAAAAAAAAAAAAAAAAAAAAAAAAAAAAAAAAAAAAAAAAAAAAAAAAAAAAAAAAAAAAAAAAAAAAAAAAAAAAAAAAAAAAAAAAAAAAAAAAAAAAAAAAAAAAAAAAAAAAAAAAAAAAAAAAAAAAAAAAAAAAAAAAAAAAAAAAAAAAAAAAAAAAAAAAAAAAAAAAAAAAAAAAAAAAAAAAAAAAAAAAAAAAAAAAAAAAAAAAAAAAAAAAAAAAAAAAAAAAAAAAAAAAAAAAAAAAAAAAAAAAAAAAAAAAAAAAAAAAAAAAAAAAAAAAAAAAAAAAAAAAAAAAAAAAAAAAAAAAAAAAAAAAAAAAAAAAAAAAAAAAAAAAAAAAAAAAAAAAAAAAAAAAAAAAAAAAAAAAAAAAAAAAAAAAAAAAAAAAAAAAAAAAAAAAAAAAAAAAAAAAAAAAAAAAAAAAAAAAAAAAAAAAAAAAAAAAAAAAAAAAAAAAAAAAAAAAAAAAAAAAAAAAAAAAAAAAAAAAAAAAAAAAAAAAAAAAAAAAAAAAAAAAAAAAAAAAAAAAAAAAAAAAAAAAAAAAAAAAAAAAAAAAAAAAAAAAAAAAAAAAAAAAAAAAAAAAAAAAAAAAAAAAAAAAAAAAAAAAAAAAAAAAAAAAAAAAAAAAAAAAAAAAAAAAAAAAAAAAAAAAAAAAAAAAAAAAAAAAAAAAAAAAAAAAAAAAAAAAAAAAAAAAAAAAAAAAAAAAAAAAAAAAAAAAAAAAAAAAAAAAAAAAAAAAAAAAAAAAAAAAAAAAAAAAAAAAAAAAAAAAAAAAAAAAAAAAAAAAAAAAAAAAAAAAAAAAAAAAAAAAAAAAAAAAAAAAAAAAAAAAAAAAAAAAAAAAAAAAAAAAAAAAAAAAAAAAAAAAAAAAAAAAAAAAAAAAAAAAAAAAAAAAAAAAAAAAAAAAAAAAAAAAAAAAAAAAAAAAAAAAAAAAAAAAAAAAAAAAAAAAAAAAAAAAAAAAAAAAAAAAAAAAAAAAAAAAAAAAAAAAAAAAAAAAAAAAAAAAAAAAAAAAAAAAAAAAAAAAAAAAAAAAAAAAAAAAAAAAAAAAAAAAAAAAAAAAAAAAAAAAAAAAAAAAAAAAAAAAAAAAAAAAAAAAAAAAAAAAAAAAAAAAAAAAAAAAAAAAAAAAAAAAAAAAAAAAAAAAAAAAAAAAAAAAAAAAAAAAAAAAAAAAAAAAAAAAAAAAAAAAAAAAAAAAAAAAAAAAAAAAAAAAAAAAAAAAAAAAAAAAAAAAAAAAAAAAAAAAAAAAAAAAAAAAAAAAAAAAAAAAAAAAAAAAAAAAAAAAAAAAAAAAAAAAAAAAAAAAAAAAAAAAAAAAAAAAAAAAAAAAAAAAAAAAAAAAAAAAAAAAAAAAAAAAAAAAAAAAAAAAAAAAAAAAAAAAAAAAAAAAAAAAAAAAAAAAAAAAAAAAAAAAAAAAAAAAAAAAAAAAAAAAAAAAAAAAAAAAAAAAAAAAAAAAAAAAAAAAAAAAAAAAAAAAAAAAAAAAAAAAAAAAAAAAAAAAAAAAAAAAAAAAAAAAAAAAAAAAAAAAAAAAAAAAAAAAAAAAAAAAAAAAAAAAAAAAAAAAAAAAAAAAAAAAAAAAAAAAAAAAAAAAAAAAAAAAAAAAAAAAAAAAAAAAAAAAAAAAAAAAAAAAAAAAAAAAAAAAAAAAAAAAAAAAAAAAAAAAAAAAAAAAAAAAAAAAAAAAAAAAAAAAAAAAAAAAAAAAAAAAAAAAAAAAAAAAAAAAAAAAAAAAAAAAAAAAAAAAAAAAAAAAAAAAAAAAAAAAAAAAAAAAAAAAAAAAAAAAAAAAAAAAAAAAAAAAAAAAAAAAAAAAAAAAAAAAAAAAAAAAAAAAAAAAAAAAAAAAAAAAAAAAAAAAAAAAAAAAAAAAAAAAAAAAAAAAAAAAAAAAAAAAAAAAAAAAAAAAAAAAAAAAAAAAAAAAAAAAAAAAAAAAAAAAAAAAAAAAAAAAAAAAAAAAAAAAAAAAAAAAAAAAAAAAAAAAAAAAAAAAAAAAAAAAAAAAAAAAAAAAAAAAAAAAAAAAAAAAAAAAAAAAAAAAAAAAAAAAAAAAAAAAAAAAAAAAAAAAAAAAAAAAAAAAAAAAAAAAAAAAAAAAAAAAAAAAAAAAAAAAAAAAAAAAAAAAAAAAAAAAAAAAAAAAAAAAAAAAAAAAAAAAAAAAAAAAAAAAAAAAAAAAAAAAAAAAAAAAAAAAAAAAAAAAAAAAAAAAAAAAAAAAAAAAAAAAAAAAAAAAAAAAAAAAAAAAAAAAAAAAAAAAAAAAAAAAAAAAAAAAAAAAAAAAAAAAAAAAAAAAAAAAAAAAAAAAAAAAAAAAAAAAAAAAAAAAAAAAAAAAAAAAAAAAAAAAAAAAAAAAAAAAAAAAAAAAAAAAAAAAAAAAAAAAAAAAAAAAAAAAAAAAAAAAAAAAAAAAAAAAAAAAAAAAAAAAAAAAAAAAAAAAAAAAAAAAAAAAAAAAAAAAAAAAAAAAAAAAAAAAAAAAAAAAAAAAAAAAAAAAAAAAAAAAAAAAAAAAAAAAAAAAAAAAAAAAAAAAAAAAAAAAAAAAAAAAAAAAAAAAAAAAAAAAAAAAAAAAAAAAAAAAAAAAAAAAAAAAAAAAAAAAAAAAAAAAAAAAAAAAAAAAAAAAAAAAAAAAAAAAAAAAAAAAAAAAAAAAAAAAAAAAAAAAAAAAAAAAAAAAAAAAAAAAAAAAAAAAAAAAAAAAAAAAAAAAAAAAAAAAAAAAAAAAAAAAAAAAAAAAAAAAAAAAAAAAAAAAAAAAAAAAAAAAAAAAAAAAAAAAAAAAAAAAAAAAAAAAAAAAAAAAAAAAAAAAAAAAAAAAAAAAAAAAAAAAAAAAAAAAAAAAAAAAAAAAAAAAAAAAAAAAAAAAAAAAAAAAAAAAAAAAAAAAAAAAAAAAAAAAAAAAAAAAAAAAAAAAAAAAAAAAAAAAAAAAAAAAAAAAAAAAAAAAAAAAAAAAAAAAAAAAAAAAAAAAAAAAAAAAAAAAAAAAAAAAAAAAAAAAAAAAAAAAAAAAAAAAAAAAAAAAAAAAAAAAAAAAAAAAAAAAAAAAAAAAAAAAAAAAAAAAAAAAAAAAAAAAAAAAAAAAAAAAAAAAAAAAAAAAAAAAAAAAAAAAAAAAAAAAAAAAAAAAAAAAAAAAAAAAAAAAAAAAAAAAAAAAAAAAAAAAAAAAAAAAAAAAAAAAAAAAAAAAAAAAAAAAAAAAAAAAAAAAAAAAAAAAAAAAAAAAAAAAAAAAAAAAAAAAAAAAAAAAAAAAAAAAAAAAAAAAAAAAAAAAAAAAAAAAAAAAAAAAAAAAAAAAAAAAAAAAAAAAAAAAAAAAAAAAAAAAAAAAAAAAAAAAAAAAAAAAAAAAAAAAAAAAAAAAAAAAAAAAAAAAAAAAAAAAAAAAAAAAAAAAAAAAAAAAAAAAAAAAAAAAAAAAAAAAAAAAAAAAAAAAAAAAAAAAAAAAAAAAAAAAAAAAAAAAAAAAAAAAAAAAAAAAAAAAAAAAAAAAAAAAAAAAAAAAAAAAAAAAAAAAAAAAAAAAAAAAAAAAAAAAAAAAAAAAAAAAAAAAAAAAAAAAAAAAAAAAAAAAAAAAAAAAAAAAAAAAAAAAAAAAAAAAAAAAAAAAAAAAAAAAAAAAAAAAAAAAAAAAAAAAAAAAAAAAAAAAAAAAAAAAAAAAAAAAAAAAAAAAAAAAAAAAAAAAAAAAAAAAAAAAAAAAAAAAAAAAAAAAAAAAAAAAAAAAAAAAAAAAAAAAAAAAAAAAAAAAAAAAAAAAAAAAAAAAAAAAAAAAAAAAAAAAAAAAAAAAAAAAAAAAAAAAAAAAAAAAAAAAAAAAAAAAAAAAAAAAAAAAAAAAAAAAAAAAAAAAAAAAAAAAAAAAAAAAAAAAAAAAAAAAAAAAAAAAAAAAAAAAAAAAAAAAAAAAAAAAAAAAAAAAAAAAAAAAAAAAAAAAAAAAAAAAAAAAAAAAAAAAAAAAAAAAAAAAAAAAAAAAAAAAAAAAAAAAAAAAAAAAAAAAAAAAAAAAAAAAAAAAAAAAAAAAAAAAAAAAAAAAAAAAAAAAAAAAAAAAAAAAAAAAAAAAAAAAAAAAAAAAAAAAAAAAAAAAAAAAAAAAAAAAAAAAAAAAAAAAAAAAAAAAAAAAAAAAAAAAAAAAAAAAAAAAAAAAAAAAAAAAAAAAAAAAAAAAAAAAAAAAAAAAAAAAAAAAAAAAAAAAAAAAAAAAAAAAAAAAAAAAAAAAAAAAAAAAAAAAAAAAAAAAAAAAAAAAAAAAAAAAAAAAAAAAAAAAAAAAAAAAAAAAAAAAAAAAAAAAAAAAAAAAAAAAAAAAAAAAAAAAAAAAAAAAAAAAAAAAAAAAAAAAAAAAAAAAAAAAAAAAAAAAAAAAAAAAAAAAAAAAAAAAAAAAAAAAAAAAAAAAAAAAAAAAAAAAAAAAAAAAAAAAAAAAAAAAAAAAAAAAAAAAAAAAAAAAAAAAAAAAAAAAAAAAAAAAAAAAAAAAAAAAAAAAAAAAAAAAAAAAAAAAAAAAAAAAAAAAAAAAAAAAAAAAAAAAAAAAAAAAAAAAAAAAAAAAAAAAAAAAAAAAAAAAAAAAAAAAAAAAAAAAAAAAAAAAAAAAAAAAAAAAAAAAAAAAAAAAAAAAAAAAAAAAAAAAAAAAAAAAAAAAAAAAAAAAAAAAAAAAAAAAAAAAAAAAAAAAAAAAAAAAAAAAAAAAAAAAAAAAAAAAAAAAAAAAAAAAAAAAAAAAAAAAAAAAAAAAAAAAAAAAAAAAAAAAAAAAAAAAAAAAAAAAAAAAAAAAAAAAAAAAAAAAAAAAAAAAAAAAAAAAAAAAAAAAAAAAAAAAAAAAAAAAAAAAAAAAAAAAAAAAAAAAAAAAAAAAAAAAAAAAAAAAAAAAAAAAAAAAAAAAAAAAAAAAAAAAAAAAAAAAAAAAAAAAAAAAAAAAAAAAAAAAAAAAAAAAAAAAAAAAAAAAAAAAAAAAAAAAAAAAAAAAAAAAAAAAAAAAAAAAAAAAAAAAAAAAAAAAAAAAAAAAAAAAAAAAAAAAAAAAAAAAAAAAAAAAAAAAAAAAAAAAAAAAAAAAAAAAAAAAAAAAAAAAAAAAAAAAAAAAAAAAAAAAAAAAAAAAAAAAAAAAAAAAAAAAAAAAAAAAAAAAAAAAAAAAAAAAAAAAAAAAAAAAAAAAAAAAAAAAAAAAAAAAAAAAAAAAAAAAAAAAAAAAAAAAAAAAAAAAAAAAAAAAAAAAAAAAAAAAAAAAAAAAAAAAAAAAAAAAAAAAAAAAAAAAAAAAAAAAAAAAAAAAAAAAAAAAAAAAAAAAAAAAAAAAAAAAAAAAAAAAAAAAAAAAAAAAAAAAAAAAAAAAAAAAAAAAAAAAAAAAAAAAAAAAAAAAAAAAAAAAAAAAAAAAAAAAAAAAAAAAAAAAAAAAAAAAAAAAAAAAAAAAAAAAAAAAAAAAAAAAAAAAAAAAAAAAAAAAAAAAAAAAAAAAAAAAAAAAAAAAAAAAAAAAAAAAAAAAAAAAAAAAAAAAAAAAAAAAAAAAAAAAAAAAAAAAAAAAAAAAAAAAAAAAAAAAAAAAAAAAAAAAAAAAAAAAAAAAAAAAAAAAAAAAAAAAAAAAAAAAAAAAAAAAAAAAAAAAAAAAAAAAAAAAAAAAAAAAAAAAAAAAAAAAAAAAAAAAAAAAAAAAAAAAAAAAAAAAAAAAAAAAAAAAAAAAAAAAAAAAAAAAAAAAAAAAAAAAAAAAAAAAAAAAAAAAAAAAAAAAAAAAAAAAAAAAAAAAAAAAAAAAAAAAAAAAAAAAAAAAAAAAAAAAAAAAAAAAAAAAAAAAAAAAAAAAAAAAAAAAAAAAAAAAAAAAAAAAAAAAAAAAAAAAAAAAAAAAAAAAAAAAAAAAAAAAAAAAAAAAAAAAAAAAAAAAAAAAAAAAAAAAAAAAAAAAAAAAAAAAAAAAAAAAAAAAAAAAAAAAAAAAAAAAAAAAAAAAAAAAAAAAAAAAAAAAAAAAAAAAAAAAAAAAAAAAAAAAAAAAAAAAAAAAAAAAAAAAAAAAAAAAAAAAAAAAAAAAAAAAAAAAAAAAAAAAAAAAAAAAAAAAAAAAAAAAAAAAAAAAAAAAAAAAAAAAAAAAAAAAAAAAAAAAAAAAAAAAAAAAAAAAAAAAAAAAAAAAAAAAAAAAAAAAAAAAAAAAAAAAAAAAAAAAAAAAAAAAAAAAAAAAAAAAAAAAAAAAAAAAAAAAAAAAAAAAAAAAAAAAAAAAAAAAAAAAAAAAAAAAAAAAAAAAAAAAAAAAAAAAAAAAAAAAAAAAAAAAAAAAAAAAAAAAAAAAAAAAAAAAAAAAAAAAAAAAAAAAAAAAAAAAAAAAAAAAAAAAAAAAAAAAAAAAAAAAAAAAAAAAAAAAAAAAAAAAAAAAAAAAAAAAAAAAAAAAAAAAAAAAAAAAAAAAAAAAAAAAAAAAAAAAAAAAAAAAAAAAAAAAAAAAAAAAAAAAAAAAAAAAAAAAAAAAAAAAAAAAAAAAAAAAAAAAAAAAAAAAAAAAAAAAAAAAAAAAAAAAAAAAAAAAAAAAAAAAAAAAAAAAAAAAAAAAAAAAAAAAAAAAAAAAAAAAAAAAAAAAAAAAAAAAAAAAAAAAAAAAAAAAAAAAAAAAAAAAAAAAAAAAAAAAAAAAAAAAAAAAAAAAAAAAAAAAAAAAAAAAAAAAAAAAAAAAAAAAAAAAAAAAAAAAAAAAAAAAAAAAAAAAAAAAAAAAAAAAAAAAAAAAAAAAAAAAAAAAAAAAAAAAAAAAAAAAAAAAAAAAAAAAAAAAAAAAAAAAAAAAAAAAAAAAAAAAAAAAAAAAAAAAAAAAAAAAAAAAAAAAAAAAAAAAAAAAAAAAAAAAAAAAAAAAAAAAAAAAAAAAAAAAAAAAAAAAAAAAAAAAAAAAAAAAAAAAAAAAAAAAAAAAAAAAAAAAAAAAAAAAAAAAAAAAAAAAAAAAAAAAAAAAAAAAAAAAAAAAAAAAAAAAAAAAAAAAAAAAAAAAAAAAAAAAAAAAAAAAAAAAAAAAAAAAAAAAAAAAAAAAAAAAAAAAAAAAAAAAAAAAAAAAAAAAAAAAAAAAAAAAAAAAAAAAAAAAAAAAAAAAAAAAAAAAAAAAAAAAAAAAAAAAAAAAAAAAAAAAAAAAAAAAAAAAAAAAAAAAAAAAAAAAAAAAAAAAAAAAAAAAAAAAAAAAAAAAAAAAAAAAAAAAAAAAAAAAAAAAAAAAAAAAAAAAAAAAAAAAAAAAAAAAAAAAAAAAAAAAAAAAAAAAAAAAAAAAAAAAAAAAAAAAAAAAAAAAAAAAAAAAAAAAAAAAAAAAAAAAAAAAAAAAAAAAAAAAAAAAAAAAAAAAAAAAAAAAAAAAAAAAAAAAAAAAAAAAAAAAAAAAAAAAAAAAAAAAAAAAAAAAAAAAAAAAAAAAAAAAAAAAAAAAAAAAAAAAAAAAAAAAAAAAAAAAAAAAAAAAAAAAAAAAAAAAAAAAAAAAAAAAAAAAAAAAAAAAAAAAAAAAAAAAAAAAAAAAAAAAAAAAAAAAAAAAAAAAAAAAAAAAAAAAAAAAAAAAAAAAAAAAAAAAAAAAAAAAAAAAAAAAAAAAAAAAAAAAAAAAAAAAAAAAAAAAAAAAAAAAAAAAAAAAAAAAAAAAAAAAAAAAAAAAAAAAAAAAAAAAAAAAAAAAAAAAAAAAAAAAAAAAAAAAAAAAAAAAAAAAAAAAAAAAAAAAAAAAAAAAAAAAAAAAAAAAAAAAAAAAAAAAAAAAAAAAAAAAAAAAAAAAAAAAAAAAAAAAAAAAAAAAAAAAAAAAAAAAAAAAAAAAAAAAAAAAAAAAAAAAAAAAAAAAAAAAAAAAAAAAAAAAAAAAAAAAAAAAAAAAAAAAAAAAAAAAAAAAAAAAAAAAAAAAAAAAAAAAAAAAAAAAAAAAAAAAAAAAAAAAAAAAAAAAAAAAAAAAAAAAAAAAAAAAAAAAAAAAAAAAAAAAAAAAAAAAAAAAAAAAAAAAAAAAAAAAAAAAAAAAAAAAAAAAAAAAAAAAAAAAAAAAAAAAAAAAAAAAAAAAAAAAAAAAAAAAAAAAAAAAAAAAAAAAAAAAAAAAAAAAAAAAAAAAAAAAAAAAAAAAAAAAAAAAAAAAAAAAAAAAAAAAAAAAAAAAAAAAAAAAAAAAAAAAAAAAAAAAAAAAAAAAAAAAAAAAAAAAAAAAAAAAAAAAAAAAAAAAAAAAAAAAAAAAAAAAAAAAAAAAAAAAAAAAAAAAAAAAAAAAAAAAAAAAAAAAAAAAAAAAAAAAAAAAAAAAAAAAAAAAAAAAAAAAAAAAAAAAAAAAAAAAAAAAAAAAAAAAAAAAAAAAAAAAAAAAAAAAAAAAAAAAAAAAAAAAAAAAAAAAAAAAAAAAAAAAAAAAAAAAAAAAAAAAAAAAAAAAAAAAAAAAAAAAAAAAAAAAAAAAAAAAAAAAAAAAAAAAAAAAAAAAAAAAAAAAAAAAAAAAAAAAAAAAAAAAAAAAAAAAAAAAAAAAAAAAAAAAAAAAAAAAAAAAAAAAAAAAAAAAAAAAAAAAAAAAAAAAAAAAAAAAAAAAAAAAAAAAAAAAAAAAAAAAAAAAAAAAAAAAAAAAAAAAAAAAAAAAAAAAAAAAAAAAAAAAAAAAAAAAAAAAAAAAAAAAAAAAAAAAAAAAAAAAAAAAAAAAAAAAAAAAAAAAAAAAAAAAAAAAAAAAAAAAAAAAAAAAAAAAAAAAAAAAAAAAAAAAAAAAAAAAAAAAAAAAAAAAAAAAAAAAAAAAAAAAAAAAAAAAAAAAAAAAAAAAAAAAAAAAAAAAAAAAAAAAAAAAAAAAAAAAAAAAAAAAAAAAAAAAAAAAAAAAAAAAAAAAAAAAAAAAAAAAAAAAAAAAAAAAAAAAAAAAAAAAAAAAAAAAAAAAAAAAAAAAAAAAAAAAAAAAAAAAAAAAAAAAAAAAAAAAAAAAAAAAAAAAAAAAAAAAAAAAAAAAAAAAAAAAAAAAAAAAAAAAAAAAAAAAAAAAAAAAAAAAAAAAAAAAAAAAAAAAAAAAAAAAAAAAAAAAAAAAAAAAAAAAAAAAAAAAAAAAAAAAAAAAAAAAAAAAAAAAAAAAAAAAAAAAAAAAAAAAAAAAAAAAAAAAAAAAAAAAAAAAAAAAAAAAAAAAAAAAAAAAAAAAAAAAAAAAAAAAAAAAAAAAAAAAAAAAAAAAAAAAAAAAAAAAAAAAAAAAAAAAAAAAAAAAAAAAAAAAAAAAAAAAAAAAAAAAAAAAAAAAAAAAAAAAAAAAAAAAAAAAAAAAAAAAAAAAAAAAAAAAAAAAAAAAAAAAAAAAAAAAAAAAAAAAAAAAAAAAAAAAAAAAAAAAAAAAAAAAAAAAAAAAAAAAAAAAAAAAAAAAAAAAAAAAAAAAAAAAAAAAAAAAAAAAAAAAAAAAAAAAAAAAAAAAAAAAAAAAAAAAAAAAAAAAAAAAAAAAAAAAAAAAAAAAAAAAAAAAAAAAAAAAAAAAAAAAAAAAAAAAAAAAAAAAAAAAAAAAAAAAAAAAAAAAAAAAAAAAAAAAAAAAAAAAAAAAAAAAAAAAAAAAAAAAAAAAAAAAAAAAAAAAAAAAAAAAAAAAAAAAAAAAAAAAAAAAAAAAAAAAAAAAAAAAAAAAAAAAAAAAAAAAAAAAAAAAAAAAAAAAAAAAAAAAAAAAAAAAAAAAAAAAAAAAAAAAAAAAAAAAAAAAAAAAAAAAAAAAAAAAAAAAAAAAAAAAAAAAAAAAAAAAAAAAAAAAAAAAAAAAAAAAAAAAAAAAAAAAAAAAAAAAAAAAAAAAAAAAAAAAAAAAAAAAAAAAAAAAAAAAAAAAAAAAAAAAAAAAAAAAAAAAAAAAAAAAAAAAAAAAAAAAAAAAAAAAAAAAAAAAAAAAAAAAAAAAAAAAAAAAAAAAAAAAAAAAAAAAAAAAAAAAAAAAAAAAAAAAAAAAAAAAAAAAAAAAAAAAAAAAAAAAAAAAAAAAAAAAAAAAAAAAAAAAAAAAAAAAAAAAAAAAAAAAAAAAAAAAAAAAAAAAAAAAAAAAAAAAAAAAAAAAAAAAAAAAAAAAAAAAAAAAAAAAAAAAAAAAAAAAAAAAAAAAAAAAAAAAAAAAAAAAAAAAAAAAAAAAAAAAAAAAAAAAAAAAAAAAAAAAAAAAAAAAAAAAAAAAAAAAAAAAAAAAAAAAAAAAAAAAAAAAAAAAAAAAAAAAAAAAAAAAAAAAAAAAAAAAAAAAAAAAAAAAAAAAAAAAAAAAAAAAAAAAAAAAAAAAAAAAAAAAAAAAAAAAAAAAAAAAAAAAAAAAAAAAAAAAAAAAAAAAAAAAAAAAAAAAAAAAAAAAAAAAAAAAAAAAAAAAAAAAAAAAAAAAAAAAAAAAAAAAAAAAAAAAAAAAAAAAAAAAAAAAAAAAAAAAAAAAAAAAAAAAAAAAAAAAAAAAAAAAAAAAAAAAAAAAAAAAAAAAAAAAAAAAAAAAAAAAAAAAAAAAAAAAAAAAAAAAAAAAAAAAAAAAAAAAAAAAAAAAAAAAAAAAAAAAAAAAAAAAAAAAAAAAAAAAAAAAAAAAAAAAAAAAAAAAAAAAAAAAAAAAAAAAAAAAAAAAAAAAAAAAAAAAAAAAAAAAAAAAAAAAAAAAAAAAAAAAAAAAAAAAAAAAAAAAAAAAAAAAAAAAAAAAAAAAAAAAAAAAAAAAAAAAAAAAAAAAAAAAAAAAAAAAAAAAAAAAAAAAAAAAAAAAAAAAAAAAAAAAAAAAAAAAAAAAAAAAAAAAAAAAAAAAAAAAAAAAAAAAAAAAAAAAAAAAAAAAAAAAAAAAAAAAAAAAAAAAAAAAAAAAAAAAAAAAAAAAAAAAAAAAAAAAAAAAAAAAAAAAAAAAAAAAAAAAAAAAAAAAAAAAAAAAAAAAAAAAAAAAAAAAAAAAAAAAAAAAAAAAAAAAAAAAAAAAAAAAAAAAAAAAAAAAAAAAAAAAAAAAAAAAAAAAAAAAAAAAAAAAAAAAAAAAAAAAAAAAAAAAAAAAAAAAAAAAAAAAAAAAAAAAAAAAAAAAAAAAAAAAAAAAAAAAAAAAAAAAAAAAAAAAAAAAAAAAAAAAAAAAAAAAAAAAAAAAAAAAAAAAAAAAAAAAAAAAAAAAAAAAAAAAAAAAAAAAAAAAAAAAAAAAAAAAAAAAAAAAAAAAAAAAAAAAAAAAAAAAAAAAAAAAAAAAAAAAAAAAAAAAAAAAAAAAAAAAAAAAAAAAAAAAAAAAAAAAAAAAAAAAAAAAAAAAAAAAAAAAAAAAAAAAAAAAAAAAAAAAAAAAAAAAAAAAAAAAAAAAAAAAAAAAAAAAAAAAAAAAAAAAAAAAAAAAAAAAAAAAAAAAAAAAAAAAAAAAAAAAAAAAAAAAAAAAAAAAAAAAAAAAAAAAAAAAAAAAAAAAAAAAAAAAAAAAAAAAAAAAAAAAAAAAAAAAAAAAAAAAAAAAAAAAAAAAAAAAAAAAAAAAAAAAAAAAAAAAAAAAAAAAAAAAAAAAAAAAAAAAAAAAAAAAAAAAAAAAAAAAAAAAAAAAAAAAAAAAAAAAAAAAAAAAAAAAAAAAAAAAAAAAAAAAAAAAAAAAAAAAAAAAAAAAAAAAAAAAAAAAAAAAAAAAAAAAAAAAAAAAAAAAAAAAAAAAAAAAAAAAAAAAAAAAAAAAAAAAAAAAAAAAAAAAAAAAAAAAAAAAAAAAAAAAAAAAAAAAAAAAAAAAAAAAAAAAAAAAAAAAAAAAAAAAAAAAAAAAAAAAAAAAAAAAAAAAAAAAAAAAAAAAAAAAAAAAAAAAAAAAAAAAAAAAAAAAAAAAAAAAAAAAAAAAAAAAAAAAAAAAAAAAAAAAAAAAAAAAAAAAAAAAAAAAAAAAAAAAAAAAAAAAAAAAAAAAAAAAAAAAAAAAAAAAAAAAAAAAAAAAAAAAAAAAAAAAAAAAAAAAAAAAAAAAAAAAAAAAAAAAAAAAAAAAAAAAAAAAAAAAAAAAAAAAAAAAAAAAAAAAAAAAAAAAAAAAAAAAAAAAAAAAAAAAAAAAAAAAAAAAAAAAAAAAAAAAAAAAAAAAAAAAAAAAAAAAAAAAAAAAAAAAAAAAAAAAAAAAAAAAAAAAAAAAAAAAAAAAAAAAAAAAAAAAAAAAAAAAAAAAAAAAAAAAAAAAAAAAAAAAAAAAAAAAAAAAAAAAAAAAAAAAAAAAAAAAAAAAAAAAAAAAAAAAAAAAAAAAAAAAAAAAAAAAAAAAAAAAAAAAAAAAAAAAAAAAAAAAAAAAAAAAAAAAAAAAAAAAAAAAAAAAAAAAAAAAAAAAAAAAAAAAAAAAAAAAAAAAAAAAAAAAAAAAAAAAAAAAAAAAAAAAAAAAAAAAAAAAAAAAAAAAAAAAAAAAAAAAAAAAAAAAAAAAAAAAAAAAAAAAAAAAAAAAAAAAAAAAAAAAAAAAAAAAAAAAAAAAAAAAAAAAAAAAAAAAAAAAAAAAAAAAAAAAAAAAAAAAAAAAAAAAAAAAAAAAAAAAAAAAAAAAAAAAAAAAAAAAAAAAAAAAAAAAAAAAAAAAAAAAAAAAAAAAAAAAAAAAAAAAAAAAAAAAAAAAAAAAAAAAAAAAAAAAAAAAAAAAAAAAAAAAAAAAAAAAAAAAAAAAAAAAAAAAAAAAAAAAAAAAAAAAAAAAAAAAAAAAAAAAAAAAAAAAAAAAAAAAAAAAAAAAAAAAAAAAAAAAAAAAAAAAAAAAAAAAAAAAAAAAAAAAAAAAAAAAAAAAAAAAAAAAAAAAAAAAAAAAAAAAAAAAAAAAAAAAAAAAAAAAAAAAAAAAAAAAAAAAAAAAAAAAAAAAAAAAAAAAAAAAAAAAAAAAAAAAAAAAAAAAAAAAAAAAAAAAAAAAAAAAAAAAAAAAAAAAAAAAAAAAAAAAAAAAAAAAAAAAAAAAAAAAAAAAAAAAAAAAAAAAAAAAAAAAAAAAAAAAAAAAAAAAAAAAAAAAAAAAAAAAAAAAAAAAAAAAAAAAAAAAAAAAAAAAAAAAAAAAAAAAAAAAAAAAAAAAAAAAAAAAAAAAAAAAAAAAAAAAAAAAAAAAAAAAAAAAAAAAAAAAAAAAAAAAAAAAAAAAAAAAAAAAAAAAAAAAAAAAAAAAAAAAAAAAAAAAAAAAAAAAAAAAAAAAAAAAAAAAAAAAAAAAAAAAAAAAAAAAAAAAAAAAAAAAAAAAAAAAAAAAAAAAAAAAAAAAAAAAAAAAAAAAAAAAAAAAAAAAAAAAAAAAAAAAAAAAAAAAAAAAAAAAAAAAAAAAAAAAAAAAAAAAAAAAAAAAAAAAAAAAAAAAAAAAAAAAAAAAAAAAAAAAAAAAAAAAAAAAAAAAAAAAAAAAAAAAAAAAAAAAAAAAAAAAAAAAAAAAAAAAAAAAAAAAAAAAAAAAAAAAAAAAAAAAAAAAAAAAAAAAAAAAAAAAAAAAAAAAAAAAAAAAAAAAAAAAAAAAAAAAAAAAAAAAAAAAAAAAAAAAAAAAAAAAAAAAAAAAAAAAAAAAAAAAAAAAAAAAAAAAAAAAAAAAAAAAAAAAAAAAAAAAAAAAAAAAAAAAAAAAAAAAAAAAAAAAAAAAAAAAAAAAAAAAAAAAAAAAAAAAAAAAAAAAAAAAAAAAAAAAAAAAAAAAAAAAAAAAAAAAAAAAAAAAAAAAAAAAAAAAAAAAAAAAAAAAAAAAAAAAAAAAAAAAAAAAAAAAAAAAAAAAAAAAAAAAAAAAAAAAAAAAAAAAAAAAAAAAAAAAAAAAAAAAAAAAAAAAAAAAAAAAAAAAAAAAAAAAAAAAAAAAAAAAAAAAAAAAAAAAAAAAAAAAAAAAAAAAAAAAAAAAAAAAAAAAAAAAAAAAAAAAAAAAAAAAAAAAAAAAAAAAAAAAAAAAAAAAAAAAAAAAAAAAAAAAAAAAAAAAAAAAAAAAAAAAAAAAAAAAAAAAAAAAAAAAAAAAAAAAAAAAAAAAAAAAAAAAAAAAAAAAAAAAAAAAAAAAAAAAAAAAAAAAAAAAAAAAAAAAAAAAAAAAAAAAAAAAAAAAAAAAAAAAAAAAAAAAAAAAAAAAAAAAAAAAAAAAAAAAAAAAAAAAAAAAAAAAAAAAAAAAAAAAAAAAAAAAAAAAAAAAAAAAAAAAAAAAAAAAAAAAAAAAAAAAAAAAAAAAAAAAAAAAAAAAAAAAAAAAAAAAAAAAAAAAAAAAAAAAAAAAAAAAAAAAAAAAAAAAAAAAAAAAAAAAAAAAAAAAAAAAAAAAAAAAAAAAAAAAAAAAAAAAAAAAAAAAAAAAAAAAAAAAAAAAAAAAAAAAAAAAAAAAAAAAAAAAAAAAAAAAAAAAAAAAAAAAAAAAAAAAAAAAAAAAAAAAAAAAAAAAAAAAAAAAAAAAAAAAAAAAAAAAAAAAAAAAAAAAAAAAAAAAAAAAAAAAAAAAAAAAAAAAAAAAAAAAAAAAAAAAAAAAAAAAAAAAAAAAAAAAAAAAAAAAAAAAAAAAAAAAAAAAAAAAAAAAAAAAAAAAAAAAAAAAAAAAAAAAAAAAAAAAAAAAAAAAAAAAAAAAAAAAAAAAAAAAAAAAAAAAAAAAAAAAAAAAAAAAAAAAAAAAAAAAAAAAAAAAAAAAAAAAAAAAAAAAAAAAAAAAAAAAAAAAAAAAAAAAAAAAAAAAAAAAAAAAAAAAAAAAAAAAAAAAAAAAAAAAAAAAAAAAAAAAAAAAAAAAAAAAAAAAAAAAAAAAAAAAAAAAAAAAAAAAAAAAAAAAAAAAAAAAAAAAAAAAAAAAAAAAAAAAAAAAAAAAAAAAAAAAAAAAAAAAAAAAAAAAAAAAAAAAAAAAAAAAAAAAAAAAAAAAAAAAAAAAAAAAAAAAAAAAAAAAAAAAAAAAAAAAAAAAAAAAAAAAAAAAAAAAAAAAAAAAAAAAAAAAAAAAAAAAAAAAAAAAAAAAAAAAAAAAAAAAAAAAAAAAAAAAAAAAAAAAAAAAAAAAAAAAAAAAAAAAAAAAAAAAAAAAAAAAAAAAAAAAAAAAAAAAAAAAAAAAAAAAAAAAAAAAAAAAAAAAAAAAAAAAAAAAAAAAAAAAAAAAAAAAAAAAAAAAAAAAAAAAAAAAAAAAAAAAAAAAAAAAAAAAAAAAAAAAAAAAAAAAAAAAAAAAAAAAAAAAAAAAAAAAAAAAAAAAAAAAAAAAAAAAAAAAAAAAAAAAAAAAAAAAAAAAAAAAAAAAAAAAAAAAAAAAAAAAAAAAAAAAAAAAAAAAAAAAAAAAAAAAAAAAAAAAAAAAAAAAAAAAAAAAAAAAAAAAAAAAAAAAAAAAAAAAAAAAAAAAAAAAAAAAAAAAAAAAAAAAAAAAAAAAAAAAAAAAAAAAAAAAAAAAAAAAAAAAAAAAAAAAAAAAAAAAAAAAAAAAAAAAAAAAAAAAAAAAAAAAAAAAAAAAAAAAAAAAAAAAAAAAAAAAAAAAAAAAAAAAAAAAAAAAAAAAAAAAAAAAAAAAAAAAAAAAAAAAAAAAAAAAAAAAAAAAAAAAAAAAAAAAAAAAAAAAAAAAAAAAAAAAAAAAAAAAAAAAAAAAAAAAAAAAAAAAAAAAAAAAAAAAAAAAAAAAAAAAAAAAAAAAAAAAAAAAAAAAAAAAAAAAAAAAAAAAAAAAAAAAAAAAAAAAAAAAAAAAAAAAAAAAAAAAAAAAAAAAAAAAAAAAAAAAAAAAAAAAAAAAAAAAAAAAAAAAAAAAAAAAAAAAAAAAAAAAAAAAAAAAAAAAAAAAAAAAAAAAAAAAAAAAAAAAAAAAAAAAAAAAAAAAAAAAAAAAAAAAAAAAAAAAAAAAAAAAAAAAAAAAAAAAAAAAAAAAAAAAAAAAAAAAAAAAAAAAAAAAAAAAAAAAAAAAAAAAAAAAAAAAAAAAAAAAAAAAAAAAAAAAAAAAAAAAAAAAAAAAAAAAAAAAAAAAAAAAAAAAAAAAAAAAAAAAAAAAAAAAAAAAAAAAAAAAAAAAAAAAAAAAAAAAAAAAAAAAAAAAAAAAAAAAAAAAAAAAAAAAAAAAAAAAAAAAAAAAAAAAAAAAAAAAAAAAAAAAAAAAAAAAAAAAAAAAAAAAAAAAAAAAAAAAAAAAAAAAAAAAAAAAAAAAAAAAAAAAAAAAAAAAAAAAAAAAAAAAAAAAAAAAAAAAAAAAAAAAAAAAAAAAAAAAAAAAAAAAAAAAAAAAAAAAAAAAAAAAAAAAAAAAAAAAAAAAAAAAAAAAAAAAAAAAAAAAAAAAAAAAAAAAAAAAAAAAAAAAAAAAAAAAAAAAAAAAAAAAAAAAAAAAAAAAAAAAAAAAAAAAAAAAAAAAAAAAAAAAAAAAAAAAAAAAAAAAAAAAAAAAAAAAAAAAAAAAAAAAAAAAAAAAAAAAAAAAAAAAAAAAAAAAAAAAAAAAAAAAAAAAAAAAAAAAAAAAAAAAAAAAAAAAAAAAAAAAAAAAAAAAAAAAAAAAAAAAAAAAAAAAAAAAAAAAAAAAAAAAAAAAAAAAAAAAAAAAAAAAAAAAAAAAAAAAAAAAAAAAAAAAAAAAAAAAAAAAAAAAAAAAAAAAAAAAAAAAAAAAAAAAAAAAAAAAAAAAAAAAAAAAAAAAAAAAAAAAAAAAAAAAAAAAAAAAAAAAAAAAAAAAAAAAAAAAAAAAAAAAAAAAAAAAAAAAAAAAAAAAAAAAAAAAAAAAAAAAAAAAAAAAAAAAAAAAAAAAAAAAAAAAAAAAAAAAAAAAAAAAAAAAAAAAAAAAAAAAAAAAAAAAAAAAAAAAAAAAAAAAAAAAAAAAAAAAAAAAAAAAAAAAAAAAAAAAAAAAAAAAAAAAAAAAAAAAAAAAAAAAAAAAAAAAAAAAAAAAAAAAAAAAAAAAAAAAAAAAAAAAAAAAAAAAAAAAAAAAAAAAAAAAAAAAAAAAAAAAAAAAAAAAAAAAAAAAAAAAAAAAAAAAAAAAAAAAAAAAAAAAAAAAAAAAAAAAAAAAAAAAAAAAAAAAAAAAAAAAAAAAAAAAAAAAAAAAAAAAAAAAAAAAAAAAAAAAAAAAAAAAAAAAAAAAAAAAAAAAAAAAAAAAAAAAAAAAAAAAAAAAAAAAAAAAAAAAAAAAAAAAAAAAAAAAAAAAAAAAAAAAAAAAAAAAAAAAAAAAAAAAAAAAAAAAAAAAAAAAAAAAAAAAAAAAAAAAAAAAAAAAAAAAAAAAAAAAAAAAAAAAAAAAAAAAAAAAAAAAAAAAAAAAAAAAAAAAAAAAAAAAAAAAAAAAAAAAAAAAAAAAAAAAAAAAAAAAAAAAAAAAAAAAAAAAAAAAAAAAAAAAAAAAAAAAAAAAAAAAAAAAAAAAAAAAAAAAAAAAAAAAAAAAAAAAAAAAAAAAAAAAAAAAAAAAAAAAAAAAAAAAAAAAAAAAAAAAAAAAAAAAAAAAAAAAAAAAAAAAAAAAAAAAAAAAAAAAAAAAAAAAAAAAAAAAAAAAAAAAAAAAAAAAAAAAAAAAAAAAAAAAAAAAAAAAAAAAAAAAAAAAAAAAAAAAAAAAAAAAAAAAAAAAAAAAAAAAAAAAAAAAAAAAAAAAAAAAAAAAAAAAAAAAAAAAAAAAAAAAAAAAAAAAAAAAAAAAAAAAAAAAAAAAAAAAAAAAAAAAAAAAAAAAAAAAAAAAAAAAAAAAAAAAAAAAAAAAAAAAAAAAAAAAAAAAAAAAAAAAAAAAAAAAAAAAAAAAAAAAAAAAAAAAAAAAAAAAAAAAAAAAAAAAAAAAAAAAAAAAAAAAAAAAAAAAAAAAAAAAAAAAAAAAAAAAAAAAAAAAAAAAAAAAAAAAAAAAAAAAAAAAAAAAAAAAAAAAAAAAAAAAAAAAAAAAAAAAAAAAAAAAAAAAAAAAAAAAAAAAAAAAAAAAAAAAAAAAAAAAAAAAAAAAAAAAAAAAAAAAAAAAAAAAAAAAAAAAAAAAAAAAAAAAAAAAAAAAAAAAAAAAAAAAAAAAAAAAAAAAAAAAAAAAAAAAAAAAAAAAAAAAAAAAAAAAAAAAAAAAAAAAAAAAAAAAAAAAAAAAAAAAAAAAAAAAAAAAAAAAAAAAAAAAAAAAAAAAAAAAAAAAAAAAAAAAAAAAAAAAAAAAAAAAAAAAAAAAAAAAAAAAAAAAAAAAAAAAAAAAAAAAAAAAAAAAAAAAAAAAAAAAAAAAAAAAAAAAAAAAAAAAAAAAAAAAAAAAAAAAAAAAAAAAAAAAAAAAAAAAAAAAAAAAAAAAAAAAAAAAAAAAAAAAAAAAAAAAAAAAAAAAAAAAAAAAAAAAAAAAAAAAAAAAAAAAAAAAAAAAAAAAAAAAAAAAAAAAAAAAAAAAAAAAAAAAAAAAAAAAAAAAAAAAAAAAAAAAAAAAAAAAAAAAAAAAAAAAAAAAAAAAAAAAAAAAAAAAAAAAAAAAAAAAAAAAAAAAAAAAAAAAAAAAAAAAAAAAAAAAAAAAAAAAAAAAAAAAAAAAAAAAAAAAAAAAAAAAAAAAAAAAAAAAAAAAAAAAAAAAAAAAAAAAAAAAAAAAAAAAAAAAAAAAAAAAAAAAAAAAAAAAAAAAAAAAAAAAAAAAAAAAAAAAAAAAAAAAAAAAAAAAAAAAAAAAAAAAAAAAAAAAAAAAAAAAAAAAAAAAAAAAAAAAAAAAAAAAAAAAAAAAAAAAAAAAAAAAAAAAAAAAAAAAAAAAAAAAAAAAAAAAAAAAAAAAAAAAAAAAAAAAAAAAAAAAAAAAAAAAAAAAAAAAAAAAAAAAAAAAAAAAAAAAAAAAAAAAAAAAAAAAAAAAAAAAAAAAAAAAAAAAAAAAAAAAAAAAAAAAAAAAAAAAAAAAAAAAAAAAAAAAAAAAAAAAAAAAAAAAAAAAAAAAAAAAAAAAAAAAAAAAAAAAAAAAAAAAAAAAAAAAAAAAAAAAAAAAAAAAAAAAAAAAAAAAAAAAAAAAAAAAAAAAAAAAAAAAAAAAAAAAAAAAAAAAAAAAAAAAAAAAAAAAAAAAAAAAAAAAAAAAAAAAAAAAAAAAAAAAAAAAAAAAAAAAAAAAAAAAAAAAAAAAAAAAAAAAAAAAAAAAAAAAAAAAAAAAAAAAAAAAAAAAAAAAAAAAAAAAAAAAAAAAAAAAAAAAAAAAAAAAAAAAAAAAAAAAAAAAAAAAAAAAAAAAAAAAAAAAAAAAAAAAAAAAAAAAAAAAAAAAAAAAAAAAAAAAAAAAAAAAAAAAAAAAAAAAAAAAAAAAAAAAAAAAAAAAAAAAAAAAAAAAAAAAAAAAAAAAAAAAAAAAAAAAAAAAAAAAAAAAAAAAAAAAAAAAAAAAAAAAAAAAAAAAAAAAAAAAAAAAAAAAAAAAAAAAAAAAAAAAAAAAAAAAAAAAAAAAAAAAAAAAAAAAAAAAAAAAAAAAAAAAAAAAAAAAAAAAAAAAAAAAAAAAAAAAAAAAAAAAAAAAAAAAAAAAAAAAAAAAAAAAAAAAAAAAAAAAAAAAAAAAAAAAAAAAAAAAAAAAAAAAAAAAAAAAAAAAAAAAAAAAAAAAAAAAAAAAAAAAAAAAAAAAAAAAAAAAAAAAAAAAAAAAAAAAAAAAAAAAAAAAAAAAAAAAAAAAAAAAAAAAAAAAAAAAAAAAAAAAAAAAAAAAAAAAAAAAAAAAAAAAAAAAAAAAAAAAAAAAAAAAAAAAAAAAAAAAAAAAAAAAAAAAAAAAAAAAAAAAAAAAAAAAAAAAAAAAAAAAAAAAAAAAAAAAAAAAAAAAAAAAAAAAAAAAAAAAAAAAAAAAAAAAAAAAAAAAAAAAAAAAAAAAAAAAAAAAAAAAAAAAAAAAAAAAAAAAAAAAAAAAAAAAAAAAAAAAAAAAAAAAAAAAAAAAAAAAAAAAAAAAAAAAAAAAAAAAAAAAAAAAAAAAAAAAAAAAAAAAAAAAAAAAAAAAAAAAAAAAAAAAAAAAAAAAAAAAAAAAAAAAAAAAAAAAAAAAAAAAAAAAAAAAAAAAAAAAAAAAAAAAAAAAAAAAAAAAAAAAAAAAAAAAAAAAAAAAAAAAAAAAAAAAAAAAAAAAAAAAAAAAAAAAAAAAAAAAAAAAAAAAAAAAAAAAAAAAAAAAAAAAAAAAAAAAAAAAAAAAAAAAAAAAAAAAAAAAAAAAAAAAAAAAAAAAAAAAAAAAAAAAAAAAAAAAAAAAAAAAAAAAAAAAAAAAAAAAAAAAAAAAAAAAAAAAAAAAAAAAAAAAAAAAAAAAAAAAAAAAAAAAAAAAAAAAAAAAAAAAAAAAAAAAAAAAAAAAAAAAAAAAAAAAAAAAAAAAAAAAAAAAAAAAAAAAAAAAAAAAAAAAAAAAAAAAAAAAAAAAAAAAAAAAAAAAAAAAAAAAAAAAAAAAAAAAAAAAAAAAAAAAAAAAAAAAAAAAAAAAAAAAAAAAAAAAAAAAAAAAAAAAAAAAAAAAAAAAAAAAAAAAAAAAAAAAAAAAAAAAAAAAAAAAAAAAAAAAAAAAAAAAAAAAAAAAAAAAAAAAAAAAAAAAAAAAAAAAAAAAAAAAAAAAAAAAAAAAAAAAAAAAAAAAAAAAAAAAAAAAAAAAAAAAAAAAAAAAAAAAAAAAAAAAAAAAAAAAAAAAAAAAAAAAAAAAAAAAAAAAAAAAAAAAAAAAAAAAAAAAAAAAAAAAAAAAAAAAAAAAAAAAAAAAAAAAAAAAAAAAAAAAAAAAAAAAAAAAAAAAAAAAAAAAAAAAAAAAAAAAAAAAAAAAAAAAAAAAAAAAAAAAAAAAAAAAAAAAAAAAAAAAAAAAAAAAAAAAAAAAAAAAAAAAAAAAAAAAAAAAAAAAAAAAAAAAAAAAAAAAAAAAAAAAAAAAAAAAAAAAAAAAAAAAAAAAAAAAAAAAAAAAAAAAAAAAAAAAAAAAAAAAAAAAAAAAAAAAAAAAAAAAAAAAAAAAAAAAAAAAAAAAAAAAAAAAAAAAAAAAAAAAAAAAAAAAAAAAAAAAAAAAAAAAAAAAAAAAAAAAAAAAAAAAAAAAAAAAAAAAAAAAAAAAAAAAAAAAAAAAAAAAAAAAAAAAAAAAAAAAAAAAAAAAAAAAAAAAAAAAAAAAAAAAAAAAAAAAAAAAAAAAAAAAAAAAAAAAAAAAAAAAAAAAAAAAAAAAAAAAAAAAAAAAAAAAAAAAAAAAAAAAAAAAAAAAAAAAAAAAAAAAAAAAAAAAAAAAAAAAAAAAAAAAAAAAAAAAAAAAAAAAAAAAAAAAAAAAAAAAAAAAAAAAAAAAAAAAAAAAAAAAAAAAAAAAAAAAAAAAAAAAAAAAAAAAAAAAAAAAAAAAAAAAAAAAAAAAAAAAAAAAAAAAAAAAAAAAAAAAAAAAAAAAAAAAAAAAAAAAAAAAAAAAAAAAAAAAAAAAAAAAAAAAAAAAAAAAAAAAAAAAAAAAAAAAAAAAAAAAAAAAAAAAAAAAAAAAAAAAAAAAAAAAAAAAAAAAAAAAAAAAAAAAAAAAAAAAAAAAAAAAAAAAAAAAAAAAAAAAAAAAAAAAAAAAAAAAAAAAAAAAAAAAAAAAAAAAAAAAAAAAAAAAAAAAAAAAAAAAAAAAAAAAAAAAAAAAAAAAAAAAAAAAAAAAAAAAAAAAAAAAAAAAAAAAAAAAAAAAAAAAAAAAAAAAAAAAAAAAAAAAAAAAAAAAAAAAAAAAAAAAAAAAAAAAAAAAAAAAAAAAAAAAAAAAAAAAAAAAAAAAAAAAAAAAAAAAAAAAAAAAAAAAAAAAAAAAAAAAAAAAAAAAAAAAAAAAAAAAAAAAAAAAAAAAAAAAAAAAAAAAAAAAAAAAAAAAAAAAAAAAAAAAAAAAAAAAAAAAAAAAAAAAAAAAAAAAAAAAAAAAAAAAAAAAAAAAAAAAAAAAAAAAAAAAAAAAAAAAAAAAAAAAAAAAAAAAAAAAAAAAAAAAAAAAAAAAAAAAAAAAAAAAAAAAAAAAAAAAAAAAAAAAAAAAAAAAAAAAAAAAAAAAAAAAAAAAAAAAAAAAAAAAAAAAAAAAAAAAAAAAAAAAAAAAAAAAAAAAAAAAAAAAAAAAAAAAAAAAAAAAAAAAAAAAAAAAAAAAAAAAAAAAAAAAAAAAAAAAAAAAAAAAAAAAAAAAAAAAAAAAAAAAAAAAAAAAAAAAAAAAAAAAAAAAAAAAAAAAAAAAAAAAAAAAAAAAAAAAAAAAAAAAAAAAAAAAAAAAAAAAAAAAAAAAAAAAAAAAAAAAAAAAAAAAAAAAAAAAAAAAAAAAAAAAAAAAAAAAAAAAAAAAAAAAAAAAAAAAAAAAAAAAAAAAAAAAAAAAAAAAAAAAAAAAAAAAAAAAAAAAAAAAAAAAAAAAAAAAAAAAAAAAAAAAAAAAAAAAAAAAAAAAAAAAAAAAAAAAAAAAAAAAAAAAAAAAAAAAAAAAAAAAAAAAAAAAAAAAAAAAAAAAAAAAAAAAAAAAAAAAAAAAAAAAAAAAAAAAAAAAAAAAAAAAAAAAAAAAAAAAAAAAAAAAAAAAAAAAAAAAAAAAAAAAAAAAAAAAAAAAAAAAAAAAAAAAAAAAAAAAAAAAAAAAAAAAAAAAAAAAAAAAAAAAAAAAAAAAAAAAAAAAAAAAAAAAAAAAAAAAAAAAAAAAAAAAAAAAAAAAAAAAAAAAAAAAAAAAAAAAAAAAAAAAAAAAAAAAAAAAAAAAAAAAAAAAAAAAAAAAAAAAAAAAAAAAAAAAAAAAAAAAAAAAAAAAAAAAAAAAAAAAAAAAAAAAAAAAAAAAAAAAAAAAAAAAAAAAAAAAAAAAAAAAAAAAAAAAAAAAAAAAAAAAAAAAAAAAAAAAAAAAAAAAAAAAAAAAAAAAAAAAAAAAAAAAAAAAAAAAAAAAAAAAAAAAAAAAAAAAAAAAAAAAAAAAAAAAAAAAAAAAAAAAAAAAAAAAAAAAAAAAAAAAAAAAAAAAAAAAAAAAAAAAAAAAAAAAAAAAAAAAAAAAAAAAAAAAAAAAAAAAAAAAAAAAAAAAAAAAAAAAAAAAAAAAAAAAAAAAAAAAAAAAAAAAAAAAAAAAAAAAAAAAAAAAAAAAAAAAAAAAAAAAAAAAAAAAAAAAAAAAAAAAAAAAAAAAAAAAAAAAAAAAAAAAAAAAAAAAAAAAAAAAAAAAAAAAAAAAAAAAAAAAAAAAAAAAAAAAAAAAAAAAAAAAAAAAAAAAAAAAAAAAAAAAAAAAAAAAAAAAAAAAAAAAAAAAAAAAAAAAAAAAAAAAAAAAAAAAAAAAAAAAAAAAAAAAAAAAAAAAAAAAAAAAAAAAAAAAAAAAAAAAAAAAAAAAAAAAAAAAAAAAAAAAAAAAAAAAAAAAAAAAAAAAAAAAAAAAAAAAAAAAAAAAAAAAAAAAAAAAAAAAAAAAAAAAAAAAAAAAAAAAAAAAAAAAAAAAAAAAAAAAAAAAAAAAAAAAAAAAAAAAAAAAAAAAAAAAAAAAAAAAAAAAAAAAAAAAAAAAAAAAAAAAAAAAAAAAAAAAAAAAAAAAAAAAAAAAAAAAAAAAAAAAAAAAAAAAAAAAAAAAAAAAAAAAAAAAAAAAAAAAAAAAAAAAAAAAAAAAAAAAAAAAAAAAAAAAAAAAAAAAAAAAAAAAAAAAAAAAAAAAAAAAAAAAAAAAAAAAAAAAAAAAAAAAAAAAAAAAAAAAAAAAAAAAAAAAAAAAAAAAAAAAAAAAAAAAAAAAAAAAAAAAAAAAAAAAAAAAAAAAAAAAAAAAAAAAAAAAAAAAAAAAAAAAAAAAAAAAAAAAAAAAAAAAAAAAAAAAAAAAAAAAAAAAAAAAAAAAAAAAAAAAAAAAAAAAAAAAAAAAAAAAAAAAAAAAAAAAAAAAAAAAAAAAAAAAAAAAAAAAAAAAAAAAAAAAAAAAAAAAAAAAAAAAAAAAAAAAAAAAAAAAAAAAAAAAAAAAAAAAAAAAAAAAAAAAAAAAAAAAAAAAAAAAAAAAAAAAAAAAAAAAAAAAAAAAAAAAAAAAAAAAAAAAAAAAAAAAAAAAAAAAAAAAAAAAAAAAAAAAAAAAAAAAAAAAAAAAAAAAAAAAAAAAAAAAAAAAAAAAAAAAAAAAAAAAAAAAAAAAAAAAAAAAAAAAAAAAAAAAAAAAAAAAAAAAAAAAAAAAAAAAAAAAAAAAAAAAAAAAAAAAAAAAAAAAAAAAAAAAAAAAAAAAAAAAAAAAAAAAAAAAAAAAAAAAAAAAAAAAAAAAAAAAAAAAAAAAAAAAAAAAAAAAAAAAAAAAAAAAAAAAAAAAAAAAAAAAAAAAAAAAAAAAAAAAAAAAAAAAAAAAAAAAAAAAAAAAAAAAAAAAAAAAAAAAAAAAAAAAAAAAAAAAAAAAAAAAAAAAAAAAAAAAAAAAAAAAAAAAAAAAAAAAAAAAAAAAAAAAAAAAAAAAAAAAAAAAAAAAAAAAAAAAAAAAAAAAAAAAAAAAAAAAAAAAAAAAAAAAAAAAAAAAAAAAAAAAAAAAAAAAAAAAAAAAAAAAAAAAAAAAAAAAAAAAAAAAAAAAAAAAAAAAAAAAAAAAAAAAAAAAAAAAAAAAAAAAAAAAAAAAAAAAAAAAAAAAAAAAAAAAAAAAAAAAAAAAAAAAAAAAAAAAAAAAAAAAAAAAAAAAAAAAAAAAAAAAAAAAAAAAAAAAAAAAAAAAAAAAAAAAAAAAAAAAAAAAAAAAAAAAAAAAAAAAAAAAAAAAAAAAAAAAAAAAAAAAAAAAAAAAAAAAAAAAAAAAAAAAAAAAAAAAAAAAAAAAAAAAAAAAAAAAAAAAAAAAAAAAAAAAAAAAAAAAAAAAAAAAAAAAAAAAAAAAAAAAAAAAAAAAAAAAAAAAAAAAAAAAAAAAAAAAAAAAAAAAAAAAAAAAAAAAAAAAAAAAAAAAAAAAAAAAAAAAAAAAAAAAAAAAAAAAAAAAAAAAAAAAAAAAAAAAAAAAAAAAAAAAAAAAAAAAAAAAAAAAAAAAAAAAAAAAAAAAAAAAAAAAAAAAAAAAAAAAAAAAAAAAAAAAAAAAAAAAAAAAAAAAAAAAAAAAAAAAAAAAAAAAAAAAAAAAAAAAAAAAAAAAAAAAAAAAAAAAAAAAAAAAAAAAAAAAAAAAAAAAAAAAAAAAAAAAAAAAAAAAAAAAAAAAAAAAAAAAAAAAAAAAAAAAAAAAAAAAAAAAAAAAAAAAAAAAAAAAAAAAAAAAAAAAAAAAAAAAAAAAAAAAAAAAAAAAAAAAAAAAAAAAAAAAAAAAAAAAAAAAAAAAAAAAAAAAAAAAAAAAAAAAAAAAAAAAAAAAAAAAAAAAAAAAAAAAAAAAAAAAAAAAAAAAAAAAAAAAAAAAAAAAAAAAAAAAAAAAAAAAAAAAAAAAAAAAAAAAAAAAAAAAAAAAAAAAAAAAAAAAAAAAAAAAAAAAAAAAAAAAAAAAAAAAAAAAAAAAAAAAAAAAAAAAAAAAAAAAAAAAAAAAAAAAAAAAAAAAAAAAAAAAAAAAAAAAAAAAAAAAAAAAAAAAAAAAAAAAAAAAAAAAAAAAAAAAAAAAAAAAAAAAAAAAAAAAAAAAAAAAAAAAAAAAAAAAAAAAAAAAAAAAAAAAAAAAAAAAAAAAAAAAAAAAAAAAAAAAAAAAAAAAAAAAAAAAAAAAAAAAAAAAAAAAAAAAAAAAAAAAAAAAAAAAAAAAAAAAAAAAAAAAAAAAAAAAAAAAAAAAAAAAAAAAAAAAAAAAAAAAAAAAAAAAAAAAAAAAAAAAAAAAAAAAAAAAAAAAAAAAAAAAAAAAAAAAAAAAAAAAAAAAAAAAAAAAAAAAAAAAAAAAAAAAAAAAAAAAAAAAAAAAAAAAAAAAAAAAAAAAAAAAAAAAAAAAAAAAAAAAAAAAAAAAAAAAAAAAAAAAAAAAAAAAAAAAAAAAAAAAAAAAAAAAAAAAAAAAAAAAAAAAAAAAAAAAAAAAAAAAAAAAAAAAAAAAAAAAAAAAAAAAAAAAAAAAAAAAAAAAAAAAAAAAAAAAAAAAAAAAAAAAAAAAAAAAAAAAAAAAAAAAAAAAAAAAAAAAAAAAAAAAAAAAAAAAAAAAAAAAAAAAAAAAAAAAAAAAAAAAAAAAAAAAAAAAAAAAAAAAAAAAAAAAAAAAAAAAAAAAAAAAAAAAAAAAAAAAAAAAAAAAAAAAAAAAAAAAAAAAAAAAAAAAAAAAAAAAAAAAAAAAAAAAAAAAAAAAAAAAAAAAAAAAAAAAAAAAAAAAAAAAAAAAAAAAAAAAAAAAAAAAAAAAAAAAAAAAAAAAAAAAAAAAAAAAAAAAAAAAAAAAAAAAAAAAAAAAAAAAAAAAAAAAAAAAAAAAAAAAAAAAAAAAAAAAAAAAAAAAAAAAAAAAAAAAAAAAAAAAAAAAAAAAAAAAAAAAAAAAAAAAAAAAAAAAAAAAAAAAAAAAAAAAAAAAAAAAAAAAAAAAAAAAAAAAAAAAAAAAAAAAAAAAAAAAAAAAAAAAAAAAAAAAAAAAAAAAAAAAAAAAAAAAAAAAAAAAAAAAAAAAAAAAAAAAAAAAAAAAAAAAAAAAAAAAAAAAAAAAAAAAAAAAAAAAAAAAAAAAAAAAAAAAAAAAAAAAAAAAAAAAAAAAAAAAAAAAAAAAAAAAAAAAAAAAAAAAAAAAAAAAAAAAAAAAAAAAAAAAAAAAAAAAAAAAAAAAAAAAAAAAAAAAAAAAAAAAAAAAAAAAAAAAAAAAAAAAAAAAAAAAAAAAAAAAAAAAAAAAAAAAAAAAAAAAAAAAAAAAAAAAAAAAAAAAAAAAAAAAAAAAAAAAAAAAAAAAAAAAAAAAAAAAAAAAAAAAAAAAAAAAAAAAAAAAAAAAAAAAAAAAAAAAAAAAAAAAAAAAAAAAAAAAAAAAAAAAAAAAAAAAAAAAAAAAAAAAAAAAAAAAAAAAAAAAAAAAAAAAAAAAAAAAAAAAAAAAAAAAAAAAAAAAAAAAAAAAAAAAAAAAAAAAAAAAAAAAAAAAAAAAAAAAAAAAAAAAAAAAAAAAAAAAAAAAAAAAAAAAAAAAAAAAAAAAAAAAAAAAAAAAAAAAAAAAAAAAAAAAAAAAAAAAAAAAAAAAAAAAAAAAAAAAAAAAAAAAAAAAAAAAAAAAAAAAAAAAAAAAAAAAAAAAAAAAAAAAAAAAAAAAAAAAAAAAAAAAAAAAAAAAAAAAAAAAAAAAAAAAAAAAAAAAAAAAAAAAAAAAAAAAAAAAAAAAAAAAAAAAAAAAAAAAAAAAAAAAAAAAAAAAAAAAAAAAAAAAAAAAAAAAAAAAAAAAAAAAAAAAAAAAAAAAAAAAAAAAAAAAAAAAAAAAAAAAAAAAAAAAAAAAAAAAAAAAAAAAAAAAAAAAAAAAAAAAAAAAAAAAAAAAAAAAAAAAAAAAAAAAAAAAAAAAAAAAAAAAAAAAAAAAAAAAAAAAAAAAAAAAAAAAAAAAAAAAAAAAAAAAAAAAAAAAAAAAAAAAAAAAAAAAAAAAAAAAAAAAAAAAAAAAAAAAAAAAAAAAAAAAAAAAAAAAAAAAAAAAAAAAAAAAAAAAAAAAAAAAAAAAAAAAAAAAAAAAAAAAAAAAAAAAAAAAAAAAAAAAAAAAAAAAAAAAAAAAAAAAAAAAAAAAAAAAAAAAAAAAAAAAAAAAAAAAAAAAAAAAAAAAAAAAAAAAAAAAAAAAAAAAAAAAAAAAAAAAAAAAAAAAAAAAAAAAAAAAAAAAAAAAAAAAAAAAAAAAAAAAAAAAAAAAAAAAAAAAAAAAAAAAAAAAAAAAAAAAAAAAAAAAAAAAAAAAAAAAAAAAAAAAAAAAAAAAAAAAAAAAAAAAAAAAAAAAAAAAAAAAAAAAAAAAAAAAAAAAAAAAAAAAAAAAAAAAAAAAAAAAAAAAAAAAAAAAAAAAAAAAAAAAAAAAAAAAAAAAAAAAAAAAAAAAAAAAAAAAAAAAAAAAAAAAAAAAAAAAAAAAAAAAAAAAAAAAAAAAAAAAAAAAAAAAAAAAAAAAAAAAAAAAAAAAAAAAAAAAAAAAAAAAAAAAAAAAAAAAAAAAAAAAAAAAAAAAAAAAAAAAAAAAAAAAAAAAAAAAAAAAAAAAAAAAAAAAAAAAAAAAAAAAAAAAAAAAAAAAAAAAAAAAAAAAAAAAAAAAAAAAAAAAAAAAAAAAAAAAAAAAAAAAAAAAAAAAAAAAAAAAAAAAAAAAAAAAAAAAAAAAAAAAAAAAAAAAAAAAAAAAAAAAAAAAAAAAAAAAAAAAAAAAAAAAAAAAAAAAAAAAAAAAAAAAAAAAAAAAAAAAAAAAAAAAAAAAAAAAAAAAAAAAAAAAAAAAAAAAAAAAAAAAAAAAAAAAAAAAAAAAAAAAAAAAAAAAAAAAAAAAAAAAAAAAAAAAAAAAAAAAAAAAAAAAAAAAAAAAAAAAAAAAAAAAAAAAAAAAAAAAAAAAAAAAAAAAAAAAAAAAAAAAAAAAAAAAAAAAAAAAAAAAAAAAAAAAAAAAAAAAAAAAAAAAAAAAAAAAAAAAAAAAAAAAAAAAAAAAAAAAAAAAAAAAAAAAAAAAAAAAAAAAAAAAAAAAAAAAAAAAAAAAAAAAAAAAAAAAAAAAAAAAAAAAAAAAAAAAAAAAAAAAAAAAAAAAAAAAAAAAAAAAAAAAAAAAAAAAAAAAAAAAAAAAAAAAAAAAAAAAAAAAAAAAAAAAAAAAAAAAAAAAAAAAAAAAAAAAAAAAAAAAAAAAAAAAAAAAAAAAAAAAAAAAAAAAAAAAAAAAAAAAAAAAAAAAAAAAAAAAAAAAAAAAAAAAAAAAAAAAAAAAAAAAAAAAAAAAAAAAAAAAAAAAAAAAAAAAAAAAAAAAAAAAAAAAAAAAAAAAAAAAAAAAAAAAAAAAAAAAAAAAAAAAAAAAAAAAAAAAAAAAAAAAAAAAAAAAAAAAAAAAAAAAAAAAAAAAAAAAAAAAAAAAAAAAAAAAAAAAAAAAAAAAAAAAAAAAAAAAAAAAAAAAAAAAAAAAAAAAAAAAAAAAAAAAAAAAAAAAAAAAAAAAAAAAAAAAAAAAAAAAAAAAAAAAAAAAAAAAAAAAAAAAAAAAAAAAAAAAAAAAAAAAAAAAAAAAAAAAAAAAAAAAAAAAAAAAAAAAAAAAAAAAAAAAAAAAAAAAAAAAAAAAAAAAAAAAAAAAAAAAAAAAAAAAAAAAAAAAAAAAAAAAAAAAAAAAAAAAAAAAAAAAAAAAAAAAAAAAAAAAAAAAAAAAAAAAAAAAAAAAAAAAAAAAAAAAAAAAAAAAAAAAAAAAAAAAAAAAAAAAAAAAAAAAAAAAAAAAAAAAAAAAAAAAAAAAAAAAAAAAAAAAAAAAAAAAAAAAAAAAAAAAAAAAAAAAAAAAAAAAAAAAAAAAAAAAAAAAAAAAAAAAAAAAAAAAAAAAAAAAAAAAAAAAAAAAAAAAAAAAAAAAAAAAAAAAAAAAAAAAAAAAAAAAAAAAAAAAAAAAAAAAAAAAAAAAAAAAAAAAAAAAAAAAAAAAAAAAAAAAAAAAAAAAAAAAAAAAAAAAAAAAAAAAAAAAAAAAAAAAAAAAAAAAAAAAAAAAAAAAAAAAAAAAAAAAAAAAAAAAAAAAAAAAAAAAAAAAAAAAAAAAAAAAAAAAAAAAAAAAAAAAAAAAAAAAAAAAAAAAAAAAAAAAAAAAAAAAAAAAAAAAAAAAAAAAAAAAAAAAAAAAAAAAAAAAAAAAAAAAAAAAAAAAAAAAAAAAAAAAAAAAAAAAAAAAAAAAAAAAAAAAAAAAAAAAAAAAAAAAAAAAAAAAAAAAAAAAAAAAAAAAAAAAAAAAAAAAAAAAAAAAAAAAAAAAAAAAAAAAAAAAAAAAAAAAAAAAAAAAAAAAAAAAAAAAAAAAAAAAAAAAAAAAAAAAAAAAAAAAAAAAAAAAAAAAAAAAAAAAAAAAAAAAAAAAAAAAAAAAAAAAAAAAAAAAAAAAAAAAAAAAAAAAAAAAAAAAAAAAAAAAAAAAAAAAAAAAAAAAAAAAAAAAAAAAAAAAAAAAAAAAAAAAAAAAAAAAAAAAAAAAAAAAAAAAAAAAAAAAAAAAAAAAAAAAAAAAAAAAAAAAAAAAAAAAAAAAAAAAAAAAAAAAAAAAAAAAAAAAAAAAAAAAAAAAAAAAAAAAAAAAAAAAAAAAAAAAAAAAAAAAAAAAAAAAAAAAAAAAAAAAAAAAAAAAAAAAAAAAAAAAAAAAAAAAAAAAAAAAAAAAAAAAAAAAAAAAAAAAAAAAAAAAAAAAAAAAAAAAAAAAAAAAAAAAAAAAAAAAAAAAAAAAAAAAAAAAAAAAAAAAAAAAAAAAAAAAAAAAAAAAAAAAAAAAAAAAAAAAAAAAAAAAAAAAAAAAAAAAAAAAAAAAAAAAAAAAAAAAAAAAAAAAAAAAAAAAAAAAAAAAAAAAAAAAAAAAAAAAAAAAAAAAAAAAAAAAAAAAAAAAAAAAAAAAAAAAAAAAAAAAAAAAAAAAAAAAAAAAAAAAAAAAAAAAAAAAAAAAAAAAAAAAAAAAAAAAAAAAAAAAAAAAAAAAAAAAAAAAAAAAAAAAAAAAAAAAAAAAAAAAAAAAAAAAAAAAAAAAAAAAAAAAAAAAAAAAAAAAAAAAAAAAAAAAAAAAAAAAAAAAAAAAAAAAAAAAAAAAAAAAAAAAAAAAAAAAAAAAAAAAAAAAAAAAAAAAAAAAAAAAAAAAAAAAAAAAAAAAAAAAAAAAAAAAAAAAAAAAAAAAAAAAAAAAAAAAAAAAAAAAAAAAAAAAAAAAAAAAAAAAAAAAAAAAAAAAAAAAAAAAAAAAAAAAAAAAAAAAAAAAAAAAAAAAAAAAAAAAAAAAAAAAAAAAAAAAAAAAAAAAAAAAAAAAAAAAAAAAAAAAAAAAAAAAAAAAAAAAAAAAAAAAAAAAAAAAAAAAAAAAAAAAAAAAAAAAAAAAAAAAAAAAAAAAAAAAAAAAAAAAAAAAAAAAAAAAAAAAAAAAAAAAAAAAAAAAAAAAAAAAAAAAAAAAAAAAAAAAAAAAAAAAAAAAAAAAAAAAAAAAAAAAAAAAAAAAAAAAAAAAAAAAAAAAAAAAAAAAAAAAAAAAAAAAAAAAAAAAAAAAAAAAAAAAAAAAAAAAAAAAAAAAAAAAAAAAAAAAAAAAAAAAAAAAAAAAAAAAAAAAAAAAAAAAAAAAAAAAAAAAAAAAAAAAAAAAAAAAAAAAAAAAAAAAAAAAAAAAAAAAAAAAAAAAAAAAAAAAAAAAAAAAAAAAAAAAAAAAAAAAAAAAAAAAAAAAAAAAAAAAAAAAAAAAAAAAAAAAAAAAAAAAAAAAAAAAAAAAAAAAAAAAAAAAAAAAAAAAAAAAAAAAAAAAAAAAAAAAAAAAAAAAAAAAAAAAAAAAAAAAAAAAAAAAAAAAAAAAAAAAAAAAAAAAAAAAAAAAAAAAAAAAAAAAAAAAAAAAAAAAAAAAAAAAAAAAAAAAAAAAAAAAAAAAAAAAAAAAAAAAAAAAAAAAAAAAAAAAAAAAAAAAAAAAAAAAAAAAAAAAAAAAAAAAAAAAAAAAAAAAAAAAAAAAAAAAAAAAAAAAAAAAAAAAAAAAAAAAAAAAAAAAAAAAAAAAAAAAAAAAAAAAAAAAAAAAAAAAAAAAAAAAAAAAAAAAAAAAAAAAAAAAAAAAAAAAAAAAAAAAAAAAAAAAAAAAAAAAAAAAAAAAAAAAAAAAAAAAAAAAAAAAAAAAAAAAAAAAAAAAAAAAAAAAAAAAAAAAAAAAAAAAAAAAAAAAAAAAAAAAAAAAAAAAAAAAAAAAAAAAAAAAAAAAAAAAAAAAAAAAAAAAAAAAAAAAAAAAAAAAAAAAAAAAAAAAAAAAAAAAAAAAAAAAAAAAAAAAAAAAAAAAAAAAAAAAAAAAAAAAAAAAAAAAAAAAAAAAAAAAAAAAAAAAAAAAAAAAAAAAAAAAAAAAAAAAAAAAAAAAAAAAAAAAAAAAAAAAAAAAAAAAAAAAAAAAAAAAAAAAAAAAAAAAAAAAAAAAAAAAAAAAAAAAAAAAAAAAAAAAAAAAAAAAAAAAAAAAAAAAAAAAAAAAAAAAAAAAAAAAAAAAAAAAAAAAAAAAAAAAAAAAAAAAAAAAAAAAAAAAAAAAAAAAAAAAAAAAAAAAAAAAAAAAAAAAAAAAAAAAAAAAAAAAAAAAAAAAAAAAAAAAAAAAAAAAAAAAAAAAAAAAAAAAAAAAAAAAAAAAAAAAAAAAAAAAAAAAAAAAAAAAAAAAAAAAAAAAAAAAAAAAAAAAAAAAAAAAAAAAAAAAAAAAAAAAAAAAAAAAAAAAAAAAAAAAAAAAAAAAAAAAAAAAAAAAAAAAAAAAAAAAAAAAAAAAAAAAAAAAAAAAAAAAAAAAAAAAAAAAAAAAAAAAAAAAAAAAAAAAAAAAAAAAAAAAAAAAAAAAAAAAAAAAAAAAAAAAAAAAAAAAAAAAAAAAAAAAAAAAAAAAAAAAAAAAAAAAAAAAAAAAAAAAAAAAAAAAAAAAAAAAAAAAAAAAAAAAAAAAAAAAAAAAAAAAAAAAAAAAAAAAAAAAAAAAAAAAAAAAAAAAAAAAAAAAAAAAAAAAAAAAAAAAAAAAAAAAAAAAAAAAAAAAAAAAAAAAAAAAAAAAAAAAAAAAAAAAAAAAAAAAAAAAAAAAAAAAAAAAAAAAAAAAAAAAAAAAAAAAAAAAAAAAAAAAAAAAAAAAAAAAAAAAAAAAAAAAAAAAAAAAAAAAAAAAAAAAAAAAAAAAAAAAAAAAAAAAAAAAAAAAAAAAAAAAAAAAAAAAAAAAAAAAAAAAAAAAAAAAAAAAAAAAAAAAAAAAAAAAAAAAAAAAAAAAAAAAAAAAAAAAAAAAAAAAAAAAAAAAAAAAAAAAAAAAAAAAAAAAAAAAAAAAAAAAAAAAAAAAAAAAAAAAAAAAAAAAAAAAAAAAAAAAAAAAAAAAAAAAAAAAAAAAAAAAAAAAAAAAAAAAAAAAAAAAAAAAAAAAAAAAAAAAAAAAAAAAAAAAAAAAAAAAAAAAAAAAAAAAAAAAAAAAAAAAAAAAAAAAAAAAAAAAAAAAAAAAAAAAAAAAAAAAAAAAAAAAAAAAAAAAAAAAAAAAAAAAAAAAAAAAAAAAAAAAAAAAAAAAAAAAAAAAAAAAAAAAAAAAAAAAAAAAAAAAAAAAAAAAAAAAAAAAAAAAAAAAAAAAAAAAAAAAAAAAAAAAAAAAAAAAAAAAAAAAAAAAAAAAAAAAAAAAAAAAAAAAAAAAAAAAAAAAAAAAAAAAAAAAAAAAAAAAAAAAAAAAAAAAAAAAAAAAAAAAAAAAAAAAAAAAAAAAAAAAAAAAAAAAAAAAAAAAAAAAAAAAAAAAAAAAAAAAAAAAAAAAAAAAAAAAAAAAAAAAAAAAAAAAAAAAAAAAAAAAAAAAAAAAAAAAAAAAAAAAAAAAAAAAAAAAAAAAAAAAAAAAAAAAAAAAAAAAAAAAAAAAAAAAAAAAAAAAAAAAAAAAAAAAAAAAAAAAAAAAAAAAAAAAAAAAAAAAAAAAAAAAAAAAAAAAAAAAAAAAAAAAAAAAAAAAAAAAAAAAAAAAAAAAAAAAAAAAAAAAAAAAAAAAAAAAAAAAAAAAAAAAAAAAAAAAAAAAAAAAAAAAAAAAAAAAAAAAAAAAAAAAAAAAAAAAAAAAAAAAAAAAAAAAAAAAAAAAAAAAAAAAAAAAAAAAAAAAAAAAAAAAAAAAAAAAAAAAAAAAAAAAAAAAAAAAAAAAAAAAAAAAAAAAAAAAAAAAAAAAAAAAAAAAAAAAAAAAAAAAAAAAAAAAAAAAAAAAAAAAAAAAAAAAAAAAAAAAAAAAAAAAAAAAAAAAAAAAAAAAAAAAAAAAAAAAAAAAAAAAAAAAAAAAAAAAAAAAAAAAAAAAAAAAAAAAAAAAAAAAAAAAAAAAAAAAAAAAAAAAAAAAAAAAAAAAAAAAAAAAAAAAAAAAAAAAAAAAAAAAAAAAAAAAAAAAAAAAAAAAAAAAAAAAAAAAAAAAAAAAAAAAAAAAAAAAAAAAAAAAAAAAAAAAAAAAAAAAAAAAAAAAAAAAAAAAAAAAAAAAAAAAAAAAAAAAAAAAAAAAAAAAAAAAAAAAAAAAAAAAAAAAAAAAAAAAAAAAAAAAAAAAAAAAAAAAAAAAAAAAAAAAAAAAAAAAAAAAAAAAAAAAAAAAAAAAAAAAAAAAAAAAAAAAAAAAAAAAAAAAAAAAAAAAAAAAAAAAAAAAAAAAAAAAAAAAAAAAAAAAAAAAAAAAAAAAAAAAAAAAAAAAAAAAAAAAAAAAAAAAAAAAAAAAAAAAAAAAAAAAAAAAAAAAAAAAAAAAAAAAAAAAAAAAAAAAAAAAAAAAAAAAAAAAAAAAAAAAAAAAAAAAAAAAAAAAAAAAAAAAAAAAAAAAAAAAAAAAAAAAAAAAAAAAAAAAAAAAAAAAAAAAAAAAAAAAAAAAAAAAAAAAAAAAAAAAAAAAAAAAAAAAAAAAAAAAAAAAAAAAAAAAAAAAAAAAAAAAAAAAAAAAAAAAAAAAAAAAAAAAAAAAAAAAAAAAAAAAAAAAAAAAAAAAAAAAAAAAAAAAAAAAAAAAAAAAAAAAAAAAAAAAAAAAAAAAAAAAAAAAAAAAAAAAAAAAAAAAAAAAAAAAAAAAAAAAAAAAAAAAAAAAAAAAAAAAAAAAAAAAAAAAAAAAAAAAAAAAAAAAAAAAAAAAAAAAAAAAAAAAAAAAAAAAAAAAAAAAAAAAAAAAAAAAAAAAAAAAAAAAAAAAAAAAAAAAAAAAAAAAAAAAAAAAAAAAAAAAAAAAAAAAAAAAAAAAAAAAAAAAAAAAAAAAAAAAAAAAAAAAAAAAAAAAAAAAAAAAAAAAAAAAAAAAAAAAAAAAAAAAAAAAAAAAAAAAAAAAAAAAAAAAAAAAAAAAAAAAAAAAAAAAAAAAAAAAAAAAAAAAAAAAAAAAAAAAAAAAAAAAAAAAAAAAAAAAAAAAAAAAAAAAAAAAAAAAAAAAAAAAAAAAAAAAAAAAAAAAAAAAAAAAAAAAAAAAAAAAAAAAAAAAAAAAAAAAAAAAAAAAAAAAAAAAAAAAAAAAAAAAAAAAAAAAAAAAAAAAAAAAAAAAAAAAAAAAAAAAAAAAAAAAAAAAAAAAAAAAAAAAAAAAAAAAAAAAAAAAAAAAAAAAAAAAAAAAAAAAAAAAAAAAAAAAAAAAAAAAAAAAAAAAAAAAAAAAAAAAAAAAAAAAAAAAAAAAAAAAAAAAAAAAAAAAAAAAAAAAAAAAAAAAAAAAAAAAAAAAAAAAAAAAAAAAAAAAAAAAAAAAAAAAAAAAAAAAAAAAAAAAAAAAAAAAAAAAAAAAAAAAAAAAAAAAAAAAAAAAAAAAAAAAAAAAAAAAAAAAAAAAAAAAAAAAAAAAAAAAAAAAAAAAAAAAAAAAAAAAAAAAAAAAAAAAAAAAAAAAAAAAAAAAAAAAAAAAAAAAAAAAAAAAAAAAAAAAAAAAAAAAAAAAAAAAAAAAAAAAAAAAAAAAAAAAAAAAAAAAAAAAAAAAAAAAAAAAAAAAAAAAAAAAAAAAAAAAAAAAAAAAAAAAAAAAAAAAAAAAAAAAAAAAAAAAAAAAAAAAAAAAAAAAAAAAAAAAAAAAAAAAAAAAAAAAAAAAAAAAAAAAAAAAAAAAAAAAAAAAAAAAAAAAAAAAAAAAAAAAAAAAAAAAAAAAAAAAAAAAAAAAAAAAAAAAAAAAAAAAAAAAAAAAAAAAAAAAAAAAAAAAAAAAAAAAAAAAAAAAAAAAAAAAAAAAAAAAAAAAAAAAAAAAAAAAAAAAAAAAAAAAAAAAAAAAAAAAAAAAAAAAAAAAAAAAAAAAAAAAAAAAAAAAAAAAAAAAAAAAAAAAAAAAAAAAAAAAAAAAAAAAAAAAAAAAAAAAAAAAAAAAAAAAAAAAAAAAAAAAAAAAAAAAAAAAAAAAAAAAAAAAAAAAAAAAAAAAAAAAAAAAAAAAAAAAAAAAAAAAAAAAAAAAAAAAAAAAAAAAAAAAAAAAAAAAAAAAAAAAAAAAAAAAAAAAAAAAAAAAAAAAAAAAAAAAAAAAAAAAAAAAAAAAAAAAAAAAAAAAAAAAAAAAAAAAAAAAAAAAAAAAAAAAAAAAAAAAAAAAAAAAAAAAAAAAAAAAAAAAAAAAAAAAAAAAAAAAAAAAAAAAAAAAAAAAAAAAAAAAAAAAAAAAAAAAAAAAAAAAAAAAAAAAAAAAAAAAAAAAAAAAAAAAAAAAAAAAAAAAAAAAAAAAAAAAAAAAAAAAAAAAAAAAAAAAAAAAAAAAAAAAAAAAAAAAAAAAAAAAAAAAAAAAAAAAAAAAAAAAAAAAAAAAAAAAAAAAAAAAAAAAAAAAAAAAAAAAAAAAAAAAAAAAAAAAAAAAAAAAAAAAAAAAAAAAAAAAAAAAAAAAAAAAAAAAAAAAAAAAAAAAAAAAAAAAAAAAAAAAAAAAAAAAAAAAAAAAAAAAAAAAAAAAAAAAAAAAAAAAAAAAAAAAAAAAAAAAAAAAAAAAAAAAAAAAAAAAAAAAAAAAAAAAAAAAAAAAAAAAAAAAAAAAAAAAAAAAAAAAAAAAAAAAAAAAAAAAAAAAAAAAAAAAAAAAAAAAAAAAAAAAAAAAAAAAAAAAAAAAAAAAAAAAAAAAAAAAAAAAAAAAAAAAAAAAAAAAAAAAAAAAAAAAAAAAAAAAAAAAAAAAAAAAAAAAAAAAAAAAAAAAAAAAAAAAAAAAAAAAAAAAAAAAAAAAAAAAAAAAAAAAAAAAAAAAAAAAAAAAAAAAAAAAAAAAAAAAAAAAAAAAAAAAAAAAAAAAAAAAAAAAAAAAAAAAAAAAAAAAAAAAAAAAAAAAAAAAAAAAAAAAAAAAAAAAAAAAAAAAAAAAAAAAAAAAAAAAAAAAAAAAAAAAAAAAAAAAAAAAAAAAAAAAAAAAAAAAAAAAAAAAAAAAAAAAAAAAAAAAAAAAAAAAAAAAAAAAAAAAAAAAAAAAAAAAAAAAAAAAAAAAAAAAAAAAAAAAAAAAAAAAAAAAAAAAAAAAAAAAAAAAAAAAAAAAAAAAAAAAAAAAAAAAAAAAAAAAAAAAAAAAAAAAAAAAAAAAAAAAAAAAAAAAAAAAAAAAAAAAAAAAAAAAAAAAAAAAAAAAAAAAAAAAAAAAAAAAAAAAAAAAAAAAAAAAAAAAAAAAAAAAAAAAAAAAAAAAAAAAAAAAAAAAAAAAAAAAAAAAAAAAAAAAAAAAAAAAAAAAAAAAAAAAAAAAAAAAAAAAAAAAAAAAAAAAAAAAAAAAAAAAAAAAAAAAAAAAAAAAAAAAAAAAAAAAAAAAAAAAAAAAAAAAAAAAAAAAAAAAAAAAAAAAAAAAAAAAAAAAAAAAAAAAAAAAAAAAAAAAAAAAAAAAAAAAAAAAAAAAAAAAAAAAAAAAAAAAAAAAAAAAAAAAAAAAAAAAAAAAAAAAAAAAAAAAAAAAAAAAAAAAAAAAAAAAAAAAAAAAAAAAAAAAAAAAAAAAAAAAAAAAAAAAAAAAAAAAAAAAAAAAAAAAAAAAAAAAAAAAAAAAAAAAAAAAAAAAAAAAAAAAAAAAAAAAAAAAAAAAAAAAAAAAAAAAAAAAAAAAAAAAAAAAAAAAAAAAAAAAAAAAAAAAAAAAAAAAAAAAAAAAAAAAAAAAAAAAAAAAAAAAAAAAAAAAAAAAAAAAAAAAAAAAAAAAAAAAAAAAAAAAAAAAAAAAAAAAAAAAAAAAAAAAAAAAAAAAAAAAAAAAAAAAAAAAAAAAAAAAAAAAAAAAAAAAAAAAAAAAAAAAAAAAAAAAAAAAAAAAAAAAAAAAAAAAAAAAAAAAAAAAAAAAAAAAAAAAAAAAAAAAAAAAAAAAAAAAAAAAAAAAAAAAAAAAAAAAAAAAAAAAAAAAAAAAAAAAAAAAAAAAAAAAAAAAAAAAAAAAAAAAAAAAAAAAAAAAAAAAAAAAAAAAAAAAAAAAAAAAAAAAAAAAAAAAAAAAAAAAAAAAAAAAAAAAAAAAAAAAAAAAAAAAAAAAAAAAAAAAAAAAAAAAAAAAAAAAAAAAAAAAAAAAAAAAAAAAAAAAAAAAAAAAAAAAAAAAAAAAAAAAAAAAAAAAAAAAAAAAAAAAAAAAAAAAAAAAAAAAAAAAAAAAAAAAAAAAAAAAAAAAAAAAAAAAAAAAAAAAAAAAAAAAAAAAAAAAAAAAAAAAAAAAAAAAAAAAAAAAAAAAAAAAAAAAAAAAAAAAAAAAAAAAAAAAAAAAAAAAAAAAAAAAAAAAAAAAAAAAAAAAAAAAAAAAAAAAAAAAAAAAAAAAAAAAAAAAAAAAAAAAAAAAAAAAAAAAAAAAAAAAAAAAAAAAAAAAAAAAAAAAAAAAAAAAAAAAAAAAAAAAAAAAAAAAAAAAAAAAAAAAAAAAAAAAAAAAAAAAAAAAAAAAAAAAAAAAAAAAAAAAAAAAAAAAAAAAAAAAAAAAAAAAAAAAAAAAAAAAAAAAAAAAAAAAAAAAAAAAAAAAAAAAAAAAAAAAAAAAAAAAAAAAAAAAAAAAAAAAAAAAAAAAAAAAAAAAAAAAAAAAAAAAAAAAAAAAAAAAAAAAAAAAAAAAAAAAAAAAAAAAAAAAAAAAAAAAAAAAAAAAAAAAAAAAAAAAAAAAAAAAAAAAAAAAAAAAAAAAAAAAAAAAAAAAAAAAAAAAAAAAAAAAAAAAAAAAAAAAAAAAAAAAAAAAAAAAAAAAAAAAAAAAAAAAAAAAAAAAAAAAAAAAAAAAAAAAAAAAAAAAAAAAAAAAAAAAAAAAAAAAAAAAAAAAAAAAAAAAAAAAAAAAAAAAAAAAAAAAAAAAAAAAAAAAAAAAAAAAAAAAAAAAAAAAAAAAAAAAAAAAAAAAAAAAAAAAAAAAAAAAAAAAAAAAAAAAAAAAAAAAAAAAAAAAAAAAAAAAAAAAAAAAAAAAAAAAAAAAAAAAAAAAAAAAAAAAAAAAAAAAAAAAAAAAAAAAAAAAAAAAAAAAAAAAAAAAAAAAAAAAAAAAAAAAAAAAAAAAAAAAAAAAAAAAAAAAAAAAAAAAAAAAAAAAAAAAAAAAAAAAAAAAAAAAAAAAAAAAAAAAAAAAAAAAAAAAAAAAAAAAAAAAAAAAAAAAAAAAAAAAAAAAAAAAAAAAAAAAAAAAAAAAAAAAAAAAAAAAAAAAAAAAAAAAAAAAAAAAAAAAAAAAAAAAAAAAAAAAAAAAAAAAAAAAAAAAAAAAAAAAAAAAAAAAAAAAAAAAAAAAAAAAAAAAAAAAAAAAAAAAAAAAAAAAAAAAAAAAAAAAAAAAAAAAAAAAAAAAAAAAAAAAAAAAAAAAAAAAAAAAAAAAAAAAAAAAAAAAAAAAAAAAAAAAAAAAAAAAAAAAAAAAAAAAAAAAAAAAAAAAAAAAAAAAAAAAAAAAAAAAAAAAAAAAAAAAAAAAAAAAAAAAAAAAAAAAAAAAAAAAAAAAAAAAAAAAAAAAAAAAAAAAAAAAAAAAAAAAAAAAAAAAAAAAAAAAAAAAAAAAAAAAAAAAAAAAAAAAAAAAAAAAAAAAAAAAAAAAAAAAAAAAAAAAAAAAAAAAAAAAAAAAAAAAAAAAAAAAAAAAAAAAAAAAAAAAAAAAAAAAAAAAAAAAAAAAAAAAAAAAAAAAAAAAAAAAAAAAAAAAAAAAAAAAAAAAAAAAAAAAAAAAAAAAAAAAAAAAAAAAAAAAAAAAAAAAAAAAAAAAAAAAAAAAAAAAAAAAAAAAAAAAAAAAAAAAAAAAAAAAAAAAAAAAAAAAAAAAAAAAAAAAAAAAAAAAAAAAAAAAAAAAAAAAAAAAAAAAAAAAAAAAAAAAAAAAAAAAAAAAAAAAAAAAAAAAAAAAAAAAAAAAAAAAAAAAAAAAAAAAAAAAAAAAAAAAAAAAAAAAAAAAAAAAAAAAAAAAAAAAAAAAAAAAAAAAAAAAAAAAAAAAAAAAAAAAAAAAAAAAAAAAAAAAAAAAAAAAAAAAAAAAAAAAAAAAAAAAAAAAAAAAAAAAAAAAAAAAAAAAAAAAAAAAAAAAAAAAAAAAAAAAAAAAAAAAAAAAAAAAAAAAAAAAAAAAAAAAAAAAAAAAAAAAAAAAAAAAAAAAAAAAAAAAAAAAAAAAAAAAAAAAAAAAAAAAAAAAAAAAAAAAAAAAAAAAAAAAAAAAAAAAAAAAAAAAAAAAAAAAAAAAAAAAAAAAAAAAAAAAAAAAAAAAAAAAAAAAAAAAAAAAAAAAAAAAAAAAAAAAAAAAAAAAAAAAAAAAAAAAAAAAAAAAAAAAAAAAAAAAAAAAAAAAAAAAAAAAAAAAAAAAAAAAAAAAAAAAAAAAAAAAAAAAAAAAAAAAAAAAAAAAAAAAAAAAAAAAAAAAAAAAAAAAAAAAAAAAAAAAAAAAAAAAAAAAAAAAAAAAAAAAAAAAAAAAAAAAAAAAAAAAAAAAAAAAAAAAAAAAAAAAAAAAAAAAAAAAAAAAAAAAAAAAAAAAAAAAAAAAAAAAAAAAAAAAAAAAAAAAAAAAAAAAAAAAAAAAAAAAAAAAAAAAAAAAAAAAAAAAAAAAAAAAAAAAAAAAAAAAAAAAAAAAAAAAAAAAAAAAAAAAAAAAAAAAAAAAAAAAAAAAAAAAAAAAAAAAAAAAAAAAAAAAAAAAAAAAAAAAAAAAAAAAAAAAAAAAAAAAAAAAAAAAAAAAAAAAAAAAAAAAAAAAAAAAAAAAAAAAAAAAAAAAAAAAAAAAAAAAAAAAAAAAAAAAAAAAAAAAAAAAAAAAAAAAAAAAAAAAAAAAAAAAAAAAAAAAAAAAAAAAAAAAAAAAAAAAAAAAAAAAAAAAAAAAAAAAAAAAAAAAAAAAAAAAAAAAAAAAAAAAAAAAAAAAAAAAAAAAAAAAAAAAAAAAAAAAAAAAAAAAAAAAAAAAAAAAAAAAAAAAAAAAAAAAAAAAAAAAAAAAAAAAAAAAAAAAAAAAAAAAAAAAAAAAAAAAAAAAAAAAAAAAAAAAAAAAAAAAAAAAAAAAAAAAAAAAAAAAAAAAAAAAAAAAAAAAAAAAAAAAAAAAAAAAAAAAAAAAAAAAAAAAAAAAAAAAAAAAAAAAAAAAAAAAAAAAAAAAAAAAAAAAAAAAAAAAAAAAAAAAAAAAAAAAAAAAAAAAAAAAAAAAAAAAAAAAAAAAAAAAAAAAAAAAAAAAAAAAAAAAAAAAAAAAAAAAAAAAAAAAAAAAAAAAAAAAAAAAAAAAAAAAAAAAAAAAAAAAAAAAAAAAAAAAAAAAAAAAAAAAAAAAAAAAAAAAAAAAAAAAAAAAAAAAAAAAAAAAAAAAAAAAAAAAAAAAAAAAAAAAAAAAAAAAAAAAAAAAAAAAAAAAAAAAAAAAAAAAAAAAAAAAAAAAAAAAAAAAAAAAAAAAAAAAAAAAAAAAAAAAAAAAAAAAAAAAAAAAAAAAAAAAAAAAAAAAAAAAAAAAAAAAAAAAAAAAAAAAAAAAAAAAAAAAAAAAAAAAAAAAAAAAAAAAAAAAAAAAAAAAAAAAAAAAAAAAAAAAAAAAAAAAAAAAAAAAAAAAAAAAAAAAAAAAAAAAAAAAAAAAAAAAAAAAAAAAAAAAAAAAAAAAAAAAAAAAAAAAAAAAAAAAAAAAAAAAAAAAAAAAAAAAAAAAAAAAAAAAAAAAAAAAAAAAAAAAAAAAAAAAAAAAAAAAAAAAAAAAAAAAAAAAAAAAAAAAAAAAAAAAAAAAAAAAAAAAAAAAAAAAAAAAAAAAAAAAAAAAAAAAAAAAAAAAAAAAAAAAAAAAAAAAAAAAAAAAAAAAAAAAAAAAAAAAAAAAAAAAAAAAAAAAAAAAAAAAAAAAAAAAAAAAAAAAAAAAAAAAAAAAAAAAAAAAAAAAAAAAAAAAAAAAAAAAAAAAAAAAAAAAAAAAAAAAAAAAAAAAAAAAAAAAAAAAAAAAAAAAAAAAAAAAAAAAAAAAAAAAAAAAAAAAAAAAAAAAAAAAAAAAAAAAAAAAAAAAAAAAAAAAAAAAAAAAAAAAAAAAAAAAAAAAAAAAAAAAAAAAAAAAAAAAAAAAAAAAAAAAAAAAAAAAAAAAAAAAAAAAAAAAAAAAAAAAAAAAAAAAAAAAAAAAAAAAAAAAAAAAAAAAAAAAAAAAAAAAAAAAAAAAAAAAAAAAAAAAAAAAAAAAAAAAAAAAAAAAAAAAAAAAAAAAAAAAAAAAAAAAAAAAAAAAAAAAAAAAAAAAAAAAAAAAAAAAAAAAAAAAAAAAAAAAAAAAAAAAAAAAAAAAAAAAAAAAAAAAAAAAAAAAAAAAAAAAAAAAAAAAAAAAAAAAAAAAAAAAAAAAAAAAAAAAAAAAAAAAAAAAAAAAAAAAAAAAAAAAAAAAAAAAAAAAAAAAAAAAAAAAAAAAAAAAAAAAAAAAAAAAAAAAAAAAAAAAAAAAAAAAAAAAAAAAAAAAAAAAAAAAAAAAAAAAAAAAAAAAAAAAAAAAAAAAAAAAAAAAAAAAAAAAAAAAAAAAAAAAAAAAAAAAAAAAAAAAAAAAAAAAAAAAAAAAAAAAAAAAAAAAAAAAAAAAAAAAAAAAAAAAAAAAAAAAAAAAAAAAAAAAAAAAAAAAAAAAAAAAAAAAAAAAAAAAAAAAAAAAAAAAAAAAAAAAAAAAAAAAAAAAAAAAAAAAAAAAAAAAAAAAAAAAAAAAAAAAAAAAAAAAAAAAAAAAAAAAAAAAAAAAAAAAAAAAAAAAAAAAAAAAAAAAAAAAAAAAAAAAAAAAAAAAAAAAAAAAAAAAAAAAAAAAAAAAAAAAAAAAAAAAAAAAAAAAAAAAAAAAAAAAAAAAAAAAAAAAAAAAAAAAAAAAAAAAAAAAAAAAAAAAAAAAAAAAAAAAAAAAAAAAAAAAAAAAAAAAAAAAAAAAAAAAAAAAAAAAAAAAAAAAAAAAAAAAAAAAAAAAAAAAAAAAAAAAAAAAAAAAAAAAAAAAAAAAAAAAAAAAAAAAAAAAAAAAAAAAAAAAAAAAAAAAAAAAAAAAAAAAAAAAAAAAAAAAAAAAAAAAAAAAAAAAAAAAAAAAAAAAAAAAAAAAAAAAAAAAAAAAAAAAAAAAAAAAAAAAAAAAAAAAAAAAAAAAAAAAAAAAAAAAAAAAAAAAAAAAAAAAAAAAAAAAAAAAAAAAAAAAAAAAAAAAAAAAAAAAAAAAAAAAAAAAAAAAAAAAAAAAAAAAAAAAAAAAAAAAAAAAAAAAAAAAAAAAAAAAAAAAAAAAAAAAAAAAAAAAAAAAAAAAAAAAAAAAAAAAAAAAAAAAAAAAAAAAAAAAAAAAAAAAAAAAAAAAAAAAAAAAAAAAAAAAAAAAAAAAAAAAAAAAAAAAAAAAAAAAAAAAAAAAAAAAAAAAAAAAAAAAAAAAAAAAAAAAAAAAAAAAAAAAAAAAAAAAAAAAAAAAAAAAAAAAAAAAAAAAAAAAAAAAAAAAAAAAAAAAAAAAAAAAAAAAAAAAAAAAAAAAAAAAAAAAAAAAAAAAAAAAAAAAAAAAAAAAAAAAAAAAAAAAAAAAAAAAAAAAAAAAAAAAAAAAAAAAAAAAAAAAAAAAAAAAAAAAAAAAAAAAAAAAAAAAAAAAAAAAAAAAAAAAAAAAAAAAAAAAAAAAAAAAAAAAAAAAAAAAAAAAAAAAAAAAAAAAAAAAAAAAAAAAAAAAAAAAAAAAAAAAAAAAAAAAAAAAAAAAAAAAAAAAAAAAAAAAAAAAAAAAAAAAAAAAAAAAAAAAAAAAAAAAAAAAAAAAAAAAAAAAAAAAAAAAAAAAAAAAAAAAAAAAAAAAAAAAAAAAAAAAAAAAAAAAAAAAAAAAAAAAAAAAAAAAAAAAAAAAAAAAAAAAAAAAAAAAAAAAAAAAAAAAAAAAAAAAAAAAAAAAAAAAAAAAAAAAAAAAAAAAAAAAAAAAAAAAAAAAAAAAAAAAAAAAAAAAAAAAAAAAAAAAAAAAAAAAAAAAAAAAAAAAAAAAAAAAAAAAAAAAAAAAAAAAAAAAAAAAAAAAAAAAAAAAAAAAAAAAAAAAAAAAAAAAAAAAAAAAAAAAAAAAAAAAAAAAAAAAAAAAAAAAAAAAAAAAAAAAAAAAAAAAAAAAAAAAAAAAAAAAAAAAAAAAAAAAAAAAAAAAAAAAAAAAAAAAAAAAAAAAAAAAAAAAAAAAAAAAAAAAAAAAAAAAAAAAAAAAAAAAAAAAAAAAAAAAAAAAAAAAAAAAAAAAAAAAAAAAAAAAAAAAAAAAAAAAAAAAAAAAAAAAAAAAAAAAAAAAAAAAAAAAAAAAAAAAAAAAAAAAAAAAAAAAAAAAAAAAAAAAAAAAAAAAAAAAAAAAAAAAAAAAAAAAAAAAAAAAAAAAAAAAAAAAAAAAAAAAAAAAAAAAAAAAAAAAAAAAAAAAAAAAAAAAAAAAAAAAAAAAAAAAAAAAAAAAAAAAAAAAAAAAAAAAAAAAAAAAAAAAAAAAAAAAAAAAAAAAAAAAAAAAAAAAAAAAAAAAAAAAAAAAAAAAAAAAAAAAAAAAAAAAAAAAAAAAAAAAAAAAAAAAAAAAAAAAAAAAAAAAAAAAAAAAAAAAAAAAAAAAAAAAAAAAAAAAAAAAAAAAAAAAAAAAAAAAAAAAAAAAAAAAAAAAAAAAAAAAAAAAAAAAAAAAAAAAAAAAAAAAAAAAAAAAAAAAAAAAAAAAAAAAAAAAAAAAAAAAAAAAAAAAAAAAAAAAAAAAAAAAAAAAAAAAAAAAAAAAAAAAAAAAAAAAAAAAAAAAAAAAAAAAAAAAAAAAAAAAAAAAAAAAAAAAAAAAAAAAAAAAAAAAAAAAAAAAAAAAAAAAAAAAAAAAAAAAAAAAAAAAAAAAAAAAAAAAAAAAAAAAAAAAAAAAAAAAAAAAAAAAAAAAAAAAAAAAAAAAAAAAAAAAAAAAAAAAAAAAAAAAAAAAAAAAAAAAAAAAAAAAAAAAAAAAAAAAAAAAAAAAAAAAAAAAAAAAAAAAAAAAAAAAAAAAAAAAAAAAAAAAAAAAAAAAAAAAAAAAAAAAAAAAAAAAAAAAAAAAAAAAAAAAAAAAAAAAAAAAAAAAAAAAAAAAAAAAAAAAAAAAAAAAAAAAAAAAAAAAAAAAAAAAAAAAAAAAAAAAAAAAAAAAAAAAAAAAAAAAAAAAAAAAAAAAAAAAAAAAAAAAAAAAAAAAAAAAAAAAAAAAAAAAAAAAAAAAAAAAAAAAAAAAAAAAAAAAAAAAAAAAAAAAAAAAAAAAAAAAAAAAAAAAAAAAAAAAAAAAAAAAAAAAAAAAAAAAAAAAAAAAAAAAAAAAAAAAAAAAAAAAAAAAAAAAAAAAAAAAAAAAAAAAAAAAAAAAAAAAAAAAAAAAAAAAAAAAAAAAAAAAAAAAAAAAAAAAAAAAAAAAAAAAAAAAAAAAAAAAAAAAAAAAAAAAAAAAAAAAAAAAAAAAAAAAAAAAAAAAAAAAAAAAAAAAAAAAAAAAAAAAAAAAAAAAAAAAAAAAAAAAAAAAAAAAAAAAAAAAAAAAAAAAAAAAAAAAAAAAAAAAAAAAAAAAAAAAAAAAAAAAAAAAAAAAAAAAAAAAAAAAAAAAAAAAAAAAAAAAAAAAAAAAAAAAAAAAAAAAAAAAAAAAAAAAAAAAAAAAAAAAAAAAAAAAAAAAAAAAAAAAAAAAAAAAAAAAAAAAAAAAAAAAAAAAAAAAAAAAAAAAAAAAAAAAAAAAAAAAAAAAAAAAAAAAAAAAAAAAAAAAAAAAAAAAAAAAAAAAAAAAAAAAAAAAAAAAAAAAAAAAAAAAAAAAAAAAAAAAAAAAAAAAAAAAAAAAAAAAAAAAAAAAAAAAAAAAAAAAAAAAAAAAAAAAAAAAAAAAAAAAAAAAAAAAAAAAAAAAAAAAAAAAAAAAAAAAAAAAAAAAAAAAAAAAAAAAAAAAAAAAAAAAAAAAAAAAAAAAAAAAAAAAAAAAAAAAAAAAAAAAAAAAAAAAAAAAAAAAAAAAAAAAAAAAAAAAAAAAAAAAAAAAAAAAAAAAAAAAAAAAAAAAAAAAAAAAAAAAAAAAAAAAAAAAAAAAAAAAAAAAAAAAAAAAAAAAAAAAAAAAAAAAAAAAAAAAAAAAAAAAAAAAAAAAAAAAAAAAAAAAAAAAAAAAAAAAAAAAAAAAAAAAAAAAAAAAAAAAAAAAAAAAAAAAAAAAAAAAAAAAAAAAAAAAAAAAAAAAAAAAAAAAAAAAAAAAAAAAAAAAAAAAAAAAAAAAAAAAAAAAAAAAAAAAAAAAAAAAAAAAAAAAAAAAAAAAAAAAAAAAAAAAAAAAAAAAAAAAAAAAAAAAAAAAAAAAAAAAAAAAAAAAAAAAAAAAAAAAAAAAAAAAAAAAAAAAAAAAAAAAAAAAAAAAAAAAAAAAAAAAAAAAAAAAAAAAAAAAAAAAAAAAAAAAAAAAAAAAAAAAAAAAAAAAAAAAAAAAAAAAAAAAAAAAAAAAAAAAAAAAAAAAAAAAAAAAAAAAAAAAAAAAAAAAAAAAAAAAAAAAAAAAAAAAAAAAAAAAAAAAAAAAAAAAAAAAAAAAAAAAAAAAAAAAAAAAAAAAAAAAAAAAAAAAAAAAAAAAAAAAAAAAAAAAAAAAAAAAAAAAAAAAAAAAAAAAAAAAAAAAAAAAAAAAAAAAAAAAAAAAAAAAAAAAAAAAAAAAAAAAAAAAAAAAAAAAAAAAAAAAAAAAAAAAAAAAAAAAAAAAAAAAAAAAAAAAAAAAAAAAAAAAAAAAAAAAAAAAAAAAAAAAAAAAAAAAAAAAAAAAAAAAAAAAAAAAAAAAAAAAAAAAAAAAAAAAAAAAAAAAAAAAAAAAAAAAAAAAAAAAAAAAAAAAAAAAAAAAAAAAAAAAAAAAAAAAAAAAAAAAAAAAAAAAAAAAAAAAAAAAAAAAAAAAAAAAAAAAAAAAAAAAAAAAAAAAAAAAAAAAAAAAAAAAAAAAAAAAAAAAAAAAAAAAAAAAAAAAAAAAAAAAAAAAAAAAAAAAAAAAAAAAAAAAAAAAAAAAAAAAAAAAAAAAAAAAAAAAAAAAAAAAAAAAAAAAAAAAAAAAAAAAAAAAAAAAAAAAAAAAAAAAAAAAAAAAAAAAAAAAAAAAAAAAAAAAAAAAAAAAAAAAAAAAAAAAAAAAAAAAAAAAAAAAAAAAAAAAAAAAAAAAAAAAAAAAAAAAAAAAAAAAAAAAAAAAAAAAAAAAAAAAAAAAAAAAAAAAAAAAAAAAAAAAAAAAAAAAAAAAAAAAAAAAAAAAAAAAAAAAAAAAAAAAAAAAAAAAAAAAAAAAAAAAAAAAAAAAAAAAAAAAAAAAAAAAAAAAAAAAAAAAAAAAAAAAAAAAAAAAAAAAAAAAAAAAAAAAAAAAAAAAAAAAAAAAAAAAAAAAAAAAAAAAAAAAAAAAAAAAAAAAAAAAAAAAAAAAAAAAAAAAAAAAAAAAAAAAAAAAAAAAAAAAAAAAAAAAAAAAAAAAAAAAAAAAAAAAAAAAAAAAAAAAAAAAAAAAAAAAAAAAAAAAAAAAAAAAAAAAAAAAAAAAAAAAAAAAAAAAAAAAAAAAAAAAAAAAAAAAAAAAAAAAAAAAAAAAAAAAAAAAAAAAAAAAAAAAAAAAAAAAAAAAAAAAAAAAAAAAAAAAAAAAAAAAAAAAAAAAAAAAAAAAAAAAAAAAAAAAAAAAAAAAAAAAAAAAAAAAAAAAAAAAAAAAAAAAAAAAAAAAAAAAAAAAAAAAAAAAAAAAAAAAAAAAAAAAAAAAAAAAAAAAAAAAAAAAAAAAAAAAAAAAAAAAAAAAAAAAAAAAAAAAAAAAAAAAAAAAAAAAAAAAAAAAAAAAAAAAAAAAAAAAAAAAAAAAAAAAAAAAAAAAAAAAAAAAAAAAAAAAAAAAAAAAAAAAAAAAAAAAAAAAAAAAAAAAAAAAAAAAAAAAAAAAAAAAAAAAAAAAAAAAAAAAAAAAAAAAAAAAAAAAAAAAAAAAAAAAAAAAAAAAAAAAAAAAAAAAAAAAAAAAAAAAAAAAAAAAAAAAAAAAAAAAAAAAAAAAAAAAAAAAAAAAAAAAAAAAAAAAAAAAAAAAAAAAAAAAAAAAAAAAAAAAAAAAAAAAAAAAAAAAAAAAAAAAAAAAAAAAAAAAAAAAAAAAAAAAAAAAAAAAAAAAAAAAAAAAAAAAAAAAAAAAAAAAAAAAAAAAAAAAAAAAAAAAAAAAAAAAAAAAAAAAAAAAAAAAAAAAAAAAAAAAAAAAAAAAAAAAAAAAAAAAAAAAAAAAAAAAAAAAAAAAAAAAAAAAAAAAAAAAAAAAAAAAAAAAAAAAAAAAAAAAAAAAAAAAAAAAAAAAAAAAAAAAAAAAAAAAAAAAAAAAAAAAAAAAAAAAAAAAAAAAAAAAAAAAAAAAAAAAAAAAAAAAAAAAAAAAAAAAAAAAAAAAAAAAAAAAAAAAAAAAAAAAAAAAAAAAAAAAAAAAAAAAAAAAAAAAAAAAAAAAAAAAAAAAAAAAAAAAAAAAAAAAAAAAAAAAAAAAAAAAAAAAAAAAAAAAAAAAAAAAAAAAAAAAAAAAAAAAAAAAAAAAAAAAAAAAAAAAAAAAAAAAAAAAAAAAAAAAAAAAAAAAAAAAAAAAAAAAAAAAAAAAAAAAAAAAAAAAAAAAAAAAAAAAAAAAAAAAAAAAAAAAAAAAAAAAAAAAAAAAAAAAAAAAAAAAAAAAAAAAAAAAAAAAAAAAAAAAAAAAAAAAAAAAAAAAAAAAAAAAAAAAAAAAAAAAAAAAAAAAAAAAAAAAAAAAAAAAAAAAAAAAAAAAAAAAAAAAAAAAAAAAAAAAAAAAAAAAAAAAAAAAAAAAAAAAAAAAAAAAAAAAAAAAAAAAAAAAAAAAAAAAAAAAAAAAAAAAAAAAAAAAAAAAAAAAAAAAAAAAAAAAAAAAAAAAAAAAAAAAAAAAAAAAAAAAAAAAAAAAAAAAAAAAAAAAAAAAAAAAAAAAAAAAAAAAAAAAAAAAAAAAAAAAAAAAAAAAAAAAAAAAAAAAAAAAAAAAAAAAAAAAAAAAAAAAAAAAAAAAAAAAAAAAAAAAAAAAAAAAAAAAAAAAAAAAAAAAAAAAAAAAAAAAAAAAAAAAAAAAAAAAAAAAAAAAAAAAAAAAAAAAAAAAAAAAAAAAAAAAAAAAAAAAAAAAAAAAAAAAAAAAAAAAAAAAAAAAAAAAAAAAAAAAAAAAAAAAAAAAAAAAAAAAAAAAAAAAAAAAAAAAAAAAAAAAAAAAAAAAAAAAAAAAAAAAAAAAAAAAAAAAAAAAAAAAAAAAAAAAAAAAAAAAAAAAAAAAAAAAAAAAAAAAAAAAAAAAAAAAAAAAAAAAAAAAAAAAAAAAAAAAAAAAAAAAAAAAAAAAAAAAAAAAAAAAAAAAAAAAAAAAAAAAAAAAAAAAAAAAAAAAAAAAAAAAAAAAAAAAAAAAAAAAAAAAAAAAAAAAAAAAAAAAAAAAAAAAAAAAAAAAAAAAAAAAAAAAAAAAAAAAAAAAAAAAAAAAAAAAAAAAAAAAAAAAAAAAAAAAAAAAAAAAAAAAAAAAAAAAAAAAAAAAAAAAAAAAAAAAAAAAAAAAAAAAAAAAAAAAAAAAAAAAAAAAAAAAAAAAAAAAAAAAAAAAAAAAAAAAAAAAAAAAAAAAAAAAAAAAAAAAAAAAAAAAAAAAAAAAAAAAAAAAAAAAAAAAAAAAAAAAAAAAAAAAAAAAAAAAAAAAAAAAAAAAAAAAAAAAAAAAAAAAAAAAAAAAAAAAAAAAAAAAAAAAAAAAAAAAAAAAAAAAAAAAAAAAAAAAAAAAAAAAAAAAAAAAAAAAAAAAAAAAAAAAAAAAAAAAAAAAAAAAAAAAAAAAAAAAAAAAAAAAAAAAAAAAAAAAAAAAAAAAAAAAAAAAAAAAAAAAAAAAAAAAAAAAAAAAAAAAAAAAAAAAAAAAAAAAAAAAAAAAAAAAAAAAAAAAAAAAAAAAAAAAAAAAAAAAAAAAAAAAAAAAAAAAAAAAAAAAAAAAAAAAAAAAAAAAAAAAAAAAAAAAAAAAAAAAAAAAAAAAAAAAAAAAAAAAAAAAAAAAAAAAAAAAAAAAAAAAAAAAAAAAAAAAAAAAAAAAAAAAAAAAAAAAAAAAAAAAAAAAAAAAAAAAAAAAAAAAAAAAAAAAAAAAAAAAAAAAAAAAAAAAAAAAAAAAAAAAAAAAAAAAAAAAAAAAAAAAAAAAAAAAAAAAAAAAAAAAAAAAAAAAAAAAAAAAAAAAAAAAAAAAAAAAAAAAAAAAAAAAAAAAAAAAAAAAAAAAAAAAAAAAAAAAAAAAAAAAAAAAAAAAAAAAAAAAAAAAAAAAAAAAAAAAAAAAAAAAAAAAAAAAAAAAAAAAAAAAAAAAAAAAAAAAAAAAAAAAAAAAAAAAAAAAAAAAAAAAAAAAAAAAAAAAAAAAAAAAAAAAAAAAAAAAAAAAAAAAAAAAAAAAAAAAAAAAAAAAAAAAAAAAAAAAAAAAAAAAAAAAAAAAAAAAAAAAAAAAAAAAAAAAAAAAAAAAAAAAAAAAAAAAAAAAAAAAAAAAAAAAAAAAAAAAAAAAAAAAAAAAAAAAAAAAAAAAAAAAAAAAAAAAAAAAAAAAAAAAAAAAAAAAAAAAAAAAAAAAAAAAAAAAAAAAAAAAAAAAAAAAAAAAAAAAAAAAAAAAAAAAAAAAAAAAAAAAAAAAAAAAAAAAAAAAAAAAAAAAAAAAAAAAAAAAAAAAAAAAAAAAAAAAAAAAAAAAAAAAAAAAAAAAAAAAAAAAAAAAAAAAAAAAAAAAAAAAAAAAAAAAAAAAAAAAAAAAAAAAAAAAAAAAAAAAAAAAAAAAAAAAAAAAAAAAAAAAAAAAAAAAAAAAAAAAAAAAAAAAAAAAAAAAAAAAAAAAAAAAAAAAAAAAAAAAAAAAAAAAAAAAAAAAAAAAAAAAAAAAAAAAAAAAAAAAAAAAAAAAAAAAAAAAAAAAAAAAAAAAAAAAAAAAAAAAAAAAAAAAAAAAAAAAAAAAAAAAAAAAAAAAAAAAAAAAAAAAAAAAAAAAAAAAAAAAAAAAAAAAAAAAAAAAAAAAAAAAAAAAAAAAAAAAAAAAAAAAAAAAAAAAAAAAAAAAAAAAAAAAAAAAAAAAAAAAAAAAAAAAAAAAAAAAAAAAAAAAAAAAAAAAAAAAAAAAAAAAAAAAAAAAAAAAAAAAAAAAAAAAAAAAAAAAAAAAAAAAAAAAAAAAAAAAAAAAAAAAAAAAAAAAAAAAAAAAAAAAAAAAAAAAAAAAAAAAAAAAAAAAAAAAAAAAAAAAAAAAAAAAAAAAAAAAAAAAAAAAAAAAAAAAAAAAAAAAAAAAAAAAAAAAAAAAAAAAAAAAAAAAAAAAAAAAAAAAAAAAAAAAAAAAAAAAAAAAAAAAAAAAAAAAAAAAAAAAAAAAAAAAAAAAAAAAAAAAAAAAAAAAAAAAAAAAAAAAAAAAAAAAAAAAAAAAAAAAAAAAAAAAAAAAAAAAAAAAAAAAAAAAAAAAAAAAAAAAAAAAAAAAAAAAAAAAAAAAAAAAAAAAAAAAAAAAAAAAAAAAAAAAAAAAAAAAAAAAAAAAAAAAAAAAAAAAAAAAAAAAAAAAAAAAAAAAAAAAAAAAAAAAAAAAAAAAAAAAAAAAAAAAAAAAAAAAAAAAAAAAAAAAAAAAAAAAAAAAAAAAAAAAAAAAAAAAAAAAAAAAAAAAAAAAAAAAAAAAAAAAAAAAAAAAAAAAAAAAAAAAAAAAAAAAAAAAAAAAAAAAAAAAAAAAAAAAAAAAAAAAAAAAAAAAAAAAAAAAAAAAAAAAAAAAAAAAAAAAAAAAAAAAAAAAAAAAAAAAAAAAAAAAAAAAAAAAAAAAAAAAAAAAAAAAAAAAAAAAAAAAAAAAAAAAAAAAAAAAAAAAAAAAAAAAAAAAAAAAAAAAAAAAAAAAAAAAAAAAAAAAAAAAAAAAAAAAAAAAAAAAAAAAAAAAAAAAAAAAAAAAAAAAAAAAAAAAAAAAAAAAAAAAAAAAAAAAAAAAAAAAAAAAAAAAAAAAAAAAAAAAAAAAAAAAAAAAAAAAAAAAAAAAAAAAAAAAAAAAAAAAAAAAAAAAAAAAAAAAAAAAAAAAAAAAAAAAAAAAAAAAAAAAAAAAAAAAAAAAAAAAAAAAAAAAAAAAAAAAAAAAAAAAAAAAAAAAAAAAAAAAAAAAAAAAAAAAAAAAAAAAAAAAAAAAAAAAAAAAAAAAAAAAAAAAAAAAAAAAAAAAAAAAAAAAAAAAAAAAAAAAAAAAAAAAAAAAAAAAAAAAAAAAAAAAAAAAAAAAAAAAAAAAAAAAAAAAAAAAAAAAAAAAAAAAAAAAAAAAAAAAAAAAAAAAAAAAAAAAAAAAAAAAAAAAAAAAAAAAAAAAAAAAAAAAAAAAAAAAAAAAAAAAAAAAAAAAAAAAAAAAAAAAAAAAAAAAAAAAAAAAAAAAAAAAAAAAAAAAAAAAAAAAAAAAAAAAAAAAAAAAAAAAAAAAAAAAAAAAAAAAAAAAAAAAAAAAAAAAAAAAAAAAAAAAAAAAAAAAAAAAAAAAAAAAAAAAAAAAAAAAAAAAAAAAAAAAAAAAAAAAAAAAAAAAAAAAAAAAAAAAAAAAAAAAAAAAAAAAAAAAAAAAAAAAAAAAAAAAAAAAAAAAAAAAAAAAAAAAAAAAAAAAAAAAAAAAAAAAAAAAAAAAAAAAAAAAAAAAAAAAAAAAAAAAAAAAAAAAAAAAAAAAAAAAAAAAAAAAAAAAAAAAAAAAAAAAAAAAAAAAAAAAAAAAAAAAAAAAAAAAAAAAAAAAAAAAAAAAAAAAAAAAAAAAAAAAAAAAAAAAAAAAAAAAAAAAAAAAAAAAAAAAAAAAAAAAAAAAAAAAAAAAAAAAAAAAAAAAAAAAAAAAAAAAAAAAAAAAAAAAAAAAAAAAAAAAAAAAAAAAAAAAAAAAAAAAAAAAAAAAAAAAAAAAAAAAAAAAAAAAAAAAAAAAAAAAAAAAAAAAAAAAAAAAAAAAAAAAAAAAAAAAAAAAAAAAAAAAAAAAAAAAAAAAAAAAAAAAAAAAAAAAAAAAAAAAAAAAAAAAAAAAAAAAAAAAAAAAAAAAAAAAAAAAAAAAAAAAAAAAAAAAAAAAAAAAAAAAAAAAAAAAAAAAAAAAAAAAAAAAAAAAAAAAAAAAAAAAAAAAAAAAAAAAAAAAAAAAAAAAAAAAAAAAAAAAAAAAAAAAAAAAAAAAAAAAAAAAAAAAAAAAAAAAAAAAAAAAAAAAAAAAAAAAAAAAAAAAAAAAAAAAAAAAAAAAAAAAAAAAAAAAAAAAAAAAAAAAAAAAAAAAAAAAAAAAAAAAAAAAAAAAAAAAAAAAAAAAAAAAAAAAAAAAAAAAAAAAAAAAAAAAAAAAAAAAAAAAAAAAAAAAAAAAAAAAAAAAAAAAAAAAAAAAAAAAAAAAAAAAAAAAAAAAAAAAAAAAAAAAAAAAAAAAAAAAAAAAAAAAAAAAAAAAAAAAAAAAAAAAAAAAAAAAAAAAAAAAAAAAAAAAAAAAAAAAAAAAAAAAAAAAAAAAAAAAAAAAAAAAAAAAAAAAAAAAAAAAAAAAAAAAAAAAAAAAAAAAAAAAAAAAAAAAAAAAAAAAAAAAAAAAAAAAAAAAAAAAAAAAAAAAAAAAAAAAAAAAAAAAAAAAAAAAAAAAAAAAAAAAAAAAAAAAAAAAAAAAAAAAAAAAAAAAAAAAAAAAAAAAAAAAAAAAAAAAAAAAAAAAAAAAAAAAAAAAAAAAAAAAAAAAAAAAAAAAAAAAAAAAAAAAAAAAAAAAAAAAAAAAAAAAAAAAAAAAAAAAAAAAAAAAAAAAAAAAAAAAAAAAAAAAAAAAAAAAAAAAAAAAAAAAAAAAAAAAAAAAAAAAAAAAAAAAAAAAAAAAAAAAAAAAAAAAAAAAAAAAAAAAAAAAAAAAAAAAAAAAAAAAAAAAAAAAAAAAAAAAAAAAAAAAAAAAAAAAAAAAAAAAAAAAAAAAAAAAAAAAAAAAAAAAAAAAAAAAAAAAAAAAAAAAAAAAAAAAAAAAAAAAAAAAAAAAAAAAAAAAAAAAAAAAAAAAAAAAAAAAAAAAAAAAAAAAAAAAAAAAAAAAAAAAAAAAAAAAAAAAAAAAAAAAAAAAAAAAAAAAAAAAAAAAAAAAAAAAAAAAAAAAAAAAAAAAAAAAAAAAAAAAAAAAAAAAAAAAAAAAAAAAAAAAAAAAAAAAAAAAAAAAAAAAAAAAAAAAAAAAAAAAAAAAAAAAAAAAAAAAAAAAAAAAAAAAAAAAAAAAAAAAAAAAAAAAAAAAAAAAAAAAAAAAAAAAAAAAAAAAAAAAAAAAAAAAAAAAAAAAAAAAAAAAAAAAAAAAAAAAAAAAAAAAAAAAAAAAAAAAAAAAAAAAAAAAAAAAAAAAAAAAAAAAAAAAAAAAAAAAAAAAAAAAAAAAAAAAAAAAAAAAAAAAAAAAAAAAAAAAAAAAAAAAAAAAAAAAAAAAAAAAAAAAAAAAAAAAAAAAAAAAAAAAAAAAAAAAAAAAAAAAAAAAAAAAAAAAAAAAAAAAAAAAAAAAAAAAAAAAAAAAAAAAAAAAAAAAAAAAAAAAAAAAAAAAAAAAAAAAAAAAAAAAAAAAAAAAAAAAAAAAAAAAAAAAAAAAAAAAAAAAAAAAAAAAAAAAAAAAAAAAAAAAAAAAAAAAAAAAAAAAAAAAAAAAAAAAAAAAAAAAAAAAAAAAAAAAAAAAAAAAAAAAAAAAAAAAAAAAAAAAAAAAAAAAAAAAAAAAAAAAAAAAAAAAAAAAAAAAAAAAAAAAAAAAAAAAAAAAAAAAAAAAAAAAAAAAAAAAAAAAAAAAAAAAAAAAAAAAAAAAAAAAAAAAAAAAAAAAAAAAAAAAAAAAAAAAAAAAAAAAAAAAAAAAAAAAAAAAAAAAAAAAAAAAAAAAAAAAAAAAAAAAAAAAAAAAAAAAAAAAAAAAAAAAAAAAAAAAAAAAAAAAAAAAAAAAAAAAAAAAAAAAAAAAAAAAAAAAAAAAAAAAAAAAAAAAAAAAAAAAAAAAAAAAAAAAAAAAAAAAAAAAAAAAAAAAAAAAAAAAAAAAAAAAAAAAAAAAAAAAAAAAAAAAAAAAAAAAAAAAAAAAAAAAAAAAAAAAAAAAAAAAAAAAAAAAAAAAAAAAAAAAAAAAAAAAAAAAAAAAAAAAAAAAAAAAAAAAAAAAAAAAAAAAAAAAAAAAAAAAAAAAAAAAAAAAAAAAAAAAAAAAAAAAAAAAAAAAAAAAAAAAAAAAAAAAAAAAAAAAAAAAAAAAAAAAAAAAAAAAAAAAAAAAAAAAAAAAAAAAAAAAAAAAAAAAAAAAAAAAAAAAAAAAAAAAAAAAAAAAAAAAAAAAAAAAAAAAAAAAAAAAAAAAAAAAAAAAAAAAAAAAAAAAAAAAAAAAAAAAAAAAAAAAAAAAAAAAAAAAAAAAAAAAAAAAAAAAAAAAAAAAAAAAAAAAAAAAAAAAAAAAAAAAAAAAAAAAAAAAAAAAAAAAAAAAAAAAAAAAAAAAAAAAAAAAAAAAAAAAAAAAAAAAAAAAAAAAAAAAAAAAAAAAAAAAAAAAAAAAAAAAAAAAAAAAAAAAAAAAAAAAAAAAAAAAAAAAAAAAAAAAAAAAAAAAAAAAAAAAAAAAAAAAAAAAAAAAAAAAAAAAAAAAAAAAAAAAAAAAAAAAAAAAAAAAAAAAAAAAAAAAAAAAAAAAAAAAAAAAAAAAAAAAAAAAAAAAAAAAAAAAAAAAAAAAAAAAAAAAAAAAAAAAAAAAAAAAAAAAAAAAAAAAAAAAAAAAAAAAAAAAAAAAAAAAAAAAAAAAAAAAAAAAAAAAAAAAAAAAAAAAAAAAAAAAAAAAAAAAAAAAAAAAAAAAAAAAAAAAAAAAAAAAAAAAAAAAAAAAAAAAAAAAAAAAAAAAAAAAAAAAAAAAAAAAAAAAAAAAAAAAAAAAAAAAAAAAAAAAAAAAAAAAAAAAAAAAAAAAAAAAAAAAAAAAAAAAAAAAAAAAAAAAAAAAAAAAAAAAAAAAAAAAAAAAAAAAAAAAAAAAAAAAAAAAAAAAAAAAAAAAAAAAAAAAAAAAAAAAAAAAAAAAAAAAAAAAAAAAAAAAAAAAAAAAAAAAAAAAAAAAAAAAAAAAAAAAAAAAAAAAAAAAAAAAAAAAAAAAAAAAAAAAAAAAAAAAAAAAAAAAAAAAAAAAAAAAAAAAAAAAAAAAAAAAAAAAAAAAAAAAAAAAAAAAAAAAAAAAAAAAAAAAAAAAAAAAAAAAAAAAAAAAAAAAAAAAAAAAAAAAAAAAAAAAAAAAAAAAAAAAAAAAAAAAAAAAAAAAAAAAAAAAAAAAAAAAAAAAAAAAAAAAAAAAAAAAAAAAAAAAAAAAAAAAAAAAAAAAAAAAAAAAAAAAAAAAAAAAAAAAAAAAAAAAAAAAAAAAAAAAAAAAAAAAAAAAAAAAAAAAAAAAAAAAAAAAAAAAAAAAAAAAAAAAAAAAAAAAAAAAAAAAAAAAAAAAAAAAAAAAAAAAAAAAAAAAAAAAAAAAAAAAAAAAAAAAAAAAAAAAAAAAAAAAAAAAAAAAAAAAAAAAAAAAAAAAAAAAAAAAAAAAAAAAAAAAAAAAAAAAAAAAAAAAAAAAAAAAAAAAAAAAAAAAAAAAAAAAAAAAAAAAAAAAAAAAAAAAAAAAAAAAAAAAAAAAAAAAAAAAAAAAAAAAAAAAAAAAAAAAAAAAAAAAAAAAAAAAAAAAAAAAAAAAAAAAAAAAAAAAAAAAAAAAAAAAAAAAAAAAAAAAAAAAAAAAAAAAAAAAAAAAAAAAAAAAAAAAAAAAAAAAAAAAAAAAAAAAAAAAAAAAAAAAAAAAAAAAAAAAAAAAAAAAAAAAAAAAAAAAAAAAAAAAAAAAAAAAAAAAAAAAAAAAAAAAAAAAAAAAAAAAAAAAAAAAAAAAAAAAAAAAAAAAAAAAAAAAAAAAAAAAAAAAAAAAAAAAAAAAAAAAAAAAAAAAAAAAAAAAAAAAAAAAAAAAAAAAAAAAAAAAAAAAAAAAAAAAAAAAAAAAAAAAAAAAAAAAAAAAAAAAAAAAAAAAAAAAAAAAAAAAAAAAAAAAAAAAAAAAAAAAAAAAAAAAAAAAAAAAAAAAAAAAAAAAAAAAAAAAAAAAAAAAAAAAAAAAAAAAAAAAAAAAAAAAAAAAAAAAAAAAAAAAAAAAAAAAAAAAAAAAAAAAAAAAAAAAAAAAAAAAAAAAAAAAAAAAAAAAAAAAAAAAAAAAAAAAAAAAAAAAAAAAAAAAAAAAAAAAAAAAAAAAAAAAAAAAAAAAAAAAAAAAAAAAAAAAAAAAAAAAAAAAAAAAAAAAAAAAAAAAAAAAAAAAAAAAAAAAAAAAAAAAAAAAAAAAAAAAAAAAAAAAAAAAAAAAAAAAAAAAAAAAAAAAAAAAAAAAAAAAAAAAAAAAAAAAAAAAAAAAAAAAAAAAAAAAAAAAAAAAAAAAAAAAAAAAAAAAAAAAAAAAAAAAAAAAAAAAAAAAAAAAAAAAAAAAAAAAAAAAAAAAAAAAAAAAAAAAAAAAAAAAAAAAAAAAAAAAAAAAAAAAAAAAAAAAAAAAAAAAAAAAAAAAAAAAAAAAAAAAAAAAAAAAAAAAAAAAAAAAAAAAAAAAAAAAAAAAAAAAAAAAAAAAAAAAAAAAAAAAAAAAAAAAAAAAAAAAAAAAAAAAAAAAAAAAAAAAAAAAAAAAAAAAAAAAAAAAAAAAAAAAAAAAAAAAAAAAAAAAAAAAAAAAAAAAAAAAAAAAAAAAAAAAAAAAAAAAAAAAAAAAAAAAAAAAAAAAAAAAAAAAAAAAAAAAAAAAAAAAAAAAAAAAAAAAAAAAAAAAAAAAAAAAAAAAAAAAAAAAAAAAAAAAAAAAAAAAAAAAAAAAAAAAAAAAAAAAAAAAAAAAAAAAAAAAAAAAAAAAAAAAAAAAAAAAAAAAAAAAAAAAAAAAAAAAAAAAAAAAAAAAAAAAAAAAAAAAAAAAAAAAAAAAAAAAAAAAAAAAAAAAAAAAAAAAAAAAAAAAAAAAAAAAAAAAAAAAAAAAAAAAAAAAAAAAAAAAAAAAAAAAAAAAAAAAAAAAAAAAAAAAAAAAAAAAAAAAAAAAAAAAAAAAAAAAAAAAAAAAAAAAAAAAAAAAAAAAAAAAAAAAAAAAAAAAAAAAAAAAAAAAAAAAAAAAAAAAAAAAAAAAAAAAAAAAAAAAAAAAAAAAAAAAAAAAAAAAAAAAAAAAAAAAAAAAAAAAAAAAAAAAAAAAAAAAAAAAAAAAAAAAAAAAAAAAAAAAAAAAAAAAAAAAAAAAAAAAAAAAAAAAAAAAAAAAAAAAAAAAAAAAAAAAAAAAAAAAAAAAAAAAAAAAAAAAAAAAAAAAAAAAAAAAAAAAAAAAAAAAAAAAAAAAAAAAAAAAAAAAAAAAAAAAAAAAAAAAAAAAAAAAAAAAAAAAAAAAAAAAAAAAAAAAAAAAAAAAAAAAAAAAAAAAAAAAAAAAAAAAAAAAAAAAAAAAAAAAAAAAAAAAAAAAAAAAAAAAAAAAAAAAAAAAAAAAAAAAAAAAAAAAAAAAAAAAAAAAAAAAAAAAAAAAAAAAAAAAAAAAAAAAAAAAAAAAAAAAAAAAAAAAAAAAAAAAAAAAAAAAAAAAAAAAAAAAAAAAAAAAAAAAAAAAAAAAAAAAAAAAAAAAAAAAAAAAAAAAAAAAAAAAAAAAAAAAAAAAAAAAAAAAAAAAAAAAAAAAAAAAAAAAAAAAAAAAAAAAAAAAAAAAAAAAAAAAAAAAAAAAAAAAAAAAAAAAAAAAAAAAAAAAAAAAAAAAAAAAAAAAAAAAAAAAAAAAAAAAAAAAAAAAAAAAAAAAAAAAAAAAAAAAAAAAAAAAAAAAAAAAAAAAAAAAAAAAAAAAAAAAAAAAAAAAAAAAAAAAAAAAAAAAAAAAAAAAAAAAAAAAAAAAAAAAAAAAAAAAAAAAAAAAAAAAAAAAAAAAAAAAAAAAAAAAAAAAAAAAAAAAAAAAAAAAAAAAAAAAAAAAAAAAAAAAAAAAAAAAAAAAAAAAAAAAAAAAAAAAAAAAAAAAAAAAAAAAAAAAAAAAAAAAAAAAAAAAAAAAAAAAAAAAAAAAAAAAAAAAAAAAAAAAAAAAAAAAAAAAAAAAAAAAAAAAAAAAAAAAAAAAAAAAAAAAAAAAAAAAAAAAAAAAAAAAAAAAAAAAAAAAAAAAAAAAAAAAAAAAAAAAAAAAAAAAAAAAAAAAAAAAAAAAAAAAAAAAAAAAAAAAAAAAAAAAAAAAAAAAAAAAAAAAAAAAAAAAAAAAAAAAAAAAAAAAAAAAAAAAAAAAAAAAAAAAAAAAAAAAAAAAAAAAAAAAAAAAAAAAAAAAAAAAAAAAAAAAAAAAAAAAAAAAAAAAAAAAAAAAAAAAAAAAAAAAAAAAAAAAAAAAAAAAAAAAAAAAAAAAAAAAAAAAAAAAAAAAAAAAAAAAAAAAAAAAAAAAAAAAAAAAAAAAAAAAAAAAAAAAAAAAAAAAAAAAAAAAAAAAAAAAAAAAAAAAAAAAAAAAAAAAAAAAAAAAAAAAAAAAAAAAAAAAAAAAAAAAAAAAAAAAAAAAAAAAAAAAAAAAAAAAAAAAAAAAAAAAAAAAAAAAAAAAAAAAAAAAAAAAAAAAAAAAAAAAAAAAAAAAAAAAAAAAAAAAAAAAAAAAAAAAAAAAAAAAAAAAAAAAAAAAAAAAAAAAAAAAAAAAAAAAAAAAAAAAAAAAAAAAAAAAAAAAAAAAAAAAAAAAAAAAAAAAAAAAAAAAAAAAAAAAAAAAAAAAAAAAAAAAAAAAAAAAAAAAAAAAAAAAAAAAAAAAAAAAAAAAAAAAAAAAAAAAAAAAAAAAAAAAAAAAAAAAAAAAAAAAAAAAAAAAAAAAAAAAAAAAAAAAAAAAAAAAAAAAAAAAAAAAAAAAAAAAAAAAAAAAAAAAAAAAAAAAAAAAAAAAAAAAAAAAAAAAAAAAAAAAAAAAAAAAAAAAAAAAAAAAAAAAAAAAAAAAAAAAAAAAAAAAAAAAAAAAAAAAAAAAAAAAAAAAAAAAAAAAAAAAAAAAAAAAAAAAAAAAAAAAAAAAAAAAAAAAAAAAAAAAAAAAAAAAAAAAAAAAAAAAAAAAAAAAAAAAAAAAAAAAAAAAAAAAAAAAAAAAAAAAAAAAAAAAAAAAAAAAAAAAAAAAAAAAAAAAAAAAAAAAAAAAAAAAAAAAAAAAAAAAAAAAAAAAAAAAAAAAAAAAAAAAAAAAAAAAAAAAAAAAAAAAAAAAAAAAAAAAAAAAAAAAAAAAAAAAAAAAAAAAAAAAAAAAAAAAAAAAAAAAAAAAAAAAAAAAAAAAAAAAAAAAAAAAAAAAAAAAAAAAAAAAAAAAAAAAAAAAAAAAAAAAAAAAAAAAAAAAAAAAAAAAAAAAAAAAAAAAAAAAAAAAAAAAAAAAAAAAAAAAAAAAAAAAAAAAAAAAAAAAAAAAAAAAAAAAAAAAAAAAAAAAAAAAAAAAAAAAAAAAAAAAAAAAAAAAAAAAAAAAAAAAAAAAAAAAAAAAAAAAAAAAAAAAAAAAAAAAAAAAAAAAAAAAAAAAAAAAAAAAAAAAAAAAAAAAAAAAAAAAAAAAAAAAAAAAAAAAAAAAAAAAAAAAAAAAAAAAAAAAAAAAAAAAAAAAAAAAAAAAAAAAAAAAAAAAAAAAAAAAAAAAAAAAAAAAAAAAAAAAAAAAAAAAAAAAAAAAAAAAAAAAAAAAAAAAAAAAAAAAAAAAAAAAAAAAAAAAAAAAAAAAAAAAAAAAAAAAAAAAAAAAAAAAAAAAAAAAAAAAAAAAAAAAAAAAAAAAAAAAAAAAAAAAAAAAAAAAAAAAAAAAAAAAAAAAAAAAAAAAAAAAAAAAAAAAAAAAAAAAAAAAAAAAAAAAAAAAAAAAAAAAAAAAAAAAAAAAAAAAAAAAAAAAAAAAAAAAAAAAAAAAAAAAAAAAAAAAAAAAAAAAAAAAAAAAAAAAAAAAAAAAAAAAAAAAAAAAAAAAAAAAAAAAAAAAAAAAAAAAAAAAAAAAAAAAAAAAAAAAAAAAAAAAAAAAAAAAAAAAAAAAAAAAAAAAAAAAAAAAAAAAAAAAAAAAAAAAAAAAAAAAAAAAAAAAAAAAAAAAAAAAAAAAAAAAAAAAAAAAAAAAAAAAAAAAAAAAAAAAAAAAAAAAAAAAAAAAAAAAAAAAAAAAAAAAAAAAAAAAAAAAAAAAAAAAAAAAAAAAAAAAAAAAAAAAAAAAAAAAAAAAAAAAAAAAAAAAAAAAAAAAAAAAAAAAAAAAAAAAAAAAAAAAAAAAAAAAAAAAAAAAAAAAAAAAAAAAAAAAAAAAAAAAAAAAAAAAAAAAAAAAAAAAAAAAAAAAAAAAAAAAAAAAAAAAAAAAAAAAAAAAAAAAAAAAAAAAAAAAAAAAAAAAAAAAAAAAAAAAAAAAAAAAAAAAAAAAAAAAAAAAAAAAAAAAAAAAAAAAAAAAAAAAAAAAAAAAAAAAAAAAAAAAAAAAAAAAAAAAAAAAAAAAAAAAAAAAAAAAAAAAAAAAAAAAAAAAAAAAAAAAAAAAAAAAAAAAAAAAAAAAAAAAAAAAAAAAAAAAAAAAAAAAAAAAAAAAAAAAAAAAAAAAAAAAAAAAAAAAAAAAAAAAAAAAAAAAAAAAAAAAAAAAAAAAAAAAAAAAAAAAAAAAAAAAAAAAAAAAAAAAAAAAAAAAAAAAAAAAAAAAAAAAAAAAAAAAAAAAAAAAAAAAAAAAAAAAAAAAAAAAAAAAAAAAAAAAAAAAAAAAAAAAAAAAAAAAAAAAAAAAAAAAAAAAAAAAAAAAAAAAAAAAAAAAAAAAAAAAAAAAAAAAAAAAAAAAAAAAAAAAAAAAAAAAAAAAAAAAAAAAAAAAAAAAAAAAAAAAAAAAAAAAAAAAAAAAAAAAAAAAAAAAAAAAAAAAAAAAAAAAAAAAAAAAAAAAAAAAAAAAAAAAAAAAAAAAAAAAAAAAAAAAAAAAAAAAAAAAAAAAAAAAAAAAAAAAAAAAAAAAAAAAAAAAAAAAAAAAAAAAAAAAAAAAAAAAAAAAAAAAAAAAAAAAAAAAAAAAAAAAAAAAAAAAAAAAAAAAAAAAAAAAAAAAAAAAAAAAAAAAAAAAAAAAAAAAAAAAAAAAAAAAAAAAAAAAAAAAAAAAAAAAAAAAAAAAAAAAAAAAAAAAAAAAAAAAAAAAAAAAAAAAAAAAAAAAAAAAAAAAAAAAAAAAAAAAAAAAAAAAAAAAAAAAAAAAAAAAAAAAAAAAAAAAAAAAAAAAAAAAAAAAAAAAAAAAAAAAAAAAAAAAAAAAAAAAAAAAAAAAAAAAAAAAAAAAAAAAAAAAAAAAAAAAAAAAAAAAAAAAAAAAAAAAAAAAAAAAAAAAAAAAAAAAAAAAAAAAAAAAAAAAAAAAAAAAAAAAAAAAAAAAAAAAAAAAAAAAAAAAAAAAAAAAAAAAAAAAAAAAAAAAAAAAAAAAAAAAAAAAAAAAAAAAAAAAAAAAAAAAAAAAAAAAAAAAAAAAAAAAAAAAAAAAAAAAAAAAAAAAAAAAAAAAAAAAAAAAAAAAAAAAAAAAAAAAAAAAAAAAAAAAAAAAAAAAAAAAAAAAAAAAAAAAAAAAAAAAAAAAAAAAAAAAAAAAAAAAAAAAAAAAAAAAAAAAAAAAAAAAAAAAAAAAAAAAAAAAAAAAAAAAAAAAAAAAAAAAAAAAAAAAAAAAAAAAAAAAAAAAAAAAAAAAAAAAAAAAAAAAAAAAAAAAAAAAAAAAAAAAAAAAAAAAAAAAAAAAAAAAAAAAAAAAAAAAAAAAAAAAAAAAAAAAAAAAAAAAAAAAAAAAAAAAAAAAAAAAAAAAAAAAAAAAAAAAAAAAAAAAAAAAAAAAAAAAAAAAAAAAAAAAAAAAAAAAAAAAAAAAAAAAAAAAAAAAAAAAAAAAAAAAAAAAAAAAAAAAAAAAAAAAAAAAAAAAAAAAAAAAAAAAAAAAAAAAAAAAAAAAAAAAAAAAAAAAAAAAAAAAAAAAAAAAAAAAAAAAAAAAAAAAAAAAAAAAAAAAAAAAAAAAAAAAAAAAAAAAAAAAAAAAAAAAAAAAAAAAAAAAAAAAAAAAAAAAAAAAAAAAAAAAAAAAAAAAAAAAAAAAAAAAAAAAAAAAAAAAAAAAAAAAAAAAAAAAAAAAAAAAAAAAAAAAAAAAAAAAAAAAAAAAAAAAAAAAAAAAAAAAAAAAAAAAAAAAAAAAAAAAAAAAAAAAAAAAAAAAAAAAAAAAAAAAAAAAAAAAAAAAAAAAAAAAAAAAAAAAAAAAAAAAAAAAAAAAAAAAAAAAAAAAAAAAAAAAAAAAAAAAAAAAAAAAAAAAAAAAAAAAAAAAAAAAAAAAAAAAAAAAAAAAAAAAAAAAAAAAAAAAAAAAAAAAAAAAAAAAAAAAAAAAAAAAAAAAAAAAAAAAAAAAAAAAAAAAAAAAAAAAAAAAAAAAAAAAAAAAAAAAAAAAAAAAAAAAAAAAAAAAAAAAAAAAAAAAAAAAAAAAAAAAAAAAAAAAAAAAAAAAAAAAAAAAAAAAAAAAAAAAAAAAAAAAAAAAAAAAAAAAAAAAAAAAAAAAAAAAAAAAAAAAAAAAAAAAAAAAAAAAAAAAAAAAAAAAAAAAAAAAAAAAAAAAAAAAAAAAAAAAAAAAAAAAAAAAAAAAAAAAAAAAAAAAAAAAAAAAAAAAAAAAAAAAAAAAAAAAAAAAAAAAAAAAAAAAAAAAAAAAAAAAAAAAAAAAAAAAAAAAAAAAAAAAAAAAAAAAAAAAAAAAAAAAAAAAAAAAAAAAAAAAAAAAAAAAAAAAAAAAAAAAAAAAAAAAAAAAAAAAAAAAAAAAAAAAAAAAAAAAAAAAAAAAAAAAAAAAAAAAAAAAAAAAAAAAAAAAAAAAAAAAAAAAAAAAAAAAAAAAAAAAAAAAAAAAAAAAAAAAAAAAAAAAAAAAAAAAAAAAAAAAAAAAAAAAAAAAAAAAAAAAAAAAAAAAAAAAAAAAAAAAAAAAAAAAAAAAAAAAAAAAAAAAAAAAAAAAAAAAAAAAAAAAAAAAAAAAAAAAAAAAAAAAAAAAAAAAAAAAAAAAAAAAAAAAAAAAAAAAAAAAAAAAAAAAAAAAAAAAAAAAAAAAAAAAAAAAAAAAAAAAAAAAAAAAAAAAAAAAAAAAAAAAAAAAAAAAAAAAAAAAAAAAAAAAAAAAAAAAAAAAAAAAAAAAAAAAAAAAAAAAAAAAAAAAAAAAAAAAAAAAAAAAAAAAAAAAAAAAAAAAAAAAAAAAAAAAAAAAAAAAAAAAAAAAAAAAAAAAAAAAAAAAAAAAAAAAAAAAAAAAAAAAAAAAAAAAAAAAAAAAAAAAAAAAAAAAAAAAAAAAAAAAAAAAAAAAAAAAAAAAAAAAAAAAAAAAAAAAAAAAAAAAAAAAAAAAAAAAAAAAAAAAAAAAAAAAAAAAAAAAAAAAAAAAAAAAAAAAAAAAAAAAAAAAAAAAAAAAAAAAAAAAAAAAAAAAAAAAAAAAAAAAAAAAAAAAAAAAAAAAAAAAAAAAAAAAAAAAAAAAAAAAAAAAAAAAAAAAAAAAAAAAAAAAAAAAAAAAAAAAAAAAAAAAAAAAAAAAAAAAAAAAAAAAAAAAAAAAAAAAAAAAAAAAAAAAAAAAAAAAAAAAAAAAAAAAAAAAAAAAAAAAAAAAAAAAAAAAAAAAAAAAAAAAAAAAAAAAAAAAAAAAAAAAAAAAAAAAAAAAAAAAAAAAAAAAAAAAAAAAAAAAAAAAAAAAAAAAAAAAAAAAAAAAAAAAAAAAAAAAAAAAAAAAAAAAAAAAAAAAAAAAAAAAAAAAAAAAAAAAAAAAAAAAAAAAAAAAAAAAAAAAAAAAAAAAAAAAAAAAAAAAAAAAAAAAAAAAAAAAAAAAAAAAAAAAAAAAAAAAAAAAAAAAAAAAAAAAAAAAAAAAAAAAAAAAAAAAAAAAAAAAAAAAAAAAAAAAAAAAAAAAAAAAAAAAAAAAAAAAAAAAAAAAAAAAAAAAAAAAAAAAAAAAAAAAAAAAAAAAAAAAAAAAAAAAAAAAAAAAAAAAAAAAAAAAAAAAAAAAAAAAAAAAAAAAAAAAAAAAAAAAAAAAAAAAAAAAAAAAAAAAAAAAAAAAAAAAAAAAAAAAAAAAAAAAAAAAAAAAAAAAAAAAAAAAAAAAAAAAAAAAAAAAAAAAAAAAAAAAAAAAAAAAAAAAAAAAAAAAAAAAAAAAAAAAAAAAAAAAAAAAAAAAAAAAAAAAAAAAAAAAAAAAAAAAAAAAAAAAAAAAAAAAAAAAAAAAAAAAAAAAAAAAAAAAAAAAAAAAAAAAAAAAAAAAAAAAAAAAAAAAAAAAAAAAAAAAAAAAAAAAAAAAAAAAAAAAAAAAAAAAAAAAAAAAAAAAAAAAAAAAAAAAAAAAAAAAAAAAAAAAAAAAAAAAAAAAAAAAAAAAAAAAAAAAAAAAAAAAAAAAAAAAAAAAAAAAAAAAAAAAAAAAAAAAAAAAAAAAAAAAAAAAAAAAAAAAAAAAAAAAAAAAAAAAAAAAAAAAAAAAAAAAAAAAAAAAAAAAAAAAAAAAAAAAAAAAAAAAAAAAAAAAAAAAAAAAAAAAAAAAAAAAAAAAAAAAAAAAAAAAAAAAAAAAAAAAAAAAAAAAAAAAAAAAAAAAAAAAAAAAAAAAAAAAAAAAAAAAAAAAAAAAAAAAAAAAAAAAAAAAAAAAAAAAAAAAAAAAAAAAAAAAAAAAAAAAAAAAAAAAAAAAAAAAAAAAAAAAAAAAAAAAAAAAAAAAAAAAAAAAAAAAAAAAAAAAAAAAAAAAAAAAAAAAAAAAAAAAAAAAAAAAAAAAAAAAAAAAAAAAAAAAAAAAAAAAAAAAAAAAAAAAAAAAAAAAAAAAAAAAAAAAAAAAAAAAAAAAAAAAAAAAAAAAAAAAAAAAAAAAAAAAAAAAAAAAAAAAAAAAAAAAAAAAAAAAAAAAAAAAAAAAAAAAAAAAAAAAAAAAAAAAAAAAAAAAAAAAAAAAAAAAAAAAAAAAAAAAAAAAAAAAAAAAAAAAAAAAAAAAAAAAAAAAAAAAAAAAAAAAAAAAAAAAAAAAAAAAAAAAAAAAAAAAAAAAAAAAAAAAAAAAAAAAAAAAAAAAAAAAAAAAAAAAAAAAAAAAAAAAAAAAAAAAAAAAAAAAAAAAAAAAAAAAAAAAAAAAAAAAAAAAAAAAAAAAAAAAAAAAAAAAAAAAAAAAAAAAAAAAAAAAAAAAAAAAAAAAAAAAAAAAAAAAAAAAAAAAAAAAAAAAAAAAAAAAAAAAAAAAAAAAAAAAAAAAAAAAAAAAAAAAAAAAAAAAAAAAAAAAAAAAAAAAAAAAAAAAAAAAAAAAAAAAAAAAAAAAAAAAAAAAAAAAAAAAAAAAAAAAAAAAAAAAAAAAAAAAAAAAAAAAAAAAAAAAAAAAAAAAAAAAAAAAAAAAAAAAAAAAAAAAAAAAAAAAAAAAAAAAAAAAAAAAAAAAAAAAAAAAAAAAAAAAAAAAAAAAAAAAAAAAAAAAAAAAAAAAAAAAAAAAAAAAAAAAAAAAAAAAAAAAAAAAAAAAAAAAAAAAAAAAAAAAAAAAAAAAAAAAAAAAAAAAAAAAAAAAAAAAAAAAAAAAAAAAAAAAAAAAAAAAAAAAAAAAAAAAAAAAAAAAAAAAAAAAAAAAAAAAAAAAAAAAAAAAAAAAAAAAAAAAAAAAAAAAAAAAAAAAAAAAAAAAAAAAAAAAAAAAAAAAAAAAAAAAAAAAAAAAAAAAAAAAAAAAAAAAAAAAAAAAAAAAAAAAAAAAAAAAAAAAAAAAAAAAAAAAAAAAAAAAAAAAAAAAAAAAAAAAAAAAAAAAAAAAAAAAAAAAAAAAAAAAAAAAAAAAAAAAAAAAAAAAAAAAAAAAAAAAAAAAAAAAAAAAAAAAAAAAAAAAAAAAAAAAAAAAAAAAAAAAAAAAAAAAAAAAAAAAAAAAAAAAAAAAAAAAAAAAAAAAAAAAAAAAAAAAAAAAAAAAAAAAAAAAAAAAAAAAAAAAAAAAAAAAAAAAAAAAAAAAAAAAAAAAAAAAAAAAAAAAAAAAAAAAAAAAAAAAAAAAAAAAAAAAAAAAAAAAAAAAAAAAAAAAAAAAAAAAAAAAAAAAAAAAAAAAAAAAAAAAAAAAAAAAAAAAAAAAAAAAAAAAAAAAAAAAAAAAAAAAAAAAAAAAAAAAAAAAAAAAAAAAAAAAAAAAAAAAAAAAAAAAAAAAAAAAAAAAAAAAAAAAAAAAAAAAAAAAAAAAAAAAAAAAAAAAAAAAAAAAAAAAAAAAAAAAAAAAAAAAAAAAAAAAAAAAAAAAAAAAAAAAAAAAAAAAAAAAAAAAAAAAAAAAAAAAAAAAAAAAAAAAAAAAAAAAAAAAAAAAAAAAAAAAAAAAAAAAAAAAAAAAAAAAAAAAAAAAAAAAAAAAAAAAAAAAAAAAAAAAAAAAAAAAAAAAAAAAAAAAAAAAAAAAAAAAAAAAAAAAAAAAAAAAAAAAAAAAAAAAAAAAAAAAAAAAAAAAAAAAAAAAAAAAAAAAAAAAAAAAAAAAAAAAAAAAAAAAAAAAAAAAAAAAAAAAAAAAAAAAAAAAAAAAAAAAAAAAAAAAAAAAAAAAAAAAAAAAAAAAAAAAAAAAAAAAAAAAAAAAAAAAAAAAAAAAAAAAAAAAAAAAAAAAAAAAAAAAAAAAAAAAAAAAAAAAAAAAAAAAAAAAAAAAAAAAAAAAAAAAAAAAAAAAAAAAAAAAAAAAAAAAAAAAAAAAAAAAAAAAAAAAAAAAAAAAAAAAAAAAAAAAAAAAAAAAAAAAAAAAAAAAAAAAAAAAAAAAAAAAAAAAAAAAAAAAAAAAAAAAAAAAAAAAAAAAAAAAAAAAAAAAAAAAAAAAAAAAAAAAAAAAAAAAAAAAAAAAAAAAAAAAAAAAAAAAAAAAAAAAAAAAAAAAAAAAAAAAAAAAAAAAAAAAAAAAAAAAAAAAAAAAAAAAAAAAAAAAAAAAAAAAAAAAAAAAAAAAAAAAAAAAAAAAAAAAAAAAAAAAAAAAAAAAAAAAAAAAAAAAAAAAAAAAAAAAAAAAAAAAAAAAAAAAAAAAAAAAAAAAAAAAAAAAAAAAAAAAAAAAAAAAAAAAAAAAAAAAAAAAAAAAAAAAAAAAAAAAAAAAAAAAAAAAAAAAAAAAAAAAAAAAAAAAAAAAAAAAAAAAAAAAAAAAAAAAAAAAAAAAAAAAAAAAAAAAAAAAAAAAAAAAAAAAAAAAAAAAAAAAAAAAAAAAAAAAAAAAAAAAAAAAAAAAAAAAAAAAAAAAAAAAAAAAAAAAAAAAAAAAAAAAAAAAAAAAAAAAAAAAAAAAAAAAAAAAAAAAAAAAAAAAAAAAAAAAAAAAAAAAAAAAAAAAAAAAAAAAAAAAAAAAAAAAAAAAAAAAAAAAAAAAAAAAAAAAAAAAAAAAAAAAAAAAAAAAAAAAAAAAAAAAAAAAAAAAAAAAAAAAAAAAAAAAAAAAAAAAAAAAAAAAAAAAAAAAAAAAAAAAAAAAAAAAAAAAAAAAAAAAAAAAAAAAAAAAAAAAAAAAAAAAAAAAAAAAAAAAAAAAAAAAAAAAAAAAAAAAAAAAAAAAAAAAAAAAAAAAAAAAAAAAAAAAAAAAAAAAAAAAAAAAAAAAAAAAAAAAAAAAAAAAAAAAAAAAAAAAAAAAAAAAAAAAAAAAAAAAAAAAAAAAAAAAAAAAAAAAAAAAAAAAAAAAAAAAAAAAAAAAAAAAAAAAAAAAAAAAAAAAAAAAAAAAAAAAAAAAAAAAAAAAAAAAAAAAAAAAAAAAAAAAAAAAAAAAAAAAAAAAAAAAAAAAAAAAAAAAAAAAAAAAAAAAAAAAAAAAAAAAAAAAAAAAAAAAAAAAAAAAAAAAAAAAAAAAAAAAAAAAAAAAAAAAAAAAAAAAAAAAAAAAAAAAAAAAAAAAAAAAAAAAAAAAAAAAAAAAAAAAAAAAAAAAAAAAAAAAAAAAAAAAAAAAAAAAAAAAAAAAAAAAAAAAAAAAAAAAAAAAAAAAAAAAAAAAAAAAAAAAAAAAAAAAAAAAAAAAAAAAAAAAAAAAAAAAAAAAAAAAAAAAAAAAAAAAAAAAAAAAAAAAAAAAAAAAAAAAAAAAAAAAAAAAAAAAAAAAAAAAAAAAAAAAAAAAAAAAAAAAAAAAAAAAAAAAAAAAAAAAAAAAAAAAAAAAAAAAAAAAAAAAAAAAAAAAAAAAAAAAAAAAAAAAAAAAAAAAAAAAAAAAAAAAAAAAAAAAAAAAAAAAAAAAAAAAAAAAAAAAAAAAAAAAAAAAAAAAAAAAAAAAAAAAAAAAAAAAAAAAAAAAAAAAAAAAAAAAAAAAAAAAAAAAAAAAAAAAAAAAAAAAAAAAAAAAAAAAAAAAAAAAAAAAAAAAAAAAAAAAAAAAAAAAAAAAAAAAAAAAAAAAAAAAAAAAAAAAAAAAAAAAAAAAAAAAAAAAAAAAAAAAAAAAAAAAAAAAAAAAAAAAAAAAAAAAAAAAAAAAAAAAAAAAAAAAAAAAAAAAAAAAAAAAAAAAAAAAAAAAAAAAAAAAAAAAAAAAAAAAAAAAAAAAAAAAAAAAAAAAAAAAAAAAAAAAAAAAAAAAAAAAAAAAAAAAAAAAAAAAAAAAAAAAAAAAAAAAAAAAAAAAAAAAAAAAAAAAAAAAAAAAAAAAAAAAAAAAAAAAAAAAAAAAAAAAAAAAAAAAAAAAAAAAAAAAAAAAAAAAAAAAAAAAAAAAAAAAAAAAAAAAAAAAAAAAAAAAAAAAAAAAAAAAAAAAAAAAAAAAAAAAAAAAAAAAAAAAAAAAAAAAAAAAAAAAAAAAAAAAAAAAAAAAAAAAAAAAAAAAAAAAAAAAAAAAAAAAAAAAAAAAAAAAAAAAAAAAAAAAAAAAAAAAAAAAAAAAAAAAAAAAAAAAAAAAAAAAAAAAAAAAAAAAAAAAAAAAAAAAAAAAAAAAAAAAAAAAAAAAAAAAAAAAAAAAAAAAAAAAAAAAAAAAAAAAAAAAAAAAAAAAAAAAAAAAAAAAAAAAAAAAAAAAAAAAAAAAAAAAAAAAAAAAAAAAAAAAAAAAAAAAAAAAAAAAAAAAAAAAAAAAAAAAAAAAAAAAAAAAAAAAAAAAAAAAAAAAAAAAAAAAAAAAAAAAAAAAAAAAAAAAAAAAAAAAAAAAAAAAAAAAAAAAAAAAAAAAAAAAAAAAAAAAAAAAAAAAAAAAAAAAAAAAAAAAAAAAAAAAAAAAAAAAAAAAAAAAAAAAAAAAAAAAAAAAAAAAAAAAAAAAAAAAAAAAAAAAAAAAAAAAAAAAAAAAAAAAAAAAAAAAAAAAAAAAAAAAAAAAAAAAAAAAAAAAAAAAAAAAAAAAAAAAAAAAAAAAAAAAAAAAAAAAAAAAAAAAAAAAAAAAAAAAAAAAAAAAAAAAAAAAAAAAAAAAAAAAAAAAAAAAAAAAAAAAAAAAAAAAAAAAAAAAAAAAAAAAAAAAAAAAAAAAAAAAAAAAAAAAAAAAAAAAAAAAAAAAAAAAAAAAAAAAAAAAAAAAAAAAAAAAAAAAAAAAAAAAAAAAAAAAAAAAAAAAAAAAAAAAAAAAAAAAAAAAAAAAAAAAAAAAAAAAAAAAAAAAAAAAAAAAAAAAAAAAAAAAAAAAAAAAAAAAAAAAAAAAAAAAAAAAAAAAAAAAAAAAAAAAAAAAAAAAAAAAAAAAAAAAAAAAAAAAAAAAAAAAAAAAAAAAAAAAAAAAAAAAAAAAAAAAAAAAAAAAAAAAAAAAAAAAAAAAAAAAAAAAAAAAAAAAAAAAAAAAAAAAAAAAAAAAAAAAAAAAAAAAAAAAAAAAAAAAAAAAAAAAAAAAAAAAAAAAAAAAAAAAAAAAAAAAAAAAAAAAAAAAAAAAAAAAAAAAAAAAAAAAAAAAAAAAAAAAAAAAAAAAAAAAAAAAAAAAAAAAAAAAAAAAAAAAAAAAAAAAAAAAAAAAAAAAAAAAAAAAAAAAAAAAAAAAAAAAAAAAAAAAAAAAAAAAAAAAAAAAAAAAAAAAAAAAAAAAAAAAAAAAAAAAAAAAAAAAAAAAAAAAAAAAAAAAAAAAAAAAAAAAAAAAAAAAAAAAAAAAAAAAAAAAAAAAAAAAAAAAAAAAAAAAAAAAAAAAAAAAAAAAAAAAAAAAAAAAAAAAAAAAAAAAAAAAAAAAAAAAAAAAAAAAAAAAAAAAAAAAAAAAAAAAAAAAAAAAAAAAAAAAAAAAAAAAAAAAAAAAAAAAAAAAAAAAAAAAAAAAAAAAAAAAAAAAAAAAAAAAAAAAAAAAAAAAAAAAAAAAAAAAAAAAAAAAAAAAAAAAAAAAAAAAAAAAAAAAAAAAAAAAAAAAAAAAAAAAAAAAAAAAAAAAAAAAAAAAAAAAAAAAAAAAAAAAAAAAAAAAAAAAAAAAAAAAAAAAAAAAAAAAAAAAAAAAAAAAAAAAAAAAAAAAAAAAAAAAAAAAAAAAAAAAAAAAAAAAAAAAAAAAAAAAAAAAAAAAAAAAAAAAAAAAAAAAAAAAAAAAAAAAAAAAAAAAAAAAAAAAAAAAAAAAAAAAAAAAAAAAAAAAAAAAAAAAAAAAAAAAAAAAAAAAAAAAAAAAAAAAAAAAAAAAAAAAAAAAAAAAAAAAAAAAAAAAAAAAAAAAAAAAAAAAAAAAAAAAAAAAAAAAAAAAAAAAAAAAAAAAAAAAAAAAAAAAAAAAAAAAAAAAAAAAAAAAAAAAAAAAAAAAAAAAAAAAAAAAAAAAAAAAAAAAAAAAAAAAAAAAAAAAAAAAAAAAAAAAAAAAAAAAAAAAAAAAAAAAAAAAAAAAAAAAAAAAAAAAAAAAAAAAAAAAAAAAAAAAAAAAAAAAAAAAAAAAAAAAAAAAAAAAAAAAAAAAAAAAAAAAAAAAAAAAAAAAAAAAAAAAAAAAAAAAAAAAAAAAAAAAAAAAAAAAAAAAAAAAAAAAAAAAAAAAAAAAAAAAAAAAAAAAAAAAAAAAAAAAAAAAAAAAAAAAAAAAAAAAAAAAAAAAAAAAAAAAAAAAAAAAAAAAAAAAAAAAAAAAAAAAAAAAAAAAAAAAAAAAAAAAAAAAAAAAAAAAAAAAAAAAAAAAAAAAAAAAAAAAAAAAAAAAAAAAAAAAAAAAAAAAAAAAAAAAAAAAAAAAAAAAAAAAAAAAAAAAAAAAAAAAAAAAAAAAAAAAAAAAAAAAAAAAAAAAAAAAAAAAAAAAAAAAAAAAAAAAAAAAAAAAAAAAAAAAAAAAAAAAAAAAAAAAAAAAAAAAAAAAAAAAAAAAAAAAAAAAAAAAAAAAAAAAAAAAAAAAAAAAAAAAAAAAAAAAAAAAAAAAAAAAAAAAAAAAAAAAAAAAAAAAAAAAAAAAAAAAAAAAAAAAAAAAAAAAAAAAAAAAAAAAAAAAAAAAAAAAAAAAAAAAAAAAAAAAAAAAAAAAAAAAAAAAAAAAAAAAAAAAAAAAAAAAAAAAAAAAAAAAAAAAAAAAAAAAAAAAAAAAAAAAAAAAAAAAAAAAAAAAAAAAAAAAAAAAAAAAAAAAAAAAAAAAAAAAAAAAAAAAAAAAAAAAAAAAAAAAAAAAAAAAAAAAAAAAAAAAAAAAAAAAAAAAAAAAAAAAAAAAAAAAAAAAAAAAAAAAAAAAAAAAAAAAAAAAAAAAAAAAAAAAAAAAAAAAAAAAAAAAAAAAAAAAAAAAAAAAAAAAAAAAAAAAAAAAAAAAAAAAAAAAAAAAAAAAAAAAAAAAAAAAAAAAAAAAAAAAAAAAAAAAAAAAAAAAAAAAAAAAAAAAAAAAAAAAAAAAAAAAAAAAAAAAAAAAAAAAAAAAAAAAAAAAAAAAAAAAAAAAAAAAAAAAAAAAAAAAAAAAAAAAAAAAAAAAAAAAAAAAAAAAAAAAAAAAAAAAAAAAAAAAAAAAAAAAAAAAAAAAAAAAAAAAAAAAAAAAAAAAAAAAAAAAAAAAAAAAAAAAAAAAAAAAAAAAAAAAAAAAAAAAAAAAAAAAAAAAAAAAAAAAAAAAAAAAAAAAAAAAAAAAAAAAAAAAAAAAAAAAAAAAAAAAAAAAAAAAAAAAAAAAAAAAAAAAAAAAAAAAAAAAAAAAAAAAAAAAAAAAAAAAAAAAAAAAAAAAAAAAAAAAAAAAAAAAAAAAAAAAAAAAAAAAAAAAAAAAAAAAAAAAAAAAAAAAAAAAAAAAAAAAAAAAAAAAAAAAAAAAAAAAAAAAAAAAAAAAAAAAAAAAAAAAAAAAAAAAAAAAAAAAAAAAAAAAAAAAAAAAAAAAAAAAAAAAAAAAAAAAAAAAAAAAAAAAAAAAAAAAAAAAAAAAAAAAAAAAAAAAAAAAAAAAAAAAAAAAAAAAAAAAAAAAAAAAAAAAAAAAAAAAAAAAAAAAAAAAAAAAAAAAAAAAAAAAAAAAAAAAAAAAAAAAAAAAAAAAAAAAAAAAAAAAAAAAAAAAAAAAAAAAAAAAAAAAAAAAAAAAAAAAAAAAAAAAAAAAAAAAAAAAAAAAAAAAAAAAAAAAAAAAAAAAAAAAAAAAAAAAAAAAAAAAAAAAAAAAAAAAAAAAAAAAAAAAAAAAAAAAAAAAAAAAAAAAAAAAAAAAAAAAAAAAAAAAAAAAAAAAAAAAAAAAAAAAAAAAAAAAAAAAAAAAAAAAAAAAAAAAAAAAAAAAAAAAAAAAAAAAAAAAAAAAAAAAAAAAAAAAAAAAAAAAAAAAAAAAAAAAAAAAAAAAAAAAAAAAAAAAAAAAAAAAAAAAAAAAAAAAAAAAAAAAAAAAAAAAAAAAAAAAAAAAAAAAAAAAAAAAAAAAAAAAAAAAAAAAAAAAAAAAAAAAAAAAAAAAAAAAAAAAAAAAAAAAAAAAAAAAAAAAAAAAAAAAAAAAAAAAAAAAAAAAAAAAAAAAAAAAAAAAAAAAAAAAAAAAAAAAAAAAAAAAAAAAAAAAAAAAAAAAAAAAAAAAAAAAAAAAAAAAAAAAAAAAAAAAAAAAAAAAAAAAAAAAAAAAAAAAAAAAAAAAAAAAAAAAAAAAAAAAAAAAAAAAAAAAAAAAAAAAAAAAAAAAAAAAAAAAAAAAAAAAAAAAAAAAAAAAAAAAAAAAAAAAAAAAAAAAAAAAAAAAAAAAAAAAAAAAAAAAAAAAAAAAAAAAAAAAAAAAAAAAAAAAAAAAAAAAAAAAAAAAAAAAAAAAAAAAAAAAAAAAAAAAAAAAAAAAAAAAAAAAAAAAAAAAAAAAAAAAAAAAAAAAAAAAAAAAAAAAAAAAAAAAAAAAAAAAAAAAAAAAAAAAAAAAAAAAAAAAAAAAAAAAAAAAAAAAAAAAAAAAAAAAAAAAAAAAAAAAAAAAAAAAAAAAAAAAAAAAAAAAAAAAAAAAAAAAAAAAAAAAAAAAAAAAAAAAAAAAAAAAAAAAAAAAAAAAAAAAAAAAAAAAAAAAAAAAAAAAAAAAAAAAAAAAAAAAAAAAAAAAAAAAAAAAAAAAAAAAAAAAAAAAAAAAAAAAAAAAAAAAAAAAAAAAAAAAAAAAAAAAAAAAAAAAAAAAAAAAAAAAAAAAAAAAAAAAAAAAAAAAAAAAAAAAAAAAAAAAAAAAAAAAAAAAAAAAAAAAAAAAAAAAAAAAAAAAAAAAAAAAAAAAAAAAAAAAAAAAAAAAAAAAAAAAAAAAAAAAAAAAAAAAAAAAAAAAAAAAAAAAAAAAAAAAAAAAAAAAAAAAAAAAAAAAAAAAAAAAAAAAAAAAAAAAAAAAAAAAAAAAAAAAAAAAAAAAAAAAAAAAAAAAAAAAAAAAAAAAAAAAAAAAAAAAAAAAAAAAAAAAAAAAAAAAAAAAAAAAAAAAAAAAAAAAAAAAAAAAAAAAAAAAAAAAAAAAAAAAAAAAAAAAAAAAAAAAAAAAAAAAAAAAAAAAAAAAAAAAAAAAAAAAAAAAAAAAAAAAAAAAAAAAAAAAAAAAAAAAAAAAAAAAAAAAAAAAAAAAAAAAAAAAAAAAAAAAAAAAAAAAAAAAAAAAAAAAAAAAAAAAAAAAAAAAAAAAAAAAAAAAAAAAAAAAAAAAAAAAAAAAAAAAAAAAAAAAAAAAAAAAAAAAAAAAAAAAAAAAAAAAAAAAAAAAAAAAAAAAAAAAAAAAAAAAAAAAAAAAAAAAAAAAAAAAAAAAAAAAAAAAAAAAAAAAAAAAAAAAAAAAAAAAAAAAAAAAAAAAAAAAAAAAAAAAAAAAAAAAAAAAAAAAAAAAAAAAAAAAAAAAAAAAAAAAAAAAAAAAAAAAAAAAAAAAAAAAAAAAAAAAAAAAAAAAAAAAAAAAAAAAAAAAAAAAAAAAAAAAAAAAAAAAAAAAAAAAAAAAAAAAAAAAAAAAAAAAAAAAAAAAAAAAAAAAAAAAAAAAAAAAAAAAAAAAAAAAAAAAAAAAAAAAAAAAAAAAAAAAAAAAAAAAAAAAAAAAAAAAAAAAAAAAAAAAAAAAAAAAAAAAAAAAAAAAAAAAAAAAAAAAAAAAAAAAAAAAAAAAAAAAAAAAAAAAAAAAAAAAAAAAAAAAAAAAAAAAAAAAAAAAAAAAAAAAAAAAAAAAAAAAAAAAAAAAAAAAAAAAAAAAAAAAAAAAAAAAAAAAAAAAAAAAAAAAAAAAAAAAAAAAAAAAAAAAAAAAAAAAAAAAAAAAAAAAAAAAAAAAAAAAAAAAAAAAAAAAAAAAAAAAAAAAAAAAAAAAAAAAAAAAAAAAAAAAAAAAAAAAAAAAAAAAAAAAAAAAAAAAAAAAAAAAAAAAAAAAAAAAAAAAAAAAAAAAAAAAAAAAAAAAAAAAAAAAAAAAAAAAAAAAAAAAAAAAAAAAAAAAAAAAAAAAAAAAAAAAAAAAAAAAAAAAAAAAAAAAAAAAAAAAAAAAAAAAAAAAAAAAAAAAAAAAAAAAAAAAAAAAAAAAAAAAAAAAAAAAAAAAAAAAAAAAAAAAAAAAAAAAAAAAAAAAAAAAAAAAAAAAAAAAAAAAAAAAAAAAAAAAAAAAAAAAAAAAAAAAAAAAAAAAAAAAAAAAAAAAAAAAAAAAAAAAAAAAAAAAAAAAAAAAAAAAAAAAAAAAAAAAAAAAAAAAAAAAAAAAAAAAAAAAAAAAAAAAAAAAAAAAAAAAAAAAAAAAAAAAAAAAAAAAAAAAAAAAAAAAAAAAAAAAAAAAAAAAAAAAAAAAAAAAAAAAAAAAAAAAAAAAAAAAAAAAAAAAAAAAAAAAAAAAAAAAAAAAAAAAAAAAAAAAAAAAAAAAAAAAAAAAAAAAAAAAAAAAAAAAAAAAAAAAAAAAAAAAAAAAAAAAAAAAAAAAAAAAAAAAAAAAAAAAAAAAAAAAAAAAAAAAAAAAAAAAAAAAAAAAAAAAAAAAAAAAAAAAAAAAAAAAAAAAAAAAAAAAAAAAAAAAAAAAAAAAAAAAAAAAAAAAAAAAAAAAAAAAAAAAAAAAAAAAAAAAAAAAAAAAAAAAAAAAAAAAAAAAAAAAAAAAAAAAAAAAAAAAAAAAAAAAAAAAAAAAAAAAAAAAAAAAAAAAAAAAAAAAAAAAAAAAAAAAAAAAAAAAAAAAAAAAAAAAAAAAAAAAAAAAAAAAAAAAAAAAAAAAAAAAAAAAAAAAAAAAAAAAAAAAAAAAAAAAAAAAAAAAAAAAAAAAAAAAAAAAAAAAAAAAAAAAAAAAAAAAAAAAAAAAAAAAAAAAAAAAAAAAAAAAAAAAAAAAAAAAAAAAAAAAAAAAAAAAAAAAAAAAAAAAAAAAAAAAAAAAAAAAAAAAAAAAAAAAAAAAAAAAAAAAAAAAAAAAAAAAAAAAAAAAAAAAAAAAAAAAAAAAAAAAAAAAAAAAAAAAAAAAAAAAAAAAAAAAAAAAAAAAAAAAAAAAAAAAAAAAAAAAAAAAAAAAAAAAAAAAAAAAAAAAAAAAAAAAAAAAAAAAAAAAAAAAAAAAAAAAAAAAAAAAAAAAAAAAAAAAAAAAAAAAAAAAAAAAAAAAAAAAAAAAAAAAAAAAAAAAAAAAAAAAAAAAAAAAAAAAAAAAAAAAAAAAAAAAAAAAAAAAAAAAAAAAAAAAAAAAAAAAAAAAAAAAAAAAAAAAAAAAAAAAAAAAAAAAAAAAAAAAAAAAAAAAAAAAAAAAAAAAAAAAAAAAAAAAAAAAAAAAAAAAAAAAAAAAAAAAAAAAAAAAAAAAAAAAAAAAAAAAAAAAAAAAAAAAAAAAAAAAAAAAAAAAAAAAAAAAAAAAAAAAAAAAAAAAAAAAAAAAAAAAAAAAAAAAAAAAAAAAAAAAAAAAAAAAAAAAAAAAAAAAAAAAAAAAAAAAAAAAAAAAAAAAAAAAAAAAAAAAAAAAAAAAAAAAAAAAAAAAAAAAAAAAAAAAAAAAAAAAAAAAAAAAAAAAAAAAAAAAAAAAAAAAAAAAAAAAAAAAAAAAAAAAAAAAAAAAAAAAAAAAAAAAAAAAAAAAAAAAAAAAAAAAAAAAAAAAAAAAAAAAAAAAAAAAAAAAAAAAAAAAAAAAAAAAAAAAAAAAAAAAAAAAAAAAAAAAAAAAAAAAAAAAAAAAAAAAAAAAAAAAAAAAAAAAAAAAAAAAAAAAAAAAAAAAAAAAAAAAAAAAAAAAAAAAAAAAAAAAAAAAAAAAAAAAAAAAAAAAAAAAAAAAAAAAAAAAAAAAAAAAAAAAAAAAAAAAAAAAAAAAAAAAAAAAAAAAAAAAAAAAAAAAAAAAAAAAAAAAAAAAAAAAAAAAAAAAAAAAAAAAAAAAAAAAAAAAAAAAAAAAAAAAAAAAAAAAAAAAAAAAAAAAAAAAAAAAAAAAAAAAAAAAAAAAAAAAAAAAAAAAAAAAAAAAAAAAAAAAAAAAAAAAAAAAAAAAAAAAAAAAAAAAAAAAAAAAAAAAAAAAAAAAAAAAAAAAAAAAAAAAAAAAAAAAAAAAAAAAAAAAAAAAAAAAAAAAAAAAAAAAAAAAAAAAAAAAAAAAAAAAAAAAAAAAAAAAAAAAAAAAAAAAAAAAAAAAAAAAAAAAAAAAAAAAAAAAAAAAAAAAAAAAAAAAAAAAAAAAAAAAAAAAAAAAAAAAAAAAAAAAAAAAAAAAAAAAAAAAAAAAAAAAAAAAAAAAAAAAAAAAAAAAAAAAAAAAAAAAAAAAAAAAAAAAAAAAAAAAAAAAAAAAAAAAAAAAAAAAAAAAAAAAAAAAAAAAAAAAAAAAAAAAAAAAAAAAAAAAAAAAAAAAAAAAAAAAAAAAAAAAAAAAAAAAAAAAAAAAAAAAAAAAAAAAAAAAAAAAAAAAAAAAAAAAAAAAAAAAAAAAAAAAAAAAAAAAAAAAAAAAAAAAAAAAAAAAAAAAAAAAAAAAAAAAAAAAAAAAAAAAAAAAAAAAAAAAAAAAAAAAAAAAAAAAAAAAAAAAAAAAAAAAAAAAAAAAAAAAAAAAAAAAAAAAAAAAAAAAAAAAAAAAAAAAAAAAAAAAAAAAAAAAAAAAAAAAAAAAAAAAAAAAAAAAAAAAAAAAAAAAAAAAAAAAAAAAAAAAAAAAAAAAAAAAAAAAAAAAAAAAAAAAAAAAAAAAAAAAAAAAAAAAAAAAAAAAAAAAAAAAAAAAAAAAAAAAAAAAAAAAAAAAAAAAAAAAAAAAAAAAAAAAAAAAAAAAAAAAAAAAAAAAAAAAAAAAAAAAAAAAAAAAAAAAAAAAAAAAAAAAAAAAAAAAAAAAAAAAAAAAAAAAAAAAAAAAAAAAAAAAAAAAAAAAAAAAAAAAAAAAAAAAAAAAAAAAAAAAAAAAAAAAAAAAAAAAAAAAAAAAAAAAAAAAAAAAAAAAAAAAAAAAAAAAAAAAAAAAAAAAAAAAAAAAAAAAAAAAAAAAAAAAAAAAAAAAAAAAAAAAAAAAAAAAAAAAAAAAAAAAAAAAAAAAAAAAAAAAAAAAAAAAAAAAAAAAAAAAAAAAAAAAAAAAAAAAAAAAAAAAAAAAAAAAAAAAAAAAAAAAAAAAAAAAAAAAAAAAAAAAAAAAAAAAAAAAAAAAAAAAAAAAAAAAAAAAAAAAAAAAAAAAAAAAAAAAAAAAAAAAAAAAAAAAAAAAAAAAAAAAAAAAAAAAAAAAAAAAAAAAAAAAAAAAAAAAAAAAAAAAAAAAAAAAAAAAAAAAAAAAAAAAAAAAAAAAAAAAAAAAAAAAAAAAAAAAAAAAAAAAAAAAAAAAAAAAAAAAAAAAAAAAAAAAAAAAAAAAAAAAAAAAAAAAAAAAAAAAAAAAAAAAAAAAAAAAAAAAAAAAAAAAAAAAAAAAAAAAAAAAAAAAAAAAAAAAAAAAAAAAAAAAAAAAAAAAAAAAAAAAAAAAAAAAAAAAAAAAAAAAAAAAAAAAAAAAAAAAAAAAAAAAAAAAAAAAAAAAAAAAAAAAAAAAAAAAAAAAAAAAAAAAAAAAAAAAAAAAAAAAAAAAAAAAAAAAAAAAAAAAAAAAAAAAAAAAAAAAAAAAAAAAAAAAAAAAAAAAAAAAAAAAAAAAAAAAAAAAAAAAAAAAAAAAAAAAAAAAAAAAAAAAAAAAAAAAAAAAAAAAAAAAAAAAAAAAAAAAAAAAAAAAAAAAAAAAAAAAAAAAAAAAAAAAAAAAAAAAAAAAAAAAAAAAAAAAAAAAAAAAAAAAAAAAAAAAAAAAAAAAAAAAAAAAAAAAAAAAAAAAAAAAAAAAAAAAAAAAAAAAAAAAAAAAAAAAAAAAAAAAAAAAAAAAAAAAAAAAAAAAAAAAAAAAAAAAAAAAAAAAAAAAAAAAAAAAAAAAAAAAAAAAAAAAAAAAAAAAAAAAAAAAAAAAAAAAAAAAAAAAAAAAAAAAAAAAAAAAAAAAAAAAAAAAAAAAAAAAAAAAAAAAAAAAAAAAAAAAAAAAAAAAAAAAAAAAAAAAAAAAAAAAAAAAAAAAAAAAAAAAAAAAAAAAAAAAAAAAAAAAAAAAAAAAAAAAAAAAAAAAAAAAAAAAAAAAAAAAAAAAAAAAAAAAAAAAAAAAAAAAAAAAAAAAAAAAAAAAAAAAAAAAAAAAAAAAAAAAAAAAAAAAAAAAAAAAAAAAAAAAAAAAAAAAAAAAAAAAAAAAAAAAAAAAAAAAAAAAAAAAAAAAAAAAAAAAAAAAAAAAAAAAAAAAAAAAAAAAAAAAAAAAAAAAAAAAAAAAAAAAAAAAAAAAAAAAAAAAAAAAAAAAAAAAAAAAAAAAAAAAAAAAAAAAAAAAAAAAAAAAAAAAAAAAAAAAAAAAAAAAAAAAAAAAAAAAAAAAAAAAAAAAAAAAAAAAAAAAAAAAAAAAAAAAAAAAAAAAAAAAAAAAAAAAAAAAAAAAAAAAAAAAAAAAAAAAAAAAAAAAAAAAAAAAAAAAAAAAAAAAAAAAAAAAAAAAAAAAAAAAAAAAAAAAAAAAAAAAAAAAAAAAAAAAAAAAAAAAAAAAAAAAAAAAAAAAAAAAAAAAAAAAAAAAAAAAAAAAAAAAAAAAAAAAAAAAAAAAAAAAAAAAAAAAAAAAAAAAAAAAAAAAAAAAAAAAAAAAAAAAAAAAAAAAAAAAAAAAAAAAAAAAAAAAAAAAAAAAAAAAAAAAAAAAAAAAAAAAAAAAAAAAAAAAAAAAAAAAAAAAAAAAAAAAAAAAAAAAAAAAAAAAAAAAAAAAAAAAAAAAAAAAAAAAAAAAAAAAAAAAAAAAAAAAAAAAAAAAAAAAAAAAAAAAAAAAAAAAAAAAAAAAAAAAAAAAAAAAAAAAAAAAAAAAAAAAAAAAAAAAAAAAAAAAAAAAAAAAAAAAAAAAAAAAAAAAAAAAAAAAAAAAAAAAAAAAAAAAAAAAAAAAAAAAAAAAAAAAAAAAAAAAAAAAAAAAAAAAAAAAAAAAAAAAAAAAAAAAAAAAAAAAAAAAAAAAAAAAAAAAAAAAAAAAAAAAAAAAAAAAAAAAAAAAAAAAAAAAAAAAAAAAAAAAAAAAAAAAAAAAAAAAAAAAAAAAAAAAAAAAAAAAAAAAAAAAAAAAAAAAAAAAAAAAAAAAAAAAAAAAAAAAAAAAAAAAAAAAAAAAAAAAAAAAAAAAAAAAAAAAAAAAAAAAAAAAAAAAAAAAAAAAAAAAAAAAAAAAAAAAAAAAAAAAAAAAAAAAAAAAAAAAAAAAAAAAAAAAAAAAAAAAAAAAAAAAAAAAAAAAAAAAAAAAAAAAAAAAAAAAAAAAAAAAAAAAAAAAAAAAAAAAAAAAAAAAAAAAAAAAAAAAAAAAAAAAAAAAAAAAAAAAAAAAAAAAAAAAAAAAAAAAAAAAAAAAAAAAAAAAAAAAAAAAAAAAAAAAAAAAAAAAAAAAAAAAAAAAAAAAAAAAAAAAAAAAAAAAAAAAAAAAAAAAAAAAAAAAAAAAAAAAAAAAAAAAAAAAAAAAAAAAAAAAAAAAAAAAAAAAAAAAAAAAAAAAAAAAAAAAAAAAAAAAAAAAAAAAAAAAAAAAAAAAAAAAAAAAAAAAAAAAAAAAAAAAAAAAAAAAAAAAAAAAAAAAAAAAAAAAAAAAAAAAAAAAAAAAAAAAAAAAAAAAAAAAAAAAAAAAAAAAAAAAAAAAAAAAAAAAAAAAAAAAAAAAAAAAAAAAAAAAAAAAAAAAAAAAAAAAAAAAAAAAAAAAAAAAAAAAAAAAAAAAAAAAAAAAAAAAAAAAAAAAAAAAAAAAAAAAAAAAAAAAAAAAAAAAAAAAAAAAAAAAAAAAAAAAAAAAAAAAAAAAAAAAAAAAAAAAAAAAAAAAAAAAAAAAAAAAAAAAAAAAAAAAAAAAAAAAAAAAAAAAAAAAAAAAAAAAAAAAAAAAAAAAAAAAAAAAAAAAAAAAAAAAAAAAAAAAAAAAAAAAAAAAAAAAAAAAAAAAAAAAAAAAAAAAAAAAAAAAAAAAAAAAAAAAAAAAAAAAAAAAAAAAAAAAAAAAAAAAAAAAAAAAAAAAAAAAAAAAAAAAAAAAAAAAAAAAAAAAAAAAAAAAAAAAAAAAAAAAAAAAAAAAAAAAAAAAAAAAAAAAAAAAAAAAAAAAAAAAAAAAAAAAAAAAAAAAAAAAAAAAAAAAAAAAAAAAAAAAAAAAAAAAAAAAAAAAAAAAAAAAAAAAAAAAAAAAAAAAAAAAAAAAAAAAAAAAAAAAAAAAAAAAAAAAAAAAAAAAAAAAAAAAAAAAAAAAAAAAAAAAAAAAAAAAAAAAAAAAAAAAAAAAAAAAAAAAAAAAAAAAAAAAAAAAAAAAAAAAAAAAAAAAAAAAAAAAAAAAAAAAAAAAAAAAAAAAAAAAAAAAAAAAAAAAAAAAAAAAAAAAAAAAAAAAAAAAAAAAAAAAAAAAAAAAAAAAAAAAAAAAAAAAAAAAAAAAAAAAAAAAAAAAAAAAAAAAAAAAAAAAAAAAAAAAAAAAAAAAAAAAAAAAAAAAAAAAAAAAAAAAAAAAAAAAAAAAAAAAAAAAAAAAAAAAAAAAAAAAAAAAAAAAAAAAAAAAAAAAAAAAAAAAAAAAAAAAAAAAAAAAAAAAAAAAAAAAAAAAAAAAAAAAAAAAAAAAAAAAAAAAAAAAAAAAAAAAAAAAAAAAAAAAAAAAAAAAAAAAAAAAAAAAAAAAAAAAAAAAAAAAAAAAAAAAAAAAAAAAAAAAAAAAAAAAAAAAAAAAAAAAAAAAAAAAAAAAAAAAAAAAAAAAAAAAAAAAAAAAAAAAAAAAAAAAAAAAAAAAAAAAAAAAAAAAAAAAAAAAAAAAAAAAAAAAAAAAAAAAAAAAAAAAAAAAAAAAAAAAAAAAAAAAAAAAAAAAAAAAAAAAAAAAAAAAAAAAAAAAAAAAAAAAAAAAAAAAAAAAAAAAAAAAAAAAAAAAAAAAAAAAAAAAAAAAAAAAAAAAAAAAAAAAAAAAAAAAAAAAAAAAAAAAAAAAAAAAAAAAAAAAAAAAAAAAAAAAAAAAAAAAAAAAAAAAAAAAAAAAAAAAAAAAAAAAAAAAAAAAAAAAAAAAAAAAAAAAAAAAAAAAAAAAAAAAAAAAAAAAAAAAAAAAAAAAAAAAAAAAAAAAAAAAAAAAAAAAAAAAAAAAAAAAAAAAAAAAAAAAAAAAAAAAAAAAAAAAAAAAAAAAAAAAAAAAAAAAAAAAAAAAAAAAAAAAAAAAAAAAAAAAAAAAAAAAAAAAAAAAAAAAAAAAAAAAAAAAAAAAAAAAAAAAAAAAAAAAAAAAAAAAAAAAAAAAAAAAAAAAAAAAAAAAAAAAAAAAAAAAAAAAAAAAAAAAAAAAAAAAAAAAAAAAAAAAAAAAAAAAAAAAAAAAAAAAAAAAAAAAAAAAAAAAAAAAAAAAAAAAAAAAAAAAAAAAAAAAAAAAAAAAAAAAAAAAAAAAAAAAAAAAAAAAAAAAAAAAAAAAAAAAAAAAAAAAAAAAAAAAAAAAAAAAAAAAAAAAAAAAAAAAAAAAAAAAAAAAAAAAAAAAAAAAAAAAAAAAAAAAAAAAAAAAAAAAAAAAAAAAAAAAAAAAAAAAAAAAAAAAAAAAAAAAAAAAAAAAAAAAAAAAAAAAAAAAAAAAAAAAAAAAAAAAAAAAAAAAAAAAAAAAAAAAAAAAAAAAAAAAAAAAAAAAAAAAAAAAAAAAAAAAAAAAAAAAAAAAAAAAAAAAAAAAAAAAAAAAAAAAAAAAAAAAAAAAAAAAAAAAAAAAAAAAAAAAAAAAAAAAAA\" type=\"audio/wav\" />\n",
       "                    Your browser does not support the audio element.\n",
       "                </audio>\n",
       "              "
      ],
      "text/plain": [
       "<IPython.lib.display.Audio object>"
      ]
     },
     "metadata": {},
     "output_type": "display_data"
    },
    {
     "data": {
      "image/png": "[encoded data removed]",
      "text/plain": [
       "<Figure size 576x288 with 1 Axes>"
      ]
     },
     "metadata": {
      "image/png": {
       "height": 261,
       "width": 494
      },
      "needs_background": "light"
     },
     "output_type": "display_data"
    }
   ],
   "source": [
    "rand = random.randint(1,101)\n",
    "sample, samplelabel = X[rand], y[rand]\n",
    "\n",
    "\n",
    "notes, times = [], []\n",
    "for i in range(sample.shape[0]):\n",
    "    notes.append(np.argmax(sample[i,:MELODY]))\n",
    "    times.append(np.argmax(sample[i,MELODY:MELODY+TIMES]))\n",
    "notes.append(samplelabel[0])\n",
    "times.append(samplelabel[1])\n",
    "\n",
    "\n",
    "\n",
    "#look at a sample\n",
    "pm = writeMidiSample(notes, times, 'old_notebooks/treval/lookatsample.mid', file)\n",
    "plt.figure(figsize=(8, 4))\n",
    "plot_piano_roll(pm, LOW, HIGH)\n",
    "print(notes)\n",
    "print(times)\n",
    "display(IPython.display.Audio(pm.synthesize(fs=44000), rate=44000))   "
   ]
  },
  {
   "cell_type": "code",
   "execution_count": 0,
   "metadata": {
    "colab": {},
    "colab_type": "code",
    "id": "-Eyy1AH9NX7o"
   },
   "outputs": [],
   "source": [
    "#np.save('Xbig.npy',X)\n",
    "#np.save('ybig.npy',y)"
   ]
  },
  {
   "cell_type": "markdown",
   "metadata": {
    "colab_type": "text",
    "id": "aMgIdT4TNX7s"
   },
   "source": [
    "# just load"
   ]
  },
  {
   "cell_type": "code",
   "execution_count": 0,
   "metadata": {
    "colab": {},
    "colab_type": "code",
    "id": "d3o0rxw2NX7u"
   },
   "outputs": [],
   "source": [
    "X = np.load('Xbig.npy')\n",
    "y = np.load('ybig.npy')"
   ]
  },
  {
   "cell_type": "code",
   "execution_count": 23,
   "metadata": {
    "colab": {
     "base_uri": "https://localhost:8080/",
     "height": 284
    },
    "colab_type": "code",
    "id": "Uv4TY09ZDrmv",
    "outputId": "2a7b8077-6cb2-419a-fe73-6f931330ab84",
    "scrolled": false
   },
   "outputs": [
    {
     "data": {
      "text/plain": [
       "<matplotlib.axes._subplots.AxesSubplot at 0x1306f1be0>"
      ]
     },
     "execution_count": 23,
     "metadata": {},
     "output_type": "execute_result"
    },
    {
     "data": {
      "image/png": "[encoded data removed]",
      "text/plain": [
       "<Figure size 432x288 with 1 Axes>"
      ]
     },
     "metadata": {
      "image/png": {
       "height": 248,
       "width": 388
      },
      "needs_background": "light"
     },
     "output_type": "display_data"
    }
   ],
   "source": [
    "# stats of training data\n",
    "pitches = y[:,0]\n",
    "durations = y[:,1]\n",
    "sns.countplot(durations)"
   ]
  },
  {
   "cell_type": "code",
   "execution_count": 24,
   "metadata": {
    "colab": {
     "base_uri": "https://localhost:8080/",
     "height": 284
    },
    "colab_type": "code",
    "id": "uo0GQJA1Drmy",
    "outputId": "09ded831-1a45-4f91-ef0a-94925377d957",
    "scrolled": true
   },
   "outputs": [
    {
     "data": {
      "text/plain": [
       "<matplotlib.axes._subplots.AxesSubplot at 0x1308716d8>"
      ]
     },
     "execution_count": 24,
     "metadata": {},
     "output_type": "execute_result"
    },
    {
     "data": {
      "image/png": "[encoded data removed]",
      "text/plain": [
       "<Figure size 432x288 with 1 Axes>"
      ]
     },
     "metadata": {
      "image/png": {
       "height": 248,
       "width": 388
      },
      "needs_background": "light"
     },
     "output_type": "display_data"
    }
   ],
   "source": [
    "sns.countplot(pitches)"
   ]
  },
  {
   "cell_type": "code",
   "execution_count": 25,
   "metadata": {
    "colab": {
     "base_uri": "https://localhost:8080/",
     "height": 34
    },
    "colab_type": "code",
    "id": "kvY1xcgiDrm2",
    "outputId": "b99dfaac-21e4-4f42-a436-99ee1fb59d7a",
    "scrolled": false
   },
   "outputs": [
    {
     "data": {
      "text/plain": [
       "((1099, 8, 73), (1099, 2))"
      ]
     },
     "execution_count": 25,
     "metadata": {},
     "output_type": "execute_result"
    }
   ],
   "source": [
    "# train/val split\n",
    "n = 500000\n",
    "n = min(n,X.shape[0])\n",
    "m = int(0.9*n)\n",
    "data = X[:m]\n",
    "labels = y[:m]\n",
    "test_data = X[m:n]\n",
    "test_labels = y[m:n]\n",
    "\n",
    "perm = np.random.permutation(m)\n",
    "p = int(0.9*m)\n",
    "\n",
    "train_data = data[perm[:p]]\n",
    "train_labels = labels[perm[:p]]\n",
    "val_data = data[perm[p:]]\n",
    "val_labels = labels[perm[p:]]\n",
    "\n",
    "train_data.shape, train_labels.shape"
   ]
  },
  {
   "cell_type": "markdown",
   "metadata": {
    "colab_type": "text",
    "id": "b77owDQ-Drm5"
   },
   "source": [
    "### Load Data for Tensorflow"
   ]
  },
  {
   "cell_type": "code",
   "execution_count": 26,
   "metadata": {
    "colab": {},
    "colab_type": "code",
    "id": "402GwxTyNX8C"
   },
   "outputs": [],
   "source": [
    "batch_size = 32\n",
    "dataset = tf.data.Dataset.from_tensor_slices((train_data, train_labels))\n",
    "dataset = dataset.batch(batch_size, drop_remainder=True)\n",
    "valdataset = tf.data.Dataset.from_tensor_slices((val_data, val_labels))\n",
    "valdataset = valdataset.batch(batch_size, drop_remainder=True)"
   ]
  },
  {
   "cell_type": "code",
   "execution_count": 27,
   "metadata": {
    "colab": {},
    "colab_type": "code",
    "id": "0Ps1leCZDrm6",
    "scrolled": false
   },
   "outputs": [],
   "source": [
    "# ToDo\n",
    "# weighted randomsampler!\n",
    "# batchnormalization"
   ]
  },
  {
   "cell_type": "markdown",
   "metadata": {
    "colab_type": "text",
    "id": "IhxqWi8YDrm8"
   },
   "source": [
    "# C. Train a model"
   ]
  },
  {
   "cell_type": "code",
   "execution_count": 34,
   "metadata": {
    "colab": {},
    "colab_type": "code",
    "id": "XPH5jO9WNX8H"
   },
   "outputs": [],
   "source": [
    "def build(input_dim, seq_len, hidden_dim, num_layers, output_dim_pitch, output_dim_duration):\n",
    "    if tf.test.is_gpu_available():\n",
    "        LSTM = tf.keras.layers.CuDNNLSTM(hidden_dim, \n",
    "                                    return_sequences=True, \n",
    "                                    return_state=False, \n",
    "                                    recurrent_initializer='glorot_uniform')\n",
    "        lastlstm = tf.keras.layers.CuDNNLSTM(hidden_dim, \n",
    "                                    return_sequences=False, \n",
    "                                    return_state=False, \n",
    "                                    recurrent_initializer='glorot_uniform')\n",
    "    else:\n",
    "        LSTM = tf.keras.layers.LSTM(hidden_dim, \n",
    "                               return_sequences=True, \n",
    "                               return_state=False, \n",
    "                               recurrent_activation='sigmoid', \n",
    "                               recurrent_initializer='glorot_uniform')\n",
    "        lastlstm = tf.keras.layers.LSTM(hidden_dim, \n",
    "                               return_sequences=False, \n",
    "                               return_state=False, \n",
    "                               recurrent_activation='sigmoid', \n",
    "                               recurrent_initializer='glorot_uniform')\n",
    "    \n",
    "        \n",
    "    inputs = tf.keras.Input(shape=(seq_len, input_dim))\n",
    "    x = inputs\n",
    "    for i in range(num_layers-1):\n",
    "        x = LSTM(x)\n",
    "    x = lastlstm(x)\n",
    "    x = tf.keras.layers.Dropout(rate=0.3)(x)\n",
    "    pitch = tf.keras.layers.Dense(output_dim_pitch, activation='softmax', name='pitch_out')(x)\n",
    "#     duration = tf.keras.layers.Dense(output_dim_duration, activation='softmax', name='duration_out')(x)\n",
    "\n",
    "    model = tf.keras.Model(inputs=inputs, outputs=pitch)\n",
    "    return model\n",
    "    "
   ]
  },
  {
   "cell_type": "code",
   "execution_count": 35,
   "metadata": {
    "colab": {},
    "colab_type": "code",
    "id": "DcBZ0X21NX8K"
   },
   "outputs": [],
   "source": [
    "# Build Model\n",
    "model_params = {\n",
    "    'input_dim': train_data.shape[-1],\n",
    "    'seq_len': 8,\n",
    "    'hidden_dim': 64,\n",
    "    'num_layers': 2,\n",
    "    'output_dim_pitch': MELODY,\n",
    "    'output_dim_duration': TIMES,\n",
    "}\n",
    "\n",
    "model = build(**model_params)"
   ]
  },
  {
   "cell_type": "code",
   "execution_count": 30,
   "metadata": {
    "colab": {},
    "colab_type": "code",
    "id": "5VJuTqB8NX8M"
   },
   "outputs": [],
   "source": [
    "# tf.keras.utils.plot_model(model, show_shapes=True)"
   ]
  },
  {
   "cell_type": "code",
   "execution_count": 31,
   "metadata": {
    "colab": {},
    "colab_type": "code",
    "id": "mFzXM-XbNX8Q"
   },
   "outputs": [],
   "source": [
    "# checkpoint_dir = './training_checkpoints'\n",
    "# checkpoint_prefix = os.path.join(checkpoint_dir, \"ckpt\")\n",
    "# #checkpoint = tf.train.Checkpoint(optimizer=optimizer, model=model)"
   ]
  },
  {
   "cell_type": "code",
   "execution_count": 44,
   "metadata": {
    "colab": {},
    "colab_type": "code",
    "id": "yICpioTmNX8T"
   },
   "outputs": [],
   "source": [
    "model.compile(\n",
    "    optimizer='adam',\n",
    "    loss={'pitch_out': 'sparse_categorical_crossentropy'},\n",
    "    metrics={'pitch_out': 'acc'})"
   ]
  },
  {
   "cell_type": "code",
   "execution_count": 45,
   "metadata": {
    "colab": {
     "base_uri": "https://localhost:8080/",
     "height": 224
    },
    "colab_type": "code",
    "id": "15Uvd6h0NX8X",
    "outputId": "6e21f803-48ee-4a5e-bc82-f179af2ccd7b",
    "scrolled": false
   },
   "outputs": [
    {
     "name": "stdout",
     "output_type": "stream",
     "text": [
      "Epoch 1/20\n",
      "1099/1099 [==============================] - 2s 2ms/sample - loss: 0.5801 - acc: 0.8116\n",
      "Epoch 2/20\n",
      "1099/1099 [==============================] - 1s 620us/sample - loss: 0.5550 - acc: 0.8107\n",
      "Epoch 3/20\n",
      "1099/1099 [==============================] - 1s 560us/sample - loss: 0.4857 - acc: 0.8435\n",
      "Epoch 4/20\n",
      "1099/1099 [==============================] - 1s 617us/sample - loss: 0.4612 - acc: 0.8435\n",
      "Epoch 5/20\n",
      "1099/1099 [==============================] - 1s 582us/sample - loss: 0.4759 - acc: 0.8490\n",
      "Epoch 6/20\n",
      "1099/1099 [==============================] - 1s 598us/sample - loss: 0.4596 - acc: 0.8417\n",
      "Epoch 7/20\n",
      "1099/1099 [==============================] - 1s 605us/sample - loss: 0.4309 - acc: 0.8681\n",
      "Epoch 8/20\n",
      "1099/1099 [==============================] - 1s 589us/sample - loss: 0.4094 - acc: 0.8708\n",
      "Epoch 9/20\n",
      "1099/1099 [==============================] - 1s 616us/sample - loss: 0.4117 - acc: 0.8753\n",
      "Epoch 10/20\n",
      "1099/1099 [==============================] - 1s 801us/sample - loss: 0.3995 - acc: 0.8753\n",
      "Epoch 11/20\n",
      "1099/1099 [==============================] - 1s 729us/sample - loss: 0.3927 - acc: 0.8735\n",
      "Epoch 12/20\n",
      "1099/1099 [==============================] - 1s 738us/sample - loss: 0.3828 - acc: 0.8781\n",
      "Epoch 13/20\n",
      "1099/1099 [==============================] - 1s 995us/sample - loss: 0.3527 - acc: 0.8835\n",
      "Epoch 14/20\n",
      "1099/1099 [==============================] - 1s 705us/sample - loss: 0.3519 - acc: 0.9045\n",
      "Epoch 15/20\n",
      "1099/1099 [==============================] - 1s 725us/sample - loss: 0.3539 - acc: 0.8844s - loss: 0.3101 \n",
      "Epoch 16/20\n",
      "1099/1099 [==============================] - 1s 627us/sample - loss: 0.3677 - acc: 0.8808\n",
      "Epoch 17/20\n",
      "1099/1099 [==============================] - 1s 617us/sample - loss: 0.3107 - acc: 0.9108\n",
      "Epoch 18/20\n",
      "1099/1099 [==============================] - 1s 661us/sample - loss: 0.3089 - acc: 0.9072\n",
      "Epoch 19/20\n",
      "1099/1099 [==============================] - 1s 709us/sample - loss: 0.3331 - acc: 0.8935\n",
      "Epoch 20/20\n",
      "1099/1099 [==============================] - 1s 607us/sample - loss: 0.3133 - acc: 0.9017\n"
     ]
    },
    {
     "data": {
      "text/plain": [
       "<tensorflow.python.keras.callbacks.History at 0x134e27b00>"
      ]
     },
     "execution_count": 45,
     "metadata": {},
     "output_type": "execute_result"
    }
   ],
   "source": [
    "model.fit(train_data, train_labels[:,0], batch_size=32, epochs=20)"
   ]
  },
  {
   "cell_type": "code",
   "execution_count": 46,
   "metadata": {
    "colab": {
     "base_uri": "https://localhost:8080/",
     "height": 71
    },
    "colab_type": "code",
    "id": "eG2iMqmTNX8a",
    "outputId": "fd88fa97-813f-40b3-e6e0-73804ffd8272",
    "scrolled": true
   },
   "outputs": [
    {
     "name": "stdout",
     "output_type": "stream",
     "text": [
      "123/123 [==============================] - 1s 5ms/sample - loss: 2.9465 - acc: 0.4065\n"
     ]
    },
    {
     "data": {
      "text/plain": [
       "[2.9464889890779324, 0.40650406]"
      ]
     },
     "execution_count": 46,
     "metadata": {},
     "output_type": "execute_result"
    }
   ],
   "source": [
    "model.evaluate(val_data,val_labels[:,0])"
   ]
  },
  {
   "cell_type": "code",
   "execution_count": 47,
   "metadata": {
    "colab": {
     "base_uri": "https://localhost:8080/",
     "height": 71
    },
    "colab_type": "code",
    "id": "CUZLuoapNX8e",
    "outputId": "cc96d46f-9520-4052-e172-d85e8c464f02"
   },
   "outputs": [
    {
     "name": "stdout",
     "output_type": "stream",
     "text": [
      "136/136 [==============================] - 0s 324us/sample - loss: 4.1552 - acc: 0.1912\n"
     ]
    },
    {
     "data": {
      "text/plain": [
       "[4.155161128324621, 0.19117647]"
      ]
     },
     "execution_count": 47,
     "metadata": {},
     "output_type": "execute_result"
    }
   ],
   "source": [
    "model.evaluate(test_data,test_labels[:,0])"
   ]
  },
  {
   "cell_type": "code",
   "execution_count": 89,
   "metadata": {
    "colab": {},
    "colab_type": "code",
    "id": "u_3MYYPpNX8g",
    "scrolled": true
   },
   "outputs": [],
   "source": [
    "# model.save('deploy/tfjs/model3.h5')"
   ]
  },
  {
   "cell_type": "code",
   "execution_count": 0,
   "metadata": {
    "colab": {},
    "colab_type": "code",
    "id": "dUHng5XMNX8l"
   },
   "outputs": [],
   "source": [
    "# tensorflowjs_converter --input_format keras \\\n",
    "#                        path/to/my_model.h5 \\\n",
    "#                        path/to/tfjs_target_dir\n",
    "# \n",
    "# python -m SimpleHTTPServer 8000"
   ]
  },
  {
   "cell_type": "code",
   "execution_count": 53,
   "metadata": {},
   "outputs": [],
   "source": [
    "# Test Example: one prediction"
   ]
  },
  {
   "cell_type": "code",
   "execution_count": 65,
   "metadata": {},
   "outputs": [],
   "source": [
    "keys_chroma = ['C','C#','D','D#','E','F','F#','G','G#','A','A#','B',\n",
    "        'C-','C#-','D-','D#-','E-','F-','F#-','G-','G#-','A-','A#-','B-']\n",
    "keys_chroma_dict = dict(enumerate(keys_chroma))\n",
    "keys_chroma_dict_reverse = {v: k for k, v in keys_chroma_dict.items()}\n",
    "def getPitch(note):\n",
    "    return keys_chroma_dict[note%12]"
   ]
  },
  {
   "cell_type": "code",
   "execution_count": 87,
   "metadata": {
    "colab": {},
    "colab_type": "code",
    "id": "rrUapn9JNX8o"
   },
   "outputs": [
    {
     "data": {
      "text/plain": [
       "['D', 'C', 'A', 'E', 'D', 'A#', 'A#', 'A']"
      ]
     },
     "metadata": {},
     "output_type": "display_data"
    },
    {
     "data": {
      "text/plain": [
       "'A'"
      ]
     },
     "metadata": {},
     "output_type": "display_data"
    },
    {
     "data": {
      "text/plain": [
       "'A#'"
      ]
     },
     "metadata": {},
     "output_type": "display_data"
    },
    {
     "data": {
      "text/plain": [
       "['C', 'A', 'E', 'D', 'A#', 'A#', 'A', 'A#']"
      ]
     },
     "metadata": {},
     "output_type": "display_data"
    },
    {
     "data": {
      "text/plain": [
       "'A'"
      ]
     },
     "metadata": {},
     "output_type": "display_data"
    },
    {
     "data": {
      "text/plain": [
       "'F'"
      ]
     },
     "metadata": {},
     "output_type": "display_data"
    },
    {
     "data": {
      "text/plain": [
       "['A', 'E', 'D', 'A#', 'A#', 'A', 'A#', 'F']"
      ]
     },
     "metadata": {},
     "output_type": "display_data"
    },
    {
     "data": {
      "text/plain": [
       "'G'"
      ]
     },
     "metadata": {},
     "output_type": "display_data"
    },
    {
     "data": {
      "text/plain": [
       "'F'"
      ]
     },
     "metadata": {},
     "output_type": "display_data"
    },
    {
     "data": {
      "text/plain": [
       "['E', 'D', 'A#', 'A#', 'A', 'A#', 'F', 'F']"
      ]
     },
     "metadata": {},
     "output_type": "display_data"
    },
    {
     "data": {
      "text/plain": [
       "'A'"
      ]
     },
     "metadata": {},
     "output_type": "display_data"
    },
    {
     "data": {
      "text/plain": [
       "'C'"
      ]
     },
     "metadata": {},
     "output_type": "display_data"
    },
    {
     "data": {
      "text/plain": [
       "['D', 'A#', 'A#', 'A', 'A#', 'F', 'F', 'C']"
      ]
     },
     "metadata": {},
     "output_type": "display_data"
    },
    {
     "data": {
      "text/plain": [
       "'A'"
      ]
     },
     "metadata": {},
     "output_type": "display_data"
    },
    {
     "data": {
      "text/plain": [
       "'A'"
      ]
     },
     "metadata": {},
     "output_type": "display_data"
    },
    {
     "data": {
      "text/plain": [
       "['A#', 'A#', 'A', 'A#', 'F', 'F', 'C', 'A']"
      ]
     },
     "metadata": {},
     "output_type": "display_data"
    },
    {
     "data": {
      "text/plain": [
       "'A'"
      ]
     },
     "metadata": {},
     "output_type": "display_data"
    },
    {
     "data": {
      "text/plain": [
       "'A'"
      ]
     },
     "metadata": {},
     "output_type": "display_data"
    },
    {
     "data": {
      "text/plain": [
       "['A#', 'A', 'A#', 'F', 'F', 'C', 'A', 'A']"
      ]
     },
     "metadata": {},
     "output_type": "display_data"
    },
    {
     "data": {
      "text/plain": [
       "'A'"
      ]
     },
     "metadata": {},
     "output_type": "display_data"
    },
    {
     "data": {
      "text/plain": [
       "'A'"
      ]
     },
     "metadata": {},
     "output_type": "display_data"
    },
    {
     "data": {
      "text/plain": [
       "['A', 'A#', 'F', 'F', 'C', 'A', 'A', 'A']"
      ]
     },
     "metadata": {},
     "output_type": "display_data"
    },
    {
     "data": {
      "text/plain": [
       "'A'"
      ]
     },
     "metadata": {},
     "output_type": "display_data"
    },
    {
     "data": {
      "text/plain": [
       "'D'"
      ]
     },
     "metadata": {},
     "output_type": "display_data"
    },
    {
     "data": {
      "text/plain": [
       "['A#', 'F', 'F', 'C', 'A', 'A', 'A', 'D']"
      ]
     },
     "metadata": {},
     "output_type": "display_data"
    },
    {
     "data": {
      "text/plain": [
       "'G'"
      ]
     },
     "metadata": {},
     "output_type": "display_data"
    },
    {
     "data": {
      "text/plain": [
       "'A'"
      ]
     },
     "metadata": {},
     "output_type": "display_data"
    },
    {
     "data": {
      "text/plain": [
       "['F', 'F', 'C', 'A', 'A', 'A', 'D', 'A']"
      ]
     },
     "metadata": {},
     "output_type": "display_data"
    },
    {
     "data": {
      "text/plain": [
       "'G'"
      ]
     },
     "metadata": {},
     "output_type": "display_data"
    },
    {
     "data": {
      "text/plain": [
       "'G'"
      ]
     },
     "metadata": {},
     "output_type": "display_data"
    },
    {
     "data": {
      "text/plain": [
       "['F', 'C', 'A', 'A', 'A', 'D', 'A', 'G']"
      ]
     },
     "metadata": {},
     "output_type": "display_data"
    },
    {
     "data": {
      "text/plain": [
       "'G'"
      ]
     },
     "metadata": {},
     "output_type": "display_data"
    },
    {
     "data": {
      "text/plain": [
       "'F'"
      ]
     },
     "metadata": {},
     "output_type": "display_data"
    },
    {
     "data": {
      "text/plain": [
       "['C', 'A', 'A', 'A', 'D', 'A', 'G', 'F']"
      ]
     },
     "metadata": {},
     "output_type": "display_data"
    },
    {
     "data": {
      "text/plain": [
       "'F'"
      ]
     },
     "metadata": {},
     "output_type": "display_data"
    },
    {
     "data": {
      "text/plain": [
       "'F'"
      ]
     },
     "metadata": {},
     "output_type": "display_data"
    },
    {
     "data": {
      "text/plain": [
       "['A', 'A', 'A', 'D', 'A', 'G', 'F', 'F']"
      ]
     },
     "metadata": {},
     "output_type": "display_data"
    },
    {
     "data": {
      "text/plain": [
       "'G'"
      ]
     },
     "metadata": {},
     "output_type": "display_data"
    },
    {
     "data": {
      "text/plain": [
       "'G'"
      ]
     },
     "metadata": {},
     "output_type": "display_data"
    },
    {
     "data": {
      "text/plain": [
       "['A', 'A', 'D', 'A', 'G', 'F', 'F', 'G']"
      ]
     },
     "metadata": {},
     "output_type": "display_data"
    },
    {
     "data": {
      "text/plain": [
       "'A'"
      ]
     },
     "metadata": {},
     "output_type": "display_data"
    },
    {
     "data": {
      "text/plain": [
       "'A'"
      ]
     },
     "metadata": {},
     "output_type": "display_data"
    },
    {
     "data": {
      "text/plain": [
       "['A', 'D', 'A', 'G', 'F', 'F', 'G', 'A']"
      ]
     },
     "metadata": {},
     "output_type": "display_data"
    },
    {
     "data": {
      "text/plain": [
       "'A'"
      ]
     },
     "metadata": {},
     "output_type": "display_data"
    },
    {
     "data": {
      "text/plain": [
       "'A'"
      ]
     },
     "metadata": {},
     "output_type": "display_data"
    },
    {
     "data": {
      "text/plain": [
       "['D', 'A', 'G', 'F', 'F', 'G', 'A', 'A']"
      ]
     },
     "metadata": {},
     "output_type": "display_data"
    },
    {
     "data": {
      "text/plain": [
       "'A'"
      ]
     },
     "metadata": {},
     "output_type": "display_data"
    },
    {
     "data": {
      "text/plain": [
       "'A'"
      ]
     },
     "metadata": {},
     "output_type": "display_data"
    },
    {
     "data": {
      "text/plain": [
       "['C', 'E', 'F', 'E', 'G', 'G', 'G', 'C']"
      ]
     },
     "metadata": {},
     "output_type": "display_data"
    },
    {
     "data": {
      "text/plain": [
       "'F'"
      ]
     },
     "metadata": {},
     "output_type": "display_data"
    },
    {
     "data": {
      "text/plain": [
       "'G'"
      ]
     },
     "metadata": {},
     "output_type": "display_data"
    },
    {
     "data": {
      "text/plain": [
       "['E', 'F', 'E', 'G', 'G', 'G', 'C', 'G']"
      ]
     },
     "metadata": {},
     "output_type": "display_data"
    },
    {
     "data": {
      "text/plain": [
       "'F'"
      ]
     },
     "metadata": {},
     "output_type": "display_data"
    },
    {
     "data": {
      "text/plain": [
       "'G'"
      ]
     },
     "metadata": {},
     "output_type": "display_data"
    },
    {
     "data": {
      "text/plain": [
       "['F', 'E', 'G', 'G', 'G', 'C', 'G', 'G']"
      ]
     },
     "metadata": {},
     "output_type": "display_data"
    },
    {
     "data": {
      "text/plain": [
       "'C'"
      ]
     },
     "metadata": {},
     "output_type": "display_data"
    },
    {
     "data": {
      "text/plain": [
       "'F'"
      ]
     },
     "metadata": {},
     "output_type": "display_data"
    },
    {
     "data": {
      "text/plain": [
       "['E', 'G', 'G', 'G', 'C', 'G', 'G', 'F']"
      ]
     },
     "metadata": {},
     "output_type": "display_data"
    },
    {
     "data": {
      "text/plain": [
       "'E'"
      ]
     },
     "metadata": {},
     "output_type": "display_data"
    },
    {
     "data": {
      "text/plain": [
       "'G'"
      ]
     },
     "metadata": {},
     "output_type": "display_data"
    },
    {
     "data": {
      "text/plain": [
       "['G', 'G', 'G', 'C', 'G', 'G', 'F', 'G']"
      ]
     },
     "metadata": {},
     "output_type": "display_data"
    },
    {
     "data": {
      "text/plain": [
       "'A'"
      ]
     },
     "metadata": {},
     "output_type": "display_data"
    },
    {
     "data": {
      "text/plain": [
       "'A#'"
      ]
     },
     "metadata": {},
     "output_type": "display_data"
    },
    {
     "data": {
      "text/plain": [
       "['G', 'G', 'C', 'G', 'G', 'F', 'G', 'A#']"
      ]
     },
     "metadata": {},
     "output_type": "display_data"
    },
    {
     "data": {
      "text/plain": [
       "'F'"
      ]
     },
     "metadata": {},
     "output_type": "display_data"
    },
    {
     "data": {
      "text/plain": [
       "'G'"
      ]
     },
     "metadata": {},
     "output_type": "display_data"
    },
    {
     "data": {
      "text/plain": [
       "['G', 'C', 'G', 'G', 'F', 'G', 'A#', 'G']"
      ]
     },
     "metadata": {},
     "output_type": "display_data"
    },
    {
     "data": {
      "text/plain": [
       "'C'"
      ]
     },
     "metadata": {},
     "output_type": "display_data"
    },
    {
     "data": {
      "text/plain": [
       "'F'"
      ]
     },
     "metadata": {},
     "output_type": "display_data"
    },
    {
     "data": {
      "text/plain": [
       "['C', 'G', 'G', 'F', 'G', 'A#', 'G', 'F']"
      ]
     },
     "metadata": {},
     "output_type": "display_data"
    },
    {
     "data": {
      "text/plain": [
       "'C'"
      ]
     },
     "metadata": {},
     "output_type": "display_data"
    },
    {
     "data": {
      "text/plain": [
       "'G'"
      ]
     },
     "metadata": {},
     "output_type": "display_data"
    },
    {
     "data": {
      "text/plain": [
       "['G', 'G', 'F', 'G', 'A#', 'G', 'F', 'G']"
      ]
     },
     "metadata": {},
     "output_type": "display_data"
    },
    {
     "data": {
      "text/plain": [
       "'C'"
      ]
     },
     "metadata": {},
     "output_type": "display_data"
    },
    {
     "data": {
      "text/plain": [
       "'F'"
      ]
     },
     "metadata": {},
     "output_type": "display_data"
    },
    {
     "data": {
      "text/plain": [
       "['G', 'F', 'G', 'A#', 'G', 'F', 'G', 'F']"
      ]
     },
     "metadata": {},
     "output_type": "display_data"
    },
    {
     "data": {
      "text/plain": [
       "'A'"
      ]
     },
     "metadata": {},
     "output_type": "display_data"
    },
    {
     "data": {
      "text/plain": [
       "'E'"
      ]
     },
     "metadata": {},
     "output_type": "display_data"
    },
    {
     "data": {
      "text/plain": [
       "['F', 'G', 'A#', 'G', 'F', 'G', 'F', 'E']"
      ]
     },
     "metadata": {},
     "output_type": "display_data"
    },
    {
     "data": {
      "text/plain": [
       "'A'"
      ]
     },
     "metadata": {},
     "output_type": "display_data"
    },
    {
     "data": {
      "text/plain": [
       "'C'"
      ]
     },
     "metadata": {},
     "output_type": "display_data"
    },
    {
     "data": {
      "text/plain": [
       "['G', 'A#', 'G', 'F', 'G', 'F', 'E', 'C']"
      ]
     },
     "metadata": {},
     "output_type": "display_data"
    },
    {
     "data": {
      "text/plain": [
       "'A'"
      ]
     },
     "metadata": {},
     "output_type": "display_data"
    },
    {
     "data": {
      "text/plain": [
       "'E'"
      ]
     },
     "metadata": {},
     "output_type": "display_data"
    },
    {
     "data": {
      "text/plain": [
       "['A#', 'G', 'F', 'G', 'F', 'E', 'C', 'E']"
      ]
     },
     "metadata": {},
     "output_type": "display_data"
    },
    {
     "data": {
      "text/plain": [
       "'F'"
      ]
     },
     "metadata": {},
     "output_type": "display_data"
    },
    {
     "data": {
      "text/plain": [
       "'F'"
      ]
     },
     "metadata": {},
     "output_type": "display_data"
    },
    {
     "data": {
      "text/plain": [
       "['G', 'F', 'G', 'F', 'E', 'C', 'E', 'F']"
      ]
     },
     "metadata": {},
     "output_type": "display_data"
    },
    {
     "data": {
      "text/plain": [
       "'F'"
      ]
     },
     "metadata": {},
     "output_type": "display_data"
    },
    {
     "data": {
      "text/plain": [
       "'E'"
      ]
     },
     "metadata": {},
     "output_type": "display_data"
    },
    {
     "data": {
      "text/plain": [
       "['F', 'G', 'F', 'E', 'C', 'E', 'F', 'E']"
      ]
     },
     "metadata": {},
     "output_type": "display_data"
    },
    {
     "data": {
      "text/plain": [
       "'F'"
      ]
     },
     "metadata": {},
     "output_type": "display_data"
    },
    {
     "data": {
      "text/plain": [
       "'G'"
      ]
     },
     "metadata": {},
     "output_type": "display_data"
    },
    {
     "data": {
      "text/plain": [
       "['G', 'F', 'E', 'C', 'E', 'F', 'E', 'G']"
      ]
     },
     "metadata": {},
     "output_type": "display_data"
    },
    {
     "data": {
      "text/plain": [
       "'F'"
      ]
     },
     "metadata": {},
     "output_type": "display_data"
    },
    {
     "data": {
      "text/plain": [
       "'G'"
      ]
     },
     "metadata": {},
     "output_type": "display_data"
    },
    {
     "data": {
      "text/plain": [
       "['F', 'E', 'C', 'E', 'F', 'E', 'G', 'G']"
      ]
     },
     "metadata": {},
     "output_type": "display_data"
    },
    {
     "data": {
      "text/plain": [
       "'F'"
      ]
     },
     "metadata": {},
     "output_type": "display_data"
    },
    {
     "data": {
      "text/plain": [
       "'G'"
      ]
     },
     "metadata": {},
     "output_type": "display_data"
    },
    {
     "data": {
      "text/plain": [
       "['E', 'C', 'E', 'F', 'E', 'G', 'G', 'G']"
      ]
     },
     "metadata": {},
     "output_type": "display_data"
    },
    {
     "data": {
      "text/plain": [
       "'G'"
      ]
     },
     "metadata": {},
     "output_type": "display_data"
    },
    {
     "data": {
      "text/plain": [
       "'C'"
      ]
     },
     "metadata": {},
     "output_type": "display_data"
    },
    {
     "data": {
      "text/plain": [
       "['C', 'E', 'F', 'E', 'G', 'G', 'G', 'C']"
      ]
     },
     "metadata": {},
     "output_type": "display_data"
    },
    {
     "data": {
      "text/plain": [
       "'F'"
      ]
     },
     "metadata": {},
     "output_type": "display_data"
    },
    {
     "data": {
      "text/plain": [
       "'G'"
      ]
     },
     "metadata": {},
     "output_type": "display_data"
    },
    {
     "data": {
      "text/plain": [
       "['E', 'F', 'E', 'G', 'G', 'G', 'C', 'G']"
      ]
     },
     "metadata": {},
     "output_type": "display_data"
    },
    {
     "data": {
      "text/plain": [
       "'F'"
      ]
     },
     "metadata": {},
     "output_type": "display_data"
    },
    {
     "data": {
      "text/plain": [
       "'G'"
      ]
     },
     "metadata": {},
     "output_type": "display_data"
    },
    {
     "data": {
      "text/plain": [
       "['F', 'E', 'G', 'G', 'G', 'C', 'G', 'G']"
      ]
     },
     "metadata": {},
     "output_type": "display_data"
    },
    {
     "data": {
      "text/plain": [
       "'C'"
      ]
     },
     "metadata": {},
     "output_type": "display_data"
    },
    {
     "data": {
      "text/plain": [
       "'F'"
      ]
     },
     "metadata": {},
     "output_type": "display_data"
    },
    {
     "data": {
      "text/plain": [
       "['E', 'G', 'G', 'G', 'C', 'G', 'G', 'F']"
      ]
     },
     "metadata": {},
     "output_type": "display_data"
    },
    {
     "data": {
      "text/plain": [
       "'E'"
      ]
     },
     "metadata": {},
     "output_type": "display_data"
    },
    {
     "data": {
      "text/plain": [
       "'G'"
      ]
     },
     "metadata": {},
     "output_type": "display_data"
    },
    {
     "data": {
      "text/plain": [
       "['G', 'G', 'G', 'C', 'G', 'G', 'F', 'G']"
      ]
     },
     "metadata": {},
     "output_type": "display_data"
    },
    {
     "data": {
      "text/plain": [
       "'A'"
      ]
     },
     "metadata": {},
     "output_type": "display_data"
    },
    {
     "data": {
      "text/plain": [
       "'A#'"
      ]
     },
     "metadata": {},
     "output_type": "display_data"
    },
    {
     "data": {
      "text/plain": [
       "['G', 'G', 'C', 'G', 'G', 'F', 'G', 'A#']"
      ]
     },
     "metadata": {},
     "output_type": "display_data"
    },
    {
     "data": {
      "text/plain": [
       "'F'"
      ]
     },
     "metadata": {},
     "output_type": "display_data"
    },
    {
     "data": {
      "text/plain": [
       "'G'"
      ]
     },
     "metadata": {},
     "output_type": "display_data"
    },
    {
     "data": {
      "text/plain": [
       "['C', 'C', 'B', 'E', 'D', 'D', 'C', 'C']"
      ]
     },
     "metadata": {},
     "output_type": "display_data"
    },
    {
     "data": {
      "text/plain": [
       "'G'"
      ]
     },
     "metadata": {},
     "output_type": "display_data"
    },
    {
     "data": {
      "text/plain": [
       "'A'"
      ]
     },
     "metadata": {},
     "output_type": "display_data"
    },
    {
     "data": {
      "text/plain": [
       "['C', 'B', 'E', 'D', 'D', 'C', 'C', 'A']"
      ]
     },
     "metadata": {},
     "output_type": "display_data"
    },
    {
     "data": {
      "text/plain": [
       "'D'"
      ]
     },
     "metadata": {},
     "output_type": "display_data"
    },
    {
     "data": {
      "text/plain": [
       "'C'"
      ]
     },
     "metadata": {},
     "output_type": "display_data"
    },
    {
     "data": {
      "text/plain": [
       "['B', 'E', 'D', 'D', 'C', 'C', 'A', 'C']"
      ]
     },
     "metadata": {},
     "output_type": "display_data"
    },
    {
     "data": {
      "text/plain": [
       "'D'"
      ]
     },
     "metadata": {},
     "output_type": "display_data"
    },
    {
     "data": {
      "text/plain": [
       "'E'"
      ]
     },
     "metadata": {},
     "output_type": "display_data"
    },
    {
     "data": {
      "text/plain": [
       "['E', 'D', 'D', 'C', 'C', 'A', 'C', 'E']"
      ]
     },
     "metadata": {},
     "output_type": "display_data"
    },
    {
     "data": {
      "text/plain": [
       "'C'"
      ]
     },
     "metadata": {},
     "output_type": "display_data"
    },
    {
     "data": {
      "text/plain": [
       "'D'"
      ]
     },
     "metadata": {},
     "output_type": "display_data"
    },
    {
     "data": {
      "text/plain": [
       "['D', 'D', 'C', 'C', 'A', 'C', 'E', 'D']"
      ]
     },
     "metadata": {},
     "output_type": "display_data"
    },
    {
     "data": {
      "text/plain": [
       "'C'"
      ]
     },
     "metadata": {},
     "output_type": "display_data"
    },
    {
     "data": {
      "text/plain": [
       "'D'"
      ]
     },
     "metadata": {},
     "output_type": "display_data"
    },
    {
     "data": {
      "text/plain": [
       "['D', 'C', 'C', 'A', 'C', 'E', 'D', 'D']"
      ]
     },
     "metadata": {},
     "output_type": "display_data"
    },
    {
     "data": {
      "text/plain": [
       "'C'"
      ]
     },
     "metadata": {},
     "output_type": "display_data"
    },
    {
     "data": {
      "text/plain": [
       "'C'"
      ]
     },
     "metadata": {},
     "output_type": "display_data"
    },
    {
     "data": {
      "text/plain": [
       "['C', 'C', 'A', 'C', 'E', 'D', 'D', 'C']"
      ]
     },
     "metadata": {},
     "output_type": "display_data"
    },
    {
     "data": {
      "text/plain": [
       "'C'"
      ]
     },
     "metadata": {},
     "output_type": "display_data"
    },
    {
     "data": {
      "text/plain": [
       "'A'"
      ]
     },
     "metadata": {},
     "output_type": "display_data"
    },
    {
     "data": {
      "text/plain": [
       "['C', 'A', 'C', 'E', 'D', 'D', 'C', 'A']"
      ]
     },
     "metadata": {},
     "output_type": "display_data"
    },
    {
     "data": {
      "text/plain": [
       "'D'"
      ]
     },
     "metadata": {},
     "output_type": "display_data"
    },
    {
     "data": {
      "text/plain": [
       "'C'"
      ]
     },
     "metadata": {},
     "output_type": "display_data"
    },
    {
     "data": {
      "text/plain": [
       "['A', 'C', 'E', 'D', 'D', 'C', 'A', 'C']"
      ]
     },
     "metadata": {},
     "output_type": "display_data"
    },
    {
     "data": {
      "text/plain": [
       "'D'"
      ]
     },
     "metadata": {},
     "output_type": "display_data"
    },
    {
     "data": {
      "text/plain": [
       "'A'"
      ]
     },
     "metadata": {},
     "output_type": "display_data"
    },
    {
     "data": {
      "text/plain": [
       "['C', 'E', 'D', 'D', 'C', 'A', 'C', 'A']"
      ]
     },
     "metadata": {},
     "output_type": "display_data"
    },
    {
     "data": {
      "text/plain": [
       "'E'"
      ]
     },
     "metadata": {},
     "output_type": "display_data"
    },
    {
     "data": {
      "text/plain": [
       "'C'"
      ]
     },
     "metadata": {},
     "output_type": "display_data"
    },
    {
     "data": {
      "text/plain": [
       "['E', 'D', 'D', 'C', 'A', 'C', 'A', 'C']"
      ]
     },
     "metadata": {},
     "output_type": "display_data"
    },
    {
     "data": {
      "text/plain": [
       "'E'"
      ]
     },
     "metadata": {},
     "output_type": "display_data"
    },
    {
     "data": {
      "text/plain": [
       "'A'"
      ]
     },
     "metadata": {},
     "output_type": "display_data"
    },
    {
     "data": {
      "text/plain": [
       "['D', 'D', 'C', 'A', 'C', 'A', 'C', 'A']"
      ]
     },
     "metadata": {},
     "output_type": "display_data"
    },
    {
     "data": {
      "text/plain": [
       "'B'"
      ]
     },
     "metadata": {},
     "output_type": "display_data"
    },
    {
     "data": {
      "text/plain": [
       "'E'"
      ]
     },
     "metadata": {},
     "output_type": "display_data"
    },
    {
     "data": {
      "text/plain": [
       "['D', 'C', 'A', 'C', 'A', 'C', 'A', 'E']"
      ]
     },
     "metadata": {},
     "output_type": "display_data"
    },
    {
     "data": {
      "text/plain": [
       "'E'"
      ]
     },
     "metadata": {},
     "output_type": "display_data"
    },
    {
     "data": {
      "text/plain": [
       "'D'"
      ]
     },
     "metadata": {},
     "output_type": "display_data"
    },
    {
     "data": {
      "text/plain": [
       "['C', 'A', 'C', 'A', 'C', 'A', 'E', 'D']"
      ]
     },
     "metadata": {},
     "output_type": "display_data"
    },
    {
     "data": {
      "text/plain": [
       "'F'"
      ]
     },
     "metadata": {},
     "output_type": "display_data"
    },
    {
     "data": {
      "text/plain": [
       "'D'"
      ]
     },
     "metadata": {},
     "output_type": "display_data"
    },
    {
     "data": {
      "text/plain": [
       "['A', 'C', 'A', 'C', 'A', 'E', 'D', 'D']"
      ]
     },
     "metadata": {},
     "output_type": "display_data"
    },
    {
     "data": {
      "text/plain": [
       "'G'"
      ]
     },
     "metadata": {},
     "output_type": "display_data"
    },
    {
     "data": {
      "text/plain": [
       "'B'"
      ]
     },
     "metadata": {},
     "output_type": "display_data"
    },
    {
     "data": {
      "text/plain": [
       "['C', 'A', 'C', 'A', 'E', 'D', 'D', 'B']"
      ]
     },
     "metadata": {},
     "output_type": "display_data"
    },
    {
     "data": {
      "text/plain": [
       "'C'"
      ]
     },
     "metadata": {},
     "output_type": "display_data"
    },
    {
     "data": {
      "text/plain": [
       "'A'"
      ]
     },
     "metadata": {},
     "output_type": "display_data"
    },
    {
     "data": {
      "text/plain": [
       "['A', 'A', 'C', 'A#', 'F', 'E', 'A', 'E']"
      ]
     },
     "metadata": {},
     "output_type": "display_data"
    },
    {
     "data": {
      "text/plain": [
       "'G'"
      ]
     },
     "metadata": {},
     "output_type": "display_data"
    },
    {
     "data": {
      "text/plain": [
       "'E'"
      ]
     },
     "metadata": {},
     "output_type": "display_data"
    },
    {
     "data": {
      "text/plain": [
       "['A', 'C', 'A#', 'F', 'E', 'A', 'E', 'E']"
      ]
     },
     "metadata": {},
     "output_type": "display_data"
    },
    {
     "data": {
      "text/plain": [
       "'E'"
      ]
     },
     "metadata": {},
     "output_type": "display_data"
    },
    {
     "data": {
      "text/plain": [
       "'D'"
      ]
     },
     "metadata": {},
     "output_type": "display_data"
    },
    {
     "data": {
      "text/plain": [
       "['C', 'A#', 'F', 'E', 'A', 'E', 'E', 'D']"
      ]
     },
     "metadata": {},
     "output_type": "display_data"
    },
    {
     "data": {
      "text/plain": [
       "'E'"
      ]
     },
     "metadata": {},
     "output_type": "display_data"
    },
    {
     "data": {
      "text/plain": [
       "'F'"
      ]
     },
     "metadata": {},
     "output_type": "display_data"
    },
    {
     "data": {
      "text/plain": [
       "['A#', 'F', 'E', 'A', 'E', 'E', 'D', 'F']"
      ]
     },
     "metadata": {},
     "output_type": "display_data"
    },
    {
     "data": {
      "text/plain": [
       "'E'"
      ]
     },
     "metadata": {},
     "output_type": "display_data"
    },
    {
     "data": {
      "text/plain": [
       "'G#'"
      ]
     },
     "metadata": {},
     "output_type": "display_data"
    },
    {
     "data": {
      "text/plain": [
       "['F', 'E', 'A', 'E', 'E', 'D', 'F', 'G#']"
      ]
     },
     "metadata": {},
     "output_type": "display_data"
    },
    {
     "data": {
      "text/plain": [
       "'C'"
      ]
     },
     "metadata": {},
     "output_type": "display_data"
    },
    {
     "data": {
      "text/plain": [
       "'F'"
      ]
     },
     "metadata": {},
     "output_type": "display_data"
    },
    {
     "data": {
      "text/plain": [
       "['E', 'A', 'E', 'E', 'D', 'F', 'G#', 'F']"
      ]
     },
     "metadata": {},
     "output_type": "display_data"
    },
    {
     "data": {
      "text/plain": [
       "'D'"
      ]
     },
     "metadata": {},
     "output_type": "display_data"
    },
    {
     "data": {
      "text/plain": [
       "'E'"
      ]
     },
     "metadata": {},
     "output_type": "display_data"
    },
    {
     "data": {
      "text/plain": [
       "['A', 'E', 'E', 'D', 'F', 'G#', 'F', 'E']"
      ]
     },
     "metadata": {},
     "output_type": "display_data"
    },
    {
     "data": {
      "text/plain": [
       "'D'"
      ]
     },
     "metadata": {},
     "output_type": "display_data"
    },
    {
     "data": {
      "text/plain": [
       "'D'"
      ]
     },
     "metadata": {},
     "output_type": "display_data"
    },
    {
     "data": {
      "text/plain": [
       "['E', 'E', 'D', 'F', 'G#', 'F', 'E', 'D']"
      ]
     },
     "metadata": {},
     "output_type": "display_data"
    },
    {
     "data": {
      "text/plain": [
       "'A'"
      ]
     },
     "metadata": {},
     "output_type": "display_data"
    },
    {
     "data": {
      "text/plain": [
       "'F'"
      ]
     },
     "metadata": {},
     "output_type": "display_data"
    },
    {
     "data": {
      "text/plain": [
       "['E', 'D', 'F', 'G#', 'F', 'E', 'D', 'F']"
      ]
     },
     "metadata": {},
     "output_type": "display_data"
    },
    {
     "data": {
      "text/plain": [
       "'A'"
      ]
     },
     "metadata": {},
     "output_type": "display_data"
    },
    {
     "data": {
      "text/plain": [
       "'E'"
      ]
     },
     "metadata": {},
     "output_type": "display_data"
    },
    {
     "data": {
      "text/plain": [
       "['D', 'F', 'G#', 'F', 'E', 'D', 'F', 'E']"
      ]
     },
     "metadata": {},
     "output_type": "display_data"
    },
    {
     "data": {
      "text/plain": [
       "'A'"
      ]
     },
     "metadata": {},
     "output_type": "display_data"
    },
    {
     "data": {
      "text/plain": [
       "'D'"
      ]
     },
     "metadata": {},
     "output_type": "display_data"
    },
    {
     "data": {
      "text/plain": [
       "['F', 'G#', 'F', 'E', 'D', 'F', 'E', 'D']"
      ]
     },
     "metadata": {},
     "output_type": "display_data"
    },
    {
     "data": {
      "text/plain": [
       "'A'"
      ]
     },
     "metadata": {},
     "output_type": "display_data"
    },
    {
     "data": {
      "text/plain": [
       "'F'"
      ]
     },
     "metadata": {},
     "output_type": "display_data"
    },
    {
     "data": {
      "text/plain": [
       "['A', 'A', 'C', 'A#', 'F', 'E', 'A', 'E']"
      ]
     },
     "metadata": {},
     "output_type": "display_data"
    },
    {
     "data": {
      "text/plain": [
       "'G'"
      ]
     },
     "metadata": {},
     "output_type": "display_data"
    },
    {
     "data": {
      "text/plain": [
       "'E'"
      ]
     },
     "metadata": {},
     "output_type": "display_data"
    },
    {
     "data": {
      "text/plain": [
       "['A', 'C', 'A#', 'F', 'E', 'A', 'E', 'E']"
      ]
     },
     "metadata": {},
     "output_type": "display_data"
    },
    {
     "data": {
      "text/plain": [
       "'E'"
      ]
     },
     "metadata": {},
     "output_type": "display_data"
    },
    {
     "data": {
      "text/plain": [
       "'D'"
      ]
     },
     "metadata": {},
     "output_type": "display_data"
    },
    {
     "data": {
      "text/plain": [
       "['C', 'A#', 'F', 'E', 'A', 'E', 'E', 'D']"
      ]
     },
     "metadata": {},
     "output_type": "display_data"
    },
    {
     "data": {
      "text/plain": [
       "'E'"
      ]
     },
     "metadata": {},
     "output_type": "display_data"
    },
    {
     "data": {
      "text/plain": [
       "'F'"
      ]
     },
     "metadata": {},
     "output_type": "display_data"
    },
    {
     "data": {
      "text/plain": [
       "['A#', 'F', 'E', 'A', 'E', 'E', 'D', 'F']"
      ]
     },
     "metadata": {},
     "output_type": "display_data"
    },
    {
     "data": {
      "text/plain": [
       "'E'"
      ]
     },
     "metadata": {},
     "output_type": "display_data"
    },
    {
     "data": {
      "text/plain": [
       "'G#'"
      ]
     },
     "metadata": {},
     "output_type": "display_data"
    },
    {
     "data": {
      "text/plain": [
       "['F', 'E', 'A', 'E', 'E', 'D', 'F', 'G#']"
      ]
     },
     "metadata": {},
     "output_type": "display_data"
    },
    {
     "data": {
      "text/plain": [
       "'C'"
      ]
     },
     "metadata": {},
     "output_type": "display_data"
    },
    {
     "data": {
      "text/plain": [
       "'F'"
      ]
     },
     "metadata": {},
     "output_type": "display_data"
    },
    {
     "data": {
      "text/plain": [
       "['E', 'A', 'E', 'E', 'D', 'F', 'G#', 'F']"
      ]
     },
     "metadata": {},
     "output_type": "display_data"
    },
    {
     "data": {
      "text/plain": [
       "'D'"
      ]
     },
     "metadata": {},
     "output_type": "display_data"
    },
    {
     "data": {
      "text/plain": [
       "'E'"
      ]
     },
     "metadata": {},
     "output_type": "display_data"
    },
    {
     "data": {
      "text/plain": [
       "['A', 'E', 'E', 'D', 'F', 'G#', 'F', 'E']"
      ]
     },
     "metadata": {},
     "output_type": "display_data"
    },
    {
     "data": {
      "text/plain": [
       "'D'"
      ]
     },
     "metadata": {},
     "output_type": "display_data"
    },
    {
     "data": {
      "text/plain": [
       "'D'"
      ]
     },
     "metadata": {},
     "output_type": "display_data"
    },
    {
     "data": {
      "text/plain": [
       "['E', 'E', 'D', 'F', 'G#', 'F', 'E', 'D']"
      ]
     },
     "metadata": {},
     "output_type": "display_data"
    },
    {
     "data": {
      "text/plain": [
       "'A'"
      ]
     },
     "metadata": {},
     "output_type": "display_data"
    },
    {
     "data": {
      "text/plain": [
       "'E'"
      ]
     },
     "metadata": {},
     "output_type": "display_data"
    },
    {
     "data": {
      "text/plain": [
       "['E', 'D', 'F', 'G#', 'F', 'E', 'D', 'E']"
      ]
     },
     "metadata": {},
     "output_type": "display_data"
    },
    {
     "data": {
      "text/plain": [
       "'A'"
      ]
     },
     "metadata": {},
     "output_type": "display_data"
    },
    {
     "data": {
      "text/plain": [
       "'F'"
      ]
     },
     "metadata": {},
     "output_type": "display_data"
    },
    {
     "data": {
      "text/plain": [
       "['D', 'F', 'G#', 'F', 'E', 'D', 'E', 'F']"
      ]
     },
     "metadata": {},
     "output_type": "display_data"
    },
    {
     "data": {
      "text/plain": [
       "'A'"
      ]
     },
     "metadata": {},
     "output_type": "display_data"
    },
    {
     "data": {
      "text/plain": [
       "'E'"
      ]
     },
     "metadata": {},
     "output_type": "display_data"
    },
    {
     "data": {
      "text/plain": [
       "['F', 'G#', 'F', 'E', 'D', 'E', 'F', 'E']"
      ]
     },
     "metadata": {},
     "output_type": "display_data"
    },
    {
     "data": {
      "text/plain": [
       "'A'"
      ]
     },
     "metadata": {},
     "output_type": "display_data"
    },
    {
     "data": {
      "text/plain": [
       "'D'"
      ]
     },
     "metadata": {},
     "output_type": "display_data"
    },
    {
     "data": {
      "text/plain": [
       "['G#', 'F', 'E', 'D', 'E', 'F', 'E', 'D']"
      ]
     },
     "metadata": {},
     "output_type": "display_data"
    },
    {
     "data": {
      "text/plain": [
       "'D'"
      ]
     },
     "metadata": {},
     "output_type": "display_data"
    },
    {
     "data": {
      "text/plain": [
       "'E'"
      ]
     },
     "metadata": {},
     "output_type": "display_data"
    },
    {
     "data": {
      "text/plain": [
       "['F', 'E', 'D', 'E', 'F', 'E', 'D', 'E']"
      ]
     },
     "metadata": {},
     "output_type": "display_data"
    },
    {
     "data": {
      "text/plain": [
       "'E'"
      ]
     },
     "metadata": {},
     "output_type": "display_data"
    },
    {
     "data": {
      "text/plain": [
       "'F'"
      ]
     },
     "metadata": {},
     "output_type": "display_data"
    },
    {
     "data": {
      "text/plain": [
       "['C', 'B', 'B', 'B', 'B', 'B', 'B', 'B']"
      ]
     },
     "metadata": {},
     "output_type": "display_data"
    },
    {
     "data": {
      "text/plain": [
       "'D'"
      ]
     },
     "metadata": {},
     "output_type": "display_data"
    },
    {
     "data": {
      "text/plain": [
       "'B'"
      ]
     },
     "metadata": {},
     "output_type": "display_data"
    },
    {
     "data": {
      "text/plain": [
       "['B', 'B', 'B', 'B', 'B', 'B', 'B', 'B']"
      ]
     },
     "metadata": {},
     "output_type": "display_data"
    },
    {
     "data": {
      "text/plain": [
       "'A'"
      ]
     },
     "metadata": {},
     "output_type": "display_data"
    },
    {
     "data": {
      "text/plain": [
       "'B'"
      ]
     },
     "metadata": {},
     "output_type": "display_data"
    },
    {
     "data": {
      "text/plain": [
       "['B', 'B', 'B', 'B', 'B', 'B', 'B', 'B']"
      ]
     },
     "metadata": {},
     "output_type": "display_data"
    },
    {
     "data": {
      "text/plain": [
       "'G'"
      ]
     },
     "metadata": {},
     "output_type": "display_data"
    },
    {
     "data": {
      "text/plain": [
       "'B'"
      ]
     },
     "metadata": {},
     "output_type": "display_data"
    },
    {
     "data": {
      "text/plain": [
       "['B', 'B', 'B', 'B', 'B', 'B', 'B', 'B']"
      ]
     },
     "metadata": {},
     "output_type": "display_data"
    },
    {
     "data": {
      "text/plain": [
       "'G'"
      ]
     },
     "metadata": {},
     "output_type": "display_data"
    },
    {
     "data": {
      "text/plain": [
       "'D'"
      ]
     },
     "metadata": {},
     "output_type": "display_data"
    },
    {
     "data": {
      "text/plain": [
       "['B', 'B', 'B', 'B', 'B', 'B', 'B', 'D']"
      ]
     },
     "metadata": {},
     "output_type": "display_data"
    },
    {
     "data": {
      "text/plain": [
       "'A'"
      ]
     },
     "metadata": {},
     "output_type": "display_data"
    },
    {
     "data": {
      "text/plain": [
       "'B'"
      ]
     },
     "metadata": {},
     "output_type": "display_data"
    },
    {
     "data": {
      "text/plain": [
       "['B', 'B', 'B', 'B', 'B', 'B', 'D', 'B']"
      ]
     },
     "metadata": {},
     "output_type": "display_data"
    },
    {
     "data": {
      "text/plain": [
       "'A'"
      ]
     },
     "metadata": {},
     "output_type": "display_data"
    },
    {
     "data": {
      "text/plain": [
       "'A'"
      ]
     },
     "metadata": {},
     "output_type": "display_data"
    },
    {
     "data": {
      "text/plain": [
       "['B', 'B', 'B', 'B', 'B', 'D', 'B', 'A']"
      ]
     },
     "metadata": {},
     "output_type": "display_data"
    },
    {
     "data": {
      "text/plain": [
       "'G'"
      ]
     },
     "metadata": {},
     "output_type": "display_data"
    },
    {
     "data": {
      "text/plain": [
       "'G'"
      ]
     },
     "metadata": {},
     "output_type": "display_data"
    },
    {
     "data": {
      "text/plain": [
       "['B', 'B', 'B', 'B', 'D', 'B', 'A', 'G']"
      ]
     },
     "metadata": {},
     "output_type": "display_data"
    },
    {
     "data": {
      "text/plain": [
       "'G'"
      ]
     },
     "metadata": {},
     "output_type": "display_data"
    },
    {
     "data": {
      "text/plain": [
       "'C'"
      ]
     },
     "metadata": {},
     "output_type": "display_data"
    },
    {
     "data": {
      "text/plain": [
       "['B', 'B', 'B', 'D', 'B', 'A', 'G', 'C']"
      ]
     },
     "metadata": {},
     "output_type": "display_data"
    },
    {
     "data": {
      "text/plain": [
       "'B'"
      ]
     },
     "metadata": {},
     "output_type": "display_data"
    },
    {
     "data": {
      "text/plain": [
       "'A#'"
      ]
     },
     "metadata": {},
     "output_type": "display_data"
    },
    {
     "data": {
      "text/plain": [
       "['B', 'B', 'D', 'B', 'A', 'G', 'C', 'A#']"
      ]
     },
     "metadata": {},
     "output_type": "display_data"
    },
    {
     "data": {
      "text/plain": [
       "'B'"
      ]
     },
     "metadata": {},
     "output_type": "display_data"
    },
    {
     "data": {
      "text/plain": [
       "'B'"
      ]
     },
     "metadata": {},
     "output_type": "display_data"
    },
    {
     "data": {
      "text/plain": [
       "['B', 'D', 'B', 'A', 'G', 'C', 'A#', 'B']"
      ]
     },
     "metadata": {},
     "output_type": "display_data"
    },
    {
     "data": {
      "text/plain": [
       "'B'"
      ]
     },
     "metadata": {},
     "output_type": "display_data"
    },
    {
     "data": {
      "text/plain": [
       "'A#'"
      ]
     },
     "metadata": {},
     "output_type": "display_data"
    },
    {
     "data": {
      "text/plain": [
       "['D', 'B', 'A', 'G', 'C', 'A#', 'B', 'A#']"
      ]
     },
     "metadata": {},
     "output_type": "display_data"
    },
    {
     "data": {
      "text/plain": [
       "'B'"
      ]
     },
     "metadata": {},
     "output_type": "display_data"
    },
    {
     "data": {
      "text/plain": [
       "'B'"
      ]
     },
     "metadata": {},
     "output_type": "display_data"
    },
    {
     "data": {
      "text/plain": [
       "['B', 'A', 'G', 'C', 'A#', 'B', 'A#', 'B']"
      ]
     },
     "metadata": {},
     "output_type": "display_data"
    },
    {
     "data": {
      "text/plain": [
       "'A#'"
      ]
     },
     "metadata": {},
     "output_type": "display_data"
    },
    {
     "data": {
      "text/plain": [
       "'A#'"
      ]
     },
     "metadata": {},
     "output_type": "display_data"
    },
    {
     "data": {
      "text/plain": [
       "['A', 'G', 'C', 'A#', 'B', 'A#', 'B', 'A#']"
      ]
     },
     "metadata": {},
     "output_type": "display_data"
    },
    {
     "data": {
      "text/plain": [
       "'B'"
      ]
     },
     "metadata": {},
     "output_type": "display_data"
    },
    {
     "data": {
      "text/plain": [
       "'B'"
      ]
     },
     "metadata": {},
     "output_type": "display_data"
    },
    {
     "data": {
      "text/plain": [
       "['G', 'C', 'A#', 'B', 'A#', 'B', 'A#', 'B']"
      ]
     },
     "metadata": {},
     "output_type": "display_data"
    },
    {
     "data": {
      "text/plain": [
       "'A#'"
      ]
     },
     "metadata": {},
     "output_type": "display_data"
    },
    {
     "data": {
      "text/plain": [
       "'A#'"
      ]
     },
     "metadata": {},
     "output_type": "display_data"
    },
    {
     "data": {
      "text/plain": [
       "['C', 'A#', 'B', 'A#', 'B', 'A#', 'B', 'A#']"
      ]
     },
     "metadata": {},
     "output_type": "display_data"
    },
    {
     "data": {
      "text/plain": [
       "'G'"
      ]
     },
     "metadata": {},
     "output_type": "display_data"
    },
    {
     "data": {
      "text/plain": [
       "'B'"
      ]
     },
     "metadata": {},
     "output_type": "display_data"
    },
    {
     "data": {
      "text/plain": [
       "['A#', 'B', 'A#', 'B', 'A#', 'B', 'A#', 'B']"
      ]
     },
     "metadata": {},
     "output_type": "display_data"
    },
    {
     "data": {
      "text/plain": [
       "'G'"
      ]
     },
     "metadata": {},
     "output_type": "display_data"
    },
    {
     "data": {
      "text/plain": [
       "'B'"
      ]
     },
     "metadata": {},
     "output_type": "display_data"
    },
    {
     "data": {
      "text/plain": [
       "['B', 'A#', 'B', 'A#', 'B', 'A#', 'B', 'B']"
      ]
     },
     "metadata": {},
     "output_type": "display_data"
    },
    {
     "data": {
      "text/plain": [
       "'G'"
      ]
     },
     "metadata": {},
     "output_type": "display_data"
    },
    {
     "data": {
      "text/plain": [
       "'C'"
      ]
     },
     "metadata": {},
     "output_type": "display_data"
    },
    {
     "data": {
      "text/plain": [
       "['A#', 'B', 'A#', 'B', 'A#', 'B', 'B', 'C']"
      ]
     },
     "metadata": {},
     "output_type": "display_data"
    },
    {
     "data": {
      "text/plain": [
       "'C'"
      ]
     },
     "metadata": {},
     "output_type": "display_data"
    },
    {
     "data": {
      "text/plain": [
       "'C'"
      ]
     },
     "metadata": {},
     "output_type": "display_data"
    },
    {
     "data": {
      "text/plain": [
       "['B', 'A#', 'B', 'A#', 'B', 'B', 'C', 'C']"
      ]
     },
     "metadata": {},
     "output_type": "display_data"
    },
    {
     "data": {
      "text/plain": [
       "'C'"
      ]
     },
     "metadata": {},
     "output_type": "display_data"
    },
    {
     "data": {
      "text/plain": [
       "'C'"
      ]
     },
     "metadata": {},
     "output_type": "display_data"
    },
    {
     "data": {
      "text/plain": [
       "['A#', 'B', 'A#', 'B', 'B', 'C', 'C', 'C']"
      ]
     },
     "metadata": {},
     "output_type": "display_data"
    },
    {
     "data": {
      "text/plain": [
       "'C'"
      ]
     },
     "metadata": {},
     "output_type": "display_data"
    },
    {
     "data": {
      "text/plain": [
       "'C'"
      ]
     },
     "metadata": {},
     "output_type": "display_data"
    },
    {
     "data": {
      "text/plain": [
       "['G', 'F', 'E', 'C', 'E', 'F', 'E', 'G']"
      ]
     },
     "metadata": {},
     "output_type": "display_data"
    },
    {
     "data": {
      "text/plain": [
       "'F'"
      ]
     },
     "metadata": {},
     "output_type": "display_data"
    },
    {
     "data": {
      "text/plain": [
       "'G'"
      ]
     },
     "metadata": {},
     "output_type": "display_data"
    },
    {
     "data": {
      "text/plain": [
       "['F', 'E', 'C', 'E', 'F', 'E', 'G', 'G']"
      ]
     },
     "metadata": {},
     "output_type": "display_data"
    },
    {
     "data": {
      "text/plain": [
       "'F'"
      ]
     },
     "metadata": {},
     "output_type": "display_data"
    },
    {
     "data": {
      "text/plain": [
       "'G'"
      ]
     },
     "metadata": {},
     "output_type": "display_data"
    },
    {
     "data": {
      "text/plain": [
       "['E', 'C', 'E', 'F', 'E', 'G', 'G', 'G']"
      ]
     },
     "metadata": {},
     "output_type": "display_data"
    },
    {
     "data": {
      "text/plain": [
       "'G'"
      ]
     },
     "metadata": {},
     "output_type": "display_data"
    },
    {
     "data": {
      "text/plain": [
       "'C'"
      ]
     },
     "metadata": {},
     "output_type": "display_data"
    },
    {
     "data": {
      "text/plain": [
       "['C', 'E', 'F', 'E', 'G', 'G', 'G', 'C']"
      ]
     },
     "metadata": {},
     "output_type": "display_data"
    },
    {
     "data": {
      "text/plain": [
       "'F'"
      ]
     },
     "metadata": {},
     "output_type": "display_data"
    },
    {
     "data": {
      "text/plain": [
       "'G'"
      ]
     },
     "metadata": {},
     "output_type": "display_data"
    },
    {
     "data": {
      "text/plain": [
       "['E', 'F', 'E', 'G', 'G', 'G', 'C', 'G']"
      ]
     },
     "metadata": {},
     "output_type": "display_data"
    },
    {
     "data": {
      "text/plain": [
       "'F'"
      ]
     },
     "metadata": {},
     "output_type": "display_data"
    },
    {
     "data": {
      "text/plain": [
       "'G'"
      ]
     },
     "metadata": {},
     "output_type": "display_data"
    },
    {
     "data": {
      "text/plain": [
       "['F', 'E', 'G', 'G', 'G', 'C', 'G', 'G']"
      ]
     },
     "metadata": {},
     "output_type": "display_data"
    },
    {
     "data": {
      "text/plain": [
       "'C'"
      ]
     },
     "metadata": {},
     "output_type": "display_data"
    },
    {
     "data": {
      "text/plain": [
       "'F'"
      ]
     },
     "metadata": {},
     "output_type": "display_data"
    },
    {
     "data": {
      "text/plain": [
       "['E', 'G', 'G', 'G', 'C', 'G', 'G', 'F']"
      ]
     },
     "metadata": {},
     "output_type": "display_data"
    },
    {
     "data": {
      "text/plain": [
       "'E'"
      ]
     },
     "metadata": {},
     "output_type": "display_data"
    },
    {
     "data": {
      "text/plain": [
       "'G'"
      ]
     },
     "metadata": {},
     "output_type": "display_data"
    },
    {
     "data": {
      "text/plain": [
       "['G', 'G', 'G', 'C', 'G', 'G', 'F', 'G']"
      ]
     },
     "metadata": {},
     "output_type": "display_data"
    },
    {
     "data": {
      "text/plain": [
       "'A'"
      ]
     },
     "metadata": {},
     "output_type": "display_data"
    },
    {
     "data": {
      "text/plain": [
       "'A#'"
      ]
     },
     "metadata": {},
     "output_type": "display_data"
    },
    {
     "data": {
      "text/plain": [
       "['G', 'G', 'C', 'G', 'G', 'F', 'G', 'A#']"
      ]
     },
     "metadata": {},
     "output_type": "display_data"
    },
    {
     "data": {
      "text/plain": [
       "'F'"
      ]
     },
     "metadata": {},
     "output_type": "display_data"
    },
    {
     "data": {
      "text/plain": [
       "'G'"
      ]
     },
     "metadata": {},
     "output_type": "display_data"
    },
    {
     "data": {
      "text/plain": [
       "['G', 'C', 'G', 'G', 'F', 'G', 'A#', 'G']"
      ]
     },
     "metadata": {},
     "output_type": "display_data"
    },
    {
     "data": {
      "text/plain": [
       "'C'"
      ]
     },
     "metadata": {},
     "output_type": "display_data"
    },
    {
     "data": {
      "text/plain": [
       "'F'"
      ]
     },
     "metadata": {},
     "output_type": "display_data"
    },
    {
     "data": {
      "text/plain": [
       "['C', 'G', 'G', 'F', 'G', 'A#', 'G', 'F']"
      ]
     },
     "metadata": {},
     "output_type": "display_data"
    },
    {
     "data": {
      "text/plain": [
       "'C'"
      ]
     },
     "metadata": {},
     "output_type": "display_data"
    },
    {
     "data": {
      "text/plain": [
       "'G'"
      ]
     },
     "metadata": {},
     "output_type": "display_data"
    },
    {
     "data": {
      "text/plain": [
       "['G', 'G', 'F', 'G', 'A#', 'G', 'F', 'G']"
      ]
     },
     "metadata": {},
     "output_type": "display_data"
    },
    {
     "data": {
      "text/plain": [
       "'C'"
      ]
     },
     "metadata": {},
     "output_type": "display_data"
    },
    {
     "data": {
      "text/plain": [
       "'F'"
      ]
     },
     "metadata": {},
     "output_type": "display_data"
    },
    {
     "data": {
      "text/plain": [
       "['G', 'F', 'G', 'A#', 'G', 'F', 'G', 'F']"
      ]
     },
     "metadata": {},
     "output_type": "display_data"
    },
    {
     "data": {
      "text/plain": [
       "'A'"
      ]
     },
     "metadata": {},
     "output_type": "display_data"
    },
    {
     "data": {
      "text/plain": [
       "'E'"
      ]
     },
     "metadata": {},
     "output_type": "display_data"
    },
    {
     "data": {
      "text/plain": [
       "['F', 'G', 'A#', 'G', 'F', 'G', 'F', 'E']"
      ]
     },
     "metadata": {},
     "output_type": "display_data"
    },
    {
     "data": {
      "text/plain": [
       "'A'"
      ]
     },
     "metadata": {},
     "output_type": "display_data"
    },
    {
     "data": {
      "text/plain": [
       "'C'"
      ]
     },
     "metadata": {},
     "output_type": "display_data"
    },
    {
     "data": {
      "text/plain": [
       "['G', 'A#', 'G', 'F', 'G', 'F', 'E', 'C']"
      ]
     },
     "metadata": {},
     "output_type": "display_data"
    },
    {
     "data": {
      "text/plain": [
       "'A'"
      ]
     },
     "metadata": {},
     "output_type": "display_data"
    },
    {
     "data": {
      "text/plain": [
       "'C'"
      ]
     },
     "metadata": {},
     "output_type": "display_data"
    },
    {
     "data": {
      "text/plain": [
       "['A#', 'G', 'F', 'G', 'F', 'E', 'C', 'C']"
      ]
     },
     "metadata": {},
     "output_type": "display_data"
    },
    {
     "data": {
      "text/plain": [
       "'F'"
      ]
     },
     "metadata": {},
     "output_type": "display_data"
    },
    {
     "data": {
      "text/plain": [
       "'C'"
      ]
     },
     "metadata": {},
     "output_type": "display_data"
    },
    {
     "data": {
      "text/plain": [
       "['G', 'F', 'G', 'F', 'E', 'C', 'C', 'C']"
      ]
     },
     "metadata": {},
     "output_type": "display_data"
    },
    {
     "data": {
      "text/plain": [
       "'A#'"
      ]
     },
     "metadata": {},
     "output_type": "display_data"
    },
    {
     "data": {
      "text/plain": [
       "'C'"
      ]
     },
     "metadata": {},
     "output_type": "display_data"
    },
    {
     "data": {
      "text/plain": [
       "['F', 'G', 'F', 'E', 'C', 'C', 'C', 'C']"
      ]
     },
     "metadata": {},
     "output_type": "display_data"
    },
    {
     "data": {
      "text/plain": [
       "'D'"
      ]
     },
     "metadata": {},
     "output_type": "display_data"
    },
    {
     "data": {
      "text/plain": [
       "'C'"
      ]
     },
     "metadata": {},
     "output_type": "display_data"
    },
    {
     "data": {
      "text/plain": [
       "['G', 'F', 'E', 'C', 'C', 'C', 'C', 'C']"
      ]
     },
     "metadata": {},
     "output_type": "display_data"
    },
    {
     "data": {
      "text/plain": [
       "'F'"
      ]
     },
     "metadata": {},
     "output_type": "display_data"
    },
    {
     "data": {
      "text/plain": [
       "'B'"
      ]
     },
     "metadata": {},
     "output_type": "display_data"
    },
    {
     "data": {
      "text/plain": [
       "['F', 'E', 'C', 'C', 'C', 'C', 'C', 'B']"
      ]
     },
     "metadata": {},
     "output_type": "display_data"
    },
    {
     "data": {
      "text/plain": [
       "'D'"
      ]
     },
     "metadata": {},
     "output_type": "display_data"
    },
    {
     "data": {
      "text/plain": [
       "'A#'"
      ]
     },
     "metadata": {},
     "output_type": "display_data"
    },
    {
     "data": {
      "text/plain": [
       "['E', 'C', 'C', 'C', 'C', 'C', 'B', 'A#']"
      ]
     },
     "metadata": {},
     "output_type": "display_data"
    },
    {
     "data": {
      "text/plain": [
       "'D'"
      ]
     },
     "metadata": {},
     "output_type": "display_data"
    },
    {
     "data": {
      "text/plain": [
       "'A'"
      ]
     },
     "metadata": {},
     "output_type": "display_data"
    },
    {
     "data": {
      "text/plain": [
       "['C', 'C', 'C', 'C', 'C', 'B', 'A#', 'A']"
      ]
     },
     "metadata": {},
     "output_type": "display_data"
    },
    {
     "data": {
      "text/plain": [
       "'C'"
      ]
     },
     "metadata": {},
     "output_type": "display_data"
    },
    {
     "data": {
      "text/plain": [
       "'C'"
      ]
     },
     "metadata": {},
     "output_type": "display_data"
    },
    {
     "data": {
      "text/plain": [
       "['C', 'C', 'C', 'C', 'B', 'A#', 'A', 'C']"
      ]
     },
     "metadata": {},
     "output_type": "display_data"
    },
    {
     "data": {
      "text/plain": [
       "'G'"
      ]
     },
     "metadata": {},
     "output_type": "display_data"
    },
    {
     "data": {
      "text/plain": [
       "'C'"
      ]
     },
     "metadata": {},
     "output_type": "display_data"
    },
    {
     "data": {
      "text/plain": [
       "['C', 'C', 'C', 'B', 'A#', 'A', 'C', 'C']"
      ]
     },
     "metadata": {},
     "output_type": "display_data"
    },
    {
     "data": {
      "text/plain": [
       "'G'"
      ]
     },
     "metadata": {},
     "output_type": "display_data"
    },
    {
     "data": {
      "text/plain": [
       "'C'"
      ]
     },
     "metadata": {},
     "output_type": "display_data"
    },
    {
     "data": {
      "text/plain": [
       "['C', 'C', 'B', 'A#', 'A', 'C', 'C', 'C']"
      ]
     },
     "metadata": {},
     "output_type": "display_data"
    },
    {
     "data": {
      "text/plain": [
       "'G'"
      ]
     },
     "metadata": {},
     "output_type": "display_data"
    },
    {
     "data": {
      "text/plain": [
       "'D'"
      ]
     },
     "metadata": {},
     "output_type": "display_data"
    },
    {
     "data": {
      "text/plain": [
       "['C', 'B', 'A#', 'A', 'C', 'C', 'C', 'D']"
      ]
     },
     "metadata": {},
     "output_type": "display_data"
    },
    {
     "data": {
      "text/plain": [
       "'G'"
      ]
     },
     "metadata": {},
     "output_type": "display_data"
    },
    {
     "data": {
      "text/plain": [
       "'C#'"
      ]
     },
     "metadata": {},
     "output_type": "display_data"
    },
    {
     "data": {
      "text/plain": [
       "['B', 'A#', 'A', 'C', 'C', 'C', 'D', 'C#']"
      ]
     },
     "metadata": {},
     "output_type": "display_data"
    },
    {
     "data": {
      "text/plain": [
       "'G'"
      ]
     },
     "metadata": {},
     "output_type": "display_data"
    },
    {
     "data": {
      "text/plain": [
       "'C'"
      ]
     },
     "metadata": {},
     "output_type": "display_data"
    },
    {
     "data": {
      "text/plain": [
       "['A#', 'A', 'C', 'C', 'C', 'D', 'C#', 'C']"
      ]
     },
     "metadata": {},
     "output_type": "display_data"
    },
    {
     "data": {
      "text/plain": [
       "'G'"
      ]
     },
     "metadata": {},
     "output_type": "display_data"
    },
    {
     "data": {
      "text/plain": [
       "'B'"
      ]
     },
     "metadata": {},
     "output_type": "display_data"
    },
    {
     "data": {
      "text/plain": [
       "['A', 'C', 'C', 'C', 'D', 'C#', 'C', 'B']"
      ]
     },
     "metadata": {},
     "output_type": "display_data"
    },
    {
     "data": {
      "text/plain": [
       "'F'"
      ]
     },
     "metadata": {},
     "output_type": "display_data"
    },
    {
     "data": {
      "text/plain": [
       "'E'"
      ]
     },
     "metadata": {},
     "output_type": "display_data"
    },
    {
     "data": {
      "text/plain": [
       "['C', 'C', 'C', 'D', 'C#', 'C', 'B', 'E']"
      ]
     },
     "metadata": {},
     "output_type": "display_data"
    },
    {
     "data": {
      "text/plain": [
       "'G'"
      ]
     },
     "metadata": {},
     "output_type": "display_data"
    },
    {
     "data": {
      "text/plain": [
       "'F'"
      ]
     },
     "metadata": {},
     "output_type": "display_data"
    },
    {
     "data": {
      "text/plain": [
       "['C', 'C', 'D', 'C#', 'C', 'B', 'E', 'F']"
      ]
     },
     "metadata": {},
     "output_type": "display_data"
    },
    {
     "data": {
      "text/plain": [
       "'E'"
      ]
     },
     "metadata": {},
     "output_type": "display_data"
    },
    {
     "data": {
      "text/plain": [
       "'E'"
      ]
     },
     "metadata": {},
     "output_type": "display_data"
    },
    {
     "data": {
      "text/plain": [
       "['C', 'D', 'C#', 'C', 'B', 'E', 'F', 'E']"
      ]
     },
     "metadata": {},
     "output_type": "display_data"
    },
    {
     "data": {
      "text/plain": [
       "'E'"
      ]
     },
     "metadata": {},
     "output_type": "display_data"
    },
    {
     "data": {
      "text/plain": [
       "'G'"
      ]
     },
     "metadata": {},
     "output_type": "display_data"
    },
    {
     "data": {
      "text/plain": [
       "['D', 'C#', 'C', 'B', 'E', 'F', 'E', 'G']"
      ]
     },
     "metadata": {},
     "output_type": "display_data"
    },
    {
     "data": {
      "text/plain": [
       "'C'"
      ]
     },
     "metadata": {},
     "output_type": "display_data"
    },
    {
     "data": {
      "text/plain": [
       "'C'"
      ]
     },
     "metadata": {},
     "output_type": "display_data"
    },
    {
     "data": {
      "text/plain": [
       "['C#', 'C', 'B', 'E', 'F', 'E', 'G', 'C']"
      ]
     },
     "metadata": {},
     "output_type": "display_data"
    },
    {
     "data": {
      "text/plain": [
       "'D#'"
      ]
     },
     "metadata": {},
     "output_type": "display_data"
    },
    {
     "data": {
      "text/plain": [
       "'D#'"
      ]
     },
     "metadata": {},
     "output_type": "display_data"
    },
    {
     "data": {
      "text/plain": [
       "['C', 'B', 'E', 'F', 'E', 'G', 'C', 'D#']"
      ]
     },
     "metadata": {},
     "output_type": "display_data"
    },
    {
     "data": {
      "text/plain": [
       "'F'"
      ]
     },
     "metadata": {},
     "output_type": "display_data"
    },
    {
     "data": {
      "text/plain": [
       "'F'"
      ]
     },
     "metadata": {},
     "output_type": "display_data"
    }
   ],
   "source": [
    "for i in range(test_data.shape[0]):\n",
    "    sample = test_data[i]\n",
    "\n",
    "    display([getPitch(note) for note in np.argmax(sample[:,MELODY:MELODY+12],1)])\n",
    "\n",
    "    display(getPitch(np.argmax(model.predict(np.expand_dims(sample,0)))))\n",
    "    display(getPitch(test_labels[i][0]))"
   ]
  },
  {
   "cell_type": "code",
   "execution_count": null,
   "metadata": {},
   "outputs": [],
   "source": []
  },
  {
   "cell_type": "code",
   "execution_count": 0,
   "metadata": {
    "colab": {},
    "colab_type": "code",
    "id": "oj4IpyEaNX8x"
   },
   "outputs": [],
   "source": []
  },
  {
   "cell_type": "markdown",
   "metadata": {
    "colab_type": "text",
    "id": "iv-3x-0yNX8z"
   },
   "source": [
    "# Test Framework"
   ]
  },
  {
   "cell_type": "markdown",
   "metadata": {
    "colab_type": "text",
    "id": "iyK7IZAXDrnX"
   },
   "source": [
    "## Test A: TradeFour"
   ]
  },
  {
   "cell_type": "code",
   "execution_count": 49,
   "metadata": {
    "colab": {},
    "colab_type": "code",
    "id": "56ENduBtDrnX"
   },
   "outputs": [],
   "source": [
    "# read test midi file, ignore labels and get output from network\n",
    "# simply read midi here to see how it sounds + plot (by creating midi file with input midi and prediction from network)\n",
    "\n",
    "def writeMidi(notes, times, file, originalfile, tempo=120, resolution=12):\n",
    "    pm = pretty_midi.PrettyMIDI(resolution=resolution, initial_tempo=tempo)\n",
    "    pminst = pretty_midi.Instrument(program=0)\n",
    "    currtime = 0\n",
    "    for i, note in enumerate(notes):\n",
    "        if note != MELODY-1:\n",
    "            pitch = note+LOW\n",
    "            start = pm.tick_to_time(int(currtime))\n",
    "            end = pm.tick_to_time(int(currtime+times[i]))\n",
    "            if end > start:\n",
    "                pmnote = pretty_midi.Note(velocity=100, pitch = pitch, start=start, end=end)\n",
    "                pminst.notes.append(pmnote)\n",
    "        currtime += times[i]+1\n",
    "    pm.instruments.append(pminst)\n",
    "    \n",
    "    #get original chords from file\n",
    "    ogpm = pretty_midi.PrettyMIDI(originalfile)\n",
    "    originalchords = pretty_midi.Instrument(program=0)\n",
    "    originalnotes = getMelodyAndHarmonyBass(originalfile)['harmony']\n",
    "    for i, note in enumerate(originalnotes):\n",
    "        old = ogpm.time_to_tick(note.start)\n",
    "        start = pm.tick_to_time(int(ogpm.time_to_tick(note.start)/ogpm.resolution*pm.resolution))\n",
    "        end = pm.tick_to_time(int(ogpm.time_to_tick(note.end)/ogpm.resolution*pm.resolution))\n",
    "        originalchords.notes.append(pretty_midi.Note(velocity=50, pitch=note.pitch, start=start, end=end))\n",
    "    pm.instruments.append(originalchords)\n",
    "\n",
    "    pm.write(file)\n",
    "    return pm\n",
    "\n",
    "    \n",
    "def tradeFour(processedMidi):\n",
    "    notes, times, chords, chordsByBeat, key = processedMidi\n",
    "    predicted_notes, predicted_durations = [], []\n",
    "    mel_len=16+1 # wegen nextChord\n",
    "\n",
    "    notesnew = np.array(notes[-mel_len:])\n",
    "    timesnew = np.array(times[-mel_len:])\n",
    "    chordsnew = np.array(chords[-mel_len:])\n",
    "\n",
    "    currentbeat = 0\n",
    "    currenttime = 0\n",
    "    while sum(predicted_durations) < 4*TIMES:\n",
    "        processedMidi = notesnew, timesnew, chordsnew, chordsByBeat, key\n",
    "        feat = getFeatureVectors(processedMidi)\n",
    "        feat = tf.expand_dims(feat,0)\n",
    "        \n",
    "        pitch, duration = model(feat)\n",
    "\n",
    "        pred_pitch = tf.math.argmax(pitch, 1).numpy()[0]\n",
    "        pred_duration = tf.math.argmax(duration, 1).numpy()[0]\n",
    "\n",
    "        predicted_notes.append(pred_pitch)\n",
    "        predicted_durations.append(pred_duration)\n",
    "        notesnew = np.append(notesnew[1:], pred_pitch)\n",
    "        timesnew = np.append(timesnew[1:], pred_duration)\n",
    "        \n",
    "        if int(currenttime/12) > currentbeat:\n",
    "            newchord = chordsByBeat[int(currenttime/12)]\n",
    "            chordsnew = np.append(chordsnew[1:], newchord)\n",
    "        currenttime += pred_duration\n",
    "        currentbeat += int(currenttime/12)\n",
    "        \n",
    "        print(predicted_durations)\n",
    "        \n",
    "    notes = np.append(notes, np.array(predicted_notes))\n",
    "    times = np.append(times, np.array(predicted_durations))\n",
    "\n",
    "    return notes, times\n",
    "    \n",
    "def plotTradeFour(file):\n",
    "    processedMidi = processMidi(file)\n",
    "    \n",
    "    t = time.time()\n",
    "    notes, times = tradeFour(processedMidi)\n",
    "    print(time.time() - t,'s')\n",
    "    \n",
    "    # plotWithAudio\n",
    "    pm = writeMidi(notes, times, 'old_notebooks/treval/newtest.mid', file)\n",
    "    plt.figure(figsize=(8, 4))\n",
    "    plot_piano_roll(pm, LOW, HIGH)\n",
    "    display(IPython.display.Audio(pm.synthesize(fs=44000), rate=44000))   \n",
    "    "
   ]
  },
  {
   "cell_type": "code",
   "execution_count": 51,
   "metadata": {
    "colab": {
     "base_uri": "https://localhost:8080/",
     "height": 596
    },
    "colab_type": "code",
    "id": "jitsFsWbDrna",
    "outputId": "5f452100-38d5-49d8-83e3-b67aa01c25e0",
    "scrolled": false
   },
   "outputs": [
    {
     "ename": "FileNotFoundError",
     "evalue": "[Errno 2] No such file or directory: 'datasets/trainData/chords/test/testlmd.mid'",
     "output_type": "error",
     "traceback": [
      "\u001b[0;31m---------------------------------------------------------------------------\u001b[0m",
      "\u001b[0;31mFileNotFoundError\u001b[0m                         Traceback (most recent call last)",
      "\u001b[0;32m<ipython-input-51-eb0164d6aa66>\u001b[0m in \u001b[0;36m<module>\u001b[0;34m\u001b[0m\n\u001b[0;32m----> 1\u001b[0;31m \u001b[0mplotTradeFour\u001b[0m\u001b[0;34m(\u001b[0m\u001b[0;34m'test/testlmd.mid'\u001b[0m\u001b[0;34m)\u001b[0m\u001b[0;34m\u001b[0m\u001b[0;34m\u001b[0m\u001b[0m\n\u001b[0m",
      "\u001b[0;32m<ipython-input-49-0b83dd5815cf>\u001b[0m in \u001b[0;36mplotTradeFour\u001b[0;34m(file)\u001b[0m\n\u001b[1;32m     72\u001b[0m \u001b[0;34m\u001b[0m\u001b[0m\n\u001b[1;32m     73\u001b[0m \u001b[0;32mdef\u001b[0m \u001b[0mplotTradeFour\u001b[0m\u001b[0;34m(\u001b[0m\u001b[0mfile\u001b[0m\u001b[0;34m)\u001b[0m\u001b[0;34m:\u001b[0m\u001b[0;34m\u001b[0m\u001b[0;34m\u001b[0m\u001b[0m\n\u001b[0;32m---> 74\u001b[0;31m     \u001b[0mprocessedMidi\u001b[0m \u001b[0;34m=\u001b[0m \u001b[0mprocessMidi\u001b[0m\u001b[0;34m(\u001b[0m\u001b[0mfile\u001b[0m\u001b[0;34m)\u001b[0m\u001b[0;34m\u001b[0m\u001b[0;34m\u001b[0m\u001b[0m\n\u001b[0m\u001b[1;32m     75\u001b[0m \u001b[0;34m\u001b[0m\u001b[0m\n\u001b[1;32m     76\u001b[0m     \u001b[0mt\u001b[0m \u001b[0;34m=\u001b[0m \u001b[0mtime\u001b[0m\u001b[0;34m.\u001b[0m\u001b[0mtime\u001b[0m\u001b[0;34m(\u001b[0m\u001b[0;34m)\u001b[0m\u001b[0;34m\u001b[0m\u001b[0;34m\u001b[0m\u001b[0m\n",
      "\u001b[0;32m<ipython-input-6-17304bf598df>\u001b[0m in \u001b[0;36mprocessMidi\u001b[0;34m(file)\u001b[0m\n\u001b[1;32m     93\u001b[0m \u001b[0;34m\u001b[0m\u001b[0m\n\u001b[1;32m     94\u001b[0m \u001b[0;32mdef\u001b[0m \u001b[0mprocessMidi\u001b[0m\u001b[0;34m(\u001b[0m\u001b[0mfile\u001b[0m\u001b[0;34m)\u001b[0m\u001b[0;34m:\u001b[0m\u001b[0;34m\u001b[0m\u001b[0;34m\u001b[0m\u001b[0m\n\u001b[0;32m---> 95\u001b[0;31m     \u001b[0mpm\u001b[0m \u001b[0;34m=\u001b[0m \u001b[0mpretty_midi\u001b[0m\u001b[0;34m.\u001b[0m\u001b[0mPrettyMIDI\u001b[0m\u001b[0;34m(\u001b[0m\u001b[0mfolder\u001b[0m\u001b[0;34m+\u001b[0m\u001b[0;34m'chords/'\u001b[0m\u001b[0;34m+\u001b[0m\u001b[0mfile\u001b[0m\u001b[0;34m)\u001b[0m\u001b[0;34m\u001b[0m\u001b[0;34m\u001b[0m\u001b[0m\n\u001b[0m\u001b[1;32m     96\u001b[0m     \u001b[0;31m#tracks = getMelodyAndHarmony(file)\u001b[0m\u001b[0;34m\u001b[0m\u001b[0;34m\u001b[0m\u001b[0;34m\u001b[0m\u001b[0m\n\u001b[1;32m     97\u001b[0m     \u001b[0;31m#tracks = getMelodyAndHarmonyBass(file) //changing, this doesnt work anymore -> DACBass\u001b[0m\u001b[0;34m\u001b[0m\u001b[0;34m\u001b[0m\u001b[0;34m\u001b[0m\u001b[0m\n",
      "\u001b[0;32m/Library/Frameworks/Python.framework/Versions/3.6/lib/python3.6/site-packages/pretty_midi/pretty_midi.py\u001b[0m in \u001b[0;36m__init__\u001b[0;34m(self, midi_file, resolution, initial_tempo)\u001b[0m\n\u001b[1;32m     57\u001b[0m             \u001b[0;32mif\u001b[0m \u001b[0misinstance\u001b[0m\u001b[0;34m(\u001b[0m\u001b[0mmidi_file\u001b[0m\u001b[0;34m,\u001b[0m \u001b[0msix\u001b[0m\u001b[0;34m.\u001b[0m\u001b[0mstring_types\u001b[0m\u001b[0;34m)\u001b[0m\u001b[0;34m:\u001b[0m\u001b[0;34m\u001b[0m\u001b[0;34m\u001b[0m\u001b[0m\n\u001b[1;32m     58\u001b[0m                 \u001b[0;31m# If a string was given, pass it as the string filename\u001b[0m\u001b[0;34m\u001b[0m\u001b[0;34m\u001b[0m\u001b[0;34m\u001b[0m\u001b[0m\n\u001b[0;32m---> 59\u001b[0;31m                 \u001b[0mmidi_data\u001b[0m \u001b[0;34m=\u001b[0m \u001b[0mmido\u001b[0m\u001b[0;34m.\u001b[0m\u001b[0mMidiFile\u001b[0m\u001b[0;34m(\u001b[0m\u001b[0mfilename\u001b[0m\u001b[0;34m=\u001b[0m\u001b[0mmidi_file\u001b[0m\u001b[0;34m)\u001b[0m\u001b[0;34m\u001b[0m\u001b[0;34m\u001b[0m\u001b[0m\n\u001b[0m\u001b[1;32m     60\u001b[0m             \u001b[0;32melse\u001b[0m\u001b[0;34m:\u001b[0m\u001b[0;34m\u001b[0m\u001b[0;34m\u001b[0m\u001b[0m\n\u001b[1;32m     61\u001b[0m                 \u001b[0;31m# Otherwise, try passing it in as a file pointer\u001b[0m\u001b[0;34m\u001b[0m\u001b[0;34m\u001b[0m\u001b[0;34m\u001b[0m\u001b[0m\n",
      "\u001b[0;32m/Library/Frameworks/Python.framework/Versions/3.6/lib/python3.6/site-packages/mido/midifiles/midifiles.py\u001b[0m in \u001b[0;36m__init__\u001b[0;34m(self, filename, file, type, ticks_per_beat, charset, debug, clip)\u001b[0m\n\u001b[1;32m    313\u001b[0m             \u001b[0mself\u001b[0m\u001b[0;34m.\u001b[0m\u001b[0m_load\u001b[0m\u001b[0;34m(\u001b[0m\u001b[0mfile\u001b[0m\u001b[0;34m)\u001b[0m\u001b[0;34m\u001b[0m\u001b[0;34m\u001b[0m\u001b[0m\n\u001b[1;32m    314\u001b[0m         \u001b[0;32melif\u001b[0m \u001b[0mself\u001b[0m\u001b[0;34m.\u001b[0m\u001b[0mfilename\u001b[0m \u001b[0;32mis\u001b[0m \u001b[0;32mnot\u001b[0m \u001b[0;32mNone\u001b[0m\u001b[0;34m:\u001b[0m\u001b[0;34m\u001b[0m\u001b[0;34m\u001b[0m\u001b[0m\n\u001b[0;32m--> 315\u001b[0;31m             \u001b[0;32mwith\u001b[0m \u001b[0mio\u001b[0m\u001b[0;34m.\u001b[0m\u001b[0mopen\u001b[0m\u001b[0;34m(\u001b[0m\u001b[0mfilename\u001b[0m\u001b[0;34m,\u001b[0m \u001b[0;34m'rb'\u001b[0m\u001b[0;34m)\u001b[0m \u001b[0;32mas\u001b[0m \u001b[0mfile\u001b[0m\u001b[0;34m:\u001b[0m\u001b[0;34m\u001b[0m\u001b[0;34m\u001b[0m\u001b[0m\n\u001b[0m\u001b[1;32m    316\u001b[0m                 \u001b[0mself\u001b[0m\u001b[0;34m.\u001b[0m\u001b[0m_load\u001b[0m\u001b[0;34m(\u001b[0m\u001b[0mfile\u001b[0m\u001b[0;34m)\u001b[0m\u001b[0;34m\u001b[0m\u001b[0;34m\u001b[0m\u001b[0m\n\u001b[1;32m    317\u001b[0m \u001b[0;34m\u001b[0m\u001b[0m\n",
      "\u001b[0;31mFileNotFoundError\u001b[0m: [Errno 2] No such file or directory: 'datasets/trainData/chords/test/testlmd.mid'"
     ]
    }
   ],
   "source": [
    "plotTradeFour('test/testlmd.mid')"
   ]
  },
  {
   "cell_type": "markdown",
   "metadata": {
    "colab_type": "text",
    "id": "1z8g4E6UDrnj"
   },
   "source": [
    "## Test B: Overfitting"
   ]
  },
  {
   "cell_type": "code",
   "execution_count": 0,
   "metadata": {
    "colab": {},
    "colab_type": "code",
    "id": "c_NTDPAtDrnk"
   },
   "outputs": [],
   "source": [
    "# test how much % model can learn a melody\n",
    "\n",
    "# define test melody\n",
    "# train network\n",
    "# give percentage of how much it learnt\n",
    "\n",
    "chordsDict={\n",
    "    'C': [1,0,0,0,1,0,0,1,0,0,0,0],\n",
    "    'C7': [1,0,0,0,1,0,0,1,0,0,1,0],\n",
    "    'Cmaj7': [1,0,0,0,1,0,0,1,0,0,0,1]\n",
    "}"
   ]
  },
  {
   "cell_type": "code",
   "execution_count": 0,
   "metadata": {
    "colab": {},
    "colab_type": "code",
    "id": "q3bpvPeiDrnn",
    "outputId": "220e7428-964b-4cfc-cc61-7a60241946f8",
    "scrolled": false
   },
   "outputs": [
    {
     "data": {
      "text/plain": [
       "(15, 16, 31)"
      ]
     },
     "metadata": {
      "tags": []
     },
     "output_type": "display_data"
    },
    {
     "name": "stdout",
     "output_type": "stream",
     "text": [
      "Nr. of params: 30485\n"
     ]
    }
   ],
   "source": [
    "# test data\n",
    "notes = [0,2,4,7,7,4,2,0,0,2,4,7,7,4,2,0,0,5,3,4,5,8,7,5,0,2,4,7,7,4,2,0]\n",
    "times = np.ones(32)*8\n",
    "chord = chordsDict['C']\n",
    "chords = np.repeat(chord, 32).reshape((12,-1)).T\n",
    "encoding = True\n",
    "train_data, train_labels = getInputSequences(notes, times, chords, encoding=encoding, modulation=False, padding=False, seq_len=1)\n",
    "\n",
    "display(train_data.shape)\n",
    "batch_size = 32\n",
    "train_loader = getDataLoader(train_data, train_labels, batch_size=batch_size, shuffle=False)\n",
    "\n",
    "# test model\n",
    "model_params = {\n",
    "    'input_dim': train_data.shape[-1],\n",
    "    'hidden_dim': 64,\n",
    "    'num_layers': 1,\n",
    "    'output_dim_pitch': MELODY,\n",
    "    'output_dim_duration': TIMES,\n",
    "    'dropout': 0\n",
    "}\n",
    "\n",
    "testmodel = LSTM(**model_params)\n",
    "testmodel.to(device)"
   ]
  },
  {
   "cell_type": "code",
   "execution_count": 0,
   "metadata": {
    "colab": {},
    "colab_type": "code",
    "id": "gelE-IxbDrnq",
    "outputId": "714c3e78-b332-46d7-b07c-704a2c735345",
    "scrolled": true
   },
   "outputs": [
    {
     "name": "stdout",
     "output_type": "stream",
     "text": [
      "tensor([2, 2, 0, 2, 0, 0, 0, 0, 0, 0, 2, 2, 0, 0, 0])\n",
      "tensor([0., 5., 3., 4., 5., 8., 7., 5., 0., 2., 4., 7., 7., 4., 2.],\n",
      "       dtype=torch.float64)\n",
      "loss:  7.3719 acc_train:  6 acc_val:  6\n",
      "loss:  1.8806 acc_train:  20 acc_val:  20\n",
      "loss:  1.8009 acc_train:  26 acc_val:  26\n",
      "loss:  1.6949 acc_train:  33 acc_val:  33\n",
      "loss:  1.5203 acc_train:  53 acc_val:  53\n",
      "tensor([0, 5, 8, 4, 5, 8, 7, 5, 0, 7, 4, 7, 5, 4, 7])\n",
      "tensor([0., 5., 3., 4., 5., 8., 7., 5., 0., 2., 4., 7., 7., 4., 2.],\n",
      "       dtype=torch.float64)\n",
      "loss:  1.2851 acc_train:  73 acc_val:  73\n",
      "loss:  1.0255 acc_train:  80 acc_val:  80\n",
      "loss:  0.8072 acc_train:  86 acc_val:  86\n",
      "loss:  0.6302 acc_train:  86 acc_val:  86\n",
      "loss:  0.4656 acc_train:  93 acc_val:  93\n",
      "tensor([0, 5, 3, 4, 5, 8, 7, 5, 0, 2, 4, 7, 7, 4, 2])\n",
      "tensor([0., 5., 3., 4., 5., 8., 7., 5., 0., 2., 4., 7., 7., 4., 2.],\n",
      "       dtype=torch.float64)\n",
      "loss:  0.3227 acc_train:  100 acc_val:  100\n",
      "loss:  0.2176 acc_train:  100 acc_val:  100\n",
      "loss:  0.1449 acc_train:  100 acc_val:  100\n",
      "loss:  0.1 acc_train:  100 acc_val:  100\n",
      "loss:  0.0731 acc_train:  100 acc_val:  100\n",
      "tensor([0, 5, 3, 4, 5, 8, 7, 5, 0, 2, 4, 7, 7, 4, 2])\n",
      "tensor([0., 5., 3., 4., 5., 8., 7., 5., 0., 2., 4., 7., 7., 4., 2.],\n",
      "       dtype=torch.float64)\n",
      "loss:  0.0561 acc_train:  100 acc_val:  100\n",
      "loss:  0.0446 acc_train:  100 acc_val:  100\n",
      "loss:  0.0366 acc_train:  100 acc_val:  100\n",
      "loss:  0.0308 acc_train:  100 acc_val:  100\n",
      "loss:  0.0264 acc_train:  100 acc_val:  100\n",
      "tensor([0, 5, 3, 4, 5, 8, 7, 5, 0, 2, 4, 7, 7, 4, 2])\n",
      "tensor([0., 5., 3., 4., 5., 8., 7., 5., 0., 2., 4., 7., 7., 4., 2.],\n",
      "       dtype=torch.float64)\n",
      "loss:  0.0231 acc_train:  100 acc_val:  100\n",
      "loss:  0.0204 acc_train:  100 acc_val:  100\n",
      "loss:  0.0182 acc_train:  100 acc_val:  100\n",
      "loss:  0.0164 acc_train:  100 acc_val:  100\n",
      "loss:  0.0149 acc_train:  100 acc_val:  100\n",
      "tensor([0, 5, 3, 4, 5, 8, 7, 5, 0, 2, 4, 7, 7, 4, 2])\n",
      "tensor([0., 5., 3., 4., 5., 8., 7., 5., 0., 2., 4., 7., 7., 4., 2.],\n",
      "       dtype=torch.float64)\n",
      "loss:  0.0136 acc_train:  100 acc_val:  100\n",
      "loss:  0.0125 acc_train:  100 acc_val:  100\n",
      "loss:  0.0116 acc_train:  100 acc_val:  100\n",
      "loss:  0.0107 acc_train:  100 acc_val:  100\n",
      "loss:  0.01 acc_train:  100 acc_val:  100\n",
      "tensor([0, 5, 3, 4, 5, 8, 7, 5, 0, 2, 4, 7, 7, 4, 2])\n",
      "tensor([0., 5., 3., 4., 5., 8., 7., 5., 0., 2., 4., 7., 7., 4., 2.],\n",
      "       dtype=torch.float64)\n",
      "loss:  0.0093 acc_train:  100 acc_val:  100\n",
      "loss:  0.0087 acc_train:  100 acc_val:  100\n",
      "loss:  0.0082 acc_train:  100 acc_val:  100\n",
      "loss:  0.0077 acc_train:  100 acc_val:  100\n",
      "loss:  0.0073 acc_train:  100 acc_val:  100\n",
      "tensor([0, 5, 3, 4, 5, 8, 7, 5, 0, 2, 4, 7, 7, 4, 2])\n",
      "tensor([0., 5., 3., 4., 5., 8., 7., 5., 0., 2., 4., 7., 7., 4., 2.],\n",
      "       dtype=torch.float64)\n",
      "loss:  0.0069 acc_train:  100 acc_val:  100\n",
      "loss:  0.0066 acc_train:  100 acc_val:  100\n",
      "loss:  0.0062 acc_train:  100 acc_val:  100\n",
      "loss:  0.0059 acc_train:  100 acc_val:  100\n",
      "loss:  0.0056 acc_train:  100 acc_val:  100\n",
      "tensor([0, 5, 3, 4, 5, 8, 7, 5, 0, 2, 4, 7, 7, 4, 2])\n",
      "tensor([0., 5., 3., 4., 5., 8., 7., 5., 0., 2., 4., 7., 7., 4., 2.],\n",
      "       dtype=torch.float64)\n",
      "loss:  0.0054 acc_train:  100 acc_val:  100\n",
      "loss:  0.0052 acc_train:  100 acc_val:  100\n",
      "loss:  0.0049 acc_train:  100 acc_val:  100\n",
      "loss:  0.0047 acc_train:  100 acc_val:  100\n",
      "loss:  0.0045 acc_train:  100 acc_val:  100\n",
      "tensor([0, 5, 3, 4, 5, 8, 7, 5, 0, 2, 4, 7, 7, 4, 2])\n",
      "tensor([0., 5., 3., 4., 5., 8., 7., 5., 0., 2., 4., 7., 7., 4., 2.],\n",
      "       dtype=torch.float64)\n",
      "loss:  0.0044 acc_train:  100 acc_val:  100\n",
      "loss:  0.0042 acc_train:  100 acc_val:  100\n",
      "loss:  0.004 acc_train:  100 acc_val:  100\n",
      "loss:  0.0039 acc_train:  100 acc_val:  100\n",
      "loss:  0.0037 acc_train:  100 acc_val:  100\n",
      "tensor([0, 5, 3, 4, 5, 8, 7, 5, 0, 2, 4, 7, 7, 4, 2])\n",
      "tensor([0., 5., 3., 4., 5., 8., 7., 5., 0., 2., 4., 7., 7., 4., 2.],\n",
      "       dtype=torch.float64)\n",
      "loss:  0.0036 acc_train:  100 acc_val:  100\n",
      "loss:  0.0035 acc_train:  100 acc_val:  100\n",
      "loss:  0.0034 acc_train:  100 acc_val:  100\n",
      "loss:  0.0033 acc_train:  100 acc_val:  100\n",
      "loss:  0.0032 acc_train:  100 acc_val:  100\n",
      "tensor([0, 5, 3, 4, 5, 8, 7, 5, 0, 2, 4, 7, 7, 4, 2])\n",
      "tensor([0., 5., 3., 4., 5., 8., 7., 5., 0., 2., 4., 7., 7., 4., 2.],\n",
      "       dtype=torch.float64)\n",
      "loss:  0.0031 acc_train:  100 acc_val:  100\n",
      "loss:  0.003 acc_train:  100 acc_val:  100\n",
      "loss:  0.0029 acc_train:  100 acc_val:  100\n",
      "loss:  0.0028 acc_train:  100 acc_val:  100\n",
      "loss:  0.0027 acc_train:  100 acc_val:  100\n",
      "tensor([0, 5, 3, 4, 5, 8, 7, 5, 0, 2, 4, 7, 7, 4, 2])\n",
      "tensor([0., 5., 3., 4., 5., 8., 7., 5., 0., 2., 4., 7., 7., 4., 2.],\n",
      "       dtype=torch.float64)\n",
      "loss:  0.0026 acc_train:  100 acc_val:  100\n",
      "loss:  0.0025 acc_train:  100 acc_val:  100\n",
      "loss:  0.0025 acc_train:  100 acc_val:  100\n",
      "loss:  0.0024 acc_train:  100 acc_val:  100\n",
      "loss:  0.0023 acc_train:  100 acc_val:  100\n",
      "tensor([0, 5, 3, 4, 5, 8, 7, 5, 0, 2, 4, 7, 7, 4, 2])\n",
      "tensor([0., 5., 3., 4., 5., 8., 7., 5., 0., 2., 4., 7., 7., 4., 2.],\n",
      "       dtype=torch.float64)\n",
      "loss:  0.0023 acc_train:  100 acc_val:  100\n",
      "loss:  0.0022 acc_train:  100 acc_val:  100\n",
      "loss:  0.0022 acc_train:  100 acc_val:  100\n",
      "loss:  0.0021 acc_train:  100 acc_val:  100\n",
      "loss:  0.0021 acc_train:  100 acc_val:  100\n",
      "tensor([0, 5, 3, 4, 5, 8, 7, 5, 0, 2, 4, 7, 7, 4, 2])\n",
      "tensor([0., 5., 3., 4., 5., 8., 7., 5., 0., 2., 4., 7., 7., 4., 2.],\n",
      "       dtype=torch.float64)\n",
      "loss:  0.002 acc_train:  100 acc_val:  100\n",
      "loss:  0.002 acc_train:  100 acc_val:  100\n",
      "loss:  0.0019 acc_train:  100 acc_val:  100\n",
      "loss:  0.0019 acc_train:  100 acc_val:  100\n",
      "loss:  0.0018 acc_train:  100 acc_val:  100\n",
      "tensor([0, 5, 3, 4, 5, 8, 7, 5, 0, 2, 4, 7, 7, 4, 2])\n",
      "tensor([0., 5., 3., 4., 5., 8., 7., 5., 0., 2., 4., 7., 7., 4., 2.],\n",
      "       dtype=torch.float64)\n",
      "loss:  0.0018 acc_train:  100 acc_val:  100\n",
      "loss:  0.0017 acc_train:  100 acc_val:  100\n",
      "loss:  0.0017 acc_train:  100 acc_val:  100\n",
      "loss:  0.0017 acc_train:  100 acc_val:  100\n",
      "loss:  0.0016 acc_train:  100 acc_val:  100\n",
      "tensor([0, 5, 3, 4, 5, 8, 7, 5, 0, 2, 4, 7, 7, 4, 2])\n",
      "tensor([0., 5., 3., 4., 5., 8., 7., 5., 0., 2., 4., 7., 7., 4., 2.],\n",
      "       dtype=torch.float64)\n",
      "loss:  0.0016 acc_train:  100 acc_val:  100\n",
      "loss:  0.0016 acc_train:  100 acc_val:  100\n",
      "loss:  0.0015 acc_train:  100 acc_val:  100\n",
      "loss:  0.0015 acc_train:  100 acc_val:  100\n",
      "loss:  0.0015 acc_train:  100 acc_val:  100\n",
      "tensor([0, 5, 3, 4, 5, 8, 7, 5, 0, 2, 4, 7, 7, 4, 2])\n",
      "tensor([0., 5., 3., 4., 5., 8., 7., 5., 0., 2., 4., 7., 7., 4., 2.],\n",
      "       dtype=torch.float64)\n",
      "loss:  0.0014 acc_train:  100 acc_val:  100\n",
      "loss:  0.0014 acc_train:  100 acc_val:  100\n",
      "loss:  0.0014 acc_train:  100 acc_val:  100\n",
      "loss:  0.0013 acc_train:  100 acc_val:  100\n",
      "loss:  0.0013 acc_train:  100 acc_val:  100\n",
      "tensor([0, 5, 3, 4, 5, 8, 7, 5, 0, 2, 4, 7, 7, 4, 2])\n",
      "tensor([0., 5., 3., 4., 5., 8., 7., 5., 0., 2., 4., 7., 7., 4., 2.],\n",
      "       dtype=torch.float64)\n",
      "loss:  0.0013 acc_train:  100 acc_val:  100\n",
      "loss:  0.0013 acc_train:  100 acc_val:  100\n",
      "loss:  0.0012 acc_train:  100 acc_val:  100\n",
      "loss:  0.0012 acc_train:  100 acc_val:  100\n",
      "loss:  0.0012 acc_train:  100 acc_val:  100\n",
      "tensor([0, 5, 3, 4, 5, 8, 7, 5, 0, 2, 4, 7, 7, 4, 2])\n",
      "tensor([0., 5., 3., 4., 5., 8., 7., 5., 0., 2., 4., 7., 7., 4., 2.],\n",
      "       dtype=torch.float64)\n",
      "loss:  0.0012 acc_train:  100 acc_val:  100\n",
      "loss:  0.0012 acc_train:  100 acc_val:  100\n",
      "loss:  0.0011 acc_train:  100 acc_val:  100\n",
      "loss:  0.0011 acc_train:  100 acc_val:  100\n",
      "loss:  0.0011 acc_train:  100 acc_val:  100\n"
     ]
    },
    {
     "data": {
      "image/png": "[encoded data removed]",
      "text/plain": [
       "<Figure size 432x288 with 1 Axes>"
      ]
     },
     "metadata": {
      "needs_background": "light",
      "tags": []
     },
     "output_type": "display_data"
    }
   ],
   "source": [
    "train_params = {\n",
    "    'train_loader': train_loader,\n",
    "    'val_loader': train_loader,\n",
    "    'optim': torch.optim.Adam(testmodel.parameters(), lr=1e-2),\n",
    "    'loss_fn': torch.nn.CrossEntropyLoss(),\n",
    "    'num_epochs': 1000\n",
    "}\n",
    "train(testmodel, **train_params)"
   ]
  },
  {
   "cell_type": "code",
   "execution_count": 0,
   "metadata": {
    "colab": {},
    "colab_type": "code",
    "id": "57ym3Kx-Drnz"
   },
   "outputs": [],
   "source": []
  },
  {
   "cell_type": "code",
   "execution_count": 0,
   "metadata": {
    "colab": {},
    "colab_type": "code",
    "id": "1zPqpYyNDrn3"
   },
   "outputs": [],
   "source": [
    "## Testing Krumhansl"
   ]
  },
  {
   "cell_type": "code",
   "execution_count": 0,
   "metadata": {
    "colab": {},
    "colab_type": "code",
    "id": "fIP8bzP9Drn6"
   },
   "outputs": [],
   "source": [
    "folder = \"datasets/lmd_full/0/\"\n",
    "#files[:5]\n",
    "\n",
    "files = [file for file in os.listdir(folder) if '.mid' in file]\n",
    "pm = pretty_midi.PrettyMIDI(folder + files[2])\n",
    "pch = pm.get_pitch_class_histogram()\n",
    "\n",
    "np.argmax(ks_key(pch)[1])\n",
    "\n",
    "pm.key_signature_changes\n",
    "\n",
    "folder = \"datasets/Piano-midi.de/train/\" #0.75 ohne C mit rel\n",
    "folder = \"datasets/kpcorpus/\" \n",
    "folder = \"datasets/lmd_full/2/\"\n",
    "t = time.time()\n",
    "\n",
    "# find keys\n",
    "files = [file for file in os.listdir(folder) if '.mid' in file]\n",
    "    \n",
    "def key(key_number):\n",
    "    return pretty_midi.key_number_to_key_name(key_number)\n",
    "\n",
    "def keynr(key):\n",
    "    return pretty_midi.key_name_to_key_number(key)\n",
    "       \n",
    "def isFifth(realkey,predkey):\n",
    "    return (realkey - predkey)%12 == 7 or (predkey - realkey)%12 == 7\n",
    "        \n",
    "def isRelative(realkey,predkey):\n",
    "    if realkey > 11 and (realkey - 9) % 12 == predkey:\n",
    "        return True\n",
    "    elif predkey > 11 and (predkey - 9) % 12 == realkey:\n",
    "        return True\n",
    "    else:\n",
    "        return False\n",
    "        \n",
    "def isParallel(realkey,predkey):\n",
    "    return realkey%12 == predkey%12\n",
    "\n",
    "correct ,fifth,relative,parallel,total = 0,0,0,0,0\n",
    "keys=[]\n",
    "print(\"Scale by first keychange event, \\t Scale by KrumhanslSchmuckler, \\t, Filename\")\n",
    "for i, file in enumerate(files[:100]):\n",
    "    try:\n",
    "        pm = pretty_midi.PrettyMIDI(folder + file)\n",
    "    except:\n",
    "        continue\n",
    "\n",
    "    pm = pretty_midi.PrettyMIDI(folder + file)\n",
    "    if pm.key_signature_changes != []:\n",
    "        try:\n",
    "            algkey = ks_key(pm.get_pitch_class_histogram(), 'aarden')\n",
    "            pmkeys = [x.key_number for x in pm.key_signature_changes]\n",
    "            pmkey = pmkeys[0]\n",
    "            if pmkey == 0:\n",
    "                continue\n",
    "            keys.append([pmkey,algkey])\n",
    "            #print(key(pmkey), '\\t', key(int(algkey)), '\\t', file, '\\t', pmkeys)\n",
    "        except:\n",
    "            pass\n",
    "\n",
    "correct ,fifth,relative,parallel,total = 0,0,0,0,0\n",
    "for key in keys:\n",
    "    realkey = key[0]\n",
    "    predkey = key[1]\n",
    "    total += 1\n",
    "    if realkey == predkey:\n",
    "        correct += 1\n",
    "    elif isFifth(realkey,predkey):\n",
    "        fifth += 1\n",
    "    elif isRelative(realkey,predkey):\n",
    "        relative += 1\n",
    "    elif isParallel(realkey,predkey):\n",
    "        parallel += 1\n",
    "print(\"time\", np.round(time.time()-t,2), \"s\")\n",
    "print(correct, relative, fifth, parallel, total)\n",
    "print((correct+relative)/total, correct/total, relative/total, fifth/total, parallel/total, (total-correct-fifth-relative-parallel)/total)\n"
   ]
  },
  {
   "cell_type": "code",
   "execution_count": 0,
   "metadata": {
    "colab": {},
    "colab_type": "code",
    "id": "gfDCQVeKDrn9"
   },
   "outputs": [],
   "source": []
  },
  {
   "cell_type": "code",
   "execution_count": 0,
   "metadata": {
    "colab": {},
    "colab_type": "code",
    "id": "6frqMELbDroA"
   },
   "outputs": [],
   "source": []
  },
  {
   "cell_type": "code",
   "execution_count": 0,
   "metadata": {
    "colab": {},
    "colab_type": "code",
    "id": "7Amv8q3uDroC"
   },
   "outputs": [],
   "source": []
  },
  {
   "cell_type": "code",
   "execution_count": 0,
   "metadata": {
    "colab": {},
    "colab_type": "code",
    "id": "EYwLvorgDroH"
   },
   "outputs": [],
   "source": []
  },
  {
   "cell_type": "code",
   "execution_count": 0,
   "metadata": {
    "colab": {},
    "colab_type": "code",
    "id": "m4CGABNGDroP"
   },
   "outputs": [],
   "source": []
  }
 ],
 "metadata": {
  "accelerator": "GPU",
  "colab": {
   "collapsed_sections": [],
   "name": "aJamBuddyDACTFBass.ipynb",
   "provenance": [],
   "toc_visible": true,
   "version": "0.3.2"
  },
  "kernelspec": {
   "display_name": "Python 3",
   "language": "python",
   "name": "python3"
  },
  "language_info": {
   "codemirror_mode": {
    "name": "ipython",
    "version": 3
   },
   "file_extension": ".py",
   "mimetype": "text/x-python",
   "name": "python",
   "nbconvert_exporter": "python",
   "pygments_lexer": "ipython3",
   "version": "3.6.7"
  }
 },
 "nbformat": 4,
 "nbformat_minor": 1
}
