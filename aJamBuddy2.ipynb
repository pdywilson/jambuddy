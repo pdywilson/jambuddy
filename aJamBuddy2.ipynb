{
 "cells": [
  {
   "cell_type": "code",
   "execution_count": 1,
   "metadata": {
    "colab": {},
    "colab_type": "code",
    "id": "VSrdFgxyDrmG",
    "scrolled": false
   },
   "outputs": [],
   "source": [
    "%matplotlib inline\n",
    "import os\n",
    "import time\n",
    "import numpy as np\n",
    "import matplotlib.pyplot as plt\n",
    "import IPython.display\n",
    "import collections\n",
    "from collections import Counter\n",
    "import seaborn as sns\n",
    "#import pyfluidsynth\n",
    "import random\n",
    "\n",
    "from pathlib import Path\n",
    "import pretty_midi\n",
    "import librosa.display\n",
    "import glob\n",
    "import datetime\n",
    "\n",
    "from music21 import *\n",
    "\n",
    "import tensorflow as tf\n",
    "tf.enable_eager_execution()\n",
    "\n",
    "%load_ext autoreload\n",
    "%autoreload 2\n",
    "\n",
    "folder = 'train/'\n"
   ]
  },
  {
   "cell_type": "code",
   "execution_count": 2,
   "metadata": {
    "colab": {
     "base_uri": "https://localhost:8080/",
     "height": 122
    },
    "colab_type": "code",
    "id": "YbO_nrQpDrmO",
    "outputId": "ba1ca338-a594-49d2-986d-5914746ffb96"
   },
   "outputs": [],
   "source": [
    "# some prep steps\n",
    "# for google colab\n",
    "try:\n",
    "    import google.colab\n",
    "    IN_COLAB = True\n",
    "except:\n",
    "    IN_COLAB = False\n",
    "    \n",
    "if IN_COLAB:\n",
    "    from google.colab import drive\n",
    "    drive.mount('/content/drive/')\n",
    "    data_folder = \"/content/drive/My Drive/Colab Notebooks/data/\"\n",
    "    os.chdir(data_folder)\n",
    "else:\n",
    "    data_folder = \"\"\n"
   ]
  },
  {
   "cell_type": "markdown",
   "metadata": {
    "colab_type": "text",
    "id": "95G80nAcDrmS"
   },
   "source": [
    "# A. Preprocess Midi file\n",
    "#### Choose a harmony and a melody track from a MIDI file"
   ]
  },
  {
   "cell_type": "code",
   "execution_count": 3,
   "metadata": {
    "colab": {},
    "colab_type": "code",
    "id": "tdAtAPtXNX61"
   },
   "outputs": [],
   "source": [
    "def plot_piano_roll(pm, start_pitch, end_pitch, fs=100):\n",
    "    librosa.display.specshow(pm.get_piano_roll(fs)[start_pitch:end_pitch],\n",
    "                             hop_length=1, sr=fs, x_axis='time', y_axis='cqt_note',\n",
    "                             fmin=pretty_midi.note_number_to_hz(start_pitch))"
   ]
  },
  {
   "cell_type": "code",
   "execution_count": 4,
   "metadata": {
    "colab": {},
    "colab_type": "code",
    "id": "iSk5F55lDrmb"
   },
   "outputs": [],
   "source": [
    "## PARAMS\n",
    "# highest note is melody\n",
    "LOW = 48 # C2=48, C3=60, C4=72, C5=84, C6=96\n",
    "HIGH = 84 # range(48,84) = 36 notes \n",
    "\n",
    "# input sizes\n",
    "MELODY = 37 \n",
    "TIMES = 48\n",
    "CHORDS = 12\n"
   ]
  },
  {
   "cell_type": "code",
   "execution_count": 5,
   "metadata": {
    "colab": {},
    "colab_type": "code",
    "id": "eAk1YucbNX67"
   },
   "outputs": [],
   "source": [
    "# krumhansl schmuckler\n",
    "# adapted from https://gist.github.com/bmcfee/1f66825cef2eb34c839b42dddbad49fd\n",
    "import scipy.linalg\n",
    "import scipy.stats\n",
    "\n",
    "def ks_key(X, weights='kessler'):\n",
    "    '''Estimate the key from a pitch class distribution\n",
    "    \n",
    "    Parameters\n",
    "    ----------\n",
    "    X : np.ndarray, shape=(12,)\n",
    "        Pitch-class energy distribution.  Need not be normalized\n",
    "        \n",
    "    Returns\n",
    "    -------\n",
    "    major : np.ndarray, shape=(12,)\n",
    "    minor : np.ndarray, shape=(12,)\n",
    "    \n",
    "        For each key (C:maj, ..., B:maj) and (C:min, ..., B:min),\n",
    "        the correlation score for `X` against that key.\n",
    "    '''\n",
    "    X = scipy.stats.zscore(X)\n",
    "    \n",
    "    # Coefficients from Kumhansl and Schmuckler\n",
    "    # as reported here: http://rnhart.net/articles/key-finding/\n",
    "    \n",
    "    # weights as https://musicinformationretrieval.wordpress.com/2017/02/24/state-of-the-art-2/\n",
    "    if weights == 'kessler':\n",
    "        major = np.asarray([6.35, 2.23, 3.48, 2.33, 4.38, 4.09, 2.52, 5.19, 2.39, 3.66, 2.29, 2.88])\n",
    "        minor = np.asarray([6.33, 2.68, 3.52, 5.38, 2.60, 3.53, 2.54, 4.75, 3.98, 2.69, 3.34, 3.17])\n",
    "    elif weights == 'schmuckler':\n",
    "        major = np.asarray([6.35, 2.33, 3.48, 2.33, 4.38, 4.09, 2.52, 5.19, 2.39, 3.66, 2.29, 2.88])\n",
    "        minor = np.asarray([6.33, 2.68, 3.52, 5.38, 2.60, 3.53, 2.54, 4.75, 3.98, 2.69, 3.34, 3.17])\n",
    "    elif weights == 'aarden':\n",
    "        major = np.asarray([17.7661, 0.145624, 14.9265, 0.160186, 19.8049, 11.3587, 0.281248, 22.062, 0.145624, 8.15494, 0.232998, 4.95122])\n",
    "        minor = np.asarray([18.2648, 0.737619, 14.0499, 16.8599, 0.702494, 14.4362, 0.702494, 18.6161, 4.56621, 1.93186, 7.37619, 1.75623])\n",
    "    elif weights == 'sapp':\n",
    "        major = np.asarray([2, 0, 1, 0, 1, 1, 0, 2, 0, 1, 0, 1])\n",
    "        minor = np.asarray([2, 0, 1, 1, 0, 1, 0, 2, 1, 0, 0.5, 0.5])\n",
    "    elif weights == 'bellman':\n",
    "        major = np.asarray([16.8, 0.86, 12.95, 1.41, 13.49, 11.93, 1.25, 20.28, 1.8, 8.04, 0.62, 10.57])\n",
    "        minor = np.asarray([18.16, 0.69, 12.99, 13.34, 1.07, 11.15, 1.38, 21.07, 7.49, 1.53, 0.92, 10.21])\n",
    "    elif weights == 'temperley':\n",
    "        major = np.asarray([0.748, 0.06, 0.488, 0.082, 0.67, 0.46, 0.096, 0.715, 0.104, 0.366, 0.057, 0.4])\n",
    "        minor = np.asarray([0.712, 0.84, 0.474, 0.618, 0.049, 0.46, 0.105, 0.747, 0.404, 0.067, 0.133, 0.33])\n",
    "        \n",
    "        \n",
    "    major = scipy.stats.zscore(major)\n",
    "    minor = scipy.stats.zscore(minor)\n",
    "    \n",
    "    # Generate all rotations of major\n",
    "    major = scipy.linalg.circulant(major)\n",
    "    minor = scipy.linalg.circulant(minor)\n",
    "    \n",
    "    major = major.T.dot(X)\n",
    "    minor = minor.T.dot(X)\n",
    "    \n",
    "    major_max = np.argmax(major)\n",
    "    minor_max = np.argmax(minor)\n",
    "    return major_max if np.max(major) >= np.max(minor) else minor_max+12"
   ]
  },
  {
   "cell_type": "code",
   "execution_count": 6,
   "metadata": {
    "colab": {},
    "colab_type": "code",
    "id": "eYnJdXBYDrmf"
   },
   "outputs": [],
   "source": [
    "# MIDI processing\n",
    "def getTracks(file):\n",
    "    pm_harmony = pretty_midi.PrettyMIDI(folder+'chords/'+file).instruments[0].notes\n",
    "    pm_melody = pretty_midi.PrettyMIDI(folder+'melody/'+file).instruments[0].notes\n",
    "    return {'melody': pm_melody, 'harmony': pm_harmony}\n",
    "\n",
    "def getMelodyAndHarmonyBass(file):\n",
    "    #already midi file with one piano and one melody\n",
    "    pm = pretty_midi.PrettyMIDI(file)\n",
    "    pm.remove_invalid_notes()\n",
    "    for i, elt in enumerate(pm.instruments):\n",
    "        if 'piano' in pm.instruments[i].name.lower():\n",
    "            piano = pm.instruments[i].notes\n",
    "        elif 'bass' in pm.instruments[i].name.lower():\n",
    "            bass = pm.instruments[i].notes\n",
    "    \n",
    "    result = {'melody': bass, 'harmony': piano}\n",
    "    \n",
    "    \n",
    "    return result\n",
    "\n",
    "\n",
    "def getMelodyAndHarmony(file):\n",
    "    def padAndAdd(a,b):\n",
    "        return sorted(a+b,key= lambda x:x.start)\n",
    "    \n",
    "    pm = pretty_midi.PrettyMIDI(file)\n",
    "    pm.remove_invalid_notes()\n",
    "    print(\"\\nEasy Processing: \"+file)\n",
    "    \n",
    "    if len(pm.instruments) == 1:\n",
    "        print(\"Both: Using only track for both harmony and melody\")\n",
    "        pianoroll = pm.instruments[0].notes\n",
    "        return {'melody': pianoroll, 'harmony': pianoroll}\n",
    "    \n",
    "    else:\n",
    "        maxlen = 0\n",
    "        pianos = []\n",
    "        guitars = []\n",
    "        melodies = []\n",
    "        for i, elt in enumerate(pm.instruments):\n",
    "            #if pm.instruments[i].is_drum:\n",
    "            #    continue\n",
    "            pianoroll = pm.instruments[i].get_piano_roll().T\n",
    "            numnotes = pianoroll.nonzero()[0].shape[0]\n",
    "            if numnotes > maxlen:\n",
    "                mostnotes = i\n",
    "                maxlen = numnotes\n",
    "            if 'piano' in pm.instruments[i].name.lower():             #if pm.instruments[i].program in range(8): # MIDI 0..7 are pianos\n",
    "                pianos.append((pm.instruments[i].notes,numnotes))\n",
    "            if 'guitar' in pm.instruments[i].name.lower():             #if pm.instruments[i].program in range(24,32):\n",
    "                guitars.append((pm.instruments[i].notes,numnotes))\n",
    "            if 'melody' in pm.instruments[i].name.lower():\n",
    "                # melodies.append((pianoroll,numnotes)) do i really want to padandadd two melodies always??\n",
    "                melodies.append(pm.instruments[i].notes)\n",
    "\n",
    "        if pianos != []:\n",
    "            print(\"Harmony: Using piano with most notes as harmony of\", len(pianos))\n",
    "            pianowithmostnotes = max(pianos, key=lambda x: x[1])\n",
    "            harmonytrack = pianowithmostnotes[0]\n",
    "        elif guitars != []:\n",
    "            print(\"Harmony: Using guitar with most notes as harmony of\", len(guitars))\n",
    "            guitarwithmostnotes = max(guitars, key=lambda x: x[1])\n",
    "            harmonytrack = guitarwithmostnotes[0]\n",
    "        else:\n",
    "            print(\"Error: no piano or guitar track found\")\n",
    "            harmonytrack = pm.instruments[0].notes\n",
    "            return\n",
    "\n",
    "        if len(melodies) == 1:\n",
    "            print(\"Melody: using only melody track as melody\")\n",
    "            melodytrack = melodies[0]\n",
    "        elif len(melodies) == 2:\n",
    "            print(\"Melody: padding and adding two melodies to one\")\n",
    "            melodytrack = padAndAdd(melodies[0], melodies[1])\n",
    "        elif len(melodies) > 2:\n",
    "            print(\"Melody: more than 2 melody tracks. padding and adding first two of # \", len(melodies),\"melodies.\")\n",
    "            melodytrack = padAndAdd(melodies[0], melodies[1])\n",
    "        else:\n",
    "            print(\"Error: no melody track found.\")\n",
    "            melodytrack = pm.instruments[0].notes\n",
    "            return\n",
    "\n",
    "        return {'melody': melodytrack, 'harmony': harmonytrack}\n",
    "\n",
    "def oneHot(idx, arraysize):\n",
    "    if idx >= arraysize:\n",
    "        print(\"error idx > arraysize\")\n",
    "        return\n",
    "    ar = np.zeros(arraysize)\n",
    "    ar[idx] = 1\n",
    "    return ar\n",
    "\n",
    "def processMidi(file):\n",
    "    pm = pretty_midi.PrettyMIDI(folder+'chords/'+file)\n",
    "    #tracks = getMelodyAndHarmony(file)\n",
    "    #tracks = getMelodyAndHarmonyBass(file) //changing, this doesnt work anymore -> DACBass\n",
    "    tracks = getTracks(file)\n",
    "\n",
    "    pmnotes = tracks['melody']\n",
    "    notes, times = [], []\n",
    "    currenttime = 0\n",
    "    for i, note in enumerate(pmnotes):\n",
    "        if note.start > currenttime:\n",
    "            notes.append(MELODY-1)\n",
    "            duration = pm.time_to_tick(note.start-currenttime)\n",
    "            times.append(duration)\n",
    "        if note.pitch in range(LOW,HIGH):\n",
    "            notes.append(note.pitch - LOW)\n",
    "        else:\n",
    "            notes.append(note.pitch % 12)\n",
    "        if i < len(pmnotes)-1 and note.end > pmnotes[i+1].start: # overlap with next note\n",
    "            times.append(pm.time_to_tick(pmnotes[i+1].start - note.start))\n",
    "            currenttime = pmnotes[i+1].start\n",
    "        else:\n",
    "            times.append(pm.time_to_tick(note.end-note.start))\n",
    "            currenttime = note.end\n",
    "    times = np.array(np.round(np.array(times)/pm.resolution*12),dtype=np.int32)\n",
    "    \n",
    "    # getChords\n",
    "    pmnotes = tracks['harmony']\n",
    "    notesDict = {}\n",
    "    for i, note in enumerate(pmnotes):\n",
    "        startbeat = int(pm.time_to_tick(note.start)/pm.resolution)\n",
    "        endbeat = int(pm.time_to_tick(note.end)/pm.resolution)\n",
    "        if startbeat == endbeat:\n",
    "            endbeat += 1\n",
    "        for j in range(startbeat, endbeat): #evry beat\n",
    "            notesDict[j] = notesDict.get(j,np.zeros(12)) + oneHot(note.pitch % 12,12)\n",
    "    \n",
    "\n",
    "    # append for every beat (timestep) a vector. either np.zeros or chordinfovector\n",
    "    chords = []\n",
    "    for i in range(max(notesDict)): \n",
    "        chords.append(notesDict.get(i,np.zeros(12)))\n",
    "    chordsByBeat = np.array(chords)\n",
    "    \n",
    "\n",
    "    # connect notes and chords\n",
    "    currbeat = 0\n",
    "    newchords = []\n",
    "    for time in times:\n",
    "        beat = int(currbeat/12)\n",
    "        newchord = np.zeros(12)\n",
    "        for j in range(int((time)/12)): \n",
    "            if j+beat < chordsByBeat.shape[0]:\n",
    "                newchord += chordsByBeat[j+beat]\n",
    "        newchords.append(newchord)\n",
    "        currbeat += time\n",
    "    chords = np.array(newchords)\n",
    "    \n",
    "    \n",
    "     #cleanup\n",
    "    times[np.where(times > 48)[0]] = 48\n",
    "    notes = np.array(notes)[np.where(times > 0)[0]]\n",
    "    chords = chords[np.where(times > 0)[0]]\n",
    "    times = times[np.where(times > 0)[0]]\n",
    "    times = times - 1 # reshift to 0..47\n",
    "    \n",
    "    \n",
    "    #new Chord and key analysis, first only key analysis\n",
    "    algkey = ks_key(pm.get_pitch_class_histogram(), 'aarden')\n",
    "    key = oneHot(algkey,24)\n",
    "    \n",
    "    \n",
    "    \n",
    "    \n",
    "    return notes, times, chords, chordsByBeat, key"
   ]
  },
  {
   "cell_type": "code",
   "execution_count": 7,
   "metadata": {
    "colab": {},
    "colab_type": "code",
    "id": "0kvKT9W1Drmi"
   },
   "outputs": [],
   "source": [
    "# Input representation\n",
    "def getCircleOfThirds(note):\n",
    "    \"\"\"input: note, scalar in [0,C)\n",
    "    output: array, size (11,) including 3 bits for octave, 1 for rest\n",
    "    \"\"\"\n",
    "    circleMajor = lambda x: x%4\n",
    "    circleMinor = lambda x: x%3\n",
    "    representation = np.zeros(11)\n",
    "    if note < MELODY-1:\n",
    "        absnote = note % 12\n",
    "        octave = int(note/12)\n",
    "        representation[7+octave] = 1\n",
    "        representation[circleMajor(absnote)] = 1\n",
    "        representation[4+circleMinor(absnote)] = 1\n",
    "    else:\n",
    "        representation[-1] = 1\n",
    "    return representation\n",
    "\n",
    "def getDuration(duration):\n",
    "    \"\"\"input size (1,) in [0,48)\n",
    "       output size (6,)\n",
    "    \"\"\"\n",
    "    return np.unpackbits(np.uint8(duration))[2:]\n",
    "\n",
    "def getChord(chord):\n",
    "    \"\"\"input size (12,)\n",
    "    outputs current and next chord shape (7,)\n",
    "    \"\"\"\n",
    "    repre = np.zeros(7)\n",
    "    for i, elt in enumerate(chord):\n",
    "        x = elt * getCircleOfThirds(i)[:7]\n",
    "        repre += x\n",
    "    return repre\n",
    "\n",
    "def getFeatureVectors(processedMidi, modulation=False):\n",
    "    \"\"\"input size [7(pitch)+2(octaves)+1(Rest)]+6(duration)+7(chords)+7(nextchords)=30=Fsize #TODO: maybe change chords\n",
    "    Creates Feature Vector from notes lists.\n",
    "    Input: notes, times, chords from processMIDI\n",
    "    Output: features array, size: (N, Fsize)  Fsize varies\n",
    "    \"\"\"\n",
    "    notes, times, chords, chordsByBeat, key = processedMidi\n",
    "    features = []\n",
    "    for i, note in enumerate(notes[:-1]):\n",
    "        feature = np.empty(0)\n",
    "        if encodingDict['melody']:\n",
    "            if notes[i] < MELODY: # pitch or pause bit\n",
    "                feature = np.concatenate((feature, oneHot(notes[i],MELODY)))\n",
    "            else:\n",
    "                print(\"melody over 37\")\n",
    "                feature = np.concatenate((feature, np.zeros(MELODY)))\n",
    "            \n",
    "        if encodingDict['melodyModulo']: \n",
    "            if notes[i] < MELODY-1: # only pitch bit or zeros if pause\n",
    "                feature = np.concatenate((feature, oneHot(notes[i]%12,12)))\n",
    "            else:\n",
    "                feature = np.concatenate((feature, np.zeros(12)))\n",
    "        if encodingDict['melodyEncoded']: # pitch+octave+rest\n",
    "            feature = np.concatenate((feature,getCircleOfThirds(note)))\n",
    "        if encodingDict['duration']:\n",
    "            feature = np.concatenate((feature,oneHot(int(times[i]),48)))  \n",
    "        if encodingDict['durationEncoded']:\n",
    "            feature = np.concatenate((feature,getDuration(times[i])))\n",
    "        if encodingDict['chordsNormally']:\n",
    "            feature = np.concatenate((feature,chords[i]))\n",
    "            feature = np.concatenate((feature,chords[i+1]))\n",
    "        if encodingDict['chordsEncoded']:\n",
    "            feature = np.concatenate((feature,getChord(chords[i])))  # chord ERROR: MAKE THIS BETTER\n",
    "            feature = np.concatenate((feature,getChord(chords[i+1])))   # chord ERROR: MAKE THIS BETTER\n",
    "        if encodingDict['key']:\n",
    "            feature = np.concatenate((feature,key))\n",
    "        features.append(feature)\n",
    "    features = np.array(features)\n",
    "    return features.astype('float32')\n",
    "\n",
    "def getInputSequences(processedMidi, padding=False, seq_len=16):\n",
    "    \"\"\"Create Net Input.\n",
    "    Input: features from getFeatureVectors or getEncodedFeatureVectors\n",
    "    Output: \n",
    "        - Sequences, size: (157, seq_len)\n",
    "        - Labels, one-hot, size: (MELODY,)\n",
    "    \"\"\"\n",
    "    features = getFeatureVectors(processedMidi)\n",
    "    notes, times, _, _, _ = processedMidi\n",
    "    sequences = []\n",
    "    labels = []\n",
    "    i = 0\n",
    "    if padding == True:\n",
    "        padded_notes = np.concatenate((np.zeros((seq_len,features.shape[1])),features[:seq_len]))\n",
    "        for j in range(seq_len):\n",
    "            sequences.append(padded_notes[j:j+seq_len])\n",
    "            label_pitch = notes[j]\n",
    "            label_duration = times[j]\n",
    "            labels.append((label_pitch, label_duration))\n",
    "    while i+seq_len < features.shape[0]:\n",
    "        sequences.append(features[i:i+seq_len])\n",
    "        label_pitch = notes[i+seq_len]\n",
    "        label_duration = times[i+seq_len]\n",
    "        labels.append((label_pitch, label_duration))\n",
    "        i += 1     # or += seq_len\n",
    "        \n",
    "    sequences = np.array(sequences)\n",
    "    labels = np.array(labels)\n",
    "    return sequences, labels\n",
    "\n",
    "def modulate(processedMidi, modulate=0):\n",
    "    \"\"\"modulates downwards\"\"\"\n",
    "    notes, times, chords, chordsByBeat, key = processedMidi\n",
    "    i = modulate\n",
    "    modnotes = notes - i\n",
    "    modnotes[np.where(modnotes == 36 - i)[0]] = 36\n",
    "    modnotes[np.where(modnotes < 0)[0]] = 36\n",
    "\n",
    "    modchords = np.append(chords[:,i:],chords[:,:i],axis=1)\n",
    "\n",
    "    if chordsByBeat is not None:\n",
    "        modcbb = np.append(chordsByBeat[:,i:],chordsByBeat[:,:i],axis=1)\n",
    "    else:\n",
    "        modcbb = None\n",
    "\n",
    "    processedMidi = modnotes, times, modchords, modcbb, key\n",
    "    return processedMidi"
   ]
  },
  {
   "cell_type": "code",
   "execution_count": 11,
   "metadata": {
    "colab": {},
    "colab_type": "code",
    "id": "mVE0og8fDrmk"
   },
   "outputs": [],
   "source": [
    "# Choose encoding and load files\n",
    "encodingDict = {\n",
    "    'melody': True,\n",
    "    'melodyModulo': True,\n",
    "    'melodyEncoded': False,\n",
    "    'duration': False,\n",
    "    'durationEncoded': False,\n",
    "    'chordsNormally': True,\n",
    "    'chordsEncoded': False,\n",
    "    'key': False\n",
    "}"
   ]
  },
  {
   "cell_type": "markdown",
   "metadata": {
    "colab_type": "text",
    "id": "0jBnOuprDrmn"
   },
   "source": [
    "# B. Load Data"
   ]
  },
  {
   "cell_type": "code",
   "execution_count": 12,
   "metadata": {
    "colab": {
     "base_uri": "https://localhost:8080/",
     "height": 187
    },
    "colab_type": "code",
    "id": "0SedqNjRDrmo",
    "outputId": "95b6a8f4-84ec-44d8-ad19-99eb596a65ec",
    "scrolled": false
   },
   "outputs": [
    {
     "data": {
      "text/plain": [
       "['014.mid', '028.mid', '029.mid', '015.mid']"
      ]
     },
     "execution_count": 12,
     "metadata": {},
     "output_type": "execute_result"
    }
   ],
   "source": [
    "# gets all .mid filenames from folder train/ in one line\n",
    "folder = 'datasets/trainData/'\n",
    "files = [file for file in os.listdir(folder+'chords')]\n",
    "files[:4]"
   ]
  },
  {
   "cell_type": "code",
   "execution_count": 13,
   "metadata": {},
   "outputs": [
    {
     "data": {
      "text/plain": [
       "(60, 83)"
      ]
     },
     "execution_count": 13,
     "metadata": {},
     "output_type": "execute_result"
    }
   ],
   "source": [
    "# min and max note\n",
    "min([note.pitch for file in files for note in pretty_midi.PrettyMIDI(folder+'melody/'+file).instruments[0].notes]),\\\n",
    "max([note.pitch for file in files for note in pretty_midi.PrettyMIDI(folder+'melody/'+file).instruments[0].notes]),\\\n"
   ]
  },
  {
   "cell_type": "code",
   "execution_count": 14,
   "metadata": {
    "colab": {
     "base_uri": "https://localhost:8080/",
     "height": 1000
    },
    "colab_type": "code",
    "id": "piJAllN6Drmr",
    "outputId": "e820146b-6bc5-4b3c-8a37-2ae149e86e23",
    "scrolled": true
   },
   "outputs": [
    {
     "data": {
      "text/plain": [
       "((16175, 8, 73), (16175, 2))"
      ]
     },
     "execution_count": 14,
     "metadata": {},
     "output_type": "execute_result"
    }
   ],
   "source": [
    "modulation = True\n",
    "\n",
    "for i, file in enumerate(files):\n",
    "#     print(i, file)\n",
    "    processedMidi = processMidi(file)\n",
    "    if modulation == True:\n",
    "        for mod_i in range(12): # modulate\n",
    "            processedMidi = modulate(processedMidi, modulate = mod_i)\n",
    "            sequences, labels = getInputSequences(processedMidi, padding=False, seq_len=8)\n",
    "            if labels.shape[0]>0:\n",
    "                X = sequences if i==0 else np.concatenate((X, sequences))\n",
    "                y = labels if i==0 else np.concatenate((y, labels))\n",
    "    else:\n",
    "        sequences, labels = getInputSequences(processedMidi, padding=False, seq_len=8)\n",
    "        if labels.shape[0] > 0:\n",
    "            X = sequences if i==0 else np.concatenate((X, sequences))\n",
    "            y = labels if i==0 else np.concatenate((y, labels))\n",
    "\n",
    "X.shape, y.shape"
   ]
  },
  {
   "cell_type": "code",
   "execution_count": 15,
   "metadata": {
    "colab": {},
    "colab_type": "code",
    "id": "C9duwFR6NX7f"
   },
   "outputs": [],
   "source": [
    "def writeMidiSample(notes, times, file, originalfile, tempo=120, resolution=12):\n",
    "    pm = pretty_midi.PrettyMIDI(resolution=resolution, initial_tempo=tempo)\n",
    "    pminst = pretty_midi.Instrument(program=0)\n",
    "    currtime = 0\n",
    "    for i, note in enumerate(notes):\n",
    "        if note != MELODY-1:\n",
    "            pitch = note+LOW\n",
    "            start = pm.tick_to_time(int(currtime))\n",
    "            end = pm.tick_to_time(int(currtime+times[i]))\n",
    "            if end > start:\n",
    "                pmnote = pretty_midi.Note(velocity=100, pitch = pitch, start=start, end=end)\n",
    "                pminst.notes.append(pmnote)\n",
    "        currtime += times[i]+1\n",
    "    pm.instruments.append(pminst)\n",
    "\n",
    "    pm.write(file)\n",
    "    return pm"
   ]
  },
  {
   "cell_type": "code",
   "execution_count": 16,
   "metadata": {
    "colab": {
     "base_uri": "https://localhost:8080/",
     "height": 372
    },
    "colab_type": "code",
    "id": "3mOyNUd7NX7i",
    "outputId": "44dcf729-959a-4654-fb76-c0d8be06eec2"
   },
   "outputs": [
    {
     "name": "stdout",
     "output_type": "stream",
     "text": [
      "[16, 14, 13, 11, 14, 13, 11, 16, 16]\n",
      "[4, 2, 1, 26, 14, 26, 14, 4, 11]\n"
     ]
    },
    {
     "data": {
      "text/html": [
       "\n",
       "                <audio  controls=\"controls\" >\n",
       "                    <source src=\"data:audio/wav;base64,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\" type=\"audio/wav\" />\n",
       "                    Your browser does not support the audio element.\n",
       "                </audio>\n",
       "              "
      ],
      "text/plain": [
       "<IPython.lib.display.Audio object>"
      ]
     },
     "metadata": {},
     "output_type": "display_data"
    },
    {
     "data": {
      "image/png": "[encoded data removed]",
      "text/plain": [
       "<Figure size 576x288 with 1 Axes>"
      ]
     },
     "metadata": {
      "image/png": {
       "height": 261,
       "width": 494
      },
      "needs_background": "light"
     },
     "output_type": "display_data"
    }
   ],
   "source": [
    "rand = random.randint(1,101)\n",
    "sample, samplelabel = X[rand], y[rand]\n",
    "\n",
    "\n",
    "notes, times = [], []\n",
    "for i in range(sample.shape[0]):\n",
    "    notes.append(np.argmax(sample[i,:MELODY]))\n",
    "    times.append(np.argmax(sample[i,MELODY:MELODY+TIMES]))\n",
    "notes.append(samplelabel[0])\n",
    "times.append(samplelabel[1])\n",
    "\n",
    "\n",
    "\n",
    "#look at a sample\n",
    "pm = writeMidiSample(notes, times, 'old_notebooks/treval/lookatsample.mid', file)\n",
    "plt.figure(figsize=(8, 4))\n",
    "plot_piano_roll(pm, LOW, HIGH)\n",
    "print(notes)\n",
    "print(times)\n",
    "display(IPython.display.Audio(pm.synthesize(fs=44000), rate=44000))   "
   ]
  },
  {
   "cell_type": "code",
   "execution_count": 17,
   "metadata": {
    "colab": {},
    "colab_type": "code",
    "id": "-Eyy1AH9NX7o"
   },
   "outputs": [],
   "source": [
    "#np.save('Xbig.npy',X)\n",
    "#np.save('ybig.npy',y)"
   ]
  },
  {
   "cell_type": "markdown",
   "metadata": {
    "colab_type": "text",
    "id": "aMgIdT4TNX7s"
   },
   "source": [
    "# just load"
   ]
  },
  {
   "cell_type": "code",
   "execution_count": 18,
   "metadata": {
    "colab": {},
    "colab_type": "code",
    "id": "d3o0rxw2NX7u"
   },
   "outputs": [],
   "source": [
    "# X = np.load('Xbig.npy')\n",
    "# y = np.load('ybig.npy')"
   ]
  },
  {
   "cell_type": "code",
   "execution_count": 19,
   "metadata": {
    "colab": {
     "base_uri": "https://localhost:8080/",
     "height": 284
    },
    "colab_type": "code",
    "id": "Uv4TY09ZDrmv",
    "outputId": "2a7b8077-6cb2-419a-fe73-6f931330ab84",
    "scrolled": false
   },
   "outputs": [
    {
     "data": {
      "text/plain": [
       "<matplotlib.axes._subplots.AxesSubplot at 0x12f2aa630>"
      ]
     },
     "execution_count": 19,
     "metadata": {},
     "output_type": "execute_result"
    },
    {
     "data": {
      "image/png": "[encoded data removed]",
      "text/plain": [
       "<Figure size 432x288 with 1 Axes>"
      ]
     },
     "metadata": {
      "image/png": {
       "height": 248,
       "width": 395
      },
      "needs_background": "light"
     },
     "output_type": "display_data"
    }
   ],
   "source": [
    "# stats of training data\n",
    "pitches = y[:,0]\n",
    "durations = y[:,1]\n",
    "sns.countplot(durations)"
   ]
  },
  {
   "cell_type": "code",
   "execution_count": 20,
   "metadata": {
    "colab": {
     "base_uri": "https://localhost:8080/",
     "height": 284
    },
    "colab_type": "code",
    "id": "uo0GQJA1Drmy",
    "outputId": "09ded831-1a45-4f91-ef0a-94925377d957",
    "scrolled": true
   },
   "outputs": [
    {
     "data": {
      "text/plain": [
       "<matplotlib.axes._subplots.AxesSubplot at 0x12f0797f0>"
      ]
     },
     "execution_count": 20,
     "metadata": {},
     "output_type": "execute_result"
    },
    {
     "data": {
      "image/png": "[encoded data removed]",
      "text/plain": [
       "<Figure size 432x288 with 1 Axes>"
      ]
     },
     "metadata": {
      "image/png": {
       "height": 250,
       "width": 397
      },
      "needs_background": "light"
     },
     "output_type": "display_data"
    }
   ],
   "source": [
    "sns.countplot(pitches)"
   ]
  },
  {
   "cell_type": "code",
   "execution_count": 21,
   "metadata": {
    "colab": {
     "base_uri": "https://localhost:8080/",
     "height": 34
    },
    "colab_type": "code",
    "id": "kvY1xcgiDrm2",
    "outputId": "b99dfaac-21e4-4f42-a436-99ee1fb59d7a",
    "scrolled": false
   },
   "outputs": [
    {
     "data": {
      "text/plain": [
       "((13101, 8, 73), (13101, 2))"
      ]
     },
     "execution_count": 21,
     "metadata": {},
     "output_type": "execute_result"
    }
   ],
   "source": [
    "# train/val split\n",
    "n = 500000\n",
    "n = min(n,X.shape[0])\n",
    "m = int(0.9*n)\n",
    "data = X[:m]\n",
    "labels = y[:m]\n",
    "test_data = X[m:n]\n",
    "test_labels = y[m:n]\n",
    "\n",
    "perm = np.random.permutation(m)\n",
    "p = int(0.9*m)\n",
    "\n",
    "train_data = data[perm[:p]]\n",
    "train_labels = labels[perm[:p]]\n",
    "val_data = data[perm[p:]]\n",
    "val_labels = labels[perm[p:]]\n",
    "\n",
    "train_data.shape, train_labels.shape"
   ]
  },
  {
   "cell_type": "markdown",
   "metadata": {
    "colab_type": "text",
    "id": "b77owDQ-Drm5"
   },
   "source": [
    "### Load Data for Tensorflow"
   ]
  },
  {
   "cell_type": "code",
   "execution_count": 22,
   "metadata": {
    "colab": {},
    "colab_type": "code",
    "id": "402GwxTyNX8C"
   },
   "outputs": [],
   "source": [
    "batch_size = 32\n",
    "dataset = tf.data.Dataset.from_tensor_slices((train_data, train_labels))\n",
    "dataset = dataset.batch(batch_size, drop_remainder=True)\n",
    "valdataset = tf.data.Dataset.from_tensor_slices((val_data, val_labels))\n",
    "valdataset = valdataset.batch(batch_size, drop_remainder=True)"
   ]
  },
  {
   "cell_type": "code",
   "execution_count": 23,
   "metadata": {
    "colab": {},
    "colab_type": "code",
    "id": "0Ps1leCZDrm6",
    "scrolled": false
   },
   "outputs": [],
   "source": [
    "# ToDo\n",
    "# weighted randomsampler!\n",
    "# batchnormalization"
   ]
  },
  {
   "cell_type": "markdown",
   "metadata": {
    "colab_type": "text",
    "id": "IhxqWi8YDrm8"
   },
   "source": [
    "# C. Train a model"
   ]
  },
  {
   "cell_type": "code",
   "execution_count": 24,
   "metadata": {
    "colab": {},
    "colab_type": "code",
    "id": "XPH5jO9WNX8H"
   },
   "outputs": [],
   "source": [
    "def build(input_dim, seq_len, hidden_dim, num_layers, output_dim_pitch, output_dim_duration):\n",
    "    if tf.test.is_gpu_available():\n",
    "        LSTM = tf.keras.layers.CuDNNLSTM(hidden_dim, \n",
    "                                    return_sequences=True, \n",
    "                                    return_state=False, \n",
    "                                    recurrent_initializer='glorot_uniform')\n",
    "        lastlstm = tf.keras.layers.CuDNNLSTM(hidden_dim, \n",
    "                                    return_sequences=False, \n",
    "                                    return_state=False, \n",
    "                                    recurrent_initializer='glorot_uniform')\n",
    "    else:\n",
    "        LSTM = tf.keras.layers.LSTM(hidden_dim, \n",
    "                               return_sequences=True, \n",
    "                               return_state=False, \n",
    "                               recurrent_activation='sigmoid', \n",
    "                               recurrent_initializer='glorot_uniform')\n",
    "        lastlstm = tf.keras.layers.LSTM(hidden_dim, \n",
    "                               return_sequences=False, \n",
    "                               return_state=False, \n",
    "                               recurrent_activation='sigmoid', \n",
    "                               recurrent_initializer='glorot_uniform')\n",
    "    \n",
    "        \n",
    "    inputs = tf.keras.Input(shape=(seq_len, input_dim))\n",
    "    x = inputs\n",
    "    for i in range(num_layers-1):\n",
    "        x = LSTM(x)\n",
    "    x = lastlstm(x)\n",
    "    x = tf.keras.layers.Dropout(rate=0.3)(x)\n",
    "    pitch = tf.keras.layers.Dense(output_dim_pitch, activation='softmax', name='pitch_out')(x)\n",
    "#     duration = tf.keras.layers.Dense(output_dim_duration, activation='softmax', name='duration_out')(x)\n",
    "\n",
    "    model = tf.keras.Model(inputs=inputs, outputs=pitch)\n",
    "    return model\n",
    "    "
   ]
  },
  {
   "cell_type": "code",
   "execution_count": 25,
   "metadata": {
    "colab": {},
    "colab_type": "code",
    "id": "DcBZ0X21NX8K"
   },
   "outputs": [
    {
     "name": "stdout",
     "output_type": "stream",
     "text": [
      "WARNING:tensorflow:From /Library/Frameworks/Python.framework/Versions/3.6/lib/python3.6/site-packages/tensorflow/python/ops/tensor_array_ops.py:162: colocate_with (from tensorflow.python.framework.ops) is deprecated and will be removed in a future version.\n",
      "Instructions for updating:\n",
      "Colocations handled automatically by placer.\n",
      "WARNING:tensorflow:From /Library/Frameworks/Python.framework/Versions/3.6/lib/python3.6/site-packages/tensorflow/python/keras/layers/core.py:143: calling dropout (from tensorflow.python.ops.nn_ops) with keep_prob is deprecated and will be removed in a future version.\n",
      "Instructions for updating:\n",
      "Please use `rate` instead of `keep_prob`. Rate should be set to `rate = 1 - keep_prob`.\n"
     ]
    }
   ],
   "source": [
    "# Build Model\n",
    "model_params = {\n",
    "    'input_dim': train_data.shape[-1],\n",
    "    'seq_len': 8,\n",
    "    'hidden_dim': 64,\n",
    "    'num_layers': 2,\n",
    "    'output_dim_pitch': MELODY,\n",
    "    'output_dim_duration': TIMES,\n",
    "}\n",
    "\n",
    "model = build(**model_params)"
   ]
  },
  {
   "cell_type": "code",
   "execution_count": 26,
   "metadata": {
    "colab": {},
    "colab_type": "code",
    "id": "5VJuTqB8NX8M"
   },
   "outputs": [],
   "source": [
    "# tf.keras.utils.plot_model(model, show_shapes=True)"
   ]
  },
  {
   "cell_type": "code",
   "execution_count": 27,
   "metadata": {
    "colab": {},
    "colab_type": "code",
    "id": "mFzXM-XbNX8Q"
   },
   "outputs": [],
   "source": [
    "# checkpoint_dir = './training_checkpoints'\n",
    "# checkpoint_prefix = os.path.join(checkpoint_dir, \"ckpt\")\n",
    "# #checkpoint = tf.train.Checkpoint(optimizer=optimizer, model=model)"
   ]
  },
  {
   "cell_type": "code",
   "execution_count": 28,
   "metadata": {
    "colab": {},
    "colab_type": "code",
    "id": "yICpioTmNX8T"
   },
   "outputs": [],
   "source": [
    "model.compile(\n",
    "    optimizer='adam',\n",
    "    loss={'pitch_out': 'sparse_categorical_crossentropy'},\n",
    "    metrics={'pitch_out': 'acc'})"
   ]
  },
  {
   "cell_type": "code",
   "execution_count": 32,
   "metadata": {
    "colab": {
     "base_uri": "https://localhost:8080/",
     "height": 224
    },
    "colab_type": "code",
    "id": "15Uvd6h0NX8X",
    "outputId": "6e21f803-48ee-4a5e-bc82-f179af2ccd7b",
    "scrolled": false
   },
   "outputs": [
    {
     "name": "stdout",
     "output_type": "stream",
     "text": [
      "Epoch 1/20\n",
      "13101/13101 [==============================] - 12s 881us/sample - loss: 0.7401 - acc: 0.7593\n",
      "Epoch 2/20\n",
      "13101/13101 [==============================] - 11s 855us/sample - loss: 0.7040 - acc: 0.7741\n",
      "Epoch 3/20\n",
      "13101/13101 [==============================] - 11s 853us/sample - loss: 0.6783 - acc: 0.7822\n",
      "Epoch 4/20\n",
      "13101/13101 [==============================] - 16s 1ms/sample - loss: 0.6357 - acc: 0.7993\n",
      "Epoch 5/20\n",
      "13101/13101 [==============================] - 22s 2ms/sample - loss: 0.6088 - acc: 0.8056\n",
      "Epoch 6/20\n",
      "13101/13101 [==============================] - 17s 1ms/sample - loss: 0.5830 - acc: 0.8131\n",
      "Epoch 7/20\n",
      "13101/13101 [==============================] - 18s 1ms/sample - loss: 0.5532 - acc: 0.8241\n",
      "Epoch 8/20\n",
      "13101/13101 [==============================] - 27s 2ms/sample - loss: 0.5290 - acc: 0.8291\n",
      "Epoch 9/20\n",
      "13101/13101 [==============================] - 20s 2ms/sample - loss: 0.4992 - acc: 0.8429\n",
      "Epoch 10/20\n",
      "13101/13101 [==============================] - 22s 2ms/sample - loss: 0.4791 - acc: 0.8483\n",
      "Epoch 11/20\n",
      "13101/13101 [==============================] - 23s 2ms/sample - loss: 0.4461 - acc: 0.8576\n",
      "Epoch 12/20\n",
      "13101/13101 [==============================] - 23s 2ms/sample - loss: 0.4277 - acc: 0.8644\n",
      "Epoch 13/20\n",
      "13101/13101 [==============================] - 23s 2ms/sample - loss: 0.4041 - acc: 0.8747\n",
      "Epoch 14/20\n",
      "13101/13101 [==============================] - 22s 2ms/sample - loss: 0.3824 - acc: 0.8773\n",
      "Epoch 15/20\n",
      "13101/13101 [==============================] - 23s 2ms/sample - loss: 0.3672 - acc: 0.8883\n",
      "Epoch 16/20\n",
      "13101/13101 [==============================] - 23s 2ms/sample - loss: 0.3455 - acc: 0.8941\n",
      "Epoch 17/20\n",
      "13101/13101 [==============================] - 23s 2ms/sample - loss: 0.3267 - acc: 0.8959\n",
      "Epoch 18/20\n",
      "13101/13101 [==============================] - 22s 2ms/sample - loss: 0.3118 - acc: 0.9025\n",
      "Epoch 19/20\n",
      "13101/13101 [==============================] - 24s 2ms/sample - loss: 0.2914 - acc: 0.9105\n",
      "Epoch 20/20\n",
      "13101/13101 [==============================] - 23s 2ms/sample - loss: 0.2819 - acc: 0.9121\n"
     ]
    },
    {
     "data": {
      "text/plain": [
       "<tensorflow.python.keras.callbacks.History at 0x132e94828>"
      ]
     },
     "execution_count": 32,
     "metadata": {},
     "output_type": "execute_result"
    }
   ],
   "source": [
    "model.fit(train_data, train_labels[:,0], batch_size=32, epochs=20)"
   ]
  },
  {
   "cell_type": "code",
   "execution_count": 33,
   "metadata": {
    "colab": {
     "base_uri": "https://localhost:8080/",
     "height": 71
    },
    "colab_type": "code",
    "id": "eG2iMqmTNX8a",
    "outputId": "fd88fa97-813f-40b3-e6e0-73804ffd8272",
    "scrolled": true
   },
   "outputs": [
    {
     "name": "stdout",
     "output_type": "stream",
     "text": [
      "1456/1456 [==============================] - 1s 442us/sample - loss: 1.2605 - acc: 0.7074\n"
     ]
    },
    {
     "data": {
      "text/plain": [
       "[1.2605149968639835, 0.7074176]"
      ]
     },
     "execution_count": 33,
     "metadata": {},
     "output_type": "execute_result"
    }
   ],
   "source": [
    "model.evaluate(val_data,val_labels[:,0])"
   ]
  },
  {
   "cell_type": "code",
   "execution_count": 34,
   "metadata": {
    "colab": {
     "base_uri": "https://localhost:8080/",
     "height": 71
    },
    "colab_type": "code",
    "id": "CUZLuoapNX8e",
    "outputId": "cc96d46f-9520-4052-e172-d85e8c464f02"
   },
   "outputs": [
    {
     "name": "stdout",
     "output_type": "stream",
     "text": [
      "1618/1618 [==============================] - 1s 457us/sample - loss: 1.6313 - acc: 0.6422\n"
     ]
    },
    {
     "data": {
      "text/plain": [
       "[1.6312588028702497, 0.6421508]"
      ]
     },
     "execution_count": 34,
     "metadata": {},
     "output_type": "execute_result"
    }
   ],
   "source": [
    "model.evaluate(test_data,test_labels[:,0])"
   ]
  },
  {
   "cell_type": "code",
   "execution_count": 35,
   "metadata": {
    "colab": {},
    "colab_type": "code",
    "id": "u_3MYYPpNX8g",
    "scrolled": true
   },
   "outputs": [
    {
     "ename": "RuntimeError",
     "evalue": "Unable to create link (name already exists)",
     "output_type": "error",
     "traceback": [
      "\u001b[0;31m---------------------------------------------------------------------------\u001b[0m",
      "\u001b[0;31mRuntimeError\u001b[0m                              Traceback (most recent call last)",
      "\u001b[0;32m<ipython-input-35-a91d629656ec>\u001b[0m in \u001b[0;36m<module>\u001b[0;34m\u001b[0m\n\u001b[0;32m----> 1\u001b[0;31m \u001b[0mmodel\u001b[0m\u001b[0;34m.\u001b[0m\u001b[0msave\u001b[0m\u001b[0;34m(\u001b[0m\u001b[0;34m'deploy/tfjs/model4.h5'\u001b[0m\u001b[0;34m)\u001b[0m\u001b[0;34m\u001b[0m\u001b[0;34m\u001b[0m\u001b[0m\n\u001b[0m",
      "\u001b[0;32m/Library/Frameworks/Python.framework/Versions/3.6/lib/python3.6/site-packages/tensorflow/python/keras/engine/network.py\u001b[0m in \u001b[0;36msave\u001b[0;34m(self, filepath, overwrite, include_optimizer)\u001b[0m\n\u001b[1;32m   1332\u001b[0m \u001b[0;34m\u001b[0m\u001b[0m\n\u001b[1;32m   1333\u001b[0m     \u001b[0;32mfrom\u001b[0m \u001b[0mtensorflow\u001b[0m\u001b[0;34m.\u001b[0m\u001b[0mpython\u001b[0m\u001b[0;34m.\u001b[0m\u001b[0mkeras\u001b[0m\u001b[0;34m.\u001b[0m\u001b[0mmodels\u001b[0m \u001b[0;32mimport\u001b[0m \u001b[0msave_model\u001b[0m  \u001b[0;31m# pylint: disable=g-import-not-at-top\u001b[0m\u001b[0;34m\u001b[0m\u001b[0;34m\u001b[0m\u001b[0m\n\u001b[0;32m-> 1334\u001b[0;31m     \u001b[0msave_model\u001b[0m\u001b[0;34m(\u001b[0m\u001b[0mself\u001b[0m\u001b[0;34m,\u001b[0m \u001b[0mfilepath\u001b[0m\u001b[0;34m,\u001b[0m \u001b[0moverwrite\u001b[0m\u001b[0;34m,\u001b[0m \u001b[0minclude_optimizer\u001b[0m\u001b[0;34m)\u001b[0m\u001b[0;34m\u001b[0m\u001b[0;34m\u001b[0m\u001b[0m\n\u001b[0m\u001b[1;32m   1335\u001b[0m \u001b[0;34m\u001b[0m\u001b[0m\n\u001b[1;32m   1336\u001b[0m   \u001b[0;32mdef\u001b[0m \u001b[0msave_weights\u001b[0m\u001b[0;34m(\u001b[0m\u001b[0mself\u001b[0m\u001b[0;34m,\u001b[0m \u001b[0mfilepath\u001b[0m\u001b[0;34m,\u001b[0m \u001b[0moverwrite\u001b[0m\u001b[0;34m=\u001b[0m\u001b[0;32mTrue\u001b[0m\u001b[0;34m,\u001b[0m \u001b[0msave_format\u001b[0m\u001b[0;34m=\u001b[0m\u001b[0;32mNone\u001b[0m\u001b[0;34m)\u001b[0m\u001b[0;34m:\u001b[0m\u001b[0;34m\u001b[0m\u001b[0;34m\u001b[0m\u001b[0m\n",
      "\u001b[0;32m/Library/Frameworks/Python.framework/Versions/3.6/lib/python3.6/site-packages/tensorflow/python/keras/engine/saving.py\u001b[0m in \u001b[0;36msave_model\u001b[0;34m(model, filepath, overwrite, include_optimizer)\u001b[0m\n\u001b[1;32m    150\u001b[0m           \u001b[0;32mfor\u001b[0m \u001b[0mname\u001b[0m\u001b[0;34m,\u001b[0m \u001b[0mval\u001b[0m \u001b[0;32min\u001b[0m \u001b[0mzip\u001b[0m\u001b[0;34m(\u001b[0m\u001b[0mweight_names\u001b[0m\u001b[0;34m,\u001b[0m \u001b[0mweight_values\u001b[0m\u001b[0;34m)\u001b[0m\u001b[0;34m:\u001b[0m\u001b[0;34m\u001b[0m\u001b[0;34m\u001b[0m\u001b[0m\n\u001b[1;32m    151\u001b[0m             param_dset = optimizer_weights_group.create_dataset(\n\u001b[0;32m--> 152\u001b[0;31m                 name, val.shape, dtype=val.dtype)\n\u001b[0m\u001b[1;32m    153\u001b[0m             \u001b[0;32mif\u001b[0m \u001b[0;32mnot\u001b[0m \u001b[0mval\u001b[0m\u001b[0;34m.\u001b[0m\u001b[0mshape\u001b[0m\u001b[0;34m:\u001b[0m\u001b[0;34m\u001b[0m\u001b[0;34m\u001b[0m\u001b[0m\n\u001b[1;32m    154\u001b[0m               \u001b[0;31m# scalar\u001b[0m\u001b[0;34m\u001b[0m\u001b[0;34m\u001b[0m\u001b[0;34m\u001b[0m\u001b[0m\n",
      "\u001b[0;32m/Library/Frameworks/Python.framework/Versions/3.6/lib/python3.6/site-packages/h5py/_hl/group.py\u001b[0m in \u001b[0;36mcreate_dataset\u001b[0;34m(self, name, shape, dtype, data, **kwds)\u001b[0m\n\u001b[1;32m    117\u001b[0m             \u001b[0mdset\u001b[0m \u001b[0;34m=\u001b[0m \u001b[0mdataset\u001b[0m\u001b[0;34m.\u001b[0m\u001b[0mDataset\u001b[0m\u001b[0;34m(\u001b[0m\u001b[0mdsid\u001b[0m\u001b[0;34m)\u001b[0m\u001b[0;34m\u001b[0m\u001b[0;34m\u001b[0m\u001b[0m\n\u001b[1;32m    118\u001b[0m             \u001b[0;32mif\u001b[0m \u001b[0mname\u001b[0m \u001b[0;32mis\u001b[0m \u001b[0;32mnot\u001b[0m \u001b[0;32mNone\u001b[0m\u001b[0;34m:\u001b[0m\u001b[0;34m\u001b[0m\u001b[0;34m\u001b[0m\u001b[0m\n\u001b[0;32m--> 119\u001b[0;31m                 \u001b[0mself\u001b[0m\u001b[0;34m[\u001b[0m\u001b[0mname\u001b[0m\u001b[0;34m]\u001b[0m \u001b[0;34m=\u001b[0m \u001b[0mdset\u001b[0m\u001b[0;34m\u001b[0m\u001b[0;34m\u001b[0m\u001b[0m\n\u001b[0m\u001b[1;32m    120\u001b[0m             \u001b[0;32mreturn\u001b[0m \u001b[0mdset\u001b[0m\u001b[0;34m\u001b[0m\u001b[0;34m\u001b[0m\u001b[0m\n\u001b[1;32m    121\u001b[0m \u001b[0;34m\u001b[0m\u001b[0m\n",
      "\u001b[0;32m/Library/Frameworks/Python.framework/Versions/3.6/lib/python3.6/site-packages/h5py/_hl/group.py\u001b[0m in \u001b[0;36m__setitem__\u001b[0;34m(self, name, obj)\u001b[0m\n\u001b[1;32m    285\u001b[0m \u001b[0;34m\u001b[0m\u001b[0m\n\u001b[1;32m    286\u001b[0m             \u001b[0;32mif\u001b[0m \u001b[0misinstance\u001b[0m\u001b[0;34m(\u001b[0m\u001b[0mobj\u001b[0m\u001b[0;34m,\u001b[0m \u001b[0mHLObject\u001b[0m\u001b[0;34m)\u001b[0m\u001b[0;34m:\u001b[0m\u001b[0;34m\u001b[0m\u001b[0;34m\u001b[0m\u001b[0m\n\u001b[0;32m--> 287\u001b[0;31m                 \u001b[0mh5o\u001b[0m\u001b[0;34m.\u001b[0m\u001b[0mlink\u001b[0m\u001b[0;34m(\u001b[0m\u001b[0mobj\u001b[0m\u001b[0;34m.\u001b[0m\u001b[0mid\u001b[0m\u001b[0;34m,\u001b[0m \u001b[0mself\u001b[0m\u001b[0;34m.\u001b[0m\u001b[0mid\u001b[0m\u001b[0;34m,\u001b[0m \u001b[0mname\u001b[0m\u001b[0;34m,\u001b[0m \u001b[0mlcpl\u001b[0m\u001b[0;34m=\u001b[0m\u001b[0mlcpl\u001b[0m\u001b[0;34m,\u001b[0m \u001b[0mlapl\u001b[0m\u001b[0;34m=\u001b[0m\u001b[0mself\u001b[0m\u001b[0;34m.\u001b[0m\u001b[0m_lapl\u001b[0m\u001b[0;34m)\u001b[0m\u001b[0;34m\u001b[0m\u001b[0;34m\u001b[0m\u001b[0m\n\u001b[0m\u001b[1;32m    288\u001b[0m \u001b[0;34m\u001b[0m\u001b[0m\n\u001b[1;32m    289\u001b[0m             \u001b[0;32melif\u001b[0m \u001b[0misinstance\u001b[0m\u001b[0;34m(\u001b[0m\u001b[0mobj\u001b[0m\u001b[0;34m,\u001b[0m \u001b[0mSoftLink\u001b[0m\u001b[0;34m)\u001b[0m\u001b[0;34m:\u001b[0m\u001b[0;34m\u001b[0m\u001b[0;34m\u001b[0m\u001b[0m\n",
      "\u001b[0;32mh5py/_objects.pyx\u001b[0m in \u001b[0;36mh5py._objects.with_phil.wrapper\u001b[0;34m()\u001b[0m\n",
      "\u001b[0;32mh5py/_objects.pyx\u001b[0m in \u001b[0;36mh5py._objects.with_phil.wrapper\u001b[0;34m()\u001b[0m\n",
      "\u001b[0;32mh5py/h5o.pyx\u001b[0m in \u001b[0;36mh5py.h5o.link\u001b[0;34m()\u001b[0m\n",
      "\u001b[0;31mRuntimeError\u001b[0m: Unable to create link (name already exists)"
     ]
    }
   ],
   "source": [
    "model.save('deploy/tfjs/model4.h5')"
   ]
  },
  {
   "cell_type": "code",
   "execution_count": 0,
   "metadata": {
    "colab": {},
    "colab_type": "code",
    "id": "dUHng5XMNX8l"
   },
   "outputs": [],
   "source": [
    "# tensorflowjs_converter --input_format keras \\\n",
    "#                        path/to/my_model.h5 \\\n",
    "#                        path/to/tfjs_target_dir\n",
    "# \n",
    "# python -m SimpleHTTPServer 8000"
   ]
  },
  {
   "cell_type": "code",
   "execution_count": 53,
   "metadata": {},
   "outputs": [],
   "source": [
    "# Test Example: one prediction"
   ]
  },
  {
   "cell_type": "code",
   "execution_count": 65,
   "metadata": {},
   "outputs": [],
   "source": [
    "keys_chroma = ['C','C#','D','D#','E','F','F#','G','G#','A','A#','B',\n",
    "        'C-','C#-','D-','D#-','E-','F-','F#-','G-','G#-','A-','A#-','B-']\n",
    "keys_chroma_dict = dict(enumerate(keys_chroma))\n",
    "keys_chroma_dict_reverse = {v: k for k, v in keys_chroma_dict.items()}\n",
    "def getPitch(note):\n",
    "    return keys_chroma_dict[note%12]"
   ]
  },
  {
   "cell_type": "code",
   "execution_count": 87,
   "metadata": {
    "colab": {},
    "colab_type": "code",
    "id": "rrUapn9JNX8o"
   },
   "outputs": [
    {
     "data": {
      "text/plain": [
       "['D', 'C', 'A', 'E', 'D', 'A#', 'A#', 'A']"
      ]
     },
     "metadata": {},
     "output_type": "display_data"
    },
    {
     "data": {
      "text/plain": [
       "'A'"
      ]
     },
     "metadata": {},
     "output_type": "display_data"
    },
    {
     "data": {
      "text/plain": [
       "'A#'"
      ]
     },
     "metadata": {},
     "output_type": "display_data"
    },
    {
     "data": {
      "text/plain": [
       "['C', 'A', 'E', 'D', 'A#', 'A#', 'A', 'A#']"
      ]
     },
     "metadata": {},
     "output_type": "display_data"
    },
    {
     "data": {
      "text/plain": [
       "'A'"
      ]
     },
     "metadata": {},
     "output_type": "display_data"
    },
    {
     "data": {
      "text/plain": [
       "'F'"
      ]
     },
     "metadata": {},
     "output_type": "display_data"
    },
    {
     "data": {
      "text/plain": [
       "['A', 'E', 'D', 'A#', 'A#', 'A', 'A#', 'F']"
      ]
     },
     "metadata": {},
     "output_type": "display_data"
    },
    {
     "data": {
      "text/plain": [
       "'G'"
      ]
     },
     "metadata": {},
     "output_type": "display_data"
    },
    {
     "data": {
      "text/plain": [
       "'F'"
      ]
     },
     "metadata": {},
     "output_type": "display_data"
    },
    {
     "data": {
      "text/plain": [
       "['E', 'D', 'A#', 'A#', 'A', 'A#', 'F', 'F']"
      ]
     },
     "metadata": {},
     "output_type": "display_data"
    },
    {
     "data": {
      "text/plain": [
       "'A'"
      ]
     },
     "metadata": {},
     "output_type": "display_data"
    },
    {
     "data": {
      "text/plain": [
       "'C'"
      ]
     },
     "metadata": {},
     "output_type": "display_data"
    },
    {
     "data": {
      "text/plain": [
       "['D', 'A#', 'A#', 'A', 'A#', 'F', 'F', 'C']"
      ]
     },
     "metadata": {},
     "output_type": "display_data"
    },
    {
     "data": {
      "text/plain": [
       "'A'"
      ]
     },
     "metadata": {},
     "output_type": "display_data"
    },
    {
     "data": {
      "text/plain": [
       "'A'"
      ]
     },
     "metadata": {},
     "output_type": "display_data"
    },
    {
     "data": {
      "text/plain": [
       "['A#', 'A#', 'A', 'A#', 'F', 'F', 'C', 'A']"
      ]
     },
     "metadata": {},
     "output_type": "display_data"
    },
    {
     "data": {
      "text/plain": [
       "'A'"
      ]
     },
     "metadata": {},
     "output_type": "display_data"
    },
    {
     "data": {
      "text/plain": [
       "'A'"
      ]
     },
     "metadata": {},
     "output_type": "display_data"
    },
    {
     "data": {
      "text/plain": [
       "['A#', 'A', 'A#', 'F', 'F', 'C', 'A', 'A']"
      ]
     },
     "metadata": {},
     "output_type": "display_data"
    },
    {
     "data": {
      "text/plain": [
       "'A'"
      ]
     },
     "metadata": {},
     "output_type": "display_data"
    },
    {
     "data": {
      "text/plain": [
       "'A'"
      ]
     },
     "metadata": {},
     "output_type": "display_data"
    },
    {
     "data": {
      "text/plain": [
       "['A', 'A#', 'F', 'F', 'C', 'A', 'A', 'A']"
      ]
     },
     "metadata": {},
     "output_type": "display_data"
    },
    {
     "data": {
      "text/plain": [
       "'A'"
      ]
     },
     "metadata": {},
     "output_type": "display_data"
    },
    {
     "data": {
      "text/plain": [
       "'D'"
      ]
     },
     "metadata": {},
     "output_type": "display_data"
    },
    {
     "data": {
      "text/plain": [
       "['A#', 'F', 'F', 'C', 'A', 'A', 'A', 'D']"
      ]
     },
     "metadata": {},
     "output_type": "display_data"
    },
    {
     "data": {
      "text/plain": [
       "'G'"
      ]
     },
     "metadata": {},
     "output_type": "display_data"
    },
    {
     "data": {
      "text/plain": [
       "'A'"
      ]
     },
     "metadata": {},
     "output_type": "display_data"
    },
    {
     "data": {
      "text/plain": [
       "['F', 'F', 'C', 'A', 'A', 'A', 'D', 'A']"
      ]
     },
     "metadata": {},
     "output_type": "display_data"
    },
    {
     "data": {
      "text/plain": [
       "'G'"
      ]
     },
     "metadata": {},
     "output_type": "display_data"
    },
    {
     "data": {
      "text/plain": [
       "'G'"
      ]
     },
     "metadata": {},
     "output_type": "display_data"
    },
    {
     "data": {
      "text/plain": [
       "['F', 'C', 'A', 'A', 'A', 'D', 'A', 'G']"
      ]
     },
     "metadata": {},
     "output_type": "display_data"
    },
    {
     "data": {
      "text/plain": [
       "'G'"
      ]
     },
     "metadata": {},
     "output_type": "display_data"
    },
    {
     "data": {
      "text/plain": [
       "'F'"
      ]
     },
     "metadata": {},
     "output_type": "display_data"
    },
    {
     "data": {
      "text/plain": [
       "['C', 'A', 'A', 'A', 'D', 'A', 'G', 'F']"
      ]
     },
     "metadata": {},
     "output_type": "display_data"
    },
    {
     "data": {
      "text/plain": [
       "'F'"
      ]
     },
     "metadata": {},
     "output_type": "display_data"
    },
    {
     "data": {
      "text/plain": [
       "'F'"
      ]
     },
     "metadata": {},
     "output_type": "display_data"
    },
    {
     "data": {
      "text/plain": [
       "['A', 'A', 'A', 'D', 'A', 'G', 'F', 'F']"
      ]
     },
     "metadata": {},
     "output_type": "display_data"
    },
    {
     "data": {
      "text/plain": [
       "'G'"
      ]
     },
     "metadata": {},
     "output_type": "display_data"
    },
    {
     "data": {
      "text/plain": [
       "'G'"
      ]
     },
     "metadata": {},
     "output_type": "display_data"
    },
    {
     "data": {
      "text/plain": [
       "['A', 'A', 'D', 'A', 'G', 'F', 'F', 'G']"
      ]
     },
     "metadata": {},
     "output_type": "display_data"
    },
    {
     "data": {
      "text/plain": [
       "'A'"
      ]
     },
     "metadata": {},
     "output_type": "display_data"
    },
    {
     "data": {
      "text/plain": [
       "'A'"
      ]
     },
     "metadata": {},
     "output_type": "display_data"
    },
    {
     "data": {
      "text/plain": [
       "['A', 'D', 'A', 'G', 'F', 'F', 'G', 'A']"
      ]
     },
     "metadata": {},
     "output_type": "display_data"
    },
    {
     "data": {
      "text/plain": [
       "'A'"
      ]
     },
     "metadata": {},
     "output_type": "display_data"
    },
    {
     "data": {
      "text/plain": [
       "'A'"
      ]
     },
     "metadata": {},
     "output_type": "display_data"
    },
    {
     "data": {
      "text/plain": [
       "['D', 'A', 'G', 'F', 'F', 'G', 'A', 'A']"
      ]
     },
     "metadata": {},
     "output_type": "display_data"
    },
    {
     "data": {
      "text/plain": [
       "'A'"
      ]
     },
     "metadata": {},
     "output_type": "display_data"
    },
    {
     "data": {
      "text/plain": [
       "'A'"
      ]
     },
     "metadata": {},
     "output_type": "display_data"
    },
    {
     "data": {
      "text/plain": [
       "['C', 'E', 'F', 'E', 'G', 'G', 'G', 'C']"
      ]
     },
     "metadata": {},
     "output_type": "display_data"
    },
    {
     "data": {
      "text/plain": [
       "'F'"
      ]
     },
     "metadata": {},
     "output_type": "display_data"
    },
    {
     "data": {
      "text/plain": [
       "'G'"
      ]
     },
     "metadata": {},
     "output_type": "display_data"
    },
    {
     "data": {
      "text/plain": [
       "['E', 'F', 'E', 'G', 'G', 'G', 'C', 'G']"
      ]
     },
     "metadata": {},
     "output_type": "display_data"
    },
    {
     "data": {
      "text/plain": [
       "'F'"
      ]
     },
     "metadata": {},
     "output_type": "display_data"
    },
    {
     "data": {
      "text/plain": [
       "'G'"
      ]
     },
     "metadata": {},
     "output_type": "display_data"
    },
    {
     "data": {
      "text/plain": [
       "['F', 'E', 'G', 'G', 'G', 'C', 'G', 'G']"
      ]
     },
     "metadata": {},
     "output_type": "display_data"
    },
    {
     "data": {
      "text/plain": [
       "'C'"
      ]
     },
     "metadata": {},
     "output_type": "display_data"
    },
    {
     "data": {
      "text/plain": [
       "'F'"
      ]
     },
     "metadata": {},
     "output_type": "display_data"
    },
    {
     "data": {
      "text/plain": [
       "['E', 'G', 'G', 'G', 'C', 'G', 'G', 'F']"
      ]
     },
     "metadata": {},
     "output_type": "display_data"
    },
    {
     "data": {
      "text/plain": [
       "'E'"
      ]
     },
     "metadata": {},
     "output_type": "display_data"
    },
    {
     "data": {
      "text/plain": [
       "'G'"
      ]
     },
     "metadata": {},
     "output_type": "display_data"
    },
    {
     "data": {
      "text/plain": [
       "['G', 'G', 'G', 'C', 'G', 'G', 'F', 'G']"
      ]
     },
     "metadata": {},
     "output_type": "display_data"
    },
    {
     "data": {
      "text/plain": [
       "'A'"
      ]
     },
     "metadata": {},
     "output_type": "display_data"
    },
    {
     "data": {
      "text/plain": [
       "'A#'"
      ]
     },
     "metadata": {},
     "output_type": "display_data"
    },
    {
     "data": {
      "text/plain": [
       "['G', 'G', 'C', 'G', 'G', 'F', 'G', 'A#']"
      ]
     },
     "metadata": {},
     "output_type": "display_data"
    },
    {
     "data": {
      "text/plain": [
       "'F'"
      ]
     },
     "metadata": {},
     "output_type": "display_data"
    },
    {
     "data": {
      "text/plain": [
       "'G'"
      ]
     },
     "metadata": {},
     "output_type": "display_data"
    },
    {
     "data": {
      "text/plain": [
       "['G', 'C', 'G', 'G', 'F', 'G', 'A#', 'G']"
      ]
     },
     "metadata": {},
     "output_type": "display_data"
    },
    {
     "data": {
      "text/plain": [
       "'C'"
      ]
     },
     "metadata": {},
     "output_type": "display_data"
    },
    {
     "data": {
      "text/plain": [
       "'F'"
      ]
     },
     "metadata": {},
     "output_type": "display_data"
    },
    {
     "data": {
      "text/plain": [
       "['C', 'G', 'G', 'F', 'G', 'A#', 'G', 'F']"
      ]
     },
     "metadata": {},
     "output_type": "display_data"
    },
    {
     "data": {
      "text/plain": [
       "'C'"
      ]
     },
     "metadata": {},
     "output_type": "display_data"
    },
    {
     "data": {
      "text/plain": [
       "'G'"
      ]
     },
     "metadata": {},
     "output_type": "display_data"
    },
    {
     "data": {
      "text/plain": [
       "['G', 'G', 'F', 'G', 'A#', 'G', 'F', 'G']"
      ]
     },
     "metadata": {},
     "output_type": "display_data"
    },
    {
     "data": {
      "text/plain": [
       "'C'"
      ]
     },
     "metadata": {},
     "output_type": "display_data"
    },
    {
     "data": {
      "text/plain": [
       "'F'"
      ]
     },
     "metadata": {},
     "output_type": "display_data"
    },
    {
     "data": {
      "text/plain": [
       "['G', 'F', 'G', 'A#', 'G', 'F', 'G', 'F']"
      ]
     },
     "metadata": {},
     "output_type": "display_data"
    },
    {
     "data": {
      "text/plain": [
       "'A'"
      ]
     },
     "metadata": {},
     "output_type": "display_data"
    },
    {
     "data": {
      "text/plain": [
       "'E'"
      ]
     },
     "metadata": {},
     "output_type": "display_data"
    },
    {
     "data": {
      "text/plain": [
       "['F', 'G', 'A#', 'G', 'F', 'G', 'F', 'E']"
      ]
     },
     "metadata": {},
     "output_type": "display_data"
    },
    {
     "data": {
      "text/plain": [
       "'A'"
      ]
     },
     "metadata": {},
     "output_type": "display_data"
    },
    {
     "data": {
      "text/plain": [
       "'C'"
      ]
     },
     "metadata": {},
     "output_type": "display_data"
    },
    {
     "data": {
      "text/plain": [
       "['G', 'A#', 'G', 'F', 'G', 'F', 'E', 'C']"
      ]
     },
     "metadata": {},
     "output_type": "display_data"
    },
    {
     "data": {
      "text/plain": [
       "'A'"
      ]
     },
     "metadata": {},
     "output_type": "display_data"
    },
    {
     "data": {
      "text/plain": [
       "'E'"
      ]
     },
     "metadata": {},
     "output_type": "display_data"
    },
    {
     "data": {
      "text/plain": [
       "['A#', 'G', 'F', 'G', 'F', 'E', 'C', 'E']"
      ]
     },
     "metadata": {},
     "output_type": "display_data"
    },
    {
     "data": {
      "text/plain": [
       "'F'"
      ]
     },
     "metadata": {},
     "output_type": "display_data"
    },
    {
     "data": {
      "text/plain": [
       "'F'"
      ]
     },
     "metadata": {},
     "output_type": "display_data"
    },
    {
     "data": {
      "text/plain": [
       "['G', 'F', 'G', 'F', 'E', 'C', 'E', 'F']"
      ]
     },
     "metadata": {},
     "output_type": "display_data"
    },
    {
     "data": {
      "text/plain": [
       "'F'"
      ]
     },
     "metadata": {},
     "output_type": "display_data"
    },
    {
     "data": {
      "text/plain": [
       "'E'"
      ]
     },
     "metadata": {},
     "output_type": "display_data"
    },
    {
     "data": {
      "text/plain": [
       "['F', 'G', 'F', 'E', 'C', 'E', 'F', 'E']"
      ]
     },
     "metadata": {},
     "output_type": "display_data"
    },
    {
     "data": {
      "text/plain": [
       "'F'"
      ]
     },
     "metadata": {},
     "output_type": "display_data"
    },
    {
     "data": {
      "text/plain": [
       "'G'"
      ]
     },
     "metadata": {},
     "output_type": "display_data"
    },
    {
     "data": {
      "text/plain": [
       "['G', 'F', 'E', 'C', 'E', 'F', 'E', 'G']"
      ]
     },
     "metadata": {},
     "output_type": "display_data"
    },
    {
     "data": {
      "text/plain": [
       "'F'"
      ]
     },
     "metadata": {},
     "output_type": "display_data"
    },
    {
     "data": {
      "text/plain": [
       "'G'"
      ]
     },
     "metadata": {},
     "output_type": "display_data"
    },
    {
     "data": {
      "text/plain": [
       "['F', 'E', 'C', 'E', 'F', 'E', 'G', 'G']"
      ]
     },
     "metadata": {},
     "output_type": "display_data"
    },
    {
     "data": {
      "text/plain": [
       "'F'"
      ]
     },
     "metadata": {},
     "output_type": "display_data"
    },
    {
     "data": {
      "text/plain": [
       "'G'"
      ]
     },
     "metadata": {},
     "output_type": "display_data"
    },
    {
     "data": {
      "text/plain": [
       "['E', 'C', 'E', 'F', 'E', 'G', 'G', 'G']"
      ]
     },
     "metadata": {},
     "output_type": "display_data"
    },
    {
     "data": {
      "text/plain": [
       "'G'"
      ]
     },
     "metadata": {},
     "output_type": "display_data"
    },
    {
     "data": {
      "text/plain": [
       "'C'"
      ]
     },
     "metadata": {},
     "output_type": "display_data"
    },
    {
     "data": {
      "text/plain": [
       "['C', 'E', 'F', 'E', 'G', 'G', 'G', 'C']"
      ]
     },
     "metadata": {},
     "output_type": "display_data"
    },
    {
     "data": {
      "text/plain": [
       "'F'"
      ]
     },
     "metadata": {},
     "output_type": "display_data"
    },
    {
     "data": {
      "text/plain": [
       "'G'"
      ]
     },
     "metadata": {},
     "output_type": "display_data"
    },
    {
     "data": {
      "text/plain": [
       "['E', 'F', 'E', 'G', 'G', 'G', 'C', 'G']"
      ]
     },
     "metadata": {},
     "output_type": "display_data"
    },
    {
     "data": {
      "text/plain": [
       "'F'"
      ]
     },
     "metadata": {},
     "output_type": "display_data"
    },
    {
     "data": {
      "text/plain": [
       "'G'"
      ]
     },
     "metadata": {},
     "output_type": "display_data"
    },
    {
     "data": {
      "text/plain": [
       "['F', 'E', 'G', 'G', 'G', 'C', 'G', 'G']"
      ]
     },
     "metadata": {},
     "output_type": "display_data"
    },
    {
     "data": {
      "text/plain": [
       "'C'"
      ]
     },
     "metadata": {},
     "output_type": "display_data"
    },
    {
     "data": {
      "text/plain": [
       "'F'"
      ]
     },
     "metadata": {},
     "output_type": "display_data"
    },
    {
     "data": {
      "text/plain": [
       "['E', 'G', 'G', 'G', 'C', 'G', 'G', 'F']"
      ]
     },
     "metadata": {},
     "output_type": "display_data"
    },
    {
     "data": {
      "text/plain": [
       "'E'"
      ]
     },
     "metadata": {},
     "output_type": "display_data"
    },
    {
     "data": {
      "text/plain": [
       "'G'"
      ]
     },
     "metadata": {},
     "output_type": "display_data"
    },
    {
     "data": {
      "text/plain": [
       "['G', 'G', 'G', 'C', 'G', 'G', 'F', 'G']"
      ]
     },
     "metadata": {},
     "output_type": "display_data"
    },
    {
     "data": {
      "text/plain": [
       "'A'"
      ]
     },
     "metadata": {},
     "output_type": "display_data"
    },
    {
     "data": {
      "text/plain": [
       "'A#'"
      ]
     },
     "metadata": {},
     "output_type": "display_data"
    },
    {
     "data": {
      "text/plain": [
       "['G', 'G', 'C', 'G', 'G', 'F', 'G', 'A#']"
      ]
     },
     "metadata": {},
     "output_type": "display_data"
    },
    {
     "data": {
      "text/plain": [
       "'F'"
      ]
     },
     "metadata": {},
     "output_type": "display_data"
    },
    {
     "data": {
      "text/plain": [
       "'G'"
      ]
     },
     "metadata": {},
     "output_type": "display_data"
    },
    {
     "data": {
      "text/plain": [
       "['C', 'C', 'B', 'E', 'D', 'D', 'C', 'C']"
      ]
     },
     "metadata": {},
     "output_type": "display_data"
    },
    {
     "data": {
      "text/plain": [
       "'G'"
      ]
     },
     "metadata": {},
     "output_type": "display_data"
    },
    {
     "data": {
      "text/plain": [
       "'A'"
      ]
     },
     "metadata": {},
     "output_type": "display_data"
    },
    {
     "data": {
      "text/plain": [
       "['C', 'B', 'E', 'D', 'D', 'C', 'C', 'A']"
      ]
     },
     "metadata": {},
     "output_type": "display_data"
    },
    {
     "data": {
      "text/plain": [
       "'D'"
      ]
     },
     "metadata": {},
     "output_type": "display_data"
    },
    {
     "data": {
      "text/plain": [
       "'C'"
      ]
     },
     "metadata": {},
     "output_type": "display_data"
    },
    {
     "data": {
      "text/plain": [
       "['B', 'E', 'D', 'D', 'C', 'C', 'A', 'C']"
      ]
     },
     "metadata": {},
     "output_type": "display_data"
    },
    {
     "data": {
      "text/plain": [
       "'D'"
      ]
     },
     "metadata": {},
     "output_type": "display_data"
    },
    {
     "data": {
      "text/plain": [
       "'E'"
      ]
     },
     "metadata": {},
     "output_type": "display_data"
    },
    {
     "data": {
      "text/plain": [
       "['E', 'D', 'D', 'C', 'C', 'A', 'C', 'E']"
      ]
     },
     "metadata": {},
     "output_type": "display_data"
    },
    {
     "data": {
      "text/plain": [
       "'C'"
      ]
     },
     "metadata": {},
     "output_type": "display_data"
    },
    {
     "data": {
      "text/plain": [
       "'D'"
      ]
     },
     "metadata": {},
     "output_type": "display_data"
    },
    {
     "data": {
      "text/plain": [
       "['D', 'D', 'C', 'C', 'A', 'C', 'E', 'D']"
      ]
     },
     "metadata": {},
     "output_type": "display_data"
    },
    {
     "data": {
      "text/plain": [
       "'C'"
      ]
     },
     "metadata": {},
     "output_type": "display_data"
    },
    {
     "data": {
      "text/plain": [
       "'D'"
      ]
     },
     "metadata": {},
     "output_type": "display_data"
    },
    {
     "data": {
      "text/plain": [
       "['D', 'C', 'C', 'A', 'C', 'E', 'D', 'D']"
      ]
     },
     "metadata": {},
     "output_type": "display_data"
    },
    {
     "data": {
      "text/plain": [
       "'C'"
      ]
     },
     "metadata": {},
     "output_type": "display_data"
    },
    {
     "data": {
      "text/plain": [
       "'C'"
      ]
     },
     "metadata": {},
     "output_type": "display_data"
    },
    {
     "data": {
      "text/plain": [
       "['C', 'C', 'A', 'C', 'E', 'D', 'D', 'C']"
      ]
     },
     "metadata": {},
     "output_type": "display_data"
    },
    {
     "data": {
      "text/plain": [
       "'C'"
      ]
     },
     "metadata": {},
     "output_type": "display_data"
    },
    {
     "data": {
      "text/plain": [
       "'A'"
      ]
     },
     "metadata": {},
     "output_type": "display_data"
    },
    {
     "data": {
      "text/plain": [
       "['C', 'A', 'C', 'E', 'D', 'D', 'C', 'A']"
      ]
     },
     "metadata": {},
     "output_type": "display_data"
    },
    {
     "data": {
      "text/plain": [
       "'D'"
      ]
     },
     "metadata": {},
     "output_type": "display_data"
    },
    {
     "data": {
      "text/plain": [
       "'C'"
      ]
     },
     "metadata": {},
     "output_type": "display_data"
    },
    {
     "data": {
      "text/plain": [
       "['A', 'C', 'E', 'D', 'D', 'C', 'A', 'C']"
      ]
     },
     "metadata": {},
     "output_type": "display_data"
    },
    {
     "data": {
      "text/plain": [
       "'D'"
      ]
     },
     "metadata": {},
     "output_type": "display_data"
    },
    {
     "data": {
      "text/plain": [
       "'A'"
      ]
     },
     "metadata": {},
     "output_type": "display_data"
    },
    {
     "data": {
      "text/plain": [
       "['C', 'E', 'D', 'D', 'C', 'A', 'C', 'A']"
      ]
     },
     "metadata": {},
     "output_type": "display_data"
    },
    {
     "data": {
      "text/plain": [
       "'E'"
      ]
     },
     "metadata": {},
     "output_type": "display_data"
    },
    {
     "data": {
      "text/plain": [
       "'C'"
      ]
     },
     "metadata": {},
     "output_type": "display_data"
    },
    {
     "data": {
      "text/plain": [
       "['E', 'D', 'D', 'C', 'A', 'C', 'A', 'C']"
      ]
     },
     "metadata": {},
     "output_type": "display_data"
    },
    {
     "data": {
      "text/plain": [
       "'E'"
      ]
     },
     "metadata": {},
     "output_type": "display_data"
    },
    {
     "data": {
      "text/plain": [
       "'A'"
      ]
     },
     "metadata": {},
     "output_type": "display_data"
    },
    {
     "data": {
      "text/plain": [
       "['D', 'D', 'C', 'A', 'C', 'A', 'C', 'A']"
      ]
     },
     "metadata": {},
     "output_type": "display_data"
    },
    {
     "data": {
      "text/plain": [
       "'B'"
      ]
     },
     "metadata": {},
     "output_type": "display_data"
    },
    {
     "data": {
      "text/plain": [
       "'E'"
      ]
     },
     "metadata": {},
     "output_type": "display_data"
    },
    {
     "data": {
      "text/plain": [
       "['D', 'C', 'A', 'C', 'A', 'C', 'A', 'E']"
      ]
     },
     "metadata": {},
     "output_type": "display_data"
    },
    {
     "data": {
      "text/plain": [
       "'E'"
      ]
     },
     "metadata": {},
     "output_type": "display_data"
    },
    {
     "data": {
      "text/plain": [
       "'D'"
      ]
     },
     "metadata": {},
     "output_type": "display_data"
    },
    {
     "data": {
      "text/plain": [
       "['C', 'A', 'C', 'A', 'C', 'A', 'E', 'D']"
      ]
     },
     "metadata": {},
     "output_type": "display_data"
    },
    {
     "data": {
      "text/plain": [
       "'F'"
      ]
     },
     "metadata": {},
     "output_type": "display_data"
    },
    {
     "data": {
      "text/plain": [
       "'D'"
      ]
     },
     "metadata": {},
     "output_type": "display_data"
    },
    {
     "data": {
      "text/plain": [
       "['A', 'C', 'A', 'C', 'A', 'E', 'D', 'D']"
      ]
     },
     "metadata": {},
     "output_type": "display_data"
    },
    {
     "data": {
      "text/plain": [
       "'G'"
      ]
     },
     "metadata": {},
     "output_type": "display_data"
    },
    {
     "data": {
      "text/plain": [
       "'B'"
      ]
     },
     "metadata": {},
     "output_type": "display_data"
    },
    {
     "data": {
      "text/plain": [
       "['C', 'A', 'C', 'A', 'E', 'D', 'D', 'B']"
      ]
     },
     "metadata": {},
     "output_type": "display_data"
    },
    {
     "data": {
      "text/plain": [
       "'C'"
      ]
     },
     "metadata": {},
     "output_type": "display_data"
    },
    {
     "data": {
      "text/plain": [
       "'A'"
      ]
     },
     "metadata": {},
     "output_type": "display_data"
    },
    {
     "data": {
      "text/plain": [
       "['A', 'A', 'C', 'A#', 'F', 'E', 'A', 'E']"
      ]
     },
     "metadata": {},
     "output_type": "display_data"
    },
    {
     "data": {
      "text/plain": [
       "'G'"
      ]
     },
     "metadata": {},
     "output_type": "display_data"
    },
    {
     "data": {
      "text/plain": [
       "'E'"
      ]
     },
     "metadata": {},
     "output_type": "display_data"
    },
    {
     "data": {
      "text/plain": [
       "['A', 'C', 'A#', 'F', 'E', 'A', 'E', 'E']"
      ]
     },
     "metadata": {},
     "output_type": "display_data"
    },
    {
     "data": {
      "text/plain": [
       "'E'"
      ]
     },
     "metadata": {},
     "output_type": "display_data"
    },
    {
     "data": {
      "text/plain": [
       "'D'"
      ]
     },
     "metadata": {},
     "output_type": "display_data"
    },
    {
     "data": {
      "text/plain": [
       "['C', 'A#', 'F', 'E', 'A', 'E', 'E', 'D']"
      ]
     },
     "metadata": {},
     "output_type": "display_data"
    },
    {
     "data": {
      "text/plain": [
       "'E'"
      ]
     },
     "metadata": {},
     "output_type": "display_data"
    },
    {
     "data": {
      "text/plain": [
       "'F'"
      ]
     },
     "metadata": {},
     "output_type": "display_data"
    },
    {
     "data": {
      "text/plain": [
       "['A#', 'F', 'E', 'A', 'E', 'E', 'D', 'F']"
      ]
     },
     "metadata": {},
     "output_type": "display_data"
    },
    {
     "data": {
      "text/plain": [
       "'E'"
      ]
     },
     "metadata": {},
     "output_type": "display_data"
    },
    {
     "data": {
      "text/plain": [
       "'G#'"
      ]
     },
     "metadata": {},
     "output_type": "display_data"
    },
    {
     "data": {
      "text/plain": [
       "['F', 'E', 'A', 'E', 'E', 'D', 'F', 'G#']"
      ]
     },
     "metadata": {},
     "output_type": "display_data"
    },
    {
     "data": {
      "text/plain": [
       "'C'"
      ]
     },
     "metadata": {},
     "output_type": "display_data"
    },
    {
     "data": {
      "text/plain": [
       "'F'"
      ]
     },
     "metadata": {},
     "output_type": "display_data"
    },
    {
     "data": {
      "text/plain": [
       "['E', 'A', 'E', 'E', 'D', 'F', 'G#', 'F']"
      ]
     },
     "metadata": {},
     "output_type": "display_data"
    },
    {
     "data": {
      "text/plain": [
       "'D'"
      ]
     },
     "metadata": {},
     "output_type": "display_data"
    },
    {
     "data": {
      "text/plain": [
       "'E'"
      ]
     },
     "metadata": {},
     "output_type": "display_data"
    },
    {
     "data": {
      "text/plain": [
       "['A', 'E', 'E', 'D', 'F', 'G#', 'F', 'E']"
      ]
     },
     "metadata": {},
     "output_type": "display_data"
    },
    {
     "data": {
      "text/plain": [
       "'D'"
      ]
     },
     "metadata": {},
     "output_type": "display_data"
    },
    {
     "data": {
      "text/plain": [
       "'D'"
      ]
     },
     "metadata": {},
     "output_type": "display_data"
    },
    {
     "data": {
      "text/plain": [
       "['E', 'E', 'D', 'F', 'G#', 'F', 'E', 'D']"
      ]
     },
     "metadata": {},
     "output_type": "display_data"
    },
    {
     "data": {
      "text/plain": [
       "'A'"
      ]
     },
     "metadata": {},
     "output_type": "display_data"
    },
    {
     "data": {
      "text/plain": [
       "'F'"
      ]
     },
     "metadata": {},
     "output_type": "display_data"
    },
    {
     "data": {
      "text/plain": [
       "['E', 'D', 'F', 'G#', 'F', 'E', 'D', 'F']"
      ]
     },
     "metadata": {},
     "output_type": "display_data"
    },
    {
     "data": {
      "text/plain": [
       "'A'"
      ]
     },
     "metadata": {},
     "output_type": "display_data"
    },
    {
     "data": {
      "text/plain": [
       "'E'"
      ]
     },
     "metadata": {},
     "output_type": "display_data"
    },
    {
     "data": {
      "text/plain": [
       "['D', 'F', 'G#', 'F', 'E', 'D', 'F', 'E']"
      ]
     },
     "metadata": {},
     "output_type": "display_data"
    },
    {
     "data": {
      "text/plain": [
       "'A'"
      ]
     },
     "metadata": {},
     "output_type": "display_data"
    },
    {
     "data": {
      "text/plain": [
       "'D'"
      ]
     },
     "metadata": {},
     "output_type": "display_data"
    },
    {
     "data": {
      "text/plain": [
       "['F', 'G#', 'F', 'E', 'D', 'F', 'E', 'D']"
      ]
     },
     "metadata": {},
     "output_type": "display_data"
    },
    {
     "data": {
      "text/plain": [
       "'A'"
      ]
     },
     "metadata": {},
     "output_type": "display_data"
    },
    {
     "data": {
      "text/plain": [
       "'F'"
      ]
     },
     "metadata": {},
     "output_type": "display_data"
    },
    {
     "data": {
      "text/plain": [
       "['A', 'A', 'C', 'A#', 'F', 'E', 'A', 'E']"
      ]
     },
     "metadata": {},
     "output_type": "display_data"
    },
    {
     "data": {
      "text/plain": [
       "'G'"
      ]
     },
     "metadata": {},
     "output_type": "display_data"
    },
    {
     "data": {
      "text/plain": [
       "'E'"
      ]
     },
     "metadata": {},
     "output_type": "display_data"
    },
    {
     "data": {
      "text/plain": [
       "['A', 'C', 'A#', 'F', 'E', 'A', 'E', 'E']"
      ]
     },
     "metadata": {},
     "output_type": "display_data"
    },
    {
     "data": {
      "text/plain": [
       "'E'"
      ]
     },
     "metadata": {},
     "output_type": "display_data"
    },
    {
     "data": {
      "text/plain": [
       "'D'"
      ]
     },
     "metadata": {},
     "output_type": "display_data"
    },
    {
     "data": {
      "text/plain": [
       "['C', 'A#', 'F', 'E', 'A', 'E', 'E', 'D']"
      ]
     },
     "metadata": {},
     "output_type": "display_data"
    },
    {
     "data": {
      "text/plain": [
       "'E'"
      ]
     },
     "metadata": {},
     "output_type": "display_data"
    },
    {
     "data": {
      "text/plain": [
       "'F'"
      ]
     },
     "metadata": {},
     "output_type": "display_data"
    },
    {
     "data": {
      "text/plain": [
       "['A#', 'F', 'E', 'A', 'E', 'E', 'D', 'F']"
      ]
     },
     "metadata": {},
     "output_type": "display_data"
    },
    {
     "data": {
      "text/plain": [
       "'E'"
      ]
     },
     "metadata": {},
     "output_type": "display_data"
    },
    {
     "data": {
      "text/plain": [
       "'G#'"
      ]
     },
     "metadata": {},
     "output_type": "display_data"
    },
    {
     "data": {
      "text/plain": [
       "['F', 'E', 'A', 'E', 'E', 'D', 'F', 'G#']"
      ]
     },
     "metadata": {},
     "output_type": "display_data"
    },
    {
     "data": {
      "text/plain": [
       "'C'"
      ]
     },
     "metadata": {},
     "output_type": "display_data"
    },
    {
     "data": {
      "text/plain": [
       "'F'"
      ]
     },
     "metadata": {},
     "output_type": "display_data"
    },
    {
     "data": {
      "text/plain": [
       "['E', 'A', 'E', 'E', 'D', 'F', 'G#', 'F']"
      ]
     },
     "metadata": {},
     "output_type": "display_data"
    },
    {
     "data": {
      "text/plain": [
       "'D'"
      ]
     },
     "metadata": {},
     "output_type": "display_data"
    },
    {
     "data": {
      "text/plain": [
       "'E'"
      ]
     },
     "metadata": {},
     "output_type": "display_data"
    },
    {
     "data": {
      "text/plain": [
       "['A', 'E', 'E', 'D', 'F', 'G#', 'F', 'E']"
      ]
     },
     "metadata": {},
     "output_type": "display_data"
    },
    {
     "data": {
      "text/plain": [
       "'D'"
      ]
     },
     "metadata": {},
     "output_type": "display_data"
    },
    {
     "data": {
      "text/plain": [
       "'D'"
      ]
     },
     "metadata": {},
     "output_type": "display_data"
    },
    {
     "data": {
      "text/plain": [
       "['E', 'E', 'D', 'F', 'G#', 'F', 'E', 'D']"
      ]
     },
     "metadata": {},
     "output_type": "display_data"
    },
    {
     "data": {
      "text/plain": [
       "'A'"
      ]
     },
     "metadata": {},
     "output_type": "display_data"
    },
    {
     "data": {
      "text/plain": [
       "'E'"
      ]
     },
     "metadata": {},
     "output_type": "display_data"
    },
    {
     "data": {
      "text/plain": [
       "['E', 'D', 'F', 'G#', 'F', 'E', 'D', 'E']"
      ]
     },
     "metadata": {},
     "output_type": "display_data"
    },
    {
     "data": {
      "text/plain": [
       "'A'"
      ]
     },
     "metadata": {},
     "output_type": "display_data"
    },
    {
     "data": {
      "text/plain": [
       "'F'"
      ]
     },
     "metadata": {},
     "output_type": "display_data"
    },
    {
     "data": {
      "text/plain": [
       "['D', 'F', 'G#', 'F', 'E', 'D', 'E', 'F']"
      ]
     },
     "metadata": {},
     "output_type": "display_data"
    },
    {
     "data": {
      "text/plain": [
       "'A'"
      ]
     },
     "metadata": {},
     "output_type": "display_data"
    },
    {
     "data": {
      "text/plain": [
       "'E'"
      ]
     },
     "metadata": {},
     "output_type": "display_data"
    },
    {
     "data": {
      "text/plain": [
       "['F', 'G#', 'F', 'E', 'D', 'E', 'F', 'E']"
      ]
     },
     "metadata": {},
     "output_type": "display_data"
    },
    {
     "data": {
      "text/plain": [
       "'A'"
      ]
     },
     "metadata": {},
     "output_type": "display_data"
    },
    {
     "data": {
      "text/plain": [
       "'D'"
      ]
     },
     "metadata": {},
     "output_type": "display_data"
    },
    {
     "data": {
      "text/plain": [
       "['G#', 'F', 'E', 'D', 'E', 'F', 'E', 'D']"
      ]
     },
     "metadata": {},
     "output_type": "display_data"
    },
    {
     "data": {
      "text/plain": [
       "'D'"
      ]
     },
     "metadata": {},
     "output_type": "display_data"
    },
    {
     "data": {
      "text/plain": [
       "'E'"
      ]
     },
     "metadata": {},
     "output_type": "display_data"
    },
    {
     "data": {
      "text/plain": [
       "['F', 'E', 'D', 'E', 'F', 'E', 'D', 'E']"
      ]
     },
     "metadata": {},
     "output_type": "display_data"
    },
    {
     "data": {
      "text/plain": [
       "'E'"
      ]
     },
     "metadata": {},
     "output_type": "display_data"
    },
    {
     "data": {
      "text/plain": [
       "'F'"
      ]
     },
     "metadata": {},
     "output_type": "display_data"
    },
    {
     "data": {
      "text/plain": [
       "['C', 'B', 'B', 'B', 'B', 'B', 'B', 'B']"
      ]
     },
     "metadata": {},
     "output_type": "display_data"
    },
    {
     "data": {
      "text/plain": [
       "'D'"
      ]
     },
     "metadata": {},
     "output_type": "display_data"
    },
    {
     "data": {
      "text/plain": [
       "'B'"
      ]
     },
     "metadata": {},
     "output_type": "display_data"
    },
    {
     "data": {
      "text/plain": [
       "['B', 'B', 'B', 'B', 'B', 'B', 'B', 'B']"
      ]
     },
     "metadata": {},
     "output_type": "display_data"
    },
    {
     "data": {
      "text/plain": [
       "'A'"
      ]
     },
     "metadata": {},
     "output_type": "display_data"
    },
    {
     "data": {
      "text/plain": [
       "'B'"
      ]
     },
     "metadata": {},
     "output_type": "display_data"
    },
    {
     "data": {
      "text/plain": [
       "['B', 'B', 'B', 'B', 'B', 'B', 'B', 'B']"
      ]
     },
     "metadata": {},
     "output_type": "display_data"
    },
    {
     "data": {
      "text/plain": [
       "'G'"
      ]
     },
     "metadata": {},
     "output_type": "display_data"
    },
    {
     "data": {
      "text/plain": [
       "'B'"
      ]
     },
     "metadata": {},
     "output_type": "display_data"
    },
    {
     "data": {
      "text/plain": [
       "['B', 'B', 'B', 'B', 'B', 'B', 'B', 'B']"
      ]
     },
     "metadata": {},
     "output_type": "display_data"
    },
    {
     "data": {
      "text/plain": [
       "'G'"
      ]
     },
     "metadata": {},
     "output_type": "display_data"
    },
    {
     "data": {
      "text/plain": [
       "'D'"
      ]
     },
     "metadata": {},
     "output_type": "display_data"
    },
    {
     "data": {
      "text/plain": [
       "['B', 'B', 'B', 'B', 'B', 'B', 'B', 'D']"
      ]
     },
     "metadata": {},
     "output_type": "display_data"
    },
    {
     "data": {
      "text/plain": [
       "'A'"
      ]
     },
     "metadata": {},
     "output_type": "display_data"
    },
    {
     "data": {
      "text/plain": [
       "'B'"
      ]
     },
     "metadata": {},
     "output_type": "display_data"
    },
    {
     "data": {
      "text/plain": [
       "['B', 'B', 'B', 'B', 'B', 'B', 'D', 'B']"
      ]
     },
     "metadata": {},
     "output_type": "display_data"
    },
    {
     "data": {
      "text/plain": [
       "'A'"
      ]
     },
     "metadata": {},
     "output_type": "display_data"
    },
    {
     "data": {
      "text/plain": [
       "'A'"
      ]
     },
     "metadata": {},
     "output_type": "display_data"
    },
    {
     "data": {
      "text/plain": [
       "['B', 'B', 'B', 'B', 'B', 'D', 'B', 'A']"
      ]
     },
     "metadata": {},
     "output_type": "display_data"
    },
    {
     "data": {
      "text/plain": [
       "'G'"
      ]
     },
     "metadata": {},
     "output_type": "display_data"
    },
    {
     "data": {
      "text/plain": [
       "'G'"
      ]
     },
     "metadata": {},
     "output_type": "display_data"
    },
    {
     "data": {
      "text/plain": [
       "['B', 'B', 'B', 'B', 'D', 'B', 'A', 'G']"
      ]
     },
     "metadata": {},
     "output_type": "display_data"
    },
    {
     "data": {
      "text/plain": [
       "'G'"
      ]
     },
     "metadata": {},
     "output_type": "display_data"
    },
    {
     "data": {
      "text/plain": [
       "'C'"
      ]
     },
     "metadata": {},
     "output_type": "display_data"
    },
    {
     "data": {
      "text/plain": [
       "['B', 'B', 'B', 'D', 'B', 'A', 'G', 'C']"
      ]
     },
     "metadata": {},
     "output_type": "display_data"
    },
    {
     "data": {
      "text/plain": [
       "'B'"
      ]
     },
     "metadata": {},
     "output_type": "display_data"
    },
    {
     "data": {
      "text/plain": [
       "'A#'"
      ]
     },
     "metadata": {},
     "output_type": "display_data"
    },
    {
     "data": {
      "text/plain": [
       "['B', 'B', 'D', 'B', 'A', 'G', 'C', 'A#']"
      ]
     },
     "metadata": {},
     "output_type": "display_data"
    },
    {
     "data": {
      "text/plain": [
       "'B'"
      ]
     },
     "metadata": {},
     "output_type": "display_data"
    },
    {
     "data": {
      "text/plain": [
       "'B'"
      ]
     },
     "metadata": {},
     "output_type": "display_data"
    },
    {
     "data": {
      "text/plain": [
       "['B', 'D', 'B', 'A', 'G', 'C', 'A#', 'B']"
      ]
     },
     "metadata": {},
     "output_type": "display_data"
    },
    {
     "data": {
      "text/plain": [
       "'B'"
      ]
     },
     "metadata": {},
     "output_type": "display_data"
    },
    {
     "data": {
      "text/plain": [
       "'A#'"
      ]
     },
     "metadata": {},
     "output_type": "display_data"
    },
    {
     "data": {
      "text/plain": [
       "['D', 'B', 'A', 'G', 'C', 'A#', 'B', 'A#']"
      ]
     },
     "metadata": {},
     "output_type": "display_data"
    },
    {
     "data": {
      "text/plain": [
       "'B'"
      ]
     },
     "metadata": {},
     "output_type": "display_data"
    },
    {
     "data": {
      "text/plain": [
       "'B'"
      ]
     },
     "metadata": {},
     "output_type": "display_data"
    },
    {
     "data": {
      "text/plain": [
       "['B', 'A', 'G', 'C', 'A#', 'B', 'A#', 'B']"
      ]
     },
     "metadata": {},
     "output_type": "display_data"
    },
    {
     "data": {
      "text/plain": [
       "'A#'"
      ]
     },
     "metadata": {},
     "output_type": "display_data"
    },
    {
     "data": {
      "text/plain": [
       "'A#'"
      ]
     },
     "metadata": {},
     "output_type": "display_data"
    },
    {
     "data": {
      "text/plain": [
       "['A', 'G', 'C', 'A#', 'B', 'A#', 'B', 'A#']"
      ]
     },
     "metadata": {},
     "output_type": "display_data"
    },
    {
     "data": {
      "text/plain": [
       "'B'"
      ]
     },
     "metadata": {},
     "output_type": "display_data"
    },
    {
     "data": {
      "text/plain": [
       "'B'"
      ]
     },
     "metadata": {},
     "output_type": "display_data"
    },
    {
     "data": {
      "text/plain": [
       "['G', 'C', 'A#', 'B', 'A#', 'B', 'A#', 'B']"
      ]
     },
     "metadata": {},
     "output_type": "display_data"
    },
    {
     "data": {
      "text/plain": [
       "'A#'"
      ]
     },
     "metadata": {},
     "output_type": "display_data"
    },
    {
     "data": {
      "text/plain": [
       "'A#'"
      ]
     },
     "metadata": {},
     "output_type": "display_data"
    },
    {
     "data": {
      "text/plain": [
       "['C', 'A#', 'B', 'A#', 'B', 'A#', 'B', 'A#']"
      ]
     },
     "metadata": {},
     "output_type": "display_data"
    },
    {
     "data": {
      "text/plain": [
       "'G'"
      ]
     },
     "metadata": {},
     "output_type": "display_data"
    },
    {
     "data": {
      "text/plain": [
       "'B'"
      ]
     },
     "metadata": {},
     "output_type": "display_data"
    },
    {
     "data": {
      "text/plain": [
       "['A#', 'B', 'A#', 'B', 'A#', 'B', 'A#', 'B']"
      ]
     },
     "metadata": {},
     "output_type": "display_data"
    },
    {
     "data": {
      "text/plain": [
       "'G'"
      ]
     },
     "metadata": {},
     "output_type": "display_data"
    },
    {
     "data": {
      "text/plain": [
       "'B'"
      ]
     },
     "metadata": {},
     "output_type": "display_data"
    },
    {
     "data": {
      "text/plain": [
       "['B', 'A#', 'B', 'A#', 'B', 'A#', 'B', 'B']"
      ]
     },
     "metadata": {},
     "output_type": "display_data"
    },
    {
     "data": {
      "text/plain": [
       "'G'"
      ]
     },
     "metadata": {},
     "output_type": "display_data"
    },
    {
     "data": {
      "text/plain": [
       "'C'"
      ]
     },
     "metadata": {},
     "output_type": "display_data"
    },
    {
     "data": {
      "text/plain": [
       "['A#', 'B', 'A#', 'B', 'A#', 'B', 'B', 'C']"
      ]
     },
     "metadata": {},
     "output_type": "display_data"
    },
    {
     "data": {
      "text/plain": [
       "'C'"
      ]
     },
     "metadata": {},
     "output_type": "display_data"
    },
    {
     "data": {
      "text/plain": [
       "'C'"
      ]
     },
     "metadata": {},
     "output_type": "display_data"
    },
    {
     "data": {
      "text/plain": [
       "['B', 'A#', 'B', 'A#', 'B', 'B', 'C', 'C']"
      ]
     },
     "metadata": {},
     "output_type": "display_data"
    },
    {
     "data": {
      "text/plain": [
       "'C'"
      ]
     },
     "metadata": {},
     "output_type": "display_data"
    },
    {
     "data": {
      "text/plain": [
       "'C'"
      ]
     },
     "metadata": {},
     "output_type": "display_data"
    },
    {
     "data": {
      "text/plain": [
       "['A#', 'B', 'A#', 'B', 'B', 'C', 'C', 'C']"
      ]
     },
     "metadata": {},
     "output_type": "display_data"
    },
    {
     "data": {
      "text/plain": [
       "'C'"
      ]
     },
     "metadata": {},
     "output_type": "display_data"
    },
    {
     "data": {
      "text/plain": [
       "'C'"
      ]
     },
     "metadata": {},
     "output_type": "display_data"
    },
    {
     "data": {
      "text/plain": [
       "['G', 'F', 'E', 'C', 'E', 'F', 'E', 'G']"
      ]
     },
     "metadata": {},
     "output_type": "display_data"
    },
    {
     "data": {
      "text/plain": [
       "'F'"
      ]
     },
     "metadata": {},
     "output_type": "display_data"
    },
    {
     "data": {
      "text/plain": [
       "'G'"
      ]
     },
     "metadata": {},
     "output_type": "display_data"
    },
    {
     "data": {
      "text/plain": [
       "['F', 'E', 'C', 'E', 'F', 'E', 'G', 'G']"
      ]
     },
     "metadata": {},
     "output_type": "display_data"
    },
    {
     "data": {
      "text/plain": [
       "'F'"
      ]
     },
     "metadata": {},
     "output_type": "display_data"
    },
    {
     "data": {
      "text/plain": [
       "'G'"
      ]
     },
     "metadata": {},
     "output_type": "display_data"
    },
    {
     "data": {
      "text/plain": [
       "['E', 'C', 'E', 'F', 'E', 'G', 'G', 'G']"
      ]
     },
     "metadata": {},
     "output_type": "display_data"
    },
    {
     "data": {
      "text/plain": [
       "'G'"
      ]
     },
     "metadata": {},
     "output_type": "display_data"
    },
    {
     "data": {
      "text/plain": [
       "'C'"
      ]
     },
     "metadata": {},
     "output_type": "display_data"
    },
    {
     "data": {
      "text/plain": [
       "['C', 'E', 'F', 'E', 'G', 'G', 'G', 'C']"
      ]
     },
     "metadata": {},
     "output_type": "display_data"
    },
    {
     "data": {
      "text/plain": [
       "'F'"
      ]
     },
     "metadata": {},
     "output_type": "display_data"
    },
    {
     "data": {
      "text/plain": [
       "'G'"
      ]
     },
     "metadata": {},
     "output_type": "display_data"
    },
    {
     "data": {
      "text/plain": [
       "['E', 'F', 'E', 'G', 'G', 'G', 'C', 'G']"
      ]
     },
     "metadata": {},
     "output_type": "display_data"
    },
    {
     "data": {
      "text/plain": [
       "'F'"
      ]
     },
     "metadata": {},
     "output_type": "display_data"
    },
    {
     "data": {
      "text/plain": [
       "'G'"
      ]
     },
     "metadata": {},
     "output_type": "display_data"
    },
    {
     "data": {
      "text/plain": [
       "['F', 'E', 'G', 'G', 'G', 'C', 'G', 'G']"
      ]
     },
     "metadata": {},
     "output_type": "display_data"
    },
    {
     "data": {
      "text/plain": [
       "'C'"
      ]
     },
     "metadata": {},
     "output_type": "display_data"
    },
    {
     "data": {
      "text/plain": [
       "'F'"
      ]
     },
     "metadata": {},
     "output_type": "display_data"
    },
    {
     "data": {
      "text/plain": [
       "['E', 'G', 'G', 'G', 'C', 'G', 'G', 'F']"
      ]
     },
     "metadata": {},
     "output_type": "display_data"
    },
    {
     "data": {
      "text/plain": [
       "'E'"
      ]
     },
     "metadata": {},
     "output_type": "display_data"
    },
    {
     "data": {
      "text/plain": [
       "'G'"
      ]
     },
     "metadata": {},
     "output_type": "display_data"
    },
    {
     "data": {
      "text/plain": [
       "['G', 'G', 'G', 'C', 'G', 'G', 'F', 'G']"
      ]
     },
     "metadata": {},
     "output_type": "display_data"
    },
    {
     "data": {
      "text/plain": [
       "'A'"
      ]
     },
     "metadata": {},
     "output_type": "display_data"
    },
    {
     "data": {
      "text/plain": [
       "'A#'"
      ]
     },
     "metadata": {},
     "output_type": "display_data"
    },
    {
     "data": {
      "text/plain": [
       "['G', 'G', 'C', 'G', 'G', 'F', 'G', 'A#']"
      ]
     },
     "metadata": {},
     "output_type": "display_data"
    },
    {
     "data": {
      "text/plain": [
       "'F'"
      ]
     },
     "metadata": {},
     "output_type": "display_data"
    },
    {
     "data": {
      "text/plain": [
       "'G'"
      ]
     },
     "metadata": {},
     "output_type": "display_data"
    },
    {
     "data": {
      "text/plain": [
       "['G', 'C', 'G', 'G', 'F', 'G', 'A#', 'G']"
      ]
     },
     "metadata": {},
     "output_type": "display_data"
    },
    {
     "data": {
      "text/plain": [
       "'C'"
      ]
     },
     "metadata": {},
     "output_type": "display_data"
    },
    {
     "data": {
      "text/plain": [
       "'F'"
      ]
     },
     "metadata": {},
     "output_type": "display_data"
    },
    {
     "data": {
      "text/plain": [
       "['C', 'G', 'G', 'F', 'G', 'A#', 'G', 'F']"
      ]
     },
     "metadata": {},
     "output_type": "display_data"
    },
    {
     "data": {
      "text/plain": [
       "'C'"
      ]
     },
     "metadata": {},
     "output_type": "display_data"
    },
    {
     "data": {
      "text/plain": [
       "'G'"
      ]
     },
     "metadata": {},
     "output_type": "display_data"
    },
    {
     "data": {
      "text/plain": [
       "['G', 'G', 'F', 'G', 'A#', 'G', 'F', 'G']"
      ]
     },
     "metadata": {},
     "output_type": "display_data"
    },
    {
     "data": {
      "text/plain": [
       "'C'"
      ]
     },
     "metadata": {},
     "output_type": "display_data"
    },
    {
     "data": {
      "text/plain": [
       "'F'"
      ]
     },
     "metadata": {},
     "output_type": "display_data"
    },
    {
     "data": {
      "text/plain": [
       "['G', 'F', 'G', 'A#', 'G', 'F', 'G', 'F']"
      ]
     },
     "metadata": {},
     "output_type": "display_data"
    },
    {
     "data": {
      "text/plain": [
       "'A'"
      ]
     },
     "metadata": {},
     "output_type": "display_data"
    },
    {
     "data": {
      "text/plain": [
       "'E'"
      ]
     },
     "metadata": {},
     "output_type": "display_data"
    },
    {
     "data": {
      "text/plain": [
       "['F', 'G', 'A#', 'G', 'F', 'G', 'F', 'E']"
      ]
     },
     "metadata": {},
     "output_type": "display_data"
    },
    {
     "data": {
      "text/plain": [
       "'A'"
      ]
     },
     "metadata": {},
     "output_type": "display_data"
    },
    {
     "data": {
      "text/plain": [
       "'C'"
      ]
     },
     "metadata": {},
     "output_type": "display_data"
    },
    {
     "data": {
      "text/plain": [
       "['G', 'A#', 'G', 'F', 'G', 'F', 'E', 'C']"
      ]
     },
     "metadata": {},
     "output_type": "display_data"
    },
    {
     "data": {
      "text/plain": [
       "'A'"
      ]
     },
     "metadata": {},
     "output_type": "display_data"
    },
    {
     "data": {
      "text/plain": [
       "'C'"
      ]
     },
     "metadata": {},
     "output_type": "display_data"
    },
    {
     "data": {
      "text/plain": [
       "['A#', 'G', 'F', 'G', 'F', 'E', 'C', 'C']"
      ]
     },
     "metadata": {},
     "output_type": "display_data"
    },
    {
     "data": {
      "text/plain": [
       "'F'"
      ]
     },
     "metadata": {},
     "output_type": "display_data"
    },
    {
     "data": {
      "text/plain": [
       "'C'"
      ]
     },
     "metadata": {},
     "output_type": "display_data"
    },
    {
     "data": {
      "text/plain": [
       "['G', 'F', 'G', 'F', 'E', 'C', 'C', 'C']"
      ]
     },
     "metadata": {},
     "output_type": "display_data"
    },
    {
     "data": {
      "text/plain": [
       "'A#'"
      ]
     },
     "metadata": {},
     "output_type": "display_data"
    },
    {
     "data": {
      "text/plain": [
       "'C'"
      ]
     },
     "metadata": {},
     "output_type": "display_data"
    },
    {
     "data": {
      "text/plain": [
       "['F', 'G', 'F', 'E', 'C', 'C', 'C', 'C']"
      ]
     },
     "metadata": {},
     "output_type": "display_data"
    },
    {
     "data": {
      "text/plain": [
       "'D'"
      ]
     },
     "metadata": {},
     "output_type": "display_data"
    },
    {
     "data": {
      "text/plain": [
       "'C'"
      ]
     },
     "metadata": {},
     "output_type": "display_data"
    },
    {
     "data": {
      "text/plain": [
       "['G', 'F', 'E', 'C', 'C', 'C', 'C', 'C']"
      ]
     },
     "metadata": {},
     "output_type": "display_data"
    },
    {
     "data": {
      "text/plain": [
       "'F'"
      ]
     },
     "metadata": {},
     "output_type": "display_data"
    },
    {
     "data": {
      "text/plain": [
       "'B'"
      ]
     },
     "metadata": {},
     "output_type": "display_data"
    },
    {
     "data": {
      "text/plain": [
       "['F', 'E', 'C', 'C', 'C', 'C', 'C', 'B']"
      ]
     },
     "metadata": {},
     "output_type": "display_data"
    },
    {
     "data": {
      "text/plain": [
       "'D'"
      ]
     },
     "metadata": {},
     "output_type": "display_data"
    },
    {
     "data": {
      "text/plain": [
       "'A#'"
      ]
     },
     "metadata": {},
     "output_type": "display_data"
    },
    {
     "data": {
      "text/plain": [
       "['E', 'C', 'C', 'C', 'C', 'C', 'B', 'A#']"
      ]
     },
     "metadata": {},
     "output_type": "display_data"
    },
    {
     "data": {
      "text/plain": [
       "'D'"
      ]
     },
     "metadata": {},
     "output_type": "display_data"
    },
    {
     "data": {
      "text/plain": [
       "'A'"
      ]
     },
     "metadata": {},
     "output_type": "display_data"
    },
    {
     "data": {
      "text/plain": [
       "['C', 'C', 'C', 'C', 'C', 'B', 'A#', 'A']"
      ]
     },
     "metadata": {},
     "output_type": "display_data"
    },
    {
     "data": {
      "text/plain": [
       "'C'"
      ]
     },
     "metadata": {},
     "output_type": "display_data"
    },
    {
     "data": {
      "text/plain": [
       "'C'"
      ]
     },
     "metadata": {},
     "output_type": "display_data"
    },
    {
     "data": {
      "text/plain": [
       "['C', 'C', 'C', 'C', 'B', 'A#', 'A', 'C']"
      ]
     },
     "metadata": {},
     "output_type": "display_data"
    },
    {
     "data": {
      "text/plain": [
       "'G'"
      ]
     },
     "metadata": {},
     "output_type": "display_data"
    },
    {
     "data": {
      "text/plain": [
       "'C'"
      ]
     },
     "metadata": {},
     "output_type": "display_data"
    },
    {
     "data": {
      "text/plain": [
       "['C', 'C', 'C', 'B', 'A#', 'A', 'C', 'C']"
      ]
     },
     "metadata": {},
     "output_type": "display_data"
    },
    {
     "data": {
      "text/plain": [
       "'G'"
      ]
     },
     "metadata": {},
     "output_type": "display_data"
    },
    {
     "data": {
      "text/plain": [
       "'C'"
      ]
     },
     "metadata": {},
     "output_type": "display_data"
    },
    {
     "data": {
      "text/plain": [
       "['C', 'C', 'B', 'A#', 'A', 'C', 'C', 'C']"
      ]
     },
     "metadata": {},
     "output_type": "display_data"
    },
    {
     "data": {
      "text/plain": [
       "'G'"
      ]
     },
     "metadata": {},
     "output_type": "display_data"
    },
    {
     "data": {
      "text/plain": [
       "'D'"
      ]
     },
     "metadata": {},
     "output_type": "display_data"
    },
    {
     "data": {
      "text/plain": [
       "['C', 'B', 'A#', 'A', 'C', 'C', 'C', 'D']"
      ]
     },
     "metadata": {},
     "output_type": "display_data"
    },
    {
     "data": {
      "text/plain": [
       "'G'"
      ]
     },
     "metadata": {},
     "output_type": "display_data"
    },
    {
     "data": {
      "text/plain": [
       "'C#'"
      ]
     },
     "metadata": {},
     "output_type": "display_data"
    },
    {
     "data": {
      "text/plain": [
       "['B', 'A#', 'A', 'C', 'C', 'C', 'D', 'C#']"
      ]
     },
     "metadata": {},
     "output_type": "display_data"
    },
    {
     "data": {
      "text/plain": [
       "'G'"
      ]
     },
     "metadata": {},
     "output_type": "display_data"
    },
    {
     "data": {
      "text/plain": [
       "'C'"
      ]
     },
     "metadata": {},
     "output_type": "display_data"
    },
    {
     "data": {
      "text/plain": [
       "['A#', 'A', 'C', 'C', 'C', 'D', 'C#', 'C']"
      ]
     },
     "metadata": {},
     "output_type": "display_data"
    },
    {
     "data": {
      "text/plain": [
       "'G'"
      ]
     },
     "metadata": {},
     "output_type": "display_data"
    },
    {
     "data": {
      "text/plain": [
       "'B'"
      ]
     },
     "metadata": {},
     "output_type": "display_data"
    },
    {
     "data": {
      "text/plain": [
       "['A', 'C', 'C', 'C', 'D', 'C#', 'C', 'B']"
      ]
     },
     "metadata": {},
     "output_type": "display_data"
    },
    {
     "data": {
      "text/plain": [
       "'F'"
      ]
     },
     "metadata": {},
     "output_type": "display_data"
    },
    {
     "data": {
      "text/plain": [
       "'E'"
      ]
     },
     "metadata": {},
     "output_type": "display_data"
    },
    {
     "data": {
      "text/plain": [
       "['C', 'C', 'C', 'D', 'C#', 'C', 'B', 'E']"
      ]
     },
     "metadata": {},
     "output_type": "display_data"
    },
    {
     "data": {
      "text/plain": [
       "'G'"
      ]
     },
     "metadata": {},
     "output_type": "display_data"
    },
    {
     "data": {
      "text/plain": [
       "'F'"
      ]
     },
     "metadata": {},
     "output_type": "display_data"
    },
    {
     "data": {
      "text/plain": [
       "['C', 'C', 'D', 'C#', 'C', 'B', 'E', 'F']"
      ]
     },
     "metadata": {},
     "output_type": "display_data"
    },
    {
     "data": {
      "text/plain": [
       "'E'"
      ]
     },
     "metadata": {},
     "output_type": "display_data"
    },
    {
     "data": {
      "text/plain": [
       "'E'"
      ]
     },
     "metadata": {},
     "output_type": "display_data"
    },
    {
     "data": {
      "text/plain": [
       "['C', 'D', 'C#', 'C', 'B', 'E', 'F', 'E']"
      ]
     },
     "metadata": {},
     "output_type": "display_data"
    },
    {
     "data": {
      "text/plain": [
       "'E'"
      ]
     },
     "metadata": {},
     "output_type": "display_data"
    },
    {
     "data": {
      "text/plain": [
       "'G'"
      ]
     },
     "metadata": {},
     "output_type": "display_data"
    },
    {
     "data": {
      "text/plain": [
       "['D', 'C#', 'C', 'B', 'E', 'F', 'E', 'G']"
      ]
     },
     "metadata": {},
     "output_type": "display_data"
    },
    {
     "data": {
      "text/plain": [
       "'C'"
      ]
     },
     "metadata": {},
     "output_type": "display_data"
    },
    {
     "data": {
      "text/plain": [
       "'C'"
      ]
     },
     "metadata": {},
     "output_type": "display_data"
    },
    {
     "data": {
      "text/plain": [
       "['C#', 'C', 'B', 'E', 'F', 'E', 'G', 'C']"
      ]
     },
     "metadata": {},
     "output_type": "display_data"
    },
    {
     "data": {
      "text/plain": [
       "'D#'"
      ]
     },
     "metadata": {},
     "output_type": "display_data"
    },
    {
     "data": {
      "text/plain": [
       "'D#'"
      ]
     },
     "metadata": {},
     "output_type": "display_data"
    },
    {
     "data": {
      "text/plain": [
       "['C', 'B', 'E', 'F', 'E', 'G', 'C', 'D#']"
      ]
     },
     "metadata": {},
     "output_type": "display_data"
    },
    {
     "data": {
      "text/plain": [
       "'F'"
      ]
     },
     "metadata": {},
     "output_type": "display_data"
    },
    {
     "data": {
      "text/plain": [
       "'F'"
      ]
     },
     "metadata": {},
     "output_type": "display_data"
    }
   ],
   "source": [
    "for i in range(test_data.shape[0]):\n",
    "    sample = test_data[i]\n",
    "\n",
    "    display([getPitch(note) for note in np.argmax(sample[:,MELODY:MELODY+12],1)])\n",
    "\n",
    "    display(getPitch(np.argmax(model.predict(np.expand_dims(sample,0)))))\n",
    "    display(getPitch(test_labels[i][0]))"
   ]
  },
  {
   "cell_type": "code",
   "execution_count": null,
   "metadata": {},
   "outputs": [],
   "source": []
  },
  {
   "cell_type": "code",
   "execution_count": 0,
   "metadata": {
    "colab": {},
    "colab_type": "code",
    "id": "oj4IpyEaNX8x"
   },
   "outputs": [],
   "source": []
  },
  {
   "cell_type": "markdown",
   "metadata": {
    "colab_type": "text",
    "id": "iv-3x-0yNX8z"
   },
   "source": [
    "# Test Framework"
   ]
  },
  {
   "cell_type": "markdown",
   "metadata": {
    "colab_type": "text",
    "id": "iyK7IZAXDrnX"
   },
   "source": [
    "## Test A: TradeFour"
   ]
  },
  {
   "cell_type": "code",
   "execution_count": 49,
   "metadata": {
    "colab": {},
    "colab_type": "code",
    "id": "56ENduBtDrnX"
   },
   "outputs": [],
   "source": [
    "# read test midi file, ignore labels and get output from network\n",
    "# simply read midi here to see how it sounds + plot (by creating midi file with input midi and prediction from network)\n",
    "\n",
    "def writeMidi(notes, times, file, originalfile, tempo=120, resolution=12):\n",
    "    pm = pretty_midi.PrettyMIDI(resolution=resolution, initial_tempo=tempo)\n",
    "    pminst = pretty_midi.Instrument(program=0)\n",
    "    currtime = 0\n",
    "    for i, note in enumerate(notes):\n",
    "        if note != MELODY-1:\n",
    "            pitch = note+LOW\n",
    "            start = pm.tick_to_time(int(currtime))\n",
    "            end = pm.tick_to_time(int(currtime+times[i]))\n",
    "            if end > start:\n",
    "                pmnote = pretty_midi.Note(velocity=100, pitch = pitch, start=start, end=end)\n",
    "                pminst.notes.append(pmnote)\n",
    "        currtime += times[i]+1\n",
    "    pm.instruments.append(pminst)\n",
    "    \n",
    "    #get original chords from file\n",
    "    ogpm = pretty_midi.PrettyMIDI(originalfile)\n",
    "    originalchords = pretty_midi.Instrument(program=0)\n",
    "    originalnotes = getMelodyAndHarmonyBass(originalfile)['harmony']\n",
    "    for i, note in enumerate(originalnotes):\n",
    "        old = ogpm.time_to_tick(note.start)\n",
    "        start = pm.tick_to_time(int(ogpm.time_to_tick(note.start)/ogpm.resolution*pm.resolution))\n",
    "        end = pm.tick_to_time(int(ogpm.time_to_tick(note.end)/ogpm.resolution*pm.resolution))\n",
    "        originalchords.notes.append(pretty_midi.Note(velocity=50, pitch=note.pitch, start=start, end=end))\n",
    "    pm.instruments.append(originalchords)\n",
    "\n",
    "    pm.write(file)\n",
    "    return pm\n",
    "\n",
    "    \n",
    "def tradeFour(processedMidi):\n",
    "    notes, times, chords, chordsByBeat, key = processedMidi\n",
    "    predicted_notes, predicted_durations = [], []\n",
    "    mel_len=16+1 # wegen nextChord\n",
    "\n",
    "    notesnew = np.array(notes[-mel_len:])\n",
    "    timesnew = np.array(times[-mel_len:])\n",
    "    chordsnew = np.array(chords[-mel_len:])\n",
    "\n",
    "    currentbeat = 0\n",
    "    currenttime = 0\n",
    "    while sum(predicted_durations) < 4*TIMES:\n",
    "        processedMidi = notesnew, timesnew, chordsnew, chordsByBeat, key\n",
    "        feat = getFeatureVectors(processedMidi)\n",
    "        feat = tf.expand_dims(feat,0)\n",
    "        \n",
    "        pitch, duration = model(feat)\n",
    "\n",
    "        pred_pitch = tf.math.argmax(pitch, 1).numpy()[0]\n",
    "        pred_duration = tf.math.argmax(duration, 1).numpy()[0]\n",
    "\n",
    "        predicted_notes.append(pred_pitch)\n",
    "        predicted_durations.append(pred_duration)\n",
    "        notesnew = np.append(notesnew[1:], pred_pitch)\n",
    "        timesnew = np.append(timesnew[1:], pred_duration)\n",
    "        \n",
    "        if int(currenttime/12) > currentbeat:\n",
    "            newchord = chordsByBeat[int(currenttime/12)]\n",
    "            chordsnew = np.append(chordsnew[1:], newchord)\n",
    "        currenttime += pred_duration\n",
    "        currentbeat += int(currenttime/12)\n",
    "        \n",
    "        print(predicted_durations)\n",
    "        \n",
    "    notes = np.append(notes, np.array(predicted_notes))\n",
    "    times = np.append(times, np.array(predicted_durations))\n",
    "\n",
    "    return notes, times\n",
    "    \n",
    "def plotTradeFour(file):\n",
    "    processedMidi = processMidi(file)\n",
    "    \n",
    "    t = time.time()\n",
    "    notes, times = tradeFour(processedMidi)\n",
    "    print(time.time() - t,'s')\n",
    "    \n",
    "    # plotWithAudio\n",
    "    pm = writeMidi(notes, times, 'old_notebooks/treval/newtest.mid', file)\n",
    "    plt.figure(figsize=(8, 4))\n",
    "    plot_piano_roll(pm, LOW, HIGH)\n",
    "    display(IPython.display.Audio(pm.synthesize(fs=44000), rate=44000))   \n",
    "    "
   ]
  },
  {
   "cell_type": "code",
   "execution_count": 51,
   "metadata": {
    "colab": {
     "base_uri": "https://localhost:8080/",
     "height": 596
    },
    "colab_type": "code",
    "id": "jitsFsWbDrna",
    "outputId": "5f452100-38d5-49d8-83e3-b67aa01c25e0",
    "scrolled": false
   },
   "outputs": [
    {
     "ename": "FileNotFoundError",
     "evalue": "[Errno 2] No such file or directory: 'datasets/trainData/chords/test/testlmd.mid'",
     "output_type": "error",
     "traceback": [
      "\u001b[0;31m---------------------------------------------------------------------------\u001b[0m",
      "\u001b[0;31mFileNotFoundError\u001b[0m                         Traceback (most recent call last)",
      "\u001b[0;32m<ipython-input-51-eb0164d6aa66>\u001b[0m in \u001b[0;36m<module>\u001b[0;34m\u001b[0m\n\u001b[0;32m----> 1\u001b[0;31m \u001b[0mplotTradeFour\u001b[0m\u001b[0;34m(\u001b[0m\u001b[0;34m'test/testlmd.mid'\u001b[0m\u001b[0;34m)\u001b[0m\u001b[0;34m\u001b[0m\u001b[0;34m\u001b[0m\u001b[0m\n\u001b[0m",
      "\u001b[0;32m<ipython-input-49-0b83dd5815cf>\u001b[0m in \u001b[0;36mplotTradeFour\u001b[0;34m(file)\u001b[0m\n\u001b[1;32m     72\u001b[0m \u001b[0;34m\u001b[0m\u001b[0m\n\u001b[1;32m     73\u001b[0m \u001b[0;32mdef\u001b[0m \u001b[0mplotTradeFour\u001b[0m\u001b[0;34m(\u001b[0m\u001b[0mfile\u001b[0m\u001b[0;34m)\u001b[0m\u001b[0;34m:\u001b[0m\u001b[0;34m\u001b[0m\u001b[0;34m\u001b[0m\u001b[0m\n\u001b[0;32m---> 74\u001b[0;31m     \u001b[0mprocessedMidi\u001b[0m \u001b[0;34m=\u001b[0m \u001b[0mprocessMidi\u001b[0m\u001b[0;34m(\u001b[0m\u001b[0mfile\u001b[0m\u001b[0;34m)\u001b[0m\u001b[0;34m\u001b[0m\u001b[0;34m\u001b[0m\u001b[0m\n\u001b[0m\u001b[1;32m     75\u001b[0m \u001b[0;34m\u001b[0m\u001b[0m\n\u001b[1;32m     76\u001b[0m     \u001b[0mt\u001b[0m \u001b[0;34m=\u001b[0m \u001b[0mtime\u001b[0m\u001b[0;34m.\u001b[0m\u001b[0mtime\u001b[0m\u001b[0;34m(\u001b[0m\u001b[0;34m)\u001b[0m\u001b[0;34m\u001b[0m\u001b[0;34m\u001b[0m\u001b[0m\n",
      "\u001b[0;32m<ipython-input-6-17304bf598df>\u001b[0m in \u001b[0;36mprocessMidi\u001b[0;34m(file)\u001b[0m\n\u001b[1;32m     93\u001b[0m \u001b[0;34m\u001b[0m\u001b[0m\n\u001b[1;32m     94\u001b[0m \u001b[0;32mdef\u001b[0m \u001b[0mprocessMidi\u001b[0m\u001b[0;34m(\u001b[0m\u001b[0mfile\u001b[0m\u001b[0;34m)\u001b[0m\u001b[0;34m:\u001b[0m\u001b[0;34m\u001b[0m\u001b[0;34m\u001b[0m\u001b[0m\n\u001b[0;32m---> 95\u001b[0;31m     \u001b[0mpm\u001b[0m \u001b[0;34m=\u001b[0m \u001b[0mpretty_midi\u001b[0m\u001b[0;34m.\u001b[0m\u001b[0mPrettyMIDI\u001b[0m\u001b[0;34m(\u001b[0m\u001b[0mfolder\u001b[0m\u001b[0;34m+\u001b[0m\u001b[0;34m'chords/'\u001b[0m\u001b[0;34m+\u001b[0m\u001b[0mfile\u001b[0m\u001b[0;34m)\u001b[0m\u001b[0;34m\u001b[0m\u001b[0;34m\u001b[0m\u001b[0m\n\u001b[0m\u001b[1;32m     96\u001b[0m     \u001b[0;31m#tracks = getMelodyAndHarmony(file)\u001b[0m\u001b[0;34m\u001b[0m\u001b[0;34m\u001b[0m\u001b[0;34m\u001b[0m\u001b[0m\n\u001b[1;32m     97\u001b[0m     \u001b[0;31m#tracks = getMelodyAndHarmonyBass(file) //changing, this doesnt work anymore -> DACBass\u001b[0m\u001b[0;34m\u001b[0m\u001b[0;34m\u001b[0m\u001b[0;34m\u001b[0m\u001b[0m\n",
      "\u001b[0;32m/Library/Frameworks/Python.framework/Versions/3.6/lib/python3.6/site-packages/pretty_midi/pretty_midi.py\u001b[0m in \u001b[0;36m__init__\u001b[0;34m(self, midi_file, resolution, initial_tempo)\u001b[0m\n\u001b[1;32m     57\u001b[0m             \u001b[0;32mif\u001b[0m \u001b[0misinstance\u001b[0m\u001b[0;34m(\u001b[0m\u001b[0mmidi_file\u001b[0m\u001b[0;34m,\u001b[0m \u001b[0msix\u001b[0m\u001b[0;34m.\u001b[0m\u001b[0mstring_types\u001b[0m\u001b[0;34m)\u001b[0m\u001b[0;34m:\u001b[0m\u001b[0;34m\u001b[0m\u001b[0;34m\u001b[0m\u001b[0m\n\u001b[1;32m     58\u001b[0m                 \u001b[0;31m# If a string was given, pass it as the string filename\u001b[0m\u001b[0;34m\u001b[0m\u001b[0;34m\u001b[0m\u001b[0;34m\u001b[0m\u001b[0m\n\u001b[0;32m---> 59\u001b[0;31m                 \u001b[0mmidi_data\u001b[0m \u001b[0;34m=\u001b[0m \u001b[0mmido\u001b[0m\u001b[0;34m.\u001b[0m\u001b[0mMidiFile\u001b[0m\u001b[0;34m(\u001b[0m\u001b[0mfilename\u001b[0m\u001b[0;34m=\u001b[0m\u001b[0mmidi_file\u001b[0m\u001b[0;34m)\u001b[0m\u001b[0;34m\u001b[0m\u001b[0;34m\u001b[0m\u001b[0m\n\u001b[0m\u001b[1;32m     60\u001b[0m             \u001b[0;32melse\u001b[0m\u001b[0;34m:\u001b[0m\u001b[0;34m\u001b[0m\u001b[0;34m\u001b[0m\u001b[0m\n\u001b[1;32m     61\u001b[0m                 \u001b[0;31m# Otherwise, try passing it in as a file pointer\u001b[0m\u001b[0;34m\u001b[0m\u001b[0;34m\u001b[0m\u001b[0;34m\u001b[0m\u001b[0m\n",
      "\u001b[0;32m/Library/Frameworks/Python.framework/Versions/3.6/lib/python3.6/site-packages/mido/midifiles/midifiles.py\u001b[0m in \u001b[0;36m__init__\u001b[0;34m(self, filename, file, type, ticks_per_beat, charset, debug, clip)\u001b[0m\n\u001b[1;32m    313\u001b[0m             \u001b[0mself\u001b[0m\u001b[0;34m.\u001b[0m\u001b[0m_load\u001b[0m\u001b[0;34m(\u001b[0m\u001b[0mfile\u001b[0m\u001b[0;34m)\u001b[0m\u001b[0;34m\u001b[0m\u001b[0;34m\u001b[0m\u001b[0m\n\u001b[1;32m    314\u001b[0m         \u001b[0;32melif\u001b[0m \u001b[0mself\u001b[0m\u001b[0;34m.\u001b[0m\u001b[0mfilename\u001b[0m \u001b[0;32mis\u001b[0m \u001b[0;32mnot\u001b[0m \u001b[0;32mNone\u001b[0m\u001b[0;34m:\u001b[0m\u001b[0;34m\u001b[0m\u001b[0;34m\u001b[0m\u001b[0m\n\u001b[0;32m--> 315\u001b[0;31m             \u001b[0;32mwith\u001b[0m \u001b[0mio\u001b[0m\u001b[0;34m.\u001b[0m\u001b[0mopen\u001b[0m\u001b[0;34m(\u001b[0m\u001b[0mfilename\u001b[0m\u001b[0;34m,\u001b[0m \u001b[0;34m'rb'\u001b[0m\u001b[0;34m)\u001b[0m \u001b[0;32mas\u001b[0m \u001b[0mfile\u001b[0m\u001b[0;34m:\u001b[0m\u001b[0;34m\u001b[0m\u001b[0;34m\u001b[0m\u001b[0m\n\u001b[0m\u001b[1;32m    316\u001b[0m                 \u001b[0mself\u001b[0m\u001b[0;34m.\u001b[0m\u001b[0m_load\u001b[0m\u001b[0;34m(\u001b[0m\u001b[0mfile\u001b[0m\u001b[0;34m)\u001b[0m\u001b[0;34m\u001b[0m\u001b[0;34m\u001b[0m\u001b[0m\n\u001b[1;32m    317\u001b[0m \u001b[0;34m\u001b[0m\u001b[0m\n",
      "\u001b[0;31mFileNotFoundError\u001b[0m: [Errno 2] No such file or directory: 'datasets/trainData/chords/test/testlmd.mid'"
     ]
    }
   ],
   "source": [
    "plotTradeFour('test/testlmd.mid')"
   ]
  },
  {
   "cell_type": "markdown",
   "metadata": {
    "colab_type": "text",
    "id": "1z8g4E6UDrnj"
   },
   "source": [
    "## Test B: Overfitting"
   ]
  },
  {
   "cell_type": "code",
   "execution_count": 0,
   "metadata": {
    "colab": {},
    "colab_type": "code",
    "id": "c_NTDPAtDrnk"
   },
   "outputs": [],
   "source": [
    "# test how much % model can learn a melody\n",
    "\n",
    "# define test melody\n",
    "# train network\n",
    "# give percentage of how much it learnt\n",
    "\n",
    "chordsDict={\n",
    "    'C': [1,0,0,0,1,0,0,1,0,0,0,0],\n",
    "    'C7': [1,0,0,0,1,0,0,1,0,0,1,0],\n",
    "    'Cmaj7': [1,0,0,0,1,0,0,1,0,0,0,1]\n",
    "}"
   ]
  },
  {
   "cell_type": "code",
   "execution_count": 0,
   "metadata": {
    "colab": {},
    "colab_type": "code",
    "id": "q3bpvPeiDrnn",
    "outputId": "220e7428-964b-4cfc-cc61-7a60241946f8",
    "scrolled": false
   },
   "outputs": [
    {
     "data": {
      "text/plain": [
       "(15, 16, 31)"
      ]
     },
     "metadata": {
      "tags": []
     },
     "output_type": "display_data"
    },
    {
     "name": "stdout",
     "output_type": "stream",
     "text": [
      "Nr. of params: 30485\n"
     ]
    }
   ],
   "source": [
    "# test data\n",
    "notes = [0,2,4,7,7,4,2,0,0,2,4,7,7,4,2,0,0,5,3,4,5,8,7,5,0,2,4,7,7,4,2,0]\n",
    "times = np.ones(32)*8\n",
    "chord = chordsDict['C']\n",
    "chords = np.repeat(chord, 32).reshape((12,-1)).T\n",
    "encoding = True\n",
    "train_data, train_labels = getInputSequences(notes, times, chords, encoding=encoding, modulation=False, padding=False, seq_len=1)\n",
    "\n",
    "display(train_data.shape)\n",
    "batch_size = 32\n",
    "train_loader = getDataLoader(train_data, train_labels, batch_size=batch_size, shuffle=False)\n",
    "\n",
    "# test model\n",
    "model_params = {\n",
    "    'input_dim': train_data.shape[-1],\n",
    "    'hidden_dim': 64,\n",
    "    'num_layers': 1,\n",
    "    'output_dim_pitch': MELODY,\n",
    "    'output_dim_duration': TIMES,\n",
    "    'dropout': 0\n",
    "}\n",
    "\n",
    "testmodel = LSTM(**model_params)\n",
    "testmodel.to(device)"
   ]
  },
  {
   "cell_type": "code",
   "execution_count": 0,
   "metadata": {
    "colab": {},
    "colab_type": "code",
    "id": "gelE-IxbDrnq",
    "outputId": "714c3e78-b332-46d7-b07c-704a2c735345",
    "scrolled": true
   },
   "outputs": [
    {
     "name": "stdout",
     "output_type": "stream",
     "text": [
      "tensor([2, 2, 0, 2, 0, 0, 0, 0, 0, 0, 2, 2, 0, 0, 0])\n",
      "tensor([0., 5., 3., 4., 5., 8., 7., 5., 0., 2., 4., 7., 7., 4., 2.],\n",
      "       dtype=torch.float64)\n",
      "loss:  7.3719 acc_train:  6 acc_val:  6\n",
      "loss:  1.8806 acc_train:  20 acc_val:  20\n",
      "loss:  1.8009 acc_train:  26 acc_val:  26\n",
      "loss:  1.6949 acc_train:  33 acc_val:  33\n",
      "loss:  1.5203 acc_train:  53 acc_val:  53\n",
      "tensor([0, 5, 8, 4, 5, 8, 7, 5, 0, 7, 4, 7, 5, 4, 7])\n",
      "tensor([0., 5., 3., 4., 5., 8., 7., 5., 0., 2., 4., 7., 7., 4., 2.],\n",
      "       dtype=torch.float64)\n",
      "loss:  1.2851 acc_train:  73 acc_val:  73\n",
      "loss:  1.0255 acc_train:  80 acc_val:  80\n",
      "loss:  0.8072 acc_train:  86 acc_val:  86\n",
      "loss:  0.6302 acc_train:  86 acc_val:  86\n",
      "loss:  0.4656 acc_train:  93 acc_val:  93\n",
      "tensor([0, 5, 3, 4, 5, 8, 7, 5, 0, 2, 4, 7, 7, 4, 2])\n",
      "tensor([0., 5., 3., 4., 5., 8., 7., 5., 0., 2., 4., 7., 7., 4., 2.],\n",
      "       dtype=torch.float64)\n",
      "loss:  0.3227 acc_train:  100 acc_val:  100\n",
      "loss:  0.2176 acc_train:  100 acc_val:  100\n",
      "loss:  0.1449 acc_train:  100 acc_val:  100\n",
      "loss:  0.1 acc_train:  100 acc_val:  100\n",
      "loss:  0.0731 acc_train:  100 acc_val:  100\n",
      "tensor([0, 5, 3, 4, 5, 8, 7, 5, 0, 2, 4, 7, 7, 4, 2])\n",
      "tensor([0., 5., 3., 4., 5., 8., 7., 5., 0., 2., 4., 7., 7., 4., 2.],\n",
      "       dtype=torch.float64)\n",
      "loss:  0.0561 acc_train:  100 acc_val:  100\n",
      "loss:  0.0446 acc_train:  100 acc_val:  100\n",
      "loss:  0.0366 acc_train:  100 acc_val:  100\n",
      "loss:  0.0308 acc_train:  100 acc_val:  100\n",
      "loss:  0.0264 acc_train:  100 acc_val:  100\n",
      "tensor([0, 5, 3, 4, 5, 8, 7, 5, 0, 2, 4, 7, 7, 4, 2])\n",
      "tensor([0., 5., 3., 4., 5., 8., 7., 5., 0., 2., 4., 7., 7., 4., 2.],\n",
      "       dtype=torch.float64)\n",
      "loss:  0.0231 acc_train:  100 acc_val:  100\n",
      "loss:  0.0204 acc_train:  100 acc_val:  100\n",
      "loss:  0.0182 acc_train:  100 acc_val:  100\n",
      "loss:  0.0164 acc_train:  100 acc_val:  100\n",
      "loss:  0.0149 acc_train:  100 acc_val:  100\n",
      "tensor([0, 5, 3, 4, 5, 8, 7, 5, 0, 2, 4, 7, 7, 4, 2])\n",
      "tensor([0., 5., 3., 4., 5., 8., 7., 5., 0., 2., 4., 7., 7., 4., 2.],\n",
      "       dtype=torch.float64)\n",
      "loss:  0.0136 acc_train:  100 acc_val:  100\n",
      "loss:  0.0125 acc_train:  100 acc_val:  100\n",
      "loss:  0.0116 acc_train:  100 acc_val:  100\n",
      "loss:  0.0107 acc_train:  100 acc_val:  100\n",
      "loss:  0.01 acc_train:  100 acc_val:  100\n",
      "tensor([0, 5, 3, 4, 5, 8, 7, 5, 0, 2, 4, 7, 7, 4, 2])\n",
      "tensor([0., 5., 3., 4., 5., 8., 7., 5., 0., 2., 4., 7., 7., 4., 2.],\n",
      "       dtype=torch.float64)\n",
      "loss:  0.0093 acc_train:  100 acc_val:  100\n",
      "loss:  0.0087 acc_train:  100 acc_val:  100\n",
      "loss:  0.0082 acc_train:  100 acc_val:  100\n",
      "loss:  0.0077 acc_train:  100 acc_val:  100\n",
      "loss:  0.0073 acc_train:  100 acc_val:  100\n",
      "tensor([0, 5, 3, 4, 5, 8, 7, 5, 0, 2, 4, 7, 7, 4, 2])\n",
      "tensor([0., 5., 3., 4., 5., 8., 7., 5., 0., 2., 4., 7., 7., 4., 2.],\n",
      "       dtype=torch.float64)\n",
      "loss:  0.0069 acc_train:  100 acc_val:  100\n",
      "loss:  0.0066 acc_train:  100 acc_val:  100\n",
      "loss:  0.0062 acc_train:  100 acc_val:  100\n",
      "loss:  0.0059 acc_train:  100 acc_val:  100\n",
      "loss:  0.0056 acc_train:  100 acc_val:  100\n",
      "tensor([0, 5, 3, 4, 5, 8, 7, 5, 0, 2, 4, 7, 7, 4, 2])\n",
      "tensor([0., 5., 3., 4., 5., 8., 7., 5., 0., 2., 4., 7., 7., 4., 2.],\n",
      "       dtype=torch.float64)\n",
      "loss:  0.0054 acc_train:  100 acc_val:  100\n",
      "loss:  0.0052 acc_train:  100 acc_val:  100\n",
      "loss:  0.0049 acc_train:  100 acc_val:  100\n",
      "loss:  0.0047 acc_train:  100 acc_val:  100\n",
      "loss:  0.0045 acc_train:  100 acc_val:  100\n",
      "tensor([0, 5, 3, 4, 5, 8, 7, 5, 0, 2, 4, 7, 7, 4, 2])\n",
      "tensor([0., 5., 3., 4., 5., 8., 7., 5., 0., 2., 4., 7., 7., 4., 2.],\n",
      "       dtype=torch.float64)\n",
      "loss:  0.0044 acc_train:  100 acc_val:  100\n",
      "loss:  0.0042 acc_train:  100 acc_val:  100\n",
      "loss:  0.004 acc_train:  100 acc_val:  100\n",
      "loss:  0.0039 acc_train:  100 acc_val:  100\n",
      "loss:  0.0037 acc_train:  100 acc_val:  100\n",
      "tensor([0, 5, 3, 4, 5, 8, 7, 5, 0, 2, 4, 7, 7, 4, 2])\n",
      "tensor([0., 5., 3., 4., 5., 8., 7., 5., 0., 2., 4., 7., 7., 4., 2.],\n",
      "       dtype=torch.float64)\n",
      "loss:  0.0036 acc_train:  100 acc_val:  100\n",
      "loss:  0.0035 acc_train:  100 acc_val:  100\n",
      "loss:  0.0034 acc_train:  100 acc_val:  100\n",
      "loss:  0.0033 acc_train:  100 acc_val:  100\n",
      "loss:  0.0032 acc_train:  100 acc_val:  100\n",
      "tensor([0, 5, 3, 4, 5, 8, 7, 5, 0, 2, 4, 7, 7, 4, 2])\n",
      "tensor([0., 5., 3., 4., 5., 8., 7., 5., 0., 2., 4., 7., 7., 4., 2.],\n",
      "       dtype=torch.float64)\n",
      "loss:  0.0031 acc_train:  100 acc_val:  100\n",
      "loss:  0.003 acc_train:  100 acc_val:  100\n",
      "loss:  0.0029 acc_train:  100 acc_val:  100\n",
      "loss:  0.0028 acc_train:  100 acc_val:  100\n",
      "loss:  0.0027 acc_train:  100 acc_val:  100\n",
      "tensor([0, 5, 3, 4, 5, 8, 7, 5, 0, 2, 4, 7, 7, 4, 2])\n",
      "tensor([0., 5., 3., 4., 5., 8., 7., 5., 0., 2., 4., 7., 7., 4., 2.],\n",
      "       dtype=torch.float64)\n",
      "loss:  0.0026 acc_train:  100 acc_val:  100\n",
      "loss:  0.0025 acc_train:  100 acc_val:  100\n",
      "loss:  0.0025 acc_train:  100 acc_val:  100\n",
      "loss:  0.0024 acc_train:  100 acc_val:  100\n",
      "loss:  0.0023 acc_train:  100 acc_val:  100\n",
      "tensor([0, 5, 3, 4, 5, 8, 7, 5, 0, 2, 4, 7, 7, 4, 2])\n",
      "tensor([0., 5., 3., 4., 5., 8., 7., 5., 0., 2., 4., 7., 7., 4., 2.],\n",
      "       dtype=torch.float64)\n",
      "loss:  0.0023 acc_train:  100 acc_val:  100\n",
      "loss:  0.0022 acc_train:  100 acc_val:  100\n",
      "loss:  0.0022 acc_train:  100 acc_val:  100\n",
      "loss:  0.0021 acc_train:  100 acc_val:  100\n",
      "loss:  0.0021 acc_train:  100 acc_val:  100\n",
      "tensor([0, 5, 3, 4, 5, 8, 7, 5, 0, 2, 4, 7, 7, 4, 2])\n",
      "tensor([0., 5., 3., 4., 5., 8., 7., 5., 0., 2., 4., 7., 7., 4., 2.],\n",
      "       dtype=torch.float64)\n",
      "loss:  0.002 acc_train:  100 acc_val:  100\n",
      "loss:  0.002 acc_train:  100 acc_val:  100\n",
      "loss:  0.0019 acc_train:  100 acc_val:  100\n",
      "loss:  0.0019 acc_train:  100 acc_val:  100\n",
      "loss:  0.0018 acc_train:  100 acc_val:  100\n",
      "tensor([0, 5, 3, 4, 5, 8, 7, 5, 0, 2, 4, 7, 7, 4, 2])\n",
      "tensor([0., 5., 3., 4., 5., 8., 7., 5., 0., 2., 4., 7., 7., 4., 2.],\n",
      "       dtype=torch.float64)\n",
      "loss:  0.0018 acc_train:  100 acc_val:  100\n",
      "loss:  0.0017 acc_train:  100 acc_val:  100\n",
      "loss:  0.0017 acc_train:  100 acc_val:  100\n",
      "loss:  0.0017 acc_train:  100 acc_val:  100\n",
      "loss:  0.0016 acc_train:  100 acc_val:  100\n",
      "tensor([0, 5, 3, 4, 5, 8, 7, 5, 0, 2, 4, 7, 7, 4, 2])\n",
      "tensor([0., 5., 3., 4., 5., 8., 7., 5., 0., 2., 4., 7., 7., 4., 2.],\n",
      "       dtype=torch.float64)\n",
      "loss:  0.0016 acc_train:  100 acc_val:  100\n",
      "loss:  0.0016 acc_train:  100 acc_val:  100\n",
      "loss:  0.0015 acc_train:  100 acc_val:  100\n",
      "loss:  0.0015 acc_train:  100 acc_val:  100\n",
      "loss:  0.0015 acc_train:  100 acc_val:  100\n",
      "tensor([0, 5, 3, 4, 5, 8, 7, 5, 0, 2, 4, 7, 7, 4, 2])\n",
      "tensor([0., 5., 3., 4., 5., 8., 7., 5., 0., 2., 4., 7., 7., 4., 2.],\n",
      "       dtype=torch.float64)\n",
      "loss:  0.0014 acc_train:  100 acc_val:  100\n",
      "loss:  0.0014 acc_train:  100 acc_val:  100\n",
      "loss:  0.0014 acc_train:  100 acc_val:  100\n",
      "loss:  0.0013 acc_train:  100 acc_val:  100\n",
      "loss:  0.0013 acc_train:  100 acc_val:  100\n",
      "tensor([0, 5, 3, 4, 5, 8, 7, 5, 0, 2, 4, 7, 7, 4, 2])\n",
      "tensor([0., 5., 3., 4., 5., 8., 7., 5., 0., 2., 4., 7., 7., 4., 2.],\n",
      "       dtype=torch.float64)\n",
      "loss:  0.0013 acc_train:  100 acc_val:  100\n",
      "loss:  0.0013 acc_train:  100 acc_val:  100\n",
      "loss:  0.0012 acc_train:  100 acc_val:  100\n",
      "loss:  0.0012 acc_train:  100 acc_val:  100\n",
      "loss:  0.0012 acc_train:  100 acc_val:  100\n",
      "tensor([0, 5, 3, 4, 5, 8, 7, 5, 0, 2, 4, 7, 7, 4, 2])\n",
      "tensor([0., 5., 3., 4., 5., 8., 7., 5., 0., 2., 4., 7., 7., 4., 2.],\n",
      "       dtype=torch.float64)\n",
      "loss:  0.0012 acc_train:  100 acc_val:  100\n",
      "loss:  0.0012 acc_train:  100 acc_val:  100\n",
      "loss:  0.0011 acc_train:  100 acc_val:  100\n",
      "loss:  0.0011 acc_train:  100 acc_val:  100\n",
      "loss:  0.0011 acc_train:  100 acc_val:  100\n"
     ]
    },
    {
     "data": {
      "image/png": "[encoded data removed]",
      "text/plain": [
       "<Figure size 432x288 with 1 Axes>"
      ]
     },
     "metadata": {
      "needs_background": "light",
      "tags": []
     },
     "output_type": "display_data"
    }
   ],
   "source": [
    "train_params = {\n",
    "    'train_loader': train_loader,\n",
    "    'val_loader': train_loader,\n",
    "    'optim': torch.optim.Adam(testmodel.parameters(), lr=1e-2),\n",
    "    'loss_fn': torch.nn.CrossEntropyLoss(),\n",
    "    'num_epochs': 1000\n",
    "}\n",
    "train(testmodel, **train_params)"
   ]
  },
  {
   "cell_type": "code",
   "execution_count": 0,
   "metadata": {
    "colab": {},
    "colab_type": "code",
    "id": "57ym3Kx-Drnz"
   },
   "outputs": [],
   "source": []
  },
  {
   "cell_type": "code",
   "execution_count": 0,
   "metadata": {
    "colab": {},
    "colab_type": "code",
    "id": "1zPqpYyNDrn3"
   },
   "outputs": [],
   "source": [
    "## Testing Krumhansl"
   ]
  },
  {
   "cell_type": "code",
   "execution_count": 0,
   "metadata": {
    "colab": {},
    "colab_type": "code",
    "id": "fIP8bzP9Drn6"
   },
   "outputs": [],
   "source": [
    "folder = \"datasets/lmd_full/0/\"\n",
    "#files[:5]\n",
    "\n",
    "files = [file for file in os.listdir(folder) if '.mid' in file]\n",
    "pm = pretty_midi.PrettyMIDI(folder + files[2])\n",
    "pch = pm.get_pitch_class_histogram()\n",
    "\n",
    "np.argmax(ks_key(pch)[1])\n",
    "\n",
    "pm.key_signature_changes\n",
    "\n",
    "folder = \"datasets/Piano-midi.de/train/\" #0.75 ohne C mit rel\n",
    "folder = \"datasets/kpcorpus/\" \n",
    "folder = \"datasets/lmd_full/2/\"\n",
    "t = time.time()\n",
    "\n",
    "# find keys\n",
    "files = [file for file in os.listdir(folder) if '.mid' in file]\n",
    "    \n",
    "def key(key_number):\n",
    "    return pretty_midi.key_number_to_key_name(key_number)\n",
    "\n",
    "def keynr(key):\n",
    "    return pretty_midi.key_name_to_key_number(key)\n",
    "       \n",
    "def isFifth(realkey,predkey):\n",
    "    return (realkey - predkey)%12 == 7 or (predkey - realkey)%12 == 7\n",
    "        \n",
    "def isRelative(realkey,predkey):\n",
    "    if realkey > 11 and (realkey - 9) % 12 == predkey:\n",
    "        return True\n",
    "    elif predkey > 11 and (predkey - 9) % 12 == realkey:\n",
    "        return True\n",
    "    else:\n",
    "        return False\n",
    "        \n",
    "def isParallel(realkey,predkey):\n",
    "    return realkey%12 == predkey%12\n",
    "\n",
    "correct ,fifth,relative,parallel,total = 0,0,0,0,0\n",
    "keys=[]\n",
    "print(\"Scale by first keychange event, \\t Scale by KrumhanslSchmuckler, \\t, Filename\")\n",
    "for i, file in enumerate(files[:100]):\n",
    "    try:\n",
    "        pm = pretty_midi.PrettyMIDI(folder + file)\n",
    "    except:\n",
    "        continue\n",
    "\n",
    "    pm = pretty_midi.PrettyMIDI(folder + file)\n",
    "    if pm.key_signature_changes != []:\n",
    "        try:\n",
    "            algkey = ks_key(pm.get_pitch_class_histogram(), 'aarden')\n",
    "            pmkeys = [x.key_number for x in pm.key_signature_changes]\n",
    "            pmkey = pmkeys[0]\n",
    "            if pmkey == 0:\n",
    "                continue\n",
    "            keys.append([pmkey,algkey])\n",
    "            #print(key(pmkey), '\\t', key(int(algkey)), '\\t', file, '\\t', pmkeys)\n",
    "        except:\n",
    "            pass\n",
    "\n",
    "correct ,fifth,relative,parallel,total = 0,0,0,0,0\n",
    "for key in keys:\n",
    "    realkey = key[0]\n",
    "    predkey = key[1]\n",
    "    total += 1\n",
    "    if realkey == predkey:\n",
    "        correct += 1\n",
    "    elif isFifth(realkey,predkey):\n",
    "        fifth += 1\n",
    "    elif isRelative(realkey,predkey):\n",
    "        relative += 1\n",
    "    elif isParallel(realkey,predkey):\n",
    "        parallel += 1\n",
    "print(\"time\", np.round(time.time()-t,2), \"s\")\n",
    "print(correct, relative, fifth, parallel, total)\n",
    "print((correct+relative)/total, correct/total, relative/total, fifth/total, parallel/total, (total-correct-fifth-relative-parallel)/total)\n"
   ]
  },
  {
   "cell_type": "code",
   "execution_count": 0,
   "metadata": {
    "colab": {},
    "colab_type": "code",
    "id": "gfDCQVeKDrn9"
   },
   "outputs": [],
   "source": []
  },
  {
   "cell_type": "code",
   "execution_count": 0,
   "metadata": {
    "colab": {},
    "colab_type": "code",
    "id": "6frqMELbDroA"
   },
   "outputs": [],
   "source": []
  },
  {
   "cell_type": "code",
   "execution_count": 0,
   "metadata": {
    "colab": {},
    "colab_type": "code",
    "id": "7Amv8q3uDroC"
   },
   "outputs": [],
   "source": []
  },
  {
   "cell_type": "code",
   "execution_count": 0,
   "metadata": {
    "colab": {},
    "colab_type": "code",
    "id": "EYwLvorgDroH"
   },
   "outputs": [],
   "source": []
  },
  {
   "cell_type": "code",
   "execution_count": 0,
   "metadata": {
    "colab": {},
    "colab_type": "code",
    "id": "m4CGABNGDroP"
   },
   "outputs": [],
   "source": []
  }
 ],
 "metadata": {
  "accelerator": "GPU",
  "colab": {
   "collapsed_sections": [],
   "name": "aJamBuddyDACTFBass.ipynb",
   "provenance": [],
   "toc_visible": true,
   "version": "0.3.2"
  },
  "kernelspec": {
   "display_name": "Python 3",
   "language": "python",
   "name": "python3"
  },
  "language_info": {
   "codemirror_mode": {
    "name": "ipython",
    "version": 3
   },
   "file_extension": ".py",
   "mimetype": "text/x-python",
   "name": "python",
   "nbconvert_exporter": "python",
   "pygments_lexer": "ipython3",
   "version": "3.6.7"
  }
 },
 "nbformat": 4,
 "nbformat_minor": 1
}
