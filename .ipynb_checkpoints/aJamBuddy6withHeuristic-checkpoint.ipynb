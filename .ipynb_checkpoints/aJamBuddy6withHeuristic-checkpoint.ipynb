{
 "cells": [
  {
   "cell_type": "code",
   "execution_count": 21,
   "metadata": {
    "colab": {},
    "colab_type": "code",
    "id": "VSrdFgxyDrmG",
    "scrolled": false
   },
   "outputs": [
    {
     "name": "stdout",
     "output_type": "stream",
     "text": [
      "The autoreload extension is already loaded. To reload it, use:\n",
      "  %reload_ext autoreload\n"
     ]
    }
   ],
   "source": [
    "%matplotlib inline\n",
    "import os\n",
    "import time\n",
    "import numpy as np\n",
    "import matplotlib.pyplot as plt\n",
    "import IPython.display\n",
    "import collections\n",
    "from collections import Counter\n",
    "import seaborn as sns\n",
    "#import pyfluidsynth\n",
    "import random\n",
    "\n",
    "from pathlib import Path\n",
    "import pretty_midi\n",
    "import librosa.display\n",
    "import glob\n",
    "import datetime\n",
    "\n",
    "from music21 import *\n",
    "\n",
    "import tensorflow as tf\n",
    "tf.enable_eager_execution()\n",
    "\n",
    "%load_ext autoreload\n",
    "%autoreload 2\n",
    "\n",
    "folder = 'train/'\n"
   ]
  },
  {
   "cell_type": "code",
   "execution_count": 22,
   "metadata": {
    "colab": {
     "base_uri": "https://localhost:8080/",
     "height": 122
    },
    "colab_type": "code",
    "id": "YbO_nrQpDrmO",
    "outputId": "ba1ca338-a594-49d2-986d-5914746ffb96"
   },
   "outputs": [],
   "source": [
    "# some prep steps\n",
    "# for google colab\n",
    "try:\n",
    "    import google.colab\n",
    "    IN_COLAB = True\n",
    "except:\n",
    "    IN_COLAB = False\n",
    "    \n",
    "if IN_COLAB:\n",
    "    from google.colab import drive\n",
    "    drive.mount('/content/drive/')\n",
    "    data_folder = \"/content/drive/My Drive/Colab Notebooks/data/\"\n",
    "    os.chdir(data_folder)\n",
    "else:\n",
    "    data_folder = \"\"\n"
   ]
  },
  {
   "cell_type": "markdown",
   "metadata": {
    "colab_type": "text",
    "id": "95G80nAcDrmS"
   },
   "source": [
    "# A. Preprocess Midi file\n",
    "#### Choose a harmony and a melody track from a MIDI file"
   ]
  },
  {
   "cell_type": "code",
   "execution_count": 23,
   "metadata": {
    "colab": {},
    "colab_type": "code",
    "id": "tdAtAPtXNX61"
   },
   "outputs": [],
   "source": [
    "def plot_piano_roll(pm, start_pitch, end_pitch, fs=100):\n",
    "    librosa.display.specshow(pm.get_piano_roll(fs)[start_pitch:end_pitch],\n",
    "                             hop_length=1, sr=fs, x_axis='time', y_axis='cqt_note',\n",
    "                             fmin=pretty_midi.note_number_to_hz(start_pitch))"
   ]
  },
  {
   "cell_type": "code",
   "execution_count": 24,
   "metadata": {
    "colab": {},
    "colab_type": "code",
    "id": "iSk5F55lDrmb"
   },
   "outputs": [],
   "source": [
    "## PARAMS\n",
    "# highest note is melody\n",
    "LOW = 48 # C2=48, C3=60, C4=72, C5=84, C6=96\n",
    "HIGH = 84 # range(48,84) = 36 notes \n",
    "\n",
    "# input sizes\n",
    "MELODY = 37 \n",
    "TIMES = 48\n",
    "CHORDS = 12\n"
   ]
  },
  {
   "cell_type": "code",
   "execution_count": 25,
   "metadata": {
    "colab": {},
    "colab_type": "code",
    "id": "eAk1YucbNX67"
   },
   "outputs": [],
   "source": [
    "# krumhansl schmuckler\n",
    "# adapted from https://gist.github.com/bmcfee/1f66825cef2eb34c839b42dddbad49fd\n",
    "import scipy.linalg\n",
    "import scipy.stats\n",
    "\n",
    "def ks_key(X, weights='kessler'):\n",
    "    '''Estimate the key from a pitch class distribution\n",
    "    \n",
    "    Parameters\n",
    "    ----------\n",
    "    X : np.ndarray, shape=(12,)\n",
    "        Pitch-class energy distribution.  Need not be normalized\n",
    "        \n",
    "    Returns\n",
    "    -------\n",
    "    major : np.ndarray, shape=(12,)\n",
    "    minor : np.ndarray, shape=(12,)\n",
    "    \n",
    "        For each key (C:maj, ..., B:maj) and (C:min, ..., B:min),\n",
    "        the correlation score for `X` against that key.\n",
    "    '''\n",
    "    X = scipy.stats.zscore(X)\n",
    "    \n",
    "    # Coefficients from Kumhansl and Schmuckler\n",
    "    # as reported here: http://rnhart.net/articles/key-finding/\n",
    "    \n",
    "    # weights as https://musicinformationretrieval.wordpress.com/2017/02/24/state-of-the-art-2/\n",
    "    if weights == 'kessler':\n",
    "        major = np.asarray([6.35, 2.23, 3.48, 2.33, 4.38, 4.09, 2.52, 5.19, 2.39, 3.66, 2.29, 2.88])\n",
    "        minor = np.asarray([6.33, 2.68, 3.52, 5.38, 2.60, 3.53, 2.54, 4.75, 3.98, 2.69, 3.34, 3.17])\n",
    "    elif weights == 'schmuckler':\n",
    "        major = np.asarray([6.35, 2.33, 3.48, 2.33, 4.38, 4.09, 2.52, 5.19, 2.39, 3.66, 2.29, 2.88])\n",
    "        minor = np.asarray([6.33, 2.68, 3.52, 5.38, 2.60, 3.53, 2.54, 4.75, 3.98, 2.69, 3.34, 3.17])\n",
    "    elif weights == 'aarden':\n",
    "        major = np.asarray([17.7661, 0.145624, 14.9265, 0.160186, 19.8049, 11.3587, 0.281248, 22.062, 0.145624, 8.15494, 0.232998, 4.95122])\n",
    "        minor = np.asarray([18.2648, 0.737619, 14.0499, 16.8599, 0.702494, 14.4362, 0.702494, 18.6161, 4.56621, 1.93186, 7.37619, 1.75623])\n",
    "    elif weights == 'sapp':\n",
    "        major = np.asarray([2, 0, 1, 0, 1, 1, 0, 2, 0, 1, 0, 1])\n",
    "        minor = np.asarray([2, 0, 1, 1, 0, 1, 0, 2, 1, 0, 0.5, 0.5])\n",
    "    elif weights == 'bellman':\n",
    "        major = np.asarray([16.8, 0.86, 12.95, 1.41, 13.49, 11.93, 1.25, 20.28, 1.8, 8.04, 0.62, 10.57])\n",
    "        minor = np.asarray([18.16, 0.69, 12.99, 13.34, 1.07, 11.15, 1.38, 21.07, 7.49, 1.53, 0.92, 10.21])\n",
    "    elif weights == 'temperley':\n",
    "        major = np.asarray([0.748, 0.06, 0.488, 0.082, 0.67, 0.46, 0.096, 0.715, 0.104, 0.366, 0.057, 0.4])\n",
    "        minor = np.asarray([0.712, 0.84, 0.474, 0.618, 0.049, 0.46, 0.105, 0.747, 0.404, 0.067, 0.133, 0.33])\n",
    "        \n",
    "        \n",
    "    major = scipy.stats.zscore(major)\n",
    "    minor = scipy.stats.zscore(minor)\n",
    "    \n",
    "    # Generate all rotations of major\n",
    "    major = scipy.linalg.circulant(major)\n",
    "    minor = scipy.linalg.circulant(minor)\n",
    "    \n",
    "    major = major.T.dot(X)\n",
    "    minor = minor.T.dot(X)\n",
    "    \n",
    "    major_max = np.argmax(major)\n",
    "    minor_max = np.argmax(minor)\n",
    "    return major_max if np.max(major) >= np.max(minor) else minor_max+12"
   ]
  },
  {
   "cell_type": "code",
   "execution_count": 26,
   "metadata": {
    "colab": {},
    "colab_type": "code",
    "id": "eYnJdXBYDrmf"
   },
   "outputs": [],
   "source": [
    "# MIDI processing\n",
    "def getTracks(file):\n",
    "    pm_harmony = pretty_midi.PrettyMIDI(folder+'chords/'+file).instruments[0].notes\n",
    "    pm_melody = pretty_midi.PrettyMIDI(folder+'melody/'+file).instruments[0].notes\n",
    "    return {'melody': pm_melody, 'harmony': pm_harmony}\n",
    "\n",
    "def getMelodyAndHarmonyBass(file):\n",
    "    #already midi file with one piano and one melody\n",
    "    pm = pretty_midi.PrettyMIDI(file)\n",
    "    pm.remove_invalid_notes()\n",
    "    for i, elt in enumerate(pm.instruments):\n",
    "        if 'piano' in pm.instruments[i].name.lower():\n",
    "            piano = pm.instruments[i].notes\n",
    "        elif 'bass' in pm.instruments[i].name.lower():\n",
    "            bass = pm.instruments[i].notes\n",
    "    \n",
    "    result = {'melody': bass, 'harmony': piano}\n",
    "    \n",
    "    \n",
    "    return result\n",
    "\n",
    "\n",
    "def getMelodyAndHarmony(file):\n",
    "    def padAndAdd(a,b):\n",
    "        return sorted(a+b,key= lambda x:x.start)\n",
    "    \n",
    "    pm = pretty_midi.PrettyMIDI(file)\n",
    "    pm.remove_invalid_notes()\n",
    "    print(\"\\nEasy Processing: \"+file)\n",
    "    \n",
    "    if len(pm.instruments) == 1:\n",
    "        print(\"Both: Using only track for both harmony and melody\")\n",
    "        pianoroll = pm.instruments[0].notes\n",
    "        return {'melody': pianoroll, 'harmony': pianoroll}\n",
    "    \n",
    "    else:\n",
    "        maxlen = 0\n",
    "        pianos = []\n",
    "        guitars = []\n",
    "        melodies = []\n",
    "        for i, elt in enumerate(pm.instruments):\n",
    "            #if pm.instruments[i].is_drum:\n",
    "            #    continue\n",
    "            pianoroll = pm.instruments[i].get_piano_roll().T\n",
    "            numnotes = pianoroll.nonzero()[0].shape[0]\n",
    "            if numnotes > maxlen:\n",
    "                mostnotes = i\n",
    "                maxlen = numnotes\n",
    "            if 'piano' in pm.instruments[i].name.lower():             #if pm.instruments[i].program in range(8): # MIDI 0..7 are pianos\n",
    "                pianos.append((pm.instruments[i].notes,numnotes))\n",
    "            if 'guitar' in pm.instruments[i].name.lower():             #if pm.instruments[i].program in range(24,32):\n",
    "                guitars.append((pm.instruments[i].notes,numnotes))\n",
    "            if 'melody' in pm.instruments[i].name.lower():\n",
    "                # melodies.append((pianoroll,numnotes)) do i really want to padandadd two melodies always??\n",
    "                melodies.append(pm.instruments[i].notes)\n",
    "\n",
    "        if pianos != []:\n",
    "            print(\"Harmony: Using piano with most notes as harmony of\", len(pianos))\n",
    "            pianowithmostnotes = max(pianos, key=lambda x: x[1])\n",
    "            harmonytrack = pianowithmostnotes[0]\n",
    "        elif guitars != []:\n",
    "            print(\"Harmony: Using guitar with most notes as harmony of\", len(guitars))\n",
    "            guitarwithmostnotes = max(guitars, key=lambda x: x[1])\n",
    "            harmonytrack = guitarwithmostnotes[0]\n",
    "        else:\n",
    "            print(\"Error: no piano or guitar track found\")\n",
    "            harmonytrack = pm.instruments[0].notes\n",
    "            return\n",
    "\n",
    "        if len(melodies) == 1:\n",
    "            print(\"Melody: using only melody track as melody\")\n",
    "            melodytrack = melodies[0]\n",
    "        elif len(melodies) == 2:\n",
    "            print(\"Melody: padding and adding two melodies to one\")\n",
    "            melodytrack = padAndAdd(melodies[0], melodies[1])\n",
    "        elif len(melodies) > 2:\n",
    "            print(\"Melody: more than 2 melody tracks. padding and adding first two of # \", len(melodies),\"melodies.\")\n",
    "            melodytrack = padAndAdd(melodies[0], melodies[1])\n",
    "        else:\n",
    "            print(\"Error: no melody track found.\")\n",
    "            melodytrack = pm.instruments[0].notes\n",
    "            return\n",
    "\n",
    "        return {'melody': melodytrack, 'harmony': harmonytrack}\n",
    "\n",
    "def oneHot(idx, arraysize):\n",
    "    if idx >= arraysize:\n",
    "        print(\"error idx > arraysize\")\n",
    "        return\n",
    "    ar = np.zeros(arraysize)\n",
    "    ar[idx] = 1\n",
    "    return ar\n",
    "\n",
    "def processMidi(file):\n",
    "    pm = pretty_midi.PrettyMIDI(folder+'chords/'+file)\n",
    "    #tracks = getMelodyAndHarmony(file)\n",
    "    #tracks = getMelodyAndHarmonyBass(file) //changing, this doesnt work anymore -> DACBass\n",
    "    tracks = getTracks(file)\n",
    "\n",
    "    pmnotes = tracks['melody']\n",
    "    notes, times = [], []\n",
    "    currenttime = 0\n",
    "    for i, note in enumerate(pmnotes):\n",
    "        if note.start > currenttime:\n",
    "            notes.append(MELODY-1)\n",
    "            duration = pm.time_to_tick(note.start - currenttime)\n",
    "            times.append(duration)\n",
    "        if note.pitch in range(LOW,HIGH):\n",
    "            notes.append(note.pitch - LOW)\n",
    "        else:\n",
    "            notes.append(note.pitch % 12)\n",
    "        if i < len(pmnotes)-1 and note.end > pmnotes[i+1].start: # overlap with next note\n",
    "            times.append(pm.time_to_tick(pmnotes[i+1].start - note.start))\n",
    "            currenttime = pmnotes[i+1].start\n",
    "        else:\n",
    "            times.append(pm.time_to_tick(note.end - note.start))\n",
    "            currenttime = note.end\n",
    "    times = np.array(np.round(np.array(times)/pm.resolution*12),dtype=np.int32)\n",
    "    \n",
    "#     getChords\n",
    "    pmnotes = tracks['harmony']\n",
    "    notesDict = {}\n",
    "    for i, note in enumerate(pmnotes):\n",
    "        startbeat = int(pm.time_to_tick(note.start)/pm.resolution)\n",
    "        endbeat = int(pm.time_to_tick(note.end)/pm.resolution)\n",
    "        if startbeat == endbeat:\n",
    "            endbeat += 1\n",
    "        for j in range(startbeat, endbeat): #evry beat\n",
    "            notesDict[j] = notesDict.get(j,np.zeros(12)) + oneHot(note.pitch % 12,12)\n",
    "    \n",
    "\n",
    "    # append for every beat (timestep) a vector. either np.zeros or chordinfovector\n",
    "    chords = []\n",
    "    for i in range(max(notesDict)): \n",
    "        chords.append(notesDict.get(i,np.zeros(12)))\n",
    "    chordsByBeat = np.array(chords)\n",
    "    \n",
    "    \n",
    "    # connect notes and chords\n",
    "    currbeat = 0\n",
    "    newchords = []\n",
    "    for time in times:\n",
    "        beat = int(currbeat/12)\n",
    "        newchord = np.zeros(12)\n",
    "        \n",
    "        for j in range(int(np.floor(time/12))+1): \n",
    "            if j + beat < chordsByBeat.shape[0]:\n",
    "                newchord += chordsByBeat[j+beat]\n",
    "        newchords.append(newchord)\n",
    "        currbeat += time\n",
    "    chords = np.array(newchords)\n",
    "    \n",
    "    # clip at higher than 1\n",
    "    chords[np.where(chords > 1)] = np.ones(chords.shape)[np.where(chords > 1)]\n",
    "    \n",
    "    \n",
    "    # cleanup\n",
    "    times[np.where(times > 48)[0]] = 48\n",
    "    notes = np.array(notes)[np.where(times > 0)[0]]\n",
    "    chords = chords[np.where(times > 0)[0]]\n",
    "    times = times[np.where(times > 0)[0]]\n",
    "    times = times - 1 # reshift to 0..47\n",
    "    \n",
    "    \n",
    "    #new Chord and key analysis, first only key analysis\n",
    "    algkey = ks_key(pm.get_pitch_class_histogram(), 'aarden')\n",
    "    key = oneHot(algkey,24)\n",
    "    \n",
    "    \n",
    "    \n",
    "    \n",
    "    return notes, times, chords, chordsByBeat, key"
   ]
  },
  {
   "cell_type": "code",
   "execution_count": 27,
   "metadata": {
    "colab": {},
    "colab_type": "code",
    "id": "0kvKT9W1Drmi"
   },
   "outputs": [],
   "source": [
    "# Input representation\n",
    "def getCircleOfThirds(note):\n",
    "    \"\"\"input: note, scalar in [0,C)\n",
    "    output: array, size (11,) including 3 bits for octave, 1 for rest\n",
    "    \"\"\"\n",
    "    circleMajor = lambda x: x%4\n",
    "    circleMinor = lambda x: x%3\n",
    "    representation = np.zeros(11)\n",
    "    if note < MELODY-1:\n",
    "        absnote = note % 12\n",
    "        octave = int(note/12)\n",
    "        representation[7+octave] = 1\n",
    "        representation[circleMajor(absnote)] = 1\n",
    "        representation[4+circleMinor(absnote)] = 1\n",
    "    else:\n",
    "        representation[-1] = 1\n",
    "    return representation\n",
    "\n",
    "def getDuration(duration):\n",
    "    \"\"\"input size (1,) in [0,48)\n",
    "       output size (6,)\n",
    "    \"\"\"\n",
    "    return np.unpackbits(np.uint8(duration))[2:]\n",
    "\n",
    "def getChord(chord):\n",
    "    \"\"\"input size (12,)\n",
    "    outputs current and next chord shape (7,)\n",
    "    \"\"\"\n",
    "    repre = np.zeros(7)\n",
    "    for i, elt in enumerate(chord):\n",
    "        x = elt * getCircleOfThirds(i)[:7]\n",
    "        repre += x\n",
    "    return repre\n",
    "\n",
    "def getFeatureVectors(processedMidi, modulation=False):\n",
    "    \"\"\"input size [7(pitch)+2(octaves)+1(Rest)]+6(duration)+7(chords)+7(nextchords)=30=Fsize #TODO: maybe change chords\n",
    "    Creates Feature Vector from notes lists.\n",
    "    Input: notes, times, chords from processMIDI\n",
    "    Output: features array, size: (N, Fsize)  Fsize varies\n",
    "    \"\"\"\n",
    "    notes, times, chords, chordsByBeat, key = processedMidi\n",
    "    features = []\n",
    "    for i, note in enumerate(notes[:-1]):\n",
    "        feature = np.empty(0)\n",
    "        if encodingDict['melody']:\n",
    "            if notes[i] < MELODY: # pitch or pause bit\n",
    "                feature = np.concatenate((feature, oneHot(notes[i],MELODY)))\n",
    "            else:\n",
    "                print(\"melody over 37\")\n",
    "                feature = np.concatenate((feature, np.zeros(MELODY)))\n",
    "            \n",
    "        if encodingDict['melodyModulo']: \n",
    "            if notes[i] < MELODY-1: # only pitch bit or zeros if pause\n",
    "                feature = np.concatenate((feature, oneHot(notes[i]%12,12)))\n",
    "            else:\n",
    "                feature = np.concatenate((feature, np.zeros(12)))\n",
    "        if encodingDict['melodyEncoded']: # pitch+octave+rest\n",
    "            feature = np.concatenate((feature,getCircleOfThirds(note)))\n",
    "        if encodingDict['duration']:\n",
    "            feature = np.concatenate((feature,oneHot(int(times[i]),48)))  \n",
    "        if encodingDict['durationEncoded']:\n",
    "            feature = np.concatenate((feature,getDuration(times[i])))\n",
    "        if encodingDict['chordsNormally']:\n",
    "            feature = np.concatenate((feature,chords[i]))\n",
    "            feature = np.concatenate((feature,chords[i+1]))\n",
    "        if encodingDict['chordsEncoded']:\n",
    "            feature = np.concatenate((feature,getChord(chords[i])))  # chord ERROR: MAKE THIS BETTER\n",
    "            feature = np.concatenate((feature,getChord(chords[i+1])))   # chord ERROR: MAKE THIS BETTER\n",
    "        if encodingDict['key']:\n",
    "            feature = np.concatenate((feature,key))\n",
    "        features.append(feature)\n",
    "    features = np.array(features)\n",
    "    return features.astype('float32')\n",
    "\n",
    "def getInputSequences(processedMidi, padding=False, seq_len=16):\n",
    "    \"\"\"Create Net Input.\n",
    "    Input: features from getFeatureVectors or getEncodedFeatureVectors\n",
    "    Output: \n",
    "        - Sequences, size: (157, seq_len)\n",
    "        - Labels, one-hot, size: (MELODY,)\n",
    "    \"\"\"\n",
    "    features = getFeatureVectors(processedMidi)\n",
    "    notes, times, _, _, _ = processedMidi\n",
    "    sequences = []\n",
    "    labels = []\n",
    "    i = 0\n",
    "    if padding == True:\n",
    "        padded_notes = np.concatenate((np.zeros((seq_len,features.shape[1])),features[:seq_len]))\n",
    "        for j in range(seq_len):\n",
    "            sequences.append(padded_notes[j:j+seq_len])\n",
    "            label_pitch = notes[j]\n",
    "            label_duration = times[j]\n",
    "            labels.append((label_pitch, label_duration))\n",
    "    while i+seq_len < features.shape[0]:\n",
    "        sequences.append(features[i:i+seq_len])\n",
    "        label_pitch = notes[i+seq_len]\n",
    "        label_duration = times[i+seq_len]\n",
    "        labels.append((label_pitch, label_duration))\n",
    "        i += 1     # or += seq_len\n",
    "        \n",
    "    sequences = np.array(sequences)\n",
    "    labels = np.array(labels)\n",
    "    return sequences, labels\n",
    "\n",
    "def modulate(processedMidi, modulate=0):\n",
    "    \"\"\"modulates downwards\"\"\"\n",
    "    notes, times, chords, chordsByBeat, key = processedMidi\n",
    "    i = modulate\n",
    "    modnotes = notes - i\n",
    "    modnotes[np.where(modnotes == 36 - i)[0]] = 36\n",
    "    modnotes[np.where(modnotes < 0)[0]] = 36\n",
    "\n",
    "    modchords = np.append(chords[:,i:],chords[:,:i],axis=1)\n",
    "\n",
    "    if chordsByBeat is not None:\n",
    "        modcbb = np.append(chordsByBeat[:,i:],chordsByBeat[:,:i],axis=1)\n",
    "    else:\n",
    "        modcbb = None\n",
    "\n",
    "    processedMidi = modnotes, times, modchords, modcbb, key\n",
    "    return processedMidi"
   ]
  },
  {
   "cell_type": "code",
   "execution_count": 28,
   "metadata": {
    "colab": {},
    "colab_type": "code",
    "id": "mVE0og8fDrmk"
   },
   "outputs": [],
   "source": [
    "# Choose encoding and load files\n",
    "encodingDict = {\n",
    "    'melody': True,\n",
    "    'melodyModulo': True,\n",
    "    'melodyEncoded': False,\n",
    "    'duration': False,\n",
    "    'durationEncoded': False,\n",
    "    'chordsNormally': True,\n",
    "    'chordsEncoded': False,\n",
    "    'key': False\n",
    "}"
   ]
  },
  {
   "cell_type": "markdown",
   "metadata": {
    "colab_type": "text",
    "id": "0jBnOuprDrmn"
   },
   "source": [
    "# B. Load Data"
   ]
  },
  {
   "cell_type": "code",
   "execution_count": 29,
   "metadata": {
    "colab": {
     "base_uri": "https://localhost:8080/",
     "height": 187
    },
    "colab_type": "code",
    "id": "0SedqNjRDrmo",
    "outputId": "95b6a8f4-84ec-44d8-ad19-99eb596a65ec",
    "scrolled": false
   },
   "outputs": [
    {
     "data": {
      "text/plain": [
       "['014.mid', '028.mid', '029.mid', '015.mid']"
      ]
     },
     "execution_count": 29,
     "metadata": {},
     "output_type": "execute_result"
    }
   ],
   "source": [
    "# gets all .mid filenames from folder train/ in one line\n",
    "folder = 'datasets/trainData/'\n",
    "files = [file for file in os.listdir(folder+'chords')]\n",
    "files[:4]"
   ]
  },
  {
   "cell_type": "code",
   "execution_count": 30,
   "metadata": {},
   "outputs": [
    {
     "data": {
      "text/plain": [
       "(60, 83)"
      ]
     },
     "execution_count": 30,
     "metadata": {},
     "output_type": "execute_result"
    }
   ],
   "source": [
    "# min and max note\n",
    "min([note.pitch for file in files for note in pretty_midi.PrettyMIDI(folder+'melody/'+file).instruments[0].notes]),\\\n",
    "max([note.pitch for file in files for note in pretty_midi.PrettyMIDI(folder+'melody/'+file).instruments[0].notes]),\\\n"
   ]
  },
  {
   "cell_type": "code",
   "execution_count": 31,
   "metadata": {},
   "outputs": [],
   "source": [
    "# proc = processMidi(files[0])\n",
    "# a,b = getInputSequences(proc, padding=False, seq_len=8)\n",
    "# a[0]"
   ]
  },
  {
   "cell_type": "code",
   "execution_count": 32,
   "metadata": {
    "colab": {
     "base_uri": "https://localhost:8080/",
     "height": 1000
    },
    "colab_type": "code",
    "id": "piJAllN6Drmr",
    "outputId": "e820146b-6bc5-4b3c-8a37-2ae149e86e23",
    "scrolled": true
   },
   "outputs": [
    {
     "data": {
      "text/plain": [
       "((1358, 8, 73), (1358, 2))"
      ]
     },
     "execution_count": 32,
     "metadata": {},
     "output_type": "execute_result"
    }
   ],
   "source": [
    "modulation = False\n",
    "\n",
    "for i, file in enumerate(files):\n",
    "#     print(i, file)\n",
    "    processedMidi = processMidi(file)\n",
    "    if modulation == True:\n",
    "        for mod_i in range(12): # modulate\n",
    "            processedMidi = modulate(processedMidi, modulate = mod_i)\n",
    "            sequences, labels = getInputSequences(processedMidi, padding=False, seq_len=8)\n",
    "            if labels.shape[0]>0:\n",
    "                X = sequences if i==0 else np.concatenate((X, sequences))\n",
    "                y = labels if i==0 else np.concatenate((y, labels))\n",
    "    else:\n",
    "        sequences, labels = getInputSequences(processedMidi, padding=False, seq_len=8)\n",
    "        if labels.shape[0] > 0:\n",
    "            X = sequences if i==0 else np.concatenate((X, sequences))\n",
    "            y = labels if i==0 else np.concatenate((y, labels))\n",
    "\n",
    "X.shape, y.shape"
   ]
  },
  {
   "cell_type": "code",
   "execution_count": 33,
   "metadata": {
    "colab": {},
    "colab_type": "code",
    "id": "C9duwFR6NX7f"
   },
   "outputs": [],
   "source": [
    "def writeMidiSample(notes, times, file, originalfile, tempo=120, resolution=12):\n",
    "    pm = pretty_midi.PrettyMIDI(resolution=resolution, initial_tempo=tempo)\n",
    "    pminst = pretty_midi.Instrument(program=0)\n",
    "    currtime = 0\n",
    "    for i, note in enumerate(notes):\n",
    "        if note != MELODY-1:\n",
    "            pitch = note+LOW\n",
    "            start = pm.tick_to_time(int(currtime))\n",
    "            end = pm.tick_to_time(int(currtime+times[i]))\n",
    "            if end > start:\n",
    "                pmnote = pretty_midi.Note(velocity=100, pitch = pitch, start=start, end=end)\n",
    "                pminst.notes.append(pmnote)\n",
    "        currtime += times[i]+1\n",
    "    pm.instruments.append(pminst)\n",
    "\n",
    "    pm.write(file)\n",
    "    return pm"
   ]
  },
  {
   "cell_type": "code",
   "execution_count": 34,
   "metadata": {
    "colab": {
     "base_uri": "https://localhost:8080/",
     "height": 372
    },
    "colab_type": "code",
    "id": "3mOyNUd7NX7i",
    "outputId": "44dcf729-959a-4654-fb76-c0d8be06eec2"
   },
   "outputs": [
    {
     "name": "stdout",
     "output_type": "stream",
     "text": [
      "[28, 28, 28, 28, 28, 36, 33, 36, 33]\n",
      "[4, 4, 4, 4, 4, 14, 9, 13, 11]\n"
     ]
    },
    {
     "data": {
      "text/html": [
       "\n",
       "                <audio  controls=\"controls\" >\n",
       "                    <source src=\"data:audio/wav;base64,UklGRhyKBQBXQVZFZm10IBAAAAABAAEA4KsAAMBXAQACABAAZGF0YfiJBQAAAAoM+ReyIxovFjqPRG1OmFf9X4hnKG7Oc254/Xtzfsl//38RfwR93HmfdVhwEmrbYsVa4VFDSAI+NDPyJ1YceRB4BG34c+yl4B/V+clPvze1yasaoz6bRpRCjkGJTIVugq2ADICOgDCC74TGiKuNk5NwmjSizaomtCy+xsje01nfHusT9xsDHA/7Gp0m5zHAPA9HvVCzWd9hLGmKb+x0RXmKfLV+wX+rf3R+HnyveC50pm4jaLRgalhYT5FFLTtEMOwkQhleDVwBWPVr6bHdRtJCx7+81bKaqSOhg5nLkguNUIikhBCCmYBDgA+B+4IChh6KRI9rlYOcfKRFrcm288Csy9vWaOI47i/6MwYqEvcdgCmrNF8/gkn/UsBbsGO+attw93UIegR95X6mf0V/xH0me3F3rXLlbCZmgF4EVsRM10JTOE4t4yEsFkIKQv5G8mjmxdp2z5bEPLqBsHqnO5/Zl2KR5otyhw+ExYGZgI6ApIHYgyaHhovukFGXop7QpsevdbnCw5jO3dl55VHxSv1ICTIV7CBbLGU38UHoSzNVvF1xZUBsGXLvdrh6a30Bf3d/zH4CfRx6InYccRVrHGRAXJJTKEoVQHE1VSrYHhUTKAcr+znvbOPh17DM9MHFtzquaKVknT+WC5DUiqeGjYONgayA64BLgsiEXIj/jKeSRpnPoC+pVLIpvJjGidHi3IzoavRiAFkMNRjZIywvFDp4REFOWFepXyFnr21Fc9V3VXu+fQp/NX9Afi18AXnCdHpvNmkEYvNZFlGCR0w9ijJXJ8ob/g8PBBf4MOx34AXV9Mlev1u1Aqxmo52buJTFjtSJ74Ueg2iB0oBcgQWDyYWiiYiOb5RKmwijmqvrtOa+dMl+1OvfoOuD93gDZg8xG78m9DG4PPNGjFBuWYZhwWgNb190qHjfe/59/37gfqJ9RnvUd1FzyW1JZ95fmleQTtNEezqeL1UkuhjnDPcABvUt6YjdMdJCx9S8/7LYqXSh55lBk5KN54hKhcKCV4ELgd+B0YPchvqKIZBGllqdTqUQrou3qsFXzHjX9eK07pr6iwZvEigenCmzNFE/YEnJUnZbU2NPalpwZnVoeVZ8K37hfnh+8XxOepV20HEJbE1lrF02Vf9LHEKjN60sUSGpFdEJ4/368TDmodpnz5vEVrqvsLynkZ9BmN2RcowNiLiEeoJZgViBdYKvhAGIYozKkSyYeJ+gp5CwNLp2xD7PdtoC5snxsP2bCXIVFyFyLGc330HBS/hUbV0PZcxrlHFadhR6unxEfrF+/n0tfEN5RnU/cDpqRGNtW8dSZUldP8Y0tylJHpcSuwbR+vLuOePC16bM/8Hlt26usKW/na2WipBji0WHOYRFgm+Bt4Eeg5+FN4nbjYKTH5qjof2pGrPlvEjHK9J33RDp3fTDAKcMbxj/Iz4vETpgRBVOGFdVX7tmN228cjx3rnoKfUt+bX5wfVd7J3jmc59uXGgtYSJZTVDCRpc84jG9JkAbhQ+nA8L37+tJ4OvU8Mlvv4C1Oqyzo/2bKpVJj2eKkIbNgyOCl4EpgtmDoYZ+imSPSpUhnNujZqyutZ6/Icod1XvgIOzx99QDrw9nG+AmATKwPNZGWlApWS1hVWiRbtFzC3g1e0h9Pn4WftB8cHr6dnZy7mxwZgpfzFbJTRdEyjn6Lr8jNBhyDJQAtvTx6GDdHdJDx+q8KLMWqsWhS5q4kxmOfonvhXSDFYLSga6CpoS1h9WL/ZAglzGeH6bZrku4YMIAzRPYgeMv7wT74gayElgeuCm6NEQ/PkmSUitb9WLfadlv1XTIeKl7cn0efq19Hnx2ebt19XAva3Zk2VxqVDxLY0H2NgwsvyAoFWEJhf2v8fnlftpYz6HEcbresP+n6J+qmFeS/YyniGCFL4MZgiCCRYOFhdqIPo2lkgSZTaBvqFex8booxeTPDduJ5kDyFf7tCbAVQiGILGk3zEGaS7xUHl2tZFhrD3HGdXF5CnyJfet9MH1Ze2t4bHRkb2BpbmKcWv1RpEinPhw0Gim8HRoSUAZ4+qzuB+Ok153MC8IFuKKu+KUanhqXCJHyi+OH5IT9gjCCgoLvg3aGEIq2jl2U95p2osqq3rOfvffHzdIK3pPpT/UjAfQMqRglJE8vDTpIROhN11YBX1Rmv2wzcqR2CHpXfI19pX2hfIN6TncMc8RthGdZYFNYhk8ERuQ7PDEkJrcaDA9AA273rusc4NPU7Ml/v6W1dKwApF2cm5XLj/qKMod7hN2CW4L1gquEeYdXiz+QI5b3nKykMK1wtlbAzMq71Qnhnuxf+C8E9w+bGwAnDDKnPLhGKVDkWNVg6mcUbkVzcHeMepJ8fn1NfQB8mnkhdptxFGyZZTZe/1UETVtDGjlXLisjsBf/CzMAZ/S16DjdCtJFxwC9U7NUqheir5oulKCOFIqThiaE0YKYgnyDeYWNiK+M15H4lwWf7qahrwq5FMOnza3YDOSq72z7OAf1Eoce0ynANDU/G0lcUuFamGJwaVhvRHQoePx6uXxcfeJ8THugeOJ0G3BWaqBjCFyfU3lKq0BJNm0rLyCoFPIIKP1l8cPlXNpLz6jEjLoOsUKoPqATmdGSh41BiQiG44PYguiCFIRZhrKJF45/k9yZIKE8qRyyrbvYxYjQotsQ57Xyef4+Cu4VayGdLGo3uEFyS4BUz1xLZORqinAxdc94WnvOfCd9ZHyHepR3knOLbohomWHNWTVR5UfyPXMzfygwHZ8R5QUg+mfu1uKH15XMF8IluNauQKZ1noeXh5GBjICIj4Wzg/GCS4PAhEuH6YqQjzWVzZtIo5WrobRYvqTIbdOb3hXqwPWCAUAN4RhJJF8vCTovRLtNllatXu5lR2yqcQx2Ynmle89833zTe695d3YycutsrGaFX4ZXwE5IRTI7lzCNJS8alQ7bAhv3buvw37vU6MmQv8u1raxNpLycDZZOkIyL0ocphZeDHoPBg32FT4gwjBiR+5bMnXyl+a0wtwvBdstX1pfhG+3L+IkEPhDOGx8nFzKdPJpG90+eWHxgf2eYbbhy1Hbjed17vnyFfDF7xnhJdcJwPGvDZGVdM1VBTKJCbDi2LZgiLBeMC9P/GfR76BLd+NFHxxa9fbOSqmmiFJujlCePqoo3h9aEjYNdg0iETIZjiYiNsJLPmNmfvKdnsMe5xsNNzkXZleQi8NT7jQc3E7Ue7SnFNCY/+EgkUpZaO2IAadhutHOKd1B6AnyafBh8fHrLdwp0Qm9+actiOFvWUrlJ9D+fNdAqoB8pFIQIzfwc8Y3lO9o+z6/EqLo9sYaolaB8mUuTEo7aia+GloSWg6+D44Qth4mK8I5XlLKa8qEIquCyZ7yIxirRN9yU5ynz2/6OCioWlCGyLGo3pEFKS0RUgFzpY3BqBnCddC14q3oUfGN8mHu1eb52unKybbFnxmD/WG5QJ0c/Pcwy5ielHCQRfAXJ+SPupuJr143MI8JGuAuviKbQnvWXBZIPjR2JOYZphLKDFISPhSCIwItokA2WopwYpF+sY7UQv1DJDNQr35XqMPbfAYsNGBltJG4vBDoWRI5NVVZZXodlz2sicXV1vXjzehN8GXwHe914oXVacRNs12WzXrpW+02MRII68y/4JKkZIA52Asn2MOvF36TU5smiv/G156yapBydfpbQkB6Mc4jWhU+E4IOLhE2GJIkHjfCR0pegnkqmwK7ut8DBHszy1iPil+01+eIEhBAAHD0nITKTPHxGxE9YWCNgFWccbSxyOXY6eSh7/3u9e2N68ndydOpvZWruY5VcaVR/S+pBvzcWLQciqhYbC3T/zfNB6Ozc5tFJxy29qLPRqruieJsZla2PP4vbh4aFSIQhhBSFHYc5il+Oh5OlmaugiKgssYO6d8TyztzZHOWa8Dr84Qd3E+IeBirKNBc/1UjtUUxa3WGRaFhuJHPrdqV5S3vZe097rXn3djNza26oaPdhaVoOUvlIPz/1NDQqEx+rExcIcvzU8FnlGtoxz7fExLptscmo66DkmcWTnI5zilWHSYVThHWEsIX/h1+Lx48ulYabwqLSqqOzIL01x8vRytwY6JzzPP/dCmYWvCHGLGk3kEEhSwhUMFyHY/1pgm8KdIt3/Xlbe6B7znrleOp15HHbbNxm9F8yWKhPakaNPCYyTSccHKsQFQV0+eHtd+JQ14bMMMJnuECv0aYrn2KYg5KcjbmJ44YehXGE24RdhvOIlow/keOWdZ3npCetIrbGv/rJqdS63xTrnvY8AtUNTxmPJH0v/jn8Q2BNFFYFXiFlV2uacN50GHhCeld7VXs7egt4zHSEcD1rAmXjXe9VOE3TQ9M5US9kJCQZqw0TAnj28uqb347U5Mm1vxe2Ia3npHyd8JZSka+MEomDhgeFoYRUhR2H94ndjcaSp5hynxenhq+suHPCxcyM167iEu6f+TkFyBAyHFsnKjKIPF1GkU8SWMpfqmagbKBxn3WTeHV6Qnv3epV5IHedcxRvj2kbY8ZboVO/SjNBEzd3LHYhKharChX/gfMJ6Mfc1dFNx0S91LMQqw2j3JuPlTOQ1It9iDWGAoXlhN+F7ocNizWPXZR5mnuhU6nwsT27J8WVz3Lao+UQ8Z/8NAi3Ew4fHirONAc/sUi1UQFagGEiaNhtlXJOdvp4lXoZe4d63ngkdl5ylG3TZyVhnFlIUTtIiz5NNJkphh4vE6wHGfyN8CXl+tkmz8DE4LqesQ2pQqFNmj+UJY8Mi/uH+4UPhTqFfIbQiDOMnZADllmckaObq2S02L3ix2vSW92a6A70nP8rC6EW4yHZLGg3ekH4SstT4FslY4lp/m53c+p2UHmiet56BHoWeBd1DnEFbAhmI19nV+ROr0XcO4ExtyaUGzMQrgQf+Z/tSOI213/MPsKJuHavGaeGn8+YAZMqjlWKjIfThS+FooUqh8SJa40VkriXR560pe2t4bZ6wKPKRdVI4JLrC/eXAh4OhBmxJIov+DniQzJN01WxXbpk4GoScEd0dHeSeZ16kXpweTt3+HOub2dqL2QUXSZVd0waQyY5sC7RI6AYOA2yASn2tepy33nU48nHvz62W600pdudYZfUkUCNsYkuh76FYoUchuuHyoqyjpyTe5lCoOOnS7BnuSTDa80k2Dfji+4H+pAFDBFiHHcnMzJ9PD1GXk/MV3FfP2YlbBVxBXXrd8J5hXoyesl4T3bJcj9uumhJYvha2lL/SX5AaTbaK+ggqhU8Crj+NvPR56PcxdFRx1y9/7NPq1+jQJwElriQaYwgieSGu4WnhaiGvYjgiwqQMpVMm0qiHaqysva71cU30AbbKOaF8QL9hQj2EzkfNSrSNPY+jEh9UbZZImGzZ1htBnKwdVB44HlaesB5EXhSdYpxwGz/ZlVg0ViDUH9H2T2nMwAp/B20EkIHwPtI8PPk29kbz8nE/brPsVGpmKG2mriUr4+ki6GIrIbLhf6FR4egiQeNcpHXliudX6RirCO1jr6NyAnT690b6X70+/93C9oWCSLrLGc3ZUHOSo5TkVvDYhZpem7kckp2o3jqeR56PHlHd0R0OnAxazVlVF6dViJO9UQtO94wISYOG70PSATM+F7tG+Ic13rMTMKruKuvYqfinzuZfpO3jvGKNIiHhu2FaIb2h5WKPo7pkouYGJ+AprOunrctwUvL4NXU4A/sd/fxAmUOuRnSJJgv8TnHQwNNkVVcXVRkaGqLb7Fz0HbjeON5znmmeGx2JnPabpRpXmNGXF5Ut0tkQno4ES4/Ix4YxgxRAdr1eepK32XU4snbv2W2lq2CpTue0pdVktGNUIrah3SGIYbjhriIm4uGj3CUTZoRoa2oDrEiutTDD8662L/jBO9v+uUFTxGSHJMnOzJxPB1GK0+FVxlf1GWpa4pwa3RFdxB5yXltef53gHX2cWtt52d4YSxaFFJCSco/wTU+K1ogLBXPCVz+7PKa54DcttFVx3W9LLSOq7GjpJx5lj6R/YzBiZKHc4ZohnGHi4myjN6QBZYdnBij5apzs668gsbY0JnbrOb58WX91gg0FGQfTCrVNOU+Z0hFUWpZxWBEZ9lsd3EUdad3K3mcefp4RXeCdLdw7GstZoZfBljAT8RGKD0CM2goch06EtkGafsD8MHkvdkQz9PEG7sAspWp76EemzKVOJA7jEWJXIeFhsGGEIhvitmNRZKql/udK6UoreG1Q782yabTet6b6e30WADDCxMXLyL9LGQ3T0GlSlFTQVthYqNo921Scqp193czeV15dHh6dnNzZ29eamRkhl3VVWFNPUR/Oj0wjSWIGkcP5AN5+B7t7+ED13TMW8LNuOGvq6c9oKiZ+5NEj4yL24g6h6qGLYfCiGWLEI+8k12Z559Kp3evWrjfwfHLedZf4Yrs4fdKA6wO7RnyJKQv6jmsQ9VMT1UIXe5j8WkEbxtzLnY0eCp5DXndd551VHIHbsFojWJ6W5hT+EquQdA3cy2vIp0XVQzxAI31P+oi31HU4snvv4y20a3PpZueQ5jWkmGO7oqEiCmH4Iaqh4SJa4xYkEKVHpvfoXWpz7HbuoPEsc5Q2Ubkeu/V+jkGkRHAHK4nQjJkPP1F904+V8BeamUua/9v0nOfdl94DXmqeDR3sXQlcZhsFmepYGJZUFGGSBc/GjWkKs4fsBRiCQH+pPJl517cp9Fax469WLTOqwOkCJ3ulsORkY1jij+IK4cphzmIWIqCjbCR2JbunOSjrKsytGS9Lcd30SrcL+dr8sb9JQlwFI0fYirXNNQ+QkgNUR9ZaGDVZlps6XB4dP52d3jfeDV4enazc+VvGmtcZbhePlf+TgpGeTxeMtEn6hzCEXEGE/u/75HkoNkHz93EObsxstqpRqKGm6uVwJDSjOmJDIg/h4SH2Yg9i6qOF5N7mMqe9qXtrZ629r/eyULUCN8Z6lv1tQANDEsXUyINLWE3OEF6ShRT8VoAYjBodG3AcQp1S3d9eJ54rneudaRylW6MaZRjulwOVaFMhkPTOZ0v+iQEGtMOgQMo+ODsw+Hr1nDMasLwuBew9KeYoBWaeJTQjyaMgonsh2WH8IeMiTOM4Y+OlC6atKATqDmwFLmPwpbMEdfo4QTtS/iiA/IOHxoSJbAv4jmQQ6ZMDVWzXIhjeml9boZyi3WGd3F4THgVd9F0hHE2bfBnvmGvWtNSO0r6QCc31iwgIh0X5QuTAED1Ber83j7U48kDwLS2DK4dpvqetJhXk/GOi4suid6HnodviE+KOo0pkRSW7purojyqj7KSuzDFU8/k2cvk8O85+4wG0RHuHMknSTJXPN1Fw074Vmde/2SzanVvOnP6da53U3jnd2t243NUcMdrRWbcX5lYjVDLR2Y+dDQLKkMfNBT3CKj9XPIw5zzcmdFgx6e9hbQOrFWkbJ1jl0eSJI4Di+uI4ofoh/+IJItSjoGSqJe8na+kcazwtBm+18cV0rrcsOfc8ib+dAmsFLYfdyrYNMI+HUjUUNRYCmBnZttrW3Dcc1Z2xHcjeHF3sHXkchRvSWqMZOxddlY9TlJFyzu8MTwnYxxKEQsGvvp972HkhNn+zujEV7tjsh6qnKLvmySWSZFpjY2Ku4j4h0WIoYkKjHmP6JNMmZifv6awrlq3qMCFytzUlN+W6sj1EAFXDIIXdyIdLV43IUFQStZSoVqeYb1n8mwvcWx0oHbId+B36HbjdNVxxW28aMVi71tIVONL0UIoOf4uaSSCGWEOHwPY96LsmOHT1mzMesIUuU6wPajzoIGa9ZRckMCMKYqdiCCIs4hVigGNsZBelf2agaHbqPqwzLk+wznNp9dy4n/ttPj4AzIPSBohJaUvuzlNQ0VMj1QZXNFiqGiRbYFxb3RVdi53+na3dWpzGHDIa4RmWWBTWYVR/kjUPxk25itQIXAWXws1AA31/+kj35TUacq4wJi3Ha9bp2KgQ5oMlciQgI09iwKK04mwipaMgo9tk02YF56/pDWsZ7REvbfGq9AJ27nlo/Cv+8IGxRGfHDYnczE/O4NEK00iVVhcu2I+aNNscnARc6t0PHXDdEJzvHA3bbpoUWMHXetVDk6ARVc8pTKCKAUeRRNaCF/9a/KW5/vcsNLNyGm/mLZvrgCnXKCRmq2VupHCjsuM2ovviwyNLo9OkmeWb5taoRuooq/et73AKsoQ1Fje6+ix85H+cgk+FNoeLyklM6U8m0XzTZhVelyKYrpn/WtMb55x7nI5c39ywnAFbk9qqWUdYLhZiFKfSg1C5jhALzAlzRovEG0Fovrj70rl79rp0FDHOL63td+twqZxoPiaZpbEkhmQbY7DjRuOdY/PkSKVZpmTnpykc6sJs0y7KsSOzWTXlOEI7Kf2WgEJDJsW+SAKK7k07j2WRp1O8VWBXD5iHGcQaxBuF3AfcSdxLnA3bkZrY2eWYupcbFYrTzhHpD6ENesr8SGqFzANmAL+93btGeMA2UDP8MUkvfK0a62gpqCgeps4l+SThZEikLyPVJDqkXmU+5dpnLeh26fGrmi2r76Kx+PQptq85A/vh/kLBIUO3Rj7IsksLzYaP3RHLE8uVm1c2WFnZgxqwGx9bj9vBm/QbaJrgGhyZIFfuFkkU9VL20NIOzAypyjEHpwURwrd/3T1JOsE4S3Xs82txC68SrQTrZmm6qAUnCGYGZUFk+iRxJGakmmUK5famm2f3KQXqxOyvrkIwtzKKNTW3dHnAPJO/KIG5xADG+Ekai6JNylANUieT1BWPlxaYZll8Whba9FsUG3XbGhrBWm1ZX5ha1yIVuFPhkiHQPg36y50JaoboxF1Bzn9A/Pt6Azfd9VDzIfDVLu/s9esraZOocacIJlklpeUvpPbk+2U8ZbjmbyddKL+p1CuWrULvVTFIc5d1/Tg0Orb9P7+IAkuEw4dqybwL8Y4GkHaSPRPV1b2W8NgtWTBZ+JpE2tRa5tq9WhgZuRiiF5WWVtTo0w/RT89tTS1K1MipRjADrsErvqt8NHmL93d0/DKfcKXuk+ztqzbpsqhkJ01msKXPJallf+VSpeCmaKcoqB6pR+rg7GZuE/AlMhW0YDa/uO77Z/3lAGEC1oV/R5ZKFgx5jnwQWNJLlBDVpRbFGC5Y31mV2hFaURpVGh4ZrRjD2CQW0JWMlBtSQJCAzqBMZAoRR+0FfMLGQI8+HLu0ORt21/SusmQwfa5+7KwrCKnX6JxnmCbNJnxl5qXMJixmRqcZZ+Ko4GoPa6xtM+7h8PHy3zUkt315o/wS/oSBM8NaxfRIOsppTLqOqlC0ElOUBZWGVtNX6liJGW6ZmdnKWcCZvRjA2E3XZhYMVMOTT1Gzz7SNlsufCVKHNgSPQmQ/+T1UOzr4sjZ/tCfyMDAcLnCssSsg6cMo2ifn5y4mreZnpltmiKcuZ4sonSmhqtWsdi3/b60xuvOkdeR4NfpTvPg/HcG/w9hGYkiYCvVM9I7RkMiSlNQz1WGWnBeg2G5Ywxle2UDZaZjZ2FMXlxaoFUiUPBJFkOmO68zRSt6ImIZERCeBh79pfNK6iHhP9i5z6HHC8AGuaSy8az8p8+jdKDxnU6cjJuvm7Scm55eofekXqmJrmu0+LohwtTJAtKW2n7jpez39V7/xAgVEj0bJSS6LOk0njzIQ1hKP1BvVdxZfV1KYDtiTmOAY9BiQWHVXpJbgVepUhdN2Eb4P4k4mjA/KIofjhZhDRYExfqA8V7oct/R1o/Ov8Zxv7e4n7I4rY2oqaSVoVef9J1wncydBp8boQikxKdIrImxercQvjrF6MwI1YndV+Zd74j4wgH3ChEU/RymJfgt4TVOPS9EdUoRUPdUG1l1XP1erWCBYXlhk2DTXjxc1VikVLVPEUrHQ+Q8eDWULUklrBzPE8YKpgGF+HXvjObf3X/Vgs34xfO+gri1spetNamZpcmizqCrn2Kf9J9goaKjtaaSqjCvhbSDuh/BR8juz//Xa+Ac6QDyA/sOBBAN8xWiHgsnGi+9NuM9fER4SstPZ1REWFhbnV0NX6ZfZV9NXl5cn1kVVslRxEwRR79A2jl0MpwqZSLhGSQRQghP/172hO3W5GbcSdSQzEzFj75ouOOyDq70qZ2mEaRWonChYKEnosKjLqZlqWGtFrJ8t4W9JMRJy+XS5to6483rjfRm/UIGEA+6Fy0gVSghMH83Xj6uRGJKbE/BU1hXKFosXF5dvF1GXf1b41n+VlRT7k7WSRdEvz3cNn0vtCeTHysXjw7VBQ/9UPSt6zrjCdsu07nLvMRGvma4KrOcrsiqtadrpe+jRKNro2OkLKa/qBisL7D5tG26fsAexz7OzdW73fXlae4E97H/XQj2EGYZnCGEKQ0xJji+PsZEMkr1TgVTV1blWKlaoFvHWx1bplljV1pUk1AWTO1GJUHJOukzlSzdJNIciBQQDH4D5/pc8vHpueHH2S7S/cpGxBe+friJs0GvsavhqNeml6UlpYClqaabqFSrzK77stm3Wb1vww7KJdGm2H/gnujw8GT55AFfCsIS+BrwIpgq3jGyOAQ/xkTrSWhOM1JCVZBXF1nUWcVZ61hHV95UtVHTTUFJCkQ6Pt03AzG8KRYiJRr6EacJQAHY+IHwTuhT4KDYSNFcyurDAb6uuP+z/K+vrCCqVKhOpxKnoKf2qBCr662Asca1s7o9wFbG8cz/02/bMeMy62Lzrfv/A0gMdBRwHCokkSuUMiM5MD+sRIxJxE1MURpUKlZ1V/tXuVewVuJUVVIOTxNLcEYtQVg7/TQrLvImYR+LF4APVAca/+L2wO7G5gfflNd+0NXJp8MEvve4i7TMsMGtcKvgqROpC6nJqUmriq2FsDO0jbiIvRnDM8nIz8nWJ97Q5bPtvvXf/QIGGA4MFs0dSSVwLDAzezlDP3tEFkkLTVFQ4FKzVMVVFVaiVW1UeVLKT2ZMVkijQ1g+gDgoMmErOCS+HAQVHA0YBQv9BPUY7Vjl1t2i1s7PaMl+wx++VrkutbGx5a7SrHur5aoPq/qro60HsB+z5bZRu1fA7MUEzJHShNnN4FvoHvAD+Pn/7QfOD4sXEB9OJjQtsjO6OT4/MUSJSD1MQk+UUSxTB1QkVIJTI1IKUDxNwEmdRdxAijuyNWAvpSiPIS0akhLOCvMCFPtA84rrBOS/3MvVOM8UyW7DUr7Nuee1qbIcsESuJa3DrB2tM64CsIeyurWVuQ++HsO2yMrOTdUv3GLj1Op08jL6+wG/CWsR7xg5IDgn3i0aNN85ID/RQ+dHWkshTjdQllE9UilSWlHUT5lNrkoaR+dCHD7FOO4ypiz5JfcesBc1EJYI5QA1+ZTxFurK4sLbDdW7ztrIdsOdvlm6tLa1s2Sxxa/crqyuNK9zsGayCLVUuEK8ycDexXbLhNH618re5OU47bX0SvzmA3gL7xI6GkghCShuLmk07DnrPlpDMEdkSu5Myk7zT2ZQI1ArT39NJEsfSHhENUBiOwk2NzD4KVwjcBxGFewNdAbw/m/3AvC76Krh39pq1FjOuMiWw/+++7qVt9O0vLJVsaCwn7BTsbiyzLSLt+266757w5XIKs4w1JjaVOFT6Ijv4PZM/rkFGA1ZFGobPCK/KOUunzThOZ4+zUJkRlpJqktOTUJOhU4VTvVMJ0uuSJJF2EGKPbE4WDOMLVon0CD8Ge8SuQtpBBH9wfWJ7nrnpOAW2t/TDs6vyM7Ddr+yu4m4A7YltPOycLKcsnmzArU1tw26g72PwSfGQsvT0M/WJt3M47Dqw/H1+DQAcwegDqoVghwXI1wpQy+8NL45Oz4rQoRFP0hVSsNLhUyZTP9LukrLSDdGBUM8P+Q6CDaxMO4qyiRUHpsXrRCbCXQCSvss9CntUua332bZbtPczb3IHMQEwH28kLlEt5y1nrRKtKK0pbVQt6C5j7wWwC3Ey8jlzXDTX9mk3zLm+Ozp8/P6BwIWCQ4Q4RZ/Hdkj4CmIL8I0hDnCPXRBkUQSR/FIK0q8SqNK4kl5SG1GwUN8QKU8RjhoMxcuXihKIuobTRWADpMHlwCc+a/y4utE5eTe0NgW08PN48iBxKbAXL2pupW4IrdVti+2sLbXt6K5DLwPv6XCxcZmy37QANbg2xHihegt7/n12/zCA6AKZBEAGGQegSRLKrQvsDQzOTQ9qkCMQ9RFfkeFSOhIpki/RzVGDURLQfU9FDqwNdMwiCvbJdofkhkSE2cMogXS/gX4S/G06k/kKt5T2NbSws0gyfvEXcFOvtS79bm1uBe4HLjFuA669rt3vo3BL8VWyfjNC9OC2FLebeTG6k3x9Pes/mUFEQyhEgUZLx8RJZ4qyS+HNM04kTzLP3VChkT9RdRGC0egRpZF7kOsQdY+cjuJNyIzSC4GKWgjex1NF+sQZArGAyP9hvYA8KDpc+OJ3e7Xr9LXzXPJi8UowlK/D71ku1W65LkTut+6SLxLvuLAB8S0x9/LgNCM1fbatOC35vPsWPPZ+WUA8AZqDcUT8RnhH4gl2CrGL0c0UTjaO9s+TEEqQ25EF0UkRZREaEOkQUw/ZDz1OAU1nTDJK5ImBCEtGxoV2A52CAICi/sg9c7upOix4gHdodef0gTO28kuxgXDZ8BZvuG8Aby7uxC8/7yGvqHAS8N9xjLKYM790gDYXN0F4+/oDO9O9af7CAJkCKsO0BTEGnog5iX6Kq0v8jPANw872D0UQL5B00JRQzVDgUI3QVk/7Dz2OX02iTIjLlYpKySxHvEY+xLaDJ4GVAAM+tHztO3B5wbikdxt16bSR85ZyubG9cONwbO/a764vZu9Fb4kv8XA9sKxxe/IqczX0G/VZtqy30XlFOsR8S/3X/2TA78J0w/CFX4b+yAsJgUrfC+GMxs3MjrEPMw+RUAtQYBBP0FqQAM/Dj2POow3CzQVMLMr7ybUIW0cxxbvEPEK3AS+/qT4m/Ky7PbmdeE53FDXxNKgzuzKscf3xMPCG8EBwHm/g78fwEzBBsNLxRTIW8sZz0TT1Ne/3PjhdOcm7QLz+vgB/wcFAgvjEJwWIBxkIVsm+io2LwYzYjZCOaA7dT3APns/pz9CP04+zTzDOjQ4JjWgMastTymWJIwfOxqwFPcOHQkxAz/9VPd98cnrROb74PnbStf40g3Pk8uPyArGCcSQwqPBQ8FywS7CdsNHxZ3HcsrAzX/Rp9Ut2gnfLeSQ6SXv3vSv+ooAZAYuDNoRXReqHLUhcibXKtoucjKWNUE4azoRPC49wD3GPUA9LzyWOnk43DXGMj4vSyv3JksiUx0aGKsSEw1fB5sB1vsb9njw+eqr5Zrg0dtb10LTkM9MzH/JLcddxRLET8MWw2fDQcSjxYjH7cnMzB/Q3dP+13ncQ+FS5prrD/Gl9k78/gGpB0ENuhIHGBwd7iFzJp8qaS7JMbg0LzcoOZ86kTv7O947OTsNOl84MTaJM20w4yz1KKskDyArGwsWuhBEC7YFHQCF+vv0iu9A6inlUOC/24LXotMn0BnNgMpgyL/GoMUFxfHEYsVYxtDHyMk6zCDPddIw1knatt5u42boke3m8lf41/1bA9YIPA6BE5gYdh0RIl0mUSrkLQ4xyDMNNtY3IDnpOS467zktOeo3KDbsMzsxGy6TKqsmbSLiHRQZDhTcDooJJAS2/kz58vO17qDpv+Qd4MTbv9cW1NHQ+M2Ry6LJLsg5x8XG0sZix3HI/skFzILObtHD1HnYh9zl4InlZ+p176j08/lK/6AE7AkgDzAUEhm5HRwiMSbtKUotQDDHMts0dzaWNzg4WTj8Nx83xTXzM6ox8i7QK0wobSQ8IMQbDhckEhMN5QenAmX9KfgB8/ftF+ls5AHg4NsR2J7UjtHozrPM8cqpydzIjMi6yGXJjMoszEDOxdC00wfXttq53gXjk+dX7EbxVfZ5+6UAzwXqCuwPyBR0GeUdESLvJXYpnixgL7YxmzMKNQE2fjZ+NgM2DjWhM78xbS+wLI8pECY7IhsetxkZFU4QXgtWBkEBK/we9yfyUe2m6DHk/N8R3HjYOtVe0urP481PzDDLicpbyqfKbMuozFfOd9AC0/PVQtnn3NzgFuWM6TPuAvPt9+n86gHmBtELoBBIFb8Z+h3wIZgl6ijfK28ulTBNMpIzYjS7NJ00BzT8Mn0xjy81LXUqViffIxcgCBy6FzcTig6+CdwE8v8I+yv2ZfHC7EzoDOQN4Ffc9Njp1T/T+9Aiz7jNwcw+zDDMmMx1zcPOgdCq0jnVKNhx2wzf8eIW53Pr/e+q9HD5Q/4YA+YHoAw9EbEV8xn5HbohLSVLKA0rbS1lL/IwDzK6MvIytjIIMukwWy9iLQMrQigoJbohAR4EGs4VZxHbDDIIeAO4/vz5T/W78EvsCej+4zTgs9yD2avWMdQc0m/QLs9czvvNDM6Nzn/P3tCo0tfUaddV2pbdJOH35AbpSO208T723vqH/zAEzwhYDcIRAxYQGuEdbiGuJJknKypcLCcuii+BMAkxIjHMMAcw1i47LTkr1ygYJgQjoh/4GxEY9BOrDz8LvAYqApb9B/mK9Cjw6+vc5wbkcOAi3SXaftc01UvTyNGv0AHQv8/sz4XQitH30srU/9aQ2Xfcrt8u4+3m5eoL71bzvfc1/LQAMQWgCfkNMBI+FhcatR0OIRsk1SY3KTsr3CwXLukuUC9NL94uBS7ELB4rFimyJvgj7CCXHf8ZLhYsEgEOuAlbBfIAifwp+Nzzq++h68bnI+TB4Kbd2tpj2EbWidQu0zrSrdGK0dDRf9KU0w7V6dYg2a/bj9664Snl1Oiy7Lvw5fQn+Xf9ywEbBlsKgg6IEmIWCRpzHZkgdSMAJjMoCyqDK5gsSC2RLXIt7SwCLLMqBCn5JpYk4SHgHpkbFRhcFHYQawxGCA8E0f+U+2L3RfNG727rxudW5CbhPd6h21jZZ9fT1aDUztNi01rTuNN51J7VItcC2TrbxN2c4LnjFueq6m3uWPJf9nz6o/7MAu4G/wr1DskScRbkGR0dEiC9IhklICfOKB8qECufK8srlCv6Kv8ppijwJuMkgiLVH+Acqhk8FpwS0w7pCugG2QLF/rX6svbF8vjuUuvc557kn+Hm3nncXdqX2CvXHNZs1RzVL9Wi1XXWpdcx2RXbS93Q35ziquXz6G/sF/Dh88X3u/u5/7YDqgeLC1EP8xJpFqsZshx3H/MhIiT+JYQnsCh+Ke8pASqzKQcp/iebJuEk1CJ4INQd7RrKF3IU7RBCDXsJoAW5AdD97fkY9lzyv+5L6wfo+uQs4qLfYt1x29TZjtih1xHX3dYH143Xb9ir2TzbId1U39DhkOSN58HqI+6t8Vb1Fvnl/LgAigRQCAIMlw8IE0wWXRk0HMkeGCEbI84kLSY1J+QnOCgxKM8nEyf/JZQk2CLNIHge3xsIGfkVuRJQD8YLIghtBK4A8fw7+Zb1CfKd7lrrR+hq5cvib+Bb3pTcHtv82THZvdij2OLYetlp2qzbQt0m31PhxeN35mHpfuzF7zHzuPZT+vn9ogFHBd8IYQzGDwcTGxb7GKIbCh4tIAYikSPLJLIlQiZ8Jl4m6iUgJQIkkyLVIM8egxz3GTEXOBQSEcYNXQrdBk8Du/8p/KD4KfXM8ZHufuub6O7lfeNN4WPfxd103HTbyNpw2m7awNpn22Dcqt1B3yLhSOOv5VDoJusq7lXxofQF+Hr7+P52Au4FWAmrDOAP8BLUFYYY/ho5HTEf4iBHIl4jJSSZJLskiSQEJC4jCCKWINse2hyZGhwYaRWHEnwPTwwICa0FRgLd/nb7G/jT9Kbxmu636wPphOZA5Dvie+AD39bd9txn3CncO9yf3FPdVd6j3zrhFuMz5YvnG+rb7MXv0/L99T75jPzh/zMDfwa6Cd4M5A/EEnkV/RdIGlgcJh6wH/Eg5yGQIuoi9SKxIh4iPiETIKAe6BzwGrsYThaxE+cQ+Q3sCscHkgRTART+2vqt95P0lfG57gXsf+kt5xTlOeOg4U3gQt+B3g3e5t0M3n/ePd9G4JbhK+MA5RLnW+nX63/uTvE+9Eb3YvqI/bIA2wP5BgYK/AzSD4QSCxVhF4EZZhsNHXEekB9mIPMgNSEsIdggOSBRHyMesRz/GhAZ6RaPFAgSWA+HDJsJmgaMA3YAYv1U+lT3afSa8ezuZuwN6ujn+eVH5NPio+G44BTgud+n397fXuAm4TPig+MT5eDm5egd64TtE/DG8pX1e/hx+2/+bwFsBF0HPQoEDawPMBKJFLMWqRhlGuYbJh0kHt0eUB98H2Ef/h5VHmgdORzKGh8ZPBclFd8SbxDbDSkLXwiCBZsCsP/G/OT5EvdV9LPxNO/b7K/qs+ju5mLlE+QE4zfiruFq4WvhsuE94gvjG+Rp5fPmteir6tHsIe+W8Sv02fab+Wv8Qf8XAucErAddCvYMcQ/HEfUT9BXAF1YZsRrQG68cTB2nHb8dkx0lHXQcgxtVGusYSRd0FW4TPhHnDnAM3gk2B38EwAH+/j/8ivnl9lb04vGP72PtYuuQ6fLni+Zf5XDkv+NP4yDjMuOG4xrk7eT95Ufnyeh/6mTsde6t8AfzffUK+Kf6UP39/6gCTQXkB2kK1AwiD0wRThMjFccWOBhwGW4aMBu0G/kb/xvFG0wblhqkGXgYFRd/FbgTxhGsD3ANFwumCCIGkQP6AGL+z/tG+c72bPQl8v7v/e0m7H3qBenC57bm5eVO5fXk2eT75Fnl9OXK5tjnHemV6jzsEO4L8CryZvS89ib5nvsf/qIAIwOcBQcIXwqeDL8OvRCVEkIUwBUMFyMYAxmqGRYaRxo9GvcZdhm8GMoXoxZJFb8TChIsECsOCwzRCYEHIgW4AkkA3P10+xj5zPaW9HzygfCq7vzseesm6gXpGOhi5+XmoOaV5sTmLOfL56LorOnp6lXs7e2t75HxlfOz9ej3L/qB/Nr+MwGJA9YFFQhAClMMSA4dEMsRUROqFNQVyxaOFxwYchiRGHkYKRiiF+YW9xXWFIcTDBJpEKIOuwy4Cp0IcAY2BPQBr/9s/S/7/vjf9tb05vIW8Wjv4e2E7FTrU+qE6ejogehP6FPojej86J/pc+p566zsC+6R7zzxB/Pu9O72Afkj+079f/+uAdkD+wUNCAwK9Au/DWoP8RBREoYTjxRoFREWhxbKFtkWtBZcFtEVFhUrFBMT0BFlENcOJw1bC3YJfQd0BWADRQEq/xH9//r7+Af3KfVk873xOPDX7p3tj+ys6/nqdeoj6gLqE+pW6snqbes/7D3tZe607yfxu/Js9Db2FvgG+gL8B/4NABQCFAQKBvEHxQmBCyMNpg4GEEIRVRI/E/wTjBTsFB0VHhXwFJEUBRRME2cSWREkEMwOUw29Cw0KRwhwBowEngKrALr+y/zl+gz5Q/eQ9fXzdvIX8dvvxO7V7RDtduwJ7Mnrt+vT6x3slOw27QLu9+4S8FDxrvIq9MD1bPcq+ff6zfyq/ogAZAI5BAQGwAdpCfwKdQzRDQwPJRAYEeQRhxL/EkwTbhNjEywTyhI9EogRrBCqD4UOQQ3fC2MK0QgsB3cFuAPxAScAX/6b/OD6MfmT9wr2mPRA8wfy7vD47yfvfe777aLtc+1u7ZPt4u1a7vnuvu+o8LTx3/In9Ir1A/eP+Cv60/uE/Tj/7QCfAkoE6gV7B/oIZAq2C+sMAw76Ds8PfxAJEW0RqBG7EacRahEGEXsQzA/6DgYO8wzDC3oKGgmnByMGkgT4AlkBuf8a/oD87/pr+ff3l/ZM9Rv0BvMP8jjxhPDz74fvQO8g7ybvUu+k7xrwtfBx8U7ySfNg9JH12PY0+J/5GPub/CX+sf88AcQCRQS7BSIHeAi6CeUK9gvsDMMNew4RD4QP1A8AEAgQ6w+qD0YPwA4YDlINbQxuC1UKJgnjB48GLQXBA04C1gBf/+n9evwT+7n5b/g29xL2BvUU9D3zhPLq8XHxGfHj8M/w3vAP8WLx1vFp8hvz6fPS9NP16/YW+FL5nfry+0/9sf4UAHcB1QIrBHcFtgbkB/8IBAryCscLgAwcDZoN+Q03DlUOUw4wDu4Niw0LDW0MtAvhCvYJ9gjiB70GigVMBAQDuAFoABr/zv2J/Ez7G/r5+Of36fYB9jD1ePTb81rz9vKw8onygPKW8sryHPOL8xX0uvR49U32N/c1+EP5X/qG+7f87v0p/2MAnAHRAv4DIAU2Bj0HMggTCeAJlQoxC7QLGwxnDJYMqQyeDHgMNQzXC14LzAoiCmIJjginB68GqgWYBH4DXAI3ARAA6v7I/az8mfuQ+pX5qvjQ9wr3Wfa+9Tz10vSC9E30MvQy9E30gvTR9Dn1uPVP9vv2u/eM+G75XfpY+138af15/oz/nQCtAbgCuwO1BKMFhAZUBxMIvwhWCdgJQgqVCtAK8gr6CuoKwQqBCigKuQk1CZwI8Ac0B2cGjgWoBLoDxALIAcoAzf/Q/tf95Pz5+xj7RPp++cf4IviP9xD3pvZS9hT27fXc9eP1AfY19n/23/ZS99n3cfga+dH5lvpm+z/8IP0F/u/+2f/CAKkBigJlAzcE/wS6BWcGBAeRBwwIdQjJCAkJNAlLCUwJOAkPCdIIgQgdCKgHIgeMBukFOQV+BLoD7wIeAkkBcwCe/8r++v0w/W38s/sE+2L6zflH+dL4bfgZ+Nn3q/eQ94j3lPez9+T3J/h8+OL4Vvna+Wr6Bvut+1z8Ev3O/Y7+UP8RANIAkAFJAvwCpwNIBN8EagXnBVcGtwYIB0gHdweVB6IHnQeHB2AHKQfiBosGJwa1BTcFrgQbBIAD3gI3AowB3wAwAIT/2f4x/o/99Pxg/Nb7Vvvi+nr6H/rT+ZX5ZvlG+TX5NflD+WH5jfnI+RH6ZvrI+jT7q/sq/LL8P/3S/Wn+Av+c/zUAzQBiAfMBfwIDA4AD9ANeBL0EEAVYBZIFwAXgBfMF+AXvBdkFtgWHBUsFBAWxBFUE8AODAw8DlQIWApQBDwGJAAIAfv/8/n3+Av6N/R/9uPxa/AX8uft4+0L7F/v4+uT63frh+vD6C/sx+2H7nPvf+yz8gPzc/D39pP0Q/n7+7/5h/9T/RAC0ACEBigHvAU4CpwL5AkMDhQO+A+8DFQQyBEUETwROBEMELwQSBOwDvQOHA0kDBAO5AmkCFQK8AWEBBAGmAEcA6v+O/zP/3P6I/jn+7/2q/Wz9Nf0E/dv8uvyg/I/8hvyF/Iv8mvyw/M388fwc/U39g/29/fz9P/6F/s3+F/9h/6z/9/8/AIYAzAAOAUwBhwG9Ae8BGwJBAmICfAKRAp8CpwKpAqQCmgKKAnQCWQI5AhUC7QHBAZIBYAEsAfcAwACJAFIAGwDm/7L/f/9P/yH/9/7Q/qz+jf5x/lr+SP45/jD+Kv4p/i3+NP5A/k/+Yv54/pH+rf7L/uv+Df8v/1P/d/+b/7//4v8EACUARABiAH4AmACvAMQA1gDlAPIA+wACAQYBBwEGAQIB/AD0AOkA3QDPAMAAsACfAI0AewBpAFYARAAzACIAEgADAPb/6v/f/9X/zf/G/8H/vf+7/7r/u/+9/8D/xP/J/87/1P/b/+L/6P/v//X/+/8AAAAAAAAAAAAAAAAAAAAAAAAAAAAAAAAAAAAAAAAAAAAAAAAAAAAAAAAAAAAAAAAAAAAAAAAAAAAAAAAAAAAAAAAAAAAAAAAAAAAAAAAAAAAAAAAAAAAAAAAAAAAAAAAAAAAAAAAAAAAAAAAAAAAAAAAAAAAAAAAAAAAAAAAAAAAAAAAAAAAAAAAAAAAAAAAAAAAAAAAAAAAAAAAAAAAAAAAAAAAAAAAAAAAAAAAAAAAAAAAAAAAAAAAAAAAAAAAAAAAAAAAAAAAAAAAAAAAAAAAAAAAAAAAAAAAAAAAAAAAAAAAAAAAAAAAAAAAAAAAAAAAAAAAAAAAAAAAAAAAAAAAAAAAAAAAAAAAAAAAAAAAAAAAAAAAAAAAAAAAAAAAAAAAAAAAAAAAAAAAAAAAAAAAAAAAAAAAAAAAAAAAAAAAAAAAAAAAAAAAAAAAAAAAAAAAAAAAAAAAAAAAAAAAAAAAAAAAAAAAAAAAAAAAAAAAAAAAAAAAAAAAAAAAAAAAAAAAAAAAAAAAAAAAAAAAAAAAAAAAAAAAAAAAAAAAAAAAAAAAAAAAAAAAAAAAAAAAAAAAAAAAAAAAAAAAAAAAAAAAAAAAAAAAAAAAAAAAAAAAAAAAAAAAAAAAAAAAAAAAAAAAAAAAAAAAAAAAAAAAAAAAAAAAAAAAAAAAAAAAAAAAAAAAAAAAAAAAAAAAAAAAAAAAAAAAAAAAAAAAAAAAAAAAAAAAAAAAAAAAAAAAAAAAAAAAAAAAAAAAAAAAAAAAAAAAAAAAAAAAAAAAAAAAAAAAAAAAAAAAAAAAAAAAAAAAAAAAAAAAAAAAAAAAAAAAAAAAAAAAAAAAAAAAAAAAAAAAAAAAAAAAAAAAAAAAAAAAAAAAAAAAAAAAAAAAAAAAAAAAAAAAAAAAAAAAAAAAAAAAAAAAAAAAAAAAAAAAAAAAAAAAAAAAAAAAAAAAAAAAAAAAAAAAAAAAAAAAAAAAAAAAAAAAAAAAAAAAAAAAAAAAAAAAAAAAAAAAAAAAAAAAAAAAAAAAAAAAAAAAAAAAAAAAAAAAAAAAAAAAAAAAAAAAAAAAAAAAAAAAAAAAAAAAAAAAAAAAAAAAAAAAAAAAAAAAAAAAAAAAAAAAAAAAAAAAAAAAAAAAAAAAAAAAAAAAAAAAAAAAAAAAAAAAAAAAAAAAAAAAAAAAAAAAAAAAAAAAAAAAAAAAAAAAAAAAAAAAAAAAAAAAAAAAAAAAAAAAAAAAAAAAAAAAAAAAAAAAAAAAAAAAAAAAAAAAAAAAAAAAAAAAAAAAAAAAAAAAAAAAAAAAAAAAAAAAAAAAAAAAAAAAAAAAAAAAAAAAAAAAAAAAAAAAAAAAAAAAAAAAAAAAAAAAAAAAAAAAAAAAAAAAAAAAAAAAAAAAAAAAAAAAAAAAAAAAAAAAAAAAAAAAAAAAAAAAAAAAAAAAAAAAAAAAAAAAAAAAAAAAAAAAAAAAAAAAAAAAAAAAAAAAAAAAAAAAAAAAAAAAAAAAAAAAAAAAAAAAAAAAAAAAAAAAAAAAAAAAAAAAAAAAAAAAAAAAAAAAAAAAAAAAAAAAAAAAAAAAAAAAAAAAAAAAAAAAAAAAAAAAAAAAAAAAAAAAAAAAAAAAAAAAAAAAAAAAAAAAAAAAAAAAAAAAAAAAAAAAAAAAAAAAAAAAAAAAAAAAAAAAAAAAAAAAAAAAAAAAAAAAAAAAAAAAAAAAAAAAAAAAAAAAAAAAAAAAAAAAAAAAAAAAAAAAAAAAAAAAAAAAAAAAAAAAAAAAAAAAAAAAAAAAAAAAAAAAAAAAAAAAAAAAAAAAAAAAAAAAAAAAAAAAAAAAAAAAAAAAAAAAAAAAAAAAAAAAAAAAAAAAAAAAAAAAAAAAAAAAAAAAAAAAAAAAAAAAAAAAAAAAAAAAAAAAAAAAAAAAAAAAAAAAAAAAAAAAAAAAAAAAAAAAAAAAAAAAAAAAAAAAAAAAAAAAAAAAAAAAAAAAAAAAAAAAAAAAAAAAAAAAAAAAAAAAAAAAAAAAAAAAAAAAAAAAAAAAAAAAAAAAAAAAAAAAAAAAAAAAAAAAAAAAAAAAAAAAAAAAAAAAAAAAAAAAAAAAAAAAAAAAAAAAAAAAAAAAAAAAAAAAAAAAAAAAAAAAAAAAAAAAAAAAAAAAAAAAAAAAAAAAAAAAAAAAAAAAAAAAAAAAAAAAAAAAAAAAAAAAAAAAAAAAAAAAAAAAAAAAAAAAAAAAAAAAAAAAAAAAAAAAAAAAAAAAAAAAAAAAAAAAAAAAAAAAAAAAAAAAAAAAAAAAAAAAAAAAAAAAAAAAAAAAAAAAAAAAAAAAAAAAAAAAAAAAAAAAAAAAAAAAAAAAAAAAAAAAAAAAAAAAAAAAAAAAAAAAAAAAAAAAAAAAAAAAAAAAAAAAAAAAAAAAAAAAAAAAAAAAAAAAAAAAAAAAAAAAAAAAAAAAAAAAAAAAAAAAAAAAAAAAAAAAAAAAAAAAAAAAAAAAAAAAAAAAAAAAAAAAAAAAAAAAAAAAAAAAAAAAAAAAAAAAAAAAAAAAAAAAAAAAAAAAAAAAAAAAAAAAAAAAAAAAAAAAAAAAAAAAAAAAAAAAAAAAAAAAAAAAAAAAAAAAAAAAAAAAAAAAAAAAAAAAAAAAAAAAAAAAAAAAAAAAAAAAAAAAAAAAAAAAAAAAAAAAAAAAAAAAAAAAAAAAAAAAAAAAAAAAAAAAAAAAAAAAAAAAAAAAAAAAAAAAAAAAAAAAAAAAAAAAAAAAAAAAAAAAAAAAAAAAAAAAAAAAAAAAAAAAAAAAAAAAAAAAAAAAAAAAAAAAAAAAAAAAAAAAAAAAAAAAAAAAAAAAAAAAAAAAAAAAAAAAAAAAAAAAAAAAAAAAAAAAAAAAAAAAAAAAAAAAAAAAAAAAAAAAAAAAAAAAAAAAAAAAAAAAAAAAAAAAAAAAAAAAAAAAAAAAAAAAAAAAAAAAAAAAAAAAAAAAAAAAAAAAAAAAAAAAAAAAAAAAAAAAAAAAAAAAAAAAAAAAAAAAAAAAAAAAAAAAAAAAAAAAAAAAAAAAAAAAAAAAAAAAAAAAAAAAAAAAAAAAAAAAAAAAAAAAAAAAAAAAAAAAAAAAAAAAAAAAAAAAAAAAAAAAAAAAAAAAAAAAAAAAAAAAAAAAAAAAAAAAAAAAAAAAAAAAAAAAAAAAAAAAAAAAAAAAAAAAAAAAAAAAAAAAAAAAAAAAAAAAAAAAAAAAAAAAAAAAAAAAAAAAAAAAAAAAAAAAAAAAAAAAAAAAAAAAAAAAAAAAAAAAAAAAAAAAAAAAAAAAAAAAAAAAAAAAAAAAAAAAAAAAAAAAAAAAAAAAAAAAAAAAAAAAAAAAAAAAAAAAAAAAAAAAAAAAAAAAAAAAAAAAAAAAAAAAAAAAAAAAAAAAAAAAAAAAAAAAAAAAAAAAAAAAAAAAAAAAAAAAAAAAAAAAAAAAAAAAAAAAAAAAAAAAAAAAAAAAAAAAAAAAAAAAAAAAAAAAAAAAAAAAAAAAAAAAAAAAAAAAAAAAAAAAAAAAAAAAAAAAAAAAAAAAAAAAAAAAAAAAAAAAAAAAAAAAAAAAAAAAAAAAAAAAAAAAAAAAAAAAAAAAAAAAAAAAAAAAAAAAAAAAAAAAAAAAAAAAAAAAAAAAAAAAAAAAAAAAAAAAAAAAAAAAAAAAAAAAAAAAAAAAAAAAAAAAAAAAAAAAAAAAAAAAAAAAAAAAAAAAAAAAAAAAAAAAAAAAAAAAAAAAAAAAAAAAAAAAAAAAAAAAAAAAAAAAAAAAAAAAAAAAAAAAAAAAAAAAAAAAAAAAAAAAAAAAAAAAAAAAAAAAAAAAAAAAAAAAAAAAAAAAAAAAAAAAAAAAAAAAAAAAAAAAAAAAAAAAAAAAAAAAAAAAAAAAAAAAAAAAAAAAAAAAAAAAAAAAAAAAAAAAAAAAAAAAAAAAAAAAAAAAAAAAAAAAAAAAAAAAAAAAAAAAAAAAAAAAAAAAAAAAAAAAAAAAAAAAAAAAAAAAAAAAAAAAAAAAAAAAAAAAAAAAAAAAAAAAAAAAAAAAAAAAAAAAAAAAAAAAAAAAAAAAAAAAAAAAAAAAAAAAAAAAAAAAAAAAAAAAAAAAAAAAAAAAAAAAAAAAAAAAAAAAAAAAAAAAAAAAAAAAAAAAAAAAAAAAAAAAAAAAAAAAAAAAAAAAAAAAAAAAAAAAAAAAAAAAAAAAAAAAAAAAAAAAAAAAAAAAAAAAAAAAAAAAAAAAAAAAAAAAAAAAAAAAAAAAAAAAAAAAAAAAAAAAAAAAAAAAAAAAAAAAAAAAAAAAAAAAAAAAAAAAAAAAAAAAAAAAAAAAAAAAAAAAAAAAAAAAAAAAAAAAAAAAAAAAAAAAAAAAAAAAAAAAAAAAAAAAAAAAAAAAAAAAAAAAAAAAAAAAAAAAAAAAAAAAAAAAAAAAAAAAAAAAAAAAAAAAAAAAAAAAAAAAAAAAAAAAAAAAAAAAAAAAAAAAAAAAAAAAAAAAAAAAAAAAAAAAAAAAAAAAAAAAAAAAAAAAAAAAAAAAAAAAAAAAAAAAAAAAAAAAAAAAAAAAAAAAAAAAAAAAAAAAAAAAAAAAAAAAAAAAAAAAAAAAAAAAAAAAAAAAAAAAAAAAAAAAAAAAAAAAAAAAAAAAAAAAAAAAAAAAAAAAAAAAAAAAAAAAAAAAAAAAAAAAAAAAAAAAAAAAAAAAAAAAAAAAAAAAAAAAAAAAAAAAAAAAAAAAAAAAAAAAAAAAAAAAAAAAAAAAAAAAAAAAAAAAAAAAAAAAAAAAAAAAAAAAAAAAAAAAAAAAAAAAAAAAAAAAAAAAAAAAAAAAAAAAAAAAAAAAAAAAAAAAAAAAAAAAAAAAAAAAAAAAAAAAAAAAAAAAAAAAAAAAAAAAAAAAAAAAAAAAAAAAAAAAAAAAAAAAACgz5F7IjGi8WOo9EbU6YV/1fiGcobs5zbnj9e3N+yX//fxF/BH3ceZ91WHASattixVrhUUNIAj40M/InVhx5EHgEbfhz7KXgH9X5yU+/N7XJqxqjPptGlEKOQYlMhW6CrYAMgI6AMILvhMaIq42Tk3CaNKLNqia0LL7GyN7TWd8e6xP3GwMcD/sanSbnMcA8D0e9ULNZ32EsaYpv7HRFeYp8tX7Bf6t/dH4efK94LnSmbiNotGBqWFhPkUUtO0Qw7CRCGV4NXAFY9Wvpsd1G0kLHv7zVspqpI6GDmcuSC41QiKSEEIKZgEOAD4H7ggKGHopEj2uVg5x8pEWtybbzwKzL29Zo4jjuL/ozBioS9x2AKas0Xz+CSf9SwFuwY75q23D3dQh6BH3lfqZ/RX/EfSZ7cXetcuVsJmaAXgRWxEzXQlM4Ti3jISwWQgpC/kbyaObF2nbPlsQ8uoGweqc7n9mXYpHmi3KHD4TFgZmAjoCkgdiDJoeGi+6QUZeintCmx691ucLDmM7d2XnlUfFK/UgJMhXsIFssZTfxQehLM1W8XXFlQGwZcu92uHprfQF/d3/MfgJ9HHoidhxxFWscZEBcklMoShVAcTVVKtgeFRMoByv7Oe9s4+HXsMz0wcW3Oq5opWSdP5YLkNSKp4aNg42BrIDrgEuCyIRciP+Mp5JGmc+gL6lUsim8mMaJ0eLcjOhq9GIAWQw1GNkjLC8UOnhEQU5YV6lfIWevbUVz1XdVe759Cn81f0B+LXwBecJ0em82aQRi81kWUYJHTD2KMlcnyhv+Dw8EF/gw7HfgBdX0yV6/W7UCrGajnZu4lMWO1InvhR6DaIHSgFyBBYPJhaKJiI5vlEqbCKOaq+u05r50yX7U69+g64P3eANmDzEbvyb0Mbg880aMUG5ZhmHBaA1vX3SoeN97/n3/fuB+on1Ge9R3UXPJbUln3l+aV5BO00R7Op4vVSS6GOcM9wAG9S3piN0x0kLH1Lz/stipdKHnmUGTko3niEqFwoJXgQuB34HRg9yG+oohkEaWWp1OpRCui7eqwVfMeNf14rTumvqLBm8SKB6cKbM0UT9gSclSdltTY09qWnBmdWh5VnwrfuF+eH7xfE56lXbQcQlsTWWsXTZV/0scQqM3rSxRIakV0Qnj/frxMOah2mfPm8RWuq+wvKeRn0GY3ZFyjA2IuIR6glmBWIF1gq+EAYhijMqRLJh4n6CnkLA0unbEPs922gLmyfGw/ZsJchUXIXIsZzffQcFL+FRtXQ9lzGuUcVp2FHq6fER+sX7+fS18Q3lGdT9wOmpEY21bx1JlSV0/xjS3KUkelxK7BtH68u4548LXpsz/weW3bq6wpb+drZaKkGOLRYc5hEWCb4G3gR6Dn4U3iduNgpMfmqOh/akas+W8SMcr0nfdEOnd9MMApwxvGP8jPi8ROmBEFU4YV1Vfu2Y3bbxyPHeuegp9S35tfnB9V3sneOZzn25caC1hIllNUMJGlzziMb0mQBuFD6cDwvfv60ng69TwyW+/gLU6rLOj/ZsqlUmPZ4qQhs2DI4KXgSmC2YOhhn6KZI9KlSGc26NmrK61nr8hyh3Ve+Ag7PH31AOvD2cb4CYBMrA81kZaUClZLWFVaJFu0XMLeDV7SH0+fhZ+0Hxwevp2dnLubHBmCl/MVslNF0TKOfouvyM0GHIMlAC29PHoYN0d0kPH6rwosxaqxaFLmriTGY5+ie+FdIMVgtKBroKmhLWH1Yv9kCCXMZ4fptmuS7hgwgDNE9iB4y/vBPviBrISWB64Kbo0RD8+SZJSK1v1Yt9p2W/VdMh4qXtyfR5+rX0efHZ5u3X1cC9rdmTZXGpUPEtjQfY2DCy/ICgVYQmF/a/x+eV+2ljPocRxut6w/6fon6qYV5L9jKeIYIUvgxmCIIJFg4WF2og+jaWSBJlNoG+oV7HxuijF5M8N24nmQPIV/u0JsBVCIYgsaTfMQZpLvFQeXa1kWGsPccZ1cXkKfIl9630wfVl7a3hsdGRvYGluYpxa/VGkSKc+HDQaKbwdGhJQBnj6rO4H46TXncwLwgW4oq74pRqeGpcIkfKL44fkhP2CMIKCgu+DdoYQiraOXZT3mnaiyqres5+998fN0grek+lP9SMB9AypGCUkTy8NOkhE6E3XVgFfVGa/bDNypHYIeld8jX2lfaF8g3pOdwxzxG2EZ1lgU1iGTwRG5Ds8MSQmtxoMD0ADbveu6xzg09TsyX+/pbV0rACkXZyblcuP+ooyh3uE3YJbgvWCq4R5h1eLP5AjlvecrKQwrXC2VsDMyrvVCeGe7F/4LwT3D5sbACcMMqc8uEYpUORY1WDqZxRuRXNwd4x6knx+fU19AHyaeSF2m3EUbJllNl7/VQRNW0MaOVcuKyOwF/8LMwBn9LXoON0K0kXHAL1Ts1SqF6Kvmi6UoI4UipOGJoTRgpiCfIN5hY2Ir4zXkfiXBZ/upqGvCrkUw6fNrdgM5KrvbPs4B/UShx7TKcA0NT8bSVxS4VqYYnBpWG9EdCh4/Hq5fFx94nxMe6B44nQbcFZqoGMIXJ9TeUqrQEk2bSsvIKgU8ggo/WXxw+Vc2kvPqMSMug6xQqg+oBOZ0ZKHjUGJCIbjg9iC6IIUhFmGsokXjn+T3JkgoTypHLKtu9jFiNCi2xDntfJ5/j4K7hVrIZ0saje4QXJLgFTPXEtk5GqKcDF1z3hae858J31kfId6lHeSc4tuiGiZYc1ZNVHlR/I9czN/KDAdnxHlBSD6Z+7W4ofXlcwXwiW41q5ApnWeh5eHkYGMgIiPhbOD8YJLg8CES4fpipCPNZXNm0ijlauhtFi+pMht05veFerA9YIBQA3hGEkkXy8JOi9Eu02WVq1e7mVHbKpxDHZieaV7z3zffNN7r3l3djJy62ysZoVfhlfATkhFMjuXMI0lLxqVDtsCG/du6/Dfu9ToyZC/y7WtrE2kvJwNlk6QjIvShymFl4Meg8GDfYVPiDCMGJH7lsydfKX5rTC3C8F2y1fWl+Eb7cv4iQQ+EM4bHycXMp08mkb3T55YfGB/Z5htuHLUduN53Xu+fIV8MXvGeEl1wnA8a8NkZV0zVUFMokJsOLYtmCIsF4wL0/8Z9HvoEt340UfHFr19s5KqaaIUm6OUJ4+qijeH1oSNg12DSIRMhmOJiI2wks+Y2Z+8p2ewx7nGw03ORdmV5CLw1PuNBzcTtR7tKcU0Jj/4SCRSllo7YgBp2G60c4p3UHoCfJp8GHx8est3CnRCb35py2I4W9ZSuUn0P5810CqgHykUhAjN/BzxjeU72j7Pr8Souj2xhqiVoHyZS5MSjtqJr4aWhJaDr4PjhC2HiYrwjleUspryoQiq4LJnvIjGKtE33JTnKfPb/o4KKhaUIbIsajekQUpLRFSAXOljcGoGcJ10LXirehR8Y3yYe7V5vna6crJtsWfGYP9YblAnRz89zDLmJ6UcJBF8Bcn5I+6m4mvXjcwjwka4C6+IptCe9ZcFkg+NHYk5hmmEsoMUhI+FIIjAi2iQDZainBikX6xjtRC/UMkM1Cvfleow9t8Biw0YGW0kbi8EOhZEjk1VVlleh2XPayJxdXW9ePN6E3wZfAd73XihdVpxE2zXZbNeulb7TYxEgjrzL/gkqRkgDnYCyfYw68XfpNTmyaK/8bXnrJqkHJ1+ltCQHoxziNaFT4Tgg4uETYYkiQeN8JHSl6CeSqbAru63wMEezPLWI+KX7TX54gSEEAAcPSchMpM8fEbET1hYI2AVZxxtLHI5djp5KHv/e717Y3ryd3J06m9lau5jlVxpVH9L6kG/NxYtByKqFhsLdP/N80Ho7Nzm0UnHLb2os9Gqu6J4mxmVrY8/i9uHhoVIhCGEFIUdhzmKX46Hk6WZq6CIqCyxg7p3xPLO3Nkc5ZrwOvzhB3cT4h4GKso0Fz/VSO1RTFrdYZFoWG4kc+t2pXlLe9l7T3utefd2M3Nrbqho92FpWg5S+Ug/P/U0NCoTH6sTFwhy/NTwWeUa2jHPt8TEum2xyajroOSZxZOcjnOKVYdJhVOEdYSwhf+HX4vHjy6VhpvCotKqo7MgvTXHy9HK3BjonPM8/90KZha8IcYsaTeQQSFLCFQwXIdj/WmCbwp0i3f9eVt7oHvOeuV46nXkcdts3Gb0XzJYqE9qRo08JjJNJxwcqxAVBXT54e134lDXhswwwme4QK/RpiufYpiDkpyNuYnjhh6FcYTbhF2G84iWjD+R45Z1neekJ60itsa/+smp1LrfFOue9jwC1Q1PGY8kfS/+OfxDYE0UVgVeIWVXa5pw3nQYeEJ6V3tVezt6C3jMdIRwPWsCZeNd71U4TdND0zlRL2QkJBmrDRMCePby6pvfjtTkybW/F7YhreekfJ3wllKRr4wSiYOGB4WhhFSFHYf3id2NxpKnmHKfF6eGr6y4c8LFzIzXruIS7p/5OQXIEDIcWycqMog8XUaRTxJYyl+qZqBsoHGfdZN4dXpCe/d6lXkgd51zFG+PaRtjxluhU79KM0ETN3csdiEqFqsKFf+B8wnox9zV0U3HRL3UsxCrDaPcm4+VM5DUi32INYYCheWE34Xuhw2LNY9dlHmae6FTqfCxPbsnxZXPctqj5RDxn/w0CLcTDh8eKs40Bz+xSLVRAVqAYSJo2G2Vck52+niVehl7h3reeCR2XnKUbdNnJWGcWUhRO0iLPk00mSmGHi8TrAcZ/I3wJeX62SbPwMTgup6xDalCoU2aP5QljwyL+4f7hQ+FOoV8htCIM4ydkAOWWZyRo5urZLTYveLHa9Jb3ZroDvSc/ysLoRbjIdksaDd6QfhKy1PgWyVjiWn+bndz6nZQeaJ63noEehZ4F3UOcQVsCGYjX2dX5E6vRdw7gTG3JpQbMxCuBB/5n+1I4jbXf8w+wom4dq8Zp4afz5gBkyqOVYqMh9OFL4WihSqHxIlrjRWSuJdHnrSl7a3htnrAo8pF1UjgkusL95cCHg6EGbEkii/4OeJDMk3TVbFdumTgahJwR3R0d5J5nXqRenB5O3f4c65vZ2ovZBRdJlV3TBpDJjmwLtEjoBg4DbIBKfa16nLfedTjyce/PrZbrTSl251hl9SRQI2xiS6HvoVihRyG64fKirKOnJN7mUKg46dLsGe5JMNrzSTYN+OL7gf6kAUMEWIcdyczMn08PUZeT8xXcV8/ZiVsFXEFdet3wnmFejJ6yXhPdslyP266aEli+FraUv9JfkBpNtor6CCqFTwKuP4289Hno9zF0VHHXL3/s0+rX6NAnASWuJBpjCCJ5Ia7haeFqIa9iOCLCpAylUybSqIdqrKy9rvVxTfQBtso5oXxAv2FCPYTOR81KtI09j6MSH1RtlkiYbNnWG0GcrB1UHjgeVp6wHkReFJ1inHAbP9mVWDRWINQf0fZPaczACn8HbQSQgfA+0jw8+Tb2RvPycT9us+xUamYobaauJSvj6SLoYishsuF/oVHh6CJB41ykdeWK51fpGKsI7WOvo3ICdPr3RvpfvT7/3cL2hYJIussZzdlQc5KjlORW8NiFml6buRySnajeOp5Hno8eUd3RHQ6cDFrNWVUXp1WIk71RC073jAhJg4bvQ9IBMz4Xu0b4hzXesxMwqu4q69ip+KfO5l+k7eO8Yo0iIeG7YVohvaHlYo+jumSi5gYn4Cms66ety3BS8vg1dTgD+x39/ECZQ65GdIkmC/xOcdDA02RVVxdVGRoaotvsXPQduN443nOeaZ4bHYmc9pulGleY0ZcXlS3S2RCejgRLj8jHhjGDFEB2vV56krfZdTiydu/ZbaWrYKlO57Sl1WS0Y1QitqHdIYhhuOGuIibi4aPcJRNmhGhragOsSK61MMPzrrYv+ME72/65QVPEZIckyc7MnE8HUYrT4VXGV/UZalrinBrdEV3EHnJeW15/neAdfZxa23nZ3hhLFoUUkJJyj/BNT4rWiAsFc8JXP7s8prngNy20VXHdb0stI6rsaOknHmWPpH9jMGJkodzhmiGcYeLibKM3pAFlh2cGKPlqnOzrryCxtjQmdus5vnxZf3WCDQUZB9MKtU05T5nSEVRalnFYERn2Wx3cRR1p3creZx5+nhFd4J0t3Dsay1mhl8GWMBPxEYoPQIzaChyHToS2QZp+wPwweS92RDP08QbuwCylanvoR6bMpU4kDuMRYlch4WGwYYQiG+K2Y1FkqqX+50rpSit4bVDvzbJptN63pvp7fRYAMMLExcvIv0sZDdPQaVKUVNBW2Fio2j3bVJyqnX3dzN5XXl0eHp2c3Nnb15qZGSGXdVVYU09RH86PTCNJYgaRw/kA3n4Hu3v4QPXdMxbws244a+rpz2gqJn7k0SPjIvbiDqHqoYth8KIZYsQj7yTXZnnn0qnd69auN/B8ct51l/hiuzh90oDrA7tGfIkpC/qOaxD1UxPVQhd7mPxaQRvG3MudjR4KnkNed13nnVUcgduwWiNYnpbmFP4Sq5B0DdzLa8inRdVDPEAjfU/6iLfUdTiye+/jLbRrc+lm55DmNaSYY7uioSIKYfghqqHhIlrjFiQQpUem9+hdanPsdu6g8SxzlDZRuR679X6OQaREcAcridCMmQ8/UX3Tj5XwF5qZS5r/2/Sc592X3gNeap4NHexdCVxmGwWZ6lgYllQUYZIFz8aNaQqzh+wFGIJAf6k8mXnXtyn0VrHjr1YtM6rA6QIne6Ww5GRjWOKP4grhymHOYhYioKNsJHYlu6c5KOsqzK0ZL0tx3fRKtwv52vyxv0lCXAUjR9iKtc01D5CSA1RH1loYNVmWmzpcHh0/nZ3eN94NXh6drNz5W8aa1xluF4+V/5OCkZ5PF4y0SfqHMIRcQYT+7/vkeSg2QfP3cQ5uzGy2qlGooabq5XAkNKM6YkMiD+HhIfZiD2Lqo4Xk3uYyp72pe2tnrb2v97JQtQI3xnqW/W1AA0MSxdTIg0tYTc4QXpKFFPxWgBiMGh0bcBxCnVLd314nniud651pHKVboxplGO6XA5VoUyGQ9M5nS/6JAQa0w6BAyj44OzD4evWcMxqwvC4F7D0p5igFZp4lNCPJoyCieyHZYfwh4yJM4zhj46ULpq0oBOoObAUuY/ClswR1+jhBO1L+KID8g4fGhIlsC/iOZBDpkwNVbNciGN6aX1uhnKLdYZ3cXhMeBV30XSEcTZt8Ge+Ya9a01I7SvpAJzfWLCAiHRflC5MAQPUF6vzePtTjyQPAtLYMrh2m+p60mFeT8Y6Liy6J3oeeh2+IT4o6jSmRFJbum6uiPKqPspK7MMVTz+TZy+Tw7zn7jAbREe4cySdJMlc83UXDTvhWZ17/ZLNqdW86c/p1rndTeOd3a3bjc1Rwx2tFZtxfmViNUMtHZj50NAsqQx80FPcIqP1c8jDnPNyZ0WDHp72FtA6sVaRsnWOXR5IkjgOL64jih+iH/4gki1KOgZKol7ydr6RxrPC0Gb7XxxXSutyw59zyJv50CawUth93Ktg0wj4dSNRQ1FgKYGdm22tbcNxzVnbEdyN4cXewdeRyFG9Jaoxk7F12Vj1OUkXLO7wxPCdjHEoRCwa++n3vYeSE2f7O6MRXu2OyHqqcou+bJJZJkWmNjYq7iPiHRYihiQqMeY/ok0yZmJ+/prCuWreowIXK3NSU35bqyPUQAVcMghd3Ih0tXjchQVBK1lKhWp5hvWfybC9xbHSgdsh34HfoduN01XHFbbxoxWLvW0hU40vRQig5/i5pJIIZYQ4fA9j3ouyY4dPWbMx6whS5TrA9qPOggZr1lFyQwIwpip2IIIiziFWKAY2xkF6V/ZqBoduo+rDMuT7DOc2n13Hifu20+PgDMw9JGiMlpy++OVFDSkyUVB5c12KuaJdth3F2dFx2NXcBd751cXMecM5rimZeYFlZilEDSdc/HTboK1IhcRZfCzUADfX96SHfktRlyrTAk7cYr1WnXaA9mgaVwZB5jTaL+4nMiamKj4x7j2aTR5gRnrqkMKxjtEC9tMao0Afbt+Wi8K/7wgbGEaEcOSd2MUI7h0QvTSdVXVzBYkRo2mx4cBhzsnRDdcp0SXPDcD1twGhXYw1d8VUTToVFWjyoMoUoBh5GE1sIX/1q8pXn+dyt0srIZb+Utmqu+6ZWoIuappW0kbuOxIzTi+mLBY0nj0iSYZZpm1ShFqidr9q3ucAnyg3UVt7q6LDzkf5zCT8U3B4xKSgzqTygRfdNnVWAXJBiwGcEbFNvpXH1ckBzhnLIcAxuVmqvZSNgvVmNUqNKEULqOEMvMiXPGjAQbgWh+uLvSOXt2ufQTMc0vrK12q29pmug8ppglr2SE5BmjryNFI5vj8iRG5VgmY2elqRuqwSzSLsmxIvNYdeS4Qfsp/ZaAQoMnBb7IA0rvDTyPZtGok72VYdcRGIjZxdrF24ecCZxLXE1cD1uTWtpZ5xi71xxVjBPPEeoPoc17ivzIawXMA2ZAv33de0X4/3YPc/sxSC97bRmrZqmmqBzmzGX3ZN+kRuQtY9NkOORcpT1l2OcsqHWp8GuY7arvobH4NCk2rvkDu+G+QsEhg7eGP0iyywzNh4/eUcxTzRWc1zfYW1mEmrGbIRuRm8Mb9dtqWuHaHhkh1+9WSlT2UvfQ0s7MzKqKMYenRRHCt3/c/Ui6wLhKtewzanEKrxFtA6tk6bkoA2cGpgTlf6S4ZG9kZSSYpQkl9OaZ5/WpBKrDrK6uQTC2com1NTdz+f/8U78ogboEAUb5CRtLo03LUA6SKNPVlZEXGFhoGX4aGFr12xXbd5sbmsMabtlhGFxXI1W5k+KSIxA+zfuLnclrBukEXYHOf0D8+voCd901UDMg8NQu7qz0qynpkihwJwamV2WkJS3k9ST5pTqlt2Ztp1uovmnS65VtQe9UMUdzlrX8uDP6tr0/f4hCS8TEB2uJvMvyjgfQd9I+U9cVvtbyWC7ZMhn6Wkaa1hromr7aGdm6mKOXlxZYFOoTERFQz25NLgrViKnGMEOvASu+qzwz+Ys3drT7cp5wpK6SrOxrNWmxKGKnS+au5c1lp6V+JVDl3uZm5ycoHSlGqt+sZS4S8CQyFPRftr847ntnveUAYULWxX/HlwoWzHqOfRBaEk0UElWmlsaYMBjg2ZeaExpS2lbaH9mu2MVYJZbSFY3UHJJBkIGOoQxkyhHH7YV9AsZAjz4cO7O5GvbXNK2yYzB8bn2sqqsHKdZomqeWZstmeqXk5cpmKuZFJxfn4Sje6g3rqy0y7uDw8PLedSQ3fPmjvBL+hIE0A1tF9Mg7imoMu46rULVSVNQG1YfW1Rfr2IrZcFmbmcwZwlm+mMJYT1dnlg2UxNNQkbTPtY2Xi5/JUsc2RI+CZD/4/VP7Onixtn70JzIu8Bsub2yvqx9pwWjYZ+YnLGasJmXmWaaG5yzniaibqaAq1Gx07f5vrDG6M6O14/g1ulN8+D8eAYAEGMZiyJjK9gz1jtLQydKWVDUVYxadl6KYcBjE2WBZQllrWNuYVNeYlqmVShQ9UkbQ6o7szNIK3wiYxkTEJ8GHv2k80jqH+E82LXPnccGwAG5nrLsrPanyaNtoOudR5yFm6ibrpyUnleh8aRYqYOuZrTzuhzC0cn+0ZPafOOk7Pb1Xf/ECBcSPxsoJL0s7DSiPM1DXkpFUHVV4lmDXVBgQmJVY4dj12JHYdtemFuHV69SHU3dRv0/jTieMEIojB+QFmINFwTF+n/xXOhw38/WjM67xm2/sriasjKth6ijpI6hUJ/tnWmdxZ3/nhWhAaS+p0Ksg7F1twu+NsXkzAXVh91V5lzviPjCAfcKExT/HKkl+y3lNVI9NER6ShdQ/VQhWXtcA1+zYIhhgGGaYNpeQ1zbWKpUu08XSsxD6Dx8NZctTCWuHNATxwqmAYX4dO+L5tzdfNV+zfTF7r59uK+yka0vqZKlw6LHoKSfW5/tn1mhm6OvpoyqKq9/tH66GsFEyOrP/ddo4Bvp//EC+w4EEQ30FaUeDiceL8E26D2BRH1K0E9tVEtYX1ukXRRfrF9sX1NeZVymWRtWz1HJTBZHw0DeOXcynypoIuMZJhFCCE//XfaD7dTkZNxG1IzMSMWLvmK43bIIru2plqYLpFCiaaFZoSCiu6Mopl+pW60Rsne3gL0fxEXL4tLj2jfjzOuM9Gb9QwYRD7sXLyBYKCUwgzdiPrNEZ0pyT8dTXlcvWjJcZV3DXU1dBFzqWQVXW1P0TttJHETDPeA2gS+3J5UfLBeQDtUFD/1P9KzrOOMH2yrTtcu3xEG+Ybgks5auwqqvp2Wl6KM9o2SjXaQlprmoEqwpsPS0aLp6wBrHOs7K1bnd9OVo7gP3sf9eCPcQaBmeIYcpETEqOMI+zEQ4SvtOC1NdVuxYsFqnW81bJFusWWlXYVSZUBxM80YpQc067TOYLOAk1ByJFBEMfwPn+lvy7+m34cXZKtL5ykHEEr55uIOzO6+rq9uo0KaRpR6leaWippWoTavGrvWy07dUvWrDCcoi0aPYfeCc6O/wY/nkAWAKwxL6GvMimyriMbY4CD/LRPFJbk45UklVl1ceWdtZzFnxWE5X5FS7UdlNR0kPRD8+4jcHMb8pGSInGvsRqAlAAdf4gPBN6FDgndhF0VjK5cP8vam4+bP2r6msGapNqEinC6eZp++oCqvlrXqxwLWuujjAUsbtzPvTbNsu4zHrYfOt+wAESQx2FHIcLSSUK5gyKDk1P7JEkknKTVJRIVQwVnxXAli/V7ZW6VRbUhRPGUt1RjJBXTsBNS8u9SZkH40Xgg9VBxr/4fa+7sTmBN+R13rQ0Mmjw/+98biGtMawuq1qq9mpDKkFqcKpQ6uDrX+wLbSHuIO9FMMuycTPxtYk3s3lse299d/9AwYZDg4W0B1MJXMsNDOAOUg/gEQcSRFNV1DmUrlUzFUcVqlVdFR/UtBPbExcSKlDXT6EOCwyZCs7JMAcBhUeDRkFCv0D9RbtVuXT3Z/Wys9jyXnDGr5RuSi1qrHfrsusdaveqgir86udrQCwGbPgtku7UsDoxQDMjtKB2cvgWegd8AP4+f/uB9APjBcTH1EmNy22M745Qz83RI9IQ0xJT5pRM1MOVCtUiVMqUhFQQ03GSaJF4kCPO7Y1ZC+oKJEhMBqUEs8K8wIT+z/ziOsC5Lzcx9U0zxDJacNNvse54bWjshWwPa4erbysFq0srvyvgLK0tY+5Cr4Zw7LIxs5J1SzcX+PS6nPyMvr7AcAJbRHxGDsgPCfhLR405DklP9ZD7UdgSyhOPVCdUURSL1JhUdpPn020SiBH7EIhPso48zKpLPwl+R6yFzYQlwjlADT5k/EU6sjiv9sK1bfO1chxw5i+U7qttq6zXbG+r9aupa4tr2ywX7ICtU64PLzDwNnFccuA0ffXx97i5TbttPRK/OYDeQvxEjwaSiEMKHIubTTxOfA+YEM2R2pK9UzRTvpPbVAqUDJPhk0rSyZIfUQ7QGc7DjY7MPwpXyNzHEcV7Q11BvD+bvcB8Lnop+Hc2mbUVM6zyJHD+b71uo+3zbS2sk6xmbCZsEyxsbLGtIS357rlvnbDkMgmzizUldpR4VHohu/f9kv+uQUaDVsUbRs/IsMo6S6jNOY5pD7TQmpGYUmwS1RNSU6LThxO/EwtS7VImEXeQY89tThcM5AtXSfSIP8Z8RK6C2kEEf3A9YfueOeh4BPa3NMKzqrIycNxv6y7g7j8tR607LJpspaycrP8tC+3B7p9vYnBIsY9y8/Qy9Yj3cnjrurC8fT4NAB0B6EOrBWEHBsjYClHL8E0wzlBPjFCikVFSFxKykuLTJ9MBkzAStFIPkYLQ0I/6ToMNrYw8irOJFcenRevEJwJdQJK+yv0J+1Q5rTfY9lq09jNuMgXxP6/d7yKuT23lrWXtEO0nLSftUq3mrmJvBDAKMTGyOHNbNNc2aHfL+b37Ojz8/oHAhYJEBDjFoId3CPkKYwvxzSJOcg9ekGXRBhH+EgxSsJKqkrpSYBIc0bHQ4FAqzxLOG0zGy5hKE0i7RtOFYEOlAeXAJv5rvLg60Ll4d7N2BLTv83eyHvEoMBWvaO6jrgbt062KLapttG3m7kFvAm/n8LAxmLLetD81d3bD+KD6Cvv+PXb/MIDoQpmEQIYZh6FJE8quS+1NDk5Oj2wQJJD20WER4xI70isSMVHPEYTRFFB+z0ZOrQ11zCMK98l3R+VGRMTaAyiBdL+BPhK8bLqTeQn3k/Y0tK9zRvJ9sRXwUi+zbvuua+4EbgWuL64B7rvu3G+h8EqxVHJ9M0H03/YT95r5MTqS/Hz96z+ZQUSDKISBxkyHxQloirOL4w00jiXPNI/e0KNRANG20YRR6dGnEX0Q7JB3D54O443JzNMLgopbCN+HU8X7BBlCscDIv2F9v/vnulx44bd6teq0tPNbsmFxSLCS78IvV27TrreuQy62bpCvEW+3MABxK7H2st80IjV89qx4LXm8exX89j5ZQDxBmwNxhPzGeQfiyXcKssvTDRWOOA74T5TQTBDdUQeRStFmkRvQ6tBUj9qPPo4CjWiMM0rlSYIITAbHBXaDncIAgKL+x71zO6i6K7i/dye15rS/83WySnG/8JhwFO+2rz6u7W7Crz5vH++msBFw3jGLcpbzvnS/NdY3QLj7egK7031p/sIAmQIrA7SFMcafiDqJf8qsS/3M8Y3FTvePRpAxUHaQldDPEOIQj5BYD/zPPw5gjaOMicuWikvJLQe9Bj9EtwMnwZUAAv60POy7b7nA+KN3GnXodJCzlTK4cbvw4fBrb9kvrG9lL0Ovh2/v8DwwqvF6cikzNLQa9Vi2q7fQ+US6xDxLvdf/ZQDwAnVD8QVgRv/IDAmCiuBL4wzITc4Oso80z5MQDNBh0FGQXFACj8UPZU6kTcQNBowuCvzJtchcBzJFvAQ8grdBL7+o/ia8rDs9OZx4TXcTNe/0prO5sqsx/HEvcIUwfu/cr98vxjARcEAw0XFDshVyxPPQNPQ17vc9eFx5yTtAfP5+AH/CAUDC+UQnhYjHGghXyb+KjsvDDNoNkg5pjt8PcY+gj+uP0k/VT7UPMk6OjgsNaYxsC1TKZokjx8+GrIU+A4eCTEDPv1T93zxx+tC5vjg9dtG1/TSCM+Ny4nIBMYDxIrCnME9wWvBJ8Jww0HFl8dtyrvNetGi1SnaBd8q5I7pI+/d9K/6igBlBi8M3BFgF60cuSF2Jtwq3y53Mpw1RzhyOhc8ND3GPcw9Rj02PJ06fzjiNcwyQy9PK/smTyJWHR0YrRIVDWAHnAHW+xr2dvD26qjlluDN21fXPtOLz0fMecknx1fFDMRJww/DYcM7xJzFgsfnycfMGdDY0/nXddxA4U/mmOsO8aT2Tvz+AaoHQg28EgkYHx3yIXcmoypuLs8xvjQ1Ny45pTqXOwI85Ds/OxQ6ZTg3No8zcjDoLPooryQSIC4bDRa8EEYLtwUdAIX6+fSI7z7qJuVM4Lvbfted0yLQFM16ylrIuMaZxf/E6sRbxVLGysfCyTTMG89w0ivWRdqz3mvjY+iP7eTyVvjX/VsD1wg+DoMTmxh6HRQiYSZVKuktFDHOMxM23DcnOfA5NTr2OTQ58DcuNvIzQDEgLpgqsCZxIuUdFxkRFN4OiwkkBLb+S/nw87Punem85BngwNu61xHUzNDyzYvLm8knyDLHvsbMxlvHa8j4yf/LfM5o0b7UdNiD3OLghuVl6nPvpvTy+Ur/oQTtCSIPMxQVGb0dICI1JvIpUC1GMM0y4TR9Np03PjhgOAI4JTfMNfkzsDH4LtUrUShxJEAgxxsQFyYSFQ3mB6cCZf0o+P/y9e0U6Wnk/d/c2w3YmdSJ0ePOrMzryqLJ1ciGyLPIX8mGyiXMOs6/0K/TAtey2rXeAuOQ51TsRPFU9nj7pQDPBewK7g/LFHcZ6B0VIvMleymjLGYvvDGhMxE1CDaENoU2CjYVNaczxTFzL7YslCkUJkAiHh66GRwVUBBfC1cGQQEr/B33JvJO7aPoLeT43w3cc9g11VjS5M/dzUjMKcuCylTKoMply6HMUc5x0P3S7dU92ePc2OAT5YnpMe4B8+z36fzqAecG0guiEEsVwhn+HfQhnSXvKOQrdS6bMFMymTNpNMI0ozQONAIzgzGVLzsteypbJ+MjGyALHL0XOhOMDr8J3QTy/wj7KvZj8cDsSegJ5AngU9zv2OTVOdP10BzPss26zDfMKsySzG7Nvc570KTSNNUj2G3bCN/t4hPncOv776n0b/lD/hkD5weiDD8RtBX2Gf0dviEyJVAoEytzLWwv+DAVMsAy+TK9Mg8y7zBhL2gtCCtIKC0lviEFHgga0RVqEdwMMwh5A7j++/lN9bnwSOwF6PrjMOCu3H7ZpdYr1BbSaNAoz1bO9c0FzofOeM/Y0KLS0tRj11Dakd0g4fPkA+lG7bLxPfbd+of/MATQCFoNxBEGFhQa5R1yIbMknycwKmEsLi6QL4cwEDEpMdIwDjDcLkEtPyvcKB0mCSOmH/wbFBj2E60PQQu9BioClf0G+Yj0JfDo69nnAuRs4B7dINp51y7VRdPC0ajQ+s+5z+XPftCD0fHSxdT51ovZctyq3yrj6ubi6gnvVPO89zX8tAAxBaIJ+w0zEkEWGxq5HRIhICTbJj0pQSviLB0u7y5XL1Mv5C4LLsosJCscKbgm/SPxIJsdAxoxFi4SAw66CVsF8gCJ/Cj42vOp757rw+cf5Lzgod3V2l3YQNaC1CjTM9Kn0YPRydF40o7TCNXj1hvZqtuK3rbhJeXR6K/sufDj9Cb5d/3LARsGXAqFDosSZRYMGncdniB6IwUmOSgRKoornyxPLZgteS30LAgsuioKKf8mmyTmIeQenRsZGF8UeBBtDEcIDwTR/5P7YfdD80Tva+vD51LkIeE43pvbUtlh183VmdTI01vTU9Ox03PUl9Uc1/zYNNu/3ZfgteMS56fqa+5W8l72e/qj/swC7wYAC/cOzBJ0FugZIR0WIMIiHyUmJ9QoJSoXK6Yr0iubKwErBiqsKPYm6CSIItkf5ByuGT8WnhLVDusK6QbZAsX+tPqx9sPy9e5P69jnmuSb4eHec9xX2pHYJNcV1mXVFtUo1ZvVbtaf1yvZD9tG3cvfmOKm5fDobOwU8N/zxPe7+7n/twOrB40LVA/2Em0Wrxm2HHwf+SEoJAQmiie2KIUp9ikHKrkpDSkEKKEm5yTZIn0g2R3xGs4XdRTwEEUNfQmhBbkB0P3s+Rf2WvK97kjrA+j25CfinN9c3WvbztmI2JvXCtfX1gDXh9dp2KXZN9sb3U/fy+GM5Innveog7qvxVfUV+eX8uQCLBFEIBAyaDwsTUBZhGTgczh4eISEj1CQ0Jjwn6yc/KDgo1icZJwUmmiTdItIgfR7kGwwZ/RW8ElMPyAsjCG0ErwDx/Dr5lPUH8pruV+tD6GblxuJq4FXejtwY2/bZKtm32J3Y3Nh02WPapts83SDfTuHB43LmXel67MPvLvO29lL6+f2jAUgF4AhjDMkPChMeFv8YpxsPHjIgDCKXI9EkuCVJJoMmZSbwJSYlCCSYItsg1B6IHPsZNRc7FBURyQ1fCt4GTwO7/yj8n/gn9crxju5765fo6eV440jhXt+/3W7cbtvC2mraZ9q62mDbWtyk3TzfHeFD46rlTOgi6yfuU/Gf9AT4efv4/nYC7wVZCa0M4w/zEtgVihgDGz8dNx/oIE0iZCMrJKAkwSSPJAokNCMPIpwg4B7fHJ0aIBhtFYsSfw9SDAkJrgVHAt3+dfsa+NH0o/GX7rPr/+iA5jvkNuJ14P3ez93w3GHcItw13JncTd1P3p3fNOER4y7lh+cX6tfswu/Q8vz1PPmL/OH/NAOABrwJ4QznD8gSfRUBGE0aXRwsHrYf9yDtIZYi8SL7IrciJCJEIRkgph7uHPUavxhTFrQT6hD7De4KyAeTBFQBFP7Z+qv3kfSS8bXuAex66SjnD+U045vhR+A833veBt7f3QXeeN4330DgkOEl4/vkDedX6dPrfO5L8Tv0Rfdg+oj9swDcA/oGCAr+DNUPiBIPFWUXhhlsGxMddx6WH20g+iA8ITMh3iA/IFcfKR63HAQbFRnuFpMUCxJbD4oMnQmcBowDdgBi/VP6U/dn9Jfx6O5i7Anq4+f05UHkzuKd4bLgDuCy36Df2N9Y4CDhLeJ94w7l2+bg6BnrgO0Q8MPyk/V5+HD7b/5wAW0EXwc/CgYNrw8zEo0UuBauGGsa7BssHSoe5B5XH4MfZx8EH1sebh0/HM8aJBlBFykV4xJzEN4NKwtgCIQFnAKw/8X84/kQ91L0sPEw79fsquqv6OnmXeUN5P7iMeKo4WThZeGr4TfiBeMV5GPl7uaw6KbqzOwd75PxKPTX9pr5avxB/xcC6AStB2AK+Qx0D8sR+RP4FcUXWxm3GtYbtRxTHa4dxh2aHSsdehyJG1oa8BhOF3gVcxNCEesOcwzgCTgHgATAAf7+P/yJ+eP2U/Tf8YzvX+1d64vp7eeG5lnlaeS540jjGeMs43/jE+Tn5PflQufE6HrqYOxx7qrwBPN79Qj4pvpP/f3/qAJOBeYHawrXDCUPUBFSEygVzRY9GHYZdRo3G7sbABwFHMsbUxucGqoZfRgaF4QVvRPKEbAPdA0aC6gIIwaSA/oAYv7O+0X5zPZp9CLy++/57SHseOr/6LznsObe5Ujl7uTS5PTkU+Xu5cTm0ucX6Y/qN+wL7gfwJvJk9Lr2Jfmd+x/+ogAkA54FCQhhCqEMwg7BEJoSRxTFFRIXKRgJGbAZHRpOGkMa/Rl8GcIY0BeoFk4VxBMOEjAQLw4ODNMJgwcjBbkCSQDc/XP7FvnK9pT0ePJ98Kbu9+x06yDq/+gS6Fzn3uaa5o/mveYl58XnnOin6eTqUOzo7anvjfGS87H15vct+oD82f4zAYoD2AUXCEMKVgxMDiEQ0BFWE68U2RXRFpQXIhh5GJgYfxgvGKgX7Bb8FdwUjBMREm0Qpg6+DLoKnwhyBjcE9AGv/2v9Lvv9+N320/Tj8hLxZO/c7X/sTutN6n7p4uh76EnoTeiH6PbomOlu6nPrp+wG7ozvN/ED8+v06/b/+CH7Tv1//68B2gP8BRAIDwr3C8MNbg/2EFYSjBOVFG4VFxaNFtAW3xa6FmIW2BUcFTAUGBPVEWoQ2w4rDV4LeQl/B3UFYQNFASn/EP3++vj4BPcm9WHzufEz8NLumO2J7Kbr8+pv6hzq++kN6k/qw+pn6znsN+1f7q/vIvG38mj0M/YT+AT6AfwG/g0AFAIVBAwG8wfICYULJw2qDgsQRxFbEkUTAhSSFPMUJBUlFfYUmBQLFFETbBJeESkQ0Q5XDcELEApKCHIGjQSfAqwAuf7K/OP6CflA94z18fNy8hPx1u+/7tDtCu1w7ALswuux683rF+yN7DDt/e3y7g3wS/Gq8ib0vfVp9yj59frM/Kr+iABlAjsEBgbDB2wJAAt5DNUNEQ8qEB4R6hGNEgYTUxN0E2kTMhPQEkQSjhGxEK8Pig5FDeMLZwrUCC4HeQW5A/IBJwBe/pr83vov+ZD3BvaU9DzzAvLp8PPvIu937vXtnO1t7Wjtje3c7VPu8+6576Lwr/Ha8iP0hvX/9oz4KfrS+4P9OP/tAKACSwTsBX4H/ghoCroL8AwIDgAP1Q+FEA8RcxGuEcIRrRFwEQwRgRDSD/8OCw74DMgLfgoeCakHJQaUBPkCWgG5/xn+fvzt+mn59PeT9kj1F/QB8wryM/F+8O3vge867xrvIO9M757vFPCv8GzxSfJE81z0jfXV9jH4nfkW+5r8JP6x/z0BxgJHBL0FJQd8CL4J6Qr7C/EMyQ2ADhcPig/bDwcQDhDxD7APTA/GDh4OVw1yDHILWQopCeYHkgYvBcMDTwLXAF//6f14/BH7t/lr+DL3DvYC9Q/0OPN/8uXxa/ET8d3wyfDY8AnxXPHQ8WPyFfPk8830z/Xn9hP4T/ma+vD7Tv2x/hQAeAHWAi0EegW4BucHAwkJCvcKzAuFDCINoA3/DT4OXA5ZDjcO9A2RDRENcwy6C+YK+wn6COYHwAaNBU4EBgO5AWkAGv/N/Yf8SvsY+vX45Pfl9vz1K/Vz9NXzVPPw8qryg/J68pDyxPIW84XzEPS19HP1SfYz9zH4P/lc+oT7tvzt/Sn/YwCdAdIC/wMjBTkGQAc2CBgJ5QmaCjcLugshDG0MnAyvDKUMfgw7DN0LZAvRCicKZwmSCKoHswasBZsEfwNdAjcBEADq/sf9qvyW+436kvmm+Mz3BfdU9rn1NvXM9Hz0RvQr9Cv0RvR79Mv0M/Wz9Ur29va294j4avla+lb7W/xn/Xj+i/+dAK4BuQK9A7gEpwWHBlgHGAjECFwJ3glICpsK1gr4CgEL8QrICocKLgq/CToJoQj1BzgHawaRBasEvAPFAskBywDN/8/+1f3i/Pb7FftB+nr5w/gd+Ir3C/eg9kz2Dvbm9db13fX79S/2efbZ9k330/ds+BX5zfmS+mP7PPwe/QT+7v7Z/8IAqgGMAmgDOgQCBb4FawYJB5YHEgh6CM8IDwk7CVEJUgk+CRUJ2AiHCCMIrQcnB5EG7QU8BYEEvQPxAh8CSgFzAJ7/yf74/S39avyw+wH7XvrJ+UL5zPhn+BT40/ek94r3gveO96z33vci+Hf43PhR+dX5ZvoC+6n7WfwQ/cz9jf5P/xEA0wCRAUsC/gKpA0sE4wRuBewFXAa9Bg4HTgd9B5sHqAejB40HZgcvB+cGkQYsBroFOwWyBB8EgwPhAjkCjQHfADAAg//Y/jD+jf3x/F380vtS+936dfoa+s35j/lf+T/5L/ku+T35W/mH+cL5C/ph+sP6MPun+yf8rvw9/dD9Z/4B/5z/NQDOAGQB9QGBAgYDhAP4A2IEwgQWBV0FmAXGBecF+QX+BfYF4AW9BY0FUQUJBbcEWgT1A4cDEgOYAhkClQEQAYkAAgB+//v+e/4A/or9HP20/FX8APy0+3P7PPsR+/L63vrW+tr66voF+yv7W/uW+9r7J/x8/Nj8Ov2h/Q3+fP7u/mH/0/9FALUAIwGMAfEBUQKrAv0CSAOKA8QD9AMbBDgETARVBFQESgQ2BBgE8gPDA4wDTgMJA70CbQIYAr8BZAEGAacASADq/43/Mv/a/ob+Nv7r/ab9aP0w/f/81vy0/Jr8ifyA/H78hfyU/Kr8x/zs/Bb9R/1+/bn9+f08/oL+y/4V/2D/q//2/z8AhwDNABABTwGKAcEB8wEfAkYCZwKCApcCpQKtAq8CqwKgApACegJfAj8CGwLyAcYBlgFkAS8B+QDCAIoAUwAbAOb/sf9+/03/H//0/sz+qP6I/mz+Vf5C/jP+Kv4k/iP+Jv4u/jr+Sf5c/nP+jP6o/sb+5/4J/yz/UP91/5n/vv/i/wQAJQBGAGQAgQCbALMAyADaAOoA9wABAQgBDAENAQwBCAECAfoA7wDjANUAxgC1AKQAkgB/AGwAWQBHADUAIwATAAMA9v/p/93/0//K/8P/vf+5/7b/tf+2/7f/uv++/8L/yP/O/9X/2//i/+n/8P/2//z/AAAAAAAAAAAAAAAAAAAAAAAAAAAAAAAAAAAAAAAAAAAAAAAAAAAAAAAAAAAAAAAAAAAAAAAAAAAAAAAAAAAAAAAAAAAAAAAAAAAAAAAAAAAAAAAAAAAAAAAAAAAAAAAAAAAAAAAAAAAAAAAAAAAAAAAAAAAAAAAAAAAAAAAAAAAAAAAAAAAAAAAAAAAAAAAAAAAAAAAAAAAAAAAAAAAAAAAAAAAAAAAAAAAAAAAAAAAAAAAAAAAAAAAAAAAAAAAAAAAAAAAAAAAAAAAAAAAAAAAAAAAAAAAAAAAAAAAAAAAAAAAAAAAAAAAAAAAAAAAAAAAAAAAAAAAAAAAAAAAAAAAAAAAAAAAAAAAAAAAAAAAAAAAAAAAAAAAAAAAAAAAAAAAAAAAAAAAAAAAAAAAAAAAAAAAAAAAAAAAAAAAAAAAAAAAAAAAAAAAAAAAAAAAAAAAAAAAAAAAAAAAAAAAAAAAAAAAAAAAAAAAAAAAAAAAAAAAAAAAAAAAAAAAAAAAAAAAAAAAAAAAAAAAAAAAAAAAAAAAAAAAAAAAAAAAAAAAAAAAAAAAAAAAAAAAAAAAAAAAAAAAAAAAAAAAAAAAAAAAAAAAAAAAAAAAAAAAAAAAAAAAAAAAAAAAAAAAAAAAAAAAAAAAAAAAAAAAAAAAAAAAAAAAAAAAAAAAAAAAAAAAAAAAAAAAAAAAAAAAAAAAAAAAAAAAAAAAAAAAAAAAAAAAAAAAAAAAAAAAAAAAAAAAAAAAAAAAAAAAAAAAAAAAAAAAAAAAAAAAAAAAAAAAAAAAAAAAAAAAAAAAAAAAAAAAAAAAAAAAAAAAAAAAAAAAAAAAAAAAAAAAAAAAAAAAAAAAAAAAAAAAAAAAAAAAAAAAAAAAAAAAAAAAAAAAAAAAAAAAAAAAAAAAAAAAAAAAAAAAAAAAAAAAAAAAAAAAAAAAAAAAAAAAAAAAAAAAAAAAAAAAAAAAAAAAAAAAAAAAAAAAAAAAAAAAAAAAAAAAAAAAAAAAAAAAAAAAAAAAAAAAAAAAAAAAAAAAAAAAAAAAAAAAAAAAAAAAAAAAAAAAAAAAAAAAAAAAAAAAAAAAAAAAAAAAAAAAAAAAAAAAAAAAAAAAAAAAAAAAAAAAAAAAAAAAAAAAAAAAAAAAAAAAAAAAAAAAAAAAAAAAAAAAAAAAAAAAAAAAAAAAAAAAAAAAAAAAAAAAAAAAAAAAAAAAAAAAAAAAAAAAAAAAAAAAAAAAAAAAAAAAAAAAAAAAAAAAAAAAAAAAAAAAAAAAAAAAAAAAAAAAAAAAAAAAAAAAAAAAAAAAAAAAAAAAAAAAAAAAAAAAAAAAAAAAAAAAAAAAAAAAAAAAAAAAAAAAAAAAAAAAAAAAAAAAAAAAAAAAAAAAAAAAAAAAAAAAAAAAAAAAAAAAAAAAAAAAAAAAAAAAAAAAAAAAAAAAAAAAAAAAAAAAAAAAAAAAAAAAAAAAAAAAAAAAAAAAAAAAAAAAAAAAAAAAAAAAAAAAAAAAAAAAAAAAAAAAAAAAAAAAAAAAAAAAAAAAAAAAAAAAAAAAAAAAAAAAAAAAAAAAAAAAAAAAAAAAAAAAAAAAAAAAAAAAAAAAAAAAAAAAAAAAAAAAAAAAAAAAAAAAAAAAAAAAAAAAAAAAAAAAAAAAAAAAAAAAAAAAAAAAAAAAAAAAAAAAAAAAAAAAAAAAAAAAAAAAAAAAAAAAAAAAAAAAAAAAAAAAAAAAAAAAAAAAAAAAAAAAAAAAAAAAAAAAAAAAAAAAAAAAAAAAAAAAAAAAAAAAAAAAAAAAAAAAAAAAAAAAAAAAAAAAAAAAAAAAAAAAAAAAAAAAAAAAAAAAAAAAAAAAAAAAAAAAAAAAAAAAAAAAAAAAAAAAAAAAAAAAAAAAAAAAAAAAAAAAAAAAAAAAAAAAAAAAAAAAAAAAAAAAAAAAAAAAAAAAAAAAAAAAAAAAAAAAAAAAAAAAAAAAAAAAAAAAAAAAAAAAAAAAAAAAAAAAAAAAAAAAAAAAAAAAAAAAAAAAAAAAAAAAAAAAAAAAAAAAAAAAAAAAAAAAAAAAAAAAAAAAAAAAAAAAAAAAAAAAAAAAAAAAAAAAAAAAAAAAAAAAAAAAAAAAAAAAAAAAAAAAAAAAAAAAAAAAAAAAAAAAAAAAAAAAAAAAAAAAAAAAAAAAAAAAAAAAAAAAAAAAAAAAAAAAAAAAAAAAAAAAAAAAAAAAAAAAAAAAAAAAAAAAAAAAAAAAAAAAAAAAAAAAAAAAAAAAAAAAAAAAAAAAAAAAAAAAAAAAAAAAAAAAAAAAAAAAAAAAAAAAAAAAAAAAAAAAAAAAAAAAAAAAAAAAAAAAAAAAAAAAAAAAAAAAAAAAAAAAAAAAAAAAAAAAAAAAAAAAAAAAAAAAAAAAAAAAAAAAAAAAAAAAAAAAAAAAAAAAAAAAAAAAAAAAAAAAAAAAAAAAAAAAAAAAAAAAAAAAAAAAAAAAAAAAAAAAAAAAAAAAAAAAAAAAAAAAAAAAAAAAAAAAAAAAAAAAAAAAAAAAAAAAAAAAAAAAAAAAAAAAAAAAAAAAAAAAAAAAAAAAAAAAAAAAAAAAAAAAAAAAAAAAAAAAAAAAAAAAAAAAAAAAAAAAAAAAAAAAAAAAAAAAAAAAAAAAAAAAAAAAAAAAAAAAAAAAAAAAAAAAAAAAAAAAAAAAAAAAAAAAAAAAAAAAAAAAAAAAAAAAAAAAAAAAAAAAAAAAAAAAAAAAAAAAAAAAAAAAAAAAAAAAAAAAAAAAAAAAAAAAAAAAAAAAAAAAAAAAAAAAAAAAAAAAAAAAAAAAAAAAAAAAAAAAAAAAAAAAAAAAAAAAAAAAAAAAAAAAAAAAAAAAAAAAAAAAAAAAAAAAAAAAAAAAAAAAAAAAAAAAAAAAAAAAAAAAAAAAAAAAAAAAAAAAAAAAAAAAAAAAAAAAAAAAAAAAAAAAAAAAAAAAAAAAAAAAAAAAAAAAAAAAAAAAAAAAAAAAAAAAAAAAAAAAAAAAAAAAAAAAAAAAAAAAAAAAAAAAAAAAAAAAAAAAAAAAAAAAAAAAAAAAAAAAAAAAAAAAAAAAAAAAAAAAAAAAAAAAAAAAAAAAAAAAAAAAAAAAAAAAAAAAAAAAAAAAAAAAAAAAAAAAAAAAAAAAAAAAAAAAAAAAAAAAAAAAAAAAAAAAAAAAAAAAAAAAAAAAAAAAAAAAAAAAAAAAAAAAAAAAAAAAAAAAAAAAAAAAAAAAAAAAAAAAAAAAAAAAAAAAAAAAAAAAAAAAAAAAAAAAAAAAAAAAAAAAAAAAAAAAAAAAAAAAAAAAAAAAAAAAAAAAAAAAAAAAAAAAAAAAAAAAAAAAAAAAAAAAAAAAAAAAAAAAAAAAAAAAAAAAAAAAAAAAAAAAAAAAAAAAAAAAAAAAAAAAAAAAAAAAAAAAAAAAAAAAAAAAAAAAAAAAAAAAAAAAAAAAAAAAAAAAAAAAAAAAAAAAAAAAAAAAAAAAAAAAAAAAAAAAAAAAAAAAAAAAAAAAAAAAAAAAAAAAAAAAAAAAAAAAAAAAAAAAAAAAAAAAAAAAAAAAAAAAAAAAAAAAAAAAAAAAAAAAAAAAAAAAAAAAAAAAAAAAAAAAAAAAAAAAAAAAAAAAAAAAAAAAAAAAAAAAAAAAAAAAAAAAAAAAAAAAAAAAAAAAAAAAAAAAAAAAAAAAAAAAAAAAAAAAAAAAAAAAAAAAAAAAAAAAAAAAAAAAAAAAAAAAAAAAAAAAAAAAAAAAAAAAAAAAAAAAAAAAAAAAAAAAAAAAAAAAAAAAAAAAAAAAAAAAAAAAAAAAAAAAAAAAAAAAAAAAAAAAAAAAAAAAAAAAAAAAAAAAAAAAAAAAAAAAAAAAAAAAAAAAAAAAAAAAAAAAAAAAAAAAAAAAAAAAAAAAAAAAAAAAAAAAAAAAAAAAAAAAAAAAAAAAAAAAAAAAAAAAAAAAAAAAAAAAAAAAAAAAAAAAAAAAAAAAAAAAAAAAAAAAAAAAAAAAAAAAAAAAAAAAAAAAAAAAAAAAAAAAAAAAAAAAAAAAAAAAAAAAAAAAAAAAAAAAAAAAAAAAAAAAAAAAAAAAAAAAAAAAAAAAAAAAAAAAAAAAAAAAAAAAAAAAAAAAAAAAAAAAAAAAAAAAAAAAAAAAAAAAAAAAAAAAAAAAAAAAAAAAAAAAAAAAAAAAAAAAAAAAAAAAAAAAAAAAAAAAAAAAAAAAAAAAAAAAAAAAAAAAAAAAAAAAAAAAAAAAAAAAAAAAAAAAAAAAAAAAAAAAAAAAAAAAAAAAAAAAAAAAAAAAAAAAAAAAAAAAAAAAAAAAAAAAAAAAAAAAAAAAAAAAAAAAAAAAAAAAAAAAAAAAAAAAAAAAAAAAAAAAAAAAAAAAAAAAAAAAAAAAAAAAAAAAAAAAAAAAAAAAAAAAAAAAAAAAAAAAAAAAAAAAAAAAAAAAAAAAAAAAAAAAAAAAAAAAAAAAAAAAAAAAAAAAAAAAAAAAAAAAAAAAAAAAAAAAAAAAAAAAAAAAAAAAAAAAAAAAAAAAAAAAAAAAAAAAAAAAAAAAAAAAAAAAAAAAAAAAAAAAAAAAAAAAAAAAAAAAAAAAAAAAAAAAAAAAAAAAAAAAAAAAAAAAAAAAAAAAAAAAAAAAAAAAAAAAAAAAAAAAAAAAAAAAAAAAAAAAAAAAAAAAAAAAAAAAAAAAAAAAAAAAAAAAAAAAAAAAAAAAAAAAAAAAAAAAAAAAAAAAAAAAAAAAAAAAAAAAAAAAAAAAAAAAAAAAAAAAAAAAAAAAAAAAAAAAAAAAAAAAAAAAAAAAAAAAAAAAAAAAAAAAAAAAAAAAAAAAAAAAAAAAAAAAAAAAAAAAAAAAAAAAAAAAAAAAAAAAAAAAAAAAAAAAAAAAAAAAAAAAAAAAAAAAAAAAAAAAAAAAAAAAAAAoM+ReyIxovFjqPRG1OmFf9X4hnKG7Oc254/Xtzfsl//38RfwR93HmfdVhwEmrbYsVa4VFDSAI+NDPyJ1YceRB4BG34c+yl4B/V+clPvze1yasaoz6bRpRCjkGJTIVugq2ADICOgDCC74TGiKuNk5NwmjSizaomtCy+xsje01nfHusT9xsDHA/7Gp0m5zHAPA9HvVCzWd9hLGmKb+x0RXmKfLV+wX+rf3R+HnyveC50pm4jaLRgalhYT5FFLTtEMOwkQhleDVwBWPVr6bHdRtJCx7+81bKaqSOhg5nLkguNUIikhBCCmYBDgA+B+4IChh6KRI9rlYOcfKRFrcm288Csy9vWaOI47i/6MwYqEvcdgCmrNF8/gkn/UsBbsGO+attw93UIegR95X6mf0V/xH0me3F3rXLlbCZmgF4EVsRM10JTOE4t4yEsFkIKQv5G8mjmxdp2z5bEPLqBsHqnO5/Zl2KR5otyhw+ExYGZgI6ApIHYgyaHhovukFGXop7QpsevdbnCw5jO3dl55VHxSv1ICTIV7CBbLGU38UHoSzNVvF1xZUBsGXLvdrh6a30Bf3d/zH4CfRx6InYccRVrHGRAXJJTKEoVQHE1VSrYHhUTKAcr+znvbOPh17DM9MHFtzquaKVknT+WC5DUiqeGjYONgayA64BLgsiEXIj/jKeSRpnPoC+pVLIpvJjGidHi3IzoavRiAFkMNRjZIywvFDp4REFOWFepXyFnr21Fc9V3VXu+fQp/NX9Afi18AXnCdHpvNmkEYvNZFlGCR0w9ijJXJ8ob/g8PBBf4MOx34AXV9Mlev1u1Aqxmo52buJTFjtSJ74Ueg2iB0oBcgQWDyYWiiYiOb5RKmwijmqvrtOa+dMl+1OvfoOuD93gDZg8xG78m9DG4PPNGjFBuWYZhwWgNb190qHjfe/59/37gfqJ9RnvUd1FzyW1JZ95fmleQTtNEezqeL1UkuhjnDPcABvUt6YjdMdJCx9S8/7LYqXSh55lBk5KN54hKhcKCV4ELgd+B0YPchvqKIZBGllqdTqUQrou3qsFXzHjX9eK07pr6iwZvEigenCmzNFE/YEnJUnZbU2NPalpwZnVoeVZ8K37hfnh+8XxOepV20HEJbE1lrF02Vf9LHEKjN60sUSGpFdEJ4/368TDmodpnz5vEVrqvsLynkZ9BmN2RcowNiLiEeoJZgViBdYKvhAGIYozKkSyYeJ+gp5CwNLp2xD7PdtoC5snxsP2bCXIVFyFyLGc330HBS/hUbV0PZcxrlHFadhR6unxEfrF+/n0tfEN5RnU/cDpqRGNtW8dSZUldP8Y0tylJHpcSuwbR+vLuOePC16bM/8Hlt26usKW/na2WipBji0WHOYRFgm+Bt4Eeg5+FN4nbjYKTH5qjof2pGrPlvEjHK9J33RDp3fTDAKcMbxj/Iz4vETpgRBVOGFdVX7tmN228cjx3rnoKfUt+bX5wfVd7J3jmc59uXGgtYSJZTVDCRpc84jG9JkAbhQ+nA8L37+tJ4OvU8Mlvv4C1Oqyzo/2bKpVJj2eKkIbNgyOCl4EpgtmDoYZ+imSPSpUhnNujZqyutZ6/Icod1XvgIOzx99QDrw9nG+AmATKwPNZGWlApWS1hVWiRbtFzC3g1e0h9Pn4WftB8cHr6dnZy7mxwZgpfzFbJTRdEyjn6Lr8jNBhyDJQAtvTx6GDdHdJDx+q8KLMWqsWhS5q4kxmOfonvhXSDFYLSga6CpoS1h9WL/ZAglzGeH6bZrku4YMIAzRPYgeMv7wT74gayElgeuCm6NEQ/PkmSUitb9WLfadlv1XTIeKl7cn0efq19Hnx2ebt19XAva3Zk2VxqVDxLY0H2NgwsvyAoFWEJhf2v8fnlftpYz6HEcbresP+n6J+qmFeS/YyniGCFL4MZgiCCRYOFhdqIPo2lkgSZTaBvqFex8booxeTPDduJ5kDyFf7tCbAVQiGILGk3zEGaS7xUHl2tZFhrD3HGdXF5CnyJfet9MH1Ze2t4bHRkb2BpbmKcWv1RpEinPhw0Gim8HRoSUAZ4+qzuB+Ok153MC8IFuKKu+KUanhqXCJHyi+OH5IT9gjCCgoLvg3aGEIq2jl2U95p2osqq3rOfvffHzdIK3pPpT/UjAfQMqRglJE8vDTpIROhN11YBX1Rmv2wzcqR2CHpXfI19pX2hfIN6TncMc8RthGdZYFNYhk8ERuQ7PDEkJrcaDA9AA273rusc4NPU7Ml/v6W1dKwApF2cm5XLj/qKMod7hN2CW4L1gquEeYdXiz+QI5b3nKykMK1wtlbAzMq71Qnhnuxf+C8E9w+bGwAnDDKnPLhGKVDkWNVg6mcUbkVzcHeMepJ8fn1NfQB8mnkhdptxFGyZZTZe/1UETVtDGjlXLisjsBf/CzMAZ/S16DjdCtJFxwC9U7NUqheir5oulKCOFIqThiaE0YKYgnyDeYWNiK+M15H4lwWf7qahrwq5FMOnza3YDOSq72z7OAf1Eoce0ynANDU/G0lcUuFamGJwaVhvRHQoePx6uXxcfeJ8THugeOJ0G3BWaqBjCFyfU3lKq0BJNm0rLyCoFPIIKP1l8cPlXNpLz6jEjLoOsUKoPqATmdGSh41BiQiG44PYguiCFIRZhrKJF45/k9yZIKE8qRyyrbvYxYjQotsQ57Xyef4+Cu4VayGdLGo3uEFyS4BUz1xLZORqinAxdc94WnvOfCd9ZHyHepR3knOLbohomWHNWTVR5UfyPXMzfygwHZ8R5QUg+mfu1uKH15XMF8IluNauQKZ1noeXh5GBjICIj4Wzg/GCS4PAhEuH6YqQjzWVzZtIo5WrobRYvqTIbdOb3hXqwPWCAUAN4RhJJF8vCTovRLtNllatXu5lR2yqcQx2Ynmle89833zTe695d3YycutsrGaFX4ZXwE5IRTI7lzCNJS8alQ7bAhv3buvw37vU6MmQv8u1raxNpLycDZZOkIyL0ocphZeDHoPBg32FT4gwjBiR+5bMnXyl+a0wtwvBdstX1pfhG+3L+IkEPhDOGx8nFzKdPJpG90+eWHxgf2eYbbhy1Hbjed17vnyFfDF7xnhJdcJwPGvDZGVdM1VBTKJCbDi2LZgiLBeMC9P/GfR76BLd+NFHxxa9fbOSqmmiFJujlCePqoo3h9aEjYNdg0iETIZjiYiNsJLPmNmfvKdnsMe5xsNNzkXZleQi8NT7jQc3E7Ue7SnFNCY/+EgkUpZaO2IAadhutHOKd1B6AnyafBh8fHrLdwp0Qm9+actiOFvWUrlJ9D+fNdAqoB8pFIQIzfwc8Y3lO9o+z6/EqLo9sYaolaB8mUuTEo7aia+GloSWg6+D44Qth4mK8I5XlLKa8qEIquCyZ7yIxirRN9yU5ynz2/6OCioWlCGyLGo3pEFKS0RUgFzpY3BqBnCddC14q3oUfGN8mHu1eb52unKybbFnxmD/WG5QJ0c/Pcwy5ielHCQRfAXJ+SPupuJr143MI8JGuAuviKbQnvWXBZIPjR2JOYZphLKDFISPhSCIwItokA2WopwYpF+sY7UQv1DJDNQr35XqMPbfAYsNGBltJG4vBDoWRI5NVVZZXodlz2sicXV1vXjzehN8GXwHe914oXVacRNs12WzXrpW+02MRII68y/4JKkZIA52Asn2MOvF36TU5smiv/G156yapBydfpbQkB6Mc4jWhU+E4IOLhE2GJIkHjfCR0pegnkqmwK7ut8DBHszy1iPil+01+eIEhBAAHD0nITKTPHxGxE9YWCNgFWccbSxyOXY6eSh7/3u9e2N68ndydOpvZWruY5VcaVR/S+pBvzcWLQciqhYbC3T/zfNB6Ozc5tFJxy29qLPRqruieJsZla2PP4vbh4aFSIQhhBSFHYc5il+Oh5OlmaugiKgssYO6d8TyztzZHOWa8Dr84Qd3E+IeBirKNBc/1UjtUUxa3WGRaFhuJHPrdqV5S3vZe097rXn3djNza26oaPdhaVoOUvlIPz/1NDQqEx+rExcIcvzU8FnlGtoxz7fExLptscmo66DkmcWTnI5zilWHSYVThHWEsIX/h1+Lx48ulYabwqLSqqOzIL01x8vRytwY6JzzPP/dCmYWvCHGLGk3kEEhSwhUMFyHY/1pgm8KdIt3/Xlbe6B7znrleOp15HHbbNxm9F8yWKhPakaNPCYyTSccHKsQFQV0+eHtd+JQ14bMMMJnuECv0aYrn2KYg5KcjbmJ44YehXGE24RdhvOIlow/keOWdZ3npCetIrbGv/rJqdS63xTrnvY8AtUNTxmPJH0v/jn8Q2BNFFYFXiFlV2uacN50GHhCeld7VXs7egt4zHSEcD1rAmXjXe9VOE3TQ9M5US9kJCQZqw0TAnj28uqb347U5Mm1vxe2Ia3npHyd8JZSka+MEomDhgeFoYRUhR2H94ndjcaSp5hynxenhq+suHPCxcyM167iEu6f+TkFyBAyHFsnKjKIPF1GkU8SWMpfqmagbKBxn3WTeHV6Qnv3epV5IHedcxRvj2kbY8ZboVO/SjNBEzd3LHYhKharChX/gfMJ6Mfc1dFNx0S91LMQqw2j3JuPlTOQ1It9iDWGAoXlhN+F7ocNizWPXZR5mnuhU6nwsT27J8WVz3Lao+UQ8Z/8NAi3Ew4fHirONAc/sUi1UQFagGEiaNhtlXJOdvp4lXoZe4d63ngkdl5ylG3TZyVhnFlIUTtIiz5NNJkphh4vE6wHGfyN8CXl+tkmz8DE4LqesQ2pQqFNmj+UJY8Mi/uH+4UPhTqFfIbQiDOMnZADllmckaObq2S02L3ix2vSW92a6A70nP8rC6EW4yHZLGg3ekH4SstT4FslY4lp/m53c+p2UHmiet56BHoWeBd1DnEFbAhmI19nV+ROr0XcO4ExtyaUGzMQrgQf+Z/tSOI213/MPsKJuHavGaeGn8+YAZMqjlWKjIfThS+FooUqh8SJa40VkriXR560pe2t4bZ6wKPKRdVI4JLrC/eXAh4OhBmxJIov+DniQzJN01WxXbpk4GoScEd0dHeSeZ16kXpweTt3+HOub2dqL2QUXSZVd0waQyY5sC7RI6AYOA2yASn2tepy33nU48nHvz62W600pdudYZfUkUCNsYkuh76FYoUchuuHyoqyjpyTe5lCoOOnS7BnuSTDa80k2Dfji+4H+pAFDBFiHHcnMzJ9PD1GXk/MV3FfP2YlbBVxBXXrd8J5hXoyesl4T3bJcj9uumhJYvha2lL/SX5AaTbaK+ggqhU8Crj+NvPR56PcxdFRx1y9/7NPq1+jQJwElriQaYwgieSGu4WnhaiGvYjgiwqQMpVMm0qiHaqysva71cU30AbbKOaF8QL9hQj2EzkfNSrSNPY+jEh9UbZZImGzZ1htBnKwdVB44HlaesB5EXhSdYpxwGz/ZlVg0ViDUH9H2T2nMwAp/B20EkIHwPtI8PPk29kbz8nE/brPsVGpmKG2mriUr4+ki6GIrIbLhf6FR4egiQeNcpHXliudX6RirCO1jr6NyAnT690b6X70+/93C9oWCSLrLGc3ZUHOSo5TkVvDYhZpem7kckp2o3jqeR56PHlHd0R0OnAxazVlVF6dViJO9UQtO94wISYOG70PSATM+F7tG+Ic13rMTMKruKuvYqfinzuZfpO3jvGKNIiHhu2FaIb2h5WKPo7pkouYGJ+AprOunrctwUvL4NXU4A/sd/fxAmUOuRnSJJgv8TnHQwNNkVVcXVRkaGqLb7Fz0HbjeON5znmmeGx2JnPabpRpXmNGXF5Ut0tkQno4ES4/Ix4YxgxRAdr1eepK32XU4snbv2W2lq2CpTue0pdVktGNUIrah3SGIYbjhriIm4uGj3CUTZoRoa2oDrEiutTDD8662L/jBO9v+uUFTxGSHJMnOzJxPB1GK0+FVxlf1GWpa4pwa3RFdxB5yXltef53gHX2cWtt52d4YSxaFFJCSco/wTU+K1ogLBXPCVz+7PKa54DcttFVx3W9LLSOq7GjpJx5lj6R/YzBiZKHc4ZohnGHi4myjN6QBZYdnBij5apzs668gsbY0JnbrOb58WX91gg0FGQfTCrVNOU+Z0hFUWpZxWBEZ9lsd3EUdad3K3mcefp4RXeCdLdw7GstZoZfBljAT8RGKD0CM2goch06EtkGafsD8MHkvdkQz9PEG7sAspWp76EemzKVOJA7jEWJXIeFhsGGEIhvitmNRZKql/udK6UoreG1Q782yabTet6b6e30WADDCxMXLyL9LGQ3T0GlSlFTQVthYqNo921Scqp193czeV15dHh6dnNzZ29eamRkhl3VVWFNPUR/Oj0wjSWIGkcP5AN5+B7t7+ED13TMW8LNuOGvq6c9oKiZ+5NEj4yL24g6h6qGLYfCiGWLEI+8k12Z559Kp3evWrjfwfHLedZf4Yrs4fdKA6wO7RnyJKQv6jmsQ9VMT1UIXe5j8WkEbxtzLnY0eCp5DXndd551VHIHbsFojWJ6W5hT+EquQdA3cy2vIp0XVQzxAI31P+oi31HU4snvv4y20a3PpZueQ5jWkmGO7oqEiCmH4Iaqh4SJa4xYkEKVHpvfoXWpz7HbuoPEsc5Q2Ubkeu/V+jkGkRHAHK4nQjJkPP1F904+V8BeamUua/9v0nOfdl94DXmqeDR3sXQlcZhsFmepYGJZUFGGSBc/GjWkKs4fsBRiCQH+pPJl517cp9Fax469WLTOqwOkCJ3ulsORkY1jij+IK4cphzmIWIqCjbCR2JbunOSjrKsytGS9Lcd30SrcL+dr8sb9JQlwFI0fYirXNNQ+QkgNUR9ZaGDVZlps6XB4dP52d3jfeDV4enazc+VvGmtcZbhePlf+TgpGeTxeMtEn6hzCEXEGE/u/75HkoNkHz93EObsxstqpRqKGm6uVwJDSjOmJDIg/h4SH2Yg9i6qOF5N7mMqe9qXtrZ629r/eyULUCN8Z6lv1tQANDEsXUyINLWE3OEF6ShRT8VoAYjBodG3AcQp1S3d9eJ54rneudaRylW6MaZRjulwOVaFMhkPTOZ0v+iQEGtMOgQMo+ODsw+Hr1nDMasLwuBew9KeYoBWaeJTQjyaMgonsh2WH8IeMiTOM4Y+OlC6atKATqDmwFLmPwpbMEdfo4QTtS/iiA/IOHxoSJbAv4jmQQ6ZMDVWzXIhjeml9boZyi3WGd3F4THgVd9F0hHE2bfBnvmGvWtNSO0r6QCc31iwgIh0X5QuTAED1Ber83j7U48kDwLS2DK4dpvqetJhXk/GOi4suid6HnodviE+KOo0pkRSW7purojyqj7KSuzDFU8/k2cvk8O85+4wG0RHuHMknSTJXPN1Fw074Vmde/2SzanVvOnP6da53U3jnd2t243NUcMdrRWbcX5lYjVDLR2Y+dDQLKkMfNBT3CKj9XPIw5zzcmdFgx6e9hbQOrFWkbJ1jl0eSJI4Di+uI4ofoh/+IJItSjoGSqJe8na+kcazwtBm+18cV0rrcsOfc8ib+dAmsFLYfdyrYNMI+HUjUUNRYCmBnZttrW3Dcc1Z2xHcjeHF3sHXkchRvSWqMZOxddlY9TlJFyzu8MTwnYxxKEQsGvvp972HkhNn+zujEV7tjsh6qnKLvmySWSZFpjY2Ku4j4h0WIoYkKjHmP6JNMmZifv6awrlq3qMCFytzUlN+W6sj1EAFXDIIXdyIdLV43IUFQStZSoVqeYb1n8mwvcWx0oHbId+B36HbjdNVxxW28aMVi71tIVONL0UIoOf4uaSSCGWEOHwPY96LsmOHT1mzMesIUuU6wPajzoIGa9ZRckMCMKYqdiCCIs4hVigGNsZBelf2agaHbqPqwzLk+wznNp9dy4n/ttPj4AzIPSBohJaUvuzlNQ0VMj1QZXNFiqGiRbYFxb3RVdi53+na3dWpzGHDIa4RmWWBTWYVR/kjUPxk25itQIXAWXws1AA31/+kj35TUacq4wJi3Ha9bp2KgQ5oMlciQgI09iwKK04mwipaMgo9tk02YF56/pDWsZ7REvbfGq9AJ27nlo/Cv+8IGxRGfHDYnczE/O4NEK00iVVhcu2I+aNNscnARc6t0PHXDdEJzvHA3bbpoUWMHXetVDk6ARVc8pTKCKAUeRRNaCF/9a/KW5/vcsNLNyGm/mLZvrgCnXKCRmq2VupHCjsuM2ovviwyNLo9OkmeWb5taoRuooq/et73AKsoQ1Fje6+ix85H+cgk+FNoeLyklM6U8m0XzTZhVelyKYrpn/WtMb55x7nI5c39ywnAFbk9qqWUdYLhZiFKfSg1C5jhALzAlzRovEG0Fovrj70rl79rp0FDHOL63td+twqZxoPiaZpbEkhmQbY7DjRuOdY/PkSKVZpmTnpykc6sJs0y7KsSOzWTXlOEI7Kf2WgEJDJsW+SAKK7k07j2WRp1O8VWBXD5iHGcQaxBuF3AfcSdxLnA3bkZrY2eWYupcbFYrTzhHpD6ENesr8SGqFzANmAL+93btGeMA2UDP8MUkvfK0a62gpqCgeps4l+SThZEikLyPVJDqkXmU+5dpnLeh26fGrmi2r76Kx+PQptq85A/vh/kLBIUO3Rj7IsksLzYaP3RHLE8uVm1c2WFnZgxqwGx9bj9vBm/QbaJrgGhyZIFfuFkkU9VL20NIOzAypyjEHpwURwrd/3T1JOsE4S3Xs82txC68SrQTrZmm6qAUnCGYGZUFk+iRxJGakmmUK5famm2f3KQXqxOyvrkIwtzKKNTW3dHnAPJO/KIG5xADG+Ekai6JNylANUieT1BWPlxaYZll8Whba9FsUG3XbGhrBWm1ZX5ha1yIVuFPhkiHQPg36y50JaoboxF1Bzn9A/Pt6Azfd9VDzIfDVLu/s9esraZOocacIJlklpeUvpPbk+2U8ZbjmbyddKL+p1CuWrULvVTFIc5d1/Tg0Orb9P7+IAkuEw4dqybwL8Y4GkHaSPRPV1b2W8NgtWTBZ+JpE2tRa5tq9WhgZuRiiF5WWVtTo0w/RT89tTS1K1MipRjADrsErvqt8NHmL93d0/DKfcKXuk+ztqzbpsqhkJ01msKXPJallf+VSpeCmaKcoqB6pR+rg7GZuE/AlMhW0YDa/uO77Z/3lAGEC1oV/R5ZKFgx5jnwQWNJLlBDVpRbFGC5Y31mV2hFaURpVGh4ZrRjD2CQW0JWMlBtSQJCAzqBMZAoRR+0FfMLGQI8+HLu0ORt21/SusmQwfa5+7KwrCKnX6JxnmCbNJnxl5qXMJixmRqcZZ+Ko4GoPa6xtM+7h8PHy3zUkt315o/wS/oSBM8NaxfRIOsppTLqOqlC0ElOUBZWGVtNX6liJGW6ZmdnKWcCZvRjA2E3XZhYMVMOTT1Gzz7SNlsufCVKHNgSPQmQ/+T1UOzr4sjZ/tCfyMDAcLnCssSsg6cMo2ifn5y4mreZnpltmiKcuZ4sonSmhqtWsdi3/b60xuvOkdeR4NfpTvPg/HcG/w9hGYkiYCvVM9I7RkMiSlNQz1WGWnBeg2G5Ywxle2UDZaZjZ2FMXlxaoFUiUPBJFkOmO68zRSt6ImIZERCeBh79pfNK6iHhP9i5z6HHC8AGuaSy8az8p8+jdKDxnU6cjJuvm7Scm55eofekXqmJrmu0+LohwtTJAtKW2n7jpez39V7/xAgVEj0bJSS6LOk0njzIQ1hKP1BvVdxZfV1KYDtiTmOAY9BiQWHVXpJbgVepUhdN2Eb4P4k4mjA/KIofjhZhDRYExfqA8V7oct/R1o/Ov8Zxv7e4n7I4rY2oqaSVoVef9J1wncydBp8boQikxKdIrImxercQvjrF6MwI1YndV+Zd74j4wgH3ChEU/RymJfgt4TVOPS9EdUoRUPdUG1l1XP1erWCBYXlhk2DTXjxc1VikVLVPEUrHQ+Q8eDWULUklrBzPE8YKpgGF+HXvjObf3X/Vgs34xfO+gri1spetNamZpcmizqCrn2Kf9J9goaKjtaaSqjCvhbSDuh/BR8juz//Xa+Ac6QDyA/sOBBAN8xWiHgsnGi+9NuM9fER4SstPZ1REWFhbnV0NX6ZfZV9NXl5cn1kVVslRxEwRR79A2jl0MpwqZSLhGSQRQghP/172hO3W5GbcSdSQzEzFj75ouOOyDq70qZ2mEaRWonChYKEnosKjLqZlqWGtFrJ8t4W9JMRJy+XS5to6483rjfRm/UIGEA+6Fy0gVSghMH83Xj6uRGJKbE/BU1hXKFosXF5dvF1GXf1b41n+VlRT7k7WSRdEvz3cNn0vtCeTHysXjw7VBQ/9UPSt6zrjCdsu07nLvMRGvma4KrOcrsiqtadrpe+jRKNro2OkLKa/qBisL7D5tG26fsAexz7OzdW73fXlae4E97H/XQj2EGYZnCGEKQ0xJji+PsZEMkr1TgVTV1blWKlaoFvHWx1bplljV1pUk1AWTO1GJUHJOukzlSzdJNIciBQQDH4D5/pc8vHpueHH2S7S/cpGxBe+friJs0GvsavhqNeml6UlpYClqaabqFSrzK77stm3Wb1vww7KJdGm2H/gnujw8GT55AFfCsIS+BrwIpgq3jGyOAQ/xkTrSWhOM1JCVZBXF1nUWcVZ61hHV95UtVHTTUFJCkQ6Pt03AzG8KRYiJRr6EacJQAHY+IHwTuhT4KDYSNFcyurDAb6uuP+z/K+vrCCqVKhOpxKnoKf2qBCr662Asca1s7o9wFbG8cz/02/bMeMy62Lzrfv/A0gMdBRwHCokkSuUMiM5MD+sRIxJxE1MURpUKlZ1V/tXuVewVuJUVVIOTxNLcEYtQVg7/TQrLvImYR+LF4APVAca/+L2wO7G5gfflNd+0NXJp8MEvve4i7TMsMGtcKvgqROpC6nJqUmriq2FsDO0jbiIvRnDM8nIz8nWJ97Q5bPtvvXf/QIGGA4MFs0dSSVwLDAzezlDP3tEFkkLTVFQ4FKzVMVVFVaiVW1UeVLKT2ZMVkijQ1g+gDgoMmErOCS+HAQVHA0YBQv9BPUY7Vjl1t2i1s7PaMl+wx++VrkutbGx5a7SrHur5aoPq/qro60HsB+z5bZRu1fA7MUEzJHShNnN4FvoHvAD+Pn/7QfOD4sXEB9OJjQtsjO6OT4/MUSJSD1MQk+UUSxTB1QkVIJTI1IKUDxNwEmdRdxAijuyNWAvpSiPIS0akhLOCvMCFPtA84rrBOS/3MvVOM8UyW7DUr7Nuee1qbIcsESuJa3DrB2tM64CsIeyurWVuQ++HsO2yMrOTdUv3GLj1Op08jL6+wG/CWsR7xg5IDgn3i0aNN85ID/RQ+dHWkshTjdQllE9UilSWlHUT5lNrkoaR+dCHD7FOO4ypiz5JfcesBc1EJYI5QA1+ZTxFurK4sLbDdW7ztrIdsOdvlm6tLa1s2Sxxa/crqyuNK9zsGayCLVUuEK8ycDexXbLhNH618re5OU47bX0SvzmA3gL7xI6GkghCShuLmk07DnrPlpDMEdkSu5Myk7zT2ZQI1ArT39NJEsfSHhENUBiOwk2NzD4KVwjcBxGFewNdAbw/m/3AvC76Krh39pq1FjOuMiWw/+++7qVt9O0vLJVsaCwn7BTsbiyzLSLt+266757w5XIKs4w1JjaVOFT6Ijv4PZM/rkFGA1ZFGobPCK/KOUunzThOZ4+zUJkRlpJqktOTUJOhU4VTvVMJ0uuSJJF2EGKPbE4WDOMLVon0CD8Ge8SuQtpBBH9wfWJ7nrnpOAW2t/TDs6vyM7Ddr+yu4m4A7YltPOycLKcsnmzArU1tw26g72PwSfGQsvT0M/WJt3M47Dqw/H1+DQAcwegDqoVghwXI1wpQy+8NL45Oz4rQoRFP0hVSsNLhUyZTP9LukrLSDdGBUM8P+Q6CDaxMO4qyiRUHpsXrRCbCXQCSvss9CntUua332bZbtPczb3IHMQEwH28kLlEt5y1nrRKtKK0pbVQt6C5j7wWwC3Ey8jlzXDTX9mk3zLm+Ozp8/P6BwIWCQ4Q4RZ/Hdkj4CmIL8I0hDnCPXRBkUQSR/FIK0q8SqNK4kl5SG1GwUN8QKU8RjhoMxcuXihKIuobTRWADpMHlwCc+a/y4utE5eTe0NgW08PN48iBxKbAXL2pupW4IrdVti+2sLbXt6K5DLwPv6XCxcZmy37QANbg2xHihegt7/n12/zCA6AKZBEAGGQegSRLKrQvsDQzOTQ9qkCMQ9RFfkeFSOhIpki/RzVGDURLQfU9FDqwNdMwiCvbJdofkhkSE2cMogXS/gX4S/G06k/kKt5T2NbSws0gyfvEXcFOvtS79bm1uBe4HLjFuA669rt3vo3BL8VWyfjNC9OC2FLebeTG6k3x9Pes/mUFEQyhEgUZLx8RJZ4qyS+HNM04kTzLP3VChkT9RdRGC0egRpZF7kOsQdY+cjuJNyIzSC4GKWgjex1NF+sQZArGAyP9hvYA8KDpc+OJ3e7Xr9LXzXPJi8UowlK/D71ku1W65LkTut+6SLxLvuLAB8S0x9/LgNCM1fbatOC35vPsWPPZ+WUA8AZqDcUT8RnhH4gl2CrGL0c0UTjaO9s+TEEqQ25EF0UkRZREaEOkQUw/ZDz1OAU1nTDJK5ImBCEtGxoV2A52CAICi/sg9c7upOix4gHdodef0gTO28kuxgXDZ8BZvuG8Aby7uxC8/7yGvqHAS8N9xjLKYM790gDYXN0F4+/oDO9O9af7CAJkCKsO0BTEGnog5iX6Kq0v8jPANw872D0UQL5B00JRQzVDgUI3QVk/7Dz2OX02iTIjLlYpKySxHvEY+xLaDJ4GVAAM+tHztO3B5wbikdxt16bSR85ZyubG9cONwbO/a764vZu9Fb4kv8XA9sKxxe/IqczX0G/VZtqy30XlFOsR8S/3X/2TA78J0w/CFX4b+yAsJgUrfC+GMxs3MjrEPMw+RUAtQYBBP0FqQAM/Dj2POow3CzQVMLMr7ybUIW0cxxbvEPEK3AS+/qT4m/Ky7PbmdeE53FDXxNKgzuzKscf3xMPCG8EBwHm/g78fwEzBBsNLxRTIW8sZz0TT1Ne/3PjhdOcm7QLz+vgB/wcFAgvjEJwWIBxkIVsm+io2LwYzYjZCOaA7dT3APns/pz9CP04+zTzDOjQ4JjWgMastTymWJIwfOxqwFPcOHQkxAz/9VPd98cnrROb74PnbStf40g3Pk8uPyArGCcSQwqPBQ8FywS7CdsNHxZ3HcsrAzX/Rp9Ut2gnfLeSQ6SXv3vSv+ooAZAYuDNoRXReqHLUhcibXKtoucjKWNUE4azoRPC49wD3GPUA9LzyWOnk43DXGMj4vSyv3JksiUx0aGKsSEw1fB5sB1vsb9njw+eqr5Zrg0dtb10LTkM9MzH/JLcddxRLET8MWw2fDQcSjxYjH7cnMzB/Q3dP+13ncQ+FS5prrD/Gl9k78/gGpB0ENuhIHGBwd7iFzJp8qaS7JMbg0LzcoOZ86kTv7O947OTsNOl84MTaJM20w4yz1KKskDyArGwsWuhBEC7YFHQCF+vv0iu9A6inlUOC/24LXotMn0BnNgMpgyL/GoMUFxfHEYsVYxtDHyMk6zCDPddIw1knatt5u42boke3m8lf41/1bA9YIPA6BE5gYdh0RIl0mUSrkLQ4xyDMNNtY3IDnpOS467zktOeo3KDbsMzsxGy6TKqsmbSLiHRQZDhTcDooJJAS2/kz58vO17qDpv+Qd4MTbv9cW1NHQ+M2Ry6LJLsg5x8XG0sZix3HI/skFzILObtHD1HnYh9zl4InlZ+p176j08/lK/6AE7AkgDzAUEhm5HRwiMSbtKUotQDDHMts0dzaWNzg4WTj8Nx83xTXzM6ox8i7QK0wobSQ8IMQbDhckEhMN5QenAmX9KfgB8/ftF+ls5AHg4NsR2J7UjtHozrPM8cqpydzIjMi6yGXJjMoszEDOxdC00wfXttq53gXjk+dX7EbxVfZ5+6UAzwXqCuwPyBR0GeUdESLvJXYpnixgL7YxmzMKNQE2fjZ+NgM2DjWhM78xbS+wLI8pECY7IhsetxkZFU4QXgtWBkEBK/we9yfyUe2m6DHk/N8R3HjYOtVe0urP481PzDDLicpbyqfKbMuozFfOd9AC0/PVQtnn3NzgFuWM6TPuAvPt9+n86gHmBtELoBBIFb8Z+h3wIZgl6ijfK28ulTBNMpIzYjS7NJ00BzT8Mn0xjy81LXUqViffIxcgCBy6FzcTig6+CdwE8v8I+yv2ZfHC7EzoDOQN4Ffc9Njp1T/T+9Aiz7jNwcw+zDDMmMx1zcPOgdCq0jnVKNhx2wzf8eIW53Pr/e+q9HD5Q/4YA+YHoAw9EbEV8xn5HbohLSVLKA0rbS1lL/IwDzK6MvIytjIIMukwWy9iLQMrQigoJbohAR4EGs4VZxHbDDIIeAO4/vz5T/W78EvsCej+4zTgs9yD2avWMdQc0m/QLs9czvvNDM6Nzn/P3tCo0tfUaddV2pbdJOH35AbpSO208T723vqH/zAEzwhYDcIRAxYQGuEdbiGuJJknKypcLCcuii+BMAkxIjHMMAcw1i47LTkr1ygYJgQjoh/4GxEY9BOrDz8LvAYqApb9B/mK9Cjw6+vc5wbkcOAi3SXaftc01UvTyNGv0AHQv8/sz4XQitH30srU/9aQ2Xfcrt8u4+3m5eoL71bzvfc1/LQAMQWgCfkNMBI+FhcatR0OIRsk1SY3KTsr3CwXLukuUC9NL94uBS7ELB4rFimyJvgj7CCXHf8ZLhYsEgEOuAlbBfIAifwp+Nzzq++h68bnI+TB4Kbd2tpj2EbWidQu0zrSrdGK0dDRf9KU0w7V6dYg2a/bj9664Snl1Oiy7Lvw5fQn+Xf9ywEbBlsKgg6IEmIWCRpzHZkgdSMAJjMoCyqDK5gsSC2RLXIt7SwCLLMqBCn5JpYk4SHgHpkbFRhcFHYQawxGCA8E0f+U+2L3RfNG727rxudW5CbhPd6h21jZZ9fT1aDUztNi01rTuNN51J7VItcC2TrbxN2c4LnjFueq6m3uWPJf9nz6o/7MAu4G/wr1DskScRbkGR0dEiC9IhklICfOKB8qECufK8srlCv6Kv8ppijwJuMkgiLVH+Acqhk8FpwS0w7pCugG2QLF/rX6svbF8vjuUuvc557kn+Hm3nncXdqX2CvXHNZs1RzVL9Wi1XXWpdcx2RXbS93Q35ziquXz6G/sF/Dh88X3u/u5/7YDqgeLC1EP8xJpFqsZshx3H/MhIiT+JYQnsCh+Ke8pASqzKQcp/iebJuEk1CJ4INQd7RrKF3IU7RBCDXsJoAW5AdD97fkY9lzyv+5L6wfo+uQs4qLfYt1x29TZjtih1xHX3dYH143Xb9ir2TzbId1U39DhkOSN58HqI+6t8Vb1Fvnl/LgAigRQCAIMlw8IE0wWXRk0HMkeGCEbI84kLSY1J+QnOCgxKM8nEyf/JZQk2CLNIHge3xsIGfkVuRJQD8YLIghtBK4A8fw7+Zb1CfKd7lrrR+hq5cvib+Bb3pTcHtv82THZvdij2OLYetlp2qzbQt0m31PhxeN35mHpfuzF7zHzuPZT+vn9ogFHBd8IYQzGDwcTGxb7GKIbCh4tIAYikSPLJLIlQiZ8Jl4m6iUgJQIkkyLVIM8egxz3GTEXOBQSEcYNXQrdBk8Du/8p/KD4KfXM8ZHufuub6O7lfeNN4WPfxd103HTbyNpw2m7awNpn22Dcqt1B3yLhSOOv5VDoJusq7lXxofQF+Hr7+P52Au4FWAmrDOAP8BLUFYYY/ho5HTEf4iBHIl4jJSSZJLskiSQEJC4jCCKWINse2hyZGhwYaRWHEnwPTwwICa0FRgLd/nb7G/jT9Kbxmu636wPphOZA5Dvie+AD39bd9txn3CncO9yf3FPdVd6j3zrhFuMz5YvnG+rb7MXv0/L99T75jPzh/zMDfwa6Cd4M5A/EEnkV/RdIGlgcJh6wH/Eg5yGQIuoi9SKxIh4iPiETIKAe6BzwGrsYThaxE+cQ+Q3sCscHkgRTART+2vqt95P0lfG57gXsf+kt5xTlOeOg4U3gQt+B3g3e5t0M3n/ePd9G4JbhK+MA5RLnW+nX63/uTvE+9Eb3YvqI/bIA2wP5BgYK/AzSD4QSCxVhF4EZZhsNHXEekB9mIPMgNSEsIdggOSBRHyMesRz/GhAZ6RaPFAgSWA+HDJsJmgaMA3YAYv1U+lT3afSa8ezuZuwN6ujn+eVH5NPio+G44BTgud+n397fXuAm4TPig+MT5eDm5egd64TtE/DG8pX1e/hx+2/+bwFsBF0HPQoEDawPMBKJFLMWqRhlGuYbJh0kHt0eUB98H2Ef/h5VHmgdORzKGh8ZPBclFd8SbxDbDSkLXwiCBZsCsP/G/OT5EvdV9LPxNO/b7K/qs+ju5mLlE+QE4zfiruFq4WvhsuE94gvjG+Rp5fPmteir6tHsIe+W8Sv02fab+Wv8Qf8XAucErAddCvYMcQ/HEfUT9BXAF1YZsRrQG68cTB2nHb8dkx0lHXQcgxtVGusYSRd0FW4TPhHnDnAM3gk2B38EwAH+/j/8ivnl9lb04vGP72PtYuuQ6fLni+Zf5XDkv+NP4yDjMuOG4xrk7eT95Ufnyeh/6mTsde6t8AfzffUK+Kf6UP39/6gCTQXkB2kK1AwiD0wRThMjFccWOBhwGW4aMBu0G/kb/xvFG0wblhqkGXgYFRd/FbgTxhGsD3ANFwumCCIGkQP6AGL+z/tG+c72bPQl8v7v/e0m7H3qBenC57bm5eVO5fXk2eT75Fnl9OXK5tjnHemV6jzsEO4L8CryZvS89ib5nvsf/qIAIwOcBQcIXwqeDL8OvRCVEkIUwBUMFyMYAxmqGRYaRxo9GvcZdhm8GMoXoxZJFb8TChIsECsOCwzRCYEHIgW4AkkA3P10+xj5zPaW9HzygfCq7vzseesm6gXpGOhi5+XmoOaV5sTmLOfL56LorOnp6lXs7e2t75HxlfOz9ej3L/qB/Nr+MwGJA9YFFQhAClMMSA4dEMsRUROqFNQVyxaOFxwYchiRGHkYKRiiF+YW9xXWFIcTDBJpEKIOuwy4Cp0IcAY2BPQBr/9s/S/7/vjf9tb05vIW8Wjv4e2E7FTrU+qE6ejogehP6FPojej86J/pc+p566zsC+6R7zzxB/Pu9O72Afkj+079f/+uAdkD+wUNCAwK9Au/DWoP8RBREoYTjxRoFREWhxbKFtkWtBZcFtEVFhUrFBMT0BFlENcOJw1bC3YJfQd0BWADRQEq/xH9//r7+Af3KfVk873xOPDX7p3tj+ys6/nqdeoj6gLqE+pW6snqbes/7D3tZe607yfxu/Js9Db2FvgG+gL8B/4NABQCFAQKBvEHxQmBCyMNpg4GEEIRVRI/E/wTjBTsFB0VHhXwFJEUBRRME2cSWREkEMwOUw29Cw0KRwhwBowEngKrALr+y/zl+gz5Q/eQ9fXzdvIX8dvvxO7V7RDtduwJ7Mnrt+vT6x3slOw27QLu9+4S8FDxrvIq9MD1bPcq+ff6zfyq/ogAZAI5BAQGwAdpCfwKdQzRDQwPJRAYEeQRhxL/EkwTbhNjEywTyhI9EogRrBCqD4UOQQ3fC2MK0QgsB3cFuAPxAScAX/6b/OD6MfmT9wr2mPRA8wfy7vD47yfvfe777aLtc+1u7ZPt4u1a7vnuvu+o8LTx3/In9Ir1A/eP+Cv60/uE/Tj/7QCfAkoE6gV7B/oIZAq2C+sMAw76Ds8PfxAJEW0RqBG7EacRahEGEXsQzA/6DgYO8wzDC3oKGgmnByMGkgT4AlkBuf8a/oD87/pr+ff3l/ZM9Rv0BvMP8jjxhPDz74fvQO8g7ybvUu+k7xrwtfBx8U7ySfNg9JH12PY0+J/5GPub/CX+sf88AcQCRQS7BSIHeAi6CeUK9gvsDMMNew4RD4QP1A8AEAgQ6w+qD0YPwA4YDlINbQxuC1UKJgnjB48GLQXBA04C1gBf/+n9evwT+7n5b/g29xL2BvUU9D3zhPLq8XHxGfHj8M/w3vAP8WLx1vFp8hvz6fPS9NP16/YW+FL5nfry+0/9sf4UAHcB1QIrBHcFtgbkB/8IBAryCscLgAwcDZoN+Q03DlUOUw4wDu4Niw0LDW0MtAvhCvYJ9gjiB70GigVMBAQDuAFoABr/zv2J/Ez7G/r5+Of36fYB9jD1ePTb81rz9vKw8onygPKW8sryHPOL8xX0uvR49U32N/c1+EP5X/qG+7f87v0p/2MAnAHRAv4DIAU2Bj0HMggTCeAJlQoxC7QLGwxnDJYMqQyeDHgMNQzXC14LzAoiCmIJjginB68GqgWYBH4DXAI3ARAA6v7I/az8mfuQ+pX5qvjQ9wr3Wfa+9Tz10vSC9E30MvQy9E30gvTR9Dn1uPVP9vv2u/eM+G75XfpY+138af15/oz/nQCtAbgCuwO1BKMFhAZUBxMIvwhWCdgJQgqVCtAK8gr6CuoKwQqBCigKuQk1CZwI8Ac0B2cGjgWoBLoDxALIAcoAzf/Q/tf95Pz5+xj7RPp++cf4IviP9xD3pvZS9hT27fXc9eP1AfY19n/23/ZS99n3cfga+dH5lvpm+z/8IP0F/u/+2f/CAKkBigJlAzcE/wS6BWcGBAeRBwwIdQjJCAkJNAlLCUwJOAkPCdIIgQgdCKgHIgeMBukFOQV+BLoD7wIeAkkBcwCe/8r++v0w/W38s/sE+2L6zflH+dL4bfgZ+Nn3q/eQ94j3lPez9+T3J/h8+OL4Vvna+Wr6Bvut+1z8Ev3O/Y7+UP8RANIAkAFJAvwCpwNIBN8EagXnBVcGtwYIB0gHdweVB6IHnQeHB2AHKQfiBosGJwa1BTcFrgQbBIAD3gI3AowB3wAwAIT/2f4x/o/99Pxg/Nb7Vvvi+nr6H/rT+ZX5ZvlG+TX5NflD+WH5jfnI+RH6ZvrI+jT7q/sq/LL8P/3S/Wn+Av+c/zUAzQBiAfMBfwIDA4AD9ANeBL0EEAVYBZIFwAXgBfMF+AXvBdkFtgWHBUsFBAWxBFUE8AODAw8DlQIWApQBDwGJAAIAfv/8/n3+Av6N/R/9uPxa/AX8uft4+0L7F/v4+uT63frh+vD6C/sx+2H7nPvf+yz8gPzc/D39pP0Q/n7+7/5h/9T/RAC0ACEBigHvAU4CpwL5AkMDhQO+A+8DFQQyBEUETwROBEMELwQSBOwDvQOHA0kDBAO5AmkCFQK8AWEBBAGmAEcA6v+O/zP/3P6I/jn+7/2q/Wz9Nf0E/dv8uvyg/I/8hvyF/Iv8mvyw/M388fwc/U39g/29/fz9P/6F/s3+F/9h/6z/9/8/AIYAzAAOAUwBhwG9Ae8BGwJBAmICfAKRAp8CpwKpAqQCmgKKAnQCWQI5AhUC7QHBAZIBYAEsAfcAwACJAFIAGwDm/7L/f/9P/yH/9/7Q/qz+jf5x/lr+SP45/jD+Kv4p/i3+NP5A/k/+Yv54/pH+rf7L/uv+Df8v/1P/d/+b/7//4v8EACUARABiAH4AmACvAMQA1gDlAPIA+wACAQYBBwEGAQIB/AD0AOkA3QDPAMAAsACfAI0AewBpAFYARAAzACIAEgADAPb/6v/f/9X/zf/G/8H/vf+7/7r/u/+9/8D/xP/J/87/1P/b/+L/6P/v//X/+/8AAAAAAAAAAAAAAAAAAAAAAAAAAAAAAAAAAAAAAAAAAAAAAAAAAAAAAAAAAAAAAAAAAAAAAAAAAAAAAAAAAAAAAAAAAAAAAAAAAAAAAAAAAAAAAAAAAAAAAAAAAAAAAAAAAAAAAAAAAAAAAAAAAAAAAAAAAAAAAAAAAAAAAAAAAAAAAAAAAAAAAAAAAAAAAAAAAAAAAAAAAAAAAAAAAAAAAAAAAAAAAAAAAAAAAAAAAAAAAAAAAAAAAAAAAAAAAAAAAAAAAAAAAAAAAAAAAAAAAAAAAAAAAAAAAAAAAAAAAAAAAAAAAAAAAAAAAAAAAAAAAAAAAAAAAAAAAAAAAAAAAAAAAAAAAAAAAAAAAAAAAAAAAAAAAAAAAAAAAAAAAAAAAAAAAAAAAAAAAAAAAAAAAAAAAAAAAAAAAAAAAAAAAAAAAAAAAAAAAAAAAAAAAAAAAAAAAAAAAAAAAAAAAAAAAAAAAAAAAAAAAAAAAAAAAAAAAAAAAAAAAAAAAAAAAAAAAAAAAAAAAAAAAAAAAAAAAAAAAAAAAAAAAAAAAAAAAAAAAAAAAAAAAAAAAAAAAAAAAAAAAAAAAAAAAAAAAAAAAAAAAAAAAAAAAAAAAAAAAAAAAAAAAAAAAAAAAAAAAAAAAAAAAAAAAAAAAAAAAAAAAAAAAAAAAAAAAAAAAAAAAAAAAAAAAAAAAAAAAAAAAAAAAAAAAAAAAAAAAAAAAAAAAAAAAAAAAAAAAAAAAAAAAAAAAAAAAAAAAAAAAAAAAAAAAAAAAAAAAAAAAAAAAAAAAAAAAAAAAAAAAAAAAAAAAAAAAAAAAAAAAAAAAAAAAAAAAAAAAAAAAAAAAAAAAAAAAAAAAAAAAAAAAAAAAAAAAAAAAAAAAAAAAAAAAAAAAAAAAAAAAAAAAAAAAAAAAAAAAAAAAAAAAAAAAAAAAAAAAAAAAAAAAAAAAAAAAAAAAAAAAAAAAAAAAAAAAAAAAAAAAAAAAAAAAAAAAAAAAAAAAAAAAAAAAAAAAAAAAAAAAAAAAAAAAAAAAAAAAAAAAAAAAAAAAAAAAAAAAAAAAAAAAAAAAAAAAAAAAAAAAAAAAAAAAAAAAAAAAAAAAAAAAAAAAAAAAAAAAAAAAAAAAAAAAAAAAAAAAAAAAAAAAAAAAAAAAAAAAAAAAAAAAAAAAAAAAAAAAAAAAAAAAAAAAAAAAAAAAAAAAAAAAAAAAAAAAAAAAAAAAAAAAAAAAAAAAAAAAAAAAAAAAAAAAAAAAAAAAAAAAAAAAAAAAAAAAAAAAAAAAAAAAAAAAAAAAAAAAAAAAAAAAAAAAAAAAAAAAAAAAAAAAAAAAAAAAAAAAAAAAAAAAAAAAAAAAAAAAAAAAAAAAAAAAAAAAAAAAAAAAAAAAAAAAAAAAAAAAAAAAAAAAAAAAAAAAAAAAAAAAAAAAAAAAAAAAAAAAAAAAAAAAAAAAAAAAAAAAAAAAAAAAAAAAAAAAAAAAAAAAAAAAAAAAAAAAAAAAAAAAAAAAAAAAAAAAAAAAAAAAAAAAAAAAAAAAAAAAAAAAAAAAAAAAAAAAAAAAAAAAAAAAAAAAAAAAAAAAAAAAAAAAAAAAAAAAAAAAAAAAAAAAAAAAAAAAAAAAAAAAAAAAAAAAAAAAAAAAAAAAAAAAAAAAAAAAAAAAAAAAAAAAAAAAAAAAAAAAAAAAAAAAAAAAAAAAAAAAAAAAAAAAAAAAAAAAAAAAAAAAAAAAAAAAAAAAAAAAAAAAAAAAAAAAAAAAAAAAAAAAAAAAAAAAAAAAAAAAAAAAAAAAAAAAAAAAAAAAAAAAAAAAAAAAAAAAAAAAAAAAAAAAAAAAAAAAAAAAAAAAAAAAAAAAAAAAAAAAAAAAAAAAAAAAAAAAAAAAAAAAAAAAAAAAAAAAAAAAAAAAAAAAAAAAAAAAAAAAAAAAAAAAAAAAAAAAAAAAAAAAAAAAAAAAAAAAAAAAAAAAAAAAAAAAAAAAAAAAAAAAAAAAAAAAAAAAAAAAAAAAAAAAAAAAAAAAAAAAAAAAAAAAAAAAAAAAAAAAAAAAAAAAAAAAAAAAAAAAAAAAAAAAAAAAAAAAAAAAAAAAAAAAAAAAAAAAAAAAAAAAAAAAAAAAAAAAAAAAAAAAAAAAAAAAAAAAAAAAAAAAAAAAAAAAAAAAAAAAAAAAAAAAAAAAAAAAAAAAAAAAAAAAAAAAAAAAAAAAAAAAAAAAAAAAAAAAAAAAAAAAAAAAAAAAAAAAAAAAAAAAAAAAAAAAAAAAAAAAAAAAAAAAAAAAAAAAAAAAAAAAAAAAAAAAAAAAAAAAAAAAAAAAAAAAAAAAAAAAAAAAAAAAAAAAAAAAAAAAAAAAAAAAAAAAAAAAAAAAAAAAAAAAAAAAAAAAAAAAAAAAAAAAAAAAAAAAAAAAAAAAAAAAAAAAAAAAAAAAAAAAAAAAAAAAAAAAAAAAAAAAAAAAAAAAAAAAAAAAAAAAAAAAAAAAAAAAAAAAAAAAAAAAAAAAAAAAAAAAAAAAAAAAAAAAAAAAAAAAAAAAAAAAAAAAAAAAAAAAAAAAAAAAAAAAAAAAAAAAAAAAAAAAAAAAAAAAAAAAAAAAAAAAAAAAAAAAAAAAAAAAAAAAAAAAAAAAAAAAAAAAAAAAAAAAAAAAAAAAAAAAAAAAAAAAAAAAAAAAAAAAAAAAAAAAAAAAAAAAAAAAAAAAAAAAAAAAAAAAAAAAAAAAAAAAAAAAAAAAAAAAAAAAAAAAAAAAAAAAAAAAAAAAAAAAAAAAAAAAAAAAAAAAAAAAAAAAAAAAAAAAAAAAAAAAAAAAAAAAAAAAAAAAAAAAAAAAAAAAAAAAAAAAAAAAAAAAAAAAAAAAAAAAAAAAAAAAAAAAAAAAAAAAAAAAAAAAAAAAAAAAAAAAAAAAAAAAAAAAAAAAAAAAAAAAAAAAAAAAAAAAAAAAAAAAAAAAAAAAAAAAAAAAAAAAAAAAAAAAAAAAAAAAAAAAAAAAAAAAAAAAAAAAAAAAAAAAAAAAAAAAAAAAAAAAAAAAAAAAAAAAAAAAAAAAAAAAAAAAAAAAAAAAAAAAAAAAAAAAAAAAAAAAAAAAAAAAAAAAAAAAAAAAAAAAAAAAAAAAAAAAAAAAAAAAAAAAAAAAAAAAAAAAAAAAAAAAAAAAAAAAAAAAAAAAAAAAAAAAAAAAAAAAAAAAAAAAAAAAAAAAAAAAAAAAAAAAAAAAAAAAAAAAAAAAAAAAAAAAAAAAAAAAAAAAAAAAAAAAAAAAAAAAAAAAAAAAAAAAAAAAAAAAAAAAAAAAAAAAAAAAAAAAAAAAAAAAAAAAAAAAAAAAAAAAAAAAAAAAAAAAAAAAAAAAAAAAAAAAAAAAAAAAAAAAAAAAAAAAAAAAAAAAAAAAAAAAAAAAAAAAAAAAAAAAAAAAAAAAAAAAAAAAAAAAAAAAAAAAAAAAAAAAAAAAAAAAAAAAAAAAAAAAAAAAAAAAAAAAAAAAAAAAAAAAAAAAAAAAAAAAAAAAAAAAAAAAAAAAAAAAAAAAAAAAAAAAAAAAAAAAAAAAAAAAAAAAAAAAAAAAAAAAAAAAAAAAAAAAAAAAAAAAAAAAAAAAAAAAAAAAAAAAAAAAAAAAAAAAAAAAAAAAAAAAAAAAAAAAAAAAAAAAAAAAAAAAAAAAAAAAAAAAAAAAAAAAAAAAAAAAAAAAAAAAAAAAAAAAAAAAAAAAAAAAAAAAAAAAAAAAAAAAAAAAAAAAAAAAAAAAAAAAAAAAAAAAAAAAAAAAAAAAAAAAAAAAAAAAAAAAAAAAAAAAAAAAAAAAAAAAAAAAAAAAAAAAAAAAAAAAAAAAAAAAAAAAAAAAAAAAAAAAAAAAAAAAAAAAAAAAAAAAAAAAAAAAAAAAAAAAAAAAAAAAAAAAAAAAAAAAAAAAAAAAAAAAAAAAAAAAAAAAAAAAAAAAAAAAAAAAAAAAAAAAAAAAAAAAAAAAAAAAAAAAAAAAAAAAAAAAAAAAAAAAAAAAAAAAAAAAAAAAAAAAAAAAAAAAAAAAAAAAAAAAAAAAAAAAAAAAAAAAAAAAAAAAAAAAAAAAAAAAAAAAAAAAAAAAAAAAAAAAAAAAAAAAAAAAAAAAAAAAAAAAAAAAAAAAAAAAAAAAAAAAAAAAAAAAAAAAAAAAAAAAAAAAAAAAAAAAAAAAAAAAAAAAAAAAAAAAAAAAAAAAAAAAAAAAAAAAAAAAAAAAAAAAAAAAAAAAAAAAAAAAAAAAAAAAAAAAAAAAAAAAAAAAAAAAAAAAAAAAAAAAAAAAAAAAAAAAAAAAAAAAAAAAAAAAAAAAAAAAAAAAAAAAAAAAAAAAAAAAAAAAAAAAAAAAAAAAAAAAAAAAAAAAAAAAAAAAAAAAAAAAAAAAAAAAAAAAAAAAAAAAAAAAAAAAAAAAAAAAAAAAAAAAAAAAAAAAAAAAAAAAAAAAAAAAAAAAAAAAAAAAAAAAAAAAAAAAAAAAAAAAAAAAAAAAAAAAAAAAAAAAAAAAAAAAAAAAAAAAAAAAAAAAAAAAAAAAAAAAAAAAAAAAAAAAAAAAAAAAAAAAAAAAAAAAAAAAAAAAAAAAAAAAAAAAAAAAAAAAAAAAAAAAAAAAAAAAAAAAAAAAAAAAAAAAAAAAAAAAAAAAAAAAAAAAAAAAAAAAAAAAAAAAAAAAAAAAAAAAAAAAAAAAAAAAAAAAAAAAAAAAAAAAAAAAAAAAAAAAAAAAAAAAAAAAAAAAAAAAAAAAAAAAAAAAAAAAAAAAAAAAAAAAAAAAAAAAAAAAAAAAAAAAAAAAAAAAAAAAAAAAAAAAAAAAAAAAAAAAAAAAAAAAAAAAAAAAAAAAAAAAAAAAAAAAAAAAAAAAAAAAAAAAAAAAAAAAAAAAAAAAAAAAAAAAAAAAAAAAAAAAAAAAAAAAAAAAAAAAAAAAAAAAAAKDPkXsiMaLxY6j0RtTphX/V+IZyhuznNueP17c37Jf/9/EX8Efdx5n3VYcBJq22LFWuFRQ0gCPjQz8idWHHkQeARt+HPspeAf1fnJT783tcmrGqM+m0aUQo5BiUyFboKtgAyAjoAwgu+ExoirjZOTcJo0os2qJrQsvsbI3tNZ3x7rE/cbAxwP+xqdJucxwDwPR71Qs1nfYSxpim/sdEV5iny1fsF/q390fh58r3gudKZuI2i0YGpYWE+RRS07RDDsJEIZXg1cAVj1a+mx3UbSQse/vNWymqkjoYOZy5ILjVCIpIQQgpmAQ4APgfuCAoYeikSPa5WDnHykRa3JtvPArMvb1mjiOO4v+jMGKhL3HYApqzRfP4JJ/1LAW7BjvmrbcPd1CHoEfeV+pn9Ff8R9Jntxd61y5WwmZoBeBFbETNdCUzhOLeMhLBZCCkL+RvJo5sXads+WxDy6gbB6pzuf2ZdikeaLcocPhMWBmYCOgKSB2IMmh4aL7pBRl6Ke0KbHr3W5wsOYzt3ZeeVR8Ur9SAkyFewgWyxlN/FB6EszVbxdcWVAbBly73a4emt9AX93f8x+An0ceiJ2HHEVaxxkQFySUyhKFUBxNVUq2B4VEygHK/s572zj4dewzPTBxbc6rmilZJ0/lguQ1Iqnho2DjYGsgOuAS4LIhFyI/4ynkkaZz6AvqVSyKbyYxonR4tyM6Gr0YgBZDDUY2SMsLxQ6eERBTlhXqV8hZ69tRXPVd1V7vn0KfzV/QH4tfAF5wnR6bzZpBGLzWRZRgkdMPYoyVyfKG/4PDwQX+DDsd+AF1fTJXr9btQKsZqOdm7iUxY7Uie+FHoNogdKAXIEFg8mFoomIjm+USpsIo5qr67TmvnTJftTr36Drg/d4A2YPMRu/JvQxuDzzRoxQblmGYcFoDW9fdKh433v+ff9+4H6ifUZ71HdRc8ltSWfeX5pXkE7TRHs6ni9VJLoY5wz3AAb1LemI3THSQsfUvP+y2Kl0oeeZQZOSjeeISoXCgleBC4HfgdGD3Ib6iiGQRpZanU6lEK6Lt6rBV8x41/XitO6a+osGbxIoHpwpszRRP2BJyVJ2W1NjT2pacGZ1aHlWfCt+4X54fvF8TnqVdtBxCWxNZaxdNlX/SxxCozetLFEhqRXRCeP9+vEw5qHaZ8+bxFa6r7C8p5GfQZjdkXKMDYi4hHqCWYFYgXWCr4QBiGKMypEsmHifoKeQsDS6dsQ+z3baAubJ8bD9mwlyFRchcixnN99BwUv4VG1dD2XMa5RxWnYUerp8RH6xfv59LXxDeUZ1P3A6akRjbVvHUmVJXT/GNLcpSR6XErsG0fry7jnjwtemzP/B5bdurrClv52tloqQY4tFhzmERYJvgbeBHoOfhTeJ242Ckx+ao6H9qRqz5bxIxyvSd90Q6d30wwCnDG8Y/yM+LxE6YEQVThhXVV+7ZjdtvHI8d656Cn1Lfm1+cH1Xeyd45nOfblxoLWEiWU1QwkaXPOIxvSZAG4UPpwPC9+/rSeDr1PDJb7+AtTqss6P9myqVSY9nipCGzYMjgpeBKYLZg6GGfopkj0qVIZzbo2asrrWevyHKHdV74CDs8ffUA68PZxvgJgEysDzWRlpQKVktYVVokW7Rcwt4NXtIfT5+Fn7QfHB6+nZ2cu5scGYKX8xWyU0XRMo5+i6/IzQYcgyUALb08ehg3R3SQ8fqvCizFqrFoUuauJMZjn6J74V0gxWC0oGugqaEtYfVi/2QIJcxnh+m2a5LuGDCAM0T2IHjL+8E++IGshJYHrgpujREPz5JklIrW/Vi32nZb9V0yHipe3J9Hn6tfR58dnm7dfVwL2t2ZNlcalQ8S2NB9jYMLL8gKBVhCYX9r/H55X7aWM+hxHG63rD/p+ifqphXkv2Mp4hghS+DGYIggkWDhYXaiD6NpZIEmU2gb6hXsfG6KMXkzw3bieZA8hX+7QmwFUIhiCxpN8xBmku8VB5drWRYaw9xxnVxeQp8iX3rfTB9WXtreGx0ZG9gaW5inFr9UaRIpz4cNBopvB0aElAGePqs7gfjpNedzAvCBbiirvilGp4alwiR8ovjh+SE/YIwgoKC74N2hhCKto5dlPeadqLKqt6zn733x83SCt6T6U/1IwH0DKkYJSRPLw06SEToTddWAV9UZr9sM3Kkdgh6V3yNfaV9oXyDek53DHPEbYRnWWBTWIZPBEbkOzwxJCa3GgwPQANu967rHODT1OzJf7+ltXSsAKRdnJuVy4/6ijKHe4TdgluC9YKrhHmHV4s/kCOW95yspDCtcLZWwMzKu9UJ4Z7sX/gvBPcPmxsAJwwypzy4RilQ5FjVYOpnFG5Fc3B3jHqSfH59TX0AfJp5IXabcRRsmWU2Xv9VBE1bQxo5Vy4rI7AX/wszAGf0teg43QrSRccAvVOzVKoXoq+aLpSgjhSKk4YmhNGCmIJ8g3mFjYivjNeR+JcFn+6moa8KuRTDp82t2Azkqu9s+zgH9RKHHtMpwDQ1PxtJXFLhWphicGlYb0R0KHj8erl8XH3ifEx7oHjidBtwVmqgYwhcn1N5SqtASTZtKy8gqBTyCCj9ZfHD5VzaS8+oxIy6DrFCqD6gE5nRkoeNQYkIhuOD2ILoghSEWYayiReOf5PcmSChPKkcsq272MWI0KLbEOe18nn+PgruFWshnSxqN7hBckuAVM9cS2TkaopwMXXPeFp7znwnfWR8h3qUd5Jzi26IaJlhzVk1UeVH8j1zM38oMB2fEeUFIPpn7tbih9eVzBfCJbjWrkCmdZ6Hl4eRgYyAiI+Fs4PxgkuDwIRLh+mKkI81lc2bSKOVq6G0WL6kyG3Tm94V6sD1ggFADeEYSSRfLwk6L0S7TZZWrV7uZUdsqnEMdmJ5pXvPfN9803uveXd2MnLrbKxmhV+GV8BOSEUyO5cwjSUvGpUO2wIb927r8N+71OjJkL/Lta2sTaS8nA2WTpCMi9KHKYWXgx6DwYN9hU+IMIwYkfuWzJ18pfmtMLcLwXbLV9aX4Rvty/iJBD4QzhsfJxcynTyaRvdPnlh8YH9nmG24ctR243nde758hXwxe8Z4SXXCcDxrw2RlXTNVQUyiQmw4ti2YIiwXjAvT/xn0e+gS3fjRR8cWvX2zkqppohSbo5Qnj6qKN4fWhI2DXYNIhEyGY4mIjbCSz5jZn7ynZ7DHucbDTc5F2ZXkIvDU+40HNxO1Hu0pxTQmP/hIJFKWWjtiAGnYbrRzindQegJ8mnwYfHx6y3cKdEJvfmnLYjhb1lK5SfQ/nzXQKqAfKRSECM38HPGN5TvaPs+vxKi6PbGGqJWgfJlLkxKO2omvhpaEloOvg+OELYeJivCOV5SymvKhCKrgsme8iMYq0TfclOcp89v+jgoqFpQhsixqN6RBSktEVIBc6WNwagZwnXQteKt6FHxjfJh7tXm+drpysm2xZ8Zg/1huUCdHPz3MMuYnpRwkEXwFyfkj7qbia9eNzCPCRrgLr4im0J71lwWSD40diTmGaYSygxSEj4UgiMCLaJANlqKcGKRfrGO1EL9QyQzUK9+V6jD23wGLDRgZbSRuLwQ6FkSOTVVWWV6HZc9rInF1db1483oTfBl8B3vdeKF1WnETbNdls166VvtNjESCOvMv+CSpGSAOdgLJ9jDrxd+k1ObJor/xteesmqQcnX6W0JAejHOI1oVPhOCDi4RNhiSJB43wkdKXoJ5KpsCu7rfAwR7M8tYj4pftNfniBIQQABw9JyEykzx8RsRPWFgjYBVnHG0scjl2Onkoe/97vXtjevJ3cnTqb2Vq7mOVXGlUf0vqQb83Fi0HIqoWGwt0/83zQejs3ObRScctvaiz0aq7onibGZWtjz+L24eGhUiEIYQUhR2HOYpfjoeTpZmroIioLLGDunfE8s7c2RzlmvA6/OEHdxPiHgYqyjQXP9VI7VFMWt1hkWhYbiRz63aleUt72XtPe61593Yzc2tuqGj3YWlaDlL5SD8/9TQ0KhMfqxMXCHL81PBZ5RraMc+3xMS6bbHJqOug5JnFk5yOc4pVh0mFU4R1hLCF/4dfi8ePLpWGm8Ki0qqjsyC9NcfL0crcGOic8zz/3QpmFrwhxixpN5BBIUsIVDBch2P9aYJvCnSLd/15W3uge8565XjqdeRx22zcZvRfMlioT2pGjTwmMk0nHByrEBUFdPnh7XfiUNeGzDDCZ7hAr9GmK59imIOSnI25ieOGHoVxhNuEXYbziJaMP5HjlnWd56QnrSK2xr/6yanUut8U6572PALVDU8ZjyR9L/45/ENgTRRWBV4hZVdrmnDedBh4QnpXe1V7O3oLeMx0hHA9awJl413vVThN00PTOVEvZCQkGasNEwJ49vLqm9+O1OTJtb8XtiGt56R8nfCWUpGvjBKJg4YHhaGEVIUdh/eJ3Y3GkqeYcp8Xp4avrLhzwsXMjNeu4hLun/k5BcgQMhxbJyoyiDxdRpFPEljKX6pmoGygcZ91k3h1ekJ793qVeSB3nXMUb49pG2PGW6FTv0ozQRM3dyx2ISoWqwoV/4HzCejH3NXRTcdEvdSzEKsNo9ybj5UzkNSLfYg1hgKF5YTfhe6HDYs1j12UeZp7oVOp8LE9uyfFlc9y2qPlEPGf/DQItxMOHx4qzjQHP7FItVEBWoBhImjYbZVyTnb6eJV6GXuHet54JHZecpRt02clYZxZSFE7SIs+TTSZKYYeLxOsBxn8jfAl5frZJs/AxOC6nrENqUKhTZo/lCWPDIv7h/uFD4U6hXyG0IgzjJ2QA5ZZnJGjm6tktNi94sdr0lvdmugO9Jz/KwuhFuMh2SxoN3pB+ErLU+BbJWOJaf5ud3PqdlB5onreegR6FngXdQ5xBWwIZiNfZ1fkTq9F3DuBMbcmlBszEK4EH/mf7UjiNtd/zD7Cibh2rxmnhp/PmAGTKo5VioyH04UvhaKFKofEiWuNFZK4l0eetKXtreG2esCjykXVSOCS6wv3lwIeDoQZsSSKL/g54kMyTdNVsV26ZOBqEnBHdHR3knmdepF6cHk7d/hzrm9nai9kFF0mVXdMGkMmObAu0SOgGDgNsgEp9rXqct951OPJx78+tlutNKXbnWGX1JFAjbGJLoe+hWKFHIbrh8qKso6ck3uZQqDjp0uwZ7kkw2vNJNg344vuB/qQBQwRYhx3JzMyfTw9Rl5PzFdxXz9mJWwVcQV163fCeYV6MnrJeE92yXI/brpoSWL4WtpS/0l+QGk22ivoIKoVPAq4/jbz0eej3MXRUcdcvf+zT6tfo0CcBJa4kGmMIInkhruFp4Wohr2I4IsKkDKVTJtKoh2qsrL2u9XFN9AG2yjmhfEC/YUI9hM5HzUq0jT2PoxIfVG2WSJhs2dYbQZysHVQeOB5WnrAeRF4UnWKccBs/2ZVYNFYg1B/R9k9pzMAKfwdtBJCB8D7SPDz5NvZG8/JxP26z7FRqZihtpq4lK+PpIuhiKyGy4X+hUeHoIkHjXKR15YrnV+kYqwjtY6+jcgJ0+vdG+l+9Pv/dwvaFgki6yxnN2VBzkqOU5Fbw2IWaXpu5HJKdqN46nkeejx5R3dEdDpwMWs1ZVRenVYiTvVELTveMCEmDhu9D0gEzPhe7RviHNd6zEzCq7irr2Kn4p87mX6Tt47xijSIh4bthWiG9oeVij6O6ZKLmBifgKazrp63LcFLy+DV1OAP7Hf38QJlDrkZ0iSYL/E5x0MDTZFVXF1UZGhqi2+xc9B243jjec55pnhsdiZz2m6UaV5jRlxeVLdLZEJ6OBEuPyMeGMYMUQHa9XnqSt9l1OLJ279ltpatgqU7ntKXVZLRjVCK2od0hiGG44a4iJuLho9wlE2aEaGtqA6xIrrUww/Outi/4wTvb/rlBU8RkhyTJzsycTwdRitPhVcZX9RlqWuKcGt0RXcQecl5bXn+d4B19nFrbedneGEsWhRSQknKP8E1PitaICwVzwlc/uzymueA3LbRVcd1vSy0jquxo6SceZY+kf2MwYmSh3OGaIZxh4uJsozekAWWHZwYo+Wqc7OuvILG2NCZ26zm+fFl/dYINBRkH0wq1TTlPmdIRVFqWcVgRGfZbHdxFHWndyt5nHn6eEV3gnS3cOxrLWaGXwZYwE/ERig9AjNoKHIdOhLZBmn7A/DB5L3ZEM/TxBu7ALKVqe+hHpsylTiQO4xFiVyHhYbBhhCIb4rZjUWSqpf7nSulKK3htUO/Nsmm03rem+nt9FgAwwsTFy8i/SxkN09BpUpRU0FbYWKjaPdtUnKqdfd3M3ldeXR4enZzc2dvXmpkZIZd1VVhTT1Efzo9MI0liBpHD+QDefge7e/hA9d0zFvCzbjhr6unPaComfuTRI+Mi9uIOoeqhi2HwohlixCPvJNdmeefSqd3r1q438Hxy3nWX+GK7OH3SgOsDu0Z8iSkL+o5rEPVTE9VCF3uY/FpBG8bcy52NHgqeQ153XeedVRyB27BaI1ieluYU/hKrkHQN3MtryKdF1UM8QCN9T/qIt9R1OLJ77+MttGtz6WbnkOY1pJhju6KhIgph+CGqoeEiWuMWJBClR6b36F1qc+x27qDxLHOUNlG5Hrv1fo5BpERwByuJ0IyZDz9RfdOPlfAXmplLmv/b9Jzn3ZfeA15qng0d7F0JXGYbBZnqWBiWVBRhkgXPxo1pCrOH7AUYgkB/qTyZede3KfRWseOvVi0zqsDpAid7pbDkZGNY4o/iCuHKYc5iFiKgo2wkdiW7pzko6yrMrRkvS3Hd9Eq3C/na/LG/SUJcBSNH2Iq1zTUPkJIDVEfWWhg1WZabOlweHT+dnd433g1eHp2s3PlbxprXGW4Xj5X/k4KRnk8XjLRJ+ocwhFxBhP7v++R5KDZB8/dxDm7MbLaqUaihpurlcCQ0ozpiQyIP4eEh9mIPYuqjheTe5jKnval7a2etva/3slC1AjfGepb9bUADQxLF1MiDS1hNzhBekoUU/FaAGIwaHRtwHEKdUt3fXieeK53rnWkcpVujGmUY7pcDlWhTIZD0zmdL/okBBrTDoEDKPjg7MPh69ZwzGrC8LgXsPSnmKAVmniU0I8mjIKJ7Idlh/CHjIkzjOGPjpQumrSgE6g5sBS5j8KWzBHX6OEE7Uv4ogPyDh8aEiWwL+I5kEOmTA1Vs1yIY3ppfW6Gcot1hndxeEx4FXfRdIRxNm3wZ75hr1rTUjtK+kAnN9YsICIdF+ULkwBA9QXq/N4+1OPJA8C0tgyuHab6nrSYV5PxjouLLoneh56Hb4hPijqNKZEUlu6bq6I8qo+ykrswxVPP5NnL5PDvOfuMBtER7hzJJ0kyVzzdRcNO+FZnXv9ks2p1bzpz+nWud1N453drduNzVHDHa0Vm3F+ZWI1Qy0dmPnQ0CypDHzQU9wio/VzyMOc83JnRYMenvYW0DqxVpGydY5dHkiSOA4vriOKH6If/iCSLUo6BkqiXvJ2vpHGs8LQZvtfHFdK63LDn3PIm/nQJrBS2H3cq2DTCPh1I1FDUWApgZ2bba1tw3HNWdsR3I3hxd7B15HIUb0lqjGTsXXZWPU5SRcs7vDE8J2McShELBr76fe9h5ITZ/s7oxFe7Y7Ieqpyi75sklkmRaY2NiruI+IdFiKGJCox5j+iTTJmYn7+msK5at6jAhcrc1JTflurI9RABVwyCF3ciHS1eNyFBUErWUqFanmG9Z/JsL3FsdKB2yHfgd+h243TVccVtvGjFYu9bSFTjS9FCKDn+LmkkghlhDh8D2Pei7Jjh09ZszHrCFLlOsD2o86CBmvWUXJDAjCmKnYggiLOIVYoBjbGQXpX9moGh26j6sMy5PsM5zafXcuJ/7bT4+AMyD0gaISWlL7s5TUNFTI9UGVzRYqhokW2BcW90VXYud/p2t3VqcxhwyGuEZllgU1mFUf5I1D8ZNuYrUCFwFl8LNQAN9f/pI9+U1GnKuMCYtx2vW6dioEOaDJXIkICNPYsCitOJsIqWjIKPbZNNmBeev6Q1rGe0RL23xqvQCdu55aPwr/vCBsURnxw2J3MxPzuDRCtNIlVYXLtiPmjTbHJwEXOrdDx1w3RCc7xwN226aFFjB13rVQ5OgEVXPKUygigFHkUTWghf/Wvyluf73LDSzchpv5i2b64Ap1ygkZqtlbqRwo7LjNqL74sMjS6PTpJnlm+bWqEbqKKv3re9wCrKENRY3uvosfOR/nIJPhTaHi8pJTOlPJtF802YVXpcimK6Z/1rTG+ece5yOXN/csJwBW5PaqllHWC4WYhSn0oNQuY4QC8wJc0aLxBtBaL64+9K5e/a6dBQxzi+t7XfrcKmcaD4mmaWxJIZkG2Ow40bjnWPz5EilWaZk56cpHOrCbNMuyrEjs1k15ThCOyn9loBCQybFvkgCiu5NO49lkadTvFVgVw+YhxnEGsQbhdwH3EncS5wN25Ga2NnlmLqXGxWK084R6Q+hDXrK/EhqhcwDZgC/vd27RnjANlAz/DFJL3ytGutoKagoHqbOJfkk4WRIpC8j1SQ6pF5lPuXaZy3odunxq5otq++isfj0KbavOQP74f5CwSFDt0Y+yLJLC82Gj90RyxPLlZtXNlhZ2YMasBsfW4/bwZv0G2ia4BocmSBX7hZJFPVS9tDSDswMqcoxB6cFEcK3f909STrBOEt17PNrcQuvEq0E62ZpuqgFJwhmBmVBZPokcSRmpJplCuX2pptn9ykF6sTsr65CMLcyijU1t3R5wDyTvyiBucQAxvhJGouiTcpQDVInk9QVj5cWmGZZfFoW2vRbFBt12xoawVptWV+YWtciFbhT4ZIh0D4N+sudCWqG6MRdQc5/QPz7egM33fVQ8yHw1S7v7PXrK2mTqHGnCCZZJaXlL6T25PtlPGW45m8nXSi/qdQrlq1C71UxSHOXdf04NDq2/T+/iAJLhMOHasm8C/GOBpB2kj0T1dW9lvDYLVkwWfiaRNrUWubavVoYGbkYoheVllbU6NMP0U/PbU0tStTIqUYwA67BK76rfDR5i/d3dPwyn3Cl7pPs7as26bKoZCdNZrClzyWpZX/lUqXgpminKKgeqUfq4OxmbhPwJTIVtGA2v7ju+2f95QBhAtaFf0eWShYMeY58EFjSS5QQ1aUWxRguWN9ZldoRWlEaVRoeGa0Yw9gkFtCVjJQbUkCQgM6gTGQKEUftBXzCxkCPPhy7tDkbdtf0rrJkMH2ufuysKwip1+icZ5gmzSZ8ZealzCYsZkanGWfiqOBqD2usbTPu4fDx8t81JLd9eaP8Ev6EgTPDWsX0SDrKaUy6jqpQtBJTlAWVhlbTV+pYiRlumZnZylnAmb0YwNhN12YWDFTDk09Rs8+0jZbLnwlShzYEj0JkP/k9VDs6+LI2f7Qn8jAwHC5wrLErIOnDKNon5+cuJq3mZ6ZbZoinLmeLKJ0poarVrHYt/2+tMbrzpHXkeDX6U7z4Px3Bv8PYRmJImAr1TPSO0ZDIkpTUM9VhlpwXoNhuWMMZXtlA2WmY2dhTF5cWqBVIlDwSRZDpjuvM0UreiJiGREQngYe/aXzSuoh4T/Yuc+hxwvABrmksvGs/KfPo3Sg8Z1OnIybr5u0nJueXqH3pF6pia5rtPi6IcLUyQLSltp+46Xs9/Ve/8QIFRI9GyUkuizpNJ48yENYSj9Qb1XcWX1dSmA7Yk5jgGPQYkFh1V6SW4FXqVIXTdhG+D+JOJowPyiKH44WYQ0WBMX6gPFe6HLf0daPzr/Gcb+3uJ+yOK2NqKmklaFXn/SdcJ3MnQafG6EIpMSnSKyJsXq3EL46xejMCNWJ3VfmXe+I+MIB9woRFP0cpiX4LeE1Tj0vRHVKEVD3VBtZdVz9Xq1ggWF5YZNg0148XNVYpFS1TxFKx0PkPHg1lC1JJawczxPGCqYBhfh174zm391/1YLN+MXzvoK4tbKXrTWpmaXJos6gq59in/SfYKGio7Wmkqowr4W0g7ofwUfI7s//12vgHOkA8gP7DgQQDfMVoh4LJxovvTbjPXxEeErLT2dURFhYW51dDV+mX2VfTV5eXJ9ZFVbJUcRMEUe/QNo5dDKcKmUi4RkkEUIIT/9e9oTt1uRm3EnUkMxMxY++aLjjsg6u9KmdphGkVqJwoWChJ6LCoy6mZalhrRayfLeFvSTEScvl0ubaOuPN6430Zv1CBhAPuhctIFUoITB/N14+rkRiSmxPwVNYVyhaLFxeXbxdRl39W+NZ/lZUU+5O1kkXRL893DZ9L7Qnkx8rF48O1QUP/VD0res64wnbLtO5y7zERr5muCqznK7IqrWna6Xvo0Sja6NjpCymv6gYrC+w+bRtun7AHsc+zs3Vu9315WnuBPex/10I9hBmGZwhhCkNMSY4vj7GRDJK9U4FU1dW5VipWqBbx1sdW6ZZY1daVJNQFkztRiVByTrpM5Us3STSHIgUEAx+A+f6XPLx6bnhx9ku0v3KRsQXvn64ibNBr7Gr4ajXppelJaWApammm6hUq8yu+7LZt1m9b8MOyiXRpth/4J7o8PBk+eQBXwrCEvga8CKYKt4xsjgEP8ZE60loTjNSQlWQVxdZ1FnFWetYR1feVLVR001BSQpEOj7dNwMxvCkWIiUa+hGnCUAB2PiB8E7oU+Cg2EjRXMrqwwG+rrj/s/yvr6wgqlSoTqcSp6Cn9qgQq+utgLHGtbO6PcBWxvHM/9Nv2zHjMuti8637/wNIDHQUcBwqJJErlDIjOTA/rESMScRNTFEaVCpWdVf7V7lXsFbiVFVSDk8TS3BGLUFYO/00Ky7yJmEfixeAD1QHGv/i9sDuxuYH35TXftDVyafDBL73uIu0zLDBrXCr4KkTqQupyalJq4qthbAztI24iL0ZwzPJyM/J1ife0OWz7b713/0CBhgODBbNHUklcCwwM3s5Qz97RBZJC01RUOBSs1TFVRVWolVtVHlSyk9mTFZIo0NYPoA4KDJhKzgkvhwEFRwNGAUL/QT1GO1Y5dbdotbOz2jJfsMfvla5LrWxseWu0qx7q+WqD6v6q6OtB7Afs+W2UbtXwOzFBMyR0oTZzeBb6B7wA/j5/+0Hzg+LFxAfTiY0LbIzujk+PzFEiUg9TEJPlFEsUwdUJFSCUyNSClA8TcBJnUXcQIo7sjVgL6UojyEtGpISzgrzAhT7QPOK6wTkv9zL1TjPFMluw1K+zbnntamyHLBEriWtw6wdrTOuArCHsrq1lbkPvh7DtsjKzk3VL9xi49TqdPIy+vsBvwlrEe8YOSA4J94tGjTfOSA/0UPnR1pLIU43UJZRPVIpUlpR1E+ZTa5KGkfnQhw+xTjuMqYs+SX3HrAXNRCWCOUANfmU8RbqyuLC2w3Vu87ayHbDnb5ZurS2tbNkscWv3K6srjSvc7Bmsgi1VLhCvMnA3sV2y4TR+tfK3uTlOO219Er85gN4C+8SOhpIIQkobi5pNOw56z5aQzBHZEruTMpO809mUCNQK09/TSRLH0h4RDVAYjsJNjcw+ClcI3AcRhXsDXQG8P5v9wLwu+iq4d/aatRYzrjIlsP/vvu6lbfTtLyyVbGgsJ+wU7G4ssy0i7ftuuu+e8OVyCrOMNSY2lThU+iI7+D2TP65BRgNWRRqGzwivyjlLp804TmePs1CZEZaSapLTk1CToVOFU71TCdLrkiSRdhBij2xOFgzjC1aJ9Ag/BnvErkLaQQR/cH1ie5656TgFtrf0w7Or8jOw3a/sruJuAO2JbTzsnCynLJ5swK1NbcNuoO9j8EnxkLL09DP1ibdzOOw6sPx9fg0AHMHoA6qFYIcFyNcKUMvvDS+OTs+K0KERT9IVUrDS4VMmUz/S7pKy0g3RgVDPD/kOgg2sTDuKsokVB6bF60Qmwl0Akr7LPQp7VLmt99m2W7T3M29yBzEBMB9vJC5RLectZ60SrSitKW1ULeguY+8FsAtxMvI5c1w01/ZpN8y5vjs6fPz+gcCFgkOEOEWfx3ZI+ApiC/CNIQ5wj10QZFEEkfxSCtKvEqjSuJJeUhtRsFDfEClPEY4aDMXLl4oSiLqG00VgA6TB5cAnPmv8uLrROXk3tDYFtPDzePIgcSmwFy9qbqVuCK3VbYvtrC217eiuQy8D7+lwsXGZst+0ADW4NsR4oXoLe/59dv8wgOgCmQRABhkHoEkSyq0L7A0Mzk0PapAjEPURX5HhUjoSKZIv0c1Rg1ES0H1PRQ6sDXTMIgr2yXaH5IZEhNnDKIF0v4F+EvxtOpP5CreU9jW0sLNIMn7xF3BTr7Uu/W5tbgXuBy4xbgOuva7d76NwS/FVsn4zQvTgthS3m3kxupN8fT3rP5lBREMoRIFGS8fESWeKskvhzTNOJE8yz91QoZE/UXURgtHoEaWRe5DrEHWPnI7iTciM0guBiloI3sdTRfrEGQKxgMj/Yb2APCg6XPjid3u16/S181zyYvFKMJSvw+9ZLtVuuS5E7rfuki8S77iwAfEtMffy4DQjNX22rTgt+bz7Fjz2fllAPAGag3FE/EZ4R+IJdgqxi9HNFE42jvbPkxBKkNuRBdFJEWURGhDpEFMP2Q89TgFNZ0wySuSJgQhLRsaFdgOdggCAov7IPXO7qToseIB3aHXn9IEztvJLsYFw2fAWb7hvAG8u7sQvP+8hr6hwEvDfcYyymDO/dIA2FzdBePv6AzvTvWn+wgCZAirDtAUxBp6IOYl+iqtL/IzwDcPO9g9FEC+QdNCUUM1Q4FCN0FZP+w89jl9NokyIy5WKSsksR7xGPsS2gyeBlQADPrR87TtwecG4pHcbdem0kfOWcrmxvXDjcGzv2u+uL2bvRW+JL/FwPbCscXvyKnM19Bv1Wbast9F5RTrEfEv91/9kwO/CdMPwhV+G/sgLCYFK3wvhjMbNzI6xDzMPkVALUGAQT9BakADPw49jzqMNws0FTCzK+8m1CFtHMcW7xDxCtwEvv6k+Jvysuz25nXhOdxQ18TSoM7syrHH98TDwhvBAcB5v4O/H8BMwQbDS8UUyFvLGc9E09TXv9z44XTnJu0C8/r4Af8HBQIL4xCcFiAcZCFbJvoqNi8GM2I2QjmgO3U9wD57P6c/Qj9OPs08wzo0OCY1oDGrLU8pliSMHzsasBT3Dh0JMQM//VT3ffHJ60Tm++D520rX+NINz5PLj8gKxgnEkMKjwUPBcsEuwnbDR8Wdx3LKwM1/0afVLdoJ3y3kkOkl7970r/qKAGQGLgzaEV0Xqhy1IXIm1yraLnIyljVBOGs6ETwuPcA9xj1APS88ljp5ONw1xjI+L0sr9yZLIlMdGhirEhMNXwebAdb7G/Z48Pnqq+Wa4NHbW9dC05DPTMx/yS3HXcUSxE/DFsNnw0HEo8WIx+3JzMwf0N3T/td53EPhUuaa6w/xpfZO/P4BqQdBDboSBxgcHe4hcyafKmkuyTG4NC83KDmfOpE7+zveOzk7DTpfODE2iTNtMOMs9SirJA8gKxsLFroQRAu2BR0Ahfr79IrvQOop5VDgv9uC16LTJ9AZzYDKYMi/xqDFBcXxxGLFWMbQx8jJOswgz3XSMNZJ2rbebuNm6JHt5vJX+Nf9WwPWCDwOgROYGHYdESJdJlEq5C0OMcgzDTbWNyA56TkuOu85LTnqNyg27DM7MRsukyqrJm0i4h0UGQ4U3A6KCSQEtv5M+fLzte6g6b/kHeDE27/XFtTR0PjNkcuiyS7IOcfFxtLGYsdxyP7JBcyCzm7Rw9R52Ifc5eCJ5Wfqde+o9PP5Sv+gBOwJIA8wFBIZuR0cIjEm7SlKLUAwxzLbNHc2ljc4OFk4/DcfN8U18zOqMfIu0CtMKG0kPCDEGw4XJBITDeUHpwJl/Sn4AfP37RfpbOQB4ODbEdie1I7R6M6zzPHKqcncyIzIushlyYzKLMxAzsXQtNMH17baud4F45PnV+xG8VX2efulAM8F6grsD8gUdBnlHREi7yV2KZ4sYC+2MZszCjUBNn42fjYDNg41oTO/MW0vsCyPKRAmOyIbHrcZGRVOEF4LVgZBASv8Hvcn8lHtpugx5PzfEdx42DrVXtLqz+PNT8wwy4nKW8qnymzLqMxXznfQAtPz1ULZ59zc4BbljOkz7gLz7ffp/OoB5gbRC6AQSBW/Gfod8CGYJeoo3ytvLpUwTTKSM2I0uzSdNAc0/DJ9MY8vNS11KlYn3yMXIAgcuhc3E4oOvgncBPL/CPsr9mXxwuxM6AzkDeBX3PTY6dU/0/vQIs+4zcHMPswwzJjMdc3DzoHQqtI51SjYcdsM3/HiFudz6/3vqvRw+UP+GAPmB6AMPRGxFfMZ+R26IS0lSygNK20tZS/yMA8yujLyMrYyCDLpMFsvYi0DK0IoKCW6IQEeBBrOFWcR2wwyCHgDuP78+U/1u/BL7Ano/uM04LPcg9mr1jHUHNJv0C7PXM77zQzOjc5/z97QqNLX1GnXVdqW3STh9+QG6UjttPE+9t76h/8wBM8IWA3CEQMWEBrhHW4hriSZJysqXCwnLoovgTAJMSIxzDAHMNYuOy05K9coGCYEI6If+BsRGPQTqw8/C7wGKgKW/Qf5ivQo8Ovr3OcG5HDgIt0l2n7XNNVL08jRr9AB0L/P7M+F0IrR99LK1P/WkNl33K7fLuPt5uXqC+9W8733Nfy0ADEFoAn5DTASPhYXGrUdDiEbJNUmNyk7K9wsFy7pLlAvTS/eLgUuxCweKxYpsib4I+wglx3/GS4WLBIBDrgJWwXyAIn8Kfjc86vvoevG5yPkweCm3draY9hG1onULtM60q3RitHQ0X/SlNMO1enWINmv24/euuEp5dTosuy78OX0J/l3/csBGwZbCoIOiBJiFgkacx2ZIHUjACYzKAsqgyuYLEgtkS1yLe0sAiyzKgQp+SaWJOEh4B6ZGxUYXBR2EGsMRggPBNH/lPti90XzRu9u68bnVuQm4T3eodtY2WfX09Wg1M7TYtNa07jTedSe1SLXAtk628TdnOC54xbnqupt7ljyX/Z8+qP+zALuBv8K9Q7JEnEW5BkdHRIgvSIZJSAnzigfKhArnyvLK5Qr+ir/KaYo8CbjJIIi1R/gHKoZPBacEtMO6QroBtkCxf61+rL2xfL47lLr3Oee5J/h5t553F3al9gr1xzWbNUc1S/VotV11qXXMdkV20vd0N+c4qrl8+hv7Bfw4fPF97v7uf+2A6oHiwtRD/MSaRarGbIcdx/zISIk/iWEJ7AofinvKQEqsykHKf4nmybhJNQieCDUHe0ayhdyFO0QQg17CaAFuQHQ/e35GPZc8r/uS+sH6PrkLOKi32LdcdvU2Y7YodcR193WB9eN12/Yq9k82yHdVN/Q4ZDkjefB6iPurfFW9Rb55fy4AIoEUAgCDJcPCBNMFl0ZNBzJHhghGyPOJC0mNSfkJzgoMSjPJxMn/yWUJNgizSB4Ht8bCBn5FbkSUA/GCyIIbQSuAPH8O/mW9Qnyne5a60foauXL4m/gW96U3B7b/Nkx2b3Yo9ji2HrZadqs20LdJt9T4cXjd+Zh6X7sxe8x87j2U/r5/aIBRwXfCGEMxg8HExsW+xiiGwoeLSAGIpEjyySyJUImfCZeJuolICUCJJMi1SDPHoMc9xkxFzgUEhHGDV0K3QZPA7v/Kfyg+Cn1zPGR7n7rm+ju5X3jTeFj38XddNx028jacNpu2sDaZ9tg3KrdQd8i4Ujjr+VQ6CbrKu5V8aH0Bfh6+/j+dgLuBVgJqwzgD/AS1BWGGP4aOR0xH+IgRyJeIyUkmSS7JIkkBCQuIwgiliDbHtocmRocGGkVhxJ8D08MCAmtBUYC3f52+xv40/Sm8Zrut+sD6YTmQOQ74nvgA9/W3fbcZ9wp3Dvcn9xT3VXeo9864RbjM+WL5xvq2+zF79Py/fU++Yz84f8zA38GugneDOQPxBJ5Ff0XSBpYHCYesB/xIOchkCLqIvUisSIeIj4hEyCgHugc8Bq7GE4WsRPnEPkN7ArHB5IEUwEU/tr6rfeT9JXxue4F7H/pLecU5TnjoOFN4ELfgd4N3ubdDN5/3j3fRuCW4SvjAOUS51vp1+t/7k7xPvRG92L6iP2yANsD+QYGCvwM0g+EEgsVYReBGWYbDR1xHpAfZiDzIDUhLCHYIDkgUR8jHrEc/xoQGekWjxQIElgPhwybCZoGjAN2AGL9VPpU92n0mvHs7mbsDero5/nlR+TT4qPhuOAU4Lnfp9/e317gJuEz4oPjE+Xg5uXoHeuE7RPwxvKV9Xv4cftv/m8BbARdBz0KBA2sDzASiRSzFqkYZRrmGyYdJB7dHlAffB9hH/4eVR5oHTkcyhofGTwXJRXfEm8Q2w0pC18IggWbArD/xvzk+RL3VfSz8TTv2+yv6rPo7uZi5RPkBOM34q7hauFr4bLhPeIL4xvkaeXz5rXoq+rR7CHvlvEr9Nn2m/lr/EH/FwLnBKwHXQr2DHEPxxH1E/QVwBdWGbEa0BuvHEwdpx2/HZMdJR10HIMbVRrrGEkXdBVuEz4R5w5wDN4JNgd/BMAB/v4//Ir55fZW9OLxj+9j7WLrkOny54vmX+Vw5L/jT+Mg4zLjhuMa5O3k/eVH58nof+pk7HXurfAH8331Cvin+lD9/f+oAk0F5AdpCtQMIg9MEU4TIxXHFjgYcBluGjAbtBv5G/8bxRtMG5YapBl4GBUXfxW4E8YRrA9wDRcLpggiBpED+gBi/s/7RvnO9mz0JfL+7/3tJux96gXpwue25uXlTuX15Nnk++RZ5fTlyubY5x3pleo87BDuC/Aq8mb0vPYm+Z77H/6iACMDnAUHCF8Kngy/Dr0QlRJCFMAVDBcjGAMZqhkWGkcaPRr3GXYZvBjKF6MWSRW/EwoSLBArDgsM0QmBByIFuAJJANz9dPsY+cz2lvR88oHwqu787HnrJuoF6RjoYufl5qDmlebE5izny+ei6Kzp6epV7O3tre+R8ZXzs/Xo9y/6gfza/jMBiQPWBRUIQApTDEgOHRDLEVETqhTUFcsWjhccGHIYkRh5GCkYohfmFvcV1hSHEwwSaRCiDrsMuAqdCHAGNgT0Aa//bP0v+/743/bW9ObyFvFo7+HthOxU61PqhOno6IHoT+hT6I3o/Oif6XPqeeus7Avuke888Qfz7vTu9gH5I/tO/X//rgHZA/sFDQgMCvQLvw1qD/EQURKGE48UaBURFocWyhbZFrQWXBbRFRYVKxQTE9ARZRDXDicNWwt2CX0HdAVgA0UBKv8R/f/6+/gH9yn1ZPO98Tjw1+6d7Y/srOv56nXqI+oC6hPqVurJ6m3rP+w97WXutO8n8bvybPQ29hb4BvoC/Af+DQAUAhQECgbxB8UJgQsjDaYOBhBCEVUSPxP8E4wU7BQdFR4V8BSRFAUUTBNnElkRJBDMDlMNvQsNCkcIcAaMBJ4CqwC6/sv85foM+UP3kPX183byF/Hb78Tu1e0Q7XbsCezJ67fr0+sd7JTsNu0C7vfuEvBQ8a7yKvTA9Wz3Kvn3+s38qv6IAGQCOQQEBsAHaQn8CnUM0Q0MDyUQGBHkEYcS/xJME24TYxMsE8oSPRKIEawQqg+FDkEN3wtjCtEILAd3BbgD8QEnAF/+m/zg+jH5k/cK9pj0QPMH8u7w+O8n733u++2i7XPtbu2T7eLtWu757r7vqPC08d/yJ/SK9QP3j/gr+tP7hP04/+0AnwJKBOoFewf6CGQKtgvrDAMO+g7PD38QCRFtEagRuxGnEWoRBhF7EMwP+g4GDvMMwwt6ChoJpwcjBpIE+AJZAbn/Gv6A/O/6a/n395f2TPUb9AbzD/I48YTw8++H70DvIO8m71LvpO8a8LXwcfFO8knzYPSR9dj2NPif+Rj7m/wl/rH/PAHEAkUEuwUiB3gIugnlCvYL7AzDDXsOEQ+ED9QPABAIEOsPqg9GD8AOGA5SDW0MbgtVCiYJ4wePBi0FwQNOAtYAX//p/Xr8E/u5+W/4NvcS9gb1FPQ984Ty6vFx8Rnx4/DP8N7wD/Fi8dbxafIb8+nz0vTT9ev2FvhS+Z368vtP/bH+FAB3AdUCKwR3BbYG5Af/CAQK8grHC4AMHA2aDfkNNw5VDlMOMA7uDYsNCw1tDLQL4Qr2CfYI4ge9BooFTAQEA7gBaAAa/879ifxM+xv6+fjn9+n2AfYw9Xj02/Na8/bysPKJ8oDylvLK8hzzi/MV9Lr0ePVN9jf3NfhD+V/6hvu3/O79Kf9jAJwB0QL+AyAFNgY9BzIIEwngCZUKMQu0CxsMZwyWDKkMngx4DDUM1wteC8wKIgpiCY4IpwevBqoFmAR+A1wCNwEQAOr+yP2s/Jn7kPqV+ar40PcK91n2vvU89dL0gvRN9DL0MvRN9IL00fQ59bj1T/b79rv3jPhu+V36WPtd/Gn9ef6M/50ArQG4ArsDtQSjBYQGVAcTCL8IVgnYCUIKlQrQCvIK+grqCsEKgQooCrkJNQmcCPAHNAdnBo4FqAS6A8QCyAHKAM3/0P7X/eT8+fsY+0T6fvnH+CL4j/cQ96b2UvYU9u313PXj9QH2NfZ/9t/2UvfZ93H4GvnR+Zb6Zvs//CD9Bf7v/tn/wgCpAYoCZQM3BP8EugVnBgQHkQcMCHUIyQgJCTQJSwlMCTgJDwnSCIEIHQioByIHjAbpBTkFfgS6A+8CHgJJAXMAnv/K/vr9MP1t/LP7BPti+s35R/nS+G34GfjZ96v3kPeI95T3s/fk9yf4fPji+Fb52vlq+gb7rftc/BL9zv2O/lD/EQDSAJABSQL8AqcDSATfBGoF5wVXBrcGCAdIB3cHlQeiB50HhwdgBykH4gaLBicGtQU3Ba4EGwSAA94CNwKMAd8AMACE/9n+Mf6P/fT8YPzW+1b74vp6+h/60/mV+Wb5Rvk1+TX5Q/lh+Y35yPkR+mb6yPo0+6v7Kvyy/D/90v1p/gL/nP81AM0AYgHzAX8CAwOAA/QDXgS9BBAFWAWSBcAF4AXzBfgF7wXZBbYFhwVLBQQFsQRVBPADgwMPA5UCFgKUAQ8BiQACAH7//P59/gL+jf0f/bj8WvwF/Ln7ePtC+xf7+Prk+t364frw+gv7Mfth+5z73/ss/ID83Pw9/aT9EP5+/u/+Yf/U/0QAtAAhAYoB7wFOAqcC+QJDA4UDvgPvAxUEMgRFBE8ETgRDBC8EEgTsA70DhwNJAwQDuQJpAhUCvAFhAQQBpgBHAOr/jv8z/9z+iP45/u/9qv1s/TX9BP3b/Lr8oPyP/Ib8hfyL/Jr8sPzN/PH8HP1N/YP9vf38/T/+hf7N/hf/Yf+s//f/PwCGAMwADgFMAYcBvQHvARsCQQJiAnwCkQKfAqcCqQKkApoCigJ0AlkCOQIVAu0BwQGSAWABLAH3AMAAiQBSABsA5v+y/3//T/8h//f+0P6s/o3+cf5a/kj+Of4w/ir+Kf4t/jT+QP5P/mL+eP6R/q3+y/7r/g3/L/9T/3f/m/+//+L/BAAlAEQAYgB+AJgArwDEANYA5QDyAPsAAgEGAQcBBgECAfwA9ADpAN0AzwDAALAAnwCNAHsAaQBWAEQAMwAiABIAAwD2/+r/3//V/83/xv/B/73/u/+6/7v/vf/A/8T/yf/O/9T/2//i/+j/7//1//v/AAAAAAAAAAAAAAAAAAAAAAAAAAAAAAAAAAAAAAAAAAAAAAAAAAAAAAAAAAAAAAAAAAAAAAAAAAAAAAAAAAAAAAAAAAAAAAAAAAAAAAAAAAAAAAAAAAAAAAAAAAAAAAAAAAAAAAAAAAAAAAAAAAAAAAAAAAAAAAAAAAAAAAAAAAAAAAAAAAAAAAAAAAAAAAAAAAAAAAAAAAAAAAAAAAAAAAAAAAAAAAAAAAAAAAAAAAAAAAAAAAAAAAAAAAAAAAAAAAAAAAAAAAAAAAAAAAAAAAAAAAAAAAAAAAAAAAAAAAAAAAAAAAAAAAAAAAAAAAAAAAAAAAAAAAAAAAAAAAAAAAAAAAAAAAAAAAAAAAAAAAAAAAAAAAAAAAAAAAAAAAAAAAAAAAAAAAAAAAAAAAAAAAAAAAAAAAAAAAAAAAAAAAAAAAAAAAAAAAAAAAAAAAAAAAAAAAAAAAAAAAAAAAAAAAAAAAAAAAAAAAAAAAAAAAAAAAAAAAAAAAAAAAAAAAAAAAAAAAAAAAAAAAAAAAAAAAAAAAAAAAAAAAAAAAAAAAAAAAAAAAAAAAAAAAAAAAAAAAAAAAAAAAAAAAAAAAAAAAAAAAAAAAAAAAAAAAAAAAAAAAAAAAAAAAAAAAAAAAAAAAAAAAAAAAAAAAAAAAAAAAAAAAAAAAAAAAAAAAAAAAAAAAAAAAAAAAAAAAAAAAAAAAAAAAAAAAAAAAAAAAAAAAAAAAAAAAAAAAAAAAAAAAAAAAAAAAAAAAAAAAAAAAAAAAAAAAAAAAAAAAAAAAAAAAAAAAAAAAAAAAAAAAAAAAAAAAAAAAAAAAAAAAAAAAAAAAAAAAAAAAAAAAAAAAAAAAAAAAAAAAAAAAAAAAAAAAAAAAAAAAAAAAAAAAAAAAAAAAAAAAAAAAAAAAAAAAAAAAAAAAAAAAAAAAAAAAAAAAAAAAAAAAAAAAAAAAAAAAAAAAAAAAAAAAAAAAAAAAAAAAAAAAAAAAAAAAAAAAAAAAAAAAAAAAAAAAAAAAAAAAAAAAAAAAAAAAAAAAAAAAAAAAAAAAAAAAAAAAAAAAAAAAAAAAAAAAAAAAAAAAAAAAAAAAAAAAAAAAAAAAAAAAAAAAAAAAAAAAAAAAAAAAAAAAAAAAAAAAAAAAAAAAAAAAAAAAAAAAAAAAAAAAAAAAAAAAAAAAAAAAAAAAAAAAAAAAAAAAAAAAAAAAAAAAAAAAAAAAAAAAAAAAAAAAAAAAAAAAAAAAAAAAAAAAAAAAAAAAAAAAAAAAAAAAAAAAAAAAAAAAAAAAAAAAAAAAAAAAAAAAAAAAAAAAAAAAAAAAAAAAAAAAAAAAAAAAAAAAAAAAAAAAAAAAAAAAAAAAAAAAAAAAAAAAAAAAAAAAAAAAAAAAAAAAAAAAAAAAAAAAAAAAAAAAAAAAAAAAAAAAAAAAAAAAAAAAAAAAAAAAAAAAAAAAAAAAAAAAAAAAAAAAAAAAAAAAAAAAAAAAAAAAAAAAAAAAAAAAAAAAAAAAAAAAAAAAAAAAAAAAAAAAAAAAAAAAAAAAAAAAAAAAAAAAAAAAAAAAAAAAAAAAAAAAAAAAAAAAAAAAAAAAAAAAAAAAAAAAAAAAAAAAAAAAAAAAAAAAAAAAAAAAAAAAAAAAAAAAAAAAAAAAAAAAAAAAAAAAAAAAAAAAAAAAAAAAAAAAAAAAAAAAAAAAAAAAAAAAAAAAAAAAAAAAAAAAAAAAAAAAAAAAAAAAAAAAAAAAAAAAAAAAAAAAAAAAAAAAAAAAAAAAAAAAAAAAAAAAAAAAAAAAAAAAAAAAAAAAAAAAAAAAAAAAAAAAAAAAAAAAAAAAAAAAAAAAAAAAAAAAAAAAAAAAAAAAAAAAAAAAAAAAAAAAAAAAAAAAAAAAAAAAAAAAAAAAAAAAAAAAAAAAAAAAAAAAAAAAAAAAAAAAAAAAAAAAAAAAAAAAAAAAAAAAAAAAAAAAAAAAAAAAAAAAAAAAAAAAAAAAAAAAAAAAAAAAAAAAAAAAAAAAAAAAAAAAAAAAAAAAAAAAAAAAAAAAAAAAAAAAAAAAAAAAAAAAAAAAAAAAAAAAAAAAAAAAAAAAAAAAAAAAAAAAAAAAAAAAAAAAAAAAAAAAAAAAAAAAAAAAAAAAAAAAAAAAAAAAAAAAAAAAAAAAAAAAAAAAAAAAAAAAAAAAAAAAAAAAAAAAAAAAAAAAAAAAAAAAAAAAAAAAAAAAAAAAAAAAAAAAAAAAAAAAAAAAAAAAAAAAAAAAAAAAAAAAAAAAAAAAAAAAAAAAAAAAAAAAAAAAAAAAAAAAAAAAAAAAAAAAAAAAAAAAAAAAAAAAAAAAAAAAAAAAAAAAAAAAAAAAAAAAAAAAAAAAAAAAAAAAAAAAAAAAAAAAAAAAAAAAAAAAAAAAAAAAAAAAAAAAAAAAAAAAAAAAAAAAAAAAAAAAAAAAAAAAAAAAAAAAAAAAAAAAAAAAAAAAAAAAAAAAAAAAAAAAAAAAAAAAAAAAAAAAAAAAAAAAAAAAAAAAAAAAAAAAAAAAAAAAAAAAAAAAAAAAAAAAAAAAAAAAAAAAAAAAAAAAAAAAAAAAAAAAAAAAAAAAAAAAAAAAAAAAAAAAAAAAAAAAAAAAAAAAAAAAAAAAAAAAAAAAAAAAAAAAAAAAAAAAAAAAAAAAAAAAAAAAAAAAAAAAAAAAAAAAAAAAAAAAAAAAAAAAAAAAAAAAAAAAAAAAAAAAAAAAAAAAAAAAAAAAAAAAAAAAAAAAAAAAAAAAAAAAAAAAAAAAAAAAAAAAAAAAAAAAAAAAAAAAAAAAAAAAAAAAAAAAAAAAAAAAAAAAAAAAAAAAAAAAAAAAAAAAAAAAAAAAAAAAAAAAAAAAAAAAAAAAAAAAAAAAAAAAAAAAAAAAAAAAAAAAAAAAAAAAAAAAAAAAAAAAAAAAAAAAAAAAAAAAAAAAAAAAAAAAAAAAAAAAAAAAAAAAAAAAAAAAAAAAAAAAAAAAAAAAAAAAAAAAAAAAAAAAAAAAAAAAAAAAAAAAAAAAAAAAAAAAAAAAAAAAAAAAAAAAAAAAAAAAAAAAAAAAAAAAAAAAAAAAAAAAAAAAAAAAAAAAAAAAAAAAAAAAAAAAAAAAAAAAAAAAAAAAAAAAAAAAAAAAAAAAAAAAAAAAAAAAAAAAAAAAAAAAAAAAAAAAAAAAAAAAAAAAAAAAAAAAAAAAAAAAAAAAAAAAAAAAAAAAAAAAAAAAAAAAAAAAAAAAAAAAAAAAAAAAAAAAAAAAAAAAAAAAAAAAAAAAAAAAAAAAAAAAAAAAAAAAAAAAAAAAAAAAAAAAAAAAAAAAAAAAAAAAAAAAAAAAAAAAAAAAAAAAAAAAAAAAAAAAAAAAAAAAAAAAAAAAAAAAAAAAAAAAAAAAAAAAAAAAAAAAAAAAAAAAAAAAAAAAAAAAAAAAAAAAAAAAAAAAAAAAAAAAAAAAAAAAAAAAAAAAAAAAAAAAAAAAAAAAAAAAAAAAAAAAAAAAAAAAAAAAAAAAAAAAAAAAAAAAAAAAAAAAAAAAAAAAAAAAAAAAAAAAAAAAAAAAAAAAAAAAAAAAAAAAAAAAAAAAAAAAAAAAAAAAAAAAAAAAAAAAAAAAAAAAAAAAAAAAAAAAAAAAAAAAAAAAAAAAAAAAAAAAAAAAAAAAAAAAAAAAAAAAAAAAAAAAAAAAAAAAAAAAAAAAAAAAAAAAAAAAAAAAAAAAAAAAAAAAAAAAAAAAAAAAAAAAAAAAAAAAAAAAAAAAAAAAAAAAAAAAAAAAAAAAAAAAAAAAAAAAAAAAAAAAAAAAAAAAAAAAAAAAAAAAAAAAAAAAAAAAAAAAAAAAAAAAAAAAAAAAAAAAAAAAAAAAAAAAAAAAAAAAAAAAAAAAAAAAAAAAAAAAAAAAAAAAAAAAAAAAAAAAAAAAAAAAAAAAAAAAAAAAAAAAAAAAAAAAAAAAAAAAAAAAAAAAAAAAAAAAAAAAAAAAAAAAAAAAAAAAAAAAAAAAAAAAAAAAAAAAAAAAAAAAAAAAAAAAAAAAAAAAAAAAAAAAAAAAAAAAAAAAAAAAAAAAAAAAAAAAAAAAAAAAAAAAAAAAAAAAAAAAAAAAAAAAAAAAAAAAAAAAAAAAAAAAAAAAAAAAAAAAAAAAAAAAAAAAAAAAAAAAAAAAAAAAAAAAAAAAAAAAAAAAAAAAAAAAAAAAAAAAAAAAAAAAAAAAAAAAAAAAAAAAAAAAAAAAAAAAAAAAAAAAAAAAAAAAAAAAAAAAAAAAAAAAAAAAAAAAAAAAAAAAAAAAAAAAAAAAAAAAAAAAAAAAAAAAAAAAAAAAAAAAAAAAAAAAAAAAAAAAAAAAAAAAAAAAAAAAAAAAAAAAAAAAAAAAAAAAAAAAAAAAAAAAAAAAAAAAAAAAAAAAAAAAAAAAAAAAAAAAAAAAAAAAAAAAAAAAAAAAAAAAAAAAAAAAAAAAAAAAAAAAAAAAAAAAAAAAAAAAAAAAAAAAAAAAAAAAAAAAAAAAAAAAAAAAAAAAAAAAAAAAAAAAAAAAAAAAAAAAAAAAAAAAAAAAAAAAAAAAAAAAAAAAAAAAAAAAAAAAAAAAAAAAAAAAAAAAAAAAAAAAAAAAAAAAAAAAAAAAAAAAAAAAAAAAAAAAAAAAAAAAAAAAAAAAAAAAAAAAAAAAAAAAAAAAAAAAAAAAAAAAAAAAAAAAAAAAAAAAAAAAAAAAAAAAAAAAAAAAAAAAAAAAAAAAAAAAAAAAAAAAAAAAAAAAAAAAAAAAAAAAAAAAAAAAAAAAAAAAAAAAAAAAAAAAAAAAAAAAAAAAAAAAAAAAAAAAAAAAAAAAAAAAAAAAAAAAAAAAAAAAAAAAAAAAAAAAAAAAAAAAAAAAAAAAAAAAAAAAAAAAAAAAAAAAAAAAAAAAAAAAAAAAAAAAAAAAAAAAAAAAoM+ReyIxovFjqPRG1OmFf9X4hnKG7Oc254/Xtzfsl//38RfwR93HmfdVhwEmrbYsVa4VFDSAI+NDPyJ1YceRB4BG34c+yl4B/V+clPvze1yasaoz6bRpRCjkGJTIVugq2ADICOgDCC74TGiKuNk5NwmjSizaomtCy+xsje01nfHusT9xsDHA/7Gp0m5zHAPA9HvVCzWd9hLGmKb+x0RXmKfLV+wX+rf3R+HnyveC50pm4jaLRgalhYT5FFLTtEMOwkQhleDVwBWPVr6bHdRtJCx7+81bKaqSOhg5nLkguNUIikhBCCmYBDgA+B+4IChh6KRI9rlYOcfKRFrcm288Csy9vWaOI47i/6MwYqEvcdgCmrNF8/gkn/UsBbsGO+attw93UIegR95X6mf0V/xH0me3F3rXLlbCZmgF4EVsRM10JTOE4t4yEsFkIKQv5G8mjmxdp2z5bEPLqBsHqnO5/Zl2KR5otyhw+ExYGZgI6ApIHYgyaHhovukFGXop7QpsevdbnCw5jO3dl55VHxSv1ICTIV7CBbLGU38UHoSzNVvF1xZUBsGXLvdrh6a30Bf3d/zH4CfRx6InYccRVrHGRAXJJTKEoVQHE1VSrYHhUTKAcr+znvbOPh17DM9MHFtzquaKVknT+WC5DUiqeGjYONgayA64BLgsiEXIj/jKeSRpnPoC+pVLIpvJjGidHi3IzoavRiAFkMNRjZIywvFDp4REFOWFepXyFnr21Fc9V3VXu+fQp/NX9Afi18AXnCdHpvNmkEYvNZFlGCR0w9ijJXJ8ob/g8PBBf4MOx34AXV9Mlev1u1Aqxmo52buJTFjtSJ74Ueg2iB0oBcgQWDyYWiiYiOb5RKmwijmqvrtOa+dMl+1OvfoOuD93gDZg8xG78m9DG4PPNGjFBuWYZhwWgNb190qHjfe/59/37gfqJ9RnvUd1FzyW1JZ95fmleQTtNEezqeL1UkuhjnDPcABvUt6YjdMdJCx9S8/7LYqXSh55lBk5KN54hKhcKCV4ELgd+B0YPchvqKIZBGllqdTqUQrou3qsFXzHjX9eK07pr6iwZvEigenCmzNFE/YEnJUnZbU2NPalpwZnVoeVZ8K37hfnh+8XxOepV20HEJbE1lrF02Vf9LHEKjN60sUSGpFdEJ4/368TDmodpnz5vEVrqvsLynkZ9BmN2RcowNiLiEeoJZgViBdYKvhAGIYozKkSyYeJ+gp5CwNLp2xD7PdtoC5snxsP2bCXIVFyFyLGc330HBS/hUbV0PZcxrlHFadhR6unxEfrF+/n0tfEN5RnU/cDpqRGNtW8dSZUldP8Y0tylJHpcSuwbR+vLuOePC16bM/8Hlt26usKW/na2WipBji0WHOYRFgm+Bt4Eeg5+FN4nbjYKTH5qjof2pGrPlvEjHK9J33RDp3fTDAKcMbxj/Iz4vETpgRBVOGFdVX7tmN228cjx3rnoKfUt+bX5wfVd7J3jmc59uXGgtYSJZTVDCRpc84jG9JkAbhQ+nA8L37+tJ4OvU8Mlvv4C1Oqyzo/2bKpVJj2eKkIbNgyOCl4EpgtmDoYZ+imSPSpUhnNujZqyutZ6/Icod1XvgIOzx99QDrw9nG+AmATKwPNZGWlApWS1hVWiRbtFzC3g1e0h9Pn4WftB8cHr6dnZy7mxwZgpfzFbJTRdEyjn6Lr8jNBhyDJQAtvTx6GDdHdJDx+q8KLMWqsWhS5q4kxmOfonvhXSDFYLSga6CpoS1h9WL/ZAglzGeH6bZrku4YMIAzRPYgeMv7wT74gayElgeuCm6NEQ/PkmSUitb9WLfadlv1XTIeKl7cn0efq19Hnx2ebt19XAva3Zk2VxqVDxLY0H2NgwsvyAoFWEJhf2v8fnlftpYz6HEcbresP+n6J+qmFeS/YyniGCFL4MZgiCCRYOFhdqIPo2lkgSZTaBvqFex8booxeTPDduJ5kDyFf7tCbAVQiGILGk3zEGaS7xUHl2tZFhrD3HGdXF5CnyJfet9MH1Ze2t4bHRkb2BpbmKcWv1RpEinPhw0Gim8HRoSUAZ4+qzuB+Ok153MC8IFuKKu+KUanhqXCJHyi+OH5IT9gjCCgoLvg3aGEIq2jl2U95p2osqq3rOfvffHzdIK3pPpT/UjAfQMqRglJE8vDTpIROhN11YBX1Rmv2wzcqR2CHpXfI19pX2hfIN6TncMc8RthGdZYFNYhk8ERuQ7PDEkJrcaDA9AA273rusc4NPU7Ml/v6W1dKwApF2cm5XLj/qKMod7hN2CW4L1gquEeYdXiz+QI5b3nKykMK1wtlbAzMq71Qnhnuxf+C8E9w+bGwAnDDKnPLhGKVDkWNVg6mcUbkVzcHeMepJ8fn1NfQB8mnkhdptxFGyZZTZe/1UETVtDGjlXLisjsBf/CzMAZ/S16DjdCtJFxwC9U7NUqheir5oulKCOFIqThiaE0YKYgnyDeYWNiK+M15H4lwWf7qahrwq5FMOnza3YDOSq72z7OAf1Eoce0ynANDU/G0lcUuFamGJwaVhvRHQoePx6uXxcfeJ8THugeOJ0G3BWaqBjCFyfU3lKq0BJNm0rLyCoFPIIKP1l8cPlXNpLz6jEjLoOsUKoPqATmdGSh41BiQiG44PYguiCFIRZhrKJF45/k9yZIKE8qRyyrbvYxYjQotsQ57Xyef4+Cu4VayGdLGo3uEFyS4BUz1xLZORqinAxdc94WnvOfCd9ZHyHepR3knOLbohomWHNWTVR5UfyPXMzfygwHZ8R5QUg+mfu1uKH15XMF8IluNauQKZ1noeXh5GBjICIj4Wzg/GCS4PAhEuH6YqQjzWVzZtIo5WrobRYvqTIbdOb3hXqwPWCAUAN4RhJJF8vCTovRLtNllatXu5lR2yqcQx2Ynmle89833zTe695d3YycutsrGaFX4ZXwE5IRTI7lzCNJS8alQ7bAhv3buvw37vU6MmQv8u1raxNpLycDZZOkIyL0ocphZeDHoPBg32FT4gwjBiR+5bMnXyl+a0wtwvBdstX1pfhG+3L+IkEPhDOGx8nFzKdPJpG90+eWHxgf2eYbbhy1Hbjed17vnyFfDF7xnhJdcJwPGvDZGVdM1VBTKJCbDi2LZgiLBeMC9P/GfR76BLd+NFHxxa9fbOSqmmiFJujlCePqoo3h9aEjYNdg0iETIZjiYiNsJLPmNmfvKdnsMe5xsNNzkXZleQi8NT7jQc3E7Ue7SnFNCY/+EgkUpZaO2IAadhutHOKd1B6AnyafBh8fHrLdwp0Qm9+actiOFvWUrlJ9D+fNdAqoB8pFIQIzfwc8Y3lO9o+z6/EqLo9sYaolaB8mUuTEo7aia+GloSWg6+D44Qth4mK8I5XlLKa8qEIquCyZ7yIxirRN9yU5ynz2/6OCioWlCGyLGo3pEFKS0RUgFzpY3BqBnCddC14q3oUfGN8mHu1eb52unKybbFnxmD/WG5QJ0c/Pcwy5ielHCQRfAXJ+SPupuJr143MI8JGuAuviKbQnvWXBZIPjR2JOYZphLKDFISPhSCIwItokA2WopwYpF+sY7UQv1DJDNQr35XqMPbfAYsNGBltJG4vBDoWRI5NVVZZXodlz2sicXV1vXjzehN8GXwHe914oXVacRNs12WzXrpW+02MRII68y/4JKkZIA52Asn2MOvF36TU5smiv/G156yapBydfpbQkB6Mc4jWhU+E4IOLhE2GJIkHjfCR0pegnkqmwK7ut8DBHszy1iPil+01+eIEhBAAHD0nITKTPHxGxE9YWCNgFWccbSxyOXY6eSh7/3u9e2N68ndydOpvZWruY5VcaVR/S+pBvzcWLQciqhYbC3T/zfNB6Ozc5tFJxy29qLPRqruieJsZla2PP4vbh4aFSIQhhBSFHYc5il+Oh5OlmaugiKgssYO6d8TyztzZHOWa8Dr84Qd3E+IeBirKNBc/1UjtUUxa3WGRaFhuJHPrdqV5S3vZe097rXn3djNza26oaPdhaVoOUvlIPz/1NDQqEx+rExcIcvzU8FnlGtoxz7fExLptscmo66DkmcWTnI5zilWHSYVThHWEsIX/h1+Lx48ulYabwqLSqqOzIL01x8vRytwY6JzzPP/dCmYWvCHGLGk3kEEhSwhUMFyHY/1pgm8KdIt3/Xlbe6B7znrleOp15HHbbNxm9F8yWKhPakaNPCYyTSccHKsQFQV0+eHtd+JQ14bMMMJnuECv0aYrn2KYg5KcjbmJ44YehXGE24RdhvOIlow/keOWdZ3npCetIrbGv/rJqdS63xTrnvY8AtUNTxmPJH0v/jn8Q2BNFFYFXiFlV2uacN50GHhCeld7VXs7egt4zHSEcD1rAmXjXe9VOE3TQ9M5US9kJCQZqw0TAnj28uqb347U5Mm1vxe2Ia3npHyd8JZSka+MEomDhgeFoYRUhR2H94ndjcaSp5hynxenhq+suHPCxcyM167iEu6f+TkFyBAyHFsnKjKIPF1GkU8SWMpfqmagbKBxn3WTeHV6Qnv3epV5IHedcxRvj2kbY8ZboVO/SjNBEzd3LHYhKharChX/gfMJ6Mfc1dFNx0S91LMQqw2j3JuPlTOQ1It9iDWGAoXlhN+F7ocNizWPXZR5mnuhU6nwsT27J8WVz3Lao+UQ8Z/8NAi3Ew4fHirONAc/sUi1UQFagGEiaNhtlXJOdvp4lXoZe4d63ngkdl5ylG3TZyVhnFlIUTtIiz5NNJkphh4vE6wHGfyN8CXl+tkmz8DE4LqesQ2pQqFNmj+UJY8Mi/uH+4UPhTqFfIbQiDOMnZADllmckaObq2S02L3ix2vSW92a6A70nP8rC6EW4yHZLGg3ekH4SstT4FslY4lp/m53c+p2UHmiet56BHoWeBd1DnEFbAhmI19nV+ROr0XcO4ExtyaUGzMQrgQf+Z/tSOI213/MPsKJuHavGaeGn8+YAZMqjlWKjIfThS+FooUqh8SJa40VkriXR560pe2t4bZ6wKPKRdVI4JLrC/eXAh4OhBmxJIov+DniQzJN01WxXbpk4GoScEd0dHeSeZ16kXpweTt3+HOub2dqL2QUXSZVd0waQyY5sC7RI6AYOA2yASn2tepy33nU48nHvz62W600pdudYZfUkUCNsYkuh76FYoUchuuHyoqyjpyTe5lCoOOnS7BnuSTDa80k2Dfji+4H+pAFDBFiHHcnMzJ9PD1GXk/MV3FfP2YlbBVxBXXrd8J5hXoyesl4T3bJcj9uumhJYvha2lL/SX5AaTbaK+ggqhU8Crj+NvPR56PcxdFRx1y9/7NPq1+jQJwElriQaYwgieSGu4WnhaiGvYjgiwqQMpVMm0qiHaqysva71cU30AbbKOaF8QL9hQj2EzkfNSrSNPY+jEh9UbZZImGzZ1htBnKwdVB44HlaesB5EXhSdYpxwGz/ZlVg0ViDUH9H2T2nMwAp/B20EkIHwPtI8PPk29kbz8nE/brPsVGpmKG2mriUr4+ki6GIrIbLhf6FR4egiQeNcpHXliudX6RirCO1jr6NyAnT690b6X70+/93C9oWCSLrLGc3ZUHOSo5TkVvDYhZpem7kckp2o3jqeR56PHlHd0R0OnAxazVlVF6dViJO9UQtO94wISYOG70PSATM+F7tG+Ic13rMTMKruKuvYqfinzuZfpO3jvGKNIiHhu2FaIb2h5WKPo7pkouYGJ+AprOunrctwUvL4NXU4A/sd/fxAmUOuRnSJJgv8TnHQwNNkVVcXVRkaGqLb7Fz0HbjeON5znmmeGx2JnPabpRpXmNGXF5Ut0tkQno4ES4/Ix4YxgxRAdr1eepK32XU4snbv2W2lq2CpTue0pdVktGNUIrah3SGIYbjhriIm4uGj3CUTZoRoa2oDrEiutTDD8662L/jBO9v+uUFTxGSHJMnOzJxPB1GK0+FVxlf1GWpa4pwa3RFdxB5yXltef53gHX2cWtt52d4YSxaFFJCSco/wTU+K1ogLBXPCVz+7PKa54DcttFVx3W9LLSOq7GjpJx5lj6R/YzBiZKHc4ZohnGHi4myjN6QBZYdnBij5apzs668gsbY0JnbrOb58WX91gg0FGQfTCrVNOU+Z0hFUWpZxWBEZ9lsd3EUdad3K3mcefp4RXeCdLdw7GstZoZfBljAT8RGKD0CM2goch06EtkGafsD8MHkvdkQz9PEG7sAspWp76EemzKVOJA7jEWJXIeFhsGGEIhvitmNRZKql/udK6UoreG1Q782yabTet6b6e30WADDCxMXLyL9LGQ3T0GlSlFTQVthYqNo921Scqp193czeV15dHh6dnNzZ29eamRkhl3VVWFNPUR/Oj0wjSWIGkcP5AN5+B7t7+ED13TMW8LNuOGvq6c9oKiZ+5NEj4yL24g6h6qGLYfCiGWLEI+8k12Z559Kp3evWrjfwfHLedZf4Yrs4fdKA6wO7RnyJKQv6jmsQ9VMT1UIXe5j8WkEbxtzLnY0eCp5DXndd551VHIHbsFojWJ6W5hT+EquQdA3cy2vIp0XVQzxAI31P+oi31HU4snvv4y20a3PpZueQ5jWkmGO7oqEiCmH4Iaqh4SJa4xYkEKVHpvfoXWpz7HbuoPEsc5Q2Ubkeu/V+jkGkRHAHK4nQjJkPP1F904+V8BeamUua/9v0nOfdl94DXmqeDR3sXQlcZhsFmepYGJZUFGGSBc/GjWkKs4fsBRiCQH+pPJl517cp9Fax469WLTOqwOkCJ3ulsORkY1jij+IK4cphzmIWIqCjbCR2JbunOSjrKsytGS9Lcd30SrcL+dr8sb9JQlwFI0fYirXNNQ+QkgNUR9ZaGDVZlps6XB4dP52d3jfeDV4enazc+VvGmtcZbhePlf+TgpGeTxeMtEn6hzCEXEGE/u/75HkoNkHz93EObsxstqpRqKGm6uVwJDSjOmJDIg/h4SH2Yg9i6qOF5N7mMqe9qXtrZ629r/eyULUCN8Z6lv1tQANDEsXUyINLWE3OEF6ShRT8VoAYjBodG3AcQp1S3d9eJ54rneudaRylW6MaZRjulwOVaFMhkPTOZ0v+iQEGtMOgQMo+ODsw+Hr1nDMasLwuBew9KeYoBWaeJTQjyaMgonsh2WH8IeMiTOM4Y+OlC6atKATqDmwFLmPwpbMEdfo4QTtS/iiA/IOHxoSJbAv4jmQQ6ZMDVWzXIhjeml9boZyi3WGd3F4THgVd9F0hHE2bfBnvmGvWtNSO0r6QCc31iwgIh0X5QuTAED1Ber83j7U48kDwLS2DK4dpvqetJhXk/GOi4suid6HnodviE+KOo0pkRSW7purojyqj7KSuzDFU8/k2cvk8O85+4wG0RHuHMknSTJXPN1Fw074Vmde/2SzanVvOnP6da53U3jnd2t243NUcMdrRWbcX5lYjVDLR2Y+dDQLKkMfNBT3CKj9XPIw5zzcmdFgx6e9hbQOrFWkbJ1jl0eSJI4Di+uI4ofoh/+IJItSjoGSqJe8na+kcazwtBm+18cV0rrcsOfc8ib+dAmsFLYfdyrYNMI+HUjUUNRYCmBnZttrW3Dcc1Z2xHcjeHF3sHXkchRvSWqMZOxddlY9TlJFyzu8MTwnYxxKEQsGvvp972HkhNn+zujEV7tjsh6qnKLvmySWSZFpjY2Ku4j4h0WIoYkKjHmP6JNMmZifv6awrlq3qMCFytzUlN+W6sj1EAFXDIIXdyIdLV43IUFQStZSoVqeYb1n8mwvcWx0oHbId+B36HbjdNVxxW28aMVi71tIVONL0UIoOf4uaSSCGWEOHwPY96LsmOHT1mzMesIUuU6wPajzoIGa9ZRckMCMKYqdiCCIs4hVigGNsZBelf2agaHbqPqwzLk+wznNp9dx4n7ttPj4AzMPSRojJacvvjlRQ0pMlFQeXNdirmiXbYdxdnRcdjV3AXe+dXFzHnDOa4pmXmBZWYpRA0nXPx026CtSIXEWXws1AA31/ekh35LUZcq0wJO3GK9Vp12gPZoGlcGQeY02i/uJzImpio+Me49mk0eYEZ66pDCsY7RAvbTGqNAH27flovCv+8IGxhGhHDkndjFCO4dEL00nVV1cwWJEaNpseHAYc7J0Q3XKdElzw3A9bcBoV2MNXfFVE06FRVo8qDKFKAYeRhNbCF/9avKV5/ncrdLKyGW/lLZqrvumVqCLmqaVtJG7jsSM04vpiwWNJ49IkmGWaZtUoRaona/at7nAJ8oN1Fbe6uiw85H+cwk/FNweMSkoM6k8oEX3TZ1VgFyQYsBnBGxTb6Vx9XJAc4ZyyHAMblZqr2UjYL1ZjVKjShFC6jhDLzIlzxowEG4Fofri70jl7drn0EzHNL6ytdqtvaZroPKaYJa9khOQZo68jRSOb4/IkRuVYJmNnpakbqsEs0i7JsSLzWHXkuEH7Kf2WgEKDJwW+yANK7w08j2bRqJO9lWHXERiI2cXaxduHnAmcS1xNXA9bk1raWecYu9ccVYwTzxHqD6HNe4r8yGsFzANmQL993XtF+P92D3P7MUgve20Zq2appqgc5sxl92TfpEbkLWPTZDjkXKU9ZdjnLKh1qfBrmO2q76Gx+DQpNq75A7vhvkLBIYO3hj9IsssMzYeP3lHMU80VnNc32FtZhJqxmyEbkZvDG/Xbalrh2h4ZIdfvVkpU9lL30NLOzMyqijGHp0URwrd/3P1IusC4SrXsM2pxCq8RbQOrZOm5KANnBqYE5X+kuGRvZGUkmKUJJfTmmef1qQSqw6yurkEwtnKJtTU3c/n//FO/KIG6BAFG+QkbS6NNy1AOkijT1ZWRFxhYaBl+Ghha9dsV23ebG5rDGm7ZYRhcVyNVuZPikiMQPs37i53JawbpBF2Bzn9A/Pr6AnfdNVAzIPDULu6s9Ksp6ZIocCcGpldlpCUt5PUk+aU6pbdmbadbqL5p0uuVbUHvVDFHc5a1/Lgz+ra9P3+IQkvExAdribzL8o4H0HfSPlPXFb7W8lgu2TIZ+lpGmtYa6Jq+2hnZupijl5cWWBTqExERUM9uTS4K1YipxjBDrwErvqs8M/mLN3a0+3KecKSukqzsazVpsShip0vmruXNZaelfiVQ5d7mZucnKB0pRqrfrGUuEvAkMhT0X7a/OO57Z73lAGFC1sV/x5cKFsx6jn0QWhJNFBJVppbGmDAY4NmXmhMaUtpW2h/ZrtjFWCWW0hWN1BySQZCBjqEMZMoRx+2FfQLGQI8+HDuzuRr21zStsmMwfG59rKqrBynWaJqnlmbLZnql5OXKZirmRScX5+Eo3uoN66stMu7g8PDy3nUkN3z5o7wS/oSBNANbRfTIO4pqDLuOq1C1UlTUBtWH1tUX69iK2XBZm5nMGcJZvpjCWE9XZ5YNlMTTUJG0z7WNl4ufyVLHNkSPgmQ/+P1T+zp4sbZ+9CcyLvAbLm9sr6sfacFo2GfmJyxmrCZl5lmmhucs54mom6mgKtRsdO3+b6wxujOjteP4NbpTfPg/HgGABBjGYsiYyvYM9Y7S0MnSllQ1FWMWnZeimHAYxNlgWUJZa1jbmFTXmJaplUoUPVJG0OqO7MzSCt8ImMZExCfBh79pPNI6h/hPNi1z53HBsABuZ6y7Kz2p8mjbaDrnUechZuom66clJ5XofGkWKmDrma087ocwtHJ/tGT2nzjpOz29V3/xAgXEj8bKCS9LOw0ojzNQ15KRVB1VeJZg11QYEJiVWOHY9diR2HbXphbh1evUh1N3Ub9P404njBCKIwfkBZiDRcExfp/8VzocN/P1ozOu8Ztv7K4mrIyrYeoo6SOoVCf7Z1pncWd/54VoQGkvqdCrIOxdbcLvjbF5MwF1YfdVeZc74j4wgH3ChMU/xypJfst5TVSPTREekoXUP1UIVl7XANfs2CIYYBhmmDaXkNc21iqVLtPF0rMQ+g8fDWXLUwlrhzQE8cKpgGF+HTvi+bc3XzVfs30xe6+fbivspGtL6mSpcOix6Ckn1uf7Z9ZoZujr6aMqiqvf7R+uhrBRMjqz/3XaOAb6f/xAvsOBBEN9BWlHg4nHi/BNug9gUR9StBPbVRLWF9bpF0UX6xfbF9TXmVcplkbVs9RyUwWR8NA3jl3Mp8qaCLjGSYRQghP/132g+3U5GTcRtSMzEjFi75iuN2yCK7tqZamC6RQommhWaEgorujKKZfqVutEbJ3t4C9H8RFy+LS49o348zrjPRm/UMGEQ+7Fy8gWCglMIM3Yj6zRGdKck/HU15XL1oyXGVdw11NXQRc6lkFV1tT9E7bSRxEwz3gNoEvtyeVHywXkA7VBQ/9T/Ss6zjjB9sq07XLt8RBvmG4JLOWrsKqr6dlpeijPaNko12kJaa5qBKsKbD0tGi6esAaxzrOytW53fTlaO4D97H/Xgj3EGgZniGHKRExKjjCPsxEOEr7TgtTXVbsWLBap1vNWyRbrFlpV2FUmVAcTPNGKUHNOu0zmCzgJNQciRQRDH8D5/pb8u/pt+HF2SrS+cpBxBK+ebiDszuvq6vbqNCmkaUepXmloqaVqE2rxq71stO3VL1qwwnKItGj2H3gnOjv8GP55AFgCsMS+hrzIpsq4jG2OAg/y0TxSW5OOVJJVZdXHlnbWcxZ8VhOV+RUu1HZTUdJD0Q/PuI3BzG/KRkiJxr7EagJQAHX+IDwTehQ4J3YRdFYyuXD/L2puPmz9q+prBmqTahIpwunmafvqAqr5a16scC1rro4wFLG7cz702zbLuMx62HzrfsABEkMdhRyHC0klCuYMig5NT+yRJJJyk1SUSFUMFZ8VwJYv1e2VulUW1IUTxlLdUYyQV07ATUvLvUmZB+NF4IPVQca/+H2vu7E5gTfkdd60NDJo8P/vfG4hrTGsLqtaqvZqQypBanCqUOrg61/sC20h7iDvRTDLsnEz8bWJN7N5bHtvfXf/QMGGQ4OFtAdTCVzLDQzgDlIP4BEHEkRTVdQ5lK5VMxVHFapVXRUf1LQT2xMXEipQ10+hDgsMmQrOyTAHAYVHg0ZBQr9A/UW7Vbl092f1srPY8l5wxq+Ubkotaqx367LrHWr3qoIq/Orna0AsBmz4LZLu1LA6MUAzI7SgdnL4FnoHfAD+Pn/7gfQD4wXEx9RJjcttjO+OUM/N0SPSENMSU+aUTNTDlQrVIlTKlIRUENNxkmiReJAjzu2NWQvqCiRITAalBLPCvMCE/s/84jrAuS83MfVNM8QyWnDTb7HueG1o7IVsD2uHq28rBatLK78r4CytLWPuQq+GcOyyMbOSdUs3F/j0upz8jL6+wHACW0R8Rg7IDwn4S0eNOQ5JT/WQ+1HYEsoTj1QnVFEUi9SYVHaT59NtEogR+xCIT7KOPMyqSz8Jfkeshc2EJcI5QA0+ZPxFOrI4r/bCtW3ztXIccOYvlO6rbaus12xvq/WrqWuLa9ssF+yArVOuDy8w8DZxXHLgNH318fe4uU27bT0SvzmA3kL8RI8GkohDChyLm008TnwPmBDNkdqSvVM0U76T21QKlAyT4ZNK0smSH1EO0BnOw42OzD8KV8jcxxHFe0NdQbw/m73AfC56Kfh3Npm1FTOs8iRw/m+9bqPt820trJOsZmwmbBMsbGyxrSEt+e65b52w5DIJs4s1JXaUeFR6Ibv3/ZL/rkFGg1bFG0bPyLDKOkuozTmOaQ+00JqRmFJsEtUTUlOi04cTvxMLUu1SJhF3kGPPbU4XDOQLV0n0iD/GfESugtpBBH9wPWH7njnoeAT2tzTCs6qyMnDcb+su4O4/LUetOyyabKWsnKz/LQvtwe6fb2JwSLGPcvP0MvWI93J467qwvH0+DQAdAehDqwVhBwbI2ApRy/BNMM5QT4xQopFRUhcSspLi0yfTAZMwErRSD5GC0NCP+k6DDa2MPIqziRXHp0XrxCcCXUCSvsr9CftUOa032PZatPYzbjIF8T+v3e8irk9t5a1l7RDtJy0n7VKt5q5ibwQwCjExsjhzWzTXNmh3y/m9+zo8/P6BwIWCRAQ4xaCHdwj5CmML8c0iTnIPXpBl0QYR/hIMUrCSqpK6UmASHNGx0OBQKs8SzhtMxsuYShNIu0bThWBDpQHlwCb+a7y4OtC5eHezdgS07/N3sh7xKDAVr2juo64G7dOtii2qbbRt5u5BbwJv5/CwMZiy3rQ/NXd2w/ig+gr7/j12/zCA6EKZhECGGYehSRPKrkvtTQ5OTo9sECSQ9tFhEeMSO9IrEjFRzxGE0RRQfs9GTq0NdcwjCvfJd0flRkTE2gMogXS/gT4SvGy6k3kJ95P2NLSvc0byfbEV8FIvs277rmvuBG4Fri+uAe677txvofBKsVRyfTNB9N/2E/ea+TE6kvx8/es/mUFEgyiEgcZMh8UJaIqzi+MNNI4lzzSP3tCjUQDRttGEUenRpxF9EOyQdw+eDuONyczTC4KKWwjfh1PF+wQZQrHAyL9hfb/757pceOG3erXqtLTzW7JhcUiwku/CL1du0663rkMutm6QrxFvtzAAcSux9rLfNCI1fPaseC15vHsV/PY+WUA8QZsDcYT8xnkH4sl3CrLL0w0VjjgO+E+U0EwQ3VEHkUrRZpEb0OrQVI/ajz6OAo1ojDNK5UmCCEwGxwV2g53CAICi/se9czuouiu4v3cntea0v/N1skpxv/CYcBTvtq8+ru1uwq8+bx/vprARcN4xi3KW8750vzXWN0C4+3oCu9N9af7CAJkCKwO0hTHGn4g6iX/KrEv9zPGNxU73j0aQMVB2kJXQzxDiEI+QWA/8zz8OYI2jjInLlopLyS0HvQY/RLcDJ8GVAAL+tDzsu2+5wPijdxp16HSQs5UyuHG78OHwa2/ZL6xvZS9Dr4dv7/A8MKrxenIpMzS0GvVYtqu30PlEusQ8S73X/2UA8AJ1Q/EFYEb/yAwJgorgS+MMyE3ODrKPNM+TEAzQYdBRkFxQAo/FD2VOpE3EDQaMLgr8ybXIXAcyRbwEPIK3QS+/qP4mvKw7PTmceE13EzXv9KazubKrMfxxL3CFMH7v3K/fL8YwEXBAMNFxQ7IVcsTz0DT0Ne73PXhceck7QHz+fgB/wgFAwvlEJ4WIxxoIV8m/io7LwwzaDZIOaY7fD3GPoI/rj9JP1U+1DzJOjo4LDWmMbAtUymaJI8fPhqyFPgOHgkxAz79U/d88cfrQub44PXbRtf00gjPjcuJyATGA8SKwpzBPcFrwSfCcMNBxZfHbcq7zXrRotUp2gXfKuSO6SPv3fSv+ooAZQYvDNwRYBetHLkhdibcKt8udzKcNUc4cjoXPDQ9xj3MPUY9NjydOn844jXMMkMvTyv7Jk8iVh0dGK0SFQ1gB5wB1vsa9nbw9uqo5ZbgzdtX1z7Ti89HzHnJJ8dXxQzEScMPw2HDO8ScxYLH58nHzBnQ2NP513XcQOFP5pjrDvGk9k78/gGqB0INvBIJGB8d8iF3JqMqbi7PMb40NTcuOaU6lzsCPOQ7PzsUOmU4NzaPM3Iw6Cz6KK8kEiAuGw0WvBBGC7cFHQCF+vn0iO8+6iblTOC7237XndMi0BTNespayLjGmcX/xOrEW8VSxsrHwsk0zBvPcNIr1kXas95r42Poj+3k8lb41/1bA9cIPg6DE5sYeh0UImEmVSrpLRQxzjMTNtw3JznwOTU69jk0OfA3LjbyM0AxIC6YKrAmcSLlHRcZERTeDosJJAS2/kv58POz7p3pvOQZ4MDbutcR1MzQ8s2Ly5vJJ8gyx77GzMZbx2vI+Mn/y3zOaNG+1HTYg9zi4IblZepz76b08vlK/6EE7QkiDzMUFRm9HSAiNSbyKVAtRjDNMuE0fTadNz44YDgCOCU3zDX5M7Ax+C7VK1EocSRAIMcbEBcmEhUN5genAmX9KPj/8vXtFOlp5P3f3NsN2JnUidHjzqzM68qiydXIhsizyF/JhsolzDrOv9Cv0wLXstq13gLjkOdU7ETxVPZ4+6UAzwXsCu4PyxR3GegdFSLzJXspoyxmL7wxoTMRNQg2hDaFNgo2FTWnM8Uxcy+2LJQpFCZAIh4euhkcFVAQXwtXBkEBK/wd9ybyTu2j6C3k+N8N3HPYNdVY0uTP3c1IzCnLgspUyqDKZcuhzFHOcdD90u3VPdnj3NjgE+WJ6THuAfPs9+n86gHnBtILohBLFcIZ/h30IZ0l7yjkK3UumzBTMpkzaTTCNKM0DjQCM4MxlS87LXsqWyfjIxsgCxy9FzoTjA6/Cd0E8v8I+yr2Y/HA7EnoCeQJ4FPc79jk1TnT9dAcz7LNusw3zCrMksxuzb3Oe9Ck0jTVI9ht2wjf7eIT53Dr+++p9G/5Q/4ZA+cHogw/EbQV9hn9Hb4hMiVQKBMrcy1sL/gwFTLAMvkyvTIPMu8wYS9oLQgrSCgtJb4hBR4IGtEVahHcDDMIeQO4/vv5TfW58EjsBej64zDgrtx+2aXWK9QW0mjQKM9WzvXNBc6HznjP2NCi0tLUY9dQ2pHdIOHz5APpRu2y8T323fqH/zAE0AhaDcQRBhYUGuUdciGzJJ8nMCphLC4ukC+HMBAxKTHSMA4w3C5BLT8r3CgdJgkjph/8GxQY9hOtD0ELvQYqApX9BvmI9CXw6OvZ5wLkbOAe3SDaedcu1UXTwtGo0PrPuc/lz37Qg9Hx0sXU+daL2XLcqt8q4+rm4uoJ71TzvPc1/LQAMQWiCfsNMxJBFhsauR0SISAk2yY9KUEr4iwdLu8uVy9TL+QuCy7KLCQrHCm4Jv0j8SCbHQMaMRYuEgMOuglbBfIAifwo+Nrzqe+e68PnH+S84KHd1dpd2EDWgtQo0zPSp9GD0cnReNKO0wjV49Yb2arbit624SXl0eiv7Lnw4/Qm+Xf9ywEbBlwKhQ6LEmUWDBp3HZ4geiMFJjkoESqKK58sTy2YLXkt9CwILLoqCin/Jpsk5iHkHp0bGRhfFHgQbQxHCA8E0f+T+2H3Q/NE72vrw+dS5CHhON6b21LZYdfN1ZnUyNNb01PTsdNz1JfVHNf82DTbv92X4LXjEuen6mvuVvJe9nv6o/7MAu8GAAv3DswSdBboGSEdFiDCIh8lJifUKCUqFyumK9IrmysBKwYqrCj2JugkiCLZH+Qcrhk/Fp4S1Q7rCukG2QLF/rT6sfbD8vXuT+vY55rkm+Hh3nPcV9qR2CTXFdZl1RbVKNWb1W7Wn9cr2Q/bRt3L35jipuXw6GzsFPDf88T3u/u5/7cDqweNC1QP9hJtFq8Zthx8H/khKCQEJoontiiFKfYpByq5KQ0pBCihJuck2SJ9INkd8RrOF3UU8BBFDX0JoQW5AdD97PkX9lryve5I6wPo9uQn4pzfXN1r287ZiNib1wrX19YA14fXadil2TfbG91P38vhjOSJ573qIO6r8VX1Ffnl/LkAiwRRCAQMmg8LE1AWYRk4HM4eHiEhI9QkNCY8J+snPyg4KNYnGScFJpok3SLSIH0e5BsMGf0VvBJTD8gLIwhtBK8A8fw6+ZT1B/Ka7lfrQ+hm5cbiauBV3o7cGNv22SrZt9id2NzYdNlj2qbbPN0g307hweNy5l3peuzD7y7ztvZS+vn9owFIBeAIYwzJDwoTHhb/GKcbDx4yIAwilyPRJLglSSaDJmUm8CUmJQgkmCLbINQeiBz7GTUXOxQVEckNXwreBk8Du/8o/J/4J/XK8Y7ue+uX6OnleONI4V7fv91u3G7bwtpq2mfautpg21rcpN083x3hQ+Oq5UzoIusn7lPxn/QE+Hn7+P52Au8FWQmtDOMP8xLYFYoYAxs/HTcf6CBNImQjKySgJMEkjyQKJDQjDyKcIOAe3xydGiAYbRWLEn8PUgwJCa4FRwLd/nX7GvjR9KPxl+6z6//ogOY75DbideD93s/d8Nxh3CLcNdyZ3E3dT96d3zThEeMu5YfnF+rX7MLv0PL89Tz5i/zh/zQDgAa8CeEM5w/IEn0VARhNGl0cLB62H/cg7SGWIvEi+yK3IiQiRCEZIKYe7hz1Gr8YUxa0E+oQ+w3uCsgHkwRUART+2fqr95H0kvG17gHseuko5w/lNOOb4UfgPN973gbe390F3njeN99A4JDhJeP75A3nV+nT63zuS/E79EX3YPqI/bMA3AP6BggK/gzVD4gSDxVlF4YZbBsTHXcelh9tIPogPCEzId4gPyBXHyketxwEGxUZ7haTFAsSWw+KDJ0JnAaMA3YAYv1T+lP3Z/SX8ejuYuwJ6uPn9OVB5M7ineGy4A7gst+g39jfWOAg4S3ifeMO5dvm4OgZ64DtEPDD8pP1efhw+2/+cAFtBF8HPwoGDa8PMxKNFLgWrhhrGuwbLB0qHuQeVx+DH2cfBB9bHm4dPxzPGiQZQRcpFeMScxDeDSsLYAiEBZwCsP/F/OP5EPdS9LDxMO/X7Krqr+jp5l3lDeT+4jHiqOFk4WXhq+E34gXjFeRj5e7msOim6szsHe+T8Sj01/aa+Wr8Qf8XAugErQdgCvkMdA/LEfkT+BXFF1sZtxrWG7UcUx2uHcYdmh0rHXociRtaGvAYThd4FXMTQhHrDnMM4Ak4B4AEwAH+/j/8ifnj9lP03/GM71/tXeuL6e3nhuZZ5WnkueNI4xnjLON/4xPk5+T35ULnxOh66mDsce6q8ATze/UI+Kb6T/39/6gCTgXmB2sK1wwlD1ARUhMoFc0WPRh2GXUaNxu7GwAcBRzLG1MbnBqqGX0YGheEFb0TyhGwD3QNGguoCCMGkgP6AGL+zvtF+cz2afQi8vvv+e0h7Hjq/+i857Dm3uVI5e7k0uT05FPl7uXE5tLnF+mP6jfsC+4H8CbyZPS69iX5nfsf/qIAJAOeBQkIYQqhDMIOwRCaEkcUxRUSFykYCRmwGR0aThpDGv0ZfBnCGNAXqBZOFcQTDhIwEC8ODgzTCYMHIwW5AkkA3P1z+xb5yvaU9HjyffCm7vfsdOsg6v/oEuhc597mmuaP5r3mJefF55zop+nk6lDs6O2p743xkvOx9eb3LfqA/Nn+MwGKA9gFFwhDClYMTA4hENARVhOvFNkV0RaUFyIYeRiYGH8YLxioF+wW/BXcFIwTERJtEKYOvgy6Cp8IcgY3BPQBr/9r/S77/fjd9tP04/IS8WTv3O1/7E7rTep+6eLoe+hJ6E3oh+j26Jjpbupz66fsBu6M7zfxA/Pr9Ov2//gh+079f/+vAdoD/AUQCA8K9wvDDW4P9hBWEowTlRRuFRcWjRbQFt8WuhZiFtgVHBUwFBgT1RFqENsOKw1eC3kJfwd1BWEDRQEp/xD9/vr4+AT3JvVh87nxM/DS7pjtieym6/Pqb+oc6vvpDepP6sPqZ+s57DftX+6v7yLxt/Jo9DP2E/gE+gH8Bv4NABQCFQQMBvMHyAmFCycNqg4LEEcRWxJFEwIUkhTzFCQVJRX2FJgUCxRRE2wSXhEpENEOVw3BCxAKSghyBo0EnwKsALn+yvzj+gn5QPeM9fHzcvIT8dbvv+7Q7QrtcOwC7MLrsevN6xfsjeww7f3t8u4N8EvxqvIm9L31afco+fX6zPyq/ogAZQI7BAYGwwdsCQALeQzVDREPKhAeEeoRjRIGE1MTdBNpEzIT0BJEEo4RsRCvD4oORQ3jC2cK1AguB3kFuQPyAScAXv6a/N76L/mQ9wb2lPQ88wLy6fDz7yLvd+717Zztbe1o7Y3t3O1T7vPuue+i8K/x2vIj9Ib1//aM+Cn60vuD/Tj/7QCgAksE7AV+B/4IaAq6C/AMCA4AD9UPhRAPEXMRrhHCEa0RcBEMEYEQ0g//DgsO+AzIC34KHgmpByUGlAT5AloBuf8Z/n787fpp+fT3k/ZI9Rf0AfMK8jPxfvDt74HvOu8a7yDvTO+e7xTwr/Bs8UnyRPNc9I311fYx+J35Fvua/CT+sf89AcYCRwS9BSUHfAi+CekK+wvxDMkNgA4XD4oP2w8HEA4Q8Q+wD0wPxg4eDlcNcgxyC1kKKQnmB5IGLwXDA08C1wBf/+n9ePwR+7f5a/gy9w72AvUP9Djzf/Ll8WvxE/Hd8Mnw2PAJ8Vzx0PFj8hXz5PPN9M/15/YT+E/5mvrw+079sf4UAHgB1gItBHoFuAbnBwMJCQr3CswLhQwiDaAN/w0+DlwOWQ43DvQNkQ0RDXMMugvmCvsJ+gjmB8AGjQVOBAYDuQFpABr/zf2H/Er7GPr1+OT35fb89Sv1c/TV81Tz8PKq8oPyevKQ8sTyFvOF8xD0tfRz9Un2M/cx+D/5XPqE+7b87f0p/2MAnQHSAv8DIwU5BkAHNggYCeUJmgo3C7oLIQxtDJwMrwylDH4MOwzdC2QL0QonCmcJkgiqB7MGrAWbBH8DXQI3ARAA6v7H/ar8lvuN+pL5pvjM9wX3VPa59Tb1zPR89Eb0K/Qr9Eb0e/TL9DP1s/VK9vb2tveI+Gr5WvpW+1v8Z/14/ov/nQCuAbkCvQO4BKcFhwZYBxgIxAhcCd4JSAqbCtYK+AoBC/EKyAqHCi4Kvwk6CaEI9Qc4B2sGkQWrBLwDxQLJAcsAzf/P/tX94vz2+xX7Qfp6+cP4HfiK9wv3oPZM9g725vXW9d31+/Uv9nn22fZN99P3bPgV+c35kvpj+zz8Hv0E/u7+2f/CAKoBjAJoAzoEAgW+BWsGCQeWBxIIegjPCA8JOwlRCVIJPgkVCdgIhwgjCK0HJweRBu0FPAWBBL0D8QIfAkoBcwCe/8n++P0t/Wr8sPsB+176yflC+cz4Z/gU+NP3pPeK94L3jves9973Ivh3+Nz4UfnV+Wb6Avup+1n8EP3M/Y3+T/8RANMAkQFLAv4CqQNLBOMEbgXsBVwGvQYOB04HfQebB6gHoweNB2YHLwfnBpEGLAa6BTsFsgQfBIMD4QI5Ao0B3wAwAIP/2P4w/o398fxd/NL7Uvvd+nX6GvrN+Y/5X/k/+S/5Lvk9+Vv5h/nC+Qv6YfrD+jD7p/sn/K78Pf3Q/Wf+Af+c/zUAzgBkAfUBgQIGA4QD+ANiBMIEFgVdBZgFxgXnBfkF/gX2BeAFvQWNBVEFCQW3BFoE9QOHAxIDmAIZApUBEAGJAAIAfv/7/nv+AP6K/Rz9tPxV/AD8tPtz+zz7Efvy+t761vra+ur6Bfsr+1v7lvva+yf8fPzY/Dr9of0N/nz+7v5h/9P/RQC1ACMBjAHxAVECqwL9AkgDigPEA/QDGwQ4BEwEVQRUBEoENgQYBPIDwwOMA04DCQO9Am0CGAK/AWQBBgGnAEgA6v+N/zL/2v6G/jb+6/2m/Wj9MP3//Nb8tPya/In8gPx+/IX8lPyq/Mf87PwW/Uf9fv25/fn9PP6C/sv+Ff9g/6v/9v8/AIcAzQAQAU8BigHBAfMBHwJGAmcCggKXAqUCrQKvAqsCoAKQAnoCXwI/AhsC8gHGAZYBZAEvAfkAwgCKAFMAGwDm/7H/fv9N/x//9P7M/qj+iP5s/lX+Qv4z/ir+JP4j/ib+Lv46/kn+XP5z/oz+qP7G/uf+Cf8s/1D/df+Z/77/4v8EACUARgBkAIEAmwCzAMgA2gDqAPcAAQEIAQwBDQEMAQgBAgH6AO8A4wDVAMYAtQCkAJIAfwBsAFkARwA1ACMAEwADAPb/6f/d/9P/yv/D/73/uf+2/7X/tv+3/7r/vv/C/8j/zv/V/9v/4v/p//D/9v/8/wAAAAAAAAAAAAAAAAAAAAAAAAAAAAAAAAAAAAAAAAAAAAAAAAAAAAAAAAAAAAAAAAAAAAAAAAAAAAAAAAAAAAAAAAAAAAAAAAAAAAAAAAAAAAAAAAAAAAAAAAAAAAAAAAAAAAAAAAAAAAAAAAAAAAAAAAAAAAAAAAAAAAAAAAAAAAAAAAAAAAAAAAAAAAAAAAAAAAAAAAAAAAAAAAAAAAAAAAAAAAAAAAAAAAAAAAAAAAAAAAAAAAAAAAAAAAAAAAAAAAAAAAAAAAAAAAAAAAAAAAAAAAAAAAAAAAAAAAAAAAAAAAAAAAAAAAAAAAAAAAAAAAAAAAAAAAAAAAAAAAAAAAAAAAAAAAAAAAAAAAAAAAAAAAAAAAAAAAAAAAAAAAAAAAAAAAAAAAAAAAAAAAAAAAAAAAAAAAAAAAAAAAAAAAAAAAAAAAAAAAAAAAAAAAAAAAAAAAAAAAAAAAAAAAAAAAAAAAAAAAAAAAAAAAAAAAAAAAAAAAAAAAAAAAAAAAAAAAAAAAAAAAAAAAAAAAAAAAAAAAAAAAAAAAAAAAAAAAAAAAAAAAAAAAAAAAAAAAAAAAAAAAAAAAAAAAAAAAAAAAAAAAAAAAAAAAAAAAAAAAAAAAAAAAAAAAAAAAAAAAAAAAAAAAAAAAAAAAAAAAAAAAAAAAAAAAAAAAAAAAAAAAAAAAAAAAAAAAAAAAAAAAAAAAAAAAAAAAAAAAAAAAAAAAAAAAAAAAAAAAAAAAAAAAAAAAAAAAAAAAAAAAAAAAAAAAAAAAAAAAAAAAAAAAAAAAAAAAAAAAAAAAAAAAAAAAAAAAAAAAAAAAAAAAAAAAAAAAAAAAAAAAAAAAAAAAAAAAAAAAAAAAAAAAAAAAAAAAAAAAAAAAAAAAAAAAAAAAAAAAAAAAAAAAAAAAAAAAAAAAAAAAAAAAAAAAAAAAAAAAAAAAAAAAAAAAAAAAAAAAAAAAAAAAAAAAAAAAAAAAAAAAAAAAAAAAAAAAAAAAAAAAAAAAAAAAAAAAAAAAAAAAAAAAAAAAAAAAAAAAAAAAAAAAAAAAAAAAAAAAAAAAAAAAAAAAAAAAAAAAAAAAAAAAAAAAAAAAAAAAAAAAAAAAAAAAAAAAAAAAAAAAAAAAAAAAAAAAAAAAAAAAAAAAAAAAAAAAAAAAAAAAAAAAAAAAAAAAAAAAAAAAAAAAAAAAAAAAAAAAAAAAAAAAAAAAAAAAAAAAAAAAAAAAAAAAAAAAAAAAAAAAAAAAAAAAAAAAAAAAAAAAAAAAAAAAAAAAAAAAAAAAAAAAAAAAAAAAAAAAAAAAAAAAAAAAAAAAAAAAAAAAAAAAAAAAAAAAAAAAAAAAAAAAAAAAAAAAAAAAAAAAAAAAAAAAAAAAAAAAAAAAAAAAAAAAAAAAAAAAAAAAAAAAAAAAAAAAAAAAAAAAAAAAAAAAAAAAAAAAAAAAAAAAAAAAAAAAAAAAAAAAAAAAAAAAAAAAAAAAAAAAAAAAAAAAAAAAAAAAAAAAAAAAAAAAAAAAAAAAAAAAAAAAAAAAAAAAAAAAAAAAAAAAAAAAAAAAAAAAAAAAAAAAAAAAAAAAAAAAAAAAAAAAAAAAAAAAAAAAAAAAAAAAAAAAAAAAAAAAAAAAAAAAAAAAAAAAAAAAAAAAAAAAAAAAAAAAAAAAAAAAAAAAAAAAAAAAAAAAAAAAAAAAAAAAAAAAAAAAAAAAAAAAAAAAAAAAAAAAAAAAAAAAAAAAAAAAAAAAAAAAAAAAAAAAAAAAAAAAAAAAAAAAAAAAAAAAAAAAAAAAAAAAAAAAAAAAAAAAAAAAAAAAAAAAAAAAAAAAAAAAAAAAAAAAAAAAAAAAAAAAAAAAAAAAAAAAAAAAAAAAAAAAAAAAAAAAAAAAAAAAAAAAAAAAAAAAAAAAAAAAAAAAAAAAAAAAAAAAAAAAAAAAAAAAAAAAAAAAAAAAAAAAAAAAAAAAAAAAAAAAAAAAAAAAAAAAAAAAAAAAAAAAAAAAAAAAAAAAAAAAAAAAAAAAAAAAAAAAAAAAAAAAAAAAAAAAAAAAAAAAAAAAAAAAAAAAAAAAAAAAAAAAAAAAAAAAAAAAAAAAAAAAAAAAAAAAAAAAAAAAAAAAAAAAAAAAAAAAAAAAAAAAAAAAAAAAAAAAAAAAAAAAAAAAAAAAAAAAAAAAAAAAAAAAAAAAAAAAAAAAAAAAAAAAAAAAAAAAAAAAAAAAAAAAAAAAAAAAAAAAAAAAAAAAAAAAAAAAAAAAAAAAAAAAAAAAAAAAAAAAAAAAAAAAAAAAAAAAAAAAAAAAAAAAAAAAAAAAAAAAAAAAAAAAAAAAAAAAAAAAAAAAAAAAAAAAAAAAAAAAAAAAAAAAAAAAAAAAAAAAAAAAAAAAAAAAAAAAAAAAAAAAAAAAAAAAAAAAAAAAAAAAAAAAAAAAAAAAAAAAAAAAAAAAAAAAAAAAAAAAAAAAAAAAAAAAAAAAAAAAAAAAAAAAAAAAAAAAAAAAAAAAAAAAAAAAAAAAAAAAAAAAAAAAAAAAAAAAAAAAAAAAAAAAAAAAAAAAAAAAAAAAAAAAAAAAAAAAAAAAAAAAAAAAAAAAAAAAAAAAAAAAAAAAAAAAAAAAAAAAAAAAAAAAAAAAAAAAAAAAAAAAAAAAAAAAAAAAAAAAAAAAAAAAAAAAAAAAAAAAAAAAAAAAAAAAAAAAAAAAAAAAAAAAAAAAAAAAAAAAAAAAAAAAAAAAAAAAAAAAAAAAAAAAAAAAAAAAAAAAAAAAAAAAAAAAAAAAAAAAAAAAAAAAAAAAAAAAAAAAAAAAAAAAAAAAAAAAAAAAAAAAAAAAAAAAAAAAAAAAAAAAAAAAAAAAAAAAAAAAAAAAAAAAAAAAAAAAAAAAAAAAAAAAAAAAAAAAAAAAAAAAAAAAAAAAAAAAAAAAAAAAAAAAAAAAAAAAAAAAAAAAAAAAAAAAAAAAAAAAAAAAAAAAAAAAAAAAAAAAAAAAAAAAAAAAAAAAAAAAAAAAAAAAAAAAAAAAAAAAAAAAAAAAAAAAAAAAAAAAAAAAAAAAAAAAAAAAAAAAAAAAAAAAAAAAAAAAAAAAAAAAAAAAAAAAAAAAAAAAAAAAAAAAAAAAAAAAAAAAAAAAAAAAAAAAAAAAAAAAAAAAAAAAAAAAAAAAAAAAAAAAAAAAAAAAAAAAAAAAAAAAAAAAAAAAAAAAAAAAAAAAAAAAAAAAAAAAAAAAAAAAAAAAAAAAAAAAAAAAAAAAAAAAAAAAAAAAAAAAAAAAAAAAAAAAAAAAAAAAAAAAAAAAAAAAAAAAAAAAAAAAAAAAAAAAAAAAAAAAAAAAAAAAAAAAAAAAAAAAAAAAAAAAAAAAAAAAAAAAAAAAAAAAAAAAAAAAAAAAAAAAAAAAAAAAAAAAAAAAAAAAAAAAAAAAAAAAAAAAAAAAAAAAAAAAAAAAAAAAAAAAAAAAAAAAAAAAAAAAAAAAAAAAAAAAAAAAAAAAAAAAAAAAAAAAAAAAAAAAAAAAAAAAAAAAAAAAAAAAAAAAAAAAAAAAAAAAAAAAAAAAAAAAAAAAAAAAAAAAAAAAAAAAAAAAAAAAAAAAAAAAAAAAAAAAAAAAAAAAAAAAAAAAAAAAAAAAAAAAAAAAAAAAAAAAAAAAAAAAAAAAAAAAAAAAAAAAAAAAAAAAAAAAAAAAAAAAAAAAAAAAAAAAAAAAAAAAAAAAAAAAAAAAAAAAAAAAAAAAAAAAAAAAAAAAAAAAAAAAAAAAAAAAAAAAAAAAAAAAAAAAAAAAAAAAAAAAAAAAAAAAAAAAAAAAAAAAAAAAAAAAAAAAAAAAAAAAAAAAAAAAAAAAAAAAAAAAAAAAAAAAAAAAAAAAAAAAAAAAAAAAAAAAAAAAAAAAAAAAAAAAAAAAAAAAAAAAAAAAAAAAAAAAAAAAAAAAAAAAAAAAAAAAAAAAAAAAAAAAAAAAAAAAAAAAAAAAAAAAAAAAAAAAAAAAAAAAAAAAAAAAAAAAAAAAAAAAAAAAAAAAAAAAAAAAAAAAAAAAAAAAAAAAAAAAAAAAAAAAAAAAAAAAAAAAAAAAAAAAAAAAAAAAAAAAAAAAAAAAAAAAAAAAAAAAAAAAAAAAAAAAAAAAAAAAAAAAAAAAAAAAAAAAAAAAAAAAAAAAAAAAAAAAAAAAAAAAAAAAAAAAAAAAAAAAAAAAAAAAAAAAAAAAAAAAAAAAAAAAAAAAAAAAAAAAAAAAAAAAAAAAAAAAAAAAAAAAAAAAAAAAAAAAAAAAAAAAAAAAAAAAAAAAAAAAAAAAAAAAAAAAAAAAAAAAAAAAAAAAAAAAAAAAAAAAAAAAAAAAAAAAAAAAAAAAAAAAAAAAAAAAAAAAAAAAAAAAAAAAAAAAAAAAAAAAAAAAAAAAAAAAAAAAAAAAAAAAAAAAAAAAAAAAAAAAAAAAAAAAAAAAAAAAAAAAAAAAAAAAAAAAAAAAAAAAAAAAAAAAAAAAAAAAAAAAAAAAAAAAAAAAAAAAAAAAAAAAAAAAAAAAAAAAAAAAAAAAAAAAAAAAAAAAAAAAAAAAAAAAAAAAAAAAAAAAAAAAAAAAAAAAAAAAAAAAAAAAAAAAAAAAAAAAAAAAAAAAAAAAAAAAAAAAAAAAAAAAAAAAAAAAAAAAAAAAAAAAAAAAAAAAAAAAAAAAAAAAAAAAAAAAAAAAAAAAAAAAAAAAAAAAAAAAAAAAAAAAAAAAAAAAAAAAAAAAAAAAAAAAAAAAAAAAAAAAAAAAAAAAAAAAAAAAAAAAAAAAAAAAAAAAAAAAAAAAAAAAAAAAAAAAAAAAAAAAAAAAAAAAAAAAAAAAAAAAAAAAAAAAAAAAAAAAAAAAAAAAAAAAAAAAAAAAAAAAAAAAAAAAAAAAAAAAAAAAAAAAAAAAAAAAAAAAAAAAAAAAAAAAAAAAAAAAAAAAAAAAAAAAAAAAAAAAAAAAAAAAAAAAAAAAAAAAAAAAAAAAAAAAAAAAAAAAAAAAAAAAAAAAAAAAAAAAAAAAAAAAAAAAAAAAAAAAAAAAAAAAAAAAAAAAAAAAAAAAAAAAAAAAAAAAAAAAAAAAAAAAAAAAAAAAAAAAAAAAAAAAAAAAAAAAAAAAAAAAAAAAAAAAAAAAAAAAAAAAAAAAAAAAAAAAAAAAAAAAAAAAAAAAAAAAAAAAAAAAAAAAAAAAAAAAAAAAAAAAAAAAAAAAAAAAAAAAAAAAAAAAAAAAAAAAAAAAAAAAAAAAAAAAAAAAAAAAAAAAAAAAAAAAAAAAAAAAAAAAAAAAAAAAAAAAAAAAAAAAAAAAAAAAAAAAAAAAAAAAAAAAAAAAAAAAAAAAAAAAAAAAAAAAAAAAAAAAAAAAAAAAAAAAAAAAAAAAAAAAAAAAAAAAAAAAAAAAAAAAAAAAAAAAAAAAAAAAAAAAAAAAAAAAAAAAAAAAAAAAAAAAAAAAAAAAAAAAAAAAAAAAAAAAAAAAAAAAAAAAAAAAAAAAAAAAAAAAAAAAAAAAAAAAAAAAAAAAAAAAAAAAAAAAAAAAAAAAAAAAAAAAAAAAAAAAAAAAAAAAAAAAAAAAAAAAAAAAAAAAAAAAAAAAAAAAAAAAAAAAAAAAAAAAAAAAAAAAAAAAAAAAAAAAAAAAAAAAAAAAAAAAAAAAAAAAAAAAAAAAAAAAAAAAAAAAAAAAAAAAAAAAAAAAAAAAAAAAAAAAAAAAAAAAAAAAAAAAAAAAAAAAAAAAAAAAAAAAAAAAAAAAAAAAAAAAAAAAAAAAAAAAAAAAAAAAAAAAAAAAAAAAAAAAAAAAAAAAAAAAAAAAAAAAAAAAAAAAAAAAAAAAAAAAAAAAAAAAAAAAAAAAAAAAAAAAAAAAAAAAAAAAAAAAAAAAAAAAAAAAAAAAAAAAAAAAAAAAAAAAAAAAAAAAAAAAAAAAAAAAAAAAAAAAAAAAAAAAAAAAAAAAAAAAAAAAAAAAAAAAAAAAAAAAAAAAAAAAAAAAAAAAAAAAAAAAAAAAAAAAAAAAAAAAAAAAAAAAAAAAAAAAAAAAAAAAAAAAAAAAAAAAAAAAAAAAAAAAAAAAAAAAAAAAAAAAAAAAAAAAAAAAAAAAAAAAAAAAAAAAAAAAAAAAAAAAAAAAAAAAAAAAAAAAAAAAAAAAAAAAAAAAAAAAAAAAAAAAAAAAAAAAAAAAAAAAAAAAAAAAAAAAAAAAAAAAAAAAAAAAAAAAAAAAAAAAAAAAAAAAAAAAAAAAAAAAAAAAAAAAAAAAAAAAAAAAAAAAAAAAAAAAAAAAAAAAAAAAAAAAAAAAAAAAAAAAAAAAAAAAAAAAAAAAAAAAAAAAAAAAAAAAAAAAAAAAAAAAAAAAAAAAAAAAAAAAAAAAAAAAAAAAAAAAAAAAAAAAAAAAAAAAAAAAAAAAAAAAAAAAAAAAAAAAAAAAAAAAAAAAAAAAAAAAAAAAAAAAAAAAAAAAAAAAAAAAAAAAAAAAAAAAAAAAAAAAAAAAAAAAAAAAAAAAAAAAAAAAAAAAAAAAAAAAAAAAAAAAAAAAAAAAAAAAAAAAAAAAAAAAAAAAAAAAAAAAAAAAAAAAAAAAAAAAAAAAAAAAAAAAAAAAAAAAAAAAAAAAAAAAAAAAAAAAAAAAAAAAAAAAAAAAAAAAAAAAAAAAAAAAAAAAAAAAAAAAAAAAAAAAAAAAAAAAAAAAAAAAAAAAAAAAAAAAAAAAAAAAAAAAAAAAAAAAAAAAAAAAAAAAAAAAAAAAAAAAAAAAAAAAAAAAAAAAAAAAAAAAAAAAAAAAAAAAAAAAAAAAAAAAAAAAAAAAAAAAAAAAAAAAAAAAAAAAAAAAAAAAAAAAAAAAAAAAAAAAAAAAAAAAAAAAAAAAAAAAAAAAAAAAAAAAAAAAAAAAAAAAAAAAAAAAAAAAAAAAAAAAAAAAAAAAAAAAAAAAAAAAAAAAAAAAAAAAAAAAAAAAAAAAAAAAAAAAAAAAAAAAAAAAAAAAAAAAAAAAAAAAAAAAAAAAAAAAAAAAAAAAAAAAAAAAAAAAAAAAAAAAAAAAAAAAAAAAAAAAAAAAAAAAAAAAAAAAAAAAAAAAAAAAAAAAAAAAAAAAAAAAAAAAAAAAAAAAAAAAAAAAAAAAAAAAAAAAAAAAAAAAAAAAAAAAAAAAAAAAAAAAAAAAAAAAAAAAAAAAAAAAAAAAAAAAAAAAAAAAAAAAAAAAAAAAAAAAAAAAAAAAAAAAAAAAAAAAAAAAAAAAAAAAAAAAAAAAAAAAAAAAAAAAAAAAAAAAAAAAAAAAAAAAAAAAAAAAAAAAAAAAAAAAAAAAAAAAAAAAAAAAAAAAAAAAAAAAAAAAAAAAAAAAAAAAAAAAAAAAAAAAAAAAAAAAAAAAAAAAAAAAAAAAAAAAAAAAAAAAAAAAAAAAAAAAAAAAAAAAAAAAAAAAAAAAAAAAAAAAAAAAAAAAAAAAAAAAAAAAAAAAAAAAAAAAAAAAAAAAAAAAAAAAAAAAAAAAAAAAAAAAAAAAAAAAAAAAAAAAAAAAAAAAAAAAAAAAAAAAAAAAAAAAAAAAAAAAAAAAAAAAAAAAAAAAAAAAAAAAAAAAAAAAAAAAAAAAAAAAAAAAAAAAAAAAAAAAAAAAAAAAAAAAAAAAAAAAAAAAAAAAAAAAAAAAAAAAAAAAAAAAAAAAAAAAAAAAAAAAAAAAAAAAAAAAAAAAAAAAAAAAAAAAAAAAAAAAAAAAAAAAAAAAAAAAAAAAAAAAAAAAAAAAAAAAAAAAAAAAAAAAAAAAAAAAAAAAAAAAAAAAAAAAAAAAAAAAAAAAAAAAAAAAAAAAAAAAAAAAAAAAAAAAAAAAAAAAAAAAAAAAAAAAAAAAAAAAAAAAAAAAAAAAAAAAAAAAAAAAAAAAAAAAAAAAAAAAAAAAAAAAAAAAAAAAAAAAAAAAAAAAAAAAAAAAAAAAAAAAAAAAAAAAAAAAAAAAAAAAAAAAAAAAAAAAAAAAAAAAAAAAAAAAAAAAAAAAAAAAAAAAAAAAAAAAAAAAAAAAAAAAAAAAAAAAAAAAAAAAAAAAAAAAAAAAAAAAAAAAAAAAAAAAAAAAAAAAAAAAAAAAAAAAAAAAAAAAAAAAAAAAAAAAAAAAAAAAAAAAAAAAAAAAAAAAAAAAAAAAAAAAAAAAAAAAAAAAAAAAAAAAAAAAAAAAAAAAAAAAAAAAAAAAAAAAAAAAAAAAAAAAAAAAAAAAAAAAAAAAAAAAAAAAAAAAAAAAAAAAAAAAAAAAAAAAAAAAAAAAAAAAAAAAAAAAAAAAAAAAAAAAAAAAAAAAAAAAAAAAAAAAAAAAAAAAAAAAAAAAAAAAAAAAAAAAAAAAAAAAAAAAAAAAAAAAAAAAAAAAAAAAAAAAAAAAAAAAAAAAAAAAAAAAAAAAAAAAAAAAAAAAAAAAAAAAAAAAAAAAAAAAAAAAAAAAAAAAAAAAAAAAAAAAAAAAAAAAAAAAAAAAAAAAAAAAAAAAAAAAAAAAAAAAAAAAAAAAAAAAAAAAAAAAAAAAAAAAAAAAAAAAAAAAAAAAAAAAAAAAAAAAAAAAAAAAAAAAAAAAAAAAAAAAAAAAAAAAAAAAAAAAAAAAAAAAAAAAAAAAAAAAAAAAAAAAAAAAAAAAAAAAAAAAAAAAAAAAAAAAAAAAAAAAAAAAAAAAAAAAAAAAAAAAAAAAAAAAAAAAAAAAAAAAAAAAAAAAAAAAAAAAAAAAAAAAAAAAAAAAAAAAAAAAAAAAAAAAAAAAAAAAAAAAAAAAAAAAAAAAAAAAAAAAAAAAAAAAAAAAAAAAAAAAAAAAAAAAAAAAAAAAAAAAAAAAAAAAAAAAAAAAAAAAAAAAAAAAAAAAAAAAAAAAAAAAAAAAAAAAAAAAAAAAAAAAAAAAAAAAAAAAAAAAAAAAAAAAAAAAAAAAAAAAAAAAAAAAAAAAAAAAAAAAAAAAAAAAAAAAAAAAAAAAAAAAAAAAAAAAAAAAAAAAAAAAAAAAAAAAAAAAAAAAAAAAAAAAAAAAAAAAAAAAAAAAAAAAAAAAAAAAAAAAAAAAAAAAAAAAAAAAAAAAAAAAAAAAAAAAAAAAAAAAAAAAAAAAAAAAAAAAAAAAAAAAAAAAAAAAAAAAAAAAAAAAAAAAAAAAAAAAAAAAAAAAAAAAAAAAAAAAAAAAAAAAAAAAAAAAAAAAAAAAAAAAAAAAAAAAAAAAAAAAAAAAAAAAAAAAAAAAAAAAAAAAAAAAAAAAAAAAAAAAAAAAAAAAAAAAAAAAAAAAAAAAAAAAAAAAAAAAAAAAAAAAAAAAAAAAAAAAAAAAAAAAAAAAAAAAAAAAAAAAAAAAAAAAAAAAAAAAAAAAAAAAAAAAAAAAAAAAAAAAAAAAAAAAAAAAAAAAAAAAAAAAAAAAAAAAAAAAAAAAAAAAAAAAAAAAAAAAAAAAAAAAAAAAAAAAAAAAAAAAAAAAAAAAAAAAAAAAAAAAAAAAAAAAAAAAAAAAAAAAAAAAAAAAAAAAAAAAAAAAAAAAAAAAAAAAAAAAAAAAAAAAAAAAAAAAAAAAAAAAAAAAAAAAAAAAAAAAAAAAAAAAAAAAAAAAAAAAAAAAAAAAAAAAAAAAAAAAAAAAAAAAAAAAAAAAAAAAAAAAAAAAAAAAAAAAAAAAAAAAAAAAAAAAAAAAAAAAAAAAAAAAAAAAAAAAAAAAAAAAAAAAAAAAAAAAAAAAAAAAAAAAAAAAAAAAAAAAAAAAAAAAAAAAAAAAAAAAAAAAAAAAAAAAAAAAAAAAAAAAAAAAAAAAAAAAAAAAAAAAAAAAAAAAAAAAAAAAAAAAAAAAAAAAAAAAAAAAAAAAAAAAAAAAAAAAAAAAAAAAAAAAAAAAAAAAAAAAAAAAAAAAAAAAAAAAAAAAAAAAAAAAAAAAAAAAAAAAAAAAAAAAAAAAAAAAAAAAAAAAAAAAAAAAAAAAAAAAAAAAAAAAAAAAAAAAAAAAAAAAAAAAAAAAAAAAAAAAAAAAAAAAAAAAAAAAAAAAAAAAAAAAAAAAAAAAAAAAAAAAAAAAAAAAAAAAAAAAAAAAAAAAAAAAAAAAAAAAAAAAAAAAAAAAAAAAAAAAAAAAAAAAAAAAAAAAAAAAAAAAAAAAAAAAAAAAAAAAAAAAAAAAAAAAAAAAAAAAAAAAAAAAAAAAAAAAAAAAAAAAAAAAAAAAAAAAAAAAAAAAAAAAAAAAAAAAAAAAAAAAAAAAAAAAAAAAAAAAAAAAAAAAAAAAAAAAAAAAAAAAAAAAAAAAAAAAAAAAAAAAAAAAAAAAAAAAAAAAAAAAAAAAAAAAAAAAAAAAAAAAAAAAAAAAAAAAAAAAAAAAAAAAAAAAAAAAAAAAAAAAAAAAAAAAAAAAAAAAAAAAAAAAAAAAAAAAAAAAAAAAAAAAAAAAAAAAAAAAAAAAAAAAAAAAAAAAAAAAAAAAAAAAAAAAAAAAAAAAAAAAAAAAAAAAAAAAAAAAAAAAAAAAAAAAAAAAAAAAAAAAAAAAAAAAAAAAAAAAAAAAAAAAAAAAAAAAAAAAAAAAAAAAAAAAAAAAAAAAAAAAAAAAAAAAAAAAAAAAAAAAAAAAAAAAAAAAAAAAAAAAAAAAAAAAAAAAAAAAAAAAAAAAAAAAAAAAAAAAAAAAAAAAAAAAAAAAAAAAAAAAAAAAAAAAAAAAAAAAAAAAAAAAAAAAAAAAAAAAAAAAAAAAAAAAAAAAAAAAAAAAAAAAAAAAAAAAAAAAAAAAAAAAAAAAAAAAAAAAAAAAAAAAAAAAAAAAAAAAAAAAAAAAAAAAAAAAAAAAAAAAAAAAAAAAAAAAAAAAAAAAAAAAAAAAAAAAAAAAAAAAAAAAAAAAAAAAAAAAAAAAAAAAAAAAAAAAAAAAAAAAAAAAAAAAAAAAAAAAAAAAAAAAAAAAAAAAAAAAAAAAAAAAAAAAAAAAAAAAAAAAAAAAAAAAAAAAAAAAAAAAAAAAAAAAAAAAAAAAAAAAAAAAAAAAAAAAAAAAAAAAAAAAAAAAAAAAAAAAAAAAAAAAAAAAAAAAAAAAAAAAAAAAAAAAAAAAAAAAAAAAAAAAAAAAAAAAAAAAAAAAAAAAAAAAAAAAAAAAAAAAAAAAAAAAAAAAAAAAAAAAAAAAAAAAAAAAAAAAAAAAAAAAAAAAAAAAAAAAAAAAAAAAAAAAAAAAAAAAAAAAAAAAAAAAAAAAAAAAAAAAAAAAAAAAAAAAAAAAAAAAAAAAAAAAAAAAAAAAAAAAAAAAAAAAAAAAAAAAAAAAAAAAAAAAAAAAAAAAAAAAAAAAAAAAAAAAAAAAAAAAAAAAAAAAAAAAAAAAAAAAAAAAAAAAAAAAAAAAAAAAAAAAAAAAAAAAAAAAAAAAAAAAAAAAAAAAAAAAAAAAAAAAAAAAAAAAAAAAAAAAAAAAAAAAAAAAAAAAAAAAAAAAAAAAAAAAAAAAAAAAAAAAAAAAAAAAAAAAAAAAAAAAAAAAAAAAAAAAAAAAAAAAAAAAAAAAAAAAAAAAAAAAAAAAAAAAAAAAAAAAAAAAAAAAAAAAAAAAAAAAAAAAAAAAAAAAAAAAAAAAAAAAAAAAAAAAAAAAAAAAAAAAAAAAAAAAAAAAAAAAAAAAAAAAAAAAAAAAAAAAAAAAAAAAAAAAAAAAAAAAAAAAAAAAAAAAAAAAAAAAAAAAAAAAAAAAAAAAAAAAAAAAAAAAAAAAAAAAAAAAAAAAAAAAAAAAAAAAAAAAAAAAAAAAAAAAAAAAAAAAAAAAAAAAAAAAAAAAAAAAAAAAAAAAAAAAAAAAAAAAAAAAAAAAAAAAAAAAAAAAAAAAAAAAAAAAAAAAAAAAAAAAAAAAAAAAAAAAAAAAAAAAAAAAAAAAAAAAAAAAAAAAAAAAAAAAAAAAAAAAAAAAAAAAAAAAAAAAAAAAAAAAAAAAAAAAAAAAAAAAAAAAAAAAAAAAAAAAAAAAAAAAAAAAAAAAAAAAAAAAAAAAAAAAAAAAAAAAAAAAAAAAAAAAAAAAAAAAAAAAAAAAAAAAAAAAAAAAAAAAAAAAAAAAAAAAAAAAAAAAAAAAAAAAAAAAAAAAAAAAAAAAAAAAAAAAAAAAAAAAAAAAAAAAAAAAAAAAAAAAAAAAAAAAAAAAAAAAAAAAAAAAAAAAAAAAAAAAAAAAAAAAAAAAAAAAAAAAAAAAAAAAAAAAAAAAAAAAAAAAAAAAAAAAAAAAAAAAAAAAAAAAAAAAAAAAAAAAAAAAAAAAAAAAAAAAAAAAAAAAAAAAAAAAAAAAAAAAAAAAAAAAAAAAAAAAAAAAAAAAAAAAAAAAAAAAAAAAAAAAAAAAAAAAAAAAAAAAAAAAAAAAAAAAAAAAAAAAAAAAAAAAAAAAAAAAAAAAAAAAAAAAAAAAAAAAAAAAAAAAAAAAAAAAAAAAAAAAAAAAAAAAAAAAAAAAAAAAAAAAAAAAAAAAAAAAAAAAAAAAAAAAAAAAAAAAAAAAAAAAAAAAAAAAAAAAAAAAAAAAAAAAAAAAAAAAAAAAAAAAAAAAAAAAAAAAAAAAAAAAAAAAAAAAAAAAAAAAAAAAAAAAAAAAAAAAAAAAAAAAAAAAAAAAAAAAAAAAAAAAAAAAAAAAAAAAAAAAAAAAAAAAAAAAAAAAAAAAAAAAAAAAAAAAAAAAAAAAAAAAAAAAAAAAAAAAAAAAAAAAAAAAAAAAAAAAAAAAAAAAAAAAAAAAAAAAAAAAAAAAAAAAAAAAAAAAAAAAAAAAAAAAAAAAAAAAAAAAAAAAAAAAAAAAAAAAAAAAAAAAAAAAAAAAAAAAAAAAAAAAAAAAAAAAAAAAAAAAAAAAAAAAAAAAAAAAAAAAAAAAAAAAAAAAAAAAAAAAAAAAAAAAAAAAAAAAAAAAAAAAAAAAAAAAAAAAAAAAAAAAAAAAAAAAAAAAAAAAAAAAAAAAAAAAAAAAAAAAAAAAAAAAAAAAAAAAAAAAAAAAAAAAAAAAAAAAAAAAAAAAAAAAAAAAAAAAAAAAAAAAAAAAAAAAAAAAAAAAAAAAAAAAAAAAAAAAAAAAAAAAAAAAAAAAAAAAAAAAAAAAAAAAAAAAAAAAAAAAAAAAAAAAAAAAAAAAAAAAAAAAAAAAAAAAAAAAAAAAAAAAAAAAAAAAAAAAAAAAAAAAAAAAAAAAAAAAAAAAAAAAAAAAAAAAAAAAAAAAAAAAAAAAAAAAAAAAAAAAAAAAAAAAAAAAAAAAAAAAAAAAAAAAAAAAAAAAAAAAAAAAAAAAAAAAAAAAAAAAAAAAAAAAAAAAAAAAAAAAAAAAAAAAAAAAAAAAAAAAAAAAAAAAAAAAAAAAAAAAAAAAAAAAAAAAAAAAAAAAAAAAAAAAAAAAAAAAAAAAAAAAAAAAAAAAAAAAAAAAAAAAAAAAAAAAAAAAAAAAAAAAAAAAAAAAAAAAAAAAAAAAAAAAAAAAAAAAAAAAAAAAAAAAAAAAAAAAAAAAAAAAAAAAAAAAAAAAAAAAAAAAAAAAAAAAAAAAAAAAAAAAAAAAAAAAAAAAAAAAAAAAAAAAAAAAAAAAAAAAAAAAAAAAAAAAAAAAAAAAAAAAAAAAAAAAAAAAAAAAAAAAAAAAAAAAAAAAAAAAAAAAAAAAAAAAAAAAAAAAAAAAAAAAAAAAAAAAAAAAAAAAAAAAAAAAAAAAAAAAAAAAAAAAAAAAAAAAAAAAAAAAAAAAAAAAAAAAAAAAAAAAAAAAAAAAAAAAAAAAAAAAAAAAAAAAAAAAAAAAAAAAAAAAAAAAAAAAAAAAAAAAAAAAAAAAAAAAAAAAAAAAAAAAAAAAAAAAAAAAAAAAAAAAAAAAAAAAAAAAAAAAAAAAAAAAAAAAAAAAAAAAAAAAAAAAAAAAAAAAAAAAAAAAAAAAAAAAAAAAAAAAAAAAAAAAAAAAAAAAAAAAAAAAAAAAAAAAAAAAAAAAAAAAAAAAAAAAAAAAAAAAAAAAAAAAAAAAAAAAAAAAAAAAAAAAAAAAAAAAAAAAAAAAAAAAAAAAAAAAAAAAAAAAAAAAAAAAAAAAAAAAAAAAAAAAAAAAAAAAAAAAAAAAAAAAAAAAAAAAAAAAAAAAAAAAAAAAAAAAAAAAAAAAAAAAAAAAAAAAAAAAAAAAAAAAAAAAAAAAAAAAAAAAAAAAAAAAAAAAAAAAAAAAAAAAAAAAAAAAAAAAAAAAAAAAAAAAAAAAAAAAAAAAAAAAAAAAAAAAAAAAAAAAAAAAAAAAAAAAAAAAAAAAAAAAAAAAAAAAAAAAAAAAAAAAAAAAAAAAAAAAAAAAAAAAAAAAAAAAAAAAAAAAAAAAAAAAAAAAAAAAAAAAAAAAAAAAAAAAAAAAAAAAAAAAAAAAAAAAAAAAAAAAAAAAAAAAAAAAAAAAAAAAAAAAAAAAAAAAAAAAAAAAAAAAAAAAAAAAAAAAAAAAAAAAAAAAAAAAAAAAAAAAAAAAAAAAAAAAAAAAAAAAAAAAAAAAAAAAAAAAAAAAAAAAAAAAAAAAAAAAAAAAAAAAAAAAAAAAAAAAAAAAAAAAAAAAAAAAAAAAAAAAAAAAAAAAAAAAAAAAAAAAAAAAAAAAAAAAAAAAAAAAAAAAAAAAAAAAAAAAAAAAAAAAAAAAAAAAAAAAAAAAAAAAAAAAAAAAAAAAAAAAAAAAAAAAAAAAAAAAAAAAAAAAAAAAAAAAAAAAAAAAAAAAAAAAAAAAAAAAAAAAAAAAAAAAAAAAAAAAAAAAAAAAAAAAAAAAAAAAAAAAAAAAAAAAAAAAAAAAAAAAAAAAAAAAAAAAAAAAAAAAAAAAAAAAAAAAAAAAAAAAAAAAAAAAAAAAAAAAAAAAAAAAAAAAAAAAAAAAAAAAAAAAAAAAAAAAAAAAAAAAAAAAAAAAAAAAAAAAAAAAAAAAAAAAAAAAAAAAAAAAAAAAAAAAAAAAAAAAAAAAAAAAAAAAAAAAAAAAAAAAAAAAAAAAAAAAAAAAAAAAAAAAAAAAAAAAAAAAAAAAAAAAAAAAAAAAAAAAAAAAAAAAAAAAAAAAAAAAAAAAAAAAAAAAAAAAAAAAAAAAAAAAAAAAAAAAAAAAAAAAAAAAAAAAAAAAAAAAAAAAAAAAAAAAAAAAAAAAAAAAAAAAAAAAAAAAAAAAAAAAAAAAAAAAAAAAAAAAAAAAAAAAAAAAAAAAAAAAAAAAAAAAAAAAAAAAAAAAAAAAAAAAAAAAAAAAAAAAAAAAAAAAAAAAAAAAAAAAAAAAAAAAAAAAAAAAAAAAAAAAAAAAAAAAAAAAAAAAAAAAAAAAAAAAAAAAAAAAAAAAAAAAAAAAAAAAAAAAAAAAAAAAAAAAAAAAAAAAAAAAAAAAAAAAAAAAAAAAAAAAAAAAAAAAAAAAAAAAAAAAAAAAAAAAAAAAAAAAAAAAAAAAAAAAAAAAAAAAAAAAAAAAAAAAAAAAAAAAAAAAAAAAAAAAAAAAAAAAAAAAAAAAAAAAAAAAAAAAAAAAAAAAAAAAAAAAAAAAAAAAAAAAAAAAAAAAAAAAAAAAAAAAAAAAAAAAAAAAAAAAAAAAAAAAAAAAAAAAAAAAAAAAAAAAAAAAAAAAAAAAAAAAAAAAAAAAAAAAAAAAAAAAAAAAAAAAAAAAAAAAAAAAAAAAAAAAAAAAAAAAAAAAAAAAAAAAAAAAAAAAAAAAAAAAAAAAAAAAAAAAAAAAAAAAAAAAAAAAAAAAAAAAAAAAAAAAAAAAAAAAAAAAAAAAAAAAAAAAAAAAAAAAAAAAAAAAAAAAAAAAAAAAAAAAAAAAAAAAAAAAAAAAAAAAAAAAAAAAAAAAAAAAAAAAAAAAAAAAAAAAAAAAAAAAAAAAAAAAAAAAAAAAAAAAAAAAAAAAAAAAAAAAAAAAAAAAAAAAAAAAAAAAAAAAAAAAAAAAAAAAAAAAAAAAAAAAAAAAAAAAAAAAAAAAAAAAAAAAAAAAAAAAAAAAAAAAAAAAAAAAAAAAAAAAAAAAAAAAAAAAAAAAAAAAAAAAAAAAAAAAAAAAAAAAAAAAAAAAAAAAAAAAAAAAAAAAAAAAAAAAAAAAAAAAAAAAAAAAAAAAAAAAAAAAAAAAAAAAAAAAAAAAAAAAAAAAAAAAAAAAAAAAAAAAAAAAAAAAAAAAAAAAAAAAAAAAAAAAAAAAAAAAAAAAAAAAAAAAAAAAAAAAAAAAAAAAAAAAAAAAAAAAAAAAAAAAAAAAAAAAAAAAAAAAAAAAAAAAAAAAAAAAAAAAAAAAAAAAAAAAAAAAAAAAAAAAAAAAAAAAAAAAAAAAAAAAAAAAAAAAAAAAAAAAAAAAAAAAAAAAAAAAAAAAAAAAAAAAAAAAAAAAAAAAAAAAAAAAAAAAAAAAAAAAAAAAAAAAAAAAAAAAAAAAAAAAAAAAAAAAAAAAAAAAAAAAAAAAAAAAAAAAAAAAAAAAAAAAAAAAAAAAAAAAAAAAAAAAAAAAAAAAAAAAAAAAAAAAAAAAAAAAAAAAAAAAAAAAAAAAAAAAAAAAAAAAAAAAAAAAAAAAAAAAAAAAAAAAAAAAAAAAAAAAAAAAAAAAAAAAAAAAAAAAAAAAAAAAAAAAAAAAAAAAAAAAAAAAAAAAAAAAAAAAAAAAAAAAAAAAAAAAAAAAAAAAAAAAAAAAAAAAAAAAAAAAAAAAAAAAAAAAAAAAAAAAAAAAAAAAAAAAAAAAAAAAAAAAAAAAAAAAAAAAAAAAAAAAAAAAAAAAAAAAAAAAAAAAAAAAAAAAAAAAAAAAAAAAAAAAAAAAAAAAAAAAAAAAAAAAAAAAAAAAAAAAAAAAAAAAAAAAAAAAAAAAAAAAAAAAAAAAAAAAAAAAAAAAAAAAAAAAAAAAAAAAAAAAAAAAAAAAAAAAAAAAAAAAAAAAAAAAAAAAAAAAAAAAAAAAAAAAAAAAAAAAAAAAAAAAAAAAAAAAAAAAAAAAAAAAAAAAAAAAAAAAAAAAAAAAAAAAAAAAAAAAAAAAAAAAAAAAAAAAAAAAAAAAAAAAAAAAAAAAAAAAAAAAAAAAAAAAAAAAAAAAAAAAAAAAAAAAAAAAAAAAAAAAAAAAAAAAAAAAAAAAAAAAAAAAAAAAAAAAAAAAAAAAAAAAAAAAAAAAAAAAAAAAAAAAAAAAAAAAAAAAAAAAAAAAAAAAAAAAAAAAAAAAAAAAAAAAAAAAAAAAAAAAAAAAAAAAAAAAAAAAAAAAAAAAAAAAAAAAAAAAAAAAAAAAAAAAAAAAAAAAAAAAAAAAAAAAAAAAAAAAAAAAAAAAAAAAAAAAAAAAAAAAAAAAAAAAAAAAAAAAAAAAAAAAAAAAAAAAAAAAAAAAAAAAAAAAAAAAAAAAAAAAAAAAAAAAAAAAAAAAAAAAAAAAAAAAAAAAAAAAAAAAAAAAAAAAAAAAAAAAAAAAAAAAAAAAAAAAAAAAAAAAAAAAAAAAAAAAAAAAAAAAAAAAAAAAAAAAAAAAAAAAAAAAAAAAAAAAAAAAAAAAAAAAAAAAAAAAAAAAAAAAAAAAAAAAAAAAAAAAAAAAAAAAAAAAAAAAAAAAAAAAAAAAAAAAAAAAAAAAAAAAAAAAAAAAAAAAAAAAAAAAAAAAAAAAAAAAAAAAAAAAAAAAAAAAAAAAAAAAAAAAAAAAAAAAAAAAAAAAAAAAAAAAAAAAAAAAAAAAAAAAAAAAAAAAAAAAAAAAAAAAAAAAAAAAAAAAAAAAAAAAAAAAAAAAAAAAAAAAAAAAAAAAAAAAAAAAAAAAAAAAAAAAAAAAAAAAAAAAAAAAAAAAAAAAAAAAAAAAAAAAAAAAAAAAAAAAAAAAAAAAAAAAAAAAAAAAAAAAAAAAAAAAAAAAAAAAAAAAAAAAAAAAAAAAAAAAAAAAAAAAAAAAAAAAAAAAAAAAAAAAAAAAAAAAAAAAAAAAAAAAAAAAAAAAAAAAAAAAAAAAAAAAAAAAAAAAAAAAAAAAAAAAAAAAAAAAAAAAAAAAAAAAAAAAAAAAAAAAAAAAAAAAAAAAAAAAAAAAAAAAAAAAAAAAAAAAAAAAAAAAAAAAAAAAAAAAAAAAAAAAAAAAAAAAAAAAAAAAAAAAAAAAAAAAAAAAAAAAAAAAAAAAAAAAAAAAAAAAAAAAAAAAAAAAAAAAAAAAAAAAAAAAAAAAAAAAAAAAAAAAAAAAAAAAAAAAAAAAAAAAAAAAAAAAAAAAAAAAAAAAAAAAAAAAAAAAAAAAAAAAAAAAAAAAAAAAAAAAAAAAAAAAAAAAAAAAAAAAAAAAAAAAAAAAAAAAAAAAAAAAAAAAAAAAAAAAAAAAAAAAAAAAAAAAAAAAAAAAAAAAAAAAAAAAAAAAAAAAAAAAAAAAAAAAAAAAAAAAAAAAAAAAAAAAAAAAAAAAAAAAAAAAAAAAAAAAAAAAAAAAAAAAAAAAAAAAAAAAAAAAAAAAAAAAAAAAAAAAAAAAAAAAAAAAAAAAAAAAAAAAAAAAAAAAAAAAAAAAAAAAAAAAAAAAAAAAAAAAAAAAAAAAAAAAAAAAAAAAAAAAAAAAAAAAAAAAAAAAAAAAAAAAAAAAAAAAAAAAAAAAAAAAAAAAAAAAAAAAAAAAAAAAAAAAAAAAAAAAAAAAAAAAAAAAAAAAAAAAAAAAAAAAAAAAAAAAAAAAAAAAAAAAAAAAAAAAAAAAAAAAAAAAAAAAAAAAAAAAAAAAAAAAAAAAAAAAAAAAAAAAAAAAAAAAAAAAAAAAAAAAAAAAAAAAAAAAAAAAAAAAAAAAAAAAAAAAAAAAAAAAAAAAAAAAAAAAAAAAAAAAAAAAAAAAAAAAAAAAAAAAAAAAAAAAAAAAAAAAAAAAAAAAAAAAAAAAAAAAAAAAAAAAAAAAAAAAAAAAAAAAAAAAAAAAAAAAAAAAAAAAAAAAAAAAAAAAAAAAAAAAAAAAAAAAAAAAAAAAAAAAAAAAAAAAAAAAAAAAAAAAAAAAAAAAAAAAAAAAAAAAAAAAAAAAAAAAAAAAAAAAAAAAAAAAAAAAAAAAAAAAAAAAAAAAAAAAAAAAAAAAAAAAAAAAAAAAAAAAAAAAAAAAAAAAAAAAAAAAAAAAAAAAAAAAAAAAAAAAAAAAAAAAAAAAAAAAAAAAAAAAAAAAAAAAAAAAAAAAAAAAAAAAAAAAAAAAAAAAAAAAAAAAAAAAAAAAAAAAAAAAAAAAAAAAAAAAAAAAAAAAAAAAAAAAAAAAAAAAAAAAAAAAAAAAAAAAAAAAAAAAAAAAAAAAAAAAAAAAAAAAAAAAAAAAAAAAAAAAAAAAAAAAAAAAAAAAAAAAAAAAAAAAAAAAAAAAAAAAAAAAAAAAAAAAAAAAAAAAAAAAAAAAAAAAAAAAAAAAAAAAAAAAAAAAAAAAAAAAAAAAAAAAAAAAAAAAAAAAAAAAAAAAAAAAAAAAAAAAAAAAAAAAAAAAAAAAAAAAAAAAAAAAAAAAAAAAAAAAAAAAAAAAAAAAAAAAAAAAAAAAAAAAAAAAAAAAAAAAAAAAAAAAAAAAAAAAAAAAAAAAAAAAAAAAAAAAAAAAAAAAAAAAAAAAAAAAAAAAAAAAAAAAAAAAAAAAAAAAAAAAAAAAAAAAAAAAAAAAAAAAAAAAAAAAAAAAAAAAAAAAAAAAAAAAAAAAAAAAAAAAAAAAAAAAAAAAAAAAAAAAAAAAAAAAAAAAAAAAAAAAAAAAAAAAAAAAAAAAAAAAAAAAAAAAAAAAAAAAAAAAAAAAAAAAAAAAAAAAAAAAAAAAAAAAAAAAAAAAAAAAAAAAAAAAAAAAAAAAAAAAAAAAAAAAAAAAAAAAAAAAAAAAAAAAAAAAAAAAAAAAAAAAAAAAAAAAAAAAAAAAAAAAAAAAAAAAAAAAAAAAAAAAAAAAAAAAAAAAAAAAAAAAAAAAAAAAAAAAAAAAAAAAAAAAAAAAAAAAAAAAAAAAAAAAAAAAAAAAAAAAAAAAAAAAAAAAAAAAAAAAAAAAAAAAAAAAAAAAAAAAAAAAAAAAAAAAAAAAAAAAAAAAAAAAAAAAAAAAAAAAAAAAAAAAAAAAAAAAAAAAAAAAAAAAAAAAAAAAAAAAAAAAAAAAAAAAAAAAAAAAAAAAAAAAAAAAAAAAAAAAAAAAAAAAAAAAAAAAAAAAAAAAAAAAAAAAAAAAAAAAAAAAAAAAAAAAAAAAAAAAAAAAAAAAAAAAAAAAAAAAAAAAAAAAAAAAAAAAAAAAAAAAAAAAAAAAAAAAAAAAAAAAAAAAAAAAAAAAAAAAAAAAAAAAAAAAAAAAAAAAAAAAAAAAAAAAAAAAAAAAAAAAAAAAAAAAAAAAAAAAAAAAAAAAAAAAAAAAAAAAAAAAAAAAAAAAAAAAAAAAAAAAAAAAAAAAAAAAAAAAAAAAAAAAAAAAAAAAAAAAAAAAAAAAAAAAAAAAAAAAAAAAAAAAAAAAAAAAAAAAAAAAAAAAAAAAAAAAAAAAAAAAAAAAAAAAAAAAAAAAAAAAAAAAAAAAAAAAAAAAAAAAAAAAAAAAAAAAAAAAAAAAAAAAAAAAAAAAAAAAAAAAAAAAAAAAAAAAAAAAAAAAAAAAAAAAAAAAAAAAAAAAAAAAAAAAAAAAAAAAAAAAAAAAAAAAAAAAAAAAAAAAAAAAAAAAAAAAAAAAAAAAAAAAAAAAAAAAAAAAAAAAAAAAAAAAAAAAAAAAAAAAAAAAAAAAAAAAAAAAAAAAAAAAAAAAAAAAAAAAAAAAAAAAAAAAAAAAAAAAAAAAAAAAAAAAAAAAAAAAAAAAAAAAAAAAAAAAAAAAAAAAAAAAAAAAAAAAAAAAAAAAAAAAAAAAAAAAAAAAAAAAAAAAAAAAAAAAAAAAAAAAAAAAAAAAAAAAAAAAAAAAAAAAAAAAAAAAAAAAAAAAAAAAAAAAAAAAAAAAAAAAAAAAAAAAAAAAAAAAAAAAAAAAAAAAAAAAAAAAAAAAAAAAAAAAAAAAAAAAAAAAAAAAAAAAAAAAAAAAAAAAAAAAAAAAAAAAAAAAAAAAAAAAAAAAAAAAAAAAAAAAAAAAAAAAAAAAAAAAAAAAAAAAAAAAAAAAAAAAAAAAAAAAAAAAAAAAAAAAAAAAAAAAAAAAAAAAAAAAAAAAAAAAAAAAAAAAAAAAAAAAAAAAAAAAAAAAAAAAAAAAAAAAAAAAAAAAAAAAAAAAAAAAAAAAAAAAAAAAAAAAAAAAAAAAAAAAAAAAAAAAAAAAAAAAAAAAAAAAAAAAAAAAAAAAAAAAAAAAAAAAAAAAAAAAAAAAAAAAAAAAAAAAAAAAAAAAAAAAAAAAAAAAAAAAAAAAAAAAAAAAAAAAAAAAAAAAAAAAAAAAAAAAAAAAAAAAAAAAAAAAAAAAAAAAAAAAAAAAAAAAAAAAAAAAAAAAAAAAAAAAAAAAAAAAAAAAAAAAAAAAAAAAAAAAAAAAAAAAAAAAAAAAAAAAAAAAAAAAAAAAAAAAAAAAAAAAAAAAAAAAAAAAAAAAAAAAAAAAAAAAAAAAAAAAAAAAAAAAAAAAAAAAAAAAAAAAAAAAAAAAAAAAAAAAAAAAAAAAAAAAAAAAAAAAAAAAAAAAAAAAAAAAAAAAAAAAAAAAAAAAAAAAAAAAAAAAAAAAAAAAAAAAAAAAAAAAAAAAAAAAAAAAAAAAAAAAAAAAAAAAAAAAAAAAAAAAAAAAAAAAAAAAAAAAAAAAAAAAAAAAAAAAAAAAAAAAAAAAAAAAAAAAAAAAAAAAAAAAAAAAAAAAAAAAAAAAAAAAAAAAAAAAAAAAAAAAAAAAAAAAAAAAAAAAAAAAAAAAAAAAAAAAAAAAAAAAAAAAAAAAAAAAAAAAAAAAAAAAAAAAAAAAAAAAAAAAAAAAAAAAAAAAAAAAAAAAAAAAAAAAAAAAAAAAAAAAAAAAAAAAAAAAAAAAAAAAAAAAAAAAAAAAAAAAAAAAAAAAAAAAAAAAAAAAAAAAAAAAAAAAAAAAAAAAAAAAAAAAAAAAAAAAAAAAAAAAAAAAAAAAAAAAAAAAAAAAAAAAAAAAAAAAAAAAAAAAAAAAAAAAAAAAAAAAAAAAAAAAAAAAAAAAAAAAAAAAAAAAAAAAAAAAAAAAAAAAAAAAAAAAAAAAAAAAAAAAAAAAAAAAAAAAAAAAAAAAAAAAAAAAAAAAAAAAAAAAAAAAAAAAAAAAAAAAAAAAAAAAAAAAAAAAAAAAAAAAAAAAAAAAAAAAAAAAAAAAAAAAAAAAAAAAAAAAAAAAAAAAAAAAAAAAAAAAAAAAAAAAAAAAAAAAAAAAAAAAAAAAAAAAAAAAAAAAAAAAAAAAAAAAAAAAAAAAAAAAAAAAAAAAAAAAAAAAAAAAAAAAAAAAAAAAAAAAAAAAAAAAAAAAAAAAAAAAAAAAAAAAAAAAAAAAAAAAAAAAAAAAAAAAAAAAAAAAAAAAAAAAAAAAAAAAAAAAAAAAAAAAAAAAAAAAAAAAAAAAAAAAAAAAAAAAAAAAAAAAAAAAAAAAAAAAAAAAAAAAAAAAAAAAAAAAAAAAAAAAAAAAAAAAAAAAAAAAAAAAAAAAAAAAAAAAAAAAAAAAAAAAAAAAAAAAAAAAAAAAAAAAAAAAAAAAAAAAAAAAAAAAAAAAAAAAAAAAAAAAAAAAAAAAAAAAAAAAAAAAAAAAAAAAAAAAAAAAAAAAAAAAAAAAAAAAAAAAAAAAAAAAAAAAAAAAAAAAAAAAAAAAAAAAAAAAAAAAAAAAAAAAAAAAAAAAAAAAAAAAAAAAAAAAAAAAAAAAAAAAAAAAAAAAAAAAAAAAAAAAAAAAAAAAAAAAAAAAAAAAAAAAAAAAAAAAAAAAAAAAAAAAAAAAAAAAAAAAAAAAAAAAAAAAAAAAAAAAAAAAAAAAAAAAAAAAAAAAAAAAAAAAAAAAAAAAAAAAAAAAAAAAAAAAAAAAAAAAAAAAAAAAAAAAAAAAAAAAAAAAAAAAAAAAAAAAAAAAAAAAAAAAAAAAAAAAAAAAAAAAAAAAAAAAAAAAAAAAAAAAAAAAAAAAAAAAAAAAAAAAAAAAAAAAAAAAAAAAAAAAAAAAAAAAAAAAAAAAAAAAAAAAAAAAAAAAAAAAAAAAAAAAAAAAAAAAAAAAAAAAAAAAAAAAAAAAAAAAAAAAAAAAAAAAAAAAAAAAAAAAAAAAAAAAAAAAAAAAAAAAAAAAAAAAAAAAAAAAAAAAAAAAAAAAAAAAAAAAAAAAAAAAAAAAAAAAAAAAAAAAAAAAAAAAAAAAAAAAAAAAAAAAAAAAAAAAAAAAAAAAAAAAAAAAAAAAAAAAAAAAAAAAAAAAAAAAAAAAAAAAAAAAAAAAAAAAAAAAAAAAAAAAAAAAAAAAAAAAAAAAAAAAAAAAAAAAAAAAAAAAAAAAAAAAAAAAAAAAAAAAAAAAAAAAAAAAAAAAAAAAAAAAAAAAAAAAAAAAAAAAAAAAAAAAAAAAAAAAAAAAAAAAAAAAAAAAAAAAAAAAAAAAAAAAAAAAAAAAAAAAAAAAAAAAAAAAAAAAAAAAAAAAAAAAAAAAAAAAAAAAAAAAAAAAAAAAAAAAAAAAAAAAAAAAAAAAAAAAAAAAAAAAAAAAAAAAAAAAAAAAAAAAAAAAAAAAAAAAAAAAAAAAAAAAAAAAAAAAAAAAAAAAAAAAAAAAAAAAAAAAAAAAAAAAAAAAAAAAAAAAAAAAAAAAAAAAAAAAAAAAAAAAAAAAAAAAAAAAAAAAAAAAAAAAAAAAAAAAAAAAAAAAAAAAAAAAAAAAAAAAAAAAAAAAAAAAAAAAAAAAAAAAAAAAAAAAAAAAAAAAAAAAAAAAAAAAAAAAAAAAAAAAAAAAAAAAAAAAAAAAAAAAAAAAAAAAAAAAAAAAAAAAAAAAAAAAAAAAAAAAAAAAAAAAAAAAAAAAAAAAAAAAAAAAAAAAAAAAAAAAAAAAAAAAAAAAAAAAAAAAAAAAAAAAAAAAAAAAAAAAAAAAAAAAAAAAAAAAAAAAAAAAAAAAAAAAAAAAAAAAAAAAAAAAAAAAAAAAAAAAAAAAAAAAAAAAAAAAAAAAAAAAAAAAAAAAAAAAAAAAAAAAAAAAAAAAAAAAAAAAAAAAAAAAAAAAAAAAAAAAAAAAAAAAAAAAAAAAAAAAAAAAAAAAAAAAAAAAAAAAAAAAAAAAAAAAAAAAAAAAAAAAAAAAAAAAAAAAAAAAAAAAAAAAAAAAAAAAAAAAAAAAAAAAAAAAAAAAAAAAAAAAAAAAAAAAAAAAAAAAAAAAAAAAAAAAAAAAAAAAAAAAAAAAAAAAAAAAAAAAAAAAAAAAAAAAAAAAAAAAAAAAAAAAAAAAAAAAAAAAAAAAAAAAAAAAAAAAAAAAAAAAAAAAAAAAAAAAAAAAAAAAAAAAAAAAAAAAAAAAAAAAAAAAAAAAAAAAAAAAAAAAAAAAAAAAAAAAAAAAAAAAAAAAAAAAAAAAAAAAAAAAAAAAAAAAAAAAAAAAAAAAAAAAAAAAAAAAAAAAAAAAAAAAAAAAAAAAAAAAAAAAAAAAAAAAAAAAAAAAAAAAAAAAAAAAAAAAAAAAAAAAAAAAAAAAAAAAAAAAAAAAAAAAAAAAAAAAAAAAAAAAAAAAAAAAAAAAAAAAAAAAAAAAAAAAAAAAAAAAAAAAAAAAAAAAAAAAAAAAAAAAAAAAAAAAAAAAAAAAAAAAAAAAAAAAAAAAAAAAAAAAAAAAAAAAAAAAAAAAAAAAAAAAAAAAAAAAAAAAAAAAAAAAAAAAAAAAAAAAAAAAAAAAAAAAAAAAAAAAAAAAAAAAAAAAAAAAAAAAAAAAAAAAAAAAAAAAAAAAAAAAAAAAAAAAAAAAAAAAAAAAAAAAAAAAAAAAAAAAAAAAAAAAAAAAAAAAAAAAAAAAAAAAAAAAAAAAAAAAAAAAAAAAAAAAAAAAAAAAAAAAAAAAAAAAAAAAAAAAAAAAAAAAAAAAAAAAAAAAAAAAAAAAAAAAAAAAAAAAAAAAAAAAAAAAAAAAAAAAAAAAAAAAAAAAAAAAAAAAAAAAAAAAAAAAAAAAAAAAAAAAAAAAAAAAAAAAAAAAAAAAAAAAAAAAAAAAAAAAAAAAAAAAAAAAAAAAAAAAAAAAAAAAAAAAAAAAAAAAAAAAAAAAAAAAAAAAAAAAAAAAAAAAAAAAAAAAAAAAAAAAAAAAAAAAAAAAAAAAAAAAAAAAAAAAAAAAAAAAAAAAAAAAAAAAAAAAAAAAAAAAAAAAAAAAAAAAAAAAAAAAAAAAAAAAAAAAAAAAAAAAAAAAAAAAAAAAAAAAAAAAAAAAAAAAAAAAAAAAAAAAAAAAAAAAAAAAAAAAAAAAAAAAAAAAAAAAAAAAAAAAAAAAAAAAAAAAAAAAAAAAAAAAAAAAAAAAAAAAAAAAAAAAAAAAAAAAAAAAAAAAAAAAAAAAAAAAAAAAAAAAAAAAAAAAAAAAAAAAAAAAAAAAAAAAAAAAAAAAAAAAAAAAAAAAAAAAAAAAAAAAAAAAAAAAAAAAAAAAAAAAAAAAAAAAAAAAAAAAAAAAAAAAAAAAAAAAAAAAAAAAAAAAAAAAAAAAAAAAAAAAAAAAAAAAAAAAAAAAAAAAAAAAAAAAAAAAAAAAAAAAAAAAAAAAAAAAAAAAAAAAAAAAAAAAAAAAAAAAAAAAAAAAAAAAAAAAAAAAAAAAAAAAAAAAAAAAAAAAAAAAAAAAAAAAAAAAAAAAAAAAAAAAAAAAAAAAAAAAAAAAAAAAAAAAAAAAAAAAAAAAAAAAAAAAAAAAAAAAAAAAAAAAAAAAAAAAAAAAAAAAAAAAAAAAAAAAAAAAAAAAAAAAAAAAAAAAAAAAAAAAAAAAAAAAAAAAAAAAAAAAAAAAAAAAAAAAAAAAAAAAAAAAAAAAAAAAAAAAAAAAAAAAAAAAAAAAAAAAAAAAAAAAAAAAAAAAAAAAAAAAAAAAAAAAAAAAAAAAAAAAAAAAAAAAAAAAAAAAAAAAAAAAAAAAAAAAAAAAAAAAAAAAAAAAAAAAAAAAAAAAAAAAAAAAAAAAAAAAAAAAAAAAAAAAAAAAAAAAAAAAAAAAAAAAAAAAAAAAAAAAAAAAAAAAAAAAAAAAAAAAAAAAAAAAAAAAAAAAAAAAAAAAAAAAAAAAAAAAAAAAAAAAAAAAAAAAAAAAAAAAAAAAAAAAAAAAAAAAAAAAAAAAAAAAAAAAAAAAAAAAAAAAAAAAAAAAAAAAAAAAAAAAAAAAAAAAAAAAAAAAAAAAAAAAAAAAAAAAAAAAAAAAAAAAAAAAAAAAAAAAAAAAAAAAAAAAAAAAAAAAAAAAAAAAAAAAAAAAAAAAAAAAAAAAAAAAAAAAAAAAAAAAAAAAAAAAAAAAAAAAAAAAAAAAAAAAAAAAAAAAAAAAAAAAAAAAAAAAAAAAAAAAAAAAAAAAAAAAAAAAAAAAAAAAAAAAAAAAAAAAAAAAAAAAAAAAAAAAAAAAAAAAAAAAAAAAAAAAAAAAAAAAAAAAAAAAAAAAAAAAAAAAAAAAAAAAAAAAAAAAAAAAAAAAAAAAAAAAAAAAAAAAAAAAAAAAAAAAAAAAAAAAAAAAAAAAAAAAAAAAAAAAAAAAAAAAAAAAAAAAAAAAAAAAAAAAAAAAAAAAAAAAAAAAAAAAAAAAAAAAAAAAAAAAAAAAAAAAAAAAAAAAAAAAAAAAAAAAAAAAAAAAAAAAAAAAAAAAAAAAAAAAAAAAAAAAAAAAAAAAAAAAAAAAAAAAAAAAAAAAAAAAAAAAAAAAAAAAAAAAAAAAAAAAAAAAAAAAAAAAAAAAAAAAAAAAAAAAAAAAAAAAAAAAAAAAAAAAAAAAAAAAAAAAAAAAAAAAAAAAAAAAAAAAAAAAAAAAAAAAAAAAAAAAAAAAAAAAAAAAAAAAAAAAAAAAAAAAAAAAAAAAAAAAAAAAAAAAAAAAAAAAAAAAAAAAAAAAAAAAAAAAAAAAAAAAAAAAAAAAAAAAAAAAAAAAAAAAAAAAAAAAAAAAAAAAAAAAAAAAAAAAAAAAAAAAAAAAAAAAAAAAAAAAAAAAAAAAAAAAAAAAAAAAAAAAAAAAAAAAAAAAAAAAAAAAAAAAAAAAAAAAAAAAAAAAAAAAAAAAAAAAAAAAAAAAAAAAAAAAAAAAAAAAAAAAAAAAAAAAAAAAAAAAAAAAAAAAAAAAAAAAAAAAAAAAAAAAAAAAAAAAAAAAAAAAAAAAAAAAAAAAAAAAAAAAAAAAAAAAAAAAAAAAAAAAAAAAAAAAAAAAAAAAAAAAAAAAAAAAAAAAAAAAAAAAAAAAAAAAAAAAAAAAAAAAAAAAAAAAAAAAAAAAAAAAAAAAAAAAAAAAAAAAAAAAAAAAAAAAAAAAAAAAAAAAAAAAAAAAAAAAAAAAAAAAAAAAAAAAAAAAAAAAAAAAAAAAAAAAAAAAAAAAAAAAAAAAAAAAAAAAAAAAAAAAAAAAAAAAAAAAAAAAAAAAAAAAAAAAAAAAAAAAAAAAAAAAAAAAAAAAAAAAAAAAAAAAAAAAAAAAAAAAAAAAAAAAAAAAAAAAAAAAAAAAAAAAAAAAAAAAAAAAAAAAAAAAAAAAAAAAAAAAAAAAAAAAAAAAAAAAAAAAAAAAAAAAAAAAAAAAAAAAAAAAAAAAAAAAAAAAAAAAAAAAAAAAAAAAAAAAAAAAAAAAAAAAAAAAAAAAAAAAAAAAAAAAAAAAAAAAAAAAAAAAAAAAAAAAAAAAAAAAAAAAAAAAAAAAAAAAAAAAAAAAAAAAAAAAAAAAAAAAAAAAAAAAAAAAAAAAAAAAAAAAAAAAAAAAAAAAAAAAAAAAAAAAAAAAAAAAAAAAAAAAAAAAAAAAAAAAAAAAAAAAAAAAAAAAAAAAAAAAAAAAAAAAAAAAAAAAAAAAAAAAAAAAAAAAAAAAAAAAAAAAAAAAAAAAAAAAAAAAAAAAAAAAAAAAAAAAAAAAAAAAAAAAAAAAAAAAAAAAAAAAAAAAAAAAAAAAAAAAAAAAAAAAAAAAAAAAAAAAAAAAAAAAAAAAAAAAAAAAAAAAAAAAAAAAAAAAAAAAAAAAAAAAAAAAAAAAAAAAAAAAAAAAAAAAAAAAAAAAAAAAAAAAAAAAAAAAAAAAAAAAAAAAAAAAAAAAAAAAAAAAAAAAAAAAAAAAAAAAAAAAAAAAAAAAAAAAAAAAAAAAAAAAAAAAAAAAAAAAAAAAAAAAAAAAAAAAAAAAAAAAAAAAAAAAAAAAAAAAAAAAAAAAAAAAAAAAAAAAAAAAAAAAAAAAAAAAAAAAAAAAAAAAAAAAAAAAAAAAAAAAAAAAAAAAAAAAAAAAAAAAAAAAAAAAAAAAAAAAAAAAAAAAAAAAAAAAAAAAAAAAAAAAAAAAAAAAAAAAAAAAAAAAAAAAAAAAAAAAAAAAAAAAAAAAAAAAAAAAAAAAAAAAAAAAAAAAAAAAAAAAAAAAAAAAAAAAAAAAAAAAAAAAAAAAAAAAAAAAAAAAAAAAAAAAAAAAAAAAAAAAAAAAAAAAAAAAAAAAAAAAAAAAAAAAAAAAAAAAAAAAAAAAAAAAAAAAAAAAAAAAAAAAAAAAAAAAAAAAAAAAAAAAAAAAAAAAAAAAAAAAAAAAAAAAAAAAAAAAAAAAAAAAAAAAAAAAAAAAAAAAAAAAAAAAAAAAAAAAAAAAAAAAAAAAAAAAAAAAAAAAAAAAAAAAAAAAAAAAAAAAAAAAAAAAAAAAAAAAAAAAAAAAAAAAAAAAAAAAAAAAAAAAAAAAAAAAAAAAAAAAAAAAAAAAAAAAAAAAAAAAAAAAAAAAAAAAAAAAAAAAAAAAAAAAAAAAAAAAAAAAAAAAAAAAAAAAAAAAAAAAAAAAAAAAAAAAAAAAAAAAAAAAAAAAAAAAAAAAAAAAAAAAAAAAAAAAAAAAAAAAAAAAAAAAAAAAAAAAAAAAAAAAAAAAAAAAAAAAAAAAAAAAAAAAAAAAAAAAAAAAAAAAAAAAAAAAAAAAAAAAAAAAAAAAAAAAAAAAAAAAAAAAAAAAAAAAAAAAAAAAAAAAAAAAAAAAAAAAAAAAAAAAAAAAAAAAAAAAAAAAAAAAAAAAAAAAAAAAAAAAAAAAAAAAAAAAAAAAAAAAAAAAAAAAAAAAAAAAAAAAAAAAAAAAAAAAAAAAAAAAAAAAAAAAAAAAAAAAAAAAAAAAAAAAAAAAAAAAAAAAAAAAAAAAAAAAAAAAAAAAAAAAAAAAAAAAAAAAAAAAAAAAAAAAAAAAAAAAAAAAAAAAAAAAAAAAAAAAAAAAAAAAAAAAAAAAAAAAAAAAAAAAAAAAAAAAAAAAAAAAAAAAAAAAAAAAAAAAAAAAAAAAAAAAAAAAAAAAAAAAAAAAAAAAAAAAAAAAAAAAAAAAAAAAAAAAAAAAAAAAAAAAAAAAAAAAAAAAAAAAAAAAAAAAAAAAAAAAAAAAAAAAAAAAAAAAAAAAAAAAAAAAAAAAAAAAAAAAAAAAAAAAAAAAAAAAAAAAAAAAAAAAAAAAAAAAAAAAAAAAAAAAAAAAAAAAAAAAAAAAAAAAAAAAAAAAAAAAAAAAAAAAAAAAAAAAAAAAAAAAAAAAAAAAAAAAAAAAAAAAAAAAAAAAAAAAAAAAAAAAAAAAAAAAAAAAAAAAAAAAAAAAAAAAAAAAAAAAAAAAAAAAAAAAAAAAAAAAAAAAAAAAAAAAAAAAAAAAAAAAAAAAAAAAAAAAAAAAAAAAAAAAAAAAAAAAAAAAAAAAAAAAAAAAAAAAAAAAAAAAAAAAAAAAAAAAAAAAAAAAAAAAAAAAAAAAAAAAAAAAAAAAAAAAAAAAAAAAAAAAAAAAAAAAAAAAAAAAAAAAAAAAAAAAAAAAAAAAAAAAAAAAAAAAAAAAAAAAAAAAAAAAAAAAAAAAAAAAAAAAAAAAAAAAAAAAAAAAAAAAAAAAAAAAAAAAAAAAAAAAAAAAAAAAAAAAAAAAAAAAAAAAAAAAAAAAAAAAAAAAAAAAAAAAAAAAAAAAAAAAAAAAAAAAAAAAAAAAAAAAAAAAAAAAAAAAAAAAAAAAAAAAAAAAAAAAAAAAAAAAAAAAAAAAAAAAAAAAAAAAAAAAAAAAAAAAAAAAAAAAAAAAAAAAAAAAAAAAAAAAAAAAAAAAAAAAAAAAAAAAAAAAAAAAAAAAAAAAAAAAAAAAAAAAAAAAAAAAAAAAAAAAAAAAAAAAAAAAAAAAAAAAAAAAAAAAAAAAAAAAAAAAAAAAAAAAAAAAAAAAAAAAAAAAAAAAAAAAAAAAAAAAAAAAAAAAAAAAAAAAAAAAAAAAAAAAAAAAAAAAAAAAAAAAAAAAAAAAAAAAAAAAAAAAAAAAAAAAAAAAAAAAAAAAAAAAAAAAAAAAAAAAAAAAAAAAAAAAAAAAAAAAAAAAAAAAAAAAAAAAAAAAAAAAAAAAAAAAAAAAAAAAAAAAAAAAAAAAAAAAAAAAAAAAAAAAAAAAAAAAAAAAAAAAAAAAAAAAAAAAAAAAAAAAAAAAAAAAAAAAAAAAAAAAAAAAAAAAAAAAAAAAAAAAAAAAAAAAAAAAAAAAAAAAAAAAAAAAAAAAAAAAAAAAAAAAAAAAAAAAAAAAAAAAAAAAAAAAAAAAAAAAAAAAAAAAAAAAAAAAAAAAAAAAAAAAAAAAAAAAAAAAAAAAAAAAAAAAAAAAAAAAAAAAAAAAAAAAAAAAAAAAAAAAAAAAAAAAAAAAAAAAAAAAAAAAAAAAAAAAAAAAAAAAAAAAAAAAAAAAAAAAAAAAAAAAAAAAAAAAAAAAAAAAAAAAAAAAAAAAAAAAAAAAAAAAAAAAAAAAAAAAAAAAAAAAAAAAAAAAAAAAAAAAAAAAAAAAAAAAAAAAAAAAAAAAAAAAAAAAAAAAAAAAAAAAAAAAAAAAAAAAAAAAAAAAAAAAAAAAAAAAAAAAAAAAAAAAAAAAAAAAAAAAAAAAAAAAAAAAAAAAAAAAAAAAAAAAAAAAAAAAAAAAAAAAAAAAAAAAAAAAAAAAAAAAAAAAAAAAAAAAAAAAAAAAAAAAAAAAAAAAAAAAAAAAAAAAAAAAAAAAAAAAAAAAAAAAAAAAAAAAAAAAAAAAAAAAAAAAAAAAAAAAAAAAAAAAAAAAAAAAAAAAAAAAAAAAAAAAAAAAAAAAAAAAAAAAAAAAAAAAAAAAAAAAAAAAAAAAAAAAAAAAAAAAAAAAAAAAAAAAAAAAAAAAAAAAAAAAAAAAAAAAAAAAAAAAAAAAAAAAAAAAAAAAAAAAAAAAAAAAAAAAAAAAAAAAAAAAAAAAAAAAAAAAAAAAAAAAAAAAAAAAAAAAAAAAAAAAAAAAAAAAAAAAAAAAAAAAAAAAAAAAAAAAAAAAAAAAAAAAAAAAAAAAAAAAAAAAAAAAAAAAAAAAAAAAAAAAAAAAAAAAAAAAAAAAAAAAAAAAAAAAAAAAAAAAAAAAAAAAAAAAAAAAAAAAAAAAAAAAAAAAAAAAAAAAAAAAAAAAAAAAAAAAAAAAAAAAAAAAAAAAAAAAAAAAAAAAAAAAAAAAAAAAAAAAAAAAAAAAAAAAAAAAAAAAAAAAAAAAAAAAAAAAAAAAAAAAAAAAAAAAAAAAAAAAAAAAAAAAAAAAAAAAAAAAAAAAAAAAAAAAAAAAAAAAAAAAAAAAAAAAAAAAAAAAAAAAAAAAAAAAAAAAAAAAAAAAAAAAAAAAAAAAAAAAAAAAAAAAAAAAAAAAAAAAAAAAAAAAAAAAAAAAAAAAAAAAAAAAAAAAAAAAAAAAAAAAAAAAAAAAAAAAAAAAAAAAAAAAAAAAAAAAAAAAAAAAAAAAAAAAAAAAAAAAAAAAAAAAAAAAAAAAAAAAAAAAAAAAAAAAAAAAAAAAAAAAAAAAAAAAAAAAAAAAAAAAAAAAAAAAAAAAAAAAAAAAAAAAAAAAAAAAAAAAAAAAAAAAAAAAAAAAAAAAAAAAAAAAAAAAAAAAAAAAAAAAAAAAAAAAAAAAAAAAAAAAAAAAAAAAAAAAAAAAAAAAAAAAAAAAAAAAAAAAAAAAAAAAAAAAAAAAAAAAAAAAAAAAAAAAAAAAAAAAAAAAAAAAAAAAAAAAAAAAAAAAAAAAAAAAAAAAAAAAAAAAAAAAAAAAAAAAAAAAAAAAAAAAAAAAAAAAAAAAAAAAAAAAAAAAAAAAAAAAAAAAAAAAAAAAAAAAAAAAAAAAAAAAAAAAAAAAAAAAAAAAAAAAAAAAAAAAAAAAAAAAAAAAAAAAAAAAAAAAAAAAAAAAAAAAAAAAAAAAAAAAAAAAAAAAAAAAAAAAAAAAAAAAAAAAAAAAAAAAAAAAAAAAAAAAAAAAAAAAAAAAAAAAAAAAAAAAAAAAAAAAAAAAAAAAAAAAAAAAAAAAAAAAAAAAAAAAAAAAAAAAAAAAAAAAAAAAAAAAAAAAAAAAAAAAAAAAAAAAAAAAAAAAAAAAAAAAAAAAAAAAAAAAAAAAAAAAAAAAAAAAAAAAAAAAAAAAAAAAAAAAAAAAAAAAAAAAAAAAAAAAAAAAAAAAAAAAAAAAAAAAAAAAAAAAAAAAAAAAAAAAAAAAAAAAAAAAAAAAAAAAAAAAAAAAAAAAAAAAAAAAAAAAAAAAAAAAAAAAAAAAAAAAAAAAAAAAAAAAAAAAAAAAAAAAAAAAAAAAAAAAAAAAAAAAAAAAAAAAAAAAAAAAAAAAAAAAAAAAAAAAAAAAAAAAAAAAAAAAAAAAAAAAAAAAAAAAAAAAAAAAAAAAAAAAAAAAAAAAAAAAAAAAAAAAAAAAAAAAAAAAAAAAAAAAAAAAAAAAAAAAAAAAAAAAAAAAAAAAAAAAAAAAAAAAAAAAAAAAAAAAAAAAAAAAAAAAAAAAAAAAAAAAAAAAAAAAAAAAAAAAAAAAAAAAAAAAAAAAAAAAAAAAAAAAAAAAAAAAAAAAAAAAAAAAAAAAAAAAAAAAAAAAAAAAAAAAAAAAAAAAAAAAAAAAAAAAAAAAAAAAAAAAAAAAAAAAAAAAAAAAAAAAAAAAAAAAAAAAAAAAAAAAAAAAAAAAAAAAAAAAAAAAAAAAAAAAAAAAAAAAAAAAAAAAAAAAAAAAAAAAAAAAAAAAAAAAAAAAAAAAAAAAAAAAAAAAAAAAAAAAAAAAAAAAAAAAAAAAAAAAAAAAAAAAAAAAAAAAAAAAAAAAAAAAAAAAAAAAAAAAAAAAAAAAAAAAAAAAAAAAAAAAAAAAAAAAAAAAAAAAAAAAAAAAAAAAAAAAAAAAAAAAAAAAAAAAAAAAAAAAAAAAAAAAAAAAAAAAAAAAAAAAAAAAAAAAAAAAAAAAAAAAAAAAAAAAAAAAAAAAAAAAAAAAAAAAAAAAAAAAAAAAAAAAAAAAAAAAAAAAAAAAAAAAAAAAAAAAAAAAAAAAAAAAAAAAAAAAAAAAAAAAAAAAAAAAAAAAAAAAAAAAAAAAAAAAAAAAAAAAAAAAAAAAAAAAAAAAAAAAAAAAAAAAAAAAAAAAAAAAAAAAAAAAAAAAAAAAAAAAAAAAAAAAAAAAAAAAAAAAAAAAAAAAAAAAAAAAAAAAAAAAAAAAAAAAAAAAAAAAAAAAAAAAAAAAAAAAAAAAAAAAAAAAAAAAAAAAAAAAAAAAAAAAAAAAAAAAAAAAAAAAAAAAAAAAAAAAAAAAAAAAAAAAAAAAAAAAAAAAAAAAAAAAAAAAAAAAAAAAAAAAAAAAAAAAAAAAAAAAAAAAAAAAAAAAAAAAAAAAAAAAAAAAAAAAAAAAAAAAAAAAAAAAAAAAAAAAAAAAAAAAAAAAAAAAAAAAAAAAAAAAAAAAAAAAAAAAAAAAAAAAAAAAAAAAAAAAAAAAAAAAAAAAAAAAAAAAAAAAAAAAAAAAAAAAAAAAAAAAAAAAAAAAAAAAAAAAAAAAAAAAAAAAAAAAAAAAAAAAAAAAAAAAAAAAAAAAAAAAAAAAAAAAAAAAAAAAAAAAAAAAAAAAAAAAAAAAAAAAAAAAAAAAAAAAAAAAAAAAAAAAAAAAAAAAAAAAAAAAAAAAAAAAAAAAAAAAAAAAAAAAAAAAAAAAAAAAAAAAAAAAAAAAAAAAAAAAAAAAAAAAAAAAAAAAAAAAAAAAAAAAAAAAAAAAAAAAAAAAAAAAAAAAAAAAAAAAAAAAAAAAAAAAAAAAAAAAAAAAAAAAAAAAAAAAAAAAAAAAAAAAAAAAAAAAAAAAAAAAAAAAAAAAAAAAAAAAAAAAAAAAAAAAAAAAAAAAAAAAAAAAAAAAAAAAAAAAAAAAAAAAAAAAAAAAAAAAAAAAAAAAAAAAAAAAAAAAAAAAAAAAAAAAAAAAAAAAAAAAAAAAAAAAAAAAAAAAAAAAAAAAAAAAAAAAAAAAAAAAAAAAAAAAAAAAAAAAAAAAAAAAAAAAAAAAAAAAAAAAAAAAAAAAAAAAAAAAAAAAAAAAAAAAAAAAAAAAAAAAAAAAAAAAAAAAAAAAAAAAAAAAAAAAAAAAAAAAAAAAAAAAAAAAAAAAAAAAAAAAAAAAAAAAAAAAAAAAAAAAAAAAAAAAAAAAAAAAAAAAAAAAAAAAAAAAAAAAAAAAAAAAAAAAAAAAAAAAAAAAAAAAAAAAAAAAAAAAAAAAAAAAAAAAAAAAAAAAAAAAAAAAAAAAAAAAAAAAAAAAAAAAAAAAAAAAAAAAAAAAAAAAAAAAAAAAAAAAAAAAAAAAAAAAAAAAAAAAAAAAAAAAAAAAAAAAAAAAAAAAAAAAAAAAAAAAAAAAAAAAAAAAAAAAAAAAAAAAAAAAAAAAAAAAAAAAAAAAAAAAAAAAAAAAAAAAAAAAAAAAAAAAAAAAAAAAAAAAAAAAAAAAAAAAAAAAAAAAAAAAAAAAAAAAAAAAAAAAAAAAAAAAAAAAAAAAAAAAAAAAAAAAAAAAAAAAAAAAAAAAAAAAAAAAAAAAAAAAAAAAAAAAAAAAAAAAAAAAAAAAAAAAAAAAAAAAAAAAAAAAAAAAAAAAAAAAAAAAAAAAAAAAAAAAAAAAAAAAAAAAAAAAAAAAAAAAAAAAAAAAAAAAAAAAAAAAAAAAAAAAAAAAAAAAAAAAAAAAAAAAAAAAAAAAAAAAAAAAAAAAAAAAAAAAAAAAAAAAAAAAAAAAAAAAAAAAAAAAAAAAAAAAAAAAAAAAAAAAAAAAAAAAAAAAAAAAAAAAAAAAAAAAAAAAAAAAAAAAAAAAAAAAAAAAAAAAAAAAAAAAAAAAAAAAAAAAAAAAAAAAAAAAAAAAAAAAAAAAAAAAAAAAAAAAAAAAAAAAAAAAAAAAAAAAAAAAAAAAAAAAAAAAAAAAAAAAAAAAAAAAAAAAAAAAAAAAAAAAAAAAAAAAAAAAAAAAAAAAAAAAAAAAAAAAAAAAAAAAAAAAAAAAAAAAAAAAAAAAAAAAAAAAAAAAAAAAAAAAAAAAAAAAAAAAAAAAAAAAAAAAAAAAAAAAAAAAAAAAAAAAAAAAAAAAAAAAAAAAAAAAAAAAAAAAAAAAAAAAAAAAAAAAAAAAAAAAAAAAAAAAAAAAAAAAAAAAAAAAAAAAAAAAAAAAAAAAAAAAAAAAAAAAAAAAAAAAAAAAAAAAAAAAAAAAAAAAAAAAAAAAAAAAAAAAAAAAAAAAAAAAAAAAAAAAAAAAAAAAAAAAAAAAAAAAAAAAAAAAAAAAAAAAAAAAAAAAAAAAAAAAAAAAAAAAAAAAAAAAAAAAAAAAAAAAAAAAAAAAAAAAAAAAAAAAAAAAAAAAAAAAAAAAAAAAAAAAAAAAAAAAAAAAAAAAAAAAAAAAAAAAAAAAAAAAAAAAAAAAAAAAAAAAAAAAAAAAAAAAAAAAAAAAAAAAAAAAAAAAAAAAAAAAAAAAAAAAAAAAAAAAAAAAAAAAAAAAAAAAAAAAAAAAAAAAAAAAAAAAAAAAAAAAAAAAAAAAAAAAAAAAAAAAAAAAAAAAAAAAAAAAAAAAAAAAAAAAAAAAAAAAAAAAAAAAAAAAAAAAAAAAAAAAAAAAAAAAAAAAAAAAAAAAAAAAAAAAAAAAAAAAAAAAAAAAAAAAAAAAAAAAAAAAAAAAAAAAAAAAAAAAAAAAAAAAAAAAAAAAAAAAAAAAAAAAAAAAAAAAAAAAAAAAAAAAAAAAAAAAAAAAAAAAAAAAAAAAAAAAAAAAAAAAAAAAAAAAAAAAAAAAAAAAAAAAAAAAAAAAAAAAAAAAAAAAAAAAAAAAAAAAAAAAAAAAAAAAAAAAAAAAAAAAAAAAAAAAAAAAAAAAAAAAAAAAAAAAAAAAAAAAAAAAAAAAAAAAAAAAAAAAAAAAAAAAAAAAAAAAAAAAAAAAAAAAAAAAAAAAAAAAAAAAAAAAAAAAAAAAAAAAAAAAAAAAAAAAAAAAAAAAAAAAAAAAAAAAAAAAAAAAAAAAAAAAAAAAAAAAAAAAAAAAAAAAAAAAAAAAAAAAAAAAAAAAAAAAAAAAAAAAAAAAAAAAAAAAAAAAAAAAAAAAAAAAAAAAAAAAAAAAAAAAAAAAAAAAAAAAAAAAAAAAAAAAAAAAAAAAAAAAAAAAAAAAAAAAAAAAAAAAAAAAAAAAAAAAAAAAAAAAAAAAAAAAAAAAAAAAAAAAAAAAAAAAAAAAAAAAAAAAAAAAAAAAAAAAAAAAAAAAAAAAAAAAAAAAAAAAAAAAAAAAAAAAAAAAAAAAAAAAAAAAAAAAAAAAAAAAAAAAAAAAAAAAAAAAAAAAAAAAAAAAAAAAAAAAAAAAAAAAAAAAAAAAAAAAAAAAAAAAAAAAAAAAAAAAAAAAAAAAAAAAAAAAAAAAAAAAAAAAAAAAAAAAAAAAAAAAAAAAAAAAAAAAAAAAAAAAAAAAAAAAAAAAAAAAAAAAAAAAAAAAAAAAAAAAAAAAAAAAAAAAAAAAAAAAAAAAAAAAAAAAAAAAAAAAAAAAAAAAAAAAAAAAAAAAAAAAAAAAAAAAAAAAAAAAAAAAAAAAAAAAAAAAAAAAAAAAAAAAAAAAAAAAAAAAAAAAAAAAAAAAAAAAAAAAAAAAAAAAAAAAAAAAAAAAAAAAAAAAAAAAAAAAAAAAAAAAAAAAAAAAAAAAAAAAAAAAAAAAAAAAAAAAAAAAAAAAAAAAAAAAAAAAAAAAAAAAAAAAAAAAAAAAAAAAAAAAAAAAAAAAAAAAAAAAAAAAAAAAAAAAAAAAAAAAAAAAAAAAAAAAAAAAAAAAAAAAAAAAAAAAAAAAAAAAAAAAAAAAAAAAAAAAAAAAAAAAAAAAAAAAAAAAAAAAAAAAAAAAAAAAAAAAAAAAAAAAAAAAAAAAAAAAAAAAAAAAAAAAAAAAAAAAAAAAAAAAAAAAAAAAAAAAAAAAAAAAAAAAAAAAAAAAAAAAAAAAAAAAAAAAAAAAAAAAAAAAAAAAAAAAAAAAAAAAAAAAAAAAAAAAAAAAAAAAAAAAAAAAAAAAAAAAAAAAAAAAAAAAAAAAAAAAAAAAAAAAAAAAAAAAAAAAAAAAAAAAAAAAAAAAAAAAAAAAAAAAAAAAAAAAAAAAAAAAAAAAAAAAAAAAAAAAAAAAAAAAAAAAAAAAAAAAAAAAAAAAAAAAAAAAAAAAAAAAAAAAAAAAAAAAAAAAAAAAAAAAAAAAAAAAAAAAAAAAAAAAAAAAAAAAAAAAAAAAAAAAAAAAAAAAAAAAAAAAAAAAAAAAAAAAAAAAAAAAAAAAAAAAAAAAAAAAAAAAAAAAAAAAAAAAAAAAAAAAAAAAAAAAAAAAAAAAAAAAAAAAAAAAAAAAAAAAAAAAAAAAAAAAAAAAAAAAAAAAAAAAAAAAAAAAAAAAAAAAAAAAAAAAAAAAAAAAAAAAAAAAAAAAAAAAAAAAAAAAAAAAAAAAAAAAAAAAAAAAAAAAAAAAAAAAAAAAAAAAAAAAAAAAAAAAAAAAAAAAAAAAAAAAAAAAAAAAAAAAAAAAAAAAAAAAAAAAAAAAAAAAAAAAAAAAAAAAAAAAAAAAAAAAAAAAAAAAAAAAAAAAAAAAAAAAAAAAAAAAAAAAAAAAAAAAAAAAAAAAAAAAAAAAAAAAAAAAAAAAAAAAAAAAAAAAAAAAAAAAAAAAAAAAAAAAAAAAAAAAAAAAAAAAAAAAAAAAAAAAAAAAAAAAAAAAAAAAAAAAAAAAAAAAAAAAAAAAAAAAAAAAAAAAAAAAAAAAAAAAAAAAAAAAAAAAAAAAAAAAAAAAAAAAAAAAAAAAAAAAAAAAAAAAAAAAAAAAAAAAAAAAAAAAAAAAAAAAAAAAAAAAAAAAAAAAAAAAAAAAAAAAAAAAAAAAAAAAAAAAAAAAAAAAAAAAAAAAAAAAAAAAAAAAAAAAAAAAAAAAAAAAAAAAAAAAAAAAAAAAAAAAAAAAAAAAAAAAAAAAAAAAAAAAAAAAAAAAAAAAAAAAAAAAAAAAAAAAAAAAAAAAAAAAAAAAAAAAAAAAAAAAAAAAAAAAAAAAAAAAAAAAAAAAAAAAAAAAAAAAAAAAAAAAAAAAAAAAAAAAAAAAAAAAAAAAAAAAAAAAAAAAAAAAAAAAAAAAAAAAAAAAAAAAAAAAAAAAAAAAAAAAAAAAAAAAAAAAAAAAAAAAAAAAAAAAAAAAAAAAAAAAAAAAAAAAAAAAAAAAAAAAAAAAAAAAAAAAAAAAAAAAAAAAAAAAAAAAAAAAAAAAAAAAAAAAAAAAAAAAAAAAAAAAAAAAAAAAAAAAAAAAAAAAAAAAAAAAAAAAAAAAAAAAAAAAAAAAAAAAAAAAAAAAAAAAAAAAAAAAAAAAAAAAAAAAAAAAAAAAAAAAAAAAAAAAAAAAAAAAAAAAAAAAAAAAAAAAAAAAAAAAAAAAAAAAAAAAAAAAAAAAAAAAAAAAAAAAAAAAAAAAAAAAAAAAAAAAAAAAAAAAAAAAAAAAAAAAAAAAAAAAAAAAAAAAAAAAAAAAAAAAAAAAAAAAAAAAAAAAAAAAAAAAAAAAAAAAAAAAAAAAAAAAAAAAAAAAAAAAAAAAAAAAAAAAAAAAAAAAAAAAAAAAAAAAAAAAAAAAAAAAAAAAAAAAAAAAAAAAAAAAAAAAAAAAAAAAAAAAAAAAAAAAAAAAAAAAAAAAAAAAAAAAAAAAAAAAAAAAAAAAAAAAAAAAAAAAAAAAAAAAAAAAAAAAAAAAAAAAAAAAAAAAAAAAAAAAAAAAAAAAAAAAAAAAAAAAAAAAAAAAAAAAAAAAAAAAAAAAAAAAAAAAAAAAAAAAAAAAAAAAAAAAAAAAAAAAAAAAAAAAAAAAAAAAAAAAAAAAAAAAAAAAAAAAAAAAAAAAAAAAAAAAAAAAAAAAAAAAAAAAAAAAAAAAAAAAAAAAAAAAAAAAAAAAAAAAAAAAAAAAAAAAAAAAAAAAAAAAAAAAAAAAAAAAAAAAAAAAAAAAAAAAAAAAAAAAAAAAAAAAAAAAAAAAAAAAAAAAAAAAAAAAAAAAAAAAAAAAAAAAAAAAAAAAAAAAAAAAAAAAAAAAAAAAAAAAAAAAAAAAAAAAAAAAAAAAAAAAAAAAAAAAAAAAAAAAAAAAAAAAAAAAAAAAAAAAAAAAAAAAAAAAAAAAAAAAAAAAAAAAAAAAAAAAAAAAAAAAAAAAAAAAAAAAAAAAAAAAAAAAAAAAAAAAAAAAAAAAAAAAAAAAAAAAAAAAAAAAAAAAAAAAAAAAAAAAAAAAAAAAAAAAAAAAAAAAAAAAAAAAAAAAAAAAAAAAAAAAAAAAAAAAAAAAAAAAAAAAAAAAAAAAAAAAAAAAAAAAAAAAAAAAAAAAAAAAAAAAAAAAAAAAAAAAAAAAAAAAAAAAAAAAAAAAAAAAAAAAAAAAAAAAAAAAAAAAAAAAAAAAAAAAAAAAAAAAAAAAAAAAAAAAAAAAAAAAAAAAAAAAAAAAAAAAAAAAAAAAAAAAAAAAAAAAAAAAAAAAAAAAAAAAAAAAAAAAAAAAAAAAAAAAAAAAAAAAAAAAAAAAAAAAAAAAAAAAAAAAAAAAAAAAAAAAAAAAAAAAAAAAAAAAAAAAAAAAAAAAAAAAAAAAAAAAAAAAAAAAAAAAAAAAAAAAAAAAAAAAAAAAAAAAAAAAAAAAAAAAAAAAAAAAAAAAAAAAAAAAAAAAAAAAAAAAAAAAAAAAAAAAAAAAAAAAAAAAAAAAAAAAAAAAAAAAAAAAAAAAAAAAAAAAAAAAAAAAAAAAAAAAAAAAAAAAAAAAAAAAAAAAAAAAAAAAAAAAAAAAAAAAAAAAAAAAAAAAAAAAAAAAAAAAAAAAAAAAAAAAAAAAAAAAAAAAAAAAAAAAAAAAAAAAAAAAAAAAAAAAAAAAAAAAAAAAAAAAAAAAAAAAAAAAAAAAAAAAAAAAAAAAAAAAAAAAAAAAAAAAAAAAAAAAAAAAAAAAAAAAAAAAAAAAAAAAAAAAAAAAAAAAAAAAAAAAAAAAAAAAAAAAAAAAAAAAAAAAAAAAAAAAAAAAAAAAAAAAAAAAAAAAAAAAAAAAAAAAAAAAAAAAAAAAAAAAAAAAAAAAAAAAAAAAAAAAAAAAAAAAAAAAAAAAAAAAAAAAAAAAAAAAAAAAAAAAAAAAAAAAAAAAAAAAAAAAAAAAAAAAAAAAAAAAAAAAAAAAAAAAAAAAAAAAAAAAAAAAAAAAAAAAAAAAAAAAAAAAAAAAAAAAAAAAAAAAAAAAAAAAAAAAAAAAAAAAAAAAAAAAAAAAAAAAAAAAAAAAAAAAAAAAAAAAAAAAAAAAAAAAAAAAAAAAAAAAAAAAAAAAAAAAAAAAAAAAAAAAAAAAAAAAAAAAAAAAAAAAAAAAAAAAAAAAAAAAAAAAAAAAAAAAAAAAAAAAAAAAAAAAAAAAAAAAAAAAAAAAAAAAAAAAAAAAAAAAAAAAAAAAAAAAAAAAAAAAAAAAAAAAAAAAAAAAAAAAAAAAAAAAAAAAAAAAAAAAAAAAAAAAAAAAAAAAAAAAAAAAAAAAAAAAAAAAAAAAAAAAAAAAAAAAAAAAAAAAAAAAAAAAAAAAAAAAAAAAAAAAAAAAAAAAAAAAAAAAAAAAAAAAAAAAAAAAAAAAAAAAAAAAAAAAAAAAAAAAAAAAAAAAAAAAAAAAAAAAAAAAAAAAAAAAAAAAAAAAAAAAAAAAAAAAAAAAAAAAAAAAAAAAAAAAAAAAAAAAAAAAAAAAAAAAAAAAAAAAAAAAAAAAAAAAAAAAAAAAAAAAAAAAAAAAAAAAAAAAAAAAAAAAAAAAAAAAAAAAAAAAAAAAAAAAAAAAAAAAAAAAAAAAAAAAAAAAAAAAAAAAAAAAAAAAAAAAAAAAAAAAAAAAAAAAAAAAAAAAAAAAAAAAAAAAAAAAAAAAAAAAAAAAAAAAAAAAAAAAAAAAAAAAAAAAAAAAAAAAAAAAAAAAAAAAAAAAAAAAAAAAAAAAAAAAAAAAAAAAAAAAAAAAAAAAAAAAAAAAAAAAAAAAAAAAAAAAAAAAAAAAAAAAAAAAAAAAAAAAAAAAAAAAAAAAAAAAAAAAAAAAAAAAAAAAAAAAAAAAAAAAAAAAAAAAAAAAAAAAAAAAAAAAAAAAAAAAAAAAAAAAAAAAAAAAAAAAAAAAAAAAAAAAAAAAAAAAAAAAAAAAAAAAAAAAAAAAAAAAAAAAAAAAAAAAAAAAAAAAAAAAAAAAAAAAAAAAAAAAAAAAAAAAAAAAAAAAAAAAAAAAAAAAAAAAAAAAAAAAAAAAAAAAAAAAAAAAAAAAAAAAAAAAAAAAAAAAAAAAAAAAAAAAAAAAAAAAAAAAAAAAAAAAAAAAAAAAAAAAAAAAAAAAAAAAAAAAAAAAAAAAAAAAAAAAAAAAAAAAAAAAAAAAAAAAAAAAAAAAAAAAAAAAAAAAAAAAAAAAAAAAAAAAAAAAAAAAAAAAAAAAAAAAAAAAAAAAAAAAAAAAAAAAAAAAAAAAAAAAAAAAAAAAAAAAAAAAAAAAAAAAAAAAAAAAAAAAAAAAAAAAAAAAAAAAAAAAAAAAAAAAAAAAAAAAAAAAAAAAAAAAAAAAAAAAAAAAAAAAAAAAAAAAAAAAAAAAAAAAAAAAAAAAAAAAAAAAAAAAAAAAAAAAAAAAAAAAAAAAAAAAAAAAAAAAAAAAAAAAAAAAAAAAAAAAAAAAAAAAAAAAAAAAAAAAAAAAAAAAAAAAAAAAAAAAAAAAAAAAAAAAAAAAAAAAAAAAAAAAAAAAAAAAAAAAAAAAAAAAAAAAAAAAAAAAAAAAAAAAAAAAAAAAAAAAAAAAAAAAAAAAAAAAAAAAAAAAAAAAAAAAAAAAAAAAAAAAAAAAAAAAAAAAAAAAAAAAAAAAAAAAAAAAAAAAAAAAAAAAAAAAAAAAAAAAAAAAAAAAAAAAAAAAAAAAAAAAAAAAAAAAAAAAAAAAAAAAAAAAAAAAAAAAAAAAAAAAAAAAAAAAAAAAAAAAAAAAAAAAAAAAAAAAAAAAAAAAAAAAAAAAAAAAAAAAAAAAAAAAAAAAAAAAAAAAAAAAAAAAAAAAAAAAAAAAAAAAAAAAAAAAAAAAAAAAAAAAAAAAAAAAAAAAAAAAAAAAAAAAAAAAAAAAAAAAAAAAAAAAAAAAAAAAAAAAAAAAAAAAAAAAAAAAAAAAAAAAAAAAAAAAAAAAAAAAAAAAAAAAAAAAAAAAAAAAAAAAAAAAAAAAAAAAAAAAAAAAAAAAAAAAAAAAAAAAAAAAAAAAAAAAAAAAAAAAAAAAAAAAAAAAAAAAAAAAAAAAAAAAAAAAAAAAAAAAAAAAAAAAAAAAAAAAAAAAAAAAAAAAAAAAAAAAAAAAAAAAAAAAAAAAAAAAAAAAAAAAAAAAAAAAAAAAAAAAAAAAAAAAAAAAAAAAAAAAAAAAAAAAAAAAAAAAAAAAAAAAAAAAAAAAAAAAAAAAAAAAAAAAAAAAAAAAAAAAAAAAAAAAAAAAAAAAAAAAAAAAAAAAAAAAAAAAAAAAAAAAAAAAAAAAAAAAAAAAAAAAAAAAAAAAAAAAAAAAAAAAAAAAAAAAAAAAAAAAAAAAAAAAAAAAAAAAAAAAAAAAAAAAAAAAAAAAAAAAAAAAAAAAAAAAAAAAAAAAAAAAAAAAAAAAAAAAAAAAAAAAAAAAAAAAAAAAAAAAAAAAAAAAAAAAAAAAAAAAAAAAAAAAAAAAAAAAAAAAAAAAAAAAAAAAAAAAAAAAAAAAAAAAAAAAAAAAAAAAAAAAAAAAAAAAAAAAAAAAAAAAAAAAAAAAAAAAAAAAAAAAAAAAAAAAAAAAAAAAAAAAAAAAAAAAAAAAAAAAAAAAAAAAAAAAAAAAAAAAAAAAAAAAAAAAAAAAAAAAAAAAAAAAAAAAAAAAAAAAAAAAAAAAAAAAAAAAAAAAAAAAAAAAAAAAAAAAAAAAAAAAAAAAAAAAAAAAAAAAAAAAAAAAAAAAAAAAAAAAAAAAAAAAAAAAAAAAAAAAAAAAAAAAAAAAAAAAAAAAAAAAAAAAAAAAAAAAAAAAAAAAAAAAAAAAAAAAAAAAAAAAAAAAAAAAAAAAAAAAAAAAAAAAAAAAAAAAAAAAAAAAAAAAAAAAAAAAAAAAAAAAAAAAAAAAAAAAAAAAAAAAAAAAAAAAAAAAAAAAAAAAAAAAAAAAAAAAAAAAAAAAAAAAAAAAAAAAAAAAAAAAAAAAAAAAAAAAAAAAAAAAAAAAAAAAAAAAAAAAAAAAAAAAAAAAAAAAAAAAAAAAAAAAAAAAAAAAAAAAAAAAAAAAAAAAAAAAAAAAAAAAAAAAAAAAAAAAAAAAAAAAAAAAAAAAAAAAAAAAAAAAAAAAAAAAAAAAAAAAAAAAAAAAAAAAAAAAAAAAAAAAAAAAAAAAAAAAAAAAAAAAAAAAAAAAAAAAAAAAAAAAAAAAAAAAAAAAAAAAAAAAAAAAAAAAAAAAAAAAAAAAAAAAAAAAAAAAAAAAAAAAAAAAAAAAAAAAAAAAAAAAAAAAAAAAAAAAAAAAAAAAAAAAAAAAAAAAAAAAAAAAAAAAAAAAAAAAAAAAAAAAAAAAAAAAAAAAAAAAAAAAAAAAAAAAAAAAAAAAAAAAAAAAAAAAAAAAAAAAAAAAAAAAAAAAAAAAAAAAAAAAAAAAAAAAAAAAAAAAAAAAAAAAAAAAAAAAAAAAAAAAAAAAAAAAAAAAAAAAAAAAAAAAAAAAAAAAAAAAAAAAAAAAAAAAAAAAAAAAAAAAAAAAAAAAAAAAAAAAAAAAAAAAAAAAAAAAAAAAAAAAAAAAAAAAAAAAAAAAAAAAAAAAAAAAAAAAAAAAAAAAAAAAAAAAAAAAAAAAAAAAAAAAAAAAAAAAAAAAAAAAAAAAAAAAAAAAAAAAAAAAAAAAAAAAAAAAAAAAAAAAAAAAAAAAAAAAAAAAAAAAAAAAAAAAAAAAAAAAAAAAAAAAAAAAAAAAAAAAAAAAAAAAAAAAAAAAAAAAAAAAAAAAAAAAAAAAAAAAAAAAAAAAAAAAAAAAAAAAAAAAAAAAAAAAAAAAAAAAAAAAAAAAAAAAAAAAAAAAAAAAAAAAAAAAAAAAAAAAAAAAAAAAAAAAAAAAAAAAAAAAAAAAAAAAAAAAAAAAAAAAAAAAAAAAAAAAAAAAAAAAAAAAAAAAAAAAAAAAAAAAAAAAAAAAAAAAAAAAAAAAAAAAAAAAAAAAAAAAAAAAAAAAAAAAAAAAAAAAAAAAAAAAAAAAAAAAAAAAAAAAAAAAAAAAAAAAAAAAAAAAAAAAAAAAAAAAAAAAAAAAAAAAAAAAAAAAAAAAAAAAAAAAAAAAAAAAAAAAAAAAAAAAAAAAAAAAAAAAAAAAAAAAAAAAAAAAAAAAAAAAAAAAAAAAAAAAAAAAAAAAAAAAAAAAAAAAAAAAAAAAAAAAAAAAAAAAAAAAAAAAAAAAAAAAAAAAAAAAAAAAAAAAAAAAAAAAAAAAAAAAAAAAAAAAAAAAAAAAAAAAAAAAAAAAAAAAAAAAAAAAAAAAAAAAAAAAAAAAAAAAAAAAAAAAAAAAAAAAAAAAAAAAAAAAAAAAAAAAAAAAAAAAAAAAAAAAAAAAAAAAAAAAAAAAAAAAAAAAAAAAAAAAAAAAAAAAAAAAAAAAAAAAAAAAAAAAAAAAAAAAAAAAAAAAAAAAAAAAAAAAAAAAAAAAAAAAAAAAAAAAAAAAAAAAAAAAAAAAAAAAAAAAAAAAAAAAAAAAAAAAAAAAAAAAAAAAAAAAAAAAAAAAAAAAAAAAAAAAAAAAAAAAAAAAAAAAAAAAAAAAAAAAAAAAAAAAAAAAAAAAAAAAAAAAAAAAAAAAAAAAAAAAAAAAAAAAAAAAAAAAAAAAAAAAAAAAAAAAAAAAAAAAAAAAAAAAAAAAAAAAAAAAAAAAAAAAAAAAAAAAAAAAAAAAAAAAAAAAAAAAAAAAAAAAAAAAAAAAAAAAAAAAAAAAAAAAAAAAAAAAAAAAAAAAAAAAAAAAAAAAAAAAAAAAAAAAAAAAAAAAAAAAAAAAAAAAAAAAAAAAAAAAAAAAAAAAAAAAAAAAAAAAAAAAAAAAAAAAAAAAAAAAAAAAAAAAAAAAAAAAAAAAAAAAAAAAAAAAAAAAAAAAAAAAAAAAAAAAAAAAAAAAAAAAAAAAAAAAAAAAAAAAAAAAAAAAAAAAAAAAAAAAAAAAAAAAAAAAAAAAAAAAAAAAAAAAAAAAAAAAAAAAAAAAAAAAAAAAAAAAAAAAAAAAAAAAAAAAAAAAAAAAAAAAAAAAAAAAAAAAAAAAAAAAAAAAAAAAAAAAAAAAAAAAAAAAAAAAAAAAAAAAAAAAAAAAAAAAAAAAAAAAAAAAAAAAAAAAAAAAAAAAAAAAAAAAAAAAAAAAAAAAAAAAAAAAAAAAAAAAAAAAAAAAAAAAAAAAAAAAAAAAAAAAAAAAAAAAAAAAAAAAAAAAAAAAAAAAAAAAAAAAAAAAAAAAAAAAAAAAAAAAAAAAAAAAAAAAAAAAAAAAAAAAAAAAAAAAAAAAAAAAAAAAAAAAAAAAAAAAAAAAAAAAAAAAAAAAAAAAAAAAAAAAAAAAAAAAAAAAAAAAAAAAAAAAAAAAAAAAAAAAAAAAAAAAAAAAAAAAAAAAAAAAAAAAAAAAAAAAAAAAAAAAAAAAAAAAAAAAAAAAAAAAAAAAAAAAAAAAAAAAAAAAAAAAAAAAAAAAAAAAAAAAAAAAAAAAAAAAAAAAAAAAAAAAAAAAAAAAAAAAAAAAAAAAAAAAAAAAAAAAAAAAAAAAAAAAAAAAAAAAAAAAAAAAAAAAAAAAAAAAAAAAAAAAAAAAAAAAAAAAAAAAAAAAAAAAAAAAAAAAAAAAAAAAAAAAAAAAAAAAAAAAAAAAAAAAAAAAAAAAAAAAAAAAAAAAAAAAAAAAAAAAAAAAAAAAAAAAAAAAAAAAAAAAAAAAAAAAAAAAAAAAAAAAAAAAAAAAAAAAAAAAAAAAAAAAAAAAAAAAAAAAAAAAAAAAAAAAAAAAAAAAAAAAAAAAAAAAAAAAAAAAAAAAAAAAAAAAAAAAAAAAAAAAAAAAAAAAAAAAAAAAAAAAAAAAAAAAAAAAAAAAAAAAAAAAAAAAAAAAAAAAAAAAAAAAAAAAAAAAAAAAAAAAAAAAAAAAAAAAAAAAAAAAAAAAAAAAAAAAAAAAAAAAAAAAAAAAAAAAAAAAAAAAAAAAAAAAAAAAAAAAAAAAAAAAAAAAAAAAAAAAAAAAAAAAAAAAAAAAAAAAAAAAAAAAAAAAAAAAAAAAAAAAAAAAAAAAAAAAAAAAAAAAAAAAAAAAAAAAAAAAAAAAAAAAAAAAAAAAAAAAAAAAAAAAAAAAAAAAAAAAAAAAAAAAAAAAAAAAAAAAAAAAAAAAAAAAAAAAAAAAAAAAAAAAAAAAAAAAAAAAAAAAAAAAAAAAAAAAAAAAAAAAAAAAAAAAAAAAAAAAAAAAAAAAAAAAAAAAAAAAAAAAAAAAAAAAAAAAAAAAAAAAAAAAAAAAAAAAAAAAAAAAAAAAAAAAAAAAAAAAAAAAAAAAAAAAAAAAAAAAAAAAAAAAAAAAAAAAAAAAAAAAAAAAAAAAAAAAAAAAAAAAAAAAAAAAAAAAAAAAAAAAAAAAAAAAAAAAAAAAAAAAAAAAAAAAAAAAAAAAAAAAAAAAAAAAAAAAAAAAAAAAAAAAAAAAAAAAAAAAAAAAAAAAAAAAAAAAAAAAAAAAAAAAAAAAAAAAAAAAAAAAAAAAAAAAAAAAAAAAAAAAAAAAAAAAAAAAAAAAAAAAAAAAAAAAAAAAAAAAAAAAAAAAAAAAAAAAAAAAAAAAAAAAAAAAAAAAAAAAAAAAAAAAAAAAAAAAAAAAAAAAAAAAAAAAAAAAAAAAAAAAAAAAAAAAAAAAAAAAAAAAAAAAAAAAAAAAAAAAAAAAAAAAAAAAAAAAAAAAAAAAAAAAAAAAAAAAAAAAAAAAAAAAAAAAAAAAAAAAAAAAAAAAAAAAAAAAAAAAAAAAAAAAAAAAAAAAAAAAAAAAAAAAAAAAAAAAAAAAAAAAAAAAAAAAAAAAAAAAAAAAAAAAAAAAAAAAAAAAAAAAAAAAAAAAAAAAAAAAAAAAAAAAAAAAAAAAAAAAAAAAAAAAAAAAAAAAAAAAAAAAAAAAAAAAAAAAAAAAAAAAAAAAAAAAAAAAAAAAAAAAAAAAAAAAAAAAAAAAAAAAAAAAAAAAAAAAAAAAAAAAAAAAAAAAAAAAAAAAAAAAAAAAAAAAAAAAAAAAAAAAAAAAAAAAAAAAAAAAAAAAAAAAAAAAAAAAAAAAAAAAAAAAAAAAAAAAAAAAAAAAAAAAAAAAAAAAAAAAAAAAAAAAAAAAAAAAAAAAAAAAAAAAAAAAAAAAAAAAAAAAAAAAAAAAAAAAAAAAAAAAAAAAAAAAAAAAAAAAAAAAAAAAAAAAAAAAAAAAAAAAAAAAAAAAAAAAAAAAAAAAAAAAAAAAAAAAAAAAAAAAAAAAAAAAAAAAAAAAAAAAAAAAAAAAAAAAAAAAAAAAAAAAAAAAAAAAAAAAAAAAAAAAAAAAAAAAAAAAAAAAAAAAAAAAAAAAAAAAAAAAAAAAAAAAAAAAAAAAAAAAAAAAAAAAAAAAAAAAAAAAAAAAAAAAAAAAAAAAAAAAAAAAAAAAAAAAAAAAAAAAAAAAAAAAAAAAAAAAAAAAAAAAAAAAAAAAAAAAAAAAAAAAAAAAAAAAAAAAAAAAAAAAAAAAAAAAAAAAAAAAAAAAAAAAAAAAAAAAAAAAAAAAAAAAAAAAAAAAAAAAAAAAAAAAAAAAAAAAAAAAAAAAAAAAAAAAAAAAAAAAAAAAAAAAAAAAAAAAAAAAAAAAAAAAAAAAAAAAAAAAAAAAAAAAAAAAAAAAAAAAAAAAAAAAAAAAAAAAAAAAAAAAAAAAAAAAAAAAAAAAAAAAAAAAAAAAAAAAAAAAAAAAAAAAAAAAAAAAAAAAAAAAAAAAAAAAAAAAAAAAAAAAAAAAAAAAAAAAAAAAAAAAAAAAAAAAAAAAAAAAAAAAAAAAAAAAAAAAAAAAAAAAAAAAAAAAAAAAAAAAAAAAAAAAAAAAAAAAAAAAAAAAAAAAAAAAAAAAAAAAAAAAAAAAAAAAAAAAAAAAAAAAAAAAAAAAAAAAAAAAAAAAAAAAAAAAAAAAAAAAAAAAAAAAAAAAAAAAAAAAAAAAAAAAAAAAAAAAAAAAAAAAAAAAAAAAAAAAAAAAAAAAAAAAAAAAAAAAAAAAAAAAAAAAAAAAAAAAAAAAAAAAAAAAAAAAAAAAAAAAAAAAAAAAAAAAAAAAAAAAAAAAAAAAAAAAAAAAAAAAAAAAAAAAAAAAAAAAAAAAAAAAAAAAAAAAAAAAAAAAAAAAAAAAAAAAAAAAAAAAAAAAAAAAAAAAAAAAAAAAAAAAAAAAAAAAAAAAAAAAAAAAAAAAAAAAAAAAAAAAAAAAAAAAAAAAAAAAAAAAAAAAAAAAAAAAAAAAAAAAAAAAAAAAAAAAAAAAAAAAAAAAAAAAAAAAAAAAAAAAAAAAAAAAAAAAAAAAAAAAAAAAAAAAAAAAAAAAAAAAAAAAAAAAAAAAAAAAAAAAAAAAAAAAAAAAAAAAAAAAAAAAAAAAAAAAAAAAAAAAAAAAAAAAAAAAAAAAAAAAAAAAAAAAAAAAAAAAAAAAAAAAAAAAAAAAAAAAAAAAAAAAAAAAAAAAAAAAAAAAAAAAAAAAAAAAAAAAAAAAAAAAAAAAAAAAAAAAAAAAAAAAAAAAAAAAAAAAAAAAAAAAAAAAAAAAAAAAAAAAAAAAAAAAAAAAAAAAAAAAAAAAAAAAAAAAAAAAAAAAAAAAAAAAAAAAAAAAAAAAAAAAAAAAAAAAAAAAAAAAAAAAAAAAAAAAAAAAAAAAAAAAAAAAAAAAAAAAAAAAAAAAAAAAAAAAAAAAAAAAAAAAAAAAAAAAAAAAAAAAAAAAAAAAAAAAAAAAAAAAAAAAAAAAAAAAAAAAAAAAAAAAAAAAAAAAAAAAAAAAAAAAAAAAAAAAAAAAAAAAAAAAAAAAAAAAAAAAAAAAAAAAAAAAAAAAAAAAAAAAAAAAAAAAAAAAAAAAAAAAAAAAAAAAAAAAAAAAAAAAAAAAAAAAAAAAAAAAAAAAAAAAAAAAAAAAAAAAAAAAAAAAAAAAAAAAAAAAAAAAAAAAAAAAAAAAAAAAAAAAAAAAAAAAAAAAAAAAAAAAAAAAAAAAAAAAAAAAAAAAAAAAAAAAAAAAAAAAAAAAAAAAAAAAAAAAAAAAAAAAAAAAAAAAAAAAAAAAAAAAAAAAAAAAAAAAAAAAAAAAAAAAAAAAAAAAAAAAAAAAAAAAAAAAAAAAAAAAAAAAAAAAAAAAAAAAAAAAAAAAAAAAAAAAAAAAAAAAAAAAAAAAAAAAAAAAAAAAAAAAAAAAAAAAAAAAAAAAAAAAAAAAAAAAAAAAAAAAAAAAAAAAAAAAAAAAAAAAAAAAAAAAAAAAAAAAAAAAAAAAAAAAAAAAAAAAAAAAAAAAAAAAAAAAAAAAAAAAAAAAAAAAAAAAAAAAAAAAAAAAAAAAAAAAAAAAAAAAAAAAAAAAAAAAAAAAAAAAAAAAAAAAAAAAAAAAAAAAAAAAAAAAAAAAAAAAAAAAAAAAAAAAAAAAAAAAAAAAAAAAAAAAAAAAAAAAAAAAAAAAAAAAAAAAAAAAAAAAAAAAAAAAAAAAAAAAAAAAAAAAAAAAAAAAAAAAAAAAAAAAAAAAAAAAAAAAAAAAAAAAAAAAAAAAAAAAAAAAAAAAAAAAAAAAAAAAAAAAAAAAAAAAAAAAAAAAAAAAAAAAAAAAAAAAAAAAAAAAAAAAAAAAAAAAAAAAAAAAAAAAAAAAAAAAAAAAAAAAAAAAAAAAAAAAAAAAAAAAAAAAAAAAAAAAAAAAAAAAAAAAAAAAAAAAAAAAAAAAAAAAAAAAAAAAAAAAAAAAAAAAAAAAAAAAAAAAAAAAAAAAAAAAAAAAAAAAAAAAAAAAAAAAAAAAAAAAAAAAAAAAAAAAAAAAAAAAAAAAAAAAAAAAAAAAAAAAAAAAAAAAAAAAAAAAAAAAAAAAAAAAAAAAAAAAAAAAAAAAAAAAAAAAAAAAAAAAAAAAAAAAAAAAAAAAAAAAAAAAAAAAAAAAAAAAAAAAAAAAAAAAAAAAAAAAAAAAAAAAAAAAAAAAAAAAAAAAAAAAAAAAAAAAAAAAAAAAAAAAAAAAAAAAAAAAAAAAAAAAAAAAAAAAAAAAAAAAAAAAAAAAAAAAAAAAAAAAAAAAAAAAAAAAAAAAAAAAAAAAAAAAAAAAAAAAAAAAAAAAAAAAAAAAAAAAAAAAAAAAAAAAAAAAAAAAAAAAAAAAAAAAAAAAAAAAAAAAAAAAAAAAAAAAAAAAAAAAAAAAAAAAAAAAAAAAAAAAAAAAAAAAAAAAAAAAAAAAAAAAAAAAAAAAAAAAAAAAAAAAAAAAAAAAAAAAAAAAAAAAAAAAAAAAAAAAAAAAAAAAAAAAAAAAAAAAAAAAAAAAAAAAAAAAAAAAAAAAAAAAAAAAAAAAAAAAAAAAAAAAAAAAAAAAAAAAAAAAAAAAAAAAAAAAAAAAAAAAAAAAAAAAAAAAAAAAAAAAAAAAAAAAAAAAAAAAAAAAAAAAAAAAAAAAAAAAAAAAAAAAAAAAAAAAAAAAAAAAAAAAAAAAAAAAAAAAAAAAAAAAAAAAAAAAAAAAAAAAAAAAAAAAAAAAAAAAAAAAAAAAAAAAAAAAAAAAAAAAAAAAAAAAAAAAAAAAAAAAAAAAAAAAAAAAAAAAAAAAAAAAAAAAAAAAAAAAAAAAAAAAAAAAAAAAAAAAAAAAAAAAAAAAAAAAAAAAAAAAAAAAAAAAAAAAAAAAAAAAAAAAAAAAAAAAAAAAAAAAAAAAAAAAAAAAAAAAAAAAAAAAAAAAAAAAAAAAAAAAAAAAAAAAAAAAAAAAAAAAAAAAAAAAAAAAAAAAAAAAAAAAAAAAAAAAAAAAAAAAAAAAAAAAAAAAAAAAAAAAAAAAAAAAAAAAAAAAAAAAAAAAAAAAAAAAAAAAAAAAAAAAAAAAAAAAAAAAAAAAAAAAAAAAAAAAAAAAAAAAAAAAAAAAAAAAAAAAAAAAAAAAAAAAAAAAAAAAAAAAAAAAAAAAAAAAAAAAAAAAAAAAAAAAAAAAAAAAAAAAAAAAAAAAAAAAAAAAAAAAAAAAAAAAAAAAAAAAAAAAAAAAAAAAAAAAAAAAAAAAAAAAAAAAAAAAAAAAAAAAAAAAAAAAAAAAAAAAAAAAAAAAAAAAAAAAAAAAAAAAAAAAAAAAAAAAAAAAAAAAAAAAAAAAAAAAAAAAAAAAAAAAAAAAAAAAAAAAAAAAAAAAAAAAAAAAAAAAAAAAAAAAAAAAAAAAAAAAAAAAAAAAAAAAAAAAAAAAAAAAAAAAAAAAAAAAAAAAAAAAAAAAAAAAAAAAAAAAAAAAAAAAAAAAAAAAAAAAAAAAAAAAAAAAAAAAAAAAAAAAAAAAAAAAAAAAAAAAAAAAAAAAAAAAAAAAAAAAAAAAAAAAAAAAAAAAAAAAAAAAAAAAAAAAAAAAAAAAAAAAAAAAAAAAAAAAAAAAAAAAAAAAAAAAAAAAAAAAAAAAAAAAAAAAAAAAAAAAAAAAAAAAAAAAAAAAAAAAAAAAAAAAAAAAAAAAAAAAAAAAAAAAAAAAAAAAAAAAAAAAAAAAAAAAAAAAAAAAAAAAAAAAAAAAAAAAAAAAAAAAAAAAAAAAAAAAAAAAAAAAAAAAAAAAAAAAAAAAAAAAAAAAAAAAAAAAAAAAAAAAAAAAAAAAAAAAAAAAAAAAAAAAAAAAAAAAAAAAAAAAAAAAAAAAAAAAAAAAAAAAAAAAAAAAAAAAAAAAAAAAAAAAAAAAAAAAAAAAAAAAAAAAAAAAAAAAAAAAAAAAAAAAAAAAAAAAAAAAAAAAAAAAAAAAAAAAAAAAAAAAAAAAAAAAAAAAAAAAAAAAAAAAAAAAAAAAAAAAAAAAAAAAAAAAAAAAAAAAAAAAAAAAAAAAAAAAAAAAAAAAAAAAAAAAAAAAAAAAAAAAAAAAAAAAAAAAAAAAAAAAAAAAAAAAAAAAAAAAAAAAAAAAAAAAAAAAAAAAAAAAAAAAAAAAAAAAAAAAAAAAAAAAAAAAAAAAAAAAAAAAAAAAAAAAAAAAAAAAAAAAAAAAAAAAAAAAAAAAAAAAAAAAAAAAAAAAAAAAAAAAAAAAAAAAAAAAAAAAAAAAAAAAAAAAAAAAAAAAAAAAAAAAAAAAAAAAAAAAAAAAAAAAAAAAAAAAAAAAAAAAAAAAAAAAAAAAAAAAAAAAAAAAAAAAAAAAAAAAAAAAAAAAAAAAAAAAAAAAAAAAAAAAAAAAAAAAAAAAAAAAAAAAAAAAAAAAAAAAAAAAAAAAAAAAAAAAAAAAAAAAAAAAAAAAAAAAAAAAAAAAAAAAAAAAAAAAAAAAAAAAAAAAAAAAAAAAAAAAAAAAAAAAAAAAAAAAAAAAAAAAAAAAAAAAAAAAAAAAAAAAAAAAAAAAAAAAAAAAAAAAAAAAAAAAAAAAAAAAAAAAAAAAAAAAAAAAAAAAAAAAAAAAAAAAAAAAAAAAAAAAAAAAAAAAAAAAAAAAAAAAAAAAAAAAAAAAAAAAAAAAAAAAAAAAAAAAAAAAAAAAAAAAAAAAAAAAAAAAAAAAAAAAAAAAAAAAAAAAAAAAAAAAAAAAAAAAAAAAAAAAAAAAAAAAAAAAAAAAAAAAAAAAAAAAAAAAAAAAAAAAAAAAAAAAAAAAAAAAAAAAAAAAAAAAAAAAAAAAAAAAAAAAAAAAAAAAAAAAAAAAAAAAAAAAAAAAAAAAAAAAAAAAAAAAAAAAAAAAAAAAAAAAAAAAAAAAAAAAAAAAAAAAAAAAAAAAAAAAAAAAAAAAAAAAAAAAAAAAAAAAAAAAAAAAAAAAAAAAAAAAAAAAAAAAAAAAAAAAAAAAAAAAAAAAAAAAAAAAAAAAAAAAAAAAAAAAAAAAAAAAAAAAAAAAAAAAAAAAAAAAAAAAAAAAAAAAAAAAAAAAAAAAAAAAAAAAAAAAAAAAAAAAAAAAAAAAAAAAAAAAAAAAAAAAAAAAAAAAAAAAAAAAAAAAAAAAAAAAAAAAAAAAAAAAAAAAAAAAAAAAAAAAAAAAAAAAAAAAAAAAAAAAAAAAAAAAAAAAAAAAAAAAAAAAAAAAAAAAAAAAAAAAAAAAAAAAAAAAAAAAAAAAAAAAAAAAAAAAAAAAAAAAAAAAAAAAAAAAAAAAAAAAAAAAAAAAAAAAAAAAAAAAAAAAAAAAAAAAAAAAAAAAAAAAAAAAAAAAAAAAAAAAAAAAAAAAAAAAAAAAAAAAAAAAAAAAAAAAAAAAAAAAAAAAAAAAAAAAAAAAAAAAAAAAAAAAAAAAAAAAAAAAAAAAAAAAAAAAAAAAAAAAAAAAAAAAAAAAAAAAAAAAAAAAAAAAAAAAAAAAAAAAAAAAAAAAAAAAAAAAAAAAAAAAAAAAAAAAAAAAAAAAAAAAAAAAAAAAAAAAAAAAAAAAAAAAAAAAAAAAAAAAAAAAAAAAAAAAAAAAAAAAAAAAAAAAAAAAAAAAAAAAAAAAAAAAAAAAAAAAAAAAAAAAAAAAAAAAAAAAAAAAAAAAAAAAAAAAAAAAAAAAAAAAAAAAAAAAAAAAAAAAAAAAAAAAAAAAAAAAAAAAAAAAAAAAAAAAAAAAAAAAAAAAAAAAAAAAAAAAAAAAAAAAAAAAAAAAAAAAAAAAAAAAAAAAAAAAAAAAAAAAAAAAAAAAAAAAAAAAAAAAAAAAAAAAAAAAAAAAAAAAAAAAAAAAAAAAAAAAAAAAAAAAAAAAAAAAAAAAAAAAAAAAAAAAAAAAAAAAAAAAAAAAAAAAAAAAAAAAAAAAAAAAAAAAAAAAAAAAAAAAAAAAAAAAAAAAAAAAAAAAAAAAAAAAAAAAAAAAAAAAAAAAAAAAAAAAAAAAAAAAAAAAAAAAAAAAAAAAAAAAAAAAAAAAAAAAAAAAAAAAAAAAAAAAAAAAAAAAAAAAAAAAAAAAAAAAAAAAAAAAAAAAAAAAAAAAAAAAAAAAAAAAAAAAAAAAAAAAAAAAAAAAAAAAAAAAAAAAAAAAAAAAAAAAAAAAAAAAAAAAAAAAAAAAAAAAAAAAAAAAAAAAAAAAAAAAAAAAAAAAAAAAAAAAAAAAAAAAAAAAAAAAAAAAAAAAAAAAAAAAAAAAAAAAAAAAAAAAAAAAAAAAAAAAAAAAAAAAAAAAAAAAAAAAAAAAAAAAAAAAAAAAAAAAAAAAAAAAAAAAAAAAAAAAAAAAAAAAAAAAAAAAAAAAAAAAAAAAAAAAAAAAAAAAAAAAAAAAAAAAAAAAAAAAAAAAAAAAAAAAAAAAAAAAAAAAAAAAAAAAAAAAAAAAAAAAAAAAAAAAAAAAAAAAAAAAAAAAAAAAAAAAAAAAAAAAAAAAAAAAAAAAAAAAAAAAAAAAAAAAAAAAAAAAAAAAAAAAAAAAAAAAAAAAAAAAAAAAAAAAAAAAAAAAAAAAAAAAAAAAAAAAAAAAAAAAAAAAAAAAAAAAAAAAAAAAAAAAAAAAAAAAAAAAAAAAAAAAAAAAAAAAAAAAAAAAAAAAAAAAAAAAAAAAAAAAAAAAAAAAAAAAAAAAAAAAAAAAAAAAAAAAAAAAAAAAAAAAAAAAAAAAAAAAAAAAAAAAAAAAAAAAAAAAAAAAAAAAAAAAAAAAAAAAAAAAAAAAAAAAAAAAAAAAAAAAAAAAAAAAAAAAAAAAAAAAAAAAAAAAAAAAAAAAAAAAAAAAAAAAAAAAAAAAAAAAAAAAAAAAAAAAAAAAAAAAAAAAAAAAAAAAAAAAAAAAAAAAAAAAAAAAAAAAAAAAAAAAAAAAAAAAAAAAAAAAAAAAAAAAAAAAAAAAAAAAAAAAAAAAAAAAAAAAAAAAAAAAAAAAAAAAAAAAAAAAAAAAAAAAAAAAAAAAAAAAAAAAAAAAAAAAAAAAAAAAAAAAAAAAAAAAAAAAAAAAAAAAAAAAAAAAAAAAAAAAAAAAAAAAAAAAAAAAAAAAAAAAAAAAAAAAAAAAAAAAAAAAAAAAAAAAAAAAAAAAAAAAAAAAAAAAAAAAAAAAAAAAAAAAAAAAAAAAAAAAAAAAAAAAAAAAAAAAAAAAAAAAAAAAAAAAAAAAAAAAAAAAAAAAAAAAAAAAAAAAAAAAAAAAAAAAAAAAAAAAAAAAAAAAAAAAAAAAAAAAAAAAAAAAAAAAAAAAAAAAAAAAAAAAAAAAAAAAAAAAAAAAAAAAAAAAAAAAAAAAAAAAAAAAAAAAAAAAAAAAAAAAAAAAAAAAAAAAAAAAAAAAAAAAAAAAAAAAAAAAAAAAAAAAAAAAAAAAAAAAAAAAAAAAAAAAAAAAAAAAAAAAAAAAAAAAAAAAAAAAAAAAAAAAAAAAAAAAAAAAAAAAAAAAAAAAAAAAAAAAAAAAAAAAAAAAAAAAAAAAAAAAAAAAAAAAAAAAAAAAAAAAAAAAAAAAAAAAAAAAAAAAAAAAAAAAAAAAAAAAAAAAAAAAAAAAAAAAAAAAAAAAAAAAAAAAAAAAAAAAAAAAAAAAAAAAAAAAAAAAAAAAAAAAAAAAAAAAAAAAAAAAAAAAAAAAAAAAAAAAAAAAAAAAAAAAAAAAAAAAAAAAAAAAAAAAAAAAAAAAAAAAAAAAAAAAAAAAAAAAAAAAAAAAAAAAAAAAAAAAAAAAAAAAAAAAAAAAAAAAAAAAAAAAAAAAAAAAAAAAAAAAAAAAAAAAAAAAAAAAAAAAAAAAAAAAAAAAAAAAAAAAAAAAAAAAAAAAAAAAAAAAAAAAAAAAAAAAAAAAAAAAAAAAAAAAAAAAAAAAAAAAAAAAAAAAAAAAAAAAAAAAAAAAAAAAAAAAAAAAAAAAAAAAAAAAAAAAAAAAAAAAAAAAAAAAAAAAAAAAAAAAAAAAAAAAAAAAAAAAAAAAAAAAAAAAAAAAAAAAAAAAAAAAAAAAAAAAAAAAAAAAAAAAAAAAAAAAAAAAAAAAAAAAAAAAAAAAAAAAAAAAAAAAAAAAAAAAAAAAAAAAAAAAAAAAAAAAAAAAAAAAAAAAAAAAAAAAAAAAAAAAAAAAAAAAAAAAAAAAAAAAAAAAAAAAAAAAAAAAAAAAAAAAAAAAAAAAAAAAAAAAAAAAAAAAAAAAAAAAAAAAAAAAAAAAAAAAAAAAAAAAAAAAAAAAAAAAAAAAAAAAAAAAAAAAAAAAAAAAAAAAAAAAAAAAAAAAAAAAAAAAAAAAAAAAAAAAAAAAAAAAAAAAAAAAAAAAAAAAAAAAAAAAAAAAAAAAAAAAAAAAAAAAAAAAAAAAAAAAAAAAAAAAAAAAAAAAAAAAAAAAAAAAAAAAAAAAAAAAAAAAAAAAAAAAAAAAAAAAAAAAAAAAAAAAAAAAAAAAAAAAAAAAAAAAAAAAAAAAAAAAAAAAAAAAAAAAAAAAAAAAAAAAAAAAAAAAAAAAAAAAAAAAAAAAAAAAAAAAAAAAAAAAAAAAAAAAAAAAAAAAAAAAAAAAAAAAAAAAAAAAAAAAAAAAAAAAAAAAAAAAAAAAAAAAAAAAAAAAAAAAAAAAAAAAAAAAAAAAAAAAAAAAAAAAAAAAAAAAAAAAAAAAAAAAAAAAAAAAAAAAAAAAAAAAAAAAAAAAAAAAAAAAAAAAAAAAAAAAAAAAAAAAAAAAAAAAAAAAAAAAAAAAAAAAAAAAAAAAAAAAAAAAAAAAAAAAAAAAAAAAAAAAAAAAAAAAAAAAAAAAAAAAAAAAAAAAAAAAAAAAAAAAAAAAAAAAAAAAAAAAAAAAAAAAAAAAAAAAAAAAAAAAAAAAAAAAAAAAAAAAAAAAAAAAAAAAAAAAAAAAAAAAAAAAAAAAAAAAAAAAAAAAAAAAAAAAAAAAAAAAAAAAAAAAAAAAAAAAAAAAAAAAAAAAAAAAAAAAAAAAAAAAAAAAAAAAAAAAAAAAAAAAAAAAAAAAAAAAAAAAAAAAAAAAAAAAAAAAAAAAAAAAAAAAAAAAAAAAAAAAAAAAAAAAAAAAAAAAAAAAAAAAAAAAAAAAAAAAAAAAAAAAAAAAAAAAAAAAAAAAAAAAAAAAAAAAAAAAAAAAAAAAAAAAAAAAAAAAAAAAAAAAAAAAAAAAAAAAAAAAAAAAAAAAAAAAAAAAAAAAAAAAAAAAAAAAAAAAAAAAAAAAAAAAAAAAAAAAAAAAAAAAAAAAAAAAAAAAAAAAAAAAAAAAAAAAAAAAAAAAAAAAAAAAAAAAAAAAAAAAAAAAAAAAAAAAAAAAAAAAAAAAAAAAAAAAAAAAAAAAAAAAAAAAAAAAAAAAAAAAAAAAAAAAAAAAAAAAAAAAAAAAAAAAAAAAAAAAAAAAAAAAAAAAAAAAAAAAAAAAAAAAAAAAAAAAAAAAAAAAAAAAAAAAAAAAAAAAAAAAAAAAAAAAAAAAAAAAAAAAAAAAAAAAAAAAAAAAAAAAAAAAAAAAAAAAAAAAAAAAAAAAAAAAAAAAAAAAAAAAAAAAAAAAAAAAAAAAAAAAAAAAAAAAAAAAAAAAAAAAAAAAAAAAAAAAAAAAAAAAAAAAAAAAAAAAAAAAAAAAAAAAAAAAAAAAAAAAAAAAAAAAAAAAAAAAAAAAAAAAAAAAAAAAAAAAAAAAAAAAAAAAAAAAAAAAAAAAAAAAAAAAAAAAAAAAAAAAAAAAAAAAAAAAAAAAAAAAAAAAAAAAAAAAAAAAAAAAAAAAAAAAAAAAAAAAAAAAAAAAAAAAAAAAAAAAAAAAAAAAAAAAAAAAAAAAAAAAAAAAAAAAAAAAAAAAAAAAAAAAAAAAAAAAAAAAAAAAAAAAAAAAAAAAAAAAAAAAAAAAAAAAAAAAAAAAAAAAAAAAAAAAAAAAAAAAAAAAAAAAAAAAAAAAAAAAAAAAAAAAAAAAAAAAAAAAAAAAAAAAAAAAAAAAAAAAAAAAAAAAAAAAAAAAAAAAAAAAAAAAAAAAAAAAAAAAAAAAAAAAAAAAAAAAAAAAAAAAAAAAAAAAAAAAAAAAAAAAAAAAAAAAAAAAAAAAAAAAAAAAAAAAAAAAAAAAAAAAAAAAAAAAAAAAAAAAAAAAAAAAAAAAAAAAAAAAAAAAAAAAAAAAAAAAAAAAAAAAAAAAAAAAAAAAAAAAAAAAAAAAAAAAAAAAAAAAAAAAAAAAAAAAAAAAAAAAAAAAAAAAAAAAAAAAAAAAAAAAAAAAAAAAAAAAAAAAAAAAAAAAAAAAAAAAAAAAAAAAAAAAAAAAAAAAAAAAAAAAAAAAAAAAAAAAAAAAAAAAAAAAAAAAAAAAAAAAAAAAAAAAAAAAAAAAAAAAAAAAAAAAAAAAAAAAAAAAAAAAAAAAAAAAAAAAAAAAAAAAAAAAAAAAAAAAAAAAAAAAAAAAAAAAAAAAAAAAAAAAAAAAAAAAAAAAAAAAAAAAAAAAAAAAAAAAAAAAAAAAAAAAAAAAAAAAAAAAAAAAAAAAAAAAAAAAAAAAAAAAAAAAAAAAAAAAAAAAAAAAAAAAAAAAAAAAAAAAAAAAAAAAAAAAAAAAAAAAAAAAAAAAAAAAAAAAAAAAAAAAAAAAAAAAAAAAAAAAAAAAAAAAAAAAAAAAAAAAAAAAAAAAAAAAAAAAAAAAAAAAAAAAAAAAAAAAAAAAAAAAAAAAAAAAAAAAAAAAAAAAAAAAAAAAAAAAAAAAAAAAAAAAAAAAAAAAAAAAAAAAAAAAAAAAAAAAAAAAAAAAAAAAAAAAAAAAAAAAAAAAAAAAAAAAAAAAAAAAAAAAAAAAAAAAAAAAAAAAAAAAAAAAAAAAAAAAAAAAAAAAAAAAAAAAAAAAAAAAAAAAAAAAAAAAAAAAAAAAAAAAAAAAAAAAAAAAAAAAAAAAAAAAAAAAAAAAAAAAAAAAAAAAAAAAAAAAAAAAAAAAAAAAAAAAAAAAAAAAAAAAAAAAAAAAAAAAAAAAAAAAAAAAAAAAAAAAAAAAAAAAAAAAAAAAAAAAAAAAAAAAAAAAAAAAAAAAAAAAAAAAAAAAAAAAAAAAAAAAAAAAAAAAAAAAAAAAAAAAAAAAAAAAAAAAAAAAAAAAAAAAAAAAAAAAAAAAAAAAAAAAAAAAAAAAAAAAAAAAAAAAAAAAAAAAAAAAAAAAAAAAAAAAAAAAAAAAAAAAAAAAAAAAAAAAAAAAAAAAAAAAAAAAAAAAAAAAAAAAAAAAAAAAAAAAAAAAAAAAAAAAAAAAAAAAAAAAAAAAAAAAAAAAAAAAAAAAAAAAAAAAAAAAAAAAAAAAAAAAAAAAAAAAAAAAAAAAAAAAAAAAAAAAAAAAAAAAAAAAAAAAAAAAAAAAAAAAAAAAAAAAAAAAAAAAAAAAAAAAAAAAAAAAAAAAAAAAAAAAAAAAAAAAAAAAAAAAAAAAAAAAAAAAAAAAAAAAAAAAAAAAAAAAAAAAAAAAAAAAAAAAAAAAAAAAAAAAAAAAAAAAAAAAAAAAAAAAAAAAAAAAAAAAAAAAAAAAAAAAAAAAAAAAAAAAAAAAAAAAAAAAAAAAAAAAAAAAAAAAAAAAAAAAAAAAAAAAAAAAAAAAAAAAAAAAAAAAAAAAAAAAAAAAAAAAAAAAAAAAAAAAAAAAAAAAAAAAAAAAAAAAAAAAAAAAAAAAAAAAAAAAAAAAAAAAAAAAAAAAAAAAAAAAAAAAAAAAAAAAAAAAAAAAAAAAAAAAAAAAAAAAAAAAAAAAAAAAAAAAAAAAAAAAAAAAAAAAAAAAAAAAAAAAAAAAAAAAAAAAAAAAAAAAAAAAAAAAAAAAAAAAAAAAAAAAAAAAAAAAAAAAAAAAAAAAAAAAAAAAAAAAAAAAAAAAAAAAAAAAAAAAAAAAAAAAAAAAAAAAAAAAAAAAAAAAAAAAAAAAAAAAAAAAAAAAAAAAAAAAAAAAAAAAAAAAAAAAAAAAAAAAAAAAAAAAAAAAAAAAAAAAAAAAAAAAAAAAAAAAAAAAAAAAAAAAAAAAAAAAAAAAAAAAAAAAAAAAAAAAAAAAAAAAAAAAAAAAAAAAAAAAAAAAAAAAAAAAAAAAAAAAAAAAAAAAAAAAAAAAAAAAAAAAAAAAAAAAAAAAAAAAAAAAAAAAAAAAAAAAAAAAAAAAAAAAAAAAAAAAAAAAAAAAAAAAAAAAAAAAAAAAAAAAAAAAAAAAAAAAAAAAAAAAAAAAAAAAAAAAAAAAAAAAAAAAAAAAAAAAAAAAAAAAAAAAAAAAAAAAAAAAAAAAAAAAAAAAAAAAAAAAAAAAAAAAAAAAAAAAAAAAAAAAAAAAAAAAAAAAAAAAAAAAAAAAAAAAAAAAAAAAAAAAAAAAAAAAAAAAAAAAAAAAAAAAAAAAAAAAAAAAAAAAAAAAAAAAAAAAAAAAAAAAAAAAAAAAAAAAAAAAAAAAAAAAAAAAAAAAAAAAAAAAAAAAAAAAAAAAAAAAAAAAAAAAAAAAAAAAAAAAAAAAAAAAAAAAAAAAAAAAAAAAAAAAAAAAAAAAAAAAAAAAAAAAAAAAAAAAAAAAAAAAAAAAAAAAAAAAAAAAAAAAAAAAAAAAAAAAAAAAAAAAAAAAAAAAAAAAAAAAAAAAAAAAAAAAAAAAAAAAAAAAAAAAAAAAAAAAAAAAAAAAAAAAAAAAAAAAAAAAAAAAAAAAAAAAAAAAAAAAAAAAAAAAAAAAAAAAAAAAAAAAAAAAAAAAAAAAAAAAAAAAAAAAAAAAAAAAAAAAAAAAAAAAAAAAAAAAAAAAAAAAAAAAAAAAAAAAAAAAAAAAAAAAAAAAAAAAAAAAAAAAAAAAAAAAAAAAAAAAAAAAAAAAAAAAAAAAAAAAAAAAAAAAAAAAAAAAAAAAAAAAAAAAAAAAAAAAAAAAAAAAAAAAAAAAAAAAAAAAAAAAAAAAAAAAAAAAAAAAAAAAAAAAAAAAAAAAAAAAAAAAAAAAAAAAAAAAAAAAAAAAAAAAAAAAAAAAAAAAAAAAAAAAAAAAAAAAAAAAAAAAAAAAAAAAAAAAAAAAAAAAAAAAAAAAAAAAAAAAAAAAAAAAAAAAAAAAAAAAAAAAAAAAAAAAAAAAAAAAAAAAAAAAAAAAAAAAAAAAAAAAAAAAAAAAAAAAAAAAAAAAAAAAAAAAAAAAAAAAAAAAAAAAAAAAAAAAAAAAAAAAAAAAAAAAAAAAAAAAAAAAAAAAAAAAAAAAAAAAAAAAAAAAAAAAAAAAAAAAAAAAAAAAAAAAAAAAAAAAAAAAAAAAAAAAAAAAAAAAAAAAAAAAAAAAAAAAAAAAAAAAAAAAAAAAAAAAAAAAAAAAAAAAAAAAAAAAAAAAAAAAAAAAAAAAAAAAAAAAAAAAAAAAAAAAAAAAAAAAAAAAAAAAAAAAAAAAAAAAAAAAAAAAAAAAAAAAAAAAAAAAAAAAAAAAAAAAAAAAAAAAAAAAAAAAAAAAAAAAAAAAAAAAAAAAAAAAAAAAAAAAAAAAAAAAAAAAAAAAAAAAAAAAAAAAAAAAAAAAAAAAAAAAAAAAAAAAAAAAAAAAAAAAAAAAAAAAAAAAAAAAAAAAAAAAAAAAAAAAAAAAAAAAAAAAAAAAAAAAAAAAAAAAAAAAAAAAAAAAAAAAAAAAAAAAAAAAAAAAAAAAAAAAAAAAAAAAAAAAAAAAAAAAAAAAAAAAAAAAAAAAAAAAAAAAAAAAAAAAAAAAAAAAAAAAAAAAAAAAAAAAAAAAAAAAAAAAAAAAAAAAAAAAAAAAAAAAAAAAAAAAAAAAAAAAAAAAAAAAAAAAAAAAAAAAAAAAAAAAAAAAAAAAAAAAAAAAAAAAAAAAAAAAAAAAAAAAAAAAAAAAAAAAAAAAAAAAAAAAAAAAAAAAAAAAAAAAAAAAAAAAAAAAAAAAAAAAAAAAAAAAAAAAAAAAAAAAAAAAAAAAAAAAAAAAAAAAAAAAAAAAAAAAAAAAAAAAAAAAAAAAAAAAAAAAAAAAAAAAAAAAAAAAAAAAAAAAAAAAAAAAAAAAAAAAAAAAAAAAAAAAAAAAAAAAAAAAAAAAAAAAAAAAAAAAAAAAAAAAAAAAAAAAAAAAAAAAAAAAAAAAAAAAAAAAAAAAAAAAAAAAAAAAAAAAAAAAAAAAAAAAAAAAAAAAAAAAAAAAAAAAAAAAAAAAAAAAAAAAAAAAAAAAAAAAAAAAAAAAAAAAAAAAAAAAAAAAAAAAAAAAAAAAAAAAAAAAAAAAAAAAAAAAAAAAAAAAAAAAAAAAAAAAAAAAAAAAAAAAAAAAAAAAAAAAAAAAAAAAAAAAAAAAAAAAAAAAAAAAAAAAAAAAAAAAAAAAAAAAAAAAAAAAAAAAAAAAAAAAAAAAAAAAAAAAAAAAAAAAAAAAAAAAAAAAAAAAAAAAAAAAAAAAAAAAAAAAAAAAAAAAAAAAAAAAAAAAAAAAAAAAAAAAAAAAAAAAAAAAAAAAAAAAAAAAAAAAAAAAAAAAAAAAAAAAAAAAAAAAAAAAAAAAAAAAAAAAAAAAAAAAAAAAAAAAAAAAAAAAAAAAAAAAAAAAAAAAAAAAAAAAAAAAAAAAAAAAAAAAAAAAAAAAAAAAAAAAAAAAAAAAAAAAAAAAAAAAAAAAAAAAAAAAAAAAAAAAAAAAAAAAAAAAAAAAAAAAAAAAAAAAAAAAAAAAAAAAAAAAAAAAAAAAAAAAAAAAAAAAAAAAAAAAAAAAAAAAAAAAAAAAAAAAAAAAAAAAAAAAAAAAAAAAAAAAAAAAAAAAAAAAAAAAAAAAAAAAAAAAAAAAAAAAAAAAAAAAAAAAAAAAAAAAAAAAAAAAAAAAAAAAAAAAAAAAAAAAAAAAAAAAAAAAAAAAAAAAAAAAAAAAAAAAAAAAAAAAAAAAAAAAAAAAAAAAAAAAAAAAAAAAAAAAAAAAAAAAAAAAAAAAAAAAAAAAAAAAAAAAAAAAAAAAAAAAAAAAAAAAAAAAAAAAAAAAAAAAAAAAAAAAAAAAAAAAAAAAAAAAAAAAAAAAAAAAAAAAAAAAAAAAAAAAAAAAAAAAAAAAAAAAAAAAAAAAAAAAAAAAAAAAAAAAAAAAAAAAAAAAAAAAAAAAAAAAAAAAAAAAAAAAAAAAAAAAAAAAAAAAAAAAAAAAAAAAAAAAAAAAAAAAAAAAAAAAAAAAAAAAAAAAAAAAAAAAAAAAAAAAAAAAAAAAAAAAAAAAAAAAAAAAAAAAAAAAAAAAAAAAAAAAAAAAAAAAAAAAAAAAAAAAAAAAAAAAAAAAAAAAAAAAAAAAAAAAAAAAAAAAAAAAAAAAAAAAAAAAAAAAAAAAAAAAAAAAAAAAAAAAAAAAAAAAAAAAAAAAAAAAAAAAAAAAAAAAAAAAAAAAAAAAAAAAAAAAAAAAAAAAAAAAAAAAAAAAAAAAAAAAAAAAAAAAAAAAAAAAAAAAAAAAAAAAAAAAAAAAAAAAAAAAAAAAAAAAAAAAAAAAAAAAAAAAAAAAAAAAAAAAAAAAAAAAAAAAAAAAAAAAAAAAAAAAAAAAAAAAAAAAAAAAAAAAAAAAAAAAAAAAAAAAAAAAAAAAAAAAAAAAAAAAAAAAAAAAAAAAAAAAAAAAAAAAAAAAAAAAAAAAAAAAAAAAAAAAAAAAAAAAAAAAAAAAAAAAAAAAAAAAAAAAAAAAAAAAAAAAAAAAAAAAAAAAAAAAAAAAAAAAAAAAAAAAAAAAAAAAAAAAAAAAAAAAAAAAAAAAAAAAAAAAAAAAAAAAAAAAAAAAAAAAAAAAAAAAAAAAAAAAAAAAAAAAAAAAAAAAAAAAAAAAAAAAAAAAAAAAAAAAAAAAAAAAAAAAAAAAAAAAAAAAAAAAAAAAAAAAAAAAAAAAAAAAAAAAAAAAAAAAAAAAAAAAAAAAAAAAAAAAAAAAAAAAAAAAAAAAAAAAAAAAAAAAAAAAAAAAAAAAAAAAAAAAAAAAAAAAAAAAAAAAAAAAAAAAAAAAAAAAAAAAAAAAAAAAAAAAAAAAAAAAAAAAAAAAAAAAAAAAAAAAAAAAAAAAAAAAAAAAAAAAAAAAAAAAAAAAAAAAAAAAAAAAAAAAAAAAAAAAAAAAAAAAAAAAAAAAAAAAAAAAAAAAAAAAAAAAAAAAAAAAAAAAAAAAAAAAAAAAAAAAAAAAAAAAAAAAAAAAAAAAAAAAAAAAAAAAAAAAAAAAAAAAAAAAAAAAAAAAAAAAAAAAAAAAAAAAAAAAAAAAAAAAAAAAAAAAAAAAAAAAAAAAAAAAAAAAAAAAAAAAAAAAAAAAAAAAAAAAAAAAAAAAAAAAAAAAAAAAAAAAAAAAAAAAAAAAAAAAAAAAAAAAAAAAAAAAAAAAAAAAAAAAAAAAAAAAAAAAAAAAAAAAAAAAAAAAAAAAAAAAAAAAAAAAAAAAAAAAAAAAAAAAAAAAAAAAAAAAAAAAAAAAAAAAAAAAAAAAAAAAAAAAAAAAAAAAAAAAAAAAAAAAAAAAAAAAAAAAAAAAAAAAAAAAAAAAAAAAAAAAAAAAAAAAAAAAAAAAAAAAAAAAAAAAAAAAAAAAAAAAAAAAAAAAAAAAAAAAAAAAAAAAAAAAAAAAAAAAAAAAAAAAAAAAAAAAAAAAAAAAAAAAAAAAAAAAAAAAAAAAAAAAAAAAAAAAAAAAAAAAAAAAAAAAAAAAAAAAAAAAAAAAAAAAAAAAAAAAAAAAAAAAAAAAAAAAAAAAAAAAAAAAAAAAAAAAAAAAAAAAAAAAAAAAAAAAAAAAAAAAAAAAAAAAAAAAAAAAAAAAAAAAAAAAAAAAAAAAAAAAAAAAAAAAAAAAAAAAAAAAAAAAAAAAAAAAAAAAAAAAAAAAAAAAAAAAAAAAAAAAAAAAAAAAAAAAAAAAAAAAAAAAAAAAAAAAAAAAAAAAAAAAAAAAAAAAAAAAAAAAAAAAAAAAAAAAAAAAAAAAAAAAAAAAAAAAAAAAAAAAAAAAAAAAAAAAAAAAAAAAAAAAAAAAAAAAAAAAAAAAAAAAAAAAAAAAAAAAAAAAAAAAAAAAAAAAAAAAAAAAAAAAAAAAAAAAAAAAAAAAAAAAAAAAAAAAAAAAAAAAAAAAAAAAAAAAAAAAAAAAAAAAAAAAAAAAAAAAAAAAAAAAAAAAAAAAAAAAAAAAAAAAAAAAAAAAAAAAAAAAAAAAAAAAAAAAAAAAAAAAAAAAAAAAAAAAAAAAAAAAAAAAAAAAAAAAAAAAAAAAAAAAAAAAAAAAAAAAAAAAAAAAAAAAAAAAAAAAAAAAAAAAAAAAAAAAAAAAAAAAAAAAAAAAAAAAAAAAAAAAAAAAAAAAAAAAAAAAAAAAAAAAAAAAAAAAAAAAAAAAAAAAAAAAAAAAAAAAAAAAAAAAAAAAAAAAAAAAAAAAAAAAAAAAAAAAAAAAAAAAAAAAAAAAAAAAAAAAAAAAAAAAAAAAAAAAAAAAAAAAAAAAAAAAAAAAAAAAAAAAAAAAAAAAAAAAAAAAAAAAAAAAAAAAAAAAAAAAAAAAAAAAAAAAAAAAAAAAAAAAAAAAAAAAAAAAAAAAAAAAAAAAAAAAAAAAAAAAAAAAAAAAAAAAAAAAAAAAAAAAAAAAAAAAAAAAAAAAAAAAAAAAAAAAAAAAAAAAAAAAAAAAAAAAAAAAAAAAAAAAAAAAAAAAAAAAAAAAAAAAAAAAAAAAAAAAAAAAAAAAAAAAAAAAAAAAAAAAAAAAAAAAAAAAAAAAAAAAAAAAAAAAAAAAAAAAAAAAAAAAAAAAAAAAAAAAAAAAAAAAAAAAAAAAAAAAAAAAAAAAAAAAAAAAAAAAAAAAAAAAAAAAAAAAAAAAAAAAAAAAAAAAAAAAAAAAAAAAAAAAAAAAAAAAAAAAAAAAAAAAAAAAAAAAAAAAAAAAAAAAAAAAAAAAAAAAAAAAAAAAAAAAAAAAAAAAAAAAAAAAAAAAAAAAAAAAAAAAAAAAAAAAAAAAAAAAAAAAAAAAAAAAAAAAAAAAAAAAAAAAAAAAAAAAAAAAAAAAAAAAAAAAAAAAAAAAAAAAAAAAAAAAAAAAAAAAAAAAAAAAAAAAAAAAAAAAAAAAAAAAAAAAAAAAAAAAAAAAAAAAAAAAAAAAAAAAAAAAAAAAAAAAAAAAAAAAAAAAAAAAAAAAAAAAAAAAAAAAAAAAAAAAAAAAAAAAAAAAAAAAAAAAAAAAAAAAAAAAAAAAAAAAAAAAAAAAAAAAAAAAAAAAAAAAAAAAAAAAAAAAAAAAAAAAAAAAAAAAAAAAAAAAAAAAAAAAAAAAAAAAAAAAAAAAAAAAAAAAAAAAAAAAAAAAAAAAAAAAAAAAAAAAAAAAAAAAAAAAAAAAAAAAAAAAAAAAAAAAAAAAAAAAAAAAAAAAAAAAAAAAAAAAAAAAAAAAAAAAAAAAAAAAAAAAAAAAAAAAAAAAAAAAAAAAAAAAAAAAAAAAAAAAAAAAAAAAAAAAAAAAAAAAAAAAAAAAAAAAAAAAAAAAAAAAAAAAAAAAAAAAAAAAAAAAAAAAAAAAAAAAAAAAAAAAAAAAAAAAAAAAAAAAAAAAAAAAAAAAAAAAAAAAAAAAAAAAAAAAAAAAAAAAAAAAAAAAAAAAAAAAAAAAAAAAAAAAAAAAAAAAAAAAAAAAAAAAAAAAAAAAAAAAAAAAAAAAAAAAAAAAAAAAAAAAAAAAAAAAAAAAAAAAAAAAAAAAAAAAAAAAAAAAAAAAAAAAAAAAAAAAAAAAAAAAAAAAAAAAAAAAAAAAAAAAAAAAAAAAAAAAAAAAAAAAAAAAAAAAAAAAAAAAAAAAAAAAAAAAAAAAAAAAAAAAAAAAAAAAAAAAAAAAAAAAAAAAAAAAAAAAAAAAAAAAAAAAAAAAAAAAAAAAAAAAAAAAAAAAAAAAAAAAAAAAAAAAAAAAAAAAAAAAAAAAAAAAAAAAAAAAAAAAAAAAAAAAAAAAAAAAAAAAAAAAAAAAAAAAAAAAAAAAAAAAAAAAAAAAAAAAAAAAAAAAAAAAAAAAAAAAAAAAAAAAAAAAAAAAAAAAAAAAAAAAAAAAAAAAAAAAAAAAAAAAAAAAAAAAAAAAAAAAAAAAAAAAAAAAAAAAAAAAAAAAAAAAAAAAAAAAAAAAAAAAAAAAAAAAAAAAAAAAAAAAAAAAAAAAAAAAAAAAAAAAAAAAAAAAAAAAAAAAAAAAAAAAAAAAAAAAAAAAAAAAAAAAAAAAAAAAAAAAAAAAAAAAAAAAAAAAAAAAAAAAAAAAAAAAAAAAAAAAAAAAAAAAAAAAAAAAAAAAAAAAAAAAAAAAAAAAAAAAAAAAAAAAAAAAAAAAAAAAAAAAAAAAAAAAAAAAAAAAAAAAAAAAAAAAAAAAAAAAAAAAAAAAAAAAAAAAAAAAAAAAAAAAAAAAAAAAAAAAAAAAAAAAAAAAAAAAAAAAAAAAAAAAAAAAAAAAAAAAAAAAAAAAAAAAAAAAAAAAAAAAAAAAAAAAAAAAAAAAAAAAAAAAAAAAAAAAAAAAAAAAAAAAAAAAAAAAAAAAAAAAAAAAAAAAAAAAAAAAAAAAAAAAAAAAAAAAAAAAAAAAAAAAAAAAAAAAAAAAAAAAAAAAAAAAAAAAAAAAAAAAAAAAAAAAAAAAAAAAAAAAAAAAAAAAAAAAAAAAAAAAAAAAAAAAAAAAAAAAAAAAAAAAAAAAAAAAAAAAAAAAAAAAAAAAAAAAAAAAAAAAAAAAAAAAAAAAAAAAAAAAAAAAAAAAAAAAAAAAAAAAAAAAAAAAAAAAAAAAAAAAAAAAAAAAAAAAAAAAAAAAAAAAAAAAAAAAAAAAAAAAAAAAAAAAAAAAAAAAAAAAAAAAAAAAAAAAAAAAAAAAAAAAAAAAAAAAAAAAAAAAAAAAAAAAAAAAAAAAAAAAAAAAAAAAAAAAAAAAAAAAAAAAAAAAAAAAAAAAAAAAAAAAAAAAAAAAAAAAAAAAAAAAAAAAAAAAAAAAAAAAAAAAAAAAAAAAAAAAAAAAAAAAAAAAAAAAAAAAAAAAAAAAAAAAAAAAAAAAAAAAAAAAAAAAAAAAAAAAAAAAAAAAAAAAAAAAAAAAAAAAAAAAAAAAAAAAAAAAAAAAAAAAAAAAAAAAAAAAAAAAAAAAAAAAAAAAAAAAAAAAAAAAAAAAAAAAAAAAAAAAAAAAAAAAAAAAAAAAAAAAAAAAAAAAAAAAAAAAAAAAAAAAAAAAAAAAAAAAAAAAAAAAAAAAAAAAAAAAAAAAAAAAAAAAAAAAAAAAAAAAAAAAAAAAAAAAAAAAAAAAAAAAAAAAAAAAAAAAAAAAAAAAAAAAAAAAAAAAAAAAAAAAAAAAAAAAAAAAAAAAAAAAAAAAAAAAAAAAAAAAAAAAAAAAAAAAAAAAAAAAAAAAAAAAAAAAAAAAAAAAAAAAAAAAAAAAAAAAAAAAAAAAAAAAAAAAAAAAAAAAAAAAAAAAAAAAAAAAAAAAAAAAAAAAAAAAAAAAAAAAAAAAAAAAAAAAAAAAAAAAAAAAAAAAAAAAAAAAAAAAAAAAAAAAAAAAAAAAAAAAAAAAAAAAAAAAAAAAAAAAAAAAAAAAAAAAAAAAAAAAAAAAAAAAAAAAAAAAAAAAAAAAAAAAAAAAAAAAAAAAAAAAAAAAAAAAAAAAAAAAAAAAAAAAAAAAAAAAAAAAAAAAAAAAAAAAAAAAAAAAAAAAAAAAAAAAAAAAAAAAAAAAAAAAAAAAAAAAAAAAAAAAAAAAAAAAAAAAAAAAAAAAAAAAAAAAAAAAAAAAAAAAAAAAAAAAAAAAAAAAAAAAAAAAAAAAAAAAAAAAAAAAAAAAAAAAAAAAAAAAAAAAAAAAAAAAAAAAAAAAAAAAAAAAAAAAAAAAAAAAAAAAAAAAAAAAAAAAAAAAAAAAAAAAAAAAAAAAAAAAAAAAAAAAAAAAAAAAAAAAAAAAAAAAAAAAAAAAAAAAAAAAAAAAAAAAAAAAAAAAAAAAAAAAAAAAAAAAAAAAAAAAAAAAAAAAAAAAAAAAAAAAAAAAAAAAAAAAAAAAAAAAAAAAAAAAAAAAAAAAAAAAAAAAAAAAAAAAAAAAAAAAAAAAAAAAAAAAAAAAAAAAAAAAAAAAAAAAAAAAAAAAAAAAAAAAAAAAAAAAAAAAAAAAAAAAAAAAAAAAAAAAAAAAAAAAAAAAAAAAAAAAAAAAAAAAAAAAAAAAAAAAAAAAAAAAAAAAAAAAAAAAAAAAAAAAAAAAAAAAAAAAAAAAAAAAAAAAAAAAAAAAAAAAAAAAAAAAAAAAAAAAAAAAAAAAAAAAAAAAAAAAAAAAAAAAAAAAAAAAAAAAAAAAAAAAAAAAAAAAAAAAAAAAAAAAAAAAAAAAAAAAAAAAAAAAAAAAAAAAAAAAAAAAAAAAAAAAAAAAAAAAAAAAAAAAAAAAAAAAAAAAAAAAAAAAAAAAAAAAAAAAAAAAAAAAAAAAAAAAAAAAAAAAAAAAAAAAAAAAAAAAAAAAAAAAAAAAAAAAAAAAAAAAAAAAAAAAAAAAAAAAAAAAAAAAAAAAAAAAAAAAAAAAAAAAAAAAAAAAAAAAAAAAAAAAAAAAAAAAAAAAAAAAAAAAAAAAAAAAAAAAAAAAAAAAAAAAAAAAAAAAAAAAAAAAAAAAAAAAAAAAAAAAAAAAAAAAAAAAAAAAAAAAAAAAAAAAAAAAAAAAAAAAAAAAAAAAAAAAAAAAAAAAAAAAAAAAAAAAAAAAAAAAAAAAAAAAAAAAAAAAAAAAAAAAAAAAAAAAAAAAAAAAAAAAAAAAAAAAAAAAAAAAAAAAAAAAAAAAAAAAAAAAAAAAAAAAAAAAAAAAAAAAAAAAAAAAAAAAAAAAAAAAAAAAAAAAAAAAAAAAAAAAAAAAAAAAAAAAAAAAAAAAAAAAAAAAAAAAAAAAAAAAAAAAAAAAAAAAAAAAAAAAAAAAAAAAAAAAAAAAAAAAAAAAAAAAAAAAAAAAAAAAAAAAAAAAAAAAAAAAAAAAAAAAAAAAAAAAAAAAAAAAAAAAAAAAAAAAAAAAAAAAAAAAAAAAAAAAAAAAAAAAAAAAAAAAAAAAAAAAAAAAAAAAAAAAAAAAAAAAAAAAAAAAAAAAAAAAAAAAAAAAAAAAAAAAAAAAAAAAAAAAAAAAAAAAAAAAAAAAAAAAAAAAAAAAAAAAAAAAAAAAAAAAAAAAAAAAAAAAAAAAAAAAAAAAAAAAAAAAAAAAAAAAAAAAAAAAAAAAAAAAAAAAAAAAAAAAAAAAAAAAAAAAAAAAAAAAAAAAAAAAAAAAAAAAAAAAAAAAAAAAAAAAAAAAAAAAAAAAAAAAAAAAAAAAAAAAAAAAAAAAAAAAAAAAAAAAAAAAAAAAAAAAAAAAAAAAAAAAAAAAAAAAAAAAAAAAAAAAAAAAAAAAAAAAAAAAAAAAAAAAAAAAAAAAAAAAAAAAAAAAAAAAAAAAAAAAAAAAAAAAAAAAAAAAAAAAAAAAAAAAAAAAAAAAAAAAAAAAAAAAAAAAAAAAAAAAAAAAAAAAAAAAAAAAAAAAAAAAAAAAAAAAAAAAAAAAAAAAAAAAAAAAAAAAAAAAAAAAAAAAAAAAAAAAAAAAAAAAAAAAAAAAAAAAAAAAAAAAAAAAAAAAAAAAAAAAAAAAAAAAAAAAAAAAAAAAAAAAAAAAAAAAAAAAAAAAAAAAAAAAAAAAAAAAAAAAAAAAAAAAAAAAAAAAAAAAAAAAAAAAAAAAAAAAAAAAAAAAAAAAAAAAAAAAAAAAAAAAAAAAAAAAAAAAAAAAAAAAAAAAAAAAAAAAAAAAAAAAAAAAAAAAAAAAAAAAAAAAAAAAAAAAAAAAAAAAAAAAAAAAAAAAAAAAAAAAAAAAAAAAAAAAAAAAAAAAAAAAAAAAAAAAAAAAAAAAAAAAAAAAAAAAAAAAAAAAAAAAAAAAAAAAAAAAAAAAAAAAAAAAAAAAAAAAAAAAAAAAAAAAAAAAAAAAAAAAAAAAAAAAAAAAAAAAAAAAAAAAAAAAAAAAAAAAAAAAAAAAAAAAAAAAAAAAAAAAAAAAAAAAAAAAAAAAAAAAAAAAAAAAAAAAAAAAAAAAAAAAAAAAAAAAAAAAAAAAAAAAAAAAAAAAAAAAAAAAAAAAAAAAAAAAAAAAAAAAAAAAAAAAAAAAAAAAAAAAAAAAAAAAAAAAAAAAAAAAAAAAAAAAAAAAAAAAAAAAAAAAAAAAAAAAAAAAAAAAAAAAAAAAAAAAAAAAAAAAAAAAAAAAAAAAAAAAAAAAAAAAAAAAAAAAAAAAAAAAAAAAAAAAAAAAAAAAAAAAAAAAAAAAAAAAAAAAAAAAAAAAAAAAAAAAAAAAAAAAAAAAAAAAAAAAAAAAAAAAAAAAAAAAAAAAAAAAAAAAAAAAAAAAAAAAAAAAAAAAAAAAAAAAAAAAAAAAAAAAAAAAAAAAAAAAAAAAAAAAAAAAAAAAAAAAAAAAAAAAAAAAAAAAAAAAAAAAAAAAAAAAAAAAAAAAAAAAAAAAAAAAAAAAAAAAAAAAAAAAAAAAAAAAAAAAAAAAAAAAAAAAAAAAAAAAAAAAAAAAAAAAAAAAAAAAAAAAAAAAAAAAAAAAAAAAAAAAAAAAAAAAAAAAAAAAAAAAAAAAAAAAAAAAAAAAAAAAAAAAAAAAAAAAAAAAAAAAAAAAAAAAAAAAAAAAAAAAAAAAAAAAAAAAAAAAAAAAAAAAAAAAAAAAAAAAAAAAAAAAAAAAAAAAAAAAAAAAAAAAAAAAAAAAAAAAAAAAAAAAAAAAAAAAAAAAAAAAAAAAAAAAAAAAAAAAAAAAAAAAAAAAAAAAAAAAAAAAAAAAAAAAAAAAAAAAAAAAAAAAAAAAAAAAAAAAAAAAAAAAAAAAAAAAAAAAAAAAAAAAAAAAAAAAAAAAAAAAAAAAAAAAAAAAAAAAAAAAAAAAAAAAAAAAAAAAAAAAAAAAAAAAAAAAAAAAAAAAAAAAAAAAAAAAAAAAAAAAAAAAAAAAAAAAAAAAAAAAAAAAAAAAAAAAAAAAAAAAAAAAAAAAAAAAAAAAAAAAAAAAAAAAAAAAAAAAAAAAAAAAAAAAAAAAAAAAAAAAAAAAAAAAAAAAAAAAAAAAAAAAAAAAAAAAAAAAAAAAAAAAAAAAAAAAAAAAAAAAAAAAAAAAAAAAAAAAAAAAAAAAAAAAAAAAAAAAAAAAAAAAAAAAAAAAAAAAAAAAAAAAAAAAAAAAAAAAAAAAAAAAAAAAAAAAAAAAAAAAAAAAAAAAAAAAAAAAAAAAAAAAAAAAAAAAAAAAAAAAAAAAAAAAAAAAAAAAAAAAAAAAAAAAAAAAAAAAAAAAAAAAAAAAAAAAAAAAAAAAAAAAAAAAAAAAAAAAAAAAAAAAAAAAAAAAAAAAAAAAAAAAAAAAAAAAAAAAAAAAAAAAAAAAAAAAAAAAAAAAAAAAAAAAAAAAAAAAAAAAAAAAAAAAAAAAAAAAAAAAAAAAAAAAAAAAAAAAAAAAAAAAAAAAAAAAAAAAAAAAAAAAAAAAAAAAAAAAAAAAAAAAAAAAAAAAAAAAAAAAAAAAAAAAAAAAAAAAAAAAAAAAAAAAAAAAAAAAAAAAAAAAAAAAAAAAAAAAAAAAAAAAAAAAAAAAAAAAAAAAAAAAAAAAAAAAAAAAAAAAAAAAAAAAAAAAAAAAAAAAAAAAAAAAAAAAAAAAAAAAAAAAAAAAAAAAAAAAAAAAAAAAAAAAAAAAAAAAAAAAAAAAAAAAAAAAAAAAAAAAAAAAAAAAAAAAAAAAAAAAAAAAAAAAAAAAAAAAAAAAAAAAAAAAAAAAAAAAAAAAAAAAAAAAAAAAAAAAAAAAAAAAAAAAAAAAAAAAAAAAAAAAAAAAAAAAAAAAAAAAAAAAAAAAAAAAAAAAAAAAAAAAAAAAAAAAAAAAAAAAAAAAAAAAAAAAAAAAAAAAAAAAAAAAAAAAAAAAAAAAAAAAAAAAAAAAAAAAAAAAAAAAAAAAAAAAAAAAAAAAAAAAAAAAAAAAAAAAAAAAAAAAAAAAAAAAAAAAAAAAAAAAAAAAAAAAAAAAAAAAAAAAAAAAAAAAAAAAAAAAAAAAAAAAAAAAAAAAAAAAAAAAAAAAAAAAAAAAAAAAAAAAAAAAAAAAAAAAAAAAAAAAAAAAAAAAAAAAAAAAAAAAAAAAAAAAAAAAAAAAAAAAAAAAAAAAAAAAAAAAAAAAAAAAAAAAAAAAAAAAAAAAAAAAAAAAAAAAAAAAAAAAAAAAAAAAAAAAAAAAAAAAAAAAAAAAAAAAAAAAAAAAAAAAAAAAAAAAAAAAAAAAAAAAAAAAAAAAAAAAAAAAAAAAAAAAAAAAAAAAAAAAAAAAAAAAAAAAAAAAAAAAAAAAAAAAAAAAAAAAAAAAAAAAAAAAAAAAAAAAAAAAAAAAAAAAAAAAAAAAAAAAAAAAAAAAAAAAAAAAAAAAAAAAAAAAAAAAAAAAAAAAAAAAAAAAAAAAAAAAAAAAAAAAAAAAAAAAAAAAAAAAAAAAAAAAAAAAAAAAAAAAAAAAAAAAAAAAAAAAAAAAAAAAAAAAAAAAAAAAAAAAAAAAAAAAAAAAAAAAAAAAAAAAAAAAAAAAAAAAAAAAAAAAAAAAAAAAAAAAAAAAAAAAAAAAAAAAAAAAAAAAAAAAAAAAAAAAAAAAAAAAAAAAAAAAAAAAAAAAAAAAAAAAAAAAAAAAAAAAAAAAAAAAAAAAAAAAAAAAAAAAAAAAAAAAAAAAAAAAAAAAAAAAAAAAAAAAAAAAAAAAAAAAAAAAAAAAAAAAAAAAAAAAAAAAAAAAAAAAAAAAAAAAAAAAAAAAAAAAAAAAAAAAAAAAAAAAAAAAAAAAAAAAAAAAAAAAAAAAAAAAAAAAAAAAAAAAAAAAAAAAAAAAAAAAAAAAAAAAAAAAAAAAAAAAAAAAAAAAAAAAAAAAAAAAAAAAAAAAAAAAAAAAAAAAAAAAAAAAAAAAAAAAAAAAAAAAAAAAAAAAAAAAAAAAAAAAAAAAAAAAAAAAAAAAAAAAAAAAAAAAAAAAAAAAAAAAAAAAAAAAAAAAAAAAAAAAAAAAAAAAAAAAAAAAAAAAAAAAAAAAAAAAAAAAAAAAAAAAAAAAAAAAAAAAAAAAAAAAAAAAAAAAAAAAAAAAAAAAAAAAAAAAAAAAAAAAAAAAAAAAAAAAAAAAAAAAAAAAAAAAAAAAAAAAAAAAAAAAAAAAAAAAAAAAAAAAAAAAAAAAAAAAAAAAAAAAAAAAAAAAAAAAAAAAAAAAAAAAAAAAAAAAAAAAAAAAAAAAAAAAAAAAAAAAAAAAAAAAAAAAAAAAAAAAAAAAAAAAAAAAAAAAAAAAAAAAAAAAAAAAAAAAAAAAAAAAAAAAAAAAAAAAAAAAAAAAAAAAAAAAAAAAAAAAAAAAAAAAAAAAAAAAAAAAAAAAAAAAAAAAAAAAAAAAAAAAAAAAAAAAAAAAAAAAAAAAAAAAAAAAAAAAAAAAAAAAAAAAAAAAAAAAAAAAAAAAAAAAAAAAAAAAAAAAAAAAAAAAAAAAAAAAAAAAAAAAAAAAAAAAAAAAAAAAAAAAAAAAAAAAAAAAAAAAAAAAAAAAAAAAAAAAAAAAAAAAAAAAAAAAAAAAAAAAAAAAAAAAAAAAAAAAAAAAAAAAAAAAAAAAAAAAAAAAAAAAAAAAAAAAAAAAAAAAAAAAAAAAAAAAAAAAAAAAAAAAAAAAAAAAAAAAAAAAAAAAAAAAAAAAAAAAAAAAAAAAAAAAAAAAAAAAAAAAAAAAAAAAAAAAAAAAAAAAAAAAAAAAAAAAAAAAAAAAAAAAAAAAAAAAAAAAAAAAAAAAAAAAAAAAAAAAAAAAAAAAAAAAAAAAAAAAAAAAAAAAAAAAAAAAAAAAAAAAAAAAAAAAAAAAAAAAAAAAAAAAAAAAAAAAAAAAAAAAAAAAAAAAAAAAAAAAAAAAAAAAAAAAAAAAAAAAAAAAAAAAAAAAAAAAAAAAAAAAAAAAAAAAAAAAAAAAAAAAAAAAAAAAAAAAAAAAAAAAAAAAAAAAAAAAAAAAAAAAAAAAAAAAAAAAAAAAAAAAAAAAAAAAAAAAAAAAAAAAAAAAAAAAAAAAAAAAAAAAAAAAAAAAAAAAAAAAAAAAAAAAAAAAAAAAAAAAAAAAAAAAAAAAAAAAAAAAAAAAAAAAAAAAAAAAAAAAAAAAAAAAAAAAAAAAAAAAAAAAAAAAAAAAAAAAAAAAAAAAAAAAAAAAAAAAAAAAAAAAAAAAAAAAAAAAAAAAAAAAAAAAAAAAAAAAAAAAAAAAAAAAAAAAAAAAAAAAAAAAAAAAAAAAAAAAAAAAAAAAAAAAAAAAAAAAAAAAAAAAAAAAAAAAAAAAAAAAAAAAAAAAAAAAAAAAAAAAAAAAAAAAAAAAAAAAAAAAAAAAAAAAAAAAAAAAAAAAAAAAAAAAAAAAAAAAAAAAAAAAAAAAAAAAAAAAAAAAAAAAAAAAAAAAAAAAAAAAAAAAAAAAAAAAAAAAAAAAAAAAAAAAAAAAAAAAAAAAAAAAAAAAAAAAAAAAAAAAAAAAAAAAAAAAAAAAAAAAAAAAAAAAAAAAAAAAAAAAAAAAAAAAAAAAAAAAAAAAAAAAAAAAAAAAAAAAAAAAAAAAAAAAAAAAAAAAAAAAAAAAAAAAAAAAAAAAAAAAAAAAAAAAAAAAAAAAAAAAAAAAAAAAAAAAAAAAAAAAAAAAAAAAAAAAAAAAAAAAAAAAAAAAAAAAAAAAAAAAAAAAAAAAAAAAAAAAAAAAAAAAAAAAAAAAAAAAAAAAAAAAAAAAAAAAAAAAAAAAAAAAAAAAAAAAAAAAAAAAAAAAAAAAAAAAAAAAAAAAAAAAAAAAAAAAAAAAAAAAAAAAAAAAAAAAAAAAAAAAAAAAAAAAAAAAAAAAAAAAAAAAAAAAAAAAAAAAAAAAAAAAAAAAAAAAAAAAAAAAAAAAAAAAAAAAAAAAAAAAAAAAAAAAAAAAAAAAAAAAAAAAAAAAAAAAAAAAAAAAAAAAAAAAAAAAAAAAAAAAAAAAAAAAAAAAAAAAAAAAAAAAAAAAAAAAAAAAAAAAAAAAAAAAAAAAAAAAAAAAAAAAAAAAAAAAAAAAAAAAAAAAAAAAAAAAAAAAAAAAAAAAAAAAAAAAAAAAAAAAAAAAAAAAAAAAAAAAAAAAAAAAAAAAAAAAAAAAAAAAAAAAAAAAAAAAAAAAAAAAAAAAAAAAAAAAAAAAAAAAAAAAAAAAAAAAAAAAAAAAAAAAAAAAAAAAAAAAAAAAAAAAAAAAAAAAAAAAAAAAAAAAAAAAAAAAAAAAAAAAAAAAAAAAAAAAAAAAAAAAAAAAAAAAAAAAAAAAAAAAAAAAAAAAAAAAAAAAAAAAAAAAAAAAAAAAAAAAAAAAAAAAAAAAAAAAAAAAAAAAAAAAAAAAAAAAAAAAAAAAAAAAAAAAAAAAAAAAAAAAAAAAAAAAAAAAAAAAAAAAAAAAAAAAAAAAAAAAAAAAAAAAAAAAAAAAAAAAAAAAAAAAAAAAAAAAAAAAAAAAAAAAAAAAAAAAAAAAAAAAAAAAAAAAAAAAAAAAAAAAAAAAAAAAAAAAAAAAAAAAAAAAAAAAAAAAAAAAAAAAAAAAAAAAAAAAAAAAAAAAAAAAAAAAAAAAAAAAAAAAAAAAAAAAAAAAAAAAAAAAAAAAAAAAAAAAAAAAAAAAAAAAAAAAAAAAAAAAAAAAAAAAAAAAAAAAAAAAAAAAAAAAAAAAAAAAAAAAAAAAAAAAAAAAAAAAAAAAAAAAAAAAAAAAAAAAAAAAAAAAAAAAAAAAAAAAAAAAAAAAAAAAAAAAAAAAAAAAAAAAAAAAAAAAAAAAAAAAAAAAAAAAAAAAAAAAAAAAAAAAAAAAAAAAAAAAAAAAAAAAAAAAAAAAAAAAAAAAAAAAAAAAAAAAAAAAAAAAAAAAAAAAAAAAAAAAAAAAAAAAAAAAAAAAAAAAAAAAAAAAAAAAAAAAAAAAAAAAAAAAAAAAAAAAAAAAAAAAAAAAAAAAAAAAAAAAAAAAAAAAAAAAAAAAAAAAAAAAAAAAAAAAAAAAAAAAAAAAAAAAAAAAAAAAAAAAAAAAAAAAAAAAAAAAAAAAAAAAAAAAAAAAAAAAAAAAAAAAAAAAAAAAAAAAAAAAAAAAAAAAAAAAAAAAAAAAAAAAAAAAAAAAAAAAAAAAAAAAAAAAAAAAAAAAAAAAAAAAAAAAAAAAAAAAAAAAAAAAAAAAAAAAAAAAAAAAAAAAAAAAAAAAAAAAAAAAAAAAAAAAAAAAAAAAAAAAAAAAAAAAAAAAAAAAAAAAAAAAAAAAAAAAAAAAAAAAAAAAAAAAAAAAAAAAAAAAAAAAAAAAAAAAAAAAAAAAAAAAAAAAAAAAAAAAAAAAAAAAAAAAAAAAAAAAAAAAAAAAAAAAAAAAAAAAAAAAAAAAAAAAAAAAAAAAAAAAAAAAAAAAAAAAAAAAAAAAAAAAAAAAAAAAAAAAAAAAAAAAAAAAAAAAAAAAAAAAAAAAAAAAAAAAAAAAAAAAAAAAAAAAAAAAAAAAAAAAAAAAAAAAAAAAAAAAAAAAAAAAAAAAAAAAAAAAAAAAAAAAAAAAAAAAAAAAAAAAAAAAAAAAAAAAAAAAAAAAAAAAAAAAAAAAAAAAAAAAAAAAAAAAAAAAAAAAAAAAAAAAAAAAAAAAAAAAAAAAAAAAAAAAAAAAAAAAAAAAAAAAAAAAAAAAAAAAAAAAAAAAAAAAAAAAAAAAAAAAAAAAAAAAAAAAAAAAAAAAAAAAAAAAAAAAAAAAAAAAAAAAAAAAAAAAAAAAAAAAAAAAAAAAAAAAAAAAAAAAAAAAAAAAAAAAAAAAAAAAAAAAAAAAAAAAAAAAAAAAAAAAAAAAAAAAAAAAAAAAAAAAAAAAAAAAAAAAAAAAAAAAAAAAAAAAAAAAAAAAAAAAAAAAAAAAAAAAAAAAAAAAAAAAAAAAAAAAAAAAAAAAAAAAAAAAAAAAAAAAAAAAAAAAAAAAAAAAAAAAAAAAAAAAAAAAAAAAAAAAAAAAAAAAAAAAAAAAAAAAAAAAAAAAAAAAAAAAAAAAAAAAAAAAAAAAAAAAAAAAAAAAAAAAAAAAAAAAAAAAAAAAAAAAAAAAAAAAAAAAAAAAAAAAAAAAAAAAAAAAAAAAAAAAAAAAAAAAAAAAAAAAAAAAAAAAAAAAAAAAAAAAAAAAAAAAAAAAAAAAAAAAAAAAAAAAAAAAAAAAAAAAAAAAAAAAAAAAAAAAAAAAAAAAAAAAAAAAAAAAAAAAAAAAAAAAAAAAAAAAAAAAAAAAAAAAAAAAAAAAAAAAAAAAAAAAAAAAAAAAAAAAAAAAAAAAAAAAAAAAAAAAAAAAAAAAAAAAAAAAAAAAAAAAAAAAAAAAAAAAAAAAAAAAAAAAAAAAAAAAAAAAAAAAAAAAAAAAAAAAAAAAAAAAAAAAAAAAAAAAAAAAAAAAAAAAAAAAAAAAAAAAAAAAAAAAAAAAAAAAAAAAAAAAAAAAAAAAAAAAAAAAAAAAAAAAAAAAAAAAAAAAAAAAAAAAAAAAAAAAAAAAAAAAAAAAAAAAAAAAAAAAAAAAAAAAAAAAAAAAAAAAAAAAAAAAAAAAAAAAAAAAAAAAAAAAAAAAAAAAAAAAAAAAAAAAAAAAAAAAAAAAAAAAAAAAAAAAAAAAAAAAAAAAAAAAAAAAAAAAAAAAAAAAAAAAAAAAAAAAAAAAAAAAAADhDbHycvtT1JS65XsGIjbOJzzXnNfdB/z3/Kfcp53nMebKlip1dDS689Ii/XHwsQAAD17yrg4NBUwsK0X6hfneyTLoxEhkaCQ4BDgEiCSIYzjPKTZZ1mqMi0WsLl0C7g9+8AAAkQ0R8ZL6M9M0uUV5NiBGzBc6p5qH2rf6p/pn2mebxz/muNYo1XLUudPRQvzh8HEAAA+e8z4O7QZsLYtHmoe50MlFCMaIZqgmiAaYBsgmuGVYwRlIKdf6jetGzC89A34PzvAAAEEMgfDC+RPR1Le1d2YuVrn3OHeYR9hn+Ff4F9g3mac99rcGJ0VxdLiz0GL8QfAhAAAP7vPOD70HjC7rSSqJidK5RyjIuGj4KNgI6AkYKPhneMMZSenZmo9LR+wgDRQOAA8AAAABC/H/4ufz0IS2FXWmLFa31zY3lffWF/YH9dfWB5eXPAa1NiW1cBS3k9+S67H/0PAAAD8EbgCdGKwgO1rKi1nUuUk4yuhrOCsoCzgLWCsoaYjFCUu52yqAq1kMIO0UrgBfAAAPsPth/wLm098kpIVz1ipmtcc0B5O308fzt/OH08eVdzoGs3YkFX60pnPesush/5DwAAB/BP4BfRnMIZtcWo0Z1qlLWM0obYgteA2IDagtWGuoxvlNedzKggtaLCHNFT4ArwAAD2D6wf4y5bPdxKLlchYodrOnMdeRZ9F38WfxR9GXk2c4FrGmIoV9VKVT3dLqkf9A8AAAzwWOAk0a7CL7XeqO6diZTWjPWG/IL8gP2A/oL4htuMj5T0neWoNbW0winRXOAO8AAA8g+jH9UuST3GShVXBGJnaxlz+njyfPJ+8X7wfPZ4FHNia/5hDlfASkM90C6fH/APAAAR8GHgMtHAwkW1+KgKnqiU+IwYhyCDIYEigSODHIf9jK6UEJ7+qEu1xsI30WXgE/AAAO0Pmh/HLjg9sEr8VuhhSGv3ctZ4zXzNfsx+y3zTePNyQmvhYfVWqkoxPcIulh/rDwAAFfBr4D/R0cJatRGpJ57IlBmNO4dFg0aBR4FHgz+HHo3NlC2eGKlhtdfCRdFu4BfwAADoD5Efui4mPZtK4lbLYSlr1nKzeKl8qH6nfqd8sHjRciNrxWHcVpRKID21Lo0f5g8AABrwdOBN0ePCcLUqqUOe55Q7jV6HaYNrgWuBa4Nihz+N7JRJnjGpd7XpwlLReOAc8AAA5A+IH6wuFD2FSslWr2EKa7RykHiFfIN+gn6DfI14sHIEa6hhw1Z/Sg49py6EH+IPAAAf8H3gW9H1woa1RKlgngaVXI2Bh42Dj4GQgY+DhYdhjQuVZp5KqYy1+8Jg0YHgIfAAAN8Pfx+fLgI9b0qwVpJh62qTcm14YXxefl1+X3xqeI5y5WqMYalWaUr8PJkuex/dDwAAI/CG4GjRB8ObtV2pfJ4llX6NpIexg7SBtYG0g6iHgo0rlYKeY6mitQ3DbdGK4CXwAADbD3UfkS7wPFpKl1Z2YctqcnJKeD18OX45fjp8R3htcsZqcGGQVlNK6jyMLnIf2A8AACjwj+B20RjDsbV2qZieRJWfjceH1oPZgdqB2IPLh6ONSpWfnnypuLUew3vRk+Aq8AAA1g9sH4Mu3zxESn1WWmGsalFyJ3gYfBV+FH4WfCR4THKnalNhd1Y+Stk8fi5oH9QPAAAs8Jjgg9Eqw8e1j6m1nmOVwI3qh/qD/oH+gfyD7ofFjWmVu56Wqc21MMOI0ZzgLvAAANEPYx92Ls08L0pkVj1hjWovcgR49Hvwfe998nsBeCtyiGo3YV5WKErHPHEuXx/PDwAAMfCh4JHRPMPctaip0Z6CleGNDYgehCKCI4IghBGI5o2Ildeer6njtULDltGl4DPwAADND1ofaC67PBlKS1YhYW5qDnLhd9B7y33Lfc573ncJcmlqG2FFVhJKtTxjLlYfyw8AADbwq+Ce0U3D8rXBqe2eoZUCjjCIQoRHgkiCRIQ0iAeOp5Xznsip+LVTw6PRruA48AAAyA9RH1suqjwDSjJWBWFQau1xvnese6d9pn2qe7t36HFKav9gLFb9SaQ8Vi5NH8YPAAA68LTgrNFfwwe22qkJn8CVJI5TiGaEa4JsgmiEV4gojsaVEJ/hqQ62ZcOx0bjgPPAAAMQPSB9NLpg87kkZVulgMWrMcZx3iHuCfYJ9hnuYd8dxK2riYBNW50mSPEguRB/BDwAAP/C94LnRccMdtvOpJp/flUWOdoiKhJCCkYKMhHmISY7klSyf+qkjtnfDvtHB4EHwAAC/Dz8fQC6GPNhJAFbMYBJqq3F5d2R7Xn1dfWJ7dXemcQxqxmD6VdJJgDw7LjsfvQ8AAEPwxuDH0YLDMrYMqkKf/pVmjpmIroS0grWCsISciGqOA5ZInxOqObaIw8zRyuBF8AAAug82HzMudTzDSedVsGDzaYpxVndBezl9OX0+e1N3hXHtaapg4VW8SW88LS4yH7gPAABI8M/g1NGUw0i2Japenx2Wh467iNGE2YLagtSEv4iLjiKWZJ8sqk62msPZ0dPgSvAAALYPLB8lLmM8rUnOVZRg1GlpcTN3HXsVfRR9G3swd2Rxz2mOYMhVp0ldPCAuKR+0DwAATPDY4OLRpcNdtj6qep87lqiO3oj1hP2C/oL3hOGIrI5BloCfRapktqvD59Hc4E/wAACxDyMfGC5SPJhJtVV4YLVpSHERd/l68XzwfPd6DXdDcbBpcmCvVZJJTDwTLiAfrw8AAFHw4eDv0bfDc7ZXqpafWpbJjgGJGYUigyKDG4UEic2OYJacn16qeba9w/TR5eBT8AAArQ8aHwouQDyDSZxVXGCXaSdx7nbVesx8zHzTeut2InGRaVZgllV8STo8BS4XH6sPAABW8Org/NHJw4i2cKqyn3mW6o4jiT2FRoNHgz+FJ4nujn6WuJ93qo62z8MB0u7gWPAAAKgPER/9LS88bUmDVUBgeGkGccx2sXqofKd8r3rIdgFxcmk6YH1VZ0kpPPgtDh+mDwAAWvDz4ArS2sOdtomqzp+XlguPRolghWqDa4NjhUmJD4+dltSfkKqktuDDD9L34FzwAACkDwgf8C0dPFhJalUkYFlp5XCpdo56hHyDfIx6pnbgcFRpHmBkVVJJFzzqLQQfoQ8AAF/w/OAX0uzDs7aiquqftpYrj2iJhIWOg4+DhoVsiTCPvJbwn6iqubbywxzSAOFh8AAAnw//HuItDDxDSVJVCGA7acRwhnZqemB8X3xoeoN2wHA1aQJgS1U8SQY83S37Hp0PAABj8AXhJNL9w8i2u6oGoNWWTI+LiaiFs4Ozg6qFjolRj9qWDKDBqs62A8Qq0gnhZfAAAJoP9h7VLfo7LUk5VexfHGmjcGR2R3o7fDt8RHphdp9wFmnmXzJVJ0n0O9At8h6YDwAAaPAO4TLSDsTdttSqIqDzlm2PrYnLhdeD14PNhbGJco/5liig2qrkthTEN9IS4WrwAACWD+0eyC3pOxhJIFXQX/1og3BCdiN6F3wXfCF6PnZ+cPhoyl8aVRJJ4zvCLekelA8AAGzwF+E/0iDE87bsqj6gEpeOj9CJ74X7g/uD8YXTiZKPF5dEoPOq+bYmxETSG+Fu8AAAkQ/kHrot1zsDSQdVtF/faGJwH3YAevN783v9eRx2XXDZaK5fAVX8SNE7tS3gHo8PAABx8CDhTNIxxAi3BataoDCXro/yiRKGH4QghBSG9YmzjzaXYKAMqw63N8RR0iThc/AAAI0P2x6tLcY77kjvVJlfwGhBcP113HnPe8572nn5dT1wu2iSX+hU50jAO6gt2B6LDwAAdfAp4VrSQ8Qdtx6rdaBPl8+PFIo2hkOERIQ4hhiK1I9Ul3ygJKsjt0nEX9It4XfwAACID9IeoC21O9hI1lR9X6JoIXDbdbl5q3uqe7Z513UccJxod1/PVNJIrzubLc8ehg8AAHrwMuFn0lTEMrc2q5GgbZfwjzeKWYZnhGiEW4Y6ivSPc5eXoD2rObdaxGzSNuF88AAAhA/JHpItozvDSL1UYV+EaABwuHWVeYd7h3uTebV1+29+aFtft1S9SJ07jS3GHoIPAAB+8DvhdNJlxEe3T6utoIyXEJBZinyGi4SLhH+GXIoVkJGXs6BWq063a8R50j/hgPAAAH8PwB6FLZI7rkilVEVfZWjfb5Z1cnlje2N7cHmTddtvYGg/X55UqEiMO4AtvR59DwAAg/BE4YHSd8Rdt2iryaCqlzGQe4qghq+Er4Sihn6KNZCwl8+gbqtjt33Eh9JI4YXwAAB7D7ceeC2BO5lIjFQqX0dov290dU95P3s/e0x5cHW6b0FoI1+GVJNIeztzLbQeeQ8AAIfwTeGP0ojEcreAq+SgyJdRkJ2Kw4bShNOExYahilaQzpfqoIereLeOxJTSUeGK8AAAdg+vHmstbzuESHNUDl8oaJ5vUnUreRx7G3speU51mm8jaAhfbVR9SGk7Zi2rHnQPAACM8FbhnNKZxIe3masAoeeXcpC/iuaG9oT3hOiGw4p2kOyXBqGfq423n8Sh0lrhjvAAAHIPph5dLV47b0hbVPJeCmh+bzB1CHn4evd6BnksdXlvBWjsXlRUaEhYO1gtoh5wDwAAkPBf4anSq8Sct7GrHKEFmJKQ4YoKhxqFG4UMh+WKl5AKmCKhuKuit7DErtJj4ZLwAABtD50eUC1NO1pIQlTXXuxnXm8OdeV41HrTeuN4CnVZb+Zn0V48VFNIRztLLZkeaw8AAJXwaOG20rzEsbfKqzehI5izkAOLLYc+hT+FL4cHi7eQKZg9odCrt7fCxLvSbOGX8AAAaQ+UHkMtPDtFSCpUu17OZz1v7HTCeLB6sHrAeOh0OW/IZ7VeI1Q+SDY7Pi2QHmcPAACZ8HHhw9LNxMa34qtToUGY05Ali1CHYYVihVKHKYvXkEeYWaHpq8y308TI0nThm/AAAGQPix42LSo7MEgRVJ9esGcdb8p0n3iNeox6nHjGdBhvqmeZXgtUKUgkOzEthx5iDwAAnvB64dHS3sTbt/urbqFgmPOQR4tzh4WFhoV1h0uL+JBlmHShAazht+TE1tJ94aDwAABgD4IeKS0ZOxtI+VOEXpFn/W6odHx4aXpoenl4pHT4boxnfl7zUxRIEzskLX4eXg8AAKLwguHe0vDE8LcTrIqhfpgUkWmLloephamFmIdtixiRg5iQoRqs9rf1xOPShuGk8AAAWw95HhwtCDsGSOBTaV5zZ9xuhnRZeEV6RXpWeIJ02G5uZ2Je2lP/RwI7Fy11HlkPAACn8Ivh69IBxQW4LKyloZyYNJGLi7mHzIXNhbuHj4s4kaGYq6EyrAu4B8Xw0o/hqfAAAFcPcB4PLfc68UfIU01eVWe8bmR0NngieiF6M3hgdLhuUGdHXsJT6kfxOgotbR5VDwAAq/CU4fjSEsUauESswaG6mFSRrYvch/CF8YXeh7GLWZG/mMehSqwguBjF/dKY4a3wAABSD2ceAS3mOtxHsFMyXjdnnG5CdBN4/nn+eRB4P3SXbjJnLF6pU9ZH4Dr8LGQeUA8AALDwneEF0yPFL7hcrNyh2Jh0kc+L/4cThhSGAYjSi3mR3ZjioWOsNbgpxQrToeGy8AAATg9fHvQs1DrHR5dTFl4ZZ3xuIHTwd9t52nnudx10d24UZxBekVPBR8867yxbHkwPAAC08KbhEtM0xUS4daz3ofaYlJHxiyKIN4Y4hiSI9IuZkfuY/aF7rEq4OsUX06rhtvAAAEoPVh7nLMM6skd/U/td+2Zcbv5zzXe3ebd5y3f7c1du9mb1XXlTrEe+OuIsUh5IDwAAufCv4R/TRcVYuI2sE6IUmbSRE4xFiFqGW4ZHiBaMuZEZmRmik6xfuEvFJNOy4bvwAABFD00e2iyyOp1HZ1PgXd1mO27dc6p3lHmTeah32XM3bthm2l1gU5dHrDrVLEkeQw8AAL3wt+Es01bFbbilrC6iMpnVkTSMZ4h+hn6Gaog4jNmRN5k0oqysc7hcxTHTu+G/8AAAQQ9EHs0soTqIR09TxF2/Zhtuu3OHd3F5cHmFd7hzF266Zr5dSFOCR5s6yCxAHj8PAADC8MDhOdNnxYK4vqxJolCZ9ZFWjIqIoYaihoyIWYz5kVWZT6LErIi4bcU+08ThxPAAADwPOx7ALJA6dEc2U6ldoWb7bZlzZHdNeU15YneWc/dtnGajXTBTbUeKOrssOB46DwAAxvDJ4UbTeMWXuNasZaJtmRWSeIytiMSGxYaviHuMGZJzmWui3KyduH7FS9PN4cjwAAA4DzMesyx/Ol9HHlOOXYRm2214c0J3KnkpeUB3dHPXbX5miF0YU1lHeTquLC8eNg8AAMrw0uFT04nFrLjurICii5k1kpmM0IjnhuiG0oicjDmSkZmGovSssriPxVjT1uHM8AAAMw8qHqYsbjpKRwZTc11mZrxtVnMfdwd5Bnkdd1Nzt21gZm1dAFNER2g6oSwmHjEPAADP8NvhYNOaxcC4Bq2boqmZVJK7jPKIC4cLh/SIvoxZkq6ZoaIMrce4oMVl097h0fAAAC8PIR6ZLF06NUfuUlddSGacbTVz/HbkeON4+nYxc5dtQ2ZRXehSL0dXOpQsHR4tDwAA0/Dj4W3Tq8XVuB6ttqLHmXSS3IwViS6HL4cXieCMeZLMmbyiJa3buLHFctPn4dXwAAArDxgejCxMOiFH1lI8XSpmfG0Tc9p2wXjAeNh2EHN3bSVmNl3PUhpHRjqHLBUeKQ8AANjw7OF607zF6rg2rdGi5ZmUkv6MN4lRh1KHOokBjZmS6pnXoj2t8LjCxX/T8OHa8AAAJg8PHn8sOzoMR75SIV0NZlxt8nK3dp54nXi1du5yV20HZhtdt1IGRzU6eiwMHiQPAADc8PXhh9PNxf64Tq3sogKatJIfjVqJdId1h1yJIo24kgia8qJVrQW508WM0/nh3vAAACIPBx5yLCo690amUgZd72U8bdBylXZ6eHp4k3bNcjht6mUAXZ9S8UYlOm0sAx4gDwAA4PD+4ZTT3sUTuWatB6MgmtSSQI19iZeHmId/iUSN2JIlmg2jba0ZueTFmdMB4uLwAAAdD/4dZSwZOuNGjlLrXNFlHG2vcnJ2V3hXeHB2q3IYbcxl5VyHUtxGFDpgLPodGw8AAOXwBuKh0+/FKLl+rSKjPpr0kmKNn4m6h7uHoYlljfiSQ5ooo4WtLrn1xabTCuLn8AAAGQ/1HVgsCDrORnZS0Fy0Zf1sjXJQdjR4NHhOdopy+GyuZcpcb1LIRgM6VCzyHRcPAADp8A/irtMAxjy5lq09o1uaE5ODjcGJ3Yfeh8OJh40Yk2CaQ6OdrUK5Bsaz0xPi6/AAABUP7R1MLPg5uUZeUrVclmXdbGxyLXYReBF4K3ZpctlskWWvXFdSs0byOUcs6R0TDwAA7vAY4rvTEcZRua6tWKN5mjOTpI3kiQCIAYjmiaiNN5N+ml6jta1XuRfGwNMb4vDwAAAQD+QdPyznOaVGRlKaXHllvWxLcgt273fudwl2SHK5bHNllFw/Up9G4Tk6LOAdDg8AAPLwIOLI0yLGZbnGrXOjlppTk8aNBoojiCSICIrJjVeTm5p5o82tbLknxs3TJOL08AAADA/bHTIs1jmQRi5Sf1xbZZ5sKnLpdcx3y3fndSZymWxWZXlcJ1KKRtA5LSzYHQoPAAD28Cni1dMyxnq53q2Oo7SacpPnjSiKRohGiCqK6o13k7malKPkrYC5OMbZ0y3i+PAAAAcP0x0lLMU5fEYWUmRcPmV+bAhyxnWpd6h3xHUFcnpsOGVeXBBSdka/OSAszx0FDwAA+/Ay4uHTQ8aOufatqaPRmpKTCI5LimmIaYhNiguOlpPWmq+j/K2VuUnG5tM14v3wAAADD8odGCy0OWdG/lFJXCBlX2zncaR1hneFd6J15HFabBtlQ1z4UWFGrzkTLMYdAQ8AAP/wOuLu01TGo7kOrsSj75qxkymObYqLiIyIb4otjraT9JrKoxSuqblaxvPTPuIB8QAA/w7BHQsspDlTRuZRL1wDZT9sxnGCdWN3Y3eAdcNxO2z9ZClc4FFNRp45Biy+Hf0OAAAD8UPi+9Nlxre5Jq7fowyb0ZNKjo+KroiviJGKTo7VkxGb5aMsrr65a8YA1EfiBfEAAPoOuR3/K5M5PkbOURRc5WQgbKVxYHVBd0B3XnWicRts4GQOXMhROEaNOfortR34DgAACPFM4gjUdsbMuT6u+qMpm/CTa46xitGI0Yizim+O9ZMvmwCkRK7SuXvGDdRP4grxAAD2DrAd8iuCOSpGt1H5W8hkAGyEcT51Hncddzx1gXH8a8Nk81uwUSRGfDntK6wd9A4AAAzxVOIV1IbG4LlVrhSkR5sQlIyO04rziPSI1YqQjhSUTJsapFyu5rmMxhnUWOIO8QAA8g6nHeUrcTkWRp9R3lurZOFrY3Ecdft2+3YadWBx3GulZNhbmVEPRmw54CukHfAOAAAR8V3iIdSXxvW5ba4vpGSbL5StjvWKFokXifeKsY4zlGmbNaRzrvu5ncYm1GHiE/EAAO0Onx3YK2E5AUaHUcRbjWTBa0Jx+nTZdth2+HQ/cb1riGS+W4FR+0VbOdMrmx3rDgAAFfFm4i7UqMYJuoWuSqSBm06Uzo4XizmJOYkZi9KOU5SGm1Cki64Puq3GM9Rp4hfxAADpDpYdyytQOe1Fb1GpW3Bkomshcdh0tna1dtZ0HnGea2tko1tpUedFSjnHK5Id5w4AABnxbuI71LjGHbqdrmSknptulO+OOYtbiVyJO4vzjnKUpJtqpKOuI7q+xkDUcuIb8QAA5Q6NHb8rPznZRVhRjltTZINrAHG2dJR2k3a0dP1wfmtOZIhbUVHSRTo5uiuKHeMOAAAe8XfiSNTJxjK6tK5/pLybjZQQj1uLfol+iV2LE4+RlMGbhaS6rji6z8ZM1HriIPEAAOAOhR2yKy85xEVAUXRbNmRja99wlHRxdnB2knTccF9rMWRuWzpRvkUpOa0rgR3eDgAAIvF/4lTU2sZGusyumqTZm6yUMY99i6CJoYl/izSPsZTem6Ck0q5Mut/GWdSD4iTxAADcDnwdpSseObBFKFFZWxlkRGu/cHJ0T3ZOdnB0u3BAaxNkU1siUapFGDmgK3kd2g4AACbxiOJh1OrGWrrjrrSk9pvLlFKPn4vCicOJoYtVj9CU+5u6pOquYLrwxmbUjOIo8QAA2A50HZkrDTmcRRFRPlv8YyVrnnBQdCx2LHZOdJtwIWv2YzlbC1GWRQg5lCtwHdYOAAAr8ZHibtT7xm66+67PpBOc65Rzj8GL5YnmicOLdo/vlBic1aQBr3W6Acdz1JTiLfEAANMOax2MK/04h0X5UCRb32MGa31wLnQKdgl2LHR6cAJr2WMeW/NQgUX3OIcraB3RDgAAL/GZ4nrUC8eDuhOv6aQwnAqVk4/jiweKCIrli5ePDpU1nO+kGa+JuhHHf9Sd4jHxAADPDmMdfyvsOHNF4lAJW8Jj52pccAx06HXndQp0WXDiarxjBFvcUG1F5zh6K18dzQ4AADPxouKH1BzHl7oqrwSlTZwplbSPBYwpiiqKB4y3jy2VUpwKpTCvnboix4zUpeI18QAAyw5aHXMr3DhfRcpQ71qlY8hqPHDrc8V1xXXpczhww2qfY+laxFBZRdY4bitWHckOAAA38arilNQtx6u6Qq8epWqcSJXVjyaMTIpMiiiM2I9MlW+cJKVIr7G6MseY1K7iOfEAAMYOUR1mK8s4S0WzUNVaiGOpahtwyXOjdaJ1x3MYcKRqgmPPWq1QRUXGOGErTh3EDgAAPPGz4qDUPce/ulmvOaWHnGeV9Y9IjG6Kb4pKjPiPa5WMnD+lX6/FukPHpdS24j7xAADCDkkdWSu7ODdFm1C6Wmtjimr7b6dzgXWAdaVz92+FamVjtFqVUDFFtThVK0UdwA4AAEDxu+Kt1E7H07pxr1OlpJyGlRaQaoyQipGKbIwZkIqVqZxZpXev2bpTx7LUv+JC8QAAvg5AHU0rqjgjRYRQoFpOY2tq2m+Gc191XnWEc9dvZmpJY5paflAdRaU4SCs9HbwOAABE8cTiutRex+e6iK9tpcGcpZU2kIuMsoqzio2MOpCplcacc6WOr+66ZMe+1MfiRvEAALoOOB1AK5o4DkVsUIVaMWNMarlvZHM9dTx1YnO2b0dqLGOAWmZQCEWUODsrNB24DgAASfHM4sbUb8f8up+viKXenMSVV5CtjNSK1YqvjFqQyJXjnI6lpa8Cu3THy9TQ4kvxAAC1Di8dNCuJOPpEVVBrWhRjLWqZb0JzG3UadUBzlm8pag9jZVpPUPREhDgvKywdsw4AAE3x1eLT1H/HELu3r6Kl+pzjlXeQzoz2iveK0Ix7kOeVAJ2opb2vFruFx9fU2OJP8QAAsQ4nHScreTjmRD5QUVr3Yg5qeG8hc/h0+HQfc3VvCmryYktaOFDgRHM4IisjHa8OAABR8d3i39SPxyS7zq+8pRedAZaYkPCMGYsZi/KMm5AGlhydwqXUryq7lcfk1OHiU/EAAK0OHh0aK2g40kQmUDda2mLvaVhv/3LWdNZ0/XJVb+tp1WIxWiBQzERjOBYrGx2rDgAAVfHm4uzUoMc4u+Wv16U0nSCWuJARjTuLO4sTjbuQJZY5ndyl668+u6XH8dTp4lfxAACoDhYdDitYOL5ED1AcWr5i0Gk4b95ytXS0dNxyNG/MabliF1oJULhEUjgJKxIdpg4AAFrx7uL41LDHTLv9r/GlUZ0/ltiQM41ci12LNY3ckEOWVp33pQOwUru2x/3U8uJc8QAApA4OHQErSDiqRPhPAlqhYrJpF2+9cpN0knS7chRvrWmcYvxZ8k+kREI4/SoKHaIOAABe8ffiBdXBx2C7FLALpm2dXpb5kFSNfot/i1aN/JBilnOdEaYasGa7xscK1friYPEAAKAOBR31Kjc4lkTgT+hZhGKTafdum3JxdHB0mXL0bo9pf2LiWdpPkEQyOPAqAh2eDgAAYvH/4hHV0cd0uyuwJaaKnX2WGZF1jaCLoYt3jRyRgZaPnSumMbB6u9fHFtUD42TxAACcDv0c6ConOIJEyU/OWWhidGnXbnpyT3ROdHhy1G5waWJiyFnDT3xEITjkKvkcmg4AAGbxCOMe1eHHiLtCsD+mp52bljmRl43Ci8OLmY09kZ+WrJ1FpkiwjrvnxyPVC+No8QAAlw70HNwqFzhuRLJPtFlLYlVpt25Zci10LHRXcrNuUWlGYq5ZrE9pRBE41yrxHJUOAABr8RDjKtXyx5u7WrBZpsOdupZakbiN5Ivli7qNXZG+lsidX6ZgsKG798cv1RTjbfEAAJMO7BzQKgY4W0SbT5pZLmI3aZZuN3ILdAt0NXKTbjNpKWKUWZVPVUQBOMsq6ByRDgAAb/EY4zfVAsivu3Gwc6bgndiWepHZjQaMBozbjX2R3ZblnXmmd7C1uwfIO9Uc43HxAACPDuMcwyr2N0dEhE+AWRJiGGl2bhZy6nPpcxRyc24UaQ1iell+T0FE8De+KuAcjQ4AAHPxIeND1RLIw7uIsI2m/J33lpqR+o0njCiM/I2dkfuWAZ6Tpo6wybsYyEjVJON18QAAiw7bHLcq5jczRG1PZln1YfpoVm71cchzx3PzcVNu9WjwYWBZZ08tROA3sirXHIkOAAB38SnjUNUiyNe7n7CnphmeFpe6kRyOSYxKjB6OvZEalx6eraalsN27KMhU1S3jefEAAIYO0xyqKtU3H0RVT0xZ2WHbaDZu1HGmc6Vz0nEzbtdo1GFGWU9PGUTQN6UqzxyFDgAAfPEy41zVM8jru7awwaY1njSX2pE9jmuMa4w/jt2ROJc6nsemvLDxuzjIYdU1437xAACCDsocnirFNwtEPk8yWbxhvWgWbrNxhXOEc7FxE264aLdhLFk4TwVEwDeZKsccgA4AAIDxOuNo1UPI/7vNsNumUp5Tl/qRXo6MjI2MYI79kVeXV57hptOwBbxIyG3VPeOC8QAAfg7CHJEqtTf3QydPGFmgYZ5o9m2ScWNzYnOQcfNtmmibYRJZIU/yQ683jSq+HHwOAACE8ULjddVTyBK85LD1pm6ecZcakn+OroyvjIGOHZJ1l3Oe+6bqsBi8Wch51UbjhvEAAHoOuRyFKqU35EMQT/5YhGGAaNZtcXFBc0Fzb3HTbXxof2H4WApP3kOfN4Aqthx4DgAAiPFL44HVY8gmvPuwD6eLno+XOpKgjs+M0Iyijj2SlJeQnhWnAbEsvGnIhtVO44rxAAB2DrEceSqVN9BD+U7kWGdhYWi2bVBxIHMfc05xs21daGJh3ljzTspDjzd0Kq4cdA4AAI3xU+ON1XPIOrwSsSmnp56ul1qSwY7xjPKMw45dkrKXrJ4vpxixQLx5yJLVV+OO8QAAcQ6pHGwqhDe8Q+JOylhLYUNolm0vcf5y/nItcZNtP2hGYcRY3E62Q383aCqlHG8OAACR8VvjmtWEyE68KbFDp8OezJd6kuKOEo0TjeSOfZLQl8ieSacvsVS8icif1V/jk/EAAG0OoBxgKnQ3qUPLTrBYL2ElaHZtDnHdctxyDHFzbSFoKmGrWMZOo0NvN1sqnRxrDgAAlfFk46bVlMhhvECxXaffnuqXmpIDjzSNNI0Fj52S75flnmKnRrFnvJnIq9Vn45fxAABpDpgcVCpkN5VDtU6WWBJhB2hXbe1wvHK7cutwU20CaA1hkVivTo9DXzdPKpUcZw4AAJnxbOOy1aTIdbxXsXan/J4JmLmSI49VjVaNJY+9kg2YAZ98p12xe7ypyLfVcOOb8QAAZQ6QHEcqVDeBQ55OfVj2YOhnN23McJpymnLKcDRt5GfxYHdYmE57Q083QyqMHGMOAACd8XTjv9W0yIm8brGQpxifJ5jZkkSPdo13jUaP3JIrmB2flqd0sY68ucjD1Xjjn/EAAGEOiBw7KkQ3bkOHTmNY2mDKZxdtq3B5cnhyqXAUbcZn1WBdWIFOaEM+NzYqhBxfDgAAofF948vVxMicvIWxqqc0n0WY+ZJlj5iNmI1nj/ySSZg5n7Cni7GivMrI0NWA46PxAABcDn8cLyo0N1pDcE5JWL5grGf3bItwWHJXcolw9GyoZ7lgRFhqTlRDLjcqKnwcWw4AAKbxhePX1dTIsLybscSnUJ9jmBmTho+5jbqNiI8ck2eYVZ/Jp6GxtrzayNzViOOo8QAAWA53HCMqJDdGQ1lOMFiiYI5n2GxqcDZyNnJocNRsimedYCpYU05BQx43HipzHFYOAACq8Y3j5NXkyMO8srHdp2yfgZg4k6aP2o3bjaiPO5OGmHGf46e4scm86sjo1ZHjrPEAAFQObxwWKhQ3M0NCThZYhmBwZ7hsSXAVchRyR3C1bGtngWAQWDxOLUMONxIqaxxSDgAArvGV4/DV9MjXvMmx96eIn5+YWJPHj/uN/I3Jj1uTpJiNn/2nz7HdvPrI9NWZ47DxAABQDmYcCioENx9DLE78V2pgUmeYbClw9HHzcSdwlWxNZ2Vg91cmThlD/jYFKmMcTg4AALLxnuP81QTJ6rzgsRGopJ+9mHeT6I8djh2O6o97k8KYqZ8WqOax8LwKyQHWoeO08QAATA5eHP4p9DYMQxVO41dOYDRneWwIcNNx0nEGcHZsL2dJYN1XD04GQ+42+SlbHEoOAAC28abjCNYUyf689rEqqMCf3JiXkwiQPo4+jgqQmpPgmMWfMKj8sQS9GskN1qnjuPEAAEgOVhzyKeQ2+EL+TclXMmAWZ1ls52+ycbFx5W9WbBFnLWDEV/hN8kLeNu0pUhxGDgAAuvGu4xTWJMkRvQ2yRKjcn/mYt5MpkF+OX44rkLqT/pjhn0moE7IXvSrJGday47zxAABDDk4c5SnUNuVC6E2wVxZg+GY6bMdvkXGQccVvN2zzZhFgqlfiTd9CzjbhKUocQg4AAL/xtuMh1jTJJb0ksl2o+J8XmdaTSZCAjoCOS5DZkxyZ/Z9jqCqyK706ySXWuuPB8QAAPw5FHNkpxDbRQtFNllf6X9pmGmymb3Bxb3Gkbxds1Wb1X5FXy03MQr821SlCHD0OAADD8b/jLdZEyTi9OrJ3qBSgNZn1k2qQoY6hjmyQ+ZM6mRmgfKhAsj69Sckx1sLjxfEAADsOPRzNKbQ2vkK6TX1X3l+8Zvtrhm9PcU5xhG/4a7hm2V93V7RNuEKvNsgpOhw5DgAAx/HH4znWVMlMvVGykKgwoFOZFZSKkMKOwo6MkBiUV5k1oJaoV7JSvVnJPtbK48nxAAA3DjUcwSmkNqtCpE1jV8Jfnmbba2VvLnEtcWRv2GuaZr1fXleeTaVCnza8KTIcNQ4AAMvxz+NF1mTJX71osqmoTKBxmTSUq5DjjuOOrZA3lHWZUaCvqG2yZb1pyUrW0+PN8QAAMw4tHLUplDaXQo1NSlemX4BmvGtFbw1xDHFDb7lrfGahX0RXh02RQo82sCkpHDEOAADP8dfjUdZ0yXO9frLDqGigj5lUlMuQBI8Ej82QV5STmW2gyKiEsni9eclW1tvj0fEAAC8OJRypKYQ2hEJ3TTBXil9iZp1rJW/scOtwI2+aa15mhV8rV3FNfkJ/NqQpIRwtDgAA0/Hf413WhMmGvZWy3KiEoK2Zc5TrkCSPJY/tkHaUsZmJoOKom7KMvYnJYtbj49XxAAArDhwcnSl0NnBCYE0XV25fRGZ9awRvy3DKcAJvemtAZmlfEldaTWtCbzaYKRkcKQ4AANfx6ONq1pPJmb2rsvaon6DKmZKUDJFFj0aPDpGVlM+ZpKD7qLGyn72ZyW7W6+PZ8QAAJw4UHJApZTZdQkpN/lZTXydmXmvkbqpwqnDibltrI2ZOX/hWRE1XQl82jCkRHCUOAADc8fDjdtajya29wrIPqbug6JmxlCyRZo9njy6RtZTsmcCgFKnIsrK9qcl61vPj3fEAACIODByEKVU2SkIzTeRWN18JZj9rxG6KcIlwwm48awVmMl/fVi1NREJPNoApCRwhDgAA4PH444LWs8nAvdiyKKnXoAaa0ZRMkYePh49OkdSUCprcoC6p3rLGvbjJhtb74+LxAAAeDgQceClFNjdCHU3LVhtf62Uga6RuaXBocKJuHWvnZRZfxlYXTTFCQDZ0KQEcHA4AAOTxAOSO1sPJ073vskGp86AkmvCUbJGnj6iPbpHzlCia+KBHqfSy2b3IyZLWBOTm8QAAGg78G2wpNTYjQgZNslYAX85lAWuEbkhwSHCCbv5qymX7XqxWAE0eQjA2aCn4GxgOAADo8QjkmtbTyea9BbNbqQ6hQZoPlY2RyI/Jj46REpVFmhOhYKkLs+y92Mme1gzk6vEAABYO9BtgKSY2EELwTJlW5F6wZeJqY24ocCdwYW7eaqxl316TVupMCkIgNlwp8BsUDgAA7PEQ5KbW4sn6vRuzdKkqoV+aLpWtkemP6Y+vkTGVY5ovoXmpIbP/vejJqtYU5O7xAAASDuwbVCkWNv1B2UyAVshek2XCakNuB3AGcEFuv2qOZcNeelbUTPdBEDZQKegbEA4AAPDxGeSy1vLJDb4ys42pRaF8mk2VzZEJkAqQz5FQlYCaSqGTqTizEr73ybbWHOTy8QAADg7jG0gpBjbqQcNMZlatXnVlo2ojbuZv5m8hbqBqcWWoXmFWvUzkQQE2RCngGwwOAAD08SHkvtYCyiC+SLOmqWGhmppsle2RKpArkO+Rb5WemmahrKlOsya+B8rC1iTk9vEAAAoO2xs8KfY110GtTE1WkV5XZYRqA27Gb8VvAW6BalNljF5IVqdM0UHxNTgp2BsIDgAA+PEp5MrWEsozvl6zv6l8obeai5UNkkqQS5APko6Vu5qBocWpZLM5vhfKztYs5PrxAAAGDtMbMCnnNcNBlkw0VnZeOmVlauNtpW+lb+FtYmo2ZXFeL1aRTL5B4TUsKdAbBA4AAPzxMeTW1iHKRr51s9ipmKHVmqqVLZJrkGyQL5KtldmanaHeqXqzTL4nytrWNOT+8QAAAg7LGyQp1zWwQYBMG1ZaXh1lRmrDbYVvhG/BbUNqGGVVXhZWekyrQdI1ICnIGwAOAAAA8jnk4tYxylm+i7PxqbOh8prJlU2Si5CMkE+SzJX2mrih96mRs1++Nsrm1jzkAvIAAP4NwxsYKcc1nUFqTAJWP17/ZChqo21kb2RvoW0lavtkOl79VWRMl0HCNRQpwBv8DQAABPJB5O7WQcpsvqGzCqrPoQ+b6JVtkqyQrJBukuuVFJvUoRCqp7NyvkbK8tZE5AbyAAD6DbsbDCm4NYpBVEzpVSRe4mQJaoNtRG9Db4JtBmreZB9e5FVOTIRBsjUIKbgb+A0AAAnySeT61lDKf763syOq6qEtmweWjJLMkM2QjpIKljGb76Epqr2zhb5Vyv7WTOQK8gAA9Q2zGwApqDV3QT5M0FUIXsRk6mlkbSRvI29ibedpwGQDXstVOExxQaM1/CivG/QNAAAN8lHkBtdgypK+zrM8qgWiSpsmlqyS7JDtkK6SKZZOmwqiQqrTs5i+ZcoK11XkDvIAAPENqxv0KJg1ZEEnTLdV7V2nZMtpRG0DbwNvQm3IaaNk6F2yVSJMXkGTNfAopxvwDQAAEfJZ5BLXb8qmvuSzVaohomebRJbMkg2RDZHOkkeWbJsmoluq6bOrvnXKFtdd5BLyAADtDaMb6CiJNVFBEUyeVdJdimSsaSRt427ibiJtqWmGZM1dmVULTEtBhDXkKJ8b6w0AABXyYeQd13/Kub76s26qPKKFm2OW7JItkS6R7pJmlombQaJ0qgC0vr6EyiLXZeQX8gAA6Q2bG90oeTU+QftLhVW2XW1kjmkEbcNuwm4CbYtpaWSxXYBV9Us4QXQ12CiXG+cNAAAZ8mnkKdeOysy+ELSHqleiopuClgyTTZFOkQ2ThZamm1yijaoWtNG+lMou123kG/IAAOUNkxvRKGo1K0HlS21Vm11PZG9p5WyjbqJu42xsaUtkll1nVd9LJUFkNcwojxvjDQAAHfJx5DXXnsrevia0oKpzor+boJYrk22RbpEtk6OWw5t3oqWqLLTkvqPKOtd15B/yAADhDYsbxShaNRhBz0tUVYBdMmRQacVsg26CbsNsTWkuZHtdTlXJSxJBVTXAKIcb3w0AACHyeeRB167K8b48tLmqjqLcm7+WS5OOkY6RTZPCluCbk6K+qkK0976zykbXfeQj8gAA3Q2DG7koSzUFQblLO1VlXRVkMmmlbGJuYm6jbC9pEWRgXTVVs0v/QEU1tCh/G9sNAAAl8oHkTde9ygS/UrTSqqmi+ZvelmqTrpGukWyT4Zb9m66i16pYtAq/wspR14XkJ/IAANkNexutKDs18kCjSyJVSV34YxNphmxCbkJuhGwQafRjRV0dVZ1L7UA2NakodxvXDQAAKfKJ5FnXzcoXv2i06qrEohac/JaKk86RzpGMk/+WG5zJovCqbrQdv9LKXdeN5CvyAADVDXMboSgsNd9AjUsJVS5d22P1aGZsIm4ibmRs8WjXYyldBFWHS9pAJjWdKG8b0w0AAC3ykeRl19zKKr9+tAOr36IznBuXqpPuke6Rq5Melzic5KIIq4S0ML/hymnXleQv8gAA0Q1rG5YoHDXMQHdL8VQTXb5j1mhHbAJuAm5FbNNoumMOXetUcUvHQBc1kShnG88NAAAx8pnkcNfryj2/lLQcq/qiUJw5l8mTDpIOksuTPJdVnP+iIauatEO/8cp1153kM/IAAM0NYxuKKA01ukBhS9hU+FyhY7hoJ2zibeJtJWy0aJ1j81zSVFtLtEAINYUoXxvLDQAANfKh5HzX+8pQv6q0NKsVo22cWJfpky6SLpLqk1uXcpwaozqrsLRVvwDLgdel5DfyAADJDVsbfij9NKdAS0u/VN1chGOZaAhswm3CbQZslmiAY9hculRFS6FA+DR5KFcbxw0AADnyqeSI1wrLY7/AtE2rMKOKnHaXCJROkk6SCpR5l46cNaNSq8a0aL8Qy4zXreQ78gAAxQ1TG3Io7jSUQDVLp1TCXGdje2joa6Jtom3ma3hoY2O9XKFUMEuOQOk0bihPG8MNAAA98rHklNcay3W/1rRmq0ujp5yVlyeUbpJukimUmJernFCja6vbtHu/H8uY17TkP/IAAMENSxtmKN80gUAfS45Up1xKY1xoyWuCbYJtx2tZaEZjolyJVBpLfEDZNGIoSBu/DQAAQfK55J/XKcuIv+y0fqtmo8Scs5dHlI2SjpJJlLaXyJxro4Sr8bSOvy7LpNe85EPyAAC9DUMbWyjPNG9ACUt1VIxcLWM+aKprY21ibahrO2gpY4dccFQES2lAyjRWKEAbuw0AAEXyweSr1zjLm78BtZergaPhnNGXZpStkq6SaJTUl+WchqOcqwe1oL8+y7DXxORH8gAAuQ07G08owDRcQPRKXVRxXBBjIGiKa0NtQm2Iax1oDGNsXFdU7kpWQLs0Sig4G7cNAABJ8snkt9dIy66/F7Wvq5yj/pzwl4WUzZLOkoeU85cCnaGjtasdtbO/Tcu718zkS/IAALUNMxtDKLE0SUDeSkRUVlz0YgFoa2sjbSJtaWv+Z/BiUlw/VNhKQ0CrND8oMBuzDQAATfLR5MPXV8vAvy21yKu3oxudDpillO2S7ZKmlBGYH528o82rM7XGv1zLx9fU5E/yAACxDSsbNyihNDZAyEosVDxc12LjZ0xrA20DbUpr4GfTYjdcJlTCSjFAnDQzKCgbrw0AAFHy2eTO12bL079DteCr0qM3nSyYxJQNkw2TxpQvmDud16Pmq0i12b9sy9PX3ORT8gAArQ0jGywokjQkQLJKE1QhXLpixWcta+Rs42wra8JntmIcXA5UrUoeQI00JyggG6sNAABV8uHk2td2y+a/WLX5q+2jVJ1KmOOULJMtk+WUTZhYnfGj/qteteu/e8ve1+TkV/IAAKkNGxsgKIM0EUCdSvtTBlydYqdnDWvEbMNsDGukZ5liAVz2U5dKC0B9NBwoGBunDQAAWfLp5ObXhcv4v261EawHpHGdaJgClUyTTJMElWuYdZ0MpBesdLX+v4rL6tfs5FvyAAClDRQbFChzNP4/h0riU+tbgWKJZ+5qpGykbOxqhmd9YuZb3VOBSvk/bjQQKBAbow0AAF3y8OTx15TLC8CEtSqsIqSOnYaYIZVrk2yTI5WJmJKdJ6QvrIq1EMCZy/bX9ORf8gAAoQ0MGwkoZDTsP3FKylPRW2Ria2fPaoVshGzNamhnYGLMW8VTbErmP180BCgIG58NAABh8vjk/dejyx3AmrVCrD2kqp2lmECVi5OMk0KVqJiunUKkR6yftSPAqcsB2PzkY/IAAJ0NBBv9J1U02T9cSrJTtltIYkxnsGplbGVsrmpJZ0RisVusU1ZK1D9QNPknABubDQAAZfIA5QnYs8swwK+1WqxYpMedw5hflauTq5NhlcaYy51cpGCstbU2wLjLDdgD5WfyAACZDfwa8idGNMc/RkqZU5tbK2IuZ5FqRmxFbI9qK2cnYpZblFNASsE/QTTtJ/kalw0AAGnyCOUU2MLLQ8DFtXOscqTjneGYfpXKk8uTgJXkmOedd6R4rMq1SMDHyxnYC+Vr8gAAlQ30GuYnNjS0PzBKgVOBWw5iEGdyaiZsJmxwag1nCmJ8W3xTK0qvPzE04SfxGpMNAABt8hDlINjRy1XA2rWLrI2kAJ7/mJ2V6ZPqk5+VApkEnpKkkKzgtVvA1ssk2BPlbvIAAJEN7BraJyc0oj8bSmlTZlvyYfJmU2oHbAZsUWrvZu5hYVtjUxVKnD8iNNYn6RqQDQAAcfIY5SvY4MtowPC1o6ynpByeHZm8lQmUCpS+lSCZIJ6spKms9rVtwOXLMNgb5XLyAACNDeQazycYNI8/BUpRU0tb1WHVZjRq52vnazJq0mbRYUdbS1MASoo/EzTKJ+EajA0AAHXyH+U32O/LesAFtryswqQ5njqZ25UolCmU3ZU9mT2ex6TBrAu2gMD1yzvYI+V28gAAiQ3dGsMnCTR9P/BJOFMxW7lht2YVashrx2sUarRmtWEsWzNT6kl3PwQ0vyfZGogNAAB58iflQ9j/y43AG7bUrNykVZ5YmfqVSJRIlPyVW5lZnuGk2awhtpLABMxH2CvlevIAAIYN1Rq4J/ozaj/aSSBTFludYZlm92mpa6hr9WmWZplhElsbU9VJZT/1M7Mn0hqEDQAAfPIv5U7YDsyfwDC27Kz3pHKedpkZlmeUaJQblnmZdp78pPGsNralwBPMU9gy5X7yAACCDc0arCfrM1g/xUkIU/xagGF7ZthpiWuJa9ZpeGZ8YfdaA1O/SVI/5jOoJ8oagA0AAIDyN+Va2B3MscBGtgStEaWOnpSZOJaGlIeUOZaXmZKeFqUJrUu2t8AizF7YOuWC8gAAfg3FGqAn3DNFP69J8FLhWmRhXWa5aWpraWu3aVpmYGHdWutSqklAP9cznCfCGnwNAACE8j/lZdgszMTAW7YcrSylqp6ymVaWppSmlFiWtZmunjGlIq1htsnAMcxq2ELlhvIAAHoNvRqVJ80zMz+aSdhSx1pIYT9mmmlLa0prmGk8ZkRhwlrSUpRJLT/HM5Enuhp4DQAAiPJG5XHYO8zWwHG2NK1Gpcee0Jl1lsWUxZR3ltKZy55LpTqtdrbcwEDMddhK5YryAAB2DbYaiSe+MyE/hUnAUq1aK2EiZnxpLGsra3ppH2YnYahaulJ/SRs/uDOFJ7IadA0AAIzyTuV82ErM6cCGtkytYaXjnu2ZlJbklOWUlpbwmeeeZaVSrYy27sBPzIHYUuWO8gAAcg2uGn4nrjMOP29JqFKSWg9hBGZdaQ1rDGtbaQFmC2GNWqJSakkJP6kzeierGnANAACQ8lbliNhZzPvAnLZkrXul/54LmrKWA5UElbSWDpoDn4Claq2htgDBXsyM2FnlkvIAAG4NphpyJ58z/D5aSZBSeFrzYOZlPmntau1qPGnjZe9gc1qKUlRJ9j6aM24noxpsDQAAlPJe5ZPYaMwNwbG2fK2VpRufKZrRliKVI5XTliyaH5+apYKttrYTwW3MmNhh5ZbyAABqDZ4aZyeQM+o+REl4Ul5a12DJZSBpzmrOah5pxmXTYFlaclI/SeQ+izNjJ5saaA0AAJjyZeWf2HfMIMHGtpStsKU3n0aa8JZBlUKV8ZZJmjuftKWarcy2JcF8zKPYaeWa8gAAZg2XGlwngTPXPi9JYFJDWrpgq2UBaa9qr2r/aKhlt2A/WlpSKknSPnwzVyeTGmQNAACc8m3lqtiGzDLB27asrcqlVJ9kmg6XYJVhlRCXZ5pYn8+lsq3htjfBi8yv2HDlnvIAAGINjxpQJ3IzxT4aSUhSKVqeYI1l42iQapBq4WiLZZpgJFpCUhRJvz5tM0wnjBphDQAAoPJ15bbYlcxEwfG2xK3kpXCfgZotl3+VgJUul4SadJ/ppcqt9rZKwZrMuth45aHyAABeDYcaRSdkM7M+BUkwUg9agmBwZcRocWpxasJobWV+YApaKlL/SK0+XjNAJ4QaXQ0AAKTyfeXB2KTMVsEGt9yt/qWMn5+aS5eelZ+VTZeimpCfA6birQu3XMGpzMXYgOWl8gAAWw1/GjknVTOgPu9IGFL1WWZgUmWmaFJqUmqkaFBlYmDwWRNS6kibPk8zNSd8GlkNAACn8oTlzNizzGnBG7f0rRimqJ+8mmqXvZW+lWuXv5qsnx2m+a0ht27BuMzR2IjlqfIAAFcNeBouJ0Yzjj7aSABS2llKYDVlh2gzajNqhWgyZUZg1ln7UdVIiT5BMyondRpVDQAAq/KM5djYwsx7wTC3DK4zpsSf2pqIl9yV3ZWKl92ayJ83phGuNreAwcfM3NiP5a3yAABTDXAaIic3M3w+xUjoUcBZLmAYZWloFWoUamdoFWUqYLxZ41HASHc+MjMeJ20aUQ0AAK/ylOXj2NHMjcFGtySuTabgn/eappf7lfyVqJf6muSfUaYprku3ksHWzOjYl+Wx8gAATw1oGhcnKDNqPrBI0FGmWRJg+mRKaPZp9WlJaPdkDmCiWctRqkhkPiMzEydlGk0NAACz8pvl79jgzJ/BW7c8rmem/J8Um8WXGpYalseXF5sAoGumQa5gt6XB5czz2J/ltfIAAEsNYRoMJxkzWD6bSLhRjFn2X91kLGjXadZpKmjaZPJfh1mzUZVIUj4UMwcnXRpJDQAAt/Kj5frY7syxwXC3U66BphigMpvjlzmWOZbllzWbHKCGplmudbe3wfTM/tim5bnyAABHDVkaACcKM0Y+hkihUXJZ2l/AZA5ouGm3aQxovWTWX21ZnFGASEA+BTP8JlYaRQ0AALvyq+UF2f3Mw8GFt2uum6Y0oE+bAZhXlliWA5hSmzegoKZwroq3ycECzQrZruW98gAAQw1RGvUm+zI0PnFIiVFYWb5fomTwZ5lpmWnuZ59ku19TWYRRa0guPvYy8SZOGkINAAC/8rLlEdkMzdXBmreDrrWmT6BsmyCYdpZ3liGYb5tToLqmiK6ft9vBEc0V2bblwPIAAD8NShrqJuwyIT5bSHFRPlmjX4Vk0Wd7aXpp0GeCZJ9fOVlsUVZIHD7nMuUmRxo+DQAAwvK65RzZG83owa+3m67Ppmugips+mJWWlZZAmI2bb6DTpqCutLftwSDNINm95cTyAAA8DUIa3ibeMg8+RkhaUSRZh19oZLNnXGlbabFnZWSDXyBZVFFBSAo+2TLaJj8aOg0AAMbywuUn2SrN+sHEt7Ku6aaHoKebXJizlrSWXpiqm4ug7aa3rsq3/8EvzSzZxeXI8gAAOA06GtMmzzL9PTFIQlEKWWtfS2SVZz1pPWmTZ0hkZ18GWT1RLEj4PcoyzyY3GjYNAADK8snlM9k5zQzC2bfKrgOno6DEm3qY0pbTlnyYx5unoAenz67ftxHCPs032c3lzPIAADQNMxrIJsAy6z0cSCpR8FhPXy1kd2cfaR5pdWcqZEtf7FglURdI5j27MsQmMBoyDQAAzvLR5T7ZR80ewu634a4dp7+g4ZuYmPGW8ZaamOSbwqAhp+eu87cjwkzNQtnU5dDyAAAwDSsavSaxMtk9B0gTUddYNF8QZFlnAGkAaVdnDWQwX9JYDlECSNQ9rDK4JigaLg0AANLy2eVJ2VbNMMIDuPmuNqfaoP6btpgPlxCXuJgBnN6gO6f+rgi4NcJbzU3Z3OXU8gAALA0kGrEmozLHPfNH+1C9WBhf82M7Z+Jo4Wg5Z/BjFF+4WPZQ7UfCPZ4yrSYgGioNAADW8uDlVNllzULCGLgRr1Cn9qAbnNSYLpcul9aYHpz6oFWnFq8duEfCas1Z2ePl1/IAACgNHBqmJpQytT3eR+RQo1j8XtZjHWfDaMNoG2fTY/henljeUNhHsD2PMqImGRonDQAA2vLo5WDZc81Uwi24KK9qpxKhOJzymEyXTZf0mDucFaFvpy2vMrhZwnjNZNnr5dvyAAAlDRQamyaFMqM9yUfMUIlY4V65Y/9mpWikaP1mtmPdXoVYx1DDR549gDKXJhEaIw0AAN3y7+Vr2YLNZsJCuECvhKctoVWcEJlrl2uXEplYnDGhiKdFr0e4a8KHzW/Z8+Xf8gAAIQ0NGpAmdjKSPbRHtVBvWMVenGPhZoZohmjfZpljwV5rWK9QrkeMPXEyiyYKGh8NAADh8vfldtmRzXfCV7hXr52nSaFynC6ZiZeKlzCZdZxNoaKnXK9cuH3Cls162frl4/IAAB0NBRqEJmgygD2fR51QVliqXn9jw2ZoaGdowWZ8Y6ZeUViYUJpHej1jMoAmAhobDQAA5fL/5YHZoM2Jwmu4b6+3p2Shj5xMmaeXqJdOmZKcaKG8p3SvcbiPwqXNhtkC5ufyAAAZDf4ZeSZZMm49ikeGUDxYjl5iY6VmSmhJaKNmX2OKXjdYgVCFR2g9VDJ1JvoZFw0AAOnyBuaM2a7Nm8KAuIav0aeAoaycapnGl8aXbJmvnISh1aeLr4a4ocKzzZHZCebr8gAAFQ32GW4mSzJcPXVHblAiWHNeRWOHZitoK2iFZkJjb14eWGlQcEdXPUYyaibzGRQNAADt8g7mmNm9za3Clbidr+qnm6HJnIiZ5Jfll4mZzJyfoe+no6+auLLCws2c2RHm7vIAABEN7xljJjwySj1hR1dQCVhXXihjaWYNaAxoaGYmY1NeBFhSUFtHRT03Ml8m6xkQDQAA8PIV5qPZy82/wqq4ta8EqLeh5pylmQKYA5inmemcu6EJqLqvr7jEwtDNp9kY5vLyAAAODecZWCYtMjg9TEdAUO9XPF4MY0xm72fuZ0pmCWM4XutXOlBGRzM9KDJTJuQZDA0AAPTyHeau2drN0cK/uMyvHqjSoQOdw5kgmCGYxZkGndahIqjRr8S41sLfzbLZIOb28gAACg3fGUwmHzImPTdHKFDWVyBe72IuZtBn0GcsZuxiHF7RVyNQMkchPRoySCbcGQgNAAD48iTmudnpzeLC07jjrzeo7aEgneGZP5g/mOOZIp3xoTyo6a/ZuOjC7s292Sfm+vIAAAYN2BlBJhAyFT0iRxFQvFcFXtJiEGayZ7JnDmbPYgFet1cMUB1HDz0LMj0m1RkEDQAA/PIs5sTZ9830wui4+69RqAmiPJ3/mV2YXZgAmj+dDaJVqACw7bj6wvzNyNkv5v7yAAACDdAZNiYCMgM9Dkf6T6NX6l21YvNllGeUZ/FlsmLmXZ5X9U8IR/48/TEyJs0ZAQ0AAADzM+bP2QbOBsP9uBKwaqgkolmdHJp7mHyYHppcnSiib6gXsAK5C8MLztTZNuYB8wAA/wzJGSsm8zHxPPlG4k+JV85dmWLVZXZndWfTZZZiyl2EV91P9EbsPO4xJybGGf0MAAAD8zvm2tkUzhjDEbkpsISoP6J2nTqamZiamDyaeZ1DooioLrAXuR3DGc7f2T7mBfMAAPsMwRkgJuQx3zzkRstPcFezXXxit2VYZ1dntWV5Yq9da1fGT99G2jzgMRwmvhn5DAAAB/NC5ubZI84pwya5QLCdqFuikp1YmreYuJhZmpWdXqKiqEawK7kvwyjO6tlF5gnzAAD3DLoZFSbWMc480Ea0T1ZXmF1fYpplOmc5Z5hlXGKUXVJXr0/KRsg80TERJrcZ9QwAAAvzSubx2THOO8M6uViwt6h2oq+ddZrVmNaYd5qynXqiu6hdsEC5QMM2zvXZTeYN8wAA8wyyGQomyDG8PLtGnU89V3xdQ2J8ZRxnG2d6ZUBieV04V5hPtka3PMMxBiavGfEMAAAP81Hm/NlAzk3DT7lvsNCokaLMnZOa85j0mJSazp2VotSodLBUuVLDRc4A2lTmEPMAAO8Mqxn/JbkxqjynRoZPI1dhXSZiX2X+Zv1mXWUjYl5dH1eBT6FGpTy0MfslqBnuDAAAEvNZ5gfaTs5ew2S5hrDpqKyi6J2wmhGZEpmymuudsKLuqIuwablkw1POC9pc5hTzAADsDKQZ9CWrMZk8kkZvTwpXRl0KYkFl4GbfZj9lB2JCXQZXaU+NRpM8pjHwJaAZ6gwAABbzYOYS2l3OcMN4uZ2wA6nHogWezpovmTCZz5oInsuiB6misH25dcNizhbaY+YY8wAA6AycGeklnDGHPH5GV0/xVitd7WEkZcJmwWYiZephJ13sVlJPeEaCPJcx5SWZGeYMAAAa82jmHdprzoLDjbm0sByp46IhnuuaTZlOme2aJJ7moiCpubCSuYfDcM4h2mvmHPMAAOQMlRneJY4xdjxpRkBP11YQXdFhBmWkZqRmBWXOYQxd01Y7T2RGcDyJMdolkhniDAAAHvNv5ijaes6Tw6G5y7A1qf6iPp4Im2uZa5kKm0CeAaM6qdCwprmZw37OLNpy5h/zAADgDI0Z0yV/MWQ8VUYpT75W9Vy0YelkhmaGZudksWHxXLpWJE9PRl88ejHOJYoZ3wwAACHzd+Yz2ojOpcO2ueKwTqkZo1qeJpuJmYmZJ5tdnhyjU6nnsLu5qsONzjfaeuYj8wAA3QyGGcglcTFSPEBGEk+lVtpcmGHMZGhmaGbKZJVh1lygVg1PO0ZNPGwxxCWDGdsMAAAl837mPtqWzrbDyrn5sGipNKN2nkObppmnmUWbeZ43o2yp/rDPubzDm85C2oHmJ/MAANkMfhm9JWMxQTwsRvtOjFa/XHthrmRLZkpmrWR5Ybtch1b2TiZGPDxeMbklexnXDAAAKfOF5knapc7Iw965ELGBqU+jk55gm8SZxZlim5aeUqOFqRWx5LnNw6rOTdqI5ivzAADVDHcZsiVUMS88F0bkTnNWpFxfYZFkLWYsZo9kXGGgXG5W304SRio8TzGuJXQZ0wwAAC3zjeZU2rPO2cPzuSexmqlqo6+efpvimeKZf5uynm2jnqkssfi538O4zljakOYu8wAA0QxwGaclRjEePANGzU5aVolcQ2F0ZA9mD2ZyZEBhhVxVVshO/kUZPEExoyVsGdAMAAAw85TmX9rBzuvDB7o+sbOphKPLnpubAJoAmp2bzp6Io7ipQ7EMuvDDxs5j2pfmMvMAAM4MaBmcJTgxDDzvRbZOQFZuXCZhV2TyZfFlVWQkYWpcPFaxTulFBzwzMZglZRnMDAAANPOc5mra0M78wxy6VbHMqZ+j6J64mx2aHpq6m+qeo6PRqVqxIboCxNXObtqf5jbzAADKDGEZkSUpMfs72kWgTidWU1wKYTlk1GXTZThkB2FPXCNWm07VRfY7JDGNJV4ZyAwAADjzo+Z12t7ODsQwumyx5am6owSf1Zs7mjua15sHn76j6qlxsTW6E8TjznnapuY68wAAxgxZGYYlGzHpO8ZFiU4OVjhc7mAcZLZltmUbZOtgNVwKVoROwUXkOxYxgiVWGcUMAAA886rmgNrszh/ERLqDsf6p1aMgn/KbWJpZmvSbI5/ZowOqiLFJuiTE8c6E2q3mPfMAAMMMUhl7JQ0x2DuyRXJO9VUeXNJg/2OZZZhl/WPPYBpc8VVtTqxF0zsIMXclTxnBDAAAP/Oy5ora+84xxFi6mrEXqvCjPJ8PnHaad5oRnD+f9KMcqp+xXro2xP/Oj9q15kHzAAC/DEsZcCX+MMc7nUVbTtxVA1y2YOJje2V7ZeBjs2D/W9hVVk6YRcE7+jBsJUgZvQwAAEPzueaV2gnPQsRturCxMKoLpFifLJyUmpSaLpxbnw6kNaq1sXK6R8QOz5navOZF8wAAuwxDGWUl8DC1O4lFRE7DVehbmmDFY15lXWXDY5dg5Fu/VT9OhEWwO+swYSVAGbkMAABH88DmoNoXz1PEgbrHsUmqJaR0n0mcsZqymkucd58ppE6qzLGGulnEHM+k2sPmSPMAALcMPBlaJeIwpDt1RS5OqlXNW31gqGNAZUBlpmN7YMpbplUpTnBFnzvdMFYlORm2DAAASvPI5qvaJc9lxJW63rFiqkCkkZ9mnM6az5ponJOfRKRnquOxmrpqxCrPr9rL5kzzAAC0DDUZUCXUMJM7YUUXTpFVs1thYItjI2UiZYljX2CvW41VEk5cRY07zzBLJTIZsgwAAE7zz+a22jPPdsSpuvWxe6pbpK2fg5zsmuyahZyvn16kf6r6sa+6e8Q4z7ra0uZQ8wAAsAwtGUUlxTCBO01FAE55VZhbRWBuYwVlBWVsY0NglFt0VftNR0V8O8EwQSUqGa4MAABS89bmwdpCz4fEvboLspSqdaTJn6CcCZsKm6Kcy595pJiqELLDuo3ERs/F2tnmU/MAAKwMJhk6JbcwcDs4RelNYFV9WylgUWPoZOdkT2MnYHpbW1XkTTNFazuyMDYlIxmrDAAAVfPe5szaUM+ZxNK6IrKtqpCk5Z+9nCebJ5u/nOeflKSxqiey17qexFXP0Nrh5lfzAACpDB8ZLyWpMF87JEXTTUdVY1sNYDRjy2TKZDNjC2BfW0JVzk0fRVk7pDArJRwZpwwAAFnz5ebW2l7PqsTmujmyxaqrpAGg2pxEm0Wb3JwDoK6kyqo+suu6r8Rjz9ra6OZb8wAApQwXGSQlmzBNOxBFvE0uVUhb8l8YY61krWQWY+9fRFsqVbdNC0VIO5YwICUUGaMMAABd8+zm4dpsz7vE+rpPst6qxaQcoPecYZtim/mcH6DJpOOqVLL/usDEcc/l2u/mX/MAAKEMEBkZJY0wPDv8RKZNFVUuW9Zf+2KQZJBk+WLTXypbEVWhTfdENzuIMBUlDRmgDAAAYPP05uzaes/MxA67ZrL3quCkOKAUnX6bf5sVnTug46T7qmuyE7vSxH/P8Nr35mLzAACeDAkZDyV/MCs76ESPTf1UE1u6X95ic2RyZNxit18PW/hUik3jRCY7ejALJQYZnAwAAGTz++b32ojP3sQiu3yyEKv6pFSgMJ2cm5ybMp1XoP6kFKuBsie748SNz/va/uZm8wAAmgwBGQQlcTAaO9REeE3kVPlanl/BYlZkVWS/Yptf9VrfVHNNz0QVO2wwACX+GJgMAABo8wLnAtuWz+/ENruTsiirFaVwoE2duZu5m0+dc6AYpS2rmLI7u/TEm88G2wXnavMAAJYM+hj5JGMwCTvARGJNy1TeWoJfpGI5ZDhko2J/X9pax1RdTbtEAzteMPUk9xiVDAAAa/MJ5wzbpM8AxUq7qbJBqy+ljKBqndab15tsnY+gM6VGq66yT7sFxanPENsM523zAACTDPMY7iRUMPc6rERLTbNUxFpmX4hiG2QbZIZiZF/AWq5URk2nRPI6UDDqJPAYkQwAAG/zEecX27PPEcVeu8CyWqtJpaigh53zm/SbiJ2qoE2lXqvFsmO7FsW3zxvbFOdx8wAAjwzsGOQkRjDmOphENU2aVKlaS19rYv5j/mNpYkhfplqWVDBNk0ThOkIw4CTpGI0MAABz8xjnItvBzyLFcrvWsnKrZKXDoKOdEJwRnKWdxqBopXer27J3uyfFxc8m2xvndPMAAIsM5BjZJDgw1TqERB5NgVSPWi9fT2LhY+FjTWIsX4tafVQaTX9E0Do0MNUk4RiKDAAAdvMf5yzbz88zxYa77bKLq36l36DAnS2cLpzBneKggqWPq/Kyi7s5xdPPMdsi53jzAACIDN0YziQqMMQ6cEQITWlUdVoTXzJixGPEYzBiEF9xWmRUA01rRL86JjDKJNoYhgwAAHrzJuc3293PRcWauwOzo6uZpfug3J1KnEuc3p39oJylqKsIs5+7SsXhzzvbKed88wAAhAzWGMMkHDCzOlxE8kxQVFpa+F4VYqdjp2MUYvVeV1pMVO1MV0SuOhgwvyTTGIIMAAB+8y7nQtvrz1bFrrsas7yrs6UWofmdZ5xonPudGaG2pcCrHrOzu1vF789G2zHnf/MAAIAMzxi5JA4wojpIRNtMOFRAWtxe+WGKY4pj92HZXjxaM1TWTENEnToKMLUkzBh/DAAAgfM1503b+c9nxcG7MLPVq82lMqEVnoSchZwXnjWh0aXZqzWzx7tsxf3PUds454PzAAB9DMgYriQAMJE6NUTFTB9UJlrAXtxhbWNtY9thvl4iWhtUwEwvRIw6/C+qJMUYewwAAIXzPOdX2wfQeMXVu0az7avnpU2hMp6hnKKcNJ5Qoeul8atLs9q7fcUL0FvbP+eH8wAAeQzAGKMk8i+AOiFEr0wHVAxapV7AYVBjUGO+YaJeCFoCVKpMHER7Ou4vnyS9GHgMAACJ80PnYtsV0InF6btdswWsAaZpoU6evpy/nFCebKEFpgqsYbPuu47FGdBm20bnivMAAHYMuRiZJOUvbzoNRJhM7lPxWYlepGEzYzNjomGHXu5Z6lOTTAhEajrgL5Ukthh0DAAAjPNK523bItCaxf27c7MerBymhKFrntuc3JxsnoehH6YirHizAryfxSfQcdtN547zAAByDLIYjiTXL146+UOCTNZT11luXodhF2MWY4Vha17UWdJTfUz0Q1k60i+KJK8YcAwAAJDzUud32zDQq8URvImzNqw2pqChh574nPiciZ6joTmmO6yOsxa8sMU10HvbVeeS8wAAbgyrGIQkyS9NOuVDbEy+U71ZUl5rYfpi+WJpYVBeulm5U2dM4ENIOsQvfySoGG0MAACU81nngts+0LzFJLyfs0+sUKa7oaOeFZ0VnaWevqFUplOspLMqvMHFQ9CG21znlfMAAGsMpBh5JLsvPDrSQ1ZMpVOjWTdeTmHdYtxiTWE0Xp9ZoVNRTM1DNzq2L3UkoRhpDAAAl/Ng54zbTNDNxTi8trNnrGqm16HAnjGdMp3BntmhbqZrrLqzPbzSxVHQkNtj55nzAABnDJwYbiStLys6vkM/TI1TiVkcXjJhwGLAYjBhGV6FWYlTO0y5QyY6qC9qJJkYZQwAAJvzZ+eX21rQ3sVMvMyzf6yEpvKh3J5OnU+d3p71oYimhKzRs1G848Vf0Jvbauec8wAAYwyVGGQkny8aOqpDKUx1U29ZAF4WYaRio2IUYf1da1lwUyRMpUMVOpovYCSSGGIMAACe827notto0O7FYLzis5isnqYNoviea51rnfqeEKKippys57NlvPTFbdCm23HnoPMAAGAMjhhZJJEvCTqXQxNMXFNVWeVd+mCHYoZi+GDiXVFZWFMOTJFDBDqML1UkixheDAAAovN156zbdtD/xXO8+LOwrLimKaIUn4ediJ0WnyuivKa0rP2zeLwExnrQsNt456TzAABcDIcYTySDL/g5g0P9S0RTO1nKXd1gamJqYtxgx103WUBT+Et+Q/M5fy9LJIQYWwwAAKbzfee324TQEMaHvA60yKzSpkSiMZ+knaWdMp9HotamzKwTtIy8FcaI0LvbgOen8wAAWQyAGEQkdi/nOW9D50ssUyFZrl3BYE5iTWLAYKxdHVkoU+JLakPiOXEvQCR9GFcMAACp84TnwduR0CHGmrwktOCs7KZfok2fwZ3BnU6fYqLwpuWsKbSgvCbGltDF24fnq/MAAFUMeRg5JGgv1zlcQ9FLFFMHWZNdpWAxYjBio2CQXQRZD1PMS1dD0TljLzUkdhhTDAAArfOL58zbn9Ayxq68OrT4rAane6Jpn92d3p1rn32iCaf9rD+0s7w3xqTQ0NuO567zAABSDHIYLyRaL8Y5SEO7S/xS7Vh4XYlgFGIUYodgdV3qWPdStktDQ8E5VS8rJG8YUAwAALDzkufW263QQ8bCvFC0EK0gp5aihZ/6nfqdh5+YoiOnFa1VtMe8SMay0Nrbleey8wAATgxrGCQkTC+1OTVDpUvjUtNYXV1tYPhh92FrYFpd0FjfUqBLL0OwOUgvICRoGEwMAAC085nn4du70FPG1bxmtCmtOqexoqGfFp4XnqOftKI9py2ta7TavFjGv9Dl25zntvMAAEoMYxgaJD4vpDkhQ49Ly1K6WEJdUWDbYdthT2A/XbZYx1KKSxxDnzk6LxYkYBhJDAAAt/Og5+vbyNBkxum8fLRBrVOnzKK9nzOeM56/n8+iV6dFrYG07rxpxs3Q79uj57nzAABHDFwYDyQxL5M5DUN5S7NSoFgmXTVgv2G+YTNgJF2cWK9SdEsIQ445LC8LJFkYRQwAALvzp+f229bQdcb8vJK0Wa1tp+ei2Z9PnlCe25/qonGnXa2XtAG9esbb0Prbque98wAAQwxVGAUkIy+DOfpCY0ubUoZYC10ZYKNhomEXYAldgliXUl5L9UJ+OR4vASRSGEIMAAC/867nANzk0IbGEL2otHGth6cCo/WfbJ5snvefBaOKp3WtrbQVvYvG6dAE3LHnwPMAAEAMThj6IxUvcjnnQk1Lg1JsWPBc/V+GYYZh+1/uXGlYf1JIS+FCbTkRL/YjSxg+DAAAwvO15wvc8tCWxiO9vrSJraGnHaMRoIieiZ4ToCCjpKeNrcO0KL2bxvbQD9y458TzAAA8DEcY8CMIL2E500I3S2tSU1jVXOFfamFpYd9f01xPWGdSMkvOQlw5Ay/sI0QYOgwAAMbzvOcV3P/Qp8Y3vdS0oa26pzijLaCknqWeLqA7o76npa3ZtDy9rMYE0Rncv+fH8wAAOQxAGOYj+i5ROcBCIUtTUjlYulzFX05hTWHEX7hcNVhPUhxLu0JMOfUu4iM9GDcMAADJ88PnINwN0bjGSr3qtLmt1KdTo0mgwZ7BnkqgVqPYp72t77RPvb3GEtEk3Mbny/MAADUMORjbI+wuQDmsQgtLO1IfWJ9cqV8xYTFhqF+dXBxYN1IHS6dCOznoLtcjNhgzDAAAzfPL5yrcG9HIxl29ALXRre6nbqNkoN2e3Z5moHGj8afVrQS1Yr3Nxh/RLtzN587zAAAxDC8YyiPULh85gkLXSv1R2FdPXFBf0WDLYD5fMVywV85RokpKQug4oS6fIw8YHwwAAOPz+Odv3HfRPcfpvaG1hq61qEWkSKHKn9CfW6FjpN2ota7WtSC+dMeq0ZrcGOj18wAACgziF1gjPi5oOK1B50n3UL5WJ1sfXptflV8NXglbl1bHULNJdUExOAsuLCPBF/gLAAAK9EXo4dwN0vPHvr6QtoyvzqltpXmiAKEGoYyiiqX2qbyvxbb1virIQNIN3WXoHPQAAOMLlRfmIqgtsTfYQPhI8U+lVQBa7lxlXl9e3FziWX5VwU/ESKFAezd2LboidBfRCwAAMfSS6FPdotKqyJK/f7eSsOeqlKaqozWiPKK8o7GmDqvBsLS3yb/gyNXSf92y6EL0AAC8C0gXdCITLfs2BEAKSOtOjVTZWL5bMF0qXaxbvFhmVLxO1UfNP8U24CxIIicXqgsAAFf03+jF3TfTYMlmwG24l7H/q7qn2qRqo3Cj7KTXpyasxrGiuJ3Alslq0/Hd/+hp9AAAlQv7FgIifixGNjE/HEfmTXZTs1ePWvxb9lt8WpZXT1O3TedG+j4PNkws1yHaFoMLAAB+9CzpN97M0xXKOcFbuZyyFq3fqAmmnqSkpBum/ag9rcuykLlwwUvK/9Ni3kzpkPQAAG8LrhaQIeorkDVePi5G4kxfUo5WYFnIWsJaTllxVjhSs0z6RSc+WjW3K2UhjhZdCwAApfR46ajeYNTKygzCSbqgsy2uBKo3p9Gl16VJpyGqU67Ps326QsIAy5PU096Y6bb0AABIC2EWHyFWK9w0iz1BRd5LSFFqVTJYlVmPWSBYTFUhUbBLDUVUPaU0Iyv0IEEWNgsAAMv0xekZ3/TUf8vewjW7o7RDryirZagEpwqnd6hGq2mv0rRpuxXDtcsn1UTf5end9AAAIgsVFq4gwionNLk8VETbSjNQRlQEV2NYXVjyVilUDFCsSiBEgjzxM48qgyD1FRALAADy9BHqit+I1TPMsMMivKa1WLBMrJKpNqg8qKSpaax/sNW1Vrzmw2nMutW13zHqA/UAAPsKyRU9IC4qczPnO2hD2EkeTyNT11UxVytXxVUFU/dOqkk1Q7E7PTP8KRIgqRXqCgAAGPVd6vvfHNbnzIHEDb2ptm2xb62/qmepbanRqoytlLHXtkG9uMQdzU7WJuB96ir1AADVCn0VzR+bKb8yFjt9QtZICU4AUqtUAFb6VZlU41HiTahISULgOooyaSmiH10VwwoAAD71qepr4K/Wms1Sxfm9qreBspGu66uYqp6q/auurqiy2bcsvonF0M3h1pbgyepQ9QAArwoxFVwfCCkMMkU6kkHVR/VM3lCAU9BUylRuU8FQz0ynR15BDzrWMdYoMh8RFZ0KAABk9fXq3OBC103OI8bjvqy4lbOzrxatyKvOqyit0K+7s9q4F79ZxoPOc9cG4RXrdvUAAIgK5RTsHnUoWTF1OadA1EbiS71PVVKhU5pTQ1KgT7tLpkZ0QD85JDFDKMIexhR3CgAAi/VA60zh1NcAz/PGzr+suai01LBArves/axSrvGwzrTauQHAKcc2zwbYduFg65z1AABiCpoUfR7jJ6cwpTi+P9RFz0qcTitRclJrUhlRf06pSqZFij9vOHEwsSdSHnoUUQoAALH1jOu74WbYss/Dx7fArLq6tfSxaq8mriyufK8RsuC12rrrwPnH6M+Y2ObhrOvC9QAAPApOFA0eUSf1L9Y31D7URL1JfE0BUENRPVHvT19Nl0mmRKE+oDe/Lx8n4x0vFCsKAADX9dfrK+L42GTQksigway7zLYUs5OwVK9ar6WwMbPyttq71MHIyJrQKdlV4vfr6PUAABYKAxSeHb8mQy8HN+s91UOrSFxM2E4WUBBQxk4/TIVIp0O4PdE2Di+OJnQd5BMFCgAA/PUi7JriidkW0WHJicKrvN23M7S8sYGwh7DOsVC0A7jZvLzClslL0bvZxOJC7A72AADxCbgTLx0uJpIuODYDPdZCmkc9S7BN6U7jTp5NIUt0R6hC0DwDNl0u/SUFHZkT3wkAACL2bewJ4xvax9EvynHDqb3uuFK15LKusbSx9rJvtRS5172kw2TK/NFM2jPjjew09gAAywltE8AcnSXhLWo1GzzYQYpGH0qITLxNtk13TAJKZEaqQeg7NTWsLWwllhxOE7oJAABI9rjsd+Os2njS/cpZxKe+/rlwtgu02rLgsh20jLYkutW+jMQyy63S3dqh49fsWfYAAKUJIxNRHAwlMC2dNDM72kB6RQFJYUuRTItMUEvlSFRFrUAAO2c0+yzbJCccAxOUCQAAbvYD7ebjPNso08rLQMWkvw27jbcytQW0C7REtaq3M7vSv3PF/8td023bEOQi7X/2AACACdgS4xt8JIAszzNMOt0/a0TkRztKZUtgSylKyEdFRLA/GjqaM0ssSyS5G7kSbgkAAJP2Te1U5Mzb2NOXzCfGocAcvKq4WLYwtTa1arbGuEK8z8BaxszMDdT9237kbO2k9gAAWgmOEnUb7CPQKwMzZjnhPl1DyEYVSTtKNUoESaxGN0OzPjM5zTKcK7sjSxtvEkkJAAC49pftwuRc3IjUZM0Nx53BKr3GuX23WrZgto+34rlQvcvBQMeZzbzUjdzs5LftyvYAADUJQxIHG1wjISs2MoA45T1PQqxF8EcRSQtJ30eQRSlCtz1OOAEy7CorI90aJBIkCQAA3vbi7TDl7Nw31TDO88eZwji+4bqiuIO3ibe0uP66Xr7GwiXIZc5r1R3dWuUB7u/2AAAPCfkRmRrMInIqazGbN+k8QUGRRMxG6EfiR7pGdUQcQbw8aDc2MT0qnCJwGtoR/ggAAAP3LO6d5Xvd5tX7ztjIlMNFv/y7xrmsuLK42LkYvGu/wcMKyTDPGtas3cflS+4U9wAA6giwESwaPSLDKZ8wtjbvOzVAd0OoRcBGukaXRVtDD0DBO4Q2ajCPKQ0iAhqREdkIAAAo93XuC+YK3pTWxs+8yY/EUsAWveq61Lnaufu6Mr13wLzE78n7z8jWO9405pTuOfcAAMUIZhG/Ga8hFSnUL9E19DooP11ChUSYRZJFdERBQgM/xzqfNaAv4Sh+IZUZRxG0CAAATfe/7njmmd5C15HQocqJxV3BML4MvPy6AbsevEy+g8G2xdPKxtB218neoebe7l/3AACgCBwRUhkgIWcoCi/uNPs5HT5EQWJDcURrRFFDKEH3Pc45uzTVLjMo8CApGf0QjwgAAHL3CO/k5iff8Ndb0YTLgsZpwkm/L70ivCi8QL1lv47Cr8a2y5DRJNhX3w7nJ++E9wAAewjTEOUYkiC6J0AuCjQBORI9K0BBQktDRUMvQg9A7DzVONgzCy6GJ2IgvBi0EGoIAACX91LvUee1353YJdJnzHvHc8NhwFC+SL1OvWG+fcCZw6jHmcxa0tHY5d9653HvqPcAAFYIihB5GAQgDCd2LSczCTgHPBM/H0ElQh9CDkH3PuI73Df1MkIt2SbUH1AYaxBFCAAAvPeb773nQ+BK2e7SSs1zyH7EecFxv26+dL6Cv5XBo8SgyHzNI9N+2XPg5ue67833AAAxCEAQDRh2H2AmrSxFMhE3/jr8Pf8/AEH6QO4/4D3YOuQ2EzJ5LCwmRh/kFyIQIAgAAOH35O8p6NDg9tm30yzOa8mHxZDCkcCTv5m/osCswqzFmMlezuzTKtoA4VLoA/Dy9wAADQj4D6EX6R6zJeQrYzEZNvQ55TzfPts/1T/OPsk8zzntNTExsCuAJbkeeBfZD/wHAAAG+C3wlehd4aPagNQOz2LKkMamw7HBt8C9wMLBwsO1xo/KP8+01NbajeG+6EvwF/gAAOgHrw81F1weByUcK4EwIjXsOM87wD23PrE+rj2zO8c49jRQMOgq1CQsHgwXkA/XBwAAKvh28AHp6uFO20jV789Zy5nHvMTQwtvB4MHhwtjEvceFyyDQfNWC2xriKumU8Dv4AADDB2YPyhbQHVwkVCqhLyw05De5OqE8lD2OPZA8nTq/N/8zby8gKigkoB2hFkgPsgcAAE/4vvBs6Xfi+tsQ1tDQT8ygyNLF7sP+wgPD/8PtxcXIfMwB0UPWLdym4pXp3PBg+AAAnwceD14WQx2xI40pwC42M9w2pDmDO3E8azxyO4g5tzYKM48uWSl9IxQdNhb/Do4HAAB0+Abx1+kD46Xc19aw0UXNqMnmxgzFIMQmxB3FAsfMyXHN4dEK19jcMuMA6iXxhPgAAHoH1Q7zFbccBiPGKOAtQDLVNZA4ZTpPO0k7VDp0OLA1FDKvLZIo0yKIHMsVtw5qBwAAmPhP8ULqj+NP3Z3XkNI6zq7K+scpxkLFR8U6xhbI08pmzsHS0deD3b7ja+pt8an4AABWB40OiRUrHFsi/ycBLUwxzzR8N0k5LjooOjg5YDeqNCAx0CzMJygi/BtgFW8ORQcAALz4l/Gt6hrk+t1k2G/TL8+0yw7JRcdjxmjGV8cpydnLW8+g05fYLd5K5NXqtfHN+AAAMgdFDh4VoBuxITknIixXMMkzaTYtOA05BzkbOE02pDMrMPErBid+IXEb9hQnDiEHAADg+N/xF+um5KTeKtlN1CPQuswhymHIg8eJx3LIPMrezE7QftRd2dfe1eRA6/3x8fgAAA0H/g20FBUbCCF0JkMrZC/EMlY1ETftN+c3ADc7NZ8yOC8TK0Am1SDmGosU3w39BgAABfkm8oHrMeVN3+/ZLNUW0b/NM8t9yaPIqMiOyU7L481C0VzVItqA32DlqutE8hX5AADpBrYNShSKGl4griVlKnAuvzFENPY1zjbINuU1KTSbMUUuNSp7JSsgWxohFJgN2QYAACn5bvLr67vl9t+02gnWCdLDzkTMl8rCycjJqMpgzOfONdI61ufaKeDq5RTsjPI5+QAAxQZuDeATABq1H+okiCl+LbswMzPcNK81qTXLNBgzlzBSLVcptySDH9EZuBNQDbUGAABN+bXyVexF5p/gedvn1vvSx89VzbHL4MrmysLLcc3rzyfTF9es29LgdOZ97NPyXfkAAKEGJw12E3UZDR8lJKsojCy4LyIywjORNIs0sTMHMpMvYCx6KPIj2h5HGU4TCQ2RBgAAcfn98r7s0OZH4T3cw9ft08rQZs7KzP7LBMzbzIHO7tAZ1PTXcNx64f7m5+wa84H5AAB9BuAMDRPsGGQeYSPPJ5ortS4SMakyczNuM5gy9zCQLm8rnicvIzIevRjlEsIMbQYAAJT5RPMo7Vnn8OEA3Z/Y39TN0XbP480bzSHN9M2Rz/HRCtXQ2DPdIuKI51DtYfOl+QAAWgaZDKQSYhi9HZ4i8yapKrItAzCRMVYyUTKAMegvji1+KsImayKKHTMYfBJ7DEkGAAC4+Yvzke3j55fixN172c/Vz9KF0PvOOM4+zgzPoNDz0vvVrNn23cniEei57ajzyfkAADYGUgw7EtkXFR3bIRcmuCmxLPQueTA6MTQxaDDZLo0sjSnnJagh4xyqFxMSNAwmBgAA3PnR8/rtbOg+44beV9rA1tDTk9ET0FTPWs8k0K/R9NPr1ofaud5x45roIe7v8+z5AAASBgsM0hFQF24cGCE8JcgoryvlLWIvHjAZMFEvyi2LK50oDCXmIDwcIReqEe4LAgYAAP/5GPRi7vXo5eNJ3zHbr9fR1KHSKtFv0HXQOtG80vXU2tdh23vfF+Qj6YruNvQQ+gAA7wXFC2oRxxbHG1YgYSTZJ68q2CxLLgMv/i46Lr0siyquJzEkJCCVG5kWQhGnC94FAAAj+l/0yu596YzkC+AM3J/Y0dWv00DSitGQ0VHSytP11crYPNw94L7kq+ny7nz0M/oAAMsFfgsCET8WIRuUH4cj6iavKcsrNS3pLeMtJS2wK4spvyZYI2If7xoQFtoQYQu7BQAARvql9DLvBeoy5czg5dyN2dHWvNRW06TSqtJm09fU9da42RXd/uBk5TTqWu/C9Ff6AACoBTgLmhC3FXsa0x6uIvwlryi+KiAszyzKLA8soyqMKNElfiKhHkkaiRVyEBsLmAUAAGr66/Sa743q2OWN4b/de9rQ18jVa9S908PTe9Tj1fTXptrv3b/hCua76sLvCPV6+gAAhQXyCjIQLxXVGRIe1SEOJbAnsikLK7YrsSv7KpcpjSfjJKUh4B2kGQEVChDVCnQFAACN+jH1AvAV633mTuKY3mnbz9jU1n/V1tTc1JDV7tby2JTbx96A4q/mQ+sp8E71nfoAAGEFrArKD6gUMBlSHfwgICSyJqco9ymeKpgq5ymMKI4m9iPNICAd/xh6FKMPjwpRBQAAsPp39WnwnOsi5w7jcN9W3M3Z39eT1u7V9NWj1vnX8NmB3KDfQONU58rrkfCU9cD6AAA+BWYKYw8gFIsYkhwkIDQjtCWcJ+QohimAKdMogSeRJQkj9R9gHFoY8hM8D0kKLgUAANP6vfXR8CPsx+fO40jgQ93K2unYptcG1wzXttcE2e7abd134ADk+OdR7Pjw2vXk+gAAGwUhCvwOmhPnF9IbTB9HIrckkibRJ24oaSjAJ3cmlCQdIh0foBu1F2wT1Q4DCgsFAAD2+gL2N/Gq7GvojeQf4S/ex9vz2bjYHdgj2MnYDdrr21neT+G/5J3o2Oxe8R/2B/sAAPgE2wmVDhMTQxcTG3UeWyG6I4glviZYJ1InriZuJZcjMSFGHuEaERflEm4OvgnoBAAAGftH9p7xMO0P6Uzl9uEa38Tc/NrK2TPZOdnb2Rfb59xF3yXifuVB6V7txfFl9in7AADVBJYJLw6NEp8WVBqfHXAgviJ/JK0lQiY8JpwlZSSbIkYgbx0jGm4WXxIIDnkJxQQAADz7jfYF8rbts+kL5s3iBeDA3QXc3NpJ2k/a7Nof3OPdL+D84jzm5Onk7SvyqvZM+wAAsgRRCcgNBxL7FZYZyByGH8MhdyOcJCwlJyWLJF0joCFbH5kcZRnKFdkRoQ00CaIEAABf+9L2a/I87lbqyeaj4/Dgu94N3e3bXttk2/3bJ93e3hrh0uP65ofqau6S8u/2b/sAAJAEDAliDYERWBXYGPMbmx7IIG8iiyMYJBIkeyNVIqUgcR7EG6cYJxVUETsN7wiABAAAgvsX99Hywu756ofneOTa4bbfFN793HPceNwN3S/e2d8E4qfkuOcq6+/u+PI095L7AABtBMcI/Az8ELYUGxgdG7IdzR9oIXwiAyP+ImsiTiGqH4gd7hrpF4UUzhDWDKoIXQQAAKT7W/c380fvnOtE6E3lw+Kw4BvfDN6G3YzdHN4239Pg7eJ85XXozOt0713zePe0+wAASgSCCJcMdxATFF4XSRrIHNQeYSBsIfAh6iFcIUcgsR6fHBoaLBfjE0oQcAxlCDoEAADH+6D3nPPM7z7sAeki5qzjqeEi4Bvfmt6f3ivfPODM4dbjUOYy6W7s+e/D87331/sAACgEPggxDPIPcROhFnQZ4BvaHVsfXiDdINcgTSBBH7cdthtGGXAWQRPFDwsMIQgYBAAA6vvl9wL0UPDg7L3p9uaU5KLiJ+Ep4Kzfst864EHhxeK+5CTn7ukQ7X3wKPQB+Pn7AAAFBPkHzAttD9AS5RWgGPga4RxWHlAfyx/FHz8fPB6/HM4achi0FZ8SQA+lC90H9QMAAAz8Kfhn9NXwge156snnfOWb4yziN+G+4MTgR+FH4r3jpuX456rqse0C8Y30Rvgc/AAA4wO1B2cL6Q4uEikVzRcQGukbUR1CHrkesx4yHjcdxxvmGZ8X+BT+EbwOQQuYB9MDAAAu/G34zPRZ8SLuNeud6GPmk+Qx40Ti0OHV4VTiS+O15I3my+hm61LuhvHy9Ir4PvwAAMADcQcCC2UOjRFuFPoWKRnyGk0cNR2oHaIdJR0zHM8a/xjMFj0UXRE5DtwKVAexAwAAUfyx+DD13PHD7vDrb+lK54rlNeRR4+Hi5uJh40/kreV0553pIezz7gnyVvXO+GD8AACeAy0HngriDe0QsxMoFkIY+xlJGykclxySHBkcLxvYGRkY+RWCE70QtQ13ChEHjwMAAHP89fiV9WDyY++r7EHqMeiB5jjlXeTx4/bjbeRS5aPmWuhw6tvsk++M8rv1EfmD/AAAfAPpBjkKXw1NEPgSVhVcFwQZRhoeG4cbghsOGywa4hgzFygVyBIdEDINEwrNBmwDAACV/Dn5+fXj8gPwZe0T6xbpd+c75mjlAOUG5XjlVeaZ50DpQeuV7TPwEPMf9lX5pfwAAFoDpgbVCdwMrQ8+EoQUdxYOGEQZExp4GnMaAxoqGewXThZWFA4SfQ+vDK8JiQZKAwAAt/x8+V32ZvOj8B/u5Ov86W3oPudz5g/mFeaD5lfnj+gl6hLsT+7T8JLzg/aY+cf8AAA4A2IGcQlZDA0PhBGzE5IVGRdCGAgZaRlkGfgYKBj2FmkVhRNUEd4OLAxLCUYGKAMAANn8wPnB9ujzQvHY7rXs4Opi6T/ofece5yPnjedZ6ITpCuvj7AnvcvEV9Of23Pnp/AAAFgMfBg4J1gtuDssQ4xKtFCQWQBf+F1sYVhjuFyYXAhaEFLUSmxA/DqoL6AgDBgYDAAD7/AP6JPdr9OHxku+F7cXrVupA6YboK+gx6JboWul56u7rs+3C7xHyl/RK9x/6Cv0AAPQC3AWqCFQL0A0SEBMSyRMvFT8W9RZOF0kX5RYmFg0VoBPlEeIPoA0oC4QIvwXlAgAAHf1G+oj37fSA8krwVe6o7EvrQeqP6TnpPumf6VrqbevR7IPuevCv8hn1rfdi+iz9AADSApkFRwjTCjENWg9DEeYSPBQ/Fe0VQRY8Ft0VJhUaFL0SFREqDwINpgohCH0FwwIAAD79ifrr9271HvMC8SXvjO0+7EHrmOpF6krqp+pa62Dste1S7zLxTfOa9RD4pfpO/QAAsQJWBeQHUQqTDKIOdBADEkgTQBTkFDUVLxXVFCYUJhPaEUYQcg5kDCUKvgc6BaECAABg/cz6Tfjw9bzzuvH0727uMe1A7J/rUetW66/rWuxT7ZfuIfDq8evzHPZz+Oj6cP0AAI8CEwWBB9AJ9gvqDaUPIBFWEkAT3RMpFCQUzRMnEzQS+BB4D7oNxgukCVwH9wSAAgAAgv0O+7D4cfZZ9HLywvBR7yPuP+2m7FzsYuy27FjtRe557+/wofKI9J321vgq+5H9AABuAtAEHwdPCVgLMw3XDj4QZBFCEtYSHhMZE8YSKRJCERYQqg4DDSkLIwn5BrUEXgIAAKP9UfsT+fL29vQp85DxMvAV7z3ure1n7Wztve1W7jfvW/C98VjzJfUd9zj5bfuz/QAATAKOBLwGzgi7CnwMCQ5dD3IQRBHQERQSDhLAESsRUBA0D9wNTAyMCqIIlwZyBD0CAADF/ZP7dfly95P13/Ne8hTxB/A777Puce537sPuVO8o8Dzxi/IP9ML1nvea+a/71P0AACsCTARaBk4IHwrFCzwNfA6BD0cQyhAKEQURuxAtEF8PVA4PDZYL8AkiCDUGMAQbAgAA5v3V+9f58vcw9pb0K/P08ffwOPC473vvgO/I71HwGfEd8ljzxfRe9h74/Pnx+/X9AAAJAgoE+AXOB4IJEAtvDJwNkA5KD8UPARD7D7YPMQ9vDnMNQgzgClQJogfTBe4D+gEAAAf+F/w5+nL4zPZL9ffz1PLo8TTxvfCE8InwzfBO8Qny/fIk9Hv1+vae+F76M/wX/gAA6AHIA5cFTgfmCFoKowu8DKANTg7BDvgO8w6xDjQOfw2TDHYLKwq4CCIHcgWsA9kBAAAp/ln8mvry+Gf3AfbD9LTz1/Iw8sHxjPGR8dHxSfL58tzz8PQw9pb3Hfm/+nX8OP4AAMcBhgM1Bc4GSwilCdcK3AuxDFINvQ3wDesNrQ05DZAMtAuqCnYJHAijBhAFagO4AQAASv6b/Pv6cfkD+Lb2j/WT9MfzLPPF8pTymfLV8kXz6PO79Lz15fYx+J35IPu3/Fn+AACmAUQD1ARPBrAH8AgLCv0KwgtXDLkM6AzjDKoMPgyhC9UK3wnBCIEHJAavBCkDlwEAAGv+3fxd+/D5nvhq91r2cvW19Cb0yPOb86Dz1/M/9Nf0mvWH9pn3zPgc+oH7+Px6/gAAhQEDA3ME0AUVBzwIQAkfCtQKXAu3C+IL3AunC0MLsgr3CRQJDQjmBqUFTgTnAnYBAACM/h79vftv+jn5Hvgl91D2o/Uh9cr0ovSn9Nr0OvXF9Xj2UvdN+Gf5mvri+zr9m/4AAGQBwQISBFIFegaIB3YIQQnmCWIKtQrbCtYKpQpJCsUJGQlJCFkHTAYnBe0DpgJVAQAArf5f/R787vrT+dL47/cu95H2GvbM9aj1rfXc9TP2svZW9xz4AfkB+hn7Q/x7/bz+AABDAYACsgPTBOAF1AasB2MI+QhpCbMJ1gnQCaQJUAnXCDwIfwemBrIFqASNA2UCNAEAAM3+of1//Gz7bfqF+bn4C/h+9xP3zvat9rL23fYs95/3M/jl+LT5m/qX+6P8vP3d/gAAIgE/AlEDVQRGBSEG4gaHBwwIcAiyCNAIywijCFcI6wdfB7YG8wUYBSoELQMkAhMBAADu/uL93/zq+wf7OPqD+ej4avgM+M73sve39973JfiL+A/5r/ln+jX7FfwD/f39/f4AAAEB/gHxAtcDrQRuBRkGqgYgB3gHsgfMB8cHogdfB/8GggbtBUAFfwStA80C4wHyAAAAD/8i/j/9Z/yg++v6S/rE+Vb5BPnO+Lb4u/je+B35d/nr+Xj6GfvO+5L8Y/0+/h7/AADhAL0BkQJaAxQEvARQBc4FNAaABrIGyAbDBqIGZwYTBqcFJAWOBOYDLwNtAqIB0gAAADD/Y/6f/eX8Ofyd+xT7oPpC+vv5zvm6+b/53fkU+mP6x/pA+8v7Z/wP/cP9fv4//wAAwAB9ATIC3QJ7AwoEiATzBEkFiQWzBcUFwAWjBXAFKAXLBFwE3ANNA7ICDQJhAbEAAABQ/6T+/v1i/dH8T/zc+3v7Lfvy+s36vfrC+tz6C/tN+6L7CPx9/P/8jP0i/r/+X/8AAKAAPAHSAWAC4gJZA8ADGAReBJIEtATCBL0EpQR6BD0E8AOUAyoDtQI1Aq4BIQGRAAAAcf/k/l7+3/1q/QD9pPxV/Bf86fvL+7/7xPvb+wH8OPx9/M/8Lv2X/Qn+gv7//n//AAB/APwAcwHjAUoCpwL5Aj0DdAOcA7YDwAO7A6cDhANTAxYDzQJ5Ah0CuQFPAeEAcAAAAJH/JP+9/lv+Av6x/Wv9MP0B/d78yfzB/Mb82Pz3/CH9V/2W/d/9L/6G/uH+P/+g/wAAXwC7ABQBZwGzAfcBMgJjAosCpwK4Ar4CuQKpAo4CagI8AgYCyQGFATwB8AChAFAAAACx/2X/HP/X/pn+Yv4x/gn+6v3U/cb9wv3H/dX97P0L/jD+Xf6P/sf+Av9A/4D/wP8AAD8AewC1AOsAGwFGAWsBigGiAbIBuwG9AbgBrAGaAYEBYwFAARkB7gDAAJEAYQAwAAAA0v+l/3r/U/8w/xL/+P7j/tP+yP7D/sP+yP7S/uH+8/4K/yP/P/9e/37/nv+//+D/AAAeADsAVgBvAIQAlgClALEAuQC+AL8AvQC4ALAApQCZAIoAegBpAFcARQAyACEAEAAAAPL/5P/Z/8//x//B/73/u/+7/7z/v//D/8j/zv/V/9v/4v/p/+//9P/5//3///8AAAAAAAAAAAAAAAAAAAAAAAAAAAAAAAAAAAAAAAAAAAAAAAAAAAAAAAAAAAAAAAAAAAAAAAAAAAAAAAAAAAAAAAAAAAAAAAAAAAAAAAAAAAAAAAAAAAAAAAAAAAAAAAAAAAAAAAAAAAAAAAAAAAAAAAAAAAAAAAAAAAAAAAAAAAAAAAAAAAAAAAAAAAAAAAAAAAAAAAAAAAAAAAAAAAAAAAAAAAAAAAAAAAAAAAAAAAAAAAAAAAAAAAAAAAAAAAAAAAAAAAAAAAAAAAAAAAAAAAAAAAAAAAAAAAAAAAAAAAAAAAAAAAAAAAAAAAAAAAAAAAAAAAAAAAAAAAAAAAAAAAAAAAAAAAAAAAAAAAAAAAAAAAAAAAAAAAAAAAAAAAAAAAAAAAAAAAAAAAAAAAAAAAAAAAAAAAAAAAAAAAAAAAAAAAAAAAAAAAAAAAAAAAAAAAAAAAAAAAAAAAAAAAAAAAAAAAAAAAAAAAAAAAAAAAAAAAAAAAAAAAAAAAAAAAAAAAAAAAAAAAAAAAAAAAAAAAAAAAAAAAAAAAAAAAAAAAAAAAAAAAAAAAAAAAAAAAAAAAAAAAAAAAAAAAAAAAAAAAAAAAAAAAAAAAAAAAAAAAAAAAAAAAAAAAAAAAAAAAAAAAAAAAAAAAAAAAAAAAAAAAAAAAAAAAAAAAAAAAAAAAAAAAAAAAAAAAAAAAAAAAAAAAAAAAAAAAAAAAAAAAAAAAAAAAAAAAAAAAAAAAAAAAAAAAAAAAAAAAAAAAAAAAAAAAAAAAAAAAAAAAAAAAAAAAAAAAAAAAAAAAAAAAAAAAAAAAAAAAAAAAAAAAAAAAAAAAAAAAAAAAAAAAAAAAAAAAAAAAAAAAAAAAAAAAAAAAAAAAAAAAAAAAAAAAAAAAAAAAAAAAAAAAAAAAAAAAAAAAAAAAAAAAAAAAAAAAAAAAAAAAAAAAAAAAAAAAAAAAAAAAAAAAAAAAAAAAAAAAAAAAAAAAAAAAAAAAAAAAAAAAAAAAAAAAAAAAAAAAAAAAAAAAAAAAAAAAAAAAAAAAAAAAAAAAAAAAAAAAAAAAAAAAAAAAAAAAAAAAAAAAAAAAAAAAAAAAAAAAAAAAAAAAAAAAAAAAAAAAAAAAAAAAAAAAAAAAAAAAAAAAAAAAAAAAAAAAAAAAAAAAAAAAAAAAAAAAAAAAAAAAAAAAAAAAAAAAAAAAAAAAAAAAAAAAAAAAAAAAAAAAAAAAAAAAAAAAAAAAAAAAAAAAAAAAAAAAAAAAAAAAAAAAAAAAAAAAAAAAAAAAAAAAAAAAAAAAAAAAAAAAAAAAAAAAAAAAAAAAAAAAAAAAAAAAAAAAAAAAAAAAAAAAAAAAAAAAAAAAAAAAAAAAAAAAAAAAAAAAAAAAAAAAAAAAAAAAAAAAAAAAAAAAAAAAAAAAAAAAAAAAAAAAAAAAAAAAAAAAAAAAAAAAAAAAAAAAAAAAAAAAAAAAAAAAAAAAAAAAAAAAAAAAAAAAAAAAAAAAAAAAAAAAAAAAAAAAAAAAAAAAAAAAAAAAAAAAAAAAAAAAAAAAAAAAAAAAAAAAAAAAAAAAAAAAAAAAAAAAAAAAAAAAAAAAAAAAAAAAAAAAAAAAAAAAAAAAAAAAAAAAAAAAAAAAAAAAAAAAAAAAAAAAAAAAAAAAAAAAAAAAAAAAAAAAAAAAAAAAAAAAAAAAAAAAAAAAAAAAAAAAAAAAAAAAAAAAAAAAAAAAAAAAAAAAAAAAAAAAAAAAAAAAAAAAAAAAAAAAAAAAAAAAAAAAAAAAAAAAAAAAAAAAAAAAAAAAAAAAAAAAAAAAAAAAAAAAAAAAAAAAAAAAAAAAAAAAAAAAAAAAAAAAAAAAAAAAAAAAAAAAAAAAAAAAAAAAAAAAAAAAAAAAAAAAAAAAAAAAAAAAAAAAAAAAAAAAAAAAAAAAAAAAAAAAAAAAAAAAAAAAAAAAAAAAAAAAAAAAAAAAAAAAAAAAAAAAAAAAAAAAAAAAAAAAAAAAAAAAAAAAAAAAAAAAAAAAAAAAAAAAAAAAAAAAAAAAAAAAAAAAAAAAAAAAAAAAAAAAAAAAAAAAAAAAAAAAAAAAAAAAAAAAAAAAAAAAAAAAAAAAAAAAAAAAAAAAAAAAAAAAAAAAAAAAAAAAAAAAAAAAAAAAAAAAAAAAAAAAAAAAAAAAAAAAAAAAAAAAAAAAAAAAAAAAAAAAAAAAAAAAAAAAAAAAAAAAAAAAAAAAAAAAAAAAAAAAAAAAAAAAAAAAAAAAAAAAAAAAAAAAAAAAAAAAAAAAAAAAAAAAAAAAAAAAAAAAAAAAAAAAAAAAAAAAAAAAAAAAAAAAAAAAAAAAAAAAAAAAAAAAAAAAAAAAAAAAAAAAAAAAAAAAAAAAAAAAAAAAAAAAAAAAAAAAAAAAAAAAAAAAAAAAAAAAAAAAAAAAAAAAAAAAAAAAAAAAAAAAAAAAAAAAAAAAAAAAAAAAAAAAAAAAAAAAAAAAAAAAAAAAAAAAAAAAAAAAAAAAAAAAAAAAAAAAAAAAAAAAAAAAAAAAAAAAAAAAAAAAAAAAAAAAAAAAAAAAAAAAAAAAAAAAAAAAAAAAAAAAAAAAAAAAAAAAAAAAAAAAAAAAAAAAAAAAAAAAAAAAAAAAAAAAAAAAAAAAAAAAAAAAAAAAAAAAAAAAAAAAAAAAAAAAAAAAAAAAAAAAAAAAAAAAAAAAAAAAAAAAAAAAAAAAAAAAAAAAAAAAAAAAAAAAAAAAAAAAAAAAAAAAAAAAAAAAAAAAAAAAAAAAAAAAAAAAAAAAAAAAAAAAAAAAAAAAAAAAAAAAAAAAAAAAAAAAAAAAAAAAAAAAAAAAAAAAAAAAAAAAAAAAAAAAAAAAAAAAAAAAAAAAAAAAAAAAAAAAAAAAAAAAAAAAAAAAAAAAAAAAAAAAAAAAAAAAAAAAAAAAAAAAAAAAAAAAAAAAAAAAAAAAAAAAAAAAAAAAAAAAAAAAAAAAAAAAAAAAAAAAAAAAAAAAAAAAAAAAAAAAAAAAAAAAAAAAAAAAAAAAAAAAAAAAAAAAAAAAAAAAAAAAAAAAAAAAAAAAAAAAAAAAAAAAAAAAAAAAAAAAAAAAAAAAAAAAAAAAAAAAAAAAAAAAAAAAAAAAAAAAAAAAAAAAAAAAAAAAAAAAAAAAAAAAAAAAAAAAAAAAAAAAAAAAAAAAAAAAAAAAAAAAAAAAAAAAAAAAAAAAAAAAAAAAAAAAAAAAAAAAAAAAAAAAAAAAAAAAAAAAAAAAAAAAAAAAAAAAAAAAAAAAAAAAAAAAAAAAAAAAAAAAAAAAAAAAAAAAAAAAAAAAAAAAAAAAAAAAAAAAAAAAAAAAAAAAAAAAAAAAAAAAAAAAAAAAAAAAAAAAAAAAAAAAAAAAAAAAAAAAAAAAAAAAAAAAAAAAAAAAAAAAAAAAAAAAAAAAAAAAAAAAAAAAAAAAAAAAAAAAAAAAAAAAAAAAAAAAAAAAAAAAAAAAAAAAAAAAAAAAAAAAAAAAAAAAAAAAAAAAAAAAAAAAAAAAAAAAAAAAAAAAAAAAAAAAAAAAAAAAAAAAAAAAAAAAAAAAAAAAAAAAAAAAAAAAAAAAAAAAAAAAAAAAAAAAAAAAAAAAAAAAAAAAAAAAAAAAAAAAAAAAAAAAAAAAAAAAAAAAAAAAAAAAAAAAAAAAAAAAAAAAAAAAAAAAAAAAAAAAAAAAAAAAAAAAAAAAAAAAAAAAAAAAAAAAAAAAAAAAAAAAAAAAAAAAAAAAAAAAAAAAAAAAAAAAAAAAAAAAAAAAAAAAAAAAAAAAAAAAAAAAAAAAAAAAAAAAAAAAAAAAAAAAAAAAAAAAAAAAAAAAAAAAAAAAAAAAAAAAAAAAAAAAAAAAAAAAAAAAAAAAAAAAAAAAAAAAAAAAAAAAAAAAAAAAAAAAAAAAAAAAAAAAAAAAAAAAAAAAAAAAAAAAAAAAAAAAAAAAAAAAAAAAAAAAAAAAAAAAAAAAAAAAAAAAAAAAAAAAAAAAAAAAAAAAAAAAAAAAAAAAAAAAAAAAAAAAAAAAAAAAAAAAAAAAAAAAAAAAAAAAAAAAAAAAAAAAAAAAAAAAAAAAAAAAAAAAAAAAAAAAAAAAAAAAAAAAAAAAAAAAAAAAAAAAAAAAAAAAAAAAAAAAAAAAAAAAAAAAAAAAAAAAAAAAAAAAAAAAAAAAAAAAAAAAAAAAAAAAAAAAAAAAAAAAAAAAAAAAAAAAAAAAAAAAAAAAAAAAAAAAAAAAAAAAAAAAAAAAAAAAAAAAAAAAAAAAAAAAAAAAAAAAAAAAAAAAAAAAAAAAAAAAAAAAAAAAAAAAAAAAAAAAAAAAAAAAAAAAAAAAAAAAAAAAAAAAAAAAAAAAAAAAAAAAAAAAAAAAAAAAAAAAAAAAAAAAAAAAAAAAAAAAAAAAAAAAAAAAAAAAAAAAAAAAAAAAAAAAAAAAAAAAAAAAAAAAAAAAAAAAAAAAAAAAAAAAAAAAAAAAAAAAAAAAAAAAAAAAAAAAAAAAAAAAAAAAAAAAAAAAAAAAAAAAAAAAAAAAAAAAAAAAAAAAAAAAAAAAAAAAAAAAAAAAAAAAAAAAAAAAAAAAAAAAAAAAAAAAAAAAAAAAAAAAAAAAAAAAAAAAAAAAAAAAAAAAAAAAAAAAAAAAAAAAAAAAAAAAAAAAAAAAAAAAAAAAAAAAAAAAAAAAAAAAAAAAAAAAAAAAAAAAAAAAAAAAAAAAAAAAAAAAAAAAAAAAAAAAAAAAAAAAAAAAAAAAAAAAAAAAAAAAAAAAAAAAAAAAAAAAAAAAAAAAAAAAAAAAAAAAAAAAAAAAAAAAAAAAAAAAAAAAAAAAAAAAAAAAAAAAAAAAAAAAAAAAAAAAAAAAAAAAAAAAAAAAAAAAAAAAAAAAAAAAAAAAAAAAAAAAAAAAAAAAAAAAAAAAAAAAAAAAAAAAAAAAAAAAAAAAAAAAAAAAAAAAAAAAAAAAAAAAAAAAAAAAAAAAAAAAAAAAAAAAAAAAAAAAAAAAAAAAAAAAAAAAAAAAAAAAAAAAAAAAAAAAAAAAAAAAAAAAAAAAAAAAAAAAAAAAAAAAAAAAAAAAAAAAAAAAAAAAAAAAAAAAAAAAAAAAAAAAAAAAAAAAAAAAAAAAAAAAAAAAAAAAAAAAAAAAAAAAAAAAAAAAAAAAAAAAAAAAAAAAAAAAAAAAAAAAAAAAAAAAAAAAAAAAAAAAAAAAAAAAAAAAAAAAAAAAAAAAAAAAAAAAAAAAAAAAAAAAAAAAAAAAAAAAAAAAAAAAAAAAAAAAAAAAAAAAAAAAAAAAAAAAAAAAAAAAAAAAAAAAAAAAAAAAAAAAAAAAAAAAAAAAAAAAAAAAAAAAAAAAAAAAAAAAAAAAAAAAAAAAAAAAAAAAAAAAAAAAAAAAAAAAAAAAAAAAAAAAAAAAAAAAAAAAAAAAAAAAAAAAAAAAAAAAAAAAAAAAAAAAAAAAAAAAAAAAAAAAAAAAAAAAAAAAAAAAAAAAAAAAAAAAAAAAAAAAAAAAAAAAAAAAAAAAAAAAAAAAAAAAAAAAAAAAAAAAAAAAAAAAAAAAAAAAAAAAAAAAAAAAAAAAAAAAAAAAAAAAAAAAAAAAAAAAAAAAAAAAAAAAAAAAAAAAAAAAAAAAAAAAAAAAAAAAAAAAAAAAAAAAAAAAAAAAAAAAAAAAAAAAAAAAAAAAAAAAAAAAAAAAAAAAAAAAAAAAAAAAAAAAAAAAAAAAAAAAAAAAAAAAAAAAAAAAAAAAAAAAAAAAAAAAAAAAAAAAAAAAAAAAAAAAAAAAAAAAAAAAAAAAAAAAAAAAAAAAAAAAAAAAAAAAAAAAAAAAAAAAAAAAAAAAAAAAAAAAAAAAAAAAAAAAAAAAAAAAAAAAAAAAAAAAAAAAAAAAAAAAAAAAAAAAAAAAAAAAAAAAAAAAAAAAAAAAAAAAAAAAAAAAAAAAAAAAAAAAAAAAAAAAAAAAAAAAAAAAAAAAAAAAAAAAAAAAAAAAAAAAAAAAAAAAAAAAAAAAAAAAAAAAAAAAAAAAAAAAAAAAAAAAAAAAAAAAAAAAAAAAAAAAAAAAAAAAAAAAAAAAAAAAAAAAAAAAAAAAAAAAAAAAAAAAAAAAAAAAAAAAAAAAAAAAAAAAAAAAAAAAAAAAAAAAAAAAAAAAAAAAAAAAAAAAAAAAAAAAAAAAAAAAAAAAAAAAAAAAAAAAAAAAAAAAAAAAAAAAAAAAAAAAAAAAAAAAAAAAAAAAAAAAAAAAAAAAAAAAAAAAAAAAAAAAAAAAAAAAAAAAAAAAAAAAAAAAAAAAAAAAAAAAAAAAAAAAAAAAAAAAAAAAAAAAAAAAAAAAAAAAAAAAAAAAAAAAAAAAAAAAAAAAAAAAAAAAAAAAAAAAAAAAAAAAAAAAAAAAAAAAAAAAAAAAAAAAAAAAAAAAAAAAAAAAAAAAAAAAAAAAAAAAAAAAAAAAAAAAAAAAAAAAAAAAAAAAAAAAAAAAAAAAAAAAAAAAAAAAAAAAAAAAAAAAAAAAAAAAAAAAAAAAAAAAAAAAAAAAAAAAAAAAAAAAAAAAAAAAAAAAAAAAAAAAAAAAAAAAAAAAAAAAAAAAAAAAAAAAAAAAAAAAAAAAAAAAAAAAAAAAAAAAAAAAAAAAAAAAAAAAAAAAAAAAAAAAAAAAAAAAAAAAAAAAAAAAAAAAAAAAAAAAAAAAAAAAAAAAAAAAAAAAAAAAAAAAAAAAAAAAAAAAAAAAAAAAAAAAAAAAAAAAAAAAAAAAAAAAAAAAAAAAAAAAAAAAAAAAAAAAAAAAAAAAAAAAAAAAAAAAAAAAAAAAAAAAAAAAAAAAAAAAAAAAAAAAAAAAAAAAAAAAAAAAAAAAAAAAAAAAAAAAAAAAAAAAAAAAAAAAAAAAAAAAAAAAAAAAAAAAAAAAAAAAAAAAAAAAAAAAAAAAAAAAAAAAAAAAAAAAAAAAAAAAAAAAAAAAAAAAAAAAAAAAAAAAAAAAAAAAAAAAAAAAAAAAAAAAAAAAAAAAAAAAAAAAAAAAAAAAAAAAAAAAAAAAAAAAAAAAAAAAAAAAAAAAAAAAAAAAAAAAAAAAAAAAAAAAAAAAAAAAAAAAAAAAAAAAAAAAAAAAAAAAAAAAAAAAAAAAAAAAAAAAAAAAAAAAAAAAAAAAAAAAAAAAAAAAAAAAAAAAAAAAAAAAAAAAAAAAAAAAAAAAAAAAAAAAAAAAAAAAAAAAAAAAAAAAAAAAAAAAAAAAAAAAAAAAAAAAAAAAAAAAAAAAAAAAAAAAAAAAAAAAAAAAAAAAAAAAAAAAAAAAAAAAAAAAAAAAAAAAAAAAAAAAAAAAAAAAAAAAAAAAAAAAAAAAAAAAAAAAAAAAAAAAAAAAAAAAAAAAAAAAAAAAAAAAAAAAAAAAAAAAAAAAAAAAAAAAAAAAAAAAAAAAAAAAAAAAAAAAAAAAAAAAAAAAAAAAAAAAAAAAAAAAAAAAAAAAAAAAAAAAAAAAAAAAAAAAAAAAAAAAAAAAAAAAAAAAAAAAAAAAAAAAAAAAAAAAAAAAAAAAAAAAAAAAAAAAAAAAAAAAAAAAAAAAAAAAAAAAAAAAAAAAAAAAAAAAAAAAAAAAAAAAAAAAAAAAAAAAAAAAAAAAAAAAAAAAAAAAAAAAAAAAAAAAAAAAAAAAAAAAAAAAAAAAAAAAAAAAAAAAAAAAAAAAAAAAAAAAAAAAAAAAAAAAAAAAAAAAAAAAAAAAAAAAAAAAAAAAAAAAAAAAAAAAAAAAAAAAAAAAAAAAAAAAAAAAAAAAAAAAAAAAAAAAAAAAAAAAAAAAAAAAAAAAAAAAAAAAAAAAAAAAAAAAAAAAAAAAAAAAAAAAAAAAAAAAAAAAAAAAAAAAAAAAAAAAAAAAAAAAAAAAAAAAAAAAAAAAAAAAAAAAAAAAAAAAAAAAAAAAAAAAAAAAAAAAAAAAAAAAAAAAAAAAAAAAAAAAAAAAAAAAAAAAAAAAAAAAAAAAAAAAAAAAAAAAAAAAAAAAAAAAAAAAAAAAAAAAAAAAAAAAAAAAAAAAAAAAAAAAAAAAAAAAAAAAAAAAAAAAAAAAAAAAAAAAAAAAAAAAAAAAAAAAAAAAAAAAAAAAAAAAAAAAAAAAAAAAAAAAAAAAAAAAAAAAAAAAAAAAAAAAAAAAAAAAAAAAAAAAAAAAAAAAAAAAAAAAAAAAAAAAAAAAAAAAAAAAAAAAAAAAAAAAAAAAAAAAAAAAAAAAAAAAAAAAAAAAAAAAAAAAAAAAAAAAAAAAAAAAAAAAAAAAAAAAAAAAAAAAAAAAAAAAAAAAAAAAAAAAAAAAAAAAAAAAAAAAAAAAAAAAAAAAAAAAAAAAAAAAAAAAAAAAAAAAAAAAAAAAAAAAAAAAAAAAAAAAAAAAAAAAAAAAAAAAAAAAAAAAAAAAAAAAAAAAAAAAAAAAAAAAAAAAAAAAAAAAAAAAAAAAAAAAAAAAAAAAAAAAAAAAAAAAAAAAAAAAAAAAAAAAAAAAAAAAAAAAAAAAAAAAAAAAAAAAAAAAAAAAAAAAAAAAAAAAAAAAAAAAAAAAAAAAAAAAAAAAAAAAAAAAAAAAAAAAAAAAAAAAAAAAAAAAAAAAAAAAAAAAAAAAAAAAAAAAAAAAAAAAAAAAAAAAAAAAAAAAAAAAAAAAAAAAAAAAAAAAAAAAAAAAAAAAAAAAAAAAAAAAAAAAAAAAAAAAAAAAAAAAAAAAAAAAAAAAAAAAAAAAAAAAAAAAAAAAAAAAAAAAAAAAAAAAAAAAAAAAAAAAAAAAAAAAAAAAAAAAAAAAAAAAAAAAAAAAAAAAAAAAAAAAAAAAAAAAAAAAAAAAAAAAAAAAAAAAAAAAAAAAAAAAAAAAAAAAAAAAAAAAAAAAAAAAAAAAAAAAAAAAAAAAAAAAAAAAAAAAAAAAAAAAAAAAAAAAAAAAAAAAAAAAAAAAAAAAAAAAAAAAAAAAAAAAAAAAAAAAAAAAAAAAAAAAAAAAAAAAAAAAAAAAAAAAAAAAAAAAAAAAAAAAAAAAAAAAAAAAAAAAAAAAAAAAAAAAAAAAAAAAAAAAAAAAAAAAAAAAAAAAAAAAAAAAAAAAAAAAAAAAAAAAAAAAAAAAAAAAAAAAAAAAAAAAAAAAAAAAAAAAAAAAAAAAAAAAAAAAAAAAAAAAAAAAAAAAAAAAAAAAAAAAAAAAAAAAAAAAAAAAAAAAAAAAAAAAAAAAAAAAAAAAAAAAAAAAAAAAAAAAAAAAAAAAAAAAAAAAAAAAAAAAAAAAAAAAAAAAAAAAAAAAAAAAAAAAAAAAAAAAAAAAAAAAAAAAAAAAAAAAAAAAAAAAAAAAAAAAAAAAAAAAAAAAAAAAAAAAAAAAAAAAAAAAAAAAAAAAAAAAAAAAAAAAAAAAAAAAAAAAAAAAAAAAAAAAAAAAAAAAAAAAAAAAAAAAAAAAAAAAAAAAAAAAAAAAAAAAAAAAAAAAAAAAAAAAAAAAAAAAAAAAAAAAAAAAAAAAAAAAAAAAAAAAAAAAAAAAAAAAAAAAAAAAAAAAAAAAAAAAAAAAAAAAAAAAAAAAAAAAAAAAAAAAAAAAAAAAAAAAAAAAAAAAAAAAAAAAAAAAAAAAAAAAAAAAAAAAAAAAAAAAAAAAAAAAAAAAAAAAAAAAAAAAAAAAAAAAAAAAAAAAAAAAAAAAAAAAAAAAAAAAAAAAAAAAAAAAAAAAAAAAAAAAAAAAAAAAAAAAAAAAAAAAAAAAAAAAAAAAAAAAAAAAAAAAAAAAAAAAAAAAAAAAAAAAAAAAAAAAAAAAAAAAAAAAAAAAAAAAAAAAAAAAAAAAAAAAAAAAAAAAAAAAAAAAAAAAAAAAAAAAAAAAAAAAAAAAAAAAAAAAAAAAAAAAAAAAAAAAAAAAAAAAAAAAAAAAAAAAAAAAAAAAAAAAAAAAAAAAAAAAAAAAAAAAAAAAAAAAAAAAAAAAAAAAAAAAAAAAAAAAAAAAAAAAAAAAAAAAAAAAAAAAAAAAAAAAAAAAAAAAAAAAAAAAAAAAAAAAAAAAAAAAAAAAAAAAAAAAAAAAAAAAAAAAAAAAAAAAAAAAAAAAAAAAAAAAAAAAAAAAAAAAAAAAAAAAAAAAAAAAAAAAAAAAAAAAAAAAAAAAAAAAAAAAAAAAAAAAAAAAAAAAAAAAAAAAAAAAAAAAAAAAAAAAAAAAAAAAAAAAAAAAAAAAAAAAAAAAAAAAAAAAAAAAAAAAAAAAAAAAAAAAAAAAAAAAAAAAAAAAAAAAAAAAAAAAAAAAAAAAAAAAAAAAAAAAAAAAAAAAAAAAAAAAAAAAAAAAAAAAAAAAAAAAAAAAAAAAAAAAAAAAAAAAAAAAAAAAAAAAAAAAAAAAAAAAAAAAAAAAAAAAAAAAAAAAAAAAAAAAAAAAAAAAAAAAAAAAAAAAAAAAAAAAAAAAAAAAAAAAAAAAAAAAAAAAAAAAAAAAAAAAAAAAAAAAAAAAAAAAAAAAAAAAAAAAAAAAAAAAAAAAAAAAAAAAAAAAAAAAAAAAAAAAAAAAAAAAAAAAAAAAAAAAAAAAAAAAAAAAAAAAAAAAAAAAAAAAAAAAAAAAAAAAAAAAAAAAAAAAAAAAAAAAAAAAAAAAAAAAAAAAAAAAAAAAAAAAAAAAAAAAAAAAAAAAAAAAAAAAAAAAAAAAAAAAAAAAAAAAAAAAAAAAAAAAAAAAAAAAAAAAAAAAAAAAAAAAAAAAAAAAAAAAAAAAAAAAAAAAAAAAAAAAAAAAAAAAAAAAAAAAAAAAAAAAAAAAAAAAAAAAAAAAAAAAAAAAAAAAAAAAAAAAAAAAAAAAAAAAAAAAAAAAAAAAAAAAAAAAAAAAAAAAAAAAAAAAAAAAAAAAAAAAAAAAAAAAAAAAAAAAAAAAAAAAAAAAAAAAAAAAAAAAAAAAAAAAAAAAAAAAAAAAAAAAAAAAAAAAAAAAAAAAAAAAAAAAAAAAAAAAAAAAAAAAAAAAAAAAAAAAAAAAAAAAAAAAAAAAAAAAAAAAAAAAAAAAAAAAAAAAAAAAAAAAAAAAAAAAAAAAAAAAAAAAAAAAAAAAAAAAAAAAAAAAAAAAAAAAAAAAAAAAAAAAAAAAAAAAAAAAAAAAAAAAAAAAAAAAAAAAAAAAAAAAAAAAAAAAAAAAAAAAAAAAAAAAAAAAAAAAAAAAAAAAAAAAAAAAAAAAAAAAAAAAAAAAAAAAAAAAAAAAAAAAAAAAAAAAAAAAAAAAAAAAAAAAAAAAAAAAAAAAAAAAAAAAAAAAAAAAAAAAAAAAAAAAAAAAAAAAAAAAAAAAAAAAAAAAAAAAAAAAAAAAAAAAAAAAAAAAAAAAAAAAAAAAAAAAAAAAAAAAAAAAAAAAAAAAAAAAAAAAAAAAAAAAAAAAAAAAAAAAAAAAAAAAAAAAAAAAAAAAAAAAAAAAAAAAAAAAAAAAAAAAAAAAAAAAAAAAAAAAAAAAAAAAAAAAAAAAAAAAAAAAAAAAAAAAAAAAAAAAAAAAAAAAAAAAAAAAAAAAAAAAAAAAAAAAAAAAAAAAAAAAAAAAAAAAAAAAAAAAAAAAAAAAAAAAAAAAAAAAAAAAAAAAAAAAAAAAAAAAAAAAAAAAAAAAAAAAAAAAAAAAAAAAAAAAAAAAAAAAAAAAAAAAAAAAAAAAAAAAAAAAAAAAAAAAAAAAAAAAAAAAAAAAAAAAAAAAAAAAAAAAAAAAAAAAAAAAAAAAAAAAAAAAAAAAAAAAAAAAAAAAAAAAAAAAAAAAAAAAAAAAAAAAAAAAAAAAAAAAAAAAAAAAAAAAAAAAAAAAAAAAAAAAAAAAAAAAAAAAAAAAAAAAAAAAAAAAAAAAAAAAAAAAAAAAAAAAAAAAAAAAAAAAAAAAAAAAAAAAAAAAAAAAAAAAAAAAAAAAAAAAAAAAAAAAAAAAAAAAAAAAAAAAAAAAAAAAAAAAAAAAAAAAAAAAAAAAAAAAAAAAAAAAAAAAAAAAAAAAAAAAAAAAAAAAAAAAAAAAAAAAAAAAAAAAAAAAAAAAAAAAAAAAAAAAAAAAAAAAAAAAAAAAAAAAAAAAAAAAAAAAAAAAAAAAAAAAAAAAAAAAAAAAAAAAAAAAAAAAAAAAAAAAAAAAAAAAAAAAAAAAAAAAAAAAAAAAAAAAAAAAAAAAAAAAAAAAAAAAAAAAAAAAAAAAAAAAAAAAAAAAAAAAAAAAAAAAAAAAAAAAAAAAAAAAAAAAAAAAAAAAAAAAAAAAAAAAAAAAAAAAAAAAAAAAAAAAAAAAAAAAAAAAAAAAAAAAAAAAAAAAAAAAAAAAAAAAAAAAAAAAAAAAAAAAAAAAAAAAAAAAAAAAAAAAAAAAAAAAAAAAAAAAAAAAAAAAAAAAAAAAAAAAAAAAAAAAAAAAAAAAAAAAAAAAAAAAAAAAAAAAAAAAAAAAAAAAAAAAAAAAAAAAAAAAAAAAAAAAAAAAAAAAAAAAAAAAAAAAAAAAAAAAAAAAAAAAAAAAAAAAAAAAAAAAAAAAAAAAAAAAAAAAAAAAAAAAAAAAAAAAAAAAAAAAAAAAAAAAAAAAAAAAAAAAAAAAAAAAAAAAAAAAAAAAAAAAAAAAAAAAAAAAAAAAAAAAAAAAAAAAAAAAAAAAAAAAAAAAAAAAAAAAAAAAAAAAAAAAAAAAAAAAAAAAAAAAAAAAAAAAAAAAAAAAAAAAAAAAAAAAAAAAAAAAAAAAAAAAAAAAAAAAAAAAAAAAAAAAAAAAAAAAAAAAAAAAAAAAAAAAAAAAAAAAAAAAAAAAAAAAAAAAAAAAAAAAAAAAAAAAAAAAAAAAAAAAAAAAAAAAAAAAAAAAAAAAAAAAAAAAAAAAAAAAAAAAAAAAAAAAAAAAAAAAAAAAAAAAAAAAAAAAAAAAAAAAAAAAAAAAAAAAAAAAAAAAAAAAAAAAAAAAAAAAAAAAAAAAAAAAAAAAAAAAAAAAAAAAAAAAAAAAAAAAAAAAAAAAAAAAAAAAAAAAAAAAAAAAAAAAAAAAAAAAAAAAAAAAAAAAAAAAAAAAAAAAAAAAAAAAAAAAAAAAAAAAAAAAAAAAAAAAAAAAAAAAAAAAAAAAAAAAAAAAAAAAAAAAAAAAAAAAAAAAAAAAAAAAAAAAAAAAAAAAAAAAAAAAAAAAAAAAAAAAAAAAAAAAAAAAAAAAAAAAAAAAAAAAAAAAAAAAAAAAAAAAAAAAAAAAAAAAAAAAAAAAAAAAAAAAAAAAAAAAAAAAAAAAAAAAAAAAAAAAAAAAAAAAAAAAAAAAAAAAAAAAAAAAAAAAAAAAAAAAAAAAAAAAAAAAAAAAAAAAAAAAAAAAAAAAAAAAAAAAAAAAAAAAAAAAAAAAAAAAAAAAAAAAAAAAAAAAAAAAAAAAAAAAAAAAAAAAAAAAAAAAAAAAAAAAAAAAAAAAAAAAAAAAAAAAAAAAAAAAAAAAAAAAAAAAAAAAAAAAAAAAAAAAAAAAAAAAAAAAAAAAAAAAAAAAAAAAAAAAAAAAAAAAAAAAAAAAAAAAAAAAAAAAAAAAAAAAAAAAAAAAAAAAAAAAAAAAAAAAAAAAAAAAAAAAAAAAAAAAAAAAAAAAAAAAAAAAAAAAAAAAAAAAAAAAAAAAAAAAAAAAAAAAAAAAAAAAAAAAAAAAAAAAAAAAAAAAAAAAAAAAAAAAAAAAAAAAAAAAAAAAAAAAAAAAAAAAAAAAAAAAAAAAAAAAAAAAAAAAAAAAAAAAAAAAAAAAAAAAAAAAAAAAAAAAAAAAAAAAAAAAAAAAAAAAAAAAAAAAAAAAAAAAAAAAAAAAAAAAAAAAAAAAAAAAAAAAAAAAAAAAAAAAAAAAAAAAAAAAAAAAAAAAAAAAAAAAAAAAAAAAAAAAAAAAAAAAAAAAAAAAAAAAAAAAAAAAAAAAAAAAAAAAAAAAAAAAAAAAAAAAAAAAAAAAAAAAAAAAAAAAAAAAAAAAAAAAAAAAAAAAAAAAAAAAAAAAAAAAAAAAAAAAAAAAAAAAAAAAAAAAAAAAAAAAAAAAAAAAAAAAAAAAAAAAAAAAAAAAAAAAAAAAAAAAAAAAAAAAAAAAAAAAAAAAAAAAAAAAAAAAAAAAAAAAAAAAAAAAAAAAAAAAAAAAAAAAAAAAAAAAAAAAAAAAAAAAAAAAAAAAAAAAAAAAAAAAAAAAAAAAAAAAAAAAAAAAAAAAAAAAAAAAAAAAAAAAAAAAAAAAAAAAAAAAAAAAAAAAAAAAAAAAAAAAAAAAAAAAAAAAAAAAAAAAAAAAAAAAAAAAAAAAAAAAAAAAAAAAAAAAAAAAAAAAAAAAAAAAAAAAAAAAAAAAAAAAAAAAAAAAAAAAAAAAAAAAAAAAAAAAAAAAAAAAAAAAAAAAAAAAAAAAAAAAAAAAAAAAAAAAAAAAAAAAAAAAAAAAAAAAAAAAAAAAAAAAAAAAAAAAAAAAAAAAAAAAAAAAAAAAAAAAAAAAAAAAAAAAAAAAAAAAAAAAAAAAAAAAAAAAAAAAAAAAAAAAAAAAAAAAAAAAAAAAAAAAAAAAAAAAAAAAAAAAAAAAAAAAAAAAAAAAAAAAAAAAAAAAAAAAAAAAAAAAAAAAAAAAAAAAAAAAAAAAAAAAAAAAAAAAAAAAAAAAAAAAAAAAAAAAAAAAAAAAAAAAAAAAAAAAAAAAAAAAAAAAAAAAAAAAAAAAAAAAAAAAAAAAAAAAAAAAAAAAAAAAAAAAAAAAAAAAAAAAAAAAAAAAAAAAAAAAAAAAAAAAAAAAAAAAAAAAAAAAAAAAAAAAAAAAAAAAAAAAAAAAAAAAAAAAAAAAAAAAAAAAAAAAAAAAAAAAAAAAAAAAAAAAAAAAAAAAAAAAAAAAAAAAAAAAAAAAAAAAAAAAAAAAAAAAAAAAAAAAAAAAAAAAAAAAAAAAAAAAAAAAAAAAAAAAAAAAAAAAAAAAAAAAAAAAAAAAAAAAAAAAAAAAAAAAAAAAAAAAAAAAAAAAAAAAAAAAAAAAAAAAAAAAAAAAAAAAAAAAAAAAAAAAAAAAAAAAAAAAAAAAAAAAAAAAAAAAAAAAAAAAAAAAAAAAAAAAAAAAAAAAAAAAAAAAAAAAAAAAAAAAAAAAAAAAAAAAAAAAAAAAAAAAAAAAAAAAAAAAAAAAAAAAAAAAAAAAAAAAAAAAAAAAAAAAAAAAAAAAAAAAAAAAAAAAAAAAAAAAAAAAAAAAAAAAAAAAAAAAAAAAAAAAAAAAAAAAAAAAAAAAAAAAAAAAAAAAAAAAAAAAAAAAAAAAAAAAAAAAAAAAAAAAAAAAAAAAAAAAAAAAAAAAAAAAAAAAAAAAAAAAAAAAAAAAAAAAAAAAAAAAAAAAAAAAAAAAAAAAAAAAAAAAAAAAAAAAAAAAAAAAAAAAAAAAAAAAAAAAAAAAAAAAAAAAAAAAAAAAAAAAAAAAAAAAAAAAAAAAAAAAAAAAAAAAAAAAAAAAAAAAAAAAAAAAAAAAAAAAAAAAAAAAAAAAAAAAAAAAAAAAAAAAAAAAAAAAAAAAAAAAAAAAAAAAAAAAAAAAAAAAAAAAAAAAAAAAAAAAAAAAAAAAAAAAAAAAAAAAAAAAAAAAAAAAAAAAAAAAAAAAAAAAAAAAAAAAAAAAAAAAAAAAAAAAAAAAAAAAAAAAAAAAAAAAAAAAAAAAAAAAAAAAAAAAAAAAAAAAAAAAAAAAAAAAAAAAAAAAAAAAAAAAAAAAAAAAAAAAAAAAAAAAAAAAAAAAAAAAAAAAAAAAAAAAAAAAAAAAAAAAAAAAAAAAAAAAAAAAAAAAAAAAAAAAAAAAAAAAAAAAAAAAAAAAAAAAAAAAAAAAAAAAAAAAAAAAAAAAAAAAAAAAAAAAAAAAAAAAAAAAAAAAAAAAAAAAAAAAAAAAAAAAAAAAAAAAAAAAAAAAAAAAAAAAAAAAAAAAAAAAAAAAAAAAAAAAAAAAAAAAAAAAAAAAAAAAAAAAAAAAAAAAAAAAAAAAAAAAAAAAAAAAAAAAAAAAAAAAAAAAAAAAAAAAAAAAAAAAAAAAAAAAAAAAAAAAAAAAAAAAAAAAAAAAAAAAAAAAAAAAAAAAAAAAAAAAAAAAAAAAAAAAAAAAAAAAAAAAAAAAAAAAAAAAAAAAAAAAAAAAAAAAAAAAAAAAAAAAAAAAAAAAAAAAAAAAAAAAAAAAAAAAAAAAAAAAAAAAAAAAAAAAAAAAAAAAAAAAAAAAAAAAAAAAAAAAAAAAAAAAAAAAAAAAAAAAAAAAAAAAAAAAAAAAAAAAAAAAAAAAAAAAAAAAAAAAAAAAAAAAAAAAAAAAAAAAAAAAAAAAAAAAAAAAAAAAAAAAAAAAAAAAAAAAAAAAAAAAAAAAAAAAAAAAAAAAAAAAAAAAAAAAAAAAAAAAAAAAAAAAAAAAAAAAAAAAAAAAAAAAAAAAAAAAAAAAAAAAAAAAAAAAAAAAAAAAAAAAAAAAAAAAAAAAAAAAAAAAAAAAAAAAAAAAAAAAAAAAAAAAAAAAAAAAAAAAAAAAAAAAAAAAAAAAAAAAAAAAAAAAAAAAAAAAAAAAAAAAAAAAAAAAAAAAAAAAAAAAAAAAAAAAAAAAAAAAAAAAAAAAAAAAAAAAAAAAAAAAAAAAAAAAAAAAAAAAAAAAAAAAAAAAAAAAAAAAAAAAAAAAAAAAAAAAAAAAAAAAAAAAAAAAAAAAAAAAAAAAAAAAAAAAAAAAAAAAAAAAAAAAAAAAAAAAAAAAAAAAAAAAAAAAAAAAAAAAAAAAAAAAAAAAAAAAAAAAAAAAAAAAAAAAAAAAAAAAAAAAAAAAAAAAAAAAAAAAAAAAAAAAAAAAAAAAAAAAAAAAAAAAAAAAAAAAAAAAAAAAAAAAAAAAAAAAAAAAAAAAAAAAAAAAAAAAAAAAAAAAAAAAAAAAAAAAAAAAAAAAAAAAAAAAAAAAAAAAAAAAAAAAAAAAAAAAAAAAAAAAAAAAAAAAAAAAAAAAAAAAAAAAAAAAAAAAAAAAAAAAAAAAAAAAAAAAAAAAAAAAAAAAAAAAAAAAAAAAAAAAAAAAAAAAAAAAAAAAAAAAAAAAAAAAAAAAAAAAAAAAAAAAAAAAAAAAAAAAAAAAAAAAAAAAAAAAAAAAAAAAAAAAAAAAAAAAAAAAAAAAAAAAAAAAAAAAAAAAAAAAAAAAAAAAAAAAAAAAAAAAAAAAAAAAAAAAAAAAAAAAAAAAAAAAAAAAAAAAAAAAAAAAAAAAAAAAAAAAAAAAAAAAAAAAAAAAAAAAAAAAAAAAAAAAAAAAAAAAAAAAAAAAAAAAAAAAAAAAAAAAAAAAAAAAAAAAAAAAAAAAAAAAAAAAAAAAAAAAAAAAAAAAAAAAAAAAAAAAAAAAAAAAAAAAAAAAAAAAAAAAAAAAAAAAAAAAAAAAAAAAAAAAAAAAAAAAAAAAAAAAAAAAAAAAAAAAAAAAAAAAAAAAAAAAAAAAAAAAAAAAAAAAAAAAAAAAAAAAAAAAAAAAAAAAAAAAAAAAAAAAAAAAAAAAAAAAAAAAAAAAAAAAAAAAAAAAAAAAAAAAAAAAAAAAAAAAAAAAAAAAAAAAAAAAAAAAAAAAAAAAAAAAAAAAAAAAAAAAAAAAAAAAAAAAAAAAAAAAAAAAAAAAAAAAAAAAAAAAAAAAAAAAAAAAAAAAAAAAAAAAAAAAAAAAAAAAAAAAAAAAAAAAAAAAAAAAAAAAAAAAAAAAAAAAAAAAAAAAAAAAAAAAAAAAAAAAAAAAAAAAAAAAAAAAAAAAAAAAAAAAAAAAAAAAAAAAAAAAAAAAAAAAAAAAAAAAAAAAAAAAAAAAAAAAAAAAAAAAAAAAAAAAAAAAAAAAAAAAAAAAAAAAAAAAAAAAAAAAAAAAAAAAAAAAAAAAAAAAAAAAAAAAAAAAAAAAAAAAAAAAAAAAAAAAAAAAAAAAAAAAAAAAAAAAAAAAAAAAAAAAAAAAAAAAAAAAAAAAAAAAAAAAAAAAAAAAAAAAAAAAAAAAAAAAAAAAAAAAAAAAAAAAAAAAAAAAAAAAAAAAAAAAAAAAAAAAAAAAAAAAAAAAAAAAAAAAAAAAAAAAAAAAAAAAAAAAAAAAAAAAAAAAAAAAAAAAAAAAAAAAAAAAAAAAAAAAAAAAAAAAAAAAAAAAAAAAAAAAAAAAAAAAAAAAAAAAAAAAAAAAAAAAAAAAAAAAAAAAAAAAAAAAAAAAAAAAAAAAAAAAAAAAAAAAAAAAAAAAAAAAAAAAAAAAAAAAAAAAAAAAAAAAAAAAAAAAAAAAAAAAAAAAAAAAAAAAAAAAAAAAAAAAAAAAAAAAAAAAAAAAAAAAAAAAAAAAAAAAAAAAAAAAAAAAAAAAAAAAAAAAAAAAAAAAAAAAAAAAAAAAAAAAAAAAAAAAAAAAAAAAAAAAAAAAAAAAAAAAAAAAAAAAAAAAAAAAAAAAAAAAAAAAAAAAAAAAAAAAAAAAAAAAAAAAAAAAAAAAAAAAAAAAAAAAAAAAAAAAAAAAAAAAAAAAAAAAAAAAAAAAAAAAAAAAAAAAAAAAAAAAAAAAAAAAAAAAAAAAAAAAAAAAAAAAAAAAAAAAAAAAAAAAAAAAAAAAAAAAAAAAAAAAAAAAAAAAAAAAAAAAAAAAAAAAAAAAAAAAAAAAAAAAAAAAAAAAAAAAAAAAAAAAAAAAAAAAAAAAAAAAAAAAAAAAAAAAAAAAAAAAAAAAAAAAAAAAAAAAAAAAAAAAAAAAAAAAAAAAAAAAAAAAAAAAAAAAAAAAAAAAAAAAAAAAAAAAAAAAAAAAAAAAAAAAAAAAAAAAAAAAAAAAAAAAAAAAAAAAAAAAAAAAAAAAAAAAAAAAAAAAAAAAAAAAAAAAAAAAAAAAAAAAAAAAAAAAAAAAAAAAAAAAAAAAAAAAAAAAAAAAAAAAAAAAAAAAAAAAAAAAAAAAAAAAAAAAAAAAAAAAAAAAAAAAAAAAAAAAAAAAAAAAAAAAAAAAAAAAAAAAAAAAAAAAAAAAAAAAAAAAAAAAAAAAAAAAAAAAAAAAAAAAAAAAAAAAAAAAAAAAAAAAAAAAAAAAAAAAAAAAAAAAAAAAAAAAAAAAAAAAAAAAAAAAAAAAAAAAAAAAAAAAAAAAAAAAAAAAAAAAAAAAAAAAAAAAAAAAAAAAAAAAAAAAAAAAAAAAAAAAAAAAAAAAAAAAAAAAAAAAAAAAAAAAAAAAAAAAAAAAAAAAAAAAAAAAAAAAAAAAAAAAAAAAAAAAAAAAAAAAAAAAAAAAAAAAAAAAAAAAAAAAAAAAAAAAAAAAAAAAAAAAAAAAAAAAAAAAAAAAAAAAAAAAAAAAAAAAAAAAAAAAAAAAAAAAAAAAAAAAAAAAAAAAAAAAAAAAAAAAAAAAAAAAAAAAAAAAAAAAAAAAAAAAAAAAAAAAAAAAAAAAAAAAAAAAAAAAAAAAAAAAAAAAAAAAAAAAAAAAAAAAAAAAAAAAAAAAAAAAAAAAAAAAAAAAAAAAAAAAAAAAAAAAAAAAAAAAAAAAAAAAAAAAAAAAAAAAAAAAAAAAAAAAAAAAAAAAAAAAAAAAAAAAAAAAAAAAAAAAAAAAAAAAAAAAAAAAAAAAAAAAAAAAAAAAAAAAAAAAAAAAAAAAAAAAAAAAAAAAAAAAAAAAAAAAAAAAAAAAAAAAAAAAAAAAAAAAAAAAAAAAAAAAAAAAAAAAAAAAAAAAAAAAAAAAAAAAAAAAAAAAAAAAAAAAAAAAAAAAAAAAAAAAAAAAAAAAAAAAAAAAAAAAAAAAAAAAAAAAAAAAAAAAAAAAAAAAAAAAAAAAAAAAAAAAAAAAAAAAAAAAAAAAAAAAAAAAAAAAAAAAAAAAAAAAAAAAAAAAAAAAAAAAAAAAAAAAAAAAAAAAAAAAAAAAAAAAAAAAAAAAAAAAAAAAAAAAAAAAAAAAAAAAAAAAAAAAAAAAAAAAAAAAAAAAAAAAAAAAAAAAAAAAAAAAAAAAAAAAAAAAAAAAAAAAAAAAAAAAAAAAAAAAAAAAAAAAAAAAAAAAAAAAAAAAAAAAAAAAAAAAAAAAAAAAAAAAAAAAAAAAAAAAAAAAAAAAAAAAAAAAAAAAAAAAAAAAAAAAAAAAAAAAAAAAAAAAAAAAAAAAAAAAAAAAAAAAAAAAAAAAAAAAAAAAAAAAAAAAAAAAAAAAAAAAAAAAAAAAAAAAAAAAAAAAAAAAAAAAAAAAAAAAAAAAAAAAAAAAAAAAAAAAAAAAAAAAAAAAAAAAAAAAAAAAAAAAAAAAAAAAAAAAAAAAAAAAAAAAAAAAAAAAAAAAAAAAAAAAAAAAAAAAAAAAAAAAAAAAAAAAAAAAAAAAAAAAAAAAAAAAAAAAAAAAAAAAAAAAAAAAAAAAAAAAAAAAAAAAAAAAAAAAAAAAAAAAAAAAAAAAAAAAAAAAAAAAAAAAAAAAAAAAAAAAAAAAAAAAAAAAAAAAAAAAAAAAAAAAAAAAAAAAAAAAAAAAAAAAAAAAAAAAAAAAAAAAAAAAAAAAAAAAAAAAAAAAAAAAAAAAAAAAAAAAAAAAAAAAAAAAAAAAAAAAAAAAAAAAAAAAAAAAAAAAAAAAAAAAAAAAAAAAAAAAAAAAAAAAAAAAAAAAAAAAAAAAAAAAAAAAAAAAAAAAAAAAAAAAAAAAAAAAAAAAAAAAAAAAAAAAAAAAAAAAAAAAAAAAAAAAAAAAAAAAAAAAAAAAAAAAAAAAAAAAAAAAAAAAAAAAAAAAAAAAAAAAAAAAAAAAAAAAAAAAAAAAAAAAAAAAAAAAAAAAAAAAAAAAAAAAAAAAAAAAAAAAAAAAAAAAAAAAAAAAAAAAAAAAAAAAAAAAAAAAAAAAAAAAAAAAAAAAAAAAAAAAAAAAAAAAAAAAAAAAAAAAAAAAAAAAAAAAAAAAAAAAAAAAAAAAAAAAAAAAAAAAAAAAAAAAAAAAAAAAAAAAAAAAAAAAAAAAAAAAAAAAAAAAAAAAAAAAAAAAAAAAAAAAAAAAAAAAAAAAAAAAAAAAAAAAAAAAAAAAAAAAAAAAAAAAAAAAAAAAAAAAAAAAAAAAAAAAAAAAAAAAAAAAAAAAAAAAAAAAAAAAAAAAAAAAAAAAAAAAAAAAAAAAAAAAAAAAAAAAAAAAAAAAAAAAAAAAAAAAAAAAAAAAAAAAAAAAAAAAAAAAAAAAAAAAAAAAAAAAAAAAAAAAAAAAAAAAAAAAAAAAAAAAAAAAAAAAAAAAAAAAAAAAAAAAAAAAAAAAAAAAAAAAAAAAAAAAAAAAAAAAAAAAAAAAAAAAAAAAAAAAAAAAAAAAAAAAAAAAAAAAAAAAAAAAAAAAAAAAAAAAAAAAAAAAAAAAAAAAAAAAAAAAAAAAAAAAAAAAAAAAAAAAAAAAAAAAAAAAAAAAAAAAAAAAAAAAAAAAAAAAAAAAAAAAAAAAAAAAAAAAAAAAAAAAAAAAAAAAAAAAAAAAAAAAAAAAAAAAAAAAAAAAAAAAAAAAAAAAAAAAAAAAAAAAAAAAAAAAAAAAAAAAAAAAAAAAAAAAAAAAAAAAAAAAAAAAAAAAAAAAAAAAAAAAAAAAAAAAAAAAAAAAAAAAAAAAAAAAAAAAAAAAAAAAAAAAAAAAAAAAAAAAAAAAAAAAAAAAAAAAAAAAAAAAAAAAAAAAAAAAAAAAAAAAAAAAAAAAAAAAAAAAAAAAAAAAAAAAAAAAAAAAAAAAAAAAAAAAAAAAAAAAAAAAAAAAAAAAAAAAAAAAAAAAAAAAAAAAAAAAAAAAAAAAAAAAAAAAAAAAAAAAAAAAAAAAAAAAAAAAAAAAAAAAAAAAAAAAAAAAAAAAAAAAAAAAAAAAAAAAAAAAAAAAAAAAAAAAAAAAAAAAAAAAAAAAAAAAAAAAAAAAAAAAAAAAAAAAAAAAAAAAAAAAAAAAAAAAAAAAAAAAAAAAAAAAAAAAAAAAAAAAAAAAAAAAAAAAAAAAAAAAAAAAAAAAAAAAAAAAAAAAAAAAAAAAAAAAAAAAAAAAAAAAAAAAAAAAAAAAAAAAAAAAAAAAAAAAAAAAAAAAAAAAAAAAAAAAAAAAAAAAAAAAAAAAAAAAAAAAAAAAAAAAAAAAAAAAAAAAAAAAAAAAAAAAAAAAAAAAAAAAAAAAAAAAAAAAAAAAAAAAAAAAAAAAAAAAAAAAAAAAAAAAAAAAAAAAAAAAAAAAAAAAAAAAAAAAAAAAAAAAAAAAAAAAAAAAAAAAAAAAAAAAAAAAAAAAAAAAAAAAAAAAAAAAAAAAAAAAAAAAAAAAAAAAAAAAAAAAAAAAAAAAAAAAAAAAAAAAAAAAAAAAAAAAAAAAAAAAAAAAAAAAAAAAAAAAAAAAAAAAAAAAAAAAAAAAAAAAAAAAAAAAAAAAAAAAAAAAAAAAAAAAAAAAAAAAAAAAAAAAAAAAAAAAAAAAAAAAAAAAAAAAAAAAAAAAAAAAAAAAAAAAAAAAAAAAAAAAAAAAAAAAAAAAAAAAAAAAAAAAAAAAAAAAAAAAAAAAAAAAAAAAAAAAAAAAAAAAAAAAAAAAAAAAAAAAAAAAAAAAAAAAAAAAAAAAAAAAAAAAAAAAAAAAAAAAAAAAAAAAAAAAAAAAAAAAAAAAAAAAAAAAAAAAAAAAAAAAAAAAAAAAAAAAAAAAAAAAAAAAAAAAAAAAAAAAAAAAAAAAAAAAAAAAAAAAAAAAAAAAAAAAAAAAAAAAAAAAAAAAAAAAAAAAAAAAAAAAAAAAAAAAAAAAAAAAAAAAAAAAAAAAAAAAAAAAAAAAAAAAAAAAAAAAAAAAAAAAAAAAAAAAAAAAAAAAAAAAAAAAAAAAAAAAAAAAAAAAAAAAAAAAAAAAAAAAAAAAAAAAAAAAAAAAAAAAAAAAAAAAAAAAAAAAAAAAAAAAAAAAAAAAAAAAAAAAAAAAAAAAAAAAAAAAAAAAAAAAAAAAAAAAAAAAAAAAAAAAAAAAAAAAAAAAAAAAAAAAAAAAAAAAAAAAAAAAAAAAAAAAAAAAAAAAAAAAAAAAAAAAAAAAAAAAAAAAAAAAAAAAAAAAAAAAAAAAAAAAAAAAAAAAAAAAAAAAAAAAAAAAAAAAAAAAAAAAAAAAAAAAAAAAAAAAAAAAAAAAAAAAAAAAAAAAAAAAAAAAAAAAAAAAAAAAAAAAAAAAAAAAAAAAAAAAAAAAAAAAAAAAAAAAAAAAAAAAAAAAAAAAAAAAAAAAAAAAAAAAAAAAAAAAAAAAAAAAAAAAAAAAAAAAAAAAAAAAAAAAAAAAAAAAAAAAAAAAAAAAAAAAAAAAAAAAAAAAAAAAAAAAAAAAAAAAAAAAAAAAAAAAAAAAAAAAAAAAAAAAAAAAAAAAAAAAAAAAAAAAAAAAAAAAAAAAAAAAAAAAAAAAAAAAAAAAAAAAAAAAAAAAAAAAAAAAAAAAAAAAAAAAAAAAAAAAAAAAAAAAAAAAAAAAAAAAAAAAAAAAAAAAAAAAAAAAAAAAAAAAAAAAAAAAAAAAAAAAAAAAAAAAAAAAAAAAAAAAAAAAAAAAAAAAAAAAAAAAAAAAAAAAAAAAAAAAAAAAAAAAAAAAAAAAAAAAAAAAAAAAAAAAAAAAAAAAAAAAAAAAAAAAAAAAAAAAAAAAAAAAAAAAAAAAAAAAAAAAAAAAAAAAAAAAAAAAAAAAAAAAAAAAAAAAAAAAAAAAAAAAAAAAAAAAAAAAAAAAAAAAAAAAAAAAAAAAAAAAAAAAAAAAAAAAAAAAAAAAAAAAAAAAAAAAAAAAAAAAAAAAAAAAAAAAAAAAAAAAAAAAAAAAAAAAAAAAAAAAAAAAAAAAAAAAAAAAAAAAAAAAAAAAAAAAAAAAAAAAAAAAAAAAAAAAAAAAAAAAAAAAAAAAAAAAAAAAAAAAAAAAAAAAAAAAAAAAAAAAAAAAAAAAAAAAAAAAAAAAAAAAAAAAAAAAAAAAAAAAAAAAAAAAAAAAAAAAAAAAAAAAAAAAAAAAAAAAAAAAAAAAAAAAAAAAAAAAAAAAAAAAAAAAAAAAAAAAAAAAAAAAAAAAAAAAAAAAAAAAAAAAAAAAAAAAAAAAAAAAAAAAAAAAAAAAAAAAAAAAAAAAAAAAAAAAAAAAAAAAAAAAAAAAAAAAAAAAAAAAAAAAAAAAAAAAAAAAAAAAAAAAAAAAAAAAAAAAAAAAAAAAAAAAAAAAAAAAAAAAAAAAAAAAAAAAAAAAAAAAAAAAAAAAAAAAAAAAAAAAAAAAAAAAAAAAAAAAAAAAAAAAAAAAAAAAAAAAAAAAAAAAAAAAAAAAAAAAAAAAAAAAAAAAAAAAAAAAAAAAAAAAAAAAAAAAAAAAAAAAAAAAAAAAAAAAAAAAAAAAAAAAAAAAAAAAAAAAAAAAAAAAAAAAAAAAAAAAAAAAAAAAAAAAAAAAAAAAAAAAAAAAAAAAAAAAAAAAAAAAAAAAAAAAAAAAAAAAAAAAAAAAAAAAAAAAAAAAAAAAAAAAAAAAAAAAAAAAAAAAAAAAAAAAAAAAAAAAAAAAAAAAAAAAAAAAAAAAAAAAAAAAAAAAAAAAAAAAAAAAAAAAAAAAAAAAAAAAAAAAAAAAAAAAAAAAAAAAAAAAAAAAAAAAAAAAAAAAAAAAAAAAAAAAAAAAAAAAAAAAAAAAAAAAAAAAAAAAAAAAAAAAAAAAAAAAAAAAAAAAAAAAAAAAAAAAAAAAAAAAAAAAAAAAAAAAAAAAAAAAAAAAAAAAAAAAAAAAAAAAAAAAAAAAAAAAAAAAAAAAAAAAAAAAAAAAAAAAAAAAAAAAAAAAAAAAAAAAAAAAAAAAAAAAAAAAAAAAAAAAAAAAAAAAAAAAAAAAAAAAAAAAAAAAAAAAAAAAAAAAAAAAAAAAAAAAAAAAAAAAAAAAAAAAAAAAAAAAAAAAAAAAAAAAAAAAAAAAAAAAAAAAAAAAAAAAAAAAAAAAAAAAAAAAAAAAAAAAAAAAAAAAAAAAAAAAAAAAAAAAAAAAAAAAAAAAAAAAAAAAAAAAAAAAAAAAAAAAAAAAAAAAAAAAAAAAAAAAAAAAAAAAAAAAAAAAAAAAAAAAAAAAAAAAAAAAAAAAAAAAAAAAAAAAAAAAAAAAAAAAAAAAAAAAAAAAAAAAAAAAAAAAAAAAAAAAAAAAAAAAAAAAAAAAAAAAAAAAAAAAAAAAAAAAAAAAAAAAAAAAAAAAAAAAAAAAAAAAAAAAAAAAAAAAAAAAAAAAAAAAAAAAAAAAAAAAAAAAAAAAAAAAAAAAAAAAAAAAAAAAAAAAAAAAAAAAAAAAAAAAAAAAAAAAAAAAAAAAAAAAAAAAAAAAAAAAAAAAAAAAAAAAAAAAAAAAAAAAAAAAAAAAAAAAAAAAAAAAAAAAAAAAAAAAAAAAAAAAAAAAAAAAAAAAAAAAAAAAAAAAAAAAAAAAAAAAAAAAAAAAAAAAAAAAAAAAAAAAAAAAAAAAAAAAAAAAAAAAAAAAAAAAAAAAAAAAAAAAAAAAAAAAAAAAAAAAAAAAAAAAAAAAAAAAAAAAAAAAAAAAAAAAAAAAAAAAAAAAAAAAAAAAAAAAAAAAAAAAAAAAAAAAAAAAAAAAAAAAAAAAAAAAAAAAAAAAAAAAAAAAAAAAAAAAAAAAAAAAAAAAAAAAAAAAAAAAAAAAAAAAAAAAAAAAAAAAAAAAAAAAAAAAAAAAAAAAAAAAAAAAAAAAAAAAAAAAAAAAAAAAAAAAAAAAAAAAAAAAAAAAAAAAAAAAAAAAAAAAAAAAAAAAAAAAAAAAAAAAAAAAAAAAAAAAAAAAAAAAAAAAAAAAAAAAAAAAAAAAAAAAAAAAAAAAAAAAAAAAAAAAAAAAAAAAAAAAAAAAAAAAAAAAAAAAAAAAAAAAAAAAAAAAAAAAAAAAAAAAAAAAAAAAAAAAAAAAAAAAAAAAAAAAAAAAAAAAAAAAAAAAAAAAAAAAAAAAAAAAAAAAAAAAAAAAAAAAAAAAAAAAAAAAAAAAAAAAAAAAAAAAAAAAAAAAAAAAAAAAAAAAAAAAAAAAAAAAAAAAAAAAAAAAAAAAAAAAAAAAAAAAAAAAAAAAAAAAAAAAAAAAAAAAAAAAAAAAAAAAAAAAAAAAAAAAAAAAAAAAAAAAAAAAAAAAAAAAAAAAAAAAAAAAAAAAAAAAAAAAAAAAAAAAAAAAAAAAAAAAAAAAAAAAAAAAAAAAAAAAAAAAAAAAAAAAAAAAAAAAAAAAAAAAAAAAAAAAAAAAAAAAAAAAAAAAAAAAAAAAAAAAAAAAAAAAAAAAAAAAAAAAAAAAAAAAAAAAAAAAAAAAAAAAAAAAAAAAAAAAAAAAAAAAAAAAAAAAAAAAAAAAAAAAAAAAAAAAAAAAAAAAAAAAAAAAAAAAAAAAAAAAAAAAAAAAAAAAAAAAAAAAAAAAAAAAAAAAAAAAAAAAAAAAAAAAAAAAAAAAAAAAAAAAAAAAAAAAAAAAAAAAAAAAAAAAAAAAAAAAAAAAAAAAAAAAAAAAAAAAAAAAAAAAAAAAAAAAAAAAAAAAAAAAAAAAAAAAAAAAAAAAAAAAAAAAAAAAAAAAAAAAAAAAAAAAAAAAAAAAAAAAAAAAAAAAAAAAAAAAAAAAAAAAAAAAAAAAAAAAAAAAAAAAAAAAAAAAAAAAAAAAAAAAAAAAAAAAAAAAAAAAAAAAAAAAAAAAAAAAAAAAAAAAAAAAAAAAAAAAAAAAAAAAAAAAAAAAAAAAAAAAAAAAAAAAAAAAAAAAAAAAAAAAAAAAAAAAAAAAAAAAAAAAAAAAAAAAAAAAAAAAAAAAAAAAAAAAAAAAAAAAAAAAAAAAAAAAAAAAAAAAAAAAAAAAAAAAAAAAAAAAAAAAAAAAAAAAAAAAAAAAAAAAAAAAAAAAAAAAAAAAAAAAAAAAAAAAAAAAAAAAAAAAAAAAAAAAAAAAAAAAAAAAAAAAAAAAAAAAAAAAAAAAAAAAAAAAAAAAAAAAAAAAAAAAAAAAAAAAAAAAAAAAAAAAAAAAAAAAAAAAAAAAAAAAAAAAAAAAAAAAAAAAAAAAAAAAAAAAAAAAAAAAAAAAAAAAAAAAAAAAAAAAAAAAAAAAAAAAAAAAAAAAAAAAAAAAAAAAAAAAAAAAAAAAAAAAAAAAAAAAAAAAAAAAAAAAAAAAAAAAAAAAAAAAAAAAAAAAAAAAAAAAAAAAAAAAAAAAAAAAAAAAAAAAAAAAAAAAAAAAAAAAAAAAAAAAAAAAAAAAAAAAAAAAAAAAAAAAAAAAAAAAAAAAAAAAAAAAAAAAAAAAAAAAAAAAAAAAAAAAAAAAAAAAAAAAAAAAAAAAAAAAAAAAAAAAAAAAAAAAAAAAAAAAAAAAAAAAAAAAAAAAAAAAAAAAAAAAAAAAAAAAAAAAAAAAAAAAAAAAAAAAAAAAAAAAAAAAAAAAAAAAAAAAAAAAAAAAAAAAAAAAAAAAAAAAAAAAAAAAAAAAAAAAAAAAAAAAAAAAAAAAAAAAAAAAAAAAAAAAAAAAAAAAAAAAAAAAAAAAAAAAAAAAAAAAAAAAAAAAAAAAAAAAAAAAAAAAAAAAAAAAAAAAAAAAAAAAAAAAAAAAAAAAAAAAAAAAAAAAAAAAAAAAAAAAAAAAAAAAAAAAAAAAAAAAAAAAAAAAAAAAAAAAAAAAAAAAAAAAAAAAAAAAAAAAAAAAAAAAAAAAAAAAAAAAAAAAAAAAAAAAAAAAAAAAAAAAAAAAAAAAAAAAAAAAAAAAAAAAAAAAAAAAAAAAAAAAAAAAAAAAAAAAAAAAAAAAAAAAAAAAAAAAAAAAAAAAAAAAAAAAAAAAAAAAAAAAAAAAAAAAAAAAAAAAAAAAAAAAAAAAAAAAAAAAAAAAAAAAAAAAAAAAAAAAAAAAAAAAAAAAAAAAAAAAAAAAAAAAAAAAAAAAAAAAAAAAAAAAAAAAAAAAAAAAAAAAAAAAAAAAAAAAAAAAAAAAAAAAAAAAAAAAAAAAAAAAAAAAAAAAAAAAAAAAAAAAAAAAAAAAAAAAAAAAAAAAAAAAAAAAAAAAAAAAAAAAAAAAAAAAAAAAAAAAAAAAAAAAAAAAAAAAAAAAAAAAAAAAAAAAAAAAAAAAAAAAAAAAAAAAAAAAAAAAAAAAAAAAAAAAAAAAAAAAAAAAAAAAAAAAAAAAAAAAAAAAAAAAAAAAAAAAAAAAAAAAAAAAAAAAAAAAAAAAAAAAAAAAAAAAAAAAAAAAAAAAAAAAAAAAAAAAAAAAAAAAAAAAAAAAAAAAAAAAAAAAAAAAAAAAAAAAAAAAAAAAAAAAAAAAAAAAAAAAAAAAAAAAAAAAAAAAAAAAAAAAAAAAAAAAAAAAAAAAAAAAAAAAAAAAAAAAAAAAAAAAAAAAAAAAAAAAAAAAAAAAAAAAAAAAAAAAAAAAAAAAAAAAAAAAAAAAAAAAAAAAAAAAAAAAAAAAAAAAAAAAAAAAAAAAAAAAAAAAAAAAAAAAAAAAAAAAAAAAAAAAAAAAAAAAAAAAAAAAAAAAAAAAAAAAAAAAAAAAAAAAAAAAAAAAAAAAAAAAAAAAAAAAAAAAAAAAAAAAAAAAAAAAAAAAAAAAAAAAAAAAAAAAAAAAAAAAAAAAAAAAAAAAAAAAAAAAAAAAAAAAAAAAAAAAAAAAAAAAAAAAAAAAAAAAAAAAAAAAAAAAAAAAAAAAAAAAAAAAAAAAAAAAAAAAAAAAAAAAAAAAAAAAAAAAAAAAAAAAAAAAAAAAAAAAAAAAAAAAAAAAAAAAAAAAAAAAAAAAAAAAAAAAAAAAAAAAAAAAAAAAAAAAAAAAAAAAAAAAAAAAAAAAAAAAAAAAAAAAAAAAAAAAAAAAAAAAAAAAAAAAAAAAAAAAAAAAAAAAAAAAAAAAAAAAAAAAAAAAAAAAAAAAAAAAAAAAAAAAAAAAAAAAAAAAAAAAAAAAAAAAAAAAAAAAAAAAAAAAAAAAAAAAAAAAAAAAAAAAAAAAAAAAAAAAAAAAAAAAAAAAAAAAAAAAAAAAAAAAAAAAAAAAAAAAAAAAAAAAAAAAAAAAAAAAAAAAAAAAAAAAAAAAAAAAAAAAAAAAAAAAAAAAAAAAAAAAAAAAAAAAAAAAAAAAAAAAAAAAAAAAAAAAAAAAAAAAAAAAAAAAAAAAAAAAAAAAAAAAAAAAAAAAAAAAAAAAAAAAAAAAAAAAAAAAAAAAAAAAAAAAAAAAAAAAAAAAAAAAAAAAAAAAAAAAAAAAAAAAAAAAAAAAAAAAAAAAAAAAAAAAAAAAAAAAAAAAAAAAAAAAAAAAAAAAAAAAAAAAAAAAAAAAAAAAAAAAAAAAAAAAAAAAAAAAAAAAAAAAAAAAAAAAAAAAAAAAAAAAAAAAAAAAAAAAAAAAAAAAAAAAAAAAAAAAAAAAAAAAAAAAAAAAAAAAAAAAAAAAAAAAAAAAAAAAAAAAAAAAAAAAAAAAAAAAAAAAAAAAAAAAAAAAAAAAAAAAAAAAAAAAAAAAAAAAAAAAAAAAAAAAAAAAAAAAAAAAAAAAAAAAAAAAAAAAAAAAAAAAAAAAAAAAAAAAAAAAAAAAAAAAAAAAAAAAAAAAAAAAAAAAAAAAAAAAAAAAAAAAAAAAAAAAAAAAAAAAAAAAAAAAAAAAAAAAAAAAAAAAAAAAAAAAAAAAAAAAAAAAAAAAAAAAAAAAAAAAAAAAAAAAAAAAAAAAAAAAAAAAAAAAAAAAAAAAAAAAAAAAAAAAAAAAAAAAAAAAAAAAAAAAAAAAAAAAAAAAAAAAAAAAAAAAAAAAAAAAAAAAAAAAAAAAAAAAAAAAAAAAAAAAAAAAAAAAAAAAAAAAAAAAAAAAAAAAAAAAAAAAAAAAAAAAAAAAAAAAAAAAAAAAAAAAAAAAAAAAAAAAAAAAAAAAAAAAAAAAAAAAAAAAAAAAAAAAAAAAAAAAAAAAAAAAAAAAAAAAAAAAAAAAAAAAAAAAAAAAAAAAAAAAAAAAAAAAAAAAAAAAAAAAAAAAAAAAAAAAAAAAAAAAAAAAAAAAAAAAAAAAAAAAAAAAAAAAAAAAAAAAAAAAAAAAAAAAAAAAAAAAAAAAAAAAAAAAAAAAAAAAAAAAAAAAAAAAAAAAAAAAAAAAAAAAAAAAAAAAAAAAAAAAAAAAAAAAAAAAAAAAAAAAAAAAAAAAAAAAAAAAAAAAAAAAAAAAAAAAAAAAAAAAAAAAAAAAAAAAAAAAAAAAAAAAAAAAAAAAAAAAAAAAAAAAAAAAAAAAAAAAAAAAAAAAAAAAAAAAAAAAAAAAAAAAAAAAAAAAAAAAAAAAAAAAAAAAAAAAAAAAAAAAAAAAAAAAAAAAAAAAAAAAAAAAAAAAAAAAAAAAAAAAAAAAAAAAAAAAAAAAAAAAAAAAAAAAAAAAAAAAAAAAAAAAAAAAAAAAAAAAAAAAAAAAAAAAAAAAAAAAAAAAAAAAAAAAAAAAAAAAAAAAAAAAAAAAAAAAAAAAAAAAAAAAAAAAAAAAAAAAAAAAAAAAAAAAAAAAAAAAAAAAAAAAAAAAAAAAAAAAAAAAAAAAAAAAAAAAAAAAAAAAAAAAAAAAAAAAAAAAAAAAAAAAAAAAAAAAAAAAAAAAAAAAAAAAAAAAAAAAAAAAAAAAAAAAAAAAAAAAAAAAAAAAAAAAAAAAAAAAAAAAAAAAAAAAAAAAAAAAAAAAAAAAAAAAAAAAAAAAAAAAAAAAAAAAAAAAAAAAAAAAAAAAAAAAAAAAAAAAAAAAAAAAAAAAAAAAAAAAAAAAAAAAAAAAAAAAAAAAAAAAAAAAAAAAAAAAAAAAAAAAAAAAAAAAAAAAAAAAAAAAAAAAAAAAAAAAAAAAAAAAAAAAAAAAAAAAAAAAAAAAAAAAAAAAAAAAAAAAAAAAAAAAAAAAAAAAAAAAAAAAAAAAAAAAAAAAAAAAAAAAAAAAAAAAAAAAAAAAAAAAAAAAAAAAAAAAAAAAAAAAAAAAAAAAAAAAAAAAAAAAAAAAAAAAAAAAAAAAAAAAAAAAAAAAAAAAAAAAAAAAAAAAAAAAAAAAAAAAAAAAAAAAAAAAAAAAAAAAAAAAAAAAAAAAAAAAAAAAAAAAAAAAAAAAAAAAAAAAAAAAAAAAAAAAAAAAAAAAAAAAAAAAAAAAAAAAAAAAAAAAAAAAAAAAAAAAAAAAAAAAAAAAAAAAAAAAAAAAAAAAAAAAAAAAAAAAAAAAAAAAAAAAAAAAAAAAAAAAAAAAAAAAAAAAAAAAAAAAAAAAAAAAAAAAAAAAAAAAAAAAAAAAAAAAAAAAAAAAAAAAAAAAAAAAAAAAAAAAAAAAAAAAAAAAAAAAAAAAAAAAAAAAAAAAAAAAAAAAAAAAAAAAAAAAAAAAAAAAAAAAAAAAAAAAAAAAAAAAAAAAAAAAAAAAAAAAAAAAAAAAAAAAAAAAAAAAAAAAAAAAAAAAAAAAAAAAAAAAAAAAAAAAAAAAAAAAAAAAAAAAAAAAAAAAAAAAAAAAAAAAAAAAAAAAAAAAAAAAAAAAAAAAAAAAAAAAAAAAAAAAAAAAAAAAAAAAAAAAAAAAAAAAAAAAAAAAAAAAAAAAAAAAAAAAAAAAAAAAAAAAAAAAAAAAAAAAAAAAAAAAAAAAAAAAAAAAAAAAAAAAAAAAAAAAAAAAAAAAAAAAAAAAAAAAAAAAAAAAAAAAAAAAAAAAAAAAAAAAAAAAAAAAAAAAAAAAAAAAAAAAAAAAAAAAAAAAAAAAAAAAAAAAAAAAAAAAAAAAAAAAAAAAAAAAAAAAAAAAAAAAAAAAAAAAAAAAAAAAAAAAAAAAAAAAAAAAAAAAAAAAAAAAAAAAAAAAAAAAAAAAAAAAAAAAAAAAAAAAAAAAAAAAAAAAAAAAAAAAAAAAAAAAAAAAAAAAAAAAAAAAAAAAAAAAAAAAAAAAAAAAAAAAAAAAAAAAAAAAAAAAAAAAAAAAAAAAAAAAAAAAAAAAAAAAAAAAAAAAAAAAAAAAAAAAAAAAAAAAAAAAAAAAAAAAAAAAAAAAAAAAAAAAAAAAAAAAAAAAAAAAAAAAAAAAAAAAAAAAAAAAAAAAAAAAAAAAAAAAAAAAAAAAAAAAAAAAAAAAAAAAAAAAAAAAAAAAAAAAAAAAAAAAAAAAAAAAAAAAAAAAAAAAAAAAAAAAAAAAAAAAAAAAAAAAAAAAAAAAAAAAAAAAAAAAAAAAAAAAAAAAAAAAAAAAAAAAAAAAAAAAAAAAAAAAAAAAAAAAAAAAAAAAAAAAAAAAAAAAAAAAAAAAAAAAAAAAAAAAAAAAAAAAAAAAAAAAAAAAAAAAAAAAAAAAAAAAAAAAAAAAAAAAAAAAAAAAAAAAAAAAAAAAAAAAAAAAAAAAAAAAAAAAAAAAAAAAAAAAAAAAAAAAAAAAAAAAAAAAAAAAAAAAAAAAAAAAAAAAAAAAAAAAAAAAAAAAAAAAAAAAAAAAAAAAAAAAAAAAAAAAAAAAAAAAAAAAAAAAAAAAAAAAAAAAAAAAAAAAAAAAAAAAAAAAAAAAAAAAAAAAAAAAAAAAAAAAAAAAAAAAAAAAAAAAAAAAAAAAAAAAAAAAAAAAAAAAAAAAAAAAAAAAAAAAAAAAAAAAAAAAAAAAAAAAAAAAAAAAAAAAAAAAAAAAAAAAAAAAAAAAAAAAAAAAAAAAAAAAAAAAAAAAAAAAAAAAAAAAAAAAAAAAAAAAAAAAAAAAAAAAAAAAAAAAAAAAAAAAAAAAAAAAAAAAAAAAAAAAAAAAAAAAAAAAAAAAAAAAAAAAAAAAAAAAAAAAAAAAAAAAAAAAAAAAAAAAAAAAAAAAAAAAAAAAAAAAAAAAAAAAAAAAAAAAAAAAAAAAAAAAAAAAAAAAAAAAAAAAAAAAAAAAAAAAAAAAAAAAAAAAAAAAAAAAAAAAAAAAAAAAAAAAAAAAAAAAAAAAAAAAAAAAAAAAAAAAAAAAAAAAAAAAAAAAAAAAAAAAAAAAAAAAAAAAAAAAAAAAAAAAAAAAAAAAAAAAAAAAAAAAAAAAAAAAAAAAAAAAAAAAAAAAAAAAAAAAAAAAAAAAAAAAAAAAAAAAAAAAAAAAAAAAAAAAAAAAAAAAAAAAAAAAAAAAAAAAAAAAAAAAAAAAAAAAAAAAAAAAAAAAAAAAAAAAAAAAAAAAAAAAAAAAAAAAAAAAAAAAAAAAAAAAAAAAAAAAAAAAAAAAAAAAAAAAAAAAAAAAAAAAAAAAAAAAAAAAAAAAAAAAAAAAAAAAAAAAAAAAAAAAAAAAAAAAAAAAAAAAAAAAAAAAAAAAAAAAAAAAAAAAAAAAAAAAAAAAAAAAAAAAAAAAAAAAAAAAAAAAAAAAAAAAAAAAAAAAAAAAAAAAAAAAAAAAAAAAAAAAAAAAAAAAAAAAAAAAAAAAAAAAAAAAAAAAAAAAAAAAAAAAAAAAAAAAAAAAAAAAAAAAAAAAAAAAAAAAAAAAAAAAAAAAAAAAAAAAAAAAAAAAAAAAAAAAAAAAAAAAAAAAAAAAAAAAAAAAAAAAAAAAAAAAAAAAAAAAAAAAAAAAAAAAAAAAAAAAAAAAAAAAAAAAAAAAAAAAAAAAAAAAAAAAAAAAAAAAAAAAAAAAAAAAAAAAAAAAAAAAAAAAAAAAAAAAAAAAAAAAAAAAAAAAAAAAAAAAAAAAAAAAAAAAAAAAAAAAAAAAAAAAAAAAAAAAAAAAAAAAAAAAAAAAAAAAAAAAAAAAAAAAAAAAAAAAAAAAAAAAAAAAAAAAAAAAAAAAAAAAAAAAAAAAAAAAAAAAAAAAAAAAAAAAAAAAAAAAAAAAAAAAAAAAAAAAAAAAAAAAAAAAAAAAAAAAAAAAAAAAAAAAAAAAAAAAAAAAAAAAAAAAAAAAAAAAAAAAAAAAAAAAAAAAAAAAAAAAAAAAAAAAAAAAAAAAAAAAAAAAAAAAAAAAAAAAAAAAAAAAAAAAAAAAAAAAAAAAAAAAAAAAAAAAAAAAAAAAAAAAAAAAAAAAAAAAAAAAAAAAAAAAAAAAAAAAAAAAAAAAAAAAAAAAAAAAAAAAAAAAAAAAAAAAAAAAAAAAAAAAAAAAAAAAAAAAAAAAAAAAAAAAAAAAAAAAAAAAAAAAAAAAAAAAAAAAAAAAAAAAAAAAAAAAAAAAAAAAAAAAAAAAAAAAAAAAAAAAAAAAAAAAAAAAAAAAAAAAAAAAAAAAAAAAAAAAAAAAAAAAAAAAAAAAAAAAAAAAAAAAAAAAAAAAAAAAAAAAAAAAAAAAAAAAAAAAAAAAAAAAAAAAAAAAAAAAAAAAAAAAAAAAAAAAAAAAAAAAAAAAAAAAAAAAAAAAAAAAAAAAAAAAAAAAAAAAAAAAAAAAAAAAAAAAAAAAAAAAAAAAAAAAAAAAAAAAAAAAAAAAAAAAAAAAAAAAAAAAAAAAAAAAAAAAAAAAAAAAAAAAAAAAAAAAAAAAAAAAAAAAAAAAAAAAAAAAAAAAAAAAAAAAAAAAAAAAAAAAAAAAAAAAAAAAAAAAAAAAAAAAAAAAAAAAAAAAAAAAAAAAAAAAAAAAAAAAAAAAAAAAAAAAAAAAAAAAAAAAAAAAAAAAAAAAAAAAAAAAAAAAAAAAAAAAAAAAAAAAAAAAAAAAAAAAAAAAAAAAAAAAAAAAAAAAAAAAAAAAAAAAAAAAAAAAAAAAAAAAAAAAAAAAAAAAAAAAAAAAAAAAAAAAAAAAAAAAAAAAAAAAAAAAAAAAAAAAAAAAAAAAAAAAAAAAAAAAAAAAAAAAAAAAAAAAAAAAAAAAAAAAAAAAAAAAAAAAAAAAAAAAAAAAAAAAAAAAAAAAAAAAAAAAAAAAAAAAAAAAAAAAAAAAAAAAAAAAAAAAAAAAAAAAAAAAAAAAAAAAAAAAAAAAAAAAAAAAAAAAAAAAAAAAAAAAAAAAAAAAAAAAAAAAAAAAAAAAAAAAAAAAAAAAAAAAAAAAAAAAAAAAAAAAAAAAAAAAAAAAAAAAAAAAAAAAAAAAAAAAAAAAAAAAAAAAAAAAAAAAAAAAAAAAAAAAAAAAAAAAAAAAAAAAAAAAAAAAAAAAAAAAAAAAAAAAAAAAAAAAAAAAAAAAAAAAAAAAAAAAAAAAAAAAAAAAAAAAAAAAAAAAAAAAAAAAAAAAAAAAAAAAAAAAAAAAAAAAAAAAAAAAAAAAAAAAAAAAAAAAAAAAAAAAAAAAAAAAAAAAAAAAAAAAAAAAAAAAAAAAAAAAAAAAAAAAAAAAAAAAAAAAAAAAAAAAAAAAAAAAAAAAAAAAAAAAAAAAAAAAAAAAAAAAAAAAAAAAAAAAAAAAAAAAAAAAAAAAAAAAAAAAAAAAAAAAAAAAAAAAAAAAAAAAAAAAAAAAAAAAAAAAAAAAAAAAAAAAAAAAAAAAAAAAAAAAAAAAAAAAAAAAAAAAAAAAAAAAAAAAAAAAAAAAAAAAAAAAAAAAAAAAAAAAAAAAAAAAAAAAAAAAAAAAAAAAAAAAAAAAAAAAAAAAAAAAAAAAAAAAAAAAAAAAAAAAAAAAAAAAAAAAAAAAAAAAAAAAAAAAAAAAAAAAAAAAAAAAAAAAAAAAAAAAAAAAAAAAAAAAAAAAAAAAAAAAAAAAAAAAAAAAAAAAAAAAAAAAAAAAAAAAAAAAAAAAAAAAAAAAAAAAAAAAAAAAAAAAAAAAAAAAAAAAAAAAAAAAAAAAAAAAAAAAAAAAAAAAAAAAAAAAAAAAAAAAAAAAAAAAAAAAAAAAAAAAAAAAAAAAAAAAAAAAAAAAAAAAAAAAAAAAAAAAAAAAAAAAAAAAAAAAAAAAAAAAAAAAAAAAAAAAAAAAAAAAAAAAAAAAAAAAAAAAAAAAAAAAAAAAAAAAAAAAAAAAAAAAAAAAAAAAAAAAAAAAAAAAAAAAAAAAAAAAAAAAAAAAAAAAAAAAAAAAAAAAAAAAAAAAAAAAAAAAAAAAAAAAAAAAAAAAAAAAAAAAAAAAAAAAAAAAAAAAAAAAAAAAAAAAAAAAAAAAAAAAAAAAAAAAAAAAAAAAAAAAAAAAAAAAAAAAAAAAAAAAAAAAAAAAAAAAAAAAAAAAAAAAAAAAAAAAAAAAAAAAAAAAAAAAAAAAAAAAAAAAAAAAAAAAAAAAAAAAAAAAAAAAAAAAAAAAAAAAAAAAAAAAAAAAAAAAAAAAAAAAAAAAAAAAAAAAAAAAAAAAAAAAAAAAAAAAAAAAAAAAAAAAAAAAAAAAAAAAAAAAAAAAAAAAAAAAAAAAAAAAAAAAAAAAAAAAAAAAAAAAAAAAAAAAAAAAAAAAAAAAAAAAAAAAAAAAAAAAAAAAAAAAAAAAAAAAAAAAAAAAAAAAAAAAAAAAAAAAAAAAAAAAAAAAAAAAAAAAAAAAAAAAAAAAAAAAAAAAAAAAAAAAAAAAAAAAAAAAAAAAAAAAAAAAAAAAAAAAAAAAAAAAAAAAAAAAAAAAAAAAAAAAAAAAAAAAAAAAAAAAAAAAAAAAAAAAAAAAAAAAAAAAAAAAAAAAAAAAAAAAAAAAAAAAAAAAAAAAAAAAAAAAAAAAAAAAAAAAAAAAAAAAAAAAAAAAAAAAAAAAAAAAAAAAAAAAAAAAAAAAAAAAAAAAAAAAAAAAAAAAAAAAAAAAAAAAAAAAAAAAAAAAAAAAAAAAAAAAAAAAAAAAAAAAAAAAAAAAAAAAAAAAAAAAAAAAAAAAAAAAAAAAAAAAAAAAAAAAAAAAAAAAAAAAAAAAAAAAAAAAAAAAAAAAAAAAAAAAAAAAAAAAAAAAAAAAAAAAAAAAAAAAAAAAAAAAAAAAAAAAAAAAAAAAAAAAAAAAAAAAAAAAAAAAAAAAAAAAAAAAAAAAAAAAAAAAAAAAAAAAAAAAAAAAAAAAAAAAAAAAAAAAAAAAAAAAAAAAAAAAAAAAAAAAAAAAAAAAAAAAAAAAAAAAAAAAAAAAAAAAAAAAAAAAAAAAAAAAAAAAAAAAAAAAAAAAAAAAAAAAAAAAAAAAAAAAAAAAAAAAAAAAAAAAAAAAAAAAAAAAAAAAAAAAAAAAAAAAAAAAAAAAAAAAAAAAAAAAAAAAAAAAAAAAAAAAAAAAAAAAAAAAAAAAAAAAAAAAAAAAAAAAAAAAAAAAAAAAAAAAAAAAAAAAAAAAAAAAAAAAAAAAAAAAAAAAAAAAAAAAAAAAAAAAAAAAAAAAAAAAAAAAAAAAAAAAAAAAAAAAAAAAAAAAAAAAAAAAAAAAAAAAAAAAAAAAAAAAAAAAAAAAAAAAAAAAAAAAAAAAAAAAAAAAAAAAAAAAAAAAAAAAAAAAAAAAAAAAAAAAAAAAAAAAAAAAAAAAAAAAAAAAAAAAAAAAAAAAAAAAAAAAAAAAAAAAAAAAAAAAAAAAAAAAAAAAAAAAAAAAAAAAAAAAAAAAAAAAAAAAAAAAAAAAAAAAAAAAAAAAAAAAAAAAAAAAAAAAAAAAAAAAAAAAAAAAAAAAAAAAAAAAAAAAAAAAAAAAAAAAAAAAAAAAAAAAAAAAAAAAAAAAAAAAAAAAAAAAAAAAAAAAAAAAAAAAAAAAAAAAAAAAAAAAAAAAAAAAAAAAAAAAAAAAAAAAAAAAAAAAAAAAAAAAAAAAAAAAAAAAAAAAAAAAAAAAAAAAAAAAAAAAAAAAAAAAAAAAAAAAAAAAAAAAAAAAAAAAAAAAAAAAAAAAAAAAAAAAAAAAAAAAAAAAAAAAAAAAAAAAAAAAAAAAAAAAAAAAAAAAAAAAAAAAAAAAAAAAAAAAAAAAAAAAAAAAAAAAAAAAAAAAAAAAAAAAAAAAAAAAAAAAAAAAAAAAAAAAAAAAAAAAAAAAAAAAAAAAAAAAAAAAAAAAAAAAAAAAAAAAAAAAAAAAAAAAAAAAAAAAAAAAAAAAAAAAAAAAAAAAAAAAAAAAAAAAAAAAAAAAAAAAAAAAAAAAAAAAAAAAAAAAAAAAAAAAAAAAAAAAAAAAAAAAAAAAAAAAAAAAAAAAAAAAAAAAAAAAAAAAAAAAAAAAAAAAAAAAAAAAAAAAAAAAAAAAAAAAAAAAAAAAAAAAAAAAAAAAAAAAAAAAAAAAAAAAAAAAAAAAAAAAAAAAAAAAAAAAAAAAAAAAAAAAAAAAAAAAAAAAAAAAAAAAAAAAAAAAAAAAAAAAAAAAAAAAAAAAAAAAAAAAAAAAAAAAAAAAAAAAAAAAAAAAAAAAAAAAAAAAAAAAAAAAAAAAAAAAAAAAAAAAAAAAAAAAAAAAAAAAAAAAAAAAAAAAAAAAAAAAAAAAAAAAAAAAAAAAAAAAAAAAAAAAAAAAAAAAAAAAAAAAAAAAAAAAAAAAAAAAAAAAAAAAAAAAAAAAAAAAAAAAAAAAAAAAAAAAAAAAAAAAAAAAAAAAAAAAAAAAAAAAAAAAAAAAAAAAAAAAAAAAAAAAAAAAAAAAAAAAAAAAAAAAAAAAAAAAAAAAAAAAAAAAAAAAAAAAAAAAAAAAAAAAAAAAAAAAAAAAAAAAAAAAAAAAAAAAAAAAAAAAAAAAAAAAAAAAAAAAAAAAAAAAAAAAAAAAAAAAAAAAAAAAAAAAAAAAAAAAAAAAAAAAAAAAAAAAAAAAAAAAAAAAAAAAAAAAAAAAAAAAAAAAAAAAAAAAAAAAAAAAAAAAAAAAAAAAAAAAAAAAAAAAAAAAAAAAAAAAAAAAAAAAAAAAAAAAAAAAAAAAAAAAAAAAAAAAAAAAAAAAAAAAAAAAAAAAAAAAAAAAAAAAAAAAAAAAAAAAAAAAAAAAAAAAAAAAAAAAAAAAAAAAAAAAAAAAAAAAAAAAAAAAAAAAAAAAAAAAAAAAAAAAAAAAAAAAAAAAAAAAAAAAAAAAAAAAAAAAAAAAAAAAAAAAAAAAAAAAAAAAAAAAAAAAAAAAAAAAAAAAAAAAAAAAAAAAAAAAAAAAAAAAAAAAAAAAAAAAAAAAAAAAAAAAAAAAAAAAAAAAAAAAAAAAAAAAAAAAAAAAAAAAAAAAAAAAAAAAAAAAAAAAAAAAAAAAAAAAAAAAAAAAAAAAAAAAAAAAAAAAAAAAAAAAAAAAAAAAAAAAAAAAAAAAAAAAAAAAAAAAAAAAAAAAAAAAAAAAAAAAAAAAAAAAAAAAAAAAAAAAAAAAAAAAAAAAAAAAAAAAAAAAAAAAAAAAAAAAAAAAAAAAAAAAAAAAAAAAAAAAAAAAAAAAAAAAAAAAAAAAAAAAAAAAAAAAAAAAAAAAAAAAAAAAAAAAAAAAAAAAAAAAAAAAAAAAAAAAAAAAAAAAAAAAAAAAAAAAAAAAAAAAAAAAAAAAAAAAAAAAAAAAAAAAAAAAAAAAAAAAAAAAAAAAAAAAAAAAAAAAAAAAAAAAAAAAAAAAAAAAAAAAAAAAAAAAAAAAAAAAAAAAAAAAAAAAAAAAAAAAAAAAAAAAAAAAAAAAAAAAAAAAAAAAAAAAAAAAAAAAAAAAAAAAAAAAAAAAAAAAAAAAAAAAAAAAAAAAAAAAAAAAAAAAAAAAAAAAAAAAAAAAAAAAAAAAAAAAAAAAAAAAAAAAAAAAAAAAAAAAAAAAAAAAAAAAAAAAAAAAAAAAAAAAAAAAAAAAAAAAAAAAAAAAAAAAAAAAAAAAAAAAAAAAAAAAAAAAAAAAAAAAAAAAAAAAAAAAAAAAAAAAAAAAAAAAAAAAAAAAAAAAAAAAAAAAAAAAAAAAAAAAAAAAAAAAAAAAAAAAAAAAAAAAAAAAAAAAAAAAAAAAAAAAAAAAAAAAAAAAAAAAAAAAAAAAAAAAAAAAAAAAAAAAAAAAAAAAAAAAAAAAAAAAAAAAAAAAAAAAAAAAAAAAAAAAAAAAAAAAAAAAAAAAAAAAAAAAAAAAAAAAAAAAAAAAAAAAAAAAAAAAAAAAAAAAAAAAAAAAAAAAAAAAAAAAAAAAAAAAAAAAAAAAAAAAAAAAAAAAAAAAAAAAAAAAAAAAAAAAAAAAAAAAAAAAAAAAAAAAAAAAAAAAAAAAAAAAAAAAAAAAAAAAAAAAAAAAAAAAAAAAAAAAAAAAAAAAAAAAAAAAAAAAAAAAAAAAAAAAAAAAAAAAAAAAAAAAAAAAAAAAAAAAAAAAAAAAAAAAAAAAAAAAAAAAAAAAAAAAAAAAAAAAAAAAAAAAAAAAAAAAAAAAAAAAAAAAAAAAAAAAAAAAAAAAAAAAAAAAAAAAAAAAAAAAAAAAAAAAAAAAAAAAAAAAAAAAAAAAAAAAAAAAAAAAAAAAAAAAAAAAAAAAAAAAAAAAAAAAAAAAAAAAAAAAAAAAAAAAAAAAAAAAAAAAAAAAAAAAAAAAAAAAAAAAAAAAAAAAAAAAAAAAAAAAAAAAAAAAAAAAAAAAAAAAAAAAAAAAAAAAAAAAAAAAAAAAAAAAAAAAAAAAAAAAAAAAAAAAAAAAAAAAAAAAAAAAAAAAAAAAAAAAAAAAAAAAAAAAAAAAAAAAAAAAAAAAAAAAAAAAAAAAAAAAAAAAAAAAAAAAAAAAAAAAAAAAAAAAAAAAAAAAAAAAAAAAAAAAAAAAAAAAAAAAAAAAAAAAAAAAAAAAAAAAAAAAAAAAAAAAAAAAAAAAAAAAAAAAAAAAAAAAAAAAAAAAAAAAAAAAAAAAAAAAAAAAAAAAAAAAAAAAAAAAAAAAAAAAAAAAAAAAAAAAAAAAAAAAAAAAAAAAAAAAAAAAAAAAAAAAAAAAAAAAAAAAAAAAAAAAAAAAAAAAAAAAAAAAAAAAAAAAAAAAAAAAAAAAAAAAAAAAAAAAAAAAAAAAAAAAAAAAAAAAAAAAAAAAAAAAAAAAAAAAAAAAAAAAAAAAAAAAAAAAAAAAAAAAAAAAAAAAAAAAAAAAAAAAAAAAAAAAAAAAAAAAAAAAAAAAAAAAAAAAAAAAAAAAAAAAAAAAAAAAAAAAAAAAAAAAAAAAAAAAAAAAAAAAAAAAAAAAAAAAAAAAAAAAAAAAAAAAAAAAAAAAAAAAAAAAAAAAAAAAAAAAAAAAAAAAAAAAAAAAAAAAAAAAAAAAAAAAAAAAAAAAAAAAAAAAAAAAAAAAAAAAAAAAAAAAAAAAAAAAAAAAAAAAAAAAAAAAAAAAAAAAAAAAAAAAAAAAAAAAAAAAAAAAAAAAAAAAAAAAAAAAAAAAAAAAAAAAAAAAAAAAAAAAAAAAAAAAAAAAAAAAAAAAAAAAAAAAAAAAAAAAAAAAAAAAAAAAAAAAAAAAAAAAAAAAAAAAAAAAAAAAAAAAAAAAAAAAAAAAAAAAAAAAAAAAAAAAAAAAAAAAAAAAAAAAAAAAAAAAAAAAAAAAAAAAAAAAAAAAAAAAAAAAAAAAAAAAAAAAAAAAAAAAAAAAAAAAAAAAAAAAAAAAAAAAAAAAAAAAAAAAAAAAAAAAAAAAAAAAAAAAAAAAAAAAAAAAAAAAAAAAAAAAAAAAAAAAAAAAAAAAAAAAAAAAAAAAAAAAAAAAAAAAAAAAAAAAAAAAAAAAAAAAAAAAAAAAAAAAAAAAAAAAAAAAAAAAAAAAAAAAAAAAAAAAAAAAAAAAAAAAAAAAAAAAAAAAAAAAAAAAAAAAAAAAAAAAAAAAAAAAAAAAAAAAAAAAAAAAAAAAAAAAAAAAAAAAAAAAAAAAAAAAAAAAAAAAAAAAAAAAAAAAAAAAAAAAAAAAAAAAAAAAAAAAAAAAAAAAAAAAAAAAAAAAAAAAAAAAAAAAAAAAAAAAAAAAAAAAAAAAAAAAAAAAAAAAAAAAAAAAAAAAAAAAAAAAAAAAAAAAAAAAAAAAAAAAAAAAAAAAAAAAAAAAAAAAAAAAAAAAAAAAAAAAAAAAAAAAAAAAAAAAAAAAAAAAAAAAAAAAAAAAAAAAAAAAAAAAAAAAAAAAAAAAAAAAAAAAAAAAAAAAAAAAAAAAAAAAAAAAAAAAAAAAAAAAAAAAAAAAAAAAAAAAAAAAAAAAAAAAAAAAAAAAAAAAAAAAAAAAAAAAAAAAAAAAAAAAAAAAAAAAAAAAAAAAAAAAAAAAAAAAAAAAAAAAAAAAAAAAAAAAAAAAAAAAAAAAAAAAAAAAAAAAAAAAAAAAAAAAAAAAAAAAAAAAAAAAAAAAAAAAAAAAAAAAAAAAAAAAAAAAAAAAAAAAAAAAAAAAAAAAAAAAAAAAAAAAAAAAAAAAAAAAAAAAAAAAAAAAAAAAAAAAAAAAAAAAAAAAAAAAAAAAAAAAAAAAAAAAAAAAAAAAAAAAAAAAAAAAAAAAAAAAAAAAAAAAAAAAAAAAAAAAAAAAAAAAAAAAAAAAAAAAAAAAAAAAAAAAAAAAAAAAAAAAAAAAAAAAAAAAAAAAAAAAAAAAAAAAAAAAAAAAAAAAAAAAAAAAAAAAAAAAAAAAAAAAAAAAAAAAAAAAAAAAAAAAAAAAAAAAAAAAAAAAAAAAAAAAAAAAAAAAAAAAAAAAAAAAAAAAAAAAAAAAAAAAAAAAAAAAAAAAAAAAAAAAAAAAAAAAAAAAAAAAAAAAAAAAAAAAAAAAAAAAAAAAAAAAAAAAAAAAAAAAAAAAAAAAAAAAAAAAAAAAAAAAAAAAAAAAAAAAAAAAAAAAAAAAAAAAAAAAAAAAAAAAAAAAAAAAAAAAAAAAAAAAAAAAAAAAAAAAAAAAAAAAAAAAAAAAAAAAAAAAAAAAAAAAAAAAAAAAAAAAAAAAAAAAAAAAAAAAAAAAAAAAAAAAAAAAAAAAAAAAAAAAAAAAAAAAAAAAAAAAAAAAAAAAAAAAAAAAAAAAAAAAAAAAAAAAAAAAAAAAAAAAAAAAAAAAAAAAAAAAAAAAAAAAAAAAAAAAAAAAAAAAAAAAAAAAAAAAAAAAAAAAAAAAAAAAAAAAAAAAAAAAAAAAAAAAAAAAAAAAAAAAAAAAAAAAAAAAAAAAAAAAAAAAAAAAAAAAAAAAAAAAAAAAAAAAAAAAAAAAAAAAAAAAAAAAAAAAAAAAAAAAAAAAAAAAAAAAAAAAAAAAAAAAAAAAAAAAAAAAAAAAAAAAAAAAAAAAAAAAAAAAAAAAAAAAAAAAAAAAAAAAAAAAAAAAAAAAAAAAAAAAAAAAAAAAAAAAAAAAAAAAAAAAAAAAAAAAAAAAAAAAAAAAAAAAAAAAAAAAAAAAAAAAAAAAAAAAAAAAAAAAAAAAAAAAAAAAAAAAAAAAAAAAAAAAAAAAAAAAAAAAAAAAAAAAAAAAAAAAAAAAAAAAAAAAAAAAAAAAAAAAAAAAAAAAAAAAAAAAAAAAAAAAAAAAAAAAAAAAAAAAAAAAAAAAAAAAAAAAAAAAAAAAAAAAAAAAAAAAAAAAAAAAAAAAAAAAAAAAAAAAAAAAAAAAAAAAAAAAAAAAAAAAAAAAAAAAAAAAAAAAAAAAAAAAAAAAAAAAAAAAAAAAAAAAAAAAAAAAAAAAAAAAAAAAAAAAAAAAAAAAAAAAAAAAAAAAAAAAAAAAAAAAAAAAAAAAAAAAAAAAAAAAAAAAAAAAAAAAAAAAAAAAAAAAAAAAAAAAAAAAAAAAAAAAAAAAAAAAAAAAAAAAAAAAAAAAAAAAAAAAAAAAAAAAAAAAAAAAAAAAAAAAAAAAAAAAAAAAAAAAAAAAAAAAAAAAAAAAAAAAAAAAAAAAAAAAAAAAAAAAAAAAAAAAAAAAAAAAAAAAAAAAAAAAAAAAAAAAAAAAAAAAAAAAAAAAAAAAAAAAAAAAAAAAAAAAAAAAAAAAAAAAAAAAAAAAAAAAAAAAAAAAAAAAAAAAAAAAAAAAAAAAAAAAAAAAAAAAAAAAAAAAAAAAAAAAAAAAAAAAAAAAAAAAAAAAAAAAAAAAAAAAAAAAAAAAAAAAAAAAAAAAAAAAAAAAAAAAAAAAAAAAAAAAAAAAAAAAAAAAAAAAAAAAAAAAAAAAAAAAAAAAAAAAAAAAAAAAAAAAAAAAAAAAAAAAAAAAAAAAAAAAAAAAAAAAAAAAAAAAAAAAAAAAAAAAAAAAAAAAAAAAAAAAAAAAAAAAAAAAAAAAAAAAAAAAAAAAAAAAAAAAAAAAAAAAAAAAAAAAAAAAAAAAAAAAAAAAAAAAAAAAAAAAAAAAAAAAAAAAAAAAAAAAAAAAAAAAAAAAAAAAAAAAAAAAAAAAAAAAAAAAAAAAAAAAAAAAAAAAAAAAAAAAAAAAAAAAAAAAAAAAAAAAAAAAAAAAAAAAAAAAAAAAAAAAAAAAAAAAAAAAAAAAAAAAAAAAAAAAAAAAAAAAAAAAAAAAAAAAAAAAAAAAAAAAAAAAAAAAAAAAAAAAAAAAAAAAAAAAAAAAAAAAAAAAAAAAAAAAAAAAAAAAAAAAAAAAAAAAAAAAAAAAAAAAAAAAAAAAAAAAAAAAAAAAAAAAAAAAAAAAAAAAAAAAAAAAAAAAAAAAAAAAAAAAAAAAAAAAAAAAAAAAAAAAAAAAAAAAAAAAAAAAAAAAAAAAAAAAAAAAAAAAAAAAAAAAAAAAAAAAAAAAAAAAAAAAAAAAAAAAAAAAAAAAAAAAAAAAAAAAAAAAAAAAAAAAAAAAAAAAAAAAAAAAAAAAAAAAAAAAAAAAAAAAAAAAAAAAAAAAAAAAAAAAAAAAAAAAAAAAAAAAAAAAAAAAAAAAAAAAAAAAAAAAAAAAAAAAAAAAAAAAAAAAAAAAAAAAAAAAAAAAAAAAAAAAAAAAAAAAAAAAAAAAAAAAAAAAAAAAAAAAAAAAAAAAAAAAAAAAAAAAAAAAAAAAAAAAAAAAAAAAAAAAAAAAAAAAAAAAAAAAAAAAAAAAAAAAAAAAAAAAAAAAAAAAAAAAAAAAAAAAAAAAAAAAAAAAAAAAAAAAAAAAAAAAAAAAAAAAAAAAAAAAAAAAAAAAAAAAAAAAAAAAAAAAAAAAAAAAAAAAAAAAAAAAAAAAAAAAAAAAAAAAAAAAAAAAAAAAAAAAAAAAAAAAAAAAAAAAAAAAAAAAAAAAAAAAAAAAAAAAAAAAAAAAAAAAAAAAAAAAAAAAAAAAAAAAAAAAAAAAAAAAAAAAAAAAAAAAAAAAAAAAAAAAAAAAAAAAAAAAAAAAAAAAAAAAAAAAAAAAAAAAAAAAAAAAAAAAAAAAAAAAAAAAAAAAAAAAAAAAAAAAAAAAAAAAAAAAAAAAAAAAAAAAAAAAAAAAAAAAAAAAAAAAAAAAAAAAAAAAAAAAAAAAAAAAAAAAAAAAAAAAAAAAAAAAAAAAAAAAAAAAAAAAAAAAAAAAAAAAAAAAAAAAAAAAAAAAAAAAAAAAAAAAAAAAAAAAAAAAAAAAAAAAAAAAAAAAAAAAAAAAAAAAAAAAAAAAAAAAAAAAAAAAAAAAAAAAAAAAAAAAAAAAAAAAAAAAAAAAAAAAAAAAAAAAAAAAAAAAAAAAAAAAAAAAAAAAAAAAAAAAAAAAAAAAAAAAAAAAAAAAAAAAAAAAAAAAAAAAAAAAAAAAAAAAAAAAAAAAAAAAAAAAAAAAAAAAAAAAAAAAAAAAAAAAAAAAAAAAAAAAAAAAAAAAAAAAAAAAAAAAAAAAAAAAAAAAAAAAAAAAAAAAAAAAAAAAAAAAAAAAAAAAAAAAAAAAAAAAAAAAAAAAAAAAAAAAAAAAAAAAAAAAAAAAAAAAAAAAAAAAAAAAAAAAAAAAAAAAAAAAAAAAAAAAAAAAAAAAAAAAAAAAAAAAAAAAAAAAAAAAAAAAAAAAAAAAAAAAAAAAAAAAAAAAAAAAAAAAAAAAAAAAAAAAAAAAAAAAAAAAAAAAAAAAAAAAAAAAAAAAAAAAAAAAAAAAAAAAAAAAAAAAAAAAAAAAAAAAAAAAAAAAAAAAAAAAAAAAAAAAAAAAAAAAAAAAAAAAAAAAAAAAAAAAAAAAAAAAAAAAAAAAAAAAAAAAAAAAAAAAAAAAAAAAAAAAAAAAAAAAAAAAAAAAAAAAAAAAAAAAAAAAAAAAAAAAAAAAAAAAAAAAAAAAAAAAAAAAAAAAAAAAAAAAAAAAAAAAAAAAAAAAAAAAAAAAAAAAAAAAAAAAAAAAAAAAAAAAAAAAAAAAAAAAAAAAAAAAAAAAAAAAAAAAAAAAAAAAAAAAAAAAAAAAAAAAAAAAAAAAAAAAAAAAAAAAAAAAAAAAAAAAAAAAAAAAAAAAAAAAAAAAAAAAAAAAAAAAAAAAAAAAAAAAAAAAAAAAAAAAAAAAAAAAAAAAAAAAAAAAAAAAAAAAAAAAAAAAAAAAAAAAAAAAAAAAAAAAAAAAAAAAAAAAAAAAAAAAAAAAAAAAAAAAAAAAAAAAAAAAAAAAAAAAAAAAAAAAAAAAAAAAAAAAAAAAAAAAAAAAAAAAAAAAAAAAAAAAAAAAAAAAAAAAAAAAAAAAAAAAAAAAAAAAAAAAAAAAAAAAAAAAAAAAAAAAAAAAAAAAAAAAAAAAAAAAAAAAAAAAAAAAAAAAAAAAAAAAAAAAAAAAAAAAAAAAAAAAAAAAAAAAAAAAAAAAAAAAAAAAAAAAAAAAAAAAAAAAAAAAAAAAAAAAAAAAAAAAAAAAAAAAAAAAAAAAAAAAAAAAAAAAAAAAAAAAAAAAAAAAAAAAAAAAAAAAAAAAAAAAAAAAAAAAAAAAAAAAAAAAAAAAAAAAAAAAAAAAAAAAAAAAAAAAAAAAAAAAAAAAAAAAAAAAAAAAAAAAAAAAAAAAAAAAAAAAAAAAAAAAAAAAAAAAAAAAAAAAAAAAAAAAAAAAAAAAAAAAAAAAAAAAAAAAAAAAAAAAAAAAAAAAAAAAAAAAAAAAAAAAAAAAAAAAAAAAAAAAAAAAAAAAAAAAAAAAAAAAAAAAAAAAAAAAAAAAAAAAAAAAAAAAAAAAAAAAAAAAAAAAAAAAAAAAAAAAAAAAAAAAAAAAAAAAAAAAAAAAAAAAAAAAAAAAAAAAAAAAAAAAAAAAAAAAAAAAAAAAAAAAAAAAAAAAAAAAAAAAAAAAAAAAAAAAAAAAAAAAAAAAAAAAAAAAAAAAAAAAAAAAAAAAAAAAAAAAAAAAAAAAAAAAAAAAAAAAAAAAAAAAAAAAAAAAAAAAAAAAAAAAAAAAAAAAAAAAAAAAAAAAAAAAAAAAAAAAAAAAAAAAAAAAAAAAAAAAAAAAAAAAAAAAAAAAAAAAAAAAAAAAAAAAAAAAAAAAAAAAAAAAAAAAAAAAAAAAAAAAAAAAAAAAAAAAAAAAAAAAAAAAAAAAAAAAAAAAAAAAAAAAAAAAAAAAAAAAAAAAAAAAAAAAAAAAAAAAAAAAAAAAAAAAAAAAAAAAAAAAAAAAAAAAAAAAAAAAAAAAAAAAAAAAAAAAAAAAAAAAAAAAAAAAAAAAAAAAAAAAAAAAAAAAAAAAAAAAAAAAAAAAAAAAAAAAAAAAAAAAAAAAAAAAAAAAAAAAAAAAAAAAAAAAAAAAAAAAAAAAAAAAAAAAAAAAAAAAAAAAAAAAAAAAAAAAAAAAAAAAAAAAAAAAAAAAAAAAAAAAAAAAAAAAAAAAAAAAAAAAAAAAAAAAAAAAAAAAAAAAAAAAAAAAAAAAAAAAAAAAAAAAAAAAAAAAAAAAAAAAAAAAAAAAAAAAAAAAAAAAAAAAAAAAAAAAAAAAAAAAAAAAAAAAAAAAAAAAAAAAAAAAAAAAAAAAAAAAAAAAAAAAAAAAAAAAAAAAAAAAAAAAAAAAAAAAAAAAAAAAAAAAAAAAAAAAAAAAAAAAAAAAAAAAAAAAAAAAAAAAAAAAAAAAAAAAAAAAAAAAAAAAAAAAAAAAAAAAAAAAAAAAAAAAAAAAAAAAAAAAAAAAAAAAAAAAAAAAAAAAAAAAAAAAAAAAAAAAAAAAAAAAAAAAAAAAAAAAAAAAAAAAAAAAAAAAAAAAAAAAAAAAAAAAAAAAAAAAAAAAAAAAAAAAAAAAAAAAAAAAAAAAAAAAAAAAAAAAAAAAAAAAAAAAAAAAAAAAAAAAAAAAAAAAAAAAAAAAAAAAAAAAAAAAAAAAAAAAAAAAAAAAAAAAAAAAAAAAAAAAAAAAAAAAAAAAAAAAAAAAAAAAAAAAAAAAAAAAAAAAAAAAAAAAAAAAAAAAAAAAAAAAAAAAAAAAAAAAAAAAAAAAAAAAAAAAAAAAAAAAAAAAAAAAAAAAAAAAAAAAAAAAAAAAAAAAAAAAAAAAAAAAAAAAAAAAAAAAAAAAAAAAAAAAAAAAAAAAAAAAAAAAAAAAAAAAAAAAAAAAAAAAAAAAAAAAAAAAAAAAAAAAAAAAAAAAAAAAAAAAAAAAAAAAAAAAAAAAAAAAAAAAAAAAAAAAAAAAAAAAAAAAAAAAAAAAAAAAAAAAAAAAAAAAAAAAAAAAAAAAAAAAAAAAAAAAAAAAAAAAAAAAAAAAAAAAAAAAAAAAAAAAAAAAAAAAAAAAAAAAAAAAAAAAAAAAAAAAAAAAAAAAAAAAAAAAAAAAAAAAAAAAAAAAAAAAAAAAAAAAAAAAAAAAAAAAAAAAAAAAAAAAAAAAAAAAAAAAAAAAAAAAAAAAAAAAAAAAAAAAAAAAAAAAAAAAAAAAAAAAAAAAAAAAAAAAAAAAAAAAAAAAAAAAAAAAAAAAAAAAAAAAAAAAAAAAAAAAAAAAAAAAAAAAAAAAAAAAAAAAAAAAAAAAAAAAAAAAAAAAAAAAAAAAAAAAAAAAAAAAAAAAAAAAAAAAAAAAAAAAAAAAAAAAAAAAAAAAAAAAAAAAAAAAAAAAAAAAAAAAAAAAAAAAAAAAAAAAAAAAAAAAAAAAAAAAAAAAAAAAAAAAAAAAAAAAAAAAAAAAAAAAAAAAAAAAAAAAAAAAAAAAAAAAAAAAAAAAAAAAAAAAAAAAAAAAAAAAAAAAAAAAAAAAAAAAAAAAAAAAAAAAAAAAAAAAAAAAAAAAAAAAAAAAAAAAAAAAAAAAAAAAAAAAAAAAAAAAAAAAAAAAAAAAAAAAAAAAAAAAAAAAAAAAAAAAAAAAAAAAAAAAAAAAAAAAAAAAAAAAAAAAAAAAAAAAAAAAAAAAAAAAAAAAAAAAAAAAAAAAAAAAAAAAAAAAAAAAAAAAAAAAAAAAAAAAAAAAAAAAAAAAAAAAAAAAAAAAAAAAAAAAAAAAAAAAAAAAAAAAAAAAAAAAAAAAAAAAAAAAAAAAAAAAAAAAAAAAAAAAAAAAAAAAAAAAAAAAAAAAAAAAAAAAAAAAAAAAAAAAAAAAAAAAAAAAAAAAAAAAAAAAAAAAAAAAAAAAAAAAAAAAAAAAAAAAAAAAAAAAAAAAAAAAAAAAAAAAAAAAAAAAAAAAAAAAAAAAAAAAAAAAAAAAAAAAAAAAAAAAAAAAAAAAAAAAAAAAAAAAAAAAAAAAAAAAAAAAAAAAAAAAAAAAAAAAAAAAAAAAAAAAAAAAAAAAAAAAAAAAAAAAAAAAAAAAAAAAAAAAAAAAAAAAAAAAAAAAAAAAAAAAAAAAAAAAAAAAAAAAAAAAAAAAAAAAAAAAAAAAAAAAAAAAAAAAAAAAAAAAAAAAAAAAAAAAAAAAAAAAAAAAAAAAAAAAAAAAAAAAAAAAAAAAAAAAAAAAAAAAAAAAAAAAAAAAAAAAAAAAAAAAAAAAAAAAAAAAAAAAAAAAAAAAAAAAAAAAAAAAAAAAAAAAAAAAAAAAAAAAAAAAAAAAAAAAAAAAAAAAAAAAAAAAAAAAAAAAAAAAAAAAAAAAAAAAAAAAAAAAAAAAAAAAAAAAAAAAAAAAAAAAAAAAAAAAAAAAAAAAAAAAAAAAAAAAAAAAAAAAAAAAAAAAAAAAAAAAAAAAAAAAAAAAAAAAAAAAAAAAAAAAAAAAAAAAAAAAAAAAAAAAAAAAAAAAAAAAAAAAAAAAAAAAAAAAAAAAAAAAAAAAAAAAAAAAAAAAAAAAAAAAAAAAAAAAAAAAAAAAAAAAAAAAAAAAAAAAAAAAAAAAAAAAAAAAAAAAAAAAAAAAAAAAAAAAAAAAAAAAAAAAAAAAAAAAAAAAAAAAAAAAAAAAAAAAAAAAAAAAAAAAAAAAAAAAAAAAAAAAAAAAAAAAAAAAAAAAAAAAAAAAAAAAAAAAAAAAAAAAAAAAAAAAAAAAAAAAAAAAAAAAAAAAAAAAAAAAAAAAAAAAAAAAAAAAAAAAAAAAAAAAAAAAAAAAAAAAAAAAAAAAAAAAAAAAAAAAAAAAAAAAAAAAAAAAAAAAAAAAAAAAAAAAAAAAAAAAAAAAAAAAAAAAAAAAAAAAAAAAAAAAAAAAAAAAAAAAAAAAAAAAAAAAAAAAAAAAAAAAAAAAAAAAAAAAAAAAAAAAAAAAAAAAAAAAAAAAAAAAAAAAAAAAAAAAAAAAAAAAAAAAAAAAAAAAAAAAAAAAAAAAAAAAAAAAAAAAAAAAAAAAAAAAAAAAAAAAAAAAAAAAAAAAAAAAAAAAAAAAAAAAAAAAAAAAAAAAAAAAAAAAAAAAAAAAAAAAAAAAAAAAAAAAAAAAAAAAAAAAAAAAAAAAAAAAAAAAAAAAAAAAAAAAAAAAAAAAAAAAAAAAAAAAAAAAAAAAAAAAAAAAAAAAAAAAAAAAAAAAAAAAAAAAAAAAAAAAAAAAAAAAAAAAAAAAAAAAAAAAAAAAAAAAAAAAAAAAAAAAAAAAAAAAAAAAAAAAAAAAAAAAAAAAAAAAAAAAAAAAAAAAAAAAAAAAAAAAAAAAAAAAAAAAAAAAAAAAAAAAAAAAAAAAAAAAAAAAAAAAAAAAAAAAAAAAAAAAAAAAAAAAAAAAAAAAAAAAAAAAAAAAAAAAAAAAAAAAAAAAAAAAAAAAAAAAAAAAAAAAAAAAAAAAAAAAAAAAAAAAAAAAAAAAAAAAAAAAAAAAAAAAAAAAAAAAAAAAAAAAAAAAAAAAAAAAAAAAAAAAAAAAAAAAAAAAAAAAAAAAAAAAAAAAAAAAAAAAAAAAAAAAAAAAAAAAAAAAAAAAAAAAAAAAAAAAAAAAAAAAAAAAAAAAAAAAAAAAAAAAAAAAAAAAAAAAAAAAAAAAAAAAAAAAAAAAAAAAAAAAAAAAAAAAAAAAAAAAAAAAAAAAAAAAAAAAAAAAAAAAAAAAAAAAAAAAAAAAAAAAAAAAAAAAAAAAAAAAAAAAAAAAAAAAAAAAAAAAAAAAAAAAAAAAAAAAAAAAAAAAAAAAAAAAAAAAAAAAAAAAAAAAAAAAAAAAAAAAAAAAAAAAAAAAAAAAAAAAAAAAAAAAAAAAAAAAAAAAAAAAAAAAAAAAAAAAAAAAAAAAAAAAAAAAAAAAAAAAAAAAAAAAAAAAAAAAAAAAAAAAAAAAAAAAAAAAAAAAAAAAAAAAAAAAAAAAAAAAAAAAAAAAAAAAAAAAAAAAAAAAAAAAAAAAAAAAAAAAAAAAAAAAAAAAAAAAAAAAAAAAAAAAAAAAAAAAAAAAAAAAAAAAAAAAAAAAAAAAAAAAAAAAAAAAAAAAAAAAAAAAAAAAAAAAAAAAAAAAAAAAAAAAAAAAAAAAAAAAAAAAAAAAAAAAAAAAAAAAAAAAAAAAAAAAAAAAAAAAAAAAAAAAAAAAAAAAAAAAAAAAAAAAAAAAAAAAAAAAAAAAAAAAAAAAAAAAAAAAAAAAAAAAAAAAAAAAAAAAAAAAAAAAAAAAAAAAAAAAAAAAAAAAAAAAAAAAAAAAAAAAAAAAAAAAAAAAAAAAAAAAAAAAAAAAAAAAAAAAAAAAAAAAAAAAAAAAAAAAAAAAAAAAAAAAAAAAAAAAAAAAAAAAAAAAAAAAAAAAAAAAAAAAAAAAAAAAAAAAAAAAAAAAAAAAAAAAAAAAAAAAAAAAAAAAAAAAAAAAAAAAAAAAAAAAAAAAAAAAAAAAAAAAAAAAAAAAAAAAAAAAAAAAAAAAAAAAAAAAAAAAAAAAAAAAAAAAAAAAAAAAAAAAAAAAAAAAAAAAAAAAAAAAAAAAAAAAAAAAAAAAAAAAAAAAAAAAAAAAAAAAAAAAAAAAAAAAAAAAAAAAAAAAAAAAAAAAAAAAAAAAAAAAAAAAAAAAAAAAAAAAAAAAAAAAAAAAAAAAAAAAAAAAAAAAAAAAAAAAAAAAAAAAAAAAAAAAAAAAAAAAAAAAAAAAAAAAAAAAAAAAAAAAAAAAAAAAAAAAAAAAAAAAAAAAAAAAAAAAAAAAAAAAAAAAAAAAAAAAAAAAAAAAAAAAAAAAAAAAAAAAAAAAAAAAAAAAAAAAAAAAAAAAAAAAAAAAAAAAAAAAAAAAAAAAAAAAAAAAAAAAAAAAAAAAAAAAAAAAAAAAAAAAAAAAAAAAAAAAAAAAAAAAAAAAAAAAAAAAAAAAAAAAAAAAAAAAAAAAAAAAAAAAAAAAAAAAAAAAAAAAAAAAAAAAAAAAAAAAAAAAAAAAAAAAAAAAAAAAAAAAAAAAAAAAAAAAAAAAAAAAAAAAAAAAAAAAAAAAAAAAAAAAAAAAAAAAAAAAAAAAAAAAAAAAAAAAAAAAAAAAAAAAAAAAAAAAAAAAAAAAAAAAAAAAAAAAAAAAAAAAAAAAAAAAAAAAAAAAAAAAAAAAAAAAAAAAAAAAAAAAAAAAAAAAAAAAAAAAAAAAAAAAAAAAAAAAAAAAAAAAAAAAAAAAAAAAAAAAAAAAAAAAAAAAAAAAAAAAAAAAAAAAAAAAAAAAAAAAAAAAAAAAAAAAAAAAAAAAAAAAAAAAAAAAAAAAAAAAAAAAAAAAAAAAAAAAAAAAAAAAAAAAAAAAAAAAAAAAAAAAAAAAAAAAAAAAAAAAAAAAAAAAAAAAAAAAAAAAAAAAAAAAAAAAAAAAAAAAAAAAAAAAAAAAAAAAAAAAAAAAAAAAAAAAAAAAAAAAAAAAAAAAAAAAAAAAAAAAAAAAAAAAAAAAAAAAAAAAAAAAAAAAAAAAAAAAAAAAAAAAAAAAAAAAAAAAAAAAAAAAAAAAAAAAAAAAAAAAAAAAAAAAAAAAAAAAAAAAAAAAAAAAAAAAAAAAAAAAAAAAAAAAAAAAAAAAAAAAAAAAAAAAAAAAAAAAAAAAAAAAAAAAAAAAAAAAAAAAAAAAAAAAAAAAAAAAAAAAAAAAAAAAAAAAAAAAAAAAAAAAAAAAAAAAAAAAAAAAAAAAAAAAAAAAAAAAAAAAAAAAAAAAAAAAAAAAAAAAAAAAAAAAAAAAAAAAAAAAAAAAAAAAAAAAAAAAAAAAAAAAAAAAAAAAAAAAAAAAAAAAAAAAAAAAAAAAAAAAAAAAAAAAAAAAAAAAAAAAAAAAAAAAAAAAAAAAAAAAAAAAAAAAAAAAAAAAAAAAAAAAAAAAAAAAAAAAAAAAAAAAAAAAAAAAAAAAAAAAAAAAAAAAAAAAAAAAAAAAAAAAAAAAAAAAAAAAAAAAAAAAAAAAAAAAAAAAAAAAAAAAAAAAAAAAAAAAAAAAAAAAAAAAAAAAAAAAAAAAAAAAAAAAAAAAAAAAAAAAAAAAAAAAAAAAAAAAAAAAAAAAAAAAAAAAAAAAAAAAAAAAAAAAAAAAAAAAAAAAAAAAAAAAAAAAAAAAAAAAAAAAAAAAAAAAAAAAAAAAAAAAAAAAAAAAAAAAAAAAAAAAAAAAAAAAAAAAAAAAAAAAAAAAAAAAAAAAAAAAAAAAAAAAAAAAAAAAAAAAAAAAAAAAAAAAAAAAAAAAAAAAAAAAAAAAAAAAAAAAAAAAAAAAAAAAAAAAAAAAAAAAAAAAAAAAAAAAAAAAAAAAAAAAAAAAAAAAAAAAAAAAAAAAAAAAAAAAAAAAAAAAAAAAAAAAAAAAAAAAAAAAAAAAAAAAAAAAAAAAAAAAAAAAAAAAAAAAAAAAAAAAAAAAAAAAAAAAAAAAAAAAAAAAAAAAAAAAAAAAAAAAAAAAAAAAAAAAAAAAAAAAAAAAAAAAAAAAAAAAAAAAAAAAAAAAAAAAAAAAAAAAAAAAAAAAAAAAAAAAAAAAAAAAAAAAAAAAAAAAAAAAAAAAAAAAAAAAAAAAAAAAAAAAAAAAAAAAAAAAAAAAAAAAAAAAAAAAAAAAAAAAAAAAAAAAAAAAAAAAAAAAAAAAAAAAAAAAAAAAAAAAAAAAAAAAAAAAAAAAAAAAAAAAAAAAAAAAAAAAAAAAAAAAAAAAAAAAAAAAAAAAAAAAAAAAAAAAAAAAAAAAAAAAAAAAAAAAAAAAAAAAAAAAAAAAAAAAAAAAAAAAAAAAAAAAAAAAAAAAAAAAAAAAAAAAAAAAAAAAAAAAAAAAAAAAAAAAAAAAAAAAAAAAAAAAAAAAAAAAAAAAAAAAAAAAAAAAAAAAAAAAAAAAAAAAAAAAAAAAAAAAAAAAAAAAAAAAAAAAAAAAAAAAAAAAAAAAAAAAAAAAAAAAAAAAAAAAAAAAAAAAAAAAAAAAAAAAAAAAAAAAAAAAAAAAAAAAAAAAAAAAAAAAAAAAAAAAAAAAAAAAAAAAAAAAAAAAAAAAAAAAAAAAAAAAAAAAAAAAAAAAAAAAAAAAAAAAAAAAAAAAAAAAAAAAAAAAAAAAAAAAAAAAAAAAAAAAAAAAAAAAAAAAAAAAAAAAAAAAAAAAAAAAAAAAAAAAAAAAAAAAAAAAAAAAAAAAAAAAAAAAAAAAAAAAAAAAAAAAAAAAAAAAAAAAAAAAAAAAAAAAAAAAAAAAAAAAAAAAAAAAAAAAAAAAAAAAAAAAAAAAAAAAAAAAAAAAAAAAAAAAAAAAAAAAAAAAAAAAAAAAAAAAAAAAAAAAAAAAAAAAAAAAAAAAAAAAAAAAAAAAAAAAAAAAAAAAAAAAAAAAAAAAAAAAAAAAAAAAAAAAAAAAAAAAAAAAAAAAAAAAAAAAAAAAAAAAAAAAAAAAAAAAAAAAAAAAAAAAAAAAAAAAAAAAAAAAAAAAAAAAAAAAAAAAAAAAAAAAAAAAAAAAAAAAAAAAAAAAAAAAAAAAAAAAAAAAAAAAAAAAAAAAAAAAAAAAAAAAAAAAAAAAAAAAAAAAAAAAAAAAAAAAAAAAAAAAAAAAAAAAAAAAAAAAAAAAAAAAAAAAAAAAAAAAAAAAAAAAAAAAAAAAAAAAAAAAAAAAAAAAAAAAAAAAAAAAAAAAAAAAAAAAAAAAAAAAAAAAAAAAAAAAAAAAAAAAAAAAAAAAAAAAAAAAAAAAAAAAAAAAAAAAAAAAAAAAAAAAAAAAAAAAAAAAAAAAAAAAAAAAAAAAAAAAAAAAAAAAAAAAAAAAAAAAAAAAAAAAAAAAAAAAAAAAAAAAAAAAAAAAAAAAAAAAAAAAAAAAAAAAAAAAAAAAAAAAAAAAAAAAAAAAAAAAAAAAAAAAAAAAAAAAAAAAAAAAAAAAAAAAAAAAAAAAAAAAAAAAAAAAAAAAAAAAAAAAAAAAAAAAAAAAAAAAAAAAAAAAAAAAAAAAAAAAAAAAAAAAAAAAAAAAAAAAAAAAAAAAAAAAAAAAAAAAAAAAAAAAAAAAAAAAAAAAAAAAAAAAAAAAAAAAAAAAAAAAAAAAAAAAAAAAAAAAAAAAAAAAAAAAAAAAAAAAAAAAAAAAAAAAAAAAAAAAAAAAAAAAAAAAAAAAAAAAAAAAAAAAAAAAAAAAAAAAAAAAAAAAAAAAAAAAAAAAAAAAAAAAAAAAAAAAAAAAAAAAAAAAAAAAAAAAAAAAAAAAAAAAAAAAAAAAAAAAAAAAAAAAAAAAAAAAAAAAAAAAAAAAAAAAAAAAAAAAAAAAAAAAAAAAAAAAAAAAAAAAAAAAAAAAAAAAAAAAAAAAAAAAAAAAAAAAAAAAAAAAAAAAAAAAAAAAAAAAAAAAAAAAAAAAAAAAAAAAAAAAAAAAAAAAAAAAAAAAAAAAAAAAAAAAAAAAAAAAAAAAAAAAAAAAAAAAAAAAAAAAAAAAAAAAAAAAAAAAAAAAAAAAAAAAAAAAAAAAAAAAAAAAAAAAAAAAAAAAAAAAAAAAAAAAAAAAAAAAAAAAAAAAAAAAAAAAAAAAAAAAAAAAAAAAAAAAAAAAAAAAAAAAAAAAAAAAAAAAAAAAAAAAAAAAAAAAAAAAAAAAAAAAAAAAAAAAAAAAAAAAAAAAAAAAAAAAAAAAAAAAAAAAAAAAAAAAAAAAAAAAAAAAAAAAAAAAAAAAAAAAAAAAAAAAAAAAAAAAAAAAAAAAAAAAAAAAAAAAAAAAAAAAAAAAAAAAAAAAAAAAAAAAAAAAAAAAAAAAAAAAAAAAAAAAAAAAAAAAAAAAAAAAAAAAAAAAAAAAAAAAAAAAAAAAAAAAAAAAAAAAAAAAAAAAAAAAAAAAAAAAAAAAAAAAAAAAAAAAAAAAAAAAAAAAAAAAAAAAAAAAAAAAAAAAAAAAAAAAAAAAAAAAAAAAAAAAAAAAAAAAAAAAAAAAAAAAAAAAAAAAAAAAAAAAAAAAAAAAAAAAAAAAAAAAAAAAAAAAAAAAAAAAAAAAAAAAAAAAAAAAAAAAAAAAAAAAAAAAAAAAAAAAAAAAAAAAAAAAAAAAAAAAAAAAAAAAAAAAAAAAAAAAAAAAAAAAAAAAAAAAAAAAAAAAAAAAAAAAAAAAAAAAAAAAAAAAAAAAAAAAAAAAAAAAAAAAAAAAAAAAAAAAAAAAAAAAAAAAAAAAAAAAAAAAAAAAAAAAAAAAAAAAAAAAAAAAAAAAAAAAAAAAAAAAAAAAAAAAAAAAAAAAAAAAAAAAAAAAAAAAAAAAAAAAAAAAAAAAAAAAAAAAAAAAAAAAAAAAAAAAAAAAAAAAAAAAAAAAAAAAAAAAAAAAAAAAAAAAAAAAAAAAAAAAAAAAAAAAAAAAAAAAAAAAAAAAAAAAAAAAAAAAAAAAAAAAAAAAAAAAAAAAAAAAAAAAAAAAAAAAAAAAAAAAAAAAAAAAAAAAAAAAAAAAAAAAAAAAAAAAAAAAAAAAAAAAAAAAAAAAAAAAAAAAAAAAAAAAAAAAAAAAAAAAAAAAAAAAAAAAAAAAAAAAAAAAAAAAAAAAAAAAAAAAAAAAAAAAAAAAAAAAAAAAAAAAAAAAAAAAAAAAAAAAAAAAAAAAAAAAAAAAAAAAAAAAAAAAAAAAAAAAAAAAAAAAAAAAAAAAAAAAAAAAAAAAAAAAAAAAAAAAAAAAAAAAAAAAAAAAAAAAAAAAAAAAAAAAAAAAAAAAAAAAAAAAAAAAAAAAAAAAAAAAAAAAAAAAAAAAAAAAAAAAAAAAAAAAAAAAAAAAAAAAAAAAAAAAAAAAAAAAAAAAAAAAAAAAAAAAAAAAAAAAAAAAAAAAAAAAAAAAAAAAAAAAAAAAAAAAAAAAAAAAAAAAAAAAAAAAAAAAAAAAAAAAAAAAAAAAAAAAAAAAAAAAAAAAAAAAAAAAAAAAAAAAAAAAAAAAAAAAAAAAAAAAAAAAAAAAAAAAAAAAAAAAAAAAAAAAAAAAAAAAAAAAAAAAAAAAAAAAAAAAAAAAAAAAAAAAAAAAAAAAAAAAAAAAAAAAAAAAAAAAAAAAAAAAAAAAAAAAAAAAAAAAAAAAAAAAAAAAAAAAAAAAAAAAAAAAAAAAAAAAAAAAAAAAAAAAAAAAAAAAAAAAAAAAAAAAAAAAAAAAAAAAAAAAAAAAAAAAAAAAAAAAAAAAAAAAAAAAAAAAAAAAAAAAAAAAAAAAAAAAAAAAAAAAAAAAAAAAAAAAAAAAAAAAAAAAAAAAAAAAAAAAAAAAAAAAAAAAAAAAAAAAAAAAAAAAAAAAAAAAAAAAAAAAAAAAAAAAAAAAAAAAAAAAAAAAAAAAAAAAAAAAAAAAAAAAAAAAAAAAAAAAAAAAAAAAAAAAAAAAAAAAAAAAAAAAAAAAAAAAAAAAAAAAAAAAAAAAAAAAAAAAAAAAAAAAAAAAAAAAAAAAAAAAAAAAAAAAAAAAAAAAAAAAAAAAAAAAAAAAAAAAAAAAAAAAAAAAAAAAAAAAAAAAAAAAAAAAAAAAAAAAAAAAAAAAAAAAAAAAAAAAAAAAAAAAAAAAAAAAAAAAAAAAAAAAAAAAAAAAAAAAAAAAAAAAAAAAAAAAAAAAAAAAAAAAAAAAAAAAAAAAAAAAAAAAAAAAAAAAAAAAAAAAAAAAAAAAAAAAAAAAAAAAAAAAAAAAAAAAAAAAAAAAAAAAAAAAAAAAAAAAAAAAAAAAAAAAAAAAAAAAAAAAAAAAAAAAAAAAAAAAAAAAAAAAAAAAAAAAAAAAAAAAAAAAAAAAAAAAAAAAAAAAAAAAAAAAAAAAAAAAAAAAAAAAAAAAAAAAAAAAAAAAAAAAAAAAAAAAAAAAAAAAAAAAAAAAAAAAAAAAAAAAAAAAAAAAAAAAAAAAAAAAAAAAAAAAAAAAAAAAAAAAAAAAAAAAAAAAAAAAAAAAAAAAAAAAAAAAAAAAAAAAAAAAAAAAAAAAAAAAAAAAAAAAAAAAAAAAAAAAAAAAAAAAAAAAAAAAAAAAAAAAAAAAAAAAAAAAAAAAAAAAAAAAAAAAAAAAAAAAAAAAAAAAAAAAAAAAAAAAAAAAAAAAAAAAAAAAAAAAAAAAAAAAAAAAAAAAAAAAAAAAAAAAAAAAAAAAAAAAAAAAAAAAAAAAAAAAAAAAAAAAAAAAAAAAAAAAAAAAAAAAAAAAAAAAAAAAAAAAAAAAAAAAAAAAAAAAAAAAAAAAAAAAAAAAAAAAAAAAAAAAAAAAAAAAAAAAAAAAAAAAAAAAAAAAAAAAAAAAAAAAAAAAAAAAAAAAAAAAAAAAAAAAAAAAAAAAAAAAAAAAAAAAAAAAAAAAAAAAAAAAAAAAAAAAAAAAAAAAAAAAAAAAAAAAAAAAAAAAAAAAAAAAAAAAAAAAAAAAAAAAAAAAAAAAAAAAAAAAAAAAAAAAAAAAAAAAAAAAAAAAAAAAAAAAAAAAAAAAAAAAAAAAAAAAAAAAAAAAAAAAAAAAAAAAAAAAAAAAAAAAAAAAAAAAAAAAAAAAAAAAAAAAAAAAAAAAAAAAAAAAAAAAAAAAAAAAAAAAAAAAAAAAAAAAAAAAAAAAAAAAAAAAAAAAAAAAAAAAAAAAAAAAAAAAAAAAAAAAAAAAAAAAAAAAAAAAAAAAAAAAAAAAAAAAAAAAAAAAAAAAAAAAAAAAAAAAAAAAAAAAAAAAAAAAAAAAAAAAAAAAAAAAAAAAAAAAAAAAAAAAAAAAAAAAAAAAAAAAAAAAAAAAAAAAAAAAAAAAAAAAAAAAAAAAAAAAAAAAAAAAAAAAAAAAAAAAAAAAAAAAAAAAAAAAAAAAAAAAAAAAAAAAAAAAAAAAAAAAAAAAAAAAAAAAAAAAAAAAAAAAAAAAAAAAAAAAAAAAAAAAAAAAAAAAAAAAAAAAAAAAAAAAAAAAAAAAAAAAAAAAAAAAAAAAAAAAAAAAAAAAAAAAAAAAAAAAAAAAAAAAAAAAAAAAAAAAAAAAAAAAAAAAAAAAAAAAAAAAAAAAAAAAAAAAAAAAAAAAAAAAAAAAAAAAAAAAAAAAAAAAAAAAAAAAAAAAAAAAAAAAAAAAAAAAAAAAAAAAAAAAAAAAAAAAAAAAAAAAAAAAAAAAAAAAAAAAAAAAAAAAAAAAAAAAAAAAAAAAAAAAAAAAAAAAAAAAAAAAAAAAAAAAAAAAAAAAAAAAAAAAAAAAAAAAAAAAAAAAAAAAAAAAAAAAAAAAAAAAAAAAAAAAAAAAAAAAAAAAAAAAAAAAAAAAAAAAAAAAAAAAAAAAAAAAAAAAAAAAAAAAAAAAAAAAAAAAAAAAAAAAAAAAAAAAAAAAAAAAAAAAAAAAAAAAAAAAAAAAAAAAAAAAAAAAAAAAAAAAAAAAAAAAAAAAAAAAAAAAAAAAAAAAAAAAAAAAAAAAAAAAAAAAAAAAAAAAAAAAAAAAAAAAAAAAAAAAAAAAAAAAAAAAAAAAAAAAAAAAAAAAAAAAAAAAAAAAAAAAAAAAAAAAAAAAAAAAAAAAAAAAAAAAAAAAAAAAAAAAAAAAAAAAAAAAAAAAAAAAAAAAAAAAAAAAAAAAAAAAAAAAAAAAAAAAAAAAAAAAAAAAAAAAAAAAAAAAAAAAAAAAAAAAAAAAAAAAAAAAAAAAAAAAAAAAAAAAAAAAAAAAAAAAAAAAAAAAAAAAAAAAAAAAAAAAAAAAAAAAAAAAAAAAAAAAAAAAAAAAAAAAAAAAAAAAAAAAAAAAAAAAAAAAAAAAAAAAAAAAAAAAAAAAAAAAAAAAAAAAAAAAAAAAAAAAAAAAAAAAAAAAAAAAAAAAAAAAAAAAAAAAAAAAAAAAAAAAAAAAAAAAAAAAAAAAAAAAAAAAAAAAAAAAAAAAAAAAAAAAAAAAAAAAAAAAAAAAAAAAAAAAAAAAAAAAAAAAAAAAAAAAAAAAAAAAAAAAAAAAAAAAAAAAAAAAAAAAAAAAAAAAAAAAAAAAAAAAAAAAAAAAAAAAAAAAAAAAAAAAAAAAAAAAAAAAAAAAAAAAAAAAAAAAAAAAAAAAAAAAAAAAAAAAAAAAAAAAAAAAAAAAAAAAAAAAAAAAAAAAAAAAAAAAAAAAAAAAAAAAAAAAAAAAAAAAAAAAAAAAAAAAAAAAAAAAAAAAAAAAAAAAAAAAAAAAAAAAAAAAAAAAAAAAAAAAAAAAAAAAAAAAAAAAAAAAAAAAAAAAAAAAAAAAAAAAAAAAAAAAAAAAAAAAAAAAAAAAAAAAAAAAAAAAAAAAAAAAAAAAAAAAAAAAAAAAAAAAAAAAAAAAAAAAAAAAAAAAAAAAAAAAAAAAAAAAAAAAAAAAAAAAAAAAAAAAAAAAAAAAAAAAAAAAAAAAAAAAAAAAAAAAAAAAAAAAAAAAAAAAAAAAAAAAAAAAAAAAAAAAAAAAAAAAAAAAAAAAAAAAAAAAAAAAAAAAAAAAAAAAAAAAAAAAAAAAAAAAAAAAAAAAAAAAAAAAAAAAAAAAAAAAAAAAAAAAAAAAAAAAAAAAAAAAAAAAAAAAAAAAAAAAAAAAAAAAAAAAAAAAAAAAAAAAAAAAAAAAAAAAAAAAAAAAAAAAAAAAAAAAAAAAAAAAAAAAAAAAAAAAAAAAAAAAAAAAAAAAAAAAAAAAAAAAAAAAAAAAAAAAAAAAAAAAAAAAAAAAAAAAAAAAAAAAAAAAAAAAAAAAAAAAAAAAAAAAAAAAAAAAAAAAAAAAAAAAAAAAAAAAAAAAAAAAAAAAAAAAAAAAAAAAAAAAAAAAAAAAAAAAAAAAAAAAAAAAAAAAAAAAAAAAAAAAAAAAAAAAAAAAAAAAAAAAAAAAAAAAAAAAAAAAAAAAAAAAAAAAAAAAAAAAAAAAAAAAAAAAAAAAAAAAAAAAAAAAAAAAAAAAAAAAAAAAAAAAAAAAAAAAAAAAAAAAAAAAAAAAAAAAAAAAAAAAAAAAAAAAAAAAAAAAAAAAAAAAAAAAAAAAAAAAAAAAAAAAAAAAAAAAAAAAAAAAAAAAAAAAAAAAAAAAAAAAAAAAAAAAAAAAAAAAAAAAAAAAAAAAAAAAAAAAAAAAAAAAAAAAAAAAAAAAAAAAAAAAAAAAAAAAAAAAAAAAAAAAAAAAAAAAAAAAAAAAAAAAAAAAAAAAAAAAAAAAAAAAAAAAAAAAAAAAAAAAAAAAAAAAAAAAAAAAAAAAAAAAAAAAAAAAAAAAAAAAAAAAAAAAAAAAAAAAAAAAAAAAAAAAAAAAAAAAAAAAAAAAAAAAAAAAAAAAAAAAAAAAAAAAAAAAAAAAAAAAAAAAAAAAAAAAAAAAAAAAAAAAAAAAAAAAAAAAAAAAAAAAAAAAAAAAAAAAAAAAAAAAAAAAAAAAAAAAAAAAAAAAAAAAAAAAAAAAAAAAAAAAAAAAAAAAAAAAAAAAAAAAAAAAAAAAAAAAAAAAAAAAAAAAAAAAAAAAAAAAAAAAAAAAAAAAAAAAAAAAAAAAAAAAAAAAAAAAAAAAAAAAAAAAAAAAAAAAAAAAAAAAAAAAAAAAAAAAAAAAAAAAAAAAAAAAAAAAAAAAAAAAAAAAAAAAAAAAAAAAAAAAAAAAAAAAAAAAAAAAAAAAAAAAAAAAAAAAAAAAAAAAAAAAAAAAAAAAAAAAAAAAAAAAAAAAAAAAAAAAAAAAAAAAAAAAAAAAAAAAAAAAAAAAAAAAAAAAAAAAAAAAAAAAAAAAAAAAAAAAAAAAAAAAAAAAAAAAAAAAAAAAAAAAAAAAAAAAAAAAAAAAAAAAAAAAAAAAAAAAAAAAAAAAAAAAAAAAAAAAAAAAAAAAAAAAAAAAAAAAAAAAAAAAAAAAAAAAAAAAAAAAAAAAAAAAAAAAAAAAAAAAAAAAAAAAAAAAAAAAAAAAAAAAAAAAAAAAAAAAAAAAAAAAAAAAAAAAAAAAAAAAAAAAAAAAAAAAAAAAAAAAAAAAAAAAAAAAAAAAAAAAAAAAAAAAAAAAAAAAAAAAAAAAAAAAAAAAAAAAAAAAAAAAAAAAAAAAAAAAAAAAAAAAAAAAAAAAAAAAAAAAAAAAAAAAAAAAAAAAAAAAAAAAAAAAAAAAAAAAAAAAAAAAAAAAAAAAAAAAAAAAAAAAAAAAAAAAAAAAAAAAAAAAAAAAAAAAAAAAAAAAAAAAAAAAAAAAAAAAAAAAAAAAAAAAAAAAAAAAAAAAAAAAAAAAAAAAAAAAAAAAAAAAAAAAAAAAAAAAAAAAAAAAAAAAAAAAAAAAAAAAAAAAAAAAAAAAAAAAAAAAAAAAAAAAAAAAAAAAAAAAAAAAAAAAAAAAAAAAAAAAAAAAAAAAAAAAAAAAAAAAAAAAAAAAAAAAAAAAAAAAAAAAAAAAAAAAAAAAAAAAAAAAAAAAAAAAAAAAAAAAAAAAAAAAAAAAAAAAAAAAAAAAAAAAAAAAAAAAAAAAAAAAAAAAAAAAAAAAAAAAAAAAAAAAAAAAAAAAAAAAAAAAAAAAAAAAAAAAAAAAAAAAAAAAAAAAAAAAAAAAAAAAAAAAAAAAAAAAAAAAAAAAAAAAAAAAAAAAAAAAAAAAAAAAAAAAAAAAAAAAAAAAAAAAAAAAAAAAAAAAAAAAAAAAAAAAAAAAAAAAAAAAAAAAAAAAAAAAAAAAAAAAAAAAAAAAAAAAAAAAAAAAAAAAAAAAAAAAAAAAAAAAAAAAAAAAAAAAAAAAAAAAAAAAAAAAAAAAAAAAAAAAAAAAAAAAAAAAAAAAAAAAAAAAAAAAAAAAAAAAAAAAAAAAAAAAAAAAAAAAAAAAAAAAAAAAAAAAAAAAAAAAAAAAAAAAAAAAAAAAAAAAAAAAAAAAAAAAAAAAAAAAAAAAAAAAAAAAAAAAAAAAAAAAAAAAAAAAAAAAAAAAAAAAAAAAAAAAAAAAAAAAAAAAAAAAAAAAAAAAAAAAAAAAAAAAAAAAAAAAAAAAAAAAAAAAAAAAAAAAAAAAAAAAAAAAAAAAAAAAAAAAAAAAAAAAAAAAAAAAAAAAAAAAAAAAAAAAAAAAAAAAAAAAAAAAAAAAAAAAAAAAAAAAAAAAAAAAAAAAAAAAAAAAAAAAAAAAAAAAAAAAAAAAAAAAAAAAAAAAAAAAAAAAAAAAAAAAAAAAAAAAAAAAAAAAAAAAAAAAAAAAAAAAAAAAAAAAAAAAAAAAAAAAAAAAAAAAAAAAAAAAAAAAAAAAAAAAAAAAAAAAAAAAAAAAAAAAAAAAAAAAAAAAAAAAAAAAAAAAAAAAAAAAAAAAAAAAAAAAAAAAAAAAAAAAAAAAAAAAAAAAAAAAAAAAAAAAAAAAAAAAAAAAAAAAAAAAAAAAAAAAAAAAAAAAAAAAAAAAAAAAAAAAAAAAAAAAAAAAAAAAAAAAAAAAAAAAAAAAAAAAAAAAAAAAAAAAAAAAAAAAAAAAAAAAAAAAAAAAAAAAAAAAAAAAAAAAAAAAAAAAAAAAAAAAAAAAAAAAAAAAAAAAAAAAAAAAAAAAAAAAAAAAAAAAAAAAAAAAAAAAAAAAAAAAAAAAAAAAAAAAAAAAAAAAAAAAAAAAAAAAAAAAAAAAAAAAAAAAAAAAAAAAAAAAAAAAAAAAAAAAAAAAAAAAAAAAAAAAAAAAAAAAAAAAAAAAAAAAAAAAAAAAAAAAAAAAAAAAAAAAAAAAAAAAAAAAAAAAAAAAAAAAAAAAAAAAAAAAAAAAAAAAAAAAAAAAAAAAAAAAAAAAAAAAAAAAAAAAAAAAAAAAAAAAAAAAAAAAAAAAAAAAAAAAAAAAAAAAAAAAAAAAAAAAAAAAAAAAAAAAAAAAAAAAAAAAAAAAAAAAAAAAAAAAAAAAAAAAAAAAAAAAAAAAAAAAAAAAAAAAAAAAAAAAAAAAAAAAAAAAAAAAAAAAAAAAAAAAAAAAAAAAAAAAAAAAAAAAAAAAAAAAAAAAAAAAAAAAAAAAAAAAAAAAAAAAAAAAAAAAAAAAAAAAAAAAAAAAAAAAAAAAAAAAAAAAAAAAAAAAAAAAAAAAAAAAAAAAAAAAAAAAAAAAAAAAAAAAAAAAAAAAAAAAAAAAAAAAAAAAAAAAAAAAAAAAAAAAAAAAAAAAAAAAAAAAAAAAAAAAAAAAAAAAAAAAAAAAAAAAAAAAAAAAAAAAAAAAAAAAAAAAAAAAAAAAAAAAAAAAAAAAAAAAAAAAAAAAAAAAAAAAAAAAAAAAAAAAAAAAAAAAAAAAAAAAAAAAAAAAAAAAAAAAAAAAAAAAAAAAAAAAAAAAAAAAAAAAAAAAAAAAAAAAAAAAAAAAAAAAAAAAAAAAAAAAAAAAAAAAAAAAAAAAAAAAAAAAAAAAAAAAAAAAAAAAAAAAAAAAAAAAAAAAAAAAAAAAAAAAAAAAAAAAAAAAAAAAAAAAAAAAAAAAAAAAAAAAAAAAAAAAAAAAAAAAAAAAAAAAAAAAAAAAAAAAAAAAAAAAAAAAAAAAAAAAAAAAAAAAAAAAAAAAAAAAAAAAAAAAAAAAAAAAAAAAAAAAAAAAAAAAAAAAAAAAAAAAAAAAAAAAAAAAAAAAAAAAAAAAAAAAAAAAAAAAAAAAAAAAAAAAAAAAAAAAAAAAAAAAAAAAAAAAAAAAAAAAAAAAAAAAAAAAAAAAAAAAAAAAAAAAAAAAAAAAAAAAAAAAAAAAAAAAAAAAAAAAAAAAAAAAAAAAAAAAAAAAAAAAAAAAAAAAAAAAAAAAAAAAAAAAAAAAAAAAAAAAAAAAAAAAAAAAAAAAAAAAAAAAAAAAAAAAAAAAAAAAAAAAAAAAAAAAAAAAAAAAAAAAAAAAAAAAAAAAAAAAAAAAAAAAAAAAAAAAAAAAAAAAAAAAAAAAAAAAAAAAAAAAAAAAAAAAAAAAAAAAAAAAAAAAAAAAAAAAAAAAAAAAAAAAAAAAAAAAAAAAAAAAAAAAAAAAAAAAAAAAAAAAAAAAAAAAAAAAAAAAAAAAAAAAAAAAAAAAAAAAAAAAAAAAAAAAAAAAAAAAAAAAAAAAAAAAAAAAAAAAAAAAAAAAAAAAAAAAAAAAAAAAAAAAAAAAAAAAAAAAAAAAAAAAAAAAAAAAAAAAAAAAAAAAAAAAAAAAAAAAAAAAAAAAAAAAAAAAAAAAAAAAAAAAAAAAAAAAAAAAAAAAAAAAAAAAAAAAAAAAAAAAAAAAAAAAAAAAAAAAAAAAAAAAAAAAAAAAAAAAAAAAAAAAAAAAAAAAAAAAAAAAAAAAAAAAAAAAAAAAAAAAAAAAAAAAAAAAAAAAAAAAAAAAAAAAAAAAAAAAAAAAAAAAAAAAAAAAAAAAAAAAAAAAAAAAAAAAAAAAAAAAAAAAAAAAAAAAAAAAAAAAAAAAAAAAAAAAAAAAAAAAAAAAAAAAAAAAAAAAAAAAAAAAAAAAAAAAAAAAAAAAAAAAAAAAAAAAAAAAAAAAAAAAAAAAAAAAAAAAAAAAAAAAAAAAAAAAAAAAAAAAAAAAAAAAAAAAAAAAAAAAAAAAAAAAAAAAAAAAAAAAAAAAAAAAAAAAAAAAAAAAAAAAAAAAAAAAAAAAAAAAAAAAAAAAAAAAAAAAAAAAAAAAAAAAAAAAAAAAAAAAAAAAAAAAAAAAAAAAAAAAAAAAAAAAAAAAAAAAAAAAAAAAAAAAAAAAAAAAAAAAAAAAAAAAAAAAAAAAAAAAAAAAAAAAAAAAAAAAAAAAAAAAAAAAAAAAAAAAAAAAAAAAAAAAAAAAAAAAAAAAAAAAAAAAAAAAAAAAAAAAAAAAAAAAAAAAAAAAAAAAAAAAAAAAAAAAAAAAAAAAAAAAAAAAAAAAAAAAAAAAAAAAAAAAAAAAAAAAAAAAAAAAAAAAAAAAAAAAAAAAAAAAAAAAAAAAAAAAAAAAAAAAAAAAAAAAAAAAAAAAAAAAAAAAAAAAAAAAAAAAAAAAAAAAAAAAAAAAAAAAAAAAAAAAAAAAAAAAAAAAAAAAAAAAAAAAAAAAAAAAAAAAAAAAAAAAAAAAAAAAAAAAAAAAAAAAAAAAAAAAAAAAAAAAAAAAAAAAAAAAAAAAAAAAAAAAAAAAAAAAAAAAAAAAAAAAAAAAAAAAAAAAAAAAAAAAAAAAAAAAAAAAAAAAAAAAAAAAAAAAAAAAAAAAAAAAAAAAAAAAAAAAAAAAAAAAAAAAAAAAAAAAAAAAAAAAAAAAAAAAAAAAAAAAAAAAAAAAAAAAAAAAAAAAAAAAAAAAAAAAAAAAAAAAAAAAAAAAAAAAAAAAAAAAAAAAAAAAAAAAAAAAAAAAAAAAAAAAAAAAAAAAAAAAAAAAAAAAAAAAAAAAAAAAAAAAAAAAAAAAAAAAAAAAAAAAAAAAAAAAAAAAAAAAAAAAAAAAAAAAAAAAAAAAAAAAAAAAAAAAAAAAAAAAAAAAAAAAAAAAAAAAAAAAAAAAAAAAAAAAAAAAAAAAAAAAAAAAAAAAAAAAAAAAAAAAAAAAAAAAAAAAAAAAAAAAAAAAAAAAAAAAAAAAAAAAAAAAAAAAAAAAAAAAAAAAAAAAAAAAAAAAAAAAAAAAAAAAAAAAAAAAAAAAAAAAAAAAAAAAAAAAAAAAAAAAAAAAAAAAAAAAAAAAAAAAAAAAAAAAAAAAAAAAAAAAAAAAAAAAAAAAAAAAAAAAAAAAAAAAAAAAAAAAAAAAAAAAAAAAAAAAAAAAAAAAAAAAAAAAAAAAAAAAAAAAAAAAAAAAAAAAAAAAAAAAAAAAAAAAAAAAAAAAAAAAAAAAAAAAAAAAAAAAAAAAAAAAAAAAAAAAAAAAAAAAAAAAAAAAAAAAAAAAAAAAAAAAAAAAAAAAAAAAAAAAAAAAAAAAAAAAAAAAAAAAAAAAAAAAAAAAAAAAAAAAAAAAAAAAAAAAAAAAAAAAAAAAAAAAAAAAAAAAAAAAAAAAAAAAAAAAAAAAAAAAAAAAAAAAAAAAAAAAAAAAAAAAAAAAAAAAAAAAAAAAAAAAAAAAAAAAAAAAAAAAAAAAAAAAAAAAAAAAAAAAAAAAAAAAAAAAAAAAAAAAAAAAAAAAAAAAAAAAAAAAAAAAAAAAAAAAAAAAAAAAAAAAAAAAAAAAAAAAAAAAAAAAAAAAAAAAAAAAAAAAAAAAAAAAAAAAAAAAAAAAAAAAAAAAAAAAAAAAAAAAAAAAAAAAAAAAAAAAAAAAAAAAAAAAAAAAAAAAAAAAAAAAAAAAAAAAAAAAAAAAAAAAAAAAAAAAAAAAAAAAAAAAAAAAAAAAAAAAAAAAAAAAAAAAAAAAAAAAAAAAAAAAAAAAAAAAAAAAAAAAAAAAAAAAAAAAAAAAAAAAAAAAAAAAAAAAAAAAAAAAAAAAAAAAAAAAAAAAAAAAAAAAAAAAAAAAAAAAAAAAAAAAAAAAAAAAAAAAAAAAAAAAAAAAAAAAAAAAAAAAAAAAAAAAAAAAAAAAAAAAAAAAAAAAAAAAAAAAAAAAAAAAAAAAAAAAAAAAAAAAAAAAAAAAAAAAAAAAAAAAAAAAAAAAAAAAAAAAAAAAAAAAAAAAAAAAAAAAAAAAAAAAAAAAAAAAAAAAAAAAAAAAAAAAAAAAAAAAAAAAAAAAAAAAAAAAAAAAAAAAAAAAAAAAAAAAAAAAAAAAAAAAAAAAAAAAAAAAAAAAAAAAAAAAAAAAAAAAAAAAAAAAAAAAAAAAAAAAAAAAAAAAAAAAAAAAAAAAAAAAAAAAAAAAAAAAAAAAAAAAAAAAAAAAAAAAAAAAAAAAAAAAAAAAAAAAAAAAAAAAAAAAAAAAAAAAAAAAAAAAAAAAAAAAAAAAAAAAAAAAAAAAAAAAAAAAAAAAAAAAAAAAAAAAAAAAAAAAAAAAAAAAAAAAAAAAAAAAAAAAAAAAAAAAAAAAAAAAAAAAAAAAAAAAAAAAAAAAAAAAAAAAAAAAAAAAAAAAAAAAAAAAAAAAAAAAAAAAAAAAAAAAAAAAAAAAAAAAAAAAAAAAAAAAAAAAAAAAAAAAAAAAAAAAAAAAAAAAAAAAAAAAAAAAAAAAAAAAAAAAAAAAAAAAAAAAAAAAAAAAAAAAAAAAAAAAAAAAAAAAAAAAAAAAAAAAAAAAAAAAAAAAAAAAAAAAAAAAAAAAAAAAAAAAAAAAAAAAAAAAAAAAAAAAAAAAAAAAAAAAAAAAAAAAAAAAAAAAAAAAAAAAAAAAAAAAAAAAAAAAAAAAAAAAAAAAAAAAAAAAAAAAAAAAAAAAAAAAAAAAAAAAAAAAAAAAAAAAAAAAAAAAAAAAAAAAAAAAAAAAAAAAAAAAAAAAAAAAAAAAAAAAAAAAAAAAAAAAAAAAAAAAAAAAAAAAAAAAAAAAAAAAAAAAAAAAAAAAAAAAAAAAAAAAAAAAAAAAAAAAAAAAAAAAAAAAAAAAAAAAAAAAAAAAAAAAAAAAAAAAAAAAAAAAAAAAAAAAAAAAAAAAAAAAAAAAAAAAAAAAAAAAAAAAAAAAAAAAAAAAAAAAAAAAAAAAAAAAAAAAAAAAAAAAAAAAAAAAAAAAAAAAAAAAAAAAAAAAAAAAAAAAAAAAAAAAAAAAAAAAAAAAAAAAAAAAAAAAAAAAAAAAAAAAAAAAAAAAAAAAAAAAAAAAAAAAAAAAAAAAAAAAAAAAAAAAAAAAAAAAAAAAAAAAAAAAAAAAAAAAAAAAAAAAAAAAAAAAAAAAAAAAAAAAAAAAAAAAAAAAAAAAAAAAAAAAAAAAAAAAAAAAAAAAAAAAAAAAAAAAAAAAAAAAAAAAAAAAAAAAAAAAAAAAAAAAAAAAAAAAAAAAAAAAAAAAAAAAAAAAAAAAAAAAAAAAAAAAAAAAAAAAAAAAAAAAAAAAAAAAAAAAAAAAAAAAAAAAAAAAAAAAAAAAAAAAAAAAAAAAAAAAAAAAAAAAAAAAAAAAAAAAAAAAAAAAAAAAAAAAAAAAAAAAAAAAAAAAAAAAAAAAAAAAAAAAAAAAAAAAAAAAAAAAAAAAAAAAAAAAAAAAAAAAAAAAAAAAAAAAAAAAAAAAAAAAAAAAAAAAAAAAAAAAAAAAAAAAAAAAAAAAAAAAAAAAAAAAAAAAAAAAAAAAAAAAAAAAAAAAAAAAAAAAAAAAAAAAAAAAAAAAAAAAAAAAAAAAAAAAAAAAAAAAAAAAAAAAAAAAAAAAAAAAAAAAAAAAAAAAAAAAAAAAAAAAAAAAAAAAAAAAAAAAAAAAAAAAAAAAAAAAAAAAAAAAAAAAAAAAAAAAAAAAAAAAAAAAAAAAAAAAAAAAAAAAAAAAAAAAAAAAAAAAAAAAAAAAAAAAAAAAAAAAAAAAAAAAAAAAAAAAAAAAAAAAAAAAAAAAAAAAAAAAAAAAAAAAAAAAAAAAAAAAAAAAAAAAAAAAAAAAAAAAAAAAAAAAAAAAAAAAAAAAAAAAAAAAAAAAAAAAAAAAAAAAAAAAAAAAAAAAAAAAAAAAAAAAAAAAAAAAAAAAAAAAAAAAAAAAAAAAAAAAAAAAAAAAAAAAAAAAAAAAAAAAAAAAAAAAAAAAAAAAAAAAAAAAAAAAAAAAAAAAAAAAAAAAAAAAAAAAAAAAAAAAAAAAAAAAAAAAAAAAAAAAAAAAAAAAAAAAAAAAAAAAAAAAAAAAAAAAAAAAAAAAAAAAAAAAAAAAAAAAAAAAAAAAAAAAAAAAAAAAAAAAAAAAAAAAAAAAAAAAAAAAAAAAAAAAAAAAAAAAAAAAAAAAAAAAAAAAAAAAAAAAAAAAAAAAAAAAAAAAAAAAAAAAAAAAAAAAAAAAAAAAAAAAAAAAAAAAAAAAAAAAAAAAAAAAAAAAAAAAAAAAAAAAAAAAAAAAAAAAAAAAAAAAAAAAAAAAAAAAAAAAAAAAAAAAAAAAAAAAAAAAAAAAAAAAAAAAAAAAAAAAAAAAAAAAAAAAAAAAAAAAAAAAAAAAAAAAAAAAAAAAAAAAAAAAAAAAAAAAAAAAAAAAAAAAAAAAAAAAAAAAAAAAAAAAAAAAAAAAAAAAAAAAAAAAAAAAAAAAAAAAAAAAAAAAAAAAAAAAAAAAAAAAAAAAAAAAAAAAAAAAAAAAAAAAAAAAAAAAAAAAAAAAAAAAAAAAAAAAAAAAAAAAAAAAAAAAAAAAAAAAAAAAAAAAAAAAAAAAAAAAAAAAAAAAAAAAAAAAAAAAAAAAAAAAAAAAAAAAAAAAAAAAAAAAAAAAAAAAAAAAAAAAAAAAAAAAAAAAAAAAAAAAAAAAAAAAAAAAAAAAAAAAAAAAAAAAAAAAAAAAAAAAAAAAAAAAAAAAAAAAAAAAAAAAAAAAAAAAAAAAAAAAAAAAAAAAAAAAAAAAAAAAAAAAAAAAAAAAAAAAAAAAAAAAAAAAAAAAAAAAAAAAAAAAAAAAAAAAAAAAAAAAAAAAAAAAAAAAAAAAAAAAAAAAAAAAAAAAAAAAAAAAAAAAAAAAAAAAAAAAAAAAAAAAAAAAAAAAAAAAAAAAAAAAAAAAAAAAAAAAAAAAAAAAAAAAAAAAAAAAAAAAAAAAAAAAAAAAAAAAAAAAAAAAAAAAAAAAAAAAAAAAAAAAAAAAAAAAAAAAAAAAAAAAAAAAAAAAAAAAAAAAAAAAAAAAAAAAAAAAAAAAAAAAAAAAAAAAAAAAAAAAAAAAAAAAAAAAAAAAAAAAAAAAAAAAAAAAAAAAAAAAAAAAAAAAAAAAAAAAAAAAAAAAAAAAAAAAAAAAAAAAAAAAAAAAAAAAAAAAAAAAAAAAAAAAAAAAAAAAAAAAAAAAAAAAAAAAAAAAAAAAAAAAAAAAAAAAAAAAAAAAAAAAAAAAAAAAAAAAAAAAAAAAAAAAAAAAAAAAAAAAAAAAAAAAAAAAAAAAAAAAAAAAAAAAAAAAAAAAAAAAAAAAAAAAAAAAAAAAAAAAAAAAAAAAAAAAAAAAAAAAAAAAAAAAAAAAAAAAAAAAAAAAAAAAAAAAAAAAAAAAAAAAAAAAAAAAAAAAAAAAAAAAAAAAAAAAAAAAAAAAAAAAAAAAAAAAAAAAAAAAAAAAAAAAAAAAAAAAAAAAAAAAAAAAAAAAAAAAAAAAAAAAAAAAAAAAAAAAAAAAAAAAAAAAAAAAAAAAAAAAAAAAAAAAAAAAAAAAAAAAAAAAAAAAAAAAAAAAAAAAAAAAAAAAAAAAAAAAAAAAAAAAAAAAAAAAAAAAAAAAAAAAAAAAAAAAAAAAAAAAAAAAAAAAAAAAAAAAAAAAAAAAAAAAAAAAAAAAAAAAAAAAAAAAAAAAAAAAAAAAAAAAAAAAAAAAAAAAAAAAAAAAAAAAAAAAAAAAAAAAAAAAAAAAAAAAAAAAAAAAAAAAAAAAAAAAAAAAAAAAAAAAAAAAAAAAAAAAAAAAAAAAAAAAAAAAAAAAAAAAAAAAAAAAAAAAAAAAAAAAAAAAAAAAAAAAAAAAAAAAAAAAAAAAAAAAAAAAAAAAAAAAAAAAAAAAAAAAAAAAAAAAAAAAAAAAAAAAAAAAAAAAAAAAAAAAAAAAAAAAAAAAAAAAAAAAAAAAAAAAAAAAAAAAAAAAAAAAAAAAAAAAAAAAAAAAAAAAAAAAAAAAAAAAAAAAAAAAAAAAAAAAAAAAAAAAAAAAAAAAAAAAAAAAAAAAAAAAAAAAAAAAAAAAAAAAAAAAAAAAAAAAAAAAAAAAAAAAAAAAAAAAAAAAAAAAAAAAAAAAAAAAAAAAAAAAAAAAAAAAAAAAAAAAAAAAAAAAAAAAAAAAAAAAAAAAAAAAAAAAAAAAAAAAAAAAAAAAAAAAAAAAAAAAAAAAAAAAAAAAAAAAAAAAAAAAAAAAAAAAAAAAAAAAAAAAAAAAAAAAAAAAAAAAAAAAAAAAAAAAAAAAAAAAAAAAAAAAAAAAAAAAAAAAAAAAAAAAAAAAAAAAAAAAAAAAAAAAAAAAAAAAAAAAAAAAAAAAAAAAAAAAAAAAAAAAAAAAAAAAAAAAAAAAAAAAAAAAAAAAAAAAAAAAAAAAAAAAAAAAAAAAAAAAAAAAAAAAAAAAAAAAAAAAAAAAAAAAAAAAAAAAAAAAAAAAAAAAAAAAAAAAAAAAAAAAAAAAAAAAAAAAAAAAAAAAAAAAAAAAAAAAAAAAAAAAAAAAAAAAAAAAAAAAAAAAAAAAAAAAAAAAAAAAAAAAAAAAAAAAAAAAAAAAAAAAAAAAAAAAAAAAAAAAAAAAAAAAAAAAAAAAAAAAAAAAAAAAAAAAAAAAAAAAAAAAAAAAAAAAAAAAAAAAAAAAAAAAAAAAAAAAAAAAAAAAAAAAAAAAAAAAAAAAAAAAAAAAAAAAAAAAAAAAAAAAAAAAAAAAAAAAAAAAAAAAAAAAAAAAAAAAAAAAAAAAAAAAAAAAAAAAAAAAAAAAAAAAAAAAAAAAAAAAAAAAAAAAAAAAAAAAAAAAAAAAAAAAAAAAAAAAAAAAAAAAAAAAAAAAAAAAAAAAAAAAAAAAAAAAAAAAAAAAAAAAAAAAAAAAAAAAAAAAAAAAAAAAAAAAAAAAAAAAAAAAAAAAAAAAAAAAAAAAAAAAAAAAAAAAAAAAAAAAAAAAAAAAAAAAAAAAAAAAAAAAAAAAAAAAAAAAAAAAAAAAAAAAAAAAAAAAAAAAAAAAAAAAAAAAAAAAAAAAAAAAAAAAAAAAAAAAAAAAAAAAAAAAAAAAAAAAAAAAAAAAAAAAAAAAAAAAAAAAAAAAAAAAAAAAAAAAAAAAAAAAAAAAAAAAAAAAAAAAAAAAAAAAAAAAAAAAAAAAAAAAAAAAAAAAAAAAAAAAAAAAAAAAAAAAAAAAAAAAAAAAAAAAAAAAAAAAAAAAAAAAAAAAAAAAAAAAAAAAAAAAAAAAAAAAAAAAAAAAAAAAAAAAAAAAAAAAAAAAAAAAAAAAAAAAAAAAAAAAAAAAAAAAAAAAAAAAAAAAAAAAAAAAAAAAAAAAAAAAAAAAAAAAAAAAAAAAAAAAAAAAAAAAAAAAAAAAAAAAAAAAAAAAAAAAAAAAAAAAAAAAAAAAAAAAAAAAAAAAAAAAAAAAAAAAAAAAAAAAAAAAAAAAAAAAAAAAAAAAAAAAAAAAAAAAAAAAAAAAAAAAAAAAAAAAAAAAAAAAAAAAAAAAAAAAAAAAAAAAAAAAAAAAAAAAAAAAAAAAAAAAAAAAAAAAAAAAAAAAAAAAAAAAAAAAAAAAAAAAAAAAAAAAAAAAAAAAAAAAAAAAAAAAAAAAAAAAAAAAAAAAAAAAAAAAAAAAAAAAAAAAAAAAAAAAAAAAAAAAAAAAAAAAAAAAAAAAAAAAAAAAAAAAAAAAAAAAAAAAAAAAAAAAAAAAAAAAAAAAAAAAAAAAAAAAAAAAAAAAAAAAAAAAAAAAAAAAAAAAAAAAAAAAAAAAAAAAAAAAAAAAAAAAAAAAAAAAAAAAAAAAAAAAAAAAAAAAAAAAAAAAAAAAAAAAAAAAAAAAAAAAAAAAAAAAAAAAAAAAAAAAAAAAAAAAAAAAAAAAAAAAAAAAAAAAAAAAAAAAAAAAAAAAAAAAAAAAAAAAAAAAAAAAAAAAAAAAAAAAAAAAAAAAAAAAAAAAAAAAAAAAAAAAAAAAAAAAAAAAAAAAAAAAAAAAAAAAAAAAAAAAAAAAAAAAAAAAAAAAAAAAAAAAAAAAAAAAAAAAAAAAAAAAAAAAAAAAAAAAAAAAAAAAAAAAAAAAAAAAAAAAAAAAAAAAAAAAAAAAAAAAAAAAAAAAAAAAAAAAAAAAAAAAAAAAAAAAAAAAAAAAAAAAAAAAAAAAAAAAAAAAAAAAAAAAAAAAAAAAAAAAAAAAAAAAAAAAAAAAAAAAAAAAAAAAAAAAAAAAAAAAAAAAAAAAAAAAAAAAAAAAAAAAAAAAAAAAAAAAAAAAAAAAAAAAAAAAAAAAAAAAAAAAAAAAAAAAAAAAAAAAAAAAAAAAAAAAAAAAAAAAAAAAAAAAAAAAAAAAAAAAAAAAAAAAAAAAAAAAAAAAAAAAAAAAAAAAAAAAAAAAAAAAAAAAAAAAAAAAAAAAAAAAAAAAAAAAAAAAAAAAAAAAAAAAAAAA4Q2x8nL7U9SUuuV7BiI2zic815zX3Qf89/yn3Ked5zHmypYqdXQ0uvPSIv1x8LEAAA9e8q4ODQVMLCtF+oX53sky6MRIZGgkOAQ4BIgkiGM4zyk2WdZqjItFrC5dAu4PfvAAAJENEfGS+jPTNLlFeTYgRswXOqeah9q3+qf6Z9pnm8c/5rjWKNVy1LnT0UL84fBxAAAPnvM+Du0GbC2LR5qHudDJRQjGiGaoJogGmAbIJrhlWMEZSCnX+o3rRswvPQN+D87wAABBDIHwwvkT0dS3tXdmLla59zh3mEfYZ/hX+BfYN5mnPfa3BidFcXS4s9Bi/EHwIQAAD+7zzg+9B4wu60kqiYnSuUcoyLho+CjYCOgJGCj4Z3jDGUnp2ZqPS0fsIA0UDgAPAAAAAQvx/+Ln89CEthV1pixWt9c2N5X31hf2B/XX1geXlzwGtTYltXAUt5Pfkuux/9DwAAA/BG4AnRisIDtayotZ1LlJOMroazgrKAs4C1grKGmIxQlLudsqgKtZDCDtFK4AXwAAD7D7Yf8C5tPfJKSFc9YqZrXHNAeTt9PH87fzh9PHlXc6BrN2JBV+tKZz3rLrIf+Q8AAAfwT+AX0ZzCGbXFqNGdapS1jNKG2ILXgNiA2oLVhrqMb5TXncyoILWiwhzRU+AK8AAA9g+sH+MuWz3cSi5XIWKHazpzHXkWfRd/Fn8UfRl5NnOBaxpiKFfVSlU93S6pH/QPAAAM8FjgJNGuwi+13qjunYmU1oz1hvyC/ID9gP6C+IbbjI+U9J3lqDW1tMIp0VzgDvAAAPIPox/VLkk9xkoVVwRiZ2sZc/p48nzyfvF+8Hz2eBRzYmv+YQ5XwEpDPdAunx/wDwAAEfBh4DLRwMJFtfioCp6olPiMGIcggyGBIoEjgxyH/YyulBCe/qhLtcbCN9Fl4BPwAADtD5ofxy44PbBK/FboYUhr93LWeM18zX7Mfst803jzckJr4WH1VqpKMT3CLpYf6w8AABXwa+A/0dHCWrURqSeeyJQZjTuHRYNGgUeBR4M/hx6NzZQtnhipYbXXwkXRbuAX8AAA6A+RH7ouJj2bSuJWy2Epa9Zys3ipfKh+p36nfLB40XIja8Vh3FaUSiA9tS6NH+YPAAAa8HTgTdHjwnC1KqlDnueUO41eh2mDa4FrgWuDYoc/jeyUSZ4xqXe16cJS0XjgHPAAAOQPiB+sLhQ9hUrJVq9hCmu0cpB4hXyDfoJ+g3yNeLByBGuoYcNWf0oOPacuhB/iDwAAH/B94FvR9cKGtUSpYJ4GlVyNgYeNg4+BkIGPg4WHYY0LlWaeSqmMtfvCYNGB4CHwAADfD38fny4CPW9KsFaSYetqk3JteGF8Xn5dfl98aniOcuVqjGGpVmlK/DyZLnsf3Q8AACPwhuBo0QfDm7VdqXyeJZV+jaSHsYO0gbWBtIOoh4KNK5WCnmOporUNw23RiuAl8AAA2w91H5Eu8DxaSpdWdmHLanJySng9fDl+OX46fEd4bXLGanBhkFZTSuo8jC5yH9gPAAAo8I/gdtEYw7G1dqmYnkSVn43Hh9aD2YHagdiDy4ejjUqVn558qbi1HsN70ZPgKvAAANYPbB+DLt88REp9VlphrGpRcid4GHwVfhR+FnwkeExyp2pTYXdWPkrZPH4uaB/UDwAALPCY4IPRKsPHtY+ptZ5jlcCN6of6g/6B/oH8g+6HxY1plbuelqnNtTDDiNGc4C7wAADRD2Mfdi7NPC9KZFY9YY1qL3IEePR78H3vffJ7AXgrcohqN2FeVihKxzxxLl8fzw8AADHwoeCR0TzD3LWoqdGegpXhjQ2IHoQigiOCIIQRiOaNiJXXnq+p47VCw5bRpeAz8AAAzQ9aH2guuzwZSktWIWFuag5y4XfQe8t9y33Oe953CXJpahthRVYSSrU8Yy5WH8sPAAA28KvgntFNw/K1wantnqGVAo4wiEKER4JIgkSENIgHjqeV857Iqfi1U8Oj0a7gOPAAAMgPUR9bLqo8A0oyVgVhUGrtcb53rHunfaZ9qnu7d+hxSmr/YCxW/UmkPFYuTR/GDwAAOvC04KzRX8MHttqpCZ/AlSSOU4hmhGuCbIJohFeIKI7GlRCf4akOtmXDsdG44DzwAADED0gfTS6YPO5JGVbpYDFqzHGcd4h7gn2CfYZ7mHfHcStq4mATVudJkjxILkQfwQ8AAD/wveC50XHDHbbzqSaf35VFjnaIioSQgpGCjIR5iEmO5JUsn/qpI7Z3w77RweBB8AAAvw8/H0AuhjzYSQBWzGASaqtxeXdke159XX1ie3V3pnEMasZg+lXSSYA8Oy47H70PAABD8Mbgx9GCwzK2DKpCn/6VZo6ZiK6EtIK1grCEnIhqjgOWSJ8Tqjm2iMPM0crgRfAAALoPNh8zLnU8w0nnVbBg82mKcVZ3QXs5fTl9PntTd4Vx7WmqYOFVvElvPC0uMh+4DwAASPDP4NTRlMNItiWqXp8dloeOu4jRhNmC2oLUhL+Ii44ilmSfLKpOtprD2dHT4ErwAAC2DywfJS5jPK1JzlWUYNRpaXEzdx17FX0UfRt7MHdkcc9pjmDIVadJXTwgLikftA8AAEzw2ODi0aXDXbY+qnqfO5aojt6I9YT9gv6C94ThiKyOQZaAn0WqZLarw+fR3OBP8AAAsQ8jHxguUjyYSbVVeGC1aUhxEXf5evF88Hz3eg13Q3GwaXJgr1WSSUw8Ey4gH68PAABR8OHg79G3w3O2V6qWn1qWyY4BiRmFIoMigxuFBInNjmCWnJ9eqnm2vcP00eXgU/AAAK0PGh8KLkA8g0mcVVxgl2knce521XrMfMx803rrdiJxkWlWYJZVfEk6PAUuFx+rDwAAVvDq4PzRycOItnCqsp95luqOI4k9hUaDR4M/hSeJ7o5+lrifd6qOts/DAdLu4FjwAACoDxEf/S0vPG1Jg1VAYHhpBnHMdrF6qHynfK96yHYBcXJpOmB9VWdJKTz4LQ4fpg8AAFrw8+AK0trDnbaJqs6fl5YLj0aJYIVqg2uDY4VJiQ+PnZbUn5CqpLbgww/S9+Bc8AAApA8IH/AtHTxYSWpVJGBZaeVwqXaOeoR8g3yMeqZ24HBUaR5gZFVSSRc86i0EH6EPAABf8PzgF9Lsw7O2oqrqn7aWK49oiYSFjoOPg4aFbIkwj7yW8J+oqrm28sMc0gDhYfAAAJ8P/x7iLQw8Q0lSVQhgO2nEcIZ2anpgfF98aHqDdsBwNWkCYEtVPEkGPN0t+x6dDwAAY/AF4STS/cPItruqBqDVlkyPi4mohbODs4OqhY6JUY/algygwarOtgPEKtIJ4WXwAACaD/Ye1S36Oy1JOVXsXxxpo3Bkdkd6O3w7fER6YXafcBZp5l8yVSdJ9DvQLfIemA8AAGjwDuEy0g7E3bbUqiKg85Ztj62Jy4XXg9eDzYWxiXKP+ZYooNqq5LYUxDfSEuFq8AAAlg/tHsgt6TsYSSBV0F/9aINwQnYjehd8F3whej52fnD4aMpfGlUSSeM7wi3pHpQPAABs8BfhP9IgxPO27Ko+oBKXjo/Qie+F+4P7g/GF04mSjxeXRKDzqvm2JsRE0hvhbvAAAJEP5B66Ldc7A0kHVbRf32hicB92AHrze/N7/Xkcdl1w2WiuXwFV/EjRO7Ut4B6PDwAAcfAg4UzSMcQItwWrWqAwl66P8okShh+EIIQUhvWJs482l2CgDKsOtzfEUdIk4XPwAACND9serS3GO+5I71SZX8BoQXD9ddx5z3vOe9p5+XU9cLtokl/oVOdIwDuoLdgeiw8AAHXwKeFa0kPEHbceq3WgT5fPjxSKNoZDhESEOIYYitSPVJd8oCSrI7dJxF/SLeF38AAAiA/SHqAttTvYSNZUfV+iaCFw23W5eat7qnu2edd1HHCcaHdfz1TSSK87my3PHoYPAAB68DLhZ9JUxDK3NquRoG2X8I83ilmGZ4RohFuGOor0j3OXl6A9qzm3WsRs0jbhfPAAAIQPyR6SLaM7w0i9VGFfhGgAcLh1lXmHe4d7k3m1dftvfmhbX7dUvUidO40txh6CDwAAfvA74XTSZcRHt0+rraCMlxCQWYp8houEi4R/hlyKFZCRl7OgVqtOt2vEedI/4YDwAAB/D8AehS2SO65IpVRFX2Vo32+WdXJ5Y3tje3B5k3Xbb2BoP1+eVKhIjDuALb0efQ8AAIPwROGB0nfEXbdoq8mgqpcxkHuKoIavhK+EooZ+ijWQsJfPoG6rY7d9xIfSSOGF8AAAew+3HngtgTuZSIxUKl9HaL9vdHVPeT97P3tMeXB1um9BaCNfhlSTSHs7cy20HnkPAACH8E3hj9KIxHK3gKvkoMiXUZCdisOG0oTThMWGoYpWkM6X6qCHq3i3jsSU0lHhivAAAHYPrx5rLW87hEhzVA5fKGieb1J1K3kcext7KXlOdZpvI2gIX21UfUhpO2Ytqx50DwAAjPBW4ZzSmcSHt5mrAKHnl3KQv4rmhvaE94TohsOKdpDslwahn6uNt5/EodJa4Y7wAAByD6YeXS1eO29IW1TyXgpofm8wdQh5+Hr3egZ5LHV5bwVo7F5UVGhIWDtYLaIecA8AAJDwX+Gp0qvEnLexqxyhBZiSkOGKCocahRuFDIflipeQCpgiobirorewxK7SY+GS8AAAbQ+dHlAtTTtaSEJU117sZ15vDnXleNR603rjeAp1WW/mZ9FePFRTSEc7Sy2ZHmsPAACV8GjhttK8xLG3yqs3oSOYs5ADiy2HPoU/hS+HB4u3kCmYPaHQq7e3wsS70mzhl/AAAGkPlB5DLTw7RUgqVLtezmc9b+x0wniwerB6wHjodDlvyGe1XiNUPkg2Oz4tkB5nDwAAmfBx4cPSzcTGt+KrU6FBmNOQJYtQh2GFYoVShymL15BHmFmh6avMt9PEyNJ04ZvwAABkD4seNi0qOzBIEVSfXrBnHW/KdJ94jXqMepx4xnQYb6pnmV4LVClIJDsxLYceYg8AAJ7weuHR0t7E27f7q26hYJjzkEeLc4eFhYaFdYdLi/iQZZh0oQGs4bfkxNbSfeGg8AAAYA+CHiktGTsbSPlThF6RZ/1uqHR8eGl6aHp5eKR0+G6MZ35e81MUSBM7JC1+Hl4PAACi8ILh3tLwxPC3E6yKoX6YFJFpi5aHqYWphZiHbYsYkYOYkKEarPa39cTj0obhpPAAAFsPeR4cLQg7BkjgU2lec2fcboZ0WXhFekV6VniCdNhubmdiXtpT/0cCOxctdR5ZDwAAp/CL4evSAcUFuCyspaGcmDSRi4u5h8yFzYW7h4+LOJGhmKuhMqwLuAfF8NKP4anwAABXD3AeDy33OvFHyFNNXlVnvG5kdDZ4InohejN4YHS4blBnR17CU+pH8ToKLW0eVQ8AAKvwlOH40hLFGrhErMGhuphUka2L3IfwhfGF3oexi1mRv5jHoUqsILgYxf3SmOGt8AAAUg9nHgEt5jrcR7BTMl43Z5xuQnQTeP55/nkQeD90l24yZyxeqVPWR+A6/CxkHlAPAACw8J3hBdMjxS+4XKzcodiYdJHPi/+HE4YUhgGI0ot5kd2Y4qFjrDW4KcUK06HhsvAAAE4PXx70LNQ6x0eXUxZeGWd8biB08Hfbedp57ncddHduFGcQXpFTwUfPOu8sWx5MDwAAtPCm4RLTNMVEuHWs96H2mJSR8YsiiDeGOIYkiPSLmZH7mP2he6xKuDrFF9Oq4bbwAABKD1Ye5yzDOrJHf1P7XftmXG7+c813t3m3ect3+3NXbvZm9V15U6xHvjriLFIeSA8AALnwr+Ef00XFWLiNrBOiFJm0kROMRYhahluGR4gWjLmRGZkZopOsX7hLxSTTsuG78AAARQ9NHtossjqdR2dT4F3dZjtu3XOqd5R5k3mod9lzN27YZtpdYFOXR6w61SxJHkMPAAC98LfhLNNWxW24pawuojKZ1ZE0jGeIfoZ+hmqIOIzZkTeZNKKsrHO4XMUx07vhv/AAAEEPRB7NLKE6iEdPU8Rdv2Ybbrtzh3dxeXB5hXe4cxduuma+XUhTgkebOsgsQB4/DwAAwvDA4TnTZ8WCuL6sSaJQmfWRVoyKiKGGooaMiFmM+ZFVmU+ixKyIuG3FPtPE4cTwAAA8DzsewCyQOnRHNlOpXaFm+22Zc2R3TXlNeWJ3lnP3bZxmo10wU21Hijq7LDgeOg8AAMbwyeFG03jFl7jWrGWibZkVkniMrYjEhsWGr4h7jBmSc5lrotysnbh+xUvTzeHI8AAAOA8zHrMsfzpfRx5Tjl2EZttteHNCdyp5KXlAd3Rz121+ZohdGFNZR3k6riwvHjYPAADK8NLhU9OJxay47qyAoouZNZKZjNCI54bohtKInIw5kpGZhqL0rLK4j8VY09bhzPAAADMPKh6mLG46SkcGU3NdZma8bVZzH3cHeQZ5HXdTc7dtYGZtXQBTREdoOqEsJh4xDwAAz/Db4WDTmsXAuAatm6KpmVSSu4zyiAuHC4f0iL6MWZKumaGiDK3HuKDFZdPe4dHwAAAvDyEemSxdOjVH7lJXXUhmnG01c/x25HjjePp2MXOXbUNmUV3oUi9HVzqULB0eLQ8AANPw4+Ft06vF1bgerbaix5l0ktyMFYkuhy+HF4ngjHmSzJm8oiWt27ixxXLT5+HV8AAAKw8YHowsTDohR9ZSPF0qZnxtE3PadsF4wHjYdhBzd20lZjZdz1IaR0Y6hywVHikPAADY8OzhetO8xeq4Nq3RouWZlJL+jDeJUYdShzqJAY2ZkuqZ16I9rfC4wsV/0/Dh2vAAACYPDx5/LDs6DEe+UiFdDWZcbfJyt3aeeJ14tXbucldtB2YbXbdSBkc1OnosDB4kDwAA3PD14YfTzcX+uE6t7KICmrSSH41aiXSHdYdciSKNuJIImvKiVa0FudPFjNP54d7wAAAiDwceciwqOvdGplIGXe9lPG3QcpV2enh6eJN2zXI4beplAF2fUvFGJTptLAMeIA8AAODw/uGU097FE7lmrQejIJrUkkCNfYmXh5iHf4lEjdiSJZoNo22tGbnkxZnTAeLi8AAAHQ/+HWUsGTrjRo5S61zRZRxtr3Jydld4V3hwdqtyGG3MZeVch1LcRhQ6YCz6HRsPAADl8AbiodPvxSi5fq0ioz6a9JJijZ+Juoe7h6GJZY34kkOaKKOFrS659cWm0wri5/AAABkP9R1YLAg6zkZ2UtBctGX9bI1yUHY0eDR4TnaKcvhsrmXKXG9SyEYDOlQs8h0XDwAA6fAP4q7TAMY8uZatPaNbmhOTg43Bid2H3ofDiYeNGJNgmkOjna1CuQbGs9MT4uvwAAAVD+0dTCz4OblGXlK1XJZl3Wxsci12EXgReCt2aXLZbJFlr1xXUrNG8jlHLOkdEw8AAO7wGOK70xHGUbmurVijeZozk6SN5IkAiAGI5omojTeTfppeo7WtV7kXxsDTG+Lw8AAAEA/kHT8s5zmlRkZSmlx5Zb1sS3ILdu937ncJdkhyuWxzZZRcP1KfRuE5OizgHQ4PAADy8CDiyNMixmW5xq1zo5aaU5PGjQaKI4gkiAiKyY1Xk5uaeaPNrWy5J8bN0yTi9PAAAAwP2x0yLNY5kEYuUn9cW2WebCpy6XXMd8t353UmcplsVmV5XCdSikbQOS0s2B0KDwAA9vAp4tXTMsZ6ud6tjqO0mnKT540oikaIRogqiuqNd5O5mpSj5K2AuTjG2dMt4vjwAAAHD9MdJSzFOXxGFlJkXD5lfmwIcsZ1qXeod8R1BXJ6bDhlXlwQUnZGvzkgLM8dBQ8AAPvwMuLh00PGjrn2ramj0ZqSkwiOS4ppiGmITYoLjpaT1pqvo/ytlblJxubTNeL98AAAAw/KHRgstDlnRv5RSVwgZV9s53GkdYZ3hXeideRxWmwbZUNc+FFhRq85EyzGHQEPAAD/8Dri7tNUxqO5Dq7Eo++asZMpjm2Ki4iMiG+KLY62k/SayqMUrqm5Wsbz0z7iAfEAAP8OwR0LLKQ5U0bmUS9cA2U/bMZxgnVjd2N3gHXDcTts/WQpXOBRTUaeOQYsvh39DgAAA/FD4vvTZca3uSau36MMm9GTSo6Piq6Ir4iRik6O1ZMRm+WjLK6+uWvGANRH4gXxAAD6Drkd/yuTOT5GzlEUXOVkIGylcWB1QXdAd151onEbbOBkDlzIUThGjTn6K7Ud+A4AAAjxTOII1HbGzLk+rvqjKZvwk2uOsYrRiNGIs4pvjvWTL5sApESu0rl7xg3UT+IK8QAA9g6wHfIrgjkqRrdR+VvIZABshHE+dR53HXc8dYFx/GvDZPNbsFEkRnw57SusHfQOAAAM8VTiFdSGxuC5Va4UpEebEJSMjtOK84j0iNWKkI4UlEybGqRcrua5jMYZ1FjiDvEAAPIOpx3lK3E5FkafUd5bq2Tha2NxHHX7dvt2GnVgcdxrpWTYW5lRD0ZsOeArpB3wDgAAEfFd4iHUl8b1uW2uL6Rkmy+UrY71ihaJF4n3irGOM5RpmzWkc677uZ3GJtRh4hPxAADtDp8d2CthOQFGh1HEW41kwWtCcfp02XbYdvh0P3G9a4hkvluBUftFWznTK5sd6w4AABXxZuIu1KjGCbqFrkqkgZtOlM6OF4s5iTmJGYvSjlOUhptQpIuuD7qtxjPUaeIX8QAA6Q6WHcsrUDntRW9RqVtwZKJrIXHYdLZ2tXbWdB5xnmtrZKNbaVHnRUo5xyuSHecOAAAZ8W7iO9S4xh26na5kpJ6bbpTvjjmLW4lciTuL845ylKSbaqSjriO6vsZA1HLiG/EAAOUOjR2/Kz852UVYUY5bU2SDawBxtnSUdpN2tHT9cH5rTmSIW1FR0kU6Oborih3jDgAAHvF34kjUycYyurSuf6S8m42UEI9bi36JfoldixOPkZTBm4Wkuq44us/GTNR64iDxAADgDoUdsisvOcRFQFF0WzZkY2vfcJR0cXZwdpJ03HBfazFkbls6Ub5FKTmtK4Ed3g4AACLxf+JU1NrGRrrMrpqk2ZuslDGPfYugiaGJf4s0j7GU3pugpNKuTLrfxlnUg+Ik8QAA3A58HaUrHjmwRShRWVsZZERrv3BydE92TnZwdLtwQGsTZFNbIlGqRRg5oCt5HdoOAAAm8YjiYdTqxlq64660pPaby5RSj5+LwonDiaGLVY/QlPubuqTqrmC68MZm1IziKPEAANgOdB2ZKw05nEURUT5b/GMla55wUHQsdix2TnSbcCFr9mM5WwtRlkUIOZQrcB3WDgAAK/GR4m7U+8Zuuvuuz6QTnOuUc4/Bi+WJ5onDi3aP75QYnNWkAa91ugHHc9SU4i3xAADTDmsdjCv9OIdF+VAkW99jBmt9cC50CnYJdix0enACa9ljHlvzUIFF9ziHK2gd0Q4AAC/xmeJ61AvHg7oTr+mkMJwKlZOP44sHigiK5YuXjw6VNZzvpBmviboRx3/UneIx8QAAzw5jHX8r7DhzReJQCVvCY+dqXHAMdOh153UKdFlw4mq8YwRb3FBtRec4eitfHc0OAAAz8aLih9Qcx5e6Kq8EpU2cKZW0jwWMKYoqigeMt48tlVKcCqUwr526IseM1KXiNfEAAMsOWh1zK9w4X0XKUO9apWPIajxw63PFdcV16XM4cMNqn2PpWsRQWUXWOG4rVh3JDgAAN/Gq4pTULcerukKvHqVqnEiV1Y8mjEyKTIoojNiPTJVvnCSlSK+xujLHmNSu4jnxAADGDlEdZivLOEtFs1DVWohjqWobcMlzo3WidcdzGHCkaoJjz1qtUEVFxjhhK04dxA4AADzxs+Kg1D3Hv7pZrzmlh5xnlfWPSIxuim+KSoz4j2uVjJw/pV+vxbpDx6XUtuI+8QAAwg5JHVkruzg3RZtQulprY4pq+2+nc4F1gHWlc/dvhWplY7RalVAxRbU4VStFHcAOAABA8bvirdROx9O6ca9TpaSchpUWkGqMkIqRimyMGZCKlamcWaV3r9m6U8ey1L/iQvEAAL4OQB1NK6o4I0WEUKBaTmNratpvhnNfdV51hHPXb2ZqSWOaWn5QHUWlOEgrPR28DgAARPHE4rrUXsfnuoivbaXBnKWVNpCLjLKKs4qNjDqQqZXGnHOljq/uumTHvtTH4kbxAAC6DjgdQCuaOA5FbFCFWjFjTGq5b2RzPXU8dWJztm9HaixjgFpmUAhFlDg7KzQduA4AAEnxzOLG1G/H/Lqfr4il3pzElVeQrYzUitWKr4xakMiV45yOpaWvArt0x8vU0OJL8QAAtQ4vHTQriTj6RFVQa1oUYy1qmW9Ccxt1GnVAc5ZvKWoPY2VaT1D0RIQ4LyssHbMOAABN8dXi09R/xxC7t6+ipfqc45V3kM6M9or3itCMe5DnlQCdqKW9rxa7hcfX1NjiT/EAALEOJx0nK3k45kQ+UFFa92IOanhvIXP4dPh0H3N1bwpq8mJLWjhQ4ERzOCIrIx2vDgAAUfHd4t/Uj8cku86vvKUXnQGWmJDwjBmLGYvyjJuQBpYcncKl1K8qu5XH5NTh4lPxAACtDh4dGitoONJEJlA3Wtpi72lYb/9y1nTWdP1yVW/radViMVogUMxEYzgWKxsdqw4AAFXx5uLs1KDHOLvlr9elNJ0glriQEY07izuLE427kCWWOZ3cpeuvPrulx/HU6eJX8QAAqA4WHQ4rWDi+RA9QHFq+YtBpOG/ecrV0tHTccjRvzGm5YhdaCVC4RFI4CSsSHaYOAABa8e7i+NSwx0y7/a/xpVGdP5bYkDONXItdizWN3JBDllad96UDsFK7tsf91PLiXPEAAKQODh0BK0g4qkT4TwJaoWKyaRdvvXKTdJJ0u3IUb61pnGL8WfJPpERCOP0qCh2iDgAAXvH34gXVwcdguxSwC6ZtnV6W+ZBUjX6Lf4tWjfyQYpZznRGmGrBmu8bHCtX64mDxAACgDgUd9So3OJZE4E/oWYRik2n3bptycXRwdJly9G6PaX9i4lnaT5BEMjjwKgIdng4AAGLx/+IR1dHHdLsrsCWmip19lhmRdY2gi6GLd40ckYGWj50rpjGwervXxxbVA+Nk8QAAnA79HOgqJziCRMlPzlloYnRp1256ck90TnR4ctRucGliYshZw098RCE45Cr5HJoOAABm8QjjHtXhx4i7QrA/pqedm5Y5kZeNwovDi5mNPZGflqydRaZIsI6758cj1QvjaPEAAJcO9BzcKhc4bkSyT7RZS2JVabduWXItdCx0V3KzblFpRmKuWaxPaUQRONcq8RyVDgAAa/EQ4yrV8sebu1qwWabDnbqWWpG4jeSL5Yu6jV2RvpbInV+mYLChu/fHL9UU423xAACTDuwc0CoGOFtEm0+aWS5iN2mWbjdyC3QLdDVyk24zaSlilFmVT1VEATjLKugckQ4AAG/xGOM31QLIr7txsHOm4J3YlnqR2Y0GjAaM2419kd2W5Z15pnewtbsHyDvVHONx8QAAjw7jHMMq9jdHRIRPgFkSYhhpdm4Wcupz6XMUcnNuFGkNYnpZfk9BRPA3virgHI0OAABz8SHjQ9USyMO7iLCNpvyd95aakfqNJ4wojPyNnZH7lgGek6aOsMm7GMhI1STjdfEAAIsO2xy3KuY3M0RtT2ZZ9WH6aFZu9XHIc8dz83FTbvVo8GFgWWdPLUTgN7Iq1xyJDgAAd/Ep41DVIsjXu5+wp6YZnhaXupEcjkmMSowejr2RGpcenq2mpbDduyjIVNUt43nxAACGDtMcqirVNx9EVU9MWdlh22g2btRxpnOlc9JxM27XaNRhRllPTxlE0DelKs8chQ4AAHzxMuNc1TPI67u2sMGmNZ40l9qRPY5rjGuMP47dkTiXOp7Hpryw8bs4yGHVNeN+8QAAgg7KHJ4qxTcLRD5PMlm8Yb1oFm6zcYVzhHOxcRNuuGi3YSxZOE8FRMA3mSrHHIAOAACA8TrjaNVDyP+7zbDbplKeU5f6kV6OjIyNjGCO/ZFXl1ee4abTsAW8SMht1T3jgvEAAH4OwhyRKrU390MnTxhZoGGeaPZtknFjc2JzkHHzbZpom2ESWSFP8kOvN40qvhx8DgAAhPFC43XVU8gSvOSw9aZunnGXGpJ/jq6Mr4yBjh2SdZdznvum6rAYvFnIedVG44bxAAB6DrkchSqlN+RDEE/+WIRhgGjWbXFxQXNBc29x0218aH9h+FgKT95DnzeAKrYceA4AAIjxS+OB1WPIJrz7sA+ni56PlzqSoI7PjNCMoo49kpSXkJ4VpwGxLLxpyIbVTuOK8QAAdg6xHHkqlTfQQ/lO5FhnYWFotm1QcSBzH3NOcbNtXWhiYd5Y807KQ483dCquHHQOAACN8VPjjdVzyDq8ErEpp6eerpdaksGO8YzyjMOOXZKyl6yeL6cYsUC8eciS1VfjjvEAAHEOqRxsKoQ3vEPiTspYS2FDaJZtL3H+cv5yLXGTbT9oRmHEWNxOtkN/N2gqpRxvDgAAkfFb45rVhMhOvCmxQ6fDnsyXepLijhKNE43kjn2S0JfInkmnL7FUvInIn9Vf45PxAABtDqAcYCp0N6lDy06wWC9hJWh2bQ5x3XLccgxxc20haCphq1jGTqNDbzdbKp0caw4AAJXxZOOm1ZTIYbxAsV2n357ql5qSA480jTSNBY+dku+X5Z5ip0axZ7yZyKvVZ+OX8QAAaQ6YHFQqZDeVQ7VOllgSYQdoV23tcLxyu3LrcFNtAmgNYZFYr06PQ183TyqVHGcOAACZ8WzjstWkyHW8V7F2p/yeCZi5kiOPVY1WjSWPvZINmAGffKddsXu8qci31XDjm/EAAGUOkBxHKlQ3gUOeTn1Y9mDoZzdtzHCacppyynA0beRn8WB3WJhOe0NPN0MqjBxjDgAAnfF047/VtMiJvG6xkKcYnyeY2ZJEj3aNd41Gj9ySK5gdn5andLGOvLnIw9V445/xAABhDogcOypEN25Dh05jWNpgymcXbatweXJ4cqlwFG3GZ9VgXViBTmhDPjc2KoQcXw4AAKHxfePL1cTInLyFsaqnNJ9FmPmSZY+YjZiNZ4/8kkmYOZ+wp4uxorzKyNDVgOOj8QAAXA5/HC8qNDdaQ3BOSVi+YKxn92yLcFhyV3KJcPRsqGe5YERYak5UQy43Kip8HFsOAACm8YXj19XUyLC8m7HEp1CfY5gZk4aPuY26jYiPHJNnmFWfyaehsba82sjc1YjjqPEAAFgOdxwjKiQ3RkNZTjBYomCOZ9hsanA2cjZyaHDUbIpnnWAqWFNOQUMeNx4qcxxWDgAAqvGN4+TV5MjDvLKx3adsn4GYOJOmj9qN242ojzuThphxn+OnuLHJvOrI6NWR46zxAABUDm8cFioUNzNDQk4WWIZgcGe4bElwFXIUckdwtWxrZ4FgEFg8Ti1DDjcSKmscUg4AAK7xlePw1fTI17zJsfeniJ+fmFiTx4/7jfyNyY9bk6SYjZ/9p8+x3bz6yPTVmeOw8QAAUA5mHAoqBDcfQyxO/FdqYFJnmGwpcPRx83EncJVsTWdlYPdXJk4ZQ/42BSpjHE4OAACy8Z7j/NUEyeq84LERqKSfvZh3k+iPHY4djuqPe5PCmKmfFqjmsfC8CskB1qHjtPEAAEwOXhz+KfQ2DEMVTuNXTmA0Z3lsCHDTcdJxBnB2bC9nSWDdVw9OBkPuNvkpWxxKDgAAtvGm4wjWFMn+vPaxKqjAn9yYl5MIkD6OPo4KkJqT4JjFnzCo/LEEvRrJDdap47jxAABIDlYc8inkNvhC/k3JVzJgFmdZbOdvsnGxceVvVmwRZy1gxFf4TfJC3jbtKVIcRg4AALrxruMU1iTJEb0NskSo3J/5mLeTKZBfjl+OK5C6k/6Y4Z9JqBOyF70qyRnWsuO88QAAQw5OHOUp1DblQuhNsFcWYPhmOmzHb5FxkHHFbzds82YRYKpX4k3fQs424SlKHEIOAAC/8bbjIdY0ySW9JLJdqPifF5nWk0mQgI6AjkuQ2ZMcmf2fY6gqsiu9Oskl1rrjwfEAAD8ORRzZKcQ20ULRTZZX+l/aZhpspm9wcW9xpG8XbNVm9V+RV8tNzEK/NtUpQhw9DgAAw/G/4y3WRMk4vTqyd6gUoDWZ9ZNqkKGOoY5skPmTOpkZoHyoQLI+vUnJMdbC48XxAAA7Dj0czSm0Nr5Cuk19V95fvGb7a4ZvT3FOcYRv+Gu4Ztlfd1e0TbhCrzbIKTocOQ4AAMfxx+M51lTJTL1RspCoMKBTmRWUipDCjsKOjJAYlFeZNaCWqFeyUr1ZyT7WyuPJ8QAANw41HMEppDarQqRNY1fCX55m22tlby5xLXFkb9hrmma9X15Xnk2lQp82vCkyHDUOAADL8c/jRdZkyV+9aLKpqEygcZk0lKuQ447jjq2QN5R1mVGgr6htsmW9aclK1tPjzfEAADMOLRy1KZQ2l0KNTUpXpl+AZrxrRW8NcQxxQ2+5a3xmoV9EV4dNkUKPNrApKRwxDgAAz/HX41HWdMlzvX6yw6hooI+ZVJTLkASPBI/NkFeUk5ltoMiohLJ4vXnJVtbb49HxAAAvDiUcqSmENoRCd00wV4pfYmadayVv7HDrcCNvmmteZoVfK1dxTX5CfzakKSEcLQ4AANPx3+Nd1oTJhr2VstyohKCtmXOU65AkjyWP7ZB2lLGZiaDiqJuyjL2JyWLW4+PV8QAAKw4cHJ0pdDZwQmBNF1duX0RmfWsEb8twynACb3prQGZpXxJXWk1rQm82mCkZHCkOAADX8ejjataTyZm9q7L2qJ+gypmSlAyRRY9Gjw6RlZTPmaSg+6ixsp+9mclu1uvj2fEAACcOFByQKWU2XUJKTf5WU18nZl5r5G6qcKpw4m5bayNmTl/4VkRNV0JfNowpERwlDgAA3PHw43bWo8mtvcKyD6m7oOiZsZQskWaPZ48ukbWU7JnAoBSpyLKyvanJetbz493xAAAiDgwchClVNkpCM03kVjdfCWY/a8RuinCJcMJuPGsFZjJf31YtTURCTzaAKQkcIQ4AAODx+OOC1rPJwL3Ysiip16AGmtGUTJGHj4ePTpHUlAqa3KAuqd6yxr24yYbW++Pi8QAAHg4EHHgpRTY3Qh1Ny1YbX+tlIGukbmlwaHCibh1r52UWX8ZWF00xQkA2dCkBHBwOAADk8QDkjtbDydO977JBqfOgJJrwlGyRp4+oj26R85QomvigR6n0stm9yMmS1gTk5vEAABoO/BtsKTU2I0IGTbJWAF/OZQFrhG5IcEhwgm7+aspl+16sVgBNHkIwNmgp+BsYDgAA6PEI5JrW08nmvQWzW6kOoUGaD5WNkciPyY+OkRKVRZoToWCpC7PsvdjJntYM5OrxAAAWDvQbYCkmNhBC8EyZVuResGXiamNuKHAncGFu3mqsZd9ek1bqTApCIDZcKfAbFA4AAOzxEOSm1uLJ+r0bs3SpKqFfmi6VrZHpj+mPr5ExlWOaL6F5qSGz/73oyarWFOTu8QAAEg7sG1QpFjb9QdlMgFbIXpNlwmpDbgdwBnBBbr9qjmXDXnpW1Ez3QRA2UCnoGxAOAADw8RnkstbyyQ2+MrONqUWhfJpNlc2RCZAKkM+RUJWAmkqhk6k4sxK+98m21hzk8vEAAA4O4xtIKQY26kHDTGZWrV51ZaNqI27mb+ZvIW6ganFlqF5hVr1M5EEBNkQp4BsMDgAA9PEh5L7WAsogvkizpqlhoZqabJXtkSqQK5DvkW+VnppmoaypTrMmvgfKwtYk5PbxAAAKDtsbPCn2NddBrUxNVpFeV2WEagNuxm/FbwFugWpTZYxeSFanTNFB8TU4KdgbCA4AAPjxKeTK1hLKM75es7+pfKG3mouVDZJKkEuQD5KOlbuagaHFqWSzOb4Xys7WLOT68QAABg7TGzAp5zXDQZZMNFZ2XjplZWrjbaVvpW/hbWJqNmVxXi9WkUy+QeE1LCnQGwQOAAD88THk1tYhyka+dbPYqZih1ZqqlS2Sa5BskC+SrZXZmp2h3ql6s0y+J8ra1jTk/vEAAAIOyxskKdc1sEGATBtWWl4dZUZqw22Fb4RvwW1DahhlVV4WVnpMq0HSNSApyBsADgAAAPI55OLWMcpZvouz8amzofKayZVNkouQjJBPksyV9pq4ofepkbNfvjbK5tY85ALyAAD+DcMbGCnHNZ1BakwCVj9e/2QoaqNtZG9kb6FtJWr7ZDpe/VVkTJdBwjUUKcAb/A0AAATyQeTu1kHKbL6hswqqz6EPm+iVbZKskKyQbpLrlRSb1KEQqqezcr5GyvLWROQG8gAA+g27GwwpuDWKQVRM6VUkXuJkCWqDbURvQ2+CbQZq3mQfXuRVTkyEQbI1CCm4G/gNAAAJ8knk+tZQyn++t7MjquqhLZsHloySzJDNkI6SCpYxm++hKaq9s4W+Vcr+1kzkCvIAAPUNsxsAKag1d0E+TNBVCF7EZOppZG0kbyNvYm3nacBkA17LVThMcUGjNfworxv0DQAADfJR5AbXYMqSvs6zPKoFokqbJpaskuyQ7ZCukimWTpsKokKq07OYvmXKCtdV5A7yAADxDasb9CiYNWRBJ0y3Ve1dp2TLaURtA28Db0JtyGmjZOhdslUiTF5BkzXwKKcb8A0AABHyWeQS12/Kpr7ks1WqIaJnm0SWzJINkQ2RzpJHlmybJqJbqumzq751yhbXXeQS8gAA7Q2jG+goiTVRQRFMnlXSXYpkrGkkbeNu4m4ibalphmTNXZlVC0xLQYQ15CifG+sNAAAV8mHkHdd/yrm++rNuqjyihZtjluySLZEuke6SZpaJm0GidKoAtL6+hMoi12XkF/IAAOkNmxvdKHk1PkH7S4VVtl1tZI5pBG3DbsJuAm2LaWlksV2AVfVLOEF0NdgolxvnDQAAGfJp5CnXjsrMvhC0h6pXoqKbgpYMk02RTpENk4WWpptcoo2qFrTRvpTKLtdt5BvyAADlDZMb0ShqNStB5UttVZtdT2RvaeVso26ibuNsbGlLZJZdZ1XfSyVBZDXMKI8b4w0AAB3yceQ1157K3r4mtKCqc6K/m6CWK5NtkW6RLZOjlsObd6Klqiy05L6jyjrXdeQf8gAA4Q2LG8UoWjUYQc9LVFWAXTJkUGnFbINugm7DbE1pLmR7XU5VyUsSQVU1wCiHG98NAAAh8nnkQdeuyvG+PLS5qo6i3Ju/lkuTjpGOkU2Twpbgm5OivqpCtPe+s8pG133kI/IAAN0Ngxu5KEs1BUG5SztVZV0VZDJppWxibmJuo2wvaRFkYF01VbNL/0BFNbQofxvbDQAAJfKB5E3XvcoEv1K00qqpovmb3pZqk66RrpFsk+GW/ZuuoteqWLQKv8LKUdeF5CfyAADZDXsbrSg7NfJAo0siVUld+GMTaYZsQm5CboRsEGn0Y0VdHVWdS+1ANjWpKHcb1w0AACnyieRZ183KF79otOqqxKIWnPyWipPOkc6RjJP/lhucyaLwqm60Hb/Syl3XjeQr8gAA1Q1zG6EoLDXfQI1LCVUuXdtj9WhmbCJuIm5kbPFo12MpXQRVh0vaQCY1nShvG9MNAAAt8pHkZdfcyiq/frQDq9+iM5wbl6qT7pHukauTHpc4nOSiCKuEtDC/4cpp15XkL/IAANENaxuWKBw1zEB3S/FUE12+Y9ZoR2wCbgJuRWzTaLpjDl3rVHFLx0AXNZEoZxvPDQAAMfKZ5HDX68o9v5S0HKv6olCcOZfJkw6SDpLLkzyXVZz/oiGrmrRDv/HKdded5DPyAADNDWMbiigNNbpAYUvYVPhcoWO4aCds4m3ibSVstGidY/Nc0lRbS7RACDWFKF8byw0AADXyoeR81/vKUL+qtDSrFaNtnFiX6ZMuki6S6pNbl3KcGqM6q7C0Vb8Ay4HXpeQ38gAAyQ1bG34o/TSnQEtLv1TdXIRjmWgIbMJtwm0GbJZogGPYXLpURUuhQPg0eShXG8cNAAA58qnkiNcKy2O/wLRNqzCjipx2lwiUTpJOkgqUeZeOnDWjUqvGtGi/EMuM163kO/IAAMUNUxtyKO40lEA1S6dUwlxnY3to6GuibaJt5mt4aGNjvVyhVDBLjkDpNG4oTxvDDQAAPfKx5JTXGst1v9a0ZqtLo6eclZcnlG6SbpIplJiXq5xQo2ur27R7vx/LmNe05D/yAADBDUsbZijfNIFAH0uOVKdcSmNcaMlrgm2CbcdrWWhGY6JciVQaS3xA2TRiKEgbvw0AAEHyueSf1ynLiL/stH6rZqPEnLOXR5SNko6SSZS2l8ica6OEq/G0jr8uy6TXvORD8gAAvQ1DG1sozzRvQAlLdVSMXC1jPmiqa2NtYm2oaztoKWOHXHBUBEtpQMo0VihAG7sNAABF8sHkq9c4y5u/AbWXq4Gj4ZzRl2aUrZKukmiU1JflnIajnKsHtaC/Psuw18TkR/IAALkNOxtPKMA0XED0Sl1UcVwQYyBoimtDbUJtiGsdaAxjbFxXVO5KVkC7NEooOBu3DQAASfLJ5LfXSMuuvxe1r6uco/6c8JeFlM2SzpKHlPOXAp2ho7WrHbWzv03Lu9fM5EvyAAC1DTMbQyixNElA3kpEVFZc9GIBaGtrI20ibWlr/mfwYlJcP1TYSkNAqzQ/KDAbsw0AAE3y0eTD11fLwL8ttcirt6MbnQ6YpZTtku2SppQRmB+dvKPNqzO1xr9cy8fX1ORP8gAAsQ0rGzcooTQ2QMhKLFQ8XNdi42dMawNtA21Ka+Bn02I3XCZUwkoxQJw0MygoG68NAABR8tnkztdmy9O/Q7Xgq9KjN50smMSUDZMNk8aUL5g7ndej5qtItdm/bMvT19zkU/IAAK0NIxssKJI0JECyShNUIVy6YsVnLWvkbONsK2vCZ7ZiHFwOVK1KHkCNNCcoIBurDQAAVfLh5NrXdsvmv1i1+avto1SdSpjjlCyTLZPllE2YWJ3xo/6rXrXrv3vL3tfk5FfyAACpDRsbICiDNBFAnUr7UwZcnWKnZw1rxGzDbAxrpGeZYgFc9lOXSgtAfTQcKBgbpw0AAFny6eTm14XL+L9utRGsB6RxnWiYApVMk0yTBJVrmHWdDKQXrHS1/r+Ky+rX7ORb8gAApQ0UGxQoczT+P4dK4lPrW4FiiWfuaqRspGzsaoZnfWLmW91TgUr5P240ECgQG6MNAABd8vDk8deUywvAhLUqrCKkjp2GmCGVa5NskyOViZiSnSekL6yKtRDAmcv21/TkX/IAAKENDBsJKGQ07D9xSspT0VtkYmtnz2qFbIRszWpoZ2BizFvFU2xK5j9fNAQoCBufDQAAYfL45P3Xo8sdwJq1Qqw9pKqdpZhAlYuTjJNClaiYrp1CpEesn7UjwKnLAdj85GPyAACdDQQb/SdVNNk/XEqyU7ZbSGJMZ7BqZWxlbK5qSWdEYrFbrFNWStQ/UDT5JwAbmw0AAGXyAOUJ2LPLMMCvtVqsWKTHncOYX5Wrk6uTYZXGmMudXKRgrLW1NsC4yw3YA+Vn8gAAmQ38GvInRjTHP0ZKmVObWytiLmeRakZsRWyPaitnJ2KWW5RTQErBP0E07Sf5GpcNAABp8gjlFNjCy0PAxbVzrHKk453hmH6VypPLk4CV5JjnnXekeKzKtUjAx8sZ2Avla/IAAJUN9BrmJzY0tD8wSoFTgVsOYhBncmombCZscGoNZwpifFt8UytKrz8xNOEn8RqTDQAAbfIQ5SDY0ctVwNq1i6yNpACe/5idlemT6pOflQKZBJ6SpJCs4LVbwNbLJNgT5W7yAACRDewa2icnNKI/G0ppU2Zb8mHyZlNqB2wGbFFq72buYWFbY1MVSpw/IjTWJ+kakA0AAHHyGOUr2ODLaMDwtaOsp6Qcnh2ZvJUJlAqUvpUgmSCerKSprPa1bcDlyzDYG+Vy8gAAjQ3kGs8nGDSPPwVKUVNLW9Vh1WY0audr52syatJm0WFHW0tTAEqKPxM0yifhGowNAAB18h/lN9jvy3rABba8rMKkOZ46mduVKJQplN2VPZk9nsekwawLtoDA9cs72CPldvIAAIkN3RrDJwk0fT/wSThTMVu5YbdmFWrIa8drFGq0ZrVhLFszU+pJdz8ENL8n2RqIDQAAefIn5UPY/8uNwBu21KzcpFWeWJn6lUiUSJT8lVuZWZ7hpNmsIbaSwATMR9gr5XryAACGDdUauCf6M2o/2kkgUxZbnWGZZvdpqWuoa/VplmaZYRJbG1PVSWU/9TOzJ9IahA0AAHzyL+VO2A7Mn8Awtuys96RynnaZGZZnlGiUG5Z5mXae/KTxrDa2pcATzFPYMuV+8gAAgg3NGqwn6zNYP8VJCFP8WoBhe2bYaYlriWvWaXhmfGH3WgNTv0lSP+YzqCfKGoANAACA8jflWtgdzLHARrYErRGljp6UmTiWhpSHlDmWl5mSnhalCa1LtrfAIsxe2DrlgvIAAH4NxRqgJ9wzRT+vSfBS4VpkYV1muWlqa2lrt2laZmBh3VrrUqpJQD/XM5wnwhp8DQAAhPI/5WXYLMzEwFu2HK0spaqesplWlqaUppRYlrWZrp4xpSKtYbbJwDHMathC5YbyAAB6Db0alSfNMzM/mknYUsdaSGE/ZpppS2tKa5hpPGZEYcJa0lKUSS0/xzORJ7oaeA0AAIjyRuVx2DvM1sBxtjStRqXHntCZdZbFlMWUd5bSmcueS6U6rXa23MBAzHXYSuWK8gAAdg22GoknvjMhP4VJwFKtWithImZ8aSxrK2t6aR9mJ2GoWrpSf0kbP7gzhSeyGnQNAACM8k7lfNhKzOnAhrZMrWGl457tmZSW5JTllJaW8JnnnmWlUq2Mtu7AT8yB2FLljvIAAHINrhp+J64zDj9vSahSkloPYQRmXWkNawxrW2kBZgthjVqiUmpJCT+pM3onqxpwDQAAkPJW5YjYWcz7wJy2ZK17pf+eC5qylgOVBJW0lg6aA5+ApWqtobYAwV7MjNhZ5ZLyAABuDaYaciefM/w+WkmQUnha82DmZT5p7Wrtajxp42XvYHNailJUSfY+mjNuJ6MabA0AAJTyXuWT2GjMDcGxtnytlaUbnyma0ZYilSOV05Ysmh+fmqWCrba2E8FtzJjYYeWW8gAAag2eGmcnkDPqPkRJeFJeWtdgyWUgac5qzmoeacZl02BZWnJSP0nkPoszYyebGmgNAACY8mXln9h3zCDBxraUrbClN59GmvCWQZVClfGWSZo7n7Slmq3MtiXBfMyj2GnlmvIAAGYNlxpcJ4Ez1z4vSWBSQ1q6YKtlAWmvaq9q/2ioZbdgP1paUipJ0j58M1cnkxpkDQAAnPJt5arYhswywdu2rK3KpVSfZJoOl2CVYZUQl2eaWJ/PpbKt4bY3wYvMr9hw5Z7yAABiDY8aUCdyM8U+GklIUilanmCNZeNokGqQauFoi2WaYCRaQlIUSb8+bTNMJ4waYQ0AAKDydeW22JXMRMHxtsSt5KVwn4GaLZd/lYCVLpeEmnSf6aXKrfa2SsGazLrYeOWh8gAAXg2HGkUnZDOzPgVJMFIPWoJgcGXEaHFqcWrCaG1lfmAKWipS/0itPl4zQCeEGl0NAACk8n3lwdikzFbBBrfcrf6ljJ+fmkuXnpWflU2XopqQnwOm4q0Lt1zBqczF2IDlpfIAAFsNfxo5J1UzoD7vSBhS9VlmYFJlpmhSalJqpGhQZWJg8FkTUupImz5PMzUnfBpZDQAAp/KE5czYs8xpwRu39K0YpqifvJpql72VvpVrl7+arJ8dpvmtIbduwbjM0diI5anyAABXDXgaLidGM44+2kgAUtpZSmA1ZYdoM2ozaoVoMmVGYNZZ+1HVSIk+QTMqJ3UaVQ0AAKvyjOXY2MLMe8EwtwyuM6bEn9qaiJfcld2VipfdmsifN6YRrja3gMHHzNzYj+Wt8gAAUw1wGiInNzN8PsVI6FHAWS5gGGVpaBVqFGpnaBVlKmC8WeNRwEh3PjIzHidtGlENAACv8pTl49jRzI3BRrckrk2m4J/3mqaX+5X8laiX+prkn1GmKa5Lt5LB1szo2JflsfIAAE8NaBoXJygzaj6wSNBRplkSYPpkSmj2afVpSWj3ZA5golnLUapIZD4jMxMnZRpNDQAAs/Kb5e/Y4MyfwVu3PK5npvyfFJvFlxqWGpbHlxebAKBrpkGuYLelweXM89if5bXyAABLDWEaDCcZM1g+m0i4UYxZ9l/dZCxo12nWaSpo2mTyX4dZs1GVSFI+FDMHJ10aSQ0AALfyo+X62O7MscFwt1OugaYYoDKb45c5ljmW5Zc1mxyghqZZrnW3t8H0zP7YpuW58gAARw1ZGgAnCjNGPoZIoVFyWdpfwGQOaLhpt2kMaL1k1l9tWZxRgEhAPgUz/CZWGkUNAAC78qvlBdn9zMPBhbdrrpumNKBPmwGYV5ZYlgOYUps3oKCmcK6Kt8nBAs0K2a7lvfIAAEMNURr1JvsyND5xSIlRWFm+X6Jk8GeZaZlp7mefZLtfU1mEUWtILj72MvEmThpCDQAAv/Ky5RHZDM3VwZq3g661pk+gbJsgmHaWd5YhmG+bU6C6poiun7fbwRHNFdm25cDyAAA/DUoa6ibsMiE+W0hxUT5Zo1+FZNFne2l6adBngmSfXzlZbFFWSBw+5zLlJkcaPg0AAMLyuuUc2RvN6MGvt5uuz6ZroIqbPpiVlpWWQJiNm2+g06agrrS37cEgzSDZveXE8gAAPA1CGt4m3jIPPkZIWlEkWYdfaGSzZ1xpW2mxZ2Vkg18gWVRRQUgKPtky2iY/GjoNAADG8sLlJ9kqzfrBxLeyrummh6Cnm1yYs5a0ll6YqpuLoO2mt67Kt//BL80s2cXlyPIAADgNOhrTJs8y/T0xSEJRCllrX0tklWc9aT1pk2dIZGdfBlk9USxI+D3KMs8mNxo2DQAAyvLJ5TPZOc0Mwtm3yq4Dp6OgxJt6mNKW05Z8mMebp6AHp8+u37cRwj7NN9nN5czyAAA0DTMayCbAMus9HEgqUfBYT18tZHdnH2keaXVnKmRLX+xYJVEXSOY9uzLEJjAaMg0AAM7y0eU+2UfNHsLut+GuHae/oOGbmJjxlvGWmpjkm8KgIafnrvO3I8JMzULZ1OXQ8gAAMA0rGr0msTLZPQdIE1HXWDRfEGRZZwBpAGlXZw1kMF/SWA5RAkjUPawyuCYoGi4NAADS8tnlSdlWzTDCA7j5rjan2qD+m7aYD5cQl7iYAZzeoDun/q4IuDXCW81N2dzl1PIAACwNJBqxJqMyxz3zR/tQvVgYX/NjO2fiaOFoOWfwYxRfuFj2UO1Hwj2eMq0mIBoqDQAA1vLg5VTZZc1Cwhi4Ea9Qp/agG5zUmC6XLpfWmB6c+qBVpxavHbhHwmrNWdnj5dfyAAAoDRwapiaUMrU93kfkUKNY/F7WYx1nw2jDaBtn02P4Xp5Y3lDYR7A9jzKiJhkaJw0AANry6OVg2XPNVMItuCivaqcSoTic8phMl02X9Jg7nBWhb6ctrzK4WcJ4zWTZ6+Xb8gAAJQ0UGpsmhTKjPclHzFCJWOFeuWP/ZqVopGj9ZrZj3V6FWMdQw0eePYAylyYRGiMNAADd8u/la9mCzWbCQrhAr4SnLaFVnBCZa5drlxKZWJwxoYinRa9HuGvCh81v2fPl3/IAACENDRqQJnYykj20R7VQb1jFXpxj4WaGaIZo32aZY8Fea1ivUK5HjD1xMosmChofDQAA4fL35XbZkc13wle4V6+dp0mhcpwumYmXipcwmXWcTaGip1yvXLh9wpbNetn65ePyAAAdDQUahCZoMoA9n0edUFZYql5/Y8NmaGhnaMFmfGOmXlFYmFCaR3o9YzKAJgIaGw0AAOXy/+WB2aDNicJruG+vt6dkoY+cTJmnl6iXTpmSnGihvKd0r3G4j8KlzYbZAubn8gAAGQ3+GXkmWTJuPYpHhlA8WI5eYmOlZkpoSWijZl9jil43WIFQhUdoPVQydSb6GRcNAADp8gbmjNmuzZvCgLiGr9GngKGsnGqZxpfGl2yZr5yEodWni6+GuKHCs82R2Qnm6/IAABUN9hluJksyXD11R25QIlhzXkVjh2YraCtohWZCY29eHlhpUHBHVz1GMmom8xkUDQAA7fIO5pjZvc2twpW4na/qp5uhyZyImeSX5ZeJmcycn6Hvp6OvmriywsLNnNkR5u7yAAARDe8ZYyY8Mko9YUdXUAlYV14oY2lmDWgMaGhmJmNTXgRYUlBbR0U9NzJfJusZEA0AAPDyFeaj2cvNv8KquLWvBKi3oeacpZkCmAOYp5npnLuhCai6r6+4xMLQzafZGOby8gAADg3nGVgmLTI4PUxHQFDvVzxeDGNMZu9n7mdKZgljOF7rVzpQRkczPSgyUybkGQwNAAD08h3mrtnazdHCv7jMrx6o0qEDncOZIJghmMWZBp3WoSKo0a/EuNbC382y2SDm9vIAAAoN3xlMJh8yJj03RyhQ1lcgXu9iLmbQZ9BnLGbsYhxe0VcjUDJHIT0aMkgm3BkIDQAA+PIk5rnZ6c3iwtO44683qO2hIJ3hmT+YP5jjmSKd8aE8qOmv2bjowu7Nvdkn5vryAAAGDdgZQSYQMhU9IkcRULxXBV7SYhBmsmeyZw5mz2IBXrdXDFAdRw89CzI9JtUZBA0AAPzyLObE2ffN9MLouPuvUagJojyd/5ldmF2YAJo/nQ2iVagAsO24+sL8zcjZL+b+8gAAAg3QGTYmAjIDPQ5H+k+jV+pdtWLzZZRnlGfxZbJi5l2eV/VPCEf+PP0xMibNGQENAAAA8zPmz9kGzgbD/bgSsGqoJKJZnRyae5h8mB6aXJ0oom+oF7ACuQvDC87U2TbmAfMAAP8MyRkrJvMx8Tz5RuJPiVfOXZli1WV2Z3Vn02WWYspdhFfdT/RG7DzuMScmxhn9DAAAA/M75trZFM4YwxG5KbCEqD+idp06mpmYmpg8mnmdQ6KIqC6wF7kdwxnO39k+5gXzAAD7DMEZICbkMd885EbLT3BXs118YrdlWGdXZ7VleWKvXWtXxk/fRto84DEcJr4Z+QwAAAfzQubm2SPOKcMmuUCwnahbopKdWJq3mLiYWZqVnV6ioqhGsCu5L8MozurZReYJ8wAA9wy6GRUm1jHOPNBGtE9WV5hdX2KaZTpnOWeYZVxilF1SV69PykbIPNExESa3GfUMAAAL80rm8dkxzjvDOrlYsLeodqKvnXWa1ZjWmHeasp16oruoXbBAuUDDNs712U3mDfMAAPMMshkKJsgxvDy7Rp1PPVd8XUNifGUcZxtnemVAYnldOFeYT7ZGtzzDMQYmrxnxDAAAD/NR5vzZQM5Nw0+5b7DQqJGizJ2TmvOY9JiUms6dlaLUqHSwVLlSw0XOANpU5hDzAADvDKsZ/yW5Mao8p0aGTyNXYV0mYl9l/mb9Zl1lI2JeXR9XgU+hRqU8tDH7JagZ7gwAABLzWeYH2k7OXsNkuYaw6aisouidsJoRmRKZsprrnbCi7qiLsGm5ZMNTzgvaXOYU8wAA7AykGfQlqzGZPJJGb08KV0ZdCmJBZeBm32Y/ZQdiQl0GV2lPjUaTPKYx8CWgGeoMAAAW82DmEtpdznDDeLmdsAOpx6IFns6aL5kwmc+aCJ7LogeporB9uXXDYs4W2mPmGPMAAOgMnBnpJZwxhzx+RldP8VYrXe1hJGXCZsFmImXqYSdd7FZST3hGgjyXMeUlmRnmDAAAGvNo5h3aa86Cw425tLAcqeOiIZ7rmk2ZTpntmiSe5qIgqbmwkrmHw3DOIdpr5hzzAADkDJUZ3iWOMXY8aUZAT9dWEF3RYQZlpGakZgVlzmEMXdNWO09kRnA8iTHaJZIZ4gwAAB7zb+Yo2nrOk8OhucuwNan+oj6eCJtrmWuZCptAngGjOqnQsKa5mcN+zizacuYf8wAA4AyNGdMlfzFkPFVGKU++VvVctGHpZIZmhmbnZLFh8Vy6ViRPT0ZfPHoxziWKGd8MAAAh83fmM9qIzqXDtrnisE6pGaNaniabiZmJmSebXZ4co1Op57C7uarDjc432nrmI/MAAN0MhhnIJXExUjxARhJPpVbaXJhhzGRoZmhmymSVYdZcoFYNTztGTTxsMcQlgxnbDAAAJfN+5j7als62w8q5+bBoqTSjdp5Dm6aZp5lFm3meN6Nsqf6wz7m8w5vOQtqB5ifzAADZDH4ZvSVjMUE8LEb7ToxWv1x7Ya5kS2ZKZq1keWG7XIdW9k4mRjw8XjG5JXsZ1wwAACnzheZJ2qXOyMPeuRCxgalPo5OeYJvEmcWZYpuWnlKjhakVseS5zcOqzk3aiOYr8wAA1Qx3GbIlVDEvPBdG5E5zVqRcX2GRZC1mLGaPZFxhoFxuVt9OEkYqPE8xriV0GdMMAAAt843mVNqzztnD87knsZqpaqOvnn6b4pnimX+bsp5to56pLLH4ud/DuM5Y2pDmLvMAANEMcBmnJUYxHjwDRs1OWlaJXENhdGQPZg9mcmRAYYVcVVbITv5FGTxBMaMlbBnQDAAAMPOU5l/awc7rwwe6PrGzqYSjy56bmwCaAJqdm86eiKO4qUOxDLrww8bOY9qX5jLzAADODGgZnCU4MQw870W2TkBWblwmYVdk8mXxZVVkJGFqXDxWsU7pRQc8MzGYJWUZzAwAADTznOZq2tDO/MMculWxzKmfo+ieuJsdmh6aupvqnqOj0alasSG6AsTVzm7an+Y28wAAygxhGZElKTH7O9pFoE4nVlNcCmE5ZNRl02U4ZAdhT1wjVptO1UX2OyQxjSVeGcgMAAA486Pmddrezg7EMLpsseWpuqMEn9WbO5o7mtebB5++o+qpcbE1uhPE48552qbmOvMAAMYMWRmGJRsx6TvGRYlODlY4XO5gHGS2ZbZlG2TrYDVcClaETsFF5DsWMYIlVhnFDAAAPPOq5oDa7M4fxES6g7H+qdWjIJ/ym1iaWZr0myOf2aMDqoixSbokxPHOhNqt5j3zAADDDFIZeyUNMdg7skVyTvVVHlzSYP9jmWWYZf1jz2AaXPFVbU6sRdM7CDF3JU8ZwQwAAD/zsuaK2vvOMcRYupqxF6rwozyfD5x2mneaEZw/n/SjHKqfsV66NsT/zo/ateZB8wAAvwxLGXAl/jDHO51FW07cVQNctmDiY3tle2XgY7Ng/1vYVVZOmEXBO/owbCVIGb0MAABD87nmldoJz0LEbbqwsTCqC6RYnyyclJqUmi6cW58OpDWqtbFyukfEDs+Z2rzmRfMAALsMQxllJfAwtTuJRUROw1XoW5pgxWNeZV1lw2OXYORbv1U/ToRFsDvrMGElQBm5DAAAR/PA5qDaF89TxIG6x7FJqiWkdJ9JnLGasppLnHefKaROqsyxhrpZxBzPpNrD5kjzAAC3DDwZWiXiMKQ7dUUuTqpVzVt9YKhjQGVAZaZje2DKW6ZVKU5wRZ873TBWJTkZtgwAAErzyOar2iXPZcSVut6xYqpApJGfZpzOms+aaJyTn0SkZ6rjsZq6asQqz6/ay+ZM8wAAtAw1GVAl1DCTO2FFF06RVbNbYWCLYyNlImWJY19gr1uNVRJOXEWNO88wSyUyGbIMAABO88/mttozz3bEqbr1sXuqW6Stn4Oc7JrsmoWcr59epH+q+rGvunvEOM+62tLmUPMAALAMLRlFJcUwgTtNRQBOeVWYW0VgbmMFZQVlbGNDYJRbdFX7TUdFfDvBMEElKhmuDAAAUvPW5sHaQs+HxL26C7KUqnWkyZ+gnAmbCpuinMufeaSYqhCyw7qNxEbPxdrZ5lPzAACsDCYZOiW3MHA7OEXpTWBVfVspYFFj6GTnZE9jJ2B6W1tV5E0zRWs7sjA2JSMZqwwAAFXz3ubM2lDPmcTSuiKyraqQpOWfvZwnmyebv5znn5Sksaonste6nsRVz9Da4eZX8wAAqQwfGS8lqTBfOyRF001HVWNbDWA0Y8tkymQzYwtgX1tCVc5NH0VZO6QwKyUcGacMAABZ8+Xm1tpez6rE5ro5ssWqq6QBoNqcRJtFm9ycA6CupMqqPrLruq/EY8/a2ujmW/MAAKUMFxkkJZswTTsQRbxNLlVIW/JfGGOtZK1kFmPvX0RbKlW3TQtFSDuWMCAlFBmjDAAAXfPs5uHabM+7xPq6T7LeqsWkHKD3nGGbYpv5nB+gyaTjqlSy/7rAxHHP5drv5l/zAAChDBAZGSWNMDw7/ESmTRVVLlvWX/tikGSQZPli018qWxFVoU33RDc7iDAVJQ0ZoAwAAGDz9Obs2nrPzMQOu2ay96rgpDigFJ1+m3+bFZ07oOOk+6prshO70sR/z/Da9+Zi8wAAngwJGQ8lfzArO+hEj039VBNbul/eYnNkcmTcYrdfD1v4VIpN40QmO3owCyUGGZwMAABk8/vm99qIz97EIrt8shCr+qRUoDCdnJucmzKdV6D+pBSrgbInu+PEjc/72v7mZvMAAJoMARkEJXEwGjvURHhN5FT5Wp5fwWJWZFVkv2KbX/Va31RzTc9EFTtsMAAl/hiYDAAAaPMC5wLbls/vxDa7k7IoqxWlcKBNnbmbuZtPnXOgGKUtq5iyO7v0xJvPBtsF52rzAACWDPoY+SRjMAk7wERiTctU3lqCX6RiOWQ4ZKNif1/aWsdUXU27RAM7XjD1JPcYlQwAAGvzCecM26TPAMVKu6myQasvpYygap3Wm9ebbJ2PoDOlRquusk+7BcWpzxDbDOdt8wAAkwzzGO4kVDD3OqxES02zVMRaZl+IYhtkG2SGYmRfwFquVEZNp0TyOlAw6iTwGJEMAABv8xHnF9uzzxHFXrvAslqrSaWooIed85v0m4idqqBNpV6rxbJjuxbFt88b2xTncfMAAI8M7BjkJEYw5jqYRDVNmlSpWktfa2L+Y/5jaWJIX6ZallQwTZNE4TpCMOAk6RiNDAAAc/MY5yLbwc8ixXK71rJyq2Slw6CjnRCcEZylncagaKV3q9uyd7snxcXPJtsb53TzAACLDOQY2SQ4MNU6hEQeTYFUj1ovX09i4WPhY01iLF+LWn1UGk1/RNA6NDDVJOEYigwAAHbzH+cs28/PM8WGu+2yi6t+pd+gwJ0tnC6cwZ3ioIKlj6vysou7OcXTzzHbIud48wAAiAzdGM4kKjDEOnBECE1pVHVaE18yYsRjxGMwYhBfcVpkVANNa0S/OiYwyiTaGIYMAAB68ybnN9vdz0XFmrsDs6OrmaX7oNydSpxLnN6d/aCcpairCLOfu0rF4c872ynnfPMAAIQM1hjDJBwwszpcRPJMUFRaWvheFWKnY6djFGL1XldaTFTtTFdErjoYML8k0xiCDAAAfvMu50Lb689Wxa67GrO8q7OlFqH5nWecaJz7nRmhtqXAqx6zs7tbxe/PRtsx53/zAACADM8YuSQOMKI6SETbTDhUQFrcXvlhimOKY/dh2V48WjNU1kxDRJ06CjC1JMwYfwwAAIHzNedN2/nPZ8XBuzCz1avNpTKhFZ6EnIWcF541odGl2as1s8e7bMX9z1HbOOeD8wAAfQzIGK4kADCROjVExUwfVCZawF7cYW1jbWPbYb5eIlobVMBML0SMOvwvqiTFGHsMAACF8zznV9sH0HjF1btGs+2r56VNoTKeoZyinDSeUKHrpfGrS7Pau33FC9Bb2z/nh/MAAHkMwBijJPIvgDohRK9MB1QMWqVewGFQY1BjvmGiXghaAlSqTBxEezruL58kvRh4DAAAifND52LbFdCJxem7XbMFrAGmaaFOnr6cv5xQnmyhBaYKrGGz7ruOxRnQZttG54rzAAB2DLkYmSTlL286DUSYTO5T8VmJXqRhM2MzY6Jhh17uWepTk0wIRGo64C+VJLYYdAwAAIzzSudt2yLQmsX9u3OzHqwcpoSha57bnNycbJ6HoR+mIqx4swK8n8Un0HHbTeeO8wAAcgyyGI4k1y9eOvlDgkzWU9dZbl6HYRdjFmOFYWte1FnSU31M9ENZOtIviiSvGHAMAACQ81Lnd9sw0KvFEbyJszasNqagoYee+Jz4nImeo6E5pjusjrMWvLDFNdB721XnkvMAAG4MqxiEJMkvTTrlQ2xMvlO9WVJea2H6YvliaWFQXrpZuVNnTOBDSDrEL38kqBhtDAAAlPNZ54LbPtC8xSS8n7NPrFCmu6GjnhWdFZ2lnr6hVKZTrKSzKrzBxUPQhttc55XzAABrDKQYeSS7Lzw60kNWTKVTo1k3Xk5h3WLcYk1hNF6fWaFTUUzNQzc6ti91JKEYaQwAAJfzYOeM20zQzcU4vLazZ6xqptehwJ4xnTKdwZ7ZoW6ma6y6sz280sVR0JDbY+eZ8wAAZwycGG4krS8rOr5DP0yNU4lZHF4yYcBiwGIwYRlehVmJUztMuUMmOqgvaiSZGGUMAACb82fnl9ta0N7FTLzMs3+shKbyodyeTp1Pnd6e9aGIpoSs0bNRvOPFX9Cb22rnnPMAAGMMlRhkJJ8vGjqqQylMdVNvWQBeFmGkYqNiFGH9XWtZcFMkTKVDFTqaL2AkkhhiDAAAnvNu56LbaNDuxWC84rOYrJ6mDaL4nmuda536nhCioqacrOezZbz0xW3Qpttx56DzAABgDI4YWSSRLwk6l0MTTFxTVVnlXfpgh2KGYvhg4l1RWVhTDkyRQwQ6jC9VJIsYXgwAAKLzdees23bQ/8VzvPizsKy4pimiFJ+HnYidFp8rorymtKz9s3i8BMZ60LDbeOek8wAAXAyHGE8kgy/4OYND/UtEUztZyl3dYGpiamLcYMddN1lAU/hLfkPzOX8vSySEGFsMAACm833nt9uE0BDGh7wOtMis0qZEojGfpJ2lnTKfR6LWpsysE7SMvBXGiNC724Dnp/MAAFkMgBhEJHYv5zlvQ+dLLFMhWa5dwWBOYk1iwGCsXR1ZKFPiS2pD4jlxL0AkfRhXDAAAqfOE58HbkdAhxpq8JLTgrOymX6JNn8GdwZ1On2Ki8KblrCm0oLwmxpbQxduH56vzAABVDHkYOSRoL9c5XEPRSxRTB1mTXaVgMWIwYqNgkF0EWQ9TzEtXQ9E5Yy81JHYYUwwAAK3zi+fM25/QMsauvDq0+KwGp3uiaZ/dnd6da599ogmn/aw/tLO8N8ak0NDbjueu8wAAUgxyGC8kWi/GOUhDu0v8Uu1YeF2JYBRiFGKHYHVd6lj3UrZLQ0PBOVUvKyRvGFAMAACw85Ln1tut0EPGwrxQtBCtIKeWooWf+p36nYefmKIjpxWtVbTHvEjGstDa25XnsvMAAE4MaxgkJEwvtTk1Q6VL41LTWF1dbWD4Yfdha2BaXdBY31KgSy9DsDlILyAkaBhMDAAAtPOZ5+Hbu9BTxtW8ZrQprTqnsaKhnxaeF56jn7SiPactrWu02rxYxr/Q5duc57bzAABKDGMYGiQ+L6Q5IUOPS8tSulhCXVFg22HbYU9gP122WMdSikscQ585Oi8WJGAYSQwAALfzoOfr28jQZMbpvHy0Qa1Tp8yivZ8znjOev5/PolenRa2BtO68acbN0O/bo+e58wAARwxcGA8kMS+TOQ1DeUuzUqBYJl01YL9hvmEzYCRdnFivUnRLCEOOOSwvCyRZGEUMAAC786fn9tvW0HXG/LyStFmtbafnotmfT55Qntuf6qJxp12tl7QBvXrG29D626rnvfMAAEMMVRgFJCMvgzn6QmNLm1KGWAtdGWCjYaJhF2AJXYJYl1JeS/VCfjkeLwEkUhhCDAAAv/Ou5wDc5NCGxhC9qLRxrYenAqP1n2yebJ73nwWjiqd1ra20Fb2LxunQBNyx58DzAABADE4Y+iMVL3I550JNS4NSbFjwXP1fhmGGYftf7lxpWH9SSEvhQm05ES/2I0sYPgwAAMLztecL3PLQlsYjvb60ia2hpx2jEaCInomeE6Ago6Snja3DtCi9m8b20A/cuOfE8wAAPAxHGPAjCC9hOdNCN0trUlNY1VzhX2phaWHfX9NcT1hnUjJLzkJcOQMv7CNEGDoMAADG87znFdz/0KfGN73UtKGtuqc4oy2gpJ6lni6gO6O+p6Wt2bQ8vazGBNEZ3L/nx/MAADkMQBjmI/ouUTnAQiFLU1I5WLpcxV9OYU1hxF+4XDVYT1IcS7tCTDn1LuIjPRg3DAAAyfPD5yDcDdG4xkq96rS5rdSnU6NJoMGewZ5KoFaj2Ke9re+0T729xhLRJNzG58vzAAA1DDkY2yPsLkA5rEILSztSH1ifXKlfMWExYahfnVwcWDdSB0unQjs56C7XIzYYMwwAAM3zy+cq3BvRyMZdvQC10a3up26jZKDdnt2eZqBxo/Gn1a0EtWK9zcYf0S7czefO8wAAMQwyGNEj3y4vOZlC9UojUgZYhFyOXxVhFGGMX4JcAlgfUvFKlEIqOdouzSMvGDAMAADQ89LnNdwo0dnGcb0VtemtB6iJo4Cg+Z76noKgjKMLqO2tGrV2vd7GLdE53NXn0vMAAC4MKxjGI9EuHzmFQuBKDFLsV2lccl/5YPhgcF9nXOhXB1LbSoBCGjnMLsIjKBgsDAAA1PPZ5z/cNtHqxoS9K7UAriGopKOcoBWfFp+eoKejJKgFrjC1ib3vxjrRQ9zc59bzAAAqDCQYvCPDLg45ckLKSvRR0ldPXFZf3WDcYFRfTFzPV+9RxUptQgk5vy64IyEYKQwAANfz4OdJ3EPR+saYvUG1GK46qL+juKAynzKfuaDBoz6oHa5GtZ29/8ZI0U3c4+fZ8wAAJwwdGLEjti79OF9CtErcUblXNFw6X8BgwGA5XzFctVfYUa9KWkL4OLEurSMaGCUMAADb8+fnVNxR0QvHq71XtTCuVKjao9OgTp9On9Wg3KNXqDSuW7WwvRDHVtFY3Orn3fMAACMMFhinI6gu7ThMQp5KxFGfVxlcH1+kYKRgHV8WXJxXwFGaSkdC6DikLqMjExgiDAAA3/Pu517cX9Ebx769bLVIrm2o9KPvoGqfap/xoPejcahMrnG1w70gx2PRYtzx5+DzAAAgDA8YnSObLtw4OEKJSqxRhlf+WwNfiGCIYAFf/FuCV6hRhEozQtc4li6ZIwwYHgwAAOLz9edo3GzRLMfRvYK1YK6HqA+kC6GGn4afDKESpIqoZK6Htda9Mcdx0Wzc+Ofk8wAAHAwIGJIjjS7MOCVCc0qVUW1X41vnXmxgbGDmXuFbaVeQUW5KIELHOIgujiMFGBsMAADm8/znc9x60T3H5b2YtXeuoKgqpCahop+inyihLaSkqHyunLXqvUHHftF33P/n5/MAABkMARiII4AuuzgSQl1KfVFTV8lbzF5QYFBgyl7GW1BXeVFZSg1Ctjh7LoQj/hcXDAAA6fMD6H3ch9FNx/i9rbWPrrqoRaRCob6fvp9EoUekvaiTrrK1/b1Sx4zRgdwG6OvzAAAVDPoXfiNyLqs4/0FISmVROleuW7BeNGA0YK9eq1s2V2FRQ0r6QaY4bS56I/cXFAwAAO3zCuiH3JXRXccLvsO1p67TqF+kXqHan9qfX6FipNeoq67ItRC+YseZ0YvcDeju8wAAEgzzF3MjZS6aOOtBMkpNUSBXk1uVXhhgGGCTXpFbHVdJUS1K5kGVOGAubyPwFxAMAADw8xHoktyi0W7HHr7Ztb6u7Kh6pHmh9p/2n3uhfaTwqMOu3bUjvnPHp9GW3BPo8vMAAA4M7BdpI1cuijjYQR1KNlEHV3lbeV78X/xfeF52WwNXMlEYStNBhThSLmUj6RcNDAAA9PMY6JzcsNF+xzG+7rXWrgaplaSVoRKgEqCWoZekCanarvO1Nr6Dx7TRoNwa6PXzAAALDOUXXyNKLnk4xUEHSh5R7lZeW15e4F/gX1xeXFvqVhpRAkrAQXQ4RS5bI+IXCQwAAPfzHuim3L3Rj8dEvgS27q4fqa+ksKEuoC6gsqGypCKp8q4Itkm+lMfC0arcIej58wAABwzeF1QjPC5pOLJB8kkHUdRWRFtCXsRfxF9BXkFb0VYCUe1JrUFkODguUSPbFwYMAAD78yXosdzL0Z/HWL4ZtgWvOKnKpMuhSqBKoM2hzKQ8qQmvHrZdvqTHz9G13Cjo/PMAAAQM1xdKIy8uWTifQdxJ71C7VilbJ16pX6hfJV4mW7hW61DXSZpBVDgqLkYj1BcCDAAA/vMs6Lvc2NGwx2u+L7Ydr1Gp5KTnoWWgZqDooeekVakhrzO2cL61x93Rv9wv6AD0AAAADNAXQCMhLkg4jEHHSdhQolYPWwxejV+MXwpeDFueVtNQwkmHQUM4HS48I80X/wsAAAL0M+jF3OXRwMd+vkS2NK9rqf+kAqKBoIKgBKIBpW6pOK9JtoO+xcfq0cncNugD9AAA/QvJFzYjFC44OHlBsUnAUIlW9FrwXXFfcF/vXfFahVa8UKxJdEEzOA8uMiPGF/sLAAAF9Droz9zz0dDHkb5atkyvhKkZpR2inaCdoB+iHKWHqVCvXraWvtXH99HT3D3oB/QAAPkLwhcrIwYuJzhmQZxJqVBwVtpa1V1VX1Vf013XWmxWpFCXSWFBIzgCLigjvxf4CwAACfRB6NrcANLhx6S+b7Zjr52pNKU5ormguaA6ojaloKlnr3S2qb7mxwXS3txE6Ar0AAD2C7sXISP5LRc4U0GGSZFQVla/WrpdOV85X7hdvVpTVo1QgklOQRI49C0dI7kX9AsAAAz0SOjk3A7S8ce3voS2e6+2qU6lVKLUoNWgVqJRpbqpf6+Jtry+9scS0ujcS+gO9AAA8gu1Fxcj7C0HOEBBcUl6UD1WpVqeXR5fHV+dXaJaOlZ1UGxJO0ECOOctEyOyF/ELAAAQ9E/o7twb0gHIyr6atpKvz6lopW+i8KDxoHGia6XTqZavnrbPvgbIINLy3FLoEfQAAO8LrhcNI94t9zctQVxJYlAkVopag10CXwJfgV2IWiFWXlBXSShB8jfaLQkjqxftCwAAE/RW6PjcKNISyN2+r7apr+ipg6WKogyhDKGMooWl7Kmur7S24r4WyC3S/NxZ6BX0AADrC6cXAyPRLeY3GkFGSUtQC1ZwWmhd517mXmZdbloIVkdQQkkVQeE3zC3/IqQX6gsAABb0XegC3TbSIsjwvsS2wa8Bqp2lpqInoSihp6KgpQWqxa/JtvW+J8g60gbdYOgY9AAA6AugF/gixC3WNwdBMUk0UPJVVlpNXcteyl5LXVNa71UvUCxJAkHRN78t9SKdF+YLAAAa9GToDd1D0jLIA7/attivGqq3pcGiQ6FDocKiuqUeqtyv3rYIvzfISNIR3WboHPQAAOQLmRfuIrYtxjf0QBxJHFDZVTxaMl2vXq9eMF05WtZVGFAXSe9AwTeyLeoilhfjCwAAHfRq6BfdUNJCyBa/77bvrzOq0qXcol6hX6HeotSlN6r0r/S2Gr9HyFXSG91t6B/0AADhC5IX5CKpLbY34UAGSQVQwFUhWhddlF6TXhVdH1q9VQFQAkncQLE3pS3gIo8X3wsAACH0cegh3V7SU8govwS3B7BMquyl96J6oXqh+aLupVCqC7AJty2/V8hi0iXddOgi9AAA3QuLF9oinC2lN85A8UjuT6dVB1r7XHheeF76XAVapFXpT+1IyUChN5ct1iKIF9wLAAAk9HjoK91r0mPIO78Ztx6wZaoGphKjlaGWoRSjCaZpqiKwHrdAv2jIb9Iv3XvoJvQAANoLhBfQIo8tlTe7QNxI1k+OVe1Z4FxdXlxe31zqWYtV0k/XSLZAkDeKLcwighfYCwAAKPR/6DXdeNJzyE6/L7c1sH6qIKYto7GhsaEvoyOmgao5sDO3U794yH3SOd2C6Cn0AADXC34XxiKBLYU3qEDHSL9PdlXTWcVcQV5BXsRc0FlyVbtPwkikQIA3fS3CInsX1QsAACv0hug/3YXSg8hhv0S3TLCXqjqmSKPMoc2hSqM9ppqqUbBIt2a/iMiK0kPdiegt9AAA0wt3F7widC11N5ZAskioT11VuVmqXCZeJV6pXLZZWVWkT61IkUBwN3AtuCJ0F9ELAAAv9I3oSd2T0pPIdL9Zt2SwsKpUpmOj6KHooWWjV6azqmiwXrd5v5jIl9JN3ZDoMPQAANALcBexImctZTeDQJ1IkU9EVZ9ZkFwLXgpejlycWUBVjU+YSH5AYDdiLa4ibRfOCwAAMvST6FTdoNKjyIa/brd7sMiqbqZ+owOiBKKAo3GmzKp/sHO3i7+oyKTSV92W6DT0AADMC2kXpyJaLVU3cECHSHpPK1WFWXVc713vXXNcglkoVXZPg0hrQFA3VS2kImYXywsAADb0muhe3a3Ss8iZv4O3krDhqoimmaMeoh+imqOLpuWqlrCIt56/uMix0mHdneg39AAAyQtiF50iTC1FN11AckhjTxJVa1laXNRd011YXGhZD1VeT25IWUBAN0gtmiJfF8cLAAA59KHoaN260sPIrL+Yt6mw+qqiprSjOqI6orWjpab9qq2wnbexv8jIv9Js3aToO/QAAMULXBeTIj8tNDdLQF1ITE/6VFFZP1y5XbhdPVxOWfZUR09ZSEZAMDc7LY8iWRfECwAAPPSo6HLdx9LUyL+/rbfAsBOrvKbPo1WiVaLQo7+mFqvEsLK3w7/YyMzSdt2r6D70AADCC1UXiSIyLSQ3OEBISDRP4VQ3WSRcnV2dXSJcNFndVDBPREgzQCA3Li2FIlIXwAsAAED0r+h83dTS5MjRv8K317Arq9am6aNwonGi66PZpi+r27DHt9a/6MjZ0oDdsuhB9AAAvwtOF38iJS0UNyVAM0gdT8hUHVkJXIJdgl0IXBpZxVQZTy9IIEAQNyEteyJLF70LAABD9LXoht3i0vTI5L/Xt+6wRKvwpgSki6KMogak86ZIq/Kw3Lfpv/jI5tKK3bjoRfQAALsLRxd1IhgtBDcTQB5IBk+wVANZ71tnXWdd7VsAWaxUAk8aSA5AADcTLXEiRBe6CwAAR/S86JDd79IEyfe/7LcFsV2rCqcfpKeip6IgpA2nYKsJsfG3+78IyfPSlN2/6Ej0AAC4C0AXayILLfQ2AEAJSO9Ol1TpWNRbTF1LXdJb5liUVOtOBUj7P/A2Bi1nIj4XtgsAAEr0w+ia3fzSFMkJwAG4HLF1qySnOqTCosKiO6Qnp3mrILEGuA7AGMkA057dxuhM9AAAtAs6F2Ei/izkNu0/9EfZTn5Uz1i5WzFdMF23W8xYe1TUTvBH6T/gNvksXSI3F7MLAABN9MropN0J0yTJHMAWuDOxjqs+p1Sk3aLdolakQKeRqzexG7ghwCjJDdOo3c3oT/QAALELMxdXIvEs1DbbP99Hwk5mVLVYnlsWXRVdnVuzWGJUvU7bR9Y/0DbsLFMiMBevCwAAUfTQ6K7dFtM0yS7AK7hKsaarWKdvpPii+KJxpFqnqqtOsTC4M8A4yRrTst3T6FL0AACtCywXTSLkLMU2yD/KR6tOTVSbWIRb+1z6XIJbmVhKVKdOxkfDP8A23yxJIikXrAsAAFT01+i43SPTQ8lBwEC4YbG/q3GniqQToxOji6R0p8KrZbFFuEbASMkn07zd2uhW9AAAqgslF0Mi1iy1NrY/tkeUTjVUglhpW+Bc31xoW39YMVSQTrFHsT+wNtIsPyIjF6kLAABY9N7owt0w01PJVMBVuHix16uLp6SkLqMuo6akjqfbq3yxWbhYwFjJNNPG3eHoWfQAAKcLHxc5IskspTajP6FHfU4cVGhYT1vFXMRcTVtlWBlUeU6cR54/oDbFLDUiHBelCwAAW/Tl6MzdPdNjyWbAariOsfCrpae/pEmjSaPApKin86uTsW64a8BoyULT0N3o6F30AACjCxgXLyK8LJU2kT+MR2ZOBFROWDRbqlypXDJbTFgAVGJOh0eMP5A2uCwrIhUXogsAAF706+jW3UrTc8l5wH64pbEIrL+n2aRko2Sj26TBpwysqbGDuH3AeMlP09nd7uhg9AAAoAsRFyUiryyFNn4/d0dPTutTNVgaW49cjlwYWzJY6FNLTnNHeT+ANqssIiIOF54LAABi9PLo4N1X04PJi8CTuLyxIazYp/Skf6N/o/Wk26ckrMCxmLiQwIjJXNPj3fXoY/QAAJ0LCxcbIqIsdTZsP2JHOU7TUxtY/1p0XHNc/VoYWNBTNU5eR2c/cDaeLBgiCBebCwAAZfT56OrdZNOTyZ3AqLjTsTms8qcOpZqjmqMQpfSnPazXsa24osCYyWnT7d386Gf0AACZCwQXESKVLGU2WT9ORyJOu1MBWOVaWVxYXONa/1e3Ux5OSUdVP2A2kSwOIgEXmAsAAGn0AOnz3XHTo8mwwL246bFSrAyoKaW1o7WjKqUOqFWs7rHBuLXAp8l10/fdAulq9AAAlgv9FggiiCxVNkc/OUcLTqJT6FfKWj5cPVzJWuVXn1MHTjRHQj9RNoQsBCL6FpQLAABs9Abp/d1+07LJwsDRuACyaqwlqEOlz6PQo0WlKKhtrASy1rjHwLfJgtMB3gnpbfQAAJIL9hb+IXwsRjY1PyRH9E2KU85XsFojXCNcrlrMV4dT8E0gRzA/QTZ3LPoh9BaRCwAAb/QN6Qfei9PCydXA5rgXsoKsP6hdpeqj66NfpUGohqwbsuu42cDHyY/TC94Q6XH0AACPC/AW9CFvLDY2Ij8PR95NclO1V5VaCFwIXJRaslduU9pNC0cdPzE2aizwIe0WjQsAAHP0FOkR3pjT0snnwPu4LrKarFioeKUFpAWkeaVbqJ6sMrL/uOzA18mc0xXeFul09AAAjAvpFuohYiwmNhA/+0bHTVlTm1d7Wu5b7Vt5WplXVlPDTfZGCz8hNl0s5iHmFooLAAB29BrpG96l0+LJ+cAQuUSys6xyqJKlIKQgpJSldKi2rEiyFLn+wOfJqdMf3h3pePQAAIgL4hbgIVUsFjb9PuZGsU1BU4JXYVrTW9JbX1p/Vz5TrE3iRvk+EjZQLNwh4BaHCwAAefQh6SXestPyyQzBJLlbssusi6ispTqkO6SupY6ozqxfsim5EMH2ybbTKd4k6Xv0AACFC9wW1iFILAc26z7SRppNKVNoV0ZauFu4W0VaZlcmU5ZNzUbmPgI2QyzSIdkWgwsAAH30KOkv3r/TAcoewTm5cbLjrKWox6VVpFakyKWnqOesdbI9uSPBBsrD0zLeKul+9AAAggvVFswhOyz3Ndk+vUaDTRFTT1csWp5bnVsrWkxXDVN/TbhG1D7yNTcsySHSFoALAACA9C7pOd7L0xHKMMFNuYiy+6y+qOGlcKRwpOKlwKj/rIyyUrk1wRbK0NM83jHpgvQAAH4LzxbDIS4s5zXHPqhGbU35UjVXElqDW4JbEFozV/VSaU2kRsI+4zUqLL8hzBZ9CwAAg/Q16ULe2NMhykPBYrmeshOt16j7pYqki6T9pdqoF62isma5R8Elyt3TRt446YX0AAB7C8gWuSEhLNg1tD6URlZN4VIcV/hZaFtoW/ZZGVfdUlJNj0awPtM1HSy1IcUWeQsAAIf0O+lM3uXTMMpVwXa5tbIsrfGoFaalpKWkF6bzqC+tubJ7uVrBNcrq01DePumI9AAAeAvBFq8hFCzINaI+f0ZATchSA1feWU5bTVvcWQBXxVI8TXtGnT7DNRAsqyG+FnYLAACK9ELpVt7y00DKZ8GLucuyRK0KqS+mwKTApDGmDKlHrc+yj7lswUXK9tNa3kXpjPQAAHQLuxalIQgsuDWQPmtGKU2wUulWxFkzWzNbwlnnVq1SJU1mRos+tDUDLKEhuBZzCwAAjfRJ6WDe/9NQynnBn7nislytI6lKptqk26RLpiapX63msqS5fsFUygPUY95L6Y/0AABxC7QWmyH7K6k1fj5WRhNNmFLQVqlZGVsYW6hZzlaVUg9NUkZ5PqQ19iuYIbEWbwsAAJH0T+lq3gzUX8qLwbS5+LJ0rTypZKb1pPWkZaY/qXet/LK4uZDBZMoQ1G3eUumS9AAAbgutFpIh7iuZNWw+Qkb9TIBSt1aPWf5a/lqOWbRWfVL5TD1GZz6UNeorjiGrFmwLAACU9Fbpc94Y1G/KnsHIuQ+zjK1WqX6mD6UQpX+mWKmPrROzzbmiwXPKHdR33lnplvQAAGoLpxaIIeEriTVZPi1G5kxoUp5WdVnkWuNadFmbVmVS4kwpRlU+hTXdK4QhpBZpCwAAl/Rc6X3eJdR+yrDB3bkls6Stb6mYpimlKqWZpnGpp60ps+G5tMGDyinUgd5f6Zn0AABnC6AWfiHVK3o1Rz4ZRtBMUFKEVltZyVrJWlpZglZNUsxMFUZDPnU10Ct6IZ0WZQsAAJv0Y+mH3jLUjsrCwfG5O7O8rYipsqZEpUSls6aLqb+tP7P2ucfBk8o21IveZumc9AAAZAuaFnQhyCtqNTU+BUa5TDhSa1ZBWa9arlpAWWlWNVK1TABGMD5mNcMrcSGXFmILAACe9Grpkd4/1J3K1MEFulKz1K2hqcymXqVfpc2mpKnXrVazCrrZwaLKQ9SU3mzpoPQAAGALkxZrIbsrWzUjPvBFo0whUlJWJ1mVWpRaJllQVh1Sn0zsRR4+VjW3K2chkBZfCwAAofRw6ZreS9StyubBGrpos+utuqnmpnmleaXnpr2p761ssx6668GyylDUnt5z6aP0AABdC40WYSGuK0s1ET7cRY1MCVI5Vg1Zelp6WgxZN1YFUolM2EUMPkc1qitdIYoWXAsAAKX0d+mk3ljUvMr4wS66frMDrtOpAKeTpZOlAafWqQeugrMzuv3Bwcpc1Kjeeemm9AAAWguGFlchois8Nf89yEV3TPFRIFb0WGBaX1ryWB5W7VFzTMNF+j03NZ0rUyGDFlgLAACo9H3prt5l1MzKCsJCupSzG67sqRmnraWupRun76kerpizR7oPwtHKadSx3oDpqfQAAFYLfxZNIZUrLDXtPbNFYEzZUQdW2lhGWkVa2FgFVtZRXEyvReg9KDWRK0ohfRZVCwAAq/SE6bfecdTbyhzCV7qrszOuBqozp8elyKU1pwiqNq6vs1u6IcLgynbUu96H6a30AABTC3kWRCGIKx012z2fRUpMwVHuVcBYK1orWr5Y61W+UUZMm0XWPRg1hCtAIXYWUgsAAK/0iunB3n7U68ouwmu6wbNLrh+qTafipeKlT6chqk6uxbNvujPC78qC1MXejemw9AAAUAtyFjohfCsNNck9i0U0TKlR1VWmWBFaEVqlWNNVplEwTIZFxD0JNXcrNiFwFk4LAACy9JHpy96L1PrKQMJ/utezYq43qmen/KX8pWinOqpmrtuzhLpFwv/Kj9TO3pTps/QAAE0LbBYwIW8r/jS3PXdFHkySUbxVjFj3WfZZi1i6VY5RGkxyRbI9+TRrKy0haRZLCwAAtfSX6dTel9QKy1LCk7rts3quUKqBpxamF6aCp1Oqfq7xs5i6V8IOy5zU2N6a6bf0AABJC2UWJyFiK+80pT1iRQhMelGjVXNY3VncWXFYoVV3UQRMXkWgPeo0XisjIWMWSAsAALj0nune3qTUGctkwqi6A7SSrmmqmqcwpjGmnKdsqpWuB7SsumnCHsuo1OLeoem69AAARgtfFh0hVivfNJM9TkXyS2JRilVZWMNZwllXWIhVX1HuS0pFjj3bNFErGiFcFkQLAAC89KTp6N6x1CjLdsK8uhm0qq6CqrSnSqZLpranhaqtrh20wLp7wi3LtdTr3qfpvfQAAEMLWBYUIUkr0DSBPTpF3EtLUXFVP1ipWahZPlhvVUdR2Es2RX09yzRFKxAhVhZBCwAAv/Sr6fHevdQ4y4jC0LowtMGum6rOp2SmZabPp56qxa4ztNS6jMI8y8HU9d6u6cD0AAA/C1IWCiE9K8A0bz0mRcVLM1FZVSVYj1mOWSRYVlUwUcJLIkVrPbw0OCsGIU8WPgsAAML0sen73srUR8uawuS6RrTZrrSq56d+pn+m6ae2qtyuSrToup7CTMvO1P/etOnE9AAAPAtLFgAhMCuxNF09EkWvSxtRQFUMWHRZdFkKWD1VGFGrSw5FWT2tNCwr/SBJFjsLAADF9LjpBN/W1FfLq8L4uly08K7NqgGomaaZpgKoz6r0rmC0/bqwwlvL29QI37vpx/QAADkLRRb3ICMrojRMPf5EmUsEUSdV8ldaWVpZ8VckVQBRlUv1REA9lDQVK+kgOhYzCwAAz/TL6SPfAdWOy+/CSLu4tFivP6t8qBqnIKeNqFqrfK/jtHm7IsPAyzDVS9/p6d/0AAAfCxEWqCC6Kh40rzxJRM9KJlA5VPhWV1hRWOdWHlQCUKRKGUR8POwziyqAIPMVDwsAAPL0E+qM34vVNsyzwyW8qbVbsE+slak4qD6opalqrH+w1bVVvObDaMy61bTfMOoD9QAA/ArKFT8gMCp2M+s7bUPeSSRPKlPfVTpXNFfOVQ5TAE+zST1DuDtEMwIqFyCsFesKAAAW9Vrq9t8U1t7MdsQBvZq2XbFera2qValaqb6qea2Bsca2Mb2pxBDNQ9Yd4HfqJ/UAANgKgxXWH6cpzzIoO5JC7UgiThpSx1QdVhhWtlT/Uf5NwkhhQvU6nDJ4Ka4fZRXHCgAAOvWg6l7gntaFzTnF3L2Lt1+yba7Fq3GqdqrVq4iug7K2twy+bMW3zczWhuC+6kr1AAC0CjwVbR8eKScyZTq2Qf1HIU0MUbBTAVX8VJ9T8VD9TNJHhkEzOvUx7yhFHx8VpAoAAF715+rH4CbXLM78xbe+e7hgs3uv3KyMq5Kr7KyWr4Szprjnvi7GXs5V1+/gBetu9QAAkQr2FAUflSiBMaM53EANRyBM/k+ZUuZT4FOIUuNP/EviRqxAcTlPMWco3R7YFIAKAACB9S7rL+Gv19POvsaSv2q5YLSJsPKtp6ytrAOupLCEtJW5wr/wxgXP3ddX4UvrkfUAAG0KrxScHg0o2jDhOAFAHkYfS/FOg1HLUsZSclHWTvxK80XRP684qDDeJ3UekhRdCgAApfV065jhN9h5z4DHbMBZumC1lrEIr8Ktx60Zr7GxhLWEupvAsserz2bYv+GR67X1AABKCmkUNB6FJzQwIDgoPzBFIErkTW1QsVGsUV1QyU38SQVF+D7tNwIwVicNHksUOQoAAMj1uusA4r/YH9BByEXBR7tgtqKyHbDbruGuLrC9soS2crt1wXPIUdDu2Cfi2OvY9QAAJgojFM0d/SaOL183Tj5CRCFJ2ExYT5hQklBIT71M/UgXRB8+LDddL88mpR0FFBYKAADr9QDsZ+JH2cXQAskewjW8X7euszKx9K/6r0OxybOCt2C8TsI0yfbQddmP4h7s/PUAAAMK3RNlHXUm6S6eNnU9VEMiSMxLRE5/T3pPM06xS/5HKUNGPWw2ty5HJj4dvxPzCQAAD/ZG7M/iz9lq0cLJ98IjvV24ubRGsg2xE7FXstS0gbhNvSbD9Mmb0f3Z9uJj7B/2AADgCZcT/hzuJUQu3jWdPGdCJEfBSjBNZ05hTiBNpkoARzxCbjysNRIuwCXWHHoT0AkAADL2jOw241baD9KCys/DD75bucS1WrMlsiqyarPftX65Or7+w7TKQNKE2l3jqexC9gAAvQlRE5YcZyWfLR41xTt6QSZGt0kdTFBNSk0MTJxJA0ZQQZY77DRuLTklbxw0E60JAABV9tLsnePd2rPSQsunxPy+WLrOtmy0PLNCs3206bZ7uia/1sR0y+XSCtvE4+/sZfYAAJoJDBMvHOAk+yxeNO46jkAqRa1ICks5TDNM+kqSSAZFZEC+Oi00ySyyJAgc7xKKCQAAePYX7QTkY9tX0wHMfsXnv1W72Ld/tVO0WLSPtfK3eLsSwK3FM8yJ05HbK+Q07Yj2AAB3CcYSyRtaJFcsnzMXOqM/LUSkR/hJIksdS+hJiUcKRHg/6DluMyYsLCSiG6kSZwkAAJv2XO1r5Onb+9PAzFTG08BRvOG4kLZptW61obb7uHS8/cCExvHMLNQX3JHkee2r9gAAVAmBEmIb1COzK+EyQDm4PjFDm0bnSAxKB0rXSIBGDkOOPhE5rzKCK6YjOxtkEkQJAAC+9qLt0eRv3J/Ufs0rx73BTL3puaK3fraEtrK3BLpwvejBWsewzdDUndz45L/tzvYAADEJPBL8Gk4jECsjMmo4zT02QpNF1kf3SPJIxkd4RRNCoz07OPEx3yogI9UaHxIhCQAA4Pbn7Tfl9dxC1TzOAMiowke+8bqyuJO3mbfCuAu7a77Swi/Ibc5z1SLdXuUD7vD2AAAOCfcRlhrIIm0qZTGVN+M8O0GLRMZG40fdR7ZGcUQYQbk8Zjc0MTwqmyJvGtoR/ggAAAP3K+6d5Xrd5NX6ztbIkcNCv/i7wrmnuK240rkTvGW/u8MFySvPFdao3cTlSO4T9wAA7AiyETAaQyLKKagwwDb6O0FAhEO2Rc9GyUamRWpDHkDQO5E2dzCaKRYiCRqVEdwIAAAm93DuA+YA3ofWt8+ryXvEPMD/vNG6u7nAueG6Gb1fwKXE2cnoz7fWLd4p5o3uNvcAAMkIbhHLGb4hKCnrL+s1ETtHP35Cp0S8RbZFl0RkQiQ/5zq8Nbov9yiRIaQZURG5CAAASPe17mjmhN4p13PQf8pjxTXBBb7gu86607rwux++WMGNxa7KpNBZ17Hej+bR7lj3AACmCCkRZRk5IYYoLi8XNSg6Tj54QZlDqUSjRIlDXkErPv856DT9LlYoDCE/GQwRlwgAAGv3+e7N5gnfy9cw0VPLTMYuwgu/7rzgu+a7/rwlv1HCdcaBy2HR+9c23/TmFu979wAAhAjlEAAZtSDlJ3IuQzRAOVY9c0CLQpdDkUN7QllAMz0XORU0QS60J4gg2hjIEHQIAACN9z3vMueN32zY7NEmzDPHJsMQwPu98rz4vAy+KsBJw13HVcwc0pzYut9Z51rvnfcAAGIIoRCbGDEgRCe3LXAzWThePG4/fkGFQoBCbkFUPzs8LzhCM4YtEycEIHUYhBBSCAAAsPeB75fnEeAN2afS+cwayB7EFMEIvwO+Cb4Zvy7BQcREyCjN2NI92T7gvuee77/3AAA/CF0QNhitH6Mm+yydMnI3ZjtqPnFAdEFvQWFAUD5EO0k3bzLLLHMmgB8QGEAQMAgAANL3xe/855Xgrdli08zNAckVxRjCFcAUvxm/JcAywjjFK8n6zZPT3tnB4CLo4u/h9wAAHQgZENIXKh8CJkEsyzGMNm86Zj1lP2RAXkBVP009TTpiNp0xECzSJf0erBf8Dw0IAAD09wnwYOgY4U7aHdSezufJDMYbwyDBJMApwDHBNcMuxhHKzM5N1H7aReGG6CbwBPgAAPsH1Q9uF6YeYiWGK/kwpjV5OWQ8Wj5UP08/Sj5KPFY5fDXLMFYrMiV6HkgXuQ/rBwAAFvhN8MTom+Hu2tfUb8/NygLHHsQswjPBOcE8wjjEJMf2yp7PB9Ue28jh6uhp8Cb4AADZB5EPChckHsMkzCooMMA0gzhhO089RT5APj89RzthOJc0+i+cKpMk9x3kFnUPyQcAADj4kPAo6R7ijduR1UHQssv4xyDFNsNCwkjCRsM6xRrI28tv0MHVvdtK4k7prfBI+AAAtwdOD6YWoR0jJBMqVy/bM443XzpFPDc9MT01PEY6azeyMykv4inzI3UdgBYyD6cHAABa+NTwjOmg4izcStYR0ZfM7cghxkDEUcNWw1DEO8YPycDMP9F61lzczeKy6fDwavgAAJUHCw9CFh8dhCNZKYcu9zKZNl45OzspPCM8KztEOXc2zjJZLikpVSPyHBwW7g6FBwAAfPgX8fDpI+PL3APX4tF7zeHJIsdKxV7EZMRaxTzHA8qkzQ/SM9f73E/jFeoz8Yv4AABzB8cO3xWcHOUioSi3LRMypTVdODI6GzsWOyI6RDiDNeoxiS1xKLYicBy5FasOZAcAAJ74WvFT6qTjat2817HSX87VyiPIUsZrxXHFYsY8yPfKiM7f0uzXmd3R43nqdvGt+AAAUQeEDnwVGxxHIugn5ywwMbE0XTcpOQ46CToZOUQ3jzQHMbksuCcYIu8bVhVoDkIHAAC/+J3xtuom5AjedNiB00LPycsjyVvHeMZ9xmvHPMnry2vPrtOk2DfeUuTc6rnxz/gAADAHQg4ZFZkbqSEwJxgsTTC+M142ITgCOf04EjhENpwzJDDqKwAneiFtG/MUJg4gBwAA4fjg8Rnrp+Sm3izZT9Qk0LvMIspiyITHicdyyDvK3cxN0H3UW9nV3tPkPuv88fH4AAAOB/8NthQYGwwheSZJK2ovyzJfNRo39zfxNwo3RTWpMkIvHCtJJtwg7BqQFOMN/wYAAAP5IvJ76ynlQ9/j2R7VB9GuzSHLacmPyJTIeck6y9DNL9FL1RPact9U5aHrPvIS+QAA7Qa8DVMUlxpuIMEleyqILtkxYDQTNuw25jYDNkc0tzFgLk4qkiU/IGsaLhSgDd0GAAAk+WXy3uup5eDfmtrs1ejRoM4fzHDKmsmfyYDKOMzBzhHSGdbK2g/g1eUD7IHyNPkAAMsGeg3xExYa0R8LJa0ppy3oMGIzDTXhNdw1/TRJM8Ywfy2AKdskoh/rGcwTXg28BgAARvmn8kDsKuZ94FHbudbJ0pHPHM12y6TKqcqGyzbNs8/y0ubWgNus4FXmZezD8lX5AACqBjgNjxOWGTUfVCTgKMYs9y9lMgc02DTSNPgzTDLVL54ssyglJAYfahlqExwNmgYAAGf56fKi7KrmGeEH3IbXqtOC0BnOe8yty7LLi8wzzqPQ09Oz1zbcSOHW5sfsBfN2+QAAiAb2DC0TFhmYHp4jEyjmKwYvaDECM84zyTPzMk8x5S69K+YnbyNqHusYCBPaDHkGAACI+SvzBO0q57bhvdxT2IrUctEWz4DNtsy7zJDNL8+T0bPUgNjs3OThVecp7UfzmPkAAGcGtAzLEpYY/R3pIkcnBisWLmww/jHGMsAy7jFTMPUt3ioaJ7oizh1rGKYSmAxYBgAAqflt82XtqudR4nLdH9lq1WLSEtCEzr7NxM2UzivQg9KS1UzZod2A4tXniu2J87n5AABGBnIMahIXGGEdNCJ7JiYqJy1wL/owvjG4MeowVy8FLf4pTiYEIjId6xdFElYMNwYAAMv5r/PH7Sno7eIn3uvZSdZR0w3RiM/GzsvOl88m0XLTcdYX2lbeG+NU6Ozty/Pa+QAAJQYwDAkSlxfGHH8hsCVHKTgsdS73L7YwsTDnL1wuFiwfKYMlUCGXHGwX5BEVDBYGAADs+fHzKO6o6Ijj29622ijXP9QI0ovQzc/Tz5rQIdJh1FDX49oK37bj0+hN7gz0+/kAAAQG7wuoERkXKxzKIOUkaShJK3st9C6vL6ov5C5iLSgrQSi4JJwg/BvtFoMR0wv1BQAADfoy9InuJ+ki5JDfgdsG2C3VAtON0dTQ2dCd0RvTT9Uu2K3bvt9R5FLpre5O9Bz6AADjBa0LRxGaFpAbFiAaJIsnXCqBLPItqS6kLuItaCw6KmMn7iPoH2IbbxYiEZIL1AUAAC76dPTp7qXpveRD4Evc5Ngb1vzTj9La0d/Rn9IV1DzWDNl43HLg6+TQ6Q7vj/Q9+gAAwgVsC+YQGxb2GmMfUCOuJm4phyvwLKMtni3hLG4rTSmGJiQjNB/IGvEVwhBRC7MFAABO+rX0Su8k6lfl9+AV3cHZCNf11JHT39Ll0qDTDtUp1+nZQd0l4YXlTupu79D0XvoAAKEFKwuGEJ0VXBqwHoYi0SWCKI4q7yueLJks4Ct2KmAoqSVaIoEeLhpzFWEQDwuSBQAAb/r29Krvourx5arh3t2e2vXX7tWR1OTT6tOh1AfWFtjF2gve2OEf5szqz+8R9X76AACABeoKJhAgFcMZ/R29IfQklSeWKe8qmSuUK98qfSl0J8wkkSHOHZUZ9RQBEM8KcQUAAJD6N/UK8B/riuZc4qfeetvh2ObWkdXp1O7UodX/1gLZotvU3oviuOZK6y/wUvWf+gAAYAWpCsYPohQqGUsd9CAYJKomnijvKZUqkCrfKYYoiSbxI8ggHB38GHcUog+OClEFAACx+nf1avCd6yPnD+Nw31bczNnd15HW7NXy1aDW9tft2X3cnN8941Hnx+uO8JL1wPoAAD8FaApmDyUUkRiZHCwgPSO+Jacn7yiSKY0p4CiOJ50lFSMAIGocYxj6E0IPTQowBQAA0fq49crwGuy858DjOOAx3bfa1NiQ1+/W9daf1+3Y2NpY3WTg7uPp50Ts7vDT9eD6AAAfBSgKBw+oE/gX5xtkH2Ii1CSwJvEnjyiKKOEnmCazJDoiOB+5G8sXfRPiDg0KEAUAAPL6+PUp8ZfsVOhy5ADhDN6i28vZj9jy1/fXntjj2cLbM94s4aDkgejB7E3xE/YB+wAA/gTnCacOKxNgFzYbnR6HIekjuiXyJo0niCfjJqIlySNgIXEeCBszFwETgw7MCe8EAAAS+zn2iPET7ezoI+XH4ebejNzB2o3Z9Nj52JzZ2dqs3A3f8+FR5RnpPu2s8VT2IfsAAN4EpwlIDq8SyBaFGtYdrSAAI8Uk9SWLJoYm5SWsJN8ihiCqHVcamxaEEiQOjAnPBAAAMvt59ufxkO2D6dPljuLA33XdttuK2vXZ+9mZ2s7blt3n37niAeax6brtC/KU9kH7AAC+BGcJ6Q0yEjEW1RkPHdMfFyLQI/gkiiWFJegktyP2Iawf4xynGQMWCBLFDUwJrwQAAFP7ufZG8gzuG+qE5lTjmeBe3qvch9v22vvaltvD3H7ewOCA47HmSOo27mry1PZh+wAAnQQnCYsNtxGaFSUZSRz6Hi4h2yL7I4okhCTsI8MiDSHTHh0c9xhsFYwRZw0MCY4EAABz+/n2pPKH7rLqM+ca5HLhRt+f3YPc99v825Lct91n35nhReRh59/qse7I8hT3gvsAAH0E5wgsDTsRAxV1GIMbIh5GIOch/yKKI4Qj8CLPISUg+x1YG0cY1hQREQgNzQhuBAAAk/s59wPzA+9I6+Pn3+RK4i7gk95/3fbc+9yO3aveTuBx4gvlEOh26y3vJ/NT96L7AABdBKgIzgzAEGwUxhe+GkodXh/0IAQiiiKFIvUh2yA+HyMdkxqYFz8UlhCqDI0ITgQAALP7ePdh837v3+uS6KTlIuMV4Ybfet713frdid6e3zbhSePQ5b/oDOyo74Xzk/fC+wAAPQRoCHAMRRDWExcX+RlyHHceASAJIYshhiH6IOkfVx5LHM4Z6RapExsQTAxNCC4EAADT+7j3v/P573XsQOlp5vrj/OF44HTf9N753oPfkeAc4iDklOZu6aLsI/Dj89L34vsAAB0EKQgSDMoPQBNoFjUZmxuRHQ4fDyCNIIggACD2HnAddBsKGTsWFBOgD+8LDggOBAAA8/v39x30dPAK7e/pLefR5OPiauFu4PLf99994IPhA+P35FjnHOo37Z3wQPQR+AL8AAD9A+kHtQtPD6sSuhVxGMQaqxwdHhUfjx+KHwYfBR6KHJ4aRhiNFX4SJg+RC88H7wMAABP8Nvh69O7woO2d6vHnp+XI41ziaOHv4PTgd+F04ujjzuUc6MrqzO0X8Z70Ufgh/AAA3QOqB1cL1Q4WEg0VrRfuGcUbKx0cHpIejR4NHhMdpRvHGYMX4BTpEasONAuQB88DAAAz/HX41/Ro8TXuSuu06H3mruRN42Hi7OHx4XDiZePO5KPm3+h362HukfH79JD4QfwAAL4Dawf6ClsOgRFfFOoWGBngGjscIx2WHZAdFB0jHMAa8hjAFjIUVBEyDtcKUQevAwAAUvy0+DX14vHJ7vfrd+lS55LlPeRZ4+ni7uJo41XksuV556LpJOz27gvyWPXO+GH8AACeAy0HnQrhDe0QshMoFkMY+xlLGyscmhyUHBwcMxvcGR0Y/RWGE8AQuA16ChIHjwMAAHL88/iR9VvyXu+k7DnqJ+h35i3lUeTk4+njYORF5ZfmTuhk6tHsiu+F8rX1DfmA/AAAfgPuBkAKaA1YEAYTZhVuFxcZWxozG54bmRslG0Ma+BhIFzsV2RIsED8NHQrUBnADAACR/DH57vXV8vLvUO376vzoWucd5kjl3+Tk5FflNeZ65yLpJut97R7w/vIR9kz5oPwAAF8DrwbkCe8MxQ9aEqQUmhY0GGwZPRqjGp4aLhpUGRQYdBZ5FC0SmA/GDMAJlQZQAwAAsfxw+Uv2TvOF8PztvevQ6T7oDOc/5trl3+VO5iPnXej26efrKe6x8HfzbvaK+b/8AAA/A3EGhwl2DDEPrhHjE8YVURd9GEYZqRmkGTcZZRgxF6AVuBOBEQUPTQxkCVcGMQMAAND8rvmn9sbzGfGo7n7spOog6frnNefU5tnmROcS6EDpyuqo7NTuRfHv88r2yPnf/AAAIAMzBisJ/QueDgMRIhPzFG4WjxdQGK8YqhhCGHcXTxbNFPcS1hByDtQLCAkZBhIDAADw/Oz5A/c/9KvxU+8/7XfrA+ro6CrozufT5zno/+gi6p3rae1/79jxaPQm9wf6/vwAAAED9QXPCIULCw5YEGESIBSNFaIWWxe2F7EXTBeKFm0V+hM3EisQ3w1cC6wI2gXyAgAAD/0q+l/3t/Q+8v7v/+1J7OTq1ekf6cfozOgu6e3pBOtv7CnuKvBq8uD0gvdF+h39AADhArcFcwgNC3kNrQ+hEU0TqxS1FWYWvRa4FlgWnRWMFCgTdxGBD00N5ApRCJ0F0wIAAC79aPq69y/10PKo8L/uHO3G68LqFOq/6cTpI+rZ6uXrQe3p7tTw/PJY9d33gvo8/QAAwgJ5BRgIlQrmDAMP4hB8EsoTyBRyFcUVwBVjFbEUqxNWErgQ1w67DGwK9QdfBbQCAABN/ab6Fvin9WLzUvF+7+3tpuyu6wjrt+q86hbrxevG7BPuqO9+8Y7zz/U5+MD6XP0AAKMCOwW8Bx4KVQxZDiIQqhHqEtwTfhTOFMkUcBTFE8oShBH4Dy0OKQz1CZoHIQWVAgAAbP3k+nH4Hvb08/zxPfC/7obtmez7667rs+sK7LHspu3k7mfwKPIg9Ef2lPj++nv9AACEAv0EYQemCcMLsA1kD9kQChLxEosT1xPSE30T2RLqEbMQOg+EDZgLfgk/B+QEdgIAAIv9IfvM+JX2hfSl8vvwj+9m7oXt7uyl7Krs/eyc7YXute8l8dHysfS+9u/4O/ua/QAAZQLABAYHLwkyCwYNpQ4JECoRBhKZEuAS2xKKEu8RCxHjD3wO2wwGCwcJ5AamBFcCAACq/V/7J/kM9xf1TvO68WDwRe9v7uDtm+2g7e/th+5l74Xw4/F680L1NfdJ+Xj7uP0AAEYCgwSsBrkIoQpeDOgNOA9LEBwRpxHqEeURmBEEESwQEw++DTIMdgqQCIkGaQQ4AgAAyf2c+4L5g/en9fbzd/Iv8STwWe/S7pHule7h7nHvQ/BV8aHyIvTT9av3pPm2+9f9AAAnAkYEUQZCCBEKtQsqDWkObQ8yELUQ9RDwEKcQGxBOD0QOAQ2KC+UJGggvBiwEGQIAAOj92fvc+fn3OPaf9DTz//EC8UPww++G74rv0u9a8CHxJPJe88r0Y/Yh+P758/v2/QAACQIIBPcFzAeACQ0LbQyaDY8OSQ/EDwAQ+w+2DzEPcA51DUQM4gpVCaQH1QXvA/sBAAAH/hb8Nvpv+Mj2RvXx887y4PEs8bTwevB/8MLwQ/H/8fPyG/Ry9fP2l/hZ+jD8Ff4AAOoBzAOdBVYH8AhmCrELywyxDWAO1A4MDwcPxg5JDpINpgyHCzoKxQguB3oFsgPcAQAAJf5T/JD65fhX9+71rvSc873yFPKk8W7xc/Gy8Szy3PLB89f0GfaC9w35svps/DP+AADLAY8DQwXgBmEIvwn0Cv0L1Ax4DeQNGA4TDtYNYA22DNgLywqTCTYIuAYhBXUDvQEAAET+j/zq+lr55/eV9mr1avSa8/zylPJh8mbyovIT87nzj/ST9cD2EviC+Qz7qfxS/gAArQFSA+kEawbSBxgJOQovC/gLkAz1DCUNIA3mDHkM2QsKCw8K7QinB0MGxwQ5A58BAABi/sz8RPvQ+Xb4O/cl9jf1dvTk84PzVPNZ85Hz+/OV9Fz1TvZn96H4+Plm++X8cP4AAI4BFgOQBPYFQwdyCH0JYgocC6kLBgwyDC4M+AuSC/0KPQpUCUYIGAfOBW4E/AKAAQAAgf4I/Z37RfoF+eL34PYF9lL1y/Rx9Ef0S/R/9OL0cPUp9gn3Dfgv+Wz6v/si/Y/+AABwAdkCNgSBBbQGywfCCJUJQQrCChgLQAs8CwoLqwoiCnAJmQigB4kGWQUUBMACYgEAAJ/+Rf32+7r6k/mH+Jv30fYt9rH1X/U49T31bfXI9Uz29vbE97P4vvnh+hj8Xv2t/gAAUgGdAt0DDAUmBiYHCAjJCGYJ3AkqCk8KSgocCsUJRwmkCN8H+wb7BeUEuwOEAkQBAAC+/oH9T/wu+yH6LflV+J33CPeX9k32KvYu9lv2rvYm98L3fvhY+Uz6Vvtx/Jr9y/4AADMBYQKEA5gEmAWABk4H/QeLCPYIPQleCVkJLwnfCG0I2AclB1YGbQVwBGIDSAIlAQAA3P69/aj8ovuv+tL5D/lp+OL3fPc59xr3H/dI95P3APiN+Dj5/fnZ+sr7yvzW/er+AAAVASUCKwMkBAoF3AWUBjIHsQcRCFAIbghpCEII+geTBw0HawaxBeAE/AMKAwwCBwEAAPr++f0B/Rb8PPt3+sj5NPm8+GH4JvgK+A/4NPh4+Nr4Wfnx+aL6Z/s+/CL9Ev4I/wAA9wDpAdMCsAN9BDcF2wVnBtgGLQdkB34HeQdWBxYHuQZCBrIFDAVTBIkDsQLQAekAAAAY/zT+Wf2K/Mr7G/uB+v/5lflF+RL5+vj/+CD5XPmz+SP6qvpG+/T7sfx7/U3+Jv8AANkArgF7AjwD8AOTBCIFnAX/BUkGeQaOBooGawYyBuAFeAX6BGgExgMVA1kClQHLAAAANv9w/rH9/fxW/L/7OvvJ+m76Kfr9+en57vkL+kD6jPrt+mP76vuB/CT90/2J/kT/AAC7AHIBIwLJAmMD7wNqBNIEJgVlBY4FoAWbBYAFTgUIBa4EQQTEAzkDogIBAlkBrQAAAFT/q/4J/nD94/xj/PL7k/tG+w376PrY+tz69voj+2T7t/sb/I38Df2Y/Sv+xP5i/wAAnQA3AcsBVgLXAksDsgMIBE4EggSjBLEErQSVBGsEMATkA4kDIQOtAi8CqQEeAY8AAABy/+f+Yf7j/W/9Bv2q/Fz8Hvzv+9L7xfvK++D7Bvw8/ID80vww/Zn9Cv6D/gD/gP8AAH8A/ABzAeMBSwKoAvoCPwN3A58DuQPEA78DqwOJA1gDGwPSAn4CIQK8AVIB4wBxAAAAkP8i/7n+Vv77/an9Yf0l/fX80vy8/LP8uPzK/Oj8E/1J/Yr90/0l/n3+2v47/53/AABhAMAAGwFxAb8BBgJDAncCoAK9AtAC1wLSAsICpwKBAlMCGwLbAZUBSgH6AKgAVAAAAK7/Xf8Q/8j+hv5M/hj+7v3M/bP9pf2g/aX9s/3K/er9Ev5A/nb+sP7v/jH/dv+7/wAARACFAMQA/wA0AWMBjAGuAckB3AHnAeoB5QHZAcUBqwGKAWQBOQEKAdgAowBtADYAAADL/5j/Z/87/xL/7v7P/rb+ov6V/o3+jP6R/pv+q/7A/tn+9/4Y/zv/Yf+J/7H/2f8AACYASwBtAI0AqQDBANYA5wDzAPsA/gD+APkA8QDkANUAwwCuAJcAfwBmAEwAMgAYAAAA6f/T/77/rP+d/4//hf99/3j/df91/3j/ff+D/4z/lv+h/63/uf/G/9P/4P/r//b/AAAIABAAFgAbAB4AIAAgAB8AHQAaABcAEgAOAAkABAAAAAAAAAAAAAAAAAAAAAAAAAAAAAAAAAAAAAAAAAAAAAAAAAAAAAAAAAAAAAAAAAAAAAAAAAAAAAAAAAAAAAAAAAAAAAAAAAAAAAAAAAAAAAAAAAAAAAAAAAAAAAAAAAAAAAAAAAAAAAAAAAAAAAAAAAAAAAAAAAAAAAAAAAAAAAAAAAAAAAAAAAAAAAAAAAAAAAAAAAAAAAAAAAAAAAAAAAAAAAAAAAAAAAAAAAAAAAAAAAAAAAAAAAAAAAAAAAAAAAAAAAAAAAAAAAAAAAAAAAAAAAAAAAAAAAAAAAAAAAAAAAAAAAAAAAAAAAAAAAAAAAAAAAAAAAAAAAAAAAAAAAAAAAAAAAAAAAAAAAAAAAAAAAAAAAAAAAAAAAAAAAAAAAAAAAAAAAAAAAAAAAAAAAAAAAAAAAAAAAAAAAAAAAAAAAAAAAAAAAAAAAAAAAAAAAAAAAAAAAAAAAAAAAAAAAAAAAAAAAAAAAAAAAAAAAAAAAAAAAAAAAAAAAAAAAAAAAAAAAAAAAAAAAAAAAAAAAAAAAAAAAAAAAAAAAAAAAAAAAAAAAAAAAAAAAAAAAAAAAAAAAAAAAAAAAAAAAAAAAAAAAAAAAAAAAAAAAAAAAAAAAAAAAAAAAAAAAAAAAAAAAAAAAAAAAAAAAAAAAAAAAAAAAAAAAAAAAAAAAAAAAAAAAAAAAAAAAAAAAAAAAAAAAAAAAAAAAAAAAAAAAAAAAAAAAAAAAAAAAAAAAAAAAAAAAAAAAAAAAAAAAAAAAAAAAAAAAAAAAAAAAAAAAAAAAAAAAAAAAAAAAAAAAAAAAAAAAAAAAAAAAAAAAAAAAAAAAAAAAAAAAAAAAAAAAAAAAAAAAAAAAAAAAAAAAAAAAAAAAAAAAAAAAAAAAAAAAAAAAAAAAAAAAAAAAAAAAAAAAAAAAAAAAAAAAAAAAAAAAAAAAAAAAAAAAAAAAAAAAAAAAAAAAAAAAAAAAAAAAAAAAAAAAAAAAAAAAAAAAAAAAAAAAAAAAAAAAAAAAAAAAAAAAAAAAAAAAAAAAAAAAAAAAAAAAAAAAAAAAAAAAAAAAAAAAAAAAAAAAAAAAAAAAAAAAAAAAAAAAAAAAAAAAAAAAAAAAAAAAAAAAAAAAAAAAAAAAAAAAAAAAAAAAAAAAAAAAAAAAAAAAAAAAAAAAAAAAAAAAAAAAAAAAAAAAAAAAAAAAAAAAAAAAAAAAAAAAAAAAAAAAAAAAAAAAAAAAAAAAAAAAAAAAAAAAAAAAAAAAAAAAAAAAAAAAAAAAAAAAAAAAAAAAAAAAAAAAAAAAAAAAAAAAAAAAAAAAAAAAAAAAAAAAAAAAAAAAAAAAAAAAAAAAAAAAAAAAAAAAAAAAAAAAAAAAAAAAAAAAAAAAAAAAAAAAAAAAAAAAAAAAAAAAAAAAAAAAAAAAAAAAAAAAAAAAAAAAAAAAAAAAAAAAAAAAAAAAAAAAAAAAAAAAAAAAAAAAAAAAAAAAAAAAAAAAAAAAAAAAAAAAAAAAAAAAAAAAAAAAAAAAAAAAAAAAAAAAAAAAAAAAAAAAAAAAAAAAAAAAAAAAAAAAAAAAAAAAAAAAAAAAAAAAAAAAAAAAAAAAAAAAAAAAAAAAAAAAAAAAAAAAAAAAAAAAAAAAAAAAAAAAAAAAAAAAAAAAAAAAAAAAAAAAAAAAAAAAAAAAAAAAAAAAAAAAAAAAAAAAAAAAAAAAAAAAAAAAAAAAAAAAAAAAAAAAAAAAAAAAAAAAAAAAAAAAAAAAAAAAAAAAAAAAAAAAAAAAAAAAAAAAAAAAAAAAAAAAAAAAAAAAAAAAAAAAAAAAAAAAAAAAAAAAAAAAAAAAAAAAAAAAAAAAAAAAAAAAAAAAAAAAAAAAAAAAAAAAAAAAAAAAAAAAAAAAAAAAAAAAAAAAAAAAAAAAAAAAAAAAAAAAAAAAAAAAAAAAAAAAAAAAAAAAAAAAAAAAAAAAAAAAAAAAAAAAAAAAAAAAAAAAAAAAAAAAAAAAAAAAAAAAAAAAAAAAAAAAAAAAAAAAAAAAAAAAAAAAAAAAAAAAAAAAAAAAAAAAAAAAAAAAAAAAAAAAAAAAAAAAAAAAAAAAAAAAAAAAAAAAAAAAAAAAAAAAAAAAAAAAAAAAAAAAAAAAAAAAAAAAAAAAAAAAAAAAAAAAAAAAAAAAAAAAAAAAAAAAAAAAAAAAAAAAAAAAAAAAAAAAAAAAAAAAAAAAAAAAAAAAAAAAAAAAAAAAAAAAAAAAAAAAAAAAAAAAAAAAAAAAAAAAAAAAAAAAAAAAAAAAAAAAAAAAAAAAAAAAAAAAAAAAAAAAAAAAAAAAAAAAAAAAAAAAAAAAAAAAAAAAAAAAAAAAAAAAAAAAAAAAAAAAAAAAAAAAAAAAAAAAAAAAAAAAAAAAAAAAAAAAAAAAAAAAAAAAAAAAAAAAAAAAAAAAAAAAAAAAAAAAAAAAAAAAAAAAAAAAAAAAAAAAAAAAAAAAAAAAAAAAAAAAAAAAAAAAAAAAAAAAAAAAAAAAAAAAAAAAAAAAAAAAAAAAAAAAAAAAAAAAAAAAAAAAAAAAAAAAAAAAAAAAAAAAAAAAAAAAAAAAAAAAAAAAAAAAAAAAAAAAAAAAAAAAAAAAAAAAAAAAAAAAAAAAAAAAAAAAAAAAAAAAAAAAAAAAAAAAAAAAAAAAAAAAAAAAAAAAAAAAAAAAAAAAAAAAAAAAAAAAAAAAAAAAAAAAAAAAAAAAAAAAAAAAAAAAAAAAAAAAAAAAAAAAAAAAAAAAAAAAAAAAAAAAAAAAAAAAAAAAAAAAAAAAAAAAAAAAAAAAAAAAAAAAAAAAAAAAAAAAAAAAAAAAAAAAAAAAAAAAAAAAAAAAAAAAAAAAAAAAAAAAAAAAAAAAAAAAAAAAAAAAAAAAAAAAAAAAAAAAAAAAAAAAAAAAAAAAAAAAAAAAAAAAAAAAAAAAAAAAAAAAAAAAAAAAAAAAAAAAAAAAAAAAAAAAAAAAAAAAAAAAAAAAAAAAAAAAAAAAAAAAAAAAAAAAAAAAAAAAAAAAAAAAAAAAAAAAAAAAAAAAAAAAAAAAAAAAAAAAAAAAAAAAAAAAAAAAAAAAAAAAAAAAAAAAAAAAAAAAAAAAAAAAAAAAAAAAAAAAAAAAAAAAAAAAAAAAAAAAAAAAAAAAAAAAAAAAAAAAAAAAAAAAAAAAAAAAAAAAAAAAAAAAAAAAAAAAAAAAAAAAAAAAAAAAAAAAAAAAAAAAAAAAAAAAAAAAAAAAAAAAAAAAAAAAAAAAAAAAAAAAAAAAAAAAAAAAAAAAAAAAAAAAAAAAAAAAAAAAAAAAAAAAAAAAAAAAAAAAAAAAAAAAAAAAAAAAAAAAAAAAAAAAAAAAAAAAAAAAAAAAAAAAAAAAAAAAAAAAAAAAAAAAAAAAAAAAAAAAAAAAAAAAAAAAAAAAAAAAAAAAAAAAAAAAAAAAAAAAAAAAAAAAAAAAAAAAAAAAAAAAAAAAAAAAAAAAAAAAAAAAAAAAAAAAAAAAAAAAAAAAAAAAAAAAAAAAAAAAAAAAAAAAAAAAAAAAAAAAAAAAAAAAAAAAAAAAAAAAAAAAAAAAAAAAAAAAAAAAAAAAAAAAAAAAAAAAAAAAAAAAAAAAAAAAAAAAAAAAAAAAAAAAAAAAAAAAAAAAAAAAAAAAAAAAAAAAAAAAAAAAAAAAAAAAAAAAAAAAAAAAAAAAAAAAAAAAAAAAAAAAAAAAAAAAAAAAAAAAAAAAAAAAAAAAAAAAAAAAAAAAAAAAAAAAAAAAAAAAAAAAAAAAAAAAAAAAAAAAAAAAAAAAAAAAAAAAAAAAAAAAAAAAAAAAAAAAAAAAAAAAAAAAAAAAAAAAAAAAAAAAAAAAAAAAAAAAAAAAAAAAAAAAAAAAAAAAAAAAAAAAAAAAAAAAAAAAAAAAAAAAAAAAAAAAAAAAAAAAAAAAAAAAAAAAAAAAAAAAAAAAAAAAAAAAAAAAAAAAAAAAAAAAAAAAAAAAAAAAAAAAAAAAAAAAAAAAAAAAAAAAAAAAAAAAAAAAAAAAAAAAAAAAAAAAAAAAAAAAAAAAAAAAAAAAAAAAAAAAAAAAAAAAAAAAAAAAAAAAAAAAAAAAAAAAAAAAAAAAAAAAAAAAAAAAAAAAAAAAAAAAAAAAAAAAAAAAAAAAAAAAAAAAAAAAAAAAAAAAAAAAAAAAAAAAAAAAAAAAAAAAAAAAAAAAAAAAAAAAAAAAAAAAAAAAAAAAAAAAAAAAAAAAAAAAAAAAAAAAAAAAAAAAAAAAAAAAAAAAAAAAAAAAAAAAAAAAAAAAAAAAAAAAAAAAAAAAAAAAAAAAAAAAAAAAAAAAAAAAAAAAAAAAAAAAAAAAAAAAAAAAAAAAAAAAAAAAAAAAAAAAAAAAAAAAAAAAAAAAAAAAAAAAAAAAAAAAAAAAAAAAAAAAAAAAAAAAAAAAAAAAAAAAAAAAAAAAAAAAAAAAAAAAAAAAAAAAAAAAAAAAAAAAAAAAAAAAAAAAAAAAAAAAAAAAAAAAAAAAAAAAAAAAAAAAAAAAAAAAAAAAAAAAAAAAAAAAAAAAAAAAAAAAAAAAAAAAAAAAAAAAAAAAAAAAAAAAAAAAAAAAAAAAAAAAAAAAAAAAAAAAAAAAAAAAAAAAAAAAAAAAAAAAAAAAAAAAAAAAAAAAAAAAAAAAAAAAAAAAAAAAAAAAAAAAAAAAAAAAAAAAAAAAAAAAAAAAAAAAAAAAAAAAAAAAAAAAAAAAAAAAAAAAAAAAAAAAAAAAAAAAAAAAAAAAAAAAAAAAAAAAAAAAAAAAAAAAAAAAAAAAAAAAAAAAAAAAAAAAAAAAAAAAAAAAAAAAAAAAAAAAAAAAAAAAAAAAAAAAAAAAAAAAAAAAAAAAAAAAAAAAAAAAAAAAAAAAAAAAAAAAAAAAAAAAAAAAAAAAAAAAAAAAAAAAAAAAAAAAAAAAAAAAAAAAAAAAAAAAAAAAAAAAAAAAAAAAAAAAAAAAAAAAAAAAAAAAAAAAAAAAAAAAAAAAAAAAAAAAAAAAAAAAAAAAAAAAAAAAAAAAAAAAAAAAAAAAAAAAAAAAAAAAAAAAAAAAAAAAAAAAAAAAAAAAAAAAAAAAAAAAAAAAAAAAAAAAAAAAAAAAAAAAAAAAAAAAAAAAAAAAAAAAAAAAAAAAAAAAAAAAAAAAAAAAAAAAAAAAAAAAAAAAAAAAAAAAAAAAAAAAAAAAAAAAAAAAAAAAAAAAAAAAAAAAAAAAAAAAAAAAAAAAAAAAAAAAAAAAAAAAAAAAAAAAAAAAAAAAAAAAAAAAAAAAAAAAAAAAAAAAAAAAAAAAAAAAAAAAAAAAAAAAAAAAAAAAAAAAAAAAAAAAAAAAAAAAAAAAAAAAAAAAAAAAAAAAAAAAAAAAAAAAAAAAAAAAAAAAAAAAAAAAAAAAAAAAAAAAAAAAAAAAAAAAAAAAAAAAAAAAAAAAAAAAAAAAAAAAAAAAAAAAAAAAAAAAAAAAAAAAAAAAAAAAAAAAAAAAAAAAAAAAAAAAAAAAAAAAAAAAAAAAAAAAAAAAAAAAAAAAAAAAAAAAAAAAAAAAAAAAAAAAAAAAAAAAAAAAAAAAAAAAAAAAAAAAAAAAAAAAAAAAAAAAAAAAAAAAAAAAAAAAAAAAAAAAAAAAAAAAAAAAAAAAAAAAAAAAAAAAAAAAAAAAAAAAAAAAAAAAAAAAAAAAAAAAAAAAAAAAAAAAAAAAAAAAAAAAAAAAAAAAAAAAAAAAAAAAAAAAAAAAAAAAAAAAAAAAAAAAAAAAAAAAAAAAAAAAAAAAAAAAAAAAAAAAAAAAAAAAAAAAAAAAAAAAAAAAAAAAAAAAAAAAAAAAAAAAAAAAAAAAAAAAAAAAAAAAAAAAAAAAAAAAAAAAAAAAAAAAAAAAAAAAAAAAAAAAAAAAAAAAAAAAAAAAAAAAAAAAAAAAAAAAAAAAAAAAAAAAAAAAAAAAAAAAAAAAAAAAAAAAAAAAAAAAAAAAAAAAAAAAAAAAAAAAAAAAAAAAAAAAAAAAAAAAAAAAAAAAAAAAAAAAAAAAAAAAAAAAAAAAAAAAAAAAAAAAAAAAAAAAAAAAAAAAAAAAAAAAAAAAAAAAAAAAAAAAAAAAAAAAAAAAAAAAAAAAAAAAAAAAAAAAAAAAAAAAAAAAAAAAAAAAAAAAAAAAAAAAAAAAAAAAAAAAAAAAAAAAAAAAAAAAAAAAAAAAAAAAAAAAAAAAAAAAAAAAAAAAAAAAAAAAAAAAAAAAAAAAAAAAAAAAAAAAAAAAAAAAAAAAAAAAAAAAAAAAAAAAAAAAAAAAAAAAAAAAAAAAAAAAAAAAAAAAAAAAAAAAAAAAAAAAAAAAAAAAAAAAAAAAAAAAAAAAAAAAAAAAAAAAAAAAAAAAAAAAAAAAAAAAAAAAAAAAAAAAAAAAAAAAAAAAAAAAAAAAAAAAAAAAAAAAAAAAAAAAAAAAAAAAAAAAAAAAAAAAAAAAAAAAAAAAAAAAAAAAAAAAAAAAAAAAAAAAAAAAAAAAAAAAAAAAAAAAAAAAAAAAAAAAAAAAAAAAAAAAAAAAAAAAAAAAAAAAAAAAAAAAAAAAAAAAAAAAAAAAAAAAAAAAAAAAAAAAAAAAAAAAAAAAAAAAAAAAAAAAAAAAAAAAAAAAAAAAAAAAAAAAAAAAAAAAAAAAAAAAAAAAAAAAAAAAAAAAAAAAAAAAAAAAAAAAAAAAAAAAAAAAAAAAAAAAAAAAAAAAAAAAAAAAAAAAAAAAAAAAAAAAAAAAAAAAAAAAAAAAAAAAAAAAAAAAAAAAAAAAAAAAAAAAAAAAAAAAAAAAAAAAAAAAAAAAAAAAAAAAAAAAAAAAAAAAAAAAAAAAAAAAAAAAAAAAAAAAAAAAAAAAAAAAAAAAAAAAAAAAAAAAAAAAAAAAAAAAAAAAAAAAAAAAAAAAAAAAAAAAAAAAAAAAAAAAAAAAAAAAAAAAAAAAAAAAAAAAAAAAAAAAAAAAAAAAAAAAAAAAAAAAAAAAAAAAAAAAAAAAAAAAAAAAAAAAAAAAAAAAAAAAAAAAAAAAAAAAAAAAAAAAAAAAAAAAAAAAAAAAAAAAAAAAAAAAAAAAAAAAAAAAAAAAAAAAAAAAAAAAAAAAAAAAAAAAAAAAAAAAAAAAAAAAAAAAAAAAAAAAAAAAAAAAAAAAAAAAAAAAAAAAAAAAAAAAAAAAAAAAAAAAAAAAAAAAAAAAAAAAAAAAAAAAAAAAAAAAAAAAAAAAAAAAAAAAAAAAAAAAAAAAAAAAAAAAAAAAAAAAAAAAAAAAAAAAAAAAAAAAAAAAAAAAAAAAAAAAAAAAAAAAAAAAAAAAAAAAAAAAAAAAAAAAAAAAAAAAAAAAAAAAAAAAAAAAAAAAAAAAAAAAAAAAAAAAAAAAAAAAAAAAAAAAAAAAAAAAAAAAAAAAAAAAAAAAAAAAAAAAAAAAAAAAAAAAAAAAAAAAAAAAAAAAAAAAAAAAAAAAAAAAAAAAAAAAAAAAAAAAAAAAAAAAAAAAAAAAAAAAAAAAAAAAAAAAAAAAAAAAAAAAAAAAAAAAAAAAAAAAAAAAAAAAAAAAAAAAAAAAAAAAAAAAAAAAAAAAAAAAAAAAAAAAAAAAAAAAAAAAAAAAAAAAAAAAAAAAAAAAAAAAAAAAAAAAAAAAAAAAAAAAAAAAAAAAAAAAAAAAAAAAAAAAAAAAAAAAAAAAAAAAAAAAAAAAAAAAAAAAAAAAAAAAAAAAAAAAAAAAAAAAAAAAAAAAAAAAAAAAAAAAAAAAAAAAAAAAAAAAAAAAAAAAAAAAAAAAAAAAAAAAAAAAAAAAAAAAAAAAAAAAAAAAAAAAAAAAAAAAAAAAAAAAAAAAAAAAAAAAAAAAAAAAAAAAAAAAAAAAAAAAAAAAAAAAAAAAAAAAAAAAAAAAAAAAAAAAAAAAAAAAAAAAAAAAAAAAAAAAAAAAAAAAAAAAAAAAAAAAAAAAAAAAAAAAAAAAAAAAAAAAAAAAAAAAAAAAAAAAAAAAAAAAAAAAAAAAAAAAAAAAAAAAAAAAAAAAAAAAAAAAAAAAAAAAAAAAAAAAAAAAAAAAAAAAAAAAAAAAAAAAAAAAAAAAAAAAAAAAAAAAAAAAAAAAAAAAAAAAAAAAAAAAAAAAAAAAAAAAAAAAAAAAAAAAAAAAAAAAAAAAAAAAAAAAAAAAAAAAAAAAAAAAAAAAAAAAAAAAAAAAAAAAAAAAAAAAAAAAAAAAAAAAAAAAAAAAAAAAAAAAAAAAAAAAAAAAAAAAAAAAAAAAAAAAAAAAAAAAAAAAAAAAAAAAAAAAAAAAAAAAAAAAAAAAAAAAAAAAAAAAAAAAAAAAAAAAAAAAAAAAAAAAAAAAAAAAAAAAAAAAAAAAAAAAAAAAAAAAAAAAAAAAAAAAAAAAAAAAAAAAAAAAAAAAAAAAAAAAAAAAAAAAAAAAAAAAAAAAAAAAAAAAAAAAAAAAAAAAAAAAAAAAAAAAAAAAAAAAAAAAAAAAAAAAAAAAAAAAAAAAAAAAAAAAAAAAAAAAAAAAAAAAAAAAAAAAAAAAAAAAAAAAAAAAAAAAAAAAAAAAAAAAAAAAAAAAAAAAAAAAAAAAAAAAAAAAAAAAAAAAAAAAAAAAAAAAAAAAAAAAAAAAAAAAAAAAAAAAAAAAAAAAAAAAAAAAAAAAAAAAAAAAAAAAAAAAAAAAAAAAAAAAAAAAAAAAAAAAAAAAAAAAAAAAAAAAAAAAAAAAAAAAAAAAAAAAAAAAAAAAAAAAAAAAAAAAAAAAAAAAAAAAAAAAAAAAAAAAAAAAAAAAAAAAAAAAAAAAAAAAAAAAAAAAAAAAAAAAAAAAAAAAAAAAAAAAAAAAAAAAAAAAAAAAAAAAAAAAAAAAAAAAAAAAAAAAAAAAAAAAAAAAAAAAAAAAAAAAAAAAAAAAAAAAAAAAAAAAAAAAAAAAAAAAAAAAAAAAAAAAAAAAAAAAAAAAAAAAAAAAAAAAAAAAAAAAAAAAAAAAAAAAAAAAAAAAAAAAAAAAAAAAAAAAAAAAAAAAAAAAAAAAAAAAAAAAAAAAAAAAAAAAAAAAAAAAAAAAAAAAAAAAAAAAAAAAAAAAAAAAAAAAAAAAAAAAAAAAAAAAAAAAAAAAAAAAAAAAAAAAAAAAAAAAAAAAAAAAAAAAAAAAAAAAAAAAAAAAAAAAAAAAAAAAAAAAAAAAAAAAAAAAAAAAAAAAAAAAAAAAAAAAAAAAAAAAAAAAAAAAAAAAAAAAAAAAAAAAAAAAAAAAAAAAAAAAAAAAAAAAAAAAAAAAAAAAAAAAAAAAAAAAAAAAAAAAAAAAAAAAAAAAAAAAAAAAAAAAAAAAAAAAAAAAAAAAAAAAAAAAAAAAAAAAAAAAAAAAAAAAAAAAAAAAAAAAAAAAAAAAAAAAAAAAAAAAAAAAAAAAAAAAAAAAAAAAAAAAAAAAAAAAAAAAAAAAAAAAAAAAAAAAAAAAAAAAAAAAAAAAAAAAAAAAAAAAAAAAAAAAAAAAAAAAAAAAAAAAAAAAAAAAAAAAAAAAAAAAAAAAAAAAAAAAAAAAAAAAAAAAAAAAAAAAAAAAAAAAAAAAAAAAAAAAAAAAAAAAAAAAAAAAAAAAAAAAAAAAAAAAAAAAAAAAAAAAAAAAAAAAAAAAAAAAAAAAAAAAAAAAAAAAAAAAAAAAAAAAAAAAAAAAAAAAAAAAAAAAAAAAAAAAAAAAAAAAAAAAAAAAAAAAAAAAAAAAAAAAAAAAAAAAAAAAAAAAAAAAAAAAAAAAAAAAAAAAAAAAAAAAAAAAAAAAAAAAAAAAAAAAAAAAAAAAAAAAAAAAAAAAAAAAAAAAAAAAAAAAAAAAAAAAAAAAAAAAAAAAAAAAAAAAAAAAAAAAAAAAAAAAAAAAAAAAAAAAAAAAAAAAAAAAAAAAAAAAAAAAAAAAAAAAAAAAAAAAAAAAAAAAAAAAAAAAAAAAAAAAAAAAAAAAAAAAAAAAAAAAAAAAAAAAAAAAAAAAAAAAAAAAAAAAAAAAAAAAAAAAAAAAAAAAAAAAAAAAAAAAAAAAAAAAAAAAAAAAAAAAAAAAAAAAAAAAAAAAAAAAAAAAAAAAAAAAAAAAAAAAAAAAAAAAAAAAAAAAAAAAAAAAAAAAAAAAAAAAAAAAAAAAAAAAAAAAAAAAAAAAAAAAAAAAAAAAAAAAAAAAAAAAAAAAAAAAAAAAAAAAAAAAAAAAAAAAAAAAAAAAAAAAAAAAAAAAAAAAAAAAAAAAAAAAAAAAAAAAAAAAAAAAAAAAAAAAAAAAAAAAAAAAAAAAAAAAAAAAAAAAAAAAAAAAAAAAAAAAAAAAAAAAAAAAAAAAAAAAAAAAAAAAAAAAAAAAAAAAAAAAAAAAAAAAAAAAAAAAAAAAAAAAAAAAAAAAAAAAAAAAAAAAAAAAAAAAAAAAAAAAAAAAAAAAAAAAAAAAAAAAAAAAAAAAAAAAAAAAAAAAAAAAAAAAAAAAAAAAAAAAAAAAAAAAAAAAAAAAAAAAAAAAAAAAAAAAAAAAAAAAAAAAAAAAAAAAAAAAAAAAAAAAAAAAAAAAAAAAAAAAAAAAAAAAAAAAAAAAAAAAAAAAAAAAAAAAAAAAAAAAAAAAAAAAAAAAAAAAAAAAAAAAAAAAAAAAAAAAAAAAAAAAAAAAAAAAAAAAAAAAAAAAAAAAAAAAAAAAAAAAAAAAAAAAAAAAAAAAAAAAAAAAAAAAAAAAAAAAAAAAAAAAAAAAAAAAAAAAAAAAAAAAAAAAAAAAAAAAAAAAAAAAAAAAAAAAAAAAAAAAAAAAAAAAAAAAAAAAAAAAAAAAAAAAAAAAAAAAAAAAAAAAAAAAAAAAAAAAAAAAAAAAAAAAAAAAAAAAAAAAAAAAAAAAAAAAAAAAAAAAAAAAAAAAAAAAAAAAAAAAAAAAAAAAAAAAAAAAAAAAAAAAAAAAAAAAAAAAAAAAAAAAAAAAAAAAAAAAAAAAAAAAAAAAAAAAAAAAAAAAAAAAAAAAAAAAAAAAAAAAAAAAAAAAAAAAAAAAAAAAAAAAAAAAAAAAAAAAAAAAAAAAAAAAAAAAAAAAAAAAAAAAAAAAAAAAAAAAAAAAAAAAAAAAAAAAAAAAAAAAAAAAAAAAAAAAAAAAAAAAAAAAAAAAAAAAAAAAAAAAAAAAAAAAAAAAAAAAAAAAAAAAAAAAAAAAAAAAAAAAAAAAAAAAAAAAAAAAAAAAAAAAAAAAAAAAAAAAAAAAAAAAAAAAAAAAAAAAAAAAAAAAAAAAAAAAAAAAAAAAAAAAAAAAAAAAAAAAAAAAAAAAAAAAAAAAAAAAAAAAAAAAAAAAAAAAAAAAAAAAAAAAAAAAAAAAAAAAAAAAAAAAAAAAAAAAAAAAAAAAAAAAAAAAAAAAAAAAAAAAAAAAAAAAAAAAAAAAAAAAAAAAAAAAAAAAAAAAAAAAAAAAAAAAAAAAAAAAAAAAAAAAAAAAAAAAAAAAAAAAAAAAAAAAAAAAAAAAAAAAAAAAAAAAAAAAAAAAAAAAAAAAAAAAAAAAAAAAAAAAAAAAAAAAAAAAAAAAAAAAAAAAAAAAAAAAAAAAAAAAAAAAAAAAAAAAAAAAAAAAAAAAAAAAAAAAAAAAAAAAAAAAAAAAAAAAAAAAAAAAAAAAAAAAAAAAAAAAAAAAAAAAAAAAAAAAAAAAAAAAAAAAAAAAAAAAAAAAAAAAAAAAAAAAAAAAAAAAAAAAAAAAAAAAAAAAAAAAAAAAAAAAAAAAAAAAAAAAAAAAAAAAAAAAAAAAAAAAAAAAAAAAAAAAAAAAAAAAAAAAAAAAAAAAAAAAAAAAAAAAAAAAAAAAAAAAAAAAAAAAAAAAAAAAAAAAAAAAAAAAAAAAAAAAAAAAAAAAAAAAAAAAAAAAAAAAAAAAAAAAAAAAAAAAAAAAAAAAAAAAAAAAAAAAAAAAAAAAAAAAAAAAAAAAAAAAAAAAAAAAAAAAAAAAAAAAAAAAAAAAAAAAAAAAAAAAAAAAAAAAAAAAAAAAAAAAAAAAAAAAAAAAAAAAAAAAAAAAAAAAAAAAAAAAAAAAAAAAAAAAAAAAAAAAAAAAAAAAAAAAAAAAAAAAAAAAAAAAAAAAAAAAAAAAAAAAAAAAAAAAAAAAAAAAAAAAAAAAAAAAAAAAAAAAAAAAAAAAAAAAAAAAAAAAAAAAAAAAAAAAAAAAAAAAAAAAAAAAAAAAAAAAAAAAAAAAAAAAAAAAAAAAAAAAAAAAAAAAAAAAAAAAAAAAAAAAAAAAAAAAAAAAAAAAAAAAAAAAAAAAAAAAAAAAAAAAAAAAAAAAAAAAAAAAAAAAAAAAAAAAAAAAAAAAAAAAAAAAAAAAAAAAAAAAAAAAAAAAAAAAAAAAAAAAAAAAAAAAAAAAAAAAAAAAAAAAAAAAAAAAAAAAAAAAAAAAAAAAAAAAAAAAAAAAAAAAAAAAAAAAAAAAAAAAAAAAAAAAAAAAAAAAAAAAAAAAAAAAAAAAAAAAAAAAAAAAAAAAAAAAAAAAAAAAAAAAAAAAAAAAAAAAAAAAAAAAAAAAAAAAAAAAAAAAAAAAAAAAAAAAAAAAAAAAAAAAAAAAAAAAAAAAAAAAAAAAAAAAAAAAAAAAAAAAAAAAAAAAAAAAAAAAAAAAAAAAAAAAAAAAAAAAAAAAAAAAAAAAAAAAAAAAAAAAAAAAAAAAAAAAAAAAAAAAAAAAAAAAAAAAAAAAAAAAAAAAAAAAAAAAAAAAAAAAAAAAAAAAAAAAAAAAAAAAAAAAAAAAAAAAAAAAAAAAAAAAAAAAAAAAAAAAAAAAAAAAAAAAAAAAAAAAAAAAAAAAAAAAAAAAAAAAAAAAAAAAAAAAAAAAAAAAAAAAAAAAAAAAAAAAAAAAAAAAAAAAAAAAAAAAAAAAAAAAAAAAAAAAAAAAAAAAAAAAAAAAAAAAAAAAAAAAAAAAAAAAAAAAAAAAAAAAAAAAAAAAAAAAAAAAAAAAAAAAAAAAAAAAAAAAAAAAAAAAAAAAAAAAAAAAAAAAAAAAAAAAAAAAAAAAAAAAAAAAAAAAAAAAAAAAAAAAAAAAAAAAAAAAAAAAAAAAAAAAAAAAAAAAAAAAAAAAAAAAAAAAAAAAAAAAAAAAAAAAAAAAAAAAAAAAAAAAAAAAAAAAAAAAAAAAAAAAAAAAAAAAAAAAAAAAAAAAAAAAAAAAAAAAAAAAAAAAAAAAAAAAAAAAAAAAAAAAAAAAAAAAAAAAAAAAAAAAAAAAAAAAAAAAAAAAAAAAAAAAAAAAAAAAAAAAAAAAAAAAAAAAAAAAAAAAAAAAAAAAAAAAAAAAAAAAAAAAAAAAAAAAAAAAAAAAAAAAAAAAAAAAAAAAAAAAAAAAAAAAAAAAAAAAAAAAAAAAAAAAAAAAAAAAAAAAAAAAAAAAAAAAAAAAAAAAAAAAAAAAAAAAAAAAAAAAAAAAAAAAAAAAAAAAAAAAAAAAAAAAAAAAAAAAAAAAAAAAAAAAAAAAAAAAAAAAAAAAAAAAAAAAAAAAAAAAAAAAAAAAAAAAAAAAAAAAAAAAAAAAAAAAAAAAAAAAAAAAAAAAAAAAAAAAAAAAAAAAAAAAAAAAAAAAAAAAAAAAAAAAAAAAAAAAAAAAAAAAAAAAAAAAAAAAAAAAAAAAAAAAAAAAAAAAAAAAAAAAAAAAAAAAAAAAAAAAAAAAAAAAAAAAAAAAAAAAAAAAAAAAAAAAAAAAAAAAAAAAAAAAAAAAAAAAAAAAAAAAAAAAAAAAAAAAAAAAAAAAAAAAAAAAAAAAAAAAAAAAAAAAAAAAAAAAAAAAAAAAAAAAAAAAAAAAAAAAAAAAAAAAAAAAAAAAAAAAAAAAAAAAAAAAAAAAAAAAAAAAAAAAAAAAAAAAAAAAAAAAAAAAAAAAAAAAAAAAAAAAAAAAAAAAAAAAAAAAAAAAAAAAAAAAAAAAAAAAAAAAAAAAAAAAAAAAAAAAAAAAAAAAAAAAAAAAAAAAAAAAAAAAAAAAAAAAAAAAAAAAAAAAAAAAAAAAAAAAAAAAAAAAAAAAAAAAAAAAAAAAAAAAAAAAAAAAAAAAAAAAAAAAAAAAAAAAAAAAAAAAAAAAAAAAAAAAAAAAAAAAAAAAAAAAAAAAAAAAAAAAAAAAAAAAAAAAAAAAAAAAAAAAAAAAAAAAAAAAAAAAAAAAAAAAAAAAAAAAAAAAAAAAAAAAAAAAAAAAAAAAAAAAAAAAAAAAAAAAAAAAAAAAAAAAAAAAAAAAAAAAAAAAAAAAAAAAAAAAAAAAAAAAAAAAAAAAAAAAAAAAAAAAAAAAAAAAAAAAAAAAAAAAAAAAAAAAAAAAAAAAAAAAAAAAAAAAAAAAAAAAAAAAAAAAAAAAAAAAAAAAAAAAAAAAAAAAAAAAAAAAAAAAAAAAAAAAAAAAAAAAAAAAAAAAAAAAAAAAAAAAAAAAAAAAAAAAAAAAAAAAAAAAAAAAAAAAAAAAAAAAAAAAAAAAAAAAAAAAAAAAAAAAAAAAAAAAAAAAAAAAAAAAAAAAAAAAAAAAAAAAAAAAAAAAAAAAAAAAAAAAAAAAAAAAAAAAAAAAAAAAAAAAAAAAAAAAAAAAAAAAAAAAAAAAAAAAAAAAAAAAAAAAAAAAAAAAAAAAAAAAAAAAAAAAAAAAAAAAAAAAAAAAAAAAAAAAAAAAAAAAAAAAAAAAAAAAAAAAAAAAAAAAAAAAAAAAAAAAAAAAAAAAAAAAAAAAAAAAAAAAAAAAAAAAAAAAAAAAAAAAAAAAAAAAAAAAAAAAAAAAAAAAAAAAAAAAAAAAAAAAAAAAAAAAAAAAAAAAAAAAAAAAAAAAAAAAAAAAAAAAAAAAAAAAAAAAAAAAAAAAAAAAAAAAAAAAAAAAAAAAAAAAAAAAAAAAAAAAAAAAAAAAAAAAAAAAAAAAAAAAAAAAAAAAAAAAAAAAAAAAAAAAAAAAAAAAAAAAAAAAAAAAAAAAAAAAAAAAAAAAAAAAAAAAAAAAAAAAAAAAAAAAAAAAAAAAAAAAAAAAAAAAAAAAAAAAAAAAAAAAAAAAAAAAAAAAAAAAAAAAAAAAAAAAAAAAAAAAAAAAAAAAAAAAAAAAAAAAAAAAAAAAAAAAAAAAAAAAAAAAAAAAAAAAAAAAAAAAAAAAAAAAAAAAAAAAAAAAAAAAAAAAAAAAAAAAAAAAAAAAAAAAAAAAAAAAAAAAAAAAAAAAAAAAAAAAAAAAAAAAAAAAAAAAAAAAAAAAAAAAAAAAAAAAAAAAAAAAAAAAAAAAAAAAAAAAAAAAAAAAAAAAAAAAAAAAAAAAAAAAAAAAAAAAAAAAAAAAAAAAAAAAAAAAAAAAAAAAAAAAAAAAAAAAAAAAAAAAAAAAAAAAAAAAAAAAAAAAAAAAAAAAAAAAAAAAAAAAAAAAAAAAAAAAAAAAAAAAAAAAAAAAAAAAAAAAAAAAAAAAAAAAAAAAAAAAAAAAAAAAAAAAAAAAAAAAAAAAAAAAAAAAAAAAAAAAAAAAAAAAAAAAAAAAAAAAAAAAAAAAAAAAAAAAAAAAAAAAAAAAAAAAAAAAAAAAAAAAAAAAAAAAAAAAAAAAAAAAAAAAAAAAAAAAAAAAAAAAAAAAAAAAAAAAAAAAAAAAAAAAAAAAAAAAAAAAAAAAAAAAAAAAAAAAAAAAAAAAAAAAAAAAAAAAAAAAAAAAAAAAAAAAAAAAAAAAAAAAAAAAAAAAAAAAAAAAAAAAAAAAAAAAAAAAAAAAAAAAAAAAAAAAAAAAAAAAAAAAAAAAAAAAAAAAAAAAAAAAAAAAAAAAAAAAAAAAAAAAAAAAAAAAAAAAAAAAAAAAAAAAAAAAAAAAAAAAAAAAAAAAAAAAAAAAAAAAAAAAAAAAAAAAAAAAAAAAAAAAAAAAAAAAAAAAAAAAAAAAAAAAAAAAAAAAAAAAAAAAAAAAAAAAAAAAAAAAAAAAAAAAAAAAAAAAAAAAAAAAAAAAAAAAAAAAAAAAAAAAAAAAAAAAAAAAAAAAAAAAAAAAAAAAAAAAAAAAAAAAAAAAAAAAAAAAAAAAAAAAAAAAAAAAAAAAAAAAAAAAAAAAAAAAAAAAAAAAAAAAAAAAAAAAAAAAAAAAAAAAAAAAAAAAAAAAAAAAAAAAAAAAAAAAAAAAAAAAAAAAAAAAAAAAAAAAAAAAAAAAAAAAAAAAAAAAAAAAAAAAAAAAAAAAAAAAAAAAAAAAAAAAAAAAAAAAAAAAAAAAAAAAAAAAAAAAAAAAAAAAAAAAAAAAAAAAAAAAAAAAAAAAAAAAAAAAAAAAAAAAAAAAAAAAAAAAAAAAAAAAAAAAAAAAAAAAAAAAAAAAAAAAAAAAAAAAAAAAAAAAAAAAAAAAAAAAAAAAAAAAAAAAAAAAAAAAAAAAAAAAAAAAAAAAAAAAAAAAAAAAAAAAAAAAAAAAAAAAAAAAAAAAAAAAAAAAAAAAAAAAAAAAAAAAAAAAAAAAAAAAAAAAAAAAAAAAAAAAAAAAAAAAAAAAAAAAAAAAAAAAAAAAAAAAAAAAAAAAAAAAAAAAAAAAAAAAAAAAAAAAAAAAAAAAAAAAAAAAAAAAAAAAAAAAAAAAAAAAAAAAAAAAAAAAAAAAAAAAAAAAAAAAAAAAAAAAAAAAAAAAAAAAAAAAAAAAAAAAAAAAAAAAAAAAAAAAAAAAAAAAAAAAAAAAAAAAAAAAAAAAAAAAAAAAAAAAAAAAAAAAAAAAAAAAAAAAAAAAAAAAAAAAAAAAAAAAAAAAAAAAAAAAAAAAAAAAAAAAAAAAAAAAAAAAAAAAAAAAAAAAAAAAAAAAAAAAAAAAAAAAAAAAAAAAAAAAAAAAAAAAAAAAAAAAAAAAAAAAAAAAAAAAAAAAAAAAAAAAAAAAAAAAAAAAAAAAAAAAAAAAAAAAAAAAAAAAAAAAAAAAAAAAAAAAAAAAAAAAAAAAAAAAAAAAAAAAAAAAAAAAAAAAAAAAAAAAAAAAAAAAAAAAAAAAAAAAAAAAAAAAAAAAAAAAAAAAAAAAAAAAAAAAAAAAAAAAAAAAAAAAAAAAAAAAAAAAAAAAAAAAAAAAAAAAAAAAAAAAAAAAAAAAAAAAAAAAAAAAAAAAAAAAAAAAAAAAAAAAAAAAAAAAAAAAAAAAAAAAAAAAAAAAAAAAAAAAAAAAAAAAAAAAAAAAAAAAAAAAAAAAAAAAAAAAAAAAAAAAAAAAAAAAAAAAAAAAAAAAAAAAAAAAAAAAAAAAAAAAAAAAAAAAAAAAAAAAAAAAAAAAAAAAAAAAAAAAAAAAAAAAAAAAAAAAAAAAAAAAAAAAAAAAAAAAAAAAAAAAAAAAAAAAAAAAAAAAAAAAAAAAAAAAAAAAAAAAAAAAAAAAAAAAAAAAAAAAAAAAAAAAAAAAAAAAAAAAAAAAAAAAAAAAAAAAAAAAAAAAAAAAAAAAAAAAAAAAAAAAAAAAAAAAAAAAAAAAAAAAAAAAAAAAAAAAAAAAAAAAAAAAAAAAAAAAAAAAAAAAAAAAAAAAAAAAAAAAAAAAAAAAAAAAAAAAAAAAAAAAAAAAAAAAAAAAAAAAAAAAAAAAAAAAAAAAAAAAAAAAAAAAAAAAAAAAAAAAAAAAAAAAAAAAAAAAAAAAAAAAAAAAAAAAAAAAAAAAAAAAAAAAAAAAAAAAAAAAAAAAAAAAAAAAAAAAAAAAAAAAAAAAAAAAAAAAAAAAAAAAAAAAAAAAAAAAAAAAAAAAAAAAAAAAAAAAAAAAAAAAAAAAAAAAAAAAAAAAAAAAAAAAAAAAAAAAAAAAAAAAAAAAAAAAAAAAAAAAAAAAAAAAAAAAAAAAAAAAAAAAAAAAAAAAAAAAAAAAAAAAAAAAAAAAAAAAAAAAAAAAAAAAAAAAAAAAAAAAAAAAAAAAAAAAAAAAAAAAAAAAAAAAAAAAAAAAAAAAAAAAAAAAAAAAAAAAAAAAAAAAAAAAAAAAAAAAAAAAAAAAAAAAAAAAAAAAAAAAAAAAAAAAAAAAAAAAAAAAAAAAAAAAAAAAAAAAAAAAAAAAAAAAAAAAAAAAAAAAAAAAAAAAAAAAAAAAAAAAAAAAAAAAAAAAAAAAAAAAAAAAAAAAAAAAAAAAAAAAAAAAAAAAAAAAAAAAAAAAAAAAAAAAAAAAAAAAAAAAAAAAAAAAAAAAAAAAAAAAAAAAAAAAAAAAAAAAAAAAAAAAAAAAAAAAAAAAAAAAAAAAAAAAAAAAAAAAAAAAAAAAAAAAAAAAAAAAAAAAAAAAAAAAAAAAAAAAAAAAAAAAAAAAAAAAAAAAAAAAAAAAAAAAAAAAAAAAAAAAAAAAAAAAAAAAAAAAAAAAAAAAAAAAAAAAAAAAAAAAAAAAAAAAAAAAAAAAAAAAAAAAAAAAAAAAAAAAAAAAAAAAAAAAAAAAAAAAAAAAAAAAAAAAAAAAAAAAAAAAAAAAAAAAAAAAAAAAAAAAAAAAAAAAAAAAAAAAAAAAAAAAAAAAAAAAAAAAAAAAAAAAAAAAAAAAAAAAAAAAAAAAAAAAAAAAAAAAAAAAAAAAAAAAAAAAAAAAAAAAAAAAAAAAAAAAAAAAAAAAAAAAAAAAAAAAAAAAAAAAAAAAAAAAAAAAAAAAAAAAAAAAAAAAAAAAAAAAAAAAAAAAAAAAAAAAAAAAAAAAAAAAAAAAAAAAAAAAAAAAAAAAAAAAAAAAAAAAAAAAAAAAAAAAAAAAAAAAAAAAAAAAAAAAAAAAAAAAAAAAAAAAAAAAAAAAAAAAAAAAAAAAAAAAAAAAAAAAAAAAAAAAAAAAAAAAAAAAAAAAAAAAAAAAAAAAAAAAAAAAAAAAAAAAAAAAAAAAAAAAAAAAAAAAAAAAAAAAAAAAAAAAAAAAAAAAAAAAAAAAAAAAAAAAAAAAAAAAAAAAAAAAAAAAAAAAAAAAAAAAAAAAAAAAAAAAAAAAAAAAAAAAAAAAAAAAAAAAAAAAAAAAAAAAAAAAAAAAAAAAAAAAAAAAAAAAAAAAAAAAAAAAAAAAAAAAAAAAAAAAAAAAAAAAAAAAAAAAAAAAAAAAAAAAAAAAAAAAAAAAAAAAAAAAAAAAAAAAAAAAAAAAAAAAAAAAAAAAAAAAAAAAAAAAAAAAAAAAAAAAAAAAAAAAAAAAAAAAAAAAAAAAAAAAAAAAAAAAAAAAAAAAAAAAAAAAAAAAAAAAAAAAAAAAAAAAAAAAAAAAAAAAAAAAAAAAAAAAAAAAAAAAAAAAAAAAAAAAAAAAAAAAAAAAAAAAAAAAAAAAAAAAAAAAAAAAAAAAAAAAAAAAAAAAAAAAAAAAAAAAAAAAAAAAAAAAAAAAAAAAAAAAAAAAAAAAAAAAAAAAAAAAAAAAAAAAAAAAAAAAAAAAAAAAAAAAAAAAAAAAAAAAAAAAAAAAAAAAAAAAAAAAAAAAAAAAAAAAAAAAAAAAAAAAAAAAAAAAAAAAAAAAAAAAAAAAAAAAAAAAAAAAAAAAAAAAAAAAAAAAAAAAAAAAAAAAAAAAAAAAAAAAAAAAAAAAAAAAAAAAAAAAAAAAAAAAAAAAAAAAAAAAAAAAAAAAAAAAAAAAAAAAAAAAAAAAAAAAAAAAAAAAAAAAAAAAAAAAAAAAAAAAAAAAAAAAAAAAAAAAAAAAAAAAAAAAAAAAAAAAAAAAAAAAAAAAAAAAAAAAAAAAAAAAAAAAAAAAAAAAAAAAAAAAAAAAAAAAAAAAAAAAAAAAAAAAAAAAAAAAAAAAAAAAAAAAAAAAAAAAAAAAAAAAAAAAAAAAAAAAAAAAAAAAAAAAAAAAAAAAAAAAAAAAAAAAAAAAAAAAAAAAAAAAAAAAAAAAAAAAAAAAAAAAAAAAAAAAAAAAAAAAAAAAAAAAAAAAAAAAAAAAAAAAAAAAAAAAAAAAAAAAAAAAAAAAAAAAAAAAAAAAAAAAAAAAAAAAAAAAAAAAAAAAAAAAAAAAAAAAAAAAAAAAAAAAAAAAAAAAAAAAAAAAAAAAAAAAAAAAAAAAAAAAAAAAAAAAAAAAAAAAAAAAAAAAAAAAAAAAAAAAAAAAAAAAAAAAAAAAAAAAAAAAAAAAAAAAAAAAAAAAAAAAAAAAAAAAAAAAAAAAAAAAAAAAAAAAAAAAAAAAAAAAAAAAAAAAAAAAAAAAAAAAAAAAAAAAAAAAAAAAAAAAAAAAAAAAAAAAAAAAAAAAAAAAAAAAAAAAAAAAAAAAAAAAAAAAAAAAAAAAAAAAAAAAAAAAAAAAAAAAAAAAAAAAAAAAAAAAAAAAAAAAAAAAAAAAAAAAAAAAAAAAAAAAAAAAAAAAAAAAAAAAAAAAAAAAAAAAAAAAAAAAAAAAAAAAAAAAAAAAAAAAAAAAAAAAAAAAAAAAAAAAAAAAAAAAAAAAAAAAAAAAAAAAAAAAAAAAAAAAAAAAAAAAAAAAAAAAAAAAAAAAAAAAAAAAAAAAAAAAAAAAAAAAAAAAAAAAAAAAAAAAAAAAAAAAAAAAAAAAAAAAAAAAAAAAAAAAAAAAAAAAAAAAAAAAAAAAAAAAAAAAAAAAAAAAAAAAAAAAAAAAAAAAAAAAAAAAAAAAAAAAAAAAAAAAAAAAAAAAAAAAAAAAAAAAAAAAAAAAAAAAAAAAAAAAAAAAAAAAAAAAAAAAAAAAAAAAAAAAAAAAAAAAAAAAAAAAAAAAAAAAAAAAAAAAAAAAAAAAAAAAAAAAAAAAAAAAAAAAAAAAAAAAAAAAAAAAAAAAAAAAAAAAAAAAAAAAAAAAAAAAAAAAAAAAAAAAAAAAAAAAAAAAAAAAAAAAAAAAAAAAAAAAAAAAAAAAAAAAAAAAAAAAAAAAAAAAAAAAAAAAAAAAAAAAAAAAAAAAAAAAAAAAAAAAAAAAAAAAAAAAAAAAAAAAAAAAAAAAAAAAAAAAAAAAAAAAAAAAAAAAAAAAAAAAAAAAAAAAAAAAAAAAAAAAAAAAAAAAAAAAAAAAAAAAAAAAAAAAAAAAAAAAAAAAAAAAAAAAAAAAAAAAAAAAAAAAAAAAAAAAAAAAAAAAAAAAAAAAAAAAAAAAAAAAAAAAAAAAAAAAAAAAAAAAAAAAAAAAAAAAAAAAAAAAAAAAAAAAAAAAAAAAAAAAAAAAAAAAAAAAAAAAAAAAAAAAAAAAAAAAAAAAAAAAAAAAAAAAAAAAAAAAAAAAAAAAAAAAAAAAAAAAAAAAAAAAAAAAAAAAAAAAAAAAAAAAAAAAAAAAAAAAAAAAAAAAAAAAAAAAAAAAAAAAAAAAAAAAAAAAAAAAAAAAAAAAAAAAAAAAAAAAAAAAAAAAAAAAAAAAAAAAAAAAAAAAAAAAAAAAAAAAAAAAAAAAAAAAAAAAAAAAAAAAAAAAAAAAAAAAAAAAAAAAAAAAAAAAAAAAAAAAAAAAAAAAAAAAAAAAAAAAAAAAAAAAAAAAAAAAAAAAAAAAAAAAAAAAAAAAAAAAAAAAAAAAAAAAAAAAAAAAAAAAAAAAAAAAAAAAAAAAAAAAAAAAAAAAAAAAAAAAAAAAAAAAAAAAAAAAAAAAAAAAAAAAAAAAAAAAAAAAAAAAAAAAAAAAAAAAAAAAAAAAAAAAAAAAAAAAAAAAAAAAAAAAAAAAAAAAAAAAAAAAAAAAAAAAAAAAAAAAAAAAAAAAAAAAAAAAAAAAAAAAAAAAAAAAAAAAAAAAAAAAAAAAAAAAAAAAAAAAAAAAAAAAAAAAAAAAAAAAAAAAAAAAAAAAAAAAAAAAAAAAAAAAAAAAAAAAAAAAAAAAAAAAAAAAAAAAAAAAAAAAAAAAAAAAAAAAAAAAAAAAAAAAAAAAAAAAAAAAAAAAAAAAAAAAAAAAAAAAAAAAAAAAAAAAAAAAAAAAAAAAAAAAAAAAAAAAAAAAAAAAAAAAAAAAAAAAAAAAAAAAAAAAAAAAAAAAAAAAAAAAAAAAAAAAAAAAAAAAAAAAAAAAAAAAAAAAAAAAAAAAAAAAAAAAAAAAAAAAAAAAAAAAAAAAAAAAAAAAAAAAAAAAAAAAAAAAAAAAAAAAAAAAAAAAAAAAAAAAAAAAAAAAAAAAAAAAAAAAAAAAAAAAAAAAAAAAAAAAAAAAAAAAAAAAAAAAAAAAAAAAAAAAAAAAAAAAAAAAAAAAAAAAAAAAAAAAAAAAAAAAAAAAAAAAAAAAAAAAAAAAAAAAAAAAAAAAAAAAAAAAAAAAAAAAAAAAAAAAAAAAAAAAAAAAAAAAAAAAAAAAAAAAAAAAAAAAAAAAAAAAAAAAAAAAAAAAAAAAAAAAAAAAAAAAAAAAAAAAAAAAAAAAAAAAAAAAAAAAAAAAAAAAAAAAAAAAAAAAAAAAAAAAAAAAAAAAAAAAAAAAAAAAAAAAAAAAAAAAAAAAAAAAAAAAAAAAAAAAAAAAAAAAAAAAAAAAAAAAAAAAAAAAAAAAAAAAAAAAAAAAAAAAAAAAAAAAAAAAAAAAAAAAAAAAAAAAAAAAAAAAAAAAAAAAAAAAAAAAAAAAAAAAAAAAAAAAAAAAAAAAAAAAAAAAAAAAAAAAAAAAAAAAAAAAAAAAAAAAAAAAAAAAAAAAAAAAAAAAAAAAAAAAAAAAAAAAAAAAAAAAAAAAAAAAAAAAAAAAAAAAAAAAAAAAAAAAAAAAAAAAAAAAAAAAAAAAAAAAAAAAAAAAAAAAAAAAAAAAAAAAAAAAAAAAAAAAAAAAAAAAAAAAAAAAAAAAAAAAAAAAAAAAAAAAAAAAAAAAAAAAAAAAAAAAAAAAAAAAAAAAAAAAAAAAAAAAAAAAAAAAAAAAAAAAAAAAAAAAAAAAAAAAAAAAAAAAAAAAAAAAAAAAAAAAAAAAAAAAAAAAAAAAAAAAAAAAAAAAAAAAAAAAAAAAAAAAAAAAAAAAAAAAAAAAAAAAAAAAAAAAAAAAAAAAAAAAAAAAAAAAAAAAAAAAAAAAAAAAAAAAAAAAAAAAAAAAAAAAAAAAAAAAAAAAAAAAAAAAAAAAAAAAAAAAAAAAAAAAAAAAAAAAAAAAAAAAAAAAAAAAAAAAAAAAAAAAAAAAAAAAAAAAAAAAAAAAAAAAAAAAAAAAAAAAAAAAAAAAAAAAAAAAAAAAAAAAAAAAAAAAAAAAAAAAAAAAAAAAAAAAAAAAAAAAAAAAAAAAAAAAAAAAAAAAAAAAAAAAAAAAAAAAAAAAAAAAAAAAAAAAAAAAAAAAAAAAAAAAAAAAAAAAAAAAAAAAAAAAAAAAAAAAAAAAAAAAAAAAAAAAAAAAAAAAAAAAAAAAAAAAAAAAAAAAAAAAAAAAAAAAAAAAAAAAAAAAAAAAAAAAAAAAAAAAAAAAAAAAAAAAAAAAAAAAAAAAAAAAAAAAAAAAAAAAAAAAAAAAAAAAAAAAAAAAAAAAAAAAAAAAAAAAAAAAAAAAAAAAAAAAAAAAAAAAAAAAAAAAAAAAAAAAAAAAAAAAAAAAAAAAAAAAAAAAAAAAAAAAAAAAAAAAAAAAAAAAAAAAAAAAAAAAAAAAAAAAAAAAAAAAAAAAAAAAAAAAAAAAAAAAAAAAAAAAAAAAAAAAAAAAAAAAAAAAAAAAAAAAAAAAAAAAAAAAAAAAAAAAAAAAAAAAAAAAAAAAAAAAAAAAAAAAAAAAAAAAAAAAAAAAAAAAAAAAAAAAAAAAAAAAAAAAAAAAAAAAAAAAAAAAAAAAAAAAAAAAAAAAAAAAAAAAAAAAAAAAAAAAAAAAAAAAAAAAAAAAAAAAAAAAAAAAAAAAAAAAAAAAAAAAAAAAAAAAAAAAAAAAAAAAAAAAAAAAAAAAAAAAAAAAAAAAAAAAAAAAAAAAAAAAAAAAAAAAAAAAAAAAAAAAAAAAAAAAAAAAAAAAAAAAAAAAAAAAAAAAAAAAAAAAAAAAAAAAAAAAAAAAAAAAAAAAAAAAAAAAAAAAAAAAAAAAAAAAAAAAAAAAAAAAAAAAAAAAAAAAAAAAAAAAAAAAAAAAAAAAAAAAAAAAAAAAAAAAAAAAAAAAAAAAAAAAAAAAAAAAAAAAAAAAAAAAAAAAAAAAAAAAAAAAAAAAAAAAAAAAAAAAAAAAAAAAAAAAAAAAAAAAAAAAAAAAAAAAAAAAAAAAAAAAAAAAAAAAAAAAAAAAAAAAAAAAAAAAAAAAAAAAAAAAAAAAAAAAAAAAAAAAAAAAAAAAAAAAAAAAAAAAAAAAAAAAAAAAAAAAAAAAAAAAAAAAAAAAAAAAAAAAAAAAAAAAAAAAAAAAAAAAAAAAAAAAAAAAAAAAAAAAAAAAAAAAAAAAAAAAAAAAAAAAAAAAAAAAAAAAAAAAAAAAAAAAAAAAAAAAAAAAAAAAAAAAAAAAAAAAAAAAAAAAAAAAAAAAAAAAAAAAAAAAAAAAAAAAAAAAAAAAAAAAAAAAAAAAAAAAAAAAAAAAAAAAAAAAAAAAAAAAAAAAAAAAAAAAAAAAAAAAAAAAAAAAAAAAAAAAAAAAAAAAAAAAAAAAAAAAAAAAAAAAAAAAAAAAAAAAAAAAAAAAAAAAAAAAAAAAAAAAAAAAAAAAAAAAAAAAAAAAAAAAAAAAAAAAAAAAAAAAAAAAAAAAAAAAAAAAAAAAAAAAAAAAAAAAAAAAAAAAAAAAAAAAAAAAAAAAAAAAAAAAAAAAAAAAAAAAAAAAAAAAAAAAAAAAAAAAAAAAAAAAAAAAAAAAAAAAAAAAAAAAAAAAAAAAAAAAAAAAAAAAAAAAAAAAAAAAAAAAAAAAAAAAAAAAAAAAAAAAAAAAAAAAAAAAAAAAAAAAAAAAAAAAAAAAAAAAAAAAAAAAAAAAAAAAAAAAAAAAAAAAAAAAAAAAAAAAAAAAAAAAAAAAAAAAAAAAAAAAAAAAAAAAAAAAAAAAAAAAAAAAAAAAAAAAAAAAAAAAAAAAAAAAAAAAAAAAAAAAAAAAAAAAAAAAAAAAAAAAAAAAAAAAAAAAAAAAAAAAAAAAAAAAAAAAAAAAAAAAAAAAAAAAAAAAAAAAAAAAAAAAAAAAAAAAAAAAAAAAAAAAAAAAAAAAAAAAAAAAAAAAAAAAAAAAAAAAAAAAAAAAAAAAAAAAAAAAAAAAAAAAAAAAAAAAAAAAAAAAAAAAAAAAAAAAAAAAAAAAAAAAAAAAAAAAAAAAAAAAAAAAAAAAAAAAAAAAAAAAAAAAAAAAAAAAAAAAAAAAAAAAAAAAAAAAAAAAAAAAAAAAAAAAAAAAAAAAAAAAAAAAAAAAAAAAAAAAAAAAAAAAAAAAAAAAAAAAAAAAAAAAAAAAAAAAAAAAAAAAAAAAAAAAAAAAAAAAAAAAAAAAAAAAAAAAAAAAAAAAAAAAAAAAAAAAAAAAAAAAAAAAAAAAAAAAAAAAAAAAAAAAAAAAAAAAAAAAAAAAAAAAAAAAAAAAAAAAAAAAAAAAAAAAAAAAAAAAAAAAAAAAAAAAAAAAAAAAAAAAAAAAAAAAAAAAAAAAAAAAAAAAAAAAAAAAAAAAAAAAAAAAAAAAAAAAAAAAAAAAAAAAAAAAAAAAAAAAAAAAAAAAAAAAAAAAAAAAAAAAAAAAAAAAAAAAAAAAAAAAAAAAAAAAAAAAAAAAAAAAAAAAAAAAAAAAAAAAAAAAAAAAAAAAAAAAAAAAAAAAAAAAAAAAAAAAAAAAAAAAAAAAAAAAAAAAAAAAAAAAAAAAAAAAAAAAAAAAAAAAAAAAAAAAAAAAAAAAAAAAAAAAAAAAAAAAAAAAAAAAAAAAAAAAAAAAAAAAAAAAAAAAAAAAAAAAAAAAAAAAAAAAAAAAAAAAAAAAAAAAAAAAAAAAAAAAAAAAAAAAAAAAAAAAAAAAAAAAAAAAAAAAAAAAAAAAAAAAAAAAAAAAAAAAAAAAAAAAAAAAAAAAAAAAAAAAAAAAAAAAAAAAAAAAAAAAAAAAAAAAAAAAAAAAAAAAAAAAAAAAAAAAAAAAAAAAAAAAAAAAAAAAAAAAAAAAAAAAAAAAAAAAAAAAAAAAAAAAAAAAAAAAAAAAAAAAAAAAAAAAAAAAAAAAAAAAAAAAAAAAAAAAAAAAAAAAAAAAAAAAAAAAAAAAAAAAAAAAAAAAAAAAAAAAAAAAAAAAAAAAAAAAAAAAAAAAAAAAAAAAAAAAAAAAAAAAAAAAAAAAAAAAAAAAAAAAAAAAAAAAAAAAAAAAAAAAAAAAAAAAAAAAAAAAAAAAAAAAAAAAAAAAAAAAAAAAAAAAAAAAAAAAAAAAAAAAAAAAAAAAAAAAAAAAAAAAAAAAAAAAAAAAAAAAAAAAAAAAAAAAAAAAAAAAAAAAAAAAAAAAAAAAAAAAAAAAAAAAAAAAAAAAAAAAAAAAAAAAAAAAAAAAAAAAAAAAAAAAAAAAAAAAAAAAAAAAAAAAAAAAAAAAAAAAAAAAAAAAAAAAAAAAAAAAAAAAAAAAAAAAAAAAAAAAAAAAAAAAAAAAAAAAAAAAAAAAAAAAAAAAAAAAAAAAAAAAAAAAAAAAAAAAAAAAAAAAAAAAAAAAAAAAAAAAAAAAAAAAAAAAAAAAAAAAAAAAAAAAAAAAAAAAAAAAAAAAAAAAAAAAAAAAAAAAAAAAAAAAAAAAAAAAAAAAAAAAAAAAAAAAAAAAAAAAAAAAAAAAAAAAAAAAAAAAAAAAAAAAAAAAAAAAAAAAAAAAAAAAAAAAAAAAAAAAAAAAAAAAAAAAAAAAAAAAAAAAAAAAAAAAAAAAAAAAAAAAAAAAAAAAAAAAAAAAAAAAAAAAAAAAAAAAAAAAAAAAAAAAAAAAAAAAAAAAAAAAAAAAAAAAAAAAAAAAAAAAAAAAAAAAAAAAAAAAAAAAAAAAAAAAAAAAAAAAAAAAAAAAAAAAAAAAAAAAAAAAAAAAAAAAAAAAAAAAAAAAAAAAAAAAAAAAAAAAAAAAAAAAAAAAAAAAAAAAAAAAAAAAAAAAAAAAAAAAAAAAAAAAAAAAAAAAAAAAAAAAAAAAAAAAAAAAAAAAAAAAAAAAAAAAAAAAAAAAAAAAAAAAAAAAAAAAAAAAAAAAAAAAAAAAAAAAAAAAAAAAAAAAAAAAAAAAAAAAAAAAAAAAAAAAAAAAAAAAAAAAAAAAAAAAAAAAAAAAAAAAAAAAAAAAAAAAAAAAAAAAAAAAAAAAAAAAAAAAAAAAAAAAAAAAAAAAAAAAAAAAAAAAAAAAAAAAAAAAAAAAAAAAAAAAAAAAAAAAAAAAAAAAAAAAAAAAAAAAAAAAAAAAAAAAAAAAAAAAAAAAAAAAAAAAAAAAAAAAAAAAAAAAAAAAAAAAAAAAAAAAAAAAAAAAAAAAAAAAAAAAAAAAAAAAAAAAAAAAAAAAAAAAAAAAAAAAAAAAAAAAAAAAAAAAAAAAAAAAAAAAAAAAAAAAAAAAAAAAAAAAAAAAAAAAAAAAAAAAAAAAAAAAAAAAAAAAAAAAAAAAAAAAAAAAAAAAAAAAAAAAAAAAAAAAAAAAAAAAAAAAAAAAAAAAAAAAAAAAAAAAAAAAAAAAAAAAAAAAAAAAAAAAAAAAAAAAAAAAAAAAAAAAAAAAAAAAAAAAAAAAAAAAAAAAAAAAAAAAAAAAAAAAAAAAAAAAAAAAAAAAAAAAAAAAAAAAAAAAAAAAAAAAAAAAAAAAAAAAAAAAAAAAAAAAAAAAAAAAAAAAAAAAAAAAAAAAAAAAAAAAAAAAAAAAAAAAAAAAAAAAAAAAAAAAAAAAAAAAAAAAAAAAAAAAAAAAAAAAAAAAAAAAAAAAAAAAAAAAAAAAAAAAAAAAAAAAAAAAAAAAAAAAAAAAAAAAAAAAAAAAAAAAAAAAAAAAAAAAAAAAAAAAAAAAAAAAAAAAAAAAAAAAAAAAAAAAAAAAAAAAAAAAAAAAAAAAAAAAAAAAAAAAAAAAAAAAAAAAAAAAAAAAAAAAAAAAAAAAAAAAAAAAAAAAAAAAAAAAAAAAAAAAAAAAAAAAAAAAAAAAAAAAAAAAAAAAAAAAAAAAAAAAAAAAAAAAAAAAAAAAAAAAAAAAAAAAAAAAAAAAAAAAAAAAAAAAAAAAAAAAAAAAAAAAAAAAAAAAAAAAAAAAAAAAAAAAAAAAAAAAAAAAAAAAAAAAAAAAAAAAAAAAAAAAAAAAAAAAAAAAAAAAAAAAAAAAAAAAAAAAAAAAAAAAAAAAAAAAAAAAAAAAAAAAAAAAAAAAAAAAAAAAAAAAAAAAAAAAAAAAAAAAAAAAAAAAAAAAAAAAAAAAAAAAAAAAAAAAAAAAAAAAAAAAAAAAAAAAAAAAAAAAAAAAAAAAAAAAAAAAAAAAAAAAAAAAAAAAAAAAAAAAAAAAAAAAAAAAAAAAAAAAAAAAAAAAAAAAAAAAAAAAAAAAAAAAAAAAAAAAAAAAAAAAAAAAAAAAAAAAAAAAAAAAAAAAAAAAAAAAAAAAAAAAAAAAAAAAAAAAAAAAAAAAAAAAAAAAAAAAAAAAAAAAAAAAAAAAAAAAAAAAAAAAAAAAAAAAAAAAAAAAAAAAAAAAAAAAAAAAAAAAAAAAAAAAAAAAAAAAAAAAAAAAAAAAAAAAAAAAAAAAAAAAAAAAAAAAAAAAAAAAAAAAAAAAAAAAAAAAAAAAAAAAAAAAAAAAAAAAAAAAAAAAAAAAAAAAAAAAAAAAAAAAAAAAAAAAAAAAAAAAAAAAAAAAAAAAAAAAAAAAAAAAAAAAAAAAAAAAAAAAAAAAAAAAAAAAAAAAAAAAAAAAAAAAAAAAAAAAAAAAAAAAAAAAAAAAAAAAAAAAAAAAAAAAAAAAAAAAAAAAAAAAAAAAAAAAAAAAAAAAAAAAAAAAAAAAAAAAAAAAAAAAAAAAAAAAAAAAAAAAAAAAAAAAAAAAAAAAAAAAAAAAAAAAAAAAAAAAAAAAAAAAAAAAAAAAAAAAAAAAAAAAAAAAAAAAAAAAAAAAAAAAAAAAAAAAAAAAAAAAAAAAAAAAAAAAAAAAAAAAAAAAAAAAAAAAAAAAAAAAAAAAAAAAAAAAAAAAAAAAAAAAAAAAAAAAAAAAAAAAAAAAAAAAAAAAAAAAAAAAAAAAAAAAAAAAAAAAAAAAAAAAAAAAAAAAAAAAAAAAAAAAAAAAAAAAAAAAAAAAAAAAAAAAAAAAAAAAAAAAAAAAAAAAAAAAAAAAAAAAAAAAAAAAAAAAAAAAAAAAAAAAAAAAAAAAAAAAAAAAAAAAAAAAAAAAAAAAAAAAAAAAAAAAAAAAAAAAAAAAAAAAAAAAAAAAAAAAAAAAAAAAAAAAAAAAAAAAAAAAAAAAAAAAAAAAAAAAAAAAAAAAAAAAAAAAAAAAAAAAAAAAAAAAAAAAAAAAAAAAAAAAAAAAAAAAAAAAAAAAAAAAAAAAAAAAAAAAAAAAAAAAAAAAAAAAAAAAAAAAAAAAAAAAAAAAAAAAAAAAAAAAAAAAAAAAAAAAAAAAAAAAAAAAAAAAAAAAAAAAAAAAAAAAAAAAAAAAAAAAAAAAAAAAAAAAAAAAAAAAAAAAAAAAAAAAAAAAAAAAAAAAAAAAAAAAAAAAAAAAAAAAAAAAAAAAAAAAAAAAAAAAAAAAAAAAAAAAAAAAAAAAAAAAAAAAAAAAAAAAAAAAAAAAAAAAAAAAAAAAAAAAAAAAAAAAAAAAAAAAAAAAAAAAAAAAAAAAAAAAAAAAAAAAAAAAAAAAAAAAAAAAAAAAAAAAAAAAAAAAAAAAAAAAAAAAAAAAAAAAAAAAAAAAAAAAAAAAAAAAAAAAAAAAAAAAAAAAAAAAAAAAAAAAAAAAAAAAAAAAAAAAAAAAAAAAAAAAAAAAAAAAAAAAAAAAAAAAAAAAAAAAAAAAAAAAAAAAAAAAAAAAAAAAAAAAAAAAAAAAAAAAAAAAAAAAAAAAAAAAAAAAAAAAAAAAAAAAAAAAAAAAAAAAAAAAAAAAAAAAAAAAAAAAAAAAAAAAAAAAAAAAAAAAAAAAAAAAAAAAAAAAAAAAAAAAAAAAAAAAAAAAAAAAAAAAAAAAAAAAAAAAAAAAAAAAAAAAAAAAAAAAAAAAAAAAAAAAAAAAAAAAAAAAAAAAAAAAAAAAAAAAAAAAAAAAAAAAAAAAAAAAAAAAAAAAAAAAAAAAAAAAAAAAAAAAAAAAAAAAAAAAAAAAAAAAAAAAAAAAAAAAAAAAAAAAAAAAAAAAAAAAAAAAAAAAAAAAAAAAAAAAAAAAAAAAAAAAAAAAAAAAAAAAAAAAAAAAAAAAAAAAAAAAAAAAAAAAAAAAAAAAAAAAAAAAAAAAAAAAAAAAAAAAAAAAAAAAAAAAAAAAAAAAAAAAAAAAAAAAAAAAAAAAAAAAAAAAAAAAAAAAAAAAAAAAAAAAAAAAAAAAAAAAAAAAAAAAAAAAAAAAAAAAAAAAAAAAAAAAAAAAAAAAAAAAAAAAAAAAAAAAAAAAAAAAAAAAAAAAAAAAAAAAAAAAAAAAAAAAAAAAAAAAAAAAAAAAAAAAAAAAAAAAAAAAAAAAAAAAAAAAAAAAAAAAAAAAAAAAAAAAAAAAAAAAAAAAAAAAAAAAAAAAAAAAAAAAAAAAAAAAAAAAAAAAAAAAAAAAAAAAAAAAAAAAAAAAAAAAAAAAAAAAAAAAAAAAAAAAAAAAAAAAAAAAAAAAAAAAAAAAAAAAAAAAAAAAAAAAAAAAAAAAAAAAAAAAAAAAAAAAAAAAAAAAAAAAAAAAAAAAAAAAAAAAAAAAAAAAAAAAAAAAAAAAAAAAAAAAAAAAAAAAAAAAAAAAAAAAAAAAAAAAAAAAAAAAAAAAAAAAAAAAAAAAAAAAAAAAAAAAAAAAAAAAAAAAAAAAAAAAAAAAAAAAAAAAAAAAAAAAAAAAAAAAAAAAAAAAAAAAAAAAAAAAAAAAAAAAAAAAAAAAAAAAAAAAAAAAAAAAAAAAAAAAAAAAAAAAAAAAAAAAAAAAAAAAAAAAAAAAAAAAAAAAAAAAAAAAAAAAAAAAAAAAAAAAAAAAAAAAAAAAAAAAAAAAAAAAAAAAAAAAAAAAAAAAAAAAAAAAAAAAAAAAAAAAAAAAAAAAAAAAAAAAAAAAAAAAAAAAAAAAAAAAAAAAAAAAAAAAAAAAAAAAAAAAAAAAAAAAAAAAAAAAAAAAAAAAAAAAAAAAAAAAAAAAAAAAAAAAAAAAAAAAAAAAAAAAAAAAAAAAAAAAAAAAAAAAAAAAAAAAAAAAAAAAAAAAAAAAAAAAAAAAAAAAAAAAAAAAAAAAAAAAAAAAAAAAAAAAAAAAAAAAAAAAAAAAAAAAAAAAAAAAAAAAAAAAAAAAAAAAAAAAAAAAAAAAAAAAAAAAAAAAAAAAAAAAAAAAAAAAAAAAAAAAAAAAAAAAAAAAAAAAAAAAAAAAAAAAAAAAAAAAAAAAAAAAAAAAAAAAAAAAAAAAAAAAAAAAAAAAAAAAAAAAAAAAAAAAAAAAAAAAAAAAAAAAAAAAAAAAAAAAAAAAAAAAAAAAAAAAAAAAAAAAAAAAAAAAAAAAAAAAAAAAAAAAAAAAAAAAAAAAAAAAAAAAAAAAAAAAAAAAAAAAAAAAAAAAAAAAAAAAAAAAAAAAAAAAAAAAAAAAAAAAAAAAAAAAAAAAAAAAAAAAAAAAAAAAAAAAAAAAAAAAAAAAAAAAAAAAAAAAAAAAAAAAAAAAAAAAAAAAAAAAAAAAAAAAAAAAAAAAAAAAAAAAAAAAAAAAAAAAAAAAAAAAAAAAAAAAAAAAAAAAAAAAAAAAAAAAAAAAAAAAAAAAAAAAAAAAAAAAAAAAAAAAAAAAAAAAAAAAAAAAAAAAAAAAAAAAAAAAAAAAAAAAAAAAAAAAAAAAAAAAAAAAAAAAAAAAAAAAAAAAAAAAAAAAAAAAAAAAAAAAAAAAAAAAAAAAAAAAAAAAAAAAAAAAAAAAAAAAAAAAAAAAAAAAAAAAAAAAAAAAAAAAAAAAAAAAAAAAAAAAAAAAAAAAAAAAAAAAAAAAAAAAAAAAAAAAAAAAAAAAAAAAAAAAAAAAAAAAAAAAAAAAAAAAAAAAAAAAAAAAAAAAAAAAAAAAAAAAAAAAAAAAAAAAAAAAAAAAAAAAAAAAAAAAAAAAAAAAAAAAAAAAAAAAAAAAAAAAAAAAAAAAAAAAAAAAAAAAAAAAAAAAAAAAAAAAAAAAAAAAAAAAAAAAAAAAAAAAAAAAAAAAAAAAAAAAAAAAAAAAAAAAAAAAAAAAAAAAAAAAAAAAAAAAAAAAAAAAAAAAAAAAAAAAAAAAAAAAAAAAAAAAAAAAAAAAAAAAAAAAAAAAAAAAAAAAAAAAAAAAAAAAAAAAAAAAAAAAAAAAAAAAAAAAAAAAAAAAAAAAAAAAAAAAAAAAAAAAAAAAAAAAAAAAAAAAAAAAAAAAAAAAAAAAAAAAAAAAAAAAAAAAAAAAAAAAAAAAAAAAAAAAAAAAAAAAAAAAAAAAAAAAAAAAAAAAAAAAAAAAAAAAAAAAAAAAAAAAAAAAAAAAAAAAAAAAAAAAAAAAAAAAAAAAAAAAAAAAAAAAAAAAAAAAAAAAAAAAAAAAAAAAAAAAAAAAAAAAAAAAAAAAAAAAAAAAAAAAAAAAAAAAAAAAAAAAAAAAAAAAAAAAAAAAAAAAAAAAAAAAAAAAAAAAAAAAAAAAAAAAAAAAAAAAAAAAAAAAAAAAAAAAAAAAAAAAAAAAAAAAAAAAAAAAAAAAAAAAAAAAAAAAAAAAAAAAAAAAAAAAAAAAAAAAAAAAAAAAAAAAAAAAAAAAAAAAAAAAAAAAAAAAAAAAAAAAAAAAAAAAAAAAAAAAAAAAAAAAAAAAAAAAAAAAAAAAAAAAAAAAAAAAAAAAAAAAAAAAAAAAAAAAAAAAAAAAAAAAAAAAAAAAAAAAAAAAAAAAAAAAAAAAAAAAAAAAAAAAAAAAAAAAAAAAAAAAAAAAAAAAAAAAAAAAAAAAAAAAAAAAAAAAAAAAAAAAAAAAAAAAAAAAAAAAAAAAAAAAAAAAAAAAAAAAAAAAAAAAAAAAAAAAAAAAAAAAAAAAAAAAAAAAAAAAAAAAAAAAAAAAAAAAAAAAAAAAAAAAAAAAAAAAAAAAAAAAAAAAAAAAAAAAAAAAAAAAAAAAAAAAAAAAAAAAAAAAAAAAAAAAAAAAAAAAAAAAAAAAAAAAAAAAAAAAAAAAAAAAAAAAAAAAAAAAAAAAAAAAAAAAAAAAAAAAAAAAAAAAAAAAAAAAAAAAAAAAAAAAAAAAAAAAAAAAAAAAAAAAAAAAAAAAAAAAAAAAAAAAAAAAAAAAAAAAAAAAAAAAAAAAAAAAAAAAAAAAAAAAAAAAAAAAAAAAAAAAAAAAAAAAAAAAAAAAAAAAAAAAAAAAAAAAAAAAAAAAAAAAAAAAAAAAAAAAAAAAAAAAAAAAAAAAAAAAAAAAAAAAAAAAAAAAAAAAAAAAAAAAAAAAAAAAAAAAAAAAAAAAAAAAAAAAAAAAAAAAAAAAAAAAAAAAAAAAAAAAAAAAAAAAAAAAAAAAAAAAAAAAAAAAAAAAAAAAAAAAAAAAAAAAAAAAAAAAAAAAAAAAAAAAAAAAAAAAAAAAAAAAAAAAAAAAAAAAAAAAAAAAAAAAAAAAAAAAAAAAAAAAAAAAAAAAAAAAAAAAAAAAAAAAAAAAAAAAAAAAAAAAAAAAAAAAAAAAAAAAAAAAAAAAAAAAAAAAAAAAAAAAAAAAAAAAAAAAAAAAAAAAAAAAAAAAAAAAAAAAAAAAAAAAAAAAAAAAAAAAAAAAAAAAAAAAAAAAAAAAAAAAAAAAAAAAAAAAAAAAAAAAAAAAAAAAAAAAAAAAAAAAAAAAAAAAAAAAAAAAAAAAAAAAAAAAAAAAAAAAAAAAAAAAAAAAAAAAAAAAAAAAAAAAAAAAAAAAAAAAAAAAAAAAAAAAAAAAAAAAAAAAAAAAAAAAAAAAAAAAAAAAAAAAAAAAAAAAAAAAAAAAAAAAAAAAAAAAAAAAAAAAAAAAAAAAAAAAAAAAAAAAAAAAAAAAAAAAAAAAAAAAAAAAAAAAAAAAAAAAAAAAAAAAAAAAAAAAAAAAAAAAAAAAAAAAAAAAAAAAAAAAAAAAAAAAAAAAAAAAAAAAAAAAAAAAAAAAAAAAAAAAAAAAAAAAAAAAAAAAAAAAAAAAAAAAAAAAAAAAAAAAAAAAAAAAAAAAAAAAAAAAAAAAAAAAAAAAAAAAAAAAAAAAAAAAAAAAAAAAAAAAAAAAAAAAAAAAAAAAAAAAAAAAAAAAAAAAAAAAAAAAAAAAAAAAAAAAAAAAAAAAAAAAAAAAAAAAAAAAAAAAAAAAAAAAAAAAAAAAAAAAAAAAAAAAAAAAAAAAAAAAAAAAAAAAAAAAAAAAAAAAAAAAAAAAAAAAAAAAAAAAAAAAAAAAAAAAAAAAAAAAAAAAAAAAAAAAAAAAAAAAAAAAAAAAAAAAAAAAAAAAAAAAAAAAAAAAAAAAAAAAAAAAAAAAAAAAAAAAAAAAAAAAAAAAAAAAAAAAAAAAAAAAAAAAAAAAAAAAAAAAAAAAAAAAAAAAAAAAAAAAAAAAAAAAAAAAAAAAAAAAAAAAAAAAAAAAAAAAAAAAAAAAAAAAAAAAAAAAAAAAAAAAAAAAAAAAAAAAAAAAAAAAAAAAAAAAAAAAAAAAAAAAAAAAAAAAAAAAAAAAAAAAAAAAAAAAAAAAAAAAAAAAAAAAAAAAAAAAAAAAAAAAAAAAAAAAAAAAAAAAAAAAAAAAAAAAAAAAAAAAAAAAAAAAAAAAAAAAAAAAAAAAAAAAAAAAAAAAAAAAAAAAAAAAAAAAAAAAAAAAAAAAAAAAAAAAAAAAAAAAAAAAAAAAAAAAAAAAAAAAAAAAAAAAAAAAAAAAAAAAAAAAAAAAAAAAAAAAAAAAAAAAAAAAAAAAAAAAAAAAAAAAAAAAAAAAAAAAAAAAAAAAAAAAAAAAAAAAAAAAAAAAAAAAAAAAAAAAAAAAAAAAAAAAAAAAAAAAAAAAAAAAAAAAAAAAAAAAAAAAAAAAAAAAAAAAAAAAAAAAAAAAAAAAAAAAAAAAAAAAAAAAAAAAAAAAAAAAAAAAAAAAAAAAAAAAAAAAAAAAAAAAAAAAAAAAAAAAAAAAAAAAAAAAAAAAAAAAAAAAAAAAAAAAAAAAAAAAAAAAAAAAAAAAAAAAAAAAAAAAAAAAAAAAAAAAAAAAAAAAAAAAAAAAAAAAAAAAAAAAAAAAAAAAAAAAAAAAAAAAAAAAAAAAAAAAAAAAAAAAAAAAAAAAAAAAAAAAAAAAAAAAAAAAAAAAAAAAAAAAAAAAAAAAAAAAAAAAAAAAAAAAAAAAAAAAAAAAAAAAAAAAAAAAAAAAAAAAAAAAAAAAAAAAAAAAAAAAAAAAAAAAAAAAAAAAAAAAAAAAAAAAAAAAAAAAAAAAAAAAAAAAAAAAAAAAAAAAAAAAAAAAAAAAAAAAAAAAAAAAAAAAAAAAAAAAAAAAAAAAAAAAAAAAAAAAAAAAAAAAAAAAAAAAAAAAAAAAAAAAAAAAAAAAAAAAAAAAAAAAAAAAAAAAAAAAAAAAAAAAAAAAAAAAAAAAAAAAAAAAAAAAAAAAAAAAAAAAAAAAAAAAAAAAAAAAAAAAAAAAAAAAAAAAAAAAAAAAAAAAAAAAAAAAAAAAAAAAAAAAAAAAAAAAAAAAAAAAAAAAAAAAAAAAAAAAAAAAAAAAAAAAAAAAAAAAAAAAAAAAAAAAAAAAAAAAAAAAAAAAAAAAAAAAAAAAAAAAAAAAAAAAAAAAAAAAAAAAAAAAAAAAAAAAAAAAAAAAAAAAAAAAAAAAAAAAAAAAAAAAAAAAAAAAAAAAAAAAAAAAAAAAAAAAAAAAAAAAAAAAAAAAAAAAAAAAAAAAAAAAAAAAAAAAAAAAAAAAAAAAAAAAAAAAAAAAAAAAAAAAAAAAAAAAAAAAAAAAAAAAAAAAAAAAAAAAAAAAAAAAAAAAAAAAAAAAAAAAAAAAAAAAAAAAAAAAAAAAAAAAAAAAAAAAAAAAAAAAAAAAAAAAAAAAAAAAAAAAAAAAAAAAAAAAAAAAAAAAAAAAAAAAAAAAAAAAAAAAAAAAAAAAAAAAAAAAAAAAAAAAAAAAAAAAAAAAAAAAAAAAAAAAAAAAAAAAAAAAAAAAAAAAAAAAAAAAAAAAAAAAAAAAAAAAAAAAAAAAAAAAAAAAAAAAAAAAAAAAAAAAAAAAAAAAAAAAAAAAAAAAAAAAAAAAAAAAAAAAAAAAAAAAAAAAAAAAAAAAAAAAAAAAAAAAAAAAAAAAAAAAAAAAAAAAAAAAAAAAAAAAAAAAAAAAAAAAAAAAAAAAAAAAAAAAAAAAAAAAAAAAAAAAAAAAAAAAAAAAAAAAAAAAAAAAAAAAAAAAAAAAAAAAAAAAAAAAAAAAAAAAAAAAAAAAAAAAAAAAAAAAAAAAAAAAAAAAAAAAAAAAAAAAAAAAAAAAAAAAAAAAAAAAAAAAAAAAAAAAAAAAAAAAAAAAAAAAAAAAAAAAAAAAAAAAAAAAAAAAAAAAAAAAAAAAAAAAAAAAAAAAAAAAAAAAAAAAAAAAAAAAAAAAAAAAAAAAAAAAAAAAAAAAAAAAAAAAAAAAAAAAAAAAAAAAAAAAAAAAAAAAAAAAAAAAAAAAAAAAAAAAAAAAAAAAAAAAAAAAAAAAAAAAAAAAAAAAAAAAAAAAAAAAAAAAAAAAAAAAAAAAAAAAAAAAAAAAAAAAAAAAAAAAAAAAAAAAAAAAAAAAAAAAAAAAAAAAAAAAAAAAAAAAAAAAAAAAAAAAAAAAAAAAAAAAAAAAAAAAAAAAAAAAAAAAAAAAAAAAAAAAAAAAAAAAAAAAAAAAAAAAAAAAAAAAAAAAAAAAAAAAAAAAAAAAAAAAAAAAAAAAAAAAAAAAAAAAAAAAAAAAAAAAAAAAAAAAAAAAAAAAAAAAAAAAAAAAAAAAAAAAAAAAAAAAAAAAAAAAAAAAAAAAAAAAAAAAAAAAAAAAAAAAAAAAAAAAAAAAAAAAAAAAAAAAAAAAAAAAAAAAAAAAAAAAAAAAAAAAAAAAAAAAAAAAAAAAAAAAAAAAAAAAAAAAAAAAAAAAAAAAAAAAAAAAAAAAAAAAAAAAAAAAAAAAAAAAAAAAAAAAAAAAAAAAAAAAAAAAAAAAAAAAAAAAAAAAAAAAAAAAAAAAAAAAAAAAAAAAAAAAAAAAAAAAAAAAAAAAAAAAAAAAAAAAAAAAAAAAAAAAAAAAAAAAAAAAAAAAAAAAAAAAAAAAAAAAAAAAAAAAAAAAAAAAAAAAAAAAAAAAAAAAAAAAAAAAAAAAAAAAAAAAAAAAAAAAAAAAAAAAAAAAAAAAAAAAAAAAAAAAAAAAAAAAAAAAAAAAAAAAAAAAAAAAAAAAAAAAAAAAAAAAAAAAAAAAAAAAAAAAAAAAAAAAAAAAAAAAAAAAAAAAAAAAAAAAAAAAAAAAAAAAAAAAAAAAAAAAAAAAAAAAAAAAAAAAAAAAAAAAAAAAAAAAAAAAAAAAAAAAAAAAAAAAAAAAAAAAAAAAAAAAAAAAAAAAAAAAAAAAAAAAAAAAAAAAAAAAAAAAAAAAAAAAAAAAAAAAAAAAAAAAAAAAAAAAAAAAAAAAAAAAAAAAAAAAAAAAAAAAAAAAAAAAAAAAAAAAAAAAAAAAAAAAAAAAAAAAAAAAAAAAAAAAAAAAAAAAAAAAAAAAAAAAAAAAAAAAAAAAAAAAAAAAAAAAAAAAAAAAAAAAAAAAAAAAAAAAAAAAAAAAAAAAAAAAAAAAAAAAAAAAAAAAAAAAAAAAAAAAAAAAAAAAAAAAAAAAAAAAAAAAAAAAAAAAAAAAAAAAAAAAAAAAAAAAAAAAAAAAAAAAAAAAAAAAAAAAAAAAAAAAAAAAAAAAAAAAAAAAAAAAAAAAAAAAAAAAAAAAAAAAAAAAAAAAAAAAAAAAAAAAAAAAAAAAAAAAAAAAAAAAAAAAAAAAAAAAAAAAAAAAAAAAAAAAAAAAAAAAAAAAAAAAAAAAAAAAAAAAAAAAAAAAAAAAAAAAAAAAAAAAAAAAAAAAAAAAAAAAAAAAAAAAAAAAAAAAAAAAAAAAAAAAAAAAAAAAAAAAAAAAAAAAAAAAAAAAAAAAAAAAAAAAAAAAAAAAAAAAAAAAAAAAAAAAAAAAAAAAAAAAAAAAAAAAAAAAAAAAAAAAAAAAAAAAAAAAAAAAAAAAAAAAAAAAAAAAAAAAAAAAAAAAAAAAAAAAAAAAAAAAAAAAAAAAAAAAAAAAAAAAAAAAAAAAAAAAAAAAAAAAAAAAAAAAAAAAAAAAAAAAAAAAAAAAAAAAAAAAAAAAAAAAAAAAAAAAAAAAAAAAAAAAAAAAAAAAAAAAAAAAAAAAAAAAAAAAAAAAAAAAAAAAAAAAAAAAAAAAAAAAAAAAAAAAAAAAAAAAAAAAAAAAAAAAAAAAAAAAAAAAAAAAAAAAAAAAAAAAAAAAAAAAAAAAAAAAAAAAAAAAAAAAAAAAAAAAAAAAAAAAAAAAAAAAAAAAAAAAAAAAAAAAAAAAAAAAAAAAAAAAAAAAAAAAAAAAAAAAAAAAAAAAAAAAAAAAAAAAAAAAAAAAAAAAAAAAAAAAAAAAAAAAAAAAAAAAAAAAAAAAAAAAAAAAAAAAAAAAAAAAAAAAAAAAAAAAAAAAAAAAAAAAAAAAAAAAAAAAAAAAAAAAAAAAAAAAAAAAAAAAAAAAAAAAAAAAAAAAAAAAAAAAAAAAAAAAAAAAAAAAAAAAAAAAAAAAAAAAAAAAAAAAAAAAAAAAAAAAAAAAAAAAAAAAAAAAAAAAAAAAAAAAAAAAAAAAAAAAAAAAAAAAAAAAAAAAAAAAAAAAAAAAAAAAAAAAAAAAAAAAAAAAAAAAAAAAAAAAAAAAAAAAAAAAAAAAAAAAAAAAAAAAAAAAAAAAAAAAAAAAAAAAAAAAAAAAAAAAAAAAAAAAAAAAAAAAAAAAAAAAAAAAAAAAAAAAAAAAAAAAAAAAAAAAAAAAAAAAAAAAAAAAAAAAAAAAAAAAAAAAAAAAAAAAAAAAAAAAAAAAAAAAAAAAAAAAAAAAAAAAAAAAAAAAAAAAAAAAAAAAAAAAAAAAAAAAAAAAAAAAAAAAAAAAAAAAAAAAAAAAAAAAAAAAAAAAAAAAAAAAAAAAAAAAAAAAAAAAAAAAAAAAAAAAAAAAAAAAAAAAAAAAAAAAAAAAAAAAAAAAAAAAAAAAAAAAAAAAAAAAAAAAAAAAAAAAAAAAAAAAAAAAAAAAAAAAAAAAAAAAAAAAAAAAAAAAAAAAAAAAAAAAAAAAAAAAAAAAAAAAAAAAAAAAAAAAAAAAAAAAAAAAAAAAAAAAAAAAAAAAAAAAAAAAAAAAAAAAAAAAAAAAAAAAAAAAAAAAAAAAAAAAAAAAAAAAAAAAAAAAAAAAAAAAAAAAAAAAAAAAAAAAAAAAAAAAAAAAAAAAAAAAAAAAAAAAAAAAAAAAAAAAAAAAAAAAAAAAAAAAAAAAAAAAAAAAAAAAAAAAAAAAAAAAAAAAAAAAAAAAAAAAAAAAAAAAAAAAAAAAAAAAAAAAAAAAAAAAAAAAAAAAAAAAAAAAAAAAAAAAAAAAAAAAAAAAAAAAAAAAAAAAAAAAAAAAAAAAAAAAAAAAAAAAAAAAAAAAAAAAAAAAAAAAAAAAAAAAAAAAAAAAAAAAAAAAAAAAAAAAAAAAAAAAAAAAAAAAAAAAAAAAAAAAAAAAAAAAAAAAAAAAAAAAAAAAAAAAAAAAAAAAAAAAAAAAAAAAAAAAAAAAAAAAAAAAAAAAAAAAAAAAAAAAAAAAAAAAAAAAAAAAAAAAAAAAAAAAAAAAAAAAAAAAAAAAAAAAAAAAAAAAAAAAAAAAAAAAAAAAAAAAAAAAAAAAAAAAAAAAAAAAAAAAAAAAAAAAAAAAAAAAAAAAAAAAAAAAAAAAAAAAAAAAAAAAAAAAAAAAAAAAAAAAAAAAAAAAAAAAAAAAAAAAAAAAAAAAAAAAAAAAAAAAAAAAAAAAAAAAAAAAAAAAAAAAAAAAAAAAAAAAAAAAAAAAAAAAAAAAAAAAAAAAAAAAAAAAAAAAAAAAAAAAAAAAAAAAAAAAAAAAAAAAAAAAAAAAAAAAAAAAAAAAAAAAAAAAAAAAAAAAAAAAAAAAAAAAAAAAAAAAAAAAAAAAAAAAAAAAAAAAAAAAAAAAAAAAAAAAAAAAAAAAAAAAAAAAAAAAAAAAAAAAAAAAAAAAAAAAAAAAAAAAAAAAAAAAAAAAAAAAAAAAAAAAAAAAAAAAAAAAAAAAAAAAAAAAAAAAAAAAAAAAAAAAAAAAAAAAAAAAAAAAAAAAAAAAAAAAAAAAAAAAAAAAAAAAAAAAAAAAAAAAAAAAAAAAAAAAAAAAAAAAAAAAAAAAAAAAAAAAAAAAAAAAAAAAAAAAAAAAAAAAAAAAAAAAAAAAAAAAAAAAAAAAAAAAAAAAAAAAAAAAAAAAAAAAAAAAAAAAAAAAAAAAAAAAAAAAAAAAAAAAAAAAAAAAAAAAAAAAAAAAAAAAAAAAAAAAAAAAAAAAAAAAAAAAAAAAAAAAAAAAAAAAAAAAAAAAAAAAAAAAAAAAAAAAAAAAAAAAAAAAAAAAAAAAAAAAAAAAAAAAAAAAAAAAAAAAAAAAAAAAAAAAAAAAAAAAAAAAAAAAAAAAAAAAAAAAAAAAAAAAAAAAAAAAAAAAAAAAAAAAAAAAAAAAAAAAAAAAAAAAAAAAAAAAAAAAAAAAAAAAAAAAAAAAAAAAAAAAAAAAAAAAAAAAAAAAAAAAAAAAAAAAAAAAAAAAAAAAAAAAAAAAAAAAAAAAAAAAAAAAAAAAAAAAAAAAAAAAAAAAAAAAAAAAAAAAAAAAAAAAAAAAAAAAAAAAAAAAAAAAAAAAAAAAAAAAAAAAAAAAAAAAAAAAAAAAAAAAAAAAAAAAAAAAAAAAAAAAAAAAAAAAAAAAAAAAAAAAAAAAAAAAAAAAAAAAAAAAAAAAAAAAAAAAAAAAAAAAAAAAAAAAAAAAAAAAAAAAAAAAAAAAAAAAAAAAAAAAAAAAAAAAAAAAAAAAAAAAAAAAAAAAAAAAAAAAAAAAAAAAAAAAAAAAAAAAAAAAAAAAAAAAAAAAAAAAAAAAAAAAAAAAAAAAAAAAAAAAAAAAAAAAAAAAAAAAAAAAAAAAAAAAAAAAAAAAAAAAAAAAAAAAAAAAAAAAAAAAAAAAAAAAAAAAAAAAAAAAAAAAAAAAAAAAAAAAAAAAAAAAAAAAAAAAAAAAAAAAAAAAAAAAAAAAAAAAAAAAAAAAAAAAAAAAAAAAAAAAAAAAAAAAAAAAAAAAAAAAAAAAAAAAAAAAAAAAAAAAAAAAAAAAAAAAAAAAAAAAAAAAAAAAAAAAAAAAAAAAAAAAAAAAAAAAAAAAAAAAAAAAAAAAAAAAAAAAAAAAAAAAAAAAAAAAAAAAAAAAAAAAAAAAAAAAAAAAAAAAAAAAAAAAAAAAAAAAAAAAAAAAAAAAAAAAAAAAAAAAAAAAAAAAAAAAAAAAAAAAAAAAAAAAAAAAAAAAAAAAAAAAAAAAAAAAAAAAAAAAAAAAAAAAAAAAAAAAAAAAAAAAAAAAAAAAAAAAAAAAAAAAAAAAAAAAAAAAAAAAAAAAAAAAAAAAAAAAAAAAAAAAAAAAAAAAAAAAAAAAAAAAAAAAAAAAAAAAAAAAAAAAAAAAAAAAAAAAAAAAAAAAAAAAAAAAAAAAAAAAAAAAAAAAAAAAAAAAAAAAAAAAAAAAAAAAAAAAAAAAAAAAAAAAAAAAAAAAAAAAAAAAAAAAAAAAAAAAAAAAAAAAAAAAAAAAAAAAAAAAAAAAAAAAAAAAAAAAAAAAAAAAAAAAAAAAAAAAAAAAAAAAAAAAAAAAAAAAAAAAAAAAAAAAAAAAAAAAAAAAAAAAAAAAAAAAAAAAAAAAAAAAAAAAAAAAAAAAAAAAAAAAAAAAAAAAAAAAAAAAAAAAAAAAAAAAAAAAAAAAAAAAAAAAAAAAAAAAAAAAAAAAAAAAAAAAAAAAAAAAAAAAAAAAAAAAAAAAAAAAAAAAAAAAAAAAAAAAAAAAAAAAAAAAAAAAAAAAAAAAAAAAAAAAAAAAAAAAAAAAAAAAAAAAAAAAAAAAAAAAAAAAAAAAAAAAAAAAAAAAAAAAAAAAAAAAAAAAAAAAAAAAAAAAAAAAAAAAAAAAAAAAAAAAAAAAAAAAAAAAAAAAAAAAAAAAAAAAAAAAAAAAAAAAAAAAAAAAAAAAAAAAAAAAAAAAAAAAAAAAAAAAAAAAAAAAAAAAAAAAAAAAAAAAAAAAAAAAAAAAAAAAAAAAAAAAAAAAAAAAAAAAAAAAAAAAAAAAAAAAAAAAAAAAAAAAAAAAAAAAAAAAAAAAAAAAAAAAAAAAAAAAAAAAAAAAAAAAAAAAAAAAAAAAAAAAAAAAAAAAAAAAAAAAAAAAAAAAAAAAAAAAAAAAAAAAAAAAAAAAAAAAAAAAAAAAAAAAAAAAAAAAAAAAAAAAAAAAAAAAAAAAAAAAAAAAAAAAAAAAAAAAAAAAAAAAAAAAAAAAAAAAAAAAAAAAAAAAAAAAAAAAAAAAAAAAAAAAAAAAAAAAAAAAAAAAAAAAAAAAAAAAAAAAAAAAAAAAAAAAAAAAAAAAAAAAAAAAAAAAAAAAAAAAAAAAAAAAAAAAAAAAAAAAAAAAAAAAAAAAAAAAAAAAAAAAAAAAAAAAAAAAAAAAAAAAAAAAAAAAAAAAAAAAAAAAAAAAAAAAAAAAAAAAAAAAAAAAAAAAAAAAAAAAAAAAAAAAAAAAAAAAAAAAAAAAAAAAAAAAAAAAAAAAAAAAAAAAAAAAAAAAAAAAAAAAAAAAAAAAAAAAAAAAAAAAAAAAAAAAAAAAAAAAAAAAAAAAAAAAAAAAAAAAAAAAAAAAAAAAAAAAAAAAAAAAAAAAAAAAAAAAAAAAAAAAAAAAAAAAAAAAAAAAAAAAAAAAAAAAAAAAAAAAAAAAAAAAAAAAAAAAAAAAAAAAAAAAAAAAAAAAAAAAAAAAAAAAAAAAAAAAAAAAAAAAAAAAAAAAAAAAAAAAAAAAAAAAAAAAAAAAAAAAAAAAAAAAAAAAAAAAAAAAAAAAAAAAAAAAAAAAAAAAAAAAAAAAAAAAAAAAAAAAAAAAAAAAAAAAAAAAAAAAAAAAAAAAAAAAAAAAAAAAAAAAAAAAAAAAAAAAAAAAAAAAAAAAAAAAAAAAAAAAAAAAAAAAAAAAAAAAAAAAAAAAAAAAAAAAAAAAAAAAAAAAAAAAAAAAAAAAAAAAAAAAAAAAAAAAAAAAAAAAAAAAAAAAAAAAAAAAAAAAAAAAAAAAAAAAAAAAAAAAAAAAAAAAAAAAAAAAAAAAAAAAAAAAAAAAAAAAAAAAAAAAAAAAAAAAAAAAAAAAAAAAAAAAAAAAAAAAAAAAAAAAAAAAAAAAAAAAAAAAAAAAAAAAAAAAAAAAAAAAAAAAAAAAAAAAAAAAAAAAAAAAAAAAAAAAAAAAAAAAAAAAAAAAAAAAAAAAAAAAAAAAAAAAAAAAAAAAAAAAAAAAAAAAAAAAAAAAAAAAAAAAAAAAAAAAAAAAAAAAAAAAAAAAAAAAAAAAAAAAAAAAAAAAAAAAAAAAAAAAAAAAAAAAAAAAAAAAAAAAAAAAAAAAAAAAAAAAAAAAAAAAAAAAAAAAAAAAAAAAAAAAAAAAAAAAAAAAAAAAAAAAAAAAAAAAAAAAAAAAAAAAAAAAAAAAAAAAAAAAAAAAAAAAAAAAAAAAAAAAAAAAAAAAAAAAAAAAAAAAAAAAAAAAAAAAAAAAAAAAAAAAAAAAAAAAAAAAAAAAAAAAAAAAAAAAAAAAAAAAAAAAAAAAAAAAAAAAAAAAAAAAAAAAAAAAAAAAAAAAAAAAAAAAAAAAAAAAAAAAAAAAAAAAAAAAAAAAAAAAAAAAAAAAAAAAAAAAAAAAAAAAAAAAAAAAAAAAAAAAAAAAAAAAAAAAAAAAAAAAAAAAAAAAAAAAAAAAAAAAAAAAAAAAAAAAAAAAAAAAAAAAAAAAAAAAAAAAAAAAAAAAAAAAAAAAAAAAAAAAAAAAAAAAAAAAAAAAAAAAAAAAAAAAAAAAAAAAAAAAAAAAAAAAAAAAAAAAAAAAAAAAAAAAAAAAAAAAAAAAAAAAAAAAAAAAAAAAAAAAAAAAAAAAAAAAAAAAAAAAAAAAAAAAAAAAAAAAAAAAAAAAAAAAAAAAAAAAAAAAAAAAAAAAAAAAAAAAAAAAAAAAAAAAAAAAAAAAAAAAAAAAAAAAAAAAAAAAAAAAAAAAAAAAAAAAAAAAAAAAAAAAAAAAAAAAAAAAAAAAAAAAAAAAAAAAAAAAAAAAAAAAAAAAAAAAAAAAAAAAAAAAAAAAAAAAAAAAAAAAAAAAAAAAAAAAAAAAAAAAAAAAAAAAAAAAAAAAAAAAAAAAAAAAAAAAAAAAAAAAAAAAAAAAAAAAAAAAAAAAAAAAAAAAAAAAAAAAAAAAAAAAAAAAAAAAAAAAAAAAAAAAAAAAAAAAAAAAAAAAAAAAAAAAAAAAAAAAAAAAAAAAAAAAAAAAAAAAAAAAAAAAAAAAAAAAAAAAAAAAAAAAAAAAAAAAAAAAAAAAAAAAAAAAAAAAAAAAAAAAAAAAAAAAAAAAAAAAAAAAAAAAAAAAAAAAAAAAAAAAAAAAAAAAAAAAAAAAAAAAAAAAAAAAAAAAAAAAAAAAAAAAAAAAAAAAAAAAAAAAAAAAAAAAAAAAAAAAAAAAAAAAAAAAAAAAAAAAAAAAAAAAAAAAAAAAAAAAAAAAAAAAAAAAAAAAAAAAAAAAAAAAAAAAAAAAAAAAAAAAAAAAAAAAAAAAAAAAAAAAAAAAAAAAAAAAAAAAAAAAAAAAAAAAAAAAAAAAAAAAAAAAAAAAAAAAAAAAAAAAAAAAAAAAAAAAAAAAAAAAAAAAAAAAAAAAAAAAAAAAAAAAAAAAAAAAAAAAAAAAAAAAAAAAAAAAAAAAAAAAAAAAAAAAAAAAAAAAAAAAAAAAAAAAAAAAAAAAAAAAAAAAAAAAAAAAAAAAAAAAAAAAAAAAAAAAAAAAAAAAAAAAAAAAAAAAAAAAAAAAAAAAAAAAAAAAAAAAAAAAAAAAAAAAAAAAAAAAAAAAAAAAAAAAAAAAAAAAAAAAAAAAAAAAAAAAAAAAAAAAAAAAAAAAAAAAAAAAAAAAAAAAAAAAAAAAAAAAAAAAAAAAAAAAAAAAAAAAAAAAAAAAAAAAAAAAAAAAAAAAAAAAAAAAAAAAAAAAAAAAAAAAAAAAAAAAAAAAAAAAAAAAAAAAAAAAAAAAAAAAAAAAAAAAAAAAAAAAAAAAAAAAAAAAAAAAAAAAAAAAAAAAAAAAAAAAAAAAAAAAAAAAAAAAAAAAAAAAAAAAAAAAAAAAAAAAAAAAAAAAAAAAAAAAAAAAAAAAAAAAAAAAAAAAAAAAAAAAAAAAAAAAAAAAAAAAAAAAAAAAAAAAAAAAAAAAAAAAAAAAAAAAAAAAAAAAAAAAAAAAAAAAAAAAAAAAAAAAAAAAAAAAAAAAAAAAAAAAAAAAAAAAAAAAAAAAAAAAAAAAAAAAAAAAAAAAAAAAAAAAAAAAAAAAAAAAAAAAAAAAAAAAAAAAAAAAAAAAAAAAAAAAAAAAAAAAAAAAAAAAAAAAAAAAAAAAAAAAAAAAAAAAAAAAAAAAAAAAAAAAAAAAAAAAAAAAAAAAAAAAAAAAAAAAAAAAAAAAAAAAAAAAAAAAAAAAAAAAAAAAAAAAAAAAAAAAAAAAAAAAAAAAAAAAAAAAAAAAAAAAAAAAAAAAAAAAAAAAAAAAAAAAAAAAAAAAAAAAAAAAAAAAAAAAAAAAAAAAAAAAAAAAAAAAAAAAAAAAAAAAAAAAAAAAAAAAAAAAAAAAAAAAAAAAAAAAAAAAAAAAAAAAAAAAAAAAAAAAAAAAAAAAAAAAAAAAAAAAAAAAAAAAAAAAAAAAAAAAAAAAAAAAAAAAAAAAAAAAAAAAAAAAAAAAAAAAAAAAAAAAAAAAAAAAAAAAAAAAAAAAAAAAAAAAAAAAAAAAAAAAAAAAAAAAAAAAAAAAAAAAAAAAAAAAAAAAAAAAAAAAAAAAAAAAAAAAAAAAAAAAAAAAAAAAAAAAAAAAAAAAAAAAAAAAAAAAAAAAAAAAAAAAAAAAAAAAAAAAAAAAAAAAAAAAAAAAAAAAAAAAAAAAAAAAAAAAAAAAAAAAAAAAAAAAAAAAAAAAAAAAAAAAAAAAAAAAAAAAAAAAAAAAAAAAAAAAAAAAAAAAAAAAAAAAAAAAAAAAAAAAAAAAAAAAAAAAAAAAAAAAAAAAAAAAAAAAAAAAAAAAAAAAAAAAAAAAAAAAAAAAAAAAAAAAAAAAAAAAAAAAAAAAAAAAAAAAAAAAAAAAAAAAAAAAAAAAAAAAAAAAAAAAAAAAAAAAAAAAAAAAAAAAAAAAAAAAAAAAAAAAAAAAAAAAAAAAAAAAAAAAAAAAAAAAAAAAAAAAAAAAAAAAAAAAAAAAAAAAAAAAAAAAAAAAAAAAAAAAAAAAAAAAAAAAAAAAAAAAAAAAAAAAAAAAAAAAAAAAAAAAAAAAAAAAAAAAAAAAAAAAAAAAAAAAAAAAAAAAAAAAAAAAAAAAAAAAAAAAAAAAAAAAAAAAAAAAAAAAAAAAAAAAAAAAAAAAAAAAAAAAAAAAAAAAAAAAAAAAAAAAAAAAAAAAAAAAAAAAAAAAAAAAAAAAAAAAAAAAAAAAAAAAAAAAAAAAAAAAAAAAAAAAAAAAAAAAAAAAAAAAAAAAAAAAAAAAAAAAAAAAAAAAAAAAAAAAAAAAAAAAAAAAAAAAAAAAAAAAAAAAAAAAAAAAAAAAAAAAAAAAAAAAAAAAAAAAAAAAAAAAAAAAAAAAAAAAAAAAAAAAAAAAAAAAAAAAAAAAAAAAAAAAAAAAAAAAAAAAAAAAAAAAAAAAAAAAAAAAAAAAAAAAAAAAAAAAAAAAAAAAAAAAAAAAAAAAAAAAAAAAAAAAAAAAAAAAAAAAAAAAAAAAAAAAAAAAAAAAAAAAAAAAAAAAAAAAAAAAAAAAAAAAAAAAAAAAAAAAAAAAAAAAAAAAAAAAAAAAAAAAAAAAAAAAAAAAAAAAAAAAAAAAAAAAAAAAAAAAAAAAAAAAAAAAAAAAAAAAAAAAAAAAAAAAAAAAAAAAAAAAAAAAAAAAAAAAAAAAAAAAAAAAAAAAAAAAAAAAAAAAAAAAAAAAAAAAAAAAAAAAAAAAAAAAAAAAAAAAAAAAAAAAAAAAAAAAAAAAAAAAAAAAAAAAAAAAAAAAAAAAAAAAAAAAAAAAAAAAAAAAAAAAAAAAAAAAAAAAAAAAAAAAAAAAAAAAAAAAAAAAAAAAAAAAAAAAAAAAAAAAAAAAAAAAAAAAAAAAAAAAAAAAAAAAAAAAAAAAAAAAAAAAAAAAAAAAAAAAAAAAAAAAAAAAAAAAAAAAAAAAAAAAAAAAAAAAAAAAAAAAAAAAAAAAAAAAAAAAAAAAAAAAAAAAAAAAAAAAAAAAAAAAAAAAAAAAAAAAAAAAAAAAAAAAAAAAAAAAAAAAAAAAAAAAAAAAAAAAAAAAAAAAAAAAAAAAAAAAAAAAAAAAAAAAAAAAAAAAAAAAAAAAAAAAAAAAAAAAAAAAAAAAAAAAAAAAAAAAAAAAAAAAAAAAAAAAAAAAAAAAAAAAAAAAAAAAAAAAAAAAAAAAAAAAAAAAAAAAAAAAAAAAAAAAAAAAAAAAAAAAAAAAAAAAAAAAAAAAAAAAAAAAAAAAAAAAAAAAAAAAAAAAAAAAAAAAAAAAAAAAAAAAAAAAAAAAAAAAAAAAAAAAAAAAAAAAAAAAAAAAAAAAAAAAAAAAAAAAAAAAAAAAAAAAAAAAAAAAAAAAAAAAAAAAAAAAAAAAAAAAAAAAAAAAAAAAAAAAAAAAAAAAAAAAAAAAAAAAAAAAAAAAAAAAAAAAAAAAAAAAAAAAAAAAAAAAAAAAAAAAAAAAAAAAAAAAAAAAAAAAAAAAAAAAAAAAAAAAAAAAAAAAAAAAAAAAAAAAAAAAAAAAAAAAAAAAAAAAAAAAAAAAAAAAAAAAAAAAAAAAAAAAAAAAAAAAAAAAAAAAAAAAAAAAAAAAAAAAAAAAAAAAAAAAAAAAAAAAAAAAAAAAAAAAAAAAAAAAAAAAAAAAAAAAAAAAAAAAAAAAAAAAAAAAAAAAAAAAAAAAAAAAAAAAAAAAAAAAAAAAAAAAAAAAAAAAAAAAAAAAAAAAAAAAAAAAAAAAAAAAAAAAAAAAAAAAAAAAAAAAAAAAAAAAAAAAAAAAAAAAAAAAAAAAAAAAAAAAAAAAAAAAAAAAAAAAAAAAAAAAAAAAAAAAAAAAAAAAAAAAAAAAAAAAAAAAAAAAAAAAAAAAAAAAAAAAAAAAAAAAAAAAAAAAAAAAAAAAAAAAAAAAAAAAAAAAAAAAAAAAAAAAAAAAAAAAAAAAAAAAAAAAAAAAAAAAAAAAAAAAAAAAAAAAAAAAAAAAAAAAAAAAAAAAAAAAAAAAAAAAAAAAAAAAAAAAAAAAAAAAAAAAAAAAAAAAAAAAAAAAAAAAAAAAAAAAAAAAAAAAAAAAAAAAAAAAAAAAAAAAAAAAAAAAAAAAAAAAAAAAAAAAAAAAAAAAAAAAAAAAAAAAAAAAAAAAAAAAAAAAAAAAAAAAAAAAAAAAAAAAAAAAAAAAAAAAAAAAAAAAAAAAAAAAAAAAAAAAAAAAAAAAAAAAAAAAAAAAAAAAAAAAAAAAAAAAAAAAAAAAAAAAAAAAAAAAAAAAAAAAAAAAAAAAAAAAAAAAAAAAAAAAAAAAAAAAAAAAAAAAAAAAAAAAAAAAAAAAAAAAAAAAAAAAAAAAAAAAAAAAAAAAAAAAAAAAAAAAAAAAAAAAAAAAAAAAAAAAAAAAAAAAAAAAAAAAAAAAAAAAAAAAAAAAAAAAAAAAAAAAAAAAAAAAAAAAAAAAAAAAAAAAAAAAAAAAAAAAAAAAAAAAAAAAAAAAAAAAAAAAAAAAAAAAAAAAAAAAAAAAAAAAAAAAAAAAAAAAAAAAAAAAAAAAAAAAAAAAAAAAAAAAAAAAAAAAAAAAAAAAAAAAAAAAAAAAAAAAAAAAAAAAAAAAAAAAAAAAAAAAAAAAAAAAAAAAAAAAAAAAAAAAAAAAAAAAAAAAAAAAAAAAAAAAAAAAAAAAAAAAAAAAAAAAAAAAAAAAAAAAAAAAAAAAAAAAAAAAAAAAAAAAAAAAAAAAAAAAAAAAAAAAAAAAAAAAAAAAAAAAAAAAAAAAAAAAAAAAAAAAAAAAAAAAAAAAAAAAAAAAAAAAAAAAAAAAAAAAAAAAAAAAAAAAAAAAAAAAAAAAAAAAAAAAAAAAAAAAAAAAAAAAAAAAAAAAAAAAAAAAAAAAAAAAAAAAAAAAAAAAAAAAAAAAAAAAAAAAAAAAAAAAAAAAAAAAAAAAAAAAAAAAAAAAAAAAAAAAAAAAAAAAAAAAAAAAAAAAAAAAAAAAAAAAAAAAAAAAAAAAAAAAAAAAAAAAAAAAAAAAAAAAAAAAAAAAAAAAAAAAAAAAAAAAAAAAAAAAAAAAAAAAAAAAAAAAAAAAAAAAAAAAAAAAAAAAAAAAAAAAAAAAAAAAAAAAAAAAAAAAAAAAAAAAAAAAAAAAAAAAAAAAAAAAAAAAAAAAAAAAAAAAAAAAAAAAAAAAAAAAAAAAAAAAAAAAAAAAAAAAAAAAAAAAAAAAAAAAAAAAAAAAAAAAAAAAAAAAAAAAAAAAAAAAAAAAAAAAAAAAAAAAAAAAAAAAAAAAAAAAAAAAAAAAAAAAAAAAAAAAAAAAAAAAAAAAAAAAAAAAAAAAAAAAAAAAAAAAAAAAAAAAAAAAAAAAAAAAAAAAAAAAAAAAAAAAAAAAAAAAAAAAAAAAAAAAAAAAAAAAAAAAAAAAAAAAAAAAAAAAAAAAAAAAAAAAAAAAAAAAAAAAAAAAAAAAAAAAAAAAAAAAAAAAAAAAAAAAAAAAAAAAAAAAAAAAAAAAAAAAAAAAAAAAAAAAAAAAAAAAAAAAAAAAAAAAAAAAAAAAAAAAAAAAAAAAAAAAAAAAAAAAAAAAAAAAAAAAAAAAAAAAAAAAAAAAAAAAAAAAAAAAAAAAAAAAAAAAAAAAAAAAAAAAAAAAAAAAAAAAAAAAAAAAAAAAAAAAAAAAAAAAAAAAAAAAAAAAAAAAAAAAAAAAAAAAAAAAAAAAAAAAAAAAAAAAAAAAAAAAAAAAAAAAAAAAAAAAAAAAAAAAAAAAAAAAAAAAAAAAAAAAAAAAAAAAAAAAAAAAAAAAAAAAAAAAAAAAAAAAAAAAAAAAAAAAAAAAAAAAAAAAAAAAAAAAAAAAAAAAAAAAAAAAAAAAAAAAAAAAAAAAAAAAAAAAAAAAAAAAAAAAAAAAAAAAAAAAAAAAAAAAAAAAAAAAAAAAAAAAAAAAAAAAAAAAAAAAAAAAAAAAAAAAAAAAAAAAAAAAAAAAAAAAAAAAAAAAAAAAAAAAAAAAAAAAAAAAAAAAAAAAAAAAAAAAAAAAAAAAAAAAAAAAAAAAAAAAAAAAAAAAAAAAAAAAAAAAAAAAAAAAAAAAAAAAAAAAAAAAAAAAAAAAAAAAAAAAAAAAAAAAAAAAAAAAAAAAAAAAAAAAAAAAAAAAAAAAAAAAAAAAAAAAAAAAAAAAAAAAAAAAAAAAAAAAAAAAAAAAAAAAAAAAAAAAAAAAAAAAAAAAAAAAAAAAAAAAAAAAAAAAAAAAAAAAAAAAAAAAAAAAAAAAAAAAAAAAAAAAAAAAAAAAAAAAAAAAAAAAAAAAAAAAAAAAAAAAAAAAAAAAAAAAAAAAAAAAAAAAAAAAAAAAAAAAAAAAAAAAAAAAAAAAAAAAAAAAAAAAAAAAAAAAAAAAAAAAAAAAAAAAAAAAAAAAAAAAAAAAAAAAAAAAAAAAAAAAAAAAAAAAAAAAAAAAAAAAAAAAAAAAAAAAAAAAAAAAAAAAAAAAAAAAAAAAAAAAAAAAAAAAAAAAAAAAAAAAAAAAAAAAAAAAAAAAAAAAAAAAAAAAAAAAAAAAAAAAAAAAAAAAAAAAAAAAAAAAAAAAAAAAAAAAAAAAAAAAAAAAAAAAAAAAAAAAAAAAAAAAAAAAAAAAAAAAAAAAAAAAAAAAAAAAAAAAAAAAAAAAAAAAAAAAAAAAAAAAAAAAAAAAAAAAAAAAAAAAAAAAAAAAAAAAAAAAAAAAAAAAAAAAAAAAAAAAAAAAAAAAAAAAAAAAAAAAAAAAAAAAAAAAAAAAAAAAAAAAAAAAAAAAAAAAAAAAAAAAAAAAAAAAAAAAAAAAAAAAAAAAAAAAAAAAAAAAAAAAAAAAAAAAAAAAAAAAAAAAAAAAAAAAAAAAAAAAAAAAAAAAAAAAAAAAAAAAAAAAAAAAAAAAAAAAAAAAAAAAAAAAAAAAAAAAAAAAAAAAAAAAAAAAAAAAAAAAAAAAAAAAAAAAAAAAAAAAAAAAAAAAAAAAAAAAAAAAAAAAAAAAAAAAAAAAAAAAAAAAAAAAAAAAAAAAAAAAAAAAAAAAAAAAAAAAAAAAAAAAAAAAAAAAAAAAAAAAAAAAAAAAAAAAAAAAAAAAAAAAAAAAAAAAAAAAAAAAAAAAAAAAAAAAAAAAAAAAAAAAAAAAAAAAAAAAAAAAAAAAAAAAAAAAAAAAAAAAAAAAAAAAAAAAAAAAAAAAAAAAAAAAAAAAAAAAAAAAAAAAAAAAAAAAAAAAAAAAAAAAAAAAAAAAAAAAAAAAAAAAAAAAAAAAAAAAAAAAAAAAAAAAAAAAAAAAAAAAAAAAAAAAAAAAAAAAAAAAAAAAAAAAAAAAAAAAAAAAAAAAAAAAAAAAAAAAAAAAAAAAAAAAAAAAAAAAAAAAAAAAAAAAAAAAAAAAAAAAAAAAAAAAAAAAAAAAAAAAAAAAAAAAAAAAAAAAAAAAAAAAAAAAAAAAAAAAAAAAAAAAAAAAAAAAAAAAAAAAAAAAAAAAAAAAAAAAAAAAAAAAAAAAAAAAAAAAAAAAAAAAAAAAAAAAAAAAAAAAAAAAAAAAAAAAAAAAAAAAAAAAAAAAAAAAAAAAAAAAAAAAAAAAAAAAAAAAAAAAAAAAAAAAAAAAAAAAAAAAAAAAAAAAAAAAAAAAAAAAAAAAAAAAAAAAAAAAAAAAAAAAAAAAAAAAAAAAAAAAAAAAAAAAAAAAAAAAAAAAAAAAAAAAAAAAAAAAAAAAAAAAAAAAAAAAAAAAAAAAAAAAAAAAAAAAAAAAAAAAAAAAAAAAAAAAAAAAAAAAAAAAAAAAAAAAAAAAAAAAAAAAAAAAAAAAAAAAAAAAAAAAAAAAAAAAAAAAAAAAAAAAAAAAAAAAAAAAAAAAAAAAAAAAAAAAAAAAAAAAAAAAAAAAAAAAAAAAAAAAAAAAAAAAAAAAAAAAAAAAAAAAAAAAAAAAAAAAAAAAAAAAAAAAAAAAAAAAAAAAAAAAAAAAAAAAAAAAAAAAAAAAAAAAAAAAAAAAAAAAAAAAAAAAAAAAAAAAAAAAAAAAAAAAAAAAAAAAAAAAAAAAAAAAAAAAAAAAAAAAAAAAAAAAAAAAAAAAAAAAAAAAAAAAAAAAAAAAAAAAAAAAAAAAAAAAAAAAAAAAAAAAAAAAAAAAAAAAAAAAAAAAAAAAAAAAAAAAAAAAAAAAAAAAAAAAAAAAAAAAAAAAAAAAAAAAAAAAAAAAAAAAAAAAAAAAAAAAAAAAAAAAAAAAAAAAAAAAAAAAAAAAAAAAAAAAAAAAAAAAAAAAAAAAAAAAAAAAAAAAAAAAAAAAAAAAAAAAAAAAAAAAAAAAAAAAAAAAAAAAAAAAAAAAAAAAAAAAAAAAAAAAAAAAAAAAAAAAAAAAAAAAAAAAAAAAAAAAAAAAAAAAAAAAAAAAAAAAAAAAAAAAAAAAAAAAAAAAAAAAAAAAAAAAAAAAAAAAAAAAAAAAAAAAAAAAAAAAAAAAAAAAAAAAAAAAAAAAAAAAAAAAAAAAAAAAAAAAAAAAAAAAAAAAAAAAAAAAAAAAAAAAAAAAAAAAAAAAAAAAAAAAAAAAAAAAAAAAAAAAAAAAAAAAAAAAAAAAAAAAAAAAAAAAAAAAAAAAAAAAAAAAAAAAAAAAAAAAAAAAAAAAAAAAAAAAAAAAAAAAAAAAAAAAAAAAAAAAAAAAAAAAAAAAAAAAAAAAAAAAAAAAAAAAAAAAAAAAAAAAAAAAAAAAAAAAAAAAAAAAAAAAAAAAAAAAAAAAAAAAAAAAAAAAAAAAAAAAAAAAAAAAAAAAAAAAAAAAAAAAAAAAAAAAAAAAAAAAAAAAAAAAAAAAAAAAAAAAAAAAAAAAAAAAAAAAAAAAAAAAAAAAAAAAAAAAAAAAAAAAAAAAAAAAAAAAAAAAAAAAAAAAAAAAAAAAAAAAAAAAAAAAAAAAAAAAAAAAAAAAAAAAAAAAAAAAAAAAAAAAAAAAAAAAAAAAAAAAAAAAAAAAAAAAAAAAAAAAAAAAAAAAAAAAAAAAAAAAAAAAAAAAAAAAAAAAAAAAAAAAAAAAAAAAAAAAAAAAAAAAAAAAAAAAAAAAAAAAAAAAAAAAAAAAAAAAAAAAAAAAAAAAAAAAAAAAAAAAAAAAAAAAAAAAAAAAAAAAAAAAAAAAAAAAAAAAAAAAAAAAAAAAAAAAAAAAAAAAAAAAAAAAAAAAAAAAAAAAAAAAAAAAAAAAAAAAAAAAAAAAAAAAAAAAAAAAAAAAAAAAAAAAAAAAAAAAAAAAAAAAAAAAAAAAAAAAAAAAAAAAAAAAAAAAAAAAAAAAAAAAAAAAAAAAAAAAAAAAAAAAAAAAAAAAAAAAAAAAAAAAAAAAAAAAAAAAAAAAAAAAAAAAAAAAAAAAAAAAAAAAAAAAAAAAAAAAAAAAAAAAAAAAAAAAAAAAAAAAAAAAAAAAAAAAAAAAAAAAAAAAAAAAAAAAAAAAAAAAAAAAAAAAAAAAAAAAAAAAAAAAAAAAAAAAAAAAAAAAAAAAAAAAAAAAAAAAAAAAAAAAAAAAAAAAAAAAAAAAAAAAAAAAAAAAAAAAAAAAAAAAAAAAAAAAAAAAAAAAAAAAAAAAAAAAAAAAAAAAAAAAAAAAAAAAAAAAAAAAAAAAAAAAAAAAAAAAAAAAAAAAAAAAAAAAAAAAAAAAAAAAAAAAAAAAAAAAAAAAAAAAAAAAAAAAAAAAAAAAAAAAAAAAAAAAAAAAAAAAAAAAAAAAAAAAAAAAAAAAAAAAAAAAAAAAAAAAAAAAAAAAAAAAAAAAAAAAAAAAAAAAAAAAAAAAAAAAAAAAAAAAAAAAAAAAAAAAAAAAAAAAAAAAAAAAAAAAAAAAAAAAAAAAAAAAAAAAAAAAAAAAAAAAAAAAAAAAAAAAAAAAAAAAAAAAAAAAAAAAAAAAAAAAAAAAAAAAAAAAAAAAAAAAAAAAAAAAAAAAAAAAAAAAAAAAAAAAAAAAAAAAAAAAAAAAAAAAAAAAAAAAAAAAAAAAAAAAAAAAAAAAAAAAAAAAAAAAAAAAAAAAAAAAAAAAAAAAAAAAAAAAAAAAAAAAAAAAAAAAAAAAAAAAAAAAAAAAAAAAAAAAAAAAAAAAAAAAAAAAAAAAAAAAAAAAAAAAAAAAAAAAAAAAAAAAAAAAAAAAAAAAAAAAAAAAAAAAAAAAAAAAAAAAAAAAAAAAAAAAAAAAAAAAAAAAAAAAAAAAAAAAAAAAAAAAAAAAAAAAAAAAAAAAAAAAAAAAAAAAAAAAAAAAAAAAAAAAAAAAAAAAAAAAAAAAAAAAAAAAAAAAAAAAAAAAAAAAAAAAAAAAAAAAAAAAAAAAAAAAAAAAAAAAAAAAAAAAAAAAAAAAAAAAAAAAAAAAAAAAAAAAAAAAAAAAAAAAAAAAAAAAAAAAAAAAAAAAAAAAAAAAAAAAAAAAAAAAAAAAAAAAAAAAAAAAAAAAAAAAAAAAAAAAAAAAAAAAAAAAAAAAAAAAAAAAAAAAAAAAAAAAAAAAAAAAAAAAAAAAAAAAAAAAAAAAAAAAAAAAAAAAAAAAAAAAAAAAAAAAAAAAAAAAAAAAAAAAAAAAAAAAAAAAAAAAAAAAAAAAAAAAAAAAAAAAAAAAAAAAAAAAAAAAAAAAAAAAAAAAAAAAAAAAAAAAAAAAAAAAAAAAAAAAAAAAAAAAAAAAAAAAAAAAAAAAAAAAAAAAAAAAAAAAAAAAAAAAAAAAAAAAAAAAAAAAAAAAAAAAAAAAAAAAAAAAAAAAAAAAAAAAAAAAAAAAAAAAAAAAAAAAAAAAAAAAAAAAAAAAAAAAAAAAAAAAAAAAAAAAAAAAAAAAAAAAAAAAAAAAAAAAAAAAAAAAAAAAAAAAAAAAAAAAAAAAAAAAAAAAAAAAAAAAAAAAAAAAAAAAAAAAAAAAAAAAAAAAAAAAAAAAAAAAAAAAAAAAAAAAAAAAAAAAAAAAAAAAAAAAAAAAAAAAAAAAAAAAAAAAAAAAAAAAAAAAAAAAAAAAAAAAAAAAAAAAAAAAAAAAAAAAAAAAAAAAAAAAAAAAAAAAAAAAAAAAAAAAAAAAAAAAAAAAAAAAAAAAAAAAAAAAAAAAAAAAAAAAAAAAAAAAAAAAAAAAAAAAAAAAAAAAAAAAAAAAAAAAAAAAAAAAAAAAAAAAAAAAAAAAAAAAAAAAAAAAAAAAAAAAAAAAAAAAAAAAAAAAAAAAAAAAAAAAAAAAAAAAAAAAAAAAAAAAAAAAAAAAAAAAAAAAAAAAAAAAAAAAAAAAAAAAAAAAAAAAAAAAAAAAAAAAAAAAAAAAAAAAAAAAAAAAAAAAAAAAAAAAAAAAAAAAAAAAAAAAAAAAAAAAAAAAAAAAAAAAAAAAAAAAAAAAAAAAAAAAAAAAAAAAAAAAAAAAAAAAAAAAAAAAAAAAAAAAAAAAAAAAAAAAAAAAAAAAAAAAAAAAAAAAAAAAAAAAAAAAAAAAAAAAAAAAAAAAAAAAAAAAAAAAAAAAAAAAAAAAAAAAAAAAAAAAAAAAAAAAAAAAAAAAAAAAAAAAAAAAAAAAAAAAAAAAAAAAAAAAAAAAAAAAAAAAAAAAAAAAAAAAAAAAAAAAAAAAAAAAAAAAAAAAAAAAAAAAAAAAAAAAAAAAAAAAAAAAAAAAAAAAAAAAAAAAAAAAAAAAAAAAAAAAAAAAAAAAAAAAAAAAAAAAAAAAAAAAAAAAAAAAAAAAAAAAAAAAAAAAAAAAAAAAAAAAAAAAAAAAAAAAAAAAAAAAAAAAAAAAAAAAAAAAAAAAAAAAAAAAAAAAAAAAAAAAAAAAAAAAAAAAAAAAAAAAAAAAAAAAAAAAAAAAAAAAAAAAAAAAAAAAAAAAAAAAAAAAAAAAAAAAAAAAAAAAAAAAAAAAAAAAAAAAAAAAAAAAAAAAAAAAAAAAAAAAAAAAAAAAAAAAAAAAAAAAAAAAAAAAAAAAAAAAAAAAAAAAAAAAAAAAAAAAAAAAAAAAAAAAAAAAAAAAAAAAAAAAAAAAAAAAAAAAAAAAAAAAAAAAAAAAAAAAAAAAAAAAAAAAAAAAAAAAAAAAAAAAAAAAAAAAAAAAAAAAAAAAAAAAAAAAAAAAAAAAAAAAAAAAAAAAAAAAAAAAAAAAAAAAAAAAAAAAAAAAAAAAAAAAAAAAAAAAAAAAAAAAAAAAAAAAAAAAAAAAAAAAAAAAAAAAAAAAAAAAAAAAAAAAAAAAAAAAAAAAAAAAAAAAAAAAAAAAAAAAAAAAAAAAAAAAAAAAAAAAAAAAAAAAAAAAAAAAAAAAAAAAAAAAAAAAAAAAAAAAAAAAAAAAAAAAAAAAAAAAAAAAAAAAAAAAAAAAAAAAAAAAAAAAAAAAAAAAAAAAAAAAAAAAAAAAAAAAAAAAAAAAAAAAAAAAAAAAAAAAAAAAAAAAAAAAAAAAAAAAAAAAAAAAAAAAAAAAAAAAAAAAAAAAAAAAAAAAAAAAAAAAAAAAAAAAAAAAAAAAAAAAAAAAAAAAAAAAAAAAAAAAAAAAAAAAAAAAAAAAAAAAAAAAAAAAAAAAAAAAAAAAAAAAAAAAAAAAAAAAAAAAAAAAAAAAAAAAAAAAAAAAAAAAAAAAAAAAAAAAAAAAAAAAAAAAAAAAAAAAAAAAAAAAAAAAAAAAAAAAAAAAAAAAAAAAAAAAAAAAAAAAAAAAAAAAAAAAAAAAAAAAAAAAAAAAAAAAAAAAAAAAAAAAAAAAAAAAAAAAAAAAAAAAAAAAAAAAAAAAAAAAAAAAAAAAAAAAAAAAAAAAAAAAAAAAAAAAAAAAAAAAAAAAAAAAAAAAAAAAAAAAAAAAAAAAAAAAAAAAAAAAAAAAAAAAAAAAAAAAAAAAAAAAAAAAAAAAAAAAAAAAAAAAAAAAAAAAAAAAAAAAAAAAAAAAAAAAAAAAAAAAAAAAAAAAAAAAAAAAAAAAAAAAAAAAAAAAAAAAAAAAAAAAAAAAAAAAAAAAAAAAAAAAAAAAAAAAAAAAAAAAAAAAAAAAAAAAAAAAAAAAAAAAAAAAAAAAAAAAAAAAAAAAAAAAAAAAAAAAAAAAAAAAAAAAAAAAAAAAAAAAAAAAAAAAAAAAAAAAAAAAAAAAAAAAAAAAAAAAAAAAAAAAAAAAAAAAAAAAAAAAAAAAAAAAAAAAAAAAAAAAAAAAAAAAAAAAAAAAAAAAAAAAAAAAAAAAAAAAAAAAAAAAAAAAAAAAAAAAAAAAAAAAAAAAAAAAAAAAAAAAAAAAAAAAAAAAAAAAAAAAAAAAAAAAAAAAAAAAAAAAAAAAAAAAAAAAAAAAAAAAAAAAAAAAAAAAAAAAAAAAAAAAAAAAAAAAAAAAAAAAAAAAAAAAAAAAAAAAAAAAAAAAAAAAAAAAAAAAAAAAAAAAAAAAAAAAAAAAAAAAAAAAAAAAAAAAAAAAAAAAAAAAAAAAAAAAAAAAAAAAAAAAAAAAAAAAAAAAAAAAAAAAAAAAAAAAAAAAAAAAAAAAAAAAAAAAAAAAAAAAAAAAAAAAAAAAAAAAAAAAAAAAAAAAAAAAAAAAAAAAAAAAAAAAAAAAAAAAAAAAAAAAAAAAAAAAAAAAAAAAAAAAAAAAAAAAAAAAAAAAAAAAAAAAAAAAAAAAAAAAAAAAAAAAAAAAAAAAAAAAAAAAAAAAAAAAAAAAAAAAAAAAAAAAAAAAAAAAAAAAAAAAAAAAAAAAAAAAAAAAAAAAAAAAAAAAAAAAAAAAAAAAAAAAAAAAAAAAAAAAAAAAAAAAAAAAAAAAAAAAAAAAAAAAAAAAAAAAAAAAAAAAAAAAAAAAAAAAAAAAAAAAAAAAAAAAAAAAAAAAAAAAAAAAAAAAAAAAAAAAAAAAAAAAAAAAAAAAAAAAAAAAAAAAAAAAAAAAAAAAAAAAAAAAAAAAAAAAAAAAAAAAAAAAAAAAAAAAAAAAAAAAAAAAAAAAAAAAAAAAAAAAAAAAAAAAAAAAAAAAAAAAAAAAAAAAAAAAAAAAAAAAAAAAAAAAAAAAAAAAAAAAAAAAAAAAAAAAAAAAAAAAAAAAAAAAAAAAAAAAAAAAAAAAAAAAAAAAAAAAAAAAAAAAAAAAAAAAAAAAAAAAAAAAAAAAAAAAAAAAAAAAAAAAAAAAAAAAAAAAAAAAAAAAAAAAAAAAAAAAAAAAAAAAAAAAAAAAAAAAAAAAAAAAAAAAAAAAAAAAAAAAAAAAAAAAAAAAAAAAAAAAAAAAAAAAAAAAAAAAAAAAAAAAAAAAAAAAAAAAAAAAAAAAAAAAAAAAAAAAAAAAAAAAAAAAAAAAAAAAAAAAAAAAAAAAAAAAAAAAAAAAAAAAAAAAAAAAAAAAAAAAAAAAAAAAAAAAAAAAAAAAAAAAAAAAAAAAAAAAAAAAAAAAAAAAAAAAAAAAAAAAAAAAAAAAAAAAAAAAAAAAAAAAAAAAAAAAAAAAAAAAAAAAAAAAAAAAAAAAAAAAAAAAAAAAAAAAAAAAAAAAAAAAAAAAAAAAAAAAAAAAAAAAAAAAAAAAAAAAAAAAAAAAAAAAAAAAAAAAAAAAAAAAAAAAAAAAAAAAAAAAAAAAAAAAAAAAAAAAAAAAAAAAAAAAAAAAAAAAAAAAAAAAAAAAAAAAAAAAAAAAAAAAAAAAAAAAAAAAAAAAAAAAAAAAAAAAAAAAAAAAAAAAAAAAAAAAAAAAAAAAAAAAAAAAAAAAAAAAAAAAAAAAAAAAAAAAAAAAAAAAAAAAAAAAAAAAAAAAAAAAAAAAAAAAAAAAAAAAAAAAAAAAAAAAAAAAAAAAAAAAAAAAAAAAAAAAAAAAAAAAAAAAAAAAAAAAAAAAAAAAAAAAAAAAAAAAAAAAAAAAAAAAAAAAAAAAAAAAAAAAAAAAAAAAAAAAAAAAAAAAAAAAAAAAAAAAAAAAAAAAAAAAAAAAAAAAAAAAAAAAAAAAAAAAAAAAAAAAAAAAAAAAAAAAAAAAAAAAAAAAAAAAAAAAAAAAAAAAAAAAAAAAAAAAAAAAAAAAAAAAAAAAAAAAAAAAAAAAAAAAAAAAAAAAAAAAAAAAAAAAAAAAAAAAAAAAAAAAAAAAAAAAAAAAAAAAAAAAAAAAAAAAAAAAAAAAAAAAAAAAAAAAAAAAAAAAAAAAAAAAAAAAAAAAAAAAAAAAAAAAAAAAAAAAAAAAAAAAAAAAAAAAAAAAAAAAAAAAAAAAAAAAAAAAAAAAAAAAAAAAAAAAAAAAAAAAAAAAAAAAAAAAAAAAAAAAAAAAAAAAAAAAAAAAAAAAAAAAAAAAAAAAAAAAAAAAAAAAAAAAAAAAAAAAAAAAAAAAAAAAAAAAAAAAAAAAAAAAAAAAAAAAAAAAAAAAAAAAAAAAAAAAAAAAAAAAAAAAAAAAAAAAAAAAAAAAAAAAAAAAAAAAAAAAAAAAAAAAAAAAAAAAAAAAAAAAAAAAAAAAAAAAAAAAAAAAAAAAAAAAAAAAAAAAAAAAAAAAAAAAAAAAAAAAAAAAAAAAAAAAAAAAAAAAAAAAAAAAAAAAAAAAAAAAAAAAAAAAAAAAAAAAAAAAAAAAAAAAAAAAAAAAAAAAAAAAAAAAAAAAAAAAAAAAAAAAAAAAAAAAAAAAAAAAAAAAAAAAAAAAAAAAAAAAAAAAAAAAAAAAAAAAAAAAAAAAAAAAAAAAAAAAAAAAAAAAAAAAAAAAAAAAAAAAAAAAAAAAAAAAAAAAAAAAAAAAAAAAAAAAAAAAAAAAAAAAAAAAAAAAAAAAAAAAAAAAAAAAAAAAAAAAAAAAAAAAAAAAAAAAAAAAAAAAAAAAAAAAAAAAAAAAAAAAAAAAAAAAAAAAAAAAAAAAAAAAAAAAAAAAAAAAAAAAAAAAAAAAAAAAAAAAAAAAAAAAAAAAAAAAAAAAAAAAAAAAAAAAAAAAAAAAAAAAAAAAAAAAAAAAAAAAAAAAAAAAAAAAAAAAAAAAAAAAAAAAAAAAAAAAAAAAAAAAAAAAAAAAAAAAAAAAAAAAAAAAAAAAAAAAAAAAAAAAAAAAAAAAAAAAAAAAAAAAAAAAAAAAAAAAAAAAAAAAAAAAAAAAAAAAAAAAAAAAAAAAAAAAAAAAAAAAAAAAAAAAAAAAAAAAAAAAAAAAAAAAAAAAAAAAAAAAAAAAAAAAAAAAAAAAAAAAAAAAAAAAAAAAAAAAAAAAAAAAAAAAAAAAAAAAAAAAAAAAAAAAAAAAAAAAAAAAAAAAAAAAAAAAAAAAAAAAAAAAAAAAAAAAAAAAAAAAAAAAAAAAAAAAAAAAAAAAAAAAAAAAAAAAAAAAAAAAAAAAAAAAAAAAAAAAAAAAAAAAAAAAAAAAAAAAAAAAAAAAAAAAAAAAAAAAAAAAAAAAAAAAAAAAAAAAAAAAAAAAAAAAAAAAAAAAAAAAAAAAAAAAAAAAAAAAAAAAAAAAAAAAAAAAAAAAAAAAAAAAAAAAAAAAAAAAAAAAAAAAAAAAAAAAAAAAAAAAAAAAAAAAAAAAAAAAAAAAAAAAAAAAAAAAAAAAAAAAAAAAAAAAAAAAAAAAAAAAAAAAAAAAAAAAAAAAAAAAAAAAAAAAAAAAAAAAAAAAAAAAAAAAAAAAAAAAAAAAAAAAAAAAAAAAAAAAAAAAAAAAAAAAAAAAAAAAAAAAAAAAAAAAAAAAAAAAAAAAAAAAAAAAAAAAAAAAAAAAAAAAAAAAAAAAAAAAAAAAAAAAAAAAAAAAAAAAAAAAAAAAAAAAAAAAAAAAAAAAAAAAAAAAAAAAAAAAAAAAAAAAAAAAAAAAAAAAAAAAAAAAAAAAAAAAAAAAAAAAAAAAAAAAAAAAAAAAAAAAAAAAAAAAAAAAAAAAAAAAAAAAAAAAAAAAAAAAAAAAAAAAAAAAAAAAAAAAAAAAAAAAAAAAAAAAAAAAAAAAAAAAAAAAAAAAAAAAAAAAAAAAAAAAAAAAAAAAAAAAAAAAAAAAAAAAAAAAAAAAAAAAAAAAAAAAAAAAAAAAAAAAAAAAAAAAAAAAAAAAAAAAAAAAAAAAAAAAAAAAAAAAAAAAAAAAAAAAAAAAAAAAAAAAAAAAAAAAAAAAAAAAAAAAAAAAAAAAAAAAAAAAAAAAAAAAAAAAAAAAAAAAAAAAAAAAAAAAAAAAAAAAAAAAAAAAAAAAAAAAAAAAAAAAAAAAAAAAAAAAAAAAAAAAAAAAAAAAAAAAAAAAAAAAAAAAAAAAAAAAAAAAAAAAAAAAAAAAAAAAAAAAAAAAAAAAAAAAAAAAAAAAAAAAAAAAAAAAAAAAAAAAAAAAAAAAAAAAAAAAAAAAAAAAAAAAAAAAAAAAAAAAAAAAAAAAAAAAAAAAAAAAAAAAAAAAAAAAAAAAAAAAAAAAAAAAAAAAAAAAAAAAAAAAAAAAAAAAAAAAAAAAAAAAAAAAAAAAAAAAAAAAAAAAAAAAAAAAAAAAAAAAAAAAAAAAAAAAAAAAAAAAAAAAAAAAAAAAAAAAAAAAAAAAAAAAAAAAAAAAAAAAAAAAAAAAAAAAAAAAAAAAAAAAAAAAAAAAAAAAAAAAAAAAAAAAAAAAAAAAAAAAAAAAAAAAAAAAAAAAAAAAAAAAAAAAAAAAAAAAAAAAAAAAAAAAAAAAAAAAAAAAAAAAAAAAAAAAAAAAAAAAAAAAAAAAAAAAAAAAAAAAAAAAAAAAAAAAAAAAAAAAAAAAAAAAAAAAAAAAAAAAAAAAAAAAAAAAAAAAAAAAAAAAAAAAAAAAAAAAAAAAAAAAAAAAAAAAAAAAAAAAAAAAAAAAAAAAAAAAAAAAAAAAAAAAAAAAAAAAAAAAAAAAAAAAAAAAAAAAAAAAAAAAAAAAAAAAAAAAAAAAAAAAAAAAAAAAAAAAAAAAAAAAAAAAAAAAAAAAAAAAAAAAAAAAAAAAAAAAAAAAAAAAAAAAAAAAAAAAAAAAAAAAAAAAAAAAAAAAAAAAAAAAAAAAAAAAAAAAAAAAAAAAAAAAAAAAAAAAAAAAAAAAAAAAAAAAAAAAAAAAAAAAAAAAAAAAAAAAAAAAAAAAAAAAAAAAAAAAAAAAAAAAAAAAAAAAAAAAAAAAAAAAAAAAAAAAAAAAAAAAAAAAAAAAAAAAAAAAAAAAAAAAAAAAAAAAAAAAAAAAAAAAAAAAAAAAAAAAAAAAAAAAAAAAAAAAAAAAAAAAAAAAAAAAAAAAAAAAAAAAAAAAAAAAAAAAAAAAAAAAAAAAAAAAAAAAAAAAAAAAAAAAAAAAAAAAAAAAAAAAAAAAAAAAAAAAAAAAAAAAAAAAAAAAAAAAAAAAAAAAAAAAAAAAAAAAAAAAAAAAAAAAAAAAAAAAAAAAAAAAAAAAAAAAAAAAAAAAAAAAAAAAAAAAAAAAAAAAAAAAAAAAAAAAAAAAAAAAAAAAAAAAAAAAAAAAAAAAAAAAAAAAAAAAAAAAAAAAAAAAAAAAAAAAAAAAAAAAAAAAAAAAAAAAAAAAAAAAAAAAAAAAAAAAAAAAAAAAAAAAAAAAAAAAAAAAAAAAAAAAAAAAAAAAAAAAAAAAAAAAAAAAAAAAAAAAAAAAAAAAAAAAAAAAAAAAAAAAAAAAAAAAAAAAAAAAAAAAAAAAAAAAAAAAAAAAAAAAAAAAAAAAAAAAAAAAAAAAAAAAAAAAAAAAAAAAAAAAAAAAAAAAAAAAAAAAAAAAAAAAAAAAAAAAAAAAAAAAAAAAAAAAAAAAAAAAAAAAAAAAAAAAAAAAAAAAAAAAAAAAAAAAAAAAAAAAAAAAAAAAAAAAAAAAAAAAAAAAAAAAAAAAAAAAAAAAAAAAAAAAAAAAAAAAAAAAAAAAAAAAAAAAAAAAAAAAAAAAAAAAAAAAAAAAAAAAAAAAAAAAAAAAAAAAAAAAAAAAAAAAAAAAAAAAAAAAAAAAAAAAAAAAAAAAAAAAAAAAAAAAAAAAAAAAAAAAAAAAAAAAAAAAAAAAAAAAAAAAAAAAAAAAAAAAAAAAAAAAAAAAAAAAAAAAAAAAAAAAAAAAAAAAAAAAAAAAAAAAAAAAAAAAAAAAAAAAAAAAAAAAAAAAAAAAAAAAAAAAAAAAAAAAAAAAAAAAAAAAAAAAAAAAAAAAAAAAAAAAAAAAAAAAAAAAAAAAAAAAAAAAAAAAAAAAAAAAAAAAAAAAAAAAAAAAAAAAAAAAAAAAAAAAAAAAAAAAAAAAAAAAAAAAAAAAAAAAAAAAAAAAAAAAAAAAAAAAAAAAAAAAAAAAAAAAAAAAAAAAAAAAAAAAAAAAAAAAAAAAAAAAAAAAAAAAAAAAAAAAAAAAAAAAAAAAAAAAAAAAAAAAAAAAAAAAAAAAAAAAAAAAAAAAAAAAAAAAAAAAAAAAAAAAAAAAAAAAAAAAAAAAAAAAAAAAAAAAAAAAAAAAAAAAAAAAAAAAAAAAAAAAAAAAAAAAAAAAAAAAAAAAAAAAAAAAAAAAAAAAAAAAAAAAAAAAAAAAAAAAAAAAAAAAAAAAAAAAAAAAAAAAAAAAAAAAAAAAAAAAAAAAAAAAAAAAAAAAAAAAAAAAAAAAAAAAAAAAAAAAAAAAAAAAAAAAAAAAAAAAAAAAAAAAAAAAAAAAAAAAAAAAAAAAAAAAAAAAAAAAAAAAAAAAAAAAAAAAAAAAAAAAAAAAAAAAAAAAAAAAAAAAAAAAAAAAAAAAAAAAAAAAAAAAAAAAAAAAAAAAAAAAAAAAAAAAAAAAAAAAAAAAAAAAAAAAAAAAAAAAAAAAAAAAAAAAAAAAAAAAAAAAAAAAAAAAAAAAAAAAAAAAAAAAAAAAAAAAAAAAAAAAAAAAAAAAAAAAAAAAAAAAAAAAAAAAAAAAAAAAAAAAAAAAAAAAAAAAAAAAAAAAAAAAAAAAAAAAAAAAAAAAAAAAAAAAAAAAAAAAAAAAAAAAAAAAAAAAAAAAAAAAAAAAAAAAAAAAAAAAAAAAAAAAAAAAAAAAAAAAAAAAAAAAAAAAAAAAAAAAAAAAAAAAAAAAAAAAAAAAAAAAAAAAAAAAAAAAAAAAAAAAAAAAAAAAAAAAAAAAAAAAAAAAAAAAAAAAAAAAAAAAAAAAAAAAAAAAAAAAAAAAAAAAAAAAAAAAAAAAAAAAAAAAAAAAAAAAAAAAAAAAAAAAAAAAAAAAAAAAAAAAAAAAAAAAAAAAAAAAAAAAAAAAAAAAAAAAAAAAAAAAAAAAAAAAAAAAAAAAAAAAAAAAAAAAAAAAAAAAAAAAAAAAAAAAAAAAAAAAAAAAAAAAAAAAAAAAAAAAAAAAAAAAAAAAAAAAAAAAAAAAAAAAAAAAAAAAAAAAAAAAAAAAAAAAAAAAAAAAAAAAAAAAAAAAAAAAAAAAAAAAAAAAAAAAAAAAAAAAAAAAAAAAAAAAAAAAAAAAAAAAAAAAAAAAAAAAAAAAAAAAAAAAAAAAAAAAAAAAAAAAAAAAAAAAAAAAAAAAAAAAAAAAAAAAAAAAAAAAAAAAAAAAAAAAAAAAAAAAAAAAAAAAAAAAAAAAAAAAAAAAAAAAAAAAAAAAAAAAAAAAAAAAAAAAAAAAAAAAAAAAAAAAAAAAAAAAAAAAAAAAAAAAAAAAAAAAAAAAAAAAAAAAAAAAAAAAAAAAAAAAAAAAAAAAAAAAAAAAAAAAAAAAAAAAAAAAAAAAAAAAAAAAAAAAAAAAAAAAAAAAAAAAAAAAAAAAAAAAAAAAAAAAAAAAAAAAAAAAAAAAAAAAAAAAAAAAAAAAAAAAAAAAAAAAAAAAAAAAAAAAAAAAAAAAAAAAAAAAAAAAAAAAAAAAAAAAAAAAAAAAAAAAAAAAAAAAAAAAAAAAAAAAAAAAAAAAAAAAAAAAAAAAAAAAAAAAAAAAAAAAAAAAAAAAAAAAAAAAAAAAAAAAAAAAAAAAAAAAAAAAAAAAAAAAAAAAAAAAAAAAAAAAAAAAAAAAAAAAAAAAAAAAAAAAAAAAAAAAAAAAAAAAAAAAAAAAAAAAAAAAAAAAAAAAAAAAAAAAAAAAAAAAAAAAAAAAAAAAAAAAAAAAAAAAAAAAAAAAAAAAAAAAAAAAAAAAAAAAAAAAAAAAAAAAAAAAAAAAAAAAAAAAAAAAAAAAAAAAAAAAAAAAAAAAAAAAAAAAAAAAAAAAAAAAAAAAAAAAAAAAAAAAAAAAAAAAAAAAAAAAAAAAAAAAAAAAAAAAAAAAAAAAAAAAAAAAAAAAAAAAAAAAAAAAAAAAAAAAAAAAAAAAAAAAAAAAAAAAAAAAAAAAAAAAAAAAAAAAAAAAAAAAAAAAAAAAAAAAAAAAAAAAAAAAAAAAAAAAAAAAAAAAAAAAAAAAAAAAAAAAAAAAAAAAAAAAAAAAAAAAAAAAAAAAAAAAAAAAAAAAAAAAAAAAAAAAAAAAAAAAAAAAAAAAAAAAAAAAAAAAAAAAAAAAAAAAAAAAAAAAAAAAAAAAAAAAAAAAAAAAAAAAAAAAAAAAAAAAAAAAAAAAAAAAAAAAAAAAAAAAAAAAAAAAAAAAAAAAAAAAAAAAAAAAAAAAAAAAAAAAAAAAAAAAAAAAAAAAAAAAAAAAAAAAAAAAAAAAAAAAAAAAAAAAAAAAAAAAAAAAAAAAAAAAAAAAAAAAAAAAAAAAAAAAAAAAAAAAAAAAAAAAAAAAAAAAAAAAAAAAAAAAAAAAAAAAAAAAAAAAAAAAAAAAAAAAAAAAAAAAAAAAAAAAAAAAAAAAAAAAAAAAAAAAAAAAAAAAAAAAAAAAAAAAAAAAAAAAAAAAAAAAAAAAAAAAAAAAAAAAAAAAAAAAAAAAAAAAAAAAAAAAAAAAAAAAAAAAAAAAAAAAAAAAAAAAAAAAAAAAAAAAAAAAAAAAAAAAAAAAAAAAAAAAAAAAAAAAAAAAAAAAAAAAAAAAAAAAAAAAAAAAAAAAAAAAAAAAAAAAAAAAAAAAAAAAAAAAAAAAAAAAAAAAAAAAAAAAAAAAAAAAAAAAAAAAAAAAAAAAAAAAAAAAAAAAAAAAAAAAAAAAAAAAAAAAAAAAAAAAAAAAAAAAAAAAAAAAAAAAAAAAAAAAAAAAAAAAAAAAAAAAAAAAAAAAAAAAAAAAAAAAAAAAAAAAAAAAAAAAAAAAAAAAAAAAAAAAAAAAAAAAAAAAAAAAAAAAAAAAAAAAAAAAAAAAAAAAAAAAAAAAAAAAAAAAAAAAAAAAAAAAAAAAAAAAAAAAAAAAAAAAAAAAAAAAAAAAAAAAAAAAAAAAAAAAAAAAAAAAAAAAAAAAAAAAAAAAAAAAAAAAAAAAAAAAAAAAAAAAAAAAAAAAAAAAAAAAAAAAAAAAAAAAAAAAAAAAAAAAAAAAAAAAAAAAAAAAAAAAAAAAAAAAAAAAAAAAAAAAAAAAAAAAAAAAAAAAAAAAAAAAAAAAAAAAAAAAAAAAAAAAAAAAAAAAAAAAAAAAAAAAAAAAAAAAAAAAAAAAAAAAAAAAAAAAAAAAAAAAAAAAAAAAAAAAAAAAAAAAAAAAAAAAAAAAAAAAAAAAAAAAAAAAAAAAAAAAAAAAAAAAAAAAAAAAAAAAAAAAAAAAAAAAAAAAAAAAAAAAAAAAAAAAAAAAAAAAAAAAAAAAAAAAAAAAAAAAAAAAAAAAAAAAAAAAAAAAAAAAAAAAAAAAAAAAAAAAAAAAAAAAAAAAAAAAAAAAAAAAAAAAAAAAAAAAAAAAAAAAAAAAAAAAAAAAAAAAAAAAAAAAAAAAAAAAAAAAAAAAAAAAAAAAAAAAAAAAAAAAAAAAAAAAAAAAAAAAAAAAAAAAAAAAAAAAAAAAAAAAAAAAAAAAAAAAAAAAAAAAAAAAAAAAAAAAAAAAAAAAAAAAAAAAAAAAAAAAAAAAAAAAAAAAAAAAAAAAAAAAAAAAAAAAAAAAAAAAAAAAAAAAAAAAAAAAAAAAAAAAAAAAAAAAAAAAAAAAAAAAAAAAAAAAAAAAAAAAAAAAAAAAAAAAAAAAAAAAAAAAAAAAAAAAAAAAAAAAAAAAAAAAAAAAAAAAAAAAAAAAAAAAAAAAAAAAAAAAAAAAAAAAAAAAAAAAAAAAAAAAAAAAAAAAAAAAAAAAAAAAAAAAAAAAAAAAAAAAAAAAAAAAAAAAAAAAAAAAAAAAAAAAAAAAAAAAAAAAAAAAAAAAAAAAAAAAAAAAAAAAAAAAAAAAAAAAAAAAAAAAAAAAAAAAAAAAAAAAAAAAAAAAAAAAAAAAAAAAAAAAAAAAAAAAAAAAAAAAAAAAAAAAAAAAAAAAAAAAAAAAAAAAAAAAAAAAAAAAAAAAAAAAAAAAAAAAAAAAAAAAAAAAAAAAAAAAAAAAAAAAAAAAAAAAAAAAAAAAAAAAAAAAAAAAAAAAAAAAAAAAAAAAAAAAAAAAAAAAAAAAAAAAAAAAAAAAAAAAAAAAAAAAAAAAAAAAAAAAAAAAAAAAAAAAAAAAAAAAAAAAAAAAAAAAAAAAAAAAAAAAAAAAAAAAAAAAAAAAAAAAAAAAAAAAAAAAAAAAAAAAAAAAAAAAAAAAAAAAAAAAAAAAAAAAAAAAAAAAAAAAAAAAAAAAAAAAAAAAAAAAAAAAAAAAAAAAAAAAAAAAAAAAAAAAAAAAAAAAAAAAAAAAAAAAAAAAAAAAAAAAAAAAAAAAAAAAAAAAAAAAAAAAAAAAAAAAAAAAAAAAAAAAAAAAAAAAAAAAAAAAAAAAAAAAAAAAAAAAAAAAAAAAAAAAAAAAAAAAAAAAAAAAAAAAAAAAAAAAAAAAAAAAAAAAAAAAAAAAAAAAAAAAAAAAAAAAAAAAAAAAAAAAAAAAAAAAAAAAAAAAAAAAAAAAAAAAAAAAAAAAAAAAAAAAAAAAAAAAAAAAAAAAAAAAAAAAAAAAAAAAAAAAAAAAAAAAAAAAAAAAAAAAAAAAAAAAAAAAAAAAAAAAAAAAAAAAAAAAAAAAAAAAAAAAAAAAAAAAAAAAAAAAAAAAAAAAAAAAAAAAAAAAAAAAAAAAAAAAAAAAAAAAAAAAAAAAAAAAAAAAAAAAAAAAAAAAAAAAAAAAAAAAAAAAAAAAAAAAAAAAAAAAAAAAAAAAAAAAAAAAAAAAAAAAAAAAAAAAAAAAAAAAAAAAAAAAAAAAAAAAAAAAAAAAAAAAAAAAAAAAAAAAAAAAAAAAAAAAAAAAAAAAAAAAAAAAAAAAAAAAAAAAAAAAAAAAAAAAAAAAAAAAAAAAAAAAAAAAAAAAAAAAAAAAAAAAAAAAAAAAAAAAAAAAAAAAAAAAAAAAAAAAAAAAAAAAAAAAAAAAAAAAAAAAAAAAAAAAAAAAAAAAAAAAAAAAAAAAAAAAAAAAAAAAAAAAAAAAAAAAAAAAAAAAAAAAAAAAAAAAAAAAAAAAAAAAAAAAAAAAAAAAAAAAAAAAAAAAAAAAAAAAAAAAAAAAAAAAAAAAAAAAAAAAAAAAAAAAAAAAAAAAAAAAAAAAAAAAAAAAAAAAAAAAAAAAAAAAAAAAAAAAAAAAAAAAAAAAAAAAAAAAAAAAAAAAAAAAAAAAAAAAAAAAAAAAAAAAAAAAAAAAAAAAAAAAAAAAAAAAAAAAAAAAAAAAAAAAAAAAAAAAAAAAAAAAAAAAAAAAAAAAAAAAAAAAAAAAAAAAAAAAAAAAAAAAAAAAAAAAAAAAAAAAAAAAAAAAAAAAAAAAAAAAAAAAAAAAAAAAAAAAAAAAAAAAAAAAAAAAAAAAAAAAAAAAAAAAAAAAAAAAAAAAAAAAAAAAAAAAAAAAAAAAAAAAAAAAAAAAAAAAAAAAAAAAAAAAAAAAAAAAAAAAAAAAAAAAAAAAAAAAAAAAAAAAAAAAAAAAAAAAAAAAAAAAAAAAAAAAAAAAAAAAAAAAAAAAAAAAAAAAAAAAAAAAAAAAAAAAAAAAAAAAAAAAAAAAAAAAAAAAAAAAAAAAAAAAAAAAAAAAAAAAAAAAAAAAAAAAAAAAAAAAAAAAAAAAAAAAAAAAAAAAAAAAAAAAAAAAAAAAAAAAAAAAAAAAAAAAAAAAAAAAAAAAAAAAAAAAAAAAAAAAAAAAAAAAAAAAAAAAAAAAAAAAAAAAAAAAAAAAAAAAAAAAAAAAAAAAAAAAAAAAAAAAAAAAAAAAAAAAAAAAAAAAAAAAAAAAAAAAAAAAAAAAAAAAAAAAAAAAAAAAAAAAAAAAAAAAAAAAAAAAAAAAAAAAAAAAAAAAAAAAAAAAAAAAAAAAAAAAAAAAAAAAAAAAAAAAAAAAAAAAAAAAAAAAAAAAAAAAAAAAAAAAAAAAAAAAAAAAAAAAAAAAAAAAAAAAAAAAAAAAAAAAAAAAAAAAAAAAAAAAAAAAAAAAAAAAAAAAAAAAAAAAAAAAAAAAAAAAAAAAAAAAAAAAAAAAAAAAAAAAAAAAAAAAAAAAAAAAAAAAAAAAAAAAAAAAAAAAAAAAAAAAAAAAAAAAAAAAAAAAAAAAAAAAAAAAAAAAAAAAAAAAAAAAAAAAAAAAAAAAAAAAAAAAAAAAAAAAAAAAAAAAAAAAAAAAAAAAAAAAAAAAAAAAAAAAAAAAAAAAAAAAAAAAAAAAAAAAAAAAAAAAAAAAAAAAAAAAAAAAAAAAAAAAAAAAAAAAAAAAAAAAAAAAAAAAAAAAAAAAAAAAAAAAAAAAAAAAAAAAAAAAAAAAAAAAAAAAAAAAAAAAAAAAAAAAAAAAAAAAAAAAAAAAAAAAAAAAAAAAAAAAAAAAAAAAAAAAAAAAAAAAAAAAAAAAAAAAAAAAAAAAAAAAAAAAAAAAAAAAAAAAAAAAAAAAAAAAAAAAAAAAAAAAAAAAAAAAAAAAAAAAAAAAAAAAAAAAAAAAAAAAAAAAAAAAAAAAAAAAAAAAAAAAAAAAAAAAAAAAAAAAAAAAAAAAAAAAAAAAAAAAAAAAAAAAAAAAAAAAAAAAAAAAAAAAAAAAAAAAAAAAAAAAAAAAAAAAAAAAAAAAAAAAAAAAAAAAAAAAAAAAAAAAAAAAAAAAAAAAAAAAAAAAAAAAAAAAAAAAAAAAAAAAAAAAAAAAAAAAAAAAAAAAAAAAAAAAAAAAAAAAAAAAAAAAAAAAAAAAAAAAAAAAAAAAAAAAAAAAAAAAAAAAAAAAAAAAAAAAAAAAAAAAAAAAAAAAAAAAAAAAAAAAAAAAAAAAAAAAAAAAAAAAAAAAAAAAAAAAAAAAAAAAAAAAAAAAAAAAAAAAAAAAAAAAAAAAAAAAAAAAAAAAAAAAAAAAAAAAAAAAAAAAAAAAAAAAAAAAAAAAAAAAAAAAAAAAAAAAAAAAAAAAAAAAAAAAAAAAAAAAAAAAAAAAAAAAAAAAAAAAAAAAAAAAAAAAAAAAAAAAAAAAAAAAAAAAAAAAAAAAAAAAAAAAAAAAAAAAAAAAAAAAAAAAAAAAAAAAAAAAAAAAAAAAAAAAAAAAAAAAAAAAAAAAAAAAAAAAAAAAAAAAAAAAAAAAAAAAAAAAAAAAAAAAAAAAAAAAAAAAAAAAAAAAAAAAAAAAAAAAAAAAAAAAAAAAAAAAAAAAAAAAAAAAAAAAAAAAAAAAAAAAAAAAAAAAAAAAAAAAAAAAAAAAAAAAAAAAAAAAAAAAAAAAAAAAAAAAAAAAAAAAAAAAAAAAAAAAAAAAAAAAAAAAAAAAAAAAAAAAAAAAAAAAAAAAAAAAAAAAAAAAAAAAAAAAAAAAAAAAAAAAAAAAAAAAAAAAAAAAAAAAAAAAAAAAAAAAAAAAAAAAAAAAAAAAAAAAAAAAAAAAAAAAAAAAAAAAAAAAAAAAAAAAAAAAAAAAAAAAAAAAAAAAAAAAAAAAAAAAAAAAAAAAAAAAAAAAAAAAAAAAAAAAAAAAAAAAAAAAAAAAAAAAAAAAAAAAAAAAAAAAAAAAAAAAAAAAAAAAAAAAAAAAAAAAAAAAAAAAAAAAAAAAAAAAAAAAAAAAAAAAAAAAAAAAAAAAAAAAAAAAAAAAAAAAAAAAAAAAAAAAAAAAAAAAAAAAAAAAAAAAAAAAAAAAAAAAAAAAAAAAAAAAAAAAAAAAAAAAAAAAAAAAAAAAAAAAAAAAAAAAAAAAAAAAAAAAAAAAAAAAAAAAAAAAAAAAAAAAAAAAAAAAAAAAAAAAAAAAAAAAAAAAAAAAAAAAAAAAAAAAAAAAAAAAAAAAAAAAAAAAAAAAAAAAAAAAAAAAAAAAAAAAAAAAAAAAAAAAAAAAAAAAAAAAAAAAAAAAAAAAAAAAAAAAAAAAAAAAAAAAAAAAAAAAAAAAAAAAAAAAAAAAAAAAAAAAAAAAAAAAAAAAAAAAAAAAAAAAAAAAAAAAAAAAAAAAAAAAAAAAAAAAAAAAAAAAAAAAAAAAAAAAAAAAAAAAAAAAAAAAAAAAAAAAAAAAAAAAAAAAAAAAAAAAAAAAAAAAAAAAAAAAAAAAAAAAAAAAAAAAAAAAAAAAAAAAAAAAAAAAAAAAAAAAAAAAAAAAAAAAAAAAAAAAAAAAAAAAAAAAAAAAAAAAAAAAAAAAAAAAAAAAAAAAAAAAAAAAAAAAAAAAAAAAAAAAAAAAAAAAAAAAAAAAAAAAAAAAAAAAAAAAAAAAAAAAAAAAAAAAAAAAAAAAAAAAAAAAAAAAAAAAAAAAAAAAAAAAAAAAAAAAAAAAAAAAAAAAAAAAAAAAAAAAAAAAAAAAAAAAAAAAAAAAAAAAAAAAAAAAAAAAAAAAAAAAAAAAAAAAAAAAAAAAAAAAAAAAAAAAAAAAAAAAAAAAAAAAAAAAAAAAAAAAAAAAAAAAAAAAAAAAAAAAAAAAAAAAAAAAAAAAAAAAAAAAAAAAAAAAAAAAAAAAAAAAAAAAAAAAAAAAAAAAAAAAAAAAAAAAAAAAAAAAAAAAAAAAAAAAAAAAAAAAAAAAAAAAAAAAAAAAAAAAAAAAAAAAAAAAAAAAAAAAAAAAAAAAAAAAAAAAAAAAAAAAAAAAAAAAAAAAAAAAAAAAAAAAAAAAAAAAAAAAAAAAAAAAAAAAAAAAAAAAAAAAAAAAAAAAAAAAAAAAAAAAAAAAAAAAAAAAAAAAAAAAAAAAAAAAAAAAAAAAAAAAAAAAAAAAAAAAAAAAAAAAAAAAAAAAAAAAAAAAAAAAAAAAAAAAAAAAAAAAAAAAAAAAAAAAAAAAAAAAAAAAAAAAAAAAAAAAAAAAAAAAAAAAAAAAAAAAAAAAAAAAAAAAAAAAAAAAAAAAAAAAAAAAAAAAAAAAAAAAAAAAAAAAAAAAAAAAAAAAAAAAAAAAAAAAAAAAAAAAAAAAAAAAAAAAAAAAAAAAAAAAAAAAAAAAAAAAAAAAAAAAAAAAAAAAAAAAAAAAAAAAAAAAAAAAAAAAAAAAAAAAAAAAAAAAAAAAAAAAAAAAAAAAAAAAAAAAAAAAAAAAAAAAAAAAAAAAAAAAAAAAAAAAAAAAAAAAAAAAAAAAAAAAAAAAAAAAAAAAAAAAAAAAAAAAAAAAAAAAAAAAAAAAAAAAAAAAAAAAAAAAAAAAAAAAAAAAAAAAAAAAAAAAAAAAAAAAAAAAAAAAAAAAAAAAAAAAAAAAAAAAAAAAAAAAAAAAAAAAAAAAAAAAAAAAAAAAAAAAAAAAAAAAAAAAAAAAAAAAAAAAAAAAAAAAAAAAAAAAAAAAAAAAAAAAAAAAAAAAAAAAAAAAAAAAAAAAAAAAAAAAAAAAAAAAAAAAAAAAAAAAAAAAAAAAAAAAAAAAAAAAAAAAAAAAAAAAAAAAAAAAAAAAAAAAAAAAAAAAAAAAAAAAAAAAAAAAAAAAAAAAAAAAAAAAAAAAAAAAAAAAAAAAAAAAAAAAAAAAAAAAAAAAAAAAAAAAAAAAAAAAAAAAAAAAAAAAAAAAAAAAAAAAAAAAAAAAAAAAAAAAAAAAAAAAAAAAAAAAAAAAAAAAAAAAAAAAAAAAAAAAAAAAAAAAAAAAAAAAAAAAAAAAAAAAAAAAAAAAAAAAAAAAAAAAAAAAAAAAAAAAAAAAAAAAAAAAAAAAAAAAAAAAAAAAAAAAAAAAAAAAAAAAAAAAAAAAAAAAAAAAAAAAAAAAAAAAAAAAAAAAAAAAAAAAAAAAAAAAAAAAAAAAAAAAAAAAAAAAAAAAAAAAAAAAAAAAAAAAAAAAAAAAAAAAAAAAAAAAAAAAAAAAAAAAAAAAAAAAAAAAAAAAAAAAAAAAAAAAAAAAAAAAAAAAAAAAAAAAAAAAAAAAAAAAAAAAAAAAAAAAAAAAAAAAAAAAAAAAAAAAAAAAAAAAAAAAAAAAAAAAAAAAAAAAAAAAAAAAAAAAAAAAAAAAAAAAAAAAAAAAAAAAAAAAAAAAAAAAAAAAAAAAAAAAAAAAAAAAAAAAAAAAAAAAAAAAAAAAAAAAAAAAAAAAAAAAAAAAAAAAAAAAAAAAAAAAAAAAAAAAAAAAAAAAAAAAAAAAAAAAAAAAAAAAAAAAAAAAAAAAAAAAAAAAAAAAAAAAAAAAAAAAAAAAAAAAAAAAAAAAAAAAAAAAAAAAAAAAAAAAAAAAAAAAAAAAAAAAAAAAAAAAAAAAAAAAAAAAAAAAAAAAAAAAAAAAAAAAAAAAAAAAAAAAAAAAAAAAAAAAAAAAAAAAAAAAAAAAAAAAAAAAAAAAAAAAAAAAAAAAAAAAAAAAAAAAAAAAAAAAAAAAAAAAAAAAAAAAAAAAAAAAAAAAAAAAAAAAAAAAAAAAAAAAAAAAAAAAAAAAAAAAAAAAAAAAAAAAAAAAAAAAAAAAAAAAAAAAAAAAAAAAAAAAAAAAAAAAAAAAAAAAAAAAAAAAAAAAAAAAAAAAAAAAAAAAAAAAAAAAAAAAAAAAAAAAAAAAAAAAAAAAAAAAAAAAAAAAAAAAAAAAAAAAAAAAAAAAAAAAAAAAAAAAAAAAAAAAAAAAAAAAAAAAAAAAAAAAAAAAAAAAAAAAAAAAAAAAAAAAAAAAAAAAAAAAAAAAAAAAAAAAAAAAAAAAAAAAAAAAAAAAAAAAAAAAAAAAAAAAAAAAAAAAAAAAAAAAAAAAAAAAAAAAAAAAAAAAAAAAAAAAAAAAAAAAAAAAAAAAAAAAAAAAAAAAAAAAAAAAAAAAAAAAAAAAAAAAAAAAAAAAAAAAAAAAAAAAAAAAAAAAAAAAAAAAAAAAAAAAAAAAAAAAAAAAAAAAAAAAAAAAAAAAAAAAAAAAAAAAAAAAAAAAAAAAAAAAAAAAAAAAAAAAAAAAAAAAAAAAAAAAAAAAAAAAAAAAAAAAAAAAAAAAAAAAAAAAAAAAAAAAAAAAAAAAAAAAAAAAAAAAAAAAAAAAAAAAAAAAAAAAAAAAAAAAAAAAAAAAAAAAAAAAAAAAAAAAAAAAAAAAAAAAAAAAAAAAAAAAAAAAAAAAAAAAAAAAAAAAAAAAAAAAAAAAAAAAAAAAAAAAAAAAAAAAAAAAAAAAAAAAAAAAAAAAAAAAAAAAAAAAAAAAAAAAAAAAAAAAAAAAAAAAAAAAAAAAAAAAAAAAAAAAAAAAAAAAAAAAAAAAAAAAAAAAAAAAAAAAAAAAAAAAAAAAAAAAAAAAAAAAAAAAAAAAAAAAAAAAAAAAAAAAAAAAAAAAAAAAAAAAAAAAAAAAAAAAAAAAAAAAAAAAAAAAAAAAAAAAAAAAAAAAAAAAAAAAAAAAAAAAAAAAAAAAAAAAAAAAAAAAAAAAAAAAAAAAAAAAAAAAAAAAAAAAAAAAAAAAAAAAAAAAAAAAAAAAAAAAAAAAAAAAAAAAAAAAAAAAAAAAAAAAAAAAAAAAAAAAAAAAAAAAAAAAAAAAAAAAAAAAAAAAAAAAAAAAAAAAAAAAAAAAAAAAAAAAAAAAAAAAAAAAAAAAAAAAAAAAAAAAAAAAAAAAAAAAAAAAAAAAAAAAAAAAAAAAAAAAAAAAAAAAAAAAAAAAAAAAAAAAAAAAAAAAAAAAAAAAAAAAAAAAAAAAAAAAAAAAAAAAAAAAAAAAAAAAAAAAAAAAAAAAAAAAAAAAAAAAAAAAAAAAAAAAAAAAAAAAAAAAAAAAAAAAAAAAAAAAAAAAAAAAAAAAAAAAAAAAAAAAAAAAAAAAAAAAAAAAAAAAAAAAAAAAAAAAAAAAAAAAAAAAAAAAAAAAAAAAAAAAAAAAAAAAAAAAAAAAAAAAAAAAAAAAAAAAAAAAAAAAAAAAAAAAAAAAAAAAAAAAAAAAAAAAAAAAAAAAAAAAAAAAAAAAAAAAAAAAAAAAAAAAAAAAAAAAAAAAAAAAAAAAAAAAAAAAAAAAAAAAAAAAAAAAAAAAAAAAAAAAAAAAAAAAAAAAAAAAAAAAAAAAAAAAAAAAAAAAAAAAAAAAAAAAAAAAAAAAAAAAAAAAAAAAAAAAAAAAAAAAAAAAAAAAAAAAAAAAAAAAAAAAAAAAAAAAAAAAAAAAAAAAAAAAAAAAAAAAAAAAAAAAAAAAAAAAAAAAAAAAAAAAAAAAAAAAAAAAAAAAAAAAAAAAAAAAAAAAAAAAAAAAAAAAAAAAAAAAAAAAAAAAAAAAAAAAAAAAAAAAAAAAAAAAAAAAAAAAAAAAAAAAAAAAAAAAAAAAAAAAAAAAAAAAAAAAAAAAAAAAAAAAAAAAAAAAAAAAAAAAAAAAAAAAAAAAAAAAAAAAAAAAAAAAAAAAAAAAAAAAAAAAAAAAAAAAAAAAAAAAAAAAAAAAAAAAAAAAAAAAAAAAAAAAAAAAAAAAAAAAAAAAAAAAAAAAAAAAAAAAAAAAAAAAAAAAAAAAAAAAAAAAAAAAAAAAAAAAAAAAAAAAAAAAAAAAAAAAAAAAAAAAAAAAAAAAAAAAAAAAAAAAAAAAAAAAAAAAAAAAAAAAAAAAAAAAAAAAAAAAAAAAAAAAAAAAAAAAAAAAAAAAAAAAAAAAAAAAAAAAAAAAAAAAAAAAAAAAAAAAAAAAAAAAAAAAAAAAAAAAAAAAAAAAAAAAAAAAAAAAAAAAAAAAAAAAAAAAAAAAAAAAAAAAAAAAAAAAAAAAAAAAAAAAAAAAAAAAAAAAAAAAAAAAAAAAAAAAAAAAAAAAAAAAAAAAAAAAAAAAAAAAAAAAAAAAAAAAAAAAAAAAAAAAAAAAAAAAAAAAAAAAAAAAAAAAAAAAAAAAAAAAAAAAAAAAAAAAAAAAAAAAAAAAAAAAAAAAAAAAAAAAAAAAAAAAAAAAAAAAAAAAAAAAAAAAAAAAAAAAAAAAAAAAAAAAAAAAAAAAAAAAAAAAAAAAAAAAAAAAAAAAAAAAAAAAAAAAAAAAAAAAAAAAAAAAAAAAAAAAAAAAAAAAAAAAAAAAAAAAAAAAAAAAAAAAAAAAAAAAAAAAAAAAAAAAAAAAAAAAAAAAAAAAAAAAAAAAAAAAAAAAAAAAAAAAAAAAAAAAAAAAAAAAAAAAAAAAAAAAAAAAAAAAAAAAAAAAAAAAAAAAAAAAAAAAAAAAAAAAAAAAAAAAAAAAAAAAAAAAAAAAAAAAAAAAAAAAAAAAAAAAAAAAAAAAAAAAAAAAAAAAAAAAAAAAAAAAAAAAAAAAAAAAAAAAAAAAAAAAAAAAAAAAAAAAAAAAAAAAAAAAAAAAAAAAAAAAAAAAAAAAAAAAAAAAAAAAAAAAAAAAAAAAAAAAAAAAAAAAAAAAAAAAAAAAAAAAAAAAAAAAAAAAAAAAAAAAAAAAAAAAAAAAAAAAAAAAAAAAAAAAAAAAAAAAAAAAAAAAAAAAAAAAAAAAAAAAAAAAAAAAAAAAAAAAAAAAAAAAAAAAAAAAAAAAAAAAAAAAAAAAAAAAAAAAAAAAAAAAAAAAAAAAAAAAAAAAAAAAAAAAAAAAAAAAAAAAAAAAAAAAAAAAAAAAAAAAAAAAAAAAAAAAAAAAAAAAAAAAAAAAAAAAAAAAAAAAAAAAAAAAAAAAAAAAAAAAAAAAAAAAAAAAAAAAAAAAAAAAAAAAAAAAAAAAAAAAAAAAAAAAAAAAAAAAAAAAAAAAAAAAAAAAAAAAAAAAAAAAAAAAAAAAAAAAAAAAAAAAAAAAAAAAAAAAAAAAAAAAAAAAAAAAAAAAAAAAAAAAAAAAAAAAAAAAAAAAAAAAAAAAAAAAAAAAAAAAAAAAAAAAAAAAAAAAAAAAAAAAAAAAAAAAAAAAAAAAAAAAAAAAAAAAAAAAAAAAAAAAAAAAAAAAAAAAAAAAAAAAAAAAAAAAAAAAAAAAAAAAAAAAAAAAAAAAAAAAAAAAAAAAAAAAAAAAAAAAAAAAAAAAAAAAAAAAAAAAAAAAAAAAAAAAAAAAAAAAAAAAAAAAAAAAAAAAAAAAAAAAAAAAAAAAAAAAAAAAAAAAAAAAAAAAAAAAAAAAAAAAAAAAAAAAAAAAAAAAAAAAAAAAAAAAAAAAAAAAAAAAAAAAAAAAAAAAAAAAAAAAAAAAAAAAAAAAAAAAAAAAAAAAAAAAAAAAAAAAAAAAAAAAAAAAAAAAAAAAAAAAAAAAAAAAAAAAAAAAAAAAAAAAAAAAAAAAAAAAAAAAAAAAAAAAAAAAAAAAAAAAAAAAAAAAAAAAAAAAAAAAAAAAAAAAAAAAAAAAAAAAAAAAAAAAAAAAAAAAAAAAAAAAAAAAAAAAAAAAAAAAAAAAAAAAAAAAAAAAAAAAAAAAAAAAAAAAAAAAAAAAAAAAAAAAAAAAAAAAAAAAAAAAAAAAAAAAAAAAAAAAAAAAAAAAAAAAAAAAAAAAAAAAAAAAAAAAAAAAAAAAAAAAAAAAAAAAAAAAAAAAAAAAAAAAAAAAAAAAAAAAAAAAAAAAAAAAAAAAAAAAAAAAAAAAAAAAAAAAAAAAAAAAAAAAAAAAAAAAAAAAAAAAAAAAAAAAAAAAAAAAAAAAAAAAAAAAAAAAAAAAAAAAAAAAAAAAAAAAAAAAAAAAAAAAAAAAAAAAAAAAAAAAAAAAAAAAAAAAAAAAAAAAAAAAAAAAAAAAAAAAAAAAAAAAAAAAAAAAAAAAAAAAAAAAAAAAAAAAAAAAAAAAAAAAAAAAAAAAAAAAAAAAAAAAAAAAAAAAAAAAAAAAAAAAAAAAAAAAAAAAAAAAAAAAAAAAAAAAAAAAAAAAAAAAAAAAAAAAAAAAAAAAAAAAAAAAAAAAAAAAAAAAAAAAAAAAAAAAAAAAAAAAAAAAAAAAAAAAAAAAAAAAAAAAAAAAAAAAAAAAAAAAAAAAAAAAAAAAAAAAAAAAAAAAAAAAAAAAAAAAAAAAAAAAAAAAAAAAAAAAAAAAAAAAAAAAAAAAAAAAAAAAAAAAAAAAAAAAAAAAAAAAAAAAAAAAAAAAAAAAAAAAAAAAAAAAAAAAAAAAAAAAAAAAAAAAAAAAAAAAAAAAAAAAAAAAAAAAAAAAAAAAAAAAAAAAAAAAAAAAAAAAAAAAAAAAAAAAAAAAAAAAAAAAAAAAAAAAAAAAAAAAAAAAAAAAAAAAAAAAAAAAAAAAAAAAAAAAAAAAAAAAAAAAAAAAAAAAAAAAAAAAAAAAAAAAAAAAAAAAAAAAAAAAAAAAAAAAAAAAAAAAAAAAAAAAAAAAAAAAAAAAAAAAAAAAAAAAAAAAAAAAAAAAAAAAAAAAAAAAAAAAAAAAAAAAAAAAAAAAAAAAAAAAAAAAAAAAAAAAAAAAAAAAAAAAAAAAAAAAAAAAAAAAAAAAAAAAAAAAAAAAAAAAAAAAAAAAAAAAAAAAAAAAAAAAAAAAAAAAAAAAAAAAAAAAAAAAAAAAAAAAAAAAAAAAAAAAAAAAAAAAAAAAAAAAAAAAAAAAAAAAAAAAAAAAAAAAAAAAAAAAAAAAAAAAAAAAAAAAAAAAAAAAAAAAAAAAAAAAAAAAAAAAAAAAAAAAAAAAAAAAAAAAAAAAAAAAAAAAAAAAAAAAAAAAAAAAAAAAAAAAAAAAAAAAAAAAAAAAAAAAAAAAAAAAAAAAAAAAAAAAAAAAAAAAAAAAAAAAAAAAAAAAAAAAAAAAAAAAAAAAAAAAAAAAAAAAAAAAAAAAAAAAAAAAAAAAAAAAAAAAAAAAAAAAAAAAAAAAAAAAAAAAAAAAAAAAAAAAAAAAAAAAAAAAAAAAAAAAAAAAAAAAAAAAAAAAAAAAAAAAAAAAAAAAAAAAAAAAAAAAAAAAAAAAAAAAAAAAAAAAAAAAAAAAAAAAAAAAAAAAAAAAAAAAAAAAAAAAAAAAAAAAAAAAAAAAAAAAAAAAAAAAAAAAAAAAAAAAAAAAAAAAAAAAAAAAAAAAAAAAAAAAAAAAAAAAAAAAAAAAAAAAAAAAAAAAAAAAAAAAAAAAAAAAAAAAAAAAAAAAAAAAAAAAAAAAAAAAAAAAAAAAAAAAAAAAAAAAAAAAAAAAAAAAAAAAAAAAAAAAAAAAAAAAAAAAAAAAAAAAAAAAAAAAAAAAAAAAAAAAAAAAAAAAAAAAAAAAAAAAAAAAAAAAAAAAAAAAAAAAAAAAAAAAAAAAAAAAAAAAAAAAAAAAAAAAAAAAAAAAAAAAAAAAAAAAAAAAAAAAAAAAAAAAAAAAAAAAAAAAAAAAAAAAAAAAAAAAAAAAAAAAAAAAAAAAAAAAAAAAAAAAAAAAAAAAAAAAAAAAAAAAAAAAAAAAAAAAAAAAAAAAAAAAAAAAAAAAAAAAAAAAAAAAAAAAAAAAAAAAAAAAAAAAAAAAAAAAAAAAAAAAAAAAAAAAAAAAAAAAAAAAAAAAAAAAAAAAAAAAAAAAAAAAAAAAAAAAAAAAAAAAAAAAAAAAAAAAAAAAAAAAAAAAAAAAAAAAAAAAAAAAAAAAAAAAAAAAAAAAAAAAAAAAAAAAAAAAAAAAAAAAAAAAAAAAAAAAAAAAAAAAAAAAAAAAAAAAAAAAAAAAAAAAAAAAAAAAAAAAAAAAAAAAAAAAAAAAAAAAAAAAAAAAAAAAAAAAAAAAAAAAAAAAAAAAAAAAAAAAAAAAAAAAAAAAAAAAAAAAAAAAAAAAAAAAAAAAAAAAAAAAAAAAAAAAAAAAAAAAAAAAAAAAAAAAAAAAAAAAAAAAAAAAAAAAAAAAAAAAAAAAAAAAAAAAAAAAAAAAAAAAAAAAAAAAAAAAAAAAAAAAAAAAAAAAAAAAAAAAAAAAAAAAAAAAAAAAAAAAAAAAAAAAAAAAAAAAAAAAAAAAAAAAAAAAAAAAAAAAAAAAAAAAAAAAAAAAAAAAAAAAAAAAAAAAAAAAAAAAAAAAAAAAAAAAAAAAAAAAAAAAAAAAAAAAAAAAAAAAAAAAAAAAAAAAAAAAAAAAAAAAAAAAAAAAAAAAAAAAAAAAAAAAAAAAAAAAAAAAAAAAAAAAAAAAAAAAAAAAAAAAAAAAAAAAAAAAAAAAAAAAAAAAAAAAAAAAAAAAAAAAAAAAAAAAAAAAAAAAAAAAAAAAAAAAAAAAAAAAAAAAAAAAAAAAAAAAAAAAAAAAAAAAAAAAAAAAAAAAAAAAAAAAAAAAAAAAAAAAAAAAAAAAAAAAAAAAAAAAAAAAAAAAAAAAAAAAAAAAAAAAAAAAAAAAAAAAAAAAAAAAAAAAAAAAAAAAAAAAAAAAAAAAAAAAAAAAAAAAAAAAAAAAAAAAAAAAAAAAAAAAAAAAAAAAAAAAAAAAAAAAAAAAAAAAAAAAAAAAAAAAAAAAAAAAAAAAAAAAAAAAAAAAAAAAAAAAAAAAAAAAAAAAAAAAAAAAAAAAAAAAAAAAAAAAAAAAAAAAAAAAAAAAAAAAAAAAAAAAAAAAAAAAAAAAAAAAAAAAAAAAAAAAAAAAAAAAAAAAAAAAAAAAAAAAAAAAAAAAAAAAAAAAAAAAAAAAAAAAAAAAAAAAAAAAAAAAAAAAAAAAAAAAAAAAAAAAAAAAAAAAAAAAAAAAAAAAAAAAAAAAAAAAAAAAAAAAAAAAAAAAAAAAAAAAAAAAAAAAAAAAAAAAAAAAAAAAAAAAAAAAAAAAAAAAAAAAAAAAAAAAAAAAAAAAAAAAAAAAAAAAAAAAAAAAAAAAAAAAAAAAAAAAAAAAAAAAAAAAAAAAAAAAAAAAAAAAAAAAAAAAAAAAAAAAAAAAAAAAAAAAAAAAAAAAAAAAAAAAAAAAAAAAAAAAAAAAAAAAAAAAAAAAAAAAAAAAAAAAAAAAAAAAAAAAAAAAAAAAAAAAAAAAAAAAAAAAAAAAAAAAAAAAAAAAAAAAAAAAAAAAAAAAAAAAAAAAAAAAAAAAAAAAAAAAAAAAAAAAAAAAAAAAAAAAAAAAAAAAAAAAAAAAAAAAAAAAAAAAAAAAAAAAAAAAAAAAAAAAAAAAAAAAAAAAAAAAAAAAAAAAAAAAAAAAAAAAAAAAAAAAAAAAAAAAAAAAAAAAAAAAAAAAAAAAAAAAAAAAAAAAAAAAAAAAAAAAAAAAAAAAAAAAAAAAAAAAAAAAAAAAAAAAAAAAAAAAAAAAAAAAAAAAAAAAAAAAAAAAAAAAAAAAAAAAAAAAAAAAAAAAAAAAAAAAAAAAAAAAAAAAAAAAAAAAAAAAAAAAAAAAAAAAAAAAAAAAAAAAAAAAAAAAAAAAAAAAAAAAAAAAAAAAAAAAAAAAAAAAAAAAAAAAAAAAAAAAAAAAAAAAAAAAAAAAAAAAAAAAAAAAAAAAAAAAAAAAAAAAAAAAAAAAAAAAAAAAAAAAAAAAAAAAAAAAAAAAAAAAAAAAAAAAAAAAAAAAAAAAAAAAAAAAAAAAAAAAAAAAAAAAAAAAAAAAAAAAAAAAAAAAAAAAAAAAAAAAAAAAAAAAAAAAAAAAAAAAAAAAAAAAAAAAAAAAAAAAAAAAAAAAAAAAAAAAAAAAAAAAAAAAAAAAAAAAAAAAAAAAAAAAAAAAAAAAAAAAAAAAAAAAAAAAAAAAAAAAAAAAAAAAAAAAAAAAAAAAAAAAAAAAAAAAAAAAAAAAAAAAAAAAAAAAAAAAAAAAAAAAAAAAAAAAAAAAAAAAAAAAAAAAAAAAAAAAAAAAAAAAAAAAAAAAAAAAAAAAAAAAAAAAAAAAAAAAAAAAAAAAAAAAAAAAAAAAAAAAAAAAAAAAAAAAAAAAAAAAAAAAAAAAAAAAAAAAAAAAAAAAAAAAAAAAAAAAAAAAAAAAAAAAAAAAAAAAAAAAAAAAAAAAAAAAAAAAAAAAAAAAAAAAAAAAAAAAAAAAAAAAAAAAAAAAAAAAAAAAAAAAAAAAAAAAAAAAAAAAAAAAAAAAAAAAAAAAAAAAAAAAAAAAAAAAAAAAAAAAAAAAAAAAAAAAAAAAAAAAAAAAAAAAAAAAAAAAAAAAAAAAAAAAAAAAAAAAAAAAAAAAAAAAAAAAAAAAAAAAAAAAAAAAAAAAAAAAAAAAAAAAAAAAAAAAAAAAAAAAAAAAAAAAAAAAAAAAAAAAAAAAAAAAAAAAAAAAAAAAAAAAAAAAAAAAAAAAAAAAAAAAAAAAAAAAAAAAAAAAAAAAAAAAAAAAAAAAAAAAAAAAAAAAAAAAAAAAAAAAAAAAAAAAAAAAAAAAAAAAAAAAAAAAAAAAAAAAAAAAAAAAAAAAAAAAAAAAAAAAAAAAAAAAAAAAAAAAAAAAAAAAAAAAAAAAAAAAAAAAAAAAAAAAAAAAAAAAAAAAAAAAAAAAAAAAAAAAAAAAAAAAAAAAAAAAAAAAAAAAAAAAAAAAAAAAAAAAAAAAAAAAAAAAAAAAAAAAAAAAAAAAAAAAAAAAAAAAAAAAAAAAAAAAAAAAAAAAAAAAAAAAAAAAAAAAAAAAAAAAAAAAAAAAAAAAAAAAAAAAAAAAAAAAAAAAAAAAAAAAAAAAAAAAAAAAAAAAAAAAAAAAAAAAAAAAAAAAAAAAAAAAAAAAAAAAAAAAAAAAAAAAAAAAAAAAAAAAAAAAAAAAAAAAAAAAAAAAAAAAAAAAAAAAAAAAAAAAAAAAAAAAAAAAAAAAAAAAAAAAAAAAAAAAAAAAAAAAAAAAAAAAAAAAAAAAAAAAAAAAAAAAAAAAAAAAAAAAAAAAAAAAAAAAAAAAAAAAAAAAAAAAAAAAAAAAAAAAAAAAAAAAAAAAAAAAAAAAAAAAAAAAAAAAAAAAAAAAAAAAAAAAAAAAAAAAAAAAAAAAAAAAAAAAAAAAAAAAAAAAAAAAAAAAAAAAAAAAAAAAAAAAAAAAAAAAAAAAAAAAAAAAAAAAAAAAAAAAAAAAAAAAAAAAAAAAAAAAAAAAAAAAAAAAAAAAAAAAAAAAAAAAAAAAAAAAAAAAAAAAAAAAAAAAAAAAAAAAAAAAAAAAAAAAAAAAAAAAAAAAAAAAAAAAAAAAAAAAAAAAAAAAAAAAAAAAAAAAAAAAAAAAAAAAAAAAAAAAAAAAAAAAAAAAAAAAAAAAAAAAAAAAAAAAAAAAAAAAAAAAAAAAAAAAAAAAAAAAAAAAAAAAAAAAAAAAAAAAAAAAAAAAAAAAAAAAAAAAAAAAAAAAAAAAAAAAAAAAAAAAAAAAAAAAAAAAAAAAAAAAAAAAAAAAAAAAAAAAAAAAAAAAAAAAAAAAAAAAAAAAAAAAAAAAAAAAAAAAAAAAAAAAAAAAAAAAAAAAAAAAAAAAAAAAAAAAAAAAAAAAAAAAAAAAAAAAAAAAAAAAAAAAAAAAAAAAAAAAAAAAAAAAAAAAAAAAAAAAAAAAAAAAAAAAAAAAAAAAAAAAAAAAAAAAAAAAAAAAAAAAAAAAAAAAAAAAAAAAAAAAAAAAAAAAAAAAAAAAAAAAAAAAAAAAAAAAAAAAAAAAAAAAAAAAAAAAAAAAAAAAAAAAAAAAAAAAAAAAAAAAAAAAAAAAAAAAAAAAAAAAAAAAAAAAAAAAAAAAAAAAAAAAAAAAAAAAAAAAAAAAAAAAAAAAAAAAAAAAAAAAAAAAAAAAAAAAAAAAAAAAAAAAAAAAAAAAAAAAAAAAAAAAAAAAAAAAAAAAAAAAAAAAAAAAAAAAAAAAAAAAAAAAAAAAAAAAAAAAAAAAAAAAAAAAAAAAAAAAAAAAAAAAAAAAAAAAAAAAAAAAAAAAAAAAAAAAAAAAAAAAAAAAAAAAAAAAAAAAAAAAAAAAAAAAAAAAAAAAAAAAAAAAAAAAAAAAAAAAAAAAAAAAAAAAAAAAAAAAAAAAAAAAAAAAAAAAAAAAAAAAAAAAAAAAAAAAAAAAAAAAAAAAAAAAAAAAAAAAAAAAAAAAAAAAAAAAAAAAAAAAAAAAAAAAAAAAAAAAAAAAAAAAAAAAAAAAAAAAAAAAAAAAAAAAAAAAAAAAAAAAAAAAAAAAAAAAAAAAAAAAAAAAAAAAAAAAAAAAAAAAAAAAAAAAAAAAAAAAAAAAAAAAAAAAAAAAAAAAAAAAAAAAAAAAAAAAAAAAAAAAAAAAAAAAAAAAAAAAAAAAAAAAAAAAAAAAAAAAAAAAAAAAAAAAAAAAAAAAAAAAAAAAAAAAAAAAAAAAAAAAAAAAAAAAAAAAAAAAAAAAAAAAAAAAAAAAAAAAAAAAAAAAAAAAAAAAAAAAAAAAAAAAAAAAAAAAAAAAAAAAAAAAAAAAAAAAAAAAAAAAAAAAAAAAAAAAAAAAAAAAAAAAAAAAAAAAAAAAAAAAAAAAAAAAAAAAAAAAAAAAAAAAAAAAAAAAAAAAAAAAAAAAAAAAAAAAAAAAAAAAAAAAAAAAAAAAAAAAAAAAAAAAAAAAAAAAAAAAAAAAAAAAAAAAAAAAAAAAAAAAAAAAAAAAAAAAAAAAAAAAAAAAAAAAAAAAAAAAAAAAAAAAAAAAAAAAAAAAAAAAAAAAAAAAAAAAAAAAAAAAAAAAAAAAAAAAAAAAAAAAAAAAAAAAAAAAAAAAAAAAAAAAAAAAAAAAAAAAAAAAAAAAAAAAAAAAAAAAAAAAAAAAAAAAAAAAAAAAAAAAAAAAAAAAAAAAAAAAAAAAAAAAAAAAAAAAAAAAAAAAAAAAAAAAAAAAAAAAAAAAAAAAAAAAAAAAAAAAAAAAAAAAAAAAAAAAAAAAAAAAAAAAAAAAAAAAAAAAAAAAAAAAAAAAAAAAAAAAAAAAAAAAAAAAAAAAAAAAAAAAAAAAAAAAAAAAAAAAAAAAAAAAAAAAAAAAAAAAAAAAAAAAAAAAAAAAAAAAAAAAAAAAAAAAAAAAAAAAAAAAAAAAAAAAAAAAAAAAAAAAAAAAAAAAAAAAAAAAAAAAAAAAAAAAAAAAAAAAAAAAAAAAAAAAAAAAAAAAAAAAAAAAAAAAAAAAAAAAAAAAAAAAAAAAAAAAAAAAAAAAAAAAAAAAAAAAAAAAAAAAAAAAAAAAAAAAAAAAAAAAAAAAAAAAAAAAAAAAAAAAAAAAAAAAAAAAAAAAAAAAAAAAAAAAAAAAAAAAAAAAAAAAAAAAAAAAAAAAAAAAAAAAAAAAAAAAAAAAAAAAAAAAAAAAAAAAAAAAAAAAAAAAAAAAAAAAAAAAAAAAAAAAAAAAAAAAAAAAAAAAAAAAAAAAAAAAAAAAAAAAAAAAAAAAAAAAAAAAAAAAAAAAAAAAAAAAAAAAAAAAAAAAAAAAAAAAAAAAAAAAAAAAAAAAAAAAAAAAAAAAAAAAAAAAAAAAAAAAAAAAAAAAAAAAAAAAAAAAAAAAAAAAAAAAAAAAAAAAAAAAAAAAAAAAAAAAAAAAAAAAAAAAAAAAAAAAAAAAAAAAAAAAAAAAAAAAAAAAAAAAAAAAAAAAAAAAAAAAAAAAAAAAAAAAAAAAAAAAAAAAAAAAAAAAAAAAAAAAAAAAAAAAAAAAAAAAAAAAAAAAAAAAAAAAAAAAAAAAAAAAAAAAAAAAAAAAAAAAAAAAAAAAAAAAAAAAAAAAAAAAAAAAAAAAAAAAAAAAAAAAAAAAAAAAAAAAAAAAAAAAAAAAAAAAAAAAAAAAAAAAAAAAAAAAAAAAAAAAAAAAAAAAAAAAAAAAAAAAAAAAAAAAAAAAAAAAAAAAAAAAAAAAAAAAAAAAAAAAAAAAAAAAAAAAAAAAAAAAAAAAAAAAAAAAAAAAAAAAAAAAAAAAAAAAAAAAAAAAAAAAAAAAAAAAAAAAAAAAAAAAAAAAAAAAAAAAAAAAAAAAAAAAAAAAAAAAAAAAAAAAAAAAAAAAAAAAAAAAAAAAAAAAAAAAAAAAAAAAAAAAAAAAAAAAAAAAAAAAAAAAAAAAAAAAAAAAAAAAAAAAAAAAAAAAAAAAAAAAAAAAAAAAAAAAAAAAAAAAAAAAAAAAAAAAAAAAAAAAAAAAAAAAAAAAAAAAAAAAAAAAAAAAAAAAAAAAAAAAAAAAAAAAAAAAAAAAAAAAAAAAAAAAAAAAAAAAAAAAAAAAAAAAAAAAAAAAAAAAAAAAAAAAAAAAAAAAAAAAAAAAAAAAAAAAAAAAAAAAAAAAAAAAAAAAAAAAAAAAAAAAAAAAAAAAAAAAAAAAAAAAAAAAAAAAAAAAAAAAAAAAAAAAAAAAAAAAAAAAAAAAAAAAAAAAAAAAAAAAAAAAAAAAAAAAAAAAAAAAAAAAAAAAAAAAAAAAAAAAAAAAAAAAAAAAAAAAAAAAAAAAAAAAAAAAAAAAAAAAAAAAAAAAAAAAAAAAAAAAAAAAAAAAAAAAAAAAAAAAAAAAAAAAAAAAAAAAAAAAAAAAAAAAAAAAAAAAAAAAAAAAAAAAAAAAAAAAAAAAAAAAAAAAAAAAAAAAAAAAAAAAAAAAAAAAAAAAAAAAAAAAAAAAAAAAAAAAAAAAAAAAAAAAAAAAAAAAAAAAAAAAAAAAAAAAAAAAAAAAAAAAAAAAAAAAAAAAAAAAAAAAAAAAAAAAAAAAAAAAAAAAAAAAAAAAAAAAAAAAAAAAAAAAAAAAAAAAAAAAAAAAAAAAAAAAAAAAAAAAAAAAAAAAAAAAAAAAAAAAAAAAAAAAAAAAAAAAAAAAAAAAAAAAAAAAAAAAAAAAAAAAAAAAAAAAAAAAAAAAAAAAAAAAAAAAAAAAAAAAAAAAAAAAAAAAAAAAAAAAAAAAAAAAAAAAAAAAAAAAAAAAAAAAAAAAAAAAAAAAAAAAAAAAAAAAAAAAAAAAAAAAAAAAAAAAAAAAAAAAAAAAAAAAAAAAAAAAAAAAAAAAAAAAAAAAAAAAAAAAAAAAAAAAAAAAAAAAAAAAAAAAAAAAAAAAAAAAAAAAAAAAAAAAAAAAAAAAAAAAAAAAAAAAAAAAAAAAAAAAAAAAAAAAAAAAAAAAAAAAAAAAAAAAAAAAAAAAAAAAAAAAAAAAAAAAAAAAAAAAAAAAAAAAAAAAAAAAAAAAAAAAAAAAAAAAAAAAAAAAAAAAAAAAAAAAAAAAAAAAAAAAAAAAAAAAAAAAAAAAAAAAAAAAAAAAAAAAAAAAAAAAAAAAAAAAAAAAAAAAAAAAAAAAAAAAAAAAAAAAAAAAAAAAAAAAAAAAAAAAAAAAAAAAAAAAAAAAAAAAAAAAAAAAAAAAAAAAAAAAAAAAAAAAAAAAAAAAAAAAAAAAAAAAAAAAAAAAAAAAAAAAAAAAAAAAAAAAAAAAAAAAAAAAAAAAAAAAAAAAAAAAAAAAAAAAAAAAAAAAAAAAAAAAAAAAAAAAAAAAAAAAAAAAAAAAAAAAAAAAAAAAAAAAAAAAAAAAAAAAAAAAAAAAAAAAAAAAAAAAAAAAAAAAAAAAAAAAAAAAAAAAAAAAAAAAAAAAAAAAAAAAAAAAAAAAAAAAAAAAAAAAAAAAAAAAAAAAAAAAAAAAAAAAAAAAAAAAAAAAAAAAAAAAAAAAAAAAAAAAAAAAAAAAAAAAAAAAAAAAAAAAAAAAAAAAAAAAAAAAAAAAAAAAAAAAAAAAAAAAAAAAAAAAAAAAAAAAAAAAAAAAAAAAAAAAAAAAAAAAAAAAAAAAAAAAAAAAAAAAAAAAAAAAAAAAAAAAAAAAAAAAAAAAAAAAAAAAAAAAAAAAAAAAAAAAAAAAAAAAAAAAAAAAAAAAAAAAAAAAAAAAAAAAAAAAAAAAAAAAAAAAAAAAAAAAAAAAAAAAAAAAAAAAAAAAAAAAAAAAAAAAAAAAAAAAAAAAAAAAAAAAAAAAAAAAAAAAAAAAAAAAAAAAAAAAAAAAAAAAAAAAAAAAAAAAAAAAAAAAAAAAAAAAAAAAAAAAAAAAAAAAAAAAAAAAAAAAAAAAAAAAAAAAAAAAAAAAAAAAAAAAAAAAAAAAAAAAAAAAAAAAAAAAAAAAAAAAAAAAAAAAAAAAAAAAAAAAAAAAAAAAAAAAAAAAAAAAAAAAAAAAAAAAAAAAAAAAAAAAAAAAAAAAAAAAAAAAAAAAAAAAAAAAAAAAAAAAAAAAAAAAAAAAAAAAAAAAAAAAAAAAAAAAAAAAAAAAAAAAAAAAAAAAAAAAAAAAAAAAAAAAAAAAAAAAAAAAAAAAAAAAAAAAAAAAAAAAAAAAAAAAAAAAAAAAAAAAAAAAAAAAAAAAAAAAAAAAAAAAAAAAAAAAAAAAAAAAAAAAAAAAAAAAAAAAAAAAAAAAAAAAAAAAAAAAAAAAAAAAAAAAAAAAAAAAAAAAAAAAAAAAAAAAAAAAAAAAAAAAAAAAAAAAAAAAAAAAAAAAAAAAAAAAAAAAAAAAAAAAAAAAAAAAAAAAAAAAAAAAAAAAAAAAAAAAAAAAAAAAAAAAAAAAAAAAAAAAAAAAAAAAAAAAAAAAAAAAAAAAAAAAAAAAAAAAAAAAAAAAAAAAAAAAAAAAAAAAAAAAAAAAAAAAAAAAAAAAAAAAAAAAAAAAAAAAAAAAAAAAAAAAAAAAAAAAAAAAAAAAAAAAAAAAAAAAAAAAAAAAAAAAAAAAAAAAAAAAAAAAAAAAAAAAAAAAAAAAAAAAAAAAAAAAAAAAAAAAAAAAAAAAAAAAAAAAAAAAAAAAAAAAAAAAAAAAAAAAAAAAAAAAAAAAAAAAAAAAAAAAAAAAAAAAAAAAAAAAAAAAAAAAAAAAAAAAAAAAAAAAAAAAAAAAAAAAAAAAAAAAAAAAAAAAAAAAAAAAAAAAAAAAAAAAAAAAAAAAAAAAAAAAAAAAAAAAAAAAAAAAAAAAAAAAAAAAAAAAAAAAAAAAAAAAAAAAAAAAAAAAAAAAAAAAAAAAAAAAAAAAAAAAAAAAAAAAAAAAAAAAAAAAAAAAAAAAAAAAAAAAAAAAAAAAAAAAAAAAAAAAAAAAAAAAAAAAAAAAAAAAAAAAAAAAAAAAAAAAAAAAAAAAAAAAAAAAAAAAAAAAAAAAAAAAAAAAAAAAAAAAAAAAAAAAAAAAAAAAAAAAAAAAAAAAAAAAAAAAAAAAAAAAAAAAAAAAAAAAAAAAAAAAAAAAAAAAAAAAAAAAAAAAAAAAAAAAAAAAAAAAAAAAAAAAAAAAAAAAAAAAAAAAAAAAAAAAAAAAAAAAAAAAAAAAAAAAAAAAAAAAAAAAAAAAAAAAAAAAAAAAAAAAAAAAAAAAAAAAAAAAAAAAAAAAAAAAAAAAAAAAAAAAAAAAAAAAAAAAAAAAAAAAAAAAAAAAAAAAAAAAAAAAAAAAAAAAAAAAAAAAAAAAAAAAAAAAAAAAAAAAAAAAAAAAAAAAAAAAAAAAAAAAAAAAAAAAAAAAAAAAAAAAAAAAAAAAAAAAAAAAAAAAAAAAAAAAAAAAAAAAAAAAAAAAAAAAAAAAAAAAAAAAAAAAAAAAAAAAAAAAAAAAAAAAAAAAAAAAAAAAAAAAAAAAAAAAAAAAAAAAAAAAAAAAAAAAAAAAAAAAAAAAAAAAAAAAAAAAAAAAAAAAAAAAAAAAAAAAAAAAAAAAAAAAAAAAAAAAAAAAAAAAAAAAAAAAAAAAAAAAAAAAAAAAAAAAAAAAAAAAAAAAAAAAAAAAAAAAAAAAAAAAAAAAAAAAAAAAAAAAAAAAAAAAAAAAAAAAAAAAAAAAAAAAAAAAAAAAAAAAAAAAAAAAAAAAAAAAAAAAAAAAAAAAAAAAAAAAAAAAAAAAAAAAAAAAAAAAAAAAAAAAAAAAAAAAAAAAAAAAAAAAAAAAAAAAAAAAAAAAAAAAAAAAAAAAAAAAAAAAAAAAAAAAAAAAAAAAAAAAAAAAAAAAAAAAAAAAAAAAAAAAAAAAAAAAAAAAAAAAAAAAAAAAAAAAAAAAAAAAAAAAAAAAAAAAAAAAAAAAAAAAAAAAAAAAAAAAAAAAAAAAAAAAAAAAAAAAAAAAAAAAAAAAAAAAAAAAAAAAAAAAAAAAAAAAAAAAAAAAAAAAAAAAAAAAAAAAAAAAAAAAAAAAAAAAAAAAAAAAAAAAAAAAAAAAAAAAAAAAAAAAAAAAAAAAAAAAAAAAAAAAAAAAAAAAAAAAAAAAAAAAAAAAAAAAAAAAAAAAAAAAAAAAAAAAAAAAAAAAAAAAAAAAAAAAAAAAAAAAAAAAAAAAAAAAAAAAAAAAAAAAAAAAAAAAAAAAAAAAAAAAAAAAAAAAAAAAAAAAAAAAAAAAAAAAAAAAAAAAAAAAAAAAAAAAAAAAAAAAAAAAAAAAAAAAAAAAAAAAAAAAAAAAAAAAAAAAAAAAAAAAAAAAAAAAAAAAAAAAAAAAAAAAAAAAAAAAAAAAAAAAAAAAAAAAAAAAAAAAAAAAAAAAAAAAAAAAAAAAAAAAAAAAAAAAAAAAAAAAAAAAAAAAAAAAAAAAAAAAAAAAAAAAAAAAAAAAAAAAAAAAAAAAAAAAAAAAAAAAAAAAAAAAAAAAAAAAAAAAAAAAAAAAAAAAAAAAAAAAAAAAAAAAAAAAAAAAAAAAAAAAAAAAAAAAAAAAAAAAAAAAAAAAAAAAAAAAAAAAAAAAAAAAAAAAAAAAAAAAAAAAAAAAAAAAAAAAAAAAAAAAAAAAAAAAAAAAAAAAAAAAAAAAAAAAAAAAAAAAAAAAAAAAAAAAAAAAAAAAAAAAAAAAAAAAAAAAAAAAAAAAAAAAAAAAAAAAAAAAAAAAAAAAAAAAAAAAAAAAAAAAAAAAAAAAAAAAAAAAAAAAAAAAAAAAAAAAAAAAAAAAAAAAAAAAAAAAAAAAAAAAAAAAAAAAAAAAAAAAAAAAAAAAAAAAAAAAAAAAAAAAAAAAAAAAAAAAAAAAAAAAAAAAAAAAAAAAAAAAAAAAAAAAAAAAAAAAAAAAAAAAAAAAAAAAAAAAAAAAAAAAAAAAAAAAAAAAAAAAAAAAAAAAAAAAAAAAAAAAAAAAAAAAAAAAAAAAAAAAAAAAAAAAAAAAAAAAAAAAAAAAAAAAAAAAAAAAAAAAAAAAAAAAAAAAAAAAAAAAAAAAAAAAAAAAAAAAAAAAAAAAAAAAAAAAAAAAAAAAAAAAAAAAAAAAAAAAAAAAAAAAAAAAAAAAAAAAAAAAAAAAAAAAAAAAAAAAAAAAAAAAAAAAAAAAAAAAAAAAAAAAAAAAAAAAAAAAAAAAAAAAAAAAAAAAAAAAAAAAAAAAAAAAAAAAAAAAAAAAAAAAAAAAAAAAAAAAAAAAAAAAAAAAAAAAAAAAAAAAAAAAAAAAAAAAAAAAAAAAAAAAAAAAAAAAAAAAAAAAAAAAAAAAAAAAAAAAAAAAAAAAAAAAAAAAAAAAAAAAAAAAAAAAAAAAAAAAAAAAAAAAAAAAAAAAAAAAAAAAAAAAAAAAAAAAAAAAAAAAAAAAAAAAAAAAAAAAAAAAAAAAAAAAAAAAAAAAAAAAAAAAAAAAAAAAAAAAAAAAAAAAAAAAAAAAAAAAAAAAAAAAAAAAAAAAAAAAAAAAAAAAAAAAAAAAAAAAAAAAAAAAAAAAAAAAAAAAAAAAAAAAAAAAAAAAAAAAAAAAAAAAAAAAAAAAAAAAAAAAAAAAAAAAAAAAAAAAAAAAAAAAAAAAAAAAAAAAAAAAAAAAAAAAAAAAAAAAAAAAAAAAAAAAAAAAAAAAAAAAAAAAAAAAAAAAAAAAAAAAAAAAAAAAAAAAAAAAAAAAAAAAAAAAAAAAAAAAAAAAAAAAAAAAAAAAAAAAAAAAAAAAAAAAAAAAAAAAAAAAAAAAAAAAAAAAAAAAAAAAAAAAAAAAAAAAAAAAAAAAAAAAAAAAAAAAAAAAAAAAAAAAAAAAAAAAAAAAAAAAAAAAAAAAAAAAAAAAAAAAAAAAAAAAAAAAAAAAAAAAAAAAAAAAAAAAAAAAAAAAAAAAAAAAAAAAAAAAAAAAAAAAAAAAAAAAAAAAAAAAAAAAAAAAAAAAAAAAAAAAAAAAAAAAAAAAAAAAAAAAAAAAAAAAAAAAAAAAAAAAAAAAAAAAAAAAAAAAAAAAAAAAAAAAAAAAAAAAAAAAAAAAAAAAAAAAAAAAAAAAAAAAAAAAAAAAAAAAAAAAAAAAAAAAAAAAAAAAAAAAAAAAAAAAAAAAAAAAAAAAAAAAAAAAAAAAAAAAAAAAAAAAAAAAAAAAAAAAAAAAAAAAAAAAAAAAAAAAAAAAAAAAAAAAAAAAAAAAAAAAAAAAAAAAAAAAAAAAAAAAAAAAAAAAAAAAAAAAAAAAAAAAAAAAAAAAAAAAAAAAAAAAAAAAAAAAAAAAAAAAAAAAAAAAAAAAAAAAAAAAAAAAAAAAAAAAAAAAAAAAAAAAAAAAAAAAAAAAAAAAAAAAAAAAAAAAAAAAAAAAAAAAAAAAAAAAAAAAAAAAAAAAAAAAAAAAAAAAAAAAAAAAAAAAAAAAAAAAAAAAAAAAAAAAAAAAAAAAAAAAAAAAAAAAAAAAAAAAAAAAAAAAAAAAAAAAAAAAAAAAAAAAAAAAAAAAAAAAAAAAAAAAAAAAAAAAAAAAAAAAAAAAAAAAAAAAAAAAAAAAAAAAAAAAAAAAAAAAAAAAAAAAAAAAAAAAAAAAAAAAAAAAAAAAAAAAAAAAAAAAAAAAAAAAAAAAAAAAAAAAAAAAAAAAAAAAAAAAAAAAAAAAAAAAAAAAAAAAAAAAAAAAAAAAAAAAAAAAAAAAAAAAAAAAAAAAAAAAAAAAAAAAAAAAAAAAAAAAAAAAAAAAAAAAAAAAAAAAAAAAAAAAAAAAAAAAAAAAAAAAAAAAAAAAAAAAAAAAAAAAAAAAAAAAAAAAAAAAAAAAAAAAAAAAAAAAAAAAAAAAAAAAAAAAAAAAAAAAAAAAAAAAAAAAAAAAAAAAAAAAAAAAAAAAAAAAAAAAAAAAAAAAAAAAAAAAAAAAAAAAAAAAAAAAAAAAAAAAAAAAAAAAAAAAAAAAAAAAAAAAAAAAAAAAAAAAAAAAAAAAAAAAAAAAAAAAAAAAAAAAAAAAAAAAAAAAAAAAAAAAAAAAAAAAAAAAAAAAAAAAAAAAAAAAAAAAAAAAAAAAAAAAAAAAAAAAAAAAAAAAAAAAAAAAAAAAAAAAAAAAAAAAAAAAAAAAAAAAAAAAAAAAAAAAAAAAAAAAAAAAAAAAAAAAAAAAAAAAAAAAAAAAAAAAAAAAAAAAAAAAAAAAAAAAAAAAAAAAAAAAAAAAAAAAAAAAAAAAAAAAAAAAAAAAAAAAAAAAAAAAAAAAAAAAAAAAAAAAAAAAAAAAAAAAAAAAAAAAAAAAAAAAAAAAAAAAAAAAAAAAAAAAAAAAAAAAAAAAAAAAAAAAAAAAAAAAAAAAAAAAAAAAAAAAAAAAAAAAAAAAAAAAAAAAAAAAAAAAAAAAAAAAAAAAAAAAAAAAAAAAAAAAAAAAAAAAAAAAAAAAAAAAAAAAAAAAAAAAAAAAAAAAAAAAAAAAAAAAAAAAAAAAAAAAAAAAAAAAAAAAAAAAAAAAAAAAAAAAAAAAAAAAAAAAAAAAAAAAAAAAAAAAAAAAAAAAAAAAAAAAAAAAAAAAAAAAAAAAAAAAAAAAAAAAAAAAAAAAAAAAAAAAAAAAAAAAAAAAAAAAAAAAAAAAAAAAAAAAAAAAAAAAAAAAAAAAAAAAAAAAAAAAAAAAAAAAAAAAAAAAAAAAAAAAAAAAAAAAAAAAAAAAAAAAAAAAAAAAAAAAAAAAAAAAAAAAAAAAAAAAAAAAAAAAAAAAAAAAAAAAAAAAAAAAAAAAAAAAAAAAAAAAAAAAAAAAAAAAAAAAAAAAAAAAAAAAAAAAAAAAAAAAAAAAAAAAAAAAAAAAAAAAAAAAAAAAAAAAAAAAAAAAAAAAAAAAAAAAAAAAAAAAAAAAAAAAAAAAAAAAAAAAAAAAAAAAAAAAAAAAAAAAAAAAAAAAAAAAAAAAAAAAAAAAAAAAAAAAAAAAAAAAAAAAAAAAAAAAAAAAAAAAAAAAAAAAAAAAAAAAAAAAAAAAAAAAAAAAAAAAAAAAAAAAAAAAAAAAAAAAAAAAAAAAAAAAAAAAAAAAAAAAAAAAAAAAAAAAAAAAAAAAAAAAAAAAAAAAAAAAAAAAAAAAAAAAAAAAAAAAAAAAAAAAAAAAAAAAAAAAAAAAAAAAAAAAAAAAAAAAAAAAAAAAAAAAAAAAAAAAAAAAAAAAAAAAAAAAAAAAAAAAAAAAAAAAAAAAAAAAAAAAAAAAAAAAAAAAAAAAAAAAAAAAAAAAAAAAAAAAAAAAAAAAAAAAAAAAAAAAAAAAAAAAAAAAAAAAAAAAAAAAAAAAAAAAAAAAAAAAAAAAAAAAAAAAAAAAAAAAAAAAAAAAAAAAAAAAAAAAAAAAAAAAAAAAAAAAAAAAAAAAAAAAAAAAAAAAAAAAAAAAAAAAAAAAAAAAAAAAAAAAAAAAAAAAAAAAAAAAAAAAAAAAAAAAAAAAAAAAAAAAAAAAAAAAAAAAAAAAAAAAAAAAAAAAAAAAAAAAAAAAAAAAAAAAAAAAAAAAAAAAAAAAAAAAAAAAAAAAAAAAAAAAAAAAAAAAAAAAAAAAAAAAAAAAAAAAAAAAAAAAAAAAAAAAAAAAAAAAAAAAAAAAAAAAAAAAAAAAAAAAAAAAAAAAAAAAAAAAAAAAAAAAAAAAAAAAAAAAAAAAAAAAAAAAAAAAAAAAAAAAAAAAAAAAAAAAAAAAAAAAAAAAAAAAAAAAAAAAAAAAAAAAAAAAAAAAAAAAAAAAAAAAAAAAAAAAAAAAAAAAAAAAAAAAAAAAAAAAAAAAAAAAAAAAAAAAAAAAAAAAAAAAAAAAAAAAAAAAAAAAAAAAAAAAAAAAAAAAAAAAAAAAAAAAAAAAAAAAAAAAAAAAAAAAAAAAAAAAAAAAAAAAAAAAAAAAAAAAAAAAAAAAAAAAAAAAAAAAAAAAAAAAAAAAAAAAAAAAAAAAAAAAAAAAAAAAAAAAAAAAAAAAAAAAAAAAAAAAAAAAAAAAAAAAAAAAAAAAAAAAAAAAAAAAAAAAAAAAAAAAAAAAAAAAAAAAAAAAAAAAAAAAAAAAAAAAAAAAAAAAAAAAAAAAAAAAAAAAAAAAAAAAAAAAAAAAAAAAAAAAAAAAAAAAAAAAAAAAAAAAAAAAAAAAAAAAAAAAAAAAAAAAAAAAAAAAAAAAAAAAAAAAAAAAAAAAAAAAAAAAAAAAAAAAAAAAAAAAAAAAAAAAAAAAAAAAAAAAAAAAAAAAAAAAAAAAAAAAAAAAAAAAAAAAAAAAAAAAAAAAAAAAAAAAAAAAAAAAAAAAAAAAAAAAAAAAAAAAAAAAAAAAAAAAAAAAAAAAAAAAAAAAAAAAAAAAAAAAAAAAAAAAAAAAAAAAAAAAAAAAAAAAAAAAAAAAAAAAAAAAAAAAAAAAAAAAAAAAAAAAAAAAAAAAAAAAAAAAAAAAAAAAAAAAAAAAAAAAAAAAAAAAAAAAAAAAAAAAAAAAAAAAAAAAAAAAAAAAAAAAAAAAAAAAAAAAAAAAAAAAAAAAAAAAAAAAAAAAAAAAAAAAAAAAAAAAAAAAAAAAAAAAAAAAAAAAAAAAAAAAAAAAAAAAAAAAAAAAAAAAAAAAAAAAAAAAAAAAAAAAAAAAAAAAAAAAAAAAAAAAAAAAAAAAAAAAAAAAAAAAAAAAAAAAAAAAAAAAAAAAAAAAAAAAAAAAAAAAAAAAAAAAAAAAAAAAAAAAAAAAAAAAAAAAAAAAAAAAAAAAAAAAAAAAAAAAAAAAAAAAAAAAAAAAAAAAAAAAAAAAAAAAAAAAAAAAAAAAAAAAAAAAAAAAAAAAAAAAAAAAAAAAAAAAAAAAAAAAAAAAAAAAAAAAAAAAAAAAAAAAAAAAAAAAAAAAAAAAAAAAAAAAAAAAAAAAAAAAAAAAAAAAAAAAAAAAAAAAAAAAAAAAAAAAAAAAAAAAAAAAAAAAAAAAAAAAAAAAAAAAAAAAAAAAAAAAAAAAAAAAAAAAAAAAAAAAAAAAAAAAAAAAAAAAAAAAAAAAAAAAAAAAAAAAAAAAAAAAAAAAAAAAAAAAAAAAAAAAAAAAAAAAAAAAAAAAAAAAAAAAAAAAAAAAAAAAAAAAAAAAAAAAAAAAAAAAAAAAAAAAAAAAAAAAAAAAAAAAAAAAAAAAAAAAAAAAAAAAAAAAAAAAAAAAAAAAAAAAAAAAAAAAAAAAAAAAAAAAAAAAAAAAAAAAAAAAAAAAAAAAAAAAAAAAAAAAAAAAAAAAAAAAAAAAAAAAAAAAAAAAAAAAAAAAAAAAAAAAAAAAAAAAAAAAAAAAAAAAAAAAAAAAAAAAAAAAAAAAAAAAAAAAAAAAAAAAAAAAAAAAAAAAAAAAAAAAAAAAAAAAAAAAAAAAAAAAAAAAAAAAAAAAAAAAAAAAAAAAAAAAAAAAAAAAAAAAAAAAAAAAAAAAAAAAAAAAAAAAAAAAAAAAAAAAAAAAAAAAAAAAAAAAAAAAAAAAAAAAAAAAAAAAAAAAAAAAAAAAAAAAAAAAAAAAAAAAAAAAAAAAAAAAAAAAAAAAAAAAAAAAAAAAAAAAAAAAAAAAAAAAAAAAAAAAAAAAAAAAAAAAAAAAAAAAAAAAAAAAAAAAAAAAAAAAAAAAAAAAAAAAAAAAAAAAAAAAAAAAAAAAAAAAAAAAAAAAAAAAAAAAAAAAAAAAAAAAAAAAAAAAAAAAAAAAAAAAAAAAAAAAAAAAAAAAAAAAAAAAAAAAAAAAAAAAAAAAAAAAAAAAAAAAAAAAAAAAAAAAAAAAAAAAAAAAAAAAAAAAAAAAAAAAAAAAAAAAAAAAAAAAAAAAAAAAAAAAAAAAAAAAAAAAAAAAAAAAAAAAAAAAAAAAAAAAAAAAAAAAAAAAAAAAAAAAAAAAAAAAAAAAAAAAAAAAAAAAAAAAAAAAAAAAAAAAAAAAAAAAAAAAAAAAAAAAAAAAAAAAAAAAAAAAAAAAAAAAAAAAAAAAAAAAAAAAAAAAAAAAAAAAAAAAAAAAAAAAAAAAAAAAAAAAAAAAAAAAAAAAAAAAAAAAAAAAAAAAAAAAAAAAAAAAAAAAAAAAAAAAAAAAAAAAAAAAAAAAAAAAAAAAAAAAAAAAAAAAAAAAAAAAAAAAAAAAAAAAAAAAAAAAAAAAAAAAAAAAAAAAAAAAAAAAAAAAAAAAAAAAAAAAAAAAAAAAAAAAAAAAAAAAAAAAAAAAAAAAAAAAAAAAAAAAAAAAAAAAAAAAAAAAAAAAAAAAAAAAAAAAAAAAAAAAAAAAAAAAAAAAAAAAAAAAAAAAAAAAAAAAAAAAAAAAAAAAAAAAAAAAAAAAAAAAAAAAAAAAAAAAAAAAAAAAAAAAAAAAAAAAAAAAAAAAAAAAAAAAAAAAAAAAAAAAAAAAAAAAAAAAAAAAAAAAAAAAAAAAAAAAAAAAAAAAAAAAAAAAAAAAAAAAAAAAAAAAAAAAAAAAAAAAAAAAAAAAAAAAAAAAAAAAAAAAAAAAAAAAAAAAAAAAAAAAAAAAAAAAAAAAAAAAAAAAAAAAAAAAAAAAAAAAAAAAAAAAAAAAAAAAAAAAAAAAAAAAAAAAAAAAAAAAAAAAAAAAAAAAAAAAAAAAAAAAAAAAAAAAAAAAAAAAAAAAAAAAAAAAAAAAAAAAAAAAAAAAAAAAAAAAAAAAAAAAAAAAAAAAAAAAAAAAAAAAAAAAAAAAAAAAAAAAAAAAAAAAAAAAAAAAAAAAAAAAAAAAAAAAAAAAAAAAAAAAAAAAAAAAAAAAAAAAAAAAAAAAAAAAAAAAAAAAAAAAAAAAAAAAAAAAAAAAAAAAAAAAAAAAAAAAAAAAAAAAAAAAAAAAAAAAAAAAAAAAAAAAAAAAAAAAAAAAAAAAAAAAAAAAAAAAAAAAAAAAAAAAAAAAAAAAAAAAAAAAAAAAAAAAAAAAAAAAAAAAAAAAAAAAAAAAAAAAAAAAAAAAAAAAAAAAAAAAAAAAAAAAAAAAAAAAAAAAAAAAAAAAAAAAAAAAAAAAAAAAAAAAAAAAAAAAAAAAAAAAAAAAAAAAAAAAAAAAAAAAAAAAAAAAAAAAAAAAAAAAAAAAAAAAAAAAAAAAAAAAAAAAAAAAAAAAAAAAAAAAAAAAAAAAAAAAAAAAAAAAAAAAAAAAAAAAAAAAAAAAAAAAAAAAAAAAAAAAAAAAAAAAAAAAAAAAAAAAAAAAAAAAAAAAAAAAAAAAAAAAAAAAAAAAAAAAAAAAAAAAAAAAAAAAAAAAAAAAAAAAAAAAAAAAAAAAAAAAAAAAAAAAAAAAAAAAAAAAAAAAAAAAAAAAAAAAAAAAAAAAAAAAAAAAAAAAAAAAAAAAAAAAAAAAAAAAAAAAAAAAAAAAAAAAAAAAAAAAAAAAAAAAAAAAAAAAAAAAAAAAAAAAAAAAAAAAAAAAAAAAAAAAAAAAAAAAAAAAAAAAAAAAAAAAAAAAAAAAAAAAAAAAAAAAAAAAAAAAAAAAAAAAAAAAAAAAAAAAAAAAAAAAAAAAAAAAAAAAAAAAAAAAAAAAAAAAAAAAAAAAAAAAAAAAAAAAAAAAAAAAAAAAAAAAAAAAAAAAAAAAAAAAAAAAAAAAAAAAAAAAAAAAAAAAAAAAAAAAAAAAAAAAAAAAAAAAAAAAAAAAAAAAAAAAAAAAAAAAAAAAAAAAAAAAAAAAAAAAAAAAAAAAAAAAAAAAAAAAAAAAAAAAAAAAAAAAAAAAAAAAAAAAAAAAAAAAAAAAAAAAAAAAAAAAAAAAAAAAAAAAAAAAAAAAAAAAAAAAAAAAAAAAAAAAAAAAAAAAAAAAAAAAAAAAAAAAAAAAAAAAAAAAAAAAAAAAAAAAAAAAAAAAAAAAAAAAAAAAAAAAAAAAAAAAAAAAAAAAAAAAAAAAAAAAAAAAAAAAAAAAAAAAAAAAAAAAAAAAAAAAAAAAAAAAAAAAAAAAAAAAAAAAAAAAAAAAAAAAAAAAAAAAAAAAAAAAAAAAAAAAAAAAAAAAAAAAAAAAAAAAAAAAAAAAAAAAAAAAAAAAAAAAAAAAAAAAAAAAAAAAAAAAAAAAAAAAAAAAAAAAAAAAAAAAAAAAAAAAAAAAAAAAAAAAAAAAAAAAAAAAAAAAAAAAAAAAAAAAAAAAAAAAAAAAAAAAAAAAAAAAAAAAAAAAAAAAAAAAAAAAAAAAAAAAAAAAAAAAAAAAAAAAAAAAAAAAAAAAAAAAAAAAAAAAAAAAAAAAAAAAAAAAAAAAAAAAAAAAAAAAAAAAAAAAAAAAAAAAAAAAAAAAAAAAAAAAAAAAAAAAAAAAAAAAAAAAAAAAAAAAAAAAAAAAAAAAAAAAAAAAAAAAAAAAAAAAAAAAAAAAAAAAAAAAAAAAAAAAAAAAAAAAAAAAAAAAAAAAAAAAAAAAAAAAAAAAAAAAAAAAAAAAAAAAAAAAAAAAAAAAAAAAAAAAAAAAAAAAAAAAAAAAAAAAAAAAAAAAAAAAAAAAAAAAAAAAAAAAAAAAAAAAAAAAAAAAAAAAAAAAAAAAAAAAAAAAAAAAAAAAAAAAAAAAAAAAAAAAAAAAAAAAAAAAAAAAAAAAAAAAAAAAAAAAAAAAAAAAAAAAAAAAAAAAAAAAAAAAAAAAAAAAAAAAAAAAAAAAAAAAAAAAAAAAAAAAAAAAAAAAAAAAAAAAAAAAAAAAAAAAAAAAAAAAAAAAAAAAAAAAAAAAAAAAAAAAAAAAAAAAAAAAAAAAAAAAAAAAAAAAAAAAAAAAAAAAAAAAAAAAAAAAAAAAAAAAAAAAAAAAAAAAAAAAAAAAAAAAAAAAAAAAAAAAAAAAAAAAAAAAAAAAAAAAAAAAAAAAAAAAAAAAAAAAAAAAAAAAAAAAAAAAAAAAAAAAAAAAAAAAAAAAAAAAAAAAAAAAAAAAAAAAAAAAAAAAAAAAAAAAAAAAAAAAAAAAAAAAAAAAAAAAAAAAAAAAAAAAAAAAAAAAAAAAAAAAAAAAAAAAAAAAAAAAAAAAAAAAAAAAAAAAAAAAAAAAAAAAAAAAAAAAAAAAAAAAAAAAAAAAAAAAAAAAAAAAAAAAAAAAAAAAAAAAAAAAAAAAAAAAAAAAAAAAAAAAAAAAAAAAAAAAAAAAAAAAAAAAAAAAAAAAAAAAAAAAAAAAAAAAAAAAAAAAAAAAAAAAAAAAAAAAAAAAAAAAAAAAAAAAAAAAAAAAAAAAAAAAAAAAAAAAAAAAAAAAAAAAAAAAAAAAAAAAAAAAAAAAAAAAAAAAAAAAAAAAAAAAAAAAAAAAAAAAAAAAAAAAAAAAAAAAAAAAAAAAAAAAAAAAAAAAAAAAAAAAAAAAAAAAAAAAAAAAAAAAAAAAAAAAAAAAAAAAAAAAAAAAAAAAAAAAAAAAAAAAAAAAAAAAAAAAAAAAAAAAAAAAAAAAAAAAAAAAAAAAAAAAAAAAAAAAAAAAAAAAAAAAAAAAAAAAAAAAAAAAAAAAAAAAAAAAAAAAAAAAAAAAAAAAAAAAAAAAAAAAAAAAAAAAAAAAAAAAAAAAAAAAAAAAAAAAAAAAAAAAAAAAAAAAAAAAAAAAAAAAAAAAAAAAAAAAAAAAAAAAAAAAAAAAAAAAAAAAAAAAAAAAAAAAAAAAAAAAAAAAAAAAAAAAAAAAAAAAAAAAAAAAAAAAAAAAAAAAAAAAAAAAAAAAAAAAAAAAAAAAAAAAAAAAAAAAAAAAAAAAAAAAAAAAAAAAAAAAAAAAAAAAAAAAAAAAAAAAAAAAAAAAAAAAAAAAAAAAAAAAAAAAAAAAAAAAAAAAAAAAAAAAAAAAAAAAAAAAAAAAAAAAAAAAAAAAAAAAAAAAAAAAAAAAAAAAAAAAAAAAAAAAAAAAAAAAAAAAAAAAAAAAAAAAAAAAAAAAAAAAAAAAAAAAAAAAAAAAAAAAAAAAAAAAAAAAAAAAAAAAAAAAAAAAAAAAAAAAAAAAAAAAAAAAAAAAAAAAAAAAAAAAAAAAAAAAAAAAAAAAAAAAAAAAAAAAAAAAAAAAAAAAAAAAAAAAAAAAAAAAAAAAAAAAAAAAAAAAAAAAAAAAAAAAAAAAAAAAAAAAAAAAAAAAAAAAAAAAAAAAAAAAAAAAAAAAAAAAAAAAAAAAAAAAAAAAAAAAAAAAAAAAAAAAAAAAAAAAAAAAAAAAAAAAAAAAAAAAAAAAAAAAAAAAAAAAAAAAAAAAAAAAAAAAAAAAAAAAAAAAAAAAAAAAAAAAAAAAAAAAAAAAAAAAAAAAAAAAAAAAAAAAAAAAAAAAAAAAAAAAAAAAAAAAAAAAAAAAAAAAAAAAAAAAAAAAAAAAAAAAAAAAAAAAAAAAAAAAAAAAAAAAAAAAAAAAAAAAAAAAAAAAAAAAAAAAAAAAAAAAAAAAAAAAAAAAAAAAAAAAAAAAAAAAAAAAAAAAAAAAAAAAAAAAAAAAAAAAAAAAAAAAAAAAAAAAAAAAAAAAAAAAAAAAAAAAAAAAAAAAAAAAAAAAAAAAAAAAAAAAAAAAAAAAAAAAAAAAAAAAAAAAAAAAAAAAAAAAAAAAAAAAAAAAAAAAAAAAAAAAAAAAAAAAAAAAAAAAAAAAAAAAAAAAAAAAAAAAAAAAAAAAAAAAAAAAAAAAAAAAAAAAAAAAAAAAAAAAAAAAAAAAAAAAAAAAAAAAAAAAAAAAAAAAAAAAAAAAAAAAAAAAAAAAAAAAAAAAAAAAAAAAAAAAAAAAAAAAAAAAAAAAAAAAAAAAAAAAAAAAAAAAAAAAAAAAAAAAAAAAAAAAAAAAAAAAAAAAAAAAAAAAAAAAAAAAAAAAAAAAAAAAAAAAAAAAAAAAAAAAAAAAAAAAAAAAAAAAAAAAAAAAAAAAAAAAAAAAAAAAAAAAAAAAAAAAAAAAAAAAAAAAAAAAAAAAAAAAAAAAAAAAAAAAAAAAAAAAAAAAAAAAAAAAAAAAAAAAAAAAAAAAAAAAAAAAAAAAAAAAAAAAAAAAAAAAAAAAAAAAAAAAAAAAAAAAAAAAAAAAAAAAAAAAAAAAAAAAAAAAAAAAAAAAAAAAAAAAAAAAAAAAAAAAAAAAAAAAAAAAAAAAAAAAAAAAAAAAAAAAAAAAAAAAAAAAAAAAAAAAAAAAAAAAAAAAAAAAAAAAAAAAAAAAAAAAAAAAAAAAAAAAAAAAAAAAAAAAAAAAAAAAAAAAAAAAAAAAAAAAAAAAAAAAAAAAAAAAAAAAAAAAAAAAAAAAAAAAAAAAAAAAAAAAAAAAAAAAAAAAAAAAAAAAAAAAAAAAAAAAAAAAAAAAAAAAAAAAAAAAAAAAAAAAAAAAAAAAAAAAAAAAAAAAAAAAAAAAAAAAAAAAAAAAAAAAAAAAAAAAAAAAAAAAAAAAAAAAAAAAAAAAAAAAAAAAAAAAAAAAAAAAAAAAAAAAAAAAAAAAAAAAAAAAAAAAAAAAAAAAAAAAAAAAAAAAAAAAAAAAAAAAAAAAAAAAAAAAAAAAAAAAAAAAAAAAAAAAAAAAAAAAAAAAAAAAAAAAAAAAAAAAAAAAAAAAAAAAAAAAAAAAAAAAAAAAAAAAAAAAAAAAAAAAAAAAAAAAAAAAAAAAAAAAAAAAAAAAAAAAAAAAAAAAAAAAAAAAAAAAAAAAAAAAAAAAAAAAAAAAAAAAAAAAAAAAAAAAAAAAAAAAAAAAAAAAAAAAAAAAAAAAAAAAAAAAAAAAAAAAAAAAAAAAAAAAAAAAAAAAAAAAAAAAAAAAAAAAAAAAAAAAAAAAAAAAAAAAAAAAAAAAAAAAAAAAAAAAAAAAAAAAAAAAAAAAAAAAAAAAAAAAAAAAAAAAAAAAAAAAAAAAAAAAAAAAAAAAAAAAAAAAAAAAAAAAAAAAAAAAAAAAAAAAAAAAAAAAAAAAAAAAAAAAAAAAAAAAAAAAAAAAAAAAAAAAAAAAAAAAAAAAAAAAAAAAAAAAAAAAAAAAAAAAAAAAAAAAAAAAAAAAAAAAAAAAAAAAAAAAAAAAAAAAAAAAAAAAAAAAAAAAAAAAAAAAAAAAAAAAAAAAAAAAAAAAAAAAAAAAAAAAAAAAAAAAAAAAAAAAAAAAAAAAAAAAAAAAAAAAAAAAAAAAAAAAAAAAAAAAAAAAAAAAAAAAAAAAAAAAAAAAAAAAAAAAAAAAAAAAAAAAAAAAAAAAAAAAAAAAAAAAAAAAAAAAAAAAAAAAAAAAAAAAAAAAAAAAAAAAAAAAAAAAAAAAAAAAAAAAAAAAAAAAAAAAAAAAAAAAAAAAAAAAAAAAAAAAAAAAAAAAAAAAAAAAAAAAAAAAAAAAAAAAAAAAAAAAAAAAAAAAAAAAAAAAAAAAAAAAAAAAAAAAAAAAAAAAAAAAAAAAAAAAAAAAAAAAAAAAAAAAAAAAAAAAAAAAAAAAAAAAAAAAAAAAAAAAAAAAAAAAAAAAAAAAAAAAAAAAAAAAAAAAAAAAAAAAAAAAAAAAAAAAAAAAAAAAAAAAAAAAAAAAAAAAAAAAAAAAAAAAAAAAAAAAAAAAAAAAAAAAAAAAAAAAAAAAAAAAAAAAAAAAAAAAAAAAAAAAAAAAAAAAAAAAAAAAAAAAAAAAAAAAAAAAAAAAAAAAAAAAAAAAAAAAAAAAAAAAAAAAAAAAAAAAAAAAAAAAAAAAAAAAAAAAAAAAAAAAAAAAAAAAAAAAAAAAAAAAAAAAAAAAAAAAAAAAAAAAAAAAAAAAAAAAAAAAAAAAAAAAAAAAAAAAAAAAAAAAAAAAAAAAAAAAAAAAAAAAAAAAAAAAAAAAAAAAAAAAAAAAAAAAAAAAAAAAAAAAAAAAAAAAAAAAAAAAAAAAAAAAAAAAAAAAAAAAAAAAAAAAAAAAAAAAAAAAAAAAAAAAAAAAAAAAAAAAAAAAAAAAAAAAAAAAAAAAAAAAAAAAAAAAAAAAAAAAAAAAAAAAAAAAAAAAAAAAAAAAAAAAAAAAAAAAAAAAAAAAAAAAAAAAAAAAAAAAAAAAAAAAAAAAAAAAAAAAAAAAAAAAAAAAAAAAAAAAAAAAAAAAAAAAAAAAAAAAAAAAAAAAAAAAAAAAAAAAAAAAAAAAAAAAAAAAAAAAAAAAAAAAAAAAAAAAAAAAAAAAAAAAAAAAAAAAAAAAAAAAAAAAAAAAAAAAAAAAAAAAAAAAAAAAAAAAAAAAAAAAAAAAAAAAAAAAAAAAAAAAAAAAAAAAAAAAAAAAAAAAAAAAAAAAAAAAAAAAAAAAAAAAAAAAAAAAAAAAAAAAAAAAAAAAAAAAAAAAAAAAAAAAAAAAAAAAAAAAAAAAAAAAAAAAAAAAAAAAAAAAAAAAAAAAAAAAAAAAAAAAAAAAAAAAAAAAAAAAAAAAAAAAAAAAAAAAAAAAAAAAAAAAAAAAAAAAAAAAAAAAAAAAAAAAAAAAAAAAAAAAAAAAAAAAAAAAAAAAAAAAAAAAAAAAAAAAAAAAAAAAAAAAAAAAAAAAAAAAAAAAAAAAAAAAAAAAAAAAAAAAAAAAAAAAAAAAAAAAAAAAAAAAAAAAAAAAAAAAAAAAAAAAAAAAAAAAAAAAAAAAAAAAAAAAAAAAAAAAAAAAAAAAAAAAAAAAAAAAAAAAAAAAAAAAAAAAAAAAAAAAAAAAAAAAAAAAAAAAAAAAAAAAAAAAAAAAAAAAAAAAAAAAAAAAAAAAAAAAAAAAAAAAAAAAAAAAAAAAAAAAAAAAAAAAAAAAAAAAAAAAAAAAAAAAAAAAAAAAAAAAAAAAAAAAAAAAAAAAAAAAAAAAAAAAAAAAAAAAAAAAAAAAAAAAAAAAAAAAAAAAAAAAAAAAAAAAAAAAAAAAAAAAAAAAAAAAAAAAAAAAAAAAAAAAAAAAAAAAAAAAAAAAAAAAAAAAAAAAAAAAAAAAAAAAAAAAAAAAAAAAAAAAAAAAAAAAAAAAAAAAAAAAAAAAAAAAAAAAAAAAAAAAAAAAAAAAAAAAAAAAAAAAAAAAAAAAAAAAAAAAAAAAAAAAAAAAAAAAAAAAAAAAAAAAAAAAAAAAAAAAAAAAAAAAAAAAAAAAAAAAAAAAAAAAAAAAAAAAAAAAAAAAAAAAAAAAAAAAAAAAAAAAAAAAAAAAAAAAAAAAAAAAAAAAAAAAAAAAAAAAAAAAAAAAAAAAAAAAAAAAAAAAAAAAAAAAAAAAAAAAAAAAAAAAAAAAAAAAAAAAAAAAAAAAAAAAAAAAAAAAAAAAAAAAAAAAAAAAAAAAAAAAAAAAAAAAAAAAAAAAAAAAAAAAAAAAAAAAAAAAAAAAAAAAAAAAAAAAAAAAAAAAAAAAAAAAAAAAAAAAAAAAAAAAAAAAAAAAAAAAAAAAAAAAAAAAAAAAAAAAAAAAAAAAAAAAAAAAAAAAAAAAAAAAAAAAAAAAAAAAAAAAAAAAAAAAAAAAAAAAAAAAAAAAAAAAAAAAAAAAAAAAAAAAAAAAAAAAAAAAAAAAAAAAAAAAAAAAAAAAAAAAAAAAAAAAAAAAAAAAAAAAAAAAAAAAAAAAAAAAAAAAAAAAAAAAAAAAAAAAAAAAAAAAAAAAAAAAAAAAAAAAAAAAAAAAAAAAAAAAAAAAAAAAAAAAAAAAAAAAAAAAAAAAAAAAAAAAAAAAAAAAAAAAAAAAAAAAAAAAAAAAAAAAAAAAAAAAAAAAAAAAAAAAAAAAAAAAAAAAAAAAAAAAAAAAAAAAAAAAAAAAAAAAAAAAAAAAAAAAAAAAAAAAAAAAAAAAAAAAAAAAAAAAAAAAAAAAAAAAAAAAAAAAAAAAAAAAAAAAAAAAAAAAAAAAAAAAAAAAAAAAAAAAAAAAAAAAAAAAAAAAAAAAAAAAAAAAAAAAAAAAAAAAAAAAAAAAAAAAAAAAAAAAAAAAAAAAAAAAAAAAAAAAAAAAAAAAAAAAAAAAAAAAAAAAAAAAAAAAAAAAAAAAAAAAAAAAAAAAAAAAAAAAAAAAAAAAAAAAAAAAAAAAAAAAAAAAAAAAAAAAAAAAAAAAAAAAAAAAAAAAAAAAAAAAAAAAAAAAAAAAAAAAAAAAAAAAAAAAAAAAAAAAAAAAAAAAAAAAAAAAAAAAAAAAAAAAAAAAAAAAAAAAAAAAAAAAAAAAAAAAAAAAAAAAAAAAAAAAAAAAAAAAAAAAAAAAAAAAAAAAAAAAAAAAAAAAAAAAAAAAAAAAAAAAAAAAAAAAAAAAAAAAAAAAAAAAAAAAAAAAAAAAAAAAAAAAAAAAAAAAAAAAAAAAAAAAAAAAAAAAAAAAAAAAAAAAAAAAAAAAAAAAAAAAAAAAAAAAAAAAAAAAAAAAAAAAAAAAAAAAAAAAAAAAAAAAAAAAAAAAAAAAAAAAAAAAAAAAAAAAAAAAAAAAAAAAAAAAAAAAAAAAAAAAAAAAAAAAAAAAAAAAAAAAAAAAAAAAAAAAAAAAAAAAAAAAAAAAAAAAAAAAAAAAAAAAAAAAAAAAAAAAAAAAAAAAAAAAAAAAAAAAAAAAAAAAAAAAAAAAAAAAAAAAAAAAAAAAAAAAAAAAAAAAAAAAAAAAAAAAAAAAAAAAAAAAAAAAAAAAAAAAAAAAAAAAAAAAAAAAAAAAAAAAAAAAAAAAAAAAAAAAAAAAAAAAAAAAAAAAAAAAAAAAAAAAAAAAAAAAAAAAAAAAAAAAAAAAAAAAAAAAAAAAAAAAAAAAAAAAAAAAAAAAAAAAAAAAAAAAAAAAAAAAAAAAAAAAAAAAAAAAAAAAAAAAAAAAAAAAAAAAAAAAAAAAAAAAAAAAAAAAAAAAAAAAAAAAAAAAAAAAAAAAAAAAAAAAAAAAAAAAAAAAAAAAAAAAAAAAAAAAAAAAAAAAAAAAAAAAAAAAAAAAAAAAAAAAAAAAAAAAAAAAAAAAAAAAAAAAAAAAAAAAAAAAAAAAAAAAAAAAAAAAAAAAAAAAAAAAAAAAAAAAAAAAAAAAAAAAAAAAAAAAAAAAAAAAAAAAAAAAAAAAAAAAAAAAAAAAAAAAAAAAAAAAAAAAAAAAAAAAAAAAAAAAAAAAAAAAAAAAAAAAAAAAAAAAAAAAAAAAAAAAAAAAAAAAAAAAAAAAAAAAAAAAAAAAAAAAAAAAAAAAAAAAAAAAAAAAAAAAAAAAAAAAAAAAAAAAAAAAAAAAAAAAAAAAAAAAAAAAAAAAAAAAAAAAAAAAAAAAAAAAAAAAAAAAAAAAAAAAAAAAAAAAAAAAAAAAAAAAAAAAAAAAAAAAAAAAAAAAAAAAAAAAAAAAAAAAAAAAAAAAAAAAAAAAAAAAAAAAAAAAAAAAAAAAAAAAAAAAAAAAAAAAAAAAAAAAAAAAAAAAAAAAAAAAAAAAAAAAAAAAAAAAAAAAAAAAAAAAAAAAAAAAAAAAAAAAAAAAAAAAAAAAAAAAAAAAAAAAAAAAAAAAAAAAAAAAAAAAAAAAAAAAAAAAAAAAAAAAAAAAAAAAAAAAAAAAAAAAAAAAAAAAAAAAAAAAAAAAAAAAAAAAAAAAAAAAAAAAAAAAAAAAAAAAAAAAAAAAAAAAAAAAAAAAAAAAAAAAAAAAAAAAAAAAAAAAAAAAAAAAAAAAAAAAAAAAAAAAAAAAAAAAAAAAAAAAAAAAAAAAAAAAAAAAAAAAAAAAAAAAAAAAAAAAAAAAAAAAAAAAAAAAAAAAAAAAAAAAAAAAAAAAAAAAAAAAAAAAAAAAAAAAAAAAAAAAAAAAAAAAAAAAAAAAAAAAAAAAAAAAAAAAAAAAAAAAAAAAAAAAAAAAAAAAAAAAAAAAAAAAAAAAAAAAAAAAAAAAAAAAAAAAAAAAAAAAAAAAAAAAAAAAAAAAAAAAAAAAAAAAAAAAAAAAAAAAAAAAAAAAAAAAAAAAAAAAAAAAAAAAAAAAAAAAAAAAAAAAAAAAAAAAAAAAAAAAAAAAAAAAAAAAAAAAAAAAAAAAAAAAAAAAAAAAAAAAAAAAAAAAAAAAAAAAAAAAAAAAAAAAAAAAAAAAAAAAAAAAAAAAAAAAAAAAAAAAAAAAAAAAAAAAAAAAAAAAAAAAAAAAAAAAAAAAAAAAAAAAAAAAAAAAAAAAAAAAAAAAAAAAAAAAAAAAAAAAAAAAAAAAAAAAAAAAAAAAAAAAAAAAAAAAAAAAAAAAAAAAAAAAAAAAAAAAAAAAAAAAAAAAAAAAAAAAAAAAAAAAAAAAAAAAAAAAAAAAAAAAAAAAAAAAAAAAAAAAAAAAAAAAAAAAAAAAAAAAAAAAAAAAAAAAAAAAAAAAAAAAAAAAAAAAAAAAAAAAAAAAAAAAAAAAAAAAAAAAAAAAAAAAAAAAAAAAAAAAAAAAAAAAAAAAAAAAAAAAAAAAAAAAAAAAAAAAAAAAAAAAAAAAAAAAAAAAAAAAAAAAAAAAAAAAAAAAAAAAAAAAAAAAAAAAAAAAAAAAAAAAAAAAAAAAAAAAAAAAAAAAAAAAAAAAAAAAAAAAAAAAAAAAAAAAAAAAAAAAAAAAAAAAAAAAAAAAAAAAAAAAAAAAAAAAAAAAAAAAAAAAAAAAAAAAAAAAAAAAAAAAAAAAAAAAAAAAAAAAAAAAAAAAAAAAAAAAAAAAAAAAAAAAAAAAAAAAAAAAAAAAAAAAAAAAAAAAAAAAAAAAAAAAAAAAAAAAAAAAAAAAAAAAAAAAAAAAAAAAAAAAAAAAAAAAAAAAAAAAAAAAAAAAAAAAAAAAAAAAAAAAAAAAAAAAAAAAAAAAAAAAAAAAAAAAAAAAAAAAAAAAAAAAAAAAAAAAAAAAAAAAAAAAAAAAAAAAAAAAAAAAAAAAAAAAAAAAAAAAAAAAAAAAAAAAAAAAAAAAAAAAAAAAAAAAAAAAAAAAAAAAAAAAAAAAAAAAAAAAAAAAAAAAAAAAAAAAAAAAAAAAAAAAAAAAAAAAAAAAAAAAAAAAAAAAAAAAAAAAAAAAAAAAAAAAAAAAAAAAAAAAAAAAAAAAAAAAAAAAAAAAAAAAAAAAAAAAAAAAAAAAAAAAAAAAAAAAAAAAAAAAAAAAAAAAAAAAAAAAAAAAAAAAAAAAAAAAAAAAAAAAAAAAAAAAAAAAAAAAAAAAAAAAAAAAAAAAAAAAAAAAAAAAAAAAAAAAAAAAAAAAAAAAAAAAAAAAAAAAAAAAAAAAAAAAAAAAAAAAAAAAAAAAAAAAAAAAAAAAAAAAAAAAAAAAAAAAAAAAAAAAAAAAAAAAAAAAAAAAAAAAAAAAAAAAAAAAAAAAAAAAAAAAAAAAAAAAAAAAAAAAAAAAAAAAAAAAAAAAAAAAAAAAAAAAAAAAAAAAAAAAAAAAAAAAAAAAAAAAAAAAAAAAAAAAAAAAAAAAAAAAAAAAAAAAAAAAAAAAAAAAAAAAAAAAAAAAAAAAAAAAAAAAAAAAAAAAAAAAAAAAAAAAAAAAAAAAAAAAAAAAAAAAAAAAAAAAAAAAAAAAAAAAAAAAAAAAAAAAAAAAAAAAAAAAAAAAAAAAAAAAAAAAAAAAAAAAAAAAAAAAAAAAAAAAAAAAAAAAAAAAAAAAAAAAAAAAAAAAAAAAAAAAAAAAAAAAAAAAAAAAAAAAAAAAAAAAAAAAAAAAAAAAAAAAAAAAAAAAAAAAAAAAAAAAAAAAAAAAAAAAAAAAAAAAAAAAAAAAAAAAAAAAAAAAAAAAAAAAAAAAAAAAAAAAAAAAAAAAAAAAAAAAAAAAAAAAAAAAAAAAAAAAAAAAAAAAAAAAAAAAAAAAAAAAAAAAAAAAAAAAAAAAAAAAAAAAAAAAAAAAAAAAAAAAAAAAAAAAAAAAAAAAAAAAAAAAAAAAAAAAAAAAAAAAAAAAAAAAAAAAAAAAAAAAAAAAAAAAAAAAAAAAAAAAAAAAAAAAAAAAAAAAAAAAAAAAAAAAAAAAAAAAAAAAAAAAAAAAAAAAAAAAAAAAAAAAAAAAAAAAAAAAAAAAAAAAAAAAAAAAAAAAAAAAAAAAAAAAAAAAAAAAAAAAAAAAAAAAAAAAAAAAAAAAAAAAAAAAAAAAAAAAAAAAAAAAAAAAAAAAAAAAAAAAAAAAAAAAAAAAAAAAAAAAAAAAAAAAAAAAAAAAAAAAAAAAAAAAAAAAAAAAAAAAAAAAAAAAAAAAAAAAAAAAAAAAAAAAAAAAAAAAAAAAAAAAAAAAAAAAAAAAAAAAAAAAAAAAAAAAAAAAAAAAAAAAAAAAAAAAAAAAAAAAAAAAAAAAAAAAAAAAAAAAAAAAAAAAAAAAAAAAAAAAAAAAAAAAAAAAAAAAAAAAAAAAAAAAAAAAAAAAAAAAAAAAAAAAAAAAAAAAAAAAAAAAAAAAAAAAAAAAAAAAAAAAAAAAAAAAAAAAAAAAAAAAAAAAAAAAAAAAAAAAAAAAAAAAAAAAAAAAAAAAAAAAAAAAAAAAAAAAAAAAAAAAAAAAAAAAAAAAAAAAAAAAAAAAAAAAAAAAAAAAAAAAAAAAAAAAAAAAAAAAAAAAAAAAAAAAAAAAAAAAAAAAAAAAAAAAAAAAAAAAAAAAAAAAAAAAAAAAAAAAAAAAAAAAAAAAAAAAAAAAAAAAAAAAAAAAAAAAAAAAAAAAAAAAAAAAAAAAAAAAAAAAAAAAAAAAAAAAAAAAAAAAAAAAAAAAAAAAAAAAAAAAAAAAAAAAAAAAAAAAAAAAAAAAAAAAAAAAAAAAAAAAAAAAAAAAAAAAAAAAAAAAAAAAAAAAAAAAAAAAAAAAAAAAAAAAAAAAAAAAAAAAAAAAAAAAAAAAAAAAAAAAAAAAAAAAAAAAAAAAAAAAAAAAAAAAAAAAAAAAAAAAAAAAAAAAAAAAAAAAAAAAAAAAAAAAAAAAAAAAAAAAAAAAAAAAAAAAAAAAAAAAAAAAAAAAAAAAAAAAAAAAAAAAAAAAAAAAAAAAAAAAAAAAAAAAAAAAAAAAAAAAAAAAAAAAAAAAAAAAAAAAAAAAAAAAAAAAAAAAAAAAAAAAAAAAAAAAAAAAAAAAAAAAAAAAAAAAAAAAAAAAAAAAAAAAAAAAAAAAAAAAAAAAAAAAAAAAAAAAAAAAAAAAAAAAAAAAAAAAAAAAAAAAAAAAAAAAAAAAAAAAAAAAAAAAAAAAAAAAAAAAAAAAAAAAAAAAAAAAAAAAAAAAAAAAAAAAAAAAAAAAAAAAAAAAAAAAAAAAAAAAAAAAAAAAAAAAAAAAAAAAAAAAAAAAAAAAAAAAAAAAAAAAAAAAAAAAAAAAAAAAAAAAAAAAAAAAAAAAAAAAAAAAAAAAAAAAAAAAAAAAAAAAAAAAAAAAAAAAAAAAAAAAAAAAAAAAAAAAAAAAAAAAAAAAAAAAAAAAAAAAAAAAAAAAAAAAAAAAAAAAAAAAAAAAAAAAAAAAAAAAAAAAAAAAAAAAAAAAAAAAAAAAAAAAAAAAAAAAAAAAAAAAAAAAAAAAAAAAAAAAAAAAAAAAAAAAAAAAAAAAAAAAAAAAAAAAAAAAAAAAAAAAAAAAAAAAAAAAAAAAAAAAAAAAAAAAAAAAAAAAAAAAAAAAAAAAAAAAAAAAAAAAAAAAAAAAAAAAAAAAAAAAAAAAAAAAAAAAAAAAAAAAAAAAAAAAAAAAAAAAAAAAAAAAAAAAAAAAAAAAAAAAAAAAAAAAAAAAAAAAAAAAAAAAAAAAAAAAAAAAAAAAAAAAAAAAAAAAAAAAAAAAAAAAAAAAAAAAAAAAAAAAAAAAAAAAAAAAAAAAAAAAAAAAAAAAAAAAAAAAAAAAAAAAAAAAAAAAAAAAAAAAAAAAAAAAAAAAAAAAAAAAAAAAAAAAAAAAAAAAAAAAAAAAAAAAAAAAAAAAAAAAAAAAAAAAAAAAAAAAAAAAAAAAAAAAAAAAAAAAAAAAAAAAAAAAAAAAAAAAAAAAAAAAAAAAAAAAAAAAAAAAAAAAAAAAAAAAAAAAAAAAAAAAAAAAAAAAAAAAAAAAAAAAAAAAAAAAAAAAAAAAAAAAAAAAAAAAAAAAAAAAAAAAAAAAAAAAAAAAAAAAAAAAAAAAAAAAAAAAAAAAAAAAAAAAAAAAAAAAAAAAAAAAAAAAAAAAAAAAAAAAAAAAAAAAAAAAAAAAAAAAAAAAAAAAAAAAAAAAAAAAAAAAAAAAAAAAAAAAAAAAAAAAAAAAAAAAAAAAAAAAAAAAAAAAAAAAAAAAAAAAAAAAAAAAAAAAAAAAAAAAAAAAAAAAAAAAAAAAAAAAAAAAAAAAAAAAAAAAAAAAAAAAAAAAAAAAAAAAAAAAAAAAAAAAAAAAAAAAAAAAAAAAAAAAAAAAAAAAAAAAAAAAAAAAAAAAAAAAAAAAAAAAAAAAAAAAAAAAAAAAAAAAAAAAAAAAAAAAAAAAAAAAAAAAAAAAAAAAAAAAAAAAAAAAAAAAAAAAAAAAAAAAAAAAAAAAAAAAAAAAAAAAAAAAAAAAAAAAAAAAAAAAAAAAAAAAAAAAAAAAAAAAAAAAAAAAAAAAAAAAAAAAAAAAAAAAAAAAAAAAAAAAAAAAAAAAAAAAAAAAAAAAAAAAAAAAAAAAAAAAAAAAAAAAAAAAAAAAAAAAAAAAAAAAAAAAAAAAAAAAAAAAAAAAAAAAAAAAAAAAAAAAAAAAAAAAAAAAAAAAAAAAAAAAAAAAAAAAAAAAAAAAAAAAAAAAAAAAAAAAAAAAAAAAAAAAAAAAAAAAAAAAAAAAAAAAAAAAAAAAAAAAAAAAAAAAAAAAAAAAAAAAAAAAAAAAAAAAAAAAAAAAAAAAAAAAAAAAAAAAAAAAAAAAAAAAAAAAAAAAAAAAAAAAAAAAAAAAAAAAAAAAAAAAAAAAAAAAAAAAAAAAAAAAAAAAAAAAAAAAAAAAAAAAAAAAAAAAAAAAAAAAAAAAAAAAAAAAAAAAAAAAAAAAAAAAAAAAAAAAAAAAAAAAAAAAAAAAAAAAAAAAAAAAAAAAAAAAAAAAAAAAAAAAAAAAAAAAAAAAAAAAAAAAAAAAAAAAAAAAAAAAAAAAAAAAAAAAAAAAAAAAAAAAAAAAAAAAAAAAAAAAAAAAAAAAAAAAAAAAAAAAAAAAAAAAAAAAAAAAAAAAAAAAAAAAAAAAAAAAAAAAAAAAAAAAAAAAAAAAAAAAAAAAAAAAAAAAAAAAAAAAAAAAAAAAAAAAAAAAAAAAAAAAAAAAAAAAAAAAAAAAAAAAAAAAAAAAAAAAAAAAAAAAAAAAAAAAAAAAAAAAAAAAAAAAAAAAAAAAAAAAAAAAAAAAAAAAAAAAAAAAAAAAAAAAAAAAAAAAAAAAAAAAAAAAAAAAAAAAAAAAAAAAAAAAAAAAAAAAAAAAAAAAAAAAAAAAAAAAAAAAAAAAAAAAAAAAAAAAAAAAAAAAAAAAAAAAAAAAAAAAAAAAAAAAAAAAAAAAAAAAAAAAAAAAAAAAAAAAAAAAAAAAAAAAAAAAAAAAAAAAAAAAAAAAAAAAAAAAAAAAAAAAAAAAAAAAAAAAAAAAAAAAAAAAAAAAAAAAAAAAAAAAAAAAAAAAAAAAAAAAAAAAAAAAAAAAAAAAAAAAAAAAAAAAAAAAAAAAAAAAAAAAAAAAAAAAAAAAAAAAAAAAAAAAAAAAAAAAAAAAAAAAAAAAAAAAAAAAAAAAAAAAAAAAAAAAAAAAAAAAAAAAAAAAAAAAAAAAAAAAAAAAAAAAAAAAAAAAAAAAAAAAAAAAAAAAAAAAAAAAAAAAAAAAAAAAAAAAAAAAAAAAAAAAAAAAAAAAAAAAAAAAAAAAAAAAAAAAAAAAAAAAAAAAAAAAAAAAAAAAAAAAAAAAAAAAAAAAAAAAAAAAAAAAAAAAAAAAAAAAAAAAAAAAAAAAAAAAAAAAAAAAAAAAAAAAAAAAAAAAAAAAAAAAAAAAAAAAAAAAAAAAAAAAAAAAAAAAAAAAAAAAAAAAAAAAAAAAAAAAAAAAAAAAAAAAAAAAAAAAAAAAAAAAAAAAAAAAAAAAAAAAAAAAAAAAAAAAAAAAAAAAAAAAAAAAAAAAAAAAAAAAAAAAAAAAAAAAAAAAAAAAAAAAAAAAAAAAAAAAAAAAAAAAAAAAAAAAAAAAAAAAAAAAAAAAAAAAAAAAAAAAAAAAAAAAAAAAAAAAAAAAAAAAAAAAAAAAAAAAAAAAAAAAAAAAAAAAAAAAAAAAAAAAAAAAAAAAAAAAAAAAAAAAAAAAAAAAAAAAAAAAAAAAAAAAAAAAAAAAAAAAAAAAAAAAAAAAAAAAAAAAAAAAAAAAAAAAAAAAAAAAAAAAAAAAAAAAAAAAAAAAAAAAAAAAAAAAAAAAAAAAAAAAAAAAAAAAAAAAAAAAAAAAAAAAAAAAAAAAAAAAAAAAAAAAAAAAAAAAAAAAAAAAAAAAAAAAAAAAAAAAAAAAAAAAAAAAAAAAAAAAAAAAAAAAAAAAAAAAAAAAAAAAAAAAAAAAAAAAAAAAAAAAAAAAAAAAAAAAAAAAAAAAAAAAAAAAAAAAAAAAAAAAAAAAAAAAAAAAAAAAAAAAAAAAAAAAAAAAAAAAAAAAAAAAAAAAAAAAAAAAAAAAAAAAAAAAAAAAAAAAAAAAAAAAAAAAAAAAAAAAAAAAAAAAAAAAAAAAAAAAAAAAAAAAAAAAAAAAAAAAAAAAAAAAAAAAAAAAAAAAAAAAAAAAAAAAAAAAAAAAAAAAAAAAAAAAAAAAAAAAAAAAAAAAAAAAAAAAAAAAAAAAAAAAAAAAAAAAAAAAAAAAAAAAAAAAAAAAAAAAAAAAAAAAAAAAAAAAAAAAAAAAAAAAAAAAAAAAAAAAAAAAAAAAAAAAAAAAAAAAAAAAAAAAAAAAAAAAAAAAAAAAAAAAAAAAAAAAAAAAAAAAAAAAAAAAAAAAAAAAAAAAAAAAAAAAAAAAAAAAAAAAAAAAAAAAAAAAAAAAAAAAAAAAAAAAAAAAAAAAAAAAAAAAAAAAAAAAAAAAAAAAAAAAAAAAAAAAAAAAAAAAAAAAAAAAAAAAAAAAAAAAAAAAAAAAAAAAAAAAAAAAAAAAAAAAAAAAAAAAAAAAAAAAAAAAAAAAAAAAAAAAAAAAAAAAAAAAAAAAAAAAAAAAAAAAAAAAAAAAAAAAAAAAAAAAAAAAAAAAAAAAAAAAAAAAAAAAAAAAAAAAAAAAAAAAAAAAAAAAAAAAAAAAAAAAAAAAAAAAAAAAAAAAAAAAAAAAAAAAAAAAAAAAAAAAAAAAAAAAAAAAAAAAAAAAAAAAAAAAAAAAAAAAAAAAAAAAAAAAAAAAAAAAAAAAAAAAAAAAAAAAAAAAAAAAAAAAAAAAAAAAAAAAAAAAAAAAAAAAAAAAAAAAAAAAAAAAAAAAAAAAAAAAAAAAAAAAAAAAAAAAAAAAAAAAAAAAAAAAAAAAAAAAAAAAAAAAAAAAAAAAAAAAAAAAAAAAAAAAAAAAAAAAAAAAAAAAAAAAAAAAAAAAAAAAAAAAAAAAAAAAAAAAAAAAAAAAAAAAAAAAAAAAAAAAAAAAAAAAAAAAAAAAAAAAAAAAAAAAAAAAAAAAAAAAAAAAAAAAAAAAAAAAAAAAAAAAAAAAAAAAAAAAAAAAAAAAAAAAAAAAAAAAAAAAAAAAAAAAAAAAAAAAAAAAAAAAAAAAAAAAAAAAAAAAAAAAAAAAAAAAAAAAAAAAAAAAAAAAAAAAAAAAAAAAAAAAAAAAAAAAAAAAAAAAAAAAAAAAAAAAAAAAAAAAAAAAAAAAAAAAAAAAAAAAAAAAAAAAAAAAAAAAAAAAAAAAAAAAAAAAAAAAAAAAAAAAAAAAAAAAAAAAAAAAAAAAAAAAAAAAAAAAAAAAAAAAAAAAAAAAAAAAAAAAAAAAAAAAAAAAAAAAAAAAAAAAAAAAAAAAAAAAAAAAAAAAAAAAAAAAAAAAAAAAAAAAAAAAAAAAAAAAAAAAAAAAAAAAAAAAAAAAAAAAAAAAAAAAAAAAAAAAAAAAAAAAAAAAAAAAAAAAAAAAAAAAAAAAAAAAAAAAAAAAAAAAAAAAAAAAAAAAAAAAAAAAAAAAAAAAAAAAAAAAAAAAAAAAAAAAAAAAAAAAAAAAAAAAAAAAAAAAAAAAAAAAAAAAAAAAAAAAAAAAAAAAAAAAAAAAAAAAAAAAAAAAAAAAAAAAAAAAAAAAAAAAAAAAAAAAAAAAAAAAAAAAAAAAAAAAAAAAAAAAAAAAAAAAAAAAAAAAAAAAAAAAAAAAAAAAAAAAAAAAAAAAAAAAAAAAAAAAAAAAAAAAAAAAAAAAAAAAAAAAAAAAAAAAAAAAAAAAAAAAAAAAAAAAAAAAAAAAAAAAAAAAAAAAAAAAAAAAAAAAAAAAAAAAAAAAAAAAAAAAAAAAAAAAAAAAAAAAAAAAAAAAAAAAAAAAAAAAAAAAAAAAAAAAAAAAAAAAAAAAAAAAAAAAAAAAAAAAAAAAAAAAAAAAAAAAAAAAAAAAAAAAAAAAAAAAAAAAAAAAAAAAAAAAAAAAAAAAAAAAAAAAAAAAAAAAAAAAAAAAAAAAAAAAAAAAAAAAAAAAAAAAAAAAAAAAAAAAAAAAAAAAAAAAAAAAAAAAAAAAAAAAAAAAAAAAAAAAAAAAAAAAAAAAAAAAAAAAAAAAAAAAAAAAAAAAAAAAAAAAAAAAAAAAAAAAAAAAAAAAAAAAAAAAAAAAAAAAAAAAAAAAAAAAAAAAAAAAAAAAAAAAAAAAAAAAAAAAAAAAAAAAAAAAAAAAAAAAAAAAAAAAAAAAAAAAAAAAAAAAAAAAAAAAAAAAAAAAAAAAAAAAAAAAAAAAAAAAAAAAAAAAAAAAAAAAAAAAAAAAAAAAAAAAAAAAAAAAAAAAAAAAAAAAAAAAAAAAAAAAAAAAAAAAAAAAAAAAAAAAAAAAAAAAAAAAAAAAAAAAAAAAAAAAAAAAAAAAAAAAAAAAAAAAAAAAAAAAAAAAAAAAAAAAAAAAAAAAAAAAAAAAAAAAAAAAAAAAAAAAAAAAAAAAAAAAAAAAAAAAAAAAAAAAAAAAAAAAAAAAAAAAAAAAAAAAAAAAAAAAAAAAAAAAAAAAAAAAAAAAAAAAAAAAAAAAAAAAAAAAAAAAAAAAAAAAAAAAAAAAAAAAAAAAAAAAAAAAAAAAAAAAAAAAAAAAAAAAAAAAAAAAAAAAAAAAAAAAAAAAAAAAAAAAAAAAAAAAAAAAAAAAAAAAAAAAAAAAAAAAAAAAAAAAAAAAAAAAAAAAAAAAAAAAAAAAAAAAAAAAAAAAAAAAAAAAAAAAAAAAAAAAAAAAAAAAAAAAAAAAAAAAAAAAAAAAAAAAAAAAAAAAAAAAAAAAAAAAAAAAAAAAAAAAAAAAAAAAAAAAAAAAAAAAAAAAAAAAAAAAAAAAAAAAAAAAAAAAAAAAAAAAAAAAAAAAAAAAAAAAAAAAAAAAAAAAAAAAAAAAAAAAAAAAAAAAAAAAAAAAAAAAAAAAAAAAAAAAAAAAAAAAAAAAAAAAAAAAAAAAAAAAAAAAAAAAAAAAAAAAAAAAAAAAAAAAAAAAAAAAAAAAAAAAAAAAAAAAAAAAAAAAAAAAAAAAAAAAAAAAAAAAAAAAAAAAAAAAAAAAAAAAAAAAAAAAAAAAAAAAAAAAAAAAAAAAAAAAAAAAAAAAAAAAAAAAAAAAAAAAAAAAAAAAAAAAAAAAAAAAAAAAAAAAAAAAAAAAAAAAAAAAAAAAAAAAAAAAAAAAAAAAAAAAAAAAAAAAAAAAAAAAAAAAAAAAAAAAAAAAAAAAAAAAAAAAAAAAAAAAAAAAAAAAAAAAAAAAAAAAAAAAAAAAAAAAAAAAAAAAAAAAAAAAAAAAAAAAAAAAAAAAAAAAAAAAAAAAAAAAAAAAAAAAAAAAAAAAAAAAAAAAAAAAAAAAAAAAAAAAAAAAAAAAAAAAAAAAAAAAAAAAAAAAAAAAAAAAAAAAAAAAAAAAAAAAAAAAAAAAAAAAAAAAAAAAAAAAAAAAAAAAAAAAAAAAAAAAAAAAAAAAAAAAAAAAAAAAAAAAAAAAAAAAAAAAAAAAAAAAAAAAAAAAAAAAAAAAAAAAAAAAAAAAAAAAAAAAAAAAAAAAAAAAAAAAAAAAAAAAAAAAAAAAAAAAAAAAAAAAAAAAAAAAAAAAAAAAAAAAAAAAAAAAAAAAAAAAAAAAAAAAAAAAAAAAAAAAAAAAAAAAAAAAAAAAAAAAAAAAAAAAAAAAAAAAAAAAAAAAAAAAAAAAAAAAAAAAAAAAAAAAAAAAAAAAAAAAAAAAAAAAAAAAAAAAAAAAAAAAAAAAAAAAA=\" type=\"audio/wav\" />\n",
       "                    Your browser does not support the audio element.\n",
       "                </audio>\n",
       "              "
      ],
      "text/plain": [
       "<IPython.lib.display.Audio object>"
      ]
     },
     "metadata": {},
     "output_type": "display_data"
    },
    {
     "data": {
      "image/png": "[encoded data removed]",
      "text/plain": [
       "<Figure size 576x288 with 1 Axes>"
      ]
     },
     "metadata": {
      "image/png": {
       "height": 261,
       "width": 494
      },
      "needs_background": "light"
     },
     "output_type": "display_data"
    }
   ],
   "source": [
    "rand = random.randint(1,101)\n",
    "sample, samplelabel = X[rand], y[rand]\n",
    "\n",
    "\n",
    "notes, times = [], []\n",
    "for i in range(sample.shape[0]):\n",
    "    notes.append(np.argmax(sample[i,:MELODY]))\n",
    "    times.append(np.argmax(sample[i,MELODY:MELODY+TIMES]))\n",
    "notes.append(samplelabel[0])\n",
    "times.append(samplelabel[1])\n",
    "\n",
    "\n",
    "\n",
    "#look at a sample\n",
    "pm = writeMidiSample(notes, times, 'old_notebooks/treval/lookatsample.mid', file)\n",
    "plt.figure(figsize=(8, 4))\n",
    "plot_piano_roll(pm, LOW, HIGH)\n",
    "print(notes)\n",
    "print(times)\n",
    "display(IPython.display.Audio(pm.synthesize(fs=44000), rate=44000))"
   ]
  },
  {
   "cell_type": "code",
   "execution_count": 35,
   "metadata": {
    "colab": {},
    "colab_type": "code",
    "id": "-Eyy1AH9NX7o"
   },
   "outputs": [],
   "source": [
    "#np.save('Xbig.npy',X)\n",
    "#np.save('ybig.npy',y)"
   ]
  },
  {
   "cell_type": "markdown",
   "metadata": {
    "colab_type": "text",
    "id": "aMgIdT4TNX7s"
   },
   "source": [
    "# just load"
   ]
  },
  {
   "cell_type": "code",
   "execution_count": 36,
   "metadata": {
    "colab": {},
    "colab_type": "code",
    "id": "d3o0rxw2NX7u"
   },
   "outputs": [],
   "source": [
    "# X = np.load('Xbig.npy')\n",
    "# y = np.load('ybig.npy')"
   ]
  },
  {
   "cell_type": "code",
   "execution_count": 37,
   "metadata": {
    "colab": {
     "base_uri": "https://localhost:8080/",
     "height": 284
    },
    "colab_type": "code",
    "id": "Uv4TY09ZDrmv",
    "outputId": "2a7b8077-6cb2-419a-fe73-6f931330ab84",
    "scrolled": true
   },
   "outputs": [
    {
     "data": {
      "text/plain": [
       "<matplotlib.axes._subplots.AxesSubplot at 0x12b2c1208>"
      ]
     },
     "execution_count": 37,
     "metadata": {},
     "output_type": "execute_result"
    },
    {
     "data": {
      "image/png": "[encoded data removed]",
      "text/plain": [
       "<Figure size 432x288 with 1 Axes>"
      ]
     },
     "metadata": {
      "image/png": {
       "height": 248,
       "width": 388
      },
      "needs_background": "light"
     },
     "output_type": "display_data"
    }
   ],
   "source": [
    "# stats of training data\n",
    "pitches = y[:,0]\n",
    "durations = y[:,1]\n",
    "sns.countplot(durations)"
   ]
  },
  {
   "cell_type": "code",
   "execution_count": 38,
   "metadata": {
    "colab": {
     "base_uri": "https://localhost:8080/",
     "height": 284
    },
    "colab_type": "code",
    "id": "uo0GQJA1Drmy",
    "outputId": "09ded831-1a45-4f91-ef0a-94925377d957",
    "scrolled": true
   },
   "outputs": [
    {
     "data": {
      "text/plain": [
       "<matplotlib.axes._subplots.AxesSubplot at 0x12b3707f0>"
      ]
     },
     "execution_count": 38,
     "metadata": {},
     "output_type": "execute_result"
    },
    {
     "data": {
      "image/png": "[encoded data removed]",
      "text/plain": [
       "<Figure size 432x288 with 1 Axes>"
      ]
     },
     "metadata": {
      "image/png": {
       "height": 248,
       "width": 388
      },
      "needs_background": "light"
     },
     "output_type": "display_data"
    }
   ],
   "source": [
    "sns.countplot(pitches)"
   ]
  },
  {
   "cell_type": "code",
   "execution_count": 39,
   "metadata": {
    "colab": {
     "base_uri": "https://localhost:8080/",
     "height": 34
    },
    "colab_type": "code",
    "id": "kvY1xcgiDrm2",
    "outputId": "b99dfaac-21e4-4f42-a436-99ee1fb59d7a",
    "scrolled": false
   },
   "outputs": [
    {
     "data": {
      "text/plain": [
       "((1099, 8, 73), (1099, 2))"
      ]
     },
     "execution_count": 39,
     "metadata": {},
     "output_type": "execute_result"
    }
   ],
   "source": [
    "# train/val split\n",
    "n = 500000\n",
    "n = min(n,X.shape[0])\n",
    "m = int(0.9*n)\n",
    "data = X[:m]\n",
    "labels = y[:m]\n",
    "test_data = X[m:n]\n",
    "test_labels = y[m:n]\n",
    "\n",
    "perm = np.random.permutation(m)\n",
    "p = int(0.9*m)\n",
    "\n",
    "train_data = data[perm[:p]]\n",
    "train_labels = labels[perm[:p]]\n",
    "val_data = data[perm[p:]]\n",
    "val_labels = labels[perm[p:]]\n",
    "\n",
    "train_data.shape, train_labels.shape"
   ]
  },
  {
   "cell_type": "markdown",
   "metadata": {
    "colab_type": "text",
    "id": "b77owDQ-Drm5"
   },
   "source": [
    "### Load Data for Tensorflow"
   ]
  },
  {
   "cell_type": "code",
   "execution_count": 40,
   "metadata": {
    "colab": {},
    "colab_type": "code",
    "id": "402GwxTyNX8C"
   },
   "outputs": [],
   "source": [
    "batch_size = 32\n",
    "dataset = tf.data.Dataset.from_tensor_slices((train_data, train_labels))\n",
    "dataset = dataset.batch(batch_size, drop_remainder=True)\n",
    "valdataset = tf.data.Dataset.from_tensor_slices((val_data, val_labels))\n",
    "valdataset = valdataset.batch(batch_size, drop_remainder=True)"
   ]
  },
  {
   "cell_type": "code",
   "execution_count": 41,
   "metadata": {
    "colab": {},
    "colab_type": "code",
    "id": "0Ps1leCZDrm6",
    "scrolled": false
   },
   "outputs": [],
   "source": [
    "# ToDo\n",
    "# weighted randomsampler!\n",
    "# batchnormalization"
   ]
  },
  {
   "cell_type": "markdown",
   "metadata": {
    "colab_type": "text",
    "id": "IhxqWi8YDrm8"
   },
   "source": [
    "# C. Train a model"
   ]
  },
  {
   "cell_type": "code",
   "execution_count": 42,
   "metadata": {
    "colab": {},
    "colab_type": "code",
    "id": "XPH5jO9WNX8H"
   },
   "outputs": [],
   "source": [
    "def build(input_dim, seq_len, hidden_dim, num_layers, output_dim_pitch, output_dim_duration):\n",
    "    if tf.test.is_gpu_available():\n",
    "        LSTM = tf.keras.layers.CuDNNLSTM(hidden_dim, \n",
    "                                    return_sequences=True, \n",
    "                                    return_state=False, \n",
    "                                    recurrent_initializer='glorot_uniform')\n",
    "        lastlstm = tf.keras.layers.CuDNNLSTM(hidden_dim, \n",
    "                                    return_sequences=False, \n",
    "                                    return_state=False, \n",
    "                                    recurrent_initializer='glorot_uniform')\n",
    "    else:\n",
    "        LSTM = tf.keras.layers.LSTM(hidden_dim, \n",
    "                               return_sequences=True, \n",
    "                               return_state=False, \n",
    "                               recurrent_activation='sigmoid', \n",
    "                               recurrent_initializer='glorot_uniform')\n",
    "        lastlstm = tf.keras.layers.LSTM(hidden_dim, \n",
    "                               return_sequences=False, \n",
    "                               return_state=False, \n",
    "                               recurrent_activation='sigmoid', \n",
    "                               recurrent_initializer='glorot_uniform')\n",
    "    \n",
    "        \n",
    "    inputs = tf.keras.Input(shape=(seq_len, input_dim))\n",
    "    x = inputs\n",
    "    for i in range(num_layers-1):\n",
    "        x = LSTM(x)\n",
    "    x = lastlstm(x)\n",
    "    x = tf.keras.layers.Dropout(rate=0.3)(x)\n",
    "    pitch = tf.keras.layers.Dense(output_dim_pitch, activation='softmax', name='pitch_out')(x)\n",
    "#     duration = tf.keras.layers.Dense(output_dim_duration, activation='softmax', name='duration_out')(x)\n",
    "\n",
    "    model = tf.keras.Model(inputs=inputs, outputs=pitch)\n",
    "    return model\n",
    "    "
   ]
  },
  {
   "cell_type": "code",
   "execution_count": 43,
   "metadata": {
    "colab": {},
    "colab_type": "code",
    "id": "DcBZ0X21NX8K"
   },
   "outputs": [
    {
     "name": "stdout",
     "output_type": "stream",
     "text": [
      "WARNING:tensorflow:From /Library/Frameworks/Python.framework/Versions/3.6/lib/python3.6/site-packages/tensorflow/python/ops/tensor_array_ops.py:162: colocate_with (from tensorflow.python.framework.ops) is deprecated and will be removed in a future version.\n",
      "Instructions for updating:\n",
      "Colocations handled automatically by placer.\n",
      "WARNING:tensorflow:From /Library/Frameworks/Python.framework/Versions/3.6/lib/python3.6/site-packages/tensorflow/python/keras/layers/core.py:143: calling dropout (from tensorflow.python.ops.nn_ops) with keep_prob is deprecated and will be removed in a future version.\n",
      "Instructions for updating:\n",
      "Please use `rate` instead of `keep_prob`. Rate should be set to `rate = 1 - keep_prob`.\n"
     ]
    }
   ],
   "source": [
    "# Build Model\n",
    "model_params = {\n",
    "    'input_dim': train_data.shape[-1],\n",
    "    'seq_len': None,\n",
    "    'hidden_dim': 128,\n",
    "    'num_layers': 2,\n",
    "    'output_dim_pitch': MELODY,\n",
    "    'output_dim_duration': TIMES,\n",
    "}\n",
    "\n",
    "model = build(**model_params)"
   ]
  },
  {
   "cell_type": "code",
   "execution_count": 24,
   "metadata": {
    "colab": {},
    "colab_type": "code",
    "id": "5VJuTqB8NX8M"
   },
   "outputs": [],
   "source": [
    "# tf.keras.utils.plot_model(model, show_shapes=True)"
   ]
  },
  {
   "cell_type": "code",
   "execution_count": 25,
   "metadata": {
    "colab": {},
    "colab_type": "code",
    "id": "mFzXM-XbNX8Q"
   },
   "outputs": [],
   "source": [
    "# checkpoint_dir = './training_checkpoints'\n",
    "# checkpoint_prefix = os.path.join(checkpoint_dir, \"ckpt\")\n",
    "# #checkpoint = tf.train.Checkpoint(optimizer=optimizer, model=model)"
   ]
  },
  {
   "cell_type": "code",
   "execution_count": 44,
   "metadata": {
    "colab": {},
    "colab_type": "code",
    "id": "yICpioTmNX8T"
   },
   "outputs": [],
   "source": [
    "model.compile(\n",
    "    optimizer='adam',\n",
    "    loss={'pitch_out': 'sparse_categorical_crossentropy'},\n",
    "    metrics={'pitch_out': 'acc'})"
   ]
  },
  {
   "cell_type": "code",
   "execution_count": 41,
   "metadata": {
    "colab": {
     "base_uri": "https://localhost:8080/",
     "height": 224
    },
    "colab_type": "code",
    "id": "15Uvd6h0NX8X",
    "outputId": "6e21f803-48ee-4a5e-bc82-f179af2ccd7b",
    "scrolled": true
   },
   "outputs": [
    {
     "name": "stdout",
     "output_type": "stream",
     "text": [
      "Epoch 1/20\n",
      "13101/13101 [==============================] - 20s 2ms/sample - loss: 1.7275 - acc: 0.5080\n",
      "Epoch 2/20\n",
      "13101/13101 [==============================] - 18s 1ms/sample - loss: 1.4417 - acc: 0.5435\n",
      "Epoch 3/20\n",
      "13101/13101 [==============================] - 20s 2ms/sample - loss: 1.3471 - acc: 0.5685\n",
      "Epoch 4/20\n",
      "13101/13101 [==============================] - 19s 1ms/sample - loss: 1.2745 - acc: 0.5819\n",
      "Epoch 5/20\n",
      "13101/13101 [==============================] - 17s 1ms/sample - loss: 1.2152 - acc: 0.6003\n",
      "Epoch 6/20\n",
      "13101/13101 [==============================] - 17s 1ms/sample - loss: 1.1533 - acc: 0.6197\n",
      "Epoch 7/20\n",
      "13101/13101 [==============================] - 21s 2ms/sample - loss: 1.1084 - acc: 0.6376\n",
      "Epoch 8/20\n",
      "13101/13101 [==============================] - 17s 1ms/sample - loss: 1.0568 - acc: 0.6504\n",
      "Epoch 9/20\n",
      "13101/13101 [==============================] - 16s 1ms/sample - loss: 1.0055 - acc: 0.6710\n",
      "Epoch 10/20\n",
      "13101/13101 [==============================] - 15s 1ms/sample - loss: 0.9546 - acc: 0.6857\n",
      "Epoch 11/20\n",
      "13101/13101 [==============================] - 15s 1ms/sample - loss: 0.9080 - acc: 0.7011\n",
      "Epoch 12/20\n",
      "13101/13101 [==============================] - 15s 1ms/sample - loss: 0.8441 - acc: 0.7224\n",
      "Epoch 13/20\n",
      "13101/13101 [==============================] - 20s 1ms/sample - loss: 0.7886 - acc: 0.7392\n",
      "Epoch 14/20\n",
      "13101/13101 [==============================] - 19s 1ms/sample - loss: 0.7356 - acc: 0.7588\n",
      "Epoch 15/20\n",
      "13101/13101 [==============================] - 19s 1ms/sample - loss: 0.6733 - acc: 0.7798\n",
      "Epoch 16/20\n",
      "13101/13101 [==============================] - 16s 1ms/sample - loss: 0.6076 - acc: 0.7998\n",
      "Epoch 17/20\n",
      "13101/13101 [==============================] - 18s 1ms/sample - loss: 0.5585 - acc: 0.8176\n",
      "Epoch 18/20\n",
      "13101/13101 [==============================] - 18s 1ms/sample - loss: 0.4946 - acc: 0.8361\n",
      "Epoch 19/20\n",
      "13101/13101 [==============================] - 19s 1ms/sample - loss: 0.4478 - acc: 0.8607\n",
      "Epoch 20/20\n",
      "13101/13101 [==============================] - 20s 2ms/sample - loss: 0.4014 - acc: 0.8712\n"
     ]
    },
    {
     "data": {
      "text/plain": [
       "<tensorflow.python.keras.callbacks.History at 0x13d1e1400>"
      ]
     },
     "execution_count": 41,
     "metadata": {},
     "output_type": "execute_result"
    }
   ],
   "source": [
    "model.fit(train_data, train_labels[:,0], batch_size=32, epochs=20)"
   ]
  },
  {
   "cell_type": "code",
   "execution_count": 45,
   "metadata": {
    "colab": {
     "base_uri": "https://localhost:8080/",
     "height": 71
    },
    "colab_type": "code",
    "id": "eG2iMqmTNX8a",
    "outputId": "fd88fa97-813f-40b3-e6e0-73804ffd8272",
    "scrolled": true
   },
   "outputs": [
    {
     "name": "stdout",
     "output_type": "stream",
     "text": [
      "123/123 [==============================] - 0s 3ms/sample - loss: 3.6057 - acc: 0.0081\n"
     ]
    },
    {
     "data": {
      "text/plain": [
       "[3.605743169784546, 0.008130081]"
      ]
     },
     "execution_count": 45,
     "metadata": {},
     "output_type": "execute_result"
    }
   ],
   "source": [
    "model.evaluate(val_data,val_labels[:,0])"
   ]
  },
  {
   "cell_type": "code",
   "execution_count": 46,
   "metadata": {
    "colab": {
     "base_uri": "https://localhost:8080/",
     "height": 71
    },
    "colab_type": "code",
    "id": "CUZLuoapNX8e",
    "outputId": "cc96d46f-9520-4052-e172-d85e8c464f02",
    "scrolled": true
   },
   "outputs": [
    {
     "name": "stdout",
     "output_type": "stream",
     "text": [
      "136/136 [==============================] - 0s 646us/sample - loss: 3.5944 - acc: 0.0000e+00\n"
     ]
    },
    {
     "data": {
      "text/plain": [
       "[3.5944465468911564, 0.0]"
      ]
     },
     "execution_count": 46,
     "metadata": {},
     "output_type": "execute_result"
    }
   ],
   "source": [
    "model.evaluate(test_data,test_labels[:,0])"
   ]
  },
  {
   "cell_type": "code",
   "execution_count": null,
   "metadata": {},
   "outputs": [],
   "source": []
  },
  {
   "cell_type": "code",
   "execution_count": null,
   "metadata": {},
   "outputs": [],
   "source": []
  },
  {
   "cell_type": "code",
   "execution_count": 47,
   "metadata": {},
   "outputs": [],
   "source": [
    "def getChordsFromFeaturevec(featurevec):\n",
    "    indx = encodingDict['melody']*MELODY + encodingDict['melodyModulo']*12 + encodingDict['duration']*TIMES\n",
    "    return featurevec[-1,indx:indx+12], featurevec[-1,indx+12:indx+24]\n"
   ]
  },
  {
   "cell_type": "code",
   "execution_count": 48,
   "metadata": {},
   "outputs": [],
   "source": [
    "def getNoteScore(note, featurevec):\n",
    "    note = note % 12\n",
    "    chords = getChordsFromFeaturevec(featurevec)\n",
    "    currchord = chords[0]\n",
    "    nextchord = chords[1]\n",
    "    return int(currchord[note]), int(nextchord[note])\n"
   ]
  },
  {
   "cell_type": "code",
   "execution_count": 49,
   "metadata": {},
   "outputs": [],
   "source": [
    "def getScaleForChord(chord):\n",
    "    # rotate to C chord and remember steps\n",
    "    # then return scale for C chord and rotate back\n",
    "    \n",
    "    # major scale\n",
    "    c_maj = np.array([1,0,0,0,1,0,0,1,0,0,0,0])\n",
    "    c_7 = np.array([1,0,0,0,1,0,0,1,0,0,1,0])\n",
    "    # c_6 = np.array([1,0,0,0,1,0,0,1,0,1,0,0]) # c_6 == c_min7\n",
    "    c_maj7 = np.array([1,0,0,0,1,0,0,1,0,0,0,1])\n",
    "\n",
    "    # minor scale\n",
    "    c_min = np.array([1,0,0,1,0,0,0,1,0,0,0,0])\n",
    "    c_min7 = np.array([1,0,0,1,0,0,0,1,0,0,1,0])\n",
    "    c_dim = np.array([1,0,0,1,0,0,1,0,0,0,0,0])\n",
    "\n",
    "    c_maj_scale = np.array([1,0,1,0,1,1,0,1,0,1,0,1])\n",
    "    c_min_scale = np.array([1,0,1,1,0,1,0,1,1,0,1,0])\n",
    "\n",
    "    idx, ch = -1, -1\n",
    "    \n",
    "    for i in range(12):\n",
    "        if (chord == c_maj).all() or (chord == c_7).all() or (chord == c_maj7).all():\n",
    "            idx = i\n",
    "            scale = np.append(c_maj_scale[-i:], c_maj_scale[:-i])\n",
    "            return scale\n",
    "        elif (chord == c_min).all() or (chord == c_min7).all():\n",
    "            idx = i\n",
    "            scale = np.append(c_min_scale[-i:], c_min_scale[:-i])\n",
    "            return scale\n",
    "        elif (chord == c_dim).all():\n",
    "            idx = i\n",
    "            scale = np.append(c_min_scale[-i:], c_min_scale[:-i]) # dim scale?\n",
    "            return scale\n",
    "            \n",
    "        chord = np.append(chord[1:],chord[0])\n",
    "        \n",
    "    return np.zeros(12)\n",
    "        \n",
    "def getScaleScore(note, featurevec):\n",
    "    note = note % 12\n",
    "    currchord, nextchord = getChordsFromFeaturevec(featurevec)\n",
    "    cscale = getScaleForChord(currchord)\n",
    "    nscale = getScaleForChord(nextchord)\n",
    "    return cscale[note], nscale[note]\n",
    "\n"
   ]
  },
  {
   "cell_type": "code",
   "execution_count": 50,
   "metadata": {
    "scrolled": true
   },
   "outputs": [],
   "source": [
    "# Evaluation\n",
    "def getHCScore(data):\n",
    "    pauses = 0\n",
    "    currchordscore = 0\n",
    "    nextchordscore = 0\n",
    "    currscalescore = 0\n",
    "    nextscalescore = 0\n",
    "    totalscore = 0\n",
    "\n",
    "    for i, featurevec in enumerate(data):\n",
    "        pred = model.predict(np.expand_dims(featurevec,0))\n",
    "        note = np.argmax(pred)\n",
    "    #     note = test_labels[i][0]\n",
    "\n",
    "        if note == MELODY-1:\n",
    "            pauses += 1\n",
    "\n",
    "        else:\n",
    "            cscore, nscore = getNoteScore(note,featurevec)\n",
    "            cscale, nscale = getScaleScore(note, featurevec)\n",
    "\n",
    "            if cscore > 0:\n",
    "                currchordscore += cscore\n",
    "            elif cscale > 0:\n",
    "                currscalescore += cscale\n",
    "            elif nscore > 0:\n",
    "                nextchordscore += nscore\n",
    "            elif nscale > 0:\n",
    "                nextscalescore += nscale\n",
    "            else:\n",
    "        #         print(i, '\\n', getChordsFromFeaturevec(featurevec), '\\n', note % 12, note)\n",
    "                pass\n",
    "\n",
    "            totalscore += max(cscore, nscore, cscale, nscale)\n",
    "\n",
    "\n",
    "    # currchordscore, nextchordscore, currscalescore, nextscalescore, totalscore, test_data.shape[0]\n",
    "    return (totalscore+pauses)/data.shape[0], pauses, data.shape[0]"
   ]
  },
  {
   "cell_type": "code",
   "execution_count": 51,
   "metadata": {},
   "outputs": [
    {
     "data": {
      "text/plain": [
       "(0.9117647058823529, 0, 136)"
      ]
     },
     "execution_count": 51,
     "metadata": {},
     "output_type": "execute_result"
    }
   ],
   "source": [
    "getHCScore(test_data)"
   ]
  },
  {
   "cell_type": "code",
   "execution_count": 52,
   "metadata": {},
   "outputs": [],
   "source": [
    "# create 20000 2-bar sequences with randomly chosen prime from (train, ne) test data (test data vllt zu wenig)"
   ]
  },
  {
   "cell_type": "code",
   "execution_count": 53,
   "metadata": {},
   "outputs": [
    {
     "data": {
      "text/plain": [
       "(136, 8, 73)"
      ]
     },
     "execution_count": 53,
     "metadata": {},
     "output_type": "execute_result"
    }
   ],
   "source": [
    "test_data.shape"
   ]
  },
  {
   "cell_type": "code",
   "execution_count": 118,
   "metadata": {},
   "outputs": [
    {
     "data": {
      "text/plain": [
       "(9, 73)"
      ]
     },
     "execution_count": 118,
     "metadata": {},
     "output_type": "execute_result"
    }
   ],
   "source": [
    "sample = test_data[0]\n",
    "\n",
    "def getEvalPred(sample):\n",
    "    pred = np.argmax(model.predict(np.expand_dims(sample,0)))\n",
    "    note = oneHot(pred,MELODY)\n",
    "    notemod = oneHot(pred%12,12) if pred < MELODY - 1 else np.zeros(12)\n",
    "    chord = sample[-1,-12:] # next chord from last note\n",
    "    chordn = sample[0,-24:-12] # first chord is next chord\n",
    "    newfeat = np.append(note, np.append(notemod, np.append(chord, chordn)))\n",
    "    newsample = np.append(sample, np.expand_dims(newfeat,0),axis=0)\n",
    "    for i in range(8):\n",
    "        pred = np.argmax(model.predict(np.expand_dims(newsample,0)))\n",
    "        note = oneHot(pred,MELODY)\n",
    "        notemod = oneHot(pred%12,12) if pred < MELODY - 1 else np.zeros(12)\n",
    "        chord = sample[i,-24:]\n",
    "        newfeat = np.append(note, np.append(notemod, chord))\n",
    "        newsample = np.append(newsample, np.expand_dims(newfeat,0),axis=0)\n",
    "    return newsample[8:]\n",
    "\n",
    "getEvalPred(sample).shape"
   ]
  },
  {
   "cell_type": "code",
   "execution_count": 130,
   "metadata": {},
   "outputs": [
    {
     "data": {
      "text/plain": [
       "0.7142857142857143"
      ]
     },
     "execution_count": 130,
     "metadata": {},
     "output_type": "execute_result"
    }
   ],
   "source": [
    "# consecutive pitch repetitions\n",
    "def getCPR2(evalpred):\n",
    "    c = 0\n",
    "    m = evalpred.shape[0]-2\n",
    "    for i in range(m):\n",
    "        note = np.argmax(evalpred[i,:37])\n",
    "        nextnote = np.argmax(evalpred[i+1,:37])\n",
    "        nextnextnote = np.argmax(evalpred[i+2,:37])\n",
    "        # print(note, nextnote)\n",
    "        if note == nextnote and nextnote == nextnextnote:\n",
    "            c += 1\n",
    "    return c/m\n",
    "\n",
    "evalpred = getEvalPred(sample)\n",
    "getCPR(evalpred)"
   ]
  },
  {
   "cell_type": "code",
   "execution_count": 134,
   "metadata": {},
   "outputs": [
    {
     "data": {
      "text/plain": [
       "0.25"
      ]
     },
     "execution_count": 134,
     "metadata": {},
     "output_type": "execute_result"
    }
   ],
   "source": [
    "# Tone Spans greater than octave\n",
    "def getToneSpans(evalpred):\n",
    "    c = 0\n",
    "    m = evalpred.shape[0]-1\n",
    "    for i in range(m):\n",
    "        note = np.argmax(evalpred[i,:37])\n",
    "        nextnote = np.argmax(evalpred[i+1,:37])\n",
    "#         print(note, nextnote)\n",
    "        if note < nextnote - 12 or note > nextnote + 12:\n",
    "            c += 1\n",
    "    return c/m\n",
    "getToneSpans(evalpred)"
   ]
  },
  {
   "cell_type": "code",
   "execution_count": 136,
   "metadata": {
    "scrolled": true
   },
   "outputs": [
    {
     "data": {
      "text/plain": [
       "0.2222222222222222"
      ]
     },
     "execution_count": 136,
     "metadata": {},
     "output_type": "execute_result"
    }
   ],
   "source": [
    "# pitch variations: ratio distinct pitches vs number of notes\n",
    "def getPV(evalpred):\n",
    "    c = {}\n",
    "    m = evalpred.shape[0]\n",
    "    for i in range(m):\n",
    "        note = np.argmax(evalpred[i,:37])\n",
    "#         print(note, nextnote)\n",
    "        c[note] = 1\n",
    "    return len(c)/m\n",
    "getPV(evalpred)"
   ]
  },
  {
   "cell_type": "code",
   "execution_count": null,
   "metadata": {},
   "outputs": [],
   "source": []
  },
  {
   "cell_type": "code",
   "execution_count": null,
   "metadata": {},
   "outputs": [],
   "source": [
    "# rote memorization frequencies: copy seq of length 3 to 6\n",
    "corpus = [1] # todo\n",
    "def getRM(evalpred):\n",
    "    c = 1\n",
    "    notes = []\n",
    "    m = evalpred.shape[0]\n",
    "    for i in range(m):\n",
    "        note = np.argmax(evalpred[i,:37])\n",
    "        notes.append(note)\n",
    "#         print(note, nextnote)\n",
    "    for i in range(m-3):\n",
    "        if notes[i:i+3] in corpus:\n",
    "            \n",
    "    \n",
    "    \n",
    "    \n",
    "    return len(c)\n",
    "getRM(evalpred)"
   ]
  },
  {
   "cell_type": "code",
   "execution_count": null,
   "metadata": {},
   "outputs": [],
   "source": []
  },
  {
   "cell_type": "code",
   "execution_count": null,
   "metadata": {},
   "outputs": [],
   "source": []
  },
  {
   "cell_type": "code",
   "execution_count": null,
   "metadata": {},
   "outputs": [],
   "source": []
  },
  {
   "cell_type": "code",
   "execution_count": null,
   "metadata": {},
   "outputs": [],
   "source": []
  },
  {
   "cell_type": "code",
   "execution_count": null,
   "metadata": {},
   "outputs": [],
   "source": []
  },
  {
   "cell_type": "code",
   "execution_count": 286,
   "metadata": {
    "colab": {},
    "colab_type": "code",
    "id": "u_3MYYPpNX8g",
    "scrolled": true
   },
   "outputs": [
    {
     "ename": "RuntimeError",
     "evalue": "Unable to create link (name already exists)",
     "output_type": "error",
     "traceback": [
      "\u001b[0;31m---------------------------------------------------------------------------\u001b[0m",
      "\u001b[0;31mRuntimeError\u001b[0m                              Traceback (most recent call last)",
      "\u001b[0;32m<ipython-input-286-b5e37806464f>\u001b[0m in \u001b[0;36m<module>\u001b[0;34m\u001b[0m\n\u001b[0;32m----> 1\u001b[0;31m \u001b[0mmodel\u001b[0m\u001b[0;34m.\u001b[0m\u001b[0msave\u001b[0m\u001b[0;34m(\u001b[0m\u001b[0;34m'deploy/tfjs/model7.h5'\u001b[0m\u001b[0;34m)\u001b[0m\u001b[0;34m\u001b[0m\u001b[0;34m\u001b[0m\u001b[0m\n\u001b[0m",
      "\u001b[0;32m/Library/Frameworks/Python.framework/Versions/3.6/lib/python3.6/site-packages/tensorflow/python/keras/engine/network.py\u001b[0m in \u001b[0;36msave\u001b[0;34m(self, filepath, overwrite, include_optimizer)\u001b[0m\n\u001b[1;32m   1332\u001b[0m \u001b[0;34m\u001b[0m\u001b[0m\n\u001b[1;32m   1333\u001b[0m     \u001b[0;32mfrom\u001b[0m \u001b[0mtensorflow\u001b[0m\u001b[0;34m.\u001b[0m\u001b[0mpython\u001b[0m\u001b[0;34m.\u001b[0m\u001b[0mkeras\u001b[0m\u001b[0;34m.\u001b[0m\u001b[0mmodels\u001b[0m \u001b[0;32mimport\u001b[0m \u001b[0msave_model\u001b[0m  \u001b[0;31m# pylint: disable=g-import-not-at-top\u001b[0m\u001b[0;34m\u001b[0m\u001b[0;34m\u001b[0m\u001b[0m\n\u001b[0;32m-> 1334\u001b[0;31m     \u001b[0msave_model\u001b[0m\u001b[0;34m(\u001b[0m\u001b[0mself\u001b[0m\u001b[0;34m,\u001b[0m \u001b[0mfilepath\u001b[0m\u001b[0;34m,\u001b[0m \u001b[0moverwrite\u001b[0m\u001b[0;34m,\u001b[0m \u001b[0minclude_optimizer\u001b[0m\u001b[0;34m)\u001b[0m\u001b[0;34m\u001b[0m\u001b[0;34m\u001b[0m\u001b[0m\n\u001b[0m\u001b[1;32m   1335\u001b[0m \u001b[0;34m\u001b[0m\u001b[0m\n\u001b[1;32m   1336\u001b[0m   \u001b[0;32mdef\u001b[0m \u001b[0msave_weights\u001b[0m\u001b[0;34m(\u001b[0m\u001b[0mself\u001b[0m\u001b[0;34m,\u001b[0m \u001b[0mfilepath\u001b[0m\u001b[0;34m,\u001b[0m \u001b[0moverwrite\u001b[0m\u001b[0;34m=\u001b[0m\u001b[0;32mTrue\u001b[0m\u001b[0;34m,\u001b[0m \u001b[0msave_format\u001b[0m\u001b[0;34m=\u001b[0m\u001b[0;32mNone\u001b[0m\u001b[0;34m)\u001b[0m\u001b[0;34m:\u001b[0m\u001b[0;34m\u001b[0m\u001b[0;34m\u001b[0m\u001b[0m\n",
      "\u001b[0;32m/Library/Frameworks/Python.framework/Versions/3.6/lib/python3.6/site-packages/tensorflow/python/keras/engine/saving.py\u001b[0m in \u001b[0;36msave_model\u001b[0;34m(model, filepath, overwrite, include_optimizer)\u001b[0m\n\u001b[1;32m    150\u001b[0m           \u001b[0;32mfor\u001b[0m \u001b[0mname\u001b[0m\u001b[0;34m,\u001b[0m \u001b[0mval\u001b[0m \u001b[0;32min\u001b[0m \u001b[0mzip\u001b[0m\u001b[0;34m(\u001b[0m\u001b[0mweight_names\u001b[0m\u001b[0;34m,\u001b[0m \u001b[0mweight_values\u001b[0m\u001b[0;34m)\u001b[0m\u001b[0;34m:\u001b[0m\u001b[0;34m\u001b[0m\u001b[0;34m\u001b[0m\u001b[0m\n\u001b[1;32m    151\u001b[0m             param_dset = optimizer_weights_group.create_dataset(\n\u001b[0;32m--> 152\u001b[0;31m                 name, val.shape, dtype=val.dtype)\n\u001b[0m\u001b[1;32m    153\u001b[0m             \u001b[0;32mif\u001b[0m \u001b[0;32mnot\u001b[0m \u001b[0mval\u001b[0m\u001b[0;34m.\u001b[0m\u001b[0mshape\u001b[0m\u001b[0;34m:\u001b[0m\u001b[0;34m\u001b[0m\u001b[0;34m\u001b[0m\u001b[0m\n\u001b[1;32m    154\u001b[0m               \u001b[0;31m# scalar\u001b[0m\u001b[0;34m\u001b[0m\u001b[0;34m\u001b[0m\u001b[0;34m\u001b[0m\u001b[0m\n",
      "\u001b[0;32m/Library/Frameworks/Python.framework/Versions/3.6/lib/python3.6/site-packages/h5py/_hl/group.py\u001b[0m in \u001b[0;36mcreate_dataset\u001b[0;34m(self, name, shape, dtype, data, **kwds)\u001b[0m\n\u001b[1;32m    117\u001b[0m             \u001b[0mdset\u001b[0m \u001b[0;34m=\u001b[0m \u001b[0mdataset\u001b[0m\u001b[0;34m.\u001b[0m\u001b[0mDataset\u001b[0m\u001b[0;34m(\u001b[0m\u001b[0mdsid\u001b[0m\u001b[0;34m)\u001b[0m\u001b[0;34m\u001b[0m\u001b[0;34m\u001b[0m\u001b[0m\n\u001b[1;32m    118\u001b[0m             \u001b[0;32mif\u001b[0m \u001b[0mname\u001b[0m \u001b[0;32mis\u001b[0m \u001b[0;32mnot\u001b[0m \u001b[0;32mNone\u001b[0m\u001b[0;34m:\u001b[0m\u001b[0;34m\u001b[0m\u001b[0;34m\u001b[0m\u001b[0m\n\u001b[0;32m--> 119\u001b[0;31m                 \u001b[0mself\u001b[0m\u001b[0;34m[\u001b[0m\u001b[0mname\u001b[0m\u001b[0;34m]\u001b[0m \u001b[0;34m=\u001b[0m \u001b[0mdset\u001b[0m\u001b[0;34m\u001b[0m\u001b[0;34m\u001b[0m\u001b[0m\n\u001b[0m\u001b[1;32m    120\u001b[0m             \u001b[0;32mreturn\u001b[0m \u001b[0mdset\u001b[0m\u001b[0;34m\u001b[0m\u001b[0;34m\u001b[0m\u001b[0m\n\u001b[1;32m    121\u001b[0m \u001b[0;34m\u001b[0m\u001b[0m\n",
      "\u001b[0;32m/Library/Frameworks/Python.framework/Versions/3.6/lib/python3.6/site-packages/h5py/_hl/group.py\u001b[0m in \u001b[0;36m__setitem__\u001b[0;34m(self, name, obj)\u001b[0m\n\u001b[1;32m    285\u001b[0m \u001b[0;34m\u001b[0m\u001b[0m\n\u001b[1;32m    286\u001b[0m             \u001b[0;32mif\u001b[0m \u001b[0misinstance\u001b[0m\u001b[0;34m(\u001b[0m\u001b[0mobj\u001b[0m\u001b[0;34m,\u001b[0m \u001b[0mHLObject\u001b[0m\u001b[0;34m)\u001b[0m\u001b[0;34m:\u001b[0m\u001b[0;34m\u001b[0m\u001b[0;34m\u001b[0m\u001b[0m\n\u001b[0;32m--> 287\u001b[0;31m                 \u001b[0mh5o\u001b[0m\u001b[0;34m.\u001b[0m\u001b[0mlink\u001b[0m\u001b[0;34m(\u001b[0m\u001b[0mobj\u001b[0m\u001b[0;34m.\u001b[0m\u001b[0mid\u001b[0m\u001b[0;34m,\u001b[0m \u001b[0mself\u001b[0m\u001b[0;34m.\u001b[0m\u001b[0mid\u001b[0m\u001b[0;34m,\u001b[0m \u001b[0mname\u001b[0m\u001b[0;34m,\u001b[0m \u001b[0mlcpl\u001b[0m\u001b[0;34m=\u001b[0m\u001b[0mlcpl\u001b[0m\u001b[0;34m,\u001b[0m \u001b[0mlapl\u001b[0m\u001b[0;34m=\u001b[0m\u001b[0mself\u001b[0m\u001b[0;34m.\u001b[0m\u001b[0m_lapl\u001b[0m\u001b[0;34m)\u001b[0m\u001b[0;34m\u001b[0m\u001b[0;34m\u001b[0m\u001b[0m\n\u001b[0m\u001b[1;32m    288\u001b[0m \u001b[0;34m\u001b[0m\u001b[0m\n\u001b[1;32m    289\u001b[0m             \u001b[0;32melif\u001b[0m \u001b[0misinstance\u001b[0m\u001b[0;34m(\u001b[0m\u001b[0mobj\u001b[0m\u001b[0;34m,\u001b[0m \u001b[0mSoftLink\u001b[0m\u001b[0;34m)\u001b[0m\u001b[0;34m:\u001b[0m\u001b[0;34m\u001b[0m\u001b[0;34m\u001b[0m\u001b[0m\n",
      "\u001b[0;32mh5py/_objects.pyx\u001b[0m in \u001b[0;36mh5py._objects.with_phil.wrapper\u001b[0;34m()\u001b[0m\n",
      "\u001b[0;32mh5py/_objects.pyx\u001b[0m in \u001b[0;36mh5py._objects.with_phil.wrapper\u001b[0;34m()\u001b[0m\n",
      "\u001b[0;32mh5py/h5o.pyx\u001b[0m in \u001b[0;36mh5py.h5o.link\u001b[0;34m()\u001b[0m\n",
      "\u001b[0;31mRuntimeError\u001b[0m: Unable to create link (name already exists)"
     ]
    }
   ],
   "source": [
    "#model.save('deploy/tfjs/model7.h5')"
   ]
  },
  {
   "cell_type": "code",
   "execution_count": 0,
   "metadata": {
    "colab": {},
    "colab_type": "code",
    "id": "dUHng5XMNX8l"
   },
   "outputs": [],
   "source": [
    "# source env/bin/activate\n",
    "# tensorflowjs_converter --input_format keras tfjs/model4.h5 tfjs/model4\n",
    "# \n",
    "# python -m SimpleHTTPServer 8000"
   ]
  },
  {
   "cell_type": "code",
   "execution_count": 53,
   "metadata": {},
   "outputs": [],
   "source": [
    "# Test Example: one prediction"
   ]
  },
  {
   "cell_type": "code",
   "execution_count": 65,
   "metadata": {},
   "outputs": [],
   "source": [
    "keys_chroma = ['C','C#','D','D#','E','F','F#','G','G#','A','A#','B',\n",
    "        'C-','C#-','D-','D#-','E-','F-','F#-','G-','G#-','A-','A#-','B-']\n",
    "keys_chroma_dict = dict(enumerate(keys_chroma))\n",
    "keys_chroma_dict_reverse = {v: k for k, v in keys_chroma_dict.items()}\n",
    "def getPitch(note):\n",
    "    return keys_chroma_dict[note%12]"
   ]
  },
  {
   "cell_type": "code",
   "execution_count": 87,
   "metadata": {
    "colab": {},
    "colab_type": "code",
    "id": "rrUapn9JNX8o"
   },
   "outputs": [
    {
     "data": {
      "text/plain": [
       "['D', 'C', 'A', 'E', 'D', 'A#', 'A#', 'A']"
      ]
     },
     "metadata": {},
     "output_type": "display_data"
    },
    {
     "data": {
      "text/plain": [
       "'A'"
      ]
     },
     "metadata": {},
     "output_type": "display_data"
    },
    {
     "data": {
      "text/plain": [
       "'A#'"
      ]
     },
     "metadata": {},
     "output_type": "display_data"
    },
    {
     "data": {
      "text/plain": [
       "['C', 'A', 'E', 'D', 'A#', 'A#', 'A', 'A#']"
      ]
     },
     "metadata": {},
     "output_type": "display_data"
    },
    {
     "data": {
      "text/plain": [
       "'A'"
      ]
     },
     "metadata": {},
     "output_type": "display_data"
    },
    {
     "data": {
      "text/plain": [
       "'F'"
      ]
     },
     "metadata": {},
     "output_type": "display_data"
    },
    {
     "data": {
      "text/plain": [
       "['A', 'E', 'D', 'A#', 'A#', 'A', 'A#', 'F']"
      ]
     },
     "metadata": {},
     "output_type": "display_data"
    },
    {
     "data": {
      "text/plain": [
       "'G'"
      ]
     },
     "metadata": {},
     "output_type": "display_data"
    },
    {
     "data": {
      "text/plain": [
       "'F'"
      ]
     },
     "metadata": {},
     "output_type": "display_data"
    },
    {
     "data": {
      "text/plain": [
       "['E', 'D', 'A#', 'A#', 'A', 'A#', 'F', 'F']"
      ]
     },
     "metadata": {},
     "output_type": "display_data"
    },
    {
     "data": {
      "text/plain": [
       "'A'"
      ]
     },
     "metadata": {},
     "output_type": "display_data"
    },
    {
     "data": {
      "text/plain": [
       "'C'"
      ]
     },
     "metadata": {},
     "output_type": "display_data"
    },
    {
     "data": {
      "text/plain": [
       "['D', 'A#', 'A#', 'A', 'A#', 'F', 'F', 'C']"
      ]
     },
     "metadata": {},
     "output_type": "display_data"
    },
    {
     "data": {
      "text/plain": [
       "'A'"
      ]
     },
     "metadata": {},
     "output_type": "display_data"
    },
    {
     "data": {
      "text/plain": [
       "'A'"
      ]
     },
     "metadata": {},
     "output_type": "display_data"
    },
    {
     "data": {
      "text/plain": [
       "['A#', 'A#', 'A', 'A#', 'F', 'F', 'C', 'A']"
      ]
     },
     "metadata": {},
     "output_type": "display_data"
    },
    {
     "data": {
      "text/plain": [
       "'A'"
      ]
     },
     "metadata": {},
     "output_type": "display_data"
    },
    {
     "data": {
      "text/plain": [
       "'A'"
      ]
     },
     "metadata": {},
     "output_type": "display_data"
    },
    {
     "data": {
      "text/plain": [
       "['A#', 'A', 'A#', 'F', 'F', 'C', 'A', 'A']"
      ]
     },
     "metadata": {},
     "output_type": "display_data"
    },
    {
     "data": {
      "text/plain": [
       "'A'"
      ]
     },
     "metadata": {},
     "output_type": "display_data"
    },
    {
     "data": {
      "text/plain": [
       "'A'"
      ]
     },
     "metadata": {},
     "output_type": "display_data"
    },
    {
     "data": {
      "text/plain": [
       "['A', 'A#', 'F', 'F', 'C', 'A', 'A', 'A']"
      ]
     },
     "metadata": {},
     "output_type": "display_data"
    },
    {
     "data": {
      "text/plain": [
       "'A'"
      ]
     },
     "metadata": {},
     "output_type": "display_data"
    },
    {
     "data": {
      "text/plain": [
       "'D'"
      ]
     },
     "metadata": {},
     "output_type": "display_data"
    },
    {
     "data": {
      "text/plain": [
       "['A#', 'F', 'F', 'C', 'A', 'A', 'A', 'D']"
      ]
     },
     "metadata": {},
     "output_type": "display_data"
    },
    {
     "data": {
      "text/plain": [
       "'G'"
      ]
     },
     "metadata": {},
     "output_type": "display_data"
    },
    {
     "data": {
      "text/plain": [
       "'A'"
      ]
     },
     "metadata": {},
     "output_type": "display_data"
    },
    {
     "data": {
      "text/plain": [
       "['F', 'F', 'C', 'A', 'A', 'A', 'D', 'A']"
      ]
     },
     "metadata": {},
     "output_type": "display_data"
    },
    {
     "data": {
      "text/plain": [
       "'G'"
      ]
     },
     "metadata": {},
     "output_type": "display_data"
    },
    {
     "data": {
      "text/plain": [
       "'G'"
      ]
     },
     "metadata": {},
     "output_type": "display_data"
    },
    {
     "data": {
      "text/plain": [
       "['F', 'C', 'A', 'A', 'A', 'D', 'A', 'G']"
      ]
     },
     "metadata": {},
     "output_type": "display_data"
    },
    {
     "data": {
      "text/plain": [
       "'G'"
      ]
     },
     "metadata": {},
     "output_type": "display_data"
    },
    {
     "data": {
      "text/plain": [
       "'F'"
      ]
     },
     "metadata": {},
     "output_type": "display_data"
    },
    {
     "data": {
      "text/plain": [
       "['C', 'A', 'A', 'A', 'D', 'A', 'G', 'F']"
      ]
     },
     "metadata": {},
     "output_type": "display_data"
    },
    {
     "data": {
      "text/plain": [
       "'F'"
      ]
     },
     "metadata": {},
     "output_type": "display_data"
    },
    {
     "data": {
      "text/plain": [
       "'F'"
      ]
     },
     "metadata": {},
     "output_type": "display_data"
    },
    {
     "data": {
      "text/plain": [
       "['A', 'A', 'A', 'D', 'A', 'G', 'F', 'F']"
      ]
     },
     "metadata": {},
     "output_type": "display_data"
    },
    {
     "data": {
      "text/plain": [
       "'G'"
      ]
     },
     "metadata": {},
     "output_type": "display_data"
    },
    {
     "data": {
      "text/plain": [
       "'G'"
      ]
     },
     "metadata": {},
     "output_type": "display_data"
    },
    {
     "data": {
      "text/plain": [
       "['A', 'A', 'D', 'A', 'G', 'F', 'F', 'G']"
      ]
     },
     "metadata": {},
     "output_type": "display_data"
    },
    {
     "data": {
      "text/plain": [
       "'A'"
      ]
     },
     "metadata": {},
     "output_type": "display_data"
    },
    {
     "data": {
      "text/plain": [
       "'A'"
      ]
     },
     "metadata": {},
     "output_type": "display_data"
    },
    {
     "data": {
      "text/plain": [
       "['A', 'D', 'A', 'G', 'F', 'F', 'G', 'A']"
      ]
     },
     "metadata": {},
     "output_type": "display_data"
    },
    {
     "data": {
      "text/plain": [
       "'A'"
      ]
     },
     "metadata": {},
     "output_type": "display_data"
    },
    {
     "data": {
      "text/plain": [
       "'A'"
      ]
     },
     "metadata": {},
     "output_type": "display_data"
    },
    {
     "data": {
      "text/plain": [
       "['D', 'A', 'G', 'F', 'F', 'G', 'A', 'A']"
      ]
     },
     "metadata": {},
     "output_type": "display_data"
    },
    {
     "data": {
      "text/plain": [
       "'A'"
      ]
     },
     "metadata": {},
     "output_type": "display_data"
    },
    {
     "data": {
      "text/plain": [
       "'A'"
      ]
     },
     "metadata": {},
     "output_type": "display_data"
    },
    {
     "data": {
      "text/plain": [
       "['C', 'E', 'F', 'E', 'G', 'G', 'G', 'C']"
      ]
     },
     "metadata": {},
     "output_type": "display_data"
    },
    {
     "data": {
      "text/plain": [
       "'F'"
      ]
     },
     "metadata": {},
     "output_type": "display_data"
    },
    {
     "data": {
      "text/plain": [
       "'G'"
      ]
     },
     "metadata": {},
     "output_type": "display_data"
    },
    {
     "data": {
      "text/plain": [
       "['E', 'F', 'E', 'G', 'G', 'G', 'C', 'G']"
      ]
     },
     "metadata": {},
     "output_type": "display_data"
    },
    {
     "data": {
      "text/plain": [
       "'F'"
      ]
     },
     "metadata": {},
     "output_type": "display_data"
    },
    {
     "data": {
      "text/plain": [
       "'G'"
      ]
     },
     "metadata": {},
     "output_type": "display_data"
    },
    {
     "data": {
      "text/plain": [
       "['F', 'E', 'G', 'G', 'G', 'C', 'G', 'G']"
      ]
     },
     "metadata": {},
     "output_type": "display_data"
    },
    {
     "data": {
      "text/plain": [
       "'C'"
      ]
     },
     "metadata": {},
     "output_type": "display_data"
    },
    {
     "data": {
      "text/plain": [
       "'F'"
      ]
     },
     "metadata": {},
     "output_type": "display_data"
    },
    {
     "data": {
      "text/plain": [
       "['E', 'G', 'G', 'G', 'C', 'G', 'G', 'F']"
      ]
     },
     "metadata": {},
     "output_type": "display_data"
    },
    {
     "data": {
      "text/plain": [
       "'E'"
      ]
     },
     "metadata": {},
     "output_type": "display_data"
    },
    {
     "data": {
      "text/plain": [
       "'G'"
      ]
     },
     "metadata": {},
     "output_type": "display_data"
    },
    {
     "data": {
      "text/plain": [
       "['G', 'G', 'G', 'C', 'G', 'G', 'F', 'G']"
      ]
     },
     "metadata": {},
     "output_type": "display_data"
    },
    {
     "data": {
      "text/plain": [
       "'A'"
      ]
     },
     "metadata": {},
     "output_type": "display_data"
    },
    {
     "data": {
      "text/plain": [
       "'A#'"
      ]
     },
     "metadata": {},
     "output_type": "display_data"
    },
    {
     "data": {
      "text/plain": [
       "['G', 'G', 'C', 'G', 'G', 'F', 'G', 'A#']"
      ]
     },
     "metadata": {},
     "output_type": "display_data"
    },
    {
     "data": {
      "text/plain": [
       "'F'"
      ]
     },
     "metadata": {},
     "output_type": "display_data"
    },
    {
     "data": {
      "text/plain": [
       "'G'"
      ]
     },
     "metadata": {},
     "output_type": "display_data"
    },
    {
     "data": {
      "text/plain": [
       "['G', 'C', 'G', 'G', 'F', 'G', 'A#', 'G']"
      ]
     },
     "metadata": {},
     "output_type": "display_data"
    },
    {
     "data": {
      "text/plain": [
       "'C'"
      ]
     },
     "metadata": {},
     "output_type": "display_data"
    },
    {
     "data": {
      "text/plain": [
       "'F'"
      ]
     },
     "metadata": {},
     "output_type": "display_data"
    },
    {
     "data": {
      "text/plain": [
       "['C', 'G', 'G', 'F', 'G', 'A#', 'G', 'F']"
      ]
     },
     "metadata": {},
     "output_type": "display_data"
    },
    {
     "data": {
      "text/plain": [
       "'C'"
      ]
     },
     "metadata": {},
     "output_type": "display_data"
    },
    {
     "data": {
      "text/plain": [
       "'G'"
      ]
     },
     "metadata": {},
     "output_type": "display_data"
    },
    {
     "data": {
      "text/plain": [
       "['G', 'G', 'F', 'G', 'A#', 'G', 'F', 'G']"
      ]
     },
     "metadata": {},
     "output_type": "display_data"
    },
    {
     "data": {
      "text/plain": [
       "'C'"
      ]
     },
     "metadata": {},
     "output_type": "display_data"
    },
    {
     "data": {
      "text/plain": [
       "'F'"
      ]
     },
     "metadata": {},
     "output_type": "display_data"
    },
    {
     "data": {
      "text/plain": [
       "['G', 'F', 'G', 'A#', 'G', 'F', 'G', 'F']"
      ]
     },
     "metadata": {},
     "output_type": "display_data"
    },
    {
     "data": {
      "text/plain": [
       "'A'"
      ]
     },
     "metadata": {},
     "output_type": "display_data"
    },
    {
     "data": {
      "text/plain": [
       "'E'"
      ]
     },
     "metadata": {},
     "output_type": "display_data"
    },
    {
     "data": {
      "text/plain": [
       "['F', 'G', 'A#', 'G', 'F', 'G', 'F', 'E']"
      ]
     },
     "metadata": {},
     "output_type": "display_data"
    },
    {
     "data": {
      "text/plain": [
       "'A'"
      ]
     },
     "metadata": {},
     "output_type": "display_data"
    },
    {
     "data": {
      "text/plain": [
       "'C'"
      ]
     },
     "metadata": {},
     "output_type": "display_data"
    },
    {
     "data": {
      "text/plain": [
       "['G', 'A#', 'G', 'F', 'G', 'F', 'E', 'C']"
      ]
     },
     "metadata": {},
     "output_type": "display_data"
    },
    {
     "data": {
      "text/plain": [
       "'A'"
      ]
     },
     "metadata": {},
     "output_type": "display_data"
    },
    {
     "data": {
      "text/plain": [
       "'E'"
      ]
     },
     "metadata": {},
     "output_type": "display_data"
    },
    {
     "data": {
      "text/plain": [
       "['A#', 'G', 'F', 'G', 'F', 'E', 'C', 'E']"
      ]
     },
     "metadata": {},
     "output_type": "display_data"
    },
    {
     "data": {
      "text/plain": [
       "'F'"
      ]
     },
     "metadata": {},
     "output_type": "display_data"
    },
    {
     "data": {
      "text/plain": [
       "'F'"
      ]
     },
     "metadata": {},
     "output_type": "display_data"
    },
    {
     "data": {
      "text/plain": [
       "['G', 'F', 'G', 'F', 'E', 'C', 'E', 'F']"
      ]
     },
     "metadata": {},
     "output_type": "display_data"
    },
    {
     "data": {
      "text/plain": [
       "'F'"
      ]
     },
     "metadata": {},
     "output_type": "display_data"
    },
    {
     "data": {
      "text/plain": [
       "'E'"
      ]
     },
     "metadata": {},
     "output_type": "display_data"
    },
    {
     "data": {
      "text/plain": [
       "['F', 'G', 'F', 'E', 'C', 'E', 'F', 'E']"
      ]
     },
     "metadata": {},
     "output_type": "display_data"
    },
    {
     "data": {
      "text/plain": [
       "'F'"
      ]
     },
     "metadata": {},
     "output_type": "display_data"
    },
    {
     "data": {
      "text/plain": [
       "'G'"
      ]
     },
     "metadata": {},
     "output_type": "display_data"
    },
    {
     "data": {
      "text/plain": [
       "['G', 'F', 'E', 'C', 'E', 'F', 'E', 'G']"
      ]
     },
     "metadata": {},
     "output_type": "display_data"
    },
    {
     "data": {
      "text/plain": [
       "'F'"
      ]
     },
     "metadata": {},
     "output_type": "display_data"
    },
    {
     "data": {
      "text/plain": [
       "'G'"
      ]
     },
     "metadata": {},
     "output_type": "display_data"
    },
    {
     "data": {
      "text/plain": [
       "['F', 'E', 'C', 'E', 'F', 'E', 'G', 'G']"
      ]
     },
     "metadata": {},
     "output_type": "display_data"
    },
    {
     "data": {
      "text/plain": [
       "'F'"
      ]
     },
     "metadata": {},
     "output_type": "display_data"
    },
    {
     "data": {
      "text/plain": [
       "'G'"
      ]
     },
     "metadata": {},
     "output_type": "display_data"
    },
    {
     "data": {
      "text/plain": [
       "['E', 'C', 'E', 'F', 'E', 'G', 'G', 'G']"
      ]
     },
     "metadata": {},
     "output_type": "display_data"
    },
    {
     "data": {
      "text/plain": [
       "'G'"
      ]
     },
     "metadata": {},
     "output_type": "display_data"
    },
    {
     "data": {
      "text/plain": [
       "'C'"
      ]
     },
     "metadata": {},
     "output_type": "display_data"
    },
    {
     "data": {
      "text/plain": [
       "['C', 'E', 'F', 'E', 'G', 'G', 'G', 'C']"
      ]
     },
     "metadata": {},
     "output_type": "display_data"
    },
    {
     "data": {
      "text/plain": [
       "'F'"
      ]
     },
     "metadata": {},
     "output_type": "display_data"
    },
    {
     "data": {
      "text/plain": [
       "'G'"
      ]
     },
     "metadata": {},
     "output_type": "display_data"
    },
    {
     "data": {
      "text/plain": [
       "['E', 'F', 'E', 'G', 'G', 'G', 'C', 'G']"
      ]
     },
     "metadata": {},
     "output_type": "display_data"
    },
    {
     "data": {
      "text/plain": [
       "'F'"
      ]
     },
     "metadata": {},
     "output_type": "display_data"
    },
    {
     "data": {
      "text/plain": [
       "'G'"
      ]
     },
     "metadata": {},
     "output_type": "display_data"
    },
    {
     "data": {
      "text/plain": [
       "['F', 'E', 'G', 'G', 'G', 'C', 'G', 'G']"
      ]
     },
     "metadata": {},
     "output_type": "display_data"
    },
    {
     "data": {
      "text/plain": [
       "'C'"
      ]
     },
     "metadata": {},
     "output_type": "display_data"
    },
    {
     "data": {
      "text/plain": [
       "'F'"
      ]
     },
     "metadata": {},
     "output_type": "display_data"
    },
    {
     "data": {
      "text/plain": [
       "['E', 'G', 'G', 'G', 'C', 'G', 'G', 'F']"
      ]
     },
     "metadata": {},
     "output_type": "display_data"
    },
    {
     "data": {
      "text/plain": [
       "'E'"
      ]
     },
     "metadata": {},
     "output_type": "display_data"
    },
    {
     "data": {
      "text/plain": [
       "'G'"
      ]
     },
     "metadata": {},
     "output_type": "display_data"
    },
    {
     "data": {
      "text/plain": [
       "['G', 'G', 'G', 'C', 'G', 'G', 'F', 'G']"
      ]
     },
     "metadata": {},
     "output_type": "display_data"
    },
    {
     "data": {
      "text/plain": [
       "'A'"
      ]
     },
     "metadata": {},
     "output_type": "display_data"
    },
    {
     "data": {
      "text/plain": [
       "'A#'"
      ]
     },
     "metadata": {},
     "output_type": "display_data"
    },
    {
     "data": {
      "text/plain": [
       "['G', 'G', 'C', 'G', 'G', 'F', 'G', 'A#']"
      ]
     },
     "metadata": {},
     "output_type": "display_data"
    },
    {
     "data": {
      "text/plain": [
       "'F'"
      ]
     },
     "metadata": {},
     "output_type": "display_data"
    },
    {
     "data": {
      "text/plain": [
       "'G'"
      ]
     },
     "metadata": {},
     "output_type": "display_data"
    },
    {
     "data": {
      "text/plain": [
       "['C', 'C', 'B', 'E', 'D', 'D', 'C', 'C']"
      ]
     },
     "metadata": {},
     "output_type": "display_data"
    },
    {
     "data": {
      "text/plain": [
       "'G'"
      ]
     },
     "metadata": {},
     "output_type": "display_data"
    },
    {
     "data": {
      "text/plain": [
       "'A'"
      ]
     },
     "metadata": {},
     "output_type": "display_data"
    },
    {
     "data": {
      "text/plain": [
       "['C', 'B', 'E', 'D', 'D', 'C', 'C', 'A']"
      ]
     },
     "metadata": {},
     "output_type": "display_data"
    },
    {
     "data": {
      "text/plain": [
       "'D'"
      ]
     },
     "metadata": {},
     "output_type": "display_data"
    },
    {
     "data": {
      "text/plain": [
       "'C'"
      ]
     },
     "metadata": {},
     "output_type": "display_data"
    },
    {
     "data": {
      "text/plain": [
       "['B', 'E', 'D', 'D', 'C', 'C', 'A', 'C']"
      ]
     },
     "metadata": {},
     "output_type": "display_data"
    },
    {
     "data": {
      "text/plain": [
       "'D'"
      ]
     },
     "metadata": {},
     "output_type": "display_data"
    },
    {
     "data": {
      "text/plain": [
       "'E'"
      ]
     },
     "metadata": {},
     "output_type": "display_data"
    },
    {
     "data": {
      "text/plain": [
       "['E', 'D', 'D', 'C', 'C', 'A', 'C', 'E']"
      ]
     },
     "metadata": {},
     "output_type": "display_data"
    },
    {
     "data": {
      "text/plain": [
       "'C'"
      ]
     },
     "metadata": {},
     "output_type": "display_data"
    },
    {
     "data": {
      "text/plain": [
       "'D'"
      ]
     },
     "metadata": {},
     "output_type": "display_data"
    },
    {
     "data": {
      "text/plain": [
       "['D', 'D', 'C', 'C', 'A', 'C', 'E', 'D']"
      ]
     },
     "metadata": {},
     "output_type": "display_data"
    },
    {
     "data": {
      "text/plain": [
       "'C'"
      ]
     },
     "metadata": {},
     "output_type": "display_data"
    },
    {
     "data": {
      "text/plain": [
       "'D'"
      ]
     },
     "metadata": {},
     "output_type": "display_data"
    },
    {
     "data": {
      "text/plain": [
       "['D', 'C', 'C', 'A', 'C', 'E', 'D', 'D']"
      ]
     },
     "metadata": {},
     "output_type": "display_data"
    },
    {
     "data": {
      "text/plain": [
       "'C'"
      ]
     },
     "metadata": {},
     "output_type": "display_data"
    },
    {
     "data": {
      "text/plain": [
       "'C'"
      ]
     },
     "metadata": {},
     "output_type": "display_data"
    },
    {
     "data": {
      "text/plain": [
       "['C', 'C', 'A', 'C', 'E', 'D', 'D', 'C']"
      ]
     },
     "metadata": {},
     "output_type": "display_data"
    },
    {
     "data": {
      "text/plain": [
       "'C'"
      ]
     },
     "metadata": {},
     "output_type": "display_data"
    },
    {
     "data": {
      "text/plain": [
       "'A'"
      ]
     },
     "metadata": {},
     "output_type": "display_data"
    },
    {
     "data": {
      "text/plain": [
       "['C', 'A', 'C', 'E', 'D', 'D', 'C', 'A']"
      ]
     },
     "metadata": {},
     "output_type": "display_data"
    },
    {
     "data": {
      "text/plain": [
       "'D'"
      ]
     },
     "metadata": {},
     "output_type": "display_data"
    },
    {
     "data": {
      "text/plain": [
       "'C'"
      ]
     },
     "metadata": {},
     "output_type": "display_data"
    },
    {
     "data": {
      "text/plain": [
       "['A', 'C', 'E', 'D', 'D', 'C', 'A', 'C']"
      ]
     },
     "metadata": {},
     "output_type": "display_data"
    },
    {
     "data": {
      "text/plain": [
       "'D'"
      ]
     },
     "metadata": {},
     "output_type": "display_data"
    },
    {
     "data": {
      "text/plain": [
       "'A'"
      ]
     },
     "metadata": {},
     "output_type": "display_data"
    },
    {
     "data": {
      "text/plain": [
       "['C', 'E', 'D', 'D', 'C', 'A', 'C', 'A']"
      ]
     },
     "metadata": {},
     "output_type": "display_data"
    },
    {
     "data": {
      "text/plain": [
       "'E'"
      ]
     },
     "metadata": {},
     "output_type": "display_data"
    },
    {
     "data": {
      "text/plain": [
       "'C'"
      ]
     },
     "metadata": {},
     "output_type": "display_data"
    },
    {
     "data": {
      "text/plain": [
       "['E', 'D', 'D', 'C', 'A', 'C', 'A', 'C']"
      ]
     },
     "metadata": {},
     "output_type": "display_data"
    },
    {
     "data": {
      "text/plain": [
       "'E'"
      ]
     },
     "metadata": {},
     "output_type": "display_data"
    },
    {
     "data": {
      "text/plain": [
       "'A'"
      ]
     },
     "metadata": {},
     "output_type": "display_data"
    },
    {
     "data": {
      "text/plain": [
       "['D', 'D', 'C', 'A', 'C', 'A', 'C', 'A']"
      ]
     },
     "metadata": {},
     "output_type": "display_data"
    },
    {
     "data": {
      "text/plain": [
       "'B'"
      ]
     },
     "metadata": {},
     "output_type": "display_data"
    },
    {
     "data": {
      "text/plain": [
       "'E'"
      ]
     },
     "metadata": {},
     "output_type": "display_data"
    },
    {
     "data": {
      "text/plain": [
       "['D', 'C', 'A', 'C', 'A', 'C', 'A', 'E']"
      ]
     },
     "metadata": {},
     "output_type": "display_data"
    },
    {
     "data": {
      "text/plain": [
       "'E'"
      ]
     },
     "metadata": {},
     "output_type": "display_data"
    },
    {
     "data": {
      "text/plain": [
       "'D'"
      ]
     },
     "metadata": {},
     "output_type": "display_data"
    },
    {
     "data": {
      "text/plain": [
       "['C', 'A', 'C', 'A', 'C', 'A', 'E', 'D']"
      ]
     },
     "metadata": {},
     "output_type": "display_data"
    },
    {
     "data": {
      "text/plain": [
       "'F'"
      ]
     },
     "metadata": {},
     "output_type": "display_data"
    },
    {
     "data": {
      "text/plain": [
       "'D'"
      ]
     },
     "metadata": {},
     "output_type": "display_data"
    },
    {
     "data": {
      "text/plain": [
       "['A', 'C', 'A', 'C', 'A', 'E', 'D', 'D']"
      ]
     },
     "metadata": {},
     "output_type": "display_data"
    },
    {
     "data": {
      "text/plain": [
       "'G'"
      ]
     },
     "metadata": {},
     "output_type": "display_data"
    },
    {
     "data": {
      "text/plain": [
       "'B'"
      ]
     },
     "metadata": {},
     "output_type": "display_data"
    },
    {
     "data": {
      "text/plain": [
       "['C', 'A', 'C', 'A', 'E', 'D', 'D', 'B']"
      ]
     },
     "metadata": {},
     "output_type": "display_data"
    },
    {
     "data": {
      "text/plain": [
       "'C'"
      ]
     },
     "metadata": {},
     "output_type": "display_data"
    },
    {
     "data": {
      "text/plain": [
       "'A'"
      ]
     },
     "metadata": {},
     "output_type": "display_data"
    },
    {
     "data": {
      "text/plain": [
       "['A', 'A', 'C', 'A#', 'F', 'E', 'A', 'E']"
      ]
     },
     "metadata": {},
     "output_type": "display_data"
    },
    {
     "data": {
      "text/plain": [
       "'G'"
      ]
     },
     "metadata": {},
     "output_type": "display_data"
    },
    {
     "data": {
      "text/plain": [
       "'E'"
      ]
     },
     "metadata": {},
     "output_type": "display_data"
    },
    {
     "data": {
      "text/plain": [
       "['A', 'C', 'A#', 'F', 'E', 'A', 'E', 'E']"
      ]
     },
     "metadata": {},
     "output_type": "display_data"
    },
    {
     "data": {
      "text/plain": [
       "'E'"
      ]
     },
     "metadata": {},
     "output_type": "display_data"
    },
    {
     "data": {
      "text/plain": [
       "'D'"
      ]
     },
     "metadata": {},
     "output_type": "display_data"
    },
    {
     "data": {
      "text/plain": [
       "['C', 'A#', 'F', 'E', 'A', 'E', 'E', 'D']"
      ]
     },
     "metadata": {},
     "output_type": "display_data"
    },
    {
     "data": {
      "text/plain": [
       "'E'"
      ]
     },
     "metadata": {},
     "output_type": "display_data"
    },
    {
     "data": {
      "text/plain": [
       "'F'"
      ]
     },
     "metadata": {},
     "output_type": "display_data"
    },
    {
     "data": {
      "text/plain": [
       "['A#', 'F', 'E', 'A', 'E', 'E', 'D', 'F']"
      ]
     },
     "metadata": {},
     "output_type": "display_data"
    },
    {
     "data": {
      "text/plain": [
       "'E'"
      ]
     },
     "metadata": {},
     "output_type": "display_data"
    },
    {
     "data": {
      "text/plain": [
       "'G#'"
      ]
     },
     "metadata": {},
     "output_type": "display_data"
    },
    {
     "data": {
      "text/plain": [
       "['F', 'E', 'A', 'E', 'E', 'D', 'F', 'G#']"
      ]
     },
     "metadata": {},
     "output_type": "display_data"
    },
    {
     "data": {
      "text/plain": [
       "'C'"
      ]
     },
     "metadata": {},
     "output_type": "display_data"
    },
    {
     "data": {
      "text/plain": [
       "'F'"
      ]
     },
     "metadata": {},
     "output_type": "display_data"
    },
    {
     "data": {
      "text/plain": [
       "['E', 'A', 'E', 'E', 'D', 'F', 'G#', 'F']"
      ]
     },
     "metadata": {},
     "output_type": "display_data"
    },
    {
     "data": {
      "text/plain": [
       "'D'"
      ]
     },
     "metadata": {},
     "output_type": "display_data"
    },
    {
     "data": {
      "text/plain": [
       "'E'"
      ]
     },
     "metadata": {},
     "output_type": "display_data"
    },
    {
     "data": {
      "text/plain": [
       "['A', 'E', 'E', 'D', 'F', 'G#', 'F', 'E']"
      ]
     },
     "metadata": {},
     "output_type": "display_data"
    },
    {
     "data": {
      "text/plain": [
       "'D'"
      ]
     },
     "metadata": {},
     "output_type": "display_data"
    },
    {
     "data": {
      "text/plain": [
       "'D'"
      ]
     },
     "metadata": {},
     "output_type": "display_data"
    },
    {
     "data": {
      "text/plain": [
       "['E', 'E', 'D', 'F', 'G#', 'F', 'E', 'D']"
      ]
     },
     "metadata": {},
     "output_type": "display_data"
    },
    {
     "data": {
      "text/plain": [
       "'A'"
      ]
     },
     "metadata": {},
     "output_type": "display_data"
    },
    {
     "data": {
      "text/plain": [
       "'F'"
      ]
     },
     "metadata": {},
     "output_type": "display_data"
    },
    {
     "data": {
      "text/plain": [
       "['E', 'D', 'F', 'G#', 'F', 'E', 'D', 'F']"
      ]
     },
     "metadata": {},
     "output_type": "display_data"
    },
    {
     "data": {
      "text/plain": [
       "'A'"
      ]
     },
     "metadata": {},
     "output_type": "display_data"
    },
    {
     "data": {
      "text/plain": [
       "'E'"
      ]
     },
     "metadata": {},
     "output_type": "display_data"
    },
    {
     "data": {
      "text/plain": [
       "['D', 'F', 'G#', 'F', 'E', 'D', 'F', 'E']"
      ]
     },
     "metadata": {},
     "output_type": "display_data"
    },
    {
     "data": {
      "text/plain": [
       "'A'"
      ]
     },
     "metadata": {},
     "output_type": "display_data"
    },
    {
     "data": {
      "text/plain": [
       "'D'"
      ]
     },
     "metadata": {},
     "output_type": "display_data"
    },
    {
     "data": {
      "text/plain": [
       "['F', 'G#', 'F', 'E', 'D', 'F', 'E', 'D']"
      ]
     },
     "metadata": {},
     "output_type": "display_data"
    },
    {
     "data": {
      "text/plain": [
       "'A'"
      ]
     },
     "metadata": {},
     "output_type": "display_data"
    },
    {
     "data": {
      "text/plain": [
       "'F'"
      ]
     },
     "metadata": {},
     "output_type": "display_data"
    },
    {
     "data": {
      "text/plain": [
       "['A', 'A', 'C', 'A#', 'F', 'E', 'A', 'E']"
      ]
     },
     "metadata": {},
     "output_type": "display_data"
    },
    {
     "data": {
      "text/plain": [
       "'G'"
      ]
     },
     "metadata": {},
     "output_type": "display_data"
    },
    {
     "data": {
      "text/plain": [
       "'E'"
      ]
     },
     "metadata": {},
     "output_type": "display_data"
    },
    {
     "data": {
      "text/plain": [
       "['A', 'C', 'A#', 'F', 'E', 'A', 'E', 'E']"
      ]
     },
     "metadata": {},
     "output_type": "display_data"
    },
    {
     "data": {
      "text/plain": [
       "'E'"
      ]
     },
     "metadata": {},
     "output_type": "display_data"
    },
    {
     "data": {
      "text/plain": [
       "'D'"
      ]
     },
     "metadata": {},
     "output_type": "display_data"
    },
    {
     "data": {
      "text/plain": [
       "['C', 'A#', 'F', 'E', 'A', 'E', 'E', 'D']"
      ]
     },
     "metadata": {},
     "output_type": "display_data"
    },
    {
     "data": {
      "text/plain": [
       "'E'"
      ]
     },
     "metadata": {},
     "output_type": "display_data"
    },
    {
     "data": {
      "text/plain": [
       "'F'"
      ]
     },
     "metadata": {},
     "output_type": "display_data"
    },
    {
     "data": {
      "text/plain": [
       "['A#', 'F', 'E', 'A', 'E', 'E', 'D', 'F']"
      ]
     },
     "metadata": {},
     "output_type": "display_data"
    },
    {
     "data": {
      "text/plain": [
       "'E'"
      ]
     },
     "metadata": {},
     "output_type": "display_data"
    },
    {
     "data": {
      "text/plain": [
       "'G#'"
      ]
     },
     "metadata": {},
     "output_type": "display_data"
    },
    {
     "data": {
      "text/plain": [
       "['F', 'E', 'A', 'E', 'E', 'D', 'F', 'G#']"
      ]
     },
     "metadata": {},
     "output_type": "display_data"
    },
    {
     "data": {
      "text/plain": [
       "'C'"
      ]
     },
     "metadata": {},
     "output_type": "display_data"
    },
    {
     "data": {
      "text/plain": [
       "'F'"
      ]
     },
     "metadata": {},
     "output_type": "display_data"
    },
    {
     "data": {
      "text/plain": [
       "['E', 'A', 'E', 'E', 'D', 'F', 'G#', 'F']"
      ]
     },
     "metadata": {},
     "output_type": "display_data"
    },
    {
     "data": {
      "text/plain": [
       "'D'"
      ]
     },
     "metadata": {},
     "output_type": "display_data"
    },
    {
     "data": {
      "text/plain": [
       "'E'"
      ]
     },
     "metadata": {},
     "output_type": "display_data"
    },
    {
     "data": {
      "text/plain": [
       "['A', 'E', 'E', 'D', 'F', 'G#', 'F', 'E']"
      ]
     },
     "metadata": {},
     "output_type": "display_data"
    },
    {
     "data": {
      "text/plain": [
       "'D'"
      ]
     },
     "metadata": {},
     "output_type": "display_data"
    },
    {
     "data": {
      "text/plain": [
       "'D'"
      ]
     },
     "metadata": {},
     "output_type": "display_data"
    },
    {
     "data": {
      "text/plain": [
       "['E', 'E', 'D', 'F', 'G#', 'F', 'E', 'D']"
      ]
     },
     "metadata": {},
     "output_type": "display_data"
    },
    {
     "data": {
      "text/plain": [
       "'A'"
      ]
     },
     "metadata": {},
     "output_type": "display_data"
    },
    {
     "data": {
      "text/plain": [
       "'E'"
      ]
     },
     "metadata": {},
     "output_type": "display_data"
    },
    {
     "data": {
      "text/plain": [
       "['E', 'D', 'F', 'G#', 'F', 'E', 'D', 'E']"
      ]
     },
     "metadata": {},
     "output_type": "display_data"
    },
    {
     "data": {
      "text/plain": [
       "'A'"
      ]
     },
     "metadata": {},
     "output_type": "display_data"
    },
    {
     "data": {
      "text/plain": [
       "'F'"
      ]
     },
     "metadata": {},
     "output_type": "display_data"
    },
    {
     "data": {
      "text/plain": [
       "['D', 'F', 'G#', 'F', 'E', 'D', 'E', 'F']"
      ]
     },
     "metadata": {},
     "output_type": "display_data"
    },
    {
     "data": {
      "text/plain": [
       "'A'"
      ]
     },
     "metadata": {},
     "output_type": "display_data"
    },
    {
     "data": {
      "text/plain": [
       "'E'"
      ]
     },
     "metadata": {},
     "output_type": "display_data"
    },
    {
     "data": {
      "text/plain": [
       "['F', 'G#', 'F', 'E', 'D', 'E', 'F', 'E']"
      ]
     },
     "metadata": {},
     "output_type": "display_data"
    },
    {
     "data": {
      "text/plain": [
       "'A'"
      ]
     },
     "metadata": {},
     "output_type": "display_data"
    },
    {
     "data": {
      "text/plain": [
       "'D'"
      ]
     },
     "metadata": {},
     "output_type": "display_data"
    },
    {
     "data": {
      "text/plain": [
       "['G#', 'F', 'E', 'D', 'E', 'F', 'E', 'D']"
      ]
     },
     "metadata": {},
     "output_type": "display_data"
    },
    {
     "data": {
      "text/plain": [
       "'D'"
      ]
     },
     "metadata": {},
     "output_type": "display_data"
    },
    {
     "data": {
      "text/plain": [
       "'E'"
      ]
     },
     "metadata": {},
     "output_type": "display_data"
    },
    {
     "data": {
      "text/plain": [
       "['F', 'E', 'D', 'E', 'F', 'E', 'D', 'E']"
      ]
     },
     "metadata": {},
     "output_type": "display_data"
    },
    {
     "data": {
      "text/plain": [
       "'E'"
      ]
     },
     "metadata": {},
     "output_type": "display_data"
    },
    {
     "data": {
      "text/plain": [
       "'F'"
      ]
     },
     "metadata": {},
     "output_type": "display_data"
    },
    {
     "data": {
      "text/plain": [
       "['C', 'B', 'B', 'B', 'B', 'B', 'B', 'B']"
      ]
     },
     "metadata": {},
     "output_type": "display_data"
    },
    {
     "data": {
      "text/plain": [
       "'D'"
      ]
     },
     "metadata": {},
     "output_type": "display_data"
    },
    {
     "data": {
      "text/plain": [
       "'B'"
      ]
     },
     "metadata": {},
     "output_type": "display_data"
    },
    {
     "data": {
      "text/plain": [
       "['B', 'B', 'B', 'B', 'B', 'B', 'B', 'B']"
      ]
     },
     "metadata": {},
     "output_type": "display_data"
    },
    {
     "data": {
      "text/plain": [
       "'A'"
      ]
     },
     "metadata": {},
     "output_type": "display_data"
    },
    {
     "data": {
      "text/plain": [
       "'B'"
      ]
     },
     "metadata": {},
     "output_type": "display_data"
    },
    {
     "data": {
      "text/plain": [
       "['B', 'B', 'B', 'B', 'B', 'B', 'B', 'B']"
      ]
     },
     "metadata": {},
     "output_type": "display_data"
    },
    {
     "data": {
      "text/plain": [
       "'G'"
      ]
     },
     "metadata": {},
     "output_type": "display_data"
    },
    {
     "data": {
      "text/plain": [
       "'B'"
      ]
     },
     "metadata": {},
     "output_type": "display_data"
    },
    {
     "data": {
      "text/plain": [
       "['B', 'B', 'B', 'B', 'B', 'B', 'B', 'B']"
      ]
     },
     "metadata": {},
     "output_type": "display_data"
    },
    {
     "data": {
      "text/plain": [
       "'G'"
      ]
     },
     "metadata": {},
     "output_type": "display_data"
    },
    {
     "data": {
      "text/plain": [
       "'D'"
      ]
     },
     "metadata": {},
     "output_type": "display_data"
    },
    {
     "data": {
      "text/plain": [
       "['B', 'B', 'B', 'B', 'B', 'B', 'B', 'D']"
      ]
     },
     "metadata": {},
     "output_type": "display_data"
    },
    {
     "data": {
      "text/plain": [
       "'A'"
      ]
     },
     "metadata": {},
     "output_type": "display_data"
    },
    {
     "data": {
      "text/plain": [
       "'B'"
      ]
     },
     "metadata": {},
     "output_type": "display_data"
    },
    {
     "data": {
      "text/plain": [
       "['B', 'B', 'B', 'B', 'B', 'B', 'D', 'B']"
      ]
     },
     "metadata": {},
     "output_type": "display_data"
    },
    {
     "data": {
      "text/plain": [
       "'A'"
      ]
     },
     "metadata": {},
     "output_type": "display_data"
    },
    {
     "data": {
      "text/plain": [
       "'A'"
      ]
     },
     "metadata": {},
     "output_type": "display_data"
    },
    {
     "data": {
      "text/plain": [
       "['B', 'B', 'B', 'B', 'B', 'D', 'B', 'A']"
      ]
     },
     "metadata": {},
     "output_type": "display_data"
    },
    {
     "data": {
      "text/plain": [
       "'G'"
      ]
     },
     "metadata": {},
     "output_type": "display_data"
    },
    {
     "data": {
      "text/plain": [
       "'G'"
      ]
     },
     "metadata": {},
     "output_type": "display_data"
    },
    {
     "data": {
      "text/plain": [
       "['B', 'B', 'B', 'B', 'D', 'B', 'A', 'G']"
      ]
     },
     "metadata": {},
     "output_type": "display_data"
    },
    {
     "data": {
      "text/plain": [
       "'G'"
      ]
     },
     "metadata": {},
     "output_type": "display_data"
    },
    {
     "data": {
      "text/plain": [
       "'C'"
      ]
     },
     "metadata": {},
     "output_type": "display_data"
    },
    {
     "data": {
      "text/plain": [
       "['B', 'B', 'B', 'D', 'B', 'A', 'G', 'C']"
      ]
     },
     "metadata": {},
     "output_type": "display_data"
    },
    {
     "data": {
      "text/plain": [
       "'B'"
      ]
     },
     "metadata": {},
     "output_type": "display_data"
    },
    {
     "data": {
      "text/plain": [
       "'A#'"
      ]
     },
     "metadata": {},
     "output_type": "display_data"
    },
    {
     "data": {
      "text/plain": [
       "['B', 'B', 'D', 'B', 'A', 'G', 'C', 'A#']"
      ]
     },
     "metadata": {},
     "output_type": "display_data"
    },
    {
     "data": {
      "text/plain": [
       "'B'"
      ]
     },
     "metadata": {},
     "output_type": "display_data"
    },
    {
     "data": {
      "text/plain": [
       "'B'"
      ]
     },
     "metadata": {},
     "output_type": "display_data"
    },
    {
     "data": {
      "text/plain": [
       "['B', 'D', 'B', 'A', 'G', 'C', 'A#', 'B']"
      ]
     },
     "metadata": {},
     "output_type": "display_data"
    },
    {
     "data": {
      "text/plain": [
       "'B'"
      ]
     },
     "metadata": {},
     "output_type": "display_data"
    },
    {
     "data": {
      "text/plain": [
       "'A#'"
      ]
     },
     "metadata": {},
     "output_type": "display_data"
    },
    {
     "data": {
      "text/plain": [
       "['D', 'B', 'A', 'G', 'C', 'A#', 'B', 'A#']"
      ]
     },
     "metadata": {},
     "output_type": "display_data"
    },
    {
     "data": {
      "text/plain": [
       "'B'"
      ]
     },
     "metadata": {},
     "output_type": "display_data"
    },
    {
     "data": {
      "text/plain": [
       "'B'"
      ]
     },
     "metadata": {},
     "output_type": "display_data"
    },
    {
     "data": {
      "text/plain": [
       "['B', 'A', 'G', 'C', 'A#', 'B', 'A#', 'B']"
      ]
     },
     "metadata": {},
     "output_type": "display_data"
    },
    {
     "data": {
      "text/plain": [
       "'A#'"
      ]
     },
     "metadata": {},
     "output_type": "display_data"
    },
    {
     "data": {
      "text/plain": [
       "'A#'"
      ]
     },
     "metadata": {},
     "output_type": "display_data"
    },
    {
     "data": {
      "text/plain": [
       "['A', 'G', 'C', 'A#', 'B', 'A#', 'B', 'A#']"
      ]
     },
     "metadata": {},
     "output_type": "display_data"
    },
    {
     "data": {
      "text/plain": [
       "'B'"
      ]
     },
     "metadata": {},
     "output_type": "display_data"
    },
    {
     "data": {
      "text/plain": [
       "'B'"
      ]
     },
     "metadata": {},
     "output_type": "display_data"
    },
    {
     "data": {
      "text/plain": [
       "['G', 'C', 'A#', 'B', 'A#', 'B', 'A#', 'B']"
      ]
     },
     "metadata": {},
     "output_type": "display_data"
    },
    {
     "data": {
      "text/plain": [
       "'A#'"
      ]
     },
     "metadata": {},
     "output_type": "display_data"
    },
    {
     "data": {
      "text/plain": [
       "'A#'"
      ]
     },
     "metadata": {},
     "output_type": "display_data"
    },
    {
     "data": {
      "text/plain": [
       "['C', 'A#', 'B', 'A#', 'B', 'A#', 'B', 'A#']"
      ]
     },
     "metadata": {},
     "output_type": "display_data"
    },
    {
     "data": {
      "text/plain": [
       "'G'"
      ]
     },
     "metadata": {},
     "output_type": "display_data"
    },
    {
     "data": {
      "text/plain": [
       "'B'"
      ]
     },
     "metadata": {},
     "output_type": "display_data"
    },
    {
     "data": {
      "text/plain": [
       "['A#', 'B', 'A#', 'B', 'A#', 'B', 'A#', 'B']"
      ]
     },
     "metadata": {},
     "output_type": "display_data"
    },
    {
     "data": {
      "text/plain": [
       "'G'"
      ]
     },
     "metadata": {},
     "output_type": "display_data"
    },
    {
     "data": {
      "text/plain": [
       "'B'"
      ]
     },
     "metadata": {},
     "output_type": "display_data"
    },
    {
     "data": {
      "text/plain": [
       "['B', 'A#', 'B', 'A#', 'B', 'A#', 'B', 'B']"
      ]
     },
     "metadata": {},
     "output_type": "display_data"
    },
    {
     "data": {
      "text/plain": [
       "'G'"
      ]
     },
     "metadata": {},
     "output_type": "display_data"
    },
    {
     "data": {
      "text/plain": [
       "'C'"
      ]
     },
     "metadata": {},
     "output_type": "display_data"
    },
    {
     "data": {
      "text/plain": [
       "['A#', 'B', 'A#', 'B', 'A#', 'B', 'B', 'C']"
      ]
     },
     "metadata": {},
     "output_type": "display_data"
    },
    {
     "data": {
      "text/plain": [
       "'C'"
      ]
     },
     "metadata": {},
     "output_type": "display_data"
    },
    {
     "data": {
      "text/plain": [
       "'C'"
      ]
     },
     "metadata": {},
     "output_type": "display_data"
    },
    {
     "data": {
      "text/plain": [
       "['B', 'A#', 'B', 'A#', 'B', 'B', 'C', 'C']"
      ]
     },
     "metadata": {},
     "output_type": "display_data"
    },
    {
     "data": {
      "text/plain": [
       "'C'"
      ]
     },
     "metadata": {},
     "output_type": "display_data"
    },
    {
     "data": {
      "text/plain": [
       "'C'"
      ]
     },
     "metadata": {},
     "output_type": "display_data"
    },
    {
     "data": {
      "text/plain": [
       "['A#', 'B', 'A#', 'B', 'B', 'C', 'C', 'C']"
      ]
     },
     "metadata": {},
     "output_type": "display_data"
    },
    {
     "data": {
      "text/plain": [
       "'C'"
      ]
     },
     "metadata": {},
     "output_type": "display_data"
    },
    {
     "data": {
      "text/plain": [
       "'C'"
      ]
     },
     "metadata": {},
     "output_type": "display_data"
    },
    {
     "data": {
      "text/plain": [
       "['G', 'F', 'E', 'C', 'E', 'F', 'E', 'G']"
      ]
     },
     "metadata": {},
     "output_type": "display_data"
    },
    {
     "data": {
      "text/plain": [
       "'F'"
      ]
     },
     "metadata": {},
     "output_type": "display_data"
    },
    {
     "data": {
      "text/plain": [
       "'G'"
      ]
     },
     "metadata": {},
     "output_type": "display_data"
    },
    {
     "data": {
      "text/plain": [
       "['F', 'E', 'C', 'E', 'F', 'E', 'G', 'G']"
      ]
     },
     "metadata": {},
     "output_type": "display_data"
    },
    {
     "data": {
      "text/plain": [
       "'F'"
      ]
     },
     "metadata": {},
     "output_type": "display_data"
    },
    {
     "data": {
      "text/plain": [
       "'G'"
      ]
     },
     "metadata": {},
     "output_type": "display_data"
    },
    {
     "data": {
      "text/plain": [
       "['E', 'C', 'E', 'F', 'E', 'G', 'G', 'G']"
      ]
     },
     "metadata": {},
     "output_type": "display_data"
    },
    {
     "data": {
      "text/plain": [
       "'G'"
      ]
     },
     "metadata": {},
     "output_type": "display_data"
    },
    {
     "data": {
      "text/plain": [
       "'C'"
      ]
     },
     "metadata": {},
     "output_type": "display_data"
    },
    {
     "data": {
      "text/plain": [
       "['C', 'E', 'F', 'E', 'G', 'G', 'G', 'C']"
      ]
     },
     "metadata": {},
     "output_type": "display_data"
    },
    {
     "data": {
      "text/plain": [
       "'F'"
      ]
     },
     "metadata": {},
     "output_type": "display_data"
    },
    {
     "data": {
      "text/plain": [
       "'G'"
      ]
     },
     "metadata": {},
     "output_type": "display_data"
    },
    {
     "data": {
      "text/plain": [
       "['E', 'F', 'E', 'G', 'G', 'G', 'C', 'G']"
      ]
     },
     "metadata": {},
     "output_type": "display_data"
    },
    {
     "data": {
      "text/plain": [
       "'F'"
      ]
     },
     "metadata": {},
     "output_type": "display_data"
    },
    {
     "data": {
      "text/plain": [
       "'G'"
      ]
     },
     "metadata": {},
     "output_type": "display_data"
    },
    {
     "data": {
      "text/plain": [
       "['F', 'E', 'G', 'G', 'G', 'C', 'G', 'G']"
      ]
     },
     "metadata": {},
     "output_type": "display_data"
    },
    {
     "data": {
      "text/plain": [
       "'C'"
      ]
     },
     "metadata": {},
     "output_type": "display_data"
    },
    {
     "data": {
      "text/plain": [
       "'F'"
      ]
     },
     "metadata": {},
     "output_type": "display_data"
    },
    {
     "data": {
      "text/plain": [
       "['E', 'G', 'G', 'G', 'C', 'G', 'G', 'F']"
      ]
     },
     "metadata": {},
     "output_type": "display_data"
    },
    {
     "data": {
      "text/plain": [
       "'E'"
      ]
     },
     "metadata": {},
     "output_type": "display_data"
    },
    {
     "data": {
      "text/plain": [
       "'G'"
      ]
     },
     "metadata": {},
     "output_type": "display_data"
    },
    {
     "data": {
      "text/plain": [
       "['G', 'G', 'G', 'C', 'G', 'G', 'F', 'G']"
      ]
     },
     "metadata": {},
     "output_type": "display_data"
    },
    {
     "data": {
      "text/plain": [
       "'A'"
      ]
     },
     "metadata": {},
     "output_type": "display_data"
    },
    {
     "data": {
      "text/plain": [
       "'A#'"
      ]
     },
     "metadata": {},
     "output_type": "display_data"
    },
    {
     "data": {
      "text/plain": [
       "['G', 'G', 'C', 'G', 'G', 'F', 'G', 'A#']"
      ]
     },
     "metadata": {},
     "output_type": "display_data"
    },
    {
     "data": {
      "text/plain": [
       "'F'"
      ]
     },
     "metadata": {},
     "output_type": "display_data"
    },
    {
     "data": {
      "text/plain": [
       "'G'"
      ]
     },
     "metadata": {},
     "output_type": "display_data"
    },
    {
     "data": {
      "text/plain": [
       "['G', 'C', 'G', 'G', 'F', 'G', 'A#', 'G']"
      ]
     },
     "metadata": {},
     "output_type": "display_data"
    },
    {
     "data": {
      "text/plain": [
       "'C'"
      ]
     },
     "metadata": {},
     "output_type": "display_data"
    },
    {
     "data": {
      "text/plain": [
       "'F'"
      ]
     },
     "metadata": {},
     "output_type": "display_data"
    },
    {
     "data": {
      "text/plain": [
       "['C', 'G', 'G', 'F', 'G', 'A#', 'G', 'F']"
      ]
     },
     "metadata": {},
     "output_type": "display_data"
    },
    {
     "data": {
      "text/plain": [
       "'C'"
      ]
     },
     "metadata": {},
     "output_type": "display_data"
    },
    {
     "data": {
      "text/plain": [
       "'G'"
      ]
     },
     "metadata": {},
     "output_type": "display_data"
    },
    {
     "data": {
      "text/plain": [
       "['G', 'G', 'F', 'G', 'A#', 'G', 'F', 'G']"
      ]
     },
     "metadata": {},
     "output_type": "display_data"
    },
    {
     "data": {
      "text/plain": [
       "'C'"
      ]
     },
     "metadata": {},
     "output_type": "display_data"
    },
    {
     "data": {
      "text/plain": [
       "'F'"
      ]
     },
     "metadata": {},
     "output_type": "display_data"
    },
    {
     "data": {
      "text/plain": [
       "['G', 'F', 'G', 'A#', 'G', 'F', 'G', 'F']"
      ]
     },
     "metadata": {},
     "output_type": "display_data"
    },
    {
     "data": {
      "text/plain": [
       "'A'"
      ]
     },
     "metadata": {},
     "output_type": "display_data"
    },
    {
     "data": {
      "text/plain": [
       "'E'"
      ]
     },
     "metadata": {},
     "output_type": "display_data"
    },
    {
     "data": {
      "text/plain": [
       "['F', 'G', 'A#', 'G', 'F', 'G', 'F', 'E']"
      ]
     },
     "metadata": {},
     "output_type": "display_data"
    },
    {
     "data": {
      "text/plain": [
       "'A'"
      ]
     },
     "metadata": {},
     "output_type": "display_data"
    },
    {
     "data": {
      "text/plain": [
       "'C'"
      ]
     },
     "metadata": {},
     "output_type": "display_data"
    },
    {
     "data": {
      "text/plain": [
       "['G', 'A#', 'G', 'F', 'G', 'F', 'E', 'C']"
      ]
     },
     "metadata": {},
     "output_type": "display_data"
    },
    {
     "data": {
      "text/plain": [
       "'A'"
      ]
     },
     "metadata": {},
     "output_type": "display_data"
    },
    {
     "data": {
      "text/plain": [
       "'C'"
      ]
     },
     "metadata": {},
     "output_type": "display_data"
    },
    {
     "data": {
      "text/plain": [
       "['A#', 'G', 'F', 'G', 'F', 'E', 'C', 'C']"
      ]
     },
     "metadata": {},
     "output_type": "display_data"
    },
    {
     "data": {
      "text/plain": [
       "'F'"
      ]
     },
     "metadata": {},
     "output_type": "display_data"
    },
    {
     "data": {
      "text/plain": [
       "'C'"
      ]
     },
     "metadata": {},
     "output_type": "display_data"
    },
    {
     "data": {
      "text/plain": [
       "['G', 'F', 'G', 'F', 'E', 'C', 'C', 'C']"
      ]
     },
     "metadata": {},
     "output_type": "display_data"
    },
    {
     "data": {
      "text/plain": [
       "'A#'"
      ]
     },
     "metadata": {},
     "output_type": "display_data"
    },
    {
     "data": {
      "text/plain": [
       "'C'"
      ]
     },
     "metadata": {},
     "output_type": "display_data"
    },
    {
     "data": {
      "text/plain": [
       "['F', 'G', 'F', 'E', 'C', 'C', 'C', 'C']"
      ]
     },
     "metadata": {},
     "output_type": "display_data"
    },
    {
     "data": {
      "text/plain": [
       "'D'"
      ]
     },
     "metadata": {},
     "output_type": "display_data"
    },
    {
     "data": {
      "text/plain": [
       "'C'"
      ]
     },
     "metadata": {},
     "output_type": "display_data"
    },
    {
     "data": {
      "text/plain": [
       "['G', 'F', 'E', 'C', 'C', 'C', 'C', 'C']"
      ]
     },
     "metadata": {},
     "output_type": "display_data"
    },
    {
     "data": {
      "text/plain": [
       "'F'"
      ]
     },
     "metadata": {},
     "output_type": "display_data"
    },
    {
     "data": {
      "text/plain": [
       "'B'"
      ]
     },
     "metadata": {},
     "output_type": "display_data"
    },
    {
     "data": {
      "text/plain": [
       "['F', 'E', 'C', 'C', 'C', 'C', 'C', 'B']"
      ]
     },
     "metadata": {},
     "output_type": "display_data"
    },
    {
     "data": {
      "text/plain": [
       "'D'"
      ]
     },
     "metadata": {},
     "output_type": "display_data"
    },
    {
     "data": {
      "text/plain": [
       "'A#'"
      ]
     },
     "metadata": {},
     "output_type": "display_data"
    },
    {
     "data": {
      "text/plain": [
       "['E', 'C', 'C', 'C', 'C', 'C', 'B', 'A#']"
      ]
     },
     "metadata": {},
     "output_type": "display_data"
    },
    {
     "data": {
      "text/plain": [
       "'D'"
      ]
     },
     "metadata": {},
     "output_type": "display_data"
    },
    {
     "data": {
      "text/plain": [
       "'A'"
      ]
     },
     "metadata": {},
     "output_type": "display_data"
    },
    {
     "data": {
      "text/plain": [
       "['C', 'C', 'C', 'C', 'C', 'B', 'A#', 'A']"
      ]
     },
     "metadata": {},
     "output_type": "display_data"
    },
    {
     "data": {
      "text/plain": [
       "'C'"
      ]
     },
     "metadata": {},
     "output_type": "display_data"
    },
    {
     "data": {
      "text/plain": [
       "'C'"
      ]
     },
     "metadata": {},
     "output_type": "display_data"
    },
    {
     "data": {
      "text/plain": [
       "['C', 'C', 'C', 'C', 'B', 'A#', 'A', 'C']"
      ]
     },
     "metadata": {},
     "output_type": "display_data"
    },
    {
     "data": {
      "text/plain": [
       "'G'"
      ]
     },
     "metadata": {},
     "output_type": "display_data"
    },
    {
     "data": {
      "text/plain": [
       "'C'"
      ]
     },
     "metadata": {},
     "output_type": "display_data"
    },
    {
     "data": {
      "text/plain": [
       "['C', 'C', 'C', 'B', 'A#', 'A', 'C', 'C']"
      ]
     },
     "metadata": {},
     "output_type": "display_data"
    },
    {
     "data": {
      "text/plain": [
       "'G'"
      ]
     },
     "metadata": {},
     "output_type": "display_data"
    },
    {
     "data": {
      "text/plain": [
       "'C'"
      ]
     },
     "metadata": {},
     "output_type": "display_data"
    },
    {
     "data": {
      "text/plain": [
       "['C', 'C', 'B', 'A#', 'A', 'C', 'C', 'C']"
      ]
     },
     "metadata": {},
     "output_type": "display_data"
    },
    {
     "data": {
      "text/plain": [
       "'G'"
      ]
     },
     "metadata": {},
     "output_type": "display_data"
    },
    {
     "data": {
      "text/plain": [
       "'D'"
      ]
     },
     "metadata": {},
     "output_type": "display_data"
    },
    {
     "data": {
      "text/plain": [
       "['C', 'B', 'A#', 'A', 'C', 'C', 'C', 'D']"
      ]
     },
     "metadata": {},
     "output_type": "display_data"
    },
    {
     "data": {
      "text/plain": [
       "'G'"
      ]
     },
     "metadata": {},
     "output_type": "display_data"
    },
    {
     "data": {
      "text/plain": [
       "'C#'"
      ]
     },
     "metadata": {},
     "output_type": "display_data"
    },
    {
     "data": {
      "text/plain": [
       "['B', 'A#', 'A', 'C', 'C', 'C', 'D', 'C#']"
      ]
     },
     "metadata": {},
     "output_type": "display_data"
    },
    {
     "data": {
      "text/plain": [
       "'G'"
      ]
     },
     "metadata": {},
     "output_type": "display_data"
    },
    {
     "data": {
      "text/plain": [
       "'C'"
      ]
     },
     "metadata": {},
     "output_type": "display_data"
    },
    {
     "data": {
      "text/plain": [
       "['A#', 'A', 'C', 'C', 'C', 'D', 'C#', 'C']"
      ]
     },
     "metadata": {},
     "output_type": "display_data"
    },
    {
     "data": {
      "text/plain": [
       "'G'"
      ]
     },
     "metadata": {},
     "output_type": "display_data"
    },
    {
     "data": {
      "text/plain": [
       "'B'"
      ]
     },
     "metadata": {},
     "output_type": "display_data"
    },
    {
     "data": {
      "text/plain": [
       "['A', 'C', 'C', 'C', 'D', 'C#', 'C', 'B']"
      ]
     },
     "metadata": {},
     "output_type": "display_data"
    },
    {
     "data": {
      "text/plain": [
       "'F'"
      ]
     },
     "metadata": {},
     "output_type": "display_data"
    },
    {
     "data": {
      "text/plain": [
       "'E'"
      ]
     },
     "metadata": {},
     "output_type": "display_data"
    },
    {
     "data": {
      "text/plain": [
       "['C', 'C', 'C', 'D', 'C#', 'C', 'B', 'E']"
      ]
     },
     "metadata": {},
     "output_type": "display_data"
    },
    {
     "data": {
      "text/plain": [
       "'G'"
      ]
     },
     "metadata": {},
     "output_type": "display_data"
    },
    {
     "data": {
      "text/plain": [
       "'F'"
      ]
     },
     "metadata": {},
     "output_type": "display_data"
    },
    {
     "data": {
      "text/plain": [
       "['C', 'C', 'D', 'C#', 'C', 'B', 'E', 'F']"
      ]
     },
     "metadata": {},
     "output_type": "display_data"
    },
    {
     "data": {
      "text/plain": [
       "'E'"
      ]
     },
     "metadata": {},
     "output_type": "display_data"
    },
    {
     "data": {
      "text/plain": [
       "'E'"
      ]
     },
     "metadata": {},
     "output_type": "display_data"
    },
    {
     "data": {
      "text/plain": [
       "['C', 'D', 'C#', 'C', 'B', 'E', 'F', 'E']"
      ]
     },
     "metadata": {},
     "output_type": "display_data"
    },
    {
     "data": {
      "text/plain": [
       "'E'"
      ]
     },
     "metadata": {},
     "output_type": "display_data"
    },
    {
     "data": {
      "text/plain": [
       "'G'"
      ]
     },
     "metadata": {},
     "output_type": "display_data"
    },
    {
     "data": {
      "text/plain": [
       "['D', 'C#', 'C', 'B', 'E', 'F', 'E', 'G']"
      ]
     },
     "metadata": {},
     "output_type": "display_data"
    },
    {
     "data": {
      "text/plain": [
       "'C'"
      ]
     },
     "metadata": {},
     "output_type": "display_data"
    },
    {
     "data": {
      "text/plain": [
       "'C'"
      ]
     },
     "metadata": {},
     "output_type": "display_data"
    },
    {
     "data": {
      "text/plain": [
       "['C#', 'C', 'B', 'E', 'F', 'E', 'G', 'C']"
      ]
     },
     "metadata": {},
     "output_type": "display_data"
    },
    {
     "data": {
      "text/plain": [
       "'D#'"
      ]
     },
     "metadata": {},
     "output_type": "display_data"
    },
    {
     "data": {
      "text/plain": [
       "'D#'"
      ]
     },
     "metadata": {},
     "output_type": "display_data"
    },
    {
     "data": {
      "text/plain": [
       "['C', 'B', 'E', 'F', 'E', 'G', 'C', 'D#']"
      ]
     },
     "metadata": {},
     "output_type": "display_data"
    },
    {
     "data": {
      "text/plain": [
       "'F'"
      ]
     },
     "metadata": {},
     "output_type": "display_data"
    },
    {
     "data": {
      "text/plain": [
       "'F'"
      ]
     },
     "metadata": {},
     "output_type": "display_data"
    }
   ],
   "source": [
    "for i in range(test_data.shape[0]):\n",
    "    sample = test_data[i]\n",
    "\n",
    "    display([getPitch(note) for note in np.argmax(sample[:,MELODY:MELODY+12],1)])\n",
    "\n",
    "    display(getPitch(np.argmax(model.predict(np.expand_dims(sample,0)))))\n",
    "    display(getPitch(test_labels[i][0]))"
   ]
  },
  {
   "cell_type": "code",
   "execution_count": null,
   "metadata": {},
   "outputs": [],
   "source": []
  },
  {
   "cell_type": "code",
   "execution_count": 0,
   "metadata": {
    "colab": {},
    "colab_type": "code",
    "id": "oj4IpyEaNX8x"
   },
   "outputs": [],
   "source": []
  },
  {
   "cell_type": "markdown",
   "metadata": {},
   "source": [
    "# Test Unfixed N"
   ]
  },
  {
   "cell_type": "code",
   "execution_count": 29,
   "metadata": {},
   "outputs": [
    {
     "data": {
      "text/plain": [
       "(4, 73)"
      ]
     },
     "execution_count": 29,
     "metadata": {},
     "output_type": "execute_result"
    }
   ],
   "source": [
    "train_data[0][:4].shape"
   ]
  },
  {
   "cell_type": "code",
   "execution_count": 44,
   "metadata": {
    "scrolled": true
   },
   "outputs": [
    {
     "data": {
      "text/plain": [
       "array([[3.41965484e-11, 1.29657582e-08, 5.56620305e-10, 5.50649595e-11,\n",
       "        3.07448744e-07, 2.88764734e-10, 4.10492795e-09, 1.45150270e-09,\n",
       "        3.65896028e-07, 1.51679998e-07, 1.89243690e-06, 2.08104240e-07,\n",
       "        2.89276777e-05, 9.97968376e-01, 5.70341605e-08, 2.09115979e-06,\n",
       "        1.97773357e-03, 1.01836781e-06, 1.18101589e-05, 2.70430832e-07,\n",
       "        1.22694019e-06, 1.12896082e-07, 1.80196533e-08, 3.22748335e-08,\n",
       "        5.48961054e-08, 4.65387393e-06, 1.77830112e-11, 1.45044754e-10,\n",
       "        9.75963275e-08, 6.19419967e-12, 1.03037676e-10, 6.52981558e-11,\n",
       "        1.01187432e-07, 1.24408359e-10, 2.32528095e-08, 9.09703757e-10,\n",
       "        4.65397818e-07]], dtype=float32)"
      ]
     },
     "execution_count": 44,
     "metadata": {},
     "output_type": "execute_result"
    }
   ],
   "source": [
    "model.predict(np.expand_dims(train_data[0],0))"
   ]
  },
  {
   "cell_type": "code",
   "execution_count": 49,
   "metadata": {
    "scrolled": true
   },
   "outputs": [
    {
     "data": {
      "text/plain": [
       "<tensorflow.python.keras.layers.recurrent.LSTM at 0x13928ee10>"
      ]
     },
     "execution_count": 49,
     "metadata": {},
     "output_type": "execute_result"
    }
   ],
   "source": [
    "model.layers[-3]"
   ]
  },
  {
   "cell_type": "code",
   "execution_count": 50,
   "metadata": {},
   "outputs": [
    {
     "name": "stderr",
     "output_type": "stream",
     "text": [
      "Using TensorFlow backend.\n"
     ]
    },
    {
     "ename": "AttributeError",
     "evalue": "'Tensor' object has no attribute '_keras_shape'",
     "output_type": "error",
     "traceback": [
      "\u001b[0;31m---------------------------------------------------------------------------\u001b[0m",
      "\u001b[0;31mAttributeError\u001b[0m                            Traceback (most recent call last)",
      "\u001b[0;32m<ipython-input-50-340d540fd8d0>\u001b[0m in \u001b[0;36m<module>\u001b[0;34m\u001b[0m\n\u001b[1;32m      3\u001b[0m \u001b[0mlayer_name\u001b[0m \u001b[0;34m=\u001b[0m \u001b[0;34m'my_layer'\u001b[0m\u001b[0;34m\u001b[0m\u001b[0;34m\u001b[0m\u001b[0m\n\u001b[1;32m      4\u001b[0m intermediate_layer_model = Model(inputs=model.input,\n\u001b[0;32m----> 5\u001b[0;31m                                  outputs=model.layers[-3].output)\n\u001b[0m\u001b[1;32m      6\u001b[0m \u001b[0mintermediate_output\u001b[0m \u001b[0;34m=\u001b[0m \u001b[0mintermediate_layer_model\u001b[0m\u001b[0;34m.\u001b[0m\u001b[0mpredict\u001b[0m\u001b[0;34m(\u001b[0m\u001b[0mnp\u001b[0m\u001b[0;34m.\u001b[0m\u001b[0mexpand_dims\u001b[0m\u001b[0;34m(\u001b[0m\u001b[0mtrain_data\u001b[0m\u001b[0;34m[\u001b[0m\u001b[0;36m0\u001b[0m\u001b[0;34m]\u001b[0m\u001b[0;34m,\u001b[0m\u001b[0;36m0\u001b[0m\u001b[0;34m)\u001b[0m\u001b[0;34m)\u001b[0m\u001b[0;34m\u001b[0m\u001b[0;34m\u001b[0m\u001b[0m\n",
      "\u001b[0;32m/Library/Frameworks/Python.framework/Versions/3.6/lib/python3.6/site-packages/keras/legacy/interfaces.py\u001b[0m in \u001b[0;36mwrapper\u001b[0;34m(*args, **kwargs)\u001b[0m\n\u001b[1;32m     89\u001b[0m                 warnings.warn('Update your `' + object_name + '` call to the ' +\n\u001b[1;32m     90\u001b[0m                               'Keras 2 API: ' + signature, stacklevel=2)\n\u001b[0;32m---> 91\u001b[0;31m             \u001b[0;32mreturn\u001b[0m \u001b[0mfunc\u001b[0m\u001b[0;34m(\u001b[0m\u001b[0;34m*\u001b[0m\u001b[0margs\u001b[0m\u001b[0;34m,\u001b[0m \u001b[0;34m**\u001b[0m\u001b[0mkwargs\u001b[0m\u001b[0;34m)\u001b[0m\u001b[0;34m\u001b[0m\u001b[0;34m\u001b[0m\u001b[0m\n\u001b[0m\u001b[1;32m     92\u001b[0m         \u001b[0mwrapper\u001b[0m\u001b[0;34m.\u001b[0m\u001b[0m_original_function\u001b[0m \u001b[0;34m=\u001b[0m \u001b[0mfunc\u001b[0m\u001b[0;34m\u001b[0m\u001b[0;34m\u001b[0m\u001b[0m\n\u001b[1;32m     93\u001b[0m         \u001b[0;32mreturn\u001b[0m \u001b[0mwrapper\u001b[0m\u001b[0;34m\u001b[0m\u001b[0;34m\u001b[0m\u001b[0m\n",
      "\u001b[0;32m/Library/Frameworks/Python.framework/Versions/3.6/lib/python3.6/site-packages/keras/engine/network.py\u001b[0m in \u001b[0;36m__init__\u001b[0;34m(self, *args, **kwargs)\u001b[0m\n\u001b[1;32m     91\u001b[0m                 'inputs' in kwargs and 'outputs' in kwargs):\n\u001b[1;32m     92\u001b[0m             \u001b[0;31m# Graph network\u001b[0m\u001b[0;34m\u001b[0m\u001b[0;34m\u001b[0m\u001b[0;34m\u001b[0m\u001b[0m\n\u001b[0;32m---> 93\u001b[0;31m             \u001b[0mself\u001b[0m\u001b[0;34m.\u001b[0m\u001b[0m_init_graph_network\u001b[0m\u001b[0;34m(\u001b[0m\u001b[0;34m*\u001b[0m\u001b[0margs\u001b[0m\u001b[0;34m,\u001b[0m \u001b[0;34m**\u001b[0m\u001b[0mkwargs\u001b[0m\u001b[0;34m)\u001b[0m\u001b[0;34m\u001b[0m\u001b[0;34m\u001b[0m\u001b[0m\n\u001b[0m\u001b[1;32m     94\u001b[0m         \u001b[0;32melse\u001b[0m\u001b[0;34m:\u001b[0m\u001b[0;34m\u001b[0m\u001b[0;34m\u001b[0m\u001b[0m\n\u001b[1;32m     95\u001b[0m             \u001b[0;31m# Subclassed network\u001b[0m\u001b[0;34m\u001b[0m\u001b[0;34m\u001b[0m\u001b[0;34m\u001b[0m\u001b[0m\n",
      "\u001b[0;32m/Library/Frameworks/Python.framework/Versions/3.6/lib/python3.6/site-packages/keras/engine/network.py\u001b[0m in \u001b[0;36m_init_graph_network\u001b[0;34m(self, inputs, outputs, name)\u001b[0m\n\u001b[1;32m    245\u001b[0m              \u001b[0minput_masks\u001b[0m\u001b[0;34m=\u001b[0m\u001b[0;34m[\u001b[0m\u001b[0;32mNone\u001b[0m \u001b[0;32mfor\u001b[0m \u001b[0m_\u001b[0m \u001b[0;32min\u001b[0m \u001b[0mself\u001b[0m\u001b[0;34m.\u001b[0m\u001b[0minputs\u001b[0m\u001b[0;34m]\u001b[0m\u001b[0;34m,\u001b[0m\u001b[0;34m\u001b[0m\u001b[0;34m\u001b[0m\u001b[0m\n\u001b[1;32m    246\u001b[0m              \u001b[0moutput_masks\u001b[0m\u001b[0;34m=\u001b[0m\u001b[0;34m[\u001b[0m\u001b[0;32mNone\u001b[0m \u001b[0;32mfor\u001b[0m \u001b[0m_\u001b[0m \u001b[0;32min\u001b[0m \u001b[0mself\u001b[0m\u001b[0;34m.\u001b[0m\u001b[0moutputs\u001b[0m\u001b[0;34m]\u001b[0m\u001b[0;34m,\u001b[0m\u001b[0;34m\u001b[0m\u001b[0;34m\u001b[0m\u001b[0m\n\u001b[0;32m--> 247\u001b[0;31m              \u001b[0minput_shapes\u001b[0m\u001b[0;34m=\u001b[0m\u001b[0;34m[\u001b[0m\u001b[0mx\u001b[0m\u001b[0;34m.\u001b[0m\u001b[0m_keras_shape\u001b[0m \u001b[0;32mfor\u001b[0m \u001b[0mx\u001b[0m \u001b[0;32min\u001b[0m \u001b[0mself\u001b[0m\u001b[0;34m.\u001b[0m\u001b[0minputs\u001b[0m\u001b[0;34m]\u001b[0m\u001b[0;34m,\u001b[0m\u001b[0;34m\u001b[0m\u001b[0;34m\u001b[0m\u001b[0m\n\u001b[0m\u001b[1;32m    248\u001b[0m              output_shapes=[x._keras_shape for x in self.outputs])\n\u001b[1;32m    249\u001b[0m \u001b[0;34m\u001b[0m\u001b[0m\n",
      "\u001b[0;32m/Library/Frameworks/Python.framework/Versions/3.6/lib/python3.6/site-packages/keras/engine/network.py\u001b[0m in \u001b[0;36m<listcomp>\u001b[0;34m(.0)\u001b[0m\n\u001b[1;32m    245\u001b[0m              \u001b[0minput_masks\u001b[0m\u001b[0;34m=\u001b[0m\u001b[0;34m[\u001b[0m\u001b[0;32mNone\u001b[0m \u001b[0;32mfor\u001b[0m \u001b[0m_\u001b[0m \u001b[0;32min\u001b[0m \u001b[0mself\u001b[0m\u001b[0;34m.\u001b[0m\u001b[0minputs\u001b[0m\u001b[0;34m]\u001b[0m\u001b[0;34m,\u001b[0m\u001b[0;34m\u001b[0m\u001b[0;34m\u001b[0m\u001b[0m\n\u001b[1;32m    246\u001b[0m              \u001b[0moutput_masks\u001b[0m\u001b[0;34m=\u001b[0m\u001b[0;34m[\u001b[0m\u001b[0;32mNone\u001b[0m \u001b[0;32mfor\u001b[0m \u001b[0m_\u001b[0m \u001b[0;32min\u001b[0m \u001b[0mself\u001b[0m\u001b[0;34m.\u001b[0m\u001b[0moutputs\u001b[0m\u001b[0;34m]\u001b[0m\u001b[0;34m,\u001b[0m\u001b[0;34m\u001b[0m\u001b[0;34m\u001b[0m\u001b[0m\n\u001b[0;32m--> 247\u001b[0;31m              \u001b[0minput_shapes\u001b[0m\u001b[0;34m=\u001b[0m\u001b[0;34m[\u001b[0m\u001b[0mx\u001b[0m\u001b[0;34m.\u001b[0m\u001b[0m_keras_shape\u001b[0m \u001b[0;32mfor\u001b[0m \u001b[0mx\u001b[0m \u001b[0;32min\u001b[0m \u001b[0mself\u001b[0m\u001b[0;34m.\u001b[0m\u001b[0minputs\u001b[0m\u001b[0;34m]\u001b[0m\u001b[0;34m,\u001b[0m\u001b[0;34m\u001b[0m\u001b[0;34m\u001b[0m\u001b[0m\n\u001b[0m\u001b[1;32m    248\u001b[0m              output_shapes=[x._keras_shape for x in self.outputs])\n\u001b[1;32m    249\u001b[0m \u001b[0;34m\u001b[0m\u001b[0m\n",
      "\u001b[0;31mAttributeError\u001b[0m: 'Tensor' object has no attribute '_keras_shape'"
     ]
    }
   ],
   "source": [
    "from keras.models import Model\n",
    "\n",
    "layer_name = 'my_layer'\n",
    "intermediate_layer_model = Model(inputs=model.input,\n",
    "                                 outputs=model.layers[-3].output)\n",
    "intermediate_output = intermediate_layer_model.predict(np.expand_dims(train_data[0],0))"
   ]
  },
  {
   "cell_type": "code",
   "execution_count": null,
   "metadata": {},
   "outputs": [],
   "source": []
  },
  {
   "cell_type": "code",
   "execution_count": null,
   "metadata": {},
   "outputs": [],
   "source": []
  },
  {
   "cell_type": "markdown",
   "metadata": {
    "colab_type": "text",
    "id": "iv-3x-0yNX8z"
   },
   "source": [
    "# Test Framework"
   ]
  },
  {
   "cell_type": "markdown",
   "metadata": {
    "colab_type": "text",
    "id": "iyK7IZAXDrnX"
   },
   "source": [
    "## Test A: TradeFour"
   ]
  },
  {
   "cell_type": "code",
   "execution_count": 49,
   "metadata": {
    "colab": {},
    "colab_type": "code",
    "id": "56ENduBtDrnX"
   },
   "outputs": [],
   "source": [
    "# read test midi file, ignore labels and get output from network\n",
    "# simply read midi here to see how it sounds + plot (by creating midi file with input midi and prediction from network)\n",
    "\n",
    "def writeMidi(notes, times, file, originalfile, tempo=120, resolution=12):\n",
    "    pm = pretty_midi.PrettyMIDI(resolution=resolution, initial_tempo=tempo)\n",
    "    pminst = pretty_midi.Instrument(program=0)\n",
    "    currtime = 0\n",
    "    for i, note in enumerate(notes):\n",
    "        if note != MELODY-1:\n",
    "            pitch = note+LOW\n",
    "            start = pm.tick_to_time(int(currtime))\n",
    "            end = pm.tick_to_time(int(currtime+times[i]))\n",
    "            if end > start:\n",
    "                pmnote = pretty_midi.Note(velocity=100, pitch = pitch, start=start, end=end)\n",
    "                pminst.notes.append(pmnote)\n",
    "        currtime += times[i]+1\n",
    "    pm.instruments.append(pminst)\n",
    "    \n",
    "    #get original chords from file\n",
    "    ogpm = pretty_midi.PrettyMIDI(originalfile)\n",
    "    originalchords = pretty_midi.Instrument(program=0)\n",
    "    originalnotes = getMelodyAndHarmonyBass(originalfile)['harmony']\n",
    "    for i, note in enumerate(originalnotes):\n",
    "        old = ogpm.time_to_tick(note.start)\n",
    "        start = pm.tick_to_time(int(ogpm.time_to_tick(note.start)/ogpm.resolution*pm.resolution))\n",
    "        end = pm.tick_to_time(int(ogpm.time_to_tick(note.end)/ogpm.resolution*pm.resolution))\n",
    "        originalchords.notes.append(pretty_midi.Note(velocity=50, pitch=note.pitch, start=start, end=end))\n",
    "    pm.instruments.append(originalchords)\n",
    "\n",
    "    pm.write(file)\n",
    "    return pm\n",
    "\n",
    "    \n",
    "def tradeFour(processedMidi):\n",
    "    notes, times, chords, chordsByBeat, key = processedMidi\n",
    "    predicted_notes, predicted_durations = [], []\n",
    "    mel_len=16+1 # wegen nextChord\n",
    "\n",
    "    notesnew = np.array(notes[-mel_len:])\n",
    "    timesnew = np.array(times[-mel_len:])\n",
    "    chordsnew = np.array(chords[-mel_len:])\n",
    "\n",
    "    currentbeat = 0\n",
    "    currenttime = 0\n",
    "    while sum(predicted_durations) < 4*TIMES:\n",
    "        processedMidi = notesnew, timesnew, chordsnew, chordsByBeat, key\n",
    "        feat = getFeatureVectors(processedMidi)\n",
    "        feat = tf.expand_dims(feat,0)\n",
    "        \n",
    "        pitch, duration = model(feat)\n",
    "\n",
    "        pred_pitch = tf.math.argmax(pitch, 1).numpy()[0]\n",
    "        pred_duration = tf.math.argmax(duration, 1).numpy()[0]\n",
    "\n",
    "        predicted_notes.append(pred_pitch)\n",
    "        predicted_durations.append(pred_duration)\n",
    "        notesnew = np.append(notesnew[1:], pred_pitch)\n",
    "        timesnew = np.append(timesnew[1:], pred_duration)\n",
    "        \n",
    "        if int(currenttime/12) > currentbeat:\n",
    "            newchord = chordsByBeat[int(currenttime/12)]\n",
    "            chordsnew = np.append(chordsnew[1:], newchord)\n",
    "        currenttime += pred_duration\n",
    "        currentbeat += int(currenttime/12)\n",
    "        \n",
    "        print(predicted_durations)\n",
    "        \n",
    "    notes = np.append(notes, np.array(predicted_notes))\n",
    "    times = np.append(times, np.array(predicted_durations))\n",
    "\n",
    "    return notes, times\n",
    "    \n",
    "def plotTradeFour(file):\n",
    "    processedMidi = processMidi(file)\n",
    "    \n",
    "    t = time.time()\n",
    "    notes, times = tradeFour(processedMidi)\n",
    "    print(time.time() - t,'s')\n",
    "    \n",
    "    # plotWithAudio\n",
    "    pm = writeMidi(notes, times, 'old_notebooks/treval/newtest.mid', file)\n",
    "    plt.figure(figsize=(8, 4))\n",
    "    plot_piano_roll(pm, LOW, HIGH)\n",
    "    display(IPython.display.Audio(pm.synthesize(fs=44000), rate=44000))   \n",
    "    "
   ]
  },
  {
   "cell_type": "code",
   "execution_count": 51,
   "metadata": {
    "colab": {
     "base_uri": "https://localhost:8080/",
     "height": 596
    },
    "colab_type": "code",
    "id": "jitsFsWbDrna",
    "outputId": "5f452100-38d5-49d8-83e3-b67aa01c25e0",
    "scrolled": false
   },
   "outputs": [
    {
     "ename": "FileNotFoundError",
     "evalue": "[Errno 2] No such file or directory: 'datasets/trainData/chords/test/testlmd.mid'",
     "output_type": "error",
     "traceback": [
      "\u001b[0;31m---------------------------------------------------------------------------\u001b[0m",
      "\u001b[0;31mFileNotFoundError\u001b[0m                         Traceback (most recent call last)",
      "\u001b[0;32m<ipython-input-51-eb0164d6aa66>\u001b[0m in \u001b[0;36m<module>\u001b[0;34m\u001b[0m\n\u001b[0;32m----> 1\u001b[0;31m \u001b[0mplotTradeFour\u001b[0m\u001b[0;34m(\u001b[0m\u001b[0;34m'test/testlmd.mid'\u001b[0m\u001b[0;34m)\u001b[0m\u001b[0;34m\u001b[0m\u001b[0;34m\u001b[0m\u001b[0m\n\u001b[0m",
      "\u001b[0;32m<ipython-input-49-0b83dd5815cf>\u001b[0m in \u001b[0;36mplotTradeFour\u001b[0;34m(file)\u001b[0m\n\u001b[1;32m     72\u001b[0m \u001b[0;34m\u001b[0m\u001b[0m\n\u001b[1;32m     73\u001b[0m \u001b[0;32mdef\u001b[0m \u001b[0mplotTradeFour\u001b[0m\u001b[0;34m(\u001b[0m\u001b[0mfile\u001b[0m\u001b[0;34m)\u001b[0m\u001b[0;34m:\u001b[0m\u001b[0;34m\u001b[0m\u001b[0;34m\u001b[0m\u001b[0m\n\u001b[0;32m---> 74\u001b[0;31m     \u001b[0mprocessedMidi\u001b[0m \u001b[0;34m=\u001b[0m \u001b[0mprocessMidi\u001b[0m\u001b[0;34m(\u001b[0m\u001b[0mfile\u001b[0m\u001b[0;34m)\u001b[0m\u001b[0;34m\u001b[0m\u001b[0;34m\u001b[0m\u001b[0m\n\u001b[0m\u001b[1;32m     75\u001b[0m \u001b[0;34m\u001b[0m\u001b[0m\n\u001b[1;32m     76\u001b[0m     \u001b[0mt\u001b[0m \u001b[0;34m=\u001b[0m \u001b[0mtime\u001b[0m\u001b[0;34m.\u001b[0m\u001b[0mtime\u001b[0m\u001b[0;34m(\u001b[0m\u001b[0;34m)\u001b[0m\u001b[0;34m\u001b[0m\u001b[0;34m\u001b[0m\u001b[0m\n",
      "\u001b[0;32m<ipython-input-6-17304bf598df>\u001b[0m in \u001b[0;36mprocessMidi\u001b[0;34m(file)\u001b[0m\n\u001b[1;32m     93\u001b[0m \u001b[0;34m\u001b[0m\u001b[0m\n\u001b[1;32m     94\u001b[0m \u001b[0;32mdef\u001b[0m \u001b[0mprocessMidi\u001b[0m\u001b[0;34m(\u001b[0m\u001b[0mfile\u001b[0m\u001b[0;34m)\u001b[0m\u001b[0;34m:\u001b[0m\u001b[0;34m\u001b[0m\u001b[0;34m\u001b[0m\u001b[0m\n\u001b[0;32m---> 95\u001b[0;31m     \u001b[0mpm\u001b[0m \u001b[0;34m=\u001b[0m \u001b[0mpretty_midi\u001b[0m\u001b[0;34m.\u001b[0m\u001b[0mPrettyMIDI\u001b[0m\u001b[0;34m(\u001b[0m\u001b[0mfolder\u001b[0m\u001b[0;34m+\u001b[0m\u001b[0;34m'chords/'\u001b[0m\u001b[0;34m+\u001b[0m\u001b[0mfile\u001b[0m\u001b[0;34m)\u001b[0m\u001b[0;34m\u001b[0m\u001b[0;34m\u001b[0m\u001b[0m\n\u001b[0m\u001b[1;32m     96\u001b[0m     \u001b[0;31m#tracks = getMelodyAndHarmony(file)\u001b[0m\u001b[0;34m\u001b[0m\u001b[0;34m\u001b[0m\u001b[0;34m\u001b[0m\u001b[0m\n\u001b[1;32m     97\u001b[0m     \u001b[0;31m#tracks = getMelodyAndHarmonyBass(file) //changing, this doesnt work anymore -> DACBass\u001b[0m\u001b[0;34m\u001b[0m\u001b[0;34m\u001b[0m\u001b[0;34m\u001b[0m\u001b[0m\n",
      "\u001b[0;32m/Library/Frameworks/Python.framework/Versions/3.6/lib/python3.6/site-packages/pretty_midi/pretty_midi.py\u001b[0m in \u001b[0;36m__init__\u001b[0;34m(self, midi_file, resolution, initial_tempo)\u001b[0m\n\u001b[1;32m     57\u001b[0m             \u001b[0;32mif\u001b[0m \u001b[0misinstance\u001b[0m\u001b[0;34m(\u001b[0m\u001b[0mmidi_file\u001b[0m\u001b[0;34m,\u001b[0m \u001b[0msix\u001b[0m\u001b[0;34m.\u001b[0m\u001b[0mstring_types\u001b[0m\u001b[0;34m)\u001b[0m\u001b[0;34m:\u001b[0m\u001b[0;34m\u001b[0m\u001b[0;34m\u001b[0m\u001b[0m\n\u001b[1;32m     58\u001b[0m                 \u001b[0;31m# If a string was given, pass it as the string filename\u001b[0m\u001b[0;34m\u001b[0m\u001b[0;34m\u001b[0m\u001b[0;34m\u001b[0m\u001b[0m\n\u001b[0;32m---> 59\u001b[0;31m                 \u001b[0mmidi_data\u001b[0m \u001b[0;34m=\u001b[0m \u001b[0mmido\u001b[0m\u001b[0;34m.\u001b[0m\u001b[0mMidiFile\u001b[0m\u001b[0;34m(\u001b[0m\u001b[0mfilename\u001b[0m\u001b[0;34m=\u001b[0m\u001b[0mmidi_file\u001b[0m\u001b[0;34m)\u001b[0m\u001b[0;34m\u001b[0m\u001b[0;34m\u001b[0m\u001b[0m\n\u001b[0m\u001b[1;32m     60\u001b[0m             \u001b[0;32melse\u001b[0m\u001b[0;34m:\u001b[0m\u001b[0;34m\u001b[0m\u001b[0;34m\u001b[0m\u001b[0m\n\u001b[1;32m     61\u001b[0m                 \u001b[0;31m# Otherwise, try passing it in as a file pointer\u001b[0m\u001b[0;34m\u001b[0m\u001b[0;34m\u001b[0m\u001b[0;34m\u001b[0m\u001b[0m\n",
      "\u001b[0;32m/Library/Frameworks/Python.framework/Versions/3.6/lib/python3.6/site-packages/mido/midifiles/midifiles.py\u001b[0m in \u001b[0;36m__init__\u001b[0;34m(self, filename, file, type, ticks_per_beat, charset, debug, clip)\u001b[0m\n\u001b[1;32m    313\u001b[0m             \u001b[0mself\u001b[0m\u001b[0;34m.\u001b[0m\u001b[0m_load\u001b[0m\u001b[0;34m(\u001b[0m\u001b[0mfile\u001b[0m\u001b[0;34m)\u001b[0m\u001b[0;34m\u001b[0m\u001b[0;34m\u001b[0m\u001b[0m\n\u001b[1;32m    314\u001b[0m         \u001b[0;32melif\u001b[0m \u001b[0mself\u001b[0m\u001b[0;34m.\u001b[0m\u001b[0mfilename\u001b[0m \u001b[0;32mis\u001b[0m \u001b[0;32mnot\u001b[0m \u001b[0;32mNone\u001b[0m\u001b[0;34m:\u001b[0m\u001b[0;34m\u001b[0m\u001b[0;34m\u001b[0m\u001b[0m\n\u001b[0;32m--> 315\u001b[0;31m             \u001b[0;32mwith\u001b[0m \u001b[0mio\u001b[0m\u001b[0;34m.\u001b[0m\u001b[0mopen\u001b[0m\u001b[0;34m(\u001b[0m\u001b[0mfilename\u001b[0m\u001b[0;34m,\u001b[0m \u001b[0;34m'rb'\u001b[0m\u001b[0;34m)\u001b[0m \u001b[0;32mas\u001b[0m \u001b[0mfile\u001b[0m\u001b[0;34m:\u001b[0m\u001b[0;34m\u001b[0m\u001b[0;34m\u001b[0m\u001b[0m\n\u001b[0m\u001b[1;32m    316\u001b[0m                 \u001b[0mself\u001b[0m\u001b[0;34m.\u001b[0m\u001b[0m_load\u001b[0m\u001b[0;34m(\u001b[0m\u001b[0mfile\u001b[0m\u001b[0;34m)\u001b[0m\u001b[0;34m\u001b[0m\u001b[0;34m\u001b[0m\u001b[0m\n\u001b[1;32m    317\u001b[0m \u001b[0;34m\u001b[0m\u001b[0m\n",
      "\u001b[0;31mFileNotFoundError\u001b[0m: [Errno 2] No such file or directory: 'datasets/trainData/chords/test/testlmd.mid'"
     ]
    }
   ],
   "source": [
    "plotTradeFour('test/testlmd.mid')"
   ]
  },
  {
   "cell_type": "markdown",
   "metadata": {
    "colab_type": "text",
    "id": "1z8g4E6UDrnj"
   },
   "source": [
    "## Test B: Overfitting"
   ]
  },
  {
   "cell_type": "code",
   "execution_count": 0,
   "metadata": {
    "colab": {},
    "colab_type": "code",
    "id": "c_NTDPAtDrnk"
   },
   "outputs": [],
   "source": [
    "# test how much % model can learn a melody\n",
    "\n",
    "# define test melody\n",
    "# train network\n",
    "# give percentage of how much it learnt\n",
    "\n",
    "chordsDict={\n",
    "    'C': [1,0,0,0,1,0,0,1,0,0,0,0],\n",
    "    'C7': [1,0,0,0,1,0,0,1,0,0,1,0],\n",
    "    'Cmaj7': [1,0,0,0,1,0,0,1,0,0,0,1]\n",
    "}"
   ]
  },
  {
   "cell_type": "code",
   "execution_count": 0,
   "metadata": {
    "colab": {},
    "colab_type": "code",
    "id": "q3bpvPeiDrnn",
    "outputId": "220e7428-964b-4cfc-cc61-7a60241946f8",
    "scrolled": false
   },
   "outputs": [
    {
     "data": {
      "text/plain": [
       "(15, 16, 31)"
      ]
     },
     "metadata": {
      "tags": []
     },
     "output_type": "display_data"
    },
    {
     "name": "stdout",
     "output_type": "stream",
     "text": [
      "Nr. of params: 30485\n"
     ]
    }
   ],
   "source": [
    "# test data\n",
    "notes = [0,2,4,7,7,4,2,0,0,2,4,7,7,4,2,0,0,5,3,4,5,8,7,5,0,2,4,7,7,4,2,0]\n",
    "times = np.ones(32)*8\n",
    "chord = chordsDict['C']\n",
    "chords = np.repeat(chord, 32).reshape((12,-1)).T\n",
    "encoding = True\n",
    "train_data, train_labels = getInputSequences(notes, times, chords, encoding=encoding, modulation=False, padding=False, seq_len=1)\n",
    "\n",
    "display(train_data.shape)\n",
    "batch_size = 32\n",
    "train_loader = getDataLoader(train_data, train_labels, batch_size=batch_size, shuffle=False)\n",
    "\n",
    "# test model\n",
    "model_params = {\n",
    "    'input_dim': train_data.shape[-1],\n",
    "    'hidden_dim': 64,\n",
    "    'num_layers': 1,\n",
    "    'output_dim_pitch': MELODY,\n",
    "    'output_dim_duration': TIMES,\n",
    "    'dropout': 0\n",
    "}\n",
    "\n",
    "testmodel = LSTM(**model_params)\n",
    "testmodel.to(device)"
   ]
  },
  {
   "cell_type": "code",
   "execution_count": 0,
   "metadata": {
    "colab": {},
    "colab_type": "code",
    "id": "gelE-IxbDrnq",
    "outputId": "714c3e78-b332-46d7-b07c-704a2c735345",
    "scrolled": true
   },
   "outputs": [
    {
     "name": "stdout",
     "output_type": "stream",
     "text": [
      "tensor([2, 2, 0, 2, 0, 0, 0, 0, 0, 0, 2, 2, 0, 0, 0])\n",
      "tensor([0., 5., 3., 4., 5., 8., 7., 5., 0., 2., 4., 7., 7., 4., 2.],\n",
      "       dtype=torch.float64)\n",
      "loss:  7.3719 acc_train:  6 acc_val:  6\n",
      "loss:  1.8806 acc_train:  20 acc_val:  20\n",
      "loss:  1.8009 acc_train:  26 acc_val:  26\n",
      "loss:  1.6949 acc_train:  33 acc_val:  33\n",
      "loss:  1.5203 acc_train:  53 acc_val:  53\n",
      "tensor([0, 5, 8, 4, 5, 8, 7, 5, 0, 7, 4, 7, 5, 4, 7])\n",
      "tensor([0., 5., 3., 4., 5., 8., 7., 5., 0., 2., 4., 7., 7., 4., 2.],\n",
      "       dtype=torch.float64)\n",
      "loss:  1.2851 acc_train:  73 acc_val:  73\n",
      "loss:  1.0255 acc_train:  80 acc_val:  80\n",
      "loss:  0.8072 acc_train:  86 acc_val:  86\n",
      "loss:  0.6302 acc_train:  86 acc_val:  86\n",
      "loss:  0.4656 acc_train:  93 acc_val:  93\n",
      "tensor([0, 5, 3, 4, 5, 8, 7, 5, 0, 2, 4, 7, 7, 4, 2])\n",
      "tensor([0., 5., 3., 4., 5., 8., 7., 5., 0., 2., 4., 7., 7., 4., 2.],\n",
      "       dtype=torch.float64)\n",
      "loss:  0.3227 acc_train:  100 acc_val:  100\n",
      "loss:  0.2176 acc_train:  100 acc_val:  100\n",
      "loss:  0.1449 acc_train:  100 acc_val:  100\n",
      "loss:  0.1 acc_train:  100 acc_val:  100\n",
      "loss:  0.0731 acc_train:  100 acc_val:  100\n",
      "tensor([0, 5, 3, 4, 5, 8, 7, 5, 0, 2, 4, 7, 7, 4, 2])\n",
      "tensor([0., 5., 3., 4., 5., 8., 7., 5., 0., 2., 4., 7., 7., 4., 2.],\n",
      "       dtype=torch.float64)\n",
      "loss:  0.0561 acc_train:  100 acc_val:  100\n",
      "loss:  0.0446 acc_train:  100 acc_val:  100\n",
      "loss:  0.0366 acc_train:  100 acc_val:  100\n",
      "loss:  0.0308 acc_train:  100 acc_val:  100\n",
      "loss:  0.0264 acc_train:  100 acc_val:  100\n",
      "tensor([0, 5, 3, 4, 5, 8, 7, 5, 0, 2, 4, 7, 7, 4, 2])\n",
      "tensor([0., 5., 3., 4., 5., 8., 7., 5., 0., 2., 4., 7., 7., 4., 2.],\n",
      "       dtype=torch.float64)\n",
      "loss:  0.0231 acc_train:  100 acc_val:  100\n",
      "loss:  0.0204 acc_train:  100 acc_val:  100\n",
      "loss:  0.0182 acc_train:  100 acc_val:  100\n",
      "loss:  0.0164 acc_train:  100 acc_val:  100\n",
      "loss:  0.0149 acc_train:  100 acc_val:  100\n",
      "tensor([0, 5, 3, 4, 5, 8, 7, 5, 0, 2, 4, 7, 7, 4, 2])\n",
      "tensor([0., 5., 3., 4., 5., 8., 7., 5., 0., 2., 4., 7., 7., 4., 2.],\n",
      "       dtype=torch.float64)\n",
      "loss:  0.0136 acc_train:  100 acc_val:  100\n",
      "loss:  0.0125 acc_train:  100 acc_val:  100\n",
      "loss:  0.0116 acc_train:  100 acc_val:  100\n",
      "loss:  0.0107 acc_train:  100 acc_val:  100\n",
      "loss:  0.01 acc_train:  100 acc_val:  100\n",
      "tensor([0, 5, 3, 4, 5, 8, 7, 5, 0, 2, 4, 7, 7, 4, 2])\n",
      "tensor([0., 5., 3., 4., 5., 8., 7., 5., 0., 2., 4., 7., 7., 4., 2.],\n",
      "       dtype=torch.float64)\n",
      "loss:  0.0093 acc_train:  100 acc_val:  100\n",
      "loss:  0.0087 acc_train:  100 acc_val:  100\n",
      "loss:  0.0082 acc_train:  100 acc_val:  100\n",
      "loss:  0.0077 acc_train:  100 acc_val:  100\n",
      "loss:  0.0073 acc_train:  100 acc_val:  100\n",
      "tensor([0, 5, 3, 4, 5, 8, 7, 5, 0, 2, 4, 7, 7, 4, 2])\n",
      "tensor([0., 5., 3., 4., 5., 8., 7., 5., 0., 2., 4., 7., 7., 4., 2.],\n",
      "       dtype=torch.float64)\n",
      "loss:  0.0069 acc_train:  100 acc_val:  100\n",
      "loss:  0.0066 acc_train:  100 acc_val:  100\n",
      "loss:  0.0062 acc_train:  100 acc_val:  100\n",
      "loss:  0.0059 acc_train:  100 acc_val:  100\n",
      "loss:  0.0056 acc_train:  100 acc_val:  100\n",
      "tensor([0, 5, 3, 4, 5, 8, 7, 5, 0, 2, 4, 7, 7, 4, 2])\n",
      "tensor([0., 5., 3., 4., 5., 8., 7., 5., 0., 2., 4., 7., 7., 4., 2.],\n",
      "       dtype=torch.float64)\n",
      "loss:  0.0054 acc_train:  100 acc_val:  100\n",
      "loss:  0.0052 acc_train:  100 acc_val:  100\n",
      "loss:  0.0049 acc_train:  100 acc_val:  100\n",
      "loss:  0.0047 acc_train:  100 acc_val:  100\n",
      "loss:  0.0045 acc_train:  100 acc_val:  100\n",
      "tensor([0, 5, 3, 4, 5, 8, 7, 5, 0, 2, 4, 7, 7, 4, 2])\n",
      "tensor([0., 5., 3., 4., 5., 8., 7., 5., 0., 2., 4., 7., 7., 4., 2.],\n",
      "       dtype=torch.float64)\n",
      "loss:  0.0044 acc_train:  100 acc_val:  100\n",
      "loss:  0.0042 acc_train:  100 acc_val:  100\n",
      "loss:  0.004 acc_train:  100 acc_val:  100\n",
      "loss:  0.0039 acc_train:  100 acc_val:  100\n",
      "loss:  0.0037 acc_train:  100 acc_val:  100\n",
      "tensor([0, 5, 3, 4, 5, 8, 7, 5, 0, 2, 4, 7, 7, 4, 2])\n",
      "tensor([0., 5., 3., 4., 5., 8., 7., 5., 0., 2., 4., 7., 7., 4., 2.],\n",
      "       dtype=torch.float64)\n",
      "loss:  0.0036 acc_train:  100 acc_val:  100\n",
      "loss:  0.0035 acc_train:  100 acc_val:  100\n",
      "loss:  0.0034 acc_train:  100 acc_val:  100\n",
      "loss:  0.0033 acc_train:  100 acc_val:  100\n",
      "loss:  0.0032 acc_train:  100 acc_val:  100\n",
      "tensor([0, 5, 3, 4, 5, 8, 7, 5, 0, 2, 4, 7, 7, 4, 2])\n",
      "tensor([0., 5., 3., 4., 5., 8., 7., 5., 0., 2., 4., 7., 7., 4., 2.],\n",
      "       dtype=torch.float64)\n",
      "loss:  0.0031 acc_train:  100 acc_val:  100\n",
      "loss:  0.003 acc_train:  100 acc_val:  100\n",
      "loss:  0.0029 acc_train:  100 acc_val:  100\n",
      "loss:  0.0028 acc_train:  100 acc_val:  100\n",
      "loss:  0.0027 acc_train:  100 acc_val:  100\n",
      "tensor([0, 5, 3, 4, 5, 8, 7, 5, 0, 2, 4, 7, 7, 4, 2])\n",
      "tensor([0., 5., 3., 4., 5., 8., 7., 5., 0., 2., 4., 7., 7., 4., 2.],\n",
      "       dtype=torch.float64)\n",
      "loss:  0.0026 acc_train:  100 acc_val:  100\n",
      "loss:  0.0025 acc_train:  100 acc_val:  100\n",
      "loss:  0.0025 acc_train:  100 acc_val:  100\n",
      "loss:  0.0024 acc_train:  100 acc_val:  100\n",
      "loss:  0.0023 acc_train:  100 acc_val:  100\n",
      "tensor([0, 5, 3, 4, 5, 8, 7, 5, 0, 2, 4, 7, 7, 4, 2])\n",
      "tensor([0., 5., 3., 4., 5., 8., 7., 5., 0., 2., 4., 7., 7., 4., 2.],\n",
      "       dtype=torch.float64)\n",
      "loss:  0.0023 acc_train:  100 acc_val:  100\n",
      "loss:  0.0022 acc_train:  100 acc_val:  100\n",
      "loss:  0.0022 acc_train:  100 acc_val:  100\n",
      "loss:  0.0021 acc_train:  100 acc_val:  100\n",
      "loss:  0.0021 acc_train:  100 acc_val:  100\n",
      "tensor([0, 5, 3, 4, 5, 8, 7, 5, 0, 2, 4, 7, 7, 4, 2])\n",
      "tensor([0., 5., 3., 4., 5., 8., 7., 5., 0., 2., 4., 7., 7., 4., 2.],\n",
      "       dtype=torch.float64)\n",
      "loss:  0.002 acc_train:  100 acc_val:  100\n",
      "loss:  0.002 acc_train:  100 acc_val:  100\n",
      "loss:  0.0019 acc_train:  100 acc_val:  100\n",
      "loss:  0.0019 acc_train:  100 acc_val:  100\n",
      "loss:  0.0018 acc_train:  100 acc_val:  100\n",
      "tensor([0, 5, 3, 4, 5, 8, 7, 5, 0, 2, 4, 7, 7, 4, 2])\n",
      "tensor([0., 5., 3., 4., 5., 8., 7., 5., 0., 2., 4., 7., 7., 4., 2.],\n",
      "       dtype=torch.float64)\n",
      "loss:  0.0018 acc_train:  100 acc_val:  100\n",
      "loss:  0.0017 acc_train:  100 acc_val:  100\n",
      "loss:  0.0017 acc_train:  100 acc_val:  100\n",
      "loss:  0.0017 acc_train:  100 acc_val:  100\n",
      "loss:  0.0016 acc_train:  100 acc_val:  100\n",
      "tensor([0, 5, 3, 4, 5, 8, 7, 5, 0, 2, 4, 7, 7, 4, 2])\n",
      "tensor([0., 5., 3., 4., 5., 8., 7., 5., 0., 2., 4., 7., 7., 4., 2.],\n",
      "       dtype=torch.float64)\n",
      "loss:  0.0016 acc_train:  100 acc_val:  100\n",
      "loss:  0.0016 acc_train:  100 acc_val:  100\n",
      "loss:  0.0015 acc_train:  100 acc_val:  100\n",
      "loss:  0.0015 acc_train:  100 acc_val:  100\n",
      "loss:  0.0015 acc_train:  100 acc_val:  100\n",
      "tensor([0, 5, 3, 4, 5, 8, 7, 5, 0, 2, 4, 7, 7, 4, 2])\n",
      "tensor([0., 5., 3., 4., 5., 8., 7., 5., 0., 2., 4., 7., 7., 4., 2.],\n",
      "       dtype=torch.float64)\n",
      "loss:  0.0014 acc_train:  100 acc_val:  100\n",
      "loss:  0.0014 acc_train:  100 acc_val:  100\n",
      "loss:  0.0014 acc_train:  100 acc_val:  100\n",
      "loss:  0.0013 acc_train:  100 acc_val:  100\n",
      "loss:  0.0013 acc_train:  100 acc_val:  100\n",
      "tensor([0, 5, 3, 4, 5, 8, 7, 5, 0, 2, 4, 7, 7, 4, 2])\n",
      "tensor([0., 5., 3., 4., 5., 8., 7., 5., 0., 2., 4., 7., 7., 4., 2.],\n",
      "       dtype=torch.float64)\n",
      "loss:  0.0013 acc_train:  100 acc_val:  100\n",
      "loss:  0.0013 acc_train:  100 acc_val:  100\n",
      "loss:  0.0012 acc_train:  100 acc_val:  100\n",
      "loss:  0.0012 acc_train:  100 acc_val:  100\n",
      "loss:  0.0012 acc_train:  100 acc_val:  100\n",
      "tensor([0, 5, 3, 4, 5, 8, 7, 5, 0, 2, 4, 7, 7, 4, 2])\n",
      "tensor([0., 5., 3., 4., 5., 8., 7., 5., 0., 2., 4., 7., 7., 4., 2.],\n",
      "       dtype=torch.float64)\n",
      "loss:  0.0012 acc_train:  100 acc_val:  100\n",
      "loss:  0.0012 acc_train:  100 acc_val:  100\n",
      "loss:  0.0011 acc_train:  100 acc_val:  100\n",
      "loss:  0.0011 acc_train:  100 acc_val:  100\n",
      "loss:  0.0011 acc_train:  100 acc_val:  100\n"
     ]
    },
    {
     "data": {
      "image/png": "[encoded data removed]",
      "text/plain": [
       "<Figure size 432x288 with 1 Axes>"
      ]
     },
     "metadata": {
      "needs_background": "light",
      "tags": []
     },
     "output_type": "display_data"
    }
   ],
   "source": [
    "train_params = {\n",
    "    'train_loader': train_loader,\n",
    "    'val_loader': train_loader,\n",
    "    'optim': torch.optim.Adam(testmodel.parameters(), lr=1e-2),\n",
    "    'loss_fn': torch.nn.CrossEntropyLoss(),\n",
    "    'num_epochs': 1000\n",
    "}\n",
    "train(testmodel, **train_params)"
   ]
  },
  {
   "cell_type": "code",
   "execution_count": 0,
   "metadata": {
    "colab": {},
    "colab_type": "code",
    "id": "57ym3Kx-Drnz"
   },
   "outputs": [],
   "source": []
  },
  {
   "cell_type": "code",
   "execution_count": 0,
   "metadata": {
    "colab": {},
    "colab_type": "code",
    "id": "1zPqpYyNDrn3"
   },
   "outputs": [],
   "source": [
    "## Testing Krumhansl"
   ]
  },
  {
   "cell_type": "code",
   "execution_count": 0,
   "metadata": {
    "colab": {},
    "colab_type": "code",
    "id": "fIP8bzP9Drn6"
   },
   "outputs": [],
   "source": [
    "folder = \"datasets/lmd_full/0/\"\n",
    "#files[:5]\n",
    "\n",
    "files = [file for file in os.listdir(folder) if '.mid' in file]\n",
    "pm = pretty_midi.PrettyMIDI(folder + files[2])\n",
    "pch = pm.get_pitch_class_histogram()\n",
    "\n",
    "np.argmax(ks_key(pch)[1])\n",
    "\n",
    "pm.key_signature_changes\n",
    "\n",
    "folder = \"datasets/Piano-midi.de/train/\" #0.75 ohne C mit rel\n",
    "folder = \"datasets/kpcorpus/\" \n",
    "folder = \"datasets/lmd_full/2/\"\n",
    "t = time.time()\n",
    "\n",
    "# find keys\n",
    "files = [file for file in os.listdir(folder) if '.mid' in file]\n",
    "    \n",
    "def key(key_number):\n",
    "    return pretty_midi.key_number_to_key_name(key_number)\n",
    "\n",
    "def keynr(key):\n",
    "    return pretty_midi.key_name_to_key_number(key)\n",
    "       \n",
    "def isFifth(realkey,predkey):\n",
    "    return (realkey - predkey)%12 == 7 or (predkey - realkey)%12 == 7\n",
    "        \n",
    "def isRelative(realkey,predkey):\n",
    "    if realkey > 11 and (realkey - 9) % 12 == predkey:\n",
    "        return True\n",
    "    elif predkey > 11 and (predkey - 9) % 12 == realkey:\n",
    "        return True\n",
    "    else:\n",
    "        return False\n",
    "        \n",
    "def isParallel(realkey,predkey):\n",
    "    return realkey%12 == predkey%12\n",
    "\n",
    "correct ,fifth,relative,parallel,total = 0,0,0,0,0\n",
    "keys=[]\n",
    "print(\"Scale by first keychange event, \\t Scale by KrumhanslSchmuckler, \\t, Filename\")\n",
    "for i, file in enumerate(files[:100]):\n",
    "    try:\n",
    "        pm = pretty_midi.PrettyMIDI(folder + file)\n",
    "    except:\n",
    "        continue\n",
    "\n",
    "    pm = pretty_midi.PrettyMIDI(folder + file)\n",
    "    if pm.key_signature_changes != []:\n",
    "        try:\n",
    "            algkey = ks_key(pm.get_pitch_class_histogram(), 'aarden')\n",
    "            pmkeys = [x.key_number for x in pm.key_signature_changes]\n",
    "            pmkey = pmkeys[0]\n",
    "            if pmkey == 0:\n",
    "                continue\n",
    "            keys.append([pmkey,algkey])\n",
    "            #print(key(pmkey), '\\t', key(int(algkey)), '\\t', file, '\\t', pmkeys)\n",
    "        except:\n",
    "            pass\n",
    "\n",
    "correct ,fifth,relative,parallel,total = 0,0,0,0,0\n",
    "for key in keys:\n",
    "    realkey = key[0]\n",
    "    predkey = key[1]\n",
    "    total += 1\n",
    "    if realkey == predkey:\n",
    "        correct += 1\n",
    "    elif isFifth(realkey,predkey):\n",
    "        fifth += 1\n",
    "    elif isRelative(realkey,predkey):\n",
    "        relative += 1\n",
    "    elif isParallel(realkey,predkey):\n",
    "        parallel += 1\n",
    "print(\"time\", np.round(time.time()-t,2), \"s\")\n",
    "print(correct, relative, fifth, parallel, total)\n",
    "print((correct+relative)/total, correct/total, relative/total, fifth/total, parallel/total, (total-correct-fifth-relative-parallel)/total)\n"
   ]
  },
  {
   "cell_type": "code",
   "execution_count": 0,
   "metadata": {
    "colab": {},
    "colab_type": "code",
    "id": "gfDCQVeKDrn9"
   },
   "outputs": [],
   "source": []
  },
  {
   "cell_type": "code",
   "execution_count": 0,
   "metadata": {
    "colab": {},
    "colab_type": "code",
    "id": "6frqMELbDroA"
   },
   "outputs": [],
   "source": []
  },
  {
   "cell_type": "code",
   "execution_count": 0,
   "metadata": {
    "colab": {},
    "colab_type": "code",
    "id": "7Amv8q3uDroC"
   },
   "outputs": [],
   "source": []
  },
  {
   "cell_type": "code",
   "execution_count": 0,
   "metadata": {
    "colab": {},
    "colab_type": "code",
    "id": "EYwLvorgDroH"
   },
   "outputs": [],
   "source": []
  },
  {
   "cell_type": "code",
   "execution_count": 0,
   "metadata": {
    "colab": {},
    "colab_type": "code",
    "id": "m4CGABNGDroP"
   },
   "outputs": [],
   "source": []
  }
 ],
 "metadata": {
  "accelerator": "GPU",
  "colab": {
   "collapsed_sections": [],
   "name": "aJamBuddyDACTFBass.ipynb",
   "provenance": [],
   "toc_visible": true,
   "version": "0.3.2"
  },
  "kernelspec": {
   "display_name": "Python 3",
   "language": "python",
   "name": "python3"
  },
  "language_info": {
   "codemirror_mode": {
    "name": "ipython",
    "version": 3
   },
   "file_extension": ".py",
   "mimetype": "text/x-python",
   "name": "python",
   "nbconvert_exporter": "python",
   "pygments_lexer": "ipython3",
   "version": "3.6.7"
  }
 },
 "nbformat": 4,
 "nbformat_minor": 1
}
