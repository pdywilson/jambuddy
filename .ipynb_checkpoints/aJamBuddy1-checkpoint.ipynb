{
 "cells": [
  {
   "cell_type": "code",
   "execution_count": 1,
   "metadata": {
    "colab": {},
    "colab_type": "code",
    "id": "VSrdFgxyDrmG",
    "scrolled": false
   },
   "outputs": [],
   "source": [
    "%matplotlib inline\n",
    "import os\n",
    "import time\n",
    "import numpy as np\n",
    "import matplotlib.pyplot as plt\n",
    "import IPython.display\n",
    "import collections\n",
    "from collections import Counter\n",
    "import seaborn as sns\n",
    "#import pyfluidsynth\n",
    "import random\n",
    "\n",
    "from pathlib import Path\n",
    "import pretty_midi\n",
    "import librosa.display\n",
    "import glob\n",
    "import datetime\n",
    "\n",
    "from music21 import *\n",
    "\n",
    "import tensorflow as tf\n",
    "tf.enable_eager_execution()\n",
    "\n",
    "%load_ext autoreload\n",
    "%autoreload 2\n",
    "\n",
    "folder = 'train/'\n"
   ]
  },
  {
   "cell_type": "code",
   "execution_count": 2,
   "metadata": {
    "colab": {
     "base_uri": "https://localhost:8080/",
     "height": 122
    },
    "colab_type": "code",
    "id": "YbO_nrQpDrmO",
    "outputId": "ba1ca338-a594-49d2-986d-5914746ffb96"
   },
   "outputs": [],
   "source": [
    "# some prep steps\n",
    "# for google colab\n",
    "try:\n",
    "    import google.colab\n",
    "    IN_COLAB = True\n",
    "except:\n",
    "    IN_COLAB = False\n",
    "    \n",
    "if IN_COLAB:\n",
    "    from google.colab import drive\n",
    "    drive.mount('/content/drive/')\n",
    "    data_folder = \"/content/drive/My Drive/Colab Notebooks/data/\"\n",
    "    os.chdir(data_folder)\n",
    "else:\n",
    "    data_folder = \"\"\n"
   ]
  },
  {
   "cell_type": "markdown",
   "metadata": {
    "colab_type": "text",
    "id": "95G80nAcDrmS"
   },
   "source": [
    "# A. Preprocess Midi file\n",
    "#### Choose a harmony and a melody track from a MIDI file"
   ]
  },
  {
   "cell_type": "code",
   "execution_count": 3,
   "metadata": {
    "colab": {},
    "colab_type": "code",
    "id": "tdAtAPtXNX61"
   },
   "outputs": [],
   "source": [
    "def plot_piano_roll(pm, start_pitch, end_pitch, fs=100):\n",
    "    librosa.display.specshow(pm.get_piano_roll(fs)[start_pitch:end_pitch],\n",
    "                             hop_length=1, sr=fs, x_axis='time', y_axis='cqt_note',\n",
    "                             fmin=pretty_midi.note_number_to_hz(start_pitch))"
   ]
  },
  {
   "cell_type": "code",
   "execution_count": 4,
   "metadata": {
    "colab": {},
    "colab_type": "code",
    "id": "iSk5F55lDrmb"
   },
   "outputs": [],
   "source": [
    "## PARAMS\n",
    "# highest note is melody\n",
    "LOW = 48 # C2=48, C3=60, C4=72, C5=84, C6=96\n",
    "HIGH = 84 # range(48,84) = 36 notes \n",
    "\n",
    "# input sizes\n",
    "MELODY = 37 \n",
    "TIMES = 48\n",
    "CHORDS = 12\n"
   ]
  },
  {
   "cell_type": "code",
   "execution_count": 5,
   "metadata": {
    "colab": {},
    "colab_type": "code",
    "id": "eAk1YucbNX67"
   },
   "outputs": [],
   "source": [
    "# krumhansl schmuckler\n",
    "# adapted from https://gist.github.com/bmcfee/1f66825cef2eb34c839b42dddbad49fd\n",
    "import scipy.linalg\n",
    "import scipy.stats\n",
    "\n",
    "def ks_key(X, weights='kessler'):\n",
    "    '''Estimate the key from a pitch class distribution\n",
    "    \n",
    "    Parameters\n",
    "    ----------\n",
    "    X : np.ndarray, shape=(12,)\n",
    "        Pitch-class energy distribution.  Need not be normalized\n",
    "        \n",
    "    Returns\n",
    "    -------\n",
    "    major : np.ndarray, shape=(12,)\n",
    "    minor : np.ndarray, shape=(12,)\n",
    "    \n",
    "        For each key (C:maj, ..., B:maj) and (C:min, ..., B:min),\n",
    "        the correlation score for `X` against that key.\n",
    "    '''\n",
    "    X = scipy.stats.zscore(X)\n",
    "    \n",
    "    # Coefficients from Kumhansl and Schmuckler\n",
    "    # as reported here: http://rnhart.net/articles/key-finding/\n",
    "    \n",
    "    # weights as https://musicinformationretrieval.wordpress.com/2017/02/24/state-of-the-art-2/\n",
    "    if weights == 'kessler':\n",
    "        major = np.asarray([6.35, 2.23, 3.48, 2.33, 4.38, 4.09, 2.52, 5.19, 2.39, 3.66, 2.29, 2.88])\n",
    "        minor = np.asarray([6.33, 2.68, 3.52, 5.38, 2.60, 3.53, 2.54, 4.75, 3.98, 2.69, 3.34, 3.17])\n",
    "    elif weights == 'schmuckler':\n",
    "        major = np.asarray([6.35, 2.33, 3.48, 2.33, 4.38, 4.09, 2.52, 5.19, 2.39, 3.66, 2.29, 2.88])\n",
    "        minor = np.asarray([6.33, 2.68, 3.52, 5.38, 2.60, 3.53, 2.54, 4.75, 3.98, 2.69, 3.34, 3.17])\n",
    "    elif weights == 'aarden':\n",
    "        major = np.asarray([17.7661, 0.145624, 14.9265, 0.160186, 19.8049, 11.3587, 0.281248, 22.062, 0.145624, 8.15494, 0.232998, 4.95122])\n",
    "        minor = np.asarray([18.2648, 0.737619, 14.0499, 16.8599, 0.702494, 14.4362, 0.702494, 18.6161, 4.56621, 1.93186, 7.37619, 1.75623])\n",
    "    elif weights == 'sapp':\n",
    "        major = np.asarray([2, 0, 1, 0, 1, 1, 0, 2, 0, 1, 0, 1])\n",
    "        minor = np.asarray([2, 0, 1, 1, 0, 1, 0, 2, 1, 0, 0.5, 0.5])\n",
    "    elif weights == 'bellman':\n",
    "        major = np.asarray([16.8, 0.86, 12.95, 1.41, 13.49, 11.93, 1.25, 20.28, 1.8, 8.04, 0.62, 10.57])\n",
    "        minor = np.asarray([18.16, 0.69, 12.99, 13.34, 1.07, 11.15, 1.38, 21.07, 7.49, 1.53, 0.92, 10.21])\n",
    "    elif weights == 'temperley':\n",
    "        major = np.asarray([0.748, 0.06, 0.488, 0.082, 0.67, 0.46, 0.096, 0.715, 0.104, 0.366, 0.057, 0.4])\n",
    "        minor = np.asarray([0.712, 0.84, 0.474, 0.618, 0.049, 0.46, 0.105, 0.747, 0.404, 0.067, 0.133, 0.33])\n",
    "        \n",
    "        \n",
    "    major = scipy.stats.zscore(major)\n",
    "    minor = scipy.stats.zscore(minor)\n",
    "    \n",
    "    # Generate all rotations of major\n",
    "    major = scipy.linalg.circulant(major)\n",
    "    minor = scipy.linalg.circulant(minor)\n",
    "    \n",
    "    major = major.T.dot(X)\n",
    "    minor = minor.T.dot(X)\n",
    "    \n",
    "    major_max = np.argmax(major)\n",
    "    minor_max = np.argmax(minor)\n",
    "    return major_max if np.max(major) >= np.max(minor) else minor_max+12"
   ]
  },
  {
   "cell_type": "code",
   "execution_count": 6,
   "metadata": {
    "colab": {},
    "colab_type": "code",
    "id": "eYnJdXBYDrmf"
   },
   "outputs": [],
   "source": [
    "# MIDI processing\n",
    "def getTracks(file):\n",
    "    pm_harmony = pretty_midi.PrettyMIDI(folder+'chords/'+file).instruments[0].notes\n",
    "    pm_melody = pretty_midi.PrettyMIDI(folder+'melody/'+file).instruments[0].notes\n",
    "    return {'melody': pm_melody, 'harmony': pm_harmony}\n",
    "\n",
    "def getMelodyAndHarmonyBass(file):\n",
    "    #already midi file with one piano and one melody\n",
    "    pm = pretty_midi.PrettyMIDI(file)\n",
    "    pm.remove_invalid_notes()\n",
    "    for i, elt in enumerate(pm.instruments):\n",
    "        if 'piano' in pm.instruments[i].name.lower():\n",
    "            piano = pm.instruments[i].notes\n",
    "        elif 'bass' in pm.instruments[i].name.lower():\n",
    "            bass = pm.instruments[i].notes\n",
    "    \n",
    "    result = {'melody': bass, 'harmony': piano}\n",
    "    \n",
    "    \n",
    "    return result\n",
    "\n",
    "\n",
    "def getMelodyAndHarmony(file):\n",
    "    def padAndAdd(a,b):\n",
    "        return sorted(a+b,key= lambda x:x.start)\n",
    "    \n",
    "    pm = pretty_midi.PrettyMIDI(file)\n",
    "    pm.remove_invalid_notes()\n",
    "    print(\"\\nEasy Processing: \"+file)\n",
    "    \n",
    "    if len(pm.instruments) == 1:\n",
    "        print(\"Both: Using only track for both harmony and melody\")\n",
    "        pianoroll = pm.instruments[0].notes\n",
    "        return {'melody': pianoroll, 'harmony': pianoroll}\n",
    "    \n",
    "    else:\n",
    "        maxlen = 0\n",
    "        pianos = []\n",
    "        guitars = []\n",
    "        melodies = []\n",
    "        for i, elt in enumerate(pm.instruments):\n",
    "            #if pm.instruments[i].is_drum:\n",
    "            #    continue\n",
    "            pianoroll = pm.instruments[i].get_piano_roll().T\n",
    "            numnotes = pianoroll.nonzero()[0].shape[0]\n",
    "            if numnotes > maxlen:\n",
    "                mostnotes = i\n",
    "                maxlen = numnotes\n",
    "            if 'piano' in pm.instruments[i].name.lower():             #if pm.instruments[i].program in range(8): # MIDI 0..7 are pianos\n",
    "                pianos.append((pm.instruments[i].notes,numnotes))\n",
    "            if 'guitar' in pm.instruments[i].name.lower():             #if pm.instruments[i].program in range(24,32):\n",
    "                guitars.append((pm.instruments[i].notes,numnotes))\n",
    "            if 'melody' in pm.instruments[i].name.lower():\n",
    "                # melodies.append((pianoroll,numnotes)) do i really want to padandadd two melodies always??\n",
    "                melodies.append(pm.instruments[i].notes)\n",
    "\n",
    "        if pianos != []:\n",
    "            print(\"Harmony: Using piano with most notes as harmony of\", len(pianos))\n",
    "            pianowithmostnotes = max(pianos, key=lambda x: x[1])\n",
    "            harmonytrack = pianowithmostnotes[0]\n",
    "        elif guitars != []:\n",
    "            print(\"Harmony: Using guitar with most notes as harmony of\", len(guitars))\n",
    "            guitarwithmostnotes = max(guitars, key=lambda x: x[1])\n",
    "            harmonytrack = guitarwithmostnotes[0]\n",
    "        else:\n",
    "            print(\"Error: no piano or guitar track found\")\n",
    "            harmonytrack = pm.instruments[0].notes\n",
    "            return\n",
    "\n",
    "        if len(melodies) == 1:\n",
    "            print(\"Melody: using only melody track as melody\")\n",
    "            melodytrack = melodies[0]\n",
    "        elif len(melodies) == 2:\n",
    "            print(\"Melody: padding and adding two melodies to one\")\n",
    "            melodytrack = padAndAdd(melodies[0], melodies[1])\n",
    "        elif len(melodies) > 2:\n",
    "            print(\"Melody: more than 2 melody tracks. padding and adding first two of # \", len(melodies),\"melodies.\")\n",
    "            melodytrack = padAndAdd(melodies[0], melodies[1])\n",
    "        else:\n",
    "            print(\"Error: no melody track found.\")\n",
    "            melodytrack = pm.instruments[0].notes\n",
    "            return\n",
    "\n",
    "        return {'melody': melodytrack, 'harmony': harmonytrack}\n",
    "\n",
    "def oneHot(idx, arraysize):\n",
    "    if idx >= arraysize:\n",
    "        print(\"error idx > arraysize\")\n",
    "        return\n",
    "    ar = np.zeros(arraysize)\n",
    "    ar[idx] = 1\n",
    "    return ar\n",
    "\n",
    "def processMidi(file):\n",
    "    pm = pretty_midi.PrettyMIDI(folder+'chords/'+file)\n",
    "    #tracks = getMelodyAndHarmony(file)\n",
    "    #tracks = getMelodyAndHarmonyBass(file) //changing, this doesnt work anymore -> DACBass\n",
    "    tracks = getTracks(file)\n",
    "\n",
    "    pmnotes = tracks['melody']\n",
    "    notes, times = [], []\n",
    "    currenttime = 0\n",
    "    for i, note in enumerate(pmnotes):\n",
    "        if note.start > currenttime:\n",
    "            notes.append(MELODY-1)\n",
    "            duration = pm.time_to_tick(note.start-currenttime)\n",
    "            times.append(duration)\n",
    "        if note.pitch in range(LOW,HIGH):\n",
    "            notes.append(note.pitch - LOW)\n",
    "        else:\n",
    "            notes.append(note.pitch % 12)\n",
    "        if i < len(pmnotes)-1 and note.end > pmnotes[i+1].start: # overlap with next note\n",
    "            times.append(pm.time_to_tick(pmnotes[i+1].start - note.start))\n",
    "            currenttime = pmnotes[i+1].start\n",
    "        else:\n",
    "            times.append(pm.time_to_tick(note.end-note.start))\n",
    "            currenttime = note.end\n",
    "    times = np.array(np.round(np.array(times)/pm.resolution*12),dtype=np.int32)\n",
    "    \n",
    "    # getChords\n",
    "    pmnotes = tracks['harmony']\n",
    "    notesDict = {}\n",
    "    for i, note in enumerate(pmnotes):\n",
    "        startbeat = int(pm.time_to_tick(note.start)/pm.resolution)\n",
    "        endbeat = int(pm.time_to_tick(note.end)/pm.resolution)\n",
    "        if startbeat == endbeat:\n",
    "            endbeat += 1\n",
    "        for j in range(startbeat, endbeat): #evry beat\n",
    "            notesDict[j] = notesDict.get(j,np.zeros(12)) + oneHot(note.pitch % 12,12)\n",
    "    \n",
    "\n",
    "    # append for every beat (timestep) a vector. either np.zeros or chordinfovector\n",
    "    chords = []\n",
    "    for i in range(max(notesDict)): \n",
    "        chords.append(notesDict.get(i,np.zeros(12)))\n",
    "    chordsByBeat = np.array(chords)\n",
    "    \n",
    "\n",
    "    # connect notes and chords\n",
    "    currbeat = 0\n",
    "    newchords = []\n",
    "    for time in times:\n",
    "        beat = int(currbeat/12)\n",
    "        newchord = np.zeros(12)\n",
    "        for j in range(int((time)/12)): \n",
    "            if j+beat < chordsByBeat.shape[0]:\n",
    "                newchord += chordsByBeat[j+beat]\n",
    "        newchords.append(newchord)\n",
    "        currbeat += time\n",
    "    chords = np.array(newchords)\n",
    "    \n",
    "    \n",
    "     #cleanup\n",
    "    times[np.where(times > 48)[0]] = 48\n",
    "    notes = np.array(notes)[np.where(times > 0)[0]]\n",
    "    chords = chords[np.where(times > 0)[0]]\n",
    "    times = times[np.where(times > 0)[0]]\n",
    "    times = times - 1 # reshift to 0..47\n",
    "    \n",
    "    \n",
    "    #new Chord and key analysis, first only key analysis\n",
    "    algkey = ks_key(pm.get_pitch_class_histogram(), 'aarden')\n",
    "    key = oneHot(algkey,24)\n",
    "    \n",
    "    \n",
    "    \n",
    "    \n",
    "    return notes, times, chords, chordsByBeat, key"
   ]
  },
  {
   "cell_type": "code",
   "execution_count": 7,
   "metadata": {
    "colab": {},
    "colab_type": "code",
    "id": "0kvKT9W1Drmi"
   },
   "outputs": [],
   "source": [
    "# Input representation\n",
    "def getCircleOfThirds(note):\n",
    "    \"\"\"input: note, scalar in [0,C)\n",
    "    output: array, size (11,) including 3 bits for octave, 1 for rest\n",
    "    \"\"\"\n",
    "    circleMajor = lambda x: x%4\n",
    "    circleMinor = lambda x: x%3\n",
    "    representation = np.zeros(11)\n",
    "    if note < MELODY-1:\n",
    "        absnote = note % 12\n",
    "        octave = int(note/12)\n",
    "        representation[7+octave] = 1\n",
    "        representation[circleMajor(absnote)] = 1\n",
    "        representation[4+circleMinor(absnote)] = 1\n",
    "    else:\n",
    "        representation[-1] = 1\n",
    "    return representation\n",
    "\n",
    "def getDuration(duration):\n",
    "    \"\"\"input size (1,) in [0,48)\n",
    "       output size (6,)\n",
    "    \"\"\"\n",
    "    return np.unpackbits(np.uint8(duration))[2:]\n",
    "\n",
    "def getChord(chord):\n",
    "    \"\"\"input size (12,)\n",
    "    outputs current and next chord shape (7,)\n",
    "    \"\"\"\n",
    "    repre = np.zeros(7)\n",
    "    for i, elt in enumerate(chord):\n",
    "        x = elt * getCircleOfThirds(i)[:7]\n",
    "        repre += x\n",
    "    return repre\n",
    "\n",
    "def getFeatureVectors(processedMidi, modulation=False):\n",
    "    \"\"\"input size [7(pitch)+2(octaves)+1(Rest)]+6(duration)+7(chords)+7(nextchords)=30=Fsize #TODO: maybe change chords\n",
    "    Creates Feature Vector from notes lists.\n",
    "    Input: notes, times, chords from processMIDI\n",
    "    Output: features array, size: (N, Fsize)  Fsize varies\n",
    "    \"\"\"\n",
    "    notes, times, chords, chordsByBeat, key = processedMidi\n",
    "    features = []\n",
    "    for i, note in enumerate(notes[:-1]):\n",
    "        feature = np.empty(0)\n",
    "        if encodingDict['melody']:\n",
    "            if notes[i] < MELODY: # pitch or pause bit\n",
    "                feature = np.concatenate((feature, oneHot(notes[i],MELODY)))\n",
    "            else:\n",
    "                print(\"melody over 37\")\n",
    "                feature = np.concatenate((feature, np.zeros(MELODY)))\n",
    "            \n",
    "        if encodingDict['melodyModulo']: \n",
    "            if notes[i] < MELODY-1: # only pitch bit or zeros if pause\n",
    "                feature = np.concatenate((feature, oneHot(notes[i]%12,12)))\n",
    "            else:\n",
    "                feature = np.concatenate((feature, np.zeros(12)))\n",
    "        if encodingDict['melodyEncoded']: # pitch+octave+rest\n",
    "            feature = np.concatenate((feature,getCircleOfThirds(note)))\n",
    "        if encodingDict['duration']:\n",
    "            feature = np.concatenate((feature,oneHot(int(times[i]),48)))  \n",
    "        if encodingDict['durationEncoded']:\n",
    "            feature = np.concatenate((feature,getDuration(times[i])))\n",
    "        if encodingDict['chordsNormally']:\n",
    "            feature = np.concatenate((feature,chords[i]))\n",
    "            feature = np.concatenate((feature,chords[i+1]))\n",
    "        if encodingDict['chordsEncoded']:\n",
    "            feature = np.concatenate((feature,getChord(chords[i])))  # chord ERROR: MAKE THIS BETTER\n",
    "            feature = np.concatenate((feature,getChord(chords[i+1])))   # chord ERROR: MAKE THIS BETTER\n",
    "        if encodingDict['key']:\n",
    "            feature = np.concatenate((feature,key))\n",
    "        features.append(feature)\n",
    "    features = np.array(features)\n",
    "    return features.astype('float32')\n",
    "\n",
    "def getInputSequences(processedMidi, padding=False, seq_len=16):\n",
    "    \"\"\"Create Net Input.\n",
    "    Input: features from getFeatureVectors or getEncodedFeatureVectors\n",
    "    Output: \n",
    "        - Sequences, size: (157, seq_len)\n",
    "        - Labels, one-hot, size: (MELODY,)\n",
    "    \"\"\"\n",
    "    features = getFeatureVectors(processedMidi)\n",
    "    notes, times, _, _, _ = processedMidi\n",
    "    sequences = []\n",
    "    labels = []\n",
    "    i = 0\n",
    "    if padding == True:\n",
    "        padded_notes = np.concatenate((np.zeros((seq_len,features.shape[1])),features[:seq_len]))\n",
    "        for j in range(seq_len):\n",
    "            sequences.append(padded_notes[j:j+seq_len])\n",
    "            label_pitch = notes[j]\n",
    "            label_duration = times[j]\n",
    "            labels.append((label_pitch, label_duration))\n",
    "    while i+seq_len < features.shape[0]:\n",
    "        sequences.append(features[i:i+seq_len])\n",
    "        label_pitch = notes[i+seq_len]\n",
    "        label_duration = times[i+seq_len]\n",
    "        labels.append((label_pitch, label_duration))\n",
    "        i += 1     # or += seq_len\n",
    "        \n",
    "    sequences = np.array(sequences)\n",
    "    labels = np.array(labels)\n",
    "    return sequences, labels\n",
    "\n",
    "def modulate(processedMidi, modulate=0):\n",
    "    \"\"\"modulates downwards\"\"\"\n",
    "    notes, times, chords, chordsByBeat, key = processedMidi\n",
    "    i = modulate\n",
    "    modnotes = notes - i\n",
    "    modnotes[np.where(modnotes == 36 - i)[0]] = 36\n",
    "    modnotes[np.where(modnotes < 0)[0]] = 36\n",
    "\n",
    "    modchords = np.append(chords[:,i:],chords[:,:i],axis=1)\n",
    "\n",
    "    if chordsByBeat is not None:\n",
    "        modcbb = np.append(chordsByBeat[:,i:],chordsByBeat[:,:i],axis=1)\n",
    "    else:\n",
    "        modcbb = None\n",
    "\n",
    "    processedMidi = modnotes, times, modchords, modcbb, key\n",
    "    return processedMidi"
   ]
  },
  {
   "cell_type": "code",
   "execution_count": 18,
   "metadata": {
    "colab": {},
    "colab_type": "code",
    "id": "mVE0og8fDrmk"
   },
   "outputs": [],
   "source": [
    "# Choose encoding and load files\n",
    "encodingDict = {\n",
    "    'melody': True,\n",
    "    'melodyModulo': True,\n",
    "    'melodyEncoded': False,\n",
    "    'duration': False,\n",
    "    'durationEncoded': False,\n",
    "    'chordsNormally': True,\n",
    "    'chordsEncoded': False,\n",
    "    'key': False\n",
    "}"
   ]
  },
  {
   "cell_type": "markdown",
   "metadata": {
    "colab_type": "text",
    "id": "0jBnOuprDrmn"
   },
   "source": [
    "# B. Load Data"
   ]
  },
  {
   "cell_type": "code",
   "execution_count": 8,
   "metadata": {
    "colab": {
     "base_uri": "https://localhost:8080/",
     "height": 187
    },
    "colab_type": "code",
    "id": "0SedqNjRDrmo",
    "outputId": "95b6a8f4-84ec-44d8-ad19-99eb596a65ec",
    "scrolled": false
   },
   "outputs": [
    {
     "data": {
      "text/plain": [
       "['014.mid', '028.mid', '029.mid', '015.mid']"
      ]
     },
     "execution_count": 8,
     "metadata": {},
     "output_type": "execute_result"
    }
   ],
   "source": [
    "# gets all .mid filenames from folder train/ in one line\n",
    "folder = 'datasets/trainData/'\n",
    "files = [file for file in os.listdir(folder+'chords')]\n",
    "files[:4]"
   ]
  },
  {
   "cell_type": "code",
   "execution_count": 16,
   "metadata": {},
   "outputs": [
    {
     "data": {
      "text/plain": [
       "(60, 83)"
      ]
     },
     "execution_count": 16,
     "metadata": {},
     "output_type": "execute_result"
    }
   ],
   "source": [
    "# min and max note\n",
    "min([note.pitch for file in files for note in pretty_midi.PrettyMIDI(folder+'melody/'+file).instruments[0].notes]),\\\n",
    "max([note.pitch for file in files for note in pretty_midi.PrettyMIDI(folder+'melody/'+file).instruments[0].notes]),\\\n"
   ]
  },
  {
   "cell_type": "code",
   "execution_count": 90,
   "metadata": {
    "colab": {
     "base_uri": "https://localhost:8080/",
     "height": 1000
    },
    "colab_type": "code",
    "id": "piJAllN6Drmr",
    "outputId": "e820146b-6bc5-4b3c-8a37-2ae149e86e23",
    "scrolled": true
   },
   "outputs": [
    {
     "data": {
      "text/plain": [
       "((16175, 8, 73), (16175, 2))"
      ]
     },
     "execution_count": 90,
     "metadata": {},
     "output_type": "execute_result"
    }
   ],
   "source": [
    "modulation = True\n",
    "\n",
    "for i, file in enumerate(files):\n",
    "#     print(i, file)\n",
    "    processedMidi = processMidi(file)\n",
    "    if modulation == True:\n",
    "        for mod_i in range(12): # modulate\n",
    "            processedMidi = modulate(processedMidi, modulate = mod_i)\n",
    "            sequences, labels = getInputSequences(processedMidi, padding=False, seq_len=8)\n",
    "            if labels.shape[0]>0:\n",
    "                X = sequences if i==0 else np.concatenate((X, sequences))\n",
    "                y = labels if i==0 else np.concatenate((y, labels))\n",
    "    else:\n",
    "        sequences, labels = getInputSequences(processedMidi, padding=False, seq_len=8)\n",
    "        if labels.shape[0] > 0:\n",
    "            X = sequences if i==0 else np.concatenate((X, sequences))\n",
    "            y = labels if i==0 else np.concatenate((y, labels))\n",
    "\n",
    "X.shape, y.shape"
   ]
  },
  {
   "cell_type": "code",
   "execution_count": 91,
   "metadata": {
    "colab": {},
    "colab_type": "code",
    "id": "C9duwFR6NX7f"
   },
   "outputs": [],
   "source": [
    "def writeMidiSample(notes, times, file, originalfile, tempo=120, resolution=12):\n",
    "    pm = pretty_midi.PrettyMIDI(resolution=resolution, initial_tempo=tempo)\n",
    "    pminst = pretty_midi.Instrument(program=0)\n",
    "    currtime = 0\n",
    "    for i, note in enumerate(notes):\n",
    "        if note != MELODY-1:\n",
    "            pitch = note+LOW\n",
    "            start = pm.tick_to_time(int(currtime))\n",
    "            end = pm.tick_to_time(int(currtime+times[i]))\n",
    "            if end > start:\n",
    "                pmnote = pretty_midi.Note(velocity=100, pitch = pitch, start=start, end=end)\n",
    "                pminst.notes.append(pmnote)\n",
    "        currtime += times[i]+1\n",
    "    pm.instruments.append(pminst)\n",
    "\n",
    "    pm.write(file)\n",
    "    return pm"
   ]
  },
  {
   "cell_type": "code",
   "execution_count": 92,
   "metadata": {
    "colab": {
     "base_uri": "https://localhost:8080/",
     "height": 372
    },
    "colab_type": "code",
    "id": "3mOyNUd7NX7i",
    "outputId": "44dcf729-959a-4654-fb76-c0d8be06eec2"
   },
   "outputs": [
    {
     "name": "stdout",
     "output_type": "stream",
     "text": [
      "[24, 23, 21, 26, 26, 35, 33, 31, 26]\n",
      "[12, 24, 12, 2, 26, 14, 9, 7, 5]\n"
     ]
    },
    {
     "data": {
      "text/html": [
       "\n",
       "                <audio  controls=\"controls\" >\n",
       "                    <source src=\"data:audio/wav;base64,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\" type=\"audio/wav\" />\n",
       "                    Your browser does not support the audio element.\n",
       "                </audio>\n",
       "              "
      ],
      "text/plain": [
       "<IPython.lib.display.Audio object>"
      ]
     },
     "metadata": {},
     "output_type": "display_data"
    },
    {
     "data": {
      "image/png": "[encoded data removed]",
      "text/plain": [
       "<Figure size 576x288 with 1 Axes>"
      ]
     },
     "metadata": {
      "image/png": {
       "height": 261,
       "width": 494
      },
      "needs_background": "light"
     },
     "output_type": "display_data"
    }
   ],
   "source": [
    "rand = random.randint(1,101)\n",
    "sample, samplelabel = X[rand], y[rand]\n",
    "\n",
    "\n",
    "notes, times = [], []\n",
    "for i in range(sample.shape[0]):\n",
    "    notes.append(np.argmax(sample[i,:MELODY]))\n",
    "    times.append(np.argmax(sample[i,MELODY:MELODY+TIMES]))\n",
    "notes.append(samplelabel[0])\n",
    "times.append(samplelabel[1])\n",
    "\n",
    "\n",
    "\n",
    "#look at a sample\n",
    "pm = writeMidiSample(notes, times, 'old_notebooks/treval/lookatsample.mid', file)\n",
    "plt.figure(figsize=(8, 4))\n",
    "plot_piano_roll(pm, LOW, HIGH)\n",
    "print(notes)\n",
    "print(times)\n",
    "display(IPython.display.Audio(pm.synthesize(fs=44000), rate=44000))   "
   ]
  },
  {
   "cell_type": "code",
   "execution_count": 0,
   "metadata": {
    "colab": {},
    "colab_type": "code",
    "id": "-Eyy1AH9NX7o"
   },
   "outputs": [],
   "source": [
    "#np.save('Xbig.npy',X)\n",
    "#np.save('ybig.npy',y)"
   ]
  },
  {
   "cell_type": "markdown",
   "metadata": {
    "colab_type": "text",
    "id": "aMgIdT4TNX7s"
   },
   "source": [
    "# just load"
   ]
  },
  {
   "cell_type": "code",
   "execution_count": 0,
   "metadata": {
    "colab": {},
    "colab_type": "code",
    "id": "d3o0rxw2NX7u"
   },
   "outputs": [],
   "source": [
    "# X = np.load('Xbig.npy')\n",
    "# y = np.load('ybig.npy')"
   ]
  },
  {
   "cell_type": "code",
   "execution_count": 93,
   "metadata": {
    "colab": {
     "base_uri": "https://localhost:8080/",
     "height": 284
    },
    "colab_type": "code",
    "id": "Uv4TY09ZDrmv",
    "outputId": "2a7b8077-6cb2-419a-fe73-6f931330ab84",
    "scrolled": false
   },
   "outputs": [
    {
     "data": {
      "text/plain": [
       "<matplotlib.axes._subplots.AxesSubplot at 0x1352cafd0>"
      ]
     },
     "execution_count": 93,
     "metadata": {},
     "output_type": "execute_result"
    },
    {
     "data": {
      "image/png": "[encoded data removed]",
      "text/plain": [
       "<Figure size 432x288 with 1 Axes>"
      ]
     },
     "metadata": {
      "image/png": {
       "height": 248,
       "width": 395
      },
      "needs_background": "light"
     },
     "output_type": "display_data"
    }
   ],
   "source": [
    "# stats of training data\n",
    "pitches = y[:,0]\n",
    "durations = y[:,1]\n",
    "sns.countplot(durations)"
   ]
  },
  {
   "cell_type": "code",
   "execution_count": 94,
   "metadata": {
    "colab": {
     "base_uri": "https://localhost:8080/",
     "height": 284
    },
    "colab_type": "code",
    "id": "uo0GQJA1Drmy",
    "outputId": "09ded831-1a45-4f91-ef0a-94925377d957",
    "scrolled": true
   },
   "outputs": [
    {
     "data": {
      "text/plain": [
       "<matplotlib.axes._subplots.AxesSubplot at 0x135428d68>"
      ]
     },
     "execution_count": 94,
     "metadata": {},
     "output_type": "execute_result"
    },
    {
     "data": {
      "image/png": "[encoded data removed]",
      "text/plain": [
       "<Figure size 432x288 with 1 Axes>"
      ]
     },
     "metadata": {
      "image/png": {
       "height": 250,
       "width": 397
      },
      "needs_background": "light"
     },
     "output_type": "display_data"
    }
   ],
   "source": [
    "sns.countplot(pitches)"
   ]
  },
  {
   "cell_type": "code",
   "execution_count": 25,
   "metadata": {
    "colab": {
     "base_uri": "https://localhost:8080/",
     "height": 34
    },
    "colab_type": "code",
    "id": "kvY1xcgiDrm2",
    "outputId": "b99dfaac-21e4-4f42-a436-99ee1fb59d7a",
    "scrolled": false
   },
   "outputs": [
    {
     "data": {
      "text/plain": [
       "((1099, 8, 73), (1099, 2))"
      ]
     },
     "execution_count": 25,
     "metadata": {},
     "output_type": "execute_result"
    }
   ],
   "source": [
    "# train/val split\n",
    "n = 500000\n",
    "n = min(n,X.shape[0])\n",
    "m = int(0.9*n)\n",
    "data = X[:m]\n",
    "labels = y[:m]\n",
    "test_data = X[m:n]\n",
    "test_labels = y[m:n]\n",
    "\n",
    "perm = np.random.permutation(m)\n",
    "p = int(0.9*m)\n",
    "\n",
    "train_data = data[perm[:p]]\n",
    "train_labels = labels[perm[:p]]\n",
    "val_data = data[perm[p:]]\n",
    "val_labels = labels[perm[p:]]\n",
    "\n",
    "train_data.shape, train_labels.shape"
   ]
  },
  {
   "cell_type": "markdown",
   "metadata": {
    "colab_type": "text",
    "id": "b77owDQ-Drm5"
   },
   "source": [
    "### Load Data for Tensorflow"
   ]
  },
  {
   "cell_type": "code",
   "execution_count": 26,
   "metadata": {
    "colab": {},
    "colab_type": "code",
    "id": "402GwxTyNX8C"
   },
   "outputs": [],
   "source": [
    "batch_size = 32\n",
    "dataset = tf.data.Dataset.from_tensor_slices((train_data, train_labels))\n",
    "dataset = dataset.batch(batch_size, drop_remainder=True)\n",
    "valdataset = tf.data.Dataset.from_tensor_slices((val_data, val_labels))\n",
    "valdataset = valdataset.batch(batch_size, drop_remainder=True)"
   ]
  },
  {
   "cell_type": "code",
   "execution_count": 27,
   "metadata": {
    "colab": {},
    "colab_type": "code",
    "id": "0Ps1leCZDrm6",
    "scrolled": false
   },
   "outputs": [],
   "source": [
    "# ToDo\n",
    "# weighted randomsampler!\n",
    "# batchnormalization"
   ]
  },
  {
   "cell_type": "markdown",
   "metadata": {
    "colab_type": "text",
    "id": "IhxqWi8YDrm8"
   },
   "source": [
    "# C. Train a model"
   ]
  },
  {
   "cell_type": "code",
   "execution_count": 34,
   "metadata": {
    "colab": {},
    "colab_type": "code",
    "id": "XPH5jO9WNX8H"
   },
   "outputs": [],
   "source": [
    "def build(input_dim, seq_len, hidden_dim, num_layers, output_dim_pitch, output_dim_duration):\n",
    "    if tf.test.is_gpu_available():\n",
    "        LSTM = tf.keras.layers.CuDNNLSTM(hidden_dim, \n",
    "                                    return_sequences=True, \n",
    "                                    return_state=False, \n",
    "                                    recurrent_initializer='glorot_uniform')\n",
    "        lastlstm = tf.keras.layers.CuDNNLSTM(hidden_dim, \n",
    "                                    return_sequences=False, \n",
    "                                    return_state=False, \n",
    "                                    recurrent_initializer='glorot_uniform')\n",
    "    else:\n",
    "        LSTM = tf.keras.layers.LSTM(hidden_dim, \n",
    "                               return_sequences=True, \n",
    "                               return_state=False, \n",
    "                               recurrent_activation='sigmoid', \n",
    "                               recurrent_initializer='glorot_uniform')\n",
    "        lastlstm = tf.keras.layers.LSTM(hidden_dim, \n",
    "                               return_sequences=False, \n",
    "                               return_state=False, \n",
    "                               recurrent_activation='sigmoid', \n",
    "                               recurrent_initializer='glorot_uniform')\n",
    "    \n",
    "        \n",
    "    inputs = tf.keras.Input(shape=(seq_len, input_dim))\n",
    "    x = inputs\n",
    "    for i in range(num_layers-1):\n",
    "        x = LSTM(x)\n",
    "    x = lastlstm(x)\n",
    "    x = tf.keras.layers.Dropout(rate=0.3)(x)\n",
    "    pitch = tf.keras.layers.Dense(output_dim_pitch, activation='softmax', name='pitch_out')(x)\n",
    "#     duration = tf.keras.layers.Dense(output_dim_duration, activation='softmax', name='duration_out')(x)\n",
    "\n",
    "    model = tf.keras.Model(inputs=inputs, outputs=pitch)\n",
    "    return model\n",
    "    "
   ]
  },
  {
   "cell_type": "code",
   "execution_count": 35,
   "metadata": {
    "colab": {},
    "colab_type": "code",
    "id": "DcBZ0X21NX8K"
   },
   "outputs": [],
   "source": [
    "# Build Model\n",
    "model_params = {\n",
    "    'input_dim': train_data.shape[-1],\n",
    "    'seq_len': 8,\n",
    "    'hidden_dim': 64,\n",
    "    'num_layers': 2,\n",
    "    'output_dim_pitch': MELODY,\n",
    "    'output_dim_duration': TIMES,\n",
    "}\n",
    "\n",
    "model = build(**model_params)"
   ]
  },
  {
   "cell_type": "code",
   "execution_count": 30,
   "metadata": {
    "colab": {},
    "colab_type": "code",
    "id": "5VJuTqB8NX8M"
   },
   "outputs": [],
   "source": [
    "# tf.keras.utils.plot_model(model, show_shapes=True)"
   ]
  },
  {
   "cell_type": "code",
   "execution_count": 31,
   "metadata": {
    "colab": {},
    "colab_type": "code",
    "id": "mFzXM-XbNX8Q"
   },
   "outputs": [],
   "source": [
    "# checkpoint_dir = './training_checkpoints'\n",
    "# checkpoint_prefix = os.path.join(checkpoint_dir, \"ckpt\")\n",
    "# #checkpoint = tf.train.Checkpoint(optimizer=optimizer, model=model)"
   ]
  },
  {
   "cell_type": "code",
   "execution_count": 44,
   "metadata": {
    "colab": {},
    "colab_type": "code",
    "id": "yICpioTmNX8T"
   },
   "outputs": [],
   "source": [
    "model.compile(\n",
    "    optimizer='adam',\n",
    "    loss={'pitch_out': 'sparse_categorical_crossentropy'},\n",
    "    metrics={'pitch_out': 'acc'})"
   ]
  },
  {
   "cell_type": "code",
   "execution_count": 45,
   "metadata": {
    "colab": {
     "base_uri": "https://localhost:8080/",
     "height": 224
    },
    "colab_type": "code",
    "id": "15Uvd6h0NX8X",
    "outputId": "6e21f803-48ee-4a5e-bc82-f179af2ccd7b",
    "scrolled": false
   },
   "outputs": [
    {
     "name": "stdout",
     "output_type": "stream",
     "text": [
      "Epoch 1/20\n",
      "1099/1099 [==============================] - 2s 2ms/sample - loss: 0.5801 - acc: 0.8116\n",
      "Epoch 2/20\n",
      "1099/1099 [==============================] - 1s 620us/sample - loss: 0.5550 - acc: 0.8107\n",
      "Epoch 3/20\n",
      "1099/1099 [==============================] - 1s 560us/sample - loss: 0.4857 - acc: 0.8435\n",
      "Epoch 4/20\n",
      "1099/1099 [==============================] - 1s 617us/sample - loss: 0.4612 - acc: 0.8435\n",
      "Epoch 5/20\n",
      "1099/1099 [==============================] - 1s 582us/sample - loss: 0.4759 - acc: 0.8490\n",
      "Epoch 6/20\n",
      "1099/1099 [==============================] - 1s 598us/sample - loss: 0.4596 - acc: 0.8417\n",
      "Epoch 7/20\n",
      "1099/1099 [==============================] - 1s 605us/sample - loss: 0.4309 - acc: 0.8681\n",
      "Epoch 8/20\n",
      "1099/1099 [==============================] - 1s 589us/sample - loss: 0.4094 - acc: 0.8708\n",
      "Epoch 9/20\n",
      "1099/1099 [==============================] - 1s 616us/sample - loss: 0.4117 - acc: 0.8753\n",
      "Epoch 10/20\n",
      "1099/1099 [==============================] - 1s 801us/sample - loss: 0.3995 - acc: 0.8753\n",
      "Epoch 11/20\n",
      "1099/1099 [==============================] - 1s 729us/sample - loss: 0.3927 - acc: 0.8735\n",
      "Epoch 12/20\n",
      "1099/1099 [==============================] - 1s 738us/sample - loss: 0.3828 - acc: 0.8781\n",
      "Epoch 13/20\n",
      "1099/1099 [==============================] - 1s 995us/sample - loss: 0.3527 - acc: 0.8835\n",
      "Epoch 14/20\n",
      "1099/1099 [==============================] - 1s 705us/sample - loss: 0.3519 - acc: 0.9045\n",
      "Epoch 15/20\n",
      "1099/1099 [==============================] - 1s 725us/sample - loss: 0.3539 - acc: 0.8844s - loss: 0.3101 \n",
      "Epoch 16/20\n",
      "1099/1099 [==============================] - 1s 627us/sample - loss: 0.3677 - acc: 0.8808\n",
      "Epoch 17/20\n",
      "1099/1099 [==============================] - 1s 617us/sample - loss: 0.3107 - acc: 0.9108\n",
      "Epoch 18/20\n",
      "1099/1099 [==============================] - 1s 661us/sample - loss: 0.3089 - acc: 0.9072\n",
      "Epoch 19/20\n",
      "1099/1099 [==============================] - 1s 709us/sample - loss: 0.3331 - acc: 0.8935\n",
      "Epoch 20/20\n",
      "1099/1099 [==============================] - 1s 607us/sample - loss: 0.3133 - acc: 0.9017\n"
     ]
    },
    {
     "data": {
      "text/plain": [
       "<tensorflow.python.keras.callbacks.History at 0x134e27b00>"
      ]
     },
     "execution_count": 45,
     "metadata": {},
     "output_type": "execute_result"
    }
   ],
   "source": [
    "model.fit(train_data, train_labels[:,0], batch_size=32, epochs=20)"
   ]
  },
  {
   "cell_type": "code",
   "execution_count": 46,
   "metadata": {
    "colab": {
     "base_uri": "https://localhost:8080/",
     "height": 71
    },
    "colab_type": "code",
    "id": "eG2iMqmTNX8a",
    "outputId": "fd88fa97-813f-40b3-e6e0-73804ffd8272",
    "scrolled": true
   },
   "outputs": [
    {
     "name": "stdout",
     "output_type": "stream",
     "text": [
      "123/123 [==============================] - 1s 5ms/sample - loss: 2.9465 - acc: 0.4065\n"
     ]
    },
    {
     "data": {
      "text/plain": [
       "[2.9464889890779324, 0.40650406]"
      ]
     },
     "execution_count": 46,
     "metadata": {},
     "output_type": "execute_result"
    }
   ],
   "source": [
    "model.evaluate(val_data,val_labels[:,0])"
   ]
  },
  {
   "cell_type": "code",
   "execution_count": 47,
   "metadata": {
    "colab": {
     "base_uri": "https://localhost:8080/",
     "height": 71
    },
    "colab_type": "code",
    "id": "CUZLuoapNX8e",
    "outputId": "cc96d46f-9520-4052-e172-d85e8c464f02"
   },
   "outputs": [
    {
     "name": "stdout",
     "output_type": "stream",
     "text": [
      "136/136 [==============================] - 0s 324us/sample - loss: 4.1552 - acc: 0.1912\n"
     ]
    },
    {
     "data": {
      "text/plain": [
       "[4.155161128324621, 0.19117647]"
      ]
     },
     "execution_count": 47,
     "metadata": {},
     "output_type": "execute_result"
    }
   ],
   "source": [
    "model.evaluate(test_data,test_labels[:,0])"
   ]
  },
  {
   "cell_type": "code",
   "execution_count": 89,
   "metadata": {
    "colab": {},
    "colab_type": "code",
    "id": "u_3MYYPpNX8g",
    "scrolled": true
   },
   "outputs": [],
   "source": [
    "# model.save('deploy/tfjs/model3.h5')"
   ]
  },
  {
   "cell_type": "code",
   "execution_count": 0,
   "metadata": {
    "colab": {},
    "colab_type": "code",
    "id": "dUHng5XMNX8l"
   },
   "outputs": [],
   "source": [
    "# tensorflowjs_converter --input_format keras \\\n",
    "#                        path/to/my_model.h5 \\\n",
    "#                        path/to/tfjs_target_dir\n",
    "# \n",
    "# python -m SimpleHTTPServer 8000"
   ]
  },
  {
   "cell_type": "code",
   "execution_count": 53,
   "metadata": {},
   "outputs": [],
   "source": [
    "# Test Example: one prediction"
   ]
  },
  {
   "cell_type": "code",
   "execution_count": 65,
   "metadata": {},
   "outputs": [],
   "source": [
    "keys_chroma = ['C','C#','D','D#','E','F','F#','G','G#','A','A#','B',\n",
    "        'C-','C#-','D-','D#-','E-','F-','F#-','G-','G#-','A-','A#-','B-']\n",
    "keys_chroma_dict = dict(enumerate(keys_chroma))\n",
    "keys_chroma_dict_reverse = {v: k for k, v in keys_chroma_dict.items()}\n",
    "def getPitch(note):\n",
    "    return keys_chroma_dict[note%12]"
   ]
  },
  {
   "cell_type": "code",
   "execution_count": 87,
   "metadata": {
    "colab": {},
    "colab_type": "code",
    "id": "rrUapn9JNX8o"
   },
   "outputs": [
    {
     "data": {
      "text/plain": [
       "['D', 'C', 'A', 'E', 'D', 'A#', 'A#', 'A']"
      ]
     },
     "metadata": {},
     "output_type": "display_data"
    },
    {
     "data": {
      "text/plain": [
       "'A'"
      ]
     },
     "metadata": {},
     "output_type": "display_data"
    },
    {
     "data": {
      "text/plain": [
       "'A#'"
      ]
     },
     "metadata": {},
     "output_type": "display_data"
    },
    {
     "data": {
      "text/plain": [
       "['C', 'A', 'E', 'D', 'A#', 'A#', 'A', 'A#']"
      ]
     },
     "metadata": {},
     "output_type": "display_data"
    },
    {
     "data": {
      "text/plain": [
       "'A'"
      ]
     },
     "metadata": {},
     "output_type": "display_data"
    },
    {
     "data": {
      "text/plain": [
       "'F'"
      ]
     },
     "metadata": {},
     "output_type": "display_data"
    },
    {
     "data": {
      "text/plain": [
       "['A', 'E', 'D', 'A#', 'A#', 'A', 'A#', 'F']"
      ]
     },
     "metadata": {},
     "output_type": "display_data"
    },
    {
     "data": {
      "text/plain": [
       "'G'"
      ]
     },
     "metadata": {},
     "output_type": "display_data"
    },
    {
     "data": {
      "text/plain": [
       "'F'"
      ]
     },
     "metadata": {},
     "output_type": "display_data"
    },
    {
     "data": {
      "text/plain": [
       "['E', 'D', 'A#', 'A#', 'A', 'A#', 'F', 'F']"
      ]
     },
     "metadata": {},
     "output_type": "display_data"
    },
    {
     "data": {
      "text/plain": [
       "'A'"
      ]
     },
     "metadata": {},
     "output_type": "display_data"
    },
    {
     "data": {
      "text/plain": [
       "'C'"
      ]
     },
     "metadata": {},
     "output_type": "display_data"
    },
    {
     "data": {
      "text/plain": [
       "['D', 'A#', 'A#', 'A', 'A#', 'F', 'F', 'C']"
      ]
     },
     "metadata": {},
     "output_type": "display_data"
    },
    {
     "data": {
      "text/plain": [
       "'A'"
      ]
     },
     "metadata": {},
     "output_type": "display_data"
    },
    {
     "data": {
      "text/plain": [
       "'A'"
      ]
     },
     "metadata": {},
     "output_type": "display_data"
    },
    {
     "data": {
      "text/plain": [
       "['A#', 'A#', 'A', 'A#', 'F', 'F', 'C', 'A']"
      ]
     },
     "metadata": {},
     "output_type": "display_data"
    },
    {
     "data": {
      "text/plain": [
       "'A'"
      ]
     },
     "metadata": {},
     "output_type": "display_data"
    },
    {
     "data": {
      "text/plain": [
       "'A'"
      ]
     },
     "metadata": {},
     "output_type": "display_data"
    },
    {
     "data": {
      "text/plain": [
       "['A#', 'A', 'A#', 'F', 'F', 'C', 'A', 'A']"
      ]
     },
     "metadata": {},
     "output_type": "display_data"
    },
    {
     "data": {
      "text/plain": [
       "'A'"
      ]
     },
     "metadata": {},
     "output_type": "display_data"
    },
    {
     "data": {
      "text/plain": [
       "'A'"
      ]
     },
     "metadata": {},
     "output_type": "display_data"
    },
    {
     "data": {
      "text/plain": [
       "['A', 'A#', 'F', 'F', 'C', 'A', 'A', 'A']"
      ]
     },
     "metadata": {},
     "output_type": "display_data"
    },
    {
     "data": {
      "text/plain": [
       "'A'"
      ]
     },
     "metadata": {},
     "output_type": "display_data"
    },
    {
     "data": {
      "text/plain": [
       "'D'"
      ]
     },
     "metadata": {},
     "output_type": "display_data"
    },
    {
     "data": {
      "text/plain": [
       "['A#', 'F', 'F', 'C', 'A', 'A', 'A', 'D']"
      ]
     },
     "metadata": {},
     "output_type": "display_data"
    },
    {
     "data": {
      "text/plain": [
       "'G'"
      ]
     },
     "metadata": {},
     "output_type": "display_data"
    },
    {
     "data": {
      "text/plain": [
       "'A'"
      ]
     },
     "metadata": {},
     "output_type": "display_data"
    },
    {
     "data": {
      "text/plain": [
       "['F', 'F', 'C', 'A', 'A', 'A', 'D', 'A']"
      ]
     },
     "metadata": {},
     "output_type": "display_data"
    },
    {
     "data": {
      "text/plain": [
       "'G'"
      ]
     },
     "metadata": {},
     "output_type": "display_data"
    },
    {
     "data": {
      "text/plain": [
       "'G'"
      ]
     },
     "metadata": {},
     "output_type": "display_data"
    },
    {
     "data": {
      "text/plain": [
       "['F', 'C', 'A', 'A', 'A', 'D', 'A', 'G']"
      ]
     },
     "metadata": {},
     "output_type": "display_data"
    },
    {
     "data": {
      "text/plain": [
       "'G'"
      ]
     },
     "metadata": {},
     "output_type": "display_data"
    },
    {
     "data": {
      "text/plain": [
       "'F'"
      ]
     },
     "metadata": {},
     "output_type": "display_data"
    },
    {
     "data": {
      "text/plain": [
       "['C', 'A', 'A', 'A', 'D', 'A', 'G', 'F']"
      ]
     },
     "metadata": {},
     "output_type": "display_data"
    },
    {
     "data": {
      "text/plain": [
       "'F'"
      ]
     },
     "metadata": {},
     "output_type": "display_data"
    },
    {
     "data": {
      "text/plain": [
       "'F'"
      ]
     },
     "metadata": {},
     "output_type": "display_data"
    },
    {
     "data": {
      "text/plain": [
       "['A', 'A', 'A', 'D', 'A', 'G', 'F', 'F']"
      ]
     },
     "metadata": {},
     "output_type": "display_data"
    },
    {
     "data": {
      "text/plain": [
       "'G'"
      ]
     },
     "metadata": {},
     "output_type": "display_data"
    },
    {
     "data": {
      "text/plain": [
       "'G'"
      ]
     },
     "metadata": {},
     "output_type": "display_data"
    },
    {
     "data": {
      "text/plain": [
       "['A', 'A', 'D', 'A', 'G', 'F', 'F', 'G']"
      ]
     },
     "metadata": {},
     "output_type": "display_data"
    },
    {
     "data": {
      "text/plain": [
       "'A'"
      ]
     },
     "metadata": {},
     "output_type": "display_data"
    },
    {
     "data": {
      "text/plain": [
       "'A'"
      ]
     },
     "metadata": {},
     "output_type": "display_data"
    },
    {
     "data": {
      "text/plain": [
       "['A', 'D', 'A', 'G', 'F', 'F', 'G', 'A']"
      ]
     },
     "metadata": {},
     "output_type": "display_data"
    },
    {
     "data": {
      "text/plain": [
       "'A'"
      ]
     },
     "metadata": {},
     "output_type": "display_data"
    },
    {
     "data": {
      "text/plain": [
       "'A'"
      ]
     },
     "metadata": {},
     "output_type": "display_data"
    },
    {
     "data": {
      "text/plain": [
       "['D', 'A', 'G', 'F', 'F', 'G', 'A', 'A']"
      ]
     },
     "metadata": {},
     "output_type": "display_data"
    },
    {
     "data": {
      "text/plain": [
       "'A'"
      ]
     },
     "metadata": {},
     "output_type": "display_data"
    },
    {
     "data": {
      "text/plain": [
       "'A'"
      ]
     },
     "metadata": {},
     "output_type": "display_data"
    },
    {
     "data": {
      "text/plain": [
       "['C', 'E', 'F', 'E', 'G', 'G', 'G', 'C']"
      ]
     },
     "metadata": {},
     "output_type": "display_data"
    },
    {
     "data": {
      "text/plain": [
       "'F'"
      ]
     },
     "metadata": {},
     "output_type": "display_data"
    },
    {
     "data": {
      "text/plain": [
       "'G'"
      ]
     },
     "metadata": {},
     "output_type": "display_data"
    },
    {
     "data": {
      "text/plain": [
       "['E', 'F', 'E', 'G', 'G', 'G', 'C', 'G']"
      ]
     },
     "metadata": {},
     "output_type": "display_data"
    },
    {
     "data": {
      "text/plain": [
       "'F'"
      ]
     },
     "metadata": {},
     "output_type": "display_data"
    },
    {
     "data": {
      "text/plain": [
       "'G'"
      ]
     },
     "metadata": {},
     "output_type": "display_data"
    },
    {
     "data": {
      "text/plain": [
       "['F', 'E', 'G', 'G', 'G', 'C', 'G', 'G']"
      ]
     },
     "metadata": {},
     "output_type": "display_data"
    },
    {
     "data": {
      "text/plain": [
       "'C'"
      ]
     },
     "metadata": {},
     "output_type": "display_data"
    },
    {
     "data": {
      "text/plain": [
       "'F'"
      ]
     },
     "metadata": {},
     "output_type": "display_data"
    },
    {
     "data": {
      "text/plain": [
       "['E', 'G', 'G', 'G', 'C', 'G', 'G', 'F']"
      ]
     },
     "metadata": {},
     "output_type": "display_data"
    },
    {
     "data": {
      "text/plain": [
       "'E'"
      ]
     },
     "metadata": {},
     "output_type": "display_data"
    },
    {
     "data": {
      "text/plain": [
       "'G'"
      ]
     },
     "metadata": {},
     "output_type": "display_data"
    },
    {
     "data": {
      "text/plain": [
       "['G', 'G', 'G', 'C', 'G', 'G', 'F', 'G']"
      ]
     },
     "metadata": {},
     "output_type": "display_data"
    },
    {
     "data": {
      "text/plain": [
       "'A'"
      ]
     },
     "metadata": {},
     "output_type": "display_data"
    },
    {
     "data": {
      "text/plain": [
       "'A#'"
      ]
     },
     "metadata": {},
     "output_type": "display_data"
    },
    {
     "data": {
      "text/plain": [
       "['G', 'G', 'C', 'G', 'G', 'F', 'G', 'A#']"
      ]
     },
     "metadata": {},
     "output_type": "display_data"
    },
    {
     "data": {
      "text/plain": [
       "'F'"
      ]
     },
     "metadata": {},
     "output_type": "display_data"
    },
    {
     "data": {
      "text/plain": [
       "'G'"
      ]
     },
     "metadata": {},
     "output_type": "display_data"
    },
    {
     "data": {
      "text/plain": [
       "['G', 'C', 'G', 'G', 'F', 'G', 'A#', 'G']"
      ]
     },
     "metadata": {},
     "output_type": "display_data"
    },
    {
     "data": {
      "text/plain": [
       "'C'"
      ]
     },
     "metadata": {},
     "output_type": "display_data"
    },
    {
     "data": {
      "text/plain": [
       "'F'"
      ]
     },
     "metadata": {},
     "output_type": "display_data"
    },
    {
     "data": {
      "text/plain": [
       "['C', 'G', 'G', 'F', 'G', 'A#', 'G', 'F']"
      ]
     },
     "metadata": {},
     "output_type": "display_data"
    },
    {
     "data": {
      "text/plain": [
       "'C'"
      ]
     },
     "metadata": {},
     "output_type": "display_data"
    },
    {
     "data": {
      "text/plain": [
       "'G'"
      ]
     },
     "metadata": {},
     "output_type": "display_data"
    },
    {
     "data": {
      "text/plain": [
       "['G', 'G', 'F', 'G', 'A#', 'G', 'F', 'G']"
      ]
     },
     "metadata": {},
     "output_type": "display_data"
    },
    {
     "data": {
      "text/plain": [
       "'C'"
      ]
     },
     "metadata": {},
     "output_type": "display_data"
    },
    {
     "data": {
      "text/plain": [
       "'F'"
      ]
     },
     "metadata": {},
     "output_type": "display_data"
    },
    {
     "data": {
      "text/plain": [
       "['G', 'F', 'G', 'A#', 'G', 'F', 'G', 'F']"
      ]
     },
     "metadata": {},
     "output_type": "display_data"
    },
    {
     "data": {
      "text/plain": [
       "'A'"
      ]
     },
     "metadata": {},
     "output_type": "display_data"
    },
    {
     "data": {
      "text/plain": [
       "'E'"
      ]
     },
     "metadata": {},
     "output_type": "display_data"
    },
    {
     "data": {
      "text/plain": [
       "['F', 'G', 'A#', 'G', 'F', 'G', 'F', 'E']"
      ]
     },
     "metadata": {},
     "output_type": "display_data"
    },
    {
     "data": {
      "text/plain": [
       "'A'"
      ]
     },
     "metadata": {},
     "output_type": "display_data"
    },
    {
     "data": {
      "text/plain": [
       "'C'"
      ]
     },
     "metadata": {},
     "output_type": "display_data"
    },
    {
     "data": {
      "text/plain": [
       "['G', 'A#', 'G', 'F', 'G', 'F', 'E', 'C']"
      ]
     },
     "metadata": {},
     "output_type": "display_data"
    },
    {
     "data": {
      "text/plain": [
       "'A'"
      ]
     },
     "metadata": {},
     "output_type": "display_data"
    },
    {
     "data": {
      "text/plain": [
       "'E'"
      ]
     },
     "metadata": {},
     "output_type": "display_data"
    },
    {
     "data": {
      "text/plain": [
       "['A#', 'G', 'F', 'G', 'F', 'E', 'C', 'E']"
      ]
     },
     "metadata": {},
     "output_type": "display_data"
    },
    {
     "data": {
      "text/plain": [
       "'F'"
      ]
     },
     "metadata": {},
     "output_type": "display_data"
    },
    {
     "data": {
      "text/plain": [
       "'F'"
      ]
     },
     "metadata": {},
     "output_type": "display_data"
    },
    {
     "data": {
      "text/plain": [
       "['G', 'F', 'G', 'F', 'E', 'C', 'E', 'F']"
      ]
     },
     "metadata": {},
     "output_type": "display_data"
    },
    {
     "data": {
      "text/plain": [
       "'F'"
      ]
     },
     "metadata": {},
     "output_type": "display_data"
    },
    {
     "data": {
      "text/plain": [
       "'E'"
      ]
     },
     "metadata": {},
     "output_type": "display_data"
    },
    {
     "data": {
      "text/plain": [
       "['F', 'G', 'F', 'E', 'C', 'E', 'F', 'E']"
      ]
     },
     "metadata": {},
     "output_type": "display_data"
    },
    {
     "data": {
      "text/plain": [
       "'F'"
      ]
     },
     "metadata": {},
     "output_type": "display_data"
    },
    {
     "data": {
      "text/plain": [
       "'G'"
      ]
     },
     "metadata": {},
     "output_type": "display_data"
    },
    {
     "data": {
      "text/plain": [
       "['G', 'F', 'E', 'C', 'E', 'F', 'E', 'G']"
      ]
     },
     "metadata": {},
     "output_type": "display_data"
    },
    {
     "data": {
      "text/plain": [
       "'F'"
      ]
     },
     "metadata": {},
     "output_type": "display_data"
    },
    {
     "data": {
      "text/plain": [
       "'G'"
      ]
     },
     "metadata": {},
     "output_type": "display_data"
    },
    {
     "data": {
      "text/plain": [
       "['F', 'E', 'C', 'E', 'F', 'E', 'G', 'G']"
      ]
     },
     "metadata": {},
     "output_type": "display_data"
    },
    {
     "data": {
      "text/plain": [
       "'F'"
      ]
     },
     "metadata": {},
     "output_type": "display_data"
    },
    {
     "data": {
      "text/plain": [
       "'G'"
      ]
     },
     "metadata": {},
     "output_type": "display_data"
    },
    {
     "data": {
      "text/plain": [
       "['E', 'C', 'E', 'F', 'E', 'G', 'G', 'G']"
      ]
     },
     "metadata": {},
     "output_type": "display_data"
    },
    {
     "data": {
      "text/plain": [
       "'G'"
      ]
     },
     "metadata": {},
     "output_type": "display_data"
    },
    {
     "data": {
      "text/plain": [
       "'C'"
      ]
     },
     "metadata": {},
     "output_type": "display_data"
    },
    {
     "data": {
      "text/plain": [
       "['C', 'E', 'F', 'E', 'G', 'G', 'G', 'C']"
      ]
     },
     "metadata": {},
     "output_type": "display_data"
    },
    {
     "data": {
      "text/plain": [
       "'F'"
      ]
     },
     "metadata": {},
     "output_type": "display_data"
    },
    {
     "data": {
      "text/plain": [
       "'G'"
      ]
     },
     "metadata": {},
     "output_type": "display_data"
    },
    {
     "data": {
      "text/plain": [
       "['E', 'F', 'E', 'G', 'G', 'G', 'C', 'G']"
      ]
     },
     "metadata": {},
     "output_type": "display_data"
    },
    {
     "data": {
      "text/plain": [
       "'F'"
      ]
     },
     "metadata": {},
     "output_type": "display_data"
    },
    {
     "data": {
      "text/plain": [
       "'G'"
      ]
     },
     "metadata": {},
     "output_type": "display_data"
    },
    {
     "data": {
      "text/plain": [
       "['F', 'E', 'G', 'G', 'G', 'C', 'G', 'G']"
      ]
     },
     "metadata": {},
     "output_type": "display_data"
    },
    {
     "data": {
      "text/plain": [
       "'C'"
      ]
     },
     "metadata": {},
     "output_type": "display_data"
    },
    {
     "data": {
      "text/plain": [
       "'F'"
      ]
     },
     "metadata": {},
     "output_type": "display_data"
    },
    {
     "data": {
      "text/plain": [
       "['E', 'G', 'G', 'G', 'C', 'G', 'G', 'F']"
      ]
     },
     "metadata": {},
     "output_type": "display_data"
    },
    {
     "data": {
      "text/plain": [
       "'E'"
      ]
     },
     "metadata": {},
     "output_type": "display_data"
    },
    {
     "data": {
      "text/plain": [
       "'G'"
      ]
     },
     "metadata": {},
     "output_type": "display_data"
    },
    {
     "data": {
      "text/plain": [
       "['G', 'G', 'G', 'C', 'G', 'G', 'F', 'G']"
      ]
     },
     "metadata": {},
     "output_type": "display_data"
    },
    {
     "data": {
      "text/plain": [
       "'A'"
      ]
     },
     "metadata": {},
     "output_type": "display_data"
    },
    {
     "data": {
      "text/plain": [
       "'A#'"
      ]
     },
     "metadata": {},
     "output_type": "display_data"
    },
    {
     "data": {
      "text/plain": [
       "['G', 'G', 'C', 'G', 'G', 'F', 'G', 'A#']"
      ]
     },
     "metadata": {},
     "output_type": "display_data"
    },
    {
     "data": {
      "text/plain": [
       "'F'"
      ]
     },
     "metadata": {},
     "output_type": "display_data"
    },
    {
     "data": {
      "text/plain": [
       "'G'"
      ]
     },
     "metadata": {},
     "output_type": "display_data"
    },
    {
     "data": {
      "text/plain": [
       "['C', 'C', 'B', 'E', 'D', 'D', 'C', 'C']"
      ]
     },
     "metadata": {},
     "output_type": "display_data"
    },
    {
     "data": {
      "text/plain": [
       "'G'"
      ]
     },
     "metadata": {},
     "output_type": "display_data"
    },
    {
     "data": {
      "text/plain": [
       "'A'"
      ]
     },
     "metadata": {},
     "output_type": "display_data"
    },
    {
     "data": {
      "text/plain": [
       "['C', 'B', 'E', 'D', 'D', 'C', 'C', 'A']"
      ]
     },
     "metadata": {},
     "output_type": "display_data"
    },
    {
     "data": {
      "text/plain": [
       "'D'"
      ]
     },
     "metadata": {},
     "output_type": "display_data"
    },
    {
     "data": {
      "text/plain": [
       "'C'"
      ]
     },
     "metadata": {},
     "output_type": "display_data"
    },
    {
     "data": {
      "text/plain": [
       "['B', 'E', 'D', 'D', 'C', 'C', 'A', 'C']"
      ]
     },
     "metadata": {},
     "output_type": "display_data"
    },
    {
     "data": {
      "text/plain": [
       "'D'"
      ]
     },
     "metadata": {},
     "output_type": "display_data"
    },
    {
     "data": {
      "text/plain": [
       "'E'"
      ]
     },
     "metadata": {},
     "output_type": "display_data"
    },
    {
     "data": {
      "text/plain": [
       "['E', 'D', 'D', 'C', 'C', 'A', 'C', 'E']"
      ]
     },
     "metadata": {},
     "output_type": "display_data"
    },
    {
     "data": {
      "text/plain": [
       "'C'"
      ]
     },
     "metadata": {},
     "output_type": "display_data"
    },
    {
     "data": {
      "text/plain": [
       "'D'"
      ]
     },
     "metadata": {},
     "output_type": "display_data"
    },
    {
     "data": {
      "text/plain": [
       "['D', 'D', 'C', 'C', 'A', 'C', 'E', 'D']"
      ]
     },
     "metadata": {},
     "output_type": "display_data"
    },
    {
     "data": {
      "text/plain": [
       "'C'"
      ]
     },
     "metadata": {},
     "output_type": "display_data"
    },
    {
     "data": {
      "text/plain": [
       "'D'"
      ]
     },
     "metadata": {},
     "output_type": "display_data"
    },
    {
     "data": {
      "text/plain": [
       "['D', 'C', 'C', 'A', 'C', 'E', 'D', 'D']"
      ]
     },
     "metadata": {},
     "output_type": "display_data"
    },
    {
     "data": {
      "text/plain": [
       "'C'"
      ]
     },
     "metadata": {},
     "output_type": "display_data"
    },
    {
     "data": {
      "text/plain": [
       "'C'"
      ]
     },
     "metadata": {},
     "output_type": "display_data"
    },
    {
     "data": {
      "text/plain": [
       "['C', 'C', 'A', 'C', 'E', 'D', 'D', 'C']"
      ]
     },
     "metadata": {},
     "output_type": "display_data"
    },
    {
     "data": {
      "text/plain": [
       "'C'"
      ]
     },
     "metadata": {},
     "output_type": "display_data"
    },
    {
     "data": {
      "text/plain": [
       "'A'"
      ]
     },
     "metadata": {},
     "output_type": "display_data"
    },
    {
     "data": {
      "text/plain": [
       "['C', 'A', 'C', 'E', 'D', 'D', 'C', 'A']"
      ]
     },
     "metadata": {},
     "output_type": "display_data"
    },
    {
     "data": {
      "text/plain": [
       "'D'"
      ]
     },
     "metadata": {},
     "output_type": "display_data"
    },
    {
     "data": {
      "text/plain": [
       "'C'"
      ]
     },
     "metadata": {},
     "output_type": "display_data"
    },
    {
     "data": {
      "text/plain": [
       "['A', 'C', 'E', 'D', 'D', 'C', 'A', 'C']"
      ]
     },
     "metadata": {},
     "output_type": "display_data"
    },
    {
     "data": {
      "text/plain": [
       "'D'"
      ]
     },
     "metadata": {},
     "output_type": "display_data"
    },
    {
     "data": {
      "text/plain": [
       "'A'"
      ]
     },
     "metadata": {},
     "output_type": "display_data"
    },
    {
     "data": {
      "text/plain": [
       "['C', 'E', 'D', 'D', 'C', 'A', 'C', 'A']"
      ]
     },
     "metadata": {},
     "output_type": "display_data"
    },
    {
     "data": {
      "text/plain": [
       "'E'"
      ]
     },
     "metadata": {},
     "output_type": "display_data"
    },
    {
     "data": {
      "text/plain": [
       "'C'"
      ]
     },
     "metadata": {},
     "output_type": "display_data"
    },
    {
     "data": {
      "text/plain": [
       "['E', 'D', 'D', 'C', 'A', 'C', 'A', 'C']"
      ]
     },
     "metadata": {},
     "output_type": "display_data"
    },
    {
     "data": {
      "text/plain": [
       "'E'"
      ]
     },
     "metadata": {},
     "output_type": "display_data"
    },
    {
     "data": {
      "text/plain": [
       "'A'"
      ]
     },
     "metadata": {},
     "output_type": "display_data"
    },
    {
     "data": {
      "text/plain": [
       "['D', 'D', 'C', 'A', 'C', 'A', 'C', 'A']"
      ]
     },
     "metadata": {},
     "output_type": "display_data"
    },
    {
     "data": {
      "text/plain": [
       "'B'"
      ]
     },
     "metadata": {},
     "output_type": "display_data"
    },
    {
     "data": {
      "text/plain": [
       "'E'"
      ]
     },
     "metadata": {},
     "output_type": "display_data"
    },
    {
     "data": {
      "text/plain": [
       "['D', 'C', 'A', 'C', 'A', 'C', 'A', 'E']"
      ]
     },
     "metadata": {},
     "output_type": "display_data"
    },
    {
     "data": {
      "text/plain": [
       "'E'"
      ]
     },
     "metadata": {},
     "output_type": "display_data"
    },
    {
     "data": {
      "text/plain": [
       "'D'"
      ]
     },
     "metadata": {},
     "output_type": "display_data"
    },
    {
     "data": {
      "text/plain": [
       "['C', 'A', 'C', 'A', 'C', 'A', 'E', 'D']"
      ]
     },
     "metadata": {},
     "output_type": "display_data"
    },
    {
     "data": {
      "text/plain": [
       "'F'"
      ]
     },
     "metadata": {},
     "output_type": "display_data"
    },
    {
     "data": {
      "text/plain": [
       "'D'"
      ]
     },
     "metadata": {},
     "output_type": "display_data"
    },
    {
     "data": {
      "text/plain": [
       "['A', 'C', 'A', 'C', 'A', 'E', 'D', 'D']"
      ]
     },
     "metadata": {},
     "output_type": "display_data"
    },
    {
     "data": {
      "text/plain": [
       "'G'"
      ]
     },
     "metadata": {},
     "output_type": "display_data"
    },
    {
     "data": {
      "text/plain": [
       "'B'"
      ]
     },
     "metadata": {},
     "output_type": "display_data"
    },
    {
     "data": {
      "text/plain": [
       "['C', 'A', 'C', 'A', 'E', 'D', 'D', 'B']"
      ]
     },
     "metadata": {},
     "output_type": "display_data"
    },
    {
     "data": {
      "text/plain": [
       "'C'"
      ]
     },
     "metadata": {},
     "output_type": "display_data"
    },
    {
     "data": {
      "text/plain": [
       "'A'"
      ]
     },
     "metadata": {},
     "output_type": "display_data"
    },
    {
     "data": {
      "text/plain": [
       "['A', 'A', 'C', 'A#', 'F', 'E', 'A', 'E']"
      ]
     },
     "metadata": {},
     "output_type": "display_data"
    },
    {
     "data": {
      "text/plain": [
       "'G'"
      ]
     },
     "metadata": {},
     "output_type": "display_data"
    },
    {
     "data": {
      "text/plain": [
       "'E'"
      ]
     },
     "metadata": {},
     "output_type": "display_data"
    },
    {
     "data": {
      "text/plain": [
       "['A', 'C', 'A#', 'F', 'E', 'A', 'E', 'E']"
      ]
     },
     "metadata": {},
     "output_type": "display_data"
    },
    {
     "data": {
      "text/plain": [
       "'E'"
      ]
     },
     "metadata": {},
     "output_type": "display_data"
    },
    {
     "data": {
      "text/plain": [
       "'D'"
      ]
     },
     "metadata": {},
     "output_type": "display_data"
    },
    {
     "data": {
      "text/plain": [
       "['C', 'A#', 'F', 'E', 'A', 'E', 'E', 'D']"
      ]
     },
     "metadata": {},
     "output_type": "display_data"
    },
    {
     "data": {
      "text/plain": [
       "'E'"
      ]
     },
     "metadata": {},
     "output_type": "display_data"
    },
    {
     "data": {
      "text/plain": [
       "'F'"
      ]
     },
     "metadata": {},
     "output_type": "display_data"
    },
    {
     "data": {
      "text/plain": [
       "['A#', 'F', 'E', 'A', 'E', 'E', 'D', 'F']"
      ]
     },
     "metadata": {},
     "output_type": "display_data"
    },
    {
     "data": {
      "text/plain": [
       "'E'"
      ]
     },
     "metadata": {},
     "output_type": "display_data"
    },
    {
     "data": {
      "text/plain": [
       "'G#'"
      ]
     },
     "metadata": {},
     "output_type": "display_data"
    },
    {
     "data": {
      "text/plain": [
       "['F', 'E', 'A', 'E', 'E', 'D', 'F', 'G#']"
      ]
     },
     "metadata": {},
     "output_type": "display_data"
    },
    {
     "data": {
      "text/plain": [
       "'C'"
      ]
     },
     "metadata": {},
     "output_type": "display_data"
    },
    {
     "data": {
      "text/plain": [
       "'F'"
      ]
     },
     "metadata": {},
     "output_type": "display_data"
    },
    {
     "data": {
      "text/plain": [
       "['E', 'A', 'E', 'E', 'D', 'F', 'G#', 'F']"
      ]
     },
     "metadata": {},
     "output_type": "display_data"
    },
    {
     "data": {
      "text/plain": [
       "'D'"
      ]
     },
     "metadata": {},
     "output_type": "display_data"
    },
    {
     "data": {
      "text/plain": [
       "'E'"
      ]
     },
     "metadata": {},
     "output_type": "display_data"
    },
    {
     "data": {
      "text/plain": [
       "['A', 'E', 'E', 'D', 'F', 'G#', 'F', 'E']"
      ]
     },
     "metadata": {},
     "output_type": "display_data"
    },
    {
     "data": {
      "text/plain": [
       "'D'"
      ]
     },
     "metadata": {},
     "output_type": "display_data"
    },
    {
     "data": {
      "text/plain": [
       "'D'"
      ]
     },
     "metadata": {},
     "output_type": "display_data"
    },
    {
     "data": {
      "text/plain": [
       "['E', 'E', 'D', 'F', 'G#', 'F', 'E', 'D']"
      ]
     },
     "metadata": {},
     "output_type": "display_data"
    },
    {
     "data": {
      "text/plain": [
       "'A'"
      ]
     },
     "metadata": {},
     "output_type": "display_data"
    },
    {
     "data": {
      "text/plain": [
       "'F'"
      ]
     },
     "metadata": {},
     "output_type": "display_data"
    },
    {
     "data": {
      "text/plain": [
       "['E', 'D', 'F', 'G#', 'F', 'E', 'D', 'F']"
      ]
     },
     "metadata": {},
     "output_type": "display_data"
    },
    {
     "data": {
      "text/plain": [
       "'A'"
      ]
     },
     "metadata": {},
     "output_type": "display_data"
    },
    {
     "data": {
      "text/plain": [
       "'E'"
      ]
     },
     "metadata": {},
     "output_type": "display_data"
    },
    {
     "data": {
      "text/plain": [
       "['D', 'F', 'G#', 'F', 'E', 'D', 'F', 'E']"
      ]
     },
     "metadata": {},
     "output_type": "display_data"
    },
    {
     "data": {
      "text/plain": [
       "'A'"
      ]
     },
     "metadata": {},
     "output_type": "display_data"
    },
    {
     "data": {
      "text/plain": [
       "'D'"
      ]
     },
     "metadata": {},
     "output_type": "display_data"
    },
    {
     "data": {
      "text/plain": [
       "['F', 'G#', 'F', 'E', 'D', 'F', 'E', 'D']"
      ]
     },
     "metadata": {},
     "output_type": "display_data"
    },
    {
     "data": {
      "text/plain": [
       "'A'"
      ]
     },
     "metadata": {},
     "output_type": "display_data"
    },
    {
     "data": {
      "text/plain": [
       "'F'"
      ]
     },
     "metadata": {},
     "output_type": "display_data"
    },
    {
     "data": {
      "text/plain": [
       "['A', 'A', 'C', 'A#', 'F', 'E', 'A', 'E']"
      ]
     },
     "metadata": {},
     "output_type": "display_data"
    },
    {
     "data": {
      "text/plain": [
       "'G'"
      ]
     },
     "metadata": {},
     "output_type": "display_data"
    },
    {
     "data": {
      "text/plain": [
       "'E'"
      ]
     },
     "metadata": {},
     "output_type": "display_data"
    },
    {
     "data": {
      "text/plain": [
       "['A', 'C', 'A#', 'F', 'E', 'A', 'E', 'E']"
      ]
     },
     "metadata": {},
     "output_type": "display_data"
    },
    {
     "data": {
      "text/plain": [
       "'E'"
      ]
     },
     "metadata": {},
     "output_type": "display_data"
    },
    {
     "data": {
      "text/plain": [
       "'D'"
      ]
     },
     "metadata": {},
     "output_type": "display_data"
    },
    {
     "data": {
      "text/plain": [
       "['C', 'A#', 'F', 'E', 'A', 'E', 'E', 'D']"
      ]
     },
     "metadata": {},
     "output_type": "display_data"
    },
    {
     "data": {
      "text/plain": [
       "'E'"
      ]
     },
     "metadata": {},
     "output_type": "display_data"
    },
    {
     "data": {
      "text/plain": [
       "'F'"
      ]
     },
     "metadata": {},
     "output_type": "display_data"
    },
    {
     "data": {
      "text/plain": [
       "['A#', 'F', 'E', 'A', 'E', 'E', 'D', 'F']"
      ]
     },
     "metadata": {},
     "output_type": "display_data"
    },
    {
     "data": {
      "text/plain": [
       "'E'"
      ]
     },
     "metadata": {},
     "output_type": "display_data"
    },
    {
     "data": {
      "text/plain": [
       "'G#'"
      ]
     },
     "metadata": {},
     "output_type": "display_data"
    },
    {
     "data": {
      "text/plain": [
       "['F', 'E', 'A', 'E', 'E', 'D', 'F', 'G#']"
      ]
     },
     "metadata": {},
     "output_type": "display_data"
    },
    {
     "data": {
      "text/plain": [
       "'C'"
      ]
     },
     "metadata": {},
     "output_type": "display_data"
    },
    {
     "data": {
      "text/plain": [
       "'F'"
      ]
     },
     "metadata": {},
     "output_type": "display_data"
    },
    {
     "data": {
      "text/plain": [
       "['E', 'A', 'E', 'E', 'D', 'F', 'G#', 'F']"
      ]
     },
     "metadata": {},
     "output_type": "display_data"
    },
    {
     "data": {
      "text/plain": [
       "'D'"
      ]
     },
     "metadata": {},
     "output_type": "display_data"
    },
    {
     "data": {
      "text/plain": [
       "'E'"
      ]
     },
     "metadata": {},
     "output_type": "display_data"
    },
    {
     "data": {
      "text/plain": [
       "['A', 'E', 'E', 'D', 'F', 'G#', 'F', 'E']"
      ]
     },
     "metadata": {},
     "output_type": "display_data"
    },
    {
     "data": {
      "text/plain": [
       "'D'"
      ]
     },
     "metadata": {},
     "output_type": "display_data"
    },
    {
     "data": {
      "text/plain": [
       "'D'"
      ]
     },
     "metadata": {},
     "output_type": "display_data"
    },
    {
     "data": {
      "text/plain": [
       "['E', 'E', 'D', 'F', 'G#', 'F', 'E', 'D']"
      ]
     },
     "metadata": {},
     "output_type": "display_data"
    },
    {
     "data": {
      "text/plain": [
       "'A'"
      ]
     },
     "metadata": {},
     "output_type": "display_data"
    },
    {
     "data": {
      "text/plain": [
       "'E'"
      ]
     },
     "metadata": {},
     "output_type": "display_data"
    },
    {
     "data": {
      "text/plain": [
       "['E', 'D', 'F', 'G#', 'F', 'E', 'D', 'E']"
      ]
     },
     "metadata": {},
     "output_type": "display_data"
    },
    {
     "data": {
      "text/plain": [
       "'A'"
      ]
     },
     "metadata": {},
     "output_type": "display_data"
    },
    {
     "data": {
      "text/plain": [
       "'F'"
      ]
     },
     "metadata": {},
     "output_type": "display_data"
    },
    {
     "data": {
      "text/plain": [
       "['D', 'F', 'G#', 'F', 'E', 'D', 'E', 'F']"
      ]
     },
     "metadata": {},
     "output_type": "display_data"
    },
    {
     "data": {
      "text/plain": [
       "'A'"
      ]
     },
     "metadata": {},
     "output_type": "display_data"
    },
    {
     "data": {
      "text/plain": [
       "'E'"
      ]
     },
     "metadata": {},
     "output_type": "display_data"
    },
    {
     "data": {
      "text/plain": [
       "['F', 'G#', 'F', 'E', 'D', 'E', 'F', 'E']"
      ]
     },
     "metadata": {},
     "output_type": "display_data"
    },
    {
     "data": {
      "text/plain": [
       "'A'"
      ]
     },
     "metadata": {},
     "output_type": "display_data"
    },
    {
     "data": {
      "text/plain": [
       "'D'"
      ]
     },
     "metadata": {},
     "output_type": "display_data"
    },
    {
     "data": {
      "text/plain": [
       "['G#', 'F', 'E', 'D', 'E', 'F', 'E', 'D']"
      ]
     },
     "metadata": {},
     "output_type": "display_data"
    },
    {
     "data": {
      "text/plain": [
       "'D'"
      ]
     },
     "metadata": {},
     "output_type": "display_data"
    },
    {
     "data": {
      "text/plain": [
       "'E'"
      ]
     },
     "metadata": {},
     "output_type": "display_data"
    },
    {
     "data": {
      "text/plain": [
       "['F', 'E', 'D', 'E', 'F', 'E', 'D', 'E']"
      ]
     },
     "metadata": {},
     "output_type": "display_data"
    },
    {
     "data": {
      "text/plain": [
       "'E'"
      ]
     },
     "metadata": {},
     "output_type": "display_data"
    },
    {
     "data": {
      "text/plain": [
       "'F'"
      ]
     },
     "metadata": {},
     "output_type": "display_data"
    },
    {
     "data": {
      "text/plain": [
       "['C', 'B', 'B', 'B', 'B', 'B', 'B', 'B']"
      ]
     },
     "metadata": {},
     "output_type": "display_data"
    },
    {
     "data": {
      "text/plain": [
       "'D'"
      ]
     },
     "metadata": {},
     "output_type": "display_data"
    },
    {
     "data": {
      "text/plain": [
       "'B'"
      ]
     },
     "metadata": {},
     "output_type": "display_data"
    },
    {
     "data": {
      "text/plain": [
       "['B', 'B', 'B', 'B', 'B', 'B', 'B', 'B']"
      ]
     },
     "metadata": {},
     "output_type": "display_data"
    },
    {
     "data": {
      "text/plain": [
       "'A'"
      ]
     },
     "metadata": {},
     "output_type": "display_data"
    },
    {
     "data": {
      "text/plain": [
       "'B'"
      ]
     },
     "metadata": {},
     "output_type": "display_data"
    },
    {
     "data": {
      "text/plain": [
       "['B', 'B', 'B', 'B', 'B', 'B', 'B', 'B']"
      ]
     },
     "metadata": {},
     "output_type": "display_data"
    },
    {
     "data": {
      "text/plain": [
       "'G'"
      ]
     },
     "metadata": {},
     "output_type": "display_data"
    },
    {
     "data": {
      "text/plain": [
       "'B'"
      ]
     },
     "metadata": {},
     "output_type": "display_data"
    },
    {
     "data": {
      "text/plain": [
       "['B', 'B', 'B', 'B', 'B', 'B', 'B', 'B']"
      ]
     },
     "metadata": {},
     "output_type": "display_data"
    },
    {
     "data": {
      "text/plain": [
       "'G'"
      ]
     },
     "metadata": {},
     "output_type": "display_data"
    },
    {
     "data": {
      "text/plain": [
       "'D'"
      ]
     },
     "metadata": {},
     "output_type": "display_data"
    },
    {
     "data": {
      "text/plain": [
       "['B', 'B', 'B', 'B', 'B', 'B', 'B', 'D']"
      ]
     },
     "metadata": {},
     "output_type": "display_data"
    },
    {
     "data": {
      "text/plain": [
       "'A'"
      ]
     },
     "metadata": {},
     "output_type": "display_data"
    },
    {
     "data": {
      "text/plain": [
       "'B'"
      ]
     },
     "metadata": {},
     "output_type": "display_data"
    },
    {
     "data": {
      "text/plain": [
       "['B', 'B', 'B', 'B', 'B', 'B', 'D', 'B']"
      ]
     },
     "metadata": {},
     "output_type": "display_data"
    },
    {
     "data": {
      "text/plain": [
       "'A'"
      ]
     },
     "metadata": {},
     "output_type": "display_data"
    },
    {
     "data": {
      "text/plain": [
       "'A'"
      ]
     },
     "metadata": {},
     "output_type": "display_data"
    },
    {
     "data": {
      "text/plain": [
       "['B', 'B', 'B', 'B', 'B', 'D', 'B', 'A']"
      ]
     },
     "metadata": {},
     "output_type": "display_data"
    },
    {
     "data": {
      "text/plain": [
       "'G'"
      ]
     },
     "metadata": {},
     "output_type": "display_data"
    },
    {
     "data": {
      "text/plain": [
       "'G'"
      ]
     },
     "metadata": {},
     "output_type": "display_data"
    },
    {
     "data": {
      "text/plain": [
       "['B', 'B', 'B', 'B', 'D', 'B', 'A', 'G']"
      ]
     },
     "metadata": {},
     "output_type": "display_data"
    },
    {
     "data": {
      "text/plain": [
       "'G'"
      ]
     },
     "metadata": {},
     "output_type": "display_data"
    },
    {
     "data": {
      "text/plain": [
       "'C'"
      ]
     },
     "metadata": {},
     "output_type": "display_data"
    },
    {
     "data": {
      "text/plain": [
       "['B', 'B', 'B', 'D', 'B', 'A', 'G', 'C']"
      ]
     },
     "metadata": {},
     "output_type": "display_data"
    },
    {
     "data": {
      "text/plain": [
       "'B'"
      ]
     },
     "metadata": {},
     "output_type": "display_data"
    },
    {
     "data": {
      "text/plain": [
       "'A#'"
      ]
     },
     "metadata": {},
     "output_type": "display_data"
    },
    {
     "data": {
      "text/plain": [
       "['B', 'B', 'D', 'B', 'A', 'G', 'C', 'A#']"
      ]
     },
     "metadata": {},
     "output_type": "display_data"
    },
    {
     "data": {
      "text/plain": [
       "'B'"
      ]
     },
     "metadata": {},
     "output_type": "display_data"
    },
    {
     "data": {
      "text/plain": [
       "'B'"
      ]
     },
     "metadata": {},
     "output_type": "display_data"
    },
    {
     "data": {
      "text/plain": [
       "['B', 'D', 'B', 'A', 'G', 'C', 'A#', 'B']"
      ]
     },
     "metadata": {},
     "output_type": "display_data"
    },
    {
     "data": {
      "text/plain": [
       "'B'"
      ]
     },
     "metadata": {},
     "output_type": "display_data"
    },
    {
     "data": {
      "text/plain": [
       "'A#'"
      ]
     },
     "metadata": {},
     "output_type": "display_data"
    },
    {
     "data": {
      "text/plain": [
       "['D', 'B', 'A', 'G', 'C', 'A#', 'B', 'A#']"
      ]
     },
     "metadata": {},
     "output_type": "display_data"
    },
    {
     "data": {
      "text/plain": [
       "'B'"
      ]
     },
     "metadata": {},
     "output_type": "display_data"
    },
    {
     "data": {
      "text/plain": [
       "'B'"
      ]
     },
     "metadata": {},
     "output_type": "display_data"
    },
    {
     "data": {
      "text/plain": [
       "['B', 'A', 'G', 'C', 'A#', 'B', 'A#', 'B']"
      ]
     },
     "metadata": {},
     "output_type": "display_data"
    },
    {
     "data": {
      "text/plain": [
       "'A#'"
      ]
     },
     "metadata": {},
     "output_type": "display_data"
    },
    {
     "data": {
      "text/plain": [
       "'A#'"
      ]
     },
     "metadata": {},
     "output_type": "display_data"
    },
    {
     "data": {
      "text/plain": [
       "['A', 'G', 'C', 'A#', 'B', 'A#', 'B', 'A#']"
      ]
     },
     "metadata": {},
     "output_type": "display_data"
    },
    {
     "data": {
      "text/plain": [
       "'B'"
      ]
     },
     "metadata": {},
     "output_type": "display_data"
    },
    {
     "data": {
      "text/plain": [
       "'B'"
      ]
     },
     "metadata": {},
     "output_type": "display_data"
    },
    {
     "data": {
      "text/plain": [
       "['G', 'C', 'A#', 'B', 'A#', 'B', 'A#', 'B']"
      ]
     },
     "metadata": {},
     "output_type": "display_data"
    },
    {
     "data": {
      "text/plain": [
       "'A#'"
      ]
     },
     "metadata": {},
     "output_type": "display_data"
    },
    {
     "data": {
      "text/plain": [
       "'A#'"
      ]
     },
     "metadata": {},
     "output_type": "display_data"
    },
    {
     "data": {
      "text/plain": [
       "['C', 'A#', 'B', 'A#', 'B', 'A#', 'B', 'A#']"
      ]
     },
     "metadata": {},
     "output_type": "display_data"
    },
    {
     "data": {
      "text/plain": [
       "'G'"
      ]
     },
     "metadata": {},
     "output_type": "display_data"
    },
    {
     "data": {
      "text/plain": [
       "'B'"
      ]
     },
     "metadata": {},
     "output_type": "display_data"
    },
    {
     "data": {
      "text/plain": [
       "['A#', 'B', 'A#', 'B', 'A#', 'B', 'A#', 'B']"
      ]
     },
     "metadata": {},
     "output_type": "display_data"
    },
    {
     "data": {
      "text/plain": [
       "'G'"
      ]
     },
     "metadata": {},
     "output_type": "display_data"
    },
    {
     "data": {
      "text/plain": [
       "'B'"
      ]
     },
     "metadata": {},
     "output_type": "display_data"
    },
    {
     "data": {
      "text/plain": [
       "['B', 'A#', 'B', 'A#', 'B', 'A#', 'B', 'B']"
      ]
     },
     "metadata": {},
     "output_type": "display_data"
    },
    {
     "data": {
      "text/plain": [
       "'G'"
      ]
     },
     "metadata": {},
     "output_type": "display_data"
    },
    {
     "data": {
      "text/plain": [
       "'C'"
      ]
     },
     "metadata": {},
     "output_type": "display_data"
    },
    {
     "data": {
      "text/plain": [
       "['A#', 'B', 'A#', 'B', 'A#', 'B', 'B', 'C']"
      ]
     },
     "metadata": {},
     "output_type": "display_data"
    },
    {
     "data": {
      "text/plain": [
       "'C'"
      ]
     },
     "metadata": {},
     "output_type": "display_data"
    },
    {
     "data": {
      "text/plain": [
       "'C'"
      ]
     },
     "metadata": {},
     "output_type": "display_data"
    },
    {
     "data": {
      "text/plain": [
       "['B', 'A#', 'B', 'A#', 'B', 'B', 'C', 'C']"
      ]
     },
     "metadata": {},
     "output_type": "display_data"
    },
    {
     "data": {
      "text/plain": [
       "'C'"
      ]
     },
     "metadata": {},
     "output_type": "display_data"
    },
    {
     "data": {
      "text/plain": [
       "'C'"
      ]
     },
     "metadata": {},
     "output_type": "display_data"
    },
    {
     "data": {
      "text/plain": [
       "['A#', 'B', 'A#', 'B', 'B', 'C', 'C', 'C']"
      ]
     },
     "metadata": {},
     "output_type": "display_data"
    },
    {
     "data": {
      "text/plain": [
       "'C'"
      ]
     },
     "metadata": {},
     "output_type": "display_data"
    },
    {
     "data": {
      "text/plain": [
       "'C'"
      ]
     },
     "metadata": {},
     "output_type": "display_data"
    },
    {
     "data": {
      "text/plain": [
       "['G', 'F', 'E', 'C', 'E', 'F', 'E', 'G']"
      ]
     },
     "metadata": {},
     "output_type": "display_data"
    },
    {
     "data": {
      "text/plain": [
       "'F'"
      ]
     },
     "metadata": {},
     "output_type": "display_data"
    },
    {
     "data": {
      "text/plain": [
       "'G'"
      ]
     },
     "metadata": {},
     "output_type": "display_data"
    },
    {
     "data": {
      "text/plain": [
       "['F', 'E', 'C', 'E', 'F', 'E', 'G', 'G']"
      ]
     },
     "metadata": {},
     "output_type": "display_data"
    },
    {
     "data": {
      "text/plain": [
       "'F'"
      ]
     },
     "metadata": {},
     "output_type": "display_data"
    },
    {
     "data": {
      "text/plain": [
       "'G'"
      ]
     },
     "metadata": {},
     "output_type": "display_data"
    },
    {
     "data": {
      "text/plain": [
       "['E', 'C', 'E', 'F', 'E', 'G', 'G', 'G']"
      ]
     },
     "metadata": {},
     "output_type": "display_data"
    },
    {
     "data": {
      "text/plain": [
       "'G'"
      ]
     },
     "metadata": {},
     "output_type": "display_data"
    },
    {
     "data": {
      "text/plain": [
       "'C'"
      ]
     },
     "metadata": {},
     "output_type": "display_data"
    },
    {
     "data": {
      "text/plain": [
       "['C', 'E', 'F', 'E', 'G', 'G', 'G', 'C']"
      ]
     },
     "metadata": {},
     "output_type": "display_data"
    },
    {
     "data": {
      "text/plain": [
       "'F'"
      ]
     },
     "metadata": {},
     "output_type": "display_data"
    },
    {
     "data": {
      "text/plain": [
       "'G'"
      ]
     },
     "metadata": {},
     "output_type": "display_data"
    },
    {
     "data": {
      "text/plain": [
       "['E', 'F', 'E', 'G', 'G', 'G', 'C', 'G']"
      ]
     },
     "metadata": {},
     "output_type": "display_data"
    },
    {
     "data": {
      "text/plain": [
       "'F'"
      ]
     },
     "metadata": {},
     "output_type": "display_data"
    },
    {
     "data": {
      "text/plain": [
       "'G'"
      ]
     },
     "metadata": {},
     "output_type": "display_data"
    },
    {
     "data": {
      "text/plain": [
       "['F', 'E', 'G', 'G', 'G', 'C', 'G', 'G']"
      ]
     },
     "metadata": {},
     "output_type": "display_data"
    },
    {
     "data": {
      "text/plain": [
       "'C'"
      ]
     },
     "metadata": {},
     "output_type": "display_data"
    },
    {
     "data": {
      "text/plain": [
       "'F'"
      ]
     },
     "metadata": {},
     "output_type": "display_data"
    },
    {
     "data": {
      "text/plain": [
       "['E', 'G', 'G', 'G', 'C', 'G', 'G', 'F']"
      ]
     },
     "metadata": {},
     "output_type": "display_data"
    },
    {
     "data": {
      "text/plain": [
       "'E'"
      ]
     },
     "metadata": {},
     "output_type": "display_data"
    },
    {
     "data": {
      "text/plain": [
       "'G'"
      ]
     },
     "metadata": {},
     "output_type": "display_data"
    },
    {
     "data": {
      "text/plain": [
       "['G', 'G', 'G', 'C', 'G', 'G', 'F', 'G']"
      ]
     },
     "metadata": {},
     "output_type": "display_data"
    },
    {
     "data": {
      "text/plain": [
       "'A'"
      ]
     },
     "metadata": {},
     "output_type": "display_data"
    },
    {
     "data": {
      "text/plain": [
       "'A#'"
      ]
     },
     "metadata": {},
     "output_type": "display_data"
    },
    {
     "data": {
      "text/plain": [
       "['G', 'G', 'C', 'G', 'G', 'F', 'G', 'A#']"
      ]
     },
     "metadata": {},
     "output_type": "display_data"
    },
    {
     "data": {
      "text/plain": [
       "'F'"
      ]
     },
     "metadata": {},
     "output_type": "display_data"
    },
    {
     "data": {
      "text/plain": [
       "'G'"
      ]
     },
     "metadata": {},
     "output_type": "display_data"
    },
    {
     "data": {
      "text/plain": [
       "['G', 'C', 'G', 'G', 'F', 'G', 'A#', 'G']"
      ]
     },
     "metadata": {},
     "output_type": "display_data"
    },
    {
     "data": {
      "text/plain": [
       "'C'"
      ]
     },
     "metadata": {},
     "output_type": "display_data"
    },
    {
     "data": {
      "text/plain": [
       "'F'"
      ]
     },
     "metadata": {},
     "output_type": "display_data"
    },
    {
     "data": {
      "text/plain": [
       "['C', 'G', 'G', 'F', 'G', 'A#', 'G', 'F']"
      ]
     },
     "metadata": {},
     "output_type": "display_data"
    },
    {
     "data": {
      "text/plain": [
       "'C'"
      ]
     },
     "metadata": {},
     "output_type": "display_data"
    },
    {
     "data": {
      "text/plain": [
       "'G'"
      ]
     },
     "metadata": {},
     "output_type": "display_data"
    },
    {
     "data": {
      "text/plain": [
       "['G', 'G', 'F', 'G', 'A#', 'G', 'F', 'G']"
      ]
     },
     "metadata": {},
     "output_type": "display_data"
    },
    {
     "data": {
      "text/plain": [
       "'C'"
      ]
     },
     "metadata": {},
     "output_type": "display_data"
    },
    {
     "data": {
      "text/plain": [
       "'F'"
      ]
     },
     "metadata": {},
     "output_type": "display_data"
    },
    {
     "data": {
      "text/plain": [
       "['G', 'F', 'G', 'A#', 'G', 'F', 'G', 'F']"
      ]
     },
     "metadata": {},
     "output_type": "display_data"
    },
    {
     "data": {
      "text/plain": [
       "'A'"
      ]
     },
     "metadata": {},
     "output_type": "display_data"
    },
    {
     "data": {
      "text/plain": [
       "'E'"
      ]
     },
     "metadata": {},
     "output_type": "display_data"
    },
    {
     "data": {
      "text/plain": [
       "['F', 'G', 'A#', 'G', 'F', 'G', 'F', 'E']"
      ]
     },
     "metadata": {},
     "output_type": "display_data"
    },
    {
     "data": {
      "text/plain": [
       "'A'"
      ]
     },
     "metadata": {},
     "output_type": "display_data"
    },
    {
     "data": {
      "text/plain": [
       "'C'"
      ]
     },
     "metadata": {},
     "output_type": "display_data"
    },
    {
     "data": {
      "text/plain": [
       "['G', 'A#', 'G', 'F', 'G', 'F', 'E', 'C']"
      ]
     },
     "metadata": {},
     "output_type": "display_data"
    },
    {
     "data": {
      "text/plain": [
       "'A'"
      ]
     },
     "metadata": {},
     "output_type": "display_data"
    },
    {
     "data": {
      "text/plain": [
       "'C'"
      ]
     },
     "metadata": {},
     "output_type": "display_data"
    },
    {
     "data": {
      "text/plain": [
       "['A#', 'G', 'F', 'G', 'F', 'E', 'C', 'C']"
      ]
     },
     "metadata": {},
     "output_type": "display_data"
    },
    {
     "data": {
      "text/plain": [
       "'F'"
      ]
     },
     "metadata": {},
     "output_type": "display_data"
    },
    {
     "data": {
      "text/plain": [
       "'C'"
      ]
     },
     "metadata": {},
     "output_type": "display_data"
    },
    {
     "data": {
      "text/plain": [
       "['G', 'F', 'G', 'F', 'E', 'C', 'C', 'C']"
      ]
     },
     "metadata": {},
     "output_type": "display_data"
    },
    {
     "data": {
      "text/plain": [
       "'A#'"
      ]
     },
     "metadata": {},
     "output_type": "display_data"
    },
    {
     "data": {
      "text/plain": [
       "'C'"
      ]
     },
     "metadata": {},
     "output_type": "display_data"
    },
    {
     "data": {
      "text/plain": [
       "['F', 'G', 'F', 'E', 'C', 'C', 'C', 'C']"
      ]
     },
     "metadata": {},
     "output_type": "display_data"
    },
    {
     "data": {
      "text/plain": [
       "'D'"
      ]
     },
     "metadata": {},
     "output_type": "display_data"
    },
    {
     "data": {
      "text/plain": [
       "'C'"
      ]
     },
     "metadata": {},
     "output_type": "display_data"
    },
    {
     "data": {
      "text/plain": [
       "['G', 'F', 'E', 'C', 'C', 'C', 'C', 'C']"
      ]
     },
     "metadata": {},
     "output_type": "display_data"
    },
    {
     "data": {
      "text/plain": [
       "'F'"
      ]
     },
     "metadata": {},
     "output_type": "display_data"
    },
    {
     "data": {
      "text/plain": [
       "'B'"
      ]
     },
     "metadata": {},
     "output_type": "display_data"
    },
    {
     "data": {
      "text/plain": [
       "['F', 'E', 'C', 'C', 'C', 'C', 'C', 'B']"
      ]
     },
     "metadata": {},
     "output_type": "display_data"
    },
    {
     "data": {
      "text/plain": [
       "'D'"
      ]
     },
     "metadata": {},
     "output_type": "display_data"
    },
    {
     "data": {
      "text/plain": [
       "'A#'"
      ]
     },
     "metadata": {},
     "output_type": "display_data"
    },
    {
     "data": {
      "text/plain": [
       "['E', 'C', 'C', 'C', 'C', 'C', 'B', 'A#']"
      ]
     },
     "metadata": {},
     "output_type": "display_data"
    },
    {
     "data": {
      "text/plain": [
       "'D'"
      ]
     },
     "metadata": {},
     "output_type": "display_data"
    },
    {
     "data": {
      "text/plain": [
       "'A'"
      ]
     },
     "metadata": {},
     "output_type": "display_data"
    },
    {
     "data": {
      "text/plain": [
       "['C', 'C', 'C', 'C', 'C', 'B', 'A#', 'A']"
      ]
     },
     "metadata": {},
     "output_type": "display_data"
    },
    {
     "data": {
      "text/plain": [
       "'C'"
      ]
     },
     "metadata": {},
     "output_type": "display_data"
    },
    {
     "data": {
      "text/plain": [
       "'C'"
      ]
     },
     "metadata": {},
     "output_type": "display_data"
    },
    {
     "data": {
      "text/plain": [
       "['C', 'C', 'C', 'C', 'B', 'A#', 'A', 'C']"
      ]
     },
     "metadata": {},
     "output_type": "display_data"
    },
    {
     "data": {
      "text/plain": [
       "'G'"
      ]
     },
     "metadata": {},
     "output_type": "display_data"
    },
    {
     "data": {
      "text/plain": [
       "'C'"
      ]
     },
     "metadata": {},
     "output_type": "display_data"
    },
    {
     "data": {
      "text/plain": [
       "['C', 'C', 'C', 'B', 'A#', 'A', 'C', 'C']"
      ]
     },
     "metadata": {},
     "output_type": "display_data"
    },
    {
     "data": {
      "text/plain": [
       "'G'"
      ]
     },
     "metadata": {},
     "output_type": "display_data"
    },
    {
     "data": {
      "text/plain": [
       "'C'"
      ]
     },
     "metadata": {},
     "output_type": "display_data"
    },
    {
     "data": {
      "text/plain": [
       "['C', 'C', 'B', 'A#', 'A', 'C', 'C', 'C']"
      ]
     },
     "metadata": {},
     "output_type": "display_data"
    },
    {
     "data": {
      "text/plain": [
       "'G'"
      ]
     },
     "metadata": {},
     "output_type": "display_data"
    },
    {
     "data": {
      "text/plain": [
       "'D'"
      ]
     },
     "metadata": {},
     "output_type": "display_data"
    },
    {
     "data": {
      "text/plain": [
       "['C', 'B', 'A#', 'A', 'C', 'C', 'C', 'D']"
      ]
     },
     "metadata": {},
     "output_type": "display_data"
    },
    {
     "data": {
      "text/plain": [
       "'G'"
      ]
     },
     "metadata": {},
     "output_type": "display_data"
    },
    {
     "data": {
      "text/plain": [
       "'C#'"
      ]
     },
     "metadata": {},
     "output_type": "display_data"
    },
    {
     "data": {
      "text/plain": [
       "['B', 'A#', 'A', 'C', 'C', 'C', 'D', 'C#']"
      ]
     },
     "metadata": {},
     "output_type": "display_data"
    },
    {
     "data": {
      "text/plain": [
       "'G'"
      ]
     },
     "metadata": {},
     "output_type": "display_data"
    },
    {
     "data": {
      "text/plain": [
       "'C'"
      ]
     },
     "metadata": {},
     "output_type": "display_data"
    },
    {
     "data": {
      "text/plain": [
       "['A#', 'A', 'C', 'C', 'C', 'D', 'C#', 'C']"
      ]
     },
     "metadata": {},
     "output_type": "display_data"
    },
    {
     "data": {
      "text/plain": [
       "'G'"
      ]
     },
     "metadata": {},
     "output_type": "display_data"
    },
    {
     "data": {
      "text/plain": [
       "'B'"
      ]
     },
     "metadata": {},
     "output_type": "display_data"
    },
    {
     "data": {
      "text/plain": [
       "['A', 'C', 'C', 'C', 'D', 'C#', 'C', 'B']"
      ]
     },
     "metadata": {},
     "output_type": "display_data"
    },
    {
     "data": {
      "text/plain": [
       "'F'"
      ]
     },
     "metadata": {},
     "output_type": "display_data"
    },
    {
     "data": {
      "text/plain": [
       "'E'"
      ]
     },
     "metadata": {},
     "output_type": "display_data"
    },
    {
     "data": {
      "text/plain": [
       "['C', 'C', 'C', 'D', 'C#', 'C', 'B', 'E']"
      ]
     },
     "metadata": {},
     "output_type": "display_data"
    },
    {
     "data": {
      "text/plain": [
       "'G'"
      ]
     },
     "metadata": {},
     "output_type": "display_data"
    },
    {
     "data": {
      "text/plain": [
       "'F'"
      ]
     },
     "metadata": {},
     "output_type": "display_data"
    },
    {
     "data": {
      "text/plain": [
       "['C', 'C', 'D', 'C#', 'C', 'B', 'E', 'F']"
      ]
     },
     "metadata": {},
     "output_type": "display_data"
    },
    {
     "data": {
      "text/plain": [
       "'E'"
      ]
     },
     "metadata": {},
     "output_type": "display_data"
    },
    {
     "data": {
      "text/plain": [
       "'E'"
      ]
     },
     "metadata": {},
     "output_type": "display_data"
    },
    {
     "data": {
      "text/plain": [
       "['C', 'D', 'C#', 'C', 'B', 'E', 'F', 'E']"
      ]
     },
     "metadata": {},
     "output_type": "display_data"
    },
    {
     "data": {
      "text/plain": [
       "'E'"
      ]
     },
     "metadata": {},
     "output_type": "display_data"
    },
    {
     "data": {
      "text/plain": [
       "'G'"
      ]
     },
     "metadata": {},
     "output_type": "display_data"
    },
    {
     "data": {
      "text/plain": [
       "['D', 'C#', 'C', 'B', 'E', 'F', 'E', 'G']"
      ]
     },
     "metadata": {},
     "output_type": "display_data"
    },
    {
     "data": {
      "text/plain": [
       "'C'"
      ]
     },
     "metadata": {},
     "output_type": "display_data"
    },
    {
     "data": {
      "text/plain": [
       "'C'"
      ]
     },
     "metadata": {},
     "output_type": "display_data"
    },
    {
     "data": {
      "text/plain": [
       "['C#', 'C', 'B', 'E', 'F', 'E', 'G', 'C']"
      ]
     },
     "metadata": {},
     "output_type": "display_data"
    },
    {
     "data": {
      "text/plain": [
       "'D#'"
      ]
     },
     "metadata": {},
     "output_type": "display_data"
    },
    {
     "data": {
      "text/plain": [
       "'D#'"
      ]
     },
     "metadata": {},
     "output_type": "display_data"
    },
    {
     "data": {
      "text/plain": [
       "['C', 'B', 'E', 'F', 'E', 'G', 'C', 'D#']"
      ]
     },
     "metadata": {},
     "output_type": "display_data"
    },
    {
     "data": {
      "text/plain": [
       "'F'"
      ]
     },
     "metadata": {},
     "output_type": "display_data"
    },
    {
     "data": {
      "text/plain": [
       "'F'"
      ]
     },
     "metadata": {},
     "output_type": "display_data"
    }
   ],
   "source": [
    "for i in range(test_data.shape[0]):\n",
    "    sample = test_data[i]\n",
    "\n",
    "    display([getPitch(note) for note in np.argmax(sample[:,MELODY:MELODY+12],1)])\n",
    "\n",
    "    display(getPitch(np.argmax(model.predict(np.expand_dims(sample,0)))))\n",
    "    display(getPitch(test_labels[i][0]))"
   ]
  },
  {
   "cell_type": "code",
   "execution_count": null,
   "metadata": {},
   "outputs": [],
   "source": []
  },
  {
   "cell_type": "code",
   "execution_count": 0,
   "metadata": {
    "colab": {},
    "colab_type": "code",
    "id": "oj4IpyEaNX8x"
   },
   "outputs": [],
   "source": []
  },
  {
   "cell_type": "markdown",
   "metadata": {
    "colab_type": "text",
    "id": "iv-3x-0yNX8z"
   },
   "source": [
    "# Test Framework"
   ]
  },
  {
   "cell_type": "markdown",
   "metadata": {
    "colab_type": "text",
    "id": "iyK7IZAXDrnX"
   },
   "source": [
    "## Test A: TradeFour"
   ]
  },
  {
   "cell_type": "code",
   "execution_count": 49,
   "metadata": {
    "colab": {},
    "colab_type": "code",
    "id": "56ENduBtDrnX"
   },
   "outputs": [],
   "source": [
    "# read test midi file, ignore labels and get output from network\n",
    "# simply read midi here to see how it sounds + plot (by creating midi file with input midi and prediction from network)\n",
    "\n",
    "def writeMidi(notes, times, file, originalfile, tempo=120, resolution=12):\n",
    "    pm = pretty_midi.PrettyMIDI(resolution=resolution, initial_tempo=tempo)\n",
    "    pminst = pretty_midi.Instrument(program=0)\n",
    "    currtime = 0\n",
    "    for i, note in enumerate(notes):\n",
    "        if note != MELODY-1:\n",
    "            pitch = note+LOW\n",
    "            start = pm.tick_to_time(int(currtime))\n",
    "            end = pm.tick_to_time(int(currtime+times[i]))\n",
    "            if end > start:\n",
    "                pmnote = pretty_midi.Note(velocity=100, pitch = pitch, start=start, end=end)\n",
    "                pminst.notes.append(pmnote)\n",
    "        currtime += times[i]+1\n",
    "    pm.instruments.append(pminst)\n",
    "    \n",
    "    #get original chords from file\n",
    "    ogpm = pretty_midi.PrettyMIDI(originalfile)\n",
    "    originalchords = pretty_midi.Instrument(program=0)\n",
    "    originalnotes = getMelodyAndHarmonyBass(originalfile)['harmony']\n",
    "    for i, note in enumerate(originalnotes):\n",
    "        old = ogpm.time_to_tick(note.start)\n",
    "        start = pm.tick_to_time(int(ogpm.time_to_tick(note.start)/ogpm.resolution*pm.resolution))\n",
    "        end = pm.tick_to_time(int(ogpm.time_to_tick(note.end)/ogpm.resolution*pm.resolution))\n",
    "        originalchords.notes.append(pretty_midi.Note(velocity=50, pitch=note.pitch, start=start, end=end))\n",
    "    pm.instruments.append(originalchords)\n",
    "\n",
    "    pm.write(file)\n",
    "    return pm\n",
    "\n",
    "    \n",
    "def tradeFour(processedMidi):\n",
    "    notes, times, chords, chordsByBeat, key = processedMidi\n",
    "    predicted_notes, predicted_durations = [], []\n",
    "    mel_len=16+1 # wegen nextChord\n",
    "\n",
    "    notesnew = np.array(notes[-mel_len:])\n",
    "    timesnew = np.array(times[-mel_len:])\n",
    "    chordsnew = np.array(chords[-mel_len:])\n",
    "\n",
    "    currentbeat = 0\n",
    "    currenttime = 0\n",
    "    while sum(predicted_durations) < 4*TIMES:\n",
    "        processedMidi = notesnew, timesnew, chordsnew, chordsByBeat, key\n",
    "        feat = getFeatureVectors(processedMidi)\n",
    "        feat = tf.expand_dims(feat,0)\n",
    "        \n",
    "        pitch, duration = model(feat)\n",
    "\n",
    "        pred_pitch = tf.math.argmax(pitch, 1).numpy()[0]\n",
    "        pred_duration = tf.math.argmax(duration, 1).numpy()[0]\n",
    "\n",
    "        predicted_notes.append(pred_pitch)\n",
    "        predicted_durations.append(pred_duration)\n",
    "        notesnew = np.append(notesnew[1:], pred_pitch)\n",
    "        timesnew = np.append(timesnew[1:], pred_duration)\n",
    "        \n",
    "        if int(currenttime/12) > currentbeat:\n",
    "            newchord = chordsByBeat[int(currenttime/12)]\n",
    "            chordsnew = np.append(chordsnew[1:], newchord)\n",
    "        currenttime += pred_duration\n",
    "        currentbeat += int(currenttime/12)\n",
    "        \n",
    "        print(predicted_durations)\n",
    "        \n",
    "    notes = np.append(notes, np.array(predicted_notes))\n",
    "    times = np.append(times, np.array(predicted_durations))\n",
    "\n",
    "    return notes, times\n",
    "    \n",
    "def plotTradeFour(file):\n",
    "    processedMidi = processMidi(file)\n",
    "    \n",
    "    t = time.time()\n",
    "    notes, times = tradeFour(processedMidi)\n",
    "    print(time.time() - t,'s')\n",
    "    \n",
    "    # plotWithAudio\n",
    "    pm = writeMidi(notes, times, 'old_notebooks/treval/newtest.mid', file)\n",
    "    plt.figure(figsize=(8, 4))\n",
    "    plot_piano_roll(pm, LOW, HIGH)\n",
    "    display(IPython.display.Audio(pm.synthesize(fs=44000), rate=44000))   \n",
    "    "
   ]
  },
  {
   "cell_type": "code",
   "execution_count": 51,
   "metadata": {
    "colab": {
     "base_uri": "https://localhost:8080/",
     "height": 596
    },
    "colab_type": "code",
    "id": "jitsFsWbDrna",
    "outputId": "5f452100-38d5-49d8-83e3-b67aa01c25e0",
    "scrolled": false
   },
   "outputs": [
    {
     "ename": "FileNotFoundError",
     "evalue": "[Errno 2] No such file or directory: 'datasets/trainData/chords/test/testlmd.mid'",
     "output_type": "error",
     "traceback": [
      "\u001b[0;31m---------------------------------------------------------------------------\u001b[0m",
      "\u001b[0;31mFileNotFoundError\u001b[0m                         Traceback (most recent call last)",
      "\u001b[0;32m<ipython-input-51-eb0164d6aa66>\u001b[0m in \u001b[0;36m<module>\u001b[0;34m\u001b[0m\n\u001b[0;32m----> 1\u001b[0;31m \u001b[0mplotTradeFour\u001b[0m\u001b[0;34m(\u001b[0m\u001b[0;34m'test/testlmd.mid'\u001b[0m\u001b[0;34m)\u001b[0m\u001b[0;34m\u001b[0m\u001b[0;34m\u001b[0m\u001b[0m\n\u001b[0m",
      "\u001b[0;32m<ipython-input-49-0b83dd5815cf>\u001b[0m in \u001b[0;36mplotTradeFour\u001b[0;34m(file)\u001b[0m\n\u001b[1;32m     72\u001b[0m \u001b[0;34m\u001b[0m\u001b[0m\n\u001b[1;32m     73\u001b[0m \u001b[0;32mdef\u001b[0m \u001b[0mplotTradeFour\u001b[0m\u001b[0;34m(\u001b[0m\u001b[0mfile\u001b[0m\u001b[0;34m)\u001b[0m\u001b[0;34m:\u001b[0m\u001b[0;34m\u001b[0m\u001b[0;34m\u001b[0m\u001b[0m\n\u001b[0;32m---> 74\u001b[0;31m     \u001b[0mprocessedMidi\u001b[0m \u001b[0;34m=\u001b[0m \u001b[0mprocessMidi\u001b[0m\u001b[0;34m(\u001b[0m\u001b[0mfile\u001b[0m\u001b[0;34m)\u001b[0m\u001b[0;34m\u001b[0m\u001b[0;34m\u001b[0m\u001b[0m\n\u001b[0m\u001b[1;32m     75\u001b[0m \u001b[0;34m\u001b[0m\u001b[0m\n\u001b[1;32m     76\u001b[0m     \u001b[0mt\u001b[0m \u001b[0;34m=\u001b[0m \u001b[0mtime\u001b[0m\u001b[0;34m.\u001b[0m\u001b[0mtime\u001b[0m\u001b[0;34m(\u001b[0m\u001b[0;34m)\u001b[0m\u001b[0;34m\u001b[0m\u001b[0;34m\u001b[0m\u001b[0m\n",
      "\u001b[0;32m<ipython-input-6-17304bf598df>\u001b[0m in \u001b[0;36mprocessMidi\u001b[0;34m(file)\u001b[0m\n\u001b[1;32m     93\u001b[0m \u001b[0;34m\u001b[0m\u001b[0m\n\u001b[1;32m     94\u001b[0m \u001b[0;32mdef\u001b[0m \u001b[0mprocessMidi\u001b[0m\u001b[0;34m(\u001b[0m\u001b[0mfile\u001b[0m\u001b[0;34m)\u001b[0m\u001b[0;34m:\u001b[0m\u001b[0;34m\u001b[0m\u001b[0;34m\u001b[0m\u001b[0m\n\u001b[0;32m---> 95\u001b[0;31m     \u001b[0mpm\u001b[0m \u001b[0;34m=\u001b[0m \u001b[0mpretty_midi\u001b[0m\u001b[0;34m.\u001b[0m\u001b[0mPrettyMIDI\u001b[0m\u001b[0;34m(\u001b[0m\u001b[0mfolder\u001b[0m\u001b[0;34m+\u001b[0m\u001b[0;34m'chords/'\u001b[0m\u001b[0;34m+\u001b[0m\u001b[0mfile\u001b[0m\u001b[0;34m)\u001b[0m\u001b[0;34m\u001b[0m\u001b[0;34m\u001b[0m\u001b[0m\n\u001b[0m\u001b[1;32m     96\u001b[0m     \u001b[0;31m#tracks = getMelodyAndHarmony(file)\u001b[0m\u001b[0;34m\u001b[0m\u001b[0;34m\u001b[0m\u001b[0;34m\u001b[0m\u001b[0m\n\u001b[1;32m     97\u001b[0m     \u001b[0;31m#tracks = getMelodyAndHarmonyBass(file) //changing, this doesnt work anymore -> DACBass\u001b[0m\u001b[0;34m\u001b[0m\u001b[0;34m\u001b[0m\u001b[0;34m\u001b[0m\u001b[0m\n",
      "\u001b[0;32m/Library/Frameworks/Python.framework/Versions/3.6/lib/python3.6/site-packages/pretty_midi/pretty_midi.py\u001b[0m in \u001b[0;36m__init__\u001b[0;34m(self, midi_file, resolution, initial_tempo)\u001b[0m\n\u001b[1;32m     57\u001b[0m             \u001b[0;32mif\u001b[0m \u001b[0misinstance\u001b[0m\u001b[0;34m(\u001b[0m\u001b[0mmidi_file\u001b[0m\u001b[0;34m,\u001b[0m \u001b[0msix\u001b[0m\u001b[0;34m.\u001b[0m\u001b[0mstring_types\u001b[0m\u001b[0;34m)\u001b[0m\u001b[0;34m:\u001b[0m\u001b[0;34m\u001b[0m\u001b[0;34m\u001b[0m\u001b[0m\n\u001b[1;32m     58\u001b[0m                 \u001b[0;31m# If a string was given, pass it as the string filename\u001b[0m\u001b[0;34m\u001b[0m\u001b[0;34m\u001b[0m\u001b[0;34m\u001b[0m\u001b[0m\n\u001b[0;32m---> 59\u001b[0;31m                 \u001b[0mmidi_data\u001b[0m \u001b[0;34m=\u001b[0m \u001b[0mmido\u001b[0m\u001b[0;34m.\u001b[0m\u001b[0mMidiFile\u001b[0m\u001b[0;34m(\u001b[0m\u001b[0mfilename\u001b[0m\u001b[0;34m=\u001b[0m\u001b[0mmidi_file\u001b[0m\u001b[0;34m)\u001b[0m\u001b[0;34m\u001b[0m\u001b[0;34m\u001b[0m\u001b[0m\n\u001b[0m\u001b[1;32m     60\u001b[0m             \u001b[0;32melse\u001b[0m\u001b[0;34m:\u001b[0m\u001b[0;34m\u001b[0m\u001b[0;34m\u001b[0m\u001b[0m\n\u001b[1;32m     61\u001b[0m                 \u001b[0;31m# Otherwise, try passing it in as a file pointer\u001b[0m\u001b[0;34m\u001b[0m\u001b[0;34m\u001b[0m\u001b[0;34m\u001b[0m\u001b[0m\n",
      "\u001b[0;32m/Library/Frameworks/Python.framework/Versions/3.6/lib/python3.6/site-packages/mido/midifiles/midifiles.py\u001b[0m in \u001b[0;36m__init__\u001b[0;34m(self, filename, file, type, ticks_per_beat, charset, debug, clip)\u001b[0m\n\u001b[1;32m    313\u001b[0m             \u001b[0mself\u001b[0m\u001b[0;34m.\u001b[0m\u001b[0m_load\u001b[0m\u001b[0;34m(\u001b[0m\u001b[0mfile\u001b[0m\u001b[0;34m)\u001b[0m\u001b[0;34m\u001b[0m\u001b[0;34m\u001b[0m\u001b[0m\n\u001b[1;32m    314\u001b[0m         \u001b[0;32melif\u001b[0m \u001b[0mself\u001b[0m\u001b[0;34m.\u001b[0m\u001b[0mfilename\u001b[0m \u001b[0;32mis\u001b[0m \u001b[0;32mnot\u001b[0m \u001b[0;32mNone\u001b[0m\u001b[0;34m:\u001b[0m\u001b[0;34m\u001b[0m\u001b[0;34m\u001b[0m\u001b[0m\n\u001b[0;32m--> 315\u001b[0;31m             \u001b[0;32mwith\u001b[0m \u001b[0mio\u001b[0m\u001b[0;34m.\u001b[0m\u001b[0mopen\u001b[0m\u001b[0;34m(\u001b[0m\u001b[0mfilename\u001b[0m\u001b[0;34m,\u001b[0m \u001b[0;34m'rb'\u001b[0m\u001b[0;34m)\u001b[0m \u001b[0;32mas\u001b[0m \u001b[0mfile\u001b[0m\u001b[0;34m:\u001b[0m\u001b[0;34m\u001b[0m\u001b[0;34m\u001b[0m\u001b[0m\n\u001b[0m\u001b[1;32m    316\u001b[0m                 \u001b[0mself\u001b[0m\u001b[0;34m.\u001b[0m\u001b[0m_load\u001b[0m\u001b[0;34m(\u001b[0m\u001b[0mfile\u001b[0m\u001b[0;34m)\u001b[0m\u001b[0;34m\u001b[0m\u001b[0;34m\u001b[0m\u001b[0m\n\u001b[1;32m    317\u001b[0m \u001b[0;34m\u001b[0m\u001b[0m\n",
      "\u001b[0;31mFileNotFoundError\u001b[0m: [Errno 2] No such file or directory: 'datasets/trainData/chords/test/testlmd.mid'"
     ]
    }
   ],
   "source": [
    "plotTradeFour('test/testlmd.mid')"
   ]
  },
  {
   "cell_type": "markdown",
   "metadata": {
    "colab_type": "text",
    "id": "1z8g4E6UDrnj"
   },
   "source": [
    "## Test B: Overfitting"
   ]
  },
  {
   "cell_type": "code",
   "execution_count": 0,
   "metadata": {
    "colab": {},
    "colab_type": "code",
    "id": "c_NTDPAtDrnk"
   },
   "outputs": [],
   "source": [
    "# test how much % model can learn a melody\n",
    "\n",
    "# define test melody\n",
    "# train network\n",
    "# give percentage of how much it learnt\n",
    "\n",
    "chordsDict={\n",
    "    'C': [1,0,0,0,1,0,0,1,0,0,0,0],\n",
    "    'C7': [1,0,0,0,1,0,0,1,0,0,1,0],\n",
    "    'Cmaj7': [1,0,0,0,1,0,0,1,0,0,0,1]\n",
    "}"
   ]
  },
  {
   "cell_type": "code",
   "execution_count": 0,
   "metadata": {
    "colab": {},
    "colab_type": "code",
    "id": "q3bpvPeiDrnn",
    "outputId": "220e7428-964b-4cfc-cc61-7a60241946f8",
    "scrolled": false
   },
   "outputs": [
    {
     "data": {
      "text/plain": [
       "(15, 16, 31)"
      ]
     },
     "metadata": {
      "tags": []
     },
     "output_type": "display_data"
    },
    {
     "name": "stdout",
     "output_type": "stream",
     "text": [
      "Nr. of params: 30485\n"
     ]
    }
   ],
   "source": [
    "# test data\n",
    "notes = [0,2,4,7,7,4,2,0,0,2,4,7,7,4,2,0,0,5,3,4,5,8,7,5,0,2,4,7,7,4,2,0]\n",
    "times = np.ones(32)*8\n",
    "chord = chordsDict['C']\n",
    "chords = np.repeat(chord, 32).reshape((12,-1)).T\n",
    "encoding = True\n",
    "train_data, train_labels = getInputSequences(notes, times, chords, encoding=encoding, modulation=False, padding=False, seq_len=1)\n",
    "\n",
    "display(train_data.shape)\n",
    "batch_size = 32\n",
    "train_loader = getDataLoader(train_data, train_labels, batch_size=batch_size, shuffle=False)\n",
    "\n",
    "# test model\n",
    "model_params = {\n",
    "    'input_dim': train_data.shape[-1],\n",
    "    'hidden_dim': 64,\n",
    "    'num_layers': 1,\n",
    "    'output_dim_pitch': MELODY,\n",
    "    'output_dim_duration': TIMES,\n",
    "    'dropout': 0\n",
    "}\n",
    "\n",
    "testmodel = LSTM(**model_params)\n",
    "testmodel.to(device)"
   ]
  },
  {
   "cell_type": "code",
   "execution_count": 0,
   "metadata": {
    "colab": {},
    "colab_type": "code",
    "id": "gelE-IxbDrnq",
    "outputId": "714c3e78-b332-46d7-b07c-704a2c735345",
    "scrolled": true
   },
   "outputs": [
    {
     "name": "stdout",
     "output_type": "stream",
     "text": [
      "tensor([2, 2, 0, 2, 0, 0, 0, 0, 0, 0, 2, 2, 0, 0, 0])\n",
      "tensor([0., 5., 3., 4., 5., 8., 7., 5., 0., 2., 4., 7., 7., 4., 2.],\n",
      "       dtype=torch.float64)\n",
      "loss:  7.3719 acc_train:  6 acc_val:  6\n",
      "loss:  1.8806 acc_train:  20 acc_val:  20\n",
      "loss:  1.8009 acc_train:  26 acc_val:  26\n",
      "loss:  1.6949 acc_train:  33 acc_val:  33\n",
      "loss:  1.5203 acc_train:  53 acc_val:  53\n",
      "tensor([0, 5, 8, 4, 5, 8, 7, 5, 0, 7, 4, 7, 5, 4, 7])\n",
      "tensor([0., 5., 3., 4., 5., 8., 7., 5., 0., 2., 4., 7., 7., 4., 2.],\n",
      "       dtype=torch.float64)\n",
      "loss:  1.2851 acc_train:  73 acc_val:  73\n",
      "loss:  1.0255 acc_train:  80 acc_val:  80\n",
      "loss:  0.8072 acc_train:  86 acc_val:  86\n",
      "loss:  0.6302 acc_train:  86 acc_val:  86\n",
      "loss:  0.4656 acc_train:  93 acc_val:  93\n",
      "tensor([0, 5, 3, 4, 5, 8, 7, 5, 0, 2, 4, 7, 7, 4, 2])\n",
      "tensor([0., 5., 3., 4., 5., 8., 7., 5., 0., 2., 4., 7., 7., 4., 2.],\n",
      "       dtype=torch.float64)\n",
      "loss:  0.3227 acc_train:  100 acc_val:  100\n",
      "loss:  0.2176 acc_train:  100 acc_val:  100\n",
      "loss:  0.1449 acc_train:  100 acc_val:  100\n",
      "loss:  0.1 acc_train:  100 acc_val:  100\n",
      "loss:  0.0731 acc_train:  100 acc_val:  100\n",
      "tensor([0, 5, 3, 4, 5, 8, 7, 5, 0, 2, 4, 7, 7, 4, 2])\n",
      "tensor([0., 5., 3., 4., 5., 8., 7., 5., 0., 2., 4., 7., 7., 4., 2.],\n",
      "       dtype=torch.float64)\n",
      "loss:  0.0561 acc_train:  100 acc_val:  100\n",
      "loss:  0.0446 acc_train:  100 acc_val:  100\n",
      "loss:  0.0366 acc_train:  100 acc_val:  100\n",
      "loss:  0.0308 acc_train:  100 acc_val:  100\n",
      "loss:  0.0264 acc_train:  100 acc_val:  100\n",
      "tensor([0, 5, 3, 4, 5, 8, 7, 5, 0, 2, 4, 7, 7, 4, 2])\n",
      "tensor([0., 5., 3., 4., 5., 8., 7., 5., 0., 2., 4., 7., 7., 4., 2.],\n",
      "       dtype=torch.float64)\n",
      "loss:  0.0231 acc_train:  100 acc_val:  100\n",
      "loss:  0.0204 acc_train:  100 acc_val:  100\n",
      "loss:  0.0182 acc_train:  100 acc_val:  100\n",
      "loss:  0.0164 acc_train:  100 acc_val:  100\n",
      "loss:  0.0149 acc_train:  100 acc_val:  100\n",
      "tensor([0, 5, 3, 4, 5, 8, 7, 5, 0, 2, 4, 7, 7, 4, 2])\n",
      "tensor([0., 5., 3., 4., 5., 8., 7., 5., 0., 2., 4., 7., 7., 4., 2.],\n",
      "       dtype=torch.float64)\n",
      "loss:  0.0136 acc_train:  100 acc_val:  100\n",
      "loss:  0.0125 acc_train:  100 acc_val:  100\n",
      "loss:  0.0116 acc_train:  100 acc_val:  100\n",
      "loss:  0.0107 acc_train:  100 acc_val:  100\n",
      "loss:  0.01 acc_train:  100 acc_val:  100\n",
      "tensor([0, 5, 3, 4, 5, 8, 7, 5, 0, 2, 4, 7, 7, 4, 2])\n",
      "tensor([0., 5., 3., 4., 5., 8., 7., 5., 0., 2., 4., 7., 7., 4., 2.],\n",
      "       dtype=torch.float64)\n",
      "loss:  0.0093 acc_train:  100 acc_val:  100\n",
      "loss:  0.0087 acc_train:  100 acc_val:  100\n",
      "loss:  0.0082 acc_train:  100 acc_val:  100\n",
      "loss:  0.0077 acc_train:  100 acc_val:  100\n",
      "loss:  0.0073 acc_train:  100 acc_val:  100\n",
      "tensor([0, 5, 3, 4, 5, 8, 7, 5, 0, 2, 4, 7, 7, 4, 2])\n",
      "tensor([0., 5., 3., 4., 5., 8., 7., 5., 0., 2., 4., 7., 7., 4., 2.],\n",
      "       dtype=torch.float64)\n",
      "loss:  0.0069 acc_train:  100 acc_val:  100\n",
      "loss:  0.0066 acc_train:  100 acc_val:  100\n",
      "loss:  0.0062 acc_train:  100 acc_val:  100\n",
      "loss:  0.0059 acc_train:  100 acc_val:  100\n",
      "loss:  0.0056 acc_train:  100 acc_val:  100\n",
      "tensor([0, 5, 3, 4, 5, 8, 7, 5, 0, 2, 4, 7, 7, 4, 2])\n",
      "tensor([0., 5., 3., 4., 5., 8., 7., 5., 0., 2., 4., 7., 7., 4., 2.],\n",
      "       dtype=torch.float64)\n",
      "loss:  0.0054 acc_train:  100 acc_val:  100\n",
      "loss:  0.0052 acc_train:  100 acc_val:  100\n",
      "loss:  0.0049 acc_train:  100 acc_val:  100\n",
      "loss:  0.0047 acc_train:  100 acc_val:  100\n",
      "loss:  0.0045 acc_train:  100 acc_val:  100\n",
      "tensor([0, 5, 3, 4, 5, 8, 7, 5, 0, 2, 4, 7, 7, 4, 2])\n",
      "tensor([0., 5., 3., 4., 5., 8., 7., 5., 0., 2., 4., 7., 7., 4., 2.],\n",
      "       dtype=torch.float64)\n",
      "loss:  0.0044 acc_train:  100 acc_val:  100\n",
      "loss:  0.0042 acc_train:  100 acc_val:  100\n",
      "loss:  0.004 acc_train:  100 acc_val:  100\n",
      "loss:  0.0039 acc_train:  100 acc_val:  100\n",
      "loss:  0.0037 acc_train:  100 acc_val:  100\n",
      "tensor([0, 5, 3, 4, 5, 8, 7, 5, 0, 2, 4, 7, 7, 4, 2])\n",
      "tensor([0., 5., 3., 4., 5., 8., 7., 5., 0., 2., 4., 7., 7., 4., 2.],\n",
      "       dtype=torch.float64)\n",
      "loss:  0.0036 acc_train:  100 acc_val:  100\n",
      "loss:  0.0035 acc_train:  100 acc_val:  100\n",
      "loss:  0.0034 acc_train:  100 acc_val:  100\n",
      "loss:  0.0033 acc_train:  100 acc_val:  100\n",
      "loss:  0.0032 acc_train:  100 acc_val:  100\n",
      "tensor([0, 5, 3, 4, 5, 8, 7, 5, 0, 2, 4, 7, 7, 4, 2])\n",
      "tensor([0., 5., 3., 4., 5., 8., 7., 5., 0., 2., 4., 7., 7., 4., 2.],\n",
      "       dtype=torch.float64)\n",
      "loss:  0.0031 acc_train:  100 acc_val:  100\n",
      "loss:  0.003 acc_train:  100 acc_val:  100\n",
      "loss:  0.0029 acc_train:  100 acc_val:  100\n",
      "loss:  0.0028 acc_train:  100 acc_val:  100\n",
      "loss:  0.0027 acc_train:  100 acc_val:  100\n",
      "tensor([0, 5, 3, 4, 5, 8, 7, 5, 0, 2, 4, 7, 7, 4, 2])\n",
      "tensor([0., 5., 3., 4., 5., 8., 7., 5., 0., 2., 4., 7., 7., 4., 2.],\n",
      "       dtype=torch.float64)\n",
      "loss:  0.0026 acc_train:  100 acc_val:  100\n",
      "loss:  0.0025 acc_train:  100 acc_val:  100\n",
      "loss:  0.0025 acc_train:  100 acc_val:  100\n",
      "loss:  0.0024 acc_train:  100 acc_val:  100\n",
      "loss:  0.0023 acc_train:  100 acc_val:  100\n",
      "tensor([0, 5, 3, 4, 5, 8, 7, 5, 0, 2, 4, 7, 7, 4, 2])\n",
      "tensor([0., 5., 3., 4., 5., 8., 7., 5., 0., 2., 4., 7., 7., 4., 2.],\n",
      "       dtype=torch.float64)\n",
      "loss:  0.0023 acc_train:  100 acc_val:  100\n",
      "loss:  0.0022 acc_train:  100 acc_val:  100\n",
      "loss:  0.0022 acc_train:  100 acc_val:  100\n",
      "loss:  0.0021 acc_train:  100 acc_val:  100\n",
      "loss:  0.0021 acc_train:  100 acc_val:  100\n",
      "tensor([0, 5, 3, 4, 5, 8, 7, 5, 0, 2, 4, 7, 7, 4, 2])\n",
      "tensor([0., 5., 3., 4., 5., 8., 7., 5., 0., 2., 4., 7., 7., 4., 2.],\n",
      "       dtype=torch.float64)\n",
      "loss:  0.002 acc_train:  100 acc_val:  100\n",
      "loss:  0.002 acc_train:  100 acc_val:  100\n",
      "loss:  0.0019 acc_train:  100 acc_val:  100\n",
      "loss:  0.0019 acc_train:  100 acc_val:  100\n",
      "loss:  0.0018 acc_train:  100 acc_val:  100\n",
      "tensor([0, 5, 3, 4, 5, 8, 7, 5, 0, 2, 4, 7, 7, 4, 2])\n",
      "tensor([0., 5., 3., 4., 5., 8., 7., 5., 0., 2., 4., 7., 7., 4., 2.],\n",
      "       dtype=torch.float64)\n",
      "loss:  0.0018 acc_train:  100 acc_val:  100\n",
      "loss:  0.0017 acc_train:  100 acc_val:  100\n",
      "loss:  0.0017 acc_train:  100 acc_val:  100\n",
      "loss:  0.0017 acc_train:  100 acc_val:  100\n",
      "loss:  0.0016 acc_train:  100 acc_val:  100\n",
      "tensor([0, 5, 3, 4, 5, 8, 7, 5, 0, 2, 4, 7, 7, 4, 2])\n",
      "tensor([0., 5., 3., 4., 5., 8., 7., 5., 0., 2., 4., 7., 7., 4., 2.],\n",
      "       dtype=torch.float64)\n",
      "loss:  0.0016 acc_train:  100 acc_val:  100\n",
      "loss:  0.0016 acc_train:  100 acc_val:  100\n",
      "loss:  0.0015 acc_train:  100 acc_val:  100\n",
      "loss:  0.0015 acc_train:  100 acc_val:  100\n",
      "loss:  0.0015 acc_train:  100 acc_val:  100\n",
      "tensor([0, 5, 3, 4, 5, 8, 7, 5, 0, 2, 4, 7, 7, 4, 2])\n",
      "tensor([0., 5., 3., 4., 5., 8., 7., 5., 0., 2., 4., 7., 7., 4., 2.],\n",
      "       dtype=torch.float64)\n",
      "loss:  0.0014 acc_train:  100 acc_val:  100\n",
      "loss:  0.0014 acc_train:  100 acc_val:  100\n",
      "loss:  0.0014 acc_train:  100 acc_val:  100\n",
      "loss:  0.0013 acc_train:  100 acc_val:  100\n",
      "loss:  0.0013 acc_train:  100 acc_val:  100\n",
      "tensor([0, 5, 3, 4, 5, 8, 7, 5, 0, 2, 4, 7, 7, 4, 2])\n",
      "tensor([0., 5., 3., 4., 5., 8., 7., 5., 0., 2., 4., 7., 7., 4., 2.],\n",
      "       dtype=torch.float64)\n",
      "loss:  0.0013 acc_train:  100 acc_val:  100\n",
      "loss:  0.0013 acc_train:  100 acc_val:  100\n",
      "loss:  0.0012 acc_train:  100 acc_val:  100\n",
      "loss:  0.0012 acc_train:  100 acc_val:  100\n",
      "loss:  0.0012 acc_train:  100 acc_val:  100\n",
      "tensor([0, 5, 3, 4, 5, 8, 7, 5, 0, 2, 4, 7, 7, 4, 2])\n",
      "tensor([0., 5., 3., 4., 5., 8., 7., 5., 0., 2., 4., 7., 7., 4., 2.],\n",
      "       dtype=torch.float64)\n",
      "loss:  0.0012 acc_train:  100 acc_val:  100\n",
      "loss:  0.0012 acc_train:  100 acc_val:  100\n",
      "loss:  0.0011 acc_train:  100 acc_val:  100\n",
      "loss:  0.0011 acc_train:  100 acc_val:  100\n",
      "loss:  0.0011 acc_train:  100 acc_val:  100\n"
     ]
    },
    {
     "data": {
      "image/png": "[encoded data removed]",
      "text/plain": [
       "<Figure size 432x288 with 1 Axes>"
      ]
     },
     "metadata": {
      "needs_background": "light",
      "tags": []
     },
     "output_type": "display_data"
    }
   ],
   "source": [
    "train_params = {\n",
    "    'train_loader': train_loader,\n",
    "    'val_loader': train_loader,\n",
    "    'optim': torch.optim.Adam(testmodel.parameters(), lr=1e-2),\n",
    "    'loss_fn': torch.nn.CrossEntropyLoss(),\n",
    "    'num_epochs': 1000\n",
    "}\n",
    "train(testmodel, **train_params)"
   ]
  },
  {
   "cell_type": "code",
   "execution_count": 0,
   "metadata": {
    "colab": {},
    "colab_type": "code",
    "id": "57ym3Kx-Drnz"
   },
   "outputs": [],
   "source": []
  },
  {
   "cell_type": "code",
   "execution_count": 0,
   "metadata": {
    "colab": {},
    "colab_type": "code",
    "id": "1zPqpYyNDrn3"
   },
   "outputs": [],
   "source": [
    "## Testing Krumhansl"
   ]
  },
  {
   "cell_type": "code",
   "execution_count": 0,
   "metadata": {
    "colab": {},
    "colab_type": "code",
    "id": "fIP8bzP9Drn6"
   },
   "outputs": [],
   "source": [
    "folder = \"datasets/lmd_full/0/\"\n",
    "#files[:5]\n",
    "\n",
    "files = [file for file in os.listdir(folder) if '.mid' in file]\n",
    "pm = pretty_midi.PrettyMIDI(folder + files[2])\n",
    "pch = pm.get_pitch_class_histogram()\n",
    "\n",
    "np.argmax(ks_key(pch)[1])\n",
    "\n",
    "pm.key_signature_changes\n",
    "\n",
    "folder = \"datasets/Piano-midi.de/train/\" #0.75 ohne C mit rel\n",
    "folder = \"datasets/kpcorpus/\" \n",
    "folder = \"datasets/lmd_full/2/\"\n",
    "t = time.time()\n",
    "\n",
    "# find keys\n",
    "files = [file for file in os.listdir(folder) if '.mid' in file]\n",
    "    \n",
    "def key(key_number):\n",
    "    return pretty_midi.key_number_to_key_name(key_number)\n",
    "\n",
    "def keynr(key):\n",
    "    return pretty_midi.key_name_to_key_number(key)\n",
    "       \n",
    "def isFifth(realkey,predkey):\n",
    "    return (realkey - predkey)%12 == 7 or (predkey - realkey)%12 == 7\n",
    "        \n",
    "def isRelative(realkey,predkey):\n",
    "    if realkey > 11 and (realkey - 9) % 12 == predkey:\n",
    "        return True\n",
    "    elif predkey > 11 and (predkey - 9) % 12 == realkey:\n",
    "        return True\n",
    "    else:\n",
    "        return False\n",
    "        \n",
    "def isParallel(realkey,predkey):\n",
    "    return realkey%12 == predkey%12\n",
    "\n",
    "correct ,fifth,relative,parallel,total = 0,0,0,0,0\n",
    "keys=[]\n",
    "print(\"Scale by first keychange event, \\t Scale by KrumhanslSchmuckler, \\t, Filename\")\n",
    "for i, file in enumerate(files[:100]):\n",
    "    try:\n",
    "        pm = pretty_midi.PrettyMIDI(folder + file)\n",
    "    except:\n",
    "        continue\n",
    "\n",
    "    pm = pretty_midi.PrettyMIDI(folder + file)\n",
    "    if pm.key_signature_changes != []:\n",
    "        try:\n",
    "            algkey = ks_key(pm.get_pitch_class_histogram(), 'aarden')\n",
    "            pmkeys = [x.key_number for x in pm.key_signature_changes]\n",
    "            pmkey = pmkeys[0]\n",
    "            if pmkey == 0:\n",
    "                continue\n",
    "            keys.append([pmkey,algkey])\n",
    "            #print(key(pmkey), '\\t', key(int(algkey)), '\\t', file, '\\t', pmkeys)\n",
    "        except:\n",
    "            pass\n",
    "\n",
    "correct ,fifth,relative,parallel,total = 0,0,0,0,0\n",
    "for key in keys:\n",
    "    realkey = key[0]\n",
    "    predkey = key[1]\n",
    "    total += 1\n",
    "    if realkey == predkey:\n",
    "        correct += 1\n",
    "    elif isFifth(realkey,predkey):\n",
    "        fifth += 1\n",
    "    elif isRelative(realkey,predkey):\n",
    "        relative += 1\n",
    "    elif isParallel(realkey,predkey):\n",
    "        parallel += 1\n",
    "print(\"time\", np.round(time.time()-t,2), \"s\")\n",
    "print(correct, relative, fifth, parallel, total)\n",
    "print((correct+relative)/total, correct/total, relative/total, fifth/total, parallel/total, (total-correct-fifth-relative-parallel)/total)\n"
   ]
  },
  {
   "cell_type": "code",
   "execution_count": 0,
   "metadata": {
    "colab": {},
    "colab_type": "code",
    "id": "gfDCQVeKDrn9"
   },
   "outputs": [],
   "source": []
  },
  {
   "cell_type": "code",
   "execution_count": 0,
   "metadata": {
    "colab": {},
    "colab_type": "code",
    "id": "6frqMELbDroA"
   },
   "outputs": [],
   "source": []
  },
  {
   "cell_type": "code",
   "execution_count": 0,
   "metadata": {
    "colab": {},
    "colab_type": "code",
    "id": "7Amv8q3uDroC"
   },
   "outputs": [],
   "source": []
  },
  {
   "cell_type": "code",
   "execution_count": 0,
   "metadata": {
    "colab": {},
    "colab_type": "code",
    "id": "EYwLvorgDroH"
   },
   "outputs": [],
   "source": []
  },
  {
   "cell_type": "code",
   "execution_count": 0,
   "metadata": {
    "colab": {},
    "colab_type": "code",
    "id": "m4CGABNGDroP"
   },
   "outputs": [],
   "source": []
  }
 ],
 "metadata": {
  "accelerator": "GPU",
  "colab": {
   "collapsed_sections": [],
   "name": "aJamBuddyDACTFBass.ipynb",
   "provenance": [],
   "toc_visible": true,
   "version": "0.3.2"
  },
  "kernelspec": {
   "display_name": "Python 3",
   "language": "python",
   "name": "python3"
  },
  "language_info": {
   "codemirror_mode": {
    "name": "ipython",
    "version": 3
   },
   "file_extension": ".py",
   "mimetype": "text/x-python",
   "name": "python",
   "nbconvert_exporter": "python",
   "pygments_lexer": "ipython3",
   "version": "3.6.7"
  }
 },
 "nbformat": 4,
 "nbformat_minor": 1
}
