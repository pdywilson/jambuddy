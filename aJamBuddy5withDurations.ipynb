{
 "cells": [
  {
   "cell_type": "code",
   "execution_count": 1,
   "metadata": {
    "colab": {},
    "colab_type": "code",
    "id": "VSrdFgxyDrmG",
    "scrolled": false
   },
   "outputs": [],
   "source": [
    "%matplotlib inline\n",
    "import os\n",
    "import time\n",
    "import numpy as np\n",
    "import matplotlib.pyplot as plt\n",
    "import IPython.display\n",
    "import collections\n",
    "from collections import Counter\n",
    "import seaborn as sns\n",
    "#import pyfluidsynth\n",
    "import random\n",
    "\n",
    "from pathlib import Path\n",
    "import pretty_midi\n",
    "import librosa.display\n",
    "import glob\n",
    "import datetime\n",
    "\n",
    "from music21 import *\n",
    "\n",
    "import tensorflow as tf\n",
    "tf.enable_eager_execution()\n",
    "\n",
    "%load_ext autoreload\n",
    "%autoreload 2\n",
    "\n",
    "folder = 'train/'\n"
   ]
  },
  {
   "cell_type": "code",
   "execution_count": 2,
   "metadata": {
    "colab": {
     "base_uri": "https://localhost:8080/",
     "height": 122
    },
    "colab_type": "code",
    "id": "YbO_nrQpDrmO",
    "outputId": "ba1ca338-a594-49d2-986d-5914746ffb96"
   },
   "outputs": [],
   "source": [
    "# some prep steps\n",
    "# for google colab\n",
    "try:\n",
    "    import google.colab\n",
    "    IN_COLAB = True\n",
    "except:\n",
    "    IN_COLAB = False\n",
    "    \n",
    "if IN_COLAB:\n",
    "    from google.colab import drive\n",
    "    drive.mount('/content/drive/')\n",
    "    data_folder = \"/content/drive/My Drive/Colab Notebooks/data/\"\n",
    "    os.chdir(data_folder)\n",
    "else:\n",
    "    data_folder = \"\"\n"
   ]
  },
  {
   "cell_type": "markdown",
   "metadata": {
    "colab_type": "text",
    "id": "95G80nAcDrmS"
   },
   "source": [
    "# A. Preprocess Midi file\n",
    "#### Choose a harmony and a melody track from a MIDI file"
   ]
  },
  {
   "cell_type": "code",
   "execution_count": 3,
   "metadata": {
    "colab": {},
    "colab_type": "code",
    "id": "tdAtAPtXNX61"
   },
   "outputs": [],
   "source": [
    "def plot_piano_roll(pm, start_pitch, end_pitch, fs=100):\n",
    "    librosa.display.specshow(pm.get_piano_roll(fs)[start_pitch:end_pitch],\n",
    "                             hop_length=1, sr=fs, x_axis='time', y_axis='cqt_note',\n",
    "                             fmin=pretty_midi.note_number_to_hz(start_pitch))"
   ]
  },
  {
   "cell_type": "code",
   "execution_count": 4,
   "metadata": {
    "colab": {},
    "colab_type": "code",
    "id": "iSk5F55lDrmb"
   },
   "outputs": [],
   "source": [
    "## PARAMS\n",
    "# highest note is melody\n",
    "LOW = 48 # C2=48, C3=60, C4=72, C5=84, C6=96\n",
    "HIGH = 84 # range(48,84) = 36 notes \n",
    "\n",
    "# input sizes\n",
    "MELODY = 37 \n",
    "TIMES = 48\n",
    "CHORDS = 12\n"
   ]
  },
  {
   "cell_type": "code",
   "execution_count": 5,
   "metadata": {
    "colab": {},
    "colab_type": "code",
    "id": "eAk1YucbNX67"
   },
   "outputs": [],
   "source": [
    "# krumhansl schmuckler\n",
    "# adapted from https://gist.github.com/bmcfee/1f66825cef2eb34c839b42dddbad49fd\n",
    "import scipy.linalg\n",
    "import scipy.stats\n",
    "\n",
    "def ks_key(X, weights='kessler'):\n",
    "    '''Estimate the key from a pitch class distribution\n",
    "    \n",
    "    Parameters\n",
    "    ----------\n",
    "    X : np.ndarray, shape=(12,)\n",
    "        Pitch-class energy distribution.  Need not be normalized\n",
    "        \n",
    "    Returns\n",
    "    -------\n",
    "    major : np.ndarray, shape=(12,)\n",
    "    minor : np.ndarray, shape=(12,)\n",
    "    \n",
    "        For each key (C:maj, ..., B:maj) and (C:min, ..., B:min),\n",
    "        the correlation score for `X` against that key.\n",
    "    '''\n",
    "    X = scipy.stats.zscore(X)\n",
    "    \n",
    "    # Coefficients from Kumhansl and Schmuckler\n",
    "    # as reported here: http://rnhart.net/articles/key-finding/\n",
    "    \n",
    "    # weights as https://musicinformationretrieval.wordpress.com/2017/02/24/state-of-the-art-2/\n",
    "    if weights == 'kessler':\n",
    "        major = np.asarray([6.35, 2.23, 3.48, 2.33, 4.38, 4.09, 2.52, 5.19, 2.39, 3.66, 2.29, 2.88])\n",
    "        minor = np.asarray([6.33, 2.68, 3.52, 5.38, 2.60, 3.53, 2.54, 4.75, 3.98, 2.69, 3.34, 3.17])\n",
    "    elif weights == 'schmuckler':\n",
    "        major = np.asarray([6.35, 2.33, 3.48, 2.33, 4.38, 4.09, 2.52, 5.19, 2.39, 3.66, 2.29, 2.88])\n",
    "        minor = np.asarray([6.33, 2.68, 3.52, 5.38, 2.60, 3.53, 2.54, 4.75, 3.98, 2.69, 3.34, 3.17])\n",
    "    elif weights == 'aarden':\n",
    "        major = np.asarray([17.7661, 0.145624, 14.9265, 0.160186, 19.8049, 11.3587, 0.281248, 22.062, 0.145624, 8.15494, 0.232998, 4.95122])\n",
    "        minor = np.asarray([18.2648, 0.737619, 14.0499, 16.8599, 0.702494, 14.4362, 0.702494, 18.6161, 4.56621, 1.93186, 7.37619, 1.75623])\n",
    "    elif weights == 'sapp':\n",
    "        major = np.asarray([2, 0, 1, 0, 1, 1, 0, 2, 0, 1, 0, 1])\n",
    "        minor = np.asarray([2, 0, 1, 1, 0, 1, 0, 2, 1, 0, 0.5, 0.5])\n",
    "    elif weights == 'bellman':\n",
    "        major = np.asarray([16.8, 0.86, 12.95, 1.41, 13.49, 11.93, 1.25, 20.28, 1.8, 8.04, 0.62, 10.57])\n",
    "        minor = np.asarray([18.16, 0.69, 12.99, 13.34, 1.07, 11.15, 1.38, 21.07, 7.49, 1.53, 0.92, 10.21])\n",
    "    elif weights == 'temperley':\n",
    "        major = np.asarray([0.748, 0.06, 0.488, 0.082, 0.67, 0.46, 0.096, 0.715, 0.104, 0.366, 0.057, 0.4])\n",
    "        minor = np.asarray([0.712, 0.84, 0.474, 0.618, 0.049, 0.46, 0.105, 0.747, 0.404, 0.067, 0.133, 0.33])\n",
    "        \n",
    "        \n",
    "    major = scipy.stats.zscore(major)\n",
    "    minor = scipy.stats.zscore(minor)\n",
    "    \n",
    "    # Generate all rotations of major\n",
    "    major = scipy.linalg.circulant(major)\n",
    "    minor = scipy.linalg.circulant(minor)\n",
    "    \n",
    "    major = major.T.dot(X)\n",
    "    minor = minor.T.dot(X)\n",
    "    \n",
    "    major_max = np.argmax(major)\n",
    "    minor_max = np.argmax(minor)\n",
    "    return major_max if np.max(major) >= np.max(minor) else minor_max+12"
   ]
  },
  {
   "cell_type": "code",
   "execution_count": 6,
   "metadata": {
    "colab": {},
    "colab_type": "code",
    "id": "eYnJdXBYDrmf"
   },
   "outputs": [],
   "source": [
    "# MIDI processing\n",
    "def getTracks(file):\n",
    "    pm_harmony = pretty_midi.PrettyMIDI(folder+'chords/'+file).instruments[0].notes\n",
    "    pm_melody = pretty_midi.PrettyMIDI(folder+'melody/'+file).instruments[0].notes\n",
    "    return {'melody': pm_melody, 'harmony': pm_harmony}\n",
    "\n",
    "def getMelodyAndHarmonyBass(file):\n",
    "    #already midi file with one piano and one melody\n",
    "    pm = pretty_midi.PrettyMIDI(file)\n",
    "    pm.remove_invalid_notes()\n",
    "    for i, elt in enumerate(pm.instruments):\n",
    "        if 'piano' in pm.instruments[i].name.lower():\n",
    "            piano = pm.instruments[i].notes\n",
    "        elif 'bass' in pm.instruments[i].name.lower():\n",
    "            bass = pm.instruments[i].notes\n",
    "    \n",
    "    result = {'melody': bass, 'harmony': piano}\n",
    "    \n",
    "    \n",
    "    return result\n",
    "\n",
    "\n",
    "def getMelodyAndHarmony(file):\n",
    "    def padAndAdd(a,b):\n",
    "        return sorted(a+b,key= lambda x:x.start)\n",
    "    \n",
    "    pm = pretty_midi.PrettyMIDI(file)\n",
    "    pm.remove_invalid_notes()\n",
    "    print(\"\\nEasy Processing: \"+file)\n",
    "    \n",
    "    if len(pm.instruments) == 1:\n",
    "        print(\"Both: Using only track for both harmony and melody\")\n",
    "        pianoroll = pm.instruments[0].notes\n",
    "        return {'melody': pianoroll, 'harmony': pianoroll}\n",
    "    \n",
    "    else:\n",
    "        maxlen = 0\n",
    "        pianos = []\n",
    "        guitars = []\n",
    "        melodies = []\n",
    "        for i, elt in enumerate(pm.instruments):\n",
    "            #if pm.instruments[i].is_drum:\n",
    "            #    continue\n",
    "            pianoroll = pm.instruments[i].get_piano_roll().T\n",
    "            numnotes = pianoroll.nonzero()[0].shape[0]\n",
    "            if numnotes > maxlen:\n",
    "                mostnotes = i\n",
    "                maxlen = numnotes\n",
    "            if 'piano' in pm.instruments[i].name.lower():             #if pm.instruments[i].program in range(8): # MIDI 0..7 are pianos\n",
    "                pianos.append((pm.instruments[i].notes,numnotes))\n",
    "            if 'guitar' in pm.instruments[i].name.lower():             #if pm.instruments[i].program in range(24,32):\n",
    "                guitars.append((pm.instruments[i].notes,numnotes))\n",
    "            if 'melody' in pm.instruments[i].name.lower():\n",
    "                # melodies.append((pianoroll,numnotes)) do i really want to padandadd two melodies always??\n",
    "                melodies.append(pm.instruments[i].notes)\n",
    "\n",
    "        if pianos != []:\n",
    "            print(\"Harmony: Using piano with most notes as harmony of\", len(pianos))\n",
    "            pianowithmostnotes = max(pianos, key=lambda x: x[1])\n",
    "            harmonytrack = pianowithmostnotes[0]\n",
    "        elif guitars != []:\n",
    "            print(\"Harmony: Using guitar with most notes as harmony of\", len(guitars))\n",
    "            guitarwithmostnotes = max(guitars, key=lambda x: x[1])\n",
    "            harmonytrack = guitarwithmostnotes[0]\n",
    "        else:\n",
    "            print(\"Error: no piano or guitar track found\")\n",
    "            harmonytrack = pm.instruments[0].notes\n",
    "            return\n",
    "\n",
    "        if len(melodies) == 1:\n",
    "            print(\"Melody: using only melody track as melody\")\n",
    "            melodytrack = melodies[0]\n",
    "        elif len(melodies) == 2:\n",
    "            print(\"Melody: padding and adding two melodies to one\")\n",
    "            melodytrack = padAndAdd(melodies[0], melodies[1])\n",
    "        elif len(melodies) > 2:\n",
    "            print(\"Melody: more than 2 melody tracks. padding and adding first two of # \", len(melodies),\"melodies.\")\n",
    "            melodytrack = padAndAdd(melodies[0], melodies[1])\n",
    "        else:\n",
    "            print(\"Error: no melody track found.\")\n",
    "            melodytrack = pm.instruments[0].notes\n",
    "            return\n",
    "\n",
    "        return {'melody': melodytrack, 'harmony': harmonytrack}\n",
    "\n",
    "def oneHot(idx, arraysize):\n",
    "    if idx >= arraysize:\n",
    "        print(\"error idx > arraysize\")\n",
    "        return\n",
    "    ar = np.zeros(arraysize)\n",
    "    ar[idx] = 1\n",
    "    return ar\n",
    "\n",
    "def processMidi(file):\n",
    "    pm = pretty_midi.PrettyMIDI(folder+'chords/'+file)\n",
    "    #tracks = getMelodyAndHarmony(file)\n",
    "    #tracks = getMelodyAndHarmonyBass(file) //changing, this doesnt work anymore -> DACBass\n",
    "    tracks = getTracks(file)\n",
    "\n",
    "    pmnotes = tracks['melody']\n",
    "    notes, times = [], []\n",
    "    currenttime = 0\n",
    "    for i, note in enumerate(pmnotes):\n",
    "        if note.start > currenttime:\n",
    "            notes.append(MELODY-1)\n",
    "            duration = pm.time_to_tick(note.start-currenttime)\n",
    "            times.append(duration)\n",
    "        if note.pitch in range(LOW,HIGH):\n",
    "            notes.append(note.pitch - LOW)\n",
    "        else:\n",
    "            notes.append(note.pitch % 12)\n",
    "        if i < len(pmnotes)-1 and note.end > pmnotes[i+1].start: # overlap with next note\n",
    "            times.append(pm.time_to_tick(pmnotes[i+1].start - note.start))\n",
    "            currenttime = pmnotes[i+1].start\n",
    "        else:\n",
    "            times.append(pm.time_to_tick(note.end-note.start))\n",
    "            currenttime = note.end\n",
    "    times = np.array(np.round(np.array(times)/pm.resolution*12),dtype=np.int32)\n",
    "    \n",
    "    # getChords\n",
    "    pmnotes = tracks['harmony']\n",
    "    notesDict = {}\n",
    "    for i, note in enumerate(pmnotes):\n",
    "        startbeat = int(pm.time_to_tick(note.start)/pm.resolution)\n",
    "        endbeat = int(pm.time_to_tick(note.end)/pm.resolution)\n",
    "        if startbeat == endbeat:\n",
    "            endbeat += 1\n",
    "        for j in range(startbeat, endbeat): #evry beat\n",
    "            notesDict[j] = notesDict.get(j,np.zeros(12)) + oneHot(note.pitch % 12,12)\n",
    "    \n",
    "\n",
    "    # append for every beat (timestep) a vector. either np.zeros or chordinfovector\n",
    "    chords = []\n",
    "    for i in range(max(notesDict)): \n",
    "        chords.append(notesDict.get(i,np.zeros(12)))\n",
    "    chordsByBeat = np.array(chords)\n",
    "    \n",
    "\n",
    "    # connect notes and chords\n",
    "    currbeat = 0\n",
    "    newchords = []\n",
    "    for time in times:\n",
    "        beat = int(currbeat/12)\n",
    "        newchord = np.zeros(12)\n",
    "        for j in range(int((time)/12)): \n",
    "            if j+beat < chordsByBeat.shape[0]:\n",
    "                newchord += chordsByBeat[j+beat]\n",
    "        newchords.append(newchord)\n",
    "        currbeat += time\n",
    "    chords = np.array(newchords)\n",
    "    \n",
    "    \n",
    "     #cleanup\n",
    "    times[np.where(times > 48)[0]] = 48\n",
    "    notes = np.array(notes)[np.where(times > 0)[0]]\n",
    "    chords = chords[np.where(times > 0)[0]]\n",
    "    times = times[np.where(times > 0)[0]]\n",
    "    times = times - 1 # reshift to 0..47\n",
    "    \n",
    "    \n",
    "    #new Chord and key analysis, first only key analysis\n",
    "    algkey = ks_key(pm.get_pitch_class_histogram(), 'aarden')\n",
    "    key = oneHot(algkey,24)\n",
    "    \n",
    "    \n",
    "    \n",
    "    \n",
    "    return notes, times, chords, chordsByBeat, key"
   ]
  },
  {
   "cell_type": "code",
   "execution_count": 7,
   "metadata": {
    "colab": {},
    "colab_type": "code",
    "id": "0kvKT9W1Drmi"
   },
   "outputs": [],
   "source": [
    "# Input representation\n",
    "def getCircleOfThirds(note):\n",
    "    \"\"\"input: note, scalar in [0,C)\n",
    "    output: array, size (11,) including 3 bits for octave, 1 for rest\n",
    "    \"\"\"\n",
    "    circleMajor = lambda x: x%4\n",
    "    circleMinor = lambda x: x%3\n",
    "    representation = np.zeros(11)\n",
    "    if note < MELODY-1:\n",
    "        absnote = note % 12\n",
    "        octave = int(note/12)\n",
    "        representation[7+octave] = 1\n",
    "        representation[circleMajor(absnote)] = 1\n",
    "        representation[4+circleMinor(absnote)] = 1\n",
    "    else:\n",
    "        representation[-1] = 1\n",
    "    return representation\n",
    "\n",
    "def getDuration(duration):\n",
    "    \"\"\"input size (1,) in [0,48)\n",
    "       output size (6,)\n",
    "    \"\"\"\n",
    "    return np.unpackbits(np.uint8(duration))[2:]\n",
    "\n",
    "def getChord(chord):\n",
    "    \"\"\"input size (12,)\n",
    "    outputs current and next chord shape (7,)\n",
    "    \"\"\"\n",
    "    repre = np.zeros(7)\n",
    "    for i, elt in enumerate(chord):\n",
    "        x = elt * getCircleOfThirds(i)[:7]\n",
    "        repre += x\n",
    "    return repre\n",
    "\n",
    "def getFeatureVectors(processedMidi, modulation=False):\n",
    "    \"\"\"input size [7(pitch)+2(octaves)+1(Rest)]+6(duration)+7(chords)+7(nextchords)=30=Fsize #TODO: maybe change chords\n",
    "    Creates Feature Vector from notes lists.\n",
    "    Input: notes, times, chords from processMIDI\n",
    "    Output: features array, size: (N, Fsize)  Fsize varies\n",
    "    \"\"\"\n",
    "    notes, times, chords, chordsByBeat, key = processedMidi\n",
    "    features = []\n",
    "    for i, note in enumerate(notes[:-1]):\n",
    "        feature = np.empty(0)\n",
    "        if encodingDict['melody']:\n",
    "            if notes[i] < MELODY: # pitch or pause bit\n",
    "                feature = np.concatenate((feature, oneHot(notes[i],MELODY)))\n",
    "            else:\n",
    "                print(\"melody over 37\")\n",
    "                feature = np.concatenate((feature, np.zeros(MELODY)))\n",
    "            \n",
    "        if encodingDict['melodyModulo']: \n",
    "            if notes[i] < MELODY-1: # only pitch bit or zeros if pause\n",
    "                feature = np.concatenate((feature, oneHot(notes[i]%12,12)))\n",
    "            else:\n",
    "                feature = np.concatenate((feature, np.zeros(12)))\n",
    "        if encodingDict['melodyEncoded']: # pitch+octave+rest\n",
    "            feature = np.concatenate((feature,getCircleOfThirds(note)))\n",
    "        if encodingDict['duration']:\n",
    "            feature = np.concatenate((feature,oneHot(int(times[i]),48)))  \n",
    "        if encodingDict['durationEncoded']:\n",
    "            feature = np.concatenate((feature,getDuration(times[i])))\n",
    "        if encodingDict['chordsNormally']:\n",
    "            feature = np.concatenate((feature,chords[i]))\n",
    "            feature = np.concatenate((feature,chords[i+1]))\n",
    "        if encodingDict['chordsEncoded']:\n",
    "            feature = np.concatenate((feature,getChord(chords[i])))  # chord ERROR: MAKE THIS BETTER\n",
    "            feature = np.concatenate((feature,getChord(chords[i+1])))   # chord ERROR: MAKE THIS BETTER\n",
    "        if encodingDict['key']:\n",
    "            feature = np.concatenate((feature,key))\n",
    "        features.append(feature)\n",
    "    features = np.array(features)\n",
    "    return features.astype('float32')\n",
    "\n",
    "def getInputSequences(processedMidi, padding=False, seq_len=16):\n",
    "    \"\"\"Create Net Input.\n",
    "    Input: features from getFeatureVectors or getEncodedFeatureVectors\n",
    "    Output: \n",
    "        - Sequences, size: (157, seq_len)\n",
    "        - Labels, one-hot, size: (MELODY,)\n",
    "    \"\"\"\n",
    "    features = getFeatureVectors(processedMidi)\n",
    "    notes, times, _, _, _ = processedMidi\n",
    "    sequences = []\n",
    "    labels = []\n",
    "    i = 0\n",
    "    if padding == True:\n",
    "        padded_notes = np.concatenate((np.zeros((seq_len,features.shape[1])),features[:seq_len]))\n",
    "        for j in range(seq_len):\n",
    "            sequences.append(padded_notes[j:j+seq_len])\n",
    "            label_pitch = notes[j]\n",
    "            label_duration = times[j]\n",
    "            labels.append((label_pitch, label_duration))\n",
    "    while i+seq_len < features.shape[0]:\n",
    "        sequences.append(features[i:i+seq_len])\n",
    "        label_pitch = notes[i+seq_len]\n",
    "        label_duration = times[i+seq_len]\n",
    "        labels.append((label_pitch, label_duration))\n",
    "        i += 1     # or += seq_len\n",
    "        \n",
    "    sequences = np.array(sequences)\n",
    "    labels = np.array(labels)\n",
    "    return sequences, labels\n",
    "\n",
    "def modulate(processedMidi, modulate=0):\n",
    "    \"\"\"modulates downwards\"\"\"\n",
    "    notes, times, chords, chordsByBeat, key = processedMidi\n",
    "    i = modulate\n",
    "    modnotes = notes - i\n",
    "    modnotes[np.where(modnotes == 36 - i)[0]] = 36\n",
    "    modnotes[np.where(modnotes < 0)[0]] = 36\n",
    "\n",
    "    modchords = np.append(chords[:,i:],chords[:,:i],axis=1)\n",
    "\n",
    "    if chordsByBeat is not None:\n",
    "        modcbb = np.append(chordsByBeat[:,i:],chordsByBeat[:,:i],axis=1)\n",
    "    else:\n",
    "        modcbb = None\n",
    "\n",
    "    processedMidi = modnotes, times, modchords, modcbb, key\n",
    "    return processedMidi"
   ]
  },
  {
   "cell_type": "code",
   "execution_count": 8,
   "metadata": {
    "colab": {},
    "colab_type": "code",
    "id": "mVE0og8fDrmk"
   },
   "outputs": [],
   "source": [
    "# Choose encoding and load files\n",
    "encodingDict = {\n",
    "    'melody': True,\n",
    "    'melodyModulo': True,\n",
    "    'melodyEncoded': False,\n",
    "    'duration': True,\n",
    "    'durationEncoded': False,\n",
    "    'chordsNormally': True,\n",
    "    'chordsEncoded': False,\n",
    "    'key': False\n",
    "}"
   ]
  },
  {
   "cell_type": "markdown",
   "metadata": {
    "colab_type": "text",
    "id": "0jBnOuprDrmn"
   },
   "source": [
    "# B. Load Data"
   ]
  },
  {
   "cell_type": "code",
   "execution_count": 9,
   "metadata": {
    "colab": {
     "base_uri": "https://localhost:8080/",
     "height": 187
    },
    "colab_type": "code",
    "id": "0SedqNjRDrmo",
    "outputId": "95b6a8f4-84ec-44d8-ad19-99eb596a65ec",
    "scrolled": false
   },
   "outputs": [
    {
     "data": {
      "text/plain": [
       "['014.mid', '028.mid', '029.mid', '015.mid']"
      ]
     },
     "execution_count": 9,
     "metadata": {},
     "output_type": "execute_result"
    }
   ],
   "source": [
    "# gets all .mid filenames from folder train/ in one line\n",
    "folder = 'datasets/trainData/'\n",
    "files = [file for file in os.listdir(folder+'chords')]\n",
    "files[:4]"
   ]
  },
  {
   "cell_type": "code",
   "execution_count": 10,
   "metadata": {},
   "outputs": [
    {
     "data": {
      "text/plain": [
       "(60, 83)"
      ]
     },
     "execution_count": 10,
     "metadata": {},
     "output_type": "execute_result"
    }
   ],
   "source": [
    "# min and max note\n",
    "min([note.pitch for file in files for note in pretty_midi.PrettyMIDI(folder+'melody/'+file).instruments[0].notes]),\\\n",
    "max([note.pitch for file in files for note in pretty_midi.PrettyMIDI(folder+'melody/'+file).instruments[0].notes]),\\\n"
   ]
  },
  {
   "cell_type": "code",
   "execution_count": 11,
   "metadata": {
    "colab": {
     "base_uri": "https://localhost:8080/",
     "height": 1000
    },
    "colab_type": "code",
    "id": "piJAllN6Drmr",
    "outputId": "e820146b-6bc5-4b3c-8a37-2ae149e86e23",
    "scrolled": true
   },
   "outputs": [
    {
     "data": {
      "text/plain": [
       "((16175, 8, 121), (16175, 2))"
      ]
     },
     "execution_count": 11,
     "metadata": {},
     "output_type": "execute_result"
    }
   ],
   "source": [
    "modulation = True\n",
    "\n",
    "for i, file in enumerate(files):\n",
    "#     print(i, file)\n",
    "    processedMidi = processMidi(file)\n",
    "    if modulation == True:\n",
    "        for mod_i in range(12): # modulate\n",
    "            processedMidi = modulate(processedMidi, modulate = mod_i)\n",
    "            sequences, labels = getInputSequences(processedMidi, padding=False, seq_len=8)\n",
    "            if labels.shape[0]>0:\n",
    "                X = sequences if i==0 else np.concatenate((X, sequences))\n",
    "                y = labels if i==0 else np.concatenate((y, labels))\n",
    "    else:\n",
    "        sequences, labels = getInputSequences(processedMidi, padding=False, seq_len=8)\n",
    "        if labels.shape[0] > 0:\n",
    "            X = sequences if i==0 else np.concatenate((X, sequences))\n",
    "            y = labels if i==0 else np.concatenate((y, labels))\n",
    "\n",
    "X.shape, y.shape"
   ]
  },
  {
   "cell_type": "code",
   "execution_count": 12,
   "metadata": {
    "colab": {},
    "colab_type": "code",
    "id": "C9duwFR6NX7f"
   },
   "outputs": [],
   "source": [
    "def writeMidiSample(notes, times, file, originalfile, tempo=120, resolution=12):\n",
    "    pm = pretty_midi.PrettyMIDI(resolution=resolution, initial_tempo=tempo)\n",
    "    pminst = pretty_midi.Instrument(program=0)\n",
    "    currtime = 0\n",
    "    for i, note in enumerate(notes):\n",
    "        if note != MELODY-1:\n",
    "            pitch = note+LOW\n",
    "            start = pm.tick_to_time(int(currtime))\n",
    "            end = pm.tick_to_time(int(currtime+times[i]))\n",
    "            if end > start:\n",
    "                pmnote = pretty_midi.Note(velocity=100, pitch = pitch, start=start, end=end)\n",
    "                pminst.notes.append(pmnote)\n",
    "        currtime += times[i]+1\n",
    "    pm.instruments.append(pminst)\n",
    "\n",
    "    pm.write(file)\n",
    "    return pm"
   ]
  },
  {
   "cell_type": "code",
   "execution_count": 14,
   "metadata": {
    "colab": {
     "base_uri": "https://localhost:8080/",
     "height": 372
    },
    "colab_type": "code",
    "id": "3mOyNUd7NX7i",
    "outputId": "44dcf729-959a-4654-fb76-c0d8be06eec2"
   },
   "outputs": [
    {
     "name": "stdout",
     "output_type": "stream",
     "text": [
      "[20, 18, 21, 20, 18, 23, 23, 32, 30]\n",
      "[8, 6, 9, 8, 6, 11, 11, 8, 5]\n"
     ]
    },
    {
     "data": {
      "text/html": [
       "\n",
       "                <audio  controls=\"controls\" >\n",
       "                    <source src=\"data:audio/wav;base64,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\" type=\"audio/wav\" />\n",
       "                    Your browser does not support the audio element.\n",
       "                </audio>\n",
       "              "
      ],
      "text/plain": [
       "<IPython.lib.display.Audio object>"
      ]
     },
     "metadata": {},
     "output_type": "display_data"
    },
    {
     "data": {
      "image/png": "[encoded data removed]",
      "text/plain": [
       "<Figure size 576x288 with 1 Axes>"
      ]
     },
     "metadata": {
      "image/png": {
       "height": 261,
       "width": 494
      },
      "needs_background": "light"
     },
     "output_type": "display_data"
    }
   ],
   "source": [
    "rand = random.randint(1,101)\n",
    "sample, samplelabel = X[rand], y[rand]\n",
    "\n",
    "\n",
    "notes, times = [], []\n",
    "for i in range(sample.shape[0]):\n",
    "    notes.append(np.argmax(sample[i,:MELODY]))\n",
    "    times.append(np.argmax(sample[i,MELODY:MELODY+TIMES]))\n",
    "notes.append(samplelabel[0])\n",
    "times.append(samplelabel[1])\n",
    "\n",
    "\n",
    "\n",
    "#look at a sample\n",
    "pm = writeMidiSample(notes, times, 'old_notebooks/treval/lookatsample.mid', file)\n",
    "plt.figure(figsize=(8, 4))\n",
    "plot_piano_roll(pm, LOW, HIGH)\n",
    "print(notes)\n",
    "print(times)\n",
    "display(IPython.display.Audio(pm.synthesize(fs=44000), rate=44000))"
   ]
  },
  {
   "cell_type": "code",
   "execution_count": 17,
   "metadata": {
    "colab": {},
    "colab_type": "code",
    "id": "-Eyy1AH9NX7o"
   },
   "outputs": [],
   "source": [
    "#np.save('Xbig.npy',X)\n",
    "#np.save('ybig.npy',y)"
   ]
  },
  {
   "cell_type": "markdown",
   "metadata": {
    "colab_type": "text",
    "id": "aMgIdT4TNX7s"
   },
   "source": [
    "# just load"
   ]
  },
  {
   "cell_type": "code",
   "execution_count": 18,
   "metadata": {
    "colab": {},
    "colab_type": "code",
    "id": "d3o0rxw2NX7u"
   },
   "outputs": [],
   "source": [
    "# X = np.load('Xbig.npy')\n",
    "# y = np.load('ybig.npy')"
   ]
  },
  {
   "cell_type": "code",
   "execution_count": 15,
   "metadata": {
    "colab": {
     "base_uri": "https://localhost:8080/",
     "height": 284
    },
    "colab_type": "code",
    "id": "Uv4TY09ZDrmv",
    "outputId": "2a7b8077-6cb2-419a-fe73-6f931330ab84",
    "scrolled": true
   },
   "outputs": [
    {
     "data": {
      "text/plain": [
       "<matplotlib.axes._subplots.AxesSubplot at 0x12b3d0d68>"
      ]
     },
     "execution_count": 15,
     "metadata": {},
     "output_type": "execute_result"
    },
    {
     "data": {
      "image/png": "[encoded data removed]",
      "text/plain": [
       "<Figure size 432x288 with 1 Axes>"
      ]
     },
     "metadata": {
      "image/png": {
       "height": 248,
       "width": 395
      },
      "needs_background": "light"
     },
     "output_type": "display_data"
    }
   ],
   "source": [
    "# stats of training data\n",
    "pitches = y[:,0]\n",
    "durations = y[:,1]\n",
    "sns.countplot(durations)"
   ]
  },
  {
   "cell_type": "code",
   "execution_count": 16,
   "metadata": {
    "colab": {
     "base_uri": "https://localhost:8080/",
     "height": 284
    },
    "colab_type": "code",
    "id": "uo0GQJA1Drmy",
    "outputId": "09ded831-1a45-4f91-ef0a-94925377d957",
    "scrolled": true
   },
   "outputs": [
    {
     "data": {
      "text/plain": [
       "<matplotlib.axes._subplots.AxesSubplot at 0x12b1bd208>"
      ]
     },
     "execution_count": 16,
     "metadata": {},
     "output_type": "execute_result"
    },
    {
     "data": {
      "image/png": "[encoded data removed]",
      "text/plain": [
       "<Figure size 432x288 with 1 Axes>"
      ]
     },
     "metadata": {
      "image/png": {
       "height": 250,
       "width": 397
      },
      "needs_background": "light"
     },
     "output_type": "display_data"
    }
   ],
   "source": [
    "sns.countplot(pitches)"
   ]
  },
  {
   "cell_type": "code",
   "execution_count": 17,
   "metadata": {
    "colab": {
     "base_uri": "https://localhost:8080/",
     "height": 34
    },
    "colab_type": "code",
    "id": "kvY1xcgiDrm2",
    "outputId": "b99dfaac-21e4-4f42-a436-99ee1fb59d7a",
    "scrolled": false
   },
   "outputs": [
    {
     "data": {
      "text/plain": [
       "((13101, 8, 121), (13101, 2))"
      ]
     },
     "execution_count": 17,
     "metadata": {},
     "output_type": "execute_result"
    }
   ],
   "source": [
    "# train/val split\n",
    "n = 500000\n",
    "n = min(n,X.shape[0])\n",
    "m = int(0.9*n)\n",
    "data = X[:m]\n",
    "labels = y[:m]\n",
    "test_data = X[m:n]\n",
    "test_labels = y[m:n]\n",
    "\n",
    "perm = np.random.permutation(m)\n",
    "p = int(0.9*m)\n",
    "\n",
    "train_data = data[perm[:p]]\n",
    "train_labels = labels[perm[:p]]\n",
    "val_data = data[perm[p:]]\n",
    "val_labels = labels[perm[p:]]\n",
    "\n",
    "train_data.shape, train_labels.shape"
   ]
  },
  {
   "cell_type": "markdown",
   "metadata": {
    "colab_type": "text",
    "id": "b77owDQ-Drm5"
   },
   "source": [
    "### Load Data for Tensorflow"
   ]
  },
  {
   "cell_type": "code",
   "execution_count": 18,
   "metadata": {
    "colab": {},
    "colab_type": "code",
    "id": "402GwxTyNX8C"
   },
   "outputs": [],
   "source": [
    "batch_size = 32\n",
    "dataset = tf.data.Dataset.from_tensor_slices((train_data, train_labels))\n",
    "dataset = dataset.batch(batch_size, drop_remainder=True)\n",
    "valdataset = tf.data.Dataset.from_tensor_slices((val_data, val_labels))\n",
    "valdataset = valdataset.batch(batch_size, drop_remainder=True)"
   ]
  },
  {
   "cell_type": "code",
   "execution_count": 18,
   "metadata": {
    "colab": {},
    "colab_type": "code",
    "id": "0Ps1leCZDrm6",
    "scrolled": false
   },
   "outputs": [],
   "source": [
    "# ToDo\n",
    "# weighted randomsampler!\n",
    "# batchnormalization"
   ]
  },
  {
   "cell_type": "markdown",
   "metadata": {
    "colab_type": "text",
    "id": "IhxqWi8YDrm8"
   },
   "source": [
    "# C. Train a model"
   ]
  },
  {
   "cell_type": "code",
   "execution_count": 19,
   "metadata": {
    "colab": {},
    "colab_type": "code",
    "id": "XPH5jO9WNX8H"
   },
   "outputs": [],
   "source": [
    "def build(input_dim, seq_len, hidden_dim, num_layers, output_dim_pitch, output_dim_duration):\n",
    "    if tf.test.is_gpu_available():\n",
    "        LSTM = tf.keras.layers.CuDNNLSTM(hidden_dim, \n",
    "                                    return_sequences=True, \n",
    "                                    return_state=False, \n",
    "                                    recurrent_initializer='glorot_uniform')\n",
    "        lastlstm = tf.keras.layers.CuDNNLSTM(hidden_dim, \n",
    "                                    return_sequences=False, \n",
    "                                    return_state=False, \n",
    "                                    recurrent_initializer='glorot_uniform')\n",
    "    else:\n",
    "        LSTM = tf.keras.layers.LSTM(hidden_dim, \n",
    "                               return_sequences=True, \n",
    "                               return_state=False, \n",
    "                               recurrent_activation='sigmoid', \n",
    "                               recurrent_initializer='glorot_uniform')\n",
    "        lastlstm = tf.keras.layers.LSTM(hidden_dim, \n",
    "                               return_sequences=False, \n",
    "                               return_state=False, \n",
    "                               recurrent_activation='sigmoid', \n",
    "                               recurrent_initializer='glorot_uniform')\n",
    "    \n",
    "        \n",
    "    inputs = tf.keras.Input(shape=(seq_len, input_dim))\n",
    "    x = inputs\n",
    "    for i in range(num_layers-1):\n",
    "        x = LSTM(x)\n",
    "    x = lastlstm(x)\n",
    "    x = tf.keras.layers.Dropout(rate=0.3)(x)\n",
    "    pitch = tf.keras.layers.Dense(output_dim_pitch, activation='softmax', name='pitch_out')(x)\n",
    "    duration = tf.keras.layers.Dense(output_dim_duration, activation='softmax', name='duration_out')(x)\n",
    "\n",
    "    model = tf.keras.Model(inputs=inputs, outputs=[pitch,duration])\n",
    "    return model\n",
    "    "
   ]
  },
  {
   "cell_type": "code",
   "execution_count": 27,
   "metadata": {
    "colab": {},
    "colab_type": "code",
    "id": "DcBZ0X21NX8K"
   },
   "outputs": [],
   "source": [
    "# Build Model\n",
    "model_params = {\n",
    "    'input_dim': train_data.shape[-1],\n",
    "    'seq_len': None,\n",
    "    'hidden_dim': 128,\n",
    "    'num_layers': 2,\n",
    "    'output_dim_pitch': MELODY,\n",
    "    'output_dim_duration': TIMES,\n",
    "}\n",
    "\n",
    "model = build(**model_params)"
   ]
  },
  {
   "cell_type": "code",
   "execution_count": 21,
   "metadata": {
    "colab": {},
    "colab_type": "code",
    "id": "5VJuTqB8NX8M"
   },
   "outputs": [],
   "source": [
    "# tf.keras.utils.plot_model(model, show_shapes=True)"
   ]
  },
  {
   "cell_type": "code",
   "execution_count": 22,
   "metadata": {
    "colab": {},
    "colab_type": "code",
    "id": "mFzXM-XbNX8Q"
   },
   "outputs": [],
   "source": [
    "# checkpoint_dir = './training_checkpoints'\n",
    "# checkpoint_prefix = os.path.join(checkpoint_dir, \"ckpt\")\n",
    "# checkpoint = tf.train.Checkpoint(optimizer=optimizer, model=model)"
   ]
  },
  {
   "cell_type": "code",
   "execution_count": 28,
   "metadata": {
    "colab": {},
    "colab_type": "code",
    "id": "yICpioTmNX8T"
   },
   "outputs": [],
   "source": [
    "model.compile(\n",
    "    optimizer='adam',\n",
    "    loss={'pitch_out': 'sparse_categorical_crossentropy', \n",
    "          'duration_out':'sparse_categorical_crossentropy'},\n",
    "    loss_weights=[0.8,0.2],\n",
    "    metrics={'pitch_out': 'acc',\n",
    "             'duration_out': 'acc'})"
   ]
  },
  {
   "cell_type": "code",
   "execution_count": 30,
   "metadata": {
    "colab": {
     "base_uri": "https://localhost:8080/",
     "height": 224
    },
    "colab_type": "code",
    "id": "15Uvd6h0NX8X",
    "outputId": "6e21f803-48ee-4a5e-bc82-f179af2ccd7b",
    "scrolled": false
   },
   "outputs": [
    {
     "name": "stdout",
     "output_type": "stream",
     "text": [
      "Epoch 1/20\n",
      "13101/13101 [==============================] - 19s 1ms/sample - loss: 0.2668 - pitch_out_loss: 0.2486 - duration_out_loss: 0.3396 - pitch_out_acc: 0.9260 - duration_out_acc: 0.8802\n",
      "Epoch 2/20\n",
      "13101/13101 [==============================] - 23s 2ms/sample - loss: 0.2364 - pitch_out_loss: 0.2146 - duration_out_loss: 0.3236 - pitch_out_acc: 0.9376 - duration_out_acc: 0.8845\n",
      "Epoch 3/20\n",
      "13101/13101 [==============================] - 24s 2ms/sample - loss: 0.2188 - pitch_out_loss: 0.1962 - duration_out_loss: 0.3095 - pitch_out_acc: 0.9408 - duration_out_acc: 0.8899\n",
      "Epoch 4/20\n",
      "13101/13101 [==============================] - 16s 1ms/sample - loss: 0.1973 - pitch_out_loss: 0.1721 - duration_out_loss: 0.2984 - pitch_out_acc: 0.9510 - duration_out_acc: 0.8940\n",
      "Epoch 5/20\n",
      "13101/13101 [==============================] - 16s 1ms/sample - loss: 0.1822 - pitch_out_loss: 0.1560 - duration_out_loss: 0.2868 - pitch_out_acc: 0.9571 - duration_out_acc: 0.8978\n",
      "Epoch 6/20\n",
      "13101/13101 [==============================] - 16s 1ms/sample - loss: 0.1637 - pitch_out_loss: 0.1361 - duration_out_loss: 0.2743 - pitch_out_acc: 0.9631 - duration_out_acc: 0.9043\n",
      "Epoch 7/20\n",
      "13101/13101 [==============================] - 17s 1ms/sample - loss: 0.1608 - pitch_out_loss: 0.1342 - duration_out_loss: 0.2672 - pitch_out_acc: 0.9624 - duration_out_acc: 0.9063\n",
      "Epoch 8/20\n",
      "13101/13101 [==============================] - 16s 1ms/sample - loss: 0.1405 - pitch_out_loss: 0.1114 - duration_out_loss: 0.2571 - pitch_out_acc: 0.9702 - duration_out_acc: 0.9103\n",
      "Epoch 9/20\n",
      "13101/13101 [==============================] - 16s 1ms/sample - loss: 0.1377 - pitch_out_loss: 0.1102 - duration_out_loss: 0.2473 - pitch_out_acc: 0.9700 - duration_out_acc: 0.9117\n",
      "Epoch 10/20\n",
      "13101/13101 [==============================] - 17s 1ms/sample - loss: 0.1299 - pitch_out_loss: 0.1024 - duration_out_loss: 0.2400 - pitch_out_acc: 0.9723 - duration_out_acc: 0.9138\n",
      "Epoch 11/20\n",
      "13101/13101 [==============================] - 16s 1ms/sample - loss: 0.1284 - pitch_out_loss: 0.1025 - duration_out_loss: 0.2319 - pitch_out_acc: 0.9715 - duration_out_acc: 0.9176\n",
      "Epoch 12/20\n",
      "13101/13101 [==============================] - 16s 1ms/sample - loss: 0.1234 - pitch_out_loss: 0.0977 - duration_out_loss: 0.2259 - pitch_out_acc: 0.9735 - duration_out_acc: 0.9190\n",
      "Epoch 13/20\n",
      "13101/13101 [==============================] - 16s 1ms/sample - loss: 0.1122 - pitch_out_loss: 0.0869 - duration_out_loss: 0.2137 - pitch_out_acc: 0.9764 - duration_out_acc: 0.9250\n",
      "Epoch 14/20\n",
      "13101/13101 [==============================] - 17s 1ms/sample - loss: 0.1032 - pitch_out_loss: 0.0786 - duration_out_loss: 0.2017 - pitch_out_acc: 0.9792 - duration_out_acc: 0.9304\n",
      "Epoch 15/20\n",
      "13101/13101 [==============================] - 17s 1ms/sample - loss: 0.0946 - pitch_out_loss: 0.0714 - duration_out_loss: 0.1872 - pitch_out_acc: 0.9823 - duration_out_acc: 0.9334\n",
      "Epoch 16/20\n",
      "13101/13101 [==============================] - 17s 1ms/sample - loss: 0.0934 - pitch_out_loss: 0.0714 - duration_out_loss: 0.1816 - pitch_out_acc: 0.9812 - duration_out_acc: 0.9377\n",
      "Epoch 17/20\n",
      "13101/13101 [==============================] - 17s 1ms/sample - loss: 0.0967 - pitch_out_loss: 0.0765 - duration_out_loss: 0.1774 - pitch_out_acc: 0.9793 - duration_out_acc: 0.9369\n",
      "Epoch 18/20\n",
      "13101/13101 [==============================] - 17s 1ms/sample - loss: 0.0904 - pitch_out_loss: 0.0710 - duration_out_loss: 0.1680 - pitch_out_acc: 0.9807 - duration_out_acc: 0.9418\n",
      "Epoch 19/20\n",
      "13101/13101 [==============================] - 17s 1ms/sample - loss: 0.0940 - pitch_out_loss: 0.0749 - duration_out_loss: 0.1705 - pitch_out_acc: 0.9791 - duration_out_acc: 0.9387\n",
      "Epoch 20/20\n",
      "13101/13101 [==============================] - 17s 1ms/sample - loss: 0.0871 - pitch_out_loss: 0.0704 - duration_out_loss: 0.1540 - pitch_out_acc: 0.9805 - duration_out_acc: 0.9476\n"
     ]
    },
    {
     "data": {
      "text/plain": [
       "<tensorflow.python.keras.callbacks.History at 0x133cb9a58>"
      ]
     },
     "execution_count": 30,
     "metadata": {},
     "output_type": "execute_result"
    }
   ],
   "source": [
    "model.fit(train_data, [train_labels[:,0],train_labels[:,1]], batch_size=32, epochs=20)"
   ]
  },
  {
   "cell_type": "code",
   "execution_count": 32,
   "metadata": {
    "colab": {
     "base_uri": "https://localhost:8080/",
     "height": 71
    },
    "colab_type": "code",
    "id": "eG2iMqmTNX8a",
    "outputId": "fd88fa97-813f-40b3-e6e0-73804ffd8272",
    "scrolled": true
   },
   "outputs": [
    {
     "name": "stdout",
     "output_type": "stream",
     "text": [
      "1456/1456 [==============================] - 1s 711us/sample - loss: 1.3534 - pitch_out_loss: 1.6020 - duration_out_loss: 0.3592 - pitch_out_acc: 0.7170 - duration_out_acc: 0.8880\n"
     ]
    },
    {
     "data": {
      "text/plain": [
       "[1.3534444518141695, 1.6020038, 0.35920703, 0.71703297, 0.8880494]"
      ]
     },
     "execution_count": 32,
     "metadata": {},
     "output_type": "execute_result"
    }
   ],
   "source": [
    "model.evaluate(val_data,[val_labels[:,0],val_labels[:,1]])"
   ]
  },
  {
   "cell_type": "code",
   "execution_count": 33,
   "metadata": {
    "colab": {
     "base_uri": "https://localhost:8080/",
     "height": 71
    },
    "colab_type": "code",
    "id": "CUZLuoapNX8e",
    "outputId": "cc96d46f-9520-4052-e172-d85e8c464f02"
   },
   "outputs": [
    {
     "name": "stdout",
     "output_type": "stream",
     "text": [
      "1618/1618 [==============================] - 0s 306us/sample - loss: 1.7928 - pitch_out_loss: 2.0123 - duration_out_loss: 0.9148 - pitch_out_acc: 0.6446 - duration_out_acc: 0.7744\n"
     ]
    },
    {
     "data": {
      "text/plain": [
       "[1.7928363264092833, 2.0123496, 0.9147848, 0.644623, 0.7744129]"
      ]
     },
     "execution_count": 33,
     "metadata": {},
     "output_type": "execute_result"
    }
   ],
   "source": [
    "model.evaluate(test_data,[test_labels[:,0],test_labels[:,1]])"
   ]
  },
  {
   "cell_type": "code",
   "execution_count": 34,
   "metadata": {
    "colab": {},
    "colab_type": "code",
    "id": "u_3MYYPpNX8g",
    "scrolled": true
   },
   "outputs": [
    {
     "ename": "RuntimeError",
     "evalue": "Unable to create link (name already exists)",
     "output_type": "error",
     "traceback": [
      "\u001b[0;31m---------------------------------------------------------------------------\u001b[0m",
      "\u001b[0;31mRuntimeError\u001b[0m                              Traceback (most recent call last)",
      "\u001b[0;32m<ipython-input-34-a88f95c156ef>\u001b[0m in \u001b[0;36m<module>\u001b[0;34m\u001b[0m\n\u001b[0;32m----> 1\u001b[0;31m \u001b[0mmodel\u001b[0m\u001b[0;34m.\u001b[0m\u001b[0msave\u001b[0m\u001b[0;34m(\u001b[0m\u001b[0;34m'deploy/tfjs/modelwd1.h5'\u001b[0m\u001b[0;34m)\u001b[0m\u001b[0;34m\u001b[0m\u001b[0;34m\u001b[0m\u001b[0m\n\u001b[0m",
      "\u001b[0;32m/Library/Frameworks/Python.framework/Versions/3.6/lib/python3.6/site-packages/tensorflow/python/keras/engine/network.py\u001b[0m in \u001b[0;36msave\u001b[0;34m(self, filepath, overwrite, include_optimizer)\u001b[0m\n\u001b[1;32m   1332\u001b[0m \u001b[0;34m\u001b[0m\u001b[0m\n\u001b[1;32m   1333\u001b[0m     \u001b[0;32mfrom\u001b[0m \u001b[0mtensorflow\u001b[0m\u001b[0;34m.\u001b[0m\u001b[0mpython\u001b[0m\u001b[0;34m.\u001b[0m\u001b[0mkeras\u001b[0m\u001b[0;34m.\u001b[0m\u001b[0mmodels\u001b[0m \u001b[0;32mimport\u001b[0m \u001b[0msave_model\u001b[0m  \u001b[0;31m# pylint: disable=g-import-not-at-top\u001b[0m\u001b[0;34m\u001b[0m\u001b[0;34m\u001b[0m\u001b[0m\n\u001b[0;32m-> 1334\u001b[0;31m     \u001b[0msave_model\u001b[0m\u001b[0;34m(\u001b[0m\u001b[0mself\u001b[0m\u001b[0;34m,\u001b[0m \u001b[0mfilepath\u001b[0m\u001b[0;34m,\u001b[0m \u001b[0moverwrite\u001b[0m\u001b[0;34m,\u001b[0m \u001b[0minclude_optimizer\u001b[0m\u001b[0;34m)\u001b[0m\u001b[0;34m\u001b[0m\u001b[0;34m\u001b[0m\u001b[0m\n\u001b[0m\u001b[1;32m   1335\u001b[0m \u001b[0;34m\u001b[0m\u001b[0m\n\u001b[1;32m   1336\u001b[0m   \u001b[0;32mdef\u001b[0m \u001b[0msave_weights\u001b[0m\u001b[0;34m(\u001b[0m\u001b[0mself\u001b[0m\u001b[0;34m,\u001b[0m \u001b[0mfilepath\u001b[0m\u001b[0;34m,\u001b[0m \u001b[0moverwrite\u001b[0m\u001b[0;34m=\u001b[0m\u001b[0;32mTrue\u001b[0m\u001b[0;34m,\u001b[0m \u001b[0msave_format\u001b[0m\u001b[0;34m=\u001b[0m\u001b[0;32mNone\u001b[0m\u001b[0;34m)\u001b[0m\u001b[0;34m:\u001b[0m\u001b[0;34m\u001b[0m\u001b[0;34m\u001b[0m\u001b[0m\n",
      "\u001b[0;32m/Library/Frameworks/Python.framework/Versions/3.6/lib/python3.6/site-packages/tensorflow/python/keras/engine/saving.py\u001b[0m in \u001b[0;36msave_model\u001b[0;34m(model, filepath, overwrite, include_optimizer)\u001b[0m\n\u001b[1;32m    150\u001b[0m           \u001b[0;32mfor\u001b[0m \u001b[0mname\u001b[0m\u001b[0;34m,\u001b[0m \u001b[0mval\u001b[0m \u001b[0;32min\u001b[0m \u001b[0mzip\u001b[0m\u001b[0;34m(\u001b[0m\u001b[0mweight_names\u001b[0m\u001b[0;34m,\u001b[0m \u001b[0mweight_values\u001b[0m\u001b[0;34m)\u001b[0m\u001b[0;34m:\u001b[0m\u001b[0;34m\u001b[0m\u001b[0;34m\u001b[0m\u001b[0m\n\u001b[1;32m    151\u001b[0m             param_dset = optimizer_weights_group.create_dataset(\n\u001b[0;32m--> 152\u001b[0;31m                 name, val.shape, dtype=val.dtype)\n\u001b[0m\u001b[1;32m    153\u001b[0m             \u001b[0;32mif\u001b[0m \u001b[0;32mnot\u001b[0m \u001b[0mval\u001b[0m\u001b[0;34m.\u001b[0m\u001b[0mshape\u001b[0m\u001b[0;34m:\u001b[0m\u001b[0;34m\u001b[0m\u001b[0;34m\u001b[0m\u001b[0m\n\u001b[1;32m    154\u001b[0m               \u001b[0;31m# scalar\u001b[0m\u001b[0;34m\u001b[0m\u001b[0;34m\u001b[0m\u001b[0;34m\u001b[0m\u001b[0m\n",
      "\u001b[0;32m/Library/Frameworks/Python.framework/Versions/3.6/lib/python3.6/site-packages/h5py/_hl/group.py\u001b[0m in \u001b[0;36mcreate_dataset\u001b[0;34m(self, name, shape, dtype, data, **kwds)\u001b[0m\n\u001b[1;32m    117\u001b[0m             \u001b[0mdset\u001b[0m \u001b[0;34m=\u001b[0m \u001b[0mdataset\u001b[0m\u001b[0;34m.\u001b[0m\u001b[0mDataset\u001b[0m\u001b[0;34m(\u001b[0m\u001b[0mdsid\u001b[0m\u001b[0;34m)\u001b[0m\u001b[0;34m\u001b[0m\u001b[0;34m\u001b[0m\u001b[0m\n\u001b[1;32m    118\u001b[0m             \u001b[0;32mif\u001b[0m \u001b[0mname\u001b[0m \u001b[0;32mis\u001b[0m \u001b[0;32mnot\u001b[0m \u001b[0;32mNone\u001b[0m\u001b[0;34m:\u001b[0m\u001b[0;34m\u001b[0m\u001b[0;34m\u001b[0m\u001b[0m\n\u001b[0;32m--> 119\u001b[0;31m                 \u001b[0mself\u001b[0m\u001b[0;34m[\u001b[0m\u001b[0mname\u001b[0m\u001b[0;34m]\u001b[0m \u001b[0;34m=\u001b[0m \u001b[0mdset\u001b[0m\u001b[0;34m\u001b[0m\u001b[0;34m\u001b[0m\u001b[0m\n\u001b[0m\u001b[1;32m    120\u001b[0m             \u001b[0;32mreturn\u001b[0m \u001b[0mdset\u001b[0m\u001b[0;34m\u001b[0m\u001b[0;34m\u001b[0m\u001b[0m\n\u001b[1;32m    121\u001b[0m \u001b[0;34m\u001b[0m\u001b[0m\n",
      "\u001b[0;32m/Library/Frameworks/Python.framework/Versions/3.6/lib/python3.6/site-packages/h5py/_hl/group.py\u001b[0m in \u001b[0;36m__setitem__\u001b[0;34m(self, name, obj)\u001b[0m\n\u001b[1;32m    285\u001b[0m \u001b[0;34m\u001b[0m\u001b[0m\n\u001b[1;32m    286\u001b[0m             \u001b[0;32mif\u001b[0m \u001b[0misinstance\u001b[0m\u001b[0;34m(\u001b[0m\u001b[0mobj\u001b[0m\u001b[0;34m,\u001b[0m \u001b[0mHLObject\u001b[0m\u001b[0;34m)\u001b[0m\u001b[0;34m:\u001b[0m\u001b[0;34m\u001b[0m\u001b[0;34m\u001b[0m\u001b[0m\n\u001b[0;32m--> 287\u001b[0;31m                 \u001b[0mh5o\u001b[0m\u001b[0;34m.\u001b[0m\u001b[0mlink\u001b[0m\u001b[0;34m(\u001b[0m\u001b[0mobj\u001b[0m\u001b[0;34m.\u001b[0m\u001b[0mid\u001b[0m\u001b[0;34m,\u001b[0m \u001b[0mself\u001b[0m\u001b[0;34m.\u001b[0m\u001b[0mid\u001b[0m\u001b[0;34m,\u001b[0m \u001b[0mname\u001b[0m\u001b[0;34m,\u001b[0m \u001b[0mlcpl\u001b[0m\u001b[0;34m=\u001b[0m\u001b[0mlcpl\u001b[0m\u001b[0;34m,\u001b[0m \u001b[0mlapl\u001b[0m\u001b[0;34m=\u001b[0m\u001b[0mself\u001b[0m\u001b[0;34m.\u001b[0m\u001b[0m_lapl\u001b[0m\u001b[0;34m)\u001b[0m\u001b[0;34m\u001b[0m\u001b[0;34m\u001b[0m\u001b[0m\n\u001b[0m\u001b[1;32m    288\u001b[0m \u001b[0;34m\u001b[0m\u001b[0m\n\u001b[1;32m    289\u001b[0m             \u001b[0;32melif\u001b[0m \u001b[0misinstance\u001b[0m\u001b[0;34m(\u001b[0m\u001b[0mobj\u001b[0m\u001b[0;34m,\u001b[0m \u001b[0mSoftLink\u001b[0m\u001b[0;34m)\u001b[0m\u001b[0;34m:\u001b[0m\u001b[0;34m\u001b[0m\u001b[0;34m\u001b[0m\u001b[0m\n",
      "\u001b[0;32mh5py/_objects.pyx\u001b[0m in \u001b[0;36mh5py._objects.with_phil.wrapper\u001b[0;34m()\u001b[0m\n",
      "\u001b[0;32mh5py/_objects.pyx\u001b[0m in \u001b[0;36mh5py._objects.with_phil.wrapper\u001b[0;34m()\u001b[0m\n",
      "\u001b[0;32mh5py/h5o.pyx\u001b[0m in \u001b[0;36mh5py.h5o.link\u001b[0;34m()\u001b[0m\n",
      "\u001b[0;31mRuntimeError\u001b[0m: Unable to create link (name already exists)"
     ]
    }
   ],
   "source": [
    "model.save('deploy/tfjs/modelwd1.h5')"
   ]
  },
  {
   "cell_type": "code",
   "execution_count": 0,
   "metadata": {
    "colab": {},
    "colab_type": "code",
    "id": "dUHng5XMNX8l"
   },
   "outputs": [],
   "source": [
    "# source env/bin/activate\n",
    "# tensorflowjs_converter --input_format keras tfjs/model4.h5 tfjs/model4\n",
    "# \n",
    "# python -m SimpleHTTPServer 8000"
   ]
  },
  {
   "cell_type": "code",
   "execution_count": 53,
   "metadata": {},
   "outputs": [],
   "source": [
    "# Test Example: one prediction"
   ]
  },
  {
   "cell_type": "code",
   "execution_count": 65,
   "metadata": {},
   "outputs": [],
   "source": [
    "keys_chroma = ['C','C#','D','D#','E','F','F#','G','G#','A','A#','B',\n",
    "        'C-','C#-','D-','D#-','E-','F-','F#-','G-','G#-','A-','A#-','B-']\n",
    "keys_chroma_dict = dict(enumerate(keys_chroma))\n",
    "keys_chroma_dict_reverse = {v: k for k, v in keys_chroma_dict.items()}\n",
    "def getPitch(note):\n",
    "    return keys_chroma_dict[note%12]"
   ]
  },
  {
   "cell_type": "code",
   "execution_count": 87,
   "metadata": {
    "colab": {},
    "colab_type": "code",
    "id": "rrUapn9JNX8o"
   },
   "outputs": [
    {
     "data": {
      "text/plain": [
       "['D', 'C', 'A', 'E', 'D', 'A#', 'A#', 'A']"
      ]
     },
     "metadata": {},
     "output_type": "display_data"
    },
    {
     "data": {
      "text/plain": [
       "'A'"
      ]
     },
     "metadata": {},
     "output_type": "display_data"
    },
    {
     "data": {
      "text/plain": [
       "'A#'"
      ]
     },
     "metadata": {},
     "output_type": "display_data"
    },
    {
     "data": {
      "text/plain": [
       "['C', 'A', 'E', 'D', 'A#', 'A#', 'A', 'A#']"
      ]
     },
     "metadata": {},
     "output_type": "display_data"
    },
    {
     "data": {
      "text/plain": [
       "'A'"
      ]
     },
     "metadata": {},
     "output_type": "display_data"
    },
    {
     "data": {
      "text/plain": [
       "'F'"
      ]
     },
     "metadata": {},
     "output_type": "display_data"
    },
    {
     "data": {
      "text/plain": [
       "['A', 'E', 'D', 'A#', 'A#', 'A', 'A#', 'F']"
      ]
     },
     "metadata": {},
     "output_type": "display_data"
    },
    {
     "data": {
      "text/plain": [
       "'G'"
      ]
     },
     "metadata": {},
     "output_type": "display_data"
    },
    {
     "data": {
      "text/plain": [
       "'F'"
      ]
     },
     "metadata": {},
     "output_type": "display_data"
    },
    {
     "data": {
      "text/plain": [
       "['E', 'D', 'A#', 'A#', 'A', 'A#', 'F', 'F']"
      ]
     },
     "metadata": {},
     "output_type": "display_data"
    },
    {
     "data": {
      "text/plain": [
       "'A'"
      ]
     },
     "metadata": {},
     "output_type": "display_data"
    },
    {
     "data": {
      "text/plain": [
       "'C'"
      ]
     },
     "metadata": {},
     "output_type": "display_data"
    },
    {
     "data": {
      "text/plain": [
       "['D', 'A#', 'A#', 'A', 'A#', 'F', 'F', 'C']"
      ]
     },
     "metadata": {},
     "output_type": "display_data"
    },
    {
     "data": {
      "text/plain": [
       "'A'"
      ]
     },
     "metadata": {},
     "output_type": "display_data"
    },
    {
     "data": {
      "text/plain": [
       "'A'"
      ]
     },
     "metadata": {},
     "output_type": "display_data"
    },
    {
     "data": {
      "text/plain": [
       "['A#', 'A#', 'A', 'A#', 'F', 'F', 'C', 'A']"
      ]
     },
     "metadata": {},
     "output_type": "display_data"
    },
    {
     "data": {
      "text/plain": [
       "'A'"
      ]
     },
     "metadata": {},
     "output_type": "display_data"
    },
    {
     "data": {
      "text/plain": [
       "'A'"
      ]
     },
     "metadata": {},
     "output_type": "display_data"
    },
    {
     "data": {
      "text/plain": [
       "['A#', 'A', 'A#', 'F', 'F', 'C', 'A', 'A']"
      ]
     },
     "metadata": {},
     "output_type": "display_data"
    },
    {
     "data": {
      "text/plain": [
       "'A'"
      ]
     },
     "metadata": {},
     "output_type": "display_data"
    },
    {
     "data": {
      "text/plain": [
       "'A'"
      ]
     },
     "metadata": {},
     "output_type": "display_data"
    },
    {
     "data": {
      "text/plain": [
       "['A', 'A#', 'F', 'F', 'C', 'A', 'A', 'A']"
      ]
     },
     "metadata": {},
     "output_type": "display_data"
    },
    {
     "data": {
      "text/plain": [
       "'A'"
      ]
     },
     "metadata": {},
     "output_type": "display_data"
    },
    {
     "data": {
      "text/plain": [
       "'D'"
      ]
     },
     "metadata": {},
     "output_type": "display_data"
    },
    {
     "data": {
      "text/plain": [
       "['A#', 'F', 'F', 'C', 'A', 'A', 'A', 'D']"
      ]
     },
     "metadata": {},
     "output_type": "display_data"
    },
    {
     "data": {
      "text/plain": [
       "'G'"
      ]
     },
     "metadata": {},
     "output_type": "display_data"
    },
    {
     "data": {
      "text/plain": [
       "'A'"
      ]
     },
     "metadata": {},
     "output_type": "display_data"
    },
    {
     "data": {
      "text/plain": [
       "['F', 'F', 'C', 'A', 'A', 'A', 'D', 'A']"
      ]
     },
     "metadata": {},
     "output_type": "display_data"
    },
    {
     "data": {
      "text/plain": [
       "'G'"
      ]
     },
     "metadata": {},
     "output_type": "display_data"
    },
    {
     "data": {
      "text/plain": [
       "'G'"
      ]
     },
     "metadata": {},
     "output_type": "display_data"
    },
    {
     "data": {
      "text/plain": [
       "['F', 'C', 'A', 'A', 'A', 'D', 'A', 'G']"
      ]
     },
     "metadata": {},
     "output_type": "display_data"
    },
    {
     "data": {
      "text/plain": [
       "'G'"
      ]
     },
     "metadata": {},
     "output_type": "display_data"
    },
    {
     "data": {
      "text/plain": [
       "'F'"
      ]
     },
     "metadata": {},
     "output_type": "display_data"
    },
    {
     "data": {
      "text/plain": [
       "['C', 'A', 'A', 'A', 'D', 'A', 'G', 'F']"
      ]
     },
     "metadata": {},
     "output_type": "display_data"
    },
    {
     "data": {
      "text/plain": [
       "'F'"
      ]
     },
     "metadata": {},
     "output_type": "display_data"
    },
    {
     "data": {
      "text/plain": [
       "'F'"
      ]
     },
     "metadata": {},
     "output_type": "display_data"
    },
    {
     "data": {
      "text/plain": [
       "['A', 'A', 'A', 'D', 'A', 'G', 'F', 'F']"
      ]
     },
     "metadata": {},
     "output_type": "display_data"
    },
    {
     "data": {
      "text/plain": [
       "'G'"
      ]
     },
     "metadata": {},
     "output_type": "display_data"
    },
    {
     "data": {
      "text/plain": [
       "'G'"
      ]
     },
     "metadata": {},
     "output_type": "display_data"
    },
    {
     "data": {
      "text/plain": [
       "['A', 'A', 'D', 'A', 'G', 'F', 'F', 'G']"
      ]
     },
     "metadata": {},
     "output_type": "display_data"
    },
    {
     "data": {
      "text/plain": [
       "'A'"
      ]
     },
     "metadata": {},
     "output_type": "display_data"
    },
    {
     "data": {
      "text/plain": [
       "'A'"
      ]
     },
     "metadata": {},
     "output_type": "display_data"
    },
    {
     "data": {
      "text/plain": [
       "['A', 'D', 'A', 'G', 'F', 'F', 'G', 'A']"
      ]
     },
     "metadata": {},
     "output_type": "display_data"
    },
    {
     "data": {
      "text/plain": [
       "'A'"
      ]
     },
     "metadata": {},
     "output_type": "display_data"
    },
    {
     "data": {
      "text/plain": [
       "'A'"
      ]
     },
     "metadata": {},
     "output_type": "display_data"
    },
    {
     "data": {
      "text/plain": [
       "['D', 'A', 'G', 'F', 'F', 'G', 'A', 'A']"
      ]
     },
     "metadata": {},
     "output_type": "display_data"
    },
    {
     "data": {
      "text/plain": [
       "'A'"
      ]
     },
     "metadata": {},
     "output_type": "display_data"
    },
    {
     "data": {
      "text/plain": [
       "'A'"
      ]
     },
     "metadata": {},
     "output_type": "display_data"
    },
    {
     "data": {
      "text/plain": [
       "['C', 'E', 'F', 'E', 'G', 'G', 'G', 'C']"
      ]
     },
     "metadata": {},
     "output_type": "display_data"
    },
    {
     "data": {
      "text/plain": [
       "'F'"
      ]
     },
     "metadata": {},
     "output_type": "display_data"
    },
    {
     "data": {
      "text/plain": [
       "'G'"
      ]
     },
     "metadata": {},
     "output_type": "display_data"
    },
    {
     "data": {
      "text/plain": [
       "['E', 'F', 'E', 'G', 'G', 'G', 'C', 'G']"
      ]
     },
     "metadata": {},
     "output_type": "display_data"
    },
    {
     "data": {
      "text/plain": [
       "'F'"
      ]
     },
     "metadata": {},
     "output_type": "display_data"
    },
    {
     "data": {
      "text/plain": [
       "'G'"
      ]
     },
     "metadata": {},
     "output_type": "display_data"
    },
    {
     "data": {
      "text/plain": [
       "['F', 'E', 'G', 'G', 'G', 'C', 'G', 'G']"
      ]
     },
     "metadata": {},
     "output_type": "display_data"
    },
    {
     "data": {
      "text/plain": [
       "'C'"
      ]
     },
     "metadata": {},
     "output_type": "display_data"
    },
    {
     "data": {
      "text/plain": [
       "'F'"
      ]
     },
     "metadata": {},
     "output_type": "display_data"
    },
    {
     "data": {
      "text/plain": [
       "['E', 'G', 'G', 'G', 'C', 'G', 'G', 'F']"
      ]
     },
     "metadata": {},
     "output_type": "display_data"
    },
    {
     "data": {
      "text/plain": [
       "'E'"
      ]
     },
     "metadata": {},
     "output_type": "display_data"
    },
    {
     "data": {
      "text/plain": [
       "'G'"
      ]
     },
     "metadata": {},
     "output_type": "display_data"
    },
    {
     "data": {
      "text/plain": [
       "['G', 'G', 'G', 'C', 'G', 'G', 'F', 'G']"
      ]
     },
     "metadata": {},
     "output_type": "display_data"
    },
    {
     "data": {
      "text/plain": [
       "'A'"
      ]
     },
     "metadata": {},
     "output_type": "display_data"
    },
    {
     "data": {
      "text/plain": [
       "'A#'"
      ]
     },
     "metadata": {},
     "output_type": "display_data"
    },
    {
     "data": {
      "text/plain": [
       "['G', 'G', 'C', 'G', 'G', 'F', 'G', 'A#']"
      ]
     },
     "metadata": {},
     "output_type": "display_data"
    },
    {
     "data": {
      "text/plain": [
       "'F'"
      ]
     },
     "metadata": {},
     "output_type": "display_data"
    },
    {
     "data": {
      "text/plain": [
       "'G'"
      ]
     },
     "metadata": {},
     "output_type": "display_data"
    },
    {
     "data": {
      "text/plain": [
       "['G', 'C', 'G', 'G', 'F', 'G', 'A#', 'G']"
      ]
     },
     "metadata": {},
     "output_type": "display_data"
    },
    {
     "data": {
      "text/plain": [
       "'C'"
      ]
     },
     "metadata": {},
     "output_type": "display_data"
    },
    {
     "data": {
      "text/plain": [
       "'F'"
      ]
     },
     "metadata": {},
     "output_type": "display_data"
    },
    {
     "data": {
      "text/plain": [
       "['C', 'G', 'G', 'F', 'G', 'A#', 'G', 'F']"
      ]
     },
     "metadata": {},
     "output_type": "display_data"
    },
    {
     "data": {
      "text/plain": [
       "'C'"
      ]
     },
     "metadata": {},
     "output_type": "display_data"
    },
    {
     "data": {
      "text/plain": [
       "'G'"
      ]
     },
     "metadata": {},
     "output_type": "display_data"
    },
    {
     "data": {
      "text/plain": [
       "['G', 'G', 'F', 'G', 'A#', 'G', 'F', 'G']"
      ]
     },
     "metadata": {},
     "output_type": "display_data"
    },
    {
     "data": {
      "text/plain": [
       "'C'"
      ]
     },
     "metadata": {},
     "output_type": "display_data"
    },
    {
     "data": {
      "text/plain": [
       "'F'"
      ]
     },
     "metadata": {},
     "output_type": "display_data"
    },
    {
     "data": {
      "text/plain": [
       "['G', 'F', 'G', 'A#', 'G', 'F', 'G', 'F']"
      ]
     },
     "metadata": {},
     "output_type": "display_data"
    },
    {
     "data": {
      "text/plain": [
       "'A'"
      ]
     },
     "metadata": {},
     "output_type": "display_data"
    },
    {
     "data": {
      "text/plain": [
       "'E'"
      ]
     },
     "metadata": {},
     "output_type": "display_data"
    },
    {
     "data": {
      "text/plain": [
       "['F', 'G', 'A#', 'G', 'F', 'G', 'F', 'E']"
      ]
     },
     "metadata": {},
     "output_type": "display_data"
    },
    {
     "data": {
      "text/plain": [
       "'A'"
      ]
     },
     "metadata": {},
     "output_type": "display_data"
    },
    {
     "data": {
      "text/plain": [
       "'C'"
      ]
     },
     "metadata": {},
     "output_type": "display_data"
    },
    {
     "data": {
      "text/plain": [
       "['G', 'A#', 'G', 'F', 'G', 'F', 'E', 'C']"
      ]
     },
     "metadata": {},
     "output_type": "display_data"
    },
    {
     "data": {
      "text/plain": [
       "'A'"
      ]
     },
     "metadata": {},
     "output_type": "display_data"
    },
    {
     "data": {
      "text/plain": [
       "'E'"
      ]
     },
     "metadata": {},
     "output_type": "display_data"
    },
    {
     "data": {
      "text/plain": [
       "['A#', 'G', 'F', 'G', 'F', 'E', 'C', 'E']"
      ]
     },
     "metadata": {},
     "output_type": "display_data"
    },
    {
     "data": {
      "text/plain": [
       "'F'"
      ]
     },
     "metadata": {},
     "output_type": "display_data"
    },
    {
     "data": {
      "text/plain": [
       "'F'"
      ]
     },
     "metadata": {},
     "output_type": "display_data"
    },
    {
     "data": {
      "text/plain": [
       "['G', 'F', 'G', 'F', 'E', 'C', 'E', 'F']"
      ]
     },
     "metadata": {},
     "output_type": "display_data"
    },
    {
     "data": {
      "text/plain": [
       "'F'"
      ]
     },
     "metadata": {},
     "output_type": "display_data"
    },
    {
     "data": {
      "text/plain": [
       "'E'"
      ]
     },
     "metadata": {},
     "output_type": "display_data"
    },
    {
     "data": {
      "text/plain": [
       "['F', 'G', 'F', 'E', 'C', 'E', 'F', 'E']"
      ]
     },
     "metadata": {},
     "output_type": "display_data"
    },
    {
     "data": {
      "text/plain": [
       "'F'"
      ]
     },
     "metadata": {},
     "output_type": "display_data"
    },
    {
     "data": {
      "text/plain": [
       "'G'"
      ]
     },
     "metadata": {},
     "output_type": "display_data"
    },
    {
     "data": {
      "text/plain": [
       "['G', 'F', 'E', 'C', 'E', 'F', 'E', 'G']"
      ]
     },
     "metadata": {},
     "output_type": "display_data"
    },
    {
     "data": {
      "text/plain": [
       "'F'"
      ]
     },
     "metadata": {},
     "output_type": "display_data"
    },
    {
     "data": {
      "text/plain": [
       "'G'"
      ]
     },
     "metadata": {},
     "output_type": "display_data"
    },
    {
     "data": {
      "text/plain": [
       "['F', 'E', 'C', 'E', 'F', 'E', 'G', 'G']"
      ]
     },
     "metadata": {},
     "output_type": "display_data"
    },
    {
     "data": {
      "text/plain": [
       "'F'"
      ]
     },
     "metadata": {},
     "output_type": "display_data"
    },
    {
     "data": {
      "text/plain": [
       "'G'"
      ]
     },
     "metadata": {},
     "output_type": "display_data"
    },
    {
     "data": {
      "text/plain": [
       "['E', 'C', 'E', 'F', 'E', 'G', 'G', 'G']"
      ]
     },
     "metadata": {},
     "output_type": "display_data"
    },
    {
     "data": {
      "text/plain": [
       "'G'"
      ]
     },
     "metadata": {},
     "output_type": "display_data"
    },
    {
     "data": {
      "text/plain": [
       "'C'"
      ]
     },
     "metadata": {},
     "output_type": "display_data"
    },
    {
     "data": {
      "text/plain": [
       "['C', 'E', 'F', 'E', 'G', 'G', 'G', 'C']"
      ]
     },
     "metadata": {},
     "output_type": "display_data"
    },
    {
     "data": {
      "text/plain": [
       "'F'"
      ]
     },
     "metadata": {},
     "output_type": "display_data"
    },
    {
     "data": {
      "text/plain": [
       "'G'"
      ]
     },
     "metadata": {},
     "output_type": "display_data"
    },
    {
     "data": {
      "text/plain": [
       "['E', 'F', 'E', 'G', 'G', 'G', 'C', 'G']"
      ]
     },
     "metadata": {},
     "output_type": "display_data"
    },
    {
     "data": {
      "text/plain": [
       "'F'"
      ]
     },
     "metadata": {},
     "output_type": "display_data"
    },
    {
     "data": {
      "text/plain": [
       "'G'"
      ]
     },
     "metadata": {},
     "output_type": "display_data"
    },
    {
     "data": {
      "text/plain": [
       "['F', 'E', 'G', 'G', 'G', 'C', 'G', 'G']"
      ]
     },
     "metadata": {},
     "output_type": "display_data"
    },
    {
     "data": {
      "text/plain": [
       "'C'"
      ]
     },
     "metadata": {},
     "output_type": "display_data"
    },
    {
     "data": {
      "text/plain": [
       "'F'"
      ]
     },
     "metadata": {},
     "output_type": "display_data"
    },
    {
     "data": {
      "text/plain": [
       "['E', 'G', 'G', 'G', 'C', 'G', 'G', 'F']"
      ]
     },
     "metadata": {},
     "output_type": "display_data"
    },
    {
     "data": {
      "text/plain": [
       "'E'"
      ]
     },
     "metadata": {},
     "output_type": "display_data"
    },
    {
     "data": {
      "text/plain": [
       "'G'"
      ]
     },
     "metadata": {},
     "output_type": "display_data"
    },
    {
     "data": {
      "text/plain": [
       "['G', 'G', 'G', 'C', 'G', 'G', 'F', 'G']"
      ]
     },
     "metadata": {},
     "output_type": "display_data"
    },
    {
     "data": {
      "text/plain": [
       "'A'"
      ]
     },
     "metadata": {},
     "output_type": "display_data"
    },
    {
     "data": {
      "text/plain": [
       "'A#'"
      ]
     },
     "metadata": {},
     "output_type": "display_data"
    },
    {
     "data": {
      "text/plain": [
       "['G', 'G', 'C', 'G', 'G', 'F', 'G', 'A#']"
      ]
     },
     "metadata": {},
     "output_type": "display_data"
    },
    {
     "data": {
      "text/plain": [
       "'F'"
      ]
     },
     "metadata": {},
     "output_type": "display_data"
    },
    {
     "data": {
      "text/plain": [
       "'G'"
      ]
     },
     "metadata": {},
     "output_type": "display_data"
    },
    {
     "data": {
      "text/plain": [
       "['C', 'C', 'B', 'E', 'D', 'D', 'C', 'C']"
      ]
     },
     "metadata": {},
     "output_type": "display_data"
    },
    {
     "data": {
      "text/plain": [
       "'G'"
      ]
     },
     "metadata": {},
     "output_type": "display_data"
    },
    {
     "data": {
      "text/plain": [
       "'A'"
      ]
     },
     "metadata": {},
     "output_type": "display_data"
    },
    {
     "data": {
      "text/plain": [
       "['C', 'B', 'E', 'D', 'D', 'C', 'C', 'A']"
      ]
     },
     "metadata": {},
     "output_type": "display_data"
    },
    {
     "data": {
      "text/plain": [
       "'D'"
      ]
     },
     "metadata": {},
     "output_type": "display_data"
    },
    {
     "data": {
      "text/plain": [
       "'C'"
      ]
     },
     "metadata": {},
     "output_type": "display_data"
    },
    {
     "data": {
      "text/plain": [
       "['B', 'E', 'D', 'D', 'C', 'C', 'A', 'C']"
      ]
     },
     "metadata": {},
     "output_type": "display_data"
    },
    {
     "data": {
      "text/plain": [
       "'D'"
      ]
     },
     "metadata": {},
     "output_type": "display_data"
    },
    {
     "data": {
      "text/plain": [
       "'E'"
      ]
     },
     "metadata": {},
     "output_type": "display_data"
    },
    {
     "data": {
      "text/plain": [
       "['E', 'D', 'D', 'C', 'C', 'A', 'C', 'E']"
      ]
     },
     "metadata": {},
     "output_type": "display_data"
    },
    {
     "data": {
      "text/plain": [
       "'C'"
      ]
     },
     "metadata": {},
     "output_type": "display_data"
    },
    {
     "data": {
      "text/plain": [
       "'D'"
      ]
     },
     "metadata": {},
     "output_type": "display_data"
    },
    {
     "data": {
      "text/plain": [
       "['D', 'D', 'C', 'C', 'A', 'C', 'E', 'D']"
      ]
     },
     "metadata": {},
     "output_type": "display_data"
    },
    {
     "data": {
      "text/plain": [
       "'C'"
      ]
     },
     "metadata": {},
     "output_type": "display_data"
    },
    {
     "data": {
      "text/plain": [
       "'D'"
      ]
     },
     "metadata": {},
     "output_type": "display_data"
    },
    {
     "data": {
      "text/plain": [
       "['D', 'C', 'C', 'A', 'C', 'E', 'D', 'D']"
      ]
     },
     "metadata": {},
     "output_type": "display_data"
    },
    {
     "data": {
      "text/plain": [
       "'C'"
      ]
     },
     "metadata": {},
     "output_type": "display_data"
    },
    {
     "data": {
      "text/plain": [
       "'C'"
      ]
     },
     "metadata": {},
     "output_type": "display_data"
    },
    {
     "data": {
      "text/plain": [
       "['C', 'C', 'A', 'C', 'E', 'D', 'D', 'C']"
      ]
     },
     "metadata": {},
     "output_type": "display_data"
    },
    {
     "data": {
      "text/plain": [
       "'C'"
      ]
     },
     "metadata": {},
     "output_type": "display_data"
    },
    {
     "data": {
      "text/plain": [
       "'A'"
      ]
     },
     "metadata": {},
     "output_type": "display_data"
    },
    {
     "data": {
      "text/plain": [
       "['C', 'A', 'C', 'E', 'D', 'D', 'C', 'A']"
      ]
     },
     "metadata": {},
     "output_type": "display_data"
    },
    {
     "data": {
      "text/plain": [
       "'D'"
      ]
     },
     "metadata": {},
     "output_type": "display_data"
    },
    {
     "data": {
      "text/plain": [
       "'C'"
      ]
     },
     "metadata": {},
     "output_type": "display_data"
    },
    {
     "data": {
      "text/plain": [
       "['A', 'C', 'E', 'D', 'D', 'C', 'A', 'C']"
      ]
     },
     "metadata": {},
     "output_type": "display_data"
    },
    {
     "data": {
      "text/plain": [
       "'D'"
      ]
     },
     "metadata": {},
     "output_type": "display_data"
    },
    {
     "data": {
      "text/plain": [
       "'A'"
      ]
     },
     "metadata": {},
     "output_type": "display_data"
    },
    {
     "data": {
      "text/plain": [
       "['C', 'E', 'D', 'D', 'C', 'A', 'C', 'A']"
      ]
     },
     "metadata": {},
     "output_type": "display_data"
    },
    {
     "data": {
      "text/plain": [
       "'E'"
      ]
     },
     "metadata": {},
     "output_type": "display_data"
    },
    {
     "data": {
      "text/plain": [
       "'C'"
      ]
     },
     "metadata": {},
     "output_type": "display_data"
    },
    {
     "data": {
      "text/plain": [
       "['E', 'D', 'D', 'C', 'A', 'C', 'A', 'C']"
      ]
     },
     "metadata": {},
     "output_type": "display_data"
    },
    {
     "data": {
      "text/plain": [
       "'E'"
      ]
     },
     "metadata": {},
     "output_type": "display_data"
    },
    {
     "data": {
      "text/plain": [
       "'A'"
      ]
     },
     "metadata": {},
     "output_type": "display_data"
    },
    {
     "data": {
      "text/plain": [
       "['D', 'D', 'C', 'A', 'C', 'A', 'C', 'A']"
      ]
     },
     "metadata": {},
     "output_type": "display_data"
    },
    {
     "data": {
      "text/plain": [
       "'B'"
      ]
     },
     "metadata": {},
     "output_type": "display_data"
    },
    {
     "data": {
      "text/plain": [
       "'E'"
      ]
     },
     "metadata": {},
     "output_type": "display_data"
    },
    {
     "data": {
      "text/plain": [
       "['D', 'C', 'A', 'C', 'A', 'C', 'A', 'E']"
      ]
     },
     "metadata": {},
     "output_type": "display_data"
    },
    {
     "data": {
      "text/plain": [
       "'E'"
      ]
     },
     "metadata": {},
     "output_type": "display_data"
    },
    {
     "data": {
      "text/plain": [
       "'D'"
      ]
     },
     "metadata": {},
     "output_type": "display_data"
    },
    {
     "data": {
      "text/plain": [
       "['C', 'A', 'C', 'A', 'C', 'A', 'E', 'D']"
      ]
     },
     "metadata": {},
     "output_type": "display_data"
    },
    {
     "data": {
      "text/plain": [
       "'F'"
      ]
     },
     "metadata": {},
     "output_type": "display_data"
    },
    {
     "data": {
      "text/plain": [
       "'D'"
      ]
     },
     "metadata": {},
     "output_type": "display_data"
    },
    {
     "data": {
      "text/plain": [
       "['A', 'C', 'A', 'C', 'A', 'E', 'D', 'D']"
      ]
     },
     "metadata": {},
     "output_type": "display_data"
    },
    {
     "data": {
      "text/plain": [
       "'G'"
      ]
     },
     "metadata": {},
     "output_type": "display_data"
    },
    {
     "data": {
      "text/plain": [
       "'B'"
      ]
     },
     "metadata": {},
     "output_type": "display_data"
    },
    {
     "data": {
      "text/plain": [
       "['C', 'A', 'C', 'A', 'E', 'D', 'D', 'B']"
      ]
     },
     "metadata": {},
     "output_type": "display_data"
    },
    {
     "data": {
      "text/plain": [
       "'C'"
      ]
     },
     "metadata": {},
     "output_type": "display_data"
    },
    {
     "data": {
      "text/plain": [
       "'A'"
      ]
     },
     "metadata": {},
     "output_type": "display_data"
    },
    {
     "data": {
      "text/plain": [
       "['A', 'A', 'C', 'A#', 'F', 'E', 'A', 'E']"
      ]
     },
     "metadata": {},
     "output_type": "display_data"
    },
    {
     "data": {
      "text/plain": [
       "'G'"
      ]
     },
     "metadata": {},
     "output_type": "display_data"
    },
    {
     "data": {
      "text/plain": [
       "'E'"
      ]
     },
     "metadata": {},
     "output_type": "display_data"
    },
    {
     "data": {
      "text/plain": [
       "['A', 'C', 'A#', 'F', 'E', 'A', 'E', 'E']"
      ]
     },
     "metadata": {},
     "output_type": "display_data"
    },
    {
     "data": {
      "text/plain": [
       "'E'"
      ]
     },
     "metadata": {},
     "output_type": "display_data"
    },
    {
     "data": {
      "text/plain": [
       "'D'"
      ]
     },
     "metadata": {},
     "output_type": "display_data"
    },
    {
     "data": {
      "text/plain": [
       "['C', 'A#', 'F', 'E', 'A', 'E', 'E', 'D']"
      ]
     },
     "metadata": {},
     "output_type": "display_data"
    },
    {
     "data": {
      "text/plain": [
       "'E'"
      ]
     },
     "metadata": {},
     "output_type": "display_data"
    },
    {
     "data": {
      "text/plain": [
       "'F'"
      ]
     },
     "metadata": {},
     "output_type": "display_data"
    },
    {
     "data": {
      "text/plain": [
       "['A#', 'F', 'E', 'A', 'E', 'E', 'D', 'F']"
      ]
     },
     "metadata": {},
     "output_type": "display_data"
    },
    {
     "data": {
      "text/plain": [
       "'E'"
      ]
     },
     "metadata": {},
     "output_type": "display_data"
    },
    {
     "data": {
      "text/plain": [
       "'G#'"
      ]
     },
     "metadata": {},
     "output_type": "display_data"
    },
    {
     "data": {
      "text/plain": [
       "['F', 'E', 'A', 'E', 'E', 'D', 'F', 'G#']"
      ]
     },
     "metadata": {},
     "output_type": "display_data"
    },
    {
     "data": {
      "text/plain": [
       "'C'"
      ]
     },
     "metadata": {},
     "output_type": "display_data"
    },
    {
     "data": {
      "text/plain": [
       "'F'"
      ]
     },
     "metadata": {},
     "output_type": "display_data"
    },
    {
     "data": {
      "text/plain": [
       "['E', 'A', 'E', 'E', 'D', 'F', 'G#', 'F']"
      ]
     },
     "metadata": {},
     "output_type": "display_data"
    },
    {
     "data": {
      "text/plain": [
       "'D'"
      ]
     },
     "metadata": {},
     "output_type": "display_data"
    },
    {
     "data": {
      "text/plain": [
       "'E'"
      ]
     },
     "metadata": {},
     "output_type": "display_data"
    },
    {
     "data": {
      "text/plain": [
       "['A', 'E', 'E', 'D', 'F', 'G#', 'F', 'E']"
      ]
     },
     "metadata": {},
     "output_type": "display_data"
    },
    {
     "data": {
      "text/plain": [
       "'D'"
      ]
     },
     "metadata": {},
     "output_type": "display_data"
    },
    {
     "data": {
      "text/plain": [
       "'D'"
      ]
     },
     "metadata": {},
     "output_type": "display_data"
    },
    {
     "data": {
      "text/plain": [
       "['E', 'E', 'D', 'F', 'G#', 'F', 'E', 'D']"
      ]
     },
     "metadata": {},
     "output_type": "display_data"
    },
    {
     "data": {
      "text/plain": [
       "'A'"
      ]
     },
     "metadata": {},
     "output_type": "display_data"
    },
    {
     "data": {
      "text/plain": [
       "'F'"
      ]
     },
     "metadata": {},
     "output_type": "display_data"
    },
    {
     "data": {
      "text/plain": [
       "['E', 'D', 'F', 'G#', 'F', 'E', 'D', 'F']"
      ]
     },
     "metadata": {},
     "output_type": "display_data"
    },
    {
     "data": {
      "text/plain": [
       "'A'"
      ]
     },
     "metadata": {},
     "output_type": "display_data"
    },
    {
     "data": {
      "text/plain": [
       "'E'"
      ]
     },
     "metadata": {},
     "output_type": "display_data"
    },
    {
     "data": {
      "text/plain": [
       "['D', 'F', 'G#', 'F', 'E', 'D', 'F', 'E']"
      ]
     },
     "metadata": {},
     "output_type": "display_data"
    },
    {
     "data": {
      "text/plain": [
       "'A'"
      ]
     },
     "metadata": {},
     "output_type": "display_data"
    },
    {
     "data": {
      "text/plain": [
       "'D'"
      ]
     },
     "metadata": {},
     "output_type": "display_data"
    },
    {
     "data": {
      "text/plain": [
       "['F', 'G#', 'F', 'E', 'D', 'F', 'E', 'D']"
      ]
     },
     "metadata": {},
     "output_type": "display_data"
    },
    {
     "data": {
      "text/plain": [
       "'A'"
      ]
     },
     "metadata": {},
     "output_type": "display_data"
    },
    {
     "data": {
      "text/plain": [
       "'F'"
      ]
     },
     "metadata": {},
     "output_type": "display_data"
    },
    {
     "data": {
      "text/plain": [
       "['A', 'A', 'C', 'A#', 'F', 'E', 'A', 'E']"
      ]
     },
     "metadata": {},
     "output_type": "display_data"
    },
    {
     "data": {
      "text/plain": [
       "'G'"
      ]
     },
     "metadata": {},
     "output_type": "display_data"
    },
    {
     "data": {
      "text/plain": [
       "'E'"
      ]
     },
     "metadata": {},
     "output_type": "display_data"
    },
    {
     "data": {
      "text/plain": [
       "['A', 'C', 'A#', 'F', 'E', 'A', 'E', 'E']"
      ]
     },
     "metadata": {},
     "output_type": "display_data"
    },
    {
     "data": {
      "text/plain": [
       "'E'"
      ]
     },
     "metadata": {},
     "output_type": "display_data"
    },
    {
     "data": {
      "text/plain": [
       "'D'"
      ]
     },
     "metadata": {},
     "output_type": "display_data"
    },
    {
     "data": {
      "text/plain": [
       "['C', 'A#', 'F', 'E', 'A', 'E', 'E', 'D']"
      ]
     },
     "metadata": {},
     "output_type": "display_data"
    },
    {
     "data": {
      "text/plain": [
       "'E'"
      ]
     },
     "metadata": {},
     "output_type": "display_data"
    },
    {
     "data": {
      "text/plain": [
       "'F'"
      ]
     },
     "metadata": {},
     "output_type": "display_data"
    },
    {
     "data": {
      "text/plain": [
       "['A#', 'F', 'E', 'A', 'E', 'E', 'D', 'F']"
      ]
     },
     "metadata": {},
     "output_type": "display_data"
    },
    {
     "data": {
      "text/plain": [
       "'E'"
      ]
     },
     "metadata": {},
     "output_type": "display_data"
    },
    {
     "data": {
      "text/plain": [
       "'G#'"
      ]
     },
     "metadata": {},
     "output_type": "display_data"
    },
    {
     "data": {
      "text/plain": [
       "['F', 'E', 'A', 'E', 'E', 'D', 'F', 'G#']"
      ]
     },
     "metadata": {},
     "output_type": "display_data"
    },
    {
     "data": {
      "text/plain": [
       "'C'"
      ]
     },
     "metadata": {},
     "output_type": "display_data"
    },
    {
     "data": {
      "text/plain": [
       "'F'"
      ]
     },
     "metadata": {},
     "output_type": "display_data"
    },
    {
     "data": {
      "text/plain": [
       "['E', 'A', 'E', 'E', 'D', 'F', 'G#', 'F']"
      ]
     },
     "metadata": {},
     "output_type": "display_data"
    },
    {
     "data": {
      "text/plain": [
       "'D'"
      ]
     },
     "metadata": {},
     "output_type": "display_data"
    },
    {
     "data": {
      "text/plain": [
       "'E'"
      ]
     },
     "metadata": {},
     "output_type": "display_data"
    },
    {
     "data": {
      "text/plain": [
       "['A', 'E', 'E', 'D', 'F', 'G#', 'F', 'E']"
      ]
     },
     "metadata": {},
     "output_type": "display_data"
    },
    {
     "data": {
      "text/plain": [
       "'D'"
      ]
     },
     "metadata": {},
     "output_type": "display_data"
    },
    {
     "data": {
      "text/plain": [
       "'D'"
      ]
     },
     "metadata": {},
     "output_type": "display_data"
    },
    {
     "data": {
      "text/plain": [
       "['E', 'E', 'D', 'F', 'G#', 'F', 'E', 'D']"
      ]
     },
     "metadata": {},
     "output_type": "display_data"
    },
    {
     "data": {
      "text/plain": [
       "'A'"
      ]
     },
     "metadata": {},
     "output_type": "display_data"
    },
    {
     "data": {
      "text/plain": [
       "'E'"
      ]
     },
     "metadata": {},
     "output_type": "display_data"
    },
    {
     "data": {
      "text/plain": [
       "['E', 'D', 'F', 'G#', 'F', 'E', 'D', 'E']"
      ]
     },
     "metadata": {},
     "output_type": "display_data"
    },
    {
     "data": {
      "text/plain": [
       "'A'"
      ]
     },
     "metadata": {},
     "output_type": "display_data"
    },
    {
     "data": {
      "text/plain": [
       "'F'"
      ]
     },
     "metadata": {},
     "output_type": "display_data"
    },
    {
     "data": {
      "text/plain": [
       "['D', 'F', 'G#', 'F', 'E', 'D', 'E', 'F']"
      ]
     },
     "metadata": {},
     "output_type": "display_data"
    },
    {
     "data": {
      "text/plain": [
       "'A'"
      ]
     },
     "metadata": {},
     "output_type": "display_data"
    },
    {
     "data": {
      "text/plain": [
       "'E'"
      ]
     },
     "metadata": {},
     "output_type": "display_data"
    },
    {
     "data": {
      "text/plain": [
       "['F', 'G#', 'F', 'E', 'D', 'E', 'F', 'E']"
      ]
     },
     "metadata": {},
     "output_type": "display_data"
    },
    {
     "data": {
      "text/plain": [
       "'A'"
      ]
     },
     "metadata": {},
     "output_type": "display_data"
    },
    {
     "data": {
      "text/plain": [
       "'D'"
      ]
     },
     "metadata": {},
     "output_type": "display_data"
    },
    {
     "data": {
      "text/plain": [
       "['G#', 'F', 'E', 'D', 'E', 'F', 'E', 'D']"
      ]
     },
     "metadata": {},
     "output_type": "display_data"
    },
    {
     "data": {
      "text/plain": [
       "'D'"
      ]
     },
     "metadata": {},
     "output_type": "display_data"
    },
    {
     "data": {
      "text/plain": [
       "'E'"
      ]
     },
     "metadata": {},
     "output_type": "display_data"
    },
    {
     "data": {
      "text/plain": [
       "['F', 'E', 'D', 'E', 'F', 'E', 'D', 'E']"
      ]
     },
     "metadata": {},
     "output_type": "display_data"
    },
    {
     "data": {
      "text/plain": [
       "'E'"
      ]
     },
     "metadata": {},
     "output_type": "display_data"
    },
    {
     "data": {
      "text/plain": [
       "'F'"
      ]
     },
     "metadata": {},
     "output_type": "display_data"
    },
    {
     "data": {
      "text/plain": [
       "['C', 'B', 'B', 'B', 'B', 'B', 'B', 'B']"
      ]
     },
     "metadata": {},
     "output_type": "display_data"
    },
    {
     "data": {
      "text/plain": [
       "'D'"
      ]
     },
     "metadata": {},
     "output_type": "display_data"
    },
    {
     "data": {
      "text/plain": [
       "'B'"
      ]
     },
     "metadata": {},
     "output_type": "display_data"
    },
    {
     "data": {
      "text/plain": [
       "['B', 'B', 'B', 'B', 'B', 'B', 'B', 'B']"
      ]
     },
     "metadata": {},
     "output_type": "display_data"
    },
    {
     "data": {
      "text/plain": [
       "'A'"
      ]
     },
     "metadata": {},
     "output_type": "display_data"
    },
    {
     "data": {
      "text/plain": [
       "'B'"
      ]
     },
     "metadata": {},
     "output_type": "display_data"
    },
    {
     "data": {
      "text/plain": [
       "['B', 'B', 'B', 'B', 'B', 'B', 'B', 'B']"
      ]
     },
     "metadata": {},
     "output_type": "display_data"
    },
    {
     "data": {
      "text/plain": [
       "'G'"
      ]
     },
     "metadata": {},
     "output_type": "display_data"
    },
    {
     "data": {
      "text/plain": [
       "'B'"
      ]
     },
     "metadata": {},
     "output_type": "display_data"
    },
    {
     "data": {
      "text/plain": [
       "['B', 'B', 'B', 'B', 'B', 'B', 'B', 'B']"
      ]
     },
     "metadata": {},
     "output_type": "display_data"
    },
    {
     "data": {
      "text/plain": [
       "'G'"
      ]
     },
     "metadata": {},
     "output_type": "display_data"
    },
    {
     "data": {
      "text/plain": [
       "'D'"
      ]
     },
     "metadata": {},
     "output_type": "display_data"
    },
    {
     "data": {
      "text/plain": [
       "['B', 'B', 'B', 'B', 'B', 'B', 'B', 'D']"
      ]
     },
     "metadata": {},
     "output_type": "display_data"
    },
    {
     "data": {
      "text/plain": [
       "'A'"
      ]
     },
     "metadata": {},
     "output_type": "display_data"
    },
    {
     "data": {
      "text/plain": [
       "'B'"
      ]
     },
     "metadata": {},
     "output_type": "display_data"
    },
    {
     "data": {
      "text/plain": [
       "['B', 'B', 'B', 'B', 'B', 'B', 'D', 'B']"
      ]
     },
     "metadata": {},
     "output_type": "display_data"
    },
    {
     "data": {
      "text/plain": [
       "'A'"
      ]
     },
     "metadata": {},
     "output_type": "display_data"
    },
    {
     "data": {
      "text/plain": [
       "'A'"
      ]
     },
     "metadata": {},
     "output_type": "display_data"
    },
    {
     "data": {
      "text/plain": [
       "['B', 'B', 'B', 'B', 'B', 'D', 'B', 'A']"
      ]
     },
     "metadata": {},
     "output_type": "display_data"
    },
    {
     "data": {
      "text/plain": [
       "'G'"
      ]
     },
     "metadata": {},
     "output_type": "display_data"
    },
    {
     "data": {
      "text/plain": [
       "'G'"
      ]
     },
     "metadata": {},
     "output_type": "display_data"
    },
    {
     "data": {
      "text/plain": [
       "['B', 'B', 'B', 'B', 'D', 'B', 'A', 'G']"
      ]
     },
     "metadata": {},
     "output_type": "display_data"
    },
    {
     "data": {
      "text/plain": [
       "'G'"
      ]
     },
     "metadata": {},
     "output_type": "display_data"
    },
    {
     "data": {
      "text/plain": [
       "'C'"
      ]
     },
     "metadata": {},
     "output_type": "display_data"
    },
    {
     "data": {
      "text/plain": [
       "['B', 'B', 'B', 'D', 'B', 'A', 'G', 'C']"
      ]
     },
     "metadata": {},
     "output_type": "display_data"
    },
    {
     "data": {
      "text/plain": [
       "'B'"
      ]
     },
     "metadata": {},
     "output_type": "display_data"
    },
    {
     "data": {
      "text/plain": [
       "'A#'"
      ]
     },
     "metadata": {},
     "output_type": "display_data"
    },
    {
     "data": {
      "text/plain": [
       "['B', 'B', 'D', 'B', 'A', 'G', 'C', 'A#']"
      ]
     },
     "metadata": {},
     "output_type": "display_data"
    },
    {
     "data": {
      "text/plain": [
       "'B'"
      ]
     },
     "metadata": {},
     "output_type": "display_data"
    },
    {
     "data": {
      "text/plain": [
       "'B'"
      ]
     },
     "metadata": {},
     "output_type": "display_data"
    },
    {
     "data": {
      "text/plain": [
       "['B', 'D', 'B', 'A', 'G', 'C', 'A#', 'B']"
      ]
     },
     "metadata": {},
     "output_type": "display_data"
    },
    {
     "data": {
      "text/plain": [
       "'B'"
      ]
     },
     "metadata": {},
     "output_type": "display_data"
    },
    {
     "data": {
      "text/plain": [
       "'A#'"
      ]
     },
     "metadata": {},
     "output_type": "display_data"
    },
    {
     "data": {
      "text/plain": [
       "['D', 'B', 'A', 'G', 'C', 'A#', 'B', 'A#']"
      ]
     },
     "metadata": {},
     "output_type": "display_data"
    },
    {
     "data": {
      "text/plain": [
       "'B'"
      ]
     },
     "metadata": {},
     "output_type": "display_data"
    },
    {
     "data": {
      "text/plain": [
       "'B'"
      ]
     },
     "metadata": {},
     "output_type": "display_data"
    },
    {
     "data": {
      "text/plain": [
       "['B', 'A', 'G', 'C', 'A#', 'B', 'A#', 'B']"
      ]
     },
     "metadata": {},
     "output_type": "display_data"
    },
    {
     "data": {
      "text/plain": [
       "'A#'"
      ]
     },
     "metadata": {},
     "output_type": "display_data"
    },
    {
     "data": {
      "text/plain": [
       "'A#'"
      ]
     },
     "metadata": {},
     "output_type": "display_data"
    },
    {
     "data": {
      "text/plain": [
       "['A', 'G', 'C', 'A#', 'B', 'A#', 'B', 'A#']"
      ]
     },
     "metadata": {},
     "output_type": "display_data"
    },
    {
     "data": {
      "text/plain": [
       "'B'"
      ]
     },
     "metadata": {},
     "output_type": "display_data"
    },
    {
     "data": {
      "text/plain": [
       "'B'"
      ]
     },
     "metadata": {},
     "output_type": "display_data"
    },
    {
     "data": {
      "text/plain": [
       "['G', 'C', 'A#', 'B', 'A#', 'B', 'A#', 'B']"
      ]
     },
     "metadata": {},
     "output_type": "display_data"
    },
    {
     "data": {
      "text/plain": [
       "'A#'"
      ]
     },
     "metadata": {},
     "output_type": "display_data"
    },
    {
     "data": {
      "text/plain": [
       "'A#'"
      ]
     },
     "metadata": {},
     "output_type": "display_data"
    },
    {
     "data": {
      "text/plain": [
       "['C', 'A#', 'B', 'A#', 'B', 'A#', 'B', 'A#']"
      ]
     },
     "metadata": {},
     "output_type": "display_data"
    },
    {
     "data": {
      "text/plain": [
       "'G'"
      ]
     },
     "metadata": {},
     "output_type": "display_data"
    },
    {
     "data": {
      "text/plain": [
       "'B'"
      ]
     },
     "metadata": {},
     "output_type": "display_data"
    },
    {
     "data": {
      "text/plain": [
       "['A#', 'B', 'A#', 'B', 'A#', 'B', 'A#', 'B']"
      ]
     },
     "metadata": {},
     "output_type": "display_data"
    },
    {
     "data": {
      "text/plain": [
       "'G'"
      ]
     },
     "metadata": {},
     "output_type": "display_data"
    },
    {
     "data": {
      "text/plain": [
       "'B'"
      ]
     },
     "metadata": {},
     "output_type": "display_data"
    },
    {
     "data": {
      "text/plain": [
       "['B', 'A#', 'B', 'A#', 'B', 'A#', 'B', 'B']"
      ]
     },
     "metadata": {},
     "output_type": "display_data"
    },
    {
     "data": {
      "text/plain": [
       "'G'"
      ]
     },
     "metadata": {},
     "output_type": "display_data"
    },
    {
     "data": {
      "text/plain": [
       "'C'"
      ]
     },
     "metadata": {},
     "output_type": "display_data"
    },
    {
     "data": {
      "text/plain": [
       "['A#', 'B', 'A#', 'B', 'A#', 'B', 'B', 'C']"
      ]
     },
     "metadata": {},
     "output_type": "display_data"
    },
    {
     "data": {
      "text/plain": [
       "'C'"
      ]
     },
     "metadata": {},
     "output_type": "display_data"
    },
    {
     "data": {
      "text/plain": [
       "'C'"
      ]
     },
     "metadata": {},
     "output_type": "display_data"
    },
    {
     "data": {
      "text/plain": [
       "['B', 'A#', 'B', 'A#', 'B', 'B', 'C', 'C']"
      ]
     },
     "metadata": {},
     "output_type": "display_data"
    },
    {
     "data": {
      "text/plain": [
       "'C'"
      ]
     },
     "metadata": {},
     "output_type": "display_data"
    },
    {
     "data": {
      "text/plain": [
       "'C'"
      ]
     },
     "metadata": {},
     "output_type": "display_data"
    },
    {
     "data": {
      "text/plain": [
       "['A#', 'B', 'A#', 'B', 'B', 'C', 'C', 'C']"
      ]
     },
     "metadata": {},
     "output_type": "display_data"
    },
    {
     "data": {
      "text/plain": [
       "'C'"
      ]
     },
     "metadata": {},
     "output_type": "display_data"
    },
    {
     "data": {
      "text/plain": [
       "'C'"
      ]
     },
     "metadata": {},
     "output_type": "display_data"
    },
    {
     "data": {
      "text/plain": [
       "['G', 'F', 'E', 'C', 'E', 'F', 'E', 'G']"
      ]
     },
     "metadata": {},
     "output_type": "display_data"
    },
    {
     "data": {
      "text/plain": [
       "'F'"
      ]
     },
     "metadata": {},
     "output_type": "display_data"
    },
    {
     "data": {
      "text/plain": [
       "'G'"
      ]
     },
     "metadata": {},
     "output_type": "display_data"
    },
    {
     "data": {
      "text/plain": [
       "['F', 'E', 'C', 'E', 'F', 'E', 'G', 'G']"
      ]
     },
     "metadata": {},
     "output_type": "display_data"
    },
    {
     "data": {
      "text/plain": [
       "'F'"
      ]
     },
     "metadata": {},
     "output_type": "display_data"
    },
    {
     "data": {
      "text/plain": [
       "'G'"
      ]
     },
     "metadata": {},
     "output_type": "display_data"
    },
    {
     "data": {
      "text/plain": [
       "['E', 'C', 'E', 'F', 'E', 'G', 'G', 'G']"
      ]
     },
     "metadata": {},
     "output_type": "display_data"
    },
    {
     "data": {
      "text/plain": [
       "'G'"
      ]
     },
     "metadata": {},
     "output_type": "display_data"
    },
    {
     "data": {
      "text/plain": [
       "'C'"
      ]
     },
     "metadata": {},
     "output_type": "display_data"
    },
    {
     "data": {
      "text/plain": [
       "['C', 'E', 'F', 'E', 'G', 'G', 'G', 'C']"
      ]
     },
     "metadata": {},
     "output_type": "display_data"
    },
    {
     "data": {
      "text/plain": [
       "'F'"
      ]
     },
     "metadata": {},
     "output_type": "display_data"
    },
    {
     "data": {
      "text/plain": [
       "'G'"
      ]
     },
     "metadata": {},
     "output_type": "display_data"
    },
    {
     "data": {
      "text/plain": [
       "['E', 'F', 'E', 'G', 'G', 'G', 'C', 'G']"
      ]
     },
     "metadata": {},
     "output_type": "display_data"
    },
    {
     "data": {
      "text/plain": [
       "'F'"
      ]
     },
     "metadata": {},
     "output_type": "display_data"
    },
    {
     "data": {
      "text/plain": [
       "'G'"
      ]
     },
     "metadata": {},
     "output_type": "display_data"
    },
    {
     "data": {
      "text/plain": [
       "['F', 'E', 'G', 'G', 'G', 'C', 'G', 'G']"
      ]
     },
     "metadata": {},
     "output_type": "display_data"
    },
    {
     "data": {
      "text/plain": [
       "'C'"
      ]
     },
     "metadata": {},
     "output_type": "display_data"
    },
    {
     "data": {
      "text/plain": [
       "'F'"
      ]
     },
     "metadata": {},
     "output_type": "display_data"
    },
    {
     "data": {
      "text/plain": [
       "['E', 'G', 'G', 'G', 'C', 'G', 'G', 'F']"
      ]
     },
     "metadata": {},
     "output_type": "display_data"
    },
    {
     "data": {
      "text/plain": [
       "'E'"
      ]
     },
     "metadata": {},
     "output_type": "display_data"
    },
    {
     "data": {
      "text/plain": [
       "'G'"
      ]
     },
     "metadata": {},
     "output_type": "display_data"
    },
    {
     "data": {
      "text/plain": [
       "['G', 'G', 'G', 'C', 'G', 'G', 'F', 'G']"
      ]
     },
     "metadata": {},
     "output_type": "display_data"
    },
    {
     "data": {
      "text/plain": [
       "'A'"
      ]
     },
     "metadata": {},
     "output_type": "display_data"
    },
    {
     "data": {
      "text/plain": [
       "'A#'"
      ]
     },
     "metadata": {},
     "output_type": "display_data"
    },
    {
     "data": {
      "text/plain": [
       "['G', 'G', 'C', 'G', 'G', 'F', 'G', 'A#']"
      ]
     },
     "metadata": {},
     "output_type": "display_data"
    },
    {
     "data": {
      "text/plain": [
       "'F'"
      ]
     },
     "metadata": {},
     "output_type": "display_data"
    },
    {
     "data": {
      "text/plain": [
       "'G'"
      ]
     },
     "metadata": {},
     "output_type": "display_data"
    },
    {
     "data": {
      "text/plain": [
       "['G', 'C', 'G', 'G', 'F', 'G', 'A#', 'G']"
      ]
     },
     "metadata": {},
     "output_type": "display_data"
    },
    {
     "data": {
      "text/plain": [
       "'C'"
      ]
     },
     "metadata": {},
     "output_type": "display_data"
    },
    {
     "data": {
      "text/plain": [
       "'F'"
      ]
     },
     "metadata": {},
     "output_type": "display_data"
    },
    {
     "data": {
      "text/plain": [
       "['C', 'G', 'G', 'F', 'G', 'A#', 'G', 'F']"
      ]
     },
     "metadata": {},
     "output_type": "display_data"
    },
    {
     "data": {
      "text/plain": [
       "'C'"
      ]
     },
     "metadata": {},
     "output_type": "display_data"
    },
    {
     "data": {
      "text/plain": [
       "'G'"
      ]
     },
     "metadata": {},
     "output_type": "display_data"
    },
    {
     "data": {
      "text/plain": [
       "['G', 'G', 'F', 'G', 'A#', 'G', 'F', 'G']"
      ]
     },
     "metadata": {},
     "output_type": "display_data"
    },
    {
     "data": {
      "text/plain": [
       "'C'"
      ]
     },
     "metadata": {},
     "output_type": "display_data"
    },
    {
     "data": {
      "text/plain": [
       "'F'"
      ]
     },
     "metadata": {},
     "output_type": "display_data"
    },
    {
     "data": {
      "text/plain": [
       "['G', 'F', 'G', 'A#', 'G', 'F', 'G', 'F']"
      ]
     },
     "metadata": {},
     "output_type": "display_data"
    },
    {
     "data": {
      "text/plain": [
       "'A'"
      ]
     },
     "metadata": {},
     "output_type": "display_data"
    },
    {
     "data": {
      "text/plain": [
       "'E'"
      ]
     },
     "metadata": {},
     "output_type": "display_data"
    },
    {
     "data": {
      "text/plain": [
       "['F', 'G', 'A#', 'G', 'F', 'G', 'F', 'E']"
      ]
     },
     "metadata": {},
     "output_type": "display_data"
    },
    {
     "data": {
      "text/plain": [
       "'A'"
      ]
     },
     "metadata": {},
     "output_type": "display_data"
    },
    {
     "data": {
      "text/plain": [
       "'C'"
      ]
     },
     "metadata": {},
     "output_type": "display_data"
    },
    {
     "data": {
      "text/plain": [
       "['G', 'A#', 'G', 'F', 'G', 'F', 'E', 'C']"
      ]
     },
     "metadata": {},
     "output_type": "display_data"
    },
    {
     "data": {
      "text/plain": [
       "'A'"
      ]
     },
     "metadata": {},
     "output_type": "display_data"
    },
    {
     "data": {
      "text/plain": [
       "'C'"
      ]
     },
     "metadata": {},
     "output_type": "display_data"
    },
    {
     "data": {
      "text/plain": [
       "['A#', 'G', 'F', 'G', 'F', 'E', 'C', 'C']"
      ]
     },
     "metadata": {},
     "output_type": "display_data"
    },
    {
     "data": {
      "text/plain": [
       "'F'"
      ]
     },
     "metadata": {},
     "output_type": "display_data"
    },
    {
     "data": {
      "text/plain": [
       "'C'"
      ]
     },
     "metadata": {},
     "output_type": "display_data"
    },
    {
     "data": {
      "text/plain": [
       "['G', 'F', 'G', 'F', 'E', 'C', 'C', 'C']"
      ]
     },
     "metadata": {},
     "output_type": "display_data"
    },
    {
     "data": {
      "text/plain": [
       "'A#'"
      ]
     },
     "metadata": {},
     "output_type": "display_data"
    },
    {
     "data": {
      "text/plain": [
       "'C'"
      ]
     },
     "metadata": {},
     "output_type": "display_data"
    },
    {
     "data": {
      "text/plain": [
       "['F', 'G', 'F', 'E', 'C', 'C', 'C', 'C']"
      ]
     },
     "metadata": {},
     "output_type": "display_data"
    },
    {
     "data": {
      "text/plain": [
       "'D'"
      ]
     },
     "metadata": {},
     "output_type": "display_data"
    },
    {
     "data": {
      "text/plain": [
       "'C'"
      ]
     },
     "metadata": {},
     "output_type": "display_data"
    },
    {
     "data": {
      "text/plain": [
       "['G', 'F', 'E', 'C', 'C', 'C', 'C', 'C']"
      ]
     },
     "metadata": {},
     "output_type": "display_data"
    },
    {
     "data": {
      "text/plain": [
       "'F'"
      ]
     },
     "metadata": {},
     "output_type": "display_data"
    },
    {
     "data": {
      "text/plain": [
       "'B'"
      ]
     },
     "metadata": {},
     "output_type": "display_data"
    },
    {
     "data": {
      "text/plain": [
       "['F', 'E', 'C', 'C', 'C', 'C', 'C', 'B']"
      ]
     },
     "metadata": {},
     "output_type": "display_data"
    },
    {
     "data": {
      "text/plain": [
       "'D'"
      ]
     },
     "metadata": {},
     "output_type": "display_data"
    },
    {
     "data": {
      "text/plain": [
       "'A#'"
      ]
     },
     "metadata": {},
     "output_type": "display_data"
    },
    {
     "data": {
      "text/plain": [
       "['E', 'C', 'C', 'C', 'C', 'C', 'B', 'A#']"
      ]
     },
     "metadata": {},
     "output_type": "display_data"
    },
    {
     "data": {
      "text/plain": [
       "'D'"
      ]
     },
     "metadata": {},
     "output_type": "display_data"
    },
    {
     "data": {
      "text/plain": [
       "'A'"
      ]
     },
     "metadata": {},
     "output_type": "display_data"
    },
    {
     "data": {
      "text/plain": [
       "['C', 'C', 'C', 'C', 'C', 'B', 'A#', 'A']"
      ]
     },
     "metadata": {},
     "output_type": "display_data"
    },
    {
     "data": {
      "text/plain": [
       "'C'"
      ]
     },
     "metadata": {},
     "output_type": "display_data"
    },
    {
     "data": {
      "text/plain": [
       "'C'"
      ]
     },
     "metadata": {},
     "output_type": "display_data"
    },
    {
     "data": {
      "text/plain": [
       "['C', 'C', 'C', 'C', 'B', 'A#', 'A', 'C']"
      ]
     },
     "metadata": {},
     "output_type": "display_data"
    },
    {
     "data": {
      "text/plain": [
       "'G'"
      ]
     },
     "metadata": {},
     "output_type": "display_data"
    },
    {
     "data": {
      "text/plain": [
       "'C'"
      ]
     },
     "metadata": {},
     "output_type": "display_data"
    },
    {
     "data": {
      "text/plain": [
       "['C', 'C', 'C', 'B', 'A#', 'A', 'C', 'C']"
      ]
     },
     "metadata": {},
     "output_type": "display_data"
    },
    {
     "data": {
      "text/plain": [
       "'G'"
      ]
     },
     "metadata": {},
     "output_type": "display_data"
    },
    {
     "data": {
      "text/plain": [
       "'C'"
      ]
     },
     "metadata": {},
     "output_type": "display_data"
    },
    {
     "data": {
      "text/plain": [
       "['C', 'C', 'B', 'A#', 'A', 'C', 'C', 'C']"
      ]
     },
     "metadata": {},
     "output_type": "display_data"
    },
    {
     "data": {
      "text/plain": [
       "'G'"
      ]
     },
     "metadata": {},
     "output_type": "display_data"
    },
    {
     "data": {
      "text/plain": [
       "'D'"
      ]
     },
     "metadata": {},
     "output_type": "display_data"
    },
    {
     "data": {
      "text/plain": [
       "['C', 'B', 'A#', 'A', 'C', 'C', 'C', 'D']"
      ]
     },
     "metadata": {},
     "output_type": "display_data"
    },
    {
     "data": {
      "text/plain": [
       "'G'"
      ]
     },
     "metadata": {},
     "output_type": "display_data"
    },
    {
     "data": {
      "text/plain": [
       "'C#'"
      ]
     },
     "metadata": {},
     "output_type": "display_data"
    },
    {
     "data": {
      "text/plain": [
       "['B', 'A#', 'A', 'C', 'C', 'C', 'D', 'C#']"
      ]
     },
     "metadata": {},
     "output_type": "display_data"
    },
    {
     "data": {
      "text/plain": [
       "'G'"
      ]
     },
     "metadata": {},
     "output_type": "display_data"
    },
    {
     "data": {
      "text/plain": [
       "'C'"
      ]
     },
     "metadata": {},
     "output_type": "display_data"
    },
    {
     "data": {
      "text/plain": [
       "['A#', 'A', 'C', 'C', 'C', 'D', 'C#', 'C']"
      ]
     },
     "metadata": {},
     "output_type": "display_data"
    },
    {
     "data": {
      "text/plain": [
       "'G'"
      ]
     },
     "metadata": {},
     "output_type": "display_data"
    },
    {
     "data": {
      "text/plain": [
       "'B'"
      ]
     },
     "metadata": {},
     "output_type": "display_data"
    },
    {
     "data": {
      "text/plain": [
       "['A', 'C', 'C', 'C', 'D', 'C#', 'C', 'B']"
      ]
     },
     "metadata": {},
     "output_type": "display_data"
    },
    {
     "data": {
      "text/plain": [
       "'F'"
      ]
     },
     "metadata": {},
     "output_type": "display_data"
    },
    {
     "data": {
      "text/plain": [
       "'E'"
      ]
     },
     "metadata": {},
     "output_type": "display_data"
    },
    {
     "data": {
      "text/plain": [
       "['C', 'C', 'C', 'D', 'C#', 'C', 'B', 'E']"
      ]
     },
     "metadata": {},
     "output_type": "display_data"
    },
    {
     "data": {
      "text/plain": [
       "'G'"
      ]
     },
     "metadata": {},
     "output_type": "display_data"
    },
    {
     "data": {
      "text/plain": [
       "'F'"
      ]
     },
     "metadata": {},
     "output_type": "display_data"
    },
    {
     "data": {
      "text/plain": [
       "['C', 'C', 'D', 'C#', 'C', 'B', 'E', 'F']"
      ]
     },
     "metadata": {},
     "output_type": "display_data"
    },
    {
     "data": {
      "text/plain": [
       "'E'"
      ]
     },
     "metadata": {},
     "output_type": "display_data"
    },
    {
     "data": {
      "text/plain": [
       "'E'"
      ]
     },
     "metadata": {},
     "output_type": "display_data"
    },
    {
     "data": {
      "text/plain": [
       "['C', 'D', 'C#', 'C', 'B', 'E', 'F', 'E']"
      ]
     },
     "metadata": {},
     "output_type": "display_data"
    },
    {
     "data": {
      "text/plain": [
       "'E'"
      ]
     },
     "metadata": {},
     "output_type": "display_data"
    },
    {
     "data": {
      "text/plain": [
       "'G'"
      ]
     },
     "metadata": {},
     "output_type": "display_data"
    },
    {
     "data": {
      "text/plain": [
       "['D', 'C#', 'C', 'B', 'E', 'F', 'E', 'G']"
      ]
     },
     "metadata": {},
     "output_type": "display_data"
    },
    {
     "data": {
      "text/plain": [
       "'C'"
      ]
     },
     "metadata": {},
     "output_type": "display_data"
    },
    {
     "data": {
      "text/plain": [
       "'C'"
      ]
     },
     "metadata": {},
     "output_type": "display_data"
    },
    {
     "data": {
      "text/plain": [
       "['C#', 'C', 'B', 'E', 'F', 'E', 'G', 'C']"
      ]
     },
     "metadata": {},
     "output_type": "display_data"
    },
    {
     "data": {
      "text/plain": [
       "'D#'"
      ]
     },
     "metadata": {},
     "output_type": "display_data"
    },
    {
     "data": {
      "text/plain": [
       "'D#'"
      ]
     },
     "metadata": {},
     "output_type": "display_data"
    },
    {
     "data": {
      "text/plain": [
       "['C', 'B', 'E', 'F', 'E', 'G', 'C', 'D#']"
      ]
     },
     "metadata": {},
     "output_type": "display_data"
    },
    {
     "data": {
      "text/plain": [
       "'F'"
      ]
     },
     "metadata": {},
     "output_type": "display_data"
    },
    {
     "data": {
      "text/plain": [
       "'F'"
      ]
     },
     "metadata": {},
     "output_type": "display_data"
    }
   ],
   "source": [
    "for i in range(test_data.shape[0]):\n",
    "    sample = test_data[i]\n",
    "\n",
    "    display([getPitch(note) for note in np.argmax(sample[:,MELODY:MELODY+12],1)])\n",
    "\n",
    "    display(getPitch(np.argmax(model.predict(np.expand_dims(sample,0)))))\n",
    "    display(getPitch(test_labels[i][0]))"
   ]
  },
  {
   "cell_type": "code",
   "execution_count": null,
   "metadata": {},
   "outputs": [],
   "source": []
  },
  {
   "cell_type": "code",
   "execution_count": 0,
   "metadata": {
    "colab": {},
    "colab_type": "code",
    "id": "oj4IpyEaNX8x"
   },
   "outputs": [],
   "source": []
  },
  {
   "cell_type": "markdown",
   "metadata": {},
   "source": [
    "# Test Unfixed N"
   ]
  },
  {
   "cell_type": "code",
   "execution_count": 29,
   "metadata": {},
   "outputs": [
    {
     "data": {
      "text/plain": [
       "(4, 73)"
      ]
     },
     "execution_count": 29,
     "metadata": {},
     "output_type": "execute_result"
    }
   ],
   "source": [
    "train_data[0][:4].shape"
   ]
  },
  {
   "cell_type": "code",
   "execution_count": 44,
   "metadata": {
    "scrolled": true
   },
   "outputs": [
    {
     "data": {
      "text/plain": [
       "array([[3.41965484e-11, 1.29657582e-08, 5.56620305e-10, 5.50649595e-11,\n",
       "        3.07448744e-07, 2.88764734e-10, 4.10492795e-09, 1.45150270e-09,\n",
       "        3.65896028e-07, 1.51679998e-07, 1.89243690e-06, 2.08104240e-07,\n",
       "        2.89276777e-05, 9.97968376e-01, 5.70341605e-08, 2.09115979e-06,\n",
       "        1.97773357e-03, 1.01836781e-06, 1.18101589e-05, 2.70430832e-07,\n",
       "        1.22694019e-06, 1.12896082e-07, 1.80196533e-08, 3.22748335e-08,\n",
       "        5.48961054e-08, 4.65387393e-06, 1.77830112e-11, 1.45044754e-10,\n",
       "        9.75963275e-08, 6.19419967e-12, 1.03037676e-10, 6.52981558e-11,\n",
       "        1.01187432e-07, 1.24408359e-10, 2.32528095e-08, 9.09703757e-10,\n",
       "        4.65397818e-07]], dtype=float32)"
      ]
     },
     "execution_count": 44,
     "metadata": {},
     "output_type": "execute_result"
    }
   ],
   "source": [
    "model.predict(np.expand_dims(train_data[0],0))"
   ]
  },
  {
   "cell_type": "code",
   "execution_count": 49,
   "metadata": {
    "scrolled": true
   },
   "outputs": [
    {
     "data": {
      "text/plain": [
       "<tensorflow.python.keras.layers.recurrent.LSTM at 0x13928ee10>"
      ]
     },
     "execution_count": 49,
     "metadata": {},
     "output_type": "execute_result"
    }
   ],
   "source": [
    "model.layers[-3]"
   ]
  },
  {
   "cell_type": "code",
   "execution_count": 50,
   "metadata": {},
   "outputs": [
    {
     "name": "stderr",
     "output_type": "stream",
     "text": [
      "Using TensorFlow backend.\n"
     ]
    },
    {
     "ename": "AttributeError",
     "evalue": "'Tensor' object has no attribute '_keras_shape'",
     "output_type": "error",
     "traceback": [
      "\u001b[0;31m---------------------------------------------------------------------------\u001b[0m",
      "\u001b[0;31mAttributeError\u001b[0m                            Traceback (most recent call last)",
      "\u001b[0;32m<ipython-input-50-340d540fd8d0>\u001b[0m in \u001b[0;36m<module>\u001b[0;34m\u001b[0m\n\u001b[1;32m      3\u001b[0m \u001b[0mlayer_name\u001b[0m \u001b[0;34m=\u001b[0m \u001b[0;34m'my_layer'\u001b[0m\u001b[0;34m\u001b[0m\u001b[0;34m\u001b[0m\u001b[0m\n\u001b[1;32m      4\u001b[0m intermediate_layer_model = Model(inputs=model.input,\n\u001b[0;32m----> 5\u001b[0;31m                                  outputs=model.layers[-3].output)\n\u001b[0m\u001b[1;32m      6\u001b[0m \u001b[0mintermediate_output\u001b[0m \u001b[0;34m=\u001b[0m \u001b[0mintermediate_layer_model\u001b[0m\u001b[0;34m.\u001b[0m\u001b[0mpredict\u001b[0m\u001b[0;34m(\u001b[0m\u001b[0mnp\u001b[0m\u001b[0;34m.\u001b[0m\u001b[0mexpand_dims\u001b[0m\u001b[0;34m(\u001b[0m\u001b[0mtrain_data\u001b[0m\u001b[0;34m[\u001b[0m\u001b[0;36m0\u001b[0m\u001b[0;34m]\u001b[0m\u001b[0;34m,\u001b[0m\u001b[0;36m0\u001b[0m\u001b[0;34m)\u001b[0m\u001b[0;34m)\u001b[0m\u001b[0;34m\u001b[0m\u001b[0;34m\u001b[0m\u001b[0m\n",
      "\u001b[0;32m/Library/Frameworks/Python.framework/Versions/3.6/lib/python3.6/site-packages/keras/legacy/interfaces.py\u001b[0m in \u001b[0;36mwrapper\u001b[0;34m(*args, **kwargs)\u001b[0m\n\u001b[1;32m     89\u001b[0m                 warnings.warn('Update your `' + object_name + '` call to the ' +\n\u001b[1;32m     90\u001b[0m                               'Keras 2 API: ' + signature, stacklevel=2)\n\u001b[0;32m---> 91\u001b[0;31m             \u001b[0;32mreturn\u001b[0m \u001b[0mfunc\u001b[0m\u001b[0;34m(\u001b[0m\u001b[0;34m*\u001b[0m\u001b[0margs\u001b[0m\u001b[0;34m,\u001b[0m \u001b[0;34m**\u001b[0m\u001b[0mkwargs\u001b[0m\u001b[0;34m)\u001b[0m\u001b[0;34m\u001b[0m\u001b[0;34m\u001b[0m\u001b[0m\n\u001b[0m\u001b[1;32m     92\u001b[0m         \u001b[0mwrapper\u001b[0m\u001b[0;34m.\u001b[0m\u001b[0m_original_function\u001b[0m \u001b[0;34m=\u001b[0m \u001b[0mfunc\u001b[0m\u001b[0;34m\u001b[0m\u001b[0;34m\u001b[0m\u001b[0m\n\u001b[1;32m     93\u001b[0m         \u001b[0;32mreturn\u001b[0m \u001b[0mwrapper\u001b[0m\u001b[0;34m\u001b[0m\u001b[0;34m\u001b[0m\u001b[0m\n",
      "\u001b[0;32m/Library/Frameworks/Python.framework/Versions/3.6/lib/python3.6/site-packages/keras/engine/network.py\u001b[0m in \u001b[0;36m__init__\u001b[0;34m(self, *args, **kwargs)\u001b[0m\n\u001b[1;32m     91\u001b[0m                 'inputs' in kwargs and 'outputs' in kwargs):\n\u001b[1;32m     92\u001b[0m             \u001b[0;31m# Graph network\u001b[0m\u001b[0;34m\u001b[0m\u001b[0;34m\u001b[0m\u001b[0;34m\u001b[0m\u001b[0m\n\u001b[0;32m---> 93\u001b[0;31m             \u001b[0mself\u001b[0m\u001b[0;34m.\u001b[0m\u001b[0m_init_graph_network\u001b[0m\u001b[0;34m(\u001b[0m\u001b[0;34m*\u001b[0m\u001b[0margs\u001b[0m\u001b[0;34m,\u001b[0m \u001b[0;34m**\u001b[0m\u001b[0mkwargs\u001b[0m\u001b[0;34m)\u001b[0m\u001b[0;34m\u001b[0m\u001b[0;34m\u001b[0m\u001b[0m\n\u001b[0m\u001b[1;32m     94\u001b[0m         \u001b[0;32melse\u001b[0m\u001b[0;34m:\u001b[0m\u001b[0;34m\u001b[0m\u001b[0;34m\u001b[0m\u001b[0m\n\u001b[1;32m     95\u001b[0m             \u001b[0;31m# Subclassed network\u001b[0m\u001b[0;34m\u001b[0m\u001b[0;34m\u001b[0m\u001b[0;34m\u001b[0m\u001b[0m\n",
      "\u001b[0;32m/Library/Frameworks/Python.framework/Versions/3.6/lib/python3.6/site-packages/keras/engine/network.py\u001b[0m in \u001b[0;36m_init_graph_network\u001b[0;34m(self, inputs, outputs, name)\u001b[0m\n\u001b[1;32m    245\u001b[0m              \u001b[0minput_masks\u001b[0m\u001b[0;34m=\u001b[0m\u001b[0;34m[\u001b[0m\u001b[0;32mNone\u001b[0m \u001b[0;32mfor\u001b[0m \u001b[0m_\u001b[0m \u001b[0;32min\u001b[0m \u001b[0mself\u001b[0m\u001b[0;34m.\u001b[0m\u001b[0minputs\u001b[0m\u001b[0;34m]\u001b[0m\u001b[0;34m,\u001b[0m\u001b[0;34m\u001b[0m\u001b[0;34m\u001b[0m\u001b[0m\n\u001b[1;32m    246\u001b[0m              \u001b[0moutput_masks\u001b[0m\u001b[0;34m=\u001b[0m\u001b[0;34m[\u001b[0m\u001b[0;32mNone\u001b[0m \u001b[0;32mfor\u001b[0m \u001b[0m_\u001b[0m \u001b[0;32min\u001b[0m \u001b[0mself\u001b[0m\u001b[0;34m.\u001b[0m\u001b[0moutputs\u001b[0m\u001b[0;34m]\u001b[0m\u001b[0;34m,\u001b[0m\u001b[0;34m\u001b[0m\u001b[0;34m\u001b[0m\u001b[0m\n\u001b[0;32m--> 247\u001b[0;31m              \u001b[0minput_shapes\u001b[0m\u001b[0;34m=\u001b[0m\u001b[0;34m[\u001b[0m\u001b[0mx\u001b[0m\u001b[0;34m.\u001b[0m\u001b[0m_keras_shape\u001b[0m \u001b[0;32mfor\u001b[0m \u001b[0mx\u001b[0m \u001b[0;32min\u001b[0m \u001b[0mself\u001b[0m\u001b[0;34m.\u001b[0m\u001b[0minputs\u001b[0m\u001b[0;34m]\u001b[0m\u001b[0;34m,\u001b[0m\u001b[0;34m\u001b[0m\u001b[0;34m\u001b[0m\u001b[0m\n\u001b[0m\u001b[1;32m    248\u001b[0m              output_shapes=[x._keras_shape for x in self.outputs])\n\u001b[1;32m    249\u001b[0m \u001b[0;34m\u001b[0m\u001b[0m\n",
      "\u001b[0;32m/Library/Frameworks/Python.framework/Versions/3.6/lib/python3.6/site-packages/keras/engine/network.py\u001b[0m in \u001b[0;36m<listcomp>\u001b[0;34m(.0)\u001b[0m\n\u001b[1;32m    245\u001b[0m              \u001b[0minput_masks\u001b[0m\u001b[0;34m=\u001b[0m\u001b[0;34m[\u001b[0m\u001b[0;32mNone\u001b[0m \u001b[0;32mfor\u001b[0m \u001b[0m_\u001b[0m \u001b[0;32min\u001b[0m \u001b[0mself\u001b[0m\u001b[0;34m.\u001b[0m\u001b[0minputs\u001b[0m\u001b[0;34m]\u001b[0m\u001b[0;34m,\u001b[0m\u001b[0;34m\u001b[0m\u001b[0;34m\u001b[0m\u001b[0m\n\u001b[1;32m    246\u001b[0m              \u001b[0moutput_masks\u001b[0m\u001b[0;34m=\u001b[0m\u001b[0;34m[\u001b[0m\u001b[0;32mNone\u001b[0m \u001b[0;32mfor\u001b[0m \u001b[0m_\u001b[0m \u001b[0;32min\u001b[0m \u001b[0mself\u001b[0m\u001b[0;34m.\u001b[0m\u001b[0moutputs\u001b[0m\u001b[0;34m]\u001b[0m\u001b[0;34m,\u001b[0m\u001b[0;34m\u001b[0m\u001b[0;34m\u001b[0m\u001b[0m\n\u001b[0;32m--> 247\u001b[0;31m              \u001b[0minput_shapes\u001b[0m\u001b[0;34m=\u001b[0m\u001b[0;34m[\u001b[0m\u001b[0mx\u001b[0m\u001b[0;34m.\u001b[0m\u001b[0m_keras_shape\u001b[0m \u001b[0;32mfor\u001b[0m \u001b[0mx\u001b[0m \u001b[0;32min\u001b[0m \u001b[0mself\u001b[0m\u001b[0;34m.\u001b[0m\u001b[0minputs\u001b[0m\u001b[0;34m]\u001b[0m\u001b[0;34m,\u001b[0m\u001b[0;34m\u001b[0m\u001b[0;34m\u001b[0m\u001b[0m\n\u001b[0m\u001b[1;32m    248\u001b[0m              output_shapes=[x._keras_shape for x in self.outputs])\n\u001b[1;32m    249\u001b[0m \u001b[0;34m\u001b[0m\u001b[0m\n",
      "\u001b[0;31mAttributeError\u001b[0m: 'Tensor' object has no attribute '_keras_shape'"
     ]
    }
   ],
   "source": [
    "from keras.models import Model\n",
    "\n",
    "layer_name = 'my_layer'\n",
    "intermediate_layer_model = Model(inputs=model.input,\n",
    "                                 outputs=model.layers[-3].output)\n",
    "intermediate_output = intermediate_layer_model.predict(np.expand_dims(train_data[0],0))"
   ]
  },
  {
   "cell_type": "code",
   "execution_count": null,
   "metadata": {},
   "outputs": [],
   "source": []
  },
  {
   "cell_type": "code",
   "execution_count": null,
   "metadata": {},
   "outputs": [],
   "source": []
  },
  {
   "cell_type": "markdown",
   "metadata": {
    "colab_type": "text",
    "id": "iv-3x-0yNX8z"
   },
   "source": [
    "# Test Framework"
   ]
  },
  {
   "cell_type": "markdown",
   "metadata": {
    "colab_type": "text",
    "id": "iyK7IZAXDrnX"
   },
   "source": [
    "## Test A: TradeFour"
   ]
  },
  {
   "cell_type": "code",
   "execution_count": 49,
   "metadata": {
    "colab": {},
    "colab_type": "code",
    "id": "56ENduBtDrnX"
   },
   "outputs": [],
   "source": [
    "# read test midi file, ignore labels and get output from network\n",
    "# simply read midi here to see how it sounds + plot (by creating midi file with input midi and prediction from network)\n",
    "\n",
    "def writeMidi(notes, times, file, originalfile, tempo=120, resolution=12):\n",
    "    pm = pretty_midi.PrettyMIDI(resolution=resolution, initial_tempo=tempo)\n",
    "    pminst = pretty_midi.Instrument(program=0)\n",
    "    currtime = 0\n",
    "    for i, note in enumerate(notes):\n",
    "        if note != MELODY-1:\n",
    "            pitch = note+LOW\n",
    "            start = pm.tick_to_time(int(currtime))\n",
    "            end = pm.tick_to_time(int(currtime+times[i]))\n",
    "            if end > start:\n",
    "                pmnote = pretty_midi.Note(velocity=100, pitch = pitch, start=start, end=end)\n",
    "                pminst.notes.append(pmnote)\n",
    "        currtime += times[i]+1\n",
    "    pm.instruments.append(pminst)\n",
    "    \n",
    "    #get original chords from file\n",
    "    ogpm = pretty_midi.PrettyMIDI(originalfile)\n",
    "    originalchords = pretty_midi.Instrument(program=0)\n",
    "    originalnotes = getMelodyAndHarmonyBass(originalfile)['harmony']\n",
    "    for i, note in enumerate(originalnotes):\n",
    "        old = ogpm.time_to_tick(note.start)\n",
    "        start = pm.tick_to_time(int(ogpm.time_to_tick(note.start)/ogpm.resolution*pm.resolution))\n",
    "        end = pm.tick_to_time(int(ogpm.time_to_tick(note.end)/ogpm.resolution*pm.resolution))\n",
    "        originalchords.notes.append(pretty_midi.Note(velocity=50, pitch=note.pitch, start=start, end=end))\n",
    "    pm.instruments.append(originalchords)\n",
    "\n",
    "    pm.write(file)\n",
    "    return pm\n",
    "\n",
    "    \n",
    "def tradeFour(processedMidi):\n",
    "    notes, times, chords, chordsByBeat, key = processedMidi\n",
    "    predicted_notes, predicted_durations = [], []\n",
    "    mel_len=16+1 # wegen nextChord\n",
    "\n",
    "    notesnew = np.array(notes[-mel_len:])\n",
    "    timesnew = np.array(times[-mel_len:])\n",
    "    chordsnew = np.array(chords[-mel_len:])\n",
    "\n",
    "    currentbeat = 0\n",
    "    currenttime = 0\n",
    "    while sum(predicted_durations) < 4*TIMES:\n",
    "        processedMidi = notesnew, timesnew, chordsnew, chordsByBeat, key\n",
    "        feat = getFeatureVectors(processedMidi)\n",
    "        feat = tf.expand_dims(feat,0)\n",
    "        \n",
    "        pitch, duration = model(feat)\n",
    "\n",
    "        pred_pitch = tf.math.argmax(pitch, 1).numpy()[0]\n",
    "        pred_duration = tf.math.argmax(duration, 1).numpy()[0]\n",
    "\n",
    "        predicted_notes.append(pred_pitch)\n",
    "        predicted_durations.append(pred_duration)\n",
    "        notesnew = np.append(notesnew[1:], pred_pitch)\n",
    "        timesnew = np.append(timesnew[1:], pred_duration)\n",
    "        \n",
    "        if int(currenttime/12) > currentbeat:\n",
    "            newchord = chordsByBeat[int(currenttime/12)]\n",
    "            chordsnew = np.append(chordsnew[1:], newchord)\n",
    "        currenttime += pred_duration\n",
    "        currentbeat += int(currenttime/12)\n",
    "        \n",
    "        print(predicted_durations)\n",
    "        \n",
    "    notes = np.append(notes, np.array(predicted_notes))\n",
    "    times = np.append(times, np.array(predicted_durations))\n",
    "\n",
    "    return notes, times\n",
    "    \n",
    "def plotTradeFour(file):\n",
    "    processedMidi = processMidi(file)\n",
    "    \n",
    "    t = time.time()\n",
    "    notes, times = tradeFour(processedMidi)\n",
    "    print(time.time() - t,'s')\n",
    "    \n",
    "    # plotWithAudio\n",
    "    pm = writeMidi(notes, times, 'old_notebooks/treval/newtest.mid', file)\n",
    "    plt.figure(figsize=(8, 4))\n",
    "    plot_piano_roll(pm, LOW, HIGH)\n",
    "    display(IPython.display.Audio(pm.synthesize(fs=44000), rate=44000))   \n",
    "    "
   ]
  },
  {
   "cell_type": "code",
   "execution_count": 51,
   "metadata": {
    "colab": {
     "base_uri": "https://localhost:8080/",
     "height": 596
    },
    "colab_type": "code",
    "id": "jitsFsWbDrna",
    "outputId": "5f452100-38d5-49d8-83e3-b67aa01c25e0",
    "scrolled": false
   },
   "outputs": [
    {
     "ename": "FileNotFoundError",
     "evalue": "[Errno 2] No such file or directory: 'datasets/trainData/chords/test/testlmd.mid'",
     "output_type": "error",
     "traceback": [
      "\u001b[0;31m---------------------------------------------------------------------------\u001b[0m",
      "\u001b[0;31mFileNotFoundError\u001b[0m                         Traceback (most recent call last)",
      "\u001b[0;32m<ipython-input-51-eb0164d6aa66>\u001b[0m in \u001b[0;36m<module>\u001b[0;34m\u001b[0m\n\u001b[0;32m----> 1\u001b[0;31m \u001b[0mplotTradeFour\u001b[0m\u001b[0;34m(\u001b[0m\u001b[0;34m'test/testlmd.mid'\u001b[0m\u001b[0;34m)\u001b[0m\u001b[0;34m\u001b[0m\u001b[0;34m\u001b[0m\u001b[0m\n\u001b[0m",
      "\u001b[0;32m<ipython-input-49-0b83dd5815cf>\u001b[0m in \u001b[0;36mplotTradeFour\u001b[0;34m(file)\u001b[0m\n\u001b[1;32m     72\u001b[0m \u001b[0;34m\u001b[0m\u001b[0m\n\u001b[1;32m     73\u001b[0m \u001b[0;32mdef\u001b[0m \u001b[0mplotTradeFour\u001b[0m\u001b[0;34m(\u001b[0m\u001b[0mfile\u001b[0m\u001b[0;34m)\u001b[0m\u001b[0;34m:\u001b[0m\u001b[0;34m\u001b[0m\u001b[0;34m\u001b[0m\u001b[0m\n\u001b[0;32m---> 74\u001b[0;31m     \u001b[0mprocessedMidi\u001b[0m \u001b[0;34m=\u001b[0m \u001b[0mprocessMidi\u001b[0m\u001b[0;34m(\u001b[0m\u001b[0mfile\u001b[0m\u001b[0;34m)\u001b[0m\u001b[0;34m\u001b[0m\u001b[0;34m\u001b[0m\u001b[0m\n\u001b[0m\u001b[1;32m     75\u001b[0m \u001b[0;34m\u001b[0m\u001b[0m\n\u001b[1;32m     76\u001b[0m     \u001b[0mt\u001b[0m \u001b[0;34m=\u001b[0m \u001b[0mtime\u001b[0m\u001b[0;34m.\u001b[0m\u001b[0mtime\u001b[0m\u001b[0;34m(\u001b[0m\u001b[0;34m)\u001b[0m\u001b[0;34m\u001b[0m\u001b[0;34m\u001b[0m\u001b[0m\n",
      "\u001b[0;32m<ipython-input-6-17304bf598df>\u001b[0m in \u001b[0;36mprocessMidi\u001b[0;34m(file)\u001b[0m\n\u001b[1;32m     93\u001b[0m \u001b[0;34m\u001b[0m\u001b[0m\n\u001b[1;32m     94\u001b[0m \u001b[0;32mdef\u001b[0m \u001b[0mprocessMidi\u001b[0m\u001b[0;34m(\u001b[0m\u001b[0mfile\u001b[0m\u001b[0;34m)\u001b[0m\u001b[0;34m:\u001b[0m\u001b[0;34m\u001b[0m\u001b[0;34m\u001b[0m\u001b[0m\n\u001b[0;32m---> 95\u001b[0;31m     \u001b[0mpm\u001b[0m \u001b[0;34m=\u001b[0m \u001b[0mpretty_midi\u001b[0m\u001b[0;34m.\u001b[0m\u001b[0mPrettyMIDI\u001b[0m\u001b[0;34m(\u001b[0m\u001b[0mfolder\u001b[0m\u001b[0;34m+\u001b[0m\u001b[0;34m'chords/'\u001b[0m\u001b[0;34m+\u001b[0m\u001b[0mfile\u001b[0m\u001b[0;34m)\u001b[0m\u001b[0;34m\u001b[0m\u001b[0;34m\u001b[0m\u001b[0m\n\u001b[0m\u001b[1;32m     96\u001b[0m     \u001b[0;31m#tracks = getMelodyAndHarmony(file)\u001b[0m\u001b[0;34m\u001b[0m\u001b[0;34m\u001b[0m\u001b[0;34m\u001b[0m\u001b[0m\n\u001b[1;32m     97\u001b[0m     \u001b[0;31m#tracks = getMelodyAndHarmonyBass(file) //changing, this doesnt work anymore -> DACBass\u001b[0m\u001b[0;34m\u001b[0m\u001b[0;34m\u001b[0m\u001b[0;34m\u001b[0m\u001b[0m\n",
      "\u001b[0;32m/Library/Frameworks/Python.framework/Versions/3.6/lib/python3.6/site-packages/pretty_midi/pretty_midi.py\u001b[0m in \u001b[0;36m__init__\u001b[0;34m(self, midi_file, resolution, initial_tempo)\u001b[0m\n\u001b[1;32m     57\u001b[0m             \u001b[0;32mif\u001b[0m \u001b[0misinstance\u001b[0m\u001b[0;34m(\u001b[0m\u001b[0mmidi_file\u001b[0m\u001b[0;34m,\u001b[0m \u001b[0msix\u001b[0m\u001b[0;34m.\u001b[0m\u001b[0mstring_types\u001b[0m\u001b[0;34m)\u001b[0m\u001b[0;34m:\u001b[0m\u001b[0;34m\u001b[0m\u001b[0;34m\u001b[0m\u001b[0m\n\u001b[1;32m     58\u001b[0m                 \u001b[0;31m# If a string was given, pass it as the string filename\u001b[0m\u001b[0;34m\u001b[0m\u001b[0;34m\u001b[0m\u001b[0;34m\u001b[0m\u001b[0m\n\u001b[0;32m---> 59\u001b[0;31m                 \u001b[0mmidi_data\u001b[0m \u001b[0;34m=\u001b[0m \u001b[0mmido\u001b[0m\u001b[0;34m.\u001b[0m\u001b[0mMidiFile\u001b[0m\u001b[0;34m(\u001b[0m\u001b[0mfilename\u001b[0m\u001b[0;34m=\u001b[0m\u001b[0mmidi_file\u001b[0m\u001b[0;34m)\u001b[0m\u001b[0;34m\u001b[0m\u001b[0;34m\u001b[0m\u001b[0m\n\u001b[0m\u001b[1;32m     60\u001b[0m             \u001b[0;32melse\u001b[0m\u001b[0;34m:\u001b[0m\u001b[0;34m\u001b[0m\u001b[0;34m\u001b[0m\u001b[0m\n\u001b[1;32m     61\u001b[0m                 \u001b[0;31m# Otherwise, try passing it in as a file pointer\u001b[0m\u001b[0;34m\u001b[0m\u001b[0;34m\u001b[0m\u001b[0;34m\u001b[0m\u001b[0m\n",
      "\u001b[0;32m/Library/Frameworks/Python.framework/Versions/3.6/lib/python3.6/site-packages/mido/midifiles/midifiles.py\u001b[0m in \u001b[0;36m__init__\u001b[0;34m(self, filename, file, type, ticks_per_beat, charset, debug, clip)\u001b[0m\n\u001b[1;32m    313\u001b[0m             \u001b[0mself\u001b[0m\u001b[0;34m.\u001b[0m\u001b[0m_load\u001b[0m\u001b[0;34m(\u001b[0m\u001b[0mfile\u001b[0m\u001b[0;34m)\u001b[0m\u001b[0;34m\u001b[0m\u001b[0;34m\u001b[0m\u001b[0m\n\u001b[1;32m    314\u001b[0m         \u001b[0;32melif\u001b[0m \u001b[0mself\u001b[0m\u001b[0;34m.\u001b[0m\u001b[0mfilename\u001b[0m \u001b[0;32mis\u001b[0m \u001b[0;32mnot\u001b[0m \u001b[0;32mNone\u001b[0m\u001b[0;34m:\u001b[0m\u001b[0;34m\u001b[0m\u001b[0;34m\u001b[0m\u001b[0m\n\u001b[0;32m--> 315\u001b[0;31m             \u001b[0;32mwith\u001b[0m \u001b[0mio\u001b[0m\u001b[0;34m.\u001b[0m\u001b[0mopen\u001b[0m\u001b[0;34m(\u001b[0m\u001b[0mfilename\u001b[0m\u001b[0;34m,\u001b[0m \u001b[0;34m'rb'\u001b[0m\u001b[0;34m)\u001b[0m \u001b[0;32mas\u001b[0m \u001b[0mfile\u001b[0m\u001b[0;34m:\u001b[0m\u001b[0;34m\u001b[0m\u001b[0;34m\u001b[0m\u001b[0m\n\u001b[0m\u001b[1;32m    316\u001b[0m                 \u001b[0mself\u001b[0m\u001b[0;34m.\u001b[0m\u001b[0m_load\u001b[0m\u001b[0;34m(\u001b[0m\u001b[0mfile\u001b[0m\u001b[0;34m)\u001b[0m\u001b[0;34m\u001b[0m\u001b[0;34m\u001b[0m\u001b[0m\n\u001b[1;32m    317\u001b[0m \u001b[0;34m\u001b[0m\u001b[0m\n",
      "\u001b[0;31mFileNotFoundError\u001b[0m: [Errno 2] No such file or directory: 'datasets/trainData/chords/test/testlmd.mid'"
     ]
    }
   ],
   "source": [
    "plotTradeFour('test/testlmd.mid')"
   ]
  },
  {
   "cell_type": "markdown",
   "metadata": {
    "colab_type": "text",
    "id": "1z8g4E6UDrnj"
   },
   "source": [
    "## Test B: Overfitting"
   ]
  },
  {
   "cell_type": "code",
   "execution_count": 0,
   "metadata": {
    "colab": {},
    "colab_type": "code",
    "id": "c_NTDPAtDrnk"
   },
   "outputs": [],
   "source": [
    "# test how much % model can learn a melody\n",
    "\n",
    "# define test melody\n",
    "# train network\n",
    "# give percentage of how much it learnt\n",
    "\n",
    "chordsDict={\n",
    "    'C': [1,0,0,0,1,0,0,1,0,0,0,0],\n",
    "    'C7': [1,0,0,0,1,0,0,1,0,0,1,0],\n",
    "    'Cmaj7': [1,0,0,0,1,0,0,1,0,0,0,1]\n",
    "}"
   ]
  },
  {
   "cell_type": "code",
   "execution_count": 0,
   "metadata": {
    "colab": {},
    "colab_type": "code",
    "id": "q3bpvPeiDrnn",
    "outputId": "220e7428-964b-4cfc-cc61-7a60241946f8",
    "scrolled": false
   },
   "outputs": [
    {
     "data": {
      "text/plain": [
       "(15, 16, 31)"
      ]
     },
     "metadata": {
      "tags": []
     },
     "output_type": "display_data"
    },
    {
     "name": "stdout",
     "output_type": "stream",
     "text": [
      "Nr. of params: 30485\n"
     ]
    }
   ],
   "source": [
    "# test data\n",
    "notes = [0,2,4,7,7,4,2,0,0,2,4,7,7,4,2,0,0,5,3,4,5,8,7,5,0,2,4,7,7,4,2,0]\n",
    "times = np.ones(32)*8\n",
    "chord = chordsDict['C']\n",
    "chords = np.repeat(chord, 32).reshape((12,-1)).T\n",
    "encoding = True\n",
    "train_data, train_labels = getInputSequences(notes, times, chords, encoding=encoding, modulation=False, padding=False, seq_len=1)\n",
    "\n",
    "display(train_data.shape)\n",
    "batch_size = 32\n",
    "train_loader = getDataLoader(train_data, train_labels, batch_size=batch_size, shuffle=False)\n",
    "\n",
    "# test model\n",
    "model_params = {\n",
    "    'input_dim': train_data.shape[-1],\n",
    "    'hidden_dim': 64,\n",
    "    'num_layers': 1,\n",
    "    'output_dim_pitch': MELODY,\n",
    "    'output_dim_duration': TIMES,\n",
    "    'dropout': 0\n",
    "}\n",
    "\n",
    "testmodel = LSTM(**model_params)\n",
    "testmodel.to(device)"
   ]
  },
  {
   "cell_type": "code",
   "execution_count": 0,
   "metadata": {
    "colab": {},
    "colab_type": "code",
    "id": "gelE-IxbDrnq",
    "outputId": "714c3e78-b332-46d7-b07c-704a2c735345",
    "scrolled": true
   },
   "outputs": [
    {
     "name": "stdout",
     "output_type": "stream",
     "text": [
      "tensor([2, 2, 0, 2, 0, 0, 0, 0, 0, 0, 2, 2, 0, 0, 0])\n",
      "tensor([0., 5., 3., 4., 5., 8., 7., 5., 0., 2., 4., 7., 7., 4., 2.],\n",
      "       dtype=torch.float64)\n",
      "loss:  7.3719 acc_train:  6 acc_val:  6\n",
      "loss:  1.8806 acc_train:  20 acc_val:  20\n",
      "loss:  1.8009 acc_train:  26 acc_val:  26\n",
      "loss:  1.6949 acc_train:  33 acc_val:  33\n",
      "loss:  1.5203 acc_train:  53 acc_val:  53\n",
      "tensor([0, 5, 8, 4, 5, 8, 7, 5, 0, 7, 4, 7, 5, 4, 7])\n",
      "tensor([0., 5., 3., 4., 5., 8., 7., 5., 0., 2., 4., 7., 7., 4., 2.],\n",
      "       dtype=torch.float64)\n",
      "loss:  1.2851 acc_train:  73 acc_val:  73\n",
      "loss:  1.0255 acc_train:  80 acc_val:  80\n",
      "loss:  0.8072 acc_train:  86 acc_val:  86\n",
      "loss:  0.6302 acc_train:  86 acc_val:  86\n",
      "loss:  0.4656 acc_train:  93 acc_val:  93\n",
      "tensor([0, 5, 3, 4, 5, 8, 7, 5, 0, 2, 4, 7, 7, 4, 2])\n",
      "tensor([0., 5., 3., 4., 5., 8., 7., 5., 0., 2., 4., 7., 7., 4., 2.],\n",
      "       dtype=torch.float64)\n",
      "loss:  0.3227 acc_train:  100 acc_val:  100\n",
      "loss:  0.2176 acc_train:  100 acc_val:  100\n",
      "loss:  0.1449 acc_train:  100 acc_val:  100\n",
      "loss:  0.1 acc_train:  100 acc_val:  100\n",
      "loss:  0.0731 acc_train:  100 acc_val:  100\n",
      "tensor([0, 5, 3, 4, 5, 8, 7, 5, 0, 2, 4, 7, 7, 4, 2])\n",
      "tensor([0., 5., 3., 4., 5., 8., 7., 5., 0., 2., 4., 7., 7., 4., 2.],\n",
      "       dtype=torch.float64)\n",
      "loss:  0.0561 acc_train:  100 acc_val:  100\n",
      "loss:  0.0446 acc_train:  100 acc_val:  100\n",
      "loss:  0.0366 acc_train:  100 acc_val:  100\n",
      "loss:  0.0308 acc_train:  100 acc_val:  100\n",
      "loss:  0.0264 acc_train:  100 acc_val:  100\n",
      "tensor([0, 5, 3, 4, 5, 8, 7, 5, 0, 2, 4, 7, 7, 4, 2])\n",
      "tensor([0., 5., 3., 4., 5., 8., 7., 5., 0., 2., 4., 7., 7., 4., 2.],\n",
      "       dtype=torch.float64)\n",
      "loss:  0.0231 acc_train:  100 acc_val:  100\n",
      "loss:  0.0204 acc_train:  100 acc_val:  100\n",
      "loss:  0.0182 acc_train:  100 acc_val:  100\n",
      "loss:  0.0164 acc_train:  100 acc_val:  100\n",
      "loss:  0.0149 acc_train:  100 acc_val:  100\n",
      "tensor([0, 5, 3, 4, 5, 8, 7, 5, 0, 2, 4, 7, 7, 4, 2])\n",
      "tensor([0., 5., 3., 4., 5., 8., 7., 5., 0., 2., 4., 7., 7., 4., 2.],\n",
      "       dtype=torch.float64)\n",
      "loss:  0.0136 acc_train:  100 acc_val:  100\n",
      "loss:  0.0125 acc_train:  100 acc_val:  100\n",
      "loss:  0.0116 acc_train:  100 acc_val:  100\n",
      "loss:  0.0107 acc_train:  100 acc_val:  100\n",
      "loss:  0.01 acc_train:  100 acc_val:  100\n",
      "tensor([0, 5, 3, 4, 5, 8, 7, 5, 0, 2, 4, 7, 7, 4, 2])\n",
      "tensor([0., 5., 3., 4., 5., 8., 7., 5., 0., 2., 4., 7., 7., 4., 2.],\n",
      "       dtype=torch.float64)\n",
      "loss:  0.0093 acc_train:  100 acc_val:  100\n",
      "loss:  0.0087 acc_train:  100 acc_val:  100\n",
      "loss:  0.0082 acc_train:  100 acc_val:  100\n",
      "loss:  0.0077 acc_train:  100 acc_val:  100\n",
      "loss:  0.0073 acc_train:  100 acc_val:  100\n",
      "tensor([0, 5, 3, 4, 5, 8, 7, 5, 0, 2, 4, 7, 7, 4, 2])\n",
      "tensor([0., 5., 3., 4., 5., 8., 7., 5., 0., 2., 4., 7., 7., 4., 2.],\n",
      "       dtype=torch.float64)\n",
      "loss:  0.0069 acc_train:  100 acc_val:  100\n",
      "loss:  0.0066 acc_train:  100 acc_val:  100\n",
      "loss:  0.0062 acc_train:  100 acc_val:  100\n",
      "loss:  0.0059 acc_train:  100 acc_val:  100\n",
      "loss:  0.0056 acc_train:  100 acc_val:  100\n",
      "tensor([0, 5, 3, 4, 5, 8, 7, 5, 0, 2, 4, 7, 7, 4, 2])\n",
      "tensor([0., 5., 3., 4., 5., 8., 7., 5., 0., 2., 4., 7., 7., 4., 2.],\n",
      "       dtype=torch.float64)\n",
      "loss:  0.0054 acc_train:  100 acc_val:  100\n",
      "loss:  0.0052 acc_train:  100 acc_val:  100\n",
      "loss:  0.0049 acc_train:  100 acc_val:  100\n",
      "loss:  0.0047 acc_train:  100 acc_val:  100\n",
      "loss:  0.0045 acc_train:  100 acc_val:  100\n",
      "tensor([0, 5, 3, 4, 5, 8, 7, 5, 0, 2, 4, 7, 7, 4, 2])\n",
      "tensor([0., 5., 3., 4., 5., 8., 7., 5., 0., 2., 4., 7., 7., 4., 2.],\n",
      "       dtype=torch.float64)\n",
      "loss:  0.0044 acc_train:  100 acc_val:  100\n",
      "loss:  0.0042 acc_train:  100 acc_val:  100\n",
      "loss:  0.004 acc_train:  100 acc_val:  100\n",
      "loss:  0.0039 acc_train:  100 acc_val:  100\n",
      "loss:  0.0037 acc_train:  100 acc_val:  100\n",
      "tensor([0, 5, 3, 4, 5, 8, 7, 5, 0, 2, 4, 7, 7, 4, 2])\n",
      "tensor([0., 5., 3., 4., 5., 8., 7., 5., 0., 2., 4., 7., 7., 4., 2.],\n",
      "       dtype=torch.float64)\n",
      "loss:  0.0036 acc_train:  100 acc_val:  100\n",
      "loss:  0.0035 acc_train:  100 acc_val:  100\n",
      "loss:  0.0034 acc_train:  100 acc_val:  100\n",
      "loss:  0.0033 acc_train:  100 acc_val:  100\n",
      "loss:  0.0032 acc_train:  100 acc_val:  100\n",
      "tensor([0, 5, 3, 4, 5, 8, 7, 5, 0, 2, 4, 7, 7, 4, 2])\n",
      "tensor([0., 5., 3., 4., 5., 8., 7., 5., 0., 2., 4., 7., 7., 4., 2.],\n",
      "       dtype=torch.float64)\n",
      "loss:  0.0031 acc_train:  100 acc_val:  100\n",
      "loss:  0.003 acc_train:  100 acc_val:  100\n",
      "loss:  0.0029 acc_train:  100 acc_val:  100\n",
      "loss:  0.0028 acc_train:  100 acc_val:  100\n",
      "loss:  0.0027 acc_train:  100 acc_val:  100\n",
      "tensor([0, 5, 3, 4, 5, 8, 7, 5, 0, 2, 4, 7, 7, 4, 2])\n",
      "tensor([0., 5., 3., 4., 5., 8., 7., 5., 0., 2., 4., 7., 7., 4., 2.],\n",
      "       dtype=torch.float64)\n",
      "loss:  0.0026 acc_train:  100 acc_val:  100\n",
      "loss:  0.0025 acc_train:  100 acc_val:  100\n",
      "loss:  0.0025 acc_train:  100 acc_val:  100\n",
      "loss:  0.0024 acc_train:  100 acc_val:  100\n",
      "loss:  0.0023 acc_train:  100 acc_val:  100\n",
      "tensor([0, 5, 3, 4, 5, 8, 7, 5, 0, 2, 4, 7, 7, 4, 2])\n",
      "tensor([0., 5., 3., 4., 5., 8., 7., 5., 0., 2., 4., 7., 7., 4., 2.],\n",
      "       dtype=torch.float64)\n",
      "loss:  0.0023 acc_train:  100 acc_val:  100\n",
      "loss:  0.0022 acc_train:  100 acc_val:  100\n",
      "loss:  0.0022 acc_train:  100 acc_val:  100\n",
      "loss:  0.0021 acc_train:  100 acc_val:  100\n",
      "loss:  0.0021 acc_train:  100 acc_val:  100\n",
      "tensor([0, 5, 3, 4, 5, 8, 7, 5, 0, 2, 4, 7, 7, 4, 2])\n",
      "tensor([0., 5., 3., 4., 5., 8., 7., 5., 0., 2., 4., 7., 7., 4., 2.],\n",
      "       dtype=torch.float64)\n",
      "loss:  0.002 acc_train:  100 acc_val:  100\n",
      "loss:  0.002 acc_train:  100 acc_val:  100\n",
      "loss:  0.0019 acc_train:  100 acc_val:  100\n",
      "loss:  0.0019 acc_train:  100 acc_val:  100\n",
      "loss:  0.0018 acc_train:  100 acc_val:  100\n",
      "tensor([0, 5, 3, 4, 5, 8, 7, 5, 0, 2, 4, 7, 7, 4, 2])\n",
      "tensor([0., 5., 3., 4., 5., 8., 7., 5., 0., 2., 4., 7., 7., 4., 2.],\n",
      "       dtype=torch.float64)\n",
      "loss:  0.0018 acc_train:  100 acc_val:  100\n",
      "loss:  0.0017 acc_train:  100 acc_val:  100\n",
      "loss:  0.0017 acc_train:  100 acc_val:  100\n",
      "loss:  0.0017 acc_train:  100 acc_val:  100\n",
      "loss:  0.0016 acc_train:  100 acc_val:  100\n",
      "tensor([0, 5, 3, 4, 5, 8, 7, 5, 0, 2, 4, 7, 7, 4, 2])\n",
      "tensor([0., 5., 3., 4., 5., 8., 7., 5., 0., 2., 4., 7., 7., 4., 2.],\n",
      "       dtype=torch.float64)\n",
      "loss:  0.0016 acc_train:  100 acc_val:  100\n",
      "loss:  0.0016 acc_train:  100 acc_val:  100\n",
      "loss:  0.0015 acc_train:  100 acc_val:  100\n",
      "loss:  0.0015 acc_train:  100 acc_val:  100\n",
      "loss:  0.0015 acc_train:  100 acc_val:  100\n",
      "tensor([0, 5, 3, 4, 5, 8, 7, 5, 0, 2, 4, 7, 7, 4, 2])\n",
      "tensor([0., 5., 3., 4., 5., 8., 7., 5., 0., 2., 4., 7., 7., 4., 2.],\n",
      "       dtype=torch.float64)\n",
      "loss:  0.0014 acc_train:  100 acc_val:  100\n",
      "loss:  0.0014 acc_train:  100 acc_val:  100\n",
      "loss:  0.0014 acc_train:  100 acc_val:  100\n",
      "loss:  0.0013 acc_train:  100 acc_val:  100\n",
      "loss:  0.0013 acc_train:  100 acc_val:  100\n",
      "tensor([0, 5, 3, 4, 5, 8, 7, 5, 0, 2, 4, 7, 7, 4, 2])\n",
      "tensor([0., 5., 3., 4., 5., 8., 7., 5., 0., 2., 4., 7., 7., 4., 2.],\n",
      "       dtype=torch.float64)\n",
      "loss:  0.0013 acc_train:  100 acc_val:  100\n",
      "loss:  0.0013 acc_train:  100 acc_val:  100\n",
      "loss:  0.0012 acc_train:  100 acc_val:  100\n",
      "loss:  0.0012 acc_train:  100 acc_val:  100\n",
      "loss:  0.0012 acc_train:  100 acc_val:  100\n",
      "tensor([0, 5, 3, 4, 5, 8, 7, 5, 0, 2, 4, 7, 7, 4, 2])\n",
      "tensor([0., 5., 3., 4., 5., 8., 7., 5., 0., 2., 4., 7., 7., 4., 2.],\n",
      "       dtype=torch.float64)\n",
      "loss:  0.0012 acc_train:  100 acc_val:  100\n",
      "loss:  0.0012 acc_train:  100 acc_val:  100\n",
      "loss:  0.0011 acc_train:  100 acc_val:  100\n",
      "loss:  0.0011 acc_train:  100 acc_val:  100\n",
      "loss:  0.0011 acc_train:  100 acc_val:  100\n"
     ]
    },
    {
     "data": {
      "image/png": "[encoded data removed]",
      "text/plain": [
       "<Figure size 432x288 with 1 Axes>"
      ]
     },
     "metadata": {
      "needs_background": "light",
      "tags": []
     },
     "output_type": "display_data"
    }
   ],
   "source": [
    "train_params = {\n",
    "    'train_loader': train_loader,\n",
    "    'val_loader': train_loader,\n",
    "    'optim': torch.optim.Adam(testmodel.parameters(), lr=1e-2),\n",
    "    'loss_fn': torch.nn.CrossEntropyLoss(),\n",
    "    'num_epochs': 1000\n",
    "}\n",
    "train(testmodel, **train_params)"
   ]
  },
  {
   "cell_type": "code",
   "execution_count": 0,
   "metadata": {
    "colab": {},
    "colab_type": "code",
    "id": "57ym3Kx-Drnz"
   },
   "outputs": [],
   "source": []
  },
  {
   "cell_type": "code",
   "execution_count": 0,
   "metadata": {
    "colab": {},
    "colab_type": "code",
    "id": "1zPqpYyNDrn3"
   },
   "outputs": [],
   "source": [
    "## Testing Krumhansl"
   ]
  },
  {
   "cell_type": "code",
   "execution_count": 0,
   "metadata": {
    "colab": {},
    "colab_type": "code",
    "id": "fIP8bzP9Drn6"
   },
   "outputs": [],
   "source": [
    "folder = \"datasets/lmd_full/0/\"\n",
    "#files[:5]\n",
    "\n",
    "files = [file for file in os.listdir(folder) if '.mid' in file]\n",
    "pm = pretty_midi.PrettyMIDI(folder + files[2])\n",
    "pch = pm.get_pitch_class_histogram()\n",
    "\n",
    "np.argmax(ks_key(pch)[1])\n",
    "\n",
    "pm.key_signature_changes\n",
    "\n",
    "folder = \"datasets/Piano-midi.de/train/\" #0.75 ohne C mit rel\n",
    "folder = \"datasets/kpcorpus/\" \n",
    "folder = \"datasets/lmd_full/2/\"\n",
    "t = time.time()\n",
    "\n",
    "# find keys\n",
    "files = [file for file in os.listdir(folder) if '.mid' in file]\n",
    "    \n",
    "def key(key_number):\n",
    "    return pretty_midi.key_number_to_key_name(key_number)\n",
    "\n",
    "def keynr(key):\n",
    "    return pretty_midi.key_name_to_key_number(key)\n",
    "       \n",
    "def isFifth(realkey,predkey):\n",
    "    return (realkey - predkey)%12 == 7 or (predkey - realkey)%12 == 7\n",
    "        \n",
    "def isRelative(realkey,predkey):\n",
    "    if realkey > 11 and (realkey - 9) % 12 == predkey:\n",
    "        return True\n",
    "    elif predkey > 11 and (predkey - 9) % 12 == realkey:\n",
    "        return True\n",
    "    else:\n",
    "        return False\n",
    "        \n",
    "def isParallel(realkey,predkey):\n",
    "    return realkey%12 == predkey%12\n",
    "\n",
    "correct ,fifth,relative,parallel,total = 0,0,0,0,0\n",
    "keys=[]\n",
    "print(\"Scale by first keychange event, \\t Scale by KrumhanslSchmuckler, \\t, Filename\")\n",
    "for i, file in enumerate(files[:100]):\n",
    "    try:\n",
    "        pm = pretty_midi.PrettyMIDI(folder + file)\n",
    "    except:\n",
    "        continue\n",
    "\n",
    "    pm = pretty_midi.PrettyMIDI(folder + file)\n",
    "    if pm.key_signature_changes != []:\n",
    "        try:\n",
    "            algkey = ks_key(pm.get_pitch_class_histogram(), 'aarden')\n",
    "            pmkeys = [x.key_number for x in pm.key_signature_changes]\n",
    "            pmkey = pmkeys[0]\n",
    "            if pmkey == 0:\n",
    "                continue\n",
    "            keys.append([pmkey,algkey])\n",
    "            #print(key(pmkey), '\\t', key(int(algkey)), '\\t', file, '\\t', pmkeys)\n",
    "        except:\n",
    "            pass\n",
    "\n",
    "correct ,fifth,relative,parallel,total = 0,0,0,0,0\n",
    "for key in keys:\n",
    "    realkey = key[0]\n",
    "    predkey = key[1]\n",
    "    total += 1\n",
    "    if realkey == predkey:\n",
    "        correct += 1\n",
    "    elif isFifth(realkey,predkey):\n",
    "        fifth += 1\n",
    "    elif isRelative(realkey,predkey):\n",
    "        relative += 1\n",
    "    elif isParallel(realkey,predkey):\n",
    "        parallel += 1\n",
    "print(\"time\", np.round(time.time()-t,2), \"s\")\n",
    "print(correct, relative, fifth, parallel, total)\n",
    "print((correct+relative)/total, correct/total, relative/total, fifth/total, parallel/total, (total-correct-fifth-relative-parallel)/total)\n"
   ]
  },
  {
   "cell_type": "code",
   "execution_count": 0,
   "metadata": {
    "colab": {},
    "colab_type": "code",
    "id": "gfDCQVeKDrn9"
   },
   "outputs": [],
   "source": []
  },
  {
   "cell_type": "code",
   "execution_count": 0,
   "metadata": {
    "colab": {},
    "colab_type": "code",
    "id": "6frqMELbDroA"
   },
   "outputs": [],
   "source": []
  },
  {
   "cell_type": "code",
   "execution_count": 0,
   "metadata": {
    "colab": {},
    "colab_type": "code",
    "id": "7Amv8q3uDroC"
   },
   "outputs": [],
   "source": []
  },
  {
   "cell_type": "code",
   "execution_count": 0,
   "metadata": {
    "colab": {},
    "colab_type": "code",
    "id": "EYwLvorgDroH"
   },
   "outputs": [],
   "source": []
  },
  {
   "cell_type": "code",
   "execution_count": 0,
   "metadata": {
    "colab": {},
    "colab_type": "code",
    "id": "m4CGABNGDroP"
   },
   "outputs": [],
   "source": []
  }
 ],
 "metadata": {
  "accelerator": "GPU",
  "colab": {
   "collapsed_sections": [],
   "name": "aJamBuddyDACTFBass.ipynb",
   "provenance": [],
   "toc_visible": true,
   "version": "0.3.2"
  },
  "kernelspec": {
   "display_name": "Python 3",
   "language": "python",
   "name": "python3"
  },
  "language_info": {
   "codemirror_mode": {
    "name": "ipython",
    "version": 3
   },
   "file_extension": ".py",
   "mimetype": "text/x-python",
   "name": "python",
   "nbconvert_exporter": "python",
   "pygments_lexer": "ipython3",
   "version": "3.6.7"
  }
 },
 "nbformat": 4,
 "nbformat_minor": 1
}
