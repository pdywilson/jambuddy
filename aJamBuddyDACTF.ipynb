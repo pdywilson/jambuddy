{
 "cells": [
  {
   "cell_type": "code",
   "execution_count": 1,
   "metadata": {
    "colab": {
     "base_uri": "https://localhost:8080/",
     "height": 34
    },
    "colab_type": "code",
    "executionInfo": {
     "elapsed": 1546,
     "status": "ok",
     "timestamp": 1559137401049,
     "user": {
      "displayName": "Paddy Wilson",
      "photoUrl": "https://lh3.googleusercontent.com/-Lq7fKfmUlNg/AAAAAAAAAAI/AAAAAAAACRI/cFf3IdBdoQA/s64/photo.jpg",
      "userId": "00502307669733282628"
     },
     "user_tz": -120
    },
    "id": "VSrdFgxyDrmG",
    "outputId": "c68ff6ce-79af-4ac4-d7f8-d4ccbbee7f80",
    "scrolled": true
   },
   "outputs": [
    {
     "data": {
      "text/plain": [
       "device(type='cpu')"
      ]
     },
     "execution_count": 1,
     "metadata": {},
     "output_type": "execute_result"
    }
   ],
   "source": [
    "%matplotlib inline\n",
    "import os\n",
    "import time\n",
    "import numpy as np\n",
    "import matplotlib.pyplot as plt\n",
    "import IPython.display\n",
    "import collections\n",
    "from collections import Counter\n",
    "import seaborn as sns\n",
    "#import pyfluidsynth\n",
    "\n",
    "from pathlib import Path\n",
    "import pretty_midi\n",
    "import librosa.display\n",
    "import glob\n",
    "import datetime\n",
    "\n",
    "import torch\n",
    "import torch.nn as nn\n",
    "import torch.nn.functional as F\n",
    "import torch.utils.data\n",
    "device = torch.device(\"cuda:0\" if torch.cuda.is_available() else \"cpu\")\n",
    "\n",
    "import tensorflow as tf\n",
    "tf.enable_eager_execution()\n",
    "\n",
    "%load_ext autoreload\n",
    "%autoreload 2\n",
    "\n",
    "folder = 'train/'\n",
    "device"
   ]
  },
  {
   "cell_type": "code",
   "execution_count": 2,
   "metadata": {
    "colab": {
     "base_uri": "https://localhost:8080/",
     "height": 34
    },
    "colab_type": "code",
    "executionInfo": {
     "elapsed": 690,
     "status": "ok",
     "timestamp": 1559137401055,
     "user": {
      "displayName": "Paddy Wilson",
      "photoUrl": "https://lh3.googleusercontent.com/-Lq7fKfmUlNg/AAAAAAAAAAI/AAAAAAAACRI/cFf3IdBdoQA/s64/photo.jpg",
      "userId": "00502307669733282628"
     },
     "user_tz": -120
    },
    "id": "YbO_nrQpDrmO",
    "outputId": "2a1e1eec-c5a2-47a0-b9ba-e92467767ef4"
   },
   "outputs": [],
   "source": [
    "# some prep steps\n",
    "# for google colab\n",
    "try:\n",
    "    import google.colab\n",
    "    IN_COLAB = True\n",
    "except:\n",
    "    IN_COLAB = False\n",
    "    \n",
    "if IN_COLAB:\n",
    "    from google.colab import drive\n",
    "    drive.mount('/content/drive/')\n",
    "    data_folder = \"/content/drive/My Drive/Colab Notebooks/data/\"\n",
    "    os.chdir(data_folder)\n",
    "else:\n",
    "    data_folder = \"\"\n"
   ]
  },
  {
   "cell_type": "markdown",
   "metadata": {
    "colab_type": "text",
    "id": "95G80nAcDrmS"
   },
   "source": [
    "# A. Preprocess Midi file\n",
    "#### Choose a harmony and a melody track from a MIDI file"
   ]
  },
  {
   "cell_type": "code",
   "execution_count": 3,
   "metadata": {
    "colab": {},
    "colab_type": "code",
    "id": "iSk5F55lDrmb"
   },
   "outputs": [],
   "source": [
    "## PARAMS\n",
    "# highest note is melody\n",
    "LOW = 48 # C2=48, C3=60, C4=72, C5=84, C6=96\n",
    "HIGH = 84 # range(48,84) = 36 notes \n",
    "\n",
    "# input sizes\n",
    "MELODY = 37 \n",
    "TIMES = 48\n",
    "CHORDS = 12\n"
   ]
  },
  {
   "cell_type": "code",
   "execution_count": 4,
   "metadata": {
    "colab": {},
    "colab_type": "code",
    "id": "eYnJdXBYDrmf"
   },
   "outputs": [],
   "source": [
    "# MIDI processing\n",
    "def getMelodyAndHarmony(file):\n",
    "    def padAndAdd(a,b):\n",
    "        return sorted(a+b,key= lambda x:x.start)\n",
    "    \n",
    "    pm = pretty_midi.PrettyMIDI(file)\n",
    "    pm.remove_invalid_notes()\n",
    "    print(\"\\nEasy Processing: \"+file)\n",
    "    \n",
    "    if len(pm.instruments) == 1:\n",
    "        print(\"Both: Using only track for both harmony and melody\")\n",
    "        pianoroll = pm.instruments[0].notes\n",
    "        return {'melody': pianoroll, 'harmony': pianoroll}\n",
    "    \n",
    "    else:\n",
    "        maxlen = 0\n",
    "        pianos = []\n",
    "        guitars = []\n",
    "        melodies = []\n",
    "        for i, elt in enumerate(pm.instruments):\n",
    "            #if pm.instruments[i].is_drum:\n",
    "            #    continue\n",
    "            pianoroll = pm.instruments[i].get_piano_roll().T\n",
    "            numnotes = pianoroll.nonzero()[0].shape[0]\n",
    "            if numnotes > maxlen:\n",
    "                mostnotes = i\n",
    "                maxlen = numnotes\n",
    "            if 'piano' in pm.instruments[i].name.lower():             #if pm.instruments[i].program in range(8): # MIDI 0..7 are pianos\n",
    "                pianos.append((pm.instruments[i].notes,numnotes))\n",
    "            if 'guitar' in pm.instruments[i].name.lower():             #if pm.instruments[i].program in range(24,32):\n",
    "                guitars.append((pm.instruments[i].notes,numnotes))\n",
    "            if 'melody' in pm.instruments[i].name.lower():\n",
    "                # melodies.append((pianoroll,numnotes)) do i really want to padandadd two melodies always??\n",
    "                melodies.append(pm.instruments[i].notes)\n",
    "\n",
    "        if pianos != []:\n",
    "            print(\"Harmony: Using piano with most notes as harmony of\", len(pianos))\n",
    "            pianowithmostnotes = max(pianos, key=lambda x: x[1])\n",
    "            harmonytrack = pianowithmostnotes[0]\n",
    "        elif guitars != []:\n",
    "            print(\"Harmony: Using guitar with most notes as harmony of\", len(guitars))\n",
    "            guitarwithmostnotes = max(guitars, key=lambda x: x[1])\n",
    "            harmonytrack = guitarwithmostnotes[0]\n",
    "        else:\n",
    "            print(\"Error: no piano or guitar track found\")\n",
    "            harmonytrack = pm.instruments[0].notes\n",
    "            return\n",
    "\n",
    "        if len(melodies) == 1:\n",
    "            print(\"Melody: using only melody track as melody\")\n",
    "            melodytrack = melodies[0]\n",
    "        elif len(melodies) == 2:\n",
    "            print(\"Melody: padding and adding two melodies to one\")\n",
    "            melodytrack = padAndAdd(melodies[0], melodies[1])\n",
    "        elif len(melodies) > 2:\n",
    "            print(\"Melody: more than 2 melody tracks. padding and adding first two of # \", len(melodies),\"melodies.\")\n",
    "            melodytrack = padAndAdd(melodies[0], melodies[1])\n",
    "        else:\n",
    "            print(\"Error: no melody track found.\")\n",
    "            melodytrack = pm.instruments[0].notes\n",
    "            return\n",
    "\n",
    "        return {'melody': melodytrack, 'harmony': harmonytrack}\n",
    "\n",
    "def oneHot(idx, arraysize):\n",
    "        if idx >= arraysize:\n",
    "            print(\"error idx > arraysize\")\n",
    "            return\n",
    "        ar = np.zeros(arraysize)\n",
    "        ar[idx] = 1\n",
    "        return ar\n",
    "\n",
    "def processMidi(file):\n",
    "    pm = pretty_midi.PrettyMIDI(file)\n",
    "    tracks = getMelodyAndHarmony(file)\n",
    "\n",
    "    pmnotes = tracks['melody']\n",
    "    notes, times = [], []\n",
    "    currenttime = 0\n",
    "    for i, note in enumerate(pmnotes):\n",
    "        if note.start > currenttime:\n",
    "            notes.append(MELODY-1)\n",
    "            duration = pm.time_to_tick(note.start-currenttime)\n",
    "            times.append(duration)\n",
    "        if note.pitch in range(LOW,HIGH):\n",
    "            notes.append(note.pitch - LOW)\n",
    "        else:\n",
    "            notes.append(note.pitch % 12)\n",
    "        if i < len(pmnotes)-1 and note.end > pmnotes[i+1].start: # overlap with next note\n",
    "            times.append(pm.time_to_tick(pmnotes[i+1].start - note.start))\n",
    "            currenttime = pmnotes[i+1].start\n",
    "        else:\n",
    "            times.append(pm.time_to_tick(note.end-note.start))\n",
    "            currenttime = note.end\n",
    "    times = np.array(np.round(np.array(times)/pm.resolution*12),dtype=np.int32)\n",
    "    \n",
    "    # getChords\n",
    "    pmnotes = tracks['harmony']\n",
    "    notesDict = {}\n",
    "    for i, note in enumerate(pmnotes):\n",
    "        end = note.end\n",
    "        startbeat = int(pm.time_to_tick(note.start)/pm.resolution)\n",
    "        endbeat = int(pm.time_to_tick(note.end)/pm.resolution)\n",
    "        for j in range(startbeat, endbeat): #evry beat\n",
    "            notesDict[j] = notesDict.get(j,np.zeros(12)) + oneHot(note.pitch % 12,12)\n",
    "    \n",
    "\n",
    "    # append for every beat (timestep) a vector. either np.zeros or chordinfovector\n",
    "    chords = []\n",
    "    for i in range(max(notesDict)): \n",
    "        chords.append(notesDict.get(i,np.zeros(12)))\n",
    "    chordsByBeat = np.array(chords)\n",
    "    \n",
    "\n",
    "    # connect notes and chords\n",
    "    currbeat = 0\n",
    "    newchords = []\n",
    "    for time in times:\n",
    "        beat = int(currbeat/12)\n",
    "        newchord = np.zeros(12)\n",
    "        for j in range(int((time)/12)): \n",
    "            if j+beat < chordsByBeat.shape[0]:\n",
    "                newchord += chordsByBeat[j+beat]\n",
    "        newchords.append(newchord)\n",
    "        currbeat += time\n",
    "    chords = np.array(newchords)\n",
    "    \n",
    "    \n",
    "     #cleanup\n",
    "    times[np.where(times > 48)[0]] = 48\n",
    "    notes = np.array(notes)[np.where(times>0)[0]]\n",
    "    chords = chords[np.where(times > 0)[0]]\n",
    "    times = times[np.where(times > 0)[0]]\n",
    "    times = times - 1 # reshift to 0..47\n",
    "    \n",
    "    \n",
    "    return notes, times, chords, chordsByBeat"
   ]
  },
  {
   "cell_type": "code",
   "execution_count": 81,
   "metadata": {
    "colab": {},
    "colab_type": "code",
    "id": "0kvKT9W1Drmi"
   },
   "outputs": [],
   "source": [
    "# Input representation\n",
    "def getCircleOfThirds(note):\n",
    "    \"\"\"input: note, scalar in [0,C)\n",
    "    output: array, size (11,) including 3 bits for octave, 1 for rest\n",
    "    \"\"\"\n",
    "    circleMajor = lambda x: x%4\n",
    "    circleMinor = lambda x: x%3\n",
    "    representation = np.zeros(11)\n",
    "    if note < MELODY-1:\n",
    "        absnote = note % 12\n",
    "        octave = int(note/12)\n",
    "        representation[7+octave] = 1\n",
    "        representation[circleMajor(absnote)] = 1\n",
    "        representation[4+circleMinor(absnote)] = 1\n",
    "    else:\n",
    "        representation[-1] = 1\n",
    "    return representation\n",
    "\n",
    "def getDuration(duration):\n",
    "    \"\"\"input size (1,) in [0,48)\n",
    "       output size (6,)\n",
    "    \"\"\"\n",
    "    return np.unpackbits(np.uint8(duration))[2:]\n",
    "\n",
    "def getChord(chord):\n",
    "    \"\"\"input size (12,)\n",
    "    outputs current and next chord shape (7,)\n",
    "    \"\"\"\n",
    "    repre = np.zeros(7)\n",
    "    for i, elt in enumerate(chord):\n",
    "        x = elt * getCircleOfThirds(i)[:7]\n",
    "        repre += x\n",
    "    return repre\n",
    "\n",
    "def getFeatureVectors(notes, times, chords, encodingDict, modulation=False): #TODO modulation ueberdenken\n",
    "    \"\"\"input size [7(pitch)+2(octaves)+1(Rest)]+6(duration)+7(chords)+7(nextchords)=30=Fsize #TODO: maybe change chords\n",
    "    Creates Feature Vector from notes lists.\n",
    "    Input: notes, times, chords from processMIDI\n",
    "    Output: features array, size: (N, Fsize)  Fsize varies\n",
    "    \"\"\"\n",
    "    features = []\n",
    "    for i, note in enumerate(notes[:-1]):\n",
    "        feature = np.empty(0)\n",
    "        if encodingDict['melody']:\n",
    "            if notes[i] < MELODY: # pitch or pause bit\n",
    "                feature = np.concatenate((feature, oneHot(notes[i],MELODY)))\n",
    "            else:\n",
    "                print(\"melody over 37\")\n",
    "                feature = np.concatenate((feature, np.zeros(MELODY)))\n",
    "            \n",
    "        if encodingDict['melodyModulo']: \n",
    "            if notes[i] < MELODY-1: # only pitch bit or zeros if pause\n",
    "                feature = np.concatenate((feature, oneHot(notes[i]%12,12)))\n",
    "            else:\n",
    "                feature = np.concatenate((feature, np.zeros(12)))\n",
    "        if encodingDict['melodyEncoded']: # pitch+octave+rest\n",
    "            feature = np.concatenate((feature,getCircleOfThirds(note)))\n",
    "        if encodingDict['duration']:\n",
    "            feature = np.concatenate((feature,oneHot(int(times[i]),48)))  \n",
    "        if encodingDict['durationEncoded']:\n",
    "            feature = np.concatenate((feature,getDuration(times[i])))\n",
    "        if encodingDict['chordsNormally']:\n",
    "            feature = np.concatenate((feature,chords[i]))\n",
    "            feature = np.concatenate((feature,chords[i+1]))\n",
    "        if encodingDict['chordsEncoded']:\n",
    "            feature = np.concatenate((feature,getChord(chords[i])))  # chord ERROR: MAKE THIS BETTER\n",
    "            feature = np.concatenate((feature,getChord(chords[i+1])))   # chord ERROR: MAKE THIS BETTER\n",
    "        features.append(feature)\n",
    "    features = np.array(features)\n",
    "    return features.astype('float32')\n",
    "\n",
    "def getInputSequences(notes, times, chords, encodingDict, modulation=False, padding=False, seq_len=16):\n",
    "    \"\"\"Create Net Input.\n",
    "    Input: features from getFeatureVectors or getEncodedFeatureVectors\n",
    "    Output: \n",
    "        - Sequences, size: (157, seq_len)\n",
    "        - Labels, one-hot, size: (MELODY,)\n",
    "    \"\"\"\n",
    "    features = getFeatureVectors(notes, times, chords, encodingDict, modulation)\n",
    "    sequences = []\n",
    "    labels = []\n",
    "    i = 0\n",
    "    if padding == True:\n",
    "        padded_notes = np.concatenate((np.zeros((seq_len,features.shape[1])),features[:seq_len]))\n",
    "        for j in range(seq_len):\n",
    "            sequences.append(padded_notes[j:j+seq_len])\n",
    "            label_pitch = notes[j]\n",
    "            label_duration = times[j]\n",
    "            labels.append((label_pitch, label_duration))\n",
    "    while i+seq_len < features.shape[0]:\n",
    "        sequences.append(features[i:i+seq_len])\n",
    "        label_pitch = notes[i+seq_len]\n",
    "        label_duration = times[i+seq_len]\n",
    "        labels.append((label_pitch, label_duration))\n",
    "        i += 1     # or += seq_len\n",
    "        \n",
    "    sequences = np.array(sequences)\n",
    "    labels = np.array(labels)\n",
    "    return sequences, labels\n",
    "\n",
    "def modulateOld(notes, times, chords, chordsByBeat, modulate):\n",
    "    newnotesli = np.empty(0)\n",
    "    newchords, newchordsbb = [], []\n",
    "    for i in range(12):\n",
    "        newnotes = notes - i\n",
    "        newnotes[np.where(newnotes == 36-i)[0]] = 36\n",
    "        newnotes[np.where(newnotes < 0)[0]] = 36\n",
    "        newnotesli = np.concatenate((newnotesli,newnotes))\n",
    "\n",
    "        newc = np.append(chords[:,i:],chords[:,:i],axis=1)\n",
    "        newchords.append(newc)\n",
    "\n",
    "        newcbb = np.append(chordsByBeat[:,i:],chordsByBeat[:,:i],axis=1)\n",
    "        newchordsbb.append(newcbb)\n",
    "\n",
    "    newchords = np.array(newchords).reshape(-1,12)\n",
    "    newchordsbb = np.array(newchordsbb).reshape(-1,12)\n",
    "    return newnotesli, times, newchords, newchordsbb\n",
    "\n",
    "def modulate(notes, chords, chordsByBeat, modulate=0):\n",
    "    \"\"\"modulates downwards\"\"\"\n",
    "    i = modulate\n",
    "    modnotes = notes - i\n",
    "    modnotes[np.where(modnotes == 36-i)[0]] = 36\n",
    "    modnotes[np.where(modnotes < 0)[0]] = 36\n",
    "\n",
    "    modchords = np.append(chords[:,i:],chords[:,:i],axis=1)\n",
    "\n",
    "    if chordsByBeat is not None:\n",
    "        modcbb = np.append(chordsByBeat[:,i:],chordsByBeat[:,:i],axis=1)\n",
    "    else:\n",
    "        modcbb = None\n",
    "\n",
    "    return modnotes, modchords, modcbb"
   ]
  },
  {
   "cell_type": "code",
   "execution_count": 82,
   "metadata": {
    "colab": {},
    "colab_type": "code",
    "id": "mVE0og8fDrmk"
   },
   "outputs": [],
   "source": [
    "# Choose encoding and load files\n",
    "encodingDict = {\n",
    "    'melody': True,\n",
    "    'melodyModulo': True,\n",
    "    'melodyEncoded': False,\n",
    "    'duration': True,\n",
    "    'durationEncoded': False,\n",
    "    'chordsNormally': True,\n",
    "    'chordsEncoded': False\n",
    "}"
   ]
  },
  {
   "cell_type": "markdown",
   "metadata": {
    "colab_type": "text",
    "id": "0jBnOuprDrmn"
   },
   "source": [
    "# B. Load Data"
   ]
  },
  {
   "cell_type": "code",
   "execution_count": 83,
   "metadata": {
    "colab": {
     "base_uri": "https://localhost:8080/",
     "height": 272
    },
    "colab_type": "code",
    "executionInfo": {
     "elapsed": 599,
     "status": "ok",
     "timestamp": 1559137409960,
     "user": {
      "displayName": "Paddy Wilson",
      "photoUrl": "https://lh3.googleusercontent.com/-Lq7fKfmUlNg/AAAAAAAAAAI/AAAAAAAACRI/cFf3IdBdoQA/s64/photo.jpg",
      "userId": "00502307669733282628"
     },
     "user_tz": -120
    },
    "id": "0SedqNjRDrmo",
    "outputId": "6c490066-93fe-45fb-c10e-b9e38cd766f6",
    "scrolled": true
   },
   "outputs": [
    {
     "data": {
      "text/plain": [
       "['trainprep.mid',\n",
       " 'acertainsmile.mid',\n",
       " 'affairinsanmiguel.mid',\n",
       " 'adayinalifeofafool.mid',\n",
       " 'girlfromipanemaprep.mid',\n",
       " 'aftertherainhasfallen.mid',\n",
       " 'autumnleaves.mid',\n",
       " 'browneyedgirlprep.mid',\n",
       " 'swayprep.mid',\n",
       " 'amazinggraceprep.mid',\n",
       " 'myfunnyvalentineprep.mid',\n",
       " 'newyorkprep.mid',\n",
       " 'afterlovehasgone.mid',\n",
       " 'dreamalittledramprep.mid',\n",
       " '634.mid']"
      ]
     },
     "execution_count": 83,
     "metadata": {},
     "output_type": "execute_result"
    }
   ],
   "source": [
    "# gets all .mid filenames from folder train/ in one line\n",
    "files = [file for file in os.listdir(\"train\") if '.mid' in file]\n",
    "files"
   ]
  },
  {
   "cell_type": "code",
   "execution_count": 84,
   "metadata": {
    "colab": {
     "base_uri": "https://localhost:8080/",
     "height": 1054
    },
    "colab_type": "code",
    "executionInfo": {
     "elapsed": 31731,
     "status": "ok",
     "timestamp": 1559137441322,
     "user": {
      "displayName": "Paddy Wilson",
      "photoUrl": "https://lh3.googleusercontent.com/-Lq7fKfmUlNg/AAAAAAAAAAI/AAAAAAAACRI/cFf3IdBdoQA/s64/photo.jpg",
      "userId": "00502307669733282628"
     },
     "user_tz": -120
    },
    "id": "piJAllN6Drmr",
    "outputId": "8c1347b5-b909-47e8-8892-3157fb82f377",
    "scrolled": false
   },
   "outputs": [
    {
     "name": "stdout",
     "output_type": "stream",
     "text": [
      "\n",
      "Easy Processing: train/trainprep.mid\n",
      "Harmony: Using piano with most notes as harmony of 1\n",
      "Melody: using only melody track as melody\n",
      "\n",
      "Easy Processing: train/acertainsmile.mid\n",
      "Harmony: Using piano with most notes as harmony of 1\n",
      "Melody: using only melody track as melody\n",
      "\n",
      "Easy Processing: train/affairinsanmiguel.mid\n",
      "Harmony: Using piano with most notes as harmony of 1\n",
      "Melody: more than 2 melody tracks. padding and adding first two of #  6 melodies.\n",
      "\n",
      "Easy Processing: train/adayinalifeofafool.mid\n",
      "Harmony: Using guitar with most notes as harmony of 1\n",
      "Melody: padding and adding two melodies to one\n",
      "\n",
      "Easy Processing: train/girlfromipanemaprep.mid\n",
      "Harmony: Using piano with most notes as harmony of 1\n",
      "Melody: using only melody track as melody\n",
      "\n",
      "Easy Processing: train/aftertherainhasfallen.mid\n",
      "Harmony: Using piano with most notes as harmony of 4\n",
      "Melody: using only melody track as melody\n",
      "\n",
      "Easy Processing: train/autumnleaves.mid\n",
      "Harmony: Using piano with most notes as harmony of 1\n",
      "Melody: padding and adding two melodies to one\n",
      "\n",
      "Easy Processing: train/browneyedgirlprep.mid\n",
      "Harmony: Using guitar with most notes as harmony of 1\n",
      "Melody: using only melody track as melody\n",
      "\n",
      "Easy Processing: train/swayprep.mid\n",
      "Harmony: Using piano with most notes as harmony of 1\n",
      "Melody: using only melody track as melody\n",
      "\n",
      "Easy Processing: train/amazinggraceprep.mid\n",
      "Harmony: Using guitar with most notes as harmony of 1\n",
      "Melody: padding and adding two melodies to one\n",
      "\n",
      "Easy Processing: train/myfunnyvalentineprep.mid\n",
      "Harmony: Using piano with most notes as harmony of 1\n",
      "Melody: using only melody track as melody\n",
      "\n",
      "Easy Processing: train/newyorkprep.mid\n",
      "Harmony: Using guitar with most notes as harmony of 1\n",
      "Melody: more than 2 melody tracks. padding and adding first two of #  3 melodies.\n",
      "\n",
      "Easy Processing: train/afterlovehasgone.mid\n",
      "Harmony: Using piano with most notes as harmony of 1\n",
      "Melody: using only melody track as melody\n",
      "\n",
      "Easy Processing: train/dreamalittledramprep.mid\n",
      "Harmony: Using guitar with most notes as harmony of 1\n",
      "Melody: using only melody track as melody\n",
      "\n",
      "Easy Processing: train/634.mid\n",
      "Harmony: Using guitar with most notes as harmony of 1\n",
      "Melody: using only melody track as melody\n"
     ]
    },
    {
     "data": {
      "text/plain": [
       "((71199, 16, 121), (71199, 2))"
      ]
     },
     "execution_count": 84,
     "metadata": {},
     "output_type": "execute_result"
    }
   ],
   "source": [
    "modulation = True\n",
    "\n",
    "for i, file in enumerate(files):\n",
    "    notes, times, chords, chordsByBeat = processMidi(folder+file)\n",
    "    if modulation == True:\n",
    "        for mod_i in range(12): # modulate\n",
    "            modnotes, modchords, _ = modulate(notes, chords, chordsByBeat, modulate = mod_i)\n",
    "            sequences, labels = getInputSequences(modnotes, times, modchords, encodingDict, padding=False, seq_len=16)\n",
    "            X = sequences if i==0 else np.concatenate((X, sequences))\n",
    "            y = labels if i==0 else np.concatenate((y, labels))\n",
    "    else:\n",
    "        sequences, labels = getInputSequences(notes, times, chords, encodingDict, padding=False, seq_len=16)\n",
    "        X = sequences if i==0 else np.concatenate((X, sequences))\n",
    "        y = labels if i==0 else np.concatenate((y, labels))\n",
    "\n",
    "X.shape, y.shape"
   ]
  },
  {
   "cell_type": "code",
   "execution_count": 85,
   "metadata": {
    "colab": {
     "base_uri": "https://localhost:8080/",
     "height": 286
    },
    "colab_type": "code",
    "executionInfo": {
     "elapsed": 31472,
     "status": "ok",
     "timestamp": 1559137442079,
     "user": {
      "displayName": "Paddy Wilson",
      "photoUrl": "https://lh3.googleusercontent.com/-Lq7fKfmUlNg/AAAAAAAAAAI/AAAAAAAACRI/cFf3IdBdoQA/s64/photo.jpg",
      "userId": "00502307669733282628"
     },
     "user_tz": -120
    },
    "id": "Uv4TY09ZDrmv",
    "outputId": "92017864-0a90-409f-b5c3-d61df27aee3c",
    "scrolled": false
   },
   "outputs": [
    {
     "data": {
      "text/plain": [
       "<matplotlib.axes._subplots.AxesSubplot at 0x13d9bd7b8>"
      ]
     },
     "execution_count": 85,
     "metadata": {},
     "output_type": "execute_result"
    },
    {
     "data": {
      "image/png": "[encoded data removed]",
      "text/plain": [
       "<Figure size 432x288 with 1 Axes>"
      ]
     },
     "metadata": {
      "needs_background": "light"
     },
     "output_type": "display_data"
    }
   ],
   "source": [
    "# stats of training data\n",
    "pitches = y[:,0]\n",
    "durations = y[:,1]\n",
    "sns.countplot(durations)"
   ]
  },
  {
   "cell_type": "code",
   "execution_count": 86,
   "metadata": {
    "colab": {
     "base_uri": "https://localhost:8080/",
     "height": 286
    },
    "colab_type": "code",
    "executionInfo": {
     "elapsed": 31536,
     "status": "ok",
     "timestamp": 1559137442615,
     "user": {
      "displayName": "Paddy Wilson",
      "photoUrl": "https://lh3.googleusercontent.com/-Lq7fKfmUlNg/AAAAAAAAAAI/AAAAAAAACRI/cFf3IdBdoQA/s64/photo.jpg",
      "userId": "00502307669733282628"
     },
     "user_tz": -120
    },
    "id": "uo0GQJA1Drmy",
    "outputId": "906add85-8635-48c7-a7a1-acedd11a0240",
    "scrolled": false
   },
   "outputs": [
    {
     "data": {
      "text/plain": [
       "<matplotlib.axes._subplots.AxesSubplot at 0x1415e7cf8>"
      ]
     },
     "execution_count": 86,
     "metadata": {},
     "output_type": "execute_result"
    },
    {
     "data": {
      "image/png": "[encoded data removed]",
      "text/plain": [
       "<Figure size 432x288 with 1 Axes>"
      ]
     },
     "metadata": {
      "needs_background": "light"
     },
     "output_type": "display_data"
    }
   ],
   "source": [
    "sns.countplot(pitches)"
   ]
  },
  {
   "cell_type": "code",
   "execution_count": 79,
   "metadata": {
    "colab": {
     "base_uri": "https://localhost:8080/",
     "height": 34
    },
    "colab_type": "code",
    "executionInfo": {
     "elapsed": 31371,
     "status": "ok",
     "timestamp": 1559137442616,
     "user": {
      "displayName": "Paddy Wilson",
      "photoUrl": "https://lh3.googleusercontent.com/-Lq7fKfmUlNg/AAAAAAAAAAI/AAAAAAAACRI/cFf3IdBdoQA/s64/photo.jpg",
      "userId": "00502307669733282628"
     },
     "user_tz": -120
    },
    "id": "kvY1xcgiDrm2",
    "outputId": "f23cb728-b5d2-4e26-a2c3-c4790f482376",
    "scrolled": false
   },
   "outputs": [
    {
     "data": {
      "text/plain": [
       "((900, 16, 121), (900, 2))"
      ]
     },
     "execution_count": 79,
     "metadata": {},
     "output_type": "execute_result"
    }
   ],
   "source": [
    "# train/val split\n",
    "n = 70000\n",
    "n = 1000\n",
    "n = min(n,X.shape[0])\n",
    "data = X[:n]\n",
    "labels = y[:n]\n",
    "\n",
    "perm = np.random.permutation(n)\n",
    "p = int(0.9*n)\n",
    "\n",
    "train_data = data[perm[:p]]\n",
    "train_labels = labels[perm[:p]]\n",
    "val_data = data[perm[p:]]\n",
    "val_labels = labels[perm[p:]]\n",
    "\n",
    "train_data.shape, train_labels.shape"
   ]
  },
  {
   "cell_type": "markdown",
   "metadata": {
    "colab_type": "text",
    "id": "b77owDQ-Drm5"
   },
   "source": [
    "### Load Data for Tensorflow"
   ]
  },
  {
   "cell_type": "code",
   "execution_count": 80,
   "metadata": {},
   "outputs": [
    {
     "ename": "ValueError",
     "evalue": "Failed to convert numpy ndarray to a Tensor (Unable to get element as bytes.).",
     "output_type": "error",
     "traceback": [
      "\u001b[0;31m---------------------------------------------------------------------------\u001b[0m",
      "\u001b[0;31mValueError\u001b[0m                                Traceback (most recent call last)",
      "\u001b[0;32m<ipython-input-80-905baf47e363>\u001b[0m in \u001b[0;36m<module>\u001b[0;34m\u001b[0m\n\u001b[1;32m      1\u001b[0m \u001b[0mbatch_size\u001b[0m \u001b[0;34m=\u001b[0m \u001b[0;36m32\u001b[0m\u001b[0;34m\u001b[0m\u001b[0;34m\u001b[0m\u001b[0m\n\u001b[0;32m----> 2\u001b[0;31m \u001b[0mdataset\u001b[0m \u001b[0;34m=\u001b[0m \u001b[0mtf\u001b[0m\u001b[0;34m.\u001b[0m\u001b[0mdata\u001b[0m\u001b[0;34m.\u001b[0m\u001b[0mDataset\u001b[0m\u001b[0;34m.\u001b[0m\u001b[0mfrom_tensor_slices\u001b[0m\u001b[0;34m(\u001b[0m\u001b[0;34m(\u001b[0m\u001b[0mtrain_data\u001b[0m\u001b[0;34m,\u001b[0m \u001b[0mtrain_labels\u001b[0m\u001b[0;34m)\u001b[0m\u001b[0;34m)\u001b[0m\u001b[0;34m\u001b[0m\u001b[0;34m\u001b[0m\u001b[0m\n\u001b[0m\u001b[1;32m      3\u001b[0m \u001b[0mdataset\u001b[0m \u001b[0;34m=\u001b[0m \u001b[0mdataset\u001b[0m\u001b[0;34m.\u001b[0m\u001b[0mbatch\u001b[0m\u001b[0;34m(\u001b[0m\u001b[0mbatch_size\u001b[0m\u001b[0;34m,\u001b[0m \u001b[0mdrop_remainder\u001b[0m\u001b[0;34m=\u001b[0m\u001b[0;32mTrue\u001b[0m\u001b[0;34m)\u001b[0m\u001b[0;34m\u001b[0m\u001b[0;34m\u001b[0m\u001b[0m\n",
      "\u001b[0;32m/Library/Frameworks/Python.framework/Versions/3.6/lib/python3.6/site-packages/tensorflow/python/data/ops/dataset_ops.py\u001b[0m in \u001b[0;36mfrom_tensor_slices\u001b[0;34m(tensors)\u001b[0m\n\u001b[1;32m   1440\u001b[0m   \u001b[0;34m@\u001b[0m\u001b[0mfunctools\u001b[0m\u001b[0;34m.\u001b[0m\u001b[0mwraps\u001b[0m\u001b[0;34m(\u001b[0m\u001b[0mDatasetV2\u001b[0m\u001b[0;34m.\u001b[0m\u001b[0mfrom_tensor_slices\u001b[0m\u001b[0;34m)\u001b[0m\u001b[0;34m\u001b[0m\u001b[0;34m\u001b[0m\u001b[0m\n\u001b[1;32m   1441\u001b[0m   \u001b[0;32mdef\u001b[0m \u001b[0mfrom_tensor_slices\u001b[0m\u001b[0;34m(\u001b[0m\u001b[0mtensors\u001b[0m\u001b[0;34m)\u001b[0m\u001b[0;34m:\u001b[0m\u001b[0;34m\u001b[0m\u001b[0;34m\u001b[0m\u001b[0m\n\u001b[0;32m-> 1442\u001b[0;31m     \u001b[0;32mreturn\u001b[0m \u001b[0mDatasetV1Adapter\u001b[0m\u001b[0;34m(\u001b[0m\u001b[0mDatasetV2\u001b[0m\u001b[0;34m.\u001b[0m\u001b[0mfrom_tensor_slices\u001b[0m\u001b[0;34m(\u001b[0m\u001b[0mtensors\u001b[0m\u001b[0;34m)\u001b[0m\u001b[0;34m)\u001b[0m\u001b[0;34m\u001b[0m\u001b[0;34m\u001b[0m\u001b[0m\n\u001b[0m\u001b[1;32m   1443\u001b[0m \u001b[0;34m\u001b[0m\u001b[0m\n\u001b[1;32m   1444\u001b[0m   \u001b[0;34m@\u001b[0m\u001b[0mstaticmethod\u001b[0m\u001b[0;34m\u001b[0m\u001b[0;34m\u001b[0m\u001b[0m\n",
      "\u001b[0;32m/Library/Frameworks/Python.framework/Versions/3.6/lib/python3.6/site-packages/tensorflow/python/data/ops/dataset_ops.py\u001b[0m in \u001b[0;36mfrom_tensor_slices\u001b[0;34m(tensors)\u001b[0m\n\u001b[1;32m    296\u001b[0m       \u001b[0mDataset\u001b[0m\u001b[0;34m:\u001b[0m \u001b[0mA\u001b[0m\u001b[0;31m \u001b[0m\u001b[0;31m`\u001b[0m\u001b[0mDataset\u001b[0m\u001b[0;31m`\u001b[0m\u001b[0;34m.\u001b[0m\u001b[0;34m\u001b[0m\u001b[0;34m\u001b[0m\u001b[0m\n\u001b[1;32m    297\u001b[0m     \"\"\"\n\u001b[0;32m--> 298\u001b[0;31m     \u001b[0;32mreturn\u001b[0m \u001b[0mTensorSliceDataset\u001b[0m\u001b[0;34m(\u001b[0m\u001b[0mtensors\u001b[0m\u001b[0;34m)\u001b[0m\u001b[0;34m\u001b[0m\u001b[0;34m\u001b[0m\u001b[0m\n\u001b[0m\u001b[1;32m    299\u001b[0m \u001b[0;34m\u001b[0m\u001b[0m\n\u001b[1;32m    300\u001b[0m   \u001b[0;32mclass\u001b[0m \u001b[0m_GeneratorState\u001b[0m\u001b[0;34m(\u001b[0m\u001b[0mobject\u001b[0m\u001b[0;34m)\u001b[0m\u001b[0;34m:\u001b[0m\u001b[0;34m\u001b[0m\u001b[0;34m\u001b[0m\u001b[0m\n",
      "\u001b[0;32m/Library/Frameworks/Python.framework/Versions/3.6/lib/python3.6/site-packages/tensorflow/python/data/ops/dataset_ops.py\u001b[0m in \u001b[0;36m__init__\u001b[0;34m(self, tensors)\u001b[0m\n\u001b[1;32m   1875\u001b[0m           if sparse_tensor_lib.is_sparse(t) else ops.convert_to_tensor(\n\u001b[1;32m   1876\u001b[0m               t, name=\"component_%d\" % i)\n\u001b[0;32m-> 1877\u001b[0;31m           \u001b[0;32mfor\u001b[0m \u001b[0mi\u001b[0m\u001b[0;34m,\u001b[0m \u001b[0mt\u001b[0m \u001b[0;32min\u001b[0m \u001b[0menumerate\u001b[0m\u001b[0;34m(\u001b[0m\u001b[0mnest\u001b[0m\u001b[0;34m.\u001b[0m\u001b[0mflatten\u001b[0m\u001b[0;34m(\u001b[0m\u001b[0mtensors\u001b[0m\u001b[0;34m)\u001b[0m\u001b[0;34m)\u001b[0m\u001b[0;34m\u001b[0m\u001b[0;34m\u001b[0m\u001b[0m\n\u001b[0m\u001b[1;32m   1878\u001b[0m       ])\n\u001b[1;32m   1879\u001b[0m \u001b[0;34m\u001b[0m\u001b[0m\n",
      "\u001b[0;32m/Library/Frameworks/Python.framework/Versions/3.6/lib/python3.6/site-packages/tensorflow/python/data/ops/dataset_ops.py\u001b[0m in \u001b[0;36m<listcomp>\u001b[0;34m(.0)\u001b[0m\n\u001b[1;32m   1875\u001b[0m           if sparse_tensor_lib.is_sparse(t) else ops.convert_to_tensor(\n\u001b[1;32m   1876\u001b[0m               t, name=\"component_%d\" % i)\n\u001b[0;32m-> 1877\u001b[0;31m           \u001b[0;32mfor\u001b[0m \u001b[0mi\u001b[0m\u001b[0;34m,\u001b[0m \u001b[0mt\u001b[0m \u001b[0;32min\u001b[0m \u001b[0menumerate\u001b[0m\u001b[0;34m(\u001b[0m\u001b[0mnest\u001b[0m\u001b[0;34m.\u001b[0m\u001b[0mflatten\u001b[0m\u001b[0;34m(\u001b[0m\u001b[0mtensors\u001b[0m\u001b[0;34m)\u001b[0m\u001b[0;34m)\u001b[0m\u001b[0;34m\u001b[0m\u001b[0;34m\u001b[0m\u001b[0m\n\u001b[0m\u001b[1;32m   1878\u001b[0m       ])\n\u001b[1;32m   1879\u001b[0m \u001b[0;34m\u001b[0m\u001b[0m\n",
      "\u001b[0;32m/Library/Frameworks/Python.framework/Versions/3.6/lib/python3.6/site-packages/tensorflow/python/framework/ops.py\u001b[0m in \u001b[0;36mconvert_to_tensor\u001b[0;34m(value, dtype, name, preferred_dtype)\u001b[0m\n\u001b[1;32m   1037\u001b[0m     \u001b[0mValueError\u001b[0m\u001b[0;34m:\u001b[0m \u001b[0mIf\u001b[0m \u001b[0mthe\u001b[0m\u001b[0;31m \u001b[0m\u001b[0;31m`\u001b[0m\u001b[0mvalue\u001b[0m\u001b[0;31m`\u001b[0m \u001b[0;32mis\u001b[0m \u001b[0ma\u001b[0m \u001b[0mtensor\u001b[0m \u001b[0;32mnot\u001b[0m \u001b[0mof\u001b[0m \u001b[0mgiven\u001b[0m\u001b[0;31m \u001b[0m\u001b[0;31m`\u001b[0m\u001b[0mdtype\u001b[0m\u001b[0;31m`\u001b[0m \u001b[0;32min\u001b[0m \u001b[0mgraph\u001b[0m \u001b[0mmode\u001b[0m\u001b[0;34m.\u001b[0m\u001b[0;34m\u001b[0m\u001b[0;34m\u001b[0m\u001b[0m\n\u001b[1;32m   1038\u001b[0m   \"\"\"\n\u001b[0;32m-> 1039\u001b[0;31m   \u001b[0;32mreturn\u001b[0m \u001b[0mconvert_to_tensor_v2\u001b[0m\u001b[0;34m(\u001b[0m\u001b[0mvalue\u001b[0m\u001b[0;34m,\u001b[0m \u001b[0mdtype\u001b[0m\u001b[0;34m,\u001b[0m \u001b[0mpreferred_dtype\u001b[0m\u001b[0;34m,\u001b[0m \u001b[0mname\u001b[0m\u001b[0;34m)\u001b[0m\u001b[0;34m\u001b[0m\u001b[0;34m\u001b[0m\u001b[0m\n\u001b[0m\u001b[1;32m   1040\u001b[0m \u001b[0;34m\u001b[0m\u001b[0m\n\u001b[1;32m   1041\u001b[0m \u001b[0;34m\u001b[0m\u001b[0m\n",
      "\u001b[0;32m/Library/Frameworks/Python.framework/Versions/3.6/lib/python3.6/site-packages/tensorflow/python/framework/ops.py\u001b[0m in \u001b[0;36mconvert_to_tensor_v2\u001b[0;34m(value, dtype, dtype_hint, name)\u001b[0m\n\u001b[1;32m   1095\u001b[0m       \u001b[0mname\u001b[0m\u001b[0;34m=\u001b[0m\u001b[0mname\u001b[0m\u001b[0;34m,\u001b[0m\u001b[0;34m\u001b[0m\u001b[0;34m\u001b[0m\u001b[0m\n\u001b[1;32m   1096\u001b[0m       \u001b[0mpreferred_dtype\u001b[0m\u001b[0;34m=\u001b[0m\u001b[0mdtype_hint\u001b[0m\u001b[0;34m,\u001b[0m\u001b[0;34m\u001b[0m\u001b[0;34m\u001b[0m\u001b[0m\n\u001b[0;32m-> 1097\u001b[0;31m       as_ref=False)\n\u001b[0m\u001b[1;32m   1098\u001b[0m \u001b[0;34m\u001b[0m\u001b[0m\n\u001b[1;32m   1099\u001b[0m \u001b[0;34m\u001b[0m\u001b[0m\n",
      "\u001b[0;32m/Library/Frameworks/Python.framework/Versions/3.6/lib/python3.6/site-packages/tensorflow/python/framework/ops.py\u001b[0m in \u001b[0;36minternal_convert_to_tensor\u001b[0;34m(value, dtype, name, as_ref, preferred_dtype, ctx, accept_symbolic_tensors)\u001b[0m\n\u001b[1;32m   1173\u001b[0m \u001b[0;34m\u001b[0m\u001b[0m\n\u001b[1;32m   1174\u001b[0m     \u001b[0;32mif\u001b[0m \u001b[0mret\u001b[0m \u001b[0;32mis\u001b[0m \u001b[0;32mNone\u001b[0m\u001b[0;34m:\u001b[0m\u001b[0;34m\u001b[0m\u001b[0;34m\u001b[0m\u001b[0m\n\u001b[0;32m-> 1175\u001b[0;31m       \u001b[0mret\u001b[0m \u001b[0;34m=\u001b[0m \u001b[0mconversion_func\u001b[0m\u001b[0;34m(\u001b[0m\u001b[0mvalue\u001b[0m\u001b[0;34m,\u001b[0m \u001b[0mdtype\u001b[0m\u001b[0;34m=\u001b[0m\u001b[0mdtype\u001b[0m\u001b[0;34m,\u001b[0m \u001b[0mname\u001b[0m\u001b[0;34m=\u001b[0m\u001b[0mname\u001b[0m\u001b[0;34m,\u001b[0m \u001b[0mas_ref\u001b[0m\u001b[0;34m=\u001b[0m\u001b[0mas_ref\u001b[0m\u001b[0;34m)\u001b[0m\u001b[0;34m\u001b[0m\u001b[0;34m\u001b[0m\u001b[0m\n\u001b[0m\u001b[1;32m   1176\u001b[0m \u001b[0;34m\u001b[0m\u001b[0m\n\u001b[1;32m   1177\u001b[0m     \u001b[0;32mif\u001b[0m \u001b[0mret\u001b[0m \u001b[0;32mis\u001b[0m \u001b[0mNotImplemented\u001b[0m\u001b[0;34m:\u001b[0m\u001b[0;34m\u001b[0m\u001b[0;34m\u001b[0m\u001b[0m\n",
      "\u001b[0;32m/Library/Frameworks/Python.framework/Versions/3.6/lib/python3.6/site-packages/tensorflow/python/framework/constant_op.py\u001b[0m in \u001b[0;36m_constant_tensor_conversion_function\u001b[0;34m(v, dtype, name, as_ref)\u001b[0m\n\u001b[1;32m    302\u001b[0m                                          as_ref=False):\n\u001b[1;32m    303\u001b[0m   \u001b[0m_\u001b[0m \u001b[0;34m=\u001b[0m \u001b[0mas_ref\u001b[0m\u001b[0;34m\u001b[0m\u001b[0;34m\u001b[0m\u001b[0m\n\u001b[0;32m--> 304\u001b[0;31m   \u001b[0;32mreturn\u001b[0m \u001b[0mconstant\u001b[0m\u001b[0;34m(\u001b[0m\u001b[0mv\u001b[0m\u001b[0;34m,\u001b[0m \u001b[0mdtype\u001b[0m\u001b[0;34m=\u001b[0m\u001b[0mdtype\u001b[0m\u001b[0;34m,\u001b[0m \u001b[0mname\u001b[0m\u001b[0;34m=\u001b[0m\u001b[0mname\u001b[0m\u001b[0;34m)\u001b[0m\u001b[0;34m\u001b[0m\u001b[0;34m\u001b[0m\u001b[0m\n\u001b[0m\u001b[1;32m    305\u001b[0m \u001b[0;34m\u001b[0m\u001b[0m\n\u001b[1;32m    306\u001b[0m \u001b[0;34m\u001b[0m\u001b[0m\n",
      "\u001b[0;32m/Library/Frameworks/Python.framework/Versions/3.6/lib/python3.6/site-packages/tensorflow/python/framework/constant_op.py\u001b[0m in \u001b[0;36mconstant\u001b[0;34m(value, dtype, shape, name)\u001b[0m\n\u001b[1;32m    243\u001b[0m   \"\"\"\n\u001b[1;32m    244\u001b[0m   return _constant_impl(value, dtype, shape, name, verify_shape=False,\n\u001b[0;32m--> 245\u001b[0;31m                         allow_broadcast=True)\n\u001b[0m\u001b[1;32m    246\u001b[0m \u001b[0;34m\u001b[0m\u001b[0m\n\u001b[1;32m    247\u001b[0m \u001b[0;34m\u001b[0m\u001b[0m\n",
      "\u001b[0;32m/Library/Frameworks/Python.framework/Versions/3.6/lib/python3.6/site-packages/tensorflow/python/framework/constant_op.py\u001b[0m in \u001b[0;36m_constant_impl\u001b[0;34m(value, dtype, shape, name, verify_shape, allow_broadcast)\u001b[0m\n\u001b[1;32m    251\u001b[0m   \u001b[0mctx\u001b[0m \u001b[0;34m=\u001b[0m \u001b[0mcontext\u001b[0m\u001b[0;34m.\u001b[0m\u001b[0mcontext\u001b[0m\u001b[0;34m(\u001b[0m\u001b[0;34m)\u001b[0m\u001b[0;34m\u001b[0m\u001b[0;34m\u001b[0m\u001b[0m\n\u001b[1;32m    252\u001b[0m   \u001b[0;32mif\u001b[0m \u001b[0mctx\u001b[0m\u001b[0;34m.\u001b[0m\u001b[0mexecuting_eagerly\u001b[0m\u001b[0;34m(\u001b[0m\u001b[0;34m)\u001b[0m\u001b[0;34m:\u001b[0m\u001b[0;34m\u001b[0m\u001b[0;34m\u001b[0m\u001b[0m\n\u001b[0;32m--> 253\u001b[0;31m     \u001b[0mt\u001b[0m \u001b[0;34m=\u001b[0m \u001b[0mconvert_to_eager_tensor\u001b[0m\u001b[0;34m(\u001b[0m\u001b[0mvalue\u001b[0m\u001b[0;34m,\u001b[0m \u001b[0mctx\u001b[0m\u001b[0;34m,\u001b[0m \u001b[0mdtype\u001b[0m\u001b[0;34m)\u001b[0m\u001b[0;34m\u001b[0m\u001b[0;34m\u001b[0m\u001b[0m\n\u001b[0m\u001b[1;32m    254\u001b[0m     \u001b[0;32mif\u001b[0m \u001b[0mshape\u001b[0m \u001b[0;32mis\u001b[0m \u001b[0;32mNone\u001b[0m\u001b[0;34m:\u001b[0m\u001b[0;34m\u001b[0m\u001b[0;34m\u001b[0m\u001b[0m\n\u001b[1;32m    255\u001b[0m       \u001b[0;32mreturn\u001b[0m \u001b[0mt\u001b[0m\u001b[0;34m\u001b[0m\u001b[0;34m\u001b[0m\u001b[0m\n",
      "\u001b[0;32m/Library/Frameworks/Python.framework/Versions/3.6/lib/python3.6/site-packages/tensorflow/python/framework/constant_op.py\u001b[0m in \u001b[0;36mconvert_to_eager_tensor\u001b[0;34m(value, ctx, dtype)\u001b[0m\n\u001b[1;32m    112\u001b[0m     \u001b[0;32mreturn\u001b[0m \u001b[0mt\u001b[0m\u001b[0;34m\u001b[0m\u001b[0;34m\u001b[0m\u001b[0m\n\u001b[1;32m    113\u001b[0m   \u001b[0;32melse\u001b[0m\u001b[0;34m:\u001b[0m\u001b[0;34m\u001b[0m\u001b[0;34m\u001b[0m\u001b[0m\n\u001b[0;32m--> 114\u001b[0;31m     \u001b[0;32mreturn\u001b[0m \u001b[0mops\u001b[0m\u001b[0;34m.\u001b[0m\u001b[0mEagerTensor\u001b[0m\u001b[0;34m(\u001b[0m\u001b[0mvalue\u001b[0m\u001b[0;34m,\u001b[0m \u001b[0mhandle\u001b[0m\u001b[0;34m,\u001b[0m \u001b[0mdevice\u001b[0m\u001b[0;34m,\u001b[0m \u001b[0mdtype\u001b[0m\u001b[0;34m)\u001b[0m\u001b[0;34m\u001b[0m\u001b[0;34m\u001b[0m\u001b[0m\n\u001b[0m\u001b[1;32m    115\u001b[0m \u001b[0;34m\u001b[0m\u001b[0m\n\u001b[1;32m    116\u001b[0m \u001b[0;34m\u001b[0m\u001b[0m\n",
      "\u001b[0;31mValueError\u001b[0m: Failed to convert numpy ndarray to a Tensor (Unable to get element as bytes.)."
     ]
    }
   ],
   "source": [
    "batch_size = 32\n",
    "dataset = tf.data.Dataset.from_tensor_slices((train_data, train_labels))\n",
    "dataset = dataset.batch(batch_size, drop_remainder=True)"
   ]
  },
  {
   "cell_type": "code",
   "execution_count": 38,
   "metadata": {
    "colab": {},
    "colab_type": "code",
    "id": "0Ps1leCZDrm6",
    "scrolled": false
   },
   "outputs": [],
   "source": [
    "# weighted randomsampler!\n"
   ]
  },
  {
   "cell_type": "markdown",
   "metadata": {
    "colab_type": "text",
    "id": "IhxqWi8YDrm8"
   },
   "source": [
    "# C. Train a model"
   ]
  },
  {
   "cell_type": "code",
   "execution_count": 122,
   "metadata": {},
   "outputs": [],
   "source": [
    "class LSTM(tf.keras.Model):\n",
    "    def __init__(self, input_dim, hidden_dim, output_dim_pitch, output_dim_duration, num_layers=1, dropout=0.3):\n",
    "        super(LSTM, self).__init__()\n",
    "        self.input_dim = input_dim\n",
    "        self.hidden_dim = hidden_dim\n",
    "        self.output_dim_pitch = output_dim_pitch\n",
    "        self.output_dim_duration = output_dim_duration\n",
    "        self.num_layers = num_layers\n",
    "        self.hidden = self.init_hidden(batch_size)\n",
    "        \n",
    "        #LSTM\n",
    "        if tf.test.is_gpu_available():\n",
    "            self.lstm = tf.keras.layers.CuDNNLSTM(self.hidden_dim, \n",
    "                                    return_sequences=True, \n",
    "                                    return_state=True, \n",
    "                                    recurrent_initializer='glorot_uniform')\n",
    "        else:\n",
    "            self.lstm = tf.keras.layers.LSTM(self.hidden_dim, \n",
    "                               return_sequences=False, \n",
    "                               return_state=False, \n",
    "                               recurrent_activation='sigmoid', \n",
    "                               recurrent_initializer='glorot_uniform')\n",
    "        \n",
    "        \n",
    "        self.linear_pitch = tf.keras.layers.Dense(self.output_dim_pitch)\n",
    "        self.linear_duration = tf.keras.layers.Dense(self.output_dim_duration)\n",
    "        \n",
    "    def init_hidden(self, batch_size):\n",
    "        return (tf.zeros((batch_size, self.hidden_dim)),\n",
    "                tf.zeros((batch_size, self.hidden_dim)))\n",
    "        \n",
    "    def call(self, x):\n",
    "        self.hidden = self.lstm(x, self.hidden)   \n",
    "        \n",
    "        fc_input = self.hidden\n",
    "        \n",
    "        pitch = self.linear_pitch(fc_input)\n",
    "        duration = self.linear_duration(fc_input)\n",
    "        return pitch, duration\n",
    "    "
   ]
  },
  {
   "cell_type": "code",
   "execution_count": 175,
   "metadata": {},
   "outputs": [],
   "source": [
    "# Build Model\n",
    "model_params = {\n",
    "    'input_dim': train_data.shape[-1],\n",
    "    'hidden_dim': 64,\n",
    "    'num_layers': 2,\n",
    "    'output_dim_pitch': MELODY,\n",
    "    'output_dim_duration': TIMES\n",
    "}\n",
    "\n",
    "lstm = LSTM(**model_params)"
   ]
  },
  {
   "cell_type": "code",
   "execution_count": 176,
   "metadata": {},
   "outputs": [],
   "source": [
    "loss_fn=tf.losses.sparse_softmax_cross_entropy\n",
    "optimizer = tf.train.AdamOptimizer() \n",
    "train_acc_metric = tf.keras.metrics.sparse_categorical_accuracy\n",
    "val_acc_metric = tf.keras.metrics.sparse_categorical_accuracy\n",
    "checkpoint_dir = './training_checkpoints'\n",
    "checkpoint_prefix = os.path.join(checkpoint_dir, \"ckpt\")\n",
    "checkpoint = tf.train.Checkpoint(optimizer=optimizer, model=lstm)"
   ]
  },
  {
   "cell_type": "code",
   "execution_count": 177,
   "metadata": {
    "scrolled": false
   },
   "outputs": [
    {
     "name": "stdout",
     "output_type": "stream",
     "text": [
      "Epoch 1 Loss 141.9242\n",
      "Time taken 4.3 sec\n",
      "\n",
      "Epoch:  0 / 10 in 4.31 s loss:  141.9242 acc_train:  0.2 acc_val:  0\n",
      "Epoch 2 Loss 70.4520\n",
      "Time taken 8.1 sec\n",
      "\n",
      "Epoch 3 Loss 62.9046\n",
      "Time taken 11.7 sec\n",
      "\n",
      "Epoch:  2 / 10 in 11.66 s loss:  62.9046 acc_train:  0.25 acc_val:  0\n",
      "Epoch 4 Loss 60.6735\n",
      "Time taken 15.3 sec\n",
      "\n",
      "Epoch 5 Loss 58.7203\n",
      "Time taken 20.0 sec\n",
      "\n",
      "Epoch:  4 / 10 in 19.95 s loss:  58.7203 acc_train:  0.34 acc_val:  0\n",
      "Epoch 6 Loss 56.4181\n",
      "Time taken 23.9 sec\n",
      "\n",
      "Epoch 7 Loss 53.3869\n",
      "Time taken 28.4 sec\n",
      "\n",
      "Epoch:  6 / 10 in 28.43 s loss:  53.3869 acc_train:  0.5 acc_val:  0\n",
      "Epoch 8 Loss 49.7654\n",
      "Time taken 32.3 sec\n",
      "\n",
      "Epoch 9 Loss 46.0098\n",
      "Time taken 36.1 sec\n",
      "\n",
      "Epoch:  8 / 10 in 36.08 s loss:  46.0098 acc_train:  0.57 acc_val:  0\n",
      "Epoch 10 Loss 42.4009\n",
      "Time taken 39.9 sec\n",
      "\n"
     ]
    },
    {
     "data": {
      "image/png": "[encoded data removed]",
      "text/plain": [
       "<Figure size 432x288 with 1 Axes>"
      ]
     },
     "metadata": {
      "needs_background": "light"
     },
     "output_type": "display_data"
    }
   ],
   "source": [
    "EPOCHS = 10\n",
    "start = time.time()\n",
    "hist = np.zeros(EPOCHS)\n",
    "\n",
    "for epoch in range(EPOCHS):\n",
    "    total_loss = 0\n",
    "    pacc = 0\n",
    "    total=0\n",
    "    correct = 0\n",
    "    \n",
    "    for (batch, (inputs, labels)) in enumerate(dataset):\n",
    "        loss = 0\n",
    "        \n",
    "        with tf.GradientTape() as tape:\n",
    "            batch_size = inputs.shape[0]\n",
    "            lstm.hidden = lstm.init_hidden(batch_size)\n",
    "\n",
    "            pitch, duration = lstm(inputs)\n",
    "\n",
    "            loss_pitch = loss_fn(labels[:,0], pitch)\n",
    "            loss_duration = loss_fn(labels[:,1], duration)\n",
    "\n",
    "            batch_loss = loss_pitch + loss_duration\n",
    "            \n",
    "        total_loss += batch_loss\n",
    "        \n",
    "\n",
    "        #backprop\n",
    "        gradients = tape.gradient(batch_loss, lstm.variables)\n",
    "        optimizer.apply_gradients(zip(gradients, lstm.variables))\n",
    "        \n",
    "        #eval\n",
    "        predicted = tf.argmax(pitch, 1)\n",
    "        total += int(labels[:,0].shape[0])\n",
    "        correct += sum(predicted.numpy()==labels[:,0].numpy())\n",
    "        \n",
    "    hist[epoch] = total_loss\n",
    "    if (epoch + 1) % 2 == 0:\n",
    "        checkpoint.save(file_prefix = checkpoint_prefix)\n",
    "    \n",
    "    if epoch%2==0:\n",
    "        notes = epoch%50==0\n",
    "        acc_train = correct/total\n",
    "        acc_val = 0\n",
    "        #acc_val, dacc_val, hacc_val = evaluation(model, val_loader, notes=False)\n",
    "        print('Epoch: ',epoch,'/',EPOCHS,'in', np.round(time.time()-start,2),'s',\\\n",
    "              \"loss: \", np.round(hist[epoch], 4), \"acc_train: \", np.round(acc_train,2), \"acc_val: \", np.round(acc_val,2))\n",
    "        #print(\"loss: \", np.round(hist[epoch], 4), \"dacc_train: \", np.round(dacc_train,2), \"dacc_val: \", np.round(dacc_val,2), \\\n",
    "        #\"hacc_train: \", np.round(hacc_train,2), \"hacc_val: \", np.round(hacc_val,2))\n",
    "\n",
    "        if acc_train >= 90:\n",
    "            print(\"finishing training at acc_train > 90\")\n",
    "            break\n",
    "plt.plot(hist, label=\"Training loss\")\n",
    "plt.legend()\n",
    "plt.show()"
   ]
  },
  {
   "cell_type": "code",
   "execution_count": null,
   "metadata": {},
   "outputs": [],
   "source": [
    "    hist = np.zeros(num_epochs)\n",
    "\n",
    "    def clip_gradient(model, clip_value):\n",
    "        params = list(filter(lambda p: p.grad is not None, model.parameters()))\n",
    "        for p in params:\n",
    "            p.grad.data.clamp_(-clip_value, clip_value)\n",
    "\n",
    "    starttime = time.time()\n",
    "    for t in range(num_epochs):\n",
    "        loss_curr = 0\n",
    "        for i, (inputs, labels) in enumerate(train_loader):\n",
    "            inputs, labels = inputs.to(device), labels.to(device)\n",
    "\n",
    "            batch_size = inputs.size(0)\n",
    "            model.hidden = model.init_hidden(batch_size)\n",
    "\n",
    "            optim.zero_grad()\n",
    "            pitch, duration = model(inputs.float())\n",
    "\n",
    "            loss_pitch = loss_fn(pitch, labels[:,0].long())\n",
    "            loss_duration = loss_fn(duration, labels[:,1].long())\n",
    "\n",
    "            loss = loss_pitch + loss_duration\n",
    "\n",
    "            loss.backward()\n",
    "            clip_gradient(model, 1)\n",
    "            optim.step()\n",
    "\n",
    "            loss_curr = loss_curr + loss.item()\n",
    "\n",
    "        hist[t] = loss_curr\n",
    "        if t%10==0:\n",
    "            notes = t%50==0\n",
    "            acc_train, dacc_train, hacc_train = evaluation(model, train_loader, notes)\n",
    "            acc_val, dacc_val, hacc_val = evaluation(model, val_loader, notes=False)\n",
    "            print('Epoch: ',t,'/',num_epochs,'in', np.round(time.time()-starttime,2),'s',\\\n",
    "                  \"loss: \", np.round(hist[t], 4), \"acc_train: \", np.round(acc_train,2), \"acc_val: \", np.round(acc_val,2))\n",
    "            print(\"loss: \", np.round(hist[t], 4), \"dacc_train: \", np.round(dacc_train,2), \"dacc_val: \", np.round(dacc_val,2), \\\n",
    "            \"hacc_train: \", np.round(hacc_train,2), \"hacc_val: \", np.round(hacc_val,2))\n",
    "        \n",
    "        if acc_train >= 90:\n",
    "            print(\"finishing training at acc_train > 90\")\n",
    "            break\n",
    "    plt.plot(hist, label=\"Training loss\")\n",
    "    plt.legend()\n",
    "    plt.show()"
   ]
  },
  {
   "cell_type": "code",
   "execution_count": 18,
   "metadata": {},
   "outputs": [
    {
     "name": "stdout",
     "output_type": "stream",
     "text": [
      "WARNING:tensorflow:From /Library/Frameworks/Python.framework/Versions/3.6/lib/python3.6/site-packages/tensorflow/python/ops/tensor_array_ops.py:162: colocate_with (from tensorflow.python.framework.ops) is deprecated and will be removed in a future version.\n",
      "Instructions for updating:\n",
      "Colocations handled automatically by placer.\n"
     ]
    },
    {
     "ename": "TypeError",
     "evalue": "Tensor objects are only iterable when eager execution is enabled. To iterate over this tensor use tf.map_fn.",
     "output_type": "error",
     "traceback": [
      "\u001b[0;31m---------------------------------------------------------------------------\u001b[0m",
      "\u001b[0;31mTypeError\u001b[0m                                 Traceback (most recent call last)",
      "\u001b[0;32m<ipython-input-18-b65bf17f20fd>\u001b[0m in \u001b[0;36m<module>\u001b[0;34m\u001b[0m\n\u001b[0;32m----> 1\u001b[0;31m \u001b[0mmodel\u001b[0m\u001b[0;34m.\u001b[0m\u001b[0mfit\u001b[0m\u001b[0;34m(\u001b[0m\u001b[0mtrain_data\u001b[0m\u001b[0;34m,\u001b[0m \u001b[0mtrain_labels\u001b[0m\u001b[0;34m,\u001b[0m \u001b[0mepochs\u001b[0m\u001b[0;34m=\u001b[0m\u001b[0;36m5\u001b[0m\u001b[0;34m)\u001b[0m\u001b[0;34m\u001b[0m\u001b[0;34m\u001b[0m\u001b[0m\n\u001b[0m",
      "\u001b[0;32m/Library/Frameworks/Python.framework/Versions/3.6/lib/python3.6/site-packages/tensorflow/python/keras/engine/training.py\u001b[0m in \u001b[0;36mfit\u001b[0;34m(self, x, y, batch_size, epochs, verbose, callbacks, validation_split, validation_data, shuffle, class_weight, sample_weight, initial_epoch, steps_per_epoch, validation_steps, max_queue_size, workers, use_multiprocessing, **kwargs)\u001b[0m\n\u001b[1;32m    774\u001b[0m         \u001b[0msteps\u001b[0m\u001b[0;34m=\u001b[0m\u001b[0msteps_per_epoch\u001b[0m\u001b[0;34m,\u001b[0m\u001b[0;34m\u001b[0m\u001b[0;34m\u001b[0m\u001b[0m\n\u001b[1;32m    775\u001b[0m         \u001b[0mvalidation_split\u001b[0m\u001b[0;34m=\u001b[0m\u001b[0mvalidation_split\u001b[0m\u001b[0;34m,\u001b[0m\u001b[0;34m\u001b[0m\u001b[0;34m\u001b[0m\u001b[0m\n\u001b[0;32m--> 776\u001b[0;31m         shuffle=shuffle)\n\u001b[0m\u001b[1;32m    777\u001b[0m \u001b[0;34m\u001b[0m\u001b[0m\n\u001b[1;32m    778\u001b[0m     \u001b[0;31m# Prepare validation data.\u001b[0m\u001b[0;34m\u001b[0m\u001b[0;34m\u001b[0m\u001b[0;34m\u001b[0m\u001b[0m\n",
      "\u001b[0;32m/Library/Frameworks/Python.framework/Versions/3.6/lib/python3.6/site-packages/tensorflow/python/keras/engine/training.py\u001b[0m in \u001b[0;36m_standardize_user_data\u001b[0;34m(self, x, y, sample_weight, class_weight, batch_size, check_steps, steps_name, steps, validation_split, shuffle)\u001b[0m\n\u001b[1;32m   2287\u001b[0m         \u001b[0;32melse\u001b[0m\u001b[0;34m:\u001b[0m\u001b[0;34m\u001b[0m\u001b[0;34m\u001b[0m\u001b[0m\n\u001b[1;32m   2288\u001b[0m           \u001b[0mcast_inputs\u001b[0m \u001b[0;34m=\u001b[0m \u001b[0mx\u001b[0m\u001b[0;34m\u001b[0m\u001b[0;34m\u001b[0m\u001b[0m\n\u001b[0;32m-> 2289\u001b[0;31m         \u001b[0mself\u001b[0m\u001b[0;34m.\u001b[0m\u001b[0m_set_inputs\u001b[0m\u001b[0;34m(\u001b[0m\u001b[0mcast_inputs\u001b[0m\u001b[0;34m)\u001b[0m\u001b[0;34m\u001b[0m\u001b[0;34m\u001b[0m\u001b[0m\n\u001b[0m\u001b[1;32m   2290\u001b[0m     \u001b[0;32melse\u001b[0m\u001b[0;34m:\u001b[0m\u001b[0;34m\u001b[0m\u001b[0;34m\u001b[0m\u001b[0m\n\u001b[1;32m   2291\u001b[0m       \u001b[0mdict_inputs\u001b[0m \u001b[0;34m=\u001b[0m \u001b[0misinstance\u001b[0m\u001b[0;34m(\u001b[0m\u001b[0mself\u001b[0m\u001b[0;34m.\u001b[0m\u001b[0minputs\u001b[0m\u001b[0;34m,\u001b[0m \u001b[0mdict\u001b[0m\u001b[0;34m)\u001b[0m\u001b[0;34m\u001b[0m\u001b[0;34m\u001b[0m\u001b[0m\n",
      "\u001b[0;32m/Library/Frameworks/Python.framework/Versions/3.6/lib/python3.6/site-packages/tensorflow/python/training/checkpointable/base.py\u001b[0m in \u001b[0;36m_method_wrapper\u001b[0;34m(self, *args, **kwargs)\u001b[0m\n\u001b[1;32m    440\u001b[0m     \u001b[0mself\u001b[0m\u001b[0;34m.\u001b[0m\u001b[0m_setattr_tracking\u001b[0m \u001b[0;34m=\u001b[0m \u001b[0;32mFalse\u001b[0m  \u001b[0;31m# pylint: disable=protected-access\u001b[0m\u001b[0;34m\u001b[0m\u001b[0;34m\u001b[0m\u001b[0m\n\u001b[1;32m    441\u001b[0m     \u001b[0;32mtry\u001b[0m\u001b[0;34m:\u001b[0m\u001b[0;34m\u001b[0m\u001b[0;34m\u001b[0m\u001b[0m\n\u001b[0;32m--> 442\u001b[0;31m       \u001b[0mmethod\u001b[0m\u001b[0;34m(\u001b[0m\u001b[0mself\u001b[0m\u001b[0;34m,\u001b[0m \u001b[0;34m*\u001b[0m\u001b[0margs\u001b[0m\u001b[0;34m,\u001b[0m \u001b[0;34m**\u001b[0m\u001b[0mkwargs\u001b[0m\u001b[0;34m)\u001b[0m\u001b[0;34m\u001b[0m\u001b[0;34m\u001b[0m\u001b[0m\n\u001b[0m\u001b[1;32m    443\u001b[0m     \u001b[0;32mfinally\u001b[0m\u001b[0;34m:\u001b[0m\u001b[0;34m\u001b[0m\u001b[0;34m\u001b[0m\u001b[0m\n\u001b[1;32m    444\u001b[0m       \u001b[0mself\u001b[0m\u001b[0;34m.\u001b[0m\u001b[0m_setattr_tracking\u001b[0m \u001b[0;34m=\u001b[0m \u001b[0mprevious_value\u001b[0m  \u001b[0;31m# pylint: disable=protected-access\u001b[0m\u001b[0;34m\u001b[0m\u001b[0;34m\u001b[0m\u001b[0m\n",
      "\u001b[0;32m/Library/Frameworks/Python.framework/Versions/3.6/lib/python3.6/site-packages/tensorflow/python/keras/engine/training.py\u001b[0m in \u001b[0;36m_set_inputs\u001b[0;34m(self, inputs, outputs, training)\u001b[0m\n\u001b[1;32m   2529\u001b[0m           \u001b[0moutputs\u001b[0m \u001b[0;34m=\u001b[0m \u001b[0mself\u001b[0m\u001b[0;34m.\u001b[0m\u001b[0mcall\u001b[0m\u001b[0;34m(\u001b[0m\u001b[0minputs\u001b[0m\u001b[0;34m,\u001b[0m \u001b[0mtraining\u001b[0m\u001b[0;34m=\u001b[0m\u001b[0mtraining\u001b[0m\u001b[0;34m)\u001b[0m\u001b[0;34m\u001b[0m\u001b[0;34m\u001b[0m\u001b[0m\n\u001b[1;32m   2530\u001b[0m         \u001b[0;32melse\u001b[0m\u001b[0;34m:\u001b[0m\u001b[0;34m\u001b[0m\u001b[0;34m\u001b[0m\u001b[0m\n\u001b[0;32m-> 2531\u001b[0;31m           \u001b[0moutputs\u001b[0m \u001b[0;34m=\u001b[0m \u001b[0mself\u001b[0m\u001b[0;34m.\u001b[0m\u001b[0mcall\u001b[0m\u001b[0;34m(\u001b[0m\u001b[0minputs\u001b[0m\u001b[0;34m)\u001b[0m\u001b[0;34m\u001b[0m\u001b[0;34m\u001b[0m\u001b[0m\n\u001b[0m\u001b[1;32m   2532\u001b[0m \u001b[0;34m\u001b[0m\u001b[0m\n\u001b[1;32m   2533\u001b[0m     \u001b[0moutputs\u001b[0m \u001b[0;34m=\u001b[0m \u001b[0mnest\u001b[0m\u001b[0;34m.\u001b[0m\u001b[0mflatten\u001b[0m\u001b[0;34m(\u001b[0m\u001b[0moutputs\u001b[0m\u001b[0;34m)\u001b[0m\u001b[0;34m\u001b[0m\u001b[0;34m\u001b[0m\u001b[0m\n",
      "\u001b[0;32m<ipython-input-13-aaf52d12be73>\u001b[0m in \u001b[0;36mcall\u001b[0;34m(self, x)\u001b[0m\n\u001b[1;32m     31\u001b[0m \u001b[0;34m\u001b[0m\u001b[0m\n\u001b[1;32m     32\u001b[0m     \u001b[0;32mdef\u001b[0m \u001b[0mcall\u001b[0m\u001b[0;34m(\u001b[0m\u001b[0mself\u001b[0m\u001b[0;34m,\u001b[0m \u001b[0mx\u001b[0m\u001b[0;34m)\u001b[0m\u001b[0;34m:\u001b[0m\u001b[0;34m\u001b[0m\u001b[0;34m\u001b[0m\u001b[0m\n\u001b[0;32m---> 33\u001b[0;31m         \u001b[0moutput\u001b[0m\u001b[0;34m,\u001b[0m \u001b[0mself\u001b[0m\u001b[0;34m.\u001b[0m\u001b[0mhidden\u001b[0m \u001b[0;34m=\u001b[0m \u001b[0mself\u001b[0m\u001b[0;34m.\u001b[0m\u001b[0mlstm\u001b[0m\u001b[0;34m(\u001b[0m\u001b[0mx\u001b[0m\u001b[0;34m,\u001b[0m \u001b[0mself\u001b[0m\u001b[0;34m.\u001b[0m\u001b[0mhidden\u001b[0m\u001b[0;34m)\u001b[0m\u001b[0;34m\u001b[0m\u001b[0;34m\u001b[0m\u001b[0m\n\u001b[0m\u001b[1;32m     34\u001b[0m \u001b[0;34m\u001b[0m\u001b[0m\n\u001b[1;32m     35\u001b[0m         \u001b[0mfc_input\u001b[0m \u001b[0;34m=\u001b[0m \u001b[0moutput\u001b[0m\u001b[0;34m[\u001b[0m\u001b[0;34m-\u001b[0m\u001b[0;36m1\u001b[0m\u001b[0;34m,\u001b[0m\u001b[0;34m:\u001b[0m\u001b[0;34m,\u001b[0m\u001b[0;34m:\u001b[0m\u001b[0;34m]\u001b[0m\u001b[0;34m\u001b[0m\u001b[0;34m\u001b[0m\u001b[0m\n",
      "\u001b[0;32m/Library/Frameworks/Python.framework/Versions/3.6/lib/python3.6/site-packages/tensorflow/python/framework/ops.py\u001b[0m in \u001b[0;36m__iter__\u001b[0;34m(self)\u001b[0m\n\u001b[1;32m    440\u001b[0m     \u001b[0;32mif\u001b[0m \u001b[0;32mnot\u001b[0m \u001b[0mcontext\u001b[0m\u001b[0;34m.\u001b[0m\u001b[0mexecuting_eagerly\u001b[0m\u001b[0;34m(\u001b[0m\u001b[0;34m)\u001b[0m\u001b[0;34m:\u001b[0m\u001b[0;34m\u001b[0m\u001b[0;34m\u001b[0m\u001b[0m\n\u001b[1;32m    441\u001b[0m       raise TypeError(\n\u001b[0;32m--> 442\u001b[0;31m           \u001b[0;34m\"Tensor objects are only iterable when eager execution is \"\u001b[0m\u001b[0;34m\u001b[0m\u001b[0;34m\u001b[0m\u001b[0m\n\u001b[0m\u001b[1;32m    443\u001b[0m           \"enabled. To iterate over this tensor use tf.map_fn.\")\n\u001b[1;32m    444\u001b[0m     \u001b[0mshape\u001b[0m \u001b[0;34m=\u001b[0m \u001b[0mself\u001b[0m\u001b[0;34m.\u001b[0m\u001b[0m_shape_tuple\u001b[0m\u001b[0;34m(\u001b[0m\u001b[0;34m)\u001b[0m\u001b[0;34m\u001b[0m\u001b[0;34m\u001b[0m\u001b[0m\n",
      "\u001b[0;31mTypeError\u001b[0m: Tensor objects are only iterable when eager execution is enabled. To iterate over this tensor use tf.map_fn."
     ]
    }
   ],
   "source": [
    "EPOCHS = 10\n",
    "\n",
    "for epoch in range(EPOCHS):\n",
    "    start = time.time()\n",
    "    \n",
    "    hidden = encoder.initialize_hidden_state()\n",
    "    total_loss = 0\n",
    "    \n",
    "    for (batch, (inp, targ)) in enumerate(dataset):\n",
    "        loss = 0\n",
    "        \n",
    "        with tf.GradientTape() as tape:\n",
    "            enc_output, enc_hidden = lstm(inp, hidden)\n",
    "            \n",
    "            dec_hidden = enc_hidden\n",
    "            \n",
    "            dec_input = tf.expand_dims([targ_lang.word2idx['<start>']] * BATCH_SIZE, 1)       \n",
    "            \n",
    "            # Teacher forcing - feeding the target as the next input\n",
    "            for t in range(1, targ.shape[1]):\n",
    "                # passing enc_output to the decoder\n",
    "                predictions, dec_hidden, _ = decoder(dec_input, dec_hidden, enc_output)\n",
    "                \n",
    "                loss += loss_function(targ[:, t], predictions)\n",
    "                \n",
    "                # using teacher forcing\n",
    "                dec_input = tf.expand_dims(targ[:, t], 1)\n",
    "        \n",
    "        batch_loss = (loss / int(targ.shape[1]))\n",
    "        \n",
    "        total_loss += batch_loss\n",
    "        \n",
    "        variables = encoder.variables + decoder.variables\n",
    "        \n",
    "        gradients = tape.gradient(loss, variables)\n",
    "        \n",
    "        optimizer.apply_gradients(zip(gradients, variables))\n",
    "        \n",
    "        if batch % 100 == 0:\n",
    "            print('Epoch {} Batch {} Loss {:.4f}'.format(epoch + 1,\n",
    "                                                         batch,\n",
    "                                                         batch_loss.numpy()))\n",
    "    # saving (checkpoint) the model every 2 epochs\n",
    "    if (epoch + 1) % 2 == 0:\n",
    "      checkpoint.save(file_prefix = checkpoint_prefix)\n",
    "    \n",
    "    print('Epoch {} Loss {:.4f}'.format(epoch + 1,\n",
    "                                        total_loss / N_BATCH))\n",
    "    print('Time taken for 1 epoch {} sec\\n'.format(time.time() - start))"
   ]
  },
  {
   "cell_type": "code",
   "execution_count": null,
   "metadata": {},
   "outputs": [],
   "source": [
    "model.evaluate(x_test, y_test)"
   ]
  },
  {
   "cell_type": "code",
   "execution_count": null,
   "metadata": {},
   "outputs": [],
   "source": [
    "with tf.GradientTape() as tape:\n",
    "    logits = model(images, training=True)\n",
    "    loss_value = loss(logits, labels)\n",
    "grads = tape.gradient(loss_value, model.variables)\n",
    "optimizer.apply_gradients(zip(grads, model.variables))"
   ]
  },
  {
   "cell_type": "code",
   "execution_count": null,
   "metadata": {},
   "outputs": [],
   "source": [
    "# Training(Optimizer)\n",
    "train_params = {\n",
    "    'train_loader': train_loader,\n",
    "    'val_loader': val_loader,\n",
    "    'optim': tf.train.AdamOptimizer(0.001),\n",
    "    'loss_fn': torch.nn.CrossEntropyLoss(),\n",
    "    'num_epochs': 100\n",
    "}\n",
    "\n",
    "train(model, **train_params)"
   ]
  },
  {
   "cell_type": "code",
   "execution_count": null,
   "metadata": {},
   "outputs": [],
   "source": [
    "sess.run(iterator.initializer, feed_dict={features_placeholder: features, labels_placeholder: labels})"
   ]
  },
  {
   "cell_type": "code",
   "execution_count": 58,
   "metadata": {
    "colab": {},
    "colab_type": "code",
    "id": "_-Yq05qsDrm9"
   },
   "outputs": [],
   "source": [
    "#####################\n",
    "# Build model\n",
    "#####################\n",
    "\n",
    "class LSTM(nn.Module):\n",
    "    def __init__(self, input_dim, hidden_dim, output_dim_pitch, output_dim_duration, num_layers=1, dropout=0.5):\n",
    "        super(LSTM, self).__init__()\n",
    "        self.input_dim = input_dim\n",
    "        self.hidden_dim = hidden_dim\n",
    "        self.output_dim_pitch = output_dim_pitch\n",
    "        self.output_dim_duration = output_dim_duration\n",
    "        self.num_layers = num_layers\n",
    "        self.hidden = self.init_hidden(batch_size)\n",
    "\n",
    "        self.lstm = nn.LSTM(\n",
    "            input_size=self.input_dim,\n",
    "            hidden_size=self.hidden_dim,\n",
    "            num_layers=self.num_layers,\n",
    "            batch_first=False,\n",
    "            dropout=dropout\n",
    "        )\n",
    "        \n",
    "        self.bn2 = nn.BatchNorm1d(self.hidden_dim)\n",
    "        \n",
    "        self.linear_pitch = nn.Linear(self.hidden_dim, self.output_dim_pitch)\n",
    "        self.linear_duration = nn.Linear(self.hidden_dim, self.output_dim_duration)\n",
    "        \n",
    "        \n",
    "        print(\"Nr. of params:\", self.get_nr_params())\n",
    "    \n",
    "    def get_nr_params(self):\n",
    "        model_parameters = filter(lambda p: p.requires_grad, self.parameters())\n",
    "        params = sum([np.prod(p.size()) for p in model_parameters])\n",
    "        return params\n",
    "\n",
    "    def init_hidden(self, batch_size):\n",
    "        return (torch.zeros(self.num_layers, batch_size, self.hidden_dim).to(device),\n",
    "                torch.zeros(self.num_layers, batch_size, self.hidden_dim).to(device))\n",
    "\n",
    "    def forward(self, x):\n",
    "        lstm_out, self.hidden = self.lstm(x.permute(1,0,2), self.hidden)\n",
    "        \n",
    "        # Only take the output from the final timetep\n",
    "        fc_input = lstm_out[-1,:,:].contiguous()\n",
    "        #fc_input = self.bn2(lstm_out[:,-1,:])\n",
    "\n",
    "        \n",
    "        pitch = self.linear_pitch(fc_input)\n",
    "        duration = self.linear_duration(fc_input)\n",
    "        # log_probs = F.log_softmax(y_pred,dim=1) # crossentropy is already with softmax\n",
    "        return pitch, duration\n",
    "\n",
    "def train(model, train_loader, val_loader, optim, loss_fn, num_epochs=100):\n",
    "\n",
    "    hist = np.zeros(num_epochs)\n",
    "\n",
    "    def clip_gradient(model, clip_value):\n",
    "        params = list(filter(lambda p: p.grad is not None, model.parameters()))\n",
    "        for p in params:\n",
    "            p.grad.data.clamp_(-clip_value, clip_value)\n",
    "\n",
    "    starttime = time.time()\n",
    "    for t in range(num_epochs):\n",
    "        loss_curr = 0\n",
    "        for i, (inputs, labels) in enumerate(train_loader):\n",
    "            inputs, labels = inputs.to(device), labels.to(device)\n",
    "\n",
    "            batch_size = inputs.size(0)\n",
    "            model.hidden = model.init_hidden(batch_size)\n",
    "\n",
    "            optim.zero_grad()\n",
    "            pitch, duration = model(inputs.float())\n",
    "\n",
    "            loss_pitch = loss_fn(pitch, labels[:,0].long())\n",
    "            loss_duration = loss_fn(duration, labels[:,1].long())\n",
    "\n",
    "            loss = loss_pitch + loss_duration\n",
    "\n",
    "            loss.backward()\n",
    "            clip_gradient(model, 1)\n",
    "            optim.step()\n",
    "\n",
    "            loss_curr = loss_curr + loss.item()\n",
    "\n",
    "        hist[t] = loss_curr\n",
    "        if t%10==0:\n",
    "            notes = t%50==0\n",
    "            acc_train, dacc_train, hacc_train = evaluation(model, train_loader, notes)\n",
    "            acc_val, dacc_val, hacc_val = evaluation(model, val_loader, notes=False)\n",
    "            print('Epoch: ',t,'/',num_epochs,'in', np.round(time.time()-starttime,2),'s',\\\n",
    "                  \"loss: \", np.round(hist[t], 4), \"acc_train: \", np.round(acc_train,2), \"acc_val: \", np.round(acc_val,2))\n",
    "            print(\"loss: \", np.round(hist[t], 4), \"dacc_train: \", np.round(dacc_train,2), \"dacc_val: \", np.round(dacc_val,2), \\\n",
    "            \"hacc_train: \", np.round(hacc_train,2), \"hacc_val: \", np.round(hacc_val,2))\n",
    "        \n",
    "        if acc_train >= 90:\n",
    "            print(\"finishing training at acc_train > 90\")\n",
    "            break\n",
    "    plt.plot(hist, label=\"Training loss\")\n",
    "    plt.legend()\n",
    "    plt.show()\n",
    "    \n",
    "\n",
    "def evaluation(model, loader, notes=False):\n",
    "    model.eval()\n",
    "    correct, total, dcorrect, dtotal = 0,0,0,0 \n",
    "    hcorrect, htotal = 0,0\n",
    "    for i, (inputs, labels) in enumerate(loader):\n",
    "        inputs, labels = inputs.to(device), labels.to(device)\n",
    "\n",
    "        batch_size = inputs.size(0)\n",
    "        model.hidden = model.init_hidden(batch_size)\n",
    "\n",
    "        pitch, duration = model(inputs.float())\n",
    "        \n",
    "        _, predicted = torch.max(pitch.data, 1)\n",
    "        total += labels[:,0].size(0) \n",
    "        correct += (predicted == labels[:,0].long()).sum().item()\n",
    "        \n",
    "        _, dpredicted = torch.max(duration.data, 1)\n",
    "        dtotal += labels[:,1].size(0) \n",
    "        dcorrect += (dpredicted == labels[:,1].long()).sum().item()\n",
    "        \n",
    "        # Indicator: check if pitch are in harmony of currchord OR nextchord\n",
    "        \"\"\"\n",
    "        predicted = predicted.cpu()\n",
    "        batches = np.where(predicted < MELODY-1)[0]\n",
    "        checker = predicted[batches]\n",
    "        check = inputs[-1,batches,inputs.shape[-1]-24:-12] #only works if melodyEncoding configured accordingly\n",
    "        check2 = inputs[-1,batches,inputs.shape[-1]-12:] # dim (batches,12)\n",
    "        check = check+check2\n",
    "        for i in range(batches.shape[0]):\n",
    "            if check[i,checker[i] % 12] > 1:\n",
    "                hcorrect += 1 \n",
    "            htotal += 1\n",
    "            \"\"\"\n",
    "            \n",
    "        \n",
    "        if notes and i == 0:\n",
    "            print(predicted)\n",
    "            print(labels[:,0])\n",
    "            \n",
    "    \n",
    "    acc = int(100 * correct / total)\n",
    "    dacc = int(100 * dcorrect / dtotal)\n",
    "    hacc = 0 # int(100 * hcorrect / htotal)\n",
    "    model.train()\n",
    "    return acc, dacc, hacc"
   ]
  },
  {
   "cell_type": "markdown",
   "metadata": {
    "colab_type": "text",
    "id": "TFFF5j5ADrm_"
   },
   "source": [
    "### Training: we need 3 things: \n",
    "- Data(loader), \n",
    "- Model, \n",
    "- Optimization(Training)"
   ]
  },
  {
   "cell_type": "code",
   "execution_count": 59,
   "metadata": {
    "colab": {
     "base_uri": "https://localhost:8080/",
     "height": 136
    },
    "colab_type": "code",
    "executionInfo": {
     "elapsed": 625,
     "status": "ok",
     "timestamp": 1559138293189,
     "user": {
      "displayName": "Paddy Wilson",
      "photoUrl": "https://lh3.googleusercontent.com/-Lq7fKfmUlNg/AAAAAAAAAAI/AAAAAAAACRI/cFf3IdBdoQA/s64/photo.jpg",
      "userId": "00502307669733282628"
     },
     "user_tz": -120
    },
    "id": "74kfvDaCDrnA",
    "outputId": "7e68935c-3bb3-41d7-c805-a80c3131d5a1"
   },
   "outputs": [
    {
     "name": "stdout",
     "output_type": "stream",
     "text": [
      "Nr. of params: 86805\n"
     ]
    },
    {
     "data": {
      "text/plain": [
       "LSTM(\n",
       "  (lstm): LSTM(121, 64, num_layers=2, dropout=0.5)\n",
       "  (bn2): BatchNorm1d(64, eps=1e-05, momentum=0.1, affine=True, track_running_stats=True)\n",
       "  (linear_pitch): Linear(in_features=64, out_features=37, bias=True)\n",
       "  (linear_duration): Linear(in_features=64, out_features=48, bias=True)\n",
       ")"
      ]
     },
     "execution_count": 59,
     "metadata": {},
     "output_type": "execute_result"
    }
   ],
   "source": [
    "# Data(loader)\n",
    "batch_size = 32\n",
    "train_loader = getDataLoader(train_data, train_labels, batch_size, sample=True)\n",
    "val_loader = getDataLoader(train_data, train_labels, batch_size, shuffle=False)\n",
    "\n",
    "# Model\n",
    "model_params = {\n",
    "    'input_dim': train_data.shape[-1],\n",
    "    'hidden_dim': 64,\n",
    "    'num_layers': 2,\n",
    "    'output_dim_pitch': MELODY,\n",
    "    'output_dim_duration': TIMES\n",
    "}\n",
    "\n",
    "model = LSTM(**model_params)\n",
    "model.to(device)"
   ]
  },
  {
   "cell_type": "code",
   "execution_count": 60,
   "metadata": {
    "colab": {
     "base_uri": "https://localhost:8080/",
     "height": 813
    },
    "colab_type": "code",
    "executionInfo": {
     "elapsed": 45131,
     "status": "ok",
     "timestamp": 1559138338038,
     "user": {
      "displayName": "Paddy Wilson",
      "photoUrl": "https://lh3.googleusercontent.com/-Lq7fKfmUlNg/AAAAAAAAAAI/AAAAAAAACRI/cFf3IdBdoQA/s64/photo.jpg",
      "userId": "00502307669733282628"
     },
     "user_tz": -120
    },
    "id": "A8waYTcPDrnG",
    "outputId": "5f5b4d95-097c-4cfe-ac47-deac03352ba9",
    "scrolled": true
   },
   "outputs": [
    {
     "name": "stdout",
     "output_type": "stream",
     "text": [
      "tensor([8, 8, 8, 8, 8, 8, 8, 8, 8, 8, 8, 8, 8, 8, 8, 8, 8, 8, 8, 8, 8, 8, 8, 8,\n",
      "        8, 8, 8, 8, 8, 8, 8, 8])\n",
      "tensor([ 1,  3, 11,  3,  6,  8,  8,  8,  4,  1,  4,  1,  3,  8,  8,  8,  1,  8,\n",
      "         8,  1,  6,  7,  6,  8,  1,  3,  8, 11,  4,  8,  8,  8])\n",
      "Epoch:  0 / 100 in 1.69 s loss:  177.6351 acc_train:  44 acc_val:  18\n",
      "loss:  177.6351 dacc_train:  31 dacc_val:  6 hacc_train:  0 hacc_val:  0\n",
      "Epoch:  10 / 100 in 12.08 s loss:  52.7901 acc_train:  49 acc_val:  23\n",
      "loss:  52.7901 dacc_train:  73 dacc_val:  90 hacc_train:  0 hacc_val:  0\n"
     ]
    },
    {
     "ename": "KeyboardInterrupt",
     "evalue": "",
     "output_type": "error",
     "traceback": [
      "\u001b[0;31m---------------------------------------------------------------------------\u001b[0m",
      "\u001b[0;31mKeyboardInterrupt\u001b[0m                         Traceback (most recent call last)",
      "\u001b[0;32m<ipython-input-60-84e0d3f560f7>\u001b[0m in \u001b[0;36m<module>\u001b[0;34m\u001b[0m\n\u001b[1;32m      9\u001b[0m }\n\u001b[1;32m     10\u001b[0m \u001b[0;34m\u001b[0m\u001b[0m\n\u001b[0;32m---> 11\u001b[0;31m \u001b[0mtrain\u001b[0m\u001b[0;34m(\u001b[0m\u001b[0mmodel\u001b[0m\u001b[0;34m,\u001b[0m \u001b[0;34m**\u001b[0m\u001b[0mtrain_params\u001b[0m\u001b[0;34m)\u001b[0m\u001b[0;34m\u001b[0m\u001b[0;34m\u001b[0m\u001b[0m\n\u001b[0m",
      "\u001b[0;32m<ipython-input-58-9bde82b50e63>\u001b[0m in \u001b[0;36mtrain\u001b[0;34m(model, train_loader, val_loader, optim, loss_fn, num_epochs)\u001b[0m\n\u001b[1;32m     77\u001b[0m             \u001b[0mloss\u001b[0m \u001b[0;34m=\u001b[0m \u001b[0mloss_pitch\u001b[0m \u001b[0;34m+\u001b[0m \u001b[0mloss_duration\u001b[0m\u001b[0;34m\u001b[0m\u001b[0;34m\u001b[0m\u001b[0m\n\u001b[1;32m     78\u001b[0m \u001b[0;34m\u001b[0m\u001b[0m\n\u001b[0;32m---> 79\u001b[0;31m             \u001b[0mloss\u001b[0m\u001b[0;34m.\u001b[0m\u001b[0mbackward\u001b[0m\u001b[0;34m(\u001b[0m\u001b[0;34m)\u001b[0m\u001b[0;34m\u001b[0m\u001b[0;34m\u001b[0m\u001b[0m\n\u001b[0m\u001b[1;32m     80\u001b[0m             \u001b[0mclip_gradient\u001b[0m\u001b[0;34m(\u001b[0m\u001b[0mmodel\u001b[0m\u001b[0;34m,\u001b[0m \u001b[0;36m1\u001b[0m\u001b[0;34m)\u001b[0m\u001b[0;34m\u001b[0m\u001b[0;34m\u001b[0m\u001b[0m\n\u001b[1;32m     81\u001b[0m             \u001b[0moptim\u001b[0m\u001b[0;34m.\u001b[0m\u001b[0mstep\u001b[0m\u001b[0;34m(\u001b[0m\u001b[0;34m)\u001b[0m\u001b[0;34m\u001b[0m\u001b[0;34m\u001b[0m\u001b[0m\n",
      "\u001b[0;32m/Library/Frameworks/Python.framework/Versions/3.6/lib/python3.6/site-packages/torch/tensor.py\u001b[0m in \u001b[0;36mbackward\u001b[0;34m(self, gradient, retain_graph, create_graph)\u001b[0m\n\u001b[1;32m    100\u001b[0m                 \u001b[0mproducts\u001b[0m\u001b[0;34m.\u001b[0m \u001b[0mDefaults\u001b[0m \u001b[0mto\u001b[0m\u001b[0;31m \u001b[0m\u001b[0;31m`\u001b[0m\u001b[0;31m`\u001b[0m\u001b[0;32mFalse\u001b[0m\u001b[0;31m`\u001b[0m\u001b[0;31m`\u001b[0m\u001b[0;34m.\u001b[0m\u001b[0;34m\u001b[0m\u001b[0;34m\u001b[0m\u001b[0m\n\u001b[1;32m    101\u001b[0m         \"\"\"\n\u001b[0;32m--> 102\u001b[0;31m         \u001b[0mtorch\u001b[0m\u001b[0;34m.\u001b[0m\u001b[0mautograd\u001b[0m\u001b[0;34m.\u001b[0m\u001b[0mbackward\u001b[0m\u001b[0;34m(\u001b[0m\u001b[0mself\u001b[0m\u001b[0;34m,\u001b[0m \u001b[0mgradient\u001b[0m\u001b[0;34m,\u001b[0m \u001b[0mretain_graph\u001b[0m\u001b[0;34m,\u001b[0m \u001b[0mcreate_graph\u001b[0m\u001b[0;34m)\u001b[0m\u001b[0;34m\u001b[0m\u001b[0;34m\u001b[0m\u001b[0m\n\u001b[0m\u001b[1;32m    103\u001b[0m \u001b[0;34m\u001b[0m\u001b[0m\n\u001b[1;32m    104\u001b[0m     \u001b[0;32mdef\u001b[0m \u001b[0mregister_hook\u001b[0m\u001b[0;34m(\u001b[0m\u001b[0mself\u001b[0m\u001b[0;34m,\u001b[0m \u001b[0mhook\u001b[0m\u001b[0;34m)\u001b[0m\u001b[0;34m:\u001b[0m\u001b[0;34m\u001b[0m\u001b[0;34m\u001b[0m\u001b[0m\n",
      "\u001b[0;32m/Library/Frameworks/Python.framework/Versions/3.6/lib/python3.6/site-packages/torch/autograd/__init__.py\u001b[0m in \u001b[0;36mbackward\u001b[0;34m(tensors, grad_tensors, retain_graph, create_graph, grad_variables)\u001b[0m\n\u001b[1;32m     88\u001b[0m     Variable._execution_engine.run_backward(\n\u001b[1;32m     89\u001b[0m         \u001b[0mtensors\u001b[0m\u001b[0;34m,\u001b[0m \u001b[0mgrad_tensors\u001b[0m\u001b[0;34m,\u001b[0m \u001b[0mretain_graph\u001b[0m\u001b[0;34m,\u001b[0m \u001b[0mcreate_graph\u001b[0m\u001b[0;34m,\u001b[0m\u001b[0;34m\u001b[0m\u001b[0;34m\u001b[0m\u001b[0m\n\u001b[0;32m---> 90\u001b[0;31m         allow_unreachable=True)  # allow_unreachable flag\n\u001b[0m\u001b[1;32m     91\u001b[0m \u001b[0;34m\u001b[0m\u001b[0m\n\u001b[1;32m     92\u001b[0m \u001b[0;34m\u001b[0m\u001b[0m\n",
      "\u001b[0;31mKeyboardInterrupt\u001b[0m: "
     ]
    }
   ],
   "source": [
    "# Training(Optimizer)\n",
    "train_params = {\n",
    "    'train_loader': train_loader,\n",
    "    'val_loader': val_loader,\n",
    "    'optim': torch.optim.Adam(model.parameters(), lr=1e-3),\n",
    "    #optim: torch.optim.SGD(model.parameters(), lr=1e-3, momentum=0.9),\n",
    "    'loss_fn': torch.nn.CrossEntropyLoss(),\n",
    "    'num_epochs': 100\n",
    "}\n",
    "\n",
    "train(model, **train_params)"
   ]
  },
  {
   "cell_type": "code",
   "execution_count": 0,
   "metadata": {
    "colab": {},
    "colab_type": "code",
    "id": "jAj_Z8VpDrnK"
   },
   "outputs": [],
   "source": [
    "torch.save(model.state_dict(), 'weights/model'+datetime.datetime.now().strftime(\"%Y-%m-%d%H:%M:%S\")+'.pt')"
   ]
  },
  {
   "cell_type": "code",
   "execution_count": 0,
   "metadata": {
    "colab": {},
    "colab_type": "code",
    "id": "zLWgx6pqDrnO"
   },
   "outputs": [],
   "source": [
    "torch.save(model.state_dict(), 'weights/modelbig1'+'.pt')"
   ]
  },
  {
   "cell_type": "code",
   "execution_count": 17,
   "metadata": {
    "colab": {
     "base_uri": "https://localhost:8080/",
     "height": 34
    },
    "colab_type": "code",
    "executionInfo": {
     "elapsed": 816,
     "status": "ok",
     "timestamp": 1559131622854,
     "user": {
      "displayName": "Paddy Wilson",
      "photoUrl": "https://lh3.googleusercontent.com/-Lq7fKfmUlNg/AAAAAAAAAAI/AAAAAAAACRI/cFf3IdBdoQA/s64/photo.jpg",
      "userId": "00502307669733282628"
     },
     "user_tz": -120
    },
    "id": "UEP8HZRADrnR",
    "outputId": "95dccec1-ca08-4f4f-910d-2c50352b7a89"
   },
   "outputs": [
    {
     "data": {
      "text/plain": [
       "IncompatibleKeys(missing_keys=[], unexpected_keys=[])"
      ]
     },
     "execution_count": 17,
     "metadata": {
      "tags": []
     },
     "output_type": "execute_result"
    }
   ],
   "source": [
    "model.load_state_dict(torch.load('weights/modelbig1'+'.pt'))"
   ]
  },
  {
   "cell_type": "code",
   "execution_count": 23,
   "metadata": {
    "colab": {
     "base_uri": "https://localhost:8080/",
     "height": 241
    },
    "colab_type": "code",
    "executionInfo": {
     "elapsed": 8318,
     "status": "ok",
     "timestamp": 1559131719214,
     "user": {
      "displayName": "Paddy Wilson",
      "photoUrl": "https://lh3.googleusercontent.com/-Lq7fKfmUlNg/AAAAAAAAAAI/AAAAAAAACRI/cFf3IdBdoQA/s64/photo.jpg",
      "userId": "00502307669733282628"
     },
     "user_tz": -120
    },
    "id": "-IojGngefcl1",
    "outputId": "6eef2c31-edc2-497d-98d3-62ed8d550038"
   },
   "outputs": [
    {
     "name": "stdout",
     "output_type": "stream",
     "text": [
      "Collecting onnx\n",
      "\u001b[?25l  Downloading https://files.pythonhosted.org/packages/88/50/e4a5a869093f35884d1fd95b46b24705ab27adb7e562a2a307523c043be3/onnx-1.5.0-cp36-cp36m-manylinux1_x86_64.whl (7.0MB)\n",
      "\u001b[K     |████████████████████████████████| 7.1MB 2.8MB/s \n",
      "\u001b[?25hRequirement already satisfied: six in /usr/local/lib/python3.6/dist-packages (from onnx) (1.12.0)\n",
      "Requirement already satisfied: typing>=3.6.4 in /usr/local/lib/python3.6/dist-packages (from onnx) (3.6.6)\n",
      "Requirement already satisfied: numpy in /usr/local/lib/python3.6/dist-packages (from onnx) (1.16.3)\n",
      "Collecting typing-extensions>=3.6.2.1 (from onnx)\n",
      "  Downloading https://files.pythonhosted.org/packages/0f/62/c66e553258c37c33f9939abb2dd8d2481803d860ff68e635466f12aa7efa/typing_extensions-3.7.2-py3-none-any.whl\n",
      "Requirement already satisfied: protobuf in /usr/local/lib/python3.6/dist-packages (from onnx) (3.7.1)\n",
      "Requirement already satisfied: setuptools in /usr/local/lib/python3.6/dist-packages (from protobuf->onnx) (41.0.1)\n",
      "Installing collected packages: typing-extensions, onnx\n",
      "Successfully installed onnx-1.5.0 typing-extensions-3.7.2\n"
     ]
    }
   ],
   "source": [
    "!pip install onnx"
   ]
  },
  {
   "cell_type": "code",
   "execution_count": 44,
   "metadata": {
    "colab": {},
    "colab_type": "code",
    "id": "BAzFb-lIe7x5"
   },
   "outputs": [],
   "source": [
    "import onnx\n",
    "import torch.onnx\n",
    "\n",
    "with torch.no_grad():\n",
    "\n",
    "    model.hidden = model.init_hidden(1)\n",
    "\n",
    "    dummy_input = torch.randn(np.expand_dims(train_data[0],0).shape).to(device)\n",
    "\n",
    "    torch.onnx.export(model, dummy_input, 'weights/modelbig1.onnx')"
   ]
  },
  {
   "cell_type": "code",
   "execution_count": 45,
   "metadata": {
    "colab": {
     "base_uri": "https://localhost:8080/",
     "height": 1853
    },
    "colab_type": "code",
    "executionInfo": {
     "elapsed": 480,
     "status": "ok",
     "timestamp": 1559138828966,
     "user": {
      "displayName": "Paddy Wilson",
      "photoUrl": "https://lh3.googleusercontent.com/-Lq7fKfmUlNg/AAAAAAAAAAI/AAAAAAAACRI/cFf3IdBdoQA/s64/photo.jpg",
      "userId": "00502307669733282628"
     },
     "user_tz": -120
    },
    "id": "FWq8Svg4e8iA",
    "outputId": "147ee947-cef0-4718-f34e-f52fbd09d313"
   },
   "outputs": [
    {
     "name": "stdout",
     "output_type": "stream",
     "text": [
      "graph torch-jit-export (\n",
      "  %0[FLOAT, 1x16x121]\n",
      ") initializers (\n",
      "  %1[FLOAT, 256x121]\n",
      "  %2[FLOAT, 256x64]\n",
      "  %3[FLOAT, 256]\n",
      "  %4[FLOAT, 256]\n",
      "  %5[FLOAT, 256x64]\n",
      "  %6[FLOAT, 256x64]\n",
      "  %7[FLOAT, 256]\n",
      "  %8[FLOAT, 256]\n",
      "  %9[FLOAT, 64]\n",
      "  %10[FLOAT, 64]\n",
      "  %11[FLOAT, 64]\n",
      "  %12[FLOAT, 64]\n",
      "  %13[INT64, scalar]\n",
      "  %14[FLOAT, 37x64]\n",
      "  %15[FLOAT, 37]\n",
      "  %16[FLOAT, 48x64]\n",
      "  %17[FLOAT, 48]\n",
      ") {\n",
      "  %18 = Transpose[perm = [1, 0, 2]](%0)\n",
      "  %20 = Slice[axes = [0], ends = [64], starts = [0]](%1)\n",
      "  %21 = Slice[axes = [0], ends = [256], starts = [192]](%1)\n",
      "  %22 = Slice[axes = [0], ends = [192], starts = [64]](%1)\n",
      "  %23 = Concat[axis = 0](%20, %21, %22)\n",
      "  %24 = Slice[axes = [0], ends = [64], starts = [0]](%2)\n",
      "  %25 = Slice[axes = [0], ends = [256], starts = [192]](%2)\n",
      "  %26 = Slice[axes = [0], ends = [192], starts = [64]](%2)\n",
      "  %27 = Concat[axis = 0](%24, %25, %26)\n",
      "  %28 = Slice[axes = [0], ends = [64], starts = [0]](%3)\n",
      "  %29 = Slice[axes = [0], ends = [256], starts = [192]](%3)\n",
      "  %30 = Slice[axes = [0], ends = [192], starts = [64]](%3)\n",
      "  %31 = Concat[axis = 0](%28, %29, %30)\n",
      "  %32 = Slice[axes = [0], ends = [64], starts = [0]](%4)\n",
      "  %33 = Slice[axes = [0], ends = [256], starts = [192]](%4)\n",
      "  %34 = Slice[axes = [0], ends = [192], starts = [64]](%4)\n",
      "  %35 = Concat[axis = 0](%32, %33, %34)\n",
      "  %36 = Concat[axis = 0](%31, %35)\n",
      "  %37 = Unsqueeze[axes = [0]](%23)\n",
      "  %38 = Unsqueeze[axes = [0]](%27)\n",
      "  %39 = Unsqueeze[axes = [0]](%36)\n",
      "  %40 = Shape(%18)\n",
      "  %41 = Constant[value = <Scalar Tensor []>]()\n",
      "  %42 = Gather(%40, %41)\n",
      "  %43 = Unsqueeze[axes = [0]](%42)\n",
      "  %44 = Constant[value = <Tensor>]()\n",
      "  %45 = Constant[value = <Scalar Tensor []>]()\n",
      "  %46 = Unsqueeze[axes = [0]](%45)\n",
      "  %47 = Concat[axis = 0](%46, %43, %44)\n",
      "  %48 = ConstantFill[input_as_shape = 1](%47)\n",
      "  %49 = Shape(%18)\n",
      "  %50 = Constant[value = <Scalar Tensor []>]()\n",
      "  %51 = Gather(%49, %50)\n",
      "  %52 = Unsqueeze[axes = [0]](%51)\n",
      "  %53 = Constant[value = <Tensor>]()\n",
      "  %54 = Constant[value = <Scalar Tensor []>]()\n",
      "  %55 = Unsqueeze[axes = [0]](%54)\n",
      "  %56 = Concat[axis = 0](%55, %52, %53)\n",
      "  %57 = ConstantFill[input_as_shape = 1](%56)\n",
      "  %58, %59, %60 = LSTM[hidden_size = 64](%18, %37, %38, %39, %, %48, %57)\n",
      "  %61 = Squeeze[axes = [1]](%58)\n",
      "  %62 = Slice[axes = [0], ends = [64], starts = [0]](%5)\n",
      "  %63 = Slice[axes = [0], ends = [256], starts = [192]](%5)\n",
      "  %64 = Slice[axes = [0], ends = [192], starts = [64]](%5)\n",
      "  %65 = Concat[axis = 0](%62, %63, %64)\n",
      "  %66 = Slice[axes = [0], ends = [64], starts = [0]](%6)\n",
      "  %67 = Slice[axes = [0], ends = [256], starts = [192]](%6)\n",
      "  %68 = Slice[axes = [0], ends = [192], starts = [64]](%6)\n",
      "  %69 = Concat[axis = 0](%66, %67, %68)\n",
      "  %70 = Slice[axes = [0], ends = [64], starts = [0]](%7)\n",
      "  %71 = Slice[axes = [0], ends = [256], starts = [192]](%7)\n",
      "  %72 = Slice[axes = [0], ends = [192], starts = [64]](%7)\n",
      "  %73 = Concat[axis = 0](%70, %71, %72)\n",
      "  %74 = Slice[axes = [0], ends = [64], starts = [0]](%8)\n",
      "  %75 = Slice[axes = [0], ends = [256], starts = [192]](%8)\n",
      "  %76 = Slice[axes = [0], ends = [192], starts = [64]](%8)\n",
      "  %77 = Concat[axis = 0](%74, %75, %76)\n",
      "  %78 = Concat[axis = 0](%73, %77)\n",
      "  %79 = Unsqueeze[axes = [0]](%65)\n",
      "  %80 = Unsqueeze[axes = [0]](%69)\n",
      "  %81 = Unsqueeze[axes = [0]](%78)\n",
      "  %82 = Shape(%61)\n",
      "  %83 = Constant[value = <Scalar Tensor []>]()\n",
      "  %84 = Gather(%82, %83)\n",
      "  %85 = Unsqueeze[axes = [0]](%84)\n",
      "  %86 = Constant[value = <Tensor>]()\n",
      "  %87 = Constant[value = <Scalar Tensor []>]()\n",
      "  %88 = Unsqueeze[axes = [0]](%87)\n",
      "  %89 = Concat[axis = 0](%88, %85, %86)\n",
      "  %90 = ConstantFill[input_as_shape = 1](%89)\n",
      "  %91 = Shape(%61)\n",
      "  %92 = Constant[value = <Scalar Tensor []>]()\n",
      "  %93 = Gather(%91, %92)\n",
      "  %94 = Unsqueeze[axes = [0]](%93)\n",
      "  %95 = Constant[value = <Tensor>]()\n",
      "  %96 = Constant[value = <Scalar Tensor []>]()\n",
      "  %97 = Unsqueeze[axes = [0]](%96)\n",
      "  %98 = Concat[axis = 0](%97, %94, %95)\n",
      "  %99 = ConstantFill[input_as_shape = 1](%98)\n",
      "  %100, %101, %102 = LSTM[hidden_size = 64](%61, %79, %80, %81, %, %90, %99)\n",
      "  %103 = Squeeze[axes = [1]](%100)\n",
      "  %104 = Constant[value = <Scalar Tensor []>]()\n",
      "  %105 = Gather[axis = 0](%103, %104)\n",
      "  %106 = Slice[axes = [0], ends = [9223372036854775807], starts = [0]](%105)\n",
      "  %107 = Slice[axes = [1], ends = [9223372036854775807], starts = [0]](%106)\n",
      "  %108 = Gemm[alpha = 1, beta = 1, transB = 1](%107, %14, %15)\n",
      "  %109 = Gemm[alpha = 1, beta = 1, transB = 1](%107, %16, %17)\n",
      "  return %108, %109\n",
      "}\n"
     ]
    }
   ],
   "source": [
    "import onnx\n",
    "\n",
    "# Load the ONNX model\n",
    "modelload = onnx.load(\"weights/modelbig1.onnx\")\n",
    "\n",
    "# Check that the IR is well formed\n",
    "onnx.checker.check_model(modelload)\n",
    "\n",
    "# Print a human readable representation of the graph\n",
    "print(onnx.helper.printable_graph(modelload.graph))"
   ]
  },
  {
   "cell_type": "markdown",
   "metadata": {
    "colab_type": "text",
    "id": "iyK7IZAXDrnX"
   },
   "source": [
    "# Test Framework"
   ]
  },
  {
   "cell_type": "code",
   "execution_count": 0,
   "metadata": {
    "colab": {},
    "colab_type": "code",
    "id": "56ENduBtDrnX"
   },
   "outputs": [],
   "source": [
    "# read test midi file ignore labels and get output from network\n",
    "# create midi file with input midi and prediction from network\n",
    "# simply read midi here to see how it sounds + plot\n",
    "\n",
    "def writeMidi(notes, times, file, originalfile, tempo=120, resolution=12):\n",
    "    pm = pretty_midi.PrettyMIDI(resolution=resolution, initial_tempo=tempo)\n",
    "    pminst = pretty_midi.Instrument(program=0)\n",
    "    currtime = 0\n",
    "    for i, note in enumerate(notes):\n",
    "        if note != MELODY-1:\n",
    "            pitch = note+LOW\n",
    "            start = pm.tick_to_time(int(currtime))\n",
    "            end = pm.tick_to_time(int(currtime+times[i]))\n",
    "            if end > start:\n",
    "                pmnote = pretty_midi.Note(velocity=100, pitch = pitch, start=start, end=end)\n",
    "                pminst.notes.append(pmnote)\n",
    "        currtime += times[i]+1\n",
    "    pm.instruments.append(pminst)\n",
    "    \n",
    "    #get original chords from file\n",
    "    ogpm = pretty_midi.PrettyMIDI(originalfile)\n",
    "    originalchords = pretty_midi.Instrument(program=0)\n",
    "    originalnotes = getMelodyAndHarmony(originalfile)['harmony']\n",
    "    for i, note in enumerate(originalnotes):\n",
    "        old = ogpm.time_to_tick(note.start)\n",
    "        start = pm.tick_to_time(int(ogpm.time_to_tick(note.start)/ogpm.resolution*pm.resolution))\n",
    "        end = pm.tick_to_time(int(ogpm.time_to_tick(note.end)/ogpm.resolution*pm.resolution))\n",
    "        originalchords.notes.append(pretty_midi.Note(velocity=50, pitch=note.pitch, start=start, end=end))\n",
    "    pm.instruments.append(originalchords)\n",
    "\n",
    "    pm.write(file)\n",
    "    return pm\n",
    "\n",
    "\n",
    "# legacy\n",
    "def getPredictedNotes(notes, times, chords):\n",
    "    test_data, test_labels = getInputSequences(notes,times,chords,encodingDict)\n",
    "    \n",
    "    test_loader = getDataLoader(test_data,test_labels, batch_size=32, shuffle=False)\n",
    "    \n",
    "    predicted_notes = np.empty(0)\n",
    "    predicted_durations = np.empty(0)\n",
    "    model.eval()\n",
    "    for i, (inputs, labels) in enumerate(test_loader):\n",
    "        inputs, labels = inputs.to(device), labels.to(device)\n",
    "\n",
    "        batch_size = inputs.size(0)\n",
    "        model.hidden = model.init_hidden(batch_size)\n",
    "\n",
    "        pitch, duration = model(inputs.float())\n",
    "\n",
    "        _, pred_pitch = torch.max(pitch.data, 1)\n",
    "        _, pred_duration = torch.max(duration.data, 1)\n",
    "        predicted_notes = np.concatenate((predicted_notes,pred_pitch.detach().numpy()))\n",
    "        predicted_durations = np.concatenate((predicted_durations, pred_duration.detach().numpy()))\n",
    "    return predicted_notes, predicted_durations\n",
    "\n",
    "def plot_piano_roll(pm, start_pitch, end_pitch, fs=100):\n",
    "    librosa.display.specshow(pm.get_piano_roll(fs)[start_pitch:end_pitch],\n",
    "                             hop_length=1, sr=fs, x_axis='time', y_axis='cqt_note',\n",
    "                             fmin=pretty_midi.note_number_to_hz(start_pitch))\n",
    "     \n",
    "    \n",
    "def tradeFour(notes, times, chords, chordsByBeat):\n",
    "    predicted_notes, predicted_durations = [], []\n",
    "    mel_len=16+1 # wegen nextChord\n",
    "\n",
    "    notesnew = np.array(notes[-mel_len:])\n",
    "    timesnew = np.array(times[-mel_len:])\n",
    "    chordsnew = np.array(chords[-mel_len:])\n",
    "\n",
    "    currentbeat = 0\n",
    "    currenttime = 0\n",
    "    while sum(predicted_durations) < 4*TIMES:\n",
    "        feat = getFeatureVectors(notesnew, timesnew, chordsnew, encodingDict)\n",
    "        feat = torch.Tensor(feat).unsqueeze(0).to(device)\n",
    "\n",
    "        model.hidden = model.init_hidden(feat.size(0))\n",
    "        pitch, duration = model(feat.float())\n",
    "\n",
    "        pred_pitch = torch.max(pitch.data, 1)[1].cpu().detach().numpy()[0]\n",
    "        pred_duration = torch.max(duration.data, 1)[1].cpu().detach().numpy()[0]\n",
    "\n",
    "        predicted_notes.append(pred_pitch)\n",
    "        predicted_durations.append(pred_duration)\n",
    "        notesnew = np.append(notesnew[1:], pred_pitch)\n",
    "        timesnew = np.append(timesnew[1:], pred_duration)\n",
    "        \n",
    "        if int(currenttime/12) > currentbeat:\n",
    "            newchord = chordsByBeat[int(currenttime/12)]\n",
    "            chordsnew = np.append(chordsnew[1:], newchord)\n",
    "        currenttime += pred_duration\n",
    "        currentbeat += int(currenttime/12)\n",
    "        \n",
    "        print(predicted_durations)\n",
    "        \n",
    "    notes = np.append(notes, np.array(predicted_notes))\n",
    "    times = np.append(times, np.array(predicted_durations))\n",
    "\n",
    "    return notes, times\n",
    "    \n",
    "def plotTradeFour(file):\n",
    "    notes, times, chords, chordsByBeat = processMidi(file)\n",
    "    \n",
    "    t = time.time()\n",
    "    notes, times = tradeFour(notes, times, chords, chordsByBeat)\n",
    "    print(time.time()-t,'s')\n",
    "    \n",
    "    # plotWithAudio\n",
    "    pm = writeMidi(notes, times, 'treval/newtest.mid', file)\n",
    "    plt.figure(figsize=(8, 4))\n",
    "    plot_piano_roll(pm, LOW, HIGH)\n",
    "    display(IPython.display.Audio(pm.synthesize(fs=44000), rate=44000))   \n",
    "    "
   ]
  },
  {
   "cell_type": "code",
   "execution_count": 0,
   "metadata": {
    "colab": {
     "base_uri": "https://localhost:8080/",
     "height": 596,
     "output_embedded_package_id": "1eCs_57xjw6eJqmDAy4whOvMhN_oF7gC7"
    },
    "colab_type": "code",
    "executionInfo": {
     "elapsed": 3582,
     "status": "ok",
     "timestamp": 1558979993931,
     "user": {
      "displayName": "Paddy Wilson",
      "photoUrl": "https://lh3.googleusercontent.com/-Lq7fKfmUlNg/AAAAAAAAAAI/AAAAAAAACRI/cFf3IdBdoQA/s64/photo.jpg",
      "userId": "00502307669733282628"
     },
     "user_tz": -120
    },
    "id": "jitsFsWbDrna",
    "outputId": "5f452100-38d5-49d8-83e3-b67aa01c25e0",
    "scrolled": false
   },
   "outputs": [
    {
     "data": {
      "text/plain": [
       "Output hidden; open in https://colab.research.google.com to view."
      ]
     },
     "metadata": {},
     "output_type": "display_data"
    }
   ],
   "source": [
    "plotTradeFour('test/testautumnleaves7.mid')"
   ]
  },
  {
   "cell_type": "code",
   "execution_count": 0,
   "metadata": {
    "colab": {
     "base_uri": "https://localhost:8080/",
     "height": 800,
     "output_embedded_package_id": "1rjyqe0XYd0zf0ukdHUT-KmgqjTW2pVos"
    },
    "colab_type": "code",
    "executionInfo": {
     "elapsed": 3665,
     "status": "ok",
     "timestamp": 1558980017183,
     "user": {
      "displayName": "Paddy Wilson",
      "photoUrl": "https://lh3.googleusercontent.com/-Lq7fKfmUlNg/AAAAAAAAAAI/AAAAAAAACRI/cFf3IdBdoQA/s64/photo.jpg",
      "userId": "00502307669733282628"
     },
     "user_tz": -120
    },
    "id": "67HGJoCRDrne",
    "outputId": "928d3608-26b0-4122-9fa5-ec77e17289b2",
    "scrolled": true
   },
   "outputs": [
    {
     "data": {
      "text/plain": [
       "Output hidden; open in https://colab.research.google.com to view."
      ]
     },
     "metadata": {},
     "output_type": "display_data"
    }
   ],
   "source": [
    "plotTradeFour('test/test12bar1.mid')"
   ]
  },
  {
   "cell_type": "markdown",
   "metadata": {
    "colab_type": "text",
    "id": "1z8g4E6UDrnj"
   },
   "source": [
    "## Test A"
   ]
  },
  {
   "cell_type": "code",
   "execution_count": 0,
   "metadata": {
    "colab": {},
    "colab_type": "code",
    "id": "c_NTDPAtDrnk"
   },
   "outputs": [],
   "source": [
    "# test how much % model can learn a melody\n",
    "\n",
    "# define test melody\n",
    "# train network\n",
    "# give percentage of how much it learnt\n",
    "\n",
    "chordsDict={\n",
    "    'C': [1,0,0,0,1,0,0,1,0,0,0,0],\n",
    "    'C7': [1,0,0,0,1,0,0,1,0,0,1,0],\n",
    "    'Cmaj7': [1,0,0,0,1,0,0,1,0,0,0,1]\n",
    "}"
   ]
  },
  {
   "cell_type": "code",
   "execution_count": 0,
   "metadata": {
    "colab": {},
    "colab_type": "code",
    "id": "q3bpvPeiDrnn",
    "outputId": "220e7428-964b-4cfc-cc61-7a60241946f8",
    "scrolled": false
   },
   "outputs": [
    {
     "data": {
      "text/plain": [
       "(15, 16, 31)"
      ]
     },
     "metadata": {
      "tags": []
     },
     "output_type": "display_data"
    },
    {
     "name": "stdout",
     "output_type": "stream",
     "text": [
      "Nr. of params: 30485\n"
     ]
    }
   ],
   "source": [
    "# test data\n",
    "notes = [0,2,4,7,7,4,2,0,0,2,4,7,7,4,2,0,0,5,3,4,5,8,7,5,0,2,4,7,7,4,2,0]\n",
    "times = np.ones(32)*8\n",
    "chord = chordsDict['C']\n",
    "chords = np.repeat(chord, 32).reshape((12,-1)).T\n",
    "encoding = True\n",
    "train_data, train_labels = getInputSequences(notes, times, chords, encoding=encoding, modulation=False, padding=False, seq_len=1)\n",
    "\n",
    "display(train_data.shape)\n",
    "batch_size = 32\n",
    "train_loader = getDataLoader(train_data, train_labels, batch_size=batch_size, shuffle=False)\n",
    "\n",
    "# test model\n",
    "model_params = {\n",
    "    'input_dim': train_data.shape[-1],\n",
    "    'hidden_dim': 64,\n",
    "    'num_layers': 1,\n",
    "    'output_dim_pitch': MELODY,\n",
    "    'output_dim_duration': TIMES,\n",
    "    'dropout': 0\n",
    "}\n",
    "\n",
    "testmodel = LSTM(**model_params)\n",
    "testmodel.to(device)"
   ]
  },
  {
   "cell_type": "code",
   "execution_count": 0,
   "metadata": {
    "colab": {},
    "colab_type": "code",
    "id": "gelE-IxbDrnq",
    "outputId": "714c3e78-b332-46d7-b07c-704a2c735345",
    "scrolled": true
   },
   "outputs": [
    {
     "name": "stdout",
     "output_type": "stream",
     "text": [
      "tensor([2, 2, 0, 2, 0, 0, 0, 0, 0, 0, 2, 2, 0, 0, 0])\n",
      "tensor([0., 5., 3., 4., 5., 8., 7., 5., 0., 2., 4., 7., 7., 4., 2.],\n",
      "       dtype=torch.float64)\n",
      "loss:  7.3719 acc_train:  6 acc_val:  6\n",
      "loss:  1.8806 acc_train:  20 acc_val:  20\n",
      "loss:  1.8009 acc_train:  26 acc_val:  26\n",
      "loss:  1.6949 acc_train:  33 acc_val:  33\n",
      "loss:  1.5203 acc_train:  53 acc_val:  53\n",
      "tensor([0, 5, 8, 4, 5, 8, 7, 5, 0, 7, 4, 7, 5, 4, 7])\n",
      "tensor([0., 5., 3., 4., 5., 8., 7., 5., 0., 2., 4., 7., 7., 4., 2.],\n",
      "       dtype=torch.float64)\n",
      "loss:  1.2851 acc_train:  73 acc_val:  73\n",
      "loss:  1.0255 acc_train:  80 acc_val:  80\n",
      "loss:  0.8072 acc_train:  86 acc_val:  86\n",
      "loss:  0.6302 acc_train:  86 acc_val:  86\n",
      "loss:  0.4656 acc_train:  93 acc_val:  93\n",
      "tensor([0, 5, 3, 4, 5, 8, 7, 5, 0, 2, 4, 7, 7, 4, 2])\n",
      "tensor([0., 5., 3., 4., 5., 8., 7., 5., 0., 2., 4., 7., 7., 4., 2.],\n",
      "       dtype=torch.float64)\n",
      "loss:  0.3227 acc_train:  100 acc_val:  100\n",
      "loss:  0.2176 acc_train:  100 acc_val:  100\n",
      "loss:  0.1449 acc_train:  100 acc_val:  100\n",
      "loss:  0.1 acc_train:  100 acc_val:  100\n",
      "loss:  0.0731 acc_train:  100 acc_val:  100\n",
      "tensor([0, 5, 3, 4, 5, 8, 7, 5, 0, 2, 4, 7, 7, 4, 2])\n",
      "tensor([0., 5., 3., 4., 5., 8., 7., 5., 0., 2., 4., 7., 7., 4., 2.],\n",
      "       dtype=torch.float64)\n",
      "loss:  0.0561 acc_train:  100 acc_val:  100\n",
      "loss:  0.0446 acc_train:  100 acc_val:  100\n",
      "loss:  0.0366 acc_train:  100 acc_val:  100\n",
      "loss:  0.0308 acc_train:  100 acc_val:  100\n",
      "loss:  0.0264 acc_train:  100 acc_val:  100\n",
      "tensor([0, 5, 3, 4, 5, 8, 7, 5, 0, 2, 4, 7, 7, 4, 2])\n",
      "tensor([0., 5., 3., 4., 5., 8., 7., 5., 0., 2., 4., 7., 7., 4., 2.],\n",
      "       dtype=torch.float64)\n",
      "loss:  0.0231 acc_train:  100 acc_val:  100\n",
      "loss:  0.0204 acc_train:  100 acc_val:  100\n",
      "loss:  0.0182 acc_train:  100 acc_val:  100\n",
      "loss:  0.0164 acc_train:  100 acc_val:  100\n",
      "loss:  0.0149 acc_train:  100 acc_val:  100\n",
      "tensor([0, 5, 3, 4, 5, 8, 7, 5, 0, 2, 4, 7, 7, 4, 2])\n",
      "tensor([0., 5., 3., 4., 5., 8., 7., 5., 0., 2., 4., 7., 7., 4., 2.],\n",
      "       dtype=torch.float64)\n",
      "loss:  0.0136 acc_train:  100 acc_val:  100\n",
      "loss:  0.0125 acc_train:  100 acc_val:  100\n",
      "loss:  0.0116 acc_train:  100 acc_val:  100\n",
      "loss:  0.0107 acc_train:  100 acc_val:  100\n",
      "loss:  0.01 acc_train:  100 acc_val:  100\n",
      "tensor([0, 5, 3, 4, 5, 8, 7, 5, 0, 2, 4, 7, 7, 4, 2])\n",
      "tensor([0., 5., 3., 4., 5., 8., 7., 5., 0., 2., 4., 7., 7., 4., 2.],\n",
      "       dtype=torch.float64)\n",
      "loss:  0.0093 acc_train:  100 acc_val:  100\n",
      "loss:  0.0087 acc_train:  100 acc_val:  100\n",
      "loss:  0.0082 acc_train:  100 acc_val:  100\n",
      "loss:  0.0077 acc_train:  100 acc_val:  100\n",
      "loss:  0.0073 acc_train:  100 acc_val:  100\n",
      "tensor([0, 5, 3, 4, 5, 8, 7, 5, 0, 2, 4, 7, 7, 4, 2])\n",
      "tensor([0., 5., 3., 4., 5., 8., 7., 5., 0., 2., 4., 7., 7., 4., 2.],\n",
      "       dtype=torch.float64)\n",
      "loss:  0.0069 acc_train:  100 acc_val:  100\n",
      "loss:  0.0066 acc_train:  100 acc_val:  100\n",
      "loss:  0.0062 acc_train:  100 acc_val:  100\n",
      "loss:  0.0059 acc_train:  100 acc_val:  100\n",
      "loss:  0.0056 acc_train:  100 acc_val:  100\n",
      "tensor([0, 5, 3, 4, 5, 8, 7, 5, 0, 2, 4, 7, 7, 4, 2])\n",
      "tensor([0., 5., 3., 4., 5., 8., 7., 5., 0., 2., 4., 7., 7., 4., 2.],\n",
      "       dtype=torch.float64)\n",
      "loss:  0.0054 acc_train:  100 acc_val:  100\n",
      "loss:  0.0052 acc_train:  100 acc_val:  100\n",
      "loss:  0.0049 acc_train:  100 acc_val:  100\n",
      "loss:  0.0047 acc_train:  100 acc_val:  100\n",
      "loss:  0.0045 acc_train:  100 acc_val:  100\n",
      "tensor([0, 5, 3, 4, 5, 8, 7, 5, 0, 2, 4, 7, 7, 4, 2])\n",
      "tensor([0., 5., 3., 4., 5., 8., 7., 5., 0., 2., 4., 7., 7., 4., 2.],\n",
      "       dtype=torch.float64)\n",
      "loss:  0.0044 acc_train:  100 acc_val:  100\n",
      "loss:  0.0042 acc_train:  100 acc_val:  100\n",
      "loss:  0.004 acc_train:  100 acc_val:  100\n",
      "loss:  0.0039 acc_train:  100 acc_val:  100\n",
      "loss:  0.0037 acc_train:  100 acc_val:  100\n",
      "tensor([0, 5, 3, 4, 5, 8, 7, 5, 0, 2, 4, 7, 7, 4, 2])\n",
      "tensor([0., 5., 3., 4., 5., 8., 7., 5., 0., 2., 4., 7., 7., 4., 2.],\n",
      "       dtype=torch.float64)\n",
      "loss:  0.0036 acc_train:  100 acc_val:  100\n",
      "loss:  0.0035 acc_train:  100 acc_val:  100\n",
      "loss:  0.0034 acc_train:  100 acc_val:  100\n",
      "loss:  0.0033 acc_train:  100 acc_val:  100\n",
      "loss:  0.0032 acc_train:  100 acc_val:  100\n",
      "tensor([0, 5, 3, 4, 5, 8, 7, 5, 0, 2, 4, 7, 7, 4, 2])\n",
      "tensor([0., 5., 3., 4., 5., 8., 7., 5., 0., 2., 4., 7., 7., 4., 2.],\n",
      "       dtype=torch.float64)\n",
      "loss:  0.0031 acc_train:  100 acc_val:  100\n",
      "loss:  0.003 acc_train:  100 acc_val:  100\n",
      "loss:  0.0029 acc_train:  100 acc_val:  100\n",
      "loss:  0.0028 acc_train:  100 acc_val:  100\n",
      "loss:  0.0027 acc_train:  100 acc_val:  100\n",
      "tensor([0, 5, 3, 4, 5, 8, 7, 5, 0, 2, 4, 7, 7, 4, 2])\n",
      "tensor([0., 5., 3., 4., 5., 8., 7., 5., 0., 2., 4., 7., 7., 4., 2.],\n",
      "       dtype=torch.float64)\n",
      "loss:  0.0026 acc_train:  100 acc_val:  100\n",
      "loss:  0.0025 acc_train:  100 acc_val:  100\n",
      "loss:  0.0025 acc_train:  100 acc_val:  100\n",
      "loss:  0.0024 acc_train:  100 acc_val:  100\n",
      "loss:  0.0023 acc_train:  100 acc_val:  100\n",
      "tensor([0, 5, 3, 4, 5, 8, 7, 5, 0, 2, 4, 7, 7, 4, 2])\n",
      "tensor([0., 5., 3., 4., 5., 8., 7., 5., 0., 2., 4., 7., 7., 4., 2.],\n",
      "       dtype=torch.float64)\n",
      "loss:  0.0023 acc_train:  100 acc_val:  100\n",
      "loss:  0.0022 acc_train:  100 acc_val:  100\n",
      "loss:  0.0022 acc_train:  100 acc_val:  100\n",
      "loss:  0.0021 acc_train:  100 acc_val:  100\n",
      "loss:  0.0021 acc_train:  100 acc_val:  100\n",
      "tensor([0, 5, 3, 4, 5, 8, 7, 5, 0, 2, 4, 7, 7, 4, 2])\n",
      "tensor([0., 5., 3., 4., 5., 8., 7., 5., 0., 2., 4., 7., 7., 4., 2.],\n",
      "       dtype=torch.float64)\n",
      "loss:  0.002 acc_train:  100 acc_val:  100\n",
      "loss:  0.002 acc_train:  100 acc_val:  100\n",
      "loss:  0.0019 acc_train:  100 acc_val:  100\n",
      "loss:  0.0019 acc_train:  100 acc_val:  100\n",
      "loss:  0.0018 acc_train:  100 acc_val:  100\n",
      "tensor([0, 5, 3, 4, 5, 8, 7, 5, 0, 2, 4, 7, 7, 4, 2])\n",
      "tensor([0., 5., 3., 4., 5., 8., 7., 5., 0., 2., 4., 7., 7., 4., 2.],\n",
      "       dtype=torch.float64)\n",
      "loss:  0.0018 acc_train:  100 acc_val:  100\n",
      "loss:  0.0017 acc_train:  100 acc_val:  100\n",
      "loss:  0.0017 acc_train:  100 acc_val:  100\n",
      "loss:  0.0017 acc_train:  100 acc_val:  100\n",
      "loss:  0.0016 acc_train:  100 acc_val:  100\n",
      "tensor([0, 5, 3, 4, 5, 8, 7, 5, 0, 2, 4, 7, 7, 4, 2])\n",
      "tensor([0., 5., 3., 4., 5., 8., 7., 5., 0., 2., 4., 7., 7., 4., 2.],\n",
      "       dtype=torch.float64)\n",
      "loss:  0.0016 acc_train:  100 acc_val:  100\n",
      "loss:  0.0016 acc_train:  100 acc_val:  100\n",
      "loss:  0.0015 acc_train:  100 acc_val:  100\n",
      "loss:  0.0015 acc_train:  100 acc_val:  100\n",
      "loss:  0.0015 acc_train:  100 acc_val:  100\n",
      "tensor([0, 5, 3, 4, 5, 8, 7, 5, 0, 2, 4, 7, 7, 4, 2])\n",
      "tensor([0., 5., 3., 4., 5., 8., 7., 5., 0., 2., 4., 7., 7., 4., 2.],\n",
      "       dtype=torch.float64)\n",
      "loss:  0.0014 acc_train:  100 acc_val:  100\n",
      "loss:  0.0014 acc_train:  100 acc_val:  100\n",
      "loss:  0.0014 acc_train:  100 acc_val:  100\n",
      "loss:  0.0013 acc_train:  100 acc_val:  100\n",
      "loss:  0.0013 acc_train:  100 acc_val:  100\n",
      "tensor([0, 5, 3, 4, 5, 8, 7, 5, 0, 2, 4, 7, 7, 4, 2])\n",
      "tensor([0., 5., 3., 4., 5., 8., 7., 5., 0., 2., 4., 7., 7., 4., 2.],\n",
      "       dtype=torch.float64)\n",
      "loss:  0.0013 acc_train:  100 acc_val:  100\n",
      "loss:  0.0013 acc_train:  100 acc_val:  100\n",
      "loss:  0.0012 acc_train:  100 acc_val:  100\n",
      "loss:  0.0012 acc_train:  100 acc_val:  100\n",
      "loss:  0.0012 acc_train:  100 acc_val:  100\n",
      "tensor([0, 5, 3, 4, 5, 8, 7, 5, 0, 2, 4, 7, 7, 4, 2])\n",
      "tensor([0., 5., 3., 4., 5., 8., 7., 5., 0., 2., 4., 7., 7., 4., 2.],\n",
      "       dtype=torch.float64)\n",
      "loss:  0.0012 acc_train:  100 acc_val:  100\n",
      "loss:  0.0012 acc_train:  100 acc_val:  100\n",
      "loss:  0.0011 acc_train:  100 acc_val:  100\n",
      "loss:  0.0011 acc_train:  100 acc_val:  100\n",
      "loss:  0.0011 acc_train:  100 acc_val:  100\n"
     ]
    },
    {
     "data": {
      "image/png": "[encoded data removed]",
      "text/plain": [
       "<Figure size 432x288 with 1 Axes>"
      ]
     },
     "metadata": {
      "needs_background": "light",
      "tags": []
     },
     "output_type": "display_data"
    }
   ],
   "source": [
    "train_params = {\n",
    "    'train_loader': train_loader,\n",
    "    'val_loader': train_loader,\n",
    "    'optim': torch.optim.Adam(testmodel.parameters(), lr=1e-2),\n",
    "    'loss_fn': torch.nn.CrossEntropyLoss(),\n",
    "    'num_epochs': 1000\n",
    "}\n",
    "train(testmodel, **train_params)"
   ]
  },
  {
   "cell_type": "markdown",
   "metadata": {
    "colab_type": "text",
    "id": "Ye3fEMEVDrnu"
   },
   "source": [
    "# Test B"
   ]
  },
  {
   "cell_type": "code",
   "execution_count": 0,
   "metadata": {
    "colab": {},
    "colab_type": "code",
    "id": "ZXuGeoQKDrnv"
   },
   "outputs": [],
   "source": [
    "notes = np.ones(32)*8\n",
    "times = [8]\n",
    "chord = chordsDict['C']\n",
    "chords = np.repeat(chord, 32).reshape((12,-1)).T\n",
    "encoding = True\n",
    "train_data, train_labels = getInputSequences(notes, times, chords, encoding=encoding, modulation=False, padding=False, seq_len=1)\n",
    "\n",
    "display(train_data.shape)\n",
    "batch_size = 32\n",
    "train_loader = getDataLoader(train_data, train_labels, batch_size=batch_size, shuffle=False)\n",
    "\n",
    "# test model\n",
    "model_params = {\n",
    "    'input_dim': train_data.shape[-1],\n",
    "    'hidden_dim': 64,\n",
    "    'num_layers': 1,\n",
    "    'output_dim_pitch': MELODY,\n",
    "    'output_dim_duration': TIMES,\n",
    "    'dropout': 0\n",
    "}\n",
    "\n",
    "testmodel = LSTM(**model_params)\n"
   ]
  },
  {
   "cell_type": "code",
   "execution_count": 0,
   "metadata": {
    "colab": {},
    "colab_type": "code",
    "id": "57ym3Kx-Drnz"
   },
   "outputs": [],
   "source": []
  },
  {
   "cell_type": "code",
   "execution_count": 0,
   "metadata": {
    "colab": {},
    "colab_type": "code",
    "id": "1zPqpYyNDrn3"
   },
   "outputs": [],
   "source": []
  },
  {
   "cell_type": "code",
   "execution_count": 0,
   "metadata": {
    "colab": {},
    "colab_type": "code",
    "id": "fIP8bzP9Drn6"
   },
   "outputs": [],
   "source": []
  },
  {
   "cell_type": "code",
   "execution_count": 0,
   "metadata": {
    "colab": {},
    "colab_type": "code",
    "id": "gfDCQVeKDrn9"
   },
   "outputs": [],
   "source": []
  },
  {
   "cell_type": "code",
   "execution_count": 0,
   "metadata": {
    "colab": {},
    "colab_type": "code",
    "id": "6frqMELbDroA"
   },
   "outputs": [],
   "source": []
  },
  {
   "cell_type": "code",
   "execution_count": 0,
   "metadata": {
    "colab": {},
    "colab_type": "code",
    "id": "7Amv8q3uDroC"
   },
   "outputs": [],
   "source": []
  },
  {
   "cell_type": "code",
   "execution_count": 0,
   "metadata": {
    "colab": {},
    "colab_type": "code",
    "id": "EYwLvorgDroH"
   },
   "outputs": [],
   "source": []
  },
  {
   "cell_type": "markdown",
   "metadata": {
    "colab_type": "text",
    "id": "VYXTGtgZDroJ"
   },
   "source": [
    "# Legacy"
   ]
  },
  {
   "cell_type": "code",
   "execution_count": 0,
   "metadata": {
    "colab": {},
    "colab_type": "code",
    "id": "OsE3JcMZDroK",
    "outputId": "18dccb35-917b-4973-f19e-18885a76ddfa"
   },
   "outputs": [
    {
     "data": {
      "text/plain": [
       "torch.Size([5, 300, 20])"
      ]
     },
     "execution_count": 8,
     "metadata": {
      "tags": []
     },
     "output_type": "execute_result"
    }
   ],
   "source": [
    "# smallest LSTM example\n",
    "rnn = nn.LSTM(input_size=10, hidden_size=20, num_layers=2, batch_first=True) # It was batch_first=True!\n",
    "inputs = torch.randn(5, 300, 10)\n",
    "hidden = (torch.randn(2, 5, 20), torch.randn(2, 5, 20))\n",
    "output, hidden = rnn(inputs, hidden)\n",
    "output.shape"
   ]
  },
  {
   "cell_type": "code",
   "execution_count": 0,
   "metadata": {
    "colab": {},
    "colab_type": "code",
    "id": "NLq1g6PHDroN"
   },
   "outputs": [],
   "source": [
    "def standardize(data):\n",
    "    \"\"\" Move {0,1} data to {-1,1}, then standardize. Standardize data in [0,1]\"\"\"\n",
    "    data = data.astype(np.float32)\n",
    "    standardized_data = (data - np.mean(data, axis=0)[None,:,:]) / np.std(data, axis=0)[None,:,:]\n",
    "    return standardized_data"
   ]
  },
  {
   "cell_type": "code",
   "execution_count": 0,
   "metadata": {
    "colab": {},
    "colab_type": "code",
    "id": "m4CGABNGDroP"
   },
   "outputs": [],
   "source": []
  }
 ],
 "metadata": {
  "accelerator": "GPU",
  "colab": {
   "collapsed_sections": [],
   "name": "JamBuddyDAC.ipynb",
   "provenance": [],
   "version": "0.3.2"
  },
  "kernelspec": {
   "display_name": "Python 3",
   "language": "python",
   "name": "python3"
  },
  "language_info": {
   "codemirror_mode": {
    "name": "ipython",
    "version": 3
   },
   "file_extension": ".py",
   "mimetype": "text/x-python",
   "name": "python",
   "nbconvert_exporter": "python",
   "pygments_lexer": "ipython3",
   "version": "3.6.7"
  }
 },
 "nbformat": 4,
 "nbformat_minor": 1
}
